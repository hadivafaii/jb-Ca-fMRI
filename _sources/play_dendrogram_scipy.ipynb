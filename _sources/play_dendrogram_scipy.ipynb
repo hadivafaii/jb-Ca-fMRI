{
 "cells": [
  {
   "cell_type": "code",
   "execution_count": 1,
   "metadata": {
    "tags": [
     "hide-input"
    ]
   },
   "outputs": [],
   "source": [
    "# HIDE CODE\n",
    "\n",
    "\n",
    "import re\n",
    "import os\n",
    "import sys\n",
    "import collections\n",
    "import numpy as np\n",
    "import pandas as pd\n",
    "import nibabel as nib\n",
    "from pathlib import Path\n",
    "from os.path import join as pjoin\n",
    "from scipy import stats as sp_stats\n",
    "from tqdm.notebook import tqdm\n",
    "\n",
    "%matplotlib inline\n",
    "\n",
    "import matplotlib.pyplot as plt\n",
    "import seaborn as sns\n",
    "sns.set_style('whitegrid')\n",
    "\n",
    "\n",
    "# GitHub\n",
    "git_path = pjoin(os.environ['HOME'], 'Dropbox/git/Ca-fMRI/')\n",
    "sys.path.insert(0, git_path)\n",
    "from simulation.simulation import *\n",
    "from utils.plotting import *\n",
    "from utils.processing import *\n",
    "from model.configuration import Config"
   ]
  },
  {
   "cell_type": "code",
   "execution_count": 2,
   "metadata": {
    "tags": [
     "hide-input"
    ]
   },
   "outputs": [],
   "source": [
    "# HIDE CODE\n",
    "\n",
    "\n",
    "def filter_islands(partition, atlas, node_labels, min_com_size: int = 3):\n",
    "    coms_ctr = collections.Counter(partition.values())\n",
    "    \n",
    "    good_com_idxs = zip(*filter(lambda x: x[1] > min_com_size, coms_ctr.most_common()))\n",
    "    good_com_idxs = sorted(tuple(good_com_idxs)[0])\n",
    "    bad_com_idxs = [item for item in set(partition.values()) if item not in good_com_idxs]\n",
    "\n",
    "    comm_dict = collections.defaultdict(list)\n",
    "    for k, v in partition.items():\n",
    "        comm_dict[v].append(k)\n",
    "    comm_dict = dict(sorted(comm_dict.items()))\n",
    "\n",
    "    comm_mat = np.ones(atlas.shape) * -1\n",
    "    for node, com_idx in partition.items():\n",
    "        region_id = node_labels[node]\n",
    "        if com_idx in good_com_idxs:\n",
    "            comm_mat[atlas == region_id] = good_com_idxs.index(com_idx)\n",
    "        else:\n",
    "            comm_mat[atlas == region_id] = np.nan\n",
    "    \n",
    "    output = {\n",
    "        'good_com_idxs': good_com_idxs,\n",
    "        'bad_com_idxs': bad_com_idxs,\n",
    "        'comm_dict': comm_dict,\n",
    "        'comm_mat': comm_mat,\n",
    "    }\n",
    "    return output\n",
    "\n",
    "\n",
    "def plot_louvain_communities(\n",
    "    pearson: dict,\n",
    "    spearman: dict,\n",
    "    atlas: np.ndarray,\n",
    "    contour: np.ndarray,\n",
    "    modularities: dict,\n",
    "    selected_idxs: list,\n",
    "    percentile: int = 20,\n",
    "    min_com_size: int = 3,\n",
    "    figsize=(12, 4.5),\n",
    "    colorbar=False, ):\n",
    "\n",
    "    x0, y0 = tuple(zip(*modularities.items()))\n",
    "    best_idx = np.argmax(y0)\n",
    "    best_res = x0[best_idx]\n",
    "    \n",
    "    sns.set_style('white')\n",
    "    plot_idxs = sorted(selected_idxs + [best_idx])\n",
    "    fig, axes = plt.subplots(2, len(plot_idxs), figsize=figsize)\n",
    "\n",
    "    for ii, idx in enumerate(plot_idxs):\n",
    "        # pearson\n",
    "        g = nx.from_numpy_matrix(pearson[percentile])\n",
    "        coms = cdlib_algorithms.louvain(\n",
    "            g_original=g,\n",
    "            weight='weight',\n",
    "            resolution=x0[idx],\n",
    "            randomize=False,\n",
    "        )\n",
    "        partition = convert('community', 'partition', community=coms.communities)\n",
    "        output = filter_islands(partition, atlas, node_labels, min_com_size=min_com_size)\n",
    "        q = nx_comm.modularity(g, communities=coms.communities)\n",
    "\n",
    "        data2plot = np.ma.masked_where(contour, output['comm_mat'])\n",
    "        im = axes[0, ii].imshow(data2plot, cmap='Spectral_r', interpolation='none')\n",
    "        if colorbar:\n",
    "            plt.colorbar(im, ax=axes[0, ii], shrink=0.7)\n",
    "        msg = 'Q = {:.3f},  # com = {:d}'\n",
    "        msg = msg.format(q, len(np.unique(output['comm_mat'][output['comm_mat']>-1])))\n",
    "        axes[0, ii].set_title(msg, y=1.03)\n",
    "        \n",
    "        # spearman\n",
    "        g = nx.from_numpy_matrix(spearman[percentile])\n",
    "        coms = cdlib_algorithms.louvain(\n",
    "            g_original=g,\n",
    "            weight='weight',\n",
    "            resolution=x0[idx],\n",
    "            randomize=False,\n",
    "        )\n",
    "        partition = convert('community', 'partition', community=coms.communities)\n",
    "        output = filter_islands(partition, atlas, node_labels, min_com_size=min_com_size)\n",
    "        q = nx_comm.modularity(g, communities=coms.communities)\n",
    "    \n",
    "        data2plot = np.ma.masked_where(contour, output['comm_mat'])\n",
    "        im = axes[1, ii].imshow(data2plot, cmap='RdYlBu_r', interpolation='none')\n",
    "        if colorbar:\n",
    "            plt.colorbar(im, ax=axes[1, ii], shrink=0.7)\n",
    "        msg = 'res = {:.3f}\\n\\nQ = {:.3f},  # com = {:d}'\n",
    "        msg = msg.format(x0[idx], q, len(np.unique(output['comm_mat'][output['comm_mat']>-1])))\n",
    "        axes[1, ii].set_title(msg, y=1.03)\n",
    "        \n",
    "\n",
    "        if ii == 0:\n",
    "            msg1 = 'pearson\\n(th = {:.2f})\\n'\n",
    "            msg1 = msg1.format(np.min(pearson[percentile][pearson[percentile] > 0]))\n",
    "            msg2 = 'spearman\\n(th = {:.2f})\\n'\n",
    "            msg2 = msg2.format(np.min(spearman[percentile][spearman[percentile] > 0]))\n",
    "            axes[0, ii].set_ylabel(msg1, fontsize=12)\n",
    "            axes[1, ii].set_ylabel(msg2, fontsize=12)\n",
    "            \n",
    "        for j in range(2):\n",
    "            axes[j, ii].set_xticks([])\n",
    "            axes[j, ii].set_yticks([])\n",
    "\n",
    "    fig.tight_layout()\n",
    "    plt.show()\n",
    "    \n",
    "    return fig, axes\n",
    "\n",
    "\n",
    "\n",
    "def plot_leiden_communities(\n",
    "    pearson: dict,\n",
    "    spearman: dict,\n",
    "    atlas: np.ndarray,\n",
    "    contour: np.ndarray,\n",
    "    figsize=None,\n",
    "    colorbar=False,):\n",
    "    \n",
    "    percentiles = list(spearman.keys())\n",
    "    \n",
    "    sns.set_style('white')\n",
    "    figsize = (5.2, 2*len(percentiles)) if figsize is None else figsize\n",
    "    fig, axes = plt.subplots(len(percentiles), 2, figsize=figsize)\n",
    "\n",
    "    for ii, perc in enumerate(sorted(percentiles, reverse=True)):\n",
    "        # pearson\n",
    "        g = nx.from_numpy_matrix(pearson[perc])\n",
    "        coms = cdlib_algorithms.leiden(g, weights='weight')\n",
    "        partition = convert('community', 'partition', community=coms.communities)\n",
    "        output = filter_islands(partition, atlas, node_labels, min_com_size=3)\n",
    "        q = nx_comm.modularity(g, communities=coms.communities)\n",
    "\n",
    "        data2plot = np.ma.masked_where(contour, output['comm_mat'])\n",
    "        im = axes[ii, 0].imshow(data2plot, cmap='Spectral_r', interpolation='none')\n",
    "        if colorbar:\n",
    "            plt.colorbar(im, ax=axes[ii, 0], shrink=0.9)\n",
    "        if ii == 0:\n",
    "            msg = 'Pearson\\n\\n'\n",
    "        else:\n",
    "            msg = ''\n",
    "        msg += 'Q = {:.3f},  # com = {:d}'\n",
    "        msg = msg.format(q, len(np.unique(output['comm_mat'][output['comm_mat']>-1])))\n",
    "        axes[ii, 0].set_title(msg, fontsize=12, y=1.03)\n",
    "        \n",
    "        # spearman\n",
    "        g = nx.from_numpy_matrix(spearman[perc])\n",
    "        coms = cdlib_algorithms.leiden(g, weights='weight')\n",
    "        partition = convert('community', 'partition', community=coms.communities)\n",
    "        output = filter_islands(partition, atlas, node_labels, min_com_size=3)\n",
    "        q = nx_comm.modularity(g, communities=coms.communities)\n",
    "        \n",
    "        data2plot = np.ma.masked_where(contour, output['comm_mat'])\n",
    "        im = axes[ii, 1].imshow(data2plot, cmap='RdYlBu_r', interpolation='none')\n",
    "        if colorbar:\n",
    "            plt.colorbar(im, ax=axes[ii, 1], shrink=0.9)\n",
    "        if ii == 0:\n",
    "            msg = 'Spearman\\n\\n'\n",
    "        else:\n",
    "            msg = ''\n",
    "        msg += 'Q = {:.3f},  # com = {:d}'\n",
    "        msg = msg.format(q, len(np.unique(output['comm_mat'][output['comm_mat']>-1])))\n",
    "        axes[ii, 1].set_title(msg, fontsize=12, y=1.03)\n",
    "        axes[ii, 1].set_ylabel('Using {:d} {:s} \\n'.format(perc, '%'), fontsize=12)\n",
    "        \n",
    "        for j in range(2):\n",
    "            axes[ii, j].set_xticks([])\n",
    "            axes[ii, j].set_yticks([])\n",
    "\n",
    "    fig.tight_layout()\n",
    "    plt.show()\n",
    "    \n",
    "    return fig, axes\n",
    "\n",
    "\n",
    "\n",
    "from skimage.feature import canny\n",
    "import functools\n",
    "\n",
    "\n",
    "def organize_atlas(\n",
    "    organized_data: dict,\n",
    "    include: Union[range, List[int]] = None,\n",
    "    config: Config = None,):\n",
    "    \n",
    "    config = Config() if config is None else config\n",
    "    regions = np.unique(organized_data['atlas'])\n",
    "    regions = {i: config.region_labels[i] for i in regions if i > 0}\n",
    "    \n",
    "    include = list(regions.keys())[:19] if include is None else include\n",
    "    exclude = [item for item in regions if item not in include]\n",
    "    mapping = {i+1: regions[item].split('(')[0].strip() for i, item in enumerate(include)}\n",
    "\n",
    "    atlas = organized_data['atlas'].copy()\n",
    "    cond = functools.reduce(np.logical_or, [atlas == r for r in exclude])\n",
    "    x = np.ma.masked_where(cond, atlas)\n",
    "\n",
    "    for i, true_i in zip(mapping, include):\n",
    "        x[x == true_i] = i\n",
    "\n",
    "    mapping[0] = 'background'\n",
    "    mapping = dict(sorted(mapping.items()))\n",
    "\n",
    "    contour = atlas.copy().astype(float)\n",
    "    for i, true_i in enumerate(regions):\n",
    "        contour[contour == true_i] = i\n",
    "    contour = canny(contour, sigma=1e-10)\n",
    "\n",
    "    output = {\n",
    "        'regions': regions,\n",
    "        'mapping': mapping,\n",
    "        'atlas': atlas,\n",
    "        'atlas_limited': x,\n",
    "        'contour': contour,\n",
    "    }\n",
    "    return output"
   ]
  },
  {
   "cell_type": "markdown",
   "metadata": {},
   "source": [
    "## Load"
   ]
  },
  {
   "cell_type": "code",
   "execution_count": 122,
   "metadata": {},
   "outputs": [],
   "source": [
    "config = Config()\n",
    "\n",
    "subject = 6\n",
    "session = 1\n",
    "num_kmeans_regions = 256\n",
    "\n",
    "lowcut = 0.002\n",
    "highcut = 0.9\n",
    "order = 2\n",
    "\n",
    "df = pd.DataFrame()\n",
    "df_bp = pd.DataFrame()\n",
    "for run in [1, 3, 5, 7]:\n",
    "    load = load_organized_data(\n",
    "        folder='atlas-{:d}_unfiltered_unnormalized'.format(num_kmeans_regions),\n",
    "        config=config,\n",
    "        subject=subject,\n",
    "        session=session,\n",
    "        run=run,\n",
    "    )\n",
    "    ca = {k: v for k, v in load['ca'].items()}\n",
    "    ca_bp = {\n",
    "        k: apply_bandpass(\n",
    "            x=v,\n",
    "            fs=config.ca_fs,\n",
    "            lowcut=lowcut,\n",
    "            highcut=highcut,\n",
    "            order=order, )\n",
    "        for k, v in load['ca'].items()\n",
    "    }\n",
    "    \n",
    "    # normalize\n",
    "    mean = np.mean([item.mean() for item in ca.values()])\n",
    "    sd = np.mean([item.std() for item in ca.values()])\n",
    "    ca_n = {k: (v - mean) / sd for k, v in ca.items()}\n",
    "    \n",
    "    mean = np.mean([item.mean() for item in ca_bp.values()])\n",
    "    sd = np.mean([item.std() for item in ca_bp.values()])\n",
    "    ca_bp_n = {k: (v - mean) / sd for k, v in ca_bp.items()}\n",
    "\n",
    "    df = pd.concat([df, pd.DataFrame.from_dict(ca_n)])\n",
    "    df_bp = pd.concat([df_bp, pd.DataFrame.from_dict(ca_bp_n)])\n",
    "\n",
    "node_labels = df.columns.values.tolist()\n",
    "node_labels = {i: lbl for i, lbl in enumerate(node_labels)}\n",
    "\n",
    "atls_org = organize_atlas(load)"
   ]
  },
  {
   "cell_type": "code",
   "execution_count": null,
   "metadata": {},
   "outputs": [],
   "source": []
  },
  {
   "cell_type": "code",
   "execution_count": null,
   "metadata": {},
   "outputs": [],
   "source": []
  },
  {
   "cell_type": "markdown",
   "metadata": {},
   "source": [
    "## Hierarchical clustering"
   ]
  },
  {
   "cell_type": "code",
   "execution_count": 123,
   "metadata": {},
   "outputs": [],
   "source": [
    "from scipy.spatial.distance import pdist\n",
    "from scipy.cluster import hierarchy as sp_hier"
   ]
  },
  {
   "cell_type": "code",
   "execution_count": 124,
   "metadata": {},
   "outputs": [],
   "source": [
    "x_dict = {k: np.array(list(v.values())).reshape(1, -1) for k, v in df.to_dict().items()}"
   ]
  },
  {
   "cell_type": "code",
   "execution_count": 125,
   "metadata": {},
   "outputs": [
    {
     "data": {
      "text/plain": [
       "((256, 5500), (32640,), (255, 4))"
      ]
     },
     "execution_count": 125,
     "metadata": {},
     "output_type": "execute_result"
    }
   ],
   "source": [
    "x = np.concatenate(list(x_dict.values()))\n",
    "y = pdist(X=x, metric='correlation')\n",
    "z = sp_hier.linkage(y, method='ward', metric='euclidean', optimal_ordering=False)\n",
    "\n",
    "x.shape, y.shape, z.shape"
   ]
  },
  {
   "cell_type": "code",
   "execution_count": null,
   "metadata": {},
   "outputs": [],
   "source": []
  },
  {
   "cell_type": "code",
   "execution_count": 176,
   "metadata": {
    "scrolled": false
   },
   "outputs": [
    {
     "data": {
      "image/png": "[encoded data removed]",
      "text/plain": [
       "<Figure size 972x432 with 1 Axes>"
      ]
     },
     "metadata": {},
     "output_type": "display_data"
    }
   ],
   "source": [
    "fig, ax = plt.subplots(1, 1, figsize=(13.5, 6))\n",
    "\n",
    "dn = sp_hier.dendrogram(\n",
    "    Z=z,\n",
    "    p=30,\n",
    "    truncate_mode=None,\n",
    "    color_threshold=None,\n",
    "    get_leaves=True,\n",
    "    orientation='top',\n",
    "    labels=list(x_dict.keys()),\n",
    "    count_sort=False,\n",
    "    distance_sort=False,\n",
    "    show_leaf_counts=True,\n",
    "    no_plot=False,\n",
    "    no_labels=True,\n",
    "    leaf_font_size=None,\n",
    "    leaf_rotation=-90,\n",
    "    leaf_label_func=None,\n",
    "    show_contracted=False,\n",
    "    link_color_func=None,\n",
    "    ax=ax,\n",
    "    above_threshold_color='C0',\n",
    ")"
   ]
  },
  {
   "cell_type": "code",
   "execution_count": null,
   "metadata": {},
   "outputs": [],
   "source": []
  },
  {
   "cell_type": "code",
   "execution_count": 177,
   "metadata": {
    "scrolled": true
   },
   "outputs": [],
   "source": [
    "partition = {node: color for node, color in zip(dn['leaves'], dn['leaves_color_list'])}\n",
    "color2idx = {c: i for i, c in enumerate(set(partition.values()))}\n",
    "\n",
    "partition = {node: color2idx[c] for node, c in partition.items()}\n",
    "partition = dict(sorted(partition.items()))"
   ]
  },
  {
   "cell_type": "code",
   "execution_count": null,
   "metadata": {},
   "outputs": [],
   "source": []
  },
  {
   "cell_type": "code",
   "execution_count": 178,
   "metadata": {},
   "outputs": [
    {
     "data": {
      "image/png": "[encoded data removed]",
      "text/plain": [
       "<Figure size 432x288 with 1 Axes>"
      ]
     },
     "metadata": {},
     "output_type": "display_data"
    }
   ],
   "source": [
    "cortex = np.ones(load['atlas_kmeans'].shape) * -1\n",
    "for node, comm_idx in partition.items():\n",
    "    region_id = node_labels[node]\n",
    "    cortex[load['atlas_kmeans'] == region_id] = comm_idx\n",
    "    \n",
    "data2plt = np.ma.masked_where(~load['mask'], cortex)\n",
    "plt.imshow(data2plt, cmap='Spectral', interpolation='none')\n",
    "plt.axis('off')\n",
    "plt.show()"
   ]
  },
  {
   "cell_type": "code",
   "execution_count": null,
   "metadata": {},
   "outputs": [],
   "source": []
  },
  {
   "cell_type": "code",
   "execution_count": 181,
   "metadata": {},
   "outputs": [],
   "source": [
    "def plot_tree(dn, pos=None, figsize=(12, 5)):\n",
    "    icoord = np.array(dn['icoord'])\n",
    "    dcoord = np.array(dn['dcoord'])\n",
    "    color_list = np.array(dn['color_list'])\n",
    "    xmin, xmax = icoord.min(), icoord.max()\n",
    "    ymin, ymax = dcoord.min(), dcoord.max()\n",
    "\n",
    "    if pos:\n",
    "        icoord = icoord[pos]\n",
    "        dcoord = dcoord[pos]\n",
    "        color_list = color_list[pos]\n",
    "    \n",
    "    fig, ax = plt.subplots(1, 1, figsize=figsize)\n",
    "    for xs, ys, color in zip(icoord, dcoord, color_list):\n",
    "        ax.plot(xs, ys, color)\n",
    "    ax.set_xlim(xmin - 0.02 * xmax, xmax + 0.02 * xmax)\n",
    "    ax.set_ylim(ymin, ymax + 0.05*abs(ymax))\n",
    "    plt.show()\n",
    "    \n",
    "    return fig, ax"
   ]
  },
  {
   "cell_type": "code",
   "execution_count": 183,
   "metadata": {},
   "outputs": [
    {
     "data": {
      "image/png": "[encoded data removed]",
      "text/plain": [
       "<Figure size 864x360 with 1 Axes>"
      ]
     },
     "metadata": {},
     "output_type": "display_data"
    }
   ],
   "source": [
    "fig, ax = plot_tree(dn)"
   ]
  },
  {
   "cell_type": "code",
   "execution_count": null,
   "metadata": {},
   "outputs": [],
   "source": []
  },
  {
   "cell_type": "code",
   "execution_count": null,
   "metadata": {},
   "outputs": [],
   "source": []
  },
  {
   "cell_type": "code",
   "execution_count": null,
   "metadata": {},
   "outputs": [],
   "source": []
  }
 ],
 "metadata": {
  "kernelspec": {
   "display_name": "Python 3",
   "language": "python",
   "name": "python3"
  },
  "language_info": {
   "codemirror_mode": {
    "name": "ipython",
    "version": 3
   },
   "file_extension": ".py",
   "mimetype": "text/x-python",
   "name": "python",
   "nbconvert_exporter": "python",
   "pygments_lexer": "ipython3",
   "version": "3.8.3"
  }
 },
 "nbformat": 4,
 "nbformat_minor": 2
}
