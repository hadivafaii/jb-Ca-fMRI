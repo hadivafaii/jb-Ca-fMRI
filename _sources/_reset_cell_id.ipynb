{
 "cells": [
  {
   "cell_type": "code",
   "execution_count": 1,
   "metadata": {},
   "outputs": [
    {
     "name": "stdout",
     "output_type": "stream",
     "text": [
      "./nb/jun21/jun-??-2021.ipynb,\t# duplicates: 34\n"
     ]
    }
   ],
   "source": [
    "import uuid\n",
    "import nbformat as nbf\n",
    "from glob import glob\n",
    "\n",
    "def get_cell_id(id_length=8):\n",
    "    return uuid.uuid4().hex[:id_length]\n",
    "\n",
    "nb_name = 'jun'\n",
    "notebooks = list(filter(lambda x: nb_name in x, glob(\"./nb/**/*.ipynb\", recursive=True)))\n",
    "\n",
    "# nb_name = 'register'\n",
    "# notebooks = list(filter(lambda x: nb_name in x, glob(\"./*.ipynb\", recursive=True)))\n",
    "\n",
    "for ipath in sorted(notebooks):\n",
    "    ntbk = nbf.read(ipath, nbf.NO_CONVERT)\n",
    "    \n",
    "    cell_ids = []\n",
    "    for cell in ntbk.cells:\n",
    "        cell_ids.append(cell['id'])\n",
    "\n",
    "    if not len(cell_ids) == len(set(cell_ids)):\n",
    "        msg = '{:s},\\t# duplicates: {:d}'\n",
    "        msg = msg.format(ipath, len(cell_ids) - len(set(cell_ids)))\n",
    "        print(msg)\n",
    "        \n",
    "        for cell in ntbk.cells:\n",
    "            cell['id'] = get_cell_id()\n",
    "\n",
    "        nbf.write(ntbk, ipath)"
   ]
  },
  {
   "cell_type": "code",
   "execution_count": null,
   "metadata": {},
   "outputs": [],
   "source": []
  },
  {
   "cell_type": "code",
   "execution_count": null,
   "metadata": {},
   "outputs": [],
   "source": []
  }
 ],
 "metadata": {
  "kernelspec": {
   "display_name": "Python 3",
   "language": "python",
   "name": "python3"
  },
  "language_info": {
   "codemirror_mode": {
    "name": "ipython",
    "version": 3
   },
   "file_extension": ".py",
   "mimetype": "text/x-python",
   "name": "python",
   "nbconvert_exporter": "python",
   "pygments_lexer": "ipython3",
   "version": "3.8.3"
  }
 },
 "nbformat": 4,
 "nbformat_minor": 4
}
