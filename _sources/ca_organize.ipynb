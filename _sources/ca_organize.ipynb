{
 "cells": [
  {
   "cell_type": "code",
   "execution_count": 1,
   "metadata": {
    "tags": [
     "hide-input"
    ]
   },
   "outputs": [],
   "source": [
    "# HIDE CODE\n",
    "\n",
    "\n",
    "import re\n",
    "import os\n",
    "import sys\n",
    "import numpy as np\n",
    "import pandas as pd\n",
    "import nibabel as nib\n",
    "from pathlib import Path\n",
    "from os.path import join as pjoin\n",
    "from scipy import stats as sp_stats\n",
    "from tqdm.notebook import tqdm\n",
    "import matplotlib.pyplot as plt\n",
    "import seaborn as sns\n",
    "sns.set_style('whitegrid')\n",
    "\n",
    "\n",
    "# GitHub\n",
    "git_path = pjoin(os.environ['HOME'], 'Dropbox/git/Ca-fMRI/')\n",
    "sys.path.insert(0, git_path)\n",
    "from simulation.simulation import *\n",
    "from utils.plotting import *\n",
    "from utils.processing import *\n",
    "from model.configuration import Config"
   ]
  },
  {
   "cell_type": "code",
   "execution_count": null,
   "metadata": {},
   "outputs": [],
   "source": []
  },
  {
   "cell_type": "code",
   "execution_count": 2,
   "metadata": {},
   "outputs": [
    {
     "data": {
      "text/plain": [
       "{'base_dir': '/home/hadi/Documents/Ca-fMRI',\n",
       " 'run_duration': 600,\n",
       " 'exclude': 50,\n",
       " 'ca_fs': 10,\n",
       " 'bold_fs': 1,\n",
       " 'num_subjects': 10,\n",
       " 'num_sessions': 3,\n",
       " 'num_runs': 7,\n",
       " 'atlas_mode': 'allen',\n",
       " 'num_regions': 256,\n",
       " 'ws_dir': '/home/hadi/Documents/Ca-fMRI',\n",
       " 'processed_dir': '/home/hadi/Documents/Ca-fMRI/processed',\n",
       " 'download_dir': '/mnt/storage/hadi/Ca-fMRI',\n",
       " 'raw_dir': '/mnt/storage/hadi/Ca-fMRI/raw',\n",
       " 'npy_dir': '/mnt/storage/hadi/Ca-fMRI/npy',\n",
       " 'labels': {1: 'R-Frontal pole, cerebral cortex (FRP,184)',\n",
       "  2: 'R-Primary motor area (MOp,985)',\n",
       "  3: 'R-Secondary motor area (MOs,993)',\n",
       "  4: 'R-Primary somatosensory area, nose (SSp-n,353)',\n",
       "  5: 'R-Primary somatosensory area, barrel field (SSp-bfd,329)',\n",
       "  6: 'R-Primary somatosensory area, lower limb (SSp-ll,337)',\n",
       "  7: 'R-Primary somatosensory area, mouth (SSp-m,345)',\n",
       "  8: 'R-Primary somatosensory area, upper limb (SSp-ul,369)',\n",
       "  9: 'R-Primary somatosensory area, trunk (SSp-tr,361)',\n",
       "  10: 'R-Primary somatosensory area, unassigned (SSp-un,182305689)',\n",
       "  11: 'R-Supplemental somatosensory area (SSs,378)',\n",
       "  12: 'R-Gustatory areas (GU,1057)',\n",
       "  13: 'R-Visceral area (VISC,677)',\n",
       "  14: 'R-Dorsal auditory area (AUDd,1011)',\n",
       "  15: 'R-Primary auditory area (AUDp,1002)',\n",
       "  16: 'R-Posterior auditory area (AUDpo,1027)',\n",
       "  17: 'R-Ventral auditory area (AUDv,1018)',\n",
       "  18: 'R-Anterolateral visual area (VISal,402)',\n",
       "  19: 'R-Anteromedial visual area (VISam,394)',\n",
       "  20: 'R-Lateral visual area (VISl,409)',\n",
       "  21: 'R-Primary visual area (VISp,385)',\n",
       "  22: 'R-Posterolateral visual area (VISpl,425)',\n",
       "  23: 'R-posteromedial visual area (VISpm,533)',\n",
       "  24: 'R-Anterior area (VISa,312782546)',\n",
       "  25: 'R-Laterointermediate area (VISli,312782574)',\n",
       "  26: 'R-Rostrolateral visual area (VISrl,417)',\n",
       "  27: 'R-Postrhinal area (VISpor,312782628)',\n",
       "  28: 'R-Anterior cingulate area, dorsal part (ACAd,39)',\n",
       "  29: 'R-Anterior cingulate area, ventral part (ACAv,48)',\n",
       "  30: 'R-Prelimbic area (PL,972)',\n",
       "  31: 'R-Infralimbic area (ILA,44)',\n",
       "  32: 'R-Orbital area, lateral part (ORBl,723)',\n",
       "  33: 'R-Orbital area, medial part (ORBm,731)',\n",
       "  34: 'R-Orbital area, ventrolateral part (ORBvl,746)',\n",
       "  35: 'R-Agranular insular area, dorsal part (AId,104)',\n",
       "  36: 'R-Agranular insular area, posterior part (AIp,111)',\n",
       "  37: 'R-Agranular insular area, ventral part (AIv,119)',\n",
       "  38: 'R-Retrosplenial area, lateral agranular part (RSPagl,894)',\n",
       "  39: 'R-Retrosplenial area, dorsal part (RSPd,879)',\n",
       "  40: 'R-Retrosplenial area, ventral part (RSPv,886)',\n",
       "  41: 'R-Temporal association areas (TEa,541)',\n",
       "  42: 'R-Perirhinal area (PERI,922)',\n",
       "  43: 'R-Ectorhinal area (ECT,895)',\n",
       "  44: 'R-Main olfactory bulb (MOB,507)',\n",
       "  45: 'R-Accessory olfactory bulb, glomerular layer (AOBgl,188)',\n",
       "  46: 'R-Accessory olfactory bulb, granular layer (AOBgr,196)',\n",
       "  47: 'R-Accessory olfactory bulb, mitral layer (AOBmi,204)',\n",
       "  48: 'R-Nucleus of the lateral olfactory tract, layer 3 (NLOT3,1139)',\n",
       "  49: 'R-Anterior olfactory nucleus (AON,159)',\n",
       "  50: 'R-Nucleus of the lateral olfactory tract, molecular layer (NLOT1,260)',\n",
       "  51: 'R-Postpiriform transition area (TR,566)',\n",
       "  52: 'R-Taenia tecta (TT,589)',\n",
       "  53: 'R-Cortical amygdalar area, anterior part (COAa,639)',\n",
       "  54: 'R-Cortical amygdalar area, posterior part (COAp,647)',\n",
       "  55: 'R-Piriform-amygdalar area (PAA,788)',\n",
       "  56: 'R-Dorsal peduncular area (DP,814)',\n",
       "  57: 'R-Piriform area (PIR,961)',\n",
       "  58: 'R-Main olfactory bulb (MOB,507)',\n",
       "  59: 'R-Field CA1 (CA1,382)',\n",
       "  60: 'R-Field CA2 (CA2,423)',\n",
       "  61: 'R-Field CA3 (CA3,463)',\n",
       "  62: 'R-Dentate gyrus, molecular layer (DG-mo,10703)',\n",
       "  63: 'R-Dentate gyrus, polymorph layer (DG-po,10704)',\n",
       "  64: 'R-Dentate gyrus, granule cell layer (DG-sg,632)',\n",
       "  65: 'R-Fasciola cinerea (FC,982)',\n",
       "  66: 'R-Subiculum (SUB,502)',\n",
       "  67: 'R-Parasubiculum (PAR,843)',\n",
       "  68: 'R-Entorhinal area, lateral part (ENTl,918)',\n",
       "  69: 'R-Entorhinal area, medial part, dorsal zone (ENTm,926)',\n",
       "  70: 'R-Entorhinal area, medial part, ventral zone (ENTmv,934)',\n",
       "  71: 'R-Postsubiculum (POST,1037)',\n",
       "  72: 'R-Presubiculum (PRE,1084)',\n",
       "  73: 'R-Claustrum (CLA,583)',\n",
       "  74: 'R-Endopiriform nucleus (EP,942)',\n",
       "  75: 'R-Lateral amygdalar nucleus (LA,131)',\n",
       "  76: 'R-Basolateral amygdalar nucleus, anterior part (BLAa,303)',\n",
       "  77: 'R-Basolateral amygdalar nucleus, posterior part (BLAp,311)',\n",
       "  78: 'R-Basomedial amygdalar nucleus (BMA,319)',\n",
       "  79: 'R-Basolateral amygdalar nucleus, ventral part (BLAv,451)',\n",
       "  80: 'R-Posterior amygdalar nucleus (PA,780)',\n",
       "  81: 'R-Caudoputamen (CP,672)',\n",
       "  82: 'R-Nucleus accumbens (ACB,56)',\n",
       "  83: 'R-Olfactory tubercle (OT,754)',\n",
       "  84: 'R-Lateral septal nucleus, caudal (caudodorsal) part (LSc,250)',\n",
       "  85: 'R-Septohippocampal nucleus (SH,333)',\n",
       "  86: 'R-Striatum-like amygdalar nuclei (sAMY,278)',\n",
       "  87: 'R-Lateral septal nucleus, rostral (rostroventral) part (LSr,258)',\n",
       "  88: 'R-Lateral septal nucleus, ventral part (LSv,266)',\n",
       "  89: 'R-Septofimbrial nucleus (SF,310)',\n",
       "  90: 'R-Fundus of striatum (FS,998)',\n",
       "  91: 'R-Globus pallidus, external segment (GPe,1022)',\n",
       "  92: 'R-Globus pallidus, internal segment (GPi,1031)',\n",
       "  93: 'R-Pallidum, caudal region (PALc,809)',\n",
       "  94: 'R-Magnocellular nucleus (MA,298)',\n",
       "  95: 'R-Substantia innominata (SI,342)',\n",
       "  96: 'R-Medial septal nucleus (MS,564)',\n",
       "  97: 'R-Triangular nucleus of septum (TRS,581)',\n",
       "  98: 'R-Diagonal band nucleus (NDB,596)',\n",
       "  99: 'R-Ventral anterior-lateral complex of the thalamus (VAL,629)',\n",
       "  100: 'R-Ventral medial nucleus of the thalamus (VM,685)',\n",
       "  101: 'R-Ventral posterolateral nucleus of the thalamus (VPL,718)',\n",
       "  102: 'R-Ventral posteromedial nucleus of the thalamus (VPM,733)',\n",
       "  103: 'R-Peripeduncular nucleus (PP,1044)',\n",
       "  104: 'R-Medial geniculate complex (MG,475)',\n",
       "  105: 'R-Dorsal part of the lateral geniculate complex (LGd,170)',\n",
       "  106: 'R-Lateral posterior nucleus of the thalamus (LP,218)',\n",
       "  107: 'R-Posterior complex of the thalamus (PO,1020)',\n",
       "  108: 'R-Suprageniculate nucleus (SGN,325)',\n",
       "  109: 'R-Anteroventral nucleus of thalamus (AV,255)',\n",
       "  110: 'R-Anteromedial nucleus (AM,127)',\n",
       "  111: 'R-Anterodorsal nucleus (AD,64)',\n",
       "  112: 'R-Lateral dorsal nucleus of thalamus (LD,155)',\n",
       "  113: 'R-Interanterodorsal nucleus of the thalamus (IAD,1113)',\n",
       "  114: 'R-Interanteromedial nucleus of the thalamus (IAM,1120)',\n",
       "  115: 'R-Intermediodorsal nucleus of the thalamus (IMD,59)',\n",
       "  116: 'R-Mediodorsal nucleus of thalamus (MD,362)',\n",
       "  117: 'R-Submedial nucleus of the thalamus (SMT,366)',\n",
       "  118: 'R-Paraventricular nucleus of the thalamus (PVT,149)',\n",
       "  119: 'R-Parataenial nucleus (PT,15)',\n",
       "  120: 'R-Nucleus of reuniens (RE,181)',\n",
       "  121: 'R-Rhomboid nucleus (RH,189)',\n",
       "  122: 'R-Paracentral nucleus (PCN,907)',\n",
       "  123: 'R-Central lateral nucleus of the thalamus (CL,575)',\n",
       "  124: 'R-Central medial nucleus of the thalamus (CM,599)',\n",
       "  125: 'R-Parafascicular nucleus (PF,930)',\n",
       "  126: 'R-Reticular nucleus of the thalamus (RT,262)',\n",
       "  127: 'R-Intergeniculate leaflet of the lateral geniculate complex (IGL,27)',\n",
       "  128: 'R-Ventral part of the lateral geniculate complex (LGv,178)',\n",
       "  129: 'R-Medial habenula (MH,483)',\n",
       "  130: 'R-Lateral habenula (LH,186)',\n",
       "  131: 'R-Subparafascicular nucleus, magnocellular part (SPFm,414)',\n",
       "  132: 'R-Subparafascicular nucleus, parvicellular part (SPFp,422)',\n",
       "  133: 'R-Subparafascicular area (SPA,609)',\n",
       "  134: 'R-Ventral posterolateral nucleus of the thalamus, parvicellular part (VPLpc,725)',\n",
       "  135: 'R-Ventral posteromedial nucleus of the thalamus, parvicellular part (VPMpc,741)',\n",
       "  136: 'R-Posterior limiting nucleus of the thalamus (POL,1029)',\n",
       "  137: 'R-Perireunensis nucleus (PR,1077)',\n",
       "  138: 'R-Periventricular zone (PVZ,157)',\n",
       "  139: 'R-Periventricular region (PVR,141)',\n",
       "  140: 'R-Lateral mammillary nucleus (LM,210)',\n",
       "  141: 'R-Medial mammillary nucleus (MM,491)',\n",
       "  142: 'R-Hypothalamic lateral zone (LZ,290)',\n",
       "  143: 'R-Tuberomammillary nucleus (TM,557)',\n",
       "  144: 'R-Paraventricular hypothalamic nucleus, descending division (PVHd,63)',\n",
       "  145: 'R-Anterior hypothalamic nucleus (AHN,88)',\n",
       "  146: 'R-Medial preoptic nucleus (MPN,515)',\n",
       "  147: 'R-Supramammillary nucleus (SUM,525)',\n",
       "  148: 'R-Ventromedial hypothalamic nucleus (VMH,693)',\n",
       "  149: 'R-Posterior hypothalamic nucleus (PH,946)',\n",
       "  150: 'R-Dorsal premammillary nucleus (PMd,980)',\n",
       "  151: 'R-Ventral premammillary nucleus (PMv,1004)',\n",
       "  152: 'R-Periventricular zone (PVZ,157)',\n",
       "  153: 'R-Periventricular region (PVR,141)',\n",
       "  154: 'R-Superior colliculus, optic layer (SCop,851)',\n",
       "  155: 'R-Superior colliculus, superficial gray layer (SCsg,842)',\n",
       "  156: 'R-Midbrain, sensory related (MBsen,339)',\n",
       "  157: 'R-Midbrain, motor related (MBmot,323)',\n",
       "  158: 'R-Superior colliculus, motor related, deep gray layer (SCdg,26)',\n",
       "  159: 'R-Superior colliculus, motor related, deep white layer (SCdw,42)',\n",
       "  160: 'R-Superior colliculus, motor related, intermediate white layer (SCiw,17)',\n",
       "  161: 'R-Superior colliculus, motor related, intermediate gray layer (SCig,10)',\n",
       "  162: 'R-Anterior pretectal nucleus (APN,215)',\n",
       "  163: 'R-Midbrain raphe nuclei (RAmb,165)',\n",
       "  164: 'R-Midbrain, behavioral state related (MBsta,348)',\n",
       "  165: 'R-Medial pretectal area (MPT,531)',\n",
       "  166: 'R-Nucleus of the optic tract (NOT,628)',\n",
       "  167: 'R-Nucleus of the posterior commissure (NPC,634)',\n",
       "  168: 'R-Olivary pretectal nucleus (OP,706)',\n",
       "  169: 'R-Posterior pretectal nucleus (PPT,1061)',\n",
       "  170: 'R-Midbrain, behavioral state related (MBsta,348)',\n",
       "  171: 'R-Midbrain, behavioral state related (MBsta,348)',\n",
       "  172: 'R-Nucleus of the lateral lemniscus (NLL,612)',\n",
       "  173: 'R-Principal sensory nucleus of the trigeminal (PSV,7)',\n",
       "  174: 'R-Superior olivary complex, periolivary region (POR,122)',\n",
       "  175: 'R-Superior olivary complex, medial part (SOCm,105)',\n",
       "  176: 'R-Superior olivary complex, lateral part (SOCl,114)',\n",
       "  177: 'R-Pons, motor related (P-mot,987)',\n",
       "  178: 'R-Pons, behavioral state related (P-sat,1117)',\n",
       "  179: 'R-Parabrachial nucleus (PB,867)',\n",
       "  180: 'R-Pons, behavioral state related (P-sat,1117)',\n",
       "  181: 'R-Pons, behavioral state related (P-sat,1117)',\n",
       "  182: 'R-Area postrema (AP,207)',\n",
       "  183: 'R-Dorsal cochlear nucleus (DCO,96)',\n",
       "  184: 'R-Ventral cochlear nucleus (VCO,101)',\n",
       "  185: 'R-Cuneate nucleus (CU,711)',\n",
       "  186: 'R-Gracile nucleus (GR,1039)',\n",
       "  187: 'R-External cuneate nucleus (ECU,903)',\n",
       "  188: 'R-Nucleus of the trapezoid body (NTB,642)',\n",
       "  189: 'R-Spinal nucleus of the trigeminal, caudal part (SPVC,429)',\n",
       "  190: 'R-Spinal nucleus of the trigeminal, interpolar part (SPVI,437)',\n",
       "  191: 'R-Spinal nucleus of the trigeminal, oral part (SPVO,445)',\n",
       "  192: 'R-Medulla, motor related (MY-mot,370)',\n",
       "  193: 'R-Nucleus ambiguus, dorsal division (AMBd,939)',\n",
       "  194: 'R-Nucleus ambiguus, ventral division (AMBv,143)',\n",
       "  195: 'R-Nucleus prepositus (PRP,169)',\n",
       "  196: 'R-Lateral vestibular nucleus (LAV,209)',\n",
       "  197: 'R-Medial vestibular nucleus (MV,202)',\n",
       "  198: 'R-Spinal vestibular nucleus (SPIV,225)',\n",
       "  199: 'R-Nucleus of Roller (NR,177)',\n",
       "  200: 'R-Medulla, behavioral state related (MY-sat,379)',\n",
       "  201: 'R-Superior vestibular nucleus (SUV,217)',\n",
       "  202: 'R-Nucleus of the solitary tract (NTS,651)',\n",
       "  203: 'R-Paragigantocellular reticular nucleus, dorsal part (PGRNd,970)',\n",
       "  204: 'R-Paragigantocellular reticular nucleus, lateral part (PGRNl,978)',\n",
       "  205: 'R-Medullary reticular nucleus, dorsal part (MDRNd,1098)',\n",
       "  206: 'R-Medullary reticular nucleus, ventral part (MDRNv,1107)',\n",
       "  207: 'R-Medulla, motor related (MY-mot,370)',\n",
       "  208: 'R-Paraflocculus (PFL,1041)',\n",
       "  209: 'R-Flocculus (FL,1049)',\n",
       "  210: 'R-Fastigial nucleus (FN,989)',\n",
       "  211: 'R-Interposed nucleus (IP,91)',\n",
       "  212: 'R-Dentate nucleus (DN,846)',\n",
       "  213: 'R-Lingula (I) (LING,912)',\n",
       "  214: 'R-Central lobule (CENT,920)',\n",
       "  215: 'R-Culmen (CUL,928)',\n",
       "  216: 'R-Declive (VI) (DEC,936)',\n",
       "  217: 'R-Folium-tuber vermis (VII) (FOTU,944)',\n",
       "  218: 'R-Pyramus (VIII) (PYR,951)',\n",
       "  219: 'R-Uvula (IX) (UVU,957)',\n",
       "  220: 'R-Nodulus (X) (NOD,968)',\n",
       "  221: 'R-Simple lobule (SIM,1007)',\n",
       "  222: 'R-Ansiform lobule (AN,1017)',\n",
       "  223: 'R-Paramedian lobule (PRM,1025)',\n",
       "  224: 'R-Copula pyramidis (COPY,1033)',\n",
       "  501: 'L-Frontal pole, cerebral cortex (FRP,184)',\n",
       "  502: 'L-Primary motor area (MOp,985)',\n",
       "  503: 'L-Secondary motor area (MOs,993)',\n",
       "  504: 'L-Primary somatosensory area, nose (SSp-n,353)',\n",
       "  505: 'L-Primary somatosensory area, barrel field (SSp-bfd,329)',\n",
       "  506: 'L-Primary somatosensory area, lower limb (SSp-ll,337)',\n",
       "  507: 'L-Primary somatosensory area, mouth (SSp-m,345)',\n",
       "  508: 'L-Primary somatosensory area, upper limb (SSp-ul,369)',\n",
       "  509: 'L-Primary somatosensory area, trunk (SSp-tr,361)',\n",
       "  510: 'L-Primary somatosensory area, unassigned (SSp-un,182305689)',\n",
       "  511: 'L-Supplemental somatosensory area (SSs,378)',\n",
       "  512: 'L-Gustatory areas (GU,1057)',\n",
       "  513: 'L-Visceral area (VISC,677)',\n",
       "  514: 'L-Dorsal auditory area (AUDd,1011)',\n",
       "  515: 'L-Primary auditory area (AUDp,1002)',\n",
       "  516: 'L-Posterior auditory area (AUDpo,1027)',\n",
       "  517: 'L-Ventral auditory area (AUDv,1018)',\n",
       "  518: 'L-Anterolateral visual area (VISal,402)',\n",
       "  519: 'L-Anteromedial visual area (VISam,394)',\n",
       "  520: 'L-Lateral visual area (VISl,409)',\n",
       "  521: 'L-Primary visual area (VISp,385)',\n",
       "  522: 'L-Posterolateral visual area (VISpl,425)',\n",
       "  523: 'L-posteromedial visual area (VISpm,533)',\n",
       "  524: 'L-Anterior area (VISa,312782546)',\n",
       "  525: 'L-Laterointermediate area (VISli,312782574)',\n",
       "  526: 'L-Rostrolateral visual area (VISrl,417)',\n",
       "  527: 'L-Postrhinal area (VISpor,312782628)',\n",
       "  528: 'L-Anterior cingulate area, dorsal part (ACAd,39)',\n",
       "  529: 'L-Anterior cingulate area, ventral part (ACAv,48)',\n",
       "  530: 'L-Prelimbic area (PL,972)',\n",
       "  531: 'L-Infralimbic area (ILA,44)',\n",
       "  532: 'L-Orbital area, lateral part (ORBl,723)',\n",
       "  533: 'L-Orbital area, medial part (ORBm,731)',\n",
       "  534: 'L-Orbital area, ventrolateral part (ORBvl,746)',\n",
       "  535: 'L-Agranular insular area, dorsal part (AId,104)',\n",
       "  536: 'L-Agranular insular area, posterior part (AIp,111)',\n",
       "  537: 'L-Agranular insular area, ventral part (AIv,119)',\n",
       "  538: 'L-Retrosplenial area, lateral agranular part (RSPagl,894)',\n",
       "  539: 'L-Retrosplenial area, dorsal part (RSPd,879)',\n",
       "  540: 'L-Retrosplenial area, ventral part (RSPv,886)',\n",
       "  541: 'L-Temporal association areas (TEa,541)',\n",
       "  542: 'L-Perirhinal area (PERI,922)',\n",
       "  543: 'L-Ectorhinal area (ECT,895)',\n",
       "  544: 'L-Main olfactory bulb (MOB,507)',\n",
       "  545: 'L-Accessory olfactory bulb, glomerular layer (AOBgl,188)',\n",
       "  546: 'L-Accessory olfactory bulb, granular layer (AOBgr,196)',\n",
       "  547: 'L-Accessory olfactory bulb, mitral layer (AOBmi,204)',\n",
       "  548: 'L-Nucleus of the lateral olfactory tract, layer 3 (NLOT3,1139)',\n",
       "  549: 'L-Anterior olfactory nucleus (AON,159)',\n",
       "  550: 'L-Nucleus of the lateral olfactory tract, molecular layer (NLOT1,260)',\n",
       "  551: 'L-Postpiriform transition area (TR,566)',\n",
       "  552: 'L-Taenia tecta (TT,589)',\n",
       "  553: 'L-Cortical amygdalar area, anterior part (COAa,639)',\n",
       "  554: 'L-Cortical amygdalar area, posterior part (COAp,647)',\n",
       "  555: 'L-Piriform-amygdalar area (PAA,788)',\n",
       "  556: 'L-Dorsal peduncular area (DP,814)',\n",
       "  557: 'L-Piriform area (PIR,961)',\n",
       "  558: 'L-Main olfactory bulb (MOB,507)',\n",
       "  559: 'L-Field CA1 (CA1,382)',\n",
       "  560: 'L-Field CA2 (CA2,423)',\n",
       "  561: 'L-Field CA3 (CA3,463)',\n",
       "  562: 'L-Dentate gyrus, molecular layer (DG-mo,10703)',\n",
       "  563: 'L-Dentate gyrus, polymorph layer (DG-po,10704)',\n",
       "  564: 'L-Dentate gyrus, granule cell layer (DG-sg,632)',\n",
       "  565: 'L-Fasciola cinerea (FC,982)',\n",
       "  566: 'L-Subiculum (SUB,502)',\n",
       "  567: 'L-Parasubiculum (PAR,843)',\n",
       "  568: 'L-Entorhinal area, lateral part (ENTl,918)',\n",
       "  569: 'L-Entorhinal area, medial part, dorsal zone (ENTm,926)',\n",
       "  570: 'L-Entorhinal area, medial part, ventral zone (ENTmv,934)',\n",
       "  571: 'L-Postsubiculum (POST,1037)',\n",
       "  572: 'L-Presubiculum (PRE,1084)',\n",
       "  573: 'L-Claustrum (CLA,583)',\n",
       "  574: 'L-Endopiriform nucleus (EP,942)',\n",
       "  575: 'L-Lateral amygdalar nucleus (LA,131)',\n",
       "  576: 'L-Basolateral amygdalar nucleus, anterior part (BLAa,303)',\n",
       "  577: 'L-Basolateral amygdalar nucleus, posterior part (BLAp,311)',\n",
       "  578: 'L-Basomedial amygdalar nucleus (BMA,319)',\n",
       "  579: 'L-Basolateral amygdalar nucleus, ventral part (BLAv,451)',\n",
       "  580: 'L-Posterior amygdalar nucleus (PA,780)',\n",
       "  581: 'L-Caudoputamen (CP,672)',\n",
       "  582: 'L-Nucleus accumbens (ACB,56)',\n",
       "  583: 'L-Olfactory tubercle (OT,754)',\n",
       "  584: 'L-Lateral septal nucleus, caudal (caudodorsal) part (LSc,250)',\n",
       "  585: 'L-Septohippocampal nucleus (SH,333)',\n",
       "  586: 'L-Striatum-like amygdalar nuclei (sAMY,278)',\n",
       "  587: 'L-Lateral septal nucleus, rostral (rostroventral) part (LSr,258)',\n",
       "  588: 'L-Lateral septal nucleus, ventral part (LSv,266)',\n",
       "  589: 'L-Septofimbrial nucleus (SF,310)',\n",
       "  590: 'L-Fundus of striatum (FS,998)',\n",
       "  591: 'L-Globus pallidus, external segment (GPe,1022)',\n",
       "  592: 'L-Globus pallidus, internal segment (GPi,1031)',\n",
       "  593: 'L-Pallidum, caudal region (PALc,809)',\n",
       "  594: 'L-Magnocellular nucleus (MA,298)',\n",
       "  595: 'L-Substantia innominata (SI,342)',\n",
       "  596: 'L-Medial septal nucleus (MS,564)',\n",
       "  597: 'L-Triangular nucleus of septum (TRS,581)',\n",
       "  598: 'L-Diagonal band nucleus (NDB,596)',\n",
       "  599: 'L-Ventral anterior-lateral complex of the thalamus (VAL,629)',\n",
       "  600: 'L-Ventral medial nucleus of the thalamus (VM,685)',\n",
       "  601: 'L-Ventral posterolateral nucleus of the thalamus (VPL,718)',\n",
       "  602: 'L-Ventral posteromedial nucleus of the thalamus (VPM,733)',\n",
       "  603: 'L-Peripeduncular nucleus (PP,1044)',\n",
       "  604: 'L-Medial geniculate complex (MG,475)',\n",
       "  605: 'L-Dorsal part of the lateral geniculate complex (LGd,170)',\n",
       "  606: 'L-Lateral posterior nucleus of the thalamus (LP,218)',\n",
       "  607: 'L-Posterior complex of the thalamus (PO,1020)',\n",
       "  608: 'L-Suprageniculate nucleus (SGN,325)',\n",
       "  609: 'L-Anteroventral nucleus of thalamus (AV,255)',\n",
       "  610: 'L-Anteromedial nucleus (AM,127)',\n",
       "  611: 'L-Anterodorsal nucleus (AD,64)',\n",
       "  612: 'L-Lateral dorsal nucleus of thalamus (LD,155)',\n",
       "  613: 'L-Interanterodorsal nucleus of the thalamus (IAD,1113)',\n",
       "  614: 'L-Interanteromedial nucleus of the thalamus (IAM,1120)',\n",
       "  615: 'L-Intermediodorsal nucleus of the thalamus (IMD,59)',\n",
       "  616: 'L-Mediodorsal nucleus of thalamus (MD,362)',\n",
       "  617: 'L-Submedial nucleus of the thalamus (SMT,366)',\n",
       "  618: 'L-Paraventricular nucleus of the thalamus (PVT,149)',\n",
       "  619: 'L-Parataenial nucleus (PT,15)',\n",
       "  620: 'L-Nucleus of reuniens (RE,181)',\n",
       "  621: 'L-Rhomboid nucleus (RH,189)',\n",
       "  622: 'L-Paracentral nucleus (PCN,907)',\n",
       "  623: 'L-Central lateral nucleus of the thalamus (CL,575)',\n",
       "  624: 'L-Central medial nucleus of the thalamus (CM,599)',\n",
       "  625: 'L-Parafascicular nucleus (PF,930)',\n",
       "  626: 'L-Reticular nucleus of the thalamus (RT,262)',\n",
       "  627: 'L-Intergeniculate leaflet of the lateral geniculate complex (IGL,27)',\n",
       "  628: 'L-Ventral part of the lateral geniculate complex (LGv,178)',\n",
       "  629: 'L-Medial habenula (MH,483)',\n",
       "  630: 'L-Lateral habenula (LH,186)',\n",
       "  631: 'L-Subparafascicular nucleus, magnocellular part (SPFm,414)',\n",
       "  632: 'L-Subparafascicular nucleus, parvicellular part (SPFp,422)',\n",
       "  633: 'L-Subparafascicular area (SPA,609)',\n",
       "  634: 'L-Ventral posterolateral nucleus of the thalamus, parvicellular part (VPLpc,725)',\n",
       "  635: 'L-Ventral posteromedial nucleus of the thalamus, parvicellular part (VPMpc,741)',\n",
       "  636: 'L-Posterior limiting nucleus of the thalamus (POL,1029)',\n",
       "  637: 'L-Perireunensis nucleus (PR,1077)',\n",
       "  638: 'L-Periventricular zone (PVZ,157)',\n",
       "  639: 'L-Periventricular region (PVR,141)',\n",
       "  640: 'L-Lateral mammillary nucleus (LM,210)',\n",
       "  641: 'L-Medial mammillary nucleus (MM,491)',\n",
       "  642: 'L-Hypothalamic lateral zone (LZ,290)',\n",
       "  643: 'L-Tuberomammillary nucleus (TM,557)',\n",
       "  644: 'L-Paraventricular hypothalamic nucleus, descending division (PVHd,63)',\n",
       "  645: 'L-Anterior hypothalamic nucleus (AHN,88)',\n",
       "  646: 'L-Medial preoptic nucleus (MPN,515)',\n",
       "  647: 'L-Supramammillary nucleus (SUM,525)',\n",
       "  648: 'L-Ventromedial hypothalamic nucleus (VMH,693)',\n",
       "  649: 'L-Posterior hypothalamic nucleus (PH,946)',\n",
       "  650: 'L-Dorsal premammillary nucleus (PMd,980)',\n",
       "  651: 'L-Ventral premammillary nucleus (PMv,1004)',\n",
       "  652: 'L-Periventricular zone (PVZ,157)',\n",
       "  653: 'L-Periventricular region (PVR,141)',\n",
       "  654: 'L-Superior colliculus, optic layer (SCop,851)',\n",
       "  655: 'L-Superior colliculus, superficial gray layer (SCsg,842)',\n",
       "  656: 'L-Midbrain, sensory related (MBsen,339)',\n",
       "  657: 'L-Midbrain, motor related (MBmot,323)',\n",
       "  658: 'L-Superior colliculus, motor related, deep gray layer (SCdg,26)',\n",
       "  659: 'L-Superior colliculus, motor related, deep white layer (SCdw,42)',\n",
       "  660: 'L-Superior colliculus, motor related, intermediate white layer (SCiw,17)',\n",
       "  661: 'L-Superior colliculus, motor related, intermediate gray layer (SCig,10)',\n",
       "  662: 'L-Anterior pretectal nucleus (APN,215)',\n",
       "  663: 'L-Midbrain raphe nuclei (RAmb,165)',\n",
       "  664: 'L-Midbrain, behavioral state related (MBsta,348)',\n",
       "  665: 'L-Medial pretectal area (MPT,531)',\n",
       "  666: 'L-Nucleus of the optic tract (NOT,628)',\n",
       "  667: 'L-Nucleus of the posterior commissure (NPC,634)',\n",
       "  668: 'L-Olivary pretectal nucleus (OP,706)',\n",
       "  669: 'L-Posterior pretectal nucleus (PPT,1061)',\n",
       "  670: 'L-Midbrain, behavioral state related (MBsta,348)',\n",
       "  671: 'L-Midbrain, behavioral state related (MBsta,348)',\n",
       "  672: 'L-Nucleus of the lateral lemniscus (NLL,612)',\n",
       "  673: 'L-Principal sensory nucleus of the trigeminal (PSV,7)',\n",
       "  674: 'L-Superior olivary complex, periolivary region (POR,122)',\n",
       "  675: 'L-Superior olivary complex, medial part (SOCm,105)',\n",
       "  676: 'L-Superior olivary complex, lateral part (SOCl,114)',\n",
       "  677: 'L-Pons, motor related (P-mot,987)',\n",
       "  678: 'L-Pons, behavioral state related (P-sat,1117)',\n",
       "  679: 'L-Parabrachial nucleus (PB,867)',\n",
       "  680: 'L-Pons, behavioral state related (P-sat,1117)',\n",
       "  681: 'L-Pons, behavioral state related (P-sat,1117)',\n",
       "  682: 'L-Area postrema (AP,207)',\n",
       "  683: 'L-Dorsal cochlear nucleus (DCO,96)',\n",
       "  684: 'L-Ventral cochlear nucleus (VCO,101)',\n",
       "  685: 'L-Cuneate nucleus (CU,711)',\n",
       "  686: 'L-Gracile nucleus (GR,1039)',\n",
       "  687: 'L-External cuneate nucleus (ECU,903)',\n",
       "  688: 'L-Nucleus of the trapezoid body (NTB,642)',\n",
       "  689: 'L-Spinal nucleus of the trigeminal, caudal part (SPVC,429)',\n",
       "  690: 'L-Spinal nucleus of the trigeminal, interpolar part (SPVI,437)',\n",
       "  691: 'L-Spinal nucleus of the trigeminal, oral part (SPVO,445)',\n",
       "  692: 'L-Medulla, motor related (MY-mot,370)',\n",
       "  693: 'L-Nucleus ambiguus, dorsal division (AMBd,939)',\n",
       "  694: 'L-Nucleus ambiguus, ventral division (AMBv,143)',\n",
       "  695: 'L-Nucleus prepositus (PRP,169)',\n",
       "  696: 'L-Lateral vestibular nucleus (LAV,209)',\n",
       "  697: 'L-Medial vestibular nucleus (MV,202)',\n",
       "  698: 'L-Spinal vestibular nucleus (SPIV,225)',\n",
       "  699: 'L-Nucleus of Roller (NR,177)',\n",
       "  700: 'L-Medulla, behavioral state related (MY-sat,379)',\n",
       "  701: 'L-Superior vestibular nucleus (SUV,217)',\n",
       "  702: 'L-Nucleus of the solitary tract (NTS,651)',\n",
       "  703: 'L-Paragigantocellular reticular nucleus, dorsal part (PGRNd,970)',\n",
       "  704: 'L-Paragigantocellular reticular nucleus, lateral part (PGRNl,978)',\n",
       "  705: 'L-Medullary reticular nucleus, dorsal part (MDRNd,1098)',\n",
       "  706: 'L-Medullary reticular nucleus, ventral part (MDRNv,1107)',\n",
       "  707: 'L-Medulla, motor related (MY-mot,370)',\n",
       "  708: 'L-Paraflocculus (PFL,1041)',\n",
       "  709: 'L-Flocculus (FL,1049)',\n",
       "  710: 'L-Fastigial nucleus (FN,989)',\n",
       "  711: 'L-Interposed nucleus (IP,91)',\n",
       "  712: 'L-Dentate nucleus (DN,846)',\n",
       "  713: 'L-Lingula (I) (LING,912)',\n",
       "  714: 'L-Central lobule (CENT,920)',\n",
       "  715: 'L-Culmen (CUL,928)',\n",
       "  716: 'L-Declive (VI) (DEC,936)',\n",
       "  717: 'L-Folium-tuber vermis (VII) (FOTU,944)',\n",
       "  718: 'L-Pyramus (VIII) (PYR,951)',\n",
       "  719: 'L-Uvula (IX) (UVU,957)',\n",
       "  720: 'L-Nodulus (X) (NOD,968)',\n",
       "  721: 'L-Simple lobule (SIM,1007)',\n",
       "  722: 'L-Ansiform lobule (AN,1017)',\n",
       "  723: 'L-Paramedian lobule (PRM,1025)',\n",
       "  724: 'L-Copula pyramidis (COPY,1033)'}}"
      ]
     },
     "execution_count": 2,
     "metadata": {},
     "output_type": "execute_result"
    }
   ],
   "source": [
    "config = Config(atlas_mode='allen')\n",
    "vars(config)"
   ]
  },
  {
   "cell_type": "code",
   "execution_count": null,
   "metadata": {},
   "outputs": [],
   "source": []
  },
  {
   "cell_type": "code",
   "execution_count": 3,
   "metadata": {
    "scrolled": true
   },
   "outputs": [
    {
     "data": {
      "application/vnd.jupyter.widget-view+json": {
       "model_id": "a8a0dbf595474625ad745c5040a6e3e3",
       "version_major": 2,
       "version_minor": 0
      },
      "text/plain": [
       "  0%|          | 0/10 [00:00<?, ?it/s]"
      ]
     },
     "metadata": {},
     "output_type": "display_data"
    },
    {
     "data": {
      "application/vnd.jupyter.widget-view+json": {
       "model_id": "",
       "version_major": 2,
       "version_minor": 0
      },
      "text/plain": [
       "  0%|          | 0/3 [00:00<?, ?it/s]"
      ]
     },
     "metadata": {},
     "output_type": "display_data"
    },
    {
     "data": {
      "application/vnd.jupyter.widget-view+json": {
       "model_id": "",
       "version_major": 2,
       "version_minor": 0
      },
      "text/plain": [
       "  0%|          | 0/3 [00:00<?, ?it/s]"
      ]
     },
     "metadata": {},
     "output_type": "display_data"
    },
    {
     "data": {
      "application/vnd.jupyter.widget-view+json": {
       "model_id": "",
       "version_major": 2,
       "version_minor": 0
      },
      "text/plain": [
       "  0%|          | 0/3 [00:00<?, ?it/s]"
      ]
     },
     "metadata": {},
     "output_type": "display_data"
    },
    {
     "name": "stdout",
     "output_type": "stream",
     "text": [
      "Warning! File not found, moving on . . .\n",
      "['sub-SLC03', 'ses-1', 'run-1', 'ca']\n",
      "\n"
     ]
    },
    {
     "data": {
      "application/vnd.jupyter.widget-view+json": {
       "model_id": "",
       "version_major": 2,
       "version_minor": 0
      },
      "text/plain": [
       "  0%|          | 0/3 [00:00<?, ?it/s]"
      ]
     },
     "metadata": {},
     "output_type": "display_data"
    },
    {
     "data": {
      "application/vnd.jupyter.widget-view+json": {
       "model_id": "",
       "version_major": 2,
       "version_minor": 0
      },
      "text/plain": [
       "  0%|          | 0/3 [00:00<?, ?it/s]"
      ]
     },
     "metadata": {},
     "output_type": "display_data"
    },
    {
     "name": "stdout",
     "output_type": "stream",
     "text": [
      "Warning! File not found, moving on . . .\n",
      "['sub-SLC05', 'ses-1', 'run-5', 'ca']\n",
      "\n"
     ]
    },
    {
     "data": {
      "application/vnd.jupyter.widget-view+json": {
       "model_id": "",
       "version_major": 2,
       "version_minor": 0
      },
      "text/plain": [
       "  0%|          | 0/3 [00:00<?, ?it/s]"
      ]
     },
     "metadata": {},
     "output_type": "display_data"
    },
    {
     "name": "stdout",
     "output_type": "stream",
     "text": [
      "Warning! File not found, moving on . . .\n",
      "['sub-SLC06', 'ses-3', 'run-2', 'ca']\n",
      "\n"
     ]
    },
    {
     "data": {
      "application/vnd.jupyter.widget-view+json": {
       "model_id": "",
       "version_major": 2,
       "version_minor": 0
      },
      "text/plain": [
       "  0%|          | 0/3 [00:00<?, ?it/s]"
      ]
     },
     "metadata": {},
     "output_type": "display_data"
    },
    {
     "data": {
      "application/vnd.jupyter.widget-view+json": {
       "model_id": "",
       "version_major": 2,
       "version_minor": 0
      },
      "text/plain": [
       "  0%|          | 0/3 [00:00<?, ?it/s]"
      ]
     },
     "metadata": {},
     "output_type": "display_data"
    },
    {
     "name": "stdout",
     "output_type": "stream",
     "text": [
      "Warning! File not found, moving on . . .\n",
      "['sub-SLC08', 'ses-1', 'run-7', 'ca']\n",
      "\n"
     ]
    },
    {
     "data": {
      "application/vnd.jupyter.widget-view+json": {
       "model_id": "",
       "version_major": 2,
       "version_minor": 0
      },
      "text/plain": [
       "  0%|          | 0/3 [00:00<?, ?it/s]"
      ]
     },
     "metadata": {},
     "output_type": "display_data"
    },
    {
     "data": {
      "application/vnd.jupyter.widget-view+json": {
       "model_id": "",
       "version_major": 2,
       "version_minor": 0
      },
      "text/plain": [
       "  0%|          | 0/3 [00:00<?, ?it/s]"
      ]
     },
     "metadata": {},
     "output_type": "display_data"
    },
    {
     "name": "stdout",
     "output_type": "stream",
     "text": [
      "Warning! File not found, moving on . . .\n",
      "['sub-SLC10', 'ses-3', 'run-1', 'ca']\n",
      "\n"
     ]
    }
   ],
   "source": [
    "organize_ca_data(\n",
    "    config=config,\n",
    "    bandpass=False,\n",
    "    normalize=False,\n",
    "    verbose=False,\n",
    ")"
   ]
  },
  {
   "cell_type": "code",
   "execution_count": null,
   "metadata": {},
   "outputs": [],
   "source": []
  },
  {
   "cell_type": "code",
   "execution_count": 4,
   "metadata": {},
   "outputs": [
    {
     "data": {
      "application/vnd.jupyter.widget-view+json": {
       "model_id": "53e066efec5841ae93932053f6aa1dd9",
       "version_major": 2,
       "version_minor": 0
      },
      "text/plain": [
       "  0%|          | 0/10 [00:00<?, ?it/s]"
      ]
     },
     "metadata": {},
     "output_type": "display_data"
    },
    {
     "data": {
      "application/vnd.jupyter.widget-view+json": {
       "model_id": "",
       "version_major": 2,
       "version_minor": 0
      },
      "text/plain": [
       "  0%|          | 0/3 [00:00<?, ?it/s]"
      ]
     },
     "metadata": {},
     "output_type": "display_data"
    },
    {
     "data": {
      "application/vnd.jupyter.widget-view+json": {
       "model_id": "",
       "version_major": 2,
       "version_minor": 0
      },
      "text/plain": [
       "  0%|          | 0/3 [00:00<?, ?it/s]"
      ]
     },
     "metadata": {},
     "output_type": "display_data"
    },
    {
     "data": {
      "application/vnd.jupyter.widget-view+json": {
       "model_id": "",
       "version_major": 2,
       "version_minor": 0
      },
      "text/plain": [
       "  0%|          | 0/3 [00:00<?, ?it/s]"
      ]
     },
     "metadata": {},
     "output_type": "display_data"
    },
    {
     "name": "stdout",
     "output_type": "stream",
     "text": [
      "Warning! File not found, moving on . . .\n",
      "['sub-SLC03', 'ses-1', 'run-1', 'ca']\n",
      "\n"
     ]
    },
    {
     "data": {
      "application/vnd.jupyter.widget-view+json": {
       "model_id": "",
       "version_major": 2,
       "version_minor": 0
      },
      "text/plain": [
       "  0%|          | 0/3 [00:00<?, ?it/s]"
      ]
     },
     "metadata": {},
     "output_type": "display_data"
    },
    {
     "data": {
      "application/vnd.jupyter.widget-view+json": {
       "model_id": "",
       "version_major": 2,
       "version_minor": 0
      },
      "text/plain": [
       "  0%|          | 0/3 [00:00<?, ?it/s]"
      ]
     },
     "metadata": {},
     "output_type": "display_data"
    },
    {
     "name": "stdout",
     "output_type": "stream",
     "text": [
      "Warning! File not found, moving on . . .\n",
      "['sub-SLC05', 'ses-1', 'run-5', 'ca']\n",
      "\n"
     ]
    },
    {
     "data": {
      "application/vnd.jupyter.widget-view+json": {
       "model_id": "",
       "version_major": 2,
       "version_minor": 0
      },
      "text/plain": [
       "  0%|          | 0/3 [00:00<?, ?it/s]"
      ]
     },
     "metadata": {},
     "output_type": "display_data"
    },
    {
     "name": "stdout",
     "output_type": "stream",
     "text": [
      "Warning! File not found, moving on . . .\n",
      "['sub-SLC06', 'ses-3', 'run-2', 'ca']\n",
      "\n"
     ]
    },
    {
     "data": {
      "application/vnd.jupyter.widget-view+json": {
       "model_id": "",
       "version_major": 2,
       "version_minor": 0
      },
      "text/plain": [
       "  0%|          | 0/3 [00:00<?, ?it/s]"
      ]
     },
     "metadata": {},
     "output_type": "display_data"
    },
    {
     "data": {
      "application/vnd.jupyter.widget-view+json": {
       "model_id": "",
       "version_major": 2,
       "version_minor": 0
      },
      "text/plain": [
       "  0%|          | 0/3 [00:00<?, ?it/s]"
      ]
     },
     "metadata": {},
     "output_type": "display_data"
    },
    {
     "name": "stdout",
     "output_type": "stream",
     "text": [
      "Warning! File not found, moving on . . .\n",
      "['sub-SLC08', 'ses-1', 'run-7', 'ca']\n",
      "\n"
     ]
    },
    {
     "data": {
      "application/vnd.jupyter.widget-view+json": {
       "model_id": "",
       "version_major": 2,
       "version_minor": 0
      },
      "text/plain": [
       "  0%|          | 0/3 [00:00<?, ?it/s]"
      ]
     },
     "metadata": {},
     "output_type": "display_data"
    },
    {
     "data": {
      "application/vnd.jupyter.widget-view+json": {
       "model_id": "",
       "version_major": 2,
       "version_minor": 0
      },
      "text/plain": [
       "  0%|          | 0/3 [00:00<?, ?it/s]"
      ]
     },
     "metadata": {},
     "output_type": "display_data"
    },
    {
     "name": "stdout",
     "output_type": "stream",
     "text": [
      "Warning! File not found, moving on . . .\n",
      "['sub-SLC10', 'ses-3', 'run-1', 'ca']\n",
      "\n"
     ]
    }
   ],
   "source": [
    "organize_ca_data(\n",
    "    config=config,\n",
    "    bandpass=False,\n",
    "    normalize=True,\n",
    "    verbose=False,\n",
    ")"
   ]
  },
  {
   "cell_type": "code",
   "execution_count": null,
   "metadata": {},
   "outputs": [],
   "source": []
  },
  {
   "cell_type": "code",
   "execution_count": null,
   "metadata": {},
   "outputs": [],
   "source": []
  },
  {
   "cell_type": "code",
   "execution_count": null,
   "metadata": {},
   "outputs": [],
   "source": []
  }
 ],
 "metadata": {
  "kernelspec": {
   "display_name": "Python 3",
   "language": "python",
   "name": "python3"
  },
  "language_info": {
   "codemirror_mode": {
    "name": "ipython",
    "version": 3
   },
   "file_extension": ".py",
   "mimetype": "text/x-python",
   "name": "python",
   "nbconvert_exporter": "python",
   "pygments_lexer": "ipython3",
   "version": "3.8.5"
  }
 },
 "nbformat": 4,
 "nbformat_minor": 2
}
