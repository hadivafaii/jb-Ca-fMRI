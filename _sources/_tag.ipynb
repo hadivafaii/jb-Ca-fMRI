{
 "cells": [
  {
   "cell_type": "code",
   "execution_count": 2,
   "metadata": {},
   "outputs": [],
   "source": [
    "import nbformat as nbf\n",
    "from glob import glob\n",
    "\n",
    "# Collect a list of all notebooks in the content folder\n",
    "notebooks = glob(\"./*.ipynb\", recursive=True)\n",
    "notebooks.remove('./_tag.ipynb') # remove this one\n",
    "\n",
    "# Text to look for in adding tags\n",
    "text_search_dict = {\n",
    "    \"# HIDDEN\": \"remove-cell\",  # Remove the whole cell\n",
    "    \"# NO CODE\": \"remove-input\",  # Remove only the input\n",
    "    \"# HIDE CODE\": \"hide-input\"  # Hide the input w/ a button to show\n",
    "}\n",
    "\n",
    "# Search through each notebook and look for the text, add a tag if necessary\n",
    "for ipath in notebooks:\n",
    "    ntbk = nbf.read(ipath, nbf.NO_CONVERT)\n",
    "\n",
    "    for cell in ntbk.cells:\n",
    "        cell_tags = cell.get('metadata', {}).get('tags', [])\n",
    "        for key, val in text_search_dict.items():\n",
    "            if key in cell['source']:\n",
    "                if val not in cell_tags:\n",
    "                    cell_tags.append(val)\n",
    "        if len(cell_tags) > 0:\n",
    "            cell['metadata']['tags'] = cell_tags\n",
    "\n",
    "    nbf.write(ntbk, ipath)"
   ]
  },
  {
   "cell_type": "code",
   "execution_count": null,
   "metadata": {},
   "outputs": [],
   "source": []
  },
  {
   "cell_type": "code",
   "execution_count": null,
   "metadata": {},
   "outputs": [],
   "source": []
  },
  {
   "cell_type": "code",
   "execution_count": null,
   "metadata": {},
   "outputs": [],
   "source": []
  }
 ],
 "metadata": {
  "kernelspec": {
   "display_name": "Python 3",
   "language": "python",
   "name": "python3"
  },
  "language_info": {
   "codemirror_mode": {
    "name": "ipython",
    "version": 3
   },
   "file_extension": ".py",
   "mimetype": "text/x-python",
   "name": "python",
   "nbconvert_exporter": "python",
   "pygments_lexer": "ipython3",
   "version": "3.8.5"
  }
 },
 "nbformat": 4,
 "nbformat_minor": 4
}
