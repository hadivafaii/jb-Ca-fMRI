{
 "cells": [
  {
   "cell_type": "code",
   "execution_count": 1,
   "metadata": {},
   "outputs": [
    {
     "data": {
      "application/vnd.jupyter.widget-view+json": {
       "model_id": "621c8df358a941b8a879ff7916c536bc",
       "version_major": 2,
       "version_minor": 0
      },
      "text/plain": [
       "  0%|          | 0/36 [00:00<?, ?it/s]"
      ]
     },
     "metadata": {},
     "output_type": "display_data"
    }
   ],
   "source": [
    "import nbformat as nbf\n",
    "from glob import glob\n",
    "from tqdm.notebook import tqdm\n",
    "\n",
    "# Collect a list of all notebooks in the content folder\n",
    "notebooks = glob(\"./*.ipynb\", recursive=True)\n",
    "notebooks.remove('./_tag.ipynb') # remove this one\n",
    "\n",
    "# Text to look for in adding tags\n",
    "text_search_dict = {\n",
    "    \"# HIDDEN\": \"remove-cell\",  # Remove the whole cell\n",
    "    \"# NO CODE\": \"remove-input\",  # Remove only the input\n",
    "    \"# HIDE CODE\": \"hide-input\"  # Hide the input w/ a button to show\n",
    "}\n",
    "\n",
    "# Search through each notebook and look for the text, add a tag if necessary\n",
    "for ipath in tqdm(sorted(notebooks), leave=False):\n",
    "    ntbk = nbf.read(ipath, nbf.NO_CONVERT)\n",
    "\n",
    "    for cell in ntbk.cells:\n",
    "        cell_tags = cell.get('metadata', {}).get('tags', [])\n",
    "        for key, val in text_search_dict.items():\n",
    "            if key in cell['source']:\n",
    "                if val not in cell_tags:\n",
    "                    cell_tags.append(val)\n",
    "        if len(cell_tags) > 0:\n",
    "            cell['metadata']['tags'] = cell_tags\n",
    "\n",
    "    nbf.write(ntbk, ipath)"
   ]
  },
  {
   "cell_type": "code",
   "execution_count": null,
   "metadata": {},
   "outputs": [],
   "source": []
  },
  {
   "cell_type": "code",
   "execution_count": null,
   "metadata": {},
   "outputs": [],
   "source": []
  },
  {
   "cell_type": "code",
   "execution_count": null,
   "metadata": {},
   "outputs": [],
   "source": []
  }
 ],
 "metadata": {
  "kernelspec": {
   "display_name": "Python 3",
   "language": "python",
   "name": "python3"
  },
  "language_info": {
   "codemirror_mode": {
    "name": "ipython",
    "version": 3
   },
   "file_extension": ".py",
   "mimetype": "text/x-python",
   "name": "python",
   "nbconvert_exporter": "python",
   "pygments_lexer": "ipython3",
   "version": "3.8.5"
  }
 },
 "nbformat": 4,
 "nbformat_minor": 4
}
