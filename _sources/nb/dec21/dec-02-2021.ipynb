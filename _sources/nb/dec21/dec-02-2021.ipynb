{
 "cells": [
  {
   "cell_type": "markdown",
   "id": "7b741dab",
   "metadata": {},
   "source": [
    "# Dec 2st, 2021 (GSR, NMF, etc)\n",
    "\n",
    "**Motivation**: Some figures made for today's group meeting. Preprocessing related. <br>"
   ]
  },
  {
   "cell_type": "code",
   "execution_count": 1,
   "id": "cd5ce1ea",
   "metadata": {
    "tags": [
     "hide-input"
    ]
   },
   "outputs": [],
   "source": [
    "# HIDE CODE\n",
    "\n",
    "\n",
    "import os\n",
    "import sys\n",
    "import nibabel as nib\n",
    "import networkx as nx\n",
    "from time import time\n",
    "from pprint import pprint\n",
    "from copy import deepcopy as dc\n",
    "from os.path import join as pjoin\n",
    "from myterial import orange, blue_grey\n",
    "from IPython.display import display, IFrame, HTML\n",
    "from matplotlib.colors import rgb2hex, to_rgb\n",
    "import matplotlib.pyplot as plt\n",
    "import seaborn as sns\n",
    "\n",
    "# set style & no interpolalation\n",
    "import matplotlib\n",
    "matplotlib.rcParams['image.interpolation'] = 'none'\n",
    "sns.set_style('whitegrid')\n",
    "%matplotlib inline\n",
    "\n",
    "# tmp & extras dir\n",
    "git_dir = pjoin(os.environ['HOME'], 'Dropbox/git')\n",
    "tmp_dir = pjoin(git_dir, 'jb-Ca-fMRI/tmp')\n",
    "extras_dir = pjoin(git_dir, 'jb-Ca-fMRI/_extras')\n",
    "lfr_dir = pjoin(os.environ['HOME'], 'Documents/workspaces/lfr/binary_overlapping')\n",
    "\n",
    "\n",
    "# GitHub\n",
    "sys.path.insert(0, pjoin(git_dir, '_Ca-fMRI'))\n",
    "from register.atlas import make_tree_graph\n",
    "from register.parcellation import Parcellation\n",
    "from analysis.hierarchical import Hierarchical\n",
    "from analysis.fourier import *\n",
    "from analysis.bootstrap import *\n",
    "from analysis.svinet import *\n",
    "from analysis.group import *\n",
    "from analysis.lfr import *\n",
    "from utils.render import *\n",
    "from utils.plotting import *\n",
    "from model.mouse import Mice\n",
    "from model.configuration import Config\n",
    "\n",
    "# warnings\n",
    "import warnings\n",
    "warnings.filterwarnings('ignore', category=DeprecationWarning)"
   ]
  },
  {
   "cell_type": "code",
   "execution_count": 2,
   "id": "4ccecccf",
   "metadata": {},
   "outputs": [],
   "source": [
    "def collect_adjacencies(mice, mode):\n",
    "    proc, *_ = mice.get_data_containers(mode)\n",
    "\n",
    "    adjacencies, dirs = [], {}\n",
    "    for key in proc:\n",
    "        sub, ses, run = mice.looper[key]\n",
    "        if run == -1:\n",
    "            continue\n",
    "        net = Network(mice, key, mode).load_network()\n",
    "        adjacencies.append(np.expand_dims(net.adj, 0))\n",
    "        dirs[key] = pjoin(mice.cfg.results_dir, 'Network', net.base_name)\n",
    "\n",
    "    adjacencies = np.concatenate(adjacencies)\n",
    "    return adjacencies, dirs\n",
    "\n",
    "\n",
    "def calculate_portraits(adj, thres, save_dir: str = None, force_fit: bool = False):\n",
    "    if save_dir is not None and not force_fit:\n",
    "        load_file = pjoin(save_dir, 'portraits')\n",
    "        if os.path.isfile(load_file):\n",
    "            portraits = np.load(load_file, allow_pickle=True)\n",
    "            return portraits.item()\n",
    "\n",
    "    portraits = {}\n",
    "    nonzero = np.abs(adj).mean(0) > 0\n",
    "    for i, th in enumerate(thres):\n",
    "        adj_eff = adj[nonzero][:, nonzero]\n",
    "        adj_eff[adj_eff <= th] = 0\n",
    "        adj_eff[adj_eff > th] = 1\n",
    "        g = nx.from_numpy_matrix(adj_eff)\n",
    "        if save_dir is not None:\n",
    "            fname = '_'.join(save_dir.split('_')[-3:])\n",
    "            fname = f\"{fname}_no{i:03d}_th{th:0.7f}\"\n",
    "        else:\n",
    "            fname = None\n",
    "        portraits[(i, th)] = portrait_cpp(g, fname)\n",
    "\n",
    "    if save_dir is not None:\n",
    "        save_obj(\n",
    "            obj=portraits,\n",
    "            file_name='portraits',\n",
    "            save_dir=save_dir,\n",
    "            mode='npy',\n",
    "            verbose=False,\n",
    "        )\n",
    "    return portraits\n",
    "\n",
    "\n",
    "def calculate_portrait_divergece(portraits_list):\n",
    "    div = np_nans((len(portraits_list), len(portraits_list)))\n",
    "    for i, j in itertools.combinations(range(len(portraits_list)), 2):\n",
    "        div[i, j] = portrait_divergence(portraits_list[i], portraits_list[j])\n",
    "    return div"
   ]
  },
  {
   "cell_type": "markdown",
   "id": "e1f1a78a",
   "metadata": {},
   "source": [
    "## Portrait Divergence"
   ]
  },
  {
   "cell_type": "markdown",
   "id": "d8047ec6",
   "metadata": {},
   "source": [
    "### on synthetic graphs"
   ]
  },
  {
   "cell_type": "code",
   "execution_count": 3,
   "id": "f782aef6",
   "metadata": {},
   "outputs": [],
   "source": [
    "sys.path.insert(0, pjoin(git_dir, 'network-portrait-divergence'))\n",
    "from portrait_divergence import portrait_divergence, portrait_py, portrait_cpp"
   ]
  },
  {
   "cell_type": "code",
   "execution_count": 4,
   "id": "1f4d3028",
   "metadata": {},
   "outputs": [
    {
     "data": {
      "text/html": [
       "<pre style=\"white-space:pre;overflow-x:auto;line-height:normal;font-family:Menlo,'DejaVu Sans Mono',consolas,'Courier New',monospace\"><span style=\"color: #800080; text-decoration-color: #800080; font-weight: bold\">Djs</span><span style=\"font-weight: bold\">(</span>ER1,ER2<span style=\"font-weight: bold\">)</span> = <span style=\"color: #008080; text-decoration-color: #008080; font-weight: bold\">0.3428942986544757</span>\n",
       "</pre>\n"
      ],
      "text/plain": [
       "\u001b[1;35mDjs\u001b[0m\u001b[1m(\u001b[0mER1,ER2\u001b[1m)\u001b[0m = \u001b[1;36m0.3428942986544757\u001b[0m\n"
      ]
     },
     "metadata": {},
     "output_type": "display_data"
    },
    {
     "data": {
      "text/html": [
       "<pre style=\"white-space:pre;overflow-x:auto;line-height:normal;font-family:Menlo,'DejaVu Sans Mono',consolas,'Courier New',monospace\"><span style=\"color: #800080; text-decoration-color: #800080; font-weight: bold\">Djs</span><span style=\"font-weight: bold\">(</span>ER1,BA1<span style=\"font-weight: bold\">)</span> = <span style=\"color: #008080; text-decoration-color: #008080; font-weight: bold\">0.8881401024371357</span>\n",
       "</pre>\n"
      ],
      "text/plain": [
       "\u001b[1;35mDjs\u001b[0m\u001b[1m(\u001b[0mER1,BA1\u001b[1m)\u001b[0m = \u001b[1;36m0.8881401024371357\u001b[0m\n"
      ]
     },
     "metadata": {},
     "output_type": "display_data"
    },
    {
     "data": {
      "text/html": [
       "<pre style=\"white-space:pre;overflow-x:auto;line-height:normal;font-family:Menlo,'DejaVu Sans Mono',consolas,'Courier New',monospace\"><span style=\"color: #800080; text-decoration-color: #800080; font-weight: bold\">Djs</span><span style=\"font-weight: bold\">(</span>ER1,BA2<span style=\"font-weight: bold\">)</span> = <span style=\"color: #008080; text-decoration-color: #008080; font-weight: bold\">0.8414243180742774</span>\n",
       "</pre>\n"
      ],
      "text/plain": [
       "\u001b[1;35mDjs\u001b[0m\u001b[1m(\u001b[0mER1,BA2\u001b[1m)\u001b[0m = \u001b[1;36m0.8414243180742774\u001b[0m\n"
      ]
     },
     "metadata": {},
     "output_type": "display_data"
    },
    {
     "data": {
      "text/html": [
       "<pre style=\"white-space:pre;overflow-x:auto;line-height:normal;font-family:Menlo,'DejaVu Sans Mono',consolas,'Courier New',monospace\"><span style=\"color: #800080; text-decoration-color: #800080; font-weight: bold\">Djs</span><span style=\"font-weight: bold\">(</span>BA1,BA2<span style=\"font-weight: bold\">)</span> = <span style=\"color: #008080; text-decoration-color: #008080; font-weight: bold\">0.23688325561906196</span>\n",
       "</pre>\n"
      ],
      "text/plain": [
       "\u001b[1;35mDjs\u001b[0m\u001b[1m(\u001b[0mBA1,BA2\u001b[1m)\u001b[0m = \u001b[1;36m0.23688325561906196\u001b[0m\n"
      ]
     },
     "metadata": {},
     "output_type": "display_data"
    }
   ],
   "source": [
    "Ger1  = nx.erdos_renyi_graph(100, 3/99)\n",
    "Ger2  = nx.erdos_renyi_graph(100, 3/99)\n",
    "Gba1 = nx.barabasi_albert_graph(100, 3)\n",
    "Gba2 = nx.barabasi_albert_graph(100, 3)\n",
    "\n",
    "print(\"Djs(ER1,ER2) =\", portrait_divergence(Ger1, Ger2))\n",
    "print(\"Djs(ER1,BA1) =\", portrait_divergence(Ger1, Gba1))\n",
    "print(\"Djs(ER1,BA2) =\", portrait_divergence(Ger1, Gba2))\n",
    "print(\"Djs(BA1,BA2) =\", portrait_divergence(Gba1, Gba2))"
   ]
  },
  {
   "cell_type": "code",
   "execution_count": null,
   "id": "49702b9f",
   "metadata": {},
   "outputs": [],
   "source": []
  },
  {
   "cell_type": "markdown",
   "id": "4b99c56c",
   "metadata": {},
   "source": [
    "### On real graphs (ca2)"
   ]
  },
  {
   "cell_type": "code",
   "execution_count": 5,
   "id": "38fea2a2",
   "metadata": {},
   "outputs": [],
   "source": [
    "mice = Mice((768, 4))\n",
    "mice.setup_func_data('rest')"
   ]
  },
  {
   "cell_type": "code",
   "execution_count": 6,
   "id": "436d6efb",
   "metadata": {},
   "outputs": [
    {
     "data": {
      "text/html": [
       "<pre style=\"white-space:pre;overflow-x:auto;line-height:normal;font-family:Menlo,'DejaVu Sans Mono',consolas,'Courier New',monospace\"><span style=\"font-weight: bold\">(</span><span style=\"color: #008080; text-decoration-color: #008080; font-weight: bold\">114</span>, <span style=\"color: #008080; text-decoration-color: #008080; font-weight: bold\">996</span>, <span style=\"color: #008080; text-decoration-color: #008080; font-weight: bold\">996</span><span style=\"font-weight: bold\">)</span>\n",
       "</pre>\n"
      ],
      "text/plain": [
       "\u001b[1m(\u001b[0m\u001b[1;36m114\u001b[0m, \u001b[1;36m996\u001b[0m, \u001b[1;36m996\u001b[0m\u001b[1m)\u001b[0m\n"
      ]
     },
     "metadata": {},
     "output_type": "display_data"
    }
   ],
   "source": [
    "adjacencies, dirs = collect_adjacencies(mice, 'ca2')\n",
    "adjacencies.shape"
   ]
  },
  {
   "cell_type": "code",
   "execution_count": 7,
   "id": "1b77ae3d",
   "metadata": {},
   "outputs": [
    {
     "data": {
      "image/png": "[encoded data removed]"
     },
     "metadata": {
      "needs_background": "light"
     },
     "output_type": "display_data"
    }
   ],
   "source": [
    "start = 0.80\n",
    "stop = 0.01\n",
    "num = 100\n",
    "densities = np.logspace(np.log10(start), np.log10(stop), num)\n",
    "plt.plot(densities);"
   ]
  },
  {
   "cell_type": "code",
   "execution_count": null,
   "id": "9907d4bb",
   "metadata": {},
   "outputs": [],
   "source": []
  },
  {
   "cell_type": "code",
   "execution_count": 8,
   "id": "b69ec826",
   "metadata": {},
   "outputs": [
    {
     "data": {
      "text/html": [
       "<pre style=\"white-space:pre;overflow-x:auto;line-height:normal;font-family:Menlo,'DejaVu Sans Mono',consolas,'Courier New',monospace\"><span style=\"color: #800080; text-decoration-color: #800080; font-weight: bold\">array</span><span style=\"font-weight: bold\">([</span><span style=\"color: #008080; text-decoration-color: #008080; font-weight: bold\">0.8</span>       , <span style=\"color: #008080; text-decoration-color: #008080; font-weight: bold\">0.76536193</span>, <span style=\"color: #008080; text-decoration-color: #008080; font-weight: bold\">0.7322236</span> , <span style=\"color: #008080; text-decoration-color: #008080; font-weight: bold\">0.70052009</span>, <span style=\"color: #008080; text-decoration-color: #008080; font-weight: bold\">0.67018926</span>,\n",
       "       <span style=\"color: #008080; text-decoration-color: #008080; font-weight: bold\">0.64117168</span>, <span style=\"color: #008080; text-decoration-color: #008080; font-weight: bold\">0.61341049</span>, <span style=\"color: #008080; text-decoration-color: #008080; font-weight: bold\">0.5868513</span> , <span style=\"color: #008080; text-decoration-color: #008080; font-weight: bold\">0.56144205</span>, <span style=\"color: #008080; text-decoration-color: #008080; font-weight: bold\">0.53713296</span>,\n",
       "       <span style=\"color: #008080; text-decoration-color: #008080; font-weight: bold\">0.5138764</span> , <span style=\"color: #008080; text-decoration-color: #008080; font-weight: bold\">0.49162679</span>, <span style=\"color: #008080; text-decoration-color: #008080; font-weight: bold\">0.47034054</span>, <span style=\"color: #008080; text-decoration-color: #008080; font-weight: bold\">0.44997593</span>, <span style=\"color: #008080; text-decoration-color: #008080; font-weight: bold\">0.43049306</span>,\n",
       "       <span style=\"color: #008080; text-decoration-color: #008080; font-weight: bold\">0.41185374</span>, <span style=\"color: #008080; text-decoration-color: #008080; font-weight: bold\">0.39402147</span>, <span style=\"color: #008080; text-decoration-color: #008080; font-weight: bold\">0.37696129</span>, <span style=\"color: #008080; text-decoration-color: #008080; font-weight: bold\">0.36063978</span>, <span style=\"color: #008080; text-decoration-color: #008080; font-weight: bold\">0.34502494</span>,\n",
       "       <span style=\"color: #008080; text-decoration-color: #008080; font-weight: bold\">0.3300862</span> , <span style=\"color: #008080; text-decoration-color: #008080; font-weight: bold\">0.31579426</span>, <span style=\"color: #008080; text-decoration-color: #008080; font-weight: bold\">0.30212113</span>, <span style=\"color: #008080; text-decoration-color: #008080; font-weight: bold\">0.28904001</span>, <span style=\"color: #008080; text-decoration-color: #008080; font-weight: bold\">0.27652528</span>,\n",
       "       <span style=\"color: #008080; text-decoration-color: #008080; font-weight: bold\">0.2645524</span> , <span style=\"color: #008080; text-decoration-color: #008080; font-weight: bold\">0.25309792</span>, <span style=\"color: #008080; text-decoration-color: #008080; font-weight: bold\">0.24213939</span>, <span style=\"color: #008080; text-decoration-color: #008080; font-weight: bold\">0.23165534</span>, <span style=\"color: #008080; text-decoration-color: #008080; font-weight: bold\">0.22162522</span>,\n",
       "       <span style=\"color: #008080; text-decoration-color: #008080; font-weight: bold\">0.21202938</span>, <span style=\"color: #008080; text-decoration-color: #008080; font-weight: bold\">0.20284902</span>, <span style=\"color: #008080; text-decoration-color: #008080; font-weight: bold\">0.19406615</span>, <span style=\"color: #008080; text-decoration-color: #008080; font-weight: bold\">0.18566355</span>, <span style=\"color: #008080; text-decoration-color: #008080; font-weight: bold\">0.17762477</span>,\n",
       "       <span style=\"color: #008080; text-decoration-color: #008080; font-weight: bold\">0.16993405</span>, <span style=\"color: #008080; text-decoration-color: #008080; font-weight: bold\">0.16257631</span>, <span style=\"color: #008080; text-decoration-color: #008080; font-weight: bold\">0.15553715</span>, <span style=\"color: #008080; text-decoration-color: #008080; font-weight: bold\">0.14880277</span>, <span style=\"color: #008080; text-decoration-color: #008080; font-weight: bold\">0.14235996</span>,\n",
       "       <span style=\"color: #008080; text-decoration-color: #008080; font-weight: bold\">0.13619612</span>, <span style=\"color: #008080; text-decoration-color: #008080; font-weight: bold\">0.13029916</span>, <span style=\"color: #008080; text-decoration-color: #008080; font-weight: bold\">0.12465752</span>, <span style=\"color: #008080; text-decoration-color: #008080; font-weight: bold\">0.11926015</span>, <span style=\"color: #008080; text-decoration-color: #008080; font-weight: bold\">0.11409647</span>,\n",
       "       <span style=\"color: #008080; text-decoration-color: #008080; font-weight: bold\">0.10915637</span>, <span style=\"color: #008080; text-decoration-color: #008080; font-weight: bold\">0.10443016</span>, <span style=\"color: #008080; text-decoration-color: #008080; font-weight: bold\">0.09990859</span>, <span style=\"color: #008080; text-decoration-color: #008080; font-weight: bold\">0.09558279</span>, <span style=\"color: #008080; text-decoration-color: #008080; font-weight: bold\">0.09144428</span>,\n",
       "       <span style=\"color: #008080; text-decoration-color: #008080; font-weight: bold\">0.08748497</span>, <span style=\"color: #008080; text-decoration-color: #008080; font-weight: bold\">0.08369708</span>, <span style=\"color: #008080; text-decoration-color: #008080; font-weight: bold\">0.0800732</span> , <span style=\"color: #008080; text-decoration-color: #008080; font-weight: bold\">0.07660622</span>, <span style=\"color: #008080; text-decoration-color: #008080; font-weight: bold\">0.07328936</span>,\n",
       "       <span style=\"color: #008080; text-decoration-color: #008080; font-weight: bold\">0.0701161</span> , <span style=\"color: #008080; text-decoration-color: #008080; font-weight: bold\">0.06708025</span>, <span style=\"color: #008080; text-decoration-color: #008080; font-weight: bold\">0.06417583</span>, <span style=\"color: #008080; text-decoration-color: #008080; font-weight: bold\">0.06139717</span>, <span style=\"color: #008080; text-decoration-color: #008080; font-weight: bold\">0.05873882</span>,\n",
       "       <span style=\"color: #008080; text-decoration-color: #008080; font-weight: bold\">0.05619557</span>, <span style=\"color: #008080; text-decoration-color: #008080; font-weight: bold\">0.05376244</span>, <span style=\"color: #008080; text-decoration-color: #008080; font-weight: bold\">0.05143466</span>, <span style=\"color: #008080; text-decoration-color: #008080; font-weight: bold\">0.04920766</span>, <span style=\"color: #008080; text-decoration-color: #008080; font-weight: bold\">0.04707709</span>,\n",
       "       <span style=\"color: #008080; text-decoration-color: #008080; font-weight: bold\">0.04503876</span>, <span style=\"color: #008080; text-decoration-color: #008080; font-weight: bold\">0.04308869</span>, <span style=\"color: #008080; text-decoration-color: #008080; font-weight: bold\">0.04122306</span>, <span style=\"color: #008080; text-decoration-color: #008080; font-weight: bold\">0.0394382</span> , <span style=\"color: #008080; text-decoration-color: #008080; font-weight: bold\">0.03773062</span>,\n",
       "       <span style=\"color: #008080; text-decoration-color: #008080; font-weight: bold\">0.03609697</span>, <span style=\"color: #008080; text-decoration-color: #008080; font-weight: bold\">0.03453406</span>, <span style=\"color: #008080; text-decoration-color: #008080; font-weight: bold\">0.03303882</span>, <span style=\"color: #008080; text-decoration-color: #008080; font-weight: bold\">0.03160832</span>, <span style=\"color: #008080; text-decoration-color: #008080; font-weight: bold\">0.03023976</span>,\n",
       "       <span style=\"color: #008080; text-decoration-color: #008080; font-weight: bold\">0.02893045</span>, <span style=\"color: #008080; text-decoration-color: #008080; font-weight: bold\">0.02767783</span>, <span style=\"color: #008080; text-decoration-color: #008080; font-weight: bold\">0.02647945</span>, <span style=\"color: #008080; text-decoration-color: #008080; font-weight: bold\">0.02533295</span>, <span style=\"color: #008080; text-decoration-color: #008080; font-weight: bold\">0.02423609</span>,\n",
       "       <span style=\"color: #008080; text-decoration-color: #008080; font-weight: bold\">0.02318673</span>, <span style=\"color: #008080; text-decoration-color: #008080; font-weight: bold\">0.0221828</span> , <span style=\"color: #008080; text-decoration-color: #008080; font-weight: bold\">0.02122234</span>, <span style=\"color: #008080; text-decoration-color: #008080; font-weight: bold\">0.02030346</span>, <span style=\"color: #008080; text-decoration-color: #008080; font-weight: bold\">0.01942437</span>,\n",
       "       <span style=\"color: #008080; text-decoration-color: #008080; font-weight: bold\">0.01858334</span>, <span style=\"color: #008080; text-decoration-color: #008080; font-weight: bold\">0.01777873</span>, <span style=\"color: #008080; text-decoration-color: #008080; font-weight: bold\">0.01700895</span>, <span style=\"color: #008080; text-decoration-color: #008080; font-weight: bold\">0.01627251</span>, <span style=\"color: #008080; text-decoration-color: #008080; font-weight: bold\">0.01556795</span>,\n",
       "       <span style=\"color: #008080; text-decoration-color: #008080; font-weight: bold\">0.01489389</span>, <span style=\"color: #008080; text-decoration-color: #008080; font-weight: bold\">0.01424902</span>, <span style=\"color: #008080; text-decoration-color: #008080; font-weight: bold\">0.01363207</span>, <span style=\"color: #008080; text-decoration-color: #008080; font-weight: bold\">0.01304184</span>, <span style=\"color: #008080; text-decoration-color: #008080; font-weight: bold\">0.01247716</span>,\n",
       "       <span style=\"color: #008080; text-decoration-color: #008080; font-weight: bold\">0.01193693</span>, <span style=\"color: #008080; text-decoration-color: #008080; font-weight: bold\">0.01142009</span>, <span style=\"color: #008080; text-decoration-color: #008080; font-weight: bold\">0.01092562</span>, <span style=\"color: #008080; text-decoration-color: #008080; font-weight: bold\">0.01045257</span>, <span style=\"color: #008080; text-decoration-color: #008080; font-weight: bold\">0.01</span>      <span style=\"font-weight: bold\">])</span>\n",
       "</pre>\n"
      ],
      "text/plain": [
       "\u001b[1;35marray\u001b[0m\u001b[1m(\u001b[0m\u001b[1m[\u001b[0m\u001b[1;36m0.8\u001b[0m       , \u001b[1;36m0.76536193\u001b[0m, \u001b[1;36m0.7322236\u001b[0m , \u001b[1;36m0.70052009\u001b[0m, \u001b[1;36m0.67018926\u001b[0m,\n",
       "       \u001b[1;36m0.64117168\u001b[0m, \u001b[1;36m0.61341049\u001b[0m, \u001b[1;36m0.5868513\u001b[0m , \u001b[1;36m0.56144205\u001b[0m, \u001b[1;36m0.53713296\u001b[0m,\n",
       "       \u001b[1;36m0.5138764\u001b[0m , \u001b[1;36m0.49162679\u001b[0m, \u001b[1;36m0.47034054\u001b[0m, \u001b[1;36m0.44997593\u001b[0m, \u001b[1;36m0.43049306\u001b[0m,\n",
       "       \u001b[1;36m0.41185374\u001b[0m, \u001b[1;36m0.39402147\u001b[0m, \u001b[1;36m0.37696129\u001b[0m, \u001b[1;36m0.36063978\u001b[0m, \u001b[1;36m0.34502494\u001b[0m,\n",
       "       \u001b[1;36m0.3300862\u001b[0m , \u001b[1;36m0.31579426\u001b[0m, \u001b[1;36m0.30212113\u001b[0m, \u001b[1;36m0.28904001\u001b[0m, \u001b[1;36m0.27652528\u001b[0m,\n",
       "       \u001b[1;36m0.2645524\u001b[0m , \u001b[1;36m0.25309792\u001b[0m, \u001b[1;36m0.24213939\u001b[0m, \u001b[1;36m0.23165534\u001b[0m, \u001b[1;36m0.22162522\u001b[0m,\n",
       "       \u001b[1;36m0.21202938\u001b[0m, \u001b[1;36m0.20284902\u001b[0m, \u001b[1;36m0.19406615\u001b[0m, \u001b[1;36m0.18566355\u001b[0m, \u001b[1;36m0.17762477\u001b[0m,\n",
       "       \u001b[1;36m0.16993405\u001b[0m, \u001b[1;36m0.16257631\u001b[0m, \u001b[1;36m0.15553715\u001b[0m, \u001b[1;36m0.14880277\u001b[0m, \u001b[1;36m0.14235996\u001b[0m,\n",
       "       \u001b[1;36m0.13619612\u001b[0m, \u001b[1;36m0.13029916\u001b[0m, \u001b[1;36m0.12465752\u001b[0m, \u001b[1;36m0.11926015\u001b[0m, \u001b[1;36m0.11409647\u001b[0m,\n",
       "       \u001b[1;36m0.10915637\u001b[0m, \u001b[1;36m0.10443016\u001b[0m, \u001b[1;36m0.09990859\u001b[0m, \u001b[1;36m0.09558279\u001b[0m, \u001b[1;36m0.09144428\u001b[0m,\n",
       "       \u001b[1;36m0.08748497\u001b[0m, \u001b[1;36m0.08369708\u001b[0m, \u001b[1;36m0.0800732\u001b[0m , \u001b[1;36m0.07660622\u001b[0m, \u001b[1;36m0.07328936\u001b[0m,\n",
       "       \u001b[1;36m0.0701161\u001b[0m , \u001b[1;36m0.06708025\u001b[0m, \u001b[1;36m0.06417583\u001b[0m, \u001b[1;36m0.06139717\u001b[0m, \u001b[1;36m0.05873882\u001b[0m,\n",
       "       \u001b[1;36m0.05619557\u001b[0m, \u001b[1;36m0.05376244\u001b[0m, \u001b[1;36m0.05143466\u001b[0m, \u001b[1;36m0.04920766\u001b[0m, \u001b[1;36m0.04707709\u001b[0m,\n",
       "       \u001b[1;36m0.04503876\u001b[0m, \u001b[1;36m0.04308869\u001b[0m, \u001b[1;36m0.04122306\u001b[0m, \u001b[1;36m0.0394382\u001b[0m , \u001b[1;36m0.03773062\u001b[0m,\n",
       "       \u001b[1;36m0.03609697\u001b[0m, \u001b[1;36m0.03453406\u001b[0m, \u001b[1;36m0.03303882\u001b[0m, \u001b[1;36m0.03160832\u001b[0m, \u001b[1;36m0.03023976\u001b[0m,\n",
       "       \u001b[1;36m0.02893045\u001b[0m, \u001b[1;36m0.02767783\u001b[0m, \u001b[1;36m0.02647945\u001b[0m, \u001b[1;36m0.02533295\u001b[0m, \u001b[1;36m0.02423609\u001b[0m,\n",
       "       \u001b[1;36m0.02318673\u001b[0m, \u001b[1;36m0.0221828\u001b[0m , \u001b[1;36m0.02122234\u001b[0m, \u001b[1;36m0.02030346\u001b[0m, \u001b[1;36m0.01942437\u001b[0m,\n",
       "       \u001b[1;36m0.01858334\u001b[0m, \u001b[1;36m0.01777873\u001b[0m, \u001b[1;36m0.01700895\u001b[0m, \u001b[1;36m0.01627251\u001b[0m, \u001b[1;36m0.01556795\u001b[0m,\n",
       "       \u001b[1;36m0.01489389\u001b[0m, \u001b[1;36m0.01424902\u001b[0m, \u001b[1;36m0.01363207\u001b[0m, \u001b[1;36m0.01304184\u001b[0m, \u001b[1;36m0.01247716\u001b[0m,\n",
       "       \u001b[1;36m0.01193693\u001b[0m, \u001b[1;36m0.01142009\u001b[0m, \u001b[1;36m0.01092562\u001b[0m, \u001b[1;36m0.01045257\u001b[0m, \u001b[1;36m0.01\u001b[0m      \u001b[1m]\u001b[0m\u001b[1m)\u001b[0m\n"
      ]
     },
     "metadata": {},
     "output_type": "display_data"
    }
   ],
   "source": [
    "densities"
   ]
  },
  {
   "cell_type": "code",
   "execution_count": null,
   "id": "48466661",
   "metadata": {},
   "outputs": [],
   "source": []
  },
  {
   "cell_type": "code",
   "execution_count": null,
   "id": "297aa8f9",
   "metadata": {},
   "outputs": [],
   "source": []
  },
  {
   "cell_type": "code",
   "execution_count": null,
   "id": "1c010715",
   "metadata": {},
   "outputs": [],
   "source": []
  },
  {
   "cell_type": "code",
   "execution_count": null,
   "id": "bed5ea65",
   "metadata": {},
   "outputs": [],
   "source": []
  },
  {
   "cell_type": "code",
   "execution_count": null,
   "id": "26f8efb0",
   "metadata": {},
   "outputs": [],
   "source": []
  },
  {
   "cell_type": "code",
   "execution_count": null,
   "id": "0030af5e",
   "metadata": {},
   "outputs": [],
   "source": []
  }
 ],
 "metadata": {
  "kernelspec": {
   "display_name": "Python 3",
   "language": "python",
   "name": "python3"
  },
  "language_info": {
   "codemirror_mode": {
    "name": "ipython",
    "version": 3
   },
   "file_extension": ".py",
   "mimetype": "text/x-python",
   "name": "python",
   "nbconvert_exporter": "python",
   "pygments_lexer": "ipython3",
   "version": "3.8.3"
  }
 },
 "nbformat": 4,
 "nbformat_minor": 5
}
