{
 "cells": [
  {
   "cell_type": "markdown",
   "id": "3702b035",
   "metadata": {},
   "source": [
    "# Dec 18th, 2021 (rabies)\n",
    "\n",
    "**Motivation**: Organize files shared by Gabe.  Includes clean time series, brain masks per run, and temporal masks. <br>"
   ]
  },
  {
   "cell_type": "code",
   "execution_count": 1,
   "id": "c8650d07",
   "metadata": {
    "tags": [
     "hide-input"
    ]
   },
   "outputs": [],
   "source": [
    "# HIDE CODE\n",
    "\n",
    "\n",
    "import os\n",
    "import sys\n",
    "import nibabel as nib\n",
    "import networkx as nx\n",
    "from time import time\n",
    "from pprint import pprint\n",
    "from copy import deepcopy as dc\n",
    "from os.path import join as pjoin\n",
    "from myterial import orange, blue_grey\n",
    "from IPython.display import display, IFrame, HTML\n",
    "from matplotlib.colors import rgb2hex, to_rgb\n",
    "import matplotlib.pyplot as plt\n",
    "import seaborn as sns\n",
    "\n",
    "# set style & no interpolalation\n",
    "import matplotlib\n",
    "matplotlib.rcParams['image.interpolation'] = 'none'\n",
    "sns.set_style('whitegrid')\n",
    "%matplotlib inline\n",
    "\n",
    "# tmp & extras dir\n",
    "git_dir = pjoin(os.environ['HOME'], 'Dropbox/git')\n",
    "tmp_dir = pjoin(git_dir, 'jb-Ca-fMRI/tmp')\n",
    "extras_dir = pjoin(git_dir, 'jb-Ca-fMRI/_extras')\n",
    "lfr_dir = pjoin(os.environ['HOME'], 'Documents/workspaces/lfr/binary_overlapping')\n",
    "\n",
    "\n",
    "# GitHub\n",
    "sys.path.insert(0, pjoin(git_dir, '_Ca-fMRI'))\n",
    "from register.atlas import make_tree_graph\n",
    "from register.parcellation import Parcellation\n",
    "from analysis.hierarchical import Hierarchical\n",
    "from analysis.bootstrap import *\n",
    "from analysis.svinet import *\n",
    "from analysis.group import *\n",
    "from analysis.lfr import *\n",
    "from utils.render import *\n",
    "from utils.plotting import *\n",
    "from model.mouse import Mice\n",
    "from model.configuration import Config\n",
    "\n",
    "# warnings\n",
    "import warnings\n",
    "warnings.filterwarnings('ignore', category=DeprecationWarning)"
   ]
  },
  {
   "cell_type": "code",
   "execution_count": 2,
   "id": "92720ae1",
   "metadata": {},
   "outputs": [
    {
     "data": {
      "text/html": [
       "<pre style=\"white-space:pre;overflow-x:auto;line-height:normal;font-family:Menlo,'DejaVu Sans Mono',consolas,'Courier New',monospace\"><span style=\"font-weight: bold\">[</span><span style=\"color: #008000; text-decoration-color: #008000\">'native_brain_mask'</span>, <span style=\"color: #008000; text-decoration-color: #008000\">'confound_correction_wf_datasink'</span><span style=\"font-weight: bold\">]</span>\n",
       "</pre>\n"
      ],
      "text/plain": [
       "\u001b[1m[\u001b[0m\u001b[32m'native_brain_mask'\u001b[0m, \u001b[32m'confound_correction_wf_datasink'\u001b[0m\u001b[1m]\u001b[0m\n"
      ]
     },
     "metadata": {},
     "output_type": "display_data"
    }
   ],
   "source": [
    "mice = Mice((192, 4))\n",
    "mice.setup_anat_data()\n",
    "\n",
    "meta_dir = pjoin(mice.cfg.base_dir, 'meta_info')\n",
    "cwd = pjoin(mice.cfg.download_dir, 'native_mot6_FD_DVARS_WM_CSF')\n",
    "os.listdir(cwd)"
   ]
  },
  {
   "cell_type": "code",
   "execution_count": null,
   "id": "e0114ba6",
   "metadata": {},
   "outputs": [],
   "source": []
  },
  {
   "cell_type": "code",
   "execution_count": 3,
   "id": "77b69215",
   "metadata": {},
   "outputs": [
    {
     "data": {
      "text/html": [
       "<pre style=\"white-space:pre;overflow-x:auto;line-height:normal;font-family:Menlo,'DejaVu Sans Mono',consolas,'Courier New',monospace\">Warning, missing:       sub-SLC03_ses-1_run-<span style=\"color: #008080; text-decoration-color: #008080; font-weight: bold\">1</span>\n",
       "</pre>\n"
      ],
      "text/plain": [
       "Warning, missing:       sub-SLC03_ses-1_run-\u001b[1;36m1\u001b[0m\n"
      ]
     },
     "metadata": {},
     "output_type": "display_data"
    },
    {
     "data": {
      "text/html": [
       "<pre style=\"white-space:pre;overflow-x:auto;line-height:normal;font-family:Menlo,'DejaVu Sans Mono',consolas,'Courier New',monospace\">Warning, missing:       sub-SLC03_ses-3_run-<span style=\"color: #008080; text-decoration-color: #008080; font-weight: bold\">2</span>\n",
       "</pre>\n"
      ],
      "text/plain": [
       "Warning, missing:       sub-SLC03_ses-3_run-\u001b[1;36m2\u001b[0m\n"
      ]
     },
     "metadata": {},
     "output_type": "display_data"
    },
    {
     "data": {
      "text/html": [
       "<pre style=\"white-space:pre;overflow-x:auto;line-height:normal;font-family:Menlo,'DejaVu Sans Mono',consolas,'Courier New',monospace\">Warning, missing:       sub-SLC04_ses-3_run-<span style=\"color: #008080; text-decoration-color: #008080; font-weight: bold\">2</span>\n",
       "</pre>\n"
      ],
      "text/plain": [
       "Warning, missing:       sub-SLC04_ses-3_run-\u001b[1;36m2\u001b[0m\n"
      ]
     },
     "metadata": {},
     "output_type": "display_data"
    },
    {
     "data": {
      "text/html": [
       "<pre style=\"white-space:pre;overflow-x:auto;line-height:normal;font-family:Menlo,'DejaVu Sans Mono',consolas,'Courier New',monospace\">Warning, missing:       sub-SLC05_ses-1_run-<span style=\"color: #008080; text-decoration-color: #008080; font-weight: bold\">5</span>\n",
       "</pre>\n"
      ],
      "text/plain": [
       "Warning, missing:       sub-SLC05_ses-1_run-\u001b[1;36m5\u001b[0m\n"
      ]
     },
     "metadata": {},
     "output_type": "display_data"
    },
    {
     "data": {
      "text/html": [
       "<pre style=\"white-space:pre;overflow-x:auto;line-height:normal;font-family:Menlo,'DejaVu Sans Mono',consolas,'Courier New',monospace\">Warning, missing:       sub-SLC06_ses-3_run-<span style=\"color: #008080; text-decoration-color: #008080; font-weight: bold\">2</span>\n",
       "</pre>\n"
      ],
      "text/plain": [
       "Warning, missing:       sub-SLC06_ses-3_run-\u001b[1;36m2\u001b[0m\n"
      ]
     },
     "metadata": {},
     "output_type": "display_data"
    },
    {
     "data": {
      "text/html": [
       "<pre style=\"white-space:pre;overflow-x:auto;line-height:normal;font-family:Menlo,'DejaVu Sans Mono',consolas,'Courier New',monospace\">Warning, missing:       sub-SLC07_ses-1_run-<span style=\"color: #008080; text-decoration-color: #008080; font-weight: bold\">6</span>\n",
       "</pre>\n"
      ],
      "text/plain": [
       "Warning, missing:       sub-SLC07_ses-1_run-\u001b[1;36m6\u001b[0m\n"
      ]
     },
     "metadata": {},
     "output_type": "display_data"
    },
    {
     "data": {
      "text/html": [
       "<pre style=\"white-space:pre;overflow-x:auto;line-height:normal;font-family:Menlo,'DejaVu Sans Mono',consolas,'Courier New',monospace\">Warning, missing:       sub-SLC08_ses-1_run-<span style=\"color: #008080; text-decoration-color: #008080; font-weight: bold\">7</span>\n",
       "</pre>\n"
      ],
      "text/plain": [
       "Warning, missing:       sub-SLC08_ses-1_run-\u001b[1;36m7\u001b[0m\n"
      ]
     },
     "metadata": {},
     "output_type": "display_data"
    },
    {
     "data": {
      "text/html": [
       "<pre style=\"white-space:pre;overflow-x:auto;line-height:normal;font-family:Menlo,'DejaVu Sans Mono',consolas,'Courier New',monospace\"><span style=\"font-weight: bold\">[</span>PROGRESS<span style=\"font-weight: bold\">]</span> <span style=\"color: #008000; text-decoration-color: #008000\">'temporal_mask.df'</span> saved at\n",
       "<span style=\"color: #800080; text-decoration-color: #800080\">/home/hadi/Documents/Ca-fMRI/</span><span style=\"color: #ff00ff; text-decoration-color: #ff00ff\">meta_info</span>\n",
       "</pre>\n"
      ],
      "text/plain": [
       "\u001b[1m[\u001b[0mPROGRESS\u001b[1m]\u001b[0m \u001b[32m'temporal_mask.df'\u001b[0m saved at\n",
       "\u001b[35m/home/hadi/Documents/Ca-fMRI/\u001b[0m\u001b[95mmeta_info\u001b[0m\n"
      ]
     },
     "metadata": {},
     "output_type": "display_data"
    }
   ],
   "source": [
    "csv_files = []\n",
    "for p in pathlib.Path(cwd).rglob('*.csv'):\n",
    "    csv_files.append(str(p))\n",
    "\n",
    "dlist = []\n",
    "for sub in mice.cfg.sub_ids:\n",
    "    for ses in mice.cfg.ses_ids:\n",
    "        for run in mice.cfg.run_ids:\n",
    "            patterns = [\n",
    "                f\"sub-SLC{sub:02d}\",\n",
    "                f\"ses-{ses:d}\",\n",
    "                f\"run-{run:d}\",\n",
    "            ]\n",
    "            key = '_'.join(patterns)\n",
    "            try:\n",
    "                f = next(\n",
    "                    e for e in csv_files if\n",
    "                    all(k in e for k in patterns)\n",
    "                )\n",
    "                vals = pd.read_csv(f).values.ravel()\n",
    "                dlist.append({\n",
    "                    'sub': [sub] * len(vals),\n",
    "                    'ses': [ses] * len(vals),\n",
    "                    'run': [run] * len(vals),\n",
    "                    'key': [key] * len(vals),\n",
    "                    'temporal_mask': vals.astype(int),\n",
    "                })\n",
    "            except StopIteration:\n",
    "                print(f\"Warning, missing:\\t{key}\")\n",
    "\n",
    "df = pd.DataFrame(merge_dicts(dlist))\n",
    "\n",
    "_ = save_obj(\n",
    "    obj=df,\n",
    "    file_name='temporal_mask',\n",
    "    save_dir=meta_dir,\n",
    "    mode='df',\n",
    ")"
   ]
  },
  {
   "cell_type": "code",
   "execution_count": null,
   "id": "310e3285",
   "metadata": {},
   "outputs": [],
   "source": []
  },
  {
   "cell_type": "code",
   "execution_count": 4,
   "id": "977ebd41",
   "metadata": {},
   "outputs": [
    {
     "data": {
      "text/html": [
       "<div>\n",
       "<style scoped>\n",
       "    .dataframe tbody tr th:only-of-type {\n",
       "        vertical-align: middle;\n",
       "    }\n",
       "\n",
       "    .dataframe tbody tr th {\n",
       "        vertical-align: top;\n",
       "    }\n",
       "\n",
       "    .dataframe thead th {\n",
       "        text-align: right;\n",
       "    }\n",
       "</style>\n",
       "<table border=\"1\" class=\"dataframe\">\n",
       "  <thead>\n",
       "    <tr style=\"text-align: right;\">\n",
       "      <th></th>\n",
       "      <th>sub</th>\n",
       "      <th>ses</th>\n",
       "      <th>run</th>\n",
       "      <th>key</th>\n",
       "      <th>temporal_mask</th>\n",
       "    </tr>\n",
       "  </thead>\n",
       "  <tbody>\n",
       "    <tr>\n",
       "      <th>0</th>\n",
       "      <td>1</td>\n",
       "      <td>1</td>\n",
       "      <td>1</td>\n",
       "      <td>sub-SLC01_ses-1_run-1</td>\n",
       "      <td>0</td>\n",
       "    </tr>\n",
       "    <tr>\n",
       "      <th>1</th>\n",
       "      <td>1</td>\n",
       "      <td>1</td>\n",
       "      <td>1</td>\n",
       "      <td>sub-SLC01_ses-1_run-1</td>\n",
       "      <td>1</td>\n",
       "    </tr>\n",
       "    <tr>\n",
       "      <th>2</th>\n",
       "      <td>1</td>\n",
       "      <td>1</td>\n",
       "      <td>1</td>\n",
       "      <td>sub-SLC01_ses-1_run-1</td>\n",
       "      <td>1</td>\n",
       "    </tr>\n",
       "    <tr>\n",
       "      <th>3</th>\n",
       "      <td>1</td>\n",
       "      <td>1</td>\n",
       "      <td>1</td>\n",
       "      <td>sub-SLC01_ses-1_run-1</td>\n",
       "      <td>1</td>\n",
       "    </tr>\n",
       "    <tr>\n",
       "      <th>4</th>\n",
       "      <td>1</td>\n",
       "      <td>1</td>\n",
       "      <td>1</td>\n",
       "      <td>sub-SLC01_ses-1_run-1</td>\n",
       "      <td>1</td>\n",
       "    </tr>\n",
       "    <tr>\n",
       "      <th>...</th>\n",
       "      <td>...</td>\n",
       "      <td>...</td>\n",
       "      <td>...</td>\n",
       "      <td>...</td>\n",
       "      <td>...</td>\n",
       "    </tr>\n",
       "    <tr>\n",
       "      <th>121795</th>\n",
       "      <td>10</td>\n",
       "      <td>3</td>\n",
       "      <td>7</td>\n",
       "      <td>sub-SLC10_ses-3_run-7</td>\n",
       "      <td>1</td>\n",
       "    </tr>\n",
       "    <tr>\n",
       "      <th>121796</th>\n",
       "      <td>10</td>\n",
       "      <td>3</td>\n",
       "      <td>7</td>\n",
       "      <td>sub-SLC10_ses-3_run-7</td>\n",
       "      <td>1</td>\n",
       "    </tr>\n",
       "    <tr>\n",
       "      <th>121797</th>\n",
       "      <td>10</td>\n",
       "      <td>3</td>\n",
       "      <td>7</td>\n",
       "      <td>sub-SLC10_ses-3_run-7</td>\n",
       "      <td>1</td>\n",
       "    </tr>\n",
       "    <tr>\n",
       "      <th>121798</th>\n",
       "      <td>10</td>\n",
       "      <td>3</td>\n",
       "      <td>7</td>\n",
       "      <td>sub-SLC10_ses-3_run-7</td>\n",
       "      <td>1</td>\n",
       "    </tr>\n",
       "    <tr>\n",
       "      <th>121799</th>\n",
       "      <td>10</td>\n",
       "      <td>3</td>\n",
       "      <td>7</td>\n",
       "      <td>sub-SLC10_ses-3_run-7</td>\n",
       "      <td>1</td>\n",
       "    </tr>\n",
       "  </tbody>\n",
       "</table>\n",
       "<p>121800 rows × 5 columns</p>\n",
       "</div>"
      ]
     },
     "execution_count": 4,
     "metadata": {},
     "output_type": "execute_result"
    }
   ],
   "source": [
    "df"
   ]
  },
  {
   "cell_type": "code",
   "execution_count": 5,
   "id": "461cba1b",
   "metadata": {},
   "outputs": [
    {
     "data": {
      "image/png": "[encoded data removed]"
     },
     "metadata": {
      "needs_background": "light"
     },
     "output_type": "display_data"
    }
   ],
   "source": [
    "sns.barplot(data=df, x='sub', y='temporal_mask')\n",
    "plt.show()"
   ]
  },
  {
   "cell_type": "code",
   "execution_count": null,
   "id": "62d4c5c4",
   "metadata": {},
   "outputs": [],
   "source": []
  },
  {
   "cell_type": "code",
   "execution_count": 6,
   "id": "1ec3ea4c",
   "metadata": {},
   "outputs": [
    {
     "data": {
      "text/html": [
       "<div>\n",
       "<style scoped>\n",
       "    .dataframe tbody tr th:only-of-type {\n",
       "        vertical-align: middle;\n",
       "    }\n",
       "\n",
       "    .dataframe tbody tr th {\n",
       "        vertical-align: top;\n",
       "    }\n",
       "\n",
       "    .dataframe thead th {\n",
       "        text-align: right;\n",
       "    }\n",
       "</style>\n",
       "<table border=\"1\" class=\"dataframe\">\n",
       "  <thead>\n",
       "    <tr style=\"text-align: right;\">\n",
       "      <th></th>\n",
       "      <th>sub</th>\n",
       "      <th>ses</th>\n",
       "      <th>run</th>\n",
       "      <th>temporal_mask</th>\n",
       "    </tr>\n",
       "    <tr>\n",
       "      <th>key</th>\n",
       "      <th></th>\n",
       "      <th></th>\n",
       "      <th></th>\n",
       "      <th></th>\n",
       "    </tr>\n",
       "  </thead>\n",
       "  <tbody>\n",
       "    <tr>\n",
       "      <th>sub-SLC01_ses-1_run-1</th>\n",
       "      <td>1.0</td>\n",
       "      <td>1.0</td>\n",
       "      <td>1.0</td>\n",
       "      <td>0.936667</td>\n",
       "    </tr>\n",
       "    <tr>\n",
       "      <th>sub-SLC01_ses-1_run-2</th>\n",
       "      <td>1.0</td>\n",
       "      <td>1.0</td>\n",
       "      <td>2.0</td>\n",
       "      <td>0.643333</td>\n",
       "    </tr>\n",
       "    <tr>\n",
       "      <th>sub-SLC01_ses-1_run-3</th>\n",
       "      <td>1.0</td>\n",
       "      <td>1.0</td>\n",
       "      <td>3.0</td>\n",
       "      <td>0.858333</td>\n",
       "    </tr>\n",
       "    <tr>\n",
       "      <th>sub-SLC01_ses-1_run-4</th>\n",
       "      <td>1.0</td>\n",
       "      <td>1.0</td>\n",
       "      <td>4.0</td>\n",
       "      <td>0.503333</td>\n",
       "    </tr>\n",
       "    <tr>\n",
       "      <th>sub-SLC01_ses-1_run-5</th>\n",
       "      <td>1.0</td>\n",
       "      <td>1.0</td>\n",
       "      <td>5.0</td>\n",
       "      <td>0.790000</td>\n",
       "    </tr>\n",
       "    <tr>\n",
       "      <th>...</th>\n",
       "      <td>...</td>\n",
       "      <td>...</td>\n",
       "      <td>...</td>\n",
       "      <td>...</td>\n",
       "    </tr>\n",
       "    <tr>\n",
       "      <th>sub-SLC10_ses-3_run-3</th>\n",
       "      <td>10.0</td>\n",
       "      <td>3.0</td>\n",
       "      <td>3.0</td>\n",
       "      <td>0.941667</td>\n",
       "    </tr>\n",
       "    <tr>\n",
       "      <th>sub-SLC10_ses-3_run-4</th>\n",
       "      <td>10.0</td>\n",
       "      <td>3.0</td>\n",
       "      <td>4.0</td>\n",
       "      <td>0.861667</td>\n",
       "    </tr>\n",
       "    <tr>\n",
       "      <th>sub-SLC10_ses-3_run-5</th>\n",
       "      <td>10.0</td>\n",
       "      <td>3.0</td>\n",
       "      <td>5.0</td>\n",
       "      <td>0.876667</td>\n",
       "    </tr>\n",
       "    <tr>\n",
       "      <th>sub-SLC10_ses-3_run-6</th>\n",
       "      <td>10.0</td>\n",
       "      <td>3.0</td>\n",
       "      <td>6.0</td>\n",
       "      <td>0.846667</td>\n",
       "    </tr>\n",
       "    <tr>\n",
       "      <th>sub-SLC10_ses-3_run-7</th>\n",
       "      <td>10.0</td>\n",
       "      <td>3.0</td>\n",
       "      <td>7.0</td>\n",
       "      <td>0.838333</td>\n",
       "    </tr>\n",
       "  </tbody>\n",
       "</table>\n",
       "<p>203 rows × 4 columns</p>\n",
       "</div>"
      ]
     },
     "execution_count": 6,
     "metadata": {},
     "output_type": "execute_result"
    }
   ],
   "source": [
    "df = df.groupby(['key']).mean()\n",
    "df"
   ]
  },
  {
   "cell_type": "code",
   "execution_count": 7,
   "id": "7f208584",
   "metadata": {},
   "outputs": [
    {
     "data": {
      "image/png": "[encoded data removed]"
     },
     "metadata": {},
     "output_type": "display_data"
    }
   ],
   "source": [
    "fig, ax = create_figure(1, 1, (6, 5))\n",
    "\n",
    "sns.histplot(df, x='temporal_mask', kde=True, ax=ax)\n",
    "q = df['temporal_mask'].quantile(q=0.05)\n",
    "ax.axvline(q, color='r', ls='--', label=f'5-th %-tile = {q:0.2f}')\n",
    "q = df['temporal_mask'].mean()\n",
    "ax.axvline(q, color='k', ls='-.', label=f'mean = {q:0.2f}')\n",
    "ax.set_xlabel('proportion of time points kept', fontsize=15)\n",
    "ax.set_ylabel('number of runs', fontsize=15)\n",
    "ax.grid()\n",
    "ax.legend()\n",
    "\n",
    "plt.show()"
   ]
  },
  {
   "cell_type": "code",
   "execution_count": null,
   "id": "83fbc07c",
   "metadata": {},
   "outputs": [],
   "source": []
  },
  {
   "cell_type": "code",
   "execution_count": 8,
   "id": "12b344f4",
   "metadata": {},
   "outputs": [
    {
     "data": {
      "text/html": [
       "<pre style=\"white-space:pre;overflow-x:auto;line-height:normal;font-family:Menlo,'DejaVu Sans Mono',consolas,'Courier New',monospace\"><span style=\"color: #008080; text-decoration-color: #008080; font-weight: bold\">0.6768333333333333</span>\n",
       "</pre>\n"
      ],
      "text/plain": [
       "\u001b[1;36m0.6768333333333333\u001b[0m\n"
      ]
     },
     "metadata": {},
     "output_type": "display_data"
    }
   ],
   "source": [
    "q = df['temporal_mask'].quantile(q=0.05)\n",
    "q"
   ]
  },
  {
   "cell_type": "code",
   "execution_count": 9,
   "id": "b93d84fd",
   "metadata": {},
   "outputs": [
    {
     "data": {
      "text/html": [
       "<div>\n",
       "<style scoped>\n",
       "    .dataframe tbody tr th:only-of-type {\n",
       "        vertical-align: middle;\n",
       "    }\n",
       "\n",
       "    .dataframe tbody tr th {\n",
       "        vertical-align: top;\n",
       "    }\n",
       "\n",
       "    .dataframe thead th {\n",
       "        text-align: right;\n",
       "    }\n",
       "</style>\n",
       "<table border=\"1\" class=\"dataframe\">\n",
       "  <thead>\n",
       "    <tr style=\"text-align: right;\">\n",
       "      <th></th>\n",
       "      <th>sub</th>\n",
       "      <th>ses</th>\n",
       "      <th>run</th>\n",
       "      <th>temporal_mask</th>\n",
       "    </tr>\n",
       "    <tr>\n",
       "      <th>key</th>\n",
       "      <th></th>\n",
       "      <th></th>\n",
       "      <th></th>\n",
       "      <th></th>\n",
       "    </tr>\n",
       "  </thead>\n",
       "  <tbody>\n",
       "    <tr>\n",
       "      <th>sub-SLC01_ses-1_run-2</th>\n",
       "      <td>1.0</td>\n",
       "      <td>1.0</td>\n",
       "      <td>2.0</td>\n",
       "      <td>0.643333</td>\n",
       "    </tr>\n",
       "    <tr>\n",
       "      <th>sub-SLC01_ses-1_run-4</th>\n",
       "      <td>1.0</td>\n",
       "      <td>1.0</td>\n",
       "      <td>4.0</td>\n",
       "      <td>0.503333</td>\n",
       "    </tr>\n",
       "    <tr>\n",
       "      <th>sub-SLC02_ses-2_run-5</th>\n",
       "      <td>2.0</td>\n",
       "      <td>2.0</td>\n",
       "      <td>5.0</td>\n",
       "      <td>0.608333</td>\n",
       "    </tr>\n",
       "    <tr>\n",
       "      <th>sub-SLC02_ses-3_run-5</th>\n",
       "      <td>2.0</td>\n",
       "      <td>3.0</td>\n",
       "      <td>5.0</td>\n",
       "      <td>0.590000</td>\n",
       "    </tr>\n",
       "    <tr>\n",
       "      <th>sub-SLC03_ses-1_run-3</th>\n",
       "      <td>3.0</td>\n",
       "      <td>1.0</td>\n",
       "      <td>3.0</td>\n",
       "      <td>0.603333</td>\n",
       "    </tr>\n",
       "    <tr>\n",
       "      <th>sub-SLC04_ses-1_run-4</th>\n",
       "      <td>4.0</td>\n",
       "      <td>1.0</td>\n",
       "      <td>4.0</td>\n",
       "      <td>0.661667</td>\n",
       "    </tr>\n",
       "    <tr>\n",
       "      <th>sub-SLC05_ses-2_run-2</th>\n",
       "      <td>5.0</td>\n",
       "      <td>2.0</td>\n",
       "      <td>2.0</td>\n",
       "      <td>0.643333</td>\n",
       "    </tr>\n",
       "    <tr>\n",
       "      <th>sub-SLC07_ses-1_run-5</th>\n",
       "      <td>7.0</td>\n",
       "      <td>1.0</td>\n",
       "      <td>5.0</td>\n",
       "      <td>0.676667</td>\n",
       "    </tr>\n",
       "    <tr>\n",
       "      <th>sub-SLC07_ses-1_run-7</th>\n",
       "      <td>7.0</td>\n",
       "      <td>1.0</td>\n",
       "      <td>7.0</td>\n",
       "      <td>0.590000</td>\n",
       "    </tr>\n",
       "    <tr>\n",
       "      <th>sub-SLC07_ses-2_run-1</th>\n",
       "      <td>7.0</td>\n",
       "      <td>2.0</td>\n",
       "      <td>1.0</td>\n",
       "      <td>0.518333</td>\n",
       "    </tr>\n",
       "    <tr>\n",
       "      <th>sub-SLC10_ses-1_run-5</th>\n",
       "      <td>10.0</td>\n",
       "      <td>1.0</td>\n",
       "      <td>5.0</td>\n",
       "      <td>0.608333</td>\n",
       "    </tr>\n",
       "  </tbody>\n",
       "</table>\n",
       "</div>"
      ]
     },
     "execution_count": 9,
     "metadata": {},
     "output_type": "execute_result"
    }
   ],
   "source": [
    "df.loc[df['temporal_mask'] <= q]"
   ]
  },
  {
   "cell_type": "code",
   "execution_count": null,
   "id": "4e77786a",
   "metadata": {},
   "outputs": [],
   "source": []
  },
  {
   "cell_type": "code",
   "execution_count": 10,
   "id": "042c7dfe",
   "metadata": {},
   "outputs": [
    {
     "data": {
      "text/html": [
       "<div>\n",
       "<style scoped>\n",
       "    .dataframe tbody tr th:only-of-type {\n",
       "        vertical-align: middle;\n",
       "    }\n",
       "\n",
       "    .dataframe tbody tr th {\n",
       "        vertical-align: top;\n",
       "    }\n",
       "\n",
       "    .dataframe thead th {\n",
       "        text-align: right;\n",
       "    }\n",
       "</style>\n",
       "<table border=\"1\" class=\"dataframe\">\n",
       "  <thead>\n",
       "    <tr style=\"text-align: right;\">\n",
       "      <th></th>\n",
       "      <th>sub</th>\n",
       "      <th>ses</th>\n",
       "      <th>run</th>\n",
       "      <th>temporal_mask</th>\n",
       "    </tr>\n",
       "    <tr>\n",
       "      <th>key</th>\n",
       "      <th></th>\n",
       "      <th></th>\n",
       "      <th></th>\n",
       "      <th></th>\n",
       "    </tr>\n",
       "  </thead>\n",
       "  <tbody>\n",
       "    <tr>\n",
       "      <th>sub-SLC01_ses-2_run-7</th>\n",
       "      <td>1.0</td>\n",
       "      <td>2.0</td>\n",
       "      <td>7.0</td>\n",
       "      <td>0.958333</td>\n",
       "    </tr>\n",
       "    <tr>\n",
       "      <th>sub-SLC03_ses-3_run-1</th>\n",
       "      <td>3.0</td>\n",
       "      <td>3.0</td>\n",
       "      <td>1.0</td>\n",
       "      <td>0.970000</td>\n",
       "    </tr>\n",
       "    <tr>\n",
       "      <th>sub-SLC06_ses-2_run-7</th>\n",
       "      <td>6.0</td>\n",
       "      <td>2.0</td>\n",
       "      <td>7.0</td>\n",
       "      <td>0.958333</td>\n",
       "    </tr>\n",
       "    <tr>\n",
       "      <th>sub-SLC07_ses-3_run-5</th>\n",
       "      <td>7.0</td>\n",
       "      <td>3.0</td>\n",
       "      <td>5.0</td>\n",
       "      <td>0.966667</td>\n",
       "    </tr>\n",
       "    <tr>\n",
       "      <th>sub-SLC08_ses-1_run-3</th>\n",
       "      <td>8.0</td>\n",
       "      <td>1.0</td>\n",
       "      <td>3.0</td>\n",
       "      <td>0.960000</td>\n",
       "    </tr>\n",
       "    <tr>\n",
       "      <th>sub-SLC09_ses-1_run-7</th>\n",
       "      <td>9.0</td>\n",
       "      <td>1.0</td>\n",
       "      <td>7.0</td>\n",
       "      <td>0.963333</td>\n",
       "    </tr>\n",
       "    <tr>\n",
       "      <th>sub-SLC10_ses-2_run-1</th>\n",
       "      <td>10.0</td>\n",
       "      <td>2.0</td>\n",
       "      <td>1.0</td>\n",
       "      <td>0.960000</td>\n",
       "    </tr>\n",
       "  </tbody>\n",
       "</table>\n",
       "</div>"
      ]
     },
     "execution_count": 10,
     "metadata": {},
     "output_type": "execute_result"
    }
   ],
   "source": [
    "df.loc[df['temporal_mask'] > 0.95]"
   ]
  },
  {
   "cell_type": "code",
   "execution_count": null,
   "id": "b1718a0b",
   "metadata": {},
   "outputs": [],
   "source": []
  },
  {
   "cell_type": "code",
   "execution_count": null,
   "id": "b4490b8c",
   "metadata": {},
   "outputs": [],
   "source": []
  },
  {
   "cell_type": "markdown",
   "id": "73c2d68e",
   "metadata": {},
   "source": [
    "## Brain mask"
   ]
  },
  {
   "cell_type": "code",
   "execution_count": 11,
   "id": "1ed149b4",
   "metadata": {},
   "outputs": [],
   "source": [
    "mask_files = []\n",
    "for p in pathlib.Path(cwd).rglob('*_brain_mask.nii.gz'):\n",
    "    mask_files.append(str(p))\n",
    "mask_files = sorted(mask_files)"
   ]
  },
  {
   "cell_type": "code",
   "execution_count": 12,
   "id": "e6824569",
   "metadata": {},
   "outputs": [
    {
     "data": {
      "text/html": [
       "<pre style=\"white-space:pre;overflow-x:auto;line-height:normal;font-family:Menlo,'DejaVu Sans Mono',consolas,'Courier New',monospace\">Warning, missing:       sub-SLC03_ses-1_run-<span style=\"color: #008080; text-decoration-color: #008080; font-weight: bold\">1</span>\n",
       "</pre>\n"
      ],
      "text/plain": [
       "Warning, missing:       sub-SLC03_ses-1_run-\u001b[1;36m1\u001b[0m\n"
      ]
     },
     "metadata": {},
     "output_type": "display_data"
    },
    {
     "data": {
      "text/html": [
       "<pre style=\"white-space:pre;overflow-x:auto;line-height:normal;font-family:Menlo,'DejaVu Sans Mono',consolas,'Courier New',monospace\">Warning, missing:       sub-SLC05_ses-1_run-<span style=\"color: #008080; text-decoration-color: #008080; font-weight: bold\">5</span>\n",
       "</pre>\n"
      ],
      "text/plain": [
       "Warning, missing:       sub-SLC05_ses-1_run-\u001b[1;36m5\u001b[0m\n"
      ]
     },
     "metadata": {},
     "output_type": "display_data"
    },
    {
     "data": {
      "text/html": [
       "<pre style=\"white-space:pre;overflow-x:auto;line-height:normal;font-family:Menlo,'DejaVu Sans Mono',consolas,'Courier New',monospace\">Warning, missing:       sub-SLC06_ses-3_run-<span style=\"color: #008080; text-decoration-color: #008080; font-weight: bold\">2</span>\n",
       "</pre>\n"
      ],
      "text/plain": [
       "Warning, missing:       sub-SLC06_ses-3_run-\u001b[1;36m2\u001b[0m\n"
      ]
     },
     "metadata": {},
     "output_type": "display_data"
    },
    {
     "data": {
      "text/html": [
       "<pre style=\"white-space:pre;overflow-x:auto;line-height:normal;font-family:Menlo,'DejaVu Sans Mono',consolas,'Courier New',monospace\">Warning, missing:       sub-SLC08_ses-1_run-<span style=\"color: #008080; text-decoration-color: #008080; font-weight: bold\">7</span>\n",
       "</pre>\n"
      ],
      "text/plain": [
       "Warning, missing:       sub-SLC08_ses-1_run-\u001b[1;36m7\u001b[0m\n"
      ]
     },
     "metadata": {},
     "output_type": "display_data"
    }
   ],
   "source": [
    "masks = {}\n",
    "for sub in mice.cfg.sub_ids:\n",
    "    for ses in mice.cfg.ses_ids:\n",
    "        for run in mice.cfg.run_ids:\n",
    "            patterns = [\n",
    "                f\"sub-SLC{sub:02d}\",\n",
    "                f\"ses-{ses:d}\",\n",
    "                f\"run-{run:d}\",\n",
    "            ]\n",
    "            key = '_'.join(patterns)\n",
    "            try:\n",
    "                f = next(\n",
    "                    e for e in mask_files if\n",
    "                    all(k in e for k in patterns)\n",
    "                )\n",
    "                masks[key] = ants.image_read(f)\n",
    "            except StopIteration:\n",
    "                print(f\"Warning, missing:\\t{key}\")"
   ]
  },
  {
   "cell_type": "code",
   "execution_count": 13,
   "id": "c0277833",
   "metadata": {},
   "outputs": [
    {
     "data": {
      "text/html": [
       "<pre style=\"white-space:pre;overflow-x:auto;line-height:normal;font-family:Menlo,'DejaVu Sans Mono',consolas,'Courier New',monospace\"><span style=\"color: #008080; text-decoration-color: #008080; font-weight: bold\">606</span>\n",
       "</pre>\n"
      ],
      "text/plain": [
       "\u001b[1;36m606\u001b[0m\n"
      ]
     },
     "metadata": {},
     "output_type": "display_data"
    }
   ],
   "source": [
    "good_ctr = 0\n",
    "for sub in mice.cfg.sub_ids:\n",
    "    for ses in mice.cfg.ses_ids:\n",
    "        key = f\"sub-SLC{sub:02d}_ses-{ses:d}\"\n",
    "        available = {k: v for k, v in masks.items() if key in k}\n",
    "        for i, j in itertools.combinations(range(len(available)), 2):\n",
    "            m1 = list(available.values())[i].numpy()\n",
    "            m2 = list(available.values())[j].numpy()\n",
    "            if overlap_score(m1, m2) != 1.0 or dice_score(m1, m2) != 1.0:\n",
    "                print(i, j, overlap_score(m1, m2), dice_score(m1, m2))\n",
    "            else:\n",
    "                good_ctr += 1\n",
    "good_ctr"
   ]
  },
  {
   "cell_type": "code",
   "execution_count": null,
   "id": "577b06a5",
   "metadata": {},
   "outputs": [],
   "source": []
  },
  {
   "cell_type": "code",
   "execution_count": 14,
   "id": "f77bcbf1",
   "metadata": {},
   "outputs": [
    {
     "data": {
      "image/png": "[encoded data removed]"
     },
     "metadata": {},
     "output_type": "display_data"
    }
   ],
   "source": [
    "i = 1\n",
    "j = 3\n",
    "m1 = masks[f'sub-SLC04_ses-2_run-{i}'].numpy()\n",
    "m2 = masks[f'sub-SLC04_ses-2_run-{j}'].numpy()\n",
    "fig, axes = create_figure(1, 2)\n",
    "axes[0].imshow(m1[..., 15])\n",
    "axes[1].imshow(m2[..., 15])\n",
    "plt.show()"
   ]
  },
  {
   "cell_type": "code",
   "execution_count": null,
   "id": "520183e9",
   "metadata": {},
   "outputs": [],
   "source": []
  },
  {
   "cell_type": "code",
   "execution_count": 15,
   "id": "24fb6c54",
   "metadata": {},
   "outputs": [],
   "source": [
    "masks_ses = {}\n",
    "for sub in mice.cfg.sub_ids:\n",
    "    for ses in mice.cfg.ses_ids:\n",
    "        _masks = []\n",
    "        for run in mice.cfg.run_ids:\n",
    "            key = mice.get_key(sub, ses, run)\n",
    "            m = masks.get(key)\n",
    "            if m is not None:\n",
    "                _masks.append(m.numpy())\n",
    "                \n",
    "        key = mice.get_key(sub, ses)\n",
    "        if len(_masks):\n",
    "            m = functools.reduce(np.logical_and, _masks)\n",
    "            masks_ses[key] = m.astype(bool)\n",
    "        else:\n",
    "            print(f\"Warning, missing:\\t{key}\")"
   ]
  },
  {
   "cell_type": "code",
   "execution_count": 16,
   "id": "08d6956c",
   "metadata": {},
   "outputs": [
    {
     "data": {
      "text/html": [
       "<pre style=\"white-space:pre;overflow-x:auto;line-height:normal;font-family:Menlo,'DejaVu Sans Mono',consolas,'Courier New',monospace\"><span style=\"font-weight: bold\">(</span><span style=\"color: #008080; text-decoration-color: #008080; font-weight: bold\">32</span>, <span style=\"color: #008080; text-decoration-color: #008080; font-weight: bold\">43</span>, <span style=\"color: #008080; text-decoration-color: #008080; font-weight: bold\">26</span><span style=\"font-weight: bold\">)</span>\n",
       "</pre>\n"
      ],
      "text/plain": [
       "\u001b[1m(\u001b[0m\u001b[1;36m32\u001b[0m, \u001b[1;36m43\u001b[0m, \u001b[1;36m26\u001b[0m\u001b[1m)\u001b[0m\n"
      ]
     },
     "metadata": {},
     "output_type": "display_data"
    }
   ],
   "source": [
    "masks_ses['sub-SLC02_ses-1'].shape"
   ]
  },
  {
   "cell_type": "code",
   "execution_count": 17,
   "id": "63b0ea61",
   "metadata": {},
   "outputs": [
    {
     "data": {
      "text/html": [
       "<pre style=\"white-space:pre;overflow-x:auto;line-height:normal;font-family:Menlo,'DejaVu Sans Mono',consolas,'Courier New',monospace\"><span style=\"font-weight: bold\">(</span><span style=\"color: #008080; text-decoration-color: #008080; font-weight: bold\">10</span>, <span style=\"color: #008080; text-decoration-color: #008080; font-weight: bold\">3</span><span style=\"font-weight: bold\">)</span>\n",
       "</pre>\n"
      ],
      "text/plain": [
       "\u001b[1m(\u001b[0m\u001b[1;36m10\u001b[0m, \u001b[1;36m3\u001b[0m\u001b[1m)\u001b[0m\n"
      ]
     },
     "metadata": {},
     "output_type": "display_data"
    }
   ],
   "source": [
    "sub, ses"
   ]
  },
  {
   "cell_type": "code",
   "execution_count": null,
   "id": "77c448fd",
   "metadata": {},
   "outputs": [],
   "source": []
  },
  {
   "cell_type": "code",
   "execution_count": 18,
   "id": "cae6dfc9",
   "metadata": {},
   "outputs": [
    {
     "data": {
      "text/html": [
       "<pre style=\"white-space:pre;overflow-x:auto;line-height:normal;font-family:Menlo,'DejaVu Sans Mono',consolas,'Courier New',monospace\"><span style=\"font-weight: bold\">&lt;</span><span style=\"color: #ff00ff; text-decoration-color: #ff00ff; font-weight: bold\">matplotlib.image.AxesImage</span><span style=\"color: #000000; text-decoration-color: #000000\"> object at </span><span style=\"color: #008080; text-decoration-color: #008080; font-weight: bold\">0x7f4c335a49d0</span><span style=\"font-weight: bold\">&gt;</span>\n",
       "</pre>\n"
      ],
      "text/plain": [
       "\u001b[1m<\u001b[0m\u001b[1;95mmatplotlib.image.AxesImage\u001b[0m\u001b[39m object at \u001b[0m\u001b[1;36m0x7f4c335a49d0\u001b[0m\u001b[1m>\u001b[0m\n"
      ]
     },
     "metadata": {},
     "output_type": "display_data"
    },
    {
     "data": {
      "image/png": "[encoded data removed]"
     },
     "metadata": {},
     "output_type": "display_data"
    }
   ],
   "source": [
    "plt.imshow(masks_ses['sub-SLC04_ses-2'][..., 15])"
   ]
  },
  {
   "cell_type": "code",
   "execution_count": null,
   "id": "28919c99",
   "metadata": {},
   "outputs": [],
   "source": []
  },
  {
   "cell_type": "code",
   "execution_count": 23,
   "id": "c29fb7ab",
   "metadata": {},
   "outputs": [
    {
     "data": {
      "text/html": [
       "<pre style=\"white-space:pre;overflow-x:auto;line-height:normal;font-family:Menlo,'DejaVu Sans Mono',consolas,'Courier New',monospace\">ANTsImage <span style=\"font-weight: bold\">(</span>RAI<span style=\"font-weight: bold\">)</span>\n",
       "         Pixel Type : float <span style=\"font-weight: bold\">(</span>float32<span style=\"font-weight: bold\">)</span>\n",
       "         Components : <span style=\"color: #008080; text-decoration-color: #008080; font-weight: bold\">1</span>\n",
       "         Dimensions : <span style=\"font-weight: bold\">(</span><span style=\"color: #008080; text-decoration-color: #008080; font-weight: bold\">64</span>, <span style=\"color: #008080; text-decoration-color: #008080; font-weight: bold\">64</span>, <span style=\"color: #008080; text-decoration-color: #008080; font-weight: bold\">78</span><span style=\"font-weight: bold\">)</span>\n",
       "         Spacing    : <span style=\"font-weight: bold\">(</span><span style=\"color: #008080; text-decoration-color: #008080; font-weight: bold\">0.2</span>, <span style=\"color: #008080; text-decoration-color: #008080; font-weight: bold\">0.2</span>, <span style=\"color: #008080; text-decoration-color: #008080; font-weight: bold\">0.2</span><span style=\"font-weight: bold\">)</span>\n",
       "         Origin     : <span style=\"font-weight: bold\">(</span><span style=\"color: #008080; text-decoration-color: #008080; font-weight: bold\">6.4</span>, <span style=\"color: #008080; text-decoration-color: #008080; font-weight: bold\">-6.2</span>, <span style=\"color: #008080; text-decoration-color: #008080; font-weight: bold\">-7.8</span><span style=\"font-weight: bold\">)</span>\n",
       "         Direction  : <span style=\"font-weight: bold\">[</span><span style=\"color: #008080; text-decoration-color: #008080; font-weight: bold\">1</span>. <span style=\"color: #008080; text-decoration-color: #008080; font-weight: bold\">0</span>. <span style=\"color: #008080; text-decoration-color: #008080; font-weight: bold\">0</span>. <span style=\"color: #008080; text-decoration-color: #008080; font-weight: bold\">0</span>. <span style=\"color: #008080; text-decoration-color: #008080; font-weight: bold\">1</span>. <span style=\"color: #008080; text-decoration-color: #008080; font-weight: bold\">0</span>. <span style=\"color: #008080; text-decoration-color: #008080; font-weight: bold\">0</span>. <span style=\"color: #008080; text-decoration-color: #008080; font-weight: bold\">0</span>. <span style=\"color: #008080; text-decoration-color: #008080; font-weight: bold\">1</span>.<span style=\"font-weight: bold\">]</span>\n",
       "\n",
       "</pre>\n"
      ],
      "text/plain": [
       "ANTsImage \u001b[1m(\u001b[0mRAI\u001b[1m)\u001b[0m\n",
       "         Pixel Type : float \u001b[1m(\u001b[0mfloat32\u001b[1m)\u001b[0m\n",
       "         Components : \u001b[1;36m1\u001b[0m\n",
       "         Dimensions : \u001b[1m(\u001b[0m\u001b[1;36m64\u001b[0m, \u001b[1;36m64\u001b[0m, \u001b[1;36m78\u001b[0m\u001b[1m)\u001b[0m\n",
       "         Spacing    : \u001b[1m(\u001b[0m\u001b[1;36m0.2\u001b[0m, \u001b[1;36m0.2\u001b[0m, \u001b[1;36m0.2\u001b[0m\u001b[1m)\u001b[0m\n",
       "         Origin     : \u001b[1m(\u001b[0m\u001b[1;36m6.4\u001b[0m, \u001b[1;36m-6.2\u001b[0m, \u001b[1;36m-7.8\u001b[0m\u001b[1m)\u001b[0m\n",
       "         Direction  : \u001b[1m[\u001b[0m\u001b[1;36m1\u001b[0m. \u001b[1;36m0\u001b[0m. \u001b[1;36m0\u001b[0m. \u001b[1;36m0\u001b[0m. \u001b[1;36m1\u001b[0m. \u001b[1;36m0\u001b[0m. \u001b[1;36m0\u001b[0m. \u001b[1;36m0\u001b[0m. \u001b[1;36m1\u001b[0m.\u001b[1m]\u001b[0m\n",
       "\n"
      ]
     },
     "metadata": {},
     "output_type": "display_data"
    }
   ],
   "source": [
    "m200 = mice.mask3d['sub-SLC04_ses-2'].load_ants()\n",
    "m200"
   ]
  },
  {
   "cell_type": "code",
   "execution_count": 24,
   "id": "551df7ea",
   "metadata": {},
   "outputs": [
    {
     "data": {
      "text/html": [
       "<pre style=\"white-space:pre;overflow-x:auto;line-height:normal;font-family:Menlo,'DejaVu Sans Mono',consolas,'Courier New',monospace\">ANTsImage <span style=\"font-weight: bold\">(</span>LPI<span style=\"font-weight: bold\">)</span>\n",
       "         Pixel Type : float <span style=\"font-weight: bold\">(</span>float32<span style=\"font-weight: bold\">)</span>\n",
       "         Components : <span style=\"color: #008080; text-decoration-color: #008080; font-weight: bold\">1</span>\n",
       "         Dimensions : <span style=\"font-weight: bold\">(</span><span style=\"color: #008080; text-decoration-color: #008080; font-weight: bold\">32</span>, <span style=\"color: #008080; text-decoration-color: #008080; font-weight: bold\">45</span>, <span style=\"color: #008080; text-decoration-color: #008080; font-weight: bold\">26</span><span style=\"font-weight: bold\">)</span>\n",
       "         Spacing    : <span style=\"font-weight: bold\">(</span><span style=\"color: #008080; text-decoration-color: #008080; font-weight: bold\">0.4</span>, <span style=\"color: #008080; text-decoration-color: #008080; font-weight: bold\">0.4</span>, <span style=\"color: #008080; text-decoration-color: #008080; font-weight: bold\">0.4</span><span style=\"font-weight: bold\">)</span>\n",
       "         Origin     : <span style=\"font-weight: bold\">(</span><span style=\"color: #008080; text-decoration-color: #008080; font-weight: bold\">19.0</span>, <span style=\"color: #008080; text-decoration-color: #008080; font-weight: bold\">7.9</span>, <span style=\"color: #008080; text-decoration-color: #008080; font-weight: bold\">-4.65</span><span style=\"font-weight: bold\">)</span>\n",
       "         Direction  : <span style=\"font-weight: bold\">[</span><span style=\"color: #008080; text-decoration-color: #008080; font-weight: bold\">-1</span>.  <span style=\"color: #008080; text-decoration-color: #008080; font-weight: bold\">0</span>.  <span style=\"color: #008080; text-decoration-color: #008080; font-weight: bold\">0</span>.  <span style=\"color: #008080; text-decoration-color: #008080; font-weight: bold\">0</span>. <span style=\"color: #008080; text-decoration-color: #008080; font-weight: bold\">-1</span>.  <span style=\"color: #008080; text-decoration-color: #008080; font-weight: bold\">0</span>.  <span style=\"color: #008080; text-decoration-color: #008080; font-weight: bold\">0</span>.  <span style=\"color: #008080; text-decoration-color: #008080; font-weight: bold\">0</span>.  <span style=\"color: #008080; text-decoration-color: #008080; font-weight: bold\">1</span>.<span style=\"font-weight: bold\">]</span>\n",
       "\n",
       "</pre>\n"
      ],
      "text/plain": [
       "ANTsImage \u001b[1m(\u001b[0mLPI\u001b[1m)\u001b[0m\n",
       "         Pixel Type : float \u001b[1m(\u001b[0mfloat32\u001b[1m)\u001b[0m\n",
       "         Components : \u001b[1;36m1\u001b[0m\n",
       "         Dimensions : \u001b[1m(\u001b[0m\u001b[1;36m32\u001b[0m, \u001b[1;36m45\u001b[0m, \u001b[1;36m26\u001b[0m\u001b[1m)\u001b[0m\n",
       "         Spacing    : \u001b[1m(\u001b[0m\u001b[1;36m0.4\u001b[0m, \u001b[1;36m0.4\u001b[0m, \u001b[1;36m0.4\u001b[0m\u001b[1m)\u001b[0m\n",
       "         Origin     : \u001b[1m(\u001b[0m\u001b[1;36m19.0\u001b[0m, \u001b[1;36m7.9\u001b[0m, \u001b[1;36m-4.65\u001b[0m\u001b[1m)\u001b[0m\n",
       "         Direction  : \u001b[1m[\u001b[0m\u001b[1;36m-1\u001b[0m.  \u001b[1;36m0\u001b[0m.  \u001b[1;36m0\u001b[0m.  \u001b[1;36m0\u001b[0m. \u001b[1;36m-1\u001b[0m.  \u001b[1;36m0\u001b[0m.  \u001b[1;36m0\u001b[0m.  \u001b[1;36m0\u001b[0m.  \u001b[1;36m1\u001b[0m.\u001b[1m]\u001b[0m\n",
       "\n"
      ]
     },
     "metadata": {},
     "output_type": "display_data"
    }
   ],
   "source": [
    "m400 = masks['sub-SLC04_ses-2_run-1']\n",
    "m400"
   ]
  },
  {
   "cell_type": "code",
   "execution_count": null,
   "id": "c686a161",
   "metadata": {},
   "outputs": [],
   "source": []
  },
  {
   "cell_type": "code",
   "execution_count": 54,
   "id": "7d05cc3e",
   "metadata": {},
   "outputs": [
    {
     "data": {
      "image/png": "[encoded data removed]"
     },
     "metadata": {},
     "output_type": "display_data"
    }
   ],
   "source": [
    "fig, axes = create_figure(1, 2, (13, 5.5))\n",
    "axes[0].imshow(m200[..., 40].T)\n",
    "axes[1].imshow(m400[:, 23, :].T[::-1])\n",
    "\n",
    "axes[0].set_title('Yale')\n",
    "axes[1].set_title('Gabe')\n",
    "plt.show()"
   ]
  },
  {
   "cell_type": "code",
   "execution_count": null,
   "id": "2f05a801",
   "metadata": {},
   "outputs": [],
   "source": []
  },
  {
   "cell_type": "code",
   "execution_count": null,
   "id": "ea22f0a5",
   "metadata": {},
   "outputs": [],
   "source": []
  },
  {
   "cell_type": "code",
   "execution_count": 46,
   "id": "33d43a00",
   "metadata": {},
   "outputs": [
    {
     "data": {
      "text/html": [
       "<pre style=\"white-space:pre;overflow-x:auto;line-height:normal;font-family:Menlo,'DejaVu Sans Mono',consolas,'Courier New',monospace\"><span style=\"color: #008080; text-decoration-color: #008080; font-weight: bold\">23.076923076923073</span>\n",
       "</pre>\n"
      ],
      "text/plain": [
       "\u001b[1;36m23.076923076923073\u001b[0m\n"
      ]
     },
     "metadata": {},
     "output_type": "display_data"
    }
   ],
   "source": [
    "45 / 78 * 40"
   ]
  },
  {
   "cell_type": "code",
   "execution_count": null,
   "id": "7522d193",
   "metadata": {},
   "outputs": [],
   "source": []
  },
  {
   "cell_type": "code",
   "execution_count": null,
   "id": "2bcb8ca3",
   "metadata": {},
   "outputs": [],
   "source": []
  },
  {
   "cell_type": "code",
   "execution_count": null,
   "id": "e883a65d",
   "metadata": {},
   "outputs": [],
   "source": []
  },
  {
   "cell_type": "code",
   "execution_count": null,
   "id": "f1b73f14",
   "metadata": {},
   "outputs": [],
   "source": []
  },
  {
   "cell_type": "code",
   "execution_count": 19,
   "id": "5106e5a6",
   "metadata": {},
   "outputs": [],
   "source": [
    "bold_files = []\n",
    "for p in pathlib.Path(cwd).rglob('*_bold_combined_cleaned.nii.gz'):\n",
    "    bold_files.append(str(p))\n",
    "bold_files = sorted(bold_files)"
   ]
  },
  {
   "cell_type": "code",
   "execution_count": 23,
   "id": "a7556fb8",
   "metadata": {},
   "outputs": [
    {
     "data": {
      "text/html": [
       "<pre style=\"white-space:pre;overflow-x:auto;line-height:normal;font-family:Menlo,'DejaVu Sans Mono',consolas,'Courier New',monospace\">Warning, missing:       sub-SLC03_ses-1_run-<span style=\"color: #008080; text-decoration-color: #008080; font-weight: bold\">1</span>\n",
       "</pre>\n"
      ],
      "text/plain": [
       "Warning, missing:       sub-SLC03_ses-1_run-\u001b[1;36m1\u001b[0m\n"
      ]
     },
     "metadata": {},
     "output_type": "display_data"
    },
    {
     "data": {
      "text/html": [
       "<pre style=\"white-space:pre;overflow-x:auto;line-height:normal;font-family:Menlo,'DejaVu Sans Mono',consolas,'Courier New',monospace\">Warning, missing:       sub-SLC03_ses-3_run-<span style=\"color: #008080; text-decoration-color: #008080; font-weight: bold\">2</span>\n",
       "</pre>\n"
      ],
      "text/plain": [
       "Warning, missing:       sub-SLC03_ses-3_run-\u001b[1;36m2\u001b[0m\n"
      ]
     },
     "metadata": {},
     "output_type": "display_data"
    },
    {
     "data": {
      "text/html": [
       "<pre style=\"white-space:pre;overflow-x:auto;line-height:normal;font-family:Menlo,'DejaVu Sans Mono',consolas,'Courier New',monospace\">Warning, missing:       sub-SLC04_ses-3_run-<span style=\"color: #008080; text-decoration-color: #008080; font-weight: bold\">2</span>\n",
       "</pre>\n"
      ],
      "text/plain": [
       "Warning, missing:       sub-SLC04_ses-3_run-\u001b[1;36m2\u001b[0m\n"
      ]
     },
     "metadata": {},
     "output_type": "display_data"
    },
    {
     "data": {
      "text/html": [
       "<pre style=\"white-space:pre;overflow-x:auto;line-height:normal;font-family:Menlo,'DejaVu Sans Mono',consolas,'Courier New',monospace\">Warning, missing:       sub-SLC05_ses-1_run-<span style=\"color: #008080; text-decoration-color: #008080; font-weight: bold\">5</span>\n",
       "</pre>\n"
      ],
      "text/plain": [
       "Warning, missing:       sub-SLC05_ses-1_run-\u001b[1;36m5\u001b[0m\n"
      ]
     },
     "metadata": {},
     "output_type": "display_data"
    },
    {
     "data": {
      "text/html": [
       "<pre style=\"white-space:pre;overflow-x:auto;line-height:normal;font-family:Menlo,'DejaVu Sans Mono',consolas,'Courier New',monospace\">Warning, missing:       sub-SLC06_ses-3_run-<span style=\"color: #008080; text-decoration-color: #008080; font-weight: bold\">2</span>\n",
       "</pre>\n"
      ],
      "text/plain": [
       "Warning, missing:       sub-SLC06_ses-3_run-\u001b[1;36m2\u001b[0m\n"
      ]
     },
     "metadata": {},
     "output_type": "display_data"
    },
    {
     "data": {
      "text/html": [
       "<pre style=\"white-space:pre;overflow-x:auto;line-height:normal;font-family:Menlo,'DejaVu Sans Mono',consolas,'Courier New',monospace\">Warning, missing:       sub-SLC07_ses-1_run-<span style=\"color: #008080; text-decoration-color: #008080; font-weight: bold\">6</span>\n",
       "</pre>\n"
      ],
      "text/plain": [
       "Warning, missing:       sub-SLC07_ses-1_run-\u001b[1;36m6\u001b[0m\n"
      ]
     },
     "metadata": {},
     "output_type": "display_data"
    },
    {
     "data": {
      "text/html": [
       "<pre style=\"white-space:pre;overflow-x:auto;line-height:normal;font-family:Menlo,'DejaVu Sans Mono',consolas,'Courier New',monospace\">Warning, missing:       sub-SLC08_ses-1_run-<span style=\"color: #008080; text-decoration-color: #008080; font-weight: bold\">7</span>\n",
       "</pre>\n"
      ],
      "text/plain": [
       "Warning, missing:       sub-SLC08_ses-1_run-\u001b[1;36m7\u001b[0m\n"
      ]
     },
     "metadata": {},
     "output_type": "display_data"
    }
   ],
   "source": [
    "for sub in mice.cfg.sub_ids:\n",
    "    for ses in mice.cfg.ses_ids:\n",
    "        for run in mice.cfg.run_ids:\n",
    "            patterns = [\n",
    "                f\"sub-SLC{sub:02d}\",\n",
    "                f\"ses-{ses:d}\",\n",
    "                f\"run-{run:d}\",\n",
    "            ]\n",
    "            key = '_'.join(patterns)\n",
    "            try:\n",
    "                f = next(\n",
    "                    e for e in bold_files if\n",
    "                    all(k in e for k in patterns)\n",
    "                )\n",
    "            except StopIteration:\n",
    "                print(f\"Warning, missing:\\t{key}\")"
   ]
  },
  {
   "cell_type": "code",
   "execution_count": 24,
   "id": "ef9165aa",
   "metadata": {},
   "outputs": [
    {
     "data": {
      "text/html": [
       "<pre style=\"white-space:pre;overflow-x:auto;line-height:normal;font-family:Menlo,'DejaVu Sans Mono',consolas,'Courier New',monospace\">ANTsImage\n",
       "         Pixel Type : float <span style=\"font-weight: bold\">(</span>float32<span style=\"font-weight: bold\">)</span>\n",
       "         Components : <span style=\"color: #008080; text-decoration-color: #008080; font-weight: bold\">1</span>\n",
       "         Dimensions : <span style=\"font-weight: bold\">(</span><span style=\"color: #008080; text-decoration-color: #008080; font-weight: bold\">32</span>, <span style=\"color: #008080; text-decoration-color: #008080; font-weight: bold\">45</span>, <span style=\"color: #008080; text-decoration-color: #008080; font-weight: bold\">26</span>, <span style=\"color: #008080; text-decoration-color: #008080; font-weight: bold\">503</span><span style=\"font-weight: bold\">)</span>\n",
       "         Spacing    : <span style=\"font-weight: bold\">(</span><span style=\"color: #008080; text-decoration-color: #008080; font-weight: bold\">0.4</span>, <span style=\"color: #008080; text-decoration-color: #008080; font-weight: bold\">0.4</span>, <span style=\"color: #008080; text-decoration-color: #008080; font-weight: bold\">0.4</span>, <span style=\"color: #008080; text-decoration-color: #008080; font-weight: bold\">1.0</span><span style=\"font-weight: bold\">)</span>\n",
       "         Origin     : <span style=\"font-weight: bold\">(</span><span style=\"color: #008080; text-decoration-color: #008080; font-weight: bold\">19.3</span>, <span style=\"color: #008080; text-decoration-color: #008080; font-weight: bold\">7.75</span>, <span style=\"color: #008080; text-decoration-color: #008080; font-weight: bold\">-4.95</span>, <span style=\"color: #008080; text-decoration-color: #008080; font-weight: bold\">0.0</span><span style=\"font-weight: bold\">)</span>\n",
       "         Direction  : <span style=\"font-weight: bold\">[</span><span style=\"color: #008080; text-decoration-color: #008080; font-weight: bold\">-1</span>.  <span style=\"color: #008080; text-decoration-color: #008080; font-weight: bold\">0</span>.  <span style=\"color: #008080; text-decoration-color: #008080; font-weight: bold\">0</span>.  <span style=\"color: #008080; text-decoration-color: #008080; font-weight: bold\">0</span>.  <span style=\"color: #008080; text-decoration-color: #008080; font-weight: bold\">0</span>. <span style=\"color: #008080; text-decoration-color: #008080; font-weight: bold\">-1</span>.  <span style=\"color: #008080; text-decoration-color: #008080; font-weight: bold\">0</span>.  <span style=\"color: #008080; text-decoration-color: #008080; font-weight: bold\">0</span>.  <span style=\"color: #008080; text-decoration-color: #008080; font-weight: bold\">0</span>.  <span style=\"color: #008080; text-decoration-color: #008080; font-weight: bold\">0</span>.  <span style=\"color: #008080; text-decoration-color: #008080; font-weight: bold\">1</span>.  <span style=\"color: #008080; text-decoration-color: #008080; font-weight: bold\">0</span>.  <span style=\"color: #008080; text-decoration-color: #008080; font-weight: bold\">0</span>.  <span style=\"color: #008080; text-decoration-color: #008080; font-weight: bold\">0</span>.  <span style=\"color: #008080; text-decoration-color: #008080; font-weight: bold\">0</span>.  <span style=\"color: #008080; text-decoration-color: #008080; font-weight: bold\">1</span>.<span style=\"font-weight: bold\">]</span>\n",
       "\n",
       "</pre>\n"
      ],
      "text/plain": [
       "ANTsImage\n",
       "         Pixel Type : float \u001b[1m(\u001b[0mfloat32\u001b[1m)\u001b[0m\n",
       "         Components : \u001b[1;36m1\u001b[0m\n",
       "         Dimensions : \u001b[1m(\u001b[0m\u001b[1;36m32\u001b[0m, \u001b[1;36m45\u001b[0m, \u001b[1;36m26\u001b[0m, \u001b[1;36m503\u001b[0m\u001b[1m)\u001b[0m\n",
       "         Spacing    : \u001b[1m(\u001b[0m\u001b[1;36m0.4\u001b[0m, \u001b[1;36m0.4\u001b[0m, \u001b[1;36m0.4\u001b[0m, \u001b[1;36m1.0\u001b[0m\u001b[1m)\u001b[0m\n",
       "         Origin     : \u001b[1m(\u001b[0m\u001b[1;36m19.3\u001b[0m, \u001b[1;36m7.75\u001b[0m, \u001b[1;36m-4.95\u001b[0m, \u001b[1;36m0.0\u001b[0m\u001b[1m)\u001b[0m\n",
       "         Direction  : \u001b[1m[\u001b[0m\u001b[1;36m-1\u001b[0m.  \u001b[1;36m0\u001b[0m.  \u001b[1;36m0\u001b[0m.  \u001b[1;36m0\u001b[0m.  \u001b[1;36m0\u001b[0m. \u001b[1;36m-1\u001b[0m.  \u001b[1;36m0\u001b[0m.  \u001b[1;36m0\u001b[0m.  \u001b[1;36m0\u001b[0m.  \u001b[1;36m0\u001b[0m.  \u001b[1;36m1\u001b[0m.  \u001b[1;36m0\u001b[0m.  \u001b[1;36m0\u001b[0m.  \u001b[1;36m0\u001b[0m.  \u001b[1;36m0\u001b[0m.  \u001b[1;36m1\u001b[0m.\u001b[1m]\u001b[0m\n",
       "\n"
      ]
     },
     "metadata": {},
     "output_type": "display_data"
    }
   ],
   "source": [
    "img = ants.image_read(f)\n",
    "img"
   ]
  },
  {
   "cell_type": "code",
   "execution_count": 25,
   "id": "86f97569",
   "metadata": {},
   "outputs": [
    {
     "data": {
      "text/html": [
       "<pre style=\"white-space:pre;overflow-x:auto;line-height:normal;font-family:Menlo,'DejaVu Sans Mono',consolas,'Courier New',monospace\"><span style=\"font-weight: bold\">&lt;</span><span style=\"color: #ff00ff; text-decoration-color: #ff00ff; font-weight: bold\">matplotlib.image.AxesImage</span><span style=\"color: #000000; text-decoration-color: #000000\"> object at </span><span style=\"color: #008080; text-decoration-color: #008080; font-weight: bold\">0x7faba4f81e20</span><span style=\"font-weight: bold\">&gt;</span>\n",
       "</pre>\n"
      ],
      "text/plain": [
       "\u001b[1m<\u001b[0m\u001b[1;95mmatplotlib.image.AxesImage\u001b[0m\u001b[39m object at \u001b[0m\u001b[1;36m0x7faba4f81e20\u001b[0m\u001b[1m>\u001b[0m\n"
      ]
     },
     "metadata": {},
     "output_type": "display_data"
    },
    {
     "data": {
      "image/png": "[encoded data removed]"
     },
     "metadata": {},
     "output_type": "display_data"
    }
   ],
   "source": [
    "plt.imshow(img.numpy()[:, 26, :, 120])"
   ]
  },
  {
   "cell_type": "code",
   "execution_count": null,
   "id": "dd9acfda",
   "metadata": {},
   "outputs": [],
   "source": []
  },
  {
   "cell_type": "code",
   "execution_count": null,
   "id": "391fef15",
   "metadata": {},
   "outputs": [],
   "source": []
  },
  {
   "cell_type": "code",
   "execution_count": null,
   "id": "637bb024",
   "metadata": {},
   "outputs": [],
   "source": []
  },
  {
   "cell_type": "code",
   "execution_count": null,
   "id": "2c81600b",
   "metadata": {},
   "outputs": [],
   "source": []
  },
  {
   "cell_type": "code",
   "execution_count": null,
   "id": "1f015cc7",
   "metadata": {},
   "outputs": [],
   "source": []
  },
  {
   "cell_type": "code",
   "execution_count": null,
   "id": "adfcbfd4",
   "metadata": {},
   "outputs": [],
   "source": []
  },
  {
   "cell_type": "code",
   "execution_count": null,
   "id": "ea111da5",
   "metadata": {},
   "outputs": [],
   "source": []
  },
  {
   "cell_type": "code",
   "execution_count": null,
   "id": "8e36ad05",
   "metadata": {},
   "outputs": [],
   "source": []
  },
  {
   "cell_type": "code",
   "execution_count": null,
   "id": "70039de3",
   "metadata": {},
   "outputs": [],
   "source": []
  },
  {
   "cell_type": "code",
   "execution_count": null,
   "id": "2aa3c70a",
   "metadata": {},
   "outputs": [],
   "source": []
  },
  {
   "cell_type": "code",
   "execution_count": null,
   "id": "0fa05695",
   "metadata": {},
   "outputs": [],
   "source": []
  },
  {
   "cell_type": "code",
   "execution_count": null,
   "id": "fc329979",
   "metadata": {},
   "outputs": [],
   "source": []
  },
  {
   "cell_type": "code",
   "execution_count": null,
   "id": "f5fbee76",
   "metadata": {},
   "outputs": [],
   "source": []
  },
  {
   "cell_type": "code",
   "execution_count": null,
   "id": "f476e65a",
   "metadata": {},
   "outputs": [],
   "source": []
  },
  {
   "cell_type": "code",
   "execution_count": null,
   "id": "40f70e6e",
   "metadata": {},
   "outputs": [],
   "source": []
  },
  {
   "cell_type": "code",
   "execution_count": null,
   "id": "3a8ff865",
   "metadata": {},
   "outputs": [],
   "source": []
  },
  {
   "cell_type": "code",
   "execution_count": null,
   "id": "231bfe54",
   "metadata": {},
   "outputs": [],
   "source": []
  },
  {
   "cell_type": "code",
   "execution_count": null,
   "id": "139d8840",
   "metadata": {},
   "outputs": [],
   "source": []
  }
 ],
 "metadata": {
  "kernelspec": {
   "display_name": "Python 3",
   "language": "python",
   "name": "python3"
  },
  "language_info": {
   "codemirror_mode": {
    "name": "ipython",
    "version": 3
   },
   "file_extension": ".py",
   "mimetype": "text/x-python",
   "name": "python",
   "nbconvert_exporter": "python",
   "pygments_lexer": "ipython3",
   "version": "3.8.3"
  }
 },
 "nbformat": 4,
 "nbformat_minor": 5
}
