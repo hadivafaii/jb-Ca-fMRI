{
 "cells": [
  {
   "cell_type": "markdown",
   "id": "20f3f5d7",
   "metadata": {},
   "source": [
    "# Dec 22nd, 2021 (3-depths + render fns)\n",
    "\n",
    "**Motivation**: Draft of functions <br>"
   ]
  },
  {
   "cell_type": "code",
   "execution_count": 1,
   "id": "4ef2e958",
   "metadata": {
    "tags": [
     "hide-input"
    ]
   },
   "outputs": [],
   "source": [
    "# HIDE CODE\n",
    "\n",
    "\n",
    "import os\n",
    "import sys\n",
    "import nibabel as nib\n",
    "import networkx as nx\n",
    "from time import time\n",
    "from pprint import pprint\n",
    "from copy import deepcopy as dc\n",
    "from os.path import join as pjoin\n",
    "from myterial import orange, blue_grey\n",
    "from IPython.display import display, IFrame, HTML\n",
    "from matplotlib.colors import rgb2hex, to_rgb\n",
    "import matplotlib.pyplot as plt\n",
    "import seaborn as sns\n",
    "\n",
    "# set style & no interpolalation\n",
    "import matplotlib\n",
    "matplotlib.rcParams['image.interpolation'] = 'none'\n",
    "sns.set_style('whitegrid')\n",
    "%matplotlib inline\n",
    "\n",
    "# tmp & extras dir\n",
    "git_dir = pjoin(os.environ['HOME'], 'Dropbox/git')\n",
    "tmp_dir = pjoin(git_dir, 'jb-Ca-fMRI/tmp')\n",
    "extras_dir = pjoin(git_dir, 'jb-Ca-fMRI/_extras')\n",
    "lfr_dir = pjoin(os.environ['HOME'], 'Documents/workspaces/lfr/binary_overlapping')\n",
    "\n",
    "\n",
    "# GitHub\n",
    "sys.path.insert(0, pjoin(git_dir, '_Ca-fMRI'))\n",
    "from register.atlas import make_tree_graph\n",
    "from register.parcellation import Parcellation\n",
    "from analysis.hierarchical import Hierarchical\n",
    "from analysis.fourier import *\n",
    "from analysis.bootstrap import *\n",
    "from analysis.svinet import *\n",
    "from analysis.group import *\n",
    "from analysis.lfr import *\n",
    "from utils.render import *\n",
    "from utils.plotting import *\n",
    "from model.mouse import Mice\n",
    "from model.configuration import Config\n",
    "\n",
    "# warnings\n",
    "import warnings\n",
    "warnings.filterwarnings('ignore', category=DeprecationWarning)"
   ]
  },
  {
   "cell_type": "code",
   "execution_count": 2,
   "id": "8e80f3c5",
   "metadata": {
    "scrolled": true
   },
   "outputs": [
    {
     "data": {
      "text/html": [
       "<pre style=\"white-space:pre;overflow-x:auto;line-height:normal;font-family:Menlo,'DejaVu Sans Mono',consolas,'Courier New',monospace\"><span style=\"font-weight: bold\">[</span>PROGRESS<span style=\"font-weight: bold\">]</span> <span style=\"color: #008000; text-decoration-color: #008000\">'config.json'</span> saved at\n",
       "<span style=\"color: #800080; text-decoration-color: #800080\">/home/hadi/Documents/Ca-fMRI/processed/</span><span style=\"color: #ff00ff; text-decoration-color: #ff00ff\">norm-global_parcel-columnar_n-256</span>*<span style=\"color: #008080; text-decoration-color: #008080; font-weight: bold\">0</span>\n",
       "</pre>\n"
      ],
      "text/plain": [
       "\u001b[1m[\u001b[0mPROGRESS\u001b[1m]\u001b[0m \u001b[32m'config.json'\u001b[0m saved at\n",
       "\u001b[35m/home/hadi/Documents/Ca-fMRI/processed/\u001b[0m\u001b[95mnorm-global_parcel-columnar_n-256\u001b[0m*\u001b[1;36m0\u001b[0m\n"
      ]
     },
     "metadata": {},
     "output_type": "display_data"
    },
    {
     "data": {
      "text/html": [
       "<pre style=\"white-space:pre;overflow-x:auto;line-height:normal;font-family:Menlo,'DejaVu Sans Mono',consolas,'Courier New',monospace\">ROI lookup not found, time to run <span style=\"color: #800080; text-decoration-color: #800080; font-weight: bold\">organize_func</span><span style=\"font-weight: bold\">()</span> . . .\n",
       "</pre>\n"
      ],
      "text/plain": [
       "ROI lookup not found, time to run \u001b[1;35morganize_func\u001b[0m\u001b[1m(\u001b[0m\u001b[1m)\u001b[0m . . .\n"
      ]
     },
     "metadata": {},
     "output_type": "display_data"
    },
    {
     "data": {
      "text/html": [
       "<pre style=\"white-space:pre;overflow-x:auto;line-height:normal;font-family:Menlo,'DejaVu Sans Mono',consolas,'Courier New',monospace\">combine metadata not found, time to run <span style=\"color: #800080; text-decoration-color: #800080; font-weight: bold\">cat_data</span><span style=\"font-weight: bold\">()</span> . . .\n",
       "</pre>\n"
      ],
      "text/plain": [
       "combine metadata not found, time to run \u001b[1;35mcat_data\u001b[0m\u001b[1m(\u001b[0m\u001b[1m)\u001b[0m . . .\n"
      ]
     },
     "metadata": {},
     "output_type": "display_data"
    },
    {
     "data": {
      "text/html": [
       "<pre style=\"white-space:pre;overflow-x:auto;line-height:normal;font-family:Menlo,'DejaVu Sans Mono',consolas,'Courier New',monospace\"><span style=\"font-weight: bold\">[</span>PROGRESS<span style=\"font-weight: bold\">]</span> fit columnar: initiated\n",
       "</pre>\n"
      ],
      "text/plain": [
       "\u001b[1m[\u001b[0mPROGRESS\u001b[1m]\u001b[0m fit columnar: initiated\n"
      ]
     },
     "metadata": {},
     "output_type": "display_data"
    },
    {
     "name": "stderr",
     "output_type": "stream",
     "text": [
      "Intel(R) oneAPI Data Analytics Library solvers for sklearn enabled: https://intelpython.github.io/daal4py/sklearn.html\n"
     ]
    },
    {
     "data": {
      "text/html": [
       "<pre style=\"white-space:pre;overflow-x:auto;line-height:normal;font-family:Menlo,'DejaVu Sans Mono',consolas,'Courier New',monospace\"><span style=\"font-weight: bold\">[</span>PROGRESS<span style=\"font-weight: bold\">]</span> kmeans fit: done\n",
       "</pre>\n"
      ],
      "text/plain": [
       "\u001b[1m[\u001b[0mPROGRESS\u001b[1m]\u001b[0m kmeans fit: done\n"
      ]
     },
     "metadata": {},
     "output_type": "display_data"
    },
    {
     "data": {
      "text/html": [
       "<pre style=\"white-space:pre;overflow-x:auto;line-height:normal;font-family:Menlo,'DejaVu Sans Mono',consolas,'Courier New',monospace\"><span style=\"font-weight: bold\">[</span>PROGRESS<span style=\"font-weight: bold\">]</span> save 2D 10um: done\n",
       "</pre>\n"
      ],
      "text/plain": [
       "\u001b[1m[\u001b[0mPROGRESS\u001b[1m]\u001b[0m save 2D 10um: done\n"
      ]
     },
     "metadata": {},
     "output_type": "display_data"
    },
    {
     "data": {
      "text/html": [
       "<pre style=\"white-space:pre;overflow-x:auto;line-height:normal;font-family:Menlo,'DejaVu Sans Mono',consolas,'Courier New',monospace\"><span style=\"font-weight: bold\">[</span>PROGRESS<span style=\"font-weight: bold\">]</span> 2d --&gt; 3d: done\n",
       "</pre>\n"
      ],
      "text/plain": [
       "\u001b[1m[\u001b[0mPROGRESS\u001b[1m]\u001b[0m 2d --> 3d: done\n"
      ]
     },
     "metadata": {},
     "output_type": "display_data"
    },
    {
     "data": {
      "text/html": [
       "<pre style=\"white-space:pre;overflow-x:auto;line-height:normal;font-family:Menlo,'DejaVu Sans Mono',consolas,'Courier New',monospace\"><span style=\"font-weight: bold\">[</span>PROGRESS<span style=\"font-weight: bold\">]</span> fill gaps: done\n",
       "</pre>\n"
      ],
      "text/plain": [
       "\u001b[1m[\u001b[0mPROGRESS\u001b[1m]\u001b[0m fill gaps: done\n"
      ]
     },
     "metadata": {},
     "output_type": "display_data"
    },
    {
     "data": {
      "text/html": [
       "<pre style=\"white-space:pre;overflow-x:auto;line-height:normal;font-family:Menlo,'DejaVu Sans Mono',consolas,'Courier New',monospace\"><span style=\"font-weight: bold\">[</span>PROGRESS<span style=\"font-weight: bold\">]</span> save 3D 10um: done\n",
       "</pre>\n"
      ],
      "text/plain": [
       "\u001b[1m[\u001b[0mPROGRESS\u001b[1m]\u001b[0m save 3D 10um: done\n"
      ]
     },
     "metadata": {},
     "output_type": "display_data"
    },
    {
     "data": {
      "text/html": [
       "<pre style=\"white-space:pre;overflow-x:auto;line-height:normal;font-family:Menlo,'DejaVu Sans Mono',consolas,'Courier New',monospace\"><span style=\"font-weight: bold\">[</span>PROGRESS<span style=\"font-weight: bold\">]</span> downsample: done\n",
       "</pre>\n"
      ],
      "text/plain": [
       "\u001b[1m[\u001b[0mPROGRESS\u001b[1m]\u001b[0m downsample: done\n"
      ]
     },
     "metadata": {},
     "output_type": "display_data"
    },
    {
     "data": {
      "text/html": [
       "<pre style=\"white-space:pre;overflow-x:auto;line-height:normal;font-family:Menlo,'DejaVu Sans Mono',consolas,'Courier New',monospace\">num regions,    left: <span style=\"color: #008080; text-decoration-color: #008080; font-weight: bold\">768</span>,  right: <span style=\"color: #008080; text-decoration-color: #008080; font-weight: bold\">768</span>\n",
       "region id diff,         r - l:  <span style=\"color: #800080; text-decoration-color: #800080; font-weight: bold\">Counter</span><span style=\"font-weight: bold\">({</span><span style=\"color: #008080; text-decoration-color: #008080; font-weight: bold\">768</span>: <span style=\"color: #008080; text-decoration-color: #008080; font-weight: bold\">768</span><span style=\"font-weight: bold\">})</span>\n",
       "\n",
       "</pre>\n"
      ],
      "text/plain": [
       "num regions,    left: \u001b[1;36m768\u001b[0m,  right: \u001b[1;36m768\u001b[0m\n",
       "region id diff,         r - l:  \u001b[1;35mCounter\u001b[0m\u001b[1m(\u001b[0m\u001b[1m{\u001b[0m\u001b[1;36m768\u001b[0m: \u001b[1;36m768\u001b[0m\u001b[1m}\u001b[0m\u001b[1m)\u001b[0m\n",
       "\n"
      ]
     },
     "metadata": {},
     "output_type": "display_data"
    },
    {
     "data": {
      "text/html": [
       "<pre style=\"white-space:pre;overflow-x:auto;line-height:normal;font-family:Menlo,'DejaVu Sans Mono',consolas,'Courier New',monospace\"><span style=\"font-weight: bold\">[</span>PROGRESS<span style=\"font-weight: bold\">]</span> fit columnar: done\n",
       "</pre>\n"
      ],
      "text/plain": [
       "\u001b[1m[\u001b[0mPROGRESS\u001b[1m]\u001b[0m fit columnar: done\n"
      ]
     },
     "metadata": {},
     "output_type": "display_data"
    },
    {
     "data": {
      "text/html": [
       "<pre style=\"white-space:pre;overflow-x:auto;line-height:normal;font-family:Menlo,'DejaVu Sans Mono',consolas,'Courier New',monospace\"><span style=\"font-weight: bold\">[</span>PROGRESS<span style=\"font-weight: bold\">]</span> <span style=\"color: #008000; text-decoration-color: #008000\">'cortex_100um.npy'</span> saved at\n",
       "<span style=\"color: #800080; text-decoration-color: #800080\">/home/hadi/Documents/Ca-fMRI/processed/</span><span style=\"color: #ff00ff; text-decoration-color: #ff00ff\">norm-global_parcel-columnar_n-256</span>*<span style=\"color: #008080; text-decoration-color: #008080; font-weight: bold\">0</span>/parcellation\n",
       "</pre>\n"
      ],
      "text/plain": [
       "\u001b[1m[\u001b[0mPROGRESS\u001b[1m]\u001b[0m \u001b[32m'cortex_100um.npy'\u001b[0m saved at\n",
       "\u001b[35m/home/hadi/Documents/Ca-fMRI/processed/\u001b[0m\u001b[95mnorm-global_parcel-columnar_n-256\u001b[0m*\u001b[1;36m0\u001b[0m/parcellation\n"
      ]
     },
     "metadata": {},
     "output_type": "display_data"
    },
    {
     "data": {
      "text/html": [
       "<pre style=\"white-space:pre;overflow-x:auto;line-height:normal;font-family:Menlo,'DejaVu Sans Mono',consolas,'Courier New',monospace\"><span style=\"font-weight: bold\">[</span>PROGRESS<span style=\"font-weight: bold\">]</span> <span style=\"color: #008000; text-decoration-color: #008000\">'cortex-top_100um.npy'</span> saved at\n",
       "<span style=\"color: #800080; text-decoration-color: #800080\">/home/hadi/Documents/Ca-fMRI/processed/</span><span style=\"color: #ff00ff; text-decoration-color: #ff00ff\">norm-global_parcel-columnar_n-256</span>*<span style=\"color: #008080; text-decoration-color: #008080; font-weight: bold\">0</span>/parcellation\n",
       "</pre>\n"
      ],
      "text/plain": [
       "\u001b[1m[\u001b[0mPROGRESS\u001b[1m]\u001b[0m \u001b[32m'cortex-top_100um.npy'\u001b[0m saved at\n",
       "\u001b[35m/home/hadi/Documents/Ca-fMRI/processed/\u001b[0m\u001b[95mnorm-global_parcel-columnar_n-256\u001b[0m*\u001b[1;36m0\u001b[0m/parcellation\n"
      ]
     },
     "metadata": {},
     "output_type": "display_data"
    },
    {
     "data": {
      "text/html": [
       "<pre style=\"white-space:pre;overflow-x:auto;line-height:normal;font-family:Menlo,'DejaVu Sans Mono',consolas,'Courier New',monospace\"><span style=\"font-weight: bold\">[</span>PROGRESS<span style=\"font-weight: bold\">]</span> <span style=\"color: #008000; text-decoration-color: #008000\">'subcortex_100um.npy'</span> saved at\n",
       "<span style=\"color: #800080; text-decoration-color: #800080\">/home/hadi/Documents/Ca-fMRI/processed/</span><span style=\"color: #ff00ff; text-decoration-color: #ff00ff\">norm-global_parcel-columnar_n-256</span>*<span style=\"color: #008080; text-decoration-color: #008080; font-weight: bold\">0</span>/parcellation\n",
       "</pre>\n"
      ],
      "text/plain": [
       "\u001b[1m[\u001b[0mPROGRESS\u001b[1m]\u001b[0m \u001b[32m'subcortex_100um.npy'\u001b[0m saved at\n",
       "\u001b[35m/home/hadi/Documents/Ca-fMRI/processed/\u001b[0m\u001b[95mnorm-global_parcel-columnar_n-256\u001b[0m*\u001b[1;36m0\u001b[0m/parcellation\n"
      ]
     },
     "metadata": {},
     "output_type": "display_data"
    },
    {
     "data": {
      "text/html": [
       "<pre style=\"white-space:pre;overflow-x:auto;line-height:normal;font-family:Menlo,'DejaVu Sans Mono',consolas,'Courier New',monospace\"><span style=\"font-weight: bold\">[</span>PROGRESS<span style=\"font-weight: bold\">]</span> <span style=\"color: #008000; text-decoration-color: #008000\">'subcortex-l_100um.npy'</span> saved at\n",
       "<span style=\"color: #800080; text-decoration-color: #800080\">/home/hadi/Documents/Ca-fMRI/processed/</span><span style=\"color: #ff00ff; text-decoration-color: #ff00ff\">norm-global_parcel-columnar_n-256</span>*<span style=\"color: #008080; text-decoration-color: #008080; font-weight: bold\">0</span>/parcellation\n",
       "</pre>\n"
      ],
      "text/plain": [
       "\u001b[1m[\u001b[0mPROGRESS\u001b[1m]\u001b[0m \u001b[32m'subcortex-l_100um.npy'\u001b[0m saved at\n",
       "\u001b[35m/home/hadi/Documents/Ca-fMRI/processed/\u001b[0m\u001b[95mnorm-global_parcel-columnar_n-256\u001b[0m*\u001b[1;36m0\u001b[0m/parcellation\n"
      ]
     },
     "metadata": {},
     "output_type": "display_data"
    },
    {
     "data": {
      "text/html": [
       "<pre style=\"white-space:pre;overflow-x:auto;line-height:normal;font-family:Menlo,'DejaVu Sans Mono',consolas,'Courier New',monospace\"><span style=\"font-weight: bold\">[</span>PROGRESS<span style=\"font-weight: bold\">]</span> <span style=\"color: #008000; text-decoration-color: #008000\">'subcortex-r_100um.npy'</span> saved at\n",
       "<span style=\"color: #800080; text-decoration-color: #800080\">/home/hadi/Documents/Ca-fMRI/processed/</span><span style=\"color: #ff00ff; text-decoration-color: #ff00ff\">norm-global_parcel-columnar_n-256</span>*<span style=\"color: #008080; text-decoration-color: #008080; font-weight: bold\">0</span>/parcellation\n",
       "</pre>\n"
      ],
      "text/plain": [
       "\u001b[1m[\u001b[0mPROGRESS\u001b[1m]\u001b[0m \u001b[32m'subcortex-r_100um.npy'\u001b[0m saved at\n",
       "\u001b[35m/home/hadi/Documents/Ca-fMRI/processed/\u001b[0m\u001b[95mnorm-global_parcel-columnar_n-256\u001b[0m*\u001b[1;36m0\u001b[0m/parcellation\n"
      ]
     },
     "metadata": {},
     "output_type": "display_data"
    },
    {
     "data": {
      "text/html": [
       "<pre style=\"white-space:pre;overflow-x:auto;line-height:normal;font-family:Menlo,'DejaVu Sans Mono',consolas,'Courier New',monospace\"><span style=\"font-weight: bold\">[</span>PROGRESS<span style=\"font-weight: bold\">]</span> <span style=\"color: #008000; text-decoration-color: #008000\">'regions-top_100um.npy'</span> saved at\n",
       "<span style=\"color: #800080; text-decoration-color: #800080\">/home/hadi/Documents/Ca-fMRI/processed/</span><span style=\"color: #ff00ff; text-decoration-color: #ff00ff\">norm-global_parcel-columnar_n-256</span>*<span style=\"color: #008080; text-decoration-color: #008080; font-weight: bold\">0</span>/parcellation\n",
       "</pre>\n"
      ],
      "text/plain": [
       "\u001b[1m[\u001b[0mPROGRESS\u001b[1m]\u001b[0m \u001b[32m'regions-top_100um.npy'\u001b[0m saved at\n",
       "\u001b[35m/home/hadi/Documents/Ca-fMRI/processed/\u001b[0m\u001b[95mnorm-global_parcel-columnar_n-256\u001b[0m*\u001b[1;36m0\u001b[0m/parcellation\n"
      ]
     },
     "metadata": {},
     "output_type": "display_data"
    },
    {
     "data": {
      "text/html": [
       "<pre style=\"white-space:pre;overflow-x:auto;line-height:normal;font-family:Menlo,'DejaVu Sans Mono',consolas,'Courier New',monospace\"><span style=\"font-weight: bold\">[</span>PROGRESS<span style=\"font-weight: bold\">]</span> <span style=\"color: #008000; text-decoration-color: #008000\">'regions-cortex_100um.npy'</span> saved at\n",
       "<span style=\"color: #800080; text-decoration-color: #800080\">/home/hadi/Documents/Ca-fMRI/processed/</span><span style=\"color: #ff00ff; text-decoration-color: #ff00ff\">norm-global_parcel-columnar_n-256</span>*<span style=\"color: #008080; text-decoration-color: #008080; font-weight: bold\">0</span>/parcellation\n",
       "</pre>\n"
      ],
      "text/plain": [
       "\u001b[1m[\u001b[0mPROGRESS\u001b[1m]\u001b[0m \u001b[32m'regions-cortex_100um.npy'\u001b[0m saved at\n",
       "\u001b[35m/home/hadi/Documents/Ca-fMRI/processed/\u001b[0m\u001b[95mnorm-global_parcel-columnar_n-256\u001b[0m*\u001b[1;36m0\u001b[0m/parcellation\n"
      ]
     },
     "metadata": {},
     "output_type": "display_data"
    },
    {
     "data": {
      "text/html": [
       "<pre style=\"white-space:pre;overflow-x:auto;line-height:normal;font-family:Menlo,'DejaVu Sans Mono',consolas,'Courier New',monospace\"><span style=\"font-weight: bold\">[</span>PROGRESS<span style=\"font-weight: bold\">]</span> <span style=\"color: #008000; text-decoration-color: #008000\">'nonzero-idxs_parcel2d-flat_100um.npy'</span> saved at\n",
       "<span style=\"color: #800080; text-decoration-color: #800080\">/home/hadi/Documents/Ca-fMRI/processed/</span><span style=\"color: #ff00ff; text-decoration-color: #ff00ff\">norm-global_parcel-columnar_n-256</span>*<span style=\"color: #008080; text-decoration-color: #008080; font-weight: bold\">0</span>/parcellation\n",
       "</pre>\n"
      ],
      "text/plain": [
       "\u001b[1m[\u001b[0mPROGRESS\u001b[1m]\u001b[0m \u001b[32m'nonzero-idxs_parcel2d-flat_100um.npy'\u001b[0m saved at\n",
       "\u001b[35m/home/hadi/Documents/Ca-fMRI/processed/\u001b[0m\u001b[95mnorm-global_parcel-columnar_n-256\u001b[0m*\u001b[1;36m0\u001b[0m/parcellation\n"
      ]
     },
     "metadata": {},
     "output_type": "display_data"
    },
    {
     "data": {
      "text/html": [
       "<pre style=\"white-space:pre;overflow-x:auto;line-height:normal;font-family:Menlo,'DejaVu Sans Mono',consolas,'Courier New',monospace\"><span style=\"font-weight: bold\">[</span>PROGRESS<span style=\"font-weight: bold\">]</span> <span style=\"color: #008000; text-decoration-color: #008000\">'nonzero-idxs_parcel2d-top_100um.npy'</span> saved at\n",
       "<span style=\"color: #800080; text-decoration-color: #800080\">/home/hadi/Documents/Ca-fMRI/processed/</span><span style=\"color: #ff00ff; text-decoration-color: #ff00ff\">norm-global_parcel-columnar_n-256</span>*<span style=\"color: #008080; text-decoration-color: #008080; font-weight: bold\">0</span>/parcellation\n",
       "</pre>\n"
      ],
      "text/plain": [
       "\u001b[1m[\u001b[0mPROGRESS\u001b[1m]\u001b[0m \u001b[32m'nonzero-idxs_parcel2d-top_100um.npy'\u001b[0m saved at\n",
       "\u001b[35m/home/hadi/Documents/Ca-fMRI/processed/\u001b[0m\u001b[95mnorm-global_parcel-columnar_n-256\u001b[0m*\u001b[1;36m0\u001b[0m/parcellation\n"
      ]
     },
     "metadata": {},
     "output_type": "display_data"
    },
    {
     "data": {
      "text/html": [
       "<pre style=\"white-space:pre;overflow-x:auto;line-height:normal;font-family:Menlo,'DejaVu Sans Mono',consolas,'Courier New',monospace\"><span style=\"font-weight: bold\">[</span>PROGRESS<span style=\"font-weight: bold\">]</span> <span style=\"color: #008000; text-decoration-color: #008000\">'nonzero-idxs_parcel3d_100um.npy'</span> saved at\n",
       "<span style=\"color: #800080; text-decoration-color: #800080\">/home/hadi/Documents/Ca-fMRI/processed/</span><span style=\"color: #ff00ff; text-decoration-color: #ff00ff\">norm-global_parcel-columnar_n-256</span>*<span style=\"color: #008080; text-decoration-color: #008080; font-weight: bold\">0</span>/parcellation\n",
       "</pre>\n"
      ],
      "text/plain": [
       "\u001b[1m[\u001b[0mPROGRESS\u001b[1m]\u001b[0m \u001b[32m'nonzero-idxs_parcel3d_100um.npy'\u001b[0m saved at\n",
       "\u001b[35m/home/hadi/Documents/Ca-fMRI/processed/\u001b[0m\u001b[95mnorm-global_parcel-columnar_n-256\u001b[0m*\u001b[1;36m0\u001b[0m/parcellation\n"
      ]
     },
     "metadata": {},
     "output_type": "display_data"
    },
    {
     "data": {
      "text/html": [
       "<pre style=\"white-space:pre;overflow-x:auto;line-height:normal;font-family:Menlo,'DejaVu Sans Mono',consolas,'Courier New',monospace\"><span style=\"font-weight: bold\">[</span>PROGRESS<span style=\"font-weight: bold\">]</span> <span style=\"color: #008000; text-decoration-color: #008000\">'region-idxs_parcel2d-flat_100um.npy'</span> saved at\n",
       "<span style=\"color: #800080; text-decoration-color: #800080\">/home/hadi/Documents/Ca-fMRI/processed/</span><span style=\"color: #ff00ff; text-decoration-color: #ff00ff\">norm-global_parcel-columnar_n-256</span>*<span style=\"color: #008080; text-decoration-color: #008080; font-weight: bold\">0</span>/parcellation\n",
       "</pre>\n"
      ],
      "text/plain": [
       "\u001b[1m[\u001b[0mPROGRESS\u001b[1m]\u001b[0m \u001b[32m'region-idxs_parcel2d-flat_100um.npy'\u001b[0m saved at\n",
       "\u001b[35m/home/hadi/Documents/Ca-fMRI/processed/\u001b[0m\u001b[95mnorm-global_parcel-columnar_n-256\u001b[0m*\u001b[1;36m0\u001b[0m/parcellation\n"
      ]
     },
     "metadata": {},
     "output_type": "display_data"
    },
    {
     "data": {
      "text/html": [
       "<pre style=\"white-space:pre;overflow-x:auto;line-height:normal;font-family:Menlo,'DejaVu Sans Mono',consolas,'Courier New',monospace\"><span style=\"font-weight: bold\">[</span>PROGRESS<span style=\"font-weight: bold\">]</span> <span style=\"color: #008000; text-decoration-color: #008000\">'region-idxs_parcel2d-top_100um.npy'</span> saved at\n",
       "<span style=\"color: #800080; text-decoration-color: #800080\">/home/hadi/Documents/Ca-fMRI/processed/</span><span style=\"color: #ff00ff; text-decoration-color: #ff00ff\">norm-global_parcel-columnar_n-256</span>*<span style=\"color: #008080; text-decoration-color: #008080; font-weight: bold\">0</span>/parcellation\n",
       "</pre>\n"
      ],
      "text/plain": [
       "\u001b[1m[\u001b[0mPROGRESS\u001b[1m]\u001b[0m \u001b[32m'region-idxs_parcel2d-top_100um.npy'\u001b[0m saved at\n",
       "\u001b[35m/home/hadi/Documents/Ca-fMRI/processed/\u001b[0m\u001b[95mnorm-global_parcel-columnar_n-256\u001b[0m*\u001b[1;36m0\u001b[0m/parcellation\n"
      ]
     },
     "metadata": {},
     "output_type": "display_data"
    },
    {
     "data": {
      "text/html": [
       "<pre style=\"white-space:pre;overflow-x:auto;line-height:normal;font-family:Menlo,'DejaVu Sans Mono',consolas,'Courier New',monospace\"><span style=\"font-weight: bold\">[</span>PROGRESS<span style=\"font-weight: bold\">]</span> <span style=\"color: #008000; text-decoration-color: #008000\">'region-idxs_parcel3d_100um.npy'</span> saved at\n",
       "<span style=\"color: #800080; text-decoration-color: #800080\">/home/hadi/Documents/Ca-fMRI/processed/</span><span style=\"color: #ff00ff; text-decoration-color: #ff00ff\">norm-global_parcel-columnar_n-256</span>*<span style=\"color: #008080; text-decoration-color: #008080; font-weight: bold\">0</span>/parcellation\n",
       "</pre>\n"
      ],
      "text/plain": [
       "\u001b[1m[\u001b[0mPROGRESS\u001b[1m]\u001b[0m \u001b[32m'region-idxs_parcel3d_100um.npy'\u001b[0m saved at\n",
       "\u001b[35m/home/hadi/Documents/Ca-fMRI/processed/\u001b[0m\u001b[95mnorm-global_parcel-columnar_n-256\u001b[0m*\u001b[1;36m0\u001b[0m/parcellation\n"
      ]
     },
     "metadata": {},
     "output_type": "display_data"
    },
    {
     "data": {
      "text/html": [
       "<pre style=\"white-space:pre;overflow-x:auto;line-height:normal;font-family:Menlo,'DejaVu Sans Mono',consolas,'Courier New',monospace\"><span style=\"font-weight: bold\">[</span>PROGRESS<span style=\"font-weight: bold\">]</span> <span style=\"color: #008000; text-decoration-color: #008000\">'shape_parcel2d-flat_100um.npy'</span> saved at\n",
       "<span style=\"color: #800080; text-decoration-color: #800080\">/home/hadi/Documents/Ca-fMRI/processed/</span><span style=\"color: #ff00ff; text-decoration-color: #ff00ff\">norm-global_parcel-columnar_n-256</span>*<span style=\"color: #008080; text-decoration-color: #008080; font-weight: bold\">0</span>/parcellation\n",
       "</pre>\n"
      ],
      "text/plain": [
       "\u001b[1m[\u001b[0mPROGRESS\u001b[1m]\u001b[0m \u001b[32m'shape_parcel2d-flat_100um.npy'\u001b[0m saved at\n",
       "\u001b[35m/home/hadi/Documents/Ca-fMRI/processed/\u001b[0m\u001b[95mnorm-global_parcel-columnar_n-256\u001b[0m*\u001b[1;36m0\u001b[0m/parcellation\n"
      ]
     },
     "metadata": {},
     "output_type": "display_data"
    },
    {
     "data": {
      "text/html": [
       "<pre style=\"white-space:pre;overflow-x:auto;line-height:normal;font-family:Menlo,'DejaVu Sans Mono',consolas,'Courier New',monospace\"><span style=\"font-weight: bold\">[</span>PROGRESS<span style=\"font-weight: bold\">]</span> <span style=\"color: #008000; text-decoration-color: #008000\">'shape_parcel2d-top_100um.npy'</span> saved at\n",
       "<span style=\"color: #800080; text-decoration-color: #800080\">/home/hadi/Documents/Ca-fMRI/processed/</span><span style=\"color: #ff00ff; text-decoration-color: #ff00ff\">norm-global_parcel-columnar_n-256</span>*<span style=\"color: #008080; text-decoration-color: #008080; font-weight: bold\">0</span>/parcellation\n",
       "</pre>\n"
      ],
      "text/plain": [
       "\u001b[1m[\u001b[0mPROGRESS\u001b[1m]\u001b[0m \u001b[32m'shape_parcel2d-top_100um.npy'\u001b[0m saved at\n",
       "\u001b[35m/home/hadi/Documents/Ca-fMRI/processed/\u001b[0m\u001b[95mnorm-global_parcel-columnar_n-256\u001b[0m*\u001b[1;36m0\u001b[0m/parcellation\n"
      ]
     },
     "metadata": {},
     "output_type": "display_data"
    },
    {
     "data": {
      "text/html": [
       "<pre style=\"white-space:pre;overflow-x:auto;line-height:normal;font-family:Menlo,'DejaVu Sans Mono',consolas,'Courier New',monospace\"><span style=\"font-weight: bold\">[</span>PROGRESS<span style=\"font-weight: bold\">]</span> <span style=\"color: #008000; text-decoration-color: #008000\">'shape_parcel3d_100um.npy'</span> saved at\n",
       "<span style=\"color: #800080; text-decoration-color: #800080\">/home/hadi/Documents/Ca-fMRI/processed/</span><span style=\"color: #ff00ff; text-decoration-color: #ff00ff\">norm-global_parcel-columnar_n-256</span>*<span style=\"color: #008080; text-decoration-color: #008080; font-weight: bold\">0</span>/parcellation\n",
       "</pre>\n"
      ],
      "text/plain": [
       "\u001b[1m[\u001b[0mPROGRESS\u001b[1m]\u001b[0m \u001b[32m'shape_parcel3d_100um.npy'\u001b[0m saved at\n",
       "\u001b[35m/home/hadi/Documents/Ca-fMRI/processed/\u001b[0m\u001b[95mnorm-global_parcel-columnar_n-256\u001b[0m*\u001b[1;36m0\u001b[0m/parcellation\n"
      ]
     },
     "metadata": {},
     "output_type": "display_data"
    },
    {
     "data": {
      "text/html": [
       "<pre style=\"white-space:pre;overflow-x:auto;line-height:normal;font-family:Menlo,'DejaVu Sans Mono',consolas,'Courier New',monospace\"><span style=\"font-weight: bold\">[</span>PROGRESS<span style=\"font-weight: bold\">]</span> save results: done.\n",
       "</pre>\n"
      ],
      "text/plain": [
       "\u001b[1m[\u001b[0mPROGRESS\u001b[1m]\u001b[0m save results: done.\n"
      ]
     },
     "metadata": {},
     "output_type": "display_data"
    }
   ],
   "source": [
    "mice = Mice((256, 0, 100), load_allen=True)\n",
    "mice.parcel.fit_parcel(True)"
   ]
  },
  {
   "cell_type": "code",
   "execution_count": 3,
   "id": "fc05c0c5",
   "metadata": {
    "scrolled": true
   },
   "outputs": [
    {
     "data": {
      "text/html": [
       "<pre style=\"white-space:pre;overflow-x:auto;line-height:normal;font-family:Menlo,'DejaVu Sans Mono',consolas,'Courier New',monospace\"><span style=\"font-weight: bold\">[</span>PROGRESS<span style=\"font-weight: bold\">]</span> <span style=\"color: #008000; text-decoration-color: #008000\">'config.json'</span> saved at\n",
       "<span style=\"color: #800080; text-decoration-color: #800080\">/home/hadi/Documents/Ca-fMRI/processed/</span><span style=\"color: #ff00ff; text-decoration-color: #ff00ff\">norm-global_parcel-columnar_n-64</span>*<span style=\"color: #008080; text-decoration-color: #008080; font-weight: bold\">0</span>\n",
       "</pre>\n"
      ],
      "text/plain": [
       "\u001b[1m[\u001b[0mPROGRESS\u001b[1m]\u001b[0m \u001b[32m'config.json'\u001b[0m saved at\n",
       "\u001b[35m/home/hadi/Documents/Ca-fMRI/processed/\u001b[0m\u001b[95mnorm-global_parcel-columnar_n-64\u001b[0m*\u001b[1;36m0\u001b[0m\n"
      ]
     },
     "metadata": {},
     "output_type": "display_data"
    },
    {
     "data": {
      "text/html": [
       "<pre style=\"white-space:pre;overflow-x:auto;line-height:normal;font-family:Menlo,'DejaVu Sans Mono',consolas,'Courier New',monospace\">ROI lookup not found, time to run <span style=\"color: #800080; text-decoration-color: #800080; font-weight: bold\">organize_func</span><span style=\"font-weight: bold\">()</span> . . .\n",
       "</pre>\n"
      ],
      "text/plain": [
       "ROI lookup not found, time to run \u001b[1;35morganize_func\u001b[0m\u001b[1m(\u001b[0m\u001b[1m)\u001b[0m . . .\n"
      ]
     },
     "metadata": {},
     "output_type": "display_data"
    },
    {
     "data": {
      "text/html": [
       "<pre style=\"white-space:pre;overflow-x:auto;line-height:normal;font-family:Menlo,'DejaVu Sans Mono',consolas,'Courier New',monospace\">combine metadata not found, time to run <span style=\"color: #800080; text-decoration-color: #800080; font-weight: bold\">cat_data</span><span style=\"font-weight: bold\">()</span> . . .\n",
       "</pre>\n"
      ],
      "text/plain": [
       "combine metadata not found, time to run \u001b[1;35mcat_data\u001b[0m\u001b[1m(\u001b[0m\u001b[1m)\u001b[0m . . .\n"
      ]
     },
     "metadata": {},
     "output_type": "display_data"
    },
    {
     "data": {
      "text/html": [
       "<pre style=\"white-space:pre;overflow-x:auto;line-height:normal;font-family:Menlo,'DejaVu Sans Mono',consolas,'Courier New',monospace\"><span style=\"font-weight: bold\">[</span>PROGRESS<span style=\"font-weight: bold\">]</span> fit columnar: initiated\n",
       "</pre>\n"
      ],
      "text/plain": [
       "\u001b[1m[\u001b[0mPROGRESS\u001b[1m]\u001b[0m fit columnar: initiated\n"
      ]
     },
     "metadata": {},
     "output_type": "display_data"
    },
    {
     "name": "stderr",
     "output_type": "stream",
     "text": [
      "Intel(R) oneAPI Data Analytics Library solvers for sklearn enabled: https://intelpython.github.io/daal4py/sklearn.html\n"
     ]
    },
    {
     "data": {
      "text/html": [
       "<pre style=\"white-space:pre;overflow-x:auto;line-height:normal;font-family:Menlo,'DejaVu Sans Mono',consolas,'Courier New',monospace\"><span style=\"font-weight: bold\">[</span>PROGRESS<span style=\"font-weight: bold\">]</span> kmeans fit: done\n",
       "</pre>\n"
      ],
      "text/plain": [
       "\u001b[1m[\u001b[0mPROGRESS\u001b[1m]\u001b[0m kmeans fit: done\n"
      ]
     },
     "metadata": {},
     "output_type": "display_data"
    },
    {
     "data": {
      "text/html": [
       "<pre style=\"white-space:pre;overflow-x:auto;line-height:normal;font-family:Menlo,'DejaVu Sans Mono',consolas,'Courier New',monospace\"><span style=\"font-weight: bold\">[</span>PROGRESS<span style=\"font-weight: bold\">]</span> save 2D 10um: done\n",
       "</pre>\n"
      ],
      "text/plain": [
       "\u001b[1m[\u001b[0mPROGRESS\u001b[1m]\u001b[0m save 2D 10um: done\n"
      ]
     },
     "metadata": {},
     "output_type": "display_data"
    },
    {
     "data": {
      "text/html": [
       "<pre style=\"white-space:pre;overflow-x:auto;line-height:normal;font-family:Menlo,'DejaVu Sans Mono',consolas,'Courier New',monospace\"><span style=\"font-weight: bold\">[</span>PROGRESS<span style=\"font-weight: bold\">]</span> 2d --&gt; 3d: done\n",
       "</pre>\n"
      ],
      "text/plain": [
       "\u001b[1m[\u001b[0mPROGRESS\u001b[1m]\u001b[0m 2d --> 3d: done\n"
      ]
     },
     "metadata": {},
     "output_type": "display_data"
    },
    {
     "data": {
      "text/html": [
       "<pre style=\"white-space:pre;overflow-x:auto;line-height:normal;font-family:Menlo,'DejaVu Sans Mono',consolas,'Courier New',monospace\"><span style=\"font-weight: bold\">[</span>PROGRESS<span style=\"font-weight: bold\">]</span> fill gaps: done\n",
       "</pre>\n"
      ],
      "text/plain": [
       "\u001b[1m[\u001b[0mPROGRESS\u001b[1m]\u001b[0m fill gaps: done\n"
      ]
     },
     "metadata": {},
     "output_type": "display_data"
    },
    {
     "data": {
      "text/html": [
       "<pre style=\"white-space:pre;overflow-x:auto;line-height:normal;font-family:Menlo,'DejaVu Sans Mono',consolas,'Courier New',monospace\"><span style=\"font-weight: bold\">[</span>PROGRESS<span style=\"font-weight: bold\">]</span> save 3D 10um: done\n",
       "</pre>\n"
      ],
      "text/plain": [
       "\u001b[1m[\u001b[0mPROGRESS\u001b[1m]\u001b[0m save 3D 10um: done\n"
      ]
     },
     "metadata": {},
     "output_type": "display_data"
    },
    {
     "data": {
      "text/html": [
       "<pre style=\"white-space:pre;overflow-x:auto;line-height:normal;font-family:Menlo,'DejaVu Sans Mono',consolas,'Courier New',monospace\"><span style=\"font-weight: bold\">[</span>PROGRESS<span style=\"font-weight: bold\">]</span> downsample: done\n",
       "</pre>\n"
      ],
      "text/plain": [
       "\u001b[1m[\u001b[0mPROGRESS\u001b[1m]\u001b[0m downsample: done\n"
      ]
     },
     "metadata": {},
     "output_type": "display_data"
    },
    {
     "data": {
      "text/html": [
       "<pre style=\"white-space:pre;overflow-x:auto;line-height:normal;font-family:Menlo,'DejaVu Sans Mono',consolas,'Courier New',monospace\">num regions,    left: <span style=\"color: #008080; text-decoration-color: #008080; font-weight: bold\">192</span>,  right: <span style=\"color: #008080; text-decoration-color: #008080; font-weight: bold\">192</span>\n",
       "region id diff,         r - l:  <span style=\"color: #800080; text-decoration-color: #800080; font-weight: bold\">Counter</span><span style=\"font-weight: bold\">({</span><span style=\"color: #008080; text-decoration-color: #008080; font-weight: bold\">192</span>: <span style=\"color: #008080; text-decoration-color: #008080; font-weight: bold\">192</span><span style=\"font-weight: bold\">})</span>\n",
       "\n",
       "</pre>\n"
      ],
      "text/plain": [
       "num regions,    left: \u001b[1;36m192\u001b[0m,  right: \u001b[1;36m192\u001b[0m\n",
       "region id diff,         r - l:  \u001b[1;35mCounter\u001b[0m\u001b[1m(\u001b[0m\u001b[1m{\u001b[0m\u001b[1;36m192\u001b[0m: \u001b[1;36m192\u001b[0m\u001b[1m}\u001b[0m\u001b[1m)\u001b[0m\n",
       "\n"
      ]
     },
     "metadata": {},
     "output_type": "display_data"
    },
    {
     "data": {
      "text/html": [
       "<pre style=\"white-space:pre;overflow-x:auto;line-height:normal;font-family:Menlo,'DejaVu Sans Mono',consolas,'Courier New',monospace\"><span style=\"font-weight: bold\">[</span>PROGRESS<span style=\"font-weight: bold\">]</span> fit columnar: done\n",
       "</pre>\n"
      ],
      "text/plain": [
       "\u001b[1m[\u001b[0mPROGRESS\u001b[1m]\u001b[0m fit columnar: done\n"
      ]
     },
     "metadata": {},
     "output_type": "display_data"
    },
    {
     "data": {
      "text/html": [
       "<pre style=\"white-space:pre;overflow-x:auto;line-height:normal;font-family:Menlo,'DejaVu Sans Mono',consolas,'Courier New',monospace\"><span style=\"font-weight: bold\">[</span>PROGRESS<span style=\"font-weight: bold\">]</span> <span style=\"color: #008000; text-decoration-color: #008000\">'cortex_100um.npy'</span> saved at\n",
       "<span style=\"color: #800080; text-decoration-color: #800080\">/home/hadi/Documents/Ca-fMRI/processed/</span><span style=\"color: #ff00ff; text-decoration-color: #ff00ff\">norm-global_parcel-columnar_n-64</span>*<span style=\"color: #008080; text-decoration-color: #008080; font-weight: bold\">0</span>/parcellation\n",
       "</pre>\n"
      ],
      "text/plain": [
       "\u001b[1m[\u001b[0mPROGRESS\u001b[1m]\u001b[0m \u001b[32m'cortex_100um.npy'\u001b[0m saved at\n",
       "\u001b[35m/home/hadi/Documents/Ca-fMRI/processed/\u001b[0m\u001b[95mnorm-global_parcel-columnar_n-64\u001b[0m*\u001b[1;36m0\u001b[0m/parcellation\n"
      ]
     },
     "metadata": {},
     "output_type": "display_data"
    },
    {
     "data": {
      "text/html": [
       "<pre style=\"white-space:pre;overflow-x:auto;line-height:normal;font-family:Menlo,'DejaVu Sans Mono',consolas,'Courier New',monospace\"><span style=\"font-weight: bold\">[</span>PROGRESS<span style=\"font-weight: bold\">]</span> <span style=\"color: #008000; text-decoration-color: #008000\">'cortex-top_100um.npy'</span> saved at\n",
       "<span style=\"color: #800080; text-decoration-color: #800080\">/home/hadi/Documents/Ca-fMRI/processed/</span><span style=\"color: #ff00ff; text-decoration-color: #ff00ff\">norm-global_parcel-columnar_n-64</span>*<span style=\"color: #008080; text-decoration-color: #008080; font-weight: bold\">0</span>/parcellation\n",
       "</pre>\n"
      ],
      "text/plain": [
       "\u001b[1m[\u001b[0mPROGRESS\u001b[1m]\u001b[0m \u001b[32m'cortex-top_100um.npy'\u001b[0m saved at\n",
       "\u001b[35m/home/hadi/Documents/Ca-fMRI/processed/\u001b[0m\u001b[95mnorm-global_parcel-columnar_n-64\u001b[0m*\u001b[1;36m0\u001b[0m/parcellation\n"
      ]
     },
     "metadata": {},
     "output_type": "display_data"
    },
    {
     "data": {
      "text/html": [
       "<pre style=\"white-space:pre;overflow-x:auto;line-height:normal;font-family:Menlo,'DejaVu Sans Mono',consolas,'Courier New',monospace\"><span style=\"font-weight: bold\">[</span>PROGRESS<span style=\"font-weight: bold\">]</span> <span style=\"color: #008000; text-decoration-color: #008000\">'subcortex_100um.npy'</span> saved at\n",
       "<span style=\"color: #800080; text-decoration-color: #800080\">/home/hadi/Documents/Ca-fMRI/processed/</span><span style=\"color: #ff00ff; text-decoration-color: #ff00ff\">norm-global_parcel-columnar_n-64</span>*<span style=\"color: #008080; text-decoration-color: #008080; font-weight: bold\">0</span>/parcellation\n",
       "</pre>\n"
      ],
      "text/plain": [
       "\u001b[1m[\u001b[0mPROGRESS\u001b[1m]\u001b[0m \u001b[32m'subcortex_100um.npy'\u001b[0m saved at\n",
       "\u001b[35m/home/hadi/Documents/Ca-fMRI/processed/\u001b[0m\u001b[95mnorm-global_parcel-columnar_n-64\u001b[0m*\u001b[1;36m0\u001b[0m/parcellation\n"
      ]
     },
     "metadata": {},
     "output_type": "display_data"
    },
    {
     "data": {
      "text/html": [
       "<pre style=\"white-space:pre;overflow-x:auto;line-height:normal;font-family:Menlo,'DejaVu Sans Mono',consolas,'Courier New',monospace\"><span style=\"font-weight: bold\">[</span>PROGRESS<span style=\"font-weight: bold\">]</span> <span style=\"color: #008000; text-decoration-color: #008000\">'subcortex-l_100um.npy'</span> saved at\n",
       "<span style=\"color: #800080; text-decoration-color: #800080\">/home/hadi/Documents/Ca-fMRI/processed/</span><span style=\"color: #ff00ff; text-decoration-color: #ff00ff\">norm-global_parcel-columnar_n-64</span>*<span style=\"color: #008080; text-decoration-color: #008080; font-weight: bold\">0</span>/parcellation\n",
       "</pre>\n"
      ],
      "text/plain": [
       "\u001b[1m[\u001b[0mPROGRESS\u001b[1m]\u001b[0m \u001b[32m'subcortex-l_100um.npy'\u001b[0m saved at\n",
       "\u001b[35m/home/hadi/Documents/Ca-fMRI/processed/\u001b[0m\u001b[95mnorm-global_parcel-columnar_n-64\u001b[0m*\u001b[1;36m0\u001b[0m/parcellation\n"
      ]
     },
     "metadata": {},
     "output_type": "display_data"
    },
    {
     "data": {
      "text/html": [
       "<pre style=\"white-space:pre;overflow-x:auto;line-height:normal;font-family:Menlo,'DejaVu Sans Mono',consolas,'Courier New',monospace\"><span style=\"font-weight: bold\">[</span>PROGRESS<span style=\"font-weight: bold\">]</span> <span style=\"color: #008000; text-decoration-color: #008000\">'subcortex-r_100um.npy'</span> saved at\n",
       "<span style=\"color: #800080; text-decoration-color: #800080\">/home/hadi/Documents/Ca-fMRI/processed/</span><span style=\"color: #ff00ff; text-decoration-color: #ff00ff\">norm-global_parcel-columnar_n-64</span>*<span style=\"color: #008080; text-decoration-color: #008080; font-weight: bold\">0</span>/parcellation\n",
       "</pre>\n"
      ],
      "text/plain": [
       "\u001b[1m[\u001b[0mPROGRESS\u001b[1m]\u001b[0m \u001b[32m'subcortex-r_100um.npy'\u001b[0m saved at\n",
       "\u001b[35m/home/hadi/Documents/Ca-fMRI/processed/\u001b[0m\u001b[95mnorm-global_parcel-columnar_n-64\u001b[0m*\u001b[1;36m0\u001b[0m/parcellation\n"
      ]
     },
     "metadata": {},
     "output_type": "display_data"
    },
    {
     "data": {
      "text/html": [
       "<pre style=\"white-space:pre;overflow-x:auto;line-height:normal;font-family:Menlo,'DejaVu Sans Mono',consolas,'Courier New',monospace\"><span style=\"font-weight: bold\">[</span>PROGRESS<span style=\"font-weight: bold\">]</span> <span style=\"color: #008000; text-decoration-color: #008000\">'regions-top_100um.npy'</span> saved at\n",
       "<span style=\"color: #800080; text-decoration-color: #800080\">/home/hadi/Documents/Ca-fMRI/processed/</span><span style=\"color: #ff00ff; text-decoration-color: #ff00ff\">norm-global_parcel-columnar_n-64</span>*<span style=\"color: #008080; text-decoration-color: #008080; font-weight: bold\">0</span>/parcellation\n",
       "</pre>\n"
      ],
      "text/plain": [
       "\u001b[1m[\u001b[0mPROGRESS\u001b[1m]\u001b[0m \u001b[32m'regions-top_100um.npy'\u001b[0m saved at\n",
       "\u001b[35m/home/hadi/Documents/Ca-fMRI/processed/\u001b[0m\u001b[95mnorm-global_parcel-columnar_n-64\u001b[0m*\u001b[1;36m0\u001b[0m/parcellation\n"
      ]
     },
     "metadata": {},
     "output_type": "display_data"
    },
    {
     "data": {
      "text/html": [
       "<pre style=\"white-space:pre;overflow-x:auto;line-height:normal;font-family:Menlo,'DejaVu Sans Mono',consolas,'Courier New',monospace\"><span style=\"font-weight: bold\">[</span>PROGRESS<span style=\"font-weight: bold\">]</span> <span style=\"color: #008000; text-decoration-color: #008000\">'regions-cortex_100um.npy'</span> saved at\n",
       "<span style=\"color: #800080; text-decoration-color: #800080\">/home/hadi/Documents/Ca-fMRI/processed/</span><span style=\"color: #ff00ff; text-decoration-color: #ff00ff\">norm-global_parcel-columnar_n-64</span>*<span style=\"color: #008080; text-decoration-color: #008080; font-weight: bold\">0</span>/parcellation\n",
       "</pre>\n"
      ],
      "text/plain": [
       "\u001b[1m[\u001b[0mPROGRESS\u001b[1m]\u001b[0m \u001b[32m'regions-cortex_100um.npy'\u001b[0m saved at\n",
       "\u001b[35m/home/hadi/Documents/Ca-fMRI/processed/\u001b[0m\u001b[95mnorm-global_parcel-columnar_n-64\u001b[0m*\u001b[1;36m0\u001b[0m/parcellation\n"
      ]
     },
     "metadata": {},
     "output_type": "display_data"
    },
    {
     "data": {
      "text/html": [
       "<pre style=\"white-space:pre;overflow-x:auto;line-height:normal;font-family:Menlo,'DejaVu Sans Mono',consolas,'Courier New',monospace\"><span style=\"font-weight: bold\">[</span>PROGRESS<span style=\"font-weight: bold\">]</span> <span style=\"color: #008000; text-decoration-color: #008000\">'nonzero-idxs_parcel2d-flat_100um.npy'</span> saved at\n",
       "<span style=\"color: #800080; text-decoration-color: #800080\">/home/hadi/Documents/Ca-fMRI/processed/</span><span style=\"color: #ff00ff; text-decoration-color: #ff00ff\">norm-global_parcel-columnar_n-64</span>*<span style=\"color: #008080; text-decoration-color: #008080; font-weight: bold\">0</span>/parcellation\n",
       "</pre>\n"
      ],
      "text/plain": [
       "\u001b[1m[\u001b[0mPROGRESS\u001b[1m]\u001b[0m \u001b[32m'nonzero-idxs_parcel2d-flat_100um.npy'\u001b[0m saved at\n",
       "\u001b[35m/home/hadi/Documents/Ca-fMRI/processed/\u001b[0m\u001b[95mnorm-global_parcel-columnar_n-64\u001b[0m*\u001b[1;36m0\u001b[0m/parcellation\n"
      ]
     },
     "metadata": {},
     "output_type": "display_data"
    },
    {
     "data": {
      "text/html": [
       "<pre style=\"white-space:pre;overflow-x:auto;line-height:normal;font-family:Menlo,'DejaVu Sans Mono',consolas,'Courier New',monospace\"><span style=\"font-weight: bold\">[</span>PROGRESS<span style=\"font-weight: bold\">]</span> <span style=\"color: #008000; text-decoration-color: #008000\">'nonzero-idxs_parcel2d-top_100um.npy'</span> saved at\n",
       "<span style=\"color: #800080; text-decoration-color: #800080\">/home/hadi/Documents/Ca-fMRI/processed/</span><span style=\"color: #ff00ff; text-decoration-color: #ff00ff\">norm-global_parcel-columnar_n-64</span>*<span style=\"color: #008080; text-decoration-color: #008080; font-weight: bold\">0</span>/parcellation\n",
       "</pre>\n"
      ],
      "text/plain": [
       "\u001b[1m[\u001b[0mPROGRESS\u001b[1m]\u001b[0m \u001b[32m'nonzero-idxs_parcel2d-top_100um.npy'\u001b[0m saved at\n",
       "\u001b[35m/home/hadi/Documents/Ca-fMRI/processed/\u001b[0m\u001b[95mnorm-global_parcel-columnar_n-64\u001b[0m*\u001b[1;36m0\u001b[0m/parcellation\n"
      ]
     },
     "metadata": {},
     "output_type": "display_data"
    },
    {
     "data": {
      "text/html": [
       "<pre style=\"white-space:pre;overflow-x:auto;line-height:normal;font-family:Menlo,'DejaVu Sans Mono',consolas,'Courier New',monospace\"><span style=\"font-weight: bold\">[</span>PROGRESS<span style=\"font-weight: bold\">]</span> <span style=\"color: #008000; text-decoration-color: #008000\">'nonzero-idxs_parcel3d_100um.npy'</span> saved at\n",
       "<span style=\"color: #800080; text-decoration-color: #800080\">/home/hadi/Documents/Ca-fMRI/processed/</span><span style=\"color: #ff00ff; text-decoration-color: #ff00ff\">norm-global_parcel-columnar_n-64</span>*<span style=\"color: #008080; text-decoration-color: #008080; font-weight: bold\">0</span>/parcellation\n",
       "</pre>\n"
      ],
      "text/plain": [
       "\u001b[1m[\u001b[0mPROGRESS\u001b[1m]\u001b[0m \u001b[32m'nonzero-idxs_parcel3d_100um.npy'\u001b[0m saved at\n",
       "\u001b[35m/home/hadi/Documents/Ca-fMRI/processed/\u001b[0m\u001b[95mnorm-global_parcel-columnar_n-64\u001b[0m*\u001b[1;36m0\u001b[0m/parcellation\n"
      ]
     },
     "metadata": {},
     "output_type": "display_data"
    },
    {
     "data": {
      "text/html": [
       "<pre style=\"white-space:pre;overflow-x:auto;line-height:normal;font-family:Menlo,'DejaVu Sans Mono',consolas,'Courier New',monospace\"><span style=\"font-weight: bold\">[</span>PROGRESS<span style=\"font-weight: bold\">]</span> <span style=\"color: #008000; text-decoration-color: #008000\">'region-idxs_parcel2d-flat_100um.npy'</span> saved at\n",
       "<span style=\"color: #800080; text-decoration-color: #800080\">/home/hadi/Documents/Ca-fMRI/processed/</span><span style=\"color: #ff00ff; text-decoration-color: #ff00ff\">norm-global_parcel-columnar_n-64</span>*<span style=\"color: #008080; text-decoration-color: #008080; font-weight: bold\">0</span>/parcellation\n",
       "</pre>\n"
      ],
      "text/plain": [
       "\u001b[1m[\u001b[0mPROGRESS\u001b[1m]\u001b[0m \u001b[32m'region-idxs_parcel2d-flat_100um.npy'\u001b[0m saved at\n",
       "\u001b[35m/home/hadi/Documents/Ca-fMRI/processed/\u001b[0m\u001b[95mnorm-global_parcel-columnar_n-64\u001b[0m*\u001b[1;36m0\u001b[0m/parcellation\n"
      ]
     },
     "metadata": {},
     "output_type": "display_data"
    },
    {
     "data": {
      "text/html": [
       "<pre style=\"white-space:pre;overflow-x:auto;line-height:normal;font-family:Menlo,'DejaVu Sans Mono',consolas,'Courier New',monospace\"><span style=\"font-weight: bold\">[</span>PROGRESS<span style=\"font-weight: bold\">]</span> <span style=\"color: #008000; text-decoration-color: #008000\">'region-idxs_parcel2d-top_100um.npy'</span> saved at\n",
       "<span style=\"color: #800080; text-decoration-color: #800080\">/home/hadi/Documents/Ca-fMRI/processed/</span><span style=\"color: #ff00ff; text-decoration-color: #ff00ff\">norm-global_parcel-columnar_n-64</span>*<span style=\"color: #008080; text-decoration-color: #008080; font-weight: bold\">0</span>/parcellation\n",
       "</pre>\n"
      ],
      "text/plain": [
       "\u001b[1m[\u001b[0mPROGRESS\u001b[1m]\u001b[0m \u001b[32m'region-idxs_parcel2d-top_100um.npy'\u001b[0m saved at\n",
       "\u001b[35m/home/hadi/Documents/Ca-fMRI/processed/\u001b[0m\u001b[95mnorm-global_parcel-columnar_n-64\u001b[0m*\u001b[1;36m0\u001b[0m/parcellation\n"
      ]
     },
     "metadata": {},
     "output_type": "display_data"
    },
    {
     "data": {
      "text/html": [
       "<pre style=\"white-space:pre;overflow-x:auto;line-height:normal;font-family:Menlo,'DejaVu Sans Mono',consolas,'Courier New',monospace\"><span style=\"font-weight: bold\">[</span>PROGRESS<span style=\"font-weight: bold\">]</span> <span style=\"color: #008000; text-decoration-color: #008000\">'region-idxs_parcel3d_100um.npy'</span> saved at\n",
       "<span style=\"color: #800080; text-decoration-color: #800080\">/home/hadi/Documents/Ca-fMRI/processed/</span><span style=\"color: #ff00ff; text-decoration-color: #ff00ff\">norm-global_parcel-columnar_n-64</span>*<span style=\"color: #008080; text-decoration-color: #008080; font-weight: bold\">0</span>/parcellation\n",
       "</pre>\n"
      ],
      "text/plain": [
       "\u001b[1m[\u001b[0mPROGRESS\u001b[1m]\u001b[0m \u001b[32m'region-idxs_parcel3d_100um.npy'\u001b[0m saved at\n",
       "\u001b[35m/home/hadi/Documents/Ca-fMRI/processed/\u001b[0m\u001b[95mnorm-global_parcel-columnar_n-64\u001b[0m*\u001b[1;36m0\u001b[0m/parcellation\n"
      ]
     },
     "metadata": {},
     "output_type": "display_data"
    },
    {
     "data": {
      "text/html": [
       "<pre style=\"white-space:pre;overflow-x:auto;line-height:normal;font-family:Menlo,'DejaVu Sans Mono',consolas,'Courier New',monospace\"><span style=\"font-weight: bold\">[</span>PROGRESS<span style=\"font-weight: bold\">]</span> <span style=\"color: #008000; text-decoration-color: #008000\">'shape_parcel2d-flat_100um.npy'</span> saved at\n",
       "<span style=\"color: #800080; text-decoration-color: #800080\">/home/hadi/Documents/Ca-fMRI/processed/</span><span style=\"color: #ff00ff; text-decoration-color: #ff00ff\">norm-global_parcel-columnar_n-64</span>*<span style=\"color: #008080; text-decoration-color: #008080; font-weight: bold\">0</span>/parcellation\n",
       "</pre>\n"
      ],
      "text/plain": [
       "\u001b[1m[\u001b[0mPROGRESS\u001b[1m]\u001b[0m \u001b[32m'shape_parcel2d-flat_100um.npy'\u001b[0m saved at\n",
       "\u001b[35m/home/hadi/Documents/Ca-fMRI/processed/\u001b[0m\u001b[95mnorm-global_parcel-columnar_n-64\u001b[0m*\u001b[1;36m0\u001b[0m/parcellation\n"
      ]
     },
     "metadata": {},
     "output_type": "display_data"
    },
    {
     "data": {
      "text/html": [
       "<pre style=\"white-space:pre;overflow-x:auto;line-height:normal;font-family:Menlo,'DejaVu Sans Mono',consolas,'Courier New',monospace\"><span style=\"font-weight: bold\">[</span>PROGRESS<span style=\"font-weight: bold\">]</span> <span style=\"color: #008000; text-decoration-color: #008000\">'shape_parcel2d-top_100um.npy'</span> saved at\n",
       "<span style=\"color: #800080; text-decoration-color: #800080\">/home/hadi/Documents/Ca-fMRI/processed/</span><span style=\"color: #ff00ff; text-decoration-color: #ff00ff\">norm-global_parcel-columnar_n-64</span>*<span style=\"color: #008080; text-decoration-color: #008080; font-weight: bold\">0</span>/parcellation\n",
       "</pre>\n"
      ],
      "text/plain": [
       "\u001b[1m[\u001b[0mPROGRESS\u001b[1m]\u001b[0m \u001b[32m'shape_parcel2d-top_100um.npy'\u001b[0m saved at\n",
       "\u001b[35m/home/hadi/Documents/Ca-fMRI/processed/\u001b[0m\u001b[95mnorm-global_parcel-columnar_n-64\u001b[0m*\u001b[1;36m0\u001b[0m/parcellation\n"
      ]
     },
     "metadata": {},
     "output_type": "display_data"
    },
    {
     "data": {
      "text/html": [
       "<pre style=\"white-space:pre;overflow-x:auto;line-height:normal;font-family:Menlo,'DejaVu Sans Mono',consolas,'Courier New',monospace\"><span style=\"font-weight: bold\">[</span>PROGRESS<span style=\"font-weight: bold\">]</span> <span style=\"color: #008000; text-decoration-color: #008000\">'shape_parcel3d_100um.npy'</span> saved at\n",
       "<span style=\"color: #800080; text-decoration-color: #800080\">/home/hadi/Documents/Ca-fMRI/processed/</span><span style=\"color: #ff00ff; text-decoration-color: #ff00ff\">norm-global_parcel-columnar_n-64</span>*<span style=\"color: #008080; text-decoration-color: #008080; font-weight: bold\">0</span>/parcellation\n",
       "</pre>\n"
      ],
      "text/plain": [
       "\u001b[1m[\u001b[0mPROGRESS\u001b[1m]\u001b[0m \u001b[32m'shape_parcel3d_100um.npy'\u001b[0m saved at\n",
       "\u001b[35m/home/hadi/Documents/Ca-fMRI/processed/\u001b[0m\u001b[95mnorm-global_parcel-columnar_n-64\u001b[0m*\u001b[1;36m0\u001b[0m/parcellation\n"
      ]
     },
     "metadata": {},
     "output_type": "display_data"
    },
    {
     "data": {
      "text/html": [
       "<pre style=\"white-space:pre;overflow-x:auto;line-height:normal;font-family:Menlo,'DejaVu Sans Mono',consolas,'Courier New',monospace\"><span style=\"font-weight: bold\">[</span>PROGRESS<span style=\"font-weight: bold\">]</span> save results: done.\n",
       "</pre>\n"
      ],
      "text/plain": [
       "\u001b[1m[\u001b[0mPROGRESS\u001b[1m]\u001b[0m save results: done.\n"
      ]
     },
     "metadata": {},
     "output_type": "display_data"
    }
   ],
   "source": [
    "mice = Mice((64, 0, 100), load_allen=True)\n",
    "mice.parcel.fit_parcel(True)"
   ]
  },
  {
   "cell_type": "code",
   "execution_count": null,
   "id": "be3fb703",
   "metadata": {},
   "outputs": [],
   "source": []
  },
  {
   "cell_type": "code",
   "execution_count": 4,
   "id": "f7f1a9cc",
   "metadata": {},
   "outputs": [
    {
     "data": {
      "text/html": [
       "<pre style=\"white-space:pre;overflow-x:auto;line-height:normal;font-family:Menlo,'DejaVu Sans Mono',consolas,'Courier New',monospace\"><span style=\"font-weight: bold\">[</span>\n",
       "    <span style=\"color: #008000; text-decoration-color: #008000\">'cortex'</span>,\n",
       "    <span style=\"color: #008000; text-decoration-color: #008000\">'cortex-top'</span>,\n",
       "    <span style=\"color: #008000; text-decoration-color: #008000\">'regions-cortex'</span>,\n",
       "    <span style=\"color: #008000; text-decoration-color: #008000\">'regions-top'</span>,\n",
       "    <span style=\"color: #008000; text-decoration-color: #008000\">'nonzero-idxs_parcel2d-flat'</span>,\n",
       "    <span style=\"color: #008000; text-decoration-color: #008000\">'nonzero-idxs_parcel2d-top'</span>,\n",
       "    <span style=\"color: #008000; text-decoration-color: #008000\">'nonzero-idxs_parcel3d'</span>,\n",
       "    <span style=\"color: #008000; text-decoration-color: #008000\">'region-idxs_parcel2d-flat'</span>,\n",
       "    <span style=\"color: #008000; text-decoration-color: #008000\">'region-idxs_parcel2d-top'</span>,\n",
       "    <span style=\"color: #008000; text-decoration-color: #008000\">'region-idxs_parcel3d'</span>,\n",
       "    <span style=\"color: #008000; text-decoration-color: #008000\">'shape_parcel2d-flat'</span>,\n",
       "    <span style=\"color: #008000; text-decoration-color: #008000\">'shape_parcel2d-top'</span>,\n",
       "    <span style=\"color: #008000; text-decoration-color: #008000\">'shape_parcel3d'</span>,\n",
       "    <span style=\"color: #008000; text-decoration-color: #008000\">'subcortex'</span>,\n",
       "    <span style=\"color: #008000; text-decoration-color: #008000\">'subcortex-l'</span>,\n",
       "    <span style=\"color: #008000; text-decoration-color: #008000\">'subcortex-r'</span>\n",
       "<span style=\"font-weight: bold\">]</span>\n",
       "</pre>\n"
      ],
      "text/plain": [
       "\u001b[1m[\u001b[0m\n",
       "    \u001b[32m'cortex'\u001b[0m,\n",
       "    \u001b[32m'cortex-top'\u001b[0m,\n",
       "    \u001b[32m'regions-cortex'\u001b[0m,\n",
       "    \u001b[32m'regions-top'\u001b[0m,\n",
       "    \u001b[32m'nonzero-idxs_parcel2d-flat'\u001b[0m,\n",
       "    \u001b[32m'nonzero-idxs_parcel2d-top'\u001b[0m,\n",
       "    \u001b[32m'nonzero-idxs_parcel3d'\u001b[0m,\n",
       "    \u001b[32m'region-idxs_parcel2d-flat'\u001b[0m,\n",
       "    \u001b[32m'region-idxs_parcel2d-top'\u001b[0m,\n",
       "    \u001b[32m'region-idxs_parcel3d'\u001b[0m,\n",
       "    \u001b[32m'shape_parcel2d-flat'\u001b[0m,\n",
       "    \u001b[32m'shape_parcel2d-top'\u001b[0m,\n",
       "    \u001b[32m'shape_parcel3d'\u001b[0m,\n",
       "    \u001b[32m'subcortex'\u001b[0m,\n",
       "    \u001b[32m'subcortex-l'\u001b[0m,\n",
       "    \u001b[32m'subcortex-r'\u001b[0m\n",
       "\u001b[1m]\u001b[0m\n"
      ]
     },
     "metadata": {},
     "output_type": "display_data"
    }
   ],
   "source": [
    "list(mice.parcel.results)"
   ]
  },
  {
   "cell_type": "code",
   "execution_count": null,
   "id": "3eddabfe",
   "metadata": {},
   "outputs": [],
   "source": []
  },
  {
   "cell_type": "code",
   "execution_count": null,
   "id": "77abb95a",
   "metadata": {},
   "outputs": [],
   "source": []
  },
  {
   "cell_type": "markdown",
   "id": "43219010",
   "metadata": {},
   "source": [
    "## Render ROIs"
   ]
  },
  {
   "cell_type": "code",
   "execution_count": 19,
   "id": "09b70a17",
   "metadata": {},
   "outputs": [],
   "source": [
    "sys.path.insert(0, pjoin(git_dir, 'vedo'))\n",
    "sys.path.insert(0, pjoin(git_dir, 'brainrender'))\n",
    "\n",
    "from bg_space import AnatomicalSpace\n",
    "\n",
    "from brainrender import Scene\n",
    "from brainrender import settings as br_settings\n",
    "from brainrender.actors.streamlines import make_streamlines\n",
    "from brainrender.atlas_specific import get_streamlines_for_region\n",
    "\n",
    "from vedo import Volume as vd_Volume\n",
    "from register.atlas import load_bg_atlas\n",
    "\n",
    "cmap = sns.color_palette('turbo', as_cmap=True)"
   ]
  },
  {
   "cell_type": "code",
   "execution_count": null,
   "id": "1ad36bbc",
   "metadata": {},
   "outputs": [],
   "source": []
  },
  {
   "cell_type": "code",
   "execution_count": 20,
   "id": "5407e41e",
   "metadata": {},
   "outputs": [],
   "source": [
    "cortex = mice.parcel['cortex']\n",
    "regions = cortex[cortex.nonzero()]\n",
    "regions = np.unique(regions)"
   ]
  },
  {
   "cell_type": "code",
   "execution_count": null,
   "id": "63d9fa30",
   "metadata": {},
   "outputs": [],
   "source": []
  },
  {
   "cell_type": "code",
   "execution_count": 21,
   "id": "1e81d815",
   "metadata": {},
   "outputs": [
    {
     "data": {
      "application/vnd.jupyter.widget-view+json": {
       "model_id": "39c2ff5f9c9a4348a003f0407c6884de",
       "version_major": 2,
       "version_minor": 0
      },
      "text/plain": [
       "  0%|          | 0/384 [00:00<?, ?it/s]"
      ]
     },
     "metadata": {},
     "output_type": "display_data"
    },
    {
     "data": {
      "text/html": [
       "<pre style=\"white-space:pre;overflow-x:auto;line-height:normal;font-family:Menlo,'DejaVu Sans Mono',consolas,'Courier New',monospace\">Scene saved at <span style=\"color: #800080; text-decoration-color: #800080\">/home/hadi/Dropbox/git/jb-Ca-fMRI/tmp/</span><span style=\"color: #ff00ff; text-decoration-color: #ff00ff\">columnar_n64</span>*0_k384.html\n",
       "</pre>\n"
      ],
      "text/plain": [
       "Scene saved at \u001b[35m/home/hadi/Dropbox/git/jb-Ca-fMRI/tmp/\u001b[0m\u001b[95mcolumnar_n64\u001b[0m*0_k384.html\n"
      ]
     },
     "metadata": {},
     "output_type": "display_data"
    }
   ],
   "source": [
    "alpha_root = 0.2\n",
    "\n",
    "_root_alpha = br_settings.ROOT_ALPHA\n",
    "br_settings.ROOT_ALPHA = alpha_root\n",
    "br_settings.RENDER = False\n",
    "\n",
    "\n",
    "scene = Scene(atlas_name=\"allen_mouse_100um\", root=True, inset=True)\n",
    "scene.atlas = load_bg_atlas(scene.atlas)\n",
    "src_space = AnatomicalSpace(\n",
    "    origin='lsa',\n",
    "    shape=scene.atlas.space.shape,\n",
    "    resolution=scene.atlas.space.resolution,\n",
    "    offset=scene.atlas.space.offset,\n",
    ")\n",
    "\n",
    "alpha = 1.0\n",
    "base_name = 'none'  # 'Isocortex'\n",
    "\n",
    "save_name = f'columnar_n{mice.cfg.nn}*{mice.cfg.ll}'\n",
    "save_dir = tmp_dir\n",
    "\n",
    "if base_name != 'none':\n",
    "    scene.add_brain_region(base_name, alpha=0.7, color='k')\n",
    "\n",
    "surfaces, names, colors = [], [], []\n",
    "for i, region_id in tqdm(enumerate(regions), total=len(regions)):\n",
    "    x = cortex == region_id\n",
    "    x = src_space.map_stack_to(scene.atlas.space, x)\n",
    "    c = cmap(i / len(regions))[:3]\n",
    "    colors.append(c)\n",
    "\n",
    "    vol = vd_Volume(x.astype('uint32'), spacing=scene.atlas.resolution).medianSmooth()\n",
    "    surf = vol.isosurface().alpha(alpha).lw(0).c(rgb2hex(c))\n",
    "    surf.smoothWSinc().computeNormals().lighting('metallic').phong().decimate().clean()\n",
    "    surfaces.append(surf)\n",
    "    names.append(f\"region_{region_id}\")\n",
    "    \n",
    "scene.add_silhouette(*scene.actors, lw=0.7, color='k')\n",
    "scene.add(*surfaces, names=names, colors=colors)\n",
    "\n",
    "html_file = [\n",
    "    f\"k{len(regions)}\",\n",
    "]\n",
    "if save_name:\n",
    "    html_file = [f\"{save_name}\"] + html_file\n",
    "html_file = '_'.join(html_file) + \".html\"\n",
    "html_file = pjoin(save_dir, html_file)\n",
    "\n",
    "br_settings.RENDER = True\n",
    "path = scene.export(html_file)\n",
    "br_settings.RENDER = False\n",
    "br_settings.ROOT_ALPHA = _root_alpha\n",
    "scene.plotter.close()"
   ]
  },
  {
   "cell_type": "code",
   "execution_count": null,
   "id": "993af780",
   "metadata": {},
   "outputs": [],
   "source": []
  },
  {
   "cell_type": "code",
   "execution_count": null,
   "id": "b922e01e",
   "metadata": {},
   "outputs": [],
   "source": []
  },
  {
   "cell_type": "markdown",
   "id": "3ecd5ded",
   "metadata": {},
   "source": [
    "## Define 3 depths"
   ]
  },
  {
   "cell_type": "code",
   "execution_count": 8,
   "id": "53a205a9",
   "metadata": {
    "scrolled": false
   },
   "outputs": [
    {
     "data": {
      "text/html": [
       "<div>\n",
       "<style scoped>\n",
       "    .dataframe tbody tr th:only-of-type {\n",
       "        vertical-align: middle;\n",
       "    }\n",
       "\n",
       "    .dataframe tbody tr th {\n",
       "        vertical-align: top;\n",
       "    }\n",
       "\n",
       "    .dataframe thead th {\n",
       "        text-align: right;\n",
       "    }\n",
       "</style>\n",
       "<table border=\"1\" class=\"dataframe\">\n",
       "  <thead>\n",
       "    <tr style=\"text-align: right;\">\n",
       "      <th></th>\n",
       "      <th>description</th>\n",
       "      <th>id</th>\n",
       "      <th>name</th>\n",
       "    </tr>\n",
       "  </thead>\n",
       "  <tbody>\n",
       "    <tr>\n",
       "      <th>0</th>\n",
       "      <td>List of structures in Isocortex layer 5</td>\n",
       "      <td>667481446</td>\n",
       "      <td>Isocortex layer 5</td>\n",
       "    </tr>\n",
       "    <tr>\n",
       "      <th>1</th>\n",
       "      <td>List of structures in Isocortex layer 6b</td>\n",
       "      <td>667481450</td>\n",
       "      <td>Isocortex layer 6b</td>\n",
       "    </tr>\n",
       "    <tr>\n",
       "      <th>2</th>\n",
       "      <td>Summary structures of the cerebellum</td>\n",
       "      <td>688152368</td>\n",
       "      <td>Cerebellum</td>\n",
       "    </tr>\n",
       "    <tr>\n",
       "      <th>3</th>\n",
       "      <td>List of structures for ABA Differential Search</td>\n",
       "      <td>12</td>\n",
       "      <td>ABA - Differential Search</td>\n",
       "    </tr>\n",
       "    <tr>\n",
       "      <th>4</th>\n",
       "      <td>List of valid structures for projection target...</td>\n",
       "      <td>184527634</td>\n",
       "      <td>Mouse Connectivity - Target Search</td>\n",
       "    </tr>\n",
       "    <tr>\n",
       "      <th>5</th>\n",
       "      <td>Structures whose surfaces are represented by a...</td>\n",
       "      <td>691663206</td>\n",
       "      <td>Mouse Brain - Has Surface Mesh</td>\n",
       "    </tr>\n",
       "    <tr>\n",
       "      <th>6</th>\n",
       "      <td>Summary structures of the midbrain</td>\n",
       "      <td>688152365</td>\n",
       "      <td>Midbrain</td>\n",
       "    </tr>\n",
       "    <tr>\n",
       "      <th>7</th>\n",
       "      <td>Summary structures of the medulla</td>\n",
       "      <td>688152367</td>\n",
       "      <td>Medulla</td>\n",
       "    </tr>\n",
       "    <tr>\n",
       "      <th>8</th>\n",
       "      <td>Summary structures of the striatum</td>\n",
       "      <td>688152361</td>\n",
       "      <td>Striatum</td>\n",
       "    </tr>\n",
       "    <tr>\n",
       "      <th>9</th>\n",
       "      <td>Structures representing subdivisions of the mo...</td>\n",
       "      <td>687527945</td>\n",
       "      <td>Mouse Connectivity - Summary</td>\n",
       "    </tr>\n",
       "    <tr>\n",
       "      <th>10</th>\n",
       "      <td>Summary structures of the hippocampal formation</td>\n",
       "      <td>688152359</td>\n",
       "      <td>Hippocampal Formation</td>\n",
       "    </tr>\n",
       "    <tr>\n",
       "      <th>11</th>\n",
       "      <td>List of visual cortex structures targeted for ...</td>\n",
       "      <td>514166994</td>\n",
       "      <td>Allen Brain Observatory targeted structure set</td>\n",
       "    </tr>\n",
       "    <tr>\n",
       "      <th>12</th>\n",
       "      <td>Summary structures of the olfactory areas</td>\n",
       "      <td>688152358</td>\n",
       "      <td>Olfactory Areas</td>\n",
       "    </tr>\n",
       "    <tr>\n",
       "      <th>13</th>\n",
       "      <td>Curated list of non-overlapping substructures ...</td>\n",
       "      <td>167587189</td>\n",
       "      <td>Brain – Summary Structures</td>\n",
       "    </tr>\n",
       "    <tr>\n",
       "      <th>14</th>\n",
       "      <td>List of structures in Isocortex layer 4</td>\n",
       "      <td>667481445</td>\n",
       "      <td>Isocortex layer 4</td>\n",
       "    </tr>\n",
       "    <tr>\n",
       "      <th>15</th>\n",
       "      <td>Structures representing the major divisions of...</td>\n",
       "      <td>687527670</td>\n",
       "      <td>Brain - Major Divisions</td>\n",
       "    </tr>\n",
       "    <tr>\n",
       "      <th>16</th>\n",
       "      <td>Summary structures of the pallidum</td>\n",
       "      <td>688152362</td>\n",
       "      <td>Pallidum</td>\n",
       "    </tr>\n",
       "    <tr>\n",
       "      <th>17</th>\n",
       "      <td>List of Primary injection structures for BDA/A...</td>\n",
       "      <td>114512892</td>\n",
       "      <td>Mouse Connectivity - BDA/AAV Primary Injection...</td>\n",
       "    </tr>\n",
       "    <tr>\n",
       "      <th>18</th>\n",
       "      <td>List of primary AND secondary injection struct...</td>\n",
       "      <td>112905813</td>\n",
       "      <td>Mouse Connectivity - BDA/AAV All Injection Str...</td>\n",
       "    </tr>\n",
       "    <tr>\n",
       "      <th>19</th>\n",
       "      <td>List of structures for ABA Fine Structure Search</td>\n",
       "      <td>10</td>\n",
       "      <td>ABA - Fine Structure Search</td>\n",
       "    </tr>\n",
       "    <tr>\n",
       "      <th>20</th>\n",
       "      <td>List of primary AND secondary injection struct...</td>\n",
       "      <td>112905828</td>\n",
       "      <td>Mouse Connectivity - Projection All Injection ...</td>\n",
       "    </tr>\n",
       "    <tr>\n",
       "      <th>21</th>\n",
       "      <td>List of structures in Isocortex layer 6a</td>\n",
       "      <td>667481449</td>\n",
       "      <td>Isocortex layer 6a</td>\n",
       "    </tr>\n",
       "    <tr>\n",
       "      <th>22</th>\n",
       "      <td>List of structures representing a areal level ...</td>\n",
       "      <td>3</td>\n",
       "      <td>Mouse - Areas</td>\n",
       "    </tr>\n",
       "    <tr>\n",
       "      <th>23</th>\n",
       "      <td>List of structures in Isocortex layer 1</td>\n",
       "      <td>667481440</td>\n",
       "      <td>Isocortex layer 1</td>\n",
       "    </tr>\n",
       "    <tr>\n",
       "      <th>24</th>\n",
       "      <td>Summary structures of the hypothalamus</td>\n",
       "      <td>688152364</td>\n",
       "      <td>Hypothalamus</td>\n",
       "    </tr>\n",
       "    <tr>\n",
       "      <th>25</th>\n",
       "      <td>List of structures in Isocortex layer 2/3</td>\n",
       "      <td>667481441</td>\n",
       "      <td>Isocortex layer 2/3</td>\n",
       "    </tr>\n",
       "    <tr>\n",
       "      <th>26</th>\n",
       "      <td>All mouse visual areas with layers</td>\n",
       "      <td>396673091</td>\n",
       "      <td>Mouse Cell Types - Structures</td>\n",
       "    </tr>\n",
       "    <tr>\n",
       "      <th>27</th>\n",
       "      <td>Summary structures of the cortical subplate</td>\n",
       "      <td>688152360</td>\n",
       "      <td>Cortical Subplate</td>\n",
       "    </tr>\n",
       "    <tr>\n",
       "      <th>28</th>\n",
       "      <td>Summary structures of the thalamus</td>\n",
       "      <td>688152363</td>\n",
       "      <td>Thalamus</td>\n",
       "    </tr>\n",
       "    <tr>\n",
       "      <th>29</th>\n",
       "      <td>List of structures representing a coarse level...</td>\n",
       "      <td>2</td>\n",
       "      <td>Mouse - Coarse</td>\n",
       "    </tr>\n",
       "    <tr>\n",
       "      <th>30</th>\n",
       "      <td>Summary structures of the isocortex</td>\n",
       "      <td>688152357</td>\n",
       "      <td>Isocortex</td>\n",
       "    </tr>\n",
       "    <tr>\n",
       "      <th>31</th>\n",
       "      <td>List of Primary injection structures for Proje...</td>\n",
       "      <td>114512891</td>\n",
       "      <td>Mouse Connectivity - Projection Primary Inject...</td>\n",
       "    </tr>\n",
       "    <tr>\n",
       "      <th>32</th>\n",
       "      <td>Summary structures of the pons</td>\n",
       "      <td>688152366</td>\n",
       "      <td>Pons</td>\n",
       "    </tr>\n",
       "  </tbody>\n",
       "</table>\n",
       "</div>"
      ]
     },
     "execution_count": 8,
     "metadata": {},
     "output_type": "execute_result"
    }
   ],
   "source": [
    "expts, onto_info = mice.al.load_info_dfs()\n",
    "onto_info"
   ]
  },
  {
   "cell_type": "code",
   "execution_count": 9,
   "id": "d9570338",
   "metadata": {},
   "outputs": [
    {
     "data": {
      "text/html": [
       "<pre style=\"white-space:pre;overflow-x:auto;line-height:normal;font-family:Menlo,'DejaVu Sans Mono',consolas,'Courier New',monospace\"><span style=\"font-weight: bold\">[</span>\n",
       "    <span style=\"color: #008000; text-decoration-color: #008000\">'FRP2/3'</span>,\n",
       "    <span style=\"color: #008000; text-decoration-color: #008000\">'MOp2/3'</span>,\n",
       "    <span style=\"color: #008000; text-decoration-color: #008000\">'MOs2/3'</span>,\n",
       "    <span style=\"color: #008000; text-decoration-color: #008000\">'SSp-n2/3'</span>,\n",
       "    <span style=\"color: #008000; text-decoration-color: #008000\">'SSp-bfd2/3'</span>,\n",
       "    <span style=\"color: #008000; text-decoration-color: #008000\">'SSp-ll2/3'</span>,\n",
       "    <span style=\"color: #008000; text-decoration-color: #008000\">'SSp-m2/3'</span>,\n",
       "    <span style=\"color: #008000; text-decoration-color: #008000\">'SSp-ul2/3'</span>,\n",
       "    <span style=\"color: #008000; text-decoration-color: #008000\">'SSp-tr2/3'</span>,\n",
       "    <span style=\"color: #008000; text-decoration-color: #008000\">'SSp-un2/3'</span>,\n",
       "    <span style=\"color: #008000; text-decoration-color: #008000\">'SSs2/3'</span>,\n",
       "    <span style=\"color: #008000; text-decoration-color: #008000\">'GU2/3'</span>,\n",
       "    <span style=\"color: #008000; text-decoration-color: #008000\">'VISC2/3'</span>,\n",
       "    <span style=\"color: #008000; text-decoration-color: #008000\">'AUDd2/3'</span>,\n",
       "    <span style=\"color: #008000; text-decoration-color: #008000\">'AUDp2/3'</span>,\n",
       "    <span style=\"color: #008000; text-decoration-color: #008000\">'AUDpo2/3'</span>,\n",
       "    <span style=\"color: #008000; text-decoration-color: #008000\">'AUDv2/3'</span>,\n",
       "    <span style=\"color: #008000; text-decoration-color: #008000\">'VISal2/3'</span>,\n",
       "    <span style=\"color: #008000; text-decoration-color: #008000\">'VISam2/3'</span>,\n",
       "    <span style=\"color: #008000; text-decoration-color: #008000\">'VISl2/3'</span>,\n",
       "    <span style=\"color: #008000; text-decoration-color: #008000\">'VISp2/3'</span>,\n",
       "    <span style=\"color: #008000; text-decoration-color: #008000\">'VISpl2/3'</span>,\n",
       "    <span style=\"color: #008000; text-decoration-color: #008000\">'VISpm2/3'</span>,\n",
       "    <span style=\"color: #008000; text-decoration-color: #008000\">'VISli2/3'</span>,\n",
       "    <span style=\"color: #008000; text-decoration-color: #008000\">'VISpor2/3'</span>,\n",
       "    <span style=\"color: #008000; text-decoration-color: #008000\">'ACAd2/3'</span>,\n",
       "    <span style=\"color: #008000; text-decoration-color: #008000\">'ACAv2/3'</span>,\n",
       "    <span style=\"color: #008000; text-decoration-color: #008000\">'PL2/3'</span>,\n",
       "    <span style=\"color: #008000; text-decoration-color: #008000\">'ILA2/3'</span>,\n",
       "    <span style=\"color: #008000; text-decoration-color: #008000\">'ORBl2/3'</span>,\n",
       "    <span style=\"color: #008000; text-decoration-color: #008000\">'ORBm2/3'</span>,\n",
       "    <span style=\"color: #008000; text-decoration-color: #008000\">'ORBvl2/3'</span>,\n",
       "    <span style=\"color: #008000; text-decoration-color: #008000\">'AId2/3'</span>,\n",
       "    <span style=\"color: #008000; text-decoration-color: #008000\">'AIp2/3'</span>,\n",
       "    <span style=\"color: #008000; text-decoration-color: #008000\">'AIv2/3'</span>,\n",
       "    <span style=\"color: #008000; text-decoration-color: #008000\">'RSPagl2/3'</span>,\n",
       "    <span style=\"color: #008000; text-decoration-color: #008000\">'RSPd2/3'</span>,\n",
       "    <span style=\"color: #008000; text-decoration-color: #008000\">'RSPv2/3'</span>,\n",
       "    <span style=\"color: #008000; text-decoration-color: #008000\">'VISa2/3'</span>,\n",
       "    <span style=\"color: #008000; text-decoration-color: #008000\">'VISrl2/3'</span>,\n",
       "    <span style=\"color: #008000; text-decoration-color: #008000\">'TEa2/3'</span>,\n",
       "    <span style=\"color: #008000; text-decoration-color: #008000\">'PERI2/3'</span>,\n",
       "    <span style=\"color: #008000; text-decoration-color: #008000\">'ECT2/3'</span>\n",
       "<span style=\"font-weight: bold\">]</span>\n",
       "</pre>\n"
      ],
      "text/plain": [
       "\u001b[1m[\u001b[0m\n",
       "    \u001b[32m'FRP2/3'\u001b[0m,\n",
       "    \u001b[32m'MOp2/3'\u001b[0m,\n",
       "    \u001b[32m'MOs2/3'\u001b[0m,\n",
       "    \u001b[32m'SSp-n2/3'\u001b[0m,\n",
       "    \u001b[32m'SSp-bfd2/3'\u001b[0m,\n",
       "    \u001b[32m'SSp-ll2/3'\u001b[0m,\n",
       "    \u001b[32m'SSp-m2/3'\u001b[0m,\n",
       "    \u001b[32m'SSp-ul2/3'\u001b[0m,\n",
       "    \u001b[32m'SSp-tr2/3'\u001b[0m,\n",
       "    \u001b[32m'SSp-un2/3'\u001b[0m,\n",
       "    \u001b[32m'SSs2/3'\u001b[0m,\n",
       "    \u001b[32m'GU2/3'\u001b[0m,\n",
       "    \u001b[32m'VISC2/3'\u001b[0m,\n",
       "    \u001b[32m'AUDd2/3'\u001b[0m,\n",
       "    \u001b[32m'AUDp2/3'\u001b[0m,\n",
       "    \u001b[32m'AUDpo2/3'\u001b[0m,\n",
       "    \u001b[32m'AUDv2/3'\u001b[0m,\n",
       "    \u001b[32m'VISal2/3'\u001b[0m,\n",
       "    \u001b[32m'VISam2/3'\u001b[0m,\n",
       "    \u001b[32m'VISl2/3'\u001b[0m,\n",
       "    \u001b[32m'VISp2/3'\u001b[0m,\n",
       "    \u001b[32m'VISpl2/3'\u001b[0m,\n",
       "    \u001b[32m'VISpm2/3'\u001b[0m,\n",
       "    \u001b[32m'VISli2/3'\u001b[0m,\n",
       "    \u001b[32m'VISpor2/3'\u001b[0m,\n",
       "    \u001b[32m'ACAd2/3'\u001b[0m,\n",
       "    \u001b[32m'ACAv2/3'\u001b[0m,\n",
       "    \u001b[32m'PL2/3'\u001b[0m,\n",
       "    \u001b[32m'ILA2/3'\u001b[0m,\n",
       "    \u001b[32m'ORBl2/3'\u001b[0m,\n",
       "    \u001b[32m'ORBm2/3'\u001b[0m,\n",
       "    \u001b[32m'ORBvl2/3'\u001b[0m,\n",
       "    \u001b[32m'AId2/3'\u001b[0m,\n",
       "    \u001b[32m'AIp2/3'\u001b[0m,\n",
       "    \u001b[32m'AIv2/3'\u001b[0m,\n",
       "    \u001b[32m'RSPagl2/3'\u001b[0m,\n",
       "    \u001b[32m'RSPd2/3'\u001b[0m,\n",
       "    \u001b[32m'RSPv2/3'\u001b[0m,\n",
       "    \u001b[32m'VISa2/3'\u001b[0m,\n",
       "    \u001b[32m'VISrl2/3'\u001b[0m,\n",
       "    \u001b[32m'TEa2/3'\u001b[0m,\n",
       "    \u001b[32m'PERI2/3'\u001b[0m,\n",
       "    \u001b[32m'ECT2/3'\u001b[0m\n",
       "\u001b[1m]\u001b[0m\n"
      ]
     },
     "metadata": {},
     "output_type": "display_data"
    }
   ],
   "source": [
    "set_id =  667481441\n",
    "strcuts = mice.al.s_tree.get_structures_by_set_id([set_id])\n",
    "acros = [e['acronym'] for e in strcuts]\n",
    "acros"
   ]
  },
  {
   "cell_type": "code",
   "execution_count": null,
   "id": "9a3aa747",
   "metadata": {},
   "outputs": [],
   "source": []
  },
  {
   "cell_type": "code",
   "execution_count": 10,
   "id": "6209d8dd",
   "metadata": {},
   "outputs": [
    {
     "name": "stdout",
     "output_type": "stream",
     "text": [
      "Isocortex (315)\n",
      "├── ACA (31)\n",
      "│   ├── ACAd (39)\n",
      "│   │   ├── ACAd1 (935)\n",
      "│   │   ├── ACAd2/3 (211)\n",
      "│   │   ├── ACAd5 (1015)\n",
      "│   │   ├── ACAd6a (919)\n",
      "│   │   └── ACAd6b (927)\n",
      "│   └── ACAv (48)\n",
      "│       ├── ACAv1 (588)\n",
      "│       ├── ACAv2/3 (296)\n",
      "│       ├── ACAv5 (772)\n",
      "│       ├── ACAv6a (810)\n",
      "│       └── ACAv6b (819)\n",
      "├── AI (95)\n",
      "│   ├── AId (104)\n",
      "│   │   ├── AId1 (996)\n",
      "│   │   ├── AId2/3 (328)\n",
      "│   │   ├── AId5 (1101)\n",
      "│   │   ├── AId6a (783)\n",
      "│   │   └── AId6b (831)\n",
      "│   ├── AIp (111)\n",
      "│   │   ├── AIp1 (120)\n",
      "│   │   ├── AIp2/3 (163)\n",
      "│   │   ├── AIp5 (344)\n",
      "│   │   ├── AIp6a (314)\n",
      "│   │   └── AIp6b (355)\n",
      "│   └── AIv (119)\n",
      "│       ├── AIv1 (704)\n",
      "│       ├── AIv2/3 (694)\n",
      "│       ├── AIv5 (800)\n",
      "│       ├── AIv6a (675)\n",
      "│       └── AIv6b (699)\n",
      "├── AUD (247)\n",
      "│   ├── AUDd (1011)\n",
      "│   │   ├── AUDd1 (527)\n",
      "│   │   ├── AUDd2/3 (600)\n",
      "│   │   ├── AUDd4 (678)\n",
      "│   │   ├── AUDd5 (252)\n",
      "│   │   ├── AUDd6a (156)\n",
      "│   │   └── AUDd6b (243)\n",
      "│   ├── AUDp (1002)\n",
      "│   │   ├── AUDp1 (735)\n",
      "│   │   ├── AUDp2/3 (251)\n",
      "│   │   ├── AUDp4 (816)\n",
      "│   │   ├── AUDp5 (847)\n",
      "│   │   ├── AUDp6a (954)\n",
      "│   │   └── AUDp6b (1005)\n",
      "│   ├── AUDpo (1027)\n",
      "│   │   ├── AUDpo1 (696)\n",
      "│   │   ├── AUDpo2/3 (643)\n",
      "│   │   ├── AUDpo4 (759)\n",
      "│   │   ├── AUDpo5 (791)\n",
      "│   │   ├── AUDpo6a (249)\n",
      "│   │   └── AUDpo6b (456)\n",
      "│   └── AUDv (1018)\n",
      "│       ├── AUDv1 (959)\n",
      "│       ├── AUDv2/3 (755)\n",
      "│       ├── AUDv4 (990)\n",
      "│       ├── AUDv5 (1023)\n",
      "│       ├── AUDv6a (520)\n",
      "│       └── AUDv6b (598)\n",
      "├── ECT (895)\n",
      "│   ├── ECT1 (836)\n",
      "│   ├── ECT2/3 (427)\n",
      "│   ├── ECT5 (988)\n",
      "│   ├── ECT6a (977)\n",
      "│   └── ECT6b (1045)\n",
      "├── FRP (184)\n",
      "│   ├── FRP1 (68)\n",
      "│   ├── FRP2/3 (667)\n",
      "│   ├── FRP5 (526157192)\n",
      "│   ├── FRP6a (526157196)\n",
      "│   └── FRP6b (526322264)\n",
      "├── GU (1057)\n",
      "│   ├── GU1 (36)\n",
      "│   ├── GU2/3 (180)\n",
      "│   ├── GU4 (148)\n",
      "│   ├── GU5 (187)\n",
      "│   ├── GU6a (638)\n",
      "│   └── GU6b (662)\n",
      "├── ILA (44)\n",
      "│   ├── ILA1 (707)\n",
      "│   ├── ILA2/3 (556)\n",
      "│   ├── ILA5 (827)\n",
      "│   ├── ILA6a (1054)\n",
      "│   └── ILA6b (1081)\n",
      "├── MO (500)\n",
      "│   ├── MOp (985)\n",
      "│   │   ├── MOp1 (320)\n",
      "│   │   ├── MOp2/3 (943)\n",
      "│   │   ├── MOp5 (648)\n",
      "│   │   ├── MOp6a (844)\n",
      "│   │   └── MOp6b (882)\n",
      "│   └── MOs (993)\n",
      "│       ├── MOs1 (656)\n",
      "│       ├── MOs2/3 (962)\n",
      "│       ├── MOs5 (767)\n",
      "│       ├── MOs6a (1021)\n",
      "│       └── MOs6b (1085)\n",
      "├── ORB (714)\n",
      "│   ├── ORBl (723)\n",
      "│   │   ├── ORBl1 (448)\n",
      "│   │   ├── ORBl2/3 (412)\n",
      "│   │   ├── ORBl5 (630)\n",
      "│   │   ├── ORBl6a (440)\n",
      "│   │   └── ORBl6b (488)\n",
      "│   ├── ORBm (731)\n",
      "│   │   ├── ORBm1 (484)\n",
      "│   │   ├── ORBm2/3 (582)\n",
      "│   │   ├── ORBm5 (620)\n",
      "│   │   ├── ORBm6a (910)\n",
      "│   │   └── ORBm6b (527696977)\n",
      "│   └── ORBvl (746)\n",
      "│       ├── ORBvl1 (969)\n",
      "│       ├── ORBvl2/3 (288)\n",
      "│       ├── ORBvl5 (1125)\n",
      "│       ├── ORBvl6a (608)\n",
      "│       └── ORBvl6b (680)\n",
      "├── PERI (922)\n",
      "│   ├── PERI1 (540)\n",
      "│   ├── PERI2/3 (888)\n",
      "│   ├── PERI5 (692)\n",
      "│   ├── PERI6a (335)\n",
      "│   └── PERI6b (368)\n",
      "├── PL (972)\n",
      "│   ├── PL1 (171)\n",
      "│   ├── PL2/3 (304)\n",
      "│   ├── PL5 (363)\n",
      "│   ├── PL6a (84)\n",
      "│   └── PL6b (132)\n",
      "├── PTLp (22)\n",
      "│   ├── VISa (312782546)\n",
      "│   │   ├── VISa1 (312782550)\n",
      "│   │   ├── VISa2/3 (312782554)\n",
      "│   │   ├── VISa4 (312782558)\n",
      "│   │   ├── VISa5 (312782562)\n",
      "│   │   ├── VISa6a (312782566)\n",
      "│   │   └── VISa6b (312782570)\n",
      "│   └── VISrl (417)\n",
      "│       ├── VISrl1 (312782604)\n",
      "│       ├── VISrl2/3 (312782608)\n",
      "│       ├── VISrl4 (312782612)\n",
      "│       ├── VISrl5 (312782616)\n",
      "│       ├── VISrl6a (312782620)\n",
      "│       └── VISrl6b (312782624)\n",
      "├── RSP (254)\n",
      "│   ├── RSPagl (894)\n",
      "│   │   ├── RSPagl1 (671)\n",
      "│   │   ├── RSPagl2/3 (965)\n",
      "│   │   ├── RSPagl5 (774)\n",
      "│   │   ├── RSPagl6a (906)\n",
      "│   │   └── RSPagl6b (279)\n",
      "│   ├── RSPd (879)\n",
      "│   │   ├── RSPd1 (442)\n",
      "│   │   ├── RSPd2/3 (434)\n",
      "│   │   ├── RSPd4 (545)\n",
      "│   │   ├── RSPd5 (610)\n",
      "│   │   ├── RSPd6a (274)\n",
      "│   │   └── RSPd6b (330)\n",
      "│   └── RSPv (886)\n",
      "│       ├── RSPv1 (542)\n",
      "│       ├── RSPv2/3 (430)\n",
      "│       ├── RSPv5 (687)\n",
      "│       ├── RSPv6a (590)\n",
      "│       └── RSPv6b (622)\n",
      "├── SS (453)\n",
      "│   ├── SSp (322)\n",
      "│   │   ├── SSp-bfd (329)\n",
      "│   │   │   ├── SSp-bfd1 (981)\n",
      "│   │   │   ├── SSp-bfd2/3 (201)\n",
      "│   │   │   ├── SSp-bfd4 (1047)\n",
      "│   │   │   ├── SSp-bfd5 (1070)\n",
      "│   │   │   ├── SSp-bfd6a (1038)\n",
      "│   │   │   └── SSp-bfd6b (1062)\n",
      "│   │   ├── SSp-ll (337)\n",
      "│   │   │   ├── SSp-ll1 (1030)\n",
      "│   │   │   ├── SSp-ll2/3 (113)\n",
      "│   │   │   ├── SSp-ll4 (1094)\n",
      "│   │   │   ├── SSp-ll5 (1128)\n",
      "│   │   │   ├── SSp-ll6a (478)\n",
      "│   │   │   └── SSp-ll6b (510)\n",
      "│   │   ├── SSp-m (345)\n",
      "│   │   │   ├── SSp-m1 (878)\n",
      "│   │   │   ├── SSp-m2/3 (657)\n",
      "│   │   │   ├── SSp-m4 (950)\n",
      "│   │   │   ├── SSp-m5 (974)\n",
      "│   │   │   ├── SSp-m6a (1102)\n",
      "│   │   │   └── SSp-m6b (2)\n",
      "│   │   ├── SSp-n (353)\n",
      "│   │   │   ├── SSp-n1 (558)\n",
      "│   │   │   ├── SSp-n2/3 (838)\n",
      "│   │   │   ├── SSp-n4 (654)\n",
      "│   │   │   ├── SSp-n5 (702)\n",
      "│   │   │   ├── SSp-n6a (889)\n",
      "│   │   │   └── SSp-n6b (929)\n",
      "│   │   ├── SSp-tr (361)\n",
      "│   │   │   ├── SSp-tr1 (1006)\n",
      "│   │   │   ├── SSp-tr2/3 (670)\n",
      "│   │   │   ├── SSp-tr4 (1086)\n",
      "│   │   │   ├── SSp-tr5 (1111)\n",
      "│   │   │   ├── SSp-tr6a (9)\n",
      "│   │   │   └── SSp-tr6b (461)\n",
      "│   │   ├── SSp-ul (369)\n",
      "│   │   │   ├── SSp-ul1 (450)\n",
      "│   │   │   ├── SSp-ul2/3 (854)\n",
      "│   │   │   ├── SSp-ul4 (577)\n",
      "│   │   │   ├── SSp-ul5 (625)\n",
      "│   │   │   ├── SSp-ul6a (945)\n",
      "│   │   │   └── SSp-ul6b (1026)\n",
      "│   │   └── SSp-un (182305689)\n",
      "│   │       ├── SSp-un1 (182305693)\n",
      "│   │       ├── SSp-un2/3 (182305697)\n",
      "│   │       ├── SSp-un4 (182305701)\n",
      "│   │       ├── SSp-un5 (182305705)\n",
      "│   │       ├── SSp-un6a (182305709)\n",
      "│   │       └── SSp-un6b (182305713)\n",
      "│   └── SSs (378)\n",
      "│       ├── SSs1 (873)\n",
      "│       ├── SSs2/3 (806)\n",
      "│       ├── SSs4 (1035)\n",
      "│       ├── SSs5 (1090)\n",
      "│       ├── SSs6a (862)\n",
      "│       └── SSs6b (893)\n",
      "├── TEa (541)\n",
      "│   ├── TEa1 (97)\n",
      "│   ├── TEa2/3 (1127)\n",
      "│   ├── TEa4 (234)\n",
      "│   ├── TEa5 (289)\n",
      "│   ├── TEa6a (729)\n",
      "│   └── TEa6b (786)\n",
      "├── VIS (669)\n",
      "│   ├── VISal (402)\n",
      "│   │   ├── VISal1 (1074)\n",
      "│   │   ├── VISal2/3 (905)\n",
      "│   │   ├── VISal4 (1114)\n",
      "│   │   ├── VISal5 (233)\n",
      "│   │   ├── VISal6a (601)\n",
      "│   │   └── VISal6b (649)\n",
      "│   ├── VISam (394)\n",
      "│   │   ├── VISam1 (281)\n",
      "│   │   ├── VISam2/3 (1066)\n",
      "│   │   ├── VISam4 (401)\n",
      "│   │   ├── VISam5 (433)\n",
      "│   │   ├── VISam6a (1046)\n",
      "│   │   └── VISam6b (441)\n",
      "│   ├── VISl (409)\n",
      "│   │   ├── VISl1 (421)\n",
      "│   │   ├── VISl2/3 (973)\n",
      "│   │   ├── VISl4 (573)\n",
      "│   │   ├── VISl5 (613)\n",
      "│   │   ├── VISl6a (74)\n",
      "│   │   └── VISl6b (121)\n",
      "│   ├── VISli (312782574)\n",
      "│   │   ├── VISli1 (312782578)\n",
      "│   │   ├── VISli2/3 (312782582)\n",
      "│   │   ├── VISli4 (312782586)\n",
      "│   │   ├── VISli5 (312782590)\n",
      "│   │   ├── VISli6a (312782594)\n",
      "│   │   └── VISli6b (312782598)\n",
      "│   ├── VISp (385)\n",
      "│   │   ├── VISp1 (593)\n",
      "│   │   ├── VISp2/3 (821)\n",
      "│   │   ├── VISp4 (721)\n",
      "│   │   ├── VISp5 (778)\n",
      "│   │   ├── VISp6a (33)\n",
      "│   │   └── VISp6b (305)\n",
      "│   ├── VISpl (425)\n",
      "│   │   ├── VISpl1 (750)\n",
      "│   │   ├── VISpl2/3 (269)\n",
      "│   │   ├── VISpl4 (869)\n",
      "│   │   ├── VISpl5 (902)\n",
      "│   │   ├── VISpl6a (377)\n",
      "│   │   └── VISpl6b (393)\n",
      "│   ├── VISpm (533)\n",
      "│   │   ├── VISpm1 (805)\n",
      "│   │   ├── VISpm2/3 (41)\n",
      "│   │   ├── VISpm4 (501)\n",
      "│   │   ├── VISpm5 (565)\n",
      "│   │   ├── VISpm6a (257)\n",
      "│   │   └── VISpm6b (469)\n",
      "│   └── VISpor (312782628)\n",
      "│       ├── VISpor1 (312782632)\n",
      "│       ├── VISpor2/3 (312782636)\n",
      "│       ├── VISpor4 (312782640)\n",
      "│       ├── VISpor5 (312782644)\n",
      "│       ├── VISpor6a (312782648)\n",
      "│       └── VISpor6b (312782652)\n",
      "└── VISC (677)\n",
      "    ├── VISC1 (897)\n",
      "    ├── VISC2/3 (1106)\n",
      "    ├── VISC4 (1010)\n",
      "    ├── VISC5 (1058)\n",
      "    ├── VISC6a (857)\n",
      "    └── VISC6b (849)\n",
      "\n"
     ]
    }
   ],
   "source": [
    "subtree, base_lvl = mice.al.get_subtree(315)"
   ]
  },
  {
   "cell_type": "code",
   "execution_count": null,
   "id": "b1e2bc7b",
   "metadata": {},
   "outputs": [],
   "source": []
  },
  {
   "cell_type": "code",
   "execution_count": 11,
   "id": "7f84800d",
   "metadata": {},
   "outputs": [],
   "source": [
    "layer_mask_coarse, layer_mask = mice.al.make_layer_mask()\n",
    "\n",
    "layer_mask_3 = sum(\n",
    "    e.astype('int32') * i for i, e in\n",
    "    enumerate(layer_mask_coarse.values(), start=1)\n",
    ")"
   ]
  },
  {
   "cell_type": "code",
   "execution_count": null,
   "id": "f4848844",
   "metadata": {},
   "outputs": [],
   "source": []
  },
  {
   "cell_type": "code",
   "execution_count": 12,
   "id": "a6f4c4b0",
   "metadata": {},
   "outputs": [],
   "source": [
    "mice4 = Mice((192, 4, 100), load_parcel=True)\n",
    "\n",
    "regions4 = mice4.parcel['cortex'][mice4.parcel['cortex'].nonzero()]\n",
    "regions4 = np.unique(regions4)\n",
    "\n",
    "hcl = mice4.parcel.decode(regions4)\n",
    "\n",
    "layer_mask_4 = {\n",
    "    f'layer-{ll}': np.isin(mice4.parcel['cortex'], mice4.parcel.encode(hcl[hcl[:, -1] == ll]))\n",
    "    for ll in range(mice4.cfg.ll)\n",
    "}\n",
    "layer_mask_4 = sum(\n",
    "    e.astype('int32') * i for i, e in\n",
    "    enumerate(layer_mask_4.values(), start=1)\n",
    ")"
   ]
  },
  {
   "cell_type": "code",
   "execution_count": null,
   "id": "1c9cdada",
   "metadata": {},
   "outputs": [],
   "source": []
  },
  {
   "cell_type": "code",
   "execution_count": null,
   "id": "b2992773",
   "metadata": {},
   "outputs": [],
   "source": []
  },
  {
   "cell_type": "code",
   "execution_count": 22,
   "id": "7077816e",
   "metadata": {},
   "outputs": [],
   "source": [
    "layer_mask_coarse, layer_mask = mice.al.make_layer_mask()"
   ]
  },
  {
   "cell_type": "code",
   "execution_count": 25,
   "id": "1873cd33",
   "metadata": {},
   "outputs": [
    {
     "data": {
      "text/html": [
       "<pre style=\"white-space:pre;overflow-x:auto;line-height:normal;font-family:Menlo,'DejaVu Sans Mono',consolas,'Courier New',monospace\">Scene saved at <span style=\"color: #800080; text-decoration-color: #800080\">/home/hadi/Dropbox/git/jb-Ca-fMRI/tmp/</span><span style=\"color: #ff00ff; text-decoration-color: #ff00ff\">layers_n64</span>*0_k3.html\n",
       "</pre>\n"
      ],
      "text/plain": [
       "Scene saved at \u001b[35m/home/hadi/Dropbox/git/jb-Ca-fMRI/tmp/\u001b[0m\u001b[95mlayers_n64\u001b[0m*0_k3.html\n"
      ]
     },
     "metadata": {},
     "output_type": "display_data"
    }
   ],
   "source": [
    "alpha_root = 0.2\n",
    "\n",
    "_root_alpha = br_settings.ROOT_ALPHA\n",
    "br_settings.ROOT_ALPHA = alpha_root\n",
    "br_settings.RENDER = False\n",
    "\n",
    "\n",
    "scene = Scene(atlas_name=\"allen_mouse_100um\", root=True, inset=True)\n",
    "scene.atlas = load_bg_atlas(scene.atlas)\n",
    "src_space = AnatomicalSpace(\n",
    "    origin='lsa',\n",
    "    shape=scene.atlas.space.shape,\n",
    "    resolution=scene.atlas.space.resolution,\n",
    "    offset=scene.atlas.space.offset,\n",
    ")\n",
    "\n",
    "alpha = 1.0\n",
    "base_name = 'none'  # 'Isocortex'\n",
    "\n",
    "save_name = f'layers_n{mice.cfg.nn}*{mice.cfg.ll}'\n",
    "save_dir = tmp_dir\n",
    "\n",
    "if base_name != 'none':\n",
    "    scene.add_brain_region(base_name, alpha=0.7, color='k')\n",
    "\n",
    "surfaces, names, colors = [], [], []\n",
    "for i, m in enumerate(layer_mask_coarse.values()):\n",
    "    x = src_space.map_stack_to(scene.atlas.space, m)\n",
    "    c = cmap(i / len(layer_mask_coarse))[:3]\n",
    "    colors.append(c)\n",
    "\n",
    "    vol = vd_Volume(x.astype('uint32'), spacing=scene.atlas.resolution).medianSmooth()\n",
    "    surf = vol.isosurface().alpha(alpha).lw(0).c(rgb2hex(c))\n",
    "    surf.smoothWSinc().computeNormals().lighting('metallic').phong().decimate().clean()\n",
    "    surfaces.append(surf)\n",
    "    names.append(f\"region_{region_id}\")\n",
    "    \n",
    "scene.add_silhouette(*scene.actors, lw=0.7, color='k')\n",
    "scene.add(*surfaces, names=names, colors=colors)\n",
    "\n",
    "html_file = [\n",
    "    f\"k{len(layer_mask_coarse)}\",\n",
    "]\n",
    "if save_name:\n",
    "    html_file = [f\"{save_name}\"] + html_file\n",
    "html_file = '_'.join(html_file) + \".html\"\n",
    "html_file = pjoin(save_dir, html_file)\n",
    "\n",
    "br_settings.RENDER = True\n",
    "path = scene.export(html_file)\n",
    "br_settings.RENDER = False\n",
    "br_settings.ROOT_ALPHA = _root_alpha\n",
    "scene.plotter.close()"
   ]
  },
  {
   "cell_type": "code",
   "execution_count": null,
   "id": "44522913",
   "metadata": {},
   "outputs": [],
   "source": []
  },
  {
   "cell_type": "code",
   "execution_count": null,
   "id": "acae6492",
   "metadata": {},
   "outputs": [],
   "source": []
  },
  {
   "cell_type": "code",
   "execution_count": 32,
   "id": "877d4863",
   "metadata": {},
   "outputs": [
    {
     "data": {
      "text/html": [
       "<pre style=\"white-space:pre;overflow-x:auto;line-height:normal;font-family:Menlo,'DejaVu Sans Mono',consolas,'Courier New',monospace\">Scene saved at <span style=\"color: #800080; text-decoration-color: #800080\">/home/hadi/Dropbox/git/jb-Ca-fMRI/tmp/</span><span style=\"color: #ff00ff; text-decoration-color: #ff00ff\">columns_n64</span>*0_k64.html\n",
       "</pre>\n"
      ],
      "text/plain": [
       "Scene saved at \u001b[35m/home/hadi/Dropbox/git/jb-Ca-fMRI/tmp/\u001b[0m\u001b[95mcolumns_n64\u001b[0m*0_k64.html\n"
      ]
     },
     "metadata": {},
     "output_type": "display_data"
    }
   ],
   "source": [
    "alpha_root = 0.2\n",
    "\n",
    "_root_alpha = br_settings.ROOT_ALPHA\n",
    "br_settings.ROOT_ALPHA = alpha_root\n",
    "br_settings.RENDER = False\n",
    "\n",
    "\n",
    "scene = Scene(atlas_name=\"allen_mouse_100um\", root=True, inset=True)\n",
    "scene.atlas = load_bg_atlas(scene.atlas)\n",
    "src_space = AnatomicalSpace(\n",
    "    origin='lsa',\n",
    "    shape=scene.atlas.space.shape,\n",
    "    resolution=scene.atlas.space.resolution,\n",
    "    offset=scene.atlas.space.offset,\n",
    ")\n",
    "\n",
    "alpha = 1.0\n",
    "base_name = 'none'  # 'Isocortex'\n",
    "\n",
    "save_name = f'columns_n{mice.cfg.nn}*{mice.cfg.ll}'\n",
    "save_dir = tmp_dir\n",
    "\n",
    "if base_name != 'none':\n",
    "    scene.add_brain_region(base_name, alpha=0.7, color='k')\n",
    "\n",
    "surfaces, names, colors = [], [], []\n",
    "for i in range(mice.cfg.nn):\n",
    "    idxs = []\n",
    "    for ll in range(3):\n",
    "        idxs.append(mice.parcel.encode(2, i + 1, ll))\n",
    "    m = np.isin(mice.parcel['cortex'], idxs)\n",
    "    x = src_space.map_stack_to(scene.atlas.space, m)\n",
    "    c = cmap(i / mice.cfg.nn)[:3]\n",
    "    colors.append(c)\n",
    "\n",
    "    vol = vd_Volume(x.astype('uint32'), spacing=scene.atlas.resolution).medianSmooth()\n",
    "    surf = vol.isosurface().alpha(alpha).lw(0).c(rgb2hex(c))\n",
    "    surf.smoothWSinc().computeNormals().lighting('metallic').phong().decimate().clean()\n",
    "    surfaces.append(surf)\n",
    "    names.append(f\"region_{region_id}\")\n",
    "    \n",
    "scene.add_silhouette(*scene.actors, lw=0.7, color='k')\n",
    "scene.add(*surfaces, names=names, colors=colors)\n",
    "\n",
    "html_file = [\n",
    "    f\"k{mice.cfg.nn}\",\n",
    "]\n",
    "if save_name:\n",
    "    html_file = [f\"{save_name}\"] + html_file\n",
    "html_file = '_'.join(html_file) + \".html\"\n",
    "html_file = pjoin(save_dir, html_file)\n",
    "\n",
    "br_settings.RENDER = True\n",
    "path = scene.export(html_file)\n",
    "br_settings.RENDER = False\n",
    "br_settings.ROOT_ALPHA = _root_alpha\n",
    "scene.plotter.close()"
   ]
  },
  {
   "cell_type": "code",
   "execution_count": null,
   "id": "a658ba05",
   "metadata": {},
   "outputs": [],
   "source": []
  },
  {
   "cell_type": "code",
   "execution_count": null,
   "id": "bc128d5e",
   "metadata": {},
   "outputs": [],
   "source": []
  },
  {
   "cell_type": "code",
   "execution_count": null,
   "id": "a93b1129",
   "metadata": {},
   "outputs": [],
   "source": []
  },
  {
   "cell_type": "code",
   "execution_count": 3,
   "id": "815f4902",
   "metadata": {},
   "outputs": [
    {
     "data": {
      "text/html": [
       "<pre style=\"white-space:pre;overflow-x:auto;line-height:normal;font-family:Menlo,'DejaVu Sans Mono',consolas,'Courier New',monospace\">ANTsImage <span style=\"font-weight: bold\">(</span>RAI<span style=\"font-weight: bold\">)</span>\n",
       "         Pixel Type : unsigned int <span style=\"font-weight: bold\">(</span>uint32<span style=\"font-weight: bold\">)</span>\n",
       "         Components : <span style=\"color: #008080; text-decoration-color: #008080; font-weight: bold\">1</span>\n",
       "         Dimensions : <span style=\"font-weight: bold\">(</span><span style=\"color: #008080; text-decoration-color: #008080; font-weight: bold\">1320</span>, <span style=\"color: #008080; text-decoration-color: #008080; font-weight: bold\">800</span>, <span style=\"color: #008080; text-decoration-color: #008080; font-weight: bold\">1140</span><span style=\"font-weight: bold\">)</span>\n",
       "         Spacing    : <span style=\"font-weight: bold\">(</span><span style=\"color: #008080; text-decoration-color: #008080; font-weight: bold\">10.0</span>, <span style=\"color: #008080; text-decoration-color: #008080; font-weight: bold\">10.0</span>, <span style=\"color: #008080; text-decoration-color: #008080; font-weight: bold\">10.0</span><span style=\"font-weight: bold\">)</span>\n",
       "         Origin     : <span style=\"font-weight: bold\">(</span><span style=\"color: #008080; text-decoration-color: #008080; font-weight: bold\">0.0</span>, <span style=\"color: #008080; text-decoration-color: #008080; font-weight: bold\">0.0</span>, <span style=\"color: #008080; text-decoration-color: #008080; font-weight: bold\">0.0</span><span style=\"font-weight: bold\">)</span>\n",
       "         Direction  : <span style=\"font-weight: bold\">[</span><span style=\"color: #008080; text-decoration-color: #008080; font-weight: bold\">1</span>. <span style=\"color: #008080; text-decoration-color: #008080; font-weight: bold\">0</span>. <span style=\"color: #008080; text-decoration-color: #008080; font-weight: bold\">0</span>. <span style=\"color: #008080; text-decoration-color: #008080; font-weight: bold\">0</span>. <span style=\"color: #008080; text-decoration-color: #008080; font-weight: bold\">1</span>. <span style=\"color: #008080; text-decoration-color: #008080; font-weight: bold\">0</span>. <span style=\"color: #008080; text-decoration-color: #008080; font-weight: bold\">0</span>. <span style=\"color: #008080; text-decoration-color: #008080; font-weight: bold\">0</span>. <span style=\"color: #008080; text-decoration-color: #008080; font-weight: bold\">1</span>.<span style=\"font-weight: bold\">]</span>\n",
       "\n",
       "</pre>\n"
      ],
      "text/plain": [
       "ANTsImage \u001b[1m(\u001b[0mRAI\u001b[1m)\u001b[0m\n",
       "         Pixel Type : unsigned int \u001b[1m(\u001b[0muint32\u001b[1m)\u001b[0m\n",
       "         Components : \u001b[1;36m1\u001b[0m\n",
       "         Dimensions : \u001b[1m(\u001b[0m\u001b[1;36m1320\u001b[0m, \u001b[1;36m800\u001b[0m, \u001b[1;36m1140\u001b[0m\u001b[1m)\u001b[0m\n",
       "         Spacing    : \u001b[1m(\u001b[0m\u001b[1;36m10.0\u001b[0m, \u001b[1;36m10.0\u001b[0m, \u001b[1;36m10.0\u001b[0m\u001b[1m)\u001b[0m\n",
       "         Origin     : \u001b[1m(\u001b[0m\u001b[1;36m0.0\u001b[0m, \u001b[1;36m0.0\u001b[0m, \u001b[1;36m0.0\u001b[0m\u001b[1m)\u001b[0m\n",
       "         Direction  : \u001b[1m[\u001b[0m\u001b[1;36m1\u001b[0m. \u001b[1;36m0\u001b[0m. \u001b[1;36m0\u001b[0m. \u001b[1;36m0\u001b[0m. \u001b[1;36m1\u001b[0m. \u001b[1;36m0\u001b[0m. \u001b[1;36m0\u001b[0m. \u001b[1;36m0\u001b[0m. \u001b[1;36m1\u001b[0m.\u001b[1m]\u001b[0m\n",
       "\n"
      ]
     },
     "metadata": {},
     "output_type": "display_data"
    }
   ],
   "source": [
    "f = 'parcel3d_10um.nii.gz'\n",
    "f = pjoin(mice.cfg.parcel_dir, f)\n",
    "parcel3d = ants.image_read(filename=f, pixeltype='unsigned int')\n",
    "parcel3d"
   ]
  },
  {
   "cell_type": "code",
   "execution_count": 4,
   "id": "d2ba3476",
   "metadata": {},
   "outputs": [],
   "source": [
    "parcel3d = parcel3d.numpy()"
   ]
  },
  {
   "cell_type": "code",
   "execution_count": 5,
   "id": "df68e4ab",
   "metadata": {},
   "outputs": [
    {
     "data": {
      "image/png": "[encoded data removed]"
     },
     "metadata": {},
     "output_type": "display_data"
    }
   ],
   "source": [
    "fig, ax = create_figure(1, 1, (8, 6))\n",
    "\n",
    "x2plt = parcel3d[400]\n",
    "x2plt = np.ma.masked_where(x2plt == 0, x2plt)\n",
    "ax.imshow(x2plt, cmap='Spectral')\n",
    "plt.show()"
   ]
  },
  {
   "cell_type": "code",
   "execution_count": 6,
   "id": "909b4382",
   "metadata": {},
   "outputs": [
    {
     "data": {
      "text/html": [
       "<div>\n",
       "<style scoped>\n",
       "    .dataframe tbody tr th:only-of-type {\n",
       "        vertical-align: middle;\n",
       "    }\n",
       "\n",
       "    .dataframe tbody tr th {\n",
       "        vertical-align: top;\n",
       "    }\n",
       "\n",
       "    .dataframe thead th {\n",
       "        text-align: right;\n",
       "    }\n",
       "</style>\n",
       "<table border=\"1\" class=\"dataframe\">\n",
       "  <thead>\n",
       "    <tr style=\"text-align: right;\">\n",
       "      <th></th>\n",
       "      <th>description</th>\n",
       "      <th>id</th>\n",
       "      <th>name</th>\n",
       "    </tr>\n",
       "  </thead>\n",
       "  <tbody>\n",
       "    <tr>\n",
       "      <th>0</th>\n",
       "      <td>List of structures in Isocortex layer 5</td>\n",
       "      <td>667481446</td>\n",
       "      <td>Isocortex layer 5</td>\n",
       "    </tr>\n",
       "    <tr>\n",
       "      <th>1</th>\n",
       "      <td>List of structures in Isocortex layer 6b</td>\n",
       "      <td>667481450</td>\n",
       "      <td>Isocortex layer 6b</td>\n",
       "    </tr>\n",
       "    <tr>\n",
       "      <th>2</th>\n",
       "      <td>Summary structures of the cerebellum</td>\n",
       "      <td>688152368</td>\n",
       "      <td>Cerebellum</td>\n",
       "    </tr>\n",
       "    <tr>\n",
       "      <th>3</th>\n",
       "      <td>List of structures for ABA Differential Search</td>\n",
       "      <td>12</td>\n",
       "      <td>ABA - Differential Search</td>\n",
       "    </tr>\n",
       "    <tr>\n",
       "      <th>4</th>\n",
       "      <td>List of valid structures for projection target...</td>\n",
       "      <td>184527634</td>\n",
       "      <td>Mouse Connectivity - Target Search</td>\n",
       "    </tr>\n",
       "    <tr>\n",
       "      <th>5</th>\n",
       "      <td>Structures whose surfaces are represented by a...</td>\n",
       "      <td>691663206</td>\n",
       "      <td>Mouse Brain - Has Surface Mesh</td>\n",
       "    </tr>\n",
       "    <tr>\n",
       "      <th>6</th>\n",
       "      <td>Summary structures of the midbrain</td>\n",
       "      <td>688152365</td>\n",
       "      <td>Midbrain</td>\n",
       "    </tr>\n",
       "    <tr>\n",
       "      <th>7</th>\n",
       "      <td>Summary structures of the medulla</td>\n",
       "      <td>688152367</td>\n",
       "      <td>Medulla</td>\n",
       "    </tr>\n",
       "    <tr>\n",
       "      <th>8</th>\n",
       "      <td>Summary structures of the striatum</td>\n",
       "      <td>688152361</td>\n",
       "      <td>Striatum</td>\n",
       "    </tr>\n",
       "    <tr>\n",
       "      <th>9</th>\n",
       "      <td>Structures representing subdivisions of the mo...</td>\n",
       "      <td>687527945</td>\n",
       "      <td>Mouse Connectivity - Summary</td>\n",
       "    </tr>\n",
       "    <tr>\n",
       "      <th>10</th>\n",
       "      <td>Summary structures of the hippocampal formation</td>\n",
       "      <td>688152359</td>\n",
       "      <td>Hippocampal Formation</td>\n",
       "    </tr>\n",
       "    <tr>\n",
       "      <th>11</th>\n",
       "      <td>List of visual cortex structures targeted for ...</td>\n",
       "      <td>514166994</td>\n",
       "      <td>Allen Brain Observatory targeted structure set</td>\n",
       "    </tr>\n",
       "    <tr>\n",
       "      <th>12</th>\n",
       "      <td>Summary structures of the olfactory areas</td>\n",
       "      <td>688152358</td>\n",
       "      <td>Olfactory Areas</td>\n",
       "    </tr>\n",
       "    <tr>\n",
       "      <th>13</th>\n",
       "      <td>Curated list of non-overlapping substructures ...</td>\n",
       "      <td>167587189</td>\n",
       "      <td>Brain – Summary Structures</td>\n",
       "    </tr>\n",
       "    <tr>\n",
       "      <th>14</th>\n",
       "      <td>List of structures in Isocortex layer 4</td>\n",
       "      <td>667481445</td>\n",
       "      <td>Isocortex layer 4</td>\n",
       "    </tr>\n",
       "    <tr>\n",
       "      <th>15</th>\n",
       "      <td>Structures representing the major divisions of...</td>\n",
       "      <td>687527670</td>\n",
       "      <td>Brain - Major Divisions</td>\n",
       "    </tr>\n",
       "    <tr>\n",
       "      <th>16</th>\n",
       "      <td>Summary structures of the pallidum</td>\n",
       "      <td>688152362</td>\n",
       "      <td>Pallidum</td>\n",
       "    </tr>\n",
       "    <tr>\n",
       "      <th>17</th>\n",
       "      <td>List of Primary injection structures for BDA/A...</td>\n",
       "      <td>114512892</td>\n",
       "      <td>Mouse Connectivity - BDA/AAV Primary Injection...</td>\n",
       "    </tr>\n",
       "    <tr>\n",
       "      <th>18</th>\n",
       "      <td>List of primary AND secondary injection struct...</td>\n",
       "      <td>112905813</td>\n",
       "      <td>Mouse Connectivity - BDA/AAV All Injection Str...</td>\n",
       "    </tr>\n",
       "    <tr>\n",
       "      <th>19</th>\n",
       "      <td>List of structures for ABA Fine Structure Search</td>\n",
       "      <td>10</td>\n",
       "      <td>ABA - Fine Structure Search</td>\n",
       "    </tr>\n",
       "    <tr>\n",
       "      <th>20</th>\n",
       "      <td>List of primary AND secondary injection struct...</td>\n",
       "      <td>112905828</td>\n",
       "      <td>Mouse Connectivity - Projection All Injection ...</td>\n",
       "    </tr>\n",
       "    <tr>\n",
       "      <th>21</th>\n",
       "      <td>List of structures in Isocortex layer 6a</td>\n",
       "      <td>667481449</td>\n",
       "      <td>Isocortex layer 6a</td>\n",
       "    </tr>\n",
       "    <tr>\n",
       "      <th>22</th>\n",
       "      <td>List of structures representing a areal level ...</td>\n",
       "      <td>3</td>\n",
       "      <td>Mouse - Areas</td>\n",
       "    </tr>\n",
       "    <tr>\n",
       "      <th>23</th>\n",
       "      <td>List of structures in Isocortex layer 1</td>\n",
       "      <td>667481440</td>\n",
       "      <td>Isocortex layer 1</td>\n",
       "    </tr>\n",
       "    <tr>\n",
       "      <th>24</th>\n",
       "      <td>Summary structures of the hypothalamus</td>\n",
       "      <td>688152364</td>\n",
       "      <td>Hypothalamus</td>\n",
       "    </tr>\n",
       "    <tr>\n",
       "      <th>25</th>\n",
       "      <td>List of structures in Isocortex layer 2/3</td>\n",
       "      <td>667481441</td>\n",
       "      <td>Isocortex layer 2/3</td>\n",
       "    </tr>\n",
       "    <tr>\n",
       "      <th>26</th>\n",
       "      <td>All mouse visual areas with layers</td>\n",
       "      <td>396673091</td>\n",
       "      <td>Mouse Cell Types - Structures</td>\n",
       "    </tr>\n",
       "    <tr>\n",
       "      <th>27</th>\n",
       "      <td>Summary structures of the cortical subplate</td>\n",
       "      <td>688152360</td>\n",
       "      <td>Cortical Subplate</td>\n",
       "    </tr>\n",
       "    <tr>\n",
       "      <th>28</th>\n",
       "      <td>Summary structures of the thalamus</td>\n",
       "      <td>688152363</td>\n",
       "      <td>Thalamus</td>\n",
       "    </tr>\n",
       "    <tr>\n",
       "      <th>29</th>\n",
       "      <td>List of structures representing a coarse level...</td>\n",
       "      <td>2</td>\n",
       "      <td>Mouse - Coarse</td>\n",
       "    </tr>\n",
       "    <tr>\n",
       "      <th>30</th>\n",
       "      <td>Summary structures of the isocortex</td>\n",
       "      <td>688152357</td>\n",
       "      <td>Isocortex</td>\n",
       "    </tr>\n",
       "    <tr>\n",
       "      <th>31</th>\n",
       "      <td>List of Primary injection structures for Proje...</td>\n",
       "      <td>114512891</td>\n",
       "      <td>Mouse Connectivity - Projection Primary Inject...</td>\n",
       "    </tr>\n",
       "    <tr>\n",
       "      <th>32</th>\n",
       "      <td>Summary structures of the pons</td>\n",
       "      <td>688152366</td>\n",
       "      <td>Pons</td>\n",
       "    </tr>\n",
       "  </tbody>\n",
       "</table>\n",
       "</div>"
      ]
     },
     "execution_count": 6,
     "metadata": {},
     "output_type": "execute_result"
    }
   ],
   "source": [
    "expts, onto_info = mice.al.load_info_dfs()\n",
    "onto_info"
   ]
  },
  {
   "cell_type": "code",
   "execution_count": null,
   "id": "26890068",
   "metadata": {},
   "outputs": [],
   "source": []
  },
  {
   "cell_type": "code",
   "execution_count": 7,
   "id": "a339265f",
   "metadata": {},
   "outputs": [
    {
     "data": {
      "text/html": [
       "<pre style=\"white-space:pre;overflow-x:auto;line-height:normal;font-family:Menlo,'DejaVu Sans Mono',consolas,'Courier New',monospace\"><span style=\"font-weight: bold\">[</span>\n",
       "    <span style=\"color: #008000; text-decoration-color: #008000\">'FRP1'</span>,\n",
       "    <span style=\"color: #008000; text-decoration-color: #008000\">'MOp1'</span>,\n",
       "    <span style=\"color: #008000; text-decoration-color: #008000\">'MOs1'</span>,\n",
       "    <span style=\"color: #008000; text-decoration-color: #008000\">'SSp-n1'</span>,\n",
       "    <span style=\"color: #008000; text-decoration-color: #008000\">'SSp-bfd1'</span>,\n",
       "    <span style=\"color: #008000; text-decoration-color: #008000\">'SSp-ll1'</span>,\n",
       "    <span style=\"color: #008000; text-decoration-color: #008000\">'SSp-m1'</span>,\n",
       "    <span style=\"color: #008000; text-decoration-color: #008000\">'SSp-ul1'</span>,\n",
       "    <span style=\"color: #008000; text-decoration-color: #008000\">'SSp-tr1'</span>,\n",
       "    <span style=\"color: #008000; text-decoration-color: #008000\">'SSp-un1'</span>,\n",
       "    <span style=\"color: #008000; text-decoration-color: #008000\">'SSs1'</span>,\n",
       "    <span style=\"color: #008000; text-decoration-color: #008000\">'GU1'</span>,\n",
       "    <span style=\"color: #008000; text-decoration-color: #008000\">'VISC1'</span>,\n",
       "    <span style=\"color: #008000; text-decoration-color: #008000\">'AUDd1'</span>,\n",
       "    <span style=\"color: #008000; text-decoration-color: #008000\">'AUDp1'</span>,\n",
       "    <span style=\"color: #008000; text-decoration-color: #008000\">'AUDpo1'</span>,\n",
       "    <span style=\"color: #008000; text-decoration-color: #008000\">'AUDv1'</span>,\n",
       "    <span style=\"color: #008000; text-decoration-color: #008000\">'VISal1'</span>,\n",
       "    <span style=\"color: #008000; text-decoration-color: #008000\">'VISam1'</span>,\n",
       "    <span style=\"color: #008000; text-decoration-color: #008000\">'VISl1'</span>,\n",
       "    <span style=\"color: #008000; text-decoration-color: #008000\">'VISp1'</span>,\n",
       "    <span style=\"color: #008000; text-decoration-color: #008000\">'VISpl1'</span>,\n",
       "    <span style=\"color: #008000; text-decoration-color: #008000\">'VISpm1'</span>,\n",
       "    <span style=\"color: #008000; text-decoration-color: #008000\">'VISli1'</span>,\n",
       "    <span style=\"color: #008000; text-decoration-color: #008000\">'VISpor1'</span>,\n",
       "    <span style=\"color: #008000; text-decoration-color: #008000\">'ACAd1'</span>,\n",
       "    <span style=\"color: #008000; text-decoration-color: #008000\">'ACAv1'</span>,\n",
       "    <span style=\"color: #008000; text-decoration-color: #008000\">'PL1'</span>,\n",
       "    <span style=\"color: #008000; text-decoration-color: #008000\">'ILA1'</span>,\n",
       "    <span style=\"color: #008000; text-decoration-color: #008000\">'ORBl1'</span>,\n",
       "    <span style=\"color: #008000; text-decoration-color: #008000\">'ORBm1'</span>,\n",
       "    <span style=\"color: #008000; text-decoration-color: #008000\">'ORBvl1'</span>,\n",
       "    <span style=\"color: #008000; text-decoration-color: #008000\">'AId1'</span>,\n",
       "    <span style=\"color: #008000; text-decoration-color: #008000\">'AIp1'</span>,\n",
       "    <span style=\"color: #008000; text-decoration-color: #008000\">'AIv1'</span>,\n",
       "    <span style=\"color: #008000; text-decoration-color: #008000\">'RSPagl1'</span>,\n",
       "    <span style=\"color: #008000; text-decoration-color: #008000\">'RSPd1'</span>,\n",
       "    <span style=\"color: #008000; text-decoration-color: #008000\">'RSPv1'</span>,\n",
       "    <span style=\"color: #008000; text-decoration-color: #008000\">'VISa1'</span>,\n",
       "    <span style=\"color: #008000; text-decoration-color: #008000\">'VISrl1'</span>,\n",
       "    <span style=\"color: #008000; text-decoration-color: #008000\">'TEa1'</span>,\n",
       "    <span style=\"color: #008000; text-decoration-color: #008000\">'PERI1'</span>,\n",
       "    <span style=\"color: #008000; text-decoration-color: #008000\">'ECT1'</span>\n",
       "<span style=\"font-weight: bold\">]</span>\n",
       "</pre>\n"
      ],
      "text/plain": [
       "\u001b[1m[\u001b[0m\n",
       "    \u001b[32m'FRP1'\u001b[0m,\n",
       "    \u001b[32m'MOp1'\u001b[0m,\n",
       "    \u001b[32m'MOs1'\u001b[0m,\n",
       "    \u001b[32m'SSp-n1'\u001b[0m,\n",
       "    \u001b[32m'SSp-bfd1'\u001b[0m,\n",
       "    \u001b[32m'SSp-ll1'\u001b[0m,\n",
       "    \u001b[32m'SSp-m1'\u001b[0m,\n",
       "    \u001b[32m'SSp-ul1'\u001b[0m,\n",
       "    \u001b[32m'SSp-tr1'\u001b[0m,\n",
       "    \u001b[32m'SSp-un1'\u001b[0m,\n",
       "    \u001b[32m'SSs1'\u001b[0m,\n",
       "    \u001b[32m'GU1'\u001b[0m,\n",
       "    \u001b[32m'VISC1'\u001b[0m,\n",
       "    \u001b[32m'AUDd1'\u001b[0m,\n",
       "    \u001b[32m'AUDp1'\u001b[0m,\n",
       "    \u001b[32m'AUDpo1'\u001b[0m,\n",
       "    \u001b[32m'AUDv1'\u001b[0m,\n",
       "    \u001b[32m'VISal1'\u001b[0m,\n",
       "    \u001b[32m'VISam1'\u001b[0m,\n",
       "    \u001b[32m'VISl1'\u001b[0m,\n",
       "    \u001b[32m'VISp1'\u001b[0m,\n",
       "    \u001b[32m'VISpl1'\u001b[0m,\n",
       "    \u001b[32m'VISpm1'\u001b[0m,\n",
       "    \u001b[32m'VISli1'\u001b[0m,\n",
       "    \u001b[32m'VISpor1'\u001b[0m,\n",
       "    \u001b[32m'ACAd1'\u001b[0m,\n",
       "    \u001b[32m'ACAv1'\u001b[0m,\n",
       "    \u001b[32m'PL1'\u001b[0m,\n",
       "    \u001b[32m'ILA1'\u001b[0m,\n",
       "    \u001b[32m'ORBl1'\u001b[0m,\n",
       "    \u001b[32m'ORBm1'\u001b[0m,\n",
       "    \u001b[32m'ORBvl1'\u001b[0m,\n",
       "    \u001b[32m'AId1'\u001b[0m,\n",
       "    \u001b[32m'AIp1'\u001b[0m,\n",
       "    \u001b[32m'AIv1'\u001b[0m,\n",
       "    \u001b[32m'RSPagl1'\u001b[0m,\n",
       "    \u001b[32m'RSPd1'\u001b[0m,\n",
       "    \u001b[32m'RSPv1'\u001b[0m,\n",
       "    \u001b[32m'VISa1'\u001b[0m,\n",
       "    \u001b[32m'VISrl1'\u001b[0m,\n",
       "    \u001b[32m'TEa1'\u001b[0m,\n",
       "    \u001b[32m'PERI1'\u001b[0m,\n",
       "    \u001b[32m'ECT1'\u001b[0m\n",
       "\u001b[1m]\u001b[0m\n"
      ]
     },
     "metadata": {},
     "output_type": "display_data"
    }
   ],
   "source": [
    "layer1_set_id = 667481440\n",
    "layer1_mask = mice.al.s_tree.get_structures_by_set_id([layer1_set_id])\n",
    "layer1_mask = [e['acronym'] for e in layer1_mask]\n",
    "layer1_mask"
   ]
  },
  {
   "cell_type": "code",
   "execution_count": null,
   "id": "2f1572c9",
   "metadata": {},
   "outputs": [],
   "source": [
    "layer1_mask = mice.al.get_masks(layer1_mask, as_objectmap=True)\n",
    "layer1_mask.shape"
   ]
  },
  {
   "cell_type": "code",
   "execution_count": null,
   "id": "b62a34ab",
   "metadata": {},
   "outputs": [],
   "source": [
    "plt.imshow(layer1_mask[400])"
   ]
  },
  {
   "cell_type": "code",
   "execution_count": null,
   "id": "9a1d2f64",
   "metadata": {},
   "outputs": [],
   "source": []
  },
  {
   "cell_type": "code",
   "execution_count": null,
   "id": "8678b640",
   "metadata": {},
   "outputs": [],
   "source": []
  },
  {
   "cell_type": "code",
   "execution_count": null,
   "id": "c17e452a",
   "metadata": {},
   "outputs": [],
   "source": []
  }
 ],
 "metadata": {
  "kernelspec": {
   "display_name": "Python 3",
   "language": "python",
   "name": "python3"
  },
  "language_info": {
   "codemirror_mode": {
    "name": "ipython",
    "version": 3
   },
   "file_extension": ".py",
   "mimetype": "text/x-python",
   "name": "python",
   "nbconvert_exporter": "python",
   "pygments_lexer": "ipython3",
   "version": "3.8.3"
  }
 },
 "nbformat": 4,
 "nbformat_minor": 5
}
