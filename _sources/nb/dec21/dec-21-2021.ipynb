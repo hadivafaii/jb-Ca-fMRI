{
 "cells": [
  {
   "cell_type": "markdown",
   "id": "1627c65c",
   "metadata": {},
   "source": [
    "# Dec 21st, 2021 (ROI layers: concept)\n",
    "\n",
    "**Motivation**: Columns are defined by applying k-means on dorsal flatmap. The question is, how to define layers for each column? <br>"
   ]
  },
  {
   "cell_type": "markdown",
   "id": "133ebd8b",
   "metadata": {},
   "source": [
    "## Origin of Ca$^{2+}$ signal\n",
    "\n",
    "Where does the mesoscopic Ca$^{2+}$ signal come from?  What are the main contributors to its variance? Addressing these questions is useful for a well-informed ROI definition. More broadly, and perhaps more importantly, having a better understanding of this is cruicial for correct interpration of results. I did a literature review and here is what I found.  I will summarize the most important things I learned from these papers and also put a link for future reference.  Next, I will use these information to propose a particular way of defining layers for each colum.  Finally, I will speculate a little bit about what to expect from results and how to interpret them."
   ]
  },
  {
   "cell_type": "markdown",
   "id": "161b0016",
   "metadata": {},
   "source": [
    "### 1) [Optogenetics in Neural Systems, Yizhar et al. 2011](https://www.cell.com/neuron/fulltext/S0896-6273(11)00504-6)\n",
    "\n",
    "This is a review paper discussing oppurtunities and challenges in Optogenetics from pioneers in the field.  In figure 3, they show that calcium signals most likely come from shallow layers.  I have copied a screen shot of the figure here for convenience:\n",
    "\n",
    "![null](../../_extras/fig_sketches/Yizhar11-Fig3.png \"Fig 3 from Yizhar et Al. 2011\")\n",
    "\n",
    "Observations:\n",
    "1. From subplots C and E we see that already at a depth of ~0.4mm light power density drops to less than 10% of the initial value.\n",
    "2. This corresponds roughly to the thickness of layers 1, 2/3, and 4 combined in mouse cortex (note: in this figure rat brain was used which is twice as large).  Therefore, we can safely assume that almost all the variance in calcium fluoroscence is coming from these superficial layers."
   ]
  },
  {
   "cell_type": "markdown",
   "id": "8abdab04",
   "metadata": {},
   "source": [
    "### 2) [Simultaneous mesoscopic + 2ph, Barson et al. 2020](https://www.nature.com/articles/s41592-019-0625-2)\n",
    "\n",
    "This is the other multimodal dataset from Yale. I've copied some relevant parts below (**bold** by me):\n",
    "\n",
    "> We found that the mesoscopic signal was correlated with activity in layer 2/3 neuropil and the **summed** activity of all cell bodies in the two-photon field-of-view.\n",
    "\n",
    "> In contrast, the activity of **individual** cell bodies was **poorly** correlated with the mesoscopic signal.\n",
    "\n",
    "> These data suggest that the mesoscopic activity reflects substantial fluorescence from the neuropil, including dendritic and axonal processes of cell bodies not in the field of view."
   ]
  },
  {
   "cell_type": "markdown",
   "id": "33ae94c9",
   "metadata": {},
   "source": [
    "### 3) [Wide-Field Calcium Imaging (review), Ren and Komiyama 2021](https://www.jneurosci.org/content/41/19/4160)\n",
    "\n",
    "This is a review that highlights recent results using calcium imaging.  They say similar things about origin of the signal:\n",
    "\n",
    "> Wide-field calcium signals are likely dominated by activity from superficial cortical layers because of the strong scattering of **both excitation** and **emission** light in brain tissue.\n",
    "\n",
    "> In one-photon excitation, the intensity of excitation light (~480 nm) of GCaMP already drops to ~10% at a depth of 200 mm, suggesting that most signals come from cortical layer 1 and layer 2/3.\n",
    "\n",
    "> The signal in each pixel is an integration of both somatic and neuropil activity.  The latter mainly consists of activity from the dense neuropils in layer 1, including **dendrites from local neurons** whose **somata** reside in **layers 2/3 and 5**, as well as axons innervating these layer 1 dendrites."
   ]
  },
  {
   "cell_type": "markdown",
   "id": "c279dfec",
   "metadata": {},
   "source": [
    "### 4) [Simultaneous Cortex (Ca$^{2+}$) + Striatum (Neuropixel) measurement, Peters et al. 2021](https://www.nature.com/articles/s41586-020-03166-8)\n",
    "\n",
    "This paper also confirms what others have said before, but has some more interesting information/evidence.  This is part of extended data fig. 4 in the paper:\n",
    "\n",
    "![null](../../_extras/fig_sketches/Peters21-SuppFig4.png \"Supp fig 4 from Peters et al. 2021\")\n",
    "\n",
    "The heatmap on the left shows current source density (CSD) from average stimulus responses aligned and averaged across sessions, used to identify superficial and deep cortical layers.  CSD was computed as the second spatial derivative of the stimulus-triggered average local field potential signal.\n",
    "\n",
    "Observations:\n",
    "\n",
    "1. This shows the response of visual cortex to sparse noise stimuli, therefore red areas correspond to layers 2/3 and 4.\n",
    "2. On the right, they show the correlation between **deconvolved fluorescence** signal and **simultaneously recorded spikes**.  Green: cortical spikes (from a neuropixel inserted in visual cortex), and Black: dorsomedial striatum.\n",
    "3. Interestingly, the deconvolved Ca$^{2+}$ signal is maximally correlated with spiking activity of cortical neurons in depth $\\sim600-700\\mu m$, which corresponds to **layer 5** in mouse visual cortex."
   ]
  },
  {
   "cell_type": "markdown",
   "id": "cd8bb23f",
   "metadata": {},
   "source": [
    "### 5) [Correlated Somato-dendritic Activity in Cortical Layer 5 Neurons, Beaulieu-Laroche et al. 2019](https://www.sciencedirect.com/science/article/pii/S0896627319304398)\n",
    "\n",
    "From the previous paper, we saw that deconvolved wide-field fluorescence signal was most correlated with somatic activity of layer 5 neurons.  This suggests that soma and dendrites should be highly correlated themselves for layer 5 neurons.  This is indeed the case:\n",
    "\n",
    "![null](../../_extras/fig_sketches/BeaulieuLaroche19-GraphAbs.png \"Graphical abstract from Beaulieu-Laroche et al. 2019\")\n",
    "\n"
   ]
  },
  {
   "cell_type": "markdown",
   "id": "42769595",
   "metadata": {},
   "source": [
    "### 6) [Optical brain-computer interface using dendritic calcium signals, Trautmann et al. 2021](https://www.nature.com/articles/s41467-021-23884-5)\n",
    "\n",
    "In fact, this soma-dendrite correlation in layer 5 neurons is so reliable that people have used it as a feature to build optical brain-computer interfaces:\n",
    "\n",
    "![null](../../_extras/fig_sketches/Trautmann21-Fig1-notext.png \"Figure 1 from Trautmann et al. 2021\")"
   ]
  },
  {
   "cell_type": "markdown",
   "id": "cf31330f",
   "metadata": {},
   "source": [
    "## Defining ROIs that make sense\n",
    "\n",
    "So far I've gathered evidence that:\n",
    "\n",
    "- Calcium signal is coming from neruopil in superficial layers\n",
    "- Cell bodies from layers 2/3 and 5 contribute to this neuropil\n",
    "- High and reliable correlation between somatic and dendritic activity of layer 5 neurons\n",
    "\n",
    "Therefore, comparing Ca$^{2+}$ and BOLD results should not be limited only to the surface ROIs that appear in the optical space after transformation.  Based on what is known about the origin of these signals, I propose the following approach to ROI definition:\n",
    "\n",
    "![null](../../_extras/fig_sketches/Columnar.png \"Columnar ROI definition\")\n",
    "\n",
    "Key points:\n",
    "\n",
    "1. We parcellate the cortical surface into spatially homogenous and roughly equal-sized ROIs.\n",
    "2. In the depth dimension, we follow paths (or streamlines) normal to each plane.  This will roughly correspond to the way cortical columns are organized.\n",
    "3. For each column, we combine layers 1, 2/3, and 4 into a single ROI (call it superficial layer). Layer 5 is its own ROI (call it intermediate layer), and layers 6a and b become another layer (call it deep layer).  Therefore, each column contributes with 3 ROIs.\n",
    "\n",
    "(*Previously, I was dividing each column into several chunks with equal thickness, but this new approach makes much more sense.*)\n",
    "\n",
    "### What we gain from this\n",
    "Such ROIs will allows us to compare superficial, intermediate, and deep layers in BOLD to the superficial only Ca$^{2+}$.  I anticipate to find the following:\n",
    "\n",
    "- For **superficial** and **intermediate** layers: similar correspondence between BOLD and Ca$^{2+}$.\n",
    "- For the **deep** layer: slightly reduced similarity.\n",
    "\n",
    "One challenge here is that there will be some amount of mixing between signals coming from ROIs at the bounadries.  With an ppropriate number of columns this problem can be remedied, but we can't completely get rid of this.  Unless we build a next level parcellation algorithm that somehow uses curvature of cortex in the initial parcellation of the dorsal flatmap.  I think this isn't too much of a problem to be worth the time.\n",
    "\n",
    "The key argument here is that the neruopil signal has contributions coming from deep layer 5 neurons. It is therefore crucial to keep track of things in a columnar way.  For instance, defining ROIs by going along the superior-inferior dimension might sound more intuitive at first, but it's not ideal since we lose track of the columns in that case:\n",
    "\n",
    "![null](../../_extras/fig_sketches/Normal.png \"Columnar ROI definition\")"
   ]
  },
  {
   "cell_type": "markdown",
   "id": "c62e00ab",
   "metadata": {},
   "source": [
    "## Interpreting results\n",
    "\n",
    "Flouroscence activity recorded in wide-field Ca$^{2+}$ experiments is representative of what's going on in the respective columns.  But to what extent?  We know that the variance in this signal is dominated by neuropil activity in layer 1 to a large extent, and layer 2/3 to some extent.  Neuropil activity, on the other hand, contains information about somatic activity in layer 5.  What about layer 6?  These are questions that we might be able to contribute to.  Although, what we find will need to be later validated by asking this question directly at the time series level (i.e. predict dynamics of one modality using the other), but this is still a good start.  We can ask simple questions such as do we find similar large-scale organization for the entire column?  What differences/similarities do we observe in the two modalities when we compare different layers?  What about averaging all layers then comparing to Ca$^{2+}$? Does that increase/decrease correspondence? Why?\n",
    "\n",
    "Anyway, given the evidence I've presented here, I am convincend that this way of defining ROIs is both conceptually sound and practical."
   ]
  },
  {
   "cell_type": "code",
   "execution_count": null,
   "id": "04af5900",
   "metadata": {},
   "outputs": [],
   "source": []
  },
  {
   "cell_type": "code",
   "execution_count": null,
   "id": "13bd1361",
   "metadata": {},
   "outputs": [],
   "source": []
  }
 ],
 "metadata": {
  "kernelspec": {
   "display_name": "Python 3",
   "language": "python",
   "name": "python3"
  },
  "language_info": {
   "codemirror_mode": {
    "name": "ipython",
    "version": 3
   },
   "file_extension": ".py",
   "mimetype": "text/x-python",
   "name": "python",
   "nbconvert_exporter": "python",
   "pygments_lexer": "ipython3",
   "version": "3.8.3"
  }
 },
 "nbformat": 4,
 "nbformat_minor": 5
}
