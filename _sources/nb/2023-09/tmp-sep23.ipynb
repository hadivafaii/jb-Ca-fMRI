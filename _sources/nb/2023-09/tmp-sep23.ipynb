{
 "cells": [
  {
   "cell_type": "markdown",
   "id": "17d50fc5",
   "metadata": {},
   "source": [
    "# tmp -- September 2023\n",
    "\n",
    "**Motivation**: Scratch notebook used for debugging or other quick things. <br>"
   ]
  },
  {
   "cell_type": "code",
   "execution_count": 1,
   "id": "89db5e7c",
   "metadata": {},
   "outputs": [],
   "source": [
    "# HIDE CODE\n",
    "\n",
    "\n",
    "import os, sys\n",
    "from IPython.display import display, Latex\n",
    "\n",
    "# tmp & extras dir\n",
    "git_dir = os.path.join(os.environ['HOME'], 'Dropbox/git')\n",
    "extras_dir = os.path.join(git_dir, 'jb-Ca-fMRI/_extras')\n",
    "fig_base_dir = os.path.join(git_dir, 'jb-Ca-fMRI/figs')\n",
    "tmp_dir = os.path.join(git_dir, 'jb-Ca-fMRI/tmp')\n",
    "\n",
    "# GitHub\n",
    "sys.path.insert(0, os.path.join(git_dir, '_Ca-fMRI'))\n",
    "from figures.fighelper import *\n",
    "from analysis.final import *\n",
    "from utils.render import *\n",
    "\n",
    "# warnings, tqdm, & style\n",
    "warnings.filterwarnings('ignore', category=DeprecationWarning)\n",
    "from tqdm.notebook import tqdm\n",
    "%matplotlib inline\n",
    "set_style()"
   ]
  },
  {
   "cell_type": "markdown",
   "id": "21ce13d2",
   "metadata": {},
   "source": [
    "## Prep"
   ]
  },
  {
   "cell_type": "code",
   "execution_count": 2,
   "id": "29e8429b",
   "metadata": {
    "scrolled": true
   },
   "outputs": [
    {
     "data": {
      "text/html": [
       "<pre style=\"white-space:pre;overflow-x:auto;line-height:normal;font-family:Menlo,'DejaVu Sans Mono',consolas,'Courier New',monospace\"><span style=\"font-weight: bold\">{</span>\n",
       "    <span style=\"color: #008000; text-decoration-color: #008000\">'task'</span>: <span style=\"color: #008000; text-decoration-color: #008000\">'rest'</span>,\n",
       "    <span style=\"color: #008000; text-decoration-color: #008000\">'exclude'</span>: <span style=\"color: #00ff00; text-decoration-color: #00ff00; font-style: italic\">True</span>,\n",
       "    <span style=\"color: #008000; text-decoration-color: #008000\">'runs_only'</span>: <span style=\"color: #00ff00; text-decoration-color: #00ff00; font-style: italic\">True</span>,\n",
       "    <span style=\"color: #008000; text-decoration-color: #008000\">'band_ca2'</span>: <span style=\"font-weight: bold\">(</span><span style=\"color: #008080; text-decoration-color: #008080; font-weight: bold\">0.01</span>, <span style=\"color: #008080; text-decoration-color: #008080; font-weight: bold\">5.0</span><span style=\"font-weight: bold\">)</span>,\n",
       "    <span style=\"color: #008000; text-decoration-color: #008000\">'band_bold'</span>: <span style=\"font-weight: bold\">(</span><span style=\"color: #008080; text-decoration-color: #008080; font-weight: bold\">0.01</span>, <span style=\"color: #008080; text-decoration-color: #008080; font-weight: bold\">0.5</span><span style=\"font-weight: bold\">)</span>,\n",
       "    <span style=\"color: #008000; text-decoration-color: #008000\">'desc_ca2'</span>: <span style=\"color: #008000; text-decoration-color: #008000\">'preproc'</span>,\n",
       "    <span style=\"color: #008000; text-decoration-color: #008000\">'desc_bold'</span>: <span style=\"color: #008000; text-decoration-color: #008000\">'rabies-hp'</span>\n",
       "<span style=\"font-weight: bold\">}</span>\n",
       "</pre>\n"
      ],
      "text/plain": [
       "\u001b[1m{\u001b[0m\n",
       "    \u001b[32m'task'\u001b[0m: \u001b[32m'rest'\u001b[0m,\n",
       "    \u001b[32m'exclude'\u001b[0m: \u001b[3;92mTrue\u001b[0m,\n",
       "    \u001b[32m'runs_only'\u001b[0m: \u001b[3;92mTrue\u001b[0m,\n",
       "    \u001b[32m'band_ca2'\u001b[0m: \u001b[1m(\u001b[0m\u001b[1;36m0.01\u001b[0m, \u001b[1;36m5.0\u001b[0m\u001b[1m)\u001b[0m,\n",
       "    \u001b[32m'band_bold'\u001b[0m: \u001b[1m(\u001b[0m\u001b[1;36m0.01\u001b[0m, \u001b[1;36m0.5\u001b[0m\u001b[1m)\u001b[0m,\n",
       "    \u001b[32m'desc_ca2'\u001b[0m: \u001b[32m'preproc'\u001b[0m,\n",
       "    \u001b[32m'desc_bold'\u001b[0m: \u001b[32m'rabies-hp'\u001b[0m\n",
       "\u001b[1m}\u001b[0m\n"
      ]
     },
     "metadata": {},
     "output_type": "display_data"
    }
   ],
   "source": [
    "mice = Mice(512)\n",
    "mice.setup_func_data()\n",
    "bs = Base(mice, mode='ca2')\n",
    "\n",
    "print(mice.kws)"
   ]
  },
  {
   "cell_type": "code",
   "execution_count": null,
   "id": "9ddb3266",
   "metadata": {},
   "outputs": [],
   "source": []
  },
  {
   "cell_type": "code",
   "execution_count": 3,
   "id": "11764096",
   "metadata": {},
   "outputs": [
    {
     "data": {
      "text/html": [
       "<pre style=\"white-space:pre;overflow-x:auto;line-height:normal;font-family:Menlo,'DejaVu Sans Mono',consolas,'Courier New',monospace\"><span style=\"color: #008080; text-decoration-color: #008080; font-weight: bold\">6017</span>\n",
       "</pre>\n"
      ],
      "text/plain": [
       "\u001b[1;36m6017\u001b[0m\n"
      ]
     },
     "metadata": {},
     "output_type": "display_data"
    }
   ],
   "source": [
    "len(mice.node_lookup['bold'])"
   ]
  },
  {
   "cell_type": "code",
   "execution_count": 4,
   "id": "a04befe0",
   "metadata": {},
   "outputs": [],
   "source": [
    "fname = pjoin(tmp_dir, 'CafMRI-Selected', 'roi_info.csv')\n",
    "mice.parcel.df.to_csv(fname, sep='\\t')"
   ]
  },
  {
   "cell_type": "code",
   "execution_count": null,
   "id": "206e67ac",
   "metadata": {},
   "outputs": [],
   "source": []
  },
  {
   "cell_type": "markdown",
   "id": "723d412e",
   "metadata": {},
   "source": [
    "## Number of NaN ROIs"
   ]
  },
  {
   "cell_type": "code",
   "execution_count": 21,
   "id": "d7d6da05",
   "metadata": {
    "scrolled": true
   },
   "outputs": [
    {
     "data": {
      "text/html": [
       "<pre style=\"white-space:pre;overflow-x:auto;line-height:normal;font-family:Menlo,'DejaVu Sans Mono',consolas,'Courier New',monospace\">sub-SLC01_ses-1_run-<span style=\"color: #008080; text-decoration-color: #008080; font-weight: bold\">1</span>, present <span style=\"font-weight: bold\">(</span>not nan ROIs<span style=\"font-weight: bold\">)</span> = <span style=\"color: #008080; text-decoration-color: #008080; font-weight: bold\">5814</span> <span style=\"font-weight: bold\">(</span><span style=\"color: #008080; text-decoration-color: #008080; font-weight: bold\">96.6</span> %<span style=\"font-weight: bold\">)</span>\n",
       "</pre>\n"
      ],
      "text/plain": [
       "sub-SLC01_ses-1_run-\u001b[1;36m1\u001b[0m, present \u001b[1m(\u001b[0mnot nan ROIs\u001b[1m)\u001b[0m = \u001b[1;36m5814\u001b[0m \u001b[1m(\u001b[0m\u001b[1;36m96.6\u001b[0m %\u001b[1m)\u001b[0m\n"
      ]
     },
     "metadata": {},
     "output_type": "display_data"
    },
    {
     "data": {
      "text/html": [
       "<pre style=\"white-space:pre;overflow-x:auto;line-height:normal;font-family:Menlo,'DejaVu Sans Mono',consolas,'Courier New',monospace\">sub-SLC01_ses-1_run-<span style=\"color: #008080; text-decoration-color: #008080; font-weight: bold\">3</span>, present <span style=\"font-weight: bold\">(</span>not nan ROIs<span style=\"font-weight: bold\">)</span> = <span style=\"color: #008080; text-decoration-color: #008080; font-weight: bold\">5799</span> <span style=\"font-weight: bold\">(</span><span style=\"color: #008080; text-decoration-color: #008080; font-weight: bold\">96.4</span> %<span style=\"font-weight: bold\">)</span>\n",
       "</pre>\n"
      ],
      "text/plain": [
       "sub-SLC01_ses-1_run-\u001b[1;36m3\u001b[0m, present \u001b[1m(\u001b[0mnot nan ROIs\u001b[1m)\u001b[0m = \u001b[1;36m5799\u001b[0m \u001b[1m(\u001b[0m\u001b[1;36m96.4\u001b[0m %\u001b[1m)\u001b[0m\n"
      ]
     },
     "metadata": {},
     "output_type": "display_data"
    },
    {
     "data": {
      "text/html": [
       "<pre style=\"white-space:pre;overflow-x:auto;line-height:normal;font-family:Menlo,'DejaVu Sans Mono',consolas,'Courier New',monospace\">sub-SLC01_ses-1_run-<span style=\"color: #008080; text-decoration-color: #008080; font-weight: bold\">5</span>, present <span style=\"font-weight: bold\">(</span>not nan ROIs<span style=\"font-weight: bold\">)</span> = <span style=\"color: #008080; text-decoration-color: #008080; font-weight: bold\">5799</span> <span style=\"font-weight: bold\">(</span><span style=\"color: #008080; text-decoration-color: #008080; font-weight: bold\">96.4</span> %<span style=\"font-weight: bold\">)</span>\n",
       "</pre>\n"
      ],
      "text/plain": [
       "sub-SLC01_ses-1_run-\u001b[1;36m5\u001b[0m, present \u001b[1m(\u001b[0mnot nan ROIs\u001b[1m)\u001b[0m = \u001b[1;36m5799\u001b[0m \u001b[1m(\u001b[0m\u001b[1;36m96.4\u001b[0m %\u001b[1m)\u001b[0m\n"
      ]
     },
     "metadata": {},
     "output_type": "display_data"
    },
    {
     "data": {
      "text/html": [
       "<pre style=\"white-space:pre;overflow-x:auto;line-height:normal;font-family:Menlo,'DejaVu Sans Mono',consolas,'Courier New',monospace\">sub-SLC01_ses-1_run-<span style=\"color: #008080; text-decoration-color: #008080; font-weight: bold\">7</span>, present <span style=\"font-weight: bold\">(</span>not nan ROIs<span style=\"font-weight: bold\">)</span> = <span style=\"color: #008080; text-decoration-color: #008080; font-weight: bold\">5807</span> <span style=\"font-weight: bold\">(</span><span style=\"color: #008080; text-decoration-color: #008080; font-weight: bold\">96.5</span> %<span style=\"font-weight: bold\">)</span>\n",
       "</pre>\n"
      ],
      "text/plain": [
       "sub-SLC01_ses-1_run-\u001b[1;36m7\u001b[0m, present \u001b[1m(\u001b[0mnot nan ROIs\u001b[1m)\u001b[0m = \u001b[1;36m5807\u001b[0m \u001b[1m(\u001b[0m\u001b[1;36m96.5\u001b[0m %\u001b[1m)\u001b[0m\n"
      ]
     },
     "metadata": {},
     "output_type": "display_data"
    },
    {
     "data": {
      "text/html": [
       "<pre style=\"white-space:pre;overflow-x:auto;line-height:normal;font-family:Menlo,'DejaVu Sans Mono',consolas,'Courier New',monospace\">sub-SLC01_ses-2_run-<span style=\"color: #008080; text-decoration-color: #008080; font-weight: bold\">1</span>, present <span style=\"font-weight: bold\">(</span>not nan ROIs<span style=\"font-weight: bold\">)</span> = <span style=\"color: #008080; text-decoration-color: #008080; font-weight: bold\">5865</span> <span style=\"font-weight: bold\">(</span><span style=\"color: #008080; text-decoration-color: #008080; font-weight: bold\">97.5</span> %<span style=\"font-weight: bold\">)</span>\n",
       "</pre>\n"
      ],
      "text/plain": [
       "sub-SLC01_ses-2_run-\u001b[1;36m1\u001b[0m, present \u001b[1m(\u001b[0mnot nan ROIs\u001b[1m)\u001b[0m = \u001b[1;36m5865\u001b[0m \u001b[1m(\u001b[0m\u001b[1;36m97.5\u001b[0m %\u001b[1m)\u001b[0m\n"
      ]
     },
     "metadata": {},
     "output_type": "display_data"
    },
    {
     "data": {
      "text/html": [
       "<pre style=\"white-space:pre;overflow-x:auto;line-height:normal;font-family:Menlo,'DejaVu Sans Mono',consolas,'Courier New',monospace\">sub-SLC01_ses-2_run-<span style=\"color: #008080; text-decoration-color: #008080; font-weight: bold\">3</span>, present <span style=\"font-weight: bold\">(</span>not nan ROIs<span style=\"font-weight: bold\">)</span> = <span style=\"color: #008080; text-decoration-color: #008080; font-weight: bold\">5870</span> <span style=\"font-weight: bold\">(</span><span style=\"color: #008080; text-decoration-color: #008080; font-weight: bold\">97.6</span> %<span style=\"font-weight: bold\">)</span>\n",
       "</pre>\n"
      ],
      "text/plain": [
       "sub-SLC01_ses-2_run-\u001b[1;36m3\u001b[0m, present \u001b[1m(\u001b[0mnot nan ROIs\u001b[1m)\u001b[0m = \u001b[1;36m5870\u001b[0m \u001b[1m(\u001b[0m\u001b[1;36m97.6\u001b[0m %\u001b[1m)\u001b[0m\n"
      ]
     },
     "metadata": {},
     "output_type": "display_data"
    },
    {
     "data": {
      "text/html": [
       "<pre style=\"white-space:pre;overflow-x:auto;line-height:normal;font-family:Menlo,'DejaVu Sans Mono',consolas,'Courier New',monospace\">sub-SLC01_ses-2_run-<span style=\"color: #008080; text-decoration-color: #008080; font-weight: bold\">5</span>, present <span style=\"font-weight: bold\">(</span>not nan ROIs<span style=\"font-weight: bold\">)</span> = <span style=\"color: #008080; text-decoration-color: #008080; font-weight: bold\">5862</span> <span style=\"font-weight: bold\">(</span><span style=\"color: #008080; text-decoration-color: #008080; font-weight: bold\">97.4</span> %<span style=\"font-weight: bold\">)</span>\n",
       "</pre>\n"
      ],
      "text/plain": [
       "sub-SLC01_ses-2_run-\u001b[1;36m5\u001b[0m, present \u001b[1m(\u001b[0mnot nan ROIs\u001b[1m)\u001b[0m = \u001b[1;36m5862\u001b[0m \u001b[1m(\u001b[0m\u001b[1;36m97.4\u001b[0m %\u001b[1m)\u001b[0m\n"
      ]
     },
     "metadata": {},
     "output_type": "display_data"
    },
    {
     "data": {
      "text/html": [
       "<pre style=\"white-space:pre;overflow-x:auto;line-height:normal;font-family:Menlo,'DejaVu Sans Mono',consolas,'Courier New',monospace\">sub-SLC01_ses-2_run-<span style=\"color: #008080; text-decoration-color: #008080; font-weight: bold\">7</span>, present <span style=\"font-weight: bold\">(</span>not nan ROIs<span style=\"font-weight: bold\">)</span> = <span style=\"color: #008080; text-decoration-color: #008080; font-weight: bold\">5864</span> <span style=\"font-weight: bold\">(</span><span style=\"color: #008080; text-decoration-color: #008080; font-weight: bold\">97.5</span> %<span style=\"font-weight: bold\">)</span>\n",
       "</pre>\n"
      ],
      "text/plain": [
       "sub-SLC01_ses-2_run-\u001b[1;36m7\u001b[0m, present \u001b[1m(\u001b[0mnot nan ROIs\u001b[1m)\u001b[0m = \u001b[1;36m5864\u001b[0m \u001b[1m(\u001b[0m\u001b[1;36m97.5\u001b[0m %\u001b[1m)\u001b[0m\n"
      ]
     },
     "metadata": {},
     "output_type": "display_data"
    },
    {
     "data": {
      "text/html": [
       "<pre style=\"white-space:pre;overflow-x:auto;line-height:normal;font-family:Menlo,'DejaVu Sans Mono',consolas,'Courier New',monospace\">sub-SLC01_ses-3_run-<span style=\"color: #008080; text-decoration-color: #008080; font-weight: bold\">1</span>, present <span style=\"font-weight: bold\">(</span>not nan ROIs<span style=\"font-weight: bold\">)</span> = <span style=\"color: #008080; text-decoration-color: #008080; font-weight: bold\">5781</span> <span style=\"font-weight: bold\">(</span><span style=\"color: #008080; text-decoration-color: #008080; font-weight: bold\">96.1</span> %<span style=\"font-weight: bold\">)</span>\n",
       "</pre>\n"
      ],
      "text/plain": [
       "sub-SLC01_ses-3_run-\u001b[1;36m1\u001b[0m, present \u001b[1m(\u001b[0mnot nan ROIs\u001b[1m)\u001b[0m = \u001b[1;36m5781\u001b[0m \u001b[1m(\u001b[0m\u001b[1;36m96.1\u001b[0m %\u001b[1m)\u001b[0m\n"
      ]
     },
     "metadata": {},
     "output_type": "display_data"
    },
    {
     "data": {
      "text/html": [
       "<pre style=\"white-space:pre;overflow-x:auto;line-height:normal;font-family:Menlo,'DejaVu Sans Mono',consolas,'Courier New',monospace\">sub-SLC01_ses-3_run-<span style=\"color: #008080; text-decoration-color: #008080; font-weight: bold\">3</span>, present <span style=\"font-weight: bold\">(</span>not nan ROIs<span style=\"font-weight: bold\">)</span> = <span style=\"color: #008080; text-decoration-color: #008080; font-weight: bold\">5785</span> <span style=\"font-weight: bold\">(</span><span style=\"color: #008080; text-decoration-color: #008080; font-weight: bold\">96.1</span> %<span style=\"font-weight: bold\">)</span>\n",
       "</pre>\n"
      ],
      "text/plain": [
       "sub-SLC01_ses-3_run-\u001b[1;36m3\u001b[0m, present \u001b[1m(\u001b[0mnot nan ROIs\u001b[1m)\u001b[0m = \u001b[1;36m5785\u001b[0m \u001b[1m(\u001b[0m\u001b[1;36m96.1\u001b[0m %\u001b[1m)\u001b[0m\n"
      ]
     },
     "metadata": {},
     "output_type": "display_data"
    },
    {
     "data": {
      "text/html": [
       "<pre style=\"white-space:pre;overflow-x:auto;line-height:normal;font-family:Menlo,'DejaVu Sans Mono',consolas,'Courier New',monospace\">sub-SLC01_ses-3_run-<span style=\"color: #008080; text-decoration-color: #008080; font-weight: bold\">5</span>, present <span style=\"font-weight: bold\">(</span>not nan ROIs<span style=\"font-weight: bold\">)</span> = <span style=\"color: #008080; text-decoration-color: #008080; font-weight: bold\">5786</span> <span style=\"font-weight: bold\">(</span><span style=\"color: #008080; text-decoration-color: #008080; font-weight: bold\">96.2</span> %<span style=\"font-weight: bold\">)</span>\n",
       "</pre>\n"
      ],
      "text/plain": [
       "sub-SLC01_ses-3_run-\u001b[1;36m5\u001b[0m, present \u001b[1m(\u001b[0mnot nan ROIs\u001b[1m)\u001b[0m = \u001b[1;36m5786\u001b[0m \u001b[1m(\u001b[0m\u001b[1;36m96.2\u001b[0m %\u001b[1m)\u001b[0m\n"
      ]
     },
     "metadata": {},
     "output_type": "display_data"
    },
    {
     "data": {
      "text/html": [
       "<pre style=\"white-space:pre;overflow-x:auto;line-height:normal;font-family:Menlo,'DejaVu Sans Mono',consolas,'Courier New',monospace\">sub-SLC01_ses-3_run-<span style=\"color: #008080; text-decoration-color: #008080; font-weight: bold\">7</span>, present <span style=\"font-weight: bold\">(</span>not nan ROIs<span style=\"font-weight: bold\">)</span> = <span style=\"color: #008080; text-decoration-color: #008080; font-weight: bold\">5787</span> <span style=\"font-weight: bold\">(</span><span style=\"color: #008080; text-decoration-color: #008080; font-weight: bold\">96.2</span> %<span style=\"font-weight: bold\">)</span>\n",
       "</pre>\n"
      ],
      "text/plain": [
       "sub-SLC01_ses-3_run-\u001b[1;36m7\u001b[0m, present \u001b[1m(\u001b[0mnot nan ROIs\u001b[1m)\u001b[0m = \u001b[1;36m5787\u001b[0m \u001b[1m(\u001b[0m\u001b[1;36m96.2\u001b[0m %\u001b[1m)\u001b[0m\n"
      ]
     },
     "metadata": {},
     "output_type": "display_data"
    },
    {
     "data": {
      "text/html": [
       "<pre style=\"white-space:pre;overflow-x:auto;line-height:normal;font-family:Menlo,'DejaVu Sans Mono',consolas,'Courier New',monospace\">sub-SLC02_ses-1_run-<span style=\"color: #008080; text-decoration-color: #008080; font-weight: bold\">1</span>, present <span style=\"font-weight: bold\">(</span>not nan ROIs<span style=\"font-weight: bold\">)</span> = <span style=\"color: #008080; text-decoration-color: #008080; font-weight: bold\">5634</span> <span style=\"font-weight: bold\">(</span><span style=\"color: #008080; text-decoration-color: #008080; font-weight: bold\">93.6</span> %<span style=\"font-weight: bold\">)</span>\n",
       "</pre>\n"
      ],
      "text/plain": [
       "sub-SLC02_ses-1_run-\u001b[1;36m1\u001b[0m, present \u001b[1m(\u001b[0mnot nan ROIs\u001b[1m)\u001b[0m = \u001b[1;36m5634\u001b[0m \u001b[1m(\u001b[0m\u001b[1;36m93.6\u001b[0m %\u001b[1m)\u001b[0m\n"
      ]
     },
     "metadata": {},
     "output_type": "display_data"
    },
    {
     "data": {
      "text/html": [
       "<pre style=\"white-space:pre;overflow-x:auto;line-height:normal;font-family:Menlo,'DejaVu Sans Mono',consolas,'Courier New',monospace\">sub-SLC02_ses-1_run-<span style=\"color: #008080; text-decoration-color: #008080; font-weight: bold\">3</span>, present <span style=\"font-weight: bold\">(</span>not nan ROIs<span style=\"font-weight: bold\">)</span> = <span style=\"color: #008080; text-decoration-color: #008080; font-weight: bold\">5632</span> <span style=\"font-weight: bold\">(</span><span style=\"color: #008080; text-decoration-color: #008080; font-weight: bold\">93.6</span> %<span style=\"font-weight: bold\">)</span>\n",
       "</pre>\n"
      ],
      "text/plain": [
       "sub-SLC02_ses-1_run-\u001b[1;36m3\u001b[0m, present \u001b[1m(\u001b[0mnot nan ROIs\u001b[1m)\u001b[0m = \u001b[1;36m5632\u001b[0m \u001b[1m(\u001b[0m\u001b[1;36m93.6\u001b[0m %\u001b[1m)\u001b[0m\n"
      ]
     },
     "metadata": {},
     "output_type": "display_data"
    },
    {
     "data": {
      "text/html": [
       "<pre style=\"white-space:pre;overflow-x:auto;line-height:normal;font-family:Menlo,'DejaVu Sans Mono',consolas,'Courier New',monospace\">sub-SLC02_ses-1_run-<span style=\"color: #008080; text-decoration-color: #008080; font-weight: bold\">5</span>, present <span style=\"font-weight: bold\">(</span>not nan ROIs<span style=\"font-weight: bold\">)</span> = <span style=\"color: #008080; text-decoration-color: #008080; font-weight: bold\">5638</span> <span style=\"font-weight: bold\">(</span><span style=\"color: #008080; text-decoration-color: #008080; font-weight: bold\">93.7</span> %<span style=\"font-weight: bold\">)</span>\n",
       "</pre>\n"
      ],
      "text/plain": [
       "sub-SLC02_ses-1_run-\u001b[1;36m5\u001b[0m, present \u001b[1m(\u001b[0mnot nan ROIs\u001b[1m)\u001b[0m = \u001b[1;36m5638\u001b[0m \u001b[1m(\u001b[0m\u001b[1;36m93.7\u001b[0m %\u001b[1m)\u001b[0m\n"
      ]
     },
     "metadata": {},
     "output_type": "display_data"
    },
    {
     "data": {
      "text/html": [
       "<pre style=\"white-space:pre;overflow-x:auto;line-height:normal;font-family:Menlo,'DejaVu Sans Mono',consolas,'Courier New',monospace\">sub-SLC02_ses-1_run-<span style=\"color: #008080; text-decoration-color: #008080; font-weight: bold\">7</span>, present <span style=\"font-weight: bold\">(</span>not nan ROIs<span style=\"font-weight: bold\">)</span> = <span style=\"color: #008080; text-decoration-color: #008080; font-weight: bold\">5634</span> <span style=\"font-weight: bold\">(</span><span style=\"color: #008080; text-decoration-color: #008080; font-weight: bold\">93.6</span> %<span style=\"font-weight: bold\">)</span>\n",
       "</pre>\n"
      ],
      "text/plain": [
       "sub-SLC02_ses-1_run-\u001b[1;36m7\u001b[0m, present \u001b[1m(\u001b[0mnot nan ROIs\u001b[1m)\u001b[0m = \u001b[1;36m5634\u001b[0m \u001b[1m(\u001b[0m\u001b[1;36m93.6\u001b[0m %\u001b[1m)\u001b[0m\n"
      ]
     },
     "metadata": {},
     "output_type": "display_data"
    },
    {
     "data": {
      "text/html": [
       "<pre style=\"white-space:pre;overflow-x:auto;line-height:normal;font-family:Menlo,'DejaVu Sans Mono',consolas,'Courier New',monospace\">sub-SLC02_ses-2_run-<span style=\"color: #008080; text-decoration-color: #008080; font-weight: bold\">1</span>, present <span style=\"font-weight: bold\">(</span>not nan ROIs<span style=\"font-weight: bold\">)</span> = <span style=\"color: #008080; text-decoration-color: #008080; font-weight: bold\">5854</span> <span style=\"font-weight: bold\">(</span><span style=\"color: #008080; text-decoration-color: #008080; font-weight: bold\">97.3</span> %<span style=\"font-weight: bold\">)</span>\n",
       "</pre>\n"
      ],
      "text/plain": [
       "sub-SLC02_ses-2_run-\u001b[1;36m1\u001b[0m, present \u001b[1m(\u001b[0mnot nan ROIs\u001b[1m)\u001b[0m = \u001b[1;36m5854\u001b[0m \u001b[1m(\u001b[0m\u001b[1;36m97.3\u001b[0m %\u001b[1m)\u001b[0m\n"
      ]
     },
     "metadata": {},
     "output_type": "display_data"
    },
    {
     "data": {
      "text/html": [
       "<pre style=\"white-space:pre;overflow-x:auto;line-height:normal;font-family:Menlo,'DejaVu Sans Mono',consolas,'Courier New',monospace\">sub-SLC02_ses-2_run-<span style=\"color: #008080; text-decoration-color: #008080; font-weight: bold\">3</span>, present <span style=\"font-weight: bold\">(</span>not nan ROIs<span style=\"font-weight: bold\">)</span> = <span style=\"color: #008080; text-decoration-color: #008080; font-weight: bold\">5856</span> <span style=\"font-weight: bold\">(</span><span style=\"color: #008080; text-decoration-color: #008080; font-weight: bold\">97.3</span> %<span style=\"font-weight: bold\">)</span>\n",
       "</pre>\n"
      ],
      "text/plain": [
       "sub-SLC02_ses-2_run-\u001b[1;36m3\u001b[0m, present \u001b[1m(\u001b[0mnot nan ROIs\u001b[1m)\u001b[0m = \u001b[1;36m5856\u001b[0m \u001b[1m(\u001b[0m\u001b[1;36m97.3\u001b[0m %\u001b[1m)\u001b[0m\n"
      ]
     },
     "metadata": {},
     "output_type": "display_data"
    },
    {
     "data": {
      "text/html": [
       "<pre style=\"white-space:pre;overflow-x:auto;line-height:normal;font-family:Menlo,'DejaVu Sans Mono',consolas,'Courier New',monospace\">sub-SLC02_ses-2_run-<span style=\"color: #008080; text-decoration-color: #008080; font-weight: bold\">5</span>, present <span style=\"font-weight: bold\">(</span>not nan ROIs<span style=\"font-weight: bold\">)</span> = <span style=\"color: #008080; text-decoration-color: #008080; font-weight: bold\">5855</span> <span style=\"font-weight: bold\">(</span><span style=\"color: #008080; text-decoration-color: #008080; font-weight: bold\">97.3</span> %<span style=\"font-weight: bold\">)</span>\n",
       "</pre>\n"
      ],
      "text/plain": [
       "sub-SLC02_ses-2_run-\u001b[1;36m5\u001b[0m, present \u001b[1m(\u001b[0mnot nan ROIs\u001b[1m)\u001b[0m = \u001b[1;36m5855\u001b[0m \u001b[1m(\u001b[0m\u001b[1;36m97.3\u001b[0m %\u001b[1m)\u001b[0m\n"
      ]
     },
     "metadata": {},
     "output_type": "display_data"
    },
    {
     "data": {
      "text/html": [
       "<pre style=\"white-space:pre;overflow-x:auto;line-height:normal;font-family:Menlo,'DejaVu Sans Mono',consolas,'Courier New',monospace\">sub-SLC02_ses-3_run-<span style=\"color: #008080; text-decoration-color: #008080; font-weight: bold\">1</span>, present <span style=\"font-weight: bold\">(</span>not nan ROIs<span style=\"font-weight: bold\">)</span> = <span style=\"color: #008080; text-decoration-color: #008080; font-weight: bold\">5778</span> <span style=\"font-weight: bold\">(</span><span style=\"color: #008080; text-decoration-color: #008080; font-weight: bold\">96.0</span> %<span style=\"font-weight: bold\">)</span>\n",
       "</pre>\n"
      ],
      "text/plain": [
       "sub-SLC02_ses-3_run-\u001b[1;36m1\u001b[0m, present \u001b[1m(\u001b[0mnot nan ROIs\u001b[1m)\u001b[0m = \u001b[1;36m5778\u001b[0m \u001b[1m(\u001b[0m\u001b[1;36m96.0\u001b[0m %\u001b[1m)\u001b[0m\n"
      ]
     },
     "metadata": {},
     "output_type": "display_data"
    },
    {
     "data": {
      "text/html": [
       "<pre style=\"white-space:pre;overflow-x:auto;line-height:normal;font-family:Menlo,'DejaVu Sans Mono',consolas,'Courier New',monospace\">sub-SLC02_ses-3_run-<span style=\"color: #008080; text-decoration-color: #008080; font-weight: bold\">3</span>, present <span style=\"font-weight: bold\">(</span>not nan ROIs<span style=\"font-weight: bold\">)</span> = <span style=\"color: #008080; text-decoration-color: #008080; font-weight: bold\">5786</span> <span style=\"font-weight: bold\">(</span><span style=\"color: #008080; text-decoration-color: #008080; font-weight: bold\">96.2</span> %<span style=\"font-weight: bold\">)</span>\n",
       "</pre>\n"
      ],
      "text/plain": [
       "sub-SLC02_ses-3_run-\u001b[1;36m3\u001b[0m, present \u001b[1m(\u001b[0mnot nan ROIs\u001b[1m)\u001b[0m = \u001b[1;36m5786\u001b[0m \u001b[1m(\u001b[0m\u001b[1;36m96.2\u001b[0m %\u001b[1m)\u001b[0m\n"
      ]
     },
     "metadata": {},
     "output_type": "display_data"
    },
    {
     "data": {
      "text/html": [
       "<pre style=\"white-space:pre;overflow-x:auto;line-height:normal;font-family:Menlo,'DejaVu Sans Mono',consolas,'Courier New',monospace\">sub-SLC02_ses-3_run-<span style=\"color: #008080; text-decoration-color: #008080; font-weight: bold\">5</span>, present <span style=\"font-weight: bold\">(</span>not nan ROIs<span style=\"font-weight: bold\">)</span> = <span style=\"color: #008080; text-decoration-color: #008080; font-weight: bold\">5785</span> <span style=\"font-weight: bold\">(</span><span style=\"color: #008080; text-decoration-color: #008080; font-weight: bold\">96.1</span> %<span style=\"font-weight: bold\">)</span>\n",
       "</pre>\n"
      ],
      "text/plain": [
       "sub-SLC02_ses-3_run-\u001b[1;36m5\u001b[0m, present \u001b[1m(\u001b[0mnot nan ROIs\u001b[1m)\u001b[0m = \u001b[1;36m5785\u001b[0m \u001b[1m(\u001b[0m\u001b[1;36m96.1\u001b[0m %\u001b[1m)\u001b[0m\n"
      ]
     },
     "metadata": {},
     "output_type": "display_data"
    },
    {
     "data": {
      "text/html": [
       "<pre style=\"white-space:pre;overflow-x:auto;line-height:normal;font-family:Menlo,'DejaVu Sans Mono',consolas,'Courier New',monospace\">sub-SLC02_ses-3_run-<span style=\"color: #008080; text-decoration-color: #008080; font-weight: bold\">7</span>, present <span style=\"font-weight: bold\">(</span>not nan ROIs<span style=\"font-weight: bold\">)</span> = <span style=\"color: #008080; text-decoration-color: #008080; font-weight: bold\">5779</span> <span style=\"font-weight: bold\">(</span><span style=\"color: #008080; text-decoration-color: #008080; font-weight: bold\">96.0</span> %<span style=\"font-weight: bold\">)</span>\n",
       "</pre>\n"
      ],
      "text/plain": [
       "sub-SLC02_ses-3_run-\u001b[1;36m7\u001b[0m, present \u001b[1m(\u001b[0mnot nan ROIs\u001b[1m)\u001b[0m = \u001b[1;36m5779\u001b[0m \u001b[1m(\u001b[0m\u001b[1;36m96.0\u001b[0m %\u001b[1m)\u001b[0m\n"
      ]
     },
     "metadata": {},
     "output_type": "display_data"
    },
    {
     "data": {
      "text/html": [
       "<pre style=\"white-space:pre;overflow-x:auto;line-height:normal;font-family:Menlo,'DejaVu Sans Mono',consolas,'Courier New',monospace\">sub-SLC03_ses-1_run-<span style=\"color: #008080; text-decoration-color: #008080; font-weight: bold\">2</span>, present <span style=\"font-weight: bold\">(</span>not nan ROIs<span style=\"font-weight: bold\">)</span> = <span style=\"color: #008080; text-decoration-color: #008080; font-weight: bold\">5770</span> <span style=\"font-weight: bold\">(</span><span style=\"color: #008080; text-decoration-color: #008080; font-weight: bold\">95.9</span> %<span style=\"font-weight: bold\">)</span>\n",
       "</pre>\n"
      ],
      "text/plain": [
       "sub-SLC03_ses-1_run-\u001b[1;36m2\u001b[0m, present \u001b[1m(\u001b[0mnot nan ROIs\u001b[1m)\u001b[0m = \u001b[1;36m5770\u001b[0m \u001b[1m(\u001b[0m\u001b[1;36m95.9\u001b[0m %\u001b[1m)\u001b[0m\n"
      ]
     },
     "metadata": {},
     "output_type": "display_data"
    },
    {
     "data": {
      "text/html": [
       "<pre style=\"white-space:pre;overflow-x:auto;line-height:normal;font-family:Menlo,'DejaVu Sans Mono',consolas,'Courier New',monospace\">sub-SLC03_ses-1_run-<span style=\"color: #008080; text-decoration-color: #008080; font-weight: bold\">4</span>, present <span style=\"font-weight: bold\">(</span>not nan ROIs<span style=\"font-weight: bold\">)</span> = <span style=\"color: #008080; text-decoration-color: #008080; font-weight: bold\">5771</span> <span style=\"font-weight: bold\">(</span><span style=\"color: #008080; text-decoration-color: #008080; font-weight: bold\">95.9</span> %<span style=\"font-weight: bold\">)</span>\n",
       "</pre>\n"
      ],
      "text/plain": [
       "sub-SLC03_ses-1_run-\u001b[1;36m4\u001b[0m, present \u001b[1m(\u001b[0mnot nan ROIs\u001b[1m)\u001b[0m = \u001b[1;36m5771\u001b[0m \u001b[1m(\u001b[0m\u001b[1;36m95.9\u001b[0m %\u001b[1m)\u001b[0m\n"
      ]
     },
     "metadata": {},
     "output_type": "display_data"
    },
    {
     "data": {
      "text/html": [
       "<pre style=\"white-space:pre;overflow-x:auto;line-height:normal;font-family:Menlo,'DejaVu Sans Mono',consolas,'Courier New',monospace\">sub-SLC03_ses-1_run-<span style=\"color: #008080; text-decoration-color: #008080; font-weight: bold\">6</span>, present <span style=\"font-weight: bold\">(</span>not nan ROIs<span style=\"font-weight: bold\">)</span> = <span style=\"color: #008080; text-decoration-color: #008080; font-weight: bold\">5768</span> <span style=\"font-weight: bold\">(</span><span style=\"color: #008080; text-decoration-color: #008080; font-weight: bold\">95.9</span> %<span style=\"font-weight: bold\">)</span>\n",
       "</pre>\n"
      ],
      "text/plain": [
       "sub-SLC03_ses-1_run-\u001b[1;36m6\u001b[0m, present \u001b[1m(\u001b[0mnot nan ROIs\u001b[1m)\u001b[0m = \u001b[1;36m5768\u001b[0m \u001b[1m(\u001b[0m\u001b[1;36m95.9\u001b[0m %\u001b[1m)\u001b[0m\n"
      ]
     },
     "metadata": {},
     "output_type": "display_data"
    },
    {
     "data": {
      "text/html": [
       "<pre style=\"white-space:pre;overflow-x:auto;line-height:normal;font-family:Menlo,'DejaVu Sans Mono',consolas,'Courier New',monospace\">sub-SLC03_ses-2_run-<span style=\"color: #008080; text-decoration-color: #008080; font-weight: bold\">1</span>, present <span style=\"font-weight: bold\">(</span>not nan ROIs<span style=\"font-weight: bold\">)</span> = <span style=\"color: #008080; text-decoration-color: #008080; font-weight: bold\">5909</span> <span style=\"font-weight: bold\">(</span><span style=\"color: #008080; text-decoration-color: #008080; font-weight: bold\">98.2</span> %<span style=\"font-weight: bold\">)</span>\n",
       "</pre>\n"
      ],
      "text/plain": [
       "sub-SLC03_ses-2_run-\u001b[1;36m1\u001b[0m, present \u001b[1m(\u001b[0mnot nan ROIs\u001b[1m)\u001b[0m = \u001b[1;36m5909\u001b[0m \u001b[1m(\u001b[0m\u001b[1;36m98.2\u001b[0m %\u001b[1m)\u001b[0m\n"
      ]
     },
     "metadata": {},
     "output_type": "display_data"
    },
    {
     "data": {
      "text/html": [
       "<pre style=\"white-space:pre;overflow-x:auto;line-height:normal;font-family:Menlo,'DejaVu Sans Mono',consolas,'Courier New',monospace\">sub-SLC03_ses-2_run-<span style=\"color: #008080; text-decoration-color: #008080; font-weight: bold\">3</span>, present <span style=\"font-weight: bold\">(</span>not nan ROIs<span style=\"font-weight: bold\">)</span> = <span style=\"color: #008080; text-decoration-color: #008080; font-weight: bold\">5905</span> <span style=\"font-weight: bold\">(</span><span style=\"color: #008080; text-decoration-color: #008080; font-weight: bold\">98.1</span> %<span style=\"font-weight: bold\">)</span>\n",
       "</pre>\n"
      ],
      "text/plain": [
       "sub-SLC03_ses-2_run-\u001b[1;36m3\u001b[0m, present \u001b[1m(\u001b[0mnot nan ROIs\u001b[1m)\u001b[0m = \u001b[1;36m5905\u001b[0m \u001b[1m(\u001b[0m\u001b[1;36m98.1\u001b[0m %\u001b[1m)\u001b[0m\n"
      ]
     },
     "metadata": {},
     "output_type": "display_data"
    },
    {
     "data": {
      "text/html": [
       "<pre style=\"white-space:pre;overflow-x:auto;line-height:normal;font-family:Menlo,'DejaVu Sans Mono',consolas,'Courier New',monospace\">sub-SLC03_ses-2_run-<span style=\"color: #008080; text-decoration-color: #008080; font-weight: bold\">5</span>, present <span style=\"font-weight: bold\">(</span>not nan ROIs<span style=\"font-weight: bold\">)</span> = <span style=\"color: #008080; text-decoration-color: #008080; font-weight: bold\">5906</span> <span style=\"font-weight: bold\">(</span><span style=\"color: #008080; text-decoration-color: #008080; font-weight: bold\">98.2</span> %<span style=\"font-weight: bold\">)</span>\n",
       "</pre>\n"
      ],
      "text/plain": [
       "sub-SLC03_ses-2_run-\u001b[1;36m5\u001b[0m, present \u001b[1m(\u001b[0mnot nan ROIs\u001b[1m)\u001b[0m = \u001b[1;36m5906\u001b[0m \u001b[1m(\u001b[0m\u001b[1;36m98.2\u001b[0m %\u001b[1m)\u001b[0m\n"
      ]
     },
     "metadata": {},
     "output_type": "display_data"
    },
    {
     "data": {
      "text/html": [
       "<pre style=\"white-space:pre;overflow-x:auto;line-height:normal;font-family:Menlo,'DejaVu Sans Mono',consolas,'Courier New',monospace\">sub-SLC03_ses-2_run-<span style=\"color: #008080; text-decoration-color: #008080; font-weight: bold\">7</span>, present <span style=\"font-weight: bold\">(</span>not nan ROIs<span style=\"font-weight: bold\">)</span> = <span style=\"color: #008080; text-decoration-color: #008080; font-weight: bold\">5908</span> <span style=\"font-weight: bold\">(</span><span style=\"color: #008080; text-decoration-color: #008080; font-weight: bold\">98.2</span> %<span style=\"font-weight: bold\">)</span>\n",
       "</pre>\n"
      ],
      "text/plain": [
       "sub-SLC03_ses-2_run-\u001b[1;36m7\u001b[0m, present \u001b[1m(\u001b[0mnot nan ROIs\u001b[1m)\u001b[0m = \u001b[1;36m5908\u001b[0m \u001b[1m(\u001b[0m\u001b[1;36m98.2\u001b[0m %\u001b[1m)\u001b[0m\n"
      ]
     },
     "metadata": {},
     "output_type": "display_data"
    },
    {
     "data": {
      "text/html": [
       "<pre style=\"white-space:pre;overflow-x:auto;line-height:normal;font-family:Menlo,'DejaVu Sans Mono',consolas,'Courier New',monospace\">sub-SLC03_ses-3_run-<span style=\"color: #008080; text-decoration-color: #008080; font-weight: bold\">1</span>, present <span style=\"font-weight: bold\">(</span>not nan ROIs<span style=\"font-weight: bold\">)</span> = <span style=\"color: #008080; text-decoration-color: #008080; font-weight: bold\">5777</span> <span style=\"font-weight: bold\">(</span><span style=\"color: #008080; text-decoration-color: #008080; font-weight: bold\">96.0</span> %<span style=\"font-weight: bold\">)</span>\n",
       "</pre>\n"
      ],
      "text/plain": [
       "sub-SLC03_ses-3_run-\u001b[1;36m1\u001b[0m, present \u001b[1m(\u001b[0mnot nan ROIs\u001b[1m)\u001b[0m = \u001b[1;36m5777\u001b[0m \u001b[1m(\u001b[0m\u001b[1;36m96.0\u001b[0m %\u001b[1m)\u001b[0m\n"
      ]
     },
     "metadata": {},
     "output_type": "display_data"
    },
    {
     "data": {
      "text/html": [
       "<pre style=\"white-space:pre;overflow-x:auto;line-height:normal;font-family:Menlo,'DejaVu Sans Mono',consolas,'Courier New',monospace\">sub-SLC03_ses-3_run-<span style=\"color: #008080; text-decoration-color: #008080; font-weight: bold\">3</span>, present <span style=\"font-weight: bold\">(</span>not nan ROIs<span style=\"font-weight: bold\">)</span> = <span style=\"color: #008080; text-decoration-color: #008080; font-weight: bold\">5771</span> <span style=\"font-weight: bold\">(</span><span style=\"color: #008080; text-decoration-color: #008080; font-weight: bold\">95.9</span> %<span style=\"font-weight: bold\">)</span>\n",
       "</pre>\n"
      ],
      "text/plain": [
       "sub-SLC03_ses-3_run-\u001b[1;36m3\u001b[0m, present \u001b[1m(\u001b[0mnot nan ROIs\u001b[1m)\u001b[0m = \u001b[1;36m5771\u001b[0m \u001b[1m(\u001b[0m\u001b[1;36m95.9\u001b[0m %\u001b[1m)\u001b[0m\n"
      ]
     },
     "metadata": {},
     "output_type": "display_data"
    },
    {
     "data": {
      "text/html": [
       "<pre style=\"white-space:pre;overflow-x:auto;line-height:normal;font-family:Menlo,'DejaVu Sans Mono',consolas,'Courier New',monospace\">sub-SLC03_ses-3_run-<span style=\"color: #008080; text-decoration-color: #008080; font-weight: bold\">5</span>, present <span style=\"font-weight: bold\">(</span>not nan ROIs<span style=\"font-weight: bold\">)</span> = <span style=\"color: #008080; text-decoration-color: #008080; font-weight: bold\">5778</span> <span style=\"font-weight: bold\">(</span><span style=\"color: #008080; text-decoration-color: #008080; font-weight: bold\">96.0</span> %<span style=\"font-weight: bold\">)</span>\n",
       "</pre>\n"
      ],
      "text/plain": [
       "sub-SLC03_ses-3_run-\u001b[1;36m5\u001b[0m, present \u001b[1m(\u001b[0mnot nan ROIs\u001b[1m)\u001b[0m = \u001b[1;36m5778\u001b[0m \u001b[1m(\u001b[0m\u001b[1;36m96.0\u001b[0m %\u001b[1m)\u001b[0m\n"
      ]
     },
     "metadata": {},
     "output_type": "display_data"
    },
    {
     "data": {
      "text/html": [
       "<pre style=\"white-space:pre;overflow-x:auto;line-height:normal;font-family:Menlo,'DejaVu Sans Mono',consolas,'Courier New',monospace\">sub-SLC03_ses-3_run-<span style=\"color: #008080; text-decoration-color: #008080; font-weight: bold\">7</span>, present <span style=\"font-weight: bold\">(</span>not nan ROIs<span style=\"font-weight: bold\">)</span> = <span style=\"color: #008080; text-decoration-color: #008080; font-weight: bold\">5766</span> <span style=\"font-weight: bold\">(</span><span style=\"color: #008080; text-decoration-color: #008080; font-weight: bold\">95.8</span> %<span style=\"font-weight: bold\">)</span>\n",
       "</pre>\n"
      ],
      "text/plain": [
       "sub-SLC03_ses-3_run-\u001b[1;36m7\u001b[0m, present \u001b[1m(\u001b[0mnot nan ROIs\u001b[1m)\u001b[0m = \u001b[1;36m5766\u001b[0m \u001b[1m(\u001b[0m\u001b[1;36m95.8\u001b[0m %\u001b[1m)\u001b[0m\n"
      ]
     },
     "metadata": {},
     "output_type": "display_data"
    },
    {
     "data": {
      "text/html": [
       "<pre style=\"white-space:pre;overflow-x:auto;line-height:normal;font-family:Menlo,'DejaVu Sans Mono',consolas,'Courier New',monospace\">sub-SLC04_ses-1_run-<span style=\"color: #008080; text-decoration-color: #008080; font-weight: bold\">1</span>, present <span style=\"font-weight: bold\">(</span>not nan ROIs<span style=\"font-weight: bold\">)</span> = <span style=\"color: #008080; text-decoration-color: #008080; font-weight: bold\">5863</span> <span style=\"font-weight: bold\">(</span><span style=\"color: #008080; text-decoration-color: #008080; font-weight: bold\">97.4</span> %<span style=\"font-weight: bold\">)</span>\n",
       "</pre>\n"
      ],
      "text/plain": [
       "sub-SLC04_ses-1_run-\u001b[1;36m1\u001b[0m, present \u001b[1m(\u001b[0mnot nan ROIs\u001b[1m)\u001b[0m = \u001b[1;36m5863\u001b[0m \u001b[1m(\u001b[0m\u001b[1;36m97.4\u001b[0m %\u001b[1m)\u001b[0m\n"
      ]
     },
     "metadata": {},
     "output_type": "display_data"
    },
    {
     "data": {
      "text/html": [
       "<pre style=\"white-space:pre;overflow-x:auto;line-height:normal;font-family:Menlo,'DejaVu Sans Mono',consolas,'Courier New',monospace\">sub-SLC04_ses-1_run-<span style=\"color: #008080; text-decoration-color: #008080; font-weight: bold\">3</span>, present <span style=\"font-weight: bold\">(</span>not nan ROIs<span style=\"font-weight: bold\">)</span> = <span style=\"color: #008080; text-decoration-color: #008080; font-weight: bold\">5863</span> <span style=\"font-weight: bold\">(</span><span style=\"color: #008080; text-decoration-color: #008080; font-weight: bold\">97.4</span> %<span style=\"font-weight: bold\">)</span>\n",
       "</pre>\n"
      ],
      "text/plain": [
       "sub-SLC04_ses-1_run-\u001b[1;36m3\u001b[0m, present \u001b[1m(\u001b[0mnot nan ROIs\u001b[1m)\u001b[0m = \u001b[1;36m5863\u001b[0m \u001b[1m(\u001b[0m\u001b[1;36m97.4\u001b[0m %\u001b[1m)\u001b[0m\n"
      ]
     },
     "metadata": {},
     "output_type": "display_data"
    },
    {
     "data": {
      "text/html": [
       "<pre style=\"white-space:pre;overflow-x:auto;line-height:normal;font-family:Menlo,'DejaVu Sans Mono',consolas,'Courier New',monospace\">sub-SLC04_ses-1_run-<span style=\"color: #008080; text-decoration-color: #008080; font-weight: bold\">5</span>, present <span style=\"font-weight: bold\">(</span>not nan ROIs<span style=\"font-weight: bold\">)</span> = <span style=\"color: #008080; text-decoration-color: #008080; font-weight: bold\">5856</span> <span style=\"font-weight: bold\">(</span><span style=\"color: #008080; text-decoration-color: #008080; font-weight: bold\">97.3</span> %<span style=\"font-weight: bold\">)</span>\n",
       "</pre>\n"
      ],
      "text/plain": [
       "sub-SLC04_ses-1_run-\u001b[1;36m5\u001b[0m, present \u001b[1m(\u001b[0mnot nan ROIs\u001b[1m)\u001b[0m = \u001b[1;36m5856\u001b[0m \u001b[1m(\u001b[0m\u001b[1;36m97.3\u001b[0m %\u001b[1m)\u001b[0m\n"
      ]
     },
     "metadata": {},
     "output_type": "display_data"
    },
    {
     "data": {
      "text/html": [
       "<pre style=\"white-space:pre;overflow-x:auto;line-height:normal;font-family:Menlo,'DejaVu Sans Mono',consolas,'Courier New',monospace\">sub-SLC04_ses-1_run-<span style=\"color: #008080; text-decoration-color: #008080; font-weight: bold\">7</span>, present <span style=\"font-weight: bold\">(</span>not nan ROIs<span style=\"font-weight: bold\">)</span> = <span style=\"color: #008080; text-decoration-color: #008080; font-weight: bold\">5871</span> <span style=\"font-weight: bold\">(</span><span style=\"color: #008080; text-decoration-color: #008080; font-weight: bold\">97.6</span> %<span style=\"font-weight: bold\">)</span>\n",
       "</pre>\n"
      ],
      "text/plain": [
       "sub-SLC04_ses-1_run-\u001b[1;36m7\u001b[0m, present \u001b[1m(\u001b[0mnot nan ROIs\u001b[1m)\u001b[0m = \u001b[1;36m5871\u001b[0m \u001b[1m(\u001b[0m\u001b[1;36m97.6\u001b[0m %\u001b[1m)\u001b[0m\n"
      ]
     },
     "metadata": {},
     "output_type": "display_data"
    },
    {
     "data": {
      "text/html": [
       "<pre style=\"white-space:pre;overflow-x:auto;line-height:normal;font-family:Menlo,'DejaVu Sans Mono',consolas,'Courier New',monospace\">sub-SLC04_ses-2_run-<span style=\"color: #008080; text-decoration-color: #008080; font-weight: bold\">1</span>, present <span style=\"font-weight: bold\">(</span>not nan ROIs<span style=\"font-weight: bold\">)</span> = <span style=\"color: #008080; text-decoration-color: #008080; font-weight: bold\">5903</span> <span style=\"font-weight: bold\">(</span><span style=\"color: #008080; text-decoration-color: #008080; font-weight: bold\">98.1</span> %<span style=\"font-weight: bold\">)</span>\n",
       "</pre>\n"
      ],
      "text/plain": [
       "sub-SLC04_ses-2_run-\u001b[1;36m1\u001b[0m, present \u001b[1m(\u001b[0mnot nan ROIs\u001b[1m)\u001b[0m = \u001b[1;36m5903\u001b[0m \u001b[1m(\u001b[0m\u001b[1;36m98.1\u001b[0m %\u001b[1m)\u001b[0m\n"
      ]
     },
     "metadata": {},
     "output_type": "display_data"
    },
    {
     "data": {
      "text/html": [
       "<pre style=\"white-space:pre;overflow-x:auto;line-height:normal;font-family:Menlo,'DejaVu Sans Mono',consolas,'Courier New',monospace\">sub-SLC04_ses-2_run-<span style=\"color: #008080; text-decoration-color: #008080; font-weight: bold\">3</span>, present <span style=\"font-weight: bold\">(</span>not nan ROIs<span style=\"font-weight: bold\">)</span> = <span style=\"color: #008080; text-decoration-color: #008080; font-weight: bold\">5899</span> <span style=\"font-weight: bold\">(</span><span style=\"color: #008080; text-decoration-color: #008080; font-weight: bold\">98.0</span> %<span style=\"font-weight: bold\">)</span>\n",
       "</pre>\n"
      ],
      "text/plain": [
       "sub-SLC04_ses-2_run-\u001b[1;36m3\u001b[0m, present \u001b[1m(\u001b[0mnot nan ROIs\u001b[1m)\u001b[0m = \u001b[1;36m5899\u001b[0m \u001b[1m(\u001b[0m\u001b[1;36m98.0\u001b[0m %\u001b[1m)\u001b[0m\n"
      ]
     },
     "metadata": {},
     "output_type": "display_data"
    },
    {
     "data": {
      "text/html": [
       "<pre style=\"white-space:pre;overflow-x:auto;line-height:normal;font-family:Menlo,'DejaVu Sans Mono',consolas,'Courier New',monospace\">sub-SLC04_ses-2_run-<span style=\"color: #008080; text-decoration-color: #008080; font-weight: bold\">5</span>, present <span style=\"font-weight: bold\">(</span>not nan ROIs<span style=\"font-weight: bold\">)</span> = <span style=\"color: #008080; text-decoration-color: #008080; font-weight: bold\">5897</span> <span style=\"font-weight: bold\">(</span><span style=\"color: #008080; text-decoration-color: #008080; font-weight: bold\">98.0</span> %<span style=\"font-weight: bold\">)</span>\n",
       "</pre>\n"
      ],
      "text/plain": [
       "sub-SLC04_ses-2_run-\u001b[1;36m5\u001b[0m, present \u001b[1m(\u001b[0mnot nan ROIs\u001b[1m)\u001b[0m = \u001b[1;36m5897\u001b[0m \u001b[1m(\u001b[0m\u001b[1;36m98.0\u001b[0m %\u001b[1m)\u001b[0m\n"
      ]
     },
     "metadata": {},
     "output_type": "display_data"
    },
    {
     "data": {
      "text/html": [
       "<pre style=\"white-space:pre;overflow-x:auto;line-height:normal;font-family:Menlo,'DejaVu Sans Mono',consolas,'Courier New',monospace\">sub-SLC04_ses-2_run-<span style=\"color: #008080; text-decoration-color: #008080; font-weight: bold\">7</span>, present <span style=\"font-weight: bold\">(</span>not nan ROIs<span style=\"font-weight: bold\">)</span> = <span style=\"color: #008080; text-decoration-color: #008080; font-weight: bold\">5892</span> <span style=\"font-weight: bold\">(</span><span style=\"color: #008080; text-decoration-color: #008080; font-weight: bold\">97.9</span> %<span style=\"font-weight: bold\">)</span>\n",
       "</pre>\n"
      ],
      "text/plain": [
       "sub-SLC04_ses-2_run-\u001b[1;36m7\u001b[0m, present \u001b[1m(\u001b[0mnot nan ROIs\u001b[1m)\u001b[0m = \u001b[1;36m5892\u001b[0m \u001b[1m(\u001b[0m\u001b[1;36m97.9\u001b[0m %\u001b[1m)\u001b[0m\n"
      ]
     },
     "metadata": {},
     "output_type": "display_data"
    },
    {
     "data": {
      "text/html": [
       "<pre style=\"white-space:pre;overflow-x:auto;line-height:normal;font-family:Menlo,'DejaVu Sans Mono',consolas,'Courier New',monospace\">sub-SLC04_ses-3_run-<span style=\"color: #008080; text-decoration-color: #008080; font-weight: bold\">1</span>, present <span style=\"font-weight: bold\">(</span>not nan ROIs<span style=\"font-weight: bold\">)</span> = <span style=\"color: #008080; text-decoration-color: #008080; font-weight: bold\">5789</span> <span style=\"font-weight: bold\">(</span><span style=\"color: #008080; text-decoration-color: #008080; font-weight: bold\">96.2</span> %<span style=\"font-weight: bold\">)</span>\n",
       "</pre>\n"
      ],
      "text/plain": [
       "sub-SLC04_ses-3_run-\u001b[1;36m1\u001b[0m, present \u001b[1m(\u001b[0mnot nan ROIs\u001b[1m)\u001b[0m = \u001b[1;36m5789\u001b[0m \u001b[1m(\u001b[0m\u001b[1;36m96.2\u001b[0m %\u001b[1m)\u001b[0m\n"
      ]
     },
     "metadata": {},
     "output_type": "display_data"
    },
    {
     "data": {
      "text/html": [
       "<pre style=\"white-space:pre;overflow-x:auto;line-height:normal;font-family:Menlo,'DejaVu Sans Mono',consolas,'Courier New',monospace\">sub-SLC04_ses-3_run-<span style=\"color: #008080; text-decoration-color: #008080; font-weight: bold\">3</span>, present <span style=\"font-weight: bold\">(</span>not nan ROIs<span style=\"font-weight: bold\">)</span> = <span style=\"color: #008080; text-decoration-color: #008080; font-weight: bold\">5789</span> <span style=\"font-weight: bold\">(</span><span style=\"color: #008080; text-decoration-color: #008080; font-weight: bold\">96.2</span> %<span style=\"font-weight: bold\">)</span>\n",
       "</pre>\n"
      ],
      "text/plain": [
       "sub-SLC04_ses-3_run-\u001b[1;36m3\u001b[0m, present \u001b[1m(\u001b[0mnot nan ROIs\u001b[1m)\u001b[0m = \u001b[1;36m5789\u001b[0m \u001b[1m(\u001b[0m\u001b[1;36m96.2\u001b[0m %\u001b[1m)\u001b[0m\n"
      ]
     },
     "metadata": {},
     "output_type": "display_data"
    },
    {
     "data": {
      "text/html": [
       "<pre style=\"white-space:pre;overflow-x:auto;line-height:normal;font-family:Menlo,'DejaVu Sans Mono',consolas,'Courier New',monospace\">sub-SLC04_ses-3_run-<span style=\"color: #008080; text-decoration-color: #008080; font-weight: bold\">5</span>, present <span style=\"font-weight: bold\">(</span>not nan ROIs<span style=\"font-weight: bold\">)</span> = <span style=\"color: #008080; text-decoration-color: #008080; font-weight: bold\">5794</span> <span style=\"font-weight: bold\">(</span><span style=\"color: #008080; text-decoration-color: #008080; font-weight: bold\">96.3</span> %<span style=\"font-weight: bold\">)</span>\n",
       "</pre>\n"
      ],
      "text/plain": [
       "sub-SLC04_ses-3_run-\u001b[1;36m5\u001b[0m, present \u001b[1m(\u001b[0mnot nan ROIs\u001b[1m)\u001b[0m = \u001b[1;36m5794\u001b[0m \u001b[1m(\u001b[0m\u001b[1;36m96.3\u001b[0m %\u001b[1m)\u001b[0m\n"
      ]
     },
     "metadata": {},
     "output_type": "display_data"
    },
    {
     "data": {
      "text/html": [
       "<pre style=\"white-space:pre;overflow-x:auto;line-height:normal;font-family:Menlo,'DejaVu Sans Mono',consolas,'Courier New',monospace\">sub-SLC04_ses-3_run-<span style=\"color: #008080; text-decoration-color: #008080; font-weight: bold\">7</span>, present <span style=\"font-weight: bold\">(</span>not nan ROIs<span style=\"font-weight: bold\">)</span> = <span style=\"color: #008080; text-decoration-color: #008080; font-weight: bold\">5794</span> <span style=\"font-weight: bold\">(</span><span style=\"color: #008080; text-decoration-color: #008080; font-weight: bold\">96.3</span> %<span style=\"font-weight: bold\">)</span>\n",
       "</pre>\n"
      ],
      "text/plain": [
       "sub-SLC04_ses-3_run-\u001b[1;36m7\u001b[0m, present \u001b[1m(\u001b[0mnot nan ROIs\u001b[1m)\u001b[0m = \u001b[1;36m5794\u001b[0m \u001b[1m(\u001b[0m\u001b[1;36m96.3\u001b[0m %\u001b[1m)\u001b[0m\n"
      ]
     },
     "metadata": {},
     "output_type": "display_data"
    },
    {
     "data": {
      "text/html": [
       "<pre style=\"white-space:pre;overflow-x:auto;line-height:normal;font-family:Menlo,'DejaVu Sans Mono',consolas,'Courier New',monospace\">sub-SLC05_ses-1_run-<span style=\"color: #008080; text-decoration-color: #008080; font-weight: bold\">1</span>, present <span style=\"font-weight: bold\">(</span>not nan ROIs<span style=\"font-weight: bold\">)</span> = <span style=\"color: #008080; text-decoration-color: #008080; font-weight: bold\">5758</span> <span style=\"font-weight: bold\">(</span><span style=\"color: #008080; text-decoration-color: #008080; font-weight: bold\">95.7</span> %<span style=\"font-weight: bold\">)</span>\n",
       "</pre>\n"
      ],
      "text/plain": [
       "sub-SLC05_ses-1_run-\u001b[1;36m1\u001b[0m, present \u001b[1m(\u001b[0mnot nan ROIs\u001b[1m)\u001b[0m = \u001b[1;36m5758\u001b[0m \u001b[1m(\u001b[0m\u001b[1;36m95.7\u001b[0m %\u001b[1m)\u001b[0m\n"
      ]
     },
     "metadata": {},
     "output_type": "display_data"
    },
    {
     "data": {
      "text/html": [
       "<pre style=\"white-space:pre;overflow-x:auto;line-height:normal;font-family:Menlo,'DejaVu Sans Mono',consolas,'Courier New',monospace\">sub-SLC05_ses-1_run-<span style=\"color: #008080; text-decoration-color: #008080; font-weight: bold\">3</span>, present <span style=\"font-weight: bold\">(</span>not nan ROIs<span style=\"font-weight: bold\">)</span> = <span style=\"color: #008080; text-decoration-color: #008080; font-weight: bold\">5756</span> <span style=\"font-weight: bold\">(</span><span style=\"color: #008080; text-decoration-color: #008080; font-weight: bold\">95.7</span> %<span style=\"font-weight: bold\">)</span>\n",
       "</pre>\n"
      ],
      "text/plain": [
       "sub-SLC05_ses-1_run-\u001b[1;36m3\u001b[0m, present \u001b[1m(\u001b[0mnot nan ROIs\u001b[1m)\u001b[0m = \u001b[1;36m5756\u001b[0m \u001b[1m(\u001b[0m\u001b[1;36m95.7\u001b[0m %\u001b[1m)\u001b[0m\n"
      ]
     },
     "metadata": {},
     "output_type": "display_data"
    },
    {
     "data": {
      "text/html": [
       "<pre style=\"white-space:pre;overflow-x:auto;line-height:normal;font-family:Menlo,'DejaVu Sans Mono',consolas,'Courier New',monospace\">sub-SLC05_ses-1_run-<span style=\"color: #008080; text-decoration-color: #008080; font-weight: bold\">7</span>, present <span style=\"font-weight: bold\">(</span>not nan ROIs<span style=\"font-weight: bold\">)</span> = <span style=\"color: #008080; text-decoration-color: #008080; font-weight: bold\">5753</span> <span style=\"font-weight: bold\">(</span><span style=\"color: #008080; text-decoration-color: #008080; font-weight: bold\">95.6</span> %<span style=\"font-weight: bold\">)</span>\n",
       "</pre>\n"
      ],
      "text/plain": [
       "sub-SLC05_ses-1_run-\u001b[1;36m7\u001b[0m, present \u001b[1m(\u001b[0mnot nan ROIs\u001b[1m)\u001b[0m = \u001b[1;36m5753\u001b[0m \u001b[1m(\u001b[0m\u001b[1;36m95.6\u001b[0m %\u001b[1m)\u001b[0m\n"
      ]
     },
     "metadata": {},
     "output_type": "display_data"
    },
    {
     "data": {
      "text/html": [
       "<pre style=\"white-space:pre;overflow-x:auto;line-height:normal;font-family:Menlo,'DejaVu Sans Mono',consolas,'Courier New',monospace\">sub-SLC05_ses-2_run-<span style=\"color: #008080; text-decoration-color: #008080; font-weight: bold\">1</span>, present <span style=\"font-weight: bold\">(</span>not nan ROIs<span style=\"font-weight: bold\">)</span> = <span style=\"color: #008080; text-decoration-color: #008080; font-weight: bold\">5863</span> <span style=\"font-weight: bold\">(</span><span style=\"color: #008080; text-decoration-color: #008080; font-weight: bold\">97.4</span> %<span style=\"font-weight: bold\">)</span>\n",
       "</pre>\n"
      ],
      "text/plain": [
       "sub-SLC05_ses-2_run-\u001b[1;36m1\u001b[0m, present \u001b[1m(\u001b[0mnot nan ROIs\u001b[1m)\u001b[0m = \u001b[1;36m5863\u001b[0m \u001b[1m(\u001b[0m\u001b[1;36m97.4\u001b[0m %\u001b[1m)\u001b[0m\n"
      ]
     },
     "metadata": {},
     "output_type": "display_data"
    },
    {
     "data": {
      "text/html": [
       "<pre style=\"white-space:pre;overflow-x:auto;line-height:normal;font-family:Menlo,'DejaVu Sans Mono',consolas,'Courier New',monospace\">sub-SLC05_ses-2_run-<span style=\"color: #008080; text-decoration-color: #008080; font-weight: bold\">3</span>, present <span style=\"font-weight: bold\">(</span>not nan ROIs<span style=\"font-weight: bold\">)</span> = <span style=\"color: #008080; text-decoration-color: #008080; font-weight: bold\">5869</span> <span style=\"font-weight: bold\">(</span><span style=\"color: #008080; text-decoration-color: #008080; font-weight: bold\">97.5</span> %<span style=\"font-weight: bold\">)</span>\n",
       "</pre>\n"
      ],
      "text/plain": [
       "sub-SLC05_ses-2_run-\u001b[1;36m3\u001b[0m, present \u001b[1m(\u001b[0mnot nan ROIs\u001b[1m)\u001b[0m = \u001b[1;36m5869\u001b[0m \u001b[1m(\u001b[0m\u001b[1;36m97.5\u001b[0m %\u001b[1m)\u001b[0m\n"
      ]
     },
     "metadata": {},
     "output_type": "display_data"
    },
    {
     "data": {
      "text/html": [
       "<pre style=\"white-space:pre;overflow-x:auto;line-height:normal;font-family:Menlo,'DejaVu Sans Mono',consolas,'Courier New',monospace\">sub-SLC05_ses-2_run-<span style=\"color: #008080; text-decoration-color: #008080; font-weight: bold\">5</span>, present <span style=\"font-weight: bold\">(</span>not nan ROIs<span style=\"font-weight: bold\">)</span> = <span style=\"color: #008080; text-decoration-color: #008080; font-weight: bold\">5867</span> <span style=\"font-weight: bold\">(</span><span style=\"color: #008080; text-decoration-color: #008080; font-weight: bold\">97.5</span> %<span style=\"font-weight: bold\">)</span>\n",
       "</pre>\n"
      ],
      "text/plain": [
       "sub-SLC05_ses-2_run-\u001b[1;36m5\u001b[0m, present \u001b[1m(\u001b[0mnot nan ROIs\u001b[1m)\u001b[0m = \u001b[1;36m5867\u001b[0m \u001b[1m(\u001b[0m\u001b[1;36m97.5\u001b[0m %\u001b[1m)\u001b[0m\n"
      ]
     },
     "metadata": {},
     "output_type": "display_data"
    },
    {
     "data": {
      "text/html": [
       "<pre style=\"white-space:pre;overflow-x:auto;line-height:normal;font-family:Menlo,'DejaVu Sans Mono',consolas,'Courier New',monospace\">sub-SLC05_ses-2_run-<span style=\"color: #008080; text-decoration-color: #008080; font-weight: bold\">7</span>, present <span style=\"font-weight: bold\">(</span>not nan ROIs<span style=\"font-weight: bold\">)</span> = <span style=\"color: #008080; text-decoration-color: #008080; font-weight: bold\">5869</span> <span style=\"font-weight: bold\">(</span><span style=\"color: #008080; text-decoration-color: #008080; font-weight: bold\">97.5</span> %<span style=\"font-weight: bold\">)</span>\n",
       "</pre>\n"
      ],
      "text/plain": [
       "sub-SLC05_ses-2_run-\u001b[1;36m7\u001b[0m, present \u001b[1m(\u001b[0mnot nan ROIs\u001b[1m)\u001b[0m = \u001b[1;36m5869\u001b[0m \u001b[1m(\u001b[0m\u001b[1;36m97.5\u001b[0m %\u001b[1m)\u001b[0m\n"
      ]
     },
     "metadata": {},
     "output_type": "display_data"
    },
    {
     "data": {
      "text/html": [
       "<pre style=\"white-space:pre;overflow-x:auto;line-height:normal;font-family:Menlo,'DejaVu Sans Mono',consolas,'Courier New',monospace\">sub-SLC05_ses-3_run-<span style=\"color: #008080; text-decoration-color: #008080; font-weight: bold\">1</span>, present <span style=\"font-weight: bold\">(</span>not nan ROIs<span style=\"font-weight: bold\">)</span> = <span style=\"color: #008080; text-decoration-color: #008080; font-weight: bold\">5660</span> <span style=\"font-weight: bold\">(</span><span style=\"color: #008080; text-decoration-color: #008080; font-weight: bold\">94.1</span> %<span style=\"font-weight: bold\">)</span>\n",
       "</pre>\n"
      ],
      "text/plain": [
       "sub-SLC05_ses-3_run-\u001b[1;36m1\u001b[0m, present \u001b[1m(\u001b[0mnot nan ROIs\u001b[1m)\u001b[0m = \u001b[1;36m5660\u001b[0m \u001b[1m(\u001b[0m\u001b[1;36m94.1\u001b[0m %\u001b[1m)\u001b[0m\n"
      ]
     },
     "metadata": {},
     "output_type": "display_data"
    },
    {
     "data": {
      "text/html": [
       "<pre style=\"white-space:pre;overflow-x:auto;line-height:normal;font-family:Menlo,'DejaVu Sans Mono',consolas,'Courier New',monospace\">sub-SLC05_ses-3_run-<span style=\"color: #008080; text-decoration-color: #008080; font-weight: bold\">3</span>, present <span style=\"font-weight: bold\">(</span>not nan ROIs<span style=\"font-weight: bold\">)</span> = <span style=\"color: #008080; text-decoration-color: #008080; font-weight: bold\">5661</span> <span style=\"font-weight: bold\">(</span><span style=\"color: #008080; text-decoration-color: #008080; font-weight: bold\">94.1</span> %<span style=\"font-weight: bold\">)</span>\n",
       "</pre>\n"
      ],
      "text/plain": [
       "sub-SLC05_ses-3_run-\u001b[1;36m3\u001b[0m, present \u001b[1m(\u001b[0mnot nan ROIs\u001b[1m)\u001b[0m = \u001b[1;36m5661\u001b[0m \u001b[1m(\u001b[0m\u001b[1;36m94.1\u001b[0m %\u001b[1m)\u001b[0m\n"
      ]
     },
     "metadata": {},
     "output_type": "display_data"
    },
    {
     "data": {
      "text/html": [
       "<pre style=\"white-space:pre;overflow-x:auto;line-height:normal;font-family:Menlo,'DejaVu Sans Mono',consolas,'Courier New',monospace\">sub-SLC05_ses-3_run-<span style=\"color: #008080; text-decoration-color: #008080; font-weight: bold\">5</span>, present <span style=\"font-weight: bold\">(</span>not nan ROIs<span style=\"font-weight: bold\">)</span> = <span style=\"color: #008080; text-decoration-color: #008080; font-weight: bold\">5656</span> <span style=\"font-weight: bold\">(</span><span style=\"color: #008080; text-decoration-color: #008080; font-weight: bold\">94.0</span> %<span style=\"font-weight: bold\">)</span>\n",
       "</pre>\n"
      ],
      "text/plain": [
       "sub-SLC05_ses-3_run-\u001b[1;36m5\u001b[0m, present \u001b[1m(\u001b[0mnot nan ROIs\u001b[1m)\u001b[0m = \u001b[1;36m5656\u001b[0m \u001b[1m(\u001b[0m\u001b[1;36m94.0\u001b[0m %\u001b[1m)\u001b[0m\n"
      ]
     },
     "metadata": {},
     "output_type": "display_data"
    },
    {
     "data": {
      "text/html": [
       "<pre style=\"white-space:pre;overflow-x:auto;line-height:normal;font-family:Menlo,'DejaVu Sans Mono',consolas,'Courier New',monospace\">sub-SLC05_ses-3_run-<span style=\"color: #008080; text-decoration-color: #008080; font-weight: bold\">7</span>, present <span style=\"font-weight: bold\">(</span>not nan ROIs<span style=\"font-weight: bold\">)</span> = <span style=\"color: #008080; text-decoration-color: #008080; font-weight: bold\">5659</span> <span style=\"font-weight: bold\">(</span><span style=\"color: #008080; text-decoration-color: #008080; font-weight: bold\">94.1</span> %<span style=\"font-weight: bold\">)</span>\n",
       "</pre>\n"
      ],
      "text/plain": [
       "sub-SLC05_ses-3_run-\u001b[1;36m7\u001b[0m, present \u001b[1m(\u001b[0mnot nan ROIs\u001b[1m)\u001b[0m = \u001b[1;36m5659\u001b[0m \u001b[1m(\u001b[0m\u001b[1;36m94.1\u001b[0m %\u001b[1m)\u001b[0m\n"
      ]
     },
     "metadata": {},
     "output_type": "display_data"
    },
    {
     "data": {
      "text/html": [
       "<pre style=\"white-space:pre;overflow-x:auto;line-height:normal;font-family:Menlo,'DejaVu Sans Mono',consolas,'Courier New',monospace\">sub-SLC06_ses-1_run-<span style=\"color: #008080; text-decoration-color: #008080; font-weight: bold\">1</span>, present <span style=\"font-weight: bold\">(</span>not nan ROIs<span style=\"font-weight: bold\">)</span> = <span style=\"color: #008080; text-decoration-color: #008080; font-weight: bold\">5710</span> <span style=\"font-weight: bold\">(</span><span style=\"color: #008080; text-decoration-color: #008080; font-weight: bold\">94.9</span> %<span style=\"font-weight: bold\">)</span>\n",
       "</pre>\n"
      ],
      "text/plain": [
       "sub-SLC06_ses-1_run-\u001b[1;36m1\u001b[0m, present \u001b[1m(\u001b[0mnot nan ROIs\u001b[1m)\u001b[0m = \u001b[1;36m5710\u001b[0m \u001b[1m(\u001b[0m\u001b[1;36m94.9\u001b[0m %\u001b[1m)\u001b[0m\n"
      ]
     },
     "metadata": {},
     "output_type": "display_data"
    },
    {
     "data": {
      "text/html": [
       "<pre style=\"white-space:pre;overflow-x:auto;line-height:normal;font-family:Menlo,'DejaVu Sans Mono',consolas,'Courier New',monospace\">sub-SLC06_ses-1_run-<span style=\"color: #008080; text-decoration-color: #008080; font-weight: bold\">3</span>, present <span style=\"font-weight: bold\">(</span>not nan ROIs<span style=\"font-weight: bold\">)</span> = <span style=\"color: #008080; text-decoration-color: #008080; font-weight: bold\">5721</span> <span style=\"font-weight: bold\">(</span><span style=\"color: #008080; text-decoration-color: #008080; font-weight: bold\">95.1</span> %<span style=\"font-weight: bold\">)</span>\n",
       "</pre>\n"
      ],
      "text/plain": [
       "sub-SLC06_ses-1_run-\u001b[1;36m3\u001b[0m, present \u001b[1m(\u001b[0mnot nan ROIs\u001b[1m)\u001b[0m = \u001b[1;36m5721\u001b[0m \u001b[1m(\u001b[0m\u001b[1;36m95.1\u001b[0m %\u001b[1m)\u001b[0m\n"
      ]
     },
     "metadata": {},
     "output_type": "display_data"
    },
    {
     "data": {
      "text/html": [
       "<pre style=\"white-space:pre;overflow-x:auto;line-height:normal;font-family:Menlo,'DejaVu Sans Mono',consolas,'Courier New',monospace\">sub-SLC06_ses-1_run-<span style=\"color: #008080; text-decoration-color: #008080; font-weight: bold\">5</span>, present <span style=\"font-weight: bold\">(</span>not nan ROIs<span style=\"font-weight: bold\">)</span> = <span style=\"color: #008080; text-decoration-color: #008080; font-weight: bold\">5716</span> <span style=\"font-weight: bold\">(</span><span style=\"color: #008080; text-decoration-color: #008080; font-weight: bold\">95.0</span> %<span style=\"font-weight: bold\">)</span>\n",
       "</pre>\n"
      ],
      "text/plain": [
       "sub-SLC06_ses-1_run-\u001b[1;36m5\u001b[0m, present \u001b[1m(\u001b[0mnot nan ROIs\u001b[1m)\u001b[0m = \u001b[1;36m5716\u001b[0m \u001b[1m(\u001b[0m\u001b[1;36m95.0\u001b[0m %\u001b[1m)\u001b[0m\n"
      ]
     },
     "metadata": {},
     "output_type": "display_data"
    },
    {
     "data": {
      "text/html": [
       "<pre style=\"white-space:pre;overflow-x:auto;line-height:normal;font-family:Menlo,'DejaVu Sans Mono',consolas,'Courier New',monospace\">sub-SLC06_ses-1_run-<span style=\"color: #008080; text-decoration-color: #008080; font-weight: bold\">7</span>, present <span style=\"font-weight: bold\">(</span>not nan ROIs<span style=\"font-weight: bold\">)</span> = <span style=\"color: #008080; text-decoration-color: #008080; font-weight: bold\">5708</span> <span style=\"font-weight: bold\">(</span><span style=\"color: #008080; text-decoration-color: #008080; font-weight: bold\">94.9</span> %<span style=\"font-weight: bold\">)</span>\n",
       "</pre>\n"
      ],
      "text/plain": [
       "sub-SLC06_ses-1_run-\u001b[1;36m7\u001b[0m, present \u001b[1m(\u001b[0mnot nan ROIs\u001b[1m)\u001b[0m = \u001b[1;36m5708\u001b[0m \u001b[1m(\u001b[0m\u001b[1;36m94.9\u001b[0m %\u001b[1m)\u001b[0m\n"
      ]
     },
     "metadata": {},
     "output_type": "display_data"
    },
    {
     "data": {
      "text/html": [
       "<pre style=\"white-space:pre;overflow-x:auto;line-height:normal;font-family:Menlo,'DejaVu Sans Mono',consolas,'Courier New',monospace\">sub-SLC06_ses-2_run-<span style=\"color: #008080; text-decoration-color: #008080; font-weight: bold\">1</span>, present <span style=\"font-weight: bold\">(</span>not nan ROIs<span style=\"font-weight: bold\">)</span> = <span style=\"color: #008080; text-decoration-color: #008080; font-weight: bold\">5875</span> <span style=\"font-weight: bold\">(</span><span style=\"color: #008080; text-decoration-color: #008080; font-weight: bold\">97.6</span> %<span style=\"font-weight: bold\">)</span>\n",
       "</pre>\n"
      ],
      "text/plain": [
       "sub-SLC06_ses-2_run-\u001b[1;36m1\u001b[0m, present \u001b[1m(\u001b[0mnot nan ROIs\u001b[1m)\u001b[0m = \u001b[1;36m5875\u001b[0m \u001b[1m(\u001b[0m\u001b[1;36m97.6\u001b[0m %\u001b[1m)\u001b[0m\n"
      ]
     },
     "metadata": {},
     "output_type": "display_data"
    },
    {
     "data": {
      "text/html": [
       "<pre style=\"white-space:pre;overflow-x:auto;line-height:normal;font-family:Menlo,'DejaVu Sans Mono',consolas,'Courier New',monospace\">sub-SLC06_ses-2_run-<span style=\"color: #008080; text-decoration-color: #008080; font-weight: bold\">3</span>, present <span style=\"font-weight: bold\">(</span>not nan ROIs<span style=\"font-weight: bold\">)</span> = <span style=\"color: #008080; text-decoration-color: #008080; font-weight: bold\">5885</span> <span style=\"font-weight: bold\">(</span><span style=\"color: #008080; text-decoration-color: #008080; font-weight: bold\">97.8</span> %<span style=\"font-weight: bold\">)</span>\n",
       "</pre>\n"
      ],
      "text/plain": [
       "sub-SLC06_ses-2_run-\u001b[1;36m3\u001b[0m, present \u001b[1m(\u001b[0mnot nan ROIs\u001b[1m)\u001b[0m = \u001b[1;36m5885\u001b[0m \u001b[1m(\u001b[0m\u001b[1;36m97.8\u001b[0m %\u001b[1m)\u001b[0m\n"
      ]
     },
     "metadata": {},
     "output_type": "display_data"
    },
    {
     "data": {
      "text/html": [
       "<pre style=\"white-space:pre;overflow-x:auto;line-height:normal;font-family:Menlo,'DejaVu Sans Mono',consolas,'Courier New',monospace\">sub-SLC06_ses-2_run-<span style=\"color: #008080; text-decoration-color: #008080; font-weight: bold\">5</span>, present <span style=\"font-weight: bold\">(</span>not nan ROIs<span style=\"font-weight: bold\">)</span> = <span style=\"color: #008080; text-decoration-color: #008080; font-weight: bold\">5889</span> <span style=\"font-weight: bold\">(</span><span style=\"color: #008080; text-decoration-color: #008080; font-weight: bold\">97.9</span> %<span style=\"font-weight: bold\">)</span>\n",
       "</pre>\n"
      ],
      "text/plain": [
       "sub-SLC06_ses-2_run-\u001b[1;36m5\u001b[0m, present \u001b[1m(\u001b[0mnot nan ROIs\u001b[1m)\u001b[0m = \u001b[1;36m5889\u001b[0m \u001b[1m(\u001b[0m\u001b[1;36m97.9\u001b[0m %\u001b[1m)\u001b[0m\n"
      ]
     },
     "metadata": {},
     "output_type": "display_data"
    },
    {
     "data": {
      "text/html": [
       "<pre style=\"white-space:pre;overflow-x:auto;line-height:normal;font-family:Menlo,'DejaVu Sans Mono',consolas,'Courier New',monospace\">sub-SLC06_ses-2_run-<span style=\"color: #008080; text-decoration-color: #008080; font-weight: bold\">7</span>, present <span style=\"font-weight: bold\">(</span>not nan ROIs<span style=\"font-weight: bold\">)</span> = <span style=\"color: #008080; text-decoration-color: #008080; font-weight: bold\">5888</span> <span style=\"font-weight: bold\">(</span><span style=\"color: #008080; text-decoration-color: #008080; font-weight: bold\">97.9</span> %<span style=\"font-weight: bold\">)</span>\n",
       "</pre>\n"
      ],
      "text/plain": [
       "sub-SLC06_ses-2_run-\u001b[1;36m7\u001b[0m, present \u001b[1m(\u001b[0mnot nan ROIs\u001b[1m)\u001b[0m = \u001b[1;36m5888\u001b[0m \u001b[1m(\u001b[0m\u001b[1;36m97.9\u001b[0m %\u001b[1m)\u001b[0m\n"
      ]
     },
     "metadata": {},
     "output_type": "display_data"
    },
    {
     "data": {
      "text/html": [
       "<pre style=\"white-space:pre;overflow-x:auto;line-height:normal;font-family:Menlo,'DejaVu Sans Mono',consolas,'Courier New',monospace\">sub-SLC06_ses-3_run-<span style=\"color: #008080; text-decoration-color: #008080; font-weight: bold\">1</span>, present <span style=\"font-weight: bold\">(</span>not nan ROIs<span style=\"font-weight: bold\">)</span> = <span style=\"color: #008080; text-decoration-color: #008080; font-weight: bold\">5849</span> <span style=\"font-weight: bold\">(</span><span style=\"color: #008080; text-decoration-color: #008080; font-weight: bold\">97.2</span> %<span style=\"font-weight: bold\">)</span>\n",
       "</pre>\n"
      ],
      "text/plain": [
       "sub-SLC06_ses-3_run-\u001b[1;36m1\u001b[0m, present \u001b[1m(\u001b[0mnot nan ROIs\u001b[1m)\u001b[0m = \u001b[1;36m5849\u001b[0m \u001b[1m(\u001b[0m\u001b[1;36m97.2\u001b[0m %\u001b[1m)\u001b[0m\n"
      ]
     },
     "metadata": {},
     "output_type": "display_data"
    },
    {
     "data": {
      "text/html": [
       "<pre style=\"white-space:pre;overflow-x:auto;line-height:normal;font-family:Menlo,'DejaVu Sans Mono',consolas,'Courier New',monospace\">sub-SLC06_ses-3_run-<span style=\"color: #008080; text-decoration-color: #008080; font-weight: bold\">3</span>, present <span style=\"font-weight: bold\">(</span>not nan ROIs<span style=\"font-weight: bold\">)</span> = <span style=\"color: #008080; text-decoration-color: #008080; font-weight: bold\">5856</span> <span style=\"font-weight: bold\">(</span><span style=\"color: #008080; text-decoration-color: #008080; font-weight: bold\">97.3</span> %<span style=\"font-weight: bold\">)</span>\n",
       "</pre>\n"
      ],
      "text/plain": [
       "sub-SLC06_ses-3_run-\u001b[1;36m3\u001b[0m, present \u001b[1m(\u001b[0mnot nan ROIs\u001b[1m)\u001b[0m = \u001b[1;36m5856\u001b[0m \u001b[1m(\u001b[0m\u001b[1;36m97.3\u001b[0m %\u001b[1m)\u001b[0m\n"
      ]
     },
     "metadata": {},
     "output_type": "display_data"
    },
    {
     "data": {
      "text/html": [
       "<pre style=\"white-space:pre;overflow-x:auto;line-height:normal;font-family:Menlo,'DejaVu Sans Mono',consolas,'Courier New',monospace\">sub-SLC06_ses-3_run-<span style=\"color: #008080; text-decoration-color: #008080; font-weight: bold\">5</span>, present <span style=\"font-weight: bold\">(</span>not nan ROIs<span style=\"font-weight: bold\">)</span> = <span style=\"color: #008080; text-decoration-color: #008080; font-weight: bold\">5858</span> <span style=\"font-weight: bold\">(</span><span style=\"color: #008080; text-decoration-color: #008080; font-weight: bold\">97.4</span> %<span style=\"font-weight: bold\">)</span>\n",
       "</pre>\n"
      ],
      "text/plain": [
       "sub-SLC06_ses-3_run-\u001b[1;36m5\u001b[0m, present \u001b[1m(\u001b[0mnot nan ROIs\u001b[1m)\u001b[0m = \u001b[1;36m5858\u001b[0m \u001b[1m(\u001b[0m\u001b[1;36m97.4\u001b[0m %\u001b[1m)\u001b[0m\n"
      ]
     },
     "metadata": {},
     "output_type": "display_data"
    },
    {
     "data": {
      "text/html": [
       "<pre style=\"white-space:pre;overflow-x:auto;line-height:normal;font-family:Menlo,'DejaVu Sans Mono',consolas,'Courier New',monospace\">sub-SLC06_ses-3_run-<span style=\"color: #008080; text-decoration-color: #008080; font-weight: bold\">7</span>, present <span style=\"font-weight: bold\">(</span>not nan ROIs<span style=\"font-weight: bold\">)</span> = <span style=\"color: #008080; text-decoration-color: #008080; font-weight: bold\">5858</span> <span style=\"font-weight: bold\">(</span><span style=\"color: #008080; text-decoration-color: #008080; font-weight: bold\">97.4</span> %<span style=\"font-weight: bold\">)</span>\n",
       "</pre>\n"
      ],
      "text/plain": [
       "sub-SLC06_ses-3_run-\u001b[1;36m7\u001b[0m, present \u001b[1m(\u001b[0mnot nan ROIs\u001b[1m)\u001b[0m = \u001b[1;36m5858\u001b[0m \u001b[1m(\u001b[0m\u001b[1;36m97.4\u001b[0m %\u001b[1m)\u001b[0m\n"
      ]
     },
     "metadata": {},
     "output_type": "display_data"
    },
    {
     "data": {
      "text/html": [
       "<pre style=\"white-space:pre;overflow-x:auto;line-height:normal;font-family:Menlo,'DejaVu Sans Mono',consolas,'Courier New',monospace\">sub-SLC07_ses-1_run-<span style=\"color: #008080; text-decoration-color: #008080; font-weight: bold\">1</span>, present <span style=\"font-weight: bold\">(</span>not nan ROIs<span style=\"font-weight: bold\">)</span> = <span style=\"color: #008080; text-decoration-color: #008080; font-weight: bold\">5654</span> <span style=\"font-weight: bold\">(</span><span style=\"color: #008080; text-decoration-color: #008080; font-weight: bold\">94.0</span> %<span style=\"font-weight: bold\">)</span>\n",
       "</pre>\n"
      ],
      "text/plain": [
       "sub-SLC07_ses-1_run-\u001b[1;36m1\u001b[0m, present \u001b[1m(\u001b[0mnot nan ROIs\u001b[1m)\u001b[0m = \u001b[1;36m5654\u001b[0m \u001b[1m(\u001b[0m\u001b[1;36m94.0\u001b[0m %\u001b[1m)\u001b[0m\n"
      ]
     },
     "metadata": {},
     "output_type": "display_data"
    },
    {
     "data": {
      "text/html": [
       "<pre style=\"white-space:pre;overflow-x:auto;line-height:normal;font-family:Menlo,'DejaVu Sans Mono',consolas,'Courier New',monospace\">sub-SLC07_ses-1_run-<span style=\"color: #008080; text-decoration-color: #008080; font-weight: bold\">3</span>, present <span style=\"font-weight: bold\">(</span>not nan ROIs<span style=\"font-weight: bold\">)</span> = <span style=\"color: #008080; text-decoration-color: #008080; font-weight: bold\">5646</span> <span style=\"font-weight: bold\">(</span><span style=\"color: #008080; text-decoration-color: #008080; font-weight: bold\">93.8</span> %<span style=\"font-weight: bold\">)</span>\n",
       "</pre>\n"
      ],
      "text/plain": [
       "sub-SLC07_ses-1_run-\u001b[1;36m3\u001b[0m, present \u001b[1m(\u001b[0mnot nan ROIs\u001b[1m)\u001b[0m = \u001b[1;36m5646\u001b[0m \u001b[1m(\u001b[0m\u001b[1;36m93.8\u001b[0m %\u001b[1m)\u001b[0m\n"
      ]
     },
     "metadata": {},
     "output_type": "display_data"
    },
    {
     "data": {
      "text/html": [
       "<pre style=\"white-space:pre;overflow-x:auto;line-height:normal;font-family:Menlo,'DejaVu Sans Mono',consolas,'Courier New',monospace\">sub-SLC07_ses-1_run-<span style=\"color: #008080; text-decoration-color: #008080; font-weight: bold\">5</span>, present <span style=\"font-weight: bold\">(</span>not nan ROIs<span style=\"font-weight: bold\">)</span> = <span style=\"color: #008080; text-decoration-color: #008080; font-weight: bold\">5648</span> <span style=\"font-weight: bold\">(</span><span style=\"color: #008080; text-decoration-color: #008080; font-weight: bold\">93.9</span> %<span style=\"font-weight: bold\">)</span>\n",
       "</pre>\n"
      ],
      "text/plain": [
       "sub-SLC07_ses-1_run-\u001b[1;36m5\u001b[0m, present \u001b[1m(\u001b[0mnot nan ROIs\u001b[1m)\u001b[0m = \u001b[1;36m5648\u001b[0m \u001b[1m(\u001b[0m\u001b[1;36m93.9\u001b[0m %\u001b[1m)\u001b[0m\n"
      ]
     },
     "metadata": {},
     "output_type": "display_data"
    },
    {
     "data": {
      "text/html": [
       "<pre style=\"white-space:pre;overflow-x:auto;line-height:normal;font-family:Menlo,'DejaVu Sans Mono',consolas,'Courier New',monospace\">sub-SLC07_ses-1_run-<span style=\"color: #008080; text-decoration-color: #008080; font-weight: bold\">7</span>, present <span style=\"font-weight: bold\">(</span>not nan ROIs<span style=\"font-weight: bold\">)</span> = <span style=\"color: #008080; text-decoration-color: #008080; font-weight: bold\">5649</span> <span style=\"font-weight: bold\">(</span><span style=\"color: #008080; text-decoration-color: #008080; font-weight: bold\">93.9</span> %<span style=\"font-weight: bold\">)</span>\n",
       "</pre>\n"
      ],
      "text/plain": [
       "sub-SLC07_ses-1_run-\u001b[1;36m7\u001b[0m, present \u001b[1m(\u001b[0mnot nan ROIs\u001b[1m)\u001b[0m = \u001b[1;36m5649\u001b[0m \u001b[1m(\u001b[0m\u001b[1;36m93.9\u001b[0m %\u001b[1m)\u001b[0m\n"
      ]
     },
     "metadata": {},
     "output_type": "display_data"
    },
    {
     "data": {
      "text/html": [
       "<pre style=\"white-space:pre;overflow-x:auto;line-height:normal;font-family:Menlo,'DejaVu Sans Mono',consolas,'Courier New',monospace\">sub-SLC07_ses-2_run-<span style=\"color: #008080; text-decoration-color: #008080; font-weight: bold\">3</span>, present <span style=\"font-weight: bold\">(</span>not nan ROIs<span style=\"font-weight: bold\">)</span> = <span style=\"color: #008080; text-decoration-color: #008080; font-weight: bold\">5880</span> <span style=\"font-weight: bold\">(</span><span style=\"color: #008080; text-decoration-color: #008080; font-weight: bold\">97.7</span> %<span style=\"font-weight: bold\">)</span>\n",
       "</pre>\n"
      ],
      "text/plain": [
       "sub-SLC07_ses-2_run-\u001b[1;36m3\u001b[0m, present \u001b[1m(\u001b[0mnot nan ROIs\u001b[1m)\u001b[0m = \u001b[1;36m5880\u001b[0m \u001b[1m(\u001b[0m\u001b[1;36m97.7\u001b[0m %\u001b[1m)\u001b[0m\n"
      ]
     },
     "metadata": {},
     "output_type": "display_data"
    },
    {
     "data": {
      "text/html": [
       "<pre style=\"white-space:pre;overflow-x:auto;line-height:normal;font-family:Menlo,'DejaVu Sans Mono',consolas,'Courier New',monospace\">sub-SLC07_ses-2_run-<span style=\"color: #008080; text-decoration-color: #008080; font-weight: bold\">5</span>, present <span style=\"font-weight: bold\">(</span>not nan ROIs<span style=\"font-weight: bold\">)</span> = <span style=\"color: #008080; text-decoration-color: #008080; font-weight: bold\">5879</span> <span style=\"font-weight: bold\">(</span><span style=\"color: #008080; text-decoration-color: #008080; font-weight: bold\">97.7</span> %<span style=\"font-weight: bold\">)</span>\n",
       "</pre>\n"
      ],
      "text/plain": [
       "sub-SLC07_ses-2_run-\u001b[1;36m5\u001b[0m, present \u001b[1m(\u001b[0mnot nan ROIs\u001b[1m)\u001b[0m = \u001b[1;36m5879\u001b[0m \u001b[1m(\u001b[0m\u001b[1;36m97.7\u001b[0m %\u001b[1m)\u001b[0m\n"
      ]
     },
     "metadata": {},
     "output_type": "display_data"
    },
    {
     "data": {
      "text/html": [
       "<pre style=\"white-space:pre;overflow-x:auto;line-height:normal;font-family:Menlo,'DejaVu Sans Mono',consolas,'Courier New',monospace\">sub-SLC07_ses-2_run-<span style=\"color: #008080; text-decoration-color: #008080; font-weight: bold\">7</span>, present <span style=\"font-weight: bold\">(</span>not nan ROIs<span style=\"font-weight: bold\">)</span> = <span style=\"color: #008080; text-decoration-color: #008080; font-weight: bold\">5880</span> <span style=\"font-weight: bold\">(</span><span style=\"color: #008080; text-decoration-color: #008080; font-weight: bold\">97.7</span> %<span style=\"font-weight: bold\">)</span>\n",
       "</pre>\n"
      ],
      "text/plain": [
       "sub-SLC07_ses-2_run-\u001b[1;36m7\u001b[0m, present \u001b[1m(\u001b[0mnot nan ROIs\u001b[1m)\u001b[0m = \u001b[1;36m5880\u001b[0m \u001b[1m(\u001b[0m\u001b[1;36m97.7\u001b[0m %\u001b[1m)\u001b[0m\n"
      ]
     },
     "metadata": {},
     "output_type": "display_data"
    },
    {
     "data": {
      "text/html": [
       "<pre style=\"white-space:pre;overflow-x:auto;line-height:normal;font-family:Menlo,'DejaVu Sans Mono',consolas,'Courier New',monospace\">sub-SLC07_ses-3_run-<span style=\"color: #008080; text-decoration-color: #008080; font-weight: bold\">1</span>, present <span style=\"font-weight: bold\">(</span>not nan ROIs<span style=\"font-weight: bold\">)</span> = <span style=\"color: #008080; text-decoration-color: #008080; font-weight: bold\">5767</span> <span style=\"font-weight: bold\">(</span><span style=\"color: #008080; text-decoration-color: #008080; font-weight: bold\">95.8</span> %<span style=\"font-weight: bold\">)</span>\n",
       "</pre>\n"
      ],
      "text/plain": [
       "sub-SLC07_ses-3_run-\u001b[1;36m1\u001b[0m, present \u001b[1m(\u001b[0mnot nan ROIs\u001b[1m)\u001b[0m = \u001b[1;36m5767\u001b[0m \u001b[1m(\u001b[0m\u001b[1;36m95.8\u001b[0m %\u001b[1m)\u001b[0m\n"
      ]
     },
     "metadata": {},
     "output_type": "display_data"
    },
    {
     "data": {
      "text/html": [
       "<pre style=\"white-space:pre;overflow-x:auto;line-height:normal;font-family:Menlo,'DejaVu Sans Mono',consolas,'Courier New',monospace\">sub-SLC07_ses-3_run-<span style=\"color: #008080; text-decoration-color: #008080; font-weight: bold\">3</span>, present <span style=\"font-weight: bold\">(</span>not nan ROIs<span style=\"font-weight: bold\">)</span> = <span style=\"color: #008080; text-decoration-color: #008080; font-weight: bold\">5771</span> <span style=\"font-weight: bold\">(</span><span style=\"color: #008080; text-decoration-color: #008080; font-weight: bold\">95.9</span> %<span style=\"font-weight: bold\">)</span>\n",
       "</pre>\n"
      ],
      "text/plain": [
       "sub-SLC07_ses-3_run-\u001b[1;36m3\u001b[0m, present \u001b[1m(\u001b[0mnot nan ROIs\u001b[1m)\u001b[0m = \u001b[1;36m5771\u001b[0m \u001b[1m(\u001b[0m\u001b[1;36m95.9\u001b[0m %\u001b[1m)\u001b[0m\n"
      ]
     },
     "metadata": {},
     "output_type": "display_data"
    },
    {
     "data": {
      "text/html": [
       "<pre style=\"white-space:pre;overflow-x:auto;line-height:normal;font-family:Menlo,'DejaVu Sans Mono',consolas,'Courier New',monospace\">sub-SLC07_ses-3_run-<span style=\"color: #008080; text-decoration-color: #008080; font-weight: bold\">5</span>, present <span style=\"font-weight: bold\">(</span>not nan ROIs<span style=\"font-weight: bold\">)</span> = <span style=\"color: #008080; text-decoration-color: #008080; font-weight: bold\">5768</span> <span style=\"font-weight: bold\">(</span><span style=\"color: #008080; text-decoration-color: #008080; font-weight: bold\">95.9</span> %<span style=\"font-weight: bold\">)</span>\n",
       "</pre>\n"
      ],
      "text/plain": [
       "sub-SLC07_ses-3_run-\u001b[1;36m5\u001b[0m, present \u001b[1m(\u001b[0mnot nan ROIs\u001b[1m)\u001b[0m = \u001b[1;36m5768\u001b[0m \u001b[1m(\u001b[0m\u001b[1;36m95.9\u001b[0m %\u001b[1m)\u001b[0m\n"
      ]
     },
     "metadata": {},
     "output_type": "display_data"
    },
    {
     "data": {
      "text/html": [
       "<pre style=\"white-space:pre;overflow-x:auto;line-height:normal;font-family:Menlo,'DejaVu Sans Mono',consolas,'Courier New',monospace\">sub-SLC07_ses-3_run-<span style=\"color: #008080; text-decoration-color: #008080; font-weight: bold\">7</span>, present <span style=\"font-weight: bold\">(</span>not nan ROIs<span style=\"font-weight: bold\">)</span> = <span style=\"color: #008080; text-decoration-color: #008080; font-weight: bold\">5765</span> <span style=\"font-weight: bold\">(</span><span style=\"color: #008080; text-decoration-color: #008080; font-weight: bold\">95.8</span> %<span style=\"font-weight: bold\">)</span>\n",
       "</pre>\n"
      ],
      "text/plain": [
       "sub-SLC07_ses-3_run-\u001b[1;36m7\u001b[0m, present \u001b[1m(\u001b[0mnot nan ROIs\u001b[1m)\u001b[0m = \u001b[1;36m5765\u001b[0m \u001b[1m(\u001b[0m\u001b[1;36m95.8\u001b[0m %\u001b[1m)\u001b[0m\n"
      ]
     },
     "metadata": {},
     "output_type": "display_data"
    },
    {
     "data": {
      "text/html": [
       "<pre style=\"white-space:pre;overflow-x:auto;line-height:normal;font-family:Menlo,'DejaVu Sans Mono',consolas,'Courier New',monospace\">sub-SLC08_ses-1_run-<span style=\"color: #008080; text-decoration-color: #008080; font-weight: bold\">1</span>, present <span style=\"font-weight: bold\">(</span>not nan ROIs<span style=\"font-weight: bold\">)</span> = <span style=\"color: #008080; text-decoration-color: #008080; font-weight: bold\">5706</span> <span style=\"font-weight: bold\">(</span><span style=\"color: #008080; text-decoration-color: #008080; font-weight: bold\">94.8</span> %<span style=\"font-weight: bold\">)</span>\n",
       "</pre>\n"
      ],
      "text/plain": [
       "sub-SLC08_ses-1_run-\u001b[1;36m1\u001b[0m, present \u001b[1m(\u001b[0mnot nan ROIs\u001b[1m)\u001b[0m = \u001b[1;36m5706\u001b[0m \u001b[1m(\u001b[0m\u001b[1;36m94.8\u001b[0m %\u001b[1m)\u001b[0m\n"
      ]
     },
     "metadata": {},
     "output_type": "display_data"
    },
    {
     "data": {
      "text/html": [
       "<pre style=\"white-space:pre;overflow-x:auto;line-height:normal;font-family:Menlo,'DejaVu Sans Mono',consolas,'Courier New',monospace\">sub-SLC08_ses-1_run-<span style=\"color: #008080; text-decoration-color: #008080; font-weight: bold\">3</span>, present <span style=\"font-weight: bold\">(</span>not nan ROIs<span style=\"font-weight: bold\">)</span> = <span style=\"color: #008080; text-decoration-color: #008080; font-weight: bold\">5716</span> <span style=\"font-weight: bold\">(</span><span style=\"color: #008080; text-decoration-color: #008080; font-weight: bold\">95.0</span> %<span style=\"font-weight: bold\">)</span>\n",
       "</pre>\n"
      ],
      "text/plain": [
       "sub-SLC08_ses-1_run-\u001b[1;36m3\u001b[0m, present \u001b[1m(\u001b[0mnot nan ROIs\u001b[1m)\u001b[0m = \u001b[1;36m5716\u001b[0m \u001b[1m(\u001b[0m\u001b[1;36m95.0\u001b[0m %\u001b[1m)\u001b[0m\n"
      ]
     },
     "metadata": {},
     "output_type": "display_data"
    },
    {
     "data": {
      "text/html": [
       "<pre style=\"white-space:pre;overflow-x:auto;line-height:normal;font-family:Menlo,'DejaVu Sans Mono',consolas,'Courier New',monospace\">sub-SLC08_ses-1_run-<span style=\"color: #008080; text-decoration-color: #008080; font-weight: bold\">5</span>, present <span style=\"font-weight: bold\">(</span>not nan ROIs<span style=\"font-weight: bold\">)</span> = <span style=\"color: #008080; text-decoration-color: #008080; font-weight: bold\">5703</span> <span style=\"font-weight: bold\">(</span><span style=\"color: #008080; text-decoration-color: #008080; font-weight: bold\">94.8</span> %<span style=\"font-weight: bold\">)</span>\n",
       "</pre>\n"
      ],
      "text/plain": [
       "sub-SLC08_ses-1_run-\u001b[1;36m5\u001b[0m, present \u001b[1m(\u001b[0mnot nan ROIs\u001b[1m)\u001b[0m = \u001b[1;36m5703\u001b[0m \u001b[1m(\u001b[0m\u001b[1;36m94.8\u001b[0m %\u001b[1m)\u001b[0m\n"
      ]
     },
     "metadata": {},
     "output_type": "display_data"
    },
    {
     "data": {
      "text/html": [
       "<pre style=\"white-space:pre;overflow-x:auto;line-height:normal;font-family:Menlo,'DejaVu Sans Mono',consolas,'Courier New',monospace\">sub-SLC08_ses-2_run-<span style=\"color: #008080; text-decoration-color: #008080; font-weight: bold\">1</span>, present <span style=\"font-weight: bold\">(</span>not nan ROIs<span style=\"font-weight: bold\">)</span> = <span style=\"color: #008080; text-decoration-color: #008080; font-weight: bold\">5861</span> <span style=\"font-weight: bold\">(</span><span style=\"color: #008080; text-decoration-color: #008080; font-weight: bold\">97.4</span> %<span style=\"font-weight: bold\">)</span>\n",
       "</pre>\n"
      ],
      "text/plain": [
       "sub-SLC08_ses-2_run-\u001b[1;36m1\u001b[0m, present \u001b[1m(\u001b[0mnot nan ROIs\u001b[1m)\u001b[0m = \u001b[1;36m5861\u001b[0m \u001b[1m(\u001b[0m\u001b[1;36m97.4\u001b[0m %\u001b[1m)\u001b[0m\n"
      ]
     },
     "metadata": {},
     "output_type": "display_data"
    },
    {
     "data": {
      "text/html": [
       "<pre style=\"white-space:pre;overflow-x:auto;line-height:normal;font-family:Menlo,'DejaVu Sans Mono',consolas,'Courier New',monospace\">sub-SLC08_ses-2_run-<span style=\"color: #008080; text-decoration-color: #008080; font-weight: bold\">3</span>, present <span style=\"font-weight: bold\">(</span>not nan ROIs<span style=\"font-weight: bold\">)</span> = <span style=\"color: #008080; text-decoration-color: #008080; font-weight: bold\">5858</span> <span style=\"font-weight: bold\">(</span><span style=\"color: #008080; text-decoration-color: #008080; font-weight: bold\">97.4</span> %<span style=\"font-weight: bold\">)</span>\n",
       "</pre>\n"
      ],
      "text/plain": [
       "sub-SLC08_ses-2_run-\u001b[1;36m3\u001b[0m, present \u001b[1m(\u001b[0mnot nan ROIs\u001b[1m)\u001b[0m = \u001b[1;36m5858\u001b[0m \u001b[1m(\u001b[0m\u001b[1;36m97.4\u001b[0m %\u001b[1m)\u001b[0m\n"
      ]
     },
     "metadata": {},
     "output_type": "display_data"
    },
    {
     "data": {
      "text/html": [
       "<pre style=\"white-space:pre;overflow-x:auto;line-height:normal;font-family:Menlo,'DejaVu Sans Mono',consolas,'Courier New',monospace\">sub-SLC08_ses-2_run-<span style=\"color: #008080; text-decoration-color: #008080; font-weight: bold\">5</span>, present <span style=\"font-weight: bold\">(</span>not nan ROIs<span style=\"font-weight: bold\">)</span> = <span style=\"color: #008080; text-decoration-color: #008080; font-weight: bold\">5858</span> <span style=\"font-weight: bold\">(</span><span style=\"color: #008080; text-decoration-color: #008080; font-weight: bold\">97.4</span> %<span style=\"font-weight: bold\">)</span>\n",
       "</pre>\n"
      ],
      "text/plain": [
       "sub-SLC08_ses-2_run-\u001b[1;36m5\u001b[0m, present \u001b[1m(\u001b[0mnot nan ROIs\u001b[1m)\u001b[0m = \u001b[1;36m5858\u001b[0m \u001b[1m(\u001b[0m\u001b[1;36m97.4\u001b[0m %\u001b[1m)\u001b[0m\n"
      ]
     },
     "metadata": {},
     "output_type": "display_data"
    },
    {
     "data": {
      "text/html": [
       "<pre style=\"white-space:pre;overflow-x:auto;line-height:normal;font-family:Menlo,'DejaVu Sans Mono',consolas,'Courier New',monospace\">sub-SLC08_ses-2_run-<span style=\"color: #008080; text-decoration-color: #008080; font-weight: bold\">7</span>, present <span style=\"font-weight: bold\">(</span>not nan ROIs<span style=\"font-weight: bold\">)</span> = <span style=\"color: #008080; text-decoration-color: #008080; font-weight: bold\">5856</span> <span style=\"font-weight: bold\">(</span><span style=\"color: #008080; text-decoration-color: #008080; font-weight: bold\">97.3</span> %<span style=\"font-weight: bold\">)</span>\n",
       "</pre>\n"
      ],
      "text/plain": [
       "sub-SLC08_ses-2_run-\u001b[1;36m7\u001b[0m, present \u001b[1m(\u001b[0mnot nan ROIs\u001b[1m)\u001b[0m = \u001b[1;36m5856\u001b[0m \u001b[1m(\u001b[0m\u001b[1;36m97.3\u001b[0m %\u001b[1m)\u001b[0m\n"
      ]
     },
     "metadata": {},
     "output_type": "display_data"
    },
    {
     "data": {
      "text/html": [
       "<pre style=\"white-space:pre;overflow-x:auto;line-height:normal;font-family:Menlo,'DejaVu Sans Mono',consolas,'Courier New',monospace\">sub-SLC08_ses-3_run-<span style=\"color: #008080; text-decoration-color: #008080; font-weight: bold\">1</span>, present <span style=\"font-weight: bold\">(</span>not nan ROIs<span style=\"font-weight: bold\">)</span> = <span style=\"color: #008080; text-decoration-color: #008080; font-weight: bold\">5751</span> <span style=\"font-weight: bold\">(</span><span style=\"color: #008080; text-decoration-color: #008080; font-weight: bold\">95.6</span> %<span style=\"font-weight: bold\">)</span>\n",
       "</pre>\n"
      ],
      "text/plain": [
       "sub-SLC08_ses-3_run-\u001b[1;36m1\u001b[0m, present \u001b[1m(\u001b[0mnot nan ROIs\u001b[1m)\u001b[0m = \u001b[1;36m5751\u001b[0m \u001b[1m(\u001b[0m\u001b[1;36m95.6\u001b[0m %\u001b[1m)\u001b[0m\n"
      ]
     },
     "metadata": {},
     "output_type": "display_data"
    },
    {
     "data": {
      "text/html": [
       "<pre style=\"white-space:pre;overflow-x:auto;line-height:normal;font-family:Menlo,'DejaVu Sans Mono',consolas,'Courier New',monospace\">sub-SLC08_ses-3_run-<span style=\"color: #008080; text-decoration-color: #008080; font-weight: bold\">3</span>, present <span style=\"font-weight: bold\">(</span>not nan ROIs<span style=\"font-weight: bold\">)</span> = <span style=\"color: #008080; text-decoration-color: #008080; font-weight: bold\">5747</span> <span style=\"font-weight: bold\">(</span><span style=\"color: #008080; text-decoration-color: #008080; font-weight: bold\">95.5</span> %<span style=\"font-weight: bold\">)</span>\n",
       "</pre>\n"
      ],
      "text/plain": [
       "sub-SLC08_ses-3_run-\u001b[1;36m3\u001b[0m, present \u001b[1m(\u001b[0mnot nan ROIs\u001b[1m)\u001b[0m = \u001b[1;36m5747\u001b[0m \u001b[1m(\u001b[0m\u001b[1;36m95.5\u001b[0m %\u001b[1m)\u001b[0m\n"
      ]
     },
     "metadata": {},
     "output_type": "display_data"
    },
    {
     "data": {
      "text/html": [
       "<pre style=\"white-space:pre;overflow-x:auto;line-height:normal;font-family:Menlo,'DejaVu Sans Mono',consolas,'Courier New',monospace\">sub-SLC08_ses-3_run-<span style=\"color: #008080; text-decoration-color: #008080; font-weight: bold\">5</span>, present <span style=\"font-weight: bold\">(</span>not nan ROIs<span style=\"font-weight: bold\">)</span> = <span style=\"color: #008080; text-decoration-color: #008080; font-weight: bold\">5743</span> <span style=\"font-weight: bold\">(</span><span style=\"color: #008080; text-decoration-color: #008080; font-weight: bold\">95.4</span> %<span style=\"font-weight: bold\">)</span>\n",
       "</pre>\n"
      ],
      "text/plain": [
       "sub-SLC08_ses-3_run-\u001b[1;36m5\u001b[0m, present \u001b[1m(\u001b[0mnot nan ROIs\u001b[1m)\u001b[0m = \u001b[1;36m5743\u001b[0m \u001b[1m(\u001b[0m\u001b[1;36m95.4\u001b[0m %\u001b[1m)\u001b[0m\n"
      ]
     },
     "metadata": {},
     "output_type": "display_data"
    },
    {
     "data": {
      "text/html": [
       "<pre style=\"white-space:pre;overflow-x:auto;line-height:normal;font-family:Menlo,'DejaVu Sans Mono',consolas,'Courier New',monospace\">sub-SLC08_ses-3_run-<span style=\"color: #008080; text-decoration-color: #008080; font-weight: bold\">7</span>, present <span style=\"font-weight: bold\">(</span>not nan ROIs<span style=\"font-weight: bold\">)</span> = <span style=\"color: #008080; text-decoration-color: #008080; font-weight: bold\">5746</span> <span style=\"font-weight: bold\">(</span><span style=\"color: #008080; text-decoration-color: #008080; font-weight: bold\">95.5</span> %<span style=\"font-weight: bold\">)</span>\n",
       "</pre>\n"
      ],
      "text/plain": [
       "sub-SLC08_ses-3_run-\u001b[1;36m7\u001b[0m, present \u001b[1m(\u001b[0mnot nan ROIs\u001b[1m)\u001b[0m = \u001b[1;36m5746\u001b[0m \u001b[1m(\u001b[0m\u001b[1;36m95.5\u001b[0m %\u001b[1m)\u001b[0m\n"
      ]
     },
     "metadata": {},
     "output_type": "display_data"
    },
    {
     "data": {
      "text/html": [
       "<pre style=\"white-space:pre;overflow-x:auto;line-height:normal;font-family:Menlo,'DejaVu Sans Mono',consolas,'Courier New',monospace\">sub-SLC09_ses-1_run-<span style=\"color: #008080; text-decoration-color: #008080; font-weight: bold\">1</span>, present <span style=\"font-weight: bold\">(</span>not nan ROIs<span style=\"font-weight: bold\">)</span> = <span style=\"color: #008080; text-decoration-color: #008080; font-weight: bold\">5780</span> <span style=\"font-weight: bold\">(</span><span style=\"color: #008080; text-decoration-color: #008080; font-weight: bold\">96.1</span> %<span style=\"font-weight: bold\">)</span>\n",
       "</pre>\n"
      ],
      "text/plain": [
       "sub-SLC09_ses-1_run-\u001b[1;36m1\u001b[0m, present \u001b[1m(\u001b[0mnot nan ROIs\u001b[1m)\u001b[0m = \u001b[1;36m5780\u001b[0m \u001b[1m(\u001b[0m\u001b[1;36m96.1\u001b[0m %\u001b[1m)\u001b[0m\n"
      ]
     },
     "metadata": {},
     "output_type": "display_data"
    },
    {
     "data": {
      "text/html": [
       "<pre style=\"white-space:pre;overflow-x:auto;line-height:normal;font-family:Menlo,'DejaVu Sans Mono',consolas,'Courier New',monospace\">sub-SLC09_ses-1_run-<span style=\"color: #008080; text-decoration-color: #008080; font-weight: bold\">3</span>, present <span style=\"font-weight: bold\">(</span>not nan ROIs<span style=\"font-weight: bold\">)</span> = <span style=\"color: #008080; text-decoration-color: #008080; font-weight: bold\">5778</span> <span style=\"font-weight: bold\">(</span><span style=\"color: #008080; text-decoration-color: #008080; font-weight: bold\">96.0</span> %<span style=\"font-weight: bold\">)</span>\n",
       "</pre>\n"
      ],
      "text/plain": [
       "sub-SLC09_ses-1_run-\u001b[1;36m3\u001b[0m, present \u001b[1m(\u001b[0mnot nan ROIs\u001b[1m)\u001b[0m = \u001b[1;36m5778\u001b[0m \u001b[1m(\u001b[0m\u001b[1;36m96.0\u001b[0m %\u001b[1m)\u001b[0m\n"
      ]
     },
     "metadata": {},
     "output_type": "display_data"
    },
    {
     "data": {
      "text/html": [
       "<pre style=\"white-space:pre;overflow-x:auto;line-height:normal;font-family:Menlo,'DejaVu Sans Mono',consolas,'Courier New',monospace\">sub-SLC09_ses-1_run-<span style=\"color: #008080; text-decoration-color: #008080; font-weight: bold\">5</span>, present <span style=\"font-weight: bold\">(</span>not nan ROIs<span style=\"font-weight: bold\">)</span> = <span style=\"color: #008080; text-decoration-color: #008080; font-weight: bold\">5780</span> <span style=\"font-weight: bold\">(</span><span style=\"color: #008080; text-decoration-color: #008080; font-weight: bold\">96.1</span> %<span style=\"font-weight: bold\">)</span>\n",
       "</pre>\n"
      ],
      "text/plain": [
       "sub-SLC09_ses-1_run-\u001b[1;36m5\u001b[0m, present \u001b[1m(\u001b[0mnot nan ROIs\u001b[1m)\u001b[0m = \u001b[1;36m5780\u001b[0m \u001b[1m(\u001b[0m\u001b[1;36m96.1\u001b[0m %\u001b[1m)\u001b[0m\n"
      ]
     },
     "metadata": {},
     "output_type": "display_data"
    },
    {
     "data": {
      "text/html": [
       "<pre style=\"white-space:pre;overflow-x:auto;line-height:normal;font-family:Menlo,'DejaVu Sans Mono',consolas,'Courier New',monospace\">sub-SLC09_ses-1_run-<span style=\"color: #008080; text-decoration-color: #008080; font-weight: bold\">7</span>, present <span style=\"font-weight: bold\">(</span>not nan ROIs<span style=\"font-weight: bold\">)</span> = <span style=\"color: #008080; text-decoration-color: #008080; font-weight: bold\">5779</span> <span style=\"font-weight: bold\">(</span><span style=\"color: #008080; text-decoration-color: #008080; font-weight: bold\">96.0</span> %<span style=\"font-weight: bold\">)</span>\n",
       "</pre>\n"
      ],
      "text/plain": [
       "sub-SLC09_ses-1_run-\u001b[1;36m7\u001b[0m, present \u001b[1m(\u001b[0mnot nan ROIs\u001b[1m)\u001b[0m = \u001b[1;36m5779\u001b[0m \u001b[1m(\u001b[0m\u001b[1;36m96.0\u001b[0m %\u001b[1m)\u001b[0m\n"
      ]
     },
     "metadata": {},
     "output_type": "display_data"
    },
    {
     "data": {
      "text/html": [
       "<pre style=\"white-space:pre;overflow-x:auto;line-height:normal;font-family:Menlo,'DejaVu Sans Mono',consolas,'Courier New',monospace\">sub-SLC09_ses-2_run-<span style=\"color: #008080; text-decoration-color: #008080; font-weight: bold\">1</span>, present <span style=\"font-weight: bold\">(</span>not nan ROIs<span style=\"font-weight: bold\">)</span> = <span style=\"color: #008080; text-decoration-color: #008080; font-weight: bold\">5880</span> <span style=\"font-weight: bold\">(</span><span style=\"color: #008080; text-decoration-color: #008080; font-weight: bold\">97.7</span> %<span style=\"font-weight: bold\">)</span>\n",
       "</pre>\n"
      ],
      "text/plain": [
       "sub-SLC09_ses-2_run-\u001b[1;36m1\u001b[0m, present \u001b[1m(\u001b[0mnot nan ROIs\u001b[1m)\u001b[0m = \u001b[1;36m5880\u001b[0m \u001b[1m(\u001b[0m\u001b[1;36m97.7\u001b[0m %\u001b[1m)\u001b[0m\n"
      ]
     },
     "metadata": {},
     "output_type": "display_data"
    },
    {
     "data": {
      "text/html": [
       "<pre style=\"white-space:pre;overflow-x:auto;line-height:normal;font-family:Menlo,'DejaVu Sans Mono',consolas,'Courier New',monospace\">sub-SLC09_ses-2_run-<span style=\"color: #008080; text-decoration-color: #008080; font-weight: bold\">3</span>, present <span style=\"font-weight: bold\">(</span>not nan ROIs<span style=\"font-weight: bold\">)</span> = <span style=\"color: #008080; text-decoration-color: #008080; font-weight: bold\">5891</span> <span style=\"font-weight: bold\">(</span><span style=\"color: #008080; text-decoration-color: #008080; font-weight: bold\">97.9</span> %<span style=\"font-weight: bold\">)</span>\n",
       "</pre>\n"
      ],
      "text/plain": [
       "sub-SLC09_ses-2_run-\u001b[1;36m3\u001b[0m, present \u001b[1m(\u001b[0mnot nan ROIs\u001b[1m)\u001b[0m = \u001b[1;36m5891\u001b[0m \u001b[1m(\u001b[0m\u001b[1;36m97.9\u001b[0m %\u001b[1m)\u001b[0m\n"
      ]
     },
     "metadata": {},
     "output_type": "display_data"
    },
    {
     "data": {
      "text/html": [
       "<pre style=\"white-space:pre;overflow-x:auto;line-height:normal;font-family:Menlo,'DejaVu Sans Mono',consolas,'Courier New',monospace\">sub-SLC09_ses-2_run-<span style=\"color: #008080; text-decoration-color: #008080; font-weight: bold\">5</span>, present <span style=\"font-weight: bold\">(</span>not nan ROIs<span style=\"font-weight: bold\">)</span> = <span style=\"color: #008080; text-decoration-color: #008080; font-weight: bold\">5880</span> <span style=\"font-weight: bold\">(</span><span style=\"color: #008080; text-decoration-color: #008080; font-weight: bold\">97.7</span> %<span style=\"font-weight: bold\">)</span>\n",
       "</pre>\n"
      ],
      "text/plain": [
       "sub-SLC09_ses-2_run-\u001b[1;36m5\u001b[0m, present \u001b[1m(\u001b[0mnot nan ROIs\u001b[1m)\u001b[0m = \u001b[1;36m5880\u001b[0m \u001b[1m(\u001b[0m\u001b[1;36m97.7\u001b[0m %\u001b[1m)\u001b[0m\n"
      ]
     },
     "metadata": {},
     "output_type": "display_data"
    },
    {
     "data": {
      "text/html": [
       "<pre style=\"white-space:pre;overflow-x:auto;line-height:normal;font-family:Menlo,'DejaVu Sans Mono',consolas,'Courier New',monospace\">sub-SLC09_ses-2_run-<span style=\"color: #008080; text-decoration-color: #008080; font-weight: bold\">7</span>, present <span style=\"font-weight: bold\">(</span>not nan ROIs<span style=\"font-weight: bold\">)</span> = <span style=\"color: #008080; text-decoration-color: #008080; font-weight: bold\">5886</span> <span style=\"font-weight: bold\">(</span><span style=\"color: #008080; text-decoration-color: #008080; font-weight: bold\">97.8</span> %<span style=\"font-weight: bold\">)</span>\n",
       "</pre>\n"
      ],
      "text/plain": [
       "sub-SLC09_ses-2_run-\u001b[1;36m7\u001b[0m, present \u001b[1m(\u001b[0mnot nan ROIs\u001b[1m)\u001b[0m = \u001b[1;36m5886\u001b[0m \u001b[1m(\u001b[0m\u001b[1;36m97.8\u001b[0m %\u001b[1m)\u001b[0m\n"
      ]
     },
     "metadata": {},
     "output_type": "display_data"
    },
    {
     "data": {
      "text/html": [
       "<pre style=\"white-space:pre;overflow-x:auto;line-height:normal;font-family:Menlo,'DejaVu Sans Mono',consolas,'Courier New',monospace\">sub-SLC09_ses-3_run-<span style=\"color: #008080; text-decoration-color: #008080; font-weight: bold\">1</span>, present <span style=\"font-weight: bold\">(</span>not nan ROIs<span style=\"font-weight: bold\">)</span> = <span style=\"color: #008080; text-decoration-color: #008080; font-weight: bold\">5722</span> <span style=\"font-weight: bold\">(</span><span style=\"color: #008080; text-decoration-color: #008080; font-weight: bold\">95.1</span> %<span style=\"font-weight: bold\">)</span>\n",
       "</pre>\n"
      ],
      "text/plain": [
       "sub-SLC09_ses-3_run-\u001b[1;36m1\u001b[0m, present \u001b[1m(\u001b[0mnot nan ROIs\u001b[1m)\u001b[0m = \u001b[1;36m5722\u001b[0m \u001b[1m(\u001b[0m\u001b[1;36m95.1\u001b[0m %\u001b[1m)\u001b[0m\n"
      ]
     },
     "metadata": {},
     "output_type": "display_data"
    },
    {
     "data": {
      "text/html": [
       "<pre style=\"white-space:pre;overflow-x:auto;line-height:normal;font-family:Menlo,'DejaVu Sans Mono',consolas,'Courier New',monospace\">sub-SLC09_ses-3_run-<span style=\"color: #008080; text-decoration-color: #008080; font-weight: bold\">3</span>, present <span style=\"font-weight: bold\">(</span>not nan ROIs<span style=\"font-weight: bold\">)</span> = <span style=\"color: #008080; text-decoration-color: #008080; font-weight: bold\">5717</span> <span style=\"font-weight: bold\">(</span><span style=\"color: #008080; text-decoration-color: #008080; font-weight: bold\">95.0</span> %<span style=\"font-weight: bold\">)</span>\n",
       "</pre>\n"
      ],
      "text/plain": [
       "sub-SLC09_ses-3_run-\u001b[1;36m3\u001b[0m, present \u001b[1m(\u001b[0mnot nan ROIs\u001b[1m)\u001b[0m = \u001b[1;36m5717\u001b[0m \u001b[1m(\u001b[0m\u001b[1;36m95.0\u001b[0m %\u001b[1m)\u001b[0m\n"
      ]
     },
     "metadata": {},
     "output_type": "display_data"
    },
    {
     "data": {
      "text/html": [
       "<pre style=\"white-space:pre;overflow-x:auto;line-height:normal;font-family:Menlo,'DejaVu Sans Mono',consolas,'Courier New',monospace\">sub-SLC09_ses-3_run-<span style=\"color: #008080; text-decoration-color: #008080; font-weight: bold\">5</span>, present <span style=\"font-weight: bold\">(</span>not nan ROIs<span style=\"font-weight: bold\">)</span> = <span style=\"color: #008080; text-decoration-color: #008080; font-weight: bold\">5713</span> <span style=\"font-weight: bold\">(</span><span style=\"color: #008080; text-decoration-color: #008080; font-weight: bold\">94.9</span> %<span style=\"font-weight: bold\">)</span>\n",
       "</pre>\n"
      ],
      "text/plain": [
       "sub-SLC09_ses-3_run-\u001b[1;36m5\u001b[0m, present \u001b[1m(\u001b[0mnot nan ROIs\u001b[1m)\u001b[0m = \u001b[1;36m5713\u001b[0m \u001b[1m(\u001b[0m\u001b[1;36m94.9\u001b[0m %\u001b[1m)\u001b[0m\n"
      ]
     },
     "metadata": {},
     "output_type": "display_data"
    },
    {
     "data": {
      "text/html": [
       "<pre style=\"white-space:pre;overflow-x:auto;line-height:normal;font-family:Menlo,'DejaVu Sans Mono',consolas,'Courier New',monospace\">sub-SLC09_ses-3_run-<span style=\"color: #008080; text-decoration-color: #008080; font-weight: bold\">7</span>, present <span style=\"font-weight: bold\">(</span>not nan ROIs<span style=\"font-weight: bold\">)</span> = <span style=\"color: #008080; text-decoration-color: #008080; font-weight: bold\">5719</span> <span style=\"font-weight: bold\">(</span><span style=\"color: #008080; text-decoration-color: #008080; font-weight: bold\">95.0</span> %<span style=\"font-weight: bold\">)</span>\n",
       "</pre>\n"
      ],
      "text/plain": [
       "sub-SLC09_ses-3_run-\u001b[1;36m7\u001b[0m, present \u001b[1m(\u001b[0mnot nan ROIs\u001b[1m)\u001b[0m = \u001b[1;36m5719\u001b[0m \u001b[1m(\u001b[0m\u001b[1;36m95.0\u001b[0m %\u001b[1m)\u001b[0m\n"
      ]
     },
     "metadata": {},
     "output_type": "display_data"
    },
    {
     "data": {
      "text/html": [
       "<pre style=\"white-space:pre;overflow-x:auto;line-height:normal;font-family:Menlo,'DejaVu Sans Mono',consolas,'Courier New',monospace\">sub-SLC10_ses-1_run-<span style=\"color: #008080; text-decoration-color: #008080; font-weight: bold\">1</span>, present <span style=\"font-weight: bold\">(</span>not nan ROIs<span style=\"font-weight: bold\">)</span> = <span style=\"color: #008080; text-decoration-color: #008080; font-weight: bold\">5799</span> <span style=\"font-weight: bold\">(</span><span style=\"color: #008080; text-decoration-color: #008080; font-weight: bold\">96.4</span> %<span style=\"font-weight: bold\">)</span>\n",
       "</pre>\n"
      ],
      "text/plain": [
       "sub-SLC10_ses-1_run-\u001b[1;36m1\u001b[0m, present \u001b[1m(\u001b[0mnot nan ROIs\u001b[1m)\u001b[0m = \u001b[1;36m5799\u001b[0m \u001b[1m(\u001b[0m\u001b[1;36m96.4\u001b[0m %\u001b[1m)\u001b[0m\n"
      ]
     },
     "metadata": {},
     "output_type": "display_data"
    },
    {
     "data": {
      "text/html": [
       "<pre style=\"white-space:pre;overflow-x:auto;line-height:normal;font-family:Menlo,'DejaVu Sans Mono',consolas,'Courier New',monospace\">sub-SLC10_ses-1_run-<span style=\"color: #008080; text-decoration-color: #008080; font-weight: bold\">3</span>, present <span style=\"font-weight: bold\">(</span>not nan ROIs<span style=\"font-weight: bold\">)</span> = <span style=\"color: #008080; text-decoration-color: #008080; font-weight: bold\">5801</span> <span style=\"font-weight: bold\">(</span><span style=\"color: #008080; text-decoration-color: #008080; font-weight: bold\">96.4</span> %<span style=\"font-weight: bold\">)</span>\n",
       "</pre>\n"
      ],
      "text/plain": [
       "sub-SLC10_ses-1_run-\u001b[1;36m3\u001b[0m, present \u001b[1m(\u001b[0mnot nan ROIs\u001b[1m)\u001b[0m = \u001b[1;36m5801\u001b[0m \u001b[1m(\u001b[0m\u001b[1;36m96.4\u001b[0m %\u001b[1m)\u001b[0m\n"
      ]
     },
     "metadata": {},
     "output_type": "display_data"
    },
    {
     "data": {
      "text/html": [
       "<pre style=\"white-space:pre;overflow-x:auto;line-height:normal;font-family:Menlo,'DejaVu Sans Mono',consolas,'Courier New',monospace\">sub-SLC10_ses-1_run-<span style=\"color: #008080; text-decoration-color: #008080; font-weight: bold\">7</span>, present <span style=\"font-weight: bold\">(</span>not nan ROIs<span style=\"font-weight: bold\">)</span> = <span style=\"color: #008080; text-decoration-color: #008080; font-weight: bold\">5806</span> <span style=\"font-weight: bold\">(</span><span style=\"color: #008080; text-decoration-color: #008080; font-weight: bold\">96.5</span> %<span style=\"font-weight: bold\">)</span>\n",
       "</pre>\n"
      ],
      "text/plain": [
       "sub-SLC10_ses-1_run-\u001b[1;36m7\u001b[0m, present \u001b[1m(\u001b[0mnot nan ROIs\u001b[1m)\u001b[0m = \u001b[1;36m5806\u001b[0m \u001b[1m(\u001b[0m\u001b[1;36m96.5\u001b[0m %\u001b[1m)\u001b[0m\n"
      ]
     },
     "metadata": {},
     "output_type": "display_data"
    },
    {
     "data": {
      "text/html": [
       "<pre style=\"white-space:pre;overflow-x:auto;line-height:normal;font-family:Menlo,'DejaVu Sans Mono',consolas,'Courier New',monospace\">sub-SLC10_ses-2_run-<span style=\"color: #008080; text-decoration-color: #008080; font-weight: bold\">1</span>, present <span style=\"font-weight: bold\">(</span>not nan ROIs<span style=\"font-weight: bold\">)</span> = <span style=\"color: #008080; text-decoration-color: #008080; font-weight: bold\">5918</span> <span style=\"font-weight: bold\">(</span><span style=\"color: #008080; text-decoration-color: #008080; font-weight: bold\">98.4</span> %<span style=\"font-weight: bold\">)</span>\n",
       "</pre>\n"
      ],
      "text/plain": [
       "sub-SLC10_ses-2_run-\u001b[1;36m1\u001b[0m, present \u001b[1m(\u001b[0mnot nan ROIs\u001b[1m)\u001b[0m = \u001b[1;36m5918\u001b[0m \u001b[1m(\u001b[0m\u001b[1;36m98.4\u001b[0m %\u001b[1m)\u001b[0m\n"
      ]
     },
     "metadata": {},
     "output_type": "display_data"
    },
    {
     "data": {
      "text/html": [
       "<pre style=\"white-space:pre;overflow-x:auto;line-height:normal;font-family:Menlo,'DejaVu Sans Mono',consolas,'Courier New',monospace\">sub-SLC10_ses-2_run-<span style=\"color: #008080; text-decoration-color: #008080; font-weight: bold\">3</span>, present <span style=\"font-weight: bold\">(</span>not nan ROIs<span style=\"font-weight: bold\">)</span> = <span style=\"color: #008080; text-decoration-color: #008080; font-weight: bold\">5920</span> <span style=\"font-weight: bold\">(</span><span style=\"color: #008080; text-decoration-color: #008080; font-weight: bold\">98.4</span> %<span style=\"font-weight: bold\">)</span>\n",
       "</pre>\n"
      ],
      "text/plain": [
       "sub-SLC10_ses-2_run-\u001b[1;36m3\u001b[0m, present \u001b[1m(\u001b[0mnot nan ROIs\u001b[1m)\u001b[0m = \u001b[1;36m5920\u001b[0m \u001b[1m(\u001b[0m\u001b[1;36m98.4\u001b[0m %\u001b[1m)\u001b[0m\n"
      ]
     },
     "metadata": {},
     "output_type": "display_data"
    },
    {
     "data": {
      "text/html": [
       "<pre style=\"white-space:pre;overflow-x:auto;line-height:normal;font-family:Menlo,'DejaVu Sans Mono',consolas,'Courier New',monospace\">sub-SLC10_ses-2_run-<span style=\"color: #008080; text-decoration-color: #008080; font-weight: bold\">5</span>, present <span style=\"font-weight: bold\">(</span>not nan ROIs<span style=\"font-weight: bold\">)</span> = <span style=\"color: #008080; text-decoration-color: #008080; font-weight: bold\">5918</span> <span style=\"font-weight: bold\">(</span><span style=\"color: #008080; text-decoration-color: #008080; font-weight: bold\">98.4</span> %<span style=\"font-weight: bold\">)</span>\n",
       "</pre>\n"
      ],
      "text/plain": [
       "sub-SLC10_ses-2_run-\u001b[1;36m5\u001b[0m, present \u001b[1m(\u001b[0mnot nan ROIs\u001b[1m)\u001b[0m = \u001b[1;36m5918\u001b[0m \u001b[1m(\u001b[0m\u001b[1;36m98.4\u001b[0m %\u001b[1m)\u001b[0m\n"
      ]
     },
     "metadata": {},
     "output_type": "display_data"
    },
    {
     "data": {
      "text/html": [
       "<pre style=\"white-space:pre;overflow-x:auto;line-height:normal;font-family:Menlo,'DejaVu Sans Mono',consolas,'Courier New',monospace\">sub-SLC10_ses-2_run-<span style=\"color: #008080; text-decoration-color: #008080; font-weight: bold\">7</span>, present <span style=\"font-weight: bold\">(</span>not nan ROIs<span style=\"font-weight: bold\">)</span> = <span style=\"color: #008080; text-decoration-color: #008080; font-weight: bold\">5918</span> <span style=\"font-weight: bold\">(</span><span style=\"color: #008080; text-decoration-color: #008080; font-weight: bold\">98.4</span> %<span style=\"font-weight: bold\">)</span>\n",
       "</pre>\n"
      ],
      "text/plain": [
       "sub-SLC10_ses-2_run-\u001b[1;36m7\u001b[0m, present \u001b[1m(\u001b[0mnot nan ROIs\u001b[1m)\u001b[0m = \u001b[1;36m5918\u001b[0m \u001b[1m(\u001b[0m\u001b[1;36m98.4\u001b[0m %\u001b[1m)\u001b[0m\n"
      ]
     },
     "metadata": {},
     "output_type": "display_data"
    },
    {
     "data": {
      "text/html": [
       "<pre style=\"white-space:pre;overflow-x:auto;line-height:normal;font-family:Menlo,'DejaVu Sans Mono',consolas,'Courier New',monospace\">sub-SLC10_ses-3_run-<span style=\"color: #008080; text-decoration-color: #008080; font-weight: bold\">1</span>, present <span style=\"font-weight: bold\">(</span>not nan ROIs<span style=\"font-weight: bold\">)</span> = <span style=\"color: #008080; text-decoration-color: #008080; font-weight: bold\">5896</span> <span style=\"font-weight: bold\">(</span><span style=\"color: #008080; text-decoration-color: #008080; font-weight: bold\">98.0</span> %<span style=\"font-weight: bold\">)</span>\n",
       "</pre>\n"
      ],
      "text/plain": [
       "sub-SLC10_ses-3_run-\u001b[1;36m1\u001b[0m, present \u001b[1m(\u001b[0mnot nan ROIs\u001b[1m)\u001b[0m = \u001b[1;36m5896\u001b[0m \u001b[1m(\u001b[0m\u001b[1;36m98.0\u001b[0m %\u001b[1m)\u001b[0m\n"
      ]
     },
     "metadata": {},
     "output_type": "display_data"
    },
    {
     "data": {
      "text/html": [
       "<pre style=\"white-space:pre;overflow-x:auto;line-height:normal;font-family:Menlo,'DejaVu Sans Mono',consolas,'Courier New',monospace\">sub-SLC10_ses-3_run-<span style=\"color: #008080; text-decoration-color: #008080; font-weight: bold\">3</span>, present <span style=\"font-weight: bold\">(</span>not nan ROIs<span style=\"font-weight: bold\">)</span> = <span style=\"color: #008080; text-decoration-color: #008080; font-weight: bold\">5902</span> <span style=\"font-weight: bold\">(</span><span style=\"color: #008080; text-decoration-color: #008080; font-weight: bold\">98.1</span> %<span style=\"font-weight: bold\">)</span>\n",
       "</pre>\n"
      ],
      "text/plain": [
       "sub-SLC10_ses-3_run-\u001b[1;36m3\u001b[0m, present \u001b[1m(\u001b[0mnot nan ROIs\u001b[1m)\u001b[0m = \u001b[1;36m5902\u001b[0m \u001b[1m(\u001b[0m\u001b[1;36m98.1\u001b[0m %\u001b[1m)\u001b[0m\n"
      ]
     },
     "metadata": {},
     "output_type": "display_data"
    },
    {
     "data": {
      "text/html": [
       "<pre style=\"white-space:pre;overflow-x:auto;line-height:normal;font-family:Menlo,'DejaVu Sans Mono',consolas,'Courier New',monospace\">sub-SLC10_ses-3_run-<span style=\"color: #008080; text-decoration-color: #008080; font-weight: bold\">5</span>, present <span style=\"font-weight: bold\">(</span>not nan ROIs<span style=\"font-weight: bold\">)</span> = <span style=\"color: #008080; text-decoration-color: #008080; font-weight: bold\">5900</span> <span style=\"font-weight: bold\">(</span><span style=\"color: #008080; text-decoration-color: #008080; font-weight: bold\">98.1</span> %<span style=\"font-weight: bold\">)</span>\n",
       "</pre>\n"
      ],
      "text/plain": [
       "sub-SLC10_ses-3_run-\u001b[1;36m5\u001b[0m, present \u001b[1m(\u001b[0mnot nan ROIs\u001b[1m)\u001b[0m = \u001b[1;36m5900\u001b[0m \u001b[1m(\u001b[0m\u001b[1;36m98.1\u001b[0m %\u001b[1m)\u001b[0m\n"
      ]
     },
     "metadata": {},
     "output_type": "display_data"
    },
    {
     "data": {
      "text/html": [
       "<pre style=\"white-space:pre;overflow-x:auto;line-height:normal;font-family:Menlo,'DejaVu Sans Mono',consolas,'Courier New',monospace\">sub-SLC10_ses-3_run-<span style=\"color: #008080; text-decoration-color: #008080; font-weight: bold\">7</span>, present <span style=\"font-weight: bold\">(</span>not nan ROIs<span style=\"font-weight: bold\">)</span> = <span style=\"color: #008080; text-decoration-color: #008080; font-weight: bold\">5903</span> <span style=\"font-weight: bold\">(</span><span style=\"color: #008080; text-decoration-color: #008080; font-weight: bold\">98.1</span> %<span style=\"font-weight: bold\">)</span>\n",
       "</pre>\n"
      ],
      "text/plain": [
       "sub-SLC10_ses-3_run-\u001b[1;36m7\u001b[0m, present \u001b[1m(\u001b[0mnot nan ROIs\u001b[1m)\u001b[0m = \u001b[1;36m5903\u001b[0m \u001b[1m(\u001b[0m\u001b[1;36m98.1\u001b[0m %\u001b[1m)\u001b[0m\n"
      ]
     },
     "metadata": {},
     "output_type": "display_data"
    }
   ],
   "source": [
    "for k, f in mice.bold.items():\n",
    "    x = f[:]\n",
    "    good = np.isnan(x).sum(1) == 0\n",
    "    print(f\"{k}, present (not nan ROIs) = {good.sum()} ({good.sum() / len(good) * 100:0.1f} %)\")"
   ]
  },
  {
   "cell_type": "code",
   "execution_count": null,
   "id": "499d6964",
   "metadata": {},
   "outputs": [],
   "source": []
  },
  {
   "cell_type": "code",
   "execution_count": null,
   "id": "ff28ad20",
   "metadata": {},
   "outputs": [],
   "source": []
  },
  {
   "cell_type": "code",
   "execution_count": null,
   "id": "23d50bdb",
   "metadata": {},
   "outputs": [],
   "source": []
  },
  {
   "cell_type": "code",
   "execution_count": null,
   "id": "1344283f",
   "metadata": {},
   "outputs": [],
   "source": []
  },
  {
   "cell_type": "code",
   "execution_count": null,
   "id": "81e9f3b2",
   "metadata": {},
   "outputs": [],
   "source": []
  }
 ],
 "metadata": {
  "kernelspec": {
   "display_name": "Python 3",
   "language": "python",
   "name": "python3"
  },
  "language_info": {
   "codemirror_mode": {
    "name": "ipython",
    "version": 3
   },
   "file_extension": ".py",
   "mimetype": "text/x-python",
   "name": "python",
   "nbconvert_exporter": "python",
   "pygments_lexer": "ipython3",
   "version": "3.8.3"
  }
 },
 "nbformat": 4,
 "nbformat_minor": 5
}
