{
 "cells": [
  {
   "cell_type": "markdown",
   "id": "17d50fc5",
   "metadata": {},
   "source": [
    "# (26) Awake -- sv + gr\n",
    "\n",
    "**Motivation**: Fit SVINET and Group for CA awake data. <br>"
   ]
  },
  {
   "cell_type": "code",
   "execution_count": 1,
   "id": "98c3a37f",
   "metadata": {},
   "outputs": [],
   "source": [
    "# HIDE CODE\n",
    "\n",
    "\n",
    "import os, sys\n",
    "from IPython.display import display\n",
    "\n",
    "# tmp & extras dir\n",
    "git_dir = os.path.join(os.environ['HOME'], 'Dropbox/git')\n",
    "extras_dir = os.path.join(git_dir, 'jb-Ca-fMRI/_extras')\n",
    "fig_base_dir = os.path.join(git_dir, 'jb-Ca-fMRI/figs')\n",
    "tmp_dir = os.path.join(git_dir, 'jb-Ca-fMRI/tmp')\n",
    "\n",
    "# GitHub\n",
    "sys.path.insert(0, os.path.join(git_dir, '_Ca-fMRI'))\n",
    "from figures.fighelper import *\n",
    "from analysis.final import *\n",
    "from utils.render import *\n",
    "\n",
    "# warnings, tqdm, & style\n",
    "warnings.filterwarnings('ignore', category=DeprecationWarning)\n",
    "from tqdm.notebook import tqdm\n",
    "%matplotlib inline\n",
    "set_style()"
   ]
  },
  {
   "cell_type": "markdown",
   "id": "2dc97881",
   "metadata": {},
   "source": [
    "## Mice"
   ]
  },
  {
   "cell_type": "code",
   "execution_count": 2,
   "id": "7351d4a5",
   "metadata": {},
   "outputs": [],
   "source": [
    "mice = Mice(Config(\n",
    "    nn=512,\n",
    "    sub_ids=[2, 6, 7, 9, 10],\n",
    "    ses_ids=[4],\n",
    "    run_ids=range(1, 10 + 1),\n",
    "))\n",
    "bs = Base(mice, mode='ca2')"
   ]
  },
  {
   "cell_type": "code",
   "execution_count": 3,
   "id": "7af6e43b",
   "metadata": {},
   "outputs": [
    {
     "data": {
      "text/html": [
       "<pre style=\"white-space:pre;overflow-x:auto;line-height:normal;font-family:Menlo,'DejaVu Sans Mono',consolas,'Courier New',monospace\"><span style=\"font-weight: bold\">{</span><span style=\"color: #008000; text-decoration-color: #008000\">'(0.0,5.0)'</span>: <span style=\"color: #008080; text-decoration-color: #008080; font-weight: bold\">78.3</span>, <span style=\"color: #008000; text-decoration-color: #008000\">'(0.01,0.5)'</span>: <span style=\"color: #008080; text-decoration-color: #008080; font-weight: bold\">78.3</span>, <span style=\"color: #008000; text-decoration-color: #008000\">'(0.01,5.0)'</span>: <span style=\"color: #008080; text-decoration-color: #008080; font-weight: bold\">78.3</span>, <span style=\"color: #008000; text-decoration-color: #008000\">'(0.5,5.0)'</span>: <span style=\"color: #008080; text-decoration-color: #008080; font-weight: bold\">78.3</span><span style=\"font-weight: bold\">}</span>\n",
       "</pre>\n"
      ],
      "text/plain": [
       "\u001b[1m{\u001b[0m\u001b[32m'\u001b[0m\u001b[32m(\u001b[0m\u001b[32m0.0,5.0\u001b[0m\u001b[32m)\u001b[0m\u001b[32m'\u001b[0m: \u001b[1;36m78.3\u001b[0m, \u001b[32m'\u001b[0m\u001b[32m(\u001b[0m\u001b[32m0.01,0.5\u001b[0m\u001b[32m)\u001b[0m\u001b[32m'\u001b[0m: \u001b[1;36m78.3\u001b[0m, \u001b[32m'\u001b[0m\u001b[32m(\u001b[0m\u001b[32m0.01,5.0\u001b[0m\u001b[32m)\u001b[0m\u001b[32m'\u001b[0m: \u001b[1;36m78.3\u001b[0m, \u001b[32m'\u001b[0m\u001b[32m(\u001b[0m\u001b[32m0.5,5.0\u001b[0m\u001b[32m)\u001b[0m\u001b[32m'\u001b[0m: \u001b[1;36m78.3\u001b[0m\u001b[1m}\u001b[0m\n"
      ]
     },
     "metadata": {},
     "output_type": "display_data"
    }
   ],
   "source": [
    "total = count_sv_fitted(mice.cfg.svinet_dir, 'p15-sample')\n",
    "remaining = {\n",
    "    b: np.round(100 * sum(e == 0 for e in d.values()) / len(d), 1)\n",
    "    for b, d in total.items()\n",
    "}\n",
    "remaining"
   ]
  },
  {
   "cell_type": "markdown",
   "id": "abe421e5",
   "metadata": {},
   "source": [
    "## Fit svinet"
   ]
  },
  {
   "cell_type": "code",
   "execution_count": 4,
   "id": "df9a885a",
   "metadata": {},
   "outputs": [],
   "source": [
    "props = {\n",
    "    'mice': mice,\n",
    "    'num_k': 7,\n",
    "    'perc': 'p15-sample',\n",
    "    'mode': 'ca2',\n",
    "    'task': 'rest',\n",
    "    'metric': 'pearson',\n",
    "    'match_metric': 'euclidean',\n",
    "    'match_using': 'gam',\n",
    "    'graph_type': 'real',\n",
    "    'verbose': False,\n",
    "}\n",
    "kws = {\n",
    "    'task': 'rest',\n",
    "    'desc_ca2': 'awake',\n",
    "    'runs_only': True,\n",
    "    'exclude': True,\n",
    "}"
   ]
  },
  {
   "cell_type": "code",
   "execution_count": null,
   "id": "2c1e11f7",
   "metadata": {},
   "outputs": [],
   "source": [
    "pbar1 = tqdm([None, 0.01, 0.5, (0.01, 0.5)])\n",
    "for b in pbar1:\n",
    "    kws['band_ca2'] = b\n",
    "    mice.setup_func_data(**kws)\n",
    "    pbar2 = tqdm(\n",
    "        mice.get_data_containers('ca2')[0],\n",
    "        leave=False,\n",
    "    )\n",
    "    for key in pbar2:\n",
    "        msg = f\"running net (task-{props['task']}, \"\n",
    "        msg += f\"b-{str(b).replace(' ', '')})\"\n",
    "        msg += f\": {key}\"\n",
    "        pbar1.set_description(msg)\n",
    "        _ = SVINET(key=key, **props).fit_svinet()"
   ]
  },
  {
   "cell_type": "markdown",
   "id": "43afe15b",
   "metadata": {},
   "source": [
    "## Fit group"
   ]
  },
  {
   "cell_type": "code",
   "execution_count": 3,
   "id": "b1a6c217",
   "metadata": {},
   "outputs": [],
   "source": [
    "props = {\n",
    "    'mice': mice,\n",
    "    'num_k': 7,\n",
    "    'perc': 'p15-sample',\n",
    "    'mode': 'ca2',\n",
    "    'metric': 'pearson',\n",
    "    'sv_props': {\n",
    "        'match_metric': 'euclidean',\n",
    "        'match_using': 'gam'},\n",
    "    'graph_type': 'real',\n",
    "    'dist_metric': 'cosine',\n",
    "    'ordering': 'infer',\n",
    "    'verbose': False,\n",
    "}\n",
    "kws = {\n",
    "    'task': 'rest',\n",
    "    'desc_ca2': 'awake',\n",
    "    'runs_only': True,\n",
    "    'exclude': True,\n",
    "}"
   ]
  },
  {
   "cell_type": "code",
   "execution_count": null,
   "id": "0771a227",
   "metadata": {},
   "outputs": [],
   "source": [
    "pbar = tqdm([None, 0.01, 0.5, (0.01, 0.5)])\n",
    "for b in pbar:\n",
    "    msg = f\"running group (task-{kws['task']}, \"\n",
    "    msg += f\"b-{str(b).replace(' ', '')}, kk-{props['num_k']})\"\n",
    "    pbar.set_description(msg)\n",
    "    \n",
    "    kws['band_ca2'] = b\n",
    "    mice.setup_func_data(**kws)\n",
    "    gr = Group(**props)\n",
    "    if gr.svinets_exist():\n",
    "        gr.fit_group(force=False)"
   ]
  },
  {
   "cell_type": "code",
   "execution_count": null,
   "id": "0f629061",
   "metadata": {},
   "outputs": [],
   "source": []
  },
  {
   "cell_type": "code",
   "execution_count": null,
   "id": "a907ec8a",
   "metadata": {},
   "outputs": [],
   "source": []
  },
  {
   "cell_type": "code",
   "execution_count": null,
   "id": "692bc593",
   "metadata": {},
   "outputs": [],
   "source": []
  }
 ],
 "metadata": {
  "kernelspec": {
   "display_name": "Python 3",
   "language": "python",
   "name": "python3"
  },
  "language_info": {
   "codemirror_mode": {
    "name": "ipython",
    "version": 3
   },
   "file_extension": ".py",
   "mimetype": "text/x-python",
   "name": "python",
   "nbconvert_exporter": "python",
   "pygments_lexer": "ipython3",
   "version": "3.8.3"
  }
 },
 "nbformat": 4,
 "nbformat_minor": 5
}
