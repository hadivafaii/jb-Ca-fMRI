{
 "cells": [
  {
   "cell_type": "markdown",
   "id": "35ab962b",
   "metadata": {},
   "source": [
    "# (14) tmask mismatch\n",
    "\n",
    "**Motivation**: <br>"
   ]
  },
  {
   "cell_type": "code",
   "execution_count": 1,
   "id": "9180474d",
   "metadata": {
    "tags": [
     "hide-input"
    ]
   },
   "outputs": [],
   "source": [
    "# HIDE CODE\n",
    "\n",
    "\n",
    "import os, sys\n",
    "from IPython.display import display\n",
    "\n",
    "# tmp & extras dir\n",
    "git_dir = os.path.join(os.environ['HOME'], 'Dropbox/git')\n",
    "extras_dir = os.path.join(git_dir, 'jb-Ca-fMRI/_extras')\n",
    "fig_base_dir = os.path.join(git_dir, 'jb-Ca-fMRI/figs')\n",
    "tmp_dir = os.path.join(git_dir, 'jb-Ca-fMRI/tmp')\n",
    "\n",
    "# GitHub\n",
    "sys.path.insert(0, os.path.join(git_dir, '_Ca-fMRI'))\n",
    "from figures.fighelper import *\n",
    "from analysis.final import *\n",
    "from utils.render import *\n",
    "\n",
    "# warnings, tqdm, & style\n",
    "warnings.filterwarnings('ignore', category=DeprecationWarning)\n",
    "from tqdm.notebook import tqdm\n",
    "%matplotlib inline\n",
    "set_style()"
   ]
  },
  {
   "cell_type": "code",
   "execution_count": 2,
   "id": "b41adfc5",
   "metadata": {},
   "outputs": [],
   "source": [
    "def _tmask_delta_df(path, full=False):\n",
    "    df = []\n",
    "    for key, func in tqdm(mice.bold.items(), disable=not full):\n",
    "        try:\n",
    "            f = next(\n",
    "                f for f in os.listdir(path) if\n",
    "                all(e in f for e in key.split('_'))\n",
    "            )\n",
    "            tmask = pd.read_csv(pjoin(path, f)).values\n",
    "            tmask = tmask.sum()\n",
    "        except StopIteration:\n",
    "            tmask = np.nan\n",
    "            \n",
    "        if full:\n",
    "            run_raw_t = float(\n",
    "                mice.bold_preproc[key].load_ants().shape[-1])\n",
    "        else:\n",
    "            run_raw_t = np.nan\n",
    "\n",
    "        df.append({\n",
    "            'key': [key],\n",
    "            'task': [func.task],\n",
    "            'run_t': [float(func[:].shape[1])],\n",
    "            'run_raw_t': [run_raw_t],\n",
    "            'tmask_t': [tmask],\n",
    "        })\n",
    "    df = pd.DataFrame(merge_dicts(df))\n",
    "    return df"
   ]
  },
  {
   "cell_type": "code",
   "execution_count": 3,
   "id": "46109738",
   "metadata": {},
   "outputs": [],
   "source": [
    "desc = {\n",
    "    'ca2': 'preproc',\n",
    "    'bold': 'rabies-hp',\n",
    "}\n",
    "mice = Mice(128)\n",
    "mice.setup_preproc_data(desc=desc)\n",
    "mice.setup_func_data(task=None, exclude=False, desc=desc)\n",
    "\n",
    "base_dir = '/mnt/storage/hadi/Ca-fMRI/gabe_data'"
   ]
  },
  {
   "cell_type": "markdown",
   "id": "957d2861",
   "metadata": {},
   "source": [
    "## Processed data"
   ]
  },
  {
   "cell_type": "markdown",
   "id": "151e1335",
   "metadata": {},
   "source": [
    "### 1) reoriented_data_highpass"
   ]
  },
  {
   "cell_type": "code",
   "execution_count": 4,
   "id": "d16068c2",
   "metadata": {},
   "outputs": [],
   "source": [
    "path = 'reoriented_data_highpass/frame_censoring_mask'\n",
    "df = _tmask_delta_df(pjoin(base_dir, path), False)\n",
    "delta = (df['run_t'] - df['tmask_t']).values"
   ]
  },
  {
   "cell_type": "code",
   "execution_count": 5,
   "id": "e2d470bd",
   "metadata": {},
   "outputs": [
    {
     "data": {
      "text/html": [
       "<pre style=\"white-space:pre;overflow-x:auto;line-height:normal;font-family:Menlo,'DejaVu Sans Mono',consolas,'Courier New',monospace\"><span style=\"color: #800080; text-decoration-color: #800080; font-weight: bold\">array</span><span style=\"font-weight: bold\">([</span><span style=\"color: #008080; text-decoration-color: #008080; font-weight: bold\">0</span>., <span style=\"color: #008080; text-decoration-color: #008080; font-weight: bold\">0</span>., <span style=\"color: #008080; text-decoration-color: #008080; font-weight: bold\">0</span>., <span style=\"color: #008080; text-decoration-color: #008080; font-weight: bold\">0</span>., <span style=\"color: #008080; text-decoration-color: #008080; font-weight: bold\">0</span>., <span style=\"color: #008080; text-decoration-color: #008080; font-weight: bold\">0</span>., <span style=\"color: #008080; text-decoration-color: #008080; font-weight: bold\">0</span>., <span style=\"color: #008080; text-decoration-color: #008080; font-weight: bold\">0</span>., <span style=\"color: #008080; text-decoration-color: #008080; font-weight: bold\">0</span>., <span style=\"color: #008080; text-decoration-color: #008080; font-weight: bold\">0</span>., <span style=\"color: #008080; text-decoration-color: #008080; font-weight: bold\">0</span>., <span style=\"color: #008080; text-decoration-color: #008080; font-weight: bold\">0</span>., <span style=\"color: #008080; text-decoration-color: #008080; font-weight: bold\">0</span>., <span style=\"color: #008080; text-decoration-color: #008080; font-weight: bold\">0</span>., <span style=\"color: #008080; text-decoration-color: #008080; font-weight: bold\">0</span>., <span style=\"color: #008080; text-decoration-color: #008080; font-weight: bold\">0</span>., <span style=\"color: #008080; text-decoration-color: #008080; font-weight: bold\">0</span>.,\n",
       "       <span style=\"color: #008080; text-decoration-color: #008080; font-weight: bold\">0</span>., <span style=\"color: #008080; text-decoration-color: #008080; font-weight: bold\">0</span>., <span style=\"color: #008080; text-decoration-color: #008080; font-weight: bold\">0</span>., <span style=\"color: #008080; text-decoration-color: #008080; font-weight: bold\">0</span>., <span style=\"color: #008080; text-decoration-color: #008080; font-weight: bold\">0</span>., <span style=\"color: #008080; text-decoration-color: #008080; font-weight: bold\">0</span>., <span style=\"color: #008080; text-decoration-color: #008080; font-weight: bold\">0</span>., <span style=\"color: #008080; text-decoration-color: #008080; font-weight: bold\">0</span>., <span style=\"color: #008080; text-decoration-color: #008080; font-weight: bold\">0</span>., <span style=\"color: #008080; text-decoration-color: #008080; font-weight: bold\">0</span>., <span style=\"color: #008080; text-decoration-color: #008080; font-weight: bold\">0</span>., <span style=\"color: #008080; text-decoration-color: #008080; font-weight: bold\">0</span>., <span style=\"color: #008080; text-decoration-color: #008080; font-weight: bold\">0</span>., <span style=\"color: #008080; text-decoration-color: #008080; font-weight: bold\">0</span>., <span style=\"color: #008080; text-decoration-color: #008080; font-weight: bold\">0</span>., <span style=\"color: #008080; text-decoration-color: #008080; font-weight: bold\">0</span>., <span style=\"color: #008080; text-decoration-color: #008080; font-weight: bold\">0</span>.,\n",
       "       <span style=\"color: #008080; text-decoration-color: #008080; font-weight: bold\">0</span>., <span style=\"color: #008080; text-decoration-color: #008080; font-weight: bold\">0</span>., <span style=\"color: #008080; text-decoration-color: #008080; font-weight: bold\">0</span>., <span style=\"color: #008080; text-decoration-color: #008080; font-weight: bold\">0</span>., <span style=\"color: #008080; text-decoration-color: #008080; font-weight: bold\">0</span>., <span style=\"color: #008080; text-decoration-color: #008080; font-weight: bold\">0</span>., <span style=\"color: #008080; text-decoration-color: #008080; font-weight: bold\">0</span>., <span style=\"color: #008080; text-decoration-color: #008080; font-weight: bold\">0</span>., <span style=\"color: #008080; text-decoration-color: #008080; font-weight: bold\">0</span>., <span style=\"color: #008080; text-decoration-color: #008080; font-weight: bold\">0</span>., <span style=\"color: #008080; text-decoration-color: #008080; font-weight: bold\">0</span>., <span style=\"color: #008080; text-decoration-color: #008080; font-weight: bold\">0</span>., <span style=\"color: #008080; text-decoration-color: #008080; font-weight: bold\">0</span>., <span style=\"color: #008080; text-decoration-color: #008080; font-weight: bold\">0</span>., <span style=\"color: #008080; text-decoration-color: #008080; font-weight: bold\">0</span>., <span style=\"color: #008080; text-decoration-color: #008080; font-weight: bold\">0</span>., <span style=\"color: #008080; text-decoration-color: #008080; font-weight: bold\">0</span>.,\n",
       "       <span style=\"color: #008080; text-decoration-color: #008080; font-weight: bold\">0</span>., <span style=\"color: #008080; text-decoration-color: #008080; font-weight: bold\">0</span>., <span style=\"color: #008080; text-decoration-color: #008080; font-weight: bold\">0</span>., <span style=\"color: #008080; text-decoration-color: #008080; font-weight: bold\">0</span>., <span style=\"color: #008080; text-decoration-color: #008080; font-weight: bold\">0</span>., <span style=\"color: #008080; text-decoration-color: #008080; font-weight: bold\">0</span>., <span style=\"color: #008080; text-decoration-color: #008080; font-weight: bold\">0</span>., <span style=\"color: #008080; text-decoration-color: #008080; font-weight: bold\">0</span>., <span style=\"color: #008080; text-decoration-color: #008080; font-weight: bold\">0</span>., <span style=\"color: #008080; text-decoration-color: #008080; font-weight: bold\">0</span>., <span style=\"color: #008080; text-decoration-color: #008080; font-weight: bold\">0</span>., <span style=\"color: #008080; text-decoration-color: #008080; font-weight: bold\">0</span>., <span style=\"color: #008080; text-decoration-color: #008080; font-weight: bold\">0</span>., <span style=\"color: #008080; text-decoration-color: #008080; font-weight: bold\">0</span>., <span style=\"color: #008080; text-decoration-color: #008080; font-weight: bold\">0</span>., <span style=\"color: #008080; text-decoration-color: #008080; font-weight: bold\">0</span>., <span style=\"color: #008080; text-decoration-color: #008080; font-weight: bold\">0</span>.,\n",
       "       <span style=\"color: #008080; text-decoration-color: #008080; font-weight: bold\">0</span>., <span style=\"color: #008080; text-decoration-color: #008080; font-weight: bold\">0</span>., <span style=\"color: #008080; text-decoration-color: #008080; font-weight: bold\">0</span>., <span style=\"color: #008080; text-decoration-color: #008080; font-weight: bold\">0</span>., <span style=\"color: #008080; text-decoration-color: #008080; font-weight: bold\">0</span>., <span style=\"color: #008080; text-decoration-color: #008080; font-weight: bold\">0</span>., <span style=\"color: #008080; text-decoration-color: #008080; font-weight: bold\">0</span>., <span style=\"color: #008080; text-decoration-color: #008080; font-weight: bold\">0</span>., <span style=\"color: #008080; text-decoration-color: #008080; font-weight: bold\">0</span>., <span style=\"color: #008080; text-decoration-color: #008080; font-weight: bold\">0</span>., <span style=\"color: #008080; text-decoration-color: #008080; font-weight: bold\">0</span>., <span style=\"color: #008080; text-decoration-color: #008080; font-weight: bold\">0</span>., <span style=\"color: #008080; text-decoration-color: #008080; font-weight: bold\">0</span>., <span style=\"color: #008080; text-decoration-color: #008080; font-weight: bold\">0</span>., <span style=\"color: #008080; text-decoration-color: #008080; font-weight: bold\">0</span>., <span style=\"color: #008080; text-decoration-color: #008080; font-weight: bold\">0</span>., <span style=\"color: #008080; text-decoration-color: #008080; font-weight: bold\">0</span>.,\n",
       "       <span style=\"color: #008080; text-decoration-color: #008080; font-weight: bold\">0</span>., <span style=\"color: #008080; text-decoration-color: #008080; font-weight: bold\">0</span>., <span style=\"color: #008080; text-decoration-color: #008080; font-weight: bold\">0</span>., <span style=\"color: #008080; text-decoration-color: #008080; font-weight: bold\">0</span>., <span style=\"color: #008080; text-decoration-color: #008080; font-weight: bold\">0</span>., <span style=\"color: #008080; text-decoration-color: #008080; font-weight: bold\">0</span>., <span style=\"color: #008080; text-decoration-color: #008080; font-weight: bold\">0</span>., <span style=\"color: #008080; text-decoration-color: #008080; font-weight: bold\">0</span>., <span style=\"color: #008080; text-decoration-color: #008080; font-weight: bold\">0</span>., <span style=\"color: #008080; text-decoration-color: #008080; font-weight: bold\">0</span>., <span style=\"color: #008080; text-decoration-color: #008080; font-weight: bold\">0</span>., <span style=\"color: #008080; text-decoration-color: #008080; font-weight: bold\">0</span>., <span style=\"color: #008080; text-decoration-color: #008080; font-weight: bold\">0</span>., <span style=\"color: #008080; text-decoration-color: #008080; font-weight: bold\">0</span>., <span style=\"color: #008080; text-decoration-color: #008080; font-weight: bold\">0</span>., <span style=\"color: #008080; text-decoration-color: #008080; font-weight: bold\">0</span>., <span style=\"color: #008080; text-decoration-color: #008080; font-weight: bold\">0</span>.,\n",
       "       <span style=\"color: #008080; text-decoration-color: #008080; font-weight: bold\">0</span>., <span style=\"color: #008080; text-decoration-color: #008080; font-weight: bold\">0</span>., <span style=\"color: #008080; text-decoration-color: #008080; font-weight: bold\">0</span>., <span style=\"color: #008080; text-decoration-color: #008080; font-weight: bold\">0</span>., <span style=\"color: #008080; text-decoration-color: #008080; font-weight: bold\">0</span>., <span style=\"color: #008080; text-decoration-color: #008080; font-weight: bold\">0</span>., <span style=\"color: #008080; text-decoration-color: #008080; font-weight: bold\">0</span>., <span style=\"color: #008080; text-decoration-color: #008080; font-weight: bold\">0</span>., <span style=\"color: #008080; text-decoration-color: #008080; font-weight: bold\">0</span>., <span style=\"color: #008080; text-decoration-color: #008080; font-weight: bold\">0</span>., <span style=\"color: #008080; text-decoration-color: #008080; font-weight: bold\">0</span>., <span style=\"color: #008080; text-decoration-color: #008080; font-weight: bold\">0</span>., <span style=\"color: #008080; text-decoration-color: #008080; font-weight: bold\">0</span>., <span style=\"color: #008080; text-decoration-color: #008080; font-weight: bold\">0</span>., <span style=\"color: #008080; text-decoration-color: #008080; font-weight: bold\">0</span>., <span style=\"color: #008080; text-decoration-color: #008080; font-weight: bold\">0</span>., <span style=\"color: #008080; text-decoration-color: #008080; font-weight: bold\">0</span>.,\n",
       "       <span style=\"color: #008080; text-decoration-color: #008080; font-weight: bold\">0</span>., <span style=\"color: #008080; text-decoration-color: #008080; font-weight: bold\">0</span>., <span style=\"color: #008080; text-decoration-color: #008080; font-weight: bold\">0</span>., <span style=\"color: #008080; text-decoration-color: #008080; font-weight: bold\">0</span>., <span style=\"color: #008080; text-decoration-color: #008080; font-weight: bold\">0</span>., <span style=\"color: #008080; text-decoration-color: #008080; font-weight: bold\">0</span>., <span style=\"color: #008080; text-decoration-color: #008080; font-weight: bold\">0</span>., <span style=\"color: #008080; text-decoration-color: #008080; font-weight: bold\">0</span>., <span style=\"color: #008080; text-decoration-color: #008080; font-weight: bold\">0</span>., <span style=\"color: #008080; text-decoration-color: #008080; font-weight: bold\">0</span>., <span style=\"color: #008080; text-decoration-color: #008080; font-weight: bold\">0</span>., <span style=\"color: #008080; text-decoration-color: #008080; font-weight: bold\">0</span>., <span style=\"color: #008080; text-decoration-color: #008080; font-weight: bold\">0</span>., <span style=\"color: #008080; text-decoration-color: #008080; font-weight: bold\">0</span>., <span style=\"color: #008080; text-decoration-color: #008080; font-weight: bold\">0</span>., <span style=\"color: #008080; text-decoration-color: #008080; font-weight: bold\">0</span>., <span style=\"color: #008080; text-decoration-color: #008080; font-weight: bold\">0</span>.,\n",
       "       <span style=\"color: #008080; text-decoration-color: #008080; font-weight: bold\">0</span>., <span style=\"color: #008080; text-decoration-color: #008080; font-weight: bold\">0</span>., <span style=\"color: #008080; text-decoration-color: #008080; font-weight: bold\">0</span>., <span style=\"color: #008080; text-decoration-color: #008080; font-weight: bold\">0</span>., <span style=\"color: #008080; text-decoration-color: #008080; font-weight: bold\">0</span>., <span style=\"color: #008080; text-decoration-color: #008080; font-weight: bold\">0</span>., <span style=\"color: #008080; text-decoration-color: #008080; font-weight: bold\">0</span>., <span style=\"color: #008080; text-decoration-color: #008080; font-weight: bold\">0</span>., <span style=\"color: #008080; text-decoration-color: #008080; font-weight: bold\">0</span>., <span style=\"color: #008080; text-decoration-color: #008080; font-weight: bold\">0</span>., <span style=\"color: #008080; text-decoration-color: #008080; font-weight: bold\">0</span>., <span style=\"color: #008080; text-decoration-color: #008080; font-weight: bold\">0</span>., <span style=\"color: #008080; text-decoration-color: #008080; font-weight: bold\">0</span>., <span style=\"color: #008080; text-decoration-color: #008080; font-weight: bold\">0</span>., <span style=\"color: #008080; text-decoration-color: #008080; font-weight: bold\">0</span>., <span style=\"color: #008080; text-decoration-color: #008080; font-weight: bold\">0</span>., <span style=\"color: #008080; text-decoration-color: #008080; font-weight: bold\">0</span>.,\n",
       "       <span style=\"color: #008080; text-decoration-color: #008080; font-weight: bold\">0</span>., <span style=\"color: #008080; text-decoration-color: #008080; font-weight: bold\">0</span>., <span style=\"color: #008080; text-decoration-color: #008080; font-weight: bold\">0</span>., <span style=\"color: #008080; text-decoration-color: #008080; font-weight: bold\">0</span>., <span style=\"color: #008080; text-decoration-color: #008080; font-weight: bold\">0</span>., <span style=\"color: #008080; text-decoration-color: #008080; font-weight: bold\">0</span>., <span style=\"color: #008080; text-decoration-color: #008080; font-weight: bold\">0</span>., <span style=\"color: #008080; text-decoration-color: #008080; font-weight: bold\">0</span>., <span style=\"color: #008080; text-decoration-color: #008080; font-weight: bold\">0</span>., <span style=\"color: #008080; text-decoration-color: #008080; font-weight: bold\">0</span>., <span style=\"color: #008080; text-decoration-color: #008080; font-weight: bold\">0</span>., <span style=\"color: #008080; text-decoration-color: #008080; font-weight: bold\">0</span>., <span style=\"color: #008080; text-decoration-color: #008080; font-weight: bold\">0</span>., <span style=\"color: #008080; text-decoration-color: #008080; font-weight: bold\">0</span>., <span style=\"color: #008080; text-decoration-color: #008080; font-weight: bold\">0</span>., <span style=\"color: #008080; text-decoration-color: #008080; font-weight: bold\">0</span>., <span style=\"color: #008080; text-decoration-color: #008080; font-weight: bold\">0</span>.,\n",
       "       <span style=\"color: #008080; text-decoration-color: #008080; font-weight: bold\">0</span>., <span style=\"color: #008080; text-decoration-color: #008080; font-weight: bold\">0</span>., <span style=\"color: #008080; text-decoration-color: #008080; font-weight: bold\">0</span>., <span style=\"color: #008080; text-decoration-color: #008080; font-weight: bold\">0</span>., <span style=\"color: #008080; text-decoration-color: #008080; font-weight: bold\">0</span>., <span style=\"color: #008080; text-decoration-color: #008080; font-weight: bold\">0</span>., <span style=\"color: #008080; text-decoration-color: #008080; font-weight: bold\">0</span>., <span style=\"color: #008080; text-decoration-color: #008080; font-weight: bold\">0</span>., <span style=\"color: #008080; text-decoration-color: #008080; font-weight: bold\">0</span>., <span style=\"color: #008080; text-decoration-color: #008080; font-weight: bold\">0</span>., <span style=\"color: #008080; text-decoration-color: #008080; font-weight: bold\">0</span>., <span style=\"color: #008080; text-decoration-color: #008080; font-weight: bold\">0</span>., <span style=\"color: #008080; text-decoration-color: #008080; font-weight: bold\">0</span>., <span style=\"color: #008080; text-decoration-color: #008080; font-weight: bold\">0</span>., <span style=\"color: #008080; text-decoration-color: #008080; font-weight: bold\">0</span>., <span style=\"color: #008080; text-decoration-color: #008080; font-weight: bold\">0</span>., <span style=\"color: #008080; text-decoration-color: #008080; font-weight: bold\">0</span>.,\n",
       "       <span style=\"color: #008080; text-decoration-color: #008080; font-weight: bold\">0</span>., <span style=\"color: #008080; text-decoration-color: #008080; font-weight: bold\">0</span>., <span style=\"color: #008080; text-decoration-color: #008080; font-weight: bold\">0</span>., <span style=\"color: #008080; text-decoration-color: #008080; font-weight: bold\">0</span>., <span style=\"color: #008080; text-decoration-color: #008080; font-weight: bold\">0</span>., <span style=\"color: #008080; text-decoration-color: #008080; font-weight: bold\">0</span>., <span style=\"color: #008080; text-decoration-color: #008080; font-weight: bold\">0</span>., <span style=\"color: #008080; text-decoration-color: #008080; font-weight: bold\">0</span>., <span style=\"color: #008080; text-decoration-color: #008080; font-weight: bold\">0</span>., <span style=\"color: #008080; text-decoration-color: #008080; font-weight: bold\">0</span>., <span style=\"color: #008080; text-decoration-color: #008080; font-weight: bold\">0</span>., <span style=\"color: #008080; text-decoration-color: #008080; font-weight: bold\">0</span>., <span style=\"color: #008080; text-decoration-color: #008080; font-weight: bold\">0</span>.<span style=\"font-weight: bold\">])</span>\n",
       "</pre>\n"
      ],
      "text/plain": [
       "\u001b[1;35marray\u001b[0m\u001b[1m(\u001b[0m\u001b[1m[\u001b[0m\u001b[1;36m0\u001b[0m., \u001b[1;36m0\u001b[0m., \u001b[1;36m0\u001b[0m., \u001b[1;36m0\u001b[0m., \u001b[1;36m0\u001b[0m., \u001b[1;36m0\u001b[0m., \u001b[1;36m0\u001b[0m., \u001b[1;36m0\u001b[0m., \u001b[1;36m0\u001b[0m., \u001b[1;36m0\u001b[0m., \u001b[1;36m0\u001b[0m., \u001b[1;36m0\u001b[0m., \u001b[1;36m0\u001b[0m., \u001b[1;36m0\u001b[0m., \u001b[1;36m0\u001b[0m., \u001b[1;36m0\u001b[0m., \u001b[1;36m0\u001b[0m.,\n",
       "       \u001b[1;36m0\u001b[0m., \u001b[1;36m0\u001b[0m., \u001b[1;36m0\u001b[0m., \u001b[1;36m0\u001b[0m., \u001b[1;36m0\u001b[0m., \u001b[1;36m0\u001b[0m., \u001b[1;36m0\u001b[0m., \u001b[1;36m0\u001b[0m., \u001b[1;36m0\u001b[0m., \u001b[1;36m0\u001b[0m., \u001b[1;36m0\u001b[0m., \u001b[1;36m0\u001b[0m., \u001b[1;36m0\u001b[0m., \u001b[1;36m0\u001b[0m., \u001b[1;36m0\u001b[0m., \u001b[1;36m0\u001b[0m., \u001b[1;36m0\u001b[0m.,\n",
       "       \u001b[1;36m0\u001b[0m., \u001b[1;36m0\u001b[0m., \u001b[1;36m0\u001b[0m., \u001b[1;36m0\u001b[0m., \u001b[1;36m0\u001b[0m., \u001b[1;36m0\u001b[0m., \u001b[1;36m0\u001b[0m., \u001b[1;36m0\u001b[0m., \u001b[1;36m0\u001b[0m., \u001b[1;36m0\u001b[0m., \u001b[1;36m0\u001b[0m., \u001b[1;36m0\u001b[0m., \u001b[1;36m0\u001b[0m., \u001b[1;36m0\u001b[0m., \u001b[1;36m0\u001b[0m., \u001b[1;36m0\u001b[0m., \u001b[1;36m0\u001b[0m.,\n",
       "       \u001b[1;36m0\u001b[0m., \u001b[1;36m0\u001b[0m., \u001b[1;36m0\u001b[0m., \u001b[1;36m0\u001b[0m., \u001b[1;36m0\u001b[0m., \u001b[1;36m0\u001b[0m., \u001b[1;36m0\u001b[0m., \u001b[1;36m0\u001b[0m., \u001b[1;36m0\u001b[0m., \u001b[1;36m0\u001b[0m., \u001b[1;36m0\u001b[0m., \u001b[1;36m0\u001b[0m., \u001b[1;36m0\u001b[0m., \u001b[1;36m0\u001b[0m., \u001b[1;36m0\u001b[0m., \u001b[1;36m0\u001b[0m., \u001b[1;36m0\u001b[0m.,\n",
       "       \u001b[1;36m0\u001b[0m., \u001b[1;36m0\u001b[0m., \u001b[1;36m0\u001b[0m., \u001b[1;36m0\u001b[0m., \u001b[1;36m0\u001b[0m., \u001b[1;36m0\u001b[0m., \u001b[1;36m0\u001b[0m., \u001b[1;36m0\u001b[0m., \u001b[1;36m0\u001b[0m., \u001b[1;36m0\u001b[0m., \u001b[1;36m0\u001b[0m., \u001b[1;36m0\u001b[0m., \u001b[1;36m0\u001b[0m., \u001b[1;36m0\u001b[0m., \u001b[1;36m0\u001b[0m., \u001b[1;36m0\u001b[0m., \u001b[1;36m0\u001b[0m.,\n",
       "       \u001b[1;36m0\u001b[0m., \u001b[1;36m0\u001b[0m., \u001b[1;36m0\u001b[0m., \u001b[1;36m0\u001b[0m., \u001b[1;36m0\u001b[0m., \u001b[1;36m0\u001b[0m., \u001b[1;36m0\u001b[0m., \u001b[1;36m0\u001b[0m., \u001b[1;36m0\u001b[0m., \u001b[1;36m0\u001b[0m., \u001b[1;36m0\u001b[0m., \u001b[1;36m0\u001b[0m., \u001b[1;36m0\u001b[0m., \u001b[1;36m0\u001b[0m., \u001b[1;36m0\u001b[0m., \u001b[1;36m0\u001b[0m., \u001b[1;36m0\u001b[0m.,\n",
       "       \u001b[1;36m0\u001b[0m., \u001b[1;36m0\u001b[0m., \u001b[1;36m0\u001b[0m., \u001b[1;36m0\u001b[0m., \u001b[1;36m0\u001b[0m., \u001b[1;36m0\u001b[0m., \u001b[1;36m0\u001b[0m., \u001b[1;36m0\u001b[0m., \u001b[1;36m0\u001b[0m., \u001b[1;36m0\u001b[0m., \u001b[1;36m0\u001b[0m., \u001b[1;36m0\u001b[0m., \u001b[1;36m0\u001b[0m., \u001b[1;36m0\u001b[0m., \u001b[1;36m0\u001b[0m., \u001b[1;36m0\u001b[0m., \u001b[1;36m0\u001b[0m.,\n",
       "       \u001b[1;36m0\u001b[0m., \u001b[1;36m0\u001b[0m., \u001b[1;36m0\u001b[0m., \u001b[1;36m0\u001b[0m., \u001b[1;36m0\u001b[0m., \u001b[1;36m0\u001b[0m., \u001b[1;36m0\u001b[0m., \u001b[1;36m0\u001b[0m., \u001b[1;36m0\u001b[0m., \u001b[1;36m0\u001b[0m., \u001b[1;36m0\u001b[0m., \u001b[1;36m0\u001b[0m., \u001b[1;36m0\u001b[0m., \u001b[1;36m0\u001b[0m., \u001b[1;36m0\u001b[0m., \u001b[1;36m0\u001b[0m., \u001b[1;36m0\u001b[0m.,\n",
       "       \u001b[1;36m0\u001b[0m., \u001b[1;36m0\u001b[0m., \u001b[1;36m0\u001b[0m., \u001b[1;36m0\u001b[0m., \u001b[1;36m0\u001b[0m., \u001b[1;36m0\u001b[0m., \u001b[1;36m0\u001b[0m., \u001b[1;36m0\u001b[0m., \u001b[1;36m0\u001b[0m., \u001b[1;36m0\u001b[0m., \u001b[1;36m0\u001b[0m., \u001b[1;36m0\u001b[0m., \u001b[1;36m0\u001b[0m., \u001b[1;36m0\u001b[0m., \u001b[1;36m0\u001b[0m., \u001b[1;36m0\u001b[0m., \u001b[1;36m0\u001b[0m.,\n",
       "       \u001b[1;36m0\u001b[0m., \u001b[1;36m0\u001b[0m., \u001b[1;36m0\u001b[0m., \u001b[1;36m0\u001b[0m., \u001b[1;36m0\u001b[0m., \u001b[1;36m0\u001b[0m., \u001b[1;36m0\u001b[0m., \u001b[1;36m0\u001b[0m., \u001b[1;36m0\u001b[0m., \u001b[1;36m0\u001b[0m., \u001b[1;36m0\u001b[0m., \u001b[1;36m0\u001b[0m., \u001b[1;36m0\u001b[0m., \u001b[1;36m0\u001b[0m., \u001b[1;36m0\u001b[0m., \u001b[1;36m0\u001b[0m., \u001b[1;36m0\u001b[0m.,\n",
       "       \u001b[1;36m0\u001b[0m., \u001b[1;36m0\u001b[0m., \u001b[1;36m0\u001b[0m., \u001b[1;36m0\u001b[0m., \u001b[1;36m0\u001b[0m., \u001b[1;36m0\u001b[0m., \u001b[1;36m0\u001b[0m., \u001b[1;36m0\u001b[0m., \u001b[1;36m0\u001b[0m., \u001b[1;36m0\u001b[0m., \u001b[1;36m0\u001b[0m., \u001b[1;36m0\u001b[0m., \u001b[1;36m0\u001b[0m., \u001b[1;36m0\u001b[0m., \u001b[1;36m0\u001b[0m., \u001b[1;36m0\u001b[0m., \u001b[1;36m0\u001b[0m.,\n",
       "       \u001b[1;36m0\u001b[0m., \u001b[1;36m0\u001b[0m., \u001b[1;36m0\u001b[0m., \u001b[1;36m0\u001b[0m., \u001b[1;36m0\u001b[0m., \u001b[1;36m0\u001b[0m., \u001b[1;36m0\u001b[0m., \u001b[1;36m0\u001b[0m., \u001b[1;36m0\u001b[0m., \u001b[1;36m0\u001b[0m., \u001b[1;36m0\u001b[0m., \u001b[1;36m0\u001b[0m., \u001b[1;36m0\u001b[0m.\u001b[1m]\u001b[0m\u001b[1m)\u001b[0m\n"
      ]
     },
     "metadata": {},
     "output_type": "display_data"
    }
   ],
   "source": [
    "delta"
   ]
  },
  {
   "cell_type": "code",
   "execution_count": 6,
   "id": "2146749e",
   "metadata": {},
   "outputs": [
    {
     "data": {
      "text/html": [
       "<pre style=\"white-space:pre;overflow-x:auto;line-height:normal;font-family:Menlo,'DejaVu Sans Mono',consolas,'Courier New',monospace\"><span style=\"font-weight: bold\">[(</span><span style=\"color: #008080; text-decoration-color: #008080; font-weight: bold\">0.0</span>, <span style=\"color: #008080; text-decoration-color: #008080; font-weight: bold\">200</span><span style=\"font-weight: bold\">)]</span>\n",
       "</pre>\n"
      ],
      "text/plain": [
       "\u001b[1m[\u001b[0m\u001b[1m(\u001b[0m\u001b[1;36m0.0\u001b[0m, \u001b[1;36m200\u001b[0m\u001b[1m)\u001b[0m\u001b[1m]\u001b[0m\n"
      ]
     },
     "metadata": {},
     "output_type": "display_data"
    }
   ],
   "source": [
    "collections.Counter(delta).most_common()"
   ]
  },
  {
   "cell_type": "code",
   "execution_count": 7,
   "id": "b07015e9",
   "metadata": {},
   "outputs": [
    {
     "data": {
      "text/html": [
       "<pre style=\"white-space:pre;overflow-x:auto;line-height:normal;font-family:Menlo,'DejaVu Sans Mono',consolas,'Courier New',monospace\"><span style=\"color: #008080; text-decoration-color: #008080; font-weight: bold\">100.00</span> % correct\n",
       "</pre>\n"
      ],
      "text/plain": [
       "\u001b[1;36m100.00\u001b[0m % correct\n"
      ]
     },
     "metadata": {},
     "output_type": "display_data"
    }
   ],
   "source": [
    "percent_correct1 = 100 * collections.Counter(delta).get(0., 0.) / len(delta)\n",
    "print(f\"{percent_correct1:0.2f} % correct\")"
   ]
  },
  {
   "cell_type": "code",
   "execution_count": null,
   "id": "e7e557ea",
   "metadata": {},
   "outputs": [],
   "source": []
  },
  {
   "cell_type": "code",
   "execution_count": 8,
   "id": "7abccc14",
   "metadata": {},
   "outputs": [
    {
     "data": {
      "text/html": [
       "<pre style=\"white-space:pre;overflow-x:auto;line-height:normal;font-family:Menlo,'DejaVu Sans Mono',consolas,'Courier New',monospace\"><span style=\"font-weight: bold\">(</span><span style=\"color: #008080; text-decoration-color: #008080; font-weight: bold\">2766</span>, <span style=\"color: #008080; text-decoration-color: #008080; font-weight: bold\">519</span><span style=\"font-weight: bold\">)</span>\n",
       "</pre>\n"
      ],
      "text/plain": [
       "\u001b[1m(\u001b[0m\u001b[1;36m2766\u001b[0m, \u001b[1;36m519\u001b[0m\u001b[1m)\u001b[0m\n"
      ]
     },
     "metadata": {},
     "output_type": "display_data"
    }
   ],
   "source": [
    "mice.bold['sub-SLC02_ses-2_run-3'].shape"
   ]
  },
  {
   "cell_type": "markdown",
   "id": "0a9d2cc9",
   "metadata": {},
   "source": [
    "### 2) reoriented_data"
   ]
  },
  {
   "cell_type": "code",
   "execution_count": 9,
   "id": "01e91c26",
   "metadata": {},
   "outputs": [],
   "source": [
    "path = 'reoriented_data/frame_censoring_mask'\n",
    "df = _tmask_delta_df(pjoin(base_dir, path), False)\n",
    "delta = (df['run_t'] - df['tmask_t']).values"
   ]
  },
  {
   "cell_type": "code",
   "execution_count": 10,
   "id": "2480464f",
   "metadata": {},
   "outputs": [
    {
     "data": {
      "text/html": [
       "<pre style=\"white-space:pre;overflow-x:auto;line-height:normal;font-family:Menlo,'DejaVu Sans Mono',consolas,'Courier New',monospace\"><span style=\"color: #800080; text-decoration-color: #800080; font-weight: bold\">array</span><span style=\"font-weight: bold\">([</span><span style=\"color: #008080; text-decoration-color: #008080; font-weight: bold\">-26</span>., <span style=\"color: #008080; text-decoration-color: #008080; font-weight: bold\">-25</span>., <span style=\"color: #008080; text-decoration-color: #008080; font-weight: bold\">-29</span>., <span style=\"color: #008080; text-decoration-color: #008080; font-weight: bold\">-24</span>., <span style=\"color: #008080; text-decoration-color: #008080; font-weight: bold\">-20</span>., <span style=\"color: #008080; text-decoration-color: #008080; font-weight: bold\">-21</span>., <span style=\"color: #008080; text-decoration-color: #008080; font-weight: bold\">-23</span>., <span style=\"color: #008080; text-decoration-color: #008080; font-weight: bold\">-25</span>., <span style=\"color: #008080; text-decoration-color: #008080; font-weight: bold\">-20</span>., <span style=\"color: #008080; text-decoration-color: #008080; font-weight: bold\">-26</span>., <span style=\"color: #008080; text-decoration-color: #008080; font-weight: bold\">-27</span>.,\n",
       "       <span style=\"color: #008080; text-decoration-color: #008080; font-weight: bold\">-20</span>., <span style=\"color: #008080; text-decoration-color: #008080; font-weight: bold\">-26</span>., <span style=\"color: #008080; text-decoration-color: #008080; font-weight: bold\">-27</span>., <span style=\"color: #008080; text-decoration-color: #008080; font-weight: bold\">-21</span>., <span style=\"color: #008080; text-decoration-color: #008080; font-weight: bold\">-25</span>., <span style=\"color: #008080; text-decoration-color: #008080; font-weight: bold\">-24</span>., <span style=\"color: #008080; text-decoration-color: #008080; font-weight: bold\">-19</span>., <span style=\"color: #008080; text-decoration-color: #008080; font-weight: bold\">-28</span>., <span style=\"color: #008080; text-decoration-color: #008080; font-weight: bold\">-28</span>., <span style=\"color: #008080; text-decoration-color: #008080; font-weight: bold\">-23</span>., <span style=\"color: #008080; text-decoration-color: #008080; font-weight: bold\">-26</span>.,\n",
       "       <span style=\"color: #008080; text-decoration-color: #008080; font-weight: bold\">-25</span>., <span style=\"color: #008080; text-decoration-color: #008080; font-weight: bold\">-26</span>., <span style=\"color: #008080; text-decoration-color: #008080; font-weight: bold\">-27</span>., <span style=\"color: #008080; text-decoration-color: #008080; font-weight: bold\">-27</span>., <span style=\"color: #008080; text-decoration-color: #008080; font-weight: bold\">-22</span>., <span style=\"color: #008080; text-decoration-color: #008080; font-weight: bold\">-16</span>., <span style=\"color: #008080; text-decoration-color: #008080; font-weight: bold\">-20</span>., <span style=\"color: #008080; text-decoration-color: #008080; font-weight: bold\">-22</span>., <span style=\"color: #008080; text-decoration-color: #008080; font-weight: bold\">-25</span>., <span style=\"color: #008080; text-decoration-color: #008080; font-weight: bold\">-29</span>., <span style=\"color: #008080; text-decoration-color: #008080; font-weight: bold\">-25</span>.,\n",
       "       <span style=\"color: #008080; text-decoration-color: #008080; font-weight: bold\">-29</span>., <span style=\"color: #008080; text-decoration-color: #008080; font-weight: bold\">-28</span>., <span style=\"color: #008080; text-decoration-color: #008080; font-weight: bold\">-27</span>., <span style=\"color: #008080; text-decoration-color: #008080; font-weight: bold\">-24</span>., <span style=\"color: #008080; text-decoration-color: #008080; font-weight: bold\">-26</span>., <span style=\"color: #008080; text-decoration-color: #008080; font-weight: bold\">-26</span>., <span style=\"color: #008080; text-decoration-color: #008080; font-weight: bold\">-26</span>., <span style=\"color: #008080; text-decoration-color: #008080; font-weight: bold\">-22</span>., <span style=\"color: #008080; text-decoration-color: #008080; font-weight: bold\">-28</span>., <span style=\"color: #008080; text-decoration-color: #008080; font-weight: bold\">-19</span>., <span style=\"color: #008080; text-decoration-color: #008080; font-weight: bold\">-29</span>.,\n",
       "       <span style=\"color: #008080; text-decoration-color: #008080; font-weight: bold\">-24</span>., <span style=\"color: #008080; text-decoration-color: #008080; font-weight: bold\">-26</span>., <span style=\"color: #008080; text-decoration-color: #008080; font-weight: bold\">-26</span>., <span style=\"color: #008080; text-decoration-color: #008080; font-weight: bold\">-25</span>., <span style=\"color: #008080; text-decoration-color: #008080; font-weight: bold\">-29</span>., <span style=\"color: #008080; text-decoration-color: #008080; font-weight: bold\">-19</span>., <span style=\"color: #008080; text-decoration-color: #008080; font-weight: bold\">-24</span>., <span style=\"color: #008080; text-decoration-color: #008080; font-weight: bold\">-22</span>., <span style=\"color: #008080; text-decoration-color: #008080; font-weight: bold\">-12</span>., <span style=\"color: #008080; text-decoration-color: #008080; font-weight: bold\">-29</span>., <span style=\"color: #008080; text-decoration-color: #008080; font-weight: bold\">-21</span>.,\n",
       "       <span style=\"color: #008080; text-decoration-color: #008080; font-weight: bold\">-26</span>., <span style=\"color: #008080; text-decoration-color: #008080; font-weight: bold\">-25</span>., <span style=\"color: #008080; text-decoration-color: #008080; font-weight: bold\">-24</span>., <span style=\"color: #008080; text-decoration-color: #008080; font-weight: bold\">-25</span>., <span style=\"color: #008080; text-decoration-color: #008080; font-weight: bold\">-27</span>., <span style=\"color: #008080; text-decoration-color: #008080; font-weight: bold\">-25</span>., <span style=\"color: #008080; text-decoration-color: #008080; font-weight: bold\">-18</span>., <span style=\"color: #008080; text-decoration-color: #008080; font-weight: bold\">-26</span>., <span style=\"color: #008080; text-decoration-color: #008080; font-weight: bold\">-13</span>., <span style=\"color: #008080; text-decoration-color: #008080; font-weight: bold\">-19</span>., <span style=\"color: #008080; text-decoration-color: #008080; font-weight: bold\">-23</span>.,\n",
       "       <span style=\"color: #008080; text-decoration-color: #008080; font-weight: bold\">-28</span>., <span style=\"color: #008080; text-decoration-color: #008080; font-weight: bold\">-23</span>., <span style=\"color: #008080; text-decoration-color: #008080; font-weight: bold\">-24</span>., <span style=\"color: #008080; text-decoration-color: #008080; font-weight: bold\">-29</span>.,  <span style=\"color: #008080; text-decoration-color: #008080; font-weight: bold\">-8</span>., <span style=\"color: #008080; text-decoration-color: #008080; font-weight: bold\">-10</span>., <span style=\"color: #008080; text-decoration-color: #008080; font-weight: bold\">-20</span>., <span style=\"color: #008080; text-decoration-color: #008080; font-weight: bold\">-26</span>., <span style=\"color: #008080; text-decoration-color: #008080; font-weight: bold\">-24</span>., <span style=\"color: #008080; text-decoration-color: #008080; font-weight: bold\">-27</span>., <span style=\"color: #008080; text-decoration-color: #008080; font-weight: bold\">-26</span>.,\n",
       "       <span style=\"color: #008080; text-decoration-color: #008080; font-weight: bold\">-27</span>., <span style=\"color: #008080; text-decoration-color: #008080; font-weight: bold\">-25</span>., <span style=\"color: #008080; text-decoration-color: #008080; font-weight: bold\">-26</span>., <span style=\"color: #008080; text-decoration-color: #008080; font-weight: bold\">-25</span>., <span style=\"color: #008080; text-decoration-color: #008080; font-weight: bold\">-29</span>., <span style=\"color: #008080; text-decoration-color: #008080; font-weight: bold\">-22</span>., <span style=\"color: #008080; text-decoration-color: #008080; font-weight: bold\">-27</span>., <span style=\"color: #008080; text-decoration-color: #008080; font-weight: bold\">-22</span>., <span style=\"color: #008080; text-decoration-color: #008080; font-weight: bold\">-23</span>., <span style=\"color: #008080; text-decoration-color: #008080; font-weight: bold\">-27</span>., <span style=\"color: #008080; text-decoration-color: #008080; font-weight: bold\">-20</span>.,\n",
       "       <span style=\"color: #008080; text-decoration-color: #008080; font-weight: bold\">-27</span>., <span style=\"color: #008080; text-decoration-color: #008080; font-weight: bold\">-20</span>., <span style=\"color: #008080; text-decoration-color: #008080; font-weight: bold\">-17</span>., <span style=\"color: #008080; text-decoration-color: #008080; font-weight: bold\">-21</span>., <span style=\"color: #008080; text-decoration-color: #008080; font-weight: bold\">-25</span>., <span style=\"color: #008080; text-decoration-color: #008080; font-weight: bold\">-28</span>., <span style=\"color: #008080; text-decoration-color: #008080; font-weight: bold\">-26</span>., <span style=\"color: #008080; text-decoration-color: #008080; font-weight: bold\">-29</span>., <span style=\"color: #008080; text-decoration-color: #008080; font-weight: bold\">-29</span>., <span style=\"color: #008080; text-decoration-color: #008080; font-weight: bold\">-23</span>., <span style=\"color: #008080; text-decoration-color: #008080; font-weight: bold\">-25</span>.,\n",
       "       <span style=\"color: #008080; text-decoration-color: #008080; font-weight: bold\">-24</span>., <span style=\"color: #008080; text-decoration-color: #008080; font-weight: bold\">-21</span>., <span style=\"color: #008080; text-decoration-color: #008080; font-weight: bold\">-26</span>., <span style=\"color: #008080; text-decoration-color: #008080; font-weight: bold\">-22</span>., <span style=\"color: #008080; text-decoration-color: #008080; font-weight: bold\">-25</span>., <span style=\"color: #008080; text-decoration-color: #008080; font-weight: bold\">-24</span>., <span style=\"color: #008080; text-decoration-color: #008080; font-weight: bold\">-28</span>., <span style=\"color: #008080; text-decoration-color: #008080; font-weight: bold\">-29</span>., <span style=\"color: #008080; text-decoration-color: #008080; font-weight: bold\">-29</span>., <span style=\"color: #008080; text-decoration-color: #008080; font-weight: bold\">-22</span>., <span style=\"color: #008080; text-decoration-color: #008080; font-weight: bold\">-24</span>.,\n",
       "       <span style=\"color: #008080; text-decoration-color: #008080; font-weight: bold\">-25</span>., <span style=\"color: #008080; text-decoration-color: #008080; font-weight: bold\">-24</span>., <span style=\"color: #008080; text-decoration-color: #008080; font-weight: bold\">-25</span>., <span style=\"color: #008080; text-decoration-color: #008080; font-weight: bold\">-29</span>., <span style=\"color: #008080; text-decoration-color: #008080; font-weight: bold\">-27</span>., <span style=\"color: #008080; text-decoration-color: #008080; font-weight: bold\">-26</span>., <span style=\"color: #008080; text-decoration-color: #008080; font-weight: bold\">-26</span>., <span style=\"color: #008080; text-decoration-color: #008080; font-weight: bold\">-27</span>., <span style=\"color: #008080; text-decoration-color: #008080; font-weight: bold\">-29</span>., <span style=\"color: #008080; text-decoration-color: #008080; font-weight: bold\">-26</span>., <span style=\"color: #008080; text-decoration-color: #008080; font-weight: bold\">-25</span>.,\n",
       "       <span style=\"color: #008080; text-decoration-color: #008080; font-weight: bold\">-27</span>., <span style=\"color: #008080; text-decoration-color: #008080; font-weight: bold\">-25</span>., <span style=\"color: #008080; text-decoration-color: #008080; font-weight: bold\">-15</span>., <span style=\"color: #008080; text-decoration-color: #008080; font-weight: bold\">-22</span>., <span style=\"color: #008080; text-decoration-color: #008080; font-weight: bold\">-23</span>., <span style=\"color: #008080; text-decoration-color: #008080; font-weight: bold\">-24</span>., <span style=\"color: #008080; text-decoration-color: #008080; font-weight: bold\">-28</span>., <span style=\"color: #008080; text-decoration-color: #008080; font-weight: bold\">-25</span>., <span style=\"color: #008080; text-decoration-color: #008080; font-weight: bold\">-29</span>., <span style=\"color: #008080; text-decoration-color: #008080; font-weight: bold\">-27</span>., <span style=\"color: #008080; text-decoration-color: #008080; font-weight: bold\">-28</span>.,\n",
       "       <span style=\"color: #008080; text-decoration-color: #008080; font-weight: bold\">-26</span>., <span style=\"color: #008080; text-decoration-color: #008080; font-weight: bold\">-23</span>., <span style=\"color: #008080; text-decoration-color: #008080; font-weight: bold\">-27</span>., <span style=\"color: #008080; text-decoration-color: #008080; font-weight: bold\">-26</span>., <span style=\"color: #008080; text-decoration-color: #008080; font-weight: bold\">-25</span>., <span style=\"color: #008080; text-decoration-color: #008080; font-weight: bold\">-22</span>., <span style=\"color: #008080; text-decoration-color: #008080; font-weight: bold\">-29</span>., <span style=\"color: #008080; text-decoration-color: #008080; font-weight: bold\">-28</span>., <span style=\"color: #008080; text-decoration-color: #008080; font-weight: bold\">-27</span>., <span style=\"color: #008080; text-decoration-color: #008080; font-weight: bold\">-29</span>., <span style=\"color: #008080; text-decoration-color: #008080; font-weight: bold\">-24</span>.,\n",
       "       <span style=\"color: #008080; text-decoration-color: #008080; font-weight: bold\">-23</span>., <span style=\"color: #008080; text-decoration-color: #008080; font-weight: bold\">-28</span>., <span style=\"color: #008080; text-decoration-color: #008080; font-weight: bold\">-27</span>., <span style=\"color: #008080; text-decoration-color: #008080; font-weight: bold\">-12</span>., <span style=\"color: #008080; text-decoration-color: #008080; font-weight: bold\">-27</span>., <span style=\"color: #008080; text-decoration-color: #008080; font-weight: bold\">-25</span>., <span style=\"color: #008080; text-decoration-color: #008080; font-weight: bold\">-26</span>., <span style=\"color: #008080; text-decoration-color: #008080; font-weight: bold\">-11</span>., <span style=\"color: #008080; text-decoration-color: #008080; font-weight: bold\">-13</span>., <span style=\"color: #008080; text-decoration-color: #008080; font-weight: bold\">-24</span>., <span style=\"color: #008080; text-decoration-color: #008080; font-weight: bold\">-25</span>.,\n",
       "       <span style=\"color: #008080; text-decoration-color: #008080; font-weight: bold\">-20</span>., <span style=\"color: #008080; text-decoration-color: #008080; font-weight: bold\">-23</span>., <span style=\"color: #008080; text-decoration-color: #008080; font-weight: bold\">-17</span>., <span style=\"color: #008080; text-decoration-color: #008080; font-weight: bold\">-23</span>., <span style=\"color: #008080; text-decoration-color: #008080; font-weight: bold\">-27</span>., <span style=\"color: #008080; text-decoration-color: #008080; font-weight: bold\">-17</span>., <span style=\"color: #008080; text-decoration-color: #008080; font-weight: bold\">-27</span>., <span style=\"color: #008080; text-decoration-color: #008080; font-weight: bold\">-19</span>., <span style=\"color: #008080; text-decoration-color: #008080; font-weight: bold\">-24</span>., <span style=\"color: #008080; text-decoration-color: #008080; font-weight: bold\">-25</span>., <span style=\"color: #008080; text-decoration-color: #008080; font-weight: bold\">-26</span>.,\n",
       "       <span style=\"color: #008080; text-decoration-color: #008080; font-weight: bold\">-28</span>., <span style=\"color: #008080; text-decoration-color: #008080; font-weight: bold\">-25</span>., <span style=\"color: #008080; text-decoration-color: #008080; font-weight: bold\">-18</span>., <span style=\"color: #008080; text-decoration-color: #008080; font-weight: bold\">-26</span>., <span style=\"color: #008080; text-decoration-color: #008080; font-weight: bold\">-29</span>., <span style=\"color: #008080; text-decoration-color: #008080; font-weight: bold\">-23</span>., <span style=\"color: #008080; text-decoration-color: #008080; font-weight: bold\">-29</span>., <span style=\"color: #008080; text-decoration-color: #008080; font-weight: bold\">-18</span>., <span style=\"color: #008080; text-decoration-color: #008080; font-weight: bold\">-28</span>., <span style=\"color: #008080; text-decoration-color: #008080; font-weight: bold\">-28</span>., <span style=\"color: #008080; text-decoration-color: #008080; font-weight: bold\">-29</span>.,\n",
       "       <span style=\"color: #008080; text-decoration-color: #008080; font-weight: bold\">-27</span>., <span style=\"color: #008080; text-decoration-color: #008080; font-weight: bold\">-29</span>., <span style=\"color: #008080; text-decoration-color: #008080; font-weight: bold\">-29</span>., <span style=\"color: #008080; text-decoration-color: #008080; font-weight: bold\">-22</span>., <span style=\"color: #008080; text-decoration-color: #008080; font-weight: bold\">-28</span>., <span style=\"color: #008080; text-decoration-color: #008080; font-weight: bold\">-27</span>., <span style=\"color: #008080; text-decoration-color: #008080; font-weight: bold\">-27</span>., <span style=\"color: #008080; text-decoration-color: #008080; font-weight: bold\">-21</span>., <span style=\"color: #008080; text-decoration-color: #008080; font-weight: bold\">-26</span>., <span style=\"color: #008080; text-decoration-color: #008080; font-weight: bold\">-28</span>., <span style=\"color: #008080; text-decoration-color: #008080; font-weight: bold\">-22</span>.,\n",
       "       <span style=\"color: #008080; text-decoration-color: #008080; font-weight: bold\">-29</span>., <span style=\"color: #008080; text-decoration-color: #008080; font-weight: bold\">-25</span>., <span style=\"color: #008080; text-decoration-color: #008080; font-weight: bold\">-26</span>., <span style=\"color: #008080; text-decoration-color: #008080; font-weight: bold\">-24</span>., <span style=\"color: #008080; text-decoration-color: #008080; font-weight: bold\">-29</span>., <span style=\"color: #008080; text-decoration-color: #008080; font-weight: bold\">-25</span>., <span style=\"color: #008080; text-decoration-color: #008080; font-weight: bold\">-29</span>., <span style=\"color: #008080; text-decoration-color: #008080; font-weight: bold\">-25</span>., <span style=\"color: #008080; text-decoration-color: #008080; font-weight: bold\">-26</span>., <span style=\"color: #008080; text-decoration-color: #008080; font-weight: bold\">-23</span>., <span style=\"color: #008080; text-decoration-color: #008080; font-weight: bold\">-15</span>.,\n",
       "       <span style=\"color: #008080; text-decoration-color: #008080; font-weight: bold\">-22</span>., <span style=\"color: #008080; text-decoration-color: #008080; font-weight: bold\">-26</span>.<span style=\"font-weight: bold\">])</span>\n",
       "</pre>\n"
      ],
      "text/plain": [
       "\u001b[1;35marray\u001b[0m\u001b[1m(\u001b[0m\u001b[1m[\u001b[0m\u001b[1;36m-26\u001b[0m., \u001b[1;36m-25\u001b[0m., \u001b[1;36m-29\u001b[0m., \u001b[1;36m-24\u001b[0m., \u001b[1;36m-20\u001b[0m., \u001b[1;36m-21\u001b[0m., \u001b[1;36m-23\u001b[0m., \u001b[1;36m-25\u001b[0m., \u001b[1;36m-20\u001b[0m., \u001b[1;36m-26\u001b[0m., \u001b[1;36m-27\u001b[0m.,\n",
       "       \u001b[1;36m-20\u001b[0m., \u001b[1;36m-26\u001b[0m., \u001b[1;36m-27\u001b[0m., \u001b[1;36m-21\u001b[0m., \u001b[1;36m-25\u001b[0m., \u001b[1;36m-24\u001b[0m., \u001b[1;36m-19\u001b[0m., \u001b[1;36m-28\u001b[0m., \u001b[1;36m-28\u001b[0m., \u001b[1;36m-23\u001b[0m., \u001b[1;36m-26\u001b[0m.,\n",
       "       \u001b[1;36m-25\u001b[0m., \u001b[1;36m-26\u001b[0m., \u001b[1;36m-27\u001b[0m., \u001b[1;36m-27\u001b[0m., \u001b[1;36m-22\u001b[0m., \u001b[1;36m-16\u001b[0m., \u001b[1;36m-20\u001b[0m., \u001b[1;36m-22\u001b[0m., \u001b[1;36m-25\u001b[0m., \u001b[1;36m-29\u001b[0m., \u001b[1;36m-25\u001b[0m.,\n",
       "       \u001b[1;36m-29\u001b[0m., \u001b[1;36m-28\u001b[0m., \u001b[1;36m-27\u001b[0m., \u001b[1;36m-24\u001b[0m., \u001b[1;36m-26\u001b[0m., \u001b[1;36m-26\u001b[0m., \u001b[1;36m-26\u001b[0m., \u001b[1;36m-22\u001b[0m., \u001b[1;36m-28\u001b[0m., \u001b[1;36m-19\u001b[0m., \u001b[1;36m-29\u001b[0m.,\n",
       "       \u001b[1;36m-24\u001b[0m., \u001b[1;36m-26\u001b[0m., \u001b[1;36m-26\u001b[0m., \u001b[1;36m-25\u001b[0m., \u001b[1;36m-29\u001b[0m., \u001b[1;36m-19\u001b[0m., \u001b[1;36m-24\u001b[0m., \u001b[1;36m-22\u001b[0m., \u001b[1;36m-12\u001b[0m., \u001b[1;36m-29\u001b[0m., \u001b[1;36m-21\u001b[0m.,\n",
       "       \u001b[1;36m-26\u001b[0m., \u001b[1;36m-25\u001b[0m., \u001b[1;36m-24\u001b[0m., \u001b[1;36m-25\u001b[0m., \u001b[1;36m-27\u001b[0m., \u001b[1;36m-25\u001b[0m., \u001b[1;36m-18\u001b[0m., \u001b[1;36m-26\u001b[0m., \u001b[1;36m-13\u001b[0m., \u001b[1;36m-19\u001b[0m., \u001b[1;36m-23\u001b[0m.,\n",
       "       \u001b[1;36m-28\u001b[0m., \u001b[1;36m-23\u001b[0m., \u001b[1;36m-24\u001b[0m., \u001b[1;36m-29\u001b[0m.,  \u001b[1;36m-8\u001b[0m., \u001b[1;36m-10\u001b[0m., \u001b[1;36m-20\u001b[0m., \u001b[1;36m-26\u001b[0m., \u001b[1;36m-24\u001b[0m., \u001b[1;36m-27\u001b[0m., \u001b[1;36m-26\u001b[0m.,\n",
       "       \u001b[1;36m-27\u001b[0m., \u001b[1;36m-25\u001b[0m., \u001b[1;36m-26\u001b[0m., \u001b[1;36m-25\u001b[0m., \u001b[1;36m-29\u001b[0m., \u001b[1;36m-22\u001b[0m., \u001b[1;36m-27\u001b[0m., \u001b[1;36m-22\u001b[0m., \u001b[1;36m-23\u001b[0m., \u001b[1;36m-27\u001b[0m., \u001b[1;36m-20\u001b[0m.,\n",
       "       \u001b[1;36m-27\u001b[0m., \u001b[1;36m-20\u001b[0m., \u001b[1;36m-17\u001b[0m., \u001b[1;36m-21\u001b[0m., \u001b[1;36m-25\u001b[0m., \u001b[1;36m-28\u001b[0m., \u001b[1;36m-26\u001b[0m., \u001b[1;36m-29\u001b[0m., \u001b[1;36m-29\u001b[0m., \u001b[1;36m-23\u001b[0m., \u001b[1;36m-25\u001b[0m.,\n",
       "       \u001b[1;36m-24\u001b[0m., \u001b[1;36m-21\u001b[0m., \u001b[1;36m-26\u001b[0m., \u001b[1;36m-22\u001b[0m., \u001b[1;36m-25\u001b[0m., \u001b[1;36m-24\u001b[0m., \u001b[1;36m-28\u001b[0m., \u001b[1;36m-29\u001b[0m., \u001b[1;36m-29\u001b[0m., \u001b[1;36m-22\u001b[0m., \u001b[1;36m-24\u001b[0m.,\n",
       "       \u001b[1;36m-25\u001b[0m., \u001b[1;36m-24\u001b[0m., \u001b[1;36m-25\u001b[0m., \u001b[1;36m-29\u001b[0m., \u001b[1;36m-27\u001b[0m., \u001b[1;36m-26\u001b[0m., \u001b[1;36m-26\u001b[0m., \u001b[1;36m-27\u001b[0m., \u001b[1;36m-29\u001b[0m., \u001b[1;36m-26\u001b[0m., \u001b[1;36m-25\u001b[0m.,\n",
       "       \u001b[1;36m-27\u001b[0m., \u001b[1;36m-25\u001b[0m., \u001b[1;36m-15\u001b[0m., \u001b[1;36m-22\u001b[0m., \u001b[1;36m-23\u001b[0m., \u001b[1;36m-24\u001b[0m., \u001b[1;36m-28\u001b[0m., \u001b[1;36m-25\u001b[0m., \u001b[1;36m-29\u001b[0m., \u001b[1;36m-27\u001b[0m., \u001b[1;36m-28\u001b[0m.,\n",
       "       \u001b[1;36m-26\u001b[0m., \u001b[1;36m-23\u001b[0m., \u001b[1;36m-27\u001b[0m., \u001b[1;36m-26\u001b[0m., \u001b[1;36m-25\u001b[0m., \u001b[1;36m-22\u001b[0m., \u001b[1;36m-29\u001b[0m., \u001b[1;36m-28\u001b[0m., \u001b[1;36m-27\u001b[0m., \u001b[1;36m-29\u001b[0m., \u001b[1;36m-24\u001b[0m.,\n",
       "       \u001b[1;36m-23\u001b[0m., \u001b[1;36m-28\u001b[0m., \u001b[1;36m-27\u001b[0m., \u001b[1;36m-12\u001b[0m., \u001b[1;36m-27\u001b[0m., \u001b[1;36m-25\u001b[0m., \u001b[1;36m-26\u001b[0m., \u001b[1;36m-11\u001b[0m., \u001b[1;36m-13\u001b[0m., \u001b[1;36m-24\u001b[0m., \u001b[1;36m-25\u001b[0m.,\n",
       "       \u001b[1;36m-20\u001b[0m., \u001b[1;36m-23\u001b[0m., \u001b[1;36m-17\u001b[0m., \u001b[1;36m-23\u001b[0m., \u001b[1;36m-27\u001b[0m., \u001b[1;36m-17\u001b[0m., \u001b[1;36m-27\u001b[0m., \u001b[1;36m-19\u001b[0m., \u001b[1;36m-24\u001b[0m., \u001b[1;36m-25\u001b[0m., \u001b[1;36m-26\u001b[0m.,\n",
       "       \u001b[1;36m-28\u001b[0m., \u001b[1;36m-25\u001b[0m., \u001b[1;36m-18\u001b[0m., \u001b[1;36m-26\u001b[0m., \u001b[1;36m-29\u001b[0m., \u001b[1;36m-23\u001b[0m., \u001b[1;36m-29\u001b[0m., \u001b[1;36m-18\u001b[0m., \u001b[1;36m-28\u001b[0m., \u001b[1;36m-28\u001b[0m., \u001b[1;36m-29\u001b[0m.,\n",
       "       \u001b[1;36m-27\u001b[0m., \u001b[1;36m-29\u001b[0m., \u001b[1;36m-29\u001b[0m., \u001b[1;36m-22\u001b[0m., \u001b[1;36m-28\u001b[0m., \u001b[1;36m-27\u001b[0m., \u001b[1;36m-27\u001b[0m., \u001b[1;36m-21\u001b[0m., \u001b[1;36m-26\u001b[0m., \u001b[1;36m-28\u001b[0m., \u001b[1;36m-22\u001b[0m.,\n",
       "       \u001b[1;36m-29\u001b[0m., \u001b[1;36m-25\u001b[0m., \u001b[1;36m-26\u001b[0m., \u001b[1;36m-24\u001b[0m., \u001b[1;36m-29\u001b[0m., \u001b[1;36m-25\u001b[0m., \u001b[1;36m-29\u001b[0m., \u001b[1;36m-25\u001b[0m., \u001b[1;36m-26\u001b[0m., \u001b[1;36m-23\u001b[0m., \u001b[1;36m-15\u001b[0m.,\n",
       "       \u001b[1;36m-22\u001b[0m., \u001b[1;36m-26\u001b[0m.\u001b[1m]\u001b[0m\u001b[1m)\u001b[0m\n"
      ]
     },
     "metadata": {},
     "output_type": "display_data"
    }
   ],
   "source": [
    "delta"
   ]
  },
  {
   "cell_type": "code",
   "execution_count": 11,
   "id": "3ef1e06c",
   "metadata": {},
   "outputs": [
    {
     "data": {
      "text/html": [
       "<pre style=\"white-space:pre;overflow-x:auto;line-height:normal;font-family:Menlo,'DejaVu Sans Mono',consolas,'Courier New',monospace\"><span style=\"font-weight: bold\">[</span>\n",
       "    <span style=\"font-weight: bold\">(</span><span style=\"color: #008080; text-decoration-color: #008080; font-weight: bold\">-26.0</span>, <span style=\"color: #008080; text-decoration-color: #008080; font-weight: bold\">29</span><span style=\"font-weight: bold\">)</span>,\n",
       "    <span style=\"font-weight: bold\">(</span><span style=\"color: #008080; text-decoration-color: #008080; font-weight: bold\">-25.0</span>, <span style=\"color: #008080; text-decoration-color: #008080; font-weight: bold\">28</span><span style=\"font-weight: bold\">)</span>,\n",
       "    <span style=\"font-weight: bold\">(</span><span style=\"color: #008080; text-decoration-color: #008080; font-weight: bold\">-29.0</span>, <span style=\"color: #008080; text-decoration-color: #008080; font-weight: bold\">25</span><span style=\"font-weight: bold\">)</span>,\n",
       "    <span style=\"font-weight: bold\">(</span><span style=\"color: #008080; text-decoration-color: #008080; font-weight: bold\">-27.0</span>, <span style=\"color: #008080; text-decoration-color: #008080; font-weight: bold\">24</span><span style=\"font-weight: bold\">)</span>,\n",
       "    <span style=\"font-weight: bold\">(</span><span style=\"color: #008080; text-decoration-color: #008080; font-weight: bold\">-24.0</span>, <span style=\"color: #008080; text-decoration-color: #008080; font-weight: bold\">17</span><span style=\"font-weight: bold\">)</span>,\n",
       "    <span style=\"font-weight: bold\">(</span><span style=\"color: #008080; text-decoration-color: #008080; font-weight: bold\">-28.0</span>, <span style=\"color: #008080; text-decoration-color: #008080; font-weight: bold\">16</span><span style=\"font-weight: bold\">)</span>,\n",
       "    <span style=\"font-weight: bold\">(</span><span style=\"color: #008080; text-decoration-color: #008080; font-weight: bold\">-23.0</span>, <span style=\"color: #008080; text-decoration-color: #008080; font-weight: bold\">13</span><span style=\"font-weight: bold\">)</span>,\n",
       "    <span style=\"font-weight: bold\">(</span><span style=\"color: #008080; text-decoration-color: #008080; font-weight: bold\">-22.0</span>, <span style=\"color: #008080; text-decoration-color: #008080; font-weight: bold\">13</span><span style=\"font-weight: bold\">)</span>,\n",
       "    <span style=\"font-weight: bold\">(</span><span style=\"color: #008080; text-decoration-color: #008080; font-weight: bold\">-20.0</span>, <span style=\"color: #008080; text-decoration-color: #008080; font-weight: bold\">8</span><span style=\"font-weight: bold\">)</span>,\n",
       "    <span style=\"font-weight: bold\">(</span><span style=\"color: #008080; text-decoration-color: #008080; font-weight: bold\">-21.0</span>, <span style=\"color: #008080; text-decoration-color: #008080; font-weight: bold\">6</span><span style=\"font-weight: bold\">)</span>,\n",
       "    <span style=\"font-weight: bold\">(</span><span style=\"color: #008080; text-decoration-color: #008080; font-weight: bold\">-19.0</span>, <span style=\"color: #008080; text-decoration-color: #008080; font-weight: bold\">5</span><span style=\"font-weight: bold\">)</span>,\n",
       "    <span style=\"font-weight: bold\">(</span><span style=\"color: #008080; text-decoration-color: #008080; font-weight: bold\">-18.0</span>, <span style=\"color: #008080; text-decoration-color: #008080; font-weight: bold\">3</span><span style=\"font-weight: bold\">)</span>,\n",
       "    <span style=\"font-weight: bold\">(</span><span style=\"color: #008080; text-decoration-color: #008080; font-weight: bold\">-17.0</span>, <span style=\"color: #008080; text-decoration-color: #008080; font-weight: bold\">3</span><span style=\"font-weight: bold\">)</span>,\n",
       "    <span style=\"font-weight: bold\">(</span><span style=\"color: #008080; text-decoration-color: #008080; font-weight: bold\">-12.0</span>, <span style=\"color: #008080; text-decoration-color: #008080; font-weight: bold\">2</span><span style=\"font-weight: bold\">)</span>,\n",
       "    <span style=\"font-weight: bold\">(</span><span style=\"color: #008080; text-decoration-color: #008080; font-weight: bold\">-13.0</span>, <span style=\"color: #008080; text-decoration-color: #008080; font-weight: bold\">2</span><span style=\"font-weight: bold\">)</span>,\n",
       "    <span style=\"font-weight: bold\">(</span><span style=\"color: #008080; text-decoration-color: #008080; font-weight: bold\">-15.0</span>, <span style=\"color: #008080; text-decoration-color: #008080; font-weight: bold\">2</span><span style=\"font-weight: bold\">)</span>,\n",
       "    <span style=\"font-weight: bold\">(</span><span style=\"color: #008080; text-decoration-color: #008080; font-weight: bold\">-16.0</span>, <span style=\"color: #008080; text-decoration-color: #008080; font-weight: bold\">1</span><span style=\"font-weight: bold\">)</span>,\n",
       "    <span style=\"font-weight: bold\">(</span><span style=\"color: #008080; text-decoration-color: #008080; font-weight: bold\">-8.0</span>, <span style=\"color: #008080; text-decoration-color: #008080; font-weight: bold\">1</span><span style=\"font-weight: bold\">)</span>,\n",
       "    <span style=\"font-weight: bold\">(</span><span style=\"color: #008080; text-decoration-color: #008080; font-weight: bold\">-10.0</span>, <span style=\"color: #008080; text-decoration-color: #008080; font-weight: bold\">1</span><span style=\"font-weight: bold\">)</span>,\n",
       "    <span style=\"font-weight: bold\">(</span><span style=\"color: #008080; text-decoration-color: #008080; font-weight: bold\">-11.0</span>, <span style=\"color: #008080; text-decoration-color: #008080; font-weight: bold\">1</span><span style=\"font-weight: bold\">)</span>\n",
       "<span style=\"font-weight: bold\">]</span>\n",
       "</pre>\n"
      ],
      "text/plain": [
       "\u001b[1m[\u001b[0m\n",
       "    \u001b[1m(\u001b[0m\u001b[1;36m-26.0\u001b[0m, \u001b[1;36m29\u001b[0m\u001b[1m)\u001b[0m,\n",
       "    \u001b[1m(\u001b[0m\u001b[1;36m-25.0\u001b[0m, \u001b[1;36m28\u001b[0m\u001b[1m)\u001b[0m,\n",
       "    \u001b[1m(\u001b[0m\u001b[1;36m-29.0\u001b[0m, \u001b[1;36m25\u001b[0m\u001b[1m)\u001b[0m,\n",
       "    \u001b[1m(\u001b[0m\u001b[1;36m-27.0\u001b[0m, \u001b[1;36m24\u001b[0m\u001b[1m)\u001b[0m,\n",
       "    \u001b[1m(\u001b[0m\u001b[1;36m-24.0\u001b[0m, \u001b[1;36m17\u001b[0m\u001b[1m)\u001b[0m,\n",
       "    \u001b[1m(\u001b[0m\u001b[1;36m-28.0\u001b[0m, \u001b[1;36m16\u001b[0m\u001b[1m)\u001b[0m,\n",
       "    \u001b[1m(\u001b[0m\u001b[1;36m-23.0\u001b[0m, \u001b[1;36m13\u001b[0m\u001b[1m)\u001b[0m,\n",
       "    \u001b[1m(\u001b[0m\u001b[1;36m-22.0\u001b[0m, \u001b[1;36m13\u001b[0m\u001b[1m)\u001b[0m,\n",
       "    \u001b[1m(\u001b[0m\u001b[1;36m-20.0\u001b[0m, \u001b[1;36m8\u001b[0m\u001b[1m)\u001b[0m,\n",
       "    \u001b[1m(\u001b[0m\u001b[1;36m-21.0\u001b[0m, \u001b[1;36m6\u001b[0m\u001b[1m)\u001b[0m,\n",
       "    \u001b[1m(\u001b[0m\u001b[1;36m-19.0\u001b[0m, \u001b[1;36m5\u001b[0m\u001b[1m)\u001b[0m,\n",
       "    \u001b[1m(\u001b[0m\u001b[1;36m-18.0\u001b[0m, \u001b[1;36m3\u001b[0m\u001b[1m)\u001b[0m,\n",
       "    \u001b[1m(\u001b[0m\u001b[1;36m-17.0\u001b[0m, \u001b[1;36m3\u001b[0m\u001b[1m)\u001b[0m,\n",
       "    \u001b[1m(\u001b[0m\u001b[1;36m-12.0\u001b[0m, \u001b[1;36m2\u001b[0m\u001b[1m)\u001b[0m,\n",
       "    \u001b[1m(\u001b[0m\u001b[1;36m-13.0\u001b[0m, \u001b[1;36m2\u001b[0m\u001b[1m)\u001b[0m,\n",
       "    \u001b[1m(\u001b[0m\u001b[1;36m-15.0\u001b[0m, \u001b[1;36m2\u001b[0m\u001b[1m)\u001b[0m,\n",
       "    \u001b[1m(\u001b[0m\u001b[1;36m-16.0\u001b[0m, \u001b[1;36m1\u001b[0m\u001b[1m)\u001b[0m,\n",
       "    \u001b[1m(\u001b[0m\u001b[1;36m-8.0\u001b[0m, \u001b[1;36m1\u001b[0m\u001b[1m)\u001b[0m,\n",
       "    \u001b[1m(\u001b[0m\u001b[1;36m-10.0\u001b[0m, \u001b[1;36m1\u001b[0m\u001b[1m)\u001b[0m,\n",
       "    \u001b[1m(\u001b[0m\u001b[1;36m-11.0\u001b[0m, \u001b[1;36m1\u001b[0m\u001b[1m)\u001b[0m\n",
       "\u001b[1m]\u001b[0m\n"
      ]
     },
     "metadata": {},
     "output_type": "display_data"
    }
   ],
   "source": [
    "collections.Counter(delta).most_common()"
   ]
  },
  {
   "cell_type": "code",
   "execution_count": 12,
   "id": "64574612",
   "metadata": {},
   "outputs": [
    {
     "data": {
      "text/html": [
       "<pre style=\"white-space:pre;overflow-x:auto;line-height:normal;font-family:Menlo,'DejaVu Sans Mono',consolas,'Courier New',monospace\"><span style=\"color: #008080; text-decoration-color: #008080; font-weight: bold\">0.00</span> % correct\n",
       "</pre>\n"
      ],
      "text/plain": [
       "\u001b[1;36m0.00\u001b[0m % correct\n"
      ]
     },
     "metadata": {},
     "output_type": "display_data"
    }
   ],
   "source": [
    "percent_correct2 = 100 * collections.Counter(delta).get(0., 0.) / len(delta)\n",
    "print(f\"{percent_correct2:0.2f} % correct\")"
   ]
  },
  {
   "cell_type": "markdown",
   "id": "6054be6b",
   "metadata": {},
   "source": [
    "### Sum of % corrects"
   ]
  },
  {
   "cell_type": "code",
   "execution_count": 13,
   "id": "1956adc4",
   "metadata": {
    "scrolled": true
   },
   "outputs": [
    {
     "data": {
      "text/html": [
       "<pre style=\"white-space:pre;overflow-x:auto;line-height:normal;font-family:Menlo,'DejaVu Sans Mono',consolas,'Courier New',monospace\"><span style=\"color: #008080; text-decoration-color: #008080; font-weight: bold\">100.0</span>\n",
       "</pre>\n"
      ],
      "text/plain": [
       "\u001b[1;36m100.0\u001b[0m\n"
      ]
     },
     "metadata": {},
     "output_type": "display_data"
    }
   ],
   "source": [
    "percent_correct1 + percent_correct2"
   ]
  },
  {
   "cell_type": "code",
   "execution_count": null,
   "id": "d0025f9a",
   "metadata": {},
   "outputs": [],
   "source": []
  },
  {
   "cell_type": "markdown",
   "id": "1a032005",
   "metadata": {},
   "source": [
    "## Now check with ```desc=rabies``` loaded"
   ]
  },
  {
   "cell_type": "code",
   "execution_count": 14,
   "id": "a84fe361",
   "metadata": {},
   "outputs": [],
   "source": [
    "desc = {\n",
    "    'ca2': 'preproc',\n",
    "    'bold': 'rabies',\n",
    "}\n",
    "mice = Mice(128)\n",
    "mice.setup_preproc_data(desc=desc)\n",
    "mice.setup_func_data(task=None, exclude=False, desc=desc)\n",
    "\n",
    "base_dir = '/mnt/storage/hadi/Ca-fMRI/gabe_data'"
   ]
  },
  {
   "cell_type": "markdown",
   "id": "f267db4d",
   "metadata": {},
   "source": [
    "## Processed data"
   ]
  },
  {
   "cell_type": "markdown",
   "id": "74cefc29",
   "metadata": {},
   "source": [
    "### 1) reoriented_data_highpass"
   ]
  },
  {
   "cell_type": "code",
   "execution_count": 15,
   "id": "f85604cc",
   "metadata": {},
   "outputs": [],
   "source": [
    "path = 'reoriented_data_highpass/frame_censoring_mask'\n",
    "df = _tmask_delta_df(pjoin(base_dir, path), False)\n",
    "delta = (df['run_t'] - df['tmask_t']).values"
   ]
  },
  {
   "cell_type": "code",
   "execution_count": 16,
   "id": "1aa6271f",
   "metadata": {},
   "outputs": [
    {
     "data": {
      "text/html": [
       "<pre style=\"white-space:pre;overflow-x:auto;line-height:normal;font-family:Menlo,'DejaVu Sans Mono',consolas,'Courier New',monospace\"><span style=\"color: #800080; text-decoration-color: #800080; font-weight: bold\">array</span><span style=\"font-weight: bold\">([</span><span style=\"color: #008080; text-decoration-color: #008080; font-weight: bold\">26</span>., <span style=\"color: #008080; text-decoration-color: #008080; font-weight: bold\">25</span>., <span style=\"color: #008080; text-decoration-color: #008080; font-weight: bold\">29</span>., <span style=\"color: #008080; text-decoration-color: #008080; font-weight: bold\">24</span>., <span style=\"color: #008080; text-decoration-color: #008080; font-weight: bold\">20</span>., <span style=\"color: #008080; text-decoration-color: #008080; font-weight: bold\">21</span>., <span style=\"color: #008080; text-decoration-color: #008080; font-weight: bold\">23</span>., <span style=\"color: #008080; text-decoration-color: #008080; font-weight: bold\">25</span>., <span style=\"color: #008080; text-decoration-color: #008080; font-weight: bold\">20</span>., <span style=\"color: #008080; text-decoration-color: #008080; font-weight: bold\">26</span>., <span style=\"color: #008080; text-decoration-color: #008080; font-weight: bold\">27</span>., <span style=\"color: #008080; text-decoration-color: #008080; font-weight: bold\">20</span>., <span style=\"color: #008080; text-decoration-color: #008080; font-weight: bold\">26</span>.,\n",
       "       <span style=\"color: #008080; text-decoration-color: #008080; font-weight: bold\">27</span>., <span style=\"color: #008080; text-decoration-color: #008080; font-weight: bold\">21</span>., <span style=\"color: #008080; text-decoration-color: #008080; font-weight: bold\">25</span>., <span style=\"color: #008080; text-decoration-color: #008080; font-weight: bold\">24</span>., <span style=\"color: #008080; text-decoration-color: #008080; font-weight: bold\">19</span>., <span style=\"color: #008080; text-decoration-color: #008080; font-weight: bold\">28</span>., <span style=\"color: #008080; text-decoration-color: #008080; font-weight: bold\">28</span>., <span style=\"color: #008080; text-decoration-color: #008080; font-weight: bold\">23</span>., <span style=\"color: #008080; text-decoration-color: #008080; font-weight: bold\">26</span>., <span style=\"color: #008080; text-decoration-color: #008080; font-weight: bold\">25</span>., <span style=\"color: #008080; text-decoration-color: #008080; font-weight: bold\">26</span>., <span style=\"color: #008080; text-decoration-color: #008080; font-weight: bold\">27</span>., <span style=\"color: #008080; text-decoration-color: #008080; font-weight: bold\">27</span>.,\n",
       "       <span style=\"color: #008080; text-decoration-color: #008080; font-weight: bold\">22</span>., <span style=\"color: #008080; text-decoration-color: #008080; font-weight: bold\">16</span>., <span style=\"color: #008080; text-decoration-color: #008080; font-weight: bold\">20</span>., <span style=\"color: #008080; text-decoration-color: #008080; font-weight: bold\">22</span>., <span style=\"color: #008080; text-decoration-color: #008080; font-weight: bold\">25</span>., <span style=\"color: #008080; text-decoration-color: #008080; font-weight: bold\">29</span>., <span style=\"color: #008080; text-decoration-color: #008080; font-weight: bold\">25</span>., <span style=\"color: #008080; text-decoration-color: #008080; font-weight: bold\">29</span>., <span style=\"color: #008080; text-decoration-color: #008080; font-weight: bold\">28</span>., <span style=\"color: #008080; text-decoration-color: #008080; font-weight: bold\">27</span>., <span style=\"color: #008080; text-decoration-color: #008080; font-weight: bold\">24</span>., <span style=\"color: #008080; text-decoration-color: #008080; font-weight: bold\">26</span>., <span style=\"color: #008080; text-decoration-color: #008080; font-weight: bold\">26</span>.,\n",
       "       <span style=\"color: #008080; text-decoration-color: #008080; font-weight: bold\">26</span>., <span style=\"color: #008080; text-decoration-color: #008080; font-weight: bold\">22</span>., <span style=\"color: #008080; text-decoration-color: #008080; font-weight: bold\">28</span>., <span style=\"color: #008080; text-decoration-color: #008080; font-weight: bold\">19</span>., <span style=\"color: #008080; text-decoration-color: #008080; font-weight: bold\">29</span>., <span style=\"color: #008080; text-decoration-color: #008080; font-weight: bold\">24</span>., <span style=\"color: #008080; text-decoration-color: #008080; font-weight: bold\">26</span>., <span style=\"color: #008080; text-decoration-color: #008080; font-weight: bold\">26</span>., <span style=\"color: #008080; text-decoration-color: #008080; font-weight: bold\">25</span>., <span style=\"color: #008080; text-decoration-color: #008080; font-weight: bold\">29</span>., <span style=\"color: #008080; text-decoration-color: #008080; font-weight: bold\">19</span>., <span style=\"color: #008080; text-decoration-color: #008080; font-weight: bold\">24</span>., <span style=\"color: #008080; text-decoration-color: #008080; font-weight: bold\">22</span>.,\n",
       "       <span style=\"color: #008080; text-decoration-color: #008080; font-weight: bold\">12</span>., <span style=\"color: #008080; text-decoration-color: #008080; font-weight: bold\">29</span>., <span style=\"color: #008080; text-decoration-color: #008080; font-weight: bold\">21</span>., <span style=\"color: #008080; text-decoration-color: #008080; font-weight: bold\">26</span>., <span style=\"color: #008080; text-decoration-color: #008080; font-weight: bold\">25</span>., <span style=\"color: #008080; text-decoration-color: #008080; font-weight: bold\">24</span>., <span style=\"color: #008080; text-decoration-color: #008080; font-weight: bold\">25</span>., <span style=\"color: #008080; text-decoration-color: #008080; font-weight: bold\">27</span>., <span style=\"color: #008080; text-decoration-color: #008080; font-weight: bold\">25</span>., <span style=\"color: #008080; text-decoration-color: #008080; font-weight: bold\">18</span>., <span style=\"color: #008080; text-decoration-color: #008080; font-weight: bold\">26</span>., <span style=\"color: #008080; text-decoration-color: #008080; font-weight: bold\">13</span>., <span style=\"color: #008080; text-decoration-color: #008080; font-weight: bold\">19</span>.,\n",
       "       <span style=\"color: #008080; text-decoration-color: #008080; font-weight: bold\">23</span>., <span style=\"color: #008080; text-decoration-color: #008080; font-weight: bold\">28</span>., <span style=\"color: #008080; text-decoration-color: #008080; font-weight: bold\">23</span>., <span style=\"color: #008080; text-decoration-color: #008080; font-weight: bold\">24</span>., <span style=\"color: #008080; text-decoration-color: #008080; font-weight: bold\">29</span>.,  <span style=\"color: #008080; text-decoration-color: #008080; font-weight: bold\">8</span>., <span style=\"color: #008080; text-decoration-color: #008080; font-weight: bold\">10</span>., <span style=\"color: #008080; text-decoration-color: #008080; font-weight: bold\">20</span>., <span style=\"color: #008080; text-decoration-color: #008080; font-weight: bold\">26</span>., <span style=\"color: #008080; text-decoration-color: #008080; font-weight: bold\">24</span>., <span style=\"color: #008080; text-decoration-color: #008080; font-weight: bold\">27</span>., <span style=\"color: #008080; text-decoration-color: #008080; font-weight: bold\">26</span>., <span style=\"color: #008080; text-decoration-color: #008080; font-weight: bold\">27</span>.,\n",
       "       <span style=\"color: #008080; text-decoration-color: #008080; font-weight: bold\">25</span>., <span style=\"color: #008080; text-decoration-color: #008080; font-weight: bold\">26</span>., <span style=\"color: #008080; text-decoration-color: #008080; font-weight: bold\">25</span>., <span style=\"color: #008080; text-decoration-color: #008080; font-weight: bold\">29</span>., <span style=\"color: #008080; text-decoration-color: #008080; font-weight: bold\">22</span>., <span style=\"color: #008080; text-decoration-color: #008080; font-weight: bold\">27</span>., <span style=\"color: #008080; text-decoration-color: #008080; font-weight: bold\">22</span>., <span style=\"color: #008080; text-decoration-color: #008080; font-weight: bold\">23</span>., <span style=\"color: #008080; text-decoration-color: #008080; font-weight: bold\">27</span>., <span style=\"color: #008080; text-decoration-color: #008080; font-weight: bold\">20</span>., <span style=\"color: #008080; text-decoration-color: #008080; font-weight: bold\">27</span>., <span style=\"color: #008080; text-decoration-color: #008080; font-weight: bold\">20</span>., <span style=\"color: #008080; text-decoration-color: #008080; font-weight: bold\">17</span>.,\n",
       "       <span style=\"color: #008080; text-decoration-color: #008080; font-weight: bold\">21</span>., <span style=\"color: #008080; text-decoration-color: #008080; font-weight: bold\">25</span>., <span style=\"color: #008080; text-decoration-color: #008080; font-weight: bold\">28</span>., <span style=\"color: #008080; text-decoration-color: #008080; font-weight: bold\">26</span>., <span style=\"color: #008080; text-decoration-color: #008080; font-weight: bold\">29</span>., <span style=\"color: #008080; text-decoration-color: #008080; font-weight: bold\">29</span>., <span style=\"color: #008080; text-decoration-color: #008080; font-weight: bold\">23</span>., <span style=\"color: #008080; text-decoration-color: #008080; font-weight: bold\">25</span>., <span style=\"color: #008080; text-decoration-color: #008080; font-weight: bold\">24</span>., <span style=\"color: #008080; text-decoration-color: #008080; font-weight: bold\">21</span>., <span style=\"color: #008080; text-decoration-color: #008080; font-weight: bold\">26</span>., <span style=\"color: #008080; text-decoration-color: #008080; font-weight: bold\">22</span>., <span style=\"color: #008080; text-decoration-color: #008080; font-weight: bold\">25</span>.,\n",
       "       <span style=\"color: #008080; text-decoration-color: #008080; font-weight: bold\">24</span>., <span style=\"color: #008080; text-decoration-color: #008080; font-weight: bold\">28</span>., <span style=\"color: #008080; text-decoration-color: #008080; font-weight: bold\">29</span>., <span style=\"color: #008080; text-decoration-color: #008080; font-weight: bold\">29</span>., <span style=\"color: #008080; text-decoration-color: #008080; font-weight: bold\">22</span>., <span style=\"color: #008080; text-decoration-color: #008080; font-weight: bold\">24</span>., <span style=\"color: #008080; text-decoration-color: #008080; font-weight: bold\">25</span>., <span style=\"color: #008080; text-decoration-color: #008080; font-weight: bold\">24</span>., <span style=\"color: #008080; text-decoration-color: #008080; font-weight: bold\">25</span>., <span style=\"color: #008080; text-decoration-color: #008080; font-weight: bold\">29</span>., <span style=\"color: #008080; text-decoration-color: #008080; font-weight: bold\">27</span>., <span style=\"color: #008080; text-decoration-color: #008080; font-weight: bold\">26</span>., <span style=\"color: #008080; text-decoration-color: #008080; font-weight: bold\">26</span>.,\n",
       "       <span style=\"color: #008080; text-decoration-color: #008080; font-weight: bold\">27</span>., <span style=\"color: #008080; text-decoration-color: #008080; font-weight: bold\">29</span>., <span style=\"color: #008080; text-decoration-color: #008080; font-weight: bold\">26</span>., <span style=\"color: #008080; text-decoration-color: #008080; font-weight: bold\">25</span>., <span style=\"color: #008080; text-decoration-color: #008080; font-weight: bold\">27</span>., <span style=\"color: #008080; text-decoration-color: #008080; font-weight: bold\">25</span>., <span style=\"color: #008080; text-decoration-color: #008080; font-weight: bold\">15</span>., <span style=\"color: #008080; text-decoration-color: #008080; font-weight: bold\">22</span>., <span style=\"color: #008080; text-decoration-color: #008080; font-weight: bold\">23</span>., <span style=\"color: #008080; text-decoration-color: #008080; font-weight: bold\">24</span>., <span style=\"color: #008080; text-decoration-color: #008080; font-weight: bold\">28</span>., <span style=\"color: #008080; text-decoration-color: #008080; font-weight: bold\">25</span>., <span style=\"color: #008080; text-decoration-color: #008080; font-weight: bold\">29</span>.,\n",
       "       <span style=\"color: #008080; text-decoration-color: #008080; font-weight: bold\">27</span>., <span style=\"color: #008080; text-decoration-color: #008080; font-weight: bold\">28</span>., <span style=\"color: #008080; text-decoration-color: #008080; font-weight: bold\">26</span>., <span style=\"color: #008080; text-decoration-color: #008080; font-weight: bold\">23</span>., <span style=\"color: #008080; text-decoration-color: #008080; font-weight: bold\">27</span>., <span style=\"color: #008080; text-decoration-color: #008080; font-weight: bold\">26</span>., <span style=\"color: #008080; text-decoration-color: #008080; font-weight: bold\">25</span>., <span style=\"color: #008080; text-decoration-color: #008080; font-weight: bold\">22</span>., <span style=\"color: #008080; text-decoration-color: #008080; font-weight: bold\">29</span>., <span style=\"color: #008080; text-decoration-color: #008080; font-weight: bold\">28</span>., <span style=\"color: #008080; text-decoration-color: #008080; font-weight: bold\">27</span>., <span style=\"color: #008080; text-decoration-color: #008080; font-weight: bold\">29</span>., <span style=\"color: #008080; text-decoration-color: #008080; font-weight: bold\">24</span>.,\n",
       "       <span style=\"color: #008080; text-decoration-color: #008080; font-weight: bold\">23</span>., <span style=\"color: #008080; text-decoration-color: #008080; font-weight: bold\">28</span>., <span style=\"color: #008080; text-decoration-color: #008080; font-weight: bold\">27</span>., <span style=\"color: #008080; text-decoration-color: #008080; font-weight: bold\">12</span>., <span style=\"color: #008080; text-decoration-color: #008080; font-weight: bold\">27</span>., <span style=\"color: #008080; text-decoration-color: #008080; font-weight: bold\">25</span>., <span style=\"color: #008080; text-decoration-color: #008080; font-weight: bold\">26</span>., <span style=\"color: #008080; text-decoration-color: #008080; font-weight: bold\">11</span>., <span style=\"color: #008080; text-decoration-color: #008080; font-weight: bold\">13</span>., <span style=\"color: #008080; text-decoration-color: #008080; font-weight: bold\">24</span>., <span style=\"color: #008080; text-decoration-color: #008080; font-weight: bold\">25</span>., <span style=\"color: #008080; text-decoration-color: #008080; font-weight: bold\">20</span>., <span style=\"color: #008080; text-decoration-color: #008080; font-weight: bold\">23</span>.,\n",
       "       <span style=\"color: #008080; text-decoration-color: #008080; font-weight: bold\">17</span>., <span style=\"color: #008080; text-decoration-color: #008080; font-weight: bold\">23</span>., <span style=\"color: #008080; text-decoration-color: #008080; font-weight: bold\">27</span>., <span style=\"color: #008080; text-decoration-color: #008080; font-weight: bold\">17</span>., <span style=\"color: #008080; text-decoration-color: #008080; font-weight: bold\">27</span>., <span style=\"color: #008080; text-decoration-color: #008080; font-weight: bold\">19</span>., <span style=\"color: #008080; text-decoration-color: #008080; font-weight: bold\">24</span>., <span style=\"color: #008080; text-decoration-color: #008080; font-weight: bold\">25</span>., <span style=\"color: #008080; text-decoration-color: #008080; font-weight: bold\">26</span>., <span style=\"color: #008080; text-decoration-color: #008080; font-weight: bold\">28</span>., <span style=\"color: #008080; text-decoration-color: #008080; font-weight: bold\">25</span>., <span style=\"color: #008080; text-decoration-color: #008080; font-weight: bold\">18</span>., <span style=\"color: #008080; text-decoration-color: #008080; font-weight: bold\">26</span>.,\n",
       "       <span style=\"color: #008080; text-decoration-color: #008080; font-weight: bold\">29</span>., <span style=\"color: #008080; text-decoration-color: #008080; font-weight: bold\">23</span>., <span style=\"color: #008080; text-decoration-color: #008080; font-weight: bold\">29</span>., <span style=\"color: #008080; text-decoration-color: #008080; font-weight: bold\">18</span>., <span style=\"color: #008080; text-decoration-color: #008080; font-weight: bold\">28</span>., <span style=\"color: #008080; text-decoration-color: #008080; font-weight: bold\">28</span>., <span style=\"color: #008080; text-decoration-color: #008080; font-weight: bold\">29</span>., <span style=\"color: #008080; text-decoration-color: #008080; font-weight: bold\">27</span>., <span style=\"color: #008080; text-decoration-color: #008080; font-weight: bold\">29</span>., <span style=\"color: #008080; text-decoration-color: #008080; font-weight: bold\">29</span>., <span style=\"color: #008080; text-decoration-color: #008080; font-weight: bold\">22</span>., <span style=\"color: #008080; text-decoration-color: #008080; font-weight: bold\">28</span>., <span style=\"color: #008080; text-decoration-color: #008080; font-weight: bold\">27</span>.,\n",
       "       <span style=\"color: #008080; text-decoration-color: #008080; font-weight: bold\">27</span>., <span style=\"color: #008080; text-decoration-color: #008080; font-weight: bold\">21</span>., nan, <span style=\"color: #008080; text-decoration-color: #008080; font-weight: bold\">26</span>., <span style=\"color: #008080; text-decoration-color: #008080; font-weight: bold\">28</span>., <span style=\"color: #008080; text-decoration-color: #008080; font-weight: bold\">22</span>., <span style=\"color: #008080; text-decoration-color: #008080; font-weight: bold\">29</span>., <span style=\"color: #008080; text-decoration-color: #008080; font-weight: bold\">25</span>., <span style=\"color: #008080; text-decoration-color: #008080; font-weight: bold\">26</span>., <span style=\"color: #008080; text-decoration-color: #008080; font-weight: bold\">24</span>., <span style=\"color: #008080; text-decoration-color: #008080; font-weight: bold\">29</span>., <span style=\"color: #008080; text-decoration-color: #008080; font-weight: bold\">25</span>., <span style=\"color: #008080; text-decoration-color: #008080; font-weight: bold\">29</span>.,\n",
       "       <span style=\"color: #008080; text-decoration-color: #008080; font-weight: bold\">25</span>., <span style=\"color: #008080; text-decoration-color: #008080; font-weight: bold\">26</span>., <span style=\"color: #008080; text-decoration-color: #008080; font-weight: bold\">23</span>., <span style=\"color: #008080; text-decoration-color: #008080; font-weight: bold\">15</span>., <span style=\"color: #008080; text-decoration-color: #008080; font-weight: bold\">22</span>., <span style=\"color: #008080; text-decoration-color: #008080; font-weight: bold\">26</span>.<span style=\"font-weight: bold\">])</span>\n",
       "</pre>\n"
      ],
      "text/plain": [
       "\u001b[1;35marray\u001b[0m\u001b[1m(\u001b[0m\u001b[1m[\u001b[0m\u001b[1;36m26\u001b[0m., \u001b[1;36m25\u001b[0m., \u001b[1;36m29\u001b[0m., \u001b[1;36m24\u001b[0m., \u001b[1;36m20\u001b[0m., \u001b[1;36m21\u001b[0m., \u001b[1;36m23\u001b[0m., \u001b[1;36m25\u001b[0m., \u001b[1;36m20\u001b[0m., \u001b[1;36m26\u001b[0m., \u001b[1;36m27\u001b[0m., \u001b[1;36m20\u001b[0m., \u001b[1;36m26\u001b[0m.,\n",
       "       \u001b[1;36m27\u001b[0m., \u001b[1;36m21\u001b[0m., \u001b[1;36m25\u001b[0m., \u001b[1;36m24\u001b[0m., \u001b[1;36m19\u001b[0m., \u001b[1;36m28\u001b[0m., \u001b[1;36m28\u001b[0m., \u001b[1;36m23\u001b[0m., \u001b[1;36m26\u001b[0m., \u001b[1;36m25\u001b[0m., \u001b[1;36m26\u001b[0m., \u001b[1;36m27\u001b[0m., \u001b[1;36m27\u001b[0m.,\n",
       "       \u001b[1;36m22\u001b[0m., \u001b[1;36m16\u001b[0m., \u001b[1;36m20\u001b[0m., \u001b[1;36m22\u001b[0m., \u001b[1;36m25\u001b[0m., \u001b[1;36m29\u001b[0m., \u001b[1;36m25\u001b[0m., \u001b[1;36m29\u001b[0m., \u001b[1;36m28\u001b[0m., \u001b[1;36m27\u001b[0m., \u001b[1;36m24\u001b[0m., \u001b[1;36m26\u001b[0m., \u001b[1;36m26\u001b[0m.,\n",
       "       \u001b[1;36m26\u001b[0m., \u001b[1;36m22\u001b[0m., \u001b[1;36m28\u001b[0m., \u001b[1;36m19\u001b[0m., \u001b[1;36m29\u001b[0m., \u001b[1;36m24\u001b[0m., \u001b[1;36m26\u001b[0m., \u001b[1;36m26\u001b[0m., \u001b[1;36m25\u001b[0m., \u001b[1;36m29\u001b[0m., \u001b[1;36m19\u001b[0m., \u001b[1;36m24\u001b[0m., \u001b[1;36m22\u001b[0m.,\n",
       "       \u001b[1;36m12\u001b[0m., \u001b[1;36m29\u001b[0m., \u001b[1;36m21\u001b[0m., \u001b[1;36m26\u001b[0m., \u001b[1;36m25\u001b[0m., \u001b[1;36m24\u001b[0m., \u001b[1;36m25\u001b[0m., \u001b[1;36m27\u001b[0m., \u001b[1;36m25\u001b[0m., \u001b[1;36m18\u001b[0m., \u001b[1;36m26\u001b[0m., \u001b[1;36m13\u001b[0m., \u001b[1;36m19\u001b[0m.,\n",
       "       \u001b[1;36m23\u001b[0m., \u001b[1;36m28\u001b[0m., \u001b[1;36m23\u001b[0m., \u001b[1;36m24\u001b[0m., \u001b[1;36m29\u001b[0m.,  \u001b[1;36m8\u001b[0m., \u001b[1;36m10\u001b[0m., \u001b[1;36m20\u001b[0m., \u001b[1;36m26\u001b[0m., \u001b[1;36m24\u001b[0m., \u001b[1;36m27\u001b[0m., \u001b[1;36m26\u001b[0m., \u001b[1;36m27\u001b[0m.,\n",
       "       \u001b[1;36m25\u001b[0m., \u001b[1;36m26\u001b[0m., \u001b[1;36m25\u001b[0m., \u001b[1;36m29\u001b[0m., \u001b[1;36m22\u001b[0m., \u001b[1;36m27\u001b[0m., \u001b[1;36m22\u001b[0m., \u001b[1;36m23\u001b[0m., \u001b[1;36m27\u001b[0m., \u001b[1;36m20\u001b[0m., \u001b[1;36m27\u001b[0m., \u001b[1;36m20\u001b[0m., \u001b[1;36m17\u001b[0m.,\n",
       "       \u001b[1;36m21\u001b[0m., \u001b[1;36m25\u001b[0m., \u001b[1;36m28\u001b[0m., \u001b[1;36m26\u001b[0m., \u001b[1;36m29\u001b[0m., \u001b[1;36m29\u001b[0m., \u001b[1;36m23\u001b[0m., \u001b[1;36m25\u001b[0m., \u001b[1;36m24\u001b[0m., \u001b[1;36m21\u001b[0m., \u001b[1;36m26\u001b[0m., \u001b[1;36m22\u001b[0m., \u001b[1;36m25\u001b[0m.,\n",
       "       \u001b[1;36m24\u001b[0m., \u001b[1;36m28\u001b[0m., \u001b[1;36m29\u001b[0m., \u001b[1;36m29\u001b[0m., \u001b[1;36m22\u001b[0m., \u001b[1;36m24\u001b[0m., \u001b[1;36m25\u001b[0m., \u001b[1;36m24\u001b[0m., \u001b[1;36m25\u001b[0m., \u001b[1;36m29\u001b[0m., \u001b[1;36m27\u001b[0m., \u001b[1;36m26\u001b[0m., \u001b[1;36m26\u001b[0m.,\n",
       "       \u001b[1;36m27\u001b[0m., \u001b[1;36m29\u001b[0m., \u001b[1;36m26\u001b[0m., \u001b[1;36m25\u001b[0m., \u001b[1;36m27\u001b[0m., \u001b[1;36m25\u001b[0m., \u001b[1;36m15\u001b[0m., \u001b[1;36m22\u001b[0m., \u001b[1;36m23\u001b[0m., \u001b[1;36m24\u001b[0m., \u001b[1;36m28\u001b[0m., \u001b[1;36m25\u001b[0m., \u001b[1;36m29\u001b[0m.,\n",
       "       \u001b[1;36m27\u001b[0m., \u001b[1;36m28\u001b[0m., \u001b[1;36m26\u001b[0m., \u001b[1;36m23\u001b[0m., \u001b[1;36m27\u001b[0m., \u001b[1;36m26\u001b[0m., \u001b[1;36m25\u001b[0m., \u001b[1;36m22\u001b[0m., \u001b[1;36m29\u001b[0m., \u001b[1;36m28\u001b[0m., \u001b[1;36m27\u001b[0m., \u001b[1;36m29\u001b[0m., \u001b[1;36m24\u001b[0m.,\n",
       "       \u001b[1;36m23\u001b[0m., \u001b[1;36m28\u001b[0m., \u001b[1;36m27\u001b[0m., \u001b[1;36m12\u001b[0m., \u001b[1;36m27\u001b[0m., \u001b[1;36m25\u001b[0m., \u001b[1;36m26\u001b[0m., \u001b[1;36m11\u001b[0m., \u001b[1;36m13\u001b[0m., \u001b[1;36m24\u001b[0m., \u001b[1;36m25\u001b[0m., \u001b[1;36m20\u001b[0m., \u001b[1;36m23\u001b[0m.,\n",
       "       \u001b[1;36m17\u001b[0m., \u001b[1;36m23\u001b[0m., \u001b[1;36m27\u001b[0m., \u001b[1;36m17\u001b[0m., \u001b[1;36m27\u001b[0m., \u001b[1;36m19\u001b[0m., \u001b[1;36m24\u001b[0m., \u001b[1;36m25\u001b[0m., \u001b[1;36m26\u001b[0m., \u001b[1;36m28\u001b[0m., \u001b[1;36m25\u001b[0m., \u001b[1;36m18\u001b[0m., \u001b[1;36m26\u001b[0m.,\n",
       "       \u001b[1;36m29\u001b[0m., \u001b[1;36m23\u001b[0m., \u001b[1;36m29\u001b[0m., \u001b[1;36m18\u001b[0m., \u001b[1;36m28\u001b[0m., \u001b[1;36m28\u001b[0m., \u001b[1;36m29\u001b[0m., \u001b[1;36m27\u001b[0m., \u001b[1;36m29\u001b[0m., \u001b[1;36m29\u001b[0m., \u001b[1;36m22\u001b[0m., \u001b[1;36m28\u001b[0m., \u001b[1;36m27\u001b[0m.,\n",
       "       \u001b[1;36m27\u001b[0m., \u001b[1;36m21\u001b[0m., nan, \u001b[1;36m26\u001b[0m., \u001b[1;36m28\u001b[0m., \u001b[1;36m22\u001b[0m., \u001b[1;36m29\u001b[0m., \u001b[1;36m25\u001b[0m., \u001b[1;36m26\u001b[0m., \u001b[1;36m24\u001b[0m., \u001b[1;36m29\u001b[0m., \u001b[1;36m25\u001b[0m., \u001b[1;36m29\u001b[0m.,\n",
       "       \u001b[1;36m25\u001b[0m., \u001b[1;36m26\u001b[0m., \u001b[1;36m23\u001b[0m., \u001b[1;36m15\u001b[0m., \u001b[1;36m22\u001b[0m., \u001b[1;36m26\u001b[0m.\u001b[1m]\u001b[0m\u001b[1m)\u001b[0m\n"
      ]
     },
     "metadata": {},
     "output_type": "display_data"
    }
   ],
   "source": [
    "delta"
   ]
  },
  {
   "cell_type": "code",
   "execution_count": 17,
   "id": "dab4adf8",
   "metadata": {},
   "outputs": [
    {
     "data": {
      "text/html": [
       "<pre style=\"white-space:pre;overflow-x:auto;line-height:normal;font-family:Menlo,'DejaVu Sans Mono',consolas,'Courier New',monospace\"><span style=\"font-weight: bold\">[</span>\n",
       "    <span style=\"font-weight: bold\">(</span><span style=\"color: #008080; text-decoration-color: #008080; font-weight: bold\">26.0</span>, <span style=\"color: #008080; text-decoration-color: #008080; font-weight: bold\">29</span><span style=\"font-weight: bold\">)</span>,\n",
       "    <span style=\"font-weight: bold\">(</span><span style=\"color: #008080; text-decoration-color: #008080; font-weight: bold\">25.0</span>, <span style=\"color: #008080; text-decoration-color: #008080; font-weight: bold\">28</span><span style=\"font-weight: bold\">)</span>,\n",
       "    <span style=\"font-weight: bold\">(</span><span style=\"color: #008080; text-decoration-color: #008080; font-weight: bold\">29.0</span>, <span style=\"color: #008080; text-decoration-color: #008080; font-weight: bold\">25</span><span style=\"font-weight: bold\">)</span>,\n",
       "    <span style=\"font-weight: bold\">(</span><span style=\"color: #008080; text-decoration-color: #008080; font-weight: bold\">27.0</span>, <span style=\"color: #008080; text-decoration-color: #008080; font-weight: bold\">24</span><span style=\"font-weight: bold\">)</span>,\n",
       "    <span style=\"font-weight: bold\">(</span><span style=\"color: #008080; text-decoration-color: #008080; font-weight: bold\">24.0</span>, <span style=\"color: #008080; text-decoration-color: #008080; font-weight: bold\">17</span><span style=\"font-weight: bold\">)</span>,\n",
       "    <span style=\"font-weight: bold\">(</span><span style=\"color: #008080; text-decoration-color: #008080; font-weight: bold\">28.0</span>, <span style=\"color: #008080; text-decoration-color: #008080; font-weight: bold\">16</span><span style=\"font-weight: bold\">)</span>,\n",
       "    <span style=\"font-weight: bold\">(</span><span style=\"color: #008080; text-decoration-color: #008080; font-weight: bold\">23.0</span>, <span style=\"color: #008080; text-decoration-color: #008080; font-weight: bold\">13</span><span style=\"font-weight: bold\">)</span>,\n",
       "    <span style=\"font-weight: bold\">(</span><span style=\"color: #008080; text-decoration-color: #008080; font-weight: bold\">22.0</span>, <span style=\"color: #008080; text-decoration-color: #008080; font-weight: bold\">13</span><span style=\"font-weight: bold\">)</span>,\n",
       "    <span style=\"font-weight: bold\">(</span><span style=\"color: #008080; text-decoration-color: #008080; font-weight: bold\">20.0</span>, <span style=\"color: #008080; text-decoration-color: #008080; font-weight: bold\">8</span><span style=\"font-weight: bold\">)</span>,\n",
       "    <span style=\"font-weight: bold\">(</span><span style=\"color: #008080; text-decoration-color: #008080; font-weight: bold\">21.0</span>, <span style=\"color: #008080; text-decoration-color: #008080; font-weight: bold\">6</span><span style=\"font-weight: bold\">)</span>,\n",
       "    <span style=\"font-weight: bold\">(</span><span style=\"color: #008080; text-decoration-color: #008080; font-weight: bold\">19.0</span>, <span style=\"color: #008080; text-decoration-color: #008080; font-weight: bold\">5</span><span style=\"font-weight: bold\">)</span>,\n",
       "    <span style=\"font-weight: bold\">(</span><span style=\"color: #008080; text-decoration-color: #008080; font-weight: bold\">18.0</span>, <span style=\"color: #008080; text-decoration-color: #008080; font-weight: bold\">3</span><span style=\"font-weight: bold\">)</span>,\n",
       "    <span style=\"font-weight: bold\">(</span><span style=\"color: #008080; text-decoration-color: #008080; font-weight: bold\">17.0</span>, <span style=\"color: #008080; text-decoration-color: #008080; font-weight: bold\">3</span><span style=\"font-weight: bold\">)</span>,\n",
       "    <span style=\"font-weight: bold\">(</span><span style=\"color: #008080; text-decoration-color: #008080; font-weight: bold\">12.0</span>, <span style=\"color: #008080; text-decoration-color: #008080; font-weight: bold\">2</span><span style=\"font-weight: bold\">)</span>,\n",
       "    <span style=\"font-weight: bold\">(</span><span style=\"color: #008080; text-decoration-color: #008080; font-weight: bold\">13.0</span>, <span style=\"color: #008080; text-decoration-color: #008080; font-weight: bold\">2</span><span style=\"font-weight: bold\">)</span>,\n",
       "    <span style=\"font-weight: bold\">(</span><span style=\"color: #008080; text-decoration-color: #008080; font-weight: bold\">15.0</span>, <span style=\"color: #008080; text-decoration-color: #008080; font-weight: bold\">2</span><span style=\"font-weight: bold\">)</span>,\n",
       "    <span style=\"font-weight: bold\">(</span><span style=\"color: #008080; text-decoration-color: #008080; font-weight: bold\">16.0</span>, <span style=\"color: #008080; text-decoration-color: #008080; font-weight: bold\">1</span><span style=\"font-weight: bold\">)</span>,\n",
       "    <span style=\"font-weight: bold\">(</span><span style=\"color: #008080; text-decoration-color: #008080; font-weight: bold\">8.0</span>, <span style=\"color: #008080; text-decoration-color: #008080; font-weight: bold\">1</span><span style=\"font-weight: bold\">)</span>,\n",
       "    <span style=\"font-weight: bold\">(</span><span style=\"color: #008080; text-decoration-color: #008080; font-weight: bold\">10.0</span>, <span style=\"color: #008080; text-decoration-color: #008080; font-weight: bold\">1</span><span style=\"font-weight: bold\">)</span>,\n",
       "    <span style=\"font-weight: bold\">(</span><span style=\"color: #008080; text-decoration-color: #008080; font-weight: bold\">11.0</span>, <span style=\"color: #008080; text-decoration-color: #008080; font-weight: bold\">1</span><span style=\"font-weight: bold\">)</span>,\n",
       "    <span style=\"font-weight: bold\">(</span>nan, <span style=\"color: #008080; text-decoration-color: #008080; font-weight: bold\">1</span><span style=\"font-weight: bold\">)</span>\n",
       "<span style=\"font-weight: bold\">]</span>\n",
       "</pre>\n"
      ],
      "text/plain": [
       "\u001b[1m[\u001b[0m\n",
       "    \u001b[1m(\u001b[0m\u001b[1;36m26.0\u001b[0m, \u001b[1;36m29\u001b[0m\u001b[1m)\u001b[0m,\n",
       "    \u001b[1m(\u001b[0m\u001b[1;36m25.0\u001b[0m, \u001b[1;36m28\u001b[0m\u001b[1m)\u001b[0m,\n",
       "    \u001b[1m(\u001b[0m\u001b[1;36m29.0\u001b[0m, \u001b[1;36m25\u001b[0m\u001b[1m)\u001b[0m,\n",
       "    \u001b[1m(\u001b[0m\u001b[1;36m27.0\u001b[0m, \u001b[1;36m24\u001b[0m\u001b[1m)\u001b[0m,\n",
       "    \u001b[1m(\u001b[0m\u001b[1;36m24.0\u001b[0m, \u001b[1;36m17\u001b[0m\u001b[1m)\u001b[0m,\n",
       "    \u001b[1m(\u001b[0m\u001b[1;36m28.0\u001b[0m, \u001b[1;36m16\u001b[0m\u001b[1m)\u001b[0m,\n",
       "    \u001b[1m(\u001b[0m\u001b[1;36m23.0\u001b[0m, \u001b[1;36m13\u001b[0m\u001b[1m)\u001b[0m,\n",
       "    \u001b[1m(\u001b[0m\u001b[1;36m22.0\u001b[0m, \u001b[1;36m13\u001b[0m\u001b[1m)\u001b[0m,\n",
       "    \u001b[1m(\u001b[0m\u001b[1;36m20.0\u001b[0m, \u001b[1;36m8\u001b[0m\u001b[1m)\u001b[0m,\n",
       "    \u001b[1m(\u001b[0m\u001b[1;36m21.0\u001b[0m, \u001b[1;36m6\u001b[0m\u001b[1m)\u001b[0m,\n",
       "    \u001b[1m(\u001b[0m\u001b[1;36m19.0\u001b[0m, \u001b[1;36m5\u001b[0m\u001b[1m)\u001b[0m,\n",
       "    \u001b[1m(\u001b[0m\u001b[1;36m18.0\u001b[0m, \u001b[1;36m3\u001b[0m\u001b[1m)\u001b[0m,\n",
       "    \u001b[1m(\u001b[0m\u001b[1;36m17.0\u001b[0m, \u001b[1;36m3\u001b[0m\u001b[1m)\u001b[0m,\n",
       "    \u001b[1m(\u001b[0m\u001b[1;36m12.0\u001b[0m, \u001b[1;36m2\u001b[0m\u001b[1m)\u001b[0m,\n",
       "    \u001b[1m(\u001b[0m\u001b[1;36m13.0\u001b[0m, \u001b[1;36m2\u001b[0m\u001b[1m)\u001b[0m,\n",
       "    \u001b[1m(\u001b[0m\u001b[1;36m15.0\u001b[0m, \u001b[1;36m2\u001b[0m\u001b[1m)\u001b[0m,\n",
       "    \u001b[1m(\u001b[0m\u001b[1;36m16.0\u001b[0m, \u001b[1;36m1\u001b[0m\u001b[1m)\u001b[0m,\n",
       "    \u001b[1m(\u001b[0m\u001b[1;36m8.0\u001b[0m, \u001b[1;36m1\u001b[0m\u001b[1m)\u001b[0m,\n",
       "    \u001b[1m(\u001b[0m\u001b[1;36m10.0\u001b[0m, \u001b[1;36m1\u001b[0m\u001b[1m)\u001b[0m,\n",
       "    \u001b[1m(\u001b[0m\u001b[1;36m11.0\u001b[0m, \u001b[1;36m1\u001b[0m\u001b[1m)\u001b[0m,\n",
       "    \u001b[1m(\u001b[0mnan, \u001b[1;36m1\u001b[0m\u001b[1m)\u001b[0m\n",
       "\u001b[1m]\u001b[0m\n"
      ]
     },
     "metadata": {},
     "output_type": "display_data"
    }
   ],
   "source": [
    "collections.Counter(delta).most_common()"
   ]
  },
  {
   "cell_type": "code",
   "execution_count": 18,
   "id": "fb73134a",
   "metadata": {},
   "outputs": [
    {
     "data": {
      "text/html": [
       "<pre style=\"white-space:pre;overflow-x:auto;line-height:normal;font-family:Menlo,'DejaVu Sans Mono',consolas,'Courier New',monospace\"><span style=\"color: #008080; text-decoration-color: #008080; font-weight: bold\">0.00</span> % correct\n",
       "</pre>\n"
      ],
      "text/plain": [
       "\u001b[1;36m0.00\u001b[0m % correct\n"
      ]
     },
     "metadata": {},
     "output_type": "display_data"
    }
   ],
   "source": [
    "percent_correct1 = 100 * collections.Counter(delta).get(0., 0.) / len(delta)\n",
    "print(f\"{percent_correct1:0.2f} % correct\")"
   ]
  },
  {
   "cell_type": "code",
   "execution_count": null,
   "id": "caa1e40e",
   "metadata": {},
   "outputs": [],
   "source": []
  },
  {
   "cell_type": "code",
   "execution_count": 19,
   "id": "c89687ca",
   "metadata": {},
   "outputs": [
    {
     "data": {
      "text/html": [
       "<pre style=\"white-space:pre;overflow-x:auto;line-height:normal;font-family:Menlo,'DejaVu Sans Mono',consolas,'Courier New',monospace\"><span style=\"font-weight: bold\">(</span><span style=\"color: #008080; text-decoration-color: #008080; font-weight: bold\">2766</span>, <span style=\"color: #008080; text-decoration-color: #008080; font-weight: bold\">541</span><span style=\"font-weight: bold\">)</span>\n",
       "</pre>\n"
      ],
      "text/plain": [
       "\u001b[1m(\u001b[0m\u001b[1;36m2766\u001b[0m, \u001b[1;36m541\u001b[0m\u001b[1m)\u001b[0m\n"
      ]
     },
     "metadata": {},
     "output_type": "display_data"
    }
   ],
   "source": [
    "mice.bold['sub-SLC02_ses-2_run-3'].shape"
   ]
  },
  {
   "cell_type": "markdown",
   "id": "ac85a48c",
   "metadata": {},
   "source": [
    "### 2) reoriented_data"
   ]
  },
  {
   "cell_type": "code",
   "execution_count": 20,
   "id": "bac926c9",
   "metadata": {},
   "outputs": [],
   "source": [
    "path = 'reoriented_data/frame_censoring_mask'\n",
    "df = _tmask_delta_df(pjoin(base_dir, path), False)\n",
    "delta = (df['run_t'] - df['tmask_t']).values"
   ]
  },
  {
   "cell_type": "code",
   "execution_count": 21,
   "id": "745cf121",
   "metadata": {},
   "outputs": [
    {
     "data": {
      "text/html": [
       "<pre style=\"white-space:pre;overflow-x:auto;line-height:normal;font-family:Menlo,'DejaVu Sans Mono',consolas,'Courier New',monospace\"><span style=\"color: #800080; text-decoration-color: #800080; font-weight: bold\">array</span><span style=\"font-weight: bold\">([</span><span style=\"color: #008080; text-decoration-color: #008080; font-weight: bold\">0</span>., <span style=\"color: #008080; text-decoration-color: #008080; font-weight: bold\">0</span>., <span style=\"color: #008080; text-decoration-color: #008080; font-weight: bold\">0</span>., <span style=\"color: #008080; text-decoration-color: #008080; font-weight: bold\">0</span>., <span style=\"color: #008080; text-decoration-color: #008080; font-weight: bold\">0</span>., <span style=\"color: #008080; text-decoration-color: #008080; font-weight: bold\">0</span>., <span style=\"color: #008080; text-decoration-color: #008080; font-weight: bold\">0</span>., <span style=\"color: #008080; text-decoration-color: #008080; font-weight: bold\">0</span>., <span style=\"color: #008080; text-decoration-color: #008080; font-weight: bold\">0</span>., <span style=\"color: #008080; text-decoration-color: #008080; font-weight: bold\">0</span>., <span style=\"color: #008080; text-decoration-color: #008080; font-weight: bold\">0</span>., <span style=\"color: #008080; text-decoration-color: #008080; font-weight: bold\">0</span>., <span style=\"color: #008080; text-decoration-color: #008080; font-weight: bold\">0</span>., <span style=\"color: #008080; text-decoration-color: #008080; font-weight: bold\">0</span>., <span style=\"color: #008080; text-decoration-color: #008080; font-weight: bold\">0</span>., <span style=\"color: #008080; text-decoration-color: #008080; font-weight: bold\">0</span>., <span style=\"color: #008080; text-decoration-color: #008080; font-weight: bold\">0</span>.,\n",
       "       <span style=\"color: #008080; text-decoration-color: #008080; font-weight: bold\">0</span>., <span style=\"color: #008080; text-decoration-color: #008080; font-weight: bold\">0</span>., <span style=\"color: #008080; text-decoration-color: #008080; font-weight: bold\">0</span>., <span style=\"color: #008080; text-decoration-color: #008080; font-weight: bold\">0</span>., <span style=\"color: #008080; text-decoration-color: #008080; font-weight: bold\">0</span>., <span style=\"color: #008080; text-decoration-color: #008080; font-weight: bold\">0</span>., <span style=\"color: #008080; text-decoration-color: #008080; font-weight: bold\">0</span>., <span style=\"color: #008080; text-decoration-color: #008080; font-weight: bold\">0</span>., <span style=\"color: #008080; text-decoration-color: #008080; font-weight: bold\">0</span>., <span style=\"color: #008080; text-decoration-color: #008080; font-weight: bold\">0</span>., <span style=\"color: #008080; text-decoration-color: #008080; font-weight: bold\">0</span>., <span style=\"color: #008080; text-decoration-color: #008080; font-weight: bold\">0</span>., <span style=\"color: #008080; text-decoration-color: #008080; font-weight: bold\">0</span>., <span style=\"color: #008080; text-decoration-color: #008080; font-weight: bold\">0</span>., <span style=\"color: #008080; text-decoration-color: #008080; font-weight: bold\">0</span>., <span style=\"color: #008080; text-decoration-color: #008080; font-weight: bold\">0</span>., <span style=\"color: #008080; text-decoration-color: #008080; font-weight: bold\">0</span>.,\n",
       "       <span style=\"color: #008080; text-decoration-color: #008080; font-weight: bold\">0</span>., <span style=\"color: #008080; text-decoration-color: #008080; font-weight: bold\">0</span>., <span style=\"color: #008080; text-decoration-color: #008080; font-weight: bold\">0</span>., <span style=\"color: #008080; text-decoration-color: #008080; font-weight: bold\">0</span>., <span style=\"color: #008080; text-decoration-color: #008080; font-weight: bold\">0</span>., <span style=\"color: #008080; text-decoration-color: #008080; font-weight: bold\">0</span>., <span style=\"color: #008080; text-decoration-color: #008080; font-weight: bold\">0</span>., <span style=\"color: #008080; text-decoration-color: #008080; font-weight: bold\">0</span>., <span style=\"color: #008080; text-decoration-color: #008080; font-weight: bold\">0</span>., <span style=\"color: #008080; text-decoration-color: #008080; font-weight: bold\">0</span>., <span style=\"color: #008080; text-decoration-color: #008080; font-weight: bold\">0</span>., <span style=\"color: #008080; text-decoration-color: #008080; font-weight: bold\">0</span>., <span style=\"color: #008080; text-decoration-color: #008080; font-weight: bold\">0</span>., <span style=\"color: #008080; text-decoration-color: #008080; font-weight: bold\">0</span>., <span style=\"color: #008080; text-decoration-color: #008080; font-weight: bold\">0</span>., <span style=\"color: #008080; text-decoration-color: #008080; font-weight: bold\">0</span>., <span style=\"color: #008080; text-decoration-color: #008080; font-weight: bold\">0</span>.,\n",
       "       <span style=\"color: #008080; text-decoration-color: #008080; font-weight: bold\">0</span>., <span style=\"color: #008080; text-decoration-color: #008080; font-weight: bold\">0</span>., <span style=\"color: #008080; text-decoration-color: #008080; font-weight: bold\">0</span>., <span style=\"color: #008080; text-decoration-color: #008080; font-weight: bold\">0</span>., <span style=\"color: #008080; text-decoration-color: #008080; font-weight: bold\">0</span>., <span style=\"color: #008080; text-decoration-color: #008080; font-weight: bold\">0</span>., <span style=\"color: #008080; text-decoration-color: #008080; font-weight: bold\">0</span>., <span style=\"color: #008080; text-decoration-color: #008080; font-weight: bold\">0</span>., <span style=\"color: #008080; text-decoration-color: #008080; font-weight: bold\">0</span>., <span style=\"color: #008080; text-decoration-color: #008080; font-weight: bold\">0</span>., <span style=\"color: #008080; text-decoration-color: #008080; font-weight: bold\">0</span>., <span style=\"color: #008080; text-decoration-color: #008080; font-weight: bold\">0</span>., <span style=\"color: #008080; text-decoration-color: #008080; font-weight: bold\">0</span>., <span style=\"color: #008080; text-decoration-color: #008080; font-weight: bold\">0</span>., <span style=\"color: #008080; text-decoration-color: #008080; font-weight: bold\">0</span>., <span style=\"color: #008080; text-decoration-color: #008080; font-weight: bold\">0</span>., <span style=\"color: #008080; text-decoration-color: #008080; font-weight: bold\">0</span>.,\n",
       "       <span style=\"color: #008080; text-decoration-color: #008080; font-weight: bold\">0</span>., <span style=\"color: #008080; text-decoration-color: #008080; font-weight: bold\">0</span>., <span style=\"color: #008080; text-decoration-color: #008080; font-weight: bold\">0</span>., <span style=\"color: #008080; text-decoration-color: #008080; font-weight: bold\">0</span>., <span style=\"color: #008080; text-decoration-color: #008080; font-weight: bold\">0</span>., <span style=\"color: #008080; text-decoration-color: #008080; font-weight: bold\">0</span>., <span style=\"color: #008080; text-decoration-color: #008080; font-weight: bold\">0</span>., <span style=\"color: #008080; text-decoration-color: #008080; font-weight: bold\">0</span>., <span style=\"color: #008080; text-decoration-color: #008080; font-weight: bold\">0</span>., <span style=\"color: #008080; text-decoration-color: #008080; font-weight: bold\">0</span>., <span style=\"color: #008080; text-decoration-color: #008080; font-weight: bold\">0</span>., <span style=\"color: #008080; text-decoration-color: #008080; font-weight: bold\">0</span>., <span style=\"color: #008080; text-decoration-color: #008080; font-weight: bold\">0</span>., <span style=\"color: #008080; text-decoration-color: #008080; font-weight: bold\">0</span>., <span style=\"color: #008080; text-decoration-color: #008080; font-weight: bold\">0</span>., <span style=\"color: #008080; text-decoration-color: #008080; font-weight: bold\">0</span>., <span style=\"color: #008080; text-decoration-color: #008080; font-weight: bold\">0</span>.,\n",
       "       <span style=\"color: #008080; text-decoration-color: #008080; font-weight: bold\">0</span>., <span style=\"color: #008080; text-decoration-color: #008080; font-weight: bold\">0</span>., <span style=\"color: #008080; text-decoration-color: #008080; font-weight: bold\">0</span>., <span style=\"color: #008080; text-decoration-color: #008080; font-weight: bold\">0</span>., <span style=\"color: #008080; text-decoration-color: #008080; font-weight: bold\">0</span>., <span style=\"color: #008080; text-decoration-color: #008080; font-weight: bold\">0</span>., <span style=\"color: #008080; text-decoration-color: #008080; font-weight: bold\">0</span>., <span style=\"color: #008080; text-decoration-color: #008080; font-weight: bold\">0</span>., <span style=\"color: #008080; text-decoration-color: #008080; font-weight: bold\">0</span>., <span style=\"color: #008080; text-decoration-color: #008080; font-weight: bold\">0</span>., <span style=\"color: #008080; text-decoration-color: #008080; font-weight: bold\">0</span>., <span style=\"color: #008080; text-decoration-color: #008080; font-weight: bold\">0</span>., <span style=\"color: #008080; text-decoration-color: #008080; font-weight: bold\">0</span>., <span style=\"color: #008080; text-decoration-color: #008080; font-weight: bold\">0</span>., <span style=\"color: #008080; text-decoration-color: #008080; font-weight: bold\">0</span>., <span style=\"color: #008080; text-decoration-color: #008080; font-weight: bold\">0</span>., <span style=\"color: #008080; text-decoration-color: #008080; font-weight: bold\">0</span>.,\n",
       "       <span style=\"color: #008080; text-decoration-color: #008080; font-weight: bold\">0</span>., <span style=\"color: #008080; text-decoration-color: #008080; font-weight: bold\">0</span>., <span style=\"color: #008080; text-decoration-color: #008080; font-weight: bold\">0</span>., <span style=\"color: #008080; text-decoration-color: #008080; font-weight: bold\">0</span>., <span style=\"color: #008080; text-decoration-color: #008080; font-weight: bold\">0</span>., <span style=\"color: #008080; text-decoration-color: #008080; font-weight: bold\">0</span>., <span style=\"color: #008080; text-decoration-color: #008080; font-weight: bold\">0</span>., <span style=\"color: #008080; text-decoration-color: #008080; font-weight: bold\">0</span>., <span style=\"color: #008080; text-decoration-color: #008080; font-weight: bold\">0</span>., <span style=\"color: #008080; text-decoration-color: #008080; font-weight: bold\">0</span>., <span style=\"color: #008080; text-decoration-color: #008080; font-weight: bold\">0</span>., <span style=\"color: #008080; text-decoration-color: #008080; font-weight: bold\">0</span>., <span style=\"color: #008080; text-decoration-color: #008080; font-weight: bold\">0</span>., <span style=\"color: #008080; text-decoration-color: #008080; font-weight: bold\">0</span>., <span style=\"color: #008080; text-decoration-color: #008080; font-weight: bold\">0</span>., <span style=\"color: #008080; text-decoration-color: #008080; font-weight: bold\">0</span>., <span style=\"color: #008080; text-decoration-color: #008080; font-weight: bold\">0</span>.,\n",
       "       <span style=\"color: #008080; text-decoration-color: #008080; font-weight: bold\">0</span>., <span style=\"color: #008080; text-decoration-color: #008080; font-weight: bold\">0</span>., <span style=\"color: #008080; text-decoration-color: #008080; font-weight: bold\">0</span>., <span style=\"color: #008080; text-decoration-color: #008080; font-weight: bold\">0</span>., <span style=\"color: #008080; text-decoration-color: #008080; font-weight: bold\">0</span>., <span style=\"color: #008080; text-decoration-color: #008080; font-weight: bold\">0</span>., <span style=\"color: #008080; text-decoration-color: #008080; font-weight: bold\">0</span>., <span style=\"color: #008080; text-decoration-color: #008080; font-weight: bold\">0</span>., <span style=\"color: #008080; text-decoration-color: #008080; font-weight: bold\">0</span>., <span style=\"color: #008080; text-decoration-color: #008080; font-weight: bold\">0</span>., <span style=\"color: #008080; text-decoration-color: #008080; font-weight: bold\">0</span>., <span style=\"color: #008080; text-decoration-color: #008080; font-weight: bold\">0</span>., <span style=\"color: #008080; text-decoration-color: #008080; font-weight: bold\">0</span>., <span style=\"color: #008080; text-decoration-color: #008080; font-weight: bold\">0</span>., <span style=\"color: #008080; text-decoration-color: #008080; font-weight: bold\">0</span>., <span style=\"color: #008080; text-decoration-color: #008080; font-weight: bold\">0</span>., <span style=\"color: #008080; text-decoration-color: #008080; font-weight: bold\">0</span>.,\n",
       "       <span style=\"color: #008080; text-decoration-color: #008080; font-weight: bold\">0</span>., <span style=\"color: #008080; text-decoration-color: #008080; font-weight: bold\">0</span>., <span style=\"color: #008080; text-decoration-color: #008080; font-weight: bold\">0</span>., <span style=\"color: #008080; text-decoration-color: #008080; font-weight: bold\">0</span>., <span style=\"color: #008080; text-decoration-color: #008080; font-weight: bold\">0</span>., <span style=\"color: #008080; text-decoration-color: #008080; font-weight: bold\">0</span>., <span style=\"color: #008080; text-decoration-color: #008080; font-weight: bold\">0</span>., <span style=\"color: #008080; text-decoration-color: #008080; font-weight: bold\">0</span>., <span style=\"color: #008080; text-decoration-color: #008080; font-weight: bold\">0</span>., <span style=\"color: #008080; text-decoration-color: #008080; font-weight: bold\">0</span>., <span style=\"color: #008080; text-decoration-color: #008080; font-weight: bold\">0</span>., <span style=\"color: #008080; text-decoration-color: #008080; font-weight: bold\">0</span>., <span style=\"color: #008080; text-decoration-color: #008080; font-weight: bold\">0</span>., <span style=\"color: #008080; text-decoration-color: #008080; font-weight: bold\">0</span>., <span style=\"color: #008080; text-decoration-color: #008080; font-weight: bold\">0</span>., <span style=\"color: #008080; text-decoration-color: #008080; font-weight: bold\">0</span>., <span style=\"color: #008080; text-decoration-color: #008080; font-weight: bold\">0</span>.,\n",
       "       <span style=\"color: #008080; text-decoration-color: #008080; font-weight: bold\">0</span>., <span style=\"color: #008080; text-decoration-color: #008080; font-weight: bold\">0</span>., <span style=\"color: #008080; text-decoration-color: #008080; font-weight: bold\">0</span>., <span style=\"color: #008080; text-decoration-color: #008080; font-weight: bold\">0</span>., <span style=\"color: #008080; text-decoration-color: #008080; font-weight: bold\">0</span>., <span style=\"color: #008080; text-decoration-color: #008080; font-weight: bold\">0</span>., <span style=\"color: #008080; text-decoration-color: #008080; font-weight: bold\">0</span>., <span style=\"color: #008080; text-decoration-color: #008080; font-weight: bold\">0</span>., <span style=\"color: #008080; text-decoration-color: #008080; font-weight: bold\">0</span>., <span style=\"color: #008080; text-decoration-color: #008080; font-weight: bold\">0</span>., <span style=\"color: #008080; text-decoration-color: #008080; font-weight: bold\">0</span>., <span style=\"color: #008080; text-decoration-color: #008080; font-weight: bold\">0</span>., <span style=\"color: #008080; text-decoration-color: #008080; font-weight: bold\">0</span>., <span style=\"color: #008080; text-decoration-color: #008080; font-weight: bold\">0</span>., <span style=\"color: #008080; text-decoration-color: #008080; font-weight: bold\">0</span>., <span style=\"color: #008080; text-decoration-color: #008080; font-weight: bold\">0</span>., <span style=\"color: #008080; text-decoration-color: #008080; font-weight: bold\">0</span>.,\n",
       "       <span style=\"color: #008080; text-decoration-color: #008080; font-weight: bold\">0</span>., <span style=\"color: #008080; text-decoration-color: #008080; font-weight: bold\">0</span>., <span style=\"color: #008080; text-decoration-color: #008080; font-weight: bold\">0</span>., <span style=\"color: #008080; text-decoration-color: #008080; font-weight: bold\">0</span>., <span style=\"color: #008080; text-decoration-color: #008080; font-weight: bold\">0</span>., <span style=\"color: #008080; text-decoration-color: #008080; font-weight: bold\">0</span>., <span style=\"color: #008080; text-decoration-color: #008080; font-weight: bold\">0</span>., <span style=\"color: #008080; text-decoration-color: #008080; font-weight: bold\">0</span>., <span style=\"color: #008080; text-decoration-color: #008080; font-weight: bold\">0</span>., <span style=\"color: #008080; text-decoration-color: #008080; font-weight: bold\">0</span>., <span style=\"color: #008080; text-decoration-color: #008080; font-weight: bold\">0</span>., <span style=\"color: #008080; text-decoration-color: #008080; font-weight: bold\">0</span>., <span style=\"color: #008080; text-decoration-color: #008080; font-weight: bold\">0</span>., <span style=\"color: #008080; text-decoration-color: #008080; font-weight: bold\">0</span>., <span style=\"color: #008080; text-decoration-color: #008080; font-weight: bold\">0</span>., <span style=\"color: #008080; text-decoration-color: #008080; font-weight: bold\">0</span>., <span style=\"color: #008080; text-decoration-color: #008080; font-weight: bold\">0</span>.,\n",
       "       <span style=\"color: #008080; text-decoration-color: #008080; font-weight: bold\">0</span>., <span style=\"color: #008080; text-decoration-color: #008080; font-weight: bold\">0</span>., <span style=\"color: #008080; text-decoration-color: #008080; font-weight: bold\">0</span>., <span style=\"color: #008080; text-decoration-color: #008080; font-weight: bold\">0</span>., <span style=\"color: #008080; text-decoration-color: #008080; font-weight: bold\">0</span>., <span style=\"color: #008080; text-decoration-color: #008080; font-weight: bold\">0</span>., <span style=\"color: #008080; text-decoration-color: #008080; font-weight: bold\">0</span>., <span style=\"color: #008080; text-decoration-color: #008080; font-weight: bold\">0</span>., <span style=\"color: #008080; text-decoration-color: #008080; font-weight: bold\">0</span>., <span style=\"color: #008080; text-decoration-color: #008080; font-weight: bold\">0</span>., <span style=\"color: #008080; text-decoration-color: #008080; font-weight: bold\">0</span>., <span style=\"color: #008080; text-decoration-color: #008080; font-weight: bold\">0</span>., <span style=\"color: #008080; text-decoration-color: #008080; font-weight: bold\">0</span>., <span style=\"color: #008080; text-decoration-color: #008080; font-weight: bold\">0</span>.<span style=\"font-weight: bold\">])</span>\n",
       "</pre>\n"
      ],
      "text/plain": [
       "\u001b[1;35marray\u001b[0m\u001b[1m(\u001b[0m\u001b[1m[\u001b[0m\u001b[1;36m0\u001b[0m., \u001b[1;36m0\u001b[0m., \u001b[1;36m0\u001b[0m., \u001b[1;36m0\u001b[0m., \u001b[1;36m0\u001b[0m., \u001b[1;36m0\u001b[0m., \u001b[1;36m0\u001b[0m., \u001b[1;36m0\u001b[0m., \u001b[1;36m0\u001b[0m., \u001b[1;36m0\u001b[0m., \u001b[1;36m0\u001b[0m., \u001b[1;36m0\u001b[0m., \u001b[1;36m0\u001b[0m., \u001b[1;36m0\u001b[0m., \u001b[1;36m0\u001b[0m., \u001b[1;36m0\u001b[0m., \u001b[1;36m0\u001b[0m.,\n",
       "       \u001b[1;36m0\u001b[0m., \u001b[1;36m0\u001b[0m., \u001b[1;36m0\u001b[0m., \u001b[1;36m0\u001b[0m., \u001b[1;36m0\u001b[0m., \u001b[1;36m0\u001b[0m., \u001b[1;36m0\u001b[0m., \u001b[1;36m0\u001b[0m., \u001b[1;36m0\u001b[0m., \u001b[1;36m0\u001b[0m., \u001b[1;36m0\u001b[0m., \u001b[1;36m0\u001b[0m., \u001b[1;36m0\u001b[0m., \u001b[1;36m0\u001b[0m., \u001b[1;36m0\u001b[0m., \u001b[1;36m0\u001b[0m., \u001b[1;36m0\u001b[0m.,\n",
       "       \u001b[1;36m0\u001b[0m., \u001b[1;36m0\u001b[0m., \u001b[1;36m0\u001b[0m., \u001b[1;36m0\u001b[0m., \u001b[1;36m0\u001b[0m., \u001b[1;36m0\u001b[0m., \u001b[1;36m0\u001b[0m., \u001b[1;36m0\u001b[0m., \u001b[1;36m0\u001b[0m., \u001b[1;36m0\u001b[0m., \u001b[1;36m0\u001b[0m., \u001b[1;36m0\u001b[0m., \u001b[1;36m0\u001b[0m., \u001b[1;36m0\u001b[0m., \u001b[1;36m0\u001b[0m., \u001b[1;36m0\u001b[0m., \u001b[1;36m0\u001b[0m.,\n",
       "       \u001b[1;36m0\u001b[0m., \u001b[1;36m0\u001b[0m., \u001b[1;36m0\u001b[0m., \u001b[1;36m0\u001b[0m., \u001b[1;36m0\u001b[0m., \u001b[1;36m0\u001b[0m., \u001b[1;36m0\u001b[0m., \u001b[1;36m0\u001b[0m., \u001b[1;36m0\u001b[0m., \u001b[1;36m0\u001b[0m., \u001b[1;36m0\u001b[0m., \u001b[1;36m0\u001b[0m., \u001b[1;36m0\u001b[0m., \u001b[1;36m0\u001b[0m., \u001b[1;36m0\u001b[0m., \u001b[1;36m0\u001b[0m., \u001b[1;36m0\u001b[0m.,\n",
       "       \u001b[1;36m0\u001b[0m., \u001b[1;36m0\u001b[0m., \u001b[1;36m0\u001b[0m., \u001b[1;36m0\u001b[0m., \u001b[1;36m0\u001b[0m., \u001b[1;36m0\u001b[0m., \u001b[1;36m0\u001b[0m., \u001b[1;36m0\u001b[0m., \u001b[1;36m0\u001b[0m., \u001b[1;36m0\u001b[0m., \u001b[1;36m0\u001b[0m., \u001b[1;36m0\u001b[0m., \u001b[1;36m0\u001b[0m., \u001b[1;36m0\u001b[0m., \u001b[1;36m0\u001b[0m., \u001b[1;36m0\u001b[0m., \u001b[1;36m0\u001b[0m.,\n",
       "       \u001b[1;36m0\u001b[0m., \u001b[1;36m0\u001b[0m., \u001b[1;36m0\u001b[0m., \u001b[1;36m0\u001b[0m., \u001b[1;36m0\u001b[0m., \u001b[1;36m0\u001b[0m., \u001b[1;36m0\u001b[0m., \u001b[1;36m0\u001b[0m., \u001b[1;36m0\u001b[0m., \u001b[1;36m0\u001b[0m., \u001b[1;36m0\u001b[0m., \u001b[1;36m0\u001b[0m., \u001b[1;36m0\u001b[0m., \u001b[1;36m0\u001b[0m., \u001b[1;36m0\u001b[0m., \u001b[1;36m0\u001b[0m., \u001b[1;36m0\u001b[0m.,\n",
       "       \u001b[1;36m0\u001b[0m., \u001b[1;36m0\u001b[0m., \u001b[1;36m0\u001b[0m., \u001b[1;36m0\u001b[0m., \u001b[1;36m0\u001b[0m., \u001b[1;36m0\u001b[0m., \u001b[1;36m0\u001b[0m., \u001b[1;36m0\u001b[0m., \u001b[1;36m0\u001b[0m., \u001b[1;36m0\u001b[0m., \u001b[1;36m0\u001b[0m., \u001b[1;36m0\u001b[0m., \u001b[1;36m0\u001b[0m., \u001b[1;36m0\u001b[0m., \u001b[1;36m0\u001b[0m., \u001b[1;36m0\u001b[0m., \u001b[1;36m0\u001b[0m.,\n",
       "       \u001b[1;36m0\u001b[0m., \u001b[1;36m0\u001b[0m., \u001b[1;36m0\u001b[0m., \u001b[1;36m0\u001b[0m., \u001b[1;36m0\u001b[0m., \u001b[1;36m0\u001b[0m., \u001b[1;36m0\u001b[0m., \u001b[1;36m0\u001b[0m., \u001b[1;36m0\u001b[0m., \u001b[1;36m0\u001b[0m., \u001b[1;36m0\u001b[0m., \u001b[1;36m0\u001b[0m., \u001b[1;36m0\u001b[0m., \u001b[1;36m0\u001b[0m., \u001b[1;36m0\u001b[0m., \u001b[1;36m0\u001b[0m., \u001b[1;36m0\u001b[0m.,\n",
       "       \u001b[1;36m0\u001b[0m., \u001b[1;36m0\u001b[0m., \u001b[1;36m0\u001b[0m., \u001b[1;36m0\u001b[0m., \u001b[1;36m0\u001b[0m., \u001b[1;36m0\u001b[0m., \u001b[1;36m0\u001b[0m., \u001b[1;36m0\u001b[0m., \u001b[1;36m0\u001b[0m., \u001b[1;36m0\u001b[0m., \u001b[1;36m0\u001b[0m., \u001b[1;36m0\u001b[0m., \u001b[1;36m0\u001b[0m., \u001b[1;36m0\u001b[0m., \u001b[1;36m0\u001b[0m., \u001b[1;36m0\u001b[0m., \u001b[1;36m0\u001b[0m.,\n",
       "       \u001b[1;36m0\u001b[0m., \u001b[1;36m0\u001b[0m., \u001b[1;36m0\u001b[0m., \u001b[1;36m0\u001b[0m., \u001b[1;36m0\u001b[0m., \u001b[1;36m0\u001b[0m., \u001b[1;36m0\u001b[0m., \u001b[1;36m0\u001b[0m., \u001b[1;36m0\u001b[0m., \u001b[1;36m0\u001b[0m., \u001b[1;36m0\u001b[0m., \u001b[1;36m0\u001b[0m., \u001b[1;36m0\u001b[0m., \u001b[1;36m0\u001b[0m., \u001b[1;36m0\u001b[0m., \u001b[1;36m0\u001b[0m., \u001b[1;36m0\u001b[0m.,\n",
       "       \u001b[1;36m0\u001b[0m., \u001b[1;36m0\u001b[0m., \u001b[1;36m0\u001b[0m., \u001b[1;36m0\u001b[0m., \u001b[1;36m0\u001b[0m., \u001b[1;36m0\u001b[0m., \u001b[1;36m0\u001b[0m., \u001b[1;36m0\u001b[0m., \u001b[1;36m0\u001b[0m., \u001b[1;36m0\u001b[0m., \u001b[1;36m0\u001b[0m., \u001b[1;36m0\u001b[0m., \u001b[1;36m0\u001b[0m., \u001b[1;36m0\u001b[0m., \u001b[1;36m0\u001b[0m., \u001b[1;36m0\u001b[0m., \u001b[1;36m0\u001b[0m.,\n",
       "       \u001b[1;36m0\u001b[0m., \u001b[1;36m0\u001b[0m., \u001b[1;36m0\u001b[0m., \u001b[1;36m0\u001b[0m., \u001b[1;36m0\u001b[0m., \u001b[1;36m0\u001b[0m., \u001b[1;36m0\u001b[0m., \u001b[1;36m0\u001b[0m., \u001b[1;36m0\u001b[0m., \u001b[1;36m0\u001b[0m., \u001b[1;36m0\u001b[0m., \u001b[1;36m0\u001b[0m., \u001b[1;36m0\u001b[0m., \u001b[1;36m0\u001b[0m.\u001b[1m]\u001b[0m\u001b[1m)\u001b[0m\n"
      ]
     },
     "metadata": {},
     "output_type": "display_data"
    }
   ],
   "source": [
    "delta"
   ]
  },
  {
   "cell_type": "code",
   "execution_count": 22,
   "id": "8b4ebb2e",
   "metadata": {},
   "outputs": [
    {
     "data": {
      "text/html": [
       "<pre style=\"white-space:pre;overflow-x:auto;line-height:normal;font-family:Menlo,'DejaVu Sans Mono',consolas,'Courier New',monospace\"><span style=\"font-weight: bold\">[(</span><span style=\"color: #008080; text-decoration-color: #008080; font-weight: bold\">0.0</span>, <span style=\"color: #008080; text-decoration-color: #008080; font-weight: bold\">201</span><span style=\"font-weight: bold\">)]</span>\n",
       "</pre>\n"
      ],
      "text/plain": [
       "\u001b[1m[\u001b[0m\u001b[1m(\u001b[0m\u001b[1;36m0.0\u001b[0m, \u001b[1;36m201\u001b[0m\u001b[1m)\u001b[0m\u001b[1m]\u001b[0m\n"
      ]
     },
     "metadata": {},
     "output_type": "display_data"
    }
   ],
   "source": [
    "collections.Counter(delta).most_common()"
   ]
  },
  {
   "cell_type": "code",
   "execution_count": 23,
   "id": "bb0a0b88",
   "metadata": {},
   "outputs": [
    {
     "data": {
      "text/html": [
       "<pre style=\"white-space:pre;overflow-x:auto;line-height:normal;font-family:Menlo,'DejaVu Sans Mono',consolas,'Courier New',monospace\"><span style=\"color: #008080; text-decoration-color: #008080; font-weight: bold\">100.00</span> % correct\n",
       "</pre>\n"
      ],
      "text/plain": [
       "\u001b[1;36m100.00\u001b[0m % correct\n"
      ]
     },
     "metadata": {},
     "output_type": "display_data"
    }
   ],
   "source": [
    "percent_correct2 = 100 * collections.Counter(delta).get(0., 0.) / len(delta)\n",
    "print(f\"{percent_correct2:0.2f} % correct\")"
   ]
  },
  {
   "cell_type": "markdown",
   "id": "eeb6d62d",
   "metadata": {},
   "source": [
    "### Sum of % corrects"
   ]
  },
  {
   "cell_type": "code",
   "execution_count": 24,
   "id": "95ceccee",
   "metadata": {
    "scrolled": true
   },
   "outputs": [
    {
     "data": {
      "text/html": [
       "<pre style=\"white-space:pre;overflow-x:auto;line-height:normal;font-family:Menlo,'DejaVu Sans Mono',consolas,'Courier New',monospace\"><span style=\"color: #008080; text-decoration-color: #008080; font-weight: bold\">100.0</span>\n",
       "</pre>\n"
      ],
      "text/plain": [
       "\u001b[1;36m100.0\u001b[0m\n"
      ]
     },
     "metadata": {},
     "output_type": "display_data"
    }
   ],
   "source": [
    "percent_correct1 + percent_correct2"
   ]
  },
  {
   "cell_type": "code",
   "execution_count": null,
   "id": "3dfe1c33",
   "metadata": {},
   "outputs": [],
   "source": []
  },
  {
   "cell_type": "code",
   "execution_count": null,
   "id": "f3442308",
   "metadata": {},
   "outputs": [],
   "source": []
  },
  {
   "cell_type": "code",
   "execution_count": null,
   "id": "68710d56",
   "metadata": {},
   "outputs": [],
   "source": []
  }
 ],
 "metadata": {
  "kernelspec": {
   "display_name": "Python 3",
   "language": "python",
   "name": "python3"
  },
  "language_info": {
   "codemirror_mode": {
    "name": "ipython",
    "version": 3
   },
   "file_extension": ".py",
   "mimetype": "text/x-python",
   "name": "python",
   "nbconvert_exporter": "python",
   "pygments_lexer": "ipython3",
   "version": "3.8.3"
  }
 },
 "nbformat": 4,
 "nbformat_minor": 5
}
