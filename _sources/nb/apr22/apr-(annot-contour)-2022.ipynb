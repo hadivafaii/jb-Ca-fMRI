{
 "cells": [
  {
   "cell_type": "markdown",
   "id": "18bcd59d",
   "metadata": {},
   "source": [
    "# Apr ??th, 2022 ()\n",
    "\n",
    "**Motivation**:  <br>"
   ]
  },
  {
   "cell_type": "code",
   "execution_count": null,
   "id": "d80d7f14",
   "metadata": {
    "tags": [
     "hide-input"
    ]
   },
   "outputs": [],
   "source": [
    "# HIDE CODE\n",
    "\n",
    "\n",
    "import os\n",
    "import sys\n",
    "import nibabel as nib\n",
    "import networkx as nx\n",
    "from time import time\n",
    "from pprint import pprint\n",
    "from copy import deepcopy as dc\n",
    "from os.path import join as pjoin\n",
    "from numpy.ma import masked_where as mwh\n",
    "from scipy.ndimage import gaussian_filter\n",
    "from IPython.display import display, IFrame, HTML\n",
    "\n",
    "# tmp & extras dir\n",
    "git_dir = pjoin(os.environ['HOME'], 'Dropbox/git')\n",
    "tmp_dir = pjoin(git_dir, 'jb-Ca-fMRI/tmp')\n",
    "fig_dir = pjoin(git_dir, 'jb-Ca-fMRI/figs')\n",
    "extras_dir = pjoin(git_dir, 'jb-Ca-fMRI/_extras')\n",
    "lfr_dir = pjoin(os.environ['HOME'], 'Documents/workspaces/lfr/binary_overlapping')\n",
    "\n",
    "# GitHub\n",
    "sys.path.insert(0, pjoin(git_dir, '_Ca-fMRI'))\n",
    "from register.atlas import make_tree_graph\n",
    "from register.parcellation import Parcellation\n",
    "from analysis.hierarchical import Hierarchical\n",
    "from analysis.fourier import *\n",
    "from analysis.bootstrap import *\n",
    "from analysis.svinet import *\n",
    "from analysis.group import *\n",
    "from analysis.lfr import *\n",
    "from utils.render import *\n",
    "from utils.plotting import *\n",
    "from model.mouse import Mice\n",
    "from model.configuration import Config\n",
    "\n",
    "# warnings & style\n",
    "warnings.filterwarnings('ignore', category=DeprecationWarning)\n",
    "set_style()"
   ]
  },
  {
   "cell_type": "markdown",
   "id": "023e2899",
   "metadata": {},
   "source": [
    "## Fig dir"
   ]
  },
  {
   "cell_type": "code",
   "execution_count": null,
   "id": "7a4f1fac",
   "metadata": {},
   "outputs": [],
   "source": [
    "fig_kws = {\n",
    "    'transparent': True,\n",
    "    'bbox_inches': 'tight',\n",
    "}\n",
    "fig_dir = pjoin(fig_dir, 'paper')\n",
    "os.makedirs(fig_dir, exist_ok=True)"
   ]
  },
  {
   "cell_type": "markdown",
   "id": "e590a2ac",
   "metadata": {},
   "source": [
    "## Prepare"
   ]
  },
  {
   "cell_type": "code",
   "execution_count": null,
   "id": "9ff699a3",
   "metadata": {},
   "outputs": [],
   "source": [
    "mice = Mice(128)\n",
    "mice.setup_func_data('rest')\n",
    "\n",
    "mako = sns.color_palette('mako', as_cmap=True)\n",
    "rocket = sns.color_palette('rocket', as_cmap=True)\n",
    "pal = {'ca2': mako(0.6), 'bold-lite': rocket(0.6)}\n",
    "\n",
    "num_k, perc = 5, 10\n",
    "props_base = {\n",
    "    'perc': f'p{perc}-sample',\n",
    "    'num_k': num_k,\n",
    "    'mice': mice,\n",
    "    'task': 'rest',\n",
    "    'metric': 'pearson',\n",
    "    'match_using': 'gam',\n",
    "    'match_metric': 'euclidean',\n",
    "    'graph_type': 'real',\n",
    "    'verbose': False,\n",
    "}\n",
    "props_ca = {'mode': 'ca2', **props_base}\n",
    "props_bold = {'mode': 'bold-lite', **props_base}"
   ]
  },
  {
   "cell_type": "code",
   "execution_count": null,
   "id": "5e34f5ea",
   "metadata": {},
   "outputs": [],
   "source": [
    "gr_ca = Group(**props_ca).fit_group()\n",
    "gr_bold = Group(**props_bold).fit_group()\n",
    "\n",
    "remove = [\n",
    "    n for n, lbl in gr_ca.n2l.items()\n",
    "    if lbl not in gr_bold.n2l.values()\n",
    "]\n",
    "include = np.delete(np.arange(len(gr_ca.n2l)), remove)\n",
    "\n",
    "sim = dist2sim(sp_dist.cdist(\n",
    "    XA=gr_bold.grp_pi,\n",
    "    XB=gr_ca.grp_pi[:, include],\n",
    "    metric='cosine',\n",
    "))\n",
    "mapping = find_best_match(sim)\n",
    "ids = list(mapping.values())\n",
    "\n",
    "gr_bold.pi = gr_bold.grp_pi\n",
    "gr_ca.pi = gr_ca.grp_pi[ids]"
   ]
  },
  {
   "cell_type": "markdown",
   "id": "451a838f",
   "metadata": {},
   "source": [
    "## Load parcel"
   ]
  },
  {
   "cell_type": "code",
   "execution_count": null,
   "id": "6c7d13ea",
   "metadata": {},
   "outputs": [],
   "source": [
    "f = 'parcel2d-flat_10um.nii.gz'\n",
    "f = pjoin(mice.cfg.parcel_dir, f)\n",
    "parcel_flat = ants.image_read(f, pixeltype='unsigned int')\n",
    "parcel_flat = parcel_flat.numpy()\n",
    "\n",
    "f = 'parcel2d-top_10um.nii.gz'\n",
    "f = pjoin(mice.cfg.parcel_dir, f)\n",
    "parcel_top = ants.image_read(f, pixeltype='unsigned int')\n",
    "parcel_top = parcel_top.numpy()"
   ]
  },
  {
   "cell_type": "markdown",
   "id": "114e2c90",
   "metadata": {},
   "source": [
    "## Mk affil"
   ]
  },
  {
   "cell_type": "code",
   "execution_count": null,
   "id": "687d2b6b",
   "metadata": {},
   "outputs": [],
   "source": [
    "%%time\n"
   ]
  },
  {
   "cell_type": "code",
   "execution_count": null,
   "id": "1531ebcc",
   "metadata": {},
   "outputs": [],
   "source": []
  },
  {
   "cell_type": "code",
   "execution_count": null,
   "id": "5fc43709",
   "metadata": {},
   "outputs": [],
   "source": [
    "%%time\n",
    "affil, affil_included = gr_ca.node_affiliations()"
   ]
  },
  {
   "cell_type": "code",
   "execution_count": null,
   "id": "3be36056",
   "metadata": {},
   "outputs": [],
   "source": [
    "list(affil)"
   ]
  },
  {
   "cell_type": "code",
   "execution_count": null,
   "id": "5bb5af2b",
   "metadata": {},
   "outputs": [],
   "source": [
    "plt.imshow(affil['aff_flat'], cmap='Accent_r')"
   ]
  },
  {
   "cell_type": "code",
   "execution_count": null,
   "id": "a2573cb0",
   "metadata": {},
   "outputs": [],
   "source": [
    "plt.figure(figsize=(15, 12))\n",
    "plt.imshow(affil['aff_top'], cmap='Accent_r')"
   ]
  },
  {
   "cell_type": "code",
   "execution_count": null,
   "id": "80e22343",
   "metadata": {},
   "outputs": [],
   "source": []
  },
  {
   "cell_type": "code",
   "execution_count": null,
   "id": "08953293",
   "metadata": {},
   "outputs": [],
   "source": [
    "aaa = dc(affil['obj_flat'])\n",
    "for i, idx in enumerate(np.unique(affil['obj_flat'][affil['obj_flat'].nonzero()])):\n",
    "    aaa[affil['obj_flat'] == idx] = i + 1\n",
    "bbb = dc(affil['obj_top'])\n",
    "for i, idx in enumerate(np.unique(affil['obj_top'][affil['obj_top'].nonzero()])):\n",
    "    bbb[affil['obj_top'] == idx] = i + 1"
   ]
  },
  {
   "cell_type": "code",
   "execution_count": null,
   "id": "b7429340",
   "metadata": {},
   "outputs": [],
   "source": [
    "fig, axes = create_figure(1, 2, figsize=(12, 5), width_ratios=[1.8, 1])\n",
    "axes[0].imshow(mwh(aaa == 0, aaa), cmap='nipy_spectral_r')\n",
    "axes[1].imshow(mwh(bbb == 0, bbb), cmap='nipy_spectral_r')\n",
    "remove_ticks(axes)"
   ]
  },
  {
   "cell_type": "code",
   "execution_count": null,
   "id": "57bbdf59",
   "metadata": {},
   "outputs": [],
   "source": []
  },
  {
   "cell_type": "code",
   "execution_count": null,
   "id": "8054c1a7",
   "metadata": {},
   "outputs": [],
   "source": [
    "affil_max_flat = np.zeros_like(parcel_flat)\n",
    "for r, af in affil['regions_affil_max'].items():\n",
    "    affil_max_flat[parcel_flat == r] = list(affil['affiliation']).index(af) + 1\n",
    "\n",
    "m = np.isin(parcel_flat, affil['regions_r'])\n",
    "affil_max_flat[m] = affil['aff_flat'][m]\n",
    "affil_max_flat[parcel_flat == 0] = 0\n",
    "plt.imshow(affil_max_flat);"
   ]
  },
  {
   "cell_type": "code",
   "execution_count": null,
   "id": "24c7fe49",
   "metadata": {},
   "outputs": [],
   "source": [
    "regions_included = [\n",
    "    mice.parcel.encode(1, int(lbl.split('-')[1]), 0)\n",
    "    for lbl in gr_ca.l2n\n",
    "]\n",
    "regions_included = np.array(regions_included)\n",
    "regions_included = regions_included[gr_ca.l_ids]"
   ]
  },
  {
   "cell_type": "code",
   "execution_count": null,
   "id": "322f3a9c",
   "metadata": {},
   "outputs": [],
   "source": [
    "mask_f = np.zeros(parcel_flat.shape)\n",
    "mask_f[np.isin(parcel_flat, affil['regions_l'])] = 1\n",
    "mask_f[np.isin(parcel_flat, regions_included)] = 0\n",
    "plt.imshow(mask_f);"
   ]
  },
  {
   "cell_type": "code",
   "execution_count": null,
   "id": "63956154",
   "metadata": {},
   "outputs": [],
   "source": []
  },
  {
   "cell_type": "code",
   "execution_count": null,
   "id": "2c96dd5f",
   "metadata": {},
   "outputs": [],
   "source": [
    "affil_max_top = np.zeros_like(parcel_top)\n",
    "for r, af in affil['regions_affil_max'].items():\n",
    "    affil_max_top[parcel_top == r] = list(affil['affiliation']).index(af) + 1\n",
    "\n",
    "m = np.isin(parcel_top, affil['regions_r'])\n",
    "affil_max_top[m] = affil['aff_top'][m]\n",
    "affil_max_top[parcel_top == 0] = 0\n",
    "plt.imshow(affil_max_top);"
   ]
  },
  {
   "cell_type": "code",
   "execution_count": null,
   "id": "22b66196",
   "metadata": {},
   "outputs": [],
   "source": [
    "mask_t = np.zeros(parcel_top.shape)\n",
    "mask_t[np.isin(parcel_top, affil['regions_l'])] = 1\n",
    "mask_t[np.isin(parcel_top, regions_included)] = 0\n",
    "plt.imshow(mask_t);"
   ]
  },
  {
   "cell_type": "code",
   "execution_count": null,
   "id": "7c2125f5",
   "metadata": {},
   "outputs": [],
   "source": []
  },
  {
   "cell_type": "code",
   "execution_count": null,
   "id": "33912546",
   "metadata": {},
   "outputs": [],
   "source": [
    "mf_tr, f_tr = filter_boundaries([mask_f, affil_max_flat], mask=affil_max_flat)\n",
    "mt_tr, t_tr = filter_boundaries([mask_t, affil_max_top], mask=affil_max_top)"
   ]
  },
  {
   "cell_type": "code",
   "execution_count": null,
   "id": "2e833343",
   "metadata": {},
   "outputs": [],
   "source": []
  },
  {
   "cell_type": "code",
   "execution_count": null,
   "id": "23d806b9",
   "metadata": {},
   "outputs": [],
   "source": [
    "fig = plt.figure(figsize=(4, 5), tight_layout=True)\n",
    "gs = GridSpec(2, 2)\n",
    "\n",
    "ax = fig.add_subplot(gs[0, :])\n",
    "x2p = mwh(f_tr == 0, f_tr)\n",
    "ax.imshow(x2p, cmap=affil['cmap'])\n",
    "x2p = mwh(mf_tr == 0, mf_tr)\n",
    "ax.imshow(x2p, cmap='Greens', interpolation='none', alpha=0.95)\n",
    "remove_ticks(ax)\n",
    "\n",
    "ax = fig.add_subplot(gs[1, 0])\n",
    "x2p = filter_boundaries(t_tr, t_tr)\n",
    "x2p = mwh(x2p == 0, x2p)\n",
    "ax.imshow(x2p, cmap=affil['cmap'])\n",
    "x2p = mwh(mt_tr == 0, mt_tr)\n",
    "ax.imshow(x2p, cmap='Greens', interpolation='none', alpha=0.95)\n",
    "remove_ticks(ax)\n",
    "\n",
    "ax = fig.add_subplot(gs[1, 1])\n",
    "legend_elements = [\n",
    "    matplotlib.patches.Patch(facecolor=c, edgecolor='dimgrey', label=lbl)\n",
    "    for lbl, c in affil['colors'].items()\n",
    "]\n",
    "leg = ax.legend(handles=legend_elements, fontsize=12, loc='center')\n",
    "remove_ticks(ax)"
   ]
  },
  {
   "cell_type": "code",
   "execution_count": null,
   "id": "0d78e741",
   "metadata": {},
   "outputs": [],
   "source": []
  },
  {
   "cell_type": "markdown",
   "id": "a6f34046",
   "metadata": {},
   "source": [
    "#### Boundary plots"
   ]
  },
  {
   "cell_type": "code",
   "execution_count": null,
   "id": "adfaf94e",
   "metadata": {},
   "outputs": [],
   "source": [
    "x = (parcel_top > 0).astype(float)\n",
    "x = sp_img.gaussian_filter(x, sigma=1)\n",
    "x = (x > 0).astype(float)\n",
    "x = sp_img.gaussian_filter(x, sigma=0.75)\n",
    "contour = ~np.logical_or(\n",
    "    sp_img.sobel(x, axis=0),\n",
    "    sp_img.sobel(x, axis=1),\n",
    ")\n",
    "\n",
    "fig, axes = create_figure(1, 2, (8, 5))\n",
    "axes[0].imshow(x)\n",
    "axes[1].imshow(contour == 0);"
   ]
  },
  {
   "cell_type": "code",
   "execution_count": null,
   "id": "c10e8380",
   "metadata": {},
   "outputs": [],
   "source": []
  },
  {
   "cell_type": "code",
   "execution_count": null,
   "id": "1c725bda",
   "metadata": {},
   "outputs": [],
   "source": []
  },
  {
   "cell_type": "code",
   "execution_count": null,
   "id": "01802d10",
   "metadata": {},
   "outputs": [],
   "source": []
  },
  {
   "cell_type": "code",
   "execution_count": null,
   "id": "c7d4b3a5",
   "metadata": {},
   "outputs": [],
   "source": []
  }
 ],
 "metadata": {
  "kernelspec": {
   "display_name": "Python 3",
   "language": "python",
   "name": "python3"
  },
  "language_info": {
   "codemirror_mode": {
    "name": "ipython",
    "version": 3
   },
   "file_extension": ".py",
   "mimetype": "text/x-python",
   "name": "python",
   "nbconvert_exporter": "python",
   "pygments_lexer": "ipython3",
   "version": "3.8.3"
  }
 },
 "nbformat": 4,
 "nbformat_minor": 5
}
