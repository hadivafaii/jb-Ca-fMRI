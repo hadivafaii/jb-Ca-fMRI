{
 "cells": [
  {
   "cell_type": "code",
   "execution_count": 1,
   "id": "2a410ca3",
   "metadata": {},
   "outputs": [],
   "source": [
    "# HIDE CODE\n",
    "\n",
    "\n",
    "import os\n",
    "import sys\n",
    "import nibabel as nib\n",
    "import networkx as nx\n",
    "from time import time\n",
    "from pprint import pprint\n",
    "from copy import deepcopy as dc\n",
    "from os.path import join as pjoin\n",
    "from myterial import orange, blue_grey\n",
    "from IPython.display import display, IFrame, HTML\n",
    "from matplotlib.colors import rgb2hex, to_rgb\n",
    "import matplotlib.pyplot as plt\n",
    "import seaborn as sns\n",
    "\n",
    "# set style & no interpolalation\n",
    "import matplotlib\n",
    "matplotlib.rcParams['image.interpolation'] = 'none'\n",
    "sns.set_style('whitegrid')\n",
    "%matplotlib inline\n",
    "\n",
    "# tmp & extras dir\n",
    "git_dir = pjoin(os.environ['HOME'], 'Dropbox/git')\n",
    "tmp_dir = pjoin(git_dir, 'jb-Ca-fMRI/tmp')\n",
    "extras_dir = pjoin(git_dir, 'jb-Ca-fMRI/_extras')\n",
    "lfr_dir = pjoin(os.environ['HOME'], 'Documents/workspaces/lfr/binary_overlapping')\n",
    "\n",
    "\n",
    "# GitHub\n",
    "sys.path.insert(0, pjoin(git_dir, '_Ca-fMRI'))\n",
    "from register.atlas import make_tree_graph\n",
    "from register.parcellation import Parcellation\n",
    "from analysis.hierarchical import Hierarchical\n",
    "from analysis.bootstrap import *\n",
    "from analysis.svinet import *\n",
    "from analysis.group import *\n",
    "from analysis.lfr import *\n",
    "from utils.render import *\n",
    "from utils.plotting import *\n",
    "from model.mouse import Mice\n",
    "from model.configuration import Config\n",
    "\n",
    "# warnings\n",
    "import warnings\n",
    "warnings.filterwarnings('ignore', category=DeprecationWarning)"
   ]
  },
  {
   "cell_type": "code",
   "execution_count": 2,
   "id": "4e432268",
   "metadata": {},
   "outputs": [
    {
     "data": {
      "text/html": [
       "<pre style=\"white-space:pre;overflow-x:auto;line-height:normal;font-family:Menlo,'DejaVu Sans Mono',consolas,'Courier New',monospace\"><span style=\"font-weight: bold\">[</span>PROGRESS<span style=\"font-weight: bold\">]</span> <span style=\"color: #008000; text-decoration-color: #008000\">'config.json'</span> saved at\n",
       "<span style=\"color: #800080; text-decoration-color: #800080\">/home/hadi/Documents/Ca-fMRI/processed/</span><span style=\"color: #ff00ff; text-decoration-color: #ff00ff\">norm-global_parcel-columnar_n-192</span>*<span style=\"color: #008080; text-decoration-color: #008080; font-weight: bold\">4</span>\n",
       "</pre>\n"
      ],
      "text/plain": [
       "\u001b[1m[\u001b[0mPROGRESS\u001b[1m]\u001b[0m \u001b[32m'config.json'\u001b[0m saved at\n",
       "\u001b[35m/home/hadi/Documents/Ca-fMRI/processed/\u001b[0m\u001b[95mnorm-global_parcel-columnar_n-192\u001b[0m*\u001b[1;36m4\u001b[0m\n"
      ]
     },
     "metadata": {},
     "output_type": "display_data"
    },
    {
     "data": {
      "text/html": [
       "<pre style=\"white-space:pre;overflow-x:auto;line-height:normal;font-family:Menlo,'DejaVu Sans Mono',consolas,'Courier New',monospace\">ROI lookup not found, time to run organize func.\n",
       "</pre>\n"
      ],
      "text/plain": [
       "ROI lookup not found, time to run organize func.\n"
      ]
     },
     "metadata": {},
     "output_type": "display_data"
    },
    {
     "data": {
      "text/html": [
       "<pre style=\"white-space:pre;overflow-x:auto;line-height:normal;font-family:Menlo,'DejaVu Sans Mono',consolas,'Courier New',monospace\">combine metadata not found, time to run <span style=\"color: #800080; text-decoration-color: #800080; font-weight: bold\">cat_data</span><span style=\"font-weight: bold\">()</span> . . .\n",
       "</pre>\n"
      ],
      "text/plain": [
       "combine metadata not found, time to run \u001b[1;35mcat_data\u001b[0m\u001b[1m(\u001b[0m\u001b[1m)\u001b[0m . . .\n"
      ]
     },
     "metadata": {},
     "output_type": "display_data"
    },
    {
     "name": "stdout",
     "output_type": "stream",
     "text": [
      "CPU times: user 3.8 s, sys: 633 ms, total: 4.43 s\n",
      "Wall time: 17.8 s\n"
     ]
    }
   ],
   "source": [
    "%%time\n",
    "\n",
    "mice = Mice((192, 4), full_load=True, load_allen=True)"
   ]
  },
  {
   "cell_type": "code",
   "execution_count": null,
   "id": "de6720cf",
   "metadata": {},
   "outputs": [],
   "source": []
  },
  {
   "cell_type": "code",
   "execution_count": null,
   "id": "bd8d366b",
   "metadata": {},
   "outputs": [
    {
     "data": {
      "text/html": [
       "<pre style=\"white-space:pre;overflow-x:auto;line-height:normal;font-family:Menlo,'DejaVu Sans Mono',consolas,'Courier New',monospace\"><span style=\"font-weight: bold\">[</span>PROGRESS<span style=\"font-weight: bold\">]</span> fit columnar: initiated\n",
       "</pre>\n"
      ],
      "text/plain": [
       "\u001b[1m[\u001b[0mPROGRESS\u001b[1m]\u001b[0m fit columnar: initiated\n"
      ]
     },
     "metadata": {},
     "output_type": "display_data"
    },
    {
     "name": "stderr",
     "output_type": "stream",
     "text": [
      "Intel(R) oneAPI Data Analytics Library solvers for sklearn enabled: https://intelpython.github.io/daal4py/sklearn.html\n"
     ]
    }
   ],
   "source": [
    "%%time\n",
    "\n",
    "mice.parcel.fit_parcel(True, cutoff=3)"
   ]
  },
  {
   "cell_type": "code",
   "execution_count": null,
   "id": "9883e6cf",
   "metadata": {},
   "outputs": [],
   "source": []
  },
  {
   "cell_type": "code",
   "execution_count": null,
   "id": "be039dc4",
   "metadata": {},
   "outputs": [],
   "source": []
  },
  {
   "cell_type": "code",
   "execution_count": null,
   "id": "e40674ca",
   "metadata": {},
   "outputs": [],
   "source": [
    "from register.register import Register\n",
    "reg = Register(mice)\n",
    "reg.register_anat(True)"
   ]
  },
  {
   "cell_type": "code",
   "execution_count": null,
   "id": "d42ce9de",
   "metadata": {},
   "outputs": [],
   "source": []
  },
  {
   "cell_type": "code",
   "execution_count": null,
   "id": "43dcf5e7",
   "metadata": {},
   "outputs": [],
   "source": []
  },
  {
   "cell_type": "code",
   "execution_count": null,
   "id": "3db4c824",
   "metadata": {},
   "outputs": [],
   "source": []
  },
  {
   "cell_type": "code",
   "execution_count": null,
   "id": "746ed4e2",
   "metadata": {},
   "outputs": [],
   "source": []
  },
  {
   "cell_type": "code",
   "execution_count": null,
   "id": "b36e48c0",
   "metadata": {},
   "outputs": [],
   "source": []
  },
  {
   "cell_type": "code",
   "execution_count": null,
   "id": "d5895308",
   "metadata": {},
   "outputs": [],
   "source": []
  },
  {
   "cell_type": "code",
   "execution_count": null,
   "id": "868d2ad8",
   "metadata": {},
   "outputs": [],
   "source": []
  },
  {
   "cell_type": "code",
   "execution_count": null,
   "id": "9f29c50f",
   "metadata": {},
   "outputs": [],
   "source": []
  },
  {
   "cell_type": "code",
   "execution_count": 3,
   "id": "822f9e6c",
   "metadata": {},
   "outputs": [
    {
     "name": "stdout",
     "output_type": "stream",
     "text": [
      "1.15 s ± 81 ms per loop (mean ± std. dev. of 7 runs, 1 loop each)\n"
     ]
    }
   ],
   "source": [
    "%timeit Mice((128, 2))"
   ]
  },
  {
   "cell_type": "code",
   "execution_count": 4,
   "id": "674153e1",
   "metadata": {},
   "outputs": [
    {
     "data": {
      "text/html": [
       "<pre style=\"white-space:pre;overflow-x:auto;line-height:normal;font-family:Menlo,'DejaVu Sans Mono',consolas,'Courier New',monospace\"><span style=\"font-weight: bold\">[</span>\n",
       "    <span style=\"color: #008000; text-decoration-color: #008000\">'radius'</span>,\n",
       "    <span style=\"color: #008000; text-decoration-color: #008000\">'cutoff'</span>,\n",
       "    <span style=\"color: #008000; text-decoration-color: #008000\">'shape_parcel2d-flat'</span>,\n",
       "    <span style=\"color: #008000; text-decoration-color: #008000\">'shape_parcel2d-top'</span>,\n",
       "    <span style=\"color: #008000; text-decoration-color: #008000\">'shape_parcel3d'</span>,\n",
       "    <span style=\"color: #008000; text-decoration-color: #008000\">'nonzero-idxs_parcel2d-flat'</span>,\n",
       "    <span style=\"color: #008000; text-decoration-color: #008000\">'nonzero-idxs_parcel2d-top'</span>,\n",
       "    <span style=\"color: #008000; text-decoration-color: #008000\">'nonzero-idxs_parcel3d'</span>,\n",
       "    <span style=\"color: #008000; text-decoration-color: #008000\">'region-idxs_parcel2d-flat'</span>,\n",
       "    <span style=\"color: #008000; text-decoration-color: #008000\">'region-idxs_parcel2d-top'</span>,\n",
       "    <span style=\"color: #008000; text-decoration-color: #008000\">'region-idxs_parcel3d'</span>\n",
       "<span style=\"font-weight: bold\">]</span>\n",
       "</pre>\n"
      ],
      "text/plain": [
       "\u001b[1m[\u001b[0m\n",
       "    \u001b[32m'radius'\u001b[0m,\n",
       "    \u001b[32m'cutoff'\u001b[0m,\n",
       "    \u001b[32m'shape_parcel2d-flat'\u001b[0m,\n",
       "    \u001b[32m'shape_parcel2d-top'\u001b[0m,\n",
       "    \u001b[32m'shape_parcel3d'\u001b[0m,\n",
       "    \u001b[32m'nonzero-idxs_parcel2d-flat'\u001b[0m,\n",
       "    \u001b[32m'nonzero-idxs_parcel2d-top'\u001b[0m,\n",
       "    \u001b[32m'nonzero-idxs_parcel3d'\u001b[0m,\n",
       "    \u001b[32m'region-idxs_parcel2d-flat'\u001b[0m,\n",
       "    \u001b[32m'region-idxs_parcel2d-top'\u001b[0m,\n",
       "    \u001b[32m'region-idxs_parcel3d'\u001b[0m\n",
       "\u001b[1m]\u001b[0m\n"
      ]
     },
     "metadata": {},
     "output_type": "display_data"
    }
   ],
   "source": [
    "list(mice.parcel.results)"
   ]
  },
  {
   "cell_type": "code",
   "execution_count": null,
   "id": "97370865",
   "metadata": {},
   "outputs": [],
   "source": []
  },
  {
   "cell_type": "code",
   "execution_count": 6,
   "id": "b17e3456",
   "metadata": {},
   "outputs": [
    {
     "name": "stdout",
     "output_type": "stream",
     "text": [
      "CPU times: user 225 ms, sys: 121 ms, total: 346 ms\n",
      "Wall time: 374 ms\n"
     ]
    }
   ],
   "source": [
    "%%time\n",
    "\n",
    "mice.setup_func_data()"
   ]
  },
  {
   "cell_type": "code",
   "execution_count": null,
   "id": "aefbd08f",
   "metadata": {},
   "outputs": [],
   "source": []
  },
  {
   "cell_type": "markdown",
   "id": "975d27f0",
   "metadata": {},
   "source": [
    "## Hier Ca"
   ]
  },
  {
   "cell_type": "code",
   "execution_count": 7,
   "id": "4d906028",
   "metadata": {},
   "outputs": [],
   "source": [
    "hier = Hierarchical(mice, 'sub-SLC', 'ca2').fit_hierarchical(range(3, 11))"
   ]
  },
  {
   "cell_type": "code",
   "execution_count": 8,
   "id": "4640d65c",
   "metadata": {},
   "outputs": [
    {
     "data": {
      "text/html": [
       "<pre style=\"white-space:pre;overflow-x:auto;line-height:normal;font-family:Menlo,'DejaVu Sans Mono',consolas,'Courier New',monospace\"><span style=\"font-weight: bold\">[</span><span style=\"color: #008080; text-decoration-color: #008080; font-weight: bold\">3</span>, <span style=\"color: #008080; text-decoration-color: #008080; font-weight: bold\">4</span>, <span style=\"color: #008080; text-decoration-color: #008080; font-weight: bold\">5</span>, <span style=\"color: #008080; text-decoration-color: #008080; font-weight: bold\">6</span>, <span style=\"color: #008080; text-decoration-color: #008080; font-weight: bold\">7</span>, <span style=\"color: #008080; text-decoration-color: #008080; font-weight: bold\">8</span>, <span style=\"color: #008080; text-decoration-color: #008080; font-weight: bold\">9</span>, <span style=\"color: #008080; text-decoration-color: #008080; font-weight: bold\">10</span><span style=\"font-weight: bold\">]</span>\n",
       "</pre>\n"
      ],
      "text/plain": [
       "\u001b[1m[\u001b[0m\u001b[1;36m3\u001b[0m, \u001b[1;36m4\u001b[0m, \u001b[1;36m5\u001b[0m, \u001b[1;36m6\u001b[0m, \u001b[1;36m7\u001b[0m, \u001b[1;36m8\u001b[0m, \u001b[1;36m9\u001b[0m, \u001b[1;36m10\u001b[0m\u001b[1m]\u001b[0m\n"
      ]
     },
     "metadata": {},
     "output_type": "display_data"
    }
   ],
   "source": [
    "list(hier.results)"
   ]
  },
  {
   "cell_type": "code",
   "execution_count": 9,
   "id": "34f18b17",
   "metadata": {},
   "outputs": [],
   "source": [
    "pi_disjoint = np.zeros((len(hier.results), len(hier.n2l)), dtype='uint32')\n",
    "\n",
    "for i, (n_clust, result_d) in enumerate(hier.results.items()):\n",
    "    for oc_idx, clist in result_d['cluster_assigns'].items():\n",
    "        for lbl in clist:\n",
    "            node = hier.l2n[lbl]\n",
    "            pi_disjoint[i, node] = oc_idx"
   ]
  },
  {
   "cell_type": "code",
   "execution_count": 10,
   "id": "4104ef76",
   "metadata": {},
   "outputs": [],
   "source": [
    "proj = hier.project_vec(pi_disjoint)"
   ]
  },
  {
   "cell_type": "code",
   "execution_count": null,
   "id": "b8f2a001",
   "metadata": {},
   "outputs": [],
   "source": []
  },
  {
   "cell_type": "code",
   "execution_count": 11,
   "id": "c36b6ed0",
   "metadata": {},
   "outputs": [],
   "source": [
    "import ants\n",
    "\n",
    "topview = 'topview_10um.nii.gz'\n",
    "topview = pjoin(mice.cfg.base_dir, topview)\n",
    "topview = ants.image_read(topview, pixeltype='unsigned int')\n",
    "topview = topview.numpy()\n",
    "\n",
    "flatmap = 'flatmap_10um.nii.gz'\n",
    "flatmap = pjoin(mice.cfg.base_dir, flatmap)\n",
    "flatmap = ants.image_read(flatmap, pixeltype='unsigned int')\n",
    "flatmap = flatmap.numpy()"
   ]
  },
  {
   "cell_type": "code",
   "execution_count": null,
   "id": "96b7009e",
   "metadata": {},
   "outputs": [],
   "source": []
  },
  {
   "cell_type": "code",
   "execution_count": 12,
   "id": "04bafd22",
   "metadata": {
    "scrolled": true
   },
   "outputs": [
    {
     "data": {
      "image/png": "[encoded data removed]"
     },
     "metadata": {},
     "output_type": "display_data"
    }
   ],
   "source": [
    "ncols = 4\n",
    "nrows = int(np.ceil(len(hier.results) / (ncols / 2)))\n",
    "fig, axes = create_figure(nrows, ncols, (13.5, 2.5 * nrows), gridspec_kw={'width_ratios': [1, 2, 1, 2]})\n",
    "\n",
    "min_thres = 0.1\n",
    "\n",
    "for i, n_clust in enumerate(hier.results):\n",
    "    cmap = get_cluster_cmap(range(n_clust))\n",
    "    data_top = proj['parcel2d-top'][i]\n",
    "    data_flat = proj['parcel2d-flat'][i]\n",
    "\n",
    "    data2plt = np.ma.masked_where(data_top < min_thres, data_top)\n",
    "    ax = axes.ravel()[i * 2]\n",
    "    ax.imshow(topview, cmap='Greys_r')\n",
    "    ax.imshow(data2plt, cmap=cmap)\n",
    "    ax.set_title(f\"C_{n_clust} (top)\")\n",
    "\n",
    "    data2plt = np.ma.masked_where(data_flat < min_thres, data_flat)\n",
    "    ax = axes.ravel()[i * 2 + 1]\n",
    "    ax.imshow(flatmap, cmap='Greys_r')\n",
    "    ax.imshow(data2plt, cmap=cmap)\n",
    "    ax.set_title(f\"C_{n_clust} (flat)\")\n",
    "\n",
    "trim_axs(axes, 2 * len(hier.results))\n",
    "remove_ticks(axes)\n",
    "plt.show()"
   ]
  },
  {
   "cell_type": "code",
   "execution_count": null,
   "id": "28179825",
   "metadata": {},
   "outputs": [],
   "source": []
  },
  {
   "cell_type": "code",
   "execution_count": null,
   "id": "3c6c4828",
   "metadata": {},
   "outputs": [],
   "source": []
  },
  {
   "cell_type": "code",
   "execution_count": null,
   "id": "67d11c90",
   "metadata": {},
   "outputs": [],
   "source": []
  },
  {
   "cell_type": "markdown",
   "id": "35da4e7b",
   "metadata": {},
   "source": [
    "## Hier BOLD"
   ]
  },
  {
   "cell_type": "code",
   "execution_count": 7,
   "id": "089e23b2",
   "metadata": {},
   "outputs": [],
   "source": [
    "hier = Hierarchical(mice, 'sub-SLC', 'bold').fit_hierarchical(range(3, 11))"
   ]
  },
  {
   "cell_type": "code",
   "execution_count": 8,
   "id": "f6b1e98b",
   "metadata": {},
   "outputs": [],
   "source": [
    "pi_disjoint = np.zeros((len(hier.results), len(hier.n2l)), dtype='uint32')\n",
    "\n",
    "for i, (n_clust, result_d) in enumerate(hier.results.items()):\n",
    "    for oc_idx, clist in result_d['cluster_assigns'].items():\n",
    "        for lbl in clist:\n",
    "            node = hier.l2n[lbl]\n",
    "            pi_disjoint[i, node] = oc_idx"
   ]
  },
  {
   "cell_type": "code",
   "execution_count": 9,
   "id": "ab5831a1",
   "metadata": {},
   "outputs": [],
   "source": [
    "proj = hier.project_vec(pi_disjoint)"
   ]
  },
  {
   "cell_type": "code",
   "execution_count": null,
   "id": "ff24d242",
   "metadata": {},
   "outputs": [],
   "source": []
  },
  {
   "cell_type": "code",
   "execution_count": 10,
   "id": "a53fde0f",
   "metadata": {},
   "outputs": [
    {
     "data": {
      "text/html": [
       "<pre style=\"white-space:pre;overflow-x:auto;line-height:normal;font-family:Menlo,'DejaVu Sans Mono',consolas,'Courier New',monospace\"><span style=\"font-weight: bold\">[</span><span style=\"color: #008000; text-decoration-color: #008000\">'parcel3d'</span><span style=\"font-weight: bold\">]</span>\n",
       "</pre>\n"
      ],
      "text/plain": [
       "\u001b[1m[\u001b[0m\u001b[32m'parcel3d'\u001b[0m\u001b[1m]\u001b[0m\n"
      ]
     },
     "metadata": {},
     "output_type": "display_data"
    }
   ],
   "source": [
    "list(proj)"
   ]
  },
  {
   "cell_type": "code",
   "execution_count": null,
   "id": "6ab7e398",
   "metadata": {},
   "outputs": [],
   "source": []
  },
  {
   "cell_type": "code",
   "execution_count": 12,
   "id": "1b5b41d2",
   "metadata": {},
   "outputs": [
    {
     "data": {
      "text/html": [
       "<pre style=\"white-space:pre;overflow-x:auto;line-height:normal;font-family:Menlo,'DejaVu Sans Mono',consolas,'Courier New',monospace\"><span style=\"font-weight: bold\">(</span><span style=\"color: #008080; text-decoration-color: #008080; font-weight: bold\">1320</span>, <span style=\"color: #008080; text-decoration-color: #008080; font-weight: bold\">800</span>, <span style=\"color: #008080; text-decoration-color: #008080; font-weight: bold\">1140</span><span style=\"font-weight: bold\">)</span>\n",
       "</pre>\n"
      ],
      "text/plain": [
       "\u001b[1m(\u001b[0m\u001b[1;36m1320\u001b[0m, \u001b[1;36m800\u001b[0m, \u001b[1;36m1140\u001b[0m\u001b[1m)\u001b[0m\n"
      ]
     },
     "metadata": {},
     "output_type": "display_data"
    }
   ],
   "source": [
    "proj['parcel3d'][1].shape"
   ]
  },
  {
   "cell_type": "code",
   "execution_count": 22,
   "id": "8d7132ac",
   "metadata": {},
   "outputs": [
    {
     "data": {
      "text/html": [
       "<pre style=\"white-space:pre;overflow-x:auto;line-height:normal;font-family:Menlo,'DejaVu Sans Mono',consolas,'Courier New',monospace\"><span style=\"font-weight: bold\">&lt;</span><span style=\"color: #ff00ff; text-decoration-color: #ff00ff; font-weight: bold\">matplotlib.image.AxesImage</span><span style=\"color: #000000; text-decoration-color: #000000\"> object at </span><span style=\"color: #008080; text-decoration-color: #008080; font-weight: bold\">0x7f8100437370</span><span style=\"font-weight: bold\">&gt;</span>\n",
       "</pre>\n"
      ],
      "text/plain": [
       "\u001b[1m<\u001b[0m\u001b[1;95mmatplotlib.image.AxesImage\u001b[0m\u001b[39m object at \u001b[0m\u001b[1;36m0x7f8100437370\u001b[0m\u001b[1m>\u001b[0m\n"
      ]
     },
     "metadata": {},
     "output_type": "display_data"
    },
    {
     "data": {
      "image/png": "[encoded data removed]"
     },
     "metadata": {},
     "output_type": "display_data"
    }
   ],
   "source": [
    "plt.imshow(proj['parcel3d'][1][660], cmap='Accent_r')"
   ]
  },
  {
   "cell_type": "code",
   "execution_count": 29,
   "id": "3b0e53d2",
   "metadata": {},
   "outputs": [
    {
     "data": {
      "text/html": [
       "<pre style=\"white-space:pre;overflow-x:auto;line-height:normal;font-family:Menlo,'DejaVu Sans Mono',consolas,'Courier New',monospace\"><span style=\"font-weight: bold\">&lt;</span><span style=\"color: #ff00ff; text-decoration-color: #ff00ff; font-weight: bold\">matplotlib.image.AxesImage</span><span style=\"color: #000000; text-decoration-color: #000000\"> object at </span><span style=\"color: #008080; text-decoration-color: #008080; font-weight: bold\">0x7f7f99244520</span><span style=\"font-weight: bold\">&gt;</span>\n",
       "</pre>\n"
      ],
      "text/plain": [
       "\u001b[1m<\u001b[0m\u001b[1;95mmatplotlib.image.AxesImage\u001b[0m\u001b[39m object at \u001b[0m\u001b[1;36m0x7f7f99244520\u001b[0m\u001b[1m>\u001b[0m\n"
      ]
     },
     "metadata": {},
     "output_type": "display_data"
    },
    {
     "data": {
      "image/png": "[encoded data removed]"
     },
     "metadata": {},
     "output_type": "display_data"
    }
   ],
   "source": [
    "plt.imshow(proj['parcel3d'][1][:, 100, :], cmap='Accent_r')"
   ]
  },
  {
   "cell_type": "code",
   "execution_count": null,
   "id": "6df3d936",
   "metadata": {},
   "outputs": [],
   "source": []
  },
  {
   "cell_type": "code",
   "execution_count": null,
   "id": "d78ebec3",
   "metadata": {},
   "outputs": [],
   "source": []
  },
  {
   "cell_type": "code",
   "execution_count": null,
   "id": "e1310f5d",
   "metadata": {},
   "outputs": [],
   "source": []
  },
  {
   "cell_type": "code",
   "execution_count": 14,
   "id": "38d0a20e",
   "metadata": {},
   "outputs": [],
   "source": [
    "min_thres = 0.1"
   ]
  },
  {
   "cell_type": "code",
   "execution_count": 15,
   "id": "c29cc70f",
   "metadata": {},
   "outputs": [
    {
     "data": {
      "image/png": "[encoded data removed]"
     },
     "metadata": {},
     "output_type": "display_data"
    }
   ],
   "source": [
    "ncols = 4\n",
    "nrows = int(np.ceil(len(hier.results) / (ncols / 2)))\n",
    "fig, axes = create_figure(nrows, ncols, (13.5, 2.5 * nrows), gridspec_kw={'width_ratios': [1, 2, 1, 2]})\n",
    "\n",
    "for i, n_clust in enumerate(hier.results):\n",
    "    cmap = get_cluster_cmap(range(n_clust))\n",
    "    data_top = proj['parcel2d-top'][i]\n",
    "    data_flat = proj['parcel2d-flat'][i]\n",
    "\n",
    "    data2plt = np.ma.masked_where(data_top < min_thres, data_top)\n",
    "    ax = axes.ravel()[i * 2]\n",
    "    ax.imshow(topview, cmap='Greys_r')\n",
    "    ax.imshow(data2plt, cmap=cmap)\n",
    "    ax.set_title(f\"C_{n_clust} (top)\")\n",
    "\n",
    "    data2plt = np.ma.masked_where(data_flat < min_thres, data_flat)\n",
    "    ax = axes.ravel()[i * 2 + 1]\n",
    "    ax.imshow(flatmap, cmap='Greys_r')\n",
    "    ax.imshow(data2plt, cmap=cmap)\n",
    "    ax.set_title(f\"C_{n_clust} (flat)\")\n",
    "\n",
    "trim_axs(axes, 2 * len(hier.results))\n",
    "remove_ticks(axes)\n",
    "plt.show()"
   ]
  },
  {
   "cell_type": "code",
   "execution_count": null,
   "id": "fa314942",
   "metadata": {},
   "outputs": [],
   "source": []
  },
  {
   "cell_type": "code",
   "execution_count": null,
   "id": "9dc546ea",
   "metadata": {},
   "outputs": [],
   "source": [
    "plt.imshow(proj['parcel3d'][400])"
   ]
  },
  {
   "cell_type": "code",
   "execution_count": null,
   "id": "9fb3b42d",
   "metadata": {},
   "outputs": [],
   "source": []
  },
  {
   "cell_type": "code",
   "execution_count": null,
   "id": "b0571b94",
   "metadata": {},
   "outputs": [],
   "source": []
  },
  {
   "cell_type": "code",
   "execution_count": null,
   "id": "71382ea7",
   "metadata": {},
   "outputs": [],
   "source": [
    "%%time\n",
    "\n",
    "net_ca = Network(\n",
    "    mice=mice,\n",
    "    key='sub-SLC',\n",
    "    df=mice.ca_dfs['sub-SLC'],\n",
    "    percentiles=np.linspace(50, 1, 50),\n",
    ").fit_network(save=False)"
   ]
  },
  {
   "cell_type": "code",
   "execution_count": null,
   "id": "5c67ebb4",
   "metadata": {},
   "outputs": [],
   "source": [
    "%%time\n",
    "\n",
    "net_bold = Network(\n",
    "    mice=mice,\n",
    "    key='sub-SLC',\n",
    "    df=mice.bold_dfs['sub-SLC'],\n",
    "    percentiles=np.linspace(50, 1, 50),\n",
    ").fit_network(save=False)"
   ]
  },
  {
   "cell_type": "code",
   "execution_count": null,
   "id": "56e9642f",
   "metadata": {},
   "outputs": [],
   "source": []
  },
  {
   "cell_type": "code",
   "execution_count": null,
   "id": "38c53a2a",
   "metadata": {},
   "outputs": [],
   "source": [
    "sns.histplot(net_ca.adj[net_ca.adj.nonzero()], color='C0', alpha=0.5, stat='density')\n",
    "plt.axvline(net_ca.thresholds[10], color='g', ls='--')\n",
    "plt.axvline(net_ca.thresholds[5], color='r', ls='--')\n",
    "\n",
    "sns.histplot(net_bold.adj[net_bold.adj.nonzero()], color='C1', alpha=0.5, stat='density')\n",
    "plt.axvline(net_bold.thresholds[10], color='g', ls=':')\n",
    "plt.axvline(net_bold.thresholds[5], color='r', ls=':')\n",
    "\n",
    "plt.show()"
   ]
  },
  {
   "cell_type": "code",
   "execution_count": null,
   "id": "cde2740b",
   "metadata": {},
   "outputs": [],
   "source": []
  },
  {
   "cell_type": "code",
   "execution_count": null,
   "id": "c7ed8dcb",
   "metadata": {},
   "outputs": [],
   "source": []
  },
  {
   "cell_type": "code",
   "execution_count": null,
   "id": "c03e9b6e",
   "metadata": {},
   "outputs": [],
   "source": [
    "x = mice.ca_dfs['sub-SLC'].values\n",
    "x.shape"
   ]
  },
  {
   "cell_type": "code",
   "execution_count": null,
   "id": "d4f9d91c",
   "metadata": {},
   "outputs": [],
   "source": []
  },
  {
   "cell_type": "code",
   "execution_count": null,
   "id": "943bcb96",
   "metadata": {},
   "outputs": [],
   "source": [
    "nans = np.where(np.isnan(x).sum(0) > 0)[0]\n",
    "x = np.delete(x, nans, axis=1)\n",
    "x.shape"
   ]
  },
  {
   "cell_type": "code",
   "execution_count": null,
   "id": "dc8bd73c",
   "metadata": {},
   "outputs": [],
   "source": []
  },
  {
   "cell_type": "code",
   "execution_count": null,
   "id": "d4efbaf2",
   "metadata": {},
   "outputs": [],
   "source": [
    "from sklearn.decomposition import PCA"
   ]
  },
  {
   "cell_type": "code",
   "execution_count": null,
   "id": "a1b77fdc",
   "metadata": {},
   "outputs": [],
   "source": [
    "pca = PCA(\n",
    "    n_components=100,\n",
    "    svd_solver='full',\n",
    ").fit(x)"
   ]
  },
  {
   "cell_type": "code",
   "execution_count": null,
   "id": "f2f254e0",
   "metadata": {},
   "outputs": [],
   "source": [
    "plt.plot(pca.explained_variance_ratio_)"
   ]
  },
  {
   "cell_type": "code",
   "execution_count": null,
   "id": "9acf06b2",
   "metadata": {},
   "outputs": [],
   "source": [
    "pca.components_.shape"
   ]
  },
  {
   "cell_type": "code",
   "execution_count": null,
   "id": "62a3cde2",
   "metadata": {},
   "outputs": [],
   "source": []
  },
  {
   "cell_type": "code",
   "execution_count": null,
   "id": "e54e4800",
   "metadata": {},
   "outputs": [],
   "source": [
    "y = pca.transform(x)\n",
    "y.shape"
   ]
  },
  {
   "cell_type": "code",
   "execution_count": null,
   "id": "958fe3f1",
   "metadata": {},
   "outputs": [],
   "source": [
    "plt.plot(y[:, 0])"
   ]
  },
  {
   "cell_type": "code",
   "execution_count": null,
   "id": "52571237",
   "metadata": {},
   "outputs": [],
   "source": []
  },
  {
   "cell_type": "code",
   "execution_count": null,
   "id": "b89be360",
   "metadata": {},
   "outputs": [],
   "source": [
    "np.where(y[:, 0] > 100)[0]"
   ]
  },
  {
   "cell_type": "code",
   "execution_count": null,
   "id": "195b2812",
   "metadata": {},
   "outputs": [],
   "source": [
    "i = 21999\n",
    "plt.imshow(x[i-150:i+150].T)"
   ]
  },
  {
   "cell_type": "code",
   "execution_count": null,
   "id": "3b452c43",
   "metadata": {},
   "outputs": [],
   "source": []
  },
  {
   "cell_type": "code",
   "execution_count": null,
   "id": "29045dfd",
   "metadata": {},
   "outputs": [],
   "source": [
    "i = 21999\n",
    "plt.imshow(x[i-10:i+10].T, aspect=0.2)\n",
    "plt.colorbar()"
   ]
  },
  {
   "cell_type": "code",
   "execution_count": null,
   "id": "d8565901",
   "metadata": {},
   "outputs": [],
   "source": []
  },
  {
   "cell_type": "code",
   "execution_count": null,
   "id": "1eb57dac",
   "metadata": {},
   "outputs": [],
   "source": [
    "plt.plot(np.abs(x).mean(-1))"
   ]
  },
  {
   "cell_type": "code",
   "execution_count": null,
   "id": "98f09547",
   "metadata": {},
   "outputs": [],
   "source": []
  },
  {
   "cell_type": "code",
   "execution_count": null,
   "id": "45b83951",
   "metadata": {},
   "outputs": [],
   "source": [
    "z = y.copy()\n",
    "z[:, 0] = 0\n",
    "\n",
    "x_inv = pca.inverse_transform(z)\n",
    "x_inv.shape"
   ]
  },
  {
   "cell_type": "code",
   "execution_count": null,
   "id": "3a189c50",
   "metadata": {},
   "outputs": [],
   "source": []
  },
  {
   "cell_type": "code",
   "execution_count": null,
   "id": "83a339c2",
   "metadata": {},
   "outputs": [],
   "source": [
    "df_new = pd.DataFrame(x_inv)\n",
    "df_new.shape"
   ]
  },
  {
   "cell_type": "code",
   "execution_count": null,
   "id": "bc7d6d3b",
   "metadata": {},
   "outputs": [],
   "source": [
    "a, p = get_adj_mat(df_new, 'pearson')"
   ]
  },
  {
   "cell_type": "code",
   "execution_count": null,
   "id": "dcabba3d",
   "metadata": {},
   "outputs": [],
   "source": []
  },
  {
   "cell_type": "code",
   "execution_count": null,
   "id": "745e7779",
   "metadata": {},
   "outputs": [],
   "source": [
    "plt.imshow(a)\n",
    "plt.colorbar()"
   ]
  },
  {
   "cell_type": "code",
   "execution_count": null,
   "id": "48b9bba7",
   "metadata": {},
   "outputs": [],
   "source": [
    "plt.imshow(net_ca.adj)\n",
    "plt.colorbar()"
   ]
  },
  {
   "cell_type": "code",
   "execution_count": null,
   "id": "cd226f2e",
   "metadata": {},
   "outputs": [],
   "source": []
  },
  {
   "cell_type": "code",
   "execution_count": null,
   "id": "4ad5752d",
   "metadata": {},
   "outputs": [],
   "source": [
    "sns.histplot(net_ca.adj[net_ca.adj.nonzero()], color='C0', alpha=0.5, stat='density')\n",
    "plt.axvline(net_ca.thresholds[10], color='g', ls='--')\n",
    "plt.axvline(net_ca.thresholds[5], color='r', ls='--')\n",
    "\n",
    "sns.histplot(a[a.nonzero()], color='C5', alpha=0.5, stat='density')\n",
    "plt.axvline(net_ca.thresholds[10], color='g', ls='--')\n",
    "plt.axvline(net_ca.thresholds[5], color='r', ls='--')"
   ]
  },
  {
   "cell_type": "code",
   "execution_count": null,
   "id": "35a73df0",
   "metadata": {},
   "outputs": [],
   "source": []
  },
  {
   "cell_type": "code",
   "execution_count": null,
   "id": "676cdafa",
   "metadata": {},
   "outputs": [],
   "source": [
    "plt.imshow(a)\n",
    "plt.colorbar()"
   ]
  },
  {
   "cell_type": "code",
   "execution_count": null,
   "id": "18f8cb13",
   "metadata": {},
   "outputs": [],
   "source": []
  },
  {
   "cell_type": "code",
   "execution_count": null,
   "id": "a563f126",
   "metadata": {},
   "outputs": [],
   "source": [
    "th = np.quantile(a.ravel(), q=0.8)\n",
    "\n",
    "a_gsr = a.copy()\n",
    "a_gsr[a > th] = 1.0\n",
    "a_gsr[a <= th] = 0.0"
   ]
  },
  {
   "cell_type": "code",
   "execution_count": null,
   "id": "8f4c8d0f",
   "metadata": {},
   "outputs": [],
   "source": [
    "th = np.quantile(net_ca.adj.ravel(), q=0.8)\n",
    "\n",
    "a_full = net_ca.adj.copy()\n",
    "a_full[net_ca.adj > th] = 1.0\n",
    "a_full[net_ca.adj <= th] = 0.0"
   ]
  },
  {
   "cell_type": "code",
   "execution_count": null,
   "id": "87a2b34f",
   "metadata": {},
   "outputs": [],
   "source": []
  },
  {
   "cell_type": "code",
   "execution_count": null,
   "id": "1572a3f2",
   "metadata": {},
   "outputs": [],
   "source": [
    "plt.imshow(a_gsr)"
   ]
  },
  {
   "cell_type": "code",
   "execution_count": null,
   "id": "00075a39",
   "metadata": {},
   "outputs": [],
   "source": [
    "plt.imshow(a_full)"
   ]
  },
  {
   "cell_type": "code",
   "execution_count": null,
   "id": "1f52404a",
   "metadata": {},
   "outputs": [],
   "source": []
  },
  {
   "cell_type": "code",
   "execution_count": null,
   "id": "5045d34b",
   "metadata": {},
   "outputs": [],
   "source": [
    "a_full2 = np.delete(np.delete(a_full, nans, axis=0), nans, axis=1)"
   ]
  },
  {
   "cell_type": "code",
   "execution_count": null,
   "id": "7c2e7630",
   "metadata": {},
   "outputs": [],
   "source": [
    "plt.imshow(a_full2)"
   ]
  },
  {
   "cell_type": "code",
   "execution_count": null,
   "id": "448476b6",
   "metadata": {},
   "outputs": [],
   "source": []
  },
  {
   "cell_type": "code",
   "execution_count": null,
   "id": "bd69c64c",
   "metadata": {},
   "outputs": [],
   "source": [
    "df = mice.ca_dfs['sub-SLC'].copy()\n",
    "df[df.isnull()] = 0"
   ]
  },
  {
   "cell_type": "code",
   "execution_count": null,
   "id": "f0bb4d61",
   "metadata": {},
   "outputs": [],
   "source": [
    "df"
   ]
  },
  {
   "cell_type": "code",
   "execution_count": null,
   "id": "3b9ad3e9",
   "metadata": {},
   "outputs": [],
   "source": []
  },
  {
   "cell_type": "code",
   "execution_count": null,
   "id": "b0ba3251",
   "metadata": {},
   "outputs": [],
   "source": [
    "hier = Hierarchical(mice, 'sub-SLC', df)"
   ]
  },
  {
   "cell_type": "code",
   "execution_count": null,
   "id": "9c575e3a",
   "metadata": {},
   "outputs": [],
   "source": [
    "hier.fit(5)"
   ]
  },
  {
   "cell_type": "code",
   "execution_count": null,
   "id": "737029e7",
   "metadata": {},
   "outputs": [],
   "source": []
  },
  {
   "cell_type": "code",
   "execution_count": null,
   "id": "1288d1a5",
   "metadata": {},
   "outputs": [],
   "source": [
    "_ = hier.fit(7)"
   ]
  },
  {
   "cell_type": "code",
   "execution_count": null,
   "id": "e91bacac",
   "metadata": {},
   "outputs": [],
   "source": [
    "hier.results[7]['cluster_assigns']"
   ]
  },
  {
   "cell_type": "code",
   "execution_count": null,
   "id": "30c6830e",
   "metadata": {},
   "outputs": [],
   "source": []
  },
  {
   "cell_type": "code",
   "execution_count": null,
   "id": "0b73d035",
   "metadata": {},
   "outputs": [],
   "source": [
    "\"\"\"cluster_assigns = hier.results[5]['cluster_assigns']\n",
    "cluster_assigns = {\n",
    "    c_idx: [\n",
    "        mice.parcel.encode(*tuple(map(\n",
    "            lambda string: int(string),\n",
    "            net_ca.n2l[e].split('-'))))\n",
    "        for e in c_list]\n",
    "    for c_idx, c_list in cluster_assigns.items()\n",
    "}\n",
    "cluster_assigns\"\"\""
   ]
  },
  {
   "cell_type": "code",
   "execution_count": null,
   "id": "915a5493",
   "metadata": {},
   "outputs": [],
   "source": []
  },
  {
   "cell_type": "code",
   "execution_count": null,
   "id": "644261fc",
   "metadata": {},
   "outputs": [],
   "source": [
    "_ = hier.fit(7)"
   ]
  },
  {
   "cell_type": "code",
   "execution_count": null,
   "id": "9272b162",
   "metadata": {},
   "outputs": [],
   "source": []
  },
  {
   "cell_type": "code",
   "execution_count": null,
   "id": "162813ec",
   "metadata": {},
   "outputs": [],
   "source": []
  },
  {
   "cell_type": "code",
   "execution_count": null,
   "id": "7433ffa6",
   "metadata": {},
   "outputs": [],
   "source": []
  },
  {
   "cell_type": "code",
   "execution_count": null,
   "id": "d000a9ab",
   "metadata": {},
   "outputs": [],
   "source": []
  },
  {
   "cell_type": "code",
   "execution_count": null,
   "id": "13ae699d",
   "metadata": {},
   "outputs": [],
   "source": [
    "results = get_pdist(, 'correlation')"
   ]
  },
  {
   "cell_type": "code",
   "execution_count": null,
   "id": "0f27ed9e",
   "metadata": {},
   "outputs": [],
   "source": [
    "list(results)"
   ]
  },
  {
   "cell_type": "code",
   "execution_count": null,
   "id": "dbd14921",
   "metadata": {},
   "outputs": [],
   "source": [
    "results['y']"
   ]
  },
  {
   "cell_type": "code",
   "execution_count": null,
   "id": "92c3e028",
   "metadata": {},
   "outputs": [],
   "source": [
    "x = mice.ca_dfs['sub-SLC01_ses-1_run-1'].values\n",
    "x = np.ma.masked_where(~np.isfinite(x), x)\n",
    "x.shape"
   ]
  },
  {
   "cell_type": "code",
   "execution_count": null,
   "id": "b0cd98d4",
   "metadata": {},
   "outputs": [],
   "source": [
    "y = sp_dist.pdist(x.T, metric='correlation')"
   ]
  },
  {
   "cell_type": "code",
   "execution_count": null,
   "id": "7cc3fdf5",
   "metadata": {},
   "outputs": [],
   "source": [
    "y, len(y)"
   ]
  },
  {
   "cell_type": "code",
   "execution_count": null,
   "id": "457c8b54",
   "metadata": {},
   "outputs": [],
   "source": [
    "from nancorrmp.nancorrmp import NaNCorrMp"
   ]
  },
  {
   "cell_type": "code",
   "execution_count": null,
   "id": "ca61bb1c",
   "metadata": {},
   "outputs": [],
   "source": [
    "mice.ca_dfs['sub-SLC01_ses-1_run-1'].reset_index(drop=True).to_dict().items()"
   ]
  },
  {
   "cell_type": "code",
   "execution_count": null,
   "id": "ad7962fc",
   "metadata": {},
   "outputs": [],
   "source": []
  },
  {
   "cell_type": "code",
   "execution_count": null,
   "id": "54feaf6b",
   "metadata": {},
   "outputs": [],
   "source": []
  },
  {
   "cell_type": "code",
   "execution_count": null,
   "id": "b014dc4b",
   "metadata": {},
   "outputs": [],
   "source": []
  },
  {
   "cell_type": "code",
   "execution_count": null,
   "id": "05b75dc2",
   "metadata": {},
   "outputs": [],
   "source": [
    "a = NaNCorrMp.calculate,(x)"
   ]
  },
  {
   "cell_type": "code",
   "execution_count": null,
   "id": "da3e07cb",
   "metadata": {},
   "outputs": [],
   "source": [
    "a.shape"
   ]
  },
  {
   "cell_type": "code",
   "execution_count": null,
   "id": "4c4f288c",
   "metadata": {},
   "outputs": [],
   "source": [
    "plt.imshow(a)"
   ]
  },
  {
   "cell_type": "code",
   "execution_count": null,
   "id": "79b5d179",
   "metadata": {},
   "outputs": [],
   "source": []
  },
  {
   "cell_type": "code",
   "execution_count": null,
   "id": "150e13a9",
   "metadata": {},
   "outputs": [],
   "source": []
  },
  {
   "cell_type": "code",
   "execution_count": null,
   "id": "7fdbcc24",
   "metadata": {},
   "outputs": [],
   "source": []
  },
  {
   "cell_type": "code",
   "execution_count": null,
   "id": "29b8243f",
   "metadata": {},
   "outputs": [],
   "source": []
  },
  {
   "cell_type": "code",
   "execution_count": null,
   "id": "5a0f44e5",
   "metadata": {},
   "outputs": [],
   "source": []
  },
  {
   "cell_type": "code",
   "execution_count": null,
   "id": "1badced0",
   "metadata": {},
   "outputs": [],
   "source": []
  },
  {
   "cell_type": "code",
   "execution_count": null,
   "id": "5af916f9",
   "metadata": {},
   "outputs": [],
   "source": [
    "from analysis.hierarchical import sp_hier\n"
   ]
  },
  {
   "cell_type": "code",
   "execution_count": null,
   "id": "028195d1",
   "metadata": {},
   "outputs": [],
   "source": [
    "yy = results['y'].copy()\n",
    "yy = np.ma.masked_where(~np.isfinite(yy), yy)\n",
    "sp_hier.linkage(yy)"
   ]
  },
  {
   "cell_type": "code",
   "execution_count": null,
   "id": "f7f09aa0",
   "metadata": {},
   "outputs": [],
   "source": [
    "y = results['y'].copy()\n",
    "np.isfinite(y)"
   ]
  },
  {
   "cell_type": "code",
   "execution_count": null,
   "id": "7249d488",
   "metadata": {},
   "outputs": [],
   "source": [
    "sp_hier.linkage(np.random.randn(10))"
   ]
  },
  {
   "cell_type": "code",
   "execution_count": null,
   "id": "6b0f3de0",
   "metadata": {},
   "outputs": [],
   "source": []
  },
  {
   "cell_type": "code",
   "execution_count": null,
   "id": "b52abda4",
   "metadata": {},
   "outputs": [],
   "source": []
  },
  {
   "cell_type": "code",
   "execution_count": null,
   "id": "d28faed4",
   "metadata": {},
   "outputs": [],
   "source": []
  },
  {
   "cell_type": "code",
   "execution_count": null,
   "id": "7444fca9",
   "metadata": {},
   "outputs": [],
   "source": [
    "net.thresholds"
   ]
  },
  {
   "cell_type": "code",
   "execution_count": null,
   "id": "2ef44d70",
   "metadata": {},
   "outputs": [],
   "source": []
  },
  {
   "cell_type": "code",
   "execution_count": null,
   "id": "e40cacbc",
   "metadata": {},
   "outputs": [],
   "source": []
  },
  {
   "cell_type": "code",
   "execution_count": null,
   "id": "eb0b7c9d",
   "metadata": {},
   "outputs": [],
   "source": []
  },
  {
   "cell_type": "code",
   "execution_count": null,
   "id": "4e1c10ac",
   "metadata": {},
   "outputs": [],
   "source": [
    "plt.imshow(net.adjacencies[31], cmap=net.style['cmap'])\n",
    "plt.colorbar()"
   ]
  },
  {
   "cell_type": "code",
   "execution_count": null,
   "id": "8bd79898",
   "metadata": {},
   "outputs": [],
   "source": []
  },
  {
   "cell_type": "code",
   "execution_count": null,
   "id": "d1aae202",
   "metadata": {},
   "outputs": [],
   "source": [
    "list(net.adjacencies)"
   ]
  },
  {
   "cell_type": "code",
   "execution_count": null,
   "id": "4b5bc272",
   "metadata": {},
   "outputs": [],
   "source": [
    "x = net.adjacencies[10].copy()\n",
    "x[x.nonzero()] = 1\n",
    "plt.imshow(x, cmap=net.style['cmap'])\n",
    "plt.show()"
   ]
  },
  {
   "cell_type": "code",
   "execution_count": null,
   "id": "4462fb83",
   "metadata": {},
   "outputs": [],
   "source": []
  },
  {
   "cell_type": "code",
   "execution_count": null,
   "id": "ad235676",
   "metadata": {},
   "outputs": [],
   "source": [
    "plt.imshow(net.adjacencies[10], cmap=net.style['cmap'])\n",
    "plt.show()"
   ]
  },
  {
   "cell_type": "code",
   "execution_count": null,
   "id": "4e75a690",
   "metadata": {},
   "outputs": [],
   "source": []
  },
  {
   "cell_type": "code",
   "execution_count": null,
   "id": "236a4fb5",
   "metadata": {},
   "outputs": [],
   "source": [
    "plt.imshow(net.adjacencies[10], cmap=net.style['cmap'])\n",
    "plt.show()"
   ]
  },
  {
   "cell_type": "code",
   "execution_count": null,
   "id": "e9120d39",
   "metadata": {},
   "outputs": [],
   "source": [
    "list(net.l2n)[:15]"
   ]
  },
  {
   "cell_type": "code",
   "execution_count": null,
   "id": "e6c538f2",
   "metadata": {},
   "outputs": [],
   "source": [
    "plt.imshow(net.adjacencies[10][:15][:, :15], cmap=net.style['cmap'])\n",
    "plt.show()"
   ]
  },
  {
   "cell_type": "code",
   "execution_count": null,
   "id": "71a9287c",
   "metadata": {},
   "outputs": [],
   "source": [
    "net.set_percentiles(np.linspace(39, 1, 39), fit=False)"
   ]
  },
  {
   "cell_type": "code",
   "execution_count": null,
   "id": "226630ab",
   "metadata": {},
   "outputs": [],
   "source": [
    "net._apply_thresholds()"
   ]
  },
  {
   "cell_type": "code",
   "execution_count": null,
   "id": "3ffbd2d1",
   "metadata": {},
   "outputs": [],
   "source": []
  },
  {
   "cell_type": "code",
   "execution_count": null,
   "id": "adc7d064",
   "metadata": {},
   "outputs": [],
   "source": [
    "net.thresholds"
   ]
  },
  {
   "cell_type": "code",
   "execution_count": null,
   "id": "4c2bbb22",
   "metadata": {},
   "outputs": [],
   "source": []
  },
  {
   "cell_type": "code",
   "execution_count": null,
   "id": "593f8a51",
   "metadata": {},
   "outputs": [],
   "source": [
    "sns.histplot(net.adj[net.adj.nonzero()], color='C0')\n",
    "plt.axvline(net.thresholds[10], color='g', ls='--')\n",
    "plt.axvline(net.thresholds[5], color='r', ls='--')"
   ]
  },
  {
   "cell_type": "code",
   "execution_count": null,
   "id": "c18d0fdb",
   "metadata": {},
   "outputs": [],
   "source": []
  },
  {
   "cell_type": "code",
   "execution_count": null,
   "id": "d109d2e1",
   "metadata": {},
   "outputs": [],
   "source": [
    "x = net.adjacencies[25].copy()\n",
    "x[x.nonzero()] = 1\n",
    "plt.imshow(x, cmap=net.style['cmap'])\n",
    "plt.show()"
   ]
  },
  {
   "cell_type": "code",
   "execution_count": null,
   "id": "aff4bd33",
   "metadata": {},
   "outputs": [],
   "source": []
  },
  {
   "cell_type": "code",
   "execution_count": null,
   "id": "7e4853dd",
   "metadata": {},
   "outputs": [],
   "source": []
  },
  {
   "cell_type": "code",
   "execution_count": null,
   "id": "c3b2f292",
   "metadata": {},
   "outputs": [],
   "source": []
  },
  {
   "cell_type": "code",
   "execution_count": null,
   "id": "56b78585",
   "metadata": {},
   "outputs": [],
   "source": []
  },
  {
   "cell_type": "code",
   "execution_count": null,
   "id": "91ce5597",
   "metadata": {},
   "outputs": [],
   "source": []
  },
  {
   "cell_type": "code",
   "execution_count": null,
   "id": "47d93c10",
   "metadata": {},
   "outputs": [],
   "source": []
  },
  {
   "cell_type": "code",
   "execution_count": null,
   "id": "21561945",
   "metadata": {},
   "outputs": [],
   "source": []
  },
  {
   "cell_type": "code",
   "execution_count": null,
   "id": "1e75c0f5",
   "metadata": {},
   "outputs": [],
   "source": []
  },
  {
   "cell_type": "code",
   "execution_count": null,
   "id": "26bec8af",
   "metadata": {},
   "outputs": [],
   "source": [
    "df_stim = mice.load_stim_times('ca2')\n",
    "df_stim"
   ]
  },
  {
   "cell_type": "code",
   "execution_count": null,
   "id": "79c667af",
   "metadata": {},
   "outputs": [],
   "source": []
  },
  {
   "cell_type": "code",
   "execution_count": null,
   "id": "f65e6af2",
   "metadata": {},
   "outputs": [],
   "source": [
    "_df = df_stim.loc[df_stim['stim'] == 1]\n",
    "_df = _df[_df['task'].values == 'rest']\n",
    "_df"
   ]
  },
  {
   "cell_type": "code",
   "execution_count": null,
   "id": "f288de3c",
   "metadata": {},
   "outputs": [],
   "source": [
    "_df['key'].unique()"
   ]
  },
  {
   "cell_type": "code",
   "execution_count": null,
   "id": "61089f2b",
   "metadata": {},
   "outputs": [],
   "source": []
  },
  {
   "cell_type": "code",
   "execution_count": null,
   "id": "2a39cdc4",
   "metadata": {},
   "outputs": [],
   "source": [
    "df_stim = mice.load_stim_times('bold')\n",
    "df_stim"
   ]
  },
  {
   "cell_type": "code",
   "execution_count": null,
   "id": "e4751406",
   "metadata": {},
   "outputs": [],
   "source": []
  },
  {
   "cell_type": "code",
   "execution_count": null,
   "id": "e7fcea50",
   "metadata": {},
   "outputs": [],
   "source": [
    "save_obj(dfs, 'test_ca', tmp_dir, 'npy')"
   ]
  },
  {
   "cell_type": "code",
   "execution_count": null,
   "id": "9827efc5",
   "metadata": {},
   "outputs": [],
   "source": []
  },
  {
   "cell_type": "code",
   "execution_count": null,
   "id": "f60ff328",
   "metadata": {},
   "outputs": [],
   "source": []
  },
  {
   "cell_type": "code",
   "execution_count": null,
   "id": "d23ba503",
   "metadata": {},
   "outputs": [],
   "source": [
    "list(dfs)"
   ]
  },
  {
   "cell_type": "code",
   "execution_count": null,
   "id": "253b8521",
   "metadata": {
    "scrolled": true
   },
   "outputs": [],
   "source": [
    "dfs['sub-SLC08_ses-2_run-6']"
   ]
  },
  {
   "cell_type": "code",
   "execution_count": null,
   "id": "5cacd37a",
   "metadata": {},
   "outputs": [],
   "source": [
    "x = dfs['sub-SLC08_ses-2_run-6'].corr()\n",
    "x = x.values\n",
    "np.fill_diagonal(x, 0.)"
   ]
  },
  {
   "cell_type": "code",
   "execution_count": null,
   "id": "25857b0e",
   "metadata": {},
   "outputs": [],
   "source": [
    "plt.imshow(x)"
   ]
  },
  {
   "cell_type": "code",
   "execution_count": null,
   "id": "1b376f05",
   "metadata": {},
   "outputs": [],
   "source": [
    "x.shape"
   ]
  },
  {
   "cell_type": "code",
   "execution_count": null,
   "id": "78f3f28e",
   "metadata": {},
   "outputs": [],
   "source": []
  },
  {
   "cell_type": "code",
   "execution_count": null,
   "id": "dbe52dce",
   "metadata": {},
   "outputs": [],
   "source": [
    "a, p = get_adj_mat(dfs['sub-SLC08_ses-2_run-6'], 'pearson')\n",
    "aa, pp = get_adj_mat(dfs['sub-SLC08_ses-2_run-6'], 'spearman')"
   ]
  },
  {
   "cell_type": "code",
   "execution_count": null,
   "id": "0d37e78b",
   "metadata": {},
   "outputs": [],
   "source": [
    "idxs_pears = np.where(np.abs(a).sum(0) == 0)[0]\n",
    "idxs_spear = np.where(np.abs(aa).sum(0) == 0)[0]"
   ]
  },
  {
   "cell_type": "code",
   "execution_count": null,
   "id": "110cff76",
   "metadata": {},
   "outputs": [],
   "source": [
    "a.shape, aa.shape"
   ]
  },
  {
   "cell_type": "code",
   "execution_count": null,
   "id": "6c9b192d",
   "metadata": {},
   "outputs": [],
   "source": []
  },
  {
   "cell_type": "code",
   "execution_count": null,
   "id": "a2eb1a4c",
   "metadata": {},
   "outputs": [],
   "source": [
    "fig, axes = create_figure(1, 2, (12, 4.5))\n",
    "\n",
    "vminmax = np.max(np.abs(a))\n",
    "im = axes[0].imshow(a, cmap='bwr', vmin=-vminmax, vmax=vminmax)\n",
    "plt.colorbar(im, ax=axes[0])\n",
    "\n",
    "vminmax = np.max(np.abs(aa))\n",
    "im = axes[1].imshow(aa, cmap='bwr', vmin=-vminmax, vmax=vminmax)\n",
    "plt.colorbar(im, ax=axes[1])"
   ]
  },
  {
   "cell_type": "code",
   "execution_count": null,
   "id": "ac8787d3",
   "metadata": {},
   "outputs": [],
   "source": []
  },
  {
   "cell_type": "code",
   "execution_count": null,
   "id": "e238e732",
   "metadata": {},
   "outputs": [],
   "source": [
    "sns.histplot(a[a.nonzero()], color='C0', alpha=0.5)\n",
    "sns.histplot(aa[aa.nonzero()], color='C1', alpha=0.5)"
   ]
  },
  {
   "cell_type": "code",
   "execution_count": null,
   "id": "91ea0f32",
   "metadata": {},
   "outputs": [],
   "source": []
  },
  {
   "cell_type": "code",
   "execution_count": null,
   "id": "74750a7f",
   "metadata": {},
   "outputs": [],
   "source": []
  },
  {
   "cell_type": "code",
   "execution_count": null,
   "id": "f2f12873",
   "metadata": {},
   "outputs": [],
   "source": []
  },
  {
   "cell_type": "code",
   "execution_count": null,
   "id": "ebdc2f21",
   "metadata": {},
   "outputs": [],
   "source": [
    "node_labels = dfs['sub-SLC08_ses-2_run-6'].columns.values"
   ]
  },
  {
   "cell_type": "code",
   "execution_count": null,
   "id": "a5fa0b00",
   "metadata": {
    "scrolled": true
   },
   "outputs": [],
   "source": [
    "node_labels"
   ]
  },
  {
   "cell_type": "code",
   "execution_count": null,
   "id": "5b1d1300",
   "metadata": {},
   "outputs": [],
   "source": [
    "n2l = {i: lbl for i, lbl in enumerate(node_labels)}\n",
    "l2n = {lbl: i for i, lbl in n2l.items()}"
   ]
  },
  {
   "cell_type": "code",
   "execution_count": null,
   "id": "3c0b4069",
   "metadata": {},
   "outputs": [],
   "source": [
    "n2l"
   ]
  },
  {
   "cell_type": "code",
   "execution_count": null,
   "id": "41f4703e",
   "metadata": {},
   "outputs": [],
   "source": []
  },
  {
   "cell_type": "code",
   "execution_count": null,
   "id": "921b3ab9",
   "metadata": {},
   "outputs": [],
   "source": []
  },
  {
   "cell_type": "code",
   "execution_count": null,
   "id": "350e69ba",
   "metadata": {},
   "outputs": [],
   "source": []
  },
  {
   "cell_type": "code",
   "execution_count": null,
   "id": "28cd3bc4",
   "metadata": {},
   "outputs": [],
   "source": []
  },
  {
   "cell_type": "code",
   "execution_count": null,
   "id": "b88e37c0",
   "metadata": {},
   "outputs": [],
   "source": []
  },
  {
   "cell_type": "code",
   "execution_count": null,
   "id": "bdbbd040",
   "metadata": {},
   "outputs": [],
   "source": [
    "dfs = mice.make_dfs('ca2')"
   ]
  },
  {
   "cell_type": "code",
   "execution_count": null,
   "id": "99bafc0f",
   "metadata": {},
   "outputs": [],
   "source": [
    "y = dfs['sub-SLC08_ses-2_run-6'].corr()\n",
    "y = y.values\n",
    "np.fill_diagonal(y, 0.)"
   ]
  },
  {
   "cell_type": "code",
   "execution_count": null,
   "id": "01b7114c",
   "metadata": {},
   "outputs": [],
   "source": [
    "plt.imshow(y)"
   ]
  },
  {
   "cell_type": "code",
   "execution_count": null,
   "id": "c6c2c0d4",
   "metadata": {},
   "outputs": [],
   "source": []
  },
  {
   "cell_type": "code",
   "execution_count": null,
   "id": "0a154bc4",
   "metadata": {},
   "outputs": [],
   "source": [
    "np.isnan(y).sum(1)"
   ]
  },
  {
   "cell_type": "code",
   "execution_count": null,
   "id": "3a4b5923",
   "metadata": {},
   "outputs": [],
   "source": [
    "aaa = np.where(np.isnan(y).sum(1) > 100)[0]\n",
    "aaa"
   ]
  },
  {
   "cell_type": "code",
   "execution_count": null,
   "id": "536de6c2",
   "metadata": {},
   "outputs": [],
   "source": [
    "bbb = dfs['sub-SLC08_ses-2_run-6'].columns[aaa]\n",
    "bbb"
   ]
  },
  {
   "cell_type": "code",
   "execution_count": null,
   "id": "1a264ea5",
   "metadata": {},
   "outputs": [],
   "source": [
    "ca_func = mice.ca['sub-SLC08_ses-2_run-6'].get_data()"
   ]
  },
  {
   "cell_type": "code",
   "execution_count": null,
   "id": "e5b87e9c",
   "metadata": {},
   "outputs": [],
   "source": [
    "{k: v for k, v in ca_func.items() if k in bbb}"
   ]
  },
  {
   "cell_type": "code",
   "execution_count": null,
   "id": "51e2d637",
   "metadata": {},
   "outputs": [],
   "source": []
  },
  {
   "cell_type": "code",
   "execution_count": null,
   "id": "60834020",
   "metadata": {},
   "outputs": [],
   "source": []
  },
  {
   "cell_type": "code",
   "execution_count": null,
   "id": "4bc8ab12",
   "metadata": {},
   "outputs": [],
   "source": []
  },
  {
   "cell_type": "code",
   "execution_count": null,
   "id": "402a1a30",
   "metadata": {},
   "outputs": [],
   "source": []
  },
  {
   "cell_type": "code",
   "execution_count": null,
   "id": "c63cb4c6",
   "metadata": {},
   "outputs": [],
   "source": [
    "sns.histplot(perc_missing.values())"
   ]
  },
  {
   "cell_type": "code",
   "execution_count": null,
   "id": "7b387f1b",
   "metadata": {},
   "outputs": [],
   "source": []
  },
  {
   "cell_type": "code",
   "execution_count": null,
   "id": "9a8b24b1",
   "metadata": {},
   "outputs": [],
   "source": [
    "mice.setup_func_data()"
   ]
  },
  {
   "cell_type": "code",
   "execution_count": null,
   "id": "411b45cb",
   "metadata": {},
   "outputs": [],
   "source": [
    "x = mice.ca['sub-SLC01_ses-2_run-3'].get_data()"
   ]
  },
  {
   "cell_type": "code",
   "execution_count": null,
   "id": "88c3ab4f",
   "metadata": {},
   "outputs": [],
   "source": [
    "list(x)"
   ]
  },
  {
   "cell_type": "code",
   "execution_count": null,
   "id": "8037d136",
   "metadata": {},
   "outputs": [],
   "source": []
  },
  {
   "cell_type": "code",
   "execution_count": null,
   "id": "4c699d7d",
   "metadata": {},
   "outputs": [],
   "source": [
    "def _reindex_fn(s):\n",
    "    vals = tuple(map(lambda e: int(e), s.split('-')))\n",
    "    i = int(vals[0] * 2e9) + vals[-1]\n",
    "    if len(vals) == 3:\n",
    "        i += int(vals[1] * 10)\n",
    "    return i + int(6e6 / len(vals))"
   ]
  },
  {
   "cell_type": "code",
   "execution_count": null,
   "id": "660abc89",
   "metadata": {},
   "outputs": [],
   "source": []
  },
  {
   "cell_type": "code",
   "execution_count": null,
   "id": "dd6c1b0d",
   "metadata": {},
   "outputs": [],
   "source": [
    "sorted(x, key=_reindex_fn)"
   ]
  },
  {
   "cell_type": "code",
   "execution_count": null,
   "id": "d66b66f8",
   "metadata": {},
   "outputs": [],
   "source": []
  },
  {
   "cell_type": "code",
   "execution_count": null,
   "id": "03343b84",
   "metadata": {},
   "outputs": [],
   "source": []
  },
  {
   "cell_type": "code",
   "execution_count": null,
   "id": "aaef3656",
   "metadata": {},
   "outputs": [],
   "source": [
    "from register.register import Register\n",
    "reg = Register(mice)"
   ]
  },
  {
   "cell_type": "code",
   "execution_count": null,
   "id": "1481ced3",
   "metadata": {},
   "outputs": [],
   "source": []
  },
  {
   "cell_type": "code",
   "execution_count": null,
   "id": "142cb6cc",
   "metadata": {},
   "outputs": [],
   "source": [
    "reg.organize_func(0.1)"
   ]
  },
  {
   "cell_type": "code",
   "execution_count": null,
   "id": "81c654bc",
   "metadata": {},
   "outputs": [],
   "source": []
  },
  {
   "cell_type": "code",
   "execution_count": null,
   "id": "43f8aa3e",
   "metadata": {},
   "outputs": [],
   "source": []
  },
  {
   "cell_type": "code",
   "execution_count": null,
   "id": "ff8fcc3c",
   "metadata": {},
   "outputs": [],
   "source": []
  },
  {
   "cell_type": "code",
   "execution_count": null,
   "id": "29a608cc",
   "metadata": {},
   "outputs": [],
   "source": []
  },
  {
   "cell_type": "code",
   "execution_count": null,
   "id": "a016e70b",
   "metadata": {},
   "outputs": [],
   "source": [
    "reg.set_mode('3d')\n",
    "acc = reg.get_accepted_regions(0.1)\n",
    "{k: len(v) for k, v in acc.items()}"
   ]
  },
  {
   "cell_type": "code",
   "execution_count": null,
   "id": "49e065da",
   "metadata": {},
   "outputs": [],
   "source": [
    "cor3d = acc['cortex-merged']"
   ]
  },
  {
   "cell_type": "code",
   "execution_count": null,
   "id": "8f7966b2",
   "metadata": {},
   "outputs": [],
   "source": [
    "reg.set_mode('2d')\n",
    "acc2 = reg.get_accepted_regions(0.1)\n",
    "{k: len(v) for k, v in acc2.items()}\n",
    "\n",
    "cor2d = acc2['cortex-merged']"
   ]
  },
  {
   "cell_type": "code",
   "execution_count": null,
   "id": "db25c69d",
   "metadata": {},
   "outputs": [],
   "source": [
    "[i for i in cor2d if i not in cor3d]"
   ]
  },
  {
   "cell_type": "code",
   "execution_count": null,
   "id": "41958492",
   "metadata": {},
   "outputs": [],
   "source": []
  },
  {
   "cell_type": "code",
   "execution_count": null,
   "id": "2a2f6e55",
   "metadata": {},
   "outputs": [],
   "source": []
  },
  {
   "cell_type": "code",
   "execution_count": null,
   "id": "45391a0f",
   "metadata": {},
   "outputs": [],
   "source": []
  },
  {
   "cell_type": "code",
   "execution_count": null,
   "id": "fea16cd2",
   "metadata": {},
   "outputs": [],
   "source": []
  },
  {
   "cell_type": "code",
   "execution_count": null,
   "id": "68a8b025",
   "metadata": {},
   "outputs": [],
   "source": [
    "thres = 0.1\n",
    "\n",
    "regions_all = {}\n",
    "for sub in mice.cfg.sub_ids:\n",
    "    for ses in mice.cfg.ses_ids:\n",
    "        key = mice.get_key(sub, ses)\n",
    "        mask = mice.mask3d[key].load_ants('unsigned int')\n",
    "        mask = mask.numpy().astype(bool)\n",
    "        obj = reg.load_obj_masks(key)\n",
    "        x = obj['cortex-merged'].numpy()\n",
    "        x *= mask\n",
    "        regions = np.unique(x[x.nonzero()])\n",
    "        regions_all[key] = sorted(regions)\n",
    "\n",
    "regions_agg = []\n",
    "for item in regions_all.values():\n",
    "    regions_agg += item\n",
    "freq = collections.Counter(regions_agg)\n",
    "freq = {\n",
    "    i: v / len(regions_all)\n",
    "    for i, v in freq.items()\n",
    "}\n",
    "freq = {\n",
    "    i: freq.get(i, 0.0) for i in\n",
    "    mice.parcel.complement(list(freq))\n",
    "}\n",
    "\n",
    "rej = dict(filter(\n",
    "    lambda t: t[1] < thres,\n",
    "    freq.items()\n",
    "))\n",
    "rej = mice.parcel.complement(sorted(rej))\n",
    "acc = [\n",
    "    i for i in freq\n",
    "    if i not in rej\n",
    "]\n",
    "\n",
    "msg = '\\n\\n'\n",
    "msg += f\"Name: {'cortex-merged'} . . . a total of {len(acc)} regions were accepted.\\n\"\n",
    "msg += f\"accept ratio: {100 * len(acc) / len(freq):0.0f} %, \"\n",
    "msg += f\"reject ratio: {100 * len(rej) / len(freq):0.0f} %, \"\n",
    "msg += f\"using a presence threshold of {0.1 * 100} %\\n\"\n",
    "\n",
    "print(msg)"
   ]
  },
  {
   "cell_type": "code",
   "execution_count": null,
   "id": "a19a0add",
   "metadata": {},
   "outputs": [],
   "source": []
  },
  {
   "cell_type": "code",
   "execution_count": null,
   "id": "b02a307a",
   "metadata": {},
   "outputs": [],
   "source": [
    "sns.ecdfplot(freq.values())"
   ]
  },
  {
   "cell_type": "code",
   "execution_count": null,
   "id": "1dc1bf3a",
   "metadata": {},
   "outputs": [],
   "source": []
  },
  {
   "cell_type": "code",
   "execution_count": null,
   "id": "ab6dd4cc",
   "metadata": {},
   "outputs": [],
   "source": []
  },
  {
   "cell_type": "code",
   "execution_count": null,
   "id": "91f686c1",
   "metadata": {},
   "outputs": [],
   "source": []
  },
  {
   "cell_type": "code",
   "execution_count": null,
   "id": "c2a525cb",
   "metadata": {},
   "outputs": [],
   "source": [
    "\n",
    "list(obj)"
   ]
  },
  {
   "cell_type": "code",
   "execution_count": null,
   "id": "5b4aeb71",
   "metadata": {},
   "outputs": [],
   "source": []
  },
  {
   "cell_type": "code",
   "execution_count": null,
   "id": "d1e7a022",
   "metadata": {},
   "outputs": [],
   "source": []
  },
  {
   "cell_type": "code",
   "execution_count": null,
   "id": "6f2de8f2",
   "metadata": {},
   "outputs": [],
   "source": []
  },
  {
   "cell_type": "code",
   "execution_count": null,
   "id": "e2712cfc",
   "metadata": {},
   "outputs": [],
   "source": []
  },
  {
   "cell_type": "code",
   "execution_count": null,
   "id": "7c2bab79",
   "metadata": {},
   "outputs": [],
   "source": [
    "regions_all = {}\n"
   ]
  },
  {
   "cell_type": "code",
   "execution_count": null,
   "id": "6031eb6e",
   "metadata": {},
   "outputs": [],
   "source": []
  },
  {
   "cell_type": "code",
   "execution_count": null,
   "id": "90f7c286",
   "metadata": {},
   "outputs": [],
   "source": []
  },
  {
   "cell_type": "code",
   "execution_count": null,
   "id": "d03a43d8",
   "metadata": {},
   "outputs": [],
   "source": []
  },
  {
   "cell_type": "code",
   "execution_count": null,
   "id": "8309ddfe",
   "metadata": {},
   "outputs": [],
   "source": []
  },
  {
   "cell_type": "code",
   "execution_count": null,
   "id": "d9384d6d",
   "metadata": {},
   "outputs": [],
   "source": []
  },
  {
   "cell_type": "code",
   "execution_count": null,
   "id": "f43fba90",
   "metadata": {},
   "outputs": [],
   "source": []
  },
  {
   "cell_type": "code",
   "execution_count": null,
   "id": "fd4a7a23",
   "metadata": {},
   "outputs": [],
   "source": [
    "from register.register import Register\n",
    "reg = Register(mice)"
   ]
  },
  {
   "cell_type": "code",
   "execution_count": null,
   "id": "37cc7109",
   "metadata": {},
   "outputs": [],
   "source": [
    "reg.register_anat(True)"
   ]
  },
  {
   "cell_type": "code",
   "execution_count": null,
   "id": "cd6efae3",
   "metadata": {},
   "outputs": [],
   "source": [
    "reg.organize_func()"
   ]
  },
  {
   "cell_type": "code",
   "execution_count": null,
   "id": "ec543c02",
   "metadata": {},
   "outputs": [],
   "source": []
  },
  {
   "cell_type": "code",
   "execution_count": null,
   "id": "1515c424",
   "metadata": {},
   "outputs": [],
   "source": []
  },
  {
   "cell_type": "code",
   "execution_count": null,
   "id": "429097f9",
   "metadata": {},
   "outputs": [],
   "source": []
  },
  {
   "cell_type": "code",
   "execution_count": null,
   "id": "d5f52670",
   "metadata": {},
   "outputs": [],
   "source": []
  },
  {
   "cell_type": "code",
   "execution_count": null,
   "id": "25ffd867",
   "metadata": {},
   "outputs": [],
   "source": []
  },
  {
   "cell_type": "code",
   "execution_count": null,
   "id": "0493e2d9",
   "metadata": {},
   "outputs": [],
   "source": [
    "path = '/home/hadi/Documents/workspaces/allen/MouseConnectivity/cortical_coordinates'\n",
    "sorted(os.listdir(path))"
   ]
  },
  {
   "cell_type": "code",
   "execution_count": null,
   "id": "16af978a",
   "metadata": {},
   "outputs": [],
   "source": []
  },
  {
   "cell_type": "code",
   "execution_count": null,
   "id": "c8578659",
   "metadata": {},
   "outputs": [],
   "source": [
    "laplacian, laplacian_header = nrrd.read(pjoin(path, 'laplacian_10.nrrd'))"
   ]
  },
  {
   "cell_type": "code",
   "execution_count": null,
   "id": "6733d1d3",
   "metadata": {},
   "outputs": [],
   "source": [
    "laplacian.shape"
   ]
  },
  {
   "cell_type": "code",
   "execution_count": null,
   "id": "ebca8964",
   "metadata": {},
   "outputs": [],
   "source": [
    "laplacian_header"
   ]
  },
  {
   "cell_type": "code",
   "execution_count": null,
   "id": "cae61196",
   "metadata": {},
   "outputs": [],
   "source": [
    "plt.imshow(laplacian[600], cmap='turbo')"
   ]
  },
  {
   "cell_type": "code",
   "execution_count": null,
   "id": "0ec0a89c",
   "metadata": {},
   "outputs": [],
   "source": []
  },
  {
   "cell_type": "code",
   "execution_count": null,
   "id": "f029fddc",
   "metadata": {},
   "outputs": [],
   "source": [
    "boundary, boundary_header = nrrd.read(pjoin(path, 'isocortex_boundary_10.nrrd'))"
   ]
  },
  {
   "cell_type": "code",
   "execution_count": null,
   "id": "d50af140",
   "metadata": {},
   "outputs": [],
   "source": []
  },
  {
   "cell_type": "code",
   "execution_count": null,
   "id": "2fe4dbd6",
   "metadata": {},
   "outputs": [],
   "source": []
  },
  {
   "cell_type": "code",
   "execution_count": null,
   "id": "c5ef69ac",
   "metadata": {},
   "outputs": [],
   "source": [
    "import h5py"
   ]
  },
  {
   "cell_type": "code",
   "execution_count": null,
   "id": "7f88cbe2",
   "metadata": {},
   "outputs": [],
   "source": [
    "with h5py.File(pjoin(path, 'top_view_paths_10.h5'), 'r') as f:\n",
    "    paths = np.array(f['paths'])\n",
    "    view = np.array(f['view lookup'])\n",
    "paths.shape, view.shape"
   ]
  },
  {
   "cell_type": "code",
   "execution_count": null,
   "id": "0df59b0d",
   "metadata": {},
   "outputs": [],
   "source": [
    "plt.imshow(view)\n",
    "plt.colorbar()"
   ]
  },
  {
   "cell_type": "code",
   "execution_count": null,
   "id": "126fbd91",
   "metadata": {},
   "outputs": [],
   "source": []
  },
  {
   "cell_type": "code",
   "execution_count": null,
   "id": "7ca8d689",
   "metadata": {},
   "outputs": [],
   "source": [
    "with h5py.File(pjoin(path, 'dorsal_flatmap_paths_10.h5'), 'r') as f:\n",
    "    dorsal_paths = np.array(f['paths'])\n",
    "    dorsal_view = np.array(f['view lookup'])\n",
    "dorsal_paths.shape, dorsal_view.shape"
   ]
  },
  {
   "cell_type": "code",
   "execution_count": null,
   "id": "a45a982b",
   "metadata": {},
   "outputs": [],
   "source": [
    "plt.imshow(dorsal_view)"
   ]
  },
  {
   "cell_type": "code",
   "execution_count": null,
   "id": "8e4731e9",
   "metadata": {},
   "outputs": [],
   "source": []
  },
  {
   "cell_type": "code",
   "execution_count": null,
   "id": "c3a56eba",
   "metadata": {},
   "outputs": [],
   "source": []
  },
  {
   "cell_type": "code",
   "execution_count": null,
   "id": "b7af61b9",
   "metadata": {},
   "outputs": [],
   "source": []
  },
  {
   "cell_type": "code",
   "execution_count": null,
   "id": "149841da",
   "metadata": {},
   "outputs": [],
   "source": []
  },
  {
   "cell_type": "code",
   "execution_count": null,
   "id": "0a44201b",
   "metadata": {},
   "outputs": [],
   "source": []
  },
  {
   "cell_type": "code",
   "execution_count": null,
   "id": "78c8ad8b",
   "metadata": {},
   "outputs": [],
   "source": []
  }
 ],
 "metadata": {
  "kernelspec": {
   "display_name": "Python 3",
   "language": "python",
   "name": "python3"
  },
  "language_info": {
   "codemirror_mode": {
    "name": "ipython",
    "version": 3
   },
   "file_extension": ".py",
   "mimetype": "text/x-python",
   "name": "python",
   "nbconvert_exporter": "python",
   "pygments_lexer": "ipython3",
   "version": "3.8.3"
  }
 },
 "nbformat": 4,
 "nbformat_minor": 5
}
