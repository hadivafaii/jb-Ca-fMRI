{
 "cells": [
  {
   "cell_type": "markdown",
   "id": "3111e9ce",
   "metadata": {},
   "source": [
    "# Sep 28th, 2021\n",
    "\n",
    "**Motivation**: 0.1 and 0.2 <br>"
   ]
  },
  {
   "cell_type": "code",
   "execution_count": 1,
   "id": "dc950ace",
   "metadata": {
    "tags": [
     "hide-input"
    ]
   },
   "outputs": [],
   "source": [
    "# HIDE CODE\n",
    "\n",
    "\n",
    "import os\n",
    "import sys\n",
    "import nibabel as nib\n",
    "import networkx as nx\n",
    "from time import time\n",
    "from pprint import pprint\n",
    "from copy import deepcopy as dc\n",
    "from os.path import join as pjoin\n",
    "from myterial import orange, blue_grey\n",
    "from IPython.display import display, IFrame, HTML\n",
    "from matplotlib.colors import rgb2hex, to_rgb\n",
    "import matplotlib.pyplot as plt\n",
    "import seaborn as sns\n",
    "\n",
    "# set style & no interpolalation\n",
    "import matplotlib\n",
    "matplotlib.rcParams['image.interpolation'] = 'none'\n",
    "sns.set_style('whitegrid')\n",
    "\n",
    "# tmp & extras dir\n",
    "git_dir = pjoin(os.environ['HOME'], 'Dropbox/git')\n",
    "tmp_dir = pjoin(git_dir, 'jb-Ca-fMRI/tmp')\n",
    "extras_dir = pjoin(git_dir, 'jb-Ca-fMRI/_extras')\n",
    "lfr_dir = pjoin(os.environ['HOME'], 'Documents/workspaces/lfr/binary_overlapping')\n",
    "\n",
    "\n",
    "# GitHub\n",
    "sys.path.insert(0, pjoin(git_dir, '_Ca-fMRI'))\n",
    "from register.atlas import load_allen, make_tree_graph\n",
    "from register.parcellation import Parcellation\n",
    "from analysis.hierarchical import Hierarchical\n",
    "from analysis.bootstrap import *\n",
    "from analysis.svinet import *\n",
    "from analysis.group import *\n",
    "from analysis.lfr import *\n",
    "from utils.render import *\n",
    "from utils.plotting import *\n",
    "from model.mouse import Mice\n",
    "from model.configuration import Config\n",
    "\n",
    "# warnings\n",
    "import warnings\n",
    "warnings.filterwarnings('ignore', category=DeprecationWarning)"
   ]
  },
  {
   "cell_type": "code",
   "execution_count": 2,
   "id": "4b952627",
   "metadata": {},
   "outputs": [],
   "source": [
    "mice = Mice(Config(32), load_preproc=True)"
   ]
  },
  {
   "cell_type": "code",
   "execution_count": 3,
   "id": "27418706",
   "metadata": {},
   "outputs": [],
   "source": [
    "from register.register import *"
   ]
  },
  {
   "cell_type": "code",
   "execution_count": null,
   "id": "1cac4743",
   "metadata": {},
   "outputs": [],
   "source": []
  },
  {
   "cell_type": "code",
   "execution_count": 4,
   "id": "ab524da6",
   "metadata": {},
   "outputs": [
    {
     "data": {
      "application/vnd.jupyter.widget-view+json": {
       "model_id": "1bd26f30da924ed7b48d05d5d932d16c",
       "version_major": 2,
       "version_minor": 0
      },
      "text/plain": [
       "  0%|          | 0/10 [00:00<?, ?it/s]"
      ]
     },
     "metadata": {},
     "output_type": "display_data"
    },
    {
     "data": {
      "text/html": [
       "<pre style=\"white-space:pre;overflow-x:auto;line-height:normal;font-family:Menlo,'DejaVu Sans Mono',consolas,'Courier New',monospace\">yale-<span style=\"color: #008080; text-decoration-color: #008080; font-weight: bold\">0.</span>1_2_nissl, perf:\n",
       "seed               <span style=\"color: #008080; text-decoration-color: #008080; font-weight: bold\">1</span>\n",
       "type        SyNAggro\n",
       "grad             <span style=\"color: #008080; text-decoration-color: #008080; font-weight: bold\">0.3</span>\n",
       "syn_bin           <span style=\"color: #008080; text-decoration-color: #008080; font-weight: bold\">32</span>\n",
       "aff_bin           <span style=\"color: #008080; text-decoration-color: #008080; font-weight: bold\">13</span>\n",
       "aff_rate         <span style=\"color: #008080; text-decoration-color: #008080; font-weight: bold\">0.8</span>\n",
       "metric           sym\n",
       "score       <span style=\"color: #008080; text-decoration-color: #008080; font-weight: bold\">0.978081</span>\n",
       "\n",
       "</pre>\n"
      ],
      "text/plain": [
       "yale-\u001b[1;36m0.\u001b[0m1_2_nissl, perf:\n",
       "seed               \u001b[1;36m1\u001b[0m\n",
       "type        SyNAggro\n",
       "grad             \u001b[1;36m0.3\u001b[0m\n",
       "syn_bin           \u001b[1;36m32\u001b[0m\n",
       "aff_bin           \u001b[1;36m13\u001b[0m\n",
       "aff_rate         \u001b[1;36m0.8\u001b[0m\n",
       "metric           sym\n",
       "score       \u001b[1;36m0.978081\u001b[0m\n",
       "\n"
      ]
     },
     "metadata": {},
     "output_type": "display_data"
    },
    {
     "data": {
      "application/vnd.jupyter.widget-view+json": {
       "model_id": "eb8b2e1a3af84ae78382901662827d67",
       "version_major": 2,
       "version_minor": 0
      },
      "text/plain": [
       "  0%|          | 0/10 [00:00<?, ?it/s]"
      ]
     },
     "metadata": {},
     "output_type": "display_data"
    },
    {
     "data": {
      "text/html": [
       "<pre style=\"white-space:pre;overflow-x:auto;line-height:normal;font-family:Menlo,'DejaVu Sans Mono',consolas,'Courier New',monospace\">yale-<span style=\"color: #008080; text-decoration-color: #008080; font-weight: bold\">0.</span>2_2_nissl, perf:\n",
       "seed               <span style=\"color: #008080; text-decoration-color: #008080; font-weight: bold\">2</span>\n",
       "type        SyNAggro\n",
       "grad             <span style=\"color: #008080; text-decoration-color: #008080; font-weight: bold\">0.3</span>\n",
       "syn_bin           <span style=\"color: #008080; text-decoration-color: #008080; font-weight: bold\">32</span>\n",
       "aff_bin           <span style=\"color: #008080; text-decoration-color: #008080; font-weight: bold\">20</span>\n",
       "aff_rate         <span style=\"color: #008080; text-decoration-color: #008080; font-weight: bold\">0.2</span>\n",
       "metric           sym\n",
       "score       <span style=\"color: #008080; text-decoration-color: #008080; font-weight: bold\">0.978908</span>\n",
       "\n",
       "</pre>\n"
      ],
      "text/plain": [
       "yale-\u001b[1;36m0.\u001b[0m2_2_nissl, perf:\n",
       "seed               \u001b[1;36m2\u001b[0m\n",
       "type        SyNAggro\n",
       "grad             \u001b[1;36m0.3\u001b[0m\n",
       "syn_bin           \u001b[1;36m32\u001b[0m\n",
       "aff_bin           \u001b[1;36m20\u001b[0m\n",
       "aff_rate         \u001b[1;36m0.2\u001b[0m\n",
       "metric           sym\n",
       "score       \u001b[1;36m0.978908\u001b[0m\n",
       "\n"
      ]
     },
     "metadata": {},
     "output_type": "display_data"
    }
   ],
   "source": [
    "for resolution in [100, 200]:\n",
    "    reg = Register(mice, resolution=resolution)\n",
    "\n",
    "    df_tx, best_tx, perf = reg.fit_register(\n",
    "        mode='3d',\n",
    "        name=f'yale-{resolution/1000}_2_nissl',\n",
    "        fixed=reg.nissl,\n",
    "        moving=reg.in_house,\n",
    "        save_results=False,\n",
    "        types=['SyN', 'ElasticSyN', 'SyNAggro'],\n",
    "        grads=[0.2, 0.25, 0.3],\n",
    "        syn_bins=[16, 32],\n",
    "        aff_bins=[13, 20, 32],\n",
    "        aff_rates=[0.2, 0.8],\n",
    "        n_seeds=10,\n",
    "        mi_q=0.75,\n",
    "    )\n",
    "    df_tx.drop('tx', axis=1).to_pickle(f\"./sep28/yale-{resolution/1000}.df\")\n",
    "    iso_yale = ants.apply_transforms(\n",
    "        fixed=reg.in_house,\n",
    "        moving=reg.objects['ISO'],\n",
    "        transformlist=best_tx['invtransforms'],\n",
    "        interpolator='genericLabel',\n",
    "    )\n",
    "    vis_yale = ants.apply_transforms(\n",
    "        fixed=reg.in_house,\n",
    "        moving=reg.objects['VIS'],\n",
    "        transformlist=best_tx['invtransforms'],\n",
    "        interpolator='genericLabel',\n",
    "    )\n",
    "    ants.image_write(iso_yale, f\"./sep28/iso_yale-{resolution/1000}_Best.nii.gz\")\n",
    "    ants.image_write(vis_yale, f\"./sep28/vis_yale-{resolution/1000}_Best.nii.gz\")\n",
    "    ants.image_write(reg.in_house, f\"./sep28/yale-{resolution/1000}.nii.gz\")\n",
    "    \n",
    "    for axis in range(3):\n",
    "        reg.in_house.plot(\n",
    "            overlay=iso_yale,\n",
    "            overlay_cmap='Reds',\n",
    "            overlay_alpha=0.5,\n",
    "            axis=axis,\n",
    "            nslices=49,\n",
    "            filename=f\"./sep28/yale-{resolution/1000}_Best_axis{axis}.png\",\n",
    "        )"
   ]
  },
  {
   "cell_type": "code",
   "execution_count": null,
   "id": "9d11b213",
   "metadata": {},
   "outputs": [],
   "source": []
  },
  {
   "cell_type": "code",
   "execution_count": 6,
   "id": "26cb9c57",
   "metadata": {},
   "outputs": [],
   "source": [
    "import nrrd"
   ]
  },
  {
   "cell_type": "code",
   "execution_count": 15,
   "id": "09df3c0e",
   "metadata": {},
   "outputs": [
    {
     "data": {
      "text/html": [
       "<pre style=\"white-space:pre;overflow-x:auto;line-height:normal;font-family:Menlo,'DejaVu Sans Mono',consolas,'Courier New',monospace\"><span style=\"font-weight: bold\">(</span><span style=\"color: #008080; text-decoration-color: #008080; font-weight: bold\">132</span>, <span style=\"color: #008080; text-decoration-color: #008080; font-weight: bold\">80</span>, <span style=\"color: #008080; text-decoration-color: #008080; font-weight: bold\">114</span><span style=\"font-weight: bold\">)</span>\n",
       "</pre>\n"
      ],
      "text/plain": [
       "\u001b[1m(\u001b[0m\u001b[1;36m132\u001b[0m, \u001b[1;36m80\u001b[0m, \u001b[1;36m114\u001b[0m\u001b[1m)\u001b[0m\n"
      ]
     },
     "metadata": {},
     "output_type": "display_data"
    }
   ],
   "source": [
    "annot, header = nrrd.read('./annotation_100.nrrd')\n",
    "annot.shape"
   ]
  },
  {
   "cell_type": "code",
   "execution_count": 16,
   "id": "8208f95c",
   "metadata": {},
   "outputs": [],
   "source": [
    "annot = reg.img_in_ccf(annot, 'uint32')\n",
    "ants.image_write(annot, f\"./annot.nii.gz\")"
   ]
  },
  {
   "cell_type": "code",
   "execution_count": null,
   "id": "1b21e5bb",
   "metadata": {},
   "outputs": [],
   "source": []
  },
  {
   "cell_type": "code",
   "execution_count": null,
   "id": "cf818c58",
   "metadata": {},
   "outputs": [],
   "source": []
  }
 ],
 "metadata": {
  "kernelspec": {
   "display_name": "Python 3",
   "language": "python",
   "name": "python3"
  },
  "language_info": {
   "codemirror_mode": {
    "name": "ipython",
    "version": 3
   },
   "file_extension": ".py",
   "mimetype": "text/x-python",
   "name": "python",
   "nbconvert_exporter": "python",
   "pygments_lexer": "ipython3",
   "version": "3.8.3"
  }
 },
 "nbformat": 4,
 "nbformat_minor": 5
}
