{
 "cells": [
  {
   "cell_type": "markdown",
   "id": "246d3ff3",
   "metadata": {},
   "source": [
    "# Aug ??st, 2021\n",
    "\n",
    "**Motivation**: fig 2 <br>"
   ]
  },
  {
   "cell_type": "code",
   "execution_count": 1,
   "id": "0210c1ea",
   "metadata": {
    "tags": [
     "hide-input"
    ]
   },
   "outputs": [],
   "source": [
    "# HIDE CODE\n",
    "\n",
    "\n",
    "import os\n",
    "import sys\n",
    "import nibabel as nib\n",
    "import networkx as nx\n",
    "from time import time\n",
    "from pprint import pprint\n",
    "from copy import deepcopy as dc\n",
    "from os.path import join as pjoin\n",
    "from myterial import orange, blue_grey\n",
    "from IPython.display import display, IFrame, HTML\n",
    "from matplotlib.colors import rgb2hex, to_rgb\n",
    "import matplotlib.pyplot as plt\n",
    "import seaborn as sns\n",
    "\n",
    "# set style & no interpolalation\n",
    "import matplotlib\n",
    "matplotlib.rcParams['image.interpolation'] = 'none'\n",
    "sns.set_style('whitegrid')\n",
    "\n",
    "# tmp & extras dir\n",
    "git_dir = pjoin(os.environ['HOME'], 'Dropbox/git')\n",
    "tmp_dir = pjoin(git_dir, 'jb-Ca-fMRI/tmp')\n",
    "extras_dir = pjoin(git_dir, 'jb-Ca-fMRI/_extras')\n",
    "lfr_dir = pjoin(os.environ['HOME'], 'Documents/workspaces/lfr/binary_overlapping')\n",
    "\n",
    "\n",
    "# GitHub\n",
    "sys.path.insert(0, pjoin(git_dir, '_Ca-fMRI'))\n",
    "from register.atlas import load_allen, make_tree_graph\n",
    "from register.parcellation import Parcellation\n",
    "from analysis.hierarchical import Hierarchical\n",
    "from analysis.bootstrap import *\n",
    "from analysis.svinet import *\n",
    "from analysis.group import *\n",
    "from analysis.lfr import *\n",
    "from utils.render import *\n",
    "from utils.plotting import *\n",
    "from model.mouse import Mice\n",
    "from model.configuration import Config\n",
    "\n",
    "# warnings\n",
    "import warnings\n",
    "warnings.filterwarnings('ignore', category=DeprecationWarning)"
   ]
  },
  {
   "cell_type": "markdown",
   "id": "7d9fc146",
   "metadata": {},
   "source": [
    "## Mice"
   ]
  },
  {
   "cell_type": "code",
   "execution_count": 2,
   "id": "5578bbd7",
   "metadata": {},
   "outputs": [],
   "source": [
    "svinet_props = {\n",
    "    'task': 'rest',\n",
    "    'mode': 'bold',\n",
    "    'metric': 'pearson',\n",
    "    'match_metric': 'euclidean',\n",
    "    'graph_type': 'real',\n",
    "}\n",
    "mice = Mice(Config(128))\n",
    "mice.combine_dfs(svinet_props.get('task', 'rest'), full=True)"
   ]
  },
  {
   "cell_type": "code",
   "execution_count": 3,
   "id": "aa49377e",
   "metadata": {},
   "outputs": [
    {
     "data": {
      "text/html": [
       "<pre style=\"white-space:pre;overflow-x:auto;line-height:normal;font-family:Menlo,'DejaVu Sans Mono',consolas,'Courier New',monospace\">current expt: <span style=\"color: #008000; text-decoration-color: #008000\">'p20'</span>\n",
       "</pre>\n"
      ],
      "text/plain": [
       "current expt: \u001b[32m'p20'\u001b[0m\n"
      ]
     },
     "metadata": {},
     "output_type": "display_data"
    },
    {
     "data": {
      "text/html": [
       "<pre style=\"white-space:pre;overflow-x:auto;line-height:normal;font-family:Menlo,'DejaVu Sans Mono',consolas,'Courier New',monospace\"><span style=\"color: #800080; text-decoration-color: #800080\">/home/hadi/Documents/Ca-fMRI/processed/norm-global_parcel-spatial-sym_n-128/results/SVINET/gr</span>\n",
       "<span style=\"color: #800080; text-decoration-color: #800080\">oup_results/</span><span style=\"color: #ff00ff; text-decoration-color: #ff00ff\">real-p20-k12</span>\n",
       "</pre>\n"
      ],
      "text/plain": [
       "\u001b[35m/home/hadi/Documents/Ca-fMRI/processed/norm-global_parcel-spatial-sym_n-128/results/SVINET/gr\u001b[0m\n",
       "\u001b[35moup_results/\u001b[0m\u001b[95mreal-p20-k12\u001b[0m\n"
      ]
     },
     "metadata": {},
     "output_type": "display_data"
    }
   ],
   "source": [
    "k = 12\n",
    "p = 20\n",
    "svinet = SVINET(mice, k, p, 'sub-SLC')\n",
    "group_dir = get_svinet_group_dir(\n",
    "    results_dir=mice.cfg.results_dir,\n",
    "    k=k,\n",
    "    p=p,\n",
    "    graph_type=svinet_props.get('graph_type', 'real'),\n",
    ")\n",
    "print(group_dir)"
   ]
  },
  {
   "cell_type": "code",
   "execution_count": null,
   "id": "0c8d15e3",
   "metadata": {},
   "outputs": [],
   "source": []
  },
  {
   "cell_type": "code",
   "execution_count": 4,
   "id": "098d66c4",
   "metadata": {},
   "outputs": [
    {
     "name": "stdout",
     "output_type": "stream",
     "text": [
      "allen mouse atlas (res. 100um)\n",
      "From: http://www.brain-map.org (Wang et al 2020, https://doi.org/10.1016/j.cell.2020.04.007 )\n"
     ]
    }
   ],
   "source": [
    "from register.atlas import get_subtree, included_intersect_tables\n",
    "tree = load_bg_atlas().hierarchy"
   ]
  },
  {
   "cell_type": "code",
   "execution_count": null,
   "id": "76c1ca03",
   "metadata": {},
   "outputs": [],
   "source": []
  },
  {
   "cell_type": "code",
   "execution_count": 5,
   "id": "a52fe679",
   "metadata": {},
   "outputs": [
    {
     "name": "stdout",
     "output_type": "stream",
     "text": [
      "grey (8)\n",
      "├── BS (343)\n",
      "│   ├── HB (1065)\n",
      "│   ├── IB (1129)\n",
      "│   └── MB (313)\n",
      "├── CB (512)\n",
      "│   ├── CBN (519)\n",
      "│   └── CBX (528)\n",
      "└── CH (567)\n",
      "    ├── CNU (623)\n",
      "    └── CTX (688)\n",
      "\n"
     ]
    }
   ],
   "source": [
    "_ = get_subtree(\n",
    "    tree,\n",
    "    base_id=8,\n",
    "    n_levels=3,\n",
    "    show=True,\n",
    ")"
   ]
  },
  {
   "cell_type": "code",
   "execution_count": 6,
   "id": "ce8e9550",
   "metadata": {},
   "outputs": [
    {
     "name": "stdout",
     "output_type": "stream",
     "text": [
      "CH (567)\n",
      "├── CNU (623)\n",
      "│   ├── PAL (803)\n",
      "│   │   ├── PALc (809)\n",
      "│   │   ├── PALd (818)\n",
      "│   │   ├── PALm (826)\n",
      "│   │   └── PALv (835)\n",
      "│   └── STR (477)\n",
      "│       ├── LSX (275)\n",
      "│       ├── STRd (485)\n",
      "│       ├── STRv (493)\n",
      "│       └── sAMY (278)\n",
      "└── CTX (688)\n",
      "    ├── CTXpl (695)\n",
      "    │   ├── HPF (1089)\n",
      "    │   ├── Isocortex (315)\n",
      "    │   └── OLF (698)\n",
      "    └── CTXsp (703)\n",
      "        ├── BLA (295)\n",
      "        ├── BMA (319)\n",
      "        ├── CLA (583)\n",
      "        ├── EP (942)\n",
      "        ├── LA (131)\n",
      "        └── PA (780)\n",
      "\n"
     ]
    }
   ],
   "source": [
    "_ = get_subtree(\n",
    "    tree,\n",
    "    base_id=567,\n",
    "    n_levels=4,\n",
    "    show=True,\n",
    ")"
   ]
  },
  {
   "cell_type": "code",
   "execution_count": null,
   "id": "e9fc3e34",
   "metadata": {},
   "outputs": [],
   "source": []
  },
  {
   "cell_type": "code",
   "execution_count": 7,
   "id": "ca0bef04",
   "metadata": {},
   "outputs": [
    {
     "name": "stdout",
     "output_type": "stream",
     "text": [
      "Isocortex (315)\n",
      "├── ACA (31)\n",
      "├── AI (95)\n",
      "├── AUD (247)\n",
      "├── ECT (895)\n",
      "├── FRP (184)\n",
      "├── GU (1057)\n",
      "├── ILA (44)\n",
      "├── MO (500)\n",
      "├── ORB (714)\n",
      "├── PERI (922)\n",
      "├── PL (972)\n",
      "├── PTLp (22)\n",
      "├── RSP (254)\n",
      "├── SS (453)\n",
      "├── TEa (541)\n",
      "├── VIS (669)\n",
      "└── VISC (677)\n",
      "\n"
     ]
    }
   ],
   "source": [
    "cortex_subtree, base_lvl = get_subtree(\n",
    "    tree,\n",
    "    base_id=315,\n",
    "    n_levels=2,\n",
    "    show=True,\n",
    ")"
   ]
  },
  {
   "cell_type": "code",
   "execution_count": null,
   "id": "3278beb5",
   "metadata": {},
   "outputs": [],
   "source": []
  },
  {
   "cell_type": "code",
   "execution_count": 8,
   "id": "1795f7b7",
   "metadata": {},
   "outputs": [
    {
     "data": {
      "text/html": [
       "<pre style=\"white-space:pre;overflow-x:auto;line-height:normal;font-family:Menlo,'DejaVu Sans Mono',consolas,'Courier New',monospace\"><span style=\"font-weight: bold\">[</span>\n",
       "    <span style=\"color: #008000; text-decoration-color: #008000\">'allcell_xilin_grand28_flip_symm.nii.gz'</span>,\n",
       "    <span style=\"color: #008000; text-decoration-color: #008000\">'mouseatlas_2020.json'</span>,\n",
       "    <span style=\"color: #008000; text-decoration-color: #008000\">'N162_medium_symm_0.2.nii.gz'</span>,\n",
       "    <span style=\"color: #008000; text-decoration-color: #008000\">'N162_finesc_symm_0.2.nii.gz'</span>,\n",
       "    <span style=\"color: #008000; text-decoration-color: #008000\">'N162_coarse_symm_0.2.nii.gz'</span>\n",
       "<span style=\"font-weight: bold\">]</span>\n",
       "</pre>\n"
      ],
      "text/plain": [
       "\u001b[1m[\u001b[0m\n",
       "    \u001b[32m'allcell_xilin_grand28_flip_symm.nii.gz'\u001b[0m,\n",
       "    \u001b[32m'mouseatlas_2020.json'\u001b[0m,\n",
       "    \u001b[32m'N162_medium_symm_0.2.nii.gz'\u001b[0m,\n",
       "    \u001b[32m'N162_finesc_symm_0.2.nii.gz'\u001b[0m,\n",
       "    \u001b[32m'N162_coarse_symm_0.2.nii.gz'\u001b[0m\n",
       "\u001b[1m]\u001b[0m\n"
      ]
     },
     "metadata": {},
     "output_type": "display_data"
    }
   ],
   "source": [
    "_dir = '/home/hadi/Downloads/xilin'\n",
    "os.listdir(_dir)"
   ]
  },
  {
   "cell_type": "code",
   "execution_count": 101,
   "id": "18be0c9e",
   "metadata": {},
   "outputs": [],
   "source": [
    "import json\n",
    "\n",
    "with open(pjoin(_dir, 'mouseatlas_2020.json'), 'r') as f:\n",
    "    atlas = json.load(f)"
   ]
  },
  {
   "cell_type": "code",
   "execution_count": 102,
   "id": "0258f017",
   "metadata": {},
   "outputs": [
    {
     "data": {
      "text/html": [
       "<pre style=\"white-space:pre;overflow-x:auto;line-height:normal;font-family:Menlo,'DejaVu Sans Mono',consolas,'Courier New',monospace\"><span style=\"color: #008000; text-decoration-color: #008000\">'Mid-60'</span>\n",
       "</pre>\n"
      ],
      "text/plain": [
       "\u001b[32m'Mid-60'\u001b[0m\n"
      ]
     },
     "metadata": {},
     "output_type": "display_data"
    }
   ],
   "source": [
    "atlas['labels']['data'][1]['name']"
   ]
  },
  {
   "cell_type": "code",
   "execution_count": 103,
   "id": "43b60677",
   "metadata": {},
   "outputs": [
    {
     "data": {
      "text/html": [
       "<pre style=\"white-space:pre;overflow-x:auto;line-height:normal;font-family:Menlo,'DejaVu Sans Mono',consolas,'Courier New',monospace\"><span style=\"font-weight: bold\">{</span>\n",
       "    <span style=\"color: #008000; text-decoration-color: #008000\">'1'</span>: <span style=\"color: #008000; text-decoration-color: #008000\">'R-Frontal pole, cerebral cortex (FRP,184)'</span>,\n",
       "    <span style=\"color: #008000; text-decoration-color: #008000\">'2'</span>: <span style=\"color: #008000; text-decoration-color: #008000\">'R-Somatomotor areas (MO,500)'</span>,\n",
       "    <span style=\"color: #008000; text-decoration-color: #008000\">'3'</span>: <span style=\"color: #008000; text-decoration-color: #008000\">'R-Somatosensory areas (SS,453)'</span>,\n",
       "    <span style=\"color: #008000; text-decoration-color: #008000\">'4'</span>: <span style=\"color: #008000; text-decoration-color: #008000\">'R-Gustatory areas (GU,1057)'</span>,\n",
       "    <span style=\"color: #008000; text-decoration-color: #008000\">'5'</span>: <span style=\"color: #008000; text-decoration-color: #008000\">'R-Visceral area (VISC,677)'</span>,\n",
       "    <span style=\"color: #008000; text-decoration-color: #008000\">'6'</span>: <span style=\"color: #008000; text-decoration-color: #008000\">'R-Auditory areas (AUD,247)'</span>,\n",
       "    <span style=\"color: #008000; text-decoration-color: #008000\">'7'</span>: <span style=\"color: #008000; text-decoration-color: #008000\">'R-Visual areas (VIS,669)'</span>,\n",
       "    <span style=\"color: #008000; text-decoration-color: #008000\">'8'</span>: <span style=\"color: #008000; text-decoration-color: #008000\">'R-Anterior cingulate area (ACA,31)'</span>,\n",
       "    <span style=\"color: #008000; text-decoration-color: #008000\">'9'</span>: <span style=\"color: #008000; text-decoration-color: #008000\">'R-Prelimbic area (PL,972)'</span>,\n",
       "    <span style=\"color: #008000; text-decoration-color: #008000\">'10'</span>: <span style=\"color: #008000; text-decoration-color: #008000\">'R-Infralimbic area (ILA,44)'</span>,\n",
       "    <span style=\"color: #008000; text-decoration-color: #008000\">'11'</span>: <span style=\"color: #008000; text-decoration-color: #008000\">'R-Orbital area (ORB,714)'</span>,\n",
       "    <span style=\"color: #008000; text-decoration-color: #008000\">'12'</span>: <span style=\"color: #008000; text-decoration-color: #008000\">'R-Agranular insular area (AI,95)'</span>,\n",
       "    <span style=\"color: #008000; text-decoration-color: #008000\">'13'</span>: <span style=\"color: #008000; text-decoration-color: #008000\">'R-Retrosplenial area (RSP,254)'</span>,\n",
       "    <span style=\"color: #008000; text-decoration-color: #008000\">'14'</span>: <span style=\"color: #008000; text-decoration-color: #008000\">'R-Posterior parietal association areas (PTLp,22)'</span>,\n",
       "    <span style=\"color: #008000; text-decoration-color: #008000\">'15'</span>: <span style=\"color: #008000; text-decoration-color: #008000\">'R-Temporal association areas (TEa,541)'</span>,\n",
       "    <span style=\"color: #008000; text-decoration-color: #008000\">'16'</span>: <span style=\"color: #008000; text-decoration-color: #008000\">'R-Perirhinal area (PERI,922)'</span>,\n",
       "    <span style=\"color: #008000; text-decoration-color: #008000\">'17'</span>: <span style=\"color: #008000; text-decoration-color: #008000\">'R-Ectorhinal area (ECT,895)'</span>,\n",
       "    <span style=\"color: #008000; text-decoration-color: #008000\">'18'</span>: <span style=\"color: #008000; text-decoration-color: #008000\">'R-Main olfactory bulb (MOB,507)'</span>,\n",
       "    <span style=\"color: #008000; text-decoration-color: #008000\">'19'</span>: <span style=\"color: #008000; text-decoration-color: #008000\">'R-Accessory olfactory bulb (AOB,151)'</span>,\n",
       "    <span style=\"color: #008000; text-decoration-color: #008000\">'20'</span>: <span style=\"color: #008000; text-decoration-color: #008000\">'R-Anterior olfactory nucleus (AON,159)'</span>,\n",
       "    <span style=\"color: #008000; text-decoration-color: #008000\">'21'</span>: <span style=\"color: #008000; text-decoration-color: #008000\">'R-Taenia tecta (TT,589)'</span>,\n",
       "    <span style=\"color: #008000; text-decoration-color: #008000\">'22'</span>: <span style=\"color: #008000; text-decoration-color: #008000\">'R-Dorsal peduncular area (DP,814)'</span>,\n",
       "    <span style=\"color: #008000; text-decoration-color: #008000\">'23'</span>: <span style=\"color: #008000; text-decoration-color: #008000\">'R-Piriform area (PIR,961)'</span>,\n",
       "    <span style=\"color: #008000; text-decoration-color: #008000\">'24'</span>: <span style=\"color: #008000; text-decoration-color: #008000\">'R-Nucleus of the lateral olfactory tract (NLOT,619)'</span>,\n",
       "    <span style=\"color: #008000; text-decoration-color: #008000\">'25'</span>: <span style=\"color: #008000; text-decoration-color: #008000\">'R-Cortical amygdalar area (COA,631)'</span>,\n",
       "    <span style=\"color: #008000; text-decoration-color: #008000\">'26'</span>: <span style=\"color: #008000; text-decoration-color: #008000\">'R-Piriform-amygdalar area (PAA,788)'</span>,\n",
       "    <span style=\"color: #008000; text-decoration-color: #008000\">'27'</span>: <span style=\"color: #008000; text-decoration-color: #008000\">'R-Postpiriform transition area (TR,566)'</span>,\n",
       "    <span style=\"color: #008000; text-decoration-color: #008000\">'28'</span>: <span style=\"color: #008000; text-decoration-color: #008000\">'R-Hippocampal region (HIP,1080)'</span>,\n",
       "    <span style=\"color: #008000; text-decoration-color: #008000\">'29'</span>: <span style=\"color: #008000; text-decoration-color: #008000\">'R-Retrohippocampal region (RHP,822)'</span>,\n",
       "    <span style=\"color: #008000; text-decoration-color: #008000\">'30'</span>: <span style=\"color: #008000; text-decoration-color: #008000\">'R-Claustrum (CLA,583)'</span>,\n",
       "    <span style=\"color: #008000; text-decoration-color: #008000\">'31'</span>: <span style=\"color: #008000; text-decoration-color: #008000\">'R-Endopiriform nucleus (EP,942)'</span>,\n",
       "    <span style=\"color: #008000; text-decoration-color: #008000\">'32'</span>: <span style=\"color: #008000; text-decoration-color: #008000\">'R-Lateral amygdalar nucleus (LA,131)'</span>,\n",
       "    <span style=\"color: #008000; text-decoration-color: #008000\">'33'</span>: <span style=\"color: #008000; text-decoration-color: #008000\">'R-Basolateral amygdalar nucleus (BLA,295)'</span>,\n",
       "    <span style=\"color: #008000; text-decoration-color: #008000\">'34'</span>: <span style=\"color: #008000; text-decoration-color: #008000\">'R-Basomedial amygdalar nucleus (BMA,319)'</span>,\n",
       "    <span style=\"color: #008000; text-decoration-color: #008000\">'35'</span>: <span style=\"color: #008000; text-decoration-color: #008000\">'R-Posterior amygdalar nucleus (PA,780)'</span>,\n",
       "    <span style=\"color: #008000; text-decoration-color: #008000\">'36'</span>: <span style=\"color: #008000; text-decoration-color: #008000\">'R-Striatum dorsal region (STRd,485)'</span>,\n",
       "    <span style=\"color: #008000; text-decoration-color: #008000\">'37'</span>: <span style=\"color: #008000; text-decoration-color: #008000\">'R-Striatum ventral region (STRv,493)'</span>,\n",
       "    <span style=\"color: #008000; text-decoration-color: #008000\">'38'</span>: <span style=\"color: #008000; text-decoration-color: #008000\">'R-Lateral septal complex (LSX,275)'</span>,\n",
       "    <span style=\"color: #008000; text-decoration-color: #008000\">'39'</span>: <span style=\"color: #008000; text-decoration-color: #008000\">'R-Striatum-like amygdalar nuclei (sAMY,278)'</span>,\n",
       "    <span style=\"color: #008000; text-decoration-color: #008000\">'40'</span>: <span style=\"color: #008000; text-decoration-color: #008000\">'R-Pallidum, dorsal region (PALd,818)'</span>,\n",
       "    <span style=\"color: #008000; text-decoration-color: #008000\">'41'</span>: <span style=\"color: #008000; text-decoration-color: #008000\">'R-Pallidum, ventral region (PALv,835)'</span>,\n",
       "    <span style=\"color: #008000; text-decoration-color: #008000\">'42'</span>: <span style=\"color: #008000; text-decoration-color: #008000\">'R-Pallidum, medial region (PALm,826)'</span>,\n",
       "    <span style=\"color: #008000; text-decoration-color: #008000\">'43'</span>: <span style=\"color: #008000; text-decoration-color: #008000\">'R-Pallidum, caudal region (PALc,809)'</span>,\n",
       "    <span style=\"color: #008000; text-decoration-color: #008000\">'44'</span>: <span style=\"color: #008000; text-decoration-color: #008000\">'R-Thalamus, sensory-motor cortex related (DORsm,864)'</span>,\n",
       "    <span style=\"color: #008000; text-decoration-color: #008000\">'45'</span>: <span style=\"color: #008000; text-decoration-color: #008000\">'R-Thalamus, polymodal association cortex related (DORpm,856)'</span>,\n",
       "    <span style=\"color: #008000; text-decoration-color: #008000\">'46'</span>: <span style=\"color: #008000; text-decoration-color: #008000\">'R-Periventricular zone (PVZ,157)'</span>,\n",
       "    <span style=\"color: #008000; text-decoration-color: #008000\">'47'</span>: <span style=\"color: #008000; text-decoration-color: #008000\">'R-Periventricular region (PVR,141)'</span>,\n",
       "    <span style=\"color: #008000; text-decoration-color: #008000\">'48'</span>: <span style=\"color: #008000; text-decoration-color: #008000\">'R-Hypothalamic medial zone (MEZ,467)'</span>,\n",
       "    <span style=\"color: #008000; text-decoration-color: #008000\">'49'</span>: <span style=\"color: #008000; text-decoration-color: #008000\">'R-Hypothalamic lateral zone (LZ,290)'</span>,\n",
       "    <span style=\"color: #008000; text-decoration-color: #008000\">'50'</span>: <span style=\"color: #008000; text-decoration-color: #008000\">'R-Midbrain, sensory related (MBsen,339)'</span>,\n",
       "    <span style=\"color: #008000; text-decoration-color: #008000\">'51'</span>: <span style=\"color: #008000; text-decoration-color: #008000\">'R-Midbrain, motor related (MBmot,323)'</span>,\n",
       "    <span style=\"color: #008000; text-decoration-color: #008000\">'52'</span>: <span style=\"color: #008000; text-decoration-color: #008000\">'R-Midbrain, behavioral state related (MBsta,348)'</span>,\n",
       "    <span style=\"color: #008000; text-decoration-color: #008000\">'53'</span>: <span style=\"color: #008000; text-decoration-color: #008000\">'R-Pons, sensory related (P-sen,1132)'</span>,\n",
       "    <span style=\"color: #008000; text-decoration-color: #008000\">'54'</span>: <span style=\"color: #008000; text-decoration-color: #008000\">'R-Pons, motor related (P-mot,987)'</span>,\n",
       "    <span style=\"color: #008000; text-decoration-color: #008000\">'55'</span>: <span style=\"color: #008000; text-decoration-color: #008000\">'R-Pons, behavioral state related (P-sat,1117)'</span>,\n",
       "    <span style=\"color: #008000; text-decoration-color: #008000\">'56'</span>: <span style=\"color: #008000; text-decoration-color: #008000\">'R-Medulla, sensory related (MY-sen,386)'</span>,\n",
       "    <span style=\"color: #008000; text-decoration-color: #008000\">'57'</span>: <span style=\"color: #008000; text-decoration-color: #008000\">'R-Medulla, motor related (MY-mot,370)'</span>,\n",
       "    <span style=\"color: #008000; text-decoration-color: #008000\">'58'</span>: <span style=\"color: #008000; text-decoration-color: #008000\">'R-Medulla, behavioral state related (MY-sat,379)'</span>,\n",
       "    <span style=\"color: #008000; text-decoration-color: #008000\">'59'</span>: <span style=\"color: #008000; text-decoration-color: #008000\">'R-Cerebellar cortex (CBX,528)'</span>,\n",
       "    <span style=\"color: #008000; text-decoration-color: #008000\">'60'</span>: <span style=\"color: #008000; text-decoration-color: #008000\">'R-Cerebellar nuclei (CBN,519)'</span>,\n",
       "    <span style=\"color: #008000; text-decoration-color: #008000\">'101'</span>: <span style=\"color: #008000; text-decoration-color: #008000\">'L-Frontal pole, cerebral cortex (FRP,184)'</span>,\n",
       "    <span style=\"color: #008000; text-decoration-color: #008000\">'102'</span>: <span style=\"color: #008000; text-decoration-color: #008000\">'L-Somatomotor areas (MO,500)'</span>,\n",
       "    <span style=\"color: #008000; text-decoration-color: #008000\">'103'</span>: <span style=\"color: #008000; text-decoration-color: #008000\">'L-Somatosensory areas (SS,453)'</span>,\n",
       "    <span style=\"color: #008000; text-decoration-color: #008000\">'104'</span>: <span style=\"color: #008000; text-decoration-color: #008000\">'L-Gustatory areas (GU,1057)'</span>,\n",
       "    <span style=\"color: #008000; text-decoration-color: #008000\">'105'</span>: <span style=\"color: #008000; text-decoration-color: #008000\">'L-Visceral area (VISC,677)'</span>,\n",
       "    <span style=\"color: #008000; text-decoration-color: #008000\">'106'</span>: <span style=\"color: #008000; text-decoration-color: #008000\">'L-Auditory areas (AUD,247)'</span>,\n",
       "    <span style=\"color: #008000; text-decoration-color: #008000\">'107'</span>: <span style=\"color: #008000; text-decoration-color: #008000\">'L-Visual areas (VIS,669)'</span>,\n",
       "    <span style=\"color: #008000; text-decoration-color: #008000\">'108'</span>: <span style=\"color: #008000; text-decoration-color: #008000\">'L-Anterior cingulate area (ACA,31)'</span>,\n",
       "    <span style=\"color: #008000; text-decoration-color: #008000\">'109'</span>: <span style=\"color: #008000; text-decoration-color: #008000\">'L-Prelimbic area (PL,972)'</span>,\n",
       "    <span style=\"color: #008000; text-decoration-color: #008000\">'110'</span>: <span style=\"color: #008000; text-decoration-color: #008000\">'L-Infralimbic area (ILA,44)'</span>,\n",
       "    <span style=\"color: #008000; text-decoration-color: #008000\">'111'</span>: <span style=\"color: #008000; text-decoration-color: #008000\">'L-Orbital area (ORB,714)'</span>,\n",
       "    <span style=\"color: #008000; text-decoration-color: #008000\">'112'</span>: <span style=\"color: #008000; text-decoration-color: #008000\">'L-Agranular insular area (AI,95)'</span>,\n",
       "    <span style=\"color: #008000; text-decoration-color: #008000\">'113'</span>: <span style=\"color: #008000; text-decoration-color: #008000\">'L-Retrosplenial area (RSP,254)'</span>,\n",
       "    <span style=\"color: #008000; text-decoration-color: #008000\">'114'</span>: <span style=\"color: #008000; text-decoration-color: #008000\">'L-Posterior parietal association areas (PTLp,22)'</span>,\n",
       "    <span style=\"color: #008000; text-decoration-color: #008000\">'115'</span>: <span style=\"color: #008000; text-decoration-color: #008000\">'L-Temporal association areas (TEa,541)'</span>,\n",
       "    <span style=\"color: #008000; text-decoration-color: #008000\">'116'</span>: <span style=\"color: #008000; text-decoration-color: #008000\">'L-Perirhinal area (PERI,922)'</span>,\n",
       "    <span style=\"color: #008000; text-decoration-color: #008000\">'117'</span>: <span style=\"color: #008000; text-decoration-color: #008000\">'L-Ectorhinal area (ECT,895)'</span>,\n",
       "    <span style=\"color: #008000; text-decoration-color: #008000\">'118'</span>: <span style=\"color: #008000; text-decoration-color: #008000\">'L-Main olfactory bulb (MOB,507)'</span>,\n",
       "    <span style=\"color: #008000; text-decoration-color: #008000\">'119'</span>: <span style=\"color: #008000; text-decoration-color: #008000\">'L-Accessory olfactory bulb (AOB,151)'</span>,\n",
       "    <span style=\"color: #008000; text-decoration-color: #008000\">'120'</span>: <span style=\"color: #008000; text-decoration-color: #008000\">'L-Anterior olfactory nucleus (AON,159)'</span>,\n",
       "    <span style=\"color: #008000; text-decoration-color: #008000\">'121'</span>: <span style=\"color: #008000; text-decoration-color: #008000\">'L-Taenia tecta (TT,589)'</span>,\n",
       "    <span style=\"color: #008000; text-decoration-color: #008000\">'122'</span>: <span style=\"color: #008000; text-decoration-color: #008000\">'L-Dorsal peduncular area (DP,814)'</span>,\n",
       "    <span style=\"color: #008000; text-decoration-color: #008000\">'123'</span>: <span style=\"color: #008000; text-decoration-color: #008000\">'L-Piriform area (PIR,961)'</span>,\n",
       "    <span style=\"color: #008000; text-decoration-color: #008000\">'124'</span>: <span style=\"color: #008000; text-decoration-color: #008000\">'L-Nucleus of the lateral olfactory tract (NLOT,619)'</span>,\n",
       "    <span style=\"color: #008000; text-decoration-color: #008000\">'125'</span>: <span style=\"color: #008000; text-decoration-color: #008000\">'L-Cortical amygdalar area (COA,631)'</span>,\n",
       "    <span style=\"color: #008000; text-decoration-color: #008000\">'126'</span>: <span style=\"color: #008000; text-decoration-color: #008000\">'L-Piriform-amygdalar area (PAA,788)'</span>,\n",
       "    <span style=\"color: #008000; text-decoration-color: #008000\">'127'</span>: <span style=\"color: #008000; text-decoration-color: #008000\">'L-Postpiriform transition area (TR,566)'</span>,\n",
       "    <span style=\"color: #008000; text-decoration-color: #008000\">'128'</span>: <span style=\"color: #008000; text-decoration-color: #008000\">'L-Hippocampal region (HIP,1080)'</span>,\n",
       "    <span style=\"color: #008000; text-decoration-color: #008000\">'129'</span>: <span style=\"color: #008000; text-decoration-color: #008000\">'L-Retrohippocampal region (RHP,822)'</span>,\n",
       "    <span style=\"color: #008000; text-decoration-color: #008000\">'130'</span>: <span style=\"color: #008000; text-decoration-color: #008000\">'L-Claustrum (CLA,583)'</span>,\n",
       "    <span style=\"color: #008000; text-decoration-color: #008000\">'131'</span>: <span style=\"color: #008000; text-decoration-color: #008000\">'L-Endopiriform nucleus (EP,942)'</span>,\n",
       "    <span style=\"color: #008000; text-decoration-color: #008000\">'132'</span>: <span style=\"color: #008000; text-decoration-color: #008000\">'L-Lateral amygdalar nucleus (LA,131)'</span>,\n",
       "    <span style=\"color: #008000; text-decoration-color: #008000\">'133'</span>: <span style=\"color: #008000; text-decoration-color: #008000\">'L-Basolateral amygdalar nucleus (BLA,295)'</span>,\n",
       "    <span style=\"color: #008000; text-decoration-color: #008000\">'134'</span>: <span style=\"color: #008000; text-decoration-color: #008000\">'L-Basomedial amygdalar nucleus (BMA,319)'</span>,\n",
       "    <span style=\"color: #008000; text-decoration-color: #008000\">'135'</span>: <span style=\"color: #008000; text-decoration-color: #008000\">'L-Posterior amygdalar nucleus (PA,780)'</span>,\n",
       "    <span style=\"color: #008000; text-decoration-color: #008000\">'136'</span>: <span style=\"color: #008000; text-decoration-color: #008000\">'L-Striatum dorsal region (STRd,485)'</span>,\n",
       "    <span style=\"color: #008000; text-decoration-color: #008000\">'137'</span>: <span style=\"color: #008000; text-decoration-color: #008000\">'L-Striatum ventral region (STRv,493)'</span>,\n",
       "    <span style=\"color: #008000; text-decoration-color: #008000\">'138'</span>: <span style=\"color: #008000; text-decoration-color: #008000\">'L-Lateral septal complex (LSX,275)'</span>,\n",
       "    <span style=\"color: #008000; text-decoration-color: #008000\">'139'</span>: <span style=\"color: #008000; text-decoration-color: #008000\">'L-Striatum-like amygdalar nuclei (sAMY,278)'</span>,\n",
       "    <span style=\"color: #008000; text-decoration-color: #008000\">'140'</span>: <span style=\"color: #008000; text-decoration-color: #008000\">'L-Pallidum, dorsal region (PALd,818)'</span>,\n",
       "    <span style=\"color: #008000; text-decoration-color: #008000\">'141'</span>: <span style=\"color: #008000; text-decoration-color: #008000\">'L-Pallidum, ventral region (PALv,835)'</span>,\n",
       "    <span style=\"color: #008000; text-decoration-color: #008000\">'142'</span>: <span style=\"color: #008000; text-decoration-color: #008000\">'L-Pallidum, medial region (PALm,826)'</span>,\n",
       "    <span style=\"color: #008000; text-decoration-color: #008000\">'143'</span>: <span style=\"color: #008000; text-decoration-color: #008000\">'L-Pallidum, caudal region (PALc,809)'</span>,\n",
       "    <span style=\"color: #008000; text-decoration-color: #008000\">'144'</span>: <span style=\"color: #008000; text-decoration-color: #008000\">'L-Thalamus, sensory-motor cortex related (DORsm,864)'</span>,\n",
       "    <span style=\"color: #008000; text-decoration-color: #008000\">'145'</span>: <span style=\"color: #008000; text-decoration-color: #008000\">'L-Thalamus, polymodal association cortex related (DORpm,856)'</span>,\n",
       "    <span style=\"color: #008000; text-decoration-color: #008000\">'146'</span>: <span style=\"color: #008000; text-decoration-color: #008000\">'L-Periventricular zone (PVZ,157)'</span>,\n",
       "    <span style=\"color: #008000; text-decoration-color: #008000\">'147'</span>: <span style=\"color: #008000; text-decoration-color: #008000\">'L-Periventricular region (PVR,141)'</span>,\n",
       "    <span style=\"color: #008000; text-decoration-color: #008000\">'148'</span>: <span style=\"color: #008000; text-decoration-color: #008000\">'L-Hypothalamic medial zone (MEZ,467)'</span>,\n",
       "    <span style=\"color: #008000; text-decoration-color: #008000\">'149'</span>: <span style=\"color: #008000; text-decoration-color: #008000\">'L-Hypothalamic lateral zone (LZ,290)'</span>,\n",
       "    <span style=\"color: #008000; text-decoration-color: #008000\">'150'</span>: <span style=\"color: #008000; text-decoration-color: #008000\">'L-Midbrain, sensory related (MBsen,339)'</span>,\n",
       "    <span style=\"color: #008000; text-decoration-color: #008000\">'151'</span>: <span style=\"color: #008000; text-decoration-color: #008000\">'L-Midbrain, motor related (MBmot,323)'</span>,\n",
       "    <span style=\"color: #008000; text-decoration-color: #008000\">'152'</span>: <span style=\"color: #008000; text-decoration-color: #008000\">'L-Midbrain, behavioral state related (MBsta,348)'</span>,\n",
       "    <span style=\"color: #008000; text-decoration-color: #008000\">'153'</span>: <span style=\"color: #008000; text-decoration-color: #008000\">'L-Pons, sensory related (P-sen,1132)'</span>,\n",
       "    <span style=\"color: #008000; text-decoration-color: #008000\">'154'</span>: <span style=\"color: #008000; text-decoration-color: #008000\">'L-Pons, motor related (P-mot,987)'</span>,\n",
       "    <span style=\"color: #008000; text-decoration-color: #008000\">'155'</span>: <span style=\"color: #008000; text-decoration-color: #008000\">'L-Pons, behavioral state related (P-sat,1117)'</span>,\n",
       "    <span style=\"color: #008000; text-decoration-color: #008000\">'156'</span>: <span style=\"color: #008000; text-decoration-color: #008000\">'L-Medulla, sensory related (MY-sen,386)'</span>,\n",
       "    <span style=\"color: #008000; text-decoration-color: #008000\">'157'</span>: <span style=\"color: #008000; text-decoration-color: #008000\">'L-Medulla, motor related (MY-mot,370)'</span>,\n",
       "    <span style=\"color: #008000; text-decoration-color: #008000\">'158'</span>: <span style=\"color: #008000; text-decoration-color: #008000\">'L-Medulla, behavioral state related (MY-sat,379)'</span>,\n",
       "    <span style=\"color: #008000; text-decoration-color: #008000\">'159'</span>: <span style=\"color: #008000; text-decoration-color: #008000\">'L-Cerebellar cortex (CBX,528)'</span>,\n",
       "    <span style=\"color: #008000; text-decoration-color: #008000\">'160'</span>: <span style=\"color: #008000; text-decoration-color: #008000\">'L-Cerebellar nuclei (CBN,519)'</span>\n",
       "<span style=\"font-weight: bold\">}</span>\n",
       "</pre>\n"
      ],
      "text/plain": [
       "\u001b[1m{\u001b[0m\n",
       "    \u001b[32m'1'\u001b[0m: \u001b[32m'R-Frontal pole, cerebral cortex \u001b[0m\u001b[32m(\u001b[0m\u001b[32mFRP,184\u001b[0m\u001b[32m)\u001b[0m\u001b[32m'\u001b[0m,\n",
       "    \u001b[32m'2'\u001b[0m: \u001b[32m'R-Somatomotor areas \u001b[0m\u001b[32m(\u001b[0m\u001b[32mMO,500\u001b[0m\u001b[32m)\u001b[0m\u001b[32m'\u001b[0m,\n",
       "    \u001b[32m'3'\u001b[0m: \u001b[32m'R-Somatosensory areas \u001b[0m\u001b[32m(\u001b[0m\u001b[32mSS,453\u001b[0m\u001b[32m)\u001b[0m\u001b[32m'\u001b[0m,\n",
       "    \u001b[32m'4'\u001b[0m: \u001b[32m'R-Gustatory areas \u001b[0m\u001b[32m(\u001b[0m\u001b[32mGU,1057\u001b[0m\u001b[32m)\u001b[0m\u001b[32m'\u001b[0m,\n",
       "    \u001b[32m'5'\u001b[0m: \u001b[32m'R-Visceral area \u001b[0m\u001b[32m(\u001b[0m\u001b[32mVISC,677\u001b[0m\u001b[32m)\u001b[0m\u001b[32m'\u001b[0m,\n",
       "    \u001b[32m'6'\u001b[0m: \u001b[32m'R-Auditory areas \u001b[0m\u001b[32m(\u001b[0m\u001b[32mAUD,247\u001b[0m\u001b[32m)\u001b[0m\u001b[32m'\u001b[0m,\n",
       "    \u001b[32m'7'\u001b[0m: \u001b[32m'R-Visual areas \u001b[0m\u001b[32m(\u001b[0m\u001b[32mVIS,669\u001b[0m\u001b[32m)\u001b[0m\u001b[32m'\u001b[0m,\n",
       "    \u001b[32m'8'\u001b[0m: \u001b[32m'R-Anterior cingulate area \u001b[0m\u001b[32m(\u001b[0m\u001b[32mACA,31\u001b[0m\u001b[32m)\u001b[0m\u001b[32m'\u001b[0m,\n",
       "    \u001b[32m'9'\u001b[0m: \u001b[32m'R-Prelimbic area \u001b[0m\u001b[32m(\u001b[0m\u001b[32mPL,972\u001b[0m\u001b[32m)\u001b[0m\u001b[32m'\u001b[0m,\n",
       "    \u001b[32m'10'\u001b[0m: \u001b[32m'R-Infralimbic area \u001b[0m\u001b[32m(\u001b[0m\u001b[32mILA,44\u001b[0m\u001b[32m)\u001b[0m\u001b[32m'\u001b[0m,\n",
       "    \u001b[32m'11'\u001b[0m: \u001b[32m'R-Orbital area \u001b[0m\u001b[32m(\u001b[0m\u001b[32mORB,714\u001b[0m\u001b[32m)\u001b[0m\u001b[32m'\u001b[0m,\n",
       "    \u001b[32m'12'\u001b[0m: \u001b[32m'R-Agranular insular area \u001b[0m\u001b[32m(\u001b[0m\u001b[32mAI,95\u001b[0m\u001b[32m)\u001b[0m\u001b[32m'\u001b[0m,\n",
       "    \u001b[32m'13'\u001b[0m: \u001b[32m'R-Retrosplenial area \u001b[0m\u001b[32m(\u001b[0m\u001b[32mRSP,254\u001b[0m\u001b[32m)\u001b[0m\u001b[32m'\u001b[0m,\n",
       "    \u001b[32m'14'\u001b[0m: \u001b[32m'R-Posterior parietal association areas \u001b[0m\u001b[32m(\u001b[0m\u001b[32mPTLp,22\u001b[0m\u001b[32m)\u001b[0m\u001b[32m'\u001b[0m,\n",
       "    \u001b[32m'15'\u001b[0m: \u001b[32m'R-Temporal association areas \u001b[0m\u001b[32m(\u001b[0m\u001b[32mTEa,541\u001b[0m\u001b[32m)\u001b[0m\u001b[32m'\u001b[0m,\n",
       "    \u001b[32m'16'\u001b[0m: \u001b[32m'R-Perirhinal area \u001b[0m\u001b[32m(\u001b[0m\u001b[32mPERI,922\u001b[0m\u001b[32m)\u001b[0m\u001b[32m'\u001b[0m,\n",
       "    \u001b[32m'17'\u001b[0m: \u001b[32m'R-Ectorhinal area \u001b[0m\u001b[32m(\u001b[0m\u001b[32mECT,895\u001b[0m\u001b[32m)\u001b[0m\u001b[32m'\u001b[0m,\n",
       "    \u001b[32m'18'\u001b[0m: \u001b[32m'R-Main olfactory bulb \u001b[0m\u001b[32m(\u001b[0m\u001b[32mMOB,507\u001b[0m\u001b[32m)\u001b[0m\u001b[32m'\u001b[0m,\n",
       "    \u001b[32m'19'\u001b[0m: \u001b[32m'R-Accessory olfactory bulb \u001b[0m\u001b[32m(\u001b[0m\u001b[32mAOB,151\u001b[0m\u001b[32m)\u001b[0m\u001b[32m'\u001b[0m,\n",
       "    \u001b[32m'20'\u001b[0m: \u001b[32m'R-Anterior olfactory nucleus \u001b[0m\u001b[32m(\u001b[0m\u001b[32mAON,159\u001b[0m\u001b[32m)\u001b[0m\u001b[32m'\u001b[0m,\n",
       "    \u001b[32m'21'\u001b[0m: \u001b[32m'R-Taenia tecta \u001b[0m\u001b[32m(\u001b[0m\u001b[32mTT,589\u001b[0m\u001b[32m)\u001b[0m\u001b[32m'\u001b[0m,\n",
       "    \u001b[32m'22'\u001b[0m: \u001b[32m'R-Dorsal peduncular area \u001b[0m\u001b[32m(\u001b[0m\u001b[32mDP,814\u001b[0m\u001b[32m)\u001b[0m\u001b[32m'\u001b[0m,\n",
       "    \u001b[32m'23'\u001b[0m: \u001b[32m'R-Piriform area \u001b[0m\u001b[32m(\u001b[0m\u001b[32mPIR,961\u001b[0m\u001b[32m)\u001b[0m\u001b[32m'\u001b[0m,\n",
       "    \u001b[32m'24'\u001b[0m: \u001b[32m'R-Nucleus of the lateral olfactory tract \u001b[0m\u001b[32m(\u001b[0m\u001b[32mNLOT,619\u001b[0m\u001b[32m)\u001b[0m\u001b[32m'\u001b[0m,\n",
       "    \u001b[32m'25'\u001b[0m: \u001b[32m'R-Cortical amygdalar area \u001b[0m\u001b[32m(\u001b[0m\u001b[32mCOA,631\u001b[0m\u001b[32m)\u001b[0m\u001b[32m'\u001b[0m,\n",
       "    \u001b[32m'26'\u001b[0m: \u001b[32m'R-Piriform-amygdalar area \u001b[0m\u001b[32m(\u001b[0m\u001b[32mPAA,788\u001b[0m\u001b[32m)\u001b[0m\u001b[32m'\u001b[0m,\n",
       "    \u001b[32m'27'\u001b[0m: \u001b[32m'R-Postpiriform transition area \u001b[0m\u001b[32m(\u001b[0m\u001b[32mTR,566\u001b[0m\u001b[32m)\u001b[0m\u001b[32m'\u001b[0m,\n",
       "    \u001b[32m'28'\u001b[0m: \u001b[32m'R-Hippocampal region \u001b[0m\u001b[32m(\u001b[0m\u001b[32mHIP,1080\u001b[0m\u001b[32m)\u001b[0m\u001b[32m'\u001b[0m,\n",
       "    \u001b[32m'29'\u001b[0m: \u001b[32m'R-Retrohippocampal region \u001b[0m\u001b[32m(\u001b[0m\u001b[32mRHP,822\u001b[0m\u001b[32m)\u001b[0m\u001b[32m'\u001b[0m,\n",
       "    \u001b[32m'30'\u001b[0m: \u001b[32m'R-Claustrum \u001b[0m\u001b[32m(\u001b[0m\u001b[32mCLA,583\u001b[0m\u001b[32m)\u001b[0m\u001b[32m'\u001b[0m,\n",
       "    \u001b[32m'31'\u001b[0m: \u001b[32m'R-Endopiriform nucleus \u001b[0m\u001b[32m(\u001b[0m\u001b[32mEP,942\u001b[0m\u001b[32m)\u001b[0m\u001b[32m'\u001b[0m,\n",
       "    \u001b[32m'32'\u001b[0m: \u001b[32m'R-Lateral amygdalar nucleus \u001b[0m\u001b[32m(\u001b[0m\u001b[32mLA,131\u001b[0m\u001b[32m)\u001b[0m\u001b[32m'\u001b[0m,\n",
       "    \u001b[32m'33'\u001b[0m: \u001b[32m'R-Basolateral amygdalar nucleus \u001b[0m\u001b[32m(\u001b[0m\u001b[32mBLA,295\u001b[0m\u001b[32m)\u001b[0m\u001b[32m'\u001b[0m,\n",
       "    \u001b[32m'34'\u001b[0m: \u001b[32m'R-Basomedial amygdalar nucleus \u001b[0m\u001b[32m(\u001b[0m\u001b[32mBMA,319\u001b[0m\u001b[32m)\u001b[0m\u001b[32m'\u001b[0m,\n",
       "    \u001b[32m'35'\u001b[0m: \u001b[32m'R-Posterior amygdalar nucleus \u001b[0m\u001b[32m(\u001b[0m\u001b[32mPA,780\u001b[0m\u001b[32m)\u001b[0m\u001b[32m'\u001b[0m,\n",
       "    \u001b[32m'36'\u001b[0m: \u001b[32m'R-Striatum dorsal region \u001b[0m\u001b[32m(\u001b[0m\u001b[32mSTRd,485\u001b[0m\u001b[32m)\u001b[0m\u001b[32m'\u001b[0m,\n",
       "    \u001b[32m'37'\u001b[0m: \u001b[32m'R-Striatum ventral region \u001b[0m\u001b[32m(\u001b[0m\u001b[32mSTRv,493\u001b[0m\u001b[32m)\u001b[0m\u001b[32m'\u001b[0m,\n",
       "    \u001b[32m'38'\u001b[0m: \u001b[32m'R-Lateral septal complex \u001b[0m\u001b[32m(\u001b[0m\u001b[32mLSX,275\u001b[0m\u001b[32m)\u001b[0m\u001b[32m'\u001b[0m,\n",
       "    \u001b[32m'39'\u001b[0m: \u001b[32m'R-Striatum-like amygdalar nuclei \u001b[0m\u001b[32m(\u001b[0m\u001b[32msAMY,278\u001b[0m\u001b[32m)\u001b[0m\u001b[32m'\u001b[0m,\n",
       "    \u001b[32m'40'\u001b[0m: \u001b[32m'R-Pallidum, dorsal region \u001b[0m\u001b[32m(\u001b[0m\u001b[32mPALd,818\u001b[0m\u001b[32m)\u001b[0m\u001b[32m'\u001b[0m,\n",
       "    \u001b[32m'41'\u001b[0m: \u001b[32m'R-Pallidum, ventral region \u001b[0m\u001b[32m(\u001b[0m\u001b[32mPALv,835\u001b[0m\u001b[32m)\u001b[0m\u001b[32m'\u001b[0m,\n",
       "    \u001b[32m'42'\u001b[0m: \u001b[32m'R-Pallidum, medial region \u001b[0m\u001b[32m(\u001b[0m\u001b[32mPALm,826\u001b[0m\u001b[32m)\u001b[0m\u001b[32m'\u001b[0m,\n",
       "    \u001b[32m'43'\u001b[0m: \u001b[32m'R-Pallidum, caudal region \u001b[0m\u001b[32m(\u001b[0m\u001b[32mPALc,809\u001b[0m\u001b[32m)\u001b[0m\u001b[32m'\u001b[0m,\n",
       "    \u001b[32m'44'\u001b[0m: \u001b[32m'R-Thalamus, sensory-motor cortex related \u001b[0m\u001b[32m(\u001b[0m\u001b[32mDORsm,864\u001b[0m\u001b[32m)\u001b[0m\u001b[32m'\u001b[0m,\n",
       "    \u001b[32m'45'\u001b[0m: \u001b[32m'R-Thalamus, polymodal association cortex related \u001b[0m\u001b[32m(\u001b[0m\u001b[32mDORpm,856\u001b[0m\u001b[32m)\u001b[0m\u001b[32m'\u001b[0m,\n",
       "    \u001b[32m'46'\u001b[0m: \u001b[32m'R-Periventricular zone \u001b[0m\u001b[32m(\u001b[0m\u001b[32mPVZ,157\u001b[0m\u001b[32m)\u001b[0m\u001b[32m'\u001b[0m,\n",
       "    \u001b[32m'47'\u001b[0m: \u001b[32m'R-Periventricular region \u001b[0m\u001b[32m(\u001b[0m\u001b[32mPVR,141\u001b[0m\u001b[32m)\u001b[0m\u001b[32m'\u001b[0m,\n",
       "    \u001b[32m'48'\u001b[0m: \u001b[32m'R-Hypothalamic medial zone \u001b[0m\u001b[32m(\u001b[0m\u001b[32mMEZ,467\u001b[0m\u001b[32m)\u001b[0m\u001b[32m'\u001b[0m,\n",
       "    \u001b[32m'49'\u001b[0m: \u001b[32m'R-Hypothalamic lateral zone \u001b[0m\u001b[32m(\u001b[0m\u001b[32mLZ,290\u001b[0m\u001b[32m)\u001b[0m\u001b[32m'\u001b[0m,\n",
       "    \u001b[32m'50'\u001b[0m: \u001b[32m'R-Midbrain, sensory related \u001b[0m\u001b[32m(\u001b[0m\u001b[32mMBsen,339\u001b[0m\u001b[32m)\u001b[0m\u001b[32m'\u001b[0m,\n",
       "    \u001b[32m'51'\u001b[0m: \u001b[32m'R-Midbrain, motor related \u001b[0m\u001b[32m(\u001b[0m\u001b[32mMBmot,323\u001b[0m\u001b[32m)\u001b[0m\u001b[32m'\u001b[0m,\n",
       "    \u001b[32m'52'\u001b[0m: \u001b[32m'R-Midbrain, behavioral state related \u001b[0m\u001b[32m(\u001b[0m\u001b[32mMBsta,348\u001b[0m\u001b[32m)\u001b[0m\u001b[32m'\u001b[0m,\n",
       "    \u001b[32m'53'\u001b[0m: \u001b[32m'R-Pons, sensory related \u001b[0m\u001b[32m(\u001b[0m\u001b[32mP-sen,1132\u001b[0m\u001b[32m)\u001b[0m\u001b[32m'\u001b[0m,\n",
       "    \u001b[32m'54'\u001b[0m: \u001b[32m'R-Pons, motor related \u001b[0m\u001b[32m(\u001b[0m\u001b[32mP-mot,987\u001b[0m\u001b[32m)\u001b[0m\u001b[32m'\u001b[0m,\n",
       "    \u001b[32m'55'\u001b[0m: \u001b[32m'R-Pons, behavioral state related \u001b[0m\u001b[32m(\u001b[0m\u001b[32mP-sat,1117\u001b[0m\u001b[32m)\u001b[0m\u001b[32m'\u001b[0m,\n",
       "    \u001b[32m'56'\u001b[0m: \u001b[32m'R-Medulla, sensory related \u001b[0m\u001b[32m(\u001b[0m\u001b[32mMY-sen,386\u001b[0m\u001b[32m)\u001b[0m\u001b[32m'\u001b[0m,\n",
       "    \u001b[32m'57'\u001b[0m: \u001b[32m'R-Medulla, motor related \u001b[0m\u001b[32m(\u001b[0m\u001b[32mMY-mot,370\u001b[0m\u001b[32m)\u001b[0m\u001b[32m'\u001b[0m,\n",
       "    \u001b[32m'58'\u001b[0m: \u001b[32m'R-Medulla, behavioral state related \u001b[0m\u001b[32m(\u001b[0m\u001b[32mMY-sat,379\u001b[0m\u001b[32m)\u001b[0m\u001b[32m'\u001b[0m,\n",
       "    \u001b[32m'59'\u001b[0m: \u001b[32m'R-Cerebellar cortex \u001b[0m\u001b[32m(\u001b[0m\u001b[32mCBX,528\u001b[0m\u001b[32m)\u001b[0m\u001b[32m'\u001b[0m,\n",
       "    \u001b[32m'60'\u001b[0m: \u001b[32m'R-Cerebellar nuclei \u001b[0m\u001b[32m(\u001b[0m\u001b[32mCBN,519\u001b[0m\u001b[32m)\u001b[0m\u001b[32m'\u001b[0m,\n",
       "    \u001b[32m'101'\u001b[0m: \u001b[32m'L-Frontal pole, cerebral cortex \u001b[0m\u001b[32m(\u001b[0m\u001b[32mFRP,184\u001b[0m\u001b[32m)\u001b[0m\u001b[32m'\u001b[0m,\n",
       "    \u001b[32m'102'\u001b[0m: \u001b[32m'L-Somatomotor areas \u001b[0m\u001b[32m(\u001b[0m\u001b[32mMO,500\u001b[0m\u001b[32m)\u001b[0m\u001b[32m'\u001b[0m,\n",
       "    \u001b[32m'103'\u001b[0m: \u001b[32m'L-Somatosensory areas \u001b[0m\u001b[32m(\u001b[0m\u001b[32mSS,453\u001b[0m\u001b[32m)\u001b[0m\u001b[32m'\u001b[0m,\n",
       "    \u001b[32m'104'\u001b[0m: \u001b[32m'L-Gustatory areas \u001b[0m\u001b[32m(\u001b[0m\u001b[32mGU,1057\u001b[0m\u001b[32m)\u001b[0m\u001b[32m'\u001b[0m,\n",
       "    \u001b[32m'105'\u001b[0m: \u001b[32m'L-Visceral area \u001b[0m\u001b[32m(\u001b[0m\u001b[32mVISC,677\u001b[0m\u001b[32m)\u001b[0m\u001b[32m'\u001b[0m,\n",
       "    \u001b[32m'106'\u001b[0m: \u001b[32m'L-Auditory areas \u001b[0m\u001b[32m(\u001b[0m\u001b[32mAUD,247\u001b[0m\u001b[32m)\u001b[0m\u001b[32m'\u001b[0m,\n",
       "    \u001b[32m'107'\u001b[0m: \u001b[32m'L-Visual areas \u001b[0m\u001b[32m(\u001b[0m\u001b[32mVIS,669\u001b[0m\u001b[32m)\u001b[0m\u001b[32m'\u001b[0m,\n",
       "    \u001b[32m'108'\u001b[0m: \u001b[32m'L-Anterior cingulate area \u001b[0m\u001b[32m(\u001b[0m\u001b[32mACA,31\u001b[0m\u001b[32m)\u001b[0m\u001b[32m'\u001b[0m,\n",
       "    \u001b[32m'109'\u001b[0m: \u001b[32m'L-Prelimbic area \u001b[0m\u001b[32m(\u001b[0m\u001b[32mPL,972\u001b[0m\u001b[32m)\u001b[0m\u001b[32m'\u001b[0m,\n",
       "    \u001b[32m'110'\u001b[0m: \u001b[32m'L-Infralimbic area \u001b[0m\u001b[32m(\u001b[0m\u001b[32mILA,44\u001b[0m\u001b[32m)\u001b[0m\u001b[32m'\u001b[0m,\n",
       "    \u001b[32m'111'\u001b[0m: \u001b[32m'L-Orbital area \u001b[0m\u001b[32m(\u001b[0m\u001b[32mORB,714\u001b[0m\u001b[32m)\u001b[0m\u001b[32m'\u001b[0m,\n",
       "    \u001b[32m'112'\u001b[0m: \u001b[32m'L-Agranular insular area \u001b[0m\u001b[32m(\u001b[0m\u001b[32mAI,95\u001b[0m\u001b[32m)\u001b[0m\u001b[32m'\u001b[0m,\n",
       "    \u001b[32m'113'\u001b[0m: \u001b[32m'L-Retrosplenial area \u001b[0m\u001b[32m(\u001b[0m\u001b[32mRSP,254\u001b[0m\u001b[32m)\u001b[0m\u001b[32m'\u001b[0m,\n",
       "    \u001b[32m'114'\u001b[0m: \u001b[32m'L-Posterior parietal association areas \u001b[0m\u001b[32m(\u001b[0m\u001b[32mPTLp,22\u001b[0m\u001b[32m)\u001b[0m\u001b[32m'\u001b[0m,\n",
       "    \u001b[32m'115'\u001b[0m: \u001b[32m'L-Temporal association areas \u001b[0m\u001b[32m(\u001b[0m\u001b[32mTEa,541\u001b[0m\u001b[32m)\u001b[0m\u001b[32m'\u001b[0m,\n",
       "    \u001b[32m'116'\u001b[0m: \u001b[32m'L-Perirhinal area \u001b[0m\u001b[32m(\u001b[0m\u001b[32mPERI,922\u001b[0m\u001b[32m)\u001b[0m\u001b[32m'\u001b[0m,\n",
       "    \u001b[32m'117'\u001b[0m: \u001b[32m'L-Ectorhinal area \u001b[0m\u001b[32m(\u001b[0m\u001b[32mECT,895\u001b[0m\u001b[32m)\u001b[0m\u001b[32m'\u001b[0m,\n",
       "    \u001b[32m'118'\u001b[0m: \u001b[32m'L-Main olfactory bulb \u001b[0m\u001b[32m(\u001b[0m\u001b[32mMOB,507\u001b[0m\u001b[32m)\u001b[0m\u001b[32m'\u001b[0m,\n",
       "    \u001b[32m'119'\u001b[0m: \u001b[32m'L-Accessory olfactory bulb \u001b[0m\u001b[32m(\u001b[0m\u001b[32mAOB,151\u001b[0m\u001b[32m)\u001b[0m\u001b[32m'\u001b[0m,\n",
       "    \u001b[32m'120'\u001b[0m: \u001b[32m'L-Anterior olfactory nucleus \u001b[0m\u001b[32m(\u001b[0m\u001b[32mAON,159\u001b[0m\u001b[32m)\u001b[0m\u001b[32m'\u001b[0m,\n",
       "    \u001b[32m'121'\u001b[0m: \u001b[32m'L-Taenia tecta \u001b[0m\u001b[32m(\u001b[0m\u001b[32mTT,589\u001b[0m\u001b[32m)\u001b[0m\u001b[32m'\u001b[0m,\n",
       "    \u001b[32m'122'\u001b[0m: \u001b[32m'L-Dorsal peduncular area \u001b[0m\u001b[32m(\u001b[0m\u001b[32mDP,814\u001b[0m\u001b[32m)\u001b[0m\u001b[32m'\u001b[0m,\n",
       "    \u001b[32m'123'\u001b[0m: \u001b[32m'L-Piriform area \u001b[0m\u001b[32m(\u001b[0m\u001b[32mPIR,961\u001b[0m\u001b[32m)\u001b[0m\u001b[32m'\u001b[0m,\n",
       "    \u001b[32m'124'\u001b[0m: \u001b[32m'L-Nucleus of the lateral olfactory tract \u001b[0m\u001b[32m(\u001b[0m\u001b[32mNLOT,619\u001b[0m\u001b[32m)\u001b[0m\u001b[32m'\u001b[0m,\n",
       "    \u001b[32m'125'\u001b[0m: \u001b[32m'L-Cortical amygdalar area \u001b[0m\u001b[32m(\u001b[0m\u001b[32mCOA,631\u001b[0m\u001b[32m)\u001b[0m\u001b[32m'\u001b[0m,\n",
       "    \u001b[32m'126'\u001b[0m: \u001b[32m'L-Piriform-amygdalar area \u001b[0m\u001b[32m(\u001b[0m\u001b[32mPAA,788\u001b[0m\u001b[32m)\u001b[0m\u001b[32m'\u001b[0m,\n",
       "    \u001b[32m'127'\u001b[0m: \u001b[32m'L-Postpiriform transition area \u001b[0m\u001b[32m(\u001b[0m\u001b[32mTR,566\u001b[0m\u001b[32m)\u001b[0m\u001b[32m'\u001b[0m,\n",
       "    \u001b[32m'128'\u001b[0m: \u001b[32m'L-Hippocampal region \u001b[0m\u001b[32m(\u001b[0m\u001b[32mHIP,1080\u001b[0m\u001b[32m)\u001b[0m\u001b[32m'\u001b[0m,\n",
       "    \u001b[32m'129'\u001b[0m: \u001b[32m'L-Retrohippocampal region \u001b[0m\u001b[32m(\u001b[0m\u001b[32mRHP,822\u001b[0m\u001b[32m)\u001b[0m\u001b[32m'\u001b[0m,\n",
       "    \u001b[32m'130'\u001b[0m: \u001b[32m'L-Claustrum \u001b[0m\u001b[32m(\u001b[0m\u001b[32mCLA,583\u001b[0m\u001b[32m)\u001b[0m\u001b[32m'\u001b[0m,\n",
       "    \u001b[32m'131'\u001b[0m: \u001b[32m'L-Endopiriform nucleus \u001b[0m\u001b[32m(\u001b[0m\u001b[32mEP,942\u001b[0m\u001b[32m)\u001b[0m\u001b[32m'\u001b[0m,\n",
       "    \u001b[32m'132'\u001b[0m: \u001b[32m'L-Lateral amygdalar nucleus \u001b[0m\u001b[32m(\u001b[0m\u001b[32mLA,131\u001b[0m\u001b[32m)\u001b[0m\u001b[32m'\u001b[0m,\n",
       "    \u001b[32m'133'\u001b[0m: \u001b[32m'L-Basolateral amygdalar nucleus \u001b[0m\u001b[32m(\u001b[0m\u001b[32mBLA,295\u001b[0m\u001b[32m)\u001b[0m\u001b[32m'\u001b[0m,\n",
       "    \u001b[32m'134'\u001b[0m: \u001b[32m'L-Basomedial amygdalar nucleus \u001b[0m\u001b[32m(\u001b[0m\u001b[32mBMA,319\u001b[0m\u001b[32m)\u001b[0m\u001b[32m'\u001b[0m,\n",
       "    \u001b[32m'135'\u001b[0m: \u001b[32m'L-Posterior amygdalar nucleus \u001b[0m\u001b[32m(\u001b[0m\u001b[32mPA,780\u001b[0m\u001b[32m)\u001b[0m\u001b[32m'\u001b[0m,\n",
       "    \u001b[32m'136'\u001b[0m: \u001b[32m'L-Striatum dorsal region \u001b[0m\u001b[32m(\u001b[0m\u001b[32mSTRd,485\u001b[0m\u001b[32m)\u001b[0m\u001b[32m'\u001b[0m,\n",
       "    \u001b[32m'137'\u001b[0m: \u001b[32m'L-Striatum ventral region \u001b[0m\u001b[32m(\u001b[0m\u001b[32mSTRv,493\u001b[0m\u001b[32m)\u001b[0m\u001b[32m'\u001b[0m,\n",
       "    \u001b[32m'138'\u001b[0m: \u001b[32m'L-Lateral septal complex \u001b[0m\u001b[32m(\u001b[0m\u001b[32mLSX,275\u001b[0m\u001b[32m)\u001b[0m\u001b[32m'\u001b[0m,\n",
       "    \u001b[32m'139'\u001b[0m: \u001b[32m'L-Striatum-like amygdalar nuclei \u001b[0m\u001b[32m(\u001b[0m\u001b[32msAMY,278\u001b[0m\u001b[32m)\u001b[0m\u001b[32m'\u001b[0m,\n",
       "    \u001b[32m'140'\u001b[0m: \u001b[32m'L-Pallidum, dorsal region \u001b[0m\u001b[32m(\u001b[0m\u001b[32mPALd,818\u001b[0m\u001b[32m)\u001b[0m\u001b[32m'\u001b[0m,\n",
       "    \u001b[32m'141'\u001b[0m: \u001b[32m'L-Pallidum, ventral region \u001b[0m\u001b[32m(\u001b[0m\u001b[32mPALv,835\u001b[0m\u001b[32m)\u001b[0m\u001b[32m'\u001b[0m,\n",
       "    \u001b[32m'142'\u001b[0m: \u001b[32m'L-Pallidum, medial region \u001b[0m\u001b[32m(\u001b[0m\u001b[32mPALm,826\u001b[0m\u001b[32m)\u001b[0m\u001b[32m'\u001b[0m,\n",
       "    \u001b[32m'143'\u001b[0m: \u001b[32m'L-Pallidum, caudal region \u001b[0m\u001b[32m(\u001b[0m\u001b[32mPALc,809\u001b[0m\u001b[32m)\u001b[0m\u001b[32m'\u001b[0m,\n",
       "    \u001b[32m'144'\u001b[0m: \u001b[32m'L-Thalamus, sensory-motor cortex related \u001b[0m\u001b[32m(\u001b[0m\u001b[32mDORsm,864\u001b[0m\u001b[32m)\u001b[0m\u001b[32m'\u001b[0m,\n",
       "    \u001b[32m'145'\u001b[0m: \u001b[32m'L-Thalamus, polymodal association cortex related \u001b[0m\u001b[32m(\u001b[0m\u001b[32mDORpm,856\u001b[0m\u001b[32m)\u001b[0m\u001b[32m'\u001b[0m,\n",
       "    \u001b[32m'146'\u001b[0m: \u001b[32m'L-Periventricular zone \u001b[0m\u001b[32m(\u001b[0m\u001b[32mPVZ,157\u001b[0m\u001b[32m)\u001b[0m\u001b[32m'\u001b[0m,\n",
       "    \u001b[32m'147'\u001b[0m: \u001b[32m'L-Periventricular region \u001b[0m\u001b[32m(\u001b[0m\u001b[32mPVR,141\u001b[0m\u001b[32m)\u001b[0m\u001b[32m'\u001b[0m,\n",
       "    \u001b[32m'148'\u001b[0m: \u001b[32m'L-Hypothalamic medial zone \u001b[0m\u001b[32m(\u001b[0m\u001b[32mMEZ,467\u001b[0m\u001b[32m)\u001b[0m\u001b[32m'\u001b[0m,\n",
       "    \u001b[32m'149'\u001b[0m: \u001b[32m'L-Hypothalamic lateral zone \u001b[0m\u001b[32m(\u001b[0m\u001b[32mLZ,290\u001b[0m\u001b[32m)\u001b[0m\u001b[32m'\u001b[0m,\n",
       "    \u001b[32m'150'\u001b[0m: \u001b[32m'L-Midbrain, sensory related \u001b[0m\u001b[32m(\u001b[0m\u001b[32mMBsen,339\u001b[0m\u001b[32m)\u001b[0m\u001b[32m'\u001b[0m,\n",
       "    \u001b[32m'151'\u001b[0m: \u001b[32m'L-Midbrain, motor related \u001b[0m\u001b[32m(\u001b[0m\u001b[32mMBmot,323\u001b[0m\u001b[32m)\u001b[0m\u001b[32m'\u001b[0m,\n",
       "    \u001b[32m'152'\u001b[0m: \u001b[32m'L-Midbrain, behavioral state related \u001b[0m\u001b[32m(\u001b[0m\u001b[32mMBsta,348\u001b[0m\u001b[32m)\u001b[0m\u001b[32m'\u001b[0m,\n",
       "    \u001b[32m'153'\u001b[0m: \u001b[32m'L-Pons, sensory related \u001b[0m\u001b[32m(\u001b[0m\u001b[32mP-sen,1132\u001b[0m\u001b[32m)\u001b[0m\u001b[32m'\u001b[0m,\n",
       "    \u001b[32m'154'\u001b[0m: \u001b[32m'L-Pons, motor related \u001b[0m\u001b[32m(\u001b[0m\u001b[32mP-mot,987\u001b[0m\u001b[32m)\u001b[0m\u001b[32m'\u001b[0m,\n",
       "    \u001b[32m'155'\u001b[0m: \u001b[32m'L-Pons, behavioral state related \u001b[0m\u001b[32m(\u001b[0m\u001b[32mP-sat,1117\u001b[0m\u001b[32m)\u001b[0m\u001b[32m'\u001b[0m,\n",
       "    \u001b[32m'156'\u001b[0m: \u001b[32m'L-Medulla, sensory related \u001b[0m\u001b[32m(\u001b[0m\u001b[32mMY-sen,386\u001b[0m\u001b[32m)\u001b[0m\u001b[32m'\u001b[0m,\n",
       "    \u001b[32m'157'\u001b[0m: \u001b[32m'L-Medulla, motor related \u001b[0m\u001b[32m(\u001b[0m\u001b[32mMY-mot,370\u001b[0m\u001b[32m)\u001b[0m\u001b[32m'\u001b[0m,\n",
       "    \u001b[32m'158'\u001b[0m: \u001b[32m'L-Medulla, behavioral state related \u001b[0m\u001b[32m(\u001b[0m\u001b[32mMY-sat,379\u001b[0m\u001b[32m)\u001b[0m\u001b[32m'\u001b[0m,\n",
       "    \u001b[32m'159'\u001b[0m: \u001b[32m'L-Cerebellar cortex \u001b[0m\u001b[32m(\u001b[0m\u001b[32mCBX,528\u001b[0m\u001b[32m)\u001b[0m\u001b[32m'\u001b[0m,\n",
       "    \u001b[32m'160'\u001b[0m: \u001b[32m'L-Cerebellar nuclei \u001b[0m\u001b[32m(\u001b[0m\u001b[32mCBN,519\u001b[0m\u001b[32m)\u001b[0m\u001b[32m'\u001b[0m\n",
       "\u001b[1m}\u001b[0m\n"
      ]
     },
     "metadata": {},
     "output_type": "display_data"
    }
   ],
   "source": [
    "mid_labels = atlas['labels']['data'][1]['labels']\n",
    "mid_labels"
   ]
  },
  {
   "cell_type": "code",
   "execution_count": 104,
   "id": "b3bcac27",
   "metadata": {},
   "outputs": [
    {
     "data": {
      "text/html": [
       "<pre style=\"white-space:pre;overflow-x:auto;line-height:normal;font-family:Menlo,'DejaVu Sans Mono',consolas,'Courier New',monospace\"><span style=\"color: #008080; text-decoration-color: #008080; font-weight: bold\">43</span>\n",
       "</pre>\n"
      ],
      "text/plain": [
       "\u001b[1;36m43\u001b[0m\n"
      ]
     },
     "metadata": {},
     "output_type": "display_data"
    }
   ],
   "source": [
    "mid_acros = [s.split('(')[-1].split(',')[0] for s in mid_labels.values()]\n",
    "mid_acros = list(set(mid_acros))\n",
    "mid_structs = mice.allen['structure_tree'].get_structures_by_acronym(mid_acros)\n",
    "mid_subcortical = [\n",
    "    s['acronym'] for s in mid_structs\n",
    "    if s['id'] not in cortex_subtree\n",
    "]\n",
    "len(mid_subcortical)"
   ]
  },
  {
   "cell_type": "code",
   "execution_count": null,
   "id": "0f4d219d",
   "metadata": {},
   "outputs": [],
   "source": []
  },
  {
   "cell_type": "code",
   "execution_count": null,
   "id": "0ae58c88",
   "metadata": {},
   "outputs": [],
   "source": [
    "43, 173"
   ]
  },
  {
   "cell_type": "code",
   "execution_count": null,
   "id": "c32bf4ba",
   "metadata": {},
   "outputs": [],
   "source": []
  },
  {
   "cell_type": "code",
   "execution_count": 105,
   "id": "eb2cba33",
   "metadata": {
    "scrolled": true
   },
   "outputs": [
    {
     "data": {
      "text/html": [
       "<pre style=\"white-space:pre;overflow-x:auto;line-height:normal;font-family:Menlo,'DejaVu Sans Mono',consolas,'Courier New',monospace\"><span style=\"font-weight: bold\">[</span>PROGRESS<span style=\"font-weight: bold\">]</span> <span style=\"color: #008000; text-decoration-color: #008000\">'hierarchy_root-BS.html'</span> saved at\n",
       "<span style=\"color: #800080; text-decoration-color: #800080\">/home/hadi/Dropbox/git/jb-Ca-fMRI/tmp/</span><span style=\"color: #ff00ff; text-decoration-color: #ff00ff\">xilin_mid</span>\n",
       "</pre>\n"
      ],
      "text/plain": [
       "\u001b[1m[\u001b[0mPROGRESS\u001b[1m]\u001b[0m \u001b[32m'hierarchy_root-BS.html'\u001b[0m saved at\n",
       "\u001b[35m/home/hadi/Dropbox/git/jb-Ca-fMRI/tmp/\u001b[0m\u001b[95mxilin_mid\u001b[0m\n"
      ]
     },
     "metadata": {},
     "output_type": "display_data"
    },
    {
     "data": {
      "text/html": [
       "<pre style=\"white-space:pre;overflow-x:auto;line-height:normal;font-family:Menlo,'DejaVu Sans Mono',consolas,'Courier New',monospace\"><span style=\"font-weight: bold\">[</span>PROGRESS<span style=\"font-weight: bold\">]</span> <span style=\"color: #008000; text-decoration-color: #008000\">'hierarchy_root-CB.html'</span> saved at\n",
       "<span style=\"color: #800080; text-decoration-color: #800080\">/home/hadi/Dropbox/git/jb-Ca-fMRI/tmp/</span><span style=\"color: #ff00ff; text-decoration-color: #ff00ff\">xilin_mid</span>\n",
       "</pre>\n"
      ],
      "text/plain": [
       "\u001b[1m[\u001b[0mPROGRESS\u001b[1m]\u001b[0m \u001b[32m'hierarchy_root-CB.html'\u001b[0m saved at\n",
       "\u001b[35m/home/hadi/Dropbox/git/jb-Ca-fMRI/tmp/\u001b[0m\u001b[95mxilin_mid\u001b[0m\n"
      ]
     },
     "metadata": {},
     "output_type": "display_data"
    },
    {
     "data": {
      "text/html": [
       "<pre style=\"white-space:pre;overflow-x:auto;line-height:normal;font-family:Menlo,'DejaVu Sans Mono',consolas,'Courier New',monospace\"><span style=\"font-weight: bold\">[</span>PROGRESS<span style=\"font-weight: bold\">]</span> <span style=\"color: #008000; text-decoration-color: #008000\">'hierarchy_root-CNU.html'</span> saved at\n",
       "<span style=\"color: #800080; text-decoration-color: #800080\">/home/hadi/Dropbox/git/jb-Ca-fMRI/tmp/</span><span style=\"color: #ff00ff; text-decoration-color: #ff00ff\">xilin_mid</span>\n",
       "</pre>\n"
      ],
      "text/plain": [
       "\u001b[1m[\u001b[0mPROGRESS\u001b[1m]\u001b[0m \u001b[32m'hierarchy_root-CNU.html'\u001b[0m saved at\n",
       "\u001b[35m/home/hadi/Dropbox/git/jb-Ca-fMRI/tmp/\u001b[0m\u001b[95mxilin_mid\u001b[0m\n"
      ]
     },
     "metadata": {},
     "output_type": "display_data"
    },
    {
     "data": {
      "text/html": [
       "<pre style=\"white-space:pre;overflow-x:auto;line-height:normal;font-family:Menlo,'DejaVu Sans Mono',consolas,'Courier New',monospace\"><span style=\"font-weight: bold\">[</span>PROGRESS<span style=\"font-weight: bold\">]</span> <span style=\"color: #008000; text-decoration-color: #008000\">'hierarchy_root-HPF.html'</span> saved at\n",
       "<span style=\"color: #800080; text-decoration-color: #800080\">/home/hadi/Dropbox/git/jb-Ca-fMRI/tmp/</span><span style=\"color: #ff00ff; text-decoration-color: #ff00ff\">xilin_mid</span>\n",
       "</pre>\n"
      ],
      "text/plain": [
       "\u001b[1m[\u001b[0mPROGRESS\u001b[1m]\u001b[0m \u001b[32m'hierarchy_root-HPF.html'\u001b[0m saved at\n",
       "\u001b[35m/home/hadi/Dropbox/git/jb-Ca-fMRI/tmp/\u001b[0m\u001b[95mxilin_mid\u001b[0m\n"
      ]
     },
     "metadata": {},
     "output_type": "display_data"
    },
    {
     "data": {
      "text/html": [
       "<pre style=\"white-space:pre;overflow-x:auto;line-height:normal;font-family:Menlo,'DejaVu Sans Mono',consolas,'Courier New',monospace\"><span style=\"font-weight: bold\">[</span>PROGRESS<span style=\"font-weight: bold\">]</span> <span style=\"color: #008000; text-decoration-color: #008000\">'hierarchy_root-OLF.html'</span> saved at\n",
       "<span style=\"color: #800080; text-decoration-color: #800080\">/home/hadi/Dropbox/git/jb-Ca-fMRI/tmp/</span><span style=\"color: #ff00ff; text-decoration-color: #ff00ff\">xilin_mid</span>\n",
       "</pre>\n"
      ],
      "text/plain": [
       "\u001b[1m[\u001b[0mPROGRESS\u001b[1m]\u001b[0m \u001b[32m'hierarchy_root-OLF.html'\u001b[0m saved at\n",
       "\u001b[35m/home/hadi/Dropbox/git/jb-Ca-fMRI/tmp/\u001b[0m\u001b[95mxilin_mid\u001b[0m\n"
      ]
     },
     "metadata": {},
     "output_type": "display_data"
    },
    {
     "data": {
      "text/html": [
       "<pre style=\"white-space:pre;overflow-x:auto;line-height:normal;font-family:Menlo,'DejaVu Sans Mono',consolas,'Courier New',monospace\"><span style=\"font-weight: bold\">[</span>PROGRESS<span style=\"font-weight: bold\">]</span> <span style=\"color: #008000; text-decoration-color: #008000\">'hierarchy_root-CTXsp.html'</span> saved at\n",
       "<span style=\"color: #800080; text-decoration-color: #800080\">/home/hadi/Dropbox/git/jb-Ca-fMRI/tmp/</span><span style=\"color: #ff00ff; text-decoration-color: #ff00ff\">xilin_mid</span>\n",
       "</pre>\n"
      ],
      "text/plain": [
       "\u001b[1m[\u001b[0mPROGRESS\u001b[1m]\u001b[0m \u001b[32m'hierarchy_root-CTXsp.html'\u001b[0m saved at\n",
       "\u001b[35m/home/hadi/Dropbox/git/jb-Ca-fMRI/tmp/\u001b[0m\u001b[95mxilin_mid\u001b[0m\n"
      ]
     },
     "metadata": {},
     "output_type": "display_data"
    }
   ],
   "source": [
    "tables = included_intersect_tables(\n",
    "    s_included=mid_subcortical,\n",
    "    s_main=['BS', 'CB', 'CNU', 'HPF', 'OLF', 'CTXsp'],\n",
    "    export_path=pjoin(tmp_dir, 'xilin_mid'),\n",
    "    allen=mice.allen,\n",
    "    tree=tree,\n",
    ")"
   ]
  },
  {
   "cell_type": "code",
   "execution_count": null,
   "id": "6c4f187e",
   "metadata": {},
   "outputs": [],
   "source": []
  },
  {
   "cell_type": "code",
   "execution_count": 47,
   "id": "51f879ca",
   "metadata": {},
   "outputs": [
    {
     "data": {
      "text/html": [
       "<pre style=\"white-space:pre;overflow-x:auto;line-height:normal;font-family:Menlo,'DejaVu Sans Mono',consolas,'Courier New',monospace\"><span style=\"font-style: italic\">                                                                                  </span>\n",
       "<span style=\"font-style: italic\">                                                                                  </span>\n",
       "<span style=\"font-style: italic\">                                Brainglobe Atlases                                </span>\n",
       "╭──────────────────────────────────┬────────────┬───────────────┬────────────────╮\n",
       "│<span style=\"color: #008000; text-decoration-color: #008000; font-weight: bold\"> Name                             </span>│<span style=\"color: #008000; text-decoration-color: #008000; font-weight: bold\"> Downloaded </span>│<span style=\"color: #008000; text-decoration-color: #008000; font-weight: bold\"> Local version </span>│<span style=\"color: #008000; text-decoration-color: #008000; font-weight: bold\"> Latest version </span>│\n",
       "├──────────────────────────────────┼────────────┼───────────────┼────────────────┤\n",
       "│ <span style=\"font-weight: bold\">allen_cord_20um</span>                  │     <span style=\"color: #008000; text-decoration-color: #008000\">✔</span>      │      1.0      │      1.0       │\n",
       "│ <span style=\"font-weight: bold\">mpin_zfish_1um</span>                   │     <span style=\"color: #008000; text-decoration-color: #008000\">✔</span>      │      1.0      │      1.0       │\n",
       "│ <span style=\"font-weight: bold\">example_mouse_100um</span>              │     <span style=\"color: #008000; text-decoration-color: #008000\">✔</span>      │      1.2      │      1.2       │\n",
       "│ <span style=\"font-weight: bold\">kim_mouse_100um</span>                  │     <span style=\"color: #008000; text-decoration-color: #008000\">✔</span>      │      1.0      │      1.0       │\n",
       "│ <span style=\"font-weight: bold\">allen_mouse_100um</span>                │     <span style=\"color: #008000; text-decoration-color: #008000\">✔</span>      │      1.2      │      1.2       │\n",
       "│ <span style=\"font-weight: bold\">allen_mouse_10um</span>                 │    <span style=\"color: #800000; text-decoration-color: #800000\">---</span>     │      <span style=\"color: #800000; text-decoration-color: #800000\">---</span>      │      1.2       │\n",
       "│ <span style=\"font-weight: bold\">allen_mouse_25um</span>                 │    <span style=\"color: #800000; text-decoration-color: #800000\">---</span>     │      <span style=\"color: #800000; text-decoration-color: #800000\">---</span>      │      1.2       │\n",
       "│ <span style=\"font-weight: bold\">allen_mouse_50um</span>                 │    <span style=\"color: #800000; text-decoration-color: #800000\">---</span>     │      <span style=\"color: #800000; text-decoration-color: #800000\">---</span>      │      1.2       │\n",
       "│ <span style=\"font-weight: bold\">allen_human_500um</span>                │    <span style=\"color: #800000; text-decoration-color: #800000\">---</span>     │      <span style=\"color: #800000; text-decoration-color: #800000\">---</span>      │      0.1       │\n",
       "│ <span style=\"font-weight: bold\">kim_mouse_10um</span>                   │    <span style=\"color: #800000; text-decoration-color: #800000\">---</span>     │      <span style=\"color: #800000; text-decoration-color: #800000\">---</span>      │      1.0       │\n",
       "│ <span style=\"font-weight: bold\">kim_mouse_25um</span>                   │    <span style=\"color: #800000; text-decoration-color: #800000\">---</span>     │      <span style=\"color: #800000; text-decoration-color: #800000\">---</span>      │      1.0       │\n",
       "│ <span style=\"font-weight: bold\">kim_mouse_50um</span>                   │    <span style=\"color: #800000; text-decoration-color: #800000\">---</span>     │      <span style=\"color: #800000; text-decoration-color: #800000\">---</span>      │      1.0       │\n",
       "│ <span style=\"font-weight: bold\">osten_mouse_10um</span>                 │    <span style=\"color: #800000; text-decoration-color: #800000\">---</span>     │      <span style=\"color: #800000; text-decoration-color: #800000\">---</span>      │      1.1       │\n",
       "│ <span style=\"font-weight: bold\">osten_mouse_25um</span>                 │    <span style=\"color: #800000; text-decoration-color: #800000\">---</span>     │      <span style=\"color: #800000; text-decoration-color: #800000\">---</span>      │      1.1       │\n",
       "│ <span style=\"font-weight: bold\">osten_mouse_50um</span>                 │    <span style=\"color: #800000; text-decoration-color: #800000\">---</span>     │      <span style=\"color: #800000; text-decoration-color: #800000\">---</span>      │      1.1       │\n",
       "│ <span style=\"font-weight: bold\">osten_mouse_100um</span>                │    <span style=\"color: #800000; text-decoration-color: #800000\">---</span>     │      <span style=\"color: #800000; text-decoration-color: #800000\">---</span>      │      1.1       │\n",
       "╰──────────────────────────────────┴────────────┴───────────────┴────────────────╯\n",
       "</pre>\n"
      ],
      "text/plain": [
       "\u001b[3m                                                                                  \u001b[0m\n",
       "\u001b[3m                                                                                  \u001b[0m\n",
       "\u001b[3m                                Brainglobe Atlases                                \u001b[0m\n",
       "╭──────────────────────────────────┬────────────┬───────────────┬────────────────╮\n",
       "│\u001b[1;32m \u001b[0m\u001b[1;32mName                            \u001b[0m\u001b[1;32m \u001b[0m│\u001b[1;32m \u001b[0m\u001b[1;32mDownloaded\u001b[0m\u001b[1;32m \u001b[0m│\u001b[1;32m \u001b[0m\u001b[1;32mLocal version\u001b[0m\u001b[1;32m \u001b[0m│\u001b[1;32m \u001b[0m\u001b[1;32mLatest version\u001b[0m\u001b[1;32m \u001b[0m│\n",
       "├──────────────────────────────────┼────────────┼───────────────┼────────────────┤\n",
       "│ \u001b[1mallen_cord_20um\u001b[0m                  │     \u001b[32m✔\u001b[0m      │      1.0      │      1.0       │\n",
       "│ \u001b[1mmpin_zfish_1um\u001b[0m                   │     \u001b[32m✔\u001b[0m      │      1.0      │      1.0       │\n",
       "│ \u001b[1mexample_mouse_100um\u001b[0m              │     \u001b[32m✔\u001b[0m      │      1.2      │      1.2       │\n",
       "│ \u001b[1mkim_mouse_100um\u001b[0m                  │     \u001b[32m✔\u001b[0m      │      1.0      │      1.0       │\n",
       "│ \u001b[1mallen_mouse_100um\u001b[0m                │     \u001b[32m✔\u001b[0m      │      1.2      │      1.2       │\n",
       "│ \u001b[1mallen_mouse_10um\u001b[0m                 │    \u001b[31m---\u001b[0m     │      \u001b[31m---\u001b[0m      │      1.2       │\n",
       "│ \u001b[1mallen_mouse_25um\u001b[0m                 │    \u001b[31m---\u001b[0m     │      \u001b[31m---\u001b[0m      │      1.2       │\n",
       "│ \u001b[1mallen_mouse_50um\u001b[0m                 │    \u001b[31m---\u001b[0m     │      \u001b[31m---\u001b[0m      │      1.2       │\n",
       "│ \u001b[1mallen_human_500um\u001b[0m                │    \u001b[31m---\u001b[0m     │      \u001b[31m---\u001b[0m      │      0.1       │\n",
       "│ \u001b[1mkim_mouse_10um\u001b[0m                   │    \u001b[31m---\u001b[0m     │      \u001b[31m---\u001b[0m      │      1.0       │\n",
       "│ \u001b[1mkim_mouse_25um\u001b[0m                   │    \u001b[31m---\u001b[0m     │      \u001b[31m---\u001b[0m      │      1.0       │\n",
       "│ \u001b[1mkim_mouse_50um\u001b[0m                   │    \u001b[31m---\u001b[0m     │      \u001b[31m---\u001b[0m      │      1.0       │\n",
       "│ \u001b[1mosten_mouse_10um\u001b[0m                 │    \u001b[31m---\u001b[0m     │      \u001b[31m---\u001b[0m      │      1.1       │\n",
       "│ \u001b[1mosten_mouse_25um\u001b[0m                 │    \u001b[31m---\u001b[0m     │      \u001b[31m---\u001b[0m      │      1.1       │\n",
       "│ \u001b[1mosten_mouse_50um\u001b[0m                 │    \u001b[31m---\u001b[0m     │      \u001b[31m---\u001b[0m      │      1.1       │\n",
       "│ \u001b[1mosten_mouse_100um\u001b[0m                │    \u001b[31m---\u001b[0m     │      \u001b[31m---\u001b[0m      │      1.1       │\n",
       "╰──────────────────────────────────┴────────────┴───────────────┴────────────────╯\n"
      ]
     },
     "metadata": {},
     "output_type": "display_data"
    }
   ],
   "source": [
    "from bg_atlasapi import show_atlases\n",
    "show_atlases()"
   ]
  },
  {
   "cell_type": "code",
   "execution_count": 50,
   "id": "d916cc14",
   "metadata": {},
   "outputs": [
    {
     "name": "stdout",
     "output_type": "stream",
     "text": [
      "kim mouse atlas (res. 100um)\n",
      "From: https://kimlab.io/brain-map/atlas/ (Chon et al. 2019, https://doi.org/10.1038/s41467-019-13057-w )\n"
     ]
    }
   ],
   "source": [
    "from bg_atlasapi.bg_atlas import BrainGlobeAtlas\n",
    "bg_atlas = BrainGlobeAtlas(\"kim_mouse_100um\")"
   ]
  },
  {
   "cell_type": "code",
   "execution_count": 70,
   "id": "53f5884c",
   "metadata": {},
   "outputs": [
    {
     "data": {
      "text/html": [
       "<pre style=\"white-space:pre;overflow-x:auto;line-height:normal;font-family:Menlo,'DejaVu Sans Mono',consolas,'Courier New',monospace\"><span style=\"font-weight: bold\">&lt;</span><span style=\"color: #ff00ff; text-decoration-color: #ff00ff; font-weight: bold\">matplotlib.image.AxesImage</span><span style=\"color: #000000; text-decoration-color: #000000\"> object at </span><span style=\"color: #008080; text-decoration-color: #008080; font-weight: bold\">0x7ffa9e690d90</span><span style=\"font-weight: bold\">&gt;</span>\n",
       "</pre>\n"
      ],
      "text/plain": [
       "\u001b[1m<\u001b[0m\u001b[1;95mmatplotlib.image.AxesImage\u001b[0m\u001b[39m object at \u001b[0m\u001b[1;36m0x7ffa9e690d90\u001b[0m\u001b[1m>\u001b[0m\n"
      ]
     },
     "metadata": {},
     "output_type": "display_data"
    },
    {
     "data": {
      "image/png": "[encoded data removed]"
     },
     "metadata": {},
     "output_type": "display_data"
    }
   ],
   "source": [
    "plt.imshow(bg_atlas.annotation[60], vmin=100, vmax=2000)"
   ]
  },
  {
   "cell_type": "code",
   "execution_count": 92,
   "id": "35a1f490",
   "metadata": {},
   "outputs": [
    {
     "name": "stdout",
     "output_type": "stream",
     "text": [
      "STRd (485)\n",
      "└── CP (672)\n",
      "    ├── CPc (2496)\n",
      "    │   ├── CPc, d (2493)\n",
      "    │   │   ├── CPc, d, dl (2485)\n",
      "    │   │   ├── CPc, d, dm (2484)\n",
      "    │   │   └── CPc, d, vm (2486)\n",
      "    │   ├── CPc, i (2494)\n",
      "    │   │   ├── CPc, i, d (2487)\n",
      "    │   │   ├── CPc, i, vl (2488)\n",
      "    │   │   └── CPc, i, vm (2489)\n",
      "    │   └── CPc, v (2490)\n",
      "    ├── CPce (2495)\n",
      "    ├── CPi (2492)\n",
      "    │   ├── CPi, dl (2499)\n",
      "    │   │   ├── CPi, dl, d (2300)\n",
      "    │   │   └── CPi, dl, imd (2301)\n",
      "    │   ├── CPi, dm (2498)\n",
      "    │   │   ├── CPi, dm, cd (2374)\n",
      "    │   │   ├── CPi, dm, dl (2299)\n",
      "    │   │   ├── CPi, dm, dt (2380)\n",
      "    │   │   └── CPi, dm, im (2298)\n",
      "    │   ├── CPi, vl (2501)\n",
      "    │   │   ├── CPi, vl, cvl (2370)\n",
      "    │   │   ├── CPi, vl, imv (2479)\n",
      "    │   │   ├── CPi, vl, v (2482)\n",
      "    │   │   └── CPi, vl, vt (2481)\n",
      "    │   └── CPi, vm (2500)\n",
      "    │       ├── CPi, vm, cvm (2483)\n",
      "    │       ├── CPi, vm, v (2480)\n",
      "    │       └── CPi, vm, vm (2302)\n",
      "    ├── CPr (2491)\n",
      "    │   ├── CPr, imd (2295)\n",
      "    │   ├── CPr, imv (2296)\n",
      "    │   ├── CPr, l (2497)\n",
      "    │   │   ├── CPr, l, ls (2395)\n",
      "    │   │   └── CPr, l, vm (2297)\n",
      "    │   └── CPr, m (2294)\n",
      "    └── CPre (2376)\n",
      "\n"
     ]
    }
   ],
   "source": [
    "_ = get_subtree(\n",
    "    tree = bg_atlas.hierarchy,\n",
    "    base_id=485,\n",
    "    n_levels=9,\n",
    "    show=True,\n",
    ")"
   ]
  },
  {
   "cell_type": "code",
   "execution_count": 99,
   "id": "2e843a53",
   "metadata": {},
   "outputs": [
    {
     "data": {
      "text/html": [
       "<pre style=\"white-space:pre;overflow-x:auto;line-height:normal;font-family:Menlo,'DejaVu Sans Mono',consolas,'Courier New',monospace\"><span style=\"font-weight: bold\">{</span>\n",
       "    <span style=\"color: #008000; text-decoration-color: #008000\">'name'</span>: <span style=\"color: #008000; text-decoration-color: #008000\">'Caudoputamen- intermediate, dorsomedial, central dorsal'</span>,\n",
       "    <span style=\"color: #008000; text-decoration-color: #008000\">'acronym'</span>: <span style=\"color: #008000; text-decoration-color: #008000\">'CPi, dm, cd'</span>,\n",
       "    <span style=\"color: #008000; text-decoration-color: #008000\">'id'</span>: <span style=\"color: #008080; text-decoration-color: #008080; font-weight: bold\">2374</span>,\n",
       "    <span style=\"color: #008000; text-decoration-color: #008000\">'structure_id_path'</span>: <span style=\"font-weight: bold\">[</span><span style=\"color: #008080; text-decoration-color: #008080; font-weight: bold\">997</span>, <span style=\"color: #008080; text-decoration-color: #008080; font-weight: bold\">8</span>, <span style=\"color: #008080; text-decoration-color: #008080; font-weight: bold\">567</span>, <span style=\"color: #008080; text-decoration-color: #008080; font-weight: bold\">623</span>, <span style=\"color: #008080; text-decoration-color: #008080; font-weight: bold\">477</span>, <span style=\"color: #008080; text-decoration-color: #008080; font-weight: bold\">485</span>, <span style=\"color: #008080; text-decoration-color: #008080; font-weight: bold\">672</span>, <span style=\"color: #008080; text-decoration-color: #008080; font-weight: bold\">2492</span>, <span style=\"color: #008080; text-decoration-color: #008080; font-weight: bold\">2498</span>, <span style=\"color: #008080; text-decoration-color: #008080; font-weight: bold\">2374</span><span style=\"font-weight: bold\">]</span>,\n",
       "    <span style=\"color: #008000; text-decoration-color: #008000\">'rgb_triplet'</span>: <span style=\"font-weight: bold\">[</span><span style=\"color: #008080; text-decoration-color: #008080; font-weight: bold\">255</span>, <span style=\"color: #008080; text-decoration-color: #008080; font-weight: bold\">255</span>, <span style=\"color: #008080; text-decoration-color: #008080; font-weight: bold\">255</span><span style=\"font-weight: bold\">]</span>,\n",
       "    <span style=\"color: #008000; text-decoration-color: #008000\">'mesh_filename'</span>: <span style=\"color: #800080; text-decoration-color: #800080; font-weight: bold\">PosixPath</span><span style=\"font-weight: bold\">(</span><span style=\"color: #008000; text-decoration-color: #008000\">'/home/hadi/.brainglobe/kim_mouse_100um_v1.0/meshes/2374.obj'</span><span style=\"font-weight: bold\">)</span>,\n",
       "    <span style=\"color: #008000; text-decoration-color: #008000\">'mesh'</span>: <span style=\"font-weight: bold\">&lt;</span><span style=\"color: #ff00ff; text-decoration-color: #ff00ff; font-weight: bold\">meshio</span><span style=\"color: #000000; text-decoration-color: #000000\"> mesh object</span><span style=\"font-weight: bold\">&gt;</span>\n",
       "  Number of points: <span style=\"color: #008080; text-decoration-color: #008080; font-weight: bold\">4296</span>\n",
       "  Number of cells:\n",
       "    triangle: <span style=\"color: #008080; text-decoration-color: #008080; font-weight: bold\">4300</span>\n",
       "<span style=\"font-weight: bold\">}</span>\n",
       "</pre>\n"
      ],
      "text/plain": [
       "\u001b[1m{\u001b[0m\n",
       "    \u001b[32m'name'\u001b[0m: \u001b[32m'Caudoputamen- intermediate, dorsomedial, central dorsal'\u001b[0m,\n",
       "    \u001b[32m'acronym'\u001b[0m: \u001b[32m'CPi, dm, cd'\u001b[0m,\n",
       "    \u001b[32m'id'\u001b[0m: \u001b[1;36m2374\u001b[0m,\n",
       "    \u001b[32m'structure_id_path'\u001b[0m: \u001b[1m[\u001b[0m\u001b[1;36m997\u001b[0m, \u001b[1;36m8\u001b[0m, \u001b[1;36m567\u001b[0m, \u001b[1;36m623\u001b[0m, \u001b[1;36m477\u001b[0m, \u001b[1;36m485\u001b[0m, \u001b[1;36m672\u001b[0m, \u001b[1;36m2492\u001b[0m, \u001b[1;36m2498\u001b[0m, \u001b[1;36m2374\u001b[0m\u001b[1m]\u001b[0m,\n",
       "    \u001b[32m'rgb_triplet'\u001b[0m: \u001b[1m[\u001b[0m\u001b[1;36m255\u001b[0m, \u001b[1;36m255\u001b[0m, \u001b[1;36m255\u001b[0m\u001b[1m]\u001b[0m,\n",
       "    \u001b[32m'mesh_filename'\u001b[0m: \u001b[1;35mPosixPath\u001b[0m\u001b[1m(\u001b[0m\u001b[32m'/home/hadi/.brainglobe/kim_mouse_100um_v1.0/meshes/2374.obj'\u001b[0m\u001b[1m)\u001b[0m,\n",
       "    \u001b[32m'mesh'\u001b[0m: \u001b[1m<\u001b[0m\u001b[1;95mmeshio\u001b[0m\u001b[39m mesh object\u001b[0m\u001b[1m>\u001b[0m\n",
       "  Number of points: \u001b[1;36m4296\u001b[0m\n",
       "  Number of cells:\n",
       "    triangle: \u001b[1;36m4300\u001b[0m\n",
       "\u001b[1m}\u001b[0m\n"
      ]
     },
     "metadata": {},
     "output_type": "display_data"
    }
   ],
   "source": [
    "bg_atlas.structures[2374]"
   ]
  },
  {
   "cell_type": "code",
   "execution_count": 98,
   "id": "18aa8d52",
   "metadata": {},
   "outputs": [
    {
     "data": {
      "text/html": [
       "<pre style=\"white-space:pre;overflow-x:auto;line-height:normal;font-family:Menlo,'DejaVu Sans Mono',consolas,'Courier New',monospace\"><span style=\"font-weight: bold\">[</span>\n",
       "    <span style=\"color: #008000; text-decoration-color: #008000\">'CP'</span>,\n",
       "    <span style=\"color: #008000; text-decoration-color: #008000\">'CPre'</span>,\n",
       "    <span style=\"color: #008000; text-decoration-color: #008000\">'CPr'</span>,\n",
       "    <span style=\"color: #008000; text-decoration-color: #008000\">'CPr, m'</span>,\n",
       "    <span style=\"color: #008000; text-decoration-color: #008000\">'CPr, imd'</span>,\n",
       "    <span style=\"color: #008000; text-decoration-color: #008000\">'CPr, imv'</span>,\n",
       "    <span style=\"color: #008000; text-decoration-color: #008000\">'CPr, l'</span>,\n",
       "    <span style=\"color: #008000; text-decoration-color: #008000\">'CPr, l, ls'</span>,\n",
       "    <span style=\"color: #008000; text-decoration-color: #008000\">'CPr, l, vm'</span>,\n",
       "    <span style=\"color: #008000; text-decoration-color: #008000\">'CPi'</span>,\n",
       "    <span style=\"color: #008000; text-decoration-color: #008000\">'CPi, dm'</span>,\n",
       "    <span style=\"color: #008000; text-decoration-color: #008000\">'CPi, dm, dl'</span>,\n",
       "    <span style=\"color: #008000; text-decoration-color: #008000\">'CPi, dm, im'</span>,\n",
       "    <span style=\"color: #008000; text-decoration-color: #008000\">'CPi, dm, cd'</span>,\n",
       "    <span style=\"color: #008000; text-decoration-color: #008000\">'CPi, dm, dt'</span>,\n",
       "    <span style=\"color: #008000; text-decoration-color: #008000\">'CPi, vm'</span>,\n",
       "    <span style=\"color: #008000; text-decoration-color: #008000\">'CPi, vm, vm'</span>,\n",
       "    <span style=\"color: #008000; text-decoration-color: #008000\">'CPi, vm, v'</span>,\n",
       "    <span style=\"color: #008000; text-decoration-color: #008000\">'CPi, vm, cvm'</span>,\n",
       "    <span style=\"color: #008000; text-decoration-color: #008000\">'CPi, dl'</span>,\n",
       "    <span style=\"color: #008000; text-decoration-color: #008000\">'CPi, dl, d'</span>,\n",
       "    <span style=\"color: #008000; text-decoration-color: #008000\">'CPi, dl, imd'</span>,\n",
       "    <span style=\"color: #008000; text-decoration-color: #008000\">'CPi, vl'</span>,\n",
       "    <span style=\"color: #008000; text-decoration-color: #008000\">'CPi, vl, imv'</span>,\n",
       "    <span style=\"color: #008000; text-decoration-color: #008000\">'CPi, vl, v'</span>,\n",
       "    <span style=\"color: #008000; text-decoration-color: #008000\">'CPi, vl, vt'</span>,\n",
       "    <span style=\"color: #008000; text-decoration-color: #008000\">'CPi, vl, cvl'</span>,\n",
       "    <span style=\"color: #008000; text-decoration-color: #008000\">'CPc'</span>,\n",
       "    <span style=\"color: #008000; text-decoration-color: #008000\">'CPc, d'</span>,\n",
       "    <span style=\"color: #008000; text-decoration-color: #008000\">'CPc, d, dm'</span>,\n",
       "    <span style=\"color: #008000; text-decoration-color: #008000\">'CPc, d, dl'</span>,\n",
       "    <span style=\"color: #008000; text-decoration-color: #008000\">'CPc, d, vm'</span>,\n",
       "    <span style=\"color: #008000; text-decoration-color: #008000\">'CPc, i'</span>,\n",
       "    <span style=\"color: #008000; text-decoration-color: #008000\">'CPc, i, d'</span>,\n",
       "    <span style=\"color: #008000; text-decoration-color: #008000\">'CPc, i, vm'</span>,\n",
       "    <span style=\"color: #008000; text-decoration-color: #008000\">'CPc, i, vl'</span>,\n",
       "    <span style=\"color: #008000; text-decoration-color: #008000\">'CPc, v'</span>,\n",
       "    <span style=\"color: #008000; text-decoration-color: #008000\">'CPce'</span>\n",
       "<span style=\"font-weight: bold\">]</span>\n",
       "</pre>\n"
      ],
      "text/plain": [
       "\u001b[1m[\u001b[0m\n",
       "    \u001b[32m'CP'\u001b[0m,\n",
       "    \u001b[32m'CPre'\u001b[0m,\n",
       "    \u001b[32m'CPr'\u001b[0m,\n",
       "    \u001b[32m'CPr, m'\u001b[0m,\n",
       "    \u001b[32m'CPr, imd'\u001b[0m,\n",
       "    \u001b[32m'CPr, imv'\u001b[0m,\n",
       "    \u001b[32m'CPr, l'\u001b[0m,\n",
       "    \u001b[32m'CPr, l, ls'\u001b[0m,\n",
       "    \u001b[32m'CPr, l, vm'\u001b[0m,\n",
       "    \u001b[32m'CPi'\u001b[0m,\n",
       "    \u001b[32m'CPi, dm'\u001b[0m,\n",
       "    \u001b[32m'CPi, dm, dl'\u001b[0m,\n",
       "    \u001b[32m'CPi, dm, im'\u001b[0m,\n",
       "    \u001b[32m'CPi, dm, cd'\u001b[0m,\n",
       "    \u001b[32m'CPi, dm, dt'\u001b[0m,\n",
       "    \u001b[32m'CPi, vm'\u001b[0m,\n",
       "    \u001b[32m'CPi, vm, vm'\u001b[0m,\n",
       "    \u001b[32m'CPi, vm, v'\u001b[0m,\n",
       "    \u001b[32m'CPi, vm, cvm'\u001b[0m,\n",
       "    \u001b[32m'CPi, dl'\u001b[0m,\n",
       "    \u001b[32m'CPi, dl, d'\u001b[0m,\n",
       "    \u001b[32m'CPi, dl, imd'\u001b[0m,\n",
       "    \u001b[32m'CPi, vl'\u001b[0m,\n",
       "    \u001b[32m'CPi, vl, imv'\u001b[0m,\n",
       "    \u001b[32m'CPi, vl, v'\u001b[0m,\n",
       "    \u001b[32m'CPi, vl, vt'\u001b[0m,\n",
       "    \u001b[32m'CPi, vl, cvl'\u001b[0m,\n",
       "    \u001b[32m'CPc'\u001b[0m,\n",
       "    \u001b[32m'CPc, d'\u001b[0m,\n",
       "    \u001b[32m'CPc, d, dm'\u001b[0m,\n",
       "    \u001b[32m'CPc, d, dl'\u001b[0m,\n",
       "    \u001b[32m'CPc, d, vm'\u001b[0m,\n",
       "    \u001b[32m'CPc, i'\u001b[0m,\n",
       "    \u001b[32m'CPc, i, d'\u001b[0m,\n",
       "    \u001b[32m'CPc, i, vm'\u001b[0m,\n",
       "    \u001b[32m'CPc, i, vl'\u001b[0m,\n",
       "    \u001b[32m'CPc, v'\u001b[0m,\n",
       "    \u001b[32m'CPce'\u001b[0m\n",
       "\u001b[1m]\u001b[0m\n"
      ]
     },
     "metadata": {},
     "output_type": "display_data"
    }
   ],
   "source": [
    "bg_atlas.get_structure_descendants(485)"
   ]
  },
  {
   "cell_type": "code",
   "execution_count": null,
   "id": "b27b469f",
   "metadata": {},
   "outputs": [],
   "source": []
  },
  {
   "cell_type": "code",
   "execution_count": null,
   "id": "53db9bf4",
   "metadata": {},
   "outputs": [],
   "source": []
  },
  {
   "cell_type": "code",
   "execution_count": 19,
   "id": "4a4f20cc",
   "metadata": {},
   "outputs": [],
   "source": [
    "t = tables['BS']"
   ]
  },
  {
   "cell_type": "code",
   "execution_count": 20,
   "id": "4855a42a",
   "metadata": {},
   "outputs": [],
   "source": [
    "html = t.get_html_string(\n",
    "    header=True,\n",
    "    border=True,\n",
    "    format=True,\n",
    ")"
   ]
  },
  {
   "cell_type": "code",
   "execution_count": 21,
   "id": "ba0478d0",
   "metadata": {},
   "outputs": [
    {
     "data": {
      "text/html": [
       "<pre style=\"white-space:pre;overflow-x:auto;line-height:normal;font-family:Menlo,'DejaVu Sans Mono',consolas,'Courier New',monospace\"><span style=\"color: #008000; text-decoration-color: #008000\">'&lt;table frame=\"box\" rules=\"cols\"&gt;\\n    &lt;thead&gt;\\n        &lt;tr&gt;\\n            &lt;th style=\"padding-left: 1em; padding-right: 1em; text-align: center\"&gt;lvl&lt;/th&gt;\\n            &lt;th style=\"padding-left: 1em; padding-right: 1em; text-align: center\"&gt;id&lt;/th&gt;\\n            &lt;th style=\"padding-left: 1em; padding-right: 1em; text-align: center\"&gt;acronym (name)&lt;/th&gt;\\n            &lt;th style=\"padding-left: 1em; padding-right: 1em; text-align: center\"&gt;parent&lt;/th&gt;\\n            &lt;th style=\"padding-left: 1em; padding-right: 1em; text-align: center\"&gt;# vox&lt;/th&gt;\\n            &lt;th style=\"padding-left: 1em; padding-right: 1em; text-align: center\"&gt;sz / cortex&lt;/th&gt;\\n        &lt;/tr&gt;\\n    &lt;/thead&gt;\\n    &lt;tbody&gt;\\n        &lt;tr&gt;\\n            &lt;td style=\"padding-left: 1em; padding-right: 1em; text-align: center; vertical-align: top\"&gt;---&lt;/td&gt;\\n            &lt;td style=\"padding-left: 1em; padding-right: 1em; text-align: center; vertical-align: top\"&gt;---&lt;/td&gt;\\n            &lt;td style=\"padding-left: 1em; padding-right: 1em; text-align: left; vertical-align: top\"&gt;---&lt;/td&gt;\\n            &lt;td style=\"padding-left: 1em; padding-right: 1em; text-align: left; vertical-align: top\"&gt;---&lt;/td&gt;\\n            &lt;td style=\"padding-left: 1em; padding-right: 1em; text-align: center; vertical-align: top\"&gt;---&lt;/td&gt;\\n            &lt;td style=\"padding-left: 1em; padding-right: 1em; text-align: center; vertical-align: top\"&gt;---&lt;/td&gt;\\n        &lt;/tr&gt;\\n        &lt;tr&gt;\\n            &lt;td style=\"padding-left: 1em; padding-right: 1em; text-align: center; vertical-align: top\"&gt;2&lt;/td&gt;\\n            &lt;td style=\"padding-left: 1em; padding-right: 1em; text-align: center; vertical-align: top\"&gt;343&lt;/td&gt;\\n            &lt;td style=\"padding-left: 1em; padding-right: 1em; text-align: left; vertical-align: top\"&gt;BS (Brain stem)&lt;/td&gt;\\n            &lt;td style=\"padding-left: 1em; padding-right: 1em; text-align: left; vertical-align: top\"&gt;BS (Basic c...)&lt;/td&gt;\\n            &lt;td style=\"padding-left: 1em; padding-right: 1em; text-align: center; vertical-align: top\"&gt;119632&lt;/td&gt;\\n            &lt;td style=\"padding-left: 1em; padding-right: 1em; text-align: center; vertical-align: top\"&gt;97 %&lt;/td&gt;\\n        &lt;/tr&gt;\\n        &lt;tr&gt;\\n            &lt;td style=\"padding-left: 1em; padding-right: 1em; text-align: center; vertical-align: top\"&gt;---&lt;/td&gt;\\n            &lt;td style=\"padding-left: 1em; padding-right: 1em; text-align: center; vertical-align: top\"&gt;---&lt;/td&gt;\\n            &lt;td style=\"padding-left: 1em; padding-right: 1em; text-align: left; vertical-align: top\"&gt;---&lt;/td&gt;\\n            &lt;td style=\"padding-left: 1em; padding-right: 1em; text-align: left; vertical-align: top\"&gt;---&lt;/td&gt;\\n            &lt;td style=\"padding-left: 1em; padding-right: 1em; text-align: center; vertical-align: top\"&gt;---&lt;/td&gt;\\n            &lt;td style=\"padding-left: 1em; padding-right: 1em; text-align: center; vertical-align: top\"&gt;---&lt;/td&gt;\\n        &lt;/tr&gt;\\n        &lt;tr&gt;\\n            &lt;td style=\"padding-left: 1em; padding-right: 1em; text-align: center; vertical-align: top\"&gt;3&lt;/td&gt;\\n            &lt;td style=\"padding-left: 1em; padding-right: 1em; text-align: center; vertical-align: top\"&gt;1065&lt;/td&gt;\\n            &lt;td style=\"padding-left: 1em; padding-right: 1em; text-align: left; vertical-align: top\"&gt;HB (Hindbrain)&lt;/td&gt;\\n            &lt;td style=\"padding-left: 1em; padding-right: 1em; text-align: left; vertical-align: top\"&gt;HB (Brain stem)&lt;/td&gt;\\n            &lt;td style=\"padding-left: 1em; padding-right: 1em; text-align: center; vertical-align: top\"&gt;47624&lt;/td&gt;\\n            &lt;td style=\"padding-left: 1em; padding-right: 1em; text-align: center; vertical-align: top\"&gt;39 %&lt;/td&gt;\\n        &lt;/tr&gt;\\n        &lt;tr&gt;\\n            &lt;td style=\"padding-left: 1em; padding-right: 1em; text-align: center; vertical-align: top\"&gt;3&lt;/td&gt;\\n            &lt;td style=\"padding-left: 1em; padding-right: 1em; text-align: center; vertical-align: top\"&gt;1129&lt;/td&gt;\\n            &lt;td style=\"padding-left: 1em; padding-right: 1em; text-align: left; vertical-align: top\"&gt;IB (Interbrain)&lt;/td&gt;\\n            &lt;td style=\"padding-left: 1em; padding-right: 1em; text-align: left; vertical-align: top\"&gt;IB (Brain stem)&lt;/td&gt;\\n            &lt;td style=\"padding-left: 1em; padding-right: 1em; text-align: center; vertical-align: top\"&gt;35335&lt;/td&gt;\\n            &lt;td style=\"padding-left: 1em; padding-right: 1em; text-align: center; vertical-align: top\"&gt;29 %&lt;/td&gt;\\n        &lt;/tr&gt;\\n        &lt;tr&gt;\\n            &lt;td style=\"padding-left: 1em; padding-right: 1em; text-align: center; vertical-align: top\"&gt;3&lt;/td&gt;\\n            &lt;td style=\"padding-left: 1em; padding-right: 1em; text-align: center; vertical-align: top\"&gt;313&lt;/td&gt;\\n            &lt;td style=\"padding-left: 1em; padding-right: 1em; text-align: left; vertical-align: top\"&gt;MB (Midbrain)&lt;/td&gt;\\n            &lt;td style=\"padding-left: 1em; padding-right: 1em; text-align: left; vertical-align: top\"&gt;MB (Brain stem)&lt;/td&gt;\\n            &lt;td style=\"padding-left: 1em; padding-right: 1em; text-align: center; vertical-align: top\"&gt;36673&lt;/td&gt;\\n            &lt;td style=\"padding-left: 1em; padding-right: 1em; text-align: center; vertical-align: top\"&gt;30 %&lt;/td&gt;\\n        &lt;/tr&gt;\\n        &lt;tr&gt;\\n            &lt;td style=\"padding-left: 1em; padding-right: 1em; text-align: center; vertical-align: top\"&gt;---&lt;/td&gt;\\n            &lt;td style=\"padding-left: 1em; padding-right: 1em; text-align: center; vertical-align: top\"&gt;---&lt;/td&gt;\\n            &lt;td style=\"padding-left: 1em; padding-right: 1em; text-align: left; vertical-align: top\"&gt;---&lt;/td&gt;\\n            &lt;td style=\"padding-left: 1em; padding-right: 1em; text-align: left; vertical-align: top\"&gt;---&lt;/td&gt;\\n            &lt;td style=\"padding-left: 1em; padding-right: 1em; text-align: center; vertical-align: top\"&gt;---&lt;/td&gt;\\n            &lt;td style=\"padding-left: 1em; padding-right: 1em; text-align: center; vertical-align: top\"&gt;---&lt;/td&gt;\\n        &lt;/tr&gt;\\n        &lt;tr&gt;\\n            &lt;td style=\"padding-left: 1em; padding-right: 1em; text-align: center; vertical-align: top\"&gt;4&lt;/td&gt;\\n            &lt;td style=\"padding-left: 1em; padding-right: 1em; text-align: center; vertical-align: top\"&gt;323&lt;/td&gt;\\n            &lt;td style=\"padding-left: 1em; padding-right: 1em; text-align: left; vertical-align: top\"&gt;MBmot (Midbrain, motor related)&lt;/td&gt;\\n            &lt;td style=\"padding-left: 1em; padding-right: 1em; text-align: left; vertical-align: top\"&gt;MBmot (Midbrain)&lt;/td&gt;\\n            &lt;td style=\"padding-left: 1em; padding-right: 1em; text-align: center; vertical-align: top\"&gt;21343&lt;/td&gt;\\n            &lt;td style=\"padding-left: 1em; padding-right: 1em; text-align: center; vertical-align: top\"&gt;17 %&lt;/td&gt;\\n        &lt;/tr&gt;\\n        &lt;tr&gt;\\n            &lt;td style=\"padding-left: 1em; padding-right: 1em; text-align: center; vertical-align: top\"&gt;4&lt;/td&gt;\\n            &lt;td style=\"padding-left: 1em; padding-right: 1em; text-align: center; vertical-align: top\"&gt;339&lt;/td&gt;\\n            &lt;td style=\"padding-left: 1em; padding-right: 1em; text-align: left; vertical-align: top\"&gt;MBsen (Midbrain, sensory related)&lt;/td&gt;\\n            &lt;td style=\"padding-left: 1em; padding-right: 1em; text-align: left; vertical-align: top\"&gt;MBsen (Midbrain)&lt;/td&gt;\\n            &lt;td style=\"padding-left: 1em; padding-right: 1em; text-align: center; vertical-align: top\"&gt;6838&lt;/td&gt;\\n            &lt;td style=\"padding-left: 1em; padding-right: 1em; text-align: center; vertical-align: top\"&gt;6 %&lt;/td&gt;\\n        &lt;/tr&gt;\\n        &lt;tr&gt;\\n            &lt;td style=\"padding-left: 1em; padding-right: 1em; text-align: center; vertical-align: top\"&gt;4&lt;/td&gt;\\n            &lt;td style=\"padding-left: 1em; padding-right: 1em; text-align: center; vertical-align: top\"&gt;348&lt;/td&gt;\\n            &lt;td style=\"padding-left: 1em; padding-right: 1em; text-align: left; vertical-align: top\"&gt;MBsta (Midbrain, behavioral state related)&lt;/td&gt;\\n            &lt;td style=\"padding-left: 1em; padding-right: 1em; text-align: left; vertical-align: top\"&gt;MBsta (Midbrain)&lt;/td&gt;\\n            &lt;td style=\"padding-left: 1em; padding-right: 1em; text-align: center; vertical-align: top\"&gt;1813&lt;/td&gt;\\n            &lt;td style=\"padding-left: 1em; padding-right: 1em; text-align: center; vertical-align: top\"&gt;1 %&lt;/td&gt;\\n        &lt;/tr&gt;\\n        &lt;tr&gt;\\n            &lt;td style=\"padding-left: 1em; padding-right: 1em; text-align: center; vertical-align: top\"&gt;5&lt;/td&gt;\\n            &lt;td style=\"padding-left: 1em; padding-right: 1em; text-align: center; vertical-align: top\"&gt;856&lt;/td&gt;\\n            &lt;td style=\"padding-left: 1em; padding-right: 1em; text-align: left; vertical-align: top\"&gt;DORpm (Thalamus, polymodal association cortex related)&lt;/td&gt;\\n            &lt;td style=\"padding-left: 1em; padding-right: 1em; text-align: left; vertical-align: top\"&gt;DORpm (Thalamus)&lt;/td&gt;\\n            &lt;td style=\"padding-left: 1em; padding-right: 1em; text-align: center; vertical-align: top\"&gt;12698&lt;/td&gt;\\n            &lt;td style=\"padding-left: 1em; padding-right: 1em; text-align: center; vertical-align: top\"&gt;10 %&lt;/td&gt;\\n        &lt;/tr&gt;\\n        &lt;tr&gt;\\n            &lt;td style=\"padding-left: 1em; padding-right: 1em; text-align: center; vertical-align: top\"&gt;5&lt;/td&gt;\\n            &lt;td style=\"padding-left: 1em; padding-right: 1em; text-align: center; vertical-align: top\"&gt;864&lt;/td&gt;\\n            &lt;td style=\"padding-left: 1em; padding-right: 1em; text-align: left; vertical-align: top\"&gt;DORsm (Thalamus, sensory-motor cortex related)&lt;/td&gt;\\n            &lt;td style=\"padding-left: 1em; padding-right: 1em; text-align: left; vertical-align: top\"&gt;DORsm (Thalamus)&lt;/td&gt;\\n            &lt;td style=\"padding-left: 1em; padding-right: 1em; text-align: center; vertical-align: top\"&gt;6697&lt;/td&gt;\\n            &lt;td style=\"padding-left: 1em; padding-right: 1em; text-align: center; vertical-align: top\"&gt;5 %&lt;/td&gt;\\n        &lt;/tr&gt;\\n        &lt;tr&gt;\\n            &lt;td style=\"padding-left: 1em; padding-right: 1em; text-align: center; vertical-align: top\"&gt;5&lt;/td&gt;\\n            &lt;td style=\"padding-left: 1em; padding-right: 1em; text-align: center; vertical-align: top\"&gt;290&lt;/td&gt;\\n            &lt;td style=\"padding-left: 1em; padding-right: 1em; text-align: left; vertical-align: top\"&gt;LZ (Hypothalamic lateral zone)&lt;/td&gt;\\n            &lt;td style=\"padding-left: 1em; padding-right: 1em; text-align: left; vertical-align: top\"&gt;LZ (Hypothalamus)&lt;/td&gt;\\n            &lt;td style=\"padding-left: 1em; padding-right: 1em; text-align: center; vertical-align: top\"&gt;5697&lt;/td&gt;\\n            &lt;td style=\"padding-left: 1em; padding-right: 1em; text-align: center; vertical-align: top\"&gt;5 %&lt;/td&gt;\\n        &lt;/tr&gt;\\n        &lt;tr&gt;\\n            &lt;td style=\"padding-left: 1em; padding-right: 1em; text-align: center; vertical-align: top\"&gt;5&lt;/td&gt;\\n            &lt;td style=\"padding-left: 1em; padding-right: 1em; text-align: center; vertical-align: top\"&gt;467&lt;/td&gt;\\n            &lt;td style=\"padding-left: 1em; padding-right: 1em; text-align: left; vertical-align: top\"&gt;MEZ (Hypothalamic medial zone)&lt;/td&gt;\\n            &lt;td style=\"padding-left: 1em; padding-right: 1em; text-align: left; vertical-align: top\"&gt;MEZ (Hypothalamus)&lt;/td&gt;\\n            &lt;td style=\"padding-left: 1em; padding-right: 1em; text-align: center; vertical-align: top\"&gt;3843&lt;/td&gt;\\n            &lt;td style=\"padding-left: 1em; padding-right: 1em; text-align: center; vertical-align: top\"&gt;3 %&lt;/td&gt;\\n        &lt;/tr&gt;\\n        &lt;tr&gt;\\n            &lt;td style=\"padding-left: 1em; padding-right: 1em; text-align: center; vertical-align: top\"&gt;5&lt;/td&gt;\\n            &lt;td style=\"padding-left: 1em; padding-right: 1em; text-align: center; vertical-align: top\"&gt;370&lt;/td&gt;\\n            &lt;td style=\"padding-left: 1em; padding-right: 1em; text-align: left; vertical-align: top\"&gt;MY-mot (motor related)&lt;/td&gt;\\n            &lt;td style=\"padding-left: 1em; padding-right: 1em; text-align: left; vertical-align: top\"&gt;MY-mot (Medulla)&lt;/td&gt;\\n            &lt;td style=\"padding-left: 1em; padding-right: 1em; text-align: center; vertical-align: top\"&gt;17471&lt;/td&gt;\\n            &lt;td style=\"padding-left: 1em; padding-right: 1em; text-align: center; vertical-align: top\"&gt;14 %&lt;/td&gt;\\n        &lt;/tr&gt;\\n        &lt;tr&gt;\\n            &lt;td style=\"padding-left: 1em; padding-right: 1em; text-align: center; vertical-align: top\"&gt;5&lt;/td&gt;\\n            &lt;td style=\"padding-left: 1em; padding-right: 1em; text-align: center; vertical-align: top\"&gt;379&lt;/td&gt;\\n            &lt;td style=\"padding-left: 1em; padding-right: 1em; text-align: left; vertical-align: top\"&gt;MY-sat (behavioral state related)&lt;/td&gt;\\n            &lt;td style=\"padding-left: 1em; padding-right: 1em; text-align: left; vertical-align: top\"&gt;MY-sat (Medulla)&lt;/td&gt;\\n            &lt;td style=\"padding-left: 1em; padding-right: 1em; text-align: center; vertical-align: top\"&gt;249&lt;/td&gt;\\n            &lt;td style=\"padding-left: 1em; padding-right: 1em; text-align: center; vertical-align: top\"&gt;0 %&lt;/td&gt;\\n        &lt;/tr&gt;\\n        &lt;tr&gt;\\n            &lt;td style=\"padding-left: 1em; padding-right: 1em; text-align: center; vertical-align: top\"&gt;5&lt;/td&gt;\\n            &lt;td style=\"padding-left: 1em; padding-right: 1em; text-align: center; vertical-align: top\"&gt;386&lt;/td&gt;\\n            &lt;td style=\"padding-left: 1em; padding-right: 1em; text-align: left; vertical-align: top\"&gt;MY-sen (sensory related)&lt;/td&gt;\\n            &lt;td style=\"padding-left: 1em; padding-right: 1em; text-align: left; vertical-align: top\"&gt;MY-sen (Medulla)&lt;/td&gt;\\n            &lt;td style=\"padding-left: 1em; padding-right: 1em; text-align: center; vertical-align: top\"&gt;7891&lt;/td&gt;\\n            &lt;td style=\"padding-left: 1em; padding-right: 1em; text-align: center; vertical-align: top\"&gt;6 %&lt;/td&gt;\\n        &lt;/tr&gt;\\n        &lt;tr&gt;\\n            &lt;td style=\"padding-left: 1em; padding-right: 1em; text-align: center; vertical-align: top\"&gt;5&lt;/td&gt;\\n            &lt;td style=\"padding-left: 1em; padding-right: 1em; text-align: center; vertical-align: top\"&gt;987&lt;/td&gt;\\n            &lt;td style=\"padding-left: 1em; padding-right: 1em; text-align: left; vertical-align: top\"&gt;P-mot (motor related)&lt;/td&gt;\\n            &lt;td style=\"padding-left: 1em; padding-right: 1em; text-align: left; vertical-align: top\"&gt;P-mot (Pons)&lt;/td&gt;\\n            &lt;td style=\"padding-left: 1em; padding-right: 1em; text-align: center; vertical-align: top\"&gt;5772&lt;/td&gt;\\n            &lt;td style=\"padding-left: 1em; padding-right: 1em; text-align: center; vertical-align: top\"&gt;5 %&lt;/td&gt;\\n        &lt;/tr&gt;\\n        &lt;tr&gt;\\n            &lt;td style=\"padding-left: 1em; padding-right: 1em; text-align: center; vertical-align: top\"&gt;5&lt;/td&gt;\\n            &lt;td style=\"padding-left: 1em; padding-right: 1em; text-align: center; vertical-align: top\"&gt;1117&lt;/td&gt;\\n            &lt;td style=\"padding-left: 1em; padding-right: 1em; text-align: left; vertical-align: top\"&gt;P-sat (behavioral state related)&lt;/td&gt;\\n            &lt;td style=\"padding-left: 1em; padding-right: 1em; text-align: left; vertical-align: top\"&gt;P-sat (Pons)&lt;/td&gt;\\n            &lt;td style=\"padding-left: 1em; padding-right: 1em; text-align: center; vertical-align: top\"&gt;3427&lt;/td&gt;\\n            &lt;td style=\"padding-left: 1em; padding-right: 1em; text-align: center; vertical-align: top\"&gt;3 %&lt;/td&gt;\\n        &lt;/tr&gt;\\n        &lt;tr&gt;\\n            &lt;td style=\"padding-left: 1em; padding-right: 1em; text-align: center; vertical-align: top\"&gt;5&lt;/td&gt;\\n            &lt;td style=\"padding-left: 1em; padding-right: 1em; text-align: center; vertical-align: top\"&gt;1132&lt;/td&gt;\\n            &lt;td style=\"padding-left: 1em; padding-right: 1em; text-align: left; vertical-align: top\"&gt;P-sen (sensory related)&lt;/td&gt;\\n            &lt;td style=\"padding-left: 1em; padding-right: 1em; text-align: left; vertical-align: top\"&gt;P-sen (Pons)&lt;/td&gt;\\n            &lt;td style=\"padding-left: 1em; padding-right: 1em; text-align: center; vertical-align: top\"&gt;3893&lt;/td&gt;\\n            &lt;td style=\"padding-left: 1em; padding-right: 1em; text-align: center; vertical-align: top\"&gt;3 %&lt;/td&gt;\\n        &lt;/tr&gt;\\n        &lt;tr&gt;\\n            &lt;td style=\"padding-left: 1em; padding-right: 1em; text-align: center; vertical-align: top\"&gt;5&lt;/td&gt;\\n            &lt;td style=\"padding-left: 1em; padding-right: 1em; text-align: center; vertical-align: top\"&gt;141&lt;/td&gt;\\n            &lt;td style=\"padding-left: 1em; padding-right: 1em; text-align: left; vertical-align: top\"&gt;PVR (Periventricular region)&lt;/td&gt;\\n            &lt;td style=\"padding-left: 1em; padding-right: 1em; text-align: left; vertical-align: top\"&gt;PVR (Hypothalamus)&lt;/td&gt;\\n            &lt;td style=\"padding-left: 1em; padding-right: 1em; text-align: center; vertical-align: top\"&gt;2016&lt;/td&gt;\\n            &lt;td style=\"padding-left: 1em; padding-right: 1em; text-align: center; vertical-align: top\"&gt;2 %&lt;/td&gt;\\n        &lt;/tr&gt;\\n        &lt;tr&gt;\\n            &lt;td style=\"padding-left: 1em; padding-right: 1em; text-align: center; vertical-align: top\"&gt;5&lt;/td&gt;\\n            &lt;td style=\"padding-left: 1em; padding-right: 1em; text-align: center; vertical-align: top\"&gt;157&lt;/td&gt;\\n            &lt;td style=\"padding-left: 1em; padding-right: 1em; text-align: left; vertical-align: top\"&gt;PVZ (Periventricular zone)&lt;/td&gt;\\n            &lt;td style=\"padding-left: 1em; padding-right: 1em; text-align: left; vertical-align: top\"&gt;PVZ (Hypothalamus)&lt;/td&gt;\\n            &lt;td style=\"padding-left: 1em; padding-right: 1em; text-align: center; vertical-align: top\"&gt;680&lt;/td&gt;\\n            &lt;td style=\"padding-left: 1em; padding-right: 1em; text-align: center; vertical-align: top\"&gt;1 %&lt;/td&gt;\\n        &lt;/tr&gt;\\n        &lt;tr&gt;\\n            &lt;td style=\"padding-left: 1em; padding-right: 1em; text-align: center; vertical-align: top\"&gt;---&lt;/td&gt;\\n            &lt;td style=\"padding-left: 1em; padding-right: 1em; text-align: center; vertical-align: top\"&gt;---&lt;/td&gt;\\n            &lt;td style=\"padding-left: 1em; padding-right: 1em; text-align: left; vertical-align: top\"&gt;---&lt;/td&gt;\\n            &lt;td style=\"padding-left: 1em; padding-right: 1em; text-align: left; vertical-align: top\"&gt;---&lt;/td&gt;\\n            &lt;td style=\"padding-left: 1em; padding-right: 1em; text-align: center; vertical-align: top\"&gt;---&lt;/td&gt;\\n            &lt;td style=\"padding-left: 1em; padding-right: 1em; text-align: center; vertical-align: top\"&gt;---&lt;/td&gt;\\n        &lt;/tr&gt;\\n    &lt;/tbody&gt;\\n&lt;/table&gt;'</span>\n",
       "</pre>\n"
      ],
      "text/plain": [
       "\u001b[32m'\u001b[0m\u001b[32m<\u001b[0m\u001b[32mtable\u001b[0m\u001b[32m \u001b[0m\u001b[32mframe\u001b[0m\u001b[32m=\u001b[0m\u001b[32m\"box\"\u001b[0m\u001b[32m \u001b[0m\u001b[32mrules\u001b[0m\u001b[32m=\u001b[0m\u001b[32m\"cols\"\u001b[0m\u001b[32m>\u001b[0m\u001b[32m\\n    \u001b[0m\u001b[32m<\u001b[0m\u001b[32mthead\u001b[0m\u001b[32m>\u001b[0m\u001b[32m\\n        \u001b[0m\u001b[32m<\u001b[0m\u001b[32mtr\u001b[0m\u001b[32m>\u001b[0m\u001b[32m\\n            \u001b[0m\u001b[32m<\u001b[0m\u001b[32mth\u001b[0m\u001b[32m \u001b[0m\u001b[32mstyle\u001b[0m\u001b[32m=\u001b[0m\u001b[32m\"padding\u001b[0m\u001b[32m-left: 1em; padding-right: 1em; text-align: center\"\u001b[0m\u001b[32m>\u001b[0m\u001b[32mlvl\u001b[0m\u001b[32m<\u001b[0m\u001b[32m/th\u001b[0m\u001b[32m>\u001b[0m\u001b[32m\\n            \u001b[0m\u001b[32m<\u001b[0m\u001b[32mth\u001b[0m\u001b[32m \u001b[0m\u001b[32mstyle\u001b[0m\u001b[32m=\u001b[0m\u001b[32m\"padding\u001b[0m\u001b[32m-left: 1em; padding-right: 1em; text-align: center\"\u001b[0m\u001b[32m>\u001b[0m\u001b[32mid\u001b[0m\u001b[32m<\u001b[0m\u001b[32m/th\u001b[0m\u001b[32m>\u001b[0m\u001b[32m\\n            \u001b[0m\u001b[32m<\u001b[0m\u001b[32mth\u001b[0m\u001b[32m \u001b[0m\u001b[32mstyle\u001b[0m\u001b[32m=\u001b[0m\u001b[32m\"padding\u001b[0m\u001b[32m-left: 1em; padding-right: 1em; text-align: center\"\u001b[0m\u001b[32m>\u001b[0m\u001b[32macronym \u001b[0m\u001b[32m(\u001b[0m\u001b[32mname\u001b[0m\u001b[32m)\u001b[0m\u001b[32m<\u001b[0m\u001b[32m/th\u001b[0m\u001b[32m>\u001b[0m\u001b[32m\\n            \u001b[0m\u001b[32m<\u001b[0m\u001b[32mth\u001b[0m\u001b[32m \u001b[0m\u001b[32mstyle\u001b[0m\u001b[32m=\u001b[0m\u001b[32m\"padding\u001b[0m\u001b[32m-left: 1em; padding-right: 1em; text-align: center\"\u001b[0m\u001b[32m>\u001b[0m\u001b[32mparent\u001b[0m\u001b[32m<\u001b[0m\u001b[32m/th\u001b[0m\u001b[32m>\u001b[0m\u001b[32m\\n            \u001b[0m\u001b[32m<\u001b[0m\u001b[32mth\u001b[0m\u001b[32m \u001b[0m\u001b[32mstyle\u001b[0m\u001b[32m=\u001b[0m\u001b[32m\"padding\u001b[0m\u001b[32m-left: 1em; padding-right: 1em; text-align: center\"\u001b[0m\u001b[32m>\u001b[0m\u001b[32m# vox\u001b[0m\u001b[32m<\u001b[0m\u001b[32m/th\u001b[0m\u001b[32m>\u001b[0m\u001b[32m\\n            \u001b[0m\u001b[32m<\u001b[0m\u001b[32mth\u001b[0m\u001b[32m \u001b[0m\u001b[32mstyle\u001b[0m\u001b[32m=\u001b[0m\u001b[32m\"padding\u001b[0m\u001b[32m-left: 1em; padding-right: 1em; text-align: center\"\u001b[0m\u001b[32m>\u001b[0m\u001b[32msz / cortex\u001b[0m\u001b[32m<\u001b[0m\u001b[32m/th\u001b[0m\u001b[32m>\u001b[0m\u001b[32m\\n        \u001b[0m\u001b[32m<\u001b[0m\u001b[32m/tr\u001b[0m\u001b[32m>\u001b[0m\u001b[32m\\n    \u001b[0m\u001b[32m<\u001b[0m\u001b[32m/thead\u001b[0m\u001b[32m>\u001b[0m\u001b[32m\\n    \u001b[0m\u001b[32m<\u001b[0m\u001b[32mtbody\u001b[0m\u001b[32m>\u001b[0m\u001b[32m\\n        \u001b[0m\u001b[32m<\u001b[0m\u001b[32mtr\u001b[0m\u001b[32m>\u001b[0m\u001b[32m\\n            \u001b[0m\u001b[32m<\u001b[0m\u001b[32mtd\u001b[0m\u001b[32m \u001b[0m\u001b[32mstyle\u001b[0m\u001b[32m=\u001b[0m\u001b[32m\"padding\u001b[0m\u001b[32m-left: 1em; padding-right: 1em; text-align: center; vertical-align: top\"\u001b[0m\u001b[32m>\u001b[0m\u001b[32m---\u001b[0m\u001b[32m<\u001b[0m\u001b[32m/td\u001b[0m\u001b[32m>\u001b[0m\u001b[32m\\n            \u001b[0m\u001b[32m<\u001b[0m\u001b[32mtd\u001b[0m\u001b[32m \u001b[0m\u001b[32mstyle\u001b[0m\u001b[32m=\u001b[0m\u001b[32m\"padding\u001b[0m\u001b[32m-left: 1em; padding-right: 1em; text-align: center; vertical-align: top\"\u001b[0m\u001b[32m>\u001b[0m\u001b[32m---\u001b[0m\u001b[32m<\u001b[0m\u001b[32m/td\u001b[0m\u001b[32m>\u001b[0m\u001b[32m\\n            \u001b[0m\u001b[32m<\u001b[0m\u001b[32mtd\u001b[0m\u001b[32m \u001b[0m\u001b[32mstyle\u001b[0m\u001b[32m=\u001b[0m\u001b[32m\"padding\u001b[0m\u001b[32m-left: 1em; padding-right: 1em; text-align: left; vertical-align: top\"\u001b[0m\u001b[32m>\u001b[0m\u001b[32m---\u001b[0m\u001b[32m<\u001b[0m\u001b[32m/td\u001b[0m\u001b[32m>\u001b[0m\u001b[32m\\n            \u001b[0m\u001b[32m<\u001b[0m\u001b[32mtd\u001b[0m\u001b[32m \u001b[0m\u001b[32mstyle\u001b[0m\u001b[32m=\u001b[0m\u001b[32m\"padding\u001b[0m\u001b[32m-left: 1em; padding-right: 1em; text-align: left; vertical-align: top\"\u001b[0m\u001b[32m>\u001b[0m\u001b[32m---\u001b[0m\u001b[32m<\u001b[0m\u001b[32m/td\u001b[0m\u001b[32m>\u001b[0m\u001b[32m\\n            \u001b[0m\u001b[32m<\u001b[0m\u001b[32mtd\u001b[0m\u001b[32m \u001b[0m\u001b[32mstyle\u001b[0m\u001b[32m=\u001b[0m\u001b[32m\"padding\u001b[0m\u001b[32m-left: 1em; padding-right: 1em; text-align: center; vertical-align: top\"\u001b[0m\u001b[32m>\u001b[0m\u001b[32m---\u001b[0m\u001b[32m<\u001b[0m\u001b[32m/td\u001b[0m\u001b[32m>\u001b[0m\u001b[32m\\n            \u001b[0m\u001b[32m<\u001b[0m\u001b[32mtd\u001b[0m\u001b[32m \u001b[0m\u001b[32mstyle\u001b[0m\u001b[32m=\u001b[0m\u001b[32m\"padding\u001b[0m\u001b[32m-left: 1em; padding-right: 1em; text-align: center; vertical-align: top\"\u001b[0m\u001b[32m>\u001b[0m\u001b[32m---\u001b[0m\u001b[32m<\u001b[0m\u001b[32m/td\u001b[0m\u001b[32m>\u001b[0m\u001b[32m\\n        \u001b[0m\u001b[32m<\u001b[0m\u001b[32m/tr\u001b[0m\u001b[32m>\u001b[0m\u001b[32m\\n        \u001b[0m\u001b[32m<\u001b[0m\u001b[32mtr\u001b[0m\u001b[32m>\u001b[0m\u001b[32m\\n            \u001b[0m\u001b[32m<\u001b[0m\u001b[32mtd\u001b[0m\u001b[32m \u001b[0m\u001b[32mstyle\u001b[0m\u001b[32m=\u001b[0m\u001b[32m\"padding\u001b[0m\u001b[32m-left: 1em; padding-right: 1em; text-align: center; vertical-align: top\"\u001b[0m\u001b[32m>\u001b[0m\u001b[32m2\u001b[0m\u001b[32m<\u001b[0m\u001b[32m/td\u001b[0m\u001b[32m>\u001b[0m\u001b[32m\\n            \u001b[0m\u001b[32m<\u001b[0m\u001b[32mtd\u001b[0m\u001b[32m \u001b[0m\u001b[32mstyle\u001b[0m\u001b[32m=\u001b[0m\u001b[32m\"padding\u001b[0m\u001b[32m-left: 1em; padding-right: 1em; text-align: center; vertical-align: top\"\u001b[0m\u001b[32m>\u001b[0m\u001b[32m343\u001b[0m\u001b[32m<\u001b[0m\u001b[32m/td\u001b[0m\u001b[32m>\u001b[0m\u001b[32m\\n            \u001b[0m\u001b[32m<\u001b[0m\u001b[32mtd\u001b[0m\u001b[32m \u001b[0m\u001b[32mstyle\u001b[0m\u001b[32m=\u001b[0m\u001b[32m\"padding\u001b[0m\u001b[32m-left: 1em; padding-right: 1em; text-align: left; vertical-align: top\"\u001b[0m\u001b[32m>\u001b[0m\u001b[32mBS \u001b[0m\u001b[32m(\u001b[0m\u001b[32mBrain stem\u001b[0m\u001b[32m)\u001b[0m\u001b[32m<\u001b[0m\u001b[32m/td\u001b[0m\u001b[32m>\u001b[0m\u001b[32m\\n            \u001b[0m\u001b[32m<\u001b[0m\u001b[32mtd\u001b[0m\u001b[32m \u001b[0m\u001b[32mstyle\u001b[0m\u001b[32m=\u001b[0m\u001b[32m\"padding\u001b[0m\u001b[32m-left: 1em; padding-right: 1em; text-align: left; vertical-align: top\"\u001b[0m\u001b[32m>\u001b[0m\u001b[32mBS \u001b[0m\u001b[32m(\u001b[0m\u001b[32mBasic c...\u001b[0m\u001b[32m)\u001b[0m\u001b[32m<\u001b[0m\u001b[32m/td\u001b[0m\u001b[32m>\u001b[0m\u001b[32m\\n            \u001b[0m\u001b[32m<\u001b[0m\u001b[32mtd\u001b[0m\u001b[32m \u001b[0m\u001b[32mstyle\u001b[0m\u001b[32m=\u001b[0m\u001b[32m\"padding\u001b[0m\u001b[32m-left: 1em; padding-right: 1em; text-align: center; vertical-align: top\"\u001b[0m\u001b[32m>\u001b[0m\u001b[32m119632\u001b[0m\u001b[32m<\u001b[0m\u001b[32m/td\u001b[0m\u001b[32m>\u001b[0m\u001b[32m\\n            \u001b[0m\u001b[32m<\u001b[0m\u001b[32mtd\u001b[0m\u001b[32m \u001b[0m\u001b[32mstyle\u001b[0m\u001b[32m=\u001b[0m\u001b[32m\"padding\u001b[0m\u001b[32m-left: 1em; padding-right: 1em; text-align: center; vertical-align: top\"\u001b[0m\u001b[32m>\u001b[0m\u001b[32m97 %\u001b[0m\u001b[32m<\u001b[0m\u001b[32m/td\u001b[0m\u001b[32m>\u001b[0m\u001b[32m\\n        \u001b[0m\u001b[32m<\u001b[0m\u001b[32m/tr\u001b[0m\u001b[32m>\u001b[0m\u001b[32m\\n        \u001b[0m\u001b[32m<\u001b[0m\u001b[32mtr\u001b[0m\u001b[32m>\u001b[0m\u001b[32m\\n            \u001b[0m\u001b[32m<\u001b[0m\u001b[32mtd\u001b[0m\u001b[32m \u001b[0m\u001b[32mstyle\u001b[0m\u001b[32m=\u001b[0m\u001b[32m\"padding\u001b[0m\u001b[32m-left: 1em; padding-right: 1em; text-align: center; vertical-align: top\"\u001b[0m\u001b[32m>\u001b[0m\u001b[32m---\u001b[0m\u001b[32m<\u001b[0m\u001b[32m/td\u001b[0m\u001b[32m>\u001b[0m\u001b[32m\\n            \u001b[0m\u001b[32m<\u001b[0m\u001b[32mtd\u001b[0m\u001b[32m \u001b[0m\u001b[32mstyle\u001b[0m\u001b[32m=\u001b[0m\u001b[32m\"padding\u001b[0m\u001b[32m-left: 1em; padding-right: 1em; text-align: center; vertical-align: top\"\u001b[0m\u001b[32m>\u001b[0m\u001b[32m---\u001b[0m\u001b[32m<\u001b[0m\u001b[32m/td\u001b[0m\u001b[32m>\u001b[0m\u001b[32m\\n            \u001b[0m\u001b[32m<\u001b[0m\u001b[32mtd\u001b[0m\u001b[32m \u001b[0m\u001b[32mstyle\u001b[0m\u001b[32m=\u001b[0m\u001b[32m\"padding\u001b[0m\u001b[32m-left: 1em; padding-right: 1em; text-align: left; vertical-align: top\"\u001b[0m\u001b[32m>\u001b[0m\u001b[32m---\u001b[0m\u001b[32m<\u001b[0m\u001b[32m/td\u001b[0m\u001b[32m>\u001b[0m\u001b[32m\\n            \u001b[0m\u001b[32m<\u001b[0m\u001b[32mtd\u001b[0m\u001b[32m \u001b[0m\u001b[32mstyle\u001b[0m\u001b[32m=\u001b[0m\u001b[32m\"padding\u001b[0m\u001b[32m-left: 1em; padding-right: 1em; text-align: left; vertical-align: top\"\u001b[0m\u001b[32m>\u001b[0m\u001b[32m---\u001b[0m\u001b[32m<\u001b[0m\u001b[32m/td\u001b[0m\u001b[32m>\u001b[0m\u001b[32m\\n            \u001b[0m\u001b[32m<\u001b[0m\u001b[32mtd\u001b[0m\u001b[32m \u001b[0m\u001b[32mstyle\u001b[0m\u001b[32m=\u001b[0m\u001b[32m\"padding\u001b[0m\u001b[32m-left: 1em; padding-right: 1em; text-align: center; vertical-align: top\"\u001b[0m\u001b[32m>\u001b[0m\u001b[32m---\u001b[0m\u001b[32m<\u001b[0m\u001b[32m/td\u001b[0m\u001b[32m>\u001b[0m\u001b[32m\\n            \u001b[0m\u001b[32m<\u001b[0m\u001b[32mtd\u001b[0m\u001b[32m \u001b[0m\u001b[32mstyle\u001b[0m\u001b[32m=\u001b[0m\u001b[32m\"padding\u001b[0m\u001b[32m-left: 1em; padding-right: 1em; text-align: center; vertical-align: top\"\u001b[0m\u001b[32m>\u001b[0m\u001b[32m---\u001b[0m\u001b[32m<\u001b[0m\u001b[32m/td\u001b[0m\u001b[32m>\u001b[0m\u001b[32m\\n        \u001b[0m\u001b[32m<\u001b[0m\u001b[32m/tr\u001b[0m\u001b[32m>\u001b[0m\u001b[32m\\n        \u001b[0m\u001b[32m<\u001b[0m\u001b[32mtr\u001b[0m\u001b[32m>\u001b[0m\u001b[32m\\n            \u001b[0m\u001b[32m<\u001b[0m\u001b[32mtd\u001b[0m\u001b[32m \u001b[0m\u001b[32mstyle\u001b[0m\u001b[32m=\u001b[0m\u001b[32m\"padding\u001b[0m\u001b[32m-left: 1em; padding-right: 1em; text-align: center; vertical-align: top\"\u001b[0m\u001b[32m>\u001b[0m\u001b[32m3\u001b[0m\u001b[32m<\u001b[0m\u001b[32m/td\u001b[0m\u001b[32m>\u001b[0m\u001b[32m\\n            \u001b[0m\u001b[32m<\u001b[0m\u001b[32mtd\u001b[0m\u001b[32m \u001b[0m\u001b[32mstyle\u001b[0m\u001b[32m=\u001b[0m\u001b[32m\"padding\u001b[0m\u001b[32m-left: 1em; padding-right: 1em; text-align: center; vertical-align: top\"\u001b[0m\u001b[32m>\u001b[0m\u001b[32m1065\u001b[0m\u001b[32m<\u001b[0m\u001b[32m/td\u001b[0m\u001b[32m>\u001b[0m\u001b[32m\\n            \u001b[0m\u001b[32m<\u001b[0m\u001b[32mtd\u001b[0m\u001b[32m \u001b[0m\u001b[32mstyle\u001b[0m\u001b[32m=\u001b[0m\u001b[32m\"padding\u001b[0m\u001b[32m-left: 1em; padding-right: 1em; text-align: left; vertical-align: top\"\u001b[0m\u001b[32m>\u001b[0m\u001b[32mHB \u001b[0m\u001b[32m(\u001b[0m\u001b[32mHindbrain\u001b[0m\u001b[32m)\u001b[0m\u001b[32m<\u001b[0m\u001b[32m/td\u001b[0m\u001b[32m>\u001b[0m\u001b[32m\\n            \u001b[0m\u001b[32m<\u001b[0m\u001b[32mtd\u001b[0m\u001b[32m \u001b[0m\u001b[32mstyle\u001b[0m\u001b[32m=\u001b[0m\u001b[32m\"padding\u001b[0m\u001b[32m-left: 1em; padding-right: 1em; text-align: left; vertical-align: top\"\u001b[0m\u001b[32m>\u001b[0m\u001b[32mHB \u001b[0m\u001b[32m(\u001b[0m\u001b[32mBrain stem\u001b[0m\u001b[32m)\u001b[0m\u001b[32m<\u001b[0m\u001b[32m/td\u001b[0m\u001b[32m>\u001b[0m\u001b[32m\\n            \u001b[0m\u001b[32m<\u001b[0m\u001b[32mtd\u001b[0m\u001b[32m \u001b[0m\u001b[32mstyle\u001b[0m\u001b[32m=\u001b[0m\u001b[32m\"padding\u001b[0m\u001b[32m-left: 1em; padding-right: 1em; text-align: center; vertical-align: top\"\u001b[0m\u001b[32m>\u001b[0m\u001b[32m47624\u001b[0m\u001b[32m<\u001b[0m\u001b[32m/td\u001b[0m\u001b[32m>\u001b[0m\u001b[32m\\n            \u001b[0m\u001b[32m<\u001b[0m\u001b[32mtd\u001b[0m\u001b[32m \u001b[0m\u001b[32mstyle\u001b[0m\u001b[32m=\u001b[0m\u001b[32m\"padding\u001b[0m\u001b[32m-left: 1em; padding-right: 1em; text-align: center; vertical-align: top\"\u001b[0m\u001b[32m>\u001b[0m\u001b[32m39 %\u001b[0m\u001b[32m<\u001b[0m\u001b[32m/td\u001b[0m\u001b[32m>\u001b[0m\u001b[32m\\n        \u001b[0m\u001b[32m<\u001b[0m\u001b[32m/tr\u001b[0m\u001b[32m>\u001b[0m\u001b[32m\\n        \u001b[0m\u001b[32m<\u001b[0m\u001b[32mtr\u001b[0m\u001b[32m>\u001b[0m\u001b[32m\\n            \u001b[0m\u001b[32m<\u001b[0m\u001b[32mtd\u001b[0m\u001b[32m \u001b[0m\u001b[32mstyle\u001b[0m\u001b[32m=\u001b[0m\u001b[32m\"padding\u001b[0m\u001b[32m-left: 1em; padding-right: 1em; text-align: center; vertical-align: top\"\u001b[0m\u001b[32m>\u001b[0m\u001b[32m3\u001b[0m\u001b[32m<\u001b[0m\u001b[32m/td\u001b[0m\u001b[32m>\u001b[0m\u001b[32m\\n            \u001b[0m\u001b[32m<\u001b[0m\u001b[32mtd\u001b[0m\u001b[32m \u001b[0m\u001b[32mstyle\u001b[0m\u001b[32m=\u001b[0m\u001b[32m\"padding\u001b[0m\u001b[32m-left: 1em; padding-right: 1em; text-align: center; vertical-align: top\"\u001b[0m\u001b[32m>\u001b[0m\u001b[32m1129\u001b[0m\u001b[32m<\u001b[0m\u001b[32m/td\u001b[0m\u001b[32m>\u001b[0m\u001b[32m\\n            \u001b[0m\u001b[32m<\u001b[0m\u001b[32mtd\u001b[0m\u001b[32m \u001b[0m\u001b[32mstyle\u001b[0m\u001b[32m=\u001b[0m\u001b[32m\"padding\u001b[0m\u001b[32m-left: 1em; padding-right: 1em; text-align: left; vertical-align: top\"\u001b[0m\u001b[32m>\u001b[0m\u001b[32mIB \u001b[0m\u001b[32m(\u001b[0m\u001b[32mInterbrain\u001b[0m\u001b[32m)\u001b[0m\u001b[32m<\u001b[0m\u001b[32m/td\u001b[0m\u001b[32m>\u001b[0m\u001b[32m\\n            \u001b[0m\u001b[32m<\u001b[0m\u001b[32mtd\u001b[0m\u001b[32m \u001b[0m\u001b[32mstyle\u001b[0m\u001b[32m=\u001b[0m\u001b[32m\"padding\u001b[0m\u001b[32m-left: 1em; padding-right: 1em; text-align: left; vertical-align: top\"\u001b[0m\u001b[32m>\u001b[0m\u001b[32mIB \u001b[0m\u001b[32m(\u001b[0m\u001b[32mBrain stem\u001b[0m\u001b[32m)\u001b[0m\u001b[32m<\u001b[0m\u001b[32m/td\u001b[0m\u001b[32m>\u001b[0m\u001b[32m\\n            \u001b[0m\u001b[32m<\u001b[0m\u001b[32mtd\u001b[0m\u001b[32m \u001b[0m\u001b[32mstyle\u001b[0m\u001b[32m=\u001b[0m\u001b[32m\"padding\u001b[0m\u001b[32m-left: 1em; padding-right: 1em; text-align: center; vertical-align: top\"\u001b[0m\u001b[32m>\u001b[0m\u001b[32m35335\u001b[0m\u001b[32m<\u001b[0m\u001b[32m/td\u001b[0m\u001b[32m>\u001b[0m\u001b[32m\\n            \u001b[0m\u001b[32m<\u001b[0m\u001b[32mtd\u001b[0m\u001b[32m \u001b[0m\u001b[32mstyle\u001b[0m\u001b[32m=\u001b[0m\u001b[32m\"padding\u001b[0m\u001b[32m-left: 1em; padding-right: 1em; text-align: center; vertical-align: top\"\u001b[0m\u001b[32m>\u001b[0m\u001b[32m29 %\u001b[0m\u001b[32m<\u001b[0m\u001b[32m/td\u001b[0m\u001b[32m>\u001b[0m\u001b[32m\\n        \u001b[0m\u001b[32m<\u001b[0m\u001b[32m/tr\u001b[0m\u001b[32m>\u001b[0m\u001b[32m\\n        \u001b[0m\u001b[32m<\u001b[0m\u001b[32mtr\u001b[0m\u001b[32m>\u001b[0m\u001b[32m\\n            \u001b[0m\u001b[32m<\u001b[0m\u001b[32mtd\u001b[0m\u001b[32m \u001b[0m\u001b[32mstyle\u001b[0m\u001b[32m=\u001b[0m\u001b[32m\"padding\u001b[0m\u001b[32m-left: 1em; padding-right: 1em; text-align: center; vertical-align: top\"\u001b[0m\u001b[32m>\u001b[0m\u001b[32m3\u001b[0m\u001b[32m<\u001b[0m\u001b[32m/td\u001b[0m\u001b[32m>\u001b[0m\u001b[32m\\n            \u001b[0m\u001b[32m<\u001b[0m\u001b[32mtd\u001b[0m\u001b[32m \u001b[0m\u001b[32mstyle\u001b[0m\u001b[32m=\u001b[0m\u001b[32m\"padding\u001b[0m\u001b[32m-left: 1em; padding-right: 1em; text-align: center; vertical-align: top\"\u001b[0m\u001b[32m>\u001b[0m\u001b[32m313\u001b[0m\u001b[32m<\u001b[0m\u001b[32m/td\u001b[0m\u001b[32m>\u001b[0m\u001b[32m\\n            \u001b[0m\u001b[32m<\u001b[0m\u001b[32mtd\u001b[0m\u001b[32m \u001b[0m\u001b[32mstyle\u001b[0m\u001b[32m=\u001b[0m\u001b[32m\"padding\u001b[0m\u001b[32m-left: 1em; padding-right: 1em; text-align: left; vertical-align: top\"\u001b[0m\u001b[32m>\u001b[0m\u001b[32mMB \u001b[0m\u001b[32m(\u001b[0m\u001b[32mMidbrain\u001b[0m\u001b[32m)\u001b[0m\u001b[32m<\u001b[0m\u001b[32m/td\u001b[0m\u001b[32m>\u001b[0m\u001b[32m\\n            \u001b[0m\u001b[32m<\u001b[0m\u001b[32mtd\u001b[0m\u001b[32m \u001b[0m\u001b[32mstyle\u001b[0m\u001b[32m=\u001b[0m\u001b[32m\"padding\u001b[0m\u001b[32m-left: 1em; padding-right: 1em; text-align: left; vertical-align: top\"\u001b[0m\u001b[32m>\u001b[0m\u001b[32mMB \u001b[0m\u001b[32m(\u001b[0m\u001b[32mBrain stem\u001b[0m\u001b[32m)\u001b[0m\u001b[32m<\u001b[0m\u001b[32m/td\u001b[0m\u001b[32m>\u001b[0m\u001b[32m\\n            \u001b[0m\u001b[32m<\u001b[0m\u001b[32mtd\u001b[0m\u001b[32m \u001b[0m\u001b[32mstyle\u001b[0m\u001b[32m=\u001b[0m\u001b[32m\"padding\u001b[0m\u001b[32m-left: 1em; padding-right: 1em; text-align: center; vertical-align: top\"\u001b[0m\u001b[32m>\u001b[0m\u001b[32m36673\u001b[0m\u001b[32m<\u001b[0m\u001b[32m/td\u001b[0m\u001b[32m>\u001b[0m\u001b[32m\\n            \u001b[0m\u001b[32m<\u001b[0m\u001b[32mtd\u001b[0m\u001b[32m \u001b[0m\u001b[32mstyle\u001b[0m\u001b[32m=\u001b[0m\u001b[32m\"padding\u001b[0m\u001b[32m-left: 1em; padding-right: 1em; text-align: center; vertical-align: top\"\u001b[0m\u001b[32m>\u001b[0m\u001b[32m30 %\u001b[0m\u001b[32m<\u001b[0m\u001b[32m/td\u001b[0m\u001b[32m>\u001b[0m\u001b[32m\\n        \u001b[0m\u001b[32m<\u001b[0m\u001b[32m/tr\u001b[0m\u001b[32m>\u001b[0m\u001b[32m\\n        \u001b[0m\u001b[32m<\u001b[0m\u001b[32mtr\u001b[0m\u001b[32m>\u001b[0m\u001b[32m\\n            \u001b[0m\u001b[32m<\u001b[0m\u001b[32mtd\u001b[0m\u001b[32m \u001b[0m\u001b[32mstyle\u001b[0m\u001b[32m=\u001b[0m\u001b[32m\"padding\u001b[0m\u001b[32m-left: 1em; padding-right: 1em; text-align: center; vertical-align: top\"\u001b[0m\u001b[32m>\u001b[0m\u001b[32m---\u001b[0m\u001b[32m<\u001b[0m\u001b[32m/td\u001b[0m\u001b[32m>\u001b[0m\u001b[32m\\n            \u001b[0m\u001b[32m<\u001b[0m\u001b[32mtd\u001b[0m\u001b[32m \u001b[0m\u001b[32mstyle\u001b[0m\u001b[32m=\u001b[0m\u001b[32m\"padding\u001b[0m\u001b[32m-left: 1em; padding-right: 1em; text-align: center; vertical-align: top\"\u001b[0m\u001b[32m>\u001b[0m\u001b[32m---\u001b[0m\u001b[32m<\u001b[0m\u001b[32m/td\u001b[0m\u001b[32m>\u001b[0m\u001b[32m\\n            \u001b[0m\u001b[32m<\u001b[0m\u001b[32mtd\u001b[0m\u001b[32m \u001b[0m\u001b[32mstyle\u001b[0m\u001b[32m=\u001b[0m\u001b[32m\"padding\u001b[0m\u001b[32m-left: 1em; padding-right: 1em; text-align: left; vertical-align: top\"\u001b[0m\u001b[32m>\u001b[0m\u001b[32m---\u001b[0m\u001b[32m<\u001b[0m\u001b[32m/td\u001b[0m\u001b[32m>\u001b[0m\u001b[32m\\n            \u001b[0m\u001b[32m<\u001b[0m\u001b[32mtd\u001b[0m\u001b[32m \u001b[0m\u001b[32mstyle\u001b[0m\u001b[32m=\u001b[0m\u001b[32m\"padding\u001b[0m\u001b[32m-left: 1em; padding-right: 1em; text-align: left; vertical-align: top\"\u001b[0m\u001b[32m>\u001b[0m\u001b[32m---\u001b[0m\u001b[32m<\u001b[0m\u001b[32m/td\u001b[0m\u001b[32m>\u001b[0m\u001b[32m\\n            \u001b[0m\u001b[32m<\u001b[0m\u001b[32mtd\u001b[0m\u001b[32m \u001b[0m\u001b[32mstyle\u001b[0m\u001b[32m=\u001b[0m\u001b[32m\"padding\u001b[0m\u001b[32m-left: 1em; padding-right: 1em; text-align: center; vertical-align: top\"\u001b[0m\u001b[32m>\u001b[0m\u001b[32m---\u001b[0m\u001b[32m<\u001b[0m\u001b[32m/td\u001b[0m\u001b[32m>\u001b[0m\u001b[32m\\n            \u001b[0m\u001b[32m<\u001b[0m\u001b[32mtd\u001b[0m\u001b[32m \u001b[0m\u001b[32mstyle\u001b[0m\u001b[32m=\u001b[0m\u001b[32m\"padding\u001b[0m\u001b[32m-left: 1em; padding-right: 1em; text-align: center; vertical-align: top\"\u001b[0m\u001b[32m>\u001b[0m\u001b[32m---\u001b[0m\u001b[32m<\u001b[0m\u001b[32m/td\u001b[0m\u001b[32m>\u001b[0m\u001b[32m\\n        \u001b[0m\u001b[32m<\u001b[0m\u001b[32m/tr\u001b[0m\u001b[32m>\u001b[0m\u001b[32m\\n        \u001b[0m\u001b[32m<\u001b[0m\u001b[32mtr\u001b[0m\u001b[32m>\u001b[0m\u001b[32m\\n            \u001b[0m\u001b[32m<\u001b[0m\u001b[32mtd\u001b[0m\u001b[32m \u001b[0m\u001b[32mstyle\u001b[0m\u001b[32m=\u001b[0m\u001b[32m\"padding\u001b[0m\u001b[32m-left: 1em; padding-right: 1em; text-align: center; vertical-align: top\"\u001b[0m\u001b[32m>\u001b[0m\u001b[32m4\u001b[0m\u001b[32m<\u001b[0m\u001b[32m/td\u001b[0m\u001b[32m>\u001b[0m\u001b[32m\\n            \u001b[0m\u001b[32m<\u001b[0m\u001b[32mtd\u001b[0m\u001b[32m \u001b[0m\u001b[32mstyle\u001b[0m\u001b[32m=\u001b[0m\u001b[32m\"padding\u001b[0m\u001b[32m-left: 1em; padding-right: 1em; text-align: center; vertical-align: top\"\u001b[0m\u001b[32m>\u001b[0m\u001b[32m323\u001b[0m\u001b[32m<\u001b[0m\u001b[32m/td\u001b[0m\u001b[32m>\u001b[0m\u001b[32m\\n            \u001b[0m\u001b[32m<\u001b[0m\u001b[32mtd\u001b[0m\u001b[32m \u001b[0m\u001b[32mstyle\u001b[0m\u001b[32m=\u001b[0m\u001b[32m\"padding\u001b[0m\u001b[32m-left: 1em; padding-right: 1em; text-align: left; vertical-align: top\"\u001b[0m\u001b[32m>\u001b[0m\u001b[32mMBmot \u001b[0m\u001b[32m(\u001b[0m\u001b[32mMidbrain, motor related\u001b[0m\u001b[32m)\u001b[0m\u001b[32m<\u001b[0m\u001b[32m/td\u001b[0m\u001b[32m>\u001b[0m\u001b[32m\\n            \u001b[0m\u001b[32m<\u001b[0m\u001b[32mtd\u001b[0m\u001b[32m \u001b[0m\u001b[32mstyle\u001b[0m\u001b[32m=\u001b[0m\u001b[32m\"padding\u001b[0m\u001b[32m-left: 1em; padding-right: 1em; text-align: left; vertical-align: top\"\u001b[0m\u001b[32m>\u001b[0m\u001b[32mMBmot \u001b[0m\u001b[32m(\u001b[0m\u001b[32mMidbrain\u001b[0m\u001b[32m)\u001b[0m\u001b[32m<\u001b[0m\u001b[32m/td\u001b[0m\u001b[32m>\u001b[0m\u001b[32m\\n            \u001b[0m\u001b[32m<\u001b[0m\u001b[32mtd\u001b[0m\u001b[32m \u001b[0m\u001b[32mstyle\u001b[0m\u001b[32m=\u001b[0m\u001b[32m\"padding\u001b[0m\u001b[32m-left: 1em; padding-right: 1em; text-align: center; vertical-align: top\"\u001b[0m\u001b[32m>\u001b[0m\u001b[32m21343\u001b[0m\u001b[32m<\u001b[0m\u001b[32m/td\u001b[0m\u001b[32m>\u001b[0m\u001b[32m\\n            \u001b[0m\u001b[32m<\u001b[0m\u001b[32mtd\u001b[0m\u001b[32m \u001b[0m\u001b[32mstyle\u001b[0m\u001b[32m=\u001b[0m\u001b[32m\"padding\u001b[0m\u001b[32m-left: 1em; padding-right: 1em; text-align: center; vertical-align: top\"\u001b[0m\u001b[32m>\u001b[0m\u001b[32m17 %\u001b[0m\u001b[32m<\u001b[0m\u001b[32m/td\u001b[0m\u001b[32m>\u001b[0m\u001b[32m\\n        \u001b[0m\u001b[32m<\u001b[0m\u001b[32m/tr\u001b[0m\u001b[32m>\u001b[0m\u001b[32m\\n        \u001b[0m\u001b[32m<\u001b[0m\u001b[32mtr\u001b[0m\u001b[32m>\u001b[0m\u001b[32m\\n            \u001b[0m\u001b[32m<\u001b[0m\u001b[32mtd\u001b[0m\u001b[32m \u001b[0m\u001b[32mstyle\u001b[0m\u001b[32m=\u001b[0m\u001b[32m\"padding\u001b[0m\u001b[32m-left: 1em; padding-right: 1em; text-align: center; vertical-align: top\"\u001b[0m\u001b[32m>\u001b[0m\u001b[32m4\u001b[0m\u001b[32m<\u001b[0m\u001b[32m/td\u001b[0m\u001b[32m>\u001b[0m\u001b[32m\\n            \u001b[0m\u001b[32m<\u001b[0m\u001b[32mtd\u001b[0m\u001b[32m \u001b[0m\u001b[32mstyle\u001b[0m\u001b[32m=\u001b[0m\u001b[32m\"padding\u001b[0m\u001b[32m-left: 1em; padding-right: 1em; text-align: center; vertical-align: top\"\u001b[0m\u001b[32m>\u001b[0m\u001b[32m339\u001b[0m\u001b[32m<\u001b[0m\u001b[32m/td\u001b[0m\u001b[32m>\u001b[0m\u001b[32m\\n            \u001b[0m\u001b[32m<\u001b[0m\u001b[32mtd\u001b[0m\u001b[32m \u001b[0m\u001b[32mstyle\u001b[0m\u001b[32m=\u001b[0m\u001b[32m\"padding\u001b[0m\u001b[32m-left: 1em; padding-right: 1em; text-align: left; vertical-align: top\"\u001b[0m\u001b[32m>\u001b[0m\u001b[32mMBsen \u001b[0m\u001b[32m(\u001b[0m\u001b[32mMidbrain, sensory related\u001b[0m\u001b[32m)\u001b[0m\u001b[32m<\u001b[0m\u001b[32m/td\u001b[0m\u001b[32m>\u001b[0m\u001b[32m\\n            \u001b[0m\u001b[32m<\u001b[0m\u001b[32mtd\u001b[0m\u001b[32m \u001b[0m\u001b[32mstyle\u001b[0m\u001b[32m=\u001b[0m\u001b[32m\"padding\u001b[0m\u001b[32m-left: 1em; padding-right: 1em; text-align: left; vertical-align: top\"\u001b[0m\u001b[32m>\u001b[0m\u001b[32mMBsen \u001b[0m\u001b[32m(\u001b[0m\u001b[32mMidbrain\u001b[0m\u001b[32m)\u001b[0m\u001b[32m<\u001b[0m\u001b[32m/td\u001b[0m\u001b[32m>\u001b[0m\u001b[32m\\n            \u001b[0m\u001b[32m<\u001b[0m\u001b[32mtd\u001b[0m\u001b[32m \u001b[0m\u001b[32mstyle\u001b[0m\u001b[32m=\u001b[0m\u001b[32m\"padding\u001b[0m\u001b[32m-left: 1em; padding-right: 1em; text-align: center; vertical-align: top\"\u001b[0m\u001b[32m>\u001b[0m\u001b[32m6838\u001b[0m\u001b[32m<\u001b[0m\u001b[32m/td\u001b[0m\u001b[32m>\u001b[0m\u001b[32m\\n            \u001b[0m\u001b[32m<\u001b[0m\u001b[32mtd\u001b[0m\u001b[32m \u001b[0m\u001b[32mstyle\u001b[0m\u001b[32m=\u001b[0m\u001b[32m\"padding\u001b[0m\u001b[32m-left: 1em; padding-right: 1em; text-align: center; vertical-align: top\"\u001b[0m\u001b[32m>\u001b[0m\u001b[32m6 %\u001b[0m\u001b[32m<\u001b[0m\u001b[32m/td\u001b[0m\u001b[32m>\u001b[0m\u001b[32m\\n        \u001b[0m\u001b[32m<\u001b[0m\u001b[32m/tr\u001b[0m\u001b[32m>\u001b[0m\u001b[32m\\n        \u001b[0m\u001b[32m<\u001b[0m\u001b[32mtr\u001b[0m\u001b[32m>\u001b[0m\u001b[32m\\n            \u001b[0m\u001b[32m<\u001b[0m\u001b[32mtd\u001b[0m\u001b[32m \u001b[0m\u001b[32mstyle\u001b[0m\u001b[32m=\u001b[0m\u001b[32m\"padding\u001b[0m\u001b[32m-left: 1em; padding-right: 1em; text-align: center; vertical-align: top\"\u001b[0m\u001b[32m>\u001b[0m\u001b[32m4\u001b[0m\u001b[32m<\u001b[0m\u001b[32m/td\u001b[0m\u001b[32m>\u001b[0m\u001b[32m\\n            \u001b[0m\u001b[32m<\u001b[0m\u001b[32mtd\u001b[0m\u001b[32m \u001b[0m\u001b[32mstyle\u001b[0m\u001b[32m=\u001b[0m\u001b[32m\"padding\u001b[0m\u001b[32m-left: 1em; padding-right: 1em; text-align: center; vertical-align: top\"\u001b[0m\u001b[32m>\u001b[0m\u001b[32m348\u001b[0m\u001b[32m<\u001b[0m\u001b[32m/td\u001b[0m\u001b[32m>\u001b[0m\u001b[32m\\n            \u001b[0m\u001b[32m<\u001b[0m\u001b[32mtd\u001b[0m\u001b[32m \u001b[0m\u001b[32mstyle\u001b[0m\u001b[32m=\u001b[0m\u001b[32m\"padding\u001b[0m\u001b[32m-left: 1em; padding-right: 1em; text-align: left; vertical-align: top\"\u001b[0m\u001b[32m>\u001b[0m\u001b[32mMBsta \u001b[0m\u001b[32m(\u001b[0m\u001b[32mMidbrain, behavioral state related\u001b[0m\u001b[32m)\u001b[0m\u001b[32m<\u001b[0m\u001b[32m/td\u001b[0m\u001b[32m>\u001b[0m\u001b[32m\\n            \u001b[0m\u001b[32m<\u001b[0m\u001b[32mtd\u001b[0m\u001b[32m \u001b[0m\u001b[32mstyle\u001b[0m\u001b[32m=\u001b[0m\u001b[32m\"padding\u001b[0m\u001b[32m-left: 1em; padding-right: 1em; text-align: left; vertical-align: top\"\u001b[0m\u001b[32m>\u001b[0m\u001b[32mMBsta \u001b[0m\u001b[32m(\u001b[0m\u001b[32mMidbrain\u001b[0m\u001b[32m)\u001b[0m\u001b[32m<\u001b[0m\u001b[32m/td\u001b[0m\u001b[32m>\u001b[0m\u001b[32m\\n            \u001b[0m\u001b[32m<\u001b[0m\u001b[32mtd\u001b[0m\u001b[32m \u001b[0m\u001b[32mstyle\u001b[0m\u001b[32m=\u001b[0m\u001b[32m\"padding\u001b[0m\u001b[32m-left: 1em; padding-right: 1em; text-align: center; vertical-align: top\"\u001b[0m\u001b[32m>\u001b[0m\u001b[32m1813\u001b[0m\u001b[32m<\u001b[0m\u001b[32m/td\u001b[0m\u001b[32m>\u001b[0m\u001b[32m\\n            \u001b[0m\u001b[32m<\u001b[0m\u001b[32mtd\u001b[0m\u001b[32m \u001b[0m\u001b[32mstyle\u001b[0m\u001b[32m=\u001b[0m\u001b[32m\"padding\u001b[0m\u001b[32m-left: 1em; padding-right: 1em; text-align: center; vertical-align: top\"\u001b[0m\u001b[32m>\u001b[0m\u001b[32m1 %\u001b[0m\u001b[32m<\u001b[0m\u001b[32m/td\u001b[0m\u001b[32m>\u001b[0m\u001b[32m\\n        \u001b[0m\u001b[32m<\u001b[0m\u001b[32m/tr\u001b[0m\u001b[32m>\u001b[0m\u001b[32m\\n        \u001b[0m\u001b[32m<\u001b[0m\u001b[32mtr\u001b[0m\u001b[32m>\u001b[0m\u001b[32m\\n            \u001b[0m\u001b[32m<\u001b[0m\u001b[32mtd\u001b[0m\u001b[32m \u001b[0m\u001b[32mstyle\u001b[0m\u001b[32m=\u001b[0m\u001b[32m\"padding\u001b[0m\u001b[32m-left: 1em; padding-right: 1em; text-align: center; vertical-align: top\"\u001b[0m\u001b[32m>\u001b[0m\u001b[32m5\u001b[0m\u001b[32m<\u001b[0m\u001b[32m/td\u001b[0m\u001b[32m>\u001b[0m\u001b[32m\\n            \u001b[0m\u001b[32m<\u001b[0m\u001b[32mtd\u001b[0m\u001b[32m \u001b[0m\u001b[32mstyle\u001b[0m\u001b[32m=\u001b[0m\u001b[32m\"padding\u001b[0m\u001b[32m-left: 1em; padding-right: 1em; text-align: center; vertical-align: top\"\u001b[0m\u001b[32m>\u001b[0m\u001b[32m856\u001b[0m\u001b[32m<\u001b[0m\u001b[32m/td\u001b[0m\u001b[32m>\u001b[0m\u001b[32m\\n            \u001b[0m\u001b[32m<\u001b[0m\u001b[32mtd\u001b[0m\u001b[32m \u001b[0m\u001b[32mstyle\u001b[0m\u001b[32m=\u001b[0m\u001b[32m\"padding\u001b[0m\u001b[32m-left: 1em; padding-right: 1em; text-align: left; vertical-align: top\"\u001b[0m\u001b[32m>\u001b[0m\u001b[32mDORpm \u001b[0m\u001b[32m(\u001b[0m\u001b[32mThalamus, polymodal association cortex related\u001b[0m\u001b[32m)\u001b[0m\u001b[32m<\u001b[0m\u001b[32m/td\u001b[0m\u001b[32m>\u001b[0m\u001b[32m\\n            \u001b[0m\u001b[32m<\u001b[0m\u001b[32mtd\u001b[0m\u001b[32m \u001b[0m\u001b[32mstyle\u001b[0m\u001b[32m=\u001b[0m\u001b[32m\"padding\u001b[0m\u001b[32m-left: 1em; padding-right: 1em; text-align: left; vertical-align: top\"\u001b[0m\u001b[32m>\u001b[0m\u001b[32mDORpm \u001b[0m\u001b[32m(\u001b[0m\u001b[32mThalamus\u001b[0m\u001b[32m)\u001b[0m\u001b[32m<\u001b[0m\u001b[32m/td\u001b[0m\u001b[32m>\u001b[0m\u001b[32m\\n            \u001b[0m\u001b[32m<\u001b[0m\u001b[32mtd\u001b[0m\u001b[32m \u001b[0m\u001b[32mstyle\u001b[0m\u001b[32m=\u001b[0m\u001b[32m\"padding\u001b[0m\u001b[32m-left: 1em; padding-right: 1em; text-align: center; vertical-align: top\"\u001b[0m\u001b[32m>\u001b[0m\u001b[32m12698\u001b[0m\u001b[32m<\u001b[0m\u001b[32m/td\u001b[0m\u001b[32m>\u001b[0m\u001b[32m\\n            \u001b[0m\u001b[32m<\u001b[0m\u001b[32mtd\u001b[0m\u001b[32m \u001b[0m\u001b[32mstyle\u001b[0m\u001b[32m=\u001b[0m\u001b[32m\"padding\u001b[0m\u001b[32m-left: 1em; padding-right: 1em; text-align: center; vertical-align: top\"\u001b[0m\u001b[32m>\u001b[0m\u001b[32m10 %\u001b[0m\u001b[32m<\u001b[0m\u001b[32m/td\u001b[0m\u001b[32m>\u001b[0m\u001b[32m\\n        \u001b[0m\u001b[32m<\u001b[0m\u001b[32m/tr\u001b[0m\u001b[32m>\u001b[0m\u001b[32m\\n        \u001b[0m\u001b[32m<\u001b[0m\u001b[32mtr\u001b[0m\u001b[32m>\u001b[0m\u001b[32m\\n            \u001b[0m\u001b[32m<\u001b[0m\u001b[32mtd\u001b[0m\u001b[32m \u001b[0m\u001b[32mstyle\u001b[0m\u001b[32m=\u001b[0m\u001b[32m\"padding\u001b[0m\u001b[32m-left: 1em; padding-right: 1em; text-align: center; vertical-align: top\"\u001b[0m\u001b[32m>\u001b[0m\u001b[32m5\u001b[0m\u001b[32m<\u001b[0m\u001b[32m/td\u001b[0m\u001b[32m>\u001b[0m\u001b[32m\\n            \u001b[0m\u001b[32m<\u001b[0m\u001b[32mtd\u001b[0m\u001b[32m \u001b[0m\u001b[32mstyle\u001b[0m\u001b[32m=\u001b[0m\u001b[32m\"padding\u001b[0m\u001b[32m-left: 1em; padding-right: 1em; text-align: center; vertical-align: top\"\u001b[0m\u001b[32m>\u001b[0m\u001b[32m864\u001b[0m\u001b[32m<\u001b[0m\u001b[32m/td\u001b[0m\u001b[32m>\u001b[0m\u001b[32m\\n            \u001b[0m\u001b[32m<\u001b[0m\u001b[32mtd\u001b[0m\u001b[32m \u001b[0m\u001b[32mstyle\u001b[0m\u001b[32m=\u001b[0m\u001b[32m\"padding\u001b[0m\u001b[32m-left: 1em; padding-right: 1em; text-align: left; vertical-align: top\"\u001b[0m\u001b[32m>\u001b[0m\u001b[32mDORsm \u001b[0m\u001b[32m(\u001b[0m\u001b[32mThalamus, sensory-motor cortex related\u001b[0m\u001b[32m)\u001b[0m\u001b[32m<\u001b[0m\u001b[32m/td\u001b[0m\u001b[32m>\u001b[0m\u001b[32m\\n            \u001b[0m\u001b[32m<\u001b[0m\u001b[32mtd\u001b[0m\u001b[32m \u001b[0m\u001b[32mstyle\u001b[0m\u001b[32m=\u001b[0m\u001b[32m\"padding\u001b[0m\u001b[32m-left: 1em; padding-right: 1em; text-align: left; vertical-align: top\"\u001b[0m\u001b[32m>\u001b[0m\u001b[32mDORsm \u001b[0m\u001b[32m(\u001b[0m\u001b[32mThalamus\u001b[0m\u001b[32m)\u001b[0m\u001b[32m<\u001b[0m\u001b[32m/td\u001b[0m\u001b[32m>\u001b[0m\u001b[32m\\n            \u001b[0m\u001b[32m<\u001b[0m\u001b[32mtd\u001b[0m\u001b[32m \u001b[0m\u001b[32mstyle\u001b[0m\u001b[32m=\u001b[0m\u001b[32m\"padding\u001b[0m\u001b[32m-left: 1em; padding-right: 1em; text-align: center; vertical-align: top\"\u001b[0m\u001b[32m>\u001b[0m\u001b[32m6697\u001b[0m\u001b[32m<\u001b[0m\u001b[32m/td\u001b[0m\u001b[32m>\u001b[0m\u001b[32m\\n            \u001b[0m\u001b[32m<\u001b[0m\u001b[32mtd\u001b[0m\u001b[32m \u001b[0m\u001b[32mstyle\u001b[0m\u001b[32m=\u001b[0m\u001b[32m\"padding\u001b[0m\u001b[32m-left: 1em; padding-right: 1em; text-align: center; vertical-align: top\"\u001b[0m\u001b[32m>\u001b[0m\u001b[32m5 %\u001b[0m\u001b[32m<\u001b[0m\u001b[32m/td\u001b[0m\u001b[32m>\u001b[0m\u001b[32m\\n        \u001b[0m\u001b[32m<\u001b[0m\u001b[32m/tr\u001b[0m\u001b[32m>\u001b[0m\u001b[32m\\n        \u001b[0m\u001b[32m<\u001b[0m\u001b[32mtr\u001b[0m\u001b[32m>\u001b[0m\u001b[32m\\n            \u001b[0m\u001b[32m<\u001b[0m\u001b[32mtd\u001b[0m\u001b[32m \u001b[0m\u001b[32mstyle\u001b[0m\u001b[32m=\u001b[0m\u001b[32m\"padding\u001b[0m\u001b[32m-left: 1em; padding-right: 1em; text-align: center; vertical-align: top\"\u001b[0m\u001b[32m>\u001b[0m\u001b[32m5\u001b[0m\u001b[32m<\u001b[0m\u001b[32m/td\u001b[0m\u001b[32m>\u001b[0m\u001b[32m\\n            \u001b[0m\u001b[32m<\u001b[0m\u001b[32mtd\u001b[0m\u001b[32m \u001b[0m\u001b[32mstyle\u001b[0m\u001b[32m=\u001b[0m\u001b[32m\"padding\u001b[0m\u001b[32m-left: 1em; padding-right: 1em; text-align: center; vertical-align: top\"\u001b[0m\u001b[32m>\u001b[0m\u001b[32m290\u001b[0m\u001b[32m<\u001b[0m\u001b[32m/td\u001b[0m\u001b[32m>\u001b[0m\u001b[32m\\n            \u001b[0m\u001b[32m<\u001b[0m\u001b[32mtd\u001b[0m\u001b[32m \u001b[0m\u001b[32mstyle\u001b[0m\u001b[32m=\u001b[0m\u001b[32m\"padding\u001b[0m\u001b[32m-left: 1em; padding-right: 1em; text-align: left; vertical-align: top\"\u001b[0m\u001b[32m>\u001b[0m\u001b[32mLZ \u001b[0m\u001b[32m(\u001b[0m\u001b[32mHypothalamic lateral zone\u001b[0m\u001b[32m)\u001b[0m\u001b[32m<\u001b[0m\u001b[32m/td\u001b[0m\u001b[32m>\u001b[0m\u001b[32m\\n            \u001b[0m\u001b[32m<\u001b[0m\u001b[32mtd\u001b[0m\u001b[32m \u001b[0m\u001b[32mstyle\u001b[0m\u001b[32m=\u001b[0m\u001b[32m\"padding\u001b[0m\u001b[32m-left: 1em; padding-right: 1em; text-align: left; vertical-align: top\"\u001b[0m\u001b[32m>\u001b[0m\u001b[32mLZ \u001b[0m\u001b[32m(\u001b[0m\u001b[32mHypothalamus\u001b[0m\u001b[32m)\u001b[0m\u001b[32m<\u001b[0m\u001b[32m/td\u001b[0m\u001b[32m>\u001b[0m\u001b[32m\\n            \u001b[0m\u001b[32m<\u001b[0m\u001b[32mtd\u001b[0m\u001b[32m \u001b[0m\u001b[32mstyle\u001b[0m\u001b[32m=\u001b[0m\u001b[32m\"padding\u001b[0m\u001b[32m-left: 1em; padding-right: 1em; text-align: center; vertical-align: top\"\u001b[0m\u001b[32m>\u001b[0m\u001b[32m5697\u001b[0m\u001b[32m<\u001b[0m\u001b[32m/td\u001b[0m\u001b[32m>\u001b[0m\u001b[32m\\n            \u001b[0m\u001b[32m<\u001b[0m\u001b[32mtd\u001b[0m\u001b[32m \u001b[0m\u001b[32mstyle\u001b[0m\u001b[32m=\u001b[0m\u001b[32m\"padding\u001b[0m\u001b[32m-left: 1em; padding-right: 1em; text-align: center; vertical-align: top\"\u001b[0m\u001b[32m>\u001b[0m\u001b[32m5 %\u001b[0m\u001b[32m<\u001b[0m\u001b[32m/td\u001b[0m\u001b[32m>\u001b[0m\u001b[32m\\n        \u001b[0m\u001b[32m<\u001b[0m\u001b[32m/tr\u001b[0m\u001b[32m>\u001b[0m\u001b[32m\\n        \u001b[0m\u001b[32m<\u001b[0m\u001b[32mtr\u001b[0m\u001b[32m>\u001b[0m\u001b[32m\\n            \u001b[0m\u001b[32m<\u001b[0m\u001b[32mtd\u001b[0m\u001b[32m \u001b[0m\u001b[32mstyle\u001b[0m\u001b[32m=\u001b[0m\u001b[32m\"padding\u001b[0m\u001b[32m-left: 1em; padding-right: 1em; text-align: center; vertical-align: top\"\u001b[0m\u001b[32m>\u001b[0m\u001b[32m5\u001b[0m\u001b[32m<\u001b[0m\u001b[32m/td\u001b[0m\u001b[32m>\u001b[0m\u001b[32m\\n            \u001b[0m\u001b[32m<\u001b[0m\u001b[32mtd\u001b[0m\u001b[32m \u001b[0m\u001b[32mstyle\u001b[0m\u001b[32m=\u001b[0m\u001b[32m\"padding\u001b[0m\u001b[32m-left: 1em; padding-right: 1em; text-align: center; vertical-align: top\"\u001b[0m\u001b[32m>\u001b[0m\u001b[32m467\u001b[0m\u001b[32m<\u001b[0m\u001b[32m/td\u001b[0m\u001b[32m>\u001b[0m\u001b[32m\\n            \u001b[0m\u001b[32m<\u001b[0m\u001b[32mtd\u001b[0m\u001b[32m \u001b[0m\u001b[32mstyle\u001b[0m\u001b[32m=\u001b[0m\u001b[32m\"padding\u001b[0m\u001b[32m-left: 1em; padding-right: 1em; text-align: left; vertical-align: top\"\u001b[0m\u001b[32m>\u001b[0m\u001b[32mMEZ \u001b[0m\u001b[32m(\u001b[0m\u001b[32mHypothalamic medial zone\u001b[0m\u001b[32m)\u001b[0m\u001b[32m<\u001b[0m\u001b[32m/td\u001b[0m\u001b[32m>\u001b[0m\u001b[32m\\n            \u001b[0m\u001b[32m<\u001b[0m\u001b[32mtd\u001b[0m\u001b[32m \u001b[0m\u001b[32mstyle\u001b[0m\u001b[32m=\u001b[0m\u001b[32m\"padding\u001b[0m\u001b[32m-left: 1em; padding-right: 1em; text-align: left; vertical-align: top\"\u001b[0m\u001b[32m>\u001b[0m\u001b[32mMEZ \u001b[0m\u001b[32m(\u001b[0m\u001b[32mHypothalamus\u001b[0m\u001b[32m)\u001b[0m\u001b[32m<\u001b[0m\u001b[32m/td\u001b[0m\u001b[32m>\u001b[0m\u001b[32m\\n            \u001b[0m\u001b[32m<\u001b[0m\u001b[32mtd\u001b[0m\u001b[32m \u001b[0m\u001b[32mstyle\u001b[0m\u001b[32m=\u001b[0m\u001b[32m\"padding\u001b[0m\u001b[32m-left: 1em; padding-right: 1em; text-align: center; vertical-align: top\"\u001b[0m\u001b[32m>\u001b[0m\u001b[32m3843\u001b[0m\u001b[32m<\u001b[0m\u001b[32m/td\u001b[0m\u001b[32m>\u001b[0m\u001b[32m\\n            \u001b[0m\u001b[32m<\u001b[0m\u001b[32mtd\u001b[0m\u001b[32m \u001b[0m\u001b[32mstyle\u001b[0m\u001b[32m=\u001b[0m\u001b[32m\"padding\u001b[0m\u001b[32m-left: 1em; padding-right: 1em; text-align: center; vertical-align: top\"\u001b[0m\u001b[32m>\u001b[0m\u001b[32m3 %\u001b[0m\u001b[32m<\u001b[0m\u001b[32m/td\u001b[0m\u001b[32m>\u001b[0m\u001b[32m\\n        \u001b[0m\u001b[32m<\u001b[0m\u001b[32m/tr\u001b[0m\u001b[32m>\u001b[0m\u001b[32m\\n        \u001b[0m\u001b[32m<\u001b[0m\u001b[32mtr\u001b[0m\u001b[32m>\u001b[0m\u001b[32m\\n            \u001b[0m\u001b[32m<\u001b[0m\u001b[32mtd\u001b[0m\u001b[32m \u001b[0m\u001b[32mstyle\u001b[0m\u001b[32m=\u001b[0m\u001b[32m\"padding\u001b[0m\u001b[32m-left: 1em; padding-right: 1em; text-align: center; vertical-align: top\"\u001b[0m\u001b[32m>\u001b[0m\u001b[32m5\u001b[0m\u001b[32m<\u001b[0m\u001b[32m/td\u001b[0m\u001b[32m>\u001b[0m\u001b[32m\\n            \u001b[0m\u001b[32m<\u001b[0m\u001b[32mtd\u001b[0m\u001b[32m \u001b[0m\u001b[32mstyle\u001b[0m\u001b[32m=\u001b[0m\u001b[32m\"padding\u001b[0m\u001b[32m-left: 1em; padding-right: 1em; text-align: center; vertical-align: top\"\u001b[0m\u001b[32m>\u001b[0m\u001b[32m370\u001b[0m\u001b[32m<\u001b[0m\u001b[32m/td\u001b[0m\u001b[32m>\u001b[0m\u001b[32m\\n            \u001b[0m\u001b[32m<\u001b[0m\u001b[32mtd\u001b[0m\u001b[32m \u001b[0m\u001b[32mstyle\u001b[0m\u001b[32m=\u001b[0m\u001b[32m\"padding\u001b[0m\u001b[32m-left: 1em; padding-right: 1em; text-align: left; vertical-align: top\"\u001b[0m\u001b[32m>\u001b[0m\u001b[32mMY-mot \u001b[0m\u001b[32m(\u001b[0m\u001b[32mmotor related\u001b[0m\u001b[32m)\u001b[0m\u001b[32m<\u001b[0m\u001b[32m/td\u001b[0m\u001b[32m>\u001b[0m\u001b[32m\\n            \u001b[0m\u001b[32m<\u001b[0m\u001b[32mtd\u001b[0m\u001b[32m \u001b[0m\u001b[32mstyle\u001b[0m\u001b[32m=\u001b[0m\u001b[32m\"padding\u001b[0m\u001b[32m-left: 1em; padding-right: 1em; text-align: left; vertical-align: top\"\u001b[0m\u001b[32m>\u001b[0m\u001b[32mMY-mot \u001b[0m\u001b[32m(\u001b[0m\u001b[32mMedulla\u001b[0m\u001b[32m)\u001b[0m\u001b[32m<\u001b[0m\u001b[32m/td\u001b[0m\u001b[32m>\u001b[0m\u001b[32m\\n            \u001b[0m\u001b[32m<\u001b[0m\u001b[32mtd\u001b[0m\u001b[32m \u001b[0m\u001b[32mstyle\u001b[0m\u001b[32m=\u001b[0m\u001b[32m\"padding\u001b[0m\u001b[32m-left: 1em; padding-right: 1em; text-align: center; vertical-align: top\"\u001b[0m\u001b[32m>\u001b[0m\u001b[32m17471\u001b[0m\u001b[32m<\u001b[0m\u001b[32m/td\u001b[0m\u001b[32m>\u001b[0m\u001b[32m\\n            \u001b[0m\u001b[32m<\u001b[0m\u001b[32mtd\u001b[0m\u001b[32m \u001b[0m\u001b[32mstyle\u001b[0m\u001b[32m=\u001b[0m\u001b[32m\"padding\u001b[0m\u001b[32m-left: 1em; padding-right: 1em; text-align: center; vertical-align: top\"\u001b[0m\u001b[32m>\u001b[0m\u001b[32m14 %\u001b[0m\u001b[32m<\u001b[0m\u001b[32m/td\u001b[0m\u001b[32m>\u001b[0m\u001b[32m\\n        \u001b[0m\u001b[32m<\u001b[0m\u001b[32m/tr\u001b[0m\u001b[32m>\u001b[0m\u001b[32m\\n        \u001b[0m\u001b[32m<\u001b[0m\u001b[32mtr\u001b[0m\u001b[32m>\u001b[0m\u001b[32m\\n            \u001b[0m\u001b[32m<\u001b[0m\u001b[32mtd\u001b[0m\u001b[32m \u001b[0m\u001b[32mstyle\u001b[0m\u001b[32m=\u001b[0m\u001b[32m\"padding\u001b[0m\u001b[32m-left: 1em; padding-right: 1em; text-align: center; vertical-align: top\"\u001b[0m\u001b[32m>\u001b[0m\u001b[32m5\u001b[0m\u001b[32m<\u001b[0m\u001b[32m/td\u001b[0m\u001b[32m>\u001b[0m\u001b[32m\\n            \u001b[0m\u001b[32m<\u001b[0m\u001b[32mtd\u001b[0m\u001b[32m \u001b[0m\u001b[32mstyle\u001b[0m\u001b[32m=\u001b[0m\u001b[32m\"padding\u001b[0m\u001b[32m-left: 1em; padding-right: 1em; text-align: center; vertical-align: top\"\u001b[0m\u001b[32m>\u001b[0m\u001b[32m379\u001b[0m\u001b[32m<\u001b[0m\u001b[32m/td\u001b[0m\u001b[32m>\u001b[0m\u001b[32m\\n            \u001b[0m\u001b[32m<\u001b[0m\u001b[32mtd\u001b[0m\u001b[32m \u001b[0m\u001b[32mstyle\u001b[0m\u001b[32m=\u001b[0m\u001b[32m\"padding\u001b[0m\u001b[32m-left: 1em; padding-right: 1em; text-align: left; vertical-align: top\"\u001b[0m\u001b[32m>\u001b[0m\u001b[32mMY-sat \u001b[0m\u001b[32m(\u001b[0m\u001b[32mbehavioral state related\u001b[0m\u001b[32m)\u001b[0m\u001b[32m<\u001b[0m\u001b[32m/td\u001b[0m\u001b[32m>\u001b[0m\u001b[32m\\n            \u001b[0m\u001b[32m<\u001b[0m\u001b[32mtd\u001b[0m\u001b[32m \u001b[0m\u001b[32mstyle\u001b[0m\u001b[32m=\u001b[0m\u001b[32m\"padding\u001b[0m\u001b[32m-left: 1em; padding-right: 1em; text-align: left; vertical-align: top\"\u001b[0m\u001b[32m>\u001b[0m\u001b[32mMY-sat \u001b[0m\u001b[32m(\u001b[0m\u001b[32mMedulla\u001b[0m\u001b[32m)\u001b[0m\u001b[32m<\u001b[0m\u001b[32m/td\u001b[0m\u001b[32m>\u001b[0m\u001b[32m\\n            \u001b[0m\u001b[32m<\u001b[0m\u001b[32mtd\u001b[0m\u001b[32m \u001b[0m\u001b[32mstyle\u001b[0m\u001b[32m=\u001b[0m\u001b[32m\"padding\u001b[0m\u001b[32m-left: 1em; padding-right: 1em; text-align: center; vertical-align: top\"\u001b[0m\u001b[32m>\u001b[0m\u001b[32m249\u001b[0m\u001b[32m<\u001b[0m\u001b[32m/td\u001b[0m\u001b[32m>\u001b[0m\u001b[32m\\n            \u001b[0m\u001b[32m<\u001b[0m\u001b[32mtd\u001b[0m\u001b[32m \u001b[0m\u001b[32mstyle\u001b[0m\u001b[32m=\u001b[0m\u001b[32m\"padding\u001b[0m\u001b[32m-left: 1em; padding-right: 1em; text-align: center; vertical-align: top\"\u001b[0m\u001b[32m>\u001b[0m\u001b[32m0 %\u001b[0m\u001b[32m<\u001b[0m\u001b[32m/td\u001b[0m\u001b[32m>\u001b[0m\u001b[32m\\n        \u001b[0m\u001b[32m<\u001b[0m\u001b[32m/tr\u001b[0m\u001b[32m>\u001b[0m\u001b[32m\\n        \u001b[0m\u001b[32m<\u001b[0m\u001b[32mtr\u001b[0m\u001b[32m>\u001b[0m\u001b[32m\\n            \u001b[0m\u001b[32m<\u001b[0m\u001b[32mtd\u001b[0m\u001b[32m \u001b[0m\u001b[32mstyle\u001b[0m\u001b[32m=\u001b[0m\u001b[32m\"padding\u001b[0m\u001b[32m-left: 1em; padding-right: 1em; text-align: center; vertical-align: top\"\u001b[0m\u001b[32m>\u001b[0m\u001b[32m5\u001b[0m\u001b[32m<\u001b[0m\u001b[32m/td\u001b[0m\u001b[32m>\u001b[0m\u001b[32m\\n            \u001b[0m\u001b[32m<\u001b[0m\u001b[32mtd\u001b[0m\u001b[32m \u001b[0m\u001b[32mstyle\u001b[0m\u001b[32m=\u001b[0m\u001b[32m\"padding\u001b[0m\u001b[32m-left: 1em; padding-right: 1em; text-align: center; vertical-align: top\"\u001b[0m\u001b[32m>\u001b[0m\u001b[32m386\u001b[0m\u001b[32m<\u001b[0m\u001b[32m/td\u001b[0m\u001b[32m>\u001b[0m\u001b[32m\\n            \u001b[0m\u001b[32m<\u001b[0m\u001b[32mtd\u001b[0m\u001b[32m \u001b[0m\u001b[32mstyle\u001b[0m\u001b[32m=\u001b[0m\u001b[32m\"padding\u001b[0m\u001b[32m-left: 1em; padding-right: 1em; text-align: left; vertical-align: top\"\u001b[0m\u001b[32m>\u001b[0m\u001b[32mMY-sen \u001b[0m\u001b[32m(\u001b[0m\u001b[32msensory related\u001b[0m\u001b[32m)\u001b[0m\u001b[32m<\u001b[0m\u001b[32m/td\u001b[0m\u001b[32m>\u001b[0m\u001b[32m\\n            \u001b[0m\u001b[32m<\u001b[0m\u001b[32mtd\u001b[0m\u001b[32m \u001b[0m\u001b[32mstyle\u001b[0m\u001b[32m=\u001b[0m\u001b[32m\"padding\u001b[0m\u001b[32m-left: 1em; padding-right: 1em; text-align: left; vertical-align: top\"\u001b[0m\u001b[32m>\u001b[0m\u001b[32mMY-sen \u001b[0m\u001b[32m(\u001b[0m\u001b[32mMedulla\u001b[0m\u001b[32m)\u001b[0m\u001b[32m<\u001b[0m\u001b[32m/td\u001b[0m\u001b[32m>\u001b[0m\u001b[32m\\n            \u001b[0m\u001b[32m<\u001b[0m\u001b[32mtd\u001b[0m\u001b[32m \u001b[0m\u001b[32mstyle\u001b[0m\u001b[32m=\u001b[0m\u001b[32m\"padding\u001b[0m\u001b[32m-left: 1em; padding-right: 1em; text-align: center; vertical-align: top\"\u001b[0m\u001b[32m>\u001b[0m\u001b[32m7891\u001b[0m\u001b[32m<\u001b[0m\u001b[32m/td\u001b[0m\u001b[32m>\u001b[0m\u001b[32m\\n            \u001b[0m\u001b[32m<\u001b[0m\u001b[32mtd\u001b[0m\u001b[32m \u001b[0m\u001b[32mstyle\u001b[0m\u001b[32m=\u001b[0m\u001b[32m\"padding\u001b[0m\u001b[32m-left: 1em; padding-right: 1em; text-align: center; vertical-align: top\"\u001b[0m\u001b[32m>\u001b[0m\u001b[32m6 %\u001b[0m\u001b[32m<\u001b[0m\u001b[32m/td\u001b[0m\u001b[32m>\u001b[0m\u001b[32m\\n        \u001b[0m\u001b[32m<\u001b[0m\u001b[32m/tr\u001b[0m\u001b[32m>\u001b[0m\u001b[32m\\n        \u001b[0m\u001b[32m<\u001b[0m\u001b[32mtr\u001b[0m\u001b[32m>\u001b[0m\u001b[32m\\n            \u001b[0m\u001b[32m<\u001b[0m\u001b[32mtd\u001b[0m\u001b[32m \u001b[0m\u001b[32mstyle\u001b[0m\u001b[32m=\u001b[0m\u001b[32m\"padding\u001b[0m\u001b[32m-left: 1em; padding-right: 1em; text-align: center; vertical-align: top\"\u001b[0m\u001b[32m>\u001b[0m\u001b[32m5\u001b[0m\u001b[32m<\u001b[0m\u001b[32m/td\u001b[0m\u001b[32m>\u001b[0m\u001b[32m\\n            \u001b[0m\u001b[32m<\u001b[0m\u001b[32mtd\u001b[0m\u001b[32m \u001b[0m\u001b[32mstyle\u001b[0m\u001b[32m=\u001b[0m\u001b[32m\"padding\u001b[0m\u001b[32m-left: 1em; padding-right: 1em; text-align: center; vertical-align: top\"\u001b[0m\u001b[32m>\u001b[0m\u001b[32m987\u001b[0m\u001b[32m<\u001b[0m\u001b[32m/td\u001b[0m\u001b[32m>\u001b[0m\u001b[32m\\n            \u001b[0m\u001b[32m<\u001b[0m\u001b[32mtd\u001b[0m\u001b[32m \u001b[0m\u001b[32mstyle\u001b[0m\u001b[32m=\u001b[0m\u001b[32m\"padding\u001b[0m\u001b[32m-left: 1em; padding-right: 1em; text-align: left; vertical-align: top\"\u001b[0m\u001b[32m>\u001b[0m\u001b[32mP-mot \u001b[0m\u001b[32m(\u001b[0m\u001b[32mmotor related\u001b[0m\u001b[32m)\u001b[0m\u001b[32m<\u001b[0m\u001b[32m/td\u001b[0m\u001b[32m>\u001b[0m\u001b[32m\\n            \u001b[0m\u001b[32m<\u001b[0m\u001b[32mtd\u001b[0m\u001b[32m \u001b[0m\u001b[32mstyle\u001b[0m\u001b[32m=\u001b[0m\u001b[32m\"padding\u001b[0m\u001b[32m-left: 1em; padding-right: 1em; text-align: left; vertical-align: top\"\u001b[0m\u001b[32m>\u001b[0m\u001b[32mP-mot \u001b[0m\u001b[32m(\u001b[0m\u001b[32mPons\u001b[0m\u001b[32m)\u001b[0m\u001b[32m<\u001b[0m\u001b[32m/td\u001b[0m\u001b[32m>\u001b[0m\u001b[32m\\n            \u001b[0m\u001b[32m<\u001b[0m\u001b[32mtd\u001b[0m\u001b[32m \u001b[0m\u001b[32mstyle\u001b[0m\u001b[32m=\u001b[0m\u001b[32m\"padding\u001b[0m\u001b[32m-left: 1em; padding-right: 1em; text-align: center; vertical-align: top\"\u001b[0m\u001b[32m>\u001b[0m\u001b[32m5772\u001b[0m\u001b[32m<\u001b[0m\u001b[32m/td\u001b[0m\u001b[32m>\u001b[0m\u001b[32m\\n            \u001b[0m\u001b[32m<\u001b[0m\u001b[32mtd\u001b[0m\u001b[32m \u001b[0m\u001b[32mstyle\u001b[0m\u001b[32m=\u001b[0m\u001b[32m\"padding\u001b[0m\u001b[32m-left: 1em; padding-right: 1em; text-align: center; vertical-align: top\"\u001b[0m\u001b[32m>\u001b[0m\u001b[32m5 %\u001b[0m\u001b[32m<\u001b[0m\u001b[32m/td\u001b[0m\u001b[32m>\u001b[0m\u001b[32m\\n        \u001b[0m\u001b[32m<\u001b[0m\u001b[32m/tr\u001b[0m\u001b[32m>\u001b[0m\u001b[32m\\n        \u001b[0m\u001b[32m<\u001b[0m\u001b[32mtr\u001b[0m\u001b[32m>\u001b[0m\u001b[32m\\n            \u001b[0m\u001b[32m<\u001b[0m\u001b[32mtd\u001b[0m\u001b[32m \u001b[0m\u001b[32mstyle\u001b[0m\u001b[32m=\u001b[0m\u001b[32m\"padding\u001b[0m\u001b[32m-left: 1em; padding-right: 1em; text-align: center; vertical-align: top\"\u001b[0m\u001b[32m>\u001b[0m\u001b[32m5\u001b[0m\u001b[32m<\u001b[0m\u001b[32m/td\u001b[0m\u001b[32m>\u001b[0m\u001b[32m\\n            \u001b[0m\u001b[32m<\u001b[0m\u001b[32mtd\u001b[0m\u001b[32m \u001b[0m\u001b[32mstyle\u001b[0m\u001b[32m=\u001b[0m\u001b[32m\"padding\u001b[0m\u001b[32m-left: 1em; padding-right: 1em; text-align: center; vertical-align: top\"\u001b[0m\u001b[32m>\u001b[0m\u001b[32m1117\u001b[0m\u001b[32m<\u001b[0m\u001b[32m/td\u001b[0m\u001b[32m>\u001b[0m\u001b[32m\\n            \u001b[0m\u001b[32m<\u001b[0m\u001b[32mtd\u001b[0m\u001b[32m \u001b[0m\u001b[32mstyle\u001b[0m\u001b[32m=\u001b[0m\u001b[32m\"padding\u001b[0m\u001b[32m-left: 1em; padding-right: 1em; text-align: left; vertical-align: top\"\u001b[0m\u001b[32m>\u001b[0m\u001b[32mP-sat \u001b[0m\u001b[32m(\u001b[0m\u001b[32mbehavioral state related\u001b[0m\u001b[32m)\u001b[0m\u001b[32m<\u001b[0m\u001b[32m/td\u001b[0m\u001b[32m>\u001b[0m\u001b[32m\\n            \u001b[0m\u001b[32m<\u001b[0m\u001b[32mtd\u001b[0m\u001b[32m \u001b[0m\u001b[32mstyle\u001b[0m\u001b[32m=\u001b[0m\u001b[32m\"padding\u001b[0m\u001b[32m-left: 1em; padding-right: 1em; text-align: left; vertical-align: top\"\u001b[0m\u001b[32m>\u001b[0m\u001b[32mP-sat \u001b[0m\u001b[32m(\u001b[0m\u001b[32mPons\u001b[0m\u001b[32m)\u001b[0m\u001b[32m<\u001b[0m\u001b[32m/td\u001b[0m\u001b[32m>\u001b[0m\u001b[32m\\n            \u001b[0m\u001b[32m<\u001b[0m\u001b[32mtd\u001b[0m\u001b[32m \u001b[0m\u001b[32mstyle\u001b[0m\u001b[32m=\u001b[0m\u001b[32m\"padding\u001b[0m\u001b[32m-left: 1em; padding-right: 1em; text-align: center; vertical-align: top\"\u001b[0m\u001b[32m>\u001b[0m\u001b[32m3427\u001b[0m\u001b[32m<\u001b[0m\u001b[32m/td\u001b[0m\u001b[32m>\u001b[0m\u001b[32m\\n            \u001b[0m\u001b[32m<\u001b[0m\u001b[32mtd\u001b[0m\u001b[32m \u001b[0m\u001b[32mstyle\u001b[0m\u001b[32m=\u001b[0m\u001b[32m\"padding\u001b[0m\u001b[32m-left: 1em; padding-right: 1em; text-align: center; vertical-align: top\"\u001b[0m\u001b[32m>\u001b[0m\u001b[32m3 %\u001b[0m\u001b[32m<\u001b[0m\u001b[32m/td\u001b[0m\u001b[32m>\u001b[0m\u001b[32m\\n        \u001b[0m\u001b[32m<\u001b[0m\u001b[32m/tr\u001b[0m\u001b[32m>\u001b[0m\u001b[32m\\n        \u001b[0m\u001b[32m<\u001b[0m\u001b[32mtr\u001b[0m\u001b[32m>\u001b[0m\u001b[32m\\n            \u001b[0m\u001b[32m<\u001b[0m\u001b[32mtd\u001b[0m\u001b[32m \u001b[0m\u001b[32mstyle\u001b[0m\u001b[32m=\u001b[0m\u001b[32m\"padding\u001b[0m\u001b[32m-left: 1em; padding-right: 1em; text-align: center; vertical-align: top\"\u001b[0m\u001b[32m>\u001b[0m\u001b[32m5\u001b[0m\u001b[32m<\u001b[0m\u001b[32m/td\u001b[0m\u001b[32m>\u001b[0m\u001b[32m\\n            \u001b[0m\u001b[32m<\u001b[0m\u001b[32mtd\u001b[0m\u001b[32m \u001b[0m\u001b[32mstyle\u001b[0m\u001b[32m=\u001b[0m\u001b[32m\"padding\u001b[0m\u001b[32m-left: 1em; padding-right: 1em; text-align: center; vertical-align: top\"\u001b[0m\u001b[32m>\u001b[0m\u001b[32m1132\u001b[0m\u001b[32m<\u001b[0m\u001b[32m/td\u001b[0m\u001b[32m>\u001b[0m\u001b[32m\\n            \u001b[0m\u001b[32m<\u001b[0m\u001b[32mtd\u001b[0m\u001b[32m \u001b[0m\u001b[32mstyle\u001b[0m\u001b[32m=\u001b[0m\u001b[32m\"padding\u001b[0m\u001b[32m-left: 1em; padding-right: 1em; text-align: left; vertical-align: top\"\u001b[0m\u001b[32m>\u001b[0m\u001b[32mP-sen \u001b[0m\u001b[32m(\u001b[0m\u001b[32msensory related\u001b[0m\u001b[32m)\u001b[0m\u001b[32m<\u001b[0m\u001b[32m/td\u001b[0m\u001b[32m>\u001b[0m\u001b[32m\\n            \u001b[0m\u001b[32m<\u001b[0m\u001b[32mtd\u001b[0m\u001b[32m \u001b[0m\u001b[32mstyle\u001b[0m\u001b[32m=\u001b[0m\u001b[32m\"padding\u001b[0m\u001b[32m-left: 1em; padding-right: 1em; text-align: left; vertical-align: top\"\u001b[0m\u001b[32m>\u001b[0m\u001b[32mP-sen \u001b[0m\u001b[32m(\u001b[0m\u001b[32mPons\u001b[0m\u001b[32m)\u001b[0m\u001b[32m<\u001b[0m\u001b[32m/td\u001b[0m\u001b[32m>\u001b[0m\u001b[32m\\n            \u001b[0m\u001b[32m<\u001b[0m\u001b[32mtd\u001b[0m\u001b[32m \u001b[0m\u001b[32mstyle\u001b[0m\u001b[32m=\u001b[0m\u001b[32m\"padding\u001b[0m\u001b[32m-left: 1em; padding-right: 1em; text-align: center; vertical-align: top\"\u001b[0m\u001b[32m>\u001b[0m\u001b[32m3893\u001b[0m\u001b[32m<\u001b[0m\u001b[32m/td\u001b[0m\u001b[32m>\u001b[0m\u001b[32m\\n            \u001b[0m\u001b[32m<\u001b[0m\u001b[32mtd\u001b[0m\u001b[32m \u001b[0m\u001b[32mstyle\u001b[0m\u001b[32m=\u001b[0m\u001b[32m\"padding\u001b[0m\u001b[32m-left: 1em; padding-right: 1em; text-align: center; vertical-align: top\"\u001b[0m\u001b[32m>\u001b[0m\u001b[32m3 %\u001b[0m\u001b[32m<\u001b[0m\u001b[32m/td\u001b[0m\u001b[32m>\u001b[0m\u001b[32m\\n        \u001b[0m\u001b[32m<\u001b[0m\u001b[32m/tr\u001b[0m\u001b[32m>\u001b[0m\u001b[32m\\n        \u001b[0m\u001b[32m<\u001b[0m\u001b[32mtr\u001b[0m\u001b[32m>\u001b[0m\u001b[32m\\n            \u001b[0m\u001b[32m<\u001b[0m\u001b[32mtd\u001b[0m\u001b[32m \u001b[0m\u001b[32mstyle\u001b[0m\u001b[32m=\u001b[0m\u001b[32m\"padding\u001b[0m\u001b[32m-left: 1em; padding-right: 1em; text-align: center; vertical-align: top\"\u001b[0m\u001b[32m>\u001b[0m\u001b[32m5\u001b[0m\u001b[32m<\u001b[0m\u001b[32m/td\u001b[0m\u001b[32m>\u001b[0m\u001b[32m\\n            \u001b[0m\u001b[32m<\u001b[0m\u001b[32mtd\u001b[0m\u001b[32m \u001b[0m\u001b[32mstyle\u001b[0m\u001b[32m=\u001b[0m\u001b[32m\"padding\u001b[0m\u001b[32m-left: 1em; padding-right: 1em; text-align: center; vertical-align: top\"\u001b[0m\u001b[32m>\u001b[0m\u001b[32m141\u001b[0m\u001b[32m<\u001b[0m\u001b[32m/td\u001b[0m\u001b[32m>\u001b[0m\u001b[32m\\n            \u001b[0m\u001b[32m<\u001b[0m\u001b[32mtd\u001b[0m\u001b[32m \u001b[0m\u001b[32mstyle\u001b[0m\u001b[32m=\u001b[0m\u001b[32m\"padding\u001b[0m\u001b[32m-left: 1em; padding-right: 1em; text-align: left; vertical-align: top\"\u001b[0m\u001b[32m>\u001b[0m\u001b[32mPVR \u001b[0m\u001b[32m(\u001b[0m\u001b[32mPeriventricular region\u001b[0m\u001b[32m)\u001b[0m\u001b[32m<\u001b[0m\u001b[32m/td\u001b[0m\u001b[32m>\u001b[0m\u001b[32m\\n            \u001b[0m\u001b[32m<\u001b[0m\u001b[32mtd\u001b[0m\u001b[32m \u001b[0m\u001b[32mstyle\u001b[0m\u001b[32m=\u001b[0m\u001b[32m\"padding\u001b[0m\u001b[32m-left: 1em; padding-right: 1em; text-align: left; vertical-align: top\"\u001b[0m\u001b[32m>\u001b[0m\u001b[32mPVR \u001b[0m\u001b[32m(\u001b[0m\u001b[32mHypothalamus\u001b[0m\u001b[32m)\u001b[0m\u001b[32m<\u001b[0m\u001b[32m/td\u001b[0m\u001b[32m>\u001b[0m\u001b[32m\\n            \u001b[0m\u001b[32m<\u001b[0m\u001b[32mtd\u001b[0m\u001b[32m \u001b[0m\u001b[32mstyle\u001b[0m\u001b[32m=\u001b[0m\u001b[32m\"padding\u001b[0m\u001b[32m-left: 1em; padding-right: 1em; text-align: center; vertical-align: top\"\u001b[0m\u001b[32m>\u001b[0m\u001b[32m2016\u001b[0m\u001b[32m<\u001b[0m\u001b[32m/td\u001b[0m\u001b[32m>\u001b[0m\u001b[32m\\n            \u001b[0m\u001b[32m<\u001b[0m\u001b[32mtd\u001b[0m\u001b[32m \u001b[0m\u001b[32mstyle\u001b[0m\u001b[32m=\u001b[0m\u001b[32m\"padding\u001b[0m\u001b[32m-left: 1em; padding-right: 1em; text-align: center; vertical-align: top\"\u001b[0m\u001b[32m>\u001b[0m\u001b[32m2 %\u001b[0m\u001b[32m<\u001b[0m\u001b[32m/td\u001b[0m\u001b[32m>\u001b[0m\u001b[32m\\n        \u001b[0m\u001b[32m<\u001b[0m\u001b[32m/tr\u001b[0m\u001b[32m>\u001b[0m\u001b[32m\\n        \u001b[0m\u001b[32m<\u001b[0m\u001b[32mtr\u001b[0m\u001b[32m>\u001b[0m\u001b[32m\\n            \u001b[0m\u001b[32m<\u001b[0m\u001b[32mtd\u001b[0m\u001b[32m \u001b[0m\u001b[32mstyle\u001b[0m\u001b[32m=\u001b[0m\u001b[32m\"padding\u001b[0m\u001b[32m-left: 1em; padding-right: 1em; text-align: center; vertical-align: top\"\u001b[0m\u001b[32m>\u001b[0m\u001b[32m5\u001b[0m\u001b[32m<\u001b[0m\u001b[32m/td\u001b[0m\u001b[32m>\u001b[0m\u001b[32m\\n            \u001b[0m\u001b[32m<\u001b[0m\u001b[32mtd\u001b[0m\u001b[32m \u001b[0m\u001b[32mstyle\u001b[0m\u001b[32m=\u001b[0m\u001b[32m\"padding\u001b[0m\u001b[32m-left: 1em; padding-right: 1em; text-align: center; vertical-align: top\"\u001b[0m\u001b[32m>\u001b[0m\u001b[32m157\u001b[0m\u001b[32m<\u001b[0m\u001b[32m/td\u001b[0m\u001b[32m>\u001b[0m\u001b[32m\\n            \u001b[0m\u001b[32m<\u001b[0m\u001b[32mtd\u001b[0m\u001b[32m \u001b[0m\u001b[32mstyle\u001b[0m\u001b[32m=\u001b[0m\u001b[32m\"padding\u001b[0m\u001b[32m-left: 1em; padding-right: 1em; text-align: left; vertical-align: top\"\u001b[0m\u001b[32m>\u001b[0m\u001b[32mPVZ \u001b[0m\u001b[32m(\u001b[0m\u001b[32mPeriventricular zone\u001b[0m\u001b[32m)\u001b[0m\u001b[32m<\u001b[0m\u001b[32m/td\u001b[0m\u001b[32m>\u001b[0m\u001b[32m\\n            \u001b[0m\u001b[32m<\u001b[0m\u001b[32mtd\u001b[0m\u001b[32m \u001b[0m\u001b[32mstyle\u001b[0m\u001b[32m=\u001b[0m\u001b[32m\"padding\u001b[0m\u001b[32m-left: 1em; padding-right: 1em; text-align: left; vertical-align: top\"\u001b[0m\u001b[32m>\u001b[0m\u001b[32mPVZ \u001b[0m\u001b[32m(\u001b[0m\u001b[32mHypothalamus\u001b[0m\u001b[32m)\u001b[0m\u001b[32m<\u001b[0m\u001b[32m/td\u001b[0m\u001b[32m>\u001b[0m\u001b[32m\\n            \u001b[0m\u001b[32m<\u001b[0m\u001b[32mtd\u001b[0m\u001b[32m \u001b[0m\u001b[32mstyle\u001b[0m\u001b[32m=\u001b[0m\u001b[32m\"padding\u001b[0m\u001b[32m-left: 1em; padding-right: 1em; text-align: center; vertical-align: top\"\u001b[0m\u001b[32m>\u001b[0m\u001b[32m680\u001b[0m\u001b[32m<\u001b[0m\u001b[32m/td\u001b[0m\u001b[32m>\u001b[0m\u001b[32m\\n            \u001b[0m\u001b[32m<\u001b[0m\u001b[32mtd\u001b[0m\u001b[32m \u001b[0m\u001b[32mstyle\u001b[0m\u001b[32m=\u001b[0m\u001b[32m\"padding\u001b[0m\u001b[32m-left: 1em; padding-right: 1em; text-align: center; vertical-align: top\"\u001b[0m\u001b[32m>\u001b[0m\u001b[32m1 %\u001b[0m\u001b[32m<\u001b[0m\u001b[32m/td\u001b[0m\u001b[32m>\u001b[0m\u001b[32m\\n        \u001b[0m\u001b[32m<\u001b[0m\u001b[32m/tr\u001b[0m\u001b[32m>\u001b[0m\u001b[32m\\n        \u001b[0m\u001b[32m<\u001b[0m\u001b[32mtr\u001b[0m\u001b[32m>\u001b[0m\u001b[32m\\n            \u001b[0m\u001b[32m<\u001b[0m\u001b[32mtd\u001b[0m\u001b[32m \u001b[0m\u001b[32mstyle\u001b[0m\u001b[32m=\u001b[0m\u001b[32m\"padding\u001b[0m\u001b[32m-left: 1em; padding-right: 1em; text-align: center; vertical-align: top\"\u001b[0m\u001b[32m>\u001b[0m\u001b[32m---\u001b[0m\u001b[32m<\u001b[0m\u001b[32m/td\u001b[0m\u001b[32m>\u001b[0m\u001b[32m\\n            \u001b[0m\u001b[32m<\u001b[0m\u001b[32mtd\u001b[0m\u001b[32m \u001b[0m\u001b[32mstyle\u001b[0m\u001b[32m=\u001b[0m\u001b[32m\"padding\u001b[0m\u001b[32m-left: 1em; padding-right: 1em; text-align: center; vertical-align: top\"\u001b[0m\u001b[32m>\u001b[0m\u001b[32m---\u001b[0m\u001b[32m<\u001b[0m\u001b[32m/td\u001b[0m\u001b[32m>\u001b[0m\u001b[32m\\n            \u001b[0m\u001b[32m<\u001b[0m\u001b[32mtd\u001b[0m\u001b[32m \u001b[0m\u001b[32mstyle\u001b[0m\u001b[32m=\u001b[0m\u001b[32m\"padding\u001b[0m\u001b[32m-left: 1em; padding-right: 1em; text-align: left; vertical-align: top\"\u001b[0m\u001b[32m>\u001b[0m\u001b[32m---\u001b[0m\u001b[32m<\u001b[0m\u001b[32m/td\u001b[0m\u001b[32m>\u001b[0m\u001b[32m\\n            \u001b[0m\u001b[32m<\u001b[0m\u001b[32mtd\u001b[0m\u001b[32m \u001b[0m\u001b[32mstyle\u001b[0m\u001b[32m=\u001b[0m\u001b[32m\"padding\u001b[0m\u001b[32m-left: 1em; padding-right: 1em; text-align: left; vertical-align: top\"\u001b[0m\u001b[32m>\u001b[0m\u001b[32m---\u001b[0m\u001b[32m<\u001b[0m\u001b[32m/td\u001b[0m\u001b[32m>\u001b[0m\u001b[32m\\n            \u001b[0m\u001b[32m<\u001b[0m\u001b[32mtd\u001b[0m\u001b[32m \u001b[0m\u001b[32mstyle\u001b[0m\u001b[32m=\u001b[0m\u001b[32m\"padding\u001b[0m\u001b[32m-left: 1em; padding-right: 1em; text-align: center; vertical-align: top\"\u001b[0m\u001b[32m>\u001b[0m\u001b[32m---\u001b[0m\u001b[32m<\u001b[0m\u001b[32m/td\u001b[0m\u001b[32m>\u001b[0m\u001b[32m\\n            \u001b[0m\u001b[32m<\u001b[0m\u001b[32mtd\u001b[0m\u001b[32m \u001b[0m\u001b[32mstyle\u001b[0m\u001b[32m=\u001b[0m\u001b[32m\"padding\u001b[0m\u001b[32m-left: 1em; padding-right: 1em; text-align: center; vertical-align: top\"\u001b[0m\u001b[32m>\u001b[0m\u001b[32m---\u001b[0m\u001b[32m<\u001b[0m\u001b[32m/td\u001b[0m\u001b[32m>\u001b[0m\u001b[32m\\n        \u001b[0m\u001b[32m<\u001b[0m\u001b[32m/tr\u001b[0m\u001b[32m>\u001b[0m\u001b[32m\\n    \u001b[0m\u001b[32m<\u001b[0m\u001b[32m/tbody\u001b[0m\u001b[32m>\u001b[0m\u001b[32m\\n\u001b[0m\u001b[32m<\u001b[0m\u001b[32m/table\u001b[0m\u001b[32m>\u001b[0m\u001b[32m'\u001b[0m\n"
      ]
     },
     "metadata": {},
     "output_type": "display_data"
    }
   ],
   "source": [
    "html"
   ]
  },
  {
   "cell_type": "code",
   "execution_count": null,
   "id": "2e68761b",
   "metadata": {},
   "outputs": [],
   "source": []
  },
  {
   "cell_type": "code",
   "execution_count": null,
   "id": "d03fadd4",
   "metadata": {},
   "outputs": [],
   "source": []
  },
  {
   "cell_type": "code",
   "execution_count": null,
   "id": "0fd2ccea",
   "metadata": {},
   "outputs": [],
   "source": []
  },
  {
   "cell_type": "code",
   "execution_count": 58,
   "id": "202f35b9",
   "metadata": {},
   "outputs": [
    {
     "data": {
      "text/html": [
       "<pre style=\"white-space:pre;overflow-x:auto;line-height:normal;font-family:Menlo,'DejaVu Sans Mono',consolas,'Courier New',monospace\"><span style=\"font-weight: bold\">[</span>\n",
       "    <span style=\"color: #008000; text-decoration-color: #008000\">'PALd'</span>,\n",
       "    <span style=\"color: #008000; text-decoration-color: #008000\">'PALv'</span>,\n",
       "    <span style=\"color: #008000; text-decoration-color: #008000\">'PALm'</span>,\n",
       "    <span style=\"color: #008000; text-decoration-color: #008000\">'PALc'</span>,\n",
       "    <span style=\"color: #008000; text-decoration-color: #008000\">'STRd'</span>,\n",
       "    <span style=\"color: #008000; text-decoration-color: #008000\">'STRv'</span>,\n",
       "    <span style=\"color: #008000; text-decoration-color: #008000\">'LSX'</span>,\n",
       "    <span style=\"color: #008000; text-decoration-color: #008000\">'sAMY'</span>,\n",
       "    <span style=\"color: #008000; text-decoration-color: #008000\">'MOB'</span>,\n",
       "    <span style=\"color: #008000; text-decoration-color: #008000\">'AOB'</span>,\n",
       "    <span style=\"color: #008000; text-decoration-color: #008000\">'AON'</span>,\n",
       "    <span style=\"color: #008000; text-decoration-color: #008000\">'TT'</span>,\n",
       "    <span style=\"color: #008000; text-decoration-color: #008000\">'DP'</span>,\n",
       "    <span style=\"color: #008000; text-decoration-color: #008000\">'PIR'</span>,\n",
       "    <span style=\"color: #008000; text-decoration-color: #008000\">'NLOT'</span>,\n",
       "    <span style=\"color: #008000; text-decoration-color: #008000\">'COA'</span>,\n",
       "    <span style=\"color: #008000; text-decoration-color: #008000\">'PAA'</span>,\n",
       "    <span style=\"color: #008000; text-decoration-color: #008000\">'TR'</span>,\n",
       "    <span style=\"color: #008000; text-decoration-color: #008000\">'CA'</span>,\n",
       "    <span style=\"color: #008000; text-decoration-color: #008000\">'DG'</span>,\n",
       "    <span style=\"color: #008000; text-decoration-color: #008000\">'ENTl'</span>,\n",
       "    <span style=\"color: #008000; text-decoration-color: #008000\">'ENTm'</span>,\n",
       "    <span style=\"color: #008000; text-decoration-color: #008000\">'PAR'</span>,\n",
       "    <span style=\"color: #008000; text-decoration-color: #008000\">'POST'</span>,\n",
       "    <span style=\"color: #008000; text-decoration-color: #008000\">'PRE'</span>,\n",
       "    <span style=\"color: #008000; text-decoration-color: #008000\">'SUB'</span>,\n",
       "    <span style=\"color: #008000; text-decoration-color: #008000\">'ProS'</span>,\n",
       "    <span style=\"color: #008000; text-decoration-color: #008000\">'HATA'</span>,\n",
       "    <span style=\"color: #008000; text-decoration-color: #008000\">'APr'</span>,\n",
       "    <span style=\"color: #008000; text-decoration-color: #008000\">'MY-sen'</span>,\n",
       "    <span style=\"color: #008000; text-decoration-color: #008000\">'MY-mot'</span>,\n",
       "    <span style=\"color: #008000; text-decoration-color: #008000\">'P-sen'</span>,\n",
       "    <span style=\"color: #008000; text-decoration-color: #008000\">'P-mot'</span>,\n",
       "    <span style=\"color: #008000; text-decoration-color: #008000\">'P-sat'</span>,\n",
       "    <span style=\"color: #008000; text-decoration-color: #008000\">'HY'</span>,\n",
       "    <span style=\"color: #008000; text-decoration-color: #008000\">'DORsm'</span>,\n",
       "    <span style=\"color: #008000; text-decoration-color: #008000\">'DORpm'</span>,\n",
       "    <span style=\"color: #008000; text-decoration-color: #008000\">'MBsen'</span>,\n",
       "    <span style=\"color: #008000; text-decoration-color: #008000\">'MBmot'</span>,\n",
       "    <span style=\"color: #008000; text-decoration-color: #008000\">'MBsta'</span>,\n",
       "    <span style=\"color: #008000; text-decoration-color: #008000\">'CBN'</span>,\n",
       "    <span style=\"color: #008000; text-decoration-color: #008000\">'VERM'</span>,\n",
       "    <span style=\"color: #008000; text-decoration-color: #008000\">'SIM'</span>,\n",
       "    <span style=\"color: #008000; text-decoration-color: #008000\">'AN'</span>,\n",
       "    <span style=\"color: #008000; text-decoration-color: #008000\">'PRM'</span>,\n",
       "    <span style=\"color: #008000; text-decoration-color: #008000\">'COPY'</span>,\n",
       "    <span style=\"color: #008000; text-decoration-color: #008000\">'PFL'</span>,\n",
       "    <span style=\"color: #008000; text-decoration-color: #008000\">'FL'</span>,\n",
       "    <span style=\"color: #008000; text-decoration-color: #008000\">'CTXsp'</span>,\n",
       "    <span style=\"color: #008000; text-decoration-color: #008000\">'Isocortex'</span>\n",
       "<span style=\"font-weight: bold\">]</span>\n",
       "</pre>\n"
      ],
      "text/plain": [
       "\u001b[1m[\u001b[0m\n",
       "    \u001b[32m'PALd'\u001b[0m,\n",
       "    \u001b[32m'PALv'\u001b[0m,\n",
       "    \u001b[32m'PALm'\u001b[0m,\n",
       "    \u001b[32m'PALc'\u001b[0m,\n",
       "    \u001b[32m'STRd'\u001b[0m,\n",
       "    \u001b[32m'STRv'\u001b[0m,\n",
       "    \u001b[32m'LSX'\u001b[0m,\n",
       "    \u001b[32m'sAMY'\u001b[0m,\n",
       "    \u001b[32m'MOB'\u001b[0m,\n",
       "    \u001b[32m'AOB'\u001b[0m,\n",
       "    \u001b[32m'AON'\u001b[0m,\n",
       "    \u001b[32m'TT'\u001b[0m,\n",
       "    \u001b[32m'DP'\u001b[0m,\n",
       "    \u001b[32m'PIR'\u001b[0m,\n",
       "    \u001b[32m'NLOT'\u001b[0m,\n",
       "    \u001b[32m'COA'\u001b[0m,\n",
       "    \u001b[32m'PAA'\u001b[0m,\n",
       "    \u001b[32m'TR'\u001b[0m,\n",
       "    \u001b[32m'CA'\u001b[0m,\n",
       "    \u001b[32m'DG'\u001b[0m,\n",
       "    \u001b[32m'ENTl'\u001b[0m,\n",
       "    \u001b[32m'ENTm'\u001b[0m,\n",
       "    \u001b[32m'PAR'\u001b[0m,\n",
       "    \u001b[32m'POST'\u001b[0m,\n",
       "    \u001b[32m'PRE'\u001b[0m,\n",
       "    \u001b[32m'SUB'\u001b[0m,\n",
       "    \u001b[32m'ProS'\u001b[0m,\n",
       "    \u001b[32m'HATA'\u001b[0m,\n",
       "    \u001b[32m'APr'\u001b[0m,\n",
       "    \u001b[32m'MY-sen'\u001b[0m,\n",
       "    \u001b[32m'MY-mot'\u001b[0m,\n",
       "    \u001b[32m'P-sen'\u001b[0m,\n",
       "    \u001b[32m'P-mot'\u001b[0m,\n",
       "    \u001b[32m'P-sat'\u001b[0m,\n",
       "    \u001b[32m'HY'\u001b[0m,\n",
       "    \u001b[32m'DORsm'\u001b[0m,\n",
       "    \u001b[32m'DORpm'\u001b[0m,\n",
       "    \u001b[32m'MBsen'\u001b[0m,\n",
       "    \u001b[32m'MBmot'\u001b[0m,\n",
       "    \u001b[32m'MBsta'\u001b[0m,\n",
       "    \u001b[32m'CBN'\u001b[0m,\n",
       "    \u001b[32m'VERM'\u001b[0m,\n",
       "    \u001b[32m'SIM'\u001b[0m,\n",
       "    \u001b[32m'AN'\u001b[0m,\n",
       "    \u001b[32m'PRM'\u001b[0m,\n",
       "    \u001b[32m'COPY'\u001b[0m,\n",
       "    \u001b[32m'PFL'\u001b[0m,\n",
       "    \u001b[32m'FL'\u001b[0m,\n",
       "    \u001b[32m'CTXsp'\u001b[0m,\n",
       "    \u001b[32m'Isocortex'\u001b[0m\n",
       "\u001b[1m]\u001b[0m\n"
      ]
     },
     "metadata": {},
     "output_type": "display_data"
    }
   ],
   "source": [
    "mice.cfg.include_regions"
   ]
  },
  {
   "cell_type": "code",
   "execution_count": null,
   "id": "1cb44c3d",
   "metadata": {},
   "outputs": [],
   "source": []
  },
  {
   "cell_type": "code",
   "execution_count": 61,
   "id": "729dca5a",
   "metadata": {},
   "outputs": [
    {
     "data": {
      "text/html": [
       "<pre style=\"white-space:pre;overflow-x:auto;line-height:normal;font-family:Menlo,'DejaVu Sans Mono',consolas,'Courier New',monospace\"><span style=\"font-weight: bold\">{</span>\n",
       "    <span style=\"color: #008000; text-decoration-color: #008000\">'SUB'</span>,\n",
       "    <span style=\"color: #008000; text-decoration-color: #008000\">'DG'</span>,\n",
       "    <span style=\"color: #008000; text-decoration-color: #008000\">'APr'</span>,\n",
       "    <span style=\"color: #008000; text-decoration-color: #008000\">'COPY'</span>,\n",
       "    <span style=\"color: #008000; text-decoration-color: #008000\">'BLA'</span>,\n",
       "    <span style=\"color: #008000; text-decoration-color: #008000\">'EP'</span>,\n",
       "    <span style=\"color: #008000; text-decoration-color: #008000\">'CTXsp'</span>,\n",
       "    <span style=\"color: #008000; text-decoration-color: #008000\">'FL'</span>,\n",
       "    <span style=\"color: #008000; text-decoration-color: #008000\">'PFL'</span>,\n",
       "    <span style=\"color: #008000; text-decoration-color: #008000\">'SIM'</span>,\n",
       "    <span style=\"color: #008000; text-decoration-color: #008000\">'CLA'</span>,\n",
       "    <span style=\"color: #008000; text-decoration-color: #008000\">'VERM'</span>,\n",
       "    <span style=\"color: #008000; text-decoration-color: #008000\">'LZ'</span>,\n",
       "    <span style=\"color: #008000; text-decoration-color: #008000\">'PRM'</span>,\n",
       "    <span style=\"color: #008000; text-decoration-color: #008000\">'HATA'</span>,\n",
       "    <span style=\"color: #008000; text-decoration-color: #008000\">'POST'</span>,\n",
       "    <span style=\"color: #008000; text-decoration-color: #008000\">'CA'</span>,\n",
       "    <span style=\"color: #008000; text-decoration-color: #008000\">'MEZ'</span>,\n",
       "    <span style=\"color: #008000; text-decoration-color: #008000\">'Isocortex'</span>,\n",
       "    <span style=\"color: #008000; text-decoration-color: #008000\">'HIP'</span>,\n",
       "    <span style=\"color: #008000; text-decoration-color: #008000\">'PVZ'</span>,\n",
       "    <span style=\"color: #008000; text-decoration-color: #008000\">'AN'</span>,\n",
       "    <span style=\"color: #008000; text-decoration-color: #008000\">'PVR'</span>,\n",
       "    <span style=\"color: #008000; text-decoration-color: #008000\">'ENTm'</span>,\n",
       "    <span style=\"color: #008000; text-decoration-color: #008000\">'RHP'</span>,\n",
       "    <span style=\"color: #008000; text-decoration-color: #008000\">'PAR'</span>,\n",
       "    <span style=\"color: #008000; text-decoration-color: #008000\">'PRE'</span>,\n",
       "    <span style=\"color: #008000; text-decoration-color: #008000\">'CBX'</span>,\n",
       "    <span style=\"color: #008000; text-decoration-color: #008000\">'HY'</span>,\n",
       "    <span style=\"color: #008000; text-decoration-color: #008000\">'PA'</span>,\n",
       "    <span style=\"color: #008000; text-decoration-color: #008000\">'BMA'</span>,\n",
       "    <span style=\"color: #008000; text-decoration-color: #008000\">'ENTl'</span>,\n",
       "    <span style=\"color: #008000; text-decoration-color: #008000\">'LA'</span>,\n",
       "    <span style=\"color: #008000; text-decoration-color: #008000\">'MY-sat'</span>,\n",
       "    <span style=\"color: #008000; text-decoration-color: #008000\">'ProS'</span>\n",
       "<span style=\"font-weight: bold\">}</span>\n",
       "</pre>\n"
      ],
      "text/plain": [
       "\u001b[1m{\u001b[0m\n",
       "    \u001b[32m'SUB'\u001b[0m,\n",
       "    \u001b[32m'DG'\u001b[0m,\n",
       "    \u001b[32m'APr'\u001b[0m,\n",
       "    \u001b[32m'COPY'\u001b[0m,\n",
       "    \u001b[32m'BLA'\u001b[0m,\n",
       "    \u001b[32m'EP'\u001b[0m,\n",
       "    \u001b[32m'CTXsp'\u001b[0m,\n",
       "    \u001b[32m'FL'\u001b[0m,\n",
       "    \u001b[32m'PFL'\u001b[0m,\n",
       "    \u001b[32m'SIM'\u001b[0m,\n",
       "    \u001b[32m'CLA'\u001b[0m,\n",
       "    \u001b[32m'VERM'\u001b[0m,\n",
       "    \u001b[32m'LZ'\u001b[0m,\n",
       "    \u001b[32m'PRM'\u001b[0m,\n",
       "    \u001b[32m'HATA'\u001b[0m,\n",
       "    \u001b[32m'POST'\u001b[0m,\n",
       "    \u001b[32m'CA'\u001b[0m,\n",
       "    \u001b[32m'MEZ'\u001b[0m,\n",
       "    \u001b[32m'Isocortex'\u001b[0m,\n",
       "    \u001b[32m'HIP'\u001b[0m,\n",
       "    \u001b[32m'PVZ'\u001b[0m,\n",
       "    \u001b[32m'AN'\u001b[0m,\n",
       "    \u001b[32m'PVR'\u001b[0m,\n",
       "    \u001b[32m'ENTm'\u001b[0m,\n",
       "    \u001b[32m'RHP'\u001b[0m,\n",
       "    \u001b[32m'PAR'\u001b[0m,\n",
       "    \u001b[32m'PRE'\u001b[0m,\n",
       "    \u001b[32m'CBX'\u001b[0m,\n",
       "    \u001b[32m'HY'\u001b[0m,\n",
       "    \u001b[32m'PA'\u001b[0m,\n",
       "    \u001b[32m'BMA'\u001b[0m,\n",
       "    \u001b[32m'ENTl'\u001b[0m,\n",
       "    \u001b[32m'LA'\u001b[0m,\n",
       "    \u001b[32m'MY-sat'\u001b[0m,\n",
       "    \u001b[32m'ProS'\u001b[0m\n",
       "\u001b[1m}\u001b[0m\n"
      ]
     },
     "metadata": {},
     "output_type": "display_data"
    }
   ],
   "source": [
    "set(mid_subcortical).symmetric_difference(set(mice.cfg.include_regions))"
   ]
  },
  {
   "cell_type": "code",
   "execution_count": 62,
   "id": "ac5f1ae2",
   "metadata": {},
   "outputs": [
    {
     "data": {
      "text/html": [
       "<pre style=\"white-space:pre;overflow-x:auto;line-height:normal;font-family:Menlo,'DejaVu Sans Mono',consolas,'Courier New',monospace\"><span style=\"color: #008080; text-decoration-color: #008080; font-weight: bold\">29</span>\n",
       "</pre>\n"
      ],
      "text/plain": [
       "\u001b[1;36m29\u001b[0m\n"
      ]
     },
     "metadata": {},
     "output_type": "display_data"
    }
   ],
   "source": [
    "len(set(mid_subcortical).intersection(set(mice.cfg.include_regions)))"
   ]
  },
  {
   "cell_type": "code",
   "execution_count": null,
   "id": "19e7378c",
   "metadata": {},
   "outputs": [],
   "source": [
    "len(set(mid_subcortical).intersection(set(mice.cfg.include_regions)))"
   ]
  },
  {
   "cell_type": "code",
   "execution_count": null,
   "id": "3d098018",
   "metadata": {},
   "outputs": [],
   "source": []
  },
  {
   "cell_type": "code",
   "execution_count": null,
   "id": "dfa25d03",
   "metadata": {},
   "outputs": [],
   "source": []
  },
  {
   "cell_type": "code",
   "execution_count": null,
   "id": "180d2991",
   "metadata": {},
   "outputs": [],
   "source": []
  },
  {
   "cell_type": "code",
   "execution_count": null,
   "id": "64a08fe2",
   "metadata": {},
   "outputs": [],
   "source": []
  },
  {
   "cell_type": "code",
   "execution_count": 60,
   "id": "3202c65f",
   "metadata": {},
   "outputs": [
    {
     "data": {
      "text/html": [
       "<pre style=\"white-space:pre;overflow-x:auto;line-height:normal;font-family:Menlo,'DejaVu Sans Mono',consolas,'Courier New',monospace\"><span style=\"font-weight: bold\">[</span>\n",
       "    <span style=\"color: #008000; text-decoration-color: #008000\">'STRv'</span>,\n",
       "    <span style=\"color: #008000; text-decoration-color: #008000\">'BLA'</span>,\n",
       "    <span style=\"color: #008000; text-decoration-color: #008000\">'EP'</span>,\n",
       "    <span style=\"color: #008000; text-decoration-color: #008000\">'P-sen'</span>,\n",
       "    <span style=\"color: #008000; text-decoration-color: #008000\">'PIR'</span>,\n",
       "    <span style=\"color: #008000; text-decoration-color: #008000\">'PALv'</span>,\n",
       "    <span style=\"color: #008000; text-decoration-color: #008000\">'LSX'</span>,\n",
       "    <span style=\"color: #008000; text-decoration-color: #008000\">'MY-sen'</span>,\n",
       "    <span style=\"color: #008000; text-decoration-color: #008000\">'TR'</span>,\n",
       "    <span style=\"color: #008000; text-decoration-color: #008000\">'MBsta'</span>,\n",
       "    <span style=\"color: #008000; text-decoration-color: #008000\">'CLA'</span>,\n",
       "    <span style=\"color: #008000; text-decoration-color: #008000\">'P-sat'</span>,\n",
       "    <span style=\"color: #008000; text-decoration-color: #008000\">'DP'</span>,\n",
       "    <span style=\"color: #008000; text-decoration-color: #008000\">'MY-mot'</span>,\n",
       "    <span style=\"color: #008000; text-decoration-color: #008000\">'DORpm'</span>,\n",
       "    <span style=\"color: #008000; text-decoration-color: #008000\">'NLOT'</span>,\n",
       "    <span style=\"color: #008000; text-decoration-color: #008000\">'LZ'</span>,\n",
       "    <span style=\"color: #008000; text-decoration-color: #008000\">'MEZ'</span>,\n",
       "    <span style=\"color: #008000; text-decoration-color: #008000\">'MBmot'</span>,\n",
       "    <span style=\"color: #008000; text-decoration-color: #008000\">'CBN'</span>,\n",
       "    <span style=\"color: #008000; text-decoration-color: #008000\">'HIP'</span>,\n",
       "    <span style=\"color: #008000; text-decoration-color: #008000\">'AOB'</span>,\n",
       "    <span style=\"color: #008000; text-decoration-color: #008000\">'AON'</span>,\n",
       "    <span style=\"color: #008000; text-decoration-color: #008000\">'PVZ'</span>,\n",
       "    <span style=\"color: #008000; text-decoration-color: #008000\">'PALm'</span>,\n",
       "    <span style=\"color: #008000; text-decoration-color: #008000\">'DORsm'</span>,\n",
       "    <span style=\"color: #008000; text-decoration-color: #008000\">'TT'</span>,\n",
       "    <span style=\"color: #008000; text-decoration-color: #008000\">'MOB'</span>,\n",
       "    <span style=\"color: #008000; text-decoration-color: #008000\">'PVR'</span>,\n",
       "    <span style=\"color: #008000; text-decoration-color: #008000\">'RHP'</span>,\n",
       "    <span style=\"color: #008000; text-decoration-color: #008000\">'PAA'</span>,\n",
       "    <span style=\"color: #008000; text-decoration-color: #008000\">'sAMY'</span>,\n",
       "    <span style=\"color: #008000; text-decoration-color: #008000\">'MBsen'</span>,\n",
       "    <span style=\"color: #008000; text-decoration-color: #008000\">'CBX'</span>,\n",
       "    <span style=\"color: #008000; text-decoration-color: #008000\">'PA'</span>,\n",
       "    <span style=\"color: #008000; text-decoration-color: #008000\">'P-mot'</span>,\n",
       "    <span style=\"color: #008000; text-decoration-color: #008000\">'PALc'</span>,\n",
       "    <span style=\"color: #008000; text-decoration-color: #008000\">'BMA'</span>,\n",
       "    <span style=\"color: #008000; text-decoration-color: #008000\">'STRd'</span>,\n",
       "    <span style=\"color: #008000; text-decoration-color: #008000\">'LA'</span>,\n",
       "    <span style=\"color: #008000; text-decoration-color: #008000\">'PALd'</span>,\n",
       "    <span style=\"color: #008000; text-decoration-color: #008000\">'MY-sat'</span>,\n",
       "    <span style=\"color: #008000; text-decoration-color: #008000\">'COA'</span>\n",
       "<span style=\"font-weight: bold\">]</span>\n",
       "</pre>\n"
      ],
      "text/plain": [
       "\u001b[1m[\u001b[0m\n",
       "    \u001b[32m'STRv'\u001b[0m,\n",
       "    \u001b[32m'BLA'\u001b[0m,\n",
       "    \u001b[32m'EP'\u001b[0m,\n",
       "    \u001b[32m'P-sen'\u001b[0m,\n",
       "    \u001b[32m'PIR'\u001b[0m,\n",
       "    \u001b[32m'PALv'\u001b[0m,\n",
       "    \u001b[32m'LSX'\u001b[0m,\n",
       "    \u001b[32m'MY-sen'\u001b[0m,\n",
       "    \u001b[32m'TR'\u001b[0m,\n",
       "    \u001b[32m'MBsta'\u001b[0m,\n",
       "    \u001b[32m'CLA'\u001b[0m,\n",
       "    \u001b[32m'P-sat'\u001b[0m,\n",
       "    \u001b[32m'DP'\u001b[0m,\n",
       "    \u001b[32m'MY-mot'\u001b[0m,\n",
       "    \u001b[32m'DORpm'\u001b[0m,\n",
       "    \u001b[32m'NLOT'\u001b[0m,\n",
       "    \u001b[32m'LZ'\u001b[0m,\n",
       "    \u001b[32m'MEZ'\u001b[0m,\n",
       "    \u001b[32m'MBmot'\u001b[0m,\n",
       "    \u001b[32m'CBN'\u001b[0m,\n",
       "    \u001b[32m'HIP'\u001b[0m,\n",
       "    \u001b[32m'AOB'\u001b[0m,\n",
       "    \u001b[32m'AON'\u001b[0m,\n",
       "    \u001b[32m'PVZ'\u001b[0m,\n",
       "    \u001b[32m'PALm'\u001b[0m,\n",
       "    \u001b[32m'DORsm'\u001b[0m,\n",
       "    \u001b[32m'TT'\u001b[0m,\n",
       "    \u001b[32m'MOB'\u001b[0m,\n",
       "    \u001b[32m'PVR'\u001b[0m,\n",
       "    \u001b[32m'RHP'\u001b[0m,\n",
       "    \u001b[32m'PAA'\u001b[0m,\n",
       "    \u001b[32m'sAMY'\u001b[0m,\n",
       "    \u001b[32m'MBsen'\u001b[0m,\n",
       "    \u001b[32m'CBX'\u001b[0m,\n",
       "    \u001b[32m'PA'\u001b[0m,\n",
       "    \u001b[32m'P-mot'\u001b[0m,\n",
       "    \u001b[32m'PALc'\u001b[0m,\n",
       "    \u001b[32m'BMA'\u001b[0m,\n",
       "    \u001b[32m'STRd'\u001b[0m,\n",
       "    \u001b[32m'LA'\u001b[0m,\n",
       "    \u001b[32m'PALd'\u001b[0m,\n",
       "    \u001b[32m'MY-sat'\u001b[0m,\n",
       "    \u001b[32m'COA'\u001b[0m\n",
       "\u001b[1m]\u001b[0m\n"
      ]
     },
     "metadata": {},
     "output_type": "display_data"
    }
   ],
   "source": [
    "mid_subcortical"
   ]
  },
  {
   "cell_type": "code",
   "execution_count": null,
   "id": "756fdde9",
   "metadata": {},
   "outputs": [],
   "source": []
  },
  {
   "cell_type": "code",
   "execution_count": null,
   "id": "59e2b86a",
   "metadata": {},
   "outputs": [],
   "source": []
  },
  {
   "cell_type": "code",
   "execution_count": null,
   "id": "c5d6be5f",
   "metadata": {},
   "outputs": [],
   "source": []
  },
  {
   "cell_type": "code",
   "execution_count": null,
   "id": "cb0815fd",
   "metadata": {},
   "outputs": [],
   "source": []
  },
  {
   "cell_type": "code",
   "execution_count": 43,
   "id": "21e0cb56",
   "metadata": {},
   "outputs": [
    {
     "data": {
      "text/html": [
       "<pre style=\"white-space:pre;overflow-x:auto;line-height:normal;font-family:Menlo,'DejaVu Sans Mono',consolas,'Courier New',monospace\"><span style=\"font-weight: bold\">{</span>\n",
       "    <span style=\"color: #008000; text-decoration-color: #008000\">'ILA'</span>,\n",
       "    <span style=\"color: #008000; text-decoration-color: #008000\">'FRP'</span>,\n",
       "    <span style=\"color: #008000; text-decoration-color: #008000\">'BLA'</span>,\n",
       "    <span style=\"color: #008000; text-decoration-color: #008000\">'EP'</span>,\n",
       "    <span style=\"color: #008000; text-decoration-color: #008000\">'PTLp'</span>,\n",
       "    <span style=\"color: #008000; text-decoration-color: #008000\">'SS'</span>,\n",
       "    <span style=\"color: #008000; text-decoration-color: #008000\">'CLA'</span>,\n",
       "    <span style=\"color: #008000; text-decoration-color: #008000\">'RSP'</span>,\n",
       "    <span style=\"color: #008000; text-decoration-color: #008000\">'GU'</span>,\n",
       "    <span style=\"color: #008000; text-decoration-color: #008000\">'ECT'</span>,\n",
       "    <span style=\"color: #008000; text-decoration-color: #008000\">'VIS'</span>,\n",
       "    <span style=\"color: #008000; text-decoration-color: #008000\">'PL'</span>,\n",
       "    <span style=\"color: #008000; text-decoration-color: #008000\">'LZ'</span>,\n",
       "    <span style=\"color: #008000; text-decoration-color: #008000\">'MO'</span>,\n",
       "    <span style=\"color: #008000; text-decoration-color: #008000\">'TEa'</span>,\n",
       "    <span style=\"color: #008000; text-decoration-color: #008000\">'MEZ'</span>,\n",
       "    <span style=\"color: #008000; text-decoration-color: #008000\">'HIP'</span>,\n",
       "    <span style=\"color: #008000; text-decoration-color: #008000\">'VISC'</span>,\n",
       "    <span style=\"color: #008000; text-decoration-color: #008000\">'PVZ'</span>,\n",
       "    <span style=\"color: #008000; text-decoration-color: #008000\">'AI'</span>,\n",
       "    <span style=\"color: #008000; text-decoration-color: #008000\">'PVR'</span>,\n",
       "    <span style=\"color: #008000; text-decoration-color: #008000\">'RHP'</span>,\n",
       "    <span style=\"color: #008000; text-decoration-color: #008000\">'CBX'</span>,\n",
       "    <span style=\"color: #008000; text-decoration-color: #008000\">'AUD'</span>,\n",
       "    <span style=\"color: #008000; text-decoration-color: #008000\">'PERI'</span>,\n",
       "    <span style=\"color: #008000; text-decoration-color: #008000\">'ORB'</span>,\n",
       "    <span style=\"color: #008000; text-decoration-color: #008000\">'PA'</span>,\n",
       "    <span style=\"color: #008000; text-decoration-color: #008000\">'BMA'</span>,\n",
       "    <span style=\"color: #008000; text-decoration-color: #008000\">'LA'</span>,\n",
       "    <span style=\"color: #008000; text-decoration-color: #008000\">'MY-sat'</span>,\n",
       "    <span style=\"color: #008000; text-decoration-color: #008000\">'ACA'</span>\n",
       "<span style=\"font-weight: bold\">}</span>\n",
       "</pre>\n"
      ],
      "text/plain": [
       "\u001b[1m{\u001b[0m\n",
       "    \u001b[32m'ILA'\u001b[0m,\n",
       "    \u001b[32m'FRP'\u001b[0m,\n",
       "    \u001b[32m'BLA'\u001b[0m,\n",
       "    \u001b[32m'EP'\u001b[0m,\n",
       "    \u001b[32m'PTLp'\u001b[0m,\n",
       "    \u001b[32m'SS'\u001b[0m,\n",
       "    \u001b[32m'CLA'\u001b[0m,\n",
       "    \u001b[32m'RSP'\u001b[0m,\n",
       "    \u001b[32m'GU'\u001b[0m,\n",
       "    \u001b[32m'ECT'\u001b[0m,\n",
       "    \u001b[32m'VIS'\u001b[0m,\n",
       "    \u001b[32m'PL'\u001b[0m,\n",
       "    \u001b[32m'LZ'\u001b[0m,\n",
       "    \u001b[32m'MO'\u001b[0m,\n",
       "    \u001b[32m'TEa'\u001b[0m,\n",
       "    \u001b[32m'MEZ'\u001b[0m,\n",
       "    \u001b[32m'HIP'\u001b[0m,\n",
       "    \u001b[32m'VISC'\u001b[0m,\n",
       "    \u001b[32m'PVZ'\u001b[0m,\n",
       "    \u001b[32m'AI'\u001b[0m,\n",
       "    \u001b[32m'PVR'\u001b[0m,\n",
       "    \u001b[32m'RHP'\u001b[0m,\n",
       "    \u001b[32m'CBX'\u001b[0m,\n",
       "    \u001b[32m'AUD'\u001b[0m,\n",
       "    \u001b[32m'PERI'\u001b[0m,\n",
       "    \u001b[32m'ORB'\u001b[0m,\n",
       "    \u001b[32m'PA'\u001b[0m,\n",
       "    \u001b[32m'BMA'\u001b[0m,\n",
       "    \u001b[32m'LA'\u001b[0m,\n",
       "    \u001b[32m'MY-sat'\u001b[0m,\n",
       "    \u001b[32m'ACA'\u001b[0m\n",
       "\u001b[1m}\u001b[0m\n"
      ]
     },
     "metadata": {},
     "output_type": "display_data"
    }
   ],
   "source": []
  },
  {
   "cell_type": "code",
   "execution_count": null,
   "id": "e445de8f",
   "metadata": {},
   "outputs": [],
   "source": []
  },
  {
   "cell_type": "code",
   "execution_count": null,
   "id": "fcc4c757",
   "metadata": {},
   "outputs": [],
   "source": []
  },
  {
   "cell_type": "code",
   "execution_count": null,
   "id": "7ee69acc",
   "metadata": {},
   "outputs": [],
   "source": []
  },
  {
   "cell_type": "code",
   "execution_count": null,
   "id": "9f53ed87",
   "metadata": {},
   "outputs": [],
   "source": []
  },
  {
   "cell_type": "code",
   "execution_count": null,
   "id": "db824aa9",
   "metadata": {},
   "outputs": [],
   "source": []
  },
  {
   "cell_type": "code",
   "execution_count": 17,
   "id": "fc605cad",
   "metadata": {},
   "outputs": [
    {
     "data": {
      "text/html": [
       "<pre style=\"white-space:pre;overflow-x:auto;line-height:normal;font-family:Menlo,'DejaVu Sans Mono',consolas,'Courier New',monospace\"><span style=\"font-weight: bold\">((</span><span style=\"color: #008080; text-decoration-color: #008080; font-weight: bold\">60</span>, <span style=\"color: #008080; text-decoration-color: #008080; font-weight: bold\">46</span>, <span style=\"color: #008080; text-decoration-color: #008080; font-weight: bold\">81</span><span style=\"font-weight: bold\">)</span>, <span style=\"color: #800080; text-decoration-color: #800080; font-weight: bold\">dtype</span><span style=\"font-weight: bold\">(</span><span style=\"color: #008000; text-decoration-color: #008000\">'float64'</span><span style=\"font-weight: bold\">))</span>\n",
       "</pre>\n"
      ],
      "text/plain": [
       "\u001b[1m(\u001b[0m\u001b[1m(\u001b[0m\u001b[1;36m60\u001b[0m, \u001b[1;36m46\u001b[0m, \u001b[1;36m81\u001b[0m\u001b[1m)\u001b[0m, \u001b[1;35mdtype\u001b[0m\u001b[1m(\u001b[0m\u001b[32m'float64'\u001b[0m\u001b[1m)\u001b[0m\u001b[1m)\u001b[0m\n"
      ]
     },
     "metadata": {},
     "output_type": "display_data"
    }
   ],
   "source": [
    "img = nib.load(pjoin(_dir, 'N162_medium_symm_0.2.nii.gz'))\n",
    "arr = img.get_fdata()\n",
    "arr.shape, arr.dtype"
   ]
  },
  {
   "cell_type": "code",
   "execution_count": 18,
   "id": "8ea62cd0",
   "metadata": {},
   "outputs": [
    {
     "data": {
      "text/html": [
       "<pre style=\"white-space:pre;overflow-x:auto;line-height:normal;font-family:Menlo,'DejaVu Sans Mono',consolas,'Courier New',monospace\"><span style=\"color: #800080; text-decoration-color: #800080; font-weight: bold\">array</span><span style=\"font-weight: bold\">([</span>  <span style=\"color: #008080; text-decoration-color: #008080; font-weight: bold\">0</span>.,   <span style=\"color: #008080; text-decoration-color: #008080; font-weight: bold\">1</span>.,   <span style=\"color: #008080; text-decoration-color: #008080; font-weight: bold\">2</span>.,   <span style=\"color: #008080; text-decoration-color: #008080; font-weight: bold\">3</span>.,   <span style=\"color: #008080; text-decoration-color: #008080; font-weight: bold\">4</span>.,   <span style=\"color: #008080; text-decoration-color: #008080; font-weight: bold\">5</span>.,   <span style=\"color: #008080; text-decoration-color: #008080; font-weight: bold\">6</span>.,   <span style=\"color: #008080; text-decoration-color: #008080; font-weight: bold\">7</span>.,   <span style=\"color: #008080; text-decoration-color: #008080; font-weight: bold\">8</span>.,   <span style=\"color: #008080; text-decoration-color: #008080; font-weight: bold\">9</span>.,  <span style=\"color: #008080; text-decoration-color: #008080; font-weight: bold\">10</span>.,\n",
       "        <span style=\"color: #008080; text-decoration-color: #008080; font-weight: bold\">11</span>.,  <span style=\"color: #008080; text-decoration-color: #008080; font-weight: bold\">12</span>.,  <span style=\"color: #008080; text-decoration-color: #008080; font-weight: bold\">13</span>.,  <span style=\"color: #008080; text-decoration-color: #008080; font-weight: bold\">14</span>.,  <span style=\"color: #008080; text-decoration-color: #008080; font-weight: bold\">15</span>.,  <span style=\"color: #008080; text-decoration-color: #008080; font-weight: bold\">16</span>.,  <span style=\"color: #008080; text-decoration-color: #008080; font-weight: bold\">17</span>.,  <span style=\"color: #008080; text-decoration-color: #008080; font-weight: bold\">18</span>.,  <span style=\"color: #008080; text-decoration-color: #008080; font-weight: bold\">19</span>.,  <span style=\"color: #008080; text-decoration-color: #008080; font-weight: bold\">20</span>.,  <span style=\"color: #008080; text-decoration-color: #008080; font-weight: bold\">21</span>.,\n",
       "        <span style=\"color: #008080; text-decoration-color: #008080; font-weight: bold\">22</span>.,  <span style=\"color: #008080; text-decoration-color: #008080; font-weight: bold\">23</span>.,  <span style=\"color: #008080; text-decoration-color: #008080; font-weight: bold\">24</span>.,  <span style=\"color: #008080; text-decoration-color: #008080; font-weight: bold\">25</span>.,  <span style=\"color: #008080; text-decoration-color: #008080; font-weight: bold\">26</span>.,  <span style=\"color: #008080; text-decoration-color: #008080; font-weight: bold\">27</span>.,  <span style=\"color: #008080; text-decoration-color: #008080; font-weight: bold\">28</span>.,  <span style=\"color: #008080; text-decoration-color: #008080; font-weight: bold\">29</span>.,  <span style=\"color: #008080; text-decoration-color: #008080; font-weight: bold\">30</span>.,  <span style=\"color: #008080; text-decoration-color: #008080; font-weight: bold\">31</span>.,  <span style=\"color: #008080; text-decoration-color: #008080; font-weight: bold\">32</span>.,\n",
       "        <span style=\"color: #008080; text-decoration-color: #008080; font-weight: bold\">33</span>.,  <span style=\"color: #008080; text-decoration-color: #008080; font-weight: bold\">34</span>.,  <span style=\"color: #008080; text-decoration-color: #008080; font-weight: bold\">35</span>.,  <span style=\"color: #008080; text-decoration-color: #008080; font-weight: bold\">36</span>.,  <span style=\"color: #008080; text-decoration-color: #008080; font-weight: bold\">37</span>.,  <span style=\"color: #008080; text-decoration-color: #008080; font-weight: bold\">38</span>.,  <span style=\"color: #008080; text-decoration-color: #008080; font-weight: bold\">39</span>.,  <span style=\"color: #008080; text-decoration-color: #008080; font-weight: bold\">40</span>.,  <span style=\"color: #008080; text-decoration-color: #008080; font-weight: bold\">41</span>.,  <span style=\"color: #008080; text-decoration-color: #008080; font-weight: bold\">42</span>.,  <span style=\"color: #008080; text-decoration-color: #008080; font-weight: bold\">43</span>.,\n",
       "        <span style=\"color: #008080; text-decoration-color: #008080; font-weight: bold\">44</span>.,  <span style=\"color: #008080; text-decoration-color: #008080; font-weight: bold\">45</span>.,  <span style=\"color: #008080; text-decoration-color: #008080; font-weight: bold\">46</span>.,  <span style=\"color: #008080; text-decoration-color: #008080; font-weight: bold\">47</span>.,  <span style=\"color: #008080; text-decoration-color: #008080; font-weight: bold\">48</span>.,  <span style=\"color: #008080; text-decoration-color: #008080; font-weight: bold\">49</span>.,  <span style=\"color: #008080; text-decoration-color: #008080; font-weight: bold\">50</span>.,  <span style=\"color: #008080; text-decoration-color: #008080; font-weight: bold\">51</span>.,  <span style=\"color: #008080; text-decoration-color: #008080; font-weight: bold\">52</span>.,  <span style=\"color: #008080; text-decoration-color: #008080; font-weight: bold\">53</span>.,  <span style=\"color: #008080; text-decoration-color: #008080; font-weight: bold\">54</span>.,\n",
       "        <span style=\"color: #008080; text-decoration-color: #008080; font-weight: bold\">55</span>.,  <span style=\"color: #008080; text-decoration-color: #008080; font-weight: bold\">56</span>.,  <span style=\"color: #008080; text-decoration-color: #008080; font-weight: bold\">57</span>.,  <span style=\"color: #008080; text-decoration-color: #008080; font-weight: bold\">58</span>.,  <span style=\"color: #008080; text-decoration-color: #008080; font-weight: bold\">59</span>.,  <span style=\"color: #008080; text-decoration-color: #008080; font-weight: bold\">60</span>., <span style=\"color: #008080; text-decoration-color: #008080; font-weight: bold\">101</span>., <span style=\"color: #008080; text-decoration-color: #008080; font-weight: bold\">102</span>., <span style=\"color: #008080; text-decoration-color: #008080; font-weight: bold\">103</span>., <span style=\"color: #008080; text-decoration-color: #008080; font-weight: bold\">104</span>., <span style=\"color: #008080; text-decoration-color: #008080; font-weight: bold\">105</span>.,\n",
       "       <span style=\"color: #008080; text-decoration-color: #008080; font-weight: bold\">106</span>., <span style=\"color: #008080; text-decoration-color: #008080; font-weight: bold\">107</span>., <span style=\"color: #008080; text-decoration-color: #008080; font-weight: bold\">108</span>., <span style=\"color: #008080; text-decoration-color: #008080; font-weight: bold\">109</span>., <span style=\"color: #008080; text-decoration-color: #008080; font-weight: bold\">110</span>., <span style=\"color: #008080; text-decoration-color: #008080; font-weight: bold\">111</span>., <span style=\"color: #008080; text-decoration-color: #008080; font-weight: bold\">112</span>., <span style=\"color: #008080; text-decoration-color: #008080; font-weight: bold\">113</span>., <span style=\"color: #008080; text-decoration-color: #008080; font-weight: bold\">114</span>., <span style=\"color: #008080; text-decoration-color: #008080; font-weight: bold\">115</span>., <span style=\"color: #008080; text-decoration-color: #008080; font-weight: bold\">116</span>.,\n",
       "       <span style=\"color: #008080; text-decoration-color: #008080; font-weight: bold\">117</span>., <span style=\"color: #008080; text-decoration-color: #008080; font-weight: bold\">118</span>., <span style=\"color: #008080; text-decoration-color: #008080; font-weight: bold\">119</span>., <span style=\"color: #008080; text-decoration-color: #008080; font-weight: bold\">120</span>., <span style=\"color: #008080; text-decoration-color: #008080; font-weight: bold\">121</span>., <span style=\"color: #008080; text-decoration-color: #008080; font-weight: bold\">122</span>., <span style=\"color: #008080; text-decoration-color: #008080; font-weight: bold\">123</span>., <span style=\"color: #008080; text-decoration-color: #008080; font-weight: bold\">124</span>., <span style=\"color: #008080; text-decoration-color: #008080; font-weight: bold\">125</span>., <span style=\"color: #008080; text-decoration-color: #008080; font-weight: bold\">126</span>., <span style=\"color: #008080; text-decoration-color: #008080; font-weight: bold\">127</span>.,\n",
       "       <span style=\"color: #008080; text-decoration-color: #008080; font-weight: bold\">128</span>., <span style=\"color: #008080; text-decoration-color: #008080; font-weight: bold\">129</span>., <span style=\"color: #008080; text-decoration-color: #008080; font-weight: bold\">130</span>., <span style=\"color: #008080; text-decoration-color: #008080; font-weight: bold\">131</span>., <span style=\"color: #008080; text-decoration-color: #008080; font-weight: bold\">132</span>., <span style=\"color: #008080; text-decoration-color: #008080; font-weight: bold\">133</span>., <span style=\"color: #008080; text-decoration-color: #008080; font-weight: bold\">134</span>., <span style=\"color: #008080; text-decoration-color: #008080; font-weight: bold\">135</span>., <span style=\"color: #008080; text-decoration-color: #008080; font-weight: bold\">136</span>., <span style=\"color: #008080; text-decoration-color: #008080; font-weight: bold\">137</span>., <span style=\"color: #008080; text-decoration-color: #008080; font-weight: bold\">138</span>.,\n",
       "       <span style=\"color: #008080; text-decoration-color: #008080; font-weight: bold\">139</span>., <span style=\"color: #008080; text-decoration-color: #008080; font-weight: bold\">140</span>., <span style=\"color: #008080; text-decoration-color: #008080; font-weight: bold\">141</span>., <span style=\"color: #008080; text-decoration-color: #008080; font-weight: bold\">142</span>., <span style=\"color: #008080; text-decoration-color: #008080; font-weight: bold\">143</span>., <span style=\"color: #008080; text-decoration-color: #008080; font-weight: bold\">144</span>., <span style=\"color: #008080; text-decoration-color: #008080; font-weight: bold\">145</span>., <span style=\"color: #008080; text-decoration-color: #008080; font-weight: bold\">146</span>., <span style=\"color: #008080; text-decoration-color: #008080; font-weight: bold\">147</span>., <span style=\"color: #008080; text-decoration-color: #008080; font-weight: bold\">148</span>., <span style=\"color: #008080; text-decoration-color: #008080; font-weight: bold\">149</span>.,\n",
       "       <span style=\"color: #008080; text-decoration-color: #008080; font-weight: bold\">150</span>., <span style=\"color: #008080; text-decoration-color: #008080; font-weight: bold\">151</span>., <span style=\"color: #008080; text-decoration-color: #008080; font-weight: bold\">152</span>., <span style=\"color: #008080; text-decoration-color: #008080; font-weight: bold\">153</span>., <span style=\"color: #008080; text-decoration-color: #008080; font-weight: bold\">154</span>., <span style=\"color: #008080; text-decoration-color: #008080; font-weight: bold\">155</span>., <span style=\"color: #008080; text-decoration-color: #008080; font-weight: bold\">156</span>., <span style=\"color: #008080; text-decoration-color: #008080; font-weight: bold\">157</span>., <span style=\"color: #008080; text-decoration-color: #008080; font-weight: bold\">158</span>., <span style=\"color: #008080; text-decoration-color: #008080; font-weight: bold\">159</span>., <span style=\"color: #008080; text-decoration-color: #008080; font-weight: bold\">160</span>.<span style=\"font-weight: bold\">])</span>\n",
       "</pre>\n"
      ],
      "text/plain": [
       "\u001b[1;35marray\u001b[0m\u001b[1m(\u001b[0m\u001b[1m[\u001b[0m  \u001b[1;36m0\u001b[0m.,   \u001b[1;36m1\u001b[0m.,   \u001b[1;36m2\u001b[0m.,   \u001b[1;36m3\u001b[0m.,   \u001b[1;36m4\u001b[0m.,   \u001b[1;36m5\u001b[0m.,   \u001b[1;36m6\u001b[0m.,   \u001b[1;36m7\u001b[0m.,   \u001b[1;36m8\u001b[0m.,   \u001b[1;36m9\u001b[0m.,  \u001b[1;36m10\u001b[0m.,\n",
       "        \u001b[1;36m11\u001b[0m.,  \u001b[1;36m12\u001b[0m.,  \u001b[1;36m13\u001b[0m.,  \u001b[1;36m14\u001b[0m.,  \u001b[1;36m15\u001b[0m.,  \u001b[1;36m16\u001b[0m.,  \u001b[1;36m17\u001b[0m.,  \u001b[1;36m18\u001b[0m.,  \u001b[1;36m19\u001b[0m.,  \u001b[1;36m20\u001b[0m.,  \u001b[1;36m21\u001b[0m.,\n",
       "        \u001b[1;36m22\u001b[0m.,  \u001b[1;36m23\u001b[0m.,  \u001b[1;36m24\u001b[0m.,  \u001b[1;36m25\u001b[0m.,  \u001b[1;36m26\u001b[0m.,  \u001b[1;36m27\u001b[0m.,  \u001b[1;36m28\u001b[0m.,  \u001b[1;36m29\u001b[0m.,  \u001b[1;36m30\u001b[0m.,  \u001b[1;36m31\u001b[0m.,  \u001b[1;36m32\u001b[0m.,\n",
       "        \u001b[1;36m33\u001b[0m.,  \u001b[1;36m34\u001b[0m.,  \u001b[1;36m35\u001b[0m.,  \u001b[1;36m36\u001b[0m.,  \u001b[1;36m37\u001b[0m.,  \u001b[1;36m38\u001b[0m.,  \u001b[1;36m39\u001b[0m.,  \u001b[1;36m40\u001b[0m.,  \u001b[1;36m41\u001b[0m.,  \u001b[1;36m42\u001b[0m.,  \u001b[1;36m43\u001b[0m.,\n",
       "        \u001b[1;36m44\u001b[0m.,  \u001b[1;36m45\u001b[0m.,  \u001b[1;36m46\u001b[0m.,  \u001b[1;36m47\u001b[0m.,  \u001b[1;36m48\u001b[0m.,  \u001b[1;36m49\u001b[0m.,  \u001b[1;36m50\u001b[0m.,  \u001b[1;36m51\u001b[0m.,  \u001b[1;36m52\u001b[0m.,  \u001b[1;36m53\u001b[0m.,  \u001b[1;36m54\u001b[0m.,\n",
       "        \u001b[1;36m55\u001b[0m.,  \u001b[1;36m56\u001b[0m.,  \u001b[1;36m57\u001b[0m.,  \u001b[1;36m58\u001b[0m.,  \u001b[1;36m59\u001b[0m.,  \u001b[1;36m60\u001b[0m., \u001b[1;36m101\u001b[0m., \u001b[1;36m102\u001b[0m., \u001b[1;36m103\u001b[0m., \u001b[1;36m104\u001b[0m., \u001b[1;36m105\u001b[0m.,\n",
       "       \u001b[1;36m106\u001b[0m., \u001b[1;36m107\u001b[0m., \u001b[1;36m108\u001b[0m., \u001b[1;36m109\u001b[0m., \u001b[1;36m110\u001b[0m., \u001b[1;36m111\u001b[0m., \u001b[1;36m112\u001b[0m., \u001b[1;36m113\u001b[0m., \u001b[1;36m114\u001b[0m., \u001b[1;36m115\u001b[0m., \u001b[1;36m116\u001b[0m.,\n",
       "       \u001b[1;36m117\u001b[0m., \u001b[1;36m118\u001b[0m., \u001b[1;36m119\u001b[0m., \u001b[1;36m120\u001b[0m., \u001b[1;36m121\u001b[0m., \u001b[1;36m122\u001b[0m., \u001b[1;36m123\u001b[0m., \u001b[1;36m124\u001b[0m., \u001b[1;36m125\u001b[0m., \u001b[1;36m126\u001b[0m., \u001b[1;36m127\u001b[0m.,\n",
       "       \u001b[1;36m128\u001b[0m., \u001b[1;36m129\u001b[0m., \u001b[1;36m130\u001b[0m., \u001b[1;36m131\u001b[0m., \u001b[1;36m132\u001b[0m., \u001b[1;36m133\u001b[0m., \u001b[1;36m134\u001b[0m., \u001b[1;36m135\u001b[0m., \u001b[1;36m136\u001b[0m., \u001b[1;36m137\u001b[0m., \u001b[1;36m138\u001b[0m.,\n",
       "       \u001b[1;36m139\u001b[0m., \u001b[1;36m140\u001b[0m., \u001b[1;36m141\u001b[0m., \u001b[1;36m142\u001b[0m., \u001b[1;36m143\u001b[0m., \u001b[1;36m144\u001b[0m., \u001b[1;36m145\u001b[0m., \u001b[1;36m146\u001b[0m., \u001b[1;36m147\u001b[0m., \u001b[1;36m148\u001b[0m., \u001b[1;36m149\u001b[0m.,\n",
       "       \u001b[1;36m150\u001b[0m., \u001b[1;36m151\u001b[0m., \u001b[1;36m152\u001b[0m., \u001b[1;36m153\u001b[0m., \u001b[1;36m154\u001b[0m., \u001b[1;36m155\u001b[0m., \u001b[1;36m156\u001b[0m., \u001b[1;36m157\u001b[0m., \u001b[1;36m158\u001b[0m., \u001b[1;36m159\u001b[0m., \u001b[1;36m160\u001b[0m.\u001b[1m]\u001b[0m\u001b[1m)\u001b[0m\n"
      ]
     },
     "metadata": {},
     "output_type": "display_data"
    }
   ],
   "source": [
    "np.unique(arr)"
   ]
  },
  {
   "cell_type": "code",
   "execution_count": null,
   "id": "215dc541",
   "metadata": {},
   "outputs": [],
   "source": []
  },
  {
   "cell_type": "code",
   "execution_count": 15,
   "id": "51159ddc",
   "metadata": {},
   "outputs": [
    {
     "data": {
      "text/html": [
       "<pre style=\"white-space:pre;overflow-x:auto;line-height:normal;font-family:Menlo,'DejaVu Sans Mono',consolas,'Courier New',monospace\"><span style=\"color: #800080; text-decoration-color: #800080; font-weight: bold\">array</span><span style=\"font-weight: bold\">([</span><span style=\"color: #008080; text-decoration-color: #008080; font-weight: bold\">132</span>,  <span style=\"color: #008080; text-decoration-color: #008080; font-weight: bold\">80</span>, <span style=\"color: #008080; text-decoration-color: #008080; font-weight: bold\">114</span><span style=\"font-weight: bold\">])</span>\n",
       "</pre>\n"
      ],
      "text/plain": [
       "\u001b[1;35marray\u001b[0m\u001b[1m(\u001b[0m\u001b[1m[\u001b[0m\u001b[1;36m132\u001b[0m,  \u001b[1;36m80\u001b[0m, \u001b[1;36m114\u001b[0m\u001b[1m]\u001b[0m\u001b[1m)\u001b[0m\n"
      ]
     },
     "metadata": {},
     "output_type": "display_data"
    }
   ],
   "source": [
    "mice.allen['template_info']['sizes']"
   ]
  },
  {
   "cell_type": "code",
   "execution_count": 16,
   "id": "a930621d",
   "metadata": {},
   "outputs": [
    {
     "data": {
      "text/html": [
       "<pre style=\"white-space:pre;overflow-x:auto;line-height:normal;font-family:Menlo,'DejaVu Sans Mono',consolas,'Courier New',monospace\"><span style=\"font-weight: bold\">[</span><span style=\"color: #008080; text-decoration-color: #008080; font-weight: bold\">2.2</span>, <span style=\"color: #008080; text-decoration-color: #008080; font-weight: bold\">1.7391304347826086</span>, <span style=\"color: #008080; text-decoration-color: #008080; font-weight: bold\">1.4074074074074074</span><span style=\"font-weight: bold\">]</span>\n",
       "</pre>\n"
      ],
      "text/plain": [
       "\u001b[1m[\u001b[0m\u001b[1;36m2.2\u001b[0m, \u001b[1;36m1.7391304347826086\u001b[0m, \u001b[1;36m1.4074074074074074\u001b[0m\u001b[1m]\u001b[0m\n"
      ]
     },
     "metadata": {},
     "output_type": "display_data"
    }
   ],
   "source": [
    "[a / b for a, b in zip(mice.allen['template_info']['sizes'], arr.shape)]"
   ]
  },
  {
   "cell_type": "code",
   "execution_count": null,
   "id": "3c7ea54a",
   "metadata": {},
   "outputs": [],
   "source": []
  },
  {
   "cell_type": "code",
   "execution_count": null,
   "id": "adff5145",
   "metadata": {},
   "outputs": [],
   "source": []
  },
  {
   "cell_type": "code",
   "execution_count": null,
   "id": "d005423d",
   "metadata": {},
   "outputs": [],
   "source": []
  },
  {
   "cell_type": "code",
   "execution_count": null,
   "id": "c504602a",
   "metadata": {},
   "outputs": [],
   "source": []
  },
  {
   "cell_type": "code",
   "execution_count": null,
   "id": "87f27fa1",
   "metadata": {},
   "outputs": [],
   "source": []
  }
 ],
 "metadata": {
  "kernelspec": {
   "display_name": "Python 3",
   "language": "python",
   "name": "python3"
  },
  "language_info": {
   "codemirror_mode": {
    "name": "ipython",
    "version": 3
   },
   "file_extension": ".py",
   "mimetype": "text/x-python",
   "name": "python",
   "nbconvert_exporter": "python",
   "pygments_lexer": "ipython3",
   "version": "3.8.3"
  }
 },
 "nbformat": 4,
 "nbformat_minor": 5
}
