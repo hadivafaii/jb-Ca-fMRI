{
 "cells": [
  {
   "cell_type": "code",
   "execution_count": 1,
   "id": "161481d4",
   "metadata": {},
   "outputs": [],
   "source": [
    "# HIDE CODE\n",
    "\n",
    "\n",
    "import os\n",
    "import sys\n",
    "import nibabel as nib\n",
    "import networkx as nx\n",
    "from time import time\n",
    "from pprint import pprint\n",
    "from copy import deepcopy as dc\n",
    "from os.path import join as pjoin\n",
    "from myterial import orange, blue_grey\n",
    "from IPython.display import display, IFrame, HTML\n",
    "from matplotlib.colors import rgb2hex, to_rgb\n",
    "import matplotlib.pyplot as plt\n",
    "import seaborn as sns\n",
    "\n",
    "# set style & no interpolalation\n",
    "import matplotlib\n",
    "matplotlib.rcParams['image.interpolation'] = 'none'\n",
    "sns.set_style('whitegrid')\n",
    "\n",
    "# tmp & extras dir\n",
    "git_dir = pjoin(os.environ['HOME'], 'Dropbox/git')\n",
    "tmp_dir = pjoin(git_dir, 'jb-Ca-fMRI/tmp')\n",
    "extras_dir = pjoin(git_dir, 'jb-Ca-fMRI/_extras')\n",
    "\n",
    "\n",
    "# GitHub\n",
    "sys.path.insert(0, pjoin(git_dir, '_Ca-fMRI'))\n",
    "from register.atlas import load_allen, make_tree_graph\n",
    "from register.parcellation import Parcellation\n",
    "from analysis.hierarchical import Hierarchical\n",
    "from analysis.svinet import *\n",
    "from utils.plotting import *\n",
    "from utils.render import *\n",
    "from model.mouse import Mice\n",
    "from model.configuration import Config\n",
    "\n",
    "# warnings\n",
    "import warnings\n",
    "warnings.filterwarnings('ignore', category=DeprecationWarning)"
   ]
  },
  {
   "cell_type": "code",
   "execution_count": null,
   "id": "d05715ef",
   "metadata": {},
   "outputs": [],
   "source": []
  },
  {
   "cell_type": "code",
   "execution_count": 3,
   "id": "420e3eda",
   "metadata": {},
   "outputs": [
    {
     "data": {
      "text/html": [
       "<pre style=\"white-space:pre;overflow-x:auto;line-height:normal;font-family:Menlo,'DejaVu Sans Mono',consolas,'Courier New',monospace\"><span style=\"font-weight: bold\">[</span>\n",
       "    <span style=\"color: #008000; text-decoration-color: #008000\">'community.dat'</span>,\n",
       "    <span style=\"color: #008000; text-decoration-color: #008000\">'ReadMe.txt'</span>,\n",
       "    <span style=\"color: #008000; text-decoration-color: #008000\">'Sources'</span>,\n",
       "    <span style=\"color: #008000; text-decoration-color: #008000\">'time_seed.dat'</span>,\n",
       "    <span style=\"color: #008000; text-decoration-color: #008000\">'makefile'</span>,\n",
       "    <span style=\"color: #008000; text-decoration-color: #008000\">'statistics.dat'</span>,\n",
       "    <span style=\"color: #008000; text-decoration-color: #008000\">'network.dat'</span>,\n",
       "    <span style=\"color: #008000; text-decoration-color: #008000\">'flags.dat'</span>,\n",
       "    <span style=\"color: #008000; text-decoration-color: #008000\">'Thanks.txt'</span>,\n",
       "    <span style=\"color: #008000; text-decoration-color: #008000\">'benchmark'</span>,\n",
       "    <span style=\"color: #008000; text-decoration-color: #008000\">'results'</span>\n",
       "<span style=\"font-weight: bold\">]</span>\n",
       "</pre>\n"
      ],
      "text/plain": [
       "\u001b[1m[\u001b[0m\n",
       "    \u001b[32m'community.dat'\u001b[0m,\n",
       "    \u001b[32m'ReadMe.txt'\u001b[0m,\n",
       "    \u001b[32m'Sources'\u001b[0m,\n",
       "    \u001b[32m'time_seed.dat'\u001b[0m,\n",
       "    \u001b[32m'makefile'\u001b[0m,\n",
       "    \u001b[32m'statistics.dat'\u001b[0m,\n",
       "    \u001b[32m'network.dat'\u001b[0m,\n",
       "    \u001b[32m'flags.dat'\u001b[0m,\n",
       "    \u001b[32m'Thanks.txt'\u001b[0m,\n",
       "    \u001b[32m'benchmark'\u001b[0m,\n",
       "    \u001b[32m'results'\u001b[0m\n",
       "\u001b[1m]\u001b[0m\n"
      ]
     },
     "metadata": {},
     "output_type": "display_data"
    }
   ],
   "source": [
    "lfr_dir = pjoin(os.environ['HOME'], 'Documents/workspaces/lfr', 'binary_overlapping')\n",
    "os.listdir(lfr_dir)"
   ]
  },
  {
   "cell_type": "code",
   "execution_count": 4,
   "id": "469fa91e",
   "metadata": {},
   "outputs": [],
   "source": [
    "with open(pjoin(lfr_dir, 'flags.dat')) as f:\n",
    "    lines = f.readlines()"
   ]
  },
  {
   "cell_type": "code",
   "execution_count": 5,
   "id": "0d2d1710",
   "metadata": {},
   "outputs": [
    {
     "data": {
      "text/html": [
       "<pre style=\"white-space:pre;overflow-x:auto;line-height:normal;font-family:Menlo,'DejaVu Sans Mono',consolas,'Courier New',monospace\"><span style=\"font-weight: bold\">[</span>\n",
       "    <span style=\"color: #008000; text-decoration-color: #008000\">'-N 1000\\n'</span>,\n",
       "    <span style=\"color: #008000; text-decoration-color: #008000\">'-k 15\\n'</span>,\n",
       "    <span style=\"color: #008000; text-decoration-color: #008000\">'-maxk 50\\n'</span>,\n",
       "    <span style=\"color: #008000; text-decoration-color: #008000\">'-mu 0.3\\n'</span>,\n",
       "    <span style=\"color: #008000; text-decoration-color: #008000\">'-t1 2\\n'</span>,\n",
       "    <span style=\"color: #008000; text-decoration-color: #008000\">'-t2 1\\n'</span>,\n",
       "    <span style=\"color: #008000; text-decoration-color: #008000\">'-minc 20\\n'</span>,\n",
       "    <span style=\"color: #008000; text-decoration-color: #008000\">'-maxc 50\\n'</span>,\n",
       "    <span style=\"color: #008000; text-decoration-color: #008000\">'-on 0\\n'</span>,\n",
       "    <span style=\"color: #008000; text-decoration-color: #008000\">'-om 0'</span>\n",
       "<span style=\"font-weight: bold\">]</span>\n",
       "</pre>\n"
      ],
      "text/plain": [
       "\u001b[1m[\u001b[0m\n",
       "    \u001b[32m'-N 1000\\n'\u001b[0m,\n",
       "    \u001b[32m'-k 15\\n'\u001b[0m,\n",
       "    \u001b[32m'-maxk 50\\n'\u001b[0m,\n",
       "    \u001b[32m'-mu 0.3\\n'\u001b[0m,\n",
       "    \u001b[32m'-t1 2\\n'\u001b[0m,\n",
       "    \u001b[32m'-t2 1\\n'\u001b[0m,\n",
       "    \u001b[32m'-minc 20\\n'\u001b[0m,\n",
       "    \u001b[32m'-maxc 50\\n'\u001b[0m,\n",
       "    \u001b[32m'-on 0\\n'\u001b[0m,\n",
       "    \u001b[32m'-om 0'\u001b[0m\n",
       "\u001b[1m]\u001b[0m\n"
      ]
     },
     "metadata": {},
     "output_type": "display_data"
    }
   ],
   "source": [
    "lines"
   ]
  },
  {
   "cell_type": "code",
   "execution_count": null,
   "id": "50fbadc0",
   "metadata": {},
   "outputs": [],
   "source": []
  },
  {
   "cell_type": "code",
   "execution_count": null,
   "id": "a6f7f468",
   "metadata": {},
   "outputs": [],
   "source": []
  },
  {
   "cell_type": "code",
   "execution_count": null,
   "id": "6a6f853e",
   "metadata": {},
   "outputs": [],
   "source": []
  }
 ],
 "metadata": {
  "kernelspec": {
   "display_name": "Python 3",
   "language": "python",
   "name": "python3"
  },
  "language_info": {
   "codemirror_mode": {
    "name": "ipython",
    "version": 3
   },
   "file_extension": ".py",
   "mimetype": "text/x-python",
   "name": "python",
   "nbconvert_exporter": "python",
   "pygments_lexer": "ipython3",
   "version": "3.8.3"
  }
 },
 "nbformat": 4,
 "nbformat_minor": 5
}
