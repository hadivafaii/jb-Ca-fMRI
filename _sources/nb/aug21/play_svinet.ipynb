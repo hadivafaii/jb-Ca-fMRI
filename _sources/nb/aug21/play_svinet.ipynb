{
 "cells": [
  {
   "cell_type": "markdown",
   "id": "246d3ff3",
   "metadata": {},
   "source": [
    "# Aug ??st, 2021 (play svinet)\n",
    "\n",
    "**Motivation**: SVINET <br>"
   ]
  },
  {
   "cell_type": "code",
   "execution_count": 1,
   "id": "0210c1ea",
   "metadata": {
    "tags": [
     "hide-input"
    ]
   },
   "outputs": [],
   "source": [
    "# HIDE CODE\n",
    "\n",
    "\n",
    "import os\n",
    "import sys\n",
    "import nibabel as nib\n",
    "import networkx as nx\n",
    "from time import time\n",
    "from pprint import pprint\n",
    "from copy import deepcopy as dc\n",
    "from os.path import join as pjoin\n",
    "from myterial import orange, blue_grey\n",
    "from IPython.display import display, IFrame, HTML\n",
    "from matplotlib.colors import rgb2hex, to_rgb\n",
    "import matplotlib.pyplot as plt\n",
    "import seaborn as sns\n",
    "\n",
    "# set style & no interpolalation\n",
    "import matplotlib\n",
    "matplotlib.rcParams['image.interpolation'] = 'none'\n",
    "sns.set_style('whitegrid')\n",
    "\n",
    "# tmp & extras dir\n",
    "git_dir = pjoin(os.environ['HOME'], 'Dropbox/git')\n",
    "tmp_dir = pjoin(git_dir, 'jb-Ca-fMRI/tmp')\n",
    "extras_dir = pjoin(git_dir, 'jb-Ca-fMRI/_extras')\n",
    "\n",
    "\n",
    "# GitHub\n",
    "sys.path.insert(0, pjoin(git_dir, '_Ca-fMRI'))\n",
    "from register.atlas import load_allen, make_tree_graph\n",
    "from register.parcellation import Parcellation\n",
    "from analysis.hierarchical import Hierarchical\n",
    "from analysis.svinet import *\n",
    "from utils.plotting import *\n",
    "from utils.render import *\n",
    "from model.mouse import Mice\n",
    "from model.configuration import Config\n",
    "\n",
    "# warnings\n",
    "import warnings\n",
    "warnings.filterwarnings('ignore', category=DeprecationWarning)"
   ]
  },
  {
   "cell_type": "code",
   "execution_count": null,
   "id": "ce7601af",
   "metadata": {},
   "outputs": [],
   "source": []
  },
  {
   "cell_type": "code",
   "execution_count": 3,
   "id": "998d11bc",
   "metadata": {},
   "outputs": [
    {
     "data": {
      "text/html": [
       "<pre style=\"white-space:pre;overflow-x:auto;line-height:normal;font-family:Menlo,'DejaVu Sans Mono',consolas,'Courier New',monospace\"><span style=\"font-weight: bold\">[</span><span style=\"color: #008080; text-decoration-color: #008080; font-weight: bold\">154.47318843</span> <span style=\"color: #008080; text-decoration-color: #008080; font-weight: bold\">214.21717873</span> <span style=\"color: #008080; text-decoration-color: #008080; font-weight: bold\">274.35822628</span> <span style=\"color: #808000; text-decoration-color: #808000\">...</span> <span style=\"color: #008080; text-decoration-color: #008080; font-weight: bold\">251.75023076</span> <span style=\"color: #008080; text-decoration-color: #008080; font-weight: bold\">200.57670266</span>\n",
       " <span style=\"color: #008080; text-decoration-color: #008080; font-weight: bold\">229.5433265</span> <span style=\"font-weight: bold\">]</span>\n",
       "</pre>\n"
      ],
      "text/plain": [
       "\u001b[1m[\u001b[0m\u001b[1;36m154.47318843\u001b[0m \u001b[1;36m214.21717873\u001b[0m \u001b[1;36m274.35822628\u001b[0m \u001b[33m...\u001b[0m \u001b[1;36m251.75023076\u001b[0m \u001b[1;36m200.57670266\u001b[0m\n",
       " \u001b[1;36m229.5433265\u001b[0m \u001b[1m]\u001b[0m\n"
      ]
     },
     "metadata": {},
     "output_type": "display_data"
    }
   ],
   "source": [
    "alpha = 5\n",
    "loc = 100.5\n",
    "beta = 22\n",
    "data = sp_stats.gamma.rvs(alpha, loc=loc, scale=beta, size=10000)    \n",
    "print(data)"
   ]
  },
  {
   "cell_type": "code",
   "execution_count": null,
   "id": "538730e8",
   "metadata": {},
   "outputs": [],
   "source": []
  },
  {
   "cell_type": "code",
   "execution_count": 4,
   "id": "51666663",
   "metadata": {},
   "outputs": [
    {
     "data": {
      "text/html": [
       "<pre style=\"white-space:pre;overflow-x:auto;line-height:normal;font-family:Menlo,'DejaVu Sans Mono',consolas,'Courier New',monospace\"><span style=\"color: #008080; text-decoration-color: #008080; font-weight: bold\">4.7699225778603935</span> <span style=\"color: #008080; text-decoration-color: #008080; font-weight: bold\">101.96257226264568</span> <span style=\"color: #008080; text-decoration-color: #008080; font-weight: bold\">22.700760088125048</span>\n",
       "</pre>\n"
      ],
      "text/plain": [
       "\u001b[1;36m4.7699225778603935\u001b[0m \u001b[1;36m101.96257226264568\u001b[0m \u001b[1;36m22.700760088125048\u001b[0m\n"
      ]
     },
     "metadata": {},
     "output_type": "display_data"
    },
    {
     "data": {
      "text/html": [
       "<pre style=\"white-space:pre;overflow-x:auto;line-height:normal;font-family:Menlo,'DejaVu Sans Mono',consolas,'Courier New',monospace\"><span style=\"color: #008080; text-decoration-color: #008080; font-weight: bold\">5</span> <span style=\"color: #008080; text-decoration-color: #008080; font-weight: bold\">100.5</span> <span style=\"color: #008080; text-decoration-color: #008080; font-weight: bold\">22</span>\n",
       "</pre>\n"
      ],
      "text/plain": [
       "\u001b[1;36m5\u001b[0m \u001b[1;36m100.5\u001b[0m \u001b[1;36m22\u001b[0m\n"
      ]
     },
     "metadata": {},
     "output_type": "display_data"
    }
   ],
   "source": [
    "fit_alpha, fit_loc, fit_beta = sp_stats.gamma.fit(data)\n",
    "print(fit_alpha, fit_loc, fit_beta)\n",
    "print(alpha, loc, beta)"
   ]
  },
  {
   "cell_type": "code",
   "execution_count": 64,
   "id": "b1520f05",
   "metadata": {},
   "outputs": [
    {
     "data": {
      "text/html": [
       "<pre style=\"white-space:pre;overflow-x:auto;line-height:normal;font-family:Menlo,'DejaVu Sans Mono',consolas,'Courier New',monospace\"><span style=\"font-weight: bold\">[&lt;</span><span style=\"color: #ff00ff; text-decoration-color: #ff00ff; font-weight: bold\">matplotlib.lines.Line2D</span><span style=\"color: #000000; text-decoration-color: #000000\"> object at </span><span style=\"color: #008080; text-decoration-color: #008080; font-weight: bold\">0x7fe6d88db640</span><span style=\"font-weight: bold\">&gt;]</span>\n",
       "</pre>\n"
      ],
      "text/plain": [
       "\u001b[1m[\u001b[0m\u001b[1m<\u001b[0m\u001b[1;95mmatplotlib.lines.Line2D\u001b[0m\u001b[39m object at \u001b[0m\u001b[1;36m0x7fe6d88db640\u001b[0m\u001b[1m>\u001b[0m\u001b[1m]\u001b[0m\n"
      ]
     },
     "metadata": {},
     "output_type": "display_data"
    },
    {
     "data": {
      "image/png": "[encoded data removed]"
     },
     "metadata": {},
     "output_type": "display_data"
    }
   ],
   "source": [
    "alpha = 0.01\n",
    "beta = 20\n",
    "\n",
    "x = np.linspace(0, 500, 10000)\n",
    "y = sp_stats.gamma.pdf(x, alpha, loc=0, scale=beta)\n",
    "plt.plot(x, y)"
   ]
  },
  {
   "cell_type": "code",
   "execution_count": null,
   "id": "f8d7b65c",
   "metadata": {},
   "outputs": [],
   "source": []
  },
  {
   "cell_type": "code",
   "execution_count": null,
   "id": "d471cb1b",
   "metadata": {},
   "outputs": [],
   "source": []
  },
  {
   "cell_type": "code",
   "execution_count": null,
   "id": "df2d8ac5",
   "metadata": {},
   "outputs": [],
   "source": []
  },
  {
   "cell_type": "markdown",
   "id": "7d9fc146",
   "metadata": {},
   "source": [
    "## Mice"
   ]
  },
  {
   "cell_type": "code",
   "execution_count": 2,
   "id": "aa49377e",
   "metadata": {},
   "outputs": [],
   "source": [
    "mice = Mice(Config(128))\n",
    "mice.combine_dfs('both', full=True)\n",
    "\n",
    "key = 'sub-SLC07' # 'sub-SLC02_ses-2' # 'sub-SLC'\n",
    "mode = 'bold'\n",
    "metric = 'pearson'\n",
    "match_metric = 'cosine'"
   ]
  },
  {
   "cell_type": "code",
   "execution_count": null,
   "id": "fc8502a9",
   "metadata": {},
   "outputs": [],
   "source": []
  },
  {
   "cell_type": "code",
   "execution_count": 3,
   "id": "7d280004",
   "metadata": {},
   "outputs": [
    {
     "data": {
      "text/html": [
       "<pre style=\"white-space:pre;overflow-x:auto;line-height:normal;font-family:Menlo,'DejaVu Sans Mono',consolas,'Courier New',monospace\"><span style=\"color: #008000; text-decoration-color: #008000\">'/home/hadi/Documents/workspaces/svinet'</span>\n",
       "</pre>\n"
      ],
      "text/plain": [
       "\u001b[32m'/home/hadi/Documents/workspaces/svinet'\u001b[0m\n"
      ]
     },
     "metadata": {},
     "output_type": "display_data"
    }
   ],
   "source": [
    "mice.cfg.svinet_dir"
   ]
  },
  {
   "cell_type": "code",
   "execution_count": null,
   "id": "33873dc5",
   "metadata": {},
   "outputs": [],
   "source": []
  },
  {
   "cell_type": "code",
   "execution_count": 5,
   "id": "81f96433",
   "metadata": {},
   "outputs": [
    {
     "data": {
      "text/html": [
       "<pre style=\"white-space:pre;overflow-x:auto;line-height:normal;font-family:Menlo,'DejaVu Sans Mono',consolas,'Courier New',monospace\">bold_pearson_task-rest_sub-SLC03_n128 config p20 <span style=\"color: #008080; text-decoration-color: #008080; font-weight: bold\">0</span> <span style=\"color: #008080; text-decoration-color: #008080; font-weight: bold\">1</span>\n",
       "</pre>\n"
      ],
      "text/plain": [
       "bold_pearson_task-rest_sub-SLC03_n128 config p20 \u001b[1;36m0\u001b[0m \u001b[1;36m1\u001b[0m\n"
      ]
     },
     "metadata": {},
     "output_type": "display_data"
    },
    {
     "data": {
      "text/html": [
       "<pre style=\"white-space:pre;overflow-x:auto;line-height:normal;font-family:Menlo,'DejaVu Sans Mono',consolas,'Courier New',monospace\">bold_pearson_task-rest_sub-SLC03_n128 config_clust p20 <span style=\"color: #008080; text-decoration-color: #008080; font-weight: bold\">0</span> <span style=\"color: #008080; text-decoration-color: #008080; font-weight: bold\">1</span>\n",
       "</pre>\n"
      ],
      "text/plain": [
       "bold_pearson_task-rest_sub-SLC03_n128 config_clust p20 \u001b[1;36m0\u001b[0m \u001b[1;36m1\u001b[0m\n"
      ]
     },
     "metadata": {},
     "output_type": "display_data"
    },
    {
     "data": {
      "text/html": [
       "<pre style=\"white-space:pre;overflow-x:auto;line-height:normal;font-family:Menlo,'DejaVu Sans Mono',consolas,'Courier New',monospace\">bold_pearson_task-rest_sub-SLC03_n128 real p20 <span style=\"color: #008080; text-decoration-color: #008080; font-weight: bold\">0</span> <span style=\"color: #008080; text-decoration-color: #008080; font-weight: bold\">1</span>\n",
       "</pre>\n"
      ],
      "text/plain": [
       "bold_pearson_task-rest_sub-SLC03_n128 real p20 \u001b[1;36m0\u001b[0m \u001b[1;36m1\u001b[0m\n"
      ]
     },
     "metadata": {},
     "output_type": "display_data"
    },
    {
     "data": {
      "text/html": [
       "<pre style=\"white-space:pre;overflow-x:auto;line-height:normal;font-family:Menlo,'DejaVu Sans Mono',consolas,'Courier New',monospace\">bold_pearson_task-rest_sub-SLC03_ses-2_n128 config p20 <span style=\"color: #008080; text-decoration-color: #008080; font-weight: bold\">0</span> <span style=\"color: #008080; text-decoration-color: #008080; font-weight: bold\">1</span>\n",
       "</pre>\n"
      ],
      "text/plain": [
       "bold_pearson_task-rest_sub-SLC03_ses-2_n128 config p20 \u001b[1;36m0\u001b[0m \u001b[1;36m1\u001b[0m\n"
      ]
     },
     "metadata": {},
     "output_type": "display_data"
    },
    {
     "data": {
      "text/html": [
       "<pre style=\"white-space:pre;overflow-x:auto;line-height:normal;font-family:Menlo,'DejaVu Sans Mono',consolas,'Courier New',monospace\">bold_pearson_task-rest_sub-SLC03_ses-2_n128 config_clust p20 <span style=\"color: #008080; text-decoration-color: #008080; font-weight: bold\">0</span> <span style=\"color: #008080; text-decoration-color: #008080; font-weight: bold\">1</span>\n",
       "</pre>\n"
      ],
      "text/plain": [
       "bold_pearson_task-rest_sub-SLC03_ses-2_n128 config_clust p20 \u001b[1;36m0\u001b[0m \u001b[1;36m1\u001b[0m\n"
      ]
     },
     "metadata": {},
     "output_type": "display_data"
    },
    {
     "data": {
      "text/html": [
       "<pre style=\"white-space:pre;overflow-x:auto;line-height:normal;font-family:Menlo,'DejaVu Sans Mono',consolas,'Courier New',monospace\">bold_pearson_task-rest_sub-SLC03_ses-2_n128 real p20 <span style=\"color: #008080; text-decoration-color: #008080; font-weight: bold\">0</span> <span style=\"color: #008080; text-decoration-color: #008080; font-weight: bold\">1</span>\n",
       "</pre>\n"
      ],
      "text/plain": [
       "bold_pearson_task-rest_sub-SLC03_ses-2_n128 real p20 \u001b[1;36m0\u001b[0m \u001b[1;36m1\u001b[0m\n"
      ]
     },
     "metadata": {},
     "output_type": "display_data"
    },
    {
     "data": {
      "text/html": [
       "<pre style=\"white-space:pre;overflow-x:auto;line-height:normal;font-family:Menlo,'DejaVu Sans Mono',consolas,'Courier New',monospace\">bold_pearson_task-rest_sub-SLC04_n128 config p20 <span style=\"color: #008080; text-decoration-color: #008080; font-weight: bold\">0</span> <span style=\"color: #008080; text-decoration-color: #008080; font-weight: bold\">1</span>\n",
       "</pre>\n"
      ],
      "text/plain": [
       "bold_pearson_task-rest_sub-SLC04_n128 config p20 \u001b[1;36m0\u001b[0m \u001b[1;36m1\u001b[0m\n"
      ]
     },
     "metadata": {},
     "output_type": "display_data"
    },
    {
     "data": {
      "text/html": [
       "<pre style=\"white-space:pre;overflow-x:auto;line-height:normal;font-family:Menlo,'DejaVu Sans Mono',consolas,'Courier New',monospace\">bold_pearson_task-rest_sub-SLC04_n128 config_clust p20 <span style=\"color: #008080; text-decoration-color: #008080; font-weight: bold\">0</span> <span style=\"color: #008080; text-decoration-color: #008080; font-weight: bold\">1</span>\n",
       "</pre>\n"
      ],
      "text/plain": [
       "bold_pearson_task-rest_sub-SLC04_n128 config_clust p20 \u001b[1;36m0\u001b[0m \u001b[1;36m1\u001b[0m\n"
      ]
     },
     "metadata": {},
     "output_type": "display_data"
    },
    {
     "data": {
      "text/html": [
       "<pre style=\"white-space:pre;overflow-x:auto;line-height:normal;font-family:Menlo,'DejaVu Sans Mono',consolas,'Courier New',monospace\">bold_pearson_task-rest_sub-SLC04_n128 real p20 <span style=\"color: #008080; text-decoration-color: #008080; font-weight: bold\">555</span> <span style=\"color: #008080; text-decoration-color: #008080; font-weight: bold\">1</span>\n",
       "</pre>\n"
      ],
      "text/plain": [
       "bold_pearson_task-rest_sub-SLC04_n128 real p20 \u001b[1;36m555\u001b[0m \u001b[1;36m1\u001b[0m\n"
      ]
     },
     "metadata": {},
     "output_type": "display_data"
    },
    {
     "data": {
      "text/html": [
       "<pre style=\"white-space:pre;overflow-x:auto;line-height:normal;font-family:Menlo,'DejaVu Sans Mono',consolas,'Courier New',monospace\">bold_pearson_task-rest_sub-SLC09_n128 config p20 <span style=\"color: #008080; text-decoration-color: #008080; font-weight: bold\">0</span> <span style=\"color: #008080; text-decoration-color: #008080; font-weight: bold\">1</span>\n",
       "</pre>\n"
      ],
      "text/plain": [
       "bold_pearson_task-rest_sub-SLC09_n128 config p20 \u001b[1;36m0\u001b[0m \u001b[1;36m1\u001b[0m\n"
      ]
     },
     "metadata": {},
     "output_type": "display_data"
    },
    {
     "data": {
      "text/html": [
       "<pre style=\"white-space:pre;overflow-x:auto;line-height:normal;font-family:Menlo,'DejaVu Sans Mono',consolas,'Courier New',monospace\">bold_pearson_task-rest_sub-SLC09_n128 config_clust p20 <span style=\"color: #008080; text-decoration-color: #008080; font-weight: bold\">0</span> <span style=\"color: #008080; text-decoration-color: #008080; font-weight: bold\">1</span>\n",
       "</pre>\n"
      ],
      "text/plain": [
       "bold_pearson_task-rest_sub-SLC09_n128 config_clust p20 \u001b[1;36m0\u001b[0m \u001b[1;36m1\u001b[0m\n"
      ]
     },
     "metadata": {},
     "output_type": "display_data"
    },
    {
     "data": {
      "text/html": [
       "<pre style=\"white-space:pre;overflow-x:auto;line-height:normal;font-family:Menlo,'DejaVu Sans Mono',consolas,'Courier New',monospace\">bold_pearson_task-rest_sub-SLC09_n128 real p20 <span style=\"color: #008080; text-decoration-color: #008080; font-weight: bold\">0</span> <span style=\"color: #008080; text-decoration-color: #008080; font-weight: bold\">1</span>\n",
       "</pre>\n"
      ],
      "text/plain": [
       "bold_pearson_task-rest_sub-SLC09_n128 real p20 \u001b[1;36m0\u001b[0m \u001b[1;36m1\u001b[0m\n"
      ]
     },
     "metadata": {},
     "output_type": "display_data"
    }
   ],
   "source": [
    "ctr = 0\n",
    "\n",
    "for x1 in sorted(os.listdir(mice.cfg.svinet_dir)):\n",
    "    if f\"n{mice.cfg.n_cortex_regions}\" not in x1:\n",
    "        continue\n",
    "    _p1 = pjoin(mice.cfg.svinet_dir, x1)\n",
    "    for x2 in sorted(os.listdir(_p1)):\n",
    "        _p2 = pjoin(_p1, x2)\n",
    "        for x3 in sorted(os.listdir(_p2)):\n",
    "            _p3 = pjoin(_p2, x3)\n",
    "            _, dirs, files = next(os.walk(_p3))\n",
    "            if len(dirs) == 2000:\n",
    "                ctr += 1\n",
    "            else:\n",
    "                print(x1, x2, x3, len(dirs), len(files))"
   ]
  },
  {
   "cell_type": "code",
   "execution_count": 6,
   "id": "e61d5437",
   "metadata": {},
   "outputs": [
    {
     "data": {
      "text/html": [
       "<pre style=\"white-space:pre;overflow-x:auto;line-height:normal;font-family:Menlo,'DejaVu Sans Mono',consolas,'Courier New',monospace\"><span style=\"color: #008080; text-decoration-color: #008080; font-weight: bold\">40.0</span>\n",
       "</pre>\n"
      ],
      "text/plain": [
       "\u001b[1;36m40.0\u001b[0m\n"
      ]
     },
     "metadata": {},
     "output_type": "display_data"
    }
   ],
   "source": [
    "ctr / 3"
   ]
  },
  {
   "cell_type": "code",
   "execution_count": null,
   "id": "fc5f2011",
   "metadata": {},
   "outputs": [],
   "source": []
  },
  {
   "cell_type": "code",
   "execution_count": 5,
   "id": "002cab01",
   "metadata": {},
   "outputs": [
    {
     "data": {
      "text/html": [
       "<pre style=\"white-space:pre;overflow-x:auto;line-height:normal;font-family:Menlo,'DejaVu Sans Mono',consolas,'Courier New',monospace\"><span style=\"color: #008000; text-decoration-color: #008000\">'bold_pearson_task-rest_sub-SLC_n128'</span>\n",
       "</pre>\n"
      ],
      "text/plain": [
       "\u001b[32m'bold_pearson_task-rest_sub-SLC_n128'\u001b[0m\n"
      ]
     },
     "metadata": {},
     "output_type": "display_data"
    }
   ],
   "source": [
    "x1"
   ]
  },
  {
   "cell_type": "code",
   "execution_count": 6,
   "id": "a3c36ec1",
   "metadata": {},
   "outputs": [
    {
     "data": {
      "text/html": [
       "<pre style=\"white-space:pre;overflow-x:auto;line-height:normal;font-family:Menlo,'DejaVu Sans Mono',consolas,'Courier New',monospace\"><span style=\"color: #008000; text-decoration-color: #008000\">'/home/hadi/Documents/workspaces/svinet/bold_pearson_task-rest_sub-SLC_n128'</span>\n",
       "</pre>\n"
      ],
      "text/plain": [
       "\u001b[32m'/home/hadi/Documents/workspaces/svinet/bold_pearson_task-rest_sub-SLC_n128'\u001b[0m\n"
      ]
     },
     "metadata": {},
     "output_type": "display_data"
    }
   ],
   "source": [
    "_p1"
   ]
  },
  {
   "cell_type": "code",
   "execution_count": 7,
   "id": "c1268b50",
   "metadata": {},
   "outputs": [
    {
     "data": {
      "text/html": [
       "<pre style=\"white-space:pre;overflow-x:auto;line-height:normal;font-family:Menlo,'DejaVu Sans Mono',consolas,'Courier New',monospace\"><span style=\"color: #008000; text-decoration-color: #008000\">'/home/hadi/Documents/workspaces/svinet/bold_pearson_task-rest_sub-SLC_n128/real/p20'</span>\n",
       "</pre>\n"
      ],
      "text/plain": [
       "\u001b[32m'/home/hadi/Documents/workspaces/svinet/bold_pearson_task-rest_sub-SLC_n128/real/p20'\u001b[0m\n"
      ]
     },
     "metadata": {},
     "output_type": "display_data"
    }
   ],
   "source": [
    "_p3"
   ]
  },
  {
   "cell_type": "code",
   "execution_count": 8,
   "id": "021ac206",
   "metadata": {},
   "outputs": [
    {
     "data": {
      "text/html": [
       "<pre style=\"white-space:pre;overflow-x:auto;line-height:normal;font-family:Menlo,'DejaVu Sans Mono',consolas,'Courier New',monospace\"><span style=\"font-weight: bold\">[</span><span style=\"color: #008000; text-decoration-color: #008000\">'p20.txt'</span><span style=\"font-weight: bold\">]</span>\n",
       "</pre>\n"
      ],
      "text/plain": [
       "\u001b[1m[\u001b[0m\u001b[32m'p20.txt'\u001b[0m\u001b[1m]\u001b[0m\n"
      ]
     },
     "metadata": {},
     "output_type": "display_data"
    }
   ],
   "source": [
    "files"
   ]
  },
  {
   "cell_type": "code",
   "execution_count": null,
   "id": "656e2466",
   "metadata": {},
   "outputs": [],
   "source": []
  },
  {
   "cell_type": "code",
   "execution_count": 4,
   "id": "defd9a2f",
   "metadata": {},
   "outputs": [],
   "source": [
    "_dir = '/home/hadi/Documents/workspaces/svinet_test'"
   ]
  },
  {
   "cell_type": "code",
   "execution_count": 5,
   "id": "1561326b",
   "metadata": {},
   "outputs": [
    {
     "data": {
      "text/html": [
       "<pre style=\"white-space:pre;overflow-x:auto;line-height:normal;font-family:Menlo,'DejaVu Sans Mono',consolas,'Courier New',monospace\">bold_pearson_task-rest_sub-SLC07_n128 real p00 <span style=\"color: #008080; text-decoration-color: #008080; font-weight: bold\">1000</span> <span style=\"color: #008080; text-decoration-color: #008080; font-weight: bold\">1</span>\n",
       "</pre>\n"
      ],
      "text/plain": [
       "bold_pearson_task-rest_sub-SLC07_n128 real p00 \u001b[1;36m1000\u001b[0m \u001b[1;36m1\u001b[0m\n"
      ]
     },
     "metadata": {},
     "output_type": "display_data"
    },
    {
     "data": {
      "text/html": [
       "<pre style=\"white-space:pre;overflow-x:auto;line-height:normal;font-family:Menlo,'DejaVu Sans Mono',consolas,'Courier New',monospace\">bold_pearson_task-rest_sub-SLC07_n128 real p20 <span style=\"color: #008080; text-decoration-color: #008080; font-weight: bold\">0</span> <span style=\"color: #008080; text-decoration-color: #008080; font-weight: bold\">1</span>\n",
       "</pre>\n"
      ],
      "text/plain": [
       "bold_pearson_task-rest_sub-SLC07_n128 real p20 \u001b[1;36m0\u001b[0m \u001b[1;36m1\u001b[0m\n"
      ]
     },
     "metadata": {},
     "output_type": "display_data"
    },
    {
     "data": {
      "text/html": [
       "<pre style=\"white-space:pre;overflow-x:auto;line-height:normal;font-family:Menlo,'DejaVu Sans Mono',consolas,'Courier New',monospace\">bold_pearson_task-rest_sub-SLC07_n128 real p21 <span style=\"color: #008080; text-decoration-color: #008080; font-weight: bold\">1000</span> <span style=\"color: #008080; text-decoration-color: #008080; font-weight: bold\">1</span>\n",
       "</pre>\n"
      ],
      "text/plain": [
       "bold_pearson_task-rest_sub-SLC07_n128 real p21 \u001b[1;36m1000\u001b[0m \u001b[1;36m1\u001b[0m\n"
      ]
     },
     "metadata": {},
     "output_type": "display_data"
    },
    {
     "data": {
      "text/html": [
       "<pre style=\"white-space:pre;overflow-x:auto;line-height:normal;font-family:Menlo,'DejaVu Sans Mono',consolas,'Courier New',monospace\">bold_pearson_task-rest_sub-SLC07_n128 real p22 <span style=\"color: #008080; text-decoration-color: #008080; font-weight: bold\">118</span> <span style=\"color: #008080; text-decoration-color: #008080; font-weight: bold\">1</span>\n",
       "</pre>\n"
      ],
      "text/plain": [
       "bold_pearson_task-rest_sub-SLC07_n128 real p22 \u001b[1;36m118\u001b[0m \u001b[1;36m1\u001b[0m\n"
      ]
     },
     "metadata": {},
     "output_type": "display_data"
    },
    {
     "data": {
      "text/html": [
       "<pre style=\"white-space:pre;overflow-x:auto;line-height:normal;font-family:Menlo,'DejaVu Sans Mono',consolas,'Courier New',monospace\">bold_pearson_task-rest_sub-SLC07_n128 real p23 <span style=\"color: #008080; text-decoration-color: #008080; font-weight: bold\">0</span> <span style=\"color: #008080; text-decoration-color: #008080; font-weight: bold\">1</span>\n",
       "</pre>\n"
      ],
      "text/plain": [
       "bold_pearson_task-rest_sub-SLC07_n128 real p23 \u001b[1;36m0\u001b[0m \u001b[1;36m1\u001b[0m\n"
      ]
     },
     "metadata": {},
     "output_type": "display_data"
    },
    {
     "data": {
      "text/html": [
       "<pre style=\"white-space:pre;overflow-x:auto;line-height:normal;font-family:Menlo,'DejaVu Sans Mono',consolas,'Courier New',monospace\">bold_pearson_task-rest_sub-SLC07_n128 real p24 <span style=\"color: #008080; text-decoration-color: #008080; font-weight: bold\">0</span> <span style=\"color: #008080; text-decoration-color: #008080; font-weight: bold\">1</span>\n",
       "</pre>\n"
      ],
      "text/plain": [
       "bold_pearson_task-rest_sub-SLC07_n128 real p24 \u001b[1;36m0\u001b[0m \u001b[1;36m1\u001b[0m\n"
      ]
     },
     "metadata": {},
     "output_type": "display_data"
    },
    {
     "data": {
      "text/html": [
       "<pre style=\"white-space:pre;overflow-x:auto;line-height:normal;font-family:Menlo,'DejaVu Sans Mono',consolas,'Courier New',monospace\">bold_pearson_task-rest_sub-SLC07_n128 real p25 <span style=\"color: #008080; text-decoration-color: #008080; font-weight: bold\">1000</span> <span style=\"color: #008080; text-decoration-color: #008080; font-weight: bold\">1</span>\n",
       "</pre>\n"
      ],
      "text/plain": [
       "bold_pearson_task-rest_sub-SLC07_n128 real p25 \u001b[1;36m1000\u001b[0m \u001b[1;36m1\u001b[0m\n"
      ]
     },
     "metadata": {},
     "output_type": "display_data"
    },
    {
     "data": {
      "text/html": [
       "<pre style=\"white-space:pre;overflow-x:auto;line-height:normal;font-family:Menlo,'DejaVu Sans Mono',consolas,'Courier New',monospace\">bold_pearson_task-rest_sub-SLC07_n128 real p26 <span style=\"color: #008080; text-decoration-color: #008080; font-weight: bold\">1000</span> <span style=\"color: #008080; text-decoration-color: #008080; font-weight: bold\">1</span>\n",
       "</pre>\n"
      ],
      "text/plain": [
       "bold_pearson_task-rest_sub-SLC07_n128 real p26 \u001b[1;36m1000\u001b[0m \u001b[1;36m1\u001b[0m\n"
      ]
     },
     "metadata": {},
     "output_type": "display_data"
    },
    {
     "data": {
      "text/html": [
       "<pre style=\"white-space:pre;overflow-x:auto;line-height:normal;font-family:Menlo,'DejaVu Sans Mono',consolas,'Courier New',monospace\">bold_pearson_task-rest_sub-SLC07_n128 real p27 <span style=\"color: #008080; text-decoration-color: #008080; font-weight: bold\">1000</span> <span style=\"color: #008080; text-decoration-color: #008080; font-weight: bold\">1</span>\n",
       "</pre>\n"
      ],
      "text/plain": [
       "bold_pearson_task-rest_sub-SLC07_n128 real p27 \u001b[1;36m1000\u001b[0m \u001b[1;36m1\u001b[0m\n"
      ]
     },
     "metadata": {},
     "output_type": "display_data"
    },
    {
     "data": {
      "text/html": [
       "<pre style=\"white-space:pre;overflow-x:auto;line-height:normal;font-family:Menlo,'DejaVu Sans Mono',consolas,'Courier New',monospace\">bold_pearson_task-rest_sub-SLC07_n128 real p28 <span style=\"color: #008080; text-decoration-color: #008080; font-weight: bold\">0</span> <span style=\"color: #008080; text-decoration-color: #008080; font-weight: bold\">1</span>\n",
       "</pre>\n"
      ],
      "text/plain": [
       "bold_pearson_task-rest_sub-SLC07_n128 real p28 \u001b[1;36m0\u001b[0m \u001b[1;36m1\u001b[0m\n"
      ]
     },
     "metadata": {},
     "output_type": "display_data"
    },
    {
     "data": {
      "text/html": [
       "<pre style=\"white-space:pre;overflow-x:auto;line-height:normal;font-family:Menlo,'DejaVu Sans Mono',consolas,'Courier New',monospace\">bold_pearson_task-rest_sub-SLC07_n128 real p29 <span style=\"color: #008080; text-decoration-color: #008080; font-weight: bold\">1000</span> <span style=\"color: #008080; text-decoration-color: #008080; font-weight: bold\">1</span>\n",
       "</pre>\n"
      ],
      "text/plain": [
       "bold_pearson_task-rest_sub-SLC07_n128 real p29 \u001b[1;36m1000\u001b[0m \u001b[1;36m1\u001b[0m\n"
      ]
     },
     "metadata": {},
     "output_type": "display_data"
    },
    {
     "data": {
      "text/html": [
       "<pre style=\"white-space:pre;overflow-x:auto;line-height:normal;font-family:Menlo,'DejaVu Sans Mono',consolas,'Courier New',monospace\">bold_pearson_task-rest_sub-SLC07_n128 real p63 <span style=\"color: #008080; text-decoration-color: #008080; font-weight: bold\">1000</span> <span style=\"color: #008080; text-decoration-color: #008080; font-weight: bold\">1</span>\n",
       "</pre>\n"
      ],
      "text/plain": [
       "bold_pearson_task-rest_sub-SLC07_n128 real p63 \u001b[1;36m1000\u001b[0m \u001b[1;36m1\u001b[0m\n"
      ]
     },
     "metadata": {},
     "output_type": "display_data"
    }
   ],
   "source": [
    "txt_paths = []\n",
    "\n",
    "for x1 in sorted(os.listdir(_dir)):\n",
    "    if f\"n{mice.cfg.n_cortex_regions}\" not in x1:\n",
    "        continue\n",
    "    _p1 = pjoin(_dir, x1)\n",
    "    for x2 in sorted(os.listdir(_p1)):\n",
    "        if x2 != 'real':\n",
    "            continue\n",
    "        _p2 = pjoin(_p1, x2)\n",
    "        for x3 in sorted(os.listdir(_p2)):\n",
    "            _p3 = pjoin(_p2, x3)\n",
    "            _, dirs, files = next(os.walk(_p3))\n",
    "            print(x1, x2, x3, len(dirs), len(files))\n",
    "            if int(x3[1:]) != 66:# in [20, 29]:\n",
    "                txt_paths.append(pjoin(_p3, next(x for x in os.listdir(_p3) if '.txt' in x)))"
   ]
  },
  {
   "cell_type": "code",
   "execution_count": 76,
   "id": "df912ae2",
   "metadata": {},
   "outputs": [
    {
     "data": {
      "text/html": [
       "<pre style=\"white-space:pre;overflow-x:auto;line-height:normal;font-family:Menlo,'DejaVu Sans Mono',consolas,'Courier New',monospace\"><span style=\"font-weight: bold\">[</span>\n",
       "    <span style=\"color: #008000; text-decoration-color: #008000\">'/home/hadi/Documents/workspaces/svinet_test/bold_pearson_task-rest_sub-SLC02_ses-1_n128/real/p20/p20.txt'</span>,\n",
       "    <span style=\"color: #008000; text-decoration-color: #008000\">'/home/hadi/Documents/workspaces/svinet_test/bold_pearson_task-rest_sub-SLC02_ses-1_n128/real/p21/p21.txt'</span>,\n",
       "    <span style=\"color: #008000; text-decoration-color: #008000\">'/home/hadi/Documents/workspaces/svinet_test/bold_pearson_task-rest_sub-SLC02_ses-1_n128/real/p22/p22.txt'</span>,\n",
       "    <span style=\"color: #008000; text-decoration-color: #008000\">'/home/hadi/Documents/workspaces/svinet_test/bold_pearson_task-rest_sub-SLC02_ses-1_n128/real/p23/p23.txt'</span>,\n",
       "    <span style=\"color: #008000; text-decoration-color: #008000\">'/home/hadi/Documents/workspaces/svinet_test/bold_pearson_task-rest_sub-SLC02_ses-1_n128/real/p24/p24.txt'</span>,\n",
       "    <span style=\"color: #008000; text-decoration-color: #008000\">'/home/hadi/Documents/workspaces/svinet_test/bold_pearson_task-rest_sub-SLC02_ses-1_n128/real/p25/p25.txt'</span>,\n",
       "    <span style=\"color: #008000; text-decoration-color: #008000\">'/home/hadi/Documents/workspaces/svinet_test/bold_pearson_task-rest_sub-SLC02_ses-1_n128/real/p26/p26.txt'</span>,\n",
       "    <span style=\"color: #008000; text-decoration-color: #008000\">'/home/hadi/Documents/workspaces/svinet_test/bold_pearson_task-rest_sub-SLC02_ses-1_n128/real/p27/p27.txt'</span>,\n",
       "    <span style=\"color: #008000; text-decoration-color: #008000\">'/home/hadi/Documents/workspaces/svinet_test/bold_pearson_task-rest_sub-SLC02_ses-1_n128/real/p28/p28.txt'</span>,\n",
       "    <span style=\"color: #008000; text-decoration-color: #008000\">'/home/hadi/Documents/workspaces/svinet_test/bold_pearson_task-rest_sub-SLC02_ses-1_n128/real/p29/p29.txt'</span>\n",
       "<span style=\"font-weight: bold\">]</span>\n",
       "</pre>\n"
      ],
      "text/plain": [
       "\u001b[1m[\u001b[0m\n",
       "    \u001b[32m'/home/hadi/Documents/workspaces/svinet_test/bold_pearson_task-rest_sub-SLC02_ses-1_n128/real/p20/p20.txt'\u001b[0m,\n",
       "    \u001b[32m'/home/hadi/Documents/workspaces/svinet_test/bold_pearson_task-rest_sub-SLC02_ses-1_n128/real/p21/p21.txt'\u001b[0m,\n",
       "    \u001b[32m'/home/hadi/Documents/workspaces/svinet_test/bold_pearson_task-rest_sub-SLC02_ses-1_n128/real/p22/p22.txt'\u001b[0m,\n",
       "    \u001b[32m'/home/hadi/Documents/workspaces/svinet_test/bold_pearson_task-rest_sub-SLC02_ses-1_n128/real/p23/p23.txt'\u001b[0m,\n",
       "    \u001b[32m'/home/hadi/Documents/workspaces/svinet_test/bold_pearson_task-rest_sub-SLC02_ses-1_n128/real/p24/p24.txt'\u001b[0m,\n",
       "    \u001b[32m'/home/hadi/Documents/workspaces/svinet_test/bold_pearson_task-rest_sub-SLC02_ses-1_n128/real/p25/p25.txt'\u001b[0m,\n",
       "    \u001b[32m'/home/hadi/Documents/workspaces/svinet_test/bold_pearson_task-rest_sub-SLC02_ses-1_n128/real/p26/p26.txt'\u001b[0m,\n",
       "    \u001b[32m'/home/hadi/Documents/workspaces/svinet_test/bold_pearson_task-rest_sub-SLC02_ses-1_n128/real/p27/p27.txt'\u001b[0m,\n",
       "    \u001b[32m'/home/hadi/Documents/workspaces/svinet_test/bold_pearson_task-rest_sub-SLC02_ses-1_n128/real/p28/p28.txt'\u001b[0m,\n",
       "    \u001b[32m'/home/hadi/Documents/workspaces/svinet_test/bold_pearson_task-rest_sub-SLC02_ses-1_n128/real/p29/p29.txt'\u001b[0m\n",
       "\u001b[1m]\u001b[0m\n"
      ]
     },
     "metadata": {},
     "output_type": "display_data"
    }
   ],
   "source": [
    "txt_paths"
   ]
  },
  {
   "cell_type": "code",
   "execution_count": 77,
   "id": "c9c6c209",
   "metadata": {},
   "outputs": [
    {
     "data": {
      "text/html": [
       "<pre style=\"white-space:pre;overflow-x:auto;line-height:normal;font-family:Menlo,'DejaVu Sans Mono',consolas,'Courier New',monospace\"><span style=\"color: #008000; text-decoration-color: #008000\">'/home/hadi/Documents/workspaces/svinet_test/bold_pearson_task-rest_sub-SLC02_ses-1_n128/real'</span>\n",
       "</pre>\n"
      ],
      "text/plain": [
       "\u001b[32m'/home/hadi/Documents/workspaces/svinet_test/bold_pearson_task-rest_sub-SLC02_ses-1_n128/real'\u001b[0m\n"
      ]
     },
     "metadata": {},
     "output_type": "display_data"
    }
   ],
   "source": [
    "_p2"
   ]
  },
  {
   "cell_type": "code",
   "execution_count": 78,
   "id": "c95b588f",
   "metadata": {},
   "outputs": [
    {
     "data": {
      "text/html": [
       "<pre style=\"white-space:pre;overflow-x:auto;line-height:normal;font-family:Menlo,'DejaVu Sans Mono',consolas,'Courier New',monospace\"><span style=\"color: #008000; text-decoration-color: #008000\">'p66'</span>\n",
       "</pre>\n"
      ],
      "text/plain": [
       "\u001b[32m'p66'\u001b[0m\n"
      ]
     },
     "metadata": {},
     "output_type": "display_data"
    }
   ],
   "source": [
    "x3"
   ]
  },
  {
   "cell_type": "code",
   "execution_count": null,
   "id": "2678db8a",
   "metadata": {},
   "outputs": [],
   "source": []
  },
  {
   "cell_type": "code",
   "execution_count": null,
   "id": "defc5cd4",
   "metadata": {},
   "outputs": [],
   "source": []
  },
  {
   "cell_type": "code",
   "execution_count": 102,
   "id": "f29920dd",
   "metadata": {},
   "outputs": [
    {
     "data": {
      "text/html": [
       "<pre style=\"white-space:pre;overflow-x:auto;line-height:normal;font-family:Menlo,'DejaVu Sans Mono',consolas,'Courier New',monospace\"><span style=\"color: #008080; text-decoration-color: #008080; font-weight: bold\">135</span>\n",
       "</pre>\n"
      ],
      "text/plain": [
       "\u001b[1;36m135\u001b[0m\n"
      ]
     },
     "metadata": {},
     "output_type": "display_data"
    },
    {
     "data": {
      "text/html": [
       "<pre style=\"white-space:pre;overflow-x:auto;line-height:normal;font-family:Menlo,'DejaVu Sans Mono',consolas,'Courier New',monospace\"><span style=\"color: #008080; text-decoration-color: #008080; font-weight: bold\">136</span>\n",
       "</pre>\n"
      ],
      "text/plain": [
       "\u001b[1;36m136\u001b[0m\n"
      ]
     },
     "metadata": {},
     "output_type": "display_data"
    },
    {
     "data": {
      "text/html": [
       "<pre style=\"white-space:pre;overflow-x:auto;line-height:normal;font-family:Menlo,'DejaVu Sans Mono',consolas,'Courier New',monospace\"><span style=\"color: #008080; text-decoration-color: #008080; font-weight: bold\">136</span>\n",
       "</pre>\n"
      ],
      "text/plain": [
       "\u001b[1;36m136\u001b[0m\n"
      ]
     },
     "metadata": {},
     "output_type": "display_data"
    },
    {
     "data": {
      "text/html": [
       "<pre style=\"white-space:pre;overflow-x:auto;line-height:normal;font-family:Menlo,'DejaVu Sans Mono',consolas,'Courier New',monospace\"><span style=\"color: #008080; text-decoration-color: #008080; font-weight: bold\">136</span>\n",
       "</pre>\n"
      ],
      "text/plain": [
       "\u001b[1;36m136\u001b[0m\n"
      ]
     },
     "metadata": {},
     "output_type": "display_data"
    },
    {
     "data": {
      "text/html": [
       "<pre style=\"white-space:pre;overflow-x:auto;line-height:normal;font-family:Menlo,'DejaVu Sans Mono',consolas,'Courier New',monospace\"><span style=\"color: #008080; text-decoration-color: #008080; font-weight: bold\">136</span>\n",
       "</pre>\n"
      ],
      "text/plain": [
       "\u001b[1;36m136\u001b[0m\n"
      ]
     },
     "metadata": {},
     "output_type": "display_data"
    },
    {
     "data": {
      "text/html": [
       "<pre style=\"white-space:pre;overflow-x:auto;line-height:normal;font-family:Menlo,'DejaVu Sans Mono',consolas,'Courier New',monospace\"><span style=\"color: #008080; text-decoration-color: #008080; font-weight: bold\">136</span>\n",
       "</pre>\n"
      ],
      "text/plain": [
       "\u001b[1;36m136\u001b[0m\n"
      ]
     },
     "metadata": {},
     "output_type": "display_data"
    },
    {
     "data": {
      "text/html": [
       "<pre style=\"white-space:pre;overflow-x:auto;line-height:normal;font-family:Menlo,'DejaVu Sans Mono',consolas,'Courier New',monospace\"><span style=\"color: #008080; text-decoration-color: #008080; font-weight: bold\">136</span>\n",
       "</pre>\n"
      ],
      "text/plain": [
       "\u001b[1;36m136\u001b[0m\n"
      ]
     },
     "metadata": {},
     "output_type": "display_data"
    },
    {
     "data": {
      "text/html": [
       "<pre style=\"white-space:pre;overflow-x:auto;line-height:normal;font-family:Menlo,'DejaVu Sans Mono',consolas,'Courier New',monospace\"><span style=\"color: #008080; text-decoration-color: #008080; font-weight: bold\">136</span>\n",
       "</pre>\n"
      ],
      "text/plain": [
       "\u001b[1;36m136\u001b[0m\n"
      ]
     },
     "metadata": {},
     "output_type": "display_data"
    },
    {
     "data": {
      "text/html": [
       "<pre style=\"white-space:pre;overflow-x:auto;line-height:normal;font-family:Menlo,'DejaVu Sans Mono',consolas,'Courier New',monospace\"><span style=\"color: #008080; text-decoration-color: #008080; font-weight: bold\">136</span>\n",
       "</pre>\n"
      ],
      "text/plain": [
       "\u001b[1;36m136\u001b[0m\n"
      ]
     },
     "metadata": {},
     "output_type": "display_data"
    },
    {
     "data": {
      "text/html": [
       "<pre style=\"white-space:pre;overflow-x:auto;line-height:normal;font-family:Menlo,'DejaVu Sans Mono',consolas,'Courier New',monospace\"><span style=\"color: #008080; text-decoration-color: #008080; font-weight: bold\">136</span>\n",
       "</pre>\n"
      ],
      "text/plain": [
       "\u001b[1;36m136\u001b[0m\n"
      ]
     },
     "metadata": {},
     "output_type": "display_data"
    }
   ],
   "source": [
    "def _sort_fn(x):\n",
    "    i, j = tuple(map(lambda x: int(x), x.replace('\\n', '').split('\\t')))\n",
    "    return j + 1e5 * i\n",
    "\n",
    "src_list = txt_paths\n",
    "\n",
    "lines = []\n",
    "for src in src_list:\n",
    "    with open(src, 'r') as s:\n",
    "        xxx = [int(l.split('\\t')[0]) for l in list(s)]\n",
    "        print(len(collections.Counter(xxx).most_common()))\n",
    "        lines += list(s)\n",
    "lines.sort(key=_sort_fn)\n",
    "\n",
    "# dst = pjoin(_p2, 'p00')\n",
    "# os.makedirs(dst, exist_ok=True)\n",
    "# with open(pjoin(dst, 'p00.txt'), 'w') as d:\n",
    "#     d.write(''.join(lines))"
   ]
  },
  {
   "cell_type": "code",
   "execution_count": 80,
   "id": "6366d4f3",
   "metadata": {},
   "outputs": [
    {
     "data": {
      "text/html": [
       "<pre style=\"white-space:pre;overflow-x:auto;line-height:normal;font-family:Menlo,'DejaVu Sans Mono',consolas,'Courier New',monospace\"><span style=\"color: #008080; text-decoration-color: #008080; font-weight: bold\">29698</span>\n",
       "</pre>\n"
      ],
      "text/plain": [
       "\u001b[1;36m29698\u001b[0m\n"
      ]
     },
     "metadata": {},
     "output_type": "display_data"
    }
   ],
   "source": [
    "len(lines)"
   ]
  },
  {
   "cell_type": "code",
   "execution_count": 81,
   "id": "62c161f9",
   "metadata": {},
   "outputs": [
    {
     "data": {
      "text/html": [
       "<pre style=\"white-space:pre;overflow-x:auto;line-height:normal;font-family:Menlo,'DejaVu Sans Mono',consolas,'Courier New',monospace\"><span style=\"color: #008000; text-decoration-color: #008000\">'/home/hadi/Documents/workspaces/svinet_test/bold_pearson_task-rest_sub-SLC02_ses-1_n128/real/p00'</span>\n",
       "</pre>\n"
      ],
      "text/plain": [
       "\u001b[32m'/home/hadi/Documents/workspaces/svinet_test/bold_pearson_task-rest_sub-SLC02_ses-1_n128/real/p00'\u001b[0m\n"
      ]
     },
     "metadata": {},
     "output_type": "display_data"
    }
   ],
   "source": [
    "dst"
   ]
  },
  {
   "cell_type": "code",
   "execution_count": null,
   "id": "b076e231",
   "metadata": {},
   "outputs": [],
   "source": []
  },
  {
   "cell_type": "code",
   "execution_count": 99,
   "id": "bd13536a",
   "metadata": {},
   "outputs": [
    {
     "data": {
      "text/html": [
       "<pre style=\"white-space:pre;overflow-x:auto;line-height:normal;font-family:Menlo,'DejaVu Sans Mono',consolas,'Courier New',monospace\"><span style=\"font-weight: bold\">[</span>\n",
       "    <span style=\"font-weight: bold\">(</span><span style=\"color: #008080; text-decoration-color: #008080; font-weight: bold\">5</span>, <span style=\"color: #008080; text-decoration-color: #008080; font-weight: bold\">512</span><span style=\"font-weight: bold\">)</span>,\n",
       "    <span style=\"font-weight: bold\">(</span><span style=\"color: #008080; text-decoration-color: #008080; font-weight: bold\">115</span>, <span style=\"color: #008080; text-decoration-color: #008080; font-weight: bold\">507</span><span style=\"font-weight: bold\">)</span>,\n",
       "    <span style=\"font-weight: bold\">(</span><span style=\"color: #008080; text-decoration-color: #008080; font-weight: bold\">110</span>, <span style=\"color: #008080; text-decoration-color: #008080; font-weight: bold\">482</span><span style=\"font-weight: bold\">)</span>,\n",
       "    <span style=\"font-weight: bold\">(</span><span style=\"color: #008080; text-decoration-color: #008080; font-weight: bold\">74</span>, <span style=\"color: #008080; text-decoration-color: #008080; font-weight: bold\">470</span><span style=\"font-weight: bold\">)</span>,\n",
       "    <span style=\"font-weight: bold\">(</span><span style=\"color: #008080; text-decoration-color: #008080; font-weight: bold\">26</span>, <span style=\"color: #008080; text-decoration-color: #008080; font-weight: bold\">463</span><span style=\"font-weight: bold\">)</span>,\n",
       "    <span style=\"font-weight: bold\">(</span><span style=\"color: #008080; text-decoration-color: #008080; font-weight: bold\">77</span>, <span style=\"color: #008080; text-decoration-color: #008080; font-weight: bold\">453</span><span style=\"font-weight: bold\">)</span>,\n",
       "    <span style=\"font-weight: bold\">(</span><span style=\"color: #008080; text-decoration-color: #008080; font-weight: bold\">18</span>, <span style=\"color: #008080; text-decoration-color: #008080; font-weight: bold\">449</span><span style=\"font-weight: bold\">)</span>,\n",
       "    <span style=\"font-weight: bold\">(</span><span style=\"color: #008080; text-decoration-color: #008080; font-weight: bold\">8</span>, <span style=\"color: #008080; text-decoration-color: #008080; font-weight: bold\">446</span><span style=\"font-weight: bold\">)</span>,\n",
       "    <span style=\"font-weight: bold\">(</span><span style=\"color: #008080; text-decoration-color: #008080; font-weight: bold\">32</span>, <span style=\"color: #008080; text-decoration-color: #008080; font-weight: bold\">446</span><span style=\"font-weight: bold\">)</span>,\n",
       "    <span style=\"font-weight: bold\">(</span><span style=\"color: #008080; text-decoration-color: #008080; font-weight: bold\">80</span>, <span style=\"color: #008080; text-decoration-color: #008080; font-weight: bold\">445</span><span style=\"font-weight: bold\">)</span>,\n",
       "    <span style=\"font-weight: bold\">(</span><span style=\"color: #008080; text-decoration-color: #008080; font-weight: bold\">89</span>, <span style=\"color: #008080; text-decoration-color: #008080; font-weight: bold\">442</span><span style=\"font-weight: bold\">)</span>,\n",
       "    <span style=\"font-weight: bold\">(</span><span style=\"color: #008080; text-decoration-color: #008080; font-weight: bold\">83</span>, <span style=\"color: #008080; text-decoration-color: #008080; font-weight: bold\">440</span><span style=\"font-weight: bold\">)</span>,\n",
       "    <span style=\"font-weight: bold\">(</span><span style=\"color: #008080; text-decoration-color: #008080; font-weight: bold\">23</span>, <span style=\"color: #008080; text-decoration-color: #008080; font-weight: bold\">437</span><span style=\"font-weight: bold\">)</span>,\n",
       "    <span style=\"font-weight: bold\">(</span><span style=\"color: #008080; text-decoration-color: #008080; font-weight: bold\">109</span>, <span style=\"color: #008080; text-decoration-color: #008080; font-weight: bold\">431</span><span style=\"font-weight: bold\">)</span>,\n",
       "    <span style=\"font-weight: bold\">(</span><span style=\"color: #008080; text-decoration-color: #008080; font-weight: bold\">20</span>, <span style=\"color: #008080; text-decoration-color: #008080; font-weight: bold\">427</span><span style=\"font-weight: bold\">)</span>,\n",
       "    <span style=\"font-weight: bold\">(</span><span style=\"color: #008080; text-decoration-color: #008080; font-weight: bold\">95</span>, <span style=\"color: #008080; text-decoration-color: #008080; font-weight: bold\">424</span><span style=\"font-weight: bold\">)</span>,\n",
       "    <span style=\"font-weight: bold\">(</span><span style=\"color: #008080; text-decoration-color: #008080; font-weight: bold\">53</span>, <span style=\"color: #008080; text-decoration-color: #008080; font-weight: bold\">418</span><span style=\"font-weight: bold\">)</span>,\n",
       "    <span style=\"font-weight: bold\">(</span><span style=\"color: #008080; text-decoration-color: #008080; font-weight: bold\">69</span>, <span style=\"color: #008080; text-decoration-color: #008080; font-weight: bold\">414</span><span style=\"font-weight: bold\">)</span>,\n",
       "    <span style=\"font-weight: bold\">(</span><span style=\"color: #008080; text-decoration-color: #008080; font-weight: bold\">14</span>, <span style=\"color: #008080; text-decoration-color: #008080; font-weight: bold\">412</span><span style=\"font-weight: bold\">)</span>,\n",
       "    <span style=\"font-weight: bold\">(</span><span style=\"color: #008080; text-decoration-color: #008080; font-weight: bold\">40</span>, <span style=\"color: #008080; text-decoration-color: #008080; font-weight: bold\">406</span><span style=\"font-weight: bold\">)</span>,\n",
       "    <span style=\"font-weight: bold\">(</span><span style=\"color: #008080; text-decoration-color: #008080; font-weight: bold\">104</span>, <span style=\"color: #008080; text-decoration-color: #008080; font-weight: bold\">401</span><span style=\"font-weight: bold\">)</span>,\n",
       "    <span style=\"font-weight: bold\">(</span><span style=\"color: #008080; text-decoration-color: #008080; font-weight: bold\">3</span>, <span style=\"color: #008080; text-decoration-color: #008080; font-weight: bold\">400</span><span style=\"font-weight: bold\">)</span>,\n",
       "    <span style=\"font-weight: bold\">(</span><span style=\"color: #008080; text-decoration-color: #008080; font-weight: bold\">29</span>, <span style=\"color: #008080; text-decoration-color: #008080; font-weight: bold\">398</span><span style=\"font-weight: bold\">)</span>,\n",
       "    <span style=\"font-weight: bold\">(</span><span style=\"color: #008080; text-decoration-color: #008080; font-weight: bold\">72</span>, <span style=\"color: #008080; text-decoration-color: #008080; font-weight: bold\">394</span><span style=\"font-weight: bold\">)</span>,\n",
       "    <span style=\"font-weight: bold\">(</span><span style=\"color: #008080; text-decoration-color: #008080; font-weight: bold\">27</span>, <span style=\"color: #008080; text-decoration-color: #008080; font-weight: bold\">391</span><span style=\"font-weight: bold\">)</span>,\n",
       "    <span style=\"font-weight: bold\">(</span><span style=\"color: #008080; text-decoration-color: #008080; font-weight: bold\">41</span>, <span style=\"color: #008080; text-decoration-color: #008080; font-weight: bold\">375</span><span style=\"font-weight: bold\">)</span>,\n",
       "    <span style=\"font-weight: bold\">(</span><span style=\"color: #008080; text-decoration-color: #008080; font-weight: bold\">11</span>, <span style=\"color: #008080; text-decoration-color: #008080; font-weight: bold\">356</span><span style=\"font-weight: bold\">)</span>,\n",
       "    <span style=\"font-weight: bold\">(</span><span style=\"color: #008080; text-decoration-color: #008080; font-weight: bold\">92</span>, <span style=\"color: #008080; text-decoration-color: #008080; font-weight: bold\">356</span><span style=\"font-weight: bold\">)</span>,\n",
       "    <span style=\"font-weight: bold\">(</span><span style=\"color: #008080; text-decoration-color: #008080; font-weight: bold\">102</span>, <span style=\"color: #008080; text-decoration-color: #008080; font-weight: bold\">352</span><span style=\"font-weight: bold\">)</span>,\n",
       "    <span style=\"font-weight: bold\">(</span><span style=\"color: #008080; text-decoration-color: #008080; font-weight: bold\">101</span>, <span style=\"color: #008080; text-decoration-color: #008080; font-weight: bold\">351</span><span style=\"font-weight: bold\">)</span>,\n",
       "    <span style=\"font-weight: bold\">(</span><span style=\"color: #008080; text-decoration-color: #008080; font-weight: bold\">31</span>, <span style=\"color: #008080; text-decoration-color: #008080; font-weight: bold\">349</span><span style=\"font-weight: bold\">)</span>,\n",
       "    <span style=\"font-weight: bold\">(</span><span style=\"color: #008080; text-decoration-color: #008080; font-weight: bold\">45</span>, <span style=\"color: #008080; text-decoration-color: #008080; font-weight: bold\">345</span><span style=\"font-weight: bold\">)</span>,\n",
       "    <span style=\"font-weight: bold\">(</span><span style=\"color: #008080; text-decoration-color: #008080; font-weight: bold\">25</span>, <span style=\"color: #008080; text-decoration-color: #008080; font-weight: bold\">339</span><span style=\"font-weight: bold\">)</span>,\n",
       "    <span style=\"font-weight: bold\">(</span><span style=\"color: #008080; text-decoration-color: #008080; font-weight: bold\">35</span>, <span style=\"color: #008080; text-decoration-color: #008080; font-weight: bold\">335</span><span style=\"font-weight: bold\">)</span>,\n",
       "    <span style=\"font-weight: bold\">(</span><span style=\"color: #008080; text-decoration-color: #008080; font-weight: bold\">100</span>, <span style=\"color: #008080; text-decoration-color: #008080; font-weight: bold\">330</span><span style=\"font-weight: bold\">)</span>,\n",
       "    <span style=\"font-weight: bold\">(</span><span style=\"color: #008080; text-decoration-color: #008080; font-weight: bold\">87</span>, <span style=\"color: #008080; text-decoration-color: #008080; font-weight: bold\">329</span><span style=\"font-weight: bold\">)</span>,\n",
       "    <span style=\"font-weight: bold\">(</span><span style=\"color: #008080; text-decoration-color: #008080; font-weight: bold\">48</span>, <span style=\"color: #008080; text-decoration-color: #008080; font-weight: bold\">323</span><span style=\"font-weight: bold\">)</span>,\n",
       "    <span style=\"font-weight: bold\">(</span><span style=\"color: #008080; text-decoration-color: #008080; font-weight: bold\">86</span>, <span style=\"color: #008080; text-decoration-color: #008080; font-weight: bold\">319</span><span style=\"font-weight: bold\">)</span>,\n",
       "    <span style=\"font-weight: bold\">(</span><span style=\"color: #008080; text-decoration-color: #008080; font-weight: bold\">97</span>, <span style=\"color: #008080; text-decoration-color: #008080; font-weight: bold\">307</span><span style=\"font-weight: bold\">)</span>,\n",
       "    <span style=\"font-weight: bold\">(</span><span style=\"color: #008080; text-decoration-color: #008080; font-weight: bold\">9</span>, <span style=\"color: #008080; text-decoration-color: #008080; font-weight: bold\">304</span><span style=\"font-weight: bold\">)</span>,\n",
       "    <span style=\"font-weight: bold\">(</span><span style=\"color: #008080; text-decoration-color: #008080; font-weight: bold\">91</span>, <span style=\"color: #008080; text-decoration-color: #008080; font-weight: bold\">304</span><span style=\"font-weight: bold\">)</span>,\n",
       "    <span style=\"font-weight: bold\">(</span><span style=\"color: #008080; text-decoration-color: #008080; font-weight: bold\">78</span>, <span style=\"color: #008080; text-decoration-color: #008080; font-weight: bold\">303</span><span style=\"font-weight: bold\">)</span>,\n",
       "    <span style=\"font-weight: bold\">(</span><span style=\"color: #008080; text-decoration-color: #008080; font-weight: bold\">114</span>, <span style=\"color: #008080; text-decoration-color: #008080; font-weight: bold\">287</span><span style=\"font-weight: bold\">)</span>,\n",
       "    <span style=\"font-weight: bold\">(</span><span style=\"color: #008080; text-decoration-color: #008080; font-weight: bold\">46</span>, <span style=\"color: #008080; text-decoration-color: #008080; font-weight: bold\">284</span><span style=\"font-weight: bold\">)</span>,\n",
       "    <span style=\"font-weight: bold\">(</span><span style=\"color: #008080; text-decoration-color: #008080; font-weight: bold\">112</span>, <span style=\"color: #008080; text-decoration-color: #008080; font-weight: bold\">284</span><span style=\"font-weight: bold\">)</span>,\n",
       "    <span style=\"font-weight: bold\">(</span><span style=\"color: #008080; text-decoration-color: #008080; font-weight: bold\">1</span>, <span style=\"color: #008080; text-decoration-color: #008080; font-weight: bold\">279</span><span style=\"font-weight: bold\">)</span>,\n",
       "    <span style=\"font-weight: bold\">(</span><span style=\"color: #008080; text-decoration-color: #008080; font-weight: bold\">60</span>, <span style=\"color: #008080; text-decoration-color: #008080; font-weight: bold\">270</span><span style=\"font-weight: bold\">)</span>,\n",
       "    <span style=\"font-weight: bold\">(</span><span style=\"color: #008080; text-decoration-color: #008080; font-weight: bold\">73</span>, <span style=\"color: #008080; text-decoration-color: #008080; font-weight: bold\">270</span><span style=\"font-weight: bold\">)</span>,\n",
       "    <span style=\"font-weight: bold\">(</span><span style=\"color: #008080; text-decoration-color: #008080; font-weight: bold\">133</span>, <span style=\"color: #008080; text-decoration-color: #008080; font-weight: bold\">258</span><span style=\"font-weight: bold\">)</span>,\n",
       "    <span style=\"font-weight: bold\">(</span><span style=\"color: #008080; text-decoration-color: #008080; font-weight: bold\">57</span>, <span style=\"color: #008080; text-decoration-color: #008080; font-weight: bold\">255</span><span style=\"font-weight: bold\">)</span>,\n",
       "    <span style=\"font-weight: bold\">(</span><span style=\"color: #008080; text-decoration-color: #008080; font-weight: bold\">98</span>, <span style=\"color: #008080; text-decoration-color: #008080; font-weight: bold\">254</span><span style=\"font-weight: bold\">)</span>,\n",
       "    <span style=\"font-weight: bold\">(</span><span style=\"color: #008080; text-decoration-color: #008080; font-weight: bold\">51</span>, <span style=\"color: #008080; text-decoration-color: #008080; font-weight: bold\">253</span><span style=\"font-weight: bold\">)</span>,\n",
       "    <span style=\"font-weight: bold\">(</span><span style=\"color: #008080; text-decoration-color: #008080; font-weight: bold\">88</span>, <span style=\"color: #008080; text-decoration-color: #008080; font-weight: bold\">253</span><span style=\"font-weight: bold\">)</span>,\n",
       "    <span style=\"font-weight: bold\">(</span><span style=\"color: #008080; text-decoration-color: #008080; font-weight: bold\">108</span>, <span style=\"color: #008080; text-decoration-color: #008080; font-weight: bold\">248</span><span style=\"font-weight: bold\">)</span>,\n",
       "    <span style=\"font-weight: bold\">(</span><span style=\"color: #008080; text-decoration-color: #008080; font-weight: bold\">61</span>, <span style=\"color: #008080; text-decoration-color: #008080; font-weight: bold\">238</span><span style=\"font-weight: bold\">)</span>,\n",
       "    <span style=\"font-weight: bold\">(</span><span style=\"color: #008080; text-decoration-color: #008080; font-weight: bold\">17</span>, <span style=\"color: #008080; text-decoration-color: #008080; font-weight: bold\">229</span><span style=\"font-weight: bold\">)</span>,\n",
       "    <span style=\"font-weight: bold\">(</span><span style=\"color: #008080; text-decoration-color: #008080; font-weight: bold\">59</span>, <span style=\"color: #008080; text-decoration-color: #008080; font-weight: bold\">228</span><span style=\"font-weight: bold\">)</span>,\n",
       "    <span style=\"font-weight: bold\">(</span><span style=\"color: #008080; text-decoration-color: #008080; font-weight: bold\">63</span>, <span style=\"color: #008080; text-decoration-color: #008080; font-weight: bold\">224</span><span style=\"font-weight: bold\">)</span>,\n",
       "    <span style=\"font-weight: bold\">(</span><span style=\"color: #008080; text-decoration-color: #008080; font-weight: bold\">4</span>, <span style=\"color: #008080; text-decoration-color: #008080; font-weight: bold\">220</span><span style=\"font-weight: bold\">)</span>,\n",
       "    <span style=\"font-weight: bold\">(</span><span style=\"color: #008080; text-decoration-color: #008080; font-weight: bold\">84</span>, <span style=\"color: #008080; text-decoration-color: #008080; font-weight: bold\">218</span><span style=\"font-weight: bold\">)</span>,\n",
       "    <span style=\"font-weight: bold\">(</span><span style=\"color: #008080; text-decoration-color: #008080; font-weight: bold\">70</span>, <span style=\"color: #008080; text-decoration-color: #008080; font-weight: bold\">217</span><span style=\"font-weight: bold\">)</span>,\n",
       "    <span style=\"font-weight: bold\">(</span><span style=\"color: #008080; text-decoration-color: #008080; font-weight: bold\">22</span>, <span style=\"color: #008080; text-decoration-color: #008080; font-weight: bold\">215</span><span style=\"font-weight: bold\">)</span>,\n",
       "    <span style=\"font-weight: bold\">(</span><span style=\"color: #008080; text-decoration-color: #008080; font-weight: bold\">111</span>, <span style=\"color: #008080; text-decoration-color: #008080; font-weight: bold\">215</span><span style=\"font-weight: bold\">)</span>,\n",
       "    <span style=\"font-weight: bold\">(</span><span style=\"color: #008080; text-decoration-color: #008080; font-weight: bold\">19</span>, <span style=\"color: #008080; text-decoration-color: #008080; font-weight: bold\">213</span><span style=\"font-weight: bold\">)</span>,\n",
       "    <span style=\"font-weight: bold\">(</span><span style=\"color: #008080; text-decoration-color: #008080; font-weight: bold\">106</span>, <span style=\"color: #008080; text-decoration-color: #008080; font-weight: bold\">213</span><span style=\"font-weight: bold\">)</span>,\n",
       "    <span style=\"font-weight: bold\">(</span><span style=\"color: #008080; text-decoration-color: #008080; font-weight: bold\">15</span>, <span style=\"color: #008080; text-decoration-color: #008080; font-weight: bold\">212</span><span style=\"font-weight: bold\">)</span>,\n",
       "    <span style=\"font-weight: bold\">(</span><span style=\"color: #008080; text-decoration-color: #008080; font-weight: bold\">76</span>, <span style=\"color: #008080; text-decoration-color: #008080; font-weight: bold\">209</span><span style=\"font-weight: bold\">)</span>,\n",
       "    <span style=\"font-weight: bold\">(</span><span style=\"color: #008080; text-decoration-color: #008080; font-weight: bold\">96</span>, <span style=\"color: #008080; text-decoration-color: #008080; font-weight: bold\">208</span><span style=\"font-weight: bold\">)</span>,\n",
       "    <span style=\"font-weight: bold\">(</span><span style=\"color: #008080; text-decoration-color: #008080; font-weight: bold\">127</span>, <span style=\"color: #008080; text-decoration-color: #008080; font-weight: bold\">206</span><span style=\"font-weight: bold\">)</span>,\n",
       "    <span style=\"font-weight: bold\">(</span><span style=\"color: #008080; text-decoration-color: #008080; font-weight: bold\">124</span>, <span style=\"color: #008080; text-decoration-color: #008080; font-weight: bold\">205</span><span style=\"font-weight: bold\">)</span>,\n",
       "    <span style=\"font-weight: bold\">(</span><span style=\"color: #008080; text-decoration-color: #008080; font-weight: bold\">62</span>, <span style=\"color: #008080; text-decoration-color: #008080; font-weight: bold\">203</span><span style=\"font-weight: bold\">)</span>,\n",
       "    <span style=\"font-weight: bold\">(</span><span style=\"color: #008080; text-decoration-color: #008080; font-weight: bold\">129</span>, <span style=\"color: #008080; text-decoration-color: #008080; font-weight: bold\">200</span><span style=\"font-weight: bold\">)</span>,\n",
       "    <span style=\"font-weight: bold\">(</span><span style=\"color: #008080; text-decoration-color: #008080; font-weight: bold\">10</span>, <span style=\"color: #008080; text-decoration-color: #008080; font-weight: bold\">196</span><span style=\"font-weight: bold\">)</span>,\n",
       "    <span style=\"font-weight: bold\">(</span><span style=\"color: #008080; text-decoration-color: #008080; font-weight: bold\">39</span>, <span style=\"color: #008080; text-decoration-color: #008080; font-weight: bold\">195</span><span style=\"font-weight: bold\">)</span>,\n",
       "    <span style=\"font-weight: bold\">(</span><span style=\"color: #008080; text-decoration-color: #008080; font-weight: bold\">130</span>, <span style=\"color: #008080; text-decoration-color: #008080; font-weight: bold\">189</span><span style=\"font-weight: bold\">)</span>,\n",
       "    <span style=\"font-weight: bold\">(</span><span style=\"color: #008080; text-decoration-color: #008080; font-weight: bold\">85</span>, <span style=\"color: #008080; text-decoration-color: #008080; font-weight: bold\">188</span><span style=\"font-weight: bold\">)</span>,\n",
       "    <span style=\"font-weight: bold\">(</span><span style=\"color: #008080; text-decoration-color: #008080; font-weight: bold\">55</span>, <span style=\"color: #008080; text-decoration-color: #008080; font-weight: bold\">185</span><span style=\"font-weight: bold\">)</span>,\n",
       "    <span style=\"font-weight: bold\">(</span><span style=\"color: #008080; text-decoration-color: #008080; font-weight: bold\">58</span>, <span style=\"color: #008080; text-decoration-color: #008080; font-weight: bold\">185</span><span style=\"font-weight: bold\">)</span>,\n",
       "    <span style=\"font-weight: bold\">(</span><span style=\"color: #008080; text-decoration-color: #008080; font-weight: bold\">128</span>, <span style=\"color: #008080; text-decoration-color: #008080; font-weight: bold\">185</span><span style=\"font-weight: bold\">)</span>,\n",
       "    <span style=\"font-weight: bold\">(</span><span style=\"color: #008080; text-decoration-color: #008080; font-weight: bold\">0</span>, <span style=\"color: #008080; text-decoration-color: #008080; font-weight: bold\">179</span><span style=\"font-weight: bold\">)</span>,\n",
       "    <span style=\"font-weight: bold\">(</span><span style=\"color: #008080; text-decoration-color: #008080; font-weight: bold\">117</span>, <span style=\"color: #008080; text-decoration-color: #008080; font-weight: bold\">179</span><span style=\"font-weight: bold\">)</span>,\n",
       "    <span style=\"font-weight: bold\">(</span><span style=\"color: #008080; text-decoration-color: #008080; font-weight: bold\">132</span>, <span style=\"color: #008080; text-decoration-color: #008080; font-weight: bold\">175</span><span style=\"font-weight: bold\">)</span>,\n",
       "    <span style=\"font-weight: bold\">(</span><span style=\"color: #008080; text-decoration-color: #008080; font-weight: bold\">126</span>, <span style=\"color: #008080; text-decoration-color: #008080; font-weight: bold\">170</span><span style=\"font-weight: bold\">)</span>,\n",
       "    <span style=\"font-weight: bold\">(</span><span style=\"color: #008080; text-decoration-color: #008080; font-weight: bold\">131</span>, <span style=\"color: #008080; text-decoration-color: #008080; font-weight: bold\">170</span><span style=\"font-weight: bold\">)</span>,\n",
       "    <span style=\"font-weight: bold\">(</span><span style=\"color: #008080; text-decoration-color: #008080; font-weight: bold\">79</span>, <span style=\"color: #008080; text-decoration-color: #008080; font-weight: bold\">164</span><span style=\"font-weight: bold\">)</span>,\n",
       "    <span style=\"font-weight: bold\">(</span><span style=\"color: #008080; text-decoration-color: #008080; font-weight: bold\">94</span>, <span style=\"color: #008080; text-decoration-color: #008080; font-weight: bold\">161</span><span style=\"font-weight: bold\">)</span>,\n",
       "    <span style=\"font-weight: bold\">(</span><span style=\"color: #008080; text-decoration-color: #008080; font-weight: bold\">120</span>, <span style=\"color: #008080; text-decoration-color: #008080; font-weight: bold\">158</span><span style=\"font-weight: bold\">)</span>,\n",
       "    <span style=\"font-weight: bold\">(</span><span style=\"color: #008080; text-decoration-color: #008080; font-weight: bold\">42</span>, <span style=\"color: #008080; text-decoration-color: #008080; font-weight: bold\">146</span><span style=\"font-weight: bold\">)</span>,\n",
       "    <span style=\"font-weight: bold\">(</span><span style=\"color: #008080; text-decoration-color: #008080; font-weight: bold\">37</span>, <span style=\"color: #008080; text-decoration-color: #008080; font-weight: bold\">144</span><span style=\"font-weight: bold\">)</span>,\n",
       "    <span style=\"font-weight: bold\">(</span><span style=\"color: #008080; text-decoration-color: #008080; font-weight: bold\">43</span>, <span style=\"color: #008080; text-decoration-color: #008080; font-weight: bold\">139</span><span style=\"font-weight: bold\">)</span>,\n",
       "    <span style=\"font-weight: bold\">(</span><span style=\"color: #008080; text-decoration-color: #008080; font-weight: bold\">47</span>, <span style=\"color: #008080; text-decoration-color: #008080; font-weight: bold\">139</span><span style=\"font-weight: bold\">)</span>,\n",
       "    <span style=\"font-weight: bold\">(</span><span style=\"color: #008080; text-decoration-color: #008080; font-weight: bold\">122</span>, <span style=\"color: #008080; text-decoration-color: #008080; font-weight: bold\">137</span><span style=\"font-weight: bold\">)</span>,\n",
       "    <span style=\"font-weight: bold\">(</span><span style=\"color: #008080; text-decoration-color: #008080; font-weight: bold\">75</span>, <span style=\"color: #008080; text-decoration-color: #008080; font-weight: bold\">122</span><span style=\"font-weight: bold\">)</span>,\n",
       "    <span style=\"font-weight: bold\">(</span><span style=\"color: #008080; text-decoration-color: #008080; font-weight: bold\">2</span>, <span style=\"color: #008080; text-decoration-color: #008080; font-weight: bold\">116</span><span style=\"font-weight: bold\">)</span>,\n",
       "    <span style=\"font-weight: bold\">(</span><span style=\"color: #008080; text-decoration-color: #008080; font-weight: bold\">16</span>, <span style=\"color: #008080; text-decoration-color: #008080; font-weight: bold\">114</span><span style=\"font-weight: bold\">)</span>,\n",
       "    <span style=\"font-weight: bold\">(</span><span style=\"color: #008080; text-decoration-color: #008080; font-weight: bold\">38</span>, <span style=\"color: #008080; text-decoration-color: #008080; font-weight: bold\">114</span><span style=\"font-weight: bold\">)</span>,\n",
       "    <span style=\"font-weight: bold\">(</span><span style=\"color: #008080; text-decoration-color: #008080; font-weight: bold\">99</span>, <span style=\"color: #008080; text-decoration-color: #008080; font-weight: bold\">114</span><span style=\"font-weight: bold\">)</span>,\n",
       "    <span style=\"font-weight: bold\">(</span><span style=\"color: #008080; text-decoration-color: #008080; font-weight: bold\">54</span>, <span style=\"color: #008080; text-decoration-color: #008080; font-weight: bold\">101</span><span style=\"font-weight: bold\">)</span>,\n",
       "    <span style=\"font-weight: bold\">(</span><span style=\"color: #008080; text-decoration-color: #008080; font-weight: bold\">36</span>, <span style=\"color: #008080; text-decoration-color: #008080; font-weight: bold\">96</span><span style=\"font-weight: bold\">)</span>,\n",
       "    <span style=\"font-weight: bold\">(</span><span style=\"color: #008080; text-decoration-color: #008080; font-weight: bold\">71</span>, <span style=\"color: #008080; text-decoration-color: #008080; font-weight: bold\">96</span><span style=\"font-weight: bold\">)</span>,\n",
       "    <span style=\"font-weight: bold\">(</span><span style=\"color: #008080; text-decoration-color: #008080; font-weight: bold\">56</span>, <span style=\"color: #008080; text-decoration-color: #008080; font-weight: bold\">94</span><span style=\"font-weight: bold\">)</span>,\n",
       "    <span style=\"font-weight: bold\">(</span><span style=\"color: #008080; text-decoration-color: #008080; font-weight: bold\">103</span>, <span style=\"color: #008080; text-decoration-color: #008080; font-weight: bold\">89</span><span style=\"font-weight: bold\">)</span>,\n",
       "    <span style=\"font-weight: bold\">(</span><span style=\"color: #008080; text-decoration-color: #008080; font-weight: bold\">44</span>, <span style=\"color: #008080; text-decoration-color: #008080; font-weight: bold\">86</span><span style=\"font-weight: bold\">)</span>,\n",
       "    <span style=\"font-weight: bold\">(</span><span style=\"color: #008080; text-decoration-color: #008080; font-weight: bold\">105</span>, <span style=\"color: #008080; text-decoration-color: #008080; font-weight: bold\">83</span><span style=\"font-weight: bold\">)</span>,\n",
       "    <span style=\"font-weight: bold\">(</span><span style=\"color: #008080; text-decoration-color: #008080; font-weight: bold\">113</span>, <span style=\"color: #008080; text-decoration-color: #008080; font-weight: bold\">74</span><span style=\"font-weight: bold\">)</span>,\n",
       "    <span style=\"font-weight: bold\">(</span><span style=\"color: #008080; text-decoration-color: #008080; font-weight: bold\">65</span>, <span style=\"color: #008080; text-decoration-color: #008080; font-weight: bold\">69</span><span style=\"font-weight: bold\">)</span>,\n",
       "    <span style=\"font-weight: bold\">(</span><span style=\"color: #008080; text-decoration-color: #008080; font-weight: bold\">116</span>, <span style=\"color: #008080; text-decoration-color: #008080; font-weight: bold\">69</span><span style=\"font-weight: bold\">)</span>,\n",
       "    <span style=\"font-weight: bold\">(</span><span style=\"color: #008080; text-decoration-color: #008080; font-weight: bold\">28</span>, <span style=\"color: #008080; text-decoration-color: #008080; font-weight: bold\">67</span><span style=\"font-weight: bold\">)</span>,\n",
       "    <span style=\"font-weight: bold\">(</span><span style=\"color: #008080; text-decoration-color: #008080; font-weight: bold\">107</span>, <span style=\"color: #008080; text-decoration-color: #008080; font-weight: bold\">67</span><span style=\"font-weight: bold\">)</span>,\n",
       "    <span style=\"font-weight: bold\">(</span><span style=\"color: #008080; text-decoration-color: #008080; font-weight: bold\">66</span>, <span style=\"color: #008080; text-decoration-color: #008080; font-weight: bold\">64</span><span style=\"font-weight: bold\">)</span>,\n",
       "    <span style=\"font-weight: bold\">(</span><span style=\"color: #008080; text-decoration-color: #008080; font-weight: bold\">121</span>, <span style=\"color: #008080; text-decoration-color: #008080; font-weight: bold\">64</span><span style=\"font-weight: bold\">)</span>,\n",
       "    <span style=\"font-weight: bold\">(</span><span style=\"color: #008080; text-decoration-color: #008080; font-weight: bold\">68</span>, <span style=\"color: #008080; text-decoration-color: #008080; font-weight: bold\">62</span><span style=\"font-weight: bold\">)</span>,\n",
       "    <span style=\"font-weight: bold\">(</span><span style=\"color: #008080; text-decoration-color: #008080; font-weight: bold\">90</span>, <span style=\"color: #008080; text-decoration-color: #008080; font-weight: bold\">60</span><span style=\"font-weight: bold\">)</span>,\n",
       "    <span style=\"font-weight: bold\">(</span><span style=\"color: #008080; text-decoration-color: #008080; font-weight: bold\">33</span>, <span style=\"color: #008080; text-decoration-color: #008080; font-weight: bold\">58</span><span style=\"font-weight: bold\">)</span>,\n",
       "    <span style=\"font-weight: bold\">(</span><span style=\"color: #008080; text-decoration-color: #008080; font-weight: bold\">52</span>, <span style=\"color: #008080; text-decoration-color: #008080; font-weight: bold\">58</span><span style=\"font-weight: bold\">)</span>,\n",
       "    <span style=\"font-weight: bold\">(</span><span style=\"color: #008080; text-decoration-color: #008080; font-weight: bold\">64</span>, <span style=\"color: #008080; text-decoration-color: #008080; font-weight: bold\">53</span><span style=\"font-weight: bold\">)</span>,\n",
       "    <span style=\"font-weight: bold\">(</span><span style=\"color: #008080; text-decoration-color: #008080; font-weight: bold\">119</span>, <span style=\"color: #008080; text-decoration-color: #008080; font-weight: bold\">52</span><span style=\"font-weight: bold\">)</span>,\n",
       "    <span style=\"font-weight: bold\">(</span><span style=\"color: #008080; text-decoration-color: #008080; font-weight: bold\">123</span>, <span style=\"color: #008080; text-decoration-color: #008080; font-weight: bold\">50</span><span style=\"font-weight: bold\">)</span>,\n",
       "    <span style=\"font-weight: bold\">(</span><span style=\"color: #008080; text-decoration-color: #008080; font-weight: bold\">50</span>, <span style=\"color: #008080; text-decoration-color: #008080; font-weight: bold\">49</span><span style=\"font-weight: bold\">)</span>,\n",
       "    <span style=\"font-weight: bold\">(</span><span style=\"color: #008080; text-decoration-color: #008080; font-weight: bold\">30</span>, <span style=\"color: #008080; text-decoration-color: #008080; font-weight: bold\">46</span><span style=\"font-weight: bold\">)</span>,\n",
       "    <span style=\"font-weight: bold\">(</span><span style=\"color: #008080; text-decoration-color: #008080; font-weight: bold\">93</span>, <span style=\"color: #008080; text-decoration-color: #008080; font-weight: bold\">46</span><span style=\"font-weight: bold\">)</span>,\n",
       "    <span style=\"font-weight: bold\">(</span><span style=\"color: #008080; text-decoration-color: #008080; font-weight: bold\">67</span>, <span style=\"color: #008080; text-decoration-color: #008080; font-weight: bold\">39</span><span style=\"font-weight: bold\">)</span>,\n",
       "    <span style=\"font-weight: bold\">(</span><span style=\"color: #008080; text-decoration-color: #008080; font-weight: bold\">82</span>, <span style=\"color: #008080; text-decoration-color: #008080; font-weight: bold\">38</span><span style=\"font-weight: bold\">)</span>,\n",
       "    <span style=\"font-weight: bold\">(</span><span style=\"color: #008080; text-decoration-color: #008080; font-weight: bold\">81</span>, <span style=\"color: #008080; text-decoration-color: #008080; font-weight: bold\">37</span><span style=\"font-weight: bold\">)</span>,\n",
       "    <span style=\"font-weight: bold\">(</span><span style=\"color: #008080; text-decoration-color: #008080; font-weight: bold\">134</span>, <span style=\"color: #008080; text-decoration-color: #008080; font-weight: bold\">37</span><span style=\"font-weight: bold\">)</span>,\n",
       "    <span style=\"font-weight: bold\">(</span><span style=\"color: #008080; text-decoration-color: #008080; font-weight: bold\">24</span>, <span style=\"color: #008080; text-decoration-color: #008080; font-weight: bold\">36</span><span style=\"font-weight: bold\">)</span>,\n",
       "    <span style=\"font-weight: bold\">(</span><span style=\"color: #008080; text-decoration-color: #008080; font-weight: bold\">118</span>, <span style=\"color: #008080; text-decoration-color: #008080; font-weight: bold\">35</span><span style=\"font-weight: bold\">)</span>,\n",
       "    <span style=\"font-weight: bold\">(</span><span style=\"color: #008080; text-decoration-color: #008080; font-weight: bold\">34</span>, <span style=\"color: #008080; text-decoration-color: #008080; font-weight: bold\">31</span><span style=\"font-weight: bold\">)</span>,\n",
       "    <span style=\"font-weight: bold\">(</span><span style=\"color: #008080; text-decoration-color: #008080; font-weight: bold\">136</span>, <span style=\"color: #008080; text-decoration-color: #008080; font-weight: bold\">30</span><span style=\"font-weight: bold\">)</span>,\n",
       "    <span style=\"font-weight: bold\">(</span><span style=\"color: #008080; text-decoration-color: #008080; font-weight: bold\">6</span>, <span style=\"color: #008080; text-decoration-color: #008080; font-weight: bold\">28</span><span style=\"font-weight: bold\">)</span>,\n",
       "    <span style=\"font-weight: bold\">(</span><span style=\"color: #008080; text-decoration-color: #008080; font-weight: bold\">135</span>, <span style=\"color: #008080; text-decoration-color: #008080; font-weight: bold\">27</span><span style=\"font-weight: bold\">)</span>,\n",
       "    <span style=\"font-weight: bold\">(</span><span style=\"color: #008080; text-decoration-color: #008080; font-weight: bold\">49</span>, <span style=\"color: #008080; text-decoration-color: #008080; font-weight: bold\">23</span><span style=\"font-weight: bold\">)</span>,\n",
       "    <span style=\"font-weight: bold\">(</span><span style=\"color: #008080; text-decoration-color: #008080; font-weight: bold\">7</span>, <span style=\"color: #008080; text-decoration-color: #008080; font-weight: bold\">21</span><span style=\"font-weight: bold\">)</span>,\n",
       "    <span style=\"font-weight: bold\">(</span><span style=\"color: #008080; text-decoration-color: #008080; font-weight: bold\">21</span>, <span style=\"color: #008080; text-decoration-color: #008080; font-weight: bold\">18</span><span style=\"font-weight: bold\">)</span>,\n",
       "    <span style=\"font-weight: bold\">(</span><span style=\"color: #008080; text-decoration-color: #008080; font-weight: bold\">13</span>, <span style=\"color: #008080; text-decoration-color: #008080; font-weight: bold\">15</span><span style=\"font-weight: bold\">)</span>,\n",
       "    <span style=\"font-weight: bold\">(</span><span style=\"color: #008080; text-decoration-color: #008080; font-weight: bold\">137</span>, <span style=\"color: #008080; text-decoration-color: #008080; font-weight: bold\">13</span><span style=\"font-weight: bold\">)</span>\n",
       "<span style=\"font-weight: bold\">]</span>\n",
       "</pre>\n"
      ],
      "text/plain": [
       "\u001b[1m[\u001b[0m\n",
       "    \u001b[1m(\u001b[0m\u001b[1;36m5\u001b[0m, \u001b[1;36m512\u001b[0m\u001b[1m)\u001b[0m,\n",
       "    \u001b[1m(\u001b[0m\u001b[1;36m115\u001b[0m, \u001b[1;36m507\u001b[0m\u001b[1m)\u001b[0m,\n",
       "    \u001b[1m(\u001b[0m\u001b[1;36m110\u001b[0m, \u001b[1;36m482\u001b[0m\u001b[1m)\u001b[0m,\n",
       "    \u001b[1m(\u001b[0m\u001b[1;36m74\u001b[0m, \u001b[1;36m470\u001b[0m\u001b[1m)\u001b[0m,\n",
       "    \u001b[1m(\u001b[0m\u001b[1;36m26\u001b[0m, \u001b[1;36m463\u001b[0m\u001b[1m)\u001b[0m,\n",
       "    \u001b[1m(\u001b[0m\u001b[1;36m77\u001b[0m, \u001b[1;36m453\u001b[0m\u001b[1m)\u001b[0m,\n",
       "    \u001b[1m(\u001b[0m\u001b[1;36m18\u001b[0m, \u001b[1;36m449\u001b[0m\u001b[1m)\u001b[0m,\n",
       "    \u001b[1m(\u001b[0m\u001b[1;36m8\u001b[0m, \u001b[1;36m446\u001b[0m\u001b[1m)\u001b[0m,\n",
       "    \u001b[1m(\u001b[0m\u001b[1;36m32\u001b[0m, \u001b[1;36m446\u001b[0m\u001b[1m)\u001b[0m,\n",
       "    \u001b[1m(\u001b[0m\u001b[1;36m80\u001b[0m, \u001b[1;36m445\u001b[0m\u001b[1m)\u001b[0m,\n",
       "    \u001b[1m(\u001b[0m\u001b[1;36m89\u001b[0m, \u001b[1;36m442\u001b[0m\u001b[1m)\u001b[0m,\n",
       "    \u001b[1m(\u001b[0m\u001b[1;36m83\u001b[0m, \u001b[1;36m440\u001b[0m\u001b[1m)\u001b[0m,\n",
       "    \u001b[1m(\u001b[0m\u001b[1;36m23\u001b[0m, \u001b[1;36m437\u001b[0m\u001b[1m)\u001b[0m,\n",
       "    \u001b[1m(\u001b[0m\u001b[1;36m109\u001b[0m, \u001b[1;36m431\u001b[0m\u001b[1m)\u001b[0m,\n",
       "    \u001b[1m(\u001b[0m\u001b[1;36m20\u001b[0m, \u001b[1;36m427\u001b[0m\u001b[1m)\u001b[0m,\n",
       "    \u001b[1m(\u001b[0m\u001b[1;36m95\u001b[0m, \u001b[1;36m424\u001b[0m\u001b[1m)\u001b[0m,\n",
       "    \u001b[1m(\u001b[0m\u001b[1;36m53\u001b[0m, \u001b[1;36m418\u001b[0m\u001b[1m)\u001b[0m,\n",
       "    \u001b[1m(\u001b[0m\u001b[1;36m69\u001b[0m, \u001b[1;36m414\u001b[0m\u001b[1m)\u001b[0m,\n",
       "    \u001b[1m(\u001b[0m\u001b[1;36m14\u001b[0m, \u001b[1;36m412\u001b[0m\u001b[1m)\u001b[0m,\n",
       "    \u001b[1m(\u001b[0m\u001b[1;36m40\u001b[0m, \u001b[1;36m406\u001b[0m\u001b[1m)\u001b[0m,\n",
       "    \u001b[1m(\u001b[0m\u001b[1;36m104\u001b[0m, \u001b[1;36m401\u001b[0m\u001b[1m)\u001b[0m,\n",
       "    \u001b[1m(\u001b[0m\u001b[1;36m3\u001b[0m, \u001b[1;36m400\u001b[0m\u001b[1m)\u001b[0m,\n",
       "    \u001b[1m(\u001b[0m\u001b[1;36m29\u001b[0m, \u001b[1;36m398\u001b[0m\u001b[1m)\u001b[0m,\n",
       "    \u001b[1m(\u001b[0m\u001b[1;36m72\u001b[0m, \u001b[1;36m394\u001b[0m\u001b[1m)\u001b[0m,\n",
       "    \u001b[1m(\u001b[0m\u001b[1;36m27\u001b[0m, \u001b[1;36m391\u001b[0m\u001b[1m)\u001b[0m,\n",
       "    \u001b[1m(\u001b[0m\u001b[1;36m41\u001b[0m, \u001b[1;36m375\u001b[0m\u001b[1m)\u001b[0m,\n",
       "    \u001b[1m(\u001b[0m\u001b[1;36m11\u001b[0m, \u001b[1;36m356\u001b[0m\u001b[1m)\u001b[0m,\n",
       "    \u001b[1m(\u001b[0m\u001b[1;36m92\u001b[0m, \u001b[1;36m356\u001b[0m\u001b[1m)\u001b[0m,\n",
       "    \u001b[1m(\u001b[0m\u001b[1;36m102\u001b[0m, \u001b[1;36m352\u001b[0m\u001b[1m)\u001b[0m,\n",
       "    \u001b[1m(\u001b[0m\u001b[1;36m101\u001b[0m, \u001b[1;36m351\u001b[0m\u001b[1m)\u001b[0m,\n",
       "    \u001b[1m(\u001b[0m\u001b[1;36m31\u001b[0m, \u001b[1;36m349\u001b[0m\u001b[1m)\u001b[0m,\n",
       "    \u001b[1m(\u001b[0m\u001b[1;36m45\u001b[0m, \u001b[1;36m345\u001b[0m\u001b[1m)\u001b[0m,\n",
       "    \u001b[1m(\u001b[0m\u001b[1;36m25\u001b[0m, \u001b[1;36m339\u001b[0m\u001b[1m)\u001b[0m,\n",
       "    \u001b[1m(\u001b[0m\u001b[1;36m35\u001b[0m, \u001b[1;36m335\u001b[0m\u001b[1m)\u001b[0m,\n",
       "    \u001b[1m(\u001b[0m\u001b[1;36m100\u001b[0m, \u001b[1;36m330\u001b[0m\u001b[1m)\u001b[0m,\n",
       "    \u001b[1m(\u001b[0m\u001b[1;36m87\u001b[0m, \u001b[1;36m329\u001b[0m\u001b[1m)\u001b[0m,\n",
       "    \u001b[1m(\u001b[0m\u001b[1;36m48\u001b[0m, \u001b[1;36m323\u001b[0m\u001b[1m)\u001b[0m,\n",
       "    \u001b[1m(\u001b[0m\u001b[1;36m86\u001b[0m, \u001b[1;36m319\u001b[0m\u001b[1m)\u001b[0m,\n",
       "    \u001b[1m(\u001b[0m\u001b[1;36m97\u001b[0m, \u001b[1;36m307\u001b[0m\u001b[1m)\u001b[0m,\n",
       "    \u001b[1m(\u001b[0m\u001b[1;36m9\u001b[0m, \u001b[1;36m304\u001b[0m\u001b[1m)\u001b[0m,\n",
       "    \u001b[1m(\u001b[0m\u001b[1;36m91\u001b[0m, \u001b[1;36m304\u001b[0m\u001b[1m)\u001b[0m,\n",
       "    \u001b[1m(\u001b[0m\u001b[1;36m78\u001b[0m, \u001b[1;36m303\u001b[0m\u001b[1m)\u001b[0m,\n",
       "    \u001b[1m(\u001b[0m\u001b[1;36m114\u001b[0m, \u001b[1;36m287\u001b[0m\u001b[1m)\u001b[0m,\n",
       "    \u001b[1m(\u001b[0m\u001b[1;36m46\u001b[0m, \u001b[1;36m284\u001b[0m\u001b[1m)\u001b[0m,\n",
       "    \u001b[1m(\u001b[0m\u001b[1;36m112\u001b[0m, \u001b[1;36m284\u001b[0m\u001b[1m)\u001b[0m,\n",
       "    \u001b[1m(\u001b[0m\u001b[1;36m1\u001b[0m, \u001b[1;36m279\u001b[0m\u001b[1m)\u001b[0m,\n",
       "    \u001b[1m(\u001b[0m\u001b[1;36m60\u001b[0m, \u001b[1;36m270\u001b[0m\u001b[1m)\u001b[0m,\n",
       "    \u001b[1m(\u001b[0m\u001b[1;36m73\u001b[0m, \u001b[1;36m270\u001b[0m\u001b[1m)\u001b[0m,\n",
       "    \u001b[1m(\u001b[0m\u001b[1;36m133\u001b[0m, \u001b[1;36m258\u001b[0m\u001b[1m)\u001b[0m,\n",
       "    \u001b[1m(\u001b[0m\u001b[1;36m57\u001b[0m, \u001b[1;36m255\u001b[0m\u001b[1m)\u001b[0m,\n",
       "    \u001b[1m(\u001b[0m\u001b[1;36m98\u001b[0m, \u001b[1;36m254\u001b[0m\u001b[1m)\u001b[0m,\n",
       "    \u001b[1m(\u001b[0m\u001b[1;36m51\u001b[0m, \u001b[1;36m253\u001b[0m\u001b[1m)\u001b[0m,\n",
       "    \u001b[1m(\u001b[0m\u001b[1;36m88\u001b[0m, \u001b[1;36m253\u001b[0m\u001b[1m)\u001b[0m,\n",
       "    \u001b[1m(\u001b[0m\u001b[1;36m108\u001b[0m, \u001b[1;36m248\u001b[0m\u001b[1m)\u001b[0m,\n",
       "    \u001b[1m(\u001b[0m\u001b[1;36m61\u001b[0m, \u001b[1;36m238\u001b[0m\u001b[1m)\u001b[0m,\n",
       "    \u001b[1m(\u001b[0m\u001b[1;36m17\u001b[0m, \u001b[1;36m229\u001b[0m\u001b[1m)\u001b[0m,\n",
       "    \u001b[1m(\u001b[0m\u001b[1;36m59\u001b[0m, \u001b[1;36m228\u001b[0m\u001b[1m)\u001b[0m,\n",
       "    \u001b[1m(\u001b[0m\u001b[1;36m63\u001b[0m, \u001b[1;36m224\u001b[0m\u001b[1m)\u001b[0m,\n",
       "    \u001b[1m(\u001b[0m\u001b[1;36m4\u001b[0m, \u001b[1;36m220\u001b[0m\u001b[1m)\u001b[0m,\n",
       "    \u001b[1m(\u001b[0m\u001b[1;36m84\u001b[0m, \u001b[1;36m218\u001b[0m\u001b[1m)\u001b[0m,\n",
       "    \u001b[1m(\u001b[0m\u001b[1;36m70\u001b[0m, \u001b[1;36m217\u001b[0m\u001b[1m)\u001b[0m,\n",
       "    \u001b[1m(\u001b[0m\u001b[1;36m22\u001b[0m, \u001b[1;36m215\u001b[0m\u001b[1m)\u001b[0m,\n",
       "    \u001b[1m(\u001b[0m\u001b[1;36m111\u001b[0m, \u001b[1;36m215\u001b[0m\u001b[1m)\u001b[0m,\n",
       "    \u001b[1m(\u001b[0m\u001b[1;36m19\u001b[0m, \u001b[1;36m213\u001b[0m\u001b[1m)\u001b[0m,\n",
       "    \u001b[1m(\u001b[0m\u001b[1;36m106\u001b[0m, \u001b[1;36m213\u001b[0m\u001b[1m)\u001b[0m,\n",
       "    \u001b[1m(\u001b[0m\u001b[1;36m15\u001b[0m, \u001b[1;36m212\u001b[0m\u001b[1m)\u001b[0m,\n",
       "    \u001b[1m(\u001b[0m\u001b[1;36m76\u001b[0m, \u001b[1;36m209\u001b[0m\u001b[1m)\u001b[0m,\n",
       "    \u001b[1m(\u001b[0m\u001b[1;36m96\u001b[0m, \u001b[1;36m208\u001b[0m\u001b[1m)\u001b[0m,\n",
       "    \u001b[1m(\u001b[0m\u001b[1;36m127\u001b[0m, \u001b[1;36m206\u001b[0m\u001b[1m)\u001b[0m,\n",
       "    \u001b[1m(\u001b[0m\u001b[1;36m124\u001b[0m, \u001b[1;36m205\u001b[0m\u001b[1m)\u001b[0m,\n",
       "    \u001b[1m(\u001b[0m\u001b[1;36m62\u001b[0m, \u001b[1;36m203\u001b[0m\u001b[1m)\u001b[0m,\n",
       "    \u001b[1m(\u001b[0m\u001b[1;36m129\u001b[0m, \u001b[1;36m200\u001b[0m\u001b[1m)\u001b[0m,\n",
       "    \u001b[1m(\u001b[0m\u001b[1;36m10\u001b[0m, \u001b[1;36m196\u001b[0m\u001b[1m)\u001b[0m,\n",
       "    \u001b[1m(\u001b[0m\u001b[1;36m39\u001b[0m, \u001b[1;36m195\u001b[0m\u001b[1m)\u001b[0m,\n",
       "    \u001b[1m(\u001b[0m\u001b[1;36m130\u001b[0m, \u001b[1;36m189\u001b[0m\u001b[1m)\u001b[0m,\n",
       "    \u001b[1m(\u001b[0m\u001b[1;36m85\u001b[0m, \u001b[1;36m188\u001b[0m\u001b[1m)\u001b[0m,\n",
       "    \u001b[1m(\u001b[0m\u001b[1;36m55\u001b[0m, \u001b[1;36m185\u001b[0m\u001b[1m)\u001b[0m,\n",
       "    \u001b[1m(\u001b[0m\u001b[1;36m58\u001b[0m, \u001b[1;36m185\u001b[0m\u001b[1m)\u001b[0m,\n",
       "    \u001b[1m(\u001b[0m\u001b[1;36m128\u001b[0m, \u001b[1;36m185\u001b[0m\u001b[1m)\u001b[0m,\n",
       "    \u001b[1m(\u001b[0m\u001b[1;36m0\u001b[0m, \u001b[1;36m179\u001b[0m\u001b[1m)\u001b[0m,\n",
       "    \u001b[1m(\u001b[0m\u001b[1;36m117\u001b[0m, \u001b[1;36m179\u001b[0m\u001b[1m)\u001b[0m,\n",
       "    \u001b[1m(\u001b[0m\u001b[1;36m132\u001b[0m, \u001b[1;36m175\u001b[0m\u001b[1m)\u001b[0m,\n",
       "    \u001b[1m(\u001b[0m\u001b[1;36m126\u001b[0m, \u001b[1;36m170\u001b[0m\u001b[1m)\u001b[0m,\n",
       "    \u001b[1m(\u001b[0m\u001b[1;36m131\u001b[0m, \u001b[1;36m170\u001b[0m\u001b[1m)\u001b[0m,\n",
       "    \u001b[1m(\u001b[0m\u001b[1;36m79\u001b[0m, \u001b[1;36m164\u001b[0m\u001b[1m)\u001b[0m,\n",
       "    \u001b[1m(\u001b[0m\u001b[1;36m94\u001b[0m, \u001b[1;36m161\u001b[0m\u001b[1m)\u001b[0m,\n",
       "    \u001b[1m(\u001b[0m\u001b[1;36m120\u001b[0m, \u001b[1;36m158\u001b[0m\u001b[1m)\u001b[0m,\n",
       "    \u001b[1m(\u001b[0m\u001b[1;36m42\u001b[0m, \u001b[1;36m146\u001b[0m\u001b[1m)\u001b[0m,\n",
       "    \u001b[1m(\u001b[0m\u001b[1;36m37\u001b[0m, \u001b[1;36m144\u001b[0m\u001b[1m)\u001b[0m,\n",
       "    \u001b[1m(\u001b[0m\u001b[1;36m43\u001b[0m, \u001b[1;36m139\u001b[0m\u001b[1m)\u001b[0m,\n",
       "    \u001b[1m(\u001b[0m\u001b[1;36m47\u001b[0m, \u001b[1;36m139\u001b[0m\u001b[1m)\u001b[0m,\n",
       "    \u001b[1m(\u001b[0m\u001b[1;36m122\u001b[0m, \u001b[1;36m137\u001b[0m\u001b[1m)\u001b[0m,\n",
       "    \u001b[1m(\u001b[0m\u001b[1;36m75\u001b[0m, \u001b[1;36m122\u001b[0m\u001b[1m)\u001b[0m,\n",
       "    \u001b[1m(\u001b[0m\u001b[1;36m2\u001b[0m, \u001b[1;36m116\u001b[0m\u001b[1m)\u001b[0m,\n",
       "    \u001b[1m(\u001b[0m\u001b[1;36m16\u001b[0m, \u001b[1;36m114\u001b[0m\u001b[1m)\u001b[0m,\n",
       "    \u001b[1m(\u001b[0m\u001b[1;36m38\u001b[0m, \u001b[1;36m114\u001b[0m\u001b[1m)\u001b[0m,\n",
       "    \u001b[1m(\u001b[0m\u001b[1;36m99\u001b[0m, \u001b[1;36m114\u001b[0m\u001b[1m)\u001b[0m,\n",
       "    \u001b[1m(\u001b[0m\u001b[1;36m54\u001b[0m, \u001b[1;36m101\u001b[0m\u001b[1m)\u001b[0m,\n",
       "    \u001b[1m(\u001b[0m\u001b[1;36m36\u001b[0m, \u001b[1;36m96\u001b[0m\u001b[1m)\u001b[0m,\n",
       "    \u001b[1m(\u001b[0m\u001b[1;36m71\u001b[0m, \u001b[1;36m96\u001b[0m\u001b[1m)\u001b[0m,\n",
       "    \u001b[1m(\u001b[0m\u001b[1;36m56\u001b[0m, \u001b[1;36m94\u001b[0m\u001b[1m)\u001b[0m,\n",
       "    \u001b[1m(\u001b[0m\u001b[1;36m103\u001b[0m, \u001b[1;36m89\u001b[0m\u001b[1m)\u001b[0m,\n",
       "    \u001b[1m(\u001b[0m\u001b[1;36m44\u001b[0m, \u001b[1;36m86\u001b[0m\u001b[1m)\u001b[0m,\n",
       "    \u001b[1m(\u001b[0m\u001b[1;36m105\u001b[0m, \u001b[1;36m83\u001b[0m\u001b[1m)\u001b[0m,\n",
       "    \u001b[1m(\u001b[0m\u001b[1;36m113\u001b[0m, \u001b[1;36m74\u001b[0m\u001b[1m)\u001b[0m,\n",
       "    \u001b[1m(\u001b[0m\u001b[1;36m65\u001b[0m, \u001b[1;36m69\u001b[0m\u001b[1m)\u001b[0m,\n",
       "    \u001b[1m(\u001b[0m\u001b[1;36m116\u001b[0m, \u001b[1;36m69\u001b[0m\u001b[1m)\u001b[0m,\n",
       "    \u001b[1m(\u001b[0m\u001b[1;36m28\u001b[0m, \u001b[1;36m67\u001b[0m\u001b[1m)\u001b[0m,\n",
       "    \u001b[1m(\u001b[0m\u001b[1;36m107\u001b[0m, \u001b[1;36m67\u001b[0m\u001b[1m)\u001b[0m,\n",
       "    \u001b[1m(\u001b[0m\u001b[1;36m66\u001b[0m, \u001b[1;36m64\u001b[0m\u001b[1m)\u001b[0m,\n",
       "    \u001b[1m(\u001b[0m\u001b[1;36m121\u001b[0m, \u001b[1;36m64\u001b[0m\u001b[1m)\u001b[0m,\n",
       "    \u001b[1m(\u001b[0m\u001b[1;36m68\u001b[0m, \u001b[1;36m62\u001b[0m\u001b[1m)\u001b[0m,\n",
       "    \u001b[1m(\u001b[0m\u001b[1;36m90\u001b[0m, \u001b[1;36m60\u001b[0m\u001b[1m)\u001b[0m,\n",
       "    \u001b[1m(\u001b[0m\u001b[1;36m33\u001b[0m, \u001b[1;36m58\u001b[0m\u001b[1m)\u001b[0m,\n",
       "    \u001b[1m(\u001b[0m\u001b[1;36m52\u001b[0m, \u001b[1;36m58\u001b[0m\u001b[1m)\u001b[0m,\n",
       "    \u001b[1m(\u001b[0m\u001b[1;36m64\u001b[0m, \u001b[1;36m53\u001b[0m\u001b[1m)\u001b[0m,\n",
       "    \u001b[1m(\u001b[0m\u001b[1;36m119\u001b[0m, \u001b[1;36m52\u001b[0m\u001b[1m)\u001b[0m,\n",
       "    \u001b[1m(\u001b[0m\u001b[1;36m123\u001b[0m, \u001b[1;36m50\u001b[0m\u001b[1m)\u001b[0m,\n",
       "    \u001b[1m(\u001b[0m\u001b[1;36m50\u001b[0m, \u001b[1;36m49\u001b[0m\u001b[1m)\u001b[0m,\n",
       "    \u001b[1m(\u001b[0m\u001b[1;36m30\u001b[0m, \u001b[1;36m46\u001b[0m\u001b[1m)\u001b[0m,\n",
       "    \u001b[1m(\u001b[0m\u001b[1;36m93\u001b[0m, \u001b[1;36m46\u001b[0m\u001b[1m)\u001b[0m,\n",
       "    \u001b[1m(\u001b[0m\u001b[1;36m67\u001b[0m, \u001b[1;36m39\u001b[0m\u001b[1m)\u001b[0m,\n",
       "    \u001b[1m(\u001b[0m\u001b[1;36m82\u001b[0m, \u001b[1;36m38\u001b[0m\u001b[1m)\u001b[0m,\n",
       "    \u001b[1m(\u001b[0m\u001b[1;36m81\u001b[0m, \u001b[1;36m37\u001b[0m\u001b[1m)\u001b[0m,\n",
       "    \u001b[1m(\u001b[0m\u001b[1;36m134\u001b[0m, \u001b[1;36m37\u001b[0m\u001b[1m)\u001b[0m,\n",
       "    \u001b[1m(\u001b[0m\u001b[1;36m24\u001b[0m, \u001b[1;36m36\u001b[0m\u001b[1m)\u001b[0m,\n",
       "    \u001b[1m(\u001b[0m\u001b[1;36m118\u001b[0m, \u001b[1;36m35\u001b[0m\u001b[1m)\u001b[0m,\n",
       "    \u001b[1m(\u001b[0m\u001b[1;36m34\u001b[0m, \u001b[1;36m31\u001b[0m\u001b[1m)\u001b[0m,\n",
       "    \u001b[1m(\u001b[0m\u001b[1;36m136\u001b[0m, \u001b[1;36m30\u001b[0m\u001b[1m)\u001b[0m,\n",
       "    \u001b[1m(\u001b[0m\u001b[1;36m6\u001b[0m, \u001b[1;36m28\u001b[0m\u001b[1m)\u001b[0m,\n",
       "    \u001b[1m(\u001b[0m\u001b[1;36m135\u001b[0m, \u001b[1;36m27\u001b[0m\u001b[1m)\u001b[0m,\n",
       "    \u001b[1m(\u001b[0m\u001b[1;36m49\u001b[0m, \u001b[1;36m23\u001b[0m\u001b[1m)\u001b[0m,\n",
       "    \u001b[1m(\u001b[0m\u001b[1;36m7\u001b[0m, \u001b[1;36m21\u001b[0m\u001b[1m)\u001b[0m,\n",
       "    \u001b[1m(\u001b[0m\u001b[1;36m21\u001b[0m, \u001b[1;36m18\u001b[0m\u001b[1m)\u001b[0m,\n",
       "    \u001b[1m(\u001b[0m\u001b[1;36m13\u001b[0m, \u001b[1;36m15\u001b[0m\u001b[1m)\u001b[0m,\n",
       "    \u001b[1m(\u001b[0m\u001b[1;36m137\u001b[0m, \u001b[1;36m13\u001b[0m\u001b[1m)\u001b[0m\n",
       "\u001b[1m]\u001b[0m\n"
      ]
     },
     "metadata": {},
     "output_type": "display_data"
    }
   ],
   "source": [
    "xxx = [int(l.split('\\t')[0]) for l in lines]\n",
    "collections.Counter(xxx).most_common()"
   ]
  },
  {
   "cell_type": "code",
   "execution_count": 100,
   "id": "4b06d11a",
   "metadata": {},
   "outputs": [
    {
     "data": {
      "text/html": [
       "<pre style=\"white-space:pre;overflow-x:auto;line-height:normal;font-family:Menlo,'DejaVu Sans Mono',consolas,'Courier New',monospace\"><span style=\"color: #008080; text-decoration-color: #008080; font-weight: bold\">136</span>\n",
       "</pre>\n"
      ],
      "text/plain": [
       "\u001b[1;36m136\u001b[0m\n"
      ]
     },
     "metadata": {},
     "output_type": "display_data"
    }
   ],
   "source": [
    "len(collections.Counter(xxx).most_common())"
   ]
  },
  {
   "cell_type": "code",
   "execution_count": null,
   "id": "6de9fd00",
   "metadata": {},
   "outputs": [],
   "source": []
  },
  {
   "cell_type": "code",
   "execution_count": 82,
   "id": "5c08cffb",
   "metadata": {},
   "outputs": [],
   "source": [
    "# collections.Counter(lines).most_common()"
   ]
  },
  {
   "cell_type": "code",
   "execution_count": 83,
   "id": "5bf0d0ac",
   "metadata": {},
   "outputs": [
    {
     "data": {
      "text/html": [
       "<pre style=\"white-space:pre;overflow-x:auto;line-height:normal;font-family:Menlo,'DejaVu Sans Mono',consolas,'Courier New',monospace\"><span style=\"color: #008080; text-decoration-color: #008080; font-weight: bold\">3516</span>\n",
       "</pre>\n"
      ],
      "text/plain": [
       "\u001b[1;36m3516\u001b[0m\n"
      ]
     },
     "metadata": {},
     "output_type": "display_data"
    }
   ],
   "source": [
    "len(collections.Counter(lines).most_common())"
   ]
  },
  {
   "cell_type": "code",
   "execution_count": 84,
   "id": "30243099",
   "metadata": {},
   "outputs": [],
   "source": [
    "net = Network(mice, key='sub-SLC02_ses-1').load_network()"
   ]
  },
  {
   "cell_type": "code",
   "execution_count": 85,
   "id": "69e37918",
   "metadata": {},
   "outputs": [
    {
     "data": {
      "text/html": [
       "<pre style=\"white-space:pre;overflow-x:auto;line-height:normal;font-family:Menlo,'DejaVu Sans Mono',consolas,'Courier New',monospace\"><span style=\"font-weight: bold\">&lt;</span><span style=\"color: #ff00ff; text-decoration-color: #ff00ff; font-weight: bold\">networkx.classes.graph.Graph</span><span style=\"color: #000000; text-decoration-color: #000000\"> object at </span><span style=\"color: #008080; text-decoration-color: #008080; font-weight: bold\">0x7f7fbcdb63a0</span><span style=\"font-weight: bold\">&gt;</span>\n",
       "</pre>\n"
      ],
      "text/plain": [
       "\u001b[1m<\u001b[0m\u001b[1;95mnetworkx.classes.graph.Graph\u001b[0m\u001b[39m object at \u001b[0m\u001b[1;36m0x7f7fbcdb63a0\u001b[0m\u001b[1m>\u001b[0m\n"
      ]
     },
     "metadata": {},
     "output_type": "display_data"
    }
   ],
   "source": [
    "net.graphs[net.percentiles[0]]"
   ]
  },
  {
   "cell_type": "code",
   "execution_count": null,
   "id": "13f339a4",
   "metadata": {},
   "outputs": [],
   "source": []
  },
  {
   "cell_type": "code",
   "execution_count": 86,
   "id": "167cf297",
   "metadata": {},
   "outputs": [],
   "source": [
    "for i, j, d in net.graphs[net.percentiles[0]].edges(data=True):\n",
    "    i+j\n",
    "    w = d['weight']"
   ]
  },
  {
   "cell_type": "code",
   "execution_count": 87,
   "id": "4d2d0e53",
   "metadata": {},
   "outputs": [
    {
     "data": {
      "text/html": [
       "<pre style=\"white-space:pre;overflow-x:auto;line-height:normal;font-family:Menlo,'DejaVu Sans Mono',consolas,'Courier New',monospace\"><span style=\"font-weight: bold\">(</span><span style=\"color: #008080; text-decoration-color: #008080; font-weight: bold\">135</span>, <span style=\"color: #008080; text-decoration-color: #008080; font-weight: bold\">137</span>, <span style=\"color: #008080; text-decoration-color: #008080; font-weight: bold\">0.09422844790648492</span><span style=\"font-weight: bold\">)</span>\n",
       "</pre>\n"
      ],
      "text/plain": [
       "\u001b[1m(\u001b[0m\u001b[1;36m135\u001b[0m, \u001b[1;36m137\u001b[0m, \u001b[1;36m0.09422844790648492\u001b[0m\u001b[1m)\u001b[0m\n"
      ]
     },
     "metadata": {},
     "output_type": "display_data"
    }
   ],
   "source": [
    "i, j , w"
   ]
  },
  {
   "cell_type": "code",
   "execution_count": 88,
   "id": "06c495ec",
   "metadata": {},
   "outputs": [],
   "source": [
    "a_infer = np.zeros_like(net.adj)\n",
    "for edge, count in collections.Counter(lines).most_common():\n",
    "    i, j = tuple(map(lambda x: int(x), edge.replace('\\n', '').split('\\t')))\n",
    "    a_infer[i, j] = count"
   ]
  },
  {
   "cell_type": "code",
   "execution_count": 89,
   "id": "209145a2",
   "metadata": {},
   "outputs": [
    {
     "data": {
      "text/html": [
       "<pre style=\"white-space:pre;overflow-x:auto;line-height:normal;font-family:Menlo,'DejaVu Sans Mono',consolas,'Courier New',monospace\"><span style=\"font-weight: bold\">&lt;</span><span style=\"color: #ff00ff; text-decoration-color: #ff00ff; font-weight: bold\">matplotlib.colorbar.Colorbar</span><span style=\"color: #000000; text-decoration-color: #000000\"> object at </span><span style=\"color: #008080; text-decoration-color: #008080; font-weight: bold\">0x7f7fd0effca0</span><span style=\"font-weight: bold\">&gt;</span>\n",
       "</pre>\n"
      ],
      "text/plain": [
       "\u001b[1m<\u001b[0m\u001b[1;95mmatplotlib.colorbar.Colorbar\u001b[0m\u001b[39m object at \u001b[0m\u001b[1;36m0x7f7fd0effca0\u001b[0m\u001b[1m>\u001b[0m\n"
      ]
     },
     "metadata": {},
     "output_type": "display_data"
    },
    {
     "data": {
      "image/png": "[encoded data removed]"
     },
     "metadata": {},
     "output_type": "display_data"
    }
   ],
   "source": [
    "plt.imshow(a_infer)\n",
    "plt.colorbar()"
   ]
  },
  {
   "cell_type": "code",
   "execution_count": 90,
   "id": "e824f98a",
   "metadata": {},
   "outputs": [
    {
     "data": {
      "text/html": [
       "<pre style=\"white-space:pre;overflow-x:auto;line-height:normal;font-family:Menlo,'DejaVu Sans Mono',consolas,'Courier New',monospace\"><span style=\"font-weight: bold\">&lt;</span><span style=\"color: #ff00ff; text-decoration-color: #ff00ff; font-weight: bold\">matplotlib.colorbar.Colorbar</span><span style=\"color: #000000; text-decoration-color: #000000\"> object at </span><span style=\"color: #008080; text-decoration-color: #008080; font-weight: bold\">0x7f7fd0f5bee0</span><span style=\"font-weight: bold\">&gt;</span>\n",
       "</pre>\n"
      ],
      "text/plain": [
       "\u001b[1m<\u001b[0m\u001b[1;95mmatplotlib.colorbar.Colorbar\u001b[0m\u001b[39m object at \u001b[0m\u001b[1;36m0x7f7fd0f5bee0\u001b[0m\u001b[1m>\u001b[0m\n"
      ]
     },
     "metadata": {},
     "output_type": "display_data"
    },
    {
     "data": {
      "image/png": "[encoded data removed]"
     },
     "metadata": {},
     "output_type": "display_data"
    }
   ],
   "source": [
    "plt.imshow(net.adj)\n",
    "plt.colorbar()"
   ]
  },
  {
   "cell_type": "code",
   "execution_count": null,
   "id": "d7fc5ba2",
   "metadata": {},
   "outputs": [],
   "source": []
  },
  {
   "cell_type": "code",
   "execution_count": null,
   "id": "8fee99a7",
   "metadata": {},
   "outputs": [],
   "source": []
  },
  {
   "cell_type": "markdown",
   "id": "6e438077",
   "metadata": {},
   "source": [
    "## Typical (aggregate)"
   ]
  },
  {
   "cell_type": "code",
   "execution_count": 4,
   "id": "46575460",
   "metadata": {},
   "outputs": [
    {
     "data": {
      "text/html": [
       "<pre style=\"white-space:pre;overflow-x:auto;line-height:normal;font-family:Menlo,'DejaVu Sans Mono',consolas,'Courier New',monospace\">current expt: <span style=\"color: #008000; text-decoration-color: #008000\">'p-1'</span>\n",
       "</pre>\n"
      ],
      "text/plain": [
       "current expt: \u001b[32m'p-1'\u001b[0m\n"
      ]
     },
     "metadata": {},
     "output_type": "display_data"
    },
    {
     "data": {
      "text/html": [
       "<pre style=\"white-space:pre;overflow-x:auto;line-height:normal;font-family:Menlo,'DejaVu Sans Mono',consolas,'Courier New',monospace\"><span style=\"font-weight: bold\">[</span>PROGRESS<span style=\"font-weight: bold\">]</span> experiment loaded: <span style=\"color: #008000; text-decoration-color: #008000\">'p29'</span>,  total # runs:  <span style=\"color: #008080; text-decoration-color: #008080; font-weight: bold\">988</span>\n",
       "</pre>\n"
      ],
      "text/plain": [
       "\u001b[1m[\u001b[0mPROGRESS\u001b[1m]\u001b[0m experiment loaded: \u001b[32m'p29'\u001b[0m,  total # runs:  \u001b[1;36m988\u001b[0m\n"
      ]
     },
     "metadata": {},
     "output_type": "display_data"
    },
    {
     "data": {
      "text/html": [
       "<pre style=\"white-space:pre;overflow-x:auto;line-height:normal;font-family:Menlo,'DejaVu Sans Mono',consolas,'Courier New',monospace\"><span style=\"font-weight: bold\">[</span>PROGRESS<span style=\"font-weight: bold\">]</span> some runs were excluded:     <span style=\"color: #008080; text-decoration-color: #008080; font-weight: bold\">12</span> x k = <span style=\"color: #008080; text-decoration-color: #008080; font-weight: bold\">4</span>\n",
       "</pre>\n"
      ],
      "text/plain": [
       "\u001b[1m[\u001b[0mPROGRESS\u001b[1m]\u001b[0m some runs were excluded:     \u001b[1;36m12\u001b[0m x k = \u001b[1;36m4\u001b[0m\n"
      ]
     },
     "metadata": {},
     "output_type": "display_data"
    },
    {
     "data": {
      "text/html": [
       "<pre style=\"white-space:pre;overflow-x:auto;line-height:normal;font-family:Menlo,'DejaVu Sans Mono',consolas,'Courier New',monospace\"><span style=\"font-weight: bold\">[</span>PROGRESS<span style=\"font-weight: bold\">]</span> experiment loaded: <span style=\"color: #008000; text-decoration-color: #008000\">'p28'</span>,  total # runs:  <span style=\"color: #008080; text-decoration-color: #008080; font-weight: bold\">985</span>\n",
       "</pre>\n"
      ],
      "text/plain": [
       "\u001b[1m[\u001b[0mPROGRESS\u001b[1m]\u001b[0m experiment loaded: \u001b[32m'p28'\u001b[0m,  total # runs:  \u001b[1;36m985\u001b[0m\n"
      ]
     },
     "metadata": {},
     "output_type": "display_data"
    },
    {
     "data": {
      "text/html": [
       "<pre style=\"white-space:pre;overflow-x:auto;line-height:normal;font-family:Menlo,'DejaVu Sans Mono',consolas,'Courier New',monospace\"><span style=\"font-weight: bold\">[</span>PROGRESS<span style=\"font-weight: bold\">]</span> some runs were excluded:     <span style=\"color: #008080; text-decoration-color: #008080; font-weight: bold\">15</span> x k = <span style=\"color: #008080; text-decoration-color: #008080; font-weight: bold\">4</span>\n",
       "</pre>\n"
      ],
      "text/plain": [
       "\u001b[1m[\u001b[0mPROGRESS\u001b[1m]\u001b[0m some runs were excluded:     \u001b[1;36m15\u001b[0m x k = \u001b[1;36m4\u001b[0m\n"
      ]
     },
     "metadata": {},
     "output_type": "display_data"
    },
    {
     "data": {
      "text/html": [
       "<pre style=\"white-space:pre;overflow-x:auto;line-height:normal;font-family:Menlo,'DejaVu Sans Mono',consolas,'Courier New',monospace\"><span style=\"font-weight: bold\">[</span>PROGRESS<span style=\"font-weight: bold\">]</span> experiment loaded: <span style=\"color: #008000; text-decoration-color: #008000\">'p27'</span>,  total # runs:  <span style=\"color: #008080; text-decoration-color: #008080; font-weight: bold\">988</span>\n",
       "</pre>\n"
      ],
      "text/plain": [
       "\u001b[1m[\u001b[0mPROGRESS\u001b[1m]\u001b[0m experiment loaded: \u001b[32m'p27'\u001b[0m,  total # runs:  \u001b[1;36m988\u001b[0m\n"
      ]
     },
     "metadata": {},
     "output_type": "display_data"
    },
    {
     "data": {
      "text/html": [
       "<pre style=\"white-space:pre;overflow-x:auto;line-height:normal;font-family:Menlo,'DejaVu Sans Mono',consolas,'Courier New',monospace\"><span style=\"font-weight: bold\">[</span>PROGRESS<span style=\"font-weight: bold\">]</span> some runs were excluded:     <span style=\"color: #008080; text-decoration-color: #008080; font-weight: bold\">12</span> x k = <span style=\"color: #008080; text-decoration-color: #008080; font-weight: bold\">4</span>\n",
       "</pre>\n"
      ],
      "text/plain": [
       "\u001b[1m[\u001b[0mPROGRESS\u001b[1m]\u001b[0m some runs were excluded:     \u001b[1;36m12\u001b[0m x k = \u001b[1;36m4\u001b[0m\n"
      ]
     },
     "metadata": {},
     "output_type": "display_data"
    },
    {
     "data": {
      "text/html": [
       "<pre style=\"white-space:pre;overflow-x:auto;line-height:normal;font-family:Menlo,'DejaVu Sans Mono',consolas,'Courier New',monospace\"><span style=\"font-weight: bold\">[</span>PROGRESS<span style=\"font-weight: bold\">]</span> experiment loaded: <span style=\"color: #008000; text-decoration-color: #008000\">'p26'</span>,  total # runs:  <span style=\"color: #008080; text-decoration-color: #008080; font-weight: bold\">986</span>\n",
       "</pre>\n"
      ],
      "text/plain": [
       "\u001b[1m[\u001b[0mPROGRESS\u001b[1m]\u001b[0m experiment loaded: \u001b[32m'p26'\u001b[0m,  total # runs:  \u001b[1;36m986\u001b[0m\n"
      ]
     },
     "metadata": {},
     "output_type": "display_data"
    },
    {
     "data": {
      "text/html": [
       "<pre style=\"white-space:pre;overflow-x:auto;line-height:normal;font-family:Menlo,'DejaVu Sans Mono',consolas,'Courier New',monospace\"><span style=\"font-weight: bold\">[</span>PROGRESS<span style=\"font-weight: bold\">]</span> some runs were excluded:     <span style=\"color: #008080; text-decoration-color: #008080; font-weight: bold\">13</span> x k = <span style=\"color: #008080; text-decoration-color: #008080; font-weight: bold\">4</span>,  <span style=\"color: #008080; text-decoration-color: #008080; font-weight: bold\">1</span> x k = <span style=\"color: #008080; text-decoration-color: #008080; font-weight: bold\">3</span>\n",
       "</pre>\n"
      ],
      "text/plain": [
       "\u001b[1m[\u001b[0mPROGRESS\u001b[1m]\u001b[0m some runs were excluded:     \u001b[1;36m13\u001b[0m x k = \u001b[1;36m4\u001b[0m,  \u001b[1;36m1\u001b[0m x k = \u001b[1;36m3\u001b[0m\n"
      ]
     },
     "metadata": {},
     "output_type": "display_data"
    },
    {
     "data": {
      "text/html": [
       "<pre style=\"white-space:pre;overflow-x:auto;line-height:normal;font-family:Menlo,'DejaVu Sans Mono',consolas,'Courier New',monospace\"><span style=\"font-weight: bold\">[</span>PROGRESS<span style=\"font-weight: bold\">]</span> experiment loaded: <span style=\"color: #008000; text-decoration-color: #008000\">'p25'</span>,  total # runs:  <span style=\"color: #008080; text-decoration-color: #008080; font-weight: bold\">994</span>\n",
       "</pre>\n"
      ],
      "text/plain": [
       "\u001b[1m[\u001b[0mPROGRESS\u001b[1m]\u001b[0m experiment loaded: \u001b[32m'p25'\u001b[0m,  total # runs:  \u001b[1;36m994\u001b[0m\n"
      ]
     },
     "metadata": {},
     "output_type": "display_data"
    },
    {
     "data": {
      "text/html": [
       "<pre style=\"white-space:pre;overflow-x:auto;line-height:normal;font-family:Menlo,'DejaVu Sans Mono',consolas,'Courier New',monospace\"><span style=\"font-weight: bold\">[</span>PROGRESS<span style=\"font-weight: bold\">]</span> some runs were excluded:     <span style=\"color: #008080; text-decoration-color: #008080; font-weight: bold\">6</span> x k = <span style=\"color: #008080; text-decoration-color: #008080; font-weight: bold\">4</span>\n",
       "</pre>\n"
      ],
      "text/plain": [
       "\u001b[1m[\u001b[0mPROGRESS\u001b[1m]\u001b[0m some runs were excluded:     \u001b[1;36m6\u001b[0m x k = \u001b[1;36m4\u001b[0m\n"
      ]
     },
     "metadata": {},
     "output_type": "display_data"
    },
    {
     "data": {
      "text/html": [
       "<pre style=\"white-space:pre;overflow-x:auto;line-height:normal;font-family:Menlo,'DejaVu Sans Mono',consolas,'Courier New',monospace\"><span style=\"font-weight: bold\">[</span>PROGRESS<span style=\"font-weight: bold\">]</span> experiment loaded: <span style=\"color: #008000; text-decoration-color: #008000\">'p24'</span>,  total # runs:  <span style=\"color: #008080; text-decoration-color: #008080; font-weight: bold\">993</span>\n",
       "</pre>\n"
      ],
      "text/plain": [
       "\u001b[1m[\u001b[0mPROGRESS\u001b[1m]\u001b[0m experiment loaded: \u001b[32m'p24'\u001b[0m,  total # runs:  \u001b[1;36m993\u001b[0m\n"
      ]
     },
     "metadata": {},
     "output_type": "display_data"
    },
    {
     "data": {
      "text/html": [
       "<pre style=\"white-space:pre;overflow-x:auto;line-height:normal;font-family:Menlo,'DejaVu Sans Mono',consolas,'Courier New',monospace\"><span style=\"font-weight: bold\">[</span>PROGRESS<span style=\"font-weight: bold\">]</span> some runs were excluded:     <span style=\"color: #008080; text-decoration-color: #008080; font-weight: bold\">7</span> x k = <span style=\"color: #008080; text-decoration-color: #008080; font-weight: bold\">4</span>\n",
       "</pre>\n"
      ],
      "text/plain": [
       "\u001b[1m[\u001b[0mPROGRESS\u001b[1m]\u001b[0m some runs were excluded:     \u001b[1;36m7\u001b[0m x k = \u001b[1;36m4\u001b[0m\n"
      ]
     },
     "metadata": {},
     "output_type": "display_data"
    },
    {
     "data": {
      "text/html": [
       "<pre style=\"white-space:pre;overflow-x:auto;line-height:normal;font-family:Menlo,'DejaVu Sans Mono',consolas,'Courier New',monospace\"><span style=\"font-weight: bold\">[</span>PROGRESS<span style=\"font-weight: bold\">]</span> experiment loaded: <span style=\"color: #008000; text-decoration-color: #008000\">'p23'</span>,  total # runs:  <span style=\"color: #008080; text-decoration-color: #008080; font-weight: bold\">993</span>\n",
       "</pre>\n"
      ],
      "text/plain": [
       "\u001b[1m[\u001b[0mPROGRESS\u001b[1m]\u001b[0m experiment loaded: \u001b[32m'p23'\u001b[0m,  total # runs:  \u001b[1;36m993\u001b[0m\n"
      ]
     },
     "metadata": {},
     "output_type": "display_data"
    },
    {
     "data": {
      "text/html": [
       "<pre style=\"white-space:pre;overflow-x:auto;line-height:normal;font-family:Menlo,'DejaVu Sans Mono',consolas,'Courier New',monospace\"><span style=\"font-weight: bold\">[</span>PROGRESS<span style=\"font-weight: bold\">]</span> some runs were excluded:     <span style=\"color: #008080; text-decoration-color: #008080; font-weight: bold\">7</span> x k = <span style=\"color: #008080; text-decoration-color: #008080; font-weight: bold\">4</span>\n",
       "</pre>\n"
      ],
      "text/plain": [
       "\u001b[1m[\u001b[0mPROGRESS\u001b[1m]\u001b[0m some runs were excluded:     \u001b[1;36m7\u001b[0m x k = \u001b[1;36m4\u001b[0m\n"
      ]
     },
     "metadata": {},
     "output_type": "display_data"
    },
    {
     "data": {
      "text/html": [
       "<pre style=\"white-space:pre;overflow-x:auto;line-height:normal;font-family:Menlo,'DejaVu Sans Mono',consolas,'Courier New',monospace\"><span style=\"font-weight: bold\">[</span>PROGRESS<span style=\"font-weight: bold\">]</span> experiment loaded: <span style=\"color: #008000; text-decoration-color: #008000\">'p22'</span>,  total # runs:  <span style=\"color: #008080; text-decoration-color: #008080; font-weight: bold\">992</span>\n",
       "</pre>\n"
      ],
      "text/plain": [
       "\u001b[1m[\u001b[0mPROGRESS\u001b[1m]\u001b[0m experiment loaded: \u001b[32m'p22'\u001b[0m,  total # runs:  \u001b[1;36m992\u001b[0m\n"
      ]
     },
     "metadata": {},
     "output_type": "display_data"
    },
    {
     "data": {
      "text/html": [
       "<pre style=\"white-space:pre;overflow-x:auto;line-height:normal;font-family:Menlo,'DejaVu Sans Mono',consolas,'Courier New',monospace\"><span style=\"font-weight: bold\">[</span>PROGRESS<span style=\"font-weight: bold\">]</span> some runs were excluded:     <span style=\"color: #008080; text-decoration-color: #008080; font-weight: bold\">8</span> x k = <span style=\"color: #008080; text-decoration-color: #008080; font-weight: bold\">4</span>\n",
       "</pre>\n"
      ],
      "text/plain": [
       "\u001b[1m[\u001b[0mPROGRESS\u001b[1m]\u001b[0m some runs were excluded:     \u001b[1;36m8\u001b[0m x k = \u001b[1;36m4\u001b[0m\n"
      ]
     },
     "metadata": {},
     "output_type": "display_data"
    },
    {
     "data": {
      "text/html": [
       "<pre style=\"white-space:pre;overflow-x:auto;line-height:normal;font-family:Menlo,'DejaVu Sans Mono',consolas,'Courier New',monospace\"><span style=\"font-weight: bold\">[</span>PROGRESS<span style=\"font-weight: bold\">]</span> experiment loaded: <span style=\"color: #008000; text-decoration-color: #008000\">'p21'</span>,  total # runs:  <span style=\"color: #008080; text-decoration-color: #008080; font-weight: bold\">992</span>\n",
       "</pre>\n"
      ],
      "text/plain": [
       "\u001b[1m[\u001b[0mPROGRESS\u001b[1m]\u001b[0m experiment loaded: \u001b[32m'p21'\u001b[0m,  total # runs:  \u001b[1;36m992\u001b[0m\n"
      ]
     },
     "metadata": {},
     "output_type": "display_data"
    },
    {
     "data": {
      "text/html": [
       "<pre style=\"white-space:pre;overflow-x:auto;line-height:normal;font-family:Menlo,'DejaVu Sans Mono',consolas,'Courier New',monospace\"><span style=\"font-weight: bold\">[</span>PROGRESS<span style=\"font-weight: bold\">]</span> some runs were excluded:     <span style=\"color: #008080; text-decoration-color: #008080; font-weight: bold\">8</span> x k = <span style=\"color: #008080; text-decoration-color: #008080; font-weight: bold\">4</span>\n",
       "</pre>\n"
      ],
      "text/plain": [
       "\u001b[1m[\u001b[0mPROGRESS\u001b[1m]\u001b[0m some runs were excluded:     \u001b[1;36m8\u001b[0m x k = \u001b[1;36m4\u001b[0m\n"
      ]
     },
     "metadata": {},
     "output_type": "display_data"
    },
    {
     "data": {
      "text/html": [
       "<pre style=\"white-space:pre;overflow-x:auto;line-height:normal;font-family:Menlo,'DejaVu Sans Mono',consolas,'Courier New',monospace\"><span style=\"font-weight: bold\">[</span>PROGRESS<span style=\"font-weight: bold\">]</span> experiment loaded: <span style=\"color: #008000; text-decoration-color: #008000\">'p20'</span>,  total # runs:  <span style=\"color: #008080; text-decoration-color: #008080; font-weight: bold\">1000</span>\n",
       "</pre>\n"
      ],
      "text/plain": [
       "\u001b[1m[\u001b[0mPROGRESS\u001b[1m]\u001b[0m experiment loaded: \u001b[32m'p20'\u001b[0m,  total # runs:  \u001b[1;36m1000\u001b[0m\n"
      ]
     },
     "metadata": {},
     "output_type": "display_data"
    },
    {
     "data": {
      "text/html": [
       "<pre style=\"white-space:pre;overflow-x:auto;line-height:normal;font-family:Menlo,'DejaVu Sans Mono',consolas,'Courier New',monospace\">\n",
       "<span style=\"font-weight: bold\">[</span>PROGRESS<span style=\"font-weight: bold\">]</span> fit: initiated\n",
       "</pre>\n"
      ],
      "text/plain": [
       "\n",
       "\u001b[1m[\u001b[0mPROGRESS\u001b[1m]\u001b[0m fit: initiated\n"
      ]
     },
     "metadata": {},
     "output_type": "display_data"
    },
    {
     "data": {
      "text/html": [
       "<pre style=\"white-space:pre;overflow-x:auto;line-height:normal;font-family:Menlo,'DejaVu Sans Mono',consolas,'Courier New',monospace\"><span style=\"font-weight: bold\">[</span>PROGRESS<span style=\"font-weight: bold\">]</span> kmeans fit: done\n",
       "</pre>\n"
      ],
      "text/plain": [
       "\u001b[1m[\u001b[0mPROGRESS\u001b[1m]\u001b[0m kmeans fit: done\n"
      ]
     },
     "metadata": {},
     "output_type": "display_data"
    },
    {
     "data": {
      "application/vnd.jupyter.widget-view+json": {
       "model_id": "ca3f93345be74622ac932c43cc69fc0f",
       "version_major": 2,
       "version_minor": 0
      },
      "text/plain": [
       "  0%|          | 0/10 [00:00<?, ?it/s]"
      ]
     },
     "metadata": {},
     "output_type": "display_data"
    },
    {
     "data": {
      "text/html": [
       "<pre style=\"white-space:pre;overflow-x:auto;line-height:normal;font-family:Menlo,'DejaVu Sans Mono',consolas,'Courier New',monospace\"><span style=\"font-weight: bold\">[</span>PROGRESS<span style=\"font-weight: bold\">]</span> find best mappings: done\n",
       "</pre>\n"
      ],
      "text/plain": [
       "\u001b[1m[\u001b[0mPROGRESS\u001b[1m]\u001b[0m find best mappings: done\n"
      ]
     },
     "metadata": {},
     "output_type": "display_data"
    },
    {
     "data": {
      "text/html": [
       "<pre style=\"white-space:pre;overflow-x:auto;line-height:normal;font-family:Menlo,'DejaVu Sans Mono',consolas,'Courier New',monospace\"><span style=\"font-weight: bold\">[</span>PROGRESS<span style=\"font-weight: bold\">]</span> results aligned: done\n",
       "</pre>\n"
      ],
      "text/plain": [
       "\u001b[1m[\u001b[0mPROGRESS\u001b[1m]\u001b[0m results aligned: done\n"
      ]
     },
     "metadata": {},
     "output_type": "display_data"
    },
    {
     "data": {
      "application/vnd.jupyter.widget-view+json": {
       "model_id": "2e2df113b95240fd8fed169625b4e15e",
       "version_major": 2,
       "version_minor": 0
      },
      "text/plain": [
       "  0%|          | 0/9911 [00:00<?, ?it/s]"
      ]
     },
     "metadata": {},
     "output_type": "display_data"
    },
    {
     "data": {
      "text/html": [
       "<pre style=\"white-space:pre;overflow-x:auto;line-height:normal;font-family:Menlo,'DejaVu Sans Mono',consolas,'Courier New',monospace\"><span style=\"font-weight: bold\">[</span>PROGRESS<span style=\"font-weight: bold\">]</span> membership df: done\n",
       "</pre>\n"
      ],
      "text/plain": [
       "\u001b[1m[\u001b[0mPROGRESS\u001b[1m]\u001b[0m membership df: done\n"
      ]
     },
     "metadata": {},
     "output_type": "display_data"
    },
    {
     "data": {
      "text/html": [
       "<pre style=\"white-space:pre;overflow-x:auto;line-height:normal;font-family:Menlo,'DejaVu Sans Mono',consolas,'Courier New',monospace\"><span style=\"font-weight: bold\">[</span>PROGRESS<span style=\"font-weight: bold\">]</span> <span style=\"color: #008000; text-decoration-color: #008000\">'result.npy'</span> saved at\n",
       "<span style=\"color: #800080; text-decoration-color: #800080\">/home/hadi/Documents/Ca-fMRI/processed/norm-global_parcel-spatial-sym_n-128/results/SVINET/bo</span>\n",
       "<span style=\"color: #800080; text-decoration-color: #800080\">ld_pearson_task-rest_sub-SLC07_n128/p-1/</span><span style=\"color: #ff00ff; text-decoration-color: #ff00ff\">k5-cosine-linksampling-</span><span style=\"font-weight: bold\">(</span>2021_08_07<span style=\"font-weight: bold\">)</span>\n",
       "</pre>\n"
      ],
      "text/plain": [
       "\u001b[1m[\u001b[0mPROGRESS\u001b[1m]\u001b[0m \u001b[32m'result.npy'\u001b[0m saved at\n",
       "\u001b[35m/home/hadi/Documents/Ca-fMRI/processed/norm-global_parcel-spatial-sym_n-128/results/SVINET/bo\u001b[0m\n",
       "\u001b[35mld_pearson_task-rest_sub-SLC07_n128/p-1/\u001b[0m\u001b[95mk5-cosine-linksampling-\u001b[0m\u001b[1m(\u001b[0m2021_08_07\u001b[1m)\u001b[0m\n"
      ]
     },
     "metadata": {},
     "output_type": "display_data"
    },
    {
     "data": {
      "text/html": [
       "<pre style=\"white-space:pre;overflow-x:auto;line-height:normal;font-family:Menlo,'DejaVu Sans Mono',consolas,'Courier New',monospace\"><span style=\"font-weight: bold\">[</span>PROGRESS<span style=\"font-weight: bold\">]</span> <span style=\"color: #008000; text-decoration-color: #008000\">'perf.df'</span> saved at\n",
       "<span style=\"color: #800080; text-decoration-color: #800080\">/home/hadi/Documents/Ca-fMRI/processed/norm-global_parcel-spatial-sym_n-128/results/SVINET/bo</span>\n",
       "<span style=\"color: #800080; text-decoration-color: #800080\">ld_pearson_task-rest_sub-SLC07_n128/p-1/</span><span style=\"color: #ff00ff; text-decoration-color: #ff00ff\">k5-cosine-linksampling-</span><span style=\"font-weight: bold\">(</span>2021_08_07<span style=\"font-weight: bold\">)</span>\n",
       "</pre>\n"
      ],
      "text/plain": [
       "\u001b[1m[\u001b[0mPROGRESS\u001b[1m]\u001b[0m \u001b[32m'perf.df'\u001b[0m saved at\n",
       "\u001b[35m/home/hadi/Documents/Ca-fMRI/processed/norm-global_parcel-spatial-sym_n-128/results/SVINET/bo\u001b[0m\n",
       "\u001b[35mld_pearson_task-rest_sub-SLC07_n128/p-1/\u001b[0m\u001b[95mk5-cosine-linksampling-\u001b[0m\u001b[1m(\u001b[0m2021_08_07\u001b[1m)\u001b[0m\n"
      ]
     },
     "metadata": {},
     "output_type": "display_data"
    },
    {
     "data": {
      "text/html": [
       "<pre style=\"white-space:pre;overflow-x:auto;line-height:normal;font-family:Menlo,'DejaVu Sans Mono',consolas,'Courier New',monospace\"><span style=\"font-weight: bold\">[</span>PROGRESS<span style=\"font-weight: bold\">]</span> <span style=\"color: #008000; text-decoration-color: #008000\">'pi_cut.df'</span> saved at\n",
       "<span style=\"color: #800080; text-decoration-color: #800080\">/home/hadi/Documents/Ca-fMRI/processed/norm-global_parcel-spatial-sym_n-128/results/SVINET/bo</span>\n",
       "<span style=\"color: #800080; text-decoration-color: #800080\">ld_pearson_task-rest_sub-SLC07_n128/p-1/</span><span style=\"color: #ff00ff; text-decoration-color: #ff00ff\">k5-cosine-linksampling-</span><span style=\"font-weight: bold\">(</span>2021_08_07<span style=\"font-weight: bold\">)</span>\n",
       "</pre>\n"
      ],
      "text/plain": [
       "\u001b[1m[\u001b[0mPROGRESS\u001b[1m]\u001b[0m \u001b[32m'pi_cut.df'\u001b[0m saved at\n",
       "\u001b[35m/home/hadi/Documents/Ca-fMRI/processed/norm-global_parcel-spatial-sym_n-128/results/SVINET/bo\u001b[0m\n",
       "\u001b[35mld_pearson_task-rest_sub-SLC07_n128/p-1/\u001b[0m\u001b[95mk5-cosine-linksampling-\u001b[0m\u001b[1m(\u001b[0m2021_08_07\u001b[1m)\u001b[0m\n"
      ]
     },
     "metadata": {},
     "output_type": "display_data"
    },
    {
     "data": {
      "application/vnd.jupyter.widget-view+json": {
       "model_id": "",
       "version_major": 2,
       "version_minor": 0
      },
      "text/plain": [
       "  0%|          | 0/100 [00:00<?, ?it/s]"
      ]
     },
     "metadata": {},
     "output_type": "display_data"
    },
    {
     "data": {
      "image/png": "[encoded data removed]"
     },
     "metadata": {},
     "output_type": "display_data"
    },
    {
     "data": {
      "text/html": [
       "<pre style=\"white-space:pre;overflow-x:auto;line-height:normal;font-family:Menlo,'DejaVu Sans Mono',consolas,'Courier New',monospace\"><span style=\"font-weight: bold\">[</span>PROGRESS<span style=\"font-weight: bold\">]</span> process results: done\n",
       "</pre>\n"
      ],
      "text/plain": [
       "\u001b[1m[\u001b[0mPROGRESS\u001b[1m]\u001b[0m process results: done\n"
      ]
     },
     "metadata": {},
     "output_type": "display_data"
    },
    {
     "data": {
      "text/html": [
       "<pre style=\"white-space:pre;overflow-x:auto;line-height:normal;font-family:Menlo,'DejaVu Sans Mono',consolas,'Courier New',monospace\">Scene saved at <span style=\"color: #800080; text-decoration-color: #800080\">/home/hadi/Documents/Ca-fMRI/processed/norm-global_parcel-spatial-sym_n-128/re</span>\n",
       "<span style=\"color: #800080; text-decoration-color: #800080\">sults/SVINET/bold_pearson_task-rest_sub-SLC07_n128/p-1/</span><span style=\"color: #ff00ff; text-decoration-color: #ff00ff\">k5-cosine-linksampling-</span><span style=\"font-weight: bold\">(</span>2021_08_07<span style=\"font-weight: bold\">)</span><span style=\"color: #800080; text-decoration-color: #800080\">/re</span>\n",
       "<span style=\"color: #800080; text-decoration-color: #800080\">nder/</span><span style=\"color: #ff00ff; text-decoration-color: #ff00ff\">overlap_cortex_k5.html</span>\n",
       "</pre>\n"
      ],
      "text/plain": [
       "Scene saved at \u001b[35m/home/hadi/Documents/Ca-fMRI/processed/norm-global_parcel-spatial-sym_n-128/re\u001b[0m\n",
       "\u001b[35msults/SVINET/bold_pearson_task-rest_sub-SLC07_n128/p-1/\u001b[0m\u001b[95mk5-cosine-linksampling-\u001b[0m\u001b[1m(\u001b[0m2021_08_07\u001b[1m)\u001b[0m\u001b[35m/re\u001b[0m\n",
       "\u001b[35mnder/\u001b[0m\u001b[95moverlap_cortex_k5.html\u001b[0m\n"
      ]
     },
     "metadata": {},
     "output_type": "display_data"
    },
    {
     "data": {
      "text/html": [
       "<pre style=\"white-space:pre;overflow-x:auto;line-height:normal;font-family:Menlo,'DejaVu Sans Mono',consolas,'Courier New',monospace\">Scene saved at <span style=\"color: #800080; text-decoration-color: #800080\">/home/hadi/Documents/Ca-fMRI/processed/norm-global_parcel-spatial-sym_n-128/re</span>\n",
       "<span style=\"color: #800080; text-decoration-color: #800080\">sults/SVINET/bold_pearson_task-rest_sub-SLC07_n128/p-1/</span><span style=\"color: #ff00ff; text-decoration-color: #ff00ff\">k5-cosine-linksampling-</span><span style=\"font-weight: bold\">(</span>2021_08_07<span style=\"font-weight: bold\">)</span><span style=\"color: #800080; text-decoration-color: #800080\">/re</span>\n",
       "<span style=\"color: #800080; text-decoration-color: #800080\">nder/</span><span style=\"color: #ff00ff; text-decoration-color: #ff00ff\">disjoint_cortex_k5.html</span>\n",
       "</pre>\n"
      ],
      "text/plain": [
       "Scene saved at \u001b[35m/home/hadi/Documents/Ca-fMRI/processed/norm-global_parcel-spatial-sym_n-128/re\u001b[0m\n",
       "\u001b[35msults/SVINET/bold_pearson_task-rest_sub-SLC07_n128/p-1/\u001b[0m\u001b[95mk5-cosine-linksampling-\u001b[0m\u001b[1m(\u001b[0m2021_08_07\u001b[1m)\u001b[0m\u001b[35m/re\u001b[0m\n",
       "\u001b[35mnder/\u001b[0m\u001b[95mdisjoint_cortex_k5.html\u001b[0m\n"
      ]
     },
     "metadata": {},
     "output_type": "display_data"
    },
    {
     "data": {
      "text/html": [
       "<pre style=\"white-space:pre;overflow-x:auto;line-height:normal;font-family:Menlo,'DejaVu Sans Mono',consolas,'Courier New',monospace\">Scene saved at <span style=\"color: #800080; text-decoration-color: #800080\">/home/hadi/Documents/Ca-fMRI/processed/norm-global_parcel-spatial-sym_n-128/re</span>\n",
       "<span style=\"color: #800080; text-decoration-color: #800080\">sults/SVINET/bold_pearson_task-rest_sub-SLC07_n128/p-1/</span><span style=\"color: #ff00ff; text-decoration-color: #ff00ff\">k5-cosine-linksampling-</span><span style=\"font-weight: bold\">(</span>2021_08_07<span style=\"font-weight: bold\">)</span><span style=\"color: #800080; text-decoration-color: #800080\">/re</span>\n",
       "<span style=\"color: #800080; text-decoration-color: #800080\">nder/</span><span style=\"color: #ff00ff; text-decoration-color: #ff00ff\">overlap_brain_k5.html</span>\n",
       "</pre>\n"
      ],
      "text/plain": [
       "Scene saved at \u001b[35m/home/hadi/Documents/Ca-fMRI/processed/norm-global_parcel-spatial-sym_n-128/re\u001b[0m\n",
       "\u001b[35msults/SVINET/bold_pearson_task-rest_sub-SLC07_n128/p-1/\u001b[0m\u001b[95mk5-cosine-linksampling-\u001b[0m\u001b[1m(\u001b[0m2021_08_07\u001b[1m)\u001b[0m\u001b[35m/re\u001b[0m\n",
       "\u001b[35mnder/\u001b[0m\u001b[95moverlap_brain_k5.html\u001b[0m\n"
      ]
     },
     "metadata": {},
     "output_type": "display_data"
    },
    {
     "data": {
      "text/html": [
       "<pre style=\"white-space:pre;overflow-x:auto;line-height:normal;font-family:Menlo,'DejaVu Sans Mono',consolas,'Courier New',monospace\">Scene saved at <span style=\"color: #800080; text-decoration-color: #800080\">/home/hadi/Documents/Ca-fMRI/processed/norm-global_parcel-spatial-sym_n-128/re</span>\n",
       "<span style=\"color: #800080; text-decoration-color: #800080\">sults/SVINET/bold_pearson_task-rest_sub-SLC07_n128/p-1/</span><span style=\"color: #ff00ff; text-decoration-color: #ff00ff\">k5-cosine-linksampling-</span><span style=\"font-weight: bold\">(</span>2021_08_07<span style=\"font-weight: bold\">)</span><span style=\"color: #800080; text-decoration-color: #800080\">/re</span>\n",
       "<span style=\"color: #800080; text-decoration-color: #800080\">nder/</span><span style=\"color: #ff00ff; text-decoration-color: #ff00ff\">disjoint_brain_k5.html</span>\n",
       "</pre>\n"
      ],
      "text/plain": [
       "Scene saved at \u001b[35m/home/hadi/Documents/Ca-fMRI/processed/norm-global_parcel-spatial-sym_n-128/re\u001b[0m\n",
       "\u001b[35msults/SVINET/bold_pearson_task-rest_sub-SLC07_n128/p-1/\u001b[0m\u001b[95mk5-cosine-linksampling-\u001b[0m\u001b[1m(\u001b[0m2021_08_07\u001b[1m)\u001b[0m\u001b[35m/re\u001b[0m\n",
       "\u001b[35mnder/\u001b[0m\u001b[95mdisjoint_brain_k5.html\u001b[0m\n"
      ]
     },
     "metadata": {},
     "output_type": "display_data"
    },
    {
     "data": {
      "text/html": [
       "<pre style=\"white-space:pre;overflow-x:auto;line-height:normal;font-family:Menlo,'DejaVu Sans Mono',consolas,'Courier New',monospace\"><span style=\"font-weight: bold\">[</span>PROGRESS<span style=\"font-weight: bold\">]</span> fit: done!\n",
       "\n",
       "\n",
       "</pre>\n"
      ],
      "text/plain": [
       "\u001b[1m[\u001b[0mPROGRESS\u001b[1m]\u001b[0m fit: done!\n",
       "\n",
       "\n"
      ]
     },
     "metadata": {},
     "output_type": "display_data"
    },
    {
     "data": {
      "text/html": [
       "<pre style=\"white-space:pre;overflow-x:auto;line-height:normal;font-family:Menlo,'DejaVu Sans Mono',consolas,'Courier New',monospace\"><span style=\"color: #008080; text-decoration-color: #008080; font-weight: bold\">00</span> - <span style=\"color: #00ff00; text-decoration-color: #00ff00; font-weight: bold\">00:05:18</span>  <span style=\"font-weight: bold\">(</span>dd - hh:mm:ss<span style=\"font-weight: bold\">)</span>\n",
       "\n",
       "</pre>\n"
      ],
      "text/plain": [
       "\u001b[1;36m00\u001b[0m - \u001b[1;92m00:05:18\u001b[0m  \u001b[1m(\u001b[0mdd - hh:mm:ss\u001b[1m)\u001b[0m\n",
       "\n"
      ]
     },
     "metadata": {},
     "output_type": "display_data"
    }
   ],
   "source": [
    "k = 5\n",
    "p = -1\n",
    "\n",
    "key = 'sub-SLC07'\n",
    "\n",
    "start = time()\n",
    "svinet = SVINET(\n",
    "    mice=mice,\n",
    "    num_k=k,\n",
    "    perc=p,\n",
    "    key=key,\n",
    "    mode=mode,\n",
    "    metric=metric,\n",
    "    match_metric=match_metric,\n",
    "    verbose=True,\n",
    ").load_runs('/home/hadi/Documents/workspaces/svinet_test').fit_svinet()\n",
    "convert_time(time()-start)"
   ]
  },
  {
   "cell_type": "code",
   "execution_count": null,
   "id": "07d38f5c",
   "metadata": {},
   "outputs": [],
   "source": []
  },
  {
   "cell_type": "code",
   "execution_count": 5,
   "id": "f2653d05",
   "metadata": {},
   "outputs": [
    {
     "data": {
      "text/html": [
       "<pre style=\"white-space:pre;overflow-x:auto;line-height:normal;font-family:Menlo,'DejaVu Sans Mono',consolas,'Courier New',monospace\"><span style=\"color: #008080; text-decoration-color: #008080; font-weight: bold\">10</span>\n",
       "</pre>\n"
      ],
      "text/plain": [
       "\u001b[1;36m10\u001b[0m\n"
      ]
     },
     "metadata": {},
     "output_type": "display_data"
    }
   ],
   "source": [
    "len(svinet._runs)"
   ]
  },
  {
   "cell_type": "code",
   "execution_count": null,
   "id": "4c0e3daa",
   "metadata": {},
   "outputs": [],
   "source": []
  },
  {
   "cell_type": "code",
   "execution_count": null,
   "id": "3a0aa416",
   "metadata": {},
   "outputs": [],
   "source": []
  },
  {
   "cell_type": "code",
   "execution_count": 9,
   "id": "82a14430",
   "metadata": {},
   "outputs": [],
   "source": [
    "def load_svinet_runs(path: str, num_nodes: int):\n",
    "    # load community\n",
    "    with open(pjoin(path, 'communities.txt'), 'r') as f:\n",
    "        lines = f.readlines()\n",
    "\n",
    "    community_sv = {}\n",
    "    for i, line in enumerate(lines):\n",
    "        x = line.strip('\\n').split(' ')\n",
    "        x = list(filter(None, x))\n",
    "        community_sv[i] = [int(s) for s in x]\n",
    "\n",
    "    # load membership\n",
    "    with open(pjoin(path, 'groups.txt'), 'r') as f:\n",
    "        lines = f.readlines()\n",
    "\n",
    "    membership_sv = {}\n",
    "    for line in lines:\n",
    "        x = line.strip('\\n').split('\\t')\n",
    "        node = int(x[1])\n",
    "        mem = [float(s) for s in x[2:]]\n",
    "        membership_sv[node] = np.array(mem)\n",
    "    _num = len(list(membership_sv.values())[0])\n",
    "    for node in range(num_nodes):\n",
    "        if node not in membership_sv:\n",
    "            membership_sv[node] = np.zeros(_num)\n",
    "    # noinspection PyTypeChecker\n",
    "    membership_sv = dict(sorted(membership_sv.items()))\n",
    "\n",
    "    # get partition (by argmaxing)\n",
    "    pi = np.concatenate([\n",
    "        np.reshape(x, (1, -1))\n",
    "        for x in membership_sv.values()\n",
    "    ])\n",
    "    partition_sv = {\n",
    "        i: comm_idx for i, comm_idx\n",
    "        in enumerate(np.argmax(pi, axis=1))\n",
    "    }\n",
    "\n",
    "    included = []\n",
    "    for v in community_sv.values():\n",
    "        included.extend(v)\n",
    "    num_included = len(set(included))\n",
    "\n",
    "    results = {\n",
    "        'community_sv': community_sv,\n",
    "        'membership_sv': membership_sv,\n",
    "        'partition_sv': partition_sv,\n",
    "        'pi': pi.T,\n",
    "        'num_missing': len(pi) - num_included,\n",
    "        'num_overlap': len(included) - num_included,\n",
    "    }\n",
    "    return results"
   ]
  },
  {
   "cell_type": "code",
   "execution_count": 11,
   "id": "76562ba2",
   "metadata": {},
   "outputs": [
    {
     "data": {
      "text/html": [
       "<pre style=\"white-space:pre;overflow-x:auto;line-height:normal;font-family:Menlo,'DejaVu Sans Mono',consolas,'Courier New',monospace\"><span style=\"font-weight: bold\">[</span>\n",
       "    <span style=\"color: #008000; text-decoration-color: #008000\">'infer.log'</span>,\n",
       "    <span style=\"color: #008000; text-decoration-color: #008000\">'test.txt'</span>,\n",
       "    <span style=\"color: #008000; text-decoration-color: #008000\">'validation-edges.txt'</span>,\n",
       "    <span style=\"color: #008000; text-decoration-color: #008000\">'groups.txt'</span>,\n",
       "    <span style=\"color: #008000; text-decoration-color: #008000\">'param.txt'</span>,\n",
       "    <span style=\"color: #008000; text-decoration-color: #008000\">'test-edges.txt'</span>,\n",
       "    <span style=\"color: #008000; text-decoration-color: #008000\">'logl.txt'</span>,\n",
       "    <span style=\"color: #008000; text-decoration-color: #008000\">'network.dat'</span>,\n",
       "    <span style=\"color: #008000; text-decoration-color: #008000\">'communities.txt'</span>,\n",
       "    <span style=\"color: #008000; text-decoration-color: #008000\">'validation.txt'</span>,\n",
       "    <span style=\"color: #008000; text-decoration-color: #008000\">'max.txt'</span>,\n",
       "    <span style=\"color: #008000; text-decoration-color: #008000\">'gamma.txt'</span>,\n",
       "    <span style=\"color: #008000; text-decoration-color: #008000\">'lambda.txt'</span>\n",
       "<span style=\"font-weight: bold\">]</span>\n",
       "</pre>\n"
      ],
      "text/plain": [
       "\u001b[1m[\u001b[0m\n",
       "    \u001b[32m'infer.log'\u001b[0m,\n",
       "    \u001b[32m'test.txt'\u001b[0m,\n",
       "    \u001b[32m'validation-edges.txt'\u001b[0m,\n",
       "    \u001b[32m'groups.txt'\u001b[0m,\n",
       "    \u001b[32m'param.txt'\u001b[0m,\n",
       "    \u001b[32m'test-edges.txt'\u001b[0m,\n",
       "    \u001b[32m'logl.txt'\u001b[0m,\n",
       "    \u001b[32m'network.dat'\u001b[0m,\n",
       "    \u001b[32m'communities.txt'\u001b[0m,\n",
       "    \u001b[32m'validation.txt'\u001b[0m,\n",
       "    \u001b[32m'max.txt'\u001b[0m,\n",
       "    \u001b[32m'gamma.txt'\u001b[0m,\n",
       "    \u001b[32m'lambda.txt'\u001b[0m\n",
       "\u001b[1m]\u001b[0m\n"
      ]
     },
     "metadata": {},
     "output_type": "display_data"
    }
   ],
   "source": [
    "path = '/home/hadi/Documents/workspaces/svinet/bold_pearson_task-rest_sub-SLC07_ses-1_n128/real/p20/n138-k5-mmsb-seed1-linksampling'\n",
    "os.listdir(path)"
   ]
  },
  {
   "cell_type": "code",
   "execution_count": null,
   "id": "03e03839",
   "metadata": {},
   "outputs": [],
   "source": []
  },
  {
   "cell_type": "code",
   "execution_count": 40,
   "id": "4ecd5bc5",
   "metadata": {},
   "outputs": [],
   "source": [
    "def _edge_sort_fn(e):\n",
    "    i, j = e\n",
    "    return j + 1e5 * i"
   ]
  },
  {
   "cell_type": "code",
   "execution_count": 45,
   "id": "aef5c3be",
   "metadata": {},
   "outputs": [],
   "source": [
    "with open(pjoin(path, 'validation-edges.txt'), 'r') as f:\n",
    "    lines = f.readlines()\n",
    "\n",
    "valid_edges = collections.defaultdict(list)\n",
    "for i, line in enumerate(lines):\n",
    "    x = line.strip('\\n').split('\\t')\n",
    "    x = list(filter(None, x))\n",
    "    if len(x):\n",
    "        i, j, k = tuple(map(lambda s: int(s), x))\n",
    "        valid_edges[k].append((i, j))\n",
    "valid_edges = dict(sorted([(k, sorted(v, key=_edge_sort_fn)) for k,v in valid_edges.items()]))"
   ]
  },
  {
   "cell_type": "code",
   "execution_count": 46,
   "id": "95ddaa03",
   "metadata": {},
   "outputs": [
    {
     "data": {
      "text/html": [
       "<pre style=\"white-space:pre;overflow-x:auto;line-height:normal;font-family:Menlo,'DejaVu Sans Mono',consolas,'Courier New',monospace\"><span style=\"font-weight: bold\">{</span>\n",
       "    <span style=\"color: #008080; text-decoration-color: #008080; font-weight: bold\">0</span>: <span style=\"font-weight: bold\">[</span>\n",
       "        <span style=\"font-weight: bold\">(</span><span style=\"color: #008080; text-decoration-color: #008080; font-weight: bold\">10</span>, <span style=\"color: #008080; text-decoration-color: #008080; font-weight: bold\">132</span><span style=\"font-weight: bold\">)</span>,\n",
       "        <span style=\"font-weight: bold\">(</span><span style=\"color: #008080; text-decoration-color: #008080; font-weight: bold\">31</span>, <span style=\"color: #008080; text-decoration-color: #008080; font-weight: bold\">112</span><span style=\"font-weight: bold\">)</span>,\n",
       "        <span style=\"font-weight: bold\">(</span><span style=\"color: #008080; text-decoration-color: #008080; font-weight: bold\">78</span>, <span style=\"color: #008080; text-decoration-color: #008080; font-weight: bold\">64</span><span style=\"font-weight: bold\">)</span>,\n",
       "        <span style=\"font-weight: bold\">(</span><span style=\"color: #008080; text-decoration-color: #008080; font-weight: bold\">79</span>, <span style=\"color: #008080; text-decoration-color: #008080; font-weight: bold\">99</span><span style=\"font-weight: bold\">)</span>,\n",
       "        <span style=\"font-weight: bold\">(</span><span style=\"color: #008080; text-decoration-color: #008080; font-weight: bold\">96</span>, <span style=\"color: #008080; text-decoration-color: #008080; font-weight: bold\">134</span><span style=\"font-weight: bold\">)</span>,\n",
       "        <span style=\"font-weight: bold\">(</span><span style=\"color: #008080; text-decoration-color: #008080; font-weight: bold\">113</span>, <span style=\"color: #008080; text-decoration-color: #008080; font-weight: bold\">65</span><span style=\"font-weight: bold\">)</span>,\n",
       "        <span style=\"font-weight: bold\">(</span><span style=\"color: #008080; text-decoration-color: #008080; font-weight: bold\">114</span>, <span style=\"color: #008080; text-decoration-color: #008080; font-weight: bold\">132</span><span style=\"font-weight: bold\">)</span>\n",
       "    <span style=\"font-weight: bold\">]</span>,\n",
       "    <span style=\"color: #008080; text-decoration-color: #008080; font-weight: bold\">1</span>: <span style=\"font-weight: bold\">[(</span><span style=\"color: #008080; text-decoration-color: #008080; font-weight: bold\">0</span>, <span style=\"color: #008080; text-decoration-color: #008080; font-weight: bold\">32</span><span style=\"font-weight: bold\">)</span>, <span style=\"font-weight: bold\">(</span><span style=\"color: #008080; text-decoration-color: #008080; font-weight: bold\">18</span>, <span style=\"color: #008080; text-decoration-color: #008080; font-weight: bold\">96</span><span style=\"font-weight: bold\">)</span>, <span style=\"font-weight: bold\">(</span><span style=\"color: #008080; text-decoration-color: #008080; font-weight: bold\">19</span>, <span style=\"color: #008080; text-decoration-color: #008080; font-weight: bold\">85</span><span style=\"font-weight: bold\">)</span>, <span style=\"font-weight: bold\">(</span><span style=\"color: #008080; text-decoration-color: #008080; font-weight: bold\">38</span>, <span style=\"color: #008080; text-decoration-color: #008080; font-weight: bold\">107</span><span style=\"font-weight: bold\">)</span>, <span style=\"font-weight: bold\">(</span><span style=\"color: #008080; text-decoration-color: #008080; font-weight: bold\">55</span>, <span style=\"color: #008080; text-decoration-color: #008080; font-weight: bold\">107</span><span style=\"font-weight: bold\">)</span>, <span style=\"font-weight: bold\">(</span><span style=\"color: #008080; text-decoration-color: #008080; font-weight: bold\">69</span>, <span style=\"color: #008080; text-decoration-color: #008080; font-weight: bold\">89</span><span style=\"font-weight: bold\">)</span>, <span style=\"font-weight: bold\">(</span><span style=\"color: #008080; text-decoration-color: #008080; font-weight: bold\">92</span>, <span style=\"color: #008080; text-decoration-color: #008080; font-weight: bold\">27</span><span style=\"font-weight: bold\">)]</span>\n",
       "<span style=\"font-weight: bold\">}</span>\n",
       "</pre>\n"
      ],
      "text/plain": [
       "\u001b[1m{\u001b[0m\n",
       "    \u001b[1;36m0\u001b[0m: \u001b[1m[\u001b[0m\n",
       "        \u001b[1m(\u001b[0m\u001b[1;36m10\u001b[0m, \u001b[1;36m132\u001b[0m\u001b[1m)\u001b[0m,\n",
       "        \u001b[1m(\u001b[0m\u001b[1;36m31\u001b[0m, \u001b[1;36m112\u001b[0m\u001b[1m)\u001b[0m,\n",
       "        \u001b[1m(\u001b[0m\u001b[1;36m78\u001b[0m, \u001b[1;36m64\u001b[0m\u001b[1m)\u001b[0m,\n",
       "        \u001b[1m(\u001b[0m\u001b[1;36m79\u001b[0m, \u001b[1;36m99\u001b[0m\u001b[1m)\u001b[0m,\n",
       "        \u001b[1m(\u001b[0m\u001b[1;36m96\u001b[0m, \u001b[1;36m134\u001b[0m\u001b[1m)\u001b[0m,\n",
       "        \u001b[1m(\u001b[0m\u001b[1;36m113\u001b[0m, \u001b[1;36m65\u001b[0m\u001b[1m)\u001b[0m,\n",
       "        \u001b[1m(\u001b[0m\u001b[1;36m114\u001b[0m, \u001b[1;36m132\u001b[0m\u001b[1m)\u001b[0m\n",
       "    \u001b[1m]\u001b[0m,\n",
       "    \u001b[1;36m1\u001b[0m: \u001b[1m[\u001b[0m\u001b[1m(\u001b[0m\u001b[1;36m0\u001b[0m, \u001b[1;36m32\u001b[0m\u001b[1m)\u001b[0m, \u001b[1m(\u001b[0m\u001b[1;36m18\u001b[0m, \u001b[1;36m96\u001b[0m\u001b[1m)\u001b[0m, \u001b[1m(\u001b[0m\u001b[1;36m19\u001b[0m, \u001b[1;36m85\u001b[0m\u001b[1m)\u001b[0m, \u001b[1m(\u001b[0m\u001b[1;36m38\u001b[0m, \u001b[1;36m107\u001b[0m\u001b[1m)\u001b[0m, \u001b[1m(\u001b[0m\u001b[1;36m55\u001b[0m, \u001b[1;36m107\u001b[0m\u001b[1m)\u001b[0m, \u001b[1m(\u001b[0m\u001b[1;36m69\u001b[0m, \u001b[1;36m89\u001b[0m\u001b[1m)\u001b[0m, \u001b[1m(\u001b[0m\u001b[1;36m92\u001b[0m, \u001b[1;36m27\u001b[0m\u001b[1m)\u001b[0m\u001b[1m]\u001b[0m\n",
       "\u001b[1m}\u001b[0m\n"
      ]
     },
     "metadata": {},
     "output_type": "display_data"
    }
   ],
   "source": [
    "valid_edges"
   ]
  },
  {
   "cell_type": "code",
   "execution_count": null,
   "id": "8e6501ed",
   "metadata": {},
   "outputs": [],
   "source": []
  },
  {
   "cell_type": "code",
   "execution_count": 47,
   "id": "005c96c5",
   "metadata": {},
   "outputs": [],
   "source": []
  },
  {
   "cell_type": "code",
   "execution_count": 109,
   "id": "b85f4db2",
   "metadata": {},
   "outputs": [],
   "source": [
    "run = load_svinet_runs(path, 138)"
   ]
  },
  {
   "cell_type": "code",
   "execution_count": 110,
   "id": "c42375df",
   "metadata": {},
   "outputs": [
    {
     "data": {
      "text/html": [
       "<pre style=\"white-space:pre;overflow-x:auto;line-height:normal;font-family:Menlo,'DejaVu Sans Mono',consolas,'Courier New',monospace\"><span style=\"font-weight: bold\">[</span>\n",
       "    <span style=\"color: #008000; text-decoration-color: #008000\">'valid'</span>,\n",
       "    <span style=\"color: #008000; text-decoration-color: #008000\">'gamma_sv'</span>,\n",
       "    <span style=\"color: #008000; text-decoration-color: #008000\">'lambda_sv'</span>,\n",
       "    <span style=\"color: #008000; text-decoration-color: #008000\">'community_sv'</span>,\n",
       "    <span style=\"color: #008000; text-decoration-color: #008000\">'membership_sv'</span>,\n",
       "    <span style=\"color: #008000; text-decoration-color: #008000\">'partition_sv'</span>,\n",
       "    <span style=\"color: #008000; text-decoration-color: #008000\">'num_missing'</span>,\n",
       "    <span style=\"color: #008000; text-decoration-color: #008000\">'num_overlap'</span>,\n",
       "    <span style=\"color: #008000; text-decoration-color: #008000\">'gam'</span>,\n",
       "    <span style=\"color: #008000; text-decoration-color: #008000\">'pi'</span>\n",
       "<span style=\"font-weight: bold\">]</span>\n",
       "</pre>\n"
      ],
      "text/plain": [
       "\u001b[1m[\u001b[0m\n",
       "    \u001b[32m'valid'\u001b[0m,\n",
       "    \u001b[32m'gamma_sv'\u001b[0m,\n",
       "    \u001b[32m'lambda_sv'\u001b[0m,\n",
       "    \u001b[32m'community_sv'\u001b[0m,\n",
       "    \u001b[32m'membership_sv'\u001b[0m,\n",
       "    \u001b[32m'partition_sv'\u001b[0m,\n",
       "    \u001b[32m'num_missing'\u001b[0m,\n",
       "    \u001b[32m'num_overlap'\u001b[0m,\n",
       "    \u001b[32m'gam'\u001b[0m,\n",
       "    \u001b[32m'pi'\u001b[0m\n",
       "\u001b[1m]\u001b[0m\n"
      ]
     },
     "metadata": {},
     "output_type": "display_data"
    }
   ],
   "source": [
    "list(run)"
   ]
  },
  {
   "cell_type": "code",
   "execution_count": 111,
   "id": "b698c4d6",
   "metadata": {},
   "outputs": [
    {
     "data": {
      "text/html": [
       "<pre style=\"white-space:pre;overflow-x:auto;line-height:normal;font-family:Menlo,'DejaVu Sans Mono',consolas,'Courier New',monospace\"><span style=\"font-weight: bold\">(</span><span style=\"color: #008080; text-decoration-color: #008080; font-weight: bold\">5</span>, <span style=\"color: #008080; text-decoration-color: #008080; font-weight: bold\">138</span><span style=\"font-weight: bold\">)</span>\n",
       "</pre>\n"
      ],
      "text/plain": [
       "\u001b[1m(\u001b[0m\u001b[1;36m5\u001b[0m, \u001b[1;36m138\u001b[0m\u001b[1m)\u001b[0m\n"
      ]
     },
     "metadata": {},
     "output_type": "display_data"
    }
   ],
   "source": [
    "run['gam'].shape"
   ]
  },
  {
   "cell_type": "code",
   "execution_count": 115,
   "id": "eab949e9",
   "metadata": {},
   "outputs": [
    {
     "data": {
      "text/html": [
       "<pre style=\"white-space:pre;overflow-x:auto;line-height:normal;font-family:Menlo,'DejaVu Sans Mono',consolas,'Courier New',monospace\"><span style=\"font-weight: bold\">[&lt;</span><span style=\"color: #ff00ff; text-decoration-color: #ff00ff; font-weight: bold\">matplotlib.lines.Line2D</span><span style=\"color: #000000; text-decoration-color: #000000\"> object at </span><span style=\"color: #008080; text-decoration-color: #008080; font-weight: bold\">0x7f7247047850</span><span style=\"font-weight: bold\">&gt;]</span>\n",
       "</pre>\n"
      ],
      "text/plain": [
       "\u001b[1m[\u001b[0m\u001b[1m<\u001b[0m\u001b[1;95mmatplotlib.lines.Line2D\u001b[0m\u001b[39m object at \u001b[0m\u001b[1;36m0x7f7247047850\u001b[0m\u001b[1m>\u001b[0m\u001b[1m]\u001b[0m\n"
      ]
     },
     "metadata": {},
     "output_type": "display_data"
    },
    {
     "data": {
      "image/png": "[encoded data removed]"
     },
     "metadata": {},
     "output_type": "display_data"
    }
   ],
   "source": [
    "plt.plot(run['gam'][3])"
   ]
  },
  {
   "cell_type": "code",
   "execution_count": 116,
   "id": "161dd90a",
   "metadata": {},
   "outputs": [
    {
     "data": {
      "text/html": [
       "<pre style=\"white-space:pre;overflow-x:auto;line-height:normal;font-family:Menlo,'DejaVu Sans Mono',consolas,'Courier New',monospace\"><span style=\"color: #800080; text-decoration-color: #800080; font-weight: bold\">array</span><span style=\"font-weight: bold\">([</span><span style=\"color: #008080; text-decoration-color: #008080; font-weight: bold\">69.50001</span>, <span style=\"color: #008080; text-decoration-color: #008080; font-weight: bold\">69.5</span>    , <span style=\"color: #008080; text-decoration-color: #008080; font-weight: bold\">69.5</span>    , <span style=\"color: #008080; text-decoration-color: #008080; font-weight: bold\">69.49999</span>, <span style=\"color: #008080; text-decoration-color: #008080; font-weight: bold\">69.5</span>    , <span style=\"color: #008080; text-decoration-color: #008080; font-weight: bold\">69.5</span>    ,\n",
       "       <span style=\"color: #008080; text-decoration-color: #008080; font-weight: bold\">69.5</span>    , <span style=\"color: #008080; text-decoration-color: #008080; font-weight: bold\">69.5</span>    , <span style=\"color: #008080; text-decoration-color: #008080; font-weight: bold\">69.5</span>    , <span style=\"color: #008080; text-decoration-color: #008080; font-weight: bold\">69.50001</span>, <span style=\"color: #008080; text-decoration-color: #008080; font-weight: bold\">69.49999</span>, <span style=\"color: #008080; text-decoration-color: #008080; font-weight: bold\">69.5</span>    ,\n",
       "       <span style=\"color: #008080; text-decoration-color: #008080; font-weight: bold\">69.5</span>    , <span style=\"color: #008080; text-decoration-color: #008080; font-weight: bold\">69.5</span>    , <span style=\"color: #008080; text-decoration-color: #008080; font-weight: bold\">69.50001</span>, <span style=\"color: #008080; text-decoration-color: #008080; font-weight: bold\">69.5</span>    , <span style=\"color: #008080; text-decoration-color: #008080; font-weight: bold\">69.5</span>    , <span style=\"color: #008080; text-decoration-color: #008080; font-weight: bold\">69.50001</span>,\n",
       "       <span style=\"color: #008080; text-decoration-color: #008080; font-weight: bold\">69.5</span>    , <span style=\"color: #008080; text-decoration-color: #008080; font-weight: bold\">69.49999</span>, <span style=\"color: #008080; text-decoration-color: #008080; font-weight: bold\">69.5</span>    , <span style=\"color: #008080; text-decoration-color: #008080; font-weight: bold\">69.5</span>    , <span style=\"color: #008080; text-decoration-color: #008080; font-weight: bold\">69.5</span>    , <span style=\"color: #008080; text-decoration-color: #008080; font-weight: bold\">69.50001</span>,\n",
       "       <span style=\"color: #008080; text-decoration-color: #008080; font-weight: bold\">69.5</span>    , <span style=\"color: #008080; text-decoration-color: #008080; font-weight: bold\">69.49999</span>, <span style=\"color: #008080; text-decoration-color: #008080; font-weight: bold\">69.5</span>    , <span style=\"color: #008080; text-decoration-color: #008080; font-weight: bold\">69.49999</span>, <span style=\"color: #008080; text-decoration-color: #008080; font-weight: bold\">69.5</span>    , <span style=\"color: #008080; text-decoration-color: #008080; font-weight: bold\">69.49999</span>,\n",
       "       <span style=\"color: #008080; text-decoration-color: #008080; font-weight: bold\">69.5</span>    , <span style=\"color: #008080; text-decoration-color: #008080; font-weight: bold\">69.5</span>    , <span style=\"color: #008080; text-decoration-color: #008080; font-weight: bold\">69.5</span>    , <span style=\"color: #008080; text-decoration-color: #008080; font-weight: bold\">69.5</span>    , <span style=\"color: #008080; text-decoration-color: #008080; font-weight: bold\">69.5</span>    , <span style=\"color: #008080; text-decoration-color: #008080; font-weight: bold\">69.50001</span>,\n",
       "       <span style=\"color: #008080; text-decoration-color: #008080; font-weight: bold\">69.5</span>    , <span style=\"color: #008080; text-decoration-color: #008080; font-weight: bold\">69.5</span>    , <span style=\"color: #008080; text-decoration-color: #008080; font-weight: bold\">69.49999</span>, <span style=\"color: #008080; text-decoration-color: #008080; font-weight: bold\">69.5</span>    , <span style=\"color: #008080; text-decoration-color: #008080; font-weight: bold\">69.5</span>    , <span style=\"color: #008080; text-decoration-color: #008080; font-weight: bold\">69.5</span>    ,\n",
       "       <span style=\"color: #008080; text-decoration-color: #008080; font-weight: bold\">69.5</span>    , <span style=\"color: #008080; text-decoration-color: #008080; font-weight: bold\">69.50001</span>, <span style=\"color: #008080; text-decoration-color: #008080; font-weight: bold\">69.5</span>    , <span style=\"color: #008080; text-decoration-color: #008080; font-weight: bold\">69.5</span>    , <span style=\"color: #008080; text-decoration-color: #008080; font-weight: bold\">69.5</span>    , <span style=\"color: #008080; text-decoration-color: #008080; font-weight: bold\">69.49999</span>,\n",
       "       <span style=\"color: #008080; text-decoration-color: #008080; font-weight: bold\">69.5</span>    , <span style=\"color: #008080; text-decoration-color: #008080; font-weight: bold\">69.5</span>    , <span style=\"color: #008080; text-decoration-color: #008080; font-weight: bold\">69.5</span>    , <span style=\"color: #008080; text-decoration-color: #008080; font-weight: bold\">69.5</span>    , <span style=\"color: #008080; text-decoration-color: #008080; font-weight: bold\">69.5</span>    , <span style=\"color: #008080; text-decoration-color: #008080; font-weight: bold\">69.5</span>    ,\n",
       "       <span style=\"color: #008080; text-decoration-color: #008080; font-weight: bold\">69.5</span>    , <span style=\"color: #008080; text-decoration-color: #008080; font-weight: bold\">69.50001</span>, <span style=\"color: #008080; text-decoration-color: #008080; font-weight: bold\">69.5</span>    , <span style=\"color: #008080; text-decoration-color: #008080; font-weight: bold\">69.5</span>    , <span style=\"color: #008080; text-decoration-color: #008080; font-weight: bold\">69.5</span>    , <span style=\"color: #008080; text-decoration-color: #008080; font-weight: bold\">69.5</span>    ,\n",
       "       <span style=\"color: #008080; text-decoration-color: #008080; font-weight: bold\">69.5</span>    , <span style=\"color: #008080; text-decoration-color: #008080; font-weight: bold\">69.5</span>    , <span style=\"color: #008080; text-decoration-color: #008080; font-weight: bold\">69.5</span>    , <span style=\"color: #008080; text-decoration-color: #008080; font-weight: bold\">69.5</span>    , <span style=\"color: #008080; text-decoration-color: #008080; font-weight: bold\">69.5</span>    , <span style=\"color: #008080; text-decoration-color: #008080; font-weight: bold\">69.5</span>    ,\n",
       "       <span style=\"color: #008080; text-decoration-color: #008080; font-weight: bold\">69.5</span>    , <span style=\"color: #008080; text-decoration-color: #008080; font-weight: bold\">69.5</span>    , <span style=\"color: #008080; text-decoration-color: #008080; font-weight: bold\">69.5</span>    , <span style=\"color: #008080; text-decoration-color: #008080; font-weight: bold\">69.49999</span>, <span style=\"color: #008080; text-decoration-color: #008080; font-weight: bold\">69.50001</span>, <span style=\"color: #008080; text-decoration-color: #008080; font-weight: bold\">69.5</span>    ,\n",
       "       <span style=\"color: #008080; text-decoration-color: #008080; font-weight: bold\">69.50001</span>, <span style=\"color: #008080; text-decoration-color: #008080; font-weight: bold\">69.50001</span>, <span style=\"color: #008080; text-decoration-color: #008080; font-weight: bold\">69.5</span>    , <span style=\"color: #008080; text-decoration-color: #008080; font-weight: bold\">69.5</span>    , <span style=\"color: #008080; text-decoration-color: #008080; font-weight: bold\">69.5</span>    , <span style=\"color: #008080; text-decoration-color: #008080; font-weight: bold\">69.49999</span>,\n",
       "       <span style=\"color: #008080; text-decoration-color: #008080; font-weight: bold\">69.5</span>    , <span style=\"color: #008080; text-decoration-color: #008080; font-weight: bold\">69.5</span>    , <span style=\"color: #008080; text-decoration-color: #008080; font-weight: bold\">69.5</span>    , <span style=\"color: #008080; text-decoration-color: #008080; font-weight: bold\">69.5</span>    , <span style=\"color: #008080; text-decoration-color: #008080; font-weight: bold\">69.5</span>    , <span style=\"color: #008080; text-decoration-color: #008080; font-weight: bold\">69.49999</span>,\n",
       "       <span style=\"color: #008080; text-decoration-color: #008080; font-weight: bold\">69.5</span>    , <span style=\"color: #008080; text-decoration-color: #008080; font-weight: bold\">69.5</span>    , <span style=\"color: #008080; text-decoration-color: #008080; font-weight: bold\">69.5</span>    , <span style=\"color: #008080; text-decoration-color: #008080; font-weight: bold\">69.5</span>    , <span style=\"color: #008080; text-decoration-color: #008080; font-weight: bold\">69.5</span>    , <span style=\"color: #008080; text-decoration-color: #008080; font-weight: bold\">69.5</span>    ,\n",
       "       <span style=\"color: #008080; text-decoration-color: #008080; font-weight: bold\">69.5</span>    , <span style=\"color: #008080; text-decoration-color: #008080; font-weight: bold\">69.50001</span>, <span style=\"color: #008080; text-decoration-color: #008080; font-weight: bold\">69.50001</span>, <span style=\"color: #008080; text-decoration-color: #008080; font-weight: bold\">69.5</span>    , <span style=\"color: #008080; text-decoration-color: #008080; font-weight: bold\">69.50001</span>, <span style=\"color: #008080; text-decoration-color: #008080; font-weight: bold\">69.50001</span>,\n",
       "       <span style=\"color: #008080; text-decoration-color: #008080; font-weight: bold\">69.5</span>    , <span style=\"color: #008080; text-decoration-color: #008080; font-weight: bold\">69.5</span>    , <span style=\"color: #008080; text-decoration-color: #008080; font-weight: bold\">69.5</span>    , <span style=\"color: #008080; text-decoration-color: #008080; font-weight: bold\">69.5</span>    , <span style=\"color: #008080; text-decoration-color: #008080; font-weight: bold\">69.5</span>    , <span style=\"color: #008080; text-decoration-color: #008080; font-weight: bold\">69.5</span>    ,\n",
       "       <span style=\"color: #008080; text-decoration-color: #008080; font-weight: bold\">69.5</span>    , <span style=\"color: #008080; text-decoration-color: #008080; font-weight: bold\">69.5</span>    , <span style=\"color: #008080; text-decoration-color: #008080; font-weight: bold\">69.5</span>    , <span style=\"color: #008080; text-decoration-color: #008080; font-weight: bold\">69.5</span>    , <span style=\"color: #008080; text-decoration-color: #008080; font-weight: bold\">69.5</span>    , <span style=\"color: #008080; text-decoration-color: #008080; font-weight: bold\">69.5</span>    ,\n",
       "       <span style=\"color: #008080; text-decoration-color: #008080; font-weight: bold\">69.5</span>    , <span style=\"color: #008080; text-decoration-color: #008080; font-weight: bold\">69.50001</span>, <span style=\"color: #008080; text-decoration-color: #008080; font-weight: bold\">69.5</span>    , <span style=\"color: #008080; text-decoration-color: #008080; font-weight: bold\">69.49999</span>, <span style=\"color: #008080; text-decoration-color: #008080; font-weight: bold\">69.49999</span>, <span style=\"color: #008080; text-decoration-color: #008080; font-weight: bold\">69.5</span>    ,\n",
       "       <span style=\"color: #008080; text-decoration-color: #008080; font-weight: bold\">69.49999</span>, <span style=\"color: #008080; text-decoration-color: #008080; font-weight: bold\">69.5</span>    , <span style=\"color: #008080; text-decoration-color: #008080; font-weight: bold\">69.5</span>    , <span style=\"color: #008080; text-decoration-color: #008080; font-weight: bold\">69.5</span>    , <span style=\"color: #008080; text-decoration-color: #008080; font-weight: bold\">69.5</span>    , <span style=\"color: #008080; text-decoration-color: #008080; font-weight: bold\">69.5</span>    ,\n",
       "       <span style=\"color: #008080; text-decoration-color: #008080; font-weight: bold\">69.49999</span>, <span style=\"color: #008080; text-decoration-color: #008080; font-weight: bold\">69.5</span>    , <span style=\"color: #008080; text-decoration-color: #008080; font-weight: bold\">69.5</span>    , <span style=\"color: #008080; text-decoration-color: #008080; font-weight: bold\">69.50001</span>, <span style=\"color: #008080; text-decoration-color: #008080; font-weight: bold\">69.50001</span>, <span style=\"color: #008080; text-decoration-color: #008080; font-weight: bold\">69.5</span>    ,\n",
       "       <span style=\"color: #008080; text-decoration-color: #008080; font-weight: bold\">69.5</span>    , <span style=\"color: #008080; text-decoration-color: #008080; font-weight: bold\">69.5</span>    , <span style=\"color: #008080; text-decoration-color: #008080; font-weight: bold\">69.5</span>    , <span style=\"color: #008080; text-decoration-color: #008080; font-weight: bold\">69.5</span>    , <span style=\"color: #008080; text-decoration-color: #008080; font-weight: bold\">69.5</span>    , <span style=\"color: #008080; text-decoration-color: #008080; font-weight: bold\">69.49999</span>,\n",
       "       <span style=\"color: #008080; text-decoration-color: #008080; font-weight: bold\">69.5</span>    , <span style=\"color: #008080; text-decoration-color: #008080; font-weight: bold\">69.5</span>    , <span style=\"color: #008080; text-decoration-color: #008080; font-weight: bold\">69.5</span>    , <span style=\"color: #008080; text-decoration-color: #008080; font-weight: bold\">69.5</span>    , <span style=\"color: #008080; text-decoration-color: #008080; font-weight: bold\">69.5</span>    , <span style=\"color: #008080; text-decoration-color: #008080; font-weight: bold\">69.5</span>    <span style=\"font-weight: bold\">])</span>\n",
       "</pre>\n"
      ],
      "text/plain": [
       "\u001b[1;35marray\u001b[0m\u001b[1m(\u001b[0m\u001b[1m[\u001b[0m\u001b[1;36m69.50001\u001b[0m, \u001b[1;36m69.5\u001b[0m    , \u001b[1;36m69.5\u001b[0m    , \u001b[1;36m69.49999\u001b[0m, \u001b[1;36m69.5\u001b[0m    , \u001b[1;36m69.5\u001b[0m    ,\n",
       "       \u001b[1;36m69.5\u001b[0m    , \u001b[1;36m69.5\u001b[0m    , \u001b[1;36m69.5\u001b[0m    , \u001b[1;36m69.50001\u001b[0m, \u001b[1;36m69.49999\u001b[0m, \u001b[1;36m69.5\u001b[0m    ,\n",
       "       \u001b[1;36m69.5\u001b[0m    , \u001b[1;36m69.5\u001b[0m    , \u001b[1;36m69.50001\u001b[0m, \u001b[1;36m69.5\u001b[0m    , \u001b[1;36m69.5\u001b[0m    , \u001b[1;36m69.50001\u001b[0m,\n",
       "       \u001b[1;36m69.5\u001b[0m    , \u001b[1;36m69.49999\u001b[0m, \u001b[1;36m69.5\u001b[0m    , \u001b[1;36m69.5\u001b[0m    , \u001b[1;36m69.5\u001b[0m    , \u001b[1;36m69.50001\u001b[0m,\n",
       "       \u001b[1;36m69.5\u001b[0m    , \u001b[1;36m69.49999\u001b[0m, \u001b[1;36m69.5\u001b[0m    , \u001b[1;36m69.49999\u001b[0m, \u001b[1;36m69.5\u001b[0m    , \u001b[1;36m69.49999\u001b[0m,\n",
       "       \u001b[1;36m69.5\u001b[0m    , \u001b[1;36m69.5\u001b[0m    , \u001b[1;36m69.5\u001b[0m    , \u001b[1;36m69.5\u001b[0m    , \u001b[1;36m69.5\u001b[0m    , \u001b[1;36m69.50001\u001b[0m,\n",
       "       \u001b[1;36m69.5\u001b[0m    , \u001b[1;36m69.5\u001b[0m    , \u001b[1;36m69.49999\u001b[0m, \u001b[1;36m69.5\u001b[0m    , \u001b[1;36m69.5\u001b[0m    , \u001b[1;36m69.5\u001b[0m    ,\n",
       "       \u001b[1;36m69.5\u001b[0m    , \u001b[1;36m69.50001\u001b[0m, \u001b[1;36m69.5\u001b[0m    , \u001b[1;36m69.5\u001b[0m    , \u001b[1;36m69.5\u001b[0m    , \u001b[1;36m69.49999\u001b[0m,\n",
       "       \u001b[1;36m69.5\u001b[0m    , \u001b[1;36m69.5\u001b[0m    , \u001b[1;36m69.5\u001b[0m    , \u001b[1;36m69.5\u001b[0m    , \u001b[1;36m69.5\u001b[0m    , \u001b[1;36m69.5\u001b[0m    ,\n",
       "       \u001b[1;36m69.5\u001b[0m    , \u001b[1;36m69.50001\u001b[0m, \u001b[1;36m69.5\u001b[0m    , \u001b[1;36m69.5\u001b[0m    , \u001b[1;36m69.5\u001b[0m    , \u001b[1;36m69.5\u001b[0m    ,\n",
       "       \u001b[1;36m69.5\u001b[0m    , \u001b[1;36m69.5\u001b[0m    , \u001b[1;36m69.5\u001b[0m    , \u001b[1;36m69.5\u001b[0m    , \u001b[1;36m69.5\u001b[0m    , \u001b[1;36m69.5\u001b[0m    ,\n",
       "       \u001b[1;36m69.5\u001b[0m    , \u001b[1;36m69.5\u001b[0m    , \u001b[1;36m69.5\u001b[0m    , \u001b[1;36m69.49999\u001b[0m, \u001b[1;36m69.50001\u001b[0m, \u001b[1;36m69.5\u001b[0m    ,\n",
       "       \u001b[1;36m69.50001\u001b[0m, \u001b[1;36m69.50001\u001b[0m, \u001b[1;36m69.5\u001b[0m    , \u001b[1;36m69.5\u001b[0m    , \u001b[1;36m69.5\u001b[0m    , \u001b[1;36m69.49999\u001b[0m,\n",
       "       \u001b[1;36m69.5\u001b[0m    , \u001b[1;36m69.5\u001b[0m    , \u001b[1;36m69.5\u001b[0m    , \u001b[1;36m69.5\u001b[0m    , \u001b[1;36m69.5\u001b[0m    , \u001b[1;36m69.49999\u001b[0m,\n",
       "       \u001b[1;36m69.5\u001b[0m    , \u001b[1;36m69.5\u001b[0m    , \u001b[1;36m69.5\u001b[0m    , \u001b[1;36m69.5\u001b[0m    , \u001b[1;36m69.5\u001b[0m    , \u001b[1;36m69.5\u001b[0m    ,\n",
       "       \u001b[1;36m69.5\u001b[0m    , \u001b[1;36m69.50001\u001b[0m, \u001b[1;36m69.50001\u001b[0m, \u001b[1;36m69.5\u001b[0m    , \u001b[1;36m69.50001\u001b[0m, \u001b[1;36m69.50001\u001b[0m,\n",
       "       \u001b[1;36m69.5\u001b[0m    , \u001b[1;36m69.5\u001b[0m    , \u001b[1;36m69.5\u001b[0m    , \u001b[1;36m69.5\u001b[0m    , \u001b[1;36m69.5\u001b[0m    , \u001b[1;36m69.5\u001b[0m    ,\n",
       "       \u001b[1;36m69.5\u001b[0m    , \u001b[1;36m69.5\u001b[0m    , \u001b[1;36m69.5\u001b[0m    , \u001b[1;36m69.5\u001b[0m    , \u001b[1;36m69.5\u001b[0m    , \u001b[1;36m69.5\u001b[0m    ,\n",
       "       \u001b[1;36m69.5\u001b[0m    , \u001b[1;36m69.50001\u001b[0m, \u001b[1;36m69.5\u001b[0m    , \u001b[1;36m69.49999\u001b[0m, \u001b[1;36m69.49999\u001b[0m, \u001b[1;36m69.5\u001b[0m    ,\n",
       "       \u001b[1;36m69.49999\u001b[0m, \u001b[1;36m69.5\u001b[0m    , \u001b[1;36m69.5\u001b[0m    , \u001b[1;36m69.5\u001b[0m    , \u001b[1;36m69.5\u001b[0m    , \u001b[1;36m69.5\u001b[0m    ,\n",
       "       \u001b[1;36m69.49999\u001b[0m, \u001b[1;36m69.5\u001b[0m    , \u001b[1;36m69.5\u001b[0m    , \u001b[1;36m69.50001\u001b[0m, \u001b[1;36m69.50001\u001b[0m, \u001b[1;36m69.5\u001b[0m    ,\n",
       "       \u001b[1;36m69.5\u001b[0m    , \u001b[1;36m69.5\u001b[0m    , \u001b[1;36m69.5\u001b[0m    , \u001b[1;36m69.5\u001b[0m    , \u001b[1;36m69.5\u001b[0m    , \u001b[1;36m69.49999\u001b[0m,\n",
       "       \u001b[1;36m69.5\u001b[0m    , \u001b[1;36m69.5\u001b[0m    , \u001b[1;36m69.5\u001b[0m    , \u001b[1;36m69.5\u001b[0m    , \u001b[1;36m69.5\u001b[0m    , \u001b[1;36m69.5\u001b[0m    \u001b[1m]\u001b[0m\u001b[1m)\u001b[0m\n"
      ]
     },
     "metadata": {},
     "output_type": "display_data"
    }
   ],
   "source": [
    "run['gam'].sum(0)"
   ]
  },
  {
   "cell_type": "code",
   "execution_count": 117,
   "id": "e24db47d",
   "metadata": {},
   "outputs": [
    {
     "data": {
      "text/html": [
       "<pre style=\"white-space:pre;overflow-x:auto;line-height:normal;font-family:Menlo,'DejaVu Sans Mono',consolas,'Courier New',monospace\"><span style=\"color: #800080; text-decoration-color: #800080; font-weight: bold\">array</span><span style=\"font-weight: bold\">([</span><span style=\"color: #008080; text-decoration-color: #008080; font-weight: bold\">1</span>.   , <span style=\"color: #008080; text-decoration-color: #008080; font-weight: bold\">1.001</span>, <span style=\"color: #008080; text-decoration-color: #008080; font-weight: bold\">1</span>.   , <span style=\"color: #008080; text-decoration-color: #008080; font-weight: bold\">1</span>.   , <span style=\"color: #008080; text-decoration-color: #008080; font-weight: bold\">1.001</span>, <span style=\"color: #008080; text-decoration-color: #008080; font-weight: bold\">1</span>.   , <span style=\"color: #008080; text-decoration-color: #008080; font-weight: bold\">1</span>.   , <span style=\"color: #008080; text-decoration-color: #008080; font-weight: bold\">1.001</span>, <span style=\"color: #008080; text-decoration-color: #008080; font-weight: bold\">1.001</span>,\n",
       "       <span style=\"color: #008080; text-decoration-color: #008080; font-weight: bold\">1.001</span>, <span style=\"color: #008080; text-decoration-color: #008080; font-weight: bold\">1</span>.   , <span style=\"color: #008080; text-decoration-color: #008080; font-weight: bold\">1.001</span>, <span style=\"color: #008080; text-decoration-color: #008080; font-weight: bold\">1</span>.   , <span style=\"color: #008080; text-decoration-color: #008080; font-weight: bold\">1</span>.   , <span style=\"color: #008080; text-decoration-color: #008080; font-weight: bold\">1</span>.   , <span style=\"color: #008080; text-decoration-color: #008080; font-weight: bold\">1.001</span>, <span style=\"color: #008080; text-decoration-color: #008080; font-weight: bold\">1</span>.   , <span style=\"color: #008080; text-decoration-color: #008080; font-weight: bold\">1</span>.   ,\n",
       "       <span style=\"color: #008080; text-decoration-color: #008080; font-weight: bold\">1.001</span>, <span style=\"color: #008080; text-decoration-color: #008080; font-weight: bold\">1.001</span>, <span style=\"color: #008080; text-decoration-color: #008080; font-weight: bold\">1</span>.   , <span style=\"color: #008080; text-decoration-color: #008080; font-weight: bold\">1</span>.   , <span style=\"color: #008080; text-decoration-color: #008080; font-weight: bold\">1</span>.   , <span style=\"color: #008080; text-decoration-color: #008080; font-weight: bold\">1.001</span>, <span style=\"color: #008080; text-decoration-color: #008080; font-weight: bold\">1</span>.   , <span style=\"color: #008080; text-decoration-color: #008080; font-weight: bold\">1.001</span>, <span style=\"color: #008080; text-decoration-color: #008080; font-weight: bold\">1.001</span>,\n",
       "       <span style=\"color: #008080; text-decoration-color: #008080; font-weight: bold\">1</span>.   , <span style=\"color: #008080; text-decoration-color: #008080; font-weight: bold\">1</span>.   , <span style=\"color: #008080; text-decoration-color: #008080; font-weight: bold\">1</span>.   , <span style=\"color: #008080; text-decoration-color: #008080; font-weight: bold\">1</span>.   , <span style=\"color: #008080; text-decoration-color: #008080; font-weight: bold\">1</span>.   , <span style=\"color: #008080; text-decoration-color: #008080; font-weight: bold\">1</span>.   , <span style=\"color: #008080; text-decoration-color: #008080; font-weight: bold\">1</span>.   , <span style=\"color: #008080; text-decoration-color: #008080; font-weight: bold\">1.001</span>, <span style=\"color: #008080; text-decoration-color: #008080; font-weight: bold\">1.001</span>,\n",
       "       <span style=\"color: #008080; text-decoration-color: #008080; font-weight: bold\">1</span>.   , <span style=\"color: #008080; text-decoration-color: #008080; font-weight: bold\">1</span>.   , <span style=\"color: #008080; text-decoration-color: #008080; font-weight: bold\">1</span>.   , <span style=\"color: #008080; text-decoration-color: #008080; font-weight: bold\">1</span>.   , <span style=\"color: #008080; text-decoration-color: #008080; font-weight: bold\">1</span>.   , <span style=\"color: #008080; text-decoration-color: #008080; font-weight: bold\">1.001</span>, <span style=\"color: #008080; text-decoration-color: #008080; font-weight: bold\">1</span>.   , <span style=\"color: #008080; text-decoration-color: #008080; font-weight: bold\">1.001</span>, <span style=\"color: #008080; text-decoration-color: #008080; font-weight: bold\">1</span>.   ,\n",
       "       <span style=\"color: #008080; text-decoration-color: #008080; font-weight: bold\">1</span>.   , <span style=\"color: #008080; text-decoration-color: #008080; font-weight: bold\">1.001</span>, <span style=\"color: #008080; text-decoration-color: #008080; font-weight: bold\">1</span>.   , <span style=\"color: #008080; text-decoration-color: #008080; font-weight: bold\">1</span>.   , <span style=\"color: #008080; text-decoration-color: #008080; font-weight: bold\">1</span>.   , <span style=\"color: #008080; text-decoration-color: #008080; font-weight: bold\">1</span>.   , <span style=\"color: #008080; text-decoration-color: #008080; font-weight: bold\">1.001</span>, <span style=\"color: #008080; text-decoration-color: #008080; font-weight: bold\">1</span>.   , <span style=\"color: #008080; text-decoration-color: #008080; font-weight: bold\">1</span>.   ,\n",
       "       <span style=\"color: #008080; text-decoration-color: #008080; font-weight: bold\">1</span>.   , <span style=\"color: #008080; text-decoration-color: #008080; font-weight: bold\">1.001</span>, <span style=\"color: #008080; text-decoration-color: #008080; font-weight: bold\">1</span>.   , <span style=\"color: #008080; text-decoration-color: #008080; font-weight: bold\">1</span>.   , <span style=\"color: #008080; text-decoration-color: #008080; font-weight: bold\">1</span>.   , <span style=\"color: #008080; text-decoration-color: #008080; font-weight: bold\">1</span>.   , <span style=\"color: #008080; text-decoration-color: #008080; font-weight: bold\">1.001</span>, <span style=\"color: #008080; text-decoration-color: #008080; font-weight: bold\">1</span>.   , <span style=\"color: #008080; text-decoration-color: #008080; font-weight: bold\">1</span>.   ,\n",
       "       <span style=\"color: #008080; text-decoration-color: #008080; font-weight: bold\">1</span>.   , <span style=\"color: #008080; text-decoration-color: #008080; font-weight: bold\">1</span>.   , <span style=\"color: #008080; text-decoration-color: #008080; font-weight: bold\">1</span>.   , <span style=\"color: #008080; text-decoration-color: #008080; font-weight: bold\">1</span>.   , <span style=\"color: #008080; text-decoration-color: #008080; font-weight: bold\">1</span>.   , <span style=\"color: #008080; text-decoration-color: #008080; font-weight: bold\">1</span>.   , <span style=\"color: #008080; text-decoration-color: #008080; font-weight: bold\">1</span>.   , <span style=\"color: #008080; text-decoration-color: #008080; font-weight: bold\">1.001</span>, <span style=\"color: #008080; text-decoration-color: #008080; font-weight: bold\">1</span>.   ,\n",
       "       <span style=\"color: #008080; text-decoration-color: #008080; font-weight: bold\">1</span>.   , <span style=\"color: #008080; text-decoration-color: #008080; font-weight: bold\">1.001</span>, <span style=\"color: #008080; text-decoration-color: #008080; font-weight: bold\">1</span>.   , <span style=\"color: #008080; text-decoration-color: #008080; font-weight: bold\">1</span>.   , <span style=\"color: #008080; text-decoration-color: #008080; font-weight: bold\">1</span>.   , <span style=\"color: #008080; text-decoration-color: #008080; font-weight: bold\">1</span>.   , <span style=\"color: #008080; text-decoration-color: #008080; font-weight: bold\">1</span>.   , <span style=\"color: #008080; text-decoration-color: #008080; font-weight: bold\">1</span>.   , <span style=\"color: #008080; text-decoration-color: #008080; font-weight: bold\">1.001</span>,\n",
       "       <span style=\"color: #008080; text-decoration-color: #008080; font-weight: bold\">1</span>.   , <span style=\"color: #008080; text-decoration-color: #008080; font-weight: bold\">1</span>.   , <span style=\"color: #008080; text-decoration-color: #008080; font-weight: bold\">1.001</span>, <span style=\"color: #008080; text-decoration-color: #008080; font-weight: bold\">1</span>.   , <span style=\"color: #008080; text-decoration-color: #008080; font-weight: bold\">1</span>.   , <span style=\"color: #008080; text-decoration-color: #008080; font-weight: bold\">1.001</span>, <span style=\"color: #008080; text-decoration-color: #008080; font-weight: bold\">1.001</span>, <span style=\"color: #008080; text-decoration-color: #008080; font-weight: bold\">1</span>.   , <span style=\"color: #008080; text-decoration-color: #008080; font-weight: bold\">1.001</span>,\n",
       "       <span style=\"color: #008080; text-decoration-color: #008080; font-weight: bold\">1</span>.   , <span style=\"color: #008080; text-decoration-color: #008080; font-weight: bold\">1.001</span>, <span style=\"color: #008080; text-decoration-color: #008080; font-weight: bold\">1.001</span>, <span style=\"color: #008080; text-decoration-color: #008080; font-weight: bold\">1</span>.   , <span style=\"color: #008080; text-decoration-color: #008080; font-weight: bold\">1</span>.   , <span style=\"color: #008080; text-decoration-color: #008080; font-weight: bold\">1.001</span>, <span style=\"color: #008080; text-decoration-color: #008080; font-weight: bold\">1.001</span>, <span style=\"color: #008080; text-decoration-color: #008080; font-weight: bold\">1</span>.   , <span style=\"color: #008080; text-decoration-color: #008080; font-weight: bold\">1</span>.   ,\n",
       "       <span style=\"color: #008080; text-decoration-color: #008080; font-weight: bold\">1</span>.   , <span style=\"color: #008080; text-decoration-color: #008080; font-weight: bold\">1</span>.   , <span style=\"color: #008080; text-decoration-color: #008080; font-weight: bold\">1.001</span>, <span style=\"color: #008080; text-decoration-color: #008080; font-weight: bold\">1</span>.   , <span style=\"color: #008080; text-decoration-color: #008080; font-weight: bold\">1</span>.   , <span style=\"color: #008080; text-decoration-color: #008080; font-weight: bold\">1.001</span>, <span style=\"color: #008080; text-decoration-color: #008080; font-weight: bold\">1</span>.   , <span style=\"color: #008080; text-decoration-color: #008080; font-weight: bold\">1</span>.   , <span style=\"color: #008080; text-decoration-color: #008080; font-weight: bold\">1</span>.   ,\n",
       "       <span style=\"color: #008080; text-decoration-color: #008080; font-weight: bold\">1</span>.   , <span style=\"color: #008080; text-decoration-color: #008080; font-weight: bold\">1.001</span>, <span style=\"color: #008080; text-decoration-color: #008080; font-weight: bold\">1</span>.   , <span style=\"color: #008080; text-decoration-color: #008080; font-weight: bold\">1</span>.   , <span style=\"color: #008080; text-decoration-color: #008080; font-weight: bold\">0.999</span>, <span style=\"color: #008080; text-decoration-color: #008080; font-weight: bold\">1</span>.   , <span style=\"color: #008080; text-decoration-color: #008080; font-weight: bold\">1.001</span>, <span style=\"color: #008080; text-decoration-color: #008080; font-weight: bold\">1</span>.   , <span style=\"color: #008080; text-decoration-color: #008080; font-weight: bold\">1</span>.   ,\n",
       "       <span style=\"color: #008080; text-decoration-color: #008080; font-weight: bold\">1</span>.   , <span style=\"color: #008080; text-decoration-color: #008080; font-weight: bold\">1</span>.   , <span style=\"color: #008080; text-decoration-color: #008080; font-weight: bold\">1</span>.   , <span style=\"color: #008080; text-decoration-color: #008080; font-weight: bold\">1</span>.   , <span style=\"color: #008080; text-decoration-color: #008080; font-weight: bold\">1</span>.   , <span style=\"color: #008080; text-decoration-color: #008080; font-weight: bold\">1</span>.   , <span style=\"color: #008080; text-decoration-color: #008080; font-weight: bold\">1</span>.   , <span style=\"color: #008080; text-decoration-color: #008080; font-weight: bold\">1</span>.   , <span style=\"color: #008080; text-decoration-color: #008080; font-weight: bold\">1</span>.   ,\n",
       "       <span style=\"color: #008080; text-decoration-color: #008080; font-weight: bold\">1.001</span>, <span style=\"color: #008080; text-decoration-color: #008080; font-weight: bold\">1</span>.   , <span style=\"color: #008080; text-decoration-color: #008080; font-weight: bold\">1</span>.   , <span style=\"color: #008080; text-decoration-color: #008080; font-weight: bold\">1</span>.   , <span style=\"color: #008080; text-decoration-color: #008080; font-weight: bold\">1</span>.   , <span style=\"color: #008080; text-decoration-color: #008080; font-weight: bold\">1.001</span>, <span style=\"color: #008080; text-decoration-color: #008080; font-weight: bold\">1</span>.   , <span style=\"color: #008080; text-decoration-color: #008080; font-weight: bold\">1.001</span>, <span style=\"color: #008080; text-decoration-color: #008080; font-weight: bold\">1</span>.   ,\n",
       "       <span style=\"color: #008080; text-decoration-color: #008080; font-weight: bold\">1.001</span>, <span style=\"color: #008080; text-decoration-color: #008080; font-weight: bold\">1</span>.   , <span style=\"color: #008080; text-decoration-color: #008080; font-weight: bold\">1</span>.   <span style=\"font-weight: bold\">])</span>\n",
       "</pre>\n"
      ],
      "text/plain": [
       "\u001b[1;35marray\u001b[0m\u001b[1m(\u001b[0m\u001b[1m[\u001b[0m\u001b[1;36m1\u001b[0m.   , \u001b[1;36m1.001\u001b[0m, \u001b[1;36m1\u001b[0m.   , \u001b[1;36m1\u001b[0m.   , \u001b[1;36m1.001\u001b[0m, \u001b[1;36m1\u001b[0m.   , \u001b[1;36m1\u001b[0m.   , \u001b[1;36m1.001\u001b[0m, \u001b[1;36m1.001\u001b[0m,\n",
       "       \u001b[1;36m1.001\u001b[0m, \u001b[1;36m1\u001b[0m.   , \u001b[1;36m1.001\u001b[0m, \u001b[1;36m1\u001b[0m.   , \u001b[1;36m1\u001b[0m.   , \u001b[1;36m1\u001b[0m.   , \u001b[1;36m1.001\u001b[0m, \u001b[1;36m1\u001b[0m.   , \u001b[1;36m1\u001b[0m.   ,\n",
       "       \u001b[1;36m1.001\u001b[0m, \u001b[1;36m1.001\u001b[0m, \u001b[1;36m1\u001b[0m.   , \u001b[1;36m1\u001b[0m.   , \u001b[1;36m1\u001b[0m.   , \u001b[1;36m1.001\u001b[0m, \u001b[1;36m1\u001b[0m.   , \u001b[1;36m1.001\u001b[0m, \u001b[1;36m1.001\u001b[0m,\n",
       "       \u001b[1;36m1\u001b[0m.   , \u001b[1;36m1\u001b[0m.   , \u001b[1;36m1\u001b[0m.   , \u001b[1;36m1\u001b[0m.   , \u001b[1;36m1\u001b[0m.   , \u001b[1;36m1\u001b[0m.   , \u001b[1;36m1\u001b[0m.   , \u001b[1;36m1.001\u001b[0m, \u001b[1;36m1.001\u001b[0m,\n",
       "       \u001b[1;36m1\u001b[0m.   , \u001b[1;36m1\u001b[0m.   , \u001b[1;36m1\u001b[0m.   , \u001b[1;36m1\u001b[0m.   , \u001b[1;36m1\u001b[0m.   , \u001b[1;36m1.001\u001b[0m, \u001b[1;36m1\u001b[0m.   , \u001b[1;36m1.001\u001b[0m, \u001b[1;36m1\u001b[0m.   ,\n",
       "       \u001b[1;36m1\u001b[0m.   , \u001b[1;36m1.001\u001b[0m, \u001b[1;36m1\u001b[0m.   , \u001b[1;36m1\u001b[0m.   , \u001b[1;36m1\u001b[0m.   , \u001b[1;36m1\u001b[0m.   , \u001b[1;36m1.001\u001b[0m, \u001b[1;36m1\u001b[0m.   , \u001b[1;36m1\u001b[0m.   ,\n",
       "       \u001b[1;36m1\u001b[0m.   , \u001b[1;36m1.001\u001b[0m, \u001b[1;36m1\u001b[0m.   , \u001b[1;36m1\u001b[0m.   , \u001b[1;36m1\u001b[0m.   , \u001b[1;36m1\u001b[0m.   , \u001b[1;36m1.001\u001b[0m, \u001b[1;36m1\u001b[0m.   , \u001b[1;36m1\u001b[0m.   ,\n",
       "       \u001b[1;36m1\u001b[0m.   , \u001b[1;36m1\u001b[0m.   , \u001b[1;36m1\u001b[0m.   , \u001b[1;36m1\u001b[0m.   , \u001b[1;36m1\u001b[0m.   , \u001b[1;36m1\u001b[0m.   , \u001b[1;36m1\u001b[0m.   , \u001b[1;36m1.001\u001b[0m, \u001b[1;36m1\u001b[0m.   ,\n",
       "       \u001b[1;36m1\u001b[0m.   , \u001b[1;36m1.001\u001b[0m, \u001b[1;36m1\u001b[0m.   , \u001b[1;36m1\u001b[0m.   , \u001b[1;36m1\u001b[0m.   , \u001b[1;36m1\u001b[0m.   , \u001b[1;36m1\u001b[0m.   , \u001b[1;36m1\u001b[0m.   , \u001b[1;36m1.001\u001b[0m,\n",
       "       \u001b[1;36m1\u001b[0m.   , \u001b[1;36m1\u001b[0m.   , \u001b[1;36m1.001\u001b[0m, \u001b[1;36m1\u001b[0m.   , \u001b[1;36m1\u001b[0m.   , \u001b[1;36m1.001\u001b[0m, \u001b[1;36m1.001\u001b[0m, \u001b[1;36m1\u001b[0m.   , \u001b[1;36m1.001\u001b[0m,\n",
       "       \u001b[1;36m1\u001b[0m.   , \u001b[1;36m1.001\u001b[0m, \u001b[1;36m1.001\u001b[0m, \u001b[1;36m1\u001b[0m.   , \u001b[1;36m1\u001b[0m.   , \u001b[1;36m1.001\u001b[0m, \u001b[1;36m1.001\u001b[0m, \u001b[1;36m1\u001b[0m.   , \u001b[1;36m1\u001b[0m.   ,\n",
       "       \u001b[1;36m1\u001b[0m.   , \u001b[1;36m1\u001b[0m.   , \u001b[1;36m1.001\u001b[0m, \u001b[1;36m1\u001b[0m.   , \u001b[1;36m1\u001b[0m.   , \u001b[1;36m1.001\u001b[0m, \u001b[1;36m1\u001b[0m.   , \u001b[1;36m1\u001b[0m.   , \u001b[1;36m1\u001b[0m.   ,\n",
       "       \u001b[1;36m1\u001b[0m.   , \u001b[1;36m1.001\u001b[0m, \u001b[1;36m1\u001b[0m.   , \u001b[1;36m1\u001b[0m.   , \u001b[1;36m0.999\u001b[0m, \u001b[1;36m1\u001b[0m.   , \u001b[1;36m1.001\u001b[0m, \u001b[1;36m1\u001b[0m.   , \u001b[1;36m1\u001b[0m.   ,\n",
       "       \u001b[1;36m1\u001b[0m.   , \u001b[1;36m1\u001b[0m.   , \u001b[1;36m1\u001b[0m.   , \u001b[1;36m1\u001b[0m.   , \u001b[1;36m1\u001b[0m.   , \u001b[1;36m1\u001b[0m.   , \u001b[1;36m1\u001b[0m.   , \u001b[1;36m1\u001b[0m.   , \u001b[1;36m1\u001b[0m.   ,\n",
       "       \u001b[1;36m1.001\u001b[0m, \u001b[1;36m1\u001b[0m.   , \u001b[1;36m1\u001b[0m.   , \u001b[1;36m1\u001b[0m.   , \u001b[1;36m1\u001b[0m.   , \u001b[1;36m1.001\u001b[0m, \u001b[1;36m1\u001b[0m.   , \u001b[1;36m1.001\u001b[0m, \u001b[1;36m1\u001b[0m.   ,\n",
       "       \u001b[1;36m1.001\u001b[0m, \u001b[1;36m1\u001b[0m.   , \u001b[1;36m1\u001b[0m.   \u001b[1m]\u001b[0m\u001b[1m)\u001b[0m\n"
      ]
     },
     "metadata": {},
     "output_type": "display_data"
    }
   ],
   "source": [
    "\n",
    "\n",
    "run['pi'].sum(0)"
   ]
  },
  {
   "cell_type": "code",
   "execution_count": 127,
   "id": "0f31a4bb",
   "metadata": {},
   "outputs": [
    {
     "data": {
      "text/html": [
       "<pre style=\"white-space:pre;overflow-x:auto;line-height:normal;font-family:Menlo,'DejaVu Sans Mono',consolas,'Courier New',monospace\"><span style=\"font-weight: bold\">[&lt;</span><span style=\"color: #ff00ff; text-decoration-color: #ff00ff; font-weight: bold\">matplotlib.lines.Line2D</span><span style=\"color: #000000; text-decoration-color: #000000\"> object at </span><span style=\"color: #008080; text-decoration-color: #008080; font-weight: bold\">0x7f7244a9c040</span><span style=\"font-weight: bold\">&gt;]</span>\n",
       "</pre>\n"
      ],
      "text/plain": [
       "\u001b[1m[\u001b[0m\u001b[1m<\u001b[0m\u001b[1;95mmatplotlib.lines.Line2D\u001b[0m\u001b[39m object at \u001b[0m\u001b[1;36m0x7f7244a9c040\u001b[0m\u001b[1m>\u001b[0m\u001b[1m]\u001b[0m\n"
      ]
     },
     "metadata": {},
     "output_type": "display_data"
    },
    {
     "data": {
      "image/png": "[encoded data removed]"
     },
     "metadata": {},
     "output_type": "display_data"
    }
   ],
   "source": [
    "gamma_saved = run['gam'].copy()\n",
    "gamma_saved /= gamma_saved.sum(0, keepdims=True)\n",
    "\n",
    "plt.plot(run['pi'][2])\n",
    "plt.plot(gamma_saved[2])"
   ]
  },
  {
   "cell_type": "code",
   "execution_count": 128,
   "id": "523cc26f",
   "metadata": {},
   "outputs": [
    {
     "data": {
      "text/html": [
       "<pre style=\"white-space:pre;overflow-x:auto;line-height:normal;font-family:Menlo,'DejaVu Sans Mono',consolas,'Courier New',monospace\"><span style=\"font-weight: bold\">[</span>\n",
       "    <span style=\"color: #008000; text-decoration-color: #008000\">'valid'</span>,\n",
       "    <span style=\"color: #008000; text-decoration-color: #008000\">'gamma_sv'</span>,\n",
       "    <span style=\"color: #008000; text-decoration-color: #008000\">'lambda_sv'</span>,\n",
       "    <span style=\"color: #008000; text-decoration-color: #008000\">'community_sv'</span>,\n",
       "    <span style=\"color: #008000; text-decoration-color: #008000\">'membership_sv'</span>,\n",
       "    <span style=\"color: #008000; text-decoration-color: #008000\">'partition_sv'</span>,\n",
       "    <span style=\"color: #008000; text-decoration-color: #008000\">'num_missing'</span>,\n",
       "    <span style=\"color: #008000; text-decoration-color: #008000\">'num_overlap'</span>,\n",
       "    <span style=\"color: #008000; text-decoration-color: #008000\">'gam'</span>,\n",
       "    <span style=\"color: #008000; text-decoration-color: #008000\">'pi'</span>\n",
       "<span style=\"font-weight: bold\">]</span>\n",
       "</pre>\n"
      ],
      "text/plain": [
       "\u001b[1m[\u001b[0m\n",
       "    \u001b[32m'valid'\u001b[0m,\n",
       "    \u001b[32m'gamma_sv'\u001b[0m,\n",
       "    \u001b[32m'lambda_sv'\u001b[0m,\n",
       "    \u001b[32m'community_sv'\u001b[0m,\n",
       "    \u001b[32m'membership_sv'\u001b[0m,\n",
       "    \u001b[32m'partition_sv'\u001b[0m,\n",
       "    \u001b[32m'num_missing'\u001b[0m,\n",
       "    \u001b[32m'num_overlap'\u001b[0m,\n",
       "    \u001b[32m'gam'\u001b[0m,\n",
       "    \u001b[32m'pi'\u001b[0m\n",
       "\u001b[1m]\u001b[0m\n"
      ]
     },
     "metadata": {},
     "output_type": "display_data"
    }
   ],
   "source": [
    "list(run)"
   ]
  },
  {
   "cell_type": "code",
   "execution_count": 134,
   "id": "171b89d2",
   "metadata": {},
   "outputs": [
    {
     "ename": "NameError",
     "evalue": "name 'svinet' is not defined",
     "output_type": "error",
     "traceback": [
      "\u001b[0;31m---------------------------------------------------------------------------\u001b[0m",
      "\u001b[0;31mNameError\u001b[0m                                 Traceback (most recent call last)",
      "\u001b[0;32m<ipython-input-134-ffd4a47124f8>\u001b[0m in \u001b[0;36m<module>\u001b[0;34m\u001b[0m\n\u001b[0;32m----> 1\u001b[0;31m \u001b[0msvinet\u001b[0m\u001b[0;34m.\u001b[0m\u001b[0mn2l\u001b[0m\u001b[0;34m[\u001b[0m\u001b[0;36m0\u001b[0m\u001b[0;34m]\u001b[0m\u001b[0;34m\u001b[0m\u001b[0;34m\u001b[0m\u001b[0m\n\u001b[0m",
      "\u001b[0;31mNameError\u001b[0m: name 'svinet' is not defined"
     ]
    }
   ],
   "source": [
    "svinet.n2l[0]"
   ]
  },
  {
   "cell_type": "code",
   "execution_count": null,
   "id": "b713aa90",
   "metadata": {},
   "outputs": [],
   "source": []
  },
  {
   "cell_type": "code",
   "execution_count": 132,
   "id": "e5d0bb99",
   "metadata": {},
   "outputs": [
    {
     "data": {
      "text/html": [
       "<pre style=\"white-space:pre;overflow-x:auto;line-height:normal;font-family:Menlo,'DejaVu Sans Mono',consolas,'Courier New',monospace\"><span style=\"font-weight: bold\">{</span>\n",
       "    <span style=\"color: #008080; text-decoration-color: #008080; font-weight: bold\">0</span>: <span style=\"color: #800080; text-decoration-color: #800080; font-weight: bold\">array</span><span style=\"font-weight: bold\">([</span> <span style=\"color: #008080; text-decoration-color: #008080; font-weight: bold\">0.2001</span> ,  <span style=\"color: #008080; text-decoration-color: #008080; font-weight: bold\">0.20022</span>,  <span style=\"color: #008080; text-decoration-color: #008080; font-weight: bold\">0.20526</span>, <span style=\"color: #008080; text-decoration-color: #008080; font-weight: bold\">31.76391</span>, <span style=\"color: #008080; text-decoration-color: #008080; font-weight: bold\">37.13052</span><span style=\"font-weight: bold\">])</span>,\n",
       "    <span style=\"color: #008080; text-decoration-color: #008080; font-weight: bold\">1</span>: <span style=\"color: #800080; text-decoration-color: #800080; font-weight: bold\">array</span><span style=\"font-weight: bold\">([</span><span style=\"color: #008080; text-decoration-color: #008080; font-weight: bold\">10.12097</span>,  <span style=\"color: #008080; text-decoration-color: #008080; font-weight: bold\">0.20057</span>, <span style=\"color: #008080; text-decoration-color: #008080; font-weight: bold\">36.5353</span> , <span style=\"color: #008080; text-decoration-color: #008080; font-weight: bold\">22.43894</span>,  <span style=\"color: #008080; text-decoration-color: #008080; font-weight: bold\">0.20422</span><span style=\"font-weight: bold\">])</span>,\n",
       "    <span style=\"color: #008080; text-decoration-color: #008080; font-weight: bold\">2</span>: <span style=\"color: #800080; text-decoration-color: #800080; font-weight: bold\">array</span><span style=\"font-weight: bold\">([</span><span style=\"color: #008080; text-decoration-color: #008080; font-weight: bold\">68.7</span>,  <span style=\"color: #008080; text-decoration-color: #008080; font-weight: bold\">0.2</span>,  <span style=\"color: #008080; text-decoration-color: #008080; font-weight: bold\">0.2</span>,  <span style=\"color: #008080; text-decoration-color: #008080; font-weight: bold\">0.2</span>,  <span style=\"color: #008080; text-decoration-color: #008080; font-weight: bold\">0.2</span><span style=\"font-weight: bold\">])</span>,\n",
       "    <span style=\"color: #008080; text-decoration-color: #008080; font-weight: bold\">3</span>: <span style=\"color: #800080; text-decoration-color: #800080; font-weight: bold\">array</span><span style=\"font-weight: bold\">([</span> <span style=\"color: #008080; text-decoration-color: #008080; font-weight: bold\">0.20004</span>,  <span style=\"color: #008080; text-decoration-color: #008080; font-weight: bold\">0.20004</span>,  <span style=\"color: #008080; text-decoration-color: #008080; font-weight: bold\">0.20067</span>, <span style=\"color: #008080; text-decoration-color: #008080; font-weight: bold\">40.30096</span>, <span style=\"color: #008080; text-decoration-color: #008080; font-weight: bold\">28.59828</span><span style=\"font-weight: bold\">])</span>,\n",
       "    <span style=\"color: #008080; text-decoration-color: #008080; font-weight: bold\">4</span>: <span style=\"color: #800080; text-decoration-color: #800080; font-weight: bold\">array</span><span style=\"font-weight: bold\">([</span> <span style=\"color: #008080; text-decoration-color: #008080; font-weight: bold\">0.20023</span>, <span style=\"color: #008080; text-decoration-color: #008080; font-weight: bold\">17.48226</span>, <span style=\"color: #008080; text-decoration-color: #008080; font-weight: bold\">30.70018</span>, <span style=\"color: #008080; text-decoration-color: #008080; font-weight: bold\">18.75205</span>,  <span style=\"color: #008080; text-decoration-color: #008080; font-weight: bold\">2.36528</span><span style=\"font-weight: bold\">])</span>,\n",
       "    <span style=\"color: #008080; text-decoration-color: #008080; font-weight: bold\">5</span>: <span style=\"color: #800080; text-decoration-color: #800080; font-weight: bold\">array</span><span style=\"font-weight: bold\">([</span> <span style=\"color: #008080; text-decoration-color: #008080; font-weight: bold\">0.20001</span>,  <span style=\"color: #008080; text-decoration-color: #008080; font-weight: bold\">0.20019</span>,  <span style=\"color: #008080; text-decoration-color: #008080; font-weight: bold\">2.28675</span>, <span style=\"color: #008080; text-decoration-color: #008080; font-weight: bold\">31.88995</span>, <span style=\"color: #008080; text-decoration-color: #008080; font-weight: bold\">34.9231</span> <span style=\"font-weight: bold\">])</span>,\n",
       "    <span style=\"color: #008080; text-decoration-color: #008080; font-weight: bold\">6</span>: <span style=\"color: #800080; text-decoration-color: #800080; font-weight: bold\">array</span><span style=\"font-weight: bold\">([</span><span style=\"color: #008080; text-decoration-color: #008080; font-weight: bold\">68.7</span>,  <span style=\"color: #008080; text-decoration-color: #008080; font-weight: bold\">0.2</span>,  <span style=\"color: #008080; text-decoration-color: #008080; font-weight: bold\">0.2</span>,  <span style=\"color: #008080; text-decoration-color: #008080; font-weight: bold\">0.2</span>,  <span style=\"color: #008080; text-decoration-color: #008080; font-weight: bold\">0.2</span><span style=\"font-weight: bold\">])</span>,\n",
       "    <span style=\"color: #008080; text-decoration-color: #008080; font-weight: bold\">7</span>: <span style=\"color: #800080; text-decoration-color: #800080; font-weight: bold\">array</span><span style=\"font-weight: bold\">([</span> <span style=\"color: #008080; text-decoration-color: #008080; font-weight: bold\">0.2</span>    ,  <span style=\"color: #008080; text-decoration-color: #008080; font-weight: bold\">0.2</span>    , <span style=\"color: #008080; text-decoration-color: #008080; font-weight: bold\">17.69319</span>, <span style=\"color: #008080; text-decoration-color: #008080; font-weight: bold\">51.2036</span> ,  <span style=\"color: #008080; text-decoration-color: #008080; font-weight: bold\">0.20321</span><span style=\"font-weight: bold\">])</span>,\n",
       "    <span style=\"color: #008080; text-decoration-color: #008080; font-weight: bold\">8</span>: <span style=\"color: #800080; text-decoration-color: #800080; font-weight: bold\">array</span><span style=\"font-weight: bold\">([</span> <span style=\"color: #008080; text-decoration-color: #008080; font-weight: bold\">0.20001</span>,  <span style=\"color: #008080; text-decoration-color: #008080; font-weight: bold\">0.2</span>    ,  <span style=\"color: #008080; text-decoration-color: #008080; font-weight: bold\">0.2002</span> , <span style=\"color: #008080; text-decoration-color: #008080; font-weight: bold\">34.59633</span>, <span style=\"color: #008080; text-decoration-color: #008080; font-weight: bold\">34.30346</span><span style=\"font-weight: bold\">])</span>,\n",
       "    <span style=\"color: #008080; text-decoration-color: #008080; font-weight: bold\">9</span>: <span style=\"color: #800080; text-decoration-color: #800080; font-weight: bold\">array</span><span style=\"font-weight: bold\">([</span> <span style=\"color: #008080; text-decoration-color: #008080; font-weight: bold\">0.20015</span>,  <span style=\"color: #008080; text-decoration-color: #008080; font-weight: bold\">0.20133</span>, <span style=\"color: #008080; text-decoration-color: #008080; font-weight: bold\">18.11204</span>, <span style=\"color: #008080; text-decoration-color: #008080; font-weight: bold\">19.84332</span>, <span style=\"color: #008080; text-decoration-color: #008080; font-weight: bold\">31.14317</span><span style=\"font-weight: bold\">])</span>,\n",
       "    <span style=\"color: #008080; text-decoration-color: #008080; font-weight: bold\">10</span>: <span style=\"color: #800080; text-decoration-color: #800080; font-weight: bold\">array</span><span style=\"font-weight: bold\">([</span> <span style=\"color: #008080; text-decoration-color: #008080; font-weight: bold\">9.15119</span>,  <span style=\"color: #008080; text-decoration-color: #008080; font-weight: bold\">0.20079</span>, <span style=\"color: #008080; text-decoration-color: #008080; font-weight: bold\">59.72692</span>,  <span style=\"color: #008080; text-decoration-color: #008080; font-weight: bold\">0.21712</span>,  <span style=\"color: #008080; text-decoration-color: #008080; font-weight: bold\">0.20397</span><span style=\"font-weight: bold\">])</span>,\n",
       "    <span style=\"color: #008080; text-decoration-color: #008080; font-weight: bold\">11</span>: <span style=\"color: #800080; text-decoration-color: #800080; font-weight: bold\">array</span><span style=\"font-weight: bold\">([</span> <span style=\"color: #008080; text-decoration-color: #008080; font-weight: bold\">0.2</span>    ,  <span style=\"color: #008080; text-decoration-color: #008080; font-weight: bold\">0.2</span>    ,  <span style=\"color: #008080; text-decoration-color: #008080; font-weight: bold\">0.20033</span>, <span style=\"color: #008080; text-decoration-color: #008080; font-weight: bold\">14.30702</span>, <span style=\"color: #008080; text-decoration-color: #008080; font-weight: bold\">54.59265</span><span style=\"font-weight: bold\">])</span>,\n",
       "    <span style=\"color: #008080; text-decoration-color: #008080; font-weight: bold\">12</span>: <span style=\"color: #800080; text-decoration-color: #800080; font-weight: bold\">array</span><span style=\"font-weight: bold\">([</span> <span style=\"color: #008080; text-decoration-color: #008080; font-weight: bold\">0.2</span>    ,  <span style=\"color: #008080; text-decoration-color: #008080; font-weight: bold\">0.20096</span>,  <span style=\"color: #008080; text-decoration-color: #008080; font-weight: bold\">0.20328</span>, <span style=\"color: #008080; text-decoration-color: #008080; font-weight: bold\">16.77549</span>, <span style=\"color: #008080; text-decoration-color: #008080; font-weight: bold\">52.12027</span><span style=\"font-weight: bold\">])</span>,\n",
       "    <span style=\"color: #008080; text-decoration-color: #008080; font-weight: bold\">13</span>: <span style=\"color: #800080; text-decoration-color: #800080; font-weight: bold\">array</span><span style=\"font-weight: bold\">([</span><span style=\"color: #008080; text-decoration-color: #008080; font-weight: bold\">68.7</span>,  <span style=\"color: #008080; text-decoration-color: #008080; font-weight: bold\">0.2</span>,  <span style=\"color: #008080; text-decoration-color: #008080; font-weight: bold\">0.2</span>,  <span style=\"color: #008080; text-decoration-color: #008080; font-weight: bold\">0.2</span>,  <span style=\"color: #008080; text-decoration-color: #008080; font-weight: bold\">0.2</span><span style=\"font-weight: bold\">])</span>,\n",
       "    <span style=\"color: #008080; text-decoration-color: #008080; font-weight: bold\">14</span>: <span style=\"color: #800080; text-decoration-color: #800080; font-weight: bold\">array</span><span style=\"font-weight: bold\">([</span> <span style=\"color: #008080; text-decoration-color: #008080; font-weight: bold\">0.20001</span>,  <span style=\"color: #008080; text-decoration-color: #008080; font-weight: bold\">0.20021</span>,  <span style=\"color: #008080; text-decoration-color: #008080; font-weight: bold\">0.20092</span>, <span style=\"color: #008080; text-decoration-color: #008080; font-weight: bold\">33.1787</span> , <span style=\"color: #008080; text-decoration-color: #008080; font-weight: bold\">35.72017</span><span style=\"font-weight: bold\">])</span>,\n",
       "    <span style=\"color: #008080; text-decoration-color: #008080; font-weight: bold\">15</span>: <span style=\"color: #800080; text-decoration-color: #800080; font-weight: bold\">array</span><span style=\"font-weight: bold\">([</span> <span style=\"color: #008080; text-decoration-color: #008080; font-weight: bold\">0.20001</span>,  <span style=\"color: #008080; text-decoration-color: #008080; font-weight: bold\">0.2</span>    ,  <span style=\"color: #008080; text-decoration-color: #008080; font-weight: bold\">0.20056</span>, <span style=\"color: #008080; text-decoration-color: #008080; font-weight: bold\">40.14625</span>, <span style=\"color: #008080; text-decoration-color: #008080; font-weight: bold\">28.75318</span><span style=\"font-weight: bold\">])</span>,\n",
       "    <span style=\"color: #008080; text-decoration-color: #008080; font-weight: bold\">16</span>: <span style=\"color: #800080; text-decoration-color: #800080; font-weight: bold\">array</span><span style=\"font-weight: bold\">([</span> <span style=\"color: #008080; text-decoration-color: #008080; font-weight: bold\">0.2</span>,  <span style=\"color: #008080; text-decoration-color: #008080; font-weight: bold\">0.2</span>, <span style=\"color: #008080; text-decoration-color: #008080; font-weight: bold\">68.7</span>,  <span style=\"color: #008080; text-decoration-color: #008080; font-weight: bold\">0.2</span>,  <span style=\"color: #008080; text-decoration-color: #008080; font-weight: bold\">0.2</span><span style=\"font-weight: bold\">])</span>,\n",
       "    <span style=\"color: #008080; text-decoration-color: #008080; font-weight: bold\">17</span>: <span style=\"color: #800080; text-decoration-color: #800080; font-weight: bold\">array</span><span style=\"font-weight: bold\">([</span> <span style=\"color: #008080; text-decoration-color: #008080; font-weight: bold\">0.20001</span>,  <span style=\"color: #008080; text-decoration-color: #008080; font-weight: bold\">0.20019</span>,  <span style=\"color: #008080; text-decoration-color: #008080; font-weight: bold\">2.32469</span>, <span style=\"color: #008080; text-decoration-color: #008080; font-weight: bold\">30.97699</span>, <span style=\"color: #008080; text-decoration-color: #008080; font-weight: bold\">35.79813</span><span style=\"font-weight: bold\">])</span>,\n",
       "    <span style=\"color: #008080; text-decoration-color: #008080; font-weight: bold\">18</span>: <span style=\"color: #800080; text-decoration-color: #800080; font-weight: bold\">array</span><span style=\"font-weight: bold\">([</span> <span style=\"color: #008080; text-decoration-color: #008080; font-weight: bold\">0.20001</span>,  <span style=\"color: #008080; text-decoration-color: #008080; font-weight: bold\">0.2</span>    ,  <span style=\"color: #008080; text-decoration-color: #008080; font-weight: bold\">0.20051</span>, <span style=\"color: #008080; text-decoration-color: #008080; font-weight: bold\">25.68116</span>, <span style=\"color: #008080; text-decoration-color: #008080; font-weight: bold\">43.21832</span><span style=\"font-weight: bold\">])</span>,\n",
       "    <span style=\"color: #008080; text-decoration-color: #008080; font-weight: bold\">19</span>: <span style=\"color: #800080; text-decoration-color: #800080; font-weight: bold\">array</span><span style=\"font-weight: bold\">([</span> <span style=\"color: #008080; text-decoration-color: #008080; font-weight: bold\">0.20037</span>, <span style=\"color: #008080; text-decoration-color: #008080; font-weight: bold\">23.607</span>  , <span style=\"color: #008080; text-decoration-color: #008080; font-weight: bold\">45.28849</span>,  <span style=\"color: #008080; text-decoration-color: #008080; font-weight: bold\">0.20298</span>,  <span style=\"color: #008080; text-decoration-color: #008080; font-weight: bold\">0.20115</span><span style=\"font-weight: bold\">])</span>,\n",
       "    <span style=\"color: #008080; text-decoration-color: #008080; font-weight: bold\">20</span>: <span style=\"color: #800080; text-decoration-color: #800080; font-weight: bold\">array</span><span style=\"font-weight: bold\">([</span> <span style=\"color: #008080; text-decoration-color: #008080; font-weight: bold\">0.20008</span>,  <span style=\"color: #008080; text-decoration-color: #008080; font-weight: bold\">0.20207</span>, <span style=\"color: #008080; text-decoration-color: #008080; font-weight: bold\">22.36624</span>, <span style=\"color: #008080; text-decoration-color: #008080; font-weight: bold\">31.55087</span>, <span style=\"color: #008080; text-decoration-color: #008080; font-weight: bold\">15.18074</span><span style=\"font-weight: bold\">])</span>,\n",
       "    <span style=\"color: #008080; text-decoration-color: #008080; font-weight: bold\">21</span>: <span style=\"color: #800080; text-decoration-color: #800080; font-weight: bold\">array</span><span style=\"font-weight: bold\">([</span><span style=\"color: #008080; text-decoration-color: #008080; font-weight: bold\">68.7</span>,  <span style=\"color: #008080; text-decoration-color: #008080; font-weight: bold\">0.2</span>,  <span style=\"color: #008080; text-decoration-color: #008080; font-weight: bold\">0.2</span>,  <span style=\"color: #008080; text-decoration-color: #008080; font-weight: bold\">0.2</span>,  <span style=\"color: #008080; text-decoration-color: #008080; font-weight: bold\">0.2</span><span style=\"font-weight: bold\">])</span>,\n",
       "    <span style=\"color: #008080; text-decoration-color: #008080; font-weight: bold\">22</span>: <span style=\"color: #800080; text-decoration-color: #800080; font-weight: bold\">array</span><span style=\"font-weight: bold\">([</span> <span style=\"color: #008080; text-decoration-color: #008080; font-weight: bold\">0.2</span>    ,  <span style=\"color: #008080; text-decoration-color: #008080; font-weight: bold\">0.2</span>    ,  <span style=\"color: #008080; text-decoration-color: #008080; font-weight: bold\">0.2</span>    ,  <span style=\"color: #008080; text-decoration-color: #008080; font-weight: bold\">0.20001</span>, <span style=\"color: #008080; text-decoration-color: #008080; font-weight: bold\">68.69999</span><span style=\"font-weight: bold\">])</span>,\n",
       "    <span style=\"color: #008080; text-decoration-color: #008080; font-weight: bold\">23</span>: <span style=\"color: #800080; text-decoration-color: #800080; font-weight: bold\">array</span><span style=\"font-weight: bold\">([</span> <span style=\"color: #008080; text-decoration-color: #008080; font-weight: bold\">0.20001</span>,  <span style=\"color: #008080; text-decoration-color: #008080; font-weight: bold\">0.20016</span>,  <span style=\"color: #008080; text-decoration-color: #008080; font-weight: bold\">0.20069</span>, <span style=\"color: #008080; text-decoration-color: #008080; font-weight: bold\">36.1236</span> , <span style=\"color: #008080; text-decoration-color: #008080; font-weight: bold\">32.77555</span><span style=\"font-weight: bold\">])</span>,\n",
       "    <span style=\"color: #008080; text-decoration-color: #008080; font-weight: bold\">24</span>: <span style=\"color: #800080; text-decoration-color: #800080; font-weight: bold\">array</span><span style=\"font-weight: bold\">([</span> <span style=\"color: #008080; text-decoration-color: #008080; font-weight: bold\">0.2</span>,  <span style=\"color: #008080; text-decoration-color: #008080; font-weight: bold\">0.2</span>, <span style=\"color: #008080; text-decoration-color: #008080; font-weight: bold\">68.7</span>,  <span style=\"color: #008080; text-decoration-color: #008080; font-weight: bold\">0.2</span>,  <span style=\"color: #008080; text-decoration-color: #008080; font-weight: bold\">0.2</span><span style=\"font-weight: bold\">])</span>,\n",
       "    <span style=\"color: #008080; text-decoration-color: #008080; font-weight: bold\">25</span>: <span style=\"color: #800080; text-decoration-color: #800080; font-weight: bold\">array</span><span style=\"font-weight: bold\">([</span> <span style=\"color: #008080; text-decoration-color: #008080; font-weight: bold\">0.2003</span> , <span style=\"color: #008080; text-decoration-color: #008080; font-weight: bold\">22.22184</span>, <span style=\"color: #008080; text-decoration-color: #008080; font-weight: bold\">46.67367</span>,  <span style=\"color: #008080; text-decoration-color: #008080; font-weight: bold\">0.20314</span>,  <span style=\"color: #008080; text-decoration-color: #008080; font-weight: bold\">0.20104</span><span style=\"font-weight: bold\">])</span>,\n",
       "    <span style=\"color: #008080; text-decoration-color: #008080; font-weight: bold\">26</span>: <span style=\"color: #800080; text-decoration-color: #800080; font-weight: bold\">array</span><span style=\"font-weight: bold\">([</span> <span style=\"color: #008080; text-decoration-color: #008080; font-weight: bold\">0.20001</span>,  <span style=\"color: #008080; text-decoration-color: #008080; font-weight: bold\">0.2</span>    ,  <span style=\"color: #008080; text-decoration-color: #008080; font-weight: bold\">0.20053</span>, <span style=\"color: #008080; text-decoration-color: #008080; font-weight: bold\">27.56599</span>, <span style=\"color: #008080; text-decoration-color: #008080; font-weight: bold\">41.33347</span><span style=\"font-weight: bold\">])</span>,\n",
       "    <span style=\"color: #008080; text-decoration-color: #008080; font-weight: bold\">27</span>: <span style=\"color: #800080; text-decoration-color: #800080; font-weight: bold\">array</span><span style=\"font-weight: bold\">([</span> <span style=\"color: #008080; text-decoration-color: #008080; font-weight: bold\">0.20042</span>,  <span style=\"color: #008080; text-decoration-color: #008080; font-weight: bold\">0.20942</span>, <span style=\"color: #008080; text-decoration-color: #008080; font-weight: bold\">18.78039</span>, <span style=\"color: #008080; text-decoration-color: #008080; font-weight: bold\">39.53111</span>, <span style=\"color: #008080; text-decoration-color: #008080; font-weight: bold\">10.77865</span><span style=\"font-weight: bold\">])</span>,\n",
       "    <span style=\"color: #008080; text-decoration-color: #008080; font-weight: bold\">28</span>: <span style=\"color: #800080; text-decoration-color: #800080; font-weight: bold\">array</span><span style=\"font-weight: bold\">([</span> <span style=\"color: #008080; text-decoration-color: #008080; font-weight: bold\">0.20001</span>,  <span style=\"color: #008080; text-decoration-color: #008080; font-weight: bold\">0.2</span>    ,  <span style=\"color: #008080; text-decoration-color: #008080; font-weight: bold\">0.20057</span>, <span style=\"color: #008080; text-decoration-color: #008080; font-weight: bold\">63.34437</span>,  <span style=\"color: #008080; text-decoration-color: #008080; font-weight: bold\">5.55505</span><span style=\"font-weight: bold\">])</span>,\n",
       "    <span style=\"color: #008080; text-decoration-color: #008080; font-weight: bold\">29</span>: <span style=\"color: #800080; text-decoration-color: #800080; font-weight: bold\">array</span><span style=\"font-weight: bold\">([</span> <span style=\"color: #008080; text-decoration-color: #008080; font-weight: bold\">0.20016</span>, <span style=\"color: #008080; text-decoration-color: #008080; font-weight: bold\">36.21683</span>, <span style=\"color: #008080; text-decoration-color: #008080; font-weight: bold\">32.67916</span>,  <span style=\"color: #008080; text-decoration-color: #008080; font-weight: bold\">0.20244</span>,  <span style=\"color: #008080; text-decoration-color: #008080; font-weight: bold\">0.2014</span> <span style=\"font-weight: bold\">])</span>,\n",
       "    <span style=\"color: #008080; text-decoration-color: #008080; font-weight: bold\">30</span>: <span style=\"color: #800080; text-decoration-color: #800080; font-weight: bold\">array</span><span style=\"font-weight: bold\">([</span><span style=\"color: #008080; text-decoration-color: #008080; font-weight: bold\">68.7</span>,  <span style=\"color: #008080; text-decoration-color: #008080; font-weight: bold\">0.2</span>,  <span style=\"color: #008080; text-decoration-color: #008080; font-weight: bold\">0.2</span>,  <span style=\"color: #008080; text-decoration-color: #008080; font-weight: bold\">0.2</span>,  <span style=\"color: #008080; text-decoration-color: #008080; font-weight: bold\">0.2</span><span style=\"font-weight: bold\">])</span>,\n",
       "    <span style=\"color: #008080; text-decoration-color: #008080; font-weight: bold\">31</span>: <span style=\"color: #800080; text-decoration-color: #800080; font-weight: bold\">array</span><span style=\"font-weight: bold\">([</span> <span style=\"color: #008080; text-decoration-color: #008080; font-weight: bold\">3.77291</span>, <span style=\"color: #008080; text-decoration-color: #008080; font-weight: bold\">28.42984</span>, <span style=\"color: #008080; text-decoration-color: #008080; font-weight: bold\">36.89599</span>,  <span style=\"color: #008080; text-decoration-color: #008080; font-weight: bold\">0.20093</span>,  <span style=\"color: #008080; text-decoration-color: #008080; font-weight: bold\">0.20033</span><span style=\"font-weight: bold\">])</span>,\n",
       "    <span style=\"color: #008080; text-decoration-color: #008080; font-weight: bold\">32</span>: <span style=\"color: #800080; text-decoration-color: #800080; font-weight: bold\">array</span><span style=\"font-weight: bold\">([</span> <span style=\"color: #008080; text-decoration-color: #008080; font-weight: bold\">0.20004</span>,  <span style=\"color: #008080; text-decoration-color: #008080; font-weight: bold\">0.20256</span>,  <span style=\"color: #008080; text-decoration-color: #008080; font-weight: bold\">2.11736</span>, <span style=\"color: #008080; text-decoration-color: #008080; font-weight: bold\">39.20238</span>, <span style=\"color: #008080; text-decoration-color: #008080; font-weight: bold\">27.77766</span><span style=\"font-weight: bold\">])</span>,\n",
       "    <span style=\"color: #008080; text-decoration-color: #008080; font-weight: bold\">33</span>: <span style=\"color: #800080; text-decoration-color: #800080; font-weight: bold\">array</span><span style=\"font-weight: bold\">([</span> <span style=\"color: #008080; text-decoration-color: #008080; font-weight: bold\">0.2</span>,  <span style=\"color: #008080; text-decoration-color: #008080; font-weight: bold\">0.2</span>,  <span style=\"color: #008080; text-decoration-color: #008080; font-weight: bold\">0.2</span>,  <span style=\"color: #008080; text-decoration-color: #008080; font-weight: bold\">0.2</span>, <span style=\"color: #008080; text-decoration-color: #008080; font-weight: bold\">68.7</span><span style=\"font-weight: bold\">])</span>,\n",
       "    <span style=\"color: #008080; text-decoration-color: #008080; font-weight: bold\">34</span>: <span style=\"color: #800080; text-decoration-color: #800080; font-weight: bold\">array</span><span style=\"font-weight: bold\">([</span> <span style=\"color: #008080; text-decoration-color: #008080; font-weight: bold\">0.20027</span>, <span style=\"color: #008080; text-decoration-color: #008080; font-weight: bold\">56.14627</span>, <span style=\"color: #008080; text-decoration-color: #008080; font-weight: bold\">12.75346</span>,  <span style=\"color: #008080; text-decoration-color: #008080; font-weight: bold\">0.2</span>    ,  <span style=\"color: #008080; text-decoration-color: #008080; font-weight: bold\">0.2</span>    <span style=\"font-weight: bold\">])</span>,\n",
       "    <span style=\"color: #008080; text-decoration-color: #008080; font-weight: bold\">35</span>: <span style=\"color: #800080; text-decoration-color: #800080; font-weight: bold\">array</span><span style=\"font-weight: bold\">([</span> <span style=\"color: #008080; text-decoration-color: #008080; font-weight: bold\">0.20004</span>,  <span style=\"color: #008080; text-decoration-color: #008080; font-weight: bold\">0.20013</span>,  <span style=\"color: #008080; text-decoration-color: #008080; font-weight: bold\">0.20067</span>, <span style=\"color: #008080; text-decoration-color: #008080; font-weight: bold\">43.00315</span>, <span style=\"color: #008080; text-decoration-color: #008080; font-weight: bold\">25.89602</span><span style=\"font-weight: bold\">])</span>,\n",
       "    <span style=\"color: #008080; text-decoration-color: #008080; font-weight: bold\">36</span>: <span style=\"color: #800080; text-decoration-color: #800080; font-weight: bold\">array</span><span style=\"font-weight: bold\">([</span><span style=\"color: #008080; text-decoration-color: #008080; font-weight: bold\">37.07727</span>,  <span style=\"color: #008080; text-decoration-color: #008080; font-weight: bold\">0.31326</span>, <span style=\"color: #008080; text-decoration-color: #008080; font-weight: bold\">31.70844</span>,  <span style=\"color: #008080; text-decoration-color: #008080; font-weight: bold\">0.20103</span>,  <span style=\"color: #008080; text-decoration-color: #008080; font-weight: bold\">0.2</span>    <span style=\"font-weight: bold\">])</span>,\n",
       "    <span style=\"color: #008080; text-decoration-color: #008080; font-weight: bold\">37</span>: <span style=\"color: #800080; text-decoration-color: #800080; font-weight: bold\">array</span><span style=\"font-weight: bold\">([</span> <span style=\"color: #008080; text-decoration-color: #008080; font-weight: bold\">0.2</span>,  <span style=\"color: #008080; text-decoration-color: #008080; font-weight: bold\">0.2</span>, <span style=\"color: #008080; text-decoration-color: #008080; font-weight: bold\">68.7</span>,  <span style=\"color: #008080; text-decoration-color: #008080; font-weight: bold\">0.2</span>,  <span style=\"color: #008080; text-decoration-color: #008080; font-weight: bold\">0.2</span><span style=\"font-weight: bold\">])</span>,\n",
       "    <span style=\"color: #008080; text-decoration-color: #008080; font-weight: bold\">38</span>: <span style=\"color: #800080; text-decoration-color: #800080; font-weight: bold\">array</span><span style=\"font-weight: bold\">([</span> <span style=\"color: #008080; text-decoration-color: #008080; font-weight: bold\">2.79605</span>, <span style=\"color: #008080; text-decoration-color: #008080; font-weight: bold\">66.08087</span>,  <span style=\"color: #008080; text-decoration-color: #008080; font-weight: bold\">0.22307</span>,  <span style=\"color: #008080; text-decoration-color: #008080; font-weight: bold\">0.2</span>    ,  <span style=\"color: #008080; text-decoration-color: #008080; font-weight: bold\">0.2</span>    <span style=\"font-weight: bold\">])</span>,\n",
       "    <span style=\"color: #008080; text-decoration-color: #008080; font-weight: bold\">39</span>: <span style=\"color: #800080; text-decoration-color: #800080; font-weight: bold\">array</span><span style=\"font-weight: bold\">([</span> <span style=\"color: #008080; text-decoration-color: #008080; font-weight: bold\">0.20016</span>, <span style=\"color: #008080; text-decoration-color: #008080; font-weight: bold\">64.07265</span>,  <span style=\"color: #008080; text-decoration-color: #008080; font-weight: bold\">4.82688</span>,  <span style=\"color: #008080; text-decoration-color: #008080; font-weight: bold\">0.20031</span>,  <span style=\"color: #008080; text-decoration-color: #008080; font-weight: bold\">0.2</span>    <span style=\"font-weight: bold\">])</span>,\n",
       "    <span style=\"color: #008080; text-decoration-color: #008080; font-weight: bold\">40</span>: <span style=\"color: #800080; text-decoration-color: #800080; font-weight: bold\">array</span><span style=\"font-weight: bold\">([</span> <span style=\"color: #008080; text-decoration-color: #008080; font-weight: bold\">0.20032</span>, <span style=\"color: #008080; text-decoration-color: #008080; font-weight: bold\">24.07173</span>, <span style=\"color: #008080; text-decoration-color: #008080; font-weight: bold\">44.27935</span>,  <span style=\"color: #008080; text-decoration-color: #008080; font-weight: bold\">0.73747</span>,  <span style=\"color: #008080; text-decoration-color: #008080; font-weight: bold\">0.21113</span><span style=\"font-weight: bold\">])</span>,\n",
       "    <span style=\"color: #008080; text-decoration-color: #008080; font-weight: bold\">41</span>: <span style=\"color: #800080; text-decoration-color: #800080; font-weight: bold\">array</span><span style=\"font-weight: bold\">([</span> <span style=\"color: #008080; text-decoration-color: #008080; font-weight: bold\">0.20027</span>, <span style=\"color: #008080; text-decoration-color: #008080; font-weight: bold\">21.30835</span>, <span style=\"color: #008080; text-decoration-color: #008080; font-weight: bold\">18.90667</span>, <span style=\"color: #008080; text-decoration-color: #008080; font-weight: bold\">28.8802</span> ,  <span style=\"color: #008080; text-decoration-color: #008080; font-weight: bold\">0.20451</span><span style=\"font-weight: bold\">])</span>,\n",
       "    <span style=\"color: #008080; text-decoration-color: #008080; font-weight: bold\">42</span>: <span style=\"color: #800080; text-decoration-color: #800080; font-weight: bold\">array</span><span style=\"font-weight: bold\">([</span><span style=\"color: #008080; text-decoration-color: #008080; font-weight: bold\">68.7</span>,  <span style=\"color: #008080; text-decoration-color: #008080; font-weight: bold\">0.2</span>,  <span style=\"color: #008080; text-decoration-color: #008080; font-weight: bold\">0.2</span>,  <span style=\"color: #008080; text-decoration-color: #008080; font-weight: bold\">0.2</span>,  <span style=\"color: #008080; text-decoration-color: #008080; font-weight: bold\">0.2</span><span style=\"font-weight: bold\">])</span>,\n",
       "    <span style=\"color: #008080; text-decoration-color: #008080; font-weight: bold\">43</span>: <span style=\"color: #800080; text-decoration-color: #800080; font-weight: bold\">array</span><span style=\"font-weight: bold\">([</span> <span style=\"color: #008080; text-decoration-color: #008080; font-weight: bold\">0.2001</span> , <span style=\"color: #008080; text-decoration-color: #008080; font-weight: bold\">55.16212</span>, <span style=\"color: #008080; text-decoration-color: #008080; font-weight: bold\">13.73433</span>,  <span style=\"color: #008080; text-decoration-color: #008080; font-weight: bold\">0.20275</span>,  <span style=\"color: #008080; text-decoration-color: #008080; font-weight: bold\">0.20071</span><span style=\"font-weight: bold\">])</span>,\n",
       "    <span style=\"color: #008080; text-decoration-color: #008080; font-weight: bold\">44</span>: <span style=\"color: #800080; text-decoration-color: #800080; font-weight: bold\">array</span><span style=\"font-weight: bold\">([</span> <span style=\"color: #008080; text-decoration-color: #008080; font-weight: bold\">8.3263</span> , <span style=\"color: #008080; text-decoration-color: #008080; font-weight: bold\">47.41023</span>, <span style=\"color: #008080; text-decoration-color: #008080; font-weight: bold\">13.36347</span>,  <span style=\"color: #008080; text-decoration-color: #008080; font-weight: bold\">0.2</span>    ,  <span style=\"color: #008080; text-decoration-color: #008080; font-weight: bold\">0.2</span>    <span style=\"font-weight: bold\">])</span>,\n",
       "    <span style=\"color: #008080; text-decoration-color: #008080; font-weight: bold\">45</span>: <span style=\"color: #800080; text-decoration-color: #800080; font-weight: bold\">array</span><span style=\"font-weight: bold\">([</span> <span style=\"color: #008080; text-decoration-color: #008080; font-weight: bold\">0.20055</span>, <span style=\"color: #008080; text-decoration-color: #008080; font-weight: bold\">44.27655</span>, <span style=\"color: #008080; text-decoration-color: #008080; font-weight: bold\">24.61734</span>,  <span style=\"color: #008080; text-decoration-color: #008080; font-weight: bold\">0.20438</span>,  <span style=\"color: #008080; text-decoration-color: #008080; font-weight: bold\">0.20118</span><span style=\"font-weight: bold\">])</span>,\n",
       "    <span style=\"color: #008080; text-decoration-color: #008080; font-weight: bold\">46</span>: <span style=\"color: #800080; text-decoration-color: #800080; font-weight: bold\">array</span><span style=\"font-weight: bold\">([</span> <span style=\"color: #008080; text-decoration-color: #008080; font-weight: bold\">2.63026</span>,  <span style=\"color: #008080; text-decoration-color: #008080; font-weight: bold\">0.20178</span>, <span style=\"color: #008080; text-decoration-color: #008080; font-weight: bold\">66.20175</span>,  <span style=\"color: #008080; text-decoration-color: #008080; font-weight: bold\">0.26621</span>,  <span style=\"color: #008080; text-decoration-color: #008080; font-weight: bold\">0.2</span>    <span style=\"font-weight: bold\">])</span>,\n",
       "    <span style=\"color: #008080; text-decoration-color: #008080; font-weight: bold\">47</span>: <span style=\"color: #800080; text-decoration-color: #800080; font-weight: bold\">array</span><span style=\"font-weight: bold\">([</span> <span style=\"color: #008080; text-decoration-color: #008080; font-weight: bold\">0.21201</span>, <span style=\"color: #008080; text-decoration-color: #008080; font-weight: bold\">62.32908</span>,  <span style=\"color: #008080; text-decoration-color: #008080; font-weight: bold\">6.55846</span>,  <span style=\"color: #008080; text-decoration-color: #008080; font-weight: bold\">0.20042</span>,  <span style=\"color: #008080; text-decoration-color: #008080; font-weight: bold\">0.20002</span><span style=\"font-weight: bold\">])</span>,\n",
       "    <span style=\"color: #008080; text-decoration-color: #008080; font-weight: bold\">48</span>: <span style=\"color: #800080; text-decoration-color: #800080; font-weight: bold\">array</span><span style=\"font-weight: bold\">([</span> <span style=\"color: #008080; text-decoration-color: #008080; font-weight: bold\">0.20017</span>, <span style=\"color: #008080; text-decoration-color: #008080; font-weight: bold\">60.32043</span>,  <span style=\"color: #008080; text-decoration-color: #008080; font-weight: bold\">8.57439</span>,  <span style=\"color: #008080; text-decoration-color: #008080; font-weight: bold\">0.20396</span>,  <span style=\"color: #008080; text-decoration-color: #008080; font-weight: bold\">0.20105</span><span style=\"font-weight: bold\">])</span>,\n",
       "    <span style=\"color: #008080; text-decoration-color: #008080; font-weight: bold\">49</span>: <span style=\"color: #800080; text-decoration-color: #800080; font-weight: bold\">array</span><span style=\"font-weight: bold\">([</span> <span style=\"color: #008080; text-decoration-color: #008080; font-weight: bold\">0.2</span>, <span style=\"color: #008080; text-decoration-color: #008080; font-weight: bold\">68.7</span>,  <span style=\"color: #008080; text-decoration-color: #008080; font-weight: bold\">0.2</span>,  <span style=\"color: #008080; text-decoration-color: #008080; font-weight: bold\">0.2</span>,  <span style=\"color: #008080; text-decoration-color: #008080; font-weight: bold\">0.2</span><span style=\"font-weight: bold\">])</span>,\n",
       "    <span style=\"color: #008080; text-decoration-color: #008080; font-weight: bold\">50</span>: <span style=\"color: #800080; text-decoration-color: #800080; font-weight: bold\">array</span><span style=\"font-weight: bold\">([</span><span style=\"color: #008080; text-decoration-color: #008080; font-weight: bold\">68.7</span>,  <span style=\"color: #008080; text-decoration-color: #008080; font-weight: bold\">0.2</span>,  <span style=\"color: #008080; text-decoration-color: #008080; font-weight: bold\">0.2</span>,  <span style=\"color: #008080; text-decoration-color: #008080; font-weight: bold\">0.2</span>,  <span style=\"color: #008080; text-decoration-color: #008080; font-weight: bold\">0.2</span><span style=\"font-weight: bold\">])</span>,\n",
       "    <span style=\"color: #008080; text-decoration-color: #008080; font-weight: bold\">51</span>: <span style=\"color: #800080; text-decoration-color: #800080; font-weight: bold\">array</span><span style=\"font-weight: bold\">([</span> <span style=\"color: #008080; text-decoration-color: #008080; font-weight: bold\">0.20043</span>, <span style=\"color: #008080; text-decoration-color: #008080; font-weight: bold\">63.29458</span>,  <span style=\"color: #008080; text-decoration-color: #008080; font-weight: bold\">5.60455</span>,  <span style=\"color: #008080; text-decoration-color: #008080; font-weight: bold\">0.20042</span>,  <span style=\"color: #008080; text-decoration-color: #008080; font-weight: bold\">0.20002</span><span style=\"font-weight: bold\">])</span>,\n",
       "    <span style=\"color: #008080; text-decoration-color: #008080; font-weight: bold\">52</span>: <span style=\"color: #800080; text-decoration-color: #800080; font-weight: bold\">array</span><span style=\"font-weight: bold\">([</span> <span style=\"color: #008080; text-decoration-color: #008080; font-weight: bold\">0.2</span>,  <span style=\"color: #008080; text-decoration-color: #008080; font-weight: bold\">0.2</span>, <span style=\"color: #008080; text-decoration-color: #008080; font-weight: bold\">68.7</span>,  <span style=\"color: #008080; text-decoration-color: #008080; font-weight: bold\">0.2</span>,  <span style=\"color: #008080; text-decoration-color: #008080; font-weight: bold\">0.2</span><span style=\"font-weight: bold\">])</span>,\n",
       "    <span style=\"color: #008080; text-decoration-color: #008080; font-weight: bold\">53</span>: <span style=\"color: #800080; text-decoration-color: #800080; font-weight: bold\">array</span><span style=\"font-weight: bold\">([</span> <span style=\"color: #008080; text-decoration-color: #008080; font-weight: bold\">0.2</span>    , <span style=\"color: #008080; text-decoration-color: #008080; font-weight: bold\">68.69999</span>,  <span style=\"color: #008080; text-decoration-color: #008080; font-weight: bold\">0.20001</span>,  <span style=\"color: #008080; text-decoration-color: #008080; font-weight: bold\">0.2</span>    ,  <span style=\"color: #008080; text-decoration-color: #008080; font-weight: bold\">0.2</span>    <span style=\"font-weight: bold\">])</span>,\n",
       "    <span style=\"color: #008080; text-decoration-color: #008080; font-weight: bold\">54</span>: <span style=\"color: #800080; text-decoration-color: #800080; font-weight: bold\">array</span><span style=\"font-weight: bold\">([</span> <span style=\"color: #008080; text-decoration-color: #008080; font-weight: bold\">0.202</span>  , <span style=\"color: #008080; text-decoration-color: #008080; font-weight: bold\">66.26229</span>,  <span style=\"color: #008080; text-decoration-color: #008080; font-weight: bold\">2.63571</span>,  <span style=\"color: #008080; text-decoration-color: #008080; font-weight: bold\">0.2</span>    ,  <span style=\"color: #008080; text-decoration-color: #008080; font-weight: bold\">0.2</span>    <span style=\"font-weight: bold\">])</span>,\n",
       "    <span style=\"color: #008080; text-decoration-color: #008080; font-weight: bold\">55</span>: <span style=\"color: #800080; text-decoration-color: #800080; font-weight: bold\">array</span><span style=\"font-weight: bold\">([</span> <span style=\"color: #008080; text-decoration-color: #008080; font-weight: bold\">2.40549</span>, <span style=\"color: #008080; text-decoration-color: #008080; font-weight: bold\">66.49142</span>,  <span style=\"color: #008080; text-decoration-color: #008080; font-weight: bold\">0.20113</span>,  <span style=\"color: #008080; text-decoration-color: #008080; font-weight: bold\">0.2002</span> ,  <span style=\"color: #008080; text-decoration-color: #008080; font-weight: bold\">0.20177</span><span style=\"font-weight: bold\">])</span>,\n",
       "    <span style=\"color: #008080; text-decoration-color: #008080; font-weight: bold\">56</span>: <span style=\"color: #800080; text-decoration-color: #800080; font-weight: bold\">array</span><span style=\"font-weight: bold\">([</span><span style=\"color: #008080; text-decoration-color: #008080; font-weight: bold\">57.24658</span>,  <span style=\"color: #008080; text-decoration-color: #008080; font-weight: bold\">0.23151</span>, <span style=\"color: #008080; text-decoration-color: #008080; font-weight: bold\">11.62033</span>,  <span style=\"color: #008080; text-decoration-color: #008080; font-weight: bold\">0.2</span>    ,  <span style=\"color: #008080; text-decoration-color: #008080; font-weight: bold\">0.20158</span><span style=\"font-weight: bold\">])</span>,\n",
       "    <span style=\"color: #008080; text-decoration-color: #008080; font-weight: bold\">57</span>: <span style=\"color: #800080; text-decoration-color: #800080; font-weight: bold\">array</span><span style=\"font-weight: bold\">([</span> <span style=\"color: #008080; text-decoration-color: #008080; font-weight: bold\">0.2</span>, <span style=\"color: #008080; text-decoration-color: #008080; font-weight: bold\">68.7</span>,  <span style=\"color: #008080; text-decoration-color: #008080; font-weight: bold\">0.2</span>,  <span style=\"color: #008080; text-decoration-color: #008080; font-weight: bold\">0.2</span>,  <span style=\"color: #008080; text-decoration-color: #008080; font-weight: bold\">0.2</span><span style=\"font-weight: bold\">])</span>,\n",
       "    <span style=\"color: #008080; text-decoration-color: #008080; font-weight: bold\">58</span>: <span style=\"color: #800080; text-decoration-color: #800080; font-weight: bold\">array</span><span style=\"font-weight: bold\">([</span> <span style=\"color: #008080; text-decoration-color: #008080; font-weight: bold\">0.2</span>, <span style=\"color: #008080; text-decoration-color: #008080; font-weight: bold\">68.7</span>,  <span style=\"color: #008080; text-decoration-color: #008080; font-weight: bold\">0.2</span>,  <span style=\"color: #008080; text-decoration-color: #008080; font-weight: bold\">0.2</span>,  <span style=\"color: #008080; text-decoration-color: #008080; font-weight: bold\">0.2</span><span style=\"font-weight: bold\">])</span>,\n",
       "    <span style=\"color: #008080; text-decoration-color: #008080; font-weight: bold\">59</span>: <span style=\"color: #800080; text-decoration-color: #800080; font-weight: bold\">array</span><span style=\"font-weight: bold\">([</span> <span style=\"color: #008080; text-decoration-color: #008080; font-weight: bold\">0.2</span>, <span style=\"color: #008080; text-decoration-color: #008080; font-weight: bold\">68.7</span>,  <span style=\"color: #008080; text-decoration-color: #008080; font-weight: bold\">0.2</span>,  <span style=\"color: #008080; text-decoration-color: #008080; font-weight: bold\">0.2</span>,  <span style=\"color: #008080; text-decoration-color: #008080; font-weight: bold\">0.2</span><span style=\"font-weight: bold\">])</span>,\n",
       "    <span style=\"color: #008080; text-decoration-color: #008080; font-weight: bold\">60</span>: <span style=\"color: #800080; text-decoration-color: #800080; font-weight: bold\">array</span><span style=\"font-weight: bold\">([</span> <span style=\"color: #008080; text-decoration-color: #008080; font-weight: bold\">2.55379</span>, <span style=\"color: #008080; text-decoration-color: #008080; font-weight: bold\">63.85879</span>,  <span style=\"color: #008080; text-decoration-color: #008080; font-weight: bold\">2.68719</span>,  <span style=\"color: #008080; text-decoration-color: #008080; font-weight: bold\">0.20021</span>,  <span style=\"color: #008080; text-decoration-color: #008080; font-weight: bold\">0.20002</span><span style=\"font-weight: bold\">])</span>,\n",
       "    <span style=\"color: #008080; text-decoration-color: #008080; font-weight: bold\">61</span>: <span style=\"color: #800080; text-decoration-color: #800080; font-weight: bold\">array</span><span style=\"font-weight: bold\">([</span> <span style=\"color: #008080; text-decoration-color: #008080; font-weight: bold\">0.2</span>, <span style=\"color: #008080; text-decoration-color: #008080; font-weight: bold\">68.7</span>,  <span style=\"color: #008080; text-decoration-color: #008080; font-weight: bold\">0.2</span>,  <span style=\"color: #008080; text-decoration-color: #008080; font-weight: bold\">0.2</span>,  <span style=\"color: #008080; text-decoration-color: #008080; font-weight: bold\">0.2</span><span style=\"font-weight: bold\">])</span>,\n",
       "    <span style=\"color: #008080; text-decoration-color: #008080; font-weight: bold\">62</span>: <span style=\"color: #800080; text-decoration-color: #800080; font-weight: bold\">array</span><span style=\"font-weight: bold\">([</span> <span style=\"color: #008080; text-decoration-color: #008080; font-weight: bold\">0.2</span>, <span style=\"color: #008080; text-decoration-color: #008080; font-weight: bold\">68.7</span>,  <span style=\"color: #008080; text-decoration-color: #008080; font-weight: bold\">0.2</span>,  <span style=\"color: #008080; text-decoration-color: #008080; font-weight: bold\">0.2</span>,  <span style=\"color: #008080; text-decoration-color: #008080; font-weight: bold\">0.2</span><span style=\"font-weight: bold\">])</span>,\n",
       "    <span style=\"color: #008080; text-decoration-color: #008080; font-weight: bold\">63</span>: <span style=\"color: #800080; text-decoration-color: #800080; font-weight: bold\">array</span><span style=\"font-weight: bold\">([</span> <span style=\"color: #008080; text-decoration-color: #008080; font-weight: bold\">0.2</span>, <span style=\"color: #008080; text-decoration-color: #008080; font-weight: bold\">68.7</span>,  <span style=\"color: #008080; text-decoration-color: #008080; font-weight: bold\">0.2</span>,  <span style=\"color: #008080; text-decoration-color: #008080; font-weight: bold\">0.2</span>,  <span style=\"color: #008080; text-decoration-color: #008080; font-weight: bold\">0.2</span><span style=\"font-weight: bold\">])</span>,\n",
       "    <span style=\"color: #008080; text-decoration-color: #008080; font-weight: bold\">64</span>: <span style=\"color: #800080; text-decoration-color: #800080; font-weight: bold\">array</span><span style=\"font-weight: bold\">([</span> <span style=\"color: #008080; text-decoration-color: #008080; font-weight: bold\">0.2</span>    ,  <span style=\"color: #008080; text-decoration-color: #008080; font-weight: bold\">0.2</span>    ,  <span style=\"color: #008080; text-decoration-color: #008080; font-weight: bold\">0.2</span>    ,  <span style=\"color: #008080; text-decoration-color: #008080; font-weight: bold\">0.20001</span>, <span style=\"color: #008080; text-decoration-color: #008080; font-weight: bold\">68.69999</span><span style=\"font-weight: bold\">])</span>,\n",
       "    <span style=\"color: #008080; text-decoration-color: #008080; font-weight: bold\">65</span>: <span style=\"color: #800080; text-decoration-color: #800080; font-weight: bold\">array</span><span style=\"font-weight: bold\">([</span> <span style=\"color: #008080; text-decoration-color: #008080; font-weight: bold\">0.2</span>, <span style=\"color: #008080; text-decoration-color: #008080; font-weight: bold\">68.7</span>,  <span style=\"color: #008080; text-decoration-color: #008080; font-weight: bold\">0.2</span>,  <span style=\"color: #008080; text-decoration-color: #008080; font-weight: bold\">0.2</span>,  <span style=\"color: #008080; text-decoration-color: #008080; font-weight: bold\">0.2</span><span style=\"font-weight: bold\">])</span>,\n",
       "    <span style=\"color: #008080; text-decoration-color: #008080; font-weight: bold\">66</span>: <span style=\"color: #800080; text-decoration-color: #800080; font-weight: bold\">array</span><span style=\"font-weight: bold\">([</span><span style=\"color: #008080; text-decoration-color: #008080; font-weight: bold\">68.7</span>,  <span style=\"color: #008080; text-decoration-color: #008080; font-weight: bold\">0.2</span>,  <span style=\"color: #008080; text-decoration-color: #008080; font-weight: bold\">0.2</span>,  <span style=\"color: #008080; text-decoration-color: #008080; font-weight: bold\">0.2</span>,  <span style=\"color: #008080; text-decoration-color: #008080; font-weight: bold\">0.2</span><span style=\"font-weight: bold\">])</span>,\n",
       "    <span style=\"color: #008080; text-decoration-color: #008080; font-weight: bold\">67</span>: <span style=\"color: #800080; text-decoration-color: #800080; font-weight: bold\">array</span><span style=\"font-weight: bold\">([</span><span style=\"color: #008080; text-decoration-color: #008080; font-weight: bold\">17.31447</span>, <span style=\"color: #008080; text-decoration-color: #008080; font-weight: bold\">34.4569</span> ,  <span style=\"color: #008080; text-decoration-color: #008080; font-weight: bold\">0.20126</span>,  <span style=\"color: #008080; text-decoration-color: #008080; font-weight: bold\">0.2</span>    , <span style=\"color: #008080; text-decoration-color: #008080; font-weight: bold\">17.32737</span><span style=\"font-weight: bold\">])</span>,\n",
       "    <span style=\"color: #008080; text-decoration-color: #008080; font-weight: bold\">68</span>: <span style=\"color: #800080; text-decoration-color: #800080; font-weight: bold\">array</span><span style=\"font-weight: bold\">([</span> <span style=\"color: #008080; text-decoration-color: #008080; font-weight: bold\">0.2</span>,  <span style=\"color: #008080; text-decoration-color: #008080; font-weight: bold\">0.2</span>, <span style=\"color: #008080; text-decoration-color: #008080; font-weight: bold\">68.7</span>,  <span style=\"color: #008080; text-decoration-color: #008080; font-weight: bold\">0.2</span>,  <span style=\"color: #008080; text-decoration-color: #008080; font-weight: bold\">0.2</span><span style=\"font-weight: bold\">])</span>,\n",
       "    <span style=\"color: #008080; text-decoration-color: #008080; font-weight: bold\">69</span>: <span style=\"color: #800080; text-decoration-color: #800080; font-weight: bold\">array</span><span style=\"font-weight: bold\">([</span> <span style=\"color: #008080; text-decoration-color: #008080; font-weight: bold\">0.20174</span>,  <span style=\"color: #008080; text-decoration-color: #008080; font-weight: bold\">0.2</span>    ,  <span style=\"color: #008080; text-decoration-color: #008080; font-weight: bold\">5.07912</span>, <span style=\"color: #008080; text-decoration-color: #008080; font-weight: bold\">28.84964</span>, <span style=\"color: #008080; text-decoration-color: #008080; font-weight: bold\">35.16949</span><span style=\"font-weight: bold\">])</span>,\n",
       "    <span style=\"color: #008080; text-decoration-color: #008080; font-weight: bold\">70</span>: <span style=\"color: #800080; text-decoration-color: #800080; font-weight: bold\">array</span><span style=\"font-weight: bold\">([</span><span style=\"color: #008080; text-decoration-color: #008080; font-weight: bold\">30.27329</span>,  <span style=\"color: #008080; text-decoration-color: #008080; font-weight: bold\">0.2</span>    , <span style=\"color: #008080; text-decoration-color: #008080; font-weight: bold\">38.60992</span>,  <span style=\"color: #008080; text-decoration-color: #008080; font-weight: bold\">0.20828</span>,  <span style=\"color: #008080; text-decoration-color: #008080; font-weight: bold\">0.20852</span><span style=\"font-weight: bold\">])</span>,\n",
       "    <span style=\"color: #008080; text-decoration-color: #008080; font-weight: bold\">71</span>: <span style=\"color: #800080; text-decoration-color: #800080; font-weight: bold\">array</span><span style=\"font-weight: bold\">([</span><span style=\"color: #008080; text-decoration-color: #008080; font-weight: bold\">68.7</span>,  <span style=\"color: #008080; text-decoration-color: #008080; font-weight: bold\">0.2</span>,  <span style=\"color: #008080; text-decoration-color: #008080; font-weight: bold\">0.2</span>,  <span style=\"color: #008080; text-decoration-color: #008080; font-weight: bold\">0.2</span>,  <span style=\"color: #008080; text-decoration-color: #008080; font-weight: bold\">0.2</span><span style=\"font-weight: bold\">])</span>,\n",
       "    <span style=\"color: #008080; text-decoration-color: #008080; font-weight: bold\">72</span>: <span style=\"color: #800080; text-decoration-color: #800080; font-weight: bold\">array</span><span style=\"font-weight: bold\">([</span> <span style=\"color: #008080; text-decoration-color: #008080; font-weight: bold\">0.20001</span>,  <span style=\"color: #008080; text-decoration-color: #008080; font-weight: bold\">0.2</span>    ,  <span style=\"color: #008080; text-decoration-color: #008080; font-weight: bold\">0.2006</span> , <span style=\"color: #008080; text-decoration-color: #008080; font-weight: bold\">49.35635</span>, <span style=\"color: #008080; text-decoration-color: #008080; font-weight: bold\">19.54305</span><span style=\"font-weight: bold\">])</span>,\n",
       "    <span style=\"color: #008080; text-decoration-color: #008080; font-weight: bold\">73</span>: <span style=\"color: #800080; text-decoration-color: #800080; font-weight: bold\">array</span><span style=\"font-weight: bold\">([</span> <span style=\"color: #008080; text-decoration-color: #008080; font-weight: bold\">0.20041</span>,  <span style=\"color: #008080; text-decoration-color: #008080; font-weight: bold\">0.20056</span>, <span style=\"color: #008080; text-decoration-color: #008080; font-weight: bold\">45.62699</span>, <span style=\"color: #008080; text-decoration-color: #008080; font-weight: bold\">23.26669</span>,  <span style=\"color: #008080; text-decoration-color: #008080; font-weight: bold\">0.20536</span><span style=\"font-weight: bold\">])</span>,\n",
       "    <span style=\"color: #008080; text-decoration-color: #008080; font-weight: bold\">74</span>: <span style=\"color: #800080; text-decoration-color: #800080; font-weight: bold\">array</span><span style=\"font-weight: bold\">([</span> <span style=\"color: #008080; text-decoration-color: #008080; font-weight: bold\">0.20007</span>,  <span style=\"color: #008080; text-decoration-color: #008080; font-weight: bold\">0.20015</span>,  <span style=\"color: #008080; text-decoration-color: #008080; font-weight: bold\">2.51676</span>, <span style=\"color: #008080; text-decoration-color: #008080; font-weight: bold\">41.22256</span>, <span style=\"color: #008080; text-decoration-color: #008080; font-weight: bold\">25.36046</span><span style=\"font-weight: bold\">])</span>,\n",
       "    <span style=\"color: #008080; text-decoration-color: #008080; font-weight: bold\">75</span>: <span style=\"color: #800080; text-decoration-color: #800080; font-weight: bold\">array</span><span style=\"font-weight: bold\">([</span><span style=\"color: #008080; text-decoration-color: #008080; font-weight: bold\">68.7</span>,  <span style=\"color: #008080; text-decoration-color: #008080; font-weight: bold\">0.2</span>,  <span style=\"color: #008080; text-decoration-color: #008080; font-weight: bold\">0.2</span>,  <span style=\"color: #008080; text-decoration-color: #008080; font-weight: bold\">0.2</span>,  <span style=\"color: #008080; text-decoration-color: #008080; font-weight: bold\">0.2</span><span style=\"font-weight: bold\">])</span>,\n",
       "    <span style=\"color: #008080; text-decoration-color: #008080; font-weight: bold\">76</span>: <span style=\"color: #800080; text-decoration-color: #800080; font-weight: bold\">array</span><span style=\"font-weight: bold\">([</span> <span style=\"color: #008080; text-decoration-color: #008080; font-weight: bold\">0.2</span>,  <span style=\"color: #008080; text-decoration-color: #008080; font-weight: bold\">0.2</span>, <span style=\"color: #008080; text-decoration-color: #008080; font-weight: bold\">68.7</span>,  <span style=\"color: #008080; text-decoration-color: #008080; font-weight: bold\">0.2</span>,  <span style=\"color: #008080; text-decoration-color: #008080; font-weight: bold\">0.2</span><span style=\"font-weight: bold\">])</span>,\n",
       "    <span style=\"color: #008080; text-decoration-color: #008080; font-weight: bold\">77</span>: <span style=\"color: #800080; text-decoration-color: #800080; font-weight: bold\">array</span><span style=\"font-weight: bold\">([</span> <span style=\"color: #008080; text-decoration-color: #008080; font-weight: bold\">0.20066</span>,  <span style=\"color: #008080; text-decoration-color: #008080; font-weight: bold\">0.2</span>    ,  <span style=\"color: #008080; text-decoration-color: #008080; font-weight: bold\">2.9427</span> , <span style=\"color: #008080; text-decoration-color: #008080; font-weight: bold\">64.63829</span>,  <span style=\"color: #008080; text-decoration-color: #008080; font-weight: bold\">1.51834</span><span style=\"font-weight: bold\">])</span>,\n",
       "    <span style=\"color: #008080; text-decoration-color: #008080; font-weight: bold\">78</span>: <span style=\"color: #800080; text-decoration-color: #800080; font-weight: bold\">array</span><span style=\"font-weight: bold\">([</span> <span style=\"color: #008080; text-decoration-color: #008080; font-weight: bold\">0.20016</span>,  <span style=\"color: #008080; text-decoration-color: #008080; font-weight: bold\">0.20014</span>, <span style=\"color: #008080; text-decoration-color: #008080; font-weight: bold\">15.25121</span>, <span style=\"color: #008080; text-decoration-color: #008080; font-weight: bold\">30.63659</span>, <span style=\"color: #008080; text-decoration-color: #008080; font-weight: bold\">23.2119</span> <span style=\"font-weight: bold\">])</span>,\n",
       "    <span style=\"color: #008080; text-decoration-color: #008080; font-weight: bold\">79</span>: <span style=\"color: #800080; text-decoration-color: #800080; font-weight: bold\">array</span><span style=\"font-weight: bold\">([</span> <span style=\"color: #008080; text-decoration-color: #008080; font-weight: bold\">4.46786</span>,  <span style=\"color: #008080; text-decoration-color: #008080; font-weight: bold\">0.20047</span>, <span style=\"color: #008080; text-decoration-color: #008080; font-weight: bold\">64.42643</span>,  <span style=\"color: #008080; text-decoration-color: #008080; font-weight: bold\">0.20362</span>,  <span style=\"color: #008080; text-decoration-color: #008080; font-weight: bold\">0.20162</span><span style=\"font-weight: bold\">])</span>,\n",
       "    <span style=\"color: #008080; text-decoration-color: #008080; font-weight: bold\">80</span>: <span style=\"color: #800080; text-decoration-color: #800080; font-weight: bold\">array</span><span style=\"font-weight: bold\">([</span> <span style=\"color: #008080; text-decoration-color: #008080; font-weight: bold\">0.2</span>    ,  <span style=\"color: #008080; text-decoration-color: #008080; font-weight: bold\">0.2</span>    ,  <span style=\"color: #008080; text-decoration-color: #008080; font-weight: bold\">0.20035</span>, <span style=\"color: #008080; text-decoration-color: #008080; font-weight: bold\">19.15469</span>, <span style=\"color: #008080; text-decoration-color: #008080; font-weight: bold\">49.74496</span><span style=\"font-weight: bold\">])</span>,\n",
       "    <span style=\"color: #008080; text-decoration-color: #008080; font-weight: bold\">81</span>: <span style=\"color: #800080; text-decoration-color: #800080; font-weight: bold\">array</span><span style=\"font-weight: bold\">([</span> <span style=\"color: #008080; text-decoration-color: #008080; font-weight: bold\">0.2</span>,  <span style=\"color: #008080; text-decoration-color: #008080; font-weight: bold\">0.2</span>,  <span style=\"color: #008080; text-decoration-color: #008080; font-weight: bold\">0.2</span>,  <span style=\"color: #008080; text-decoration-color: #008080; font-weight: bold\">0.2</span>, <span style=\"color: #008080; text-decoration-color: #008080; font-weight: bold\">68.7</span><span style=\"font-weight: bold\">])</span>,\n",
       "    <span style=\"color: #008080; text-decoration-color: #008080; font-weight: bold\">82</span>: <span style=\"color: #800080; text-decoration-color: #800080; font-weight: bold\">array</span><span style=\"font-weight: bold\">([</span><span style=\"color: #008080; text-decoration-color: #008080; font-weight: bold\">68.7</span>,  <span style=\"color: #008080; text-decoration-color: #008080; font-weight: bold\">0.2</span>,  <span style=\"color: #008080; text-decoration-color: #008080; font-weight: bold\">0.2</span>,  <span style=\"color: #008080; text-decoration-color: #008080; font-weight: bold\">0.2</span>,  <span style=\"color: #008080; text-decoration-color: #008080; font-weight: bold\">0.2</span><span style=\"font-weight: bold\">])</span>,\n",
       "    <span style=\"color: #008080; text-decoration-color: #008080; font-weight: bold\">83</span>: <span style=\"color: #800080; text-decoration-color: #800080; font-weight: bold\">array</span><span style=\"font-weight: bold\">([</span> <span style=\"color: #008080; text-decoration-color: #008080; font-weight: bold\">0.20007</span>,  <span style=\"color: #008080; text-decoration-color: #008080; font-weight: bold\">0.2</span>    ,  <span style=\"color: #008080; text-decoration-color: #008080; font-weight: bold\">0.20151</span>, <span style=\"color: #008080; text-decoration-color: #008080; font-weight: bold\">41.04118</span>, <span style=\"color: #008080; text-decoration-color: #008080; font-weight: bold\">27.85723</span><span style=\"font-weight: bold\">])</span>,\n",
       "    <span style=\"color: #008080; text-decoration-color: #008080; font-weight: bold\">84</span>: <span style=\"color: #800080; text-decoration-color: #800080; font-weight: bold\">array</span><span style=\"font-weight: bold\">([</span> <span style=\"color: #008080; text-decoration-color: #008080; font-weight: bold\">0.2</span>    ,  <span style=\"color: #008080; text-decoration-color: #008080; font-weight: bold\">0.2</span>    ,  <span style=\"color: #008080; text-decoration-color: #008080; font-weight: bold\">0.20063</span>, <span style=\"color: #008080; text-decoration-color: #008080; font-weight: bold\">45.20074</span>, <span style=\"color: #008080; text-decoration-color: #008080; font-weight: bold\">23.69863</span><span style=\"font-weight: bold\">])</span>,\n",
       "    <span style=\"color: #008080; text-decoration-color: #008080; font-weight: bold\">85</span>: <span style=\"color: #800080; text-decoration-color: #800080; font-weight: bold\">array</span><span style=\"font-weight: bold\">([</span> <span style=\"color: #008080; text-decoration-color: #008080; font-weight: bold\">0.2</span>,  <span style=\"color: #008080; text-decoration-color: #008080; font-weight: bold\">0.2</span>, <span style=\"color: #008080; text-decoration-color: #008080; font-weight: bold\">68.7</span>,  <span style=\"color: #008080; text-decoration-color: #008080; font-weight: bold\">0.2</span>,  <span style=\"color: #008080; text-decoration-color: #008080; font-weight: bold\">0.2</span><span style=\"font-weight: bold\">])</span>,\n",
       "    <span style=\"color: #008080; text-decoration-color: #008080; font-weight: bold\">86</span>: <span style=\"color: #800080; text-decoration-color: #800080; font-weight: bold\">array</span><span style=\"font-weight: bold\">([</span> <span style=\"color: #008080; text-decoration-color: #008080; font-weight: bold\">0.2</span>    ,  <span style=\"color: #008080; text-decoration-color: #008080; font-weight: bold\">0.2</span>    ,  <span style=\"color: #008080; text-decoration-color: #008080; font-weight: bold\">2.42287</span>, <span style=\"color: #008080; text-decoration-color: #008080; font-weight: bold\">16.45164</span>, <span style=\"color: #008080; text-decoration-color: #008080; font-weight: bold\">50.22549</span><span style=\"font-weight: bold\">])</span>,\n",
       "    <span style=\"color: #008080; text-decoration-color: #008080; font-weight: bold\">87</span>: <span style=\"color: #800080; text-decoration-color: #800080; font-weight: bold\">array</span><span style=\"font-weight: bold\">([</span> <span style=\"color: #008080; text-decoration-color: #008080; font-weight: bold\">0.20001</span>,  <span style=\"color: #008080; text-decoration-color: #008080; font-weight: bold\">0.2</span>    ,  <span style=\"color: #008080; text-decoration-color: #008080; font-weight: bold\">0.20051</span>, <span style=\"color: #008080; text-decoration-color: #008080; font-weight: bold\">29.5815</span> , <span style=\"color: #008080; text-decoration-color: #008080; font-weight: bold\">39.31798</span><span style=\"font-weight: bold\">])</span>,\n",
       "    <span style=\"color: #008080; text-decoration-color: #008080; font-weight: bold\">88</span>: <span style=\"color: #800080; text-decoration-color: #800080; font-weight: bold\">array</span><span style=\"font-weight: bold\">([</span> <span style=\"color: #008080; text-decoration-color: #008080; font-weight: bold\">0.2</span>,  <span style=\"color: #008080; text-decoration-color: #008080; font-weight: bold\">0.2</span>, <span style=\"color: #008080; text-decoration-color: #008080; font-weight: bold\">68.7</span>,  <span style=\"color: #008080; text-decoration-color: #008080; font-weight: bold\">0.2</span>,  <span style=\"color: #008080; text-decoration-color: #008080; font-weight: bold\">0.2</span><span style=\"font-weight: bold\">])</span>,\n",
       "    <span style=\"color: #008080; text-decoration-color: #008080; font-weight: bold\">89</span>: <span style=\"color: #800080; text-decoration-color: #800080; font-weight: bold\">array</span><span style=\"font-weight: bold\">([</span> <span style=\"color: #008080; text-decoration-color: #008080; font-weight: bold\">0.20007</span>,  <span style=\"color: #008080; text-decoration-color: #008080; font-weight: bold\">0.20062</span>, <span style=\"color: #008080; text-decoration-color: #008080; font-weight: bold\">13.24834</span>, <span style=\"color: #008080; text-decoration-color: #008080; font-weight: bold\">47.94168</span>,  <span style=\"color: #008080; text-decoration-color: #008080; font-weight: bold\">7.90929</span><span style=\"font-weight: bold\">])</span>,\n",
       "    <span style=\"color: #008080; text-decoration-color: #008080; font-weight: bold\">90</span>: <span style=\"color: #800080; text-decoration-color: #800080; font-weight: bold\">array</span><span style=\"font-weight: bold\">([</span><span style=\"color: #008080; text-decoration-color: #008080; font-weight: bold\">68.7</span>,  <span style=\"color: #008080; text-decoration-color: #008080; font-weight: bold\">0.2</span>,  <span style=\"color: #008080; text-decoration-color: #008080; font-weight: bold\">0.2</span>,  <span style=\"color: #008080; text-decoration-color: #008080; font-weight: bold\">0.2</span>,  <span style=\"color: #008080; text-decoration-color: #008080; font-weight: bold\">0.2</span><span style=\"font-weight: bold\">])</span>,\n",
       "    <span style=\"color: #008080; text-decoration-color: #008080; font-weight: bold\">91</span>: <span style=\"color: #800080; text-decoration-color: #800080; font-weight: bold\">array</span><span style=\"font-weight: bold\">([</span> <span style=\"color: #008080; text-decoration-color: #008080; font-weight: bold\">0.20001</span>,  <span style=\"color: #008080; text-decoration-color: #008080; font-weight: bold\">0.2</span>    ,  <span style=\"color: #008080; text-decoration-color: #008080; font-weight: bold\">0.20044</span>, <span style=\"color: #008080; text-decoration-color: #008080; font-weight: bold\">27.97698</span>, <span style=\"color: #008080; text-decoration-color: #008080; font-weight: bold\">40.92258</span><span style=\"font-weight: bold\">])</span>,\n",
       "    <span style=\"color: #008080; text-decoration-color: #008080; font-weight: bold\">92</span>: <span style=\"color: #800080; text-decoration-color: #800080; font-weight: bold\">array</span><span style=\"font-weight: bold\">([</span> <span style=\"color: #008080; text-decoration-color: #008080; font-weight: bold\">0.20001</span>,  <span style=\"color: #008080; text-decoration-color: #008080; font-weight: bold\">0.2</span>    ,  <span style=\"color: #008080; text-decoration-color: #008080; font-weight: bold\">0.20048</span>, <span style=\"color: #008080; text-decoration-color: #008080; font-weight: bold\">33.33924</span>, <span style=\"color: #008080; text-decoration-color: #008080; font-weight: bold\">35.56028</span><span style=\"font-weight: bold\">])</span>,\n",
       "    <span style=\"color: #008080; text-decoration-color: #008080; font-weight: bold\">93</span>: <span style=\"color: #800080; text-decoration-color: #800080; font-weight: bold\">array</span><span style=\"font-weight: bold\">([</span> <span style=\"color: #008080; text-decoration-color: #008080; font-weight: bold\">0.2</span>,  <span style=\"color: #008080; text-decoration-color: #008080; font-weight: bold\">0.2</span>, <span style=\"color: #008080; text-decoration-color: #008080; font-weight: bold\">68.7</span>,  <span style=\"color: #008080; text-decoration-color: #008080; font-weight: bold\">0.2</span>,  <span style=\"color: #008080; text-decoration-color: #008080; font-weight: bold\">0.2</span><span style=\"font-weight: bold\">])</span>,\n",
       "    <span style=\"color: #008080; text-decoration-color: #008080; font-weight: bold\">94</span>: <span style=\"color: #800080; text-decoration-color: #800080; font-weight: bold\">array</span><span style=\"font-weight: bold\">([</span> <span style=\"color: #008080; text-decoration-color: #008080; font-weight: bold\">0.20119</span>,  <span style=\"color: #008080; text-decoration-color: #008080; font-weight: bold\">0.20056</span>, <span style=\"color: #008080; text-decoration-color: #008080; font-weight: bold\">41.3088</span> , <span style=\"color: #008080; text-decoration-color: #008080; font-weight: bold\">27.58675</span>,  <span style=\"color: #008080; text-decoration-color: #008080; font-weight: bold\">0.20271</span><span style=\"font-weight: bold\">])</span>,\n",
       "    <span style=\"color: #008080; text-decoration-color: #008080; font-weight: bold\">95</span>: <span style=\"color: #800080; text-decoration-color: #800080; font-weight: bold\">array</span><span style=\"font-weight: bold\">([</span> <span style=\"color: #008080; text-decoration-color: #008080; font-weight: bold\">0.20001</span>,  <span style=\"color: #008080; text-decoration-color: #008080; font-weight: bold\">0.2</span>    ,  <span style=\"color: #008080; text-decoration-color: #008080; font-weight: bold\">0.20052</span>, <span style=\"color: #008080; text-decoration-color: #008080; font-weight: bold\">35.84161</span>, <span style=\"color: #008080; text-decoration-color: #008080; font-weight: bold\">33.05787</span><span style=\"font-weight: bold\">])</span>,\n",
       "    <span style=\"color: #008080; text-decoration-color: #008080; font-weight: bold\">96</span>: <span style=\"color: #800080; text-decoration-color: #800080; font-weight: bold\">array</span><span style=\"font-weight: bold\">([</span> <span style=\"color: #008080; text-decoration-color: #008080; font-weight: bold\">0.2</span>    ,  <span style=\"color: #008080; text-decoration-color: #008080; font-weight: bold\">0.20077</span>,  <span style=\"color: #008080; text-decoration-color: #008080; font-weight: bold\">7.12917</span>, <span style=\"color: #008080; text-decoration-color: #008080; font-weight: bold\">58.99107</span>,  <span style=\"color: #008080; text-decoration-color: #008080; font-weight: bold\">2.97899</span><span style=\"font-weight: bold\">])</span>,\n",
       "    <span style=\"color: #008080; text-decoration-color: #008080; font-weight: bold\">97</span>: <span style=\"color: #800080; text-decoration-color: #800080; font-weight: bold\">array</span><span style=\"font-weight: bold\">([</span> <span style=\"color: #008080; text-decoration-color: #008080; font-weight: bold\">0.20001</span>,  <span style=\"color: #008080; text-decoration-color: #008080; font-weight: bold\">0.2</span>    ,  <span style=\"color: #008080; text-decoration-color: #008080; font-weight: bold\">8.7863</span> , <span style=\"color: #008080; text-decoration-color: #008080; font-weight: bold\">55.48137</span>,  <span style=\"color: #008080; text-decoration-color: #008080; font-weight: bold\">4.83232</span><span style=\"font-weight: bold\">])</span>,\n",
       "    <span style=\"color: #008080; text-decoration-color: #008080; font-weight: bold\">98</span>: <span style=\"color: #800080; text-decoration-color: #800080; font-weight: bold\">array</span><span style=\"font-weight: bold\">([</span> <span style=\"color: #008080; text-decoration-color: #008080; font-weight: bold\">0.2</span>,  <span style=\"color: #008080; text-decoration-color: #008080; font-weight: bold\">0.2</span>, <span style=\"color: #008080; text-decoration-color: #008080; font-weight: bold\">68.7</span>,  <span style=\"color: #008080; text-decoration-color: #008080; font-weight: bold\">0.2</span>,  <span style=\"color: #008080; text-decoration-color: #008080; font-weight: bold\">0.2</span><span style=\"font-weight: bold\">])</span>,\n",
       "    <span style=\"color: #008080; text-decoration-color: #008080; font-weight: bold\">99</span>: <span style=\"color: #800080; text-decoration-color: #800080; font-weight: bold\">array</span><span style=\"font-weight: bold\">([</span><span style=\"color: #008080; text-decoration-color: #008080; font-weight: bold\">68.7</span>,  <span style=\"color: #008080; text-decoration-color: #008080; font-weight: bold\">0.2</span>,  <span style=\"color: #008080; text-decoration-color: #008080; font-weight: bold\">0.2</span>,  <span style=\"color: #008080; text-decoration-color: #008080; font-weight: bold\">0.2</span>,  <span style=\"color: #008080; text-decoration-color: #008080; font-weight: bold\">0.2</span><span style=\"font-weight: bold\">])</span>,\n",
       "    <span style=\"color: #008080; text-decoration-color: #008080; font-weight: bold\">100</span>: <span style=\"color: #800080; text-decoration-color: #800080; font-weight: bold\">array</span><span style=\"font-weight: bold\">([</span><span style=\"color: #008080; text-decoration-color: #008080; font-weight: bold\">11.11215</span>,  <span style=\"color: #008080; text-decoration-color: #008080; font-weight: bold\">0.20731</span>, <span style=\"color: #008080; text-decoration-color: #008080; font-weight: bold\">57.78011</span>,  <span style=\"color: #008080; text-decoration-color: #008080; font-weight: bold\">0.20043</span>,  <span style=\"color: #008080; text-decoration-color: #008080; font-weight: bold\">0.2</span>    <span style=\"font-weight: bold\">])</span>,\n",
       "    <span style=\"color: #008080; text-decoration-color: #008080; font-weight: bold\">101</span>: <span style=\"color: #800080; text-decoration-color: #800080; font-weight: bold\">array</span><span style=\"font-weight: bold\">([</span> <span style=\"color: #008080; text-decoration-color: #008080; font-weight: bold\">0.20001</span>,  <span style=\"color: #008080; text-decoration-color: #008080; font-weight: bold\">0.20012</span>,  <span style=\"color: #008080; text-decoration-color: #008080; font-weight: bold\">0.20066</span>, <span style=\"color: #008080; text-decoration-color: #008080; font-weight: bold\">45.29974</span>, <span style=\"color: #008080; text-decoration-color: #008080; font-weight: bold\">23.59947</span><span style=\"font-weight: bold\">])</span>,\n",
       "    <span style=\"color: #008080; text-decoration-color: #008080; font-weight: bold\">102</span>: <span style=\"color: #800080; text-decoration-color: #800080; font-weight: bold\">array</span><span style=\"font-weight: bold\">([</span> <span style=\"color: #008080; text-decoration-color: #008080; font-weight: bold\">0.2</span>,  <span style=\"color: #008080; text-decoration-color: #008080; font-weight: bold\">0.2</span>,  <span style=\"color: #008080; text-decoration-color: #008080; font-weight: bold\">0.2</span>,  <span style=\"color: #008080; text-decoration-color: #008080; font-weight: bold\">0.2</span>, <span style=\"color: #008080; text-decoration-color: #008080; font-weight: bold\">68.7</span><span style=\"font-weight: bold\">])</span>,\n",
       "    <span style=\"color: #008080; text-decoration-color: #008080; font-weight: bold\">103</span>: <span style=\"color: #800080; text-decoration-color: #800080; font-weight: bold\">array</span><span style=\"font-weight: bold\">([</span> <span style=\"color: #008080; text-decoration-color: #008080; font-weight: bold\">0.2</span>,  <span style=\"color: #008080; text-decoration-color: #008080; font-weight: bold\">0.2</span>, <span style=\"color: #008080; text-decoration-color: #008080; font-weight: bold\">68.7</span>,  <span style=\"color: #008080; text-decoration-color: #008080; font-weight: bold\">0.2</span>,  <span style=\"color: #008080; text-decoration-color: #008080; font-weight: bold\">0.2</span><span style=\"font-weight: bold\">])</span>,\n",
       "    <span style=\"color: #008080; text-decoration-color: #008080; font-weight: bold\">104</span>: <span style=\"color: #800080; text-decoration-color: #800080; font-weight: bold\">array</span><span style=\"font-weight: bold\">([</span> <span style=\"color: #008080; text-decoration-color: #008080; font-weight: bold\">0.20014</span>,  <span style=\"color: #008080; text-decoration-color: #008080; font-weight: bold\">0.20003</span>,  <span style=\"color: #008080; text-decoration-color: #008080; font-weight: bold\">0.20055</span>, <span style=\"color: #008080; text-decoration-color: #008080; font-weight: bold\">30.91024</span>, <span style=\"color: #008080; text-decoration-color: #008080; font-weight: bold\">37.98904</span><span style=\"font-weight: bold\">])</span>,\n",
       "    <span style=\"color: #008080; text-decoration-color: #008080; font-weight: bold\">105</span>: <span style=\"color: #800080; text-decoration-color: #800080; font-weight: bold\">array</span><span style=\"font-weight: bold\">([</span><span style=\"color: #008080; text-decoration-color: #008080; font-weight: bold\">68.7</span>,  <span style=\"color: #008080; text-decoration-color: #008080; font-weight: bold\">0.2</span>,  <span style=\"color: #008080; text-decoration-color: #008080; font-weight: bold\">0.2</span>,  <span style=\"color: #008080; text-decoration-color: #008080; font-weight: bold\">0.2</span>,  <span style=\"color: #008080; text-decoration-color: #008080; font-weight: bold\">0.2</span><span style=\"font-weight: bold\">])</span>,\n",
       "    <span style=\"color: #008080; text-decoration-color: #008080; font-weight: bold\">106</span>: <span style=\"color: #800080; text-decoration-color: #800080; font-weight: bold\">array</span><span style=\"font-weight: bold\">([</span> <span style=\"color: #008080; text-decoration-color: #008080; font-weight: bold\">0.4413</span> ,  <span style=\"color: #008080; text-decoration-color: #008080; font-weight: bold\">0.20054</span>, <span style=\"color: #008080; text-decoration-color: #008080; font-weight: bold\">17.623</span>  , <span style=\"color: #008080; text-decoration-color: #008080; font-weight: bold\">51.03302</span>,  <span style=\"color: #008080; text-decoration-color: #008080; font-weight: bold\">0.20214</span><span style=\"font-weight: bold\">])</span>,\n",
       "    <span style=\"color: #008080; text-decoration-color: #008080; font-weight: bold\">107</span>: <span style=\"color: #800080; text-decoration-color: #800080; font-weight: bold\">array</span><span style=\"font-weight: bold\">([</span><span style=\"color: #008080; text-decoration-color: #008080; font-weight: bold\">12.81958</span>, <span style=\"color: #008080; text-decoration-color: #008080; font-weight: bold\">48.48416</span>,  <span style=\"color: #008080; text-decoration-color: #008080; font-weight: bold\">7.79626</span>,  <span style=\"color: #008080; text-decoration-color: #008080; font-weight: bold\">0.2</span>    ,  <span style=\"color: #008080; text-decoration-color: #008080; font-weight: bold\">0.2</span>    <span style=\"font-weight: bold\">])</span>,\n",
       "    <span style=\"color: #008080; text-decoration-color: #008080; font-weight: bold\">108</span>: <span style=\"color: #800080; text-decoration-color: #800080; font-weight: bold\">array</span><span style=\"font-weight: bold\">([</span><span style=\"color: #008080; text-decoration-color: #008080; font-weight: bold\">24.75828</span>,  <span style=\"color: #008080; text-decoration-color: #008080; font-weight: bold\">0.24866</span>, <span style=\"color: #008080; text-decoration-color: #008080; font-weight: bold\">44.09032</span>,  <span style=\"color: #008080; text-decoration-color: #008080; font-weight: bold\">0.20274</span>,  <span style=\"color: #008080; text-decoration-color: #008080; font-weight: bold\">0.2</span>    <span style=\"font-weight: bold\">])</span>,\n",
       "    <span style=\"color: #008080; text-decoration-color: #008080; font-weight: bold\">109</span>: <span style=\"color: #800080; text-decoration-color: #800080; font-weight: bold\">array</span><span style=\"font-weight: bold\">([</span> <span style=\"color: #008080; text-decoration-color: #008080; font-weight: bold\">0.20321</span>,  <span style=\"color: #008080; text-decoration-color: #008080; font-weight: bold\">0.20067</span>, <span style=\"color: #008080; text-decoration-color: #008080; font-weight: bold\">13.73852</span>, <span style=\"color: #008080; text-decoration-color: #008080; font-weight: bold\">55.15507</span>,  <span style=\"color: #008080; text-decoration-color: #008080; font-weight: bold\">0.20254</span><span style=\"font-weight: bold\">])</span>,\n",
       "    <span style=\"color: #008080; text-decoration-color: #008080; font-weight: bold\">110</span>: <span style=\"color: #800080; text-decoration-color: #800080; font-weight: bold\">array</span><span style=\"font-weight: bold\">([</span> <span style=\"color: #008080; text-decoration-color: #008080; font-weight: bold\">2.26284</span>,  <span style=\"color: #008080; text-decoration-color: #008080; font-weight: bold\">0.20009</span>,  <span style=\"color: #008080; text-decoration-color: #008080; font-weight: bold\">0.20065</span>, <span style=\"color: #008080; text-decoration-color: #008080; font-weight: bold\">65.76847</span>,  <span style=\"color: #008080; text-decoration-color: #008080; font-weight: bold\">1.06795</span><span style=\"font-weight: bold\">])</span>,\n",
       "    <span style=\"color: #008080; text-decoration-color: #008080; font-weight: bold\">111</span>: <span style=\"color: #800080; text-decoration-color: #800080; font-weight: bold\">array</span><span style=\"font-weight: bold\">([</span><span style=\"color: #008080; text-decoration-color: #008080; font-weight: bold\">26.12317</span>,  <span style=\"color: #008080; text-decoration-color: #008080; font-weight: bold\">0.20304</span>,  <span style=\"color: #008080; text-decoration-color: #008080; font-weight: bold\">0.20162</span>,  <span style=\"color: #008080; text-decoration-color: #008080; font-weight: bold\">0.2054</span> , <span style=\"color: #008080; text-decoration-color: #008080; font-weight: bold\">42.76676</span><span style=\"font-weight: bold\">])</span>,\n",
       "    <span style=\"color: #008080; text-decoration-color: #008080; font-weight: bold\">112</span>: <span style=\"color: #800080; text-decoration-color: #800080; font-weight: bold\">array</span><span style=\"font-weight: bold\">([</span><span style=\"color: #008080; text-decoration-color: #008080; font-weight: bold\">47.89392</span>,  <span style=\"color: #008080; text-decoration-color: #008080; font-weight: bold\">0.23303</span>, <span style=\"color: #008080; text-decoration-color: #008080; font-weight: bold\">20.94919</span>,  <span style=\"color: #008080; text-decoration-color: #008080; font-weight: bold\">0.22385</span>,  <span style=\"color: #008080; text-decoration-color: #008080; font-weight: bold\">0.2</span>    <span style=\"font-weight: bold\">])</span>,\n",
       "    <span style=\"color: #008080; text-decoration-color: #008080; font-weight: bold\">113</span>: <span style=\"color: #800080; text-decoration-color: #800080; font-weight: bold\">array</span><span style=\"font-weight: bold\">([</span><span style=\"color: #008080; text-decoration-color: #008080; font-weight: bold\">14.44255</span>, <span style=\"color: #008080; text-decoration-color: #008080; font-weight: bold\">46.98718</span>,  <span style=\"color: #008080; text-decoration-color: #008080; font-weight: bold\">7.67027</span>,  <span style=\"color: #008080; text-decoration-color: #008080; font-weight: bold\">0.2</span>    ,  <span style=\"color: #008080; text-decoration-color: #008080; font-weight: bold\">0.2</span>    <span style=\"font-weight: bold\">])</span>,\n",
       "    <span style=\"color: #008080; text-decoration-color: #008080; font-weight: bold\">114</span>: <span style=\"color: #800080; text-decoration-color: #800080; font-weight: bold\">array</span><span style=\"font-weight: bold\">([</span><span style=\"color: #008080; text-decoration-color: #008080; font-weight: bold\">10.11693</span>,  <span style=\"color: #008080; text-decoration-color: #008080; font-weight: bold\">0.20127</span>, <span style=\"color: #008080; text-decoration-color: #008080; font-weight: bold\">11.3221</span> , <span style=\"color: #008080; text-decoration-color: #008080; font-weight: bold\">47.65775</span>,  <span style=\"color: #008080; text-decoration-color: #008080; font-weight: bold\">0.20194</span><span style=\"font-weight: bold\">])</span>,\n",
       "    <span style=\"color: #008080; text-decoration-color: #008080; font-weight: bold\">115</span>: <span style=\"color: #800080; text-decoration-color: #800080; font-weight: bold\">array</span><span style=\"font-weight: bold\">([</span><span style=\"color: #008080; text-decoration-color: #008080; font-weight: bold\">21.56615</span>,  <span style=\"color: #008080; text-decoration-color: #008080; font-weight: bold\">0.20447</span>, <span style=\"color: #008080; text-decoration-color: #008080; font-weight: bold\">25.22584</span>, <span style=\"color: #008080; text-decoration-color: #008080; font-weight: bold\">22.3035</span> ,  <span style=\"color: #008080; text-decoration-color: #008080; font-weight: bold\">0.20004</span><span style=\"font-weight: bold\">])</span>,\n",
       "    <span style=\"color: #008080; text-decoration-color: #008080; font-weight: bold\">116</span>: <span style=\"color: #800080; text-decoration-color: #800080; font-weight: bold\">array</span><span style=\"font-weight: bold\">([</span><span style=\"color: #008080; text-decoration-color: #008080; font-weight: bold\">12.32033</span>, <span style=\"color: #008080; text-decoration-color: #008080; font-weight: bold\">56.57708</span>,  <span style=\"color: #008080; text-decoration-color: #008080; font-weight: bold\">0.20259</span>,  <span style=\"color: #008080; text-decoration-color: #008080; font-weight: bold\">0.2</span>    ,  <span style=\"color: #008080; text-decoration-color: #008080; font-weight: bold\">0.2</span>    <span style=\"font-weight: bold\">])</span>,\n",
       "    <span style=\"color: #008080; text-decoration-color: #008080; font-weight: bold\">117</span>: <span style=\"color: #800080; text-decoration-color: #800080; font-weight: bold\">array</span><span style=\"font-weight: bold\">([</span><span style=\"color: #008080; text-decoration-color: #008080; font-weight: bold\">68.7</span>,  <span style=\"color: #008080; text-decoration-color: #008080; font-weight: bold\">0.2</span>,  <span style=\"color: #008080; text-decoration-color: #008080; font-weight: bold\">0.2</span>,  <span style=\"color: #008080; text-decoration-color: #008080; font-weight: bold\">0.2</span>,  <span style=\"color: #008080; text-decoration-color: #008080; font-weight: bold\">0.2</span><span style=\"font-weight: bold\">])</span>,\n",
       "    <span style=\"color: #008080; text-decoration-color: #008080; font-weight: bold\">118</span>: <span style=\"color: #800080; text-decoration-color: #800080; font-weight: bold\">array</span><span style=\"font-weight: bold\">([</span> <span style=\"color: #008080; text-decoration-color: #008080; font-weight: bold\">8.50102</span>, <span style=\"color: #008080; text-decoration-color: #008080; font-weight: bold\">60.39536</span>,  <span style=\"color: #008080; text-decoration-color: #008080; font-weight: bold\">0.20362</span>,  <span style=\"color: #008080; text-decoration-color: #008080; font-weight: bold\">0.2</span>    ,  <span style=\"color: #008080; text-decoration-color: #008080; font-weight: bold\">0.2</span>    <span style=\"font-weight: bold\">])</span>,\n",
       "    <span style=\"color: #008080; text-decoration-color: #008080; font-weight: bold\">119</span>: <span style=\"color: #800080; text-decoration-color: #800080; font-weight: bold\">array</span><span style=\"font-weight: bold\">([</span><span style=\"color: #008080; text-decoration-color: #008080; font-weight: bold\">68.7</span>,  <span style=\"color: #008080; text-decoration-color: #008080; font-weight: bold\">0.2</span>,  <span style=\"color: #008080; text-decoration-color: #008080; font-weight: bold\">0.2</span>,  <span style=\"color: #008080; text-decoration-color: #008080; font-weight: bold\">0.2</span>,  <span style=\"color: #008080; text-decoration-color: #008080; font-weight: bold\">0.2</span><span style=\"font-weight: bold\">])</span>,\n",
       "    <span style=\"color: #008080; text-decoration-color: #008080; font-weight: bold\">120</span>: <span style=\"color: #800080; text-decoration-color: #800080; font-weight: bold\">array</span><span style=\"font-weight: bold\">([</span><span style=\"color: #008080; text-decoration-color: #008080; font-weight: bold\">13.4854</span> , <span style=\"color: #008080; text-decoration-color: #008080; font-weight: bold\">55.41206</span>,  <span style=\"color: #008080; text-decoration-color: #008080; font-weight: bold\">0.20253</span>,  <span style=\"color: #008080; text-decoration-color: #008080; font-weight: bold\">0.2</span>    ,  <span style=\"color: #008080; text-decoration-color: #008080; font-weight: bold\">0.2</span>    <span style=\"font-weight: bold\">])</span>,\n",
       "    <span style=\"color: #008080; text-decoration-color: #008080; font-weight: bold\">121</span>: <span style=\"color: #800080; text-decoration-color: #800080; font-weight: bold\">array</span><span style=\"font-weight: bold\">([</span> <span style=\"color: #008080; text-decoration-color: #008080; font-weight: bold\">0.2</span>,  <span style=\"color: #008080; text-decoration-color: #008080; font-weight: bold\">0.2</span>, <span style=\"color: #008080; text-decoration-color: #008080; font-weight: bold\">68.7</span>,  <span style=\"color: #008080; text-decoration-color: #008080; font-weight: bold\">0.2</span>,  <span style=\"color: #008080; text-decoration-color: #008080; font-weight: bold\">0.2</span><span style=\"font-weight: bold\">])</span>,\n",
       "    <span style=\"color: #008080; text-decoration-color: #008080; font-weight: bold\">122</span>: <span style=\"color: #800080; text-decoration-color: #800080; font-weight: bold\">array</span><span style=\"font-weight: bold\">([</span><span style=\"color: #008080; text-decoration-color: #008080; font-weight: bold\">68.7</span>,  <span style=\"color: #008080; text-decoration-color: #008080; font-weight: bold\">0.2</span>,  <span style=\"color: #008080; text-decoration-color: #008080; font-weight: bold\">0.2</span>,  <span style=\"color: #008080; text-decoration-color: #008080; font-weight: bold\">0.2</span>,  <span style=\"color: #008080; text-decoration-color: #008080; font-weight: bold\">0.2</span><span style=\"font-weight: bold\">])</span>,\n",
       "    <span style=\"color: #008080; text-decoration-color: #008080; font-weight: bold\">123</span>: <span style=\"color: #800080; text-decoration-color: #800080; font-weight: bold\">array</span><span style=\"font-weight: bold\">([</span> <span style=\"color: #008080; text-decoration-color: #008080; font-weight: bold\">4.8554</span> , <span style=\"color: #008080; text-decoration-color: #008080; font-weight: bold\">64.04308</span>,  <span style=\"color: #008080; text-decoration-color: #008080; font-weight: bold\">0.20051</span>,  <span style=\"color: #008080; text-decoration-color: #008080; font-weight: bold\">0.20021</span>,  <span style=\"color: #008080; text-decoration-color: #008080; font-weight: bold\">0.20081</span><span style=\"font-weight: bold\">])</span>,\n",
       "    <span style=\"color: #008080; text-decoration-color: #008080; font-weight: bold\">124</span>: <span style=\"color: #800080; text-decoration-color: #800080; font-weight: bold\">array</span><span style=\"font-weight: bold\">([</span> <span style=\"color: #008080; text-decoration-color: #008080; font-weight: bold\">3.35361</span>, <span style=\"color: #008080; text-decoration-color: #008080; font-weight: bold\">65.54623</span>,  <span style=\"color: #008080; text-decoration-color: #008080; font-weight: bold\">0.20017</span>,  <span style=\"color: #008080; text-decoration-color: #008080; font-weight: bold\">0.2</span>    ,  <span style=\"color: #008080; text-decoration-color: #008080; font-weight: bold\">0.2</span>    <span style=\"font-weight: bold\">])</span>,\n",
       "    <span style=\"color: #008080; text-decoration-color: #008080; font-weight: bold\">125</span>: <span style=\"color: #800080; text-decoration-color: #800080; font-weight: bold\">array</span><span style=\"font-weight: bold\">([</span><span style=\"color: #008080; text-decoration-color: #008080; font-weight: bold\">30.73059</span>, <span style=\"color: #008080; text-decoration-color: #008080; font-weight: bold\">38.16601</span>,  <span style=\"color: #008080; text-decoration-color: #008080; font-weight: bold\">0.20111</span>,  <span style=\"color: #008080; text-decoration-color: #008080; font-weight: bold\">0.2</span>    ,  <span style=\"color: #008080; text-decoration-color: #008080; font-weight: bold\">0.20229</span><span style=\"font-weight: bold\">])</span>,\n",
       "    <span style=\"color: #008080; text-decoration-color: #008080; font-weight: bold\">126</span>: <span style=\"color: #800080; text-decoration-color: #800080; font-weight: bold\">array</span><span style=\"font-weight: bold\">([</span> <span style=\"color: #008080; text-decoration-color: #008080; font-weight: bold\">6.30699</span>, <span style=\"color: #008080; text-decoration-color: #008080; font-weight: bold\">62.59186</span>,  <span style=\"color: #008080; text-decoration-color: #008080; font-weight: bold\">0.20115</span>,  <span style=\"color: #008080; text-decoration-color: #008080; font-weight: bold\">0.2</span>    ,  <span style=\"color: #008080; text-decoration-color: #008080; font-weight: bold\">0.2</span>    <span style=\"font-weight: bold\">])</span>,\n",
       "    <span style=\"color: #008080; text-decoration-color: #008080; font-weight: bold\">127</span>: <span style=\"color: #800080; text-decoration-color: #800080; font-weight: bold\">array</span><span style=\"font-weight: bold\">([</span> <span style=\"color: #008080; text-decoration-color: #008080; font-weight: bold\">3.84531</span>, <span style=\"color: #008080; text-decoration-color: #008080; font-weight: bold\">65.05465</span>,  <span style=\"color: #008080; text-decoration-color: #008080; font-weight: bold\">0.20004</span>,  <span style=\"color: #008080; text-decoration-color: #008080; font-weight: bold\">0.2</span>    ,  <span style=\"color: #008080; text-decoration-color: #008080; font-weight: bold\">0.2</span>    <span style=\"font-weight: bold\">])</span>,\n",
       "    <span style=\"color: #008080; text-decoration-color: #008080; font-weight: bold\">128</span>: <span style=\"color: #800080; text-decoration-color: #800080; font-weight: bold\">array</span><span style=\"font-weight: bold\">([</span> <span style=\"color: #008080; text-decoration-color: #008080; font-weight: bold\">7.50414</span>, <span style=\"color: #008080; text-decoration-color: #008080; font-weight: bold\">61.39526</span>,  <span style=\"color: #008080; text-decoration-color: #008080; font-weight: bold\">0.2006</span> ,  <span style=\"color: #008080; text-decoration-color: #008080; font-weight: bold\">0.2</span>    ,  <span style=\"color: #008080; text-decoration-color: #008080; font-weight: bold\">0.2</span>    <span style=\"font-weight: bold\">])</span>,\n",
       "    <span style=\"color: #008080; text-decoration-color: #008080; font-weight: bold\">129</span>: <span style=\"color: #800080; text-decoration-color: #800080; font-weight: bold\">array</span><span style=\"font-weight: bold\">([</span><span style=\"color: #008080; text-decoration-color: #008080; font-weight: bold\">13.9259</span> , <span style=\"color: #008080; text-decoration-color: #008080; font-weight: bold\">54.97342</span>,  <span style=\"color: #008080; text-decoration-color: #008080; font-weight: bold\">0.20031</span>,  <span style=\"color: #008080; text-decoration-color: #008080; font-weight: bold\">0.2</span>    ,  <span style=\"color: #008080; text-decoration-color: #008080; font-weight: bold\">0.20037</span><span style=\"font-weight: bold\">])</span>,\n",
       "    <span style=\"color: #008080; text-decoration-color: #008080; font-weight: bold\">130</span>: <span style=\"color: #800080; text-decoration-color: #800080; font-weight: bold\">array</span><span style=\"font-weight: bold\">([</span> <span style=\"color: #008080; text-decoration-color: #008080; font-weight: bold\">0.2</span>, <span style=\"color: #008080; text-decoration-color: #008080; font-weight: bold\">68.7</span>,  <span style=\"color: #008080; text-decoration-color: #008080; font-weight: bold\">0.2</span>,  <span style=\"color: #008080; text-decoration-color: #008080; font-weight: bold\">0.2</span>,  <span style=\"color: #008080; text-decoration-color: #008080; font-weight: bold\">0.2</span><span style=\"font-weight: bold\">])</span>,\n",
       "    <span style=\"color: #008080; text-decoration-color: #008080; font-weight: bold\">131</span>: <span style=\"color: #800080; text-decoration-color: #800080; font-weight: bold\">array</span><span style=\"font-weight: bold\">([</span> <span style=\"color: #008080; text-decoration-color: #008080; font-weight: bold\">5.60975</span>, <span style=\"color: #008080; text-decoration-color: #008080; font-weight: bold\">63.29023</span>,  <span style=\"color: #008080; text-decoration-color: #008080; font-weight: bold\">0.20001</span>,  <span style=\"color: #008080; text-decoration-color: #008080; font-weight: bold\">0.2</span>    ,  <span style=\"color: #008080; text-decoration-color: #008080; font-weight: bold\">0.2</span>    <span style=\"font-weight: bold\">])</span>,\n",
       "    <span style=\"color: #008080; text-decoration-color: #008080; font-weight: bold\">132</span>: <span style=\"color: #800080; text-decoration-color: #800080; font-weight: bold\">array</span><span style=\"font-weight: bold\">([</span> <span style=\"color: #008080; text-decoration-color: #008080; font-weight: bold\">0.2</span>, <span style=\"color: #008080; text-decoration-color: #008080; font-weight: bold\">68.7</span>,  <span style=\"color: #008080; text-decoration-color: #008080; font-weight: bold\">0.2</span>,  <span style=\"color: #008080; text-decoration-color: #008080; font-weight: bold\">0.2</span>,  <span style=\"color: #008080; text-decoration-color: #008080; font-weight: bold\">0.2</span><span style=\"font-weight: bold\">])</span>,\n",
       "    <span style=\"color: #008080; text-decoration-color: #008080; font-weight: bold\">133</span>: <span style=\"color: #800080; text-decoration-color: #800080; font-weight: bold\">array</span><span style=\"font-weight: bold\">([</span> <span style=\"color: #008080; text-decoration-color: #008080; font-weight: bold\">1.07858</span>,  <span style=\"color: #008080; text-decoration-color: #008080; font-weight: bold\">9.98737</span>,  <span style=\"color: #008080; text-decoration-color: #008080; font-weight: bold\">0.2</span>    ,  <span style=\"color: #008080; text-decoration-color: #008080; font-weight: bold\">0.20198</span>, <span style=\"color: #008080; text-decoration-color: #008080; font-weight: bold\">58.03207</span><span style=\"font-weight: bold\">])</span>,\n",
       "    <span style=\"color: #008080; text-decoration-color: #008080; font-weight: bold\">134</span>: <span style=\"color: #800080; text-decoration-color: #800080; font-weight: bold\">array</span><span style=\"font-weight: bold\">([</span> <span style=\"color: #008080; text-decoration-color: #008080; font-weight: bold\">0.2</span>, <span style=\"color: #008080; text-decoration-color: #008080; font-weight: bold\">68.7</span>,  <span style=\"color: #008080; text-decoration-color: #008080; font-weight: bold\">0.2</span>,  <span style=\"color: #008080; text-decoration-color: #008080; font-weight: bold\">0.2</span>,  <span style=\"color: #008080; text-decoration-color: #008080; font-weight: bold\">0.2</span><span style=\"font-weight: bold\">])</span>,\n",
       "    <span style=\"color: #008080; text-decoration-color: #008080; font-weight: bold\">135</span>: <span style=\"color: #800080; text-decoration-color: #800080; font-weight: bold\">array</span><span style=\"font-weight: bold\">([</span><span style=\"color: #008080; text-decoration-color: #008080; font-weight: bold\">54.52737</span>,  <span style=\"color: #008080; text-decoration-color: #008080; font-weight: bold\">0.28702</span>,  <span style=\"color: #008080; text-decoration-color: #008080; font-weight: bold\">0.2</span>    ,  <span style=\"color: #008080; text-decoration-color: #008080; font-weight: bold\">0.2</span>    , <span style=\"color: #008080; text-decoration-color: #008080; font-weight: bold\">14.28561</span><span style=\"font-weight: bold\">])</span>,\n",
       "    <span style=\"color: #008080; text-decoration-color: #008080; font-weight: bold\">136</span>: <span style=\"color: #800080; text-decoration-color: #800080; font-weight: bold\">array</span><span style=\"font-weight: bold\">([</span> <span style=\"color: #008080; text-decoration-color: #008080; font-weight: bold\">0.2</span>, <span style=\"color: #008080; text-decoration-color: #008080; font-weight: bold\">68.7</span>,  <span style=\"color: #008080; text-decoration-color: #008080; font-weight: bold\">0.2</span>,  <span style=\"color: #008080; text-decoration-color: #008080; font-weight: bold\">0.2</span>,  <span style=\"color: #008080; text-decoration-color: #008080; font-weight: bold\">0.2</span><span style=\"font-weight: bold\">])</span>,\n",
       "    <span style=\"color: #008080; text-decoration-color: #008080; font-weight: bold\">137</span>: <span style=\"color: #800080; text-decoration-color: #800080; font-weight: bold\">array</span><span style=\"font-weight: bold\">([</span><span style=\"color: #008080; text-decoration-color: #008080; font-weight: bold\">34.43353</span>,  <span style=\"color: #008080; text-decoration-color: #008080; font-weight: bold\">0.20945</span>, <span style=\"color: #008080; text-decoration-color: #008080; font-weight: bold\">34.45702</span>,  <span style=\"color: #008080; text-decoration-color: #008080; font-weight: bold\">0.2</span>    ,  <span style=\"color: #008080; text-decoration-color: #008080; font-weight: bold\">0.2</span>    <span style=\"font-weight: bold\">])</span>\n",
       "<span style=\"font-weight: bold\">}</span>\n",
       "</pre>\n"
      ],
      "text/plain": [
       "\u001b[1m{\u001b[0m\n",
       "    \u001b[1;36m0\u001b[0m: \u001b[1;35marray\u001b[0m\u001b[1m(\u001b[0m\u001b[1m[\u001b[0m \u001b[1;36m0.2001\u001b[0m ,  \u001b[1;36m0.20022\u001b[0m,  \u001b[1;36m0.20526\u001b[0m, \u001b[1;36m31.76391\u001b[0m, \u001b[1;36m37.13052\u001b[0m\u001b[1m]\u001b[0m\u001b[1m)\u001b[0m,\n",
       "    \u001b[1;36m1\u001b[0m: \u001b[1;35marray\u001b[0m\u001b[1m(\u001b[0m\u001b[1m[\u001b[0m\u001b[1;36m10.12097\u001b[0m,  \u001b[1;36m0.20057\u001b[0m, \u001b[1;36m36.5353\u001b[0m , \u001b[1;36m22.43894\u001b[0m,  \u001b[1;36m0.20422\u001b[0m\u001b[1m]\u001b[0m\u001b[1m)\u001b[0m,\n",
       "    \u001b[1;36m2\u001b[0m: \u001b[1;35marray\u001b[0m\u001b[1m(\u001b[0m\u001b[1m[\u001b[0m\u001b[1;36m68.7\u001b[0m,  \u001b[1;36m0.2\u001b[0m,  \u001b[1;36m0.2\u001b[0m,  \u001b[1;36m0.2\u001b[0m,  \u001b[1;36m0.2\u001b[0m\u001b[1m]\u001b[0m\u001b[1m)\u001b[0m,\n",
       "    \u001b[1;36m3\u001b[0m: \u001b[1;35marray\u001b[0m\u001b[1m(\u001b[0m\u001b[1m[\u001b[0m \u001b[1;36m0.20004\u001b[0m,  \u001b[1;36m0.20004\u001b[0m,  \u001b[1;36m0.20067\u001b[0m, \u001b[1;36m40.30096\u001b[0m, \u001b[1;36m28.59828\u001b[0m\u001b[1m]\u001b[0m\u001b[1m)\u001b[0m,\n",
       "    \u001b[1;36m4\u001b[0m: \u001b[1;35marray\u001b[0m\u001b[1m(\u001b[0m\u001b[1m[\u001b[0m \u001b[1;36m0.20023\u001b[0m, \u001b[1;36m17.48226\u001b[0m, \u001b[1;36m30.70018\u001b[0m, \u001b[1;36m18.75205\u001b[0m,  \u001b[1;36m2.36528\u001b[0m\u001b[1m]\u001b[0m\u001b[1m)\u001b[0m,\n",
       "    \u001b[1;36m5\u001b[0m: \u001b[1;35marray\u001b[0m\u001b[1m(\u001b[0m\u001b[1m[\u001b[0m \u001b[1;36m0.20001\u001b[0m,  \u001b[1;36m0.20019\u001b[0m,  \u001b[1;36m2.28675\u001b[0m, \u001b[1;36m31.88995\u001b[0m, \u001b[1;36m34.9231\u001b[0m \u001b[1m]\u001b[0m\u001b[1m)\u001b[0m,\n",
       "    \u001b[1;36m6\u001b[0m: \u001b[1;35marray\u001b[0m\u001b[1m(\u001b[0m\u001b[1m[\u001b[0m\u001b[1;36m68.7\u001b[0m,  \u001b[1;36m0.2\u001b[0m,  \u001b[1;36m0.2\u001b[0m,  \u001b[1;36m0.2\u001b[0m,  \u001b[1;36m0.2\u001b[0m\u001b[1m]\u001b[0m\u001b[1m)\u001b[0m,\n",
       "    \u001b[1;36m7\u001b[0m: \u001b[1;35marray\u001b[0m\u001b[1m(\u001b[0m\u001b[1m[\u001b[0m \u001b[1;36m0.2\u001b[0m    ,  \u001b[1;36m0.2\u001b[0m    , \u001b[1;36m17.69319\u001b[0m, \u001b[1;36m51.2036\u001b[0m ,  \u001b[1;36m0.20321\u001b[0m\u001b[1m]\u001b[0m\u001b[1m)\u001b[0m,\n",
       "    \u001b[1;36m8\u001b[0m: \u001b[1;35marray\u001b[0m\u001b[1m(\u001b[0m\u001b[1m[\u001b[0m \u001b[1;36m0.20001\u001b[0m,  \u001b[1;36m0.2\u001b[0m    ,  \u001b[1;36m0.2002\u001b[0m , \u001b[1;36m34.59633\u001b[0m, \u001b[1;36m34.30346\u001b[0m\u001b[1m]\u001b[0m\u001b[1m)\u001b[0m,\n",
       "    \u001b[1;36m9\u001b[0m: \u001b[1;35marray\u001b[0m\u001b[1m(\u001b[0m\u001b[1m[\u001b[0m \u001b[1;36m0.20015\u001b[0m,  \u001b[1;36m0.20133\u001b[0m, \u001b[1;36m18.11204\u001b[0m, \u001b[1;36m19.84332\u001b[0m, \u001b[1;36m31.14317\u001b[0m\u001b[1m]\u001b[0m\u001b[1m)\u001b[0m,\n",
       "    \u001b[1;36m10\u001b[0m: \u001b[1;35marray\u001b[0m\u001b[1m(\u001b[0m\u001b[1m[\u001b[0m \u001b[1;36m9.15119\u001b[0m,  \u001b[1;36m0.20079\u001b[0m, \u001b[1;36m59.72692\u001b[0m,  \u001b[1;36m0.21712\u001b[0m,  \u001b[1;36m0.20397\u001b[0m\u001b[1m]\u001b[0m\u001b[1m)\u001b[0m,\n",
       "    \u001b[1;36m11\u001b[0m: \u001b[1;35marray\u001b[0m\u001b[1m(\u001b[0m\u001b[1m[\u001b[0m \u001b[1;36m0.2\u001b[0m    ,  \u001b[1;36m0.2\u001b[0m    ,  \u001b[1;36m0.20033\u001b[0m, \u001b[1;36m14.30702\u001b[0m, \u001b[1;36m54.59265\u001b[0m\u001b[1m]\u001b[0m\u001b[1m)\u001b[0m,\n",
       "    \u001b[1;36m12\u001b[0m: \u001b[1;35marray\u001b[0m\u001b[1m(\u001b[0m\u001b[1m[\u001b[0m \u001b[1;36m0.2\u001b[0m    ,  \u001b[1;36m0.20096\u001b[0m,  \u001b[1;36m0.20328\u001b[0m, \u001b[1;36m16.77549\u001b[0m, \u001b[1;36m52.12027\u001b[0m\u001b[1m]\u001b[0m\u001b[1m)\u001b[0m,\n",
       "    \u001b[1;36m13\u001b[0m: \u001b[1;35marray\u001b[0m\u001b[1m(\u001b[0m\u001b[1m[\u001b[0m\u001b[1;36m68.7\u001b[0m,  \u001b[1;36m0.2\u001b[0m,  \u001b[1;36m0.2\u001b[0m,  \u001b[1;36m0.2\u001b[0m,  \u001b[1;36m0.2\u001b[0m\u001b[1m]\u001b[0m\u001b[1m)\u001b[0m,\n",
       "    \u001b[1;36m14\u001b[0m: \u001b[1;35marray\u001b[0m\u001b[1m(\u001b[0m\u001b[1m[\u001b[0m \u001b[1;36m0.20001\u001b[0m,  \u001b[1;36m0.20021\u001b[0m,  \u001b[1;36m0.20092\u001b[0m, \u001b[1;36m33.1787\u001b[0m , \u001b[1;36m35.72017\u001b[0m\u001b[1m]\u001b[0m\u001b[1m)\u001b[0m,\n",
       "    \u001b[1;36m15\u001b[0m: \u001b[1;35marray\u001b[0m\u001b[1m(\u001b[0m\u001b[1m[\u001b[0m \u001b[1;36m0.20001\u001b[0m,  \u001b[1;36m0.2\u001b[0m    ,  \u001b[1;36m0.20056\u001b[0m, \u001b[1;36m40.14625\u001b[0m, \u001b[1;36m28.75318\u001b[0m\u001b[1m]\u001b[0m\u001b[1m)\u001b[0m,\n",
       "    \u001b[1;36m16\u001b[0m: \u001b[1;35marray\u001b[0m\u001b[1m(\u001b[0m\u001b[1m[\u001b[0m \u001b[1;36m0.2\u001b[0m,  \u001b[1;36m0.2\u001b[0m, \u001b[1;36m68.7\u001b[0m,  \u001b[1;36m0.2\u001b[0m,  \u001b[1;36m0.2\u001b[0m\u001b[1m]\u001b[0m\u001b[1m)\u001b[0m,\n",
       "    \u001b[1;36m17\u001b[0m: \u001b[1;35marray\u001b[0m\u001b[1m(\u001b[0m\u001b[1m[\u001b[0m \u001b[1;36m0.20001\u001b[0m,  \u001b[1;36m0.20019\u001b[0m,  \u001b[1;36m2.32469\u001b[0m, \u001b[1;36m30.97699\u001b[0m, \u001b[1;36m35.79813\u001b[0m\u001b[1m]\u001b[0m\u001b[1m)\u001b[0m,\n",
       "    \u001b[1;36m18\u001b[0m: \u001b[1;35marray\u001b[0m\u001b[1m(\u001b[0m\u001b[1m[\u001b[0m \u001b[1;36m0.20001\u001b[0m,  \u001b[1;36m0.2\u001b[0m    ,  \u001b[1;36m0.20051\u001b[0m, \u001b[1;36m25.68116\u001b[0m, \u001b[1;36m43.21832\u001b[0m\u001b[1m]\u001b[0m\u001b[1m)\u001b[0m,\n",
       "    \u001b[1;36m19\u001b[0m: \u001b[1;35marray\u001b[0m\u001b[1m(\u001b[0m\u001b[1m[\u001b[0m \u001b[1;36m0.20037\u001b[0m, \u001b[1;36m23.607\u001b[0m  , \u001b[1;36m45.28849\u001b[0m,  \u001b[1;36m0.20298\u001b[0m,  \u001b[1;36m0.20115\u001b[0m\u001b[1m]\u001b[0m\u001b[1m)\u001b[0m,\n",
       "    \u001b[1;36m20\u001b[0m: \u001b[1;35marray\u001b[0m\u001b[1m(\u001b[0m\u001b[1m[\u001b[0m \u001b[1;36m0.20008\u001b[0m,  \u001b[1;36m0.20207\u001b[0m, \u001b[1;36m22.36624\u001b[0m, \u001b[1;36m31.55087\u001b[0m, \u001b[1;36m15.18074\u001b[0m\u001b[1m]\u001b[0m\u001b[1m)\u001b[0m,\n",
       "    \u001b[1;36m21\u001b[0m: \u001b[1;35marray\u001b[0m\u001b[1m(\u001b[0m\u001b[1m[\u001b[0m\u001b[1;36m68.7\u001b[0m,  \u001b[1;36m0.2\u001b[0m,  \u001b[1;36m0.2\u001b[0m,  \u001b[1;36m0.2\u001b[0m,  \u001b[1;36m0.2\u001b[0m\u001b[1m]\u001b[0m\u001b[1m)\u001b[0m,\n",
       "    \u001b[1;36m22\u001b[0m: \u001b[1;35marray\u001b[0m\u001b[1m(\u001b[0m\u001b[1m[\u001b[0m \u001b[1;36m0.2\u001b[0m    ,  \u001b[1;36m0.2\u001b[0m    ,  \u001b[1;36m0.2\u001b[0m    ,  \u001b[1;36m0.20001\u001b[0m, \u001b[1;36m68.69999\u001b[0m\u001b[1m]\u001b[0m\u001b[1m)\u001b[0m,\n",
       "    \u001b[1;36m23\u001b[0m: \u001b[1;35marray\u001b[0m\u001b[1m(\u001b[0m\u001b[1m[\u001b[0m \u001b[1;36m0.20001\u001b[0m,  \u001b[1;36m0.20016\u001b[0m,  \u001b[1;36m0.20069\u001b[0m, \u001b[1;36m36.1236\u001b[0m , \u001b[1;36m32.77555\u001b[0m\u001b[1m]\u001b[0m\u001b[1m)\u001b[0m,\n",
       "    \u001b[1;36m24\u001b[0m: \u001b[1;35marray\u001b[0m\u001b[1m(\u001b[0m\u001b[1m[\u001b[0m \u001b[1;36m0.2\u001b[0m,  \u001b[1;36m0.2\u001b[0m, \u001b[1;36m68.7\u001b[0m,  \u001b[1;36m0.2\u001b[0m,  \u001b[1;36m0.2\u001b[0m\u001b[1m]\u001b[0m\u001b[1m)\u001b[0m,\n",
       "    \u001b[1;36m25\u001b[0m: \u001b[1;35marray\u001b[0m\u001b[1m(\u001b[0m\u001b[1m[\u001b[0m \u001b[1;36m0.2003\u001b[0m , \u001b[1;36m22.22184\u001b[0m, \u001b[1;36m46.67367\u001b[0m,  \u001b[1;36m0.20314\u001b[0m,  \u001b[1;36m0.20104\u001b[0m\u001b[1m]\u001b[0m\u001b[1m)\u001b[0m,\n",
       "    \u001b[1;36m26\u001b[0m: \u001b[1;35marray\u001b[0m\u001b[1m(\u001b[0m\u001b[1m[\u001b[0m \u001b[1;36m0.20001\u001b[0m,  \u001b[1;36m0.2\u001b[0m    ,  \u001b[1;36m0.20053\u001b[0m, \u001b[1;36m27.56599\u001b[0m, \u001b[1;36m41.33347\u001b[0m\u001b[1m]\u001b[0m\u001b[1m)\u001b[0m,\n",
       "    \u001b[1;36m27\u001b[0m: \u001b[1;35marray\u001b[0m\u001b[1m(\u001b[0m\u001b[1m[\u001b[0m \u001b[1;36m0.20042\u001b[0m,  \u001b[1;36m0.20942\u001b[0m, \u001b[1;36m18.78039\u001b[0m, \u001b[1;36m39.53111\u001b[0m, \u001b[1;36m10.77865\u001b[0m\u001b[1m]\u001b[0m\u001b[1m)\u001b[0m,\n",
       "    \u001b[1;36m28\u001b[0m: \u001b[1;35marray\u001b[0m\u001b[1m(\u001b[0m\u001b[1m[\u001b[0m \u001b[1;36m0.20001\u001b[0m,  \u001b[1;36m0.2\u001b[0m    ,  \u001b[1;36m0.20057\u001b[0m, \u001b[1;36m63.34437\u001b[0m,  \u001b[1;36m5.55505\u001b[0m\u001b[1m]\u001b[0m\u001b[1m)\u001b[0m,\n",
       "    \u001b[1;36m29\u001b[0m: \u001b[1;35marray\u001b[0m\u001b[1m(\u001b[0m\u001b[1m[\u001b[0m \u001b[1;36m0.20016\u001b[0m, \u001b[1;36m36.21683\u001b[0m, \u001b[1;36m32.67916\u001b[0m,  \u001b[1;36m0.20244\u001b[0m,  \u001b[1;36m0.2014\u001b[0m \u001b[1m]\u001b[0m\u001b[1m)\u001b[0m,\n",
       "    \u001b[1;36m30\u001b[0m: \u001b[1;35marray\u001b[0m\u001b[1m(\u001b[0m\u001b[1m[\u001b[0m\u001b[1;36m68.7\u001b[0m,  \u001b[1;36m0.2\u001b[0m,  \u001b[1;36m0.2\u001b[0m,  \u001b[1;36m0.2\u001b[0m,  \u001b[1;36m0.2\u001b[0m\u001b[1m]\u001b[0m\u001b[1m)\u001b[0m,\n",
       "    \u001b[1;36m31\u001b[0m: \u001b[1;35marray\u001b[0m\u001b[1m(\u001b[0m\u001b[1m[\u001b[0m \u001b[1;36m3.77291\u001b[0m, \u001b[1;36m28.42984\u001b[0m, \u001b[1;36m36.89599\u001b[0m,  \u001b[1;36m0.20093\u001b[0m,  \u001b[1;36m0.20033\u001b[0m\u001b[1m]\u001b[0m\u001b[1m)\u001b[0m,\n",
       "    \u001b[1;36m32\u001b[0m: \u001b[1;35marray\u001b[0m\u001b[1m(\u001b[0m\u001b[1m[\u001b[0m \u001b[1;36m0.20004\u001b[0m,  \u001b[1;36m0.20256\u001b[0m,  \u001b[1;36m2.11736\u001b[0m, \u001b[1;36m39.20238\u001b[0m, \u001b[1;36m27.77766\u001b[0m\u001b[1m]\u001b[0m\u001b[1m)\u001b[0m,\n",
       "    \u001b[1;36m33\u001b[0m: \u001b[1;35marray\u001b[0m\u001b[1m(\u001b[0m\u001b[1m[\u001b[0m \u001b[1;36m0.2\u001b[0m,  \u001b[1;36m0.2\u001b[0m,  \u001b[1;36m0.2\u001b[0m,  \u001b[1;36m0.2\u001b[0m, \u001b[1;36m68.7\u001b[0m\u001b[1m]\u001b[0m\u001b[1m)\u001b[0m,\n",
       "    \u001b[1;36m34\u001b[0m: \u001b[1;35marray\u001b[0m\u001b[1m(\u001b[0m\u001b[1m[\u001b[0m \u001b[1;36m0.20027\u001b[0m, \u001b[1;36m56.14627\u001b[0m, \u001b[1;36m12.75346\u001b[0m,  \u001b[1;36m0.2\u001b[0m    ,  \u001b[1;36m0.2\u001b[0m    \u001b[1m]\u001b[0m\u001b[1m)\u001b[0m,\n",
       "    \u001b[1;36m35\u001b[0m: \u001b[1;35marray\u001b[0m\u001b[1m(\u001b[0m\u001b[1m[\u001b[0m \u001b[1;36m0.20004\u001b[0m,  \u001b[1;36m0.20013\u001b[0m,  \u001b[1;36m0.20067\u001b[0m, \u001b[1;36m43.00315\u001b[0m, \u001b[1;36m25.89602\u001b[0m\u001b[1m]\u001b[0m\u001b[1m)\u001b[0m,\n",
       "    \u001b[1;36m36\u001b[0m: \u001b[1;35marray\u001b[0m\u001b[1m(\u001b[0m\u001b[1m[\u001b[0m\u001b[1;36m37.07727\u001b[0m,  \u001b[1;36m0.31326\u001b[0m, \u001b[1;36m31.70844\u001b[0m,  \u001b[1;36m0.20103\u001b[0m,  \u001b[1;36m0.2\u001b[0m    \u001b[1m]\u001b[0m\u001b[1m)\u001b[0m,\n",
       "    \u001b[1;36m37\u001b[0m: \u001b[1;35marray\u001b[0m\u001b[1m(\u001b[0m\u001b[1m[\u001b[0m \u001b[1;36m0.2\u001b[0m,  \u001b[1;36m0.2\u001b[0m, \u001b[1;36m68.7\u001b[0m,  \u001b[1;36m0.2\u001b[0m,  \u001b[1;36m0.2\u001b[0m\u001b[1m]\u001b[0m\u001b[1m)\u001b[0m,\n",
       "    \u001b[1;36m38\u001b[0m: \u001b[1;35marray\u001b[0m\u001b[1m(\u001b[0m\u001b[1m[\u001b[0m \u001b[1;36m2.79605\u001b[0m, \u001b[1;36m66.08087\u001b[0m,  \u001b[1;36m0.22307\u001b[0m,  \u001b[1;36m0.2\u001b[0m    ,  \u001b[1;36m0.2\u001b[0m    \u001b[1m]\u001b[0m\u001b[1m)\u001b[0m,\n",
       "    \u001b[1;36m39\u001b[0m: \u001b[1;35marray\u001b[0m\u001b[1m(\u001b[0m\u001b[1m[\u001b[0m \u001b[1;36m0.20016\u001b[0m, \u001b[1;36m64.07265\u001b[0m,  \u001b[1;36m4.82688\u001b[0m,  \u001b[1;36m0.20031\u001b[0m,  \u001b[1;36m0.2\u001b[0m    \u001b[1m]\u001b[0m\u001b[1m)\u001b[0m,\n",
       "    \u001b[1;36m40\u001b[0m: \u001b[1;35marray\u001b[0m\u001b[1m(\u001b[0m\u001b[1m[\u001b[0m \u001b[1;36m0.20032\u001b[0m, \u001b[1;36m24.07173\u001b[0m, \u001b[1;36m44.27935\u001b[0m,  \u001b[1;36m0.73747\u001b[0m,  \u001b[1;36m0.21113\u001b[0m\u001b[1m]\u001b[0m\u001b[1m)\u001b[0m,\n",
       "    \u001b[1;36m41\u001b[0m: \u001b[1;35marray\u001b[0m\u001b[1m(\u001b[0m\u001b[1m[\u001b[0m \u001b[1;36m0.20027\u001b[0m, \u001b[1;36m21.30835\u001b[0m, \u001b[1;36m18.90667\u001b[0m, \u001b[1;36m28.8802\u001b[0m ,  \u001b[1;36m0.20451\u001b[0m\u001b[1m]\u001b[0m\u001b[1m)\u001b[0m,\n",
       "    \u001b[1;36m42\u001b[0m: \u001b[1;35marray\u001b[0m\u001b[1m(\u001b[0m\u001b[1m[\u001b[0m\u001b[1;36m68.7\u001b[0m,  \u001b[1;36m0.2\u001b[0m,  \u001b[1;36m0.2\u001b[0m,  \u001b[1;36m0.2\u001b[0m,  \u001b[1;36m0.2\u001b[0m\u001b[1m]\u001b[0m\u001b[1m)\u001b[0m,\n",
       "    \u001b[1;36m43\u001b[0m: \u001b[1;35marray\u001b[0m\u001b[1m(\u001b[0m\u001b[1m[\u001b[0m \u001b[1;36m0.2001\u001b[0m , \u001b[1;36m55.16212\u001b[0m, \u001b[1;36m13.73433\u001b[0m,  \u001b[1;36m0.20275\u001b[0m,  \u001b[1;36m0.20071\u001b[0m\u001b[1m]\u001b[0m\u001b[1m)\u001b[0m,\n",
       "    \u001b[1;36m44\u001b[0m: \u001b[1;35marray\u001b[0m\u001b[1m(\u001b[0m\u001b[1m[\u001b[0m \u001b[1;36m8.3263\u001b[0m , \u001b[1;36m47.41023\u001b[0m, \u001b[1;36m13.36347\u001b[0m,  \u001b[1;36m0.2\u001b[0m    ,  \u001b[1;36m0.2\u001b[0m    \u001b[1m]\u001b[0m\u001b[1m)\u001b[0m,\n",
       "    \u001b[1;36m45\u001b[0m: \u001b[1;35marray\u001b[0m\u001b[1m(\u001b[0m\u001b[1m[\u001b[0m \u001b[1;36m0.20055\u001b[0m, \u001b[1;36m44.27655\u001b[0m, \u001b[1;36m24.61734\u001b[0m,  \u001b[1;36m0.20438\u001b[0m,  \u001b[1;36m0.20118\u001b[0m\u001b[1m]\u001b[0m\u001b[1m)\u001b[0m,\n",
       "    \u001b[1;36m46\u001b[0m: \u001b[1;35marray\u001b[0m\u001b[1m(\u001b[0m\u001b[1m[\u001b[0m \u001b[1;36m2.63026\u001b[0m,  \u001b[1;36m0.20178\u001b[0m, \u001b[1;36m66.20175\u001b[0m,  \u001b[1;36m0.26621\u001b[0m,  \u001b[1;36m0.2\u001b[0m    \u001b[1m]\u001b[0m\u001b[1m)\u001b[0m,\n",
       "    \u001b[1;36m47\u001b[0m: \u001b[1;35marray\u001b[0m\u001b[1m(\u001b[0m\u001b[1m[\u001b[0m \u001b[1;36m0.21201\u001b[0m, \u001b[1;36m62.32908\u001b[0m,  \u001b[1;36m6.55846\u001b[0m,  \u001b[1;36m0.20042\u001b[0m,  \u001b[1;36m0.20002\u001b[0m\u001b[1m]\u001b[0m\u001b[1m)\u001b[0m,\n",
       "    \u001b[1;36m48\u001b[0m: \u001b[1;35marray\u001b[0m\u001b[1m(\u001b[0m\u001b[1m[\u001b[0m \u001b[1;36m0.20017\u001b[0m, \u001b[1;36m60.32043\u001b[0m,  \u001b[1;36m8.57439\u001b[0m,  \u001b[1;36m0.20396\u001b[0m,  \u001b[1;36m0.20105\u001b[0m\u001b[1m]\u001b[0m\u001b[1m)\u001b[0m,\n",
       "    \u001b[1;36m49\u001b[0m: \u001b[1;35marray\u001b[0m\u001b[1m(\u001b[0m\u001b[1m[\u001b[0m \u001b[1;36m0.2\u001b[0m, \u001b[1;36m68.7\u001b[0m,  \u001b[1;36m0.2\u001b[0m,  \u001b[1;36m0.2\u001b[0m,  \u001b[1;36m0.2\u001b[0m\u001b[1m]\u001b[0m\u001b[1m)\u001b[0m,\n",
       "    \u001b[1;36m50\u001b[0m: \u001b[1;35marray\u001b[0m\u001b[1m(\u001b[0m\u001b[1m[\u001b[0m\u001b[1;36m68.7\u001b[0m,  \u001b[1;36m0.2\u001b[0m,  \u001b[1;36m0.2\u001b[0m,  \u001b[1;36m0.2\u001b[0m,  \u001b[1;36m0.2\u001b[0m\u001b[1m]\u001b[0m\u001b[1m)\u001b[0m,\n",
       "    \u001b[1;36m51\u001b[0m: \u001b[1;35marray\u001b[0m\u001b[1m(\u001b[0m\u001b[1m[\u001b[0m \u001b[1;36m0.20043\u001b[0m, \u001b[1;36m63.29458\u001b[0m,  \u001b[1;36m5.60455\u001b[0m,  \u001b[1;36m0.20042\u001b[0m,  \u001b[1;36m0.20002\u001b[0m\u001b[1m]\u001b[0m\u001b[1m)\u001b[0m,\n",
       "    \u001b[1;36m52\u001b[0m: \u001b[1;35marray\u001b[0m\u001b[1m(\u001b[0m\u001b[1m[\u001b[0m \u001b[1;36m0.2\u001b[0m,  \u001b[1;36m0.2\u001b[0m, \u001b[1;36m68.7\u001b[0m,  \u001b[1;36m0.2\u001b[0m,  \u001b[1;36m0.2\u001b[0m\u001b[1m]\u001b[0m\u001b[1m)\u001b[0m,\n",
       "    \u001b[1;36m53\u001b[0m: \u001b[1;35marray\u001b[0m\u001b[1m(\u001b[0m\u001b[1m[\u001b[0m \u001b[1;36m0.2\u001b[0m    , \u001b[1;36m68.69999\u001b[0m,  \u001b[1;36m0.20001\u001b[0m,  \u001b[1;36m0.2\u001b[0m    ,  \u001b[1;36m0.2\u001b[0m    \u001b[1m]\u001b[0m\u001b[1m)\u001b[0m,\n",
       "    \u001b[1;36m54\u001b[0m: \u001b[1;35marray\u001b[0m\u001b[1m(\u001b[0m\u001b[1m[\u001b[0m \u001b[1;36m0.202\u001b[0m  , \u001b[1;36m66.26229\u001b[0m,  \u001b[1;36m2.63571\u001b[0m,  \u001b[1;36m0.2\u001b[0m    ,  \u001b[1;36m0.2\u001b[0m    \u001b[1m]\u001b[0m\u001b[1m)\u001b[0m,\n",
       "    \u001b[1;36m55\u001b[0m: \u001b[1;35marray\u001b[0m\u001b[1m(\u001b[0m\u001b[1m[\u001b[0m \u001b[1;36m2.40549\u001b[0m, \u001b[1;36m66.49142\u001b[0m,  \u001b[1;36m0.20113\u001b[0m,  \u001b[1;36m0.2002\u001b[0m ,  \u001b[1;36m0.20177\u001b[0m\u001b[1m]\u001b[0m\u001b[1m)\u001b[0m,\n",
       "    \u001b[1;36m56\u001b[0m: \u001b[1;35marray\u001b[0m\u001b[1m(\u001b[0m\u001b[1m[\u001b[0m\u001b[1;36m57.24658\u001b[0m,  \u001b[1;36m0.23151\u001b[0m, \u001b[1;36m11.62033\u001b[0m,  \u001b[1;36m0.2\u001b[0m    ,  \u001b[1;36m0.20158\u001b[0m\u001b[1m]\u001b[0m\u001b[1m)\u001b[0m,\n",
       "    \u001b[1;36m57\u001b[0m: \u001b[1;35marray\u001b[0m\u001b[1m(\u001b[0m\u001b[1m[\u001b[0m \u001b[1;36m0.2\u001b[0m, \u001b[1;36m68.7\u001b[0m,  \u001b[1;36m0.2\u001b[0m,  \u001b[1;36m0.2\u001b[0m,  \u001b[1;36m0.2\u001b[0m\u001b[1m]\u001b[0m\u001b[1m)\u001b[0m,\n",
       "    \u001b[1;36m58\u001b[0m: \u001b[1;35marray\u001b[0m\u001b[1m(\u001b[0m\u001b[1m[\u001b[0m \u001b[1;36m0.2\u001b[0m, \u001b[1;36m68.7\u001b[0m,  \u001b[1;36m0.2\u001b[0m,  \u001b[1;36m0.2\u001b[0m,  \u001b[1;36m0.2\u001b[0m\u001b[1m]\u001b[0m\u001b[1m)\u001b[0m,\n",
       "    \u001b[1;36m59\u001b[0m: \u001b[1;35marray\u001b[0m\u001b[1m(\u001b[0m\u001b[1m[\u001b[0m \u001b[1;36m0.2\u001b[0m, \u001b[1;36m68.7\u001b[0m,  \u001b[1;36m0.2\u001b[0m,  \u001b[1;36m0.2\u001b[0m,  \u001b[1;36m0.2\u001b[0m\u001b[1m]\u001b[0m\u001b[1m)\u001b[0m,\n",
       "    \u001b[1;36m60\u001b[0m: \u001b[1;35marray\u001b[0m\u001b[1m(\u001b[0m\u001b[1m[\u001b[0m \u001b[1;36m2.55379\u001b[0m, \u001b[1;36m63.85879\u001b[0m,  \u001b[1;36m2.68719\u001b[0m,  \u001b[1;36m0.20021\u001b[0m,  \u001b[1;36m0.20002\u001b[0m\u001b[1m]\u001b[0m\u001b[1m)\u001b[0m,\n",
       "    \u001b[1;36m61\u001b[0m: \u001b[1;35marray\u001b[0m\u001b[1m(\u001b[0m\u001b[1m[\u001b[0m \u001b[1;36m0.2\u001b[0m, \u001b[1;36m68.7\u001b[0m,  \u001b[1;36m0.2\u001b[0m,  \u001b[1;36m0.2\u001b[0m,  \u001b[1;36m0.2\u001b[0m\u001b[1m]\u001b[0m\u001b[1m)\u001b[0m,\n",
       "    \u001b[1;36m62\u001b[0m: \u001b[1;35marray\u001b[0m\u001b[1m(\u001b[0m\u001b[1m[\u001b[0m \u001b[1;36m0.2\u001b[0m, \u001b[1;36m68.7\u001b[0m,  \u001b[1;36m0.2\u001b[0m,  \u001b[1;36m0.2\u001b[0m,  \u001b[1;36m0.2\u001b[0m\u001b[1m]\u001b[0m\u001b[1m)\u001b[0m,\n",
       "    \u001b[1;36m63\u001b[0m: \u001b[1;35marray\u001b[0m\u001b[1m(\u001b[0m\u001b[1m[\u001b[0m \u001b[1;36m0.2\u001b[0m, \u001b[1;36m68.7\u001b[0m,  \u001b[1;36m0.2\u001b[0m,  \u001b[1;36m0.2\u001b[0m,  \u001b[1;36m0.2\u001b[0m\u001b[1m]\u001b[0m\u001b[1m)\u001b[0m,\n",
       "    \u001b[1;36m64\u001b[0m: \u001b[1;35marray\u001b[0m\u001b[1m(\u001b[0m\u001b[1m[\u001b[0m \u001b[1;36m0.2\u001b[0m    ,  \u001b[1;36m0.2\u001b[0m    ,  \u001b[1;36m0.2\u001b[0m    ,  \u001b[1;36m0.20001\u001b[0m, \u001b[1;36m68.69999\u001b[0m\u001b[1m]\u001b[0m\u001b[1m)\u001b[0m,\n",
       "    \u001b[1;36m65\u001b[0m: \u001b[1;35marray\u001b[0m\u001b[1m(\u001b[0m\u001b[1m[\u001b[0m \u001b[1;36m0.2\u001b[0m, \u001b[1;36m68.7\u001b[0m,  \u001b[1;36m0.2\u001b[0m,  \u001b[1;36m0.2\u001b[0m,  \u001b[1;36m0.2\u001b[0m\u001b[1m]\u001b[0m\u001b[1m)\u001b[0m,\n",
       "    \u001b[1;36m66\u001b[0m: \u001b[1;35marray\u001b[0m\u001b[1m(\u001b[0m\u001b[1m[\u001b[0m\u001b[1;36m68.7\u001b[0m,  \u001b[1;36m0.2\u001b[0m,  \u001b[1;36m0.2\u001b[0m,  \u001b[1;36m0.2\u001b[0m,  \u001b[1;36m0.2\u001b[0m\u001b[1m]\u001b[0m\u001b[1m)\u001b[0m,\n",
       "    \u001b[1;36m67\u001b[0m: \u001b[1;35marray\u001b[0m\u001b[1m(\u001b[0m\u001b[1m[\u001b[0m\u001b[1;36m17.31447\u001b[0m, \u001b[1;36m34.4569\u001b[0m ,  \u001b[1;36m0.20126\u001b[0m,  \u001b[1;36m0.2\u001b[0m    , \u001b[1;36m17.32737\u001b[0m\u001b[1m]\u001b[0m\u001b[1m)\u001b[0m,\n",
       "    \u001b[1;36m68\u001b[0m: \u001b[1;35marray\u001b[0m\u001b[1m(\u001b[0m\u001b[1m[\u001b[0m \u001b[1;36m0.2\u001b[0m,  \u001b[1;36m0.2\u001b[0m, \u001b[1;36m68.7\u001b[0m,  \u001b[1;36m0.2\u001b[0m,  \u001b[1;36m0.2\u001b[0m\u001b[1m]\u001b[0m\u001b[1m)\u001b[0m,\n",
       "    \u001b[1;36m69\u001b[0m: \u001b[1;35marray\u001b[0m\u001b[1m(\u001b[0m\u001b[1m[\u001b[0m \u001b[1;36m0.20174\u001b[0m,  \u001b[1;36m0.2\u001b[0m    ,  \u001b[1;36m5.07912\u001b[0m, \u001b[1;36m28.84964\u001b[0m, \u001b[1;36m35.16949\u001b[0m\u001b[1m]\u001b[0m\u001b[1m)\u001b[0m,\n",
       "    \u001b[1;36m70\u001b[0m: \u001b[1;35marray\u001b[0m\u001b[1m(\u001b[0m\u001b[1m[\u001b[0m\u001b[1;36m30.27329\u001b[0m,  \u001b[1;36m0.2\u001b[0m    , \u001b[1;36m38.60992\u001b[0m,  \u001b[1;36m0.20828\u001b[0m,  \u001b[1;36m0.20852\u001b[0m\u001b[1m]\u001b[0m\u001b[1m)\u001b[0m,\n",
       "    \u001b[1;36m71\u001b[0m: \u001b[1;35marray\u001b[0m\u001b[1m(\u001b[0m\u001b[1m[\u001b[0m\u001b[1;36m68.7\u001b[0m,  \u001b[1;36m0.2\u001b[0m,  \u001b[1;36m0.2\u001b[0m,  \u001b[1;36m0.2\u001b[0m,  \u001b[1;36m0.2\u001b[0m\u001b[1m]\u001b[0m\u001b[1m)\u001b[0m,\n",
       "    \u001b[1;36m72\u001b[0m: \u001b[1;35marray\u001b[0m\u001b[1m(\u001b[0m\u001b[1m[\u001b[0m \u001b[1;36m0.20001\u001b[0m,  \u001b[1;36m0.2\u001b[0m    ,  \u001b[1;36m0.2006\u001b[0m , \u001b[1;36m49.35635\u001b[0m, \u001b[1;36m19.54305\u001b[0m\u001b[1m]\u001b[0m\u001b[1m)\u001b[0m,\n",
       "    \u001b[1;36m73\u001b[0m: \u001b[1;35marray\u001b[0m\u001b[1m(\u001b[0m\u001b[1m[\u001b[0m \u001b[1;36m0.20041\u001b[0m,  \u001b[1;36m0.20056\u001b[0m, \u001b[1;36m45.62699\u001b[0m, \u001b[1;36m23.26669\u001b[0m,  \u001b[1;36m0.20536\u001b[0m\u001b[1m]\u001b[0m\u001b[1m)\u001b[0m,\n",
       "    \u001b[1;36m74\u001b[0m: \u001b[1;35marray\u001b[0m\u001b[1m(\u001b[0m\u001b[1m[\u001b[0m \u001b[1;36m0.20007\u001b[0m,  \u001b[1;36m0.20015\u001b[0m,  \u001b[1;36m2.51676\u001b[0m, \u001b[1;36m41.22256\u001b[0m, \u001b[1;36m25.36046\u001b[0m\u001b[1m]\u001b[0m\u001b[1m)\u001b[0m,\n",
       "    \u001b[1;36m75\u001b[0m: \u001b[1;35marray\u001b[0m\u001b[1m(\u001b[0m\u001b[1m[\u001b[0m\u001b[1;36m68.7\u001b[0m,  \u001b[1;36m0.2\u001b[0m,  \u001b[1;36m0.2\u001b[0m,  \u001b[1;36m0.2\u001b[0m,  \u001b[1;36m0.2\u001b[0m\u001b[1m]\u001b[0m\u001b[1m)\u001b[0m,\n",
       "    \u001b[1;36m76\u001b[0m: \u001b[1;35marray\u001b[0m\u001b[1m(\u001b[0m\u001b[1m[\u001b[0m \u001b[1;36m0.2\u001b[0m,  \u001b[1;36m0.2\u001b[0m, \u001b[1;36m68.7\u001b[0m,  \u001b[1;36m0.2\u001b[0m,  \u001b[1;36m0.2\u001b[0m\u001b[1m]\u001b[0m\u001b[1m)\u001b[0m,\n",
       "    \u001b[1;36m77\u001b[0m: \u001b[1;35marray\u001b[0m\u001b[1m(\u001b[0m\u001b[1m[\u001b[0m \u001b[1;36m0.20066\u001b[0m,  \u001b[1;36m0.2\u001b[0m    ,  \u001b[1;36m2.9427\u001b[0m , \u001b[1;36m64.63829\u001b[0m,  \u001b[1;36m1.51834\u001b[0m\u001b[1m]\u001b[0m\u001b[1m)\u001b[0m,\n",
       "    \u001b[1;36m78\u001b[0m: \u001b[1;35marray\u001b[0m\u001b[1m(\u001b[0m\u001b[1m[\u001b[0m \u001b[1;36m0.20016\u001b[0m,  \u001b[1;36m0.20014\u001b[0m, \u001b[1;36m15.25121\u001b[0m, \u001b[1;36m30.63659\u001b[0m, \u001b[1;36m23.2119\u001b[0m \u001b[1m]\u001b[0m\u001b[1m)\u001b[0m,\n",
       "    \u001b[1;36m79\u001b[0m: \u001b[1;35marray\u001b[0m\u001b[1m(\u001b[0m\u001b[1m[\u001b[0m \u001b[1;36m4.46786\u001b[0m,  \u001b[1;36m0.20047\u001b[0m, \u001b[1;36m64.42643\u001b[0m,  \u001b[1;36m0.20362\u001b[0m,  \u001b[1;36m0.20162\u001b[0m\u001b[1m]\u001b[0m\u001b[1m)\u001b[0m,\n",
       "    \u001b[1;36m80\u001b[0m: \u001b[1;35marray\u001b[0m\u001b[1m(\u001b[0m\u001b[1m[\u001b[0m \u001b[1;36m0.2\u001b[0m    ,  \u001b[1;36m0.2\u001b[0m    ,  \u001b[1;36m0.20035\u001b[0m, \u001b[1;36m19.15469\u001b[0m, \u001b[1;36m49.74496\u001b[0m\u001b[1m]\u001b[0m\u001b[1m)\u001b[0m,\n",
       "    \u001b[1;36m81\u001b[0m: \u001b[1;35marray\u001b[0m\u001b[1m(\u001b[0m\u001b[1m[\u001b[0m \u001b[1;36m0.2\u001b[0m,  \u001b[1;36m0.2\u001b[0m,  \u001b[1;36m0.2\u001b[0m,  \u001b[1;36m0.2\u001b[0m, \u001b[1;36m68.7\u001b[0m\u001b[1m]\u001b[0m\u001b[1m)\u001b[0m,\n",
       "    \u001b[1;36m82\u001b[0m: \u001b[1;35marray\u001b[0m\u001b[1m(\u001b[0m\u001b[1m[\u001b[0m\u001b[1;36m68.7\u001b[0m,  \u001b[1;36m0.2\u001b[0m,  \u001b[1;36m0.2\u001b[0m,  \u001b[1;36m0.2\u001b[0m,  \u001b[1;36m0.2\u001b[0m\u001b[1m]\u001b[0m\u001b[1m)\u001b[0m,\n",
       "    \u001b[1;36m83\u001b[0m: \u001b[1;35marray\u001b[0m\u001b[1m(\u001b[0m\u001b[1m[\u001b[0m \u001b[1;36m0.20007\u001b[0m,  \u001b[1;36m0.2\u001b[0m    ,  \u001b[1;36m0.20151\u001b[0m, \u001b[1;36m41.04118\u001b[0m, \u001b[1;36m27.85723\u001b[0m\u001b[1m]\u001b[0m\u001b[1m)\u001b[0m,\n",
       "    \u001b[1;36m84\u001b[0m: \u001b[1;35marray\u001b[0m\u001b[1m(\u001b[0m\u001b[1m[\u001b[0m \u001b[1;36m0.2\u001b[0m    ,  \u001b[1;36m0.2\u001b[0m    ,  \u001b[1;36m0.20063\u001b[0m, \u001b[1;36m45.20074\u001b[0m, \u001b[1;36m23.69863\u001b[0m\u001b[1m]\u001b[0m\u001b[1m)\u001b[0m,\n",
       "    \u001b[1;36m85\u001b[0m: \u001b[1;35marray\u001b[0m\u001b[1m(\u001b[0m\u001b[1m[\u001b[0m \u001b[1;36m0.2\u001b[0m,  \u001b[1;36m0.2\u001b[0m, \u001b[1;36m68.7\u001b[0m,  \u001b[1;36m0.2\u001b[0m,  \u001b[1;36m0.2\u001b[0m\u001b[1m]\u001b[0m\u001b[1m)\u001b[0m,\n",
       "    \u001b[1;36m86\u001b[0m: \u001b[1;35marray\u001b[0m\u001b[1m(\u001b[0m\u001b[1m[\u001b[0m \u001b[1;36m0.2\u001b[0m    ,  \u001b[1;36m0.2\u001b[0m    ,  \u001b[1;36m2.42287\u001b[0m, \u001b[1;36m16.45164\u001b[0m, \u001b[1;36m50.22549\u001b[0m\u001b[1m]\u001b[0m\u001b[1m)\u001b[0m,\n",
       "    \u001b[1;36m87\u001b[0m: \u001b[1;35marray\u001b[0m\u001b[1m(\u001b[0m\u001b[1m[\u001b[0m \u001b[1;36m0.20001\u001b[0m,  \u001b[1;36m0.2\u001b[0m    ,  \u001b[1;36m0.20051\u001b[0m, \u001b[1;36m29.5815\u001b[0m , \u001b[1;36m39.31798\u001b[0m\u001b[1m]\u001b[0m\u001b[1m)\u001b[0m,\n",
       "    \u001b[1;36m88\u001b[0m: \u001b[1;35marray\u001b[0m\u001b[1m(\u001b[0m\u001b[1m[\u001b[0m \u001b[1;36m0.2\u001b[0m,  \u001b[1;36m0.2\u001b[0m, \u001b[1;36m68.7\u001b[0m,  \u001b[1;36m0.2\u001b[0m,  \u001b[1;36m0.2\u001b[0m\u001b[1m]\u001b[0m\u001b[1m)\u001b[0m,\n",
       "    \u001b[1;36m89\u001b[0m: \u001b[1;35marray\u001b[0m\u001b[1m(\u001b[0m\u001b[1m[\u001b[0m \u001b[1;36m0.20007\u001b[0m,  \u001b[1;36m0.20062\u001b[0m, \u001b[1;36m13.24834\u001b[0m, \u001b[1;36m47.94168\u001b[0m,  \u001b[1;36m7.90929\u001b[0m\u001b[1m]\u001b[0m\u001b[1m)\u001b[0m,\n",
       "    \u001b[1;36m90\u001b[0m: \u001b[1;35marray\u001b[0m\u001b[1m(\u001b[0m\u001b[1m[\u001b[0m\u001b[1;36m68.7\u001b[0m,  \u001b[1;36m0.2\u001b[0m,  \u001b[1;36m0.2\u001b[0m,  \u001b[1;36m0.2\u001b[0m,  \u001b[1;36m0.2\u001b[0m\u001b[1m]\u001b[0m\u001b[1m)\u001b[0m,\n",
       "    \u001b[1;36m91\u001b[0m: \u001b[1;35marray\u001b[0m\u001b[1m(\u001b[0m\u001b[1m[\u001b[0m \u001b[1;36m0.20001\u001b[0m,  \u001b[1;36m0.2\u001b[0m    ,  \u001b[1;36m0.20044\u001b[0m, \u001b[1;36m27.97698\u001b[0m, \u001b[1;36m40.92258\u001b[0m\u001b[1m]\u001b[0m\u001b[1m)\u001b[0m,\n",
       "    \u001b[1;36m92\u001b[0m: \u001b[1;35marray\u001b[0m\u001b[1m(\u001b[0m\u001b[1m[\u001b[0m \u001b[1;36m0.20001\u001b[0m,  \u001b[1;36m0.2\u001b[0m    ,  \u001b[1;36m0.20048\u001b[0m, \u001b[1;36m33.33924\u001b[0m, \u001b[1;36m35.56028\u001b[0m\u001b[1m]\u001b[0m\u001b[1m)\u001b[0m,\n",
       "    \u001b[1;36m93\u001b[0m: \u001b[1;35marray\u001b[0m\u001b[1m(\u001b[0m\u001b[1m[\u001b[0m \u001b[1;36m0.2\u001b[0m,  \u001b[1;36m0.2\u001b[0m, \u001b[1;36m68.7\u001b[0m,  \u001b[1;36m0.2\u001b[0m,  \u001b[1;36m0.2\u001b[0m\u001b[1m]\u001b[0m\u001b[1m)\u001b[0m,\n",
       "    \u001b[1;36m94\u001b[0m: \u001b[1;35marray\u001b[0m\u001b[1m(\u001b[0m\u001b[1m[\u001b[0m \u001b[1;36m0.20119\u001b[0m,  \u001b[1;36m0.20056\u001b[0m, \u001b[1;36m41.3088\u001b[0m , \u001b[1;36m27.58675\u001b[0m,  \u001b[1;36m0.20271\u001b[0m\u001b[1m]\u001b[0m\u001b[1m)\u001b[0m,\n",
       "    \u001b[1;36m95\u001b[0m: \u001b[1;35marray\u001b[0m\u001b[1m(\u001b[0m\u001b[1m[\u001b[0m \u001b[1;36m0.20001\u001b[0m,  \u001b[1;36m0.2\u001b[0m    ,  \u001b[1;36m0.20052\u001b[0m, \u001b[1;36m35.84161\u001b[0m, \u001b[1;36m33.05787\u001b[0m\u001b[1m]\u001b[0m\u001b[1m)\u001b[0m,\n",
       "    \u001b[1;36m96\u001b[0m: \u001b[1;35marray\u001b[0m\u001b[1m(\u001b[0m\u001b[1m[\u001b[0m \u001b[1;36m0.2\u001b[0m    ,  \u001b[1;36m0.20077\u001b[0m,  \u001b[1;36m7.12917\u001b[0m, \u001b[1;36m58.99107\u001b[0m,  \u001b[1;36m2.97899\u001b[0m\u001b[1m]\u001b[0m\u001b[1m)\u001b[0m,\n",
       "    \u001b[1;36m97\u001b[0m: \u001b[1;35marray\u001b[0m\u001b[1m(\u001b[0m\u001b[1m[\u001b[0m \u001b[1;36m0.20001\u001b[0m,  \u001b[1;36m0.2\u001b[0m    ,  \u001b[1;36m8.7863\u001b[0m , \u001b[1;36m55.48137\u001b[0m,  \u001b[1;36m4.83232\u001b[0m\u001b[1m]\u001b[0m\u001b[1m)\u001b[0m,\n",
       "    \u001b[1;36m98\u001b[0m: \u001b[1;35marray\u001b[0m\u001b[1m(\u001b[0m\u001b[1m[\u001b[0m \u001b[1;36m0.2\u001b[0m,  \u001b[1;36m0.2\u001b[0m, \u001b[1;36m68.7\u001b[0m,  \u001b[1;36m0.2\u001b[0m,  \u001b[1;36m0.2\u001b[0m\u001b[1m]\u001b[0m\u001b[1m)\u001b[0m,\n",
       "    \u001b[1;36m99\u001b[0m: \u001b[1;35marray\u001b[0m\u001b[1m(\u001b[0m\u001b[1m[\u001b[0m\u001b[1;36m68.7\u001b[0m,  \u001b[1;36m0.2\u001b[0m,  \u001b[1;36m0.2\u001b[0m,  \u001b[1;36m0.2\u001b[0m,  \u001b[1;36m0.2\u001b[0m\u001b[1m]\u001b[0m\u001b[1m)\u001b[0m,\n",
       "    \u001b[1;36m100\u001b[0m: \u001b[1;35marray\u001b[0m\u001b[1m(\u001b[0m\u001b[1m[\u001b[0m\u001b[1;36m11.11215\u001b[0m,  \u001b[1;36m0.20731\u001b[0m, \u001b[1;36m57.78011\u001b[0m,  \u001b[1;36m0.20043\u001b[0m,  \u001b[1;36m0.2\u001b[0m    \u001b[1m]\u001b[0m\u001b[1m)\u001b[0m,\n",
       "    \u001b[1;36m101\u001b[0m: \u001b[1;35marray\u001b[0m\u001b[1m(\u001b[0m\u001b[1m[\u001b[0m \u001b[1;36m0.20001\u001b[0m,  \u001b[1;36m0.20012\u001b[0m,  \u001b[1;36m0.20066\u001b[0m, \u001b[1;36m45.29974\u001b[0m, \u001b[1;36m23.59947\u001b[0m\u001b[1m]\u001b[0m\u001b[1m)\u001b[0m,\n",
       "    \u001b[1;36m102\u001b[0m: \u001b[1;35marray\u001b[0m\u001b[1m(\u001b[0m\u001b[1m[\u001b[0m \u001b[1;36m0.2\u001b[0m,  \u001b[1;36m0.2\u001b[0m,  \u001b[1;36m0.2\u001b[0m,  \u001b[1;36m0.2\u001b[0m, \u001b[1;36m68.7\u001b[0m\u001b[1m]\u001b[0m\u001b[1m)\u001b[0m,\n",
       "    \u001b[1;36m103\u001b[0m: \u001b[1;35marray\u001b[0m\u001b[1m(\u001b[0m\u001b[1m[\u001b[0m \u001b[1;36m0.2\u001b[0m,  \u001b[1;36m0.2\u001b[0m, \u001b[1;36m68.7\u001b[0m,  \u001b[1;36m0.2\u001b[0m,  \u001b[1;36m0.2\u001b[0m\u001b[1m]\u001b[0m\u001b[1m)\u001b[0m,\n",
       "    \u001b[1;36m104\u001b[0m: \u001b[1;35marray\u001b[0m\u001b[1m(\u001b[0m\u001b[1m[\u001b[0m \u001b[1;36m0.20014\u001b[0m,  \u001b[1;36m0.20003\u001b[0m,  \u001b[1;36m0.20055\u001b[0m, \u001b[1;36m30.91024\u001b[0m, \u001b[1;36m37.98904\u001b[0m\u001b[1m]\u001b[0m\u001b[1m)\u001b[0m,\n",
       "    \u001b[1;36m105\u001b[0m: \u001b[1;35marray\u001b[0m\u001b[1m(\u001b[0m\u001b[1m[\u001b[0m\u001b[1;36m68.7\u001b[0m,  \u001b[1;36m0.2\u001b[0m,  \u001b[1;36m0.2\u001b[0m,  \u001b[1;36m0.2\u001b[0m,  \u001b[1;36m0.2\u001b[0m\u001b[1m]\u001b[0m\u001b[1m)\u001b[0m,\n",
       "    \u001b[1;36m106\u001b[0m: \u001b[1;35marray\u001b[0m\u001b[1m(\u001b[0m\u001b[1m[\u001b[0m \u001b[1;36m0.4413\u001b[0m ,  \u001b[1;36m0.20054\u001b[0m, \u001b[1;36m17.623\u001b[0m  , \u001b[1;36m51.03302\u001b[0m,  \u001b[1;36m0.20214\u001b[0m\u001b[1m]\u001b[0m\u001b[1m)\u001b[0m,\n",
       "    \u001b[1;36m107\u001b[0m: \u001b[1;35marray\u001b[0m\u001b[1m(\u001b[0m\u001b[1m[\u001b[0m\u001b[1;36m12.81958\u001b[0m, \u001b[1;36m48.48416\u001b[0m,  \u001b[1;36m7.79626\u001b[0m,  \u001b[1;36m0.2\u001b[0m    ,  \u001b[1;36m0.2\u001b[0m    \u001b[1m]\u001b[0m\u001b[1m)\u001b[0m,\n",
       "    \u001b[1;36m108\u001b[0m: \u001b[1;35marray\u001b[0m\u001b[1m(\u001b[0m\u001b[1m[\u001b[0m\u001b[1;36m24.75828\u001b[0m,  \u001b[1;36m0.24866\u001b[0m, \u001b[1;36m44.09032\u001b[0m,  \u001b[1;36m0.20274\u001b[0m,  \u001b[1;36m0.2\u001b[0m    \u001b[1m]\u001b[0m\u001b[1m)\u001b[0m,\n",
       "    \u001b[1;36m109\u001b[0m: \u001b[1;35marray\u001b[0m\u001b[1m(\u001b[0m\u001b[1m[\u001b[0m \u001b[1;36m0.20321\u001b[0m,  \u001b[1;36m0.20067\u001b[0m, \u001b[1;36m13.73852\u001b[0m, \u001b[1;36m55.15507\u001b[0m,  \u001b[1;36m0.20254\u001b[0m\u001b[1m]\u001b[0m\u001b[1m)\u001b[0m,\n",
       "    \u001b[1;36m110\u001b[0m: \u001b[1;35marray\u001b[0m\u001b[1m(\u001b[0m\u001b[1m[\u001b[0m \u001b[1;36m2.26284\u001b[0m,  \u001b[1;36m0.20009\u001b[0m,  \u001b[1;36m0.20065\u001b[0m, \u001b[1;36m65.76847\u001b[0m,  \u001b[1;36m1.06795\u001b[0m\u001b[1m]\u001b[0m\u001b[1m)\u001b[0m,\n",
       "    \u001b[1;36m111\u001b[0m: \u001b[1;35marray\u001b[0m\u001b[1m(\u001b[0m\u001b[1m[\u001b[0m\u001b[1;36m26.12317\u001b[0m,  \u001b[1;36m0.20304\u001b[0m,  \u001b[1;36m0.20162\u001b[0m,  \u001b[1;36m0.2054\u001b[0m , \u001b[1;36m42.76676\u001b[0m\u001b[1m]\u001b[0m\u001b[1m)\u001b[0m,\n",
       "    \u001b[1;36m112\u001b[0m: \u001b[1;35marray\u001b[0m\u001b[1m(\u001b[0m\u001b[1m[\u001b[0m\u001b[1;36m47.89392\u001b[0m,  \u001b[1;36m0.23303\u001b[0m, \u001b[1;36m20.94919\u001b[0m,  \u001b[1;36m0.22385\u001b[0m,  \u001b[1;36m0.2\u001b[0m    \u001b[1m]\u001b[0m\u001b[1m)\u001b[0m,\n",
       "    \u001b[1;36m113\u001b[0m: \u001b[1;35marray\u001b[0m\u001b[1m(\u001b[0m\u001b[1m[\u001b[0m\u001b[1;36m14.44255\u001b[0m, \u001b[1;36m46.98718\u001b[0m,  \u001b[1;36m7.67027\u001b[0m,  \u001b[1;36m0.2\u001b[0m    ,  \u001b[1;36m0.2\u001b[0m    \u001b[1m]\u001b[0m\u001b[1m)\u001b[0m,\n",
       "    \u001b[1;36m114\u001b[0m: \u001b[1;35marray\u001b[0m\u001b[1m(\u001b[0m\u001b[1m[\u001b[0m\u001b[1;36m10.11693\u001b[0m,  \u001b[1;36m0.20127\u001b[0m, \u001b[1;36m11.3221\u001b[0m , \u001b[1;36m47.65775\u001b[0m,  \u001b[1;36m0.20194\u001b[0m\u001b[1m]\u001b[0m\u001b[1m)\u001b[0m,\n",
       "    \u001b[1;36m115\u001b[0m: \u001b[1;35marray\u001b[0m\u001b[1m(\u001b[0m\u001b[1m[\u001b[0m\u001b[1;36m21.56615\u001b[0m,  \u001b[1;36m0.20447\u001b[0m, \u001b[1;36m25.22584\u001b[0m, \u001b[1;36m22.3035\u001b[0m ,  \u001b[1;36m0.20004\u001b[0m\u001b[1m]\u001b[0m\u001b[1m)\u001b[0m,\n",
       "    \u001b[1;36m116\u001b[0m: \u001b[1;35marray\u001b[0m\u001b[1m(\u001b[0m\u001b[1m[\u001b[0m\u001b[1;36m12.32033\u001b[0m, \u001b[1;36m56.57708\u001b[0m,  \u001b[1;36m0.20259\u001b[0m,  \u001b[1;36m0.2\u001b[0m    ,  \u001b[1;36m0.2\u001b[0m    \u001b[1m]\u001b[0m\u001b[1m)\u001b[0m,\n",
       "    \u001b[1;36m117\u001b[0m: \u001b[1;35marray\u001b[0m\u001b[1m(\u001b[0m\u001b[1m[\u001b[0m\u001b[1;36m68.7\u001b[0m,  \u001b[1;36m0.2\u001b[0m,  \u001b[1;36m0.2\u001b[0m,  \u001b[1;36m0.2\u001b[0m,  \u001b[1;36m0.2\u001b[0m\u001b[1m]\u001b[0m\u001b[1m)\u001b[0m,\n",
       "    \u001b[1;36m118\u001b[0m: \u001b[1;35marray\u001b[0m\u001b[1m(\u001b[0m\u001b[1m[\u001b[0m \u001b[1;36m8.50102\u001b[0m, \u001b[1;36m60.39536\u001b[0m,  \u001b[1;36m0.20362\u001b[0m,  \u001b[1;36m0.2\u001b[0m    ,  \u001b[1;36m0.2\u001b[0m    \u001b[1m]\u001b[0m\u001b[1m)\u001b[0m,\n",
       "    \u001b[1;36m119\u001b[0m: \u001b[1;35marray\u001b[0m\u001b[1m(\u001b[0m\u001b[1m[\u001b[0m\u001b[1;36m68.7\u001b[0m,  \u001b[1;36m0.2\u001b[0m,  \u001b[1;36m0.2\u001b[0m,  \u001b[1;36m0.2\u001b[0m,  \u001b[1;36m0.2\u001b[0m\u001b[1m]\u001b[0m\u001b[1m)\u001b[0m,\n",
       "    \u001b[1;36m120\u001b[0m: \u001b[1;35marray\u001b[0m\u001b[1m(\u001b[0m\u001b[1m[\u001b[0m\u001b[1;36m13.4854\u001b[0m , \u001b[1;36m55.41206\u001b[0m,  \u001b[1;36m0.20253\u001b[0m,  \u001b[1;36m0.2\u001b[0m    ,  \u001b[1;36m0.2\u001b[0m    \u001b[1m]\u001b[0m\u001b[1m)\u001b[0m,\n",
       "    \u001b[1;36m121\u001b[0m: \u001b[1;35marray\u001b[0m\u001b[1m(\u001b[0m\u001b[1m[\u001b[0m \u001b[1;36m0.2\u001b[0m,  \u001b[1;36m0.2\u001b[0m, \u001b[1;36m68.7\u001b[0m,  \u001b[1;36m0.2\u001b[0m,  \u001b[1;36m0.2\u001b[0m\u001b[1m]\u001b[0m\u001b[1m)\u001b[0m,\n",
       "    \u001b[1;36m122\u001b[0m: \u001b[1;35marray\u001b[0m\u001b[1m(\u001b[0m\u001b[1m[\u001b[0m\u001b[1;36m68.7\u001b[0m,  \u001b[1;36m0.2\u001b[0m,  \u001b[1;36m0.2\u001b[0m,  \u001b[1;36m0.2\u001b[0m,  \u001b[1;36m0.2\u001b[0m\u001b[1m]\u001b[0m\u001b[1m)\u001b[0m,\n",
       "    \u001b[1;36m123\u001b[0m: \u001b[1;35marray\u001b[0m\u001b[1m(\u001b[0m\u001b[1m[\u001b[0m \u001b[1;36m4.8554\u001b[0m , \u001b[1;36m64.04308\u001b[0m,  \u001b[1;36m0.20051\u001b[0m,  \u001b[1;36m0.20021\u001b[0m,  \u001b[1;36m0.20081\u001b[0m\u001b[1m]\u001b[0m\u001b[1m)\u001b[0m,\n",
       "    \u001b[1;36m124\u001b[0m: \u001b[1;35marray\u001b[0m\u001b[1m(\u001b[0m\u001b[1m[\u001b[0m \u001b[1;36m3.35361\u001b[0m, \u001b[1;36m65.54623\u001b[0m,  \u001b[1;36m0.20017\u001b[0m,  \u001b[1;36m0.2\u001b[0m    ,  \u001b[1;36m0.2\u001b[0m    \u001b[1m]\u001b[0m\u001b[1m)\u001b[0m,\n",
       "    \u001b[1;36m125\u001b[0m: \u001b[1;35marray\u001b[0m\u001b[1m(\u001b[0m\u001b[1m[\u001b[0m\u001b[1;36m30.73059\u001b[0m, \u001b[1;36m38.16601\u001b[0m,  \u001b[1;36m0.20111\u001b[0m,  \u001b[1;36m0.2\u001b[0m    ,  \u001b[1;36m0.20229\u001b[0m\u001b[1m]\u001b[0m\u001b[1m)\u001b[0m,\n",
       "    \u001b[1;36m126\u001b[0m: \u001b[1;35marray\u001b[0m\u001b[1m(\u001b[0m\u001b[1m[\u001b[0m \u001b[1;36m6.30699\u001b[0m, \u001b[1;36m62.59186\u001b[0m,  \u001b[1;36m0.20115\u001b[0m,  \u001b[1;36m0.2\u001b[0m    ,  \u001b[1;36m0.2\u001b[0m    \u001b[1m]\u001b[0m\u001b[1m)\u001b[0m,\n",
       "    \u001b[1;36m127\u001b[0m: \u001b[1;35marray\u001b[0m\u001b[1m(\u001b[0m\u001b[1m[\u001b[0m \u001b[1;36m3.84531\u001b[0m, \u001b[1;36m65.05465\u001b[0m,  \u001b[1;36m0.20004\u001b[0m,  \u001b[1;36m0.2\u001b[0m    ,  \u001b[1;36m0.2\u001b[0m    \u001b[1m]\u001b[0m\u001b[1m)\u001b[0m,\n",
       "    \u001b[1;36m128\u001b[0m: \u001b[1;35marray\u001b[0m\u001b[1m(\u001b[0m\u001b[1m[\u001b[0m \u001b[1;36m7.50414\u001b[0m, \u001b[1;36m61.39526\u001b[0m,  \u001b[1;36m0.2006\u001b[0m ,  \u001b[1;36m0.2\u001b[0m    ,  \u001b[1;36m0.2\u001b[0m    \u001b[1m]\u001b[0m\u001b[1m)\u001b[0m,\n",
       "    \u001b[1;36m129\u001b[0m: \u001b[1;35marray\u001b[0m\u001b[1m(\u001b[0m\u001b[1m[\u001b[0m\u001b[1;36m13.9259\u001b[0m , \u001b[1;36m54.97342\u001b[0m,  \u001b[1;36m0.20031\u001b[0m,  \u001b[1;36m0.2\u001b[0m    ,  \u001b[1;36m0.20037\u001b[0m\u001b[1m]\u001b[0m\u001b[1m)\u001b[0m,\n",
       "    \u001b[1;36m130\u001b[0m: \u001b[1;35marray\u001b[0m\u001b[1m(\u001b[0m\u001b[1m[\u001b[0m \u001b[1;36m0.2\u001b[0m, \u001b[1;36m68.7\u001b[0m,  \u001b[1;36m0.2\u001b[0m,  \u001b[1;36m0.2\u001b[0m,  \u001b[1;36m0.2\u001b[0m\u001b[1m]\u001b[0m\u001b[1m)\u001b[0m,\n",
       "    \u001b[1;36m131\u001b[0m: \u001b[1;35marray\u001b[0m\u001b[1m(\u001b[0m\u001b[1m[\u001b[0m \u001b[1;36m5.60975\u001b[0m, \u001b[1;36m63.29023\u001b[0m,  \u001b[1;36m0.20001\u001b[0m,  \u001b[1;36m0.2\u001b[0m    ,  \u001b[1;36m0.2\u001b[0m    \u001b[1m]\u001b[0m\u001b[1m)\u001b[0m,\n",
       "    \u001b[1;36m132\u001b[0m: \u001b[1;35marray\u001b[0m\u001b[1m(\u001b[0m\u001b[1m[\u001b[0m \u001b[1;36m0.2\u001b[0m, \u001b[1;36m68.7\u001b[0m,  \u001b[1;36m0.2\u001b[0m,  \u001b[1;36m0.2\u001b[0m,  \u001b[1;36m0.2\u001b[0m\u001b[1m]\u001b[0m\u001b[1m)\u001b[0m,\n",
       "    \u001b[1;36m133\u001b[0m: \u001b[1;35marray\u001b[0m\u001b[1m(\u001b[0m\u001b[1m[\u001b[0m \u001b[1;36m1.07858\u001b[0m,  \u001b[1;36m9.98737\u001b[0m,  \u001b[1;36m0.2\u001b[0m    ,  \u001b[1;36m0.20198\u001b[0m, \u001b[1;36m58.03207\u001b[0m\u001b[1m]\u001b[0m\u001b[1m)\u001b[0m,\n",
       "    \u001b[1;36m134\u001b[0m: \u001b[1;35marray\u001b[0m\u001b[1m(\u001b[0m\u001b[1m[\u001b[0m \u001b[1;36m0.2\u001b[0m, \u001b[1;36m68.7\u001b[0m,  \u001b[1;36m0.2\u001b[0m,  \u001b[1;36m0.2\u001b[0m,  \u001b[1;36m0.2\u001b[0m\u001b[1m]\u001b[0m\u001b[1m)\u001b[0m,\n",
       "    \u001b[1;36m135\u001b[0m: \u001b[1;35marray\u001b[0m\u001b[1m(\u001b[0m\u001b[1m[\u001b[0m\u001b[1;36m54.52737\u001b[0m,  \u001b[1;36m0.28702\u001b[0m,  \u001b[1;36m0.2\u001b[0m    ,  \u001b[1;36m0.2\u001b[0m    , \u001b[1;36m14.28561\u001b[0m\u001b[1m]\u001b[0m\u001b[1m)\u001b[0m,\n",
       "    \u001b[1;36m136\u001b[0m: \u001b[1;35marray\u001b[0m\u001b[1m(\u001b[0m\u001b[1m[\u001b[0m \u001b[1;36m0.2\u001b[0m, \u001b[1;36m68.7\u001b[0m,  \u001b[1;36m0.2\u001b[0m,  \u001b[1;36m0.2\u001b[0m,  \u001b[1;36m0.2\u001b[0m\u001b[1m]\u001b[0m\u001b[1m)\u001b[0m,\n",
       "    \u001b[1;36m137\u001b[0m: \u001b[1;35marray\u001b[0m\u001b[1m(\u001b[0m\u001b[1m[\u001b[0m\u001b[1;36m34.43353\u001b[0m,  \u001b[1;36m0.20945\u001b[0m, \u001b[1;36m34.45702\u001b[0m,  \u001b[1;36m0.2\u001b[0m    ,  \u001b[1;36m0.2\u001b[0m    \u001b[1m]\u001b[0m\u001b[1m)\u001b[0m\n",
       "\u001b[1m}\u001b[0m\n"
      ]
     },
     "metadata": {},
     "output_type": "display_data"
    }
   ],
   "source": [
    "run['gamma_sv']"
   ]
  },
  {
   "cell_type": "code",
   "execution_count": 131,
   "id": "7a9efb11",
   "metadata": {},
   "outputs": [
    {
     "data": {
      "text/html": [
       "<pre style=\"white-space:pre;overflow-x:auto;line-height:normal;font-family:Menlo,'DejaVu Sans Mono',consolas,'Courier New',monospace\"><span style=\"font-weight: bold\">{</span>\n",
       "    <span style=\"color: #008080; text-decoration-color: #008080; font-weight: bold\">0</span>: <span style=\"font-weight: bold\">[</span>\n",
       "        <span style=\"color: #008080; text-decoration-color: #008080; font-weight: bold\">2</span>,\n",
       "        <span style=\"color: #008080; text-decoration-color: #008080; font-weight: bold\">6</span>,\n",
       "        <span style=\"color: #008080; text-decoration-color: #008080; font-weight: bold\">13</span>,\n",
       "        <span style=\"color: #008080; text-decoration-color: #008080; font-weight: bold\">21</span>,\n",
       "        <span style=\"color: #008080; text-decoration-color: #008080; font-weight: bold\">30</span>,\n",
       "        <span style=\"color: #008080; text-decoration-color: #008080; font-weight: bold\">36</span>,\n",
       "        <span style=\"color: #008080; text-decoration-color: #008080; font-weight: bold\">38</span>,\n",
       "        <span style=\"color: #008080; text-decoration-color: #008080; font-weight: bold\">42</span>,\n",
       "        <span style=\"color: #008080; text-decoration-color: #008080; font-weight: bold\">44</span>,\n",
       "        <span style=\"color: #008080; text-decoration-color: #008080; font-weight: bold\">50</span>,\n",
       "        <span style=\"color: #008080; text-decoration-color: #008080; font-weight: bold\">55</span>,\n",
       "        <span style=\"color: #008080; text-decoration-color: #008080; font-weight: bold\">56</span>,\n",
       "        <span style=\"color: #008080; text-decoration-color: #008080; font-weight: bold\">66</span>,\n",
       "        <span style=\"color: #008080; text-decoration-color: #008080; font-weight: bold\">67</span>,\n",
       "        <span style=\"color: #008080; text-decoration-color: #008080; font-weight: bold\">71</span>,\n",
       "        <span style=\"color: #008080; text-decoration-color: #008080; font-weight: bold\">75</span>,\n",
       "        <span style=\"color: #008080; text-decoration-color: #008080; font-weight: bold\">82</span>,\n",
       "        <span style=\"color: #008080; text-decoration-color: #008080; font-weight: bold\">90</span>,\n",
       "        <span style=\"color: #008080; text-decoration-color: #008080; font-weight: bold\">99</span>,\n",
       "        <span style=\"color: #008080; text-decoration-color: #008080; font-weight: bold\">107</span>,\n",
       "        <span style=\"color: #008080; text-decoration-color: #008080; font-weight: bold\">108</span>,\n",
       "        <span style=\"color: #008080; text-decoration-color: #008080; font-weight: bold\">111</span>,\n",
       "        <span style=\"color: #008080; text-decoration-color: #008080; font-weight: bold\">112</span>,\n",
       "        <span style=\"color: #008080; text-decoration-color: #008080; font-weight: bold\">113</span>,\n",
       "        <span style=\"color: #008080; text-decoration-color: #008080; font-weight: bold\">116</span>,\n",
       "        <span style=\"color: #008080; text-decoration-color: #008080; font-weight: bold\">117</span>,\n",
       "        <span style=\"color: #008080; text-decoration-color: #008080; font-weight: bold\">118</span>,\n",
       "        <span style=\"color: #008080; text-decoration-color: #008080; font-weight: bold\">120</span>,\n",
       "        <span style=\"color: #008080; text-decoration-color: #008080; font-weight: bold\">122</span>,\n",
       "        <span style=\"color: #008080; text-decoration-color: #008080; font-weight: bold\">123</span>,\n",
       "        <span style=\"color: #008080; text-decoration-color: #008080; font-weight: bold\">125</span>,\n",
       "        <span style=\"color: #008080; text-decoration-color: #008080; font-weight: bold\">126</span>,\n",
       "        <span style=\"color: #008080; text-decoration-color: #008080; font-weight: bold\">128</span>,\n",
       "        <span style=\"color: #008080; text-decoration-color: #008080; font-weight: bold\">129</span>,\n",
       "        <span style=\"color: #008080; text-decoration-color: #008080; font-weight: bold\">135</span>,\n",
       "        <span style=\"color: #008080; text-decoration-color: #008080; font-weight: bold\">137</span>\n",
       "    <span style=\"font-weight: bold\">]</span>,\n",
       "    <span style=\"color: #008080; text-decoration-color: #008080; font-weight: bold\">1</span>: <span style=\"font-weight: bold\">[</span>\n",
       "        <span style=\"color: #008080; text-decoration-color: #008080; font-weight: bold\">4</span>,\n",
       "        <span style=\"color: #008080; text-decoration-color: #008080; font-weight: bold\">19</span>,\n",
       "        <span style=\"color: #008080; text-decoration-color: #008080; font-weight: bold\">25</span>,\n",
       "        <span style=\"color: #008080; text-decoration-color: #008080; font-weight: bold\">29</span>,\n",
       "        <span style=\"color: #008080; text-decoration-color: #008080; font-weight: bold\">31</span>,\n",
       "        <span style=\"color: #008080; text-decoration-color: #008080; font-weight: bold\">34</span>,\n",
       "        <span style=\"color: #008080; text-decoration-color: #008080; font-weight: bold\">38</span>,\n",
       "        <span style=\"color: #008080; text-decoration-color: #008080; font-weight: bold\">39</span>,\n",
       "        <span style=\"color: #008080; text-decoration-color: #008080; font-weight: bold\">40</span>,\n",
       "        <span style=\"color: #008080; text-decoration-color: #008080; font-weight: bold\">41</span>,\n",
       "        <span style=\"color: #008080; text-decoration-color: #008080; font-weight: bold\">43</span>,\n",
       "        <span style=\"color: #008080; text-decoration-color: #008080; font-weight: bold\">44</span>,\n",
       "        <span style=\"color: #008080; text-decoration-color: #008080; font-weight: bold\">45</span>,\n",
       "        <span style=\"color: #008080; text-decoration-color: #008080; font-weight: bold\">47</span>,\n",
       "        <span style=\"color: #008080; text-decoration-color: #008080; font-weight: bold\">48</span>,\n",
       "        <span style=\"color: #008080; text-decoration-color: #008080; font-weight: bold\">49</span>,\n",
       "        <span style=\"color: #008080; text-decoration-color: #008080; font-weight: bold\">51</span>,\n",
       "        <span style=\"color: #008080; text-decoration-color: #008080; font-weight: bold\">53</span>,\n",
       "        <span style=\"color: #008080; text-decoration-color: #008080; font-weight: bold\">54</span>,\n",
       "        <span style=\"color: #008080; text-decoration-color: #008080; font-weight: bold\">55</span>,\n",
       "        <span style=\"color: #008080; text-decoration-color: #008080; font-weight: bold\">57</span>,\n",
       "        <span style=\"color: #008080; text-decoration-color: #008080; font-weight: bold\">58</span>,\n",
       "        <span style=\"color: #008080; text-decoration-color: #008080; font-weight: bold\">59</span>,\n",
       "        <span style=\"color: #008080; text-decoration-color: #008080; font-weight: bold\">60</span>,\n",
       "        <span style=\"color: #008080; text-decoration-color: #008080; font-weight: bold\">61</span>,\n",
       "        <span style=\"color: #008080; text-decoration-color: #008080; font-weight: bold\">62</span>,\n",
       "        <span style=\"color: #008080; text-decoration-color: #008080; font-weight: bold\">63</span>,\n",
       "        <span style=\"color: #008080; text-decoration-color: #008080; font-weight: bold\">65</span>,\n",
       "        <span style=\"color: #008080; text-decoration-color: #008080; font-weight: bold\">107</span>,\n",
       "        <span style=\"color: #008080; text-decoration-color: #008080; font-weight: bold\">113</span>,\n",
       "        <span style=\"color: #008080; text-decoration-color: #008080; font-weight: bold\">116</span>,\n",
       "        <span style=\"color: #008080; text-decoration-color: #008080; font-weight: bold\">118</span>,\n",
       "        <span style=\"color: #008080; text-decoration-color: #008080; font-weight: bold\">120</span>,\n",
       "        <span style=\"color: #008080; text-decoration-color: #008080; font-weight: bold\">123</span>,\n",
       "        <span style=\"color: #008080; text-decoration-color: #008080; font-weight: bold\">124</span>,\n",
       "        <span style=\"color: #008080; text-decoration-color: #008080; font-weight: bold\">125</span>,\n",
       "        <span style=\"color: #008080; text-decoration-color: #008080; font-weight: bold\">126</span>,\n",
       "        <span style=\"color: #008080; text-decoration-color: #008080; font-weight: bold\">127</span>,\n",
       "        <span style=\"color: #008080; text-decoration-color: #008080; font-weight: bold\">128</span>,\n",
       "        <span style=\"color: #008080; text-decoration-color: #008080; font-weight: bold\">129</span>,\n",
       "        <span style=\"color: #008080; text-decoration-color: #008080; font-weight: bold\">131</span>,\n",
       "        <span style=\"color: #008080; text-decoration-color: #008080; font-weight: bold\">134</span>\n",
       "    <span style=\"font-weight: bold\">]</span>,\n",
       "    <span style=\"color: #008080; text-decoration-color: #008080; font-weight: bold\">2</span>: <span style=\"font-weight: bold\">[</span>\n",
       "        <span style=\"color: #008080; text-decoration-color: #008080; font-weight: bold\">1</span>,\n",
       "        <span style=\"color: #008080; text-decoration-color: #008080; font-weight: bold\">4</span>,\n",
       "        <span style=\"color: #008080; text-decoration-color: #008080; font-weight: bold\">9</span>,\n",
       "        <span style=\"color: #008080; text-decoration-color: #008080; font-weight: bold\">10</span>,\n",
       "        <span style=\"color: #008080; text-decoration-color: #008080; font-weight: bold\">16</span>,\n",
       "        <span style=\"color: #008080; text-decoration-color: #008080; font-weight: bold\">19</span>,\n",
       "        <span style=\"color: #008080; text-decoration-color: #008080; font-weight: bold\">20</span>,\n",
       "        <span style=\"color: #008080; text-decoration-color: #008080; font-weight: bold\">24</span>,\n",
       "        <span style=\"color: #008080; text-decoration-color: #008080; font-weight: bold\">25</span>,\n",
       "        <span style=\"color: #008080; text-decoration-color: #008080; font-weight: bold\">27</span>,\n",
       "        <span style=\"color: #008080; text-decoration-color: #008080; font-weight: bold\">29</span>,\n",
       "        <span style=\"color: #008080; text-decoration-color: #008080; font-weight: bold\">31</span>,\n",
       "        <span style=\"color: #008080; text-decoration-color: #008080; font-weight: bold\">32</span>,\n",
       "        <span style=\"color: #008080; text-decoration-color: #008080; font-weight: bold\">36</span>,\n",
       "        <span style=\"color: #008080; text-decoration-color: #008080; font-weight: bold\">40</span>,\n",
       "        <span style=\"color: #008080; text-decoration-color: #008080; font-weight: bold\">41</span>,\n",
       "        <span style=\"color: #008080; text-decoration-color: #008080; font-weight: bold\">43</span>,\n",
       "        <span style=\"color: #008080; text-decoration-color: #008080; font-weight: bold\">44</span>,\n",
       "        <span style=\"color: #008080; text-decoration-color: #008080; font-weight: bold\">45</span>,\n",
       "        <span style=\"color: #008080; text-decoration-color: #008080; font-weight: bold\">46</span>,\n",
       "        <span style=\"color: #008080; text-decoration-color: #008080; font-weight: bold\">47</span>,\n",
       "        <span style=\"color: #008080; text-decoration-color: #008080; font-weight: bold\">48</span>,\n",
       "        <span style=\"color: #008080; text-decoration-color: #008080; font-weight: bold\">52</span>,\n",
       "        <span style=\"color: #008080; text-decoration-color: #008080; font-weight: bold\">69</span>,\n",
       "        <span style=\"color: #008080; text-decoration-color: #008080; font-weight: bold\">70</span>,\n",
       "        <span style=\"color: #008080; text-decoration-color: #008080; font-weight: bold\">73</span>,\n",
       "        <span style=\"color: #008080; text-decoration-color: #008080; font-weight: bold\">77</span>,\n",
       "        <span style=\"color: #008080; text-decoration-color: #008080; font-weight: bold\">78</span>,\n",
       "        <span style=\"color: #008080; text-decoration-color: #008080; font-weight: bold\">79</span>,\n",
       "        <span style=\"color: #008080; text-decoration-color: #008080; font-weight: bold\">85</span>,\n",
       "        <span style=\"color: #008080; text-decoration-color: #008080; font-weight: bold\">88</span>,\n",
       "        <span style=\"color: #008080; text-decoration-color: #008080; font-weight: bold\">89</span>,\n",
       "        <span style=\"color: #008080; text-decoration-color: #008080; font-weight: bold\">93</span>,\n",
       "        <span style=\"color: #008080; text-decoration-color: #008080; font-weight: bold\">94</span>,\n",
       "        <span style=\"color: #008080; text-decoration-color: #008080; font-weight: bold\">96</span>,\n",
       "        <span style=\"color: #008080; text-decoration-color: #008080; font-weight: bold\">98</span>,\n",
       "        <span style=\"color: #008080; text-decoration-color: #008080; font-weight: bold\">100</span>,\n",
       "        <span style=\"color: #008080; text-decoration-color: #008080; font-weight: bold\">106</span>,\n",
       "        <span style=\"color: #008080; text-decoration-color: #008080; font-weight: bold\">107</span>,\n",
       "        <span style=\"color: #008080; text-decoration-color: #008080; font-weight: bold\">108</span>,\n",
       "        <span style=\"color: #008080; text-decoration-color: #008080; font-weight: bold\">109</span>,\n",
       "        <span style=\"color: #008080; text-decoration-color: #008080; font-weight: bold\">112</span>,\n",
       "        <span style=\"color: #008080; text-decoration-color: #008080; font-weight: bold\">114</span>,\n",
       "        <span style=\"color: #008080; text-decoration-color: #008080; font-weight: bold\">115</span>,\n",
       "        <span style=\"color: #008080; text-decoration-color: #008080; font-weight: bold\">121</span>\n",
       "    <span style=\"font-weight: bold\">]</span>,\n",
       "    <span style=\"color: #008080; text-decoration-color: #008080; font-weight: bold\">3</span>: <span style=\"font-weight: bold\">[</span>\n",
       "        <span style=\"color: #008080; text-decoration-color: #008080; font-weight: bold\">0</span>,\n",
       "        <span style=\"color: #008080; text-decoration-color: #008080; font-weight: bold\">1</span>,\n",
       "        <span style=\"color: #008080; text-decoration-color: #008080; font-weight: bold\">3</span>,\n",
       "        <span style=\"color: #008080; text-decoration-color: #008080; font-weight: bold\">4</span>,\n",
       "        <span style=\"color: #008080; text-decoration-color: #008080; font-weight: bold\">5</span>,\n",
       "        <span style=\"color: #008080; text-decoration-color: #008080; font-weight: bold\">7</span>,\n",
       "        <span style=\"color: #008080; text-decoration-color: #008080; font-weight: bold\">8</span>,\n",
       "        <span style=\"color: #008080; text-decoration-color: #008080; font-weight: bold\">9</span>,\n",
       "        <span style=\"color: #008080; text-decoration-color: #008080; font-weight: bold\">11</span>,\n",
       "        <span style=\"color: #008080; text-decoration-color: #008080; font-weight: bold\">12</span>,\n",
       "        <span style=\"color: #008080; text-decoration-color: #008080; font-weight: bold\">14</span>,\n",
       "        <span style=\"color: #008080; text-decoration-color: #008080; font-weight: bold\">15</span>,\n",
       "        <span style=\"color: #008080; text-decoration-color: #008080; font-weight: bold\">17</span>,\n",
       "        <span style=\"color: #008080; text-decoration-color: #008080; font-weight: bold\">18</span>,\n",
       "        <span style=\"color: #008080; text-decoration-color: #008080; font-weight: bold\">20</span>,\n",
       "        <span style=\"color: #008080; text-decoration-color: #008080; font-weight: bold\">23</span>,\n",
       "        <span style=\"color: #008080; text-decoration-color: #008080; font-weight: bold\">26</span>,\n",
       "        <span style=\"color: #008080; text-decoration-color: #008080; font-weight: bold\">27</span>,\n",
       "        <span style=\"color: #008080; text-decoration-color: #008080; font-weight: bold\">28</span>,\n",
       "        <span style=\"color: #008080; text-decoration-color: #008080; font-weight: bold\">32</span>,\n",
       "        <span style=\"color: #008080; text-decoration-color: #008080; font-weight: bold\">35</span>,\n",
       "        <span style=\"color: #008080; text-decoration-color: #008080; font-weight: bold\">41</span>,\n",
       "        <span style=\"color: #008080; text-decoration-color: #008080; font-weight: bold\">69</span>,\n",
       "        <span style=\"color: #008080; text-decoration-color: #008080; font-weight: bold\">72</span>,\n",
       "        <span style=\"color: #008080; text-decoration-color: #008080; font-weight: bold\">73</span>,\n",
       "        <span style=\"color: #008080; text-decoration-color: #008080; font-weight: bold\">74</span>,\n",
       "        <span style=\"color: #008080; text-decoration-color: #008080; font-weight: bold\">77</span>,\n",
       "        <span style=\"color: #008080; text-decoration-color: #008080; font-weight: bold\">78</span>,\n",
       "        <span style=\"color: #008080; text-decoration-color: #008080; font-weight: bold\">80</span>,\n",
       "        <span style=\"color: #008080; text-decoration-color: #008080; font-weight: bold\">83</span>,\n",
       "        <span style=\"color: #008080; text-decoration-color: #008080; font-weight: bold\">84</span>,\n",
       "        <span style=\"color: #008080; text-decoration-color: #008080; font-weight: bold\">86</span>,\n",
       "        <span style=\"color: #008080; text-decoration-color: #008080; font-weight: bold\">87</span>,\n",
       "        <span style=\"color: #008080; text-decoration-color: #008080; font-weight: bold\">89</span>,\n",
       "        <span style=\"color: #008080; text-decoration-color: #008080; font-weight: bold\">91</span>,\n",
       "        <span style=\"color: #008080; text-decoration-color: #008080; font-weight: bold\">92</span>,\n",
       "        <span style=\"color: #008080; text-decoration-color: #008080; font-weight: bold\">94</span>,\n",
       "        <span style=\"color: #008080; text-decoration-color: #008080; font-weight: bold\">95</span>,\n",
       "        <span style=\"color: #008080; text-decoration-color: #008080; font-weight: bold\">96</span>,\n",
       "        <span style=\"color: #008080; text-decoration-color: #008080; font-weight: bold\">97</span>,\n",
       "        <span style=\"color: #008080; text-decoration-color: #008080; font-weight: bold\">101</span>,\n",
       "        <span style=\"color: #008080; text-decoration-color: #008080; font-weight: bold\">104</span>,\n",
       "        <span style=\"color: #008080; text-decoration-color: #008080; font-weight: bold\">106</span>,\n",
       "        <span style=\"color: #008080; text-decoration-color: #008080; font-weight: bold\">109</span>,\n",
       "        <span style=\"color: #008080; text-decoration-color: #008080; font-weight: bold\">110</span>,\n",
       "        <span style=\"color: #008080; text-decoration-color: #008080; font-weight: bold\">114</span>,\n",
       "        <span style=\"color: #008080; text-decoration-color: #008080; font-weight: bold\">115</span>\n",
       "    <span style=\"font-weight: bold\">]</span>,\n",
       "    <span style=\"color: #008080; text-decoration-color: #008080; font-weight: bold\">4</span>: <span style=\"font-weight: bold\">[</span>\n",
       "        <span style=\"color: #008080; text-decoration-color: #008080; font-weight: bold\">0</span>,\n",
       "        <span style=\"color: #008080; text-decoration-color: #008080; font-weight: bold\">3</span>,\n",
       "        <span style=\"color: #008080; text-decoration-color: #008080; font-weight: bold\">5</span>,\n",
       "        <span style=\"color: #008080; text-decoration-color: #008080; font-weight: bold\">8</span>,\n",
       "        <span style=\"color: #008080; text-decoration-color: #008080; font-weight: bold\">9</span>,\n",
       "        <span style=\"color: #008080; text-decoration-color: #008080; font-weight: bold\">11</span>,\n",
       "        <span style=\"color: #008080; text-decoration-color: #008080; font-weight: bold\">12</span>,\n",
       "        <span style=\"color: #008080; text-decoration-color: #008080; font-weight: bold\">14</span>,\n",
       "        <span style=\"color: #008080; text-decoration-color: #008080; font-weight: bold\">15</span>,\n",
       "        <span style=\"color: #008080; text-decoration-color: #008080; font-weight: bold\">17</span>,\n",
       "        <span style=\"color: #008080; text-decoration-color: #008080; font-weight: bold\">18</span>,\n",
       "        <span style=\"color: #008080; text-decoration-color: #008080; font-weight: bold\">20</span>,\n",
       "        <span style=\"color: #008080; text-decoration-color: #008080; font-weight: bold\">22</span>,\n",
       "        <span style=\"color: #008080; text-decoration-color: #008080; font-weight: bold\">23</span>,\n",
       "        <span style=\"color: #008080; text-decoration-color: #008080; font-weight: bold\">26</span>,\n",
       "        <span style=\"color: #008080; text-decoration-color: #008080; font-weight: bold\">27</span>,\n",
       "        <span style=\"color: #008080; text-decoration-color: #008080; font-weight: bold\">32</span>,\n",
       "        <span style=\"color: #008080; text-decoration-color: #008080; font-weight: bold\">33</span>,\n",
       "        <span style=\"color: #008080; text-decoration-color: #008080; font-weight: bold\">35</span>,\n",
       "        <span style=\"color: #008080; text-decoration-color: #008080; font-weight: bold\">64</span>,\n",
       "        <span style=\"color: #008080; text-decoration-color: #008080; font-weight: bold\">69</span>,\n",
       "        <span style=\"color: #008080; text-decoration-color: #008080; font-weight: bold\">72</span>,\n",
       "        <span style=\"color: #008080; text-decoration-color: #008080; font-weight: bold\">74</span>,\n",
       "        <span style=\"color: #008080; text-decoration-color: #008080; font-weight: bold\">78</span>,\n",
       "        <span style=\"color: #008080; text-decoration-color: #008080; font-weight: bold\">80</span>,\n",
       "        <span style=\"color: #008080; text-decoration-color: #008080; font-weight: bold\">81</span>,\n",
       "        <span style=\"color: #008080; text-decoration-color: #008080; font-weight: bold\">83</span>,\n",
       "        <span style=\"color: #008080; text-decoration-color: #008080; font-weight: bold\">84</span>,\n",
       "        <span style=\"color: #008080; text-decoration-color: #008080; font-weight: bold\">86</span>,\n",
       "        <span style=\"color: #008080; text-decoration-color: #008080; font-weight: bold\">87</span>,\n",
       "        <span style=\"color: #008080; text-decoration-color: #008080; font-weight: bold\">91</span>,\n",
       "        <span style=\"color: #008080; text-decoration-color: #008080; font-weight: bold\">92</span>,\n",
       "        <span style=\"color: #008080; text-decoration-color: #008080; font-weight: bold\">95</span>,\n",
       "        <span style=\"color: #008080; text-decoration-color: #008080; font-weight: bold\">101</span>,\n",
       "        <span style=\"color: #008080; text-decoration-color: #008080; font-weight: bold\">102</span>,\n",
       "        <span style=\"color: #008080; text-decoration-color: #008080; font-weight: bold\">104</span>,\n",
       "        <span style=\"color: #008080; text-decoration-color: #008080; font-weight: bold\">111</span>,\n",
       "        <span style=\"color: #008080; text-decoration-color: #008080; font-weight: bold\">133</span>,\n",
       "        <span style=\"color: #008080; text-decoration-color: #008080; font-weight: bold\">135</span>\n",
       "    <span style=\"font-weight: bold\">]</span>\n",
       "<span style=\"font-weight: bold\">}</span>\n",
       "</pre>\n"
      ],
      "text/plain": [
       "\u001b[1m{\u001b[0m\n",
       "    \u001b[1;36m0\u001b[0m: \u001b[1m[\u001b[0m\n",
       "        \u001b[1;36m2\u001b[0m,\n",
       "        \u001b[1;36m6\u001b[0m,\n",
       "        \u001b[1;36m13\u001b[0m,\n",
       "        \u001b[1;36m21\u001b[0m,\n",
       "        \u001b[1;36m30\u001b[0m,\n",
       "        \u001b[1;36m36\u001b[0m,\n",
       "        \u001b[1;36m38\u001b[0m,\n",
       "        \u001b[1;36m42\u001b[0m,\n",
       "        \u001b[1;36m44\u001b[0m,\n",
       "        \u001b[1;36m50\u001b[0m,\n",
       "        \u001b[1;36m55\u001b[0m,\n",
       "        \u001b[1;36m56\u001b[0m,\n",
       "        \u001b[1;36m66\u001b[0m,\n",
       "        \u001b[1;36m67\u001b[0m,\n",
       "        \u001b[1;36m71\u001b[0m,\n",
       "        \u001b[1;36m75\u001b[0m,\n",
       "        \u001b[1;36m82\u001b[0m,\n",
       "        \u001b[1;36m90\u001b[0m,\n",
       "        \u001b[1;36m99\u001b[0m,\n",
       "        \u001b[1;36m107\u001b[0m,\n",
       "        \u001b[1;36m108\u001b[0m,\n",
       "        \u001b[1;36m111\u001b[0m,\n",
       "        \u001b[1;36m112\u001b[0m,\n",
       "        \u001b[1;36m113\u001b[0m,\n",
       "        \u001b[1;36m116\u001b[0m,\n",
       "        \u001b[1;36m117\u001b[0m,\n",
       "        \u001b[1;36m118\u001b[0m,\n",
       "        \u001b[1;36m120\u001b[0m,\n",
       "        \u001b[1;36m122\u001b[0m,\n",
       "        \u001b[1;36m123\u001b[0m,\n",
       "        \u001b[1;36m125\u001b[0m,\n",
       "        \u001b[1;36m126\u001b[0m,\n",
       "        \u001b[1;36m128\u001b[0m,\n",
       "        \u001b[1;36m129\u001b[0m,\n",
       "        \u001b[1;36m135\u001b[0m,\n",
       "        \u001b[1;36m137\u001b[0m\n",
       "    \u001b[1m]\u001b[0m,\n",
       "    \u001b[1;36m1\u001b[0m: \u001b[1m[\u001b[0m\n",
       "        \u001b[1;36m4\u001b[0m,\n",
       "        \u001b[1;36m19\u001b[0m,\n",
       "        \u001b[1;36m25\u001b[0m,\n",
       "        \u001b[1;36m29\u001b[0m,\n",
       "        \u001b[1;36m31\u001b[0m,\n",
       "        \u001b[1;36m34\u001b[0m,\n",
       "        \u001b[1;36m38\u001b[0m,\n",
       "        \u001b[1;36m39\u001b[0m,\n",
       "        \u001b[1;36m40\u001b[0m,\n",
       "        \u001b[1;36m41\u001b[0m,\n",
       "        \u001b[1;36m43\u001b[0m,\n",
       "        \u001b[1;36m44\u001b[0m,\n",
       "        \u001b[1;36m45\u001b[0m,\n",
       "        \u001b[1;36m47\u001b[0m,\n",
       "        \u001b[1;36m48\u001b[0m,\n",
       "        \u001b[1;36m49\u001b[0m,\n",
       "        \u001b[1;36m51\u001b[0m,\n",
       "        \u001b[1;36m53\u001b[0m,\n",
       "        \u001b[1;36m54\u001b[0m,\n",
       "        \u001b[1;36m55\u001b[0m,\n",
       "        \u001b[1;36m57\u001b[0m,\n",
       "        \u001b[1;36m58\u001b[0m,\n",
       "        \u001b[1;36m59\u001b[0m,\n",
       "        \u001b[1;36m60\u001b[0m,\n",
       "        \u001b[1;36m61\u001b[0m,\n",
       "        \u001b[1;36m62\u001b[0m,\n",
       "        \u001b[1;36m63\u001b[0m,\n",
       "        \u001b[1;36m65\u001b[0m,\n",
       "        \u001b[1;36m107\u001b[0m,\n",
       "        \u001b[1;36m113\u001b[0m,\n",
       "        \u001b[1;36m116\u001b[0m,\n",
       "        \u001b[1;36m118\u001b[0m,\n",
       "        \u001b[1;36m120\u001b[0m,\n",
       "        \u001b[1;36m123\u001b[0m,\n",
       "        \u001b[1;36m124\u001b[0m,\n",
       "        \u001b[1;36m125\u001b[0m,\n",
       "        \u001b[1;36m126\u001b[0m,\n",
       "        \u001b[1;36m127\u001b[0m,\n",
       "        \u001b[1;36m128\u001b[0m,\n",
       "        \u001b[1;36m129\u001b[0m,\n",
       "        \u001b[1;36m131\u001b[0m,\n",
       "        \u001b[1;36m134\u001b[0m\n",
       "    \u001b[1m]\u001b[0m,\n",
       "    \u001b[1;36m2\u001b[0m: \u001b[1m[\u001b[0m\n",
       "        \u001b[1;36m1\u001b[0m,\n",
       "        \u001b[1;36m4\u001b[0m,\n",
       "        \u001b[1;36m9\u001b[0m,\n",
       "        \u001b[1;36m10\u001b[0m,\n",
       "        \u001b[1;36m16\u001b[0m,\n",
       "        \u001b[1;36m19\u001b[0m,\n",
       "        \u001b[1;36m20\u001b[0m,\n",
       "        \u001b[1;36m24\u001b[0m,\n",
       "        \u001b[1;36m25\u001b[0m,\n",
       "        \u001b[1;36m27\u001b[0m,\n",
       "        \u001b[1;36m29\u001b[0m,\n",
       "        \u001b[1;36m31\u001b[0m,\n",
       "        \u001b[1;36m32\u001b[0m,\n",
       "        \u001b[1;36m36\u001b[0m,\n",
       "        \u001b[1;36m40\u001b[0m,\n",
       "        \u001b[1;36m41\u001b[0m,\n",
       "        \u001b[1;36m43\u001b[0m,\n",
       "        \u001b[1;36m44\u001b[0m,\n",
       "        \u001b[1;36m45\u001b[0m,\n",
       "        \u001b[1;36m46\u001b[0m,\n",
       "        \u001b[1;36m47\u001b[0m,\n",
       "        \u001b[1;36m48\u001b[0m,\n",
       "        \u001b[1;36m52\u001b[0m,\n",
       "        \u001b[1;36m69\u001b[0m,\n",
       "        \u001b[1;36m70\u001b[0m,\n",
       "        \u001b[1;36m73\u001b[0m,\n",
       "        \u001b[1;36m77\u001b[0m,\n",
       "        \u001b[1;36m78\u001b[0m,\n",
       "        \u001b[1;36m79\u001b[0m,\n",
       "        \u001b[1;36m85\u001b[0m,\n",
       "        \u001b[1;36m88\u001b[0m,\n",
       "        \u001b[1;36m89\u001b[0m,\n",
       "        \u001b[1;36m93\u001b[0m,\n",
       "        \u001b[1;36m94\u001b[0m,\n",
       "        \u001b[1;36m96\u001b[0m,\n",
       "        \u001b[1;36m98\u001b[0m,\n",
       "        \u001b[1;36m100\u001b[0m,\n",
       "        \u001b[1;36m106\u001b[0m,\n",
       "        \u001b[1;36m107\u001b[0m,\n",
       "        \u001b[1;36m108\u001b[0m,\n",
       "        \u001b[1;36m109\u001b[0m,\n",
       "        \u001b[1;36m112\u001b[0m,\n",
       "        \u001b[1;36m114\u001b[0m,\n",
       "        \u001b[1;36m115\u001b[0m,\n",
       "        \u001b[1;36m121\u001b[0m\n",
       "    \u001b[1m]\u001b[0m,\n",
       "    \u001b[1;36m3\u001b[0m: \u001b[1m[\u001b[0m\n",
       "        \u001b[1;36m0\u001b[0m,\n",
       "        \u001b[1;36m1\u001b[0m,\n",
       "        \u001b[1;36m3\u001b[0m,\n",
       "        \u001b[1;36m4\u001b[0m,\n",
       "        \u001b[1;36m5\u001b[0m,\n",
       "        \u001b[1;36m7\u001b[0m,\n",
       "        \u001b[1;36m8\u001b[0m,\n",
       "        \u001b[1;36m9\u001b[0m,\n",
       "        \u001b[1;36m11\u001b[0m,\n",
       "        \u001b[1;36m12\u001b[0m,\n",
       "        \u001b[1;36m14\u001b[0m,\n",
       "        \u001b[1;36m15\u001b[0m,\n",
       "        \u001b[1;36m17\u001b[0m,\n",
       "        \u001b[1;36m18\u001b[0m,\n",
       "        \u001b[1;36m20\u001b[0m,\n",
       "        \u001b[1;36m23\u001b[0m,\n",
       "        \u001b[1;36m26\u001b[0m,\n",
       "        \u001b[1;36m27\u001b[0m,\n",
       "        \u001b[1;36m28\u001b[0m,\n",
       "        \u001b[1;36m32\u001b[0m,\n",
       "        \u001b[1;36m35\u001b[0m,\n",
       "        \u001b[1;36m41\u001b[0m,\n",
       "        \u001b[1;36m69\u001b[0m,\n",
       "        \u001b[1;36m72\u001b[0m,\n",
       "        \u001b[1;36m73\u001b[0m,\n",
       "        \u001b[1;36m74\u001b[0m,\n",
       "        \u001b[1;36m77\u001b[0m,\n",
       "        \u001b[1;36m78\u001b[0m,\n",
       "        \u001b[1;36m80\u001b[0m,\n",
       "        \u001b[1;36m83\u001b[0m,\n",
       "        \u001b[1;36m84\u001b[0m,\n",
       "        \u001b[1;36m86\u001b[0m,\n",
       "        \u001b[1;36m87\u001b[0m,\n",
       "        \u001b[1;36m89\u001b[0m,\n",
       "        \u001b[1;36m91\u001b[0m,\n",
       "        \u001b[1;36m92\u001b[0m,\n",
       "        \u001b[1;36m94\u001b[0m,\n",
       "        \u001b[1;36m95\u001b[0m,\n",
       "        \u001b[1;36m96\u001b[0m,\n",
       "        \u001b[1;36m97\u001b[0m,\n",
       "        \u001b[1;36m101\u001b[0m,\n",
       "        \u001b[1;36m104\u001b[0m,\n",
       "        \u001b[1;36m106\u001b[0m,\n",
       "        \u001b[1;36m109\u001b[0m,\n",
       "        \u001b[1;36m110\u001b[0m,\n",
       "        \u001b[1;36m114\u001b[0m,\n",
       "        \u001b[1;36m115\u001b[0m\n",
       "    \u001b[1m]\u001b[0m,\n",
       "    \u001b[1;36m4\u001b[0m: \u001b[1m[\u001b[0m\n",
       "        \u001b[1;36m0\u001b[0m,\n",
       "        \u001b[1;36m3\u001b[0m,\n",
       "        \u001b[1;36m5\u001b[0m,\n",
       "        \u001b[1;36m8\u001b[0m,\n",
       "        \u001b[1;36m9\u001b[0m,\n",
       "        \u001b[1;36m11\u001b[0m,\n",
       "        \u001b[1;36m12\u001b[0m,\n",
       "        \u001b[1;36m14\u001b[0m,\n",
       "        \u001b[1;36m15\u001b[0m,\n",
       "        \u001b[1;36m17\u001b[0m,\n",
       "        \u001b[1;36m18\u001b[0m,\n",
       "        \u001b[1;36m20\u001b[0m,\n",
       "        \u001b[1;36m22\u001b[0m,\n",
       "        \u001b[1;36m23\u001b[0m,\n",
       "        \u001b[1;36m26\u001b[0m,\n",
       "        \u001b[1;36m27\u001b[0m,\n",
       "        \u001b[1;36m32\u001b[0m,\n",
       "        \u001b[1;36m33\u001b[0m,\n",
       "        \u001b[1;36m35\u001b[0m,\n",
       "        \u001b[1;36m64\u001b[0m,\n",
       "        \u001b[1;36m69\u001b[0m,\n",
       "        \u001b[1;36m72\u001b[0m,\n",
       "        \u001b[1;36m74\u001b[0m,\n",
       "        \u001b[1;36m78\u001b[0m,\n",
       "        \u001b[1;36m80\u001b[0m,\n",
       "        \u001b[1;36m81\u001b[0m,\n",
       "        \u001b[1;36m83\u001b[0m,\n",
       "        \u001b[1;36m84\u001b[0m,\n",
       "        \u001b[1;36m86\u001b[0m,\n",
       "        \u001b[1;36m87\u001b[0m,\n",
       "        \u001b[1;36m91\u001b[0m,\n",
       "        \u001b[1;36m92\u001b[0m,\n",
       "        \u001b[1;36m95\u001b[0m,\n",
       "        \u001b[1;36m101\u001b[0m,\n",
       "        \u001b[1;36m102\u001b[0m,\n",
       "        \u001b[1;36m104\u001b[0m,\n",
       "        \u001b[1;36m111\u001b[0m,\n",
       "        \u001b[1;36m133\u001b[0m,\n",
       "        \u001b[1;36m135\u001b[0m\n",
       "    \u001b[1m]\u001b[0m\n",
       "\u001b[1m}\u001b[0m\n"
      ]
     },
     "metadata": {},
     "output_type": "display_data"
    }
   ],
   "source": [
    "run['community_sv']"
   ]
  },
  {
   "cell_type": "code",
   "execution_count": null,
   "id": "62b8a404",
   "metadata": {},
   "outputs": [],
   "source": []
  },
  {
   "cell_type": "code",
   "execution_count": null,
   "id": "1094c91e",
   "metadata": {},
   "outputs": [],
   "source": []
  },
  {
   "cell_type": "code",
   "execution_count": 108,
   "id": "d17251d4",
   "metadata": {},
   "outputs": [],
   "source": [
    "def _load_sv_validedges(lines: List[str]):\n",
    "\tvalid_edges = collections.defaultdict(list)\n",
    "\tfor i, line in enumerate(lines):\n",
    "\t\tx = line.strip('\\n').split('\\t')\n",
    "\t\tx = list(filter(None, x))\n",
    "\t\tif len(x):\n",
    "\t\t\ti, j, k = tuple(map(lambda s: int(s), x))\n",
    "\t\t\tvalid_edges[k].append((i, j))\n",
    "\n",
    "\tdef _edge_sort_fn(e):\n",
    "\t\tn, m = e\n",
    "\t\treturn m + 1e5 * n\n",
    "\tvalid_edges = dict(sorted([\n",
    "\t\t(k, sorted(v, key=_edge_sort_fn))\n",
    "\t\tfor k, v in valid_edges.items()\n",
    "\t]))\n",
    "\treturn valid_edges\n",
    "\n",
    "\n",
    "def _load_sv_valid(lines: List[str]):\n",
    "\t_vld = collections.defaultdict(dict)\n",
    "\tfor i, line in enumerate(lines):\n",
    "\t\tx = line.strip('\\n').split('\\t')\n",
    "\t\tx = list(filter(None, x))\n",
    "\t\tif len(x):\n",
    "\t\t\t_vld[int(x[0])] = {\n",
    "\t\t\t\t'll': float(x[2]),\n",
    "\t\t\t\t'n': int(x[3]),\n",
    "\t\t\t\t'll_link': float(x[4]),\n",
    "\t\t\t\t'n_link': int(x[5]),\n",
    "\t\t\t\t'll_nonlink': float(x[6]),\n",
    "\t\t\t\t'n_nonlink': int(x[7]),\n",
    "\t\t\t\t'll_sparse_link': float(x[8]),\n",
    "\t\t\t\t'll_sparse_nonlink': float(x[9]),\n",
    "\t\t\t\t'll_sparse': float(x[10]),\n",
    "\t\t\t}\n",
    "\t_vld = dict(sorted(_vld.items()))\n",
    "\tvalid = {\n",
    "\t\t'n': np.unique([v['n'] for v in _vld.values()]).item(),\n",
    "\t\t'n_link': np.unique([v['n_link'] for v in _vld.values()]).item(),\n",
    "\t\t'n_nonlink': np.unique([v['n_nonlink'] for v in _vld.values()]).item(),\n",
    "\t\t'll': [v['ll'] for v in _vld.values()],\n",
    "\t\t'll_link': [v['ll_link'] for v in _vld.values()],\n",
    "\t\t'll_nonlink': [v['ll_nonlink'] for v in _vld.values()],\n",
    "\t\t'll_sparse': [v['ll_sparse'] for v in _vld.values()],\n",
    "\t\t'll_sparse_link': [v['ll_sparse_link'] for v in _vld.values()],\n",
    "\t\t'll_sparse_nonlink': [v['ll_sparse_nonlink'] for v in _vld.values()],\n",
    "\t}\n",
    "\treturn valid\n",
    "\n",
    "\n",
    "def _load_sv_lambda(lines: List[str]):\n",
    "\tlambda_sv = {}\n",
    "\tfor line in lines:\n",
    "\t\tx = line.strip('\\n').split('\\t')\n",
    "\t\tx = list(filter(None, x))\n",
    "\t\tif len(x):\n",
    "\t\t\tlambda_sv[int(x[0])] = tuple(float(s) for s in x[1:])\n",
    "\treturn lambda_sv\n",
    "\n",
    "\n",
    "def _load_sv_community(lines: List[str]):\n",
    "\tcommunity_sv = {}\n",
    "\tfor i, line in enumerate(lines):\n",
    "\t\tx = line.strip('\\n').split(' ')\n",
    "\t\tx = list(filter(None, x))\n",
    "\t\tcommunity_sv[i] = [int(s) for s in x]\n",
    "\treturn community_sv\n",
    "\n",
    "\n",
    "def _load_sv_membership(lines: List[str], num_nodes: int):\n",
    "\tmembership_sv = {}\n",
    "\tfor line in lines:\n",
    "\t\tx = line.strip('\\n').split('\\t')\n",
    "\t\tnode = int(x[1])\n",
    "\t\tmem = [float(s) for s in x[2:]]\n",
    "\t\tmembership_sv[node] = np.array(mem)\n",
    "\t_num = len(list(membership_sv.values())[0])\n",
    "\tfor node in range(num_nodes):\n",
    "\t\tif node not in membership_sv:\n",
    "\t\t\tmembership_sv[node] = np.zeros(_num)\n",
    "\t# noinspection PyTypeChecker\n",
    "\tmembership_sv = dict(sorted(membership_sv.items()))\n",
    "\treturn membership_sv\n",
    "\n",
    "\n",
    "def load_svinet_runs(path: str, num_nodes: int):\n",
    "\t# validation data\n",
    "\twith open(pjoin(path, 'validation.txt'), 'r') as f:\n",
    "\t\tlines = f.readlines()\n",
    "\tvalid = _load_sv_valid(lines)\n",
    "\twith open(pjoin(path, 'validation-edges.txt'), 'r') as f:\n",
    "\t\tlines = f.readlines()\n",
    "\tvalid = {'edges': _load_sv_validedges(lines), **valid}\n",
    "\n",
    "\t# fitted parameters\n",
    "\twith open(pjoin(path, 'communities.txt'), 'r') as f:\n",
    "\t\tlines = f.readlines()\n",
    "\tcommunity_sv = _load_sv_community(lines)\n",
    "\twith open(pjoin(path, 'groups.txt'), 'r') as f:\n",
    "\t\tlines = f.readlines()\n",
    "\tmembership_sv = _load_sv_membership(lines, num_nodes)\n",
    "\twith open(pjoin(path, 'gamma.txt'), 'r') as f:\n",
    "\t\tlines = f.readlines()\n",
    "\tgamma_sv = _load_sv_membership(lines, num_nodes)\n",
    "\twith open(pjoin(path, 'lambda.txt'), 'r') as f:\n",
    "\t\tlines = f.readlines()\n",
    "\tlambda_sv = _load_sv_lambda(lines)\n",
    "\n",
    "\t# gamma, pi, and partition\n",
    "\tgam = np.concatenate([\n",
    "\t\tnp.reshape(x, (1, -1))\n",
    "\t\tfor x in gamma_sv.values()\n",
    "\t])\n",
    "\tpi = np.concatenate([\n",
    "\t\tnp.reshape(x, (1, -1))\n",
    "\t\tfor x in membership_sv.values()\n",
    "\t])\n",
    "\tpartition_sv = {\n",
    "\t\ti: comm_idx for i, comm_idx\n",
    "\t\tin enumerate(np.argmax(pi, axis=1))\n",
    "\t}\n",
    "\n",
    "\tincluded = []\n",
    "\tfor v in community_sv.values():\n",
    "\t\tincluded.extend(v)\n",
    "\tn_included = len(set(included))\n",
    "\n",
    "\tresults = {\n",
    "\t\t'valid': valid,\n",
    "\t\t'gamma_sv': gamma_sv,\n",
    "\t\t'lambda_sv': lambda_sv,\n",
    "\t\t'community_sv': community_sv,\n",
    "\t\t'membership_sv': membership_sv,\n",
    "\t\t'partition_sv': partition_sv,\n",
    "\t\t'num_missing': len(pi) - n_included,\n",
    "\t\t'num_overlap': len(included) - n_included,\n",
    "\t\t'gam': gam.T,\n",
    "\t\t'pi': pi.T,\n",
    "\t}\n",
    "\treturn results"
   ]
  },
  {
   "cell_type": "code",
   "execution_count": null,
   "id": "bbcb64a6",
   "metadata": {},
   "outputs": [],
   "source": []
  },
  {
   "cell_type": "code",
   "execution_count": null,
   "id": "2a4a11ad",
   "metadata": {},
   "outputs": [],
   "source": []
  },
  {
   "cell_type": "code",
   "execution_count": null,
   "id": "6bf6781c",
   "metadata": {},
   "outputs": [],
   "source": []
  },
  {
   "cell_type": "code",
   "execution_count": null,
   "id": "87aedd9a",
   "metadata": {},
   "outputs": [],
   "source": []
  }
 ],
 "metadata": {
  "kernelspec": {
   "display_name": "Python 3",
   "language": "python",
   "name": "python3"
  },
  "language_info": {
   "codemirror_mode": {
    "name": "ipython",
    "version": 3
   },
   "file_extension": ".py",
   "mimetype": "text/x-python",
   "name": "python",
   "nbconvert_exporter": "python",
   "pygments_lexer": "ipython3",
   "version": "3.8.3"
  }
 },
 "nbformat": 4,
 "nbformat_minor": 5
}
