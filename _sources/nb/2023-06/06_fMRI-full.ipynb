{
 "cells": [
  {
   "cell_type": "markdown",
   "id": "3622acd3",
   "metadata": {},
   "source": [
    "# (06) fMRI full brain\n",
    "\n",
    "**Motivation**: Save fMRI results, full brain. <br>"
   ]
  },
  {
   "cell_type": "code",
   "execution_count": 1,
   "id": "67e944b0",
   "metadata": {
    "tags": [
     "hide-input"
    ]
   },
   "outputs": [],
   "source": [
    "# HIDE CODE\n",
    "\n",
    "\n",
    "import os, sys\n",
    "from IPython.display import display\n",
    "\n",
    "# tmp & extras dir\n",
    "git_dir = os.path.join(os.environ['HOME'], 'Dropbox/git')\n",
    "extras_dir = os.path.join(git_dir, 'jb-Ca-fMRI/_extras')\n",
    "fig_base_dir = os.path.join(git_dir, 'jb-Ca-fMRI/figs')\n",
    "tmp_dir = os.path.join(git_dir, 'jb-Ca-fMRI/tmp')\n",
    "\n",
    "# GitHub\n",
    "sys.path.insert(0, os.path.join(git_dir, '_Ca-fMRI'))\n",
    "from figures.fighelper import *\n",
    "from analysis.final import *\n",
    "from utils.render import *\n",
    "\n",
    "# warnings, tqdm, & style\n",
    "warnings.filterwarnings('ignore', category=DeprecationWarning)\n",
    "from tqdm.notebook import tqdm\n",
    "%matplotlib inline\n",
    "set_style()"
   ]
  },
  {
   "cell_type": "code",
   "execution_count": 2,
   "id": "3c07ac0e",
   "metadata": {},
   "outputs": [],
   "source": [
    "from register.register import Register"
   ]
  },
  {
   "cell_type": "markdown",
   "id": "4b70d48e",
   "metadata": {},
   "source": [
    "## Init mice"
   ]
  },
  {
   "cell_type": "code",
   "execution_count": 3,
   "id": "8e4cf04c",
   "metadata": {},
   "outputs": [],
   "source": [
    "mice = Mice(128, full_load=True, load_allen=True, load_parcel=True)\n",
    "reg = Register(mice)"
   ]
  },
  {
   "cell_type": "markdown",
   "id": "8f7c6cc0",
   "metadata": {},
   "source": [
    "## Register anat"
   ]
  },
  {
   "cell_type": "code",
   "execution_count": 3,
   "id": "346a4f9f",
   "metadata": {},
   "outputs": [
    {
     "name": "stderr",
     "output_type": "stream",
     "text": [
      "100%|██████████| 10/10 [08:14<00:00, 49.49s/it]\n"
     ]
    }
   ],
   "source": [
    "obj_all = reg.register_anat(\n",
    "    save_results=True,\n",
    "    anchor_ses=2,\n",
    ")"
   ]
  },
  {
   "cell_type": "markdown",
   "id": "d3a05768",
   "metadata": {},
   "source": [
    "## Copy masks, do xform\n",
    "\n",
    "*Note*: These steps are copied from ```xform_steps.txt```\n",
    "\n",
    "1. Copy from KABA to Yale:\n",
    "```\n",
    "scp /home/hadi/Documents/Ca-fMRI/processed/norm-global_parcel-columnar_n-128*3/masks/*.nii.gz hv88@spot.med.yale.internal:/data24/mri_group/elake_data_analyses/Hadi_ROIs/indiv3d/\n",
    "```\n",
    "2. Run ```./do_xform.sh``` on cuda5\n",
    "3. Copy resulting 2d masks to _copy directory\n",
    "```\n",
    "scp -r hv88@spot.med.yale.internal:/data24/mri_group/elake_data_analyses/Hadi_ROIs /home/hadi/Documents/Ca-fMRI/Yale/_copy/\n",
    "code\n",
    "```\n",
    "4. Copy masks from _copy directory to the masks_dir\n",
    "    - 2d:\n",
    "    ```\n",
    "    find /home/hadi/Documents/Ca-fMRI/Yale/_copy/ -type f -name \"*indiv2d*.nii.gz\" -exec cp {} /home/hadi/Documents/Ca-fMRI/processed/norm-global_parcel-columnar_n-128*3/masks/ \\;\n",
    "    ```\n",
    "    - BIS:\n",
    "    ```\n",
    "    find /home/hadi/Documents/Ca-fMRI/Yale/_copy/ -type f -name \"*-BIS_*.nii.gz\" -exec cp {} /home/hadi/Documents/Ca-fMRI/processed/norm-global_parcel-columnar_n-128*3/masks/ \\;\n",
    "    ```"
   ]
  },
  {
   "cell_type": "markdown",
   "id": "f966951c",
   "metadata": {},
   "source": [
    "## Debugged: ```get_accepted_regions()```"
   ]
  },
  {
   "cell_type": "markdown",
   "id": "aa8ca3e4",
   "metadata": {},
   "source": [
    "### CA2"
   ]
  },
  {
   "cell_type": "code",
   "execution_count": 4,
   "id": "f55ba2b6",
   "metadata": {},
   "outputs": [
    {
     "data": {
      "text/html": [
       "<pre style=\"white-space:pre;overflow-x:auto;line-height:normal;font-family:Menlo,'DejaVu Sans Mono',consolas,'Courier New',monospace\">Name: cols . . . a total of: <span style=\"color: #008080; text-decoration-color: #008080; font-weight: bold\">146</span> regions accepted, <span style=\"color: #008080; text-decoration-color: #008080; font-weight: bold\">50</span> regions rejected.\n",
       "accept ratio: <span style=\"color: #008080; text-decoration-color: #008080; font-weight: bold\">74.49</span> %, reject ratio: <span style=\"color: #008080; text-decoration-color: #008080; font-weight: bold\">25.51</span> %, using a presence threshold of <span style=\"color: #008080; text-decoration-color: #008080; font-weight: bold\">50.0</span> %\n",
       "\n",
       "\n",
       "</pre>\n"
      ],
      "text/plain": [
       "Name: cols . . . a total of: \u001b[1;36m146\u001b[0m regions accepted, \u001b[1;36m50\u001b[0m regions rejected.\n",
       "accept ratio: \u001b[1;36m74.49\u001b[0m %, reject ratio: \u001b[1;36m25.51\u001b[0m %, using a presence threshold of \u001b[1;36m50.0\u001b[0m %\n",
       "\n",
       "\n"
      ]
     },
     "metadata": {},
     "output_type": "display_data"
    }
   ],
   "source": [
    "mode = 'ca2'\n",
    "reg.set_mode(mode)\n",
    "accepted = reg.get_accepted_regions()"
   ]
  },
  {
   "cell_type": "code",
   "execution_count": 5,
   "id": "480730d5",
   "metadata": {},
   "outputs": [],
   "source": [
    "top, flat = mice.parcel.load_top_flat()"
   ]
  },
  {
   "cell_type": "code",
   "execution_count": 6,
   "id": "a8d4fbda",
   "metadata": {},
   "outputs": [
    {
     "data": {
      "image/png": "[encoded data removed]"
     },
     "metadata": {},
     "output_type": "display_data"
    }
   ],
   "source": [
    "fig, axes = create_figure(1, 2, (8, 3), width_ratios=[1, 1.4])\n",
    "axes[0].imshow(mwh(~np.isin(top, accepted['acc']), top), cmap='Spectral')\n",
    "axes[1].imshow(mwh(~np.isin(flat, accepted['acc']), flat), cmap='Spectral')\n",
    "remove_ticks(axes)\n",
    "plt.show()"
   ]
  },
  {
   "cell_type": "markdown",
   "id": "ec76c7e1",
   "metadata": {},
   "source": [
    "### BOLD"
   ]
  },
  {
   "cell_type": "code",
   "execution_count": 7,
   "id": "f6440e88",
   "metadata": {},
   "outputs": [
    {
     "data": {
      "text/html": [
       "<pre style=\"white-space:pre;overflow-x:auto;line-height:normal;font-family:Menlo,'DejaVu Sans Mono',consolas,'Courier New',monospace\">Name: brain . . . a total of: <span style=\"color: #008080; text-decoration-color: #008080; font-weight: bold\">2766</span> regions accepted, <span style=\"color: #008080; text-decoration-color: #008080; font-weight: bold\">16</span> regions rejected.\n",
       "accept ratio: <span style=\"color: #008080; text-decoration-color: #008080; font-weight: bold\">99.42</span> %, reject ratio: <span style=\"color: #008080; text-decoration-color: #008080; font-weight: bold\">0.58</span> %, using a presence threshold of <span style=\"color: #008080; text-decoration-color: #008080; font-weight: bold\">50.0</span> %\n",
       "\n",
       "\n",
       "</pre>\n"
      ],
      "text/plain": [
       "Name: brain . . . a total of: \u001b[1;36m2766\u001b[0m regions accepted, \u001b[1;36m16\u001b[0m regions rejected.\n",
       "accept ratio: \u001b[1;36m99.42\u001b[0m %, reject ratio: \u001b[1;36m0.58\u001b[0m %, using a presence threshold of \u001b[1;36m50.0\u001b[0m %\n",
       "\n",
       "\n"
      ]
     },
     "metadata": {},
     "output_type": "display_data"
    }
   ],
   "source": [
    "mode = 'bold'\n",
    "reg.set_mode(mode)\n",
    "accepted = reg.get_accepted_regions()"
   ]
  },
  {
   "cell_type": "markdown",
   "id": "22b3c2cd",
   "metadata": {},
   "source": [
    "## Debug: ```get_tsnr_masks()```"
   ]
  },
  {
   "cell_type": "markdown",
   "id": "adc8a117",
   "metadata": {},
   "source": [
    "### q_bold = 0.05"
   ]
  },
  {
   "cell_type": "code",
   "execution_count": 8,
   "id": "54d2f254",
   "metadata": {},
   "outputs": [
    {
     "data": {
      "text/html": [
       "<pre style=\"white-space:pre;overflow-x:auto;line-height:normal;font-family:Menlo,'DejaVu Sans Mono',consolas,'Courier New',monospace\">Name: brain . . . a total of: <span style=\"color: #008080; text-decoration-color: #008080; font-weight: bold\">2766</span> regions accepted, <span style=\"color: #008080; text-decoration-color: #008080; font-weight: bold\">16</span> regions rejected.\n",
       "accept ratio: <span style=\"color: #008080; text-decoration-color: #008080; font-weight: bold\">99.42</span> %, reject ratio: <span style=\"color: #008080; text-decoration-color: #008080; font-weight: bold\">0.58</span> %, using a presence threshold of <span style=\"color: #008080; text-decoration-color: #008080; font-weight: bold\">50.0</span> %\n",
       "\n",
       "\n",
       "</pre>\n"
      ],
      "text/plain": [
       "Name: brain . . . a total of: \u001b[1;36m2766\u001b[0m regions accepted, \u001b[1;36m16\u001b[0m regions rejected.\n",
       "accept ratio: \u001b[1;36m99.42\u001b[0m %, reject ratio: \u001b[1;36m0.58\u001b[0m %, using a presence threshold of \u001b[1;36m50.0\u001b[0m %\n",
       "\n",
       "\n"
      ]
     },
     "metadata": {},
     "output_type": "display_data"
    }
   ],
   "source": [
    "tsnr_masks = reg.get_tsnr_masks(0.05)"
   ]
  },
  {
   "cell_type": "code",
   "execution_count": 9,
   "id": "56573814",
   "metadata": {},
   "outputs": [],
   "source": [
    "portion_rois = {}\n",
    "for k, m in tsnr_masks['bold'].items():\n",
    "    key = mice.get_key(*mice.looper[k][:2])\n",
    "    f = f\"{key}_space-indiv3d_eroded.nii.gz\"\n",
    "    f = pjoin(mice.cfg.masks_dir, f)\n",
    "    obj = ants.image_read(f).numpy().astype(int)\n",
    "    portion_rois[k] = len(unique_idxs(obj[m])) / len(unique_idxs(obj))"
   ]
  },
  {
   "cell_type": "code",
   "execution_count": 10,
   "id": "022595d9",
   "metadata": {},
   "outputs": [
    {
     "data": {
      "image/png": "[encoded data removed]"
     },
     "metadata": {},
     "output_type": "display_data"
    }
   ],
   "source": [
    "fig, ax = create_figure(1, 1, (4, 2.5))\n",
    "sns.histplot(list(portion_rois.values()), bins=np.linspace(0.9, 1, 41), ax=ax)\n",
    "_x = np.mean(list(portion_rois.values()))\n",
    "ax.axvline(_x, color='r', ls='--', label=f\"avg = {_x:0.3f}\")\n",
    "ax.legend(loc='upper left', fontsize=12)\n",
    "plt.show()"
   ]
  },
  {
   "cell_type": "markdown",
   "id": "060c17a9",
   "metadata": {},
   "source": [
    "### q_bold = 0.1"
   ]
  },
  {
   "cell_type": "code",
   "execution_count": 11,
   "id": "d138c31c",
   "metadata": {},
   "outputs": [
    {
     "data": {
      "text/html": [
       "<pre style=\"white-space:pre;overflow-x:auto;line-height:normal;font-family:Menlo,'DejaVu Sans Mono',consolas,'Courier New',monospace\">Name: brain . . . a total of: <span style=\"color: #008080; text-decoration-color: #008080; font-weight: bold\">2766</span> regions accepted, <span style=\"color: #008080; text-decoration-color: #008080; font-weight: bold\">16</span> regions rejected.\n",
       "accept ratio: <span style=\"color: #008080; text-decoration-color: #008080; font-weight: bold\">99.42</span> %, reject ratio: <span style=\"color: #008080; text-decoration-color: #008080; font-weight: bold\">0.58</span> %, using a presence threshold of <span style=\"color: #008080; text-decoration-color: #008080; font-weight: bold\">50.0</span> %\n",
       "\n",
       "\n",
       "</pre>\n"
      ],
      "text/plain": [
       "Name: brain . . . a total of: \u001b[1;36m2766\u001b[0m regions accepted, \u001b[1;36m16\u001b[0m regions rejected.\n",
       "accept ratio: \u001b[1;36m99.42\u001b[0m %, reject ratio: \u001b[1;36m0.58\u001b[0m %, using a presence threshold of \u001b[1;36m50.0\u001b[0m %\n",
       "\n",
       "\n"
      ]
     },
     "metadata": {},
     "output_type": "display_data"
    }
   ],
   "source": [
    "tsnr_masks = reg.get_tsnr_masks(0.1)"
   ]
  },
  {
   "cell_type": "code",
   "execution_count": 12,
   "id": "44a9e6fe",
   "metadata": {},
   "outputs": [],
   "source": [
    "portion_rois = {}\n",
    "for k, m in tsnr_masks['bold'].items():\n",
    "    key = mice.get_key(*mice.looper[k][:2])\n",
    "    f = f\"{key}_space-indiv3d_eroded.nii.gz\"\n",
    "    f = pjoin(mice.cfg.masks_dir, f)\n",
    "    obj = ants.image_read(f).numpy().astype(int)\n",
    "    portion_rois[k] = len(unique_idxs(obj[m])) / len(unique_idxs(obj))"
   ]
  },
  {
   "cell_type": "code",
   "execution_count": 13,
   "id": "54629f46",
   "metadata": {},
   "outputs": [
    {
     "data": {
      "image/png": "[encoded data removed]"
     },
     "metadata": {},
     "output_type": "display_data"
    }
   ],
   "source": [
    "fig, ax = create_figure(1, 1, (4, 2.5))\n",
    "sns.histplot(list(portion_rois.values()), bins=np.linspace(0.9, 1, 41), ax=ax)\n",
    "_x = np.mean(list(portion_rois.values()))\n",
    "ax.axvline(_x, color='r', ls='--', label=f\"avg = {_x:0.3f}\")\n",
    "ax.legend(loc='upper left', fontsize=12)\n",
    "plt.show()"
   ]
  },
  {
   "cell_type": "markdown",
   "id": "5f1de538",
   "metadata": {},
   "source": [
    "## Final step: ```run_register.sh```\n",
    "\n",
    "Running this to organize functional data:\n",
    "```\n",
    "./run_register.sh 128 3 0 0.5\n",
    "```"
   ]
  },
  {
   "cell_type": "markdown",
   "id": "ced9b5af",
   "metadata": {},
   "source": [
    "## Note on parcel.df\n",
    "\n",
    "We have both ```id``` and ```region``` columns. ```id``` means region id, something to extract the ROI masks from parcellation results. These are unique. In other words, each ROI has a unique ```id```. On the other hand, ```region``` has some sort of degenracy. For instance, there are only 128 ```region```s, but with different layer and hemisphere ids for cortex. As another example, there are only 72 unique ```region```s for HIP, which means 144 unique ```id```s in total. See below."
   ]
  },
  {
   "cell_type": "code",
   "execution_count": 4,
   "id": "d2edac1d",
   "metadata": {},
   "outputs": [
    {
     "data": {
      "text/html": [
       "<div>\n",
       "<style scoped>\n",
       "    .dataframe tbody tr th:only-of-type {\n",
       "        vertical-align: middle;\n",
       "    }\n",
       "\n",
       "    .dataframe tbody tr th {\n",
       "        vertical-align: top;\n",
       "    }\n",
       "\n",
       "    .dataframe thead th {\n",
       "        text-align: right;\n",
       "    }\n",
       "</style>\n",
       "<table border=\"1\" class=\"dataframe\">\n",
       "  <thead>\n",
       "    <tr style=\"text-align: right;\">\n",
       "      <th></th>\n",
       "      <th>id</th>\n",
       "      <th>acro</th>\n",
       "      <th>hemis</th>\n",
       "      <th>region</th>\n",
       "      <th>layer</th>\n",
       "    </tr>\n",
       "  </thead>\n",
       "  <tbody>\n",
       "    <tr>\n",
       "      <th>1056</th>\n",
       "      <td>1057</td>\n",
       "      <td>HIP</td>\n",
       "      <td>1</td>\n",
       "      <td>1057</td>\n",
       "      <td>-1</td>\n",
       "    </tr>\n",
       "    <tr>\n",
       "      <th>1057</th>\n",
       "      <td>1058</td>\n",
       "      <td>HIP</td>\n",
       "      <td>1</td>\n",
       "      <td>1058</td>\n",
       "      <td>-1</td>\n",
       "    </tr>\n",
       "    <tr>\n",
       "      <th>1058</th>\n",
       "      <td>1059</td>\n",
       "      <td>HIP</td>\n",
       "      <td>1</td>\n",
       "      <td>1059</td>\n",
       "      <td>-1</td>\n",
       "    </tr>\n",
       "    <tr>\n",
       "      <th>1059</th>\n",
       "      <td>1060</td>\n",
       "      <td>HIP</td>\n",
       "      <td>1</td>\n",
       "      <td>1060</td>\n",
       "      <td>-1</td>\n",
       "    </tr>\n",
       "    <tr>\n",
       "      <th>1060</th>\n",
       "      <td>1061</td>\n",
       "      <td>HIP</td>\n",
       "      <td>1</td>\n",
       "      <td>1061</td>\n",
       "      <td>-1</td>\n",
       "    </tr>\n",
       "    <tr>\n",
       "      <th>...</th>\n",
       "      <td>...</td>\n",
       "      <td>...</td>\n",
       "      <td>...</td>\n",
       "      <td>...</td>\n",
       "      <td>...</td>\n",
       "    </tr>\n",
       "    <tr>\n",
       "      <th>1195</th>\n",
       "      <td>1196</td>\n",
       "      <td>HIP</td>\n",
       "      <td>2</td>\n",
       "      <td>1124</td>\n",
       "      <td>-1</td>\n",
       "    </tr>\n",
       "    <tr>\n",
       "      <th>1196</th>\n",
       "      <td>1197</td>\n",
       "      <td>HIP</td>\n",
       "      <td>2</td>\n",
       "      <td>1125</td>\n",
       "      <td>-1</td>\n",
       "    </tr>\n",
       "    <tr>\n",
       "      <th>1197</th>\n",
       "      <td>1198</td>\n",
       "      <td>HIP</td>\n",
       "      <td>2</td>\n",
       "      <td>1126</td>\n",
       "      <td>-1</td>\n",
       "    </tr>\n",
       "    <tr>\n",
       "      <th>1198</th>\n",
       "      <td>1199</td>\n",
       "      <td>HIP</td>\n",
       "      <td>2</td>\n",
       "      <td>1127</td>\n",
       "      <td>-1</td>\n",
       "    </tr>\n",
       "    <tr>\n",
       "      <th>1199</th>\n",
       "      <td>1200</td>\n",
       "      <td>HIP</td>\n",
       "      <td>2</td>\n",
       "      <td>1128</td>\n",
       "      <td>-1</td>\n",
       "    </tr>\n",
       "  </tbody>\n",
       "</table>\n",
       "<p>144 rows × 5 columns</p>\n",
       "</div>"
      ]
     },
     "execution_count": 4,
     "metadata": {},
     "output_type": "execute_result"
    }
   ],
   "source": [
    "_df = mice.parcel.df.loc[mice.parcel.df['acro'] == 'HIP']\n",
    "_df"
   ]
  },
  {
   "cell_type": "code",
   "execution_count": 5,
   "id": "61968bc1",
   "metadata": {
    "scrolled": true
   },
   "outputs": [
    {
     "data": {
      "text/html": [
       "<pre style=\"white-space:pre;overflow-x:auto;line-height:normal;font-family:Menlo,'DejaVu Sans Mono',consolas,'Courier New',monospace\"><span style=\"color: #008080; text-decoration-color: #008080; font-weight: bold\">72</span>\n",
       "</pre>\n"
      ],
      "text/plain": [
       "\u001b[1;36m72\u001b[0m\n"
      ]
     },
     "metadata": {},
     "output_type": "display_data"
    }
   ],
   "source": [
    "len(_df['region'].unique())"
   ]
  },
  {
   "cell_type": "code",
   "execution_count": null,
   "id": "e97ead4f",
   "metadata": {},
   "outputs": [],
   "source": []
  },
  {
   "cell_type": "markdown",
   "id": "88d9de18",
   "metadata": {},
   "source": [
    "## Verify (shapes, etc)"
   ]
  },
  {
   "cell_type": "markdown",
   "id": "a14ab3fb",
   "metadata": {},
   "source": [
    "### CA2"
   ]
  },
  {
   "cell_type": "code",
   "execution_count": 4,
   "id": "1635f1d5",
   "metadata": {},
   "outputs": [
    {
     "data": {
      "text/html": [
       "<pre style=\"white-space:pre;overflow-x:auto;line-height:normal;font-family:Menlo,'DejaVu Sans Mono',consolas,'Courier New',monospace\"><span style=\"font-weight: bold\">{</span><span style=\"color: #008080; text-decoration-color: #008080; font-weight: bold\">146</span><span style=\"font-weight: bold\">}</span>\n",
       "</pre>\n"
      ],
      "text/plain": [
       "\u001b[1m{\u001b[0m\u001b[1;36m146\u001b[0m\u001b[1m}\u001b[0m\n"
      ]
     },
     "metadata": {},
     "output_type": "display_data"
    }
   ],
   "source": [
    "n_good, shapes = [], []\n",
    "for k, f in mice.ca.items():\n",
    "    good = np.isnan(f[:]).sum(1) == 0\n",
    "    n_good.append(good.sum())\n",
    "    shapes.append(f.shape)\n",
    "set(i for i, j in shapes)"
   ]
  },
  {
   "cell_type": "code",
   "execution_count": 5,
   "id": "b91f6355",
   "metadata": {},
   "outputs": [
    {
     "data": {
      "text/html": [
       "<pre style=\"white-space:pre;overflow-x:auto;line-height:normal;font-family:Menlo,'DejaVu Sans Mono',consolas,'Courier New',monospace\"><span style=\"font-weight: bold\">[((</span><span style=\"color: #008080; text-decoration-color: #008080; font-weight: bold\">146</span>, <span style=\"color: #008080; text-decoration-color: #008080; font-weight: bold\">6000</span><span style=\"font-weight: bold\">)</span>, <span style=\"color: #008080; text-decoration-color: #008080; font-weight: bold\">106</span><span style=\"font-weight: bold\">)</span>, <span style=\"font-weight: bold\">((</span><span style=\"color: #008080; text-decoration-color: #008080; font-weight: bold\">146</span>, <span style=\"color: #008080; text-decoration-color: #008080; font-weight: bold\">5999</span><span style=\"font-weight: bold\">)</span>, <span style=\"color: #008080; text-decoration-color: #008080; font-weight: bold\">5</span><span style=\"font-weight: bold\">)</span>, <span style=\"font-weight: bold\">((</span><span style=\"color: #008080; text-decoration-color: #008080; font-weight: bold\">146</span>, <span style=\"color: #008080; text-decoration-color: #008080; font-weight: bold\">5200</span><span style=\"font-weight: bold\">)</span>, <span style=\"color: #008080; text-decoration-color: #008080; font-weight: bold\">1</span><span style=\"font-weight: bold\">)]</span>\n",
       "</pre>\n"
      ],
      "text/plain": [
       "\u001b[1m[\u001b[0m\u001b[1m(\u001b[0m\u001b[1m(\u001b[0m\u001b[1;36m146\u001b[0m, \u001b[1;36m6000\u001b[0m\u001b[1m)\u001b[0m, \u001b[1;36m106\u001b[0m\u001b[1m)\u001b[0m, \u001b[1m(\u001b[0m\u001b[1m(\u001b[0m\u001b[1;36m146\u001b[0m, \u001b[1;36m5999\u001b[0m\u001b[1m)\u001b[0m, \u001b[1;36m5\u001b[0m\u001b[1m)\u001b[0m, \u001b[1m(\u001b[0m\u001b[1m(\u001b[0m\u001b[1;36m146\u001b[0m, \u001b[1;36m5200\u001b[0m\u001b[1m)\u001b[0m, \u001b[1;36m1\u001b[0m\u001b[1m)\u001b[0m\u001b[1m]\u001b[0m\n"
      ]
     },
     "metadata": {},
     "output_type": "display_data"
    }
   ],
   "source": [
    "collections.Counter(shapes).most_common()"
   ]
  },
  {
   "cell_type": "code",
   "execution_count": 6,
   "id": "bb1c0019",
   "metadata": {},
   "outputs": [
    {
     "data": {
      "text/html": [
       "<pre style=\"white-space:pre;overflow-x:auto;line-height:normal;font-family:Menlo,'DejaVu Sans Mono',consolas,'Courier New',monospace\"><span style=\"font-weight: bold\">[</span>\n",
       "    <span style=\"font-weight: bold\">(</span><span style=\"color: #008080; text-decoration-color: #008080; font-weight: bold\">141</span>, <span style=\"color: #008080; text-decoration-color: #008080; font-weight: bold\">24</span><span style=\"font-weight: bold\">)</span>,\n",
       "    <span style=\"font-weight: bold\">(</span><span style=\"color: #008080; text-decoration-color: #008080; font-weight: bold\">145</span>, <span style=\"color: #008080; text-decoration-color: #008080; font-weight: bold\">18</span><span style=\"font-weight: bold\">)</span>,\n",
       "    <span style=\"font-weight: bold\">(</span><span style=\"color: #008080; text-decoration-color: #008080; font-weight: bold\">144</span>, <span style=\"color: #008080; text-decoration-color: #008080; font-weight: bold\">14</span><span style=\"font-weight: bold\">)</span>,\n",
       "    <span style=\"font-weight: bold\">(</span><span style=\"color: #008080; text-decoration-color: #008080; font-weight: bold\">138</span>, <span style=\"color: #008080; text-decoration-color: #008080; font-weight: bold\">11</span><span style=\"font-weight: bold\">)</span>,\n",
       "    <span style=\"font-weight: bold\">(</span><span style=\"color: #008080; text-decoration-color: #008080; font-weight: bold\">139</span>, <span style=\"color: #008080; text-decoration-color: #008080; font-weight: bold\">9</span><span style=\"font-weight: bold\">)</span>,\n",
       "    <span style=\"font-weight: bold\">(</span><span style=\"color: #008080; text-decoration-color: #008080; font-weight: bold\">146</span>, <span style=\"color: #008080; text-decoration-color: #008080; font-weight: bold\">8</span><span style=\"font-weight: bold\">)</span>,\n",
       "    <span style=\"font-weight: bold\">(</span><span style=\"color: #008080; text-decoration-color: #008080; font-weight: bold\">137</span>, <span style=\"color: #008080; text-decoration-color: #008080; font-weight: bold\">7</span><span style=\"font-weight: bold\">)</span>,\n",
       "    <span style=\"font-weight: bold\">(</span><span style=\"color: #008080; text-decoration-color: #008080; font-weight: bold\">134</span>, <span style=\"color: #008080; text-decoration-color: #008080; font-weight: bold\">6</span><span style=\"font-weight: bold\">)</span>,\n",
       "    <span style=\"font-weight: bold\">(</span><span style=\"color: #008080; text-decoration-color: #008080; font-weight: bold\">135</span>, <span style=\"color: #008080; text-decoration-color: #008080; font-weight: bold\">4</span><span style=\"font-weight: bold\">)</span>,\n",
       "    <span style=\"font-weight: bold\">(</span><span style=\"color: #008080; text-decoration-color: #008080; font-weight: bold\">140</span>, <span style=\"color: #008080; text-decoration-color: #008080; font-weight: bold\">3</span><span style=\"font-weight: bold\">)</span>,\n",
       "    <span style=\"font-weight: bold\">(</span><span style=\"color: #008080; text-decoration-color: #008080; font-weight: bold\">142</span>, <span style=\"color: #008080; text-decoration-color: #008080; font-weight: bold\">3</span><span style=\"font-weight: bold\">)</span>,\n",
       "    <span style=\"font-weight: bold\">(</span><span style=\"color: #008080; text-decoration-color: #008080; font-weight: bold\">130</span>, <span style=\"color: #008080; text-decoration-color: #008080; font-weight: bold\">2</span><span style=\"font-weight: bold\">)</span>,\n",
       "    <span style=\"font-weight: bold\">(</span><span style=\"color: #008080; text-decoration-color: #008080; font-weight: bold\">133</span>, <span style=\"color: #008080; text-decoration-color: #008080; font-weight: bold\">2</span><span style=\"font-weight: bold\">)</span>,\n",
       "    <span style=\"font-weight: bold\">(</span><span style=\"color: #008080; text-decoration-color: #008080; font-weight: bold\">131</span>, <span style=\"color: #008080; text-decoration-color: #008080; font-weight: bold\">1</span><span style=\"font-weight: bold\">)</span>\n",
       "<span style=\"font-weight: bold\">]</span>\n",
       "</pre>\n"
      ],
      "text/plain": [
       "\u001b[1m[\u001b[0m\n",
       "    \u001b[1m(\u001b[0m\u001b[1;36m141\u001b[0m, \u001b[1;36m24\u001b[0m\u001b[1m)\u001b[0m,\n",
       "    \u001b[1m(\u001b[0m\u001b[1;36m145\u001b[0m, \u001b[1;36m18\u001b[0m\u001b[1m)\u001b[0m,\n",
       "    \u001b[1m(\u001b[0m\u001b[1;36m144\u001b[0m, \u001b[1;36m14\u001b[0m\u001b[1m)\u001b[0m,\n",
       "    \u001b[1m(\u001b[0m\u001b[1;36m138\u001b[0m, \u001b[1;36m11\u001b[0m\u001b[1m)\u001b[0m,\n",
       "    \u001b[1m(\u001b[0m\u001b[1;36m139\u001b[0m, \u001b[1;36m9\u001b[0m\u001b[1m)\u001b[0m,\n",
       "    \u001b[1m(\u001b[0m\u001b[1;36m146\u001b[0m, \u001b[1;36m8\u001b[0m\u001b[1m)\u001b[0m,\n",
       "    \u001b[1m(\u001b[0m\u001b[1;36m137\u001b[0m, \u001b[1;36m7\u001b[0m\u001b[1m)\u001b[0m,\n",
       "    \u001b[1m(\u001b[0m\u001b[1;36m134\u001b[0m, \u001b[1;36m6\u001b[0m\u001b[1m)\u001b[0m,\n",
       "    \u001b[1m(\u001b[0m\u001b[1;36m135\u001b[0m, \u001b[1;36m4\u001b[0m\u001b[1m)\u001b[0m,\n",
       "    \u001b[1m(\u001b[0m\u001b[1;36m140\u001b[0m, \u001b[1;36m3\u001b[0m\u001b[1m)\u001b[0m,\n",
       "    \u001b[1m(\u001b[0m\u001b[1;36m142\u001b[0m, \u001b[1;36m3\u001b[0m\u001b[1m)\u001b[0m,\n",
       "    \u001b[1m(\u001b[0m\u001b[1;36m130\u001b[0m, \u001b[1;36m2\u001b[0m\u001b[1m)\u001b[0m,\n",
       "    \u001b[1m(\u001b[0m\u001b[1;36m133\u001b[0m, \u001b[1;36m2\u001b[0m\u001b[1m)\u001b[0m,\n",
       "    \u001b[1m(\u001b[0m\u001b[1;36m131\u001b[0m, \u001b[1;36m1\u001b[0m\u001b[1m)\u001b[0m\n",
       "\u001b[1m]\u001b[0m\n"
      ]
     },
     "metadata": {},
     "output_type": "display_data"
    }
   ],
   "source": [
    "collections.Counter(n_good).most_common()"
   ]
  },
  {
   "cell_type": "code",
   "execution_count": 26,
   "id": "ab25b8bc",
   "metadata": {},
   "outputs": [
    {
     "data": {
      "text/html": [
       "<pre style=\"white-space:pre;overflow-x:auto;line-height:normal;font-family:Menlo,'DejaVu Sans Mono',consolas,'Courier New',monospace\"><span style=\"font-weight: bold\">(</span><span style=\"color: #008080; text-decoration-color: #008080; font-weight: bold\">146</span>, <span style=\"color: #008080; text-decoration-color: #008080; font-weight: bold\">6000</span><span style=\"font-weight: bold\">)</span>\n",
       "</pre>\n"
      ],
      "text/plain": [
       "\u001b[1m(\u001b[0m\u001b[1;36m146\u001b[0m, \u001b[1;36m6000\u001b[0m\u001b[1m)\u001b[0m\n"
      ]
     },
     "metadata": {},
     "output_type": "display_data"
    }
   ],
   "source": [
    "k = 'sub-SLC01_ses-1_run-7'\n",
    "x = mice.ca[k][:]\n",
    "x.shape"
   ]
  },
  {
   "cell_type": "code",
   "execution_count": 27,
   "id": "a8114024",
   "metadata": {},
   "outputs": [
    {
     "data": {
      "image/png": "[encoded data removed]"
     },
     "metadata": {},
     "output_type": "display_data"
    }
   ],
   "source": [
    "fig, ax = create_figure(1, 1, (8, 2))\n",
    "ax.plot(x[59][500:1500], color='C0', label='GS')\n",
    "ax.plot(np.nanmean(x, 0)[500:1500], color='k', lw=1.0, label='ROI # 59')\n",
    "ax.legend(bbox_to_anchor=(1, 1.05))\n",
    "plt.show()"
   ]
  },
  {
   "cell_type": "markdown",
   "id": "4d352189",
   "metadata": {},
   "source": [
    "### BOLD"
   ]
  },
  {
   "cell_type": "code",
   "execution_count": 28,
   "id": "0fb22401",
   "metadata": {},
   "outputs": [
    {
     "data": {
      "text/html": [
       "<pre style=\"white-space:pre;overflow-x:auto;line-height:normal;font-family:Menlo,'DejaVu Sans Mono',consolas,'Courier New',monospace\"><span style=\"font-weight: bold\">{</span><span style=\"color: #008080; text-decoration-color: #008080; font-weight: bold\">2766</span><span style=\"font-weight: bold\">}</span>\n",
       "</pre>\n"
      ],
      "text/plain": [
       "\u001b[1m{\u001b[0m\u001b[1;36m2766\u001b[0m\u001b[1m}\u001b[0m\n"
      ]
     },
     "metadata": {},
     "output_type": "display_data"
    }
   ],
   "source": [
    "n_good, shapes = [], []\n",
    "for k, f in mice.bold.items():\n",
    "    good = np.isnan(f[:]).sum(1) == 0\n",
    "    n_good.append(good.sum())\n",
    "    shapes.append(f.shape)\n",
    "set(i for i, j in shapes)"
   ]
  },
  {
   "cell_type": "code",
   "execution_count": 29,
   "id": "f83fd69d",
   "metadata": {},
   "outputs": [
    {
     "data": {
      "image/png": "[encoded data removed]"
     },
     "metadata": {},
     "output_type": "display_data"
    }
   ],
   "source": [
    "fig, axes = create_figure(1, 2, (9, 2), layout='constrained')\n",
    "sns.histplot([j for i, j in shapes], label='n_time', ax=axes[0])\n",
    "sns.histplot(n_good, label='n_good', ax=axes[1])\n",
    "for ax in axes.flat:\n",
    "    ax.legend()\n",
    "plt.show()"
   ]
  },
  {
   "cell_type": "code",
   "execution_count": 30,
   "id": "a8be298c",
   "metadata": {},
   "outputs": [
    {
     "data": {
      "text/html": [
       "<pre style=\"white-space:pre;overflow-x:auto;line-height:normal;font-family:Menlo,'DejaVu Sans Mono',consolas,'Courier New',monospace\"><span style=\"font-weight: bold\">(</span><span style=\"color: #008080; text-decoration-color: #008080; font-weight: bold\">2766</span>, <span style=\"color: #008080; text-decoration-color: #008080; font-weight: bold\">499</span><span style=\"font-weight: bold\">)</span>\n",
       "</pre>\n"
      ],
      "text/plain": [
       "\u001b[1m(\u001b[0m\u001b[1;36m2766\u001b[0m, \u001b[1;36m499\u001b[0m\u001b[1m)\u001b[0m\n"
      ]
     },
     "metadata": {},
     "output_type": "display_data"
    }
   ],
   "source": [
    "k = 'sub-SLC01_ses-1_run-7'\n",
    "x = mice.bold[k][:]\n",
    "x.shape"
   ]
  },
  {
   "cell_type": "code",
   "execution_count": 31,
   "id": "69a4d99b",
   "metadata": {},
   "outputs": [
    {
     "data": {
      "image/png": "[encoded data removed]"
     },
     "metadata": {},
     "output_type": "display_data"
    }
   ],
   "source": [
    "fig, ax = create_figure(1, 1, (8, 2))\n",
    "ax.plot(x[859][50:150], color='C0', label='GS')\n",
    "ax.plot(np.nanmean(x, 0)[50:150], color='k', lw=1.0, label='ROI # 859')\n",
    "ax.legend(bbox_to_anchor=(1, 1.05))\n",
    "plt.show()"
   ]
  },
  {
   "cell_type": "markdown",
   "id": "28d10211",
   "metadata": {},
   "source": [
    "## Etc (node lookup and other things)"
   ]
  },
  {
   "cell_type": "code",
   "execution_count": 5,
   "id": "828e9034",
   "metadata": {},
   "outputs": [
    {
     "data": {
      "text/html": [
       "<pre style=\"white-space:pre;overflow-x:auto;line-height:normal;font-family:Menlo,'DejaVu Sans Mono',consolas,'Courier New',monospace\"><span style=\"font-weight: bold\">[</span><span style=\"color: #008000; text-decoration-color: #008000\">'topview_mask.npy'</span>, <span style=\"color: #008000; text-decoration-color: #008000\">'node2area.npy'</span>, <span style=\"color: #008000; text-decoration-color: #008000\">'roi_lookup.npy'</span>, <span style=\"color: #008000; text-decoration-color: #008000\">'topview.npy'</span><span style=\"font-weight: bold\">]</span>\n",
       "</pre>\n"
      ],
      "text/plain": [
       "\u001b[1m[\u001b[0m\u001b[32m'topview_mask.npy'\u001b[0m, \u001b[32m'node2area.npy'\u001b[0m, \u001b[32m'roi_lookup.npy'\u001b[0m, \u001b[32m'topview.npy'\u001b[0m\u001b[1m]\u001b[0m\n"
      ]
     },
     "metadata": {},
     "output_type": "display_data"
    }
   ],
   "source": [
    "os.listdir(pjoin(tmp_dir, 'CafMRI-Selected'))"
   ]
  },
  {
   "cell_type": "code",
   "execution_count": 14,
   "id": "6a2c461d",
   "metadata": {},
   "outputs": [],
   "source": [
    "x = np.load(pjoin(tmp_dir, 'CafMRI-Selected', 'roi_lookup.npy'), allow_pickle=True).item()"
   ]
  },
  {
   "cell_type": "code",
   "execution_count": 16,
   "id": "d977990e",
   "metadata": {},
   "outputs": [
    {
     "data": {
      "text/html": [
       "<pre style=\"white-space:pre;overflow-x:auto;line-height:normal;font-family:Menlo,'DejaVu Sans Mono',consolas,'Courier New',monospace\"><span style=\"font-weight: bold\">[</span><span style=\"color: #008000; text-decoration-color: #008000\">'ca2'</span>, <span style=\"color: #008000; text-decoration-color: #008000\">'bold'</span><span style=\"font-weight: bold\">]</span>\n",
       "</pre>\n"
      ],
      "text/plain": [
       "\u001b[1m[\u001b[0m\u001b[32m'ca2'\u001b[0m, \u001b[32m'bold'\u001b[0m\u001b[1m]\u001b[0m\n"
      ]
     },
     "metadata": {},
     "output_type": "display_data"
    }
   ],
   "source": [
    "list(x)"
   ]
  },
  {
   "cell_type": "code",
   "execution_count": 17,
   "id": "edf11809",
   "metadata": {},
   "outputs": [
    {
     "data": {
      "text/html": [
       "<pre style=\"white-space:pre;overflow-x:auto;line-height:normal;font-family:Menlo,'DejaVu Sans Mono',consolas,'Courier New',monospace\"><span style=\"font-weight: bold\">{</span>\n",
       "    <span style=\"color: #008080; text-decoration-color: #008080; font-weight: bold\">0</span>: <span style=\"color: #008000; text-decoration-color: #008000\">'1-56-0'</span>,\n",
       "    <span style=\"color: #008080; text-decoration-color: #008080; font-weight: bold\">1</span>: <span style=\"color: #008000; text-decoration-color: #008000\">'1-57-0'</span>,\n",
       "    <span style=\"color: #008080; text-decoration-color: #008080; font-weight: bold\">2</span>: <span style=\"color: #008000; text-decoration-color: #008000\">'1-59-0'</span>,\n",
       "    <span style=\"color: #008080; text-decoration-color: #008080; font-weight: bold\">3</span>: <span style=\"color: #008000; text-decoration-color: #008000\">'1-60-0'</span>,\n",
       "    <span style=\"color: #008080; text-decoration-color: #008080; font-weight: bold\">4</span>: <span style=\"color: #008000; text-decoration-color: #008000\">'1-66-0'</span>,\n",
       "    <span style=\"color: #008080; text-decoration-color: #008080; font-weight: bold\">5</span>: <span style=\"color: #008000; text-decoration-color: #008000\">'1-69-0'</span>,\n",
       "    <span style=\"color: #008080; text-decoration-color: #008080; font-weight: bold\">6</span>: <span style=\"color: #008000; text-decoration-color: #008000\">'1-70-0'</span>,\n",
       "    <span style=\"color: #008080; text-decoration-color: #008080; font-weight: bold\">7</span>: <span style=\"color: #008000; text-decoration-color: #008000\">'1-71-0'</span>,\n",
       "    <span style=\"color: #008080; text-decoration-color: #008080; font-weight: bold\">8</span>: <span style=\"color: #008000; text-decoration-color: #008000\">'1-72-0'</span>,\n",
       "    <span style=\"color: #008080; text-decoration-color: #008080; font-weight: bold\">9</span>: <span style=\"color: #008000; text-decoration-color: #008000\">'1-74-0'</span>,\n",
       "    <span style=\"color: #008080; text-decoration-color: #008080; font-weight: bold\">10</span>: <span style=\"color: #008000; text-decoration-color: #008000\">'1-75-0'</span>,\n",
       "    <span style=\"color: #008080; text-decoration-color: #008080; font-weight: bold\">11</span>: <span style=\"color: #008000; text-decoration-color: #008000\">'1-77-0'</span>,\n",
       "    <span style=\"color: #008080; text-decoration-color: #008080; font-weight: bold\">12</span>: <span style=\"color: #008000; text-decoration-color: #008000\">'1-78-0'</span>,\n",
       "    <span style=\"color: #008080; text-decoration-color: #008080; font-weight: bold\">13</span>: <span style=\"color: #008000; text-decoration-color: #008000\">'1-80-0'</span>,\n",
       "    <span style=\"color: #008080; text-decoration-color: #008080; font-weight: bold\">14</span>: <span style=\"color: #008000; text-decoration-color: #008000\">'1-84-0'</span>,\n",
       "    <span style=\"color: #008080; text-decoration-color: #008080; font-weight: bold\">15</span>: <span style=\"color: #008000; text-decoration-color: #008000\">'1-86-0'</span>,\n",
       "    <span style=\"color: #008080; text-decoration-color: #008080; font-weight: bold\">16</span>: <span style=\"color: #008000; text-decoration-color: #008000\">'1-89-0'</span>,\n",
       "    <span style=\"color: #008080; text-decoration-color: #008080; font-weight: bold\">17</span>: <span style=\"color: #008000; text-decoration-color: #008000\">'1-91-0'</span>,\n",
       "    <span style=\"color: #008080; text-decoration-color: #008080; font-weight: bold\">18</span>: <span style=\"color: #008000; text-decoration-color: #008000\">'1-93-0'</span>,\n",
       "    <span style=\"color: #008080; text-decoration-color: #008080; font-weight: bold\">19</span>: <span style=\"color: #008000; text-decoration-color: #008000\">'1-94-0'</span>,\n",
       "    <span style=\"color: #008080; text-decoration-color: #008080; font-weight: bold\">20</span>: <span style=\"color: #008000; text-decoration-color: #008000\">'1-95-0'</span>,\n",
       "    <span style=\"color: #008080; text-decoration-color: #008080; font-weight: bold\">21</span>: <span style=\"color: #008000; text-decoration-color: #008000\">'1-96-0'</span>,\n",
       "    <span style=\"color: #008080; text-decoration-color: #008080; font-weight: bold\">22</span>: <span style=\"color: #008000; text-decoration-color: #008000\">'1-97-0'</span>,\n",
       "    <span style=\"color: #008080; text-decoration-color: #008080; font-weight: bold\">23</span>: <span style=\"color: #008000; text-decoration-color: #008000\">'1-98-0'</span>,\n",
       "    <span style=\"color: #008080; text-decoration-color: #008080; font-weight: bold\">24</span>: <span style=\"color: #008000; text-decoration-color: #008000\">'1-100-0'</span>,\n",
       "    <span style=\"color: #008080; text-decoration-color: #008080; font-weight: bold\">25</span>: <span style=\"color: #008000; text-decoration-color: #008000\">'1-101-0'</span>,\n",
       "    <span style=\"color: #008080; text-decoration-color: #008080; font-weight: bold\">26</span>: <span style=\"color: #008000; text-decoration-color: #008000\">'1-103-0'</span>,\n",
       "    <span style=\"color: #008080; text-decoration-color: #008080; font-weight: bold\">27</span>: <span style=\"color: #008000; text-decoration-color: #008000\">'1-108-0'</span>,\n",
       "    <span style=\"color: #008080; text-decoration-color: #008080; font-weight: bold\">28</span>: <span style=\"color: #008000; text-decoration-color: #008000\">'1-110-0'</span>,\n",
       "    <span style=\"color: #008080; text-decoration-color: #008080; font-weight: bold\">29</span>: <span style=\"color: #008000; text-decoration-color: #008000\">'1-112-0'</span>,\n",
       "    <span style=\"color: #008080; text-decoration-color: #008080; font-weight: bold\">30</span>: <span style=\"color: #008000; text-decoration-color: #008000\">'1-114-0'</span>,\n",
       "    <span style=\"color: #008080; text-decoration-color: #008080; font-weight: bold\">31</span>: <span style=\"color: #008000; text-decoration-color: #008000\">'1-115-0'</span>,\n",
       "    <span style=\"color: #008080; text-decoration-color: #008080; font-weight: bold\">32</span>: <span style=\"color: #008000; text-decoration-color: #008000\">'1-116-0'</span>,\n",
       "    <span style=\"color: #008080; text-decoration-color: #008080; font-weight: bold\">33</span>: <span style=\"color: #008000; text-decoration-color: #008000\">'1-117-0'</span>,\n",
       "    <span style=\"color: #008080; text-decoration-color: #008080; font-weight: bold\">34</span>: <span style=\"color: #008000; text-decoration-color: #008000\">'1-118-0'</span>,\n",
       "    <span style=\"color: #008080; text-decoration-color: #008080; font-weight: bold\">35</span>: <span style=\"color: #008000; text-decoration-color: #008000\">'1-119-0'</span>,\n",
       "    <span style=\"color: #008080; text-decoration-color: #008080; font-weight: bold\">36</span>: <span style=\"color: #008000; text-decoration-color: #008000\">'1-120-0'</span>,\n",
       "    <span style=\"color: #008080; text-decoration-color: #008080; font-weight: bold\">37</span>: <span style=\"color: #008000; text-decoration-color: #008000\">'1-121-0'</span>,\n",
       "    <span style=\"color: #008080; text-decoration-color: #008080; font-weight: bold\">38</span>: <span style=\"color: #008000; text-decoration-color: #008000\">'1-122-0'</span>,\n",
       "    <span style=\"color: #008080; text-decoration-color: #008080; font-weight: bold\">39</span>: <span style=\"color: #008000; text-decoration-color: #008000\">'1-123-0'</span>,\n",
       "    <span style=\"color: #008080; text-decoration-color: #008080; font-weight: bold\">40</span>: <span style=\"color: #008000; text-decoration-color: #008000\">'1-132-0'</span>,\n",
       "    <span style=\"color: #008080; text-decoration-color: #008080; font-weight: bold\">41</span>: <span style=\"color: #008000; text-decoration-color: #008000\">'1-133-0'</span>,\n",
       "    <span style=\"color: #008080; text-decoration-color: #008080; font-weight: bold\">42</span>: <span style=\"color: #008000; text-decoration-color: #008000\">'1-134-0'</span>,\n",
       "    <span style=\"color: #008080; text-decoration-color: #008080; font-weight: bold\">43</span>: <span style=\"color: #008000; text-decoration-color: #008000\">'1-137-0'</span>,\n",
       "    <span style=\"color: #008080; text-decoration-color: #008080; font-weight: bold\">44</span>: <span style=\"color: #008000; text-decoration-color: #008000\">'1-138-0'</span>,\n",
       "    <span style=\"color: #008080; text-decoration-color: #008080; font-weight: bold\">45</span>: <span style=\"color: #008000; text-decoration-color: #008000\">'1-139-0'</span>,\n",
       "    <span style=\"color: #008080; text-decoration-color: #008080; font-weight: bold\">46</span>: <span style=\"color: #008000; text-decoration-color: #008000\">'1-141-0'</span>,\n",
       "    <span style=\"color: #008080; text-decoration-color: #008080; font-weight: bold\">47</span>: <span style=\"color: #008000; text-decoration-color: #008000\">'1-142-0'</span>,\n",
       "    <span style=\"color: #008080; text-decoration-color: #008080; font-weight: bold\">48</span>: <span style=\"color: #008000; text-decoration-color: #008000\">'1-143-0'</span>,\n",
       "    <span style=\"color: #008080; text-decoration-color: #008080; font-weight: bold\">49</span>: <span style=\"color: #008000; text-decoration-color: #008000\">'1-144-0'</span>,\n",
       "    <span style=\"color: #008080; text-decoration-color: #008080; font-weight: bold\">50</span>: <span style=\"color: #008000; text-decoration-color: #008000\">'1-145-0'</span>,\n",
       "    <span style=\"color: #008080; text-decoration-color: #008080; font-weight: bold\">51</span>: <span style=\"color: #008000; text-decoration-color: #008000\">'1-146-0'</span>,\n",
       "    <span style=\"color: #008080; text-decoration-color: #008080; font-weight: bold\">52</span>: <span style=\"color: #008000; text-decoration-color: #008000\">'1-149-0'</span>,\n",
       "    <span style=\"color: #008080; text-decoration-color: #008080; font-weight: bold\">53</span>: <span style=\"color: #008000; text-decoration-color: #008000\">'1-151-0'</span>,\n",
       "    <span style=\"color: #008080; text-decoration-color: #008080; font-weight: bold\">54</span>: <span style=\"color: #008000; text-decoration-color: #008000\">'1-157-0'</span>,\n",
       "    <span style=\"color: #008080; text-decoration-color: #008080; font-weight: bold\">55</span>: <span style=\"color: #008000; text-decoration-color: #008000\">'1-158-0'</span>,\n",
       "    <span style=\"color: #008080; text-decoration-color: #008080; font-weight: bold\">56</span>: <span style=\"color: #008000; text-decoration-color: #008000\">'1-159-0'</span>,\n",
       "    <span style=\"color: #008080; text-decoration-color: #008080; font-weight: bold\">57</span>: <span style=\"color: #008000; text-decoration-color: #008000\">'1-160-0'</span>,\n",
       "    <span style=\"color: #008080; text-decoration-color: #008080; font-weight: bold\">58</span>: <span style=\"color: #008000; text-decoration-color: #008000\">'1-163-0'</span>,\n",
       "    <span style=\"color: #008080; text-decoration-color: #008080; font-weight: bold\">59</span>: <span style=\"color: #008000; text-decoration-color: #008000\">'1-166-0'</span>,\n",
       "    <span style=\"color: #008080; text-decoration-color: #008080; font-weight: bold\">60</span>: <span style=\"color: #008000; text-decoration-color: #008000\">'1-167-0'</span>,\n",
       "    <span style=\"color: #008080; text-decoration-color: #008080; font-weight: bold\">61</span>: <span style=\"color: #008000; text-decoration-color: #008000\">'1-168-0'</span>,\n",
       "    <span style=\"color: #008080; text-decoration-color: #008080; font-weight: bold\">62</span>: <span style=\"color: #008000; text-decoration-color: #008000\">'1-169-0'</span>,\n",
       "    <span style=\"color: #008080; text-decoration-color: #008080; font-weight: bold\">63</span>: <span style=\"color: #008000; text-decoration-color: #008000\">'1-170-0'</span>,\n",
       "    <span style=\"color: #008080; text-decoration-color: #008080; font-weight: bold\">64</span>: <span style=\"color: #008000; text-decoration-color: #008000\">'1-171-0'</span>,\n",
       "    <span style=\"color: #008080; text-decoration-color: #008080; font-weight: bold\">65</span>: <span style=\"color: #008000; text-decoration-color: #008000\">'1-173-0'</span>,\n",
       "    <span style=\"color: #008080; text-decoration-color: #008080; font-weight: bold\">66</span>: <span style=\"color: #008000; text-decoration-color: #008000\">'1-175-0'</span>,\n",
       "    <span style=\"color: #008080; text-decoration-color: #008080; font-weight: bold\">67</span>: <span style=\"color: #008000; text-decoration-color: #008000\">'1-176-0'</span>,\n",
       "    <span style=\"color: #008080; text-decoration-color: #008080; font-weight: bold\">68</span>: <span style=\"color: #008000; text-decoration-color: #008000\">'1-179-0'</span>,\n",
       "    <span style=\"color: #008080; text-decoration-color: #008080; font-weight: bold\">69</span>: <span style=\"color: #008000; text-decoration-color: #008000\">'1-182-0'</span>,\n",
       "    <span style=\"color: #008080; text-decoration-color: #008080; font-weight: bold\">70</span>: <span style=\"color: #008000; text-decoration-color: #008000\">'1-183-0'</span>,\n",
       "    <span style=\"color: #008080; text-decoration-color: #008080; font-weight: bold\">71</span>: <span style=\"color: #008000; text-decoration-color: #008000\">'1-184-0'</span>,\n",
       "    <span style=\"color: #008080; text-decoration-color: #008080; font-weight: bold\">72</span>: <span style=\"color: #008000; text-decoration-color: #008000\">'1-185-0'</span>,\n",
       "    <span style=\"color: #008080; text-decoration-color: #008080; font-weight: bold\">73</span>: <span style=\"color: #008000; text-decoration-color: #008000\">'1-186-0'</span>,\n",
       "    <span style=\"color: #008080; text-decoration-color: #008080; font-weight: bold\">74</span>: <span style=\"color: #008000; text-decoration-color: #008000\">'1-188-0'</span>,\n",
       "    <span style=\"color: #008080; text-decoration-color: #008080; font-weight: bold\">75</span>: <span style=\"color: #008000; text-decoration-color: #008000\">'1-190-0'</span>,\n",
       "    <span style=\"color: #008080; text-decoration-color: #008080; font-weight: bold\">76</span>: <span style=\"color: #008000; text-decoration-color: #008000\">'1-191-0'</span>,\n",
       "    <span style=\"color: #008080; text-decoration-color: #008080; font-weight: bold\">77</span>: <span style=\"color: #008000; text-decoration-color: #008000\">'1-194-0'</span>,\n",
       "    <span style=\"color: #008080; text-decoration-color: #008080; font-weight: bold\">78</span>: <span style=\"color: #008000; text-decoration-color: #008000\">'1-195-0'</span>,\n",
       "    <span style=\"color: #008080; text-decoration-color: #008080; font-weight: bold\">79</span>: <span style=\"color: #008000; text-decoration-color: #008000\">'1-197-0'</span>,\n",
       "    <span style=\"color: #008080; text-decoration-color: #008080; font-weight: bold\">80</span>: <span style=\"color: #008000; text-decoration-color: #008000\">'1-198-0'</span>,\n",
       "    <span style=\"color: #008080; text-decoration-color: #008080; font-weight: bold\">81</span>: <span style=\"color: #008000; text-decoration-color: #008000\">'1-202-0'</span>,\n",
       "    <span style=\"color: #008080; text-decoration-color: #008080; font-weight: bold\">82</span>: <span style=\"color: #008000; text-decoration-color: #008000\">'1-203-0'</span>,\n",
       "    <span style=\"color: #008080; text-decoration-color: #008080; font-weight: bold\">83</span>: <span style=\"color: #008000; text-decoration-color: #008000\">'1-204-0'</span>,\n",
       "    <span style=\"color: #008080; text-decoration-color: #008080; font-weight: bold\">84</span>: <span style=\"color: #008000; text-decoration-color: #008000\">'1-205-0'</span>,\n",
       "    <span style=\"color: #008080; text-decoration-color: #008080; font-weight: bold\">85</span>: <span style=\"color: #008000; text-decoration-color: #008000\">'1-206-0'</span>,\n",
       "    <span style=\"color: #008080; text-decoration-color: #008080; font-weight: bold\">86</span>: <span style=\"color: #008000; text-decoration-color: #008000\">'1-208-0'</span>,\n",
       "    <span style=\"color: #008080; text-decoration-color: #008080; font-weight: bold\">87</span>: <span style=\"color: #008000; text-decoration-color: #008000\">'1-210-0'</span>,\n",
       "    <span style=\"color: #008080; text-decoration-color: #008080; font-weight: bold\">88</span>: <span style=\"color: #008000; text-decoration-color: #008000\">'1-213-0'</span>,\n",
       "    <span style=\"color: #008080; text-decoration-color: #008080; font-weight: bold\">89</span>: <span style=\"color: #008000; text-decoration-color: #008000\">'1-214-0'</span>,\n",
       "    <span style=\"color: #008080; text-decoration-color: #008080; font-weight: bold\">90</span>: <span style=\"color: #008000; text-decoration-color: #008000\">'1-217-0'</span>,\n",
       "    <span style=\"color: #008080; text-decoration-color: #008080; font-weight: bold\">91</span>: <span style=\"color: #008000; text-decoration-color: #008000\">'1-218-0'</span>,\n",
       "    <span style=\"color: #008080; text-decoration-color: #008080; font-weight: bold\">92</span>: <span style=\"color: #008000; text-decoration-color: #008000\">'1-220-0'</span>,\n",
       "    <span style=\"color: #008080; text-decoration-color: #008080; font-weight: bold\">93</span>: <span style=\"color: #008000; text-decoration-color: #008000\">'1-223-0'</span>,\n",
       "    <span style=\"color: #008080; text-decoration-color: #008080; font-weight: bold\">94</span>: <span style=\"color: #008000; text-decoration-color: #008000\">'1-224-0'</span>,\n",
       "    <span style=\"color: #008080; text-decoration-color: #008080; font-weight: bold\">95</span>: <span style=\"color: #008000; text-decoration-color: #008000\">'1-225-0'</span>,\n",
       "    <span style=\"color: #008080; text-decoration-color: #008080; font-weight: bold\">96</span>: <span style=\"color: #008000; text-decoration-color: #008000\">'1-228-0'</span>,\n",
       "    <span style=\"color: #008080; text-decoration-color: #008080; font-weight: bold\">97</span>: <span style=\"color: #008000; text-decoration-color: #008000\">'1-229-0'</span>,\n",
       "    <span style=\"color: #008080; text-decoration-color: #008080; font-weight: bold\">98</span>: <span style=\"color: #008000; text-decoration-color: #008000\">'1-230-0'</span>,\n",
       "    <span style=\"color: #008080; text-decoration-color: #008080; font-weight: bold\">99</span>: <span style=\"color: #008000; text-decoration-color: #008000\">'1-232-0'</span>,\n",
       "    <span style=\"color: #008080; text-decoration-color: #008080; font-weight: bold\">100</span>: <span style=\"color: #008000; text-decoration-color: #008000\">'1-234-0'</span>,\n",
       "    <span style=\"color: #008080; text-decoration-color: #008080; font-weight: bold\">101</span>: <span style=\"color: #008000; text-decoration-color: #008000\">'1-237-0'</span>,\n",
       "    <span style=\"color: #008080; text-decoration-color: #008080; font-weight: bold\">102</span>: <span style=\"color: #008000; text-decoration-color: #008000\">'1-238-0'</span>,\n",
       "    <span style=\"color: #008080; text-decoration-color: #008080; font-weight: bold\">103</span>: <span style=\"color: #008000; text-decoration-color: #008000\">'1-240-0'</span>,\n",
       "    <span style=\"color: #008080; text-decoration-color: #008080; font-weight: bold\">104</span>: <span style=\"color: #008000; text-decoration-color: #008000\">'1-242-0'</span>,\n",
       "    <span style=\"color: #008080; text-decoration-color: #008080; font-weight: bold\">105</span>: <span style=\"color: #008000; text-decoration-color: #008000\">'1-243-0'</span>,\n",
       "    <span style=\"color: #008080; text-decoration-color: #008080; font-weight: bold\">106</span>: <span style=\"color: #008000; text-decoration-color: #008000\">'1-244-0'</span>,\n",
       "    <span style=\"color: #008080; text-decoration-color: #008080; font-weight: bold\">107</span>: <span style=\"color: #008000; text-decoration-color: #008000\">'1-246-0'</span>,\n",
       "    <span style=\"color: #008080; text-decoration-color: #008080; font-weight: bold\">108</span>: <span style=\"color: #008000; text-decoration-color: #008000\">'1-247-0'</span>,\n",
       "    <span style=\"color: #008080; text-decoration-color: #008080; font-weight: bold\">109</span>: <span style=\"color: #008000; text-decoration-color: #008000\">'1-248-0'</span>,\n",
       "    <span style=\"color: #008080; text-decoration-color: #008080; font-weight: bold\">110</span>: <span style=\"color: #008000; text-decoration-color: #008000\">'1-249-0'</span>,\n",
       "    <span style=\"color: #008080; text-decoration-color: #008080; font-weight: bold\">111</span>: <span style=\"color: #008000; text-decoration-color: #008000\">'1-252-0'</span>,\n",
       "    <span style=\"color: #008080; text-decoration-color: #008080; font-weight: bold\">112</span>: <span style=\"color: #008000; text-decoration-color: #008000\">'1-254-0'</span>,\n",
       "    <span style=\"color: #008080; text-decoration-color: #008080; font-weight: bold\">113</span>: <span style=\"color: #008000; text-decoration-color: #008000\">'1-255-0'</span>,\n",
       "    <span style=\"color: #008080; text-decoration-color: #008080; font-weight: bold\">114</span>: <span style=\"color: #008000; text-decoration-color: #008000\">'1-256-0'</span>,\n",
       "    <span style=\"color: #008080; text-decoration-color: #008080; font-weight: bold\">115</span>: <span style=\"color: #008000; text-decoration-color: #008000\">'1-260-0'</span>,\n",
       "    <span style=\"color: #008080; text-decoration-color: #008080; font-weight: bold\">116</span>: <span style=\"color: #008000; text-decoration-color: #008000\">'1-261-0'</span>,\n",
       "    <span style=\"color: #008080; text-decoration-color: #008080; font-weight: bold\">117</span>: <span style=\"color: #008000; text-decoration-color: #008000\">'1-263-0'</span>,\n",
       "    <span style=\"color: #008080; text-decoration-color: #008080; font-weight: bold\">118</span>: <span style=\"color: #008000; text-decoration-color: #008000\">'1-264-0'</span>,\n",
       "    <span style=\"color: #008080; text-decoration-color: #008080; font-weight: bold\">119</span>: <span style=\"color: #008000; text-decoration-color: #008000\">'1-265-0'</span>,\n",
       "    <span style=\"color: #008080; text-decoration-color: #008080; font-weight: bold\">120</span>: <span style=\"color: #008000; text-decoration-color: #008000\">'1-268-0'</span>,\n",
       "    <span style=\"color: #008080; text-decoration-color: #008080; font-weight: bold\">121</span>: <span style=\"color: #008000; text-decoration-color: #008000\">'1-269-0'</span>,\n",
       "    <span style=\"color: #008080; text-decoration-color: #008080; font-weight: bold\">122</span>: <span style=\"color: #008000; text-decoration-color: #008000\">'1-271-0'</span>,\n",
       "    <span style=\"color: #008080; text-decoration-color: #008080; font-weight: bold\">123</span>: <span style=\"color: #008000; text-decoration-color: #008000\">'1-272-0'</span>,\n",
       "    <span style=\"color: #008080; text-decoration-color: #008080; font-weight: bold\">124</span>: <span style=\"color: #008000; text-decoration-color: #008000\">'1-274-0'</span>,\n",
       "    <span style=\"color: #008080; text-decoration-color: #008080; font-weight: bold\">125</span>: <span style=\"color: #008000; text-decoration-color: #008000\">'1-276-0'</span>,\n",
       "    <span style=\"color: #008080; text-decoration-color: #008080; font-weight: bold\">126</span>: <span style=\"color: #008000; text-decoration-color: #008000\">'1-278-0'</span>,\n",
       "    <span style=\"color: #008080; text-decoration-color: #008080; font-weight: bold\">127</span>: <span style=\"color: #008000; text-decoration-color: #008000\">'1-280-0'</span>,\n",
       "    <span style=\"color: #008080; text-decoration-color: #008080; font-weight: bold\">128</span>: <span style=\"color: #008000; text-decoration-color: #008000\">'1-282-0'</span>,\n",
       "    <span style=\"color: #008080; text-decoration-color: #008080; font-weight: bold\">129</span>: <span style=\"color: #008000; text-decoration-color: #008000\">'1-283-0'</span>,\n",
       "    <span style=\"color: #008080; text-decoration-color: #008080; font-weight: bold\">130</span>: <span style=\"color: #008000; text-decoration-color: #008000\">'1-284-0'</span>,\n",
       "    <span style=\"color: #008080; text-decoration-color: #008080; font-weight: bold\">131</span>: <span style=\"color: #008000; text-decoration-color: #008000\">'1-286-0'</span>,\n",
       "    <span style=\"color: #008080; text-decoration-color: #008080; font-weight: bold\">132</span>: <span style=\"color: #008000; text-decoration-color: #008000\">'1-287-0'</span>,\n",
       "    <span style=\"color: #008080; text-decoration-color: #008080; font-weight: bold\">133</span>: <span style=\"color: #008000; text-decoration-color: #008000\">'1-288-0'</span>,\n",
       "    <span style=\"color: #008080; text-decoration-color: #008080; font-weight: bold\">134</span>: <span style=\"color: #008000; text-decoration-color: #008000\">'1-289-0'</span>,\n",
       "    <span style=\"color: #008080; text-decoration-color: #008080; font-weight: bold\">135</span>: <span style=\"color: #008000; text-decoration-color: #008000\">'1-290-0'</span>,\n",
       "    <span style=\"color: #008080; text-decoration-color: #008080; font-weight: bold\">136</span>: <span style=\"color: #008000; text-decoration-color: #008000\">'1-294-0'</span>,\n",
       "    <span style=\"color: #008080; text-decoration-color: #008080; font-weight: bold\">137</span>: <span style=\"color: #008000; text-decoration-color: #008000\">'1-295-0'</span>,\n",
       "    <span style=\"color: #008080; text-decoration-color: #008080; font-weight: bold\">138</span>: <span style=\"color: #008000; text-decoration-color: #008000\">'1-297-0'</span>,\n",
       "    <span style=\"color: #008080; text-decoration-color: #008080; font-weight: bold\">139</span>: <span style=\"color: #008000; text-decoration-color: #008000\">'1-298-0'</span>,\n",
       "    <span style=\"color: #008080; text-decoration-color: #008080; font-weight: bold\">140</span>: <span style=\"color: #008000; text-decoration-color: #008000\">'1-299-0'</span>,\n",
       "    <span style=\"color: #008080; text-decoration-color: #008080; font-weight: bold\">141</span>: <span style=\"color: #008000; text-decoration-color: #008000\">'1-301-0'</span>,\n",
       "    <span style=\"color: #008080; text-decoration-color: #008080; font-weight: bold\">142</span>: <span style=\"color: #008000; text-decoration-color: #008000\">'1-302-0'</span>,\n",
       "    <span style=\"color: #008080; text-decoration-color: #008080; font-weight: bold\">143</span>: <span style=\"color: #008000; text-decoration-color: #008000\">'1-303-0'</span>,\n",
       "    <span style=\"color: #008080; text-decoration-color: #008080; font-weight: bold\">144</span>: <span style=\"color: #008000; text-decoration-color: #008000\">'1-306-0'</span>,\n",
       "    <span style=\"color: #008080; text-decoration-color: #008080; font-weight: bold\">145</span>: <span style=\"color: #008000; text-decoration-color: #008000\">'1-307-0'</span>,\n",
       "    <span style=\"color: #008080; text-decoration-color: #008080; font-weight: bold\">146</span>: <span style=\"color: #008000; text-decoration-color: #008000\">'1-309-0'</span>,\n",
       "    <span style=\"color: #008080; text-decoration-color: #008080; font-weight: bold\">147</span>: <span style=\"color: #008000; text-decoration-color: #008000\">'1-310-0'</span>,\n",
       "    <span style=\"color: #008080; text-decoration-color: #008080; font-weight: bold\">148</span>: <span style=\"color: #008000; text-decoration-color: #008000\">'1-312-0'</span>,\n",
       "    <span style=\"color: #008080; text-decoration-color: #008080; font-weight: bold\">149</span>: <span style=\"color: #008000; text-decoration-color: #008000\">'1-314-0'</span>,\n",
       "    <span style=\"color: #008080; text-decoration-color: #008080; font-weight: bold\">150</span>: <span style=\"color: #008000; text-decoration-color: #008000\">'1-315-0'</span>,\n",
       "    <span style=\"color: #008080; text-decoration-color: #008080; font-weight: bold\">151</span>: <span style=\"color: #008000; text-decoration-color: #008000\">'1-316-0'</span>,\n",
       "    <span style=\"color: #008080; text-decoration-color: #008080; font-weight: bold\">152</span>: <span style=\"color: #008000; text-decoration-color: #008000\">'1-317-0'</span>,\n",
       "    <span style=\"color: #008080; text-decoration-color: #008080; font-weight: bold\">153</span>: <span style=\"color: #008000; text-decoration-color: #008000\">'1-319-0'</span>,\n",
       "    <span style=\"color: #008080; text-decoration-color: #008080; font-weight: bold\">154</span>: <span style=\"color: #008000; text-decoration-color: #008000\">'1-322-0'</span>,\n",
       "    <span style=\"color: #008080; text-decoration-color: #008080; font-weight: bold\">155</span>: <span style=\"color: #008000; text-decoration-color: #008000\">'1-323-0'</span>,\n",
       "    <span style=\"color: #008080; text-decoration-color: #008080; font-weight: bold\">156</span>: <span style=\"color: #008000; text-decoration-color: #008000\">'1-324-0'</span>,\n",
       "    <span style=\"color: #008080; text-decoration-color: #008080; font-weight: bold\">157</span>: <span style=\"color: #008000; text-decoration-color: #008000\">'1-325-0'</span>,\n",
       "    <span style=\"color: #008080; text-decoration-color: #008080; font-weight: bold\">158</span>: <span style=\"color: #008000; text-decoration-color: #008000\">'1-327-0'</span>,\n",
       "    <span style=\"color: #008080; text-decoration-color: #008080; font-weight: bold\">159</span>: <span style=\"color: #008000; text-decoration-color: #008000\">'1-328-0'</span>,\n",
       "    <span style=\"color: #008080; text-decoration-color: #008080; font-weight: bold\">160</span>: <span style=\"color: #008000; text-decoration-color: #008000\">'1-330-0'</span>,\n",
       "    <span style=\"color: #008080; text-decoration-color: #008080; font-weight: bold\">161</span>: <span style=\"color: #008000; text-decoration-color: #008000\">'1-331-0'</span>,\n",
       "    <span style=\"color: #008080; text-decoration-color: #008080; font-weight: bold\">162</span>: <span style=\"color: #008000; text-decoration-color: #008000\">'1-332-0'</span>,\n",
       "    <span style=\"color: #008080; text-decoration-color: #008080; font-weight: bold\">163</span>: <span style=\"color: #008000; text-decoration-color: #008000\">'1-334-0'</span>,\n",
       "    <span style=\"color: #008080; text-decoration-color: #008080; font-weight: bold\">164</span>: <span style=\"color: #008000; text-decoration-color: #008000\">'1-336-0'</span>,\n",
       "    <span style=\"color: #008080; text-decoration-color: #008080; font-weight: bold\">165</span>: <span style=\"color: #008000; text-decoration-color: #008000\">'1-337-0'</span>,\n",
       "    <span style=\"color: #008080; text-decoration-color: #008080; font-weight: bold\">166</span>: <span style=\"color: #008000; text-decoration-color: #008000\">'1-339-0'</span>,\n",
       "    <span style=\"color: #008080; text-decoration-color: #008080; font-weight: bold\">167</span>: <span style=\"color: #008000; text-decoration-color: #008000\">'1-341-0'</span>,\n",
       "    <span style=\"color: #008080; text-decoration-color: #008080; font-weight: bold\">168</span>: <span style=\"color: #008000; text-decoration-color: #008000\">'1-342-0'</span>,\n",
       "    <span style=\"color: #008080; text-decoration-color: #008080; font-weight: bold\">169</span>: <span style=\"color: #008000; text-decoration-color: #008000\">'1-344-0'</span>,\n",
       "    <span style=\"color: #008080; text-decoration-color: #008080; font-weight: bold\">170</span>: <span style=\"color: #008000; text-decoration-color: #008000\">'1-346-0'</span>,\n",
       "    <span style=\"color: #008080; text-decoration-color: #008080; font-weight: bold\">171</span>: <span style=\"color: #008000; text-decoration-color: #008000\">'1-347-0'</span>,\n",
       "    <span style=\"color: #008080; text-decoration-color: #008080; font-weight: bold\">172</span>: <span style=\"color: #008000; text-decoration-color: #008000\">'1-348-0'</span>,\n",
       "    <span style=\"color: #008080; text-decoration-color: #008080; font-weight: bold\">173</span>: <span style=\"color: #008000; text-decoration-color: #008000\">'1-349-0'</span>,\n",
       "    <span style=\"color: #008080; text-decoration-color: #008080; font-weight: bold\">174</span>: <span style=\"color: #008000; text-decoration-color: #008000\">'1-351-0'</span>,\n",
       "    <span style=\"color: #008080; text-decoration-color: #008080; font-weight: bold\">175</span>: <span style=\"color: #008000; text-decoration-color: #008000\">'1-353-0'</span>,\n",
       "    <span style=\"color: #008080; text-decoration-color: #008080; font-weight: bold\">176</span>: <span style=\"color: #008000; text-decoration-color: #008000\">'1-354-0'</span>,\n",
       "    <span style=\"color: #008080; text-decoration-color: #008080; font-weight: bold\">177</span>: <span style=\"color: #008000; text-decoration-color: #008000\">'1-356-0'</span>,\n",
       "    <span style=\"color: #008080; text-decoration-color: #008080; font-weight: bold\">178</span>: <span style=\"color: #008000; text-decoration-color: #008000\">'1-357-0'</span>,\n",
       "    <span style=\"color: #008080; text-decoration-color: #008080; font-weight: bold\">179</span>: <span style=\"color: #008000; text-decoration-color: #008000\">'1-358-0'</span>,\n",
       "    <span style=\"color: #008080; text-decoration-color: #008080; font-weight: bold\">180</span>: <span style=\"color: #008000; text-decoration-color: #008000\">'1-360-0'</span>,\n",
       "    <span style=\"color: #008080; text-decoration-color: #008080; font-weight: bold\">181</span>: <span style=\"color: #008000; text-decoration-color: #008000\">'1-362-0'</span>,\n",
       "    <span style=\"color: #008080; text-decoration-color: #008080; font-weight: bold\">182</span>: <span style=\"color: #008000; text-decoration-color: #008000\">'1-364-0'</span>,\n",
       "    <span style=\"color: #008080; text-decoration-color: #008080; font-weight: bold\">183</span>: <span style=\"color: #008000; text-decoration-color: #008000\">'1-365-0'</span>,\n",
       "    <span style=\"color: #008080; text-decoration-color: #008080; font-weight: bold\">184</span>: <span style=\"color: #008000; text-decoration-color: #008000\">'1-366-0'</span>,\n",
       "    <span style=\"color: #008080; text-decoration-color: #008080; font-weight: bold\">185</span>: <span style=\"color: #008000; text-decoration-color: #008000\">'1-367-0'</span>,\n",
       "    <span style=\"color: #008080; text-decoration-color: #008080; font-weight: bold\">186</span>: <span style=\"color: #008000; text-decoration-color: #008000\">'1-368-0'</span>,\n",
       "    <span style=\"color: #008080; text-decoration-color: #008080; font-weight: bold\">187</span>: <span style=\"color: #008000; text-decoration-color: #008000\">'1-369-0'</span>,\n",
       "    <span style=\"color: #008080; text-decoration-color: #008080; font-weight: bold\">188</span>: <span style=\"color: #008000; text-decoration-color: #008000\">'1-373-0'</span>,\n",
       "    <span style=\"color: #008080; text-decoration-color: #008080; font-weight: bold\">189</span>: <span style=\"color: #008000; text-decoration-color: #008000\">'1-374-0'</span>,\n",
       "    <span style=\"color: #008080; text-decoration-color: #008080; font-weight: bold\">190</span>: <span style=\"color: #008000; text-decoration-color: #008000\">'1-375-0'</span>,\n",
       "    <span style=\"color: #008080; text-decoration-color: #008080; font-weight: bold\">191</span>: <span style=\"color: #008000; text-decoration-color: #008000\">'1-376-0'</span>,\n",
       "    <span style=\"color: #008080; text-decoration-color: #008080; font-weight: bold\">192</span>: <span style=\"color: #008000; text-decoration-color: #008000\">'1-377-0'</span>,\n",
       "    <span style=\"color: #008080; text-decoration-color: #008080; font-weight: bold\">193</span>: <span style=\"color: #008000; text-decoration-color: #008000\">'1-378-0'</span>,\n",
       "    <span style=\"color: #008080; text-decoration-color: #008080; font-weight: bold\">194</span>: <span style=\"color: #008000; text-decoration-color: #008000\">'1-380-0'</span>,\n",
       "    <span style=\"color: #008080; text-decoration-color: #008080; font-weight: bold\">195</span>: <span style=\"color: #008000; text-decoration-color: #008000\">'1-382-0'</span>,\n",
       "    <span style=\"color: #008080; text-decoration-color: #008080; font-weight: bold\">196</span>: <span style=\"color: #008000; text-decoration-color: #008000\">'1-383-0'</span>,\n",
       "    <span style=\"color: #008080; text-decoration-color: #008080; font-weight: bold\">197</span>: <span style=\"color: #008000; text-decoration-color: #008000\">'1-384-0'</span>,\n",
       "    <span style=\"color: #008080; text-decoration-color: #008080; font-weight: bold\">198</span>: <span style=\"color: #008000; text-decoration-color: #008000\">'1-385-0'</span>,\n",
       "    <span style=\"color: #008080; text-decoration-color: #008080; font-weight: bold\">199</span>: <span style=\"color: #008000; text-decoration-color: #008000\">'1-386-0'</span>,\n",
       "    <span style=\"color: #008080; text-decoration-color: #008080; font-weight: bold\">200</span>: <span style=\"color: #008000; text-decoration-color: #008000\">'1-388-0'</span>,\n",
       "    <span style=\"color: #008080; text-decoration-color: #008080; font-weight: bold\">201</span>: <span style=\"color: #008000; text-decoration-color: #008000\">'1-390-0'</span>,\n",
       "    <span style=\"color: #008080; text-decoration-color: #008080; font-weight: bold\">202</span>: <span style=\"color: #008000; text-decoration-color: #008000\">'1-392-0'</span>,\n",
       "    <span style=\"color: #008080; text-decoration-color: #008080; font-weight: bold\">203</span>: <span style=\"color: #008000; text-decoration-color: #008000\">'1-393-0'</span>,\n",
       "    <span style=\"color: #008080; text-decoration-color: #008080; font-weight: bold\">204</span>: <span style=\"color: #008000; text-decoration-color: #008000\">'1-395-0'</span>,\n",
       "    <span style=\"color: #008080; text-decoration-color: #008080; font-weight: bold\">205</span>: <span style=\"color: #008000; text-decoration-color: #008000\">'1-396-0'</span>,\n",
       "    <span style=\"color: #008080; text-decoration-color: #008080; font-weight: bold\">206</span>: <span style=\"color: #008000; text-decoration-color: #008000\">'1-397-0'</span>,\n",
       "    <span style=\"color: #008080; text-decoration-color: #008080; font-weight: bold\">207</span>: <span style=\"color: #008000; text-decoration-color: #008000\">'1-398-0'</span>,\n",
       "    <span style=\"color: #008080; text-decoration-color: #008080; font-weight: bold\">208</span>: <span style=\"color: #008000; text-decoration-color: #008000\">'1-401-0'</span>,\n",
       "    <span style=\"color: #008080; text-decoration-color: #008080; font-weight: bold\">209</span>: <span style=\"color: #008000; text-decoration-color: #008000\">'1-403-0'</span>,\n",
       "    <span style=\"color: #008080; text-decoration-color: #008080; font-weight: bold\">210</span>: <span style=\"color: #008000; text-decoration-color: #008000\">'1-404-0'</span>,\n",
       "    <span style=\"color: #008080; text-decoration-color: #008080; font-weight: bold\">211</span>: <span style=\"color: #008000; text-decoration-color: #008000\">'1-405-0'</span>,\n",
       "    <span style=\"color: #008080; text-decoration-color: #008080; font-weight: bold\">212</span>: <span style=\"color: #008000; text-decoration-color: #008000\">'1-406-0'</span>,\n",
       "    <span style=\"color: #008080; text-decoration-color: #008080; font-weight: bold\">213</span>: <span style=\"color: #008000; text-decoration-color: #008000\">'1-408-0'</span>,\n",
       "    <span style=\"color: #008080; text-decoration-color: #008080; font-weight: bold\">214</span>: <span style=\"color: #008000; text-decoration-color: #008000\">'1-409-0'</span>,\n",
       "    <span style=\"color: #008080; text-decoration-color: #008080; font-weight: bold\">215</span>: <span style=\"color: #008000; text-decoration-color: #008000\">'1-411-0'</span>,\n",
       "    <span style=\"color: #008080; text-decoration-color: #008080; font-weight: bold\">216</span>: <span style=\"color: #008000; text-decoration-color: #008000\">'1-412-0'</span>,\n",
       "    <span style=\"color: #008080; text-decoration-color: #008080; font-weight: bold\">217</span>: <span style=\"color: #008000; text-decoration-color: #008000\">'1-413-0'</span>,\n",
       "    <span style=\"color: #008080; text-decoration-color: #008080; font-weight: bold\">218</span>: <span style=\"color: #008000; text-decoration-color: #008000\">'1-415-0'</span>,\n",
       "    <span style=\"color: #008080; text-decoration-color: #008080; font-weight: bold\">219</span>: <span style=\"color: #008000; text-decoration-color: #008000\">'1-416-0'</span>,\n",
       "    <span style=\"color: #008080; text-decoration-color: #008080; font-weight: bold\">220</span>: <span style=\"color: #008000; text-decoration-color: #008000\">'1-417-0'</span>,\n",
       "    <span style=\"color: #008080; text-decoration-color: #008080; font-weight: bold\">221</span>: <span style=\"color: #008000; text-decoration-color: #008000\">'1-418-0'</span>,\n",
       "    <span style=\"color: #008080; text-decoration-color: #008080; font-weight: bold\">222</span>: <span style=\"color: #008000; text-decoration-color: #008000\">'1-422-0'</span>,\n",
       "    <span style=\"color: #008080; text-decoration-color: #008080; font-weight: bold\">223</span>: <span style=\"color: #008000; text-decoration-color: #008000\">'1-423-0'</span>,\n",
       "    <span style=\"color: #008080; text-decoration-color: #008080; font-weight: bold\">224</span>: <span style=\"color: #008000; text-decoration-color: #008000\">'1-424-0'</span>,\n",
       "    <span style=\"color: #008080; text-decoration-color: #008080; font-weight: bold\">225</span>: <span style=\"color: #008000; text-decoration-color: #008000\">'1-426-0'</span>,\n",
       "    <span style=\"color: #008080; text-decoration-color: #008080; font-weight: bold\">226</span>: <span style=\"color: #008000; text-decoration-color: #008000\">'1-428-0'</span>,\n",
       "    <span style=\"color: #008080; text-decoration-color: #008080; font-weight: bold\">227</span>: <span style=\"color: #008000; text-decoration-color: #008000\">'1-429-0'</span>,\n",
       "    <span style=\"color: #008080; text-decoration-color: #008080; font-weight: bold\">228</span>: <span style=\"color: #008000; text-decoration-color: #008000\">'1-430-0'</span>,\n",
       "    <span style=\"color: #008080; text-decoration-color: #008080; font-weight: bold\">229</span>: <span style=\"color: #008000; text-decoration-color: #008000\">'1-431-0'</span>,\n",
       "    <span style=\"color: #008080; text-decoration-color: #008080; font-weight: bold\">230</span>: <span style=\"color: #008000; text-decoration-color: #008000\">'1-432-0'</span>,\n",
       "    <span style=\"color: #008080; text-decoration-color: #008080; font-weight: bold\">231</span>: <span style=\"color: #008000; text-decoration-color: #008000\">'1-433-0'</span>,\n",
       "    <span style=\"color: #008080; text-decoration-color: #008080; font-weight: bold\">232</span>: <span style=\"color: #008000; text-decoration-color: #008000\">'1-436-0'</span>,\n",
       "    <span style=\"color: #008080; text-decoration-color: #008080; font-weight: bold\">233</span>: <span style=\"color: #008000; text-decoration-color: #008000\">'1-439-0'</span>,\n",
       "    <span style=\"color: #008080; text-decoration-color: #008080; font-weight: bold\">234</span>: <span style=\"color: #008000; text-decoration-color: #008000\">'1-440-0'</span>,\n",
       "    <span style=\"color: #008080; text-decoration-color: #008080; font-weight: bold\">235</span>: <span style=\"color: #008000; text-decoration-color: #008000\">'1-441-0'</span>,\n",
       "    <span style=\"color: #008080; text-decoration-color: #008080; font-weight: bold\">236</span>: <span style=\"color: #008000; text-decoration-color: #008000\">'1-442-0'</span>,\n",
       "    <span style=\"color: #008080; text-decoration-color: #008080; font-weight: bold\">237</span>: <span style=\"color: #008000; text-decoration-color: #008000\">'1-443-0'</span>,\n",
       "    <span style=\"color: #008080; text-decoration-color: #008080; font-weight: bold\">238</span>: <span style=\"color: #008000; text-decoration-color: #008000\">'1-445-0'</span>,\n",
       "    <span style=\"color: #008080; text-decoration-color: #008080; font-weight: bold\">239</span>: <span style=\"color: #008000; text-decoration-color: #008000\">'1-446-0'</span>,\n",
       "    <span style=\"color: #008080; text-decoration-color: #008080; font-weight: bold\">240</span>: <span style=\"color: #008000; text-decoration-color: #008000\">'1-447-0'</span>,\n",
       "    <span style=\"color: #008080; text-decoration-color: #008080; font-weight: bold\">241</span>: <span style=\"color: #008000; text-decoration-color: #008000\">'1-448-0'</span>,\n",
       "    <span style=\"color: #008080; text-decoration-color: #008080; font-weight: bold\">242</span>: <span style=\"color: #008000; text-decoration-color: #008000\">'1-450-0'</span>,\n",
       "    <span style=\"color: #008080; text-decoration-color: #008080; font-weight: bold\">243</span>: <span style=\"color: #008000; text-decoration-color: #008000\">'1-451-0'</span>,\n",
       "    <span style=\"color: #008080; text-decoration-color: #008080; font-weight: bold\">244</span>: <span style=\"color: #008000; text-decoration-color: #008000\">'1-454-0'</span>,\n",
       "    <span style=\"color: #008080; text-decoration-color: #008080; font-weight: bold\">245</span>: <span style=\"color: #008000; text-decoration-color: #008000\">'1-456-0'</span>,\n",
       "    <span style=\"color: #008080; text-decoration-color: #008080; font-weight: bold\">246</span>: <span style=\"color: #008000; text-decoration-color: #008000\">'1-458-0'</span>,\n",
       "    <span style=\"color: #008080; text-decoration-color: #008080; font-weight: bold\">247</span>: <span style=\"color: #008000; text-decoration-color: #008000\">'1-460-0'</span>,\n",
       "    <span style=\"color: #008080; text-decoration-color: #008080; font-weight: bold\">248</span>: <span style=\"color: #008000; text-decoration-color: #008000\">'1-461-0'</span>,\n",
       "    <span style=\"color: #008080; text-decoration-color: #008080; font-weight: bold\">249</span>: <span style=\"color: #008000; text-decoration-color: #008000\">'1-462-0'</span>,\n",
       "    <span style=\"color: #008080; text-decoration-color: #008080; font-weight: bold\">250</span>: <span style=\"color: #008000; text-decoration-color: #008000\">'1-463-0'</span>,\n",
       "    <span style=\"color: #008080; text-decoration-color: #008080; font-weight: bold\">251</span>: <span style=\"color: #008000; text-decoration-color: #008000\">'1-465-0'</span>,\n",
       "    <span style=\"color: #008080; text-decoration-color: #008080; font-weight: bold\">252</span>: <span style=\"color: #008000; text-decoration-color: #008000\">'1-466-0'</span>,\n",
       "    <span style=\"color: #008080; text-decoration-color: #008080; font-weight: bold\">253</span>: <span style=\"color: #008000; text-decoration-color: #008000\">'1-467-0'</span>,\n",
       "    <span style=\"color: #008080; text-decoration-color: #008080; font-weight: bold\">254</span>: <span style=\"color: #008000; text-decoration-color: #008000\">'1-468-0'</span>,\n",
       "    <span style=\"color: #008080; text-decoration-color: #008080; font-weight: bold\">255</span>: <span style=\"color: #008000; text-decoration-color: #008000\">'1-469-0'</span>,\n",
       "    <span style=\"color: #008080; text-decoration-color: #008080; font-weight: bold\">256</span>: <span style=\"color: #008000; text-decoration-color: #008000\">'1-470-0'</span>,\n",
       "    <span style=\"color: #008080; text-decoration-color: #008080; font-weight: bold\">257</span>: <span style=\"color: #008000; text-decoration-color: #008000\">'1-475-0'</span>,\n",
       "    <span style=\"color: #008080; text-decoration-color: #008080; font-weight: bold\">258</span>: <span style=\"color: #008000; text-decoration-color: #008000\">'1-476-0'</span>,\n",
       "    <span style=\"color: #008080; text-decoration-color: #008080; font-weight: bold\">259</span>: <span style=\"color: #008000; text-decoration-color: #008000\">'1-478-0'</span>,\n",
       "    <span style=\"color: #008080; text-decoration-color: #008080; font-weight: bold\">260</span>: <span style=\"color: #008000; text-decoration-color: #008000\">'1-480-0'</span>,\n",
       "    <span style=\"color: #008080; text-decoration-color: #008080; font-weight: bold\">261</span>: <span style=\"color: #008000; text-decoration-color: #008000\">'1-481-0'</span>,\n",
       "    <span style=\"color: #008080; text-decoration-color: #008080; font-weight: bold\">262</span>: <span style=\"color: #008000; text-decoration-color: #008000\">'1-482-0'</span>,\n",
       "    <span style=\"color: #008080; text-decoration-color: #008080; font-weight: bold\">263</span>: <span style=\"color: #008000; text-decoration-color: #008000\">'1-483-0'</span>,\n",
       "    <span style=\"color: #008080; text-decoration-color: #008080; font-weight: bold\">264</span>: <span style=\"color: #008000; text-decoration-color: #008000\">'1-487-0'</span>,\n",
       "    <span style=\"color: #008080; text-decoration-color: #008080; font-weight: bold\">265</span>: <span style=\"color: #008000; text-decoration-color: #008000\">'1-489-0'</span>,\n",
       "    <span style=\"color: #008080; text-decoration-color: #008080; font-weight: bold\">266</span>: <span style=\"color: #008000; text-decoration-color: #008000\">'1-490-0'</span>,\n",
       "    <span style=\"color: #008080; text-decoration-color: #008080; font-weight: bold\">267</span>: <span style=\"color: #008000; text-decoration-color: #008000\">'1-491-0'</span>,\n",
       "    <span style=\"color: #008080; text-decoration-color: #008080; font-weight: bold\">268</span>: <span style=\"color: #008000; text-decoration-color: #008000\">'1-492-0'</span>,\n",
       "    <span style=\"color: #008080; text-decoration-color: #008080; font-weight: bold\">269</span>: <span style=\"color: #008000; text-decoration-color: #008000\">'1-496-0'</span>,\n",
       "    <span style=\"color: #008080; text-decoration-color: #008080; font-weight: bold\">270</span>: <span style=\"color: #008000; text-decoration-color: #008000\">'2-56-0'</span>,\n",
       "    <span style=\"color: #008080; text-decoration-color: #008080; font-weight: bold\">271</span>: <span style=\"color: #008000; text-decoration-color: #008000\">'2-57-0'</span>,\n",
       "    <span style=\"color: #008080; text-decoration-color: #008080; font-weight: bold\">272</span>: <span style=\"color: #008000; text-decoration-color: #008000\">'2-59-0'</span>,\n",
       "    <span style=\"color: #008080; text-decoration-color: #008080; font-weight: bold\">273</span>: <span style=\"color: #008000; text-decoration-color: #008000\">'2-60-0'</span>,\n",
       "    <span style=\"color: #008080; text-decoration-color: #008080; font-weight: bold\">274</span>: <span style=\"color: #008000; text-decoration-color: #008000\">'2-66-0'</span>,\n",
       "    <span style=\"color: #008080; text-decoration-color: #008080; font-weight: bold\">275</span>: <span style=\"color: #008000; text-decoration-color: #008000\">'2-69-0'</span>,\n",
       "    <span style=\"color: #008080; text-decoration-color: #008080; font-weight: bold\">276</span>: <span style=\"color: #008000; text-decoration-color: #008000\">'2-70-0'</span>,\n",
       "    <span style=\"color: #008080; text-decoration-color: #008080; font-weight: bold\">277</span>: <span style=\"color: #008000; text-decoration-color: #008000\">'2-71-0'</span>,\n",
       "    <span style=\"color: #008080; text-decoration-color: #008080; font-weight: bold\">278</span>: <span style=\"color: #008000; text-decoration-color: #008000\">'2-72-0'</span>,\n",
       "    <span style=\"color: #008080; text-decoration-color: #008080; font-weight: bold\">279</span>: <span style=\"color: #008000; text-decoration-color: #008000\">'2-74-0'</span>,\n",
       "    <span style=\"color: #008080; text-decoration-color: #008080; font-weight: bold\">280</span>: <span style=\"color: #008000; text-decoration-color: #008000\">'2-75-0'</span>,\n",
       "    <span style=\"color: #008080; text-decoration-color: #008080; font-weight: bold\">281</span>: <span style=\"color: #008000; text-decoration-color: #008000\">'2-77-0'</span>,\n",
       "    <span style=\"color: #008080; text-decoration-color: #008080; font-weight: bold\">282</span>: <span style=\"color: #008000; text-decoration-color: #008000\">'2-78-0'</span>,\n",
       "    <span style=\"color: #008080; text-decoration-color: #008080; font-weight: bold\">283</span>: <span style=\"color: #008000; text-decoration-color: #008000\">'2-80-0'</span>,\n",
       "    <span style=\"color: #008080; text-decoration-color: #008080; font-weight: bold\">284</span>: <span style=\"color: #008000; text-decoration-color: #008000\">'2-84-0'</span>,\n",
       "    <span style=\"color: #008080; text-decoration-color: #008080; font-weight: bold\">285</span>: <span style=\"color: #008000; text-decoration-color: #008000\">'2-86-0'</span>,\n",
       "    <span style=\"color: #008080; text-decoration-color: #008080; font-weight: bold\">286</span>: <span style=\"color: #008000; text-decoration-color: #008000\">'2-89-0'</span>,\n",
       "    <span style=\"color: #008080; text-decoration-color: #008080; font-weight: bold\">287</span>: <span style=\"color: #008000; text-decoration-color: #008000\">'2-91-0'</span>,\n",
       "    <span style=\"color: #008080; text-decoration-color: #008080; font-weight: bold\">288</span>: <span style=\"color: #008000; text-decoration-color: #008000\">'2-93-0'</span>,\n",
       "    <span style=\"color: #008080; text-decoration-color: #008080; font-weight: bold\">289</span>: <span style=\"color: #008000; text-decoration-color: #008000\">'2-94-0'</span>,\n",
       "    <span style=\"color: #008080; text-decoration-color: #008080; font-weight: bold\">290</span>: <span style=\"color: #008000; text-decoration-color: #008000\">'2-95-0'</span>,\n",
       "    <span style=\"color: #008080; text-decoration-color: #008080; font-weight: bold\">291</span>: <span style=\"color: #008000; text-decoration-color: #008000\">'2-96-0'</span>,\n",
       "    <span style=\"color: #008080; text-decoration-color: #008080; font-weight: bold\">292</span>: <span style=\"color: #008000; text-decoration-color: #008000\">'2-97-0'</span>,\n",
       "    <span style=\"color: #008080; text-decoration-color: #008080; font-weight: bold\">293</span>: <span style=\"color: #008000; text-decoration-color: #008000\">'2-98-0'</span>,\n",
       "    <span style=\"color: #008080; text-decoration-color: #008080; font-weight: bold\">294</span>: <span style=\"color: #008000; text-decoration-color: #008000\">'2-100-0'</span>,\n",
       "    <span style=\"color: #008080; text-decoration-color: #008080; font-weight: bold\">295</span>: <span style=\"color: #008000; text-decoration-color: #008000\">'2-101-0'</span>,\n",
       "    <span style=\"color: #008080; text-decoration-color: #008080; font-weight: bold\">296</span>: <span style=\"color: #008000; text-decoration-color: #008000\">'2-103-0'</span>,\n",
       "    <span style=\"color: #008080; text-decoration-color: #008080; font-weight: bold\">297</span>: <span style=\"color: #008000; text-decoration-color: #008000\">'2-108-0'</span>,\n",
       "    <span style=\"color: #008080; text-decoration-color: #008080; font-weight: bold\">298</span>: <span style=\"color: #008000; text-decoration-color: #008000\">'2-110-0'</span>,\n",
       "    <span style=\"color: #008080; text-decoration-color: #008080; font-weight: bold\">299</span>: <span style=\"color: #008000; text-decoration-color: #008000\">'2-112-0'</span>,\n",
       "    <span style=\"color: #008080; text-decoration-color: #008080; font-weight: bold\">300</span>: <span style=\"color: #008000; text-decoration-color: #008000\">'2-114-0'</span>,\n",
       "    <span style=\"color: #008080; text-decoration-color: #008080; font-weight: bold\">301</span>: <span style=\"color: #008000; text-decoration-color: #008000\">'2-115-0'</span>,\n",
       "    <span style=\"color: #008080; text-decoration-color: #008080; font-weight: bold\">302</span>: <span style=\"color: #008000; text-decoration-color: #008000\">'2-116-0'</span>,\n",
       "    <span style=\"color: #008080; text-decoration-color: #008080; font-weight: bold\">303</span>: <span style=\"color: #008000; text-decoration-color: #008000\">'2-117-0'</span>,\n",
       "    <span style=\"color: #008080; text-decoration-color: #008080; font-weight: bold\">304</span>: <span style=\"color: #008000; text-decoration-color: #008000\">'2-118-0'</span>,\n",
       "    <span style=\"color: #008080; text-decoration-color: #008080; font-weight: bold\">305</span>: <span style=\"color: #008000; text-decoration-color: #008000\">'2-119-0'</span>,\n",
       "    <span style=\"color: #008080; text-decoration-color: #008080; font-weight: bold\">306</span>: <span style=\"color: #008000; text-decoration-color: #008000\">'2-120-0'</span>,\n",
       "    <span style=\"color: #008080; text-decoration-color: #008080; font-weight: bold\">307</span>: <span style=\"color: #008000; text-decoration-color: #008000\">'2-121-0'</span>,\n",
       "    <span style=\"color: #008080; text-decoration-color: #008080; font-weight: bold\">308</span>: <span style=\"color: #008000; text-decoration-color: #008000\">'2-122-0'</span>,\n",
       "    <span style=\"color: #008080; text-decoration-color: #008080; font-weight: bold\">309</span>: <span style=\"color: #008000; text-decoration-color: #008000\">'2-123-0'</span>,\n",
       "    <span style=\"color: #008080; text-decoration-color: #008080; font-weight: bold\">310</span>: <span style=\"color: #008000; text-decoration-color: #008000\">'2-132-0'</span>,\n",
       "    <span style=\"color: #008080; text-decoration-color: #008080; font-weight: bold\">311</span>: <span style=\"color: #008000; text-decoration-color: #008000\">'2-133-0'</span>,\n",
       "    <span style=\"color: #008080; text-decoration-color: #008080; font-weight: bold\">312</span>: <span style=\"color: #008000; text-decoration-color: #008000\">'2-134-0'</span>,\n",
       "    <span style=\"color: #008080; text-decoration-color: #008080; font-weight: bold\">313</span>: <span style=\"color: #008000; text-decoration-color: #008000\">'2-137-0'</span>,\n",
       "    <span style=\"color: #008080; text-decoration-color: #008080; font-weight: bold\">314</span>: <span style=\"color: #008000; text-decoration-color: #008000\">'2-138-0'</span>,\n",
       "    <span style=\"color: #008080; text-decoration-color: #008080; font-weight: bold\">315</span>: <span style=\"color: #008000; text-decoration-color: #008000\">'2-139-0'</span>,\n",
       "    <span style=\"color: #008080; text-decoration-color: #008080; font-weight: bold\">316</span>: <span style=\"color: #008000; text-decoration-color: #008000\">'2-141-0'</span>,\n",
       "    <span style=\"color: #008080; text-decoration-color: #008080; font-weight: bold\">317</span>: <span style=\"color: #008000; text-decoration-color: #008000\">'2-142-0'</span>,\n",
       "    <span style=\"color: #008080; text-decoration-color: #008080; font-weight: bold\">318</span>: <span style=\"color: #008000; text-decoration-color: #008000\">'2-143-0'</span>,\n",
       "    <span style=\"color: #008080; text-decoration-color: #008080; font-weight: bold\">319</span>: <span style=\"color: #008000; text-decoration-color: #008000\">'2-144-0'</span>,\n",
       "    <span style=\"color: #008080; text-decoration-color: #008080; font-weight: bold\">320</span>: <span style=\"color: #008000; text-decoration-color: #008000\">'2-145-0'</span>,\n",
       "    <span style=\"color: #008080; text-decoration-color: #008080; font-weight: bold\">321</span>: <span style=\"color: #008000; text-decoration-color: #008000\">'2-146-0'</span>,\n",
       "    <span style=\"color: #008080; text-decoration-color: #008080; font-weight: bold\">322</span>: <span style=\"color: #008000; text-decoration-color: #008000\">'2-149-0'</span>,\n",
       "    <span style=\"color: #008080; text-decoration-color: #008080; font-weight: bold\">323</span>: <span style=\"color: #008000; text-decoration-color: #008000\">'2-151-0'</span>,\n",
       "    <span style=\"color: #008080; text-decoration-color: #008080; font-weight: bold\">324</span>: <span style=\"color: #008000; text-decoration-color: #008000\">'2-157-0'</span>,\n",
       "    <span style=\"color: #008080; text-decoration-color: #008080; font-weight: bold\">325</span>: <span style=\"color: #008000; text-decoration-color: #008000\">'2-158-0'</span>,\n",
       "    <span style=\"color: #008080; text-decoration-color: #008080; font-weight: bold\">326</span>: <span style=\"color: #008000; text-decoration-color: #008000\">'2-159-0'</span>,\n",
       "    <span style=\"color: #008080; text-decoration-color: #008080; font-weight: bold\">327</span>: <span style=\"color: #008000; text-decoration-color: #008000\">'2-160-0'</span>,\n",
       "    <span style=\"color: #008080; text-decoration-color: #008080; font-weight: bold\">328</span>: <span style=\"color: #008000; text-decoration-color: #008000\">'2-163-0'</span>,\n",
       "    <span style=\"color: #008080; text-decoration-color: #008080; font-weight: bold\">329</span>: <span style=\"color: #008000; text-decoration-color: #008000\">'2-166-0'</span>,\n",
       "    <span style=\"color: #008080; text-decoration-color: #008080; font-weight: bold\">330</span>: <span style=\"color: #008000; text-decoration-color: #008000\">'2-167-0'</span>,\n",
       "    <span style=\"color: #008080; text-decoration-color: #008080; font-weight: bold\">331</span>: <span style=\"color: #008000; text-decoration-color: #008000\">'2-168-0'</span>,\n",
       "    <span style=\"color: #008080; text-decoration-color: #008080; font-weight: bold\">332</span>: <span style=\"color: #008000; text-decoration-color: #008000\">'2-169-0'</span>,\n",
       "    <span style=\"color: #008080; text-decoration-color: #008080; font-weight: bold\">333</span>: <span style=\"color: #008000; text-decoration-color: #008000\">'2-170-0'</span>,\n",
       "    <span style=\"color: #008080; text-decoration-color: #008080; font-weight: bold\">334</span>: <span style=\"color: #008000; text-decoration-color: #008000\">'2-171-0'</span>,\n",
       "    <span style=\"color: #008080; text-decoration-color: #008080; font-weight: bold\">335</span>: <span style=\"color: #008000; text-decoration-color: #008000\">'2-173-0'</span>,\n",
       "    <span style=\"color: #008080; text-decoration-color: #008080; font-weight: bold\">336</span>: <span style=\"color: #008000; text-decoration-color: #008000\">'2-175-0'</span>,\n",
       "    <span style=\"color: #008080; text-decoration-color: #008080; font-weight: bold\">337</span>: <span style=\"color: #008000; text-decoration-color: #008000\">'2-176-0'</span>,\n",
       "    <span style=\"color: #008080; text-decoration-color: #008080; font-weight: bold\">338</span>: <span style=\"color: #008000; text-decoration-color: #008000\">'2-179-0'</span>,\n",
       "    <span style=\"color: #008080; text-decoration-color: #008080; font-weight: bold\">339</span>: <span style=\"color: #008000; text-decoration-color: #008000\">'2-182-0'</span>,\n",
       "    <span style=\"color: #008080; text-decoration-color: #008080; font-weight: bold\">340</span>: <span style=\"color: #008000; text-decoration-color: #008000\">'2-183-0'</span>,\n",
       "    <span style=\"color: #008080; text-decoration-color: #008080; font-weight: bold\">341</span>: <span style=\"color: #008000; text-decoration-color: #008000\">'2-184-0'</span>,\n",
       "    <span style=\"color: #008080; text-decoration-color: #008080; font-weight: bold\">342</span>: <span style=\"color: #008000; text-decoration-color: #008000\">'2-185-0'</span>,\n",
       "    <span style=\"color: #008080; text-decoration-color: #008080; font-weight: bold\">343</span>: <span style=\"color: #008000; text-decoration-color: #008000\">'2-186-0'</span>,\n",
       "    <span style=\"color: #008080; text-decoration-color: #008080; font-weight: bold\">344</span>: <span style=\"color: #008000; text-decoration-color: #008000\">'2-188-0'</span>,\n",
       "    <span style=\"color: #008080; text-decoration-color: #008080; font-weight: bold\">345</span>: <span style=\"color: #008000; text-decoration-color: #008000\">'2-190-0'</span>,\n",
       "    <span style=\"color: #008080; text-decoration-color: #008080; font-weight: bold\">346</span>: <span style=\"color: #008000; text-decoration-color: #008000\">'2-191-0'</span>,\n",
       "    <span style=\"color: #008080; text-decoration-color: #008080; font-weight: bold\">347</span>: <span style=\"color: #008000; text-decoration-color: #008000\">'2-194-0'</span>,\n",
       "    <span style=\"color: #008080; text-decoration-color: #008080; font-weight: bold\">348</span>: <span style=\"color: #008000; text-decoration-color: #008000\">'2-195-0'</span>,\n",
       "    <span style=\"color: #008080; text-decoration-color: #008080; font-weight: bold\">349</span>: <span style=\"color: #008000; text-decoration-color: #008000\">'2-197-0'</span>,\n",
       "    <span style=\"color: #008080; text-decoration-color: #008080; font-weight: bold\">350</span>: <span style=\"color: #008000; text-decoration-color: #008000\">'2-198-0'</span>,\n",
       "    <span style=\"color: #008080; text-decoration-color: #008080; font-weight: bold\">351</span>: <span style=\"color: #008000; text-decoration-color: #008000\">'2-202-0'</span>,\n",
       "    <span style=\"color: #008080; text-decoration-color: #008080; font-weight: bold\">352</span>: <span style=\"color: #008000; text-decoration-color: #008000\">'2-203-0'</span>,\n",
       "    <span style=\"color: #008080; text-decoration-color: #008080; font-weight: bold\">353</span>: <span style=\"color: #008000; text-decoration-color: #008000\">'2-204-0'</span>,\n",
       "    <span style=\"color: #008080; text-decoration-color: #008080; font-weight: bold\">354</span>: <span style=\"color: #008000; text-decoration-color: #008000\">'2-205-0'</span>,\n",
       "    <span style=\"color: #008080; text-decoration-color: #008080; font-weight: bold\">355</span>: <span style=\"color: #008000; text-decoration-color: #008000\">'2-206-0'</span>,\n",
       "    <span style=\"color: #008080; text-decoration-color: #008080; font-weight: bold\">356</span>: <span style=\"color: #008000; text-decoration-color: #008000\">'2-208-0'</span>,\n",
       "    <span style=\"color: #008080; text-decoration-color: #008080; font-weight: bold\">357</span>: <span style=\"color: #008000; text-decoration-color: #008000\">'2-210-0'</span>,\n",
       "    <span style=\"color: #008080; text-decoration-color: #008080; font-weight: bold\">358</span>: <span style=\"color: #008000; text-decoration-color: #008000\">'2-213-0'</span>,\n",
       "    <span style=\"color: #008080; text-decoration-color: #008080; font-weight: bold\">359</span>: <span style=\"color: #008000; text-decoration-color: #008000\">'2-214-0'</span>,\n",
       "    <span style=\"color: #008080; text-decoration-color: #008080; font-weight: bold\">360</span>: <span style=\"color: #008000; text-decoration-color: #008000\">'2-217-0'</span>,\n",
       "    <span style=\"color: #008080; text-decoration-color: #008080; font-weight: bold\">361</span>: <span style=\"color: #008000; text-decoration-color: #008000\">'2-218-0'</span>,\n",
       "    <span style=\"color: #008080; text-decoration-color: #008080; font-weight: bold\">362</span>: <span style=\"color: #008000; text-decoration-color: #008000\">'2-220-0'</span>,\n",
       "    <span style=\"color: #008080; text-decoration-color: #008080; font-weight: bold\">363</span>: <span style=\"color: #008000; text-decoration-color: #008000\">'2-223-0'</span>,\n",
       "    <span style=\"color: #008080; text-decoration-color: #008080; font-weight: bold\">364</span>: <span style=\"color: #008000; text-decoration-color: #008000\">'2-224-0'</span>,\n",
       "    <span style=\"color: #008080; text-decoration-color: #008080; font-weight: bold\">365</span>: <span style=\"color: #008000; text-decoration-color: #008000\">'2-225-0'</span>,\n",
       "    <span style=\"color: #008080; text-decoration-color: #008080; font-weight: bold\">366</span>: <span style=\"color: #008000; text-decoration-color: #008000\">'2-228-0'</span>,\n",
       "    <span style=\"color: #008080; text-decoration-color: #008080; font-weight: bold\">367</span>: <span style=\"color: #008000; text-decoration-color: #008000\">'2-229-0'</span>,\n",
       "    <span style=\"color: #008080; text-decoration-color: #008080; font-weight: bold\">368</span>: <span style=\"color: #008000; text-decoration-color: #008000\">'2-230-0'</span>,\n",
       "    <span style=\"color: #008080; text-decoration-color: #008080; font-weight: bold\">369</span>: <span style=\"color: #008000; text-decoration-color: #008000\">'2-232-0'</span>,\n",
       "    <span style=\"color: #008080; text-decoration-color: #008080; font-weight: bold\">370</span>: <span style=\"color: #008000; text-decoration-color: #008000\">'2-234-0'</span>,\n",
       "    <span style=\"color: #008080; text-decoration-color: #008080; font-weight: bold\">371</span>: <span style=\"color: #008000; text-decoration-color: #008000\">'2-237-0'</span>,\n",
       "    <span style=\"color: #008080; text-decoration-color: #008080; font-weight: bold\">372</span>: <span style=\"color: #008000; text-decoration-color: #008000\">'2-238-0'</span>,\n",
       "    <span style=\"color: #008080; text-decoration-color: #008080; font-weight: bold\">373</span>: <span style=\"color: #008000; text-decoration-color: #008000\">'2-240-0'</span>,\n",
       "    <span style=\"color: #008080; text-decoration-color: #008080; font-weight: bold\">374</span>: <span style=\"color: #008000; text-decoration-color: #008000\">'2-242-0'</span>,\n",
       "    <span style=\"color: #008080; text-decoration-color: #008080; font-weight: bold\">375</span>: <span style=\"color: #008000; text-decoration-color: #008000\">'2-243-0'</span>,\n",
       "    <span style=\"color: #008080; text-decoration-color: #008080; font-weight: bold\">376</span>: <span style=\"color: #008000; text-decoration-color: #008000\">'2-244-0'</span>,\n",
       "    <span style=\"color: #008080; text-decoration-color: #008080; font-weight: bold\">377</span>: <span style=\"color: #008000; text-decoration-color: #008000\">'2-246-0'</span>,\n",
       "    <span style=\"color: #008080; text-decoration-color: #008080; font-weight: bold\">378</span>: <span style=\"color: #008000; text-decoration-color: #008000\">'2-247-0'</span>,\n",
       "    <span style=\"color: #008080; text-decoration-color: #008080; font-weight: bold\">379</span>: <span style=\"color: #008000; text-decoration-color: #008000\">'2-248-0'</span>,\n",
       "    <span style=\"color: #008080; text-decoration-color: #008080; font-weight: bold\">380</span>: <span style=\"color: #008000; text-decoration-color: #008000\">'2-249-0'</span>,\n",
       "    <span style=\"color: #008080; text-decoration-color: #008080; font-weight: bold\">381</span>: <span style=\"color: #008000; text-decoration-color: #008000\">'2-252-0'</span>,\n",
       "    <span style=\"color: #008080; text-decoration-color: #008080; font-weight: bold\">382</span>: <span style=\"color: #008000; text-decoration-color: #008000\">'2-254-0'</span>,\n",
       "    <span style=\"color: #008080; text-decoration-color: #008080; font-weight: bold\">383</span>: <span style=\"color: #008000; text-decoration-color: #008000\">'2-255-0'</span>,\n",
       "    <span style=\"color: #008080; text-decoration-color: #008080; font-weight: bold\">384</span>: <span style=\"color: #008000; text-decoration-color: #008000\">'2-256-0'</span>,\n",
       "    <span style=\"color: #008080; text-decoration-color: #008080; font-weight: bold\">385</span>: <span style=\"color: #008000; text-decoration-color: #008000\">'2-260-0'</span>,\n",
       "    <span style=\"color: #008080; text-decoration-color: #008080; font-weight: bold\">386</span>: <span style=\"color: #008000; text-decoration-color: #008000\">'2-261-0'</span>,\n",
       "    <span style=\"color: #008080; text-decoration-color: #008080; font-weight: bold\">387</span>: <span style=\"color: #008000; text-decoration-color: #008000\">'2-263-0'</span>,\n",
       "    <span style=\"color: #008080; text-decoration-color: #008080; font-weight: bold\">388</span>: <span style=\"color: #008000; text-decoration-color: #008000\">'2-264-0'</span>,\n",
       "    <span style=\"color: #008080; text-decoration-color: #008080; font-weight: bold\">389</span>: <span style=\"color: #008000; text-decoration-color: #008000\">'2-265-0'</span>,\n",
       "    <span style=\"color: #008080; text-decoration-color: #008080; font-weight: bold\">390</span>: <span style=\"color: #008000; text-decoration-color: #008000\">'2-268-0'</span>,\n",
       "    <span style=\"color: #008080; text-decoration-color: #008080; font-weight: bold\">391</span>: <span style=\"color: #008000; text-decoration-color: #008000\">'2-269-0'</span>,\n",
       "    <span style=\"color: #008080; text-decoration-color: #008080; font-weight: bold\">392</span>: <span style=\"color: #008000; text-decoration-color: #008000\">'2-271-0'</span>,\n",
       "    <span style=\"color: #008080; text-decoration-color: #008080; font-weight: bold\">393</span>: <span style=\"color: #008000; text-decoration-color: #008000\">'2-272-0'</span>,\n",
       "    <span style=\"color: #008080; text-decoration-color: #008080; font-weight: bold\">394</span>: <span style=\"color: #008000; text-decoration-color: #008000\">'2-274-0'</span>,\n",
       "    <span style=\"color: #008080; text-decoration-color: #008080; font-weight: bold\">395</span>: <span style=\"color: #008000; text-decoration-color: #008000\">'2-276-0'</span>,\n",
       "    <span style=\"color: #008080; text-decoration-color: #008080; font-weight: bold\">396</span>: <span style=\"color: #008000; text-decoration-color: #008000\">'2-278-0'</span>,\n",
       "    <span style=\"color: #008080; text-decoration-color: #008080; font-weight: bold\">397</span>: <span style=\"color: #008000; text-decoration-color: #008000\">'2-280-0'</span>,\n",
       "    <span style=\"color: #008080; text-decoration-color: #008080; font-weight: bold\">398</span>: <span style=\"color: #008000; text-decoration-color: #008000\">'2-282-0'</span>,\n",
       "    <span style=\"color: #008080; text-decoration-color: #008080; font-weight: bold\">399</span>: <span style=\"color: #008000; text-decoration-color: #008000\">'2-283-0'</span>,\n",
       "    <span style=\"color: #008080; text-decoration-color: #008080; font-weight: bold\">400</span>: <span style=\"color: #008000; text-decoration-color: #008000\">'2-284-0'</span>,\n",
       "    <span style=\"color: #008080; text-decoration-color: #008080; font-weight: bold\">401</span>: <span style=\"color: #008000; text-decoration-color: #008000\">'2-286-0'</span>,\n",
       "    <span style=\"color: #008080; text-decoration-color: #008080; font-weight: bold\">402</span>: <span style=\"color: #008000; text-decoration-color: #008000\">'2-287-0'</span>,\n",
       "    <span style=\"color: #008080; text-decoration-color: #008080; font-weight: bold\">403</span>: <span style=\"color: #008000; text-decoration-color: #008000\">'2-288-0'</span>,\n",
       "    <span style=\"color: #008080; text-decoration-color: #008080; font-weight: bold\">404</span>: <span style=\"color: #008000; text-decoration-color: #008000\">'2-289-0'</span>,\n",
       "    <span style=\"color: #008080; text-decoration-color: #008080; font-weight: bold\">405</span>: <span style=\"color: #008000; text-decoration-color: #008000\">'2-290-0'</span>,\n",
       "    <span style=\"color: #008080; text-decoration-color: #008080; font-weight: bold\">406</span>: <span style=\"color: #008000; text-decoration-color: #008000\">'2-294-0'</span>,\n",
       "    <span style=\"color: #008080; text-decoration-color: #008080; font-weight: bold\">407</span>: <span style=\"color: #008000; text-decoration-color: #008000\">'2-295-0'</span>,\n",
       "    <span style=\"color: #008080; text-decoration-color: #008080; font-weight: bold\">408</span>: <span style=\"color: #008000; text-decoration-color: #008000\">'2-297-0'</span>,\n",
       "    <span style=\"color: #008080; text-decoration-color: #008080; font-weight: bold\">409</span>: <span style=\"color: #008000; text-decoration-color: #008000\">'2-298-0'</span>,\n",
       "    <span style=\"color: #008080; text-decoration-color: #008080; font-weight: bold\">410</span>: <span style=\"color: #008000; text-decoration-color: #008000\">'2-299-0'</span>,\n",
       "    <span style=\"color: #008080; text-decoration-color: #008080; font-weight: bold\">411</span>: <span style=\"color: #008000; text-decoration-color: #008000\">'2-301-0'</span>,\n",
       "    <span style=\"color: #008080; text-decoration-color: #008080; font-weight: bold\">412</span>: <span style=\"color: #008000; text-decoration-color: #008000\">'2-302-0'</span>,\n",
       "    <span style=\"color: #008080; text-decoration-color: #008080; font-weight: bold\">413</span>: <span style=\"color: #008000; text-decoration-color: #008000\">'2-303-0'</span>,\n",
       "    <span style=\"color: #008080; text-decoration-color: #008080; font-weight: bold\">414</span>: <span style=\"color: #008000; text-decoration-color: #008000\">'2-306-0'</span>,\n",
       "    <span style=\"color: #008080; text-decoration-color: #008080; font-weight: bold\">415</span>: <span style=\"color: #008000; text-decoration-color: #008000\">'2-307-0'</span>,\n",
       "    <span style=\"color: #008080; text-decoration-color: #008080; font-weight: bold\">416</span>: <span style=\"color: #008000; text-decoration-color: #008000\">'2-309-0'</span>,\n",
       "    <span style=\"color: #008080; text-decoration-color: #008080; font-weight: bold\">417</span>: <span style=\"color: #008000; text-decoration-color: #008000\">'2-310-0'</span>,\n",
       "    <span style=\"color: #008080; text-decoration-color: #008080; font-weight: bold\">418</span>: <span style=\"color: #008000; text-decoration-color: #008000\">'2-312-0'</span>,\n",
       "    <span style=\"color: #008080; text-decoration-color: #008080; font-weight: bold\">419</span>: <span style=\"color: #008000; text-decoration-color: #008000\">'2-314-0'</span>,\n",
       "    <span style=\"color: #008080; text-decoration-color: #008080; font-weight: bold\">420</span>: <span style=\"color: #008000; text-decoration-color: #008000\">'2-315-0'</span>,\n",
       "    <span style=\"color: #008080; text-decoration-color: #008080; font-weight: bold\">421</span>: <span style=\"color: #008000; text-decoration-color: #008000\">'2-316-0'</span>,\n",
       "    <span style=\"color: #008080; text-decoration-color: #008080; font-weight: bold\">422</span>: <span style=\"color: #008000; text-decoration-color: #008000\">'2-317-0'</span>,\n",
       "    <span style=\"color: #008080; text-decoration-color: #008080; font-weight: bold\">423</span>: <span style=\"color: #008000; text-decoration-color: #008000\">'2-319-0'</span>,\n",
       "    <span style=\"color: #008080; text-decoration-color: #008080; font-weight: bold\">424</span>: <span style=\"color: #008000; text-decoration-color: #008000\">'2-322-0'</span>,\n",
       "    <span style=\"color: #008080; text-decoration-color: #008080; font-weight: bold\">425</span>: <span style=\"color: #008000; text-decoration-color: #008000\">'2-323-0'</span>,\n",
       "    <span style=\"color: #008080; text-decoration-color: #008080; font-weight: bold\">426</span>: <span style=\"color: #008000; text-decoration-color: #008000\">'2-324-0'</span>,\n",
       "    <span style=\"color: #008080; text-decoration-color: #008080; font-weight: bold\">427</span>: <span style=\"color: #008000; text-decoration-color: #008000\">'2-325-0'</span>,\n",
       "    <span style=\"color: #008080; text-decoration-color: #008080; font-weight: bold\">428</span>: <span style=\"color: #008000; text-decoration-color: #008000\">'2-327-0'</span>,\n",
       "    <span style=\"color: #008080; text-decoration-color: #008080; font-weight: bold\">429</span>: <span style=\"color: #008000; text-decoration-color: #008000\">'2-328-0'</span>,\n",
       "    <span style=\"color: #008080; text-decoration-color: #008080; font-weight: bold\">430</span>: <span style=\"color: #008000; text-decoration-color: #008000\">'2-330-0'</span>,\n",
       "    <span style=\"color: #008080; text-decoration-color: #008080; font-weight: bold\">431</span>: <span style=\"color: #008000; text-decoration-color: #008000\">'2-331-0'</span>,\n",
       "    <span style=\"color: #008080; text-decoration-color: #008080; font-weight: bold\">432</span>: <span style=\"color: #008000; text-decoration-color: #008000\">'2-332-0'</span>,\n",
       "    <span style=\"color: #008080; text-decoration-color: #008080; font-weight: bold\">433</span>: <span style=\"color: #008000; text-decoration-color: #008000\">'2-334-0'</span>,\n",
       "    <span style=\"color: #008080; text-decoration-color: #008080; font-weight: bold\">434</span>: <span style=\"color: #008000; text-decoration-color: #008000\">'2-336-0'</span>,\n",
       "    <span style=\"color: #008080; text-decoration-color: #008080; font-weight: bold\">435</span>: <span style=\"color: #008000; text-decoration-color: #008000\">'2-337-0'</span>,\n",
       "    <span style=\"color: #008080; text-decoration-color: #008080; font-weight: bold\">436</span>: <span style=\"color: #008000; text-decoration-color: #008000\">'2-339-0'</span>,\n",
       "    <span style=\"color: #008080; text-decoration-color: #008080; font-weight: bold\">437</span>: <span style=\"color: #008000; text-decoration-color: #008000\">'2-341-0'</span>,\n",
       "    <span style=\"color: #008080; text-decoration-color: #008080; font-weight: bold\">438</span>: <span style=\"color: #008000; text-decoration-color: #008000\">'2-342-0'</span>,\n",
       "    <span style=\"color: #008080; text-decoration-color: #008080; font-weight: bold\">439</span>: <span style=\"color: #008000; text-decoration-color: #008000\">'2-344-0'</span>,\n",
       "    <span style=\"color: #008080; text-decoration-color: #008080; font-weight: bold\">440</span>: <span style=\"color: #008000; text-decoration-color: #008000\">'2-346-0'</span>,\n",
       "    <span style=\"color: #008080; text-decoration-color: #008080; font-weight: bold\">441</span>: <span style=\"color: #008000; text-decoration-color: #008000\">'2-347-0'</span>,\n",
       "    <span style=\"color: #008080; text-decoration-color: #008080; font-weight: bold\">442</span>: <span style=\"color: #008000; text-decoration-color: #008000\">'2-348-0'</span>,\n",
       "    <span style=\"color: #008080; text-decoration-color: #008080; font-weight: bold\">443</span>: <span style=\"color: #008000; text-decoration-color: #008000\">'2-349-0'</span>,\n",
       "    <span style=\"color: #008080; text-decoration-color: #008080; font-weight: bold\">444</span>: <span style=\"color: #008000; text-decoration-color: #008000\">'2-351-0'</span>,\n",
       "    <span style=\"color: #008080; text-decoration-color: #008080; font-weight: bold\">445</span>: <span style=\"color: #008000; text-decoration-color: #008000\">'2-353-0'</span>,\n",
       "    <span style=\"color: #008080; text-decoration-color: #008080; font-weight: bold\">446</span>: <span style=\"color: #008000; text-decoration-color: #008000\">'2-354-0'</span>,\n",
       "    <span style=\"color: #008080; text-decoration-color: #008080; font-weight: bold\">447</span>: <span style=\"color: #008000; text-decoration-color: #008000\">'2-356-0'</span>,\n",
       "    <span style=\"color: #008080; text-decoration-color: #008080; font-weight: bold\">448</span>: <span style=\"color: #008000; text-decoration-color: #008000\">'2-357-0'</span>,\n",
       "    <span style=\"color: #008080; text-decoration-color: #008080; font-weight: bold\">449</span>: <span style=\"color: #008000; text-decoration-color: #008000\">'2-358-0'</span>,\n",
       "    <span style=\"color: #008080; text-decoration-color: #008080; font-weight: bold\">450</span>: <span style=\"color: #008000; text-decoration-color: #008000\">'2-360-0'</span>,\n",
       "    <span style=\"color: #008080; text-decoration-color: #008080; font-weight: bold\">451</span>: <span style=\"color: #008000; text-decoration-color: #008000\">'2-362-0'</span>,\n",
       "    <span style=\"color: #008080; text-decoration-color: #008080; font-weight: bold\">452</span>: <span style=\"color: #008000; text-decoration-color: #008000\">'2-364-0'</span>,\n",
       "    <span style=\"color: #008080; text-decoration-color: #008080; font-weight: bold\">453</span>: <span style=\"color: #008000; text-decoration-color: #008000\">'2-365-0'</span>,\n",
       "    <span style=\"color: #008080; text-decoration-color: #008080; font-weight: bold\">454</span>: <span style=\"color: #008000; text-decoration-color: #008000\">'2-366-0'</span>,\n",
       "    <span style=\"color: #008080; text-decoration-color: #008080; font-weight: bold\">455</span>: <span style=\"color: #008000; text-decoration-color: #008000\">'2-367-0'</span>,\n",
       "    <span style=\"color: #008080; text-decoration-color: #008080; font-weight: bold\">456</span>: <span style=\"color: #008000; text-decoration-color: #008000\">'2-368-0'</span>,\n",
       "    <span style=\"color: #008080; text-decoration-color: #008080; font-weight: bold\">457</span>: <span style=\"color: #008000; text-decoration-color: #008000\">'2-369-0'</span>,\n",
       "    <span style=\"color: #008080; text-decoration-color: #008080; font-weight: bold\">458</span>: <span style=\"color: #008000; text-decoration-color: #008000\">'2-373-0'</span>,\n",
       "    <span style=\"color: #008080; text-decoration-color: #008080; font-weight: bold\">459</span>: <span style=\"color: #008000; text-decoration-color: #008000\">'2-374-0'</span>,\n",
       "    <span style=\"color: #008080; text-decoration-color: #008080; font-weight: bold\">460</span>: <span style=\"color: #008000; text-decoration-color: #008000\">'2-375-0'</span>,\n",
       "    <span style=\"color: #008080; text-decoration-color: #008080; font-weight: bold\">461</span>: <span style=\"color: #008000; text-decoration-color: #008000\">'2-376-0'</span>,\n",
       "    <span style=\"color: #008080; text-decoration-color: #008080; font-weight: bold\">462</span>: <span style=\"color: #008000; text-decoration-color: #008000\">'2-377-0'</span>,\n",
       "    <span style=\"color: #008080; text-decoration-color: #008080; font-weight: bold\">463</span>: <span style=\"color: #008000; text-decoration-color: #008000\">'2-378-0'</span>,\n",
       "    <span style=\"color: #008080; text-decoration-color: #008080; font-weight: bold\">464</span>: <span style=\"color: #008000; text-decoration-color: #008000\">'2-380-0'</span>,\n",
       "    <span style=\"color: #008080; text-decoration-color: #008080; font-weight: bold\">465</span>: <span style=\"color: #008000; text-decoration-color: #008000\">'2-382-0'</span>,\n",
       "    <span style=\"color: #008080; text-decoration-color: #008080; font-weight: bold\">466</span>: <span style=\"color: #008000; text-decoration-color: #008000\">'2-383-0'</span>,\n",
       "    <span style=\"color: #008080; text-decoration-color: #008080; font-weight: bold\">467</span>: <span style=\"color: #008000; text-decoration-color: #008000\">'2-384-0'</span>,\n",
       "    <span style=\"color: #008080; text-decoration-color: #008080; font-weight: bold\">468</span>: <span style=\"color: #008000; text-decoration-color: #008000\">'2-385-0'</span>,\n",
       "    <span style=\"color: #008080; text-decoration-color: #008080; font-weight: bold\">469</span>: <span style=\"color: #008000; text-decoration-color: #008000\">'2-386-0'</span>,\n",
       "    <span style=\"color: #008080; text-decoration-color: #008080; font-weight: bold\">470</span>: <span style=\"color: #008000; text-decoration-color: #008000\">'2-388-0'</span>,\n",
       "    <span style=\"color: #008080; text-decoration-color: #008080; font-weight: bold\">471</span>: <span style=\"color: #008000; text-decoration-color: #008000\">'2-390-0'</span>,\n",
       "    <span style=\"color: #008080; text-decoration-color: #008080; font-weight: bold\">472</span>: <span style=\"color: #008000; text-decoration-color: #008000\">'2-392-0'</span>,\n",
       "    <span style=\"color: #008080; text-decoration-color: #008080; font-weight: bold\">473</span>: <span style=\"color: #008000; text-decoration-color: #008000\">'2-393-0'</span>,\n",
       "    <span style=\"color: #008080; text-decoration-color: #008080; font-weight: bold\">474</span>: <span style=\"color: #008000; text-decoration-color: #008000\">'2-395-0'</span>,\n",
       "    <span style=\"color: #008080; text-decoration-color: #008080; font-weight: bold\">475</span>: <span style=\"color: #008000; text-decoration-color: #008000\">'2-396-0'</span>,\n",
       "    <span style=\"color: #008080; text-decoration-color: #008080; font-weight: bold\">476</span>: <span style=\"color: #008000; text-decoration-color: #008000\">'2-397-0'</span>,\n",
       "    <span style=\"color: #008080; text-decoration-color: #008080; font-weight: bold\">477</span>: <span style=\"color: #008000; text-decoration-color: #008000\">'2-398-0'</span>,\n",
       "    <span style=\"color: #008080; text-decoration-color: #008080; font-weight: bold\">478</span>: <span style=\"color: #008000; text-decoration-color: #008000\">'2-401-0'</span>,\n",
       "    <span style=\"color: #008080; text-decoration-color: #008080; font-weight: bold\">479</span>: <span style=\"color: #008000; text-decoration-color: #008000\">'2-403-0'</span>,\n",
       "    <span style=\"color: #008080; text-decoration-color: #008080; font-weight: bold\">480</span>: <span style=\"color: #008000; text-decoration-color: #008000\">'2-404-0'</span>,\n",
       "    <span style=\"color: #008080; text-decoration-color: #008080; font-weight: bold\">481</span>: <span style=\"color: #008000; text-decoration-color: #008000\">'2-405-0'</span>,\n",
       "    <span style=\"color: #008080; text-decoration-color: #008080; font-weight: bold\">482</span>: <span style=\"color: #008000; text-decoration-color: #008000\">'2-406-0'</span>,\n",
       "    <span style=\"color: #008080; text-decoration-color: #008080; font-weight: bold\">483</span>: <span style=\"color: #008000; text-decoration-color: #008000\">'2-408-0'</span>,\n",
       "    <span style=\"color: #008080; text-decoration-color: #008080; font-weight: bold\">484</span>: <span style=\"color: #008000; text-decoration-color: #008000\">'2-409-0'</span>,\n",
       "    <span style=\"color: #008080; text-decoration-color: #008080; font-weight: bold\">485</span>: <span style=\"color: #008000; text-decoration-color: #008000\">'2-411-0'</span>,\n",
       "    <span style=\"color: #008080; text-decoration-color: #008080; font-weight: bold\">486</span>: <span style=\"color: #008000; text-decoration-color: #008000\">'2-412-0'</span>,\n",
       "    <span style=\"color: #008080; text-decoration-color: #008080; font-weight: bold\">487</span>: <span style=\"color: #008000; text-decoration-color: #008000\">'2-413-0'</span>,\n",
       "    <span style=\"color: #008080; text-decoration-color: #008080; font-weight: bold\">488</span>: <span style=\"color: #008000; text-decoration-color: #008000\">'2-415-0'</span>,\n",
       "    <span style=\"color: #008080; text-decoration-color: #008080; font-weight: bold\">489</span>: <span style=\"color: #008000; text-decoration-color: #008000\">'2-416-0'</span>,\n",
       "    <span style=\"color: #008080; text-decoration-color: #008080; font-weight: bold\">490</span>: <span style=\"color: #008000; text-decoration-color: #008000\">'2-417-0'</span>,\n",
       "    <span style=\"color: #008080; text-decoration-color: #008080; font-weight: bold\">491</span>: <span style=\"color: #008000; text-decoration-color: #008000\">'2-418-0'</span>,\n",
       "    <span style=\"color: #008080; text-decoration-color: #008080; font-weight: bold\">492</span>: <span style=\"color: #008000; text-decoration-color: #008000\">'2-422-0'</span>,\n",
       "    <span style=\"color: #008080; text-decoration-color: #008080; font-weight: bold\">493</span>: <span style=\"color: #008000; text-decoration-color: #008000\">'2-423-0'</span>,\n",
       "    <span style=\"color: #008080; text-decoration-color: #008080; font-weight: bold\">494</span>: <span style=\"color: #008000; text-decoration-color: #008000\">'2-424-0'</span>,\n",
       "    <span style=\"color: #008080; text-decoration-color: #008080; font-weight: bold\">495</span>: <span style=\"color: #008000; text-decoration-color: #008000\">'2-426-0'</span>,\n",
       "    <span style=\"color: #008080; text-decoration-color: #008080; font-weight: bold\">496</span>: <span style=\"color: #008000; text-decoration-color: #008000\">'2-428-0'</span>,\n",
       "    <span style=\"color: #008080; text-decoration-color: #008080; font-weight: bold\">497</span>: <span style=\"color: #008000; text-decoration-color: #008000\">'2-429-0'</span>,\n",
       "    <span style=\"color: #008080; text-decoration-color: #008080; font-weight: bold\">498</span>: <span style=\"color: #008000; text-decoration-color: #008000\">'2-430-0'</span>,\n",
       "    <span style=\"color: #008080; text-decoration-color: #008080; font-weight: bold\">499</span>: <span style=\"color: #008000; text-decoration-color: #008000\">'2-431-0'</span>,\n",
       "    <span style=\"color: #008080; text-decoration-color: #008080; font-weight: bold\">500</span>: <span style=\"color: #008000; text-decoration-color: #008000\">'2-432-0'</span>,\n",
       "    <span style=\"color: #008080; text-decoration-color: #008080; font-weight: bold\">501</span>: <span style=\"color: #008000; text-decoration-color: #008000\">'2-433-0'</span>,\n",
       "    <span style=\"color: #008080; text-decoration-color: #008080; font-weight: bold\">502</span>: <span style=\"color: #008000; text-decoration-color: #008000\">'2-436-0'</span>,\n",
       "    <span style=\"color: #008080; text-decoration-color: #008080; font-weight: bold\">503</span>: <span style=\"color: #008000; text-decoration-color: #008000\">'2-439-0'</span>,\n",
       "    <span style=\"color: #008080; text-decoration-color: #008080; font-weight: bold\">504</span>: <span style=\"color: #008000; text-decoration-color: #008000\">'2-440-0'</span>,\n",
       "    <span style=\"color: #008080; text-decoration-color: #008080; font-weight: bold\">505</span>: <span style=\"color: #008000; text-decoration-color: #008000\">'2-441-0'</span>,\n",
       "    <span style=\"color: #008080; text-decoration-color: #008080; font-weight: bold\">506</span>: <span style=\"color: #008000; text-decoration-color: #008000\">'2-442-0'</span>,\n",
       "    <span style=\"color: #008080; text-decoration-color: #008080; font-weight: bold\">507</span>: <span style=\"color: #008000; text-decoration-color: #008000\">'2-443-0'</span>,\n",
       "    <span style=\"color: #008080; text-decoration-color: #008080; font-weight: bold\">508</span>: <span style=\"color: #008000; text-decoration-color: #008000\">'2-445-0'</span>,\n",
       "    <span style=\"color: #008080; text-decoration-color: #008080; font-weight: bold\">509</span>: <span style=\"color: #008000; text-decoration-color: #008000\">'2-446-0'</span>,\n",
       "    <span style=\"color: #008080; text-decoration-color: #008080; font-weight: bold\">510</span>: <span style=\"color: #008000; text-decoration-color: #008000\">'2-447-0'</span>,\n",
       "    <span style=\"color: #008080; text-decoration-color: #008080; font-weight: bold\">511</span>: <span style=\"color: #008000; text-decoration-color: #008000\">'2-448-0'</span>,\n",
       "    <span style=\"color: #008080; text-decoration-color: #008080; font-weight: bold\">512</span>: <span style=\"color: #008000; text-decoration-color: #008000\">'2-450-0'</span>,\n",
       "    <span style=\"color: #008080; text-decoration-color: #008080; font-weight: bold\">513</span>: <span style=\"color: #008000; text-decoration-color: #008000\">'2-451-0'</span>,\n",
       "    <span style=\"color: #008080; text-decoration-color: #008080; font-weight: bold\">514</span>: <span style=\"color: #008000; text-decoration-color: #008000\">'2-454-0'</span>,\n",
       "    <span style=\"color: #008080; text-decoration-color: #008080; font-weight: bold\">515</span>: <span style=\"color: #008000; text-decoration-color: #008000\">'2-456-0'</span>,\n",
       "    <span style=\"color: #008080; text-decoration-color: #008080; font-weight: bold\">516</span>: <span style=\"color: #008000; text-decoration-color: #008000\">'2-458-0'</span>,\n",
       "    <span style=\"color: #008080; text-decoration-color: #008080; font-weight: bold\">517</span>: <span style=\"color: #008000; text-decoration-color: #008000\">'2-460-0'</span>,\n",
       "    <span style=\"color: #008080; text-decoration-color: #008080; font-weight: bold\">518</span>: <span style=\"color: #008000; text-decoration-color: #008000\">'2-461-0'</span>,\n",
       "    <span style=\"color: #008080; text-decoration-color: #008080; font-weight: bold\">519</span>: <span style=\"color: #008000; text-decoration-color: #008000\">'2-462-0'</span>,\n",
       "    <span style=\"color: #008080; text-decoration-color: #008080; font-weight: bold\">520</span>: <span style=\"color: #008000; text-decoration-color: #008000\">'2-463-0'</span>,\n",
       "    <span style=\"color: #008080; text-decoration-color: #008080; font-weight: bold\">521</span>: <span style=\"color: #008000; text-decoration-color: #008000\">'2-465-0'</span>,\n",
       "    <span style=\"color: #008080; text-decoration-color: #008080; font-weight: bold\">522</span>: <span style=\"color: #008000; text-decoration-color: #008000\">'2-466-0'</span>,\n",
       "    <span style=\"color: #008080; text-decoration-color: #008080; font-weight: bold\">523</span>: <span style=\"color: #008000; text-decoration-color: #008000\">'2-467-0'</span>,\n",
       "    <span style=\"color: #008080; text-decoration-color: #008080; font-weight: bold\">524</span>: <span style=\"color: #008000; text-decoration-color: #008000\">'2-468-0'</span>,\n",
       "    <span style=\"color: #008080; text-decoration-color: #008080; font-weight: bold\">525</span>: <span style=\"color: #008000; text-decoration-color: #008000\">'2-469-0'</span>,\n",
       "    <span style=\"color: #008080; text-decoration-color: #008080; font-weight: bold\">526</span>: <span style=\"color: #008000; text-decoration-color: #008000\">'2-470-0'</span>,\n",
       "    <span style=\"color: #008080; text-decoration-color: #008080; font-weight: bold\">527</span>: <span style=\"color: #008000; text-decoration-color: #008000\">'2-475-0'</span>,\n",
       "    <span style=\"color: #008080; text-decoration-color: #008080; font-weight: bold\">528</span>: <span style=\"color: #008000; text-decoration-color: #008000\">'2-476-0'</span>,\n",
       "    <span style=\"color: #008080; text-decoration-color: #008080; font-weight: bold\">529</span>: <span style=\"color: #008000; text-decoration-color: #008000\">'2-478-0'</span>,\n",
       "    <span style=\"color: #008080; text-decoration-color: #008080; font-weight: bold\">530</span>: <span style=\"color: #008000; text-decoration-color: #008000\">'2-480-0'</span>,\n",
       "    <span style=\"color: #008080; text-decoration-color: #008080; font-weight: bold\">531</span>: <span style=\"color: #008000; text-decoration-color: #008000\">'2-481-0'</span>,\n",
       "    <span style=\"color: #008080; text-decoration-color: #008080; font-weight: bold\">532</span>: <span style=\"color: #008000; text-decoration-color: #008000\">'2-482-0'</span>,\n",
       "    <span style=\"color: #008080; text-decoration-color: #008080; font-weight: bold\">533</span>: <span style=\"color: #008000; text-decoration-color: #008000\">'2-483-0'</span>,\n",
       "    <span style=\"color: #008080; text-decoration-color: #008080; font-weight: bold\">534</span>: <span style=\"color: #008000; text-decoration-color: #008000\">'2-487-0'</span>,\n",
       "    <span style=\"color: #008080; text-decoration-color: #008080; font-weight: bold\">535</span>: <span style=\"color: #008000; text-decoration-color: #008000\">'2-489-0'</span>,\n",
       "    <span style=\"color: #008080; text-decoration-color: #008080; font-weight: bold\">536</span>: <span style=\"color: #008000; text-decoration-color: #008000\">'2-490-0'</span>,\n",
       "    <span style=\"color: #008080; text-decoration-color: #008080; font-weight: bold\">537</span>: <span style=\"color: #008000; text-decoration-color: #008000\">'2-491-0'</span>,\n",
       "    <span style=\"color: #008080; text-decoration-color: #008080; font-weight: bold\">538</span>: <span style=\"color: #008000; text-decoration-color: #008000\">'2-492-0'</span>,\n",
       "    <span style=\"color: #008080; text-decoration-color: #008080; font-weight: bold\">539</span>: <span style=\"color: #008000; text-decoration-color: #008000\">'2-496-0'</span>\n",
       "<span style=\"font-weight: bold\">}</span>\n",
       "</pre>\n"
      ],
      "text/plain": [
       "\u001b[1m{\u001b[0m\n",
       "    \u001b[1;36m0\u001b[0m: \u001b[32m'1-56-0'\u001b[0m,\n",
       "    \u001b[1;36m1\u001b[0m: \u001b[32m'1-57-0'\u001b[0m,\n",
       "    \u001b[1;36m2\u001b[0m: \u001b[32m'1-59-0'\u001b[0m,\n",
       "    \u001b[1;36m3\u001b[0m: \u001b[32m'1-60-0'\u001b[0m,\n",
       "    \u001b[1;36m4\u001b[0m: \u001b[32m'1-66-0'\u001b[0m,\n",
       "    \u001b[1;36m5\u001b[0m: \u001b[32m'1-69-0'\u001b[0m,\n",
       "    \u001b[1;36m6\u001b[0m: \u001b[32m'1-70-0'\u001b[0m,\n",
       "    \u001b[1;36m7\u001b[0m: \u001b[32m'1-71-0'\u001b[0m,\n",
       "    \u001b[1;36m8\u001b[0m: \u001b[32m'1-72-0'\u001b[0m,\n",
       "    \u001b[1;36m9\u001b[0m: \u001b[32m'1-74-0'\u001b[0m,\n",
       "    \u001b[1;36m10\u001b[0m: \u001b[32m'1-75-0'\u001b[0m,\n",
       "    \u001b[1;36m11\u001b[0m: \u001b[32m'1-77-0'\u001b[0m,\n",
       "    \u001b[1;36m12\u001b[0m: \u001b[32m'1-78-0'\u001b[0m,\n",
       "    \u001b[1;36m13\u001b[0m: \u001b[32m'1-80-0'\u001b[0m,\n",
       "    \u001b[1;36m14\u001b[0m: \u001b[32m'1-84-0'\u001b[0m,\n",
       "    \u001b[1;36m15\u001b[0m: \u001b[32m'1-86-0'\u001b[0m,\n",
       "    \u001b[1;36m16\u001b[0m: \u001b[32m'1-89-0'\u001b[0m,\n",
       "    \u001b[1;36m17\u001b[0m: \u001b[32m'1-91-0'\u001b[0m,\n",
       "    \u001b[1;36m18\u001b[0m: \u001b[32m'1-93-0'\u001b[0m,\n",
       "    \u001b[1;36m19\u001b[0m: \u001b[32m'1-94-0'\u001b[0m,\n",
       "    \u001b[1;36m20\u001b[0m: \u001b[32m'1-95-0'\u001b[0m,\n",
       "    \u001b[1;36m21\u001b[0m: \u001b[32m'1-96-0'\u001b[0m,\n",
       "    \u001b[1;36m22\u001b[0m: \u001b[32m'1-97-0'\u001b[0m,\n",
       "    \u001b[1;36m23\u001b[0m: \u001b[32m'1-98-0'\u001b[0m,\n",
       "    \u001b[1;36m24\u001b[0m: \u001b[32m'1-100-0'\u001b[0m,\n",
       "    \u001b[1;36m25\u001b[0m: \u001b[32m'1-101-0'\u001b[0m,\n",
       "    \u001b[1;36m26\u001b[0m: \u001b[32m'1-103-0'\u001b[0m,\n",
       "    \u001b[1;36m27\u001b[0m: \u001b[32m'1-108-0'\u001b[0m,\n",
       "    \u001b[1;36m28\u001b[0m: \u001b[32m'1-110-0'\u001b[0m,\n",
       "    \u001b[1;36m29\u001b[0m: \u001b[32m'1-112-0'\u001b[0m,\n",
       "    \u001b[1;36m30\u001b[0m: \u001b[32m'1-114-0'\u001b[0m,\n",
       "    \u001b[1;36m31\u001b[0m: \u001b[32m'1-115-0'\u001b[0m,\n",
       "    \u001b[1;36m32\u001b[0m: \u001b[32m'1-116-0'\u001b[0m,\n",
       "    \u001b[1;36m33\u001b[0m: \u001b[32m'1-117-0'\u001b[0m,\n",
       "    \u001b[1;36m34\u001b[0m: \u001b[32m'1-118-0'\u001b[0m,\n",
       "    \u001b[1;36m35\u001b[0m: \u001b[32m'1-119-0'\u001b[0m,\n",
       "    \u001b[1;36m36\u001b[0m: \u001b[32m'1-120-0'\u001b[0m,\n",
       "    \u001b[1;36m37\u001b[0m: \u001b[32m'1-121-0'\u001b[0m,\n",
       "    \u001b[1;36m38\u001b[0m: \u001b[32m'1-122-0'\u001b[0m,\n",
       "    \u001b[1;36m39\u001b[0m: \u001b[32m'1-123-0'\u001b[0m,\n",
       "    \u001b[1;36m40\u001b[0m: \u001b[32m'1-132-0'\u001b[0m,\n",
       "    \u001b[1;36m41\u001b[0m: \u001b[32m'1-133-0'\u001b[0m,\n",
       "    \u001b[1;36m42\u001b[0m: \u001b[32m'1-134-0'\u001b[0m,\n",
       "    \u001b[1;36m43\u001b[0m: \u001b[32m'1-137-0'\u001b[0m,\n",
       "    \u001b[1;36m44\u001b[0m: \u001b[32m'1-138-0'\u001b[0m,\n",
       "    \u001b[1;36m45\u001b[0m: \u001b[32m'1-139-0'\u001b[0m,\n",
       "    \u001b[1;36m46\u001b[0m: \u001b[32m'1-141-0'\u001b[0m,\n",
       "    \u001b[1;36m47\u001b[0m: \u001b[32m'1-142-0'\u001b[0m,\n",
       "    \u001b[1;36m48\u001b[0m: \u001b[32m'1-143-0'\u001b[0m,\n",
       "    \u001b[1;36m49\u001b[0m: \u001b[32m'1-144-0'\u001b[0m,\n",
       "    \u001b[1;36m50\u001b[0m: \u001b[32m'1-145-0'\u001b[0m,\n",
       "    \u001b[1;36m51\u001b[0m: \u001b[32m'1-146-0'\u001b[0m,\n",
       "    \u001b[1;36m52\u001b[0m: \u001b[32m'1-149-0'\u001b[0m,\n",
       "    \u001b[1;36m53\u001b[0m: \u001b[32m'1-151-0'\u001b[0m,\n",
       "    \u001b[1;36m54\u001b[0m: \u001b[32m'1-157-0'\u001b[0m,\n",
       "    \u001b[1;36m55\u001b[0m: \u001b[32m'1-158-0'\u001b[0m,\n",
       "    \u001b[1;36m56\u001b[0m: \u001b[32m'1-159-0'\u001b[0m,\n",
       "    \u001b[1;36m57\u001b[0m: \u001b[32m'1-160-0'\u001b[0m,\n",
       "    \u001b[1;36m58\u001b[0m: \u001b[32m'1-163-0'\u001b[0m,\n",
       "    \u001b[1;36m59\u001b[0m: \u001b[32m'1-166-0'\u001b[0m,\n",
       "    \u001b[1;36m60\u001b[0m: \u001b[32m'1-167-0'\u001b[0m,\n",
       "    \u001b[1;36m61\u001b[0m: \u001b[32m'1-168-0'\u001b[0m,\n",
       "    \u001b[1;36m62\u001b[0m: \u001b[32m'1-169-0'\u001b[0m,\n",
       "    \u001b[1;36m63\u001b[0m: \u001b[32m'1-170-0'\u001b[0m,\n",
       "    \u001b[1;36m64\u001b[0m: \u001b[32m'1-171-0'\u001b[0m,\n",
       "    \u001b[1;36m65\u001b[0m: \u001b[32m'1-173-0'\u001b[0m,\n",
       "    \u001b[1;36m66\u001b[0m: \u001b[32m'1-175-0'\u001b[0m,\n",
       "    \u001b[1;36m67\u001b[0m: \u001b[32m'1-176-0'\u001b[0m,\n",
       "    \u001b[1;36m68\u001b[0m: \u001b[32m'1-179-0'\u001b[0m,\n",
       "    \u001b[1;36m69\u001b[0m: \u001b[32m'1-182-0'\u001b[0m,\n",
       "    \u001b[1;36m70\u001b[0m: \u001b[32m'1-183-0'\u001b[0m,\n",
       "    \u001b[1;36m71\u001b[0m: \u001b[32m'1-184-0'\u001b[0m,\n",
       "    \u001b[1;36m72\u001b[0m: \u001b[32m'1-185-0'\u001b[0m,\n",
       "    \u001b[1;36m73\u001b[0m: \u001b[32m'1-186-0'\u001b[0m,\n",
       "    \u001b[1;36m74\u001b[0m: \u001b[32m'1-188-0'\u001b[0m,\n",
       "    \u001b[1;36m75\u001b[0m: \u001b[32m'1-190-0'\u001b[0m,\n",
       "    \u001b[1;36m76\u001b[0m: \u001b[32m'1-191-0'\u001b[0m,\n",
       "    \u001b[1;36m77\u001b[0m: \u001b[32m'1-194-0'\u001b[0m,\n",
       "    \u001b[1;36m78\u001b[0m: \u001b[32m'1-195-0'\u001b[0m,\n",
       "    \u001b[1;36m79\u001b[0m: \u001b[32m'1-197-0'\u001b[0m,\n",
       "    \u001b[1;36m80\u001b[0m: \u001b[32m'1-198-0'\u001b[0m,\n",
       "    \u001b[1;36m81\u001b[0m: \u001b[32m'1-202-0'\u001b[0m,\n",
       "    \u001b[1;36m82\u001b[0m: \u001b[32m'1-203-0'\u001b[0m,\n",
       "    \u001b[1;36m83\u001b[0m: \u001b[32m'1-204-0'\u001b[0m,\n",
       "    \u001b[1;36m84\u001b[0m: \u001b[32m'1-205-0'\u001b[0m,\n",
       "    \u001b[1;36m85\u001b[0m: \u001b[32m'1-206-0'\u001b[0m,\n",
       "    \u001b[1;36m86\u001b[0m: \u001b[32m'1-208-0'\u001b[0m,\n",
       "    \u001b[1;36m87\u001b[0m: \u001b[32m'1-210-0'\u001b[0m,\n",
       "    \u001b[1;36m88\u001b[0m: \u001b[32m'1-213-0'\u001b[0m,\n",
       "    \u001b[1;36m89\u001b[0m: \u001b[32m'1-214-0'\u001b[0m,\n",
       "    \u001b[1;36m90\u001b[0m: \u001b[32m'1-217-0'\u001b[0m,\n",
       "    \u001b[1;36m91\u001b[0m: \u001b[32m'1-218-0'\u001b[0m,\n",
       "    \u001b[1;36m92\u001b[0m: \u001b[32m'1-220-0'\u001b[0m,\n",
       "    \u001b[1;36m93\u001b[0m: \u001b[32m'1-223-0'\u001b[0m,\n",
       "    \u001b[1;36m94\u001b[0m: \u001b[32m'1-224-0'\u001b[0m,\n",
       "    \u001b[1;36m95\u001b[0m: \u001b[32m'1-225-0'\u001b[0m,\n",
       "    \u001b[1;36m96\u001b[0m: \u001b[32m'1-228-0'\u001b[0m,\n",
       "    \u001b[1;36m97\u001b[0m: \u001b[32m'1-229-0'\u001b[0m,\n",
       "    \u001b[1;36m98\u001b[0m: \u001b[32m'1-230-0'\u001b[0m,\n",
       "    \u001b[1;36m99\u001b[0m: \u001b[32m'1-232-0'\u001b[0m,\n",
       "    \u001b[1;36m100\u001b[0m: \u001b[32m'1-234-0'\u001b[0m,\n",
       "    \u001b[1;36m101\u001b[0m: \u001b[32m'1-237-0'\u001b[0m,\n",
       "    \u001b[1;36m102\u001b[0m: \u001b[32m'1-238-0'\u001b[0m,\n",
       "    \u001b[1;36m103\u001b[0m: \u001b[32m'1-240-0'\u001b[0m,\n",
       "    \u001b[1;36m104\u001b[0m: \u001b[32m'1-242-0'\u001b[0m,\n",
       "    \u001b[1;36m105\u001b[0m: \u001b[32m'1-243-0'\u001b[0m,\n",
       "    \u001b[1;36m106\u001b[0m: \u001b[32m'1-244-0'\u001b[0m,\n",
       "    \u001b[1;36m107\u001b[0m: \u001b[32m'1-246-0'\u001b[0m,\n",
       "    \u001b[1;36m108\u001b[0m: \u001b[32m'1-247-0'\u001b[0m,\n",
       "    \u001b[1;36m109\u001b[0m: \u001b[32m'1-248-0'\u001b[0m,\n",
       "    \u001b[1;36m110\u001b[0m: \u001b[32m'1-249-0'\u001b[0m,\n",
       "    \u001b[1;36m111\u001b[0m: \u001b[32m'1-252-0'\u001b[0m,\n",
       "    \u001b[1;36m112\u001b[0m: \u001b[32m'1-254-0'\u001b[0m,\n",
       "    \u001b[1;36m113\u001b[0m: \u001b[32m'1-255-0'\u001b[0m,\n",
       "    \u001b[1;36m114\u001b[0m: \u001b[32m'1-256-0'\u001b[0m,\n",
       "    \u001b[1;36m115\u001b[0m: \u001b[32m'1-260-0'\u001b[0m,\n",
       "    \u001b[1;36m116\u001b[0m: \u001b[32m'1-261-0'\u001b[0m,\n",
       "    \u001b[1;36m117\u001b[0m: \u001b[32m'1-263-0'\u001b[0m,\n",
       "    \u001b[1;36m118\u001b[0m: \u001b[32m'1-264-0'\u001b[0m,\n",
       "    \u001b[1;36m119\u001b[0m: \u001b[32m'1-265-0'\u001b[0m,\n",
       "    \u001b[1;36m120\u001b[0m: \u001b[32m'1-268-0'\u001b[0m,\n",
       "    \u001b[1;36m121\u001b[0m: \u001b[32m'1-269-0'\u001b[0m,\n",
       "    \u001b[1;36m122\u001b[0m: \u001b[32m'1-271-0'\u001b[0m,\n",
       "    \u001b[1;36m123\u001b[0m: \u001b[32m'1-272-0'\u001b[0m,\n",
       "    \u001b[1;36m124\u001b[0m: \u001b[32m'1-274-0'\u001b[0m,\n",
       "    \u001b[1;36m125\u001b[0m: \u001b[32m'1-276-0'\u001b[0m,\n",
       "    \u001b[1;36m126\u001b[0m: \u001b[32m'1-278-0'\u001b[0m,\n",
       "    \u001b[1;36m127\u001b[0m: \u001b[32m'1-280-0'\u001b[0m,\n",
       "    \u001b[1;36m128\u001b[0m: \u001b[32m'1-282-0'\u001b[0m,\n",
       "    \u001b[1;36m129\u001b[0m: \u001b[32m'1-283-0'\u001b[0m,\n",
       "    \u001b[1;36m130\u001b[0m: \u001b[32m'1-284-0'\u001b[0m,\n",
       "    \u001b[1;36m131\u001b[0m: \u001b[32m'1-286-0'\u001b[0m,\n",
       "    \u001b[1;36m132\u001b[0m: \u001b[32m'1-287-0'\u001b[0m,\n",
       "    \u001b[1;36m133\u001b[0m: \u001b[32m'1-288-0'\u001b[0m,\n",
       "    \u001b[1;36m134\u001b[0m: \u001b[32m'1-289-0'\u001b[0m,\n",
       "    \u001b[1;36m135\u001b[0m: \u001b[32m'1-290-0'\u001b[0m,\n",
       "    \u001b[1;36m136\u001b[0m: \u001b[32m'1-294-0'\u001b[0m,\n",
       "    \u001b[1;36m137\u001b[0m: \u001b[32m'1-295-0'\u001b[0m,\n",
       "    \u001b[1;36m138\u001b[0m: \u001b[32m'1-297-0'\u001b[0m,\n",
       "    \u001b[1;36m139\u001b[0m: \u001b[32m'1-298-0'\u001b[0m,\n",
       "    \u001b[1;36m140\u001b[0m: \u001b[32m'1-299-0'\u001b[0m,\n",
       "    \u001b[1;36m141\u001b[0m: \u001b[32m'1-301-0'\u001b[0m,\n",
       "    \u001b[1;36m142\u001b[0m: \u001b[32m'1-302-0'\u001b[0m,\n",
       "    \u001b[1;36m143\u001b[0m: \u001b[32m'1-303-0'\u001b[0m,\n",
       "    \u001b[1;36m144\u001b[0m: \u001b[32m'1-306-0'\u001b[0m,\n",
       "    \u001b[1;36m145\u001b[0m: \u001b[32m'1-307-0'\u001b[0m,\n",
       "    \u001b[1;36m146\u001b[0m: \u001b[32m'1-309-0'\u001b[0m,\n",
       "    \u001b[1;36m147\u001b[0m: \u001b[32m'1-310-0'\u001b[0m,\n",
       "    \u001b[1;36m148\u001b[0m: \u001b[32m'1-312-0'\u001b[0m,\n",
       "    \u001b[1;36m149\u001b[0m: \u001b[32m'1-314-0'\u001b[0m,\n",
       "    \u001b[1;36m150\u001b[0m: \u001b[32m'1-315-0'\u001b[0m,\n",
       "    \u001b[1;36m151\u001b[0m: \u001b[32m'1-316-0'\u001b[0m,\n",
       "    \u001b[1;36m152\u001b[0m: \u001b[32m'1-317-0'\u001b[0m,\n",
       "    \u001b[1;36m153\u001b[0m: \u001b[32m'1-319-0'\u001b[0m,\n",
       "    \u001b[1;36m154\u001b[0m: \u001b[32m'1-322-0'\u001b[0m,\n",
       "    \u001b[1;36m155\u001b[0m: \u001b[32m'1-323-0'\u001b[0m,\n",
       "    \u001b[1;36m156\u001b[0m: \u001b[32m'1-324-0'\u001b[0m,\n",
       "    \u001b[1;36m157\u001b[0m: \u001b[32m'1-325-0'\u001b[0m,\n",
       "    \u001b[1;36m158\u001b[0m: \u001b[32m'1-327-0'\u001b[0m,\n",
       "    \u001b[1;36m159\u001b[0m: \u001b[32m'1-328-0'\u001b[0m,\n",
       "    \u001b[1;36m160\u001b[0m: \u001b[32m'1-330-0'\u001b[0m,\n",
       "    \u001b[1;36m161\u001b[0m: \u001b[32m'1-331-0'\u001b[0m,\n",
       "    \u001b[1;36m162\u001b[0m: \u001b[32m'1-332-0'\u001b[0m,\n",
       "    \u001b[1;36m163\u001b[0m: \u001b[32m'1-334-0'\u001b[0m,\n",
       "    \u001b[1;36m164\u001b[0m: \u001b[32m'1-336-0'\u001b[0m,\n",
       "    \u001b[1;36m165\u001b[0m: \u001b[32m'1-337-0'\u001b[0m,\n",
       "    \u001b[1;36m166\u001b[0m: \u001b[32m'1-339-0'\u001b[0m,\n",
       "    \u001b[1;36m167\u001b[0m: \u001b[32m'1-341-0'\u001b[0m,\n",
       "    \u001b[1;36m168\u001b[0m: \u001b[32m'1-342-0'\u001b[0m,\n",
       "    \u001b[1;36m169\u001b[0m: \u001b[32m'1-344-0'\u001b[0m,\n",
       "    \u001b[1;36m170\u001b[0m: \u001b[32m'1-346-0'\u001b[0m,\n",
       "    \u001b[1;36m171\u001b[0m: \u001b[32m'1-347-0'\u001b[0m,\n",
       "    \u001b[1;36m172\u001b[0m: \u001b[32m'1-348-0'\u001b[0m,\n",
       "    \u001b[1;36m173\u001b[0m: \u001b[32m'1-349-0'\u001b[0m,\n",
       "    \u001b[1;36m174\u001b[0m: \u001b[32m'1-351-0'\u001b[0m,\n",
       "    \u001b[1;36m175\u001b[0m: \u001b[32m'1-353-0'\u001b[0m,\n",
       "    \u001b[1;36m176\u001b[0m: \u001b[32m'1-354-0'\u001b[0m,\n",
       "    \u001b[1;36m177\u001b[0m: \u001b[32m'1-356-0'\u001b[0m,\n",
       "    \u001b[1;36m178\u001b[0m: \u001b[32m'1-357-0'\u001b[0m,\n",
       "    \u001b[1;36m179\u001b[0m: \u001b[32m'1-358-0'\u001b[0m,\n",
       "    \u001b[1;36m180\u001b[0m: \u001b[32m'1-360-0'\u001b[0m,\n",
       "    \u001b[1;36m181\u001b[0m: \u001b[32m'1-362-0'\u001b[0m,\n",
       "    \u001b[1;36m182\u001b[0m: \u001b[32m'1-364-0'\u001b[0m,\n",
       "    \u001b[1;36m183\u001b[0m: \u001b[32m'1-365-0'\u001b[0m,\n",
       "    \u001b[1;36m184\u001b[0m: \u001b[32m'1-366-0'\u001b[0m,\n",
       "    \u001b[1;36m185\u001b[0m: \u001b[32m'1-367-0'\u001b[0m,\n",
       "    \u001b[1;36m186\u001b[0m: \u001b[32m'1-368-0'\u001b[0m,\n",
       "    \u001b[1;36m187\u001b[0m: \u001b[32m'1-369-0'\u001b[0m,\n",
       "    \u001b[1;36m188\u001b[0m: \u001b[32m'1-373-0'\u001b[0m,\n",
       "    \u001b[1;36m189\u001b[0m: \u001b[32m'1-374-0'\u001b[0m,\n",
       "    \u001b[1;36m190\u001b[0m: \u001b[32m'1-375-0'\u001b[0m,\n",
       "    \u001b[1;36m191\u001b[0m: \u001b[32m'1-376-0'\u001b[0m,\n",
       "    \u001b[1;36m192\u001b[0m: \u001b[32m'1-377-0'\u001b[0m,\n",
       "    \u001b[1;36m193\u001b[0m: \u001b[32m'1-378-0'\u001b[0m,\n",
       "    \u001b[1;36m194\u001b[0m: \u001b[32m'1-380-0'\u001b[0m,\n",
       "    \u001b[1;36m195\u001b[0m: \u001b[32m'1-382-0'\u001b[0m,\n",
       "    \u001b[1;36m196\u001b[0m: \u001b[32m'1-383-0'\u001b[0m,\n",
       "    \u001b[1;36m197\u001b[0m: \u001b[32m'1-384-0'\u001b[0m,\n",
       "    \u001b[1;36m198\u001b[0m: \u001b[32m'1-385-0'\u001b[0m,\n",
       "    \u001b[1;36m199\u001b[0m: \u001b[32m'1-386-0'\u001b[0m,\n",
       "    \u001b[1;36m200\u001b[0m: \u001b[32m'1-388-0'\u001b[0m,\n",
       "    \u001b[1;36m201\u001b[0m: \u001b[32m'1-390-0'\u001b[0m,\n",
       "    \u001b[1;36m202\u001b[0m: \u001b[32m'1-392-0'\u001b[0m,\n",
       "    \u001b[1;36m203\u001b[0m: \u001b[32m'1-393-0'\u001b[0m,\n",
       "    \u001b[1;36m204\u001b[0m: \u001b[32m'1-395-0'\u001b[0m,\n",
       "    \u001b[1;36m205\u001b[0m: \u001b[32m'1-396-0'\u001b[0m,\n",
       "    \u001b[1;36m206\u001b[0m: \u001b[32m'1-397-0'\u001b[0m,\n",
       "    \u001b[1;36m207\u001b[0m: \u001b[32m'1-398-0'\u001b[0m,\n",
       "    \u001b[1;36m208\u001b[0m: \u001b[32m'1-401-0'\u001b[0m,\n",
       "    \u001b[1;36m209\u001b[0m: \u001b[32m'1-403-0'\u001b[0m,\n",
       "    \u001b[1;36m210\u001b[0m: \u001b[32m'1-404-0'\u001b[0m,\n",
       "    \u001b[1;36m211\u001b[0m: \u001b[32m'1-405-0'\u001b[0m,\n",
       "    \u001b[1;36m212\u001b[0m: \u001b[32m'1-406-0'\u001b[0m,\n",
       "    \u001b[1;36m213\u001b[0m: \u001b[32m'1-408-0'\u001b[0m,\n",
       "    \u001b[1;36m214\u001b[0m: \u001b[32m'1-409-0'\u001b[0m,\n",
       "    \u001b[1;36m215\u001b[0m: \u001b[32m'1-411-0'\u001b[0m,\n",
       "    \u001b[1;36m216\u001b[0m: \u001b[32m'1-412-0'\u001b[0m,\n",
       "    \u001b[1;36m217\u001b[0m: \u001b[32m'1-413-0'\u001b[0m,\n",
       "    \u001b[1;36m218\u001b[0m: \u001b[32m'1-415-0'\u001b[0m,\n",
       "    \u001b[1;36m219\u001b[0m: \u001b[32m'1-416-0'\u001b[0m,\n",
       "    \u001b[1;36m220\u001b[0m: \u001b[32m'1-417-0'\u001b[0m,\n",
       "    \u001b[1;36m221\u001b[0m: \u001b[32m'1-418-0'\u001b[0m,\n",
       "    \u001b[1;36m222\u001b[0m: \u001b[32m'1-422-0'\u001b[0m,\n",
       "    \u001b[1;36m223\u001b[0m: \u001b[32m'1-423-0'\u001b[0m,\n",
       "    \u001b[1;36m224\u001b[0m: \u001b[32m'1-424-0'\u001b[0m,\n",
       "    \u001b[1;36m225\u001b[0m: \u001b[32m'1-426-0'\u001b[0m,\n",
       "    \u001b[1;36m226\u001b[0m: \u001b[32m'1-428-0'\u001b[0m,\n",
       "    \u001b[1;36m227\u001b[0m: \u001b[32m'1-429-0'\u001b[0m,\n",
       "    \u001b[1;36m228\u001b[0m: \u001b[32m'1-430-0'\u001b[0m,\n",
       "    \u001b[1;36m229\u001b[0m: \u001b[32m'1-431-0'\u001b[0m,\n",
       "    \u001b[1;36m230\u001b[0m: \u001b[32m'1-432-0'\u001b[0m,\n",
       "    \u001b[1;36m231\u001b[0m: \u001b[32m'1-433-0'\u001b[0m,\n",
       "    \u001b[1;36m232\u001b[0m: \u001b[32m'1-436-0'\u001b[0m,\n",
       "    \u001b[1;36m233\u001b[0m: \u001b[32m'1-439-0'\u001b[0m,\n",
       "    \u001b[1;36m234\u001b[0m: \u001b[32m'1-440-0'\u001b[0m,\n",
       "    \u001b[1;36m235\u001b[0m: \u001b[32m'1-441-0'\u001b[0m,\n",
       "    \u001b[1;36m236\u001b[0m: \u001b[32m'1-442-0'\u001b[0m,\n",
       "    \u001b[1;36m237\u001b[0m: \u001b[32m'1-443-0'\u001b[0m,\n",
       "    \u001b[1;36m238\u001b[0m: \u001b[32m'1-445-0'\u001b[0m,\n",
       "    \u001b[1;36m239\u001b[0m: \u001b[32m'1-446-0'\u001b[0m,\n",
       "    \u001b[1;36m240\u001b[0m: \u001b[32m'1-447-0'\u001b[0m,\n",
       "    \u001b[1;36m241\u001b[0m: \u001b[32m'1-448-0'\u001b[0m,\n",
       "    \u001b[1;36m242\u001b[0m: \u001b[32m'1-450-0'\u001b[0m,\n",
       "    \u001b[1;36m243\u001b[0m: \u001b[32m'1-451-0'\u001b[0m,\n",
       "    \u001b[1;36m244\u001b[0m: \u001b[32m'1-454-0'\u001b[0m,\n",
       "    \u001b[1;36m245\u001b[0m: \u001b[32m'1-456-0'\u001b[0m,\n",
       "    \u001b[1;36m246\u001b[0m: \u001b[32m'1-458-0'\u001b[0m,\n",
       "    \u001b[1;36m247\u001b[0m: \u001b[32m'1-460-0'\u001b[0m,\n",
       "    \u001b[1;36m248\u001b[0m: \u001b[32m'1-461-0'\u001b[0m,\n",
       "    \u001b[1;36m249\u001b[0m: \u001b[32m'1-462-0'\u001b[0m,\n",
       "    \u001b[1;36m250\u001b[0m: \u001b[32m'1-463-0'\u001b[0m,\n",
       "    \u001b[1;36m251\u001b[0m: \u001b[32m'1-465-0'\u001b[0m,\n",
       "    \u001b[1;36m252\u001b[0m: \u001b[32m'1-466-0'\u001b[0m,\n",
       "    \u001b[1;36m253\u001b[0m: \u001b[32m'1-467-0'\u001b[0m,\n",
       "    \u001b[1;36m254\u001b[0m: \u001b[32m'1-468-0'\u001b[0m,\n",
       "    \u001b[1;36m255\u001b[0m: \u001b[32m'1-469-0'\u001b[0m,\n",
       "    \u001b[1;36m256\u001b[0m: \u001b[32m'1-470-0'\u001b[0m,\n",
       "    \u001b[1;36m257\u001b[0m: \u001b[32m'1-475-0'\u001b[0m,\n",
       "    \u001b[1;36m258\u001b[0m: \u001b[32m'1-476-0'\u001b[0m,\n",
       "    \u001b[1;36m259\u001b[0m: \u001b[32m'1-478-0'\u001b[0m,\n",
       "    \u001b[1;36m260\u001b[0m: \u001b[32m'1-480-0'\u001b[0m,\n",
       "    \u001b[1;36m261\u001b[0m: \u001b[32m'1-481-0'\u001b[0m,\n",
       "    \u001b[1;36m262\u001b[0m: \u001b[32m'1-482-0'\u001b[0m,\n",
       "    \u001b[1;36m263\u001b[0m: \u001b[32m'1-483-0'\u001b[0m,\n",
       "    \u001b[1;36m264\u001b[0m: \u001b[32m'1-487-0'\u001b[0m,\n",
       "    \u001b[1;36m265\u001b[0m: \u001b[32m'1-489-0'\u001b[0m,\n",
       "    \u001b[1;36m266\u001b[0m: \u001b[32m'1-490-0'\u001b[0m,\n",
       "    \u001b[1;36m267\u001b[0m: \u001b[32m'1-491-0'\u001b[0m,\n",
       "    \u001b[1;36m268\u001b[0m: \u001b[32m'1-492-0'\u001b[0m,\n",
       "    \u001b[1;36m269\u001b[0m: \u001b[32m'1-496-0'\u001b[0m,\n",
       "    \u001b[1;36m270\u001b[0m: \u001b[32m'2-56-0'\u001b[0m,\n",
       "    \u001b[1;36m271\u001b[0m: \u001b[32m'2-57-0'\u001b[0m,\n",
       "    \u001b[1;36m272\u001b[0m: \u001b[32m'2-59-0'\u001b[0m,\n",
       "    \u001b[1;36m273\u001b[0m: \u001b[32m'2-60-0'\u001b[0m,\n",
       "    \u001b[1;36m274\u001b[0m: \u001b[32m'2-66-0'\u001b[0m,\n",
       "    \u001b[1;36m275\u001b[0m: \u001b[32m'2-69-0'\u001b[0m,\n",
       "    \u001b[1;36m276\u001b[0m: \u001b[32m'2-70-0'\u001b[0m,\n",
       "    \u001b[1;36m277\u001b[0m: \u001b[32m'2-71-0'\u001b[0m,\n",
       "    \u001b[1;36m278\u001b[0m: \u001b[32m'2-72-0'\u001b[0m,\n",
       "    \u001b[1;36m279\u001b[0m: \u001b[32m'2-74-0'\u001b[0m,\n",
       "    \u001b[1;36m280\u001b[0m: \u001b[32m'2-75-0'\u001b[0m,\n",
       "    \u001b[1;36m281\u001b[0m: \u001b[32m'2-77-0'\u001b[0m,\n",
       "    \u001b[1;36m282\u001b[0m: \u001b[32m'2-78-0'\u001b[0m,\n",
       "    \u001b[1;36m283\u001b[0m: \u001b[32m'2-80-0'\u001b[0m,\n",
       "    \u001b[1;36m284\u001b[0m: \u001b[32m'2-84-0'\u001b[0m,\n",
       "    \u001b[1;36m285\u001b[0m: \u001b[32m'2-86-0'\u001b[0m,\n",
       "    \u001b[1;36m286\u001b[0m: \u001b[32m'2-89-0'\u001b[0m,\n",
       "    \u001b[1;36m287\u001b[0m: \u001b[32m'2-91-0'\u001b[0m,\n",
       "    \u001b[1;36m288\u001b[0m: \u001b[32m'2-93-0'\u001b[0m,\n",
       "    \u001b[1;36m289\u001b[0m: \u001b[32m'2-94-0'\u001b[0m,\n",
       "    \u001b[1;36m290\u001b[0m: \u001b[32m'2-95-0'\u001b[0m,\n",
       "    \u001b[1;36m291\u001b[0m: \u001b[32m'2-96-0'\u001b[0m,\n",
       "    \u001b[1;36m292\u001b[0m: \u001b[32m'2-97-0'\u001b[0m,\n",
       "    \u001b[1;36m293\u001b[0m: \u001b[32m'2-98-0'\u001b[0m,\n",
       "    \u001b[1;36m294\u001b[0m: \u001b[32m'2-100-0'\u001b[0m,\n",
       "    \u001b[1;36m295\u001b[0m: \u001b[32m'2-101-0'\u001b[0m,\n",
       "    \u001b[1;36m296\u001b[0m: \u001b[32m'2-103-0'\u001b[0m,\n",
       "    \u001b[1;36m297\u001b[0m: \u001b[32m'2-108-0'\u001b[0m,\n",
       "    \u001b[1;36m298\u001b[0m: \u001b[32m'2-110-0'\u001b[0m,\n",
       "    \u001b[1;36m299\u001b[0m: \u001b[32m'2-112-0'\u001b[0m,\n",
       "    \u001b[1;36m300\u001b[0m: \u001b[32m'2-114-0'\u001b[0m,\n",
       "    \u001b[1;36m301\u001b[0m: \u001b[32m'2-115-0'\u001b[0m,\n",
       "    \u001b[1;36m302\u001b[0m: \u001b[32m'2-116-0'\u001b[0m,\n",
       "    \u001b[1;36m303\u001b[0m: \u001b[32m'2-117-0'\u001b[0m,\n",
       "    \u001b[1;36m304\u001b[0m: \u001b[32m'2-118-0'\u001b[0m,\n",
       "    \u001b[1;36m305\u001b[0m: \u001b[32m'2-119-0'\u001b[0m,\n",
       "    \u001b[1;36m306\u001b[0m: \u001b[32m'2-120-0'\u001b[0m,\n",
       "    \u001b[1;36m307\u001b[0m: \u001b[32m'2-121-0'\u001b[0m,\n",
       "    \u001b[1;36m308\u001b[0m: \u001b[32m'2-122-0'\u001b[0m,\n",
       "    \u001b[1;36m309\u001b[0m: \u001b[32m'2-123-0'\u001b[0m,\n",
       "    \u001b[1;36m310\u001b[0m: \u001b[32m'2-132-0'\u001b[0m,\n",
       "    \u001b[1;36m311\u001b[0m: \u001b[32m'2-133-0'\u001b[0m,\n",
       "    \u001b[1;36m312\u001b[0m: \u001b[32m'2-134-0'\u001b[0m,\n",
       "    \u001b[1;36m313\u001b[0m: \u001b[32m'2-137-0'\u001b[0m,\n",
       "    \u001b[1;36m314\u001b[0m: \u001b[32m'2-138-0'\u001b[0m,\n",
       "    \u001b[1;36m315\u001b[0m: \u001b[32m'2-139-0'\u001b[0m,\n",
       "    \u001b[1;36m316\u001b[0m: \u001b[32m'2-141-0'\u001b[0m,\n",
       "    \u001b[1;36m317\u001b[0m: \u001b[32m'2-142-0'\u001b[0m,\n",
       "    \u001b[1;36m318\u001b[0m: \u001b[32m'2-143-0'\u001b[0m,\n",
       "    \u001b[1;36m319\u001b[0m: \u001b[32m'2-144-0'\u001b[0m,\n",
       "    \u001b[1;36m320\u001b[0m: \u001b[32m'2-145-0'\u001b[0m,\n",
       "    \u001b[1;36m321\u001b[0m: \u001b[32m'2-146-0'\u001b[0m,\n",
       "    \u001b[1;36m322\u001b[0m: \u001b[32m'2-149-0'\u001b[0m,\n",
       "    \u001b[1;36m323\u001b[0m: \u001b[32m'2-151-0'\u001b[0m,\n",
       "    \u001b[1;36m324\u001b[0m: \u001b[32m'2-157-0'\u001b[0m,\n",
       "    \u001b[1;36m325\u001b[0m: \u001b[32m'2-158-0'\u001b[0m,\n",
       "    \u001b[1;36m326\u001b[0m: \u001b[32m'2-159-0'\u001b[0m,\n",
       "    \u001b[1;36m327\u001b[0m: \u001b[32m'2-160-0'\u001b[0m,\n",
       "    \u001b[1;36m328\u001b[0m: \u001b[32m'2-163-0'\u001b[0m,\n",
       "    \u001b[1;36m329\u001b[0m: \u001b[32m'2-166-0'\u001b[0m,\n",
       "    \u001b[1;36m330\u001b[0m: \u001b[32m'2-167-0'\u001b[0m,\n",
       "    \u001b[1;36m331\u001b[0m: \u001b[32m'2-168-0'\u001b[0m,\n",
       "    \u001b[1;36m332\u001b[0m: \u001b[32m'2-169-0'\u001b[0m,\n",
       "    \u001b[1;36m333\u001b[0m: \u001b[32m'2-170-0'\u001b[0m,\n",
       "    \u001b[1;36m334\u001b[0m: \u001b[32m'2-171-0'\u001b[0m,\n",
       "    \u001b[1;36m335\u001b[0m: \u001b[32m'2-173-0'\u001b[0m,\n",
       "    \u001b[1;36m336\u001b[0m: \u001b[32m'2-175-0'\u001b[0m,\n",
       "    \u001b[1;36m337\u001b[0m: \u001b[32m'2-176-0'\u001b[0m,\n",
       "    \u001b[1;36m338\u001b[0m: \u001b[32m'2-179-0'\u001b[0m,\n",
       "    \u001b[1;36m339\u001b[0m: \u001b[32m'2-182-0'\u001b[0m,\n",
       "    \u001b[1;36m340\u001b[0m: \u001b[32m'2-183-0'\u001b[0m,\n",
       "    \u001b[1;36m341\u001b[0m: \u001b[32m'2-184-0'\u001b[0m,\n",
       "    \u001b[1;36m342\u001b[0m: \u001b[32m'2-185-0'\u001b[0m,\n",
       "    \u001b[1;36m343\u001b[0m: \u001b[32m'2-186-0'\u001b[0m,\n",
       "    \u001b[1;36m344\u001b[0m: \u001b[32m'2-188-0'\u001b[0m,\n",
       "    \u001b[1;36m345\u001b[0m: \u001b[32m'2-190-0'\u001b[0m,\n",
       "    \u001b[1;36m346\u001b[0m: \u001b[32m'2-191-0'\u001b[0m,\n",
       "    \u001b[1;36m347\u001b[0m: \u001b[32m'2-194-0'\u001b[0m,\n",
       "    \u001b[1;36m348\u001b[0m: \u001b[32m'2-195-0'\u001b[0m,\n",
       "    \u001b[1;36m349\u001b[0m: \u001b[32m'2-197-0'\u001b[0m,\n",
       "    \u001b[1;36m350\u001b[0m: \u001b[32m'2-198-0'\u001b[0m,\n",
       "    \u001b[1;36m351\u001b[0m: \u001b[32m'2-202-0'\u001b[0m,\n",
       "    \u001b[1;36m352\u001b[0m: \u001b[32m'2-203-0'\u001b[0m,\n",
       "    \u001b[1;36m353\u001b[0m: \u001b[32m'2-204-0'\u001b[0m,\n",
       "    \u001b[1;36m354\u001b[0m: \u001b[32m'2-205-0'\u001b[0m,\n",
       "    \u001b[1;36m355\u001b[0m: \u001b[32m'2-206-0'\u001b[0m,\n",
       "    \u001b[1;36m356\u001b[0m: \u001b[32m'2-208-0'\u001b[0m,\n",
       "    \u001b[1;36m357\u001b[0m: \u001b[32m'2-210-0'\u001b[0m,\n",
       "    \u001b[1;36m358\u001b[0m: \u001b[32m'2-213-0'\u001b[0m,\n",
       "    \u001b[1;36m359\u001b[0m: \u001b[32m'2-214-0'\u001b[0m,\n",
       "    \u001b[1;36m360\u001b[0m: \u001b[32m'2-217-0'\u001b[0m,\n",
       "    \u001b[1;36m361\u001b[0m: \u001b[32m'2-218-0'\u001b[0m,\n",
       "    \u001b[1;36m362\u001b[0m: \u001b[32m'2-220-0'\u001b[0m,\n",
       "    \u001b[1;36m363\u001b[0m: \u001b[32m'2-223-0'\u001b[0m,\n",
       "    \u001b[1;36m364\u001b[0m: \u001b[32m'2-224-0'\u001b[0m,\n",
       "    \u001b[1;36m365\u001b[0m: \u001b[32m'2-225-0'\u001b[0m,\n",
       "    \u001b[1;36m366\u001b[0m: \u001b[32m'2-228-0'\u001b[0m,\n",
       "    \u001b[1;36m367\u001b[0m: \u001b[32m'2-229-0'\u001b[0m,\n",
       "    \u001b[1;36m368\u001b[0m: \u001b[32m'2-230-0'\u001b[0m,\n",
       "    \u001b[1;36m369\u001b[0m: \u001b[32m'2-232-0'\u001b[0m,\n",
       "    \u001b[1;36m370\u001b[0m: \u001b[32m'2-234-0'\u001b[0m,\n",
       "    \u001b[1;36m371\u001b[0m: \u001b[32m'2-237-0'\u001b[0m,\n",
       "    \u001b[1;36m372\u001b[0m: \u001b[32m'2-238-0'\u001b[0m,\n",
       "    \u001b[1;36m373\u001b[0m: \u001b[32m'2-240-0'\u001b[0m,\n",
       "    \u001b[1;36m374\u001b[0m: \u001b[32m'2-242-0'\u001b[0m,\n",
       "    \u001b[1;36m375\u001b[0m: \u001b[32m'2-243-0'\u001b[0m,\n",
       "    \u001b[1;36m376\u001b[0m: \u001b[32m'2-244-0'\u001b[0m,\n",
       "    \u001b[1;36m377\u001b[0m: \u001b[32m'2-246-0'\u001b[0m,\n",
       "    \u001b[1;36m378\u001b[0m: \u001b[32m'2-247-0'\u001b[0m,\n",
       "    \u001b[1;36m379\u001b[0m: \u001b[32m'2-248-0'\u001b[0m,\n",
       "    \u001b[1;36m380\u001b[0m: \u001b[32m'2-249-0'\u001b[0m,\n",
       "    \u001b[1;36m381\u001b[0m: \u001b[32m'2-252-0'\u001b[0m,\n",
       "    \u001b[1;36m382\u001b[0m: \u001b[32m'2-254-0'\u001b[0m,\n",
       "    \u001b[1;36m383\u001b[0m: \u001b[32m'2-255-0'\u001b[0m,\n",
       "    \u001b[1;36m384\u001b[0m: \u001b[32m'2-256-0'\u001b[0m,\n",
       "    \u001b[1;36m385\u001b[0m: \u001b[32m'2-260-0'\u001b[0m,\n",
       "    \u001b[1;36m386\u001b[0m: \u001b[32m'2-261-0'\u001b[0m,\n",
       "    \u001b[1;36m387\u001b[0m: \u001b[32m'2-263-0'\u001b[0m,\n",
       "    \u001b[1;36m388\u001b[0m: \u001b[32m'2-264-0'\u001b[0m,\n",
       "    \u001b[1;36m389\u001b[0m: \u001b[32m'2-265-0'\u001b[0m,\n",
       "    \u001b[1;36m390\u001b[0m: \u001b[32m'2-268-0'\u001b[0m,\n",
       "    \u001b[1;36m391\u001b[0m: \u001b[32m'2-269-0'\u001b[0m,\n",
       "    \u001b[1;36m392\u001b[0m: \u001b[32m'2-271-0'\u001b[0m,\n",
       "    \u001b[1;36m393\u001b[0m: \u001b[32m'2-272-0'\u001b[0m,\n",
       "    \u001b[1;36m394\u001b[0m: \u001b[32m'2-274-0'\u001b[0m,\n",
       "    \u001b[1;36m395\u001b[0m: \u001b[32m'2-276-0'\u001b[0m,\n",
       "    \u001b[1;36m396\u001b[0m: \u001b[32m'2-278-0'\u001b[0m,\n",
       "    \u001b[1;36m397\u001b[0m: \u001b[32m'2-280-0'\u001b[0m,\n",
       "    \u001b[1;36m398\u001b[0m: \u001b[32m'2-282-0'\u001b[0m,\n",
       "    \u001b[1;36m399\u001b[0m: \u001b[32m'2-283-0'\u001b[0m,\n",
       "    \u001b[1;36m400\u001b[0m: \u001b[32m'2-284-0'\u001b[0m,\n",
       "    \u001b[1;36m401\u001b[0m: \u001b[32m'2-286-0'\u001b[0m,\n",
       "    \u001b[1;36m402\u001b[0m: \u001b[32m'2-287-0'\u001b[0m,\n",
       "    \u001b[1;36m403\u001b[0m: \u001b[32m'2-288-0'\u001b[0m,\n",
       "    \u001b[1;36m404\u001b[0m: \u001b[32m'2-289-0'\u001b[0m,\n",
       "    \u001b[1;36m405\u001b[0m: \u001b[32m'2-290-0'\u001b[0m,\n",
       "    \u001b[1;36m406\u001b[0m: \u001b[32m'2-294-0'\u001b[0m,\n",
       "    \u001b[1;36m407\u001b[0m: \u001b[32m'2-295-0'\u001b[0m,\n",
       "    \u001b[1;36m408\u001b[0m: \u001b[32m'2-297-0'\u001b[0m,\n",
       "    \u001b[1;36m409\u001b[0m: \u001b[32m'2-298-0'\u001b[0m,\n",
       "    \u001b[1;36m410\u001b[0m: \u001b[32m'2-299-0'\u001b[0m,\n",
       "    \u001b[1;36m411\u001b[0m: \u001b[32m'2-301-0'\u001b[0m,\n",
       "    \u001b[1;36m412\u001b[0m: \u001b[32m'2-302-0'\u001b[0m,\n",
       "    \u001b[1;36m413\u001b[0m: \u001b[32m'2-303-0'\u001b[0m,\n",
       "    \u001b[1;36m414\u001b[0m: \u001b[32m'2-306-0'\u001b[0m,\n",
       "    \u001b[1;36m415\u001b[0m: \u001b[32m'2-307-0'\u001b[0m,\n",
       "    \u001b[1;36m416\u001b[0m: \u001b[32m'2-309-0'\u001b[0m,\n",
       "    \u001b[1;36m417\u001b[0m: \u001b[32m'2-310-0'\u001b[0m,\n",
       "    \u001b[1;36m418\u001b[0m: \u001b[32m'2-312-0'\u001b[0m,\n",
       "    \u001b[1;36m419\u001b[0m: \u001b[32m'2-314-0'\u001b[0m,\n",
       "    \u001b[1;36m420\u001b[0m: \u001b[32m'2-315-0'\u001b[0m,\n",
       "    \u001b[1;36m421\u001b[0m: \u001b[32m'2-316-0'\u001b[0m,\n",
       "    \u001b[1;36m422\u001b[0m: \u001b[32m'2-317-0'\u001b[0m,\n",
       "    \u001b[1;36m423\u001b[0m: \u001b[32m'2-319-0'\u001b[0m,\n",
       "    \u001b[1;36m424\u001b[0m: \u001b[32m'2-322-0'\u001b[0m,\n",
       "    \u001b[1;36m425\u001b[0m: \u001b[32m'2-323-0'\u001b[0m,\n",
       "    \u001b[1;36m426\u001b[0m: \u001b[32m'2-324-0'\u001b[0m,\n",
       "    \u001b[1;36m427\u001b[0m: \u001b[32m'2-325-0'\u001b[0m,\n",
       "    \u001b[1;36m428\u001b[0m: \u001b[32m'2-327-0'\u001b[0m,\n",
       "    \u001b[1;36m429\u001b[0m: \u001b[32m'2-328-0'\u001b[0m,\n",
       "    \u001b[1;36m430\u001b[0m: \u001b[32m'2-330-0'\u001b[0m,\n",
       "    \u001b[1;36m431\u001b[0m: \u001b[32m'2-331-0'\u001b[0m,\n",
       "    \u001b[1;36m432\u001b[0m: \u001b[32m'2-332-0'\u001b[0m,\n",
       "    \u001b[1;36m433\u001b[0m: \u001b[32m'2-334-0'\u001b[0m,\n",
       "    \u001b[1;36m434\u001b[0m: \u001b[32m'2-336-0'\u001b[0m,\n",
       "    \u001b[1;36m435\u001b[0m: \u001b[32m'2-337-0'\u001b[0m,\n",
       "    \u001b[1;36m436\u001b[0m: \u001b[32m'2-339-0'\u001b[0m,\n",
       "    \u001b[1;36m437\u001b[0m: \u001b[32m'2-341-0'\u001b[0m,\n",
       "    \u001b[1;36m438\u001b[0m: \u001b[32m'2-342-0'\u001b[0m,\n",
       "    \u001b[1;36m439\u001b[0m: \u001b[32m'2-344-0'\u001b[0m,\n",
       "    \u001b[1;36m440\u001b[0m: \u001b[32m'2-346-0'\u001b[0m,\n",
       "    \u001b[1;36m441\u001b[0m: \u001b[32m'2-347-0'\u001b[0m,\n",
       "    \u001b[1;36m442\u001b[0m: \u001b[32m'2-348-0'\u001b[0m,\n",
       "    \u001b[1;36m443\u001b[0m: \u001b[32m'2-349-0'\u001b[0m,\n",
       "    \u001b[1;36m444\u001b[0m: \u001b[32m'2-351-0'\u001b[0m,\n",
       "    \u001b[1;36m445\u001b[0m: \u001b[32m'2-353-0'\u001b[0m,\n",
       "    \u001b[1;36m446\u001b[0m: \u001b[32m'2-354-0'\u001b[0m,\n",
       "    \u001b[1;36m447\u001b[0m: \u001b[32m'2-356-0'\u001b[0m,\n",
       "    \u001b[1;36m448\u001b[0m: \u001b[32m'2-357-0'\u001b[0m,\n",
       "    \u001b[1;36m449\u001b[0m: \u001b[32m'2-358-0'\u001b[0m,\n",
       "    \u001b[1;36m450\u001b[0m: \u001b[32m'2-360-0'\u001b[0m,\n",
       "    \u001b[1;36m451\u001b[0m: \u001b[32m'2-362-0'\u001b[0m,\n",
       "    \u001b[1;36m452\u001b[0m: \u001b[32m'2-364-0'\u001b[0m,\n",
       "    \u001b[1;36m453\u001b[0m: \u001b[32m'2-365-0'\u001b[0m,\n",
       "    \u001b[1;36m454\u001b[0m: \u001b[32m'2-366-0'\u001b[0m,\n",
       "    \u001b[1;36m455\u001b[0m: \u001b[32m'2-367-0'\u001b[0m,\n",
       "    \u001b[1;36m456\u001b[0m: \u001b[32m'2-368-0'\u001b[0m,\n",
       "    \u001b[1;36m457\u001b[0m: \u001b[32m'2-369-0'\u001b[0m,\n",
       "    \u001b[1;36m458\u001b[0m: \u001b[32m'2-373-0'\u001b[0m,\n",
       "    \u001b[1;36m459\u001b[0m: \u001b[32m'2-374-0'\u001b[0m,\n",
       "    \u001b[1;36m460\u001b[0m: \u001b[32m'2-375-0'\u001b[0m,\n",
       "    \u001b[1;36m461\u001b[0m: \u001b[32m'2-376-0'\u001b[0m,\n",
       "    \u001b[1;36m462\u001b[0m: \u001b[32m'2-377-0'\u001b[0m,\n",
       "    \u001b[1;36m463\u001b[0m: \u001b[32m'2-378-0'\u001b[0m,\n",
       "    \u001b[1;36m464\u001b[0m: \u001b[32m'2-380-0'\u001b[0m,\n",
       "    \u001b[1;36m465\u001b[0m: \u001b[32m'2-382-0'\u001b[0m,\n",
       "    \u001b[1;36m466\u001b[0m: \u001b[32m'2-383-0'\u001b[0m,\n",
       "    \u001b[1;36m467\u001b[0m: \u001b[32m'2-384-0'\u001b[0m,\n",
       "    \u001b[1;36m468\u001b[0m: \u001b[32m'2-385-0'\u001b[0m,\n",
       "    \u001b[1;36m469\u001b[0m: \u001b[32m'2-386-0'\u001b[0m,\n",
       "    \u001b[1;36m470\u001b[0m: \u001b[32m'2-388-0'\u001b[0m,\n",
       "    \u001b[1;36m471\u001b[0m: \u001b[32m'2-390-0'\u001b[0m,\n",
       "    \u001b[1;36m472\u001b[0m: \u001b[32m'2-392-0'\u001b[0m,\n",
       "    \u001b[1;36m473\u001b[0m: \u001b[32m'2-393-0'\u001b[0m,\n",
       "    \u001b[1;36m474\u001b[0m: \u001b[32m'2-395-0'\u001b[0m,\n",
       "    \u001b[1;36m475\u001b[0m: \u001b[32m'2-396-0'\u001b[0m,\n",
       "    \u001b[1;36m476\u001b[0m: \u001b[32m'2-397-0'\u001b[0m,\n",
       "    \u001b[1;36m477\u001b[0m: \u001b[32m'2-398-0'\u001b[0m,\n",
       "    \u001b[1;36m478\u001b[0m: \u001b[32m'2-401-0'\u001b[0m,\n",
       "    \u001b[1;36m479\u001b[0m: \u001b[32m'2-403-0'\u001b[0m,\n",
       "    \u001b[1;36m480\u001b[0m: \u001b[32m'2-404-0'\u001b[0m,\n",
       "    \u001b[1;36m481\u001b[0m: \u001b[32m'2-405-0'\u001b[0m,\n",
       "    \u001b[1;36m482\u001b[0m: \u001b[32m'2-406-0'\u001b[0m,\n",
       "    \u001b[1;36m483\u001b[0m: \u001b[32m'2-408-0'\u001b[0m,\n",
       "    \u001b[1;36m484\u001b[0m: \u001b[32m'2-409-0'\u001b[0m,\n",
       "    \u001b[1;36m485\u001b[0m: \u001b[32m'2-411-0'\u001b[0m,\n",
       "    \u001b[1;36m486\u001b[0m: \u001b[32m'2-412-0'\u001b[0m,\n",
       "    \u001b[1;36m487\u001b[0m: \u001b[32m'2-413-0'\u001b[0m,\n",
       "    \u001b[1;36m488\u001b[0m: \u001b[32m'2-415-0'\u001b[0m,\n",
       "    \u001b[1;36m489\u001b[0m: \u001b[32m'2-416-0'\u001b[0m,\n",
       "    \u001b[1;36m490\u001b[0m: \u001b[32m'2-417-0'\u001b[0m,\n",
       "    \u001b[1;36m491\u001b[0m: \u001b[32m'2-418-0'\u001b[0m,\n",
       "    \u001b[1;36m492\u001b[0m: \u001b[32m'2-422-0'\u001b[0m,\n",
       "    \u001b[1;36m493\u001b[0m: \u001b[32m'2-423-0'\u001b[0m,\n",
       "    \u001b[1;36m494\u001b[0m: \u001b[32m'2-424-0'\u001b[0m,\n",
       "    \u001b[1;36m495\u001b[0m: \u001b[32m'2-426-0'\u001b[0m,\n",
       "    \u001b[1;36m496\u001b[0m: \u001b[32m'2-428-0'\u001b[0m,\n",
       "    \u001b[1;36m497\u001b[0m: \u001b[32m'2-429-0'\u001b[0m,\n",
       "    \u001b[1;36m498\u001b[0m: \u001b[32m'2-430-0'\u001b[0m,\n",
       "    \u001b[1;36m499\u001b[0m: \u001b[32m'2-431-0'\u001b[0m,\n",
       "    \u001b[1;36m500\u001b[0m: \u001b[32m'2-432-0'\u001b[0m,\n",
       "    \u001b[1;36m501\u001b[0m: \u001b[32m'2-433-0'\u001b[0m,\n",
       "    \u001b[1;36m502\u001b[0m: \u001b[32m'2-436-0'\u001b[0m,\n",
       "    \u001b[1;36m503\u001b[0m: \u001b[32m'2-439-0'\u001b[0m,\n",
       "    \u001b[1;36m504\u001b[0m: \u001b[32m'2-440-0'\u001b[0m,\n",
       "    \u001b[1;36m505\u001b[0m: \u001b[32m'2-441-0'\u001b[0m,\n",
       "    \u001b[1;36m506\u001b[0m: \u001b[32m'2-442-0'\u001b[0m,\n",
       "    \u001b[1;36m507\u001b[0m: \u001b[32m'2-443-0'\u001b[0m,\n",
       "    \u001b[1;36m508\u001b[0m: \u001b[32m'2-445-0'\u001b[0m,\n",
       "    \u001b[1;36m509\u001b[0m: \u001b[32m'2-446-0'\u001b[0m,\n",
       "    \u001b[1;36m510\u001b[0m: \u001b[32m'2-447-0'\u001b[0m,\n",
       "    \u001b[1;36m511\u001b[0m: \u001b[32m'2-448-0'\u001b[0m,\n",
       "    \u001b[1;36m512\u001b[0m: \u001b[32m'2-450-0'\u001b[0m,\n",
       "    \u001b[1;36m513\u001b[0m: \u001b[32m'2-451-0'\u001b[0m,\n",
       "    \u001b[1;36m514\u001b[0m: \u001b[32m'2-454-0'\u001b[0m,\n",
       "    \u001b[1;36m515\u001b[0m: \u001b[32m'2-456-0'\u001b[0m,\n",
       "    \u001b[1;36m516\u001b[0m: \u001b[32m'2-458-0'\u001b[0m,\n",
       "    \u001b[1;36m517\u001b[0m: \u001b[32m'2-460-0'\u001b[0m,\n",
       "    \u001b[1;36m518\u001b[0m: \u001b[32m'2-461-0'\u001b[0m,\n",
       "    \u001b[1;36m519\u001b[0m: \u001b[32m'2-462-0'\u001b[0m,\n",
       "    \u001b[1;36m520\u001b[0m: \u001b[32m'2-463-0'\u001b[0m,\n",
       "    \u001b[1;36m521\u001b[0m: \u001b[32m'2-465-0'\u001b[0m,\n",
       "    \u001b[1;36m522\u001b[0m: \u001b[32m'2-466-0'\u001b[0m,\n",
       "    \u001b[1;36m523\u001b[0m: \u001b[32m'2-467-0'\u001b[0m,\n",
       "    \u001b[1;36m524\u001b[0m: \u001b[32m'2-468-0'\u001b[0m,\n",
       "    \u001b[1;36m525\u001b[0m: \u001b[32m'2-469-0'\u001b[0m,\n",
       "    \u001b[1;36m526\u001b[0m: \u001b[32m'2-470-0'\u001b[0m,\n",
       "    \u001b[1;36m527\u001b[0m: \u001b[32m'2-475-0'\u001b[0m,\n",
       "    \u001b[1;36m528\u001b[0m: \u001b[32m'2-476-0'\u001b[0m,\n",
       "    \u001b[1;36m529\u001b[0m: \u001b[32m'2-478-0'\u001b[0m,\n",
       "    \u001b[1;36m530\u001b[0m: \u001b[32m'2-480-0'\u001b[0m,\n",
       "    \u001b[1;36m531\u001b[0m: \u001b[32m'2-481-0'\u001b[0m,\n",
       "    \u001b[1;36m532\u001b[0m: \u001b[32m'2-482-0'\u001b[0m,\n",
       "    \u001b[1;36m533\u001b[0m: \u001b[32m'2-483-0'\u001b[0m,\n",
       "    \u001b[1;36m534\u001b[0m: \u001b[32m'2-487-0'\u001b[0m,\n",
       "    \u001b[1;36m535\u001b[0m: \u001b[32m'2-489-0'\u001b[0m,\n",
       "    \u001b[1;36m536\u001b[0m: \u001b[32m'2-490-0'\u001b[0m,\n",
       "    \u001b[1;36m537\u001b[0m: \u001b[32m'2-491-0'\u001b[0m,\n",
       "    \u001b[1;36m538\u001b[0m: \u001b[32m'2-492-0'\u001b[0m,\n",
       "    \u001b[1;36m539\u001b[0m: \u001b[32m'2-496-0'\u001b[0m\n",
       "\u001b[1m}\u001b[0m\n"
      ]
     },
     "metadata": {},
     "output_type": "display_data"
    }
   ],
   "source": [
    "x['ca2']"
   ]
  },
  {
   "cell_type": "code",
   "execution_count": null,
   "id": "2d7ba9d9",
   "metadata": {},
   "outputs": [],
   "source": []
  },
  {
   "cell_type": "code",
   "execution_count": 25,
   "id": "41bf4899",
   "metadata": {},
   "outputs": [
    {
     "data": {
      "text/html": [
       "<pre style=\"white-space:pre;overflow-x:auto;line-height:normal;font-family:Menlo,'DejaVu Sans Mono',consolas,'Courier New',monospace\"><span style=\"font-weight: bold\">[</span>\n",
       "    <span style=\"color: #008000; text-decoration-color: #008000\">'ca2'</span>,\n",
       "    <span style=\"color: #008000; text-decoration-color: #008000\">'roi_lookup.npy'</span>,\n",
       "    <span style=\"color: #008000; text-decoration-color: #008000\">'parcellation'</span>,\n",
       "    <span style=\"color: #008000; text-decoration-color: #008000\">'log'</span>,\n",
       "    <span style=\"color: #008000; text-decoration-color: #008000\">'masks'</span>,\n",
       "    <span style=\"color: #008000; text-decoration-color: #008000\">'combine_meta.npy'</span>,\n",
       "    <span style=\"color: #008000; text-decoration-color: #008000\">'config.json'</span>,\n",
       "    <span style=\"color: #008000; text-decoration-color: #008000\">'bold'</span>,\n",
       "    <span style=\"color: #008000; text-decoration-color: #008000\">'results'</span>\n",
       "<span style=\"font-weight: bold\">]</span>\n",
       "</pre>\n"
      ],
      "text/plain": [
       "\u001b[1m[\u001b[0m\n",
       "    \u001b[32m'ca2'\u001b[0m,\n",
       "    \u001b[32m'roi_lookup.npy'\u001b[0m,\n",
       "    \u001b[32m'parcellation'\u001b[0m,\n",
       "    \u001b[32m'log'\u001b[0m,\n",
       "    \u001b[32m'masks'\u001b[0m,\n",
       "    \u001b[32m'combine_meta.npy'\u001b[0m,\n",
       "    \u001b[32m'config.json'\u001b[0m,\n",
       "    \u001b[32m'bold'\u001b[0m,\n",
       "    \u001b[32m'results'\u001b[0m\n",
       "\u001b[1m]\u001b[0m\n"
      ]
     },
     "metadata": {},
     "output_type": "display_data"
    }
   ],
   "source": [
    "os.listdir(mice.cfg.main_dir)"
   ]
  },
  {
   "cell_type": "code",
   "execution_count": 31,
   "id": "dcfb0fc5",
   "metadata": {},
   "outputs": [],
   "source": [
    "x = np.load(pjoin(mice.cfg.main_dir, 'roi_lookup.npy'), allow_pickle=True).item()"
   ]
  },
  {
   "cell_type": "code",
   "execution_count": 32,
   "id": "4f648dc4",
   "metadata": {},
   "outputs": [
    {
     "data": {
      "text/html": [
       "<pre style=\"white-space:pre;overflow-x:auto;line-height:normal;font-family:Menlo,'DejaVu Sans Mono',consolas,'Courier New',monospace\"><span style=\"font-weight: bold\">[</span><span style=\"color: #008000; text-decoration-color: #008000\">'ca2'</span>, <span style=\"color: #008000; text-decoration-color: #008000\">'bold'</span><span style=\"font-weight: bold\">]</span>\n",
       "</pre>\n"
      ],
      "text/plain": [
       "\u001b[1m[\u001b[0m\u001b[32m'ca2'\u001b[0m, \u001b[32m'bold'\u001b[0m\u001b[1m]\u001b[0m\n"
      ]
     },
     "metadata": {},
     "output_type": "display_data"
    }
   ],
   "source": [
    "list(x)"
   ]
  },
  {
   "cell_type": "code",
   "execution_count": 39,
   "id": "954b2b25",
   "metadata": {},
   "outputs": [
    {
     "data": {
      "text/html": [
       "<pre style=\"white-space:pre;overflow-x:auto;line-height:normal;font-family:Menlo,'DejaVu Sans Mono',consolas,'Courier New',monospace\"><span style=\"font-weight: bold\">(</span><span style=\"color: #008080; text-decoration-color: #008080; font-weight: bold\">146</span>, <span style=\"color: #008080; text-decoration-color: #008080; font-weight: bold\">2766</span><span style=\"font-weight: bold\">)</span>\n",
       "</pre>\n"
      ],
      "text/plain": [
       "\u001b[1m(\u001b[0m\u001b[1;36m146\u001b[0m, \u001b[1;36m2766\u001b[0m\u001b[1m)\u001b[0m\n"
      ]
     },
     "metadata": {},
     "output_type": "display_data"
    }
   ],
   "source": [
    "len(x['ca2']), len(x['bold'])"
   ]
  },
  {
   "cell_type": "code",
   "execution_count": 37,
   "id": "5dd8b98a",
   "metadata": {},
   "outputs": [],
   "source": [
    "mice.parcel.df.to_csv(pjoin(tmp_dir, 'CafMRI-Selected', 'roi_info.csv'), sep='\\t')"
   ]
  },
  {
   "cell_type": "code",
   "execution_count": null,
   "id": "e3750dfe",
   "metadata": {},
   "outputs": [],
   "source": []
  },
  {
   "cell_type": "markdown",
   "id": "3ef1b277",
   "metadata": {},
   "source": [
    "## --- Ignore ---"
   ]
  },
  {
   "cell_type": "code",
   "execution_count": 7,
   "id": "8647e504",
   "metadata": {},
   "outputs": [
    {
     "data": {
      "text/html": [
       "<pre style=\"white-space:pre;overflow-x:auto;line-height:normal;font-family:Menlo,'DejaVu Sans Mono',consolas,'Courier New',monospace\"><span style=\"font-weight: bold\">[</span>\n",
       "    <span style=\"color: #008000; text-decoration-color: #008000\">'cols'</span>,\n",
       "    <span style=\"color: #008000; text-decoration-color: #008000\">'brain'</span>,\n",
       "    <span style=\"color: #008000; text-decoration-color: #008000\">'cortex'</span>,\n",
       "    <span style=\"color: #008000; text-decoration-color: #008000\">'subcortex'</span>,\n",
       "    <span style=\"color: #008000; text-decoration-color: #008000\">'cortex-top'</span>,\n",
       "    <span style=\"color: #008000; text-decoration-color: #008000\">'brain-eroded'</span>,\n",
       "    <span style=\"color: #008000; text-decoration-color: #008000\">'nonzero-idxs_parcel2d-flat'</span>,\n",
       "    <span style=\"color: #008000; text-decoration-color: #008000\">'nonzero-idxs_parcel2d-top'</span>,\n",
       "    <span style=\"color: #008000; text-decoration-color: #008000\">'nonzero-idxs_parcel3d'</span>,\n",
       "    <span style=\"color: #008000; text-decoration-color: #008000\">'region-idxs_parcel2d-flat'</span>,\n",
       "    <span style=\"color: #008000; text-decoration-color: #008000\">'region-idxs_parcel2d-top'</span>,\n",
       "    <span style=\"color: #008000; text-decoration-color: #008000\">'region-idxs_parcel3d'</span>,\n",
       "    <span style=\"color: #008000; text-decoration-color: #008000\">'shape_parcel2d-flat'</span>,\n",
       "    <span style=\"color: #008000; text-decoration-color: #008000\">'shape_parcel2d-top'</span>,\n",
       "    <span style=\"color: #008000; text-decoration-color: #008000\">'shape_parcel3d'</span>\n",
       "<span style=\"font-weight: bold\">]</span>\n",
       "</pre>\n"
      ],
      "text/plain": [
       "\u001b[1m[\u001b[0m\n",
       "    \u001b[32m'cols'\u001b[0m,\n",
       "    \u001b[32m'brain'\u001b[0m,\n",
       "    \u001b[32m'cortex'\u001b[0m,\n",
       "    \u001b[32m'subcortex'\u001b[0m,\n",
       "    \u001b[32m'cortex-top'\u001b[0m,\n",
       "    \u001b[32m'brain-eroded'\u001b[0m,\n",
       "    \u001b[32m'nonzero-idxs_parcel2d-flat'\u001b[0m,\n",
       "    \u001b[32m'nonzero-idxs_parcel2d-top'\u001b[0m,\n",
       "    \u001b[32m'nonzero-idxs_parcel3d'\u001b[0m,\n",
       "    \u001b[32m'region-idxs_parcel2d-flat'\u001b[0m,\n",
       "    \u001b[32m'region-idxs_parcel2d-top'\u001b[0m,\n",
       "    \u001b[32m'region-idxs_parcel3d'\u001b[0m,\n",
       "    \u001b[32m'shape_parcel2d-flat'\u001b[0m,\n",
       "    \u001b[32m'shape_parcel2d-top'\u001b[0m,\n",
       "    \u001b[32m'shape_parcel3d'\u001b[0m\n",
       "\u001b[1m]\u001b[0m\n"
      ]
     },
     "metadata": {},
     "output_type": "display_data"
    }
   ],
   "source": [
    "list(mice.parcel.results)"
   ]
  },
  {
   "cell_type": "code",
   "execution_count": 11,
   "id": "c9be5fa5",
   "metadata": {},
   "outputs": [
    {
     "data": {
      "image/png": "[encoded data removed]"
     },
     "metadata": {},
     "output_type": "display_data"
    }
   ],
   "source": [
    "plt.imshow(mice.parcel['brain'][70]);"
   ]
  },
  {
   "cell_type": "code",
   "execution_count": null,
   "id": "f2726977",
   "metadata": {},
   "outputs": [],
   "source": []
  },
  {
   "cell_type": "code",
   "execution_count": 4,
   "id": "042c7f85",
   "metadata": {},
   "outputs": [],
   "source": [
    "self = reg"
   ]
  },
  {
   "cell_type": "code",
   "execution_count": 53,
   "id": "b2202f97",
   "metadata": {},
   "outputs": [
    {
     "data": {
      "text/html": [
       "<pre style=\"white-space:pre;overflow-x:auto;line-height:normal;font-family:Menlo,'DejaVu Sans Mono',consolas,'Courier New',monospace\"><span style=\"color: #008080; text-decoration-color: #008080; font-weight: bold\">2782</span>\n",
       "</pre>\n"
      ],
      "text/plain": [
       "\u001b[1;36m2782\u001b[0m\n"
      ]
     },
     "metadata": {},
     "output_type": "display_data"
    }
   ],
   "source": [
    "regions_obj_name = 'brain'\n",
    "anat_masks = self.mice.mask3d\n",
    "regions = self.mice.parcel[regions_obj_name]\n",
    "\n",
    "regions = regions[regions.nonzero()]\n",
    "regions = np.unique(regions)\n",
    "len(regions)"
   ]
  },
  {
   "cell_type": "code",
   "execution_count": 6,
   "id": "fda81695",
   "metadata": {},
   "outputs": [
    {
     "data": {
      "text/html": [
       "<pre style=\"white-space:pre;overflow-x:auto;line-height:normal;font-family:Menlo,'DejaVu Sans Mono',consolas,'Courier New',monospace\"><span style=\"color: #008080; text-decoration-color: #008080; font-weight: bold\">2782</span>\n",
       "</pre>\n"
      ],
      "text/plain": [
       "\u001b[1;36m2782\u001b[0m\n"
      ]
     },
     "metadata": {},
     "output_type": "display_data"
    }
   ],
   "source": []
  },
  {
   "cell_type": "code",
   "execution_count": 54,
   "id": "bca3f052",
   "metadata": {},
   "outputs": [],
   "source": [
    "for key, anat in self.mice.T1w.items():\n",
    "    m = anat_masks[key].load_ants()\n",
    "    m = m.numpy().astype(bool)\n",
    "    obj_masks = self.load_obj_masks(key)\n",
    "    \n",
    "    obj = obj_masks[regions_obj_name].numpy() * m\n",
    "    \n",
    "    break"
   ]
  },
  {
   "cell_type": "code",
   "execution_count": 16,
   "id": "7d84a435",
   "metadata": {},
   "outputs": [],
   "source": [
    "## Task: make sure brain and eroded have the exact same regions for all animals/sessions"
   ]
  },
  {
   "cell_type": "code",
   "execution_count": 55,
   "id": "f478cea6",
   "metadata": {},
   "outputs": [
    {
     "data": {
      "text/html": [
       "<pre style=\"white-space:pre;overflow-x:auto;line-height:normal;font-family:Menlo,'DejaVu Sans Mono',consolas,'Courier New',monospace\"><span style=\"font-weight: bold\">[</span><span style=\"color: #008000; text-decoration-color: #008000\">'brain'</span><span style=\"font-weight: bold\">]</span>\n",
       "</pre>\n"
      ],
      "text/plain": [
       "\u001b[1m[\u001b[0m\u001b[32m'brain'\u001b[0m\u001b[1m]\u001b[0m\n"
      ]
     },
     "metadata": {},
     "output_type": "display_data"
    }
   ],
   "source": []
  },
  {
   "cell_type": "code",
   "execution_count": 18,
   "id": "1549459e",
   "metadata": {},
   "outputs": [
    {
     "data": {
      "text/html": [
       "<pre style=\"white-space:pre;overflow-x:auto;line-height:normal;font-family:Menlo,'DejaVu Sans Mono',consolas,'Courier New',monospace\"><span style=\"color: #ff0000; text-decoration-color: #ff0000; font-style: italic\">False</span>\n",
       "</pre>\n"
      ],
      "text/plain": [
       "\u001b[3;91mFalse\u001b[0m\n"
      ]
     },
     "metadata": {},
     "output_type": "display_data"
    }
   ],
   "source": [
    "list(unique_idxs(obj_masks['brain'].numpy())) == list(unique_idxs(obj_masks['eroded'].numpy()))"
   ]
  },
  {
   "cell_type": "code",
   "execution_count": 19,
   "id": "38515383",
   "metadata": {},
   "outputs": [],
   "source": [
    "a = list(unique_idxs(obj_masks['brain'].numpy()))\n",
    "b = list(unique_idxs(obj_masks['eroded'].numpy()))"
   ]
  },
  {
   "cell_type": "code",
   "execution_count": 20,
   "id": "aea91c6b",
   "metadata": {},
   "outputs": [
    {
     "data": {
      "text/html": [
       "<pre style=\"white-space:pre;overflow-x:auto;line-height:normal;font-family:Menlo,'DejaVu Sans Mono',consolas,'Courier New',monospace\"><span style=\"font-weight: bold\">(</span><span style=\"color: #008080; text-decoration-color: #008080; font-weight: bold\">2770</span>, <span style=\"color: #008080; text-decoration-color: #008080; font-weight: bold\">2674</span><span style=\"font-weight: bold\">)</span>\n",
       "</pre>\n"
      ],
      "text/plain": [
       "\u001b[1m(\u001b[0m\u001b[1;36m2770\u001b[0m, \u001b[1;36m2674\u001b[0m\u001b[1m)\u001b[0m\n"
      ]
     },
     "metadata": {},
     "output_type": "display_data"
    }
   ],
   "source": [
    "len(a), len(b)"
   ]
  },
  {
   "cell_type": "code",
   "execution_count": null,
   "id": "9c0eede3",
   "metadata": {},
   "outputs": [],
   "source": []
  },
  {
   "cell_type": "code",
   "execution_count": 25,
   "id": "61ee70a1",
   "metadata": {},
   "outputs": [
    {
     "data": {
      "image/png": "[encoded data removed]"
     },
     "metadata": {},
     "output_type": "display_data"
    }
   ],
   "source": [
    "bins = np.linspace(0, 50, 51) - 0.5\n",
    "sns.histplot([len(v) for v in unique_idxs(obj_masks['brain'].numpy()).values()], bins=bins, label='brain')\n",
    "sns.histplot([len(v) for v in unique_idxs(obj_masks['eroded'].numpy()).values()], bins=bins, label='eroded');"
   ]
  },
  {
   "cell_type": "code",
   "execution_count": null,
   "id": "6b225c7c",
   "metadata": {},
   "outputs": [],
   "source": []
  },
  {
   "cell_type": "code",
   "execution_count": 56,
   "id": "dfc14b69",
   "metadata": {},
   "outputs": [
    {
     "data": {
      "text/html": [
       "<pre style=\"white-space:pre;overflow-x:auto;line-height:normal;font-family:Menlo,'DejaVu Sans Mono',consolas,'Courier New',monospace\"><span style=\"color: #008080; text-decoration-color: #008080; font-weight: bold\">2782</span>\n",
       "</pre>\n"
      ],
      "text/plain": [
       "\u001b[1;36m2782\u001b[0m\n"
      ]
     },
     "metadata": {},
     "output_type": "display_data"
    }
   ],
   "source": [
    "len(regions)"
   ]
  },
  {
   "cell_type": "code",
   "execution_count": 34,
   "id": "c7c4699c",
   "metadata": {},
   "outputs": [
    {
     "data": {
      "text/html": [
       "<pre style=\"white-space:pre;overflow-x:auto;line-height:normal;font-family:Menlo,'DejaVu Sans Mono',consolas,'Courier New',monospace\"><span style=\"color: #800080; text-decoration-color: #800080; font-weight: bold\">array</span><span style=\"font-weight: bold\">([[</span> <span style=\"color: #008080; text-decoration-color: #008080; font-weight: bold\">1</span>,  <span style=\"color: #008080; text-decoration-color: #008080; font-weight: bold\">1</span>,  <span style=\"color: #008080; text-decoration-color: #008080; font-weight: bold\">0</span><span style=\"font-weight: bold\">]</span>,\n",
       "       <span style=\"font-weight: bold\">[</span> <span style=\"color: #008080; text-decoration-color: #008080; font-weight: bold\">1</span>,  <span style=\"color: #008080; text-decoration-color: #008080; font-weight: bold\">2</span>,  <span style=\"color: #008080; text-decoration-color: #008080; font-weight: bold\">0</span><span style=\"font-weight: bold\">]</span>,\n",
       "       <span style=\"font-weight: bold\">[</span> <span style=\"color: #008080; text-decoration-color: #008080; font-weight: bold\">1</span>,  <span style=\"color: #008080; text-decoration-color: #008080; font-weight: bold\">3</span>,  <span style=\"color: #008080; text-decoration-color: #008080; font-weight: bold\">0</span><span style=\"font-weight: bold\">]</span>,\n",
       "       <span style=\"color: #808000; text-decoration-color: #808000\">...</span>,\n",
       "       <span style=\"font-weight: bold\">[</span> <span style=\"color: #008080; text-decoration-color: #008080; font-weight: bold\">8</span>, <span style=\"color: #008080; text-decoration-color: #008080; font-weight: bold\">92</span>,  <span style=\"color: #008080; text-decoration-color: #008080; font-weight: bold\">0</span><span style=\"font-weight: bold\">]</span>,\n",
       "       <span style=\"font-weight: bold\">[</span> <span style=\"color: #008080; text-decoration-color: #008080; font-weight: bold\">8</span>, <span style=\"color: #008080; text-decoration-color: #008080; font-weight: bold\">93</span>,  <span style=\"color: #008080; text-decoration-color: #008080; font-weight: bold\">0</span><span style=\"font-weight: bold\">]</span>,\n",
       "       <span style=\"font-weight: bold\">[</span> <span style=\"color: #008080; text-decoration-color: #008080; font-weight: bold\">8</span>, <span style=\"color: #008080; text-decoration-color: #008080; font-weight: bold\">94</span>,  <span style=\"color: #008080; text-decoration-color: #008080; font-weight: bold\">0</span><span style=\"font-weight: bold\">]])</span>\n",
       "</pre>\n"
      ],
      "text/plain": [
       "\u001b[1;35marray\u001b[0m\u001b[1m(\u001b[0m\u001b[1m[\u001b[0m\u001b[1m[\u001b[0m \u001b[1;36m1\u001b[0m,  \u001b[1;36m1\u001b[0m,  \u001b[1;36m0\u001b[0m\u001b[1m]\u001b[0m,\n",
       "       \u001b[1m[\u001b[0m \u001b[1;36m1\u001b[0m,  \u001b[1;36m2\u001b[0m,  \u001b[1;36m0\u001b[0m\u001b[1m]\u001b[0m,\n",
       "       \u001b[1m[\u001b[0m \u001b[1;36m1\u001b[0m,  \u001b[1;36m3\u001b[0m,  \u001b[1;36m0\u001b[0m\u001b[1m]\u001b[0m,\n",
       "       \u001b[33m...\u001b[0m,\n",
       "       \u001b[1m[\u001b[0m \u001b[1;36m8\u001b[0m, \u001b[1;36m92\u001b[0m,  \u001b[1;36m0\u001b[0m\u001b[1m]\u001b[0m,\n",
       "       \u001b[1m[\u001b[0m \u001b[1;36m8\u001b[0m, \u001b[1;36m93\u001b[0m,  \u001b[1;36m0\u001b[0m\u001b[1m]\u001b[0m,\n",
       "       \u001b[1m[\u001b[0m \u001b[1;36m8\u001b[0m, \u001b[1;36m94\u001b[0m,  \u001b[1;36m0\u001b[0m\u001b[1m]\u001b[0m\u001b[1m]\u001b[0m\u001b[1m)\u001b[0m\n"
      ]
     },
     "metadata": {},
     "output_type": "display_data"
    }
   ],
   "source": [
    "hcl"
   ]
  },
  {
   "cell_type": "code",
   "execution_count": null,
   "id": "92d351b4",
   "metadata": {},
   "outputs": [],
   "source": []
  },
  {
   "cell_type": "code",
   "execution_count": 33,
   "id": "032be1ec",
   "metadata": {},
   "outputs": [
    {
     "data": {
      "text/html": [
       "<pre style=\"white-space:pre;overflow-x:auto;line-height:normal;font-family:Menlo,'DejaVu Sans Mono',consolas,'Courier New',monospace\"><span style=\"font-weight: bold\">[&lt;</span><span style=\"color: #ff00ff; text-decoration-color: #ff00ff; font-weight: bold\">matplotlib.lines.Line2D</span><span style=\"color: #000000; text-decoration-color: #000000\"> object at </span><span style=\"color: #008080; text-decoration-color: #008080; font-weight: bold\">0x7f259d2fd580</span><span style=\"font-weight: bold\">&gt;]</span>\n",
       "</pre>\n"
      ],
      "text/plain": [
       "\u001b[1m[\u001b[0m\u001b[1m<\u001b[0m\u001b[1;95mmatplotlib.lines.Line2D\u001b[0m\u001b[39m object at \u001b[0m\u001b[1;36m0x7f259d2fd580\u001b[0m\u001b[1m>\u001b[0m\u001b[1m]\u001b[0m\n"
      ]
     },
     "metadata": {},
     "output_type": "display_data"
    },
    {
     "data": {
      "image/png": "[encoded data removed]"
     },
     "metadata": {},
     "output_type": "display_data"
    }
   ],
   "source": [
    "plt.plot(hcl[:, 2])"
   ]
  },
  {
   "cell_type": "code",
   "execution_count": 41,
   "id": "5839832e",
   "metadata": {},
   "outputs": [
    {
     "data": {
      "text/html": [
       "<pre style=\"white-space:pre;overflow-x:auto;line-height:normal;font-family:Menlo,'DejaVu Sans Mono',consolas,'Courier New',monospace\"><span style=\"color: #800080; text-decoration-color: #800080; font-weight: bold\">array</span><span style=\"font-weight: bold\">([[</span>  <span style=\"color: #008080; text-decoration-color: #008080; font-weight: bold\">4</span>, <span style=\"color: #008080; text-decoration-color: #008080; font-weight: bold\">113</span>,   <span style=\"color: #008080; text-decoration-color: #008080; font-weight: bold\">0</span><span style=\"font-weight: bold\">]])</span>\n",
       "</pre>\n"
      ],
      "text/plain": [
       "\u001b[1;35marray\u001b[0m\u001b[1m(\u001b[0m\u001b[1m[\u001b[0m\u001b[1m[\u001b[0m  \u001b[1;36m4\u001b[0m, \u001b[1;36m113\u001b[0m,   \u001b[1;36m0\u001b[0m\u001b[1m]\u001b[0m\u001b[1m]\u001b[0m\u001b[1m)\u001b[0m\n"
      ]
     },
     "metadata": {},
     "output_type": "display_data"
    }
   ],
   "source": [
    "mice.parcel.decode(1265)"
   ]
  },
  {
   "cell_type": "code",
   "execution_count": 61,
   "id": "2b486d60",
   "metadata": {},
   "outputs": [
    {
     "data": {
      "text/html": [
       "<pre style=\"white-space:pre;overflow-x:auto;line-height:normal;font-family:Menlo,'DejaVu Sans Mono',consolas,'Courier New',monospace\"><span style=\"color: #008080; text-decoration-color: #008080; font-weight: bold\">0</span>\n",
       "</pre>\n"
      ],
      "text/plain": [
       "\u001b[1;36m0\u001b[0m\n"
      ]
     },
     "metadata": {},
     "output_type": "display_data"
    }
   ],
   "source": [
    "self.roi_cutoff"
   ]
  },
  {
   "cell_type": "code",
   "execution_count": 58,
   "id": "26133d5f",
   "metadata": {},
   "outputs": [],
   "source": [
    "\t\t\t_info = self.mice.parcel.df.loc[\n",
    "\t\t\t\tmice.parcel.df['id'].isin(sizes)]"
   ]
  },
  {
   "cell_type": "code",
   "execution_count": 60,
   "id": "fa72ef31",
   "metadata": {},
   "outputs": [
    {
     "data": {
      "text/html": [
       "<div>\n",
       "<style scoped>\n",
       "    .dataframe tbody tr th:only-of-type {\n",
       "        vertical-align: middle;\n",
       "    }\n",
       "\n",
       "    .dataframe tbody tr th {\n",
       "        vertical-align: top;\n",
       "    }\n",
       "\n",
       "    .dataframe thead th {\n",
       "        text-align: right;\n",
       "    }\n",
       "</style>\n",
       "<table border=\"1\" class=\"dataframe\">\n",
       "  <thead>\n",
       "    <tr style=\"text-align: right;\">\n",
       "      <th></th>\n",
       "      <th>id</th>\n",
       "      <th>acro</th>\n",
       "      <th>hemis</th>\n",
       "      <th>region</th>\n",
       "      <th>layer</th>\n",
       "    </tr>\n",
       "  </thead>\n",
       "  <tbody>\n",
       "    <tr>\n",
       "      <th>0</th>\n",
       "      <td>1</td>\n",
       "      <td>Isocortex</td>\n",
       "      <td>1</td>\n",
       "      <td>1</td>\n",
       "      <td>0</td>\n",
       "    </tr>\n",
       "    <tr>\n",
       "      <th>1</th>\n",
       "      <td>2</td>\n",
       "      <td>Isocortex</td>\n",
       "      <td>1</td>\n",
       "      <td>2</td>\n",
       "      <td>0</td>\n",
       "    </tr>\n",
       "    <tr>\n",
       "      <th>2</th>\n",
       "      <td>3</td>\n",
       "      <td>Isocortex</td>\n",
       "      <td>1</td>\n",
       "      <td>3</td>\n",
       "      <td>0</td>\n",
       "    </tr>\n",
       "    <tr>\n",
       "      <th>3</th>\n",
       "      <td>4</td>\n",
       "      <td>Isocortex</td>\n",
       "      <td>1</td>\n",
       "      <td>4</td>\n",
       "      <td>0</td>\n",
       "    </tr>\n",
       "    <tr>\n",
       "      <th>4</th>\n",
       "      <td>5</td>\n",
       "      <td>Isocortex</td>\n",
       "      <td>1</td>\n",
       "      <td>5</td>\n",
       "      <td>0</td>\n",
       "    </tr>\n",
       "    <tr>\n",
       "      <th>...</th>\n",
       "      <td>...</td>\n",
       "      <td>...</td>\n",
       "      <td>...</td>\n",
       "      <td>...</td>\n",
       "      <td>...</td>\n",
       "    </tr>\n",
       "    <tr>\n",
       "      <th>2777</th>\n",
       "      <td>2778</td>\n",
       "      <td>CB</td>\n",
       "      <td>2</td>\n",
       "      <td>2610</td>\n",
       "      <td>-1</td>\n",
       "    </tr>\n",
       "    <tr>\n",
       "      <th>2778</th>\n",
       "      <td>2779</td>\n",
       "      <td>CB</td>\n",
       "      <td>2</td>\n",
       "      <td>2611</td>\n",
       "      <td>-1</td>\n",
       "    </tr>\n",
       "    <tr>\n",
       "      <th>2779</th>\n",
       "      <td>2780</td>\n",
       "      <td>CB</td>\n",
       "      <td>2</td>\n",
       "      <td>2612</td>\n",
       "      <td>-1</td>\n",
       "    </tr>\n",
       "    <tr>\n",
       "      <th>2780</th>\n",
       "      <td>2781</td>\n",
       "      <td>CB</td>\n",
       "      <td>2</td>\n",
       "      <td>2613</td>\n",
       "      <td>-1</td>\n",
       "    </tr>\n",
       "    <tr>\n",
       "      <th>2781</th>\n",
       "      <td>2782</td>\n",
       "      <td>CB</td>\n",
       "      <td>2</td>\n",
       "      <td>2614</td>\n",
       "      <td>-1</td>\n",
       "    </tr>\n",
       "  </tbody>\n",
       "</table>\n",
       "<p>2782 rows × 5 columns</p>\n",
       "</div>"
      ]
     },
     "execution_count": 60,
     "metadata": {},
     "output_type": "execute_result"
    }
   ],
   "source": [
    "self.mice.parcel.df"
   ]
  },
  {
   "cell_type": "code",
   "execution_count": 59,
   "id": "aa325dbe",
   "metadata": {},
   "outputs": [
    {
     "data": {
      "text/html": [
       "<div>\n",
       "<style scoped>\n",
       "    .dataframe tbody tr th:only-of-type {\n",
       "        vertical-align: middle;\n",
       "    }\n",
       "\n",
       "    .dataframe tbody tr th {\n",
       "        vertical-align: top;\n",
       "    }\n",
       "\n",
       "    .dataframe thead th {\n",
       "        text-align: right;\n",
       "    }\n",
       "</style>\n",
       "<table border=\"1\" class=\"dataframe\">\n",
       "  <thead>\n",
       "    <tr style=\"text-align: right;\">\n",
       "      <th></th>\n",
       "      <th>id</th>\n",
       "      <th>acro</th>\n",
       "      <th>hemis</th>\n",
       "      <th>region</th>\n",
       "      <th>layer</th>\n",
       "    </tr>\n",
       "  </thead>\n",
       "  <tbody>\n",
       "    <tr>\n",
       "      <th>0</th>\n",
       "      <td>1</td>\n",
       "      <td>Isocortex</td>\n",
       "      <td>1</td>\n",
       "      <td>1</td>\n",
       "      <td>0</td>\n",
       "    </tr>\n",
       "    <tr>\n",
       "      <th>1</th>\n",
       "      <td>2</td>\n",
       "      <td>Isocortex</td>\n",
       "      <td>1</td>\n",
       "      <td>2</td>\n",
       "      <td>0</td>\n",
       "    </tr>\n",
       "    <tr>\n",
       "      <th>2</th>\n",
       "      <td>3</td>\n",
       "      <td>Isocortex</td>\n",
       "      <td>1</td>\n",
       "      <td>3</td>\n",
       "      <td>0</td>\n",
       "    </tr>\n",
       "    <tr>\n",
       "      <th>3</th>\n",
       "      <td>4</td>\n",
       "      <td>Isocortex</td>\n",
       "      <td>1</td>\n",
       "      <td>4</td>\n",
       "      <td>0</td>\n",
       "    </tr>\n",
       "    <tr>\n",
       "      <th>4</th>\n",
       "      <td>5</td>\n",
       "      <td>Isocortex</td>\n",
       "      <td>1</td>\n",
       "      <td>5</td>\n",
       "      <td>0</td>\n",
       "    </tr>\n",
       "    <tr>\n",
       "      <th>...</th>\n",
       "      <td>...</td>\n",
       "      <td>...</td>\n",
       "      <td>...</td>\n",
       "      <td>...</td>\n",
       "      <td>...</td>\n",
       "    </tr>\n",
       "    <tr>\n",
       "      <th>2777</th>\n",
       "      <td>2778</td>\n",
       "      <td>CB</td>\n",
       "      <td>2</td>\n",
       "      <td>2610</td>\n",
       "      <td>-1</td>\n",
       "    </tr>\n",
       "    <tr>\n",
       "      <th>2778</th>\n",
       "      <td>2779</td>\n",
       "      <td>CB</td>\n",
       "      <td>2</td>\n",
       "      <td>2611</td>\n",
       "      <td>-1</td>\n",
       "    </tr>\n",
       "    <tr>\n",
       "      <th>2779</th>\n",
       "      <td>2780</td>\n",
       "      <td>CB</td>\n",
       "      <td>2</td>\n",
       "      <td>2612</td>\n",
       "      <td>-1</td>\n",
       "    </tr>\n",
       "    <tr>\n",
       "      <th>2780</th>\n",
       "      <td>2781</td>\n",
       "      <td>CB</td>\n",
       "      <td>2</td>\n",
       "      <td>2613</td>\n",
       "      <td>-1</td>\n",
       "    </tr>\n",
       "    <tr>\n",
       "      <th>2781</th>\n",
       "      <td>2782</td>\n",
       "      <td>CB</td>\n",
       "      <td>2</td>\n",
       "      <td>2614</td>\n",
       "      <td>-1</td>\n",
       "    </tr>\n",
       "  </tbody>\n",
       "</table>\n",
       "<p>2768 rows × 5 columns</p>\n",
       "</div>"
      ]
     },
     "execution_count": 59,
     "metadata": {},
     "output_type": "execute_result"
    }
   ],
   "source": [
    "_info"
   ]
  },
  {
   "cell_type": "code",
   "execution_count": null,
   "id": "e92f98ee",
   "metadata": {},
   "outputs": [],
   "source": []
  },
  {
   "cell_type": "code",
   "execution_count": 43,
   "id": "cd02f26c",
   "metadata": {},
   "outputs": [
    {
     "data": {
      "text/html": [
       "<pre style=\"white-space:pre;overflow-x:auto;line-height:normal;font-family:Menlo,'DejaVu Sans Mono',consolas,'Courier New',monospace\"><span style=\"font-weight: bold\">{</span><span style=\"color: #008000; text-decoration-color: #008000\">'id'</span>: <span style=\"color: #008080; text-decoration-color: #008080; font-weight: bold\">1</span>, <span style=\"color: #008000; text-decoration-color: #008000\">'acro'</span>: <span style=\"color: #008000; text-decoration-color: #008000\">'Isocortex'</span>, <span style=\"color: #008000; text-decoration-color: #008000\">'hemis'</span>: <span style=\"color: #008080; text-decoration-color: #008080; font-weight: bold\">1</span>, <span style=\"color: #008000; text-decoration-color: #008000\">'region'</span>: <span style=\"color: #008080; text-decoration-color: #008080; font-weight: bold\">1</span>, <span style=\"color: #008000; text-decoration-color: #008000\">'layer'</span>: <span style=\"color: #008080; text-decoration-color: #008080; font-weight: bold\">0</span><span style=\"font-weight: bold\">}</span>\n",
       "</pre>\n"
      ],
      "text/plain": [
       "\u001b[1m{\u001b[0m\u001b[32m'id'\u001b[0m: \u001b[1;36m1\u001b[0m, \u001b[32m'acro'\u001b[0m: \u001b[32m'Isocortex'\u001b[0m, \u001b[32m'hemis'\u001b[0m: \u001b[1;36m1\u001b[0m, \u001b[32m'region'\u001b[0m: \u001b[1;36m1\u001b[0m, \u001b[32m'layer'\u001b[0m: \u001b[1;36m0\u001b[0m\u001b[1m}\u001b[0m\n"
      ]
     },
     "metadata": {},
     "output_type": "display_data"
    }
   ],
   "source": [
    "mice.parcel.get(1)"
   ]
  },
  {
   "cell_type": "code",
   "execution_count": null,
   "id": "e77617d5",
   "metadata": {},
   "outputs": [],
   "source": []
  },
  {
   "cell_type": "code",
   "execution_count": 47,
   "id": "325d8691",
   "metadata": {},
   "outputs": [
    {
     "data": {
      "text/html": [
       "<pre style=\"white-space:pre;overflow-x:auto;line-height:normal;font-family:Menlo,'DejaVu Sans Mono',consolas,'Courier New',monospace\"><span style=\"color: #008080; text-decoration-color: #008080; font-weight: bold\">2768</span>\n",
       "</pre>\n"
      ],
      "text/plain": [
       "\u001b[1;36m2768\u001b[0m\n"
      ]
     },
     "metadata": {},
     "output_type": "display_data"
    }
   ],
   "source": [
    "len()"
   ]
  },
  {
   "cell_type": "code",
   "execution_count": 46,
   "id": "484ca95e",
   "metadata": {},
   "outputs": [
    {
     "data": {
      "text/html": [
       "<pre style=\"white-space:pre;overflow-x:auto;line-height:normal;font-family:Menlo,'DejaVu Sans Mono',consolas,'Courier New',monospace\"><span style=\"font-weight: bold\">&lt;</span><span style=\"color: #ff00ff; text-decoration-color: #ff00ff; font-weight: bold\">matplotlib.image.AxesImage</span><span style=\"color: #000000; text-decoration-color: #000000\"> object at </span><span style=\"color: #008080; text-decoration-color: #008080; font-weight: bold\">0x7f259d2b5af0</span><span style=\"font-weight: bold\">&gt;</span>\n",
       "</pre>\n"
      ],
      "text/plain": [
       "\u001b[1m<\u001b[0m\u001b[1;95mmatplotlib.image.AxesImage\u001b[0m\u001b[39m object at \u001b[0m\u001b[1;36m0x7f259d2b5af0\u001b[0m\u001b[1m>\u001b[0m\n"
      ]
     },
     "metadata": {},
     "output_type": "display_data"
    },
    {
     "data": {
      "image/png": "[encoded data removed]"
     },
     "metadata": {},
     "output_type": "display_data"
    }
   ],
   "source": [
    "plt.imshow(obj[40])"
   ]
  },
  {
   "cell_type": "code",
   "execution_count": 48,
   "id": "95721fa1",
   "metadata": {},
   "outputs": [],
   "source": [
    "sizes = {\n",
    "    r: len(v) for r, v in\n",
    "    unique_idxs(obj).items()\n",
    "}"
   ]
  },
  {
   "cell_type": "code",
   "execution_count": 51,
   "id": "314d5ace",
   "metadata": {},
   "outputs": [
    {
     "data": {
      "text/html": [
       "<pre style=\"white-space:pre;overflow-x:auto;line-height:normal;font-family:Menlo,'DejaVu Sans Mono',consolas,'Courier New',monospace\"><span style=\"font-weight: bold\">&lt;</span><span style=\"color: #ff00ff; text-decoration-color: #ff00ff; font-weight: bold\">Axes:</span><span style=\"color: #000000; text-decoration-color: #000000\"> </span><span style=\"color: #808000; text-decoration-color: #808000\">ylabel</span><span style=\"color: #000000; text-decoration-color: #000000\">=</span><span style=\"color: #008000; text-decoration-color: #008000\">'Count'</span><span style=\"font-weight: bold\">&gt;</span>\n",
       "</pre>\n"
      ],
      "text/plain": [
       "\u001b[1m<\u001b[0m\u001b[1;95mAxes:\u001b[0m\u001b[39m \u001b[0m\u001b[33mylabel\u001b[0m\u001b[39m=\u001b[0m\u001b[32m'Count'\u001b[0m\u001b[1m>\u001b[0m\n"
      ]
     },
     "metadata": {},
     "output_type": "display_data"
    },
    {
     "data": {
      "image/png": "[encoded data removed]"
     },
     "metadata": {},
     "output_type": "display_data"
    }
   ],
   "source": [
    "sns.histplot(sizes.values())"
   ]
  },
  {
   "cell_type": "code",
   "execution_count": 52,
   "id": "7a4a3692",
   "metadata": {},
   "outputs": [
    {
     "data": {
      "text/html": [
       "<pre style=\"white-space:pre;overflow-x:auto;line-height:normal;font-family:Menlo,'DejaVu Sans Mono',consolas,'Courier New',monospace\"><span style=\"font-weight: bold\">[</span><span style=\"color: #008000; text-decoration-color: #008000\">'brain'</span>, <span style=\"color: #008000; text-decoration-color: #008000\">'eroded'</span><span style=\"font-weight: bold\">]</span>\n",
       "</pre>\n"
      ],
      "text/plain": [
       "\u001b[1m[\u001b[0m\u001b[32m'brain'\u001b[0m, \u001b[32m'eroded'\u001b[0m\u001b[1m]\u001b[0m\n"
      ]
     },
     "metadata": {},
     "output_type": "display_data"
    }
   ],
   "source": [
    "list(obj_masks)"
   ]
  },
  {
   "cell_type": "code",
   "execution_count": null,
   "id": "8c03f474",
   "metadata": {},
   "outputs": [],
   "source": []
  },
  {
   "cell_type": "code",
   "execution_count": null,
   "id": "363a9982",
   "metadata": {},
   "outputs": [],
   "source": []
  },
  {
   "cell_type": "code",
   "execution_count": null,
   "id": "1d57052d",
   "metadata": {},
   "outputs": [],
   "source": []
  },
  {
   "cell_type": "code",
   "execution_count": null,
   "id": "18d4e1f6",
   "metadata": {},
   "outputs": [],
   "source": []
  },
  {
   "cell_type": "code",
   "execution_count": null,
   "id": "b416f8ec",
   "metadata": {},
   "outputs": [],
   "source": []
  },
  {
   "cell_type": "code",
   "execution_count": 71,
   "id": "80ad67ca",
   "metadata": {},
   "outputs": [
    {
     "data": {
      "image/png": "[encoded data removed]"
     },
     "metadata": {},
     "output_type": "display_data"
    }
   ],
   "source": [
    "mice.parcel.fill_rois_2d(dry_run=True)"
   ]
  },
  {
   "cell_type": "code",
   "execution_count": null,
   "id": "71b8de6f",
   "metadata": {},
   "outputs": [],
   "source": []
  },
  {
   "cell_type": "code",
   "execution_count": null,
   "id": "bd83cedb",
   "metadata": {},
   "outputs": [],
   "source": []
  },
  {
   "cell_type": "code",
   "execution_count": null,
   "id": "36d2e6d9",
   "metadata": {},
   "outputs": [],
   "source": []
  },
  {
   "cell_type": "code",
   "execution_count": null,
   "id": "3d886151",
   "metadata": {},
   "outputs": [],
   "source": []
  },
  {
   "cell_type": "code",
   "execution_count": null,
   "id": "dc77ce4c",
   "metadata": {},
   "outputs": [],
   "source": []
  },
  {
   "cell_type": "code",
   "execution_count": null,
   "id": "7d494537",
   "metadata": {},
   "outputs": [],
   "source": []
  },
  {
   "cell_type": "code",
   "execution_count": null,
   "id": "6aaf3c9e",
   "metadata": {},
   "outputs": [],
   "source": []
  }
 ],
 "metadata": {
  "kernelspec": {
   "display_name": "Python 3",
   "language": "python",
   "name": "python3"
  },
  "language_info": {
   "codemirror_mode": {
    "name": "ipython",
    "version": 3
   },
   "file_extension": ".py",
   "mimetype": "text/x-python",
   "name": "python",
   "nbconvert_exporter": "python",
   "pygments_lexer": "ipython3",
   "version": "3.8.3"
  }
 },
 "nbformat": 4,
 "nbformat_minor": 5
}
