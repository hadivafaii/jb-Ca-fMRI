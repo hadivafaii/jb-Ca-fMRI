{
 "cells": [
  {
   "cell_type": "markdown",
   "id": "17d50fc5",
   "metadata": {},
   "source": [
    "# (02) Daniel\n",
    "\n",
    "**Motivation**: save raw data (both bold & ca) as matlab files. <br>"
   ]
  },
  {
   "cell_type": "code",
   "execution_count": 1,
   "id": "981a263d",
   "metadata": {},
   "outputs": [],
   "source": [
    "# HIDE CODE\n",
    "\n",
    "\n",
    "import os, sys\n",
    "from IPython.display import display\n",
    "\n",
    "# tmp & extras dir\n",
    "git_dir = os.path.join(os.environ['HOME'], 'Dropbox/git')\n",
    "extras_dir = os.path.join(git_dir, 'jb-Ca-fMRI/_extras')\n",
    "fig_base_dir = os.path.join(git_dir, 'jb-Ca-fMRI/figs')\n",
    "tmp_dir = os.path.join(git_dir, 'jb-Ca-fMRI/tmp')\n",
    "\n",
    "# GitHub\n",
    "sys.path.insert(0, os.path.join(git_dir, '_Ca-fMRI'))\n",
    "from figures.fighelper import *\n",
    "from analysis.final import *\n",
    "from utils.render import *\n",
    "\n",
    "# warnings, tqdm, & style\n",
    "warnings.filterwarnings('ignore', category=DeprecationWarning)\n",
    "from tqdm.notebook import tqdm\n",
    "%matplotlib inline\n",
    "set_style()"
   ]
  },
  {
   "cell_type": "markdown",
   "id": "1f8fc967",
   "metadata": {},
   "source": [
    "## Copy files to desktop"
   ]
  },
  {
   "cell_type": "code",
   "execution_count": 12,
   "id": "71f97832",
   "metadata": {},
   "outputs": [],
   "source": [
    "from scipy import io as sio\n",
    "\n",
    "src = '/home/hadi/Documents/Ca-fMRI/processed/norm-global_parcel-columnar_n-192*3'\n",
    "tgt = '/home/hadi/Desktop/Hadi-SLC'"
   ]
  },
  {
   "cell_type": "code",
   "execution_count": 3,
   "id": "367498a8",
   "metadata": {},
   "outputs": [],
   "source": [
    "shapes = collections.defaultdict(list)\n",
    "for mode in ['bold', 'ca2']:\n",
    "    path = pjoin(src, mode)\n",
    "    for f in sorted(os.listdir(path)):\n",
    "        desc = next(e for e in f.split('_') if 'desc' in e)\n",
    "        if 'run' not in f:\n",
    "            continue\n",
    "        if mode == 'bold' and desc not in ['desc-raw', 'desc-rabies-hp']:\n",
    "            continue\n",
    "        if mode == 'ca2' and desc != 'desc-preproc':\n",
    "            continue\n",
    "        data = np.load(pjoin(path, f))\n",
    "        save_file = pjoin(tgt, mode, f\"{f.split('.')[0]}.mat\")\n",
    "        sio.savemat(save_file, dict(data=data))\n",
    "        shapes['_'.join([mode, desc])].append(data.shape)"
   ]
  },
  {
   "cell_type": "code",
   "execution_count": 4,
   "id": "b12fee6f",
   "metadata": {
    "scrolled": true
   },
   "outputs": [
    {
     "data": {
      "text/html": [
       "<pre style=\"white-space:pre;overflow-x:auto;line-height:normal;font-family:Menlo,'DejaVu Sans Mono',consolas,'Courier New',monospace\"><span style=\"font-weight: bold\">{</span>\n",
       "    <span style=\"color: #008000; text-decoration-color: #008000\">'bold_desc-rabies-hp'</span>: <span style=\"color: #800080; text-decoration-color: #800080; font-weight: bold\">Counter</span><span style=\"font-weight: bold\">({</span>\n",
       "        <span style=\"font-weight: bold\">(</span><span style=\"color: #008080; text-decoration-color: #008080; font-weight: bold\">1438</span>, <span style=\"color: #008080; text-decoration-color: #008080; font-weight: bold\">536</span><span style=\"font-weight: bold\">)</span>: <span style=\"color: #008080; text-decoration-color: #008080; font-weight: bold\">3</span>,\n",
       "        <span style=\"font-weight: bold\">(</span><span style=\"color: #008080; text-decoration-color: #008080; font-weight: bold\">1438</span>, <span style=\"color: #008080; text-decoration-color: #008080; font-weight: bold\">372</span><span style=\"font-weight: bold\">)</span>: <span style=\"color: #008080; text-decoration-color: #008080; font-weight: bold\">1</span>,\n",
       "        <span style=\"font-weight: bold\">(</span><span style=\"color: #008080; text-decoration-color: #008080; font-weight: bold\">1438</span>, <span style=\"color: #008080; text-decoration-color: #008080; font-weight: bold\">477</span><span style=\"font-weight: bold\">)</span>: <span style=\"color: #008080; text-decoration-color: #008080; font-weight: bold\">3</span>,\n",
       "        <span style=\"font-weight: bold\">(</span><span style=\"color: #008080; text-decoration-color: #008080; font-weight: bold\">1438</span>, <span style=\"color: #008080; text-decoration-color: #008080; font-weight: bold\">480</span><span style=\"font-weight: bold\">)</span>: <span style=\"color: #008080; text-decoration-color: #008080; font-weight: bold\">3</span>,\n",
       "        <span style=\"font-weight: bold\">(</span><span style=\"color: #008080; text-decoration-color: #008080; font-weight: bold\">1438</span>, <span style=\"color: #008080; text-decoration-color: #008080; font-weight: bold\">466</span><span style=\"font-weight: bold\">)</span>: <span style=\"color: #008080; text-decoration-color: #008080; font-weight: bold\">1</span>,\n",
       "        <span style=\"font-weight: bold\">(</span><span style=\"color: #008080; text-decoration-color: #008080; font-weight: bold\">1438</span>, <span style=\"color: #008080; text-decoration-color: #008080; font-weight: bold\">478</span><span style=\"font-weight: bold\">)</span>: <span style=\"color: #008080; text-decoration-color: #008080; font-weight: bold\">3</span>,\n",
       "        <span style=\"font-weight: bold\">(</span><span style=\"color: #008080; text-decoration-color: #008080; font-weight: bold\">1438</span>, <span style=\"color: #008080; text-decoration-color: #008080; font-weight: bold\">445</span><span style=\"font-weight: bold\">)</span>: <span style=\"color: #008080; text-decoration-color: #008080; font-weight: bold\">1</span>,\n",
       "        <span style=\"font-weight: bold\">(</span><span style=\"color: #008080; text-decoration-color: #008080; font-weight: bold\">1438</span>, <span style=\"color: #008080; text-decoration-color: #008080; font-weight: bold\">488</span><span style=\"font-weight: bold\">)</span>: <span style=\"color: #008080; text-decoration-color: #008080; font-weight: bold\">4</span>,\n",
       "        <span style=\"font-weight: bold\">(</span><span style=\"color: #008080; text-decoration-color: #008080; font-weight: bold\">1438</span>, <span style=\"color: #008080; text-decoration-color: #008080; font-weight: bold\">496</span><span style=\"font-weight: bold\">)</span>: <span style=\"color: #008080; text-decoration-color: #008080; font-weight: bold\">5</span>,\n",
       "        <span style=\"font-weight: bold\">(</span><span style=\"color: #008080; text-decoration-color: #008080; font-weight: bold\">1438</span>, <span style=\"color: #008080; text-decoration-color: #008080; font-weight: bold\">524</span><span style=\"font-weight: bold\">)</span>: <span style=\"color: #008080; text-decoration-color: #008080; font-weight: bold\">5</span>,\n",
       "        <span style=\"font-weight: bold\">(</span><span style=\"color: #008080; text-decoration-color: #008080; font-weight: bold\">1438</span>, <span style=\"color: #008080; text-decoration-color: #008080; font-weight: bold\">493</span><span style=\"font-weight: bold\">)</span>: <span style=\"color: #008080; text-decoration-color: #008080; font-weight: bold\">3</span>,\n",
       "        <span style=\"font-weight: bold\">(</span><span style=\"color: #008080; text-decoration-color: #008080; font-weight: bold\">1438</span>, <span style=\"color: #008080; text-decoration-color: #008080; font-weight: bold\">506</span><span style=\"font-weight: bold\">)</span>: <span style=\"color: #008080; text-decoration-color: #008080; font-weight: bold\">4</span>,\n",
       "        <span style=\"font-weight: bold\">(</span><span style=\"color: #008080; text-decoration-color: #008080; font-weight: bold\">1438</span>, <span style=\"color: #008080; text-decoration-color: #008080; font-weight: bold\">531</span><span style=\"font-weight: bold\">)</span>: <span style=\"color: #008080; text-decoration-color: #008080; font-weight: bold\">6</span>,\n",
       "        <span style=\"font-weight: bold\">(</span><span style=\"color: #008080; text-decoration-color: #008080; font-weight: bold\">1438</span>, <span style=\"color: #008080; text-decoration-color: #008080; font-weight: bold\">512</span><span style=\"font-weight: bold\">)</span>: <span style=\"color: #008080; text-decoration-color: #008080; font-weight: bold\">5</span>,\n",
       "        <span style=\"font-weight: bold\">(</span><span style=\"color: #008080; text-decoration-color: #008080; font-weight: bold\">1438</span>, <span style=\"color: #008080; text-decoration-color: #008080; font-weight: bold\">499</span><span style=\"font-weight: bold\">)</span>: <span style=\"color: #008080; text-decoration-color: #008080; font-weight: bold\">1</span>,\n",
       "        <span style=\"font-weight: bold\">(</span><span style=\"color: #008080; text-decoration-color: #008080; font-weight: bold\">1438</span>, <span style=\"color: #008080; text-decoration-color: #008080; font-weight: bold\">472</span><span style=\"font-weight: bold\">)</span>: <span style=\"color: #008080; text-decoration-color: #008080; font-weight: bold\">2</span>,\n",
       "        <span style=\"font-weight: bold\">(</span><span style=\"color: #008080; text-decoration-color: #008080; font-weight: bold\">1438</span>, <span style=\"color: #008080; text-decoration-color: #008080; font-weight: bold\">491</span><span style=\"font-weight: bold\">)</span>: <span style=\"color: #008080; text-decoration-color: #008080; font-weight: bold\">4</span>,\n",
       "        <span style=\"font-weight: bold\">(</span><span style=\"color: #008080; text-decoration-color: #008080; font-weight: bold\">1438</span>, <span style=\"color: #008080; text-decoration-color: #008080; font-weight: bold\">522</span><span style=\"font-weight: bold\">)</span>: <span style=\"color: #008080; text-decoration-color: #008080; font-weight: bold\">2</span>,\n",
       "        <span style=\"font-weight: bold\">(</span><span style=\"color: #008080; text-decoration-color: #008080; font-weight: bold\">1438</span>, <span style=\"color: #008080; text-decoration-color: #008080; font-weight: bold\">482</span><span style=\"font-weight: bold\">)</span>: <span style=\"color: #008080; text-decoration-color: #008080; font-weight: bold\">3</span>,\n",
       "        <span style=\"font-weight: bold\">(</span><span style=\"color: #008080; text-decoration-color: #008080; font-weight: bold\">1438</span>, <span style=\"color: #008080; text-decoration-color: #008080; font-weight: bold\">550</span><span style=\"font-weight: bold\">)</span>: <span style=\"color: #008080; text-decoration-color: #008080; font-weight: bold\">1</span>,\n",
       "        <span style=\"font-weight: bold\">(</span><span style=\"color: #008080; text-decoration-color: #008080; font-weight: bold\">1438</span>, <span style=\"color: #008080; text-decoration-color: #008080; font-weight: bold\">474</span><span style=\"font-weight: bold\">)</span>: <span style=\"color: #008080; text-decoration-color: #008080; font-weight: bold\">3</span>,\n",
       "        <span style=\"font-weight: bold\">(</span><span style=\"color: #008080; text-decoration-color: #008080; font-weight: bold\">1438</span>, <span style=\"color: #008080; text-decoration-color: #008080; font-weight: bold\">517</span><span style=\"font-weight: bold\">)</span>: <span style=\"color: #008080; text-decoration-color: #008080; font-weight: bold\">6</span>,\n",
       "        <span style=\"font-weight: bold\">(</span><span style=\"color: #008080; text-decoration-color: #008080; font-weight: bold\">1438</span>, <span style=\"color: #008080; text-decoration-color: #008080; font-weight: bold\">529</span><span style=\"font-weight: bold\">)</span>: <span style=\"color: #008080; text-decoration-color: #008080; font-weight: bold\">1</span>,\n",
       "        <span style=\"font-weight: bold\">(</span><span style=\"color: #008080; text-decoration-color: #008080; font-weight: bold\">1438</span>, <span style=\"color: #008080; text-decoration-color: #008080; font-weight: bold\">518</span><span style=\"font-weight: bold\">)</span>: <span style=\"color: #008080; text-decoration-color: #008080; font-weight: bold\">1</span>,\n",
       "        <span style=\"font-weight: bold\">(</span><span style=\"color: #008080; text-decoration-color: #008080; font-weight: bold\">1438</span>, <span style=\"color: #008080; text-decoration-color: #008080; font-weight: bold\">388</span><span style=\"font-weight: bold\">)</span>: <span style=\"color: #008080; text-decoration-color: #008080; font-weight: bold\">1</span>,\n",
       "        <span style=\"font-weight: bold\">(</span><span style=\"color: #008080; text-decoration-color: #008080; font-weight: bold\">1438</span>, <span style=\"color: #008080; text-decoration-color: #008080; font-weight: bold\">519</span><span style=\"font-weight: bold\">)</span>: <span style=\"color: #008080; text-decoration-color: #008080; font-weight: bold\">3</span>,\n",
       "        <span style=\"font-weight: bold\">(</span><span style=\"color: #008080; text-decoration-color: #008080; font-weight: bold\">1438</span>, <span style=\"color: #008080; text-decoration-color: #008080; font-weight: bold\">473</span><span style=\"font-weight: bold\">)</span>: <span style=\"color: #008080; text-decoration-color: #008080; font-weight: bold\">2</span>,\n",
       "        <span style=\"font-weight: bold\">(</span><span style=\"color: #008080; text-decoration-color: #008080; font-weight: bold\">1438</span>, <span style=\"color: #008080; text-decoration-color: #008080; font-weight: bold\">380</span><span style=\"font-weight: bold\">)</span>: <span style=\"color: #008080; text-decoration-color: #008080; font-weight: bold\">1</span>,\n",
       "        <span style=\"font-weight: bold\">(</span><span style=\"color: #008080; text-decoration-color: #008080; font-weight: bold\">1438</span>, <span style=\"color: #008080; text-decoration-color: #008080; font-weight: bold\">533</span><span style=\"font-weight: bold\">)</span>: <span style=\"color: #008080; text-decoration-color: #008080; font-weight: bold\">2</span>,\n",
       "        <span style=\"font-weight: bold\">(</span><span style=\"color: #008080; text-decoration-color: #008080; font-weight: bold\">1438</span>, <span style=\"color: #008080; text-decoration-color: #008080; font-weight: bold\">516</span><span style=\"font-weight: bold\">)</span>: <span style=\"color: #008080; text-decoration-color: #008080; font-weight: bold\">4</span>,\n",
       "        <span style=\"font-weight: bold\">(</span><span style=\"color: #008080; text-decoration-color: #008080; font-weight: bold\">1438</span>, <span style=\"color: #008080; text-decoration-color: #008080; font-weight: bold\">546</span><span style=\"font-weight: bold\">)</span>: <span style=\"color: #008080; text-decoration-color: #008080; font-weight: bold\">1</span>,\n",
       "        <span style=\"font-weight: bold\">(</span><span style=\"color: #008080; text-decoration-color: #008080; font-weight: bold\">1438</span>, <span style=\"color: #008080; text-decoration-color: #008080; font-weight: bold\">537</span><span style=\"font-weight: bold\">)</span>: <span style=\"color: #008080; text-decoration-color: #008080; font-weight: bold\">3</span>,\n",
       "        <span style=\"font-weight: bold\">(</span><span style=\"color: #008080; text-decoration-color: #008080; font-weight: bold\">1438</span>, <span style=\"color: #008080; text-decoration-color: #008080; font-weight: bold\">500</span><span style=\"font-weight: bold\">)</span>: <span style=\"color: #008080; text-decoration-color: #008080; font-weight: bold\">5</span>,\n",
       "        <span style=\"font-weight: bold\">(</span><span style=\"color: #008080; text-decoration-color: #008080; font-weight: bold\">1438</span>, <span style=\"color: #008080; text-decoration-color: #008080; font-weight: bold\">501</span><span style=\"font-weight: bold\">)</span>: <span style=\"color: #008080; text-decoration-color: #008080; font-weight: bold\">2</span>,\n",
       "        <span style=\"font-weight: bold\">(</span><span style=\"color: #008080; text-decoration-color: #008080; font-weight: bold\">1438</span>, <span style=\"color: #008080; text-decoration-color: #008080; font-weight: bold\">334</span><span style=\"font-weight: bold\">)</span>: <span style=\"color: #008080; text-decoration-color: #008080; font-weight: bold\">1</span>,\n",
       "        <span style=\"font-weight: bold\">(</span><span style=\"color: #008080; text-decoration-color: #008080; font-weight: bold\">1438</span>, <span style=\"color: #008080; text-decoration-color: #008080; font-weight: bold\">514</span><span style=\"font-weight: bold\">)</span>: <span style=\"color: #008080; text-decoration-color: #008080; font-weight: bold\">6</span>,\n",
       "        <span style=\"font-weight: bold\">(</span><span style=\"color: #008080; text-decoration-color: #008080; font-weight: bold\">1438</span>, <span style=\"color: #008080; text-decoration-color: #008080; font-weight: bold\">498</span><span style=\"font-weight: bold\">)</span>: <span style=\"color: #008080; text-decoration-color: #008080; font-weight: bold\">3</span>,\n",
       "        <span style=\"font-weight: bold\">(</span><span style=\"color: #008080; text-decoration-color: #008080; font-weight: bold\">1438</span>, <span style=\"color: #008080; text-decoration-color: #008080; font-weight: bold\">489</span><span style=\"font-weight: bold\">)</span>: <span style=\"color: #008080; text-decoration-color: #008080; font-weight: bold\">2</span>,\n",
       "        <span style=\"font-weight: bold\">(</span><span style=\"color: #008080; text-decoration-color: #008080; font-weight: bold\">1438</span>, <span style=\"color: #008080; text-decoration-color: #008080; font-weight: bold\">304</span><span style=\"font-weight: bold\">)</span>: <span style=\"color: #008080; text-decoration-color: #008080; font-weight: bold\">1</span>,\n",
       "        <span style=\"font-weight: bold\">(</span><span style=\"color: #008080; text-decoration-color: #008080; font-weight: bold\">1438</span>, <span style=\"color: #008080; text-decoration-color: #008080; font-weight: bold\">490</span><span style=\"font-weight: bold\">)</span>: <span style=\"color: #008080; text-decoration-color: #008080; font-weight: bold\">2</span>,\n",
       "        <span style=\"font-weight: bold\">(</span><span style=\"color: #008080; text-decoration-color: #008080; font-weight: bold\">1438</span>, <span style=\"color: #008080; text-decoration-color: #008080; font-weight: bold\">481</span><span style=\"font-weight: bold\">)</span>: <span style=\"color: #008080; text-decoration-color: #008080; font-weight: bold\">1</span>,\n",
       "        <span style=\"font-weight: bold\">(</span><span style=\"color: #008080; text-decoration-color: #008080; font-weight: bold\">1438</span>, <span style=\"color: #008080; text-decoration-color: #008080; font-weight: bold\">508</span><span style=\"font-weight: bold\">)</span>: <span style=\"color: #008080; text-decoration-color: #008080; font-weight: bold\">1</span>,\n",
       "        <span style=\"font-weight: bold\">(</span><span style=\"color: #008080; text-decoration-color: #008080; font-weight: bold\">1438</span>, <span style=\"color: #008080; text-decoration-color: #008080; font-weight: bold\">465</span><span style=\"font-weight: bold\">)</span>: <span style=\"color: #008080; text-decoration-color: #008080; font-weight: bold\">2</span>,\n",
       "        <span style=\"font-weight: bold\">(</span><span style=\"color: #008080; text-decoration-color: #008080; font-weight: bold\">1438</span>, <span style=\"color: #008080; text-decoration-color: #008080; font-weight: bold\">497</span><span style=\"font-weight: bold\">)</span>: <span style=\"color: #008080; text-decoration-color: #008080; font-weight: bold\">3</span>,\n",
       "        <span style=\"font-weight: bold\">(</span><span style=\"color: #008080; text-decoration-color: #008080; font-weight: bold\">1438</span>, <span style=\"color: #008080; text-decoration-color: #008080; font-weight: bold\">487</span><span style=\"font-weight: bold\">)</span>: <span style=\"color: #008080; text-decoration-color: #008080; font-weight: bold\">3</span>,\n",
       "        <span style=\"font-weight: bold\">(</span><span style=\"color: #008080; text-decoration-color: #008080; font-weight: bold\">1438</span>, <span style=\"color: #008080; text-decoration-color: #008080; font-weight: bold\">470</span><span style=\"font-weight: bold\">)</span>: <span style=\"color: #008080; text-decoration-color: #008080; font-weight: bold\">1</span>,\n",
       "        <span style=\"font-weight: bold\">(</span><span style=\"color: #008080; text-decoration-color: #008080; font-weight: bold\">1438</span>, <span style=\"color: #008080; text-decoration-color: #008080; font-weight: bold\">476</span><span style=\"font-weight: bold\">)</span>: <span style=\"color: #008080; text-decoration-color: #008080; font-weight: bold\">1</span>,\n",
       "        <span style=\"font-weight: bold\">(</span><span style=\"color: #008080; text-decoration-color: #008080; font-weight: bold\">1438</span>, <span style=\"color: #008080; text-decoration-color: #008080; font-weight: bold\">463</span><span style=\"font-weight: bold\">)</span>: <span style=\"color: #008080; text-decoration-color: #008080; font-weight: bold\">1</span>,\n",
       "        <span style=\"font-weight: bold\">(</span><span style=\"color: #008080; text-decoration-color: #008080; font-weight: bold\">1438</span>, <span style=\"color: #008080; text-decoration-color: #008080; font-weight: bold\">414</span><span style=\"font-weight: bold\">)</span>: <span style=\"color: #008080; text-decoration-color: #008080; font-weight: bold\">1</span>,\n",
       "        <span style=\"font-weight: bold\">(</span><span style=\"color: #008080; text-decoration-color: #008080; font-weight: bold\">1438</span>, <span style=\"color: #008080; text-decoration-color: #008080; font-weight: bold\">361</span><span style=\"font-weight: bold\">)</span>: <span style=\"color: #008080; text-decoration-color: #008080; font-weight: bold\">1</span>,\n",
       "        <span style=\"font-weight: bold\">(</span><span style=\"color: #008080; text-decoration-color: #008080; font-weight: bold\">1438</span>, <span style=\"color: #008080; text-decoration-color: #008080; font-weight: bold\">415</span><span style=\"font-weight: bold\">)</span>: <span style=\"color: #008080; text-decoration-color: #008080; font-weight: bold\">1</span>,\n",
       "        <span style=\"font-weight: bold\">(</span><span style=\"color: #008080; text-decoration-color: #008080; font-weight: bold\">1438</span>, <span style=\"color: #008080; text-decoration-color: #008080; font-weight: bold\">366</span><span style=\"font-weight: bold\">)</span>: <span style=\"color: #008080; text-decoration-color: #008080; font-weight: bold\">2</span>,\n",
       "        <span style=\"font-weight: bold\">(</span><span style=\"color: #008080; text-decoration-color: #008080; font-weight: bold\">1438</span>, <span style=\"color: #008080; text-decoration-color: #008080; font-weight: bold\">464</span><span style=\"font-weight: bold\">)</span>: <span style=\"color: #008080; text-decoration-color: #008080; font-weight: bold\">2</span>,\n",
       "        <span style=\"font-weight: bold\">(</span><span style=\"color: #008080; text-decoration-color: #008080; font-weight: bold\">1438</span>, <span style=\"color: #008080; text-decoration-color: #008080; font-weight: bold\">486</span><span style=\"font-weight: bold\">)</span>: <span style=\"color: #008080; text-decoration-color: #008080; font-weight: bold\">1</span>,\n",
       "        <span style=\"font-weight: bold\">(</span><span style=\"color: #008080; text-decoration-color: #008080; font-weight: bold\">1438</span>, <span style=\"color: #008080; text-decoration-color: #008080; font-weight: bold\">483</span><span style=\"font-weight: bold\">)</span>: <span style=\"color: #008080; text-decoration-color: #008080; font-weight: bold\">2</span>,\n",
       "        <span style=\"font-weight: bold\">(</span><span style=\"color: #008080; text-decoration-color: #008080; font-weight: bold\">1438</span>, <span style=\"color: #008080; text-decoration-color: #008080; font-weight: bold\">455</span><span style=\"font-weight: bold\">)</span>: <span style=\"color: #008080; text-decoration-color: #008080; font-weight: bold\">1</span>,\n",
       "        <span style=\"font-weight: bold\">(</span><span style=\"color: #008080; text-decoration-color: #008080; font-weight: bold\">1438</span>, <span style=\"color: #008080; text-decoration-color: #008080; font-weight: bold\">442</span><span style=\"font-weight: bold\">)</span>: <span style=\"color: #008080; text-decoration-color: #008080; font-weight: bold\">1</span>,\n",
       "        <span style=\"font-weight: bold\">(</span><span style=\"color: #008080; text-decoration-color: #008080; font-weight: bold\">1438</span>, <span style=\"color: #008080; text-decoration-color: #008080; font-weight: bold\">439</span><span style=\"font-weight: bold\">)</span>: <span style=\"color: #008080; text-decoration-color: #008080; font-weight: bold\">1</span>,\n",
       "        <span style=\"font-weight: bold\">(</span><span style=\"color: #008080; text-decoration-color: #008080; font-weight: bold\">1438</span>, <span style=\"color: #008080; text-decoration-color: #008080; font-weight: bold\">510</span><span style=\"font-weight: bold\">)</span>: <span style=\"color: #008080; text-decoration-color: #008080; font-weight: bold\">3</span>,\n",
       "        <span style=\"font-weight: bold\">(</span><span style=\"color: #008080; text-decoration-color: #008080; font-weight: bold\">1438</span>, <span style=\"color: #008080; text-decoration-color: #008080; font-weight: bold\">475</span><span style=\"font-weight: bold\">)</span>: <span style=\"color: #008080; text-decoration-color: #008080; font-weight: bold\">1</span>,\n",
       "        <span style=\"font-weight: bold\">(</span><span style=\"color: #008080; text-decoration-color: #008080; font-weight: bold\">1438</span>, <span style=\"color: #008080; text-decoration-color: #008080; font-weight: bold\">520</span><span style=\"font-weight: bold\">)</span>: <span style=\"color: #008080; text-decoration-color: #008080; font-weight: bold\">3</span>,\n",
       "        <span style=\"font-weight: bold\">(</span><span style=\"color: #008080; text-decoration-color: #008080; font-weight: bold\">1438</span>, <span style=\"color: #008080; text-decoration-color: #008080; font-weight: bold\">340</span><span style=\"font-weight: bold\">)</span>: <span style=\"color: #008080; text-decoration-color: #008080; font-weight: bold\">1</span>,\n",
       "        <span style=\"font-weight: bold\">(</span><span style=\"color: #008080; text-decoration-color: #008080; font-weight: bold\">1438</span>, <span style=\"color: #008080; text-decoration-color: #008080; font-weight: bold\">538</span><span style=\"font-weight: bold\">)</span>: <span style=\"color: #008080; text-decoration-color: #008080; font-weight: bold\">2</span>,\n",
       "        <span style=\"font-weight: bold\">(</span><span style=\"color: #008080; text-decoration-color: #008080; font-weight: bold\">1438</span>, <span style=\"color: #008080; text-decoration-color: #008080; font-weight: bold\">406</span><span style=\"font-weight: bold\">)</span>: <span style=\"color: #008080; text-decoration-color: #008080; font-weight: bold\">2</span>,\n",
       "        <span style=\"font-weight: bold\">(</span><span style=\"color: #008080; text-decoration-color: #008080; font-weight: bold\">1438</span>, <span style=\"color: #008080; text-decoration-color: #008080; font-weight: bold\">513</span><span style=\"font-weight: bold\">)</span>: <span style=\"color: #008080; text-decoration-color: #008080; font-weight: bold\">3</span>,\n",
       "        <span style=\"font-weight: bold\">(</span><span style=\"color: #008080; text-decoration-color: #008080; font-weight: bold\">1438</span>, <span style=\"color: #008080; text-decoration-color: #008080; font-weight: bold\">523</span><span style=\"font-weight: bold\">)</span>: <span style=\"color: #008080; text-decoration-color: #008080; font-weight: bold\">3</span>,\n",
       "        <span style=\"font-weight: bold\">(</span><span style=\"color: #008080; text-decoration-color: #008080; font-weight: bold\">1438</span>, <span style=\"color: #008080; text-decoration-color: #008080; font-weight: bold\">484</span><span style=\"font-weight: bold\">)</span>: <span style=\"color: #008080; text-decoration-color: #008080; font-weight: bold\">1</span>,\n",
       "        <span style=\"font-weight: bold\">(</span><span style=\"color: #008080; text-decoration-color: #008080; font-weight: bold\">1438</span>, <span style=\"color: #008080; text-decoration-color: #008080; font-weight: bold\">453</span><span style=\"font-weight: bold\">)</span>: <span style=\"color: #008080; text-decoration-color: #008080; font-weight: bold\">3</span>,\n",
       "        <span style=\"font-weight: bold\">(</span><span style=\"color: #008080; text-decoration-color: #008080; font-weight: bold\">1438</span>, <span style=\"color: #008080; text-decoration-color: #008080; font-weight: bold\">526</span><span style=\"font-weight: bold\">)</span>: <span style=\"color: #008080; text-decoration-color: #008080; font-weight: bold\">2</span>,\n",
       "        <span style=\"font-weight: bold\">(</span><span style=\"color: #008080; text-decoration-color: #008080; font-weight: bold\">1438</span>, <span style=\"color: #008080; text-decoration-color: #008080; font-weight: bold\">505</span><span style=\"font-weight: bold\">)</span>: <span style=\"color: #008080; text-decoration-color: #008080; font-weight: bold\">1</span>,\n",
       "        <span style=\"font-weight: bold\">(</span><span style=\"color: #008080; text-decoration-color: #008080; font-weight: bold\">1438</span>, <span style=\"color: #008080; text-decoration-color: #008080; font-weight: bold\">438</span><span style=\"font-weight: bold\">)</span>: <span style=\"color: #008080; text-decoration-color: #008080; font-weight: bold\">2</span>,\n",
       "        <span style=\"font-weight: bold\">(</span><span style=\"color: #008080; text-decoration-color: #008080; font-weight: bold\">1438</span>, <span style=\"color: #008080; text-decoration-color: #008080; font-weight: bold\">446</span><span style=\"font-weight: bold\">)</span>: <span style=\"color: #008080; text-decoration-color: #008080; font-weight: bold\">1</span>,\n",
       "        <span style=\"font-weight: bold\">(</span><span style=\"color: #008080; text-decoration-color: #008080; font-weight: bold\">1438</span>, <span style=\"color: #008080; text-decoration-color: #008080; font-weight: bold\">492</span><span style=\"font-weight: bold\">)</span>: <span style=\"color: #008080; text-decoration-color: #008080; font-weight: bold\">4</span>,\n",
       "        <span style=\"font-weight: bold\">(</span><span style=\"color: #008080; text-decoration-color: #008080; font-weight: bold\">1438</span>, <span style=\"color: #008080; text-decoration-color: #008080; font-weight: bold\">468</span><span style=\"font-weight: bold\">)</span>: <span style=\"color: #008080; text-decoration-color: #008080; font-weight: bold\">1</span>,\n",
       "        <span style=\"font-weight: bold\">(</span><span style=\"color: #008080; text-decoration-color: #008080; font-weight: bold\">1438</span>, <span style=\"color: #008080; text-decoration-color: #008080; font-weight: bold\">507</span><span style=\"font-weight: bold\">)</span>: <span style=\"color: #008080; text-decoration-color: #008080; font-weight: bold\">1</span>,\n",
       "        <span style=\"font-weight: bold\">(</span><span style=\"color: #008080; text-decoration-color: #008080; font-weight: bold\">1438</span>, <span style=\"color: #008080; text-decoration-color: #008080; font-weight: bold\">511</span><span style=\"font-weight: bold\">)</span>: <span style=\"color: #008080; text-decoration-color: #008080; font-weight: bold\">2</span>,\n",
       "        <span style=\"font-weight: bold\">(</span><span style=\"color: #008080; text-decoration-color: #008080; font-weight: bold\">1438</span>, <span style=\"color: #008080; text-decoration-color: #008080; font-weight: bold\">515</span><span style=\"font-weight: bold\">)</span>: <span style=\"color: #008080; text-decoration-color: #008080; font-weight: bold\">2</span>,\n",
       "        <span style=\"font-weight: bold\">(</span><span style=\"color: #008080; text-decoration-color: #008080; font-weight: bold\">1438</span>, <span style=\"color: #008080; text-decoration-color: #008080; font-weight: bold\">467</span><span style=\"font-weight: bold\">)</span>: <span style=\"color: #008080; text-decoration-color: #008080; font-weight: bold\">1</span>,\n",
       "        <span style=\"font-weight: bold\">(</span><span style=\"color: #008080; text-decoration-color: #008080; font-weight: bold\">1438</span>, <span style=\"color: #008080; text-decoration-color: #008080; font-weight: bold\">457</span><span style=\"font-weight: bold\">)</span>: <span style=\"color: #008080; text-decoration-color: #008080; font-weight: bold\">1</span>,\n",
       "        <span style=\"font-weight: bold\">(</span><span style=\"color: #008080; text-decoration-color: #008080; font-weight: bold\">1438</span>, <span style=\"color: #008080; text-decoration-color: #008080; font-weight: bold\">343</span><span style=\"font-weight: bold\">)</span>: <span style=\"color: #008080; text-decoration-color: #008080; font-weight: bold\">1</span>,\n",
       "        <span style=\"font-weight: bold\">(</span><span style=\"color: #008080; text-decoration-color: #008080; font-weight: bold\">1438</span>, <span style=\"color: #008080; text-decoration-color: #008080; font-weight: bold\">525</span><span style=\"font-weight: bold\">)</span>: <span style=\"color: #008080; text-decoration-color: #008080; font-weight: bold\">3</span>,\n",
       "        <span style=\"font-weight: bold\">(</span><span style=\"color: #008080; text-decoration-color: #008080; font-weight: bold\">1438</span>, <span style=\"color: #008080; text-decoration-color: #008080; font-weight: bold\">532</span><span style=\"font-weight: bold\">)</span>: <span style=\"color: #008080; text-decoration-color: #008080; font-weight: bold\">2</span>,\n",
       "        <span style=\"font-weight: bold\">(</span><span style=\"color: #008080; text-decoration-color: #008080; font-weight: bold\">1438</span>, <span style=\"color: #008080; text-decoration-color: #008080; font-weight: bold\">534</span><span style=\"font-weight: bold\">)</span>: <span style=\"color: #008080; text-decoration-color: #008080; font-weight: bold\">2</span>,\n",
       "        <span style=\"font-weight: bold\">(</span><span style=\"color: #008080; text-decoration-color: #008080; font-weight: bold\">1438</span>, <span style=\"color: #008080; text-decoration-color: #008080; font-weight: bold\">521</span><span style=\"font-weight: bold\">)</span>: <span style=\"color: #008080; text-decoration-color: #008080; font-weight: bold\">1</span>,\n",
       "        <span style=\"font-weight: bold\">(</span><span style=\"color: #008080; text-decoration-color: #008080; font-weight: bold\">1438</span>, <span style=\"color: #008080; text-decoration-color: #008080; font-weight: bold\">547</span><span style=\"font-weight: bold\">)</span>: <span style=\"color: #008080; text-decoration-color: #008080; font-weight: bold\">1</span>,\n",
       "        <span style=\"font-weight: bold\">(</span><span style=\"color: #008080; text-decoration-color: #008080; font-weight: bold\">1438</span>, <span style=\"color: #008080; text-decoration-color: #008080; font-weight: bold\">527</span><span style=\"font-weight: bold\">)</span>: <span style=\"color: #008080; text-decoration-color: #008080; font-weight: bold\">2</span>,\n",
       "        <span style=\"font-weight: bold\">(</span><span style=\"color: #008080; text-decoration-color: #008080; font-weight: bold\">1438</span>, <span style=\"color: #008080; text-decoration-color: #008080; font-weight: bold\">495</span><span style=\"font-weight: bold\">)</span>: <span style=\"color: #008080; text-decoration-color: #008080; font-weight: bold\">1</span>,\n",
       "        <span style=\"font-weight: bold\">(</span><span style=\"color: #008080; text-decoration-color: #008080; font-weight: bold\">1438</span>, <span style=\"color: #008080; text-decoration-color: #008080; font-weight: bold\">428</span><span style=\"font-weight: bold\">)</span>: <span style=\"color: #008080; text-decoration-color: #008080; font-weight: bold\">1</span>,\n",
       "        <span style=\"font-weight: bold\">(</span><span style=\"color: #008080; text-decoration-color: #008080; font-weight: bold\">1438</span>, <span style=\"color: #008080; text-decoration-color: #008080; font-weight: bold\">469</span><span style=\"font-weight: bold\">)</span>: <span style=\"color: #008080; text-decoration-color: #008080; font-weight: bold\">1</span>,\n",
       "        <span style=\"font-weight: bold\">(</span><span style=\"color: #008080; text-decoration-color: #008080; font-weight: bold\">1438</span>, <span style=\"color: #008080; text-decoration-color: #008080; font-weight: bold\">421</span><span style=\"font-weight: bold\">)</span>: <span style=\"color: #008080; text-decoration-color: #008080; font-weight: bold\">1</span>,\n",
       "        <span style=\"font-weight: bold\">(</span><span style=\"color: #008080; text-decoration-color: #008080; font-weight: bold\">1438</span>, <span style=\"color: #008080; text-decoration-color: #008080; font-weight: bold\">544</span><span style=\"font-weight: bold\">)</span>: <span style=\"color: #008080; text-decoration-color: #008080; font-weight: bold\">1</span>,\n",
       "        <span style=\"font-weight: bold\">(</span><span style=\"color: #008080; text-decoration-color: #008080; font-weight: bold\">1438</span>, <span style=\"color: #008080; text-decoration-color: #008080; font-weight: bold\">441</span><span style=\"font-weight: bold\">)</span>: <span style=\"color: #008080; text-decoration-color: #008080; font-weight: bold\">1</span>,\n",
       "        <span style=\"font-weight: bold\">(</span><span style=\"color: #008080; text-decoration-color: #008080; font-weight: bold\">1438</span>, <span style=\"color: #008080; text-decoration-color: #008080; font-weight: bold\">391</span><span style=\"font-weight: bold\">)</span>: <span style=\"color: #008080; text-decoration-color: #008080; font-weight: bold\">1</span>,\n",
       "        <span style=\"font-weight: bold\">(</span><span style=\"color: #008080; text-decoration-color: #008080; font-weight: bold\">1438</span>, <span style=\"color: #008080; text-decoration-color: #008080; font-weight: bold\">528</span><span style=\"font-weight: bold\">)</span>: <span style=\"color: #008080; text-decoration-color: #008080; font-weight: bold\">2</span>,\n",
       "        <span style=\"font-weight: bold\">(</span><span style=\"color: #008080; text-decoration-color: #008080; font-weight: bold\">1438</span>, <span style=\"color: #008080; text-decoration-color: #008080; font-weight: bold\">423</span><span style=\"font-weight: bold\">)</span>: <span style=\"color: #008080; text-decoration-color: #008080; font-weight: bold\">1</span>,\n",
       "        <span style=\"font-weight: bold\">(</span><span style=\"color: #008080; text-decoration-color: #008080; font-weight: bold\">1438</span>, <span style=\"color: #008080; text-decoration-color: #008080; font-weight: bold\">541</span><span style=\"font-weight: bold\">)</span>: <span style=\"color: #008080; text-decoration-color: #008080; font-weight: bold\">1</span>,\n",
       "        <span style=\"font-weight: bold\">(</span><span style=\"color: #008080; text-decoration-color: #008080; font-weight: bold\">1438</span>, <span style=\"color: #008080; text-decoration-color: #008080; font-weight: bold\">540</span><span style=\"font-weight: bold\">)</span>: <span style=\"color: #008080; text-decoration-color: #008080; font-weight: bold\">1</span>\n",
       "    <span style=\"font-weight: bold\">})</span>,\n",
       "    <span style=\"color: #008000; text-decoration-color: #008000\">'bold_desc-raw'</span>: <span style=\"color: #800080; text-decoration-color: #800080; font-weight: bold\">Counter</span><span style=\"font-weight: bold\">({(</span><span style=\"color: #008080; text-decoration-color: #008080; font-weight: bold\">1438</span>, <span style=\"color: #008080; text-decoration-color: #008080; font-weight: bold\">600</span><span style=\"font-weight: bold\">)</span>: <span style=\"color: #008080; text-decoration-color: #008080; font-weight: bold\">206</span><span style=\"font-weight: bold\">})</span>,\n",
       "    <span style=\"color: #008000; text-decoration-color: #008000\">'ca2_desc-preproc'</span>: <span style=\"color: #800080; text-decoration-color: #800080; font-weight: bold\">Counter</span><span style=\"font-weight: bold\">({</span>\n",
       "        <span style=\"font-weight: bold\">(</span><span style=\"color: #008080; text-decoration-color: #008080; font-weight: bold\">226</span>, <span style=\"color: #008080; text-decoration-color: #008080; font-weight: bold\">6000</span><span style=\"font-weight: bold\">)</span>: <span style=\"color: #008080; text-decoration-color: #008080; font-weight: bold\">188</span>,\n",
       "        <span style=\"font-weight: bold\">(</span><span style=\"color: #008080; text-decoration-color: #008080; font-weight: bold\">226</span>, <span style=\"color: #008080; text-decoration-color: #008080; font-weight: bold\">5999</span><span style=\"font-weight: bold\">)</span>: <span style=\"color: #008080; text-decoration-color: #008080; font-weight: bold\">13</span>,\n",
       "        <span style=\"font-weight: bold\">(</span><span style=\"color: #008080; text-decoration-color: #008080; font-weight: bold\">226</span>, <span style=\"color: #008080; text-decoration-color: #008080; font-weight: bold\">5200</span><span style=\"font-weight: bold\">)</span>: <span style=\"color: #008080; text-decoration-color: #008080; font-weight: bold\">1</span>\n",
       "    <span style=\"font-weight: bold\">})</span>\n",
       "<span style=\"font-weight: bold\">}</span>\n",
       "</pre>\n"
      ],
      "text/plain": [
       "\u001b[1m{\u001b[0m\n",
       "    \u001b[32m'bold_desc-rabies-hp'\u001b[0m: \u001b[1;35mCounter\u001b[0m\u001b[1m(\u001b[0m\u001b[1m{\u001b[0m\n",
       "        \u001b[1m(\u001b[0m\u001b[1;36m1438\u001b[0m, \u001b[1;36m536\u001b[0m\u001b[1m)\u001b[0m: \u001b[1;36m3\u001b[0m,\n",
       "        \u001b[1m(\u001b[0m\u001b[1;36m1438\u001b[0m, \u001b[1;36m372\u001b[0m\u001b[1m)\u001b[0m: \u001b[1;36m1\u001b[0m,\n",
       "        \u001b[1m(\u001b[0m\u001b[1;36m1438\u001b[0m, \u001b[1;36m477\u001b[0m\u001b[1m)\u001b[0m: \u001b[1;36m3\u001b[0m,\n",
       "        \u001b[1m(\u001b[0m\u001b[1;36m1438\u001b[0m, \u001b[1;36m480\u001b[0m\u001b[1m)\u001b[0m: \u001b[1;36m3\u001b[0m,\n",
       "        \u001b[1m(\u001b[0m\u001b[1;36m1438\u001b[0m, \u001b[1;36m466\u001b[0m\u001b[1m)\u001b[0m: \u001b[1;36m1\u001b[0m,\n",
       "        \u001b[1m(\u001b[0m\u001b[1;36m1438\u001b[0m, \u001b[1;36m478\u001b[0m\u001b[1m)\u001b[0m: \u001b[1;36m3\u001b[0m,\n",
       "        \u001b[1m(\u001b[0m\u001b[1;36m1438\u001b[0m, \u001b[1;36m445\u001b[0m\u001b[1m)\u001b[0m: \u001b[1;36m1\u001b[0m,\n",
       "        \u001b[1m(\u001b[0m\u001b[1;36m1438\u001b[0m, \u001b[1;36m488\u001b[0m\u001b[1m)\u001b[0m: \u001b[1;36m4\u001b[0m,\n",
       "        \u001b[1m(\u001b[0m\u001b[1;36m1438\u001b[0m, \u001b[1;36m496\u001b[0m\u001b[1m)\u001b[0m: \u001b[1;36m5\u001b[0m,\n",
       "        \u001b[1m(\u001b[0m\u001b[1;36m1438\u001b[0m, \u001b[1;36m524\u001b[0m\u001b[1m)\u001b[0m: \u001b[1;36m5\u001b[0m,\n",
       "        \u001b[1m(\u001b[0m\u001b[1;36m1438\u001b[0m, \u001b[1;36m493\u001b[0m\u001b[1m)\u001b[0m: \u001b[1;36m3\u001b[0m,\n",
       "        \u001b[1m(\u001b[0m\u001b[1;36m1438\u001b[0m, \u001b[1;36m506\u001b[0m\u001b[1m)\u001b[0m: \u001b[1;36m4\u001b[0m,\n",
       "        \u001b[1m(\u001b[0m\u001b[1;36m1438\u001b[0m, \u001b[1;36m531\u001b[0m\u001b[1m)\u001b[0m: \u001b[1;36m6\u001b[0m,\n",
       "        \u001b[1m(\u001b[0m\u001b[1;36m1438\u001b[0m, \u001b[1;36m512\u001b[0m\u001b[1m)\u001b[0m: \u001b[1;36m5\u001b[0m,\n",
       "        \u001b[1m(\u001b[0m\u001b[1;36m1438\u001b[0m, \u001b[1;36m499\u001b[0m\u001b[1m)\u001b[0m: \u001b[1;36m1\u001b[0m,\n",
       "        \u001b[1m(\u001b[0m\u001b[1;36m1438\u001b[0m, \u001b[1;36m472\u001b[0m\u001b[1m)\u001b[0m: \u001b[1;36m2\u001b[0m,\n",
       "        \u001b[1m(\u001b[0m\u001b[1;36m1438\u001b[0m, \u001b[1;36m491\u001b[0m\u001b[1m)\u001b[0m: \u001b[1;36m4\u001b[0m,\n",
       "        \u001b[1m(\u001b[0m\u001b[1;36m1438\u001b[0m, \u001b[1;36m522\u001b[0m\u001b[1m)\u001b[0m: \u001b[1;36m2\u001b[0m,\n",
       "        \u001b[1m(\u001b[0m\u001b[1;36m1438\u001b[0m, \u001b[1;36m482\u001b[0m\u001b[1m)\u001b[0m: \u001b[1;36m3\u001b[0m,\n",
       "        \u001b[1m(\u001b[0m\u001b[1;36m1438\u001b[0m, \u001b[1;36m550\u001b[0m\u001b[1m)\u001b[0m: \u001b[1;36m1\u001b[0m,\n",
       "        \u001b[1m(\u001b[0m\u001b[1;36m1438\u001b[0m, \u001b[1;36m474\u001b[0m\u001b[1m)\u001b[0m: \u001b[1;36m3\u001b[0m,\n",
       "        \u001b[1m(\u001b[0m\u001b[1;36m1438\u001b[0m, \u001b[1;36m517\u001b[0m\u001b[1m)\u001b[0m: \u001b[1;36m6\u001b[0m,\n",
       "        \u001b[1m(\u001b[0m\u001b[1;36m1438\u001b[0m, \u001b[1;36m529\u001b[0m\u001b[1m)\u001b[0m: \u001b[1;36m1\u001b[0m,\n",
       "        \u001b[1m(\u001b[0m\u001b[1;36m1438\u001b[0m, \u001b[1;36m518\u001b[0m\u001b[1m)\u001b[0m: \u001b[1;36m1\u001b[0m,\n",
       "        \u001b[1m(\u001b[0m\u001b[1;36m1438\u001b[0m, \u001b[1;36m388\u001b[0m\u001b[1m)\u001b[0m: \u001b[1;36m1\u001b[0m,\n",
       "        \u001b[1m(\u001b[0m\u001b[1;36m1438\u001b[0m, \u001b[1;36m519\u001b[0m\u001b[1m)\u001b[0m: \u001b[1;36m3\u001b[0m,\n",
       "        \u001b[1m(\u001b[0m\u001b[1;36m1438\u001b[0m, \u001b[1;36m473\u001b[0m\u001b[1m)\u001b[0m: \u001b[1;36m2\u001b[0m,\n",
       "        \u001b[1m(\u001b[0m\u001b[1;36m1438\u001b[0m, \u001b[1;36m380\u001b[0m\u001b[1m)\u001b[0m: \u001b[1;36m1\u001b[0m,\n",
       "        \u001b[1m(\u001b[0m\u001b[1;36m1438\u001b[0m, \u001b[1;36m533\u001b[0m\u001b[1m)\u001b[0m: \u001b[1;36m2\u001b[0m,\n",
       "        \u001b[1m(\u001b[0m\u001b[1;36m1438\u001b[0m, \u001b[1;36m516\u001b[0m\u001b[1m)\u001b[0m: \u001b[1;36m4\u001b[0m,\n",
       "        \u001b[1m(\u001b[0m\u001b[1;36m1438\u001b[0m, \u001b[1;36m546\u001b[0m\u001b[1m)\u001b[0m: \u001b[1;36m1\u001b[0m,\n",
       "        \u001b[1m(\u001b[0m\u001b[1;36m1438\u001b[0m, \u001b[1;36m537\u001b[0m\u001b[1m)\u001b[0m: \u001b[1;36m3\u001b[0m,\n",
       "        \u001b[1m(\u001b[0m\u001b[1;36m1438\u001b[0m, \u001b[1;36m500\u001b[0m\u001b[1m)\u001b[0m: \u001b[1;36m5\u001b[0m,\n",
       "        \u001b[1m(\u001b[0m\u001b[1;36m1438\u001b[0m, \u001b[1;36m501\u001b[0m\u001b[1m)\u001b[0m: \u001b[1;36m2\u001b[0m,\n",
       "        \u001b[1m(\u001b[0m\u001b[1;36m1438\u001b[0m, \u001b[1;36m334\u001b[0m\u001b[1m)\u001b[0m: \u001b[1;36m1\u001b[0m,\n",
       "        \u001b[1m(\u001b[0m\u001b[1;36m1438\u001b[0m, \u001b[1;36m514\u001b[0m\u001b[1m)\u001b[0m: \u001b[1;36m6\u001b[0m,\n",
       "        \u001b[1m(\u001b[0m\u001b[1;36m1438\u001b[0m, \u001b[1;36m498\u001b[0m\u001b[1m)\u001b[0m: \u001b[1;36m3\u001b[0m,\n",
       "        \u001b[1m(\u001b[0m\u001b[1;36m1438\u001b[0m, \u001b[1;36m489\u001b[0m\u001b[1m)\u001b[0m: \u001b[1;36m2\u001b[0m,\n",
       "        \u001b[1m(\u001b[0m\u001b[1;36m1438\u001b[0m, \u001b[1;36m304\u001b[0m\u001b[1m)\u001b[0m: \u001b[1;36m1\u001b[0m,\n",
       "        \u001b[1m(\u001b[0m\u001b[1;36m1438\u001b[0m, \u001b[1;36m490\u001b[0m\u001b[1m)\u001b[0m: \u001b[1;36m2\u001b[0m,\n",
       "        \u001b[1m(\u001b[0m\u001b[1;36m1438\u001b[0m, \u001b[1;36m481\u001b[0m\u001b[1m)\u001b[0m: \u001b[1;36m1\u001b[0m,\n",
       "        \u001b[1m(\u001b[0m\u001b[1;36m1438\u001b[0m, \u001b[1;36m508\u001b[0m\u001b[1m)\u001b[0m: \u001b[1;36m1\u001b[0m,\n",
       "        \u001b[1m(\u001b[0m\u001b[1;36m1438\u001b[0m, \u001b[1;36m465\u001b[0m\u001b[1m)\u001b[0m: \u001b[1;36m2\u001b[0m,\n",
       "        \u001b[1m(\u001b[0m\u001b[1;36m1438\u001b[0m, \u001b[1;36m497\u001b[0m\u001b[1m)\u001b[0m: \u001b[1;36m3\u001b[0m,\n",
       "        \u001b[1m(\u001b[0m\u001b[1;36m1438\u001b[0m, \u001b[1;36m487\u001b[0m\u001b[1m)\u001b[0m: \u001b[1;36m3\u001b[0m,\n",
       "        \u001b[1m(\u001b[0m\u001b[1;36m1438\u001b[0m, \u001b[1;36m470\u001b[0m\u001b[1m)\u001b[0m: \u001b[1;36m1\u001b[0m,\n",
       "        \u001b[1m(\u001b[0m\u001b[1;36m1438\u001b[0m, \u001b[1;36m476\u001b[0m\u001b[1m)\u001b[0m: \u001b[1;36m1\u001b[0m,\n",
       "        \u001b[1m(\u001b[0m\u001b[1;36m1438\u001b[0m, \u001b[1;36m463\u001b[0m\u001b[1m)\u001b[0m: \u001b[1;36m1\u001b[0m,\n",
       "        \u001b[1m(\u001b[0m\u001b[1;36m1438\u001b[0m, \u001b[1;36m414\u001b[0m\u001b[1m)\u001b[0m: \u001b[1;36m1\u001b[0m,\n",
       "        \u001b[1m(\u001b[0m\u001b[1;36m1438\u001b[0m, \u001b[1;36m361\u001b[0m\u001b[1m)\u001b[0m: \u001b[1;36m1\u001b[0m,\n",
       "        \u001b[1m(\u001b[0m\u001b[1;36m1438\u001b[0m, \u001b[1;36m415\u001b[0m\u001b[1m)\u001b[0m: \u001b[1;36m1\u001b[0m,\n",
       "        \u001b[1m(\u001b[0m\u001b[1;36m1438\u001b[0m, \u001b[1;36m366\u001b[0m\u001b[1m)\u001b[0m: \u001b[1;36m2\u001b[0m,\n",
       "        \u001b[1m(\u001b[0m\u001b[1;36m1438\u001b[0m, \u001b[1;36m464\u001b[0m\u001b[1m)\u001b[0m: \u001b[1;36m2\u001b[0m,\n",
       "        \u001b[1m(\u001b[0m\u001b[1;36m1438\u001b[0m, \u001b[1;36m486\u001b[0m\u001b[1m)\u001b[0m: \u001b[1;36m1\u001b[0m,\n",
       "        \u001b[1m(\u001b[0m\u001b[1;36m1438\u001b[0m, \u001b[1;36m483\u001b[0m\u001b[1m)\u001b[0m: \u001b[1;36m2\u001b[0m,\n",
       "        \u001b[1m(\u001b[0m\u001b[1;36m1438\u001b[0m, \u001b[1;36m455\u001b[0m\u001b[1m)\u001b[0m: \u001b[1;36m1\u001b[0m,\n",
       "        \u001b[1m(\u001b[0m\u001b[1;36m1438\u001b[0m, \u001b[1;36m442\u001b[0m\u001b[1m)\u001b[0m: \u001b[1;36m1\u001b[0m,\n",
       "        \u001b[1m(\u001b[0m\u001b[1;36m1438\u001b[0m, \u001b[1;36m439\u001b[0m\u001b[1m)\u001b[0m: \u001b[1;36m1\u001b[0m,\n",
       "        \u001b[1m(\u001b[0m\u001b[1;36m1438\u001b[0m, \u001b[1;36m510\u001b[0m\u001b[1m)\u001b[0m: \u001b[1;36m3\u001b[0m,\n",
       "        \u001b[1m(\u001b[0m\u001b[1;36m1438\u001b[0m, \u001b[1;36m475\u001b[0m\u001b[1m)\u001b[0m: \u001b[1;36m1\u001b[0m,\n",
       "        \u001b[1m(\u001b[0m\u001b[1;36m1438\u001b[0m, \u001b[1;36m520\u001b[0m\u001b[1m)\u001b[0m: \u001b[1;36m3\u001b[0m,\n",
       "        \u001b[1m(\u001b[0m\u001b[1;36m1438\u001b[0m, \u001b[1;36m340\u001b[0m\u001b[1m)\u001b[0m: \u001b[1;36m1\u001b[0m,\n",
       "        \u001b[1m(\u001b[0m\u001b[1;36m1438\u001b[0m, \u001b[1;36m538\u001b[0m\u001b[1m)\u001b[0m: \u001b[1;36m2\u001b[0m,\n",
       "        \u001b[1m(\u001b[0m\u001b[1;36m1438\u001b[0m, \u001b[1;36m406\u001b[0m\u001b[1m)\u001b[0m: \u001b[1;36m2\u001b[0m,\n",
       "        \u001b[1m(\u001b[0m\u001b[1;36m1438\u001b[0m, \u001b[1;36m513\u001b[0m\u001b[1m)\u001b[0m: \u001b[1;36m3\u001b[0m,\n",
       "        \u001b[1m(\u001b[0m\u001b[1;36m1438\u001b[0m, \u001b[1;36m523\u001b[0m\u001b[1m)\u001b[0m: \u001b[1;36m3\u001b[0m,\n",
       "        \u001b[1m(\u001b[0m\u001b[1;36m1438\u001b[0m, \u001b[1;36m484\u001b[0m\u001b[1m)\u001b[0m: \u001b[1;36m1\u001b[0m,\n",
       "        \u001b[1m(\u001b[0m\u001b[1;36m1438\u001b[0m, \u001b[1;36m453\u001b[0m\u001b[1m)\u001b[0m: \u001b[1;36m3\u001b[0m,\n",
       "        \u001b[1m(\u001b[0m\u001b[1;36m1438\u001b[0m, \u001b[1;36m526\u001b[0m\u001b[1m)\u001b[0m: \u001b[1;36m2\u001b[0m,\n",
       "        \u001b[1m(\u001b[0m\u001b[1;36m1438\u001b[0m, \u001b[1;36m505\u001b[0m\u001b[1m)\u001b[0m: \u001b[1;36m1\u001b[0m,\n",
       "        \u001b[1m(\u001b[0m\u001b[1;36m1438\u001b[0m, \u001b[1;36m438\u001b[0m\u001b[1m)\u001b[0m: \u001b[1;36m2\u001b[0m,\n",
       "        \u001b[1m(\u001b[0m\u001b[1;36m1438\u001b[0m, \u001b[1;36m446\u001b[0m\u001b[1m)\u001b[0m: \u001b[1;36m1\u001b[0m,\n",
       "        \u001b[1m(\u001b[0m\u001b[1;36m1438\u001b[0m, \u001b[1;36m492\u001b[0m\u001b[1m)\u001b[0m: \u001b[1;36m4\u001b[0m,\n",
       "        \u001b[1m(\u001b[0m\u001b[1;36m1438\u001b[0m, \u001b[1;36m468\u001b[0m\u001b[1m)\u001b[0m: \u001b[1;36m1\u001b[0m,\n",
       "        \u001b[1m(\u001b[0m\u001b[1;36m1438\u001b[0m, \u001b[1;36m507\u001b[0m\u001b[1m)\u001b[0m: \u001b[1;36m1\u001b[0m,\n",
       "        \u001b[1m(\u001b[0m\u001b[1;36m1438\u001b[0m, \u001b[1;36m511\u001b[0m\u001b[1m)\u001b[0m: \u001b[1;36m2\u001b[0m,\n",
       "        \u001b[1m(\u001b[0m\u001b[1;36m1438\u001b[0m, \u001b[1;36m515\u001b[0m\u001b[1m)\u001b[0m: \u001b[1;36m2\u001b[0m,\n",
       "        \u001b[1m(\u001b[0m\u001b[1;36m1438\u001b[0m, \u001b[1;36m467\u001b[0m\u001b[1m)\u001b[0m: \u001b[1;36m1\u001b[0m,\n",
       "        \u001b[1m(\u001b[0m\u001b[1;36m1438\u001b[0m, \u001b[1;36m457\u001b[0m\u001b[1m)\u001b[0m: \u001b[1;36m1\u001b[0m,\n",
       "        \u001b[1m(\u001b[0m\u001b[1;36m1438\u001b[0m, \u001b[1;36m343\u001b[0m\u001b[1m)\u001b[0m: \u001b[1;36m1\u001b[0m,\n",
       "        \u001b[1m(\u001b[0m\u001b[1;36m1438\u001b[0m, \u001b[1;36m525\u001b[0m\u001b[1m)\u001b[0m: \u001b[1;36m3\u001b[0m,\n",
       "        \u001b[1m(\u001b[0m\u001b[1;36m1438\u001b[0m, \u001b[1;36m532\u001b[0m\u001b[1m)\u001b[0m: \u001b[1;36m2\u001b[0m,\n",
       "        \u001b[1m(\u001b[0m\u001b[1;36m1438\u001b[0m, \u001b[1;36m534\u001b[0m\u001b[1m)\u001b[0m: \u001b[1;36m2\u001b[0m,\n",
       "        \u001b[1m(\u001b[0m\u001b[1;36m1438\u001b[0m, \u001b[1;36m521\u001b[0m\u001b[1m)\u001b[0m: \u001b[1;36m1\u001b[0m,\n",
       "        \u001b[1m(\u001b[0m\u001b[1;36m1438\u001b[0m, \u001b[1;36m547\u001b[0m\u001b[1m)\u001b[0m: \u001b[1;36m1\u001b[0m,\n",
       "        \u001b[1m(\u001b[0m\u001b[1;36m1438\u001b[0m, \u001b[1;36m527\u001b[0m\u001b[1m)\u001b[0m: \u001b[1;36m2\u001b[0m,\n",
       "        \u001b[1m(\u001b[0m\u001b[1;36m1438\u001b[0m, \u001b[1;36m495\u001b[0m\u001b[1m)\u001b[0m: \u001b[1;36m1\u001b[0m,\n",
       "        \u001b[1m(\u001b[0m\u001b[1;36m1438\u001b[0m, \u001b[1;36m428\u001b[0m\u001b[1m)\u001b[0m: \u001b[1;36m1\u001b[0m,\n",
       "        \u001b[1m(\u001b[0m\u001b[1;36m1438\u001b[0m, \u001b[1;36m469\u001b[0m\u001b[1m)\u001b[0m: \u001b[1;36m1\u001b[0m,\n",
       "        \u001b[1m(\u001b[0m\u001b[1;36m1438\u001b[0m, \u001b[1;36m421\u001b[0m\u001b[1m)\u001b[0m: \u001b[1;36m1\u001b[0m,\n",
       "        \u001b[1m(\u001b[0m\u001b[1;36m1438\u001b[0m, \u001b[1;36m544\u001b[0m\u001b[1m)\u001b[0m: \u001b[1;36m1\u001b[0m,\n",
       "        \u001b[1m(\u001b[0m\u001b[1;36m1438\u001b[0m, \u001b[1;36m441\u001b[0m\u001b[1m)\u001b[0m: \u001b[1;36m1\u001b[0m,\n",
       "        \u001b[1m(\u001b[0m\u001b[1;36m1438\u001b[0m, \u001b[1;36m391\u001b[0m\u001b[1m)\u001b[0m: \u001b[1;36m1\u001b[0m,\n",
       "        \u001b[1m(\u001b[0m\u001b[1;36m1438\u001b[0m, \u001b[1;36m528\u001b[0m\u001b[1m)\u001b[0m: \u001b[1;36m2\u001b[0m,\n",
       "        \u001b[1m(\u001b[0m\u001b[1;36m1438\u001b[0m, \u001b[1;36m423\u001b[0m\u001b[1m)\u001b[0m: \u001b[1;36m1\u001b[0m,\n",
       "        \u001b[1m(\u001b[0m\u001b[1;36m1438\u001b[0m, \u001b[1;36m541\u001b[0m\u001b[1m)\u001b[0m: \u001b[1;36m1\u001b[0m,\n",
       "        \u001b[1m(\u001b[0m\u001b[1;36m1438\u001b[0m, \u001b[1;36m540\u001b[0m\u001b[1m)\u001b[0m: \u001b[1;36m1\u001b[0m\n",
       "    \u001b[1m}\u001b[0m\u001b[1m)\u001b[0m,\n",
       "    \u001b[32m'bold_desc-raw'\u001b[0m: \u001b[1;35mCounter\u001b[0m\u001b[1m(\u001b[0m\u001b[1m{\u001b[0m\u001b[1m(\u001b[0m\u001b[1;36m1438\u001b[0m, \u001b[1;36m600\u001b[0m\u001b[1m)\u001b[0m: \u001b[1;36m206\u001b[0m\u001b[1m}\u001b[0m\u001b[1m)\u001b[0m,\n",
       "    \u001b[32m'ca2_desc-preproc'\u001b[0m: \u001b[1;35mCounter\u001b[0m\u001b[1m(\u001b[0m\u001b[1m{\u001b[0m\n",
       "        \u001b[1m(\u001b[0m\u001b[1;36m226\u001b[0m, \u001b[1;36m6000\u001b[0m\u001b[1m)\u001b[0m: \u001b[1;36m188\u001b[0m,\n",
       "        \u001b[1m(\u001b[0m\u001b[1;36m226\u001b[0m, \u001b[1;36m5999\u001b[0m\u001b[1m)\u001b[0m: \u001b[1;36m13\u001b[0m,\n",
       "        \u001b[1m(\u001b[0m\u001b[1;36m226\u001b[0m, \u001b[1;36m5200\u001b[0m\u001b[1m)\u001b[0m: \u001b[1;36m1\u001b[0m\n",
       "    \u001b[1m}\u001b[0m\u001b[1m)\u001b[0m\n",
       "\u001b[1m}\u001b[0m\n"
      ]
     },
     "metadata": {},
     "output_type": "display_data"
    }
   ],
   "source": [
    "shapes_count = {\n",
    "    k: collections.Counter(v)\n",
    "    for k, v in shapes.items()\n",
    "}\n",
    "shapes_count"
   ]
  },
  {
   "cell_type": "markdown",
   "id": "1cce24b2",
   "metadata": {},
   "source": [
    "## np to nii code"
   ]
  },
  {
   "cell_type": "code",
   "execution_count": 13,
   "id": "7e8efb9b",
   "metadata": {},
   "outputs": [
    {
     "data": {
      "text/html": [
       "<pre style=\"white-space:pre;overflow-x:auto;line-height:normal;font-family:Menlo,'DejaVu Sans Mono',consolas,'Courier New',monospace\"><span style=\"font-weight: bold\">[</span><span style=\"color: #008000; text-decoration-color: #008000\">'ca2'</span>, <span style=\"color: #008000; text-decoration-color: #008000\">'bold'</span><span style=\"font-weight: bold\">]</span>\n",
       "</pre>\n"
      ],
      "text/plain": [
       "\u001b[1m[\u001b[0m\u001b[32m'ca2'\u001b[0m, \u001b[32m'bold'\u001b[0m\u001b[1m]\u001b[0m\n"
      ]
     },
     "metadata": {},
     "output_type": "display_data"
    }
   ],
   "source": [
    "lookup = np.load(\n",
    "    pjoin(tgt, 'roi_lookup.npy'),\n",
    "    allow_pickle=True,\n",
    ").item()\n",
    "\n",
    "print(list(lookup))"
   ]
  },
  {
   "cell_type": "code",
   "execution_count": 18,
   "id": "2d2d95fe",
   "metadata": {},
   "outputs": [
    {
     "data": {
      "text/html": [
       "<pre style=\"white-space:pre;overflow-x:auto;line-height:normal;font-family:Menlo,'DejaVu Sans Mono',consolas,'Courier New',monospace\">Num BOLD ROIs: <span style=\"color: #008080; text-decoration-color: #008080; font-weight: bold\">1438</span>,    Num CA2 ROIs: <span style=\"color: #008080; text-decoration-color: #008080; font-weight: bold\">226</span>\n",
       "</pre>\n"
      ],
      "text/plain": [
       "Num BOLD ROIs: \u001b[1;36m1438\u001b[0m,    Num CA2 ROIs: \u001b[1;36m226\u001b[0m\n"
      ]
     },
     "metadata": {},
     "output_type": "display_data"
    }
   ],
   "source": [
    "print(f\"Num BOLD ROIs: {len(lookup['bold'])},\\tNum CA2 ROIs: {len(lookup['ca2'])}\")"
   ]
  },
  {
   "cell_type": "code",
   "execution_count": null,
   "id": "40dfd94f",
   "metadata": {},
   "outputs": [],
   "source": []
  },
  {
   "cell_type": "code",
   "execution_count": 21,
   "id": "c0665eaf",
   "metadata": {},
   "outputs": [
    {
     "data": {
      "text/html": [
       "<pre style=\"white-space:pre;overflow-x:auto;line-height:normal;font-family:Menlo,'DejaVu Sans Mono',consolas,'Courier New',monospace\"><span style=\"font-weight: bold\">(</span><span style=\"color: #008080; text-decoration-color: #008080; font-weight: bold\">132</span>, <span style=\"color: #008080; text-decoration-color: #008080; font-weight: bold\">80</span>, <span style=\"color: #008080; text-decoration-color: #008080; font-weight: bold\">114</span><span style=\"font-weight: bold\">)</span>\n",
       "</pre>\n"
      ],
      "text/plain": [
       "\u001b[1m(\u001b[0m\u001b[1;36m132\u001b[0m, \u001b[1;36m80\u001b[0m, \u001b[1;36m114\u001b[0m\u001b[1m)\u001b[0m\n"
      ]
     },
     "metadata": {},
     "output_type": "display_data"
    }
   ],
   "source": [
    "brain = np.load(pjoin(tgt, 'brain_100um.npy'))\n",
    "brain.shape"
   ]
  },
  {
   "cell_type": "code",
   "execution_count": 26,
   "id": "81c2b126",
   "metadata": {},
   "outputs": [
    {
     "data": {
      "text/html": [
       "<pre style=\"white-space:pre;overflow-x:auto;line-height:normal;font-family:Menlo,'DejaVu Sans Mono',consolas,'Courier New',monospace\"><span style=\"color: #008080; text-decoration-color: #008080; font-weight: bold\">1454</span>\n",
       "</pre>\n"
      ],
      "text/plain": [
       "\u001b[1;36m1454\u001b[0m\n"
      ]
     },
     "metadata": {},
     "output_type": "display_data"
    }
   ],
   "source": [
    "regions = np.unique(brain[brain != 0])\n",
    "len(regions)"
   ]
  },
  {
   "cell_type": "code",
   "execution_count": null,
   "id": "a3a10d13",
   "metadata": {},
   "outputs": [],
   "source": []
  },
  {
   "cell_type": "code",
   "execution_count": 35,
   "id": "c985ad68",
   "metadata": {},
   "outputs": [
    {
     "data": {
      "image/png": "[encoded data removed]"
     },
     "metadata": {},
     "output_type": "display_data"
    }
   ],
   "source": [
    "x = brain[60].copy().astype(float)\n",
    "x[x == 0] = np.nan\n",
    "\n",
    "plt.imshow(x, cmap='flag_r')\n",
    "plt.show()"
   ]
  },
  {
   "cell_type": "code",
   "execution_count": null,
   "id": "7bf6e74b",
   "metadata": {},
   "outputs": [],
   "source": []
  },
  {
   "cell_type": "code",
   "execution_count": null,
   "id": "f791f54c",
   "metadata": {},
   "outputs": [],
   "source": []
  },
  {
   "cell_type": "code",
   "execution_count": 38,
   "id": "879c023c",
   "metadata": {},
   "outputs": [],
   "source": [
    "x = np.load(pjoin(tgt, 'run_pi.npy'))\n",
    "x = avg(x)\n",
    "np.save(pjoin(tgt, 'example.npy'), x)"
   ]
  },
  {
   "cell_type": "code",
   "execution_count": null,
   "id": "038dc94e",
   "metadata": {},
   "outputs": [],
   "source": []
  },
  {
   "cell_type": "code",
   "execution_count": null,
   "id": "a3d9d11a",
   "metadata": {},
   "outputs": [],
   "source": []
  },
  {
   "cell_type": "code",
   "execution_count": 44,
   "id": "887a3ca9",
   "metadata": {},
   "outputs": [],
   "source": [
    "x = np.load(pjoin(tgt, 'example.npy'))\n",
    "data_3d = np.zeros(brain.shape, dtype=float)\n"
   ]
  },
  {
   "cell_type": "code",
   "execution_count": 47,
   "id": "08120a70",
   "metadata": {},
   "outputs": [],
   "source": [
    "kk = 0\n",
    "\n",
    "for node, region_id in lookup['bold'].items():\n",
    "    mask = brain == region_id\n",
    "    data_3d[mask] = x[kk, node]"
   ]
  },
  {
   "cell_type": "code",
   "execution_count": null,
   "id": "18c96a76",
   "metadata": {},
   "outputs": [],
   "source": []
  },
  {
   "cell_type": "code",
   "execution_count": 68,
   "id": "0300a42e",
   "metadata": {},
   "outputs": [
    {
     "data": {
      "text/html": [
       "<pre style=\"white-space:pre;overflow-x:auto;line-height:normal;font-family:Menlo,'DejaVu Sans Mono',consolas,'Courier New',monospace\"><span style=\"font-weight: bold\">&lt;</span><span style=\"color: #ff00ff; text-decoration-color: #ff00ff; font-weight: bold\">matplotlib.image.AxesImage</span><span style=\"color: #000000; text-decoration-color: #000000\"> object at </span><span style=\"color: #008080; text-decoration-color: #008080; font-weight: bold\">0x7f0d55715790</span><span style=\"font-weight: bold\">&gt;</span>\n",
       "</pre>\n"
      ],
      "text/plain": [
       "\u001b[1m<\u001b[0m\u001b[1;95mmatplotlib.image.AxesImage\u001b[0m\u001b[39m object at \u001b[0m\u001b[1;36m0x7f0d55715790\u001b[0m\u001b[1m>\u001b[0m\n"
      ]
     },
     "metadata": {},
     "output_type": "display_data"
    },
    {
     "data": {
      "image/png": "[encoded data removed]"
     },
     "metadata": {},
     "output_type": "display_data"
    }
   ],
   "source": [
    "slice_i = 52\n",
    "data2plot = data_3d[slice_i].copy()\n",
    "data2plot[brain[slice_i] == 0] = np.nan\n",
    "plt.imshow(data2plot, vmin=0.1)"
   ]
  },
  {
   "cell_type": "code",
   "execution_count": null,
   "id": "58c22069",
   "metadata": {},
   "outputs": [],
   "source": []
  },
  {
   "cell_type": "code",
   "execution_count": 70,
   "id": "5ccffd0c",
   "metadata": {},
   "outputs": [
    {
     "data": {
      "text/html": [
       "<pre style=\"white-space:pre;overflow-x:auto;line-height:normal;font-family:Menlo,'DejaVu Sans Mono',consolas,'Courier New',monospace\">ANTsImage <span style=\"font-weight: bold\">(</span>RAI<span style=\"font-weight: bold\">)</span>\n",
       "         Pixel Type : float <span style=\"font-weight: bold\">(</span>float32<span style=\"font-weight: bold\">)</span>\n",
       "         Components : <span style=\"color: #008080; text-decoration-color: #008080; font-weight: bold\">1</span>\n",
       "         Dimensions : <span style=\"font-weight: bold\">(</span><span style=\"color: #008080; text-decoration-color: #008080; font-weight: bold\">132</span>, <span style=\"color: #008080; text-decoration-color: #008080; font-weight: bold\">80</span>, <span style=\"color: #008080; text-decoration-color: #008080; font-weight: bold\">114</span><span style=\"font-weight: bold\">)</span>\n",
       "         Spacing    : <span style=\"font-weight: bold\">(</span><span style=\"color: #008080; text-decoration-color: #008080; font-weight: bold\">1.0</span>, <span style=\"color: #008080; text-decoration-color: #008080; font-weight: bold\">1.0</span>, <span style=\"color: #008080; text-decoration-color: #008080; font-weight: bold\">1.0</span><span style=\"font-weight: bold\">)</span>\n",
       "         Origin     : <span style=\"font-weight: bold\">(</span><span style=\"color: #008080; text-decoration-color: #008080; font-weight: bold\">0.0</span>, <span style=\"color: #008080; text-decoration-color: #008080; font-weight: bold\">0.0</span>, <span style=\"color: #008080; text-decoration-color: #008080; font-weight: bold\">0.0</span><span style=\"font-weight: bold\">)</span>\n",
       "         Direction  : <span style=\"font-weight: bold\">[</span><span style=\"color: #008080; text-decoration-color: #008080; font-weight: bold\">1</span>. <span style=\"color: #008080; text-decoration-color: #008080; font-weight: bold\">0</span>. <span style=\"color: #008080; text-decoration-color: #008080; font-weight: bold\">0</span>. <span style=\"color: #008080; text-decoration-color: #008080; font-weight: bold\">0</span>. <span style=\"color: #008080; text-decoration-color: #008080; font-weight: bold\">1</span>. <span style=\"color: #008080; text-decoration-color: #008080; font-weight: bold\">0</span>. <span style=\"color: #008080; text-decoration-color: #008080; font-weight: bold\">0</span>. <span style=\"color: #008080; text-decoration-color: #008080; font-weight: bold\">0</span>. <span style=\"color: #008080; text-decoration-color: #008080; font-weight: bold\">1</span>.<span style=\"font-weight: bold\">]</span>\n",
       "\n",
       "</pre>\n"
      ],
      "text/plain": [
       "ANTsImage \u001b[1m(\u001b[0mRAI\u001b[1m)\u001b[0m\n",
       "         Pixel Type : float \u001b[1m(\u001b[0mfloat32\u001b[1m)\u001b[0m\n",
       "         Components : \u001b[1;36m1\u001b[0m\n",
       "         Dimensions : \u001b[1m(\u001b[0m\u001b[1;36m132\u001b[0m, \u001b[1;36m80\u001b[0m, \u001b[1;36m114\u001b[0m\u001b[1m)\u001b[0m\n",
       "         Spacing    : \u001b[1m(\u001b[0m\u001b[1;36m1.0\u001b[0m, \u001b[1;36m1.0\u001b[0m, \u001b[1;36m1.0\u001b[0m\u001b[1m)\u001b[0m\n",
       "         Origin     : \u001b[1m(\u001b[0m\u001b[1;36m0.0\u001b[0m, \u001b[1;36m0.0\u001b[0m, \u001b[1;36m0.0\u001b[0m\u001b[1m)\u001b[0m\n",
       "         Direction  : \u001b[1m[\u001b[0m\u001b[1;36m1\u001b[0m. \u001b[1;36m0\u001b[0m. \u001b[1;36m0\u001b[0m. \u001b[1;36m0\u001b[0m. \u001b[1;36m1\u001b[0m. \u001b[1;36m0\u001b[0m. \u001b[1;36m0\u001b[0m. \u001b[1;36m0\u001b[0m. \u001b[1;36m1\u001b[0m.\u001b[1m]\u001b[0m\n",
       "\n"
      ]
     },
     "metadata": {},
     "output_type": "display_data"
    }
   ],
   "source": [
    "import ants\n",
    "\n",
    "img = ants.from_numpy(data_3d)\n",
    "img"
   ]
  },
  {
   "cell_type": "code",
   "execution_count": 73,
   "id": "3bce6500",
   "metadata": {},
   "outputs": [],
   "source": [
    "ants.image_write(img, pjoin(tgt, 'example.nii'))"
   ]
  },
  {
   "cell_type": "code",
   "execution_count": null,
   "id": "b7f2468f",
   "metadata": {},
   "outputs": [],
   "source": []
  },
  {
   "cell_type": "markdown",
   "id": "12d57744",
   "metadata": {},
   "source": [
    "## Save node loockup as mat array"
   ]
  },
  {
   "cell_type": "code",
   "execution_count": 27,
   "id": "31aeba3b",
   "metadata": {},
   "outputs": [],
   "source": [
    "from scipy import io as sio\n",
    "tgt = '/home/hadi/Desktop/Hadi-SLC'"
   ]
  },
  {
   "cell_type": "code",
   "execution_count": 2,
   "id": "890a515c",
   "metadata": {},
   "outputs": [],
   "source": [
    "mice = Mice(192)"
   ]
  },
  {
   "cell_type": "code",
   "execution_count": 30,
   "id": "dcf22b73",
   "metadata": {},
   "outputs": [
    {
     "data": {
      "text/html": [
       "<pre style=\"white-space:pre;overflow-x:auto;line-height:normal;font-family:Menlo,'DejaVu Sans Mono',consolas,'Courier New',monospace\"><span style=\"font-weight: bold\">{</span>\n",
       "    <span style=\"color: #008000; text-decoration-color: #008000\">'ca2'</span>: <span style=\"color: #800080; text-decoration-color: #800080; font-weight: bold\">array</span><span style=\"font-weight: bold\">([</span> <span style=\"color: #008080; text-decoration-color: #008080; font-weight: bold\">18</span>,  <span style=\"color: #008080; text-decoration-color: #008080; font-weight: bold\">19</span>,  <span style=\"color: #008080; text-decoration-color: #008080; font-weight: bold\">20</span>,  <span style=\"color: #008080; text-decoration-color: #008080; font-weight: bold\">22</span>,  <span style=\"color: #008080; text-decoration-color: #008080; font-weight: bold\">25</span>,  <span style=\"color: #008080; text-decoration-color: #008080; font-weight: bold\">26</span>,  <span style=\"color: #008080; text-decoration-color: #008080; font-weight: bold\">28</span>,  <span style=\"color: #008080; text-decoration-color: #008080; font-weight: bold\">30</span>,  <span style=\"color: #008080; text-decoration-color: #008080; font-weight: bold\">31</span>,  <span style=\"color: #008080; text-decoration-color: #008080; font-weight: bold\">34</span>,  <span style=\"color: #008080; text-decoration-color: #008080; font-weight: bold\">36</span>,  <span style=\"color: #008080; text-decoration-color: #008080; font-weight: bold\">38</span>,  <span style=\"color: #008080; text-decoration-color: #008080; font-weight: bold\">40</span>,\n",
       "        <span style=\"color: #008080; text-decoration-color: #008080; font-weight: bold\">41</span>,  <span style=\"color: #008080; text-decoration-color: #008080; font-weight: bold\">42</span>,  <span style=\"color: #008080; text-decoration-color: #008080; font-weight: bold\">43</span>,  <span style=\"color: #008080; text-decoration-color: #008080; font-weight: bold\">47</span>,  <span style=\"color: #008080; text-decoration-color: #008080; font-weight: bold\">49</span>,  <span style=\"color: #008080; text-decoration-color: #008080; font-weight: bold\">52</span>,  <span style=\"color: #008080; text-decoration-color: #008080; font-weight: bold\">53</span>,  <span style=\"color: #008080; text-decoration-color: #008080; font-weight: bold\">55</span>,  <span style=\"color: #008080; text-decoration-color: #008080; font-weight: bold\">56</span>,  <span style=\"color: #008080; text-decoration-color: #008080; font-weight: bold\">57</span>,  <span style=\"color: #008080; text-decoration-color: #008080; font-weight: bold\">59</span>,  <span style=\"color: #008080; text-decoration-color: #008080; font-weight: bold\">62</span>,  <span style=\"color: #008080; text-decoration-color: #008080; font-weight: bold\">63</span>,\n",
       "        <span style=\"color: #008080; text-decoration-color: #008080; font-weight: bold\">65</span>,  <span style=\"color: #008080; text-decoration-color: #008080; font-weight: bold\">66</span>,  <span style=\"color: #008080; text-decoration-color: #008080; font-weight: bold\">68</span>,  <span style=\"color: #008080; text-decoration-color: #008080; font-weight: bold\">69</span>,  <span style=\"color: #008080; text-decoration-color: #008080; font-weight: bold\">71</span>,  <span style=\"color: #008080; text-decoration-color: #008080; font-weight: bold\">73</span>,  <span style=\"color: #008080; text-decoration-color: #008080; font-weight: bold\">74</span>,  <span style=\"color: #008080; text-decoration-color: #008080; font-weight: bold\">75</span>,  <span style=\"color: #008080; text-decoration-color: #008080; font-weight: bold\">77</span>,  <span style=\"color: #008080; text-decoration-color: #008080; font-weight: bold\">78</span>,  <span style=\"color: #008080; text-decoration-color: #008080; font-weight: bold\">80</span>,  <span style=\"color: #008080; text-decoration-color: #008080; font-weight: bold\">81</span>,  <span style=\"color: #008080; text-decoration-color: #008080; font-weight: bold\">82</span>,\n",
       "        <span style=\"color: #008080; text-decoration-color: #008080; font-weight: bold\">83</span>,  <span style=\"color: #008080; text-decoration-color: #008080; font-weight: bold\">86</span>,  <span style=\"color: #008080; text-decoration-color: #008080; font-weight: bold\">87</span>,  <span style=\"color: #008080; text-decoration-color: #008080; font-weight: bold\">89</span>,  <span style=\"color: #008080; text-decoration-color: #008080; font-weight: bold\">90</span>,  <span style=\"color: #008080; text-decoration-color: #008080; font-weight: bold\">92</span>,  <span style=\"color: #008080; text-decoration-color: #008080; font-weight: bold\">93</span>,  <span style=\"color: #008080; text-decoration-color: #008080; font-weight: bold\">95</span>,  <span style=\"color: #008080; text-decoration-color: #008080; font-weight: bold\">98</span>,  <span style=\"color: #008080; text-decoration-color: #008080; font-weight: bold\">99</span>, <span style=\"color: #008080; text-decoration-color: #008080; font-weight: bold\">100</span>, <span style=\"color: #008080; text-decoration-color: #008080; font-weight: bold\">101</span>, <span style=\"color: #008080; text-decoration-color: #008080; font-weight: bold\">103</span>,\n",
       "       <span style=\"color: #008080; text-decoration-color: #008080; font-weight: bold\">105</span>, <span style=\"color: #008080; text-decoration-color: #008080; font-weight: bold\">107</span>, <span style=\"color: #008080; text-decoration-color: #008080; font-weight: bold\">108</span>, <span style=\"color: #008080; text-decoration-color: #008080; font-weight: bold\">110</span>, <span style=\"color: #008080; text-decoration-color: #008080; font-weight: bold\">111</span>, <span style=\"color: #008080; text-decoration-color: #008080; font-weight: bold\">112</span>, <span style=\"color: #008080; text-decoration-color: #008080; font-weight: bold\">113</span>, <span style=\"color: #008080; text-decoration-color: #008080; font-weight: bold\">114</span>, <span style=\"color: #008080; text-decoration-color: #008080; font-weight: bold\">115</span>, <span style=\"color: #008080; text-decoration-color: #008080; font-weight: bold\">117</span>, <span style=\"color: #008080; text-decoration-color: #008080; font-weight: bold\">119</span>, <span style=\"color: #008080; text-decoration-color: #008080; font-weight: bold\">121</span>, <span style=\"color: #008080; text-decoration-color: #008080; font-weight: bold\">122</span>,\n",
       "       <span style=\"color: #008080; text-decoration-color: #008080; font-weight: bold\">123</span>, <span style=\"color: #008080; text-decoration-color: #008080; font-weight: bold\">125</span>, <span style=\"color: #008080; text-decoration-color: #008080; font-weight: bold\">126</span>, <span style=\"color: #008080; text-decoration-color: #008080; font-weight: bold\">127</span>, <span style=\"color: #008080; text-decoration-color: #008080; font-weight: bold\">128</span>, <span style=\"color: #008080; text-decoration-color: #008080; font-weight: bold\">129</span>, <span style=\"color: #008080; text-decoration-color: #008080; font-weight: bold\">131</span>, <span style=\"color: #008080; text-decoration-color: #008080; font-weight: bold\">132</span>, <span style=\"color: #008080; text-decoration-color: #008080; font-weight: bold\">136</span>, <span style=\"color: #008080; text-decoration-color: #008080; font-weight: bold\">137</span>, <span style=\"color: #008080; text-decoration-color: #008080; font-weight: bold\">138</span>, <span style=\"color: #008080; text-decoration-color: #008080; font-weight: bold\">139</span>, <span style=\"color: #008080; text-decoration-color: #008080; font-weight: bold\">140</span>,\n",
       "       <span style=\"color: #008080; text-decoration-color: #008080; font-weight: bold\">141</span>, <span style=\"color: #008080; text-decoration-color: #008080; font-weight: bold\">143</span>, <span style=\"color: #008080; text-decoration-color: #008080; font-weight: bold\">144</span>, <span style=\"color: #008080; text-decoration-color: #008080; font-weight: bold\">147</span>, <span style=\"color: #008080; text-decoration-color: #008080; font-weight: bold\">149</span>, <span style=\"color: #008080; text-decoration-color: #008080; font-weight: bold\">150</span>, <span style=\"color: #008080; text-decoration-color: #008080; font-weight: bold\">151</span>, <span style=\"color: #008080; text-decoration-color: #008080; font-weight: bold\">152</span>, <span style=\"color: #008080; text-decoration-color: #008080; font-weight: bold\">153</span>, <span style=\"color: #008080; text-decoration-color: #008080; font-weight: bold\">154</span>, <span style=\"color: #008080; text-decoration-color: #008080; font-weight: bold\">157</span>, <span style=\"color: #008080; text-decoration-color: #008080; font-weight: bold\">158</span>, <span style=\"color: #008080; text-decoration-color: #008080; font-weight: bold\">160</span>,\n",
       "       <span style=\"color: #008080; text-decoration-color: #008080; font-weight: bold\">161</span>, <span style=\"color: #008080; text-decoration-color: #008080; font-weight: bold\">162</span>, <span style=\"color: #008080; text-decoration-color: #008080; font-weight: bold\">163</span>, <span style=\"color: #008080; text-decoration-color: #008080; font-weight: bold\">164</span>, <span style=\"color: #008080; text-decoration-color: #008080; font-weight: bold\">165</span>, <span style=\"color: #008080; text-decoration-color: #008080; font-weight: bold\">167</span>, <span style=\"color: #008080; text-decoration-color: #008080; font-weight: bold\">168</span>, <span style=\"color: #008080; text-decoration-color: #008080; font-weight: bold\">170</span>, <span style=\"color: #008080; text-decoration-color: #008080; font-weight: bold\">172</span>, <span style=\"color: #008080; text-decoration-color: #008080; font-weight: bold\">173</span>, <span style=\"color: #008080; text-decoration-color: #008080; font-weight: bold\">174</span>, <span style=\"color: #008080; text-decoration-color: #008080; font-weight: bold\">175</span>, <span style=\"color: #008080; text-decoration-color: #008080; font-weight: bold\">176</span>,\n",
       "       <span style=\"color: #008080; text-decoration-color: #008080; font-weight: bold\">178</span>, <span style=\"color: #008080; text-decoration-color: #008080; font-weight: bold\">179</span>, <span style=\"color: #008080; text-decoration-color: #008080; font-weight: bold\">180</span>, <span style=\"color: #008080; text-decoration-color: #008080; font-weight: bold\">181</span>, <span style=\"color: #008080; text-decoration-color: #008080; font-weight: bold\">182</span>, <span style=\"color: #008080; text-decoration-color: #008080; font-weight: bold\">183</span>, <span style=\"color: #008080; text-decoration-color: #008080; font-weight: bold\">185</span>, <span style=\"color: #008080; text-decoration-color: #008080; font-weight: bold\">186</span>, <span style=\"color: #008080; text-decoration-color: #008080; font-weight: bold\">187</span>, <span style=\"color: #008080; text-decoration-color: #008080; font-weight: bold\">594</span>, <span style=\"color: #008080; text-decoration-color: #008080; font-weight: bold\">595</span>, <span style=\"color: #008080; text-decoration-color: #008080; font-weight: bold\">596</span>, <span style=\"color: #008080; text-decoration-color: #008080; font-weight: bold\">598</span>,\n",
       "       <span style=\"color: #008080; text-decoration-color: #008080; font-weight: bold\">601</span>, <span style=\"color: #008080; text-decoration-color: #008080; font-weight: bold\">602</span>, <span style=\"color: #008080; text-decoration-color: #008080; font-weight: bold\">604</span>, <span style=\"color: #008080; text-decoration-color: #008080; font-weight: bold\">606</span>, <span style=\"color: #008080; text-decoration-color: #008080; font-weight: bold\">607</span>, <span style=\"color: #008080; text-decoration-color: #008080; font-weight: bold\">610</span>, <span style=\"color: #008080; text-decoration-color: #008080; font-weight: bold\">612</span>, <span style=\"color: #008080; text-decoration-color: #008080; font-weight: bold\">614</span>, <span style=\"color: #008080; text-decoration-color: #008080; font-weight: bold\">616</span>, <span style=\"color: #008080; text-decoration-color: #008080; font-weight: bold\">617</span>, <span style=\"color: #008080; text-decoration-color: #008080; font-weight: bold\">618</span>, <span style=\"color: #008080; text-decoration-color: #008080; font-weight: bold\">619</span>, <span style=\"color: #008080; text-decoration-color: #008080; font-weight: bold\">623</span>,\n",
       "       <span style=\"color: #008080; text-decoration-color: #008080; font-weight: bold\">625</span>, <span style=\"color: #008080; text-decoration-color: #008080; font-weight: bold\">628</span>, <span style=\"color: #008080; text-decoration-color: #008080; font-weight: bold\">629</span>, <span style=\"color: #008080; text-decoration-color: #008080; font-weight: bold\">631</span>, <span style=\"color: #008080; text-decoration-color: #008080; font-weight: bold\">632</span>, <span style=\"color: #008080; text-decoration-color: #008080; font-weight: bold\">633</span>, <span style=\"color: #008080; text-decoration-color: #008080; font-weight: bold\">635</span>, <span style=\"color: #008080; text-decoration-color: #008080; font-weight: bold\">638</span>, <span style=\"color: #008080; text-decoration-color: #008080; font-weight: bold\">639</span>, <span style=\"color: #008080; text-decoration-color: #008080; font-weight: bold\">641</span>, <span style=\"color: #008080; text-decoration-color: #008080; font-weight: bold\">642</span>, <span style=\"color: #008080; text-decoration-color: #008080; font-weight: bold\">644</span>, <span style=\"color: #008080; text-decoration-color: #008080; font-weight: bold\">645</span>,\n",
       "       <span style=\"color: #008080; text-decoration-color: #008080; font-weight: bold\">647</span>, <span style=\"color: #008080; text-decoration-color: #008080; font-weight: bold\">649</span>, <span style=\"color: #008080; text-decoration-color: #008080; font-weight: bold\">650</span>, <span style=\"color: #008080; text-decoration-color: #008080; font-weight: bold\">651</span>, <span style=\"color: #008080; text-decoration-color: #008080; font-weight: bold\">653</span>, <span style=\"color: #008080; text-decoration-color: #008080; font-weight: bold\">654</span>, <span style=\"color: #008080; text-decoration-color: #008080; font-weight: bold\">656</span>, <span style=\"color: #008080; text-decoration-color: #008080; font-weight: bold\">657</span>, <span style=\"color: #008080; text-decoration-color: #008080; font-weight: bold\">658</span>, <span style=\"color: #008080; text-decoration-color: #008080; font-weight: bold\">659</span>, <span style=\"color: #008080; text-decoration-color: #008080; font-weight: bold\">662</span>, <span style=\"color: #008080; text-decoration-color: #008080; font-weight: bold\">663</span>, <span style=\"color: #008080; text-decoration-color: #008080; font-weight: bold\">665</span>,\n",
       "       <span style=\"color: #008080; text-decoration-color: #008080; font-weight: bold\">666</span>, <span style=\"color: #008080; text-decoration-color: #008080; font-weight: bold\">668</span>, <span style=\"color: #008080; text-decoration-color: #008080; font-weight: bold\">669</span>, <span style=\"color: #008080; text-decoration-color: #008080; font-weight: bold\">671</span>, <span style=\"color: #008080; text-decoration-color: #008080; font-weight: bold\">674</span>, <span style=\"color: #008080; text-decoration-color: #008080; font-weight: bold\">675</span>, <span style=\"color: #008080; text-decoration-color: #008080; font-weight: bold\">676</span>, <span style=\"color: #008080; text-decoration-color: #008080; font-weight: bold\">677</span>, <span style=\"color: #008080; text-decoration-color: #008080; font-weight: bold\">679</span>, <span style=\"color: #008080; text-decoration-color: #008080; font-weight: bold\">681</span>, <span style=\"color: #008080; text-decoration-color: #008080; font-weight: bold\">683</span>, <span style=\"color: #008080; text-decoration-color: #008080; font-weight: bold\">684</span>, <span style=\"color: #008080; text-decoration-color: #008080; font-weight: bold\">686</span>,\n",
       "       <span style=\"color: #008080; text-decoration-color: #008080; font-weight: bold\">687</span>, <span style=\"color: #008080; text-decoration-color: #008080; font-weight: bold\">688</span>, <span style=\"color: #008080; text-decoration-color: #008080; font-weight: bold\">689</span>, <span style=\"color: #008080; text-decoration-color: #008080; font-weight: bold\">690</span>, <span style=\"color: #008080; text-decoration-color: #008080; font-weight: bold\">691</span>, <span style=\"color: #008080; text-decoration-color: #008080; font-weight: bold\">693</span>, <span style=\"color: #008080; text-decoration-color: #008080; font-weight: bold\">695</span>, <span style=\"color: #008080; text-decoration-color: #008080; font-weight: bold\">697</span>, <span style=\"color: #008080; text-decoration-color: #008080; font-weight: bold\">698</span>, <span style=\"color: #008080; text-decoration-color: #008080; font-weight: bold\">699</span>, <span style=\"color: #008080; text-decoration-color: #008080; font-weight: bold\">701</span>, <span style=\"color: #008080; text-decoration-color: #008080; font-weight: bold\">702</span>, <span style=\"color: #008080; text-decoration-color: #008080; font-weight: bold\">703</span>,\n",
       "       <span style=\"color: #008080; text-decoration-color: #008080; font-weight: bold\">704</span>, <span style=\"color: #008080; text-decoration-color: #008080; font-weight: bold\">705</span>, <span style=\"color: #008080; text-decoration-color: #008080; font-weight: bold\">707</span>, <span style=\"color: #008080; text-decoration-color: #008080; font-weight: bold\">708</span>, <span style=\"color: #008080; text-decoration-color: #008080; font-weight: bold\">712</span>, <span style=\"color: #008080; text-decoration-color: #008080; font-weight: bold\">713</span>, <span style=\"color: #008080; text-decoration-color: #008080; font-weight: bold\">714</span>, <span style=\"color: #008080; text-decoration-color: #008080; font-weight: bold\">715</span>, <span style=\"color: #008080; text-decoration-color: #008080; font-weight: bold\">716</span>, <span style=\"color: #008080; text-decoration-color: #008080; font-weight: bold\">717</span>, <span style=\"color: #008080; text-decoration-color: #008080; font-weight: bold\">719</span>, <span style=\"color: #008080; text-decoration-color: #008080; font-weight: bold\">720</span>, <span style=\"color: #008080; text-decoration-color: #008080; font-weight: bold\">723</span>,\n",
       "       <span style=\"color: #008080; text-decoration-color: #008080; font-weight: bold\">725</span>, <span style=\"color: #008080; text-decoration-color: #008080; font-weight: bold\">726</span>, <span style=\"color: #008080; text-decoration-color: #008080; font-weight: bold\">727</span>, <span style=\"color: #008080; text-decoration-color: #008080; font-weight: bold\">728</span>, <span style=\"color: #008080; text-decoration-color: #008080; font-weight: bold\">729</span>, <span style=\"color: #008080; text-decoration-color: #008080; font-weight: bold\">730</span>, <span style=\"color: #008080; text-decoration-color: #008080; font-weight: bold\">733</span>, <span style=\"color: #008080; text-decoration-color: #008080; font-weight: bold\">734</span>, <span style=\"color: #008080; text-decoration-color: #008080; font-weight: bold\">736</span>, <span style=\"color: #008080; text-decoration-color: #008080; font-weight: bold\">737</span>, <span style=\"color: #008080; text-decoration-color: #008080; font-weight: bold\">738</span>, <span style=\"color: #008080; text-decoration-color: #008080; font-weight: bold\">739</span>, <span style=\"color: #008080; text-decoration-color: #008080; font-weight: bold\">740</span>,\n",
       "       <span style=\"color: #008080; text-decoration-color: #008080; font-weight: bold\">741</span>, <span style=\"color: #008080; text-decoration-color: #008080; font-weight: bold\">743</span>, <span style=\"color: #008080; text-decoration-color: #008080; font-weight: bold\">744</span>, <span style=\"color: #008080; text-decoration-color: #008080; font-weight: bold\">746</span>, <span style=\"color: #008080; text-decoration-color: #008080; font-weight: bold\">748</span>, <span style=\"color: #008080; text-decoration-color: #008080; font-weight: bold\">749</span>, <span style=\"color: #008080; text-decoration-color: #008080; font-weight: bold\">750</span>, <span style=\"color: #008080; text-decoration-color: #008080; font-weight: bold\">751</span>, <span style=\"color: #008080; text-decoration-color: #008080; font-weight: bold\">752</span>, <span style=\"color: #008080; text-decoration-color: #008080; font-weight: bold\">754</span>, <span style=\"color: #008080; text-decoration-color: #008080; font-weight: bold\">755</span>, <span style=\"color: #008080; text-decoration-color: #008080; font-weight: bold\">756</span>, <span style=\"color: #008080; text-decoration-color: #008080; font-weight: bold\">757</span>,\n",
       "       <span style=\"color: #008080; text-decoration-color: #008080; font-weight: bold\">758</span>, <span style=\"color: #008080; text-decoration-color: #008080; font-weight: bold\">759</span>, <span style=\"color: #008080; text-decoration-color: #008080; font-weight: bold\">761</span>, <span style=\"color: #008080; text-decoration-color: #008080; font-weight: bold\">762</span>, <span style=\"color: #008080; text-decoration-color: #008080; font-weight: bold\">763</span><span style=\"font-weight: bold\">])</span>,\n",
       "    <span style=\"color: #008000; text-decoration-color: #008000\">'bold'</span>: <span style=\"color: #800080; text-decoration-color: #800080; font-weight: bold\">array</span><span style=\"font-weight: bold\">([</span>   <span style=\"color: #008080; text-decoration-color: #008080; font-weight: bold\">1</span>,    <span style=\"color: #008080; text-decoration-color: #008080; font-weight: bold\">2</span>,    <span style=\"color: #008080; text-decoration-color: #008080; font-weight: bold\">3</span>, <span style=\"color: #808000; text-decoration-color: #808000\">...</span>, <span style=\"color: #008080; text-decoration-color: #008080; font-weight: bold\">1452</span>, <span style=\"color: #008080; text-decoration-color: #008080; font-weight: bold\">1453</span>, <span style=\"color: #008080; text-decoration-color: #008080; font-weight: bold\">1454</span><span style=\"font-weight: bold\">])</span>\n",
       "<span style=\"font-weight: bold\">}</span>\n",
       "</pre>\n"
      ],
      "text/plain": [
       "\u001b[1m{\u001b[0m\n",
       "    \u001b[32m'ca2'\u001b[0m: \u001b[1;35marray\u001b[0m\u001b[1m(\u001b[0m\u001b[1m[\u001b[0m \u001b[1;36m18\u001b[0m,  \u001b[1;36m19\u001b[0m,  \u001b[1;36m20\u001b[0m,  \u001b[1;36m22\u001b[0m,  \u001b[1;36m25\u001b[0m,  \u001b[1;36m26\u001b[0m,  \u001b[1;36m28\u001b[0m,  \u001b[1;36m30\u001b[0m,  \u001b[1;36m31\u001b[0m,  \u001b[1;36m34\u001b[0m,  \u001b[1;36m36\u001b[0m,  \u001b[1;36m38\u001b[0m,  \u001b[1;36m40\u001b[0m,\n",
       "        \u001b[1;36m41\u001b[0m,  \u001b[1;36m42\u001b[0m,  \u001b[1;36m43\u001b[0m,  \u001b[1;36m47\u001b[0m,  \u001b[1;36m49\u001b[0m,  \u001b[1;36m52\u001b[0m,  \u001b[1;36m53\u001b[0m,  \u001b[1;36m55\u001b[0m,  \u001b[1;36m56\u001b[0m,  \u001b[1;36m57\u001b[0m,  \u001b[1;36m59\u001b[0m,  \u001b[1;36m62\u001b[0m,  \u001b[1;36m63\u001b[0m,\n",
       "        \u001b[1;36m65\u001b[0m,  \u001b[1;36m66\u001b[0m,  \u001b[1;36m68\u001b[0m,  \u001b[1;36m69\u001b[0m,  \u001b[1;36m71\u001b[0m,  \u001b[1;36m73\u001b[0m,  \u001b[1;36m74\u001b[0m,  \u001b[1;36m75\u001b[0m,  \u001b[1;36m77\u001b[0m,  \u001b[1;36m78\u001b[0m,  \u001b[1;36m80\u001b[0m,  \u001b[1;36m81\u001b[0m,  \u001b[1;36m82\u001b[0m,\n",
       "        \u001b[1;36m83\u001b[0m,  \u001b[1;36m86\u001b[0m,  \u001b[1;36m87\u001b[0m,  \u001b[1;36m89\u001b[0m,  \u001b[1;36m90\u001b[0m,  \u001b[1;36m92\u001b[0m,  \u001b[1;36m93\u001b[0m,  \u001b[1;36m95\u001b[0m,  \u001b[1;36m98\u001b[0m,  \u001b[1;36m99\u001b[0m, \u001b[1;36m100\u001b[0m, \u001b[1;36m101\u001b[0m, \u001b[1;36m103\u001b[0m,\n",
       "       \u001b[1;36m105\u001b[0m, \u001b[1;36m107\u001b[0m, \u001b[1;36m108\u001b[0m, \u001b[1;36m110\u001b[0m, \u001b[1;36m111\u001b[0m, \u001b[1;36m112\u001b[0m, \u001b[1;36m113\u001b[0m, \u001b[1;36m114\u001b[0m, \u001b[1;36m115\u001b[0m, \u001b[1;36m117\u001b[0m, \u001b[1;36m119\u001b[0m, \u001b[1;36m121\u001b[0m, \u001b[1;36m122\u001b[0m,\n",
       "       \u001b[1;36m123\u001b[0m, \u001b[1;36m125\u001b[0m, \u001b[1;36m126\u001b[0m, \u001b[1;36m127\u001b[0m, \u001b[1;36m128\u001b[0m, \u001b[1;36m129\u001b[0m, \u001b[1;36m131\u001b[0m, \u001b[1;36m132\u001b[0m, \u001b[1;36m136\u001b[0m, \u001b[1;36m137\u001b[0m, \u001b[1;36m138\u001b[0m, \u001b[1;36m139\u001b[0m, \u001b[1;36m140\u001b[0m,\n",
       "       \u001b[1;36m141\u001b[0m, \u001b[1;36m143\u001b[0m, \u001b[1;36m144\u001b[0m, \u001b[1;36m147\u001b[0m, \u001b[1;36m149\u001b[0m, \u001b[1;36m150\u001b[0m, \u001b[1;36m151\u001b[0m, \u001b[1;36m152\u001b[0m, \u001b[1;36m153\u001b[0m, \u001b[1;36m154\u001b[0m, \u001b[1;36m157\u001b[0m, \u001b[1;36m158\u001b[0m, \u001b[1;36m160\u001b[0m,\n",
       "       \u001b[1;36m161\u001b[0m, \u001b[1;36m162\u001b[0m, \u001b[1;36m163\u001b[0m, \u001b[1;36m164\u001b[0m, \u001b[1;36m165\u001b[0m, \u001b[1;36m167\u001b[0m, \u001b[1;36m168\u001b[0m, \u001b[1;36m170\u001b[0m, \u001b[1;36m172\u001b[0m, \u001b[1;36m173\u001b[0m, \u001b[1;36m174\u001b[0m, \u001b[1;36m175\u001b[0m, \u001b[1;36m176\u001b[0m,\n",
       "       \u001b[1;36m178\u001b[0m, \u001b[1;36m179\u001b[0m, \u001b[1;36m180\u001b[0m, \u001b[1;36m181\u001b[0m, \u001b[1;36m182\u001b[0m, \u001b[1;36m183\u001b[0m, \u001b[1;36m185\u001b[0m, \u001b[1;36m186\u001b[0m, \u001b[1;36m187\u001b[0m, \u001b[1;36m594\u001b[0m, \u001b[1;36m595\u001b[0m, \u001b[1;36m596\u001b[0m, \u001b[1;36m598\u001b[0m,\n",
       "       \u001b[1;36m601\u001b[0m, \u001b[1;36m602\u001b[0m, \u001b[1;36m604\u001b[0m, \u001b[1;36m606\u001b[0m, \u001b[1;36m607\u001b[0m, \u001b[1;36m610\u001b[0m, \u001b[1;36m612\u001b[0m, \u001b[1;36m614\u001b[0m, \u001b[1;36m616\u001b[0m, \u001b[1;36m617\u001b[0m, \u001b[1;36m618\u001b[0m, \u001b[1;36m619\u001b[0m, \u001b[1;36m623\u001b[0m,\n",
       "       \u001b[1;36m625\u001b[0m, \u001b[1;36m628\u001b[0m, \u001b[1;36m629\u001b[0m, \u001b[1;36m631\u001b[0m, \u001b[1;36m632\u001b[0m, \u001b[1;36m633\u001b[0m, \u001b[1;36m635\u001b[0m, \u001b[1;36m638\u001b[0m, \u001b[1;36m639\u001b[0m, \u001b[1;36m641\u001b[0m, \u001b[1;36m642\u001b[0m, \u001b[1;36m644\u001b[0m, \u001b[1;36m645\u001b[0m,\n",
       "       \u001b[1;36m647\u001b[0m, \u001b[1;36m649\u001b[0m, \u001b[1;36m650\u001b[0m, \u001b[1;36m651\u001b[0m, \u001b[1;36m653\u001b[0m, \u001b[1;36m654\u001b[0m, \u001b[1;36m656\u001b[0m, \u001b[1;36m657\u001b[0m, \u001b[1;36m658\u001b[0m, \u001b[1;36m659\u001b[0m, \u001b[1;36m662\u001b[0m, \u001b[1;36m663\u001b[0m, \u001b[1;36m665\u001b[0m,\n",
       "       \u001b[1;36m666\u001b[0m, \u001b[1;36m668\u001b[0m, \u001b[1;36m669\u001b[0m, \u001b[1;36m671\u001b[0m, \u001b[1;36m674\u001b[0m, \u001b[1;36m675\u001b[0m, \u001b[1;36m676\u001b[0m, \u001b[1;36m677\u001b[0m, \u001b[1;36m679\u001b[0m, \u001b[1;36m681\u001b[0m, \u001b[1;36m683\u001b[0m, \u001b[1;36m684\u001b[0m, \u001b[1;36m686\u001b[0m,\n",
       "       \u001b[1;36m687\u001b[0m, \u001b[1;36m688\u001b[0m, \u001b[1;36m689\u001b[0m, \u001b[1;36m690\u001b[0m, \u001b[1;36m691\u001b[0m, \u001b[1;36m693\u001b[0m, \u001b[1;36m695\u001b[0m, \u001b[1;36m697\u001b[0m, \u001b[1;36m698\u001b[0m, \u001b[1;36m699\u001b[0m, \u001b[1;36m701\u001b[0m, \u001b[1;36m702\u001b[0m, \u001b[1;36m703\u001b[0m,\n",
       "       \u001b[1;36m704\u001b[0m, \u001b[1;36m705\u001b[0m, \u001b[1;36m707\u001b[0m, \u001b[1;36m708\u001b[0m, \u001b[1;36m712\u001b[0m, \u001b[1;36m713\u001b[0m, \u001b[1;36m714\u001b[0m, \u001b[1;36m715\u001b[0m, \u001b[1;36m716\u001b[0m, \u001b[1;36m717\u001b[0m, \u001b[1;36m719\u001b[0m, \u001b[1;36m720\u001b[0m, \u001b[1;36m723\u001b[0m,\n",
       "       \u001b[1;36m725\u001b[0m, \u001b[1;36m726\u001b[0m, \u001b[1;36m727\u001b[0m, \u001b[1;36m728\u001b[0m, \u001b[1;36m729\u001b[0m, \u001b[1;36m730\u001b[0m, \u001b[1;36m733\u001b[0m, \u001b[1;36m734\u001b[0m, \u001b[1;36m736\u001b[0m, \u001b[1;36m737\u001b[0m, \u001b[1;36m738\u001b[0m, \u001b[1;36m739\u001b[0m, \u001b[1;36m740\u001b[0m,\n",
       "       \u001b[1;36m741\u001b[0m, \u001b[1;36m743\u001b[0m, \u001b[1;36m744\u001b[0m, \u001b[1;36m746\u001b[0m, \u001b[1;36m748\u001b[0m, \u001b[1;36m749\u001b[0m, \u001b[1;36m750\u001b[0m, \u001b[1;36m751\u001b[0m, \u001b[1;36m752\u001b[0m, \u001b[1;36m754\u001b[0m, \u001b[1;36m755\u001b[0m, \u001b[1;36m756\u001b[0m, \u001b[1;36m757\u001b[0m,\n",
       "       \u001b[1;36m758\u001b[0m, \u001b[1;36m759\u001b[0m, \u001b[1;36m761\u001b[0m, \u001b[1;36m762\u001b[0m, \u001b[1;36m763\u001b[0m\u001b[1m]\u001b[0m\u001b[1m)\u001b[0m,\n",
       "    \u001b[32m'bold'\u001b[0m: \u001b[1;35marray\u001b[0m\u001b[1m(\u001b[0m\u001b[1m[\u001b[0m   \u001b[1;36m1\u001b[0m,    \u001b[1;36m2\u001b[0m,    \u001b[1;36m3\u001b[0m, \u001b[33m...\u001b[0m, \u001b[1;36m1452\u001b[0m, \u001b[1;36m1453\u001b[0m, \u001b[1;36m1454\u001b[0m\u001b[1m]\u001b[0m\u001b[1m)\u001b[0m\n",
       "\u001b[1m}\u001b[0m\n"
      ]
     },
     "metadata": {},
     "output_type": "display_data"
    }
   ],
   "source": [
    "dict2save = {}\n",
    "for mode, d in mice.node_lookup.items():\n",
    "    x = np.array(list(d.values()))\n",
    "    dict2save[mode] = x\n",
    "    \n",
    "dict2save"
   ]
  },
  {
   "cell_type": "code",
   "execution_count": null,
   "id": "d0903ecc",
   "metadata": {},
   "outputs": [],
   "source": []
  },
  {
   "cell_type": "code",
   "execution_count": 32,
   "id": "b37faeba",
   "metadata": {},
   "outputs": [],
   "source": [
    "sio.savemat(pjoin(tgt, 'roi_dictionary.mat'), dict2save)"
   ]
  },
  {
   "cell_type": "code",
   "execution_count": null,
   "id": "3cea6e02",
   "metadata": {},
   "outputs": [],
   "source": []
  },
  {
   "cell_type": "code",
   "execution_count": 33,
   "id": "da3f7006",
   "metadata": {},
   "outputs": [
    {
     "data": {
      "text/html": [
       "<pre style=\"white-space:pre;overflow-x:auto;line-height:normal;font-family:Menlo,'DejaVu Sans Mono',consolas,'Courier New',monospace\"><span style=\"font-weight: bold\">(</span><span style=\"color: #008080; text-decoration-color: #008080; font-weight: bold\">1438</span>, <span style=\"color: #008080; text-decoration-color: #008080; font-weight: bold\">1454</span><span style=\"font-weight: bold\">)</span>\n",
       "</pre>\n"
      ],
      "text/plain": [
       "\u001b[1m(\u001b[0m\u001b[1;36m1438\u001b[0m, \u001b[1;36m1454\u001b[0m\u001b[1m)\u001b[0m\n"
      ]
     },
     "metadata": {},
     "output_type": "display_data"
    }
   ],
   "source": [
    "len(x), len(mice.parcel.df)"
   ]
  },
  {
   "cell_type": "code",
   "execution_count": 34,
   "id": "60ea975b",
   "metadata": {},
   "outputs": [
    {
     "data": {
      "text/html": [
       "<pre style=\"white-space:pre;overflow-x:auto;line-height:normal;font-family:Menlo,'DejaVu Sans Mono',consolas,'Courier New',monospace\"><span style=\"color: #800080; text-decoration-color: #800080; font-weight: bold\">array</span><span style=\"font-weight: bold\">([</span>   <span style=\"color: #008080; text-decoration-color: #008080; font-weight: bold\">1</span>,    <span style=\"color: #008080; text-decoration-color: #008080; font-weight: bold\">2</span>,    <span style=\"color: #008080; text-decoration-color: #008080; font-weight: bold\">3</span>, <span style=\"color: #808000; text-decoration-color: #808000\">...</span>, <span style=\"color: #008080; text-decoration-color: #008080; font-weight: bold\">1452</span>, <span style=\"color: #008080; text-decoration-color: #008080; font-weight: bold\">1453</span>, <span style=\"color: #008080; text-decoration-color: #008080; font-weight: bold\">1454</span><span style=\"font-weight: bold\">])</span>\n",
       "</pre>\n"
      ],
      "text/plain": [
       "\u001b[1;35marray\u001b[0m\u001b[1m(\u001b[0m\u001b[1m[\u001b[0m   \u001b[1;36m1\u001b[0m,    \u001b[1;36m2\u001b[0m,    \u001b[1;36m3\u001b[0m, \u001b[33m...\u001b[0m, \u001b[1;36m1452\u001b[0m, \u001b[1;36m1453\u001b[0m, \u001b[1;36m1454\u001b[0m\u001b[1m]\u001b[0m\u001b[1m)\u001b[0m\n"
      ]
     },
     "metadata": {},
     "output_type": "display_data"
    }
   ],
   "source": [
    "x"
   ]
  },
  {
   "cell_type": "code",
   "execution_count": 35,
   "id": "5b775b5a",
   "metadata": {},
   "outputs": [
    {
     "data": {
      "text/html": [
       "<pre style=\"white-space:pre;overflow-x:auto;line-height:normal;font-family:Menlo,'DejaVu Sans Mono',consolas,'Courier New',monospace\"><span style=\"font-weight: bold\">[</span>\n",
       "    <span style=\"color: #008080; text-decoration-color: #008080; font-weight: bold\">391</span>,\n",
       "    <span style=\"color: #008080; text-decoration-color: #008080; font-weight: bold\">395</span>,\n",
       "    <span style=\"color: #008080; text-decoration-color: #008080; font-weight: bold\">502</span>,\n",
       "    <span style=\"color: #008080; text-decoration-color: #008080; font-weight: bold\">532</span>,\n",
       "    <span style=\"color: #008080; text-decoration-color: #008080; font-weight: bold\">543</span>,\n",
       "    <span style=\"color: #008080; text-decoration-color: #008080; font-weight: bold\">563</span>,\n",
       "    <span style=\"color: #008080; text-decoration-color: #008080; font-weight: bold\">565</span>,\n",
       "    <span style=\"color: #008080; text-decoration-color: #008080; font-weight: bold\">570</span>,\n",
       "    <span style=\"color: #008080; text-decoration-color: #008080; font-weight: bold\">967</span>,\n",
       "    <span style=\"color: #008080; text-decoration-color: #008080; font-weight: bold\">971</span>,\n",
       "    <span style=\"color: #008080; text-decoration-color: #008080; font-weight: bold\">1078</span>,\n",
       "    <span style=\"color: #008080; text-decoration-color: #008080; font-weight: bold\">1108</span>,\n",
       "    <span style=\"color: #008080; text-decoration-color: #008080; font-weight: bold\">1119</span>,\n",
       "    <span style=\"color: #008080; text-decoration-color: #008080; font-weight: bold\">1139</span>,\n",
       "    <span style=\"color: #008080; text-decoration-color: #008080; font-weight: bold\">1141</span>,\n",
       "    <span style=\"color: #008080; text-decoration-color: #008080; font-weight: bold\">1146</span>\n",
       "<span style=\"font-weight: bold\">]</span>\n",
       "</pre>\n"
      ],
      "text/plain": [
       "\u001b[1m[\u001b[0m\n",
       "    \u001b[1;36m391\u001b[0m,\n",
       "    \u001b[1;36m395\u001b[0m,\n",
       "    \u001b[1;36m502\u001b[0m,\n",
       "    \u001b[1;36m532\u001b[0m,\n",
       "    \u001b[1;36m543\u001b[0m,\n",
       "    \u001b[1;36m563\u001b[0m,\n",
       "    \u001b[1;36m565\u001b[0m,\n",
       "    \u001b[1;36m570\u001b[0m,\n",
       "    \u001b[1;36m967\u001b[0m,\n",
       "    \u001b[1;36m971\u001b[0m,\n",
       "    \u001b[1;36m1078\u001b[0m,\n",
       "    \u001b[1;36m1108\u001b[0m,\n",
       "    \u001b[1;36m1119\u001b[0m,\n",
       "    \u001b[1;36m1139\u001b[0m,\n",
       "    \u001b[1;36m1141\u001b[0m,\n",
       "    \u001b[1;36m1146\u001b[0m\n",
       "\u001b[1m]\u001b[0m\n"
      ]
     },
     "metadata": {},
     "output_type": "display_data"
    }
   ],
   "source": [
    "delta = sorted(set(np.arange(1, len(mice.parcel.df) + 1)).difference(x))\n",
    "delta"
   ]
  },
  {
   "cell_type": "code",
   "execution_count": 36,
   "id": "bc7db219",
   "metadata": {},
   "outputs": [
    {
     "data": {
      "text/html": [
       "<div>\n",
       "<style scoped>\n",
       "    .dataframe tbody tr th:only-of-type {\n",
       "        vertical-align: middle;\n",
       "    }\n",
       "\n",
       "    .dataframe tbody tr th {\n",
       "        vertical-align: top;\n",
       "    }\n",
       "\n",
       "    .dataframe thead th {\n",
       "        text-align: right;\n",
       "    }\n",
       "</style>\n",
       "<table border=\"1\" class=\"dataframe\">\n",
       "  <thead>\n",
       "    <tr style=\"text-align: right;\">\n",
       "      <th></th>\n",
       "      <th>id</th>\n",
       "      <th>acro</th>\n",
       "      <th>hemis</th>\n",
       "      <th>region</th>\n",
       "      <th>layer</th>\n",
       "    </tr>\n",
       "  </thead>\n",
       "  <tbody>\n",
       "    <tr>\n",
       "      <th>390</th>\n",
       "      <td>391</td>\n",
       "      <td>Isocortex</td>\n",
       "      <td>1</td>\n",
       "      <td>7</td>\n",
       "      <td>2</td>\n",
       "    </tr>\n",
       "    <tr>\n",
       "      <th>394</th>\n",
       "      <td>395</td>\n",
       "      <td>Isocortex</td>\n",
       "      <td>1</td>\n",
       "      <td>11</td>\n",
       "      <td>2</td>\n",
       "    </tr>\n",
       "    <tr>\n",
       "      <th>501</th>\n",
       "      <td>502</td>\n",
       "      <td>Isocortex</td>\n",
       "      <td>1</td>\n",
       "      <td>118</td>\n",
       "      <td>2</td>\n",
       "    </tr>\n",
       "    <tr>\n",
       "      <th>531</th>\n",
       "      <td>532</td>\n",
       "      <td>Isocortex</td>\n",
       "      <td>1</td>\n",
       "      <td>148</td>\n",
       "      <td>2</td>\n",
       "    </tr>\n",
       "    <tr>\n",
       "      <th>542</th>\n",
       "      <td>543</td>\n",
       "      <td>Isocortex</td>\n",
       "      <td>1</td>\n",
       "      <td>159</td>\n",
       "      <td>2</td>\n",
       "    </tr>\n",
       "    <tr>\n",
       "      <th>562</th>\n",
       "      <td>563</td>\n",
       "      <td>Isocortex</td>\n",
       "      <td>1</td>\n",
       "      <td>179</td>\n",
       "      <td>2</td>\n",
       "    </tr>\n",
       "    <tr>\n",
       "      <th>564</th>\n",
       "      <td>565</td>\n",
       "      <td>Isocortex</td>\n",
       "      <td>1</td>\n",
       "      <td>181</td>\n",
       "      <td>2</td>\n",
       "    </tr>\n",
       "    <tr>\n",
       "      <th>569</th>\n",
       "      <td>570</td>\n",
       "      <td>Isocortex</td>\n",
       "      <td>1</td>\n",
       "      <td>186</td>\n",
       "      <td>2</td>\n",
       "    </tr>\n",
       "    <tr>\n",
       "      <th>966</th>\n",
       "      <td>967</td>\n",
       "      <td>Isocortex</td>\n",
       "      <td>2</td>\n",
       "      <td>7</td>\n",
       "      <td>2</td>\n",
       "    </tr>\n",
       "    <tr>\n",
       "      <th>970</th>\n",
       "      <td>971</td>\n",
       "      <td>Isocortex</td>\n",
       "      <td>2</td>\n",
       "      <td>11</td>\n",
       "      <td>2</td>\n",
       "    </tr>\n",
       "    <tr>\n",
       "      <th>1077</th>\n",
       "      <td>1078</td>\n",
       "      <td>Isocortex</td>\n",
       "      <td>2</td>\n",
       "      <td>118</td>\n",
       "      <td>2</td>\n",
       "    </tr>\n",
       "    <tr>\n",
       "      <th>1107</th>\n",
       "      <td>1108</td>\n",
       "      <td>Isocortex</td>\n",
       "      <td>2</td>\n",
       "      <td>148</td>\n",
       "      <td>2</td>\n",
       "    </tr>\n",
       "    <tr>\n",
       "      <th>1118</th>\n",
       "      <td>1119</td>\n",
       "      <td>Isocortex</td>\n",
       "      <td>2</td>\n",
       "      <td>159</td>\n",
       "      <td>2</td>\n",
       "    </tr>\n",
       "    <tr>\n",
       "      <th>1138</th>\n",
       "      <td>1139</td>\n",
       "      <td>Isocortex</td>\n",
       "      <td>2</td>\n",
       "      <td>179</td>\n",
       "      <td>2</td>\n",
       "    </tr>\n",
       "    <tr>\n",
       "      <th>1140</th>\n",
       "      <td>1141</td>\n",
       "      <td>Isocortex</td>\n",
       "      <td>2</td>\n",
       "      <td>181</td>\n",
       "      <td>2</td>\n",
       "    </tr>\n",
       "    <tr>\n",
       "      <th>1145</th>\n",
       "      <td>1146</td>\n",
       "      <td>Isocortex</td>\n",
       "      <td>2</td>\n",
       "      <td>186</td>\n",
       "      <td>2</td>\n",
       "    </tr>\n",
       "  </tbody>\n",
       "</table>\n",
       "</div>"
      ]
     },
     "execution_count": 36,
     "metadata": {},
     "output_type": "execute_result"
    }
   ],
   "source": [
    "df = mice.parcel.df.copy()\n",
    "df[df.id.isin(delta)]"
   ]
  },
  {
   "cell_type": "code",
   "execution_count": null,
   "id": "2c5a6c50",
   "metadata": {},
   "outputs": [],
   "source": []
  },
  {
   "cell_type": "code",
   "execution_count": 37,
   "id": "4484470b",
   "metadata": {},
   "outputs": [
    {
     "data": {
      "text/html": [
       "<pre style=\"white-space:pre;overflow-x:auto;line-height:normal;font-family:Menlo,'DejaVu Sans Mono',consolas,'Courier New',monospace\"><span style=\"font-weight: bold\">{</span><span style=\"color: #008000; text-decoration-color: #008000\">'ca2'</span>: <span style=\"color: #008080; text-decoration-color: #008080; font-weight: bold\">226</span>, <span style=\"color: #008000; text-decoration-color: #008000\">'bold'</span>: <span style=\"color: #008080; text-decoration-color: #008080; font-weight: bold\">1438</span><span style=\"font-weight: bold\">}</span>\n",
       "</pre>\n"
      ],
      "text/plain": [
       "\u001b[1m{\u001b[0m\u001b[32m'ca2'\u001b[0m: \u001b[1;36m226\u001b[0m, \u001b[32m'bold'\u001b[0m: \u001b[1;36m1438\u001b[0m\u001b[1m}\u001b[0m\n"
      ]
     },
     "metadata": {},
     "output_type": "display_data"
    }
   ],
   "source": [
    "{k: len(v) for k, v in dict2save.items()}"
   ]
  },
  {
   "cell_type": "code",
   "execution_count": null,
   "id": "fed85035",
   "metadata": {},
   "outputs": [],
   "source": []
  },
  {
   "cell_type": "markdown",
   "id": "d58e02aa",
   "metadata": {},
   "source": [
    "## Save template/parcel3d"
   ]
  },
  {
   "cell_type": "code",
   "execution_count": 2,
   "id": "e3695ff3",
   "metadata": {},
   "outputs": [],
   "source": [
    "mice = Mice(192)"
   ]
  },
  {
   "cell_type": "code",
   "execution_count": 5,
   "id": "b57af2a4",
   "metadata": {},
   "outputs": [
    {
     "data": {
      "text/html": [
       "<pre style=\"white-space:pre;overflow-x:auto;line-height:normal;font-family:Menlo,'DejaVu Sans Mono',consolas,'Courier New',monospace\">\n",
       "</pre>\n"
      ],
      "text/plain": [
       "\n"
      ]
     },
     "metadata": {},
     "output_type": "display_data"
    },
    {
     "data": {
      "text/html": [
       "<pre style=\"white-space:pre;overflow-x:auto;line-height:normal;font-family:Menlo,'DejaVu Sans Mono',consolas,'Courier New',monospace\"><span style=\"color: #b56510; text-decoration-color: #b56510\">╭──────────────────────────────────────────────────────────────────╮</span>\n",
       "<span style=\"color: #b56510; text-decoration-color: #b56510\">│</span> <span style=\"color: #f59e42; text-decoration-color: #f59e42; font-weight: bold\">                       Allen mouse 100um                        </span> <span style=\"color: #b56510; text-decoration-color: #b56510\">│</span>\n",
       "<span style=\"color: #b56510; text-decoration-color: #b56510\">│</span> <span style=\"font-weight: bold\">                                                                </span> <span style=\"color: #b56510; text-decoration-color: #b56510\">│</span>\n",
       "<span style=\"color: #b56510; text-decoration-color: #b56510\">│</span> <span style=\"color: #ffe4b5; text-decoration-color: #ffe4b5; font-weight: bold\">        name: </span> allen_mouse <span style=\"color: #a9a9a9; text-decoration-color: #a9a9a9\">(v1.2)</span>                                <span style=\"color: #b56510; text-decoration-color: #b56510\">│</span>\n",
       "<span style=\"color: #b56510; text-decoration-color: #b56510\">│</span> <span style=\"color: #ffe4b5; text-decoration-color: #ffe4b5; font-weight: bold\">     species: </span> <span style=\"font-style: italic\">Mus musculus</span>                                      <span style=\"color: #b56510; text-decoration-color: #b56510\">│</span>\n",
       "<span style=\"color: #b56510; text-decoration-color: #b56510\">│</span> <span style=\"color: #ffe4b5; text-decoration-color: #ffe4b5; font-weight: bold\">    citation: </span> Wang et al 2020                                   <span style=\"color: #b56510; text-decoration-color: #b56510\">│</span>\n",
       "<span style=\"color: #b56510; text-decoration-color: #b56510\">│</span>                <span style=\"color: #a9a9a9; text-decoration-color: #a9a9a9\">https://doi.org/10.1016/j.cell.2020.04.007</span>        <span style=\"color: #b56510; text-decoration-color: #b56510\">│</span>\n",
       "<span style=\"color: #b56510; text-decoration-color: #b56510\">│</span> <span style=\"color: #ffe4b5; text-decoration-color: #ffe4b5; font-weight: bold\">        link: </span> http://www.brain-map.org                          <span style=\"color: #b56510; text-decoration-color: #b56510\">│</span>\n",
       "<span style=\"color: #b56510; text-decoration-color: #b56510\">│</span> <span style=\"color: #ffe4b5; text-decoration-color: #ffe4b5; font-weight: bold\">              </span>                                                   <span style=\"color: #b56510; text-decoration-color: #b56510\">│</span>\n",
       "<span style=\"color: #b56510; text-decoration-color: #b56510\">│</span> <span style=\"color: #ffe4b5; text-decoration-color: #ffe4b5; font-weight: bold\"> orientation: </span> <span style=\"font-weight: bold\">asr</span>                                               <span style=\"color: #b56510; text-decoration-color: #b56510\">│</span>\n",
       "<span style=\"color: #b56510; text-decoration-color: #b56510\">│</span> <span style=\"color: #ffe4b5; text-decoration-color: #ffe4b5; font-weight: bold\">   symmetric: </span> <span style=\"color: #00ff00; text-decoration-color: #00ff00; font-style: italic\">True</span>                                              <span style=\"color: #b56510; text-decoration-color: #b56510\">│</span>\n",
       "<span style=\"color: #b56510; text-decoration-color: #b56510\">│</span> <span style=\"color: #ffe4b5; text-decoration-color: #ffe4b5; font-weight: bold\">  resolution: </span> <span style=\"font-weight: bold\">[</span><span style=\"color: #008080; text-decoration-color: #008080; font-weight: bold\">100.0</span>, <span style=\"color: #008080; text-decoration-color: #008080; font-weight: bold\">100.0</span>, <span style=\"color: #008080; text-decoration-color: #008080; font-weight: bold\">100.0</span><span style=\"font-weight: bold\">]</span>                             <span style=\"color: #b56510; text-decoration-color: #b56510\">│</span>\n",
       "<span style=\"color: #b56510; text-decoration-color: #b56510\">│</span> <span style=\"color: #ffe4b5; text-decoration-color: #ffe4b5; font-weight: bold\">       shape: </span> <span style=\"font-weight: bold\">[</span><span style=\"color: #008080; text-decoration-color: #008080; font-weight: bold\">132</span>, <span style=\"color: #008080; text-decoration-color: #008080; font-weight: bold\">80</span>, <span style=\"color: #008080; text-decoration-color: #008080; font-weight: bold\">114</span><span style=\"font-weight: bold\">]</span>                                    <span style=\"color: #b56510; text-decoration-color: #b56510\">│</span>\n",
       "<span style=\"color: #b56510; text-decoration-color: #b56510\">╰──────────────────────────────────────────────────────────────────╯</span>\n",
       "</pre>\n"
      ],
      "text/plain": [
       "\u001b[38;2;181;101;16m╭──────────────────────────────────────────────────────────────────╮\u001b[0m\n",
       "\u001b[38;2;181;101;16m│\u001b[0m \u001b[1;38;2;245;158;66m                       Allen mouse 100um                        \u001b[0m \u001b[38;2;181;101;16m│\u001b[0m\n",
       "\u001b[38;2;181;101;16m│\u001b[0m \u001b[1m \u001b[0m\u001b[1m            \u001b[0m\u001b[1m \u001b[0m\u001b[1m \u001b[0m\u001b[1m                                                \u001b[0m\u001b[1m \u001b[0m \u001b[38;2;181;101;16m│\u001b[0m\n",
       "\u001b[38;2;181;101;16m│\u001b[0m \u001b[1;38;2;255;228;181m \u001b[0m\u001b[1;38;2;255;228;181m       name:\u001b[0m\u001b[1;38;2;255;228;181m \u001b[0m allen_mouse \u001b[38;2;169;169;169m(v1.2)\u001b[0m                                \u001b[38;2;181;101;16m│\u001b[0m\n",
       "\u001b[38;2;181;101;16m│\u001b[0m \u001b[1;38;2;255;228;181m \u001b[0m\u001b[1;38;2;255;228;181m    species:\u001b[0m\u001b[1;38;2;255;228;181m \u001b[0m \u001b[3mMus musculus\u001b[0m                                      \u001b[38;2;181;101;16m│\u001b[0m\n",
       "\u001b[38;2;181;101;16m│\u001b[0m \u001b[1;38;2;255;228;181m \u001b[0m\u001b[1;38;2;255;228;181m   citation:\u001b[0m\u001b[1;38;2;255;228;181m \u001b[0m Wang et al 2020                                   \u001b[38;2;181;101;16m│\u001b[0m\n",
       "\u001b[38;2;181;101;16m│\u001b[0m                \u001b[38;2;169;169;169mhttps://doi.org/10.1016/j.cell.2020.04.007\u001b[0m        \u001b[38;2;181;101;16m│\u001b[0m\n",
       "\u001b[38;2;181;101;16m│\u001b[0m \u001b[1;38;2;255;228;181m \u001b[0m\u001b[1;38;2;255;228;181m       link:\u001b[0m\u001b[1;38;2;255;228;181m \u001b[0m http://www.brain-map.org                          \u001b[38;2;181;101;16m│\u001b[0m\n",
       "\u001b[38;2;181;101;16m│\u001b[0m \u001b[1;38;2;255;228;181m \u001b[0m\u001b[1;38;2;255;228;181m            \u001b[0m\u001b[1;38;2;255;228;181m \u001b[0m                                                   \u001b[38;2;181;101;16m│\u001b[0m\n",
       "\u001b[38;2;181;101;16m│\u001b[0m \u001b[1;38;2;255;228;181m \u001b[0m\u001b[1;38;2;255;228;181morientation:\u001b[0m\u001b[1;38;2;255;228;181m \u001b[0m \u001b[1masr\u001b[0m                                               \u001b[38;2;181;101;16m│\u001b[0m\n",
       "\u001b[38;2;181;101;16m│\u001b[0m \u001b[1;38;2;255;228;181m \u001b[0m\u001b[1;38;2;255;228;181m  symmetric:\u001b[0m\u001b[1;38;2;255;228;181m \u001b[0m \u001b[3;92mTrue\u001b[0m                                              \u001b[38;2;181;101;16m│\u001b[0m\n",
       "\u001b[38;2;181;101;16m│\u001b[0m \u001b[1;38;2;255;228;181m \u001b[0m\u001b[1;38;2;255;228;181m resolution:\u001b[0m\u001b[1;38;2;255;228;181m \u001b[0m \u001b[1m[\u001b[0m\u001b[1;36m100.0\u001b[0m, \u001b[1;36m100.0\u001b[0m, \u001b[1;36m100.0\u001b[0m\u001b[1m]\u001b[0m                             \u001b[38;2;181;101;16m│\u001b[0m\n",
       "\u001b[38;2;181;101;16m│\u001b[0m \u001b[1;38;2;255;228;181m \u001b[0m\u001b[1;38;2;255;228;181m      shape:\u001b[0m\u001b[1;38;2;255;228;181m \u001b[0m \u001b[1m[\u001b[0m\u001b[1;36m132\u001b[0m, \u001b[1;36m80\u001b[0m, \u001b[1;36m114\u001b[0m\u001b[1m]\u001b[0m                                    \u001b[38;2;181;101;16m│\u001b[0m\n",
       "\u001b[38;2;181;101;16m╰──────────────────────────────────────────────────────────────────╯\u001b[0m\n"
      ]
     },
     "metadata": {},
     "output_type": "display_data"
    }
   ],
   "source": [
    "mice.al"
   ]
  },
  {
   "cell_type": "code",
   "execution_count": 7,
   "id": "d88a0547",
   "metadata": {},
   "outputs": [],
   "source": [
    "mice.al.load_everything()"
   ]
  },
  {
   "cell_type": "code",
   "execution_count": null,
   "id": "4258d96c",
   "metadata": {},
   "outputs": [],
   "source": []
  },
  {
   "cell_type": "code",
   "execution_count": 9,
   "id": "56c792d9",
   "metadata": {},
   "outputs": [
    {
     "data": {
      "text/html": [
       "<pre style=\"white-space:pre;overflow-x:auto;line-height:normal;font-family:Menlo,'DejaVu Sans Mono',consolas,'Courier New',monospace\"><span style=\"font-weight: bold\">((</span><span style=\"color: #008080; text-decoration-color: #008080; font-weight: bold\">132</span>, <span style=\"color: #008080; text-decoration-color: #008080; font-weight: bold\">80</span>, <span style=\"color: #008080; text-decoration-color: #008080; font-weight: bold\">114</span><span style=\"font-weight: bold\">)</span>, <span style=\"font-weight: bold\">(</span><span style=\"color: #008080; text-decoration-color: #008080; font-weight: bold\">132</span>, <span style=\"color: #008080; text-decoration-color: #008080; font-weight: bold\">80</span>, <span style=\"color: #008080; text-decoration-color: #008080; font-weight: bold\">114</span><span style=\"font-weight: bold\">))</span>\n",
       "</pre>\n"
      ],
      "text/plain": [
       "\u001b[1m(\u001b[0m\u001b[1m(\u001b[0m\u001b[1;36m132\u001b[0m, \u001b[1;36m80\u001b[0m, \u001b[1;36m114\u001b[0m\u001b[1m)\u001b[0m, \u001b[1m(\u001b[0m\u001b[1;36m132\u001b[0m, \u001b[1;36m80\u001b[0m, \u001b[1;36m114\u001b[0m\u001b[1m)\u001b[0m\u001b[1m)\u001b[0m\n"
      ]
     },
     "metadata": {},
     "output_type": "display_data"
    }
   ],
   "source": [
    "mice.parcel['brain'].shape, mice.al.template.shape"
   ]
  },
  {
   "cell_type": "code",
   "execution_count": null,
   "id": "8263db52",
   "metadata": {},
   "outputs": [],
   "source": []
  },
  {
   "cell_type": "code",
   "execution_count": 10,
   "id": "e2b20dde",
   "metadata": {},
   "outputs": [
    {
     "data": {
      "text/html": [
       "<pre style=\"white-space:pre;overflow-x:auto;line-height:normal;font-family:Menlo,'DejaVu Sans Mono',consolas,'Courier New',monospace\">ANTsImage <span style=\"font-weight: bold\">(</span>RAI<span style=\"font-weight: bold\">)</span>\n",
       "         Pixel Type : unsigned int <span style=\"font-weight: bold\">(</span>uint32<span style=\"font-weight: bold\">)</span>\n",
       "         Components : <span style=\"color: #008080; text-decoration-color: #008080; font-weight: bold\">1</span>\n",
       "         Dimensions : <span style=\"font-weight: bold\">(</span><span style=\"color: #008080; text-decoration-color: #008080; font-weight: bold\">132</span>, <span style=\"color: #008080; text-decoration-color: #008080; font-weight: bold\">80</span>, <span style=\"color: #008080; text-decoration-color: #008080; font-weight: bold\">114</span><span style=\"font-weight: bold\">)</span>\n",
       "         Spacing    : <span style=\"font-weight: bold\">(</span><span style=\"color: #008080; text-decoration-color: #008080; font-weight: bold\">1.0</span>, <span style=\"color: #008080; text-decoration-color: #008080; font-weight: bold\">1.0</span>, <span style=\"color: #008080; text-decoration-color: #008080; font-weight: bold\">1.0</span><span style=\"font-weight: bold\">)</span>\n",
       "         Origin     : <span style=\"font-weight: bold\">(</span><span style=\"color: #008080; text-decoration-color: #008080; font-weight: bold\">0.0</span>, <span style=\"color: #008080; text-decoration-color: #008080; font-weight: bold\">0.0</span>, <span style=\"color: #008080; text-decoration-color: #008080; font-weight: bold\">0.0</span><span style=\"font-weight: bold\">)</span>\n",
       "         Direction  : <span style=\"font-weight: bold\">[</span><span style=\"color: #008080; text-decoration-color: #008080; font-weight: bold\">1</span>. <span style=\"color: #008080; text-decoration-color: #008080; font-weight: bold\">0</span>. <span style=\"color: #008080; text-decoration-color: #008080; font-weight: bold\">0</span>. <span style=\"color: #008080; text-decoration-color: #008080; font-weight: bold\">0</span>. <span style=\"color: #008080; text-decoration-color: #008080; font-weight: bold\">1</span>. <span style=\"color: #008080; text-decoration-color: #008080; font-weight: bold\">0</span>. <span style=\"color: #008080; text-decoration-color: #008080; font-weight: bold\">0</span>. <span style=\"color: #008080; text-decoration-color: #008080; font-weight: bold\">0</span>. <span style=\"color: #008080; text-decoration-color: #008080; font-weight: bold\">1</span>.<span style=\"font-weight: bold\">]</span>\n",
       "\n",
       "</pre>\n"
      ],
      "text/plain": [
       "ANTsImage \u001b[1m(\u001b[0mRAI\u001b[1m)\u001b[0m\n",
       "         Pixel Type : unsigned int \u001b[1m(\u001b[0muint32\u001b[1m)\u001b[0m\n",
       "         Components : \u001b[1;36m1\u001b[0m\n",
       "         Dimensions : \u001b[1m(\u001b[0m\u001b[1;36m132\u001b[0m, \u001b[1;36m80\u001b[0m, \u001b[1;36m114\u001b[0m\u001b[1m)\u001b[0m\n",
       "         Spacing    : \u001b[1m(\u001b[0m\u001b[1;36m1.0\u001b[0m, \u001b[1;36m1.0\u001b[0m, \u001b[1;36m1.0\u001b[0m\u001b[1m)\u001b[0m\n",
       "         Origin     : \u001b[1m(\u001b[0m\u001b[1;36m0.0\u001b[0m, \u001b[1;36m0.0\u001b[0m, \u001b[1;36m0.0\u001b[0m\u001b[1m)\u001b[0m\n",
       "         Direction  : \u001b[1m[\u001b[0m\u001b[1;36m1\u001b[0m. \u001b[1;36m0\u001b[0m. \u001b[1;36m0\u001b[0m. \u001b[1;36m0\u001b[0m. \u001b[1;36m1\u001b[0m. \u001b[1;36m0\u001b[0m. \u001b[1;36m0\u001b[0m. \u001b[1;36m0\u001b[0m. \u001b[1;36m1\u001b[0m.\u001b[1m]\u001b[0m\n",
       "\n"
      ]
     },
     "metadata": {},
     "output_type": "display_data"
    }
   ],
   "source": [
    "import ants\n",
    "\n",
    "brain_img = ants.from_numpy(mice.parcel['brain'])\n",
    "template_img = ants.from_numpy(mice.al.template)\n",
    "\n",
    "brain_img"
   ]
  },
  {
   "cell_type": "code",
   "execution_count": 11,
   "id": "b56a661b",
   "metadata": {},
   "outputs": [
    {
     "data": {
      "text/html": [
       "<pre style=\"white-space:pre;overflow-x:auto;line-height:normal;font-family:Menlo,'DejaVu Sans Mono',consolas,'Courier New',monospace\">ANTsImage <span style=\"font-weight: bold\">(</span>RAI<span style=\"font-weight: bold\">)</span>\n",
       "         Pixel Type : float <span style=\"font-weight: bold\">(</span>float32<span style=\"font-weight: bold\">)</span>\n",
       "         Components : <span style=\"color: #008080; text-decoration-color: #008080; font-weight: bold\">1</span>\n",
       "         Dimensions : <span style=\"font-weight: bold\">(</span><span style=\"color: #008080; text-decoration-color: #008080; font-weight: bold\">132</span>, <span style=\"color: #008080; text-decoration-color: #008080; font-weight: bold\">80</span>, <span style=\"color: #008080; text-decoration-color: #008080; font-weight: bold\">114</span><span style=\"font-weight: bold\">)</span>\n",
       "         Spacing    : <span style=\"font-weight: bold\">(</span><span style=\"color: #008080; text-decoration-color: #008080; font-weight: bold\">1.0</span>, <span style=\"color: #008080; text-decoration-color: #008080; font-weight: bold\">1.0</span>, <span style=\"color: #008080; text-decoration-color: #008080; font-weight: bold\">1.0</span><span style=\"font-weight: bold\">)</span>\n",
       "         Origin     : <span style=\"font-weight: bold\">(</span><span style=\"color: #008080; text-decoration-color: #008080; font-weight: bold\">0.0</span>, <span style=\"color: #008080; text-decoration-color: #008080; font-weight: bold\">0.0</span>, <span style=\"color: #008080; text-decoration-color: #008080; font-weight: bold\">0.0</span><span style=\"font-weight: bold\">)</span>\n",
       "         Direction  : <span style=\"font-weight: bold\">[</span><span style=\"color: #008080; text-decoration-color: #008080; font-weight: bold\">1</span>. <span style=\"color: #008080; text-decoration-color: #008080; font-weight: bold\">0</span>. <span style=\"color: #008080; text-decoration-color: #008080; font-weight: bold\">0</span>. <span style=\"color: #008080; text-decoration-color: #008080; font-weight: bold\">0</span>. <span style=\"color: #008080; text-decoration-color: #008080; font-weight: bold\">1</span>. <span style=\"color: #008080; text-decoration-color: #008080; font-weight: bold\">0</span>. <span style=\"color: #008080; text-decoration-color: #008080; font-weight: bold\">0</span>. <span style=\"color: #008080; text-decoration-color: #008080; font-weight: bold\">0</span>. <span style=\"color: #008080; text-decoration-color: #008080; font-weight: bold\">1</span>.<span style=\"font-weight: bold\">]</span>\n",
       "\n",
       "</pre>\n"
      ],
      "text/plain": [
       "ANTsImage \u001b[1m(\u001b[0mRAI\u001b[1m)\u001b[0m\n",
       "         Pixel Type : float \u001b[1m(\u001b[0mfloat32\u001b[1m)\u001b[0m\n",
       "         Components : \u001b[1;36m1\u001b[0m\n",
       "         Dimensions : \u001b[1m(\u001b[0m\u001b[1;36m132\u001b[0m, \u001b[1;36m80\u001b[0m, \u001b[1;36m114\u001b[0m\u001b[1m)\u001b[0m\n",
       "         Spacing    : \u001b[1m(\u001b[0m\u001b[1;36m1.0\u001b[0m, \u001b[1;36m1.0\u001b[0m, \u001b[1;36m1.0\u001b[0m\u001b[1m)\u001b[0m\n",
       "         Origin     : \u001b[1m(\u001b[0m\u001b[1;36m0.0\u001b[0m, \u001b[1;36m0.0\u001b[0m, \u001b[1;36m0.0\u001b[0m\u001b[1m)\u001b[0m\n",
       "         Direction  : \u001b[1m[\u001b[0m\u001b[1;36m1\u001b[0m. \u001b[1;36m0\u001b[0m. \u001b[1;36m0\u001b[0m. \u001b[1;36m0\u001b[0m. \u001b[1;36m1\u001b[0m. \u001b[1;36m0\u001b[0m. \u001b[1;36m0\u001b[0m. \u001b[1;36m0\u001b[0m. \u001b[1;36m1\u001b[0m.\u001b[1m]\u001b[0m\n",
       "\n"
      ]
     },
     "metadata": {},
     "output_type": "display_data"
    }
   ],
   "source": [
    "template_img"
   ]
  },
  {
   "cell_type": "code",
   "execution_count": null,
   "id": "ca92c9a3",
   "metadata": {},
   "outputs": [],
   "source": []
  },
  {
   "cell_type": "code",
   "execution_count": 15,
   "id": "5ed96f9e",
   "metadata": {},
   "outputs": [],
   "source": [
    "ants.image_write(brain_img, pjoin(tmp_dir, 'parcel3d_100um.nii.gz'))\n",
    "ants.image_write(template_img, pjoin(tmp_dir, 'template_100um.nii.gz'))"
   ]
  },
  {
   "cell_type": "code",
   "execution_count": null,
   "id": "4a34a5af",
   "metadata": {},
   "outputs": [],
   "source": []
  },
  {
   "cell_type": "markdown",
   "id": "198b0f6c",
   "metadata": {},
   "source": [
    "### Do 10um version"
   ]
  },
  {
   "cell_type": "code",
   "execution_count": 23,
   "id": "4c64b35b",
   "metadata": {},
   "outputs": [],
   "source": [
    "from register.atlas import Allen\n",
    "\n",
    "al = Allen(10, full_load=True)"
   ]
  },
  {
   "cell_type": "code",
   "execution_count": 24,
   "id": "903739cd",
   "metadata": {},
   "outputs": [
    {
     "data": {
      "text/html": [
       "<pre style=\"white-space:pre;overflow-x:auto;line-height:normal;font-family:Menlo,'DejaVu Sans Mono',consolas,'Courier New',monospace\">ANTsImage <span style=\"font-weight: bold\">(</span>RAI<span style=\"font-weight: bold\">)</span>\n",
       "         Pixel Type : float <span style=\"font-weight: bold\">(</span>float32<span style=\"font-weight: bold\">)</span>\n",
       "         Components : <span style=\"color: #008080; text-decoration-color: #008080; font-weight: bold\">1</span>\n",
       "         Dimensions : <span style=\"font-weight: bold\">(</span><span style=\"color: #008080; text-decoration-color: #008080; font-weight: bold\">1320</span>, <span style=\"color: #008080; text-decoration-color: #008080; font-weight: bold\">800</span>, <span style=\"color: #008080; text-decoration-color: #008080; font-weight: bold\">1140</span><span style=\"font-weight: bold\">)</span>\n",
       "         Spacing    : <span style=\"font-weight: bold\">(</span><span style=\"color: #008080; text-decoration-color: #008080; font-weight: bold\">1.0</span>, <span style=\"color: #008080; text-decoration-color: #008080; font-weight: bold\">1.0</span>, <span style=\"color: #008080; text-decoration-color: #008080; font-weight: bold\">1.0</span><span style=\"font-weight: bold\">)</span>\n",
       "         Origin     : <span style=\"font-weight: bold\">(</span><span style=\"color: #008080; text-decoration-color: #008080; font-weight: bold\">0.0</span>, <span style=\"color: #008080; text-decoration-color: #008080; font-weight: bold\">0.0</span>, <span style=\"color: #008080; text-decoration-color: #008080; font-weight: bold\">0.0</span><span style=\"font-weight: bold\">)</span>\n",
       "         Direction  : <span style=\"font-weight: bold\">[</span><span style=\"color: #008080; text-decoration-color: #008080; font-weight: bold\">1</span>. <span style=\"color: #008080; text-decoration-color: #008080; font-weight: bold\">0</span>. <span style=\"color: #008080; text-decoration-color: #008080; font-weight: bold\">0</span>. <span style=\"color: #008080; text-decoration-color: #008080; font-weight: bold\">0</span>. <span style=\"color: #008080; text-decoration-color: #008080; font-weight: bold\">1</span>. <span style=\"color: #008080; text-decoration-color: #008080; font-weight: bold\">0</span>. <span style=\"color: #008080; text-decoration-color: #008080; font-weight: bold\">0</span>. <span style=\"color: #008080; text-decoration-color: #008080; font-weight: bold\">0</span>. <span style=\"color: #008080; text-decoration-color: #008080; font-weight: bold\">1</span>.<span style=\"font-weight: bold\">]</span>\n",
       "\n",
       "</pre>\n"
      ],
      "text/plain": [
       "ANTsImage \u001b[1m(\u001b[0mRAI\u001b[1m)\u001b[0m\n",
       "         Pixel Type : float \u001b[1m(\u001b[0mfloat32\u001b[1m)\u001b[0m\n",
       "         Components : \u001b[1;36m1\u001b[0m\n",
       "         Dimensions : \u001b[1m(\u001b[0m\u001b[1;36m1320\u001b[0m, \u001b[1;36m800\u001b[0m, \u001b[1;36m1140\u001b[0m\u001b[1m)\u001b[0m\n",
       "         Spacing    : \u001b[1m(\u001b[0m\u001b[1;36m1.0\u001b[0m, \u001b[1;36m1.0\u001b[0m, \u001b[1;36m1.0\u001b[0m\u001b[1m)\u001b[0m\n",
       "         Origin     : \u001b[1m(\u001b[0m\u001b[1;36m0.0\u001b[0m, \u001b[1;36m0.0\u001b[0m, \u001b[1;36m0.0\u001b[0m\u001b[1m)\u001b[0m\n",
       "         Direction  : \u001b[1m[\u001b[0m\u001b[1;36m1\u001b[0m. \u001b[1;36m0\u001b[0m. \u001b[1;36m0\u001b[0m. \u001b[1;36m0\u001b[0m. \u001b[1;36m1\u001b[0m. \u001b[1;36m0\u001b[0m. \u001b[1;36m0\u001b[0m. \u001b[1;36m0\u001b[0m. \u001b[1;36m1\u001b[0m.\u001b[1m]\u001b[0m\n",
       "\n"
      ]
     },
     "metadata": {},
     "output_type": "display_data"
    }
   ],
   "source": [
    "template_img = ants.from_numpy(al.template)\n",
    "template_img"
   ]
  },
  {
   "cell_type": "code",
   "execution_count": 25,
   "id": "85771743",
   "metadata": {},
   "outputs": [],
   "source": [
    "ants.image_write(template_img, pjoin(tmp_dir, 'template_10um.nii'))\n",
    "ants.image_write(template_img, pjoin(tmp_dir, 'template_10um.nii.gz'))"
   ]
  },
  {
   "cell_type": "code",
   "execution_count": null,
   "id": "82fa30dd",
   "metadata": {},
   "outputs": [],
   "source": []
  },
  {
   "cell_type": "code",
   "execution_count": null,
   "id": "09f990f5",
   "metadata": {},
   "outputs": [],
   "source": []
  },
  {
   "cell_type": "code",
   "execution_count": null,
   "id": "16e0252a",
   "metadata": {},
   "outputs": [],
   "source": []
  }
 ],
 "metadata": {
  "kernelspec": {
   "display_name": "Python 3",
   "language": "python",
   "name": "python3"
  },
  "language_info": {
   "codemirror_mode": {
    "name": "ipython",
    "version": 3
   },
   "file_extension": ".py",
   "mimetype": "text/x-python",
   "name": "python",
   "nbconvert_exporter": "python",
   "pygments_lexer": "ipython3",
   "version": "3.8.3"
  }
 },
 "nbformat": 4,
 "nbformat_minor": 5
}
