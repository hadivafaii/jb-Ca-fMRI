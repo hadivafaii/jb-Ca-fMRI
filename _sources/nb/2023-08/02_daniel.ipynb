{
 "cells": [
  {
   "cell_type": "markdown",
   "id": "17d50fc5",
   "metadata": {},
   "source": [
    "# (02) Daniel\n",
    "\n",
    "**Motivation**: save raw data (both bold & ca) as matlab files. <br>"
   ]
  },
  {
   "cell_type": "code",
   "execution_count": 1,
   "id": "981a263d",
   "metadata": {},
   "outputs": [],
   "source": [
    "# HIDE CODE\n",
    "\n",
    "\n",
    "import os, sys\n",
    "from IPython.display import display\n",
    "\n",
    "# tmp & extras dir\n",
    "git_dir = os.path.join(os.environ['HOME'], 'Dropbox/git')\n",
    "extras_dir = os.path.join(git_dir, 'jb-Ca-fMRI/_extras')\n",
    "fig_base_dir = os.path.join(git_dir, 'jb-Ca-fMRI/figs')\n",
    "tmp_dir = os.path.join(git_dir, 'jb-Ca-fMRI/tmp')\n",
    "\n",
    "# GitHub\n",
    "sys.path.insert(0, os.path.join(git_dir, '_Ca-fMRI'))\n",
    "from figures.fighelper import *\n",
    "from analysis.final import *\n",
    "from utils.render import *\n",
    "\n",
    "# warnings, tqdm, & style\n",
    "warnings.filterwarnings('ignore', category=DeprecationWarning)\n",
    "from tqdm.notebook import tqdm\n",
    "%matplotlib inline\n",
    "set_style()"
   ]
  },
  {
   "cell_type": "code",
   "execution_count": 2,
   "id": "64f6cda2",
   "metadata": {},
   "outputs": [],
   "source": [
    "from scipy import io as sio\n",
    "\n",
    "src = '/home/hadi/Documents/Ca-fMRI/processed/norm-global_parcel-columnar_n-512*3'\n",
    "tgt = '/home/hadi/Desktop/Hadi-SLC'"
   ]
  },
  {
   "cell_type": "code",
   "execution_count": 3,
   "id": "367498a8",
   "metadata": {},
   "outputs": [],
   "source": [
    "shapes = collections.defaultdict(list)\n",
    "for mode in ['bold', 'ca2']:\n",
    "    path = pjoin(src, mode)\n",
    "    for f in sorted(os.listdir(path)):\n",
    "        if 'run' not in f:\n",
    "            continue\n",
    "        if mode == 'bold' and 'desc-raw' not in f:\n",
    "            continue\n",
    "        if mode == 'ca2' and 'desc-preproc' not in f:\n",
    "            continue\n",
    "        data = np.load(pjoin(path, f))\n",
    "        save_file = pjoin(tgt, mode, f\"{f.split('.')[0]}.mat\")\n",
    "        sio.savemat(save_file, dict(data=data))\n",
    "        shapes[mode].append(data.shape)"
   ]
  },
  {
   "cell_type": "code",
   "execution_count": 4,
   "id": "b12fee6f",
   "metadata": {},
   "outputs": [
    {
     "data": {
      "text/html": [
       "<pre style=\"white-space:pre;overflow-x:auto;line-height:normal;font-family:Menlo,'DejaVu Sans Mono',consolas,'Courier New',monospace\"><span style=\"font-weight: bold\">{</span>\n",
       "    <span style=\"color: #008000; text-decoration-color: #008000\">'bold'</span>: <span style=\"color: #800080; text-decoration-color: #800080; font-weight: bold\">Counter</span><span style=\"font-weight: bold\">({(</span><span style=\"color: #008080; text-decoration-color: #008080; font-weight: bold\">6015</span>, <span style=\"color: #008080; text-decoration-color: #008080; font-weight: bold\">600</span><span style=\"font-weight: bold\">)</span>: <span style=\"color: #008080; text-decoration-color: #008080; font-weight: bold\">206</span><span style=\"font-weight: bold\">})</span>,\n",
       "    <span style=\"color: #008000; text-decoration-color: #008000\">'ca2'</span>: <span style=\"color: #800080; text-decoration-color: #800080; font-weight: bold\">Counter</span><span style=\"font-weight: bold\">({(</span><span style=\"color: #008080; text-decoration-color: #008080; font-weight: bold\">540</span>, <span style=\"color: #008080; text-decoration-color: #008080; font-weight: bold\">6000</span><span style=\"font-weight: bold\">)</span>: <span style=\"color: #008080; text-decoration-color: #008080; font-weight: bold\">188</span>, <span style=\"font-weight: bold\">(</span><span style=\"color: #008080; text-decoration-color: #008080; font-weight: bold\">540</span>, <span style=\"color: #008080; text-decoration-color: #008080; font-weight: bold\">5999</span><span style=\"font-weight: bold\">)</span>: <span style=\"color: #008080; text-decoration-color: #008080; font-weight: bold\">13</span>, <span style=\"font-weight: bold\">(</span><span style=\"color: #008080; text-decoration-color: #008080; font-weight: bold\">540</span>, <span style=\"color: #008080; text-decoration-color: #008080; font-weight: bold\">5200</span><span style=\"font-weight: bold\">)</span>: <span style=\"color: #008080; text-decoration-color: #008080; font-weight: bold\">1</span><span style=\"font-weight: bold\">})</span>\n",
       "<span style=\"font-weight: bold\">}</span>\n",
       "</pre>\n"
      ],
      "text/plain": [
       "\u001b[1m{\u001b[0m\n",
       "    \u001b[32m'bold'\u001b[0m: \u001b[1;35mCounter\u001b[0m\u001b[1m(\u001b[0m\u001b[1m{\u001b[0m\u001b[1m(\u001b[0m\u001b[1;36m6015\u001b[0m, \u001b[1;36m600\u001b[0m\u001b[1m)\u001b[0m: \u001b[1;36m206\u001b[0m\u001b[1m}\u001b[0m\u001b[1m)\u001b[0m,\n",
       "    \u001b[32m'ca2'\u001b[0m: \u001b[1;35mCounter\u001b[0m\u001b[1m(\u001b[0m\u001b[1m{\u001b[0m\u001b[1m(\u001b[0m\u001b[1;36m540\u001b[0m, \u001b[1;36m6000\u001b[0m\u001b[1m)\u001b[0m: \u001b[1;36m188\u001b[0m, \u001b[1m(\u001b[0m\u001b[1;36m540\u001b[0m, \u001b[1;36m5999\u001b[0m\u001b[1m)\u001b[0m: \u001b[1;36m13\u001b[0m, \u001b[1m(\u001b[0m\u001b[1;36m540\u001b[0m, \u001b[1;36m5200\u001b[0m\u001b[1m)\u001b[0m: \u001b[1;36m1\u001b[0m\u001b[1m}\u001b[0m\u001b[1m)\u001b[0m\n",
       "\u001b[1m}\u001b[0m\n"
      ]
     },
     "metadata": {},
     "output_type": "display_data"
    }
   ],
   "source": [
    "shapes_count = {\n",
    "    k: collections.Counter(v)\n",
    "    for k, v in shapes.items()\n",
    "}\n",
    "shapes_count"
   ]
  },
  {
   "cell_type": "code",
   "execution_count": null,
   "id": "83aceaff",
   "metadata": {},
   "outputs": [],
   "source": []
  },
  {
   "cell_type": "code",
   "execution_count": null,
   "id": "9faffe87",
   "metadata": {},
   "outputs": [],
   "source": []
  },
  {
   "cell_type": "code",
   "execution_count": null,
   "id": "16e0252a",
   "metadata": {},
   "outputs": [],
   "source": []
  }
 ],
 "metadata": {
  "kernelspec": {
   "display_name": "Python 3",
   "language": "python",
   "name": "python3"
  },
  "language_info": {
   "codemirror_mode": {
    "name": "ipython",
    "version": 3
   },
   "file_extension": ".py",
   "mimetype": "text/x-python",
   "name": "python",
   "nbconvert_exporter": "python",
   "pygments_lexer": "ipython3",
   "version": "3.8.3"
  }
 },
 "nbformat": 4,
 "nbformat_minor": 5
}
