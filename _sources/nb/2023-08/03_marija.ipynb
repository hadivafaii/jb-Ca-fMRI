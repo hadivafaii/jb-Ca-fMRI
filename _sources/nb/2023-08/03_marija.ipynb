{
 "cells": [
  {
   "cell_type": "markdown",
   "id": "17d50fc5",
   "metadata": {},
   "source": [
    "# (03) Marija\n",
    "\n",
    "**Motivation**: notebook to generate results.\n",
    "\n",
    "### Note\n",
    "\n",
    "Run the ```Imports``` and ```Setup config``` cells below everytime, before running anything else.\n",
    "- Say you want to run ```Fit network```:\n",
    "    - Run ```Imports``` >> ```Setup config``` >> ```Fit network```\n",
    "- Or maybe you want to run ```Fit SVINET```:\n",
    "    - Run ```Imports``` >> ```Setup config``` >> ```Fit SVINET```\n",
    "    \n",
    "...and so on.\n",
    "<br>"
   ]
  },
  {
   "cell_type": "markdown",
   "id": "c569d008",
   "metadata": {},
   "source": [
    "## Imports"
   ]
  },
  {
   "cell_type": "code",
   "execution_count": 1,
   "id": "98c3a37f",
   "metadata": {},
   "outputs": [],
   "source": [
    "# HIDE CODE\n",
    "\n",
    "\n",
    "import os, sys\n",
    "from IPython.display import display\n",
    "\n",
    "# Code path + imports\n",
    "code_path = '/home/mm4347/Desktop/multicell/MarijaHadi/_Ca-fMRI-Aug03'\n",
    "sys.path.insert(0, code_path)\n",
    "from analysis.bootstrap import *\n",
    "from figures.fighelper import *\n",
    "from utils.render import *\n",
    "\n",
    "# warnings, tqdm, & style\n",
    "warnings.filterwarnings('ignore', category=DeprecationWarning) #\n",
    "from tqdm.notebook import tqdm\n",
    "%matplotlib inline\n",
    "set_style()"
   ]
  },
  {
   "cell_type": "markdown",
   "id": "30b2c53b",
   "metadata": {},
   "source": [
    "## Setup config"
   ]
  },
  {
   "cell_type": "code",
   "execution_count": 2,
   "id": "a31c073f",
   "metadata": {},
   "outputs": [],
   "source": [
    "def get_config(**kwargs):\n",
    "    _cfg, cfg = Config(**kwargs), Config(**kwargs)\n",
    "    _replacement = '/ca2data3/lake_lab_analyses/MarijaHadiAnalysis/Ca-fMRI'\n",
    "    dirs = [\n",
    "        k for k in dir(cfg)\n",
    "        if '_dir' in k and\n",
    "        isinstance(getattr(cfg, k), str)\n",
    "    ]\n",
    "    for item in dirs:\n",
    "        new = getattr(_cfg, item).replace(\n",
    "            _cfg.base_dir, _replacement)\n",
    "        setattr(cfg, item, new)\n",
    "    cfg.svinet_dir = '/ca2data3/lake_lab_analyses/MarijaHadiAnalysis/svinet'\n",
    "    cfg.download_dir, cfg.raw_dir, cfg.tx_dir, cfg.warped_dir = None, None, None, None\n",
    "    cfg._get_all_dirs()\n",
    "    return cfg"
   ]
  },
  {
   "cell_type": "code",
   "execution_count": null,
   "id": "1f1c5a60",
   "metadata": {},
   "outputs": [],
   "source": [
    "cfg = get_config(nn=512,makedirs=False) #512 no of ROIs per hemisphere in cortex \n",
    "cfg.all_dirs"
   ]
  },
  {
   "cell_type": "code",
   "execution_count": null,
   "id": "bff79453",
   "metadata": {},
   "outputs": [],
   "source": [
    "mice = Mice(cfg)"
   ]
  },
  {
   "cell_type": "code",
   "execution_count": null,
   "id": "636174a9",
   "metadata": {},
   "outputs": [],
   "source": []
  },
  {
   "cell_type": "code",
   "execution_count": null,
   "id": "297ef669",
   "metadata": {},
   "outputs": [],
   "source": []
  },
  {
   "cell_type": "markdown",
   "id": "616ef7e0",
   "metadata": {},
   "source": [
    "## Fit network"
   ]
  },
  {
   "cell_type": "code",
   "execution_count": null,
   "id": "795aeb4f",
   "metadata": {},
   "outputs": [],
   "source": [
    "task = 'rest'\n",
    "bands = [None, (0.01, 0.5)]\n",
    "# frequency bands - none no bandpassed at all the (0.01, 0.5) is frequency band from the paper"
   ]
  },
  {
   "cell_type": "code",
   "execution_count": null,
   "id": "0fd58451",
   "metadata": {},
   "outputs": [],
   "source": [
    "# props are details that go into network \n",
    "props = {\n",
    "    'mice': mice,\n",
    "    'mode': 'ca2',\n",
    "    'metric': 'pearson',\n",
    "    'percentiles': np.linspace(25, 10, 4).astype(int),\n",
    "    'prep_data': True,\n",
    "    'binarize': False,\n",
    "    'verbose': False,\n",
    "}\n",
    "kws = {\n",
    "    'task': task,\n",
    "    'desc_ca2': 'preproc',\n",
    "    'runs_only': True,\n",
    "    'exclude': True,\n",
    "}"
   ]
  },
  {
   "cell_type": "code",
   "execution_count": null,
   "id": "89a4e46a",
   "metadata": {},
   "outputs": [],
   "source": [
    "#pbar is progress bar: for each frequency band run for each animal a net.fit.network \n",
    "\n",
    "pbar1 = tqdm(\n",
    "    bands,\n",
    "    leave=True,\n",
    "    total=len(bands),\n",
    ")\n",
    "for b in pbar1:\n",
    "    kws['band_ca2'] = b\n",
    "    mice.setup_func_data(**kws)\n",
    "    pbar2 = tqdm(\n",
    "        mice.get_data_containers('ca2')[0],\n",
    "        leave=False,\n",
    "    )\n",
    "    for key in pbar2:\n",
    "        msg = f\"running net (task-{task}, \"\n",
    "        msg += f\"b-{str(b).replace(' ', '')})\"\n",
    "        msg += f\": {key}\"\n",
    "        pbar1.set_description(msg)\n",
    "        # fit network\n",
    "        net = Network(key=key, **props)\n",
    "        net.fit_network( force=True, full=False, save=True)\n",
    "        \n",
    "#key = is mouse ID i.e., SLC..."
   ]
  },
  {
   "cell_type": "code",
   "execution_count": null,
   "id": "4a7c9802",
   "metadata": {},
   "outputs": [],
   "source": []
  },
  {
   "cell_type": "code",
   "execution_count": null,
   "id": "cda80747",
   "metadata": {},
   "outputs": [],
   "source": []
  },
  {
   "cell_type": "markdown",
   "id": "3dc6ef0d",
   "metadata": {},
   "source": [
    "## Apply SVINET (bash)\n",
    "\n",
    "- Open a terminal\n",
    "- Navigate to where the code is located and cd to the ```scripts``` directory, i.e. go here:\n",
    "    - ```.../_Ca-fMRI-Aug02/scripts```\n",
    "- Run the following code:\n",
    "\n",
    "```bash\n",
    "time ./loop_svinet.sh 512 3 7 p15-sample 500 ca2 preproc [0-9.,]+ rest\n",
    "```"
   ]
  },
  {
   "cell_type": "code",
   "execution_count": null,
   "id": "ea541439",
   "metadata": {},
   "outputs": [],
   "source": []
  },
  {
   "cell_type": "code",
   "execution_count": null,
   "id": "2fee9acd",
   "metadata": {},
   "outputs": [],
   "source": []
  },
  {
   "cell_type": "markdown",
   "id": "c4306e3e",
   "metadata": {},
   "source": [
    "## Fit SVINET"
   ]
  },
  {
   "cell_type": "code",
   "execution_count": null,
   "id": "25094461",
   "metadata": {},
   "outputs": [],
   "source": [
    "num_k = 7\n",
    "perc = 'p15-sample'\n",
    "bands = [None, (0.01, 0.5)]\n",
    "task = 'rest'"
   ]
  },
  {
   "cell_type": "code",
   "execution_count": null,
   "id": "df9a885a",
   "metadata": {},
   "outputs": [],
   "source": [
    "props = {\n",
    "    'mice': mice,\n",
    "    'num_k': num_k,\n",
    "    'perc': perc,\n",
    "    'mode': 'ca2',\n",
    "    'metric': 'pearson',\n",
    "    'match_metric': 'euclidean',\n",
    "    'match_using': 'gam',\n",
    "    'graph_type': 'real',\n",
    "    'verbose': False,\n",
    "}\n",
    "kws = {\n",
    "    'task': task,\n",
    "    'desc_ca2': 'preproc',\n",
    "    'runs_only': True,\n",
    "    'exclude': True,\n",
    "}"
   ]
  },
  {
   "cell_type": "code",
   "execution_count": null,
   "id": "9463fccb",
   "metadata": {},
   "outputs": [],
   "source": [
    "pbar1 = tqdm(bands)\n",
    "for b in pbar1:\n",
    "    kws['band_ca2'] = b\n",
    "    mice.setup_func_data(**kws)\n",
    "    pbar2 = tqdm(\n",
    "        mice.get_data_containers('ca2')[0],\n",
    "        leave=False,\n",
    "    )\n",
    "    for key in pbar2:\n",
    "        msg = f\"running svinet (task-{task}, \"\n",
    "        msg += f\"b-{str(b).replace(' ', '')})\"\n",
    "        msg += f\": {key}\"\n",
    "        pbar1.set_description(msg)\n",
    "        # fit svinet        \n",
    "        sv = SVINET(key=key, **props)\n",
    "        sv.fit_svinet()"
   ]
  },
  {
   "cell_type": "code",
   "execution_count": null,
   "id": "7fed7439",
   "metadata": {},
   "outputs": [],
   "source": []
  },
  {
   "cell_type": "code",
   "execution_count": null,
   "id": "abeae368",
   "metadata": {},
   "outputs": [],
   "source": []
  },
  {
   "cell_type": "markdown",
   "id": "09a6b1ae",
   "metadata": {},
   "source": [
    "## Fit Group results"
   ]
  },
  {
   "cell_type": "code",
   "execution_count": null,
   "id": "d5a416ea",
   "metadata": {},
   "outputs": [],
   "source": [
    "num_k = 7\n",
    "perc = 'p15-sample'\n",
    "bands = [None, (0.01, 0.5)]\n",
    "task = 'rest'"
   ]
  },
  {
   "cell_type": "code",
   "execution_count": null,
   "id": "2add51ef",
   "metadata": {},
   "outputs": [],
   "source": [
    "props = {\n",
    "    'mice': mice,\n",
    "    'num_k': num_k,\n",
    "    'perc': perc,\n",
    "    'mode': 'ca2',\n",
    "    'metric': 'pearson',\n",
    "    'sv_props': {\n",
    "        'match_metric': 'euclidean',\n",
    "        'match_using': 'gam'},\n",
    "    'graph_type': 'real',\n",
    "    'dist_metric': 'cosine',\n",
    "    'ordering': 'infer',\n",
    "    'verbose': False,\n",
    "}\n",
    "kws = {\n",
    "    'task': task,\n",
    "    'desc_ca2': 'preproc',\n",
    "    'runs_only': True,\n",
    "    'exclude': True,\n",
    "}"
   ]
  },
  {
   "cell_type": "code",
   "execution_count": null,
   "id": "eb82bbd4",
   "metadata": {},
   "outputs": [],
   "source": [
    "pbar = tqdm(bands)\n",
    "for b in pbar:\n",
    "    msg = f\"running group (task-{task}, \"\n",
    "    msg += f\"b-{str(b).replace(' ', '')}, kk-{num_k})\"\n",
    "    pbar.set_description(msg)\n",
    "    # fit group\n",
    "    mice.setup_func_data(band_ca2=b)\n",
    "    gr = Group(**props)\n",
    "    if gr.svinets_exist():\n",
    "        gr.fit_group(force=False)"
   ]
  },
  {
   "cell_type": "code",
   "execution_count": null,
   "id": "08eff1a6",
   "metadata": {},
   "outputs": [],
   "source": []
  },
  {
   "cell_type": "code",
   "execution_count": null,
   "id": "14fda834",
   "metadata": {},
   "outputs": [],
   "source": []
  },
  {
   "cell_type": "code",
   "execution_count": null,
   "id": "d006a6ba",
   "metadata": {},
   "outputs": [],
   "source": []
  },
  {
   "cell_type": "markdown",
   "id": "586b4b28",
   "metadata": {},
   "source": [
    "## Plot results"
   ]
  },
  {
   "cell_type": "code",
   "execution_count": null,
   "id": "bcdd741c",
   "metadata": {},
   "outputs": [],
   "source": [
    "task = 'rest'\n",
    "desc = 'preproc'\n",
    "bands = {\n",
    "    (0.0, 5.0): 'Unfiltered',\n",
    "    (0.01, 0.5): CAS,\n",
    "}\n",
    "bs = Base(mice, mode='ca2')"
   ]
  },
  {
   "cell_type": "markdown",
   "id": "5b507f38",
   "metadata": {},
   "source": [
    "### Load results"
   ]
  },
  {
   "cell_type": "code",
   "execution_count": null,
   "id": "a4a0cebf",
   "metadata": {},
   "outputs": [],
   "source": [
    "results = {}\n",
    "for b in bands:\n",
    "    mice.set_kws(band_ca2=b, desc_ca2=desc, task=task)\n",
    "    gr = Group(mice=mice, mode='ca2', perc='p15-sample', num_k=7)\n",
    "    results[f\"{bands[b]}\\n{b}\"] = gr.avg(ndim_start=1)\n",
    "results_avg = {\n",
    "    k: avg(v) for k, v\n",
    "    in results.items()\n",
    "}"
   ]
  },
  {
   "cell_type": "markdown",
   "id": "834e5cb4",
   "metadata": {},
   "source": [
    "### Align"
   ]
  },
  {
   "cell_type": "code",
   "execution_count": null,
   "id": "cae786f4",
   "metadata": {},
   "outputs": [],
   "source": [
    "src_key = (0.01, 0.5)\n",
    "src_key = '\\n'.join([\n",
    "    bands[src_key],\n",
    "    str(src_key),\n",
    "])\n",
    "global_order = 'infer'\n",
    "match_metric = 'correlation'\n",
    "final_perm = {4: 5, 5: 6, 6: 4}\n",
    "final_perm = {\n",
    "    i: final_perm.get(i, i) for\n",
    "    i in range(props['num_k'])\n",
    "}\n",
    "\n",
    "# get gmap\n",
    "gmap = find_best_mappings(\n",
    "    data=results_avg,\n",
    "    centroids=results_avg[src_key],\n",
    "    match_metric=match_metric,\n",
    "    global_order=global_order[0],\n",
    ")\n",
    "if final_perm:\n",
    "    for k, v in gmap.items():\n",
    "        gmap[k] = {\n",
    "            s: v[t] for s, t in\n",
    "            final_perm.items()\n",
    "        }\n",
    "    gmap = {\n",
    "        k: gmap.get(k, final_perm)\n",
    "        for k in results_avg\n",
    "    }\n",
    "    \n",
    "# apply gmap\n",
    "pi_sorted = {\n",
    "    k: v[:, list(gmap[k].values()), :]\n",
    "    for k, v in results.items()\n",
    "}\n",
    "pi_sorted_avg = {\n",
    "    k: avg(v) for k, v\n",
    "    in pi_sorted.items()\n",
    "}"
   ]
  },
  {
   "cell_type": "markdown",
   "id": "57b59a52",
   "metadata": {},
   "source": [
    "### Show"
   ]
  },
  {
   "cell_type": "code",
   "execution_count": null,
   "id": "e28b495e",
   "metadata": {},
   "outputs": [],
   "source": [
    "fig, axes = bs.show(pi_sorted_avg, **show_kws(num_k))"
   ]
  },
  {
   "cell_type": "code",
   "execution_count": null,
   "id": "91f8d80d",
   "metadata": {},
   "outputs": [],
   "source": []
  },
  {
   "cell_type": "code",
   "execution_count": null,
   "id": "b7f31003",
   "metadata": {},
   "outputs": [],
   "source": []
  },
  {
   "cell_type": "code",
   "execution_count": null,
   "id": "abc9c2da",
   "metadata": {},
   "outputs": [],
   "source": []
  }
 ],
 "metadata": {
  "kernelspec": {
   "display_name": "Python 3",
   "language": "python",
   "name": "python3"
  },
  "language_info": {
   "codemirror_mode": {
    "name": "ipython",
    "version": 3
   },
   "file_extension": ".py",
   "mimetype": "text/x-python",
   "name": "python",
   "nbconvert_exporter": "python",
   "pygments_lexer": "ipython3",
   "version": "3.8.3"
  }
 },
 "nbformat": 4,
 "nbformat_minor": 5
}
