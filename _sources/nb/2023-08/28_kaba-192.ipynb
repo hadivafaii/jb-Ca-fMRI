{
 "cells": [
  {
   "cell_type": "markdown",
   "id": "17d50fc5",
   "metadata": {},
   "source": [
    "# (28) N=192 -- KABA\n",
    "\n",
    "**Motivation**: A new beginning with $N=192$ parcellation on KABA. This time, much larger subcortical ROIs, so that there are many more cortical ones. <br>"
   ]
  },
  {
   "cell_type": "code",
   "execution_count": 1,
   "id": "644c118b",
   "metadata": {},
   "outputs": [],
   "source": [
    "# HIDE CODE\n",
    "\n",
    "\n",
    "import os, sys\n",
    "from IPython.display import display\n",
    "\n",
    "# tmp & extras dir\n",
    "git_dir = os.path.join(os.environ['HOME'], 'Dropbox/git')\n",
    "extras_dir = os.path.join(git_dir, 'jb-Ca-fMRI/_extras')\n",
    "fig_base_dir = os.path.join(git_dir, 'jb-Ca-fMRI/figs')\n",
    "tmp_dir = os.path.join(git_dir, 'jb-Ca-fMRI/tmp')\n",
    "\n",
    "# GitHub\n",
    "sys.path.insert(0, os.path.join(git_dir, '_Ca-fMRI'))\n",
    "from figures.fighelper import *\n",
    "from analysis.final import *\n",
    "from utils.render import *\n",
    "\n",
    "# warnings, tqdm, & style\n",
    "warnings.filterwarnings('ignore', category=DeprecationWarning)\n",
    "from tqdm.notebook import tqdm\n",
    "%matplotlib inline\n",
    "set_style()"
   ]
  },
  {
   "cell_type": "markdown",
   "id": "606ecf24",
   "metadata": {},
   "source": [
    "## Setup"
   ]
  },
  {
   "cell_type": "code",
   "execution_count": 2,
   "id": "d0e39843",
   "metadata": {},
   "outputs": [
    {
     "data": {
      "text/html": [
       "<pre style=\"white-space:pre;overflow-x:auto;line-height:normal;font-family:Menlo,'DejaVu Sans Mono',consolas,'Courier New',monospace\"><span style=\"font-weight: bold\">[</span>PROGRESS<span style=\"font-weight: bold\">]</span> <span style=\"color: #008000; text-decoration-color: #008000\">'config.json'</span> saved at\n",
       "<span style=\"color: #800080; text-decoration-color: #800080\">/home/hadi/Documents/Ca-fMRI/processed/</span><span style=\"color: #ff00ff; text-decoration-color: #ff00ff\">norm-global_parcel-columnar_n-192</span>*<span style=\"color: #008080; text-decoration-color: #008080; font-weight: bold\">3</span>\n",
       "</pre>\n"
      ],
      "text/plain": [
       "\u001b[1m[\u001b[0mPROGRESS\u001b[1m]\u001b[0m \u001b[32m'config.json'\u001b[0m saved at\n",
       "\u001b[35m/home/hadi/Documents/Ca-fMRI/processed/\u001b[0m\u001b[95mnorm-global_parcel-columnar_n-192\u001b[0m*\u001b[1;36m3\u001b[0m\n"
      ]
     },
     "metadata": {},
     "output_type": "display_data"
    },
    {
     "data": {
      "text/html": [
       "<pre style=\"white-space:pre;overflow-x:auto;line-height:normal;font-family:Menlo,'DejaVu Sans Mono',consolas,'Courier New',monospace\">ROI lookup not found, time to run <span style=\"color: #800080; text-decoration-color: #800080; font-weight: bold\">organize_func</span><span style=\"font-weight: bold\">()</span> . . .\n",
       "</pre>\n"
      ],
      "text/plain": [
       "ROI lookup not found, time to run \u001b[1;35morganize_func\u001b[0m\u001b[1m(\u001b[0m\u001b[1m)\u001b[0m . . .\n"
      ]
     },
     "metadata": {},
     "output_type": "display_data"
    }
   ],
   "source": [
    "mice = Mice(192)"
   ]
  },
  {
   "cell_type": "code",
   "execution_count": 3,
   "id": "60db8ae4",
   "metadata": {},
   "outputs": [
    {
     "data": {
      "text/html": [
       "<pre style=\"white-space:pre;overflow-x:auto;line-height:normal;font-family:Menlo,'DejaVu Sans Mono',consolas,'Courier New',monospace\">Parcellation not found, initiating fit\n",
       "</pre>\n"
      ],
      "text/plain": [
       "Parcellation not found, initiating fit\n"
      ]
     },
     "metadata": {},
     "output_type": "display_data"
    },
    {
     "data": {
      "text/html": [
       "<pre style=\"white-space:pre;overflow-x:auto;line-height:normal;font-family:Menlo,'DejaVu Sans Mono',consolas,'Courier New',monospace\"><span style=\"font-weight: bold\">[</span>PROGRESS<span style=\"font-weight: bold\">]</span> fit columnar: initiated\n",
       "</pre>\n"
      ],
      "text/plain": [
       "\u001b[1m[\u001b[0mPROGRESS\u001b[1m]\u001b[0m fit columnar: initiated\n"
      ]
     },
     "metadata": {},
     "output_type": "display_data"
    },
    {
     "data": {
      "text/html": [
       "<pre style=\"white-space:pre;overflow-x:auto;line-height:normal;font-family:Menlo,'DejaVu Sans Mono',consolas,'Courier New',monospace\"><span style=\"font-weight: bold\">[</span>PROGRESS<span style=\"font-weight: bold\">]</span> kmeans fit: done\n",
       "</pre>\n"
      ],
      "text/plain": [
       "\u001b[1m[\u001b[0mPROGRESS\u001b[1m]\u001b[0m kmeans fit: done\n"
      ]
     },
     "metadata": {},
     "output_type": "display_data"
    },
    {
     "data": {
      "text/html": [
       "<pre style=\"white-space:pre;overflow-x:auto;line-height:normal;font-family:Menlo,'DejaVu Sans Mono',consolas,'Courier New',monospace\"><span style=\"font-weight: bold\">[</span>PROGRESS<span style=\"font-weight: bold\">]</span> save 2D, 10um: done\n",
       "</pre>\n"
      ],
      "text/plain": [
       "\u001b[1m[\u001b[0mPROGRESS\u001b[1m]\u001b[0m save 2D, 10um: done\n"
      ]
     },
     "metadata": {},
     "output_type": "display_data"
    },
    {
     "data": {
      "text/html": [
       "<pre style=\"white-space:pre;overflow-x:auto;line-height:normal;font-family:Menlo,'DejaVu Sans Mono',consolas,'Courier New',monospace\"><span style=\"font-weight: bold\">[</span>PROGRESS<span style=\"font-weight: bold\">]</span> 2d --&gt; 3d: done\n",
       "</pre>\n"
      ],
      "text/plain": [
       "\u001b[1m[\u001b[0mPROGRESS\u001b[1m]\u001b[0m 2d --> 3d: done\n"
      ]
     },
     "metadata": {},
     "output_type": "display_data"
    },
    {
     "data": {
      "text/html": [
       "<pre style=\"white-space:pre;overflow-x:auto;line-height:normal;font-family:Menlo,'DejaVu Sans Mono',consolas,'Courier New',monospace\"><span style=\"font-weight: bold\">[</span>PROGRESS<span style=\"font-weight: bold\">]</span> save 3D, 10um: done\n",
       "</pre>\n"
      ],
      "text/plain": [
       "\u001b[1m[\u001b[0mPROGRESS\u001b[1m]\u001b[0m save 3D, 10um: done\n"
      ]
     },
     "metadata": {},
     "output_type": "display_data"
    },
    {
     "data": {
      "text/html": [
       "<pre style=\"white-space:pre;overflow-x:auto;line-height:normal;font-family:Menlo,'DejaVu Sans Mono',consolas,'Courier New',monospace\"><span style=\"font-weight: bold\">[</span>PROGRESS<span style=\"font-weight: bold\">]</span> downsample: done\n",
       "</pre>\n"
      ],
      "text/plain": [
       "\u001b[1m[\u001b[0mPROGRESS\u001b[1m]\u001b[0m downsample: done\n"
      ]
     },
     "metadata": {},
     "output_type": "display_data"
    },
    {
     "data": {
      "text/html": [
       "<pre style=\"white-space:pre;overflow-x:auto;line-height:normal;font-family:Menlo,'DejaVu Sans Mono',consolas,'Courier New',monospace\">num regions,    left: <span style=\"color: #008080; text-decoration-color: #008080; font-weight: bold\">576</span>,  right: <span style=\"color: #008080; text-decoration-color: #008080; font-weight: bold\">576</span>\n",
       "region id diff,         r - l:  <span style=\"color: #800080; text-decoration-color: #800080; font-weight: bold\">Counter</span><span style=\"font-weight: bold\">({</span><span style=\"color: #008080; text-decoration-color: #008080; font-weight: bold\">576</span>: <span style=\"color: #008080; text-decoration-color: #008080; font-weight: bold\">576</span><span style=\"font-weight: bold\">})</span>\n",
       "\n",
       "</pre>\n"
      ],
      "text/plain": [
       "num regions,    left: \u001b[1;36m576\u001b[0m,  right: \u001b[1;36m576\u001b[0m\n",
       "region id diff,         r - l:  \u001b[1;35mCounter\u001b[0m\u001b[1m(\u001b[0m\u001b[1m{\u001b[0m\u001b[1;36m576\u001b[0m: \u001b[1;36m576\u001b[0m\u001b[1m}\u001b[0m\u001b[1m)\u001b[0m\n",
       "\n"
      ]
     },
     "metadata": {},
     "output_type": "display_data"
    },
    {
     "data": {
      "text/html": [
       "<pre style=\"white-space:pre;overflow-x:auto;line-height:normal;font-family:Menlo,'DejaVu Sans Mono',consolas,'Courier New',monospace\"><span style=\"font-weight: bold\">[</span>PROGRESS<span style=\"font-weight: bold\">]</span> fit columnar: done\n",
       "</pre>\n"
      ],
      "text/plain": [
       "\u001b[1m[\u001b[0mPROGRESS\u001b[1m]\u001b[0m fit columnar: done\n"
      ]
     },
     "metadata": {},
     "output_type": "display_data"
    },
    {
     "data": {
      "text/html": [
       "<pre style=\"white-space:pre;overflow-x:auto;line-height:normal;font-family:Menlo,'DejaVu Sans Mono',consolas,'Courier New',monospace\"><span style=\"font-weight: bold\">[</span>PROGRESS<span style=\"font-weight: bold\">]</span> fit subcortical: initiated\n",
       "</pre>\n"
      ],
      "text/plain": [
       "\u001b[1m[\u001b[0mPROGRESS\u001b[1m]\u001b[0m fit subcortical: initiated\n"
      ]
     },
     "metadata": {},
     "output_type": "display_data"
    },
    {
     "data": {
      "text/html": [
       "<pre style=\"white-space:pre;overflow-x:auto;line-height:normal;font-family:Menlo,'DejaVu Sans Mono',consolas,'Courier New',monospace\"><span style=\"font-weight: bold\">[</span>PROGRESS<span style=\"font-weight: bold\">]</span> fit subcortical: done\n",
       "</pre>\n"
      ],
      "text/plain": [
       "\u001b[1m[\u001b[0mPROGRESS\u001b[1m]\u001b[0m fit subcortical: done\n"
      ]
     },
     "metadata": {},
     "output_type": "display_data"
    },
    {
     "data": {
      "text/html": [
       "<pre style=\"white-space:pre;overflow-x:auto;line-height:normal;font-family:Menlo,'DejaVu Sans Mono',consolas,'Courier New',monospace\"><span style=\"font-weight: bold\">[</span>PROGRESS<span style=\"font-weight: bold\">]</span> create regions df: done\n",
       "</pre>\n"
      ],
      "text/plain": [
       "\u001b[1m[\u001b[0mPROGRESS\u001b[1m]\u001b[0m create regions df: done\n"
      ]
     },
     "metadata": {},
     "output_type": "display_data"
    },
    {
     "data": {
      "text/html": [
       "<pre style=\"white-space:pre;overflow-x:auto;line-height:normal;font-family:Menlo,'DejaVu Sans Mono',consolas,'Courier New',monospace\"><span style=\"font-weight: bold\">[</span>PROGRESS<span style=\"font-weight: bold\">]</span> erode: done\n",
       "</pre>\n"
      ],
      "text/plain": [
       "\u001b[1m[\u001b[0mPROGRESS\u001b[1m]\u001b[0m erode: done\n"
      ]
     },
     "metadata": {},
     "output_type": "display_data"
    },
    {
     "data": {
      "text/html": [
       "<pre style=\"white-space:pre;overflow-x:auto;line-height:normal;font-family:Menlo,'DejaVu Sans Mono',consolas,'Courier New',monospace\"><span style=\"font-weight: bold\">[</span>PROGRESS<span style=\"font-weight: bold\">]</span> <span style=\"color: #008000; text-decoration-color: #008000\">'cols_100um.npy'</span> saved at\n",
       "<span style=\"color: #800080; text-decoration-color: #800080\">/home/hadi/Documents/Ca-fMRI/processed/</span><span style=\"color: #ff00ff; text-decoration-color: #ff00ff\">norm-global_parcel-columnar_n-192</span>*<span style=\"color: #008080; text-decoration-color: #008080; font-weight: bold\">3</span>/parcellation\n",
       "</pre>\n"
      ],
      "text/plain": [
       "\u001b[1m[\u001b[0mPROGRESS\u001b[1m]\u001b[0m \u001b[32m'cols_100um.npy'\u001b[0m saved at\n",
       "\u001b[35m/home/hadi/Documents/Ca-fMRI/processed/\u001b[0m\u001b[95mnorm-global_parcel-columnar_n-192\u001b[0m*\u001b[1;36m3\u001b[0m/parcellation\n"
      ]
     },
     "metadata": {},
     "output_type": "display_data"
    },
    {
     "data": {
      "text/html": [
       "<pre style=\"white-space:pre;overflow-x:auto;line-height:normal;font-family:Menlo,'DejaVu Sans Mono',consolas,'Courier New',monospace\"><span style=\"font-weight: bold\">[</span>PROGRESS<span style=\"font-weight: bold\">]</span> <span style=\"color: #008000; text-decoration-color: #008000\">'brain_100um.npy'</span> saved at\n",
       "<span style=\"color: #800080; text-decoration-color: #800080\">/home/hadi/Documents/Ca-fMRI/processed/</span><span style=\"color: #ff00ff; text-decoration-color: #ff00ff\">norm-global_parcel-columnar_n-192</span>*<span style=\"color: #008080; text-decoration-color: #008080; font-weight: bold\">3</span>/parcellation\n",
       "</pre>\n"
      ],
      "text/plain": [
       "\u001b[1m[\u001b[0mPROGRESS\u001b[1m]\u001b[0m \u001b[32m'brain_100um.npy'\u001b[0m saved at\n",
       "\u001b[35m/home/hadi/Documents/Ca-fMRI/processed/\u001b[0m\u001b[95mnorm-global_parcel-columnar_n-192\u001b[0m*\u001b[1;36m3\u001b[0m/parcellation\n"
      ]
     },
     "metadata": {},
     "output_type": "display_data"
    },
    {
     "data": {
      "text/html": [
       "<pre style=\"white-space:pre;overflow-x:auto;line-height:normal;font-family:Menlo,'DejaVu Sans Mono',consolas,'Courier New',monospace\"><span style=\"font-weight: bold\">[</span>PROGRESS<span style=\"font-weight: bold\">]</span> <span style=\"color: #008000; text-decoration-color: #008000\">'cortex_100um.npy'</span> saved at\n",
       "<span style=\"color: #800080; text-decoration-color: #800080\">/home/hadi/Documents/Ca-fMRI/processed/</span><span style=\"color: #ff00ff; text-decoration-color: #ff00ff\">norm-global_parcel-columnar_n-192</span>*<span style=\"color: #008080; text-decoration-color: #008080; font-weight: bold\">3</span>/parcellation\n",
       "</pre>\n"
      ],
      "text/plain": [
       "\u001b[1m[\u001b[0mPROGRESS\u001b[1m]\u001b[0m \u001b[32m'cortex_100um.npy'\u001b[0m saved at\n",
       "\u001b[35m/home/hadi/Documents/Ca-fMRI/processed/\u001b[0m\u001b[95mnorm-global_parcel-columnar_n-192\u001b[0m*\u001b[1;36m3\u001b[0m/parcellation\n"
      ]
     },
     "metadata": {},
     "output_type": "display_data"
    },
    {
     "data": {
      "text/html": [
       "<pre style=\"white-space:pre;overflow-x:auto;line-height:normal;font-family:Menlo,'DejaVu Sans Mono',consolas,'Courier New',monospace\"><span style=\"font-weight: bold\">[</span>PROGRESS<span style=\"font-weight: bold\">]</span> <span style=\"color: #008000; text-decoration-color: #008000\">'subcortex_100um.npy'</span> saved at\n",
       "<span style=\"color: #800080; text-decoration-color: #800080\">/home/hadi/Documents/Ca-fMRI/processed/</span><span style=\"color: #ff00ff; text-decoration-color: #ff00ff\">norm-global_parcel-columnar_n-192</span>*<span style=\"color: #008080; text-decoration-color: #008080; font-weight: bold\">3</span>/parcellation\n",
       "</pre>\n"
      ],
      "text/plain": [
       "\u001b[1m[\u001b[0mPROGRESS\u001b[1m]\u001b[0m \u001b[32m'subcortex_100um.npy'\u001b[0m saved at\n",
       "\u001b[35m/home/hadi/Documents/Ca-fMRI/processed/\u001b[0m\u001b[95mnorm-global_parcel-columnar_n-192\u001b[0m*\u001b[1;36m3\u001b[0m/parcellation\n"
      ]
     },
     "metadata": {},
     "output_type": "display_data"
    },
    {
     "data": {
      "text/html": [
       "<pre style=\"white-space:pre;overflow-x:auto;line-height:normal;font-family:Menlo,'DejaVu Sans Mono',consolas,'Courier New',monospace\"><span style=\"font-weight: bold\">[</span>PROGRESS<span style=\"font-weight: bold\">]</span> <span style=\"color: #008000; text-decoration-color: #008000\">'cortex-top_100um.npy'</span> saved at\n",
       "<span style=\"color: #800080; text-decoration-color: #800080\">/home/hadi/Documents/Ca-fMRI/processed/</span><span style=\"color: #ff00ff; text-decoration-color: #ff00ff\">norm-global_parcel-columnar_n-192</span>*<span style=\"color: #008080; text-decoration-color: #008080; font-weight: bold\">3</span>/parcellation\n",
       "</pre>\n"
      ],
      "text/plain": [
       "\u001b[1m[\u001b[0mPROGRESS\u001b[1m]\u001b[0m \u001b[32m'cortex-top_100um.npy'\u001b[0m saved at\n",
       "\u001b[35m/home/hadi/Documents/Ca-fMRI/processed/\u001b[0m\u001b[95mnorm-global_parcel-columnar_n-192\u001b[0m*\u001b[1;36m3\u001b[0m/parcellation\n"
      ]
     },
     "metadata": {},
     "output_type": "display_data"
    },
    {
     "data": {
      "text/html": [
       "<pre style=\"white-space:pre;overflow-x:auto;line-height:normal;font-family:Menlo,'DejaVu Sans Mono',consolas,'Courier New',monospace\"><span style=\"font-weight: bold\">[</span>PROGRESS<span style=\"font-weight: bold\">]</span> <span style=\"color: #008000; text-decoration-color: #008000\">'brain-eroded_100um.npy'</span> saved at\n",
       "<span style=\"color: #800080; text-decoration-color: #800080\">/home/hadi/Documents/Ca-fMRI/processed/</span><span style=\"color: #ff00ff; text-decoration-color: #ff00ff\">norm-global_parcel-columnar_n-192</span>*<span style=\"color: #008080; text-decoration-color: #008080; font-weight: bold\">3</span>/parcellation\n",
       "</pre>\n"
      ],
      "text/plain": [
       "\u001b[1m[\u001b[0mPROGRESS\u001b[1m]\u001b[0m \u001b[32m'brain-eroded_100um.npy'\u001b[0m saved at\n",
       "\u001b[35m/home/hadi/Documents/Ca-fMRI/processed/\u001b[0m\u001b[95mnorm-global_parcel-columnar_n-192\u001b[0m*\u001b[1;36m3\u001b[0m/parcellation\n"
      ]
     },
     "metadata": {},
     "output_type": "display_data"
    },
    {
     "data": {
      "text/html": [
       "<pre style=\"white-space:pre;overflow-x:auto;line-height:normal;font-family:Menlo,'DejaVu Sans Mono',consolas,'Courier New',monospace\"><span style=\"font-weight: bold\">[</span>PROGRESS<span style=\"font-weight: bold\">]</span> <span style=\"color: #008000; text-decoration-color: #008000\">'nonzero-idxs_parcel2d-flat_100um.npy'</span> saved at\n",
       "<span style=\"color: #800080; text-decoration-color: #800080\">/home/hadi/Documents/Ca-fMRI/processed/</span><span style=\"color: #ff00ff; text-decoration-color: #ff00ff\">norm-global_parcel-columnar_n-192</span>*<span style=\"color: #008080; text-decoration-color: #008080; font-weight: bold\">3</span>/parcellation\n",
       "</pre>\n"
      ],
      "text/plain": [
       "\u001b[1m[\u001b[0mPROGRESS\u001b[1m]\u001b[0m \u001b[32m'nonzero-idxs_parcel2d-flat_100um.npy'\u001b[0m saved at\n",
       "\u001b[35m/home/hadi/Documents/Ca-fMRI/processed/\u001b[0m\u001b[95mnorm-global_parcel-columnar_n-192\u001b[0m*\u001b[1;36m3\u001b[0m/parcellation\n"
      ]
     },
     "metadata": {},
     "output_type": "display_data"
    },
    {
     "data": {
      "text/html": [
       "<pre style=\"white-space:pre;overflow-x:auto;line-height:normal;font-family:Menlo,'DejaVu Sans Mono',consolas,'Courier New',monospace\"><span style=\"font-weight: bold\">[</span>PROGRESS<span style=\"font-weight: bold\">]</span> <span style=\"color: #008000; text-decoration-color: #008000\">'nonzero-idxs_parcel2d-top_100um.npy'</span> saved at\n",
       "<span style=\"color: #800080; text-decoration-color: #800080\">/home/hadi/Documents/Ca-fMRI/processed/</span><span style=\"color: #ff00ff; text-decoration-color: #ff00ff\">norm-global_parcel-columnar_n-192</span>*<span style=\"color: #008080; text-decoration-color: #008080; font-weight: bold\">3</span>/parcellation\n",
       "</pre>\n"
      ],
      "text/plain": [
       "\u001b[1m[\u001b[0mPROGRESS\u001b[1m]\u001b[0m \u001b[32m'nonzero-idxs_parcel2d-top_100um.npy'\u001b[0m saved at\n",
       "\u001b[35m/home/hadi/Documents/Ca-fMRI/processed/\u001b[0m\u001b[95mnorm-global_parcel-columnar_n-192\u001b[0m*\u001b[1;36m3\u001b[0m/parcellation\n"
      ]
     },
     "metadata": {},
     "output_type": "display_data"
    },
    {
     "data": {
      "text/html": [
       "<pre style=\"white-space:pre;overflow-x:auto;line-height:normal;font-family:Menlo,'DejaVu Sans Mono',consolas,'Courier New',monospace\"><span style=\"font-weight: bold\">[</span>PROGRESS<span style=\"font-weight: bold\">]</span> <span style=\"color: #008000; text-decoration-color: #008000\">'nonzero-idxs_parcel3d_100um.npy'</span> saved at\n",
       "<span style=\"color: #800080; text-decoration-color: #800080\">/home/hadi/Documents/Ca-fMRI/processed/</span><span style=\"color: #ff00ff; text-decoration-color: #ff00ff\">norm-global_parcel-columnar_n-192</span>*<span style=\"color: #008080; text-decoration-color: #008080; font-weight: bold\">3</span>/parcellation\n",
       "</pre>\n"
      ],
      "text/plain": [
       "\u001b[1m[\u001b[0mPROGRESS\u001b[1m]\u001b[0m \u001b[32m'nonzero-idxs_parcel3d_100um.npy'\u001b[0m saved at\n",
       "\u001b[35m/home/hadi/Documents/Ca-fMRI/processed/\u001b[0m\u001b[95mnorm-global_parcel-columnar_n-192\u001b[0m*\u001b[1;36m3\u001b[0m/parcellation\n"
      ]
     },
     "metadata": {},
     "output_type": "display_data"
    },
    {
     "data": {
      "text/html": [
       "<pre style=\"white-space:pre;overflow-x:auto;line-height:normal;font-family:Menlo,'DejaVu Sans Mono',consolas,'Courier New',monospace\"><span style=\"font-weight: bold\">[</span>PROGRESS<span style=\"font-weight: bold\">]</span> <span style=\"color: #008000; text-decoration-color: #008000\">'region-idxs_parcel2d-flat_100um.npy'</span> saved at\n",
       "<span style=\"color: #800080; text-decoration-color: #800080\">/home/hadi/Documents/Ca-fMRI/processed/</span><span style=\"color: #ff00ff; text-decoration-color: #ff00ff\">norm-global_parcel-columnar_n-192</span>*<span style=\"color: #008080; text-decoration-color: #008080; font-weight: bold\">3</span>/parcellation\n",
       "</pre>\n"
      ],
      "text/plain": [
       "\u001b[1m[\u001b[0mPROGRESS\u001b[1m]\u001b[0m \u001b[32m'region-idxs_parcel2d-flat_100um.npy'\u001b[0m saved at\n",
       "\u001b[35m/home/hadi/Documents/Ca-fMRI/processed/\u001b[0m\u001b[95mnorm-global_parcel-columnar_n-192\u001b[0m*\u001b[1;36m3\u001b[0m/parcellation\n"
      ]
     },
     "metadata": {},
     "output_type": "display_data"
    },
    {
     "data": {
      "text/html": [
       "<pre style=\"white-space:pre;overflow-x:auto;line-height:normal;font-family:Menlo,'DejaVu Sans Mono',consolas,'Courier New',monospace\"><span style=\"font-weight: bold\">[</span>PROGRESS<span style=\"font-weight: bold\">]</span> <span style=\"color: #008000; text-decoration-color: #008000\">'region-idxs_parcel2d-top_100um.npy'</span> saved at\n",
       "<span style=\"color: #800080; text-decoration-color: #800080\">/home/hadi/Documents/Ca-fMRI/processed/</span><span style=\"color: #ff00ff; text-decoration-color: #ff00ff\">norm-global_parcel-columnar_n-192</span>*<span style=\"color: #008080; text-decoration-color: #008080; font-weight: bold\">3</span>/parcellation\n",
       "</pre>\n"
      ],
      "text/plain": [
       "\u001b[1m[\u001b[0mPROGRESS\u001b[1m]\u001b[0m \u001b[32m'region-idxs_parcel2d-top_100um.npy'\u001b[0m saved at\n",
       "\u001b[35m/home/hadi/Documents/Ca-fMRI/processed/\u001b[0m\u001b[95mnorm-global_parcel-columnar_n-192\u001b[0m*\u001b[1;36m3\u001b[0m/parcellation\n"
      ]
     },
     "metadata": {},
     "output_type": "display_data"
    },
    {
     "data": {
      "text/html": [
       "<pre style=\"white-space:pre;overflow-x:auto;line-height:normal;font-family:Menlo,'DejaVu Sans Mono',consolas,'Courier New',monospace\"><span style=\"font-weight: bold\">[</span>PROGRESS<span style=\"font-weight: bold\">]</span> <span style=\"color: #008000; text-decoration-color: #008000\">'region-idxs_parcel3d_100um.npy'</span> saved at\n",
       "<span style=\"color: #800080; text-decoration-color: #800080\">/home/hadi/Documents/Ca-fMRI/processed/</span><span style=\"color: #ff00ff; text-decoration-color: #ff00ff\">norm-global_parcel-columnar_n-192</span>*<span style=\"color: #008080; text-decoration-color: #008080; font-weight: bold\">3</span>/parcellation\n",
       "</pre>\n"
      ],
      "text/plain": [
       "\u001b[1m[\u001b[0mPROGRESS\u001b[1m]\u001b[0m \u001b[32m'region-idxs_parcel3d_100um.npy'\u001b[0m saved at\n",
       "\u001b[35m/home/hadi/Documents/Ca-fMRI/processed/\u001b[0m\u001b[95mnorm-global_parcel-columnar_n-192\u001b[0m*\u001b[1;36m3\u001b[0m/parcellation\n"
      ]
     },
     "metadata": {},
     "output_type": "display_data"
    },
    {
     "data": {
      "text/html": [
       "<pre style=\"white-space:pre;overflow-x:auto;line-height:normal;font-family:Menlo,'DejaVu Sans Mono',consolas,'Courier New',monospace\"><span style=\"font-weight: bold\">[</span>PROGRESS<span style=\"font-weight: bold\">]</span> <span style=\"color: #008000; text-decoration-color: #008000\">'shape_parcel2d-flat_100um.npy'</span> saved at\n",
       "<span style=\"color: #800080; text-decoration-color: #800080\">/home/hadi/Documents/Ca-fMRI/processed/</span><span style=\"color: #ff00ff; text-decoration-color: #ff00ff\">norm-global_parcel-columnar_n-192</span>*<span style=\"color: #008080; text-decoration-color: #008080; font-weight: bold\">3</span>/parcellation\n",
       "</pre>\n"
      ],
      "text/plain": [
       "\u001b[1m[\u001b[0mPROGRESS\u001b[1m]\u001b[0m \u001b[32m'shape_parcel2d-flat_100um.npy'\u001b[0m saved at\n",
       "\u001b[35m/home/hadi/Documents/Ca-fMRI/processed/\u001b[0m\u001b[95mnorm-global_parcel-columnar_n-192\u001b[0m*\u001b[1;36m3\u001b[0m/parcellation\n"
      ]
     },
     "metadata": {},
     "output_type": "display_data"
    },
    {
     "data": {
      "text/html": [
       "<pre style=\"white-space:pre;overflow-x:auto;line-height:normal;font-family:Menlo,'DejaVu Sans Mono',consolas,'Courier New',monospace\"><span style=\"font-weight: bold\">[</span>PROGRESS<span style=\"font-weight: bold\">]</span> <span style=\"color: #008000; text-decoration-color: #008000\">'shape_parcel2d-top_100um.npy'</span> saved at\n",
       "<span style=\"color: #800080; text-decoration-color: #800080\">/home/hadi/Documents/Ca-fMRI/processed/</span><span style=\"color: #ff00ff; text-decoration-color: #ff00ff\">norm-global_parcel-columnar_n-192</span>*<span style=\"color: #008080; text-decoration-color: #008080; font-weight: bold\">3</span>/parcellation\n",
       "</pre>\n"
      ],
      "text/plain": [
       "\u001b[1m[\u001b[0mPROGRESS\u001b[1m]\u001b[0m \u001b[32m'shape_parcel2d-top_100um.npy'\u001b[0m saved at\n",
       "\u001b[35m/home/hadi/Documents/Ca-fMRI/processed/\u001b[0m\u001b[95mnorm-global_parcel-columnar_n-192\u001b[0m*\u001b[1;36m3\u001b[0m/parcellation\n"
      ]
     },
     "metadata": {},
     "output_type": "display_data"
    },
    {
     "data": {
      "text/html": [
       "<pre style=\"white-space:pre;overflow-x:auto;line-height:normal;font-family:Menlo,'DejaVu Sans Mono',consolas,'Courier New',monospace\"><span style=\"font-weight: bold\">[</span>PROGRESS<span style=\"font-weight: bold\">]</span> <span style=\"color: #008000; text-decoration-color: #008000\">'shape_parcel3d_100um.npy'</span> saved at\n",
       "<span style=\"color: #800080; text-decoration-color: #800080\">/home/hadi/Documents/Ca-fMRI/processed/</span><span style=\"color: #ff00ff; text-decoration-color: #ff00ff\">norm-global_parcel-columnar_n-192</span>*<span style=\"color: #008080; text-decoration-color: #008080; font-weight: bold\">3</span>/parcellation\n",
       "</pre>\n"
      ],
      "text/plain": [
       "\u001b[1m[\u001b[0mPROGRESS\u001b[1m]\u001b[0m \u001b[32m'shape_parcel3d_100um.npy'\u001b[0m saved at\n",
       "\u001b[35m/home/hadi/Documents/Ca-fMRI/processed/\u001b[0m\u001b[95mnorm-global_parcel-columnar_n-192\u001b[0m*\u001b[1;36m3\u001b[0m/parcellation\n"
      ]
     },
     "metadata": {},
     "output_type": "display_data"
    },
    {
     "data": {
      "text/html": [
       "<pre style=\"white-space:pre;overflow-x:auto;line-height:normal;font-family:Menlo,'DejaVu Sans Mono',consolas,'Courier New',monospace\"><span style=\"font-weight: bold\">[</span>PROGRESS<span style=\"font-weight: bold\">]</span> <span style=\"color: #008000; text-decoration-color: #008000\">'regions.df'</span> saved at\n",
       "<span style=\"color: #800080; text-decoration-color: #800080\">/home/hadi/Documents/Ca-fMRI/processed/</span><span style=\"color: #ff00ff; text-decoration-color: #ff00ff\">norm-global_parcel-columnar_n-192</span>*<span style=\"color: #008080; text-decoration-color: #008080; font-weight: bold\">3</span>/parcellation\n",
       "</pre>\n"
      ],
      "text/plain": [
       "\u001b[1m[\u001b[0mPROGRESS\u001b[1m]\u001b[0m \u001b[32m'regions.df'\u001b[0m saved at\n",
       "\u001b[35m/home/hadi/Documents/Ca-fMRI/processed/\u001b[0m\u001b[95mnorm-global_parcel-columnar_n-192\u001b[0m*\u001b[1;36m3\u001b[0m/parcellation\n"
      ]
     },
     "metadata": {},
     "output_type": "display_data"
    },
    {
     "data": {
      "text/html": [
       "<pre style=\"white-space:pre;overflow-x:auto;line-height:normal;font-family:Menlo,'DejaVu Sans Mono',consolas,'Courier New',monospace\"><span style=\"font-weight: bold\">[</span>PROGRESS<span style=\"font-weight: bold\">]</span> <span style=\"color: #008000; text-decoration-color: #008000\">'fit_meta.npy'</span> saved at\n",
       "<span style=\"color: #800080; text-decoration-color: #800080\">/home/hadi/Documents/Ca-fMRI/processed/</span><span style=\"color: #ff00ff; text-decoration-color: #ff00ff\">norm-global_parcel-columnar_n-192</span>*<span style=\"color: #008080; text-decoration-color: #008080; font-weight: bold\">3</span>/parcellation\n",
       "</pre>\n"
      ],
      "text/plain": [
       "\u001b[1m[\u001b[0mPROGRESS\u001b[1m]\u001b[0m \u001b[32m'fit_meta.npy'\u001b[0m saved at\n",
       "\u001b[35m/home/hadi/Documents/Ca-fMRI/processed/\u001b[0m\u001b[95mnorm-global_parcel-columnar_n-192\u001b[0m*\u001b[1;36m3\u001b[0m/parcellation\n"
      ]
     },
     "metadata": {},
     "output_type": "display_data"
    },
    {
     "data": {
      "text/html": [
       "<pre style=\"white-space:pre;overflow-x:auto;line-height:normal;font-family:Menlo,'DejaVu Sans Mono',consolas,'Courier New',monospace\"><span style=\"font-weight: bold\">[</span>PROGRESS<span style=\"font-weight: bold\">]</span> save results: done.\n",
       "</pre>\n"
      ],
      "text/plain": [
       "\u001b[1m[\u001b[0mPROGRESS\u001b[1m]\u001b[0m save results: done.\n"
      ]
     },
     "metadata": {},
     "output_type": "display_data"
    },
    {
     "name": "stdout",
     "output_type": "stream",
     "text": [
      "CPU times: user 47min 40s, sys: 2h 24min 32s, total: 3h 12min 12s\n",
      "Wall time: 16min 16s\n"
     ]
    }
   ],
   "source": [
    "%%time\n",
    "\n",
    "mice.parcel.fit_parcel(frac=0.1)"
   ]
  },
  {
   "cell_type": "code",
   "execution_count": null,
   "id": "3a237e07",
   "metadata": {},
   "outputs": [],
   "source": []
  },
  {
   "cell_type": "code",
   "execution_count": 6,
   "id": "b1924752",
   "metadata": {},
   "outputs": [
    {
     "data": {
      "text/html": [
       "<pre style=\"white-space:pre;overflow-x:auto;line-height:normal;font-family:Menlo,'DejaVu Sans Mono',consolas,'Courier New',monospace\"><span style=\"font-weight: bold\">(</span><span style=\"color: #008080; text-decoration-color: #008080; font-weight: bold\">1152</span>, <span style=\"color: #008080; text-decoration-color: #008080; font-weight: bold\">302</span><span style=\"font-weight: bold\">)</span>\n",
       "</pre>\n"
      ],
      "text/plain": [
       "\u001b[1m(\u001b[0m\u001b[1;36m1152\u001b[0m, \u001b[1;36m302\u001b[0m\u001b[1m)\u001b[0m\n"
      ]
     },
     "metadata": {},
     "output_type": "display_data"
    }
   ],
   "source": [
    "df = mice.parcel.df.copy()\n",
    "\n",
    "ids_ctx = df.loc[df['acro'] == 'Isocortex', 'id'].values\n",
    "ids_subctx = df.loc[df['acro'] != 'Isocortex', 'id'].values\n",
    "\n",
    "len(ids_ctx), len(ids_subctx)"
   ]
  },
  {
   "cell_type": "code",
   "execution_count": null,
   "id": "7b2e7780",
   "metadata": {},
   "outputs": [],
   "source": []
  },
  {
   "cell_type": "code",
   "execution_count": 9,
   "id": "e84fe93e",
   "metadata": {},
   "outputs": [
    {
     "data": {
      "text/html": [
       "<pre style=\"white-space:pre;overflow-x:auto;line-height:normal;font-family:Menlo,'DejaVu Sans Mono',consolas,'Courier New',monospace\"><span style=\"color: #008080; text-decoration-color: #008080; font-weight: bold\">1454</span>\n",
       "</pre>\n"
      ],
      "text/plain": [
       "\u001b[1;36m1454\u001b[0m\n"
      ]
     },
     "metadata": {},
     "output_type": "display_data"
    }
   ],
   "source": [
    "len(ids_ctx) + len(ids_subctx)"
   ]
  },
  {
   "cell_type": "code",
   "execution_count": 10,
   "id": "075128db",
   "metadata": {},
   "outputs": [
    {
     "data": {
      "text/html": [
       "<pre style=\"white-space:pre;overflow-x:auto;line-height:normal;font-family:Menlo,'DejaVu Sans Mono',consolas,'Courier New',monospace\"><span style=\"color: #008080; text-decoration-color: #008080; font-weight: bold\">1454</span>\n",
       "</pre>\n"
      ],
      "text/plain": [
       "\u001b[1;36m1454\u001b[0m\n"
      ]
     },
     "metadata": {},
     "output_type": "display_data"
    }
   ],
   "source": [
    "len(unique_idxs(mice.parcel['brain']))"
   ]
  },
  {
   "cell_type": "code",
   "execution_count": null,
   "id": "e3292599",
   "metadata": {},
   "outputs": [],
   "source": []
  },
  {
   "cell_type": "code",
   "execution_count": 31,
   "id": "09085ed8",
   "metadata": {},
   "outputs": [],
   "source": [
    "x2p = mice.parcel['brain']\n",
    "x2p = mwh(x2p == 0, x2p)\n",
    "x2p = x2p[70]\n",
    "\n",
    "for i, ii in enumerate(unique_idxs(x2p)):\n",
    "    x2p[x2p == ii] = i + 1"
   ]
  },
  {
   "cell_type": "code",
   "execution_count": 34,
   "id": "94f06991",
   "metadata": {},
   "outputs": [
    {
     "data": {
      "image/png": "[encoded data removed]"
     },
     "metadata": {},
     "output_type": "display_data"
    }
   ],
   "source": [
    "plt.imshow(x2p, cmap=get_rand_cmap(len(unique_idxs(x2p))));"
   ]
  },
  {
   "cell_type": "code",
   "execution_count": null,
   "id": "97f5f140",
   "metadata": {},
   "outputs": [],
   "source": []
  },
  {
   "cell_type": "code",
   "execution_count": 11,
   "id": "d2e9b579",
   "metadata": {},
   "outputs": [],
   "source": [
    "ids_present = unique_idxs(mice.parcel['brain'])"
   ]
  },
  {
   "cell_type": "code",
   "execution_count": 12,
   "id": "84255461",
   "metadata": {},
   "outputs": [
    {
     "data": {
      "text/html": [
       "<pre style=\"white-space:pre;overflow-x:auto;line-height:normal;font-family:Menlo,'DejaVu Sans Mono',consolas,'Courier New',monospace\"><span style=\"color: #008080; text-decoration-color: #008080; font-weight: bold\">1152</span>\n",
       "</pre>\n"
      ],
      "text/plain": [
       "\u001b[1;36m1152\u001b[0m\n"
      ]
     },
     "metadata": {},
     "output_type": "display_data"
    }
   ],
   "source": [
    "intersection = set(ids_present).intersection(ids_ctx)\n",
    "intersection = sorted(intersection)\n",
    "len(intersection)"
   ]
  },
  {
   "cell_type": "code",
   "execution_count": 13,
   "id": "1de8d68c",
   "metadata": {},
   "outputs": [
    {
     "data": {
      "text/html": [
       "<pre style=\"white-space:pre;overflow-x:auto;line-height:normal;font-family:Menlo,'DejaVu Sans Mono',consolas,'Courier New',monospace\"><span style=\"color: #008080; text-decoration-color: #008080; font-weight: bold\">576.0</span>\n",
       "</pre>\n"
      ],
      "text/plain": [
       "\u001b[1;36m576.0\u001b[0m\n"
      ]
     },
     "metadata": {},
     "output_type": "display_data"
    }
   ],
   "source": [
    "len(intersection) / 2"
   ]
  },
  {
   "cell_type": "code",
   "execution_count": null,
   "id": "16076beb",
   "metadata": {},
   "outputs": [],
   "source": []
  },
  {
   "cell_type": "code",
   "execution_count": 14,
   "id": "5b8feb4f",
   "metadata": {},
   "outputs": [
    {
     "data": {
      "text/html": [
       "<pre style=\"white-space:pre;overflow-x:auto;line-height:normal;font-family:Menlo,'DejaVu Sans Mono',consolas,'Courier New',monospace\"><span style=\"font-weight: bold\">[]</span>\n",
       "</pre>\n"
      ],
      "text/plain": [
       "\u001b[1m[\u001b[0m\u001b[1m]\u001b[0m\n"
      ]
     },
     "metadata": {},
     "output_type": "display_data"
    }
   ],
   "source": [
    "delta = sorted(set(ids_ctx).difference(ids_present))\n",
    "delta"
   ]
  },
  {
   "cell_type": "code",
   "execution_count": null,
   "id": "c8082a55",
   "metadata": {},
   "outputs": [],
   "source": []
  },
  {
   "cell_type": "code",
   "execution_count": 15,
   "id": "6b7eb0d9",
   "metadata": {},
   "outputs": [
    {
     "data": {
      "text/html": [
       "<div>\n",
       "<style scoped>\n",
       "    .dataframe tbody tr th:only-of-type {\n",
       "        vertical-align: middle;\n",
       "    }\n",
       "\n",
       "    .dataframe tbody tr th {\n",
       "        vertical-align: top;\n",
       "    }\n",
       "\n",
       "    .dataframe thead th {\n",
       "        text-align: right;\n",
       "    }\n",
       "</style>\n",
       "<table border=\"1\" class=\"dataframe\">\n",
       "  <thead>\n",
       "    <tr style=\"text-align: right;\">\n",
       "      <th></th>\n",
       "      <th>id</th>\n",
       "      <th>acro</th>\n",
       "      <th>hemis</th>\n",
       "      <th>region</th>\n",
       "      <th>layer</th>\n",
       "    </tr>\n",
       "  </thead>\n",
       "  <tbody>\n",
       "  </tbody>\n",
       "</table>\n",
       "</div>"
      ]
     },
     "execution_count": 15,
     "metadata": {},
     "output_type": "execute_result"
    }
   ],
   "source": [
    "df.loc[df['id'].isin(delta)]"
   ]
  },
  {
   "cell_type": "code",
   "execution_count": null,
   "id": "a11d98ea",
   "metadata": {},
   "outputs": [],
   "source": []
  },
  {
   "cell_type": "code",
   "execution_count": 16,
   "id": "e0c353dc",
   "metadata": {},
   "outputs": [
    {
     "data": {
      "text/html": [
       "<pre style=\"white-space:pre;overflow-x:auto;line-height:normal;font-family:Menlo,'DejaVu Sans Mono',consolas,'Courier New',monospace\"><span style=\"color: #008080; text-decoration-color: #008080; font-weight: bold\">151</span>\n",
       "</pre>\n"
      ],
      "text/plain": [
       "\u001b[1;36m151\u001b[0m\n"
      ]
     },
     "metadata": {},
     "output_type": "display_data"
    }
   ],
   "source": [
    "sum(mice.parcel.fit_meta['subctx_num'].values())"
   ]
  },
  {
   "cell_type": "code",
   "execution_count": 17,
   "id": "04927b38",
   "metadata": {},
   "outputs": [
    {
     "data": {
      "text/html": [
       "<pre style=\"white-space:pre;overflow-x:auto;line-height:normal;font-family:Menlo,'DejaVu Sans Mono',consolas,'Courier New',monospace\"><span style=\"font-weight: bold\">{</span>\n",
       "    <span style=\"color: #008000; text-decoration-color: #008000\">'time_start'</span>: <span style=\"color: #008000; text-decoration-color: #008000\">'2023_08_30,16:21'</span>,\n",
       "    <span style=\"color: #008000; text-decoration-color: #008000\">'ctx_missing'</span>: <span style=\"font-weight: bold\">[]</span>,\n",
       "    <span style=\"color: #008000; text-decoration-color: #008000\">'subctx_num'</span>: <span style=\"font-weight: bold\">{</span>\n",
       "        <span style=\"color: #008000; text-decoration-color: #008000\">'OLF'</span>: <span style=\"color: #008080; text-decoration-color: #008080; font-weight: bold\">22</span>,\n",
       "        <span style=\"color: #008000; text-decoration-color: #008000\">'HIP'</span>: <span style=\"color: #008080; text-decoration-color: #008080; font-weight: bold\">11</span>,\n",
       "        <span style=\"color: #008000; text-decoration-color: #008000\">'RHP'</span>: <span style=\"color: #008080; text-decoration-color: #008080; font-weight: bold\">9</span>,\n",
       "        <span style=\"color: #008000; text-decoration-color: #008000\">'CTXsp'</span>: <span style=\"color: #008080; text-decoration-color: #008080; font-weight: bold\">4</span>,\n",
       "        <span style=\"color: #008000; text-decoration-color: #008000\">'STR'</span>: <span style=\"color: #008080; text-decoration-color: #008080; font-weight: bold\">21</span>,\n",
       "        <span style=\"color: #008000; text-decoration-color: #008000\">'PAL'</span>: <span style=\"color: #008080; text-decoration-color: #008080; font-weight: bold\">4</span>,\n",
       "        <span style=\"color: #008000; text-decoration-color: #008000\">'TH'</span>: <span style=\"color: #008080; text-decoration-color: #008080; font-weight: bold\">9</span>,\n",
       "        <span style=\"color: #008000; text-decoration-color: #008000\">'HY'</span>: <span style=\"color: #008080; text-decoration-color: #008080; font-weight: bold\">7</span>,\n",
       "        <span style=\"color: #008000; text-decoration-color: #008000\">'MB'</span>: <span style=\"color: #008080; text-decoration-color: #008080; font-weight: bold\">17</span>,\n",
       "        <span style=\"color: #008000; text-decoration-color: #008000\">'P'</span>: <span style=\"color: #008080; text-decoration-color: #008080; font-weight: bold\">8</span>,\n",
       "        <span style=\"color: #008000; text-decoration-color: #008000\">'MY'</span>: <span style=\"color: #008080; text-decoration-color: #008080; font-weight: bold\">14</span>,\n",
       "        <span style=\"color: #008000; text-decoration-color: #008000\">'CB'</span>: <span style=\"color: #008080; text-decoration-color: #008080; font-weight: bold\">25</span>\n",
       "    <span style=\"font-weight: bold\">}</span>,\n",
       "    <span style=\"color: #008000; text-decoration-color: #008000\">'subctx_bad'</span>: <span style=\"font-weight: bold\">{</span>\n",
       "        <span style=\"color: #008000; text-decoration-color: #008000\">'OLF'</span>: <span style=\"color: #008080; text-decoration-color: #008080; font-weight: bold\">0</span>,\n",
       "        <span style=\"color: #008000; text-decoration-color: #008000\">'HIP'</span>: <span style=\"color: #008080; text-decoration-color: #008080; font-weight: bold\">0</span>,\n",
       "        <span style=\"color: #008000; text-decoration-color: #008000\">'RHP'</span>: <span style=\"color: #008080; text-decoration-color: #008080; font-weight: bold\">0</span>,\n",
       "        <span style=\"color: #008000; text-decoration-color: #008000\">'CTXsp'</span>: <span style=\"color: #008080; text-decoration-color: #008080; font-weight: bold\">0</span>,\n",
       "        <span style=\"color: #008000; text-decoration-color: #008000\">'STR'</span>: <span style=\"color: #008080; text-decoration-color: #008080; font-weight: bold\">0</span>,\n",
       "        <span style=\"color: #008000; text-decoration-color: #008000\">'PAL'</span>: <span style=\"color: #008080; text-decoration-color: #008080; font-weight: bold\">0</span>,\n",
       "        <span style=\"color: #008000; text-decoration-color: #008000\">'TH'</span>: <span style=\"color: #008080; text-decoration-color: #008080; font-weight: bold\">0</span>,\n",
       "        <span style=\"color: #008000; text-decoration-color: #008000\">'HY'</span>: <span style=\"color: #008080; text-decoration-color: #008080; font-weight: bold\">0</span>,\n",
       "        <span style=\"color: #008000; text-decoration-color: #008000\">'MB'</span>: <span style=\"color: #008080; text-decoration-color: #008080; font-weight: bold\">0</span>,\n",
       "        <span style=\"color: #008000; text-decoration-color: #008000\">'P'</span>: <span style=\"color: #008080; text-decoration-color: #008080; font-weight: bold\">0</span>,\n",
       "        <span style=\"color: #008000; text-decoration-color: #008000\">'MY'</span>: <span style=\"color: #008080; text-decoration-color: #008080; font-weight: bold\">0</span>,\n",
       "        <span style=\"color: #008000; text-decoration-color: #008000\">'CB'</span>: <span style=\"color: #008080; text-decoration-color: #008080; font-weight: bold\">0</span>\n",
       "    <span style=\"font-weight: bold\">}</span>,\n",
       "    <span style=\"color: #008000; text-decoration-color: #008000\">'eroded-radii'</span>: <span style=\"font-weight: bold\">{</span>\n",
       "        <span style=\"color: #008000; text-decoration-color: #008000\">'Isocortex-0'</span>: <span style=\"color: #008080; text-decoration-color: #008080; font-weight: bold\">2.5437873333889813</span>,\n",
       "        <span style=\"color: #008000; text-decoration-color: #008000\">'Isocortex-1'</span>: <span style=\"color: #008080; text-decoration-color: #008080; font-weight: bold\">2.0184682441218627</span>,\n",
       "        <span style=\"color: #008000; text-decoration-color: #008000\">'Isocortex-2'</span>: <span style=\"color: #008080; text-decoration-color: #008080; font-weight: bold\">1.6907271058997049</span>,\n",
       "        <span style=\"color: #008000; text-decoration-color: #008000\">'OLF'</span>: <span style=\"color: #008080; text-decoration-color: #008080; font-weight: bold\">5.023969719347202</span>,\n",
       "        <span style=\"color: #008000; text-decoration-color: #008000\">'HIP'</span>: <span style=\"color: #008080; text-decoration-color: #008080; font-weight: bold\">5.000323632601484</span>,\n",
       "        <span style=\"color: #008000; text-decoration-color: #008000\">'RHP'</span>: <span style=\"color: #008080; text-decoration-color: #008080; font-weight: bold\">4.5227031649749785</span>,\n",
       "        <span style=\"color: #008000; text-decoration-color: #008000\">'CTXsp'</span>: <span style=\"color: #008080; text-decoration-color: #008080; font-weight: bold\">5.184461760557069</span>,\n",
       "        <span style=\"color: #008000; text-decoration-color: #008000\">'STR'</span>: <span style=\"color: #008080; text-decoration-color: #008080; font-weight: bold\">5.4257770479768315</span>,\n",
       "        <span style=\"color: #008000; text-decoration-color: #008000\">'PAL'</span>: <span style=\"color: #008080; text-decoration-color: #008080; font-weight: bold\">5.528560786220536</span>,\n",
       "        <span style=\"color: #008000; text-decoration-color: #008000\">'TH'</span>: <span style=\"color: #008080; text-decoration-color: #008080; font-weight: bold\">5.155314544003471</span>,\n",
       "        <span style=\"color: #008000; text-decoration-color: #008000\">'HY'</span>: <span style=\"color: #008080; text-decoration-color: #008080; font-weight: bold\">5.097162298683239</span>,\n",
       "        <span style=\"color: #008000; text-decoration-color: #008000\">'MB'</span>: <span style=\"color: #008080; text-decoration-color: #008080; font-weight: bold\">4.995083897271183</span>,\n",
       "        <span style=\"color: #008000; text-decoration-color: #008000\">'P'</span>: <span style=\"color: #008080; text-decoration-color: #008080; font-weight: bold\">5.068436919692104</span>,\n",
       "        <span style=\"color: #008000; text-decoration-color: #008000\">'MY'</span>: <span style=\"color: #008080; text-decoration-color: #008080; font-weight: bold\">5.203863232144686</span>,\n",
       "        <span style=\"color: #008000; text-decoration-color: #008000\">'CB'</span>: <span style=\"color: #008080; text-decoration-color: #008080; font-weight: bold\">5.254255254492351</span>\n",
       "    <span style=\"font-weight: bold\">}</span>,\n",
       "    <span style=\"color: #008000; text-decoration-color: #008000\">'time_end'</span>: <span style=\"color: #008000; text-decoration-color: #008000\">'2023_08_30,16:37'</span>\n",
       "<span style=\"font-weight: bold\">}</span>\n",
       "</pre>\n"
      ],
      "text/plain": [
       "\u001b[1m{\u001b[0m\n",
       "    \u001b[32m'time_start'\u001b[0m: \u001b[32m'2023_08_30,16:21'\u001b[0m,\n",
       "    \u001b[32m'ctx_missing'\u001b[0m: \u001b[1m[\u001b[0m\u001b[1m]\u001b[0m,\n",
       "    \u001b[32m'subctx_num'\u001b[0m: \u001b[1m{\u001b[0m\n",
       "        \u001b[32m'OLF'\u001b[0m: \u001b[1;36m22\u001b[0m,\n",
       "        \u001b[32m'HIP'\u001b[0m: \u001b[1;36m11\u001b[0m,\n",
       "        \u001b[32m'RHP'\u001b[0m: \u001b[1;36m9\u001b[0m,\n",
       "        \u001b[32m'CTXsp'\u001b[0m: \u001b[1;36m4\u001b[0m,\n",
       "        \u001b[32m'STR'\u001b[0m: \u001b[1;36m21\u001b[0m,\n",
       "        \u001b[32m'PAL'\u001b[0m: \u001b[1;36m4\u001b[0m,\n",
       "        \u001b[32m'TH'\u001b[0m: \u001b[1;36m9\u001b[0m,\n",
       "        \u001b[32m'HY'\u001b[0m: \u001b[1;36m7\u001b[0m,\n",
       "        \u001b[32m'MB'\u001b[0m: \u001b[1;36m17\u001b[0m,\n",
       "        \u001b[32m'P'\u001b[0m: \u001b[1;36m8\u001b[0m,\n",
       "        \u001b[32m'MY'\u001b[0m: \u001b[1;36m14\u001b[0m,\n",
       "        \u001b[32m'CB'\u001b[0m: \u001b[1;36m25\u001b[0m\n",
       "    \u001b[1m}\u001b[0m,\n",
       "    \u001b[32m'subctx_bad'\u001b[0m: \u001b[1m{\u001b[0m\n",
       "        \u001b[32m'OLF'\u001b[0m: \u001b[1;36m0\u001b[0m,\n",
       "        \u001b[32m'HIP'\u001b[0m: \u001b[1;36m0\u001b[0m,\n",
       "        \u001b[32m'RHP'\u001b[0m: \u001b[1;36m0\u001b[0m,\n",
       "        \u001b[32m'CTXsp'\u001b[0m: \u001b[1;36m0\u001b[0m,\n",
       "        \u001b[32m'STR'\u001b[0m: \u001b[1;36m0\u001b[0m,\n",
       "        \u001b[32m'PAL'\u001b[0m: \u001b[1;36m0\u001b[0m,\n",
       "        \u001b[32m'TH'\u001b[0m: \u001b[1;36m0\u001b[0m,\n",
       "        \u001b[32m'HY'\u001b[0m: \u001b[1;36m0\u001b[0m,\n",
       "        \u001b[32m'MB'\u001b[0m: \u001b[1;36m0\u001b[0m,\n",
       "        \u001b[32m'P'\u001b[0m: \u001b[1;36m0\u001b[0m,\n",
       "        \u001b[32m'MY'\u001b[0m: \u001b[1;36m0\u001b[0m,\n",
       "        \u001b[32m'CB'\u001b[0m: \u001b[1;36m0\u001b[0m\n",
       "    \u001b[1m}\u001b[0m,\n",
       "    \u001b[32m'eroded-radii'\u001b[0m: \u001b[1m{\u001b[0m\n",
       "        \u001b[32m'Isocortex-0'\u001b[0m: \u001b[1;36m2.5437873333889813\u001b[0m,\n",
       "        \u001b[32m'Isocortex-1'\u001b[0m: \u001b[1;36m2.0184682441218627\u001b[0m,\n",
       "        \u001b[32m'Isocortex-2'\u001b[0m: \u001b[1;36m1.6907271058997049\u001b[0m,\n",
       "        \u001b[32m'OLF'\u001b[0m: \u001b[1;36m5.023969719347202\u001b[0m,\n",
       "        \u001b[32m'HIP'\u001b[0m: \u001b[1;36m5.000323632601484\u001b[0m,\n",
       "        \u001b[32m'RHP'\u001b[0m: \u001b[1;36m4.5227031649749785\u001b[0m,\n",
       "        \u001b[32m'CTXsp'\u001b[0m: \u001b[1;36m5.184461760557069\u001b[0m,\n",
       "        \u001b[32m'STR'\u001b[0m: \u001b[1;36m5.4257770479768315\u001b[0m,\n",
       "        \u001b[32m'PAL'\u001b[0m: \u001b[1;36m5.528560786220536\u001b[0m,\n",
       "        \u001b[32m'TH'\u001b[0m: \u001b[1;36m5.155314544003471\u001b[0m,\n",
       "        \u001b[32m'HY'\u001b[0m: \u001b[1;36m5.097162298683239\u001b[0m,\n",
       "        \u001b[32m'MB'\u001b[0m: \u001b[1;36m4.995083897271183\u001b[0m,\n",
       "        \u001b[32m'P'\u001b[0m: \u001b[1;36m5.068436919692104\u001b[0m,\n",
       "        \u001b[32m'MY'\u001b[0m: \u001b[1;36m5.203863232144686\u001b[0m,\n",
       "        \u001b[32m'CB'\u001b[0m: \u001b[1;36m5.254255254492351\u001b[0m\n",
       "    \u001b[1m}\u001b[0m,\n",
       "    \u001b[32m'time_end'\u001b[0m: \u001b[32m'2023_08_30,16:37'\u001b[0m\n",
       "\u001b[1m}\u001b[0m\n"
      ]
     },
     "metadata": {},
     "output_type": "display_data"
    }
   ],
   "source": [
    "mice.parcel.fit_meta"
   ]
  },
  {
   "cell_type": "code",
   "execution_count": null,
   "id": "dc0ec800",
   "metadata": {},
   "outputs": [],
   "source": []
  },
  {
   "cell_type": "markdown",
   "id": "0ababbd1",
   "metadata": {},
   "source": [
    "## Do the masks"
   ]
  },
  {
   "cell_type": "code",
   "execution_count": 2,
   "id": "fbab0fba",
   "metadata": {},
   "outputs": [],
   "source": [
    "from register.register import Register\n",
    "\n",
    "mice = Mice(\n",
    "    cfg=192,\n",
    "    full_load=True,\n",
    "    load_allen=True,\n",
    "    load_parcel=True,\n",
    ")\n",
    "reg = Register(mice)"
   ]
  },
  {
   "cell_type": "code",
   "execution_count": 3,
   "id": "9a0e5855",
   "metadata": {},
   "outputs": [
    {
     "name": "stderr",
     "output_type": "stream",
     "text": [
      "100%|██████████| 10/10 [05:36<00:00, 33.65s/it]\n"
     ]
    }
   ],
   "source": [
    "obj_all = reg.register_anat(\n",
    "    save_results=True,\n",
    "    anchor_ses=2,\n",
    ")"
   ]
  },
  {
   "cell_type": "markdown",
   "id": "165b1bb7",
   "metadata": {},
   "source": [
    "## Next steps"
   ]
  },
  {
   "cell_type": "markdown",
   "id": "ae4a6c25",
   "metadata": {},
   "source": [
    "- Copied masks to Yale server, ran ```./do_xform.sh```\n",
    "- Copied the resulting 2d masks back to my local computer.\n",
    "- Ran ```time ./run_register.sh 192```\n",
    "- Ran ```./run_network.sh 192 3 bold```\n",
    "- Ran ```time ./loop_svinet.sh 192 3 bold p20-sample 7```"
   ]
  },
  {
   "cell_type": "markdown",
   "id": "3b39befc",
   "metadata": {},
   "source": [
    "## TODO: currently waiting for run_register to finish\n",
    "\n",
    "Update: run_register has finished, now time to go to these steps:\n",
    "\n",
    "...continue with nt_bo -> sv_bo -> gr_bo"
   ]
  },
  {
   "cell_type": "code",
   "execution_count": null,
   "id": "f629b3bc",
   "metadata": {},
   "outputs": [],
   "source": []
  },
  {
   "cell_type": "code",
   "execution_count": null,
   "id": "034cd1c8",
   "metadata": {},
   "outputs": [],
   "source": []
  },
  {
   "cell_type": "markdown",
   "id": "23379100",
   "metadata": {},
   "source": [
    "## Quickly check how many ROIs missing BOLD"
   ]
  },
  {
   "cell_type": "code",
   "execution_count": 2,
   "id": "a0c621b9",
   "metadata": {},
   "outputs": [
    {
     "data": {
      "text/html": [
       "<pre style=\"white-space:pre;overflow-x:auto;line-height:normal;font-family:Menlo,'DejaVu Sans Mono',consolas,'Courier New',monospace\"><span style=\"font-weight: bold\">{</span>\n",
       "    <span style=\"color: #008000; text-decoration-color: #008000\">'task'</span>: <span style=\"color: #008000; text-decoration-color: #008000\">'rest'</span>,\n",
       "    <span style=\"color: #008000; text-decoration-color: #008000\">'exclude'</span>: <span style=\"color: #00ff00; text-decoration-color: #00ff00; font-style: italic\">True</span>,\n",
       "    <span style=\"color: #008000; text-decoration-color: #008000\">'runs_only'</span>: <span style=\"color: #00ff00; text-decoration-color: #00ff00; font-style: italic\">True</span>,\n",
       "    <span style=\"color: #008000; text-decoration-color: #008000\">'band_ca2'</span>: <span style=\"font-weight: bold\">(</span><span style=\"color: #008080; text-decoration-color: #008080; font-weight: bold\">0.01</span>, <span style=\"color: #008080; text-decoration-color: #008080; font-weight: bold\">5.0</span><span style=\"font-weight: bold\">)</span>,\n",
       "    <span style=\"color: #008000; text-decoration-color: #008000\">'band_bold'</span>: <span style=\"font-weight: bold\">(</span><span style=\"color: #008080; text-decoration-color: #008080; font-weight: bold\">0.01</span>, <span style=\"color: #008080; text-decoration-color: #008080; font-weight: bold\">0.5</span><span style=\"font-weight: bold\">)</span>,\n",
       "    <span style=\"color: #008000; text-decoration-color: #008000\">'desc_ca2'</span>: <span style=\"color: #008000; text-decoration-color: #008000\">'preproc'</span>,\n",
       "    <span style=\"color: #008000; text-decoration-color: #008000\">'desc_bold'</span>: <span style=\"color: #008000; text-decoration-color: #008000\">'rabies-hp'</span>\n",
       "<span style=\"font-weight: bold\">}</span>\n",
       "</pre>\n"
      ],
      "text/plain": [
       "\u001b[1m{\u001b[0m\n",
       "    \u001b[32m'task'\u001b[0m: \u001b[32m'rest'\u001b[0m,\n",
       "    \u001b[32m'exclude'\u001b[0m: \u001b[3;92mTrue\u001b[0m,\n",
       "    \u001b[32m'runs_only'\u001b[0m: \u001b[3;92mTrue\u001b[0m,\n",
       "    \u001b[32m'band_ca2'\u001b[0m: \u001b[1m(\u001b[0m\u001b[1;36m0.01\u001b[0m, \u001b[1;36m5.0\u001b[0m\u001b[1m)\u001b[0m,\n",
       "    \u001b[32m'band_bold'\u001b[0m: \u001b[1m(\u001b[0m\u001b[1;36m0.01\u001b[0m, \u001b[1;36m0.5\u001b[0m\u001b[1m)\u001b[0m,\n",
       "    \u001b[32m'desc_ca2'\u001b[0m: \u001b[32m'preproc'\u001b[0m,\n",
       "    \u001b[32m'desc_bold'\u001b[0m: \u001b[32m'rabies-hp'\u001b[0m\n",
       "\u001b[1m}\u001b[0m\n"
      ]
     },
     "metadata": {},
     "output_type": "display_data"
    }
   ],
   "source": [
    "mice = Mice(cfg=192)\n",
    "mice.setup_func_data()\n",
    "mice.kws"
   ]
  },
  {
   "cell_type": "code",
   "execution_count": null,
   "id": "e032a9e5",
   "metadata": {},
   "outputs": [],
   "source": []
  },
  {
   "cell_type": "code",
   "execution_count": 3,
   "id": "0ee59a10",
   "metadata": {},
   "outputs": [
    {
     "data": {
      "text/html": [
       "<pre style=\"white-space:pre;overflow-x:auto;line-height:normal;font-family:Menlo,'DejaVu Sans Mono',consolas,'Courier New',monospace\"><span style=\"color: #008080; text-decoration-color: #008080; font-weight: bold\">114</span>\n",
       "</pre>\n"
      ],
      "text/plain": [
       "\u001b[1;36m114\u001b[0m\n"
      ]
     },
     "metadata": {},
     "output_type": "display_data"
    }
   ],
   "source": [
    "len(mice.bold)"
   ]
  },
  {
   "cell_type": "code",
   "execution_count": 4,
   "id": "2936718c",
   "metadata": {
    "scrolled": true
   },
   "outputs": [],
   "source": [
    "bad_all = []\n",
    "for key in mice.bold:\n",
    "    data = Base(\n",
    "        mice,\n",
    "        key=key,\n",
    "        mode='bold-lite',\n",
    "        prep_data=True,\n",
    "    ).data\n",
    "    bad = np.isnan(data).sum(1) > 0\n",
    "    bad_all.append(bad.sum())"
   ]
  },
  {
   "cell_type": "code",
   "execution_count": 18,
   "id": "e92cc65c",
   "metadata": {},
   "outputs": [
    {
     "data": {
      "image/png": "[encoded data removed]"
     },
     "metadata": {},
     "output_type": "display_data"
    }
   ],
   "source": [
    "fig, ax = create_figure(1, 1, (9, 2))\n",
    "sns.histplot(bad_all, bins=np.linspace(0, 16, 17) - 0.5, ax=ax)\n",
    "ax.locator_params(axis='x', nbins=20)\n",
    "ax.set_xlim(left=-0.54)\n",
    "ax.grid()\n",
    "plt.show()"
   ]
  },
  {
   "cell_type": "code",
   "execution_count": null,
   "id": "33db30ab",
   "metadata": {},
   "outputs": [],
   "source": []
  },
  {
   "cell_type": "code",
   "execution_count": null,
   "id": "6d178d59",
   "metadata": {},
   "outputs": [],
   "source": []
  },
  {
   "cell_type": "code",
   "execution_count": null,
   "id": "01118766",
   "metadata": {},
   "outputs": [],
   "source": []
  }
 ],
 "metadata": {
  "kernelspec": {
   "display_name": "Python 3",
   "language": "python",
   "name": "python3"
  },
  "language_info": {
   "codemirror_mode": {
    "name": "ipython",
    "version": 3
   },
   "file_extension": ".py",
   "mimetype": "text/x-python",
   "name": "python",
   "nbconvert_exporter": "python",
   "pygments_lexer": "ipython3",
   "version": "3.8.3"
  }
 },
 "nbformat": 4,
 "nbformat_minor": 5
}
