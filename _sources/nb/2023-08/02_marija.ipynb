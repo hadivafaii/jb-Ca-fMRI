{
 "cells": [
  {
   "cell_type": "markdown",
   "id": "17d50fc5",
   "metadata": {},
   "source": [
    "# (02) Marija\n",
    "\n",
    "**Motivation**: notebook to generate results. <br>"
   ]
  },
  {
   "cell_type": "code",
   "execution_count": 1,
   "id": "98c3a37f",
   "metadata": {},
   "outputs": [],
   "source": [
    "# HIDE CODE\n",
    "\n",
    "## \n",
    "import os, sys\n",
    "from IPython.display import display\n",
    "\n",
    "# Code path + imports\n",
    "code_path = '/home/mm4347/Desktop/multicell/MarijaHadi/_Ca-fMRI-Jul28'\n",
    "sys.path.insert(0, code_path)\n",
    "from analysis.bootstrap import *\n",
    "from utils.render import *\n",
    "\n",
    "# warnings, tqdm, & style\n",
    "warnings.filterwarnings('ignore', category=DeprecationWarning) #\n",
    "from tqdm.notebook import tqdm\n",
    "%matplotlib inline\n",
    "set_style()"
   ]
  },
  {
   "cell_type": "code",
   "execution_count": 2,
   "id": "a31c073f",
   "metadata": {},
   "outputs": [],
   "source": [
    "def get_config(**kwargs):\n",
    "    _cfg, cfg = Config(**kwargs), Config(**kwargs)\n",
    "    _replacement = '/ca2data3/lake_lab_analyses/MarijaHadiAnalysis/Ca-fMRI'\n",
    "    dirs = [\n",
    "        k for k in dir(cfg)\n",
    "        if '_dir' in k and\n",
    "        isinstance(getattr(cfg, k), str)\n",
    "    ]\n",
    "    for item in dirs:\n",
    "        new = getattr(_cfg, item).replace(\n",
    "            _cfg.base_dir, _replacement)\n",
    "        setattr(cfg, item, new)\n",
    "    cfg.svinet_dir = '/ca2data3/lake_lab_analyses/MarijaHadiAnalysis/svinet'\n",
    "    cfg.download_dir, cfg.raw_dir, cfg.tx_dir, cfg.warped_dir = None, None, None, None\n",
    "    cfg._get_all_dirs()\n",
    "    return cfg"
   ]
  },
  {
   "cell_type": "code",
   "execution_count": 3,
   "id": "6f722424",
   "metadata": {
    "scrolled": true,
    "tags": []
   },
   "outputs": [
    {
     "data": {
      "text/plain": [
       "{'base_dir': '/ca2data3/lake_lab_analyses/MarijaHadiAnalysis/Ca-fMRI',\n",
       " 'bold_dir': '/ca2data3/lake_lab_analyses/MarijaHadiAnalysis/Ca-fMRI/processed/norm-global_parcel-columnar_n-512*3/bold',\n",
       " 'ca_dir': '/ca2data3/lake_lab_analyses/MarijaHadiAnalysis/Ca-fMRI/processed/norm-global_parcel-columnar_n-512*3/ca2',\n",
       " 'log_dir': '/ca2data3/lake_lab_analyses/MarijaHadiAnalysis/Ca-fMRI/processed/norm-global_parcel-columnar_n-512*3/log',\n",
       " 'main_dir': '/ca2data3/lake_lab_analyses/MarijaHadiAnalysis/Ca-fMRI/processed/norm-global_parcel-columnar_n-512*3',\n",
       " 'masks_dir': '/ca2data3/lake_lab_analyses/MarijaHadiAnalysis/Ca-fMRI/processed/norm-global_parcel-columnar_n-512*3/masks',\n",
       " 'parcel_dir': '/ca2data3/lake_lab_analyses/MarijaHadiAnalysis/Ca-fMRI/processed/norm-global_parcel-columnar_n-512*3/parcellation',\n",
       " 'processed_dir': '/ca2data3/lake_lab_analyses/MarijaHadiAnalysis/Ca-fMRI/processed',\n",
       " 'results_dir': '/ca2data3/lake_lab_analyses/MarijaHadiAnalysis/Ca-fMRI/processed/norm-global_parcel-columnar_n-512*3/results',\n",
       " 'stim_dir': '/ca2data3/lake_lab_analyses/MarijaHadiAnalysis/Ca-fMRI/stim',\n",
       " 'svinet_dir': '/ca2data3/lake_lab_analyses/MarijaHadiAnalysis/svinet'}"
      ]
     },
     "execution_count": 3,
     "metadata": {},
     "output_type": "execute_result"
    }
   ],
   "source": [
    "cfg = get_config(nn=512,makedirs=False) #512 no of ROIs per hemisphere in cortex \n",
    "cfg.all_dirs"
   ]
  },
  {
   "cell_type": "code",
   "execution_count": null,
   "id": "9d8f5b3a",
   "metadata": {},
   "outputs": [],
   "source": []
  },
  {
   "cell_type": "markdown",
   "id": "616ef7e0",
   "metadata": {},
   "source": [
    "## Fit network"
   ]
  },
  {
   "cell_type": "code",
   "execution_count": 4,
   "id": "b9376808",
   "metadata": {},
   "outputs": [],
   "source": [
    "task = 'rest'\n",
    "bands = [None, (0.01, 0.5)] #frequency bands - none no bandpassed at all the (0.01, 0.5) is frequency band from the paper"
   ]
  },
  {
   "cell_type": "code",
   "execution_count": 5,
   "id": "8bcbac52",
   "metadata": {},
   "outputs": [],
   "source": [
    "mice = Mice(cfg)\n",
    "# props are details that go into network \n",
    "props = {\n",
    "    'mice': mice,\n",
    "    'mode': 'ca2',\n",
    "    'metric': 'pearson',\n",
    "    'percentiles': np.linspace(25, 10, 4).astype(int),\n",
    "    'prep_data': True,\n",
    "    'binarize': False,\n",
    "    'verbose': False,\n",
    "}\n",
    "kws = {\n",
    "    'task': task,\n",
    "    'desc_ca2': 'preproc',\n",
    "    'runs_only': True,\n",
    "    'exclude': True,\n",
    "}"
   ]
  },
  {
   "cell_type": "code",
   "execution_count": 6,
   "id": "e08287e7-4f68-41e8-8954-91c3557d0c56",
   "metadata": {},
   "outputs": [
    {
     "data": {
      "text/plain": [
       "['bold',\n",
       " 'parcellation',\n",
       " 'roi_lookup.npy',\n",
       " 'results',\n",
       " 'ca2',\n",
       " 'log',\n",
       " 'masks',\n",
       " 'combine_meta.npy',\n",
       " 'config.json']"
      ]
     },
     "execution_count": 6,
     "metadata": {},
     "output_type": "execute_result"
    }
   ],
   "source": [
    "#!ls /ca2data3/lake_lab_analyses/MarijaHadiAnalysis/Ca-fMRI/processed/norm-global_parcel-columnar_n-512*3/ca2/\n",
    "os.listdir(mice.cfg.main_dir)"
   ]
  },
  {
   "cell_type": "code",
   "execution_count": null,
   "id": "acc2eb12",
   "metadata": {},
   "outputs": [],
   "source": [
    "#pbar is progress bar: for each frequency band run for each animal a net.fit.network "
   ]
  },
  {
   "cell_type": "code",
   "execution_count": null,
   "id": "9aeb05f7",
   "metadata": {},
   "outputs": [
    {
     "data": {
      "application/vnd.jupyter.widget-view+json": {
       "model_id": "b9c336e4a6a442129655416e3e69b1a1",
       "version_major": 2,
       "version_minor": 0
      },
      "text/plain": [
       "  0%|          | 0/2 [00:00<?, ?it/s]"
      ]
     },
     "metadata": {},
     "output_type": "display_data"
    },
    {
     "data": {
      "application/vnd.jupyter.widget-view+json": {
       "model_id": "",
       "version_major": 2,
       "version_minor": 0
      },
      "text/plain": [
       "  0%|          | 0/112 [00:00<?, ?it/s]"
      ]
     },
     "metadata": {},
     "output_type": "display_data"
    },
    {
     "data": {
      "application/vnd.jupyter.widget-view+json": {
       "model_id": "9a78956c083a410b96d8afe29f0a97ab",
       "version_major": 2,
       "version_minor": 0
      },
      "text/plain": [
       "  0%|          | 0/112 [00:00<?, ?it/s]"
      ]
     },
     "metadata": {},
     "output_type": "display_data"
    }
   ],
   "source": [
    "pbar1 = tqdm(\n",
    "    bands,\n",
    "    leave=True,\n",
    "    total=len(bands),\n",
    ")\n",
    "for b in pbar1:\n",
    "    kws['band_ca2'] = b\n",
    "    mice.setup_func_data(**kws)\n",
    "    pbar2 = tqdm(\n",
    "        mice.get_data_containers('ca2')[0],\n",
    "        leave=False,\n",
    "    )\n",
    "    for key in pbar2:\n",
    "        msg = f\"running net (task-{task}, \"\n",
    "        msg += f\"b-{str(b).replace(' ', '')})\"\n",
    "        msg += f\": {key}\"\n",
    "        pbar1.set_description(msg)\n",
    "        net = Network(key=key, **props)\n",
    "        net.fit_network( force=True, full=False, save=True)\n",
    "        \n",
    "#key = is mouse ID i.e., SLC..."
   ]
  },
  {
   "cell_type": "code",
   "execution_count": null,
   "id": "cda80747",
   "metadata": {},
   "outputs": [],
   "source": []
  },
  {
   "cell_type": "markdown",
   "id": "3dc6ef0d",
   "metadata": {},
   "source": [
    "## Apply SVINET (bash)\n",
    "\n",
    "Description here"
   ]
  },
  {
   "cell_type": "code",
   "execution_count": null,
   "id": "9d8c41fa",
   "metadata": {},
   "outputs": [],
   "source": []
  },
  {
   "cell_type": "code",
   "execution_count": null,
   "id": "f012f2f1",
   "metadata": {},
   "outputs": [],
   "source": []
  },
  {
   "cell_type": "code",
   "execution_count": null,
   "id": "2fee9acd",
   "metadata": {},
   "outputs": [],
   "source": []
  },
  {
   "cell_type": "markdown",
   "id": "c4306e3e",
   "metadata": {},
   "source": [
    "## Fit SVINET"
   ]
  },
  {
   "cell_type": "code",
   "execution_count": null,
   "id": "25094461",
   "metadata": {},
   "outputs": [],
   "source": [
    "num_k = 7\n",
    "perc = 'p15-sample'\n",
    "bands = [None, (0.01, 0.5)]\n",
    "task = 'rest'"
   ]
  },
  {
   "cell_type": "code",
   "execution_count": null,
   "id": "df9a885a",
   "metadata": {},
   "outputs": [],
   "source": [
    "mice = Mice(cfg)\n",
    "props = {\n",
    "    'mice': mice,\n",
    "    'num_k': num_k,\n",
    "    'perc': perc,\n",
    "    'mode': 'ca2',\n",
    "    'metric': 'pearson',\n",
    "    'match_metric': 'euclidean',\n",
    "    'match_using': 'gam',\n",
    "    'graph_type': 'real',\n",
    "    'verbose': False,\n",
    "}\n",
    "kws = {\n",
    "    'task': task,\n",
    "    'desc_ca2': 'preproc',\n",
    "    'runs_only': True,\n",
    "    'exclude': True,\n",
    "}"
   ]
  },
  {
   "cell_type": "code",
   "execution_count": null,
   "id": "9463fccb",
   "metadata": {},
   "outputs": [],
   "source": [
    "pbar1 = tqdm(\n",
    "    bands,\n",
    "    leave=True,\n",
    "    total=len(bands),\n",
    ")\n",
    "for b in pbar1:\n",
    "    kws['band_ca2'] = b\n",
    "    mice.setup_func_data(**kws)\n",
    "    proc, *_ = mice.get_data_containers('ca2')\n",
    "    pbar2 = tqdm(\n",
    "        proc.items(),\n",
    "        leave=False,\n",
    "    )\n",
    "    for key in pbar2:\n",
    "        msg = f\"running net (task-{task}, \"\n",
    "        msg += f\"b-{str(b).replace(' ', '')})\"\n",
    "        msg += f\": {key}\"\n",
    "        pbar1.set_description(msg)\n",
    "        sv = SVINET(key=key, **props)\n",
    "        sv.fit_svinet()"
   ]
  },
  {
   "cell_type": "code",
   "execution_count": null,
   "id": "1b77298a",
   "metadata": {},
   "outputs": [],
   "source": []
  },
  {
   "cell_type": "markdown",
   "id": "09a6b1ae",
   "metadata": {},
   "source": [
    "## Fit Group results"
   ]
  },
  {
   "cell_type": "code",
   "execution_count": null,
   "id": "d5a416ea",
   "metadata": {},
   "outputs": [],
   "source": [
    "num_k = 7\n",
    "perc = 'p15-sample'\n",
    "bands = [None, (0.01, 0.5)]\n",
    "task = 'rest'"
   ]
  },
  {
   "cell_type": "code",
   "execution_count": null,
   "id": "2add51ef",
   "metadata": {},
   "outputs": [],
   "source": [
    "mice = Mice(cfg)\n",
    "props = {\n",
    "    'mice': mice,\n",
    "    'num_k': num_k,\n",
    "    'perc': perc,\n",
    "    'mode': 'ca2',\n",
    "    'metric': 'pearson',\n",
    "    'sv_props': {\n",
    "        'match_metric': 'euclidean',\n",
    "        'match_using': 'gam'},\n",
    "    'graph_type': 'real',\n",
    "    'dist_metric': 'cosine',\n",
    "    'ordering': 'infer',\n",
    "    'verbose': False,\n",
    "}\n",
    "kws = {\n",
    "    'task': task,\n",
    "    'desc_ca2': 'preproc',\n",
    "    'runs_only': True,\n",
    "    'exclude': True,\n",
    "}"
   ]
  },
  {
   "cell_type": "code",
   "execution_count": null,
   "id": "eb82bbd4",
   "metadata": {},
   "outputs": [],
   "source": [
    "pbar = tqdm(\n",
    "    bands,\n",
    "    position=0,\n",
    "    leave=True,\n",
    "    dynamic_ncols=True,\n",
    "    total=len(bands),\n",
    ")\n",
    "for b in pbar:\n",
    "    msg = f\"running group (task-{task}, \"\n",
    "    msg += f\"b-{str(b).replace(' ', '')}, kk-{kk})\"\n",
    "    pbar.set_description(msg)\n",
    "    \n",
    "    mice.setup_func_data(band_ca2=b)\n",
    "    gr = Group(**props)\n",
    "    if gr.svinets_exist():\n",
    "        gr.fit_group(force=False)"
   ]
  },
  {
   "cell_type": "code",
   "execution_count": null,
   "id": "08eff1a6",
   "metadata": {},
   "outputs": [],
   "source": []
  },
  {
   "cell_type": "code",
   "execution_count": null,
   "id": "14fda834",
   "metadata": {},
   "outputs": [],
   "source": []
  },
  {
   "cell_type": "code",
   "execution_count": null,
   "id": "d006a6ba",
   "metadata": {},
   "outputs": [],
   "source": []
  },
  {
   "cell_type": "markdown",
   "id": "586b4b28",
   "metadata": {},
   "source": [
    "## Plot results"
   ]
  },
  {
   "cell_type": "code",
   "execution_count": null,
   "id": "cae786f4",
   "metadata": {},
   "outputs": [],
   "source": []
  },
  {
   "cell_type": "code",
   "execution_count": null,
   "id": "47d69db9",
   "metadata": {},
   "outputs": [],
   "source": []
  },
  {
   "cell_type": "code",
   "execution_count": null,
   "id": "e28b495e",
   "metadata": {},
   "outputs": [],
   "source": []
  },
  {
   "cell_type": "code",
   "execution_count": null,
   "id": "abc9c2da",
   "metadata": {},
   "outputs": [],
   "source": []
  }
 ],
 "metadata": {
  "kernelspec": {
   "display_name": "Python 3",
   "language": "python",
   "name": "python3"
  },
  "language_info": {
   "codemirror_mode": {
    "name": "ipython",
    "version": 3
   },
   "file_extension": ".py",
   "mimetype": "text/x-python",
   "name": "python",
   "nbconvert_exporter": "python",
   "pygments_lexer": "ipython3",
   "version": "3.8.3"
  }
 },
 "nbformat": 4,
 "nbformat_minor": 5
}
