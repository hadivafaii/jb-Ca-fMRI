{
 "cells": [
  {
   "cell_type": "markdown",
   "id": "792db3af",
   "metadata": {},
   "source": [
    "# Feb 25th, 2022 (ROI plots)\n",
    "\n",
    "**Motivation**: ROIs, top, flat, coverage, etc.  <br>"
   ]
  },
  {
   "cell_type": "code",
   "execution_count": 1,
   "id": "d80d7f14",
   "metadata": {
    "tags": [
     "hide-input"
    ]
   },
   "outputs": [],
   "source": [
    "# HIDE CODE\n",
    "\n",
    "\n",
    "import os\n",
    "import sys\n",
    "import nibabel as nib\n",
    "import networkx as nx\n",
    "from time import time\n",
    "from pprint import pprint\n",
    "from copy import deepcopy as dc\n",
    "from os.path import join as pjoin\n",
    "from myterial import orange, blue_grey\n",
    "from IPython.display import display, IFrame, HTML\n",
    "from matplotlib.colors import rgb2hex, to_rgb\n",
    "import matplotlib.pyplot as plt\n",
    "import seaborn as sns\n",
    "\n",
    "# set style & no interpolalation\n",
    "import matplotlib\n",
    "matplotlib.rcParams['image.interpolation'] = 'none'\n",
    "sns.set_style('whitegrid')\n",
    "%matplotlib inline\n",
    "\n",
    "# tmp & extras dir\n",
    "git_dir = pjoin(os.environ['HOME'], 'Dropbox/git')\n",
    "tmp_dir = pjoin(git_dir, 'jb-Ca-fMRI/tmp')\n",
    "extras_dir = pjoin(git_dir, 'jb-Ca-fMRI/_extras')\n",
    "lfr_dir = pjoin(os.environ['HOME'], 'Documents/workspaces/lfr/binary_overlapping')\n",
    "\n",
    "\n",
    "# GitHub\n",
    "sys.path.insert(0, pjoin(git_dir, '_Ca-fMRI'))\n",
    "from register.atlas import make_tree_graph\n",
    "from register.parcellation import Parcellation\n",
    "from analysis.hierarchical import Hierarchical\n",
    "from analysis.fourier import *\n",
    "from analysis.bootstrap import *\n",
    "from analysis.svinet import *\n",
    "from analysis.group import *\n",
    "from analysis.lfr import *\n",
    "from utils.render import *\n",
    "from utils.plotting import *\n",
    "from model.mouse import Mice\n",
    "from model.configuration import Config\n",
    "\n",
    "# warnings\n",
    "import warnings\n",
    "warnings.filterwarnings('ignore', category=DeprecationWarning)"
   ]
  },
  {
   "cell_type": "markdown",
   "id": "023e2899",
   "metadata": {},
   "source": [
    "## Fig dir"
   ]
  },
  {
   "cell_type": "code",
   "execution_count": 2,
   "id": "7a4f1fac",
   "metadata": {},
   "outputs": [],
   "source": [
    "fig_dir = pjoin(tmp_dir, 'fig_25th')\n",
    "os.makedirs(fig_dir, exist_ok=True)"
   ]
  },
  {
   "cell_type": "markdown",
   "id": "e590a2ac",
   "metadata": {},
   "source": [
    "## Prepare"
   ]
  },
  {
   "cell_type": "code",
   "execution_count": 3,
   "id": "9ff699a3",
   "metadata": {},
   "outputs": [],
   "source": [
    "mice = Mice((128, 0, 100))\n",
    "mice.setup_func_data('rest')\n",
    "\n",
    "mako = sns.color_palette('mako', as_cmap=True)\n",
    "rocket = sns.color_palette('rocket', as_cmap=True)\n",
    "pal = {'ca2': mako(0.6), 'bold-lite': rocket(0.6)}\n",
    "\n",
    "num_k, perc = 5, 10\n",
    "props_base = {\n",
    "    'perc': f'p{perc}-sample',\n",
    "    'num_k': num_k,\n",
    "    'mice': mice,\n",
    "    'task': 'rest',\n",
    "    'metric': 'pearson',\n",
    "    'match_using': 'gam',\n",
    "    'match_metric': 'euclidean',\n",
    "    'graph_type': 'real',\n",
    "    'verbose': False,\n",
    "}\n",
    "props_ca = {'mode': 'ca2', **props_base}\n",
    "props_bold = {'mode': 'bold-lite', **props_base}"
   ]
  },
  {
   "cell_type": "code",
   "execution_count": 4,
   "id": "5e34f5ea",
   "metadata": {},
   "outputs": [
    {
     "data": {
      "text/html": [
       "<pre style=\"white-space:pre;overflow-x:auto;line-height:normal;font-family:Menlo,'DejaVu Sans Mono',consolas,'Courier New',monospace\"><span style=\"font-weight: bold\">[</span><span style=\"color: #008080; text-decoration-color: #008080; font-weight: bold\">0</span>, <span style=\"color: #008080; text-decoration-color: #008080; font-weight: bold\">1</span>, <span style=\"color: #008080; text-decoration-color: #008080; font-weight: bold\">2</span>, <span style=\"color: #008080; text-decoration-color: #008080; font-weight: bold\">3</span>, <span style=\"color: #008080; text-decoration-color: #008080; font-weight: bold\">4</span><span style=\"font-weight: bold\">]</span>\n",
       "</pre>\n"
      ],
      "text/plain": [
       "\u001b[1m[\u001b[0m\u001b[1;36m0\u001b[0m, \u001b[1;36m1\u001b[0m, \u001b[1;36m2\u001b[0m, \u001b[1;36m3\u001b[0m, \u001b[1;36m4\u001b[0m\u001b[1m]\u001b[0m\n"
      ]
     },
     "metadata": {},
     "output_type": "display_data"
    }
   ],
   "source": [
    "gr_ca = Group(**props_ca).fit_group()\n",
    "gr_bold = Group(**props_bold).fit_group()\n",
    "\n",
    "sim = dist2sim(sp_dist.cdist(\n",
    "    XA=gr_bold.grp_pi,\n",
    "    XB=gr_ca.grp_pi,\n",
    "    metric='cosine',\n",
    "))\n",
    "mapping = find_best_match(sim)\n",
    "ids = list(mapping.values())\n",
    "\n",
    "gr_bold.pi = gr_bold.grp_pi\n",
    "gr_ca.pi = gr_ca.grp_pi[ids]\n",
    "\n",
    "proj_bold = gr_bold.project_vec()\n",
    "proj_ca = gr_ca.project_vec()\n",
    "\n",
    "ids"
   ]
  },
  {
   "cell_type": "code",
   "execution_count": null,
   "id": "ebc3f030",
   "metadata": {},
   "outputs": [],
   "source": []
  },
  {
   "cell_type": "code",
   "execution_count": null,
   "id": "bc3b2c3a",
   "metadata": {},
   "outputs": [],
   "source": []
  },
  {
   "cell_type": "markdown",
   "id": "2b3a467d",
   "metadata": {},
   "source": [
    "## Optical"
   ]
  },
  {
   "cell_type": "code",
   "execution_count": 5,
   "id": "f71fe94b",
   "metadata": {},
   "outputs": [],
   "source": [
    "from register.register import reset_ants_img"
   ]
  },
  {
   "cell_type": "code",
   "execution_count": 6,
   "id": "19f0c557",
   "metadata": {},
   "outputs": [],
   "source": [
    "mice = Mice(128, load_allen=True)\n",
    "mice.setup_anat_data()"
   ]
  },
  {
   "cell_type": "code",
   "execution_count": 134,
   "id": "54c5ecc0",
   "metadata": {},
   "outputs": [],
   "source": [
    "key = 'sub-SLC08_ses-2'\n",
    "\n",
    "roi_2d = f\"{key}_space-indiv2d_cortex.nii.gz\"\n",
    "roi_2d = pjoin(mice.cfg.masks_dir, roi_2d)\n",
    "roi_2d = ants.image_read(roi_2d, pixeltype='unsigned int')\n",
    "roi_2d = reset_ants_img(\n",
    "    img=roi_2d.numpy().squeeze(),\n",
    "    spacing=roi_2d.spacing[:2],\n",
    "    origin=0, use_um=False,\n",
    ")\n",
    "\n",
    "ref = mice.ref[key].load_ants('float')\n",
    "ref = reset_ants_img(\n",
    "    img=ref.numpy().squeeze(),\n",
    "    spacing=ref.spacing[:2],\n",
    "    origin=0, use_um=False,\n",
    ")\n",
    "mask = mice.mask2d[key].load_ants('unsigned int')\n",
    "\n",
    "roi_2d = ants.resample_image_to_target(\n",
    "    image=roi_2d, target=mask,\n",
    "    interp_type='genericLabel',\n",
    ")\n",
    "ref = ants.resample_image_to_target(\n",
    "    image=ref, target=mask,\n",
    "    interp_type='linear',\n",
    ")\n",
    "roi_2d *= mask\n",
    "ref *= mask\n",
    "\n",
    "mask = mask.numpy()\n",
    "roi_2d = roi_2d.numpy()\n",
    "ref = ref.numpy()"
   ]
  },
  {
   "cell_type": "code",
   "execution_count": null,
   "id": "40561812",
   "metadata": {},
   "outputs": [],
   "source": []
  },
  {
   "cell_type": "code",
   "execution_count": 135,
   "id": "53568bbd",
   "metadata": {},
   "outputs": [],
   "source": [
    "regions_here = roi_2d[roi_2d.nonzero()]\n",
    "regions_here = np.unique(regions_here)\n",
    "hcl = mice.parcel.decode(regions_here)\n",
    "regions_here_r = regions_here[hcl[:, 0] == 2]\n",
    "\n",
    "for r in regions_here:\n",
    "    hh, cc, ll = mice.parcel.decode(r).ravel()\n",
    "    if ll == 1:\n",
    "        roi_2d[roi_2d == r] = mice.parcel.encode(f\"{hh}-{cc}-0\")"
   ]
  },
  {
   "cell_type": "code",
   "execution_count": 136,
   "id": "97407ab2",
   "metadata": {},
   "outputs": [],
   "source": [
    "roi_tr, m_tr, ref_tr = filter_boundaries([roi_2d, mask, ref], mask)"
   ]
  },
  {
   "cell_type": "code",
   "execution_count": 137,
   "id": "ac490831",
   "metadata": {},
   "outputs": [
    {
     "data": {
      "image/png": "[encoded data removed]"
     },
     "metadata": {},
     "output_type": "display_data"
    }
   ],
   "source": [
    "fig, ax = create_figure()\n",
    "\n",
    "x2p = np.ma.masked_where(m_tr == 0, ref_tr)\n",
    "plt.imshow(x2p, cmap='Greys_r')\n",
    "\n",
    "x2p = np.ma.masked_where(~np.isin(roi_tr, regions_here_r), roi_tr)\n",
    "plt.imshow(x2p, cmap='Spectral_r', interpolation='none', alpha=0.9)\n",
    "\n",
    "remove_ticks(ax)\n",
    "\n",
    "name = f'ROI-indiv2d'\n",
    "figname = f\"{name}.pdf\"\n",
    "fig.savefig(pjoin(fig_dir, figname), bbox_inches='tight')\n",
    "for dpi in [100, 300, 600]:\n",
    "    figname = f\"{name}_dpi{dpi}.png\"\n",
    "    fig.savefig(pjoin(fig_dir, figname), dpi=dpi, bbox_inches='tight', transparent=True)\n",
    "\n",
    "plt.show()"
   ]
  },
  {
   "cell_type": "code",
   "execution_count": null,
   "id": "ef658cee",
   "metadata": {},
   "outputs": [],
   "source": []
  },
  {
   "cell_type": "code",
   "execution_count": 8,
   "id": "f0f4ca1e",
   "metadata": {},
   "outputs": [],
   "source": [
    "key = 'sub-SLC08_ses-2'"
   ]
  },
  {
   "cell_type": "code",
   "execution_count": 9,
   "id": "2ac3d531",
   "metadata": {},
   "outputs": [],
   "source": [
    "roi_3d = f\"{key}_space-indiv3d_cortex.nii.gz\"\n",
    "roi_3d = pjoin(mice.cfg.masks_dir, roi_3d)\n",
    "roi_3d = ants.image_read(roi_3d, pixeltype='unsigned int')\n",
    "roi_3d = roi_3d.numpy()"
   ]
  },
  {
   "cell_type": "code",
   "execution_count": null,
   "id": "d2d13728",
   "metadata": {},
   "outputs": [],
   "source": []
  },
  {
   "cell_type": "code",
   "execution_count": 10,
   "id": "90e3cee4",
   "metadata": {},
   "outputs": [
    {
     "data": {
      "text/html": [
       "<pre style=\"white-space:pre;overflow-x:auto;line-height:normal;font-family:Menlo,'DejaVu Sans Mono',consolas,'Courier New',monospace\"><span style=\"font-weight: bold\">(</span><span style=\"color: #008080; text-decoration-color: #008080; font-weight: bold\">758</span>, <span style=\"color: #008080; text-decoration-color: #008080; font-weight: bold\">255</span><span style=\"font-weight: bold\">)</span>\n",
       "</pre>\n"
      ],
      "text/plain": [
       "\u001b[1m(\u001b[0m\u001b[1;36m758\u001b[0m, \u001b[1;36m255\u001b[0m\u001b[1m)\u001b[0m\n"
      ]
     },
     "metadata": {},
     "output_type": "display_data"
    }
   ],
   "source": [
    "regions_included = roi_3d[roi_3d.nonzero()]\n",
    "regions_included = np.unique(regions_included)\n",
    "hcl = mice.parcel.decode(regions_included)\n",
    "regions_included_surface = regions_included[hcl[:, 2] == 0]\n",
    "\n",
    "len(regions_included), len(regions_included_surface)"
   ]
  },
  {
   "cell_type": "code",
   "execution_count": 11,
   "id": "d5689781",
   "metadata": {},
   "outputs": [],
   "source": [
    "roi_3d[~np.isin(roi_3d, regions_included_surface)] = 0"
   ]
  },
  {
   "cell_type": "code",
   "execution_count": null,
   "id": "adc3dc19",
   "metadata": {},
   "outputs": [],
   "source": []
  },
  {
   "cell_type": "code",
   "execution_count": 12,
   "id": "01139981",
   "metadata": {},
   "outputs": [],
   "source": [
    "m3d = mice.mask3d[key].load_ants().numpy() \n",
    "t1w = mice.T1w[key].load_ants().numpy()"
   ]
  },
  {
   "cell_type": "code",
   "execution_count": 74,
   "id": "29ea279d",
   "metadata": {},
   "outputs": [
    {
     "data": {
      "image/png": "[encoded data removed]"
     },
     "metadata": {},
     "output_type": "display_data"
    }
   ],
   "source": [
    "jj = 45\n",
    "\n",
    "x2p = roi_3d[..., jj].T.copy()\n",
    "x2p_rename = np.zeros(x2p.shape)\n",
    "\n",
    "for i, r in enumerate(np.unique(x2p[x2p.nonzero()])):\n",
    "    x2p_rename[x2p == r] = i + 1\n",
    "    \n",
    "_m3d = m3d[..., jj].T\n",
    "_t1w = t1w[..., jj].T\n",
    "\n",
    "_roi3d, _m3d, _t1w = filter_boundaries([x2p_rename, _m3d, _t1w], _m3d) \n",
    "\n",
    "fig, ax = create_figure()\n",
    "\n",
    "x2p = np.ma.masked_where(_m3d == 0, _t1w)\n",
    "ax.imshow(_t1w, cmap='Greys_r')\n",
    "x2p = np.ma.masked_where(_roi3d == 0, _roi3d)\n",
    "ax.imshow(x2p, cmap='Spectral_r')\n",
    "remove_ticks(ax)\n",
    "\n",
    "name = f'ROI-indiv3d'\n",
    "figname = f\"{name}.pdf\"\n",
    "fig.savefig(pjoin(fig_dir, figname), bbox_inches='tight')\n",
    "for dpi in [100, 300, 600]:\n",
    "    figname = f\"{name}_dpi{dpi}.png\"\n",
    "    fig.savefig(pjoin(fig_dir, figname), dpi=dpi, bbox_inches='tight', transparent=True)\n",
    "\n",
    "\n",
    "plt.show()"
   ]
  },
  {
   "cell_type": "code",
   "execution_count": null,
   "id": "4833b432",
   "metadata": {},
   "outputs": [],
   "source": []
  },
  {
   "cell_type": "code",
   "execution_count": 86,
   "id": "653328a9",
   "metadata": {},
   "outputs": [
    {
     "data": {
      "image/png": "[encoded data removed]"
     },
     "metadata": {},
     "output_type": "display_data"
    }
   ],
   "source": [
    "jj = 39\n",
    "_roi3d, _m3d, _t1w = filter_boundaries([roi_3d[jj], m3d[jj], t1w[jj]], m3d[jj])\n",
    "\n",
    "fig, ax = create_figure(figsize=(5, 3))\n",
    "\n",
    "ax.imshow(_t1w, cmap='Greys_r')\n",
    "\n",
    "x2p = np.ma.masked_where(~np.isin(_roi3d, regions_included_surface), _roi3d)\n",
    "ax.imshow(x2p, cmap='Spectral_r')\n",
    "remove_ticks(ax)\n",
    "\n",
    "name = f'ROI-indiv3d-sag'\n",
    "figname = f\"{name}.pdf\"\n",
    "fig.savefig(pjoin(fig_dir, figname), bbox_inches='tight')\n",
    "for dpi in [100, 300, 600]:\n",
    "    figname = f\"{name}_dpi{dpi}.png\"\n",
    "    fig.savefig(pjoin(fig_dir, figname), dpi=dpi, bbox_inches='tight', transparent=True)\n",
    "    \n",
    "plt.show()"
   ]
  },
  {
   "cell_type": "code",
   "execution_count": null,
   "id": "b856be23",
   "metadata": {},
   "outputs": [],
   "source": []
  },
  {
   "cell_type": "code",
   "execution_count": null,
   "id": "39121bc2",
   "metadata": {},
   "outputs": [],
   "source": []
  },
  {
   "cell_type": "code",
   "execution_count": null,
   "id": "b8191f05",
   "metadata": {},
   "outputs": [],
   "source": []
  },
  {
   "cell_type": "code",
   "execution_count": null,
   "id": "1aa05e4d",
   "metadata": {},
   "outputs": [],
   "source": []
  },
  {
   "cell_type": "code",
   "execution_count": 194,
   "id": "65fb3800",
   "metadata": {},
   "outputs": [
    {
     "data": {
      "text/html": [
       "<pre style=\"white-space:pre;overflow-x:auto;line-height:normal;font-family:Menlo,'DejaVu Sans Mono',consolas,'Courier New',monospace\"><span style=\"font-weight: bold\">&lt;</span><span style=\"color: #ff00ff; text-decoration-color: #ff00ff; font-weight: bold\">matplotlib.image.AxesImage</span><span style=\"color: #000000; text-decoration-color: #000000\"> object at </span><span style=\"color: #008080; text-decoration-color: #008080; font-weight: bold\">0x7f200ecb55b0</span><span style=\"font-weight: bold\">&gt;</span>\n",
       "</pre>\n"
      ],
      "text/plain": [
       "\u001b[1m<\u001b[0m\u001b[1;95mmatplotlib.image.AxesImage\u001b[0m\u001b[39m object at \u001b[0m\u001b[1;36m0x7f200ecb55b0\u001b[0m\u001b[1m>\u001b[0m\n"
      ]
     },
     "metadata": {},
     "output_type": "display_data"
    },
    {
     "data": {
      "image/png": "[encoded data removed]"
     },
     "metadata": {},
     "output_type": "display_data"
    }
   ],
   "source": [
    "\n",
    "x2p = roi_3d[:, 7].copy()\n",
    "x2p_rename = np.zeros(x2p.shape)\n",
    "\n",
    "for i, r in enumerate(np.unique(x2p[x2p.nonzero()])):\n",
    "    x2p_rename[x2p == r] = i + 1\n",
    "plt.imshow(x2p_rename, cmap='Spectral_r')"
   ]
  },
  {
   "cell_type": "code",
   "execution_count": null,
   "id": "fc79a080",
   "metadata": {},
   "outputs": [],
   "source": []
  },
  {
   "cell_type": "code",
   "execution_count": null,
   "id": "2af44b81",
   "metadata": {},
   "outputs": [],
   "source": []
  },
  {
   "cell_type": "code",
   "execution_count": 220,
   "id": "2020f49a",
   "metadata": {},
   "outputs": [],
   "source": [
    "from register.register import Register"
   ]
  },
  {
   "cell_type": "code",
   "execution_count": 221,
   "id": "4c421901",
   "metadata": {},
   "outputs": [],
   "source": [
    "reg = Register(mice)\n",
    "reg.set_mode('ca2')"
   ]
  },
  {
   "cell_type": "code",
   "execution_count": 222,
   "id": "6b5c00da",
   "metadata": {},
   "outputs": [
    {
     "data": {
      "text/html": [
       "<pre style=\"white-space:pre;overflow-x:auto;line-height:normal;font-family:Menlo,'DejaVu Sans Mono',consolas,'Courier New',monospace\">Name: cortex . . . a total of: <span style=\"color: #008080; text-decoration-color: #008080; font-weight: bold\">174</span> regions accepted, <span style=\"color: #008080; text-decoration-color: #008080; font-weight: bold\">594</span> regions rejected.\n",
       "accept ratio: <span style=\"color: #008080; text-decoration-color: #008080; font-weight: bold\">22.66</span> %, reject ratio: <span style=\"color: #008080; text-decoration-color: #008080; font-weight: bold\">77.34</span> %, using a presence threshold of <span style=\"color: #008080; text-decoration-color: #008080; font-weight: bold\">10.0</span> %\n",
       "\n",
       "\n",
       "</pre>\n"
      ],
      "text/plain": [
       "Name: cortex . . . a total of: \u001b[1;36m174\u001b[0m regions accepted, \u001b[1;36m594\u001b[0m regions rejected.\n",
       "accept ratio: \u001b[1;36m22.66\u001b[0m %, reject ratio: \u001b[1;36m77.34\u001b[0m %, using a presence threshold of \u001b[1;36m10.0\u001b[0m %\n",
       "\n",
       "\n"
      ]
     },
     "metadata": {},
     "output_type": "display_data"
    }
   ],
   "source": [
    "output = reg.get_accepted_regions()"
   ]
  },
  {
   "cell_type": "code",
   "execution_count": 223,
   "id": "963b9b7d",
   "metadata": {},
   "outputs": [
    {
     "data": {
      "text/html": [
       "<pre style=\"white-space:pre;overflow-x:auto;line-height:normal;font-family:Menlo,'DejaVu Sans Mono',consolas,'Courier New',monospace\"><span style=\"font-weight: bold\">[</span><span style=\"color: #008000; text-decoration-color: #008000\">'df'</span>, <span style=\"color: #008000; text-decoration-color: #008000\">'cortex'</span>, <span style=\"color: #008000; text-decoration-color: #008000\">'subcortex'</span><span style=\"font-weight: bold\">]</span>\n",
       "</pre>\n"
      ],
      "text/plain": [
       "\u001b[1m[\u001b[0m\u001b[32m'df'\u001b[0m, \u001b[32m'cortex'\u001b[0m, \u001b[32m'subcortex'\u001b[0m\u001b[1m]\u001b[0m\n"
      ]
     },
     "metadata": {},
     "output_type": "display_data"
    }
   ],
   "source": [
    "list(output)"
   ]
  },
  {
   "cell_type": "code",
   "execution_count": null,
   "id": "f835b6ca",
   "metadata": {},
   "outputs": [],
   "source": []
  },
  {
   "cell_type": "code",
   "execution_count": 227,
   "id": "066a23d7",
   "metadata": {},
   "outputs": [],
   "source": [
    "freq = output['cortex']['freq']"
   ]
  },
  {
   "cell_type": "code",
   "execution_count": null,
   "id": "25c1fa1c",
   "metadata": {},
   "outputs": [],
   "source": []
  },
  {
   "cell_type": "code",
   "execution_count": 231,
   "id": "47840bdf",
   "metadata": {},
   "outputs": [],
   "source": [
    "top, flat = gr_ca.load_top_flat()\n",
    "\n",
    "# load parcel flatt & top\n",
    "parcel_flat = 'parcel2d-flat_10um.nii.gz'\n",
    "parcel_flat = pjoin(mice.cfg.parcel_dir, parcel_flat)\n",
    "parcel_flat = ants.image_read(parcel_flat).numpy()\n",
    "\n",
    "parcel_top = 'parcel2d-top_10um.nii.gz'\n",
    "parcel_top = pjoin(mice.cfg.parcel_dir, parcel_top)\n",
    "parcel_top = ants.image_read(parcel_top).numpy()"
   ]
  },
  {
   "cell_type": "code",
   "execution_count": null,
   "id": "52feaa00",
   "metadata": {},
   "outputs": [],
   "source": []
  },
  {
   "cell_type": "code",
   "execution_count": 230,
   "id": "0c9a2164",
   "metadata": {},
   "outputs": [
    {
     "data": {
      "text/html": [
       "<pre style=\"white-space:pre;overflow-x:auto;line-height:normal;font-family:Menlo,'DejaVu Sans Mono',consolas,'Courier New',monospace\"><span style=\"font-weight: bold\">&lt;</span><span style=\"color: #ff00ff; text-decoration-color: #ff00ff; font-weight: bold\">matplotlib.image.AxesImage</span><span style=\"color: #000000; text-decoration-color: #000000\"> object at </span><span style=\"color: #008080; text-decoration-color: #008080; font-weight: bold\">0x7f200c95f460</span><span style=\"font-weight: bold\">&gt;</span>\n",
       "</pre>\n"
      ],
      "text/plain": [
       "\u001b[1m<\u001b[0m\u001b[1;95mmatplotlib.image.AxesImage\u001b[0m\u001b[39m object at \u001b[0m\u001b[1;36m0x7f200c95f460\u001b[0m\u001b[1m>\u001b[0m\n"
      ]
     },
     "metadata": {},
     "output_type": "display_data"
    },
    {
     "data": {
      "image/png": "[encoded data removed]"
     },
     "metadata": {},
     "output_type": "display_data"
    }
   ],
   "source": [
    "plt.imshow(top)"
   ]
  },
  {
   "cell_type": "code",
   "execution_count": null,
   "id": "57857a72",
   "metadata": {},
   "outputs": [],
   "source": []
  },
  {
   "cell_type": "code",
   "execution_count": 242,
   "id": "b889a0d3",
   "metadata": {},
   "outputs": [],
   "source": [
    "freq_ctx = np.zeros(top.shape, dtype=float)\n",
    "for r, f in freq.items():\n",
    "    m = parcel_top == r\n",
    "    if not m.sum():\n",
    "        continue\n",
    "    freq_ctx[m] = f\n",
    "    \n",
    "freq_ctx *= 100"
   ]
  },
  {
   "cell_type": "code",
   "execution_count": null,
   "id": "52579772",
   "metadata": {},
   "outputs": [],
   "source": []
  },
  {
   "cell_type": "code",
   "execution_count": 244,
   "id": "c4d2237c",
   "metadata": {},
   "outputs": [],
   "source": [
    "f_tr, t_tr = filter_boundaries([freq_ctx, top], top.astype(bool))"
   ]
  },
  {
   "cell_type": "code",
   "execution_count": 252,
   "id": "53705309",
   "metadata": {},
   "outputs": [
    {
     "data": {
      "image/png": "[encoded data removed]"
     },
     "metadata": {},
     "output_type": "display_data"
    }
   ],
   "source": [
    "fig, ax = create_figure()\n",
    "\n",
    "x2p = np.ma.masked_where(t_tr == 0, t_tr)\n",
    "plt.imshow(x2p)\n",
    "\n",
    "x2p = np.ma.masked_where(t_tr == 0, f_tr)\n",
    "plt.imshow(x2p, cmap='nipy_spectral')\n",
    "plt.colorbar()\n",
    "\n",
    "remove_ticks(ax)\n",
    "\n",
    "name = f'coverage-top'\n",
    "figname = f\"{name}.pdf\"\n",
    "fig.savefig(pjoin(fig_dir, figname), bbox_inches='tight')\n",
    "for dpi in [100, 300, 600]:\n",
    "    figname = f\"{name}_dpi{dpi}.png\"\n",
    "    fig.savefig(pjoin(fig_dir, figname), dpi=dpi, bbox_inches='tight', transparent=True)\n",
    "\n",
    "plt.show()"
   ]
  },
  {
   "cell_type": "code",
   "execution_count": null,
   "id": "73077bba",
   "metadata": {},
   "outputs": [],
   "source": []
  },
  {
   "cell_type": "code",
   "execution_count": null,
   "id": "79f1a65d",
   "metadata": {},
   "outputs": [],
   "source": []
  },
  {
   "cell_type": "code",
   "execution_count": 253,
   "id": "ee8dc1bd",
   "metadata": {},
   "outputs": [],
   "source": [
    "freq_ctx = np.zeros(flat.shape, dtype=float)\n",
    "for r, f in freq.items():\n",
    "    m = parcel_flat == r\n",
    "    if not m.sum():\n",
    "        continue\n",
    "    freq_ctx[m] = f\n",
    "freq_ctx *= 100"
   ]
  },
  {
   "cell_type": "code",
   "execution_count": null,
   "id": "8dcd2f22",
   "metadata": {},
   "outputs": [],
   "source": []
  },
  {
   "cell_type": "code",
   "execution_count": 255,
   "id": "84da4f87",
   "metadata": {},
   "outputs": [],
   "source": [
    "f_tr, t_tr = filter_boundaries([freq_ctx, flat], flat.astype(bool))"
   ]
  },
  {
   "cell_type": "code",
   "execution_count": 257,
   "id": "564031e2",
   "metadata": {},
   "outputs": [
    {
     "data": {
      "image/png": "[encoded data removed]"
     },
     "metadata": {},
     "output_type": "display_data"
    }
   ],
   "source": [
    "fig, ax = create_figure(figsize=(6, 3))\n",
    "\n",
    "x2p = np.ma.masked_where(t_tr == 0, t_tr)\n",
    "plt.imshow(x2p)\n",
    "\n",
    "x2p = np.ma.masked_where(t_tr == 0, f_tr)\n",
    "plt.imshow(x2p, cmap='nipy_spectral')\n",
    "plt.colorbar()\n",
    "\n",
    "remove_ticks(ax)\n",
    "\n",
    "name = f'coverage-flat'\n",
    "figname = f\"{name}.pdf\"\n",
    "fig.savefig(pjoin(fig_dir, figname), bbox_inches='tight')\n",
    "for dpi in [100, 300, 600]:\n",
    "    figname = f\"{name}_dpi{dpi}.png\"\n",
    "    fig.savefig(pjoin(fig_dir, figname), dpi=dpi, bbox_inches='tight', transparent=True)\n",
    "\n",
    "plt.show()"
   ]
  },
  {
   "cell_type": "code",
   "execution_count": null,
   "id": "762f8983",
   "metadata": {},
   "outputs": [],
   "source": []
  },
  {
   "cell_type": "code",
   "execution_count": null,
   "id": "4690a385",
   "metadata": {},
   "outputs": [],
   "source": []
  },
  {
   "cell_type": "code",
   "execution_count": null,
   "id": "2e8b8885",
   "metadata": {},
   "outputs": [],
   "source": []
  },
  {
   "cell_type": "code",
   "execution_count": null,
   "id": "857aa942",
   "metadata": {},
   "outputs": [],
   "source": []
  },
  {
   "cell_type": "code",
   "execution_count": null,
   "id": "9d6f14d9",
   "metadata": {},
   "outputs": [],
   "source": []
  },
  {
   "cell_type": "code",
   "execution_count": null,
   "id": "c58fd913",
   "metadata": {},
   "outputs": [],
   "source": []
  },
  {
   "cell_type": "code",
   "execution_count": null,
   "id": "018e9f1c",
   "metadata": {},
   "outputs": [],
   "source": []
  },
  {
   "cell_type": "markdown",
   "id": "e3040d50",
   "metadata": {},
   "source": [
    "## Top & Flat"
   ]
  },
  {
   "cell_type": "code",
   "execution_count": 5,
   "id": "e238c620",
   "metadata": {},
   "outputs": [],
   "source": [
    "mice = Mice((128, 0, 100))"
   ]
  },
  {
   "cell_type": "code",
   "execution_count": 6,
   "id": "72df7b79",
   "metadata": {},
   "outputs": [],
   "source": [
    "top, flat = gr_bold.load_top_flat()"
   ]
  },
  {
   "cell_type": "code",
   "execution_count": 7,
   "id": "24a8e8cf",
   "metadata": {},
   "outputs": [],
   "source": [
    "# load parcel flatt & top\n",
    "parcel_flat = 'parcel2d-flat_10um.nii.gz'\n",
    "parcel_flat = pjoin(mice.cfg.parcel_dir, parcel_flat)\n",
    "parcel_flat = ants.image_read(parcel_flat).numpy()\n",
    "\n",
    "parcel_top = 'parcel2d-top_10um.nii.gz'\n",
    "parcel_top = pjoin(mice.cfg.parcel_dir, parcel_top)\n",
    "parcel_top = ants.image_read(parcel_top).numpy()"
   ]
  },
  {
   "cell_type": "code",
   "execution_count": 8,
   "id": "8708597d",
   "metadata": {},
   "outputs": [],
   "source": [
    "figs_dir = pjoin(tmp_dir, 'fig_topflat')\n",
    "os.makedirs(figs_dir, exist_ok=True)"
   ]
  },
  {
   "cell_type": "code",
   "execution_count": null,
   "id": "15ee6466",
   "metadata": {},
   "outputs": [],
   "source": []
  },
  {
   "cell_type": "code",
   "execution_count": 107,
   "id": "9e18410a",
   "metadata": {},
   "outputs": [],
   "source": [
    "kws = {\n",
    "    'transparent': True,\n",
    "    'bbox_inches': 'tight',\n",
    "}"
   ]
  },
  {
   "cell_type": "code",
   "execution_count": 106,
   "id": "5fe18068",
   "metadata": {},
   "outputs": [],
   "source": [
    "flat_tr, parcel_flat_tr = filter_boundaries([flat, parcel_flat], flat)\n",
    "\n",
    "fig, ax = create_figure(figsize=(23, 10))\n",
    "ax.imshow(flat_tr, cmap='Greys_r')\n",
    "x2p = np.ma.masked_where(~np.isin(parcel_flat_tr, range(1, 128 + 1)), parcel_flat_tr)\n",
    "plt.imshow(x2p, cmap='Spectral_r')\n",
    "remove_ticks(ax)\n",
    "fig.savefig(pjoin(figs_dir, 'flat_tr_noticks_with_parcel.pdf'), **kws)\n",
    "plt.close()"
   ]
  },
  {
   "cell_type": "code",
   "execution_count": 108,
   "id": "b14ec278",
   "metadata": {},
   "outputs": [],
   "source": [
    "top_tr, parcel_top_tr = filter_boundaries([top, parcel_top], top)\n",
    "\n",
    "fig, ax = create_figure(figsize=(13, 20))\n",
    "ax.imshow(top_tr, cmap='Greys_r')\n",
    "x2p = np.ma.masked_where(~np.isin(parcel_top_tr, range(1, 128 + 1)), parcel_top_tr)\n",
    "plt.imshow(x2p, cmap='Spectral_r')\n",
    "remove_ticks(ax)\n",
    "fig.savefig(pjoin(figs_dir, 'top_tr_noticks_with_parcel.pdf'), **kws)\n",
    "plt.close()"
   ]
  },
  {
   "cell_type": "code",
   "execution_count": null,
   "id": "d615c41d",
   "metadata": {},
   "outputs": [],
   "source": []
  },
  {
   "cell_type": "code",
   "execution_count": null,
   "id": "cf6a4b58",
   "metadata": {},
   "outputs": [],
   "source": []
  },
  {
   "cell_type": "code",
   "execution_count": null,
   "id": "23563beb",
   "metadata": {},
   "outputs": [],
   "source": []
  },
  {
   "cell_type": "markdown",
   "id": "43acd882",
   "metadata": {},
   "source": [
    "### Top"
   ]
  },
  {
   "cell_type": "code",
   "execution_count": 15,
   "id": "a2349405",
   "metadata": {},
   "outputs": [],
   "source": [
    "kws = {\n",
    "    'transparent': True,\n",
    "    'bbox_inches': 'tight',\n",
    "}"
   ]
  },
  {
   "cell_type": "code",
   "execution_count": 16,
   "id": "25966ead",
   "metadata": {},
   "outputs": [],
   "source": [
    "fig, ax = create_figure(figsize=(13, 20))\n",
    "ax.imshow(top, cmap='Greys_r')\n",
    "fig.savefig(pjoin(figs_dir, 'top.pdf'), **kws)\n",
    "plt.close()\n",
    "\n",
    "fig, ax = create_figure(figsize=(13, 20))\n",
    "ax.imshow(top, cmap='Greys_r')\n",
    "remove_ticks(ax)\n",
    "fig.savefig(pjoin(figs_dir, 'top_noticks.pdf'), **kws)\n",
    "plt.close()"
   ]
  },
  {
   "cell_type": "code",
   "execution_count": 17,
   "id": "d0a04ba4",
   "metadata": {},
   "outputs": [],
   "source": [
    "top_tr = filter_boundaries(top)"
   ]
  },
  {
   "cell_type": "code",
   "execution_count": 22,
   "id": "bb323dd7",
   "metadata": {},
   "outputs": [],
   "source": [
    "fig, ax = create_figure(figsize=(13, 20))\n",
    "ax.imshow(top_tr, cmap='Greys_r')\n",
    "fig.savefig(pjoin(figs_dir, 'top_tr.svg'), **kws)\n",
    "plt.close()\n",
    "\n",
    "fig, ax = create_figure(figsize=(13, 20))\n",
    "ax.imshow(top_tr, cmap='Greys_r')\n",
    "remove_ticks(ax)\n",
    "fig.savefig(pjoin(figs_dir, 'top_tr_noticks.pdf'), **kws)\n",
    "plt.close()\n",
    "\n",
    "fig, ax = create_figure(figsize=(13, 20))\n",
    "x2plt = np.ma.masked_where(top_tr == 0, top_tr)\n",
    "ax.imshow(x2plt, cmap='Greys_r')\n",
    "remove_ticks(ax)\n",
    "fig.savefig(pjoin(figs_dir, 'top_tr_masked.pdf'), **kws)\n",
    "plt.close()"
   ]
  },
  {
   "cell_type": "code",
   "execution_count": null,
   "id": "6a93122f",
   "metadata": {},
   "outputs": [],
   "source": []
  },
  {
   "cell_type": "markdown",
   "id": "c4c6e880",
   "metadata": {},
   "source": [
    "### Flat"
   ]
  },
  {
   "cell_type": "code",
   "execution_count": 19,
   "id": "0d444ec1",
   "metadata": {},
   "outputs": [],
   "source": [
    "fig, ax = create_figure(figsize=(23, 10))\n",
    "ax.imshow(flatmap, cmap='Greys_r')\n",
    "fig.savefig(pjoin(figs_dir, 'flat.pdf'), **kws)\n",
    "plt.close()\n",
    "\n",
    "fig, ax = create_figure(figsize=(23, 10))\n",
    "ax.imshow(flatmap, cmap='Greys_r')\n",
    "remove_ticks(ax)\n",
    "fig.savefig(pjoin(figs_dir, 'flat_noticks.pdf'), **kws)\n",
    "plt.close()"
   ]
  },
  {
   "cell_type": "code",
   "execution_count": 20,
   "id": "0904f37c",
   "metadata": {},
   "outputs": [],
   "source": [
    "flat_tr = filter_boundaries(flatmap)"
   ]
  },
  {
   "cell_type": "code",
   "execution_count": 21,
   "id": "44475523",
   "metadata": {},
   "outputs": [],
   "source": [
    "fig, ax = create_figure(figsize=(23, 10))\n",
    "ax.imshow(flat_tr, cmap='Greys_r')\n",
    "fig.savefig(pjoin(figs_dir, 'flat_tr.pdf'), **kws)\n",
    "plt.close()\n",
    "\n",
    "fig, ax = create_figure(figsize=(23, 10))\n",
    "ax.imshow(flat_tr, cmap='Greys_r')\n",
    "remove_ticks(ax)\n",
    "fig.savefig(pjoin(figs_dir, 'flat_tr_noticks.pdf'), **kws)\n",
    "plt.close()\n",
    "\n",
    "fig, ax = create_figure(figsize=(23, 10))\n",
    "x2plt = np.ma.masked_where(flat_tr == 0, flat_tr)\n",
    "ax.imshow(x2plt, cmap='Greys_r')\n",
    "remove_ticks(ax)\n",
    "fig.savefig(pjoin(figs_dir, 'flat_tr_masked.pdf'), **kws)\n",
    "plt.close()"
   ]
  },
  {
   "cell_type": "code",
   "execution_count": null,
   "id": "bcca4c57",
   "metadata": {},
   "outputs": [],
   "source": []
  },
  {
   "cell_type": "code",
   "execution_count": null,
   "id": "7c0498be",
   "metadata": {},
   "outputs": [],
   "source": []
  },
  {
   "cell_type": "code",
   "execution_count": 258,
   "id": "f78b32be",
   "metadata": {},
   "outputs": [],
   "source": [
    "affil, affil_included = gr_bold.node_affiliations()"
   ]
  },
  {
   "cell_type": "code",
   "execution_count": 259,
   "id": "1c87862b",
   "metadata": {},
   "outputs": [
    {
     "data": {
      "text/html": [
       "<pre style=\"white-space:pre;overflow-x:auto;line-height:normal;font-family:Menlo,'DejaVu Sans Mono',consolas,'Courier New',monospace\"><span style=\"font-weight: bold\">[</span>\n",
       "    <span style=\"color: #008000; text-decoration-color: #008000\">'cmap'</span>,\n",
       "    <span style=\"color: #008000; text-decoration-color: #008000\">'colors'</span>,\n",
       "    <span style=\"color: #008000; text-decoration-color: #008000\">'obj_top'</span>,\n",
       "    <span style=\"color: #008000; text-decoration-color: #008000\">'obj_flat'</span>,\n",
       "    <span style=\"color: #008000; text-decoration-color: #008000\">'regions_l'</span>,\n",
       "    <span style=\"color: #008000; text-decoration-color: #008000\">'regions_r'</span>,\n",
       "    <span style=\"color: #008000; text-decoration-color: #008000\">'affiliation'</span>,\n",
       "    <span style=\"color: #008000; text-decoration-color: #008000\">'regions_affil'</span>,\n",
       "    <span style=\"color: #008000; text-decoration-color: #008000\">'regions_affil_max'</span>\n",
       "<span style=\"font-weight: bold\">]</span>\n",
       "</pre>\n"
      ],
      "text/plain": [
       "\u001b[1m[\u001b[0m\n",
       "    \u001b[32m'cmap'\u001b[0m,\n",
       "    \u001b[32m'colors'\u001b[0m,\n",
       "    \u001b[32m'obj_top'\u001b[0m,\n",
       "    \u001b[32m'obj_flat'\u001b[0m,\n",
       "    \u001b[32m'regions_l'\u001b[0m,\n",
       "    \u001b[32m'regions_r'\u001b[0m,\n",
       "    \u001b[32m'affiliation'\u001b[0m,\n",
       "    \u001b[32m'regions_affil'\u001b[0m,\n",
       "    \u001b[32m'regions_affil_max'\u001b[0m\n",
       "\u001b[1m]\u001b[0m\n"
      ]
     },
     "metadata": {},
     "output_type": "display_data"
    }
   ],
   "source": [
    "list(affil)"
   ]
  },
  {
   "cell_type": "code",
   "execution_count": null,
   "id": "d8b502d6",
   "metadata": {},
   "outputs": [],
   "source": []
  },
  {
   "cell_type": "code",
   "execution_count": 260,
   "id": "149a26bb",
   "metadata": {},
   "outputs": [
    {
     "data": {
      "image/png": "[encoded data removed]"
     },
     "metadata": {},
     "output_type": "display_data"
    }
   ],
   "source": [
    "affil_max_flat = np.zeros_like(parcel_flat)\n",
    "for r, af in affil['regions_affil_max'].items():\n",
    "    affil_max_flat[parcel_flat == r] = list(affil['affiliation']).index(af) + 1\n",
    "\n",
    "m = np.isin(parcel_flat, affil['regions_r'])\n",
    "affil_max_flat[m] = affil['obj_flat'][m]\n",
    "affil_max_flat[parcel_flat == 0] = 0\n",
    "plt.imshow(affil_max_flat);"
   ]
  },
  {
   "cell_type": "code",
   "execution_count": null,
   "id": "e685296e",
   "metadata": {},
   "outputs": [],
   "source": []
  },
  {
   "cell_type": "code",
   "execution_count": null,
   "id": "fa434d6c",
   "metadata": {},
   "outputs": [],
   "source": []
  },
  {
   "cell_type": "code",
   "execution_count": 281,
   "id": "683cb8dd",
   "metadata": {},
   "outputs": [],
   "source": [
    "regions_included = [\n",
    "    mice.parcel.encode(1, int(lbl.split('-')[1]), 0)\n",
    "    for lbl in gr_ca.l2n\n",
    "]\n",
    "regions_included = np.array(regions_included)\n",
    "regions_included = regions_included[gr_ca.l_ids]"
   ]
  },
  {
   "cell_type": "code",
   "execution_count": 282,
   "id": "dd209b94",
   "metadata": {},
   "outputs": [
    {
     "data": {
      "image/png": "[encoded data removed]"
     },
     "metadata": {},
     "output_type": "display_data"
    }
   ],
   "source": [
    "mask = np.zeros(parcel_flat.shape)\n",
    "mask[np.isin(parcel_flat, affil['regions_l'])] = 1\n",
    "mask[np.isin(parcel_flat, regions_included)] = 0\n",
    "plt.imshow(mask);"
   ]
  },
  {
   "cell_type": "code",
   "execution_count": 283,
   "id": "93b77cc0",
   "metadata": {},
   "outputs": [],
   "source": [
    "m_tr, afmf_tr = filter_boundaries([mask, affil_max_flat], mask=affil_max_flat)"
   ]
  },
  {
   "cell_type": "code",
   "execution_count": null,
   "id": "ce9745e7",
   "metadata": {},
   "outputs": [],
   "source": []
  },
  {
   "cell_type": "code",
   "execution_count": 291,
   "id": "d9647042",
   "metadata": {},
   "outputs": [
    {
     "data": {
      "image/png": "[encoded data removed]"
     },
     "metadata": {},
     "output_type": "display_data"
    }
   ],
   "source": [
    "from matplotlib.patches import Patch\n",
    "\n",
    "fig, ax = create_figure(figsize=(12, 6))\n",
    "\n",
    "x2plt = np.ma.masked_where(afmf_tr == 0, afmf_tr)\n",
    "ax.imshow(x2plt, cmap=affil['cmap'])\n",
    "\n",
    "\n",
    "x2plt = np.ma.masked_where(m_tr == 0, m_tr)\n",
    "ax.imshow(x2plt, cmap='Greens', interpolation='none', alpha=0.95)\n",
    "\n",
    "legend_elements = [\n",
    "    Patch(facecolor=c, edgecolor='dimgrey', label=lbl)\n",
    "    for lbl, c in affil['colors'].items()\n",
    "]\n",
    "leg = ax.legend(handles=legend_elements, fontsize=28)\n",
    "plt.setp(leg, bbox_to_anchor=(1.6, 1.0))\n",
    "remove_ticks(ax)\n",
    "\n",
    "name = f'affil-flat'\n",
    "figname = f\"{name}.pdf\"\n",
    "fig.savefig(pjoin(fig_dir, figname), bbox_inches='tight')\n",
    "for dpi in [100, 300, 600]:\n",
    "    figname = f\"{name}_dpi{dpi}.png\"\n",
    "    fig.savefig(pjoin(fig_dir, figname), dpi=dpi, bbox_inches='tight', transparent=True)\n",
    "\n",
    "plt.show()"
   ]
  },
  {
   "cell_type": "code",
   "execution_count": null,
   "id": "cbfbb514",
   "metadata": {},
   "outputs": [],
   "source": []
  },
  {
   "cell_type": "code",
   "execution_count": null,
   "id": "6a3d0af4",
   "metadata": {},
   "outputs": [],
   "source": []
  },
  {
   "cell_type": "code",
   "execution_count": 267,
   "id": "9ffa437e",
   "metadata": {},
   "outputs": [
    {
     "data": {
      "image/png": "[encoded data removed]"
     },
     "metadata": {},
     "output_type": "display_data"
    }
   ],
   "source": [
    "affil_max_top = np.zeros_like(parcel_top)\n",
    "for r, af in affil['regions_affil_max'].items():\n",
    "    affil_max_top[parcel_top == r] = list(affil['affiliation']).index(af) + 1\n",
    "\n",
    "m = np.isin(parcel_top, affil['regions_r'])\n",
    "affil_max_top[m] = affil['obj_top'][m]\n",
    "affil_max_top[parcel_top == 0] = 0\n",
    "plt.imshow(affil_max_top);"
   ]
  },
  {
   "cell_type": "code",
   "execution_count": 268,
   "id": "b296e81a",
   "metadata": {},
   "outputs": [
    {
     "data": {
      "image/png": "[encoded data removed]"
     },
     "metadata": {},
     "output_type": "display_data"
    }
   ],
   "source": [
    "mask = np.zeros(parcel_top.shape)\n",
    "mask[np.isin(parcel_top, affil['regions_l'])] = 1\n",
    "mask[np.isin(parcel_top, regions_included)] = 0\n",
    "plt.imshow(mask);"
   ]
  },
  {
   "cell_type": "code",
   "execution_count": null,
   "id": "b4da2b8a",
   "metadata": {},
   "outputs": [],
   "source": []
  },
  {
   "cell_type": "code",
   "execution_count": 269,
   "id": "1a395984",
   "metadata": {},
   "outputs": [],
   "source": [
    "m_tr, afmf_tr = filter_boundaries([mask, affil_max_top], mask=affil_max_top)"
   ]
  },
  {
   "cell_type": "code",
   "execution_count": 280,
   "id": "07f0a270",
   "metadata": {},
   "outputs": [
    {
     "data": {
      "image/png": "[encoded data removed]"
     },
     "metadata": {},
     "output_type": "display_data"
    }
   ],
   "source": [
    "from matplotlib.patches import Patch\n",
    "\n",
    "fig, ax = create_figure(figsize=(10, 5))\n",
    "\n",
    "x2plt = np.ma.masked_where(afmf_tr == 0, afmf_tr)\n",
    "ax.imshow(x2plt, cmap=affil['cmap'])\n",
    "\n",
    "\n",
    "x2plt = np.ma.masked_where(m_tr == 0, m_tr)\n",
    "ax.imshow(x2plt, cmap='Greens', interpolation='none', alpha=0.95)\n",
    "\n",
    "legend_elements = [\n",
    "    Patch(facecolor=c, edgecolor='dimgrey', label=lbl)\n",
    "    for lbl, c in affil['colors'].items()\n",
    "]\n",
    "leg = ax.legend(handles=legend_elements, fontsize=27)\n",
    "plt.setp(leg, bbox_to_anchor=(1.8, 1.0))\n",
    "remove_ticks(ax)\n",
    "\n",
    "name = f'affil-top'\n",
    "figname = f\"{name}.pdf\"\n",
    "fig.savefig(pjoin(fig_dir, figname), bbox_inches='tight')\n",
    "for dpi in [100, 300, 600]:\n",
    "    figname = f\"{name}_dpi{dpi}.png\"\n",
    "    fig.savefig(pjoin(fig_dir, figname), dpi=dpi, bbox_inches='tight', transparent=True)\n",
    "\n",
    "plt.show()"
   ]
  },
  {
   "cell_type": "code",
   "execution_count": null,
   "id": "fb84420d",
   "metadata": {},
   "outputs": [],
   "source": []
  },
  {
   "cell_type": "code",
   "execution_count": null,
   "id": "1b8548d8",
   "metadata": {},
   "outputs": [],
   "source": []
  },
  {
   "cell_type": "markdown",
   "id": "d00ee7ea",
   "metadata": {},
   "source": [
    "## Layer plots"
   ]
  },
  {
   "cell_type": "code",
   "execution_count": 10,
   "id": "88283370",
   "metadata": {},
   "outputs": [],
   "source": [
    "template = mice.al.mcc.get_template_volume()[0]\n",
    "layer_mask_coarse, layer_mask = mice.al.make_layer_mask()\n",
    "\n",
    "layer_mask_3 = sum(\n",
    "    e.astype('int32') * i for i, e in\n",
    "    enumerate(layer_mask_coarse.values(), start=1)\n",
    ")"
   ]
  },
  {
   "cell_type": "code",
   "execution_count": 16,
   "id": "7927e2fc",
   "metadata": {},
   "outputs": [
    {
     "data": {
      "text/html": [
       "<pre style=\"white-space:pre;overflow-x:auto;line-height:normal;font-family:Menlo,'DejaVu Sans Mono',consolas,'Courier New',monospace\"><span style=\"font-weight: bold\">&lt;</span><span style=\"color: #ff00ff; text-decoration-color: #ff00ff; font-weight: bold\">matplotlib.image.AxesImage</span><span style=\"color: #000000; text-decoration-color: #000000\"> object at </span><span style=\"color: #008080; text-decoration-color: #008080; font-weight: bold\">0x7f3a1f7d8b80</span><span style=\"font-weight: bold\">&gt;</span>\n",
       "</pre>\n"
      ],
      "text/plain": [
       "\u001b[1m<\u001b[0m\u001b[1;95mmatplotlib.image.AxesImage\u001b[0m\u001b[39m object at \u001b[0m\u001b[1;36m0x7f3a1f7d8b80\u001b[0m\u001b[1m>\u001b[0m\n"
      ]
     },
     "metadata": {},
     "output_type": "display_data"
    },
    {
     "data": {
      "image/png": "[encoded data removed]"
     },
     "metadata": {
      "needs_background": "light"
     },
     "output_type": "display_data"
    }
   ],
   "source": [
    "plt.imshow(template[40])"
   ]
  },
  {
   "cell_type": "code",
   "execution_count": 33,
   "id": "53d5a298",
   "metadata": {},
   "outputs": [
    {
     "data": {
      "text/html": [
       "<pre style=\"white-space:pre;overflow-x:auto;line-height:normal;font-family:Menlo,'DejaVu Sans Mono',consolas,'Courier New',monospace\"><span style=\"color: #008000; text-decoration-color: #008000\">'/home/hadi/Dropbox/git/jb-Ca-fMRI/tmp/fig_25th'</span>\n",
       "</pre>\n"
      ],
      "text/plain": [
       "\u001b[32m'/home/hadi/Dropbox/git/jb-Ca-fMRI/tmp/fig_25th'\u001b[0m\n"
      ]
     },
     "metadata": {},
     "output_type": "display_data"
    }
   ],
   "source": [
    "fig_dir"
   ]
  },
  {
   "cell_type": "code",
   "execution_count": 42,
   "id": "0957b218",
   "metadata": {},
   "outputs": [
    {
     "data": {
      "image/png": "[encoded data removed]"
     },
     "metadata": {},
     "output_type": "display_data"
    }
   ],
   "source": [
    "i = 55\n",
    "\n",
    "fig, ax = create_figure(1, 1, (8, 6))\n",
    "ax.imshow(template[i], cmap='Greys')\n",
    "\n",
    "x2p = np.ma.masked_where(layer_mask[i] == 0, layer_mask[i])\n",
    "ax.imshow(x2p, cmap='turbo')\n",
    "\n",
    "remove_ticks(ax)\n",
    "\n",
    "name = f'CCF-layers'\n",
    "figname = f\"{name}.pdf\"\n",
    "fig.savefig(pjoin(fig_dir, figname), bbox_inches='tight')\n",
    "for dpi in [100, 300, 600]:\n",
    "    figname = f\"{name}_dpi{dpi}.png\"\n",
    "    fig.savefig(pjoin(fig_dir, figname), dpi=dpi, bbox_inches='tight')\n",
    "\n",
    "plt.show()"
   ]
  },
  {
   "cell_type": "code",
   "execution_count": null,
   "id": "43e651a9",
   "metadata": {},
   "outputs": [],
   "source": []
  },
  {
   "cell_type": "code",
   "execution_count": 52,
   "id": "ca750e15",
   "metadata": {},
   "outputs": [
    {
     "data": {
      "image/png": "[encoded data removed]"
     },
     "metadata": {},
     "output_type": "display_data"
    }
   ],
   "source": [
    "i = 55\n",
    "\n",
    "fig, ax = create_figure(1, 1, (8, 6))\n",
    "ax.imshow(template[i], cmap='Greys')\n",
    "\n",
    "x2p = np.ma.masked_where(layer_mask_coarse['depth-0'][i] == 0, layer_mask_coarse['depth-0'][i])\n",
    "ax.imshow(x2p, cmap=sns.light_palette('lime', as_cmap=True, reverse=True))\n",
    "\n",
    "remove_ticks(ax)\n",
    "\n",
    "name = f'CCF-depth-0'\n",
    "figname = f\"{name}.pdf\"\n",
    "fig.savefig(pjoin(fig_dir, figname), bbox_inches='tight')\n",
    "for dpi in [100, 300, 600]:\n",
    "    figname = f\"{name}_dpi{dpi}.png\"\n",
    "    fig.savefig(pjoin(fig_dir, figname), dpi=dpi, bbox_inches='tight', transparent=True)\n",
    "\n",
    "plt.show()"
   ]
  },
  {
   "cell_type": "code",
   "execution_count": null,
   "id": "ecbd90d6",
   "metadata": {},
   "outputs": [],
   "source": []
  },
  {
   "cell_type": "code",
   "execution_count": 56,
   "id": "174c46f8",
   "metadata": {},
   "outputs": [
    {
     "data": {
      "text/html": [
       "<pre style=\"white-space:pre;overflow-x:auto;line-height:normal;font-family:Menlo,'DejaVu Sans Mono',consolas,'Courier New',monospace\"><span style=\"color: #800080; text-decoration-color: #800080; font-weight: bold\">array</span><span style=\"font-weight: bold\">([</span> <span style=\"color: #008080; text-decoration-color: #008080; font-weight: bold\">69</span>,  <span style=\"color: #008080; text-decoration-color: #008080; font-weight: bold\">73</span>,  <span style=\"color: #008080; text-decoration-color: #008080; font-weight: bold\">67</span>,  <span style=\"color: #008080; text-decoration-color: #008080; font-weight: bold\">95</span>, <span style=\"color: #008080; text-decoration-color: #008080; font-weight: bold\">110</span><span style=\"font-weight: bold\">])</span>\n",
       "</pre>\n"
      ],
      "text/plain": [
       "\u001b[1;35marray\u001b[0m\u001b[1m(\u001b[0m\u001b[1m[\u001b[0m \u001b[1;36m69\u001b[0m,  \u001b[1;36m73\u001b[0m,  \u001b[1;36m67\u001b[0m,  \u001b[1;36m95\u001b[0m, \u001b[1;36m110\u001b[0m\u001b[1m]\u001b[0m\u001b[1m)\u001b[0m\n"
      ]
     },
     "metadata": {},
     "output_type": "display_data"
    }
   ],
   "source": [
    "(gr_bold.grp_pi > 0.15).sum(1)"
   ]
  },
  {
   "cell_type": "code",
   "execution_count": 57,
   "id": "76d1676d",
   "metadata": {},
   "outputs": [
    {
     "data": {
      "text/html": [
       "<pre style=\"white-space:pre;overflow-x:auto;line-height:normal;font-family:Menlo,'DejaVu Sans Mono',consolas,'Courier New',monospace\"><span style=\"color: #800080; text-decoration-color: #800080; font-weight: bold\">array</span><span style=\"font-weight: bold\">([</span><span style=\"color: #008080; text-decoration-color: #008080; font-weight: bold\">69</span>, <span style=\"color: #008080; text-decoration-color: #008080; font-weight: bold\">77</span>, <span style=\"color: #008080; text-decoration-color: #008080; font-weight: bold\">79</span>, <span style=\"color: #008080; text-decoration-color: #008080; font-weight: bold\">74</span>, <span style=\"color: #008080; text-decoration-color: #008080; font-weight: bold\">89</span><span style=\"font-weight: bold\">])</span>\n",
       "</pre>\n"
      ],
      "text/plain": [
       "\u001b[1;35marray\u001b[0m\u001b[1m(\u001b[0m\u001b[1m[\u001b[0m\u001b[1;36m69\u001b[0m, \u001b[1;36m77\u001b[0m, \u001b[1;36m79\u001b[0m, \u001b[1;36m74\u001b[0m, \u001b[1;36m89\u001b[0m\u001b[1m]\u001b[0m\u001b[1m)\u001b[0m\n"
      ]
     },
     "metadata": {},
     "output_type": "display_data"
    }
   ],
   "source": [
    "(gr_ca.grp_pi > 0.15).sum(1)"
   ]
  },
  {
   "cell_type": "code",
   "execution_count": null,
   "id": "8c327495",
   "metadata": {},
   "outputs": [],
   "source": []
  },
  {
   "cell_type": "code",
   "execution_count": null,
   "id": "7ff20e6f",
   "metadata": {},
   "outputs": [],
   "source": []
  }
 ],
 "metadata": {
  "kernelspec": {
   "display_name": "Python 3",
   "language": "python",
   "name": "python3"
  },
  "language_info": {
   "codemirror_mode": {
    "name": "ipython",
    "version": 3
   },
   "file_extension": ".py",
   "mimetype": "text/x-python",
   "name": "python",
   "nbconvert_exporter": "python",
   "pygments_lexer": "ipython3",
   "version": "3.8.3"
  }
 },
 "nbformat": 4,
 "nbformat_minor": 5
}
