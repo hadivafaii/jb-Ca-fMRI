{
 "cells": [
  {
   "cell_type": "markdown",
   "id": "17d50fc5",
   "metadata": {},
   "source": [
    "# (02) Daniel\n",
    "\n",
    "**Motivation**: save raw data (both bold & ca) as matlab files. <br>"
   ]
  },
  {
   "cell_type": "code",
   "execution_count": 1,
   "id": "981a263d",
   "metadata": {},
   "outputs": [],
   "source": [
    "import os, sys\n",
    "import numpy as np\n",
    "from os.path import join as pjoin\n",
    "from matplotlib import pyplot as plt"
   ]
  },
  {
   "cell_type": "code",
   "execution_count": null,
   "id": "656bbb5a",
   "metadata": {},
   "outputs": [],
   "source": [
    "path = '/home/hadi/Desktop/Hadi-SLC'"
   ]
  },
  {
   "cell_type": "markdown",
   "id": "1cce24b2",
   "metadata": {},
   "source": [
    "## Load dictionary (node info)"
   ]
  },
  {
   "cell_type": "code",
   "execution_count": 13,
   "id": "7e8efb9b",
   "metadata": {},
   "outputs": [
    {
     "data": {
      "text/html": [
       "<pre style=\"white-space:pre;overflow-x:auto;line-height:normal;font-family:Menlo,'DejaVu Sans Mono',consolas,'Courier New',monospace\"><span style=\"font-weight: bold\">[</span><span style=\"color: #008000; text-decoration-color: #008000\">'ca2'</span>, <span style=\"color: #008000; text-decoration-color: #008000\">'bold'</span><span style=\"font-weight: bold\">]</span>\n",
       "</pre>\n"
      ],
      "text/plain": [
       "\u001b[1m[\u001b[0m\u001b[32m'ca2'\u001b[0m, \u001b[32m'bold'\u001b[0m\u001b[1m]\u001b[0m\n"
      ]
     },
     "metadata": {},
     "output_type": "display_data"
    }
   ],
   "source": [
    "lookup = np.load(\n",
    "    pjoin(path, 'roi_lookup.npy'),\n",
    "    allow_pickle=True,\n",
    ").item()\n",
    "\n",
    "print(list(lookup))"
   ]
  },
  {
   "cell_type": "code",
   "execution_count": 18,
   "id": "2d2d95fe",
   "metadata": {},
   "outputs": [
    {
     "data": {
      "text/html": [
       "<pre style=\"white-space:pre;overflow-x:auto;line-height:normal;font-family:Menlo,'DejaVu Sans Mono',consolas,'Courier New',monospace\">Num BOLD ROIs: <span style=\"color: #008080; text-decoration-color: #008080; font-weight: bold\">1438</span>,    Num CA2 ROIs: <span style=\"color: #008080; text-decoration-color: #008080; font-weight: bold\">226</span>\n",
       "</pre>\n"
      ],
      "text/plain": [
       "Num BOLD ROIs: \u001b[1;36m1438\u001b[0m,    Num CA2 ROIs: \u001b[1;36m226\u001b[0m\n"
      ]
     },
     "metadata": {},
     "output_type": "display_data"
    }
   ],
   "source": [
    "print(f\"Num BOLD ROIs: {len(lookup['bold'])},\\tNum CA2 ROIs: {len(lookup['ca2'])}\")"
   ]
  },
  {
   "cell_type": "code",
   "execution_count": null,
   "id": "40dfd94f",
   "metadata": {},
   "outputs": [],
   "source": []
  },
  {
   "cell_type": "code",
   "execution_count": 21,
   "id": "c0665eaf",
   "metadata": {},
   "outputs": [
    {
     "data": {
      "text/html": [
       "<pre style=\"white-space:pre;overflow-x:auto;line-height:normal;font-family:Menlo,'DejaVu Sans Mono',consolas,'Courier New',monospace\"><span style=\"font-weight: bold\">(</span><span style=\"color: #008080; text-decoration-color: #008080; font-weight: bold\">132</span>, <span style=\"color: #008080; text-decoration-color: #008080; font-weight: bold\">80</span>, <span style=\"color: #008080; text-decoration-color: #008080; font-weight: bold\">114</span><span style=\"font-weight: bold\">)</span>\n",
       "</pre>\n"
      ],
      "text/plain": [
       "\u001b[1m(\u001b[0m\u001b[1;36m132\u001b[0m, \u001b[1;36m80\u001b[0m, \u001b[1;36m114\u001b[0m\u001b[1m)\u001b[0m\n"
      ]
     },
     "metadata": {},
     "output_type": "display_data"
    }
   ],
   "source": [
    "brain = np.load(pjoin(path, 'brain_100um.npy'))\n",
    "brain.shape"
   ]
  },
  {
   "cell_type": "code",
   "execution_count": 26,
   "id": "81c2b126",
   "metadata": {},
   "outputs": [
    {
     "data": {
      "text/html": [
       "<pre style=\"white-space:pre;overflow-x:auto;line-height:normal;font-family:Menlo,'DejaVu Sans Mono',consolas,'Courier New',monospace\"><span style=\"color: #008080; text-decoration-color: #008080; font-weight: bold\">1454</span>\n",
       "</pre>\n"
      ],
      "text/plain": [
       "\u001b[1;36m1454\u001b[0m\n"
      ]
     },
     "metadata": {},
     "output_type": "display_data"
    }
   ],
   "source": [
    "regions = np.unique(brain[brain != 0])\n",
    "len(regions)"
   ]
  },
  {
   "cell_type": "code",
   "execution_count": null,
   "id": "a3a10d13",
   "metadata": {},
   "outputs": [],
   "source": []
  },
  {
   "cell_type": "code",
   "execution_count": 35,
   "id": "c985ad68",
   "metadata": {},
   "outputs": [
    {
     "data": {
      "image/png": "[encoded data removed]"
     },
     "metadata": {},
     "output_type": "display_data"
    }
   ],
   "source": [
    "x = brain[60].copy().astype(float)\n",
    "x[x == 0] = np.nan\n",
    "\n",
    "plt.imshow(x, cmap='flag_r')\n",
    "plt.show()"
   ]
  },
  {
   "cell_type": "code",
   "execution_count": null,
   "id": "7bf6e74b",
   "metadata": {},
   "outputs": [],
   "source": []
  },
  {
   "cell_type": "markdown",
   "id": "579fa489",
   "metadata": {},
   "source": [
    "## From vector to 3d NII file"
   ]
  },
  {
   "cell_type": "code",
   "execution_count": 44,
   "id": "887a3ca9",
   "metadata": {},
   "outputs": [],
   "source": [
    "x = np.load(pjoin(path, 'example.npy'))\n",
    "data_3d = np.zeros(brain.shape, dtype=float)"
   ]
  },
  {
   "cell_type": "code",
   "execution_count": 47,
   "id": "08120a70",
   "metadata": {},
   "outputs": [],
   "source": [
    "kk = 0\n",
    "\n",
    "for node, region_id in lookup['bold'].items():\n",
    "    mask = brain == region_id\n",
    "    data_3d[mask] = x[kk, node]"
   ]
  },
  {
   "cell_type": "code",
   "execution_count": null,
   "id": "18c96a76",
   "metadata": {},
   "outputs": [],
   "source": []
  },
  {
   "cell_type": "markdown",
   "id": "324e190e",
   "metadata": {},
   "source": [
    "### Plot a coronal to see if looks good"
   ]
  },
  {
   "cell_type": "code",
   "execution_count": 68,
   "id": "0300a42e",
   "metadata": {},
   "outputs": [
    {
     "data": {
      "text/html": [
       "<pre style=\"white-space:pre;overflow-x:auto;line-height:normal;font-family:Menlo,'DejaVu Sans Mono',consolas,'Courier New',monospace\"><span style=\"font-weight: bold\">&lt;</span><span style=\"color: #ff00ff; text-decoration-color: #ff00ff; font-weight: bold\">matplotlib.image.AxesImage</span><span style=\"color: #000000; text-decoration-color: #000000\"> object at </span><span style=\"color: #008080; text-decoration-color: #008080; font-weight: bold\">0x7f0d55715790</span><span style=\"font-weight: bold\">&gt;</span>\n",
       "</pre>\n"
      ],
      "text/plain": [
       "\u001b[1m<\u001b[0m\u001b[1;95mmatplotlib.image.AxesImage\u001b[0m\u001b[39m object at \u001b[0m\u001b[1;36m0x7f0d55715790\u001b[0m\u001b[1m>\u001b[0m\n"
      ]
     },
     "metadata": {},
     "output_type": "display_data"
    },
    {
     "data": {
      "image/png": "[encoded data removed]"
     },
     "metadata": {},
     "output_type": "display_data"
    }
   ],
   "source": [
    "slice_i = 52\n",
    "data2plot = data_3d[slice_i].copy()\n",
    "data2plot[brain[slice_i] == 0] = np.nan\n",
    "plt.imshow(data2plot, vmin=0.1)"
   ]
  },
  {
   "cell_type": "markdown",
   "id": "fcb20826",
   "metadata": {},
   "source": [
    "### Save as nii"
   ]
  },
  {
   "cell_type": "code",
   "execution_count": 70,
   "id": "5ccffd0c",
   "metadata": {},
   "outputs": [
    {
     "data": {
      "text/html": [
       "<pre style=\"white-space:pre;overflow-x:auto;line-height:normal;font-family:Menlo,'DejaVu Sans Mono',consolas,'Courier New',monospace\">ANTsImage <span style=\"font-weight: bold\">(</span>RAI<span style=\"font-weight: bold\">)</span>\n",
       "         Pixel Type : float <span style=\"font-weight: bold\">(</span>float32<span style=\"font-weight: bold\">)</span>\n",
       "         Components : <span style=\"color: #008080; text-decoration-color: #008080; font-weight: bold\">1</span>\n",
       "         Dimensions : <span style=\"font-weight: bold\">(</span><span style=\"color: #008080; text-decoration-color: #008080; font-weight: bold\">132</span>, <span style=\"color: #008080; text-decoration-color: #008080; font-weight: bold\">80</span>, <span style=\"color: #008080; text-decoration-color: #008080; font-weight: bold\">114</span><span style=\"font-weight: bold\">)</span>\n",
       "         Spacing    : <span style=\"font-weight: bold\">(</span><span style=\"color: #008080; text-decoration-color: #008080; font-weight: bold\">1.0</span>, <span style=\"color: #008080; text-decoration-color: #008080; font-weight: bold\">1.0</span>, <span style=\"color: #008080; text-decoration-color: #008080; font-weight: bold\">1.0</span><span style=\"font-weight: bold\">)</span>\n",
       "         Origin     : <span style=\"font-weight: bold\">(</span><span style=\"color: #008080; text-decoration-color: #008080; font-weight: bold\">0.0</span>, <span style=\"color: #008080; text-decoration-color: #008080; font-weight: bold\">0.0</span>, <span style=\"color: #008080; text-decoration-color: #008080; font-weight: bold\">0.0</span><span style=\"font-weight: bold\">)</span>\n",
       "         Direction  : <span style=\"font-weight: bold\">[</span><span style=\"color: #008080; text-decoration-color: #008080; font-weight: bold\">1</span>. <span style=\"color: #008080; text-decoration-color: #008080; font-weight: bold\">0</span>. <span style=\"color: #008080; text-decoration-color: #008080; font-weight: bold\">0</span>. <span style=\"color: #008080; text-decoration-color: #008080; font-weight: bold\">0</span>. <span style=\"color: #008080; text-decoration-color: #008080; font-weight: bold\">1</span>. <span style=\"color: #008080; text-decoration-color: #008080; font-weight: bold\">0</span>. <span style=\"color: #008080; text-decoration-color: #008080; font-weight: bold\">0</span>. <span style=\"color: #008080; text-decoration-color: #008080; font-weight: bold\">0</span>. <span style=\"color: #008080; text-decoration-color: #008080; font-weight: bold\">1</span>.<span style=\"font-weight: bold\">]</span>\n",
       "\n",
       "</pre>\n"
      ],
      "text/plain": [
       "ANTsImage \u001b[1m(\u001b[0mRAI\u001b[1m)\u001b[0m\n",
       "         Pixel Type : float \u001b[1m(\u001b[0mfloat32\u001b[1m)\u001b[0m\n",
       "         Components : \u001b[1;36m1\u001b[0m\n",
       "         Dimensions : \u001b[1m(\u001b[0m\u001b[1;36m132\u001b[0m, \u001b[1;36m80\u001b[0m, \u001b[1;36m114\u001b[0m\u001b[1m)\u001b[0m\n",
       "         Spacing    : \u001b[1m(\u001b[0m\u001b[1;36m1.0\u001b[0m, \u001b[1;36m1.0\u001b[0m, \u001b[1;36m1.0\u001b[0m\u001b[1m)\u001b[0m\n",
       "         Origin     : \u001b[1m(\u001b[0m\u001b[1;36m0.0\u001b[0m, \u001b[1;36m0.0\u001b[0m, \u001b[1;36m0.0\u001b[0m\u001b[1m)\u001b[0m\n",
       "         Direction  : \u001b[1m[\u001b[0m\u001b[1;36m1\u001b[0m. \u001b[1;36m0\u001b[0m. \u001b[1;36m0\u001b[0m. \u001b[1;36m0\u001b[0m. \u001b[1;36m1\u001b[0m. \u001b[1;36m0\u001b[0m. \u001b[1;36m0\u001b[0m. \u001b[1;36m0\u001b[0m. \u001b[1;36m1\u001b[0m.\u001b[1m]\u001b[0m\n",
       "\n"
      ]
     },
     "metadata": {},
     "output_type": "display_data"
    }
   ],
   "source": [
    "import ants\n",
    "\n",
    "img = ants.from_numpy(data_3d)\n",
    "img"
   ]
  },
  {
   "cell_type": "code",
   "execution_count": 73,
   "id": "3bce6500",
   "metadata": {},
   "outputs": [],
   "source": [
    "ants.image_write(img, pjoin(path, 'example.nii'))"
   ]
  },
  {
   "cell_type": "code",
   "execution_count": null,
   "id": "b7f2468f",
   "metadata": {},
   "outputs": [],
   "source": []
  },
  {
   "cell_type": "code",
   "execution_count": null,
   "id": "3f2b2627",
   "metadata": {},
   "outputs": [],
   "source": []
  },
  {
   "cell_type": "code",
   "execution_count": null,
   "id": "890a515c",
   "metadata": {},
   "outputs": [],
   "source": []
  },
  {
   "cell_type": "code",
   "execution_count": null,
   "id": "46a352bf",
   "metadata": {},
   "outputs": [],
   "source": []
  },
  {
   "cell_type": "code",
   "execution_count": null,
   "id": "5b775b5a",
   "metadata": {},
   "outputs": [],
   "source": []
  },
  {
   "cell_type": "code",
   "execution_count": null,
   "id": "9faffe87",
   "metadata": {},
   "outputs": [],
   "source": []
  },
  {
   "cell_type": "code",
   "execution_count": null,
   "id": "16e0252a",
   "metadata": {},
   "outputs": [],
   "source": []
  }
 ],
 "metadata": {
  "kernelspec": {
   "display_name": "Python 3",
   "language": "python",
   "name": "python3"
  },
  "language_info": {
   "codemirror_mode": {
    "name": "ipython",
    "version": 3
   },
   "file_extension": ".py",
   "mimetype": "text/x-python",
   "name": "python",
   "nbconvert_exporter": "python",
   "pygments_lexer": "ipython3",
   "version": "3.8.3"
  }
 },
 "nbformat": 4,
 "nbformat_minor": 5
}
