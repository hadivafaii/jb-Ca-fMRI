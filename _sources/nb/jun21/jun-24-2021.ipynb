{
 "cells": [
  {
   "cell_type": "markdown",
   "id": "9d52707a",
   "metadata": {},
   "source": [
    "# June, 24th, 2021\n",
    "\n",
    "**Motivation**: There are two motivations:<br>\n",
    "1) **Reproducibility** initial analysis: how similar/different are these communities similar for all 3 sessions? <br>\n",
    "2) Also, now have ability to load all the data (Mice object iterates over all animals, sessions, and runs) <br>"
   ]
  },
  {
   "cell_type": "code",
   "execution_count": 1,
   "id": "df1aa02c",
   "metadata": {
    "tags": [
     "hide-input"
    ]
   },
   "outputs": [],
   "source": [
    "# HIDE CODE\n",
    "\n",
    "\n",
    "import os\n",
    "import sys\n",
    "import nibabel as nib\n",
    "import networkx as nx\n",
    "from time import time\n",
    "from pprint import pprint\n",
    "from copy import deepcopy as dc\n",
    "from os.path import join as pjoin\n",
    "from myterial import orange, blue_grey\n",
    "from IPython.display import display, IFrame, HTML\n",
    "from matplotlib.colors import rgb2hex, to_rgb\n",
    "import matplotlib.pyplot as plt\n",
    "import seaborn as sns\n",
    "\n",
    "# set style & no interpolalation\n",
    "import matplotlib\n",
    "matplotlib.rcParams['image.interpolation'] = 'none'\n",
    "sns.set_style('whitegrid')\n",
    "\n",
    "# tmp & extras dir\n",
    "git_dir = pjoin(os.environ['HOME'], 'Dropbox/git')\n",
    "tmp_dir = pjoin(git_dir, 'jb-Ca-fMRI/tmp')\n",
    "extras_dir = pjoin(git_dir, 'jb-Ca-fMRI/_extras')\n",
    "\n",
    "# GitHub\n",
    "sys.path.insert(0, pjoin(git_dir, 'Ca-fMRI'))\n",
    "from register.register import *\n",
    "from analysis.cluster import Clusters\n",
    "from analysis.hierarchical import *\n",
    "from analysis.network import *\n",
    "from utils.plotting import *\n",
    "from utils.render import *\n",
    "from model.mouse import Mice\n",
    "from model.configuration import Config\n",
    "\n",
    "# warnings\n",
    "import warnings\n",
    "warnings.filterwarnings('ignore', category=DeprecationWarning)"
   ]
  },
  {
   "cell_type": "code",
   "execution_count": 2,
   "id": "97bc7dc9",
   "metadata": {
    "tags": [
     "hide-input"
    ]
   },
   "outputs": [],
   "source": [
    "# HIDE CODE\n",
    "\n",
    "\n",
    "def plot_parcellation(\n",
    "    parcellation: np.ndarray,\n",
    "    mask_l: np.ndarray,\n",
    "    mask_r: np.ndarray,\n",
    "    root_mask: np.ndarray,\n",
    "    figsize=(6, 4),\n",
    "    cmap='turbo', ):\n",
    "\n",
    "    sns.set_style('whitegrid')\n",
    "    fig, axes = plt.subplots(2, 3, figsize=figsize)\n",
    "    for i in range(2):\n",
    "        for j in range(3):\n",
    "            x = parcellation.copy()\n",
    "\n",
    "            if i == 0:\n",
    "                x[mask_r] = 0\n",
    "                label = 'left\\n'\n",
    "            else:\n",
    "                x[mask_l] = 0\n",
    "                # x[x != 0] -= int(np.max(parcellation) // 2)\n",
    "                label = 'right\\n'\n",
    "\n",
    "            if j == 0:\n",
    "                title = 'coronal'\n",
    "            elif j == 1:\n",
    "                title = 'axial'\n",
    "            else:\n",
    "                title = 'saggital'\n",
    "\n",
    "            data2plt = np.ma.masked_where(~root_mask.astype(bool), x)\n",
    "            axes[i, j].imshow(data2plt.mean(j), cmap=cmap)\n",
    "\n",
    "            list(map(lambda x: x.set_visible(False), axes[i, j].spines.values()))\n",
    "            axes[i, j].set_xticks([])\n",
    "            axes[i, j].set_yticks([])\n",
    "\n",
    "            if i == 0:\n",
    "                axes[i, j].set_title(title, fontsize=17, y=1.2)\n",
    "            else:\n",
    "                axes[i, j].set_title('')\n",
    "            if j == 0:\n",
    "                axes[i, j].set_ylabel(label, fontsize=17)\n",
    "\n",
    "    fig.tight_layout()\n",
    "    plt.show()\n",
    "    \n",
    "    return fig, axes\n",
    "\n",
    "\n",
    "def viz_parcel(parcellation, figsize=(10, 4), bins=80):\n",
    "    accepted, rejected = [], []\n",
    "    all_distances_accepted = []\n",
    "    for i, ctr in parcellation['cluster_centers'].items():\n",
    "        num_voxels = (parcellation['parcel'] == i).sum()\n",
    "        num_accepted = (parcellation['eroded'] == i).sum()    \n",
    "\n",
    "        accepted.append(num_accepted) \n",
    "        rejected.append(num_voxels - num_accepted)\n",
    "\n",
    "        points = np.array(tuple(zip(*np.where(parcellation['eroded'] == i))))\n",
    "        d = sp_dist.cdist(ctr.reshape(-1, 3), points.reshape(-1, 3)).flatten()\n",
    "        all_distances_accepted.extend(list(d))\n",
    "\n",
    "\n",
    "    fig, axes = create_figure(1, 2, figsize, style='whitegrid')\n",
    "\n",
    "    sns.histplot(rejected, color='C7', label='rejected', alpha=0.3, ax=axes[0])\n",
    "    sns.histplot(accepted, color='C2', label='accepted', alpha=0.7, ax=axes[0])\n",
    "    _min = np.min(accepted)\n",
    "    _median = np.median(accepted)\n",
    "    _max = np.max(accepted)\n",
    "    axes[0].axvline(_min, color='C4', ls='--', lw=1.3, label=f\"min: {_min}\")\n",
    "    axes[0].axvline(_median, color='C3', ls='--', lw=1.5, label=f\"median: {_median}\")\n",
    "    axes[0].axvline(_max, color='C4', ls='--', lw=1.3, label=f\"max: {_max}\")\n",
    "    axes[0].set_title('distribution of ROI sizes', fontsize=15, y=1.03)\n",
    "    axes[0].set_xlabel('num voxels', fontsize=14)\n",
    "    axes[0].legend()\n",
    "\n",
    "    y, bin_edges = np.histogram(all_distances_accepted, bins=bins)\n",
    "    x = (bin_edges[1:] + bin_edges[:-1]) / 2\n",
    "    m, b = np.polyfit(x[y > 0], np.log2(y[y > 0]), 1)\n",
    "    \n",
    "    sns.histplot(\n",
    "        all_distances_accepted, color='C6', stat='count',\n",
    "        kde=True, line_kws={'lw': 4, 'label': f\"fitted slope (log2): {np.round(m, 2)}\"}, ax=axes[1]\n",
    "    )\n",
    "    axes[1].axvline(\n",
    "        parcellation['radius'], color='k',\n",
    "        label=f\"max radius: {np.round(parcellation['radius'], 2)}\",\n",
    "        ls='--', lw=2\n",
    "    )\n",
    "    axes[1].set_xscale('log', base=2)\n",
    "    axes[1].set_yscale('log', base=2)\n",
    "    axes[1].set_title('voxel distances from ROI ctrs (eroded)', fontsize=15, y=1.03)\n",
    "    axes[1].set_xlabel('r', fontsize=14)\n",
    "    axes[1].legend(fontsize=13)\n",
    "\n",
    "    fig.tight_layout()\n",
    "    plt.show()"
   ]
  },
  {
   "cell_type": "markdown",
   "id": "003f513f",
   "metadata": {},
   "source": [
    "## Allen & Atlas"
   ]
  },
  {
   "cell_type": "code",
   "execution_count": 3,
   "id": "db246994",
   "metadata": {},
   "outputs": [
    {
     "data": {
      "application/vnd.jupyter.widget-view+json": {
       "model_id": "",
       "version_major": 2,
       "version_minor": 0
      },
      "text/plain": [
       "...merging dicts: 0it [00:00, ?it/s]"
      ]
     },
     "metadata": {},
     "output_type": "display_data"
    },
    {
     "name": "stdout",
     "output_type": "stream",
     "text": [
      "allen mouse atlas (res. 100um)\n",
      "From: http://www.brain-map.org (Wang et al 2020, https://doi.org/10.1016/j.cell.2020.04.007 )\n"
     ]
    },
    {
     "data": {
      "text/html": [
       "<pre style=\"white-space:pre;overflow-x:auto;line-height:normal;font-family:Menlo,'DejaVu Sans Mono',consolas,'Courier New',monospace\"><span style=\"font-weight: bold\">&lt;</span><span style=\"color: #ff00ff; text-decoration-color: #ff00ff; font-weight: bold\">BGSpace</span><span style=\"color: #000000; text-decoration-color: #000000\"> AnatomicalSpace object</span><span style=\"font-weight: bold\">&gt;</span>\n",
       "origin: <span style=\"font-weight: bold\">(</span><span style=\"color: #008000; text-decoration-color: #008000\">'Anterior'</span>, <span style=\"color: #008000; text-decoration-color: #008000\">'Superior'</span>, <span style=\"color: #008000; text-decoration-color: #008000\">'Left'</span><span style=\"font-weight: bold\">)</span>\n",
       "sections: <span style=\"font-weight: bold\">(</span><span style=\"color: #008000; text-decoration-color: #008000\">'Frontal plane'</span>, <span style=\"color: #008000; text-decoration-color: #008000\">'Horizontal plane'</span>, <span style=\"color: #008000; text-decoration-color: #008000\">'Sagittal plane'</span><span style=\"font-weight: bold\">)</span>\n",
       "shape: <span style=\"font-weight: bold\">(</span><span style=\"color: #008080; text-decoration-color: #008080; font-weight: bold\">132</span>, <span style=\"color: #008080; text-decoration-color: #008080; font-weight: bold\">80</span>, <span style=\"color: #008080; text-decoration-color: #008080; font-weight: bold\">114</span><span style=\"font-weight: bold\">)</span>\n",
       "\n",
       "</pre>\n"
      ],
      "text/plain": [
       "\u001b[1m<\u001b[0m\u001b[1;95mBGSpace\u001b[0m\u001b[39m AnatomicalSpace object\u001b[0m\u001b[1m>\u001b[0m\n",
       "origin: \u001b[1m(\u001b[0m\u001b[32m'Anterior'\u001b[0m, \u001b[32m'Superior'\u001b[0m, \u001b[32m'Left'\u001b[0m\u001b[1m)\u001b[0m\n",
       "sections: \u001b[1m(\u001b[0m\u001b[32m'Frontal plane'\u001b[0m, \u001b[32m'Horizontal plane'\u001b[0m, \u001b[32m'Sagittal plane'\u001b[0m\u001b[1m)\u001b[0m\n",
       "shape: \u001b[1m(\u001b[0m\u001b[1;36m132\u001b[0m, \u001b[1;36m80\u001b[0m, \u001b[1;36m114\u001b[0m\u001b[1m)\u001b[0m\n",
       "\n"
      ]
     },
     "metadata": {},
     "output_type": "display_data"
    }
   ],
   "source": [
    "mice = Mice(Config(128))\n",
    "allen = load_allen()\n",
    "atlas = load_bg_atlas()\n",
    "atlas.space"
   ]
  },
  {
   "cell_type": "code",
   "execution_count": 4,
   "id": "51b517a8",
   "metadata": {},
   "outputs": [
    {
     "name": "stderr",
     "output_type": "stream",
     "text": [
      "Intel(R) oneAPI Data Analytics Library solvers for sklearn enabled: https://intelpython.github.io/daal4py/sklearn.html\n"
     ]
    }
   ],
   "source": [
    "parcellation = kmeans_parcellation(\n",
    "    mask=allen['isocortex_mask'],\n",
    "    n_hemisphere_regions=mice.cfg.n_cortex_regions // 2,\n",
    "    symmetrize=False,\n",
    "    left_right_axis=2,\n",
    "    random_state=mice.cfg.random_state,\n",
    ")"
   ]
  },
  {
   "cell_type": "code",
   "execution_count": 5,
   "id": "eab6b205",
   "metadata": {
    "scrolled": true
   },
   "outputs": [
    {
     "data": {
      "image/png": "[encoded data removed]"
     },
     "metadata": {},
     "output_type": "display_data"
    }
   ],
   "source": [
    "viz_parcel(parcellation)"
   ]
  },
  {
   "cell_type": "code",
   "execution_count": null,
   "id": "a7c6f088",
   "metadata": {},
   "outputs": [],
   "source": []
  },
  {
   "cell_type": "code",
   "execution_count": 6,
   "id": "14f679d9",
   "metadata": {
    "scrolled": true
   },
   "outputs": [
    {
     "name": "stdout",
     "output_type": "stream",
     "text": [
      "allen mouse atlas (res. 100um)\n",
      "From: http://www.brain-map.org (Wang et al 2020, https://doi.org/10.1016/j.cell.2020.04.007 )\n"
     ]
    }
   ],
   "source": [
    "roi_masks, major_masks = get_roi_masks(parcellation, allen)"
   ]
  },
  {
   "cell_type": "code",
   "execution_count": 7,
   "id": "ea511491",
   "metadata": {},
   "outputs": [
    {
     "name": "stdout",
     "output_type": "stream",
     "text": [
      "['STR',\n",
      " 'PAL',\n",
      " 'OLF',\n",
      " 'CTXsp',\n",
      " 'HPF',\n",
      " 'VIS',\n",
      " 'TEa',\n",
      " 'PERI',\n",
      " 'ECT',\n",
      " 'RSP',\n",
      " 'AUD',\n",
      " 'PTLp',\n",
      " 'VISC',\n",
      " 'SS',\n",
      " 'SSp',\n",
      " 'SSp-bfd',\n",
      " 'SSp-ll',\n",
      " 'SSp-m',\n",
      " 'SSp-n',\n",
      " 'SSp-tr',\n",
      " 'SSp-ul',\n",
      " 'SSp-un',\n",
      " 'SSs',\n",
      " 'GU',\n",
      " 'ACA',\n",
      " 'AI',\n",
      " 'MO',\n",
      " 'MOp',\n",
      " 'MOs',\n",
      " 'ILA',\n",
      " 'PL',\n",
      " 'ORB',\n",
      " 'FRP']\n"
     ]
    }
   ],
   "source": [
    "pprint(list(major_masks.keys()))"
   ]
  },
  {
   "cell_type": "code",
   "execution_count": 8,
   "id": "f4b74134",
   "metadata": {},
   "outputs": [
    {
     "data": {
      "image/png": "[encoded data removed]"
     },
     "metadata": {},
     "output_type": "display_data"
    }
   ],
   "source": [
    "struct_colors = {\n",
    "    acro: rgb2hex([\n",
    "        item / 255 for item in\n",
    "        allen['structure_tree'].get_structures_by_acronym([acro])[0]['rgb_triplet']\n",
    "    ]) for acro in major_masks\n",
    "}\n",
    "struct_cmap = make_cmap(\n",
    "    ramp_colors=list(struct_colors.values()),\n",
    "    n_colors=len(struct_colors),\n",
    "    name='structs',\n",
    ")"
   ]
  },
  {
   "cell_type": "code",
   "execution_count": null,
   "id": "568e6299",
   "metadata": {},
   "outputs": [],
   "source": []
  },
  {
   "cell_type": "code",
   "execution_count": null,
   "id": "aeab5a92",
   "metadata": {},
   "outputs": [],
   "source": []
  },
  {
   "cell_type": "markdown",
   "id": "f3b88a2b",
   "metadata": {},
   "source": [
    "## Summary / Hierarchy"
   ]
  },
  {
   "cell_type": "code",
   "execution_count": 9,
   "id": "3f231088",
   "metadata": {},
   "outputs": [
    {
     "name": "stdout",
     "output_type": "stream",
     "text": [
      "Isocortex (315)\n",
      "├── ACA (31)\n",
      "├── AI (95)\n",
      "├── AUD (247)\n",
      "├── ECT (895)\n",
      "├── FRP (184)\n",
      "├── GU (1057)\n",
      "├── ILA (44)\n",
      "├── MO (500)\n",
      "├── ORB (714)\n",
      "├── PERI (922)\n",
      "├── PL (972)\n",
      "├── PTLp (22)\n",
      "├── RSP (254)\n",
      "├── SS (453)\n",
      "├── TEa (541)\n",
      "├── VIS (669)\n",
      "└── VISC (677)\n",
      "\n"
     ]
    }
   ],
   "source": [
    "_ = get_subtree(atlas.hierarchy, 315, 2)"
   ]
  },
  {
   "cell_type": "code",
   "execution_count": null,
   "id": "f6885665",
   "metadata": {},
   "outputs": [],
   "source": []
  },
  {
   "cell_type": "code",
   "execution_count": 10,
   "id": "e197811b",
   "metadata": {},
   "outputs": [
    {
     "data": {
      "text/html": [
       "<pre style=\"white-space:pre;overflow-x:auto;line-height:normal;font-family:Menlo,'DejaVu Sans Mono',consolas,'Courier New',monospace\"><span style=\"font-weight: bold\">[</span>PROGRESS<span style=\"font-weight: bold\">]</span> <span style=\"color: #008000; text-decoration-color: #008000\">'hierarchy_root-Isocortex.html'</span> saved at\n",
       "<span style=\"color: #800080; text-decoration-color: #800080\">/home/hadi/Dropbox/git/jb-Ca-fMRI/</span><span style=\"color: #ff00ff; text-decoration-color: #ff00ff\">_extras</span>\n",
       "</pre>\n"
      ],
      "text/plain": [
       "\u001b[1m[\u001b[0mPROGRESS\u001b[1m]\u001b[0m \u001b[32m'hierarchy_root-Isocortex.html'\u001b[0m saved at\n",
       "\u001b[35m/home/hadi/Dropbox/git/jb-Ca-fMRI/\u001b[0m\u001b[95m_extras\u001b[0m\n"
      ]
     },
     "metadata": {},
     "output_type": "display_data"
    },
    {
     "data": {
      "text/html": [
       "<pre style=\"white-space:pre;overflow-x:auto;line-height:normal;font-family:Menlo,'DejaVu Sans Mono',consolas,'Courier New',monospace\">+-----+------+--------------------------------------+-----------+----------+---------------+\n",
       "| lvl |  id  | name                                 |  acronym  | # voxels | relative size |\n",
       "+-----+------+--------------------------------------+-----------+----------+---------------+\n",
       "| --- | ---  | ---                                  |    ---    |   ---    |      ---      |\n",
       "|  <span style=\"color: #008080; text-decoration-color: #008080; font-weight: bold\">5</span>  | <span style=\"color: #008080; text-decoration-color: #008080; font-weight: bold\">315</span>  | Isocortex                            | Isocortex |  <span style=\"color: #008080; text-decoration-color: #008080; font-weight: bold\">123245</span>  |     <span style=\"color: #008080; text-decoration-color: #008080; font-weight: bold\">100</span> %     |\n",
       "| --- | ---  | ---                                  |    ---    |   ---    |      ---      |\n",
       "|  <span style=\"color: #008080; text-decoration-color: #008080; font-weight: bold\">6</span>  |  <span style=\"color: #008080; text-decoration-color: #008080; font-weight: bold\">31</span>  | Anterior cingulate area              |    ACA    |   <span style=\"color: #008080; text-decoration-color: #008080; font-weight: bold\">5501</span>   |      <span style=\"color: #008080; text-decoration-color: #008080; font-weight: bold\">4</span> %      |\n",
       "|  <span style=\"color: #008080; text-decoration-color: #008080; font-weight: bold\">6</span>  |  <span style=\"color: #008080; text-decoration-color: #008080; font-weight: bold\">95</span>  | Agranular insular area               |     AI    |   <span style=\"color: #008080; text-decoration-color: #008080; font-weight: bold\">7892</span>   |      <span style=\"color: #008080; text-decoration-color: #008080; font-weight: bold\">6</span> %      |\n",
       "|  <span style=\"color: #008080; text-decoration-color: #008080; font-weight: bold\">6</span>  | <span style=\"color: #008080; text-decoration-color: #008080; font-weight: bold\">247</span>  | Auditory areas                       |    AUD    |   <span style=\"color: #008080; text-decoration-color: #008080; font-weight: bold\">5770</span>   |      <span style=\"color: #008080; text-decoration-color: #008080; font-weight: bold\">5</span> %      |\n",
       "|  <span style=\"color: #008080; text-decoration-color: #008080; font-weight: bold\">6</span>  | <span style=\"color: #008080; text-decoration-color: #008080; font-weight: bold\">895</span>  | Ectorhinal area                      |    ECT    |   <span style=\"color: #008080; text-decoration-color: #008080; font-weight: bold\">1728</span>   |      <span style=\"color: #008080; text-decoration-color: #008080; font-weight: bold\">1</span> %      |\n",
       "|  <span style=\"color: #008080; text-decoration-color: #008080; font-weight: bold\">6</span>  | <span style=\"color: #008080; text-decoration-color: #008080; font-weight: bold\">184</span>  | Frontal pole, cerebral cortex        |    FRP    |   <span style=\"color: #008080; text-decoration-color: #008080; font-weight: bold\">966</span>    |      <span style=\"color: #008080; text-decoration-color: #008080; font-weight: bold\">1</span> %      |\n",
       "|  <span style=\"color: #008080; text-decoration-color: #008080; font-weight: bold\">6</span>  | <span style=\"color: #008080; text-decoration-color: #008080; font-weight: bold\">1057</span> | Gustatory areas                      |     GU    |   <span style=\"color: #008080; text-decoration-color: #008080; font-weight: bold\">1760</span>   |      <span style=\"color: #008080; text-decoration-color: #008080; font-weight: bold\">1</span> %      |\n",
       "|  <span style=\"color: #008080; text-decoration-color: #008080; font-weight: bold\">6</span>  |  <span style=\"color: #008080; text-decoration-color: #008080; font-weight: bold\">44</span>  | Infralimbic area                     |    ILA    |   <span style=\"color: #008080; text-decoration-color: #008080; font-weight: bold\">849</span>    |      <span style=\"color: #008080; text-decoration-color: #008080; font-weight: bold\">1</span> %      |\n",
       "|  <span style=\"color: #008080; text-decoration-color: #008080; font-weight: bold\">6</span>  | <span style=\"color: #008080; text-decoration-color: #008080; font-weight: bold\">500</span>  | Somatomotor areas                    |     MO    |  <span style=\"color: #008080; text-decoration-color: #008080; font-weight: bold\">24472</span>   |      <span style=\"color: #008080; text-decoration-color: #008080; font-weight: bold\">20</span> %     |\n",
       "|  <span style=\"color: #008080; text-decoration-color: #008080; font-weight: bold\">6</span>  | <span style=\"color: #008080; text-decoration-color: #008080; font-weight: bold\">714</span>  | Orbital area                         |    ORB    |   <span style=\"color: #008080; text-decoration-color: #008080; font-weight: bold\">5886</span>   |      <span style=\"color: #008080; text-decoration-color: #008080; font-weight: bold\">5</span> %      |\n",
       "|  <span style=\"color: #008080; text-decoration-color: #008080; font-weight: bold\">6</span>  | <span style=\"color: #008080; text-decoration-color: #008080; font-weight: bold\">922</span>  | Perirhinal area                      |    PERI   |   <span style=\"color: #008080; text-decoration-color: #008080; font-weight: bold\">797</span>    |      <span style=\"color: #008080; text-decoration-color: #008080; font-weight: bold\">1</span> %      |\n",
       "|  <span style=\"color: #008080; text-decoration-color: #008080; font-weight: bold\">6</span>  | <span style=\"color: #008080; text-decoration-color: #008080; font-weight: bold\">972</span>  | Prelimbic area                       |     PL    |   <span style=\"color: #008080; text-decoration-color: #008080; font-weight: bold\">2433</span>   |      <span style=\"color: #008080; text-decoration-color: #008080; font-weight: bold\">2</span> %      |\n",
       "|  <span style=\"color: #008080; text-decoration-color: #008080; font-weight: bold\">6</span>  |  <span style=\"color: #008080; text-decoration-color: #008080; font-weight: bold\">22</span>  | Posterior parietal association areas |    PTLp   |   <span style=\"color: #008080; text-decoration-color: #008080; font-weight: bold\">2454</span>   |      <span style=\"color: #008080; text-decoration-color: #008080; font-weight: bold\">2</span> %      |\n",
       "|  <span style=\"color: #008080; text-decoration-color: #008080; font-weight: bold\">6</span>  | <span style=\"color: #008080; text-decoration-color: #008080; font-weight: bold\">254</span>  | Retrosplenial area                   |    RSP    |  <span style=\"color: #008080; text-decoration-color: #008080; font-weight: bold\">10455</span>   |      <span style=\"color: #008080; text-decoration-color: #008080; font-weight: bold\">8</span> %      |\n",
       "|  <span style=\"color: #008080; text-decoration-color: #008080; font-weight: bold\">6</span>  | <span style=\"color: #008080; text-decoration-color: #008080; font-weight: bold\">453</span>  | Somatosensory areas                  |     SS    |  <span style=\"color: #008080; text-decoration-color: #008080; font-weight: bold\">33317</span>   |      <span style=\"color: #008080; text-decoration-color: #008080; font-weight: bold\">27</span> %     |\n",
       "|  <span style=\"color: #008080; text-decoration-color: #008080; font-weight: bold\">6</span>  | <span style=\"color: #008080; text-decoration-color: #008080; font-weight: bold\">541</span>  | Temporal association areas           |    TEa    |   <span style=\"color: #008080; text-decoration-color: #008080; font-weight: bold\">3106</span>   |      <span style=\"color: #008080; text-decoration-color: #008080; font-weight: bold\">3</span> %      |\n",
       "|  <span style=\"color: #008080; text-decoration-color: #008080; font-weight: bold\">6</span>  | <span style=\"color: #008080; text-decoration-color: #008080; font-weight: bold\">669</span>  | Visual areas                         |    VIS    |  <span style=\"color: #008080; text-decoration-color: #008080; font-weight: bold\">13489</span>   |      <span style=\"color: #008080; text-decoration-color: #008080; font-weight: bold\">11</span> %     |\n",
       "|  <span style=\"color: #008080; text-decoration-color: #008080; font-weight: bold\">6</span>  | <span style=\"color: #008080; text-decoration-color: #008080; font-weight: bold\">677</span>  | Visceral area                        |    VISC   |   <span style=\"color: #008080; text-decoration-color: #008080; font-weight: bold\">2370</span>   |      <span style=\"color: #008080; text-decoration-color: #008080; font-weight: bold\">2</span> %      |\n",
       "| --- | ---  | ---                                  |    ---    |   ---    |      ---      |\n",
       "|  <span style=\"color: #008080; text-decoration-color: #008080; font-weight: bold\">7</span>  | <span style=\"color: #008080; text-decoration-color: #008080; font-weight: bold\">985</span>  | Primary motor area                   |    MOp    |  <span style=\"color: #008080; text-decoration-color: #008080; font-weight: bold\">11376</span>   |      <span style=\"color: #008080; text-decoration-color: #008080; font-weight: bold\">9</span> %      |\n",
       "|  <span style=\"color: #008080; text-decoration-color: #008080; font-weight: bold\">7</span>  | <span style=\"color: #008080; text-decoration-color: #008080; font-weight: bold\">993</span>  | Secondary motor area                 |    MOs    |  <span style=\"color: #008080; text-decoration-color: #008080; font-weight: bold\">13096</span>   |      <span style=\"color: #008080; text-decoration-color: #008080; font-weight: bold\">11</span> %     |\n",
       "| --- | ---  | ---                                  |    ---    |   ---    |      ---      |\n",
       "|  <span style=\"color: #008080; text-decoration-color: #008080; font-weight: bold\">7</span>  | <span style=\"color: #008080; text-decoration-color: #008080; font-weight: bold\">322</span>  | Primary somatosensory area           |    SSp    |  <span style=\"color: #008080; text-decoration-color: #008080; font-weight: bold\">24324</span>   |      <span style=\"color: #008080; text-decoration-color: #008080; font-weight: bold\">20</span> %     |\n",
       "|  <span style=\"color: #008080; text-decoration-color: #008080; font-weight: bold\">7</span>  | <span style=\"color: #008080; text-decoration-color: #008080; font-weight: bold\">378</span>  | Supplemental somatosensory area      |    SSs    |   <span style=\"color: #008080; text-decoration-color: #008080; font-weight: bold\">8993</span>   |      <span style=\"color: #008080; text-decoration-color: #008080; font-weight: bold\">7</span> %      |\n",
       "| --- | ---  | ---                                  |    ---    |   ---    |      ---      |\n",
       "|  <span style=\"color: #008080; text-decoration-color: #008080; font-weight: bold\">8</span>  | <span style=\"color: #008080; text-decoration-color: #008080; font-weight: bold\">329</span>  | SSp, barrel field                    |  SSp-bfd  |   <span style=\"color: #008080; text-decoration-color: #008080; font-weight: bold\">6281</span>   |      <span style=\"color: #008080; text-decoration-color: #008080; font-weight: bold\">5</span> %      |\n",
       "|  <span style=\"color: #008080; text-decoration-color: #008080; font-weight: bold\">8</span>  | <span style=\"color: #008080; text-decoration-color: #008080; font-weight: bold\">337</span>  | SSp, lower limb                      |   SSp-ll  |   <span style=\"color: #008080; text-decoration-color: #008080; font-weight: bold\">2361</span>   |      <span style=\"color: #008080; text-decoration-color: #008080; font-weight: bold\">2</span> %      |\n",
       "|  <span style=\"color: #008080; text-decoration-color: #008080; font-weight: bold\">8</span>  | <span style=\"color: #008080; text-decoration-color: #008080; font-weight: bold\">345</span>  | SSp, mouth                           |   SSp-m   |   <span style=\"color: #008080; text-decoration-color: #008080; font-weight: bold\">6224</span>   |      <span style=\"color: #008080; text-decoration-color: #008080; font-weight: bold\">5</span> %      |\n",
       "|  <span style=\"color: #008080; text-decoration-color: #008080; font-weight: bold\">8</span>  | <span style=\"color: #008080; text-decoration-color: #008080; font-weight: bold\">353</span>  | SSp, nose                            |   SSp-n   |   <span style=\"color: #008080; text-decoration-color: #008080; font-weight: bold\">3032</span>   |      <span style=\"color: #008080; text-decoration-color: #008080; font-weight: bold\">2</span> %      |\n",
       "|  <span style=\"color: #008080; text-decoration-color: #008080; font-weight: bold\">8</span>  | <span style=\"color: #008080; text-decoration-color: #008080; font-weight: bold\">361</span>  | SSp, trunk                           |   SSp-tr  |   <span style=\"color: #008080; text-decoration-color: #008080; font-weight: bold\">1399</span>   |      <span style=\"color: #008080; text-decoration-color: #008080; font-weight: bold\">1</span> %      |\n",
       "|  <span style=\"color: #008080; text-decoration-color: #008080; font-weight: bold\">8</span>  | <span style=\"color: #008080; text-decoration-color: #008080; font-weight: bold\">369</span>  | SSp, upper limb                      |   SSp-ul  |   <span style=\"color: #008080; text-decoration-color: #008080; font-weight: bold\">3764</span>   |      <span style=\"color: #008080; text-decoration-color: #008080; font-weight: bold\">3</span> %      |\n",
       "|  <span style=\"color: #008080; text-decoration-color: #008080; font-weight: bold\">8</span>  |      | SSp, unassigned                      |   SSp-un  |   <span style=\"color: #008080; text-decoration-color: #008080; font-weight: bold\">1263</span>   |      <span style=\"color: #008080; text-decoration-color: #008080; font-weight: bold\">1</span> %      |\n",
       "| --- | ---  | ---                                  |    ---    |   ---    |      ---      |\n",
       "+-----+------+--------------------------------------+-----------+----------+---------------+\n",
       "</pre>\n"
      ],
      "text/plain": [
       "+-----+------+--------------------------------------+-----------+----------+---------------+\n",
       "| lvl |  id  | name                                 |  acronym  | # voxels | relative size |\n",
       "+-----+------+--------------------------------------+-----------+----------+---------------+\n",
       "| --- | ---  | ---                                  |    ---    |   ---    |      ---      |\n",
       "|  \u001b[1;36m5\u001b[0m  | \u001b[1;36m315\u001b[0m  | Isocortex                            | Isocortex |  \u001b[1;36m123245\u001b[0m  |     \u001b[1;36m100\u001b[0m %     |\n",
       "| --- | ---  | ---                                  |    ---    |   ---    |      ---      |\n",
       "|  \u001b[1;36m6\u001b[0m  |  \u001b[1;36m31\u001b[0m  | Anterior cingulate area              |    ACA    |   \u001b[1;36m5501\u001b[0m   |      \u001b[1;36m4\u001b[0m %      |\n",
       "|  \u001b[1;36m6\u001b[0m  |  \u001b[1;36m95\u001b[0m  | Agranular insular area               |     AI    |   \u001b[1;36m7892\u001b[0m   |      \u001b[1;36m6\u001b[0m %      |\n",
       "|  \u001b[1;36m6\u001b[0m  | \u001b[1;36m247\u001b[0m  | Auditory areas                       |    AUD    |   \u001b[1;36m5770\u001b[0m   |      \u001b[1;36m5\u001b[0m %      |\n",
       "|  \u001b[1;36m6\u001b[0m  | \u001b[1;36m895\u001b[0m  | Ectorhinal area                      |    ECT    |   \u001b[1;36m1728\u001b[0m   |      \u001b[1;36m1\u001b[0m %      |\n",
       "|  \u001b[1;36m6\u001b[0m  | \u001b[1;36m184\u001b[0m  | Frontal pole, cerebral cortex        |    FRP    |   \u001b[1;36m966\u001b[0m    |      \u001b[1;36m1\u001b[0m %      |\n",
       "|  \u001b[1;36m6\u001b[0m  | \u001b[1;36m1057\u001b[0m | Gustatory areas                      |     GU    |   \u001b[1;36m1760\u001b[0m   |      \u001b[1;36m1\u001b[0m %      |\n",
       "|  \u001b[1;36m6\u001b[0m  |  \u001b[1;36m44\u001b[0m  | Infralimbic area                     |    ILA    |   \u001b[1;36m849\u001b[0m    |      \u001b[1;36m1\u001b[0m %      |\n",
       "|  \u001b[1;36m6\u001b[0m  | \u001b[1;36m500\u001b[0m  | Somatomotor areas                    |     MO    |  \u001b[1;36m24472\u001b[0m   |      \u001b[1;36m20\u001b[0m %     |\n",
       "|  \u001b[1;36m6\u001b[0m  | \u001b[1;36m714\u001b[0m  | Orbital area                         |    ORB    |   \u001b[1;36m5886\u001b[0m   |      \u001b[1;36m5\u001b[0m %      |\n",
       "|  \u001b[1;36m6\u001b[0m  | \u001b[1;36m922\u001b[0m  | Perirhinal area                      |    PERI   |   \u001b[1;36m797\u001b[0m    |      \u001b[1;36m1\u001b[0m %      |\n",
       "|  \u001b[1;36m6\u001b[0m  | \u001b[1;36m972\u001b[0m  | Prelimbic area                       |     PL    |   \u001b[1;36m2433\u001b[0m   |      \u001b[1;36m2\u001b[0m %      |\n",
       "|  \u001b[1;36m6\u001b[0m  |  \u001b[1;36m22\u001b[0m  | Posterior parietal association areas |    PTLp   |   \u001b[1;36m2454\u001b[0m   |      \u001b[1;36m2\u001b[0m %      |\n",
       "|  \u001b[1;36m6\u001b[0m  | \u001b[1;36m254\u001b[0m  | Retrosplenial area                   |    RSP    |  \u001b[1;36m10455\u001b[0m   |      \u001b[1;36m8\u001b[0m %      |\n",
       "|  \u001b[1;36m6\u001b[0m  | \u001b[1;36m453\u001b[0m  | Somatosensory areas                  |     SS    |  \u001b[1;36m33317\u001b[0m   |      \u001b[1;36m27\u001b[0m %     |\n",
       "|  \u001b[1;36m6\u001b[0m  | \u001b[1;36m541\u001b[0m  | Temporal association areas           |    TEa    |   \u001b[1;36m3106\u001b[0m   |      \u001b[1;36m3\u001b[0m %      |\n",
       "|  \u001b[1;36m6\u001b[0m  | \u001b[1;36m669\u001b[0m  | Visual areas                         |    VIS    |  \u001b[1;36m13489\u001b[0m   |      \u001b[1;36m11\u001b[0m %     |\n",
       "|  \u001b[1;36m6\u001b[0m  | \u001b[1;36m677\u001b[0m  | Visceral area                        |    VISC   |   \u001b[1;36m2370\u001b[0m   |      \u001b[1;36m2\u001b[0m %      |\n",
       "| --- | ---  | ---                                  |    ---    |   ---    |      ---      |\n",
       "|  \u001b[1;36m7\u001b[0m  | \u001b[1;36m985\u001b[0m  | Primary motor area                   |    MOp    |  \u001b[1;36m11376\u001b[0m   |      \u001b[1;36m9\u001b[0m %      |\n",
       "|  \u001b[1;36m7\u001b[0m  | \u001b[1;36m993\u001b[0m  | Secondary motor area                 |    MOs    |  \u001b[1;36m13096\u001b[0m   |      \u001b[1;36m11\u001b[0m %     |\n",
       "| --- | ---  | ---                                  |    ---    |   ---    |      ---      |\n",
       "|  \u001b[1;36m7\u001b[0m  | \u001b[1;36m322\u001b[0m  | Primary somatosensory area           |    SSp    |  \u001b[1;36m24324\u001b[0m   |      \u001b[1;36m20\u001b[0m %     |\n",
       "|  \u001b[1;36m7\u001b[0m  | \u001b[1;36m378\u001b[0m  | Supplemental somatosensory area      |    SSs    |   \u001b[1;36m8993\u001b[0m   |      \u001b[1;36m7\u001b[0m %      |\n",
       "| --- | ---  | ---                                  |    ---    |   ---    |      ---      |\n",
       "|  \u001b[1;36m8\u001b[0m  | \u001b[1;36m329\u001b[0m  | SSp, barrel field                    |  SSp-bfd  |   \u001b[1;36m6281\u001b[0m   |      \u001b[1;36m5\u001b[0m %      |\n",
       "|  \u001b[1;36m8\u001b[0m  | \u001b[1;36m337\u001b[0m  | SSp, lower limb                      |   SSp-ll  |   \u001b[1;36m2361\u001b[0m   |      \u001b[1;36m2\u001b[0m %      |\n",
       "|  \u001b[1;36m8\u001b[0m  | \u001b[1;36m345\u001b[0m  | SSp, mouth                           |   SSp-m   |   \u001b[1;36m6224\u001b[0m   |      \u001b[1;36m5\u001b[0m %      |\n",
       "|  \u001b[1;36m8\u001b[0m  | \u001b[1;36m353\u001b[0m  | SSp, nose                            |   SSp-n   |   \u001b[1;36m3032\u001b[0m   |      \u001b[1;36m2\u001b[0m %      |\n",
       "|  \u001b[1;36m8\u001b[0m  | \u001b[1;36m361\u001b[0m  | SSp, trunk                           |   SSp-tr  |   \u001b[1;36m1399\u001b[0m   |      \u001b[1;36m1\u001b[0m %      |\n",
       "|  \u001b[1;36m8\u001b[0m  | \u001b[1;36m369\u001b[0m  | SSp, upper limb                      |   SSp-ul  |   \u001b[1;36m3764\u001b[0m   |      \u001b[1;36m3\u001b[0m %      |\n",
       "|  \u001b[1;36m8\u001b[0m  |      | SSp, unassigned                      |   SSp-un  |   \u001b[1;36m1263\u001b[0m   |      \u001b[1;36m1\u001b[0m %      |\n",
       "| --- | ---  | ---                                  |    ---    |   ---    |      ---      |\n",
       "+-----+------+--------------------------------------+-----------+----------+---------------+\n"
      ]
     },
     "metadata": {},
     "output_type": "display_data"
    }
   ],
   "source": [
    "table, path = get_summary_table(allen, atlas.hierarchy, export_path=extras_dir)\n",
    "print(table)"
   ]
  },
  {
   "cell_type": "code",
   "execution_count": 11,
   "id": "959c8109",
   "metadata": {
    "scrolled": false
   },
   "outputs": [
    {
     "data": {
      "text/html": [
       "<table frame=\"box\" rules=\"cols\">\n",
       "    <thead>\n",
       "        <tr>\n",
       "            <th style=\"padding-left: 1em; padding-right: 1em; text-align: center\">lvl</th>\n",
       "            <th style=\"padding-left: 1em; padding-right: 1em; text-align: center\">id</th>\n",
       "            <th style=\"padding-left: 1em; padding-right: 1em; text-align: center\">name</th>\n",
       "            <th style=\"padding-left: 1em; padding-right: 1em; text-align: center\">acronym</th>\n",
       "            <th style=\"padding-left: 1em; padding-right: 1em; text-align: center\"># voxels</th>\n",
       "            <th style=\"padding-left: 1em; padding-right: 1em; text-align: center\">relative size</th>\n",
       "        </tr>\n",
       "    </thead>\n",
       "    <tbody>\n",
       "        <tr>\n",
       "            <td style=\"padding-left: 1em; padding-right: 1em; text-align: center; vertical-align: top\">---</td>\n",
       "            <td style=\"padding-left: 1em; padding-right: 1em; text-align: center; vertical-align: top\">---</td>\n",
       "            <td style=\"padding-left: 1em; padding-right: 1em; text-align: left; vertical-align: top\">---</td>\n",
       "            <td style=\"padding-left: 1em; padding-right: 1em; text-align: center; vertical-align: top\">---</td>\n",
       "            <td style=\"padding-left: 1em; padding-right: 1em; text-align: center; vertical-align: top\">---</td>\n",
       "            <td style=\"padding-left: 1em; padding-right: 1em; text-align: center; vertical-align: top\">---</td>\n",
       "        </tr>\n",
       "        <tr>\n",
       "            <td style=\"padding-left: 1em; padding-right: 1em; text-align: center; vertical-align: top\">5</td>\n",
       "            <td style=\"padding-left: 1em; padding-right: 1em; text-align: center; vertical-align: top\">315</td>\n",
       "            <td style=\"padding-left: 1em; padding-right: 1em; text-align: left; vertical-align: top\">Isocortex</td>\n",
       "            <td style=\"padding-left: 1em; padding-right: 1em; text-align: center; vertical-align: top\">Isocortex</td>\n",
       "            <td style=\"padding-left: 1em; padding-right: 1em; text-align: center; vertical-align: top\">123245</td>\n",
       "            <td style=\"padding-left: 1em; padding-right: 1em; text-align: center; vertical-align: top\">100 %</td>\n",
       "        </tr>\n",
       "        <tr>\n",
       "            <td style=\"padding-left: 1em; padding-right: 1em; text-align: center; vertical-align: top\">---</td>\n",
       "            <td style=\"padding-left: 1em; padding-right: 1em; text-align: center; vertical-align: top\">---</td>\n",
       "            <td style=\"padding-left: 1em; padding-right: 1em; text-align: left; vertical-align: top\">---</td>\n",
       "            <td style=\"padding-left: 1em; padding-right: 1em; text-align: center; vertical-align: top\">---</td>\n",
       "            <td style=\"padding-left: 1em; padding-right: 1em; text-align: center; vertical-align: top\">---</td>\n",
       "            <td style=\"padding-left: 1em; padding-right: 1em; text-align: center; vertical-align: top\">---</td>\n",
       "        </tr>\n",
       "        <tr>\n",
       "            <td style=\"padding-left: 1em; padding-right: 1em; text-align: center; vertical-align: top\">6</td>\n",
       "            <td style=\"padding-left: 1em; padding-right: 1em; text-align: center; vertical-align: top\">31</td>\n",
       "            <td style=\"padding-left: 1em; padding-right: 1em; text-align: left; vertical-align: top\">Anterior cingulate area</td>\n",
       "            <td style=\"padding-left: 1em; padding-right: 1em; text-align: center; vertical-align: top\">ACA</td>\n",
       "            <td style=\"padding-left: 1em; padding-right: 1em; text-align: center; vertical-align: top\">5501</td>\n",
       "            <td style=\"padding-left: 1em; padding-right: 1em; text-align: center; vertical-align: top\">4 %</td>\n",
       "        </tr>\n",
       "        <tr>\n",
       "            <td style=\"padding-left: 1em; padding-right: 1em; text-align: center; vertical-align: top\">6</td>\n",
       "            <td style=\"padding-left: 1em; padding-right: 1em; text-align: center; vertical-align: top\">95</td>\n",
       "            <td style=\"padding-left: 1em; padding-right: 1em; text-align: left; vertical-align: top\">Agranular insular area</td>\n",
       "            <td style=\"padding-left: 1em; padding-right: 1em; text-align: center; vertical-align: top\">AI</td>\n",
       "            <td style=\"padding-left: 1em; padding-right: 1em; text-align: center; vertical-align: top\">7892</td>\n",
       "            <td style=\"padding-left: 1em; padding-right: 1em; text-align: center; vertical-align: top\">6 %</td>\n",
       "        </tr>\n",
       "        <tr>\n",
       "            <td style=\"padding-left: 1em; padding-right: 1em; text-align: center; vertical-align: top\">6</td>\n",
       "            <td style=\"padding-left: 1em; padding-right: 1em; text-align: center; vertical-align: top\">247</td>\n",
       "            <td style=\"padding-left: 1em; padding-right: 1em; text-align: left; vertical-align: top\">Auditory areas</td>\n",
       "            <td style=\"padding-left: 1em; padding-right: 1em; text-align: center; vertical-align: top\">AUD</td>\n",
       "            <td style=\"padding-left: 1em; padding-right: 1em; text-align: center; vertical-align: top\">5770</td>\n",
       "            <td style=\"padding-left: 1em; padding-right: 1em; text-align: center; vertical-align: top\">5 %</td>\n",
       "        </tr>\n",
       "        <tr>\n",
       "            <td style=\"padding-left: 1em; padding-right: 1em; text-align: center; vertical-align: top\">6</td>\n",
       "            <td style=\"padding-left: 1em; padding-right: 1em; text-align: center; vertical-align: top\">895</td>\n",
       "            <td style=\"padding-left: 1em; padding-right: 1em; text-align: left; vertical-align: top\">Ectorhinal area</td>\n",
       "            <td style=\"padding-left: 1em; padding-right: 1em; text-align: center; vertical-align: top\">ECT</td>\n",
       "            <td style=\"padding-left: 1em; padding-right: 1em; text-align: center; vertical-align: top\">1728</td>\n",
       "            <td style=\"padding-left: 1em; padding-right: 1em; text-align: center; vertical-align: top\">1 %</td>\n",
       "        </tr>\n",
       "        <tr>\n",
       "            <td style=\"padding-left: 1em; padding-right: 1em; text-align: center; vertical-align: top\">6</td>\n",
       "            <td style=\"padding-left: 1em; padding-right: 1em; text-align: center; vertical-align: top\">184</td>\n",
       "            <td style=\"padding-left: 1em; padding-right: 1em; text-align: left; vertical-align: top\">Frontal pole, cerebral cortex</td>\n",
       "            <td style=\"padding-left: 1em; padding-right: 1em; text-align: center; vertical-align: top\">FRP</td>\n",
       "            <td style=\"padding-left: 1em; padding-right: 1em; text-align: center; vertical-align: top\">966</td>\n",
       "            <td style=\"padding-left: 1em; padding-right: 1em; text-align: center; vertical-align: top\">1 %</td>\n",
       "        </tr>\n",
       "        <tr>\n",
       "            <td style=\"padding-left: 1em; padding-right: 1em; text-align: center; vertical-align: top\">6</td>\n",
       "            <td style=\"padding-left: 1em; padding-right: 1em; text-align: center; vertical-align: top\">1057</td>\n",
       "            <td style=\"padding-left: 1em; padding-right: 1em; text-align: left; vertical-align: top\">Gustatory areas</td>\n",
       "            <td style=\"padding-left: 1em; padding-right: 1em; text-align: center; vertical-align: top\">GU</td>\n",
       "            <td style=\"padding-left: 1em; padding-right: 1em; text-align: center; vertical-align: top\">1760</td>\n",
       "            <td style=\"padding-left: 1em; padding-right: 1em; text-align: center; vertical-align: top\">1 %</td>\n",
       "        </tr>\n",
       "        <tr>\n",
       "            <td style=\"padding-left: 1em; padding-right: 1em; text-align: center; vertical-align: top\">6</td>\n",
       "            <td style=\"padding-left: 1em; padding-right: 1em; text-align: center; vertical-align: top\">44</td>\n",
       "            <td style=\"padding-left: 1em; padding-right: 1em; text-align: left; vertical-align: top\">Infralimbic area</td>\n",
       "            <td style=\"padding-left: 1em; padding-right: 1em; text-align: center; vertical-align: top\">ILA</td>\n",
       "            <td style=\"padding-left: 1em; padding-right: 1em; text-align: center; vertical-align: top\">849</td>\n",
       "            <td style=\"padding-left: 1em; padding-right: 1em; text-align: center; vertical-align: top\">1 %</td>\n",
       "        </tr>\n",
       "        <tr>\n",
       "            <td style=\"padding-left: 1em; padding-right: 1em; text-align: center; vertical-align: top\">6</td>\n",
       "            <td style=\"padding-left: 1em; padding-right: 1em; text-align: center; vertical-align: top\">500</td>\n",
       "            <td style=\"padding-left: 1em; padding-right: 1em; text-align: left; vertical-align: top\">Somatomotor areas</td>\n",
       "            <td style=\"padding-left: 1em; padding-right: 1em; text-align: center; vertical-align: top\">MO</td>\n",
       "            <td style=\"padding-left: 1em; padding-right: 1em; text-align: center; vertical-align: top\">24472</td>\n",
       "            <td style=\"padding-left: 1em; padding-right: 1em; text-align: center; vertical-align: top\">20 %</td>\n",
       "        </tr>\n",
       "        <tr>\n",
       "            <td style=\"padding-left: 1em; padding-right: 1em; text-align: center; vertical-align: top\">6</td>\n",
       "            <td style=\"padding-left: 1em; padding-right: 1em; text-align: center; vertical-align: top\">714</td>\n",
       "            <td style=\"padding-left: 1em; padding-right: 1em; text-align: left; vertical-align: top\">Orbital area</td>\n",
       "            <td style=\"padding-left: 1em; padding-right: 1em; text-align: center; vertical-align: top\">ORB</td>\n",
       "            <td style=\"padding-left: 1em; padding-right: 1em; text-align: center; vertical-align: top\">5886</td>\n",
       "            <td style=\"padding-left: 1em; padding-right: 1em; text-align: center; vertical-align: top\">5 %</td>\n",
       "        </tr>\n",
       "        <tr>\n",
       "            <td style=\"padding-left: 1em; padding-right: 1em; text-align: center; vertical-align: top\">6</td>\n",
       "            <td style=\"padding-left: 1em; padding-right: 1em; text-align: center; vertical-align: top\">922</td>\n",
       "            <td style=\"padding-left: 1em; padding-right: 1em; text-align: left; vertical-align: top\">Perirhinal area</td>\n",
       "            <td style=\"padding-left: 1em; padding-right: 1em; text-align: center; vertical-align: top\">PERI</td>\n",
       "            <td style=\"padding-left: 1em; padding-right: 1em; text-align: center; vertical-align: top\">797</td>\n",
       "            <td style=\"padding-left: 1em; padding-right: 1em; text-align: center; vertical-align: top\">1 %</td>\n",
       "        </tr>\n",
       "        <tr>\n",
       "            <td style=\"padding-left: 1em; padding-right: 1em; text-align: center; vertical-align: top\">6</td>\n",
       "            <td style=\"padding-left: 1em; padding-right: 1em; text-align: center; vertical-align: top\">972</td>\n",
       "            <td style=\"padding-left: 1em; padding-right: 1em; text-align: left; vertical-align: top\">Prelimbic area</td>\n",
       "            <td style=\"padding-left: 1em; padding-right: 1em; text-align: center; vertical-align: top\">PL</td>\n",
       "            <td style=\"padding-left: 1em; padding-right: 1em; text-align: center; vertical-align: top\">2433</td>\n",
       "            <td style=\"padding-left: 1em; padding-right: 1em; text-align: center; vertical-align: top\">2 %</td>\n",
       "        </tr>\n",
       "        <tr>\n",
       "            <td style=\"padding-left: 1em; padding-right: 1em; text-align: center; vertical-align: top\">6</td>\n",
       "            <td style=\"padding-left: 1em; padding-right: 1em; text-align: center; vertical-align: top\">22</td>\n",
       "            <td style=\"padding-left: 1em; padding-right: 1em; text-align: left; vertical-align: top\">Posterior parietal association areas</td>\n",
       "            <td style=\"padding-left: 1em; padding-right: 1em; text-align: center; vertical-align: top\">PTLp</td>\n",
       "            <td style=\"padding-left: 1em; padding-right: 1em; text-align: center; vertical-align: top\">2454</td>\n",
       "            <td style=\"padding-left: 1em; padding-right: 1em; text-align: center; vertical-align: top\">2 %</td>\n",
       "        </tr>\n",
       "        <tr>\n",
       "            <td style=\"padding-left: 1em; padding-right: 1em; text-align: center; vertical-align: top\">6</td>\n",
       "            <td style=\"padding-left: 1em; padding-right: 1em; text-align: center; vertical-align: top\">254</td>\n",
       "            <td style=\"padding-left: 1em; padding-right: 1em; text-align: left; vertical-align: top\">Retrosplenial area</td>\n",
       "            <td style=\"padding-left: 1em; padding-right: 1em; text-align: center; vertical-align: top\">RSP</td>\n",
       "            <td style=\"padding-left: 1em; padding-right: 1em; text-align: center; vertical-align: top\">10455</td>\n",
       "            <td style=\"padding-left: 1em; padding-right: 1em; text-align: center; vertical-align: top\">8 %</td>\n",
       "        </tr>\n",
       "        <tr>\n",
       "            <td style=\"padding-left: 1em; padding-right: 1em; text-align: center; vertical-align: top\">6</td>\n",
       "            <td style=\"padding-left: 1em; padding-right: 1em; text-align: center; vertical-align: top\">453</td>\n",
       "            <td style=\"padding-left: 1em; padding-right: 1em; text-align: left; vertical-align: top\">Somatosensory areas</td>\n",
       "            <td style=\"padding-left: 1em; padding-right: 1em; text-align: center; vertical-align: top\">SS</td>\n",
       "            <td style=\"padding-left: 1em; padding-right: 1em; text-align: center; vertical-align: top\">33317</td>\n",
       "            <td style=\"padding-left: 1em; padding-right: 1em; text-align: center; vertical-align: top\">27 %</td>\n",
       "        </tr>\n",
       "        <tr>\n",
       "            <td style=\"padding-left: 1em; padding-right: 1em; text-align: center; vertical-align: top\">6</td>\n",
       "            <td style=\"padding-left: 1em; padding-right: 1em; text-align: center; vertical-align: top\">541</td>\n",
       "            <td style=\"padding-left: 1em; padding-right: 1em; text-align: left; vertical-align: top\">Temporal association areas</td>\n",
       "            <td style=\"padding-left: 1em; padding-right: 1em; text-align: center; vertical-align: top\">TEa</td>\n",
       "            <td style=\"padding-left: 1em; padding-right: 1em; text-align: center; vertical-align: top\">3106</td>\n",
       "            <td style=\"padding-left: 1em; padding-right: 1em; text-align: center; vertical-align: top\">3 %</td>\n",
       "        </tr>\n",
       "        <tr>\n",
       "            <td style=\"padding-left: 1em; padding-right: 1em; text-align: center; vertical-align: top\">6</td>\n",
       "            <td style=\"padding-left: 1em; padding-right: 1em; text-align: center; vertical-align: top\">669</td>\n",
       "            <td style=\"padding-left: 1em; padding-right: 1em; text-align: left; vertical-align: top\">Visual areas</td>\n",
       "            <td style=\"padding-left: 1em; padding-right: 1em; text-align: center; vertical-align: top\">VIS</td>\n",
       "            <td style=\"padding-left: 1em; padding-right: 1em; text-align: center; vertical-align: top\">13489</td>\n",
       "            <td style=\"padding-left: 1em; padding-right: 1em; text-align: center; vertical-align: top\">11 %</td>\n",
       "        </tr>\n",
       "        <tr>\n",
       "            <td style=\"padding-left: 1em; padding-right: 1em; text-align: center; vertical-align: top\">6</td>\n",
       "            <td style=\"padding-left: 1em; padding-right: 1em; text-align: center; vertical-align: top\">677</td>\n",
       "            <td style=\"padding-left: 1em; padding-right: 1em; text-align: left; vertical-align: top\">Visceral area</td>\n",
       "            <td style=\"padding-left: 1em; padding-right: 1em; text-align: center; vertical-align: top\">VISC</td>\n",
       "            <td style=\"padding-left: 1em; padding-right: 1em; text-align: center; vertical-align: top\">2370</td>\n",
       "            <td style=\"padding-left: 1em; padding-right: 1em; text-align: center; vertical-align: top\">2 %</td>\n",
       "        </tr>\n",
       "        <tr>\n",
       "            <td style=\"padding-left: 1em; padding-right: 1em; text-align: center; vertical-align: top\">---</td>\n",
       "            <td style=\"padding-left: 1em; padding-right: 1em; text-align: center; vertical-align: top\">---</td>\n",
       "            <td style=\"padding-left: 1em; padding-right: 1em; text-align: left; vertical-align: top\">---</td>\n",
       "            <td style=\"padding-left: 1em; padding-right: 1em; text-align: center; vertical-align: top\">---</td>\n",
       "            <td style=\"padding-left: 1em; padding-right: 1em; text-align: center; vertical-align: top\">---</td>\n",
       "            <td style=\"padding-left: 1em; padding-right: 1em; text-align: center; vertical-align: top\">---</td>\n",
       "        </tr>\n",
       "        <tr>\n",
       "            <td style=\"padding-left: 1em; padding-right: 1em; text-align: center; vertical-align: top\">7</td>\n",
       "            <td style=\"padding-left: 1em; padding-right: 1em; text-align: center; vertical-align: top\">985</td>\n",
       "            <td style=\"padding-left: 1em; padding-right: 1em; text-align: left; vertical-align: top\">Primary motor area</td>\n",
       "            <td style=\"padding-left: 1em; padding-right: 1em; text-align: center; vertical-align: top\">MOp</td>\n",
       "            <td style=\"padding-left: 1em; padding-right: 1em; text-align: center; vertical-align: top\">11376</td>\n",
       "            <td style=\"padding-left: 1em; padding-right: 1em; text-align: center; vertical-align: top\">9 %</td>\n",
       "        </tr>\n",
       "        <tr>\n",
       "            <td style=\"padding-left: 1em; padding-right: 1em; text-align: center; vertical-align: top\">7</td>\n",
       "            <td style=\"padding-left: 1em; padding-right: 1em; text-align: center; vertical-align: top\">993</td>\n",
       "            <td style=\"padding-left: 1em; padding-right: 1em; text-align: left; vertical-align: top\">Secondary motor area</td>\n",
       "            <td style=\"padding-left: 1em; padding-right: 1em; text-align: center; vertical-align: top\">MOs</td>\n",
       "            <td style=\"padding-left: 1em; padding-right: 1em; text-align: center; vertical-align: top\">13096</td>\n",
       "            <td style=\"padding-left: 1em; padding-right: 1em; text-align: center; vertical-align: top\">11 %</td>\n",
       "        </tr>\n",
       "        <tr>\n",
       "            <td style=\"padding-left: 1em; padding-right: 1em; text-align: center; vertical-align: top\">---</td>\n",
       "            <td style=\"padding-left: 1em; padding-right: 1em; text-align: center; vertical-align: top\">---</td>\n",
       "            <td style=\"padding-left: 1em; padding-right: 1em; text-align: left; vertical-align: top\">---</td>\n",
       "            <td style=\"padding-left: 1em; padding-right: 1em; text-align: center; vertical-align: top\">---</td>\n",
       "            <td style=\"padding-left: 1em; padding-right: 1em; text-align: center; vertical-align: top\">---</td>\n",
       "            <td style=\"padding-left: 1em; padding-right: 1em; text-align: center; vertical-align: top\">---</td>\n",
       "        </tr>\n",
       "        <tr>\n",
       "            <td style=\"padding-left: 1em; padding-right: 1em; text-align: center; vertical-align: top\">7</td>\n",
       "            <td style=\"padding-left: 1em; padding-right: 1em; text-align: center; vertical-align: top\">322</td>\n",
       "            <td style=\"padding-left: 1em; padding-right: 1em; text-align: left; vertical-align: top\">Primary somatosensory area</td>\n",
       "            <td style=\"padding-left: 1em; padding-right: 1em; text-align: center; vertical-align: top\">SSp</td>\n",
       "            <td style=\"padding-left: 1em; padding-right: 1em; text-align: center; vertical-align: top\">24324</td>\n",
       "            <td style=\"padding-left: 1em; padding-right: 1em; text-align: center; vertical-align: top\">20 %</td>\n",
       "        </tr>\n",
       "        <tr>\n",
       "            <td style=\"padding-left: 1em; padding-right: 1em; text-align: center; vertical-align: top\">7</td>\n",
       "            <td style=\"padding-left: 1em; padding-right: 1em; text-align: center; vertical-align: top\">378</td>\n",
       "            <td style=\"padding-left: 1em; padding-right: 1em; text-align: left; vertical-align: top\">Supplemental somatosensory area</td>\n",
       "            <td style=\"padding-left: 1em; padding-right: 1em; text-align: center; vertical-align: top\">SSs</td>\n",
       "            <td style=\"padding-left: 1em; padding-right: 1em; text-align: center; vertical-align: top\">8993</td>\n",
       "            <td style=\"padding-left: 1em; padding-right: 1em; text-align: center; vertical-align: top\">7 %</td>\n",
       "        </tr>\n",
       "        <tr>\n",
       "            <td style=\"padding-left: 1em; padding-right: 1em; text-align: center; vertical-align: top\">---</td>\n",
       "            <td style=\"padding-left: 1em; padding-right: 1em; text-align: center; vertical-align: top\">---</td>\n",
       "            <td style=\"padding-left: 1em; padding-right: 1em; text-align: left; vertical-align: top\">---</td>\n",
       "            <td style=\"padding-left: 1em; padding-right: 1em; text-align: center; vertical-align: top\">---</td>\n",
       "            <td style=\"padding-left: 1em; padding-right: 1em; text-align: center; vertical-align: top\">---</td>\n",
       "            <td style=\"padding-left: 1em; padding-right: 1em; text-align: center; vertical-align: top\">---</td>\n",
       "        </tr>\n",
       "        <tr>\n",
       "            <td style=\"padding-left: 1em; padding-right: 1em; text-align: center; vertical-align: top\">8</td>\n",
       "            <td style=\"padding-left: 1em; padding-right: 1em; text-align: center; vertical-align: top\">329</td>\n",
       "            <td style=\"padding-left: 1em; padding-right: 1em; text-align: left; vertical-align: top\">SSp, barrel field</td>\n",
       "            <td style=\"padding-left: 1em; padding-right: 1em; text-align: center; vertical-align: top\">SSp-bfd</td>\n",
       "            <td style=\"padding-left: 1em; padding-right: 1em; text-align: center; vertical-align: top\">6281</td>\n",
       "            <td style=\"padding-left: 1em; padding-right: 1em; text-align: center; vertical-align: top\">5 %</td>\n",
       "        </tr>\n",
       "        <tr>\n",
       "            <td style=\"padding-left: 1em; padding-right: 1em; text-align: center; vertical-align: top\">8</td>\n",
       "            <td style=\"padding-left: 1em; padding-right: 1em; text-align: center; vertical-align: top\">337</td>\n",
       "            <td style=\"padding-left: 1em; padding-right: 1em; text-align: left; vertical-align: top\">SSp, lower limb</td>\n",
       "            <td style=\"padding-left: 1em; padding-right: 1em; text-align: center; vertical-align: top\">SSp-ll</td>\n",
       "            <td style=\"padding-left: 1em; padding-right: 1em; text-align: center; vertical-align: top\">2361</td>\n",
       "            <td style=\"padding-left: 1em; padding-right: 1em; text-align: center; vertical-align: top\">2 %</td>\n",
       "        </tr>\n",
       "        <tr>\n",
       "            <td style=\"padding-left: 1em; padding-right: 1em; text-align: center; vertical-align: top\">8</td>\n",
       "            <td style=\"padding-left: 1em; padding-right: 1em; text-align: center; vertical-align: top\">345</td>\n",
       "            <td style=\"padding-left: 1em; padding-right: 1em; text-align: left; vertical-align: top\">SSp, mouth</td>\n",
       "            <td style=\"padding-left: 1em; padding-right: 1em; text-align: center; vertical-align: top\">SSp-m</td>\n",
       "            <td style=\"padding-left: 1em; padding-right: 1em; text-align: center; vertical-align: top\">6224</td>\n",
       "            <td style=\"padding-left: 1em; padding-right: 1em; text-align: center; vertical-align: top\">5 %</td>\n",
       "        </tr>\n",
       "        <tr>\n",
       "            <td style=\"padding-left: 1em; padding-right: 1em; text-align: center; vertical-align: top\">8</td>\n",
       "            <td style=\"padding-left: 1em; padding-right: 1em; text-align: center; vertical-align: top\">353</td>\n",
       "            <td style=\"padding-left: 1em; padding-right: 1em; text-align: left; vertical-align: top\">SSp, nose</td>\n",
       "            <td style=\"padding-left: 1em; padding-right: 1em; text-align: center; vertical-align: top\">SSp-n</td>\n",
       "            <td style=\"padding-left: 1em; padding-right: 1em; text-align: center; vertical-align: top\">3032</td>\n",
       "            <td style=\"padding-left: 1em; padding-right: 1em; text-align: center; vertical-align: top\">2 %</td>\n",
       "        </tr>\n",
       "        <tr>\n",
       "            <td style=\"padding-left: 1em; padding-right: 1em; text-align: center; vertical-align: top\">8</td>\n",
       "            <td style=\"padding-left: 1em; padding-right: 1em; text-align: center; vertical-align: top\">361</td>\n",
       "            <td style=\"padding-left: 1em; padding-right: 1em; text-align: left; vertical-align: top\">SSp, trunk</td>\n",
       "            <td style=\"padding-left: 1em; padding-right: 1em; text-align: center; vertical-align: top\">SSp-tr</td>\n",
       "            <td style=\"padding-left: 1em; padding-right: 1em; text-align: center; vertical-align: top\">1399</td>\n",
       "            <td style=\"padding-left: 1em; padding-right: 1em; text-align: center; vertical-align: top\">1 %</td>\n",
       "        </tr>\n",
       "        <tr>\n",
       "            <td style=\"padding-left: 1em; padding-right: 1em; text-align: center; vertical-align: top\">8</td>\n",
       "            <td style=\"padding-left: 1em; padding-right: 1em; text-align: center; vertical-align: top\">369</td>\n",
       "            <td style=\"padding-left: 1em; padding-right: 1em; text-align: left; vertical-align: top\">SSp, upper limb</td>\n",
       "            <td style=\"padding-left: 1em; padding-right: 1em; text-align: center; vertical-align: top\">SSp-ul</td>\n",
       "            <td style=\"padding-left: 1em; padding-right: 1em; text-align: center; vertical-align: top\">3764</td>\n",
       "            <td style=\"padding-left: 1em; padding-right: 1em; text-align: center; vertical-align: top\">3 %</td>\n",
       "        </tr>\n",
       "        <tr>\n",
       "            <td style=\"padding-left: 1em; padding-right: 1em; text-align: center; vertical-align: top\">8</td>\n",
       "            <td style=\"padding-left: 1em; padding-right: 1em; text-align: center; vertical-align: top\"></td>\n",
       "            <td style=\"padding-left: 1em; padding-right: 1em; text-align: left; vertical-align: top\">SSp, unassigned</td>\n",
       "            <td style=\"padding-left: 1em; padding-right: 1em; text-align: center; vertical-align: top\">SSp-un</td>\n",
       "            <td style=\"padding-left: 1em; padding-right: 1em; text-align: center; vertical-align: top\">1263</td>\n",
       "            <td style=\"padding-left: 1em; padding-right: 1em; text-align: center; vertical-align: top\">1 %</td>\n",
       "        </tr>\n",
       "        <tr>\n",
       "            <td style=\"padding-left: 1em; padding-right: 1em; text-align: center; vertical-align: top\">---</td>\n",
       "            <td style=\"padding-left: 1em; padding-right: 1em; text-align: center; vertical-align: top\">---</td>\n",
       "            <td style=\"padding-left: 1em; padding-right: 1em; text-align: left; vertical-align: top\">---</td>\n",
       "            <td style=\"padding-left: 1em; padding-right: 1em; text-align: center; vertical-align: top\">---</td>\n",
       "            <td style=\"padding-left: 1em; padding-right: 1em; text-align: center; vertical-align: top\">---</td>\n",
       "            <td style=\"padding-left: 1em; padding-right: 1em; text-align: center; vertical-align: top\">---</td>\n",
       "        </tr>\n",
       "    </tbody>\n",
       "</table>"
      ]
     },
     "metadata": {},
     "output_type": "display_data"
    }
   ],
   "source": [
    "file = f\"../../_extras/hierarchy_root-{allen['isocortex']['name']}.html\"\n",
    "display(HTML(file))"
   ]
  },
  {
   "cell_type": "code",
   "execution_count": null,
   "id": "2c1006d1",
   "metadata": {},
   "outputs": [],
   "source": []
  },
  {
   "cell_type": "code",
   "execution_count": null,
   "id": "da1370e8",
   "metadata": {},
   "outputs": [],
   "source": []
  },
  {
   "cell_type": "markdown",
   "id": "f9c228bc",
   "metadata": {},
   "source": [
    "## Combine all data"
   ]
  },
  {
   "cell_type": "code",
   "execution_count": 12,
   "id": "25e9d942",
   "metadata": {},
   "outputs": [
    {
     "data": {
      "text/html": [
       "<pre style=\"white-space:pre;overflow-x:auto;line-height:normal;font-family:Menlo,'DejaVu Sans Mono',consolas,'Courier New',monospace\"><span style=\"font-weight: bold\">((</span><span style=\"color: #008080; text-decoration-color: #008080; font-weight: bold\">62700</span>, <span style=\"color: #008080; text-decoration-color: #008080; font-weight: bold\">138</span><span style=\"font-weight: bold\">)</span>, <span style=\"color: #008080; text-decoration-color: #008080; font-weight: bold\">138</span>, <span style=\"color: #008080; text-decoration-color: #008080; font-weight: bold\">204</span>, <span style=\"color: #008080; text-decoration-color: #008080; font-weight: bold\">114</span><span style=\"font-weight: bold\">)</span>\n",
       "</pre>\n"
      ],
      "text/plain": [
       "\u001b[1m(\u001b[0m\u001b[1m(\u001b[0m\u001b[1;36m62700\u001b[0m, \u001b[1;36m138\u001b[0m\u001b[1m)\u001b[0m, \u001b[1;36m138\u001b[0m, \u001b[1;36m204\u001b[0m, \u001b[1;36m114\u001b[0m\u001b[1m)\u001b[0m\n"
      ]
     },
     "metadata": {},
     "output_type": "display_data"
    }
   ],
   "source": [
    "selected_experiments = [v for k, v in mice.bold_df_piv.items() if mice.bold[k].task == 'rest']\n",
    "df_combined = pd.concat(selected_experiments)\n",
    "node_labels = df_combined.columns.values.tolist()\n",
    "node_labels = {i: lbl for i, lbl in enumerate(node_labels)}\n",
    "\n",
    "df_combined.shape, len(node_labels), len(mice.bold_df_piv), len(selected_experiments)"
   ]
  },
  {
   "cell_type": "code",
   "execution_count": null,
   "id": "cf345f47",
   "metadata": {},
   "outputs": [],
   "source": []
  },
  {
   "cell_type": "code",
   "execution_count": 13,
   "id": "85dda8bc",
   "metadata": {},
   "outputs": [
    {
     "data": {
      "text/html": [
       "<div>\n",
       "<style scoped>\n",
       "    .dataframe tbody tr th:only-of-type {\n",
       "        vertical-align: middle;\n",
       "    }\n",
       "\n",
       "    .dataframe tbody tr th {\n",
       "        vertical-align: top;\n",
       "    }\n",
       "\n",
       "    .dataframe thead th {\n",
       "        text-align: right;\n",
       "    }\n",
       "</style>\n",
       "<table border=\"1\" class=\"dataframe\">\n",
       "  <thead>\n",
       "    <tr style=\"text-align: right;\">\n",
       "      <th>region_id</th>\n",
       "      <th>0-1089</th>\n",
       "      <th>0-315-1</th>\n",
       "      <th>0-315-10</th>\n",
       "      <th>0-315-11</th>\n",
       "      <th>0-315-12</th>\n",
       "      <th>0-315-13</th>\n",
       "      <th>0-315-14</th>\n",
       "      <th>0-315-15</th>\n",
       "      <th>0-315-16</th>\n",
       "      <th>0-315-17</th>\n",
       "      <th>...</th>\n",
       "      <th>1-315-94</th>\n",
       "      <th>1-315-95</th>\n",
       "      <th>1-315-96</th>\n",
       "      <th>1-315-97</th>\n",
       "      <th>1-315-98</th>\n",
       "      <th>1-315-99</th>\n",
       "      <th>1-477</th>\n",
       "      <th>1-698</th>\n",
       "      <th>1-703</th>\n",
       "      <th>1-803</th>\n",
       "    </tr>\n",
       "    <tr>\n",
       "      <th>timepoint</th>\n",
       "      <th></th>\n",
       "      <th></th>\n",
       "      <th></th>\n",
       "      <th></th>\n",
       "      <th></th>\n",
       "      <th></th>\n",
       "      <th></th>\n",
       "      <th></th>\n",
       "      <th></th>\n",
       "      <th></th>\n",
       "      <th></th>\n",
       "      <th></th>\n",
       "      <th></th>\n",
       "      <th></th>\n",
       "      <th></th>\n",
       "      <th></th>\n",
       "      <th></th>\n",
       "      <th></th>\n",
       "      <th></th>\n",
       "      <th></th>\n",
       "      <th></th>\n",
       "    </tr>\n",
       "  </thead>\n",
       "  <tbody>\n",
       "    <tr>\n",
       "      <th>50</th>\n",
       "      <td>0.177307</td>\n",
       "      <td>0.239668</td>\n",
       "      <td>1.540850</td>\n",
       "      <td>-0.120437</td>\n",
       "      <td>0.833769</td>\n",
       "      <td>-0.954716</td>\n",
       "      <td>1.073582</td>\n",
       "      <td>0.063512</td>\n",
       "      <td>0.164401</td>\n",
       "      <td>0.183663</td>\n",
       "      <td>...</td>\n",
       "      <td>0.130772</td>\n",
       "      <td>-1.255089</td>\n",
       "      <td>0.333813</td>\n",
       "      <td>0.582112</td>\n",
       "      <td>-0.543934</td>\n",
       "      <td>0.191352</td>\n",
       "      <td>0.075820</td>\n",
       "      <td>-0.056418</td>\n",
       "      <td>0.249776</td>\n",
       "      <td>-0.106711</td>\n",
       "    </tr>\n",
       "    <tr>\n",
       "      <th>51</th>\n",
       "      <td>0.121334</td>\n",
       "      <td>-0.351308</td>\n",
       "      <td>1.236763</td>\n",
       "      <td>-0.387884</td>\n",
       "      <td>0.436829</td>\n",
       "      <td>-1.099413</td>\n",
       "      <td>0.507767</td>\n",
       "      <td>-0.523503</td>\n",
       "      <td>-0.465110</td>\n",
       "      <td>0.549863</td>\n",
       "      <td>...</td>\n",
       "      <td>0.499272</td>\n",
       "      <td>-0.690861</td>\n",
       "      <td>0.344502</td>\n",
       "      <td>0.818905</td>\n",
       "      <td>-0.204374</td>\n",
       "      <td>-0.463297</td>\n",
       "      <td>0.095729</td>\n",
       "      <td>-0.082629</td>\n",
       "      <td>0.406547</td>\n",
       "      <td>0.021615</td>\n",
       "    </tr>\n",
       "    <tr>\n",
       "      <th>52</th>\n",
       "      <td>-0.216704</td>\n",
       "      <td>-0.443732</td>\n",
       "      <td>0.404563</td>\n",
       "      <td>0.009616</td>\n",
       "      <td>-0.149874</td>\n",
       "      <td>-0.389781</td>\n",
       "      <td>-0.198654</td>\n",
       "      <td>-0.890743</td>\n",
       "      <td>-0.941087</td>\n",
       "      <td>-0.015157</td>\n",
       "      <td>...</td>\n",
       "      <td>0.213801</td>\n",
       "      <td>0.362015</td>\n",
       "      <td>0.812766</td>\n",
       "      <td>1.023933</td>\n",
       "      <td>0.476890</td>\n",
       "      <td>-0.435252</td>\n",
       "      <td>0.231784</td>\n",
       "      <td>0.006075</td>\n",
       "      <td>0.338115</td>\n",
       "      <td>0.242623</td>\n",
       "    </tr>\n",
       "    <tr>\n",
       "      <th>53</th>\n",
       "      <td>-0.300723</td>\n",
       "      <td>0.168296</td>\n",
       "      <td>0.042368</td>\n",
       "      <td>0.576017</td>\n",
       "      <td>-0.370759</td>\n",
       "      <td>-0.424792</td>\n",
       "      <td>-0.688525</td>\n",
       "      <td>-0.381481</td>\n",
       "      <td>-1.049068</td>\n",
       "      <td>-0.539598</td>\n",
       "      <td>...</td>\n",
       "      <td>-0.156680</td>\n",
       "      <td>1.074076</td>\n",
       "      <td>0.867756</td>\n",
       "      <td>0.638344</td>\n",
       "      <td>0.706912</td>\n",
       "      <td>-0.103269</td>\n",
       "      <td>0.339838</td>\n",
       "      <td>0.041035</td>\n",
       "      <td>0.341165</td>\n",
       "      <td>0.385404</td>\n",
       "    </tr>\n",
       "    <tr>\n",
       "      <th>54</th>\n",
       "      <td>-0.199669</td>\n",
       "      <td>0.881770</td>\n",
       "      <td>0.045310</td>\n",
       "      <td>0.368568</td>\n",
       "      <td>-0.429991</td>\n",
       "      <td>-1.019218</td>\n",
       "      <td>-1.372705</td>\n",
       "      <td>0.253748</td>\n",
       "      <td>-0.968735</td>\n",
       "      <td>-0.421924</td>\n",
       "      <td>...</td>\n",
       "      <td>-0.177024</td>\n",
       "      <td>0.612549</td>\n",
       "      <td>0.363863</td>\n",
       "      <td>-0.364822</td>\n",
       "      <td>0.054722</td>\n",
       "      <td>-0.345933</td>\n",
       "      <td>0.391613</td>\n",
       "      <td>0.018773</td>\n",
       "      <td>0.236386</td>\n",
       "      <td>0.614650</td>\n",
       "    </tr>\n",
       "    <tr>\n",
       "      <th>...</th>\n",
       "      <td>...</td>\n",
       "      <td>...</td>\n",
       "      <td>...</td>\n",
       "      <td>...</td>\n",
       "      <td>...</td>\n",
       "      <td>...</td>\n",
       "      <td>...</td>\n",
       "      <td>...</td>\n",
       "      <td>...</td>\n",
       "      <td>...</td>\n",
       "      <td>...</td>\n",
       "      <td>...</td>\n",
       "      <td>...</td>\n",
       "      <td>...</td>\n",
       "      <td>...</td>\n",
       "      <td>...</td>\n",
       "      <td>...</td>\n",
       "      <td>...</td>\n",
       "      <td>...</td>\n",
       "      <td>...</td>\n",
       "      <td>...</td>\n",
       "    </tr>\n",
       "    <tr>\n",
       "      <th>4195</th>\n",
       "      <td>0.040063</td>\n",
       "      <td>-0.215646</td>\n",
       "      <td>-0.989807</td>\n",
       "      <td>0.411229</td>\n",
       "      <td>0.470033</td>\n",
       "      <td>-0.018310</td>\n",
       "      <td>0.349514</td>\n",
       "      <td>0.933415</td>\n",
       "      <td>1.292025</td>\n",
       "      <td>-0.375204</td>\n",
       "      <td>...</td>\n",
       "      <td>-0.657009</td>\n",
       "      <td>0.111733</td>\n",
       "      <td>-0.589974</td>\n",
       "      <td>-0.138369</td>\n",
       "      <td>-0.168534</td>\n",
       "      <td>0.045931</td>\n",
       "      <td>0.045460</td>\n",
       "      <td>0.020959</td>\n",
       "      <td>0.293436</td>\n",
       "      <td>0.194937</td>\n",
       "    </tr>\n",
       "    <tr>\n",
       "      <th>4196</th>\n",
       "      <td>-0.152087</td>\n",
       "      <td>0.587896</td>\n",
       "      <td>-0.506389</td>\n",
       "      <td>0.051919</td>\n",
       "      <td>0.825094</td>\n",
       "      <td>0.230065</td>\n",
       "      <td>0.394845</td>\n",
       "      <td>0.448798</td>\n",
       "      <td>1.574733</td>\n",
       "      <td>-1.293223</td>\n",
       "      <td>...</td>\n",
       "      <td>-0.612136</td>\n",
       "      <td>0.989931</td>\n",
       "      <td>-1.001354</td>\n",
       "      <td>0.086990</td>\n",
       "      <td>0.304888</td>\n",
       "      <td>0.312964</td>\n",
       "      <td>-0.144804</td>\n",
       "      <td>0.104323</td>\n",
       "      <td>-0.063012</td>\n",
       "      <td>-0.054406</td>\n",
       "    </tr>\n",
       "    <tr>\n",
       "      <th>4197</th>\n",
       "      <td>-0.188290</td>\n",
       "      <td>1.295589</td>\n",
       "      <td>0.159351</td>\n",
       "      <td>-0.038900</td>\n",
       "      <td>0.922255</td>\n",
       "      <td>-0.451525</td>\n",
       "      <td>-0.014617</td>\n",
       "      <td>-0.529758</td>\n",
       "      <td>1.457971</td>\n",
       "      <td>-1.437715</td>\n",
       "      <td>...</td>\n",
       "      <td>-0.309789</td>\n",
       "      <td>1.094104</td>\n",
       "      <td>-1.036641</td>\n",
       "      <td>0.423759</td>\n",
       "      <td>-0.129428</td>\n",
       "      <td>0.221919</td>\n",
       "      <td>-0.104897</td>\n",
       "      <td>0.116850</td>\n",
       "      <td>-0.125495</td>\n",
       "      <td>-0.310437</td>\n",
       "    </tr>\n",
       "    <tr>\n",
       "      <th>4198</th>\n",
       "      <td>0.009277</td>\n",
       "      <td>0.894712</td>\n",
       "      <td>0.361696</td>\n",
       "      <td>0.198489</td>\n",
       "      <td>0.773914</td>\n",
       "      <td>-0.666839</td>\n",
       "      <td>-0.392984</td>\n",
       "      <td>-0.987486</td>\n",
       "      <td>0.751388</td>\n",
       "      <td>-1.095733</td>\n",
       "      <td>...</td>\n",
       "      <td>-0.115553</td>\n",
       "      <td>0.534836</td>\n",
       "      <td>-0.498801</td>\n",
       "      <td>0.093896</td>\n",
       "      <td>-0.566044</td>\n",
       "      <td>-0.277693</td>\n",
       "      <td>0.016555</td>\n",
       "      <td>0.001924</td>\n",
       "      <td>-0.020537</td>\n",
       "      <td>-0.079610</td>\n",
       "    </tr>\n",
       "    <tr>\n",
       "      <th>4199</th>\n",
       "      <td>0.068875</td>\n",
       "      <td>-0.558144</td>\n",
       "      <td>0.141618</td>\n",
       "      <td>0.221800</td>\n",
       "      <td>0.352103</td>\n",
       "      <td>0.032631</td>\n",
       "      <td>-0.295035</td>\n",
       "      <td>-0.681548</td>\n",
       "      <td>-0.186502</td>\n",
       "      <td>-1.384464</td>\n",
       "      <td>...</td>\n",
       "      <td>0.365753</td>\n",
       "      <td>0.006207</td>\n",
       "      <td>-0.347735</td>\n",
       "      <td>-0.395130</td>\n",
       "      <td>-0.442702</td>\n",
       "      <td>-0.226860</td>\n",
       "      <td>0.217343</td>\n",
       "      <td>-0.011933</td>\n",
       "      <td>0.131520</td>\n",
       "      <td>0.199281</td>\n",
       "    </tr>\n",
       "  </tbody>\n",
       "</table>\n",
       "<p>62700 rows × 138 columns</p>\n",
       "</div>"
      ]
     },
     "execution_count": 13,
     "metadata": {},
     "output_type": "execute_result"
    }
   ],
   "source": [
    "df_combined"
   ]
  },
  {
   "cell_type": "code",
   "execution_count": null,
   "id": "07d2b16a",
   "metadata": {},
   "outputs": [],
   "source": []
  },
  {
   "cell_type": "markdown",
   "id": "d1fc1201",
   "metadata": {},
   "source": [
    "### Hierarchical clustering"
   ]
  },
  {
   "cell_type": "code",
   "execution_count": 18,
   "id": "98188296",
   "metadata": {},
   "outputs": [],
   "source": [
    "hier_results = hierarchical_cluster(\n",
    "    df=df_combined,\n",
    "    method='ward',\n",
    "    dist_metric='canberra',\n",
    "    link_metric='canberra',\n",
    ")\n",
    "labels = translate_labels(hier_results['labels'], allen['mcc'])"
   ]
  },
  {
   "cell_type": "code",
   "execution_count": 19,
   "id": "ad953209",
   "metadata": {},
   "outputs": [
    {
     "data": {
      "image/png": "[encoded data removed]"
     },
     "metadata": {},
     "output_type": "display_data"
    }
   ],
   "source": [
    "hier_output = get_clust_graph(\n",
    "    linkage_mat=hier_results['z'],\n",
    "    labels=labels,\n",
    "    num_clusters=0,\n",
    "    leaf_font_size=3,\n",
    "    orientation='top',\n",
    "    figsize=(13.5, 4),\n",
    ")\n",
    "display(hier_output['fig'])"
   ]
  },
  {
   "cell_type": "code",
   "execution_count": null,
   "id": "0797955a",
   "metadata": {},
   "outputs": [],
   "source": []
  },
  {
   "cell_type": "code",
   "execution_count": 20,
   "id": "4eb57ea5",
   "metadata": {},
   "outputs": [
    {
     "data": {
      "text/html": [
       "<svg  width=\"1100\" height=\"55\"><rect x=\"0\" y=\"0\" width=\"55\" height=\"55\" style=\"fill:#3182bd;stroke-width:2;stroke:rgb(255,255,255)\"/><rect x=\"55\" y=\"0\" width=\"55\" height=\"55\" style=\"fill:#6baed6;stroke-width:2;stroke:rgb(255,255,255)\"/><rect x=\"110\" y=\"0\" width=\"55\" height=\"55\" style=\"fill:#9ecae1;stroke-width:2;stroke:rgb(255,255,255)\"/><rect x=\"165\" y=\"0\" width=\"55\" height=\"55\" style=\"fill:#c6dbef;stroke-width:2;stroke:rgb(255,255,255)\"/><rect x=\"220\" y=\"0\" width=\"55\" height=\"55\" style=\"fill:#e6550d;stroke-width:2;stroke:rgb(255,255,255)\"/><rect x=\"275\" y=\"0\" width=\"55\" height=\"55\" style=\"fill:#fd8d3c;stroke-width:2;stroke:rgb(255,255,255)\"/><rect x=\"330\" y=\"0\" width=\"55\" height=\"55\" style=\"fill:#fdae6b;stroke-width:2;stroke:rgb(255,255,255)\"/><rect x=\"385\" y=\"0\" width=\"55\" height=\"55\" style=\"fill:#fdd0a2;stroke-width:2;stroke:rgb(255,255,255)\"/><rect x=\"440\" y=\"0\" width=\"55\" height=\"55\" style=\"fill:#31a354;stroke-width:2;stroke:rgb(255,255,255)\"/><rect x=\"495\" y=\"0\" width=\"55\" height=\"55\" style=\"fill:#74c476;stroke-width:2;stroke:rgb(255,255,255)\"/><rect x=\"550\" y=\"0\" width=\"55\" height=\"55\" style=\"fill:#a1d99b;stroke-width:2;stroke:rgb(255,255,255)\"/><rect x=\"605\" y=\"0\" width=\"55\" height=\"55\" style=\"fill:#c7e9c0;stroke-width:2;stroke:rgb(255,255,255)\"/><rect x=\"660\" y=\"0\" width=\"55\" height=\"55\" style=\"fill:#756bb1;stroke-width:2;stroke:rgb(255,255,255)\"/><rect x=\"715\" y=\"0\" width=\"55\" height=\"55\" style=\"fill:#9e9ac8;stroke-width:2;stroke:rgb(255,255,255)\"/><rect x=\"770\" y=\"0\" width=\"55\" height=\"55\" style=\"fill:#bcbddc;stroke-width:2;stroke:rgb(255,255,255)\"/><rect x=\"825\" y=\"0\" width=\"55\" height=\"55\" style=\"fill:#dadaeb;stroke-width:2;stroke:rgb(255,255,255)\"/><rect x=\"880\" y=\"0\" width=\"55\" height=\"55\" style=\"fill:#636363;stroke-width:2;stroke:rgb(255,255,255)\"/><rect x=\"935\" y=\"0\" width=\"55\" height=\"55\" style=\"fill:#969696;stroke-width:2;stroke:rgb(255,255,255)\"/><rect x=\"990\" y=\"0\" width=\"55\" height=\"55\" style=\"fill:#bdbdbd;stroke-width:2;stroke:rgb(255,255,255)\"/><rect x=\"1045\" y=\"0\" width=\"55\" height=\"55\" style=\"fill:#d9d9d9;stroke-width:2;stroke:rgb(255,255,255)\"/></svg>"
      ]
     },
     "execution_count": 20,
     "metadata": {},
     "output_type": "execute_result"
    }
   ],
   "source": [
    "sns.color_palette('tab20c', n_colors=20)"
   ]
  },
  {
   "cell_type": "code",
   "execution_count": null,
   "id": "a0156484",
   "metadata": {},
   "outputs": [],
   "source": []
  },
  {
   "cell_type": "markdown",
   "id": "d3c6e3a2",
   "metadata": {},
   "source": [
    "### All clusters"
   ]
  },
  {
   "cell_type": "code",
   "execution_count": 29,
   "id": "a6be2c21",
   "metadata": {},
   "outputs": [],
   "source": [
    "cluster_color_idxs = {\n",
    "    2: [17, 0],\n",
    "    3: [17, 8, 12], \n",
    "    4: [17, 8, 12, 14],\n",
    "    5: [17, 8, 12, 4, 0],\n",
    "    6: [17, 8, 10, 12, 4, 0],\n",
    "    7: [17, 8, 10, 12, 14, 4, 0],\n",
    "    8: [17, 8, 10, 12, 14, 4, 6, 0],\n",
    "    9: [17, 8, 10, 12, 14, 4, 6, 0, 2],\n",
    "    10: [17, 8, 10, 12, 14, 4, 6, 7, 0, 2],\n",
    "    11: [17, 8, 10, 12, 14, 4, 5, 6, 7, 0, 2],\n",
    "    12: [17, 8, 10, 12, 14, 4, 5, 6, 7, 0, 2, 3],\n",
    "    13: [16, 17, 8, 10, 12, 14, 4, 5, 6, 7, 0, 2, 3],\n",
    "    14: [16, 17, 8, 10, 11, 12, 14, 4, 5, 6, 7, 0, 2, 3],\n",
    "    15: [16, 17, 8, 9, 10, 11, 12, 14, 4, 5, 6, 7, 0, 2, 3],\n",
    "}\n",
    "struct_colors = {\n",
    "    acro: rgb2hex([\n",
    "        item / 255 for item in\n",
    "        allen['structure_tree'].get_structures_by_acronym([acro])[0]['rgb_triplet']\n",
    "    ]) for acro in major_masks\n",
    "}"
   ]
  },
  {
   "cell_type": "code",
   "execution_count": 30,
   "id": "b66f30e9",
   "metadata": {
    "scrolled": true
   },
   "outputs": [
    {
     "data": {
      "text/html": [
       "<pre style=\"white-space:pre;overflow-x:auto;line-height:normal;font-family:Menlo,'DejaVu Sans Mono',consolas,'Courier New',monospace\">n_clusters = <span style=\"color: #008080; text-decoration-color: #008080; font-weight: bold\">2</span>\n",
       "</pre>\n"
      ],
      "text/plain": [
       "n_clusters = \u001b[1;36m2\u001b[0m\n"
      ]
     },
     "metadata": {},
     "output_type": "display_data"
    },
    {
     "data": {
      "text/html": [
       "<table style=\"border: 0;\"><tr style=\"border: 0;\"><td style=\"background-color: #1f77b4; border: 0;\"><code style=\"background-color: #1f77b4;\">#1f77b4</code></td><td style=\"border: 0\"><code>['(10)', '(128)']</code></td></tr></table>"
      ]
     },
     "metadata": {},
     "output_type": "display_data"
    },
    {
     "data": {
      "image/png": "[encoded data removed]"
     },
     "metadata": {},
     "output_type": "display_data"
    },
    {
     "data": {
      "text/html": [
       "<svg  width=\"110\" height=\"55\"><rect x=\"0\" y=\"0\" width=\"55\" height=\"55\" style=\"fill:#969696;stroke-width:2;stroke:rgb(255,255,255)\"/><rect x=\"55\" y=\"0\" width=\"55\" height=\"55\" style=\"fill:#3182bd;stroke-width:2;stroke:rgb(255,255,255)\"/></svg>"
      ]
     },
     "metadata": {},
     "output_type": "display_data"
    },
    {
     "data": {
      "text/html": [
       "<pre style=\"white-space:pre;overflow-x:auto;line-height:normal;font-family:Menlo,'DejaVu Sans Mono',consolas,'Courier New',monospace\">\n",
       "\n",
       "\n",
       "</pre>\n"
      ],
      "text/plain": [
       "\n",
       "\n",
       "\n"
      ]
     },
     "metadata": {},
     "output_type": "display_data"
    },
    {
     "data": {
      "text/html": [
       "<pre style=\"white-space:pre;overflow-x:auto;line-height:normal;font-family:Menlo,'DejaVu Sans Mono',consolas,'Courier New',monospace\"><span style=\"font-weight: bold\">[</span>PROGRESS<span style=\"font-weight: bold\">]</span> <span style=\"color: #008000; text-decoration-color: #008000\">'overlap-regions_n-2.html'</span> saved at\n",
       "<span style=\"color: #800080; text-decoration-color: #800080\">/home/hadi/Dropbox/git/jb-Ca-fMRI/</span><span style=\"color: #ff00ff; text-decoration-color: #ff00ff\">_extras</span>\n",
       "</pre>\n"
      ],
      "text/plain": [
       "\u001b[1m[\u001b[0mPROGRESS\u001b[1m]\u001b[0m \u001b[32m'overlap-regions_n-2.html'\u001b[0m saved at\n",
       "\u001b[35m/home/hadi/Dropbox/git/jb-Ca-fMRI/\u001b[0m\u001b[95m_extras\u001b[0m\n"
      ]
     },
     "metadata": {},
     "output_type": "display_data"
    },
    {
     "data": {
      "text/html": [
       "<pre style=\"white-space:pre;overflow-x:auto;line-height:normal;font-family:Menlo,'DejaVu Sans Mono',consolas,'Courier New',monospace\"><span style=\"font-weight: bold\">[</span>PROGRESS<span style=\"font-weight: bold\">]</span> <span style=\"color: #008000; text-decoration-color: #008000\">'overlap-clusters_n-2.html'</span> saved at\n",
       "<span style=\"color: #800080; text-decoration-color: #800080\">/home/hadi/Dropbox/git/jb-Ca-fMRI/</span><span style=\"color: #ff00ff; text-decoration-color: #ff00ff\">_extras</span>\n",
       "</pre>\n"
      ],
      "text/plain": [
       "\u001b[1m[\u001b[0mPROGRESS\u001b[1m]\u001b[0m \u001b[32m'overlap-clusters_n-2.html'\u001b[0m saved at\n",
       "\u001b[35m/home/hadi/Dropbox/git/jb-Ca-fMRI/\u001b[0m\u001b[95m_extras\u001b[0m\n"
      ]
     },
     "metadata": {},
     "output_type": "display_data"
    },
    {
     "data": {
      "text/html": [
       "<pre style=\"white-space:pre;overflow-x:auto;line-height:normal;font-family:Menlo,'DejaVu Sans Mono',consolas,'Courier New',monospace\">n_clusters = <span style=\"color: #008080; text-decoration-color: #008080; font-weight: bold\">3</span>\n",
       "</pre>\n"
      ],
      "text/plain": [
       "n_clusters = \u001b[1;36m3\u001b[0m\n"
      ]
     },
     "metadata": {},
     "output_type": "display_data"
    },
    {
     "data": {
      "text/html": [
       "<table style=\"border: 0;\"><tr style=\"border: 0;\"><td style=\"background-color: #1f77b4; border: 0;\"><code style=\"background-color: #1f77b4;\">#1f77b4</code></td><td style=\"border: 0\"><code>['(10)', '(41)', '(87)']</code></td></tr></table>"
      ]
     },
     "metadata": {},
     "output_type": "display_data"
    },
    {
     "data": {
      "image/png": "[encoded data removed]"
     },
     "metadata": {},
     "output_type": "display_data"
    },
    {
     "data": {
      "text/html": [
       "<svg  width=\"165\" height=\"55\"><rect x=\"0\" y=\"0\" width=\"55\" height=\"55\" style=\"fill:#969696;stroke-width:2;stroke:rgb(255,255,255)\"/><rect x=\"55\" y=\"0\" width=\"55\" height=\"55\" style=\"fill:#31a354;stroke-width:2;stroke:rgb(255,255,255)\"/><rect x=\"110\" y=\"0\" width=\"55\" height=\"55\" style=\"fill:#756bb1;stroke-width:2;stroke:rgb(255,255,255)\"/></svg>"
      ]
     },
     "metadata": {},
     "output_type": "display_data"
    },
    {
     "data": {
      "text/html": [
       "<pre style=\"white-space:pre;overflow-x:auto;line-height:normal;font-family:Menlo,'DejaVu Sans Mono',consolas,'Courier New',monospace\">\n",
       "\n",
       "\n",
       "</pre>\n"
      ],
      "text/plain": [
       "\n",
       "\n",
       "\n"
      ]
     },
     "metadata": {},
     "output_type": "display_data"
    },
    {
     "data": {
      "text/html": [
       "<pre style=\"white-space:pre;overflow-x:auto;line-height:normal;font-family:Menlo,'DejaVu Sans Mono',consolas,'Courier New',monospace\"><span style=\"font-weight: bold\">[</span>PROGRESS<span style=\"font-weight: bold\">]</span> <span style=\"color: #008000; text-decoration-color: #008000\">'overlap-regions_n-3.html'</span> saved at\n",
       "<span style=\"color: #800080; text-decoration-color: #800080\">/home/hadi/Dropbox/git/jb-Ca-fMRI/</span><span style=\"color: #ff00ff; text-decoration-color: #ff00ff\">_extras</span>\n",
       "</pre>\n"
      ],
      "text/plain": [
       "\u001b[1m[\u001b[0mPROGRESS\u001b[1m]\u001b[0m \u001b[32m'overlap-regions_n-3.html'\u001b[0m saved at\n",
       "\u001b[35m/home/hadi/Dropbox/git/jb-Ca-fMRI/\u001b[0m\u001b[95m_extras\u001b[0m\n"
      ]
     },
     "metadata": {},
     "output_type": "display_data"
    },
    {
     "data": {
      "text/html": [
       "<pre style=\"white-space:pre;overflow-x:auto;line-height:normal;font-family:Menlo,'DejaVu Sans Mono',consolas,'Courier New',monospace\"><span style=\"font-weight: bold\">[</span>PROGRESS<span style=\"font-weight: bold\">]</span> <span style=\"color: #008000; text-decoration-color: #008000\">'overlap-clusters_n-3.html'</span> saved at\n",
       "<span style=\"color: #800080; text-decoration-color: #800080\">/home/hadi/Dropbox/git/jb-Ca-fMRI/</span><span style=\"color: #ff00ff; text-decoration-color: #ff00ff\">_extras</span>\n",
       "</pre>\n"
      ],
      "text/plain": [
       "\u001b[1m[\u001b[0mPROGRESS\u001b[1m]\u001b[0m \u001b[32m'overlap-clusters_n-3.html'\u001b[0m saved at\n",
       "\u001b[35m/home/hadi/Dropbox/git/jb-Ca-fMRI/\u001b[0m\u001b[95m_extras\u001b[0m\n"
      ]
     },
     "metadata": {},
     "output_type": "display_data"
    },
    {
     "data": {
      "text/html": [
       "<pre style=\"white-space:pre;overflow-x:auto;line-height:normal;font-family:Menlo,'DejaVu Sans Mono',consolas,'Courier New',monospace\">n_clusters = <span style=\"color: #008080; text-decoration-color: #008080; font-weight: bold\">4</span>\n",
       "</pre>\n"
      ],
      "text/plain": [
       "n_clusters = \u001b[1;36m4\u001b[0m\n"
      ]
     },
     "metadata": {},
     "output_type": "display_data"
    },
    {
     "data": {
      "text/html": [
       "<table style=\"border: 0;\"><tr style=\"border: 0;\"><td style=\"background-color: #1f77b4; border: 0;\"><code style=\"background-color: #1f77b4;\">#1f77b4</code></td><td style=\"border: 0\"><code>['(10)', '(41)', '(19)', '(68)']</code></td></tr></table>"
      ]
     },
     "metadata": {},
     "output_type": "display_data"
    },
    {
     "data": {
      "image/png": "[encoded data removed]"
     },
     "metadata": {},
     "output_type": "display_data"
    },
    {
     "data": {
      "text/html": [
       "<svg  width=\"220\" height=\"55\"><rect x=\"0\" y=\"0\" width=\"55\" height=\"55\" style=\"fill:#969696;stroke-width:2;stroke:rgb(255,255,255)\"/><rect x=\"55\" y=\"0\" width=\"55\" height=\"55\" style=\"fill:#31a354;stroke-width:2;stroke:rgb(255,255,255)\"/><rect x=\"110\" y=\"0\" width=\"55\" height=\"55\" style=\"fill:#756bb1;stroke-width:2;stroke:rgb(255,255,255)\"/><rect x=\"165\" y=\"0\" width=\"55\" height=\"55\" style=\"fill:#bcbddc;stroke-width:2;stroke:rgb(255,255,255)\"/></svg>"
      ]
     },
     "metadata": {},
     "output_type": "display_data"
    },
    {
     "data": {
      "text/html": [
       "<pre style=\"white-space:pre;overflow-x:auto;line-height:normal;font-family:Menlo,'DejaVu Sans Mono',consolas,'Courier New',monospace\">\n",
       "\n",
       "\n",
       "</pre>\n"
      ],
      "text/plain": [
       "\n",
       "\n",
       "\n"
      ]
     },
     "metadata": {},
     "output_type": "display_data"
    },
    {
     "data": {
      "text/html": [
       "<pre style=\"white-space:pre;overflow-x:auto;line-height:normal;font-family:Menlo,'DejaVu Sans Mono',consolas,'Courier New',monospace\"><span style=\"font-weight: bold\">[</span>PROGRESS<span style=\"font-weight: bold\">]</span> <span style=\"color: #008000; text-decoration-color: #008000\">'overlap-regions_n-4.html'</span> saved at\n",
       "<span style=\"color: #800080; text-decoration-color: #800080\">/home/hadi/Dropbox/git/jb-Ca-fMRI/</span><span style=\"color: #ff00ff; text-decoration-color: #ff00ff\">_extras</span>\n",
       "</pre>\n"
      ],
      "text/plain": [
       "\u001b[1m[\u001b[0mPROGRESS\u001b[1m]\u001b[0m \u001b[32m'overlap-regions_n-4.html'\u001b[0m saved at\n",
       "\u001b[35m/home/hadi/Dropbox/git/jb-Ca-fMRI/\u001b[0m\u001b[95m_extras\u001b[0m\n"
      ]
     },
     "metadata": {},
     "output_type": "display_data"
    },
    {
     "data": {
      "text/html": [
       "<pre style=\"white-space:pre;overflow-x:auto;line-height:normal;font-family:Menlo,'DejaVu Sans Mono',consolas,'Courier New',monospace\"><span style=\"font-weight: bold\">[</span>PROGRESS<span style=\"font-weight: bold\">]</span> <span style=\"color: #008000; text-decoration-color: #008000\">'overlap-clusters_n-4.html'</span> saved at\n",
       "<span style=\"color: #800080; text-decoration-color: #800080\">/home/hadi/Dropbox/git/jb-Ca-fMRI/</span><span style=\"color: #ff00ff; text-decoration-color: #ff00ff\">_extras</span>\n",
       "</pre>\n"
      ],
      "text/plain": [
       "\u001b[1m[\u001b[0mPROGRESS\u001b[1m]\u001b[0m \u001b[32m'overlap-clusters_n-4.html'\u001b[0m saved at\n",
       "\u001b[35m/home/hadi/Dropbox/git/jb-Ca-fMRI/\u001b[0m\u001b[95m_extras\u001b[0m\n"
      ]
     },
     "metadata": {},
     "output_type": "display_data"
    },
    {
     "data": {
      "text/html": [
       "<pre style=\"white-space:pre;overflow-x:auto;line-height:normal;font-family:Menlo,'DejaVu Sans Mono',consolas,'Courier New',monospace\">n_clusters = <span style=\"color: #008080; text-decoration-color: #008080; font-weight: bold\">5</span>\n",
       "</pre>\n"
      ],
      "text/plain": [
       "n_clusters = \u001b[1;36m5\u001b[0m\n"
      ]
     },
     "metadata": {},
     "output_type": "display_data"
    },
    {
     "data": {
      "text/html": [
       "<table style=\"border: 0;\"><tr style=\"border: 0;\"><td style=\"background-color: #1f77b4; border: 0;\"><code style=\"background-color: #1f77b4;\">#1f77b4</code></td><td style=\"border: 0\"><code>['(10)', '(41)', '(19)']</code></td></tr><tr style=\"border: 0;\"><td style=\"background-color: #ff7f0e; border: 0;\"><code style=\"background-color: #ff7f0e;\">#ff7f0e</code></td><td style=\"border: 0\"><code>['(32)', '(36)']</code></td></tr></table>"
      ]
     },
     "metadata": {},
     "output_type": "display_data"
    },
    {
     "data": {
      "image/png": "[encoded data removed]"
     },
     "metadata": {},
     "output_type": "display_data"
    },
    {
     "data": {
      "text/html": [
       "<svg  width=\"275\" height=\"55\"><rect x=\"0\" y=\"0\" width=\"55\" height=\"55\" style=\"fill:#969696;stroke-width:2;stroke:rgb(255,255,255)\"/><rect x=\"55\" y=\"0\" width=\"55\" height=\"55\" style=\"fill:#31a354;stroke-width:2;stroke:rgb(255,255,255)\"/><rect x=\"110\" y=\"0\" width=\"55\" height=\"55\" style=\"fill:#756bb1;stroke-width:2;stroke:rgb(255,255,255)\"/><rect x=\"165\" y=\"0\" width=\"55\" height=\"55\" style=\"fill:#e6550d;stroke-width:2;stroke:rgb(255,255,255)\"/><rect x=\"220\" y=\"0\" width=\"55\" height=\"55\" style=\"fill:#3182bd;stroke-width:2;stroke:rgb(255,255,255)\"/></svg>"
      ]
     },
     "metadata": {},
     "output_type": "display_data"
    },
    {
     "data": {
      "text/html": [
       "<pre style=\"white-space:pre;overflow-x:auto;line-height:normal;font-family:Menlo,'DejaVu Sans Mono',consolas,'Courier New',monospace\">\n",
       "\n",
       "\n",
       "</pre>\n"
      ],
      "text/plain": [
       "\n",
       "\n",
       "\n"
      ]
     },
     "metadata": {},
     "output_type": "display_data"
    },
    {
     "data": {
      "text/html": [
       "<pre style=\"white-space:pre;overflow-x:auto;line-height:normal;font-family:Menlo,'DejaVu Sans Mono',consolas,'Courier New',monospace\"><span style=\"font-weight: bold\">[</span>PROGRESS<span style=\"font-weight: bold\">]</span> <span style=\"color: #008000; text-decoration-color: #008000\">'overlap-regions_n-5.html'</span> saved at\n",
       "<span style=\"color: #800080; text-decoration-color: #800080\">/home/hadi/Dropbox/git/jb-Ca-fMRI/</span><span style=\"color: #ff00ff; text-decoration-color: #ff00ff\">_extras</span>\n",
       "</pre>\n"
      ],
      "text/plain": [
       "\u001b[1m[\u001b[0mPROGRESS\u001b[1m]\u001b[0m \u001b[32m'overlap-regions_n-5.html'\u001b[0m saved at\n",
       "\u001b[35m/home/hadi/Dropbox/git/jb-Ca-fMRI/\u001b[0m\u001b[95m_extras\u001b[0m\n"
      ]
     },
     "metadata": {},
     "output_type": "display_data"
    },
    {
     "data": {
      "text/html": [
       "<pre style=\"white-space:pre;overflow-x:auto;line-height:normal;font-family:Menlo,'DejaVu Sans Mono',consolas,'Courier New',monospace\"><span style=\"font-weight: bold\">[</span>PROGRESS<span style=\"font-weight: bold\">]</span> <span style=\"color: #008000; text-decoration-color: #008000\">'overlap-clusters_n-5.html'</span> saved at\n",
       "<span style=\"color: #800080; text-decoration-color: #800080\">/home/hadi/Dropbox/git/jb-Ca-fMRI/</span><span style=\"color: #ff00ff; text-decoration-color: #ff00ff\">_extras</span>\n",
       "</pre>\n"
      ],
      "text/plain": [
       "\u001b[1m[\u001b[0mPROGRESS\u001b[1m]\u001b[0m \u001b[32m'overlap-clusters_n-5.html'\u001b[0m saved at\n",
       "\u001b[35m/home/hadi/Dropbox/git/jb-Ca-fMRI/\u001b[0m\u001b[95m_extras\u001b[0m\n"
      ]
     },
     "metadata": {},
     "output_type": "display_data"
    },
    {
     "data": {
      "text/html": [
       "<pre style=\"white-space:pre;overflow-x:auto;line-height:normal;font-family:Menlo,'DejaVu Sans Mono',consolas,'Courier New',monospace\">n_clusters = <span style=\"color: #008080; text-decoration-color: #008080; font-weight: bold\">6</span>\n",
       "</pre>\n"
      ],
      "text/plain": [
       "n_clusters = \u001b[1;36m6\u001b[0m\n"
      ]
     },
     "metadata": {},
     "output_type": "display_data"
    },
    {
     "data": {
      "text/html": [
       "<table style=\"border: 0;\"><tr style=\"border: 0;\"><td style=\"background-color: #1f77b4; border: 0;\"><code style=\"background-color: #1f77b4;\">#1f77b4</code></td><td style=\"border: 0\"><code>['(10)', '(19)']</code></td></tr><tr style=\"border: 0;\"><td style=\"background-color: #ff7f0e; border: 0;\"><code style=\"background-color: #ff7f0e;\">#ff7f0e</code></td><td style=\"border: 0\"><code>['(16)', '(25)']</code></td></tr><tr style=\"border: 0;\"><td style=\"background-color: #2ca02c; border: 0;\"><code style=\"background-color: #2ca02c;\">#2ca02c</code></td><td style=\"border: 0\"><code>['(32)', '(36)']</code></td></tr></table>"
      ]
     },
     "metadata": {},
     "output_type": "display_data"
    },
    {
     "data": {
      "image/png": "[encoded data removed]"
     },
     "metadata": {},
     "output_type": "display_data"
    },
    {
     "data": {
      "text/html": [
       "<svg  width=\"330\" height=\"55\"><rect x=\"0\" y=\"0\" width=\"55\" height=\"55\" style=\"fill:#969696;stroke-width:2;stroke:rgb(255,255,255)\"/><rect x=\"55\" y=\"0\" width=\"55\" height=\"55\" style=\"fill:#31a354;stroke-width:2;stroke:rgb(255,255,255)\"/><rect x=\"110\" y=\"0\" width=\"55\" height=\"55\" style=\"fill:#a1d99b;stroke-width:2;stroke:rgb(255,255,255)\"/><rect x=\"165\" y=\"0\" width=\"55\" height=\"55\" style=\"fill:#756bb1;stroke-width:2;stroke:rgb(255,255,255)\"/><rect x=\"220\" y=\"0\" width=\"55\" height=\"55\" style=\"fill:#e6550d;stroke-width:2;stroke:rgb(255,255,255)\"/><rect x=\"275\" y=\"0\" width=\"55\" height=\"55\" style=\"fill:#3182bd;stroke-width:2;stroke:rgb(255,255,255)\"/></svg>"
      ]
     },
     "metadata": {},
     "output_type": "display_data"
    },
    {
     "data": {
      "text/html": [
       "<pre style=\"white-space:pre;overflow-x:auto;line-height:normal;font-family:Menlo,'DejaVu Sans Mono',consolas,'Courier New',monospace\">\n",
       "\n",
       "\n",
       "</pre>\n"
      ],
      "text/plain": [
       "\n",
       "\n",
       "\n"
      ]
     },
     "metadata": {},
     "output_type": "display_data"
    },
    {
     "data": {
      "text/html": [
       "<pre style=\"white-space:pre;overflow-x:auto;line-height:normal;font-family:Menlo,'DejaVu Sans Mono',consolas,'Courier New',monospace\"><span style=\"font-weight: bold\">[</span>PROGRESS<span style=\"font-weight: bold\">]</span> <span style=\"color: #008000; text-decoration-color: #008000\">'overlap-regions_n-6.html'</span> saved at\n",
       "<span style=\"color: #800080; text-decoration-color: #800080\">/home/hadi/Dropbox/git/jb-Ca-fMRI/</span><span style=\"color: #ff00ff; text-decoration-color: #ff00ff\">_extras</span>\n",
       "</pre>\n"
      ],
      "text/plain": [
       "\u001b[1m[\u001b[0mPROGRESS\u001b[1m]\u001b[0m \u001b[32m'overlap-regions_n-6.html'\u001b[0m saved at\n",
       "\u001b[35m/home/hadi/Dropbox/git/jb-Ca-fMRI/\u001b[0m\u001b[95m_extras\u001b[0m\n"
      ]
     },
     "metadata": {},
     "output_type": "display_data"
    },
    {
     "data": {
      "text/html": [
       "<pre style=\"white-space:pre;overflow-x:auto;line-height:normal;font-family:Menlo,'DejaVu Sans Mono',consolas,'Courier New',monospace\"><span style=\"font-weight: bold\">[</span>PROGRESS<span style=\"font-weight: bold\">]</span> <span style=\"color: #008000; text-decoration-color: #008000\">'overlap-clusters_n-6.html'</span> saved at\n",
       "<span style=\"color: #800080; text-decoration-color: #800080\">/home/hadi/Dropbox/git/jb-Ca-fMRI/</span><span style=\"color: #ff00ff; text-decoration-color: #ff00ff\">_extras</span>\n",
       "</pre>\n"
      ],
      "text/plain": [
       "\u001b[1m[\u001b[0mPROGRESS\u001b[1m]\u001b[0m \u001b[32m'overlap-clusters_n-6.html'\u001b[0m saved at\n",
       "\u001b[35m/home/hadi/Dropbox/git/jb-Ca-fMRI/\u001b[0m\u001b[95m_extras\u001b[0m\n"
      ]
     },
     "metadata": {},
     "output_type": "display_data"
    },
    {
     "data": {
      "text/html": [
       "<pre style=\"white-space:pre;overflow-x:auto;line-height:normal;font-family:Menlo,'DejaVu Sans Mono',consolas,'Courier New',monospace\">n_clusters = <span style=\"color: #008080; text-decoration-color: #008080; font-weight: bold\">7</span>\n",
       "</pre>\n"
      ],
      "text/plain": [
       "n_clusters = \u001b[1;36m7\u001b[0m\n"
      ]
     },
     "metadata": {},
     "output_type": "display_data"
    },
    {
     "data": {
      "text/html": [
       "<table style=\"border: 0;\"><tr style=\"border: 0;\"><td style=\"background-color: #1f77b4; border: 0;\"><code style=\"background-color: #1f77b4;\">#1f77b4</code></td><td style=\"border: 0\"><code>['(10)']</code></td></tr><tr style=\"border: 0;\"><td style=\"background-color: #ff7f0e; border: 0;\"><code style=\"background-color: #ff7f0e;\">#ff7f0e</code></td><td style=\"border: 0\"><code>['(16)', '(25)']</code></td></tr><tr style=\"border: 0;\"><td style=\"background-color: #2ca02c; border: 0;\"><code style=\"background-color: #2ca02c;\">#2ca02c</code></td><td style=\"border: 0\"><code>['(8)', '(11)']</code></td></tr><tr style=\"border: 0;\"><td style=\"background-color: #d62728; border: 0;\"><code style=\"background-color: #d62728;\">#d62728</code></td><td style=\"border: 0\"><code>['(32)', '(36)']</code></td></tr></table>"
      ]
     },
     "metadata": {},
     "output_type": "display_data"
    },
    {
     "data": {
      "image/png": "[encoded data removed]"
     },
     "metadata": {},
     "output_type": "display_data"
    },
    {
     "data": {
      "text/html": [
       "<svg  width=\"385\" height=\"55\"><rect x=\"0\" y=\"0\" width=\"55\" height=\"55\" style=\"fill:#969696;stroke-width:2;stroke:rgb(255,255,255)\"/><rect x=\"55\" y=\"0\" width=\"55\" height=\"55\" style=\"fill:#31a354;stroke-width:2;stroke:rgb(255,255,255)\"/><rect x=\"110\" y=\"0\" width=\"55\" height=\"55\" style=\"fill:#a1d99b;stroke-width:2;stroke:rgb(255,255,255)\"/><rect x=\"165\" y=\"0\" width=\"55\" height=\"55\" style=\"fill:#756bb1;stroke-width:2;stroke:rgb(255,255,255)\"/><rect x=\"220\" y=\"0\" width=\"55\" height=\"55\" style=\"fill:#bcbddc;stroke-width:2;stroke:rgb(255,255,255)\"/><rect x=\"275\" y=\"0\" width=\"55\" height=\"55\" style=\"fill:#e6550d;stroke-width:2;stroke:rgb(255,255,255)\"/><rect x=\"330\" y=\"0\" width=\"55\" height=\"55\" style=\"fill:#3182bd;stroke-width:2;stroke:rgb(255,255,255)\"/></svg>"
      ]
     },
     "metadata": {},
     "output_type": "display_data"
    },
    {
     "data": {
      "text/html": [
       "<pre style=\"white-space:pre;overflow-x:auto;line-height:normal;font-family:Menlo,'DejaVu Sans Mono',consolas,'Courier New',monospace\">\n",
       "\n",
       "\n",
       "</pre>\n"
      ],
      "text/plain": [
       "\n",
       "\n",
       "\n"
      ]
     },
     "metadata": {},
     "output_type": "display_data"
    },
    {
     "data": {
      "text/html": [
       "<pre style=\"white-space:pre;overflow-x:auto;line-height:normal;font-family:Menlo,'DejaVu Sans Mono',consolas,'Courier New',monospace\"><span style=\"font-weight: bold\">[</span>PROGRESS<span style=\"font-weight: bold\">]</span> <span style=\"color: #008000; text-decoration-color: #008000\">'overlap-regions_n-7.html'</span> saved at\n",
       "<span style=\"color: #800080; text-decoration-color: #800080\">/home/hadi/Dropbox/git/jb-Ca-fMRI/</span><span style=\"color: #ff00ff; text-decoration-color: #ff00ff\">_extras</span>\n",
       "</pre>\n"
      ],
      "text/plain": [
       "\u001b[1m[\u001b[0mPROGRESS\u001b[1m]\u001b[0m \u001b[32m'overlap-regions_n-7.html'\u001b[0m saved at\n",
       "\u001b[35m/home/hadi/Dropbox/git/jb-Ca-fMRI/\u001b[0m\u001b[95m_extras\u001b[0m\n"
      ]
     },
     "metadata": {},
     "output_type": "display_data"
    },
    {
     "data": {
      "text/html": [
       "<pre style=\"white-space:pre;overflow-x:auto;line-height:normal;font-family:Menlo,'DejaVu Sans Mono',consolas,'Courier New',monospace\"><span style=\"font-weight: bold\">[</span>PROGRESS<span style=\"font-weight: bold\">]</span> <span style=\"color: #008000; text-decoration-color: #008000\">'overlap-clusters_n-7.html'</span> saved at\n",
       "<span style=\"color: #800080; text-decoration-color: #800080\">/home/hadi/Dropbox/git/jb-Ca-fMRI/</span><span style=\"color: #ff00ff; text-decoration-color: #ff00ff\">_extras</span>\n",
       "</pre>\n"
      ],
      "text/plain": [
       "\u001b[1m[\u001b[0mPROGRESS\u001b[1m]\u001b[0m \u001b[32m'overlap-clusters_n-7.html'\u001b[0m saved at\n",
       "\u001b[35m/home/hadi/Dropbox/git/jb-Ca-fMRI/\u001b[0m\u001b[95m_extras\u001b[0m\n"
      ]
     },
     "metadata": {},
     "output_type": "display_data"
    },
    {
     "data": {
      "text/html": [
       "<pre style=\"white-space:pre;overflow-x:auto;line-height:normal;font-family:Menlo,'DejaVu Sans Mono',consolas,'Courier New',monospace\">n_clusters = <span style=\"color: #008080; text-decoration-color: #008080; font-weight: bold\">8</span>\n",
       "</pre>\n"
      ],
      "text/plain": [
       "n_clusters = \u001b[1;36m8\u001b[0m\n"
      ]
     },
     "metadata": {},
     "output_type": "display_data"
    },
    {
     "data": {
      "text/html": [
       "<table style=\"border: 0;\"><tr style=\"border: 0;\"><td style=\"background-color: #1f77b4; border: 0;\"><code style=\"background-color: #1f77b4;\">#1f77b4</code></td><td style=\"border: 0\"><code>['(10)']</code></td></tr><tr style=\"border: 0;\"><td style=\"background-color: #ff7f0e; border: 0;\"><code style=\"background-color: #ff7f0e;\">#ff7f0e</code></td><td style=\"border: 0\"><code>['(16)', '(25)']</code></td></tr><tr style=\"border: 0;\"><td style=\"background-color: #2ca02c; border: 0;\"><code style=\"background-color: #2ca02c;\">#2ca02c</code></td><td style=\"border: 0\"><code>['(8)', '(11)']</code></td></tr><tr style=\"border: 0;\"><td style=\"background-color: #d62728; border: 0;\"><code style=\"background-color: #d62728;\">#d62728</code></td><td style=\"border: 0\"><code>['(8)', '(24)', '(36)']</code></td></tr></table>"
      ]
     },
     "metadata": {},
     "output_type": "display_data"
    },
    {
     "data": {
      "image/png": "[encoded data removed]"
     },
     "metadata": {},
     "output_type": "display_data"
    },
    {
     "data": {
      "text/html": [
       "<svg  width=\"440\" height=\"55\"><rect x=\"0\" y=\"0\" width=\"55\" height=\"55\" style=\"fill:#969696;stroke-width:2;stroke:rgb(255,255,255)\"/><rect x=\"55\" y=\"0\" width=\"55\" height=\"55\" style=\"fill:#31a354;stroke-width:2;stroke:rgb(255,255,255)\"/><rect x=\"110\" y=\"0\" width=\"55\" height=\"55\" style=\"fill:#a1d99b;stroke-width:2;stroke:rgb(255,255,255)\"/><rect x=\"165\" y=\"0\" width=\"55\" height=\"55\" style=\"fill:#756bb1;stroke-width:2;stroke:rgb(255,255,255)\"/><rect x=\"220\" y=\"0\" width=\"55\" height=\"55\" style=\"fill:#bcbddc;stroke-width:2;stroke:rgb(255,255,255)\"/><rect x=\"275\" y=\"0\" width=\"55\" height=\"55\" style=\"fill:#e6550d;stroke-width:2;stroke:rgb(255,255,255)\"/><rect x=\"330\" y=\"0\" width=\"55\" height=\"55\" style=\"fill:#fdae6b;stroke-width:2;stroke:rgb(255,255,255)\"/><rect x=\"385\" y=\"0\" width=\"55\" height=\"55\" style=\"fill:#3182bd;stroke-width:2;stroke:rgb(255,255,255)\"/></svg>"
      ]
     },
     "metadata": {},
     "output_type": "display_data"
    },
    {
     "data": {
      "text/html": [
       "<pre style=\"white-space:pre;overflow-x:auto;line-height:normal;font-family:Menlo,'DejaVu Sans Mono',consolas,'Courier New',monospace\">\n",
       "\n",
       "\n",
       "</pre>\n"
      ],
      "text/plain": [
       "\n",
       "\n",
       "\n"
      ]
     },
     "metadata": {},
     "output_type": "display_data"
    },
    {
     "data": {
      "text/html": [
       "<pre style=\"white-space:pre;overflow-x:auto;line-height:normal;font-family:Menlo,'DejaVu Sans Mono',consolas,'Courier New',monospace\"><span style=\"font-weight: bold\">[</span>PROGRESS<span style=\"font-weight: bold\">]</span> <span style=\"color: #008000; text-decoration-color: #008000\">'overlap-regions_n-8.html'</span> saved at\n",
       "<span style=\"color: #800080; text-decoration-color: #800080\">/home/hadi/Dropbox/git/jb-Ca-fMRI/</span><span style=\"color: #ff00ff; text-decoration-color: #ff00ff\">_extras</span>\n",
       "</pre>\n"
      ],
      "text/plain": [
       "\u001b[1m[\u001b[0mPROGRESS\u001b[1m]\u001b[0m \u001b[32m'overlap-regions_n-8.html'\u001b[0m saved at\n",
       "\u001b[35m/home/hadi/Dropbox/git/jb-Ca-fMRI/\u001b[0m\u001b[95m_extras\u001b[0m\n"
      ]
     },
     "metadata": {},
     "output_type": "display_data"
    },
    {
     "data": {
      "text/html": [
       "<pre style=\"white-space:pre;overflow-x:auto;line-height:normal;font-family:Menlo,'DejaVu Sans Mono',consolas,'Courier New',monospace\"><span style=\"font-weight: bold\">[</span>PROGRESS<span style=\"font-weight: bold\">]</span> <span style=\"color: #008000; text-decoration-color: #008000\">'overlap-clusters_n-8.html'</span> saved at\n",
       "<span style=\"color: #800080; text-decoration-color: #800080\">/home/hadi/Dropbox/git/jb-Ca-fMRI/</span><span style=\"color: #ff00ff; text-decoration-color: #ff00ff\">_extras</span>\n",
       "</pre>\n"
      ],
      "text/plain": [
       "\u001b[1m[\u001b[0mPROGRESS\u001b[1m]\u001b[0m \u001b[32m'overlap-clusters_n-8.html'\u001b[0m saved at\n",
       "\u001b[35m/home/hadi/Dropbox/git/jb-Ca-fMRI/\u001b[0m\u001b[95m_extras\u001b[0m\n"
      ]
     },
     "metadata": {},
     "output_type": "display_data"
    },
    {
     "data": {
      "text/html": [
       "<pre style=\"white-space:pre;overflow-x:auto;line-height:normal;font-family:Menlo,'DejaVu Sans Mono',consolas,'Courier New',monospace\">n_clusters = <span style=\"color: #008080; text-decoration-color: #008080; font-weight: bold\">9</span>\n",
       "</pre>\n"
      ],
      "text/plain": [
       "n_clusters = \u001b[1;36m9\u001b[0m\n"
      ]
     },
     "metadata": {},
     "output_type": "display_data"
    },
    {
     "data": {
      "text/html": [
       "<table style=\"border: 0;\"><tr style=\"border: 0;\"><td style=\"background-color: #1f77b4; border: 0;\"><code style=\"background-color: #1f77b4;\">#1f77b4</code></td><td style=\"border: 0\"><code>['(10)']</code></td></tr><tr style=\"border: 0;\"><td style=\"background-color: #ff7f0e; border: 0;\"><code style=\"background-color: #ff7f0e;\">#ff7f0e</code></td><td style=\"border: 0\"><code>['(16)', '(25)']</code></td></tr><tr style=\"border: 0;\"><td style=\"background-color: #2ca02c; border: 0;\"><code style=\"background-color: #2ca02c;\">#2ca02c</code></td><td style=\"border: 0\"><code>['(8)', '(11)']</code></td></tr><tr style=\"border: 0;\"><td style=\"background-color: #d62728; border: 0;\"><code style=\"background-color: #d62728;\">#d62728</code></td><td style=\"border: 0\"><code>['(20)', '(8)', '(24)', '(16)']</code></td></tr></table>"
      ]
     },
     "metadata": {},
     "output_type": "display_data"
    },
    {
     "data": {
      "image/png": "[encoded data removed]"
     },
     "metadata": {},
     "output_type": "display_data"
    },
    {
     "data": {
      "text/html": [
       "<svg  width=\"495\" height=\"55\"><rect x=\"0\" y=\"0\" width=\"55\" height=\"55\" style=\"fill:#969696;stroke-width:2;stroke:rgb(255,255,255)\"/><rect x=\"55\" y=\"0\" width=\"55\" height=\"55\" style=\"fill:#31a354;stroke-width:2;stroke:rgb(255,255,255)\"/><rect x=\"110\" y=\"0\" width=\"55\" height=\"55\" style=\"fill:#a1d99b;stroke-width:2;stroke:rgb(255,255,255)\"/><rect x=\"165\" y=\"0\" width=\"55\" height=\"55\" style=\"fill:#756bb1;stroke-width:2;stroke:rgb(255,255,255)\"/><rect x=\"220\" y=\"0\" width=\"55\" height=\"55\" style=\"fill:#bcbddc;stroke-width:2;stroke:rgb(255,255,255)\"/><rect x=\"275\" y=\"0\" width=\"55\" height=\"55\" style=\"fill:#e6550d;stroke-width:2;stroke:rgb(255,255,255)\"/><rect x=\"330\" y=\"0\" width=\"55\" height=\"55\" style=\"fill:#fdae6b;stroke-width:2;stroke:rgb(255,255,255)\"/><rect x=\"385\" y=\"0\" width=\"55\" height=\"55\" style=\"fill:#3182bd;stroke-width:2;stroke:rgb(255,255,255)\"/><rect x=\"440\" y=\"0\" width=\"55\" height=\"55\" style=\"fill:#9ecae1;stroke-width:2;stroke:rgb(255,255,255)\"/></svg>"
      ]
     },
     "metadata": {},
     "output_type": "display_data"
    },
    {
     "data": {
      "text/html": [
       "<pre style=\"white-space:pre;overflow-x:auto;line-height:normal;font-family:Menlo,'DejaVu Sans Mono',consolas,'Courier New',monospace\">\n",
       "\n",
       "\n",
       "</pre>\n"
      ],
      "text/plain": [
       "\n",
       "\n",
       "\n"
      ]
     },
     "metadata": {},
     "output_type": "display_data"
    },
    {
     "data": {
      "text/html": [
       "<pre style=\"white-space:pre;overflow-x:auto;line-height:normal;font-family:Menlo,'DejaVu Sans Mono',consolas,'Courier New',monospace\"><span style=\"font-weight: bold\">[</span>PROGRESS<span style=\"font-weight: bold\">]</span> <span style=\"color: #008000; text-decoration-color: #008000\">'overlap-regions_n-9.html'</span> saved at\n",
       "<span style=\"color: #800080; text-decoration-color: #800080\">/home/hadi/Dropbox/git/jb-Ca-fMRI/</span><span style=\"color: #ff00ff; text-decoration-color: #ff00ff\">_extras</span>\n",
       "</pre>\n"
      ],
      "text/plain": [
       "\u001b[1m[\u001b[0mPROGRESS\u001b[1m]\u001b[0m \u001b[32m'overlap-regions_n-9.html'\u001b[0m saved at\n",
       "\u001b[35m/home/hadi/Dropbox/git/jb-Ca-fMRI/\u001b[0m\u001b[95m_extras\u001b[0m\n"
      ]
     },
     "metadata": {},
     "output_type": "display_data"
    },
    {
     "data": {
      "text/html": [
       "<pre style=\"white-space:pre;overflow-x:auto;line-height:normal;font-family:Menlo,'DejaVu Sans Mono',consolas,'Courier New',monospace\"><span style=\"font-weight: bold\">[</span>PROGRESS<span style=\"font-weight: bold\">]</span> <span style=\"color: #008000; text-decoration-color: #008000\">'overlap-clusters_n-9.html'</span> saved at\n",
       "<span style=\"color: #800080; text-decoration-color: #800080\">/home/hadi/Dropbox/git/jb-Ca-fMRI/</span><span style=\"color: #ff00ff; text-decoration-color: #ff00ff\">_extras</span>\n",
       "</pre>\n"
      ],
      "text/plain": [
       "\u001b[1m[\u001b[0mPROGRESS\u001b[1m]\u001b[0m \u001b[32m'overlap-clusters_n-9.html'\u001b[0m saved at\n",
       "\u001b[35m/home/hadi/Dropbox/git/jb-Ca-fMRI/\u001b[0m\u001b[95m_extras\u001b[0m\n"
      ]
     },
     "metadata": {},
     "output_type": "display_data"
    },
    {
     "data": {
      "text/html": [
       "<pre style=\"white-space:pre;overflow-x:auto;line-height:normal;font-family:Menlo,'DejaVu Sans Mono',consolas,'Courier New',monospace\">n_clusters = <span style=\"color: #008080; text-decoration-color: #008080; font-weight: bold\">10</span>\n",
       "</pre>\n"
      ],
      "text/plain": [
       "n_clusters = \u001b[1;36m10\u001b[0m\n"
      ]
     },
     "metadata": {},
     "output_type": "display_data"
    },
    {
     "data": {
      "text/html": [
       "<table style=\"border: 0;\"><tr style=\"border: 0;\"><td style=\"background-color: #1f77b4; border: 0;\"><code style=\"background-color: #1f77b4;\">#1f77b4</code></td><td style=\"border: 0\"><code>['(10)']</code></td></tr><tr style=\"border: 0;\"><td style=\"background-color: #ff7f0e; border: 0;\"><code style=\"background-color: #ff7f0e;\">#ff7f0e</code></td><td style=\"border: 0\"><code>['(16)', '(25)']</code></td></tr><tr style=\"border: 0;\"><td style=\"background-color: #2ca02c; border: 0;\"><code style=\"background-color: #2ca02c;\">#2ca02c</code></td><td style=\"border: 0\"><code>['(8)', '(11)']</code></td></tr><tr style=\"border: 0;\"><td style=\"background-color: #d62728; border: 0;\"><code style=\"background-color: #d62728;\">#d62728</code></td><td style=\"border: 0\"><code>['(8)', '(9)', '(15)', '(16)', '(20)']</code></td></tr></table>"
      ]
     },
     "metadata": {},
     "output_type": "display_data"
    },
    {
     "data": {
      "image/png": "[encoded data removed]"
     },
     "metadata": {},
     "output_type": "display_data"
    },
    {
     "data": {
      "text/html": [
       "<svg  width=\"550\" height=\"55\"><rect x=\"0\" y=\"0\" width=\"55\" height=\"55\" style=\"fill:#969696;stroke-width:2;stroke:rgb(255,255,255)\"/><rect x=\"55\" y=\"0\" width=\"55\" height=\"55\" style=\"fill:#31a354;stroke-width:2;stroke:rgb(255,255,255)\"/><rect x=\"110\" y=\"0\" width=\"55\" height=\"55\" style=\"fill:#a1d99b;stroke-width:2;stroke:rgb(255,255,255)\"/><rect x=\"165\" y=\"0\" width=\"55\" height=\"55\" style=\"fill:#756bb1;stroke-width:2;stroke:rgb(255,255,255)\"/><rect x=\"220\" y=\"0\" width=\"55\" height=\"55\" style=\"fill:#bcbddc;stroke-width:2;stroke:rgb(255,255,255)\"/><rect x=\"275\" y=\"0\" width=\"55\" height=\"55\" style=\"fill:#e6550d;stroke-width:2;stroke:rgb(255,255,255)\"/><rect x=\"330\" y=\"0\" width=\"55\" height=\"55\" style=\"fill:#fdae6b;stroke-width:2;stroke:rgb(255,255,255)\"/><rect x=\"385\" y=\"0\" width=\"55\" height=\"55\" style=\"fill:#fdd0a2;stroke-width:2;stroke:rgb(255,255,255)\"/><rect x=\"440\" y=\"0\" width=\"55\" height=\"55\" style=\"fill:#3182bd;stroke-width:2;stroke:rgb(255,255,255)\"/><rect x=\"495\" y=\"0\" width=\"55\" height=\"55\" style=\"fill:#9ecae1;stroke-width:2;stroke:rgb(255,255,255)\"/></svg>"
      ]
     },
     "metadata": {},
     "output_type": "display_data"
    },
    {
     "data": {
      "text/html": [
       "<pre style=\"white-space:pre;overflow-x:auto;line-height:normal;font-family:Menlo,'DejaVu Sans Mono',consolas,'Courier New',monospace\">\n",
       "\n",
       "\n",
       "</pre>\n"
      ],
      "text/plain": [
       "\n",
       "\n",
       "\n"
      ]
     },
     "metadata": {},
     "output_type": "display_data"
    },
    {
     "data": {
      "text/html": [
       "<pre style=\"white-space:pre;overflow-x:auto;line-height:normal;font-family:Menlo,'DejaVu Sans Mono',consolas,'Courier New',monospace\"><span style=\"font-weight: bold\">[</span>PROGRESS<span style=\"font-weight: bold\">]</span> <span style=\"color: #008000; text-decoration-color: #008000\">'overlap-regions_n-10.html'</span> saved at\n",
       "<span style=\"color: #800080; text-decoration-color: #800080\">/home/hadi/Dropbox/git/jb-Ca-fMRI/</span><span style=\"color: #ff00ff; text-decoration-color: #ff00ff\">_extras</span>\n",
       "</pre>\n"
      ],
      "text/plain": [
       "\u001b[1m[\u001b[0mPROGRESS\u001b[1m]\u001b[0m \u001b[32m'overlap-regions_n-10.html'\u001b[0m saved at\n",
       "\u001b[35m/home/hadi/Dropbox/git/jb-Ca-fMRI/\u001b[0m\u001b[95m_extras\u001b[0m\n"
      ]
     },
     "metadata": {},
     "output_type": "display_data"
    },
    {
     "data": {
      "text/html": [
       "<pre style=\"white-space:pre;overflow-x:auto;line-height:normal;font-family:Menlo,'DejaVu Sans Mono',consolas,'Courier New',monospace\"><span style=\"font-weight: bold\">[</span>PROGRESS<span style=\"font-weight: bold\">]</span> <span style=\"color: #008000; text-decoration-color: #008000\">'overlap-clusters_n-10.html'</span> saved at\n",
       "<span style=\"color: #800080; text-decoration-color: #800080\">/home/hadi/Dropbox/git/jb-Ca-fMRI/</span><span style=\"color: #ff00ff; text-decoration-color: #ff00ff\">_extras</span>\n",
       "</pre>\n"
      ],
      "text/plain": [
       "\u001b[1m[\u001b[0mPROGRESS\u001b[1m]\u001b[0m \u001b[32m'overlap-clusters_n-10.html'\u001b[0m saved at\n",
       "\u001b[35m/home/hadi/Dropbox/git/jb-Ca-fMRI/\u001b[0m\u001b[95m_extras\u001b[0m\n"
      ]
     },
     "metadata": {},
     "output_type": "display_data"
    },
    {
     "data": {
      "text/html": [
       "<pre style=\"white-space:pre;overflow-x:auto;line-height:normal;font-family:Menlo,'DejaVu Sans Mono',consolas,'Courier New',monospace\">n_clusters = <span style=\"color: #008080; text-decoration-color: #008080; font-weight: bold\">11</span>\n",
       "</pre>\n"
      ],
      "text/plain": [
       "n_clusters = \u001b[1;36m11\u001b[0m\n"
      ]
     },
     "metadata": {},
     "output_type": "display_data"
    },
    {
     "data": {
      "text/html": [
       "<table style=\"border: 0;\"><tr style=\"border: 0;\"><td style=\"background-color: #1f77b4; border: 0;\"><code style=\"background-color: #1f77b4;\">#1f77b4</code></td><td style=\"border: 0\"><code>['(10)']</code></td></tr><tr style=\"border: 0;\"><td style=\"background-color: #ff7f0e; border: 0;\"><code style=\"background-color: #ff7f0e;\">#ff7f0e</code></td><td style=\"border: 0\"><code>['(16)', '(25)']</code></td></tr><tr style=\"border: 0;\"><td style=\"background-color: #2ca02c; border: 0;\"><code style=\"background-color: #2ca02c;\">#2ca02c</code></td><td style=\"border: 0\"><code>['(8)', '(11)']</code></td></tr><tr style=\"border: 0;\"><td style=\"background-color: #d62728; border: 0;\"><code style=\"background-color: #d62728;\">#d62728</code></td><td style=\"border: 0\"><code>['(8)', '(9)', '(7)', '(8)', '(16)', '(20)']</code></td></tr></table>"
      ]
     },
     "metadata": {},
     "output_type": "display_data"
    },
    {
     "data": {
      "image/png": "[encoded data removed]"
     },
     "metadata": {},
     "output_type": "display_data"
    },
    {
     "data": {
      "text/html": [
       "<svg  width=\"605\" height=\"55\"><rect x=\"0\" y=\"0\" width=\"55\" height=\"55\" style=\"fill:#969696;stroke-width:2;stroke:rgb(255,255,255)\"/><rect x=\"55\" y=\"0\" width=\"55\" height=\"55\" style=\"fill:#31a354;stroke-width:2;stroke:rgb(255,255,255)\"/><rect x=\"110\" y=\"0\" width=\"55\" height=\"55\" style=\"fill:#a1d99b;stroke-width:2;stroke:rgb(255,255,255)\"/><rect x=\"165\" y=\"0\" width=\"55\" height=\"55\" style=\"fill:#756bb1;stroke-width:2;stroke:rgb(255,255,255)\"/><rect x=\"220\" y=\"0\" width=\"55\" height=\"55\" style=\"fill:#bcbddc;stroke-width:2;stroke:rgb(255,255,255)\"/><rect x=\"275\" y=\"0\" width=\"55\" height=\"55\" style=\"fill:#e6550d;stroke-width:2;stroke:rgb(255,255,255)\"/><rect x=\"330\" y=\"0\" width=\"55\" height=\"55\" style=\"fill:#fd8d3c;stroke-width:2;stroke:rgb(255,255,255)\"/><rect x=\"385\" y=\"0\" width=\"55\" height=\"55\" style=\"fill:#fdae6b;stroke-width:2;stroke:rgb(255,255,255)\"/><rect x=\"440\" y=\"0\" width=\"55\" height=\"55\" style=\"fill:#fdd0a2;stroke-width:2;stroke:rgb(255,255,255)\"/><rect x=\"495\" y=\"0\" width=\"55\" height=\"55\" style=\"fill:#3182bd;stroke-width:2;stroke:rgb(255,255,255)\"/><rect x=\"550\" y=\"0\" width=\"55\" height=\"55\" style=\"fill:#9ecae1;stroke-width:2;stroke:rgb(255,255,255)\"/></svg>"
      ]
     },
     "metadata": {},
     "output_type": "display_data"
    },
    {
     "data": {
      "text/html": [
       "<pre style=\"white-space:pre;overflow-x:auto;line-height:normal;font-family:Menlo,'DejaVu Sans Mono',consolas,'Courier New',monospace\">\n",
       "\n",
       "\n",
       "</pre>\n"
      ],
      "text/plain": [
       "\n",
       "\n",
       "\n"
      ]
     },
     "metadata": {},
     "output_type": "display_data"
    },
    {
     "data": {
      "text/html": [
       "<pre style=\"white-space:pre;overflow-x:auto;line-height:normal;font-family:Menlo,'DejaVu Sans Mono',consolas,'Courier New',monospace\"><span style=\"font-weight: bold\">[</span>PROGRESS<span style=\"font-weight: bold\">]</span> <span style=\"color: #008000; text-decoration-color: #008000\">'overlap-regions_n-11.html'</span> saved at\n",
       "<span style=\"color: #800080; text-decoration-color: #800080\">/home/hadi/Dropbox/git/jb-Ca-fMRI/</span><span style=\"color: #ff00ff; text-decoration-color: #ff00ff\">_extras</span>\n",
       "</pre>\n"
      ],
      "text/plain": [
       "\u001b[1m[\u001b[0mPROGRESS\u001b[1m]\u001b[0m \u001b[32m'overlap-regions_n-11.html'\u001b[0m saved at\n",
       "\u001b[35m/home/hadi/Dropbox/git/jb-Ca-fMRI/\u001b[0m\u001b[95m_extras\u001b[0m\n"
      ]
     },
     "metadata": {},
     "output_type": "display_data"
    },
    {
     "data": {
      "text/html": [
       "<pre style=\"white-space:pre;overflow-x:auto;line-height:normal;font-family:Menlo,'DejaVu Sans Mono',consolas,'Courier New',monospace\"><span style=\"font-weight: bold\">[</span>PROGRESS<span style=\"font-weight: bold\">]</span> <span style=\"color: #008000; text-decoration-color: #008000\">'overlap-clusters_n-11.html'</span> saved at\n",
       "<span style=\"color: #800080; text-decoration-color: #800080\">/home/hadi/Dropbox/git/jb-Ca-fMRI/</span><span style=\"color: #ff00ff; text-decoration-color: #ff00ff\">_extras</span>\n",
       "</pre>\n"
      ],
      "text/plain": [
       "\u001b[1m[\u001b[0mPROGRESS\u001b[1m]\u001b[0m \u001b[32m'overlap-clusters_n-11.html'\u001b[0m saved at\n",
       "\u001b[35m/home/hadi/Dropbox/git/jb-Ca-fMRI/\u001b[0m\u001b[95m_extras\u001b[0m\n"
      ]
     },
     "metadata": {},
     "output_type": "display_data"
    },
    {
     "data": {
      "text/html": [
       "<pre style=\"white-space:pre;overflow-x:auto;line-height:normal;font-family:Menlo,'DejaVu Sans Mono',consolas,'Courier New',monospace\">n_clusters = <span style=\"color: #008080; text-decoration-color: #008080; font-weight: bold\">12</span>\n",
       "</pre>\n"
      ],
      "text/plain": [
       "n_clusters = \u001b[1;36m12\u001b[0m\n"
      ]
     },
     "metadata": {},
     "output_type": "display_data"
    },
    {
     "data": {
      "text/html": [
       "<table style=\"border: 0;\"><tr style=\"border: 0;\"><td style=\"background-color: #1f77b4; border: 0;\"><code style=\"background-color: #1f77b4;\">#1f77b4</code></td><td style=\"border: 0\"><code>['(10)']</code></td></tr><tr style=\"border: 0;\"><td style=\"background-color: #ff7f0e; border: 0;\"><code style=\"background-color: #ff7f0e;\">#ff7f0e</code></td><td style=\"border: 0\"><code>['(16)', '(25)']</code></td></tr><tr style=\"border: 0;\"><td style=\"background-color: #2ca02c; border: 0;\"><code style=\"background-color: #2ca02c;\">#2ca02c</code></td><td style=\"border: 0\"><code>['(8)', '(11)']</code></td></tr><tr style=\"border: 0;\"><td style=\"background-color: #d62728; border: 0;\"><code style=\"background-color: #d62728;\">#d62728</code></td><td style=\"border: 0\"><code>['(8)', '(9)', '(7)', '(8)', '(16)', '(8)', '(12)']</code></td></tr></table>"
      ]
     },
     "metadata": {},
     "output_type": "display_data"
    },
    {
     "data": {
      "image/png": "[encoded data removed]"
     },
     "metadata": {},
     "output_type": "display_data"
    },
    {
     "data": {
      "text/html": [
       "<svg  width=\"660\" height=\"55\"><rect x=\"0\" y=\"0\" width=\"55\" height=\"55\" style=\"fill:#969696;stroke-width:2;stroke:rgb(255,255,255)\"/><rect x=\"55\" y=\"0\" width=\"55\" height=\"55\" style=\"fill:#31a354;stroke-width:2;stroke:rgb(255,255,255)\"/><rect x=\"110\" y=\"0\" width=\"55\" height=\"55\" style=\"fill:#a1d99b;stroke-width:2;stroke:rgb(255,255,255)\"/><rect x=\"165\" y=\"0\" width=\"55\" height=\"55\" style=\"fill:#756bb1;stroke-width:2;stroke:rgb(255,255,255)\"/><rect x=\"220\" y=\"0\" width=\"55\" height=\"55\" style=\"fill:#bcbddc;stroke-width:2;stroke:rgb(255,255,255)\"/><rect x=\"275\" y=\"0\" width=\"55\" height=\"55\" style=\"fill:#e6550d;stroke-width:2;stroke:rgb(255,255,255)\"/><rect x=\"330\" y=\"0\" width=\"55\" height=\"55\" style=\"fill:#fd8d3c;stroke-width:2;stroke:rgb(255,255,255)\"/><rect x=\"385\" y=\"0\" width=\"55\" height=\"55\" style=\"fill:#fdae6b;stroke-width:2;stroke:rgb(255,255,255)\"/><rect x=\"440\" y=\"0\" width=\"55\" height=\"55\" style=\"fill:#fdd0a2;stroke-width:2;stroke:rgb(255,255,255)\"/><rect x=\"495\" y=\"0\" width=\"55\" height=\"55\" style=\"fill:#3182bd;stroke-width:2;stroke:rgb(255,255,255)\"/><rect x=\"550\" y=\"0\" width=\"55\" height=\"55\" style=\"fill:#9ecae1;stroke-width:2;stroke:rgb(255,255,255)\"/><rect x=\"605\" y=\"0\" width=\"55\" height=\"55\" style=\"fill:#c6dbef;stroke-width:2;stroke:rgb(255,255,255)\"/></svg>"
      ]
     },
     "metadata": {},
     "output_type": "display_data"
    },
    {
     "data": {
      "text/html": [
       "<pre style=\"white-space:pre;overflow-x:auto;line-height:normal;font-family:Menlo,'DejaVu Sans Mono',consolas,'Courier New',monospace\">\n",
       "\n",
       "\n",
       "</pre>\n"
      ],
      "text/plain": [
       "\n",
       "\n",
       "\n"
      ]
     },
     "metadata": {},
     "output_type": "display_data"
    },
    {
     "data": {
      "text/html": [
       "<pre style=\"white-space:pre;overflow-x:auto;line-height:normal;font-family:Menlo,'DejaVu Sans Mono',consolas,'Courier New',monospace\"><span style=\"font-weight: bold\">[</span>PROGRESS<span style=\"font-weight: bold\">]</span> <span style=\"color: #008000; text-decoration-color: #008000\">'overlap-regions_n-12.html'</span> saved at\n",
       "<span style=\"color: #800080; text-decoration-color: #800080\">/home/hadi/Dropbox/git/jb-Ca-fMRI/</span><span style=\"color: #ff00ff; text-decoration-color: #ff00ff\">_extras</span>\n",
       "</pre>\n"
      ],
      "text/plain": [
       "\u001b[1m[\u001b[0mPROGRESS\u001b[1m]\u001b[0m \u001b[32m'overlap-regions_n-12.html'\u001b[0m saved at\n",
       "\u001b[35m/home/hadi/Dropbox/git/jb-Ca-fMRI/\u001b[0m\u001b[95m_extras\u001b[0m\n"
      ]
     },
     "metadata": {},
     "output_type": "display_data"
    },
    {
     "data": {
      "text/html": [
       "<pre style=\"white-space:pre;overflow-x:auto;line-height:normal;font-family:Menlo,'DejaVu Sans Mono',consolas,'Courier New',monospace\"><span style=\"font-weight: bold\">[</span>PROGRESS<span style=\"font-weight: bold\">]</span> <span style=\"color: #008000; text-decoration-color: #008000\">'overlap-clusters_n-12.html'</span> saved at\n",
       "<span style=\"color: #800080; text-decoration-color: #800080\">/home/hadi/Dropbox/git/jb-Ca-fMRI/</span><span style=\"color: #ff00ff; text-decoration-color: #ff00ff\">_extras</span>\n",
       "</pre>\n"
      ],
      "text/plain": [
       "\u001b[1m[\u001b[0mPROGRESS\u001b[1m]\u001b[0m \u001b[32m'overlap-clusters_n-12.html'\u001b[0m saved at\n",
       "\u001b[35m/home/hadi/Dropbox/git/jb-Ca-fMRI/\u001b[0m\u001b[95m_extras\u001b[0m\n"
      ]
     },
     "metadata": {},
     "output_type": "display_data"
    },
    {
     "data": {
      "text/html": [
       "<pre style=\"white-space:pre;overflow-x:auto;line-height:normal;font-family:Menlo,'DejaVu Sans Mono',consolas,'Courier New',monospace\">n_clusters = <span style=\"color: #008080; text-decoration-color: #008080; font-weight: bold\">13</span>\n",
       "</pre>\n"
      ],
      "text/plain": [
       "n_clusters = \u001b[1;36m13\u001b[0m\n"
      ]
     },
     "metadata": {},
     "output_type": "display_data"
    },
    {
     "data": {
      "text/html": [
       "<table style=\"border: 0;\"><tr style=\"border: 0;\"><td style=\"background-color: #ff7f0e; border: 0;\"><code style=\"background-color: #ff7f0e;\">#ff7f0e</code></td><td style=\"border: 0\"><code>['(4)', '(6)']</code></td></tr><tr style=\"border: 0;\"><td style=\"background-color: #2ca02c; border: 0;\"><code style=\"background-color: #2ca02c;\">#2ca02c</code></td><td style=\"border: 0\"><code>['(16)', '(25)']</code></td></tr><tr style=\"border: 0;\"><td style=\"background-color: #d62728; border: 0;\"><code style=\"background-color: #d62728;\">#d62728</code></td><td style=\"border: 0\"><code>['(8)', '(11)']</code></td></tr><tr style=\"border: 0;\"><td style=\"background-color: #9467bd; border: 0;\"><code style=\"background-color: #9467bd;\">#9467bd</code></td><td style=\"border: 0\"><code>['(8)', '(9)', '(7)', '(8)', '(16)', '(8)', '(12)']</code></td></tr></table>"
      ]
     },
     "metadata": {},
     "output_type": "display_data"
    },
    {
     "data": {
      "image/png": "[encoded data removed]"
     },
     "metadata": {},
     "output_type": "display_data"
    },
    {
     "data": {
      "text/html": [
       "<svg  width=\"715\" height=\"55\"><rect x=\"0\" y=\"0\" width=\"55\" height=\"55\" style=\"fill:#636363;stroke-width:2;stroke:rgb(255,255,255)\"/><rect x=\"55\" y=\"0\" width=\"55\" height=\"55\" style=\"fill:#969696;stroke-width:2;stroke:rgb(255,255,255)\"/><rect x=\"110\" y=\"0\" width=\"55\" height=\"55\" style=\"fill:#31a354;stroke-width:2;stroke:rgb(255,255,255)\"/><rect x=\"165\" y=\"0\" width=\"55\" height=\"55\" style=\"fill:#a1d99b;stroke-width:2;stroke:rgb(255,255,255)\"/><rect x=\"220\" y=\"0\" width=\"55\" height=\"55\" style=\"fill:#756bb1;stroke-width:2;stroke:rgb(255,255,255)\"/><rect x=\"275\" y=\"0\" width=\"55\" height=\"55\" style=\"fill:#bcbddc;stroke-width:2;stroke:rgb(255,255,255)\"/><rect x=\"330\" y=\"0\" width=\"55\" height=\"55\" style=\"fill:#e6550d;stroke-width:2;stroke:rgb(255,255,255)\"/><rect x=\"385\" y=\"0\" width=\"55\" height=\"55\" style=\"fill:#fd8d3c;stroke-width:2;stroke:rgb(255,255,255)\"/><rect x=\"440\" y=\"0\" width=\"55\" height=\"55\" style=\"fill:#fdae6b;stroke-width:2;stroke:rgb(255,255,255)\"/><rect x=\"495\" y=\"0\" width=\"55\" height=\"55\" style=\"fill:#fdd0a2;stroke-width:2;stroke:rgb(255,255,255)\"/><rect x=\"550\" y=\"0\" width=\"55\" height=\"55\" style=\"fill:#3182bd;stroke-width:2;stroke:rgb(255,255,255)\"/><rect x=\"605\" y=\"0\" width=\"55\" height=\"55\" style=\"fill:#9ecae1;stroke-width:2;stroke:rgb(255,255,255)\"/><rect x=\"660\" y=\"0\" width=\"55\" height=\"55\" style=\"fill:#c6dbef;stroke-width:2;stroke:rgb(255,255,255)\"/></svg>"
      ]
     },
     "metadata": {},
     "output_type": "display_data"
    },
    {
     "data": {
      "text/html": [
       "<pre style=\"white-space:pre;overflow-x:auto;line-height:normal;font-family:Menlo,'DejaVu Sans Mono',consolas,'Courier New',monospace\">\n",
       "\n",
       "\n",
       "</pre>\n"
      ],
      "text/plain": [
       "\n",
       "\n",
       "\n"
      ]
     },
     "metadata": {},
     "output_type": "display_data"
    },
    {
     "data": {
      "text/html": [
       "<pre style=\"white-space:pre;overflow-x:auto;line-height:normal;font-family:Menlo,'DejaVu Sans Mono',consolas,'Courier New',monospace\"><span style=\"font-weight: bold\">[</span>PROGRESS<span style=\"font-weight: bold\">]</span> <span style=\"color: #008000; text-decoration-color: #008000\">'overlap-regions_n-13.html'</span> saved at\n",
       "<span style=\"color: #800080; text-decoration-color: #800080\">/home/hadi/Dropbox/git/jb-Ca-fMRI/</span><span style=\"color: #ff00ff; text-decoration-color: #ff00ff\">_extras</span>\n",
       "</pre>\n"
      ],
      "text/plain": [
       "\u001b[1m[\u001b[0mPROGRESS\u001b[1m]\u001b[0m \u001b[32m'overlap-regions_n-13.html'\u001b[0m saved at\n",
       "\u001b[35m/home/hadi/Dropbox/git/jb-Ca-fMRI/\u001b[0m\u001b[95m_extras\u001b[0m\n"
      ]
     },
     "metadata": {},
     "output_type": "display_data"
    },
    {
     "data": {
      "text/html": [
       "<pre style=\"white-space:pre;overflow-x:auto;line-height:normal;font-family:Menlo,'DejaVu Sans Mono',consolas,'Courier New',monospace\"><span style=\"font-weight: bold\">[</span>PROGRESS<span style=\"font-weight: bold\">]</span> <span style=\"color: #008000; text-decoration-color: #008000\">'overlap-clusters_n-13.html'</span> saved at\n",
       "<span style=\"color: #800080; text-decoration-color: #800080\">/home/hadi/Dropbox/git/jb-Ca-fMRI/</span><span style=\"color: #ff00ff; text-decoration-color: #ff00ff\">_extras</span>\n",
       "</pre>\n"
      ],
      "text/plain": [
       "\u001b[1m[\u001b[0mPROGRESS\u001b[1m]\u001b[0m \u001b[32m'overlap-clusters_n-13.html'\u001b[0m saved at\n",
       "\u001b[35m/home/hadi/Dropbox/git/jb-Ca-fMRI/\u001b[0m\u001b[95m_extras\u001b[0m\n"
      ]
     },
     "metadata": {},
     "output_type": "display_data"
    },
    {
     "data": {
      "text/html": [
       "<pre style=\"white-space:pre;overflow-x:auto;line-height:normal;font-family:Menlo,'DejaVu Sans Mono',consolas,'Courier New',monospace\">n_clusters = <span style=\"color: #008080; text-decoration-color: #008080; font-weight: bold\">14</span>\n",
       "</pre>\n"
      ],
      "text/plain": [
       "n_clusters = \u001b[1;36m14\u001b[0m\n"
      ]
     },
     "metadata": {},
     "output_type": "display_data"
    },
    {
     "data": {
      "text/html": [
       "<table style=\"border: 0;\"><tr style=\"border: 0;\"><td style=\"background-color: #ff7f0e; border: 0;\"><code style=\"background-color: #ff7f0e;\">#ff7f0e</code></td><td style=\"border: 0\"><code>['(4)', '(6)']</code></td></tr><tr style=\"border: 0;\"><td style=\"background-color: #2ca02c; border: 0;\"><code style=\"background-color: #2ca02c;\">#2ca02c</code></td><td style=\"border: 0\"><code>['(16)', '(10)', '(15)']</code></td></tr><tr style=\"border: 0;\"><td style=\"background-color: #d62728; border: 0;\"><code style=\"background-color: #d62728;\">#d62728</code></td><td style=\"border: 0\"><code>['(8)', '(11)']</code></td></tr><tr style=\"border: 0;\"><td style=\"background-color: #9467bd; border: 0;\"><code style=\"background-color: #9467bd;\">#9467bd</code></td><td style=\"border: 0\"><code>['(8)', '(9)', '(7)', '(8)', '(16)', '(8)', '(12)']</code></td></tr></table>"
      ]
     },
     "metadata": {},
     "output_type": "display_data"
    },
    {
     "data": {
      "image/png": "[encoded data removed]"
     },
     "metadata": {},
     "output_type": "display_data"
    },
    {
     "data": {
      "text/html": [
       "<svg  width=\"770\" height=\"55\"><rect x=\"0\" y=\"0\" width=\"55\" height=\"55\" style=\"fill:#636363;stroke-width:2;stroke:rgb(255,255,255)\"/><rect x=\"55\" y=\"0\" width=\"55\" height=\"55\" style=\"fill:#969696;stroke-width:2;stroke:rgb(255,255,255)\"/><rect x=\"110\" y=\"0\" width=\"55\" height=\"55\" style=\"fill:#31a354;stroke-width:2;stroke:rgb(255,255,255)\"/><rect x=\"165\" y=\"0\" width=\"55\" height=\"55\" style=\"fill:#a1d99b;stroke-width:2;stroke:rgb(255,255,255)\"/><rect x=\"220\" y=\"0\" width=\"55\" height=\"55\" style=\"fill:#c7e9c0;stroke-width:2;stroke:rgb(255,255,255)\"/><rect x=\"275\" y=\"0\" width=\"55\" height=\"55\" style=\"fill:#756bb1;stroke-width:2;stroke:rgb(255,255,255)\"/><rect x=\"330\" y=\"0\" width=\"55\" height=\"55\" style=\"fill:#bcbddc;stroke-width:2;stroke:rgb(255,255,255)\"/><rect x=\"385\" y=\"0\" width=\"55\" height=\"55\" style=\"fill:#e6550d;stroke-width:2;stroke:rgb(255,255,255)\"/><rect x=\"440\" y=\"0\" width=\"55\" height=\"55\" style=\"fill:#fd8d3c;stroke-width:2;stroke:rgb(255,255,255)\"/><rect x=\"495\" y=\"0\" width=\"55\" height=\"55\" style=\"fill:#fdae6b;stroke-width:2;stroke:rgb(255,255,255)\"/><rect x=\"550\" y=\"0\" width=\"55\" height=\"55\" style=\"fill:#fdd0a2;stroke-width:2;stroke:rgb(255,255,255)\"/><rect x=\"605\" y=\"0\" width=\"55\" height=\"55\" style=\"fill:#3182bd;stroke-width:2;stroke:rgb(255,255,255)\"/><rect x=\"660\" y=\"0\" width=\"55\" height=\"55\" style=\"fill:#9ecae1;stroke-width:2;stroke:rgb(255,255,255)\"/><rect x=\"715\" y=\"0\" width=\"55\" height=\"55\" style=\"fill:#c6dbef;stroke-width:2;stroke:rgb(255,255,255)\"/></svg>"
      ]
     },
     "metadata": {},
     "output_type": "display_data"
    },
    {
     "data": {
      "text/html": [
       "<pre style=\"white-space:pre;overflow-x:auto;line-height:normal;font-family:Menlo,'DejaVu Sans Mono',consolas,'Courier New',monospace\">\n",
       "\n",
       "\n",
       "</pre>\n"
      ],
      "text/plain": [
       "\n",
       "\n",
       "\n"
      ]
     },
     "metadata": {},
     "output_type": "display_data"
    },
    {
     "data": {
      "text/html": [
       "<pre style=\"white-space:pre;overflow-x:auto;line-height:normal;font-family:Menlo,'DejaVu Sans Mono',consolas,'Courier New',monospace\"><span style=\"font-weight: bold\">[</span>PROGRESS<span style=\"font-weight: bold\">]</span> <span style=\"color: #008000; text-decoration-color: #008000\">'overlap-regions_n-14.html'</span> saved at\n",
       "<span style=\"color: #800080; text-decoration-color: #800080\">/home/hadi/Dropbox/git/jb-Ca-fMRI/</span><span style=\"color: #ff00ff; text-decoration-color: #ff00ff\">_extras</span>\n",
       "</pre>\n"
      ],
      "text/plain": [
       "\u001b[1m[\u001b[0mPROGRESS\u001b[1m]\u001b[0m \u001b[32m'overlap-regions_n-14.html'\u001b[0m saved at\n",
       "\u001b[35m/home/hadi/Dropbox/git/jb-Ca-fMRI/\u001b[0m\u001b[95m_extras\u001b[0m\n"
      ]
     },
     "metadata": {},
     "output_type": "display_data"
    },
    {
     "data": {
      "text/html": [
       "<pre style=\"white-space:pre;overflow-x:auto;line-height:normal;font-family:Menlo,'DejaVu Sans Mono',consolas,'Courier New',monospace\"><span style=\"font-weight: bold\">[</span>PROGRESS<span style=\"font-weight: bold\">]</span> <span style=\"color: #008000; text-decoration-color: #008000\">'overlap-clusters_n-14.html'</span> saved at\n",
       "<span style=\"color: #800080; text-decoration-color: #800080\">/home/hadi/Dropbox/git/jb-Ca-fMRI/</span><span style=\"color: #ff00ff; text-decoration-color: #ff00ff\">_extras</span>\n",
       "</pre>\n"
      ],
      "text/plain": [
       "\u001b[1m[\u001b[0mPROGRESS\u001b[1m]\u001b[0m \u001b[32m'overlap-clusters_n-14.html'\u001b[0m saved at\n",
       "\u001b[35m/home/hadi/Dropbox/git/jb-Ca-fMRI/\u001b[0m\u001b[95m_extras\u001b[0m\n"
      ]
     },
     "metadata": {},
     "output_type": "display_data"
    },
    {
     "data": {
      "text/html": [
       "<pre style=\"white-space:pre;overflow-x:auto;line-height:normal;font-family:Menlo,'DejaVu Sans Mono',consolas,'Courier New',monospace\">n_clusters = <span style=\"color: #008080; text-decoration-color: #008080; font-weight: bold\">15</span>\n",
       "</pre>\n"
      ],
      "text/plain": [
       "n_clusters = \u001b[1;36m15\u001b[0m\n"
      ]
     },
     "metadata": {},
     "output_type": "display_data"
    },
    {
     "data": {
      "text/html": [
       "<table style=\"border: 0;\"><tr style=\"border: 0;\"><td style=\"background-color: #ff7f0e; border: 0;\"><code style=\"background-color: #ff7f0e;\">#ff7f0e</code></td><td style=\"border: 0\"><code>['(4)', '(6)']</code></td></tr><tr style=\"border: 0;\"><td style=\"background-color: #2ca02c; border: 0;\"><code style=\"background-color: #2ca02c;\">#2ca02c</code></td><td style=\"border: 0\"><code>['(7)', '(9)', '(10)', '(15)']</code></td></tr><tr style=\"border: 0;\"><td style=\"background-color: #d62728; border: 0;\"><code style=\"background-color: #d62728;\">#d62728</code></td><td style=\"border: 0\"><code>['(8)', '(11)']</code></td></tr><tr style=\"border: 0;\"><td style=\"background-color: #9467bd; border: 0;\"><code style=\"background-color: #9467bd;\">#9467bd</code></td><td style=\"border: 0\"><code>['(8)', '(9)', '(7)', '(8)', '(16)', '(8)', '(12)']</code></td></tr></table>"
      ]
     },
     "metadata": {},
     "output_type": "display_data"
    },
    {
     "data": {
      "image/png": "[encoded data removed]"
     },
     "metadata": {},
     "output_type": "display_data"
    },
    {
     "data": {
      "text/html": [
       "<svg  width=\"825\" height=\"55\"><rect x=\"0\" y=\"0\" width=\"55\" height=\"55\" style=\"fill:#636363;stroke-width:2;stroke:rgb(255,255,255)\"/><rect x=\"55\" y=\"0\" width=\"55\" height=\"55\" style=\"fill:#969696;stroke-width:2;stroke:rgb(255,255,255)\"/><rect x=\"110\" y=\"0\" width=\"55\" height=\"55\" style=\"fill:#31a354;stroke-width:2;stroke:rgb(255,255,255)\"/><rect x=\"165\" y=\"0\" width=\"55\" height=\"55\" style=\"fill:#74c476;stroke-width:2;stroke:rgb(255,255,255)\"/><rect x=\"220\" y=\"0\" width=\"55\" height=\"55\" style=\"fill:#a1d99b;stroke-width:2;stroke:rgb(255,255,255)\"/><rect x=\"275\" y=\"0\" width=\"55\" height=\"55\" style=\"fill:#c7e9c0;stroke-width:2;stroke:rgb(255,255,255)\"/><rect x=\"330\" y=\"0\" width=\"55\" height=\"55\" style=\"fill:#756bb1;stroke-width:2;stroke:rgb(255,255,255)\"/><rect x=\"385\" y=\"0\" width=\"55\" height=\"55\" style=\"fill:#bcbddc;stroke-width:2;stroke:rgb(255,255,255)\"/><rect x=\"440\" y=\"0\" width=\"55\" height=\"55\" style=\"fill:#e6550d;stroke-width:2;stroke:rgb(255,255,255)\"/><rect x=\"495\" y=\"0\" width=\"55\" height=\"55\" style=\"fill:#fd8d3c;stroke-width:2;stroke:rgb(255,255,255)\"/><rect x=\"550\" y=\"0\" width=\"55\" height=\"55\" style=\"fill:#fdae6b;stroke-width:2;stroke:rgb(255,255,255)\"/><rect x=\"605\" y=\"0\" width=\"55\" height=\"55\" style=\"fill:#fdd0a2;stroke-width:2;stroke:rgb(255,255,255)\"/><rect x=\"660\" y=\"0\" width=\"55\" height=\"55\" style=\"fill:#3182bd;stroke-width:2;stroke:rgb(255,255,255)\"/><rect x=\"715\" y=\"0\" width=\"55\" height=\"55\" style=\"fill:#9ecae1;stroke-width:2;stroke:rgb(255,255,255)\"/><rect x=\"770\" y=\"0\" width=\"55\" height=\"55\" style=\"fill:#c6dbef;stroke-width:2;stroke:rgb(255,255,255)\"/></svg>"
      ]
     },
     "metadata": {},
     "output_type": "display_data"
    },
    {
     "data": {
      "text/html": [
       "<pre style=\"white-space:pre;overflow-x:auto;line-height:normal;font-family:Menlo,'DejaVu Sans Mono',consolas,'Courier New',monospace\">\n",
       "\n",
       "\n",
       "</pre>\n"
      ],
      "text/plain": [
       "\n",
       "\n",
       "\n"
      ]
     },
     "metadata": {},
     "output_type": "display_data"
    },
    {
     "data": {
      "text/html": [
       "<pre style=\"white-space:pre;overflow-x:auto;line-height:normal;font-family:Menlo,'DejaVu Sans Mono',consolas,'Courier New',monospace\"><span style=\"font-weight: bold\">[</span>PROGRESS<span style=\"font-weight: bold\">]</span> <span style=\"color: #008000; text-decoration-color: #008000\">'overlap-regions_n-15.html'</span> saved at\n",
       "<span style=\"color: #800080; text-decoration-color: #800080\">/home/hadi/Dropbox/git/jb-Ca-fMRI/</span><span style=\"color: #ff00ff; text-decoration-color: #ff00ff\">_extras</span>\n",
       "</pre>\n"
      ],
      "text/plain": [
       "\u001b[1m[\u001b[0mPROGRESS\u001b[1m]\u001b[0m \u001b[32m'overlap-regions_n-15.html'\u001b[0m saved at\n",
       "\u001b[35m/home/hadi/Dropbox/git/jb-Ca-fMRI/\u001b[0m\u001b[95m_extras\u001b[0m\n"
      ]
     },
     "metadata": {},
     "output_type": "display_data"
    },
    {
     "data": {
      "text/html": [
       "<pre style=\"white-space:pre;overflow-x:auto;line-height:normal;font-family:Menlo,'DejaVu Sans Mono',consolas,'Courier New',monospace\"><span style=\"font-weight: bold\">[</span>PROGRESS<span style=\"font-weight: bold\">]</span> <span style=\"color: #008000; text-decoration-color: #008000\">'overlap-clusters_n-15.html'</span> saved at\n",
       "<span style=\"color: #800080; text-decoration-color: #800080\">/home/hadi/Dropbox/git/jb-Ca-fMRI/</span><span style=\"color: #ff00ff; text-decoration-color: #ff00ff\">_extras</span>\n",
       "</pre>\n"
      ],
      "text/plain": [
       "\u001b[1m[\u001b[0mPROGRESS\u001b[1m]\u001b[0m \u001b[32m'overlap-clusters_n-15.html'\u001b[0m saved at\n",
       "\u001b[35m/home/hadi/Dropbox/git/jb-Ca-fMRI/\u001b[0m\u001b[95m_extras\u001b[0m\n"
      ]
     },
     "metadata": {},
     "output_type": "display_data"
    }
   ],
   "source": [
    "clusters_all = {}\n",
    "\n",
    "for n_clusters in range(2, 16):\n",
    "    hier_output = get_clust_graph(\n",
    "        linkage_mat=hier_results['z'],\n",
    "        c_list=cluster_color_idxs[n_clusters],\n",
    "        labels=labels,\n",
    "        num_clusters=n_clusters,\n",
    "        leaf_font_size=10,\n",
    "        figsize=(3.5, 2),\n",
    "    )\n",
    "    print(f\"n_clusters = {n_clusters}\")\n",
    "    display(hier_output['cluster_classes'])\n",
    "    display(hier_output['fig'])\n",
    "    display(sns.color_palette(hier_output['cluster_colors'].values()))\n",
    "    print('\\n\\n')\n",
    "    \n",
    "    community = {\n",
    "        i: translate_labels(leaves, allen['mcc'], forward=False)\n",
    "        for i, leaves in hier_output['cluster_assigns'].items()\n",
    "    }\n",
    "    assert len(community) == n_clusters\n",
    "\n",
    "    comms3d = np.zeros(allen['template'].shape)\n",
    "    for cluster_idx, leaves in community.items():\n",
    "        for lbl in leaves:\n",
    "            if str(allen['isocortex']['id']) in lbl:\n",
    "                lr, structure_id, region_id = tuple(map(lambda x: int(x), lbl.split('-')))\n",
    "                comms3d[parcellation['parcel'] == region_id] = cluster_idx\n",
    "            else:\n",
    "                comms3d[roi_masks[lbl]] = cluster_idx\n",
    "    comms3d = comms3d.astype(int)\n",
    "    \n",
    "    # save results\n",
    "    cluster = Clusters(\n",
    "        x=comms3d,\n",
    "        masks=major_masks,\n",
    "        c_cluster=hier_output['cluster_colors'],\n",
    "        c_structure=struct_colors,\n",
    "        threshold=0.0,\n",
    "    )\n",
    "    clusters_all[n_clusters] = cluster\n",
    "    _ = cluster.export(extras_dir)"
   ]
  },
  {
   "cell_type": "code",
   "execution_count": null,
   "id": "7b3986d2",
   "metadata": {},
   "outputs": [],
   "source": []
  },
  {
   "cell_type": "code",
   "execution_count": null,
   "id": "ddefcc3b",
   "metadata": {},
   "outputs": [],
   "source": []
  },
  {
   "cell_type": "code",
   "execution_count": null,
   "id": "fa80472d",
   "metadata": {},
   "outputs": [],
   "source": []
  },
  {
   "cell_type": "markdown",
   "id": "b2562c59",
   "metadata": {},
   "source": [
    "## Render"
   ]
  },
  {
   "cell_type": "code",
   "execution_count": 31,
   "id": "692d9a46",
   "metadata": {},
   "outputs": [
    {
     "data": {
      "text/html": [
       "<pre style=\"white-space:pre;overflow-x:auto;line-height:normal;font-family:Menlo,'DejaVu Sans Mono',consolas,'Courier New',monospace\">Scene saved at \n",
       "<span style=\"color: #800080; text-decoration-color: #800080\">/home/hadi/Dropbox/git/jb-Ca-fMRI/_extras/</span><span style=\"color: #ff00ff; text-decoration-color: #ff00ff\">cluster3d-canberra_parcel-128_n-2.html</span>\n",
       "</pre>\n"
      ],
      "text/plain": [
       "Scene saved at \n",
       "\u001b[35m/home/hadi/Dropbox/git/jb-Ca-fMRI/_extras/\u001b[0m\u001b[95mcluster3d-canberra_parcel-128_n-2.html\u001b[0m\n"
      ]
     },
     "metadata": {},
     "output_type": "display_data"
    },
    {
     "data": {
      "text/html": [
       "<pre style=\"white-space:pre;overflow-x:auto;line-height:normal;font-family:Menlo,'DejaVu Sans Mono',consolas,'Courier New',monospace\">Scene saved at \n",
       "<span style=\"color: #800080; text-decoration-color: #800080\">/home/hadi/Dropbox/git/jb-Ca-fMRI/_extras/</span><span style=\"color: #ff00ff; text-decoration-color: #ff00ff\">cluster3d-canberra_parcel-128_n-3.html</span>\n",
       "</pre>\n"
      ],
      "text/plain": [
       "Scene saved at \n",
       "\u001b[35m/home/hadi/Dropbox/git/jb-Ca-fMRI/_extras/\u001b[0m\u001b[95mcluster3d-canberra_parcel-128_n-3.html\u001b[0m\n"
      ]
     },
     "metadata": {},
     "output_type": "display_data"
    },
    {
     "data": {
      "text/html": [
       "<pre style=\"white-space:pre;overflow-x:auto;line-height:normal;font-family:Menlo,'DejaVu Sans Mono',consolas,'Courier New',monospace\">Scene saved at \n",
       "<span style=\"color: #800080; text-decoration-color: #800080\">/home/hadi/Dropbox/git/jb-Ca-fMRI/_extras/</span><span style=\"color: #ff00ff; text-decoration-color: #ff00ff\">cluster3d-canberra_parcel-128_n-4.html</span>\n",
       "</pre>\n"
      ],
      "text/plain": [
       "Scene saved at \n",
       "\u001b[35m/home/hadi/Dropbox/git/jb-Ca-fMRI/_extras/\u001b[0m\u001b[95mcluster3d-canberra_parcel-128_n-4.html\u001b[0m\n"
      ]
     },
     "metadata": {},
     "output_type": "display_data"
    },
    {
     "data": {
      "text/html": [
       "<pre style=\"white-space:pre;overflow-x:auto;line-height:normal;font-family:Menlo,'DejaVu Sans Mono',consolas,'Courier New',monospace\">Scene saved at \n",
       "<span style=\"color: #800080; text-decoration-color: #800080\">/home/hadi/Dropbox/git/jb-Ca-fMRI/_extras/</span><span style=\"color: #ff00ff; text-decoration-color: #ff00ff\">cluster3d-canberra_parcel-128_n-5.html</span>\n",
       "</pre>\n"
      ],
      "text/plain": [
       "Scene saved at \n",
       "\u001b[35m/home/hadi/Dropbox/git/jb-Ca-fMRI/_extras/\u001b[0m\u001b[95mcluster3d-canberra_parcel-128_n-5.html\u001b[0m\n"
      ]
     },
     "metadata": {},
     "output_type": "display_data"
    },
    {
     "data": {
      "text/html": [
       "<pre style=\"white-space:pre;overflow-x:auto;line-height:normal;font-family:Menlo,'DejaVu Sans Mono',consolas,'Courier New',monospace\">Scene saved at \n",
       "<span style=\"color: #800080; text-decoration-color: #800080\">/home/hadi/Dropbox/git/jb-Ca-fMRI/_extras/</span><span style=\"color: #ff00ff; text-decoration-color: #ff00ff\">cluster3d-canberra_parcel-128_n-6.html</span>\n",
       "</pre>\n"
      ],
      "text/plain": [
       "Scene saved at \n",
       "\u001b[35m/home/hadi/Dropbox/git/jb-Ca-fMRI/_extras/\u001b[0m\u001b[95mcluster3d-canberra_parcel-128_n-6.html\u001b[0m\n"
      ]
     },
     "metadata": {},
     "output_type": "display_data"
    },
    {
     "data": {
      "text/html": [
       "<pre style=\"white-space:pre;overflow-x:auto;line-height:normal;font-family:Menlo,'DejaVu Sans Mono',consolas,'Courier New',monospace\">Scene saved at \n",
       "<span style=\"color: #800080; text-decoration-color: #800080\">/home/hadi/Dropbox/git/jb-Ca-fMRI/_extras/</span><span style=\"color: #ff00ff; text-decoration-color: #ff00ff\">cluster3d-canberra_parcel-128_n-7.html</span>\n",
       "</pre>\n"
      ],
      "text/plain": [
       "Scene saved at \n",
       "\u001b[35m/home/hadi/Dropbox/git/jb-Ca-fMRI/_extras/\u001b[0m\u001b[95mcluster3d-canberra_parcel-128_n-7.html\u001b[0m\n"
      ]
     },
     "metadata": {},
     "output_type": "display_data"
    },
    {
     "data": {
      "text/html": [
       "<pre style=\"white-space:pre;overflow-x:auto;line-height:normal;font-family:Menlo,'DejaVu Sans Mono',consolas,'Courier New',monospace\">Scene saved at \n",
       "<span style=\"color: #800080; text-decoration-color: #800080\">/home/hadi/Dropbox/git/jb-Ca-fMRI/_extras/</span><span style=\"color: #ff00ff; text-decoration-color: #ff00ff\">cluster3d-canberra_parcel-128_n-8.html</span>\n",
       "</pre>\n"
      ],
      "text/plain": [
       "Scene saved at \n",
       "\u001b[35m/home/hadi/Dropbox/git/jb-Ca-fMRI/_extras/\u001b[0m\u001b[95mcluster3d-canberra_parcel-128_n-8.html\u001b[0m\n"
      ]
     },
     "metadata": {},
     "output_type": "display_data"
    },
    {
     "data": {
      "text/html": [
       "<pre style=\"white-space:pre;overflow-x:auto;line-height:normal;font-family:Menlo,'DejaVu Sans Mono',consolas,'Courier New',monospace\">Scene saved at \n",
       "<span style=\"color: #800080; text-decoration-color: #800080\">/home/hadi/Dropbox/git/jb-Ca-fMRI/_extras/</span><span style=\"color: #ff00ff; text-decoration-color: #ff00ff\">cluster3d-canberra_parcel-128_n-9.html</span>\n",
       "</pre>\n"
      ],
      "text/plain": [
       "Scene saved at \n",
       "\u001b[35m/home/hadi/Dropbox/git/jb-Ca-fMRI/_extras/\u001b[0m\u001b[95mcluster3d-canberra_parcel-128_n-9.html\u001b[0m\n"
      ]
     },
     "metadata": {},
     "output_type": "display_data"
    },
    {
     "data": {
      "text/html": [
       "<pre style=\"white-space:pre;overflow-x:auto;line-height:normal;font-family:Menlo,'DejaVu Sans Mono',consolas,'Courier New',monospace\">Scene saved at \n",
       "<span style=\"color: #800080; text-decoration-color: #800080\">/home/hadi/Dropbox/git/jb-Ca-fMRI/_extras/</span><span style=\"color: #ff00ff; text-decoration-color: #ff00ff\">cluster3d-canberra_parcel-128_n-10.html</span>\n",
       "</pre>\n"
      ],
      "text/plain": [
       "Scene saved at \n",
       "\u001b[35m/home/hadi/Dropbox/git/jb-Ca-fMRI/_extras/\u001b[0m\u001b[95mcluster3d-canberra_parcel-128_n-10.html\u001b[0m\n"
      ]
     },
     "metadata": {},
     "output_type": "display_data"
    },
    {
     "data": {
      "text/html": [
       "<pre style=\"white-space:pre;overflow-x:auto;line-height:normal;font-family:Menlo,'DejaVu Sans Mono',consolas,'Courier New',monospace\">Scene saved at \n",
       "<span style=\"color: #800080; text-decoration-color: #800080\">/home/hadi/Dropbox/git/jb-Ca-fMRI/_extras/</span><span style=\"color: #ff00ff; text-decoration-color: #ff00ff\">cluster3d-canberra_parcel-128_n-11.html</span>\n",
       "</pre>\n"
      ],
      "text/plain": [
       "Scene saved at \n",
       "\u001b[35m/home/hadi/Dropbox/git/jb-Ca-fMRI/_extras/\u001b[0m\u001b[95mcluster3d-canberra_parcel-128_n-11.html\u001b[0m\n"
      ]
     },
     "metadata": {},
     "output_type": "display_data"
    },
    {
     "data": {
      "text/html": [
       "<pre style=\"white-space:pre;overflow-x:auto;line-height:normal;font-family:Menlo,'DejaVu Sans Mono',consolas,'Courier New',monospace\">Scene saved at \n",
       "<span style=\"color: #800080; text-decoration-color: #800080\">/home/hadi/Dropbox/git/jb-Ca-fMRI/_extras/</span><span style=\"color: #ff00ff; text-decoration-color: #ff00ff\">cluster3d-canberra_parcel-128_n-12.html</span>\n",
       "</pre>\n"
      ],
      "text/plain": [
       "Scene saved at \n",
       "\u001b[35m/home/hadi/Dropbox/git/jb-Ca-fMRI/_extras/\u001b[0m\u001b[95mcluster3d-canberra_parcel-128_n-12.html\u001b[0m\n"
      ]
     },
     "metadata": {},
     "output_type": "display_data"
    },
    {
     "data": {
      "text/html": [
       "<pre style=\"white-space:pre;overflow-x:auto;line-height:normal;font-family:Menlo,'DejaVu Sans Mono',consolas,'Courier New',monospace\">Scene saved at \n",
       "<span style=\"color: #800080; text-decoration-color: #800080\">/home/hadi/Dropbox/git/jb-Ca-fMRI/_extras/</span><span style=\"color: #ff00ff; text-decoration-color: #ff00ff\">cluster3d-canberra_parcel-128_n-13.html</span>\n",
       "</pre>\n"
      ],
      "text/plain": [
       "Scene saved at \n",
       "\u001b[35m/home/hadi/Dropbox/git/jb-Ca-fMRI/_extras/\u001b[0m\u001b[95mcluster3d-canberra_parcel-128_n-13.html\u001b[0m\n"
      ]
     },
     "metadata": {},
     "output_type": "display_data"
    },
    {
     "data": {
      "text/html": [
       "<pre style=\"white-space:pre;overflow-x:auto;line-height:normal;font-family:Menlo,'DejaVu Sans Mono',consolas,'Courier New',monospace\">Scene saved at \n",
       "<span style=\"color: #800080; text-decoration-color: #800080\">/home/hadi/Dropbox/git/jb-Ca-fMRI/_extras/</span><span style=\"color: #ff00ff; text-decoration-color: #ff00ff\">cluster3d-canberra_parcel-128_n-14.html</span>\n",
       "</pre>\n"
      ],
      "text/plain": [
       "Scene saved at \n",
       "\u001b[35m/home/hadi/Dropbox/git/jb-Ca-fMRI/_extras/\u001b[0m\u001b[95mcluster3d-canberra_parcel-128_n-14.html\u001b[0m\n"
      ]
     },
     "metadata": {},
     "output_type": "display_data"
    },
    {
     "data": {
      "text/html": [
       "<pre style=\"white-space:pre;overflow-x:auto;line-height:normal;font-family:Menlo,'DejaVu Sans Mono',consolas,'Courier New',monospace\">Scene saved at \n",
       "<span style=\"color: #800080; text-decoration-color: #800080\">/home/hadi/Dropbox/git/jb-Ca-fMRI/_extras/</span><span style=\"color: #ff00ff; text-decoration-color: #ff00ff\">cluster3d-canberra_parcel-128_n-15.html</span>\n",
       "</pre>\n"
      ],
      "text/plain": [
       "Scene saved at \n",
       "\u001b[35m/home/hadi/Dropbox/git/jb-Ca-fMRI/_extras/\u001b[0m\u001b[95mcluster3d-canberra_parcel-128_n-15.html\u001b[0m\n"
      ]
     },
     "metadata": {},
     "output_type": "display_data"
    }
   ],
   "source": [
    "for n_clusters in range(2, 16): \n",
    "    _ = cluster2html(\n",
    "        cluster=clusters_all[n_clusters],\n",
    "        save_name='canberra',\n",
    "        n_cortex_regions=parcellation['n_cortical_regions'],\n",
    "        save_dir=extras_dir,\n",
    "    )"
   ]
  },
  {
   "cell_type": "code",
   "execution_count": null,
   "id": "c7422f78",
   "metadata": {},
   "outputs": [],
   "source": []
  },
  {
   "cell_type": "code",
   "execution_count": null,
   "id": "d672cff7",
   "metadata": {},
   "outputs": [],
   "source": []
  },
  {
   "cell_type": "code",
   "execution_count": null,
   "id": "d34dc0eb",
   "metadata": {},
   "outputs": [],
   "source": []
  },
  {
   "cell_type": "markdown",
   "id": "0399ec47",
   "metadata": {},
   "source": [
    "## Session 1 only"
   ]
  },
  {
   "cell_type": "code",
   "execution_count": 40,
   "id": "073d92df",
   "metadata": {},
   "outputs": [
    {
     "data": {
      "text/html": [
       "<pre style=\"white-space:pre;overflow-x:auto;line-height:normal;font-family:Menlo,'DejaVu Sans Mono',consolas,'Courier New',monospace\"><span style=\"font-weight: bold\">((</span><span style=\"color: #008080; text-decoration-color: #008080; font-weight: bold\">19800</span>, <span style=\"color: #008080; text-decoration-color: #008080; font-weight: bold\">138</span><span style=\"font-weight: bold\">)</span>, <span style=\"color: #008080; text-decoration-color: #008080; font-weight: bold\">138</span>, <span style=\"color: #008080; text-decoration-color: #008080; font-weight: bold\">204</span>, <span style=\"color: #008080; text-decoration-color: #008080; font-weight: bold\">36</span><span style=\"font-weight: bold\">)</span>\n",
       "</pre>\n"
      ],
      "text/plain": [
       "\u001b[1m(\u001b[0m\u001b[1m(\u001b[0m\u001b[1;36m19800\u001b[0m, \u001b[1;36m138\u001b[0m\u001b[1m)\u001b[0m, \u001b[1;36m138\u001b[0m, \u001b[1;36m204\u001b[0m, \u001b[1;36m36\u001b[0m\u001b[1m)\u001b[0m\n"
      ]
     },
     "metadata": {},
     "output_type": "display_data"
    }
   ],
   "source": [
    "for ses in mice.cfg.ses_ids:\n",
    "    if ses != 1:\n",
    "        continue\n",
    "    \n",
    "    selected_experiments = {\n",
    "        k: v for k, v in mice.bold_df_piv.items()\n",
    "        if mice.bold[k].task == 'rest' and mice.looper[k][1] == ses\n",
    "    }\n",
    "    df_combined = pd.concat(list(selected_experiments.values()))\n",
    "    node_labels = df_combined.columns.values.tolist()\n",
    "    node_labels = {i: lbl for i, lbl in enumerate(node_labels)}\n",
    "\n",
    "df_combined.shape, len(node_labels), len(mice.bold_df_piv), len(selected_experiments)"
   ]
  },
  {
   "cell_type": "code",
   "execution_count": 41,
   "id": "fb15f3d8",
   "metadata": {},
   "outputs": [
    {
     "data": {
      "text/html": [
       "<pre style=\"white-space:pre;overflow-x:auto;line-height:normal;font-family:Menlo,'DejaVu Sans Mono',consolas,'Courier New',monospace\"><span style=\"font-weight: bold\">[</span>\n",
       "    <span style=\"color: #008000; text-decoration-color: #008000\">'sub-SLC01_ses-1_run-1'</span>,\n",
       "    <span style=\"color: #008000; text-decoration-color: #008000\">'sub-SLC01_ses-1_run-3'</span>,\n",
       "    <span style=\"color: #008000; text-decoration-color: #008000\">'sub-SLC01_ses-1_run-5'</span>,\n",
       "    <span style=\"color: #008000; text-decoration-color: #008000\">'sub-SLC01_ses-1_run-7'</span>,\n",
       "    <span style=\"color: #008000; text-decoration-color: #008000\">'sub-SLC02_ses-1_run-1'</span>,\n",
       "    <span style=\"color: #008000; text-decoration-color: #008000\">'sub-SLC02_ses-1_run-3'</span>,\n",
       "    <span style=\"color: #008000; text-decoration-color: #008000\">'sub-SLC02_ses-1_run-5'</span>,\n",
       "    <span style=\"color: #008000; text-decoration-color: #008000\">'sub-SLC02_ses-1_run-7'</span>,\n",
       "    <span style=\"color: #008000; text-decoration-color: #008000\">'sub-SLC03_ses-1_run-2'</span>,\n",
       "    <span style=\"color: #008000; text-decoration-color: #008000\">'sub-SLC03_ses-1_run-4'</span>,\n",
       "    <span style=\"color: #008000; text-decoration-color: #008000\">'sub-SLC03_ses-1_run-6'</span>,\n",
       "    <span style=\"color: #008000; text-decoration-color: #008000\">'sub-SLC04_ses-1_run-1'</span>,\n",
       "    <span style=\"color: #008000; text-decoration-color: #008000\">'sub-SLC04_ses-1_run-3'</span>,\n",
       "    <span style=\"color: #008000; text-decoration-color: #008000\">'sub-SLC04_ses-1_run-5'</span>,\n",
       "    <span style=\"color: #008000; text-decoration-color: #008000\">'sub-SLC04_ses-1_run-7'</span>,\n",
       "    <span style=\"color: #008000; text-decoration-color: #008000\">'sub-SLC05_ses-1_run-1'</span>,\n",
       "    <span style=\"color: #008000; text-decoration-color: #008000\">'sub-SLC05_ses-1_run-3'</span>,\n",
       "    <span style=\"color: #008000; text-decoration-color: #008000\">'sub-SLC05_ses-1_run-7'</span>,\n",
       "    <span style=\"color: #008000; text-decoration-color: #008000\">'sub-SLC06_ses-1_run-1'</span>,\n",
       "    <span style=\"color: #008000; text-decoration-color: #008000\">'sub-SLC06_ses-1_run-3'</span>,\n",
       "    <span style=\"color: #008000; text-decoration-color: #008000\">'sub-SLC06_ses-1_run-5'</span>,\n",
       "    <span style=\"color: #008000; text-decoration-color: #008000\">'sub-SLC06_ses-1_run-7'</span>,\n",
       "    <span style=\"color: #008000; text-decoration-color: #008000\">'sub-SLC07_ses-1_run-1'</span>,\n",
       "    <span style=\"color: #008000; text-decoration-color: #008000\">'sub-SLC07_ses-1_run-3'</span>,\n",
       "    <span style=\"color: #008000; text-decoration-color: #008000\">'sub-SLC07_ses-1_run-5'</span>,\n",
       "    <span style=\"color: #008000; text-decoration-color: #008000\">'sub-SLC07_ses-1_run-7'</span>,\n",
       "    <span style=\"color: #008000; text-decoration-color: #008000\">'sub-SLC08_ses-1_run-3'</span>,\n",
       "    <span style=\"color: #008000; text-decoration-color: #008000\">'sub-SLC08_ses-1_run-5'</span>,\n",
       "    <span style=\"color: #008000; text-decoration-color: #008000\">'sub-SLC09_ses-1_run-1'</span>,\n",
       "    <span style=\"color: #008000; text-decoration-color: #008000\">'sub-SLC09_ses-1_run-3'</span>,\n",
       "    <span style=\"color: #008000; text-decoration-color: #008000\">'sub-SLC09_ses-1_run-5'</span>,\n",
       "    <span style=\"color: #008000; text-decoration-color: #008000\">'sub-SLC09_ses-1_run-7'</span>,\n",
       "    <span style=\"color: #008000; text-decoration-color: #008000\">'sub-SLC10_ses-1_run-1'</span>,\n",
       "    <span style=\"color: #008000; text-decoration-color: #008000\">'sub-SLC10_ses-1_run-3'</span>,\n",
       "    <span style=\"color: #008000; text-decoration-color: #008000\">'sub-SLC10_ses-1_run-5'</span>,\n",
       "    <span style=\"color: #008000; text-decoration-color: #008000\">'sub-SLC10_ses-1_run-7'</span>\n",
       "<span style=\"font-weight: bold\">]</span>\n",
       "</pre>\n"
      ],
      "text/plain": [
       "\u001b[1m[\u001b[0m\n",
       "    \u001b[32m'sub-SLC01_ses-1_run-1'\u001b[0m,\n",
       "    \u001b[32m'sub-SLC01_ses-1_run-3'\u001b[0m,\n",
       "    \u001b[32m'sub-SLC01_ses-1_run-5'\u001b[0m,\n",
       "    \u001b[32m'sub-SLC01_ses-1_run-7'\u001b[0m,\n",
       "    \u001b[32m'sub-SLC02_ses-1_run-1'\u001b[0m,\n",
       "    \u001b[32m'sub-SLC02_ses-1_run-3'\u001b[0m,\n",
       "    \u001b[32m'sub-SLC02_ses-1_run-5'\u001b[0m,\n",
       "    \u001b[32m'sub-SLC02_ses-1_run-7'\u001b[0m,\n",
       "    \u001b[32m'sub-SLC03_ses-1_run-2'\u001b[0m,\n",
       "    \u001b[32m'sub-SLC03_ses-1_run-4'\u001b[0m,\n",
       "    \u001b[32m'sub-SLC03_ses-1_run-6'\u001b[0m,\n",
       "    \u001b[32m'sub-SLC04_ses-1_run-1'\u001b[0m,\n",
       "    \u001b[32m'sub-SLC04_ses-1_run-3'\u001b[0m,\n",
       "    \u001b[32m'sub-SLC04_ses-1_run-5'\u001b[0m,\n",
       "    \u001b[32m'sub-SLC04_ses-1_run-7'\u001b[0m,\n",
       "    \u001b[32m'sub-SLC05_ses-1_run-1'\u001b[0m,\n",
       "    \u001b[32m'sub-SLC05_ses-1_run-3'\u001b[0m,\n",
       "    \u001b[32m'sub-SLC05_ses-1_run-7'\u001b[0m,\n",
       "    \u001b[32m'sub-SLC06_ses-1_run-1'\u001b[0m,\n",
       "    \u001b[32m'sub-SLC06_ses-1_run-3'\u001b[0m,\n",
       "    \u001b[32m'sub-SLC06_ses-1_run-5'\u001b[0m,\n",
       "    \u001b[32m'sub-SLC06_ses-1_run-7'\u001b[0m,\n",
       "    \u001b[32m'sub-SLC07_ses-1_run-1'\u001b[0m,\n",
       "    \u001b[32m'sub-SLC07_ses-1_run-3'\u001b[0m,\n",
       "    \u001b[32m'sub-SLC07_ses-1_run-5'\u001b[0m,\n",
       "    \u001b[32m'sub-SLC07_ses-1_run-7'\u001b[0m,\n",
       "    \u001b[32m'sub-SLC08_ses-1_run-3'\u001b[0m,\n",
       "    \u001b[32m'sub-SLC08_ses-1_run-5'\u001b[0m,\n",
       "    \u001b[32m'sub-SLC09_ses-1_run-1'\u001b[0m,\n",
       "    \u001b[32m'sub-SLC09_ses-1_run-3'\u001b[0m,\n",
       "    \u001b[32m'sub-SLC09_ses-1_run-5'\u001b[0m,\n",
       "    \u001b[32m'sub-SLC09_ses-1_run-7'\u001b[0m,\n",
       "    \u001b[32m'sub-SLC10_ses-1_run-1'\u001b[0m,\n",
       "    \u001b[32m'sub-SLC10_ses-1_run-3'\u001b[0m,\n",
       "    \u001b[32m'sub-SLC10_ses-1_run-5'\u001b[0m,\n",
       "    \u001b[32m'sub-SLC10_ses-1_run-7'\u001b[0m\n",
       "\u001b[1m]\u001b[0m\n"
      ]
     },
     "metadata": {},
     "output_type": "display_data"
    }
   ],
   "source": [
    "list(selected_experiments.keys())"
   ]
  },
  {
   "cell_type": "code",
   "execution_count": null,
   "id": "976c6b1f",
   "metadata": {},
   "outputs": [],
   "source": []
  },
  {
   "cell_type": "markdown",
   "id": "4c4e9dfb",
   "metadata": {},
   "source": [
    "### Hierarchical clustering"
   ]
  },
  {
   "cell_type": "code",
   "execution_count": 44,
   "id": "c2a8a625",
   "metadata": {},
   "outputs": [],
   "source": [
    "hier_results = hierarchical_cluster(\n",
    "    df=df_combined,\n",
    "    method='ward',\n",
    "    dist_metric='canberra',\n",
    "    link_metric='canberra',\n",
    ")\n",
    "labels = translate_labels(hier_results['labels'], allen['mcc'])"
   ]
  },
  {
   "cell_type": "code",
   "execution_count": 45,
   "id": "17d6e834",
   "metadata": {},
   "outputs": [
    {
     "data": {
      "image/png": "[encoded data removed]"
     },
     "metadata": {},
     "output_type": "display_data"
    }
   ],
   "source": [
    "hier_output = get_clust_graph(\n",
    "    linkage_mat=hier_results['z'],\n",
    "    labels=labels,\n",
    "    num_clusters=0,\n",
    "    leaf_font_size=3,\n",
    "    orientation='top',\n",
    "    figsize=(13.5, 4),\n",
    ")\n",
    "display(hier_output['fig'])"
   ]
  },
  {
   "cell_type": "code",
   "execution_count": null,
   "id": "422e563b",
   "metadata": {},
   "outputs": [],
   "source": []
  },
  {
   "cell_type": "code",
   "execution_count": 46,
   "id": "488ad1c9",
   "metadata": {},
   "outputs": [
    {
     "data": {
      "text/html": [
       "<svg  width=\"1100\" height=\"55\"><rect x=\"0\" y=\"0\" width=\"55\" height=\"55\" style=\"fill:#3182bd;stroke-width:2;stroke:rgb(255,255,255)\"/><rect x=\"55\" y=\"0\" width=\"55\" height=\"55\" style=\"fill:#6baed6;stroke-width:2;stroke:rgb(255,255,255)\"/><rect x=\"110\" y=\"0\" width=\"55\" height=\"55\" style=\"fill:#9ecae1;stroke-width:2;stroke:rgb(255,255,255)\"/><rect x=\"165\" y=\"0\" width=\"55\" height=\"55\" style=\"fill:#c6dbef;stroke-width:2;stroke:rgb(255,255,255)\"/><rect x=\"220\" y=\"0\" width=\"55\" height=\"55\" style=\"fill:#e6550d;stroke-width:2;stroke:rgb(255,255,255)\"/><rect x=\"275\" y=\"0\" width=\"55\" height=\"55\" style=\"fill:#fd8d3c;stroke-width:2;stroke:rgb(255,255,255)\"/><rect x=\"330\" y=\"0\" width=\"55\" height=\"55\" style=\"fill:#fdae6b;stroke-width:2;stroke:rgb(255,255,255)\"/><rect x=\"385\" y=\"0\" width=\"55\" height=\"55\" style=\"fill:#fdd0a2;stroke-width:2;stroke:rgb(255,255,255)\"/><rect x=\"440\" y=\"0\" width=\"55\" height=\"55\" style=\"fill:#31a354;stroke-width:2;stroke:rgb(255,255,255)\"/><rect x=\"495\" y=\"0\" width=\"55\" height=\"55\" style=\"fill:#74c476;stroke-width:2;stroke:rgb(255,255,255)\"/><rect x=\"550\" y=\"0\" width=\"55\" height=\"55\" style=\"fill:#a1d99b;stroke-width:2;stroke:rgb(255,255,255)\"/><rect x=\"605\" y=\"0\" width=\"55\" height=\"55\" style=\"fill:#c7e9c0;stroke-width:2;stroke:rgb(255,255,255)\"/><rect x=\"660\" y=\"0\" width=\"55\" height=\"55\" style=\"fill:#756bb1;stroke-width:2;stroke:rgb(255,255,255)\"/><rect x=\"715\" y=\"0\" width=\"55\" height=\"55\" style=\"fill:#9e9ac8;stroke-width:2;stroke:rgb(255,255,255)\"/><rect x=\"770\" y=\"0\" width=\"55\" height=\"55\" style=\"fill:#bcbddc;stroke-width:2;stroke:rgb(255,255,255)\"/><rect x=\"825\" y=\"0\" width=\"55\" height=\"55\" style=\"fill:#dadaeb;stroke-width:2;stroke:rgb(255,255,255)\"/><rect x=\"880\" y=\"0\" width=\"55\" height=\"55\" style=\"fill:#636363;stroke-width:2;stroke:rgb(255,255,255)\"/><rect x=\"935\" y=\"0\" width=\"55\" height=\"55\" style=\"fill:#969696;stroke-width:2;stroke:rgb(255,255,255)\"/><rect x=\"990\" y=\"0\" width=\"55\" height=\"55\" style=\"fill:#bdbdbd;stroke-width:2;stroke:rgb(255,255,255)\"/><rect x=\"1045\" y=\"0\" width=\"55\" height=\"55\" style=\"fill:#d9d9d9;stroke-width:2;stroke:rgb(255,255,255)\"/></svg>"
      ]
     },
     "execution_count": 46,
     "metadata": {},
     "output_type": "execute_result"
    }
   ],
   "source": [
    "sns.color_palette('tab20c', n_colors=20)"
   ]
  },
  {
   "cell_type": "code",
   "execution_count": null,
   "id": "c50edaff",
   "metadata": {},
   "outputs": [],
   "source": []
  },
  {
   "cell_type": "markdown",
   "id": "e2e1a6de",
   "metadata": {},
   "source": [
    "### All clusters"
   ]
  },
  {
   "cell_type": "code",
   "execution_count": 53,
   "id": "05c1d9fb",
   "metadata": {},
   "outputs": [],
   "source": [
    "cluster_color_idxs = {\n",
    "    2: [17, 0],\n",
    "    3: [17, 8, 12], \n",
    "    4: [17, 8, 12, 14],\n",
    "    5: [17, 8, 10, 12, 14],\n",
    "    6: [17, 8, 10, 12, 4, 0],\n",
    "    7: [17, 8, 10, 12, 4, 0, 2],\n",
    "    8: [17, 8, 10, 11, 12, 4, 0, 2],\n",
    "    9: [17, 8, 10, 11, 12, 4, 6, 0, 2],\n",
    "    10: [17, 8, 10, 11, 12, 4, 6, 0, 2, 3],\n",
    "    11: [17, 8, 9, 10, 11, 12, 4, 6, 0, 2, 3],\n",
    "    12: [17, 8, 9, 10, 11, 11, 12, 4, 6, 0, 2, 3],\n",
    "    13: [17, 8, 9, 10, 11, 11, 12, 14, 4, 6, 0, 2, 3],\n",
    "    14: [16, 17, 8, 9, 10, 11, 11, 12, 14, 4, 6, 0, 2, 3],\n",
    "    # 15: [16, 17, 8, 9, 10, 11, 12, 14, 4, 5, 6, 7, 0, 2, 3],\n",
    "}\n",
    "struct_colors = {\n",
    "    acro: rgb2hex([\n",
    "        item / 255 for item in\n",
    "        allen['structure_tree'].get_structures_by_acronym([acro])[0]['rgb_triplet']\n",
    "    ]) for acro in major_masks\n",
    "}"
   ]
  },
  {
   "cell_type": "code",
   "execution_count": 54,
   "id": "59cd3e0e",
   "metadata": {
    "scrolled": true
   },
   "outputs": [
    {
     "data": {
      "text/html": [
       "<pre style=\"white-space:pre;overflow-x:auto;line-height:normal;font-family:Menlo,'DejaVu Sans Mono',consolas,'Courier New',monospace\">n_clusters = <span style=\"color: #008080; text-decoration-color: #008080; font-weight: bold\">2</span>\n",
       "</pre>\n"
      ],
      "text/plain": [
       "n_clusters = \u001b[1;36m2\u001b[0m\n"
      ]
     },
     "metadata": {},
     "output_type": "display_data"
    },
    {
     "data": {
      "text/html": [
       "<table style=\"border: 0;\"><tr style=\"border: 0;\"><td style=\"background-color: #1f77b4; border: 0;\"><code style=\"background-color: #1f77b4;\">#1f77b4</code></td><td style=\"border: 0\"><code>['(10)', '(128)']</code></td></tr></table>"
      ]
     },
     "metadata": {},
     "output_type": "display_data"
    },
    {
     "data": {
      "image/png": "[encoded data removed]"
     },
     "metadata": {},
     "output_type": "display_data"
    },
    {
     "data": {
      "text/html": [
       "<svg  width=\"110\" height=\"55\"><rect x=\"0\" y=\"0\" width=\"55\" height=\"55\" style=\"fill:#969696;stroke-width:2;stroke:rgb(255,255,255)\"/><rect x=\"55\" y=\"0\" width=\"55\" height=\"55\" style=\"fill:#3182bd;stroke-width:2;stroke:rgb(255,255,255)\"/></svg>"
      ]
     },
     "metadata": {},
     "output_type": "display_data"
    },
    {
     "data": {
      "text/html": [
       "<pre style=\"white-space:pre;overflow-x:auto;line-height:normal;font-family:Menlo,'DejaVu Sans Mono',consolas,'Courier New',monospace\">\n",
       "\n",
       "\n",
       "</pre>\n"
      ],
      "text/plain": [
       "\n",
       "\n",
       "\n"
      ]
     },
     "metadata": {},
     "output_type": "display_data"
    },
    {
     "data": {
      "text/html": [
       "<pre style=\"white-space:pre;overflow-x:auto;line-height:normal;font-family:Menlo,'DejaVu Sans Mono',consolas,'Courier New',monospace\"><span style=\"font-weight: bold\">[</span>PROGRESS<span style=\"font-weight: bold\">]</span> <span style=\"color: #008000; text-decoration-color: #008000\">'ses1-regions_n-2.html'</span> saved at\n",
       "<span style=\"color: #800080; text-decoration-color: #800080\">/home/hadi/Dropbox/git/jb-Ca-fMRI/</span><span style=\"color: #ff00ff; text-decoration-color: #ff00ff\">_extras</span>\n",
       "</pre>\n"
      ],
      "text/plain": [
       "\u001b[1m[\u001b[0mPROGRESS\u001b[1m]\u001b[0m \u001b[32m'ses1-regions_n-2.html'\u001b[0m saved at\n",
       "\u001b[35m/home/hadi/Dropbox/git/jb-Ca-fMRI/\u001b[0m\u001b[95m_extras\u001b[0m\n"
      ]
     },
     "metadata": {},
     "output_type": "display_data"
    },
    {
     "data": {
      "text/html": [
       "<pre style=\"white-space:pre;overflow-x:auto;line-height:normal;font-family:Menlo,'DejaVu Sans Mono',consolas,'Courier New',monospace\"><span style=\"font-weight: bold\">[</span>PROGRESS<span style=\"font-weight: bold\">]</span> <span style=\"color: #008000; text-decoration-color: #008000\">'ses1-clusters_n-2.html'</span> saved at\n",
       "<span style=\"color: #800080; text-decoration-color: #800080\">/home/hadi/Dropbox/git/jb-Ca-fMRI/</span><span style=\"color: #ff00ff; text-decoration-color: #ff00ff\">_extras</span>\n",
       "</pre>\n"
      ],
      "text/plain": [
       "\u001b[1m[\u001b[0mPROGRESS\u001b[1m]\u001b[0m \u001b[32m'ses1-clusters_n-2.html'\u001b[0m saved at\n",
       "\u001b[35m/home/hadi/Dropbox/git/jb-Ca-fMRI/\u001b[0m\u001b[95m_extras\u001b[0m\n"
      ]
     },
     "metadata": {},
     "output_type": "display_data"
    },
    {
     "data": {
      "text/html": [
       "<pre style=\"white-space:pre;overflow-x:auto;line-height:normal;font-family:Menlo,'DejaVu Sans Mono',consolas,'Courier New',monospace\">n_clusters = <span style=\"color: #008080; text-decoration-color: #008080; font-weight: bold\">3</span>\n",
       "</pre>\n"
      ],
      "text/plain": [
       "n_clusters = \u001b[1;36m3\u001b[0m\n"
      ]
     },
     "metadata": {},
     "output_type": "display_data"
    },
    {
     "data": {
      "text/html": [
       "<table style=\"border: 0;\"><tr style=\"border: 0;\"><td style=\"background-color: #1f77b4; border: 0;\"><code style=\"background-color: #1f77b4;\">#1f77b4</code></td><td style=\"border: 0\"><code>['(10)', '(48)', '(80)']</code></td></tr></table>"
      ]
     },
     "metadata": {},
     "output_type": "display_data"
    },
    {
     "data": {
      "image/png": "[encoded data removed]"
     },
     "metadata": {},
     "output_type": "display_data"
    },
    {
     "data": {
      "text/html": [
       "<svg  width=\"165\" height=\"55\"><rect x=\"0\" y=\"0\" width=\"55\" height=\"55\" style=\"fill:#969696;stroke-width:2;stroke:rgb(255,255,255)\"/><rect x=\"55\" y=\"0\" width=\"55\" height=\"55\" style=\"fill:#31a354;stroke-width:2;stroke:rgb(255,255,255)\"/><rect x=\"110\" y=\"0\" width=\"55\" height=\"55\" style=\"fill:#756bb1;stroke-width:2;stroke:rgb(255,255,255)\"/></svg>"
      ]
     },
     "metadata": {},
     "output_type": "display_data"
    },
    {
     "data": {
      "text/html": [
       "<pre style=\"white-space:pre;overflow-x:auto;line-height:normal;font-family:Menlo,'DejaVu Sans Mono',consolas,'Courier New',monospace\">\n",
       "\n",
       "\n",
       "</pre>\n"
      ],
      "text/plain": [
       "\n",
       "\n",
       "\n"
      ]
     },
     "metadata": {},
     "output_type": "display_data"
    },
    {
     "data": {
      "text/html": [
       "<pre style=\"white-space:pre;overflow-x:auto;line-height:normal;font-family:Menlo,'DejaVu Sans Mono',consolas,'Courier New',monospace\"><span style=\"font-weight: bold\">[</span>PROGRESS<span style=\"font-weight: bold\">]</span> <span style=\"color: #008000; text-decoration-color: #008000\">'ses1-regions_n-3.html'</span> saved at\n",
       "<span style=\"color: #800080; text-decoration-color: #800080\">/home/hadi/Dropbox/git/jb-Ca-fMRI/</span><span style=\"color: #ff00ff; text-decoration-color: #ff00ff\">_extras</span>\n",
       "</pre>\n"
      ],
      "text/plain": [
       "\u001b[1m[\u001b[0mPROGRESS\u001b[1m]\u001b[0m \u001b[32m'ses1-regions_n-3.html'\u001b[0m saved at\n",
       "\u001b[35m/home/hadi/Dropbox/git/jb-Ca-fMRI/\u001b[0m\u001b[95m_extras\u001b[0m\n"
      ]
     },
     "metadata": {},
     "output_type": "display_data"
    },
    {
     "data": {
      "text/html": [
       "<pre style=\"white-space:pre;overflow-x:auto;line-height:normal;font-family:Menlo,'DejaVu Sans Mono',consolas,'Courier New',monospace\"><span style=\"font-weight: bold\">[</span>PROGRESS<span style=\"font-weight: bold\">]</span> <span style=\"color: #008000; text-decoration-color: #008000\">'ses1-clusters_n-3.html'</span> saved at\n",
       "<span style=\"color: #800080; text-decoration-color: #800080\">/home/hadi/Dropbox/git/jb-Ca-fMRI/</span><span style=\"color: #ff00ff; text-decoration-color: #ff00ff\">_extras</span>\n",
       "</pre>\n"
      ],
      "text/plain": [
       "\u001b[1m[\u001b[0mPROGRESS\u001b[1m]\u001b[0m \u001b[32m'ses1-clusters_n-3.html'\u001b[0m saved at\n",
       "\u001b[35m/home/hadi/Dropbox/git/jb-Ca-fMRI/\u001b[0m\u001b[95m_extras\u001b[0m\n"
      ]
     },
     "metadata": {},
     "output_type": "display_data"
    },
    {
     "data": {
      "text/html": [
       "<pre style=\"white-space:pre;overflow-x:auto;line-height:normal;font-family:Menlo,'DejaVu Sans Mono',consolas,'Courier New',monospace\">n_clusters = <span style=\"color: #008080; text-decoration-color: #008080; font-weight: bold\">4</span>\n",
       "</pre>\n"
      ],
      "text/plain": [
       "n_clusters = \u001b[1;36m4\u001b[0m\n"
      ]
     },
     "metadata": {},
     "output_type": "display_data"
    },
    {
     "data": {
      "text/html": [
       "<table style=\"border: 0;\"><tr style=\"border: 0;\"><td style=\"background-color: #1f77b4; border: 0;\"><code style=\"background-color: #1f77b4;\">#1f77b4</code></td><td style=\"border: 0\"><code>['(10)', '(48)', '(22)', '(58)']</code></td></tr></table>"
      ]
     },
     "metadata": {},
     "output_type": "display_data"
    },
    {
     "data": {
      "image/png": "[encoded data removed]"
     },
     "metadata": {},
     "output_type": "display_data"
    },
    {
     "data": {
      "text/html": [
       "<svg  width=\"220\" height=\"55\"><rect x=\"0\" y=\"0\" width=\"55\" height=\"55\" style=\"fill:#969696;stroke-width:2;stroke:rgb(255,255,255)\"/><rect x=\"55\" y=\"0\" width=\"55\" height=\"55\" style=\"fill:#31a354;stroke-width:2;stroke:rgb(255,255,255)\"/><rect x=\"110\" y=\"0\" width=\"55\" height=\"55\" style=\"fill:#756bb1;stroke-width:2;stroke:rgb(255,255,255)\"/><rect x=\"165\" y=\"0\" width=\"55\" height=\"55\" style=\"fill:#bcbddc;stroke-width:2;stroke:rgb(255,255,255)\"/></svg>"
      ]
     },
     "metadata": {},
     "output_type": "display_data"
    },
    {
     "data": {
      "text/html": [
       "<pre style=\"white-space:pre;overflow-x:auto;line-height:normal;font-family:Menlo,'DejaVu Sans Mono',consolas,'Courier New',monospace\">\n",
       "\n",
       "\n",
       "</pre>\n"
      ],
      "text/plain": [
       "\n",
       "\n",
       "\n"
      ]
     },
     "metadata": {},
     "output_type": "display_data"
    },
    {
     "data": {
      "text/html": [
       "<pre style=\"white-space:pre;overflow-x:auto;line-height:normal;font-family:Menlo,'DejaVu Sans Mono',consolas,'Courier New',monospace\"><span style=\"font-weight: bold\">[</span>PROGRESS<span style=\"font-weight: bold\">]</span> <span style=\"color: #008000; text-decoration-color: #008000\">'ses1-regions_n-4.html'</span> saved at\n",
       "<span style=\"color: #800080; text-decoration-color: #800080\">/home/hadi/Dropbox/git/jb-Ca-fMRI/</span><span style=\"color: #ff00ff; text-decoration-color: #ff00ff\">_extras</span>\n",
       "</pre>\n"
      ],
      "text/plain": [
       "\u001b[1m[\u001b[0mPROGRESS\u001b[1m]\u001b[0m \u001b[32m'ses1-regions_n-4.html'\u001b[0m saved at\n",
       "\u001b[35m/home/hadi/Dropbox/git/jb-Ca-fMRI/\u001b[0m\u001b[95m_extras\u001b[0m\n"
      ]
     },
     "metadata": {},
     "output_type": "display_data"
    },
    {
     "data": {
      "text/html": [
       "<pre style=\"white-space:pre;overflow-x:auto;line-height:normal;font-family:Menlo,'DejaVu Sans Mono',consolas,'Courier New',monospace\"><span style=\"font-weight: bold\">[</span>PROGRESS<span style=\"font-weight: bold\">]</span> <span style=\"color: #008000; text-decoration-color: #008000\">'ses1-clusters_n-4.html'</span> saved at\n",
       "<span style=\"color: #800080; text-decoration-color: #800080\">/home/hadi/Dropbox/git/jb-Ca-fMRI/</span><span style=\"color: #ff00ff; text-decoration-color: #ff00ff\">_extras</span>\n",
       "</pre>\n"
      ],
      "text/plain": [
       "\u001b[1m[\u001b[0mPROGRESS\u001b[1m]\u001b[0m \u001b[32m'ses1-clusters_n-4.html'\u001b[0m saved at\n",
       "\u001b[35m/home/hadi/Dropbox/git/jb-Ca-fMRI/\u001b[0m\u001b[95m_extras\u001b[0m\n"
      ]
     },
     "metadata": {},
     "output_type": "display_data"
    },
    {
     "data": {
      "text/html": [
       "<pre style=\"white-space:pre;overflow-x:auto;line-height:normal;font-family:Menlo,'DejaVu Sans Mono',consolas,'Courier New',monospace\">n_clusters = <span style=\"color: #008080; text-decoration-color: #008080; font-weight: bold\">5</span>\n",
       "</pre>\n"
      ],
      "text/plain": [
       "n_clusters = \u001b[1;36m5\u001b[0m\n"
      ]
     },
     "metadata": {},
     "output_type": "display_data"
    },
    {
     "data": {
      "text/html": [
       "<table style=\"border: 0;\"><tr style=\"border: 0;\"><td style=\"background-color: #1f77b4; border: 0;\"><code style=\"background-color: #1f77b4;\">#1f77b4</code></td><td style=\"border: 0\"><code>['(10)', '(22)', '(58)']</code></td></tr><tr style=\"border: 0;\"><td style=\"background-color: #ff7f0e; border: 0;\"><code style=\"background-color: #ff7f0e;\">#ff7f0e</code></td><td style=\"border: 0\"><code>['(15)', '(33)']</code></td></tr></table>"
      ]
     },
     "metadata": {},
     "output_type": "display_data"
    },
    {
     "data": {
      "image/png": "[encoded data removed]"
     },
     "metadata": {},
     "output_type": "display_data"
    },
    {
     "data": {
      "text/html": [
       "<svg  width=\"275\" height=\"55\"><rect x=\"0\" y=\"0\" width=\"55\" height=\"55\" style=\"fill:#969696;stroke-width:2;stroke:rgb(255,255,255)\"/><rect x=\"55\" y=\"0\" width=\"55\" height=\"55\" style=\"fill:#31a354;stroke-width:2;stroke:rgb(255,255,255)\"/><rect x=\"110\" y=\"0\" width=\"55\" height=\"55\" style=\"fill:#a1d99b;stroke-width:2;stroke:rgb(255,255,255)\"/><rect x=\"165\" y=\"0\" width=\"55\" height=\"55\" style=\"fill:#756bb1;stroke-width:2;stroke:rgb(255,255,255)\"/><rect x=\"220\" y=\"0\" width=\"55\" height=\"55\" style=\"fill:#bcbddc;stroke-width:2;stroke:rgb(255,255,255)\"/></svg>"
      ]
     },
     "metadata": {},
     "output_type": "display_data"
    },
    {
     "data": {
      "text/html": [
       "<pre style=\"white-space:pre;overflow-x:auto;line-height:normal;font-family:Menlo,'DejaVu Sans Mono',consolas,'Courier New',monospace\">\n",
       "\n",
       "\n",
       "</pre>\n"
      ],
      "text/plain": [
       "\n",
       "\n",
       "\n"
      ]
     },
     "metadata": {},
     "output_type": "display_data"
    },
    {
     "data": {
      "text/html": [
       "<pre style=\"white-space:pre;overflow-x:auto;line-height:normal;font-family:Menlo,'DejaVu Sans Mono',consolas,'Courier New',monospace\"><span style=\"font-weight: bold\">[</span>PROGRESS<span style=\"font-weight: bold\">]</span> <span style=\"color: #008000; text-decoration-color: #008000\">'ses1-regions_n-5.html'</span> saved at\n",
       "<span style=\"color: #800080; text-decoration-color: #800080\">/home/hadi/Dropbox/git/jb-Ca-fMRI/</span><span style=\"color: #ff00ff; text-decoration-color: #ff00ff\">_extras</span>\n",
       "</pre>\n"
      ],
      "text/plain": [
       "\u001b[1m[\u001b[0mPROGRESS\u001b[1m]\u001b[0m \u001b[32m'ses1-regions_n-5.html'\u001b[0m saved at\n",
       "\u001b[35m/home/hadi/Dropbox/git/jb-Ca-fMRI/\u001b[0m\u001b[95m_extras\u001b[0m\n"
      ]
     },
     "metadata": {},
     "output_type": "display_data"
    },
    {
     "data": {
      "text/html": [
       "<pre style=\"white-space:pre;overflow-x:auto;line-height:normal;font-family:Menlo,'DejaVu Sans Mono',consolas,'Courier New',monospace\"><span style=\"font-weight: bold\">[</span>PROGRESS<span style=\"font-weight: bold\">]</span> <span style=\"color: #008000; text-decoration-color: #008000\">'ses1-clusters_n-5.html'</span> saved at\n",
       "<span style=\"color: #800080; text-decoration-color: #800080\">/home/hadi/Dropbox/git/jb-Ca-fMRI/</span><span style=\"color: #ff00ff; text-decoration-color: #ff00ff\">_extras</span>\n",
       "</pre>\n"
      ],
      "text/plain": [
       "\u001b[1m[\u001b[0mPROGRESS\u001b[1m]\u001b[0m \u001b[32m'ses1-clusters_n-5.html'\u001b[0m saved at\n",
       "\u001b[35m/home/hadi/Dropbox/git/jb-Ca-fMRI/\u001b[0m\u001b[95m_extras\u001b[0m\n"
      ]
     },
     "metadata": {},
     "output_type": "display_data"
    },
    {
     "data": {
      "text/html": [
       "<pre style=\"white-space:pre;overflow-x:auto;line-height:normal;font-family:Menlo,'DejaVu Sans Mono',consolas,'Courier New',monospace\">n_clusters = <span style=\"color: #008080; text-decoration-color: #008080; font-weight: bold\">6</span>\n",
       "</pre>\n"
      ],
      "text/plain": [
       "n_clusters = \u001b[1;36m6\u001b[0m\n"
      ]
     },
     "metadata": {},
     "output_type": "display_data"
    },
    {
     "data": {
      "text/html": [
       "<table style=\"border: 0;\"><tr style=\"border: 0;\"><td style=\"background-color: #1f77b4; border: 0;\"><code style=\"background-color: #1f77b4;\">#1f77b4</code></td><td style=\"border: 0\"><code>['(10)', '(22)']</code></td></tr><tr style=\"border: 0;\"><td style=\"background-color: #ff7f0e; border: 0;\"><code style=\"background-color: #ff7f0e;\">#ff7f0e</code></td><td style=\"border: 0\"><code>['(15)', '(33)']</code></td></tr><tr style=\"border: 0;\"><td style=\"background-color: #2ca02c; border: 0;\"><code style=\"background-color: #2ca02c;\">#2ca02c</code></td><td style=\"border: 0\"><code>['(25)', '(33)']</code></td></tr></table>"
      ]
     },
     "metadata": {},
     "output_type": "display_data"
    },
    {
     "data": {
      "image/png": "[encoded data removed]"
     },
     "metadata": {},
     "output_type": "display_data"
    },
    {
     "data": {
      "text/html": [
       "<svg  width=\"330\" height=\"55\"><rect x=\"0\" y=\"0\" width=\"55\" height=\"55\" style=\"fill:#969696;stroke-width:2;stroke:rgb(255,255,255)\"/><rect x=\"55\" y=\"0\" width=\"55\" height=\"55\" style=\"fill:#31a354;stroke-width:2;stroke:rgb(255,255,255)\"/><rect x=\"110\" y=\"0\" width=\"55\" height=\"55\" style=\"fill:#a1d99b;stroke-width:2;stroke:rgb(255,255,255)\"/><rect x=\"165\" y=\"0\" width=\"55\" height=\"55\" style=\"fill:#756bb1;stroke-width:2;stroke:rgb(255,255,255)\"/><rect x=\"220\" y=\"0\" width=\"55\" height=\"55\" style=\"fill:#e6550d;stroke-width:2;stroke:rgb(255,255,255)\"/><rect x=\"275\" y=\"0\" width=\"55\" height=\"55\" style=\"fill:#3182bd;stroke-width:2;stroke:rgb(255,255,255)\"/></svg>"
      ]
     },
     "metadata": {},
     "output_type": "display_data"
    },
    {
     "data": {
      "text/html": [
       "<pre style=\"white-space:pre;overflow-x:auto;line-height:normal;font-family:Menlo,'DejaVu Sans Mono',consolas,'Courier New',monospace\">\n",
       "\n",
       "\n",
       "</pre>\n"
      ],
      "text/plain": [
       "\n",
       "\n",
       "\n"
      ]
     },
     "metadata": {},
     "output_type": "display_data"
    },
    {
     "data": {
      "text/html": [
       "<pre style=\"white-space:pre;overflow-x:auto;line-height:normal;font-family:Menlo,'DejaVu Sans Mono',consolas,'Courier New',monospace\"><span style=\"font-weight: bold\">[</span>PROGRESS<span style=\"font-weight: bold\">]</span> <span style=\"color: #008000; text-decoration-color: #008000\">'ses1-regions_n-6.html'</span> saved at\n",
       "<span style=\"color: #800080; text-decoration-color: #800080\">/home/hadi/Dropbox/git/jb-Ca-fMRI/</span><span style=\"color: #ff00ff; text-decoration-color: #ff00ff\">_extras</span>\n",
       "</pre>\n"
      ],
      "text/plain": [
       "\u001b[1m[\u001b[0mPROGRESS\u001b[1m]\u001b[0m \u001b[32m'ses1-regions_n-6.html'\u001b[0m saved at\n",
       "\u001b[35m/home/hadi/Dropbox/git/jb-Ca-fMRI/\u001b[0m\u001b[95m_extras\u001b[0m\n"
      ]
     },
     "metadata": {},
     "output_type": "display_data"
    },
    {
     "data": {
      "text/html": [
       "<pre style=\"white-space:pre;overflow-x:auto;line-height:normal;font-family:Menlo,'DejaVu Sans Mono',consolas,'Courier New',monospace\"><span style=\"font-weight: bold\">[</span>PROGRESS<span style=\"font-weight: bold\">]</span> <span style=\"color: #008000; text-decoration-color: #008000\">'ses1-clusters_n-6.html'</span> saved at\n",
       "<span style=\"color: #800080; text-decoration-color: #800080\">/home/hadi/Dropbox/git/jb-Ca-fMRI/</span><span style=\"color: #ff00ff; text-decoration-color: #ff00ff\">_extras</span>\n",
       "</pre>\n"
      ],
      "text/plain": [
       "\u001b[1m[\u001b[0mPROGRESS\u001b[1m]\u001b[0m \u001b[32m'ses1-clusters_n-6.html'\u001b[0m saved at\n",
       "\u001b[35m/home/hadi/Dropbox/git/jb-Ca-fMRI/\u001b[0m\u001b[95m_extras\u001b[0m\n"
      ]
     },
     "metadata": {},
     "output_type": "display_data"
    },
    {
     "data": {
      "text/html": [
       "<pre style=\"white-space:pre;overflow-x:auto;line-height:normal;font-family:Menlo,'DejaVu Sans Mono',consolas,'Courier New',monospace\">n_clusters = <span style=\"color: #008080; text-decoration-color: #008080; font-weight: bold\">7</span>\n",
       "</pre>\n"
      ],
      "text/plain": [
       "n_clusters = \u001b[1;36m7\u001b[0m\n"
      ]
     },
     "metadata": {},
     "output_type": "display_data"
    },
    {
     "data": {
      "text/html": [
       "<table style=\"border: 0;\"><tr style=\"border: 0;\"><td style=\"background-color: #1f77b4; border: 0;\"><code style=\"background-color: #1f77b4;\">#1f77b4</code></td><td style=\"border: 0\"><code>['(10)', '(22)']</code></td></tr><tr style=\"border: 0;\"><td style=\"background-color: #ff7f0e; border: 0;\"><code style=\"background-color: #ff7f0e;\">#ff7f0e</code></td><td style=\"border: 0\"><code>['(15)', '(33)']</code></td></tr><tr style=\"border: 0;\"><td style=\"background-color: #2ca02c; border: 0;\"><code style=\"background-color: #2ca02c;\">#2ca02c</code></td><td style=\"border: 0\"><code>['(25)', '(15)', '(18)']</code></td></tr></table>"
      ]
     },
     "metadata": {},
     "output_type": "display_data"
    },
    {
     "data": {
      "image/png": "[encoded data removed]"
     },
     "metadata": {},
     "output_type": "display_data"
    },
    {
     "data": {
      "text/html": [
       "<svg  width=\"385\" height=\"55\"><rect x=\"0\" y=\"0\" width=\"55\" height=\"55\" style=\"fill:#969696;stroke-width:2;stroke:rgb(255,255,255)\"/><rect x=\"55\" y=\"0\" width=\"55\" height=\"55\" style=\"fill:#31a354;stroke-width:2;stroke:rgb(255,255,255)\"/><rect x=\"110\" y=\"0\" width=\"55\" height=\"55\" style=\"fill:#a1d99b;stroke-width:2;stroke:rgb(255,255,255)\"/><rect x=\"165\" y=\"0\" width=\"55\" height=\"55\" style=\"fill:#756bb1;stroke-width:2;stroke:rgb(255,255,255)\"/><rect x=\"220\" y=\"0\" width=\"55\" height=\"55\" style=\"fill:#e6550d;stroke-width:2;stroke:rgb(255,255,255)\"/><rect x=\"275\" y=\"0\" width=\"55\" height=\"55\" style=\"fill:#3182bd;stroke-width:2;stroke:rgb(255,255,255)\"/><rect x=\"330\" y=\"0\" width=\"55\" height=\"55\" style=\"fill:#9ecae1;stroke-width:2;stroke:rgb(255,255,255)\"/></svg>"
      ]
     },
     "metadata": {},
     "output_type": "display_data"
    },
    {
     "data": {
      "text/html": [
       "<pre style=\"white-space:pre;overflow-x:auto;line-height:normal;font-family:Menlo,'DejaVu Sans Mono',consolas,'Courier New',monospace\">\n",
       "\n",
       "\n",
       "</pre>\n"
      ],
      "text/plain": [
       "\n",
       "\n",
       "\n"
      ]
     },
     "metadata": {},
     "output_type": "display_data"
    },
    {
     "data": {
      "text/html": [
       "<pre style=\"white-space:pre;overflow-x:auto;line-height:normal;font-family:Menlo,'DejaVu Sans Mono',consolas,'Courier New',monospace\"><span style=\"font-weight: bold\">[</span>PROGRESS<span style=\"font-weight: bold\">]</span> <span style=\"color: #008000; text-decoration-color: #008000\">'ses1-regions_n-7.html'</span> saved at\n",
       "<span style=\"color: #800080; text-decoration-color: #800080\">/home/hadi/Dropbox/git/jb-Ca-fMRI/</span><span style=\"color: #ff00ff; text-decoration-color: #ff00ff\">_extras</span>\n",
       "</pre>\n"
      ],
      "text/plain": [
       "\u001b[1m[\u001b[0mPROGRESS\u001b[1m]\u001b[0m \u001b[32m'ses1-regions_n-7.html'\u001b[0m saved at\n",
       "\u001b[35m/home/hadi/Dropbox/git/jb-Ca-fMRI/\u001b[0m\u001b[95m_extras\u001b[0m\n"
      ]
     },
     "metadata": {},
     "output_type": "display_data"
    },
    {
     "data": {
      "text/html": [
       "<pre style=\"white-space:pre;overflow-x:auto;line-height:normal;font-family:Menlo,'DejaVu Sans Mono',consolas,'Courier New',monospace\"><span style=\"font-weight: bold\">[</span>PROGRESS<span style=\"font-weight: bold\">]</span> <span style=\"color: #008000; text-decoration-color: #008000\">'ses1-clusters_n-7.html'</span> saved at\n",
       "<span style=\"color: #800080; text-decoration-color: #800080\">/home/hadi/Dropbox/git/jb-Ca-fMRI/</span><span style=\"color: #ff00ff; text-decoration-color: #ff00ff\">_extras</span>\n",
       "</pre>\n"
      ],
      "text/plain": [
       "\u001b[1m[\u001b[0mPROGRESS\u001b[1m]\u001b[0m \u001b[32m'ses1-clusters_n-7.html'\u001b[0m saved at\n",
       "\u001b[35m/home/hadi/Dropbox/git/jb-Ca-fMRI/\u001b[0m\u001b[95m_extras\u001b[0m\n"
      ]
     },
     "metadata": {},
     "output_type": "display_data"
    },
    {
     "data": {
      "text/html": [
       "<pre style=\"white-space:pre;overflow-x:auto;line-height:normal;font-family:Menlo,'DejaVu Sans Mono',consolas,'Courier New',monospace\">n_clusters = <span style=\"color: #008080; text-decoration-color: #008080; font-weight: bold\">8</span>\n",
       "</pre>\n"
      ],
      "text/plain": [
       "n_clusters = \u001b[1;36m8\u001b[0m\n"
      ]
     },
     "metadata": {},
     "output_type": "display_data"
    },
    {
     "data": {
      "text/html": [
       "<table style=\"border: 0;\"><tr style=\"border: 0;\"><td style=\"background-color: #1f77b4; border: 0;\"><code style=\"background-color: #1f77b4;\">#1f77b4</code></td><td style=\"border: 0\"><code>['(10)', '(22)']</code></td></tr><tr style=\"border: 0;\"><td style=\"background-color: #ff7f0e; border: 0;\"><code style=\"background-color: #ff7f0e;\">#ff7f0e</code></td><td style=\"border: 0\"><code>['(15)', '(14)', '(19)']</code></td></tr><tr style=\"border: 0;\"><td style=\"background-color: #2ca02c; border: 0;\"><code style=\"background-color: #2ca02c;\">#2ca02c</code></td><td style=\"border: 0\"><code>['(25)', '(15)', '(18)']</code></td></tr></table>"
      ]
     },
     "metadata": {},
     "output_type": "display_data"
    },
    {
     "data": {
      "image/png": "[encoded data removed]"
     },
     "metadata": {},
     "output_type": "display_data"
    },
    {
     "data": {
      "text/html": [
       "<svg  width=\"440\" height=\"55\"><rect x=\"0\" y=\"0\" width=\"55\" height=\"55\" style=\"fill:#969696;stroke-width:2;stroke:rgb(255,255,255)\"/><rect x=\"55\" y=\"0\" width=\"55\" height=\"55\" style=\"fill:#31a354;stroke-width:2;stroke:rgb(255,255,255)\"/><rect x=\"110\" y=\"0\" width=\"55\" height=\"55\" style=\"fill:#a1d99b;stroke-width:2;stroke:rgb(255,255,255)\"/><rect x=\"165\" y=\"0\" width=\"55\" height=\"55\" style=\"fill:#c7e9c0;stroke-width:2;stroke:rgb(255,255,255)\"/><rect x=\"220\" y=\"0\" width=\"55\" height=\"55\" style=\"fill:#756bb1;stroke-width:2;stroke:rgb(255,255,255)\"/><rect x=\"275\" y=\"0\" width=\"55\" height=\"55\" style=\"fill:#e6550d;stroke-width:2;stroke:rgb(255,255,255)\"/><rect x=\"330\" y=\"0\" width=\"55\" height=\"55\" style=\"fill:#3182bd;stroke-width:2;stroke:rgb(255,255,255)\"/><rect x=\"385\" y=\"0\" width=\"55\" height=\"55\" style=\"fill:#9ecae1;stroke-width:2;stroke:rgb(255,255,255)\"/></svg>"
      ]
     },
     "metadata": {},
     "output_type": "display_data"
    },
    {
     "data": {
      "text/html": [
       "<pre style=\"white-space:pre;overflow-x:auto;line-height:normal;font-family:Menlo,'DejaVu Sans Mono',consolas,'Courier New',monospace\">\n",
       "\n",
       "\n",
       "</pre>\n"
      ],
      "text/plain": [
       "\n",
       "\n",
       "\n"
      ]
     },
     "metadata": {},
     "output_type": "display_data"
    },
    {
     "data": {
      "text/html": [
       "<pre style=\"white-space:pre;overflow-x:auto;line-height:normal;font-family:Menlo,'DejaVu Sans Mono',consolas,'Courier New',monospace\"><span style=\"font-weight: bold\">[</span>PROGRESS<span style=\"font-weight: bold\">]</span> <span style=\"color: #008000; text-decoration-color: #008000\">'ses1-regions_n-8.html'</span> saved at\n",
       "<span style=\"color: #800080; text-decoration-color: #800080\">/home/hadi/Dropbox/git/jb-Ca-fMRI/</span><span style=\"color: #ff00ff; text-decoration-color: #ff00ff\">_extras</span>\n",
       "</pre>\n"
      ],
      "text/plain": [
       "\u001b[1m[\u001b[0mPROGRESS\u001b[1m]\u001b[0m \u001b[32m'ses1-regions_n-8.html'\u001b[0m saved at\n",
       "\u001b[35m/home/hadi/Dropbox/git/jb-Ca-fMRI/\u001b[0m\u001b[95m_extras\u001b[0m\n"
      ]
     },
     "metadata": {},
     "output_type": "display_data"
    },
    {
     "data": {
      "text/html": [
       "<pre style=\"white-space:pre;overflow-x:auto;line-height:normal;font-family:Menlo,'DejaVu Sans Mono',consolas,'Courier New',monospace\"><span style=\"font-weight: bold\">[</span>PROGRESS<span style=\"font-weight: bold\">]</span> <span style=\"color: #008000; text-decoration-color: #008000\">'ses1-clusters_n-8.html'</span> saved at\n",
       "<span style=\"color: #800080; text-decoration-color: #800080\">/home/hadi/Dropbox/git/jb-Ca-fMRI/</span><span style=\"color: #ff00ff; text-decoration-color: #ff00ff\">_extras</span>\n",
       "</pre>\n"
      ],
      "text/plain": [
       "\u001b[1m[\u001b[0mPROGRESS\u001b[1m]\u001b[0m \u001b[32m'ses1-clusters_n-8.html'\u001b[0m saved at\n",
       "\u001b[35m/home/hadi/Dropbox/git/jb-Ca-fMRI/\u001b[0m\u001b[95m_extras\u001b[0m\n"
      ]
     },
     "metadata": {},
     "output_type": "display_data"
    },
    {
     "data": {
      "text/html": [
       "<pre style=\"white-space:pre;overflow-x:auto;line-height:normal;font-family:Menlo,'DejaVu Sans Mono',consolas,'Courier New',monospace\">n_clusters = <span style=\"color: #008080; text-decoration-color: #008080; font-weight: bold\">9</span>\n",
       "</pre>\n"
      ],
      "text/plain": [
       "n_clusters = \u001b[1;36m9\u001b[0m\n"
      ]
     },
     "metadata": {},
     "output_type": "display_data"
    },
    {
     "data": {
      "text/html": [
       "<table style=\"border: 0;\"><tr style=\"border: 0;\"><td style=\"background-color: #1f77b4; border: 0;\"><code style=\"background-color: #1f77b4;\">#1f77b4</code></td><td style=\"border: 0\"><code>['(10)', '(22)']</code></td></tr><tr style=\"border: 0;\"><td style=\"background-color: #ff7f0e; border: 0;\"><code style=\"background-color: #ff7f0e;\">#ff7f0e</code></td><td style=\"border: 0\"><code>['(15)', '(14)', '(19)']</code></td></tr><tr style=\"border: 0;\"><td style=\"background-color: #2ca02c; border: 0;\"><code style=\"background-color: #2ca02c;\">#2ca02c</code></td><td style=\"border: 0\"><code>['(18)', '(8)', '(17)', '(15)']</code></td></tr></table>"
      ]
     },
     "metadata": {},
     "output_type": "display_data"
    },
    {
     "data": {
      "image/png": "[encoded data removed]"
     },
     "metadata": {},
     "output_type": "display_data"
    },
    {
     "data": {
      "text/html": [
       "<svg  width=\"495\" height=\"55\"><rect x=\"0\" y=\"0\" width=\"55\" height=\"55\" style=\"fill:#969696;stroke-width:2;stroke:rgb(255,255,255)\"/><rect x=\"55\" y=\"0\" width=\"55\" height=\"55\" style=\"fill:#31a354;stroke-width:2;stroke:rgb(255,255,255)\"/><rect x=\"110\" y=\"0\" width=\"55\" height=\"55\" style=\"fill:#a1d99b;stroke-width:2;stroke:rgb(255,255,255)\"/><rect x=\"165\" y=\"0\" width=\"55\" height=\"55\" style=\"fill:#c7e9c0;stroke-width:2;stroke:rgb(255,255,255)\"/><rect x=\"220\" y=\"0\" width=\"55\" height=\"55\" style=\"fill:#756bb1;stroke-width:2;stroke:rgb(255,255,255)\"/><rect x=\"275\" y=\"0\" width=\"55\" height=\"55\" style=\"fill:#e6550d;stroke-width:2;stroke:rgb(255,255,255)\"/><rect x=\"330\" y=\"0\" width=\"55\" height=\"55\" style=\"fill:#fdae6b;stroke-width:2;stroke:rgb(255,255,255)\"/><rect x=\"385\" y=\"0\" width=\"55\" height=\"55\" style=\"fill:#3182bd;stroke-width:2;stroke:rgb(255,255,255)\"/><rect x=\"440\" y=\"0\" width=\"55\" height=\"55\" style=\"fill:#9ecae1;stroke-width:2;stroke:rgb(255,255,255)\"/></svg>"
      ]
     },
     "metadata": {},
     "output_type": "display_data"
    },
    {
     "data": {
      "text/html": [
       "<pre style=\"white-space:pre;overflow-x:auto;line-height:normal;font-family:Menlo,'DejaVu Sans Mono',consolas,'Courier New',monospace\">\n",
       "\n",
       "\n",
       "</pre>\n"
      ],
      "text/plain": [
       "\n",
       "\n",
       "\n"
      ]
     },
     "metadata": {},
     "output_type": "display_data"
    },
    {
     "data": {
      "text/html": [
       "<pre style=\"white-space:pre;overflow-x:auto;line-height:normal;font-family:Menlo,'DejaVu Sans Mono',consolas,'Courier New',monospace\"><span style=\"font-weight: bold\">[</span>PROGRESS<span style=\"font-weight: bold\">]</span> <span style=\"color: #008000; text-decoration-color: #008000\">'ses1-regions_n-9.html'</span> saved at\n",
       "<span style=\"color: #800080; text-decoration-color: #800080\">/home/hadi/Dropbox/git/jb-Ca-fMRI/</span><span style=\"color: #ff00ff; text-decoration-color: #ff00ff\">_extras</span>\n",
       "</pre>\n"
      ],
      "text/plain": [
       "\u001b[1m[\u001b[0mPROGRESS\u001b[1m]\u001b[0m \u001b[32m'ses1-regions_n-9.html'\u001b[0m saved at\n",
       "\u001b[35m/home/hadi/Dropbox/git/jb-Ca-fMRI/\u001b[0m\u001b[95m_extras\u001b[0m\n"
      ]
     },
     "metadata": {},
     "output_type": "display_data"
    },
    {
     "data": {
      "text/html": [
       "<pre style=\"white-space:pre;overflow-x:auto;line-height:normal;font-family:Menlo,'DejaVu Sans Mono',consolas,'Courier New',monospace\"><span style=\"font-weight: bold\">[</span>PROGRESS<span style=\"font-weight: bold\">]</span> <span style=\"color: #008000; text-decoration-color: #008000\">'ses1-clusters_n-9.html'</span> saved at\n",
       "<span style=\"color: #800080; text-decoration-color: #800080\">/home/hadi/Dropbox/git/jb-Ca-fMRI/</span><span style=\"color: #ff00ff; text-decoration-color: #ff00ff\">_extras</span>\n",
       "</pre>\n"
      ],
      "text/plain": [
       "\u001b[1m[\u001b[0mPROGRESS\u001b[1m]\u001b[0m \u001b[32m'ses1-clusters_n-9.html'\u001b[0m saved at\n",
       "\u001b[35m/home/hadi/Dropbox/git/jb-Ca-fMRI/\u001b[0m\u001b[95m_extras\u001b[0m\n"
      ]
     },
     "metadata": {},
     "output_type": "display_data"
    },
    {
     "data": {
      "text/html": [
       "<pre style=\"white-space:pre;overflow-x:auto;line-height:normal;font-family:Menlo,'DejaVu Sans Mono',consolas,'Courier New',monospace\">n_clusters = <span style=\"color: #008080; text-decoration-color: #008080; font-weight: bold\">10</span>\n",
       "</pre>\n"
      ],
      "text/plain": [
       "n_clusters = \u001b[1;36m10\u001b[0m\n"
      ]
     },
     "metadata": {},
     "output_type": "display_data"
    },
    {
     "data": {
      "text/html": [
       "<table style=\"border: 0;\"><tr style=\"border: 0;\"><td style=\"background-color: #1f77b4; border: 0;\"><code style=\"background-color: #1f77b4;\">#1f77b4</code></td><td style=\"border: 0\"><code>['(10)', '(22)']</code></td></tr><tr style=\"border: 0;\"><td style=\"background-color: #ff7f0e; border: 0;\"><code style=\"background-color: #ff7f0e;\">#ff7f0e</code></td><td style=\"border: 0\"><code>['(15)', '(14)', '(19)']</code></td></tr><tr style=\"border: 0;\"><td style=\"background-color: #2ca02c; border: 0;\"><code style=\"background-color: #2ca02c;\">#2ca02c</code></td><td style=\"border: 0\"><code>['(8)', '(17)', '(7)', '(8)', '(18)']</code></td></tr></table>"
      ]
     },
     "metadata": {},
     "output_type": "display_data"
    },
    {
     "data": {
      "image/png": "[encoded data removed]"
     },
     "metadata": {},
     "output_type": "display_data"
    },
    {
     "data": {
      "text/html": [
       "<svg  width=\"550\" height=\"55\"><rect x=\"0\" y=\"0\" width=\"55\" height=\"55\" style=\"fill:#969696;stroke-width:2;stroke:rgb(255,255,255)\"/><rect x=\"55\" y=\"0\" width=\"55\" height=\"55\" style=\"fill:#31a354;stroke-width:2;stroke:rgb(255,255,255)\"/><rect x=\"110\" y=\"0\" width=\"55\" height=\"55\" style=\"fill:#a1d99b;stroke-width:2;stroke:rgb(255,255,255)\"/><rect x=\"165\" y=\"0\" width=\"55\" height=\"55\" style=\"fill:#c7e9c0;stroke-width:2;stroke:rgb(255,255,255)\"/><rect x=\"220\" y=\"0\" width=\"55\" height=\"55\" style=\"fill:#756bb1;stroke-width:2;stroke:rgb(255,255,255)\"/><rect x=\"275\" y=\"0\" width=\"55\" height=\"55\" style=\"fill:#e6550d;stroke-width:2;stroke:rgb(255,255,255)\"/><rect x=\"330\" y=\"0\" width=\"55\" height=\"55\" style=\"fill:#fdae6b;stroke-width:2;stroke:rgb(255,255,255)\"/><rect x=\"385\" y=\"0\" width=\"55\" height=\"55\" style=\"fill:#3182bd;stroke-width:2;stroke:rgb(255,255,255)\"/><rect x=\"440\" y=\"0\" width=\"55\" height=\"55\" style=\"fill:#9ecae1;stroke-width:2;stroke:rgb(255,255,255)\"/><rect x=\"495\" y=\"0\" width=\"55\" height=\"55\" style=\"fill:#c6dbef;stroke-width:2;stroke:rgb(255,255,255)\"/></svg>"
      ]
     },
     "metadata": {},
     "output_type": "display_data"
    },
    {
     "data": {
      "text/html": [
       "<pre style=\"white-space:pre;overflow-x:auto;line-height:normal;font-family:Menlo,'DejaVu Sans Mono',consolas,'Courier New',monospace\">\n",
       "\n",
       "\n",
       "</pre>\n"
      ],
      "text/plain": [
       "\n",
       "\n",
       "\n"
      ]
     },
     "metadata": {},
     "output_type": "display_data"
    },
    {
     "data": {
      "text/html": [
       "<pre style=\"white-space:pre;overflow-x:auto;line-height:normal;font-family:Menlo,'DejaVu Sans Mono',consolas,'Courier New',monospace\"><span style=\"font-weight: bold\">[</span>PROGRESS<span style=\"font-weight: bold\">]</span> <span style=\"color: #008000; text-decoration-color: #008000\">'ses1-regions_n-10.html'</span> saved at\n",
       "<span style=\"color: #800080; text-decoration-color: #800080\">/home/hadi/Dropbox/git/jb-Ca-fMRI/</span><span style=\"color: #ff00ff; text-decoration-color: #ff00ff\">_extras</span>\n",
       "</pre>\n"
      ],
      "text/plain": [
       "\u001b[1m[\u001b[0mPROGRESS\u001b[1m]\u001b[0m \u001b[32m'ses1-regions_n-10.html'\u001b[0m saved at\n",
       "\u001b[35m/home/hadi/Dropbox/git/jb-Ca-fMRI/\u001b[0m\u001b[95m_extras\u001b[0m\n"
      ]
     },
     "metadata": {},
     "output_type": "display_data"
    },
    {
     "data": {
      "text/html": [
       "<pre style=\"white-space:pre;overflow-x:auto;line-height:normal;font-family:Menlo,'DejaVu Sans Mono',consolas,'Courier New',monospace\"><span style=\"font-weight: bold\">[</span>PROGRESS<span style=\"font-weight: bold\">]</span> <span style=\"color: #008000; text-decoration-color: #008000\">'ses1-clusters_n-10.html'</span> saved at\n",
       "<span style=\"color: #800080; text-decoration-color: #800080\">/home/hadi/Dropbox/git/jb-Ca-fMRI/</span><span style=\"color: #ff00ff; text-decoration-color: #ff00ff\">_extras</span>\n",
       "</pre>\n"
      ],
      "text/plain": [
       "\u001b[1m[\u001b[0mPROGRESS\u001b[1m]\u001b[0m \u001b[32m'ses1-clusters_n-10.html'\u001b[0m saved at\n",
       "\u001b[35m/home/hadi/Dropbox/git/jb-Ca-fMRI/\u001b[0m\u001b[95m_extras\u001b[0m\n"
      ]
     },
     "metadata": {},
     "output_type": "display_data"
    },
    {
     "data": {
      "text/html": [
       "<pre style=\"white-space:pre;overflow-x:auto;line-height:normal;font-family:Menlo,'DejaVu Sans Mono',consolas,'Courier New',monospace\">n_clusters = <span style=\"color: #008080; text-decoration-color: #008080; font-weight: bold\">11</span>\n",
       "</pre>\n"
      ],
      "text/plain": [
       "n_clusters = \u001b[1;36m11\u001b[0m\n"
      ]
     },
     "metadata": {},
     "output_type": "display_data"
    },
    {
     "data": {
      "text/html": [
       "<table style=\"border: 0;\"><tr style=\"border: 0;\"><td style=\"background-color: #1f77b4; border: 0;\"><code style=\"background-color: #1f77b4;\">#1f77b4</code></td><td style=\"border: 0\"><code>['(10)', '(22)']</code></td></tr><tr style=\"border: 0;\"><td style=\"background-color: #ff7f0e; border: 0;\"><code style=\"background-color: #ff7f0e;\">#ff7f0e</code></td><td style=\"border: 0\"><code>['(7)', '(8)', '(14)', '(19)']</code></td></tr><tr style=\"border: 0;\"><td style=\"background-color: #2ca02c; border: 0;\"><code style=\"background-color: #2ca02c;\">#2ca02c</code></td><td style=\"border: 0\"><code>['(8)', '(17)', '(7)', '(8)', '(18)']</code></td></tr></table>"
      ]
     },
     "metadata": {},
     "output_type": "display_data"
    },
    {
     "data": {
      "image/png": "[encoded data removed]"
     },
     "metadata": {},
     "output_type": "display_data"
    },
    {
     "data": {
      "text/html": [
       "<svg  width=\"605\" height=\"55\"><rect x=\"0\" y=\"0\" width=\"55\" height=\"55\" style=\"fill:#969696;stroke-width:2;stroke:rgb(255,255,255)\"/><rect x=\"55\" y=\"0\" width=\"55\" height=\"55\" style=\"fill:#31a354;stroke-width:2;stroke:rgb(255,255,255)\"/><rect x=\"110\" y=\"0\" width=\"55\" height=\"55\" style=\"fill:#74c476;stroke-width:2;stroke:rgb(255,255,255)\"/><rect x=\"165\" y=\"0\" width=\"55\" height=\"55\" style=\"fill:#a1d99b;stroke-width:2;stroke:rgb(255,255,255)\"/><rect x=\"220\" y=\"0\" width=\"55\" height=\"55\" style=\"fill:#c7e9c0;stroke-width:2;stroke:rgb(255,255,255)\"/><rect x=\"275\" y=\"0\" width=\"55\" height=\"55\" style=\"fill:#756bb1;stroke-width:2;stroke:rgb(255,255,255)\"/><rect x=\"330\" y=\"0\" width=\"55\" height=\"55\" style=\"fill:#e6550d;stroke-width:2;stroke:rgb(255,255,255)\"/><rect x=\"385\" y=\"0\" width=\"55\" height=\"55\" style=\"fill:#fdae6b;stroke-width:2;stroke:rgb(255,255,255)\"/><rect x=\"440\" y=\"0\" width=\"55\" height=\"55\" style=\"fill:#3182bd;stroke-width:2;stroke:rgb(255,255,255)\"/><rect x=\"495\" y=\"0\" width=\"55\" height=\"55\" style=\"fill:#9ecae1;stroke-width:2;stroke:rgb(255,255,255)\"/><rect x=\"550\" y=\"0\" width=\"55\" height=\"55\" style=\"fill:#c6dbef;stroke-width:2;stroke:rgb(255,255,255)\"/></svg>"
      ]
     },
     "metadata": {},
     "output_type": "display_data"
    },
    {
     "data": {
      "text/html": [
       "<pre style=\"white-space:pre;overflow-x:auto;line-height:normal;font-family:Menlo,'DejaVu Sans Mono',consolas,'Courier New',monospace\">\n",
       "\n",
       "\n",
       "</pre>\n"
      ],
      "text/plain": [
       "\n",
       "\n",
       "\n"
      ]
     },
     "metadata": {},
     "output_type": "display_data"
    },
    {
     "data": {
      "text/html": [
       "<pre style=\"white-space:pre;overflow-x:auto;line-height:normal;font-family:Menlo,'DejaVu Sans Mono',consolas,'Courier New',monospace\"><span style=\"font-weight: bold\">[</span>PROGRESS<span style=\"font-weight: bold\">]</span> <span style=\"color: #008000; text-decoration-color: #008000\">'ses1-regions_n-11.html'</span> saved at\n",
       "<span style=\"color: #800080; text-decoration-color: #800080\">/home/hadi/Dropbox/git/jb-Ca-fMRI/</span><span style=\"color: #ff00ff; text-decoration-color: #ff00ff\">_extras</span>\n",
       "</pre>\n"
      ],
      "text/plain": [
       "\u001b[1m[\u001b[0mPROGRESS\u001b[1m]\u001b[0m \u001b[32m'ses1-regions_n-11.html'\u001b[0m saved at\n",
       "\u001b[35m/home/hadi/Dropbox/git/jb-Ca-fMRI/\u001b[0m\u001b[95m_extras\u001b[0m\n"
      ]
     },
     "metadata": {},
     "output_type": "display_data"
    },
    {
     "data": {
      "text/html": [
       "<pre style=\"white-space:pre;overflow-x:auto;line-height:normal;font-family:Menlo,'DejaVu Sans Mono',consolas,'Courier New',monospace\"><span style=\"font-weight: bold\">[</span>PROGRESS<span style=\"font-weight: bold\">]</span> <span style=\"color: #008000; text-decoration-color: #008000\">'ses1-clusters_n-11.html'</span> saved at\n",
       "<span style=\"color: #800080; text-decoration-color: #800080\">/home/hadi/Dropbox/git/jb-Ca-fMRI/</span><span style=\"color: #ff00ff; text-decoration-color: #ff00ff\">_extras</span>\n",
       "</pre>\n"
      ],
      "text/plain": [
       "\u001b[1m[\u001b[0mPROGRESS\u001b[1m]\u001b[0m \u001b[32m'ses1-clusters_n-11.html'\u001b[0m saved at\n",
       "\u001b[35m/home/hadi/Dropbox/git/jb-Ca-fMRI/\u001b[0m\u001b[95m_extras\u001b[0m\n"
      ]
     },
     "metadata": {},
     "output_type": "display_data"
    },
    {
     "data": {
      "text/html": [
       "<pre style=\"white-space:pre;overflow-x:auto;line-height:normal;font-family:Menlo,'DejaVu Sans Mono',consolas,'Courier New',monospace\">n_clusters = <span style=\"color: #008080; text-decoration-color: #008080; font-weight: bold\">12</span>\n",
       "</pre>\n"
      ],
      "text/plain": [
       "n_clusters = \u001b[1;36m12\u001b[0m\n"
      ]
     },
     "metadata": {},
     "output_type": "display_data"
    },
    {
     "data": {
      "text/html": [
       "<table style=\"border: 0;\"><tr style=\"border: 0;\"><td style=\"background-color: #1f77b4; border: 0;\"><code style=\"background-color: #1f77b4;\">#1f77b4</code></td><td style=\"border: 0\"><code>['(10)', '(22)']</code></td></tr><tr style=\"border: 0;\"><td style=\"background-color: #ff7f0e; border: 0;\"><code style=\"background-color: #ff7f0e;\">#ff7f0e</code></td><td style=\"border: 0\"><code>['(7)', '(8)', '(14)', '(9)', '(10)']</code></td></tr><tr style=\"border: 0;\"><td style=\"background-color: #2ca02c; border: 0;\"><code style=\"background-color: #2ca02c;\">#2ca02c</code></td><td style=\"border: 0\"><code>['(8)', '(17)', '(7)', '(8)', '(18)']</code></td></tr></table>"
      ]
     },
     "metadata": {},
     "output_type": "display_data"
    },
    {
     "data": {
      "image/png": "[encoded data removed]"
     },
     "metadata": {},
     "output_type": "display_data"
    },
    {
     "data": {
      "text/html": [
       "<svg  width=\"660\" height=\"55\"><rect x=\"0\" y=\"0\" width=\"55\" height=\"55\" style=\"fill:#969696;stroke-width:2;stroke:rgb(255,255,255)\"/><rect x=\"55\" y=\"0\" width=\"55\" height=\"55\" style=\"fill:#31a354;stroke-width:2;stroke:rgb(255,255,255)\"/><rect x=\"110\" y=\"0\" width=\"55\" height=\"55\" style=\"fill:#74c476;stroke-width:2;stroke:rgb(255,255,255)\"/><rect x=\"165\" y=\"0\" width=\"55\" height=\"55\" style=\"fill:#a1d99b;stroke-width:2;stroke:rgb(255,255,255)\"/><rect x=\"220\" y=\"0\" width=\"55\" height=\"55\" style=\"fill:#c7e9c0;stroke-width:2;stroke:rgb(255,255,255)\"/><rect x=\"275\" y=\"0\" width=\"55\" height=\"55\" style=\"fill:#c7e9c0;stroke-width:2;stroke:rgb(255,255,255)\"/><rect x=\"330\" y=\"0\" width=\"55\" height=\"55\" style=\"fill:#756bb1;stroke-width:2;stroke:rgb(255,255,255)\"/><rect x=\"385\" y=\"0\" width=\"55\" height=\"55\" style=\"fill:#e6550d;stroke-width:2;stroke:rgb(255,255,255)\"/><rect x=\"440\" y=\"0\" width=\"55\" height=\"55\" style=\"fill:#fdae6b;stroke-width:2;stroke:rgb(255,255,255)\"/><rect x=\"495\" y=\"0\" width=\"55\" height=\"55\" style=\"fill:#3182bd;stroke-width:2;stroke:rgb(255,255,255)\"/><rect x=\"550\" y=\"0\" width=\"55\" height=\"55\" style=\"fill:#9ecae1;stroke-width:2;stroke:rgb(255,255,255)\"/><rect x=\"605\" y=\"0\" width=\"55\" height=\"55\" style=\"fill:#c6dbef;stroke-width:2;stroke:rgb(255,255,255)\"/></svg>"
      ]
     },
     "metadata": {},
     "output_type": "display_data"
    },
    {
     "data": {
      "text/html": [
       "<pre style=\"white-space:pre;overflow-x:auto;line-height:normal;font-family:Menlo,'DejaVu Sans Mono',consolas,'Courier New',monospace\">\n",
       "\n",
       "\n",
       "</pre>\n"
      ],
      "text/plain": [
       "\n",
       "\n",
       "\n"
      ]
     },
     "metadata": {},
     "output_type": "display_data"
    },
    {
     "data": {
      "text/html": [
       "<pre style=\"white-space:pre;overflow-x:auto;line-height:normal;font-family:Menlo,'DejaVu Sans Mono',consolas,'Courier New',monospace\"><span style=\"font-weight: bold\">[</span>PROGRESS<span style=\"font-weight: bold\">]</span> <span style=\"color: #008000; text-decoration-color: #008000\">'ses1-regions_n-12.html'</span> saved at\n",
       "<span style=\"color: #800080; text-decoration-color: #800080\">/home/hadi/Dropbox/git/jb-Ca-fMRI/</span><span style=\"color: #ff00ff; text-decoration-color: #ff00ff\">_extras</span>\n",
       "</pre>\n"
      ],
      "text/plain": [
       "\u001b[1m[\u001b[0mPROGRESS\u001b[1m]\u001b[0m \u001b[32m'ses1-regions_n-12.html'\u001b[0m saved at\n",
       "\u001b[35m/home/hadi/Dropbox/git/jb-Ca-fMRI/\u001b[0m\u001b[95m_extras\u001b[0m\n"
      ]
     },
     "metadata": {},
     "output_type": "display_data"
    },
    {
     "data": {
      "text/html": [
       "<pre style=\"white-space:pre;overflow-x:auto;line-height:normal;font-family:Menlo,'DejaVu Sans Mono',consolas,'Courier New',monospace\"><span style=\"font-weight: bold\">[</span>PROGRESS<span style=\"font-weight: bold\">]</span> <span style=\"color: #008000; text-decoration-color: #008000\">'ses1-clusters_n-12.html'</span> saved at\n",
       "<span style=\"color: #800080; text-decoration-color: #800080\">/home/hadi/Dropbox/git/jb-Ca-fMRI/</span><span style=\"color: #ff00ff; text-decoration-color: #ff00ff\">_extras</span>\n",
       "</pre>\n"
      ],
      "text/plain": [
       "\u001b[1m[\u001b[0mPROGRESS\u001b[1m]\u001b[0m \u001b[32m'ses1-clusters_n-12.html'\u001b[0m saved at\n",
       "\u001b[35m/home/hadi/Dropbox/git/jb-Ca-fMRI/\u001b[0m\u001b[95m_extras\u001b[0m\n"
      ]
     },
     "metadata": {},
     "output_type": "display_data"
    },
    {
     "data": {
      "text/html": [
       "<pre style=\"white-space:pre;overflow-x:auto;line-height:normal;font-family:Menlo,'DejaVu Sans Mono',consolas,'Courier New',monospace\">n_clusters = <span style=\"color: #008080; text-decoration-color: #008080; font-weight: bold\">13</span>\n",
       "</pre>\n"
      ],
      "text/plain": [
       "n_clusters = \u001b[1;36m13\u001b[0m\n"
      ]
     },
     "metadata": {},
     "output_type": "display_data"
    },
    {
     "data": {
      "text/html": [
       "<table style=\"border: 0;\"><tr style=\"border: 0;\"><td style=\"background-color: #1f77b4; border: 0;\"><code style=\"background-color: #1f77b4;\">#1f77b4</code></td><td style=\"border: 0\"><code>['(10)']</code></td></tr><tr style=\"border: 0;\"><td style=\"background-color: #ff7f0e; border: 0;\"><code style=\"background-color: #ff7f0e;\">#ff7f0e</code></td><td style=\"border: 0\"><code>['(7)', '(8)', '(14)', '(9)', '(10)']</code></td></tr><tr style=\"border: 0;\"><td style=\"background-color: #2ca02c; border: 0;\"><code style=\"background-color: #2ca02c;\">#2ca02c</code></td><td style=\"border: 0\"><code>['(9)', '(13)']</code></td></tr><tr style=\"border: 0;\"><td style=\"background-color: #d62728; border: 0;\"><code style=\"background-color: #d62728;\">#d62728</code></td><td style=\"border: 0\"><code>['(8)', '(17)', '(7)', '(8)', '(18)']</code></td></tr></table>"
      ]
     },
     "metadata": {},
     "output_type": "display_data"
    },
    {
     "data": {
      "image/png": "[encoded data removed]"
     },
     "metadata": {},
     "output_type": "display_data"
    },
    {
     "data": {
      "text/html": [
       "<svg  width=\"715\" height=\"55\"><rect x=\"0\" y=\"0\" width=\"55\" height=\"55\" style=\"fill:#969696;stroke-width:2;stroke:rgb(255,255,255)\"/><rect x=\"55\" y=\"0\" width=\"55\" height=\"55\" style=\"fill:#31a354;stroke-width:2;stroke:rgb(255,255,255)\"/><rect x=\"110\" y=\"0\" width=\"55\" height=\"55\" style=\"fill:#74c476;stroke-width:2;stroke:rgb(255,255,255)\"/><rect x=\"165\" y=\"0\" width=\"55\" height=\"55\" style=\"fill:#a1d99b;stroke-width:2;stroke:rgb(255,255,255)\"/><rect x=\"220\" y=\"0\" width=\"55\" height=\"55\" style=\"fill:#c7e9c0;stroke-width:2;stroke:rgb(255,255,255)\"/><rect x=\"275\" y=\"0\" width=\"55\" height=\"55\" style=\"fill:#c7e9c0;stroke-width:2;stroke:rgb(255,255,255)\"/><rect x=\"330\" y=\"0\" width=\"55\" height=\"55\" style=\"fill:#756bb1;stroke-width:2;stroke:rgb(255,255,255)\"/><rect x=\"385\" y=\"0\" width=\"55\" height=\"55\" style=\"fill:#bcbddc;stroke-width:2;stroke:rgb(255,255,255)\"/><rect x=\"440\" y=\"0\" width=\"55\" height=\"55\" style=\"fill:#e6550d;stroke-width:2;stroke:rgb(255,255,255)\"/><rect x=\"495\" y=\"0\" width=\"55\" height=\"55\" style=\"fill:#fdae6b;stroke-width:2;stroke:rgb(255,255,255)\"/><rect x=\"550\" y=\"0\" width=\"55\" height=\"55\" style=\"fill:#3182bd;stroke-width:2;stroke:rgb(255,255,255)\"/><rect x=\"605\" y=\"0\" width=\"55\" height=\"55\" style=\"fill:#9ecae1;stroke-width:2;stroke:rgb(255,255,255)\"/><rect x=\"660\" y=\"0\" width=\"55\" height=\"55\" style=\"fill:#c6dbef;stroke-width:2;stroke:rgb(255,255,255)\"/></svg>"
      ]
     },
     "metadata": {},
     "output_type": "display_data"
    },
    {
     "data": {
      "text/html": [
       "<pre style=\"white-space:pre;overflow-x:auto;line-height:normal;font-family:Menlo,'DejaVu Sans Mono',consolas,'Courier New',monospace\">\n",
       "\n",
       "\n",
       "</pre>\n"
      ],
      "text/plain": [
       "\n",
       "\n",
       "\n"
      ]
     },
     "metadata": {},
     "output_type": "display_data"
    },
    {
     "data": {
      "text/html": [
       "<pre style=\"white-space:pre;overflow-x:auto;line-height:normal;font-family:Menlo,'DejaVu Sans Mono',consolas,'Courier New',monospace\"><span style=\"font-weight: bold\">[</span>PROGRESS<span style=\"font-weight: bold\">]</span> <span style=\"color: #008000; text-decoration-color: #008000\">'ses1-regions_n-13.html'</span> saved at\n",
       "<span style=\"color: #800080; text-decoration-color: #800080\">/home/hadi/Dropbox/git/jb-Ca-fMRI/</span><span style=\"color: #ff00ff; text-decoration-color: #ff00ff\">_extras</span>\n",
       "</pre>\n"
      ],
      "text/plain": [
       "\u001b[1m[\u001b[0mPROGRESS\u001b[1m]\u001b[0m \u001b[32m'ses1-regions_n-13.html'\u001b[0m saved at\n",
       "\u001b[35m/home/hadi/Dropbox/git/jb-Ca-fMRI/\u001b[0m\u001b[95m_extras\u001b[0m\n"
      ]
     },
     "metadata": {},
     "output_type": "display_data"
    },
    {
     "data": {
      "text/html": [
       "<pre style=\"white-space:pre;overflow-x:auto;line-height:normal;font-family:Menlo,'DejaVu Sans Mono',consolas,'Courier New',monospace\"><span style=\"font-weight: bold\">[</span>PROGRESS<span style=\"font-weight: bold\">]</span> <span style=\"color: #008000; text-decoration-color: #008000\">'ses1-clusters_n-13.html'</span> saved at\n",
       "<span style=\"color: #800080; text-decoration-color: #800080\">/home/hadi/Dropbox/git/jb-Ca-fMRI/</span><span style=\"color: #ff00ff; text-decoration-color: #ff00ff\">_extras</span>\n",
       "</pre>\n"
      ],
      "text/plain": [
       "\u001b[1m[\u001b[0mPROGRESS\u001b[1m]\u001b[0m \u001b[32m'ses1-clusters_n-13.html'\u001b[0m saved at\n",
       "\u001b[35m/home/hadi/Dropbox/git/jb-Ca-fMRI/\u001b[0m\u001b[95m_extras\u001b[0m\n"
      ]
     },
     "metadata": {},
     "output_type": "display_data"
    },
    {
     "data": {
      "text/html": [
       "<pre style=\"white-space:pre;overflow-x:auto;line-height:normal;font-family:Menlo,'DejaVu Sans Mono',consolas,'Courier New',monospace\">n_clusters = <span style=\"color: #008080; text-decoration-color: #008080; font-weight: bold\">14</span>\n",
       "</pre>\n"
      ],
      "text/plain": [
       "n_clusters = \u001b[1;36m14\u001b[0m\n"
      ]
     },
     "metadata": {},
     "output_type": "display_data"
    },
    {
     "data": {
      "text/html": [
       "<table style=\"border: 0;\"><tr style=\"border: 0;\"><td style=\"background-color: #ff7f0e; border: 0;\"><code style=\"background-color: #ff7f0e;\">#ff7f0e</code></td><td style=\"border: 0\"><code>['(4)', '(6)']</code></td></tr><tr style=\"border: 0;\"><td style=\"background-color: #2ca02c; border: 0;\"><code style=\"background-color: #2ca02c;\">#2ca02c</code></td><td style=\"border: 0\"><code>['(7)', '(8)', '(14)', '(9)', '(10)']</code></td></tr><tr style=\"border: 0;\"><td style=\"background-color: #d62728; border: 0;\"><code style=\"background-color: #d62728;\">#d62728</code></td><td style=\"border: 0\"><code>['(13)', '(9)']</code></td></tr><tr style=\"border: 0;\"><td style=\"background-color: #9467bd; border: 0;\"><code style=\"background-color: #9467bd;\">#9467bd</code></td><td style=\"border: 0\"><code>['(8)', '(17)', '(7)', '(8)', '(18)']</code></td></tr></table>"
      ]
     },
     "metadata": {},
     "output_type": "display_data"
    },
    {
     "data": {
      "image/png": "[encoded data removed]"
     },
     "metadata": {},
     "output_type": "display_data"
    },
    {
     "data": {
      "text/html": [
       "<svg  width=\"770\" height=\"55\"><rect x=\"0\" y=\"0\" width=\"55\" height=\"55\" style=\"fill:#636363;stroke-width:2;stroke:rgb(255,255,255)\"/><rect x=\"55\" y=\"0\" width=\"55\" height=\"55\" style=\"fill:#969696;stroke-width:2;stroke:rgb(255,255,255)\"/><rect x=\"110\" y=\"0\" width=\"55\" height=\"55\" style=\"fill:#31a354;stroke-width:2;stroke:rgb(255,255,255)\"/><rect x=\"165\" y=\"0\" width=\"55\" height=\"55\" style=\"fill:#74c476;stroke-width:2;stroke:rgb(255,255,255)\"/><rect x=\"220\" y=\"0\" width=\"55\" height=\"55\" style=\"fill:#a1d99b;stroke-width:2;stroke:rgb(255,255,255)\"/><rect x=\"275\" y=\"0\" width=\"55\" height=\"55\" style=\"fill:#c7e9c0;stroke-width:2;stroke:rgb(255,255,255)\"/><rect x=\"330\" y=\"0\" width=\"55\" height=\"55\" style=\"fill:#c7e9c0;stroke-width:2;stroke:rgb(255,255,255)\"/><rect x=\"385\" y=\"0\" width=\"55\" height=\"55\" style=\"fill:#756bb1;stroke-width:2;stroke:rgb(255,255,255)\"/><rect x=\"440\" y=\"0\" width=\"55\" height=\"55\" style=\"fill:#bcbddc;stroke-width:2;stroke:rgb(255,255,255)\"/><rect x=\"495\" y=\"0\" width=\"55\" height=\"55\" style=\"fill:#e6550d;stroke-width:2;stroke:rgb(255,255,255)\"/><rect x=\"550\" y=\"0\" width=\"55\" height=\"55\" style=\"fill:#fdae6b;stroke-width:2;stroke:rgb(255,255,255)\"/><rect x=\"605\" y=\"0\" width=\"55\" height=\"55\" style=\"fill:#3182bd;stroke-width:2;stroke:rgb(255,255,255)\"/><rect x=\"660\" y=\"0\" width=\"55\" height=\"55\" style=\"fill:#9ecae1;stroke-width:2;stroke:rgb(255,255,255)\"/><rect x=\"715\" y=\"0\" width=\"55\" height=\"55\" style=\"fill:#c6dbef;stroke-width:2;stroke:rgb(255,255,255)\"/></svg>"
      ]
     },
     "metadata": {},
     "output_type": "display_data"
    },
    {
     "data": {
      "text/html": [
       "<pre style=\"white-space:pre;overflow-x:auto;line-height:normal;font-family:Menlo,'DejaVu Sans Mono',consolas,'Courier New',monospace\">\n",
       "\n",
       "\n",
       "</pre>\n"
      ],
      "text/plain": [
       "\n",
       "\n",
       "\n"
      ]
     },
     "metadata": {},
     "output_type": "display_data"
    },
    {
     "data": {
      "text/html": [
       "<pre style=\"white-space:pre;overflow-x:auto;line-height:normal;font-family:Menlo,'DejaVu Sans Mono',consolas,'Courier New',monospace\"><span style=\"font-weight: bold\">[</span>PROGRESS<span style=\"font-weight: bold\">]</span> <span style=\"color: #008000; text-decoration-color: #008000\">'ses1-regions_n-14.html'</span> saved at\n",
       "<span style=\"color: #800080; text-decoration-color: #800080\">/home/hadi/Dropbox/git/jb-Ca-fMRI/</span><span style=\"color: #ff00ff; text-decoration-color: #ff00ff\">_extras</span>\n",
       "</pre>\n"
      ],
      "text/plain": [
       "\u001b[1m[\u001b[0mPROGRESS\u001b[1m]\u001b[0m \u001b[32m'ses1-regions_n-14.html'\u001b[0m saved at\n",
       "\u001b[35m/home/hadi/Dropbox/git/jb-Ca-fMRI/\u001b[0m\u001b[95m_extras\u001b[0m\n"
      ]
     },
     "metadata": {},
     "output_type": "display_data"
    },
    {
     "data": {
      "text/html": [
       "<pre style=\"white-space:pre;overflow-x:auto;line-height:normal;font-family:Menlo,'DejaVu Sans Mono',consolas,'Courier New',monospace\"><span style=\"font-weight: bold\">[</span>PROGRESS<span style=\"font-weight: bold\">]</span> <span style=\"color: #008000; text-decoration-color: #008000\">'ses1-clusters_n-14.html'</span> saved at\n",
       "<span style=\"color: #800080; text-decoration-color: #800080\">/home/hadi/Dropbox/git/jb-Ca-fMRI/</span><span style=\"color: #ff00ff; text-decoration-color: #ff00ff\">_extras</span>\n",
       "</pre>\n"
      ],
      "text/plain": [
       "\u001b[1m[\u001b[0mPROGRESS\u001b[1m]\u001b[0m \u001b[32m'ses1-clusters_n-14.html'\u001b[0m saved at\n",
       "\u001b[35m/home/hadi/Dropbox/git/jb-Ca-fMRI/\u001b[0m\u001b[95m_extras\u001b[0m\n"
      ]
     },
     "metadata": {},
     "output_type": "display_data"
    }
   ],
   "source": [
    "clusters_all = {}\n",
    "\n",
    "for n_clusters in range(2, 15):\n",
    "    hier_output = get_clust_graph(\n",
    "        linkage_mat=hier_results['z'],\n",
    "        c_list=cluster_color_idxs[n_clusters],\n",
    "        labels=labels,\n",
    "        num_clusters=n_clusters,\n",
    "        leaf_font_size=10,\n",
    "        figsize=(3.5, 2),\n",
    "    )\n",
    "    print(f\"n_clusters = {n_clusters}\")\n",
    "    display(hier_output['cluster_classes'])\n",
    "    display(hier_output['fig'])\n",
    "    display(sns.color_palette(hier_output['cluster_colors'].values()))\n",
    "    print('\\n\\n')\n",
    "    \n",
    "    community = {\n",
    "        i: translate_labels(leaves, allen['mcc'], forward=False)\n",
    "        for i, leaves in hier_output['cluster_assigns'].items()\n",
    "    }\n",
    "    assert len(community) == n_clusters\n",
    "\n",
    "    comms3d = np.zeros(allen['template'].shape)\n",
    "    for cluster_idx, leaves in community.items():\n",
    "        for lbl in leaves:\n",
    "            if str(allen['isocortex']['id']) in lbl:\n",
    "                lr, structure_id, region_id = tuple(map(lambda x: int(x), lbl.split('-')))\n",
    "                comms3d[parcellation['parcel'] == region_id] = cluster_idx\n",
    "            else:\n",
    "                comms3d[roi_masks[lbl]] = cluster_idx\n",
    "    comms3d = comms3d.astype(int)\n",
    "    \n",
    "    # save results\n",
    "    cluster = Clusters(\n",
    "        x=comms3d,\n",
    "        masks=major_masks,\n",
    "        c_cluster=hier_output['cluster_colors'],\n",
    "        c_structure=struct_colors,\n",
    "        threshold=0.0,\n",
    "    )\n",
    "    clusters_all[n_clusters] = cluster\n",
    "    _ = cluster.export(extras_dir, name='ses1')"
   ]
  },
  {
   "cell_type": "code",
   "execution_count": null,
   "id": "e3eb9ff8",
   "metadata": {},
   "outputs": [],
   "source": []
  },
  {
   "cell_type": "code",
   "execution_count": null,
   "id": "a028ad41",
   "metadata": {},
   "outputs": [],
   "source": []
  },
  {
   "cell_type": "code",
   "execution_count": null,
   "id": "7015341d",
   "metadata": {},
   "outputs": [],
   "source": []
  },
  {
   "cell_type": "markdown",
   "id": "b7eafa3b",
   "metadata": {},
   "source": [
    "### Render"
   ]
  },
  {
   "cell_type": "code",
   "execution_count": 55,
   "id": "cea4e0e4",
   "metadata": {},
   "outputs": [
    {
     "data": {
      "text/html": [
       "<pre style=\"white-space:pre;overflow-x:auto;line-height:normal;font-family:Menlo,'DejaVu Sans Mono',consolas,'Courier New',monospace\">Scene saved at <span style=\"color: #800080; text-decoration-color: #800080\">/home/hadi/Dropbox/git/jb-Ca-fMRI/_extras/</span><span style=\"color: #ff00ff; text-decoration-color: #ff00ff\">cluster3d-ses1_parcel-128_n-2.html</span>\n",
       "</pre>\n"
      ],
      "text/plain": [
       "Scene saved at \u001b[35m/home/hadi/Dropbox/git/jb-Ca-fMRI/_extras/\u001b[0m\u001b[95mcluster3d-ses1_parcel-128_n-2.html\u001b[0m\n"
      ]
     },
     "metadata": {},
     "output_type": "display_data"
    },
    {
     "data": {
      "text/html": [
       "<pre style=\"white-space:pre;overflow-x:auto;line-height:normal;font-family:Menlo,'DejaVu Sans Mono',consolas,'Courier New',monospace\">Scene saved at <span style=\"color: #800080; text-decoration-color: #800080\">/home/hadi/Dropbox/git/jb-Ca-fMRI/_extras/</span><span style=\"color: #ff00ff; text-decoration-color: #ff00ff\">cluster3d-ses1_parcel-128_n-3.html</span>\n",
       "</pre>\n"
      ],
      "text/plain": [
       "Scene saved at \u001b[35m/home/hadi/Dropbox/git/jb-Ca-fMRI/_extras/\u001b[0m\u001b[95mcluster3d-ses1_parcel-128_n-3.html\u001b[0m\n"
      ]
     },
     "metadata": {},
     "output_type": "display_data"
    },
    {
     "data": {
      "text/html": [
       "<pre style=\"white-space:pre;overflow-x:auto;line-height:normal;font-family:Menlo,'DejaVu Sans Mono',consolas,'Courier New',monospace\">Scene saved at <span style=\"color: #800080; text-decoration-color: #800080\">/home/hadi/Dropbox/git/jb-Ca-fMRI/_extras/</span><span style=\"color: #ff00ff; text-decoration-color: #ff00ff\">cluster3d-ses1_parcel-128_n-4.html</span>\n",
       "</pre>\n"
      ],
      "text/plain": [
       "Scene saved at \u001b[35m/home/hadi/Dropbox/git/jb-Ca-fMRI/_extras/\u001b[0m\u001b[95mcluster3d-ses1_parcel-128_n-4.html\u001b[0m\n"
      ]
     },
     "metadata": {},
     "output_type": "display_data"
    },
    {
     "data": {
      "text/html": [
       "<pre style=\"white-space:pre;overflow-x:auto;line-height:normal;font-family:Menlo,'DejaVu Sans Mono',consolas,'Courier New',monospace\">Scene saved at <span style=\"color: #800080; text-decoration-color: #800080\">/home/hadi/Dropbox/git/jb-Ca-fMRI/_extras/</span><span style=\"color: #ff00ff; text-decoration-color: #ff00ff\">cluster3d-ses1_parcel-128_n-5.html</span>\n",
       "</pre>\n"
      ],
      "text/plain": [
       "Scene saved at \u001b[35m/home/hadi/Dropbox/git/jb-Ca-fMRI/_extras/\u001b[0m\u001b[95mcluster3d-ses1_parcel-128_n-5.html\u001b[0m\n"
      ]
     },
     "metadata": {},
     "output_type": "display_data"
    },
    {
     "data": {
      "text/html": [
       "<pre style=\"white-space:pre;overflow-x:auto;line-height:normal;font-family:Menlo,'DejaVu Sans Mono',consolas,'Courier New',monospace\">Scene saved at <span style=\"color: #800080; text-decoration-color: #800080\">/home/hadi/Dropbox/git/jb-Ca-fMRI/_extras/</span><span style=\"color: #ff00ff; text-decoration-color: #ff00ff\">cluster3d-ses1_parcel-128_n-6.html</span>\n",
       "</pre>\n"
      ],
      "text/plain": [
       "Scene saved at \u001b[35m/home/hadi/Dropbox/git/jb-Ca-fMRI/_extras/\u001b[0m\u001b[95mcluster3d-ses1_parcel-128_n-6.html\u001b[0m\n"
      ]
     },
     "metadata": {},
     "output_type": "display_data"
    },
    {
     "data": {
      "text/html": [
       "<pre style=\"white-space:pre;overflow-x:auto;line-height:normal;font-family:Menlo,'DejaVu Sans Mono',consolas,'Courier New',monospace\">Scene saved at <span style=\"color: #800080; text-decoration-color: #800080\">/home/hadi/Dropbox/git/jb-Ca-fMRI/_extras/</span><span style=\"color: #ff00ff; text-decoration-color: #ff00ff\">cluster3d-ses1_parcel-128_n-7.html</span>\n",
       "</pre>\n"
      ],
      "text/plain": [
       "Scene saved at \u001b[35m/home/hadi/Dropbox/git/jb-Ca-fMRI/_extras/\u001b[0m\u001b[95mcluster3d-ses1_parcel-128_n-7.html\u001b[0m\n"
      ]
     },
     "metadata": {},
     "output_type": "display_data"
    },
    {
     "data": {
      "text/html": [
       "<pre style=\"white-space:pre;overflow-x:auto;line-height:normal;font-family:Menlo,'DejaVu Sans Mono',consolas,'Courier New',monospace\">Scene saved at <span style=\"color: #800080; text-decoration-color: #800080\">/home/hadi/Dropbox/git/jb-Ca-fMRI/_extras/</span><span style=\"color: #ff00ff; text-decoration-color: #ff00ff\">cluster3d-ses1_parcel-128_n-8.html</span>\n",
       "</pre>\n"
      ],
      "text/plain": [
       "Scene saved at \u001b[35m/home/hadi/Dropbox/git/jb-Ca-fMRI/_extras/\u001b[0m\u001b[95mcluster3d-ses1_parcel-128_n-8.html\u001b[0m\n"
      ]
     },
     "metadata": {},
     "output_type": "display_data"
    },
    {
     "data": {
      "text/html": [
       "<pre style=\"white-space:pre;overflow-x:auto;line-height:normal;font-family:Menlo,'DejaVu Sans Mono',consolas,'Courier New',monospace\">Scene saved at <span style=\"color: #800080; text-decoration-color: #800080\">/home/hadi/Dropbox/git/jb-Ca-fMRI/_extras/</span><span style=\"color: #ff00ff; text-decoration-color: #ff00ff\">cluster3d-ses1_parcel-128_n-9.html</span>\n",
       "</pre>\n"
      ],
      "text/plain": [
       "Scene saved at \u001b[35m/home/hadi/Dropbox/git/jb-Ca-fMRI/_extras/\u001b[0m\u001b[95mcluster3d-ses1_parcel-128_n-9.html\u001b[0m\n"
      ]
     },
     "metadata": {},
     "output_type": "display_data"
    },
    {
     "data": {
      "text/html": [
       "<pre style=\"white-space:pre;overflow-x:auto;line-height:normal;font-family:Menlo,'DejaVu Sans Mono',consolas,'Courier New',monospace\">Scene saved at <span style=\"color: #800080; text-decoration-color: #800080\">/home/hadi/Dropbox/git/jb-Ca-fMRI/_extras/</span><span style=\"color: #ff00ff; text-decoration-color: #ff00ff\">cluster3d-ses1_parcel-128_n-10.html</span>\n",
       "</pre>\n"
      ],
      "text/plain": [
       "Scene saved at \u001b[35m/home/hadi/Dropbox/git/jb-Ca-fMRI/_extras/\u001b[0m\u001b[95mcluster3d-ses1_parcel-128_n-10.html\u001b[0m\n"
      ]
     },
     "metadata": {},
     "output_type": "display_data"
    },
    {
     "data": {
      "text/html": [
       "<pre style=\"white-space:pre;overflow-x:auto;line-height:normal;font-family:Menlo,'DejaVu Sans Mono',consolas,'Courier New',monospace\">Scene saved at <span style=\"color: #800080; text-decoration-color: #800080\">/home/hadi/Dropbox/git/jb-Ca-fMRI/_extras/</span><span style=\"color: #ff00ff; text-decoration-color: #ff00ff\">cluster3d-ses1_parcel-128_n-11.html</span>\n",
       "</pre>\n"
      ],
      "text/plain": [
       "Scene saved at \u001b[35m/home/hadi/Dropbox/git/jb-Ca-fMRI/_extras/\u001b[0m\u001b[95mcluster3d-ses1_parcel-128_n-11.html\u001b[0m\n"
      ]
     },
     "metadata": {},
     "output_type": "display_data"
    },
    {
     "data": {
      "text/html": [
       "<pre style=\"white-space:pre;overflow-x:auto;line-height:normal;font-family:Menlo,'DejaVu Sans Mono',consolas,'Courier New',monospace\">Scene saved at <span style=\"color: #800080; text-decoration-color: #800080\">/home/hadi/Dropbox/git/jb-Ca-fMRI/_extras/</span><span style=\"color: #ff00ff; text-decoration-color: #ff00ff\">cluster3d-ses1_parcel-128_n-12.html</span>\n",
       "</pre>\n"
      ],
      "text/plain": [
       "Scene saved at \u001b[35m/home/hadi/Dropbox/git/jb-Ca-fMRI/_extras/\u001b[0m\u001b[95mcluster3d-ses1_parcel-128_n-12.html\u001b[0m\n"
      ]
     },
     "metadata": {},
     "output_type": "display_data"
    },
    {
     "data": {
      "text/html": [
       "<pre style=\"white-space:pre;overflow-x:auto;line-height:normal;font-family:Menlo,'DejaVu Sans Mono',consolas,'Courier New',monospace\">Scene saved at <span style=\"color: #800080; text-decoration-color: #800080\">/home/hadi/Dropbox/git/jb-Ca-fMRI/_extras/</span><span style=\"color: #ff00ff; text-decoration-color: #ff00ff\">cluster3d-ses1_parcel-128_n-13.html</span>\n",
       "</pre>\n"
      ],
      "text/plain": [
       "Scene saved at \u001b[35m/home/hadi/Dropbox/git/jb-Ca-fMRI/_extras/\u001b[0m\u001b[95mcluster3d-ses1_parcel-128_n-13.html\u001b[0m\n"
      ]
     },
     "metadata": {},
     "output_type": "display_data"
    },
    {
     "data": {
      "text/html": [
       "<pre style=\"white-space:pre;overflow-x:auto;line-height:normal;font-family:Menlo,'DejaVu Sans Mono',consolas,'Courier New',monospace\">Scene saved at <span style=\"color: #800080; text-decoration-color: #800080\">/home/hadi/Dropbox/git/jb-Ca-fMRI/_extras/</span><span style=\"color: #ff00ff; text-decoration-color: #ff00ff\">cluster3d-ses1_parcel-128_n-14.html</span>\n",
       "</pre>\n"
      ],
      "text/plain": [
       "Scene saved at \u001b[35m/home/hadi/Dropbox/git/jb-Ca-fMRI/_extras/\u001b[0m\u001b[95mcluster3d-ses1_parcel-128_n-14.html\u001b[0m\n"
      ]
     },
     "metadata": {},
     "output_type": "display_data"
    },
    {
     "ename": "KeyError",
     "evalue": "15",
     "output_type": "error",
     "traceback": [
      "\u001b[0;31m---------------------------------------------------------------------------\u001b[0m",
      "\u001b[0;31mKeyError\u001b[0m                                  Traceback (most recent call last)",
      "\u001b[0;32m<ipython-input-55-bdf990d96e6d>\u001b[0m in \u001b[0;36m<module>\u001b[0;34m\u001b[0m\n\u001b[1;32m      1\u001b[0m \u001b[0;32mfor\u001b[0m \u001b[0mn_clusters\u001b[0m \u001b[0;32min\u001b[0m \u001b[0mrange\u001b[0m\u001b[0;34m(\u001b[0m\u001b[0;36m2\u001b[0m\u001b[0;34m,\u001b[0m \u001b[0;36m16\u001b[0m\u001b[0;34m)\u001b[0m\u001b[0;34m:\u001b[0m\u001b[0;34m\u001b[0m\u001b[0;34m\u001b[0m\u001b[0m\n\u001b[1;32m      2\u001b[0m     _ = cluster2html(\n\u001b[0;32m----> 3\u001b[0;31m         \u001b[0mcluster\u001b[0m\u001b[0;34m=\u001b[0m\u001b[0mclusters_all\u001b[0m\u001b[0;34m[\u001b[0m\u001b[0mn_clusters\u001b[0m\u001b[0;34m]\u001b[0m\u001b[0;34m,\u001b[0m\u001b[0;34m\u001b[0m\u001b[0;34m\u001b[0m\u001b[0m\n\u001b[0m\u001b[1;32m      4\u001b[0m         \u001b[0msave_name\u001b[0m\u001b[0;34m=\u001b[0m\u001b[0;34m'ses1'\u001b[0m\u001b[0;34m,\u001b[0m\u001b[0;34m\u001b[0m\u001b[0;34m\u001b[0m\u001b[0m\n\u001b[1;32m      5\u001b[0m         \u001b[0mn_cortex_regions\u001b[0m\u001b[0;34m=\u001b[0m\u001b[0mparcellation\u001b[0m\u001b[0;34m[\u001b[0m\u001b[0;34m'n_cortical_regions'\u001b[0m\u001b[0;34m]\u001b[0m\u001b[0;34m,\u001b[0m\u001b[0;34m\u001b[0m\u001b[0;34m\u001b[0m\u001b[0m\n",
      "\u001b[0;31mKeyError\u001b[0m: 15"
     ]
    }
   ],
   "source": [
    "for n_clusters in range(2, 15): \n",
    "    _ = cluster2html(\n",
    "        cluster=clusters_all[n_clusters],\n",
    "        save_name='ses1',\n",
    "        n_cortex_regions=parcellation['n_cortical_regions'],\n",
    "        save_dir=extras_dir,\n",
    "    )"
   ]
  },
  {
   "cell_type": "code",
   "execution_count": null,
   "id": "ef18e3ee",
   "metadata": {},
   "outputs": [],
   "source": []
  },
  {
   "cell_type": "code",
   "execution_count": null,
   "id": "5ae25e40",
   "metadata": {},
   "outputs": [],
   "source": []
  },
  {
   "cell_type": "code",
   "execution_count": null,
   "id": "375d83e7",
   "metadata": {},
   "outputs": [],
   "source": []
  },
  {
   "cell_type": "markdown",
   "id": "5132f075",
   "metadata": {},
   "source": [
    "## Session 2 only"
   ]
  },
  {
   "cell_type": "code",
   "execution_count": 56,
   "id": "e945fb83",
   "metadata": {},
   "outputs": [
    {
     "data": {
      "text/html": [
       "<pre style=\"white-space:pre;overflow-x:auto;line-height:normal;font-family:Menlo,'DejaVu Sans Mono',consolas,'Courier New',monospace\"><span style=\"font-weight: bold\">((</span><span style=\"color: #008080; text-decoration-color: #008080; font-weight: bold\">20900</span>, <span style=\"color: #008080; text-decoration-color: #008080; font-weight: bold\">138</span><span style=\"font-weight: bold\">)</span>, <span style=\"color: #008080; text-decoration-color: #008080; font-weight: bold\">138</span>, <span style=\"color: #008080; text-decoration-color: #008080; font-weight: bold\">204</span>, <span style=\"color: #008080; text-decoration-color: #008080; font-weight: bold\">38</span><span style=\"font-weight: bold\">)</span>\n",
       "</pre>\n"
      ],
      "text/plain": [
       "\u001b[1m(\u001b[0m\u001b[1m(\u001b[0m\u001b[1;36m20900\u001b[0m, \u001b[1;36m138\u001b[0m\u001b[1m)\u001b[0m, \u001b[1;36m138\u001b[0m, \u001b[1;36m204\u001b[0m, \u001b[1;36m38\u001b[0m\u001b[1m)\u001b[0m\n"
      ]
     },
     "metadata": {},
     "output_type": "display_data"
    }
   ],
   "source": [
    "for ses in mice.cfg.ses_ids:\n",
    "    if ses != 2:\n",
    "        continue\n",
    "    \n",
    "    selected_experiments = {\n",
    "        k: v for k, v in mice.bold_df_piv.items()\n",
    "        if mice.bold[k].task == 'rest' and mice.looper[k][1] == ses\n",
    "    }\n",
    "    df_combined = pd.concat(list(selected_experiments.values()))\n",
    "    node_labels = df_combined.columns.values.tolist()\n",
    "    node_labels = {i: lbl for i, lbl in enumerate(node_labels)}\n",
    "\n",
    "df_combined.shape, len(node_labels), len(mice.bold_df_piv), len(selected_experiments)"
   ]
  },
  {
   "cell_type": "code",
   "execution_count": 57,
   "id": "279af7e0",
   "metadata": {},
   "outputs": [
    {
     "data": {
      "text/html": [
       "<pre style=\"white-space:pre;overflow-x:auto;line-height:normal;font-family:Menlo,'DejaVu Sans Mono',consolas,'Courier New',monospace\"><span style=\"font-weight: bold\">[</span>\n",
       "    <span style=\"color: #008000; text-decoration-color: #008000\">'sub-SLC01_ses-2_run-1'</span>,\n",
       "    <span style=\"color: #008000; text-decoration-color: #008000\">'sub-SLC01_ses-2_run-3'</span>,\n",
       "    <span style=\"color: #008000; text-decoration-color: #008000\">'sub-SLC01_ses-2_run-5'</span>,\n",
       "    <span style=\"color: #008000; text-decoration-color: #008000\">'sub-SLC01_ses-2_run-7'</span>,\n",
       "    <span style=\"color: #008000; text-decoration-color: #008000\">'sub-SLC02_ses-2_run-1'</span>,\n",
       "    <span style=\"color: #008000; text-decoration-color: #008000\">'sub-SLC02_ses-2_run-3'</span>,\n",
       "    <span style=\"color: #008000; text-decoration-color: #008000\">'sub-SLC02_ses-2_run-5'</span>,\n",
       "    <span style=\"color: #008000; text-decoration-color: #008000\">'sub-SLC03_ses-2_run-1'</span>,\n",
       "    <span style=\"color: #008000; text-decoration-color: #008000\">'sub-SLC03_ses-2_run-3'</span>,\n",
       "    <span style=\"color: #008000; text-decoration-color: #008000\">'sub-SLC03_ses-2_run-5'</span>,\n",
       "    <span style=\"color: #008000; text-decoration-color: #008000\">'sub-SLC03_ses-2_run-7'</span>,\n",
       "    <span style=\"color: #008000; text-decoration-color: #008000\">'sub-SLC04_ses-2_run-1'</span>,\n",
       "    <span style=\"color: #008000; text-decoration-color: #008000\">'sub-SLC04_ses-2_run-3'</span>,\n",
       "    <span style=\"color: #008000; text-decoration-color: #008000\">'sub-SLC04_ses-2_run-5'</span>,\n",
       "    <span style=\"color: #008000; text-decoration-color: #008000\">'sub-SLC04_ses-2_run-7'</span>,\n",
       "    <span style=\"color: #008000; text-decoration-color: #008000\">'sub-SLC05_ses-2_run-1'</span>,\n",
       "    <span style=\"color: #008000; text-decoration-color: #008000\">'sub-SLC05_ses-2_run-3'</span>,\n",
       "    <span style=\"color: #008000; text-decoration-color: #008000\">'sub-SLC05_ses-2_run-5'</span>,\n",
       "    <span style=\"color: #008000; text-decoration-color: #008000\">'sub-SLC05_ses-2_run-7'</span>,\n",
       "    <span style=\"color: #008000; text-decoration-color: #008000\">'sub-SLC06_ses-2_run-1'</span>,\n",
       "    <span style=\"color: #008000; text-decoration-color: #008000\">'sub-SLC06_ses-2_run-3'</span>,\n",
       "    <span style=\"color: #008000; text-decoration-color: #008000\">'sub-SLC06_ses-2_run-5'</span>,\n",
       "    <span style=\"color: #008000; text-decoration-color: #008000\">'sub-SLC06_ses-2_run-7'</span>,\n",
       "    <span style=\"color: #008000; text-decoration-color: #008000\">'sub-SLC07_ses-2_run-1'</span>,\n",
       "    <span style=\"color: #008000; text-decoration-color: #008000\">'sub-SLC07_ses-2_run-3'</span>,\n",
       "    <span style=\"color: #008000; text-decoration-color: #008000\">'sub-SLC07_ses-2_run-5'</span>,\n",
       "    <span style=\"color: #008000; text-decoration-color: #008000\">'sub-SLC07_ses-2_run-7'</span>,\n",
       "    <span style=\"color: #008000; text-decoration-color: #008000\">'sub-SLC08_ses-2_run-1'</span>,\n",
       "    <span style=\"color: #008000; text-decoration-color: #008000\">'sub-SLC08_ses-2_run-3'</span>,\n",
       "    <span style=\"color: #008000; text-decoration-color: #008000\">'sub-SLC08_ses-2_run-5'</span>,\n",
       "    <span style=\"color: #008000; text-decoration-color: #008000\">'sub-SLC08_ses-2_run-7'</span>,\n",
       "    <span style=\"color: #008000; text-decoration-color: #008000\">'sub-SLC09_ses-2_run-1'</span>,\n",
       "    <span style=\"color: #008000; text-decoration-color: #008000\">'sub-SLC09_ses-2_run-3'</span>,\n",
       "    <span style=\"color: #008000; text-decoration-color: #008000\">'sub-SLC09_ses-2_run-5'</span>,\n",
       "    <span style=\"color: #008000; text-decoration-color: #008000\">'sub-SLC09_ses-2_run-7'</span>,\n",
       "    <span style=\"color: #008000; text-decoration-color: #008000\">'sub-SLC10_ses-2_run-3'</span>,\n",
       "    <span style=\"color: #008000; text-decoration-color: #008000\">'sub-SLC10_ses-2_run-5'</span>,\n",
       "    <span style=\"color: #008000; text-decoration-color: #008000\">'sub-SLC10_ses-2_run-7'</span>\n",
       "<span style=\"font-weight: bold\">]</span>\n",
       "</pre>\n"
      ],
      "text/plain": [
       "\u001b[1m[\u001b[0m\n",
       "    \u001b[32m'sub-SLC01_ses-2_run-1'\u001b[0m,\n",
       "    \u001b[32m'sub-SLC01_ses-2_run-3'\u001b[0m,\n",
       "    \u001b[32m'sub-SLC01_ses-2_run-5'\u001b[0m,\n",
       "    \u001b[32m'sub-SLC01_ses-2_run-7'\u001b[0m,\n",
       "    \u001b[32m'sub-SLC02_ses-2_run-1'\u001b[0m,\n",
       "    \u001b[32m'sub-SLC02_ses-2_run-3'\u001b[0m,\n",
       "    \u001b[32m'sub-SLC02_ses-2_run-5'\u001b[0m,\n",
       "    \u001b[32m'sub-SLC03_ses-2_run-1'\u001b[0m,\n",
       "    \u001b[32m'sub-SLC03_ses-2_run-3'\u001b[0m,\n",
       "    \u001b[32m'sub-SLC03_ses-2_run-5'\u001b[0m,\n",
       "    \u001b[32m'sub-SLC03_ses-2_run-7'\u001b[0m,\n",
       "    \u001b[32m'sub-SLC04_ses-2_run-1'\u001b[0m,\n",
       "    \u001b[32m'sub-SLC04_ses-2_run-3'\u001b[0m,\n",
       "    \u001b[32m'sub-SLC04_ses-2_run-5'\u001b[0m,\n",
       "    \u001b[32m'sub-SLC04_ses-2_run-7'\u001b[0m,\n",
       "    \u001b[32m'sub-SLC05_ses-2_run-1'\u001b[0m,\n",
       "    \u001b[32m'sub-SLC05_ses-2_run-3'\u001b[0m,\n",
       "    \u001b[32m'sub-SLC05_ses-2_run-5'\u001b[0m,\n",
       "    \u001b[32m'sub-SLC05_ses-2_run-7'\u001b[0m,\n",
       "    \u001b[32m'sub-SLC06_ses-2_run-1'\u001b[0m,\n",
       "    \u001b[32m'sub-SLC06_ses-2_run-3'\u001b[0m,\n",
       "    \u001b[32m'sub-SLC06_ses-2_run-5'\u001b[0m,\n",
       "    \u001b[32m'sub-SLC06_ses-2_run-7'\u001b[0m,\n",
       "    \u001b[32m'sub-SLC07_ses-2_run-1'\u001b[0m,\n",
       "    \u001b[32m'sub-SLC07_ses-2_run-3'\u001b[0m,\n",
       "    \u001b[32m'sub-SLC07_ses-2_run-5'\u001b[0m,\n",
       "    \u001b[32m'sub-SLC07_ses-2_run-7'\u001b[0m,\n",
       "    \u001b[32m'sub-SLC08_ses-2_run-1'\u001b[0m,\n",
       "    \u001b[32m'sub-SLC08_ses-2_run-3'\u001b[0m,\n",
       "    \u001b[32m'sub-SLC08_ses-2_run-5'\u001b[0m,\n",
       "    \u001b[32m'sub-SLC08_ses-2_run-7'\u001b[0m,\n",
       "    \u001b[32m'sub-SLC09_ses-2_run-1'\u001b[0m,\n",
       "    \u001b[32m'sub-SLC09_ses-2_run-3'\u001b[0m,\n",
       "    \u001b[32m'sub-SLC09_ses-2_run-5'\u001b[0m,\n",
       "    \u001b[32m'sub-SLC09_ses-2_run-7'\u001b[0m,\n",
       "    \u001b[32m'sub-SLC10_ses-2_run-3'\u001b[0m,\n",
       "    \u001b[32m'sub-SLC10_ses-2_run-5'\u001b[0m,\n",
       "    \u001b[32m'sub-SLC10_ses-2_run-7'\u001b[0m\n",
       "\u001b[1m]\u001b[0m\n"
      ]
     },
     "metadata": {},
     "output_type": "display_data"
    }
   ],
   "source": [
    "list(selected_experiments.keys())"
   ]
  },
  {
   "cell_type": "code",
   "execution_count": null,
   "id": "b7577441",
   "metadata": {},
   "outputs": [],
   "source": []
  },
  {
   "cell_type": "markdown",
   "id": "48926181",
   "metadata": {},
   "source": [
    "### Hierarchical clustering"
   ]
  },
  {
   "cell_type": "code",
   "execution_count": 58,
   "id": "4aa6b737",
   "metadata": {},
   "outputs": [],
   "source": [
    "hier_results = hierarchical_cluster(\n",
    "    df=df_combined,\n",
    "    method='ward',\n",
    "    dist_metric='canberra',\n",
    "    link_metric='canberra',\n",
    ")\n",
    "labels = translate_labels(hier_results['labels'], allen['mcc'])"
   ]
  },
  {
   "cell_type": "code",
   "execution_count": 59,
   "id": "9dddd1cb",
   "metadata": {},
   "outputs": [
    {
     "data": {
      "image/png": "[encoded data removed]"
     },
     "metadata": {},
     "output_type": "display_data"
    }
   ],
   "source": [
    "hier_output = get_clust_graph(\n",
    "    linkage_mat=hier_results['z'],\n",
    "    labels=labels,\n",
    "    num_clusters=0,\n",
    "    leaf_font_size=3,\n",
    "    orientation='top',\n",
    "    figsize=(13.5, 4),\n",
    ")\n",
    "display(hier_output['fig'])"
   ]
  },
  {
   "cell_type": "code",
   "execution_count": null,
   "id": "16f613db",
   "metadata": {},
   "outputs": [],
   "source": []
  },
  {
   "cell_type": "code",
   "execution_count": 60,
   "id": "274e70c5",
   "metadata": {},
   "outputs": [
    {
     "data": {
      "text/html": [
       "<svg  width=\"1100\" height=\"55\"><rect x=\"0\" y=\"0\" width=\"55\" height=\"55\" style=\"fill:#3182bd;stroke-width:2;stroke:rgb(255,255,255)\"/><rect x=\"55\" y=\"0\" width=\"55\" height=\"55\" style=\"fill:#6baed6;stroke-width:2;stroke:rgb(255,255,255)\"/><rect x=\"110\" y=\"0\" width=\"55\" height=\"55\" style=\"fill:#9ecae1;stroke-width:2;stroke:rgb(255,255,255)\"/><rect x=\"165\" y=\"0\" width=\"55\" height=\"55\" style=\"fill:#c6dbef;stroke-width:2;stroke:rgb(255,255,255)\"/><rect x=\"220\" y=\"0\" width=\"55\" height=\"55\" style=\"fill:#e6550d;stroke-width:2;stroke:rgb(255,255,255)\"/><rect x=\"275\" y=\"0\" width=\"55\" height=\"55\" style=\"fill:#fd8d3c;stroke-width:2;stroke:rgb(255,255,255)\"/><rect x=\"330\" y=\"0\" width=\"55\" height=\"55\" style=\"fill:#fdae6b;stroke-width:2;stroke:rgb(255,255,255)\"/><rect x=\"385\" y=\"0\" width=\"55\" height=\"55\" style=\"fill:#fdd0a2;stroke-width:2;stroke:rgb(255,255,255)\"/><rect x=\"440\" y=\"0\" width=\"55\" height=\"55\" style=\"fill:#31a354;stroke-width:2;stroke:rgb(255,255,255)\"/><rect x=\"495\" y=\"0\" width=\"55\" height=\"55\" style=\"fill:#74c476;stroke-width:2;stroke:rgb(255,255,255)\"/><rect x=\"550\" y=\"0\" width=\"55\" height=\"55\" style=\"fill:#a1d99b;stroke-width:2;stroke:rgb(255,255,255)\"/><rect x=\"605\" y=\"0\" width=\"55\" height=\"55\" style=\"fill:#c7e9c0;stroke-width:2;stroke:rgb(255,255,255)\"/><rect x=\"660\" y=\"0\" width=\"55\" height=\"55\" style=\"fill:#756bb1;stroke-width:2;stroke:rgb(255,255,255)\"/><rect x=\"715\" y=\"0\" width=\"55\" height=\"55\" style=\"fill:#9e9ac8;stroke-width:2;stroke:rgb(255,255,255)\"/><rect x=\"770\" y=\"0\" width=\"55\" height=\"55\" style=\"fill:#bcbddc;stroke-width:2;stroke:rgb(255,255,255)\"/><rect x=\"825\" y=\"0\" width=\"55\" height=\"55\" style=\"fill:#dadaeb;stroke-width:2;stroke:rgb(255,255,255)\"/><rect x=\"880\" y=\"0\" width=\"55\" height=\"55\" style=\"fill:#636363;stroke-width:2;stroke:rgb(255,255,255)\"/><rect x=\"935\" y=\"0\" width=\"55\" height=\"55\" style=\"fill:#969696;stroke-width:2;stroke:rgb(255,255,255)\"/><rect x=\"990\" y=\"0\" width=\"55\" height=\"55\" style=\"fill:#bdbdbd;stroke-width:2;stroke:rgb(255,255,255)\"/><rect x=\"1045\" y=\"0\" width=\"55\" height=\"55\" style=\"fill:#d9d9d9;stroke-width:2;stroke:rgb(255,255,255)\"/></svg>"
      ]
     },
     "execution_count": 60,
     "metadata": {},
     "output_type": "execute_result"
    }
   ],
   "source": [
    "sns.color_palette('tab20c', n_colors=20)"
   ]
  },
  {
   "cell_type": "code",
   "execution_count": null,
   "id": "0f08da2f",
   "metadata": {},
   "outputs": [],
   "source": []
  },
  {
   "cell_type": "markdown",
   "id": "78add3d3",
   "metadata": {},
   "source": [
    "### All clusters"
   ]
  },
  {
   "cell_type": "code",
   "execution_count": 67,
   "id": "051b2af2",
   "metadata": {},
   "outputs": [],
   "source": [
    "cluster_color_idxs = {\n",
    "    2: [17, 0],\n",
    "    3: [17, 8, 12], \n",
    "    4: [17, 8, 12, 14],\n",
    "    5: [17, 8, 10, 12, 14],\n",
    "    6: [17, 8, 10, 12, 4, 0],\n",
    "    7: [17, 8, 10, 12, 14, 4, 0],\n",
    "    8: [17, 8, 11, 12, 14, 4, 0, 2],\n",
    "    9: [17, 8, 10, 11, 12, 14, 4, 0, 2],\n",
    "    10: [17, 8, 9, 10, 11, 12, 14, 4, 0, 2],\n",
    "    11: [17, 8, 9, 10, 11, 12, 14, 4, 6, 0, 2],\n",
    "    12: [17, 8, 9, 10, 11, 11, 12, 14, 4, 6, 0, 2],\n",
    "    13: [17, 8, 9, 10, 11, 11, 12, 14, 4, 6, 0, 2, 3],\n",
    "    14: [16, 17, 8, 9, 10, 11, 11, 12, 14, 4, 6, 0, 2, 3],\n",
    "    # 15: [16, 17, 8, 9, 10, 11, 12, 14, 4, 5, 6, 7, 0, 2, 3],\n",
    "}\n",
    "struct_colors = {\n",
    "    acro: rgb2hex([\n",
    "        item / 255 for item in\n",
    "        allen['structure_tree'].get_structures_by_acronym([acro])[0]['rgb_triplet']\n",
    "    ]) for acro in major_masks\n",
    "}"
   ]
  },
  {
   "cell_type": "code",
   "execution_count": 68,
   "id": "dd80b910",
   "metadata": {
    "scrolled": true
   },
   "outputs": [
    {
     "data": {
      "text/html": [
       "<pre style=\"white-space:pre;overflow-x:auto;line-height:normal;font-family:Menlo,'DejaVu Sans Mono',consolas,'Courier New',monospace\">n_clusters = <span style=\"color: #008080; text-decoration-color: #008080; font-weight: bold\">2</span>\n",
       "</pre>\n"
      ],
      "text/plain": [
       "n_clusters = \u001b[1;36m2\u001b[0m\n"
      ]
     },
     "metadata": {},
     "output_type": "display_data"
    },
    {
     "data": {
      "text/html": [
       "<table style=\"border: 0;\"><tr style=\"border: 0;\"><td style=\"background-color: #1f77b4; border: 0;\"><code style=\"background-color: #1f77b4;\">#1f77b4</code></td><td style=\"border: 0\"><code>['(10)', '(128)']</code></td></tr></table>"
      ]
     },
     "metadata": {},
     "output_type": "display_data"
    },
    {
     "data": {
      "image/png": "[encoded data removed]"
     },
     "metadata": {},
     "output_type": "display_data"
    },
    {
     "data": {
      "text/html": [
       "<svg  width=\"110\" height=\"55\"><rect x=\"0\" y=\"0\" width=\"55\" height=\"55\" style=\"fill:#969696;stroke-width:2;stroke:rgb(255,255,255)\"/><rect x=\"55\" y=\"0\" width=\"55\" height=\"55\" style=\"fill:#3182bd;stroke-width:2;stroke:rgb(255,255,255)\"/></svg>"
      ]
     },
     "metadata": {},
     "output_type": "display_data"
    },
    {
     "data": {
      "text/html": [
       "<pre style=\"white-space:pre;overflow-x:auto;line-height:normal;font-family:Menlo,'DejaVu Sans Mono',consolas,'Courier New',monospace\">\n",
       "\n",
       "\n",
       "</pre>\n"
      ],
      "text/plain": [
       "\n",
       "\n",
       "\n"
      ]
     },
     "metadata": {},
     "output_type": "display_data"
    },
    {
     "data": {
      "text/html": [
       "<pre style=\"white-space:pre;overflow-x:auto;line-height:normal;font-family:Menlo,'DejaVu Sans Mono',consolas,'Courier New',monospace\"><span style=\"font-weight: bold\">[</span>PROGRESS<span style=\"font-weight: bold\">]</span> <span style=\"color: #008000; text-decoration-color: #008000\">'ses2-regions_n-2.html'</span> saved at\n",
       "<span style=\"color: #800080; text-decoration-color: #800080\">/home/hadi/Dropbox/git/jb-Ca-fMRI/</span><span style=\"color: #ff00ff; text-decoration-color: #ff00ff\">_extras</span>\n",
       "</pre>\n"
      ],
      "text/plain": [
       "\u001b[1m[\u001b[0mPROGRESS\u001b[1m]\u001b[0m \u001b[32m'ses2-regions_n-2.html'\u001b[0m saved at\n",
       "\u001b[35m/home/hadi/Dropbox/git/jb-Ca-fMRI/\u001b[0m\u001b[95m_extras\u001b[0m\n"
      ]
     },
     "metadata": {},
     "output_type": "display_data"
    },
    {
     "data": {
      "text/html": [
       "<pre style=\"white-space:pre;overflow-x:auto;line-height:normal;font-family:Menlo,'DejaVu Sans Mono',consolas,'Courier New',monospace\"><span style=\"font-weight: bold\">[</span>PROGRESS<span style=\"font-weight: bold\">]</span> <span style=\"color: #008000; text-decoration-color: #008000\">'ses2-clusters_n-2.html'</span> saved at\n",
       "<span style=\"color: #800080; text-decoration-color: #800080\">/home/hadi/Dropbox/git/jb-Ca-fMRI/</span><span style=\"color: #ff00ff; text-decoration-color: #ff00ff\">_extras</span>\n",
       "</pre>\n"
      ],
      "text/plain": [
       "\u001b[1m[\u001b[0mPROGRESS\u001b[1m]\u001b[0m \u001b[32m'ses2-clusters_n-2.html'\u001b[0m saved at\n",
       "\u001b[35m/home/hadi/Dropbox/git/jb-Ca-fMRI/\u001b[0m\u001b[95m_extras\u001b[0m\n"
      ]
     },
     "metadata": {},
     "output_type": "display_data"
    },
    {
     "data": {
      "text/html": [
       "<pre style=\"white-space:pre;overflow-x:auto;line-height:normal;font-family:Menlo,'DejaVu Sans Mono',consolas,'Courier New',monospace\">n_clusters = <span style=\"color: #008080; text-decoration-color: #008080; font-weight: bold\">3</span>\n",
       "</pre>\n"
      ],
      "text/plain": [
       "n_clusters = \u001b[1;36m3\u001b[0m\n"
      ]
     },
     "metadata": {},
     "output_type": "display_data"
    },
    {
     "data": {
      "text/html": [
       "<table style=\"border: 0;\"><tr style=\"border: 0;\"><td style=\"background-color: #1f77b4; border: 0;\"><code style=\"background-color: #1f77b4;\">#1f77b4</code></td><td style=\"border: 0\"><code>['(10)', '(53)', '(75)']</code></td></tr></table>"
      ]
     },
     "metadata": {},
     "output_type": "display_data"
    },
    {
     "data": {
      "image/png": "[encoded data removed]"
     },
     "metadata": {},
     "output_type": "display_data"
    },
    {
     "data": {
      "text/html": [
       "<svg  width=\"165\" height=\"55\"><rect x=\"0\" y=\"0\" width=\"55\" height=\"55\" style=\"fill:#969696;stroke-width:2;stroke:rgb(255,255,255)\"/><rect x=\"55\" y=\"0\" width=\"55\" height=\"55\" style=\"fill:#31a354;stroke-width:2;stroke:rgb(255,255,255)\"/><rect x=\"110\" y=\"0\" width=\"55\" height=\"55\" style=\"fill:#756bb1;stroke-width:2;stroke:rgb(255,255,255)\"/></svg>"
      ]
     },
     "metadata": {},
     "output_type": "display_data"
    },
    {
     "data": {
      "text/html": [
       "<pre style=\"white-space:pre;overflow-x:auto;line-height:normal;font-family:Menlo,'DejaVu Sans Mono',consolas,'Courier New',monospace\">\n",
       "\n",
       "\n",
       "</pre>\n"
      ],
      "text/plain": [
       "\n",
       "\n",
       "\n"
      ]
     },
     "metadata": {},
     "output_type": "display_data"
    },
    {
     "data": {
      "text/html": [
       "<pre style=\"white-space:pre;overflow-x:auto;line-height:normal;font-family:Menlo,'DejaVu Sans Mono',consolas,'Courier New',monospace\"><span style=\"font-weight: bold\">[</span>PROGRESS<span style=\"font-weight: bold\">]</span> <span style=\"color: #008000; text-decoration-color: #008000\">'ses2-regions_n-3.html'</span> saved at\n",
       "<span style=\"color: #800080; text-decoration-color: #800080\">/home/hadi/Dropbox/git/jb-Ca-fMRI/</span><span style=\"color: #ff00ff; text-decoration-color: #ff00ff\">_extras</span>\n",
       "</pre>\n"
      ],
      "text/plain": [
       "\u001b[1m[\u001b[0mPROGRESS\u001b[1m]\u001b[0m \u001b[32m'ses2-regions_n-3.html'\u001b[0m saved at\n",
       "\u001b[35m/home/hadi/Dropbox/git/jb-Ca-fMRI/\u001b[0m\u001b[95m_extras\u001b[0m\n"
      ]
     },
     "metadata": {},
     "output_type": "display_data"
    },
    {
     "data": {
      "text/html": [
       "<pre style=\"white-space:pre;overflow-x:auto;line-height:normal;font-family:Menlo,'DejaVu Sans Mono',consolas,'Courier New',monospace\"><span style=\"font-weight: bold\">[</span>PROGRESS<span style=\"font-weight: bold\">]</span> <span style=\"color: #008000; text-decoration-color: #008000\">'ses2-clusters_n-3.html'</span> saved at\n",
       "<span style=\"color: #800080; text-decoration-color: #800080\">/home/hadi/Dropbox/git/jb-Ca-fMRI/</span><span style=\"color: #ff00ff; text-decoration-color: #ff00ff\">_extras</span>\n",
       "</pre>\n"
      ],
      "text/plain": [
       "\u001b[1m[\u001b[0mPROGRESS\u001b[1m]\u001b[0m \u001b[32m'ses2-clusters_n-3.html'\u001b[0m saved at\n",
       "\u001b[35m/home/hadi/Dropbox/git/jb-Ca-fMRI/\u001b[0m\u001b[95m_extras\u001b[0m\n"
      ]
     },
     "metadata": {},
     "output_type": "display_data"
    },
    {
     "data": {
      "text/html": [
       "<pre style=\"white-space:pre;overflow-x:auto;line-height:normal;font-family:Menlo,'DejaVu Sans Mono',consolas,'Courier New',monospace\">n_clusters = <span style=\"color: #008080; text-decoration-color: #008080; font-weight: bold\">4</span>\n",
       "</pre>\n"
      ],
      "text/plain": [
       "n_clusters = \u001b[1;36m4\u001b[0m\n"
      ]
     },
     "metadata": {},
     "output_type": "display_data"
    },
    {
     "data": {
      "text/html": [
       "<table style=\"border: 0;\"><tr style=\"border: 0;\"><td style=\"background-color: #1f77b4; border: 0;\"><code style=\"background-color: #1f77b4;\">#1f77b4</code></td><td style=\"border: 0\"><code>['(10)', '(53)', '(31)', '(44)']</code></td></tr></table>"
      ]
     },
     "metadata": {},
     "output_type": "display_data"
    },
    {
     "data": {
      "image/png": "[encoded data removed]"
     },
     "metadata": {},
     "output_type": "display_data"
    },
    {
     "data": {
      "text/html": [
       "<svg  width=\"220\" height=\"55\"><rect x=\"0\" y=\"0\" width=\"55\" height=\"55\" style=\"fill:#969696;stroke-width:2;stroke:rgb(255,255,255)\"/><rect x=\"55\" y=\"0\" width=\"55\" height=\"55\" style=\"fill:#31a354;stroke-width:2;stroke:rgb(255,255,255)\"/><rect x=\"110\" y=\"0\" width=\"55\" height=\"55\" style=\"fill:#756bb1;stroke-width:2;stroke:rgb(255,255,255)\"/><rect x=\"165\" y=\"0\" width=\"55\" height=\"55\" style=\"fill:#bcbddc;stroke-width:2;stroke:rgb(255,255,255)\"/></svg>"
      ]
     },
     "metadata": {},
     "output_type": "display_data"
    },
    {
     "data": {
      "text/html": [
       "<pre style=\"white-space:pre;overflow-x:auto;line-height:normal;font-family:Menlo,'DejaVu Sans Mono',consolas,'Courier New',monospace\">\n",
       "\n",
       "\n",
       "</pre>\n"
      ],
      "text/plain": [
       "\n",
       "\n",
       "\n"
      ]
     },
     "metadata": {},
     "output_type": "display_data"
    },
    {
     "data": {
      "text/html": [
       "<pre style=\"white-space:pre;overflow-x:auto;line-height:normal;font-family:Menlo,'DejaVu Sans Mono',consolas,'Courier New',monospace\"><span style=\"font-weight: bold\">[</span>PROGRESS<span style=\"font-weight: bold\">]</span> <span style=\"color: #008000; text-decoration-color: #008000\">'ses2-regions_n-4.html'</span> saved at\n",
       "<span style=\"color: #800080; text-decoration-color: #800080\">/home/hadi/Dropbox/git/jb-Ca-fMRI/</span><span style=\"color: #ff00ff; text-decoration-color: #ff00ff\">_extras</span>\n",
       "</pre>\n"
      ],
      "text/plain": [
       "\u001b[1m[\u001b[0mPROGRESS\u001b[1m]\u001b[0m \u001b[32m'ses2-regions_n-4.html'\u001b[0m saved at\n",
       "\u001b[35m/home/hadi/Dropbox/git/jb-Ca-fMRI/\u001b[0m\u001b[95m_extras\u001b[0m\n"
      ]
     },
     "metadata": {},
     "output_type": "display_data"
    },
    {
     "data": {
      "text/html": [
       "<pre style=\"white-space:pre;overflow-x:auto;line-height:normal;font-family:Menlo,'DejaVu Sans Mono',consolas,'Courier New',monospace\"><span style=\"font-weight: bold\">[</span>PROGRESS<span style=\"font-weight: bold\">]</span> <span style=\"color: #008000; text-decoration-color: #008000\">'ses2-clusters_n-4.html'</span> saved at\n",
       "<span style=\"color: #800080; text-decoration-color: #800080\">/home/hadi/Dropbox/git/jb-Ca-fMRI/</span><span style=\"color: #ff00ff; text-decoration-color: #ff00ff\">_extras</span>\n",
       "</pre>\n"
      ],
      "text/plain": [
       "\u001b[1m[\u001b[0mPROGRESS\u001b[1m]\u001b[0m \u001b[32m'ses2-clusters_n-4.html'\u001b[0m saved at\n",
       "\u001b[35m/home/hadi/Dropbox/git/jb-Ca-fMRI/\u001b[0m\u001b[95m_extras\u001b[0m\n"
      ]
     },
     "metadata": {},
     "output_type": "display_data"
    },
    {
     "data": {
      "text/html": [
       "<pre style=\"white-space:pre;overflow-x:auto;line-height:normal;font-family:Menlo,'DejaVu Sans Mono',consolas,'Courier New',monospace\">n_clusters = <span style=\"color: #008080; text-decoration-color: #008080; font-weight: bold\">5</span>\n",
       "</pre>\n"
      ],
      "text/plain": [
       "n_clusters = \u001b[1;36m5\u001b[0m\n"
      ]
     },
     "metadata": {},
     "output_type": "display_data"
    },
    {
     "data": {
      "text/html": [
       "<table style=\"border: 0;\"><tr style=\"border: 0;\"><td style=\"background-color: #1f77b4; border: 0;\"><code style=\"background-color: #1f77b4;\">#1f77b4</code></td><td style=\"border: 0\"><code>['(10)', '(31)', '(44)']</code></td></tr><tr style=\"border: 0;\"><td style=\"background-color: #ff7f0e; border: 0;\"><code style=\"background-color: #ff7f0e;\">#ff7f0e</code></td><td style=\"border: 0\"><code>['(21)', '(32)']</code></td></tr></table>"
      ]
     },
     "metadata": {},
     "output_type": "display_data"
    },
    {
     "data": {
      "image/png": "[encoded data removed]"
     },
     "metadata": {},
     "output_type": "display_data"
    },
    {
     "data": {
      "text/html": [
       "<svg  width=\"275\" height=\"55\"><rect x=\"0\" y=\"0\" width=\"55\" height=\"55\" style=\"fill:#969696;stroke-width:2;stroke:rgb(255,255,255)\"/><rect x=\"55\" y=\"0\" width=\"55\" height=\"55\" style=\"fill:#31a354;stroke-width:2;stroke:rgb(255,255,255)\"/><rect x=\"110\" y=\"0\" width=\"55\" height=\"55\" style=\"fill:#a1d99b;stroke-width:2;stroke:rgb(255,255,255)\"/><rect x=\"165\" y=\"0\" width=\"55\" height=\"55\" style=\"fill:#756bb1;stroke-width:2;stroke:rgb(255,255,255)\"/><rect x=\"220\" y=\"0\" width=\"55\" height=\"55\" style=\"fill:#bcbddc;stroke-width:2;stroke:rgb(255,255,255)\"/></svg>"
      ]
     },
     "metadata": {},
     "output_type": "display_data"
    },
    {
     "data": {
      "text/html": [
       "<pre style=\"white-space:pre;overflow-x:auto;line-height:normal;font-family:Menlo,'DejaVu Sans Mono',consolas,'Courier New',monospace\">\n",
       "\n",
       "\n",
       "</pre>\n"
      ],
      "text/plain": [
       "\n",
       "\n",
       "\n"
      ]
     },
     "metadata": {},
     "output_type": "display_data"
    },
    {
     "data": {
      "text/html": [
       "<pre style=\"white-space:pre;overflow-x:auto;line-height:normal;font-family:Menlo,'DejaVu Sans Mono',consolas,'Courier New',monospace\"><span style=\"font-weight: bold\">[</span>PROGRESS<span style=\"font-weight: bold\">]</span> <span style=\"color: #008000; text-decoration-color: #008000\">'ses2-regions_n-5.html'</span> saved at\n",
       "<span style=\"color: #800080; text-decoration-color: #800080\">/home/hadi/Dropbox/git/jb-Ca-fMRI/</span><span style=\"color: #ff00ff; text-decoration-color: #ff00ff\">_extras</span>\n",
       "</pre>\n"
      ],
      "text/plain": [
       "\u001b[1m[\u001b[0mPROGRESS\u001b[1m]\u001b[0m \u001b[32m'ses2-regions_n-5.html'\u001b[0m saved at\n",
       "\u001b[35m/home/hadi/Dropbox/git/jb-Ca-fMRI/\u001b[0m\u001b[95m_extras\u001b[0m\n"
      ]
     },
     "metadata": {},
     "output_type": "display_data"
    },
    {
     "data": {
      "text/html": [
       "<pre style=\"white-space:pre;overflow-x:auto;line-height:normal;font-family:Menlo,'DejaVu Sans Mono',consolas,'Courier New',monospace\"><span style=\"font-weight: bold\">[</span>PROGRESS<span style=\"font-weight: bold\">]</span> <span style=\"color: #008000; text-decoration-color: #008000\">'ses2-clusters_n-5.html'</span> saved at\n",
       "<span style=\"color: #800080; text-decoration-color: #800080\">/home/hadi/Dropbox/git/jb-Ca-fMRI/</span><span style=\"color: #ff00ff; text-decoration-color: #ff00ff\">_extras</span>\n",
       "</pre>\n"
      ],
      "text/plain": [
       "\u001b[1m[\u001b[0mPROGRESS\u001b[1m]\u001b[0m \u001b[32m'ses2-clusters_n-5.html'\u001b[0m saved at\n",
       "\u001b[35m/home/hadi/Dropbox/git/jb-Ca-fMRI/\u001b[0m\u001b[95m_extras\u001b[0m\n"
      ]
     },
     "metadata": {},
     "output_type": "display_data"
    },
    {
     "data": {
      "text/html": [
       "<pre style=\"white-space:pre;overflow-x:auto;line-height:normal;font-family:Menlo,'DejaVu Sans Mono',consolas,'Courier New',monospace\">n_clusters = <span style=\"color: #008080; text-decoration-color: #008080; font-weight: bold\">6</span>\n",
       "</pre>\n"
      ],
      "text/plain": [
       "n_clusters = \u001b[1;36m6\u001b[0m\n"
      ]
     },
     "metadata": {},
     "output_type": "display_data"
    },
    {
     "data": {
      "text/html": [
       "<table style=\"border: 0;\"><tr style=\"border: 0;\"><td style=\"background-color: #1f77b4; border: 0;\"><code style=\"background-color: #1f77b4;\">#1f77b4</code></td><td style=\"border: 0\"><code>['(10)', '(31)']</code></td></tr><tr style=\"border: 0;\"><td style=\"background-color: #ff7f0e; border: 0;\"><code style=\"background-color: #ff7f0e;\">#ff7f0e</code></td><td style=\"border: 0\"><code>['(21)', '(32)']</code></td></tr><tr style=\"border: 0;\"><td style=\"background-color: #2ca02c; border: 0;\"><code style=\"background-color: #2ca02c;\">#2ca02c</code></td><td style=\"border: 0\"><code>['(19)', '(25)']</code></td></tr></table>"
      ]
     },
     "metadata": {},
     "output_type": "display_data"
    },
    {
     "data": {
      "image/png": "[encoded data removed]"
     },
     "metadata": {},
     "output_type": "display_data"
    },
    {
     "data": {
      "text/html": [
       "<svg  width=\"330\" height=\"55\"><rect x=\"0\" y=\"0\" width=\"55\" height=\"55\" style=\"fill:#969696;stroke-width:2;stroke:rgb(255,255,255)\"/><rect x=\"55\" y=\"0\" width=\"55\" height=\"55\" style=\"fill:#31a354;stroke-width:2;stroke:rgb(255,255,255)\"/><rect x=\"110\" y=\"0\" width=\"55\" height=\"55\" style=\"fill:#a1d99b;stroke-width:2;stroke:rgb(255,255,255)\"/><rect x=\"165\" y=\"0\" width=\"55\" height=\"55\" style=\"fill:#756bb1;stroke-width:2;stroke:rgb(255,255,255)\"/><rect x=\"220\" y=\"0\" width=\"55\" height=\"55\" style=\"fill:#e6550d;stroke-width:2;stroke:rgb(255,255,255)\"/><rect x=\"275\" y=\"0\" width=\"55\" height=\"55\" style=\"fill:#3182bd;stroke-width:2;stroke:rgb(255,255,255)\"/></svg>"
      ]
     },
     "metadata": {},
     "output_type": "display_data"
    },
    {
     "data": {
      "text/html": [
       "<pre style=\"white-space:pre;overflow-x:auto;line-height:normal;font-family:Menlo,'DejaVu Sans Mono',consolas,'Courier New',monospace\">\n",
       "\n",
       "\n",
       "</pre>\n"
      ],
      "text/plain": [
       "\n",
       "\n",
       "\n"
      ]
     },
     "metadata": {},
     "output_type": "display_data"
    },
    {
     "data": {
      "text/html": [
       "<pre style=\"white-space:pre;overflow-x:auto;line-height:normal;font-family:Menlo,'DejaVu Sans Mono',consolas,'Courier New',monospace\"><span style=\"font-weight: bold\">[</span>PROGRESS<span style=\"font-weight: bold\">]</span> <span style=\"color: #008000; text-decoration-color: #008000\">'ses2-regions_n-6.html'</span> saved at\n",
       "<span style=\"color: #800080; text-decoration-color: #800080\">/home/hadi/Dropbox/git/jb-Ca-fMRI/</span><span style=\"color: #ff00ff; text-decoration-color: #ff00ff\">_extras</span>\n",
       "</pre>\n"
      ],
      "text/plain": [
       "\u001b[1m[\u001b[0mPROGRESS\u001b[1m]\u001b[0m \u001b[32m'ses2-regions_n-6.html'\u001b[0m saved at\n",
       "\u001b[35m/home/hadi/Dropbox/git/jb-Ca-fMRI/\u001b[0m\u001b[95m_extras\u001b[0m\n"
      ]
     },
     "metadata": {},
     "output_type": "display_data"
    },
    {
     "data": {
      "text/html": [
       "<pre style=\"white-space:pre;overflow-x:auto;line-height:normal;font-family:Menlo,'DejaVu Sans Mono',consolas,'Courier New',monospace\"><span style=\"font-weight: bold\">[</span>PROGRESS<span style=\"font-weight: bold\">]</span> <span style=\"color: #008000; text-decoration-color: #008000\">'ses2-clusters_n-6.html'</span> saved at\n",
       "<span style=\"color: #800080; text-decoration-color: #800080\">/home/hadi/Dropbox/git/jb-Ca-fMRI/</span><span style=\"color: #ff00ff; text-decoration-color: #ff00ff\">_extras</span>\n",
       "</pre>\n"
      ],
      "text/plain": [
       "\u001b[1m[\u001b[0mPROGRESS\u001b[1m]\u001b[0m \u001b[32m'ses2-clusters_n-6.html'\u001b[0m saved at\n",
       "\u001b[35m/home/hadi/Dropbox/git/jb-Ca-fMRI/\u001b[0m\u001b[95m_extras\u001b[0m\n"
      ]
     },
     "metadata": {},
     "output_type": "display_data"
    },
    {
     "data": {
      "text/html": [
       "<pre style=\"white-space:pre;overflow-x:auto;line-height:normal;font-family:Menlo,'DejaVu Sans Mono',consolas,'Courier New',monospace\">n_clusters = <span style=\"color: #008080; text-decoration-color: #008080; font-weight: bold\">7</span>\n",
       "</pre>\n"
      ],
      "text/plain": [
       "n_clusters = \u001b[1;36m7\u001b[0m\n"
      ]
     },
     "metadata": {},
     "output_type": "display_data"
    },
    {
     "data": {
      "text/html": [
       "<table style=\"border: 0;\"><tr style=\"border: 0;\"><td style=\"background-color: #1f77b4; border: 0;\"><code style=\"background-color: #1f77b4;\">#1f77b4</code></td><td style=\"border: 0\"><code>['(10)']</code></td></tr><tr style=\"border: 0;\"><td style=\"background-color: #ff7f0e; border: 0;\"><code style=\"background-color: #ff7f0e;\">#ff7f0e</code></td><td style=\"border: 0\"><code>['(21)', '(32)']</code></td></tr><tr style=\"border: 0;\"><td style=\"background-color: #2ca02c; border: 0;\"><code style=\"background-color: #2ca02c;\">#2ca02c</code></td><td style=\"border: 0\"><code>['(14)', '(17)']</code></td></tr><tr style=\"border: 0;\"><td style=\"background-color: #d62728; border: 0;\"><code style=\"background-color: #d62728;\">#d62728</code></td><td style=\"border: 0\"><code>['(19)', '(25)']</code></td></tr></table>"
      ]
     },
     "metadata": {},
     "output_type": "display_data"
    },
    {
     "data": {
      "image/png": "[encoded data removed]"
     },
     "metadata": {},
     "output_type": "display_data"
    },
    {
     "data": {
      "text/html": [
       "<svg  width=\"385\" height=\"55\"><rect x=\"0\" y=\"0\" width=\"55\" height=\"55\" style=\"fill:#969696;stroke-width:2;stroke:rgb(255,255,255)\"/><rect x=\"55\" y=\"0\" width=\"55\" height=\"55\" style=\"fill:#31a354;stroke-width:2;stroke:rgb(255,255,255)\"/><rect x=\"110\" y=\"0\" width=\"55\" height=\"55\" style=\"fill:#a1d99b;stroke-width:2;stroke:rgb(255,255,255)\"/><rect x=\"165\" y=\"0\" width=\"55\" height=\"55\" style=\"fill:#756bb1;stroke-width:2;stroke:rgb(255,255,255)\"/><rect x=\"220\" y=\"0\" width=\"55\" height=\"55\" style=\"fill:#bcbddc;stroke-width:2;stroke:rgb(255,255,255)\"/><rect x=\"275\" y=\"0\" width=\"55\" height=\"55\" style=\"fill:#e6550d;stroke-width:2;stroke:rgb(255,255,255)\"/><rect x=\"330\" y=\"0\" width=\"55\" height=\"55\" style=\"fill:#3182bd;stroke-width:2;stroke:rgb(255,255,255)\"/></svg>"
      ]
     },
     "metadata": {},
     "output_type": "display_data"
    },
    {
     "data": {
      "text/html": [
       "<pre style=\"white-space:pre;overflow-x:auto;line-height:normal;font-family:Menlo,'DejaVu Sans Mono',consolas,'Courier New',monospace\">\n",
       "\n",
       "\n",
       "</pre>\n"
      ],
      "text/plain": [
       "\n",
       "\n",
       "\n"
      ]
     },
     "metadata": {},
     "output_type": "display_data"
    },
    {
     "data": {
      "text/html": [
       "<pre style=\"white-space:pre;overflow-x:auto;line-height:normal;font-family:Menlo,'DejaVu Sans Mono',consolas,'Courier New',monospace\"><span style=\"font-weight: bold\">[</span>PROGRESS<span style=\"font-weight: bold\">]</span> <span style=\"color: #008000; text-decoration-color: #008000\">'ses2-regions_n-7.html'</span> saved at\n",
       "<span style=\"color: #800080; text-decoration-color: #800080\">/home/hadi/Dropbox/git/jb-Ca-fMRI/</span><span style=\"color: #ff00ff; text-decoration-color: #ff00ff\">_extras</span>\n",
       "</pre>\n"
      ],
      "text/plain": [
       "\u001b[1m[\u001b[0mPROGRESS\u001b[1m]\u001b[0m \u001b[32m'ses2-regions_n-7.html'\u001b[0m saved at\n",
       "\u001b[35m/home/hadi/Dropbox/git/jb-Ca-fMRI/\u001b[0m\u001b[95m_extras\u001b[0m\n"
      ]
     },
     "metadata": {},
     "output_type": "display_data"
    },
    {
     "data": {
      "text/html": [
       "<pre style=\"white-space:pre;overflow-x:auto;line-height:normal;font-family:Menlo,'DejaVu Sans Mono',consolas,'Courier New',monospace\"><span style=\"font-weight: bold\">[</span>PROGRESS<span style=\"font-weight: bold\">]</span> <span style=\"color: #008000; text-decoration-color: #008000\">'ses2-clusters_n-7.html'</span> saved at\n",
       "<span style=\"color: #800080; text-decoration-color: #800080\">/home/hadi/Dropbox/git/jb-Ca-fMRI/</span><span style=\"color: #ff00ff; text-decoration-color: #ff00ff\">_extras</span>\n",
       "</pre>\n"
      ],
      "text/plain": [
       "\u001b[1m[\u001b[0mPROGRESS\u001b[1m]\u001b[0m \u001b[32m'ses2-clusters_n-7.html'\u001b[0m saved at\n",
       "\u001b[35m/home/hadi/Dropbox/git/jb-Ca-fMRI/\u001b[0m\u001b[95m_extras\u001b[0m\n"
      ]
     },
     "metadata": {},
     "output_type": "display_data"
    },
    {
     "data": {
      "text/html": [
       "<pre style=\"white-space:pre;overflow-x:auto;line-height:normal;font-family:Menlo,'DejaVu Sans Mono',consolas,'Courier New',monospace\">n_clusters = <span style=\"color: #008080; text-decoration-color: #008080; font-weight: bold\">8</span>\n",
       "</pre>\n"
      ],
      "text/plain": [
       "n_clusters = \u001b[1;36m8\u001b[0m\n"
      ]
     },
     "metadata": {},
     "output_type": "display_data"
    },
    {
     "data": {
      "text/html": [
       "<table style=\"border: 0;\"><tr style=\"border: 0;\"><td style=\"background-color: #1f77b4; border: 0;\"><code style=\"background-color: #1f77b4;\">#1f77b4</code></td><td style=\"border: 0\"><code>['(10)']</code></td></tr><tr style=\"border: 0;\"><td style=\"background-color: #ff7f0e; border: 0;\"><code style=\"background-color: #ff7f0e;\">#ff7f0e</code></td><td style=\"border: 0\"><code>['(21)', '(32)']</code></td></tr><tr style=\"border: 0;\"><td style=\"background-color: #2ca02c; border: 0;\"><code style=\"background-color: #2ca02c;\">#2ca02c</code></td><td style=\"border: 0\"><code>['(14)', '(17)']</code></td></tr><tr style=\"border: 0;\"><td style=\"background-color: #d62728; border: 0;\"><code style=\"background-color: #d62728;\">#d62728</code></td><td style=\"border: 0\"><code>['(19)', '(10)', '(15)']</code></td></tr></table>"
      ]
     },
     "metadata": {},
     "output_type": "display_data"
    },
    {
     "data": {
      "image/png": "[encoded data removed]"
     },
     "metadata": {},
     "output_type": "display_data"
    },
    {
     "data": {
      "text/html": [
       "<svg  width=\"440\" height=\"55\"><rect x=\"0\" y=\"0\" width=\"55\" height=\"55\" style=\"fill:#969696;stroke-width:2;stroke:rgb(255,255,255)\"/><rect x=\"55\" y=\"0\" width=\"55\" height=\"55\" style=\"fill:#31a354;stroke-width:2;stroke:rgb(255,255,255)\"/><rect x=\"110\" y=\"0\" width=\"55\" height=\"55\" style=\"fill:#c7e9c0;stroke-width:2;stroke:rgb(255,255,255)\"/><rect x=\"165\" y=\"0\" width=\"55\" height=\"55\" style=\"fill:#756bb1;stroke-width:2;stroke:rgb(255,255,255)\"/><rect x=\"220\" y=\"0\" width=\"55\" height=\"55\" style=\"fill:#bcbddc;stroke-width:2;stroke:rgb(255,255,255)\"/><rect x=\"275\" y=\"0\" width=\"55\" height=\"55\" style=\"fill:#e6550d;stroke-width:2;stroke:rgb(255,255,255)\"/><rect x=\"330\" y=\"0\" width=\"55\" height=\"55\" style=\"fill:#3182bd;stroke-width:2;stroke:rgb(255,255,255)\"/><rect x=\"385\" y=\"0\" width=\"55\" height=\"55\" style=\"fill:#9ecae1;stroke-width:2;stroke:rgb(255,255,255)\"/></svg>"
      ]
     },
     "metadata": {},
     "output_type": "display_data"
    },
    {
     "data": {
      "text/html": [
       "<pre style=\"white-space:pre;overflow-x:auto;line-height:normal;font-family:Menlo,'DejaVu Sans Mono',consolas,'Courier New',monospace\">\n",
       "\n",
       "\n",
       "</pre>\n"
      ],
      "text/plain": [
       "\n",
       "\n",
       "\n"
      ]
     },
     "metadata": {},
     "output_type": "display_data"
    },
    {
     "data": {
      "text/html": [
       "<pre style=\"white-space:pre;overflow-x:auto;line-height:normal;font-family:Menlo,'DejaVu Sans Mono',consolas,'Courier New',monospace\"><span style=\"font-weight: bold\">[</span>PROGRESS<span style=\"font-weight: bold\">]</span> <span style=\"color: #008000; text-decoration-color: #008000\">'ses2-regions_n-8.html'</span> saved at\n",
       "<span style=\"color: #800080; text-decoration-color: #800080\">/home/hadi/Dropbox/git/jb-Ca-fMRI/</span><span style=\"color: #ff00ff; text-decoration-color: #ff00ff\">_extras</span>\n",
       "</pre>\n"
      ],
      "text/plain": [
       "\u001b[1m[\u001b[0mPROGRESS\u001b[1m]\u001b[0m \u001b[32m'ses2-regions_n-8.html'\u001b[0m saved at\n",
       "\u001b[35m/home/hadi/Dropbox/git/jb-Ca-fMRI/\u001b[0m\u001b[95m_extras\u001b[0m\n"
      ]
     },
     "metadata": {},
     "output_type": "display_data"
    },
    {
     "data": {
      "text/html": [
       "<pre style=\"white-space:pre;overflow-x:auto;line-height:normal;font-family:Menlo,'DejaVu Sans Mono',consolas,'Courier New',monospace\"><span style=\"font-weight: bold\">[</span>PROGRESS<span style=\"font-weight: bold\">]</span> <span style=\"color: #008000; text-decoration-color: #008000\">'ses2-clusters_n-8.html'</span> saved at\n",
       "<span style=\"color: #800080; text-decoration-color: #800080\">/home/hadi/Dropbox/git/jb-Ca-fMRI/</span><span style=\"color: #ff00ff; text-decoration-color: #ff00ff\">_extras</span>\n",
       "</pre>\n"
      ],
      "text/plain": [
       "\u001b[1m[\u001b[0mPROGRESS\u001b[1m]\u001b[0m \u001b[32m'ses2-clusters_n-8.html'\u001b[0m saved at\n",
       "\u001b[35m/home/hadi/Dropbox/git/jb-Ca-fMRI/\u001b[0m\u001b[95m_extras\u001b[0m\n"
      ]
     },
     "metadata": {},
     "output_type": "display_data"
    },
    {
     "data": {
      "text/html": [
       "<pre style=\"white-space:pre;overflow-x:auto;line-height:normal;font-family:Menlo,'DejaVu Sans Mono',consolas,'Courier New',monospace\">n_clusters = <span style=\"color: #008080; text-decoration-color: #008080; font-weight: bold\">9</span>\n",
       "</pre>\n"
      ],
      "text/plain": [
       "n_clusters = \u001b[1;36m9\u001b[0m\n"
      ]
     },
     "metadata": {},
     "output_type": "display_data"
    },
    {
     "data": {
      "text/html": [
       "<table style=\"border: 0;\"><tr style=\"border: 0;\"><td style=\"background-color: #1f77b4; border: 0;\"><code style=\"background-color: #1f77b4;\">#1f77b4</code></td><td style=\"border: 0\"><code>['(10)']</code></td></tr><tr style=\"border: 0;\"><td style=\"background-color: #ff7f0e; border: 0;\"><code style=\"background-color: #ff7f0e;\">#ff7f0e</code></td><td style=\"border: 0\"><code>['(21)', '(11)', '(21)']</code></td></tr><tr style=\"border: 0;\"><td style=\"background-color: #2ca02c; border: 0;\"><code style=\"background-color: #2ca02c;\">#2ca02c</code></td><td style=\"border: 0\"><code>['(14)', '(17)']</code></td></tr><tr style=\"border: 0;\"><td style=\"background-color: #d62728; border: 0;\"><code style=\"background-color: #d62728;\">#d62728</code></td><td style=\"border: 0\"><code>['(15)', '(19)', '(10)']</code></td></tr></table>"
      ]
     },
     "metadata": {},
     "output_type": "display_data"
    },
    {
     "data": {
      "image/png": "[encoded data removed]"
     },
     "metadata": {},
     "output_type": "display_data"
    },
    {
     "data": {
      "text/html": [
       "<svg  width=\"495\" height=\"55\"><rect x=\"0\" y=\"0\" width=\"55\" height=\"55\" style=\"fill:#969696;stroke-width:2;stroke:rgb(255,255,255)\"/><rect x=\"55\" y=\"0\" width=\"55\" height=\"55\" style=\"fill:#31a354;stroke-width:2;stroke:rgb(255,255,255)\"/><rect x=\"110\" y=\"0\" width=\"55\" height=\"55\" style=\"fill:#a1d99b;stroke-width:2;stroke:rgb(255,255,255)\"/><rect x=\"165\" y=\"0\" width=\"55\" height=\"55\" style=\"fill:#c7e9c0;stroke-width:2;stroke:rgb(255,255,255)\"/><rect x=\"220\" y=\"0\" width=\"55\" height=\"55\" style=\"fill:#756bb1;stroke-width:2;stroke:rgb(255,255,255)\"/><rect x=\"275\" y=\"0\" width=\"55\" height=\"55\" style=\"fill:#bcbddc;stroke-width:2;stroke:rgb(255,255,255)\"/><rect x=\"330\" y=\"0\" width=\"55\" height=\"55\" style=\"fill:#e6550d;stroke-width:2;stroke:rgb(255,255,255)\"/><rect x=\"385\" y=\"0\" width=\"55\" height=\"55\" style=\"fill:#3182bd;stroke-width:2;stroke:rgb(255,255,255)\"/><rect x=\"440\" y=\"0\" width=\"55\" height=\"55\" style=\"fill:#9ecae1;stroke-width:2;stroke:rgb(255,255,255)\"/></svg>"
      ]
     },
     "metadata": {},
     "output_type": "display_data"
    },
    {
     "data": {
      "text/html": [
       "<pre style=\"white-space:pre;overflow-x:auto;line-height:normal;font-family:Menlo,'DejaVu Sans Mono',consolas,'Courier New',monospace\">\n",
       "\n",
       "\n",
       "</pre>\n"
      ],
      "text/plain": [
       "\n",
       "\n",
       "\n"
      ]
     },
     "metadata": {},
     "output_type": "display_data"
    },
    {
     "data": {
      "text/html": [
       "<pre style=\"white-space:pre;overflow-x:auto;line-height:normal;font-family:Menlo,'DejaVu Sans Mono',consolas,'Courier New',monospace\"><span style=\"font-weight: bold\">[</span>PROGRESS<span style=\"font-weight: bold\">]</span> <span style=\"color: #008000; text-decoration-color: #008000\">'ses2-regions_n-9.html'</span> saved at\n",
       "<span style=\"color: #800080; text-decoration-color: #800080\">/home/hadi/Dropbox/git/jb-Ca-fMRI/</span><span style=\"color: #ff00ff; text-decoration-color: #ff00ff\">_extras</span>\n",
       "</pre>\n"
      ],
      "text/plain": [
       "\u001b[1m[\u001b[0mPROGRESS\u001b[1m]\u001b[0m \u001b[32m'ses2-regions_n-9.html'\u001b[0m saved at\n",
       "\u001b[35m/home/hadi/Dropbox/git/jb-Ca-fMRI/\u001b[0m\u001b[95m_extras\u001b[0m\n"
      ]
     },
     "metadata": {},
     "output_type": "display_data"
    },
    {
     "data": {
      "text/html": [
       "<pre style=\"white-space:pre;overflow-x:auto;line-height:normal;font-family:Menlo,'DejaVu Sans Mono',consolas,'Courier New',monospace\"><span style=\"font-weight: bold\">[</span>PROGRESS<span style=\"font-weight: bold\">]</span> <span style=\"color: #008000; text-decoration-color: #008000\">'ses2-clusters_n-9.html'</span> saved at\n",
       "<span style=\"color: #800080; text-decoration-color: #800080\">/home/hadi/Dropbox/git/jb-Ca-fMRI/</span><span style=\"color: #ff00ff; text-decoration-color: #ff00ff\">_extras</span>\n",
       "</pre>\n"
      ],
      "text/plain": [
       "\u001b[1m[\u001b[0mPROGRESS\u001b[1m]\u001b[0m \u001b[32m'ses2-clusters_n-9.html'\u001b[0m saved at\n",
       "\u001b[35m/home/hadi/Dropbox/git/jb-Ca-fMRI/\u001b[0m\u001b[95m_extras\u001b[0m\n"
      ]
     },
     "metadata": {},
     "output_type": "display_data"
    },
    {
     "data": {
      "text/html": [
       "<pre style=\"white-space:pre;overflow-x:auto;line-height:normal;font-family:Menlo,'DejaVu Sans Mono',consolas,'Courier New',monospace\">n_clusters = <span style=\"color: #008080; text-decoration-color: #008080; font-weight: bold\">10</span>\n",
       "</pre>\n"
      ],
      "text/plain": [
       "n_clusters = \u001b[1;36m10\u001b[0m\n"
      ]
     },
     "metadata": {},
     "output_type": "display_data"
    },
    {
     "data": {
      "text/html": [
       "<table style=\"border: 0;\"><tr style=\"border: 0;\"><td style=\"background-color: #1f77b4; border: 0;\"><code style=\"background-color: #1f77b4;\">#1f77b4</code></td><td style=\"border: 0\"><code>['(10)']</code></td></tr><tr style=\"border: 0;\"><td style=\"background-color: #ff7f0e; border: 0;\"><code style=\"background-color: #ff7f0e;\">#ff7f0e</code></td><td style=\"border: 0\"><code>['(21)', '(11)', '(8)', '(13)']</code></td></tr><tr style=\"border: 0;\"><td style=\"background-color: #2ca02c; border: 0;\"><code style=\"background-color: #2ca02c;\">#2ca02c</code></td><td style=\"border: 0\"><code>['(14)', '(17)']</code></td></tr><tr style=\"border: 0;\"><td style=\"background-color: #d62728; border: 0;\"><code style=\"background-color: #d62728;\">#d62728</code></td><td style=\"border: 0\"><code>['(10)', '(15)', '(19)']</code></td></tr></table>"
      ]
     },
     "metadata": {},
     "output_type": "display_data"
    },
    {
     "data": {
      "image/png": "[encoded data removed]"
     },
     "metadata": {},
     "output_type": "display_data"
    },
    {
     "data": {
      "text/html": [
       "<svg  width=\"550\" height=\"55\"><rect x=\"0\" y=\"0\" width=\"55\" height=\"55\" style=\"fill:#969696;stroke-width:2;stroke:rgb(255,255,255)\"/><rect x=\"55\" y=\"0\" width=\"55\" height=\"55\" style=\"fill:#31a354;stroke-width:2;stroke:rgb(255,255,255)\"/><rect x=\"110\" y=\"0\" width=\"55\" height=\"55\" style=\"fill:#74c476;stroke-width:2;stroke:rgb(255,255,255)\"/><rect x=\"165\" y=\"0\" width=\"55\" height=\"55\" style=\"fill:#a1d99b;stroke-width:2;stroke:rgb(255,255,255)\"/><rect x=\"220\" y=\"0\" width=\"55\" height=\"55\" style=\"fill:#c7e9c0;stroke-width:2;stroke:rgb(255,255,255)\"/><rect x=\"275\" y=\"0\" width=\"55\" height=\"55\" style=\"fill:#756bb1;stroke-width:2;stroke:rgb(255,255,255)\"/><rect x=\"330\" y=\"0\" width=\"55\" height=\"55\" style=\"fill:#bcbddc;stroke-width:2;stroke:rgb(255,255,255)\"/><rect x=\"385\" y=\"0\" width=\"55\" height=\"55\" style=\"fill:#e6550d;stroke-width:2;stroke:rgb(255,255,255)\"/><rect x=\"440\" y=\"0\" width=\"55\" height=\"55\" style=\"fill:#3182bd;stroke-width:2;stroke:rgb(255,255,255)\"/><rect x=\"495\" y=\"0\" width=\"55\" height=\"55\" style=\"fill:#9ecae1;stroke-width:2;stroke:rgb(255,255,255)\"/></svg>"
      ]
     },
     "metadata": {},
     "output_type": "display_data"
    },
    {
     "data": {
      "text/html": [
       "<pre style=\"white-space:pre;overflow-x:auto;line-height:normal;font-family:Menlo,'DejaVu Sans Mono',consolas,'Courier New',monospace\">\n",
       "\n",
       "\n",
       "</pre>\n"
      ],
      "text/plain": [
       "\n",
       "\n",
       "\n"
      ]
     },
     "metadata": {},
     "output_type": "display_data"
    },
    {
     "data": {
      "text/html": [
       "<pre style=\"white-space:pre;overflow-x:auto;line-height:normal;font-family:Menlo,'DejaVu Sans Mono',consolas,'Courier New',monospace\"><span style=\"font-weight: bold\">[</span>PROGRESS<span style=\"font-weight: bold\">]</span> <span style=\"color: #008000; text-decoration-color: #008000\">'ses2-regions_n-10.html'</span> saved at\n",
       "<span style=\"color: #800080; text-decoration-color: #800080\">/home/hadi/Dropbox/git/jb-Ca-fMRI/</span><span style=\"color: #ff00ff; text-decoration-color: #ff00ff\">_extras</span>\n",
       "</pre>\n"
      ],
      "text/plain": [
       "\u001b[1m[\u001b[0mPROGRESS\u001b[1m]\u001b[0m \u001b[32m'ses2-regions_n-10.html'\u001b[0m saved at\n",
       "\u001b[35m/home/hadi/Dropbox/git/jb-Ca-fMRI/\u001b[0m\u001b[95m_extras\u001b[0m\n"
      ]
     },
     "metadata": {},
     "output_type": "display_data"
    },
    {
     "data": {
      "text/html": [
       "<pre style=\"white-space:pre;overflow-x:auto;line-height:normal;font-family:Menlo,'DejaVu Sans Mono',consolas,'Courier New',monospace\"><span style=\"font-weight: bold\">[</span>PROGRESS<span style=\"font-weight: bold\">]</span> <span style=\"color: #008000; text-decoration-color: #008000\">'ses2-clusters_n-10.html'</span> saved at\n",
       "<span style=\"color: #800080; text-decoration-color: #800080\">/home/hadi/Dropbox/git/jb-Ca-fMRI/</span><span style=\"color: #ff00ff; text-decoration-color: #ff00ff\">_extras</span>\n",
       "</pre>\n"
      ],
      "text/plain": [
       "\u001b[1m[\u001b[0mPROGRESS\u001b[1m]\u001b[0m \u001b[32m'ses2-clusters_n-10.html'\u001b[0m saved at\n",
       "\u001b[35m/home/hadi/Dropbox/git/jb-Ca-fMRI/\u001b[0m\u001b[95m_extras\u001b[0m\n"
      ]
     },
     "metadata": {},
     "output_type": "display_data"
    },
    {
     "data": {
      "text/html": [
       "<pre style=\"white-space:pre;overflow-x:auto;line-height:normal;font-family:Menlo,'DejaVu Sans Mono',consolas,'Courier New',monospace\">n_clusters = <span style=\"color: #008080; text-decoration-color: #008080; font-weight: bold\">11</span>\n",
       "</pre>\n"
      ],
      "text/plain": [
       "n_clusters = \u001b[1;36m11\u001b[0m\n"
      ]
     },
     "metadata": {},
     "output_type": "display_data"
    },
    {
     "data": {
      "text/html": [
       "<table style=\"border: 0;\"><tr style=\"border: 0;\"><td style=\"background-color: #1f77b4; border: 0;\"><code style=\"background-color: #1f77b4;\">#1f77b4</code></td><td style=\"border: 0\"><code>['(10)']</code></td></tr><tr style=\"border: 0;\"><td style=\"background-color: #ff7f0e; border: 0;\"><code style=\"background-color: #ff7f0e;\">#ff7f0e</code></td><td style=\"border: 0\"><code>['(21)', '(11)', '(8)', '(13)']</code></td></tr><tr style=\"border: 0;\"><td style=\"background-color: #2ca02c; border: 0;\"><code style=\"background-color: #2ca02c;\">#2ca02c</code></td><td style=\"border: 0\"><code>['(14)', '(17)']</code></td></tr><tr style=\"border: 0;\"><td style=\"background-color: #d62728; border: 0;\"><code style=\"background-color: #d62728;\">#d62728</code></td><td style=\"border: 0\"><code>['(11)', '(10)', '(15)', '(8)']</code></td></tr></table>"
      ]
     },
     "metadata": {},
     "output_type": "display_data"
    },
    {
     "data": {
      "image/png": "[encoded data removed]"
     },
     "metadata": {},
     "output_type": "display_data"
    },
    {
     "data": {
      "text/html": [
       "<svg  width=\"605\" height=\"55\"><rect x=\"0\" y=\"0\" width=\"55\" height=\"55\" style=\"fill:#969696;stroke-width:2;stroke:rgb(255,255,255)\"/><rect x=\"55\" y=\"0\" width=\"55\" height=\"55\" style=\"fill:#31a354;stroke-width:2;stroke:rgb(255,255,255)\"/><rect x=\"110\" y=\"0\" width=\"55\" height=\"55\" style=\"fill:#74c476;stroke-width:2;stroke:rgb(255,255,255)\"/><rect x=\"165\" y=\"0\" width=\"55\" height=\"55\" style=\"fill:#a1d99b;stroke-width:2;stroke:rgb(255,255,255)\"/><rect x=\"220\" y=\"0\" width=\"55\" height=\"55\" style=\"fill:#c7e9c0;stroke-width:2;stroke:rgb(255,255,255)\"/><rect x=\"275\" y=\"0\" width=\"55\" height=\"55\" style=\"fill:#756bb1;stroke-width:2;stroke:rgb(255,255,255)\"/><rect x=\"330\" y=\"0\" width=\"55\" height=\"55\" style=\"fill:#bcbddc;stroke-width:2;stroke:rgb(255,255,255)\"/><rect x=\"385\" y=\"0\" width=\"55\" height=\"55\" style=\"fill:#e6550d;stroke-width:2;stroke:rgb(255,255,255)\"/><rect x=\"440\" y=\"0\" width=\"55\" height=\"55\" style=\"fill:#fdae6b;stroke-width:2;stroke:rgb(255,255,255)\"/><rect x=\"495\" y=\"0\" width=\"55\" height=\"55\" style=\"fill:#3182bd;stroke-width:2;stroke:rgb(255,255,255)\"/><rect x=\"550\" y=\"0\" width=\"55\" height=\"55\" style=\"fill:#9ecae1;stroke-width:2;stroke:rgb(255,255,255)\"/></svg>"
      ]
     },
     "metadata": {},
     "output_type": "display_data"
    },
    {
     "data": {
      "text/html": [
       "<pre style=\"white-space:pre;overflow-x:auto;line-height:normal;font-family:Menlo,'DejaVu Sans Mono',consolas,'Courier New',monospace\">\n",
       "\n",
       "\n",
       "</pre>\n"
      ],
      "text/plain": [
       "\n",
       "\n",
       "\n"
      ]
     },
     "metadata": {},
     "output_type": "display_data"
    },
    {
     "data": {
      "text/html": [
       "<pre style=\"white-space:pre;overflow-x:auto;line-height:normal;font-family:Menlo,'DejaVu Sans Mono',consolas,'Courier New',monospace\"><span style=\"font-weight: bold\">[</span>PROGRESS<span style=\"font-weight: bold\">]</span> <span style=\"color: #008000; text-decoration-color: #008000\">'ses2-regions_n-11.html'</span> saved at\n",
       "<span style=\"color: #800080; text-decoration-color: #800080\">/home/hadi/Dropbox/git/jb-Ca-fMRI/</span><span style=\"color: #ff00ff; text-decoration-color: #ff00ff\">_extras</span>\n",
       "</pre>\n"
      ],
      "text/plain": [
       "\u001b[1m[\u001b[0mPROGRESS\u001b[1m]\u001b[0m \u001b[32m'ses2-regions_n-11.html'\u001b[0m saved at\n",
       "\u001b[35m/home/hadi/Dropbox/git/jb-Ca-fMRI/\u001b[0m\u001b[95m_extras\u001b[0m\n"
      ]
     },
     "metadata": {},
     "output_type": "display_data"
    },
    {
     "data": {
      "text/html": [
       "<pre style=\"white-space:pre;overflow-x:auto;line-height:normal;font-family:Menlo,'DejaVu Sans Mono',consolas,'Courier New',monospace\"><span style=\"font-weight: bold\">[</span>PROGRESS<span style=\"font-weight: bold\">]</span> <span style=\"color: #008000; text-decoration-color: #008000\">'ses2-clusters_n-11.html'</span> saved at\n",
       "<span style=\"color: #800080; text-decoration-color: #800080\">/home/hadi/Dropbox/git/jb-Ca-fMRI/</span><span style=\"color: #ff00ff; text-decoration-color: #ff00ff\">_extras</span>\n",
       "</pre>\n"
      ],
      "text/plain": [
       "\u001b[1m[\u001b[0mPROGRESS\u001b[1m]\u001b[0m \u001b[32m'ses2-clusters_n-11.html'\u001b[0m saved at\n",
       "\u001b[35m/home/hadi/Dropbox/git/jb-Ca-fMRI/\u001b[0m\u001b[95m_extras\u001b[0m\n"
      ]
     },
     "metadata": {},
     "output_type": "display_data"
    },
    {
     "data": {
      "text/html": [
       "<pre style=\"white-space:pre;overflow-x:auto;line-height:normal;font-family:Menlo,'DejaVu Sans Mono',consolas,'Courier New',monospace\">n_clusters = <span style=\"color: #008080; text-decoration-color: #008080; font-weight: bold\">12</span>\n",
       "</pre>\n"
      ],
      "text/plain": [
       "n_clusters = \u001b[1;36m12\u001b[0m\n"
      ]
     },
     "metadata": {},
     "output_type": "display_data"
    },
    {
     "data": {
      "text/html": [
       "<table style=\"border: 0;\"><tr style=\"border: 0;\"><td style=\"background-color: #1f77b4; border: 0;\"><code style=\"background-color: #1f77b4;\">#1f77b4</code></td><td style=\"border: 0\"><code>['(10)']</code></td></tr><tr style=\"border: 0;\"><td style=\"background-color: #ff7f0e; border: 0;\"><code style=\"background-color: #ff7f0e;\">#ff7f0e</code></td><td style=\"border: 0\"><code>['(9)', '(12)', '(11)', '(8)', '(13)']</code></td></tr><tr style=\"border: 0;\"><td style=\"background-color: #2ca02c; border: 0;\"><code style=\"background-color: #2ca02c;\">#2ca02c</code></td><td style=\"border: 0\"><code>['(14)', '(17)']</code></td></tr><tr style=\"border: 0;\"><td style=\"background-color: #d62728; border: 0;\"><code style=\"background-color: #d62728;\">#d62728</code></td><td style=\"border: 0\"><code>['(8)', '(11)', '(10)', '(15)']</code></td></tr></table>"
      ]
     },
     "metadata": {},
     "output_type": "display_data"
    },
    {
     "data": {
      "image/png": "[encoded data removed]"
     },
     "metadata": {},
     "output_type": "display_data"
    },
    {
     "data": {
      "text/html": [
       "<svg  width=\"660\" height=\"55\"><rect x=\"0\" y=\"0\" width=\"55\" height=\"55\" style=\"fill:#969696;stroke-width:2;stroke:rgb(255,255,255)\"/><rect x=\"55\" y=\"0\" width=\"55\" height=\"55\" style=\"fill:#31a354;stroke-width:2;stroke:rgb(255,255,255)\"/><rect x=\"110\" y=\"0\" width=\"55\" height=\"55\" style=\"fill:#74c476;stroke-width:2;stroke:rgb(255,255,255)\"/><rect x=\"165\" y=\"0\" width=\"55\" height=\"55\" style=\"fill:#a1d99b;stroke-width:2;stroke:rgb(255,255,255)\"/><rect x=\"220\" y=\"0\" width=\"55\" height=\"55\" style=\"fill:#c7e9c0;stroke-width:2;stroke:rgb(255,255,255)\"/><rect x=\"275\" y=\"0\" width=\"55\" height=\"55\" style=\"fill:#c7e9c0;stroke-width:2;stroke:rgb(255,255,255)\"/><rect x=\"330\" y=\"0\" width=\"55\" height=\"55\" style=\"fill:#756bb1;stroke-width:2;stroke:rgb(255,255,255)\"/><rect x=\"385\" y=\"0\" width=\"55\" height=\"55\" style=\"fill:#bcbddc;stroke-width:2;stroke:rgb(255,255,255)\"/><rect x=\"440\" y=\"0\" width=\"55\" height=\"55\" style=\"fill:#e6550d;stroke-width:2;stroke:rgb(255,255,255)\"/><rect x=\"495\" y=\"0\" width=\"55\" height=\"55\" style=\"fill:#fdae6b;stroke-width:2;stroke:rgb(255,255,255)\"/><rect x=\"550\" y=\"0\" width=\"55\" height=\"55\" style=\"fill:#3182bd;stroke-width:2;stroke:rgb(255,255,255)\"/><rect x=\"605\" y=\"0\" width=\"55\" height=\"55\" style=\"fill:#9ecae1;stroke-width:2;stroke:rgb(255,255,255)\"/></svg>"
      ]
     },
     "metadata": {},
     "output_type": "display_data"
    },
    {
     "data": {
      "text/html": [
       "<pre style=\"white-space:pre;overflow-x:auto;line-height:normal;font-family:Menlo,'DejaVu Sans Mono',consolas,'Courier New',monospace\">\n",
       "\n",
       "\n",
       "</pre>\n"
      ],
      "text/plain": [
       "\n",
       "\n",
       "\n"
      ]
     },
     "metadata": {},
     "output_type": "display_data"
    },
    {
     "data": {
      "text/html": [
       "<pre style=\"white-space:pre;overflow-x:auto;line-height:normal;font-family:Menlo,'DejaVu Sans Mono',consolas,'Courier New',monospace\"><span style=\"font-weight: bold\">[</span>PROGRESS<span style=\"font-weight: bold\">]</span> <span style=\"color: #008000; text-decoration-color: #008000\">'ses2-regions_n-12.html'</span> saved at\n",
       "<span style=\"color: #800080; text-decoration-color: #800080\">/home/hadi/Dropbox/git/jb-Ca-fMRI/</span><span style=\"color: #ff00ff; text-decoration-color: #ff00ff\">_extras</span>\n",
       "</pre>\n"
      ],
      "text/plain": [
       "\u001b[1m[\u001b[0mPROGRESS\u001b[1m]\u001b[0m \u001b[32m'ses2-regions_n-12.html'\u001b[0m saved at\n",
       "\u001b[35m/home/hadi/Dropbox/git/jb-Ca-fMRI/\u001b[0m\u001b[95m_extras\u001b[0m\n"
      ]
     },
     "metadata": {},
     "output_type": "display_data"
    },
    {
     "data": {
      "text/html": [
       "<pre style=\"white-space:pre;overflow-x:auto;line-height:normal;font-family:Menlo,'DejaVu Sans Mono',consolas,'Courier New',monospace\"><span style=\"font-weight: bold\">[</span>PROGRESS<span style=\"font-weight: bold\">]</span> <span style=\"color: #008000; text-decoration-color: #008000\">'ses2-clusters_n-12.html'</span> saved at\n",
       "<span style=\"color: #800080; text-decoration-color: #800080\">/home/hadi/Dropbox/git/jb-Ca-fMRI/</span><span style=\"color: #ff00ff; text-decoration-color: #ff00ff\">_extras</span>\n",
       "</pre>\n"
      ],
      "text/plain": [
       "\u001b[1m[\u001b[0mPROGRESS\u001b[1m]\u001b[0m \u001b[32m'ses2-clusters_n-12.html'\u001b[0m saved at\n",
       "\u001b[35m/home/hadi/Dropbox/git/jb-Ca-fMRI/\u001b[0m\u001b[95m_extras\u001b[0m\n"
      ]
     },
     "metadata": {},
     "output_type": "display_data"
    },
    {
     "data": {
      "text/html": [
       "<pre style=\"white-space:pre;overflow-x:auto;line-height:normal;font-family:Menlo,'DejaVu Sans Mono',consolas,'Courier New',monospace\">n_clusters = <span style=\"color: #008080; text-decoration-color: #008080; font-weight: bold\">13</span>\n",
       "</pre>\n"
      ],
      "text/plain": [
       "n_clusters = \u001b[1;36m13\u001b[0m\n"
      ]
     },
     "metadata": {},
     "output_type": "display_data"
    },
    {
     "data": {
      "text/html": [
       "<table style=\"border: 0;\"><tr style=\"border: 0;\"><td style=\"background-color: #1f77b4; border: 0;\"><code style=\"background-color: #1f77b4;\">#1f77b4</code></td><td style=\"border: 0\"><code>['(10)']</code></td></tr><tr style=\"border: 0;\"><td style=\"background-color: #ff7f0e; border: 0;\"><code style=\"background-color: #ff7f0e;\">#ff7f0e</code></td><td style=\"border: 0\"><code>['(9)', '(12)', '(11)', '(8)', '(13)']</code></td></tr><tr style=\"border: 0;\"><td style=\"background-color: #2ca02c; border: 0;\"><code style=\"background-color: #2ca02c;\">#2ca02c</code></td><td style=\"border: 0\"><code>['(14)', '(17)']</code></td></tr><tr style=\"border: 0;\"><td style=\"background-color: #d62728; border: 0;\"><code style=\"background-color: #d62728;\">#d62728</code></td><td style=\"border: 0\"><code>['(8)', '(11)', '(10)', '(6)', '(9)']</code></td></tr></table>"
      ]
     },
     "metadata": {},
     "output_type": "display_data"
    },
    {
     "data": {
      "image/png": "[encoded data removed]"
     },
     "metadata": {},
     "output_type": "display_data"
    },
    {
     "data": {
      "text/html": [
       "<svg  width=\"715\" height=\"55\"><rect x=\"0\" y=\"0\" width=\"55\" height=\"55\" style=\"fill:#969696;stroke-width:2;stroke:rgb(255,255,255)\"/><rect x=\"55\" y=\"0\" width=\"55\" height=\"55\" style=\"fill:#31a354;stroke-width:2;stroke:rgb(255,255,255)\"/><rect x=\"110\" y=\"0\" width=\"55\" height=\"55\" style=\"fill:#74c476;stroke-width:2;stroke:rgb(255,255,255)\"/><rect x=\"165\" y=\"0\" width=\"55\" height=\"55\" style=\"fill:#a1d99b;stroke-width:2;stroke:rgb(255,255,255)\"/><rect x=\"220\" y=\"0\" width=\"55\" height=\"55\" style=\"fill:#c7e9c0;stroke-width:2;stroke:rgb(255,255,255)\"/><rect x=\"275\" y=\"0\" width=\"55\" height=\"55\" style=\"fill:#c7e9c0;stroke-width:2;stroke:rgb(255,255,255)\"/><rect x=\"330\" y=\"0\" width=\"55\" height=\"55\" style=\"fill:#756bb1;stroke-width:2;stroke:rgb(255,255,255)\"/><rect x=\"385\" y=\"0\" width=\"55\" height=\"55\" style=\"fill:#bcbddc;stroke-width:2;stroke:rgb(255,255,255)\"/><rect x=\"440\" y=\"0\" width=\"55\" height=\"55\" style=\"fill:#e6550d;stroke-width:2;stroke:rgb(255,255,255)\"/><rect x=\"495\" y=\"0\" width=\"55\" height=\"55\" style=\"fill:#fdae6b;stroke-width:2;stroke:rgb(255,255,255)\"/><rect x=\"550\" y=\"0\" width=\"55\" height=\"55\" style=\"fill:#3182bd;stroke-width:2;stroke:rgb(255,255,255)\"/><rect x=\"605\" y=\"0\" width=\"55\" height=\"55\" style=\"fill:#9ecae1;stroke-width:2;stroke:rgb(255,255,255)\"/><rect x=\"660\" y=\"0\" width=\"55\" height=\"55\" style=\"fill:#c6dbef;stroke-width:2;stroke:rgb(255,255,255)\"/></svg>"
      ]
     },
     "metadata": {},
     "output_type": "display_data"
    },
    {
     "data": {
      "text/html": [
       "<pre style=\"white-space:pre;overflow-x:auto;line-height:normal;font-family:Menlo,'DejaVu Sans Mono',consolas,'Courier New',monospace\">\n",
       "\n",
       "\n",
       "</pre>\n"
      ],
      "text/plain": [
       "\n",
       "\n",
       "\n"
      ]
     },
     "metadata": {},
     "output_type": "display_data"
    },
    {
     "data": {
      "text/html": [
       "<pre style=\"white-space:pre;overflow-x:auto;line-height:normal;font-family:Menlo,'DejaVu Sans Mono',consolas,'Courier New',monospace\"><span style=\"font-weight: bold\">[</span>PROGRESS<span style=\"font-weight: bold\">]</span> <span style=\"color: #008000; text-decoration-color: #008000\">'ses2-regions_n-13.html'</span> saved at\n",
       "<span style=\"color: #800080; text-decoration-color: #800080\">/home/hadi/Dropbox/git/jb-Ca-fMRI/</span><span style=\"color: #ff00ff; text-decoration-color: #ff00ff\">_extras</span>\n",
       "</pre>\n"
      ],
      "text/plain": [
       "\u001b[1m[\u001b[0mPROGRESS\u001b[1m]\u001b[0m \u001b[32m'ses2-regions_n-13.html'\u001b[0m saved at\n",
       "\u001b[35m/home/hadi/Dropbox/git/jb-Ca-fMRI/\u001b[0m\u001b[95m_extras\u001b[0m\n"
      ]
     },
     "metadata": {},
     "output_type": "display_data"
    },
    {
     "data": {
      "text/html": [
       "<pre style=\"white-space:pre;overflow-x:auto;line-height:normal;font-family:Menlo,'DejaVu Sans Mono',consolas,'Courier New',monospace\"><span style=\"font-weight: bold\">[</span>PROGRESS<span style=\"font-weight: bold\">]</span> <span style=\"color: #008000; text-decoration-color: #008000\">'ses2-clusters_n-13.html'</span> saved at\n",
       "<span style=\"color: #800080; text-decoration-color: #800080\">/home/hadi/Dropbox/git/jb-Ca-fMRI/</span><span style=\"color: #ff00ff; text-decoration-color: #ff00ff\">_extras</span>\n",
       "</pre>\n"
      ],
      "text/plain": [
       "\u001b[1m[\u001b[0mPROGRESS\u001b[1m]\u001b[0m \u001b[32m'ses2-clusters_n-13.html'\u001b[0m saved at\n",
       "\u001b[35m/home/hadi/Dropbox/git/jb-Ca-fMRI/\u001b[0m\u001b[95m_extras\u001b[0m\n"
      ]
     },
     "metadata": {},
     "output_type": "display_data"
    },
    {
     "data": {
      "text/html": [
       "<pre style=\"white-space:pre;overflow-x:auto;line-height:normal;font-family:Menlo,'DejaVu Sans Mono',consolas,'Courier New',monospace\">n_clusters = <span style=\"color: #008080; text-decoration-color: #008080; font-weight: bold\">14</span>\n",
       "</pre>\n"
      ],
      "text/plain": [
       "n_clusters = \u001b[1;36m14\u001b[0m\n"
      ]
     },
     "metadata": {},
     "output_type": "display_data"
    },
    {
     "data": {
      "text/html": [
       "<table style=\"border: 0;\"><tr style=\"border: 0;\"><td style=\"background-color: #ff7f0e; border: 0;\"><code style=\"background-color: #ff7f0e;\">#ff7f0e</code></td><td style=\"border: 0\"><code>['(4)', '(6)']</code></td></tr><tr style=\"border: 0;\"><td style=\"background-color: #2ca02c; border: 0;\"><code style=\"background-color: #2ca02c;\">#2ca02c</code></td><td style=\"border: 0\"><code>['(9)', '(12)', '(11)', '(8)', '(13)']</code></td></tr><tr style=\"border: 0;\"><td style=\"background-color: #d62728; border: 0;\"><code style=\"background-color: #d62728;\">#d62728</code></td><td style=\"border: 0\"><code>['(17)', '(14)']</code></td></tr><tr style=\"border: 0;\"><td style=\"background-color: #9467bd; border: 0;\"><code style=\"background-color: #9467bd;\">#9467bd</code></td><td style=\"border: 0\"><code>['(8)', '(11)', '(10)', '(6)', '(9)']</code></td></tr></table>"
      ]
     },
     "metadata": {},
     "output_type": "display_data"
    },
    {
     "data": {
      "image/png": "[encoded data removed]"
     },
     "metadata": {},
     "output_type": "display_data"
    },
    {
     "data": {
      "text/html": [
       "<svg  width=\"770\" height=\"55\"><rect x=\"0\" y=\"0\" width=\"55\" height=\"55\" style=\"fill:#636363;stroke-width:2;stroke:rgb(255,255,255)\"/><rect x=\"55\" y=\"0\" width=\"55\" height=\"55\" style=\"fill:#969696;stroke-width:2;stroke:rgb(255,255,255)\"/><rect x=\"110\" y=\"0\" width=\"55\" height=\"55\" style=\"fill:#31a354;stroke-width:2;stroke:rgb(255,255,255)\"/><rect x=\"165\" y=\"0\" width=\"55\" height=\"55\" style=\"fill:#74c476;stroke-width:2;stroke:rgb(255,255,255)\"/><rect x=\"220\" y=\"0\" width=\"55\" height=\"55\" style=\"fill:#a1d99b;stroke-width:2;stroke:rgb(255,255,255)\"/><rect x=\"275\" y=\"0\" width=\"55\" height=\"55\" style=\"fill:#c7e9c0;stroke-width:2;stroke:rgb(255,255,255)\"/><rect x=\"330\" y=\"0\" width=\"55\" height=\"55\" style=\"fill:#c7e9c0;stroke-width:2;stroke:rgb(255,255,255)\"/><rect x=\"385\" y=\"0\" width=\"55\" height=\"55\" style=\"fill:#756bb1;stroke-width:2;stroke:rgb(255,255,255)\"/><rect x=\"440\" y=\"0\" width=\"55\" height=\"55\" style=\"fill:#bcbddc;stroke-width:2;stroke:rgb(255,255,255)\"/><rect x=\"495\" y=\"0\" width=\"55\" height=\"55\" style=\"fill:#e6550d;stroke-width:2;stroke:rgb(255,255,255)\"/><rect x=\"550\" y=\"0\" width=\"55\" height=\"55\" style=\"fill:#fdae6b;stroke-width:2;stroke:rgb(255,255,255)\"/><rect x=\"605\" y=\"0\" width=\"55\" height=\"55\" style=\"fill:#3182bd;stroke-width:2;stroke:rgb(255,255,255)\"/><rect x=\"660\" y=\"0\" width=\"55\" height=\"55\" style=\"fill:#9ecae1;stroke-width:2;stroke:rgb(255,255,255)\"/><rect x=\"715\" y=\"0\" width=\"55\" height=\"55\" style=\"fill:#c6dbef;stroke-width:2;stroke:rgb(255,255,255)\"/></svg>"
      ]
     },
     "metadata": {},
     "output_type": "display_data"
    },
    {
     "data": {
      "text/html": [
       "<pre style=\"white-space:pre;overflow-x:auto;line-height:normal;font-family:Menlo,'DejaVu Sans Mono',consolas,'Courier New',monospace\">\n",
       "\n",
       "\n",
       "</pre>\n"
      ],
      "text/plain": [
       "\n",
       "\n",
       "\n"
      ]
     },
     "metadata": {},
     "output_type": "display_data"
    },
    {
     "data": {
      "text/html": [
       "<pre style=\"white-space:pre;overflow-x:auto;line-height:normal;font-family:Menlo,'DejaVu Sans Mono',consolas,'Courier New',monospace\"><span style=\"font-weight: bold\">[</span>PROGRESS<span style=\"font-weight: bold\">]</span> <span style=\"color: #008000; text-decoration-color: #008000\">'ses2-regions_n-14.html'</span> saved at\n",
       "<span style=\"color: #800080; text-decoration-color: #800080\">/home/hadi/Dropbox/git/jb-Ca-fMRI/</span><span style=\"color: #ff00ff; text-decoration-color: #ff00ff\">_extras</span>\n",
       "</pre>\n"
      ],
      "text/plain": [
       "\u001b[1m[\u001b[0mPROGRESS\u001b[1m]\u001b[0m \u001b[32m'ses2-regions_n-14.html'\u001b[0m saved at\n",
       "\u001b[35m/home/hadi/Dropbox/git/jb-Ca-fMRI/\u001b[0m\u001b[95m_extras\u001b[0m\n"
      ]
     },
     "metadata": {},
     "output_type": "display_data"
    },
    {
     "data": {
      "text/html": [
       "<pre style=\"white-space:pre;overflow-x:auto;line-height:normal;font-family:Menlo,'DejaVu Sans Mono',consolas,'Courier New',monospace\"><span style=\"font-weight: bold\">[</span>PROGRESS<span style=\"font-weight: bold\">]</span> <span style=\"color: #008000; text-decoration-color: #008000\">'ses2-clusters_n-14.html'</span> saved at\n",
       "<span style=\"color: #800080; text-decoration-color: #800080\">/home/hadi/Dropbox/git/jb-Ca-fMRI/</span><span style=\"color: #ff00ff; text-decoration-color: #ff00ff\">_extras</span>\n",
       "</pre>\n"
      ],
      "text/plain": [
       "\u001b[1m[\u001b[0mPROGRESS\u001b[1m]\u001b[0m \u001b[32m'ses2-clusters_n-14.html'\u001b[0m saved at\n",
       "\u001b[35m/home/hadi/Dropbox/git/jb-Ca-fMRI/\u001b[0m\u001b[95m_extras\u001b[0m\n"
      ]
     },
     "metadata": {},
     "output_type": "display_data"
    }
   ],
   "source": [
    "clusters_all = {}\n",
    "\n",
    "for n_clusters in range(2, 15):\n",
    "    hier_output = get_clust_graph(\n",
    "        linkage_mat=hier_results['z'],\n",
    "        c_list=cluster_color_idxs[n_clusters],\n",
    "        labels=labels,\n",
    "        num_clusters=n_clusters,\n",
    "        leaf_font_size=10,\n",
    "        figsize=(3.5, 2),\n",
    "    )\n",
    "    print(f\"n_clusters = {n_clusters}\")\n",
    "    display(hier_output['cluster_classes'])\n",
    "    display(hier_output['fig'])\n",
    "    display(sns.color_palette(hier_output['cluster_colors'].values()))\n",
    "    print('\\n\\n')\n",
    "    \n",
    "    community = {\n",
    "        i: translate_labels(leaves, allen['mcc'], forward=False)\n",
    "        for i, leaves in hier_output['cluster_assigns'].items()\n",
    "    }\n",
    "    assert len(community) == n_clusters\n",
    "\n",
    "    comms3d = np.zeros(allen['template'].shape)\n",
    "    for cluster_idx, leaves in community.items():\n",
    "        for lbl in leaves:\n",
    "            if str(allen['isocortex']['id']) in lbl:\n",
    "                lr, structure_id, region_id = tuple(map(lambda x: int(x), lbl.split('-')))\n",
    "                comms3d[parcellation['parcel'] == region_id] = cluster_idx\n",
    "            else:\n",
    "                comms3d[roi_masks[lbl]] = cluster_idx\n",
    "    comms3d = comms3d.astype(int)\n",
    "    \n",
    "    # save results\n",
    "    cluster = Clusters(\n",
    "        x=comms3d,\n",
    "        masks=major_masks,\n",
    "        c_cluster=hier_output['cluster_colors'],\n",
    "        c_structure=struct_colors,\n",
    "        threshold=0.0,\n",
    "    )\n",
    "    clusters_all[n_clusters] = cluster\n",
    "    _ = cluster.export(extras_dir, name='ses2')"
   ]
  },
  {
   "cell_type": "code",
   "execution_count": null,
   "id": "19644ebb",
   "metadata": {},
   "outputs": [],
   "source": []
  },
  {
   "cell_type": "code",
   "execution_count": null,
   "id": "8d649113",
   "metadata": {},
   "outputs": [],
   "source": []
  },
  {
   "cell_type": "markdown",
   "id": "c04ebe2a",
   "metadata": {},
   "source": [
    "### Render"
   ]
  },
  {
   "cell_type": "code",
   "execution_count": 69,
   "id": "f027a209",
   "metadata": {},
   "outputs": [
    {
     "data": {
      "text/html": [
       "<pre style=\"white-space:pre;overflow-x:auto;line-height:normal;font-family:Menlo,'DejaVu Sans Mono',consolas,'Courier New',monospace\">Scene saved at <span style=\"color: #800080; text-decoration-color: #800080\">/home/hadi/Dropbox/git/jb-Ca-fMRI/_extras/</span><span style=\"color: #ff00ff; text-decoration-color: #ff00ff\">cluster3d-ses2_parcel-128_n-2.html</span>\n",
       "</pre>\n"
      ],
      "text/plain": [
       "Scene saved at \u001b[35m/home/hadi/Dropbox/git/jb-Ca-fMRI/_extras/\u001b[0m\u001b[95mcluster3d-ses2_parcel-128_n-2.html\u001b[0m\n"
      ]
     },
     "metadata": {},
     "output_type": "display_data"
    },
    {
     "data": {
      "text/html": [
       "<pre style=\"white-space:pre;overflow-x:auto;line-height:normal;font-family:Menlo,'DejaVu Sans Mono',consolas,'Courier New',monospace\">Scene saved at <span style=\"color: #800080; text-decoration-color: #800080\">/home/hadi/Dropbox/git/jb-Ca-fMRI/_extras/</span><span style=\"color: #ff00ff; text-decoration-color: #ff00ff\">cluster3d-ses2_parcel-128_n-3.html</span>\n",
       "</pre>\n"
      ],
      "text/plain": [
       "Scene saved at \u001b[35m/home/hadi/Dropbox/git/jb-Ca-fMRI/_extras/\u001b[0m\u001b[95mcluster3d-ses2_parcel-128_n-3.html\u001b[0m\n"
      ]
     },
     "metadata": {},
     "output_type": "display_data"
    },
    {
     "data": {
      "text/html": [
       "<pre style=\"white-space:pre;overflow-x:auto;line-height:normal;font-family:Menlo,'DejaVu Sans Mono',consolas,'Courier New',monospace\">Scene saved at <span style=\"color: #800080; text-decoration-color: #800080\">/home/hadi/Dropbox/git/jb-Ca-fMRI/_extras/</span><span style=\"color: #ff00ff; text-decoration-color: #ff00ff\">cluster3d-ses2_parcel-128_n-4.html</span>\n",
       "</pre>\n"
      ],
      "text/plain": [
       "Scene saved at \u001b[35m/home/hadi/Dropbox/git/jb-Ca-fMRI/_extras/\u001b[0m\u001b[95mcluster3d-ses2_parcel-128_n-4.html\u001b[0m\n"
      ]
     },
     "metadata": {},
     "output_type": "display_data"
    },
    {
     "data": {
      "text/html": [
       "<pre style=\"white-space:pre;overflow-x:auto;line-height:normal;font-family:Menlo,'DejaVu Sans Mono',consolas,'Courier New',monospace\">Scene saved at <span style=\"color: #800080; text-decoration-color: #800080\">/home/hadi/Dropbox/git/jb-Ca-fMRI/_extras/</span><span style=\"color: #ff00ff; text-decoration-color: #ff00ff\">cluster3d-ses2_parcel-128_n-5.html</span>\n",
       "</pre>\n"
      ],
      "text/plain": [
       "Scene saved at \u001b[35m/home/hadi/Dropbox/git/jb-Ca-fMRI/_extras/\u001b[0m\u001b[95mcluster3d-ses2_parcel-128_n-5.html\u001b[0m\n"
      ]
     },
     "metadata": {},
     "output_type": "display_data"
    },
    {
     "data": {
      "text/html": [
       "<pre style=\"white-space:pre;overflow-x:auto;line-height:normal;font-family:Menlo,'DejaVu Sans Mono',consolas,'Courier New',monospace\">Scene saved at <span style=\"color: #800080; text-decoration-color: #800080\">/home/hadi/Dropbox/git/jb-Ca-fMRI/_extras/</span><span style=\"color: #ff00ff; text-decoration-color: #ff00ff\">cluster3d-ses2_parcel-128_n-6.html</span>\n",
       "</pre>\n"
      ],
      "text/plain": [
       "Scene saved at \u001b[35m/home/hadi/Dropbox/git/jb-Ca-fMRI/_extras/\u001b[0m\u001b[95mcluster3d-ses2_parcel-128_n-6.html\u001b[0m\n"
      ]
     },
     "metadata": {},
     "output_type": "display_data"
    },
    {
     "data": {
      "text/html": [
       "<pre style=\"white-space:pre;overflow-x:auto;line-height:normal;font-family:Menlo,'DejaVu Sans Mono',consolas,'Courier New',monospace\">Scene saved at <span style=\"color: #800080; text-decoration-color: #800080\">/home/hadi/Dropbox/git/jb-Ca-fMRI/_extras/</span><span style=\"color: #ff00ff; text-decoration-color: #ff00ff\">cluster3d-ses2_parcel-128_n-7.html</span>\n",
       "</pre>\n"
      ],
      "text/plain": [
       "Scene saved at \u001b[35m/home/hadi/Dropbox/git/jb-Ca-fMRI/_extras/\u001b[0m\u001b[95mcluster3d-ses2_parcel-128_n-7.html\u001b[0m\n"
      ]
     },
     "metadata": {},
     "output_type": "display_data"
    },
    {
     "data": {
      "text/html": [
       "<pre style=\"white-space:pre;overflow-x:auto;line-height:normal;font-family:Menlo,'DejaVu Sans Mono',consolas,'Courier New',monospace\">Scene saved at <span style=\"color: #800080; text-decoration-color: #800080\">/home/hadi/Dropbox/git/jb-Ca-fMRI/_extras/</span><span style=\"color: #ff00ff; text-decoration-color: #ff00ff\">cluster3d-ses2_parcel-128_n-8.html</span>\n",
       "</pre>\n"
      ],
      "text/plain": [
       "Scene saved at \u001b[35m/home/hadi/Dropbox/git/jb-Ca-fMRI/_extras/\u001b[0m\u001b[95mcluster3d-ses2_parcel-128_n-8.html\u001b[0m\n"
      ]
     },
     "metadata": {},
     "output_type": "display_data"
    },
    {
     "data": {
      "text/html": [
       "<pre style=\"white-space:pre;overflow-x:auto;line-height:normal;font-family:Menlo,'DejaVu Sans Mono',consolas,'Courier New',monospace\">Scene saved at <span style=\"color: #800080; text-decoration-color: #800080\">/home/hadi/Dropbox/git/jb-Ca-fMRI/_extras/</span><span style=\"color: #ff00ff; text-decoration-color: #ff00ff\">cluster3d-ses2_parcel-128_n-9.html</span>\n",
       "</pre>\n"
      ],
      "text/plain": [
       "Scene saved at \u001b[35m/home/hadi/Dropbox/git/jb-Ca-fMRI/_extras/\u001b[0m\u001b[95mcluster3d-ses2_parcel-128_n-9.html\u001b[0m\n"
      ]
     },
     "metadata": {},
     "output_type": "display_data"
    },
    {
     "data": {
      "text/html": [
       "<pre style=\"white-space:pre;overflow-x:auto;line-height:normal;font-family:Menlo,'DejaVu Sans Mono',consolas,'Courier New',monospace\">Scene saved at <span style=\"color: #800080; text-decoration-color: #800080\">/home/hadi/Dropbox/git/jb-Ca-fMRI/_extras/</span><span style=\"color: #ff00ff; text-decoration-color: #ff00ff\">cluster3d-ses2_parcel-128_n-10.html</span>\n",
       "</pre>\n"
      ],
      "text/plain": [
       "Scene saved at \u001b[35m/home/hadi/Dropbox/git/jb-Ca-fMRI/_extras/\u001b[0m\u001b[95mcluster3d-ses2_parcel-128_n-10.html\u001b[0m\n"
      ]
     },
     "metadata": {},
     "output_type": "display_data"
    },
    {
     "data": {
      "text/html": [
       "<pre style=\"white-space:pre;overflow-x:auto;line-height:normal;font-family:Menlo,'DejaVu Sans Mono',consolas,'Courier New',monospace\">Scene saved at <span style=\"color: #800080; text-decoration-color: #800080\">/home/hadi/Dropbox/git/jb-Ca-fMRI/_extras/</span><span style=\"color: #ff00ff; text-decoration-color: #ff00ff\">cluster3d-ses2_parcel-128_n-11.html</span>\n",
       "</pre>\n"
      ],
      "text/plain": [
       "Scene saved at \u001b[35m/home/hadi/Dropbox/git/jb-Ca-fMRI/_extras/\u001b[0m\u001b[95mcluster3d-ses2_parcel-128_n-11.html\u001b[0m\n"
      ]
     },
     "metadata": {},
     "output_type": "display_data"
    },
    {
     "data": {
      "text/html": [
       "<pre style=\"white-space:pre;overflow-x:auto;line-height:normal;font-family:Menlo,'DejaVu Sans Mono',consolas,'Courier New',monospace\">Scene saved at <span style=\"color: #800080; text-decoration-color: #800080\">/home/hadi/Dropbox/git/jb-Ca-fMRI/_extras/</span><span style=\"color: #ff00ff; text-decoration-color: #ff00ff\">cluster3d-ses2_parcel-128_n-12.html</span>\n",
       "</pre>\n"
      ],
      "text/plain": [
       "Scene saved at \u001b[35m/home/hadi/Dropbox/git/jb-Ca-fMRI/_extras/\u001b[0m\u001b[95mcluster3d-ses2_parcel-128_n-12.html\u001b[0m\n"
      ]
     },
     "metadata": {},
     "output_type": "display_data"
    },
    {
     "data": {
      "text/html": [
       "<pre style=\"white-space:pre;overflow-x:auto;line-height:normal;font-family:Menlo,'DejaVu Sans Mono',consolas,'Courier New',monospace\">Scene saved at <span style=\"color: #800080; text-decoration-color: #800080\">/home/hadi/Dropbox/git/jb-Ca-fMRI/_extras/</span><span style=\"color: #ff00ff; text-decoration-color: #ff00ff\">cluster3d-ses2_parcel-128_n-13.html</span>\n",
       "</pre>\n"
      ],
      "text/plain": [
       "Scene saved at \u001b[35m/home/hadi/Dropbox/git/jb-Ca-fMRI/_extras/\u001b[0m\u001b[95mcluster3d-ses2_parcel-128_n-13.html\u001b[0m\n"
      ]
     },
     "metadata": {},
     "output_type": "display_data"
    },
    {
     "data": {
      "text/html": [
       "<pre style=\"white-space:pre;overflow-x:auto;line-height:normal;font-family:Menlo,'DejaVu Sans Mono',consolas,'Courier New',monospace\">Scene saved at <span style=\"color: #800080; text-decoration-color: #800080\">/home/hadi/Dropbox/git/jb-Ca-fMRI/_extras/</span><span style=\"color: #ff00ff; text-decoration-color: #ff00ff\">cluster3d-ses2_parcel-128_n-14.html</span>\n",
       "</pre>\n"
      ],
      "text/plain": [
       "Scene saved at \u001b[35m/home/hadi/Dropbox/git/jb-Ca-fMRI/_extras/\u001b[0m\u001b[95mcluster3d-ses2_parcel-128_n-14.html\u001b[0m\n"
      ]
     },
     "metadata": {},
     "output_type": "display_data"
    }
   ],
   "source": [
    "for n_clusters in range(2, 15): \n",
    "    _ = cluster2html(\n",
    "        cluster=clusters_all[n_clusters],\n",
    "        save_name='ses2',\n",
    "        n_cortex_regions=parcellation['n_cortical_regions'],\n",
    "        save_dir=extras_dir,\n",
    "    )"
   ]
  },
  {
   "cell_type": "code",
   "execution_count": null,
   "id": "8dc9793e",
   "metadata": {},
   "outputs": [],
   "source": []
  },
  {
   "cell_type": "code",
   "execution_count": null,
   "id": "b06d5b88",
   "metadata": {},
   "outputs": [],
   "source": []
  },
  {
   "cell_type": "code",
   "execution_count": null,
   "id": "c0c221f6",
   "metadata": {},
   "outputs": [],
   "source": []
  },
  {
   "cell_type": "markdown",
   "id": "006ff764",
   "metadata": {},
   "source": [
    "## Session 3 only"
   ]
  },
  {
   "cell_type": "code",
   "execution_count": 70,
   "id": "a7a74f72",
   "metadata": {},
   "outputs": [
    {
     "data": {
      "text/html": [
       "<pre style=\"white-space:pre;overflow-x:auto;line-height:normal;font-family:Menlo,'DejaVu Sans Mono',consolas,'Courier New',monospace\"><span style=\"font-weight: bold\">((</span><span style=\"color: #008080; text-decoration-color: #008080; font-weight: bold\">22000</span>, <span style=\"color: #008080; text-decoration-color: #008080; font-weight: bold\">138</span><span style=\"font-weight: bold\">)</span>, <span style=\"color: #008080; text-decoration-color: #008080; font-weight: bold\">138</span>, <span style=\"color: #008080; text-decoration-color: #008080; font-weight: bold\">204</span>, <span style=\"color: #008080; text-decoration-color: #008080; font-weight: bold\">40</span><span style=\"font-weight: bold\">)</span>\n",
       "</pre>\n"
      ],
      "text/plain": [
       "\u001b[1m(\u001b[0m\u001b[1m(\u001b[0m\u001b[1;36m22000\u001b[0m, \u001b[1;36m138\u001b[0m\u001b[1m)\u001b[0m, \u001b[1;36m138\u001b[0m, \u001b[1;36m204\u001b[0m, \u001b[1;36m40\u001b[0m\u001b[1m)\u001b[0m\n"
      ]
     },
     "metadata": {},
     "output_type": "display_data"
    }
   ],
   "source": [
    "for ses in mice.cfg.ses_ids:\n",
    "    if ses != 3:\n",
    "        continue\n",
    "    \n",
    "    selected_experiments = {\n",
    "        k: v for k, v in mice.bold_df_piv.items()\n",
    "        if mice.bold[k].task == 'rest' and mice.looper[k][1] == ses\n",
    "    }\n",
    "    df_combined = pd.concat(list(selected_experiments.values()))\n",
    "    node_labels = df_combined.columns.values.tolist()\n",
    "    node_labels = {i: lbl for i, lbl in enumerate(node_labels)}\n",
    "\n",
    "df_combined.shape, len(node_labels), len(mice.bold_df_piv), len(selected_experiments)"
   ]
  },
  {
   "cell_type": "code",
   "execution_count": 71,
   "id": "cc620894",
   "metadata": {},
   "outputs": [
    {
     "data": {
      "text/html": [
       "<pre style=\"white-space:pre;overflow-x:auto;line-height:normal;font-family:Menlo,'DejaVu Sans Mono',consolas,'Courier New',monospace\"><span style=\"font-weight: bold\">[</span>\n",
       "    <span style=\"color: #008000; text-decoration-color: #008000\">'sub-SLC01_ses-3_run-1'</span>,\n",
       "    <span style=\"color: #008000; text-decoration-color: #008000\">'sub-SLC01_ses-3_run-3'</span>,\n",
       "    <span style=\"color: #008000; text-decoration-color: #008000\">'sub-SLC01_ses-3_run-5'</span>,\n",
       "    <span style=\"color: #008000; text-decoration-color: #008000\">'sub-SLC01_ses-3_run-7'</span>,\n",
       "    <span style=\"color: #008000; text-decoration-color: #008000\">'sub-SLC02_ses-3_run-1'</span>,\n",
       "    <span style=\"color: #008000; text-decoration-color: #008000\">'sub-SLC02_ses-3_run-3'</span>,\n",
       "    <span style=\"color: #008000; text-decoration-color: #008000\">'sub-SLC02_ses-3_run-5'</span>,\n",
       "    <span style=\"color: #008000; text-decoration-color: #008000\">'sub-SLC02_ses-3_run-7'</span>,\n",
       "    <span style=\"color: #008000; text-decoration-color: #008000\">'sub-SLC03_ses-3_run-1'</span>,\n",
       "    <span style=\"color: #008000; text-decoration-color: #008000\">'sub-SLC03_ses-3_run-3'</span>,\n",
       "    <span style=\"color: #008000; text-decoration-color: #008000\">'sub-SLC03_ses-3_run-5'</span>,\n",
       "    <span style=\"color: #008000; text-decoration-color: #008000\">'sub-SLC03_ses-3_run-7'</span>,\n",
       "    <span style=\"color: #008000; text-decoration-color: #008000\">'sub-SLC04_ses-3_run-1'</span>,\n",
       "    <span style=\"color: #008000; text-decoration-color: #008000\">'sub-SLC04_ses-3_run-3'</span>,\n",
       "    <span style=\"color: #008000; text-decoration-color: #008000\">'sub-SLC04_ses-3_run-5'</span>,\n",
       "    <span style=\"color: #008000; text-decoration-color: #008000\">'sub-SLC04_ses-3_run-7'</span>,\n",
       "    <span style=\"color: #008000; text-decoration-color: #008000\">'sub-SLC05_ses-3_run-1'</span>,\n",
       "    <span style=\"color: #008000; text-decoration-color: #008000\">'sub-SLC05_ses-3_run-3'</span>,\n",
       "    <span style=\"color: #008000; text-decoration-color: #008000\">'sub-SLC05_ses-3_run-5'</span>,\n",
       "    <span style=\"color: #008000; text-decoration-color: #008000\">'sub-SLC05_ses-3_run-7'</span>,\n",
       "    <span style=\"color: #008000; text-decoration-color: #008000\">'sub-SLC06_ses-3_run-1'</span>,\n",
       "    <span style=\"color: #008000; text-decoration-color: #008000\">'sub-SLC06_ses-3_run-3'</span>,\n",
       "    <span style=\"color: #008000; text-decoration-color: #008000\">'sub-SLC06_ses-3_run-5'</span>,\n",
       "    <span style=\"color: #008000; text-decoration-color: #008000\">'sub-SLC06_ses-3_run-7'</span>,\n",
       "    <span style=\"color: #008000; text-decoration-color: #008000\">'sub-SLC07_ses-3_run-1'</span>,\n",
       "    <span style=\"color: #008000; text-decoration-color: #008000\">'sub-SLC07_ses-3_run-3'</span>,\n",
       "    <span style=\"color: #008000; text-decoration-color: #008000\">'sub-SLC07_ses-3_run-5'</span>,\n",
       "    <span style=\"color: #008000; text-decoration-color: #008000\">'sub-SLC07_ses-3_run-7'</span>,\n",
       "    <span style=\"color: #008000; text-decoration-color: #008000\">'sub-SLC08_ses-3_run-1'</span>,\n",
       "    <span style=\"color: #008000; text-decoration-color: #008000\">'sub-SLC08_ses-3_run-3'</span>,\n",
       "    <span style=\"color: #008000; text-decoration-color: #008000\">'sub-SLC08_ses-3_run-5'</span>,\n",
       "    <span style=\"color: #008000; text-decoration-color: #008000\">'sub-SLC08_ses-3_run-7'</span>,\n",
       "    <span style=\"color: #008000; text-decoration-color: #008000\">'sub-SLC09_ses-3_run-1'</span>,\n",
       "    <span style=\"color: #008000; text-decoration-color: #008000\">'sub-SLC09_ses-3_run-3'</span>,\n",
       "    <span style=\"color: #008000; text-decoration-color: #008000\">'sub-SLC09_ses-3_run-5'</span>,\n",
       "    <span style=\"color: #008000; text-decoration-color: #008000\">'sub-SLC09_ses-3_run-7'</span>,\n",
       "    <span style=\"color: #008000; text-decoration-color: #008000\">'sub-SLC10_ses-3_run-1'</span>,\n",
       "    <span style=\"color: #008000; text-decoration-color: #008000\">'sub-SLC10_ses-3_run-3'</span>,\n",
       "    <span style=\"color: #008000; text-decoration-color: #008000\">'sub-SLC10_ses-3_run-5'</span>,\n",
       "    <span style=\"color: #008000; text-decoration-color: #008000\">'sub-SLC10_ses-3_run-7'</span>\n",
       "<span style=\"font-weight: bold\">]</span>\n",
       "</pre>\n"
      ],
      "text/plain": [
       "\u001b[1m[\u001b[0m\n",
       "    \u001b[32m'sub-SLC01_ses-3_run-1'\u001b[0m,\n",
       "    \u001b[32m'sub-SLC01_ses-3_run-3'\u001b[0m,\n",
       "    \u001b[32m'sub-SLC01_ses-3_run-5'\u001b[0m,\n",
       "    \u001b[32m'sub-SLC01_ses-3_run-7'\u001b[0m,\n",
       "    \u001b[32m'sub-SLC02_ses-3_run-1'\u001b[0m,\n",
       "    \u001b[32m'sub-SLC02_ses-3_run-3'\u001b[0m,\n",
       "    \u001b[32m'sub-SLC02_ses-3_run-5'\u001b[0m,\n",
       "    \u001b[32m'sub-SLC02_ses-3_run-7'\u001b[0m,\n",
       "    \u001b[32m'sub-SLC03_ses-3_run-1'\u001b[0m,\n",
       "    \u001b[32m'sub-SLC03_ses-3_run-3'\u001b[0m,\n",
       "    \u001b[32m'sub-SLC03_ses-3_run-5'\u001b[0m,\n",
       "    \u001b[32m'sub-SLC03_ses-3_run-7'\u001b[0m,\n",
       "    \u001b[32m'sub-SLC04_ses-3_run-1'\u001b[0m,\n",
       "    \u001b[32m'sub-SLC04_ses-3_run-3'\u001b[0m,\n",
       "    \u001b[32m'sub-SLC04_ses-3_run-5'\u001b[0m,\n",
       "    \u001b[32m'sub-SLC04_ses-3_run-7'\u001b[0m,\n",
       "    \u001b[32m'sub-SLC05_ses-3_run-1'\u001b[0m,\n",
       "    \u001b[32m'sub-SLC05_ses-3_run-3'\u001b[0m,\n",
       "    \u001b[32m'sub-SLC05_ses-3_run-5'\u001b[0m,\n",
       "    \u001b[32m'sub-SLC05_ses-3_run-7'\u001b[0m,\n",
       "    \u001b[32m'sub-SLC06_ses-3_run-1'\u001b[0m,\n",
       "    \u001b[32m'sub-SLC06_ses-3_run-3'\u001b[0m,\n",
       "    \u001b[32m'sub-SLC06_ses-3_run-5'\u001b[0m,\n",
       "    \u001b[32m'sub-SLC06_ses-3_run-7'\u001b[0m,\n",
       "    \u001b[32m'sub-SLC07_ses-3_run-1'\u001b[0m,\n",
       "    \u001b[32m'sub-SLC07_ses-3_run-3'\u001b[0m,\n",
       "    \u001b[32m'sub-SLC07_ses-3_run-5'\u001b[0m,\n",
       "    \u001b[32m'sub-SLC07_ses-3_run-7'\u001b[0m,\n",
       "    \u001b[32m'sub-SLC08_ses-3_run-1'\u001b[0m,\n",
       "    \u001b[32m'sub-SLC08_ses-3_run-3'\u001b[0m,\n",
       "    \u001b[32m'sub-SLC08_ses-3_run-5'\u001b[0m,\n",
       "    \u001b[32m'sub-SLC08_ses-3_run-7'\u001b[0m,\n",
       "    \u001b[32m'sub-SLC09_ses-3_run-1'\u001b[0m,\n",
       "    \u001b[32m'sub-SLC09_ses-3_run-3'\u001b[0m,\n",
       "    \u001b[32m'sub-SLC09_ses-3_run-5'\u001b[0m,\n",
       "    \u001b[32m'sub-SLC09_ses-3_run-7'\u001b[0m,\n",
       "    \u001b[32m'sub-SLC10_ses-3_run-1'\u001b[0m,\n",
       "    \u001b[32m'sub-SLC10_ses-3_run-3'\u001b[0m,\n",
       "    \u001b[32m'sub-SLC10_ses-3_run-5'\u001b[0m,\n",
       "    \u001b[32m'sub-SLC10_ses-3_run-7'\u001b[0m\n",
       "\u001b[1m]\u001b[0m\n"
      ]
     },
     "metadata": {},
     "output_type": "display_data"
    }
   ],
   "source": [
    "list(selected_experiments.keys())"
   ]
  },
  {
   "cell_type": "code",
   "execution_count": null,
   "id": "e119033d",
   "metadata": {},
   "outputs": [],
   "source": []
  },
  {
   "cell_type": "markdown",
   "id": "4dca71a3",
   "metadata": {},
   "source": [
    "### Hierarchical clustering"
   ]
  },
  {
   "cell_type": "code",
   "execution_count": 72,
   "id": "281509da",
   "metadata": {},
   "outputs": [],
   "source": [
    "hier_results = hierarchical_cluster(\n",
    "    df=df_combined,\n",
    "    method='ward',\n",
    "    dist_metric='canberra',\n",
    "    link_metric='canberra',\n",
    ")\n",
    "labels = translate_labels(hier_results['labels'], allen['mcc'])"
   ]
  },
  {
   "cell_type": "code",
   "execution_count": 73,
   "id": "a0cfa328",
   "metadata": {},
   "outputs": [
    {
     "data": {
      "image/png": "[encoded data removed]"
     },
     "metadata": {},
     "output_type": "display_data"
    }
   ],
   "source": [
    "hier_output = get_clust_graph(\n",
    "    linkage_mat=hier_results['z'],\n",
    "    labels=labels,\n",
    "    num_clusters=0,\n",
    "    leaf_font_size=3,\n",
    "    orientation='top',\n",
    "    figsize=(13.5, 4),\n",
    ")\n",
    "display(hier_output['fig'])"
   ]
  },
  {
   "cell_type": "code",
   "execution_count": 74,
   "id": "4d6ac067",
   "metadata": {},
   "outputs": [
    {
     "data": {
      "text/html": [
       "<svg  width=\"1100\" height=\"55\"><rect x=\"0\" y=\"0\" width=\"55\" height=\"55\" style=\"fill:#3182bd;stroke-width:2;stroke:rgb(255,255,255)\"/><rect x=\"55\" y=\"0\" width=\"55\" height=\"55\" style=\"fill:#6baed6;stroke-width:2;stroke:rgb(255,255,255)\"/><rect x=\"110\" y=\"0\" width=\"55\" height=\"55\" style=\"fill:#9ecae1;stroke-width:2;stroke:rgb(255,255,255)\"/><rect x=\"165\" y=\"0\" width=\"55\" height=\"55\" style=\"fill:#c6dbef;stroke-width:2;stroke:rgb(255,255,255)\"/><rect x=\"220\" y=\"0\" width=\"55\" height=\"55\" style=\"fill:#e6550d;stroke-width:2;stroke:rgb(255,255,255)\"/><rect x=\"275\" y=\"0\" width=\"55\" height=\"55\" style=\"fill:#fd8d3c;stroke-width:2;stroke:rgb(255,255,255)\"/><rect x=\"330\" y=\"0\" width=\"55\" height=\"55\" style=\"fill:#fdae6b;stroke-width:2;stroke:rgb(255,255,255)\"/><rect x=\"385\" y=\"0\" width=\"55\" height=\"55\" style=\"fill:#fdd0a2;stroke-width:2;stroke:rgb(255,255,255)\"/><rect x=\"440\" y=\"0\" width=\"55\" height=\"55\" style=\"fill:#31a354;stroke-width:2;stroke:rgb(255,255,255)\"/><rect x=\"495\" y=\"0\" width=\"55\" height=\"55\" style=\"fill:#74c476;stroke-width:2;stroke:rgb(255,255,255)\"/><rect x=\"550\" y=\"0\" width=\"55\" height=\"55\" style=\"fill:#a1d99b;stroke-width:2;stroke:rgb(255,255,255)\"/><rect x=\"605\" y=\"0\" width=\"55\" height=\"55\" style=\"fill:#c7e9c0;stroke-width:2;stroke:rgb(255,255,255)\"/><rect x=\"660\" y=\"0\" width=\"55\" height=\"55\" style=\"fill:#756bb1;stroke-width:2;stroke:rgb(255,255,255)\"/><rect x=\"715\" y=\"0\" width=\"55\" height=\"55\" style=\"fill:#9e9ac8;stroke-width:2;stroke:rgb(255,255,255)\"/><rect x=\"770\" y=\"0\" width=\"55\" height=\"55\" style=\"fill:#bcbddc;stroke-width:2;stroke:rgb(255,255,255)\"/><rect x=\"825\" y=\"0\" width=\"55\" height=\"55\" style=\"fill:#dadaeb;stroke-width:2;stroke:rgb(255,255,255)\"/><rect x=\"880\" y=\"0\" width=\"55\" height=\"55\" style=\"fill:#636363;stroke-width:2;stroke:rgb(255,255,255)\"/><rect x=\"935\" y=\"0\" width=\"55\" height=\"55\" style=\"fill:#969696;stroke-width:2;stroke:rgb(255,255,255)\"/><rect x=\"990\" y=\"0\" width=\"55\" height=\"55\" style=\"fill:#bdbdbd;stroke-width:2;stroke:rgb(255,255,255)\"/><rect x=\"1045\" y=\"0\" width=\"55\" height=\"55\" style=\"fill:#d9d9d9;stroke-width:2;stroke:rgb(255,255,255)\"/></svg>"
      ]
     },
     "execution_count": 74,
     "metadata": {},
     "output_type": "execute_result"
    }
   ],
   "source": [
    "sns.color_palette('tab20c', n_colors=20)"
   ]
  },
  {
   "cell_type": "code",
   "execution_count": null,
   "id": "cb22389a",
   "metadata": {},
   "outputs": [],
   "source": []
  },
  {
   "cell_type": "markdown",
   "id": "e6774217",
   "metadata": {},
   "source": [
    "### All clusters"
   ]
  },
  {
   "cell_type": "code",
   "execution_count": 83,
   "id": "6eb2e44d",
   "metadata": {},
   "outputs": [],
   "source": [
    "cluster_color_idxs = {\n",
    "    2: [17, 0],\n",
    "    3: [17, 8, 12], \n",
    "    4: [17, 8, 12, 14],\n",
    "    5: [17, 8, 12, 4, 0],\n",
    "    6: [17, 8, 12, 14, 4, 0],\n",
    "    7: [17, 8, 12, 14, 4, 0, 2],\n",
    "    8: [17, 8, 12, 14, 4, 6, 0, 2],\n",
    "    9: [17, 8, 12, 14, 4, 6, 0, 2, 3],\n",
    "    10: [17, 8, 12, 14, 4, 6, 0, 1, 2, 3],\n",
    "    11: [17, 8, 12, 14, 4, 6, 7, 0, 1, 2, 3],\n",
    "    12: [16, 17, 8, 12, 14, 4, 6, 7, 0, 1, 2, 3],\n",
    "    13: [16, 17, 8, 12, 14, 4, 5, 6, 7, 0, 1, 2, 3],\n",
    "    14: [16, 17, 8, 12, 14, 4, 5, 6, 7, 0, 1, 2, 3, 3],\n",
    "    15: [16, 17, 8, 12, 14, 4, 5, 6, 7, 0, 0, 1, 2, 3, 3],\n",
    "}\n",
    "struct_colors = {\n",
    "    acro: rgb2hex([\n",
    "        item / 255 for item in\n",
    "        allen['structure_tree'].get_structures_by_acronym([acro])[0]['rgb_triplet']\n",
    "    ]) for acro in major_masks\n",
    "}"
   ]
  },
  {
   "cell_type": "code",
   "execution_count": 84,
   "id": "fb645187",
   "metadata": {
    "scrolled": true
   },
   "outputs": [
    {
     "data": {
      "text/html": [
       "<pre style=\"white-space:pre;overflow-x:auto;line-height:normal;font-family:Menlo,'DejaVu Sans Mono',consolas,'Courier New',monospace\">n_clusters = <span style=\"color: #008080; text-decoration-color: #008080; font-weight: bold\">2</span>\n",
       "</pre>\n"
      ],
      "text/plain": [
       "n_clusters = \u001b[1;36m2\u001b[0m\n"
      ]
     },
     "metadata": {},
     "output_type": "display_data"
    },
    {
     "data": {
      "text/html": [
       "<table style=\"border: 0;\"><tr style=\"border: 0;\"><td style=\"background-color: #1f77b4; border: 0;\"><code style=\"background-color: #1f77b4;\">#1f77b4</code></td><td style=\"border: 0\"><code>['(10)', '(128)']</code></td></tr></table>"
      ]
     },
     "metadata": {},
     "output_type": "display_data"
    },
    {
     "data": {
      "image/png": "[encoded data removed]"
     },
     "metadata": {},
     "output_type": "display_data"
    },
    {
     "data": {
      "text/html": [
       "<svg  width=\"110\" height=\"55\"><rect x=\"0\" y=\"0\" width=\"55\" height=\"55\" style=\"fill:#969696;stroke-width:2;stroke:rgb(255,255,255)\"/><rect x=\"55\" y=\"0\" width=\"55\" height=\"55\" style=\"fill:#3182bd;stroke-width:2;stroke:rgb(255,255,255)\"/></svg>"
      ]
     },
     "metadata": {},
     "output_type": "display_data"
    },
    {
     "data": {
      "text/html": [
       "<pre style=\"white-space:pre;overflow-x:auto;line-height:normal;font-family:Menlo,'DejaVu Sans Mono',consolas,'Courier New',monospace\">\n",
       "\n",
       "\n",
       "</pre>\n"
      ],
      "text/plain": [
       "\n",
       "\n",
       "\n"
      ]
     },
     "metadata": {},
     "output_type": "display_data"
    },
    {
     "data": {
      "text/html": [
       "<pre style=\"white-space:pre;overflow-x:auto;line-height:normal;font-family:Menlo,'DejaVu Sans Mono',consolas,'Courier New',monospace\"><span style=\"font-weight: bold\">[</span>PROGRESS<span style=\"font-weight: bold\">]</span> <span style=\"color: #008000; text-decoration-color: #008000\">'ses3-regions_n-2.html'</span> saved at\n",
       "<span style=\"color: #800080; text-decoration-color: #800080\">/home/hadi/Dropbox/git/jb-Ca-fMRI/</span><span style=\"color: #ff00ff; text-decoration-color: #ff00ff\">_extras</span>\n",
       "</pre>\n"
      ],
      "text/plain": [
       "\u001b[1m[\u001b[0mPROGRESS\u001b[1m]\u001b[0m \u001b[32m'ses3-regions_n-2.html'\u001b[0m saved at\n",
       "\u001b[35m/home/hadi/Dropbox/git/jb-Ca-fMRI/\u001b[0m\u001b[95m_extras\u001b[0m\n"
      ]
     },
     "metadata": {},
     "output_type": "display_data"
    },
    {
     "data": {
      "text/html": [
       "<pre style=\"white-space:pre;overflow-x:auto;line-height:normal;font-family:Menlo,'DejaVu Sans Mono',consolas,'Courier New',monospace\"><span style=\"font-weight: bold\">[</span>PROGRESS<span style=\"font-weight: bold\">]</span> <span style=\"color: #008000; text-decoration-color: #008000\">'ses3-clusters_n-2.html'</span> saved at\n",
       "<span style=\"color: #800080; text-decoration-color: #800080\">/home/hadi/Dropbox/git/jb-Ca-fMRI/</span><span style=\"color: #ff00ff; text-decoration-color: #ff00ff\">_extras</span>\n",
       "</pre>\n"
      ],
      "text/plain": [
       "\u001b[1m[\u001b[0mPROGRESS\u001b[1m]\u001b[0m \u001b[32m'ses3-clusters_n-2.html'\u001b[0m saved at\n",
       "\u001b[35m/home/hadi/Dropbox/git/jb-Ca-fMRI/\u001b[0m\u001b[95m_extras\u001b[0m\n"
      ]
     },
     "metadata": {},
     "output_type": "display_data"
    },
    {
     "data": {
      "text/html": [
       "<pre style=\"white-space:pre;overflow-x:auto;line-height:normal;font-family:Menlo,'DejaVu Sans Mono',consolas,'Courier New',monospace\">n_clusters = <span style=\"color: #008080; text-decoration-color: #008080; font-weight: bold\">3</span>\n",
       "</pre>\n"
      ],
      "text/plain": [
       "n_clusters = \u001b[1;36m3\u001b[0m\n"
      ]
     },
     "metadata": {},
     "output_type": "display_data"
    },
    {
     "data": {
      "text/html": [
       "<table style=\"border: 0;\"><tr style=\"border: 0;\"><td style=\"background-color: #1f77b4; border: 0;\"><code style=\"background-color: #1f77b4;\">#1f77b4</code></td><td style=\"border: 0\"><code>['(10)', '(19)', '(109)']</code></td></tr></table>"
      ]
     },
     "metadata": {},
     "output_type": "display_data"
    },
    {
     "data": {
      "image/png": "[encoded data removed]"
     },
     "metadata": {},
     "output_type": "display_data"
    },
    {
     "data": {
      "text/html": [
       "<svg  width=\"165\" height=\"55\"><rect x=\"0\" y=\"0\" width=\"55\" height=\"55\" style=\"fill:#969696;stroke-width:2;stroke:rgb(255,255,255)\"/><rect x=\"55\" y=\"0\" width=\"55\" height=\"55\" style=\"fill:#31a354;stroke-width:2;stroke:rgb(255,255,255)\"/><rect x=\"110\" y=\"0\" width=\"55\" height=\"55\" style=\"fill:#756bb1;stroke-width:2;stroke:rgb(255,255,255)\"/></svg>"
      ]
     },
     "metadata": {},
     "output_type": "display_data"
    },
    {
     "data": {
      "text/html": [
       "<pre style=\"white-space:pre;overflow-x:auto;line-height:normal;font-family:Menlo,'DejaVu Sans Mono',consolas,'Courier New',monospace\">\n",
       "\n",
       "\n",
       "</pre>\n"
      ],
      "text/plain": [
       "\n",
       "\n",
       "\n"
      ]
     },
     "metadata": {},
     "output_type": "display_data"
    },
    {
     "data": {
      "text/html": [
       "<pre style=\"white-space:pre;overflow-x:auto;line-height:normal;font-family:Menlo,'DejaVu Sans Mono',consolas,'Courier New',monospace\"><span style=\"font-weight: bold\">[</span>PROGRESS<span style=\"font-weight: bold\">]</span> <span style=\"color: #008000; text-decoration-color: #008000\">'ses3-regions_n-3.html'</span> saved at\n",
       "<span style=\"color: #800080; text-decoration-color: #800080\">/home/hadi/Dropbox/git/jb-Ca-fMRI/</span><span style=\"color: #ff00ff; text-decoration-color: #ff00ff\">_extras</span>\n",
       "</pre>\n"
      ],
      "text/plain": [
       "\u001b[1m[\u001b[0mPROGRESS\u001b[1m]\u001b[0m \u001b[32m'ses3-regions_n-3.html'\u001b[0m saved at\n",
       "\u001b[35m/home/hadi/Dropbox/git/jb-Ca-fMRI/\u001b[0m\u001b[95m_extras\u001b[0m\n"
      ]
     },
     "metadata": {},
     "output_type": "display_data"
    },
    {
     "data": {
      "text/html": [
       "<pre style=\"white-space:pre;overflow-x:auto;line-height:normal;font-family:Menlo,'DejaVu Sans Mono',consolas,'Courier New',monospace\"><span style=\"font-weight: bold\">[</span>PROGRESS<span style=\"font-weight: bold\">]</span> <span style=\"color: #008000; text-decoration-color: #008000\">'ses3-clusters_n-3.html'</span> saved at\n",
       "<span style=\"color: #800080; text-decoration-color: #800080\">/home/hadi/Dropbox/git/jb-Ca-fMRI/</span><span style=\"color: #ff00ff; text-decoration-color: #ff00ff\">_extras</span>\n",
       "</pre>\n"
      ],
      "text/plain": [
       "\u001b[1m[\u001b[0mPROGRESS\u001b[1m]\u001b[0m \u001b[32m'ses3-clusters_n-3.html'\u001b[0m saved at\n",
       "\u001b[35m/home/hadi/Dropbox/git/jb-Ca-fMRI/\u001b[0m\u001b[95m_extras\u001b[0m\n"
      ]
     },
     "metadata": {},
     "output_type": "display_data"
    },
    {
     "data": {
      "text/html": [
       "<pre style=\"white-space:pre;overflow-x:auto;line-height:normal;font-family:Menlo,'DejaVu Sans Mono',consolas,'Courier New',monospace\">n_clusters = <span style=\"color: #008080; text-decoration-color: #008080; font-weight: bold\">4</span>\n",
       "</pre>\n"
      ],
      "text/plain": [
       "n_clusters = \u001b[1;36m4\u001b[0m\n"
      ]
     },
     "metadata": {},
     "output_type": "display_data"
    },
    {
     "data": {
      "text/html": [
       "<table style=\"border: 0;\"><tr style=\"border: 0;\"><td style=\"background-color: #1f77b4; border: 0;\"><code style=\"background-color: #1f77b4;\">#1f77b4</code></td><td style=\"border: 0\"><code>['(10)', '(19)', '(22)', '(87)']</code></td></tr></table>"
      ]
     },
     "metadata": {},
     "output_type": "display_data"
    },
    {
     "data": {
      "image/png": "[encoded data removed]"
     },
     "metadata": {},
     "output_type": "display_data"
    },
    {
     "data": {
      "text/html": [
       "<svg  width=\"220\" height=\"55\"><rect x=\"0\" y=\"0\" width=\"55\" height=\"55\" style=\"fill:#969696;stroke-width:2;stroke:rgb(255,255,255)\"/><rect x=\"55\" y=\"0\" width=\"55\" height=\"55\" style=\"fill:#31a354;stroke-width:2;stroke:rgb(255,255,255)\"/><rect x=\"110\" y=\"0\" width=\"55\" height=\"55\" style=\"fill:#756bb1;stroke-width:2;stroke:rgb(255,255,255)\"/><rect x=\"165\" y=\"0\" width=\"55\" height=\"55\" style=\"fill:#bcbddc;stroke-width:2;stroke:rgb(255,255,255)\"/></svg>"
      ]
     },
     "metadata": {},
     "output_type": "display_data"
    },
    {
     "data": {
      "text/html": [
       "<pre style=\"white-space:pre;overflow-x:auto;line-height:normal;font-family:Menlo,'DejaVu Sans Mono',consolas,'Courier New',monospace\">\n",
       "\n",
       "\n",
       "</pre>\n"
      ],
      "text/plain": [
       "\n",
       "\n",
       "\n"
      ]
     },
     "metadata": {},
     "output_type": "display_data"
    },
    {
     "data": {
      "text/html": [
       "<pre style=\"white-space:pre;overflow-x:auto;line-height:normal;font-family:Menlo,'DejaVu Sans Mono',consolas,'Courier New',monospace\"><span style=\"font-weight: bold\">[</span>PROGRESS<span style=\"font-weight: bold\">]</span> <span style=\"color: #008000; text-decoration-color: #008000\">'ses3-regions_n-4.html'</span> saved at\n",
       "<span style=\"color: #800080; text-decoration-color: #800080\">/home/hadi/Dropbox/git/jb-Ca-fMRI/</span><span style=\"color: #ff00ff; text-decoration-color: #ff00ff\">_extras</span>\n",
       "</pre>\n"
      ],
      "text/plain": [
       "\u001b[1m[\u001b[0mPROGRESS\u001b[1m]\u001b[0m \u001b[32m'ses3-regions_n-4.html'\u001b[0m saved at\n",
       "\u001b[35m/home/hadi/Dropbox/git/jb-Ca-fMRI/\u001b[0m\u001b[95m_extras\u001b[0m\n"
      ]
     },
     "metadata": {},
     "output_type": "display_data"
    },
    {
     "data": {
      "text/html": [
       "<pre style=\"white-space:pre;overflow-x:auto;line-height:normal;font-family:Menlo,'DejaVu Sans Mono',consolas,'Courier New',monospace\"><span style=\"font-weight: bold\">[</span>PROGRESS<span style=\"font-weight: bold\">]</span> <span style=\"color: #008000; text-decoration-color: #008000\">'ses3-clusters_n-4.html'</span> saved at\n",
       "<span style=\"color: #800080; text-decoration-color: #800080\">/home/hadi/Dropbox/git/jb-Ca-fMRI/</span><span style=\"color: #ff00ff; text-decoration-color: #ff00ff\">_extras</span>\n",
       "</pre>\n"
      ],
      "text/plain": [
       "\u001b[1m[\u001b[0mPROGRESS\u001b[1m]\u001b[0m \u001b[32m'ses3-clusters_n-4.html'\u001b[0m saved at\n",
       "\u001b[35m/home/hadi/Dropbox/git/jb-Ca-fMRI/\u001b[0m\u001b[95m_extras\u001b[0m\n"
      ]
     },
     "metadata": {},
     "output_type": "display_data"
    },
    {
     "data": {
      "text/html": [
       "<pre style=\"white-space:pre;overflow-x:auto;line-height:normal;font-family:Menlo,'DejaVu Sans Mono',consolas,'Courier New',monospace\">n_clusters = <span style=\"color: #008080; text-decoration-color: #008080; font-weight: bold\">5</span>\n",
       "</pre>\n"
      ],
      "text/plain": [
       "n_clusters = \u001b[1;36m5\u001b[0m\n"
      ]
     },
     "metadata": {},
     "output_type": "display_data"
    },
    {
     "data": {
      "text/html": [
       "<table style=\"border: 0;\"><tr style=\"border: 0;\"><td style=\"background-color: #1f77b4; border: 0;\"><code style=\"background-color: #1f77b4;\">#1f77b4</code></td><td style=\"border: 0\"><code>['(10)', '(19)', '(22)']</code></td></tr><tr style=\"border: 0;\"><td style=\"background-color: #ff7f0e; border: 0;\"><code style=\"background-color: #ff7f0e;\">#ff7f0e</code></td><td style=\"border: 0\"><code>['(37)', '(50)']</code></td></tr></table>"
      ]
     },
     "metadata": {},
     "output_type": "display_data"
    },
    {
     "data": {
      "image/png": "[encoded data removed]"
     },
     "metadata": {},
     "output_type": "display_data"
    },
    {
     "data": {
      "text/html": [
       "<svg  width=\"275\" height=\"55\"><rect x=\"0\" y=\"0\" width=\"55\" height=\"55\" style=\"fill:#969696;stroke-width:2;stroke:rgb(255,255,255)\"/><rect x=\"55\" y=\"0\" width=\"55\" height=\"55\" style=\"fill:#31a354;stroke-width:2;stroke:rgb(255,255,255)\"/><rect x=\"110\" y=\"0\" width=\"55\" height=\"55\" style=\"fill:#756bb1;stroke-width:2;stroke:rgb(255,255,255)\"/><rect x=\"165\" y=\"0\" width=\"55\" height=\"55\" style=\"fill:#e6550d;stroke-width:2;stroke:rgb(255,255,255)\"/><rect x=\"220\" y=\"0\" width=\"55\" height=\"55\" style=\"fill:#3182bd;stroke-width:2;stroke:rgb(255,255,255)\"/></svg>"
      ]
     },
     "metadata": {},
     "output_type": "display_data"
    },
    {
     "data": {
      "text/html": [
       "<pre style=\"white-space:pre;overflow-x:auto;line-height:normal;font-family:Menlo,'DejaVu Sans Mono',consolas,'Courier New',monospace\">\n",
       "\n",
       "\n",
       "</pre>\n"
      ],
      "text/plain": [
       "\n",
       "\n",
       "\n"
      ]
     },
     "metadata": {},
     "output_type": "display_data"
    },
    {
     "data": {
      "text/html": [
       "<pre style=\"white-space:pre;overflow-x:auto;line-height:normal;font-family:Menlo,'DejaVu Sans Mono',consolas,'Courier New',monospace\"><span style=\"font-weight: bold\">[</span>PROGRESS<span style=\"font-weight: bold\">]</span> <span style=\"color: #008000; text-decoration-color: #008000\">'ses3-regions_n-5.html'</span> saved at\n",
       "<span style=\"color: #800080; text-decoration-color: #800080\">/home/hadi/Dropbox/git/jb-Ca-fMRI/</span><span style=\"color: #ff00ff; text-decoration-color: #ff00ff\">_extras</span>\n",
       "</pre>\n"
      ],
      "text/plain": [
       "\u001b[1m[\u001b[0mPROGRESS\u001b[1m]\u001b[0m \u001b[32m'ses3-regions_n-5.html'\u001b[0m saved at\n",
       "\u001b[35m/home/hadi/Dropbox/git/jb-Ca-fMRI/\u001b[0m\u001b[95m_extras\u001b[0m\n"
      ]
     },
     "metadata": {},
     "output_type": "display_data"
    },
    {
     "data": {
      "text/html": [
       "<pre style=\"white-space:pre;overflow-x:auto;line-height:normal;font-family:Menlo,'DejaVu Sans Mono',consolas,'Courier New',monospace\"><span style=\"font-weight: bold\">[</span>PROGRESS<span style=\"font-weight: bold\">]</span> <span style=\"color: #008000; text-decoration-color: #008000\">'ses3-clusters_n-5.html'</span> saved at\n",
       "<span style=\"color: #800080; text-decoration-color: #800080\">/home/hadi/Dropbox/git/jb-Ca-fMRI/</span><span style=\"color: #ff00ff; text-decoration-color: #ff00ff\">_extras</span>\n",
       "</pre>\n"
      ],
      "text/plain": [
       "\u001b[1m[\u001b[0mPROGRESS\u001b[1m]\u001b[0m \u001b[32m'ses3-clusters_n-5.html'\u001b[0m saved at\n",
       "\u001b[35m/home/hadi/Dropbox/git/jb-Ca-fMRI/\u001b[0m\u001b[95m_extras\u001b[0m\n"
      ]
     },
     "metadata": {},
     "output_type": "display_data"
    },
    {
     "data": {
      "text/html": [
       "<pre style=\"white-space:pre;overflow-x:auto;line-height:normal;font-family:Menlo,'DejaVu Sans Mono',consolas,'Courier New',monospace\">n_clusters = <span style=\"color: #008080; text-decoration-color: #008080; font-weight: bold\">6</span>\n",
       "</pre>\n"
      ],
      "text/plain": [
       "n_clusters = \u001b[1;36m6\u001b[0m\n"
      ]
     },
     "metadata": {},
     "output_type": "display_data"
    },
    {
     "data": {
      "text/html": [
       "<table style=\"border: 0;\"><tr style=\"border: 0;\"><td style=\"background-color: #1f77b4; border: 0;\"><code style=\"background-color: #1f77b4;\">#1f77b4</code></td><td style=\"border: 0\"><code>['(10)', '(19)']</code></td></tr><tr style=\"border: 0;\"><td style=\"background-color: #ff7f0e; border: 0;\"><code style=\"background-color: #ff7f0e;\">#ff7f0e</code></td><td style=\"border: 0\"><code>['(11)', '(11)']</code></td></tr><tr style=\"border: 0;\"><td style=\"background-color: #2ca02c; border: 0;\"><code style=\"background-color: #2ca02c;\">#2ca02c</code></td><td style=\"border: 0\"><code>['(37)', '(50)']</code></td></tr></table>"
      ]
     },
     "metadata": {},
     "output_type": "display_data"
    },
    {
     "data": {
      "image/png": "[encoded data removed]"
     },
     "metadata": {},
     "output_type": "display_data"
    },
    {
     "data": {
      "text/html": [
       "<svg  width=\"330\" height=\"55\"><rect x=\"0\" y=\"0\" width=\"55\" height=\"55\" style=\"fill:#969696;stroke-width:2;stroke:rgb(255,255,255)\"/><rect x=\"55\" y=\"0\" width=\"55\" height=\"55\" style=\"fill:#31a354;stroke-width:2;stroke:rgb(255,255,255)\"/><rect x=\"110\" y=\"0\" width=\"55\" height=\"55\" style=\"fill:#756bb1;stroke-width:2;stroke:rgb(255,255,255)\"/><rect x=\"165\" y=\"0\" width=\"55\" height=\"55\" style=\"fill:#bcbddc;stroke-width:2;stroke:rgb(255,255,255)\"/><rect x=\"220\" y=\"0\" width=\"55\" height=\"55\" style=\"fill:#e6550d;stroke-width:2;stroke:rgb(255,255,255)\"/><rect x=\"275\" y=\"0\" width=\"55\" height=\"55\" style=\"fill:#3182bd;stroke-width:2;stroke:rgb(255,255,255)\"/></svg>"
      ]
     },
     "metadata": {},
     "output_type": "display_data"
    },
    {
     "data": {
      "text/html": [
       "<pre style=\"white-space:pre;overflow-x:auto;line-height:normal;font-family:Menlo,'DejaVu Sans Mono',consolas,'Courier New',monospace\">\n",
       "\n",
       "\n",
       "</pre>\n"
      ],
      "text/plain": [
       "\n",
       "\n",
       "\n"
      ]
     },
     "metadata": {},
     "output_type": "display_data"
    },
    {
     "data": {
      "text/html": [
       "<pre style=\"white-space:pre;overflow-x:auto;line-height:normal;font-family:Menlo,'DejaVu Sans Mono',consolas,'Courier New',monospace\"><span style=\"font-weight: bold\">[</span>PROGRESS<span style=\"font-weight: bold\">]</span> <span style=\"color: #008000; text-decoration-color: #008000\">'ses3-regions_n-6.html'</span> saved at\n",
       "<span style=\"color: #800080; text-decoration-color: #800080\">/home/hadi/Dropbox/git/jb-Ca-fMRI/</span><span style=\"color: #ff00ff; text-decoration-color: #ff00ff\">_extras</span>\n",
       "</pre>\n"
      ],
      "text/plain": [
       "\u001b[1m[\u001b[0mPROGRESS\u001b[1m]\u001b[0m \u001b[32m'ses3-regions_n-6.html'\u001b[0m saved at\n",
       "\u001b[35m/home/hadi/Dropbox/git/jb-Ca-fMRI/\u001b[0m\u001b[95m_extras\u001b[0m\n"
      ]
     },
     "metadata": {},
     "output_type": "display_data"
    },
    {
     "data": {
      "text/html": [
       "<pre style=\"white-space:pre;overflow-x:auto;line-height:normal;font-family:Menlo,'DejaVu Sans Mono',consolas,'Courier New',monospace\"><span style=\"font-weight: bold\">[</span>PROGRESS<span style=\"font-weight: bold\">]</span> <span style=\"color: #008000; text-decoration-color: #008000\">'ses3-clusters_n-6.html'</span> saved at\n",
       "<span style=\"color: #800080; text-decoration-color: #800080\">/home/hadi/Dropbox/git/jb-Ca-fMRI/</span><span style=\"color: #ff00ff; text-decoration-color: #ff00ff\">_extras</span>\n",
       "</pre>\n"
      ],
      "text/plain": [
       "\u001b[1m[\u001b[0mPROGRESS\u001b[1m]\u001b[0m \u001b[32m'ses3-clusters_n-6.html'\u001b[0m saved at\n",
       "\u001b[35m/home/hadi/Dropbox/git/jb-Ca-fMRI/\u001b[0m\u001b[95m_extras\u001b[0m\n"
      ]
     },
     "metadata": {},
     "output_type": "display_data"
    },
    {
     "data": {
      "text/html": [
       "<pre style=\"white-space:pre;overflow-x:auto;line-height:normal;font-family:Menlo,'DejaVu Sans Mono',consolas,'Courier New',monospace\">n_clusters = <span style=\"color: #008080; text-decoration-color: #008080; font-weight: bold\">7</span>\n",
       "</pre>\n"
      ],
      "text/plain": [
       "n_clusters = \u001b[1;36m7\u001b[0m\n"
      ]
     },
     "metadata": {},
     "output_type": "display_data"
    },
    {
     "data": {
      "text/html": [
       "<table style=\"border: 0;\"><tr style=\"border: 0;\"><td style=\"background-color: #1f77b4; border: 0;\"><code style=\"background-color: #1f77b4;\">#1f77b4</code></td><td style=\"border: 0\"><code>['(10)', '(19)']</code></td></tr><tr style=\"border: 0;\"><td style=\"background-color: #ff7f0e; border: 0;\"><code style=\"background-color: #ff7f0e;\">#ff7f0e</code></td><td style=\"border: 0\"><code>['(11)', '(11)']</code></td></tr><tr style=\"border: 0;\"><td style=\"background-color: #2ca02c; border: 0;\"><code style=\"background-color: #2ca02c;\">#2ca02c</code></td><td style=\"border: 0\"><code>['(37)', '(14)', '(36)']</code></td></tr></table>"
      ]
     },
     "metadata": {},
     "output_type": "display_data"
    },
    {
     "data": {
      "image/png": "[encoded data removed]"
     },
     "metadata": {},
     "output_type": "display_data"
    },
    {
     "data": {
      "text/html": [
       "<svg  width=\"385\" height=\"55\"><rect x=\"0\" y=\"0\" width=\"55\" height=\"55\" style=\"fill:#969696;stroke-width:2;stroke:rgb(255,255,255)\"/><rect x=\"55\" y=\"0\" width=\"55\" height=\"55\" style=\"fill:#31a354;stroke-width:2;stroke:rgb(255,255,255)\"/><rect x=\"110\" y=\"0\" width=\"55\" height=\"55\" style=\"fill:#756bb1;stroke-width:2;stroke:rgb(255,255,255)\"/><rect x=\"165\" y=\"0\" width=\"55\" height=\"55\" style=\"fill:#bcbddc;stroke-width:2;stroke:rgb(255,255,255)\"/><rect x=\"220\" y=\"0\" width=\"55\" height=\"55\" style=\"fill:#e6550d;stroke-width:2;stroke:rgb(255,255,255)\"/><rect x=\"275\" y=\"0\" width=\"55\" height=\"55\" style=\"fill:#3182bd;stroke-width:2;stroke:rgb(255,255,255)\"/><rect x=\"330\" y=\"0\" width=\"55\" height=\"55\" style=\"fill:#9ecae1;stroke-width:2;stroke:rgb(255,255,255)\"/></svg>"
      ]
     },
     "metadata": {},
     "output_type": "display_data"
    },
    {
     "data": {
      "text/html": [
       "<pre style=\"white-space:pre;overflow-x:auto;line-height:normal;font-family:Menlo,'DejaVu Sans Mono',consolas,'Courier New',monospace\">\n",
       "\n",
       "\n",
       "</pre>\n"
      ],
      "text/plain": [
       "\n",
       "\n",
       "\n"
      ]
     },
     "metadata": {},
     "output_type": "display_data"
    },
    {
     "data": {
      "text/html": [
       "<pre style=\"white-space:pre;overflow-x:auto;line-height:normal;font-family:Menlo,'DejaVu Sans Mono',consolas,'Courier New',monospace\"><span style=\"font-weight: bold\">[</span>PROGRESS<span style=\"font-weight: bold\">]</span> <span style=\"color: #008000; text-decoration-color: #008000\">'ses3-regions_n-7.html'</span> saved at\n",
       "<span style=\"color: #800080; text-decoration-color: #800080\">/home/hadi/Dropbox/git/jb-Ca-fMRI/</span><span style=\"color: #ff00ff; text-decoration-color: #ff00ff\">_extras</span>\n",
       "</pre>\n"
      ],
      "text/plain": [
       "\u001b[1m[\u001b[0mPROGRESS\u001b[1m]\u001b[0m \u001b[32m'ses3-regions_n-7.html'\u001b[0m saved at\n",
       "\u001b[35m/home/hadi/Dropbox/git/jb-Ca-fMRI/\u001b[0m\u001b[95m_extras\u001b[0m\n"
      ]
     },
     "metadata": {},
     "output_type": "display_data"
    },
    {
     "data": {
      "text/html": [
       "<pre style=\"white-space:pre;overflow-x:auto;line-height:normal;font-family:Menlo,'DejaVu Sans Mono',consolas,'Courier New',monospace\"><span style=\"font-weight: bold\">[</span>PROGRESS<span style=\"font-weight: bold\">]</span> <span style=\"color: #008000; text-decoration-color: #008000\">'ses3-clusters_n-7.html'</span> saved at\n",
       "<span style=\"color: #800080; text-decoration-color: #800080\">/home/hadi/Dropbox/git/jb-Ca-fMRI/</span><span style=\"color: #ff00ff; text-decoration-color: #ff00ff\">_extras</span>\n",
       "</pre>\n"
      ],
      "text/plain": [
       "\u001b[1m[\u001b[0mPROGRESS\u001b[1m]\u001b[0m \u001b[32m'ses3-clusters_n-7.html'\u001b[0m saved at\n",
       "\u001b[35m/home/hadi/Dropbox/git/jb-Ca-fMRI/\u001b[0m\u001b[95m_extras\u001b[0m\n"
      ]
     },
     "metadata": {},
     "output_type": "display_data"
    },
    {
     "data": {
      "text/html": [
       "<pre style=\"white-space:pre;overflow-x:auto;line-height:normal;font-family:Menlo,'DejaVu Sans Mono',consolas,'Courier New',monospace\">n_clusters = <span style=\"color: #008080; text-decoration-color: #008080; font-weight: bold\">8</span>\n",
       "</pre>\n"
      ],
      "text/plain": [
       "n_clusters = \u001b[1;36m8\u001b[0m\n"
      ]
     },
     "metadata": {},
     "output_type": "display_data"
    },
    {
     "data": {
      "text/html": [
       "<table style=\"border: 0;\"><tr style=\"border: 0;\"><td style=\"background-color: #1f77b4; border: 0;\"><code style=\"background-color: #1f77b4;\">#1f77b4</code></td><td style=\"border: 0\"><code>['(10)', '(19)']</code></td></tr><tr style=\"border: 0;\"><td style=\"background-color: #ff7f0e; border: 0;\"><code style=\"background-color: #ff7f0e;\">#ff7f0e</code></td><td style=\"border: 0\"><code>['(11)', '(11)']</code></td></tr><tr style=\"border: 0;\"><td style=\"background-color: #2ca02c; border: 0;\"><code style=\"background-color: #2ca02c;\">#2ca02c</code></td><td style=\"border: 0\"><code>['(15)', '(22)', '(14)', '(36)']</code></td></tr></table>"
      ]
     },
     "metadata": {},
     "output_type": "display_data"
    },
    {
     "data": {
      "image/png": "[encoded data removed]"
     },
     "metadata": {},
     "output_type": "display_data"
    },
    {
     "data": {
      "text/html": [
       "<svg  width=\"440\" height=\"55\"><rect x=\"0\" y=\"0\" width=\"55\" height=\"55\" style=\"fill:#969696;stroke-width:2;stroke:rgb(255,255,255)\"/><rect x=\"55\" y=\"0\" width=\"55\" height=\"55\" style=\"fill:#31a354;stroke-width:2;stroke:rgb(255,255,255)\"/><rect x=\"110\" y=\"0\" width=\"55\" height=\"55\" style=\"fill:#756bb1;stroke-width:2;stroke:rgb(255,255,255)\"/><rect x=\"165\" y=\"0\" width=\"55\" height=\"55\" style=\"fill:#bcbddc;stroke-width:2;stroke:rgb(255,255,255)\"/><rect x=\"220\" y=\"0\" width=\"55\" height=\"55\" style=\"fill:#e6550d;stroke-width:2;stroke:rgb(255,255,255)\"/><rect x=\"275\" y=\"0\" width=\"55\" height=\"55\" style=\"fill:#fdae6b;stroke-width:2;stroke:rgb(255,255,255)\"/><rect x=\"330\" y=\"0\" width=\"55\" height=\"55\" style=\"fill:#3182bd;stroke-width:2;stroke:rgb(255,255,255)\"/><rect x=\"385\" y=\"0\" width=\"55\" height=\"55\" style=\"fill:#9ecae1;stroke-width:2;stroke:rgb(255,255,255)\"/></svg>"
      ]
     },
     "metadata": {},
     "output_type": "display_data"
    },
    {
     "data": {
      "text/html": [
       "<pre style=\"white-space:pre;overflow-x:auto;line-height:normal;font-family:Menlo,'DejaVu Sans Mono',consolas,'Courier New',monospace\">\n",
       "\n",
       "\n",
       "</pre>\n"
      ],
      "text/plain": [
       "\n",
       "\n",
       "\n"
      ]
     },
     "metadata": {},
     "output_type": "display_data"
    },
    {
     "data": {
      "text/html": [
       "<pre style=\"white-space:pre;overflow-x:auto;line-height:normal;font-family:Menlo,'DejaVu Sans Mono',consolas,'Courier New',monospace\"><span style=\"font-weight: bold\">[</span>PROGRESS<span style=\"font-weight: bold\">]</span> <span style=\"color: #008000; text-decoration-color: #008000\">'ses3-regions_n-8.html'</span> saved at\n",
       "<span style=\"color: #800080; text-decoration-color: #800080\">/home/hadi/Dropbox/git/jb-Ca-fMRI/</span><span style=\"color: #ff00ff; text-decoration-color: #ff00ff\">_extras</span>\n",
       "</pre>\n"
      ],
      "text/plain": [
       "\u001b[1m[\u001b[0mPROGRESS\u001b[1m]\u001b[0m \u001b[32m'ses3-regions_n-8.html'\u001b[0m saved at\n",
       "\u001b[35m/home/hadi/Dropbox/git/jb-Ca-fMRI/\u001b[0m\u001b[95m_extras\u001b[0m\n"
      ]
     },
     "metadata": {},
     "output_type": "display_data"
    },
    {
     "data": {
      "text/html": [
       "<pre style=\"white-space:pre;overflow-x:auto;line-height:normal;font-family:Menlo,'DejaVu Sans Mono',consolas,'Courier New',monospace\"><span style=\"font-weight: bold\">[</span>PROGRESS<span style=\"font-weight: bold\">]</span> <span style=\"color: #008000; text-decoration-color: #008000\">'ses3-clusters_n-8.html'</span> saved at\n",
       "<span style=\"color: #800080; text-decoration-color: #800080\">/home/hadi/Dropbox/git/jb-Ca-fMRI/</span><span style=\"color: #ff00ff; text-decoration-color: #ff00ff\">_extras</span>\n",
       "</pre>\n"
      ],
      "text/plain": [
       "\u001b[1m[\u001b[0mPROGRESS\u001b[1m]\u001b[0m \u001b[32m'ses3-clusters_n-8.html'\u001b[0m saved at\n",
       "\u001b[35m/home/hadi/Dropbox/git/jb-Ca-fMRI/\u001b[0m\u001b[95m_extras\u001b[0m\n"
      ]
     },
     "metadata": {},
     "output_type": "display_data"
    },
    {
     "data": {
      "text/html": [
       "<pre style=\"white-space:pre;overflow-x:auto;line-height:normal;font-family:Menlo,'DejaVu Sans Mono',consolas,'Courier New',monospace\">n_clusters = <span style=\"color: #008080; text-decoration-color: #008080; font-weight: bold\">9</span>\n",
       "</pre>\n"
      ],
      "text/plain": [
       "n_clusters = \u001b[1;36m9\u001b[0m\n"
      ]
     },
     "metadata": {},
     "output_type": "display_data"
    },
    {
     "data": {
      "text/html": [
       "<table style=\"border: 0;\"><tr style=\"border: 0;\"><td style=\"background-color: #1f77b4; border: 0;\"><code style=\"background-color: #1f77b4;\">#1f77b4</code></td><td style=\"border: 0\"><code>['(10)', '(19)']</code></td></tr><tr style=\"border: 0;\"><td style=\"background-color: #ff7f0e; border: 0;\"><code style=\"background-color: #ff7f0e;\">#ff7f0e</code></td><td style=\"border: 0\"><code>['(11)', '(11)']</code></td></tr><tr style=\"border: 0;\"><td style=\"background-color: #2ca02c; border: 0;\"><code style=\"background-color: #2ca02c;\">#2ca02c</code></td><td style=\"border: 0\"><code>['(15)', '(22)', '(14)', '(13)', '(23)']</code></td></tr></table>"
      ]
     },
     "metadata": {},
     "output_type": "display_data"
    },
    {
     "data": {
      "image/png": "[encoded data removed]"
     },
     "metadata": {},
     "output_type": "display_data"
    },
    {
     "data": {
      "text/html": [
       "<svg  width=\"495\" height=\"55\"><rect x=\"0\" y=\"0\" width=\"55\" height=\"55\" style=\"fill:#969696;stroke-width:2;stroke:rgb(255,255,255)\"/><rect x=\"55\" y=\"0\" width=\"55\" height=\"55\" style=\"fill:#31a354;stroke-width:2;stroke:rgb(255,255,255)\"/><rect x=\"110\" y=\"0\" width=\"55\" height=\"55\" style=\"fill:#756bb1;stroke-width:2;stroke:rgb(255,255,255)\"/><rect x=\"165\" y=\"0\" width=\"55\" height=\"55\" style=\"fill:#bcbddc;stroke-width:2;stroke:rgb(255,255,255)\"/><rect x=\"220\" y=\"0\" width=\"55\" height=\"55\" style=\"fill:#e6550d;stroke-width:2;stroke:rgb(255,255,255)\"/><rect x=\"275\" y=\"0\" width=\"55\" height=\"55\" style=\"fill:#fdae6b;stroke-width:2;stroke:rgb(255,255,255)\"/><rect x=\"330\" y=\"0\" width=\"55\" height=\"55\" style=\"fill:#3182bd;stroke-width:2;stroke:rgb(255,255,255)\"/><rect x=\"385\" y=\"0\" width=\"55\" height=\"55\" style=\"fill:#9ecae1;stroke-width:2;stroke:rgb(255,255,255)\"/><rect x=\"440\" y=\"0\" width=\"55\" height=\"55\" style=\"fill:#c6dbef;stroke-width:2;stroke:rgb(255,255,255)\"/></svg>"
      ]
     },
     "metadata": {},
     "output_type": "display_data"
    },
    {
     "data": {
      "text/html": [
       "<pre style=\"white-space:pre;overflow-x:auto;line-height:normal;font-family:Menlo,'DejaVu Sans Mono',consolas,'Courier New',monospace\">\n",
       "\n",
       "\n",
       "</pre>\n"
      ],
      "text/plain": [
       "\n",
       "\n",
       "\n"
      ]
     },
     "metadata": {},
     "output_type": "display_data"
    },
    {
     "data": {
      "text/html": [
       "<pre style=\"white-space:pre;overflow-x:auto;line-height:normal;font-family:Menlo,'DejaVu Sans Mono',consolas,'Courier New',monospace\"><span style=\"font-weight: bold\">[</span>PROGRESS<span style=\"font-weight: bold\">]</span> <span style=\"color: #008000; text-decoration-color: #008000\">'ses3-regions_n-9.html'</span> saved at\n",
       "<span style=\"color: #800080; text-decoration-color: #800080\">/home/hadi/Dropbox/git/jb-Ca-fMRI/</span><span style=\"color: #ff00ff; text-decoration-color: #ff00ff\">_extras</span>\n",
       "</pre>\n"
      ],
      "text/plain": [
       "\u001b[1m[\u001b[0mPROGRESS\u001b[1m]\u001b[0m \u001b[32m'ses3-regions_n-9.html'\u001b[0m saved at\n",
       "\u001b[35m/home/hadi/Dropbox/git/jb-Ca-fMRI/\u001b[0m\u001b[95m_extras\u001b[0m\n"
      ]
     },
     "metadata": {},
     "output_type": "display_data"
    },
    {
     "data": {
      "text/html": [
       "<pre style=\"white-space:pre;overflow-x:auto;line-height:normal;font-family:Menlo,'DejaVu Sans Mono',consolas,'Courier New',monospace\"><span style=\"font-weight: bold\">[</span>PROGRESS<span style=\"font-weight: bold\">]</span> <span style=\"color: #008000; text-decoration-color: #008000\">'ses3-clusters_n-9.html'</span> saved at\n",
       "<span style=\"color: #800080; text-decoration-color: #800080\">/home/hadi/Dropbox/git/jb-Ca-fMRI/</span><span style=\"color: #ff00ff; text-decoration-color: #ff00ff\">_extras</span>\n",
       "</pre>\n"
      ],
      "text/plain": [
       "\u001b[1m[\u001b[0mPROGRESS\u001b[1m]\u001b[0m \u001b[32m'ses3-clusters_n-9.html'\u001b[0m saved at\n",
       "\u001b[35m/home/hadi/Dropbox/git/jb-Ca-fMRI/\u001b[0m\u001b[95m_extras\u001b[0m\n"
      ]
     },
     "metadata": {},
     "output_type": "display_data"
    },
    {
     "data": {
      "text/html": [
       "<pre style=\"white-space:pre;overflow-x:auto;line-height:normal;font-family:Menlo,'DejaVu Sans Mono',consolas,'Courier New',monospace\">n_clusters = <span style=\"color: #008080; text-decoration-color: #008080; font-weight: bold\">10</span>\n",
       "</pre>\n"
      ],
      "text/plain": [
       "n_clusters = \u001b[1;36m10\u001b[0m\n"
      ]
     },
     "metadata": {},
     "output_type": "display_data"
    },
    {
     "data": {
      "text/html": [
       "<table style=\"border: 0;\"><tr style=\"border: 0;\"><td style=\"background-color: #1f77b4; border: 0;\"><code style=\"background-color: #1f77b4;\">#1f77b4</code></td><td style=\"border: 0\"><code>['(10)', '(19)']</code></td></tr><tr style=\"border: 0;\"><td style=\"background-color: #ff7f0e; border: 0;\"><code style=\"background-color: #ff7f0e;\">#ff7f0e</code></td><td style=\"border: 0\"><code>['(11)', '(11)']</code></td></tr><tr style=\"border: 0;\"><td style=\"background-color: #2ca02c; border: 0;\"><code style=\"background-color: #2ca02c;\">#2ca02c</code></td><td style=\"border: 0\"><code>['(15)', '(22)', '(14)', '(13)', '(9)', '(14)']</code></td></tr></table>"
      ]
     },
     "metadata": {},
     "output_type": "display_data"
    },
    {
     "data": {
      "image/png": "[encoded data removed]"
     },
     "metadata": {},
     "output_type": "display_data"
    },
    {
     "data": {
      "text/html": [
       "<svg  width=\"550\" height=\"55\"><rect x=\"0\" y=\"0\" width=\"55\" height=\"55\" style=\"fill:#969696;stroke-width:2;stroke:rgb(255,255,255)\"/><rect x=\"55\" y=\"0\" width=\"55\" height=\"55\" style=\"fill:#31a354;stroke-width:2;stroke:rgb(255,255,255)\"/><rect x=\"110\" y=\"0\" width=\"55\" height=\"55\" style=\"fill:#756bb1;stroke-width:2;stroke:rgb(255,255,255)\"/><rect x=\"165\" y=\"0\" width=\"55\" height=\"55\" style=\"fill:#bcbddc;stroke-width:2;stroke:rgb(255,255,255)\"/><rect x=\"220\" y=\"0\" width=\"55\" height=\"55\" style=\"fill:#e6550d;stroke-width:2;stroke:rgb(255,255,255)\"/><rect x=\"275\" y=\"0\" width=\"55\" height=\"55\" style=\"fill:#fdae6b;stroke-width:2;stroke:rgb(255,255,255)\"/><rect x=\"330\" y=\"0\" width=\"55\" height=\"55\" style=\"fill:#3182bd;stroke-width:2;stroke:rgb(255,255,255)\"/><rect x=\"385\" y=\"0\" width=\"55\" height=\"55\" style=\"fill:#6baed6;stroke-width:2;stroke:rgb(255,255,255)\"/><rect x=\"440\" y=\"0\" width=\"55\" height=\"55\" style=\"fill:#9ecae1;stroke-width:2;stroke:rgb(255,255,255)\"/><rect x=\"495\" y=\"0\" width=\"55\" height=\"55\" style=\"fill:#c6dbef;stroke-width:2;stroke:rgb(255,255,255)\"/></svg>"
      ]
     },
     "metadata": {},
     "output_type": "display_data"
    },
    {
     "data": {
      "text/html": [
       "<pre style=\"white-space:pre;overflow-x:auto;line-height:normal;font-family:Menlo,'DejaVu Sans Mono',consolas,'Courier New',monospace\">\n",
       "\n",
       "\n",
       "</pre>\n"
      ],
      "text/plain": [
       "\n",
       "\n",
       "\n"
      ]
     },
     "metadata": {},
     "output_type": "display_data"
    },
    {
     "data": {
      "text/html": [
       "<pre style=\"white-space:pre;overflow-x:auto;line-height:normal;font-family:Menlo,'DejaVu Sans Mono',consolas,'Courier New',monospace\"><span style=\"font-weight: bold\">[</span>PROGRESS<span style=\"font-weight: bold\">]</span> <span style=\"color: #008000; text-decoration-color: #008000\">'ses3-regions_n-10.html'</span> saved at\n",
       "<span style=\"color: #800080; text-decoration-color: #800080\">/home/hadi/Dropbox/git/jb-Ca-fMRI/</span><span style=\"color: #ff00ff; text-decoration-color: #ff00ff\">_extras</span>\n",
       "</pre>\n"
      ],
      "text/plain": [
       "\u001b[1m[\u001b[0mPROGRESS\u001b[1m]\u001b[0m \u001b[32m'ses3-regions_n-10.html'\u001b[0m saved at\n",
       "\u001b[35m/home/hadi/Dropbox/git/jb-Ca-fMRI/\u001b[0m\u001b[95m_extras\u001b[0m\n"
      ]
     },
     "metadata": {},
     "output_type": "display_data"
    },
    {
     "data": {
      "text/html": [
       "<pre style=\"white-space:pre;overflow-x:auto;line-height:normal;font-family:Menlo,'DejaVu Sans Mono',consolas,'Courier New',monospace\"><span style=\"font-weight: bold\">[</span>PROGRESS<span style=\"font-weight: bold\">]</span> <span style=\"color: #008000; text-decoration-color: #008000\">'ses3-clusters_n-10.html'</span> saved at\n",
       "<span style=\"color: #800080; text-decoration-color: #800080\">/home/hadi/Dropbox/git/jb-Ca-fMRI/</span><span style=\"color: #ff00ff; text-decoration-color: #ff00ff\">_extras</span>\n",
       "</pre>\n"
      ],
      "text/plain": [
       "\u001b[1m[\u001b[0mPROGRESS\u001b[1m]\u001b[0m \u001b[32m'ses3-clusters_n-10.html'\u001b[0m saved at\n",
       "\u001b[35m/home/hadi/Dropbox/git/jb-Ca-fMRI/\u001b[0m\u001b[95m_extras\u001b[0m\n"
      ]
     },
     "metadata": {},
     "output_type": "display_data"
    },
    {
     "data": {
      "text/html": [
       "<pre style=\"white-space:pre;overflow-x:auto;line-height:normal;font-family:Menlo,'DejaVu Sans Mono',consolas,'Courier New',monospace\">n_clusters = <span style=\"color: #008080; text-decoration-color: #008080; font-weight: bold\">11</span>\n",
       "</pre>\n"
      ],
      "text/plain": [
       "n_clusters = \u001b[1;36m11\u001b[0m\n"
      ]
     },
     "metadata": {},
     "output_type": "display_data"
    },
    {
     "data": {
      "text/html": [
       "<table style=\"border: 0;\"><tr style=\"border: 0;\"><td style=\"background-color: #1f77b4; border: 0;\"><code style=\"background-color: #1f77b4;\">#1f77b4</code></td><td style=\"border: 0\"><code>['(10)', '(19)']</code></td></tr><tr style=\"border: 0;\"><td style=\"background-color: #ff7f0e; border: 0;\"><code style=\"background-color: #ff7f0e;\">#ff7f0e</code></td><td style=\"border: 0\"><code>['(11)', '(11)']</code></td></tr><tr style=\"border: 0;\"><td style=\"background-color: #2ca02c; border: 0;\"><code style=\"background-color: #2ca02c;\">#2ca02c</code></td><td style=\"border: 0\"><code>['(15)', '(9)', '(13)', '(14)', '(13)', '(9)', '(14)']</code></td></tr></table>"
      ]
     },
     "metadata": {},
     "output_type": "display_data"
    },
    {
     "data": {
      "image/png": "[encoded data removed]"
     },
     "metadata": {},
     "output_type": "display_data"
    },
    {
     "data": {
      "text/html": [
       "<svg  width=\"605\" height=\"55\"><rect x=\"0\" y=\"0\" width=\"55\" height=\"55\" style=\"fill:#969696;stroke-width:2;stroke:rgb(255,255,255)\"/><rect x=\"55\" y=\"0\" width=\"55\" height=\"55\" style=\"fill:#31a354;stroke-width:2;stroke:rgb(255,255,255)\"/><rect x=\"110\" y=\"0\" width=\"55\" height=\"55\" style=\"fill:#756bb1;stroke-width:2;stroke:rgb(255,255,255)\"/><rect x=\"165\" y=\"0\" width=\"55\" height=\"55\" style=\"fill:#bcbddc;stroke-width:2;stroke:rgb(255,255,255)\"/><rect x=\"220\" y=\"0\" width=\"55\" height=\"55\" style=\"fill:#e6550d;stroke-width:2;stroke:rgb(255,255,255)\"/><rect x=\"275\" y=\"0\" width=\"55\" height=\"55\" style=\"fill:#fdae6b;stroke-width:2;stroke:rgb(255,255,255)\"/><rect x=\"330\" y=\"0\" width=\"55\" height=\"55\" style=\"fill:#fdd0a2;stroke-width:2;stroke:rgb(255,255,255)\"/><rect x=\"385\" y=\"0\" width=\"55\" height=\"55\" style=\"fill:#3182bd;stroke-width:2;stroke:rgb(255,255,255)\"/><rect x=\"440\" y=\"0\" width=\"55\" height=\"55\" style=\"fill:#6baed6;stroke-width:2;stroke:rgb(255,255,255)\"/><rect x=\"495\" y=\"0\" width=\"55\" height=\"55\" style=\"fill:#9ecae1;stroke-width:2;stroke:rgb(255,255,255)\"/><rect x=\"550\" y=\"0\" width=\"55\" height=\"55\" style=\"fill:#c6dbef;stroke-width:2;stroke:rgb(255,255,255)\"/></svg>"
      ]
     },
     "metadata": {},
     "output_type": "display_data"
    },
    {
     "data": {
      "text/html": [
       "<pre style=\"white-space:pre;overflow-x:auto;line-height:normal;font-family:Menlo,'DejaVu Sans Mono',consolas,'Courier New',monospace\">\n",
       "\n",
       "\n",
       "</pre>\n"
      ],
      "text/plain": [
       "\n",
       "\n",
       "\n"
      ]
     },
     "metadata": {},
     "output_type": "display_data"
    },
    {
     "data": {
      "text/html": [
       "<pre style=\"white-space:pre;overflow-x:auto;line-height:normal;font-family:Menlo,'DejaVu Sans Mono',consolas,'Courier New',monospace\"><span style=\"font-weight: bold\">[</span>PROGRESS<span style=\"font-weight: bold\">]</span> <span style=\"color: #008000; text-decoration-color: #008000\">'ses3-regions_n-11.html'</span> saved at\n",
       "<span style=\"color: #800080; text-decoration-color: #800080\">/home/hadi/Dropbox/git/jb-Ca-fMRI/</span><span style=\"color: #ff00ff; text-decoration-color: #ff00ff\">_extras</span>\n",
       "</pre>\n"
      ],
      "text/plain": [
       "\u001b[1m[\u001b[0mPROGRESS\u001b[1m]\u001b[0m \u001b[32m'ses3-regions_n-11.html'\u001b[0m saved at\n",
       "\u001b[35m/home/hadi/Dropbox/git/jb-Ca-fMRI/\u001b[0m\u001b[95m_extras\u001b[0m\n"
      ]
     },
     "metadata": {},
     "output_type": "display_data"
    },
    {
     "data": {
      "text/html": [
       "<pre style=\"white-space:pre;overflow-x:auto;line-height:normal;font-family:Menlo,'DejaVu Sans Mono',consolas,'Courier New',monospace\"><span style=\"font-weight: bold\">[</span>PROGRESS<span style=\"font-weight: bold\">]</span> <span style=\"color: #008000; text-decoration-color: #008000\">'ses3-clusters_n-11.html'</span> saved at\n",
       "<span style=\"color: #800080; text-decoration-color: #800080\">/home/hadi/Dropbox/git/jb-Ca-fMRI/</span><span style=\"color: #ff00ff; text-decoration-color: #ff00ff\">_extras</span>\n",
       "</pre>\n"
      ],
      "text/plain": [
       "\u001b[1m[\u001b[0mPROGRESS\u001b[1m]\u001b[0m \u001b[32m'ses3-clusters_n-11.html'\u001b[0m saved at\n",
       "\u001b[35m/home/hadi/Dropbox/git/jb-Ca-fMRI/\u001b[0m\u001b[95m_extras\u001b[0m\n"
      ]
     },
     "metadata": {},
     "output_type": "display_data"
    },
    {
     "data": {
      "text/html": [
       "<pre style=\"white-space:pre;overflow-x:auto;line-height:normal;font-family:Menlo,'DejaVu Sans Mono',consolas,'Courier New',monospace\">n_clusters = <span style=\"color: #008080; text-decoration-color: #008080; font-weight: bold\">12</span>\n",
       "</pre>\n"
      ],
      "text/plain": [
       "n_clusters = \u001b[1;36m12\u001b[0m\n"
      ]
     },
     "metadata": {},
     "output_type": "display_data"
    },
    {
     "data": {
      "text/html": [
       "<table style=\"border: 0;\"><tr style=\"border: 0;\"><td style=\"background-color: #1f77b4; border: 0;\"><code style=\"background-color: #1f77b4;\">#1f77b4</code></td><td style=\"border: 0\"><code>['(19)']</code></td></tr><tr style=\"border: 0;\"><td style=\"background-color: #ff7f0e; border: 0;\"><code style=\"background-color: #ff7f0e;\">#ff7f0e</code></td><td style=\"border: 0\"><code>['(4)', '(6)']</code></td></tr><tr style=\"border: 0;\"><td style=\"background-color: #2ca02c; border: 0;\"><code style=\"background-color: #2ca02c;\">#2ca02c</code></td><td style=\"border: 0\"><code>['(11)', '(11)']</code></td></tr><tr style=\"border: 0;\"><td style=\"background-color: #d62728; border: 0;\"><code style=\"background-color: #d62728;\">#d62728</code></td><td style=\"border: 0\"><code>['(15)', '(9)', '(13)', '(14)', '(13)', '(9)', '(14)']</code></td></tr></table>"
      ]
     },
     "metadata": {},
     "output_type": "display_data"
    },
    {
     "data": {
      "image/png": "[encoded data removed]"
     },
     "metadata": {},
     "output_type": "display_data"
    },
    {
     "data": {
      "text/html": [
       "<svg  width=\"660\" height=\"55\"><rect x=\"0\" y=\"0\" width=\"55\" height=\"55\" style=\"fill:#636363;stroke-width:2;stroke:rgb(255,255,255)\"/><rect x=\"55\" y=\"0\" width=\"55\" height=\"55\" style=\"fill:#969696;stroke-width:2;stroke:rgb(255,255,255)\"/><rect x=\"110\" y=\"0\" width=\"55\" height=\"55\" style=\"fill:#31a354;stroke-width:2;stroke:rgb(255,255,255)\"/><rect x=\"165\" y=\"0\" width=\"55\" height=\"55\" style=\"fill:#756bb1;stroke-width:2;stroke:rgb(255,255,255)\"/><rect x=\"220\" y=\"0\" width=\"55\" height=\"55\" style=\"fill:#bcbddc;stroke-width:2;stroke:rgb(255,255,255)\"/><rect x=\"275\" y=\"0\" width=\"55\" height=\"55\" style=\"fill:#e6550d;stroke-width:2;stroke:rgb(255,255,255)\"/><rect x=\"330\" y=\"0\" width=\"55\" height=\"55\" style=\"fill:#fdae6b;stroke-width:2;stroke:rgb(255,255,255)\"/><rect x=\"385\" y=\"0\" width=\"55\" height=\"55\" style=\"fill:#fdd0a2;stroke-width:2;stroke:rgb(255,255,255)\"/><rect x=\"440\" y=\"0\" width=\"55\" height=\"55\" style=\"fill:#3182bd;stroke-width:2;stroke:rgb(255,255,255)\"/><rect x=\"495\" y=\"0\" width=\"55\" height=\"55\" style=\"fill:#6baed6;stroke-width:2;stroke:rgb(255,255,255)\"/><rect x=\"550\" y=\"0\" width=\"55\" height=\"55\" style=\"fill:#9ecae1;stroke-width:2;stroke:rgb(255,255,255)\"/><rect x=\"605\" y=\"0\" width=\"55\" height=\"55\" style=\"fill:#c6dbef;stroke-width:2;stroke:rgb(255,255,255)\"/></svg>"
      ]
     },
     "metadata": {},
     "output_type": "display_data"
    },
    {
     "data": {
      "text/html": [
       "<pre style=\"white-space:pre;overflow-x:auto;line-height:normal;font-family:Menlo,'DejaVu Sans Mono',consolas,'Courier New',monospace\">\n",
       "\n",
       "\n",
       "</pre>\n"
      ],
      "text/plain": [
       "\n",
       "\n",
       "\n"
      ]
     },
     "metadata": {},
     "output_type": "display_data"
    },
    {
     "data": {
      "text/html": [
       "<pre style=\"white-space:pre;overflow-x:auto;line-height:normal;font-family:Menlo,'DejaVu Sans Mono',consolas,'Courier New',monospace\"><span style=\"font-weight: bold\">[</span>PROGRESS<span style=\"font-weight: bold\">]</span> <span style=\"color: #008000; text-decoration-color: #008000\">'ses3-regions_n-12.html'</span> saved at\n",
       "<span style=\"color: #800080; text-decoration-color: #800080\">/home/hadi/Dropbox/git/jb-Ca-fMRI/</span><span style=\"color: #ff00ff; text-decoration-color: #ff00ff\">_extras</span>\n",
       "</pre>\n"
      ],
      "text/plain": [
       "\u001b[1m[\u001b[0mPROGRESS\u001b[1m]\u001b[0m \u001b[32m'ses3-regions_n-12.html'\u001b[0m saved at\n",
       "\u001b[35m/home/hadi/Dropbox/git/jb-Ca-fMRI/\u001b[0m\u001b[95m_extras\u001b[0m\n"
      ]
     },
     "metadata": {},
     "output_type": "display_data"
    },
    {
     "data": {
      "text/html": [
       "<pre style=\"white-space:pre;overflow-x:auto;line-height:normal;font-family:Menlo,'DejaVu Sans Mono',consolas,'Courier New',monospace\"><span style=\"font-weight: bold\">[</span>PROGRESS<span style=\"font-weight: bold\">]</span> <span style=\"color: #008000; text-decoration-color: #008000\">'ses3-clusters_n-12.html'</span> saved at\n",
       "<span style=\"color: #800080; text-decoration-color: #800080\">/home/hadi/Dropbox/git/jb-Ca-fMRI/</span><span style=\"color: #ff00ff; text-decoration-color: #ff00ff\">_extras</span>\n",
       "</pre>\n"
      ],
      "text/plain": [
       "\u001b[1m[\u001b[0mPROGRESS\u001b[1m]\u001b[0m \u001b[32m'ses3-clusters_n-12.html'\u001b[0m saved at\n",
       "\u001b[35m/home/hadi/Dropbox/git/jb-Ca-fMRI/\u001b[0m\u001b[95m_extras\u001b[0m\n"
      ]
     },
     "metadata": {},
     "output_type": "display_data"
    },
    {
     "data": {
      "text/html": [
       "<pre style=\"white-space:pre;overflow-x:auto;line-height:normal;font-family:Menlo,'DejaVu Sans Mono',consolas,'Courier New',monospace\">n_clusters = <span style=\"color: #008080; text-decoration-color: #008080; font-weight: bold\">13</span>\n",
       "</pre>\n"
      ],
      "text/plain": [
       "n_clusters = \u001b[1;36m13\u001b[0m\n"
      ]
     },
     "metadata": {},
     "output_type": "display_data"
    },
    {
     "data": {
      "text/html": [
       "<table style=\"border: 0;\"><tr style=\"border: 0;\"><td style=\"background-color: #1f77b4; border: 0;\"><code style=\"background-color: #1f77b4;\">#1f77b4</code></td><td style=\"border: 0\"><code>['(19)']</code></td></tr><tr style=\"border: 0;\"><td style=\"background-color: #ff7f0e; border: 0;\"><code style=\"background-color: #ff7f0e;\">#ff7f0e</code></td><td style=\"border: 0\"><code>['(4)', '(6)']</code></td></tr><tr style=\"border: 0;\"><td style=\"background-color: #2ca02c; border: 0;\"><code style=\"background-color: #2ca02c;\">#2ca02c</code></td><td style=\"border: 0\"><code>['(11)', '(11)']</code></td></tr><tr style=\"border: 0;\"><td style=\"background-color: #d62728; border: 0;\"><code style=\"background-color: #d62728;\">#d62728</code></td><td style=\"border: 0\"><code>['(6)', '(9)', '(9)', '(13)', '(14)', '(13)', '(9)', '(14)']</code></td></tr></table>"
      ]
     },
     "metadata": {},
     "output_type": "display_data"
    },
    {
     "data": {
      "image/png": "[encoded data removed]"
     },
     "metadata": {},
     "output_type": "display_data"
    },
    {
     "data": {
      "text/html": [
       "<svg  width=\"715\" height=\"55\"><rect x=\"0\" y=\"0\" width=\"55\" height=\"55\" style=\"fill:#636363;stroke-width:2;stroke:rgb(255,255,255)\"/><rect x=\"55\" y=\"0\" width=\"55\" height=\"55\" style=\"fill:#969696;stroke-width:2;stroke:rgb(255,255,255)\"/><rect x=\"110\" y=\"0\" width=\"55\" height=\"55\" style=\"fill:#31a354;stroke-width:2;stroke:rgb(255,255,255)\"/><rect x=\"165\" y=\"0\" width=\"55\" height=\"55\" style=\"fill:#756bb1;stroke-width:2;stroke:rgb(255,255,255)\"/><rect x=\"220\" y=\"0\" width=\"55\" height=\"55\" style=\"fill:#bcbddc;stroke-width:2;stroke:rgb(255,255,255)\"/><rect x=\"275\" y=\"0\" width=\"55\" height=\"55\" style=\"fill:#e6550d;stroke-width:2;stroke:rgb(255,255,255)\"/><rect x=\"330\" y=\"0\" width=\"55\" height=\"55\" style=\"fill:#fd8d3c;stroke-width:2;stroke:rgb(255,255,255)\"/><rect x=\"385\" y=\"0\" width=\"55\" height=\"55\" style=\"fill:#fdae6b;stroke-width:2;stroke:rgb(255,255,255)\"/><rect x=\"440\" y=\"0\" width=\"55\" height=\"55\" style=\"fill:#fdd0a2;stroke-width:2;stroke:rgb(255,255,255)\"/><rect x=\"495\" y=\"0\" width=\"55\" height=\"55\" style=\"fill:#3182bd;stroke-width:2;stroke:rgb(255,255,255)\"/><rect x=\"550\" y=\"0\" width=\"55\" height=\"55\" style=\"fill:#6baed6;stroke-width:2;stroke:rgb(255,255,255)\"/><rect x=\"605\" y=\"0\" width=\"55\" height=\"55\" style=\"fill:#9ecae1;stroke-width:2;stroke:rgb(255,255,255)\"/><rect x=\"660\" y=\"0\" width=\"55\" height=\"55\" style=\"fill:#c6dbef;stroke-width:2;stroke:rgb(255,255,255)\"/></svg>"
      ]
     },
     "metadata": {},
     "output_type": "display_data"
    },
    {
     "data": {
      "text/html": [
       "<pre style=\"white-space:pre;overflow-x:auto;line-height:normal;font-family:Menlo,'DejaVu Sans Mono',consolas,'Courier New',monospace\">\n",
       "\n",
       "\n",
       "</pre>\n"
      ],
      "text/plain": [
       "\n",
       "\n",
       "\n"
      ]
     },
     "metadata": {},
     "output_type": "display_data"
    },
    {
     "data": {
      "text/html": [
       "<pre style=\"white-space:pre;overflow-x:auto;line-height:normal;font-family:Menlo,'DejaVu Sans Mono',consolas,'Courier New',monospace\"><span style=\"font-weight: bold\">[</span>PROGRESS<span style=\"font-weight: bold\">]</span> <span style=\"color: #008000; text-decoration-color: #008000\">'ses3-regions_n-13.html'</span> saved at\n",
       "<span style=\"color: #800080; text-decoration-color: #800080\">/home/hadi/Dropbox/git/jb-Ca-fMRI/</span><span style=\"color: #ff00ff; text-decoration-color: #ff00ff\">_extras</span>\n",
       "</pre>\n"
      ],
      "text/plain": [
       "\u001b[1m[\u001b[0mPROGRESS\u001b[1m]\u001b[0m \u001b[32m'ses3-regions_n-13.html'\u001b[0m saved at\n",
       "\u001b[35m/home/hadi/Dropbox/git/jb-Ca-fMRI/\u001b[0m\u001b[95m_extras\u001b[0m\n"
      ]
     },
     "metadata": {},
     "output_type": "display_data"
    },
    {
     "data": {
      "text/html": [
       "<pre style=\"white-space:pre;overflow-x:auto;line-height:normal;font-family:Menlo,'DejaVu Sans Mono',consolas,'Courier New',monospace\"><span style=\"font-weight: bold\">[</span>PROGRESS<span style=\"font-weight: bold\">]</span> <span style=\"color: #008000; text-decoration-color: #008000\">'ses3-clusters_n-13.html'</span> saved at\n",
       "<span style=\"color: #800080; text-decoration-color: #800080\">/home/hadi/Dropbox/git/jb-Ca-fMRI/</span><span style=\"color: #ff00ff; text-decoration-color: #ff00ff\">_extras</span>\n",
       "</pre>\n"
      ],
      "text/plain": [
       "\u001b[1m[\u001b[0mPROGRESS\u001b[1m]\u001b[0m \u001b[32m'ses3-clusters_n-13.html'\u001b[0m saved at\n",
       "\u001b[35m/home/hadi/Dropbox/git/jb-Ca-fMRI/\u001b[0m\u001b[95m_extras\u001b[0m\n"
      ]
     },
     "metadata": {},
     "output_type": "display_data"
    },
    {
     "data": {
      "text/html": [
       "<pre style=\"white-space:pre;overflow-x:auto;line-height:normal;font-family:Menlo,'DejaVu Sans Mono',consolas,'Courier New',monospace\">n_clusters = <span style=\"color: #008080; text-decoration-color: #008080; font-weight: bold\">14</span>\n",
       "</pre>\n"
      ],
      "text/plain": [
       "n_clusters = \u001b[1;36m14\u001b[0m\n"
      ]
     },
     "metadata": {},
     "output_type": "display_data"
    },
    {
     "data": {
      "text/html": [
       "<table style=\"border: 0;\"><tr style=\"border: 0;\"><td style=\"background-color: #1f77b4; border: 0;\"><code style=\"background-color: #1f77b4;\">#1f77b4</code></td><td style=\"border: 0\"><code>['(19)']</code></td></tr><tr style=\"border: 0;\"><td style=\"background-color: #ff7f0e; border: 0;\"><code style=\"background-color: #ff7f0e;\">#ff7f0e</code></td><td style=\"border: 0\"><code>['(4)', '(6)']</code></td></tr><tr style=\"border: 0;\"><td style=\"background-color: #2ca02c; border: 0;\"><code style=\"background-color: #2ca02c;\">#2ca02c</code></td><td style=\"border: 0\"><code>['(11)', '(11)']</code></td></tr><tr style=\"border: 0;\"><td style=\"background-color: #d62728; border: 0;\"><code style=\"background-color: #d62728;\">#d62728</code></td><td style=\"border: 0\"><code>['(6)', '(9)', '(9)', '(13)', '(14)', '(13)', '(9)', '(4)', '(10)']</code></td></tr></table>"
      ]
     },
     "metadata": {},
     "output_type": "display_data"
    },
    {
     "data": {
      "image/png": "[encoded data removed]"
     },
     "metadata": {},
     "output_type": "display_data"
    },
    {
     "data": {
      "text/html": [
       "<svg  width=\"770\" height=\"55\"><rect x=\"0\" y=\"0\" width=\"55\" height=\"55\" style=\"fill:#636363;stroke-width:2;stroke:rgb(255,255,255)\"/><rect x=\"55\" y=\"0\" width=\"55\" height=\"55\" style=\"fill:#969696;stroke-width:2;stroke:rgb(255,255,255)\"/><rect x=\"110\" y=\"0\" width=\"55\" height=\"55\" style=\"fill:#31a354;stroke-width:2;stroke:rgb(255,255,255)\"/><rect x=\"165\" y=\"0\" width=\"55\" height=\"55\" style=\"fill:#756bb1;stroke-width:2;stroke:rgb(255,255,255)\"/><rect x=\"220\" y=\"0\" width=\"55\" height=\"55\" style=\"fill:#bcbddc;stroke-width:2;stroke:rgb(255,255,255)\"/><rect x=\"275\" y=\"0\" width=\"55\" height=\"55\" style=\"fill:#e6550d;stroke-width:2;stroke:rgb(255,255,255)\"/><rect x=\"330\" y=\"0\" width=\"55\" height=\"55\" style=\"fill:#fd8d3c;stroke-width:2;stroke:rgb(255,255,255)\"/><rect x=\"385\" y=\"0\" width=\"55\" height=\"55\" style=\"fill:#fdae6b;stroke-width:2;stroke:rgb(255,255,255)\"/><rect x=\"440\" y=\"0\" width=\"55\" height=\"55\" style=\"fill:#fdd0a2;stroke-width:2;stroke:rgb(255,255,255)\"/><rect x=\"495\" y=\"0\" width=\"55\" height=\"55\" style=\"fill:#3182bd;stroke-width:2;stroke:rgb(255,255,255)\"/><rect x=\"550\" y=\"0\" width=\"55\" height=\"55\" style=\"fill:#6baed6;stroke-width:2;stroke:rgb(255,255,255)\"/><rect x=\"605\" y=\"0\" width=\"55\" height=\"55\" style=\"fill:#9ecae1;stroke-width:2;stroke:rgb(255,255,255)\"/><rect x=\"660\" y=\"0\" width=\"55\" height=\"55\" style=\"fill:#c6dbef;stroke-width:2;stroke:rgb(255,255,255)\"/><rect x=\"715\" y=\"0\" width=\"55\" height=\"55\" style=\"fill:#c6dbef;stroke-width:2;stroke:rgb(255,255,255)\"/></svg>"
      ]
     },
     "metadata": {},
     "output_type": "display_data"
    },
    {
     "data": {
      "text/html": [
       "<pre style=\"white-space:pre;overflow-x:auto;line-height:normal;font-family:Menlo,'DejaVu Sans Mono',consolas,'Courier New',monospace\">\n",
       "\n",
       "\n",
       "</pre>\n"
      ],
      "text/plain": [
       "\n",
       "\n",
       "\n"
      ]
     },
     "metadata": {},
     "output_type": "display_data"
    },
    {
     "data": {
      "text/html": [
       "<pre style=\"white-space:pre;overflow-x:auto;line-height:normal;font-family:Menlo,'DejaVu Sans Mono',consolas,'Courier New',monospace\"><span style=\"font-weight: bold\">[</span>PROGRESS<span style=\"font-weight: bold\">]</span> <span style=\"color: #008000; text-decoration-color: #008000\">'ses3-regions_n-14.html'</span> saved at\n",
       "<span style=\"color: #800080; text-decoration-color: #800080\">/home/hadi/Dropbox/git/jb-Ca-fMRI/</span><span style=\"color: #ff00ff; text-decoration-color: #ff00ff\">_extras</span>\n",
       "</pre>\n"
      ],
      "text/plain": [
       "\u001b[1m[\u001b[0mPROGRESS\u001b[1m]\u001b[0m \u001b[32m'ses3-regions_n-14.html'\u001b[0m saved at\n",
       "\u001b[35m/home/hadi/Dropbox/git/jb-Ca-fMRI/\u001b[0m\u001b[95m_extras\u001b[0m\n"
      ]
     },
     "metadata": {},
     "output_type": "display_data"
    },
    {
     "data": {
      "text/html": [
       "<pre style=\"white-space:pre;overflow-x:auto;line-height:normal;font-family:Menlo,'DejaVu Sans Mono',consolas,'Courier New',monospace\"><span style=\"font-weight: bold\">[</span>PROGRESS<span style=\"font-weight: bold\">]</span> <span style=\"color: #008000; text-decoration-color: #008000\">'ses3-clusters_n-14.html'</span> saved at\n",
       "<span style=\"color: #800080; text-decoration-color: #800080\">/home/hadi/Dropbox/git/jb-Ca-fMRI/</span><span style=\"color: #ff00ff; text-decoration-color: #ff00ff\">_extras</span>\n",
       "</pre>\n"
      ],
      "text/plain": [
       "\u001b[1m[\u001b[0mPROGRESS\u001b[1m]\u001b[0m \u001b[32m'ses3-clusters_n-14.html'\u001b[0m saved at\n",
       "\u001b[35m/home/hadi/Dropbox/git/jb-Ca-fMRI/\u001b[0m\u001b[95m_extras\u001b[0m\n"
      ]
     },
     "metadata": {},
     "output_type": "display_data"
    },
    {
     "data": {
      "text/html": [
       "<pre style=\"white-space:pre;overflow-x:auto;line-height:normal;font-family:Menlo,'DejaVu Sans Mono',consolas,'Courier New',monospace\">n_clusters = <span style=\"color: #008080; text-decoration-color: #008080; font-weight: bold\">15</span>\n",
       "</pre>\n"
      ],
      "text/plain": [
       "n_clusters = \u001b[1;36m15\u001b[0m\n"
      ]
     },
     "metadata": {},
     "output_type": "display_data"
    },
    {
     "data": {
      "text/html": [
       "<table style=\"border: 0;\"><tr style=\"border: 0;\"><td style=\"background-color: #1f77b4; border: 0;\"><code style=\"background-color: #1f77b4;\">#1f77b4</code></td><td style=\"border: 0\"><code>['(19)']</code></td></tr><tr style=\"border: 0;\"><td style=\"background-color: #ff7f0e; border: 0;\"><code style=\"background-color: #ff7f0e;\">#ff7f0e</code></td><td style=\"border: 0\"><code>['(4)', '(6)']</code></td></tr><tr style=\"border: 0;\"><td style=\"background-color: #2ca02c; border: 0;\"><code style=\"background-color: #2ca02c;\">#2ca02c</code></td><td style=\"border: 0\"><code>['(11)', '(11)']</code></td></tr><tr style=\"border: 0;\"><td style=\"background-color: #d62728; border: 0;\"><code style=\"background-color: #d62728;\">#d62728</code></td><td style=\"border: 0\"><code>['(6)', '(9)', '(9)', '(13)', '(6)', '(8)', '(13)', '(9)', '(4)', '(10)']</code></td></tr></table>"
      ]
     },
     "metadata": {},
     "output_type": "display_data"
    },
    {
     "data": {
      "image/png": "[encoded data removed]"
     },
     "metadata": {},
     "output_type": "display_data"
    },
    {
     "data": {
      "text/html": [
       "<svg  width=\"825\" height=\"55\"><rect x=\"0\" y=\"0\" width=\"55\" height=\"55\" style=\"fill:#636363;stroke-width:2;stroke:rgb(255,255,255)\"/><rect x=\"55\" y=\"0\" width=\"55\" height=\"55\" style=\"fill:#969696;stroke-width:2;stroke:rgb(255,255,255)\"/><rect x=\"110\" y=\"0\" width=\"55\" height=\"55\" style=\"fill:#31a354;stroke-width:2;stroke:rgb(255,255,255)\"/><rect x=\"165\" y=\"0\" width=\"55\" height=\"55\" style=\"fill:#756bb1;stroke-width:2;stroke:rgb(255,255,255)\"/><rect x=\"220\" y=\"0\" width=\"55\" height=\"55\" style=\"fill:#bcbddc;stroke-width:2;stroke:rgb(255,255,255)\"/><rect x=\"275\" y=\"0\" width=\"55\" height=\"55\" style=\"fill:#e6550d;stroke-width:2;stroke:rgb(255,255,255)\"/><rect x=\"330\" y=\"0\" width=\"55\" height=\"55\" style=\"fill:#fd8d3c;stroke-width:2;stroke:rgb(255,255,255)\"/><rect x=\"385\" y=\"0\" width=\"55\" height=\"55\" style=\"fill:#fdae6b;stroke-width:2;stroke:rgb(255,255,255)\"/><rect x=\"440\" y=\"0\" width=\"55\" height=\"55\" style=\"fill:#fdd0a2;stroke-width:2;stroke:rgb(255,255,255)\"/><rect x=\"495\" y=\"0\" width=\"55\" height=\"55\" style=\"fill:#3182bd;stroke-width:2;stroke:rgb(255,255,255)\"/><rect x=\"550\" y=\"0\" width=\"55\" height=\"55\" style=\"fill:#3182bd;stroke-width:2;stroke:rgb(255,255,255)\"/><rect x=\"605\" y=\"0\" width=\"55\" height=\"55\" style=\"fill:#6baed6;stroke-width:2;stroke:rgb(255,255,255)\"/><rect x=\"660\" y=\"0\" width=\"55\" height=\"55\" style=\"fill:#9ecae1;stroke-width:2;stroke:rgb(255,255,255)\"/><rect x=\"715\" y=\"0\" width=\"55\" height=\"55\" style=\"fill:#c6dbef;stroke-width:2;stroke:rgb(255,255,255)\"/><rect x=\"770\" y=\"0\" width=\"55\" height=\"55\" style=\"fill:#c6dbef;stroke-width:2;stroke:rgb(255,255,255)\"/></svg>"
      ]
     },
     "metadata": {},
     "output_type": "display_data"
    },
    {
     "data": {
      "text/html": [
       "<pre style=\"white-space:pre;overflow-x:auto;line-height:normal;font-family:Menlo,'DejaVu Sans Mono',consolas,'Courier New',monospace\">\n",
       "\n",
       "\n",
       "</pre>\n"
      ],
      "text/plain": [
       "\n",
       "\n",
       "\n"
      ]
     },
     "metadata": {},
     "output_type": "display_data"
    },
    {
     "data": {
      "text/html": [
       "<pre style=\"white-space:pre;overflow-x:auto;line-height:normal;font-family:Menlo,'DejaVu Sans Mono',consolas,'Courier New',monospace\"><span style=\"font-weight: bold\">[</span>PROGRESS<span style=\"font-weight: bold\">]</span> <span style=\"color: #008000; text-decoration-color: #008000\">'ses3-regions_n-15.html'</span> saved at\n",
       "<span style=\"color: #800080; text-decoration-color: #800080\">/home/hadi/Dropbox/git/jb-Ca-fMRI/</span><span style=\"color: #ff00ff; text-decoration-color: #ff00ff\">_extras</span>\n",
       "</pre>\n"
      ],
      "text/plain": [
       "\u001b[1m[\u001b[0mPROGRESS\u001b[1m]\u001b[0m \u001b[32m'ses3-regions_n-15.html'\u001b[0m saved at\n",
       "\u001b[35m/home/hadi/Dropbox/git/jb-Ca-fMRI/\u001b[0m\u001b[95m_extras\u001b[0m\n"
      ]
     },
     "metadata": {},
     "output_type": "display_data"
    },
    {
     "data": {
      "text/html": [
       "<pre style=\"white-space:pre;overflow-x:auto;line-height:normal;font-family:Menlo,'DejaVu Sans Mono',consolas,'Courier New',monospace\"><span style=\"font-weight: bold\">[</span>PROGRESS<span style=\"font-weight: bold\">]</span> <span style=\"color: #008000; text-decoration-color: #008000\">'ses3-clusters_n-15.html'</span> saved at\n",
       "<span style=\"color: #800080; text-decoration-color: #800080\">/home/hadi/Dropbox/git/jb-Ca-fMRI/</span><span style=\"color: #ff00ff; text-decoration-color: #ff00ff\">_extras</span>\n",
       "</pre>\n"
      ],
      "text/plain": [
       "\u001b[1m[\u001b[0mPROGRESS\u001b[1m]\u001b[0m \u001b[32m'ses3-clusters_n-15.html'\u001b[0m saved at\n",
       "\u001b[35m/home/hadi/Dropbox/git/jb-Ca-fMRI/\u001b[0m\u001b[95m_extras\u001b[0m\n"
      ]
     },
     "metadata": {},
     "output_type": "display_data"
    }
   ],
   "source": [
    "clusters_all = {}\n",
    "\n",
    "for n_clusters in range(2, 16):\n",
    "    hier_output = get_clust_graph(\n",
    "        linkage_mat=hier_results['z'],\n",
    "        c_list=cluster_color_idxs[n_clusters],\n",
    "        labels=labels,\n",
    "        num_clusters=n_clusters,\n",
    "        leaf_font_size=10,\n",
    "        figsize=(3.5, 2),\n",
    "    )\n",
    "    print(f\"n_clusters = {n_clusters}\")\n",
    "    display(hier_output['cluster_classes'])\n",
    "    display(hier_output['fig'])\n",
    "    display(sns.color_palette(hier_output['cluster_colors'].values()))\n",
    "    print('\\n\\n')\n",
    "    \n",
    "    community = {\n",
    "        i: translate_labels(leaves, allen['mcc'], forward=False)\n",
    "        for i, leaves in hier_output['cluster_assigns'].items()\n",
    "    }\n",
    "    assert len(community) == n_clusters\n",
    "\n",
    "    comms3d = np.zeros(allen['template'].shape)\n",
    "    for cluster_idx, leaves in community.items():\n",
    "        for lbl in leaves:\n",
    "            if str(allen['isocortex']['id']) in lbl:\n",
    "                lr, structure_id, region_id = tuple(map(lambda x: int(x), lbl.split('-')))\n",
    "                comms3d[parcellation['parcel'] == region_id] = cluster_idx\n",
    "            else:\n",
    "                comms3d[roi_masks[lbl]] = cluster_idx\n",
    "    comms3d = comms3d.astype(int)\n",
    "    \n",
    "    # save results\n",
    "    cluster = Clusters(\n",
    "        x=comms3d,\n",
    "        masks=major_masks,\n",
    "        c_cluster=hier_output['cluster_colors'],\n",
    "        c_structure=struct_colors,\n",
    "        threshold=0.0,\n",
    "    )\n",
    "    clusters_all[n_clusters] = cluster\n",
    "    _ = cluster.export(extras_dir, name='ses3')"
   ]
  },
  {
   "cell_type": "code",
   "execution_count": null,
   "id": "faca8afc",
   "metadata": {},
   "outputs": [],
   "source": []
  },
  {
   "cell_type": "code",
   "execution_count": null,
   "id": "7de0863d",
   "metadata": {},
   "outputs": [],
   "source": []
  },
  {
   "cell_type": "markdown",
   "id": "cbb5a7e3",
   "metadata": {},
   "source": [
    "### Render"
   ]
  },
  {
   "cell_type": "code",
   "execution_count": 85,
   "id": "526f848f",
   "metadata": {},
   "outputs": [
    {
     "data": {
      "text/html": [
       "<pre style=\"white-space:pre;overflow-x:auto;line-height:normal;font-family:Menlo,'DejaVu Sans Mono',consolas,'Courier New',monospace\">Scene saved at <span style=\"color: #800080; text-decoration-color: #800080\">/home/hadi/Dropbox/git/jb-Ca-fMRI/_extras/</span><span style=\"color: #ff00ff; text-decoration-color: #ff00ff\">cluster3d-ses3_parcel-128_n-2.html</span>\n",
       "</pre>\n"
      ],
      "text/plain": [
       "Scene saved at \u001b[35m/home/hadi/Dropbox/git/jb-Ca-fMRI/_extras/\u001b[0m\u001b[95mcluster3d-ses3_parcel-128_n-2.html\u001b[0m\n"
      ]
     },
     "metadata": {},
     "output_type": "display_data"
    },
    {
     "data": {
      "text/html": [
       "<pre style=\"white-space:pre;overflow-x:auto;line-height:normal;font-family:Menlo,'DejaVu Sans Mono',consolas,'Courier New',monospace\">Scene saved at <span style=\"color: #800080; text-decoration-color: #800080\">/home/hadi/Dropbox/git/jb-Ca-fMRI/_extras/</span><span style=\"color: #ff00ff; text-decoration-color: #ff00ff\">cluster3d-ses3_parcel-128_n-3.html</span>\n",
       "</pre>\n"
      ],
      "text/plain": [
       "Scene saved at \u001b[35m/home/hadi/Dropbox/git/jb-Ca-fMRI/_extras/\u001b[0m\u001b[95mcluster3d-ses3_parcel-128_n-3.html\u001b[0m\n"
      ]
     },
     "metadata": {},
     "output_type": "display_data"
    },
    {
     "data": {
      "text/html": [
       "<pre style=\"white-space:pre;overflow-x:auto;line-height:normal;font-family:Menlo,'DejaVu Sans Mono',consolas,'Courier New',monospace\">Scene saved at <span style=\"color: #800080; text-decoration-color: #800080\">/home/hadi/Dropbox/git/jb-Ca-fMRI/_extras/</span><span style=\"color: #ff00ff; text-decoration-color: #ff00ff\">cluster3d-ses3_parcel-128_n-4.html</span>\n",
       "</pre>\n"
      ],
      "text/plain": [
       "Scene saved at \u001b[35m/home/hadi/Dropbox/git/jb-Ca-fMRI/_extras/\u001b[0m\u001b[95mcluster3d-ses3_parcel-128_n-4.html\u001b[0m\n"
      ]
     },
     "metadata": {},
     "output_type": "display_data"
    },
    {
     "data": {
      "text/html": [
       "<pre style=\"white-space:pre;overflow-x:auto;line-height:normal;font-family:Menlo,'DejaVu Sans Mono',consolas,'Courier New',monospace\">Scene saved at <span style=\"color: #800080; text-decoration-color: #800080\">/home/hadi/Dropbox/git/jb-Ca-fMRI/_extras/</span><span style=\"color: #ff00ff; text-decoration-color: #ff00ff\">cluster3d-ses3_parcel-128_n-5.html</span>\n",
       "</pre>\n"
      ],
      "text/plain": [
       "Scene saved at \u001b[35m/home/hadi/Dropbox/git/jb-Ca-fMRI/_extras/\u001b[0m\u001b[95mcluster3d-ses3_parcel-128_n-5.html\u001b[0m\n"
      ]
     },
     "metadata": {},
     "output_type": "display_data"
    },
    {
     "data": {
      "text/html": [
       "<pre style=\"white-space:pre;overflow-x:auto;line-height:normal;font-family:Menlo,'DejaVu Sans Mono',consolas,'Courier New',monospace\">Scene saved at <span style=\"color: #800080; text-decoration-color: #800080\">/home/hadi/Dropbox/git/jb-Ca-fMRI/_extras/</span><span style=\"color: #ff00ff; text-decoration-color: #ff00ff\">cluster3d-ses3_parcel-128_n-6.html</span>\n",
       "</pre>\n"
      ],
      "text/plain": [
       "Scene saved at \u001b[35m/home/hadi/Dropbox/git/jb-Ca-fMRI/_extras/\u001b[0m\u001b[95mcluster3d-ses3_parcel-128_n-6.html\u001b[0m\n"
      ]
     },
     "metadata": {},
     "output_type": "display_data"
    },
    {
     "data": {
      "text/html": [
       "<pre style=\"white-space:pre;overflow-x:auto;line-height:normal;font-family:Menlo,'DejaVu Sans Mono',consolas,'Courier New',monospace\">Scene saved at <span style=\"color: #800080; text-decoration-color: #800080\">/home/hadi/Dropbox/git/jb-Ca-fMRI/_extras/</span><span style=\"color: #ff00ff; text-decoration-color: #ff00ff\">cluster3d-ses3_parcel-128_n-7.html</span>\n",
       "</pre>\n"
      ],
      "text/plain": [
       "Scene saved at \u001b[35m/home/hadi/Dropbox/git/jb-Ca-fMRI/_extras/\u001b[0m\u001b[95mcluster3d-ses3_parcel-128_n-7.html\u001b[0m\n"
      ]
     },
     "metadata": {},
     "output_type": "display_data"
    },
    {
     "data": {
      "text/html": [
       "<pre style=\"white-space:pre;overflow-x:auto;line-height:normal;font-family:Menlo,'DejaVu Sans Mono',consolas,'Courier New',monospace\">Scene saved at <span style=\"color: #800080; text-decoration-color: #800080\">/home/hadi/Dropbox/git/jb-Ca-fMRI/_extras/</span><span style=\"color: #ff00ff; text-decoration-color: #ff00ff\">cluster3d-ses3_parcel-128_n-8.html</span>\n",
       "</pre>\n"
      ],
      "text/plain": [
       "Scene saved at \u001b[35m/home/hadi/Dropbox/git/jb-Ca-fMRI/_extras/\u001b[0m\u001b[95mcluster3d-ses3_parcel-128_n-8.html\u001b[0m\n"
      ]
     },
     "metadata": {},
     "output_type": "display_data"
    },
    {
     "data": {
      "text/html": [
       "<pre style=\"white-space:pre;overflow-x:auto;line-height:normal;font-family:Menlo,'DejaVu Sans Mono',consolas,'Courier New',monospace\">Scene saved at <span style=\"color: #800080; text-decoration-color: #800080\">/home/hadi/Dropbox/git/jb-Ca-fMRI/_extras/</span><span style=\"color: #ff00ff; text-decoration-color: #ff00ff\">cluster3d-ses3_parcel-128_n-9.html</span>\n",
       "</pre>\n"
      ],
      "text/plain": [
       "Scene saved at \u001b[35m/home/hadi/Dropbox/git/jb-Ca-fMRI/_extras/\u001b[0m\u001b[95mcluster3d-ses3_parcel-128_n-9.html\u001b[0m\n"
      ]
     },
     "metadata": {},
     "output_type": "display_data"
    },
    {
     "data": {
      "text/html": [
       "<pre style=\"white-space:pre;overflow-x:auto;line-height:normal;font-family:Menlo,'DejaVu Sans Mono',consolas,'Courier New',monospace\">Scene saved at <span style=\"color: #800080; text-decoration-color: #800080\">/home/hadi/Dropbox/git/jb-Ca-fMRI/_extras/</span><span style=\"color: #ff00ff; text-decoration-color: #ff00ff\">cluster3d-ses3_parcel-128_n-10.html</span>\n",
       "</pre>\n"
      ],
      "text/plain": [
       "Scene saved at \u001b[35m/home/hadi/Dropbox/git/jb-Ca-fMRI/_extras/\u001b[0m\u001b[95mcluster3d-ses3_parcel-128_n-10.html\u001b[0m\n"
      ]
     },
     "metadata": {},
     "output_type": "display_data"
    },
    {
     "data": {
      "text/html": [
       "<pre style=\"white-space:pre;overflow-x:auto;line-height:normal;font-family:Menlo,'DejaVu Sans Mono',consolas,'Courier New',monospace\">Scene saved at <span style=\"color: #800080; text-decoration-color: #800080\">/home/hadi/Dropbox/git/jb-Ca-fMRI/_extras/</span><span style=\"color: #ff00ff; text-decoration-color: #ff00ff\">cluster3d-ses3_parcel-128_n-11.html</span>\n",
       "</pre>\n"
      ],
      "text/plain": [
       "Scene saved at \u001b[35m/home/hadi/Dropbox/git/jb-Ca-fMRI/_extras/\u001b[0m\u001b[95mcluster3d-ses3_parcel-128_n-11.html\u001b[0m\n"
      ]
     },
     "metadata": {},
     "output_type": "display_data"
    },
    {
     "data": {
      "text/html": [
       "<pre style=\"white-space:pre;overflow-x:auto;line-height:normal;font-family:Menlo,'DejaVu Sans Mono',consolas,'Courier New',monospace\">Scene saved at <span style=\"color: #800080; text-decoration-color: #800080\">/home/hadi/Dropbox/git/jb-Ca-fMRI/_extras/</span><span style=\"color: #ff00ff; text-decoration-color: #ff00ff\">cluster3d-ses3_parcel-128_n-12.html</span>\n",
       "</pre>\n"
      ],
      "text/plain": [
       "Scene saved at \u001b[35m/home/hadi/Dropbox/git/jb-Ca-fMRI/_extras/\u001b[0m\u001b[95mcluster3d-ses3_parcel-128_n-12.html\u001b[0m\n"
      ]
     },
     "metadata": {},
     "output_type": "display_data"
    },
    {
     "data": {
      "text/html": [
       "<pre style=\"white-space:pre;overflow-x:auto;line-height:normal;font-family:Menlo,'DejaVu Sans Mono',consolas,'Courier New',monospace\">Scene saved at <span style=\"color: #800080; text-decoration-color: #800080\">/home/hadi/Dropbox/git/jb-Ca-fMRI/_extras/</span><span style=\"color: #ff00ff; text-decoration-color: #ff00ff\">cluster3d-ses3_parcel-128_n-13.html</span>\n",
       "</pre>\n"
      ],
      "text/plain": [
       "Scene saved at \u001b[35m/home/hadi/Dropbox/git/jb-Ca-fMRI/_extras/\u001b[0m\u001b[95mcluster3d-ses3_parcel-128_n-13.html\u001b[0m\n"
      ]
     },
     "metadata": {},
     "output_type": "display_data"
    },
    {
     "data": {
      "text/html": [
       "<pre style=\"white-space:pre;overflow-x:auto;line-height:normal;font-family:Menlo,'DejaVu Sans Mono',consolas,'Courier New',monospace\">Scene saved at <span style=\"color: #800080; text-decoration-color: #800080\">/home/hadi/Dropbox/git/jb-Ca-fMRI/_extras/</span><span style=\"color: #ff00ff; text-decoration-color: #ff00ff\">cluster3d-ses3_parcel-128_n-14.html</span>\n",
       "</pre>\n"
      ],
      "text/plain": [
       "Scene saved at \u001b[35m/home/hadi/Dropbox/git/jb-Ca-fMRI/_extras/\u001b[0m\u001b[95mcluster3d-ses3_parcel-128_n-14.html\u001b[0m\n"
      ]
     },
     "metadata": {},
     "output_type": "display_data"
    },
    {
     "data": {
      "text/html": [
       "<pre style=\"white-space:pre;overflow-x:auto;line-height:normal;font-family:Menlo,'DejaVu Sans Mono',consolas,'Courier New',monospace\">Scene saved at <span style=\"color: #800080; text-decoration-color: #800080\">/home/hadi/Dropbox/git/jb-Ca-fMRI/_extras/</span><span style=\"color: #ff00ff; text-decoration-color: #ff00ff\">cluster3d-ses3_parcel-128_n-15.html</span>\n",
       "</pre>\n"
      ],
      "text/plain": [
       "Scene saved at \u001b[35m/home/hadi/Dropbox/git/jb-Ca-fMRI/_extras/\u001b[0m\u001b[95mcluster3d-ses3_parcel-128_n-15.html\u001b[0m\n"
      ]
     },
     "metadata": {},
     "output_type": "display_data"
    }
   ],
   "source": [
    "for n_clusters in range(2, 16): \n",
    "    _ = cluster2html(\n",
    "        cluster=clusters_all[n_clusters],\n",
    "        save_name='ses3',\n",
    "        n_cortex_regions=parcellation['n_cortical_regions'],\n",
    "        save_dir=extras_dir,\n",
    "    )"
   ]
  },
  {
   "cell_type": "code",
   "execution_count": null,
   "id": "1c29f27f",
   "metadata": {},
   "outputs": [],
   "source": []
  },
  {
   "cell_type": "code",
   "execution_count": null,
   "id": "8bb26b2b",
   "metadata": {},
   "outputs": [],
   "source": []
  },
  {
   "cell_type": "code",
   "execution_count": null,
   "id": "6b5ecaee",
   "metadata": {},
   "outputs": [],
   "source": []
  },
  {
   "cell_type": "code",
   "execution_count": null,
   "id": "4575ef1e",
   "metadata": {},
   "outputs": [],
   "source": []
  },
  {
   "cell_type": "code",
   "execution_count": null,
   "id": "b3ba43a7",
   "metadata": {},
   "outputs": [],
   "source": []
  },
  {
   "cell_type": "code",
   "execution_count": null,
   "id": "45a1b90f",
   "metadata": {},
   "outputs": [],
   "source": []
  },
  {
   "cell_type": "markdown",
   "id": "31f08b57",
   "metadata": {},
   "source": [
    "## Which display option below works better?"
   ]
  },
  {
   "cell_type": "code",
   "execution_count": 104,
   "id": "93e7ecb7",
   "metadata": {},
   "outputs": [
    {
     "data": {
      "text/html": [
       "\n",
       "        <iframe\n",
       "            width=\"1000\"\n",
       "            height=\"600\"\n",
       "            src=\"../../_extras/overlap-regions_n-5.html\"\n",
       "            frameborder=\"0\"\n",
       "            allowfullscreen\n",
       "        ></iframe>\n",
       "        "
      ]
     },
     "execution_count": 104,
     "metadata": {},
     "output_type": "execute_result"
    }
   ],
   "source": [
    "n_clusters = 5\n",
    "file = f\"../../_extras/overlap-regions_n-{n_clusters}.html\"\n",
    "IFrame(file, width=1000, height=600)"
   ]
  },
  {
   "cell_type": "code",
   "execution_count": null,
   "id": "11d53b1b",
   "metadata": {},
   "outputs": [],
   "source": []
  },
  {
   "cell_type": "markdown",
   "id": "8fddbdd5",
   "metadata": {},
   "source": [
    "## Embed 3d"
   ]
  },
  {
   "cell_type": "code",
   "execution_count": 107,
   "id": "29e855f0",
   "metadata": {},
   "outputs": [
    {
     "data": {
      "text/html": [
       "\n",
       "        <iframe\n",
       "            width=\"1000\"\n",
       "            height=\"700\"\n",
       "            src=\"../../_extras/cluster3d-canberra_parcel-128_n-5.html\"\n",
       "            frameborder=\"0\"\n",
       "            allowfullscreen\n",
       "        ></iframe>\n",
       "        "
      ]
     },
     "execution_count": 107,
     "metadata": {},
     "output_type": "execute_result"
    }
   ],
   "source": [
    "n_clusters = 5\n",
    "file = f\"../../_extras/cluster3d-canberra_parcel-{mice.cfg.n_cortex_regions}_n-{n_clusters}.html\"\n",
    "IFrame(file, width=1000, height=700)"
   ]
  },
  {
   "cell_type": "code",
   "execution_count": null,
   "id": "4a1fe729",
   "metadata": {},
   "outputs": [],
   "source": []
  },
  {
   "cell_type": "code",
   "execution_count": null,
   "id": "12e5538b",
   "metadata": {},
   "outputs": [],
   "source": []
  },
  {
   "cell_type": "markdown",
   "id": "5e28b407",
   "metadata": {},
   "source": [
    "## Report properties of a parcellation (TODO)\n",
    "> use this:\n",
    "```Python\n",
    "import pyinspect as pi\n",
    "```"
   ]
  },
  {
   "cell_type": "code",
   "execution_count": null,
   "id": "3965744c",
   "metadata": {},
   "outputs": [],
   "source": [
    "    def content(self):\n",
    "        \"\"\"\n",
    "        Prints an overview of the Actors in the scene.\n",
    "        \"\"\"\n",
    "\n",
    "        actors = pi.Report(\n",
    "            \"Scene actors\", accent=salmon, dim=orange, color=orange\n",
    "        )\n",
    "\n",
    "        for act in self.actors:\n",
    "            actors.add(\n",
    "                f\"[bold][{amber}]- {act.name}[/bold][{orange_darker}] \"\n",
    "                f\"(type: [{orange}]{act.br_class}[/{orange}]) \"\n",
    "                f\"(color: [{orange}]{rgb2hex(act.mesh.c())}[/{orange}]) \"\n",
    "                f\"(alpha: [{orange}]{act.mesh.alpha()}[/{orange}]) \"\n",
    "            )\n",
    "\n",
    "        if \"win32\" != sys.platform:\n",
    "            actors.print()\n",
    "        else:\n",
    "            print(pi.utils.stringify(actors, maxlen=-1))"
   ]
  },
  {
   "cell_type": "code",
   "execution_count": null,
   "id": "c27bbc59",
   "metadata": {},
   "outputs": [],
   "source": []
  },
  {
   "cell_type": "code",
   "execution_count": null,
   "id": "27c468e6",
   "metadata": {},
   "outputs": [],
   "source": []
  },
  {
   "cell_type": "code",
   "execution_count": null,
   "id": "c2dddb97",
   "metadata": {},
   "outputs": [],
   "source": []
  }
 ],
 "metadata": {
  "kernelspec": {
   "display_name": "Python 3",
   "language": "python",
   "name": "python3"
  },
  "language_info": {
   "codemirror_mode": {
    "name": "ipython",
    "version": 3
   },
   "file_extension": ".py",
   "mimetype": "text/x-python",
   "name": "python",
   "nbconvert_exporter": "python",
   "pygments_lexer": "ipython3",
   "version": "3.8.3"
  }
 },
 "nbformat": 4,
 "nbformat_minor": 5
}
