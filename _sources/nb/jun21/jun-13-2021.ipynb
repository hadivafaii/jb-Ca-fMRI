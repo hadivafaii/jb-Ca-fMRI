{
 "cells": [
  {
   "cell_type": "markdown",
   "id": "372f888b",
   "metadata": {},
   "source": [
    "# June 13th, 2021\n",
    "\n",
    "**Motivation**: Exploring brain globe.  Very convenient way of working with different atlases, including the one by Allen Institute.  In this update I explore bg_atlasapi, bg_space, and morphapi.  Very nice hierarchy tree of structures in Allen atlas at the bottom.  </br>"
   ]
  },
  {
   "cell_type": "code",
   "execution_count": 6,
   "id": "9b71c238",
   "metadata": {},
   "outputs": [],
   "source": [
    "import os\n",
    "import ants\n",
    "import nrrd\n",
    "\n",
    "import sys\n",
    "import collections\n",
    "import numpy as np\n",
    "import pandas as pd\n",
    "import nibabel as nib\n",
    "import networkx as nx\n",
    "import operator as op\n",
    "from copy import deepcopy as dc\n",
    "from os.path import join as pjoin\n",
    "\n",
    "from tqdm.notebook import tqdm\n",
    "import matplotlib.pyplot as plt\n",
    "import seaborn as sns\n",
    "sns.set_style('whitegrid')\n",
    "\n",
    "import matplotlib\n",
    "matplotlib.rcParams['image.interpolation'] = 'none'\n",
    "\n",
    "extras_dir = pjoin(os.environ['HOME'], 'Dropbox/git/jb-Ca-fMRI/_extras')"
   ]
  },
  {
   "cell_type": "markdown",
   "id": "563572b0",
   "metadata": {},
   "source": [
    "## Show atlases"
   ]
  },
  {
   "cell_type": "code",
   "execution_count": 3,
   "id": "c1b376be",
   "metadata": {},
   "outputs": [
    {
     "data": {
      "text/html": [
       "<pre style=\"white-space:pre;overflow-x:auto;line-height:normal;font-family:Menlo,'DejaVu Sans Mono',consolas,'Courier New',monospace\"><span style=\"font-style: italic\">                                                                                  </span>\n",
       "<span style=\"font-style: italic\">                                                                                  </span>\n",
       "<span style=\"font-style: italic\">                                Brainglobe Atlases                                </span>\n",
       "╭──────────────────────────────────┬────────────┬───────────────┬────────────────╮\n",
       "│<span style=\"color: #008000; text-decoration-color: #008000; font-weight: bold\"> Name                             </span>│<span style=\"color: #008000; text-decoration-color: #008000; font-weight: bold\"> Downloaded </span>│<span style=\"color: #008000; text-decoration-color: #008000; font-weight: bold\"> Local version </span>│<span style=\"color: #008000; text-decoration-color: #008000; font-weight: bold\"> Latest version </span>│\n",
       "├──────────────────────────────────┼────────────┼───────────────┼────────────────┤\n",
       "│ <span style=\"font-weight: bold\">mpin_zfish_1um</span>                   │     <span style=\"color: #008000; text-decoration-color: #008000\">✔</span>      │      1.0      │      1.0       │\n",
       "│ <span style=\"font-weight: bold\">allen_mouse_25um</span>                 │     <span style=\"color: #008000; text-decoration-color: #008000\">✔</span>      │      1.2      │      1.2       │\n",
       "│ <span style=\"font-weight: bold\">allen_mouse_100um</span>                │     <span style=\"color: #008000; text-decoration-color: #008000\">✔</span>      │      1.2      │      1.2       │\n",
       "│ <span style=\"font-weight: bold\">example_mouse_100um</span>              │    <span style=\"color: #800000; text-decoration-color: #800000\">---</span>     │      <span style=\"color: #800000; text-decoration-color: #800000\">---</span>      │      1.2       │\n",
       "│ <span style=\"font-weight: bold\">allen_mouse_10um</span>                 │    <span style=\"color: #800000; text-decoration-color: #800000\">---</span>     │      <span style=\"color: #800000; text-decoration-color: #800000\">---</span>      │      1.2       │\n",
       "│ <span style=\"font-weight: bold\">allen_mouse_50um</span>                 │    <span style=\"color: #800000; text-decoration-color: #800000\">---</span>     │      <span style=\"color: #800000; text-decoration-color: #800000\">---</span>      │      1.2       │\n",
       "│ <span style=\"font-weight: bold\">allen_human_500um</span>                │    <span style=\"color: #800000; text-decoration-color: #800000\">---</span>     │      <span style=\"color: #800000; text-decoration-color: #800000\">---</span>      │      0.1       │\n",
       "│ <span style=\"font-weight: bold\">kim_mouse_10um</span>                   │    <span style=\"color: #800000; text-decoration-color: #800000\">---</span>     │      <span style=\"color: #800000; text-decoration-color: #800000\">---</span>      │      1.0       │\n",
       "│ <span style=\"font-weight: bold\">kim_mouse_25um</span>                   │    <span style=\"color: #800000; text-decoration-color: #800000\">---</span>     │      <span style=\"color: #800000; text-decoration-color: #800000\">---</span>      │      1.0       │\n",
       "│ <span style=\"font-weight: bold\">kim_mouse_50um</span>                   │    <span style=\"color: #800000; text-decoration-color: #800000\">---</span>     │      <span style=\"color: #800000; text-decoration-color: #800000\">---</span>      │      1.0       │\n",
       "│ <span style=\"font-weight: bold\">kim_mouse_100um</span>                  │    <span style=\"color: #800000; text-decoration-color: #800000\">---</span>     │      <span style=\"color: #800000; text-decoration-color: #800000\">---</span>      │      1.0       │\n",
       "│ <span style=\"font-weight: bold\">osten_mouse_10um</span>                 │    <span style=\"color: #800000; text-decoration-color: #800000\">---</span>     │      <span style=\"color: #800000; text-decoration-color: #800000\">---</span>      │      1.1       │\n",
       "│ <span style=\"font-weight: bold\">osten_mouse_25um</span>                 │    <span style=\"color: #800000; text-decoration-color: #800000\">---</span>     │      <span style=\"color: #800000; text-decoration-color: #800000\">---</span>      │      1.1       │\n",
       "│ <span style=\"font-weight: bold\">osten_mouse_50um</span>                 │    <span style=\"color: #800000; text-decoration-color: #800000\">---</span>     │      <span style=\"color: #800000; text-decoration-color: #800000\">---</span>      │      1.1       │\n",
       "│ <span style=\"font-weight: bold\">osten_mouse_100um</span>                │    <span style=\"color: #800000; text-decoration-color: #800000\">---</span>     │      <span style=\"color: #800000; text-decoration-color: #800000\">---</span>      │      1.1       │\n",
       "╰──────────────────────────────────┴────────────┴───────────────┴────────────────╯\n",
       "</pre>\n"
      ],
      "text/plain": [
       "\u001b[3m                                                                                  \u001b[0m\n",
       "\u001b[3m                                                                                  \u001b[0m\n",
       "\u001b[3m                                Brainglobe Atlases                                \u001b[0m\n",
       "╭──────────────────────────────────┬────────────┬───────────────┬────────────────╮\n",
       "│\u001b[1;32m \u001b[0m\u001b[1;32mName                            \u001b[0m\u001b[1;32m \u001b[0m│\u001b[1;32m \u001b[0m\u001b[1;32mDownloaded\u001b[0m\u001b[1;32m \u001b[0m│\u001b[1;32m \u001b[0m\u001b[1;32mLocal version\u001b[0m\u001b[1;32m \u001b[0m│\u001b[1;32m \u001b[0m\u001b[1;32mLatest version\u001b[0m\u001b[1;32m \u001b[0m│\n",
       "├──────────────────────────────────┼────────────┼───────────────┼────────────────┤\n",
       "│ \u001b[1mmpin_zfish_1um\u001b[0m                   │     \u001b[32m✔\u001b[0m      │      1.0      │      1.0       │\n",
       "│ \u001b[1mallen_mouse_25um\u001b[0m                 │     \u001b[32m✔\u001b[0m      │      1.2      │      1.2       │\n",
       "│ \u001b[1mallen_mouse_100um\u001b[0m                │     \u001b[32m✔\u001b[0m      │      1.2      │      1.2       │\n",
       "│ \u001b[1mexample_mouse_100um\u001b[0m              │    \u001b[31m---\u001b[0m     │      \u001b[31m---\u001b[0m      │      1.2       │\n",
       "│ \u001b[1mallen_mouse_10um\u001b[0m                 │    \u001b[31m---\u001b[0m     │      \u001b[31m---\u001b[0m      │      1.2       │\n",
       "│ \u001b[1mallen_mouse_50um\u001b[0m                 │    \u001b[31m---\u001b[0m     │      \u001b[31m---\u001b[0m      │      1.2       │\n",
       "│ \u001b[1mallen_human_500um\u001b[0m                │    \u001b[31m---\u001b[0m     │      \u001b[31m---\u001b[0m      │      0.1       │\n",
       "│ \u001b[1mkim_mouse_10um\u001b[0m                   │    \u001b[31m---\u001b[0m     │      \u001b[31m---\u001b[0m      │      1.0       │\n",
       "│ \u001b[1mkim_mouse_25um\u001b[0m                   │    \u001b[31m---\u001b[0m     │      \u001b[31m---\u001b[0m      │      1.0       │\n",
       "│ \u001b[1mkim_mouse_50um\u001b[0m                   │    \u001b[31m---\u001b[0m     │      \u001b[31m---\u001b[0m      │      1.0       │\n",
       "│ \u001b[1mkim_mouse_100um\u001b[0m                  │    \u001b[31m---\u001b[0m     │      \u001b[31m---\u001b[0m      │      1.0       │\n",
       "│ \u001b[1mosten_mouse_10um\u001b[0m                 │    \u001b[31m---\u001b[0m     │      \u001b[31m---\u001b[0m      │      1.1       │\n",
       "│ \u001b[1mosten_mouse_25um\u001b[0m                 │    \u001b[31m---\u001b[0m     │      \u001b[31m---\u001b[0m      │      1.1       │\n",
       "│ \u001b[1mosten_mouse_50um\u001b[0m                 │    \u001b[31m---\u001b[0m     │      \u001b[31m---\u001b[0m      │      1.1       │\n",
       "│ \u001b[1mosten_mouse_100um\u001b[0m                │    \u001b[31m---\u001b[0m     │      \u001b[31m---\u001b[0m      │      1.1       │\n",
       "╰──────────────────────────────────┴────────────┴───────────────┴────────────────╯\n"
      ]
     },
     "metadata": {},
     "output_type": "display_data"
    }
   ],
   "source": [
    "from bg_atlasapi import show_atlases\n",
    "show_atlases()"
   ]
  },
  {
   "cell_type": "code",
   "execution_count": null,
   "id": "9b61b447",
   "metadata": {},
   "outputs": [],
   "source": []
  },
  {
   "cell_type": "markdown",
   "id": "2b0b0223",
   "metadata": {},
   "source": [
    "## Allen mouse 100um"
   ]
  },
  {
   "cell_type": "code",
   "execution_count": 4,
   "id": "b1f171d6",
   "metadata": {},
   "outputs": [
    {
     "name": "stdout",
     "output_type": "stream",
     "text": [
      "allen mouse atlas (res. 100um)\n",
      "From: http://www.brain-map.org (Wang et al 2020, https://doi.org/10.1016/j.cell.2020.04.007 )\n"
     ]
    }
   ],
   "source": [
    "from bg_atlasapi.bg_atlas import BrainGlobeAtlas\n",
    "atlas = BrainGlobeAtlas(\"allen_mouse_100um\")"
   ]
  },
  {
   "cell_type": "code",
   "execution_count": 5,
   "id": "15b4eb5c",
   "metadata": {},
   "outputs": [
    {
     "data": {
      "text/plain": [
       "{'name': 'allen_mouse',\n",
       " 'citation': 'Wang et al 2020, https://doi.org/10.1016/j.cell.2020.04.007',\n",
       " 'atlas_link': 'http://www.brain-map.org',\n",
       " 'species': 'Mus musculus',\n",
       " 'symmetric': True,\n",
       " 'resolution': [100.0, 100.0, 100.0],\n",
       " 'orientation': 'asr',\n",
       " 'version': '1.2',\n",
       " 'shape': [132, 80, 114],\n",
       " 'trasform_to_bg': [[1.0, 0.0, 0.0, 0.0],\n",
       "  [0.0, 1.0, 0.0, 0.0],\n",
       "  [0.0, 0.0, 1.0, 0.0],\n",
       "  [0.0, 0.0, 0.0, 1.0]],\n",
       " 'additional_references': []}"
      ]
     },
     "execution_count": 5,
     "metadata": {},
     "output_type": "execute_result"
    }
   ],
   "source": [
    "atlas.metadata"
   ]
  },
  {
   "cell_type": "code",
   "execution_count": null,
   "id": "9d12761d",
   "metadata": {},
   "outputs": [],
   "source": []
  },
  {
   "cell_type": "code",
   "execution_count": 5,
   "id": "96d2bf07",
   "metadata": {},
   "outputs": [
    {
     "data": {
      "image/png": "[encoded data removed]",
      "text/plain": [
       "<Figure size 720x216 with 3 Axes>"
      ]
     },
     "metadata": {},
     "output_type": "display_data"
    }
   ],
   "source": [
    "sns.set_style('white')\n",
    "fig, axes = plt.subplots(1, 3, figsize=(10, 3))\n",
    "\n",
    "axes[0].imshow(atlas.reference.mean(0))\n",
    "axes[0].set_title('atlas.reference')\n",
    "\n",
    "slice_idx = 50\n",
    "axes[1].imshow(atlas.annotation[slice_idx], cmap='flag_r', vmax=20000)\n",
    "axes[1].set_title('atlas.annotation')\n",
    "\n",
    "axes[2].imshow(atlas.hemispheres.mean(0))\n",
    "axes[2].set_title('atlas.hemispheres')\n",
    "\n",
    "fig.tight_layout()\n",
    "plt.show()"
   ]
  },
  {
   "cell_type": "code",
   "execution_count": null,
   "id": "216f58cb",
   "metadata": {},
   "outputs": [],
   "source": []
  },
  {
   "cell_type": "code",
   "execution_count": 6,
   "id": "a6b1cb2a",
   "metadata": {},
   "outputs": [
    {
     "data": {
      "text/html": [
       "<div>\n",
       "<style scoped>\n",
       "    .dataframe tbody tr th:only-of-type {\n",
       "        vertical-align: middle;\n",
       "    }\n",
       "\n",
       "    .dataframe tbody tr th {\n",
       "        vertical-align: top;\n",
       "    }\n",
       "\n",
       "    .dataframe thead th {\n",
       "        text-align: right;\n",
       "    }\n",
       "</style>\n",
       "<table border=\"1\" class=\"dataframe\">\n",
       "  <thead>\n",
       "    <tr style=\"text-align: right;\">\n",
       "      <th></th>\n",
       "      <th>acronym</th>\n",
       "      <th>id</th>\n",
       "      <th>name</th>\n",
       "    </tr>\n",
       "  </thead>\n",
       "  <tbody>\n",
       "    <tr>\n",
       "      <th>0</th>\n",
       "      <td>root</td>\n",
       "      <td>997</td>\n",
       "      <td>root</td>\n",
       "    </tr>\n",
       "    <tr>\n",
       "      <th>1</th>\n",
       "      <td>grey</td>\n",
       "      <td>8</td>\n",
       "      <td>Basic cell groups and regions</td>\n",
       "    </tr>\n",
       "    <tr>\n",
       "      <th>2</th>\n",
       "      <td>CH</td>\n",
       "      <td>567</td>\n",
       "      <td>Cerebrum</td>\n",
       "    </tr>\n",
       "    <tr>\n",
       "      <th>3</th>\n",
       "      <td>CTX</td>\n",
       "      <td>688</td>\n",
       "      <td>Cerebral cortex</td>\n",
       "    </tr>\n",
       "    <tr>\n",
       "      <th>4</th>\n",
       "      <td>CTXpl</td>\n",
       "      <td>695</td>\n",
       "      <td>Cortical plate</td>\n",
       "    </tr>\n",
       "    <tr>\n",
       "      <th>...</th>\n",
       "      <td>...</td>\n",
       "      <td>...</td>\n",
       "      <td>...</td>\n",
       "    </tr>\n",
       "    <tr>\n",
       "      <th>835</th>\n",
       "      <td>V3</td>\n",
       "      <td>129</td>\n",
       "      <td>third ventricle</td>\n",
       "    </tr>\n",
       "    <tr>\n",
       "      <th>836</th>\n",
       "      <td>AQ</td>\n",
       "      <td>140</td>\n",
       "      <td>cerebral aqueduct</td>\n",
       "    </tr>\n",
       "    <tr>\n",
       "      <th>837</th>\n",
       "      <td>V4</td>\n",
       "      <td>145</td>\n",
       "      <td>fourth ventricle</td>\n",
       "    </tr>\n",
       "    <tr>\n",
       "      <th>838</th>\n",
       "      <td>V4r</td>\n",
       "      <td>153</td>\n",
       "      <td>lateral recess</td>\n",
       "    </tr>\n",
       "    <tr>\n",
       "      <th>839</th>\n",
       "      <td>c</td>\n",
       "      <td>164</td>\n",
       "      <td>central canal, spinal cord/medulla</td>\n",
       "    </tr>\n",
       "  </tbody>\n",
       "</table>\n",
       "<p>840 rows × 3 columns</p>\n",
       "</div>"
      ],
      "text/plain": [
       "    acronym   id                                name\n",
       "0      root  997                                root\n",
       "1      grey    8       Basic cell groups and regions\n",
       "2        CH  567                            Cerebrum\n",
       "3       CTX  688                     Cerebral cortex\n",
       "4     CTXpl  695                      Cortical plate\n",
       "..      ...  ...                                 ...\n",
       "835      V3  129                     third ventricle\n",
       "836      AQ  140                   cerebral aqueduct\n",
       "837      V4  145                    fourth ventricle\n",
       "838     V4r  153                      lateral recess\n",
       "839       c  164  central canal, spinal cord/medulla\n",
       "\n",
       "[840 rows x 3 columns]"
      ]
     },
     "execution_count": 6,
     "metadata": {},
     "output_type": "execute_result"
    }
   ],
   "source": [
    "atlas.lookup_df"
   ]
  },
  {
   "cell_type": "code",
   "execution_count": null,
   "id": "0b75b041",
   "metadata": {},
   "outputs": [],
   "source": []
  },
  {
   "cell_type": "code",
   "execution_count": 7,
   "id": "cbdb48d9",
   "metadata": {},
   "outputs": [
    {
     "data": {
      "text/html": [
       "<div>\n",
       "<style scoped>\n",
       "    .dataframe tbody tr th:only-of-type {\n",
       "        vertical-align: middle;\n",
       "    }\n",
       "\n",
       "    .dataframe tbody tr th {\n",
       "        vertical-align: top;\n",
       "    }\n",
       "\n",
       "    .dataframe thead th {\n",
       "        text-align: right;\n",
       "    }\n",
       "</style>\n",
       "<table border=\"1\" class=\"dataframe\">\n",
       "  <thead>\n",
       "    <tr style=\"text-align: right;\">\n",
       "      <th></th>\n",
       "      <th>acronym</th>\n",
       "      <th>id</th>\n",
       "      <th>name</th>\n",
       "    </tr>\n",
       "  </thead>\n",
       "  <tbody>\n",
       "    <tr>\n",
       "      <th>5</th>\n",
       "      <td>Isocortex</td>\n",
       "      <td>315</td>\n",
       "      <td>Isocortex</td>\n",
       "    </tr>\n",
       "  </tbody>\n",
       "</table>\n",
       "</div>"
      ],
      "text/plain": [
       "     acronym   id       name\n",
       "5  Isocortex  315  Isocortex"
      ]
     },
     "execution_count": 7,
     "metadata": {},
     "output_type": "execute_result"
    }
   ],
   "source": [
    "atlas.lookup_df[atlas.lookup_df.id == 315]"
   ]
  },
  {
   "cell_type": "code",
   "execution_count": 8,
   "id": "149cae4d",
   "metadata": {},
   "outputs": [
    {
     "data": {
      "text/html": [
       "<div>\n",
       "<style scoped>\n",
       "    .dataframe tbody tr th:only-of-type {\n",
       "        vertical-align: middle;\n",
       "    }\n",
       "\n",
       "    .dataframe tbody tr th {\n",
       "        vertical-align: top;\n",
       "    }\n",
       "\n",
       "    .dataframe thead th {\n",
       "        text-align: right;\n",
       "    }\n",
       "</style>\n",
       "<table border=\"1\" class=\"dataframe\">\n",
       "  <thead>\n",
       "    <tr style=\"text-align: right;\">\n",
       "      <th></th>\n",
       "      <th>acronym</th>\n",
       "      <th>id</th>\n",
       "      <th>name</th>\n",
       "    </tr>\n",
       "  </thead>\n",
       "  <tbody>\n",
       "    <tr>\n",
       "      <th>148</th>\n",
       "      <td>VISp</td>\n",
       "      <td>385</td>\n",
       "      <td>Primary visual area</td>\n",
       "    </tr>\n",
       "  </tbody>\n",
       "</table>\n",
       "</div>"
      ],
      "text/plain": [
       "    acronym   id                 name\n",
       "148    VISp  385  Primary visual area"
      ]
     },
     "execution_count": 8,
     "metadata": {},
     "output_type": "execute_result"
    }
   ],
   "source": [
    "atlas.lookup_df[atlas.lookup_df.acronym == 'VISp']"
   ]
  },
  {
   "cell_type": "code",
   "execution_count": null,
   "id": "2eafbd51",
   "metadata": {},
   "outputs": [],
   "source": []
  },
  {
   "cell_type": "code",
   "execution_count": null,
   "id": "9dc048a4",
   "metadata": {},
   "outputs": [],
   "source": []
  },
  {
   "cell_type": "code",
   "execution_count": 9,
   "id": "283c1d9a",
   "metadata": {},
   "outputs": [
    {
     "name": "stdout",
     "output_type": "stream",
     "text": [
      "{'acronym': 'VISp',\n",
      " 'id': 385,\n",
      " 'mesh': None,\n",
      " 'mesh_filename': PosixPath('/home/hadi/.brainglobe/allen_mouse_100um_v1.2/meshes/385.obj'),\n",
      " 'name': 'Primary visual area',\n",
      " 'rgb_triplet': [8, 133, 140],\n",
      " 'structure_id_path': [997, 8, 567, 688, 695, 315, 669, 385]}\n"
     ]
    }
   ],
   "source": [
    "from pprint import pprint\n",
    "VISp = atlas.structures[\"VISp\"]\n",
    "pprint(VISp)"
   ]
  },
  {
   "cell_type": "code",
   "execution_count": null,
   "id": "534d672b",
   "metadata": {},
   "outputs": [],
   "source": []
  },
  {
   "cell_type": "code",
   "execution_count": 10,
   "id": "412e2c67",
   "metadata": {},
   "outputs": [
    {
     "data": {
      "text/plain": [
       "['root', 'grey', 'CH', 'CTX', 'CTXpl']"
      ]
     },
     "execution_count": 10,
     "metadata": {},
     "output_type": "execute_result"
    }
   ],
   "source": [
    "atlas.get_structure_ancestors('Isocortex')"
   ]
  },
  {
   "cell_type": "code",
   "execution_count": 11,
   "id": "236f28b2",
   "metadata": {},
   "outputs": [
    {
     "data": {
      "text/plain": [
       "['VISp1', 'VISp2/3', 'VISp4', 'VISp5', 'VISp6a', 'VISp6b']"
      ]
     },
     "execution_count": 11,
     "metadata": {},
     "output_type": "execute_result"
    }
   ],
   "source": [
    "atlas.get_structure_descendants('VISp')"
   ]
  },
  {
   "cell_type": "code",
   "execution_count": 12,
   "id": "c95d35a7",
   "metadata": {},
   "outputs": [
    {
     "data": {
      "text/plain": [
       "['MOs1', 'MOs2/3', 'MOs5', 'MOs6a', 'MOs6b']"
      ]
     },
     "execution_count": 12,
     "metadata": {},
     "output_type": "execute_result"
    }
   ],
   "source": [
    "atlas.get_structure_descendants('MOs')"
   ]
  },
  {
   "cell_type": "code",
   "execution_count": null,
   "id": "d2292438",
   "metadata": {},
   "outputs": [],
   "source": []
  },
  {
   "cell_type": "code",
   "execution_count": 13,
   "id": "ced1e371",
   "metadata": {
    "scrolled": true
   },
   "outputs": [
    {
     "data": {
      "text/plain": [
       "672"
      ]
     },
     "execution_count": 13,
     "metadata": {},
     "output_type": "execute_result"
    }
   ],
   "source": [
    "atlas.structure_from_coords([51, 55, 40])"
   ]
  },
  {
   "cell_type": "code",
   "execution_count": 14,
   "id": "460fdafb",
   "metadata": {},
   "outputs": [
    {
     "data": {
      "text/plain": [
       "['root', 'grey', 'CH', 'CNU', 'STR', 'STRd']"
      ]
     },
     "execution_count": 14,
     "metadata": {},
     "output_type": "execute_result"
    }
   ],
   "source": [
    "atlas.get_structure_ancestors(672)"
   ]
  },
  {
   "cell_type": "code",
   "execution_count": null,
   "id": "3dce7873",
   "metadata": {},
   "outputs": [],
   "source": []
  },
  {
   "cell_type": "code",
   "execution_count": null,
   "id": "7966b1ba",
   "metadata": {},
   "outputs": [],
   "source": []
  },
  {
   "cell_type": "markdown",
   "id": "9f6eda4f",
   "metadata": {},
   "source": [
    "## How to use BG-Space"
   ]
  },
  {
   "cell_type": "code",
   "execution_count": 15,
   "id": "6062d045",
   "metadata": {},
   "outputs": [],
   "source": [
    "import bg_space as bgs"
   ]
  },
  {
   "cell_type": "code",
   "execution_count": 16,
   "id": "af979fb4",
   "metadata": {},
   "outputs": [
    {
     "data": {
      "text/plain": [
       "((3, 2, 4), (2, 4, 3))"
      ]
     },
     "execution_count": 16,
     "metadata": {},
     "output_type": "execute_result"
    }
   ],
   "source": [
    "stack = np.random.rand(3, 2, 4)\n",
    "\n",
    "source_origin = \"lsa\"\n",
    "target_origin = \"ipr\"\n",
    "mapped_stack = bgs.map_stack_to(source_origin, target_origin, stack)\n",
    "stack.shape, mapped_stack.shape"
   ]
  },
  {
   "cell_type": "code",
   "execution_count": 17,
   "id": "aa5d7a60",
   "metadata": {},
   "outputs": [],
   "source": [
    "annotations = np.array([[0, 0, 0], [2, 1, 3]])  # related point annotations\n",
    "source_space = bgs.AnatomicalSpace(source_origin, stack.shape)\n",
    "target_space = bgs.AnatomicalSpace(target_origin, mapped_stack.shape)"
   ]
  },
  {
   "cell_type": "code",
   "execution_count": 18,
   "id": "2199ace2",
   "metadata": {},
   "outputs": [
    {
     "data": {
      "text/plain": [
       "<BGSpace AnatomicalSpace object>\n",
       "origin: ('Left', 'Superior', 'Anterior')\n",
       "sections: ('Sagittal plane', 'Horizontal plane', 'Frontal plane')\n",
       "shape: (3, 2, 4)"
      ]
     },
     "execution_count": 18,
     "metadata": {},
     "output_type": "execute_result"
    }
   ],
   "source": [
    "source_space"
   ]
  },
  {
   "cell_type": "code",
   "execution_count": 19,
   "id": "15444bd7",
   "metadata": {},
   "outputs": [
    {
     "data": {
      "text/plain": [
       "<BGSpace AnatomicalSpace object>\n",
       "origin: ('Inferior', 'Posterior', 'Right')\n",
       "sections: ('Horizontal plane', 'Frontal plane', 'Sagittal plane')\n",
       "shape: (2, 4, 3)"
      ]
     },
     "execution_count": 19,
     "metadata": {},
     "output_type": "execute_result"
    }
   ],
   "source": [
    "target_space"
   ]
  },
  {
   "cell_type": "code",
   "execution_count": 20,
   "id": "26dce9b2",
   "metadata": {},
   "outputs": [
    {
     "data": {
      "text/plain": [
       "array([[ 0., -1.,  0.,  2.],\n",
       "       [ 0.,  0., -1.,  4.],\n",
       "       [-1.,  0.,  0.,  3.],\n",
       "       [ 0.,  0.,  0.,  1.]])"
      ]
     },
     "execution_count": 20,
     "metadata": {},
     "output_type": "execute_result"
    }
   ],
   "source": [
    "transformation_matrix = source_space.transformation_matrix_to(target_space)\n",
    "transformation_matrix"
   ]
  },
  {
   "cell_type": "code",
   "execution_count": null,
   "id": "7357b339",
   "metadata": {},
   "outputs": [],
   "source": []
  },
  {
   "cell_type": "code",
   "execution_count": null,
   "id": "75df8b1b",
   "metadata": {},
   "outputs": [],
   "source": []
  },
  {
   "cell_type": "code",
   "execution_count": 21,
   "id": "f5e546d3",
   "metadata": {},
   "outputs": [
    {
     "data": {
      "image/png": "[encoded data removed]",
      "text/plain": [
       "<Figure size 648x504 with 6 Axes>"
      ]
     },
     "metadata": {},
     "output_type": "display_data"
    }
   ],
   "source": [
    "sc = bgs.AnatomicalSpace(origin=\"asl\")\n",
    "\n",
    "sns.set_style('white')\n",
    "fig, axes = plt.subplots(2, 3, figsize=(9, 7))\n",
    "\n",
    "for i, (plane, labels) in enumerate(zip(sc.sections, sc.axis_labels)):\n",
    "    axes[0, i].imshow(atlas.reference.mean(i), interpolation='antialiased', cmap='Greys')\n",
    "\n",
    "    axes[0, i].set_title(f\"{plane.capitalize()} view\\n\", fontsize=17)\n",
    "    axes[0, i].set_ylabel(labels[0], fontsize=13)\n",
    "    axes[0, i].set_xlabel(labels[1], fontsize=13)\n",
    "    \n",
    "    axes[1, i].imshow(atlas.get_structure_mask('Isocortex').mean(i), interpolation='none', cmap='Greys')\n",
    "    \n",
    "    for j in range(2):\n",
    "        _ = list(map(lambda x: x.set_visible(False), axes[j, i].spines.values()))\n",
    "        axes[j, i].set_xticks([])\n",
    "        axes[j, i].set_yticks([])\n",
    "    \n",
    "fig.suptitle('origin: ' + '{:s}'.format(sc.origin_string).upper(), fontsize=20, y=1.06)\n",
    "fig.tight_layout()\n",
    "plt.show()"
   ]
  },
  {
   "cell_type": "code",
   "execution_count": null,
   "id": "1ebe6cb3",
   "metadata": {},
   "outputs": [],
   "source": []
  },
  {
   "cell_type": "code",
   "execution_count": null,
   "id": "e7a30b1c",
   "metadata": {},
   "outputs": [],
   "source": []
  },
  {
   "cell_type": "code",
   "execution_count": null,
   "id": "faf17ed3",
   "metadata": {},
   "outputs": [],
   "source": []
  },
  {
   "cell_type": "markdown",
   "id": "141c99ae",
   "metadata": {},
   "source": [
    "## Morphapi"
   ]
  },
  {
   "cell_type": "markdown",
   "id": "ebbf49c2",
   "metadata": {},
   "source": [
    "### 1) Allen Morphology"
   ]
  },
  {
   "cell_type": "code",
   "execution_count": 22,
   "id": "e54495d5",
   "metadata": {},
   "outputs": [
    {
     "name": "stdout",
     "output_type": "stream",
     "text": [
      "embedWindow(verbose=True): could not load ipyvtk_simple try:\n",
      "> pip install -U git+https://github.com/Kitware/ipyvtk-simple.git\n",
      "Downloading neurons\n"
     ]
    },
    {
     "data": {
      "application/vnd.jupyter.widget-view+json": {
       "model_id": "d50b9668f04a4bf7bcd82e33d30fe21d",
       "version_major": 2,
       "version_minor": 0
      },
      "text/plain": [
       "Output()"
      ]
     },
     "metadata": {},
     "output_type": "display_data"
    }
   ],
   "source": [
    "from morphapi.api.allenmorphology import AllenMorphology\n",
    "\n",
    "am = AllenMorphology()\n",
    "\n",
    "# Select mouse neurons in the primary visual cortex\n",
    "neurons = am.neurons.loc[\n",
    "    (am.neurons.species == \"Mus musculus\") &\n",
    "    (am.neurons.structure_area_abbrev == \"VISp\")\n",
    "]\n",
    "\n",
    "# Download some of these neurons\n",
    "neurons = am.download_neurons(neurons[:5].id.values)"
   ]
  },
  {
   "cell_type": "code",
   "execution_count": 23,
   "id": "841baa11",
   "metadata": {},
   "outputs": [
    {
     "data": {
      "text/plain": [
       "({'soma': (Mesh)0x7f5e84f7b6a0,\n",
       "  'axon': None,\n",
       "  'apical_dendrites': (Mesh)0x7f5fac94c3a0,\n",
       "  'basal_dendrites': (Mesh)0x7f5fac94c280},\n",
       " (Mesh)0x7f5fac9400a0)"
      ]
     },
     "execution_count": 23,
     "metadata": {},
     "output_type": "execute_result"
    }
   ],
   "source": [
    "neuron = neurons[0]\n",
    "neuron.create_mesh()"
   ]
  },
  {
   "cell_type": "code",
   "execution_count": null,
   "id": "086b8d18",
   "metadata": {},
   "outputs": [],
   "source": []
  },
  {
   "cell_type": "code",
   "execution_count": null,
   "id": "6fb0c7e3",
   "metadata": {},
   "outputs": [],
   "source": []
  },
  {
   "cell_type": "markdown",
   "id": "ea99fa13",
   "metadata": {},
   "source": [
    "### 2) Neuromorpho"
   ]
  },
  {
   "cell_type": "code",
   "execution_count": 24,
   "id": "128e2cc5",
   "metadata": {},
   "outputs": [
    {
     "name": "stdout",
     "output_type": "stream",
     "text": [
      "Found metadata for 47577 neurons [4758 pages in total]\n",
      "Returning metadata about 10 neurons from page 0\n",
      "Neurons metadata:\n",
      "{'neuron_id': 10047, 'neuron_name': 'TypeA-10', 'archive': 'Scanziani', 'note': None, 'age_scale': None, 'gender': 'Not reported', 'age_classification': 'not reported', 'brain_region': ['neocortex', 'occipital', 'layer 6'], 'cell_type': ['principal cell'], 'species': 'mouse', 'strain': 'transgenic', 'scientific_name': None, 'stain': 'biocytin', 'experiment_condition': ['Control'], 'protocol': 'in vitro', 'slicing_direction': 'coronal', 'reconstruction_software': 'Neurolucida', 'objective_type': 'oil', 'original_format': 'Neurolucida.dat', 'domain': 'Dendrites, Soma, No Axon', 'attributes': 'No Diameter, 3D, Angles', 'magnification': '63', 'upload_date': '2014-05-30', 'deposition_date': '2012-07-01', 'shrinkage_reported': 'Not Reported', 'shrinkage_corrected': '', 'reported_value': None, 'reported_xy': None, 'reported_z': None, 'corrected_value': None, 'corrected_xy': None, 'corrected_z': None, 'soma_surface': '124.16', 'surface': '487.76', 'volume': '13.41', 'slicing_thickness': '50', 'min_age': 'Not Reported', 'max_age': 'Not Reported', 'min_weight': 'Not Reported', 'max_weight': 'Not Reported', 'png_url': 'http://neuromorpho.org/images/imageFiles/Scanziani/TypeA-10.png', 'reference_pmid': ['22367547'], 'reference_doi': ['10.1038/nature10835'], 'physical_Integrity': 'Dendrites Incomplete', '_links': {'self': {'href': 'http://neuromorpho.org/api/neuron/id/10047'}, 'measurements': {'href': 'http://neuromorpho.org/api/morphometry/id/10047'}, 'persistence_vector': {'href': 'http://neuromorpho.org/api/pvec/id/10047'}}}\n"
     ]
    }
   ],
   "source": [
    "from morphapi.api.neuromorphorg import NeuroMorpOrgAPI\n",
    "\n",
    "api = NeuroMorpOrgAPI()\n",
    "\n",
    "# ---------------------------- Downloading metadata --------------------------- #\n",
    "# Get metadata for pyramidal neurons from the mouse cortex.\n",
    "metadata, _ = api.get_neurons_metadata(\n",
    "    size=10,  # Can get the metadata for up to 500 neurons at the time\n",
    "    species=\"mouse\",\n",
    "    cell_type=\"pyramidal\",\n",
    "    brain_region=\"neocortex\",\n",
    ")\n",
    "\n",
    "# To get a list of available query fields: print(api.fields)\n",
    "# To get a list of valid values for a field: print(api.get_fields_values(field))\n",
    "print(\"Neurons metadata:\")\n",
    "print(metadata[0])\n",
    "\n",
    "# ---------------------------- Download morphology --------------------------- #\n",
    "neurons = api.download_neurons(metadata[5])"
   ]
  },
  {
   "cell_type": "code",
   "execution_count": null,
   "id": "2da6d87f",
   "metadata": {},
   "outputs": [],
   "source": []
  },
  {
   "cell_type": "markdown",
   "id": "f28d1a69",
   "metadata": {},
   "source": [
    "### 3) MouseLight"
   ]
  },
  {
   "cell_type": "code",
   "execution_count": 25,
   "id": "d199df54",
   "metadata": {},
   "outputs": [
    {
     "name": "stdout",
     "output_type": "stream",
     "text": [
      "Querying MouseLight API...\n"
     ]
    },
    {
     "ename": "Exception",
     "evalue": "Query failed to run by returning code of 400. \n                    query {\n                        searchNeurons {\n                            \n                queryTime\n                totalCount\n                \n                neurons{\n                tag\n                id\n                idNumber\n                idString\n                \n                brainArea{\n                    id\n                    acronym\n                    name\n                    safeName\n                    atlasId\n                    aliases\n                    structureIdPath\n                }\n\n                tracings{\n                    soma{\n                    x\n                    y\n                    z\n                    radius\n                    brainArea{\n                        id\n                        acronym\n                    }\n                    sampleNumber\n                    parentNumber\n                    \n                    }\n                \n                id\n                tracingStructure{\n                    name\n                    value\n                    id\n                }\n                }\n            }\n    \n                        }\n                    }\n                     -- \n\n{\"errors\":[{\"message\":\"Cannot query field \\\"aliases\\\" on type \\\"BrainArea\\\". Did you mean \\\"aliasList\\\"?\",\"locations\":[{\"line\":20,\"column\":21}],\"extensions\":{\"code\":\"GRAPHQL_VALIDATION_FAILED\"}},{\"message\":\"Cannot query field \\\"brainArea\\\" on type \\\"Node\\\". Did you mean \\\"brainAreaIdCcfV25\\\" or \\\"brainAreaIdCcfV30\\\"?\",\"locations\":[{\"line\":30,\"column\":21}],\"extensions\":{\"code\":\"GRAPHQL_VALIDATION_FAILED\"}}]}\n",
     "output_type": "error",
     "traceback": [
      "\u001b[0;31m---------------------------------------------------------------------------\u001b[0m",
      "\u001b[0;31mException\u001b[0m                                 Traceback (most recent call last)",
      "\u001b[0;32m<ipython-input-25-5fe840bff4fd>\u001b[0m in \u001b[0;36m<module>\u001b[0;34m\u001b[0m\n\u001b[1;32m      6\u001b[0m \u001b[0;34m\u001b[0m\u001b[0m\n\u001b[1;32m      7\u001b[0m \u001b[0;31m# Fetch metadata for neurons with soma in the secondary motor cortex\u001b[0m\u001b[0;34m\u001b[0m\u001b[0;34m\u001b[0m\u001b[0;34m\u001b[0m\u001b[0m\n\u001b[0;32m----> 8\u001b[0;31m neurons_metadata = mlapi.fetch_neurons_metadata(\n\u001b[0m\u001b[1;32m      9\u001b[0m     \u001b[0mfilterby\u001b[0m\u001b[0;34m=\u001b[0m\u001b[0;34m\"soma\"\u001b[0m\u001b[0;34m,\u001b[0m \u001b[0mfilter_regions\u001b[0m\u001b[0;34m=\u001b[0m\u001b[0;34m[\u001b[0m\u001b[0;34m\"MOs\"\u001b[0m\u001b[0;34m]\u001b[0m\u001b[0;34m,\u001b[0m\u001b[0;34m\u001b[0m\u001b[0;34m\u001b[0m\u001b[0m\n\u001b[1;32m     10\u001b[0m )\n",
      "\u001b[0;32m~/anaconda3/envs/mouse/lib/python3.8/site-packages/morphapi/api/mouselight.py\u001b[0m in \u001b[0;36mfetch_neurons_metadata\u001b[0;34m(self, filterby, filter_regions, **kwargs)\u001b[0m\n\u001b[1;32m    279\u001b[0m         )\n\u001b[1;32m    280\u001b[0m \u001b[0;34m\u001b[0m\u001b[0m\n\u001b[0;32m--> 281\u001b[0;31m         \u001b[0mres\u001b[0m \u001b[0;34m=\u001b[0m \u001b[0mpost_mouselight\u001b[0m\u001b[0;34m(\u001b[0m\u001b[0murl\u001b[0m\u001b[0;34m,\u001b[0m \u001b[0mquery\u001b[0m\u001b[0;34m=\u001b[0m\u001b[0mquery\u001b[0m\u001b[0;34m)\u001b[0m\u001b[0;34m[\u001b[0m\u001b[0;34m\"searchNeurons\"\u001b[0m\u001b[0;34m]\u001b[0m\u001b[0;34m\u001b[0m\u001b[0;34m\u001b[0m\u001b[0m\n\u001b[0m\u001b[1;32m    282\u001b[0m         print(\n\u001b[1;32m    283\u001b[0m             \"     ... fetched metadata for {} neurons in {}s\".format(\n",
      "\u001b[0;32m~/anaconda3/envs/mouse/lib/python3.8/site-packages/morphapi/utils/webqueries.py\u001b[0m in \u001b[0;36mpost_mouselight\u001b[0;34m(url, query, clean, attempts)\u001b[0m\n\u001b[1;32m    117\u001b[0m             \u001b[0;32mreturn\u001b[0m \u001b[0mjreq\u001b[0m\u001b[0;34m\u001b[0m\u001b[0;34m\u001b[0m\u001b[0m\n\u001b[1;32m    118\u001b[0m     \u001b[0;32melse\u001b[0m\u001b[0;34m:\u001b[0m\u001b[0;34m\u001b[0m\u001b[0;34m\u001b[0m\u001b[0m\n\u001b[0;32m--> 119\u001b[0;31m         raise Exception(\n\u001b[0m\u001b[1;32m    120\u001b[0m             \"Query failed to run by returning code of {}. {} -- \\n\\n{}\".format(\n\u001b[1;32m    121\u001b[0m                 \u001b[0mrequest\u001b[0m\u001b[0;34m.\u001b[0m\u001b[0mstatus_code\u001b[0m\u001b[0;34m,\u001b[0m \u001b[0mquery\u001b[0m\u001b[0;34m,\u001b[0m \u001b[0mrequest\u001b[0m\u001b[0;34m.\u001b[0m\u001b[0mtext\u001b[0m\u001b[0;34m\u001b[0m\u001b[0;34m\u001b[0m\u001b[0m\n",
      "\u001b[0;31mException\u001b[0m: Query failed to run by returning code of 400. \n                    query {\n                        searchNeurons {\n                            \n                queryTime\n                totalCount\n                \n                neurons{\n                tag\n                id\n                idNumber\n                idString\n                \n                brainArea{\n                    id\n                    acronym\n                    name\n                    safeName\n                    atlasId\n                    aliases\n                    structureIdPath\n                }\n\n                tracings{\n                    soma{\n                    x\n                    y\n                    z\n                    radius\n                    brainArea{\n                        id\n                        acronym\n                    }\n                    sampleNumber\n                    parentNumber\n                    \n                    }\n                \n                id\n                tracingStructure{\n                    name\n                    value\n                    id\n                }\n                }\n            }\n    \n                        }\n                    }\n                     -- \n\n{\"errors\":[{\"message\":\"Cannot query field \\\"aliases\\\" on type \\\"BrainArea\\\". Did you mean \\\"aliasList\\\"?\",\"locations\":[{\"line\":20,\"column\":21}],\"extensions\":{\"code\":\"GRAPHQL_VALIDATION_FAILED\"}},{\"message\":\"Cannot query field \\\"brainArea\\\" on type \\\"Node\\\". Did you mean \\\"brainAreaIdCcfV25\\\" or \\\"brainAreaIdCcfV30\\\"?\",\"locations\":[{\"line\":30,\"column\":21}],\"extensions\":{\"code\":\"GRAPHQL_VALIDATION_FAILED\"}}]}\n"
     ]
    }
   ],
   "source": [
    "from morphapi.api.mouselight import MouseLightAPI\n",
    "\n",
    "\n",
    "# ---------------------------- Downloading neurons --------------------------- #\n",
    "mlapi = MouseLightAPI()\n",
    "\n",
    "# Fetch metadata for neurons with soma in the secondary motor cortex\n",
    "neurons_metadata = mlapi.fetch_neurons_metadata(\n",
    "    filterby=\"soma\", filter_regions=[\"MOs\"],\n",
    ")\n",
    "\n",
    "# Then we can download the files\n",
    "neurons = mlapi.download_neurons(neurons_metadata[0])"
   ]
  },
  {
   "cell_type": "code",
   "execution_count": null,
   "id": "a4918cab",
   "metadata": {},
   "outputs": [],
   "source": []
  },
  {
   "cell_type": "code",
   "execution_count": null,
   "id": "3c961e99",
   "metadata": {},
   "outputs": [],
   "source": []
  },
  {
   "cell_type": "markdown",
   "id": "45549b6f",
   "metadata": {},
   "source": [
    "### 4) Mpin Zebrafish"
   ]
  },
  {
   "cell_type": "code",
   "execution_count": 26,
   "id": "be3b4109",
   "metadata": {
    "scrolled": true
   },
   "outputs": [],
   "source": [
    "import warnings\n",
    "warnings.filterwarnings('ignore', category=DeprecationWarning)"
   ]
  },
  {
   "cell_type": "code",
   "execution_count": 27,
   "id": "a1ded8cc",
   "metadata": {},
   "outputs": [
    {
     "name": "stdout",
     "output_type": "stream",
     "text": [
      "                                    filename   pos_ap   pos_si   pos_lr region\n",
      "T_161116_7_2                T_161116_7_2.swc  584.073  39.4745  413.755      0\n",
      "T_161116_24_2              T_161116_24_2.swc  227.416  286.822  391.047    808\n",
      "T_160518_9_1                T_160518_9_1.swc  575.238  108.977  473.598      0\n",
      "T_160708_HuCxBG_7_2  T_160708_HuCxBG_7_2.swc  531.976  143.489   295.06    833\n",
      "T_160812_13_1              T_160812_13_1.swc  569.958  64.7669  254.375    867\n"
     ]
    }
   ],
   "source": [
    "from morphapi.api.mpin_celldb import MpinMorphologyAPI\n",
    "\n",
    "\n",
    "api = MpinMorphologyAPI()\n",
    "\n",
    "# ----------------------------- Download dataset ----------------------------- #\n",
    "\"\"\"\n",
    "    If it's the first time using this API, you'll have to download the dataset\n",
    "    with all of the neurons' data.\n",
    "\"\"\"\n",
    "\n",
    "# api.download_dataset()\n",
    "\n",
    "# You can then inspect metadata about all neurons:\n",
    "print(api.neurons_df.head())\n",
    "\n",
    "# Get neurons for a given brain structure\n",
    "neurons_ids = api.get_neurons_by_structure(837)\n",
    "\n",
    "# and load the selected neurons\n",
    "neurons = api.load_neurons(neurons_ids)"
   ]
  },
  {
   "cell_type": "code",
   "execution_count": null,
   "id": "ade61bdf",
   "metadata": {},
   "outputs": [],
   "source": []
  },
  {
   "cell_type": "code",
   "execution_count": null,
   "id": "a5b5b9de",
   "metadata": {},
   "outputs": [],
   "source": []
  },
  {
   "cell_type": "markdown",
   "id": "ce57cec5",
   "metadata": {},
   "source": [
    "## Brainrender"
   ]
  },
  {
   "cell_type": "code",
   "execution_count": 1,
   "id": "52f0588b",
   "metadata": {},
   "outputs": [],
   "source": [
    "import os\n",
    "import imio\n",
    "import numpy as np\n",
    "\n",
    "from tqdm.notebook import tqdm\n",
    "import matplotlib.pyplot as plt\n",
    "import seaborn as sns\n",
    "sns.set_style('whitegrid')\n",
    "\n",
    "import matplotlib\n",
    "matplotlib.rcParams['image.interpolation'] = 'none'"
   ]
  },
  {
   "cell_type": "code",
   "execution_count": 2,
   "id": "319810ff",
   "metadata": {},
   "outputs": [],
   "source": [
    "from bg_space import AnatomicalSpace\n",
    "from vedo import Volume\n",
    "from brainrender import Scene, settings\n",
    "from pathlib import Path\n",
    "from myterial import blue_grey, orange, purple\n",
    "from rich import print"
   ]
  },
  {
   "cell_type": "code",
   "execution_count": null,
   "id": "b37cc420",
   "metadata": {},
   "outputs": [],
   "source": []
  },
  {
   "cell_type": "code",
   "execution_count": 5,
   "id": "01287468",
   "metadata": {},
   "outputs": [
    {
     "data": {
      "text/html": [
       "<pre style=\"white-space:pre;overflow-x:auto;line-height:normal;font-family:Menlo,'DejaVu Sans Mono',consolas,'Courier New',monospace\"><span style=\"color: #ab47bc; text-decoration-color: #ab47bc\">Loading data</span>\n",
       "</pre>\n"
      ],
      "text/plain": [
       "\u001b[38;2;171;71;188mLoading data\u001b[0m\n"
      ]
     },
     "metadata": {},
     "output_type": "display_data"
    }
   ],
   "source": [
    "import os\n",
    "from os.path import join as pjoin\n",
    "brainrender_ws = pjoin(os.environ['HOME'], 'Documents/workspaces/brainrender')\n",
    "datafile = Path(pjoin(brainrender_ws, 'Mouse/comms3d.npy'))\n",
    "\n",
    "print(f\"[{purple}]Loading data\")\n",
    "data = np.load(datafile).astype('uint8')"
   ]
  },
  {
   "cell_type": "code",
   "execution_count": 6,
   "id": "78b5b546",
   "metadata": {},
   "outputs": [],
   "source": [
    "data = np.ma.masked_where(data == 0, data)"
   ]
  },
  {
   "cell_type": "code",
   "execution_count": null,
   "id": "5130b8c8",
   "metadata": {},
   "outputs": [],
   "source": []
  },
  {
   "cell_type": "code",
   "execution_count": null,
   "id": "ca0e392d",
   "metadata": {},
   "outputs": [],
   "source": []
  },
  {
   "cell_type": "code",
   "execution_count": 9,
   "id": "33b6cc69",
   "metadata": {},
   "outputs": [
    {
     "data": {
      "text/html": [
       "<pre style=\"white-space:pre;overflow-x:auto;line-height:normal;font-family:Menlo,'DejaVu Sans Mono',consolas,'Courier New',monospace\"><span style=\"font-weight: bold\">&lt;</span><span style=\"color: #ff00ff; text-decoration-color: #ff00ff; font-weight: bold\">matplotlib.colorbar.Colorbar</span><span style=\"color: #000000; text-decoration-color: #000000\"> object at </span><span style=\"color: #008080; text-decoration-color: #008080; font-weight: bold\">0x7f604ea645e0</span><span style=\"font-weight: bold\">&gt;</span>\n",
       "</pre>\n"
      ],
      "text/plain": [
       "\u001b[1m<\u001b[0m\u001b[1;95mmatplotlib.colorbar.Colorbar\u001b[0m\u001b[39m object at \u001b[0m\u001b[1;36m0x7f604ea645e0\u001b[0m\u001b[1m>\u001b[0m\n"
      ]
     },
     "metadata": {},
     "output_type": "display_data"
    },
    {
     "data": {
      "image/png": "[encoded data removed]"
     },
     "metadata": {},
     "output_type": "display_data"
    }
   ],
   "source": [
    "plt.imshow(data[70, ...], cmap='RdYlBu_r')\n",
    "plt.colorbar()"
   ]
  },
  {
   "cell_type": "code",
   "execution_count": null,
   "id": "feff8c15",
   "metadata": {},
   "outputs": [],
   "source": []
  },
  {
   "cell_type": "code",
   "execution_count": 11,
   "id": "1655d61a",
   "metadata": {},
   "outputs": [
    {
     "data": {
      "text/html": [
       "<pre style=\"white-space:pre;overflow-x:auto;line-height:normal;font-family:Menlo,'DejaVu Sans Mono',consolas,'Courier New',monospace\"><span style=\"font-weight: bold\">&lt;</span><span style=\"color: #ff00ff; text-decoration-color: #ff00ff; font-weight: bold\">matplotlib.colorbar.Colorbar</span><span style=\"color: #000000; text-decoration-color: #000000\"> object at </span><span style=\"color: #008080; text-decoration-color: #008080; font-weight: bold\">0x7f604e956850</span><span style=\"font-weight: bold\">&gt;</span>\n",
       "</pre>\n"
      ],
      "text/plain": [
       "\u001b[1m<\u001b[0m\u001b[1;95mmatplotlib.colorbar.Colorbar\u001b[0m\u001b[39m object at \u001b[0m\u001b[1;36m0x7f604e956850\u001b[0m\u001b[1m>\u001b[0m\n"
      ]
     },
     "metadata": {},
     "output_type": "display_data"
    },
    {
     "data": {
      "image/png": "[encoded data removed]"
     },
     "metadata": {},
     "output_type": "display_data"
    }
   ],
   "source": [
    "plt.imshow((data == 1).mean(1), cmap='RdYlBu')\n",
    "plt.colorbar()"
   ]
  },
  {
   "cell_type": "code",
   "execution_count": null,
   "id": "d94ba076",
   "metadata": {},
   "outputs": [],
   "source": []
  },
  {
   "cell_type": "code",
   "execution_count": 13,
   "id": "8cc88d56",
   "metadata": {},
   "outputs": [
    {
     "name": "stdout",
     "output_type": "stream",
     "text": [
      "allen mouse atlas (res. 100um)\n",
      "From: http://www.brain-map.org (Wang et al 2020, https://doi.org/10.1016/j.cell.2020.04.007 )\n"
     ]
    }
   ],
   "source": [
    "from bg_atlasapi.bg_atlas import BrainGlobeAtlas\n",
    "atlas = BrainGlobeAtlas(\"allen_mouse_100um\")"
   ]
  },
  {
   "cell_type": "code",
   "execution_count": 14,
   "id": "00d9cbb9",
   "metadata": {},
   "outputs": [
    {
     "data": {
      "text/html": [
       "<pre style=\"white-space:pre;overflow-x:auto;line-height:normal;font-family:Menlo,'DejaVu Sans Mono',consolas,'Courier New',monospace\"><span style=\"font-weight: bold\">&lt;</span><span style=\"color: #ff00ff; text-decoration-color: #ff00ff; font-weight: bold\">matplotlib.colorbar.Colorbar</span><span style=\"color: #000000; text-decoration-color: #000000\"> object at </span><span style=\"color: #008080; text-decoration-color: #008080; font-weight: bold\">0x7f604d2a40a0</span><span style=\"font-weight: bold\">&gt;</span>\n",
       "</pre>\n"
      ],
      "text/plain": [
       "\u001b[1m<\u001b[0m\u001b[1;95mmatplotlib.colorbar.Colorbar\u001b[0m\u001b[39m object at \u001b[0m\u001b[1;36m0x7f604d2a40a0\u001b[0m\u001b[1m>\u001b[0m\n"
      ]
     },
     "metadata": {},
     "output_type": "display_data"
    },
    {
     "data": {
      "image/png": "[encoded data removed]"
     },
     "metadata": {},
     "output_type": "display_data"
    }
   ],
   "source": [
    "plt.imshow(atlas.reference[:, 56, :], cmap='Greys_r')\n",
    "plt.colorbar()"
   ]
  },
  {
   "cell_type": "code",
   "execution_count": null,
   "id": "eee7e667",
   "metadata": {},
   "outputs": [],
   "source": []
  },
  {
   "cell_type": "code",
   "execution_count": null,
   "id": "a80975a9",
   "metadata": {},
   "outputs": [],
   "source": []
  },
  {
   "cell_type": "markdown",
   "id": "22702983",
   "metadata": {},
   "source": [
    "### Agglo Hier Communities"
   ]
  },
  {
   "cell_type": "code",
   "execution_count": 19,
   "id": "c40a7853",
   "metadata": {},
   "outputs": [
    {
     "data": {
      "text/html": [
       "\n",
       "        <iframe\n",
       "            width=\"900\"\n",
       "            height=\"700\"\n",
       "            src=\"./_extras/Communities_AggloHier.html\"\n",
       "            frameborder=\"0\"\n",
       "            allowfullscreen\n",
       "        ></iframe>\n",
       "        "
      ],
      "text/plain": [
       "<IPython.lib.display.IFrame at 0x7f27172e2910>"
      ]
     },
     "execution_count": 19,
     "metadata": {},
     "output_type": "execute_result"
    }
   ],
   "source": [
    "from IPython.display import IFrame\n",
    "IFrame('./_extras/Communities_AggloHier.html', width=900, height=700)"
   ]
  },
  {
   "cell_type": "code",
   "execution_count": null,
   "id": "13881b62",
   "metadata": {},
   "outputs": [],
   "source": []
  },
  {
   "cell_type": "code",
   "execution_count": null,
   "id": "7e0cf08c",
   "metadata": {},
   "outputs": [],
   "source": []
  },
  {
   "cell_type": "code",
   "execution_count": null,
   "id": "d418e66c",
   "metadata": {},
   "outputs": [],
   "source": []
  },
  {
   "cell_type": "markdown",
   "id": "f14fe09d",
   "metadata": {},
   "source": [
    "## Hierarchy"
   ]
  },
  {
   "cell_type": "code",
   "execution_count": 28,
   "id": "ff1c7839",
   "metadata": {
    "scrolled": true
   },
   "outputs": [
    {
     "data": {
      "text/plain": [
       "(1, 0, 2, 3)"
      ]
     },
     "execution_count": 28,
     "metadata": {},
     "output_type": "execute_result"
    }
   ],
   "source": [
    "atlas.hierarchy.DEPTH, atlas.hierarchy.ROOT, atlas.hierarchy.WIDTH, atlas.hierarchy.ZIGZAG"
   ]
  },
  {
   "cell_type": "code",
   "execution_count": 29,
   "id": "c8ca34a1",
   "metadata": {},
   "outputs": [
    {
     "data": {
      "text/plain": [
       "9"
      ]
     },
     "execution_count": 29,
     "metadata": {},
     "output_type": "execute_result"
    }
   ],
   "source": [
    "atlas.hierarchy.depth()"
   ]
  },
  {
   "cell_type": "code",
   "execution_count": null,
   "id": "7fe5c26a",
   "metadata": {},
   "outputs": [],
   "source": []
  },
  {
   "cell_type": "code",
   "execution_count": 30,
   "id": "789bd7dc",
   "metadata": {},
   "outputs": [
    {
     "name": "stdout",
     "output_type": "stream",
     "text": [
      "VISp (385)\n",
      "├── VISp1 (593)\n",
      "├── VISp2/3 (821)\n",
      "├── VISp4 (721)\n",
      "├── VISp5 (778)\n",
      "├── VISp6a (33)\n",
      "└── VISp6b (305)\n",
      "\n"
     ]
    }
   ],
   "source": [
    "atlas.hierarchy.subtree(385).show()"
   ]
  },
  {
   "cell_type": "code",
   "execution_count": null,
   "id": "e9f11006",
   "metadata": {},
   "outputs": [],
   "source": []
  },
  {
   "cell_type": "code",
   "execution_count": null,
   "id": "d89f7ca4",
   "metadata": {},
   "outputs": [],
   "source": []
  },
  {
   "cell_type": "code",
   "execution_count": 31,
   "id": "6504645f",
   "metadata": {},
   "outputs": [
    {
     "name": "stdout",
     "output_type": "stream",
     "text": [
      "Isocortex (315)\n",
      "├── ACA (31)\n",
      "│   ├── ACAd (39)\n",
      "│   └── ACAv (48)\n",
      "├── AI (95)\n",
      "│   ├── AId (104)\n",
      "│   ├── AIp (111)\n",
      "│   └── AIv (119)\n",
      "├── AUD (247)\n",
      "│   ├── AUDd (1011)\n",
      "│   ├── AUDp (1002)\n",
      "│   ├── AUDpo (1027)\n",
      "│   └── AUDv (1018)\n",
      "├── ECT (895)\n",
      "├── FRP (184)\n",
      "├── GU (1057)\n",
      "├── ILA (44)\n",
      "├── MO (500)\n",
      "│   ├── MOp (985)\n",
      "│   └── MOs (993)\n",
      "├── ORB (714)\n",
      "│   ├── ORBl (723)\n",
      "│   ├── ORBm (731)\n",
      "│   └── ORBvl (746)\n",
      "├── PERI (922)\n",
      "├── PL (972)\n",
      "├── PTLp (22)\n",
      "│   ├── VISa (312782546)\n",
      "│   └── VISrl (417)\n",
      "├── RSP (254)\n",
      "│   ├── RSPagl (894)\n",
      "│   ├── RSPd (879)\n",
      "│   └── RSPv (886)\n",
      "├── SS (453)\n",
      "│   ├── SSp (322)\n",
      "│   │   ├── SSp-bfd (329)\n",
      "│   │   ├── SSp-ll (337)\n",
      "│   │   ├── SSp-m (345)\n",
      "│   │   ├── SSp-n (353)\n",
      "│   │   ├── SSp-tr (361)\n",
      "│   │   ├── SSp-ul (369)\n",
      "│   │   └── SSp-un (182305689)\n",
      "│   └── SSs (378)\n",
      "├── TEa (541)\n",
      "├── VIS (669)\n",
      "│   ├── VISal (402)\n",
      "│   ├── VISam (394)\n",
      "│   ├── VISl (409)\n",
      "│   ├── VISli (312782574)\n",
      "│   ├── VISp (385)\n",
      "│   ├── VISpl (425)\n",
      "│   ├── VISpm (533)\n",
      "│   └── VISpor (312782628)\n",
      "└── VISC (677)\n",
      "\n"
     ]
    }
   ],
   "source": [
    "atlas.hierarchy.subtree(315).show(filter=lambda x: not x.is_leaf())"
   ]
  },
  {
   "cell_type": "code",
   "execution_count": null,
   "id": "79bb6f77",
   "metadata": {},
   "outputs": [],
   "source": []
  },
  {
   "cell_type": "code",
   "execution_count": 32,
   "id": "11d35849",
   "metadata": {
    "scrolled": false
   },
   "outputs": [
    {
     "name": "stdout",
     "output_type": "stream",
     "text": [
      "Isocortex (315)\n",
      "├── ACA (31)\n",
      "│   ├── ACAd (39)\n",
      "│   │   ├── ACAd1 (935)\n",
      "│   │   ├── ACAd2/3 (211)\n",
      "│   │   ├── ACAd5 (1015)\n",
      "│   │   ├── ACAd6a (919)\n",
      "│   │   └── ACAd6b (927)\n",
      "│   └── ACAv (48)\n",
      "│       ├── ACAv1 (588)\n",
      "│       ├── ACAv2/3 (296)\n",
      "│       ├── ACAv5 (772)\n",
      "│       ├── ACAv6a (810)\n",
      "│       └── ACAv6b (819)\n",
      "├── AI (95)\n",
      "│   ├── AId (104)\n",
      "│   │   ├── AId1 (996)\n",
      "│   │   ├── AId2/3 (328)\n",
      "│   │   ├── AId5 (1101)\n",
      "│   │   ├── AId6a (783)\n",
      "│   │   └── AId6b (831)\n",
      "│   ├── AIp (111)\n",
      "│   │   ├── AIp1 (120)\n",
      "│   │   ├── AIp2/3 (163)\n",
      "│   │   ├── AIp5 (344)\n",
      "│   │   ├── AIp6a (314)\n",
      "│   │   └── AIp6b (355)\n",
      "│   └── AIv (119)\n",
      "│       ├── AIv1 (704)\n",
      "│       ├── AIv2/3 (694)\n",
      "│       ├── AIv5 (800)\n",
      "│       ├── AIv6a (675)\n",
      "│       └── AIv6b (699)\n",
      "├── AUD (247)\n",
      "│   ├── AUDd (1011)\n",
      "│   │   ├── AUDd1 (527)\n",
      "│   │   ├── AUDd2/3 (600)\n",
      "│   │   ├── AUDd4 (678)\n",
      "│   │   ├── AUDd5 (252)\n",
      "│   │   ├── AUDd6a (156)\n",
      "│   │   └── AUDd6b (243)\n",
      "│   ├── AUDp (1002)\n",
      "│   │   ├── AUDp1 (735)\n",
      "│   │   ├── AUDp2/3 (251)\n",
      "│   │   ├── AUDp4 (816)\n",
      "│   │   ├── AUDp5 (847)\n",
      "│   │   ├── AUDp6a (954)\n",
      "│   │   └── AUDp6b (1005)\n",
      "│   ├── AUDpo (1027)\n",
      "│   │   ├── AUDpo1 (696)\n",
      "│   │   ├── AUDpo2/3 (643)\n",
      "│   │   ├── AUDpo4 (759)\n",
      "│   │   ├── AUDpo5 (791)\n",
      "│   │   ├── AUDpo6a (249)\n",
      "│   │   └── AUDpo6b (456)\n",
      "│   └── AUDv (1018)\n",
      "│       ├── AUDv1 (959)\n",
      "│       ├── AUDv2/3 (755)\n",
      "│       ├── AUDv4 (990)\n",
      "│       ├── AUDv5 (1023)\n",
      "│       ├── AUDv6a (520)\n",
      "│       └── AUDv6b (598)\n",
      "├── ECT (895)\n",
      "│   ├── ECT1 (836)\n",
      "│   ├── ECT2/3 (427)\n",
      "│   ├── ECT5 (988)\n",
      "│   ├── ECT6a (977)\n",
      "│   └── ECT6b (1045)\n",
      "├── FRP (184)\n",
      "│   ├── FRP1 (68)\n",
      "│   ├── FRP2/3 (667)\n",
      "│   ├── FRP5 (526157192)\n",
      "│   ├── FRP6a (526157196)\n",
      "│   └── FRP6b (526322264)\n",
      "├── GU (1057)\n",
      "│   ├── GU1 (36)\n",
      "│   ├── GU2/3 (180)\n",
      "│   ├── GU4 (148)\n",
      "│   ├── GU5 (187)\n",
      "│   ├── GU6a (638)\n",
      "│   └── GU6b (662)\n",
      "├── ILA (44)\n",
      "│   ├── ILA1 (707)\n",
      "│   ├── ILA2/3 (556)\n",
      "│   ├── ILA5 (827)\n",
      "│   ├── ILA6a (1054)\n",
      "│   └── ILA6b (1081)\n",
      "├── MO (500)\n",
      "│   ├── MOp (985)\n",
      "│   │   ├── MOp1 (320)\n",
      "│   │   ├── MOp2/3 (943)\n",
      "│   │   ├── MOp5 (648)\n",
      "│   │   ├── MOp6a (844)\n",
      "│   │   └── MOp6b (882)\n",
      "│   └── MOs (993)\n",
      "│       ├── MOs1 (656)\n",
      "│       ├── MOs2/3 (962)\n",
      "│       ├── MOs5 (767)\n",
      "│       ├── MOs6a (1021)\n",
      "│       └── MOs6b (1085)\n",
      "├── ORB (714)\n",
      "│   ├── ORBl (723)\n",
      "│   │   ├── ORBl1 (448)\n",
      "│   │   ├── ORBl2/3 (412)\n",
      "│   │   ├── ORBl5 (630)\n",
      "│   │   ├── ORBl6a (440)\n",
      "│   │   └── ORBl6b (488)\n",
      "│   ├── ORBm (731)\n",
      "│   │   ├── ORBm1 (484)\n",
      "│   │   ├── ORBm2/3 (582)\n",
      "│   │   ├── ORBm5 (620)\n",
      "│   │   ├── ORBm6a (910)\n",
      "│   │   └── ORBm6b (527696977)\n",
      "│   └── ORBvl (746)\n",
      "│       ├── ORBvl1 (969)\n",
      "│       ├── ORBvl2/3 (288)\n",
      "│       ├── ORBvl5 (1125)\n",
      "│       ├── ORBvl6a (608)\n",
      "│       └── ORBvl6b (680)\n",
      "├── PERI (922)\n",
      "│   ├── PERI1 (540)\n",
      "│   ├── PERI2/3 (888)\n",
      "│   ├── PERI5 (692)\n",
      "│   ├── PERI6a (335)\n",
      "│   └── PERI6b (368)\n",
      "├── PL (972)\n",
      "│   ├── PL1 (171)\n",
      "│   ├── PL2/3 (304)\n",
      "│   ├── PL5 (363)\n",
      "│   ├── PL6a (84)\n",
      "│   └── PL6b (132)\n",
      "├── PTLp (22)\n",
      "│   ├── VISa (312782546)\n",
      "│   │   ├── VISa1 (312782550)\n",
      "│   │   ├── VISa2/3 (312782554)\n",
      "│   │   ├── VISa4 (312782558)\n",
      "│   │   ├── VISa5 (312782562)\n",
      "│   │   ├── VISa6a (312782566)\n",
      "│   │   └── VISa6b (312782570)\n",
      "│   └── VISrl (417)\n",
      "│       ├── VISrl1 (312782604)\n",
      "│       ├── VISrl2/3 (312782608)\n",
      "│       ├── VISrl4 (312782612)\n",
      "│       ├── VISrl5 (312782616)\n",
      "│       ├── VISrl6a (312782620)\n",
      "│       └── VISrl6b (312782624)\n",
      "├── RSP (254)\n",
      "│   ├── RSPagl (894)\n",
      "│   │   ├── RSPagl1 (671)\n",
      "│   │   ├── RSPagl2/3 (965)\n",
      "│   │   ├── RSPagl5 (774)\n",
      "│   │   ├── RSPagl6a (906)\n",
      "│   │   └── RSPagl6b (279)\n",
      "│   ├── RSPd (879)\n",
      "│   │   ├── RSPd1 (442)\n",
      "│   │   ├── RSPd2/3 (434)\n",
      "│   │   ├── RSPd4 (545)\n",
      "│   │   ├── RSPd5 (610)\n",
      "│   │   ├── RSPd6a (274)\n",
      "│   │   └── RSPd6b (330)\n",
      "│   └── RSPv (886)\n",
      "│       ├── RSPv1 (542)\n",
      "│       ├── RSPv2/3 (430)\n",
      "│       ├── RSPv5 (687)\n",
      "│       ├── RSPv6a (590)\n",
      "│       └── RSPv6b (622)\n",
      "├── SS (453)\n",
      "│   ├── SSp (322)\n",
      "│   │   ├── SSp-bfd (329)\n",
      "│   │   │   ├── SSp-bfd1 (981)\n",
      "│   │   │   ├── SSp-bfd2/3 (201)\n",
      "│   │   │   ├── SSp-bfd4 (1047)\n",
      "│   │   │   ├── SSp-bfd5 (1070)\n",
      "│   │   │   ├── SSp-bfd6a (1038)\n",
      "│   │   │   └── SSp-bfd6b (1062)\n",
      "│   │   ├── SSp-ll (337)\n",
      "│   │   │   ├── SSp-ll1 (1030)\n",
      "│   │   │   ├── SSp-ll2/3 (113)\n",
      "│   │   │   ├── SSp-ll4 (1094)\n",
      "│   │   │   ├── SSp-ll5 (1128)\n",
      "│   │   │   ├── SSp-ll6a (478)\n",
      "│   │   │   └── SSp-ll6b (510)\n",
      "│   │   ├── SSp-m (345)\n",
      "│   │   │   ├── SSp-m1 (878)\n",
      "│   │   │   ├── SSp-m2/3 (657)\n",
      "│   │   │   ├── SSp-m4 (950)\n",
      "│   │   │   ├── SSp-m5 (974)\n",
      "│   │   │   ├── SSp-m6a (1102)\n",
      "│   │   │   └── SSp-m6b (2)\n",
      "│   │   ├── SSp-n (353)\n",
      "│   │   │   ├── SSp-n1 (558)\n",
      "│   │   │   ├── SSp-n2/3 (838)\n",
      "│   │   │   ├── SSp-n4 (654)\n",
      "│   │   │   ├── SSp-n5 (702)\n",
      "│   │   │   ├── SSp-n6a (889)\n",
      "│   │   │   └── SSp-n6b (929)\n",
      "│   │   ├── SSp-tr (361)\n",
      "│   │   │   ├── SSp-tr1 (1006)\n",
      "│   │   │   ├── SSp-tr2/3 (670)\n",
      "│   │   │   ├── SSp-tr4 (1086)\n",
      "│   │   │   ├── SSp-tr5 (1111)\n",
      "│   │   │   ├── SSp-tr6a (9)\n",
      "│   │   │   └── SSp-tr6b (461)\n",
      "│   │   ├── SSp-ul (369)\n",
      "│   │   │   ├── SSp-ul1 (450)\n",
      "│   │   │   ├── SSp-ul2/3 (854)\n",
      "│   │   │   ├── SSp-ul4 (577)\n",
      "│   │   │   ├── SSp-ul5 (625)\n",
      "│   │   │   ├── SSp-ul6a (945)\n",
      "│   │   │   └── SSp-ul6b (1026)\n",
      "│   │   └── SSp-un (182305689)\n",
      "│   │       ├── SSp-un1 (182305693)\n",
      "│   │       ├── SSp-un2/3 (182305697)\n",
      "│   │       ├── SSp-un4 (182305701)\n",
      "│   │       ├── SSp-un5 (182305705)\n",
      "│   │       ├── SSp-un6a (182305709)\n",
      "│   │       └── SSp-un6b (182305713)\n",
      "│   └── SSs (378)\n",
      "│       ├── SSs1 (873)\n",
      "│       ├── SSs2/3 (806)\n",
      "│       ├── SSs4 (1035)\n",
      "│       ├── SSs5 (1090)\n",
      "│       ├── SSs6a (862)\n",
      "│       └── SSs6b (893)\n",
      "├── TEa (541)\n",
      "│   ├── TEa1 (97)\n",
      "│   ├── TEa2/3 (1127)\n",
      "│   ├── TEa4 (234)\n",
      "│   ├── TEa5 (289)\n",
      "│   ├── TEa6a (729)\n",
      "│   └── TEa6b (786)\n",
      "├── VIS (669)\n",
      "│   ├── VISal (402)\n",
      "│   │   ├── VISal1 (1074)\n",
      "│   │   ├── VISal2/3 (905)\n",
      "│   │   ├── VISal4 (1114)\n",
      "│   │   ├── VISal5 (233)\n",
      "│   │   ├── VISal6a (601)\n",
      "│   │   └── VISal6b (649)\n",
      "│   ├── VISam (394)\n",
      "│   │   ├── VISam1 (281)\n",
      "│   │   ├── VISam2/3 (1066)\n",
      "│   │   ├── VISam4 (401)\n",
      "│   │   ├── VISam5 (433)\n",
      "│   │   ├── VISam6a (1046)\n",
      "│   │   └── VISam6b (441)\n",
      "│   ├── VISl (409)\n",
      "│   │   ├── VISl1 (421)\n",
      "│   │   ├── VISl2/3 (973)\n",
      "│   │   ├── VISl4 (573)\n",
      "│   │   ├── VISl5 (613)\n",
      "│   │   ├── VISl6a (74)\n",
      "│   │   └── VISl6b (121)\n",
      "│   ├── VISli (312782574)\n",
      "│   │   ├── VISli1 (312782578)\n",
      "│   │   ├── VISli2/3 (312782582)\n",
      "│   │   ├── VISli4 (312782586)\n",
      "│   │   ├── VISli5 (312782590)\n",
      "│   │   ├── VISli6a (312782594)\n",
      "│   │   └── VISli6b (312782598)\n",
      "│   ├── VISp (385)\n",
      "│   │   ├── VISp1 (593)\n",
      "│   │   ├── VISp2/3 (821)\n",
      "│   │   ├── VISp4 (721)\n",
      "│   │   ├── VISp5 (778)\n",
      "│   │   ├── VISp6a (33)\n",
      "│   │   └── VISp6b (305)\n",
      "│   ├── VISpl (425)\n",
      "│   │   ├── VISpl1 (750)\n",
      "│   │   ├── VISpl2/3 (269)\n",
      "│   │   ├── VISpl4 (869)\n",
      "│   │   ├── VISpl5 (902)\n",
      "│   │   ├── VISpl6a (377)\n",
      "│   │   └── VISpl6b (393)\n",
      "│   ├── VISpm (533)\n",
      "│   │   ├── VISpm1 (805)\n",
      "│   │   ├── VISpm2/3 (41)\n",
      "│   │   ├── VISpm4 (501)\n",
      "│   │   ├── VISpm5 (565)\n",
      "│   │   ├── VISpm6a (257)\n",
      "│   │   └── VISpm6b (469)\n",
      "│   └── VISpor (312782628)\n",
      "│       ├── VISpor1 (312782632)\n",
      "│       ├── VISpor2/3 (312782636)\n",
      "│       ├── VISpor4 (312782640)\n",
      "│       ├── VISpor5 (312782644)\n",
      "│       ├── VISpor6a (312782648)\n",
      "│       └── VISpor6b (312782652)\n",
      "└── VISC (677)\n",
      "    ├── VISC1 (897)\n",
      "    ├── VISC2/3 (1106)\n",
      "    ├── VISC4 (1010)\n",
      "    ├── VISC5 (1058)\n",
      "    ├── VISC6a (857)\n",
      "    └── VISC6b (849)\n",
      "\n"
     ]
    }
   ],
   "source": [
    "atlas.hierarchy.subtree(315).show()"
   ]
  },
  {
   "cell_type": "code",
   "execution_count": null,
   "id": "8129c38f",
   "metadata": {},
   "outputs": [],
   "source": []
  },
  {
   "cell_type": "code",
   "execution_count": null,
   "id": "010050f1",
   "metadata": {},
   "outputs": [],
   "source": []
  },
  {
   "cell_type": "code",
   "execution_count": 33,
   "id": "d5aa74d5",
   "metadata": {
    "scrolled": false
   },
   "outputs": [
    {
     "name": "stdout",
     "output_type": "stream",
     "text": [
      "root (997)\n",
      "├── VS (73)\n",
      "│   ├── V4 (145)\n",
      "│   └── VL (81)\n",
      "├── fiber tracts (1009)\n",
      "│   ├── cbf (960)\n",
      "│   │   └── cbp (752)\n",
      "│   │       ├── icp (1123)\n",
      "│   │       └── scp (326)\n",
      "│   ├── cm (967)\n",
      "│   │   ├── IIIn (832)\n",
      "│   │   ├── IIn (848)\n",
      "│   │   ├── In (840)\n",
      "│   │   │   └── lotg (21)\n",
      "│   │   ├── VIIIn (933)\n",
      "│   │   │   └── cVIIIn (948)\n",
      "│   │   ├── VIIn (798)\n",
      "│   │   ├── Vn (901)\n",
      "│   │   │   └── sV (229)\n",
      "│   │   ├── Xn (917)\n",
      "│   │   └── drt (792)\n",
      "│   │       └── cett (932)\n",
      "│   │           └── dc (514)\n",
      "│   ├── eps (1000)\n",
      "│   │   ├── epsc (760)\n",
      "│   │   ├── rust (863)\n",
      "│   │   └── tsp (877)\n",
      "│   ├── lfbs (983)\n",
      "│   │   ├── cc (776)\n",
      "│   │   │   └── fa (956)\n",
      "│   │   ├── cst (784)\n",
      "│   │   └── lfbst (896)\n",
      "│   └── mfbs (991)\n",
      "│       ├── mfbc (768)\n",
      "│       │   ├── fxs (1099)\n",
      "│       │   │   ├── fxpo (737)\n",
      "│       │   │   └── hc (618)\n",
      "│       │   └── st (301)\n",
      "│       └── mfsbshy (824)\n",
      "│           ├── mfbse (1083)\n",
      "│           └── mfbsma (46)\n",
      "└── grey (8)\n",
      "    ├── BS (343)\n",
      "    │   ├── HB (1065)\n",
      "    │   │   ├── MY (354)\n",
      "    │   │   │   ├── MY-mot (370)\n",
      "    │   │   │   │   ├── AMB (135)\n",
      "    │   │   │   │   ├── LRN (235)\n",
      "    │   │   │   │   ├── MDRN (395)\n",
      "    │   │   │   │   ├── PGRN (938)\n",
      "    │   │   │   │   ├── PHY (154)\n",
      "    │   │   │   │   └── VNC (701)\n",
      "    │   │   │   ├── MY-sat (379)\n",
      "    │   │   │   └── MY-sen (386)\n",
      "    │   │   │       ├── CN (607)\n",
      "    │   │   │       └── DCN (720)\n",
      "    │   │   └── P (771)\n",
      "    │   │       ├── P-mot (987)\n",
      "    │   │       ├── P-sat (1117)\n",
      "    │   │       └── P-sen (1132)\n",
      "    │   │           ├── PB (867)\n",
      "    │   │           └── SOC (398)\n",
      "    │   ├── IB (1129)\n",
      "    │   │   ├── HY (1097)\n",
      "    │   │   │   ├── LZ (290)\n",
      "    │   │   │   │   └── ZI (797)\n",
      "    │   │   │   ├── MEZ (467)\n",
      "    │   │   │   │   └── MBO (331)\n",
      "    │   │   │   │       ├── MM (491)\n",
      "    │   │   │   │       └── TM (557)\n",
      "    │   │   │   ├── PVR (141)\n",
      "    │   │   │   └── PVZ (157)\n",
      "    │   │   └── TH (549)\n",
      "    │   │       ├── DORpm (856)\n",
      "    │   │       │   ├── ATN (239)\n",
      "    │   │       │   │   └── AM (127)\n",
      "    │   │       │   ├── EPI (958)\n",
      "    │   │       │   ├── GENv (1014)\n",
      "    │   │       │   ├── ILM (51)\n",
      "    │   │       │   ├── LAT (138)\n",
      "    │   │       │   ├── MED (444)\n",
      "    │   │       │   └── MTN (571)\n",
      "    │   │       └── DORsm (864)\n",
      "    │   │           ├── GENd (1008)\n",
      "    │   │           │   ├── LGd (170)\n",
      "    │   │           │   └── MG (475)\n",
      "    │   │           ├── SPF (406)\n",
      "    │   │           └── VENT (637)\n",
      "    │   │               └── VP (709)\n",
      "    │   └── MB (313)\n",
      "    │       ├── MBmot (323)\n",
      "    │       │   ├── PAG (795)\n",
      "    │       │   ├── PRT (1100)\n",
      "    │       │   └── SCm (294)\n",
      "    │       ├── MBsen (339)\n",
      "    │       │   ├── IC (4)\n",
      "    │       │   └── SCs (302)\n",
      "    │       └── MBsta (348)\n",
      "    │           └── RAmb (165)\n",
      "    │               └── IPN (100)\n",
      "    ├── CB (512)\n",
      "    │   ├── CBN (519)\n",
      "    │   └── CBX (528)\n",
      "    │       ├── HEM (1073)\n",
      "    │       │   └── AN (1017)\n",
      "    │       └── VERM (645)\n",
      "    │           ├── CENT (920)\n",
      "    │           └── CUL (928)\n",
      "    └── CH (567)\n",
      "        ├── CNU (623)\n",
      "        │   ├── PAL (803)\n",
      "        │   │   ├── PALc (809)\n",
      "        │   │   ├── PALd (818)\n",
      "        │   │   ├── PALm (826)\n",
      "        │   │   │   └── MSC (904)\n",
      "        │   │   └── PALv (835)\n",
      "        │   └── STR (477)\n",
      "        │       ├── LSX (275)\n",
      "        │       │   └── LS (242)\n",
      "        │       ├── STRd (485)\n",
      "        │       ├── STRv (493)\n",
      "        │       └── sAMY (278)\n",
      "        │           └── CEA (536)\n",
      "        └── CTX (688)\n",
      "            ├── CTXpl (695)\n",
      "            │   ├── HPF (1089)\n",
      "            │   │   ├── HIP (1080)\n",
      "            │   │   │   ├── CA (375)\n",
      "            │   │   │   └── DG (726)\n",
      "            │   │   └── RHP (822)\n",
      "            │   │       └── ENT (909)\n",
      "            │   │           ├── ENTl (918)\n",
      "            │   │           └── ENTm (926)\n",
      "            │   ├── Isocortex (315)\n",
      "            │   │   ├── ACA (31)\n",
      "            │   │   │   ├── ACAd (39)\n",
      "            │   │   │   └── ACAv (48)\n",
      "            │   │   ├── AI (95)\n",
      "            │   │   │   ├── AId (104)\n",
      "            │   │   │   ├── AIp (111)\n",
      "            │   │   │   └── AIv (119)\n",
      "            │   │   ├── AUD (247)\n",
      "            │   │   │   ├── AUDd (1011)\n",
      "            │   │   │   ├── AUDp (1002)\n",
      "            │   │   │   ├── AUDpo (1027)\n",
      "            │   │   │   └── AUDv (1018)\n",
      "            │   │   ├── ECT (895)\n",
      "            │   │   ├── FRP (184)\n",
      "            │   │   ├── GU (1057)\n",
      "            │   │   ├── ILA (44)\n",
      "            │   │   ├── MO (500)\n",
      "            │   │   │   ├── MOp (985)\n",
      "            │   │   │   └── MOs (993)\n",
      "            │   │   ├── ORB (714)\n",
      "            │   │   │   ├── ORBl (723)\n",
      "            │   │   │   ├── ORBm (731)\n",
      "            │   │   │   └── ORBvl (746)\n",
      "            │   │   ├── PERI (922)\n",
      "            │   │   ├── PL (972)\n",
      "            │   │   ├── PTLp (22)\n",
      "            │   │   │   ├── VISa (312782546)\n",
      "            │   │   │   └── VISrl (417)\n",
      "            │   │   ├── RSP (254)\n",
      "            │   │   │   ├── RSPagl (894)\n",
      "            │   │   │   ├── RSPd (879)\n",
      "            │   │   │   └── RSPv (886)\n",
      "            │   │   ├── SS (453)\n",
      "            │   │   │   ├── SSp (322)\n",
      "            │   │   │   │   ├── SSp-bfd (329)\n",
      "            │   │   │   │   ├── SSp-ll (337)\n",
      "            │   │   │   │   ├── SSp-m (345)\n",
      "            │   │   │   │   ├── SSp-n (353)\n",
      "            │   │   │   │   ├── SSp-tr (361)\n",
      "            │   │   │   │   ├── SSp-ul (369)\n",
      "            │   │   │   │   └── SSp-un (182305689)\n",
      "            │   │   │   └── SSs (378)\n",
      "            │   │   ├── TEa (541)\n",
      "            │   │   ├── VIS (669)\n",
      "            │   │   │   ├── VISal (402)\n",
      "            │   │   │   ├── VISam (394)\n",
      "            │   │   │   ├── VISl (409)\n",
      "            │   │   │   ├── VISli (312782574)\n",
      "            │   │   │   ├── VISp (385)\n",
      "            │   │   │   ├── VISpl (425)\n",
      "            │   │   │   ├── VISpm (533)\n",
      "            │   │   │   └── VISpor (312782628)\n",
      "            │   │   └── VISC (677)\n",
      "            │   └── OLF (698)\n",
      "            │       ├── AOB (151)\n",
      "            │       ├── COA (631)\n",
      "            │       │   └── COAp (647)\n",
      "            │       ├── NLOT (619)\n",
      "            │       └── TT (589)\n",
      "            └── CTXsp (703)\n",
      "                ├── BLA (295)\n",
      "                ├── BMA (319)\n",
      "                └── EP (942)\n",
      "\n"
     ]
    }
   ],
   "source": [
    "atlas.hierarchy.show(filter=lambda x: not x.is_leaf())"
   ]
  },
  {
   "cell_type": "code",
   "execution_count": null,
   "id": "fe5ee0fd",
   "metadata": {},
   "outputs": [],
   "source": []
  },
  {
   "cell_type": "code",
   "execution_count": null,
   "id": "0b8ac6fd",
   "metadata": {},
   "outputs": [],
   "source": []
  },
  {
   "cell_type": "code",
   "execution_count": null,
   "id": "e27103ac",
   "metadata": {},
   "outputs": [],
   "source": []
  },
  {
   "cell_type": "code",
   "execution_count": null,
   "id": "6439c685",
   "metadata": {},
   "outputs": [],
   "source": []
  },
  {
   "cell_type": "code",
   "execution_count": null,
   "id": "844c9316",
   "metadata": {},
   "outputs": [],
   "source": []
  },
  {
   "cell_type": "code",
   "execution_count": null,
   "id": "0b15d2a5",
   "metadata": {},
   "outputs": [],
   "source": [
    "Volume()"
   ]
  },
  {
   "cell_type": "code",
   "execution_count": 38,
   "id": "2db6cf7c",
   "metadata": {},
   "outputs": [
    {
     "data": {
      "text/html": [
       "<div>\n",
       "<style scoped>\n",
       "    .dataframe tbody tr th:only-of-type {\n",
       "        vertical-align: middle;\n",
       "    }\n",
       "\n",
       "    .dataframe tbody tr th {\n",
       "        vertical-align: top;\n",
       "    }\n",
       "\n",
       "    .dataframe thead th {\n",
       "        text-align: right;\n",
       "    }\n",
       "</style>\n",
       "<table border=\"1\" class=\"dataframe\">\n",
       "  <thead>\n",
       "    <tr style=\"text-align: right;\">\n",
       "      <th></th>\n",
       "      <th>acronym</th>\n",
       "      <th>id</th>\n",
       "      <th>name</th>\n",
       "    </tr>\n",
       "  </thead>\n",
       "  <tbody>\n",
       "    <tr>\n",
       "      <th>0</th>\n",
       "      <td>root</td>\n",
       "      <td>997</td>\n",
       "      <td>root</td>\n",
       "    </tr>\n",
       "    <tr>\n",
       "      <th>1</th>\n",
       "      <td>grey</td>\n",
       "      <td>8</td>\n",
       "      <td>Basic cell groups and regions</td>\n",
       "    </tr>\n",
       "    <tr>\n",
       "      <th>2</th>\n",
       "      <td>CH</td>\n",
       "      <td>567</td>\n",
       "      <td>Cerebrum</td>\n",
       "    </tr>\n",
       "    <tr>\n",
       "      <th>3</th>\n",
       "      <td>CTX</td>\n",
       "      <td>688</td>\n",
       "      <td>Cerebral cortex</td>\n",
       "    </tr>\n",
       "    <tr>\n",
       "      <th>4</th>\n",
       "      <td>CTXpl</td>\n",
       "      <td>695</td>\n",
       "      <td>Cortical plate</td>\n",
       "    </tr>\n",
       "    <tr>\n",
       "      <th>...</th>\n",
       "      <td>...</td>\n",
       "      <td>...</td>\n",
       "      <td>...</td>\n",
       "    </tr>\n",
       "    <tr>\n",
       "      <th>835</th>\n",
       "      <td>V3</td>\n",
       "      <td>129</td>\n",
       "      <td>third ventricle</td>\n",
       "    </tr>\n",
       "    <tr>\n",
       "      <th>836</th>\n",
       "      <td>AQ</td>\n",
       "      <td>140</td>\n",
       "      <td>cerebral aqueduct</td>\n",
       "    </tr>\n",
       "    <tr>\n",
       "      <th>837</th>\n",
       "      <td>V4</td>\n",
       "      <td>145</td>\n",
       "      <td>fourth ventricle</td>\n",
       "    </tr>\n",
       "    <tr>\n",
       "      <th>838</th>\n",
       "      <td>V4r</td>\n",
       "      <td>153</td>\n",
       "      <td>lateral recess</td>\n",
       "    </tr>\n",
       "    <tr>\n",
       "      <th>839</th>\n",
       "      <td>c</td>\n",
       "      <td>164</td>\n",
       "      <td>central canal, spinal cord/medulla</td>\n",
       "    </tr>\n",
       "  </tbody>\n",
       "</table>\n",
       "<p>840 rows × 3 columns</p>\n",
       "</div>"
      ]
     },
     "execution_count": 38,
     "metadata": {},
     "output_type": "execute_result"
    }
   ],
   "source": [
    "atlas.lookup_df"
   ]
  },
  {
   "cell_type": "code",
   "execution_count": 25,
   "id": "2ca58a48",
   "metadata": {},
   "outputs": [
    {
     "data": {
      "text/html": [
       "<pre style=\"white-space:pre;overflow-x:auto;line-height:normal;font-family:Menlo,'DejaVu Sans Mono',consolas,'Courier New',monospace\"><span style=\"color: #800080; text-decoration-color: #800080; font-weight: bold\">array</span><span style=\"font-weight: bold\">([[[</span><span style=\"color: #008080; text-decoration-color: #008080; font-weight: bold\">1</span>, <span style=\"color: #008080; text-decoration-color: #008080; font-weight: bold\">1</span>, <span style=\"color: #008080; text-decoration-color: #008080; font-weight: bold\">1</span>, <span style=\"color: #808000; text-decoration-color: #808000\">...</span>, <span style=\"color: #008080; text-decoration-color: #008080; font-weight: bold\">0</span>, <span style=\"color: #008080; text-decoration-color: #008080; font-weight: bold\">0</span>, <span style=\"color: #008080; text-decoration-color: #008080; font-weight: bold\">0</span><span style=\"font-weight: bold\">]</span>,\n",
       "        <span style=\"font-weight: bold\">[</span><span style=\"color: #008080; text-decoration-color: #008080; font-weight: bold\">1</span>, <span style=\"color: #008080; text-decoration-color: #008080; font-weight: bold\">1</span>, <span style=\"color: #008080; text-decoration-color: #008080; font-weight: bold\">1</span>, <span style=\"color: #808000; text-decoration-color: #808000\">...</span>, <span style=\"color: #008080; text-decoration-color: #008080; font-weight: bold\">0</span>, <span style=\"color: #008080; text-decoration-color: #008080; font-weight: bold\">0</span>, <span style=\"color: #008080; text-decoration-color: #008080; font-weight: bold\">0</span><span style=\"font-weight: bold\">]</span>,\n",
       "        <span style=\"font-weight: bold\">[</span><span style=\"color: #008080; text-decoration-color: #008080; font-weight: bold\">1</span>, <span style=\"color: #008080; text-decoration-color: #008080; font-weight: bold\">1</span>, <span style=\"color: #008080; text-decoration-color: #008080; font-weight: bold\">1</span>, <span style=\"color: #808000; text-decoration-color: #808000\">...</span>, <span style=\"color: #008080; text-decoration-color: #008080; font-weight: bold\">0</span>, <span style=\"color: #008080; text-decoration-color: #008080; font-weight: bold\">0</span>, <span style=\"color: #008080; text-decoration-color: #008080; font-weight: bold\">0</span><span style=\"font-weight: bold\">]</span>,\n",
       "        <span style=\"color: #808000; text-decoration-color: #808000\">...</span>,\n",
       "        <span style=\"font-weight: bold\">[</span><span style=\"color: #008080; text-decoration-color: #008080; font-weight: bold\">0</span>, <span style=\"color: #008080; text-decoration-color: #008080; font-weight: bold\">0</span>, <span style=\"color: #008080; text-decoration-color: #008080; font-weight: bold\">0</span>, <span style=\"color: #808000; text-decoration-color: #808000\">...</span>, <span style=\"color: #008080; text-decoration-color: #008080; font-weight: bold\">0</span>, <span style=\"color: #008080; text-decoration-color: #008080; font-weight: bold\">0</span>, <span style=\"color: #008080; text-decoration-color: #008080; font-weight: bold\">0</span><span style=\"font-weight: bold\">]</span>,\n",
       "        <span style=\"font-weight: bold\">[</span><span style=\"color: #008080; text-decoration-color: #008080; font-weight: bold\">0</span>, <span style=\"color: #008080; text-decoration-color: #008080; font-weight: bold\">0</span>, <span style=\"color: #008080; text-decoration-color: #008080; font-weight: bold\">0</span>, <span style=\"color: #808000; text-decoration-color: #808000\">...</span>, <span style=\"color: #008080; text-decoration-color: #008080; font-weight: bold\">0</span>, <span style=\"color: #008080; text-decoration-color: #008080; font-weight: bold\">0</span>, <span style=\"color: #008080; text-decoration-color: #008080; font-weight: bold\">0</span><span style=\"font-weight: bold\">]</span>,\n",
       "        <span style=\"font-weight: bold\">[</span><span style=\"color: #008080; text-decoration-color: #008080; font-weight: bold\">0</span>, <span style=\"color: #008080; text-decoration-color: #008080; font-weight: bold\">0</span>, <span style=\"color: #008080; text-decoration-color: #008080; font-weight: bold\">0</span>, <span style=\"color: #808000; text-decoration-color: #808000\">...</span>, <span style=\"color: #008080; text-decoration-color: #008080; font-weight: bold\">0</span>, <span style=\"color: #008080; text-decoration-color: #008080; font-weight: bold\">0</span>, <span style=\"color: #008080; text-decoration-color: #008080; font-weight: bold\">0</span><span style=\"font-weight: bold\">]]</span>,\n",
       "\n",
       "       <span style=\"font-weight: bold\">[[</span><span style=\"color: #008080; text-decoration-color: #008080; font-weight: bold\">1</span>, <span style=\"color: #008080; text-decoration-color: #008080; font-weight: bold\">1</span>, <span style=\"color: #008080; text-decoration-color: #008080; font-weight: bold\">1</span>, <span style=\"color: #808000; text-decoration-color: #808000\">...</span>, <span style=\"color: #008080; text-decoration-color: #008080; font-weight: bold\">0</span>, <span style=\"color: #008080; text-decoration-color: #008080; font-weight: bold\">0</span>, <span style=\"color: #008080; text-decoration-color: #008080; font-weight: bold\">0</span><span style=\"font-weight: bold\">]</span>,\n",
       "        <span style=\"font-weight: bold\">[</span><span style=\"color: #008080; text-decoration-color: #008080; font-weight: bold\">1</span>, <span style=\"color: #008080; text-decoration-color: #008080; font-weight: bold\">1</span>, <span style=\"color: #008080; text-decoration-color: #008080; font-weight: bold\">1</span>, <span style=\"color: #808000; text-decoration-color: #808000\">...</span>, <span style=\"color: #008080; text-decoration-color: #008080; font-weight: bold\">0</span>, <span style=\"color: #008080; text-decoration-color: #008080; font-weight: bold\">0</span>, <span style=\"color: #008080; text-decoration-color: #008080; font-weight: bold\">0</span><span style=\"font-weight: bold\">]</span>,\n",
       "        <span style=\"font-weight: bold\">[</span><span style=\"color: #008080; text-decoration-color: #008080; font-weight: bold\">1</span>, <span style=\"color: #008080; text-decoration-color: #008080; font-weight: bold\">1</span>, <span style=\"color: #008080; text-decoration-color: #008080; font-weight: bold\">1</span>, <span style=\"color: #808000; text-decoration-color: #808000\">...</span>, <span style=\"color: #008080; text-decoration-color: #008080; font-weight: bold\">0</span>, <span style=\"color: #008080; text-decoration-color: #008080; font-weight: bold\">0</span>, <span style=\"color: #008080; text-decoration-color: #008080; font-weight: bold\">0</span><span style=\"font-weight: bold\">]</span>,\n",
       "        <span style=\"color: #808000; text-decoration-color: #808000\">...</span>,\n",
       "        <span style=\"font-weight: bold\">[</span><span style=\"color: #008080; text-decoration-color: #008080; font-weight: bold\">0</span>, <span style=\"color: #008080; text-decoration-color: #008080; font-weight: bold\">0</span>, <span style=\"color: #008080; text-decoration-color: #008080; font-weight: bold\">0</span>, <span style=\"color: #808000; text-decoration-color: #808000\">...</span>, <span style=\"color: #008080; text-decoration-color: #008080; font-weight: bold\">0</span>, <span style=\"color: #008080; text-decoration-color: #008080; font-weight: bold\">0</span>, <span style=\"color: #008080; text-decoration-color: #008080; font-weight: bold\">0</span><span style=\"font-weight: bold\">]</span>,\n",
       "        <span style=\"font-weight: bold\">[</span><span style=\"color: #008080; text-decoration-color: #008080; font-weight: bold\">0</span>, <span style=\"color: #008080; text-decoration-color: #008080; font-weight: bold\">0</span>, <span style=\"color: #008080; text-decoration-color: #008080; font-weight: bold\">0</span>, <span style=\"color: #808000; text-decoration-color: #808000\">...</span>, <span style=\"color: #008080; text-decoration-color: #008080; font-weight: bold\">0</span>, <span style=\"color: #008080; text-decoration-color: #008080; font-weight: bold\">0</span>, <span style=\"color: #008080; text-decoration-color: #008080; font-weight: bold\">0</span><span style=\"font-weight: bold\">]</span>,\n",
       "        <span style=\"font-weight: bold\">[</span><span style=\"color: #008080; text-decoration-color: #008080; font-weight: bold\">0</span>, <span style=\"color: #008080; text-decoration-color: #008080; font-weight: bold\">0</span>, <span style=\"color: #008080; text-decoration-color: #008080; font-weight: bold\">0</span>, <span style=\"color: #808000; text-decoration-color: #808000\">...</span>, <span style=\"color: #008080; text-decoration-color: #008080; font-weight: bold\">0</span>, <span style=\"color: #008080; text-decoration-color: #008080; font-weight: bold\">0</span>, <span style=\"color: #008080; text-decoration-color: #008080; font-weight: bold\">0</span><span style=\"font-weight: bold\">]]</span>,\n",
       "\n",
       "       <span style=\"font-weight: bold\">[[</span><span style=\"color: #008080; text-decoration-color: #008080; font-weight: bold\">1</span>, <span style=\"color: #008080; text-decoration-color: #008080; font-weight: bold\">1</span>, <span style=\"color: #008080; text-decoration-color: #008080; font-weight: bold\">1</span>, <span style=\"color: #808000; text-decoration-color: #808000\">...</span>, <span style=\"color: #008080; text-decoration-color: #008080; font-weight: bold\">0</span>, <span style=\"color: #008080; text-decoration-color: #008080; font-weight: bold\">0</span>, <span style=\"color: #008080; text-decoration-color: #008080; font-weight: bold\">0</span><span style=\"font-weight: bold\">]</span>,\n",
       "        <span style=\"font-weight: bold\">[</span><span style=\"color: #008080; text-decoration-color: #008080; font-weight: bold\">1</span>, <span style=\"color: #008080; text-decoration-color: #008080; font-weight: bold\">1</span>, <span style=\"color: #008080; text-decoration-color: #008080; font-weight: bold\">1</span>, <span style=\"color: #808000; text-decoration-color: #808000\">...</span>, <span style=\"color: #008080; text-decoration-color: #008080; font-weight: bold\">0</span>, <span style=\"color: #008080; text-decoration-color: #008080; font-weight: bold\">0</span>, <span style=\"color: #008080; text-decoration-color: #008080; font-weight: bold\">0</span><span style=\"font-weight: bold\">]</span>,\n",
       "        <span style=\"font-weight: bold\">[</span><span style=\"color: #008080; text-decoration-color: #008080; font-weight: bold\">1</span>, <span style=\"color: #008080; text-decoration-color: #008080; font-weight: bold\">1</span>, <span style=\"color: #008080; text-decoration-color: #008080; font-weight: bold\">1</span>, <span style=\"color: #808000; text-decoration-color: #808000\">...</span>, <span style=\"color: #008080; text-decoration-color: #008080; font-weight: bold\">0</span>, <span style=\"color: #008080; text-decoration-color: #008080; font-weight: bold\">0</span>, <span style=\"color: #008080; text-decoration-color: #008080; font-weight: bold\">0</span><span style=\"font-weight: bold\">]</span>,\n",
       "        <span style=\"color: #808000; text-decoration-color: #808000\">...</span>,\n",
       "        <span style=\"font-weight: bold\">[</span><span style=\"color: #008080; text-decoration-color: #008080; font-weight: bold\">0</span>, <span style=\"color: #008080; text-decoration-color: #008080; font-weight: bold\">0</span>, <span style=\"color: #008080; text-decoration-color: #008080; font-weight: bold\">0</span>, <span style=\"color: #808000; text-decoration-color: #808000\">...</span>, <span style=\"color: #008080; text-decoration-color: #008080; font-weight: bold\">0</span>, <span style=\"color: #008080; text-decoration-color: #008080; font-weight: bold\">0</span>, <span style=\"color: #008080; text-decoration-color: #008080; font-weight: bold\">0</span><span style=\"font-weight: bold\">]</span>,\n",
       "        <span style=\"font-weight: bold\">[</span><span style=\"color: #008080; text-decoration-color: #008080; font-weight: bold\">0</span>, <span style=\"color: #008080; text-decoration-color: #008080; font-weight: bold\">0</span>, <span style=\"color: #008080; text-decoration-color: #008080; font-weight: bold\">0</span>, <span style=\"color: #808000; text-decoration-color: #808000\">...</span>, <span style=\"color: #008080; text-decoration-color: #008080; font-weight: bold\">0</span>, <span style=\"color: #008080; text-decoration-color: #008080; font-weight: bold\">0</span>, <span style=\"color: #008080; text-decoration-color: #008080; font-weight: bold\">0</span><span style=\"font-weight: bold\">]</span>,\n",
       "        <span style=\"font-weight: bold\">[</span><span style=\"color: #008080; text-decoration-color: #008080; font-weight: bold\">0</span>, <span style=\"color: #008080; text-decoration-color: #008080; font-weight: bold\">0</span>, <span style=\"color: #008080; text-decoration-color: #008080; font-weight: bold\">0</span>, <span style=\"color: #808000; text-decoration-color: #808000\">...</span>, <span style=\"color: #008080; text-decoration-color: #008080; font-weight: bold\">0</span>, <span style=\"color: #008080; text-decoration-color: #008080; font-weight: bold\">0</span>, <span style=\"color: #008080; text-decoration-color: #008080; font-weight: bold\">0</span><span style=\"font-weight: bold\">]]</span>,\n",
       "\n",
       "       <span style=\"color: #808000; text-decoration-color: #808000\">...</span>,\n",
       "\n",
       "       <span style=\"font-weight: bold\">[[</span><span style=\"color: #008080; text-decoration-color: #008080; font-weight: bold\">0</span>, <span style=\"color: #008080; text-decoration-color: #008080; font-weight: bold\">0</span>, <span style=\"color: #008080; text-decoration-color: #008080; font-weight: bold\">0</span>, <span style=\"color: #808000; text-decoration-color: #808000\">...</span>, <span style=\"color: #008080; text-decoration-color: #008080; font-weight: bold\">0</span>, <span style=\"color: #008080; text-decoration-color: #008080; font-weight: bold\">0</span>, <span style=\"color: #008080; text-decoration-color: #008080; font-weight: bold\">0</span><span style=\"font-weight: bold\">]</span>,\n",
       "        <span style=\"font-weight: bold\">[</span><span style=\"color: #008080; text-decoration-color: #008080; font-weight: bold\">0</span>, <span style=\"color: #008080; text-decoration-color: #008080; font-weight: bold\">0</span>, <span style=\"color: #008080; text-decoration-color: #008080; font-weight: bold\">0</span>, <span style=\"color: #808000; text-decoration-color: #808000\">...</span>, <span style=\"color: #008080; text-decoration-color: #008080; font-weight: bold\">0</span>, <span style=\"color: #008080; text-decoration-color: #008080; font-weight: bold\">0</span>, <span style=\"color: #008080; text-decoration-color: #008080; font-weight: bold\">0</span><span style=\"font-weight: bold\">]</span>,\n",
       "        <span style=\"font-weight: bold\">[</span><span style=\"color: #008080; text-decoration-color: #008080; font-weight: bold\">0</span>, <span style=\"color: #008080; text-decoration-color: #008080; font-weight: bold\">0</span>, <span style=\"color: #008080; text-decoration-color: #008080; font-weight: bold\">0</span>, <span style=\"color: #808000; text-decoration-color: #808000\">...</span>, <span style=\"color: #008080; text-decoration-color: #008080; font-weight: bold\">0</span>, <span style=\"color: #008080; text-decoration-color: #008080; font-weight: bold\">0</span>, <span style=\"color: #008080; text-decoration-color: #008080; font-weight: bold\">0</span><span style=\"font-weight: bold\">]</span>,\n",
       "        <span style=\"color: #808000; text-decoration-color: #808000\">...</span>,\n",
       "        <span style=\"font-weight: bold\">[</span><span style=\"color: #008080; text-decoration-color: #008080; font-weight: bold\">0</span>, <span style=\"color: #008080; text-decoration-color: #008080; font-weight: bold\">0</span>, <span style=\"color: #008080; text-decoration-color: #008080; font-weight: bold\">0</span>, <span style=\"color: #808000; text-decoration-color: #808000\">...</span>, <span style=\"color: #008080; text-decoration-color: #008080; font-weight: bold\">3</span>, <span style=\"color: #008080; text-decoration-color: #008080; font-weight: bold\">3</span>, <span style=\"color: #008080; text-decoration-color: #008080; font-weight: bold\">0</span><span style=\"font-weight: bold\">]</span>,\n",
       "        <span style=\"font-weight: bold\">[</span><span style=\"color: #008080; text-decoration-color: #008080; font-weight: bold\">0</span>, <span style=\"color: #008080; text-decoration-color: #008080; font-weight: bold\">0</span>, <span style=\"color: #008080; text-decoration-color: #008080; font-weight: bold\">0</span>, <span style=\"color: #808000; text-decoration-color: #808000\">...</span>, <span style=\"color: #008080; text-decoration-color: #008080; font-weight: bold\">3</span>, <span style=\"color: #008080; text-decoration-color: #008080; font-weight: bold\">3</span>, <span style=\"color: #008080; text-decoration-color: #008080; font-weight: bold\">0</span><span style=\"font-weight: bold\">]</span>,\n",
       "        <span style=\"font-weight: bold\">[</span><span style=\"color: #008080; text-decoration-color: #008080; font-weight: bold\">0</span>, <span style=\"color: #008080; text-decoration-color: #008080; font-weight: bold\">0</span>, <span style=\"color: #008080; text-decoration-color: #008080; font-weight: bold\">0</span>, <span style=\"color: #808000; text-decoration-color: #808000\">...</span>, <span style=\"color: #008080; text-decoration-color: #008080; font-weight: bold\">0</span>, <span style=\"color: #008080; text-decoration-color: #008080; font-weight: bold\">0</span>, <span style=\"color: #008080; text-decoration-color: #008080; font-weight: bold\">0</span><span style=\"font-weight: bold\">]]</span>,\n",
       "\n",
       "       <span style=\"font-weight: bold\">[[</span><span style=\"color: #008080; text-decoration-color: #008080; font-weight: bold\">0</span>, <span style=\"color: #008080; text-decoration-color: #008080; font-weight: bold\">0</span>, <span style=\"color: #008080; text-decoration-color: #008080; font-weight: bold\">0</span>, <span style=\"color: #808000; text-decoration-color: #808000\">...</span>, <span style=\"color: #008080; text-decoration-color: #008080; font-weight: bold\">0</span>, <span style=\"color: #008080; text-decoration-color: #008080; font-weight: bold\">0</span>, <span style=\"color: #008080; text-decoration-color: #008080; font-weight: bold\">0</span><span style=\"font-weight: bold\">]</span>,\n",
       "        <span style=\"font-weight: bold\">[</span><span style=\"color: #008080; text-decoration-color: #008080; font-weight: bold\">0</span>, <span style=\"color: #008080; text-decoration-color: #008080; font-weight: bold\">0</span>, <span style=\"color: #008080; text-decoration-color: #008080; font-weight: bold\">0</span>, <span style=\"color: #808000; text-decoration-color: #808000\">...</span>, <span style=\"color: #008080; text-decoration-color: #008080; font-weight: bold\">0</span>, <span style=\"color: #008080; text-decoration-color: #008080; font-weight: bold\">0</span>, <span style=\"color: #008080; text-decoration-color: #008080; font-weight: bold\">0</span><span style=\"font-weight: bold\">]</span>,\n",
       "        <span style=\"font-weight: bold\">[</span><span style=\"color: #008080; text-decoration-color: #008080; font-weight: bold\">0</span>, <span style=\"color: #008080; text-decoration-color: #008080; font-weight: bold\">0</span>, <span style=\"color: #008080; text-decoration-color: #008080; font-weight: bold\">0</span>, <span style=\"color: #808000; text-decoration-color: #808000\">...</span>, <span style=\"color: #008080; text-decoration-color: #008080; font-weight: bold\">0</span>, <span style=\"color: #008080; text-decoration-color: #008080; font-weight: bold\">0</span>, <span style=\"color: #008080; text-decoration-color: #008080; font-weight: bold\">0</span><span style=\"font-weight: bold\">]</span>,\n",
       "        <span style=\"color: #808000; text-decoration-color: #808000\">...</span>,\n",
       "        <span style=\"font-weight: bold\">[</span><span style=\"color: #008080; text-decoration-color: #008080; font-weight: bold\">0</span>, <span style=\"color: #008080; text-decoration-color: #008080; font-weight: bold\">0</span>, <span style=\"color: #008080; text-decoration-color: #008080; font-weight: bold\">0</span>, <span style=\"color: #808000; text-decoration-color: #808000\">...</span>, <span style=\"color: #008080; text-decoration-color: #008080; font-weight: bold\">3</span>, <span style=\"color: #008080; text-decoration-color: #008080; font-weight: bold\">3</span>, <span style=\"color: #008080; text-decoration-color: #008080; font-weight: bold\">0</span><span style=\"font-weight: bold\">]</span>,\n",
       "        <span style=\"font-weight: bold\">[</span><span style=\"color: #008080; text-decoration-color: #008080; font-weight: bold\">0</span>, <span style=\"color: #008080; text-decoration-color: #008080; font-weight: bold\">0</span>, <span style=\"color: #008080; text-decoration-color: #008080; font-weight: bold\">0</span>, <span style=\"color: #808000; text-decoration-color: #808000\">...</span>, <span style=\"color: #008080; text-decoration-color: #008080; font-weight: bold\">3</span>, <span style=\"color: #008080; text-decoration-color: #008080; font-weight: bold\">3</span>, <span style=\"color: #008080; text-decoration-color: #008080; font-weight: bold\">0</span><span style=\"font-weight: bold\">]</span>,\n",
       "        <span style=\"font-weight: bold\">[</span><span style=\"color: #008080; text-decoration-color: #008080; font-weight: bold\">0</span>, <span style=\"color: #008080; text-decoration-color: #008080; font-weight: bold\">0</span>, <span style=\"color: #008080; text-decoration-color: #008080; font-weight: bold\">0</span>, <span style=\"color: #808000; text-decoration-color: #808000\">...</span>, <span style=\"color: #008080; text-decoration-color: #008080; font-weight: bold\">0</span>, <span style=\"color: #008080; text-decoration-color: #008080; font-weight: bold\">0</span>, <span style=\"color: #008080; text-decoration-color: #008080; font-weight: bold\">0</span><span style=\"font-weight: bold\">]]</span>,\n",
       "\n",
       "       <span style=\"font-weight: bold\">[[</span><span style=\"color: #008080; text-decoration-color: #008080; font-weight: bold\">0</span>, <span style=\"color: #008080; text-decoration-color: #008080; font-weight: bold\">0</span>, <span style=\"color: #008080; text-decoration-color: #008080; font-weight: bold\">0</span>, <span style=\"color: #808000; text-decoration-color: #808000\">...</span>, <span style=\"color: #008080; text-decoration-color: #008080; font-weight: bold\">0</span>, <span style=\"color: #008080; text-decoration-color: #008080; font-weight: bold\">0</span>, <span style=\"color: #008080; text-decoration-color: #008080; font-weight: bold\">0</span><span style=\"font-weight: bold\">]</span>,\n",
       "        <span style=\"font-weight: bold\">[</span><span style=\"color: #008080; text-decoration-color: #008080; font-weight: bold\">0</span>, <span style=\"color: #008080; text-decoration-color: #008080; font-weight: bold\">0</span>, <span style=\"color: #008080; text-decoration-color: #008080; font-weight: bold\">0</span>, <span style=\"color: #808000; text-decoration-color: #808000\">...</span>, <span style=\"color: #008080; text-decoration-color: #008080; font-weight: bold\">0</span>, <span style=\"color: #008080; text-decoration-color: #008080; font-weight: bold\">0</span>, <span style=\"color: #008080; text-decoration-color: #008080; font-weight: bold\">0</span><span style=\"font-weight: bold\">]</span>,\n",
       "        <span style=\"font-weight: bold\">[</span><span style=\"color: #008080; text-decoration-color: #008080; font-weight: bold\">0</span>, <span style=\"color: #008080; text-decoration-color: #008080; font-weight: bold\">0</span>, <span style=\"color: #008080; text-decoration-color: #008080; font-weight: bold\">0</span>, <span style=\"color: #808000; text-decoration-color: #808000\">...</span>, <span style=\"color: #008080; text-decoration-color: #008080; font-weight: bold\">0</span>, <span style=\"color: #008080; text-decoration-color: #008080; font-weight: bold\">0</span>, <span style=\"color: #008080; text-decoration-color: #008080; font-weight: bold\">0</span><span style=\"font-weight: bold\">]</span>,\n",
       "        <span style=\"color: #808000; text-decoration-color: #808000\">...</span>,\n",
       "        <span style=\"font-weight: bold\">[</span><span style=\"color: #008080; text-decoration-color: #008080; font-weight: bold\">0</span>, <span style=\"color: #008080; text-decoration-color: #008080; font-weight: bold\">0</span>, <span style=\"color: #008080; text-decoration-color: #008080; font-weight: bold\">0</span>, <span style=\"color: #808000; text-decoration-color: #808000\">...</span>, <span style=\"color: #008080; text-decoration-color: #008080; font-weight: bold\">0</span>, <span style=\"color: #008080; text-decoration-color: #008080; font-weight: bold\">0</span>, <span style=\"color: #008080; text-decoration-color: #008080; font-weight: bold\">0</span><span style=\"font-weight: bold\">]</span>,\n",
       "        <span style=\"font-weight: bold\">[</span><span style=\"color: #008080; text-decoration-color: #008080; font-weight: bold\">0</span>, <span style=\"color: #008080; text-decoration-color: #008080; font-weight: bold\">0</span>, <span style=\"color: #008080; text-decoration-color: #008080; font-weight: bold\">0</span>, <span style=\"color: #808000; text-decoration-color: #808000\">...</span>, <span style=\"color: #008080; text-decoration-color: #008080; font-weight: bold\">0</span>, <span style=\"color: #008080; text-decoration-color: #008080; font-weight: bold\">0</span>, <span style=\"color: #008080; text-decoration-color: #008080; font-weight: bold\">0</span><span style=\"font-weight: bold\">]</span>,\n",
       "        <span style=\"font-weight: bold\">[</span><span style=\"color: #008080; text-decoration-color: #008080; font-weight: bold\">0</span>, <span style=\"color: #008080; text-decoration-color: #008080; font-weight: bold\">0</span>, <span style=\"color: #008080; text-decoration-color: #008080; font-weight: bold\">0</span>, <span style=\"color: #808000; text-decoration-color: #808000\">...</span>, <span style=\"color: #008080; text-decoration-color: #008080; font-weight: bold\">0</span>, <span style=\"color: #008080; text-decoration-color: #008080; font-weight: bold\">0</span>, <span style=\"color: #008080; text-decoration-color: #008080; font-weight: bold\">0</span><span style=\"font-weight: bold\">]]]</span>, <span style=\"color: #808000; text-decoration-color: #808000\">dtype</span>=<span style=\"color: #800080; text-decoration-color: #800080\">uint8</span><span style=\"font-weight: bold\">)</span>\n",
       "</pre>\n"
      ],
      "text/plain": [
       "\u001b[1;35marray\u001b[0m\u001b[1m(\u001b[0m\u001b[1m[\u001b[0m\u001b[1m[\u001b[0m\u001b[1m[\u001b[0m\u001b[1;36m1\u001b[0m, \u001b[1;36m1\u001b[0m, \u001b[1;36m1\u001b[0m, \u001b[33m...\u001b[0m, \u001b[1;36m0\u001b[0m, \u001b[1;36m0\u001b[0m, \u001b[1;36m0\u001b[0m\u001b[1m]\u001b[0m,\n",
       "        \u001b[1m[\u001b[0m\u001b[1;36m1\u001b[0m, \u001b[1;36m1\u001b[0m, \u001b[1;36m1\u001b[0m, \u001b[33m...\u001b[0m, \u001b[1;36m0\u001b[0m, \u001b[1;36m0\u001b[0m, \u001b[1;36m0\u001b[0m\u001b[1m]\u001b[0m,\n",
       "        \u001b[1m[\u001b[0m\u001b[1;36m1\u001b[0m, \u001b[1;36m1\u001b[0m, \u001b[1;36m1\u001b[0m, \u001b[33m...\u001b[0m, \u001b[1;36m0\u001b[0m, \u001b[1;36m0\u001b[0m, \u001b[1;36m0\u001b[0m\u001b[1m]\u001b[0m,\n",
       "        \u001b[33m...\u001b[0m,\n",
       "        \u001b[1m[\u001b[0m\u001b[1;36m0\u001b[0m, \u001b[1;36m0\u001b[0m, \u001b[1;36m0\u001b[0m, \u001b[33m...\u001b[0m, \u001b[1;36m0\u001b[0m, \u001b[1;36m0\u001b[0m, \u001b[1;36m0\u001b[0m\u001b[1m]\u001b[0m,\n",
       "        \u001b[1m[\u001b[0m\u001b[1;36m0\u001b[0m, \u001b[1;36m0\u001b[0m, \u001b[1;36m0\u001b[0m, \u001b[33m...\u001b[0m, \u001b[1;36m0\u001b[0m, \u001b[1;36m0\u001b[0m, \u001b[1;36m0\u001b[0m\u001b[1m]\u001b[0m,\n",
       "        \u001b[1m[\u001b[0m\u001b[1;36m0\u001b[0m, \u001b[1;36m0\u001b[0m, \u001b[1;36m0\u001b[0m, \u001b[33m...\u001b[0m, \u001b[1;36m0\u001b[0m, \u001b[1;36m0\u001b[0m, \u001b[1;36m0\u001b[0m\u001b[1m]\u001b[0m\u001b[1m]\u001b[0m,\n",
       "\n",
       "       \u001b[1m[\u001b[0m\u001b[1m[\u001b[0m\u001b[1;36m1\u001b[0m, \u001b[1;36m1\u001b[0m, \u001b[1;36m1\u001b[0m, \u001b[33m...\u001b[0m, \u001b[1;36m0\u001b[0m, \u001b[1;36m0\u001b[0m, \u001b[1;36m0\u001b[0m\u001b[1m]\u001b[0m,\n",
       "        \u001b[1m[\u001b[0m\u001b[1;36m1\u001b[0m, \u001b[1;36m1\u001b[0m, \u001b[1;36m1\u001b[0m, \u001b[33m...\u001b[0m, \u001b[1;36m0\u001b[0m, \u001b[1;36m0\u001b[0m, \u001b[1;36m0\u001b[0m\u001b[1m]\u001b[0m,\n",
       "        \u001b[1m[\u001b[0m\u001b[1;36m1\u001b[0m, \u001b[1;36m1\u001b[0m, \u001b[1;36m1\u001b[0m, \u001b[33m...\u001b[0m, \u001b[1;36m0\u001b[0m, \u001b[1;36m0\u001b[0m, \u001b[1;36m0\u001b[0m\u001b[1m]\u001b[0m,\n",
       "        \u001b[33m...\u001b[0m,\n",
       "        \u001b[1m[\u001b[0m\u001b[1;36m0\u001b[0m, \u001b[1;36m0\u001b[0m, \u001b[1;36m0\u001b[0m, \u001b[33m...\u001b[0m, \u001b[1;36m0\u001b[0m, \u001b[1;36m0\u001b[0m, \u001b[1;36m0\u001b[0m\u001b[1m]\u001b[0m,\n",
       "        \u001b[1m[\u001b[0m\u001b[1;36m0\u001b[0m, \u001b[1;36m0\u001b[0m, \u001b[1;36m0\u001b[0m, \u001b[33m...\u001b[0m, \u001b[1;36m0\u001b[0m, \u001b[1;36m0\u001b[0m, \u001b[1;36m0\u001b[0m\u001b[1m]\u001b[0m,\n",
       "        \u001b[1m[\u001b[0m\u001b[1;36m0\u001b[0m, \u001b[1;36m0\u001b[0m, \u001b[1;36m0\u001b[0m, \u001b[33m...\u001b[0m, \u001b[1;36m0\u001b[0m, \u001b[1;36m0\u001b[0m, \u001b[1;36m0\u001b[0m\u001b[1m]\u001b[0m\u001b[1m]\u001b[0m,\n",
       "\n",
       "       \u001b[1m[\u001b[0m\u001b[1m[\u001b[0m\u001b[1;36m1\u001b[0m, \u001b[1;36m1\u001b[0m, \u001b[1;36m1\u001b[0m, \u001b[33m...\u001b[0m, \u001b[1;36m0\u001b[0m, \u001b[1;36m0\u001b[0m, \u001b[1;36m0\u001b[0m\u001b[1m]\u001b[0m,\n",
       "        \u001b[1m[\u001b[0m\u001b[1;36m1\u001b[0m, \u001b[1;36m1\u001b[0m, \u001b[1;36m1\u001b[0m, \u001b[33m...\u001b[0m, \u001b[1;36m0\u001b[0m, \u001b[1;36m0\u001b[0m, \u001b[1;36m0\u001b[0m\u001b[1m]\u001b[0m,\n",
       "        \u001b[1m[\u001b[0m\u001b[1;36m1\u001b[0m, \u001b[1;36m1\u001b[0m, \u001b[1;36m1\u001b[0m, \u001b[33m...\u001b[0m, \u001b[1;36m0\u001b[0m, \u001b[1;36m0\u001b[0m, \u001b[1;36m0\u001b[0m\u001b[1m]\u001b[0m,\n",
       "        \u001b[33m...\u001b[0m,\n",
       "        \u001b[1m[\u001b[0m\u001b[1;36m0\u001b[0m, \u001b[1;36m0\u001b[0m, \u001b[1;36m0\u001b[0m, \u001b[33m...\u001b[0m, \u001b[1;36m0\u001b[0m, \u001b[1;36m0\u001b[0m, \u001b[1;36m0\u001b[0m\u001b[1m]\u001b[0m,\n",
       "        \u001b[1m[\u001b[0m\u001b[1;36m0\u001b[0m, \u001b[1;36m0\u001b[0m, \u001b[1;36m0\u001b[0m, \u001b[33m...\u001b[0m, \u001b[1;36m0\u001b[0m, \u001b[1;36m0\u001b[0m, \u001b[1;36m0\u001b[0m\u001b[1m]\u001b[0m,\n",
       "        \u001b[1m[\u001b[0m\u001b[1;36m0\u001b[0m, \u001b[1;36m0\u001b[0m, \u001b[1;36m0\u001b[0m, \u001b[33m...\u001b[0m, \u001b[1;36m0\u001b[0m, \u001b[1;36m0\u001b[0m, \u001b[1;36m0\u001b[0m\u001b[1m]\u001b[0m\u001b[1m]\u001b[0m,\n",
       "\n",
       "       \u001b[33m...\u001b[0m,\n",
       "\n",
       "       \u001b[1m[\u001b[0m\u001b[1m[\u001b[0m\u001b[1;36m0\u001b[0m, \u001b[1;36m0\u001b[0m, \u001b[1;36m0\u001b[0m, \u001b[33m...\u001b[0m, \u001b[1;36m0\u001b[0m, \u001b[1;36m0\u001b[0m, \u001b[1;36m0\u001b[0m\u001b[1m]\u001b[0m,\n",
       "        \u001b[1m[\u001b[0m\u001b[1;36m0\u001b[0m, \u001b[1;36m0\u001b[0m, \u001b[1;36m0\u001b[0m, \u001b[33m...\u001b[0m, \u001b[1;36m0\u001b[0m, \u001b[1;36m0\u001b[0m, \u001b[1;36m0\u001b[0m\u001b[1m]\u001b[0m,\n",
       "        \u001b[1m[\u001b[0m\u001b[1;36m0\u001b[0m, \u001b[1;36m0\u001b[0m, \u001b[1;36m0\u001b[0m, \u001b[33m...\u001b[0m, \u001b[1;36m0\u001b[0m, \u001b[1;36m0\u001b[0m, \u001b[1;36m0\u001b[0m\u001b[1m]\u001b[0m,\n",
       "        \u001b[33m...\u001b[0m,\n",
       "        \u001b[1m[\u001b[0m\u001b[1;36m0\u001b[0m, \u001b[1;36m0\u001b[0m, \u001b[1;36m0\u001b[0m, \u001b[33m...\u001b[0m, \u001b[1;36m3\u001b[0m, \u001b[1;36m3\u001b[0m, \u001b[1;36m0\u001b[0m\u001b[1m]\u001b[0m,\n",
       "        \u001b[1m[\u001b[0m\u001b[1;36m0\u001b[0m, \u001b[1;36m0\u001b[0m, \u001b[1;36m0\u001b[0m, \u001b[33m...\u001b[0m, \u001b[1;36m3\u001b[0m, \u001b[1;36m3\u001b[0m, \u001b[1;36m0\u001b[0m\u001b[1m]\u001b[0m,\n",
       "        \u001b[1m[\u001b[0m\u001b[1;36m0\u001b[0m, \u001b[1;36m0\u001b[0m, \u001b[1;36m0\u001b[0m, \u001b[33m...\u001b[0m, \u001b[1;36m0\u001b[0m, \u001b[1;36m0\u001b[0m, \u001b[1;36m0\u001b[0m\u001b[1m]\u001b[0m\u001b[1m]\u001b[0m,\n",
       "\n",
       "       \u001b[1m[\u001b[0m\u001b[1m[\u001b[0m\u001b[1;36m0\u001b[0m, \u001b[1;36m0\u001b[0m, \u001b[1;36m0\u001b[0m, \u001b[33m...\u001b[0m, \u001b[1;36m0\u001b[0m, \u001b[1;36m0\u001b[0m, \u001b[1;36m0\u001b[0m\u001b[1m]\u001b[0m,\n",
       "        \u001b[1m[\u001b[0m\u001b[1;36m0\u001b[0m, \u001b[1;36m0\u001b[0m, \u001b[1;36m0\u001b[0m, \u001b[33m...\u001b[0m, \u001b[1;36m0\u001b[0m, \u001b[1;36m0\u001b[0m, \u001b[1;36m0\u001b[0m\u001b[1m]\u001b[0m,\n",
       "        \u001b[1m[\u001b[0m\u001b[1;36m0\u001b[0m, \u001b[1;36m0\u001b[0m, \u001b[1;36m0\u001b[0m, \u001b[33m...\u001b[0m, \u001b[1;36m0\u001b[0m, \u001b[1;36m0\u001b[0m, \u001b[1;36m0\u001b[0m\u001b[1m]\u001b[0m,\n",
       "        \u001b[33m...\u001b[0m,\n",
       "        \u001b[1m[\u001b[0m\u001b[1;36m0\u001b[0m, \u001b[1;36m0\u001b[0m, \u001b[1;36m0\u001b[0m, \u001b[33m...\u001b[0m, \u001b[1;36m3\u001b[0m, \u001b[1;36m3\u001b[0m, \u001b[1;36m0\u001b[0m\u001b[1m]\u001b[0m,\n",
       "        \u001b[1m[\u001b[0m\u001b[1;36m0\u001b[0m, \u001b[1;36m0\u001b[0m, \u001b[1;36m0\u001b[0m, \u001b[33m...\u001b[0m, \u001b[1;36m3\u001b[0m, \u001b[1;36m3\u001b[0m, \u001b[1;36m0\u001b[0m\u001b[1m]\u001b[0m,\n",
       "        \u001b[1m[\u001b[0m\u001b[1;36m0\u001b[0m, \u001b[1;36m0\u001b[0m, \u001b[1;36m0\u001b[0m, \u001b[33m...\u001b[0m, \u001b[1;36m0\u001b[0m, \u001b[1;36m0\u001b[0m, \u001b[1;36m0\u001b[0m\u001b[1m]\u001b[0m\u001b[1m]\u001b[0m,\n",
       "\n",
       "       \u001b[1m[\u001b[0m\u001b[1m[\u001b[0m\u001b[1;36m0\u001b[0m, \u001b[1;36m0\u001b[0m, \u001b[1;36m0\u001b[0m, \u001b[33m...\u001b[0m, \u001b[1;36m0\u001b[0m, \u001b[1;36m0\u001b[0m, \u001b[1;36m0\u001b[0m\u001b[1m]\u001b[0m,\n",
       "        \u001b[1m[\u001b[0m\u001b[1;36m0\u001b[0m, \u001b[1;36m0\u001b[0m, \u001b[1;36m0\u001b[0m, \u001b[33m...\u001b[0m, \u001b[1;36m0\u001b[0m, \u001b[1;36m0\u001b[0m, \u001b[1;36m0\u001b[0m\u001b[1m]\u001b[0m,\n",
       "        \u001b[1m[\u001b[0m\u001b[1;36m0\u001b[0m, \u001b[1;36m0\u001b[0m, \u001b[1;36m0\u001b[0m, \u001b[33m...\u001b[0m, \u001b[1;36m0\u001b[0m, \u001b[1;36m0\u001b[0m, \u001b[1;36m0\u001b[0m\u001b[1m]\u001b[0m,\n",
       "        \u001b[33m...\u001b[0m,\n",
       "        \u001b[1m[\u001b[0m\u001b[1;36m0\u001b[0m, \u001b[1;36m0\u001b[0m, \u001b[1;36m0\u001b[0m, \u001b[33m...\u001b[0m, \u001b[1;36m0\u001b[0m, \u001b[1;36m0\u001b[0m, \u001b[1;36m0\u001b[0m\u001b[1m]\u001b[0m,\n",
       "        \u001b[1m[\u001b[0m\u001b[1;36m0\u001b[0m, \u001b[1;36m0\u001b[0m, \u001b[1;36m0\u001b[0m, \u001b[33m...\u001b[0m, \u001b[1;36m0\u001b[0m, \u001b[1;36m0\u001b[0m, \u001b[1;36m0\u001b[0m\u001b[1m]\u001b[0m,\n",
       "        \u001b[1m[\u001b[0m\u001b[1;36m0\u001b[0m, \u001b[1;36m0\u001b[0m, \u001b[1;36m0\u001b[0m, \u001b[33m...\u001b[0m, \u001b[1;36m0\u001b[0m, \u001b[1;36m0\u001b[0m, \u001b[1;36m0\u001b[0m\u001b[1m]\u001b[0m\u001b[1m]\u001b[0m\u001b[1m]\u001b[0m, \u001b[33mdtype\u001b[0m=\u001b[35muint8\u001b[0m\u001b[1m)\u001b[0m\n"
      ]
     },
     "metadata": {},
     "output_type": "display_data"
    }
   ],
   "source": [
    "data_matrix"
   ]
  }
 ],
 "metadata": {
  "kernelspec": {
   "display_name": "Python 3",
   "language": "python",
   "name": "python3"
  },
  "language_info": {
   "codemirror_mode": {
    "name": "ipython",
    "version": 3
   },
   "file_extension": ".py",
   "mimetype": "text/x-python",
   "name": "python",
   "nbconvert_exporter": "python",
   "pygments_lexer": "ipython3",
   "version": "3.8.10"
  }
 },
 "nbformat": 4,
 "nbformat_minor": 5
}
