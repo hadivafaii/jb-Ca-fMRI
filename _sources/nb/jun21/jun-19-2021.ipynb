{
 "cells": [
  {
   "cell_type": "markdown",
   "id": "ed7838b9",
   "metadata": {},
   "source": [
    "# June, 19th, 2021\n",
    "\n",
    "**Motivation**: Clean up code even more, and write new modules to compactify stuff.  Embedded you will find:\n",
    "\n",
    "- **ROI** definition on cortex\n",
    "- n=4 and n=14 **hierarchical clusters**\n",
    "- Some streamlines from tract tracing data for **RSP**, **ORB**, and **SS**\n",
    "\n",
    "</br>"
   ]
  },
  {
   "cell_type": "code",
   "execution_count": 1,
   "id": "ac559846",
   "metadata": {
    "tags": [
     "hide-input"
    ]
   },
   "outputs": [],
   "source": [
    "# HIDE CODE\n",
    "\n",
    "\n",
    "import os\n",
    "import sys\n",
    "import ants\n",
    "import nrrd\n",
    "import collections\n",
    "import numpy as np\n",
    "import pandas as pd\n",
    "import nibabel as nib\n",
    "import networkx as nx\n",
    "import operator as op\n",
    "from rich import print\n",
    "from pathlib import Path\n",
    "from pprint import pprint\n",
    "from tqdm.notebook import tqdm\n",
    "from copy import deepcopy as dc\n",
    "from os.path import join as pjoin\n",
    "from myterial import orange, blue_grey\n",
    "from IPython.display import IFrame, display\n",
    "from matplotlib.colors import rgb2hex, to_rgb\n",
    "import matplotlib.pyplot as plt\n",
    "import seaborn as sns\n",
    "\n",
    "# set style & no interpolalation\n",
    "import matplotlib\n",
    "matplotlib.rcParams['image.interpolation'] = 'none'\n",
    "sns.set_style('whitegrid')\n",
    "\n",
    "# tmp & extras dir\n",
    "git_dir = pjoin(os.environ['HOME'], 'Dropbox/git')\n",
    "tmp_dir = pjoin(git_dir, 'jb-Ca-fMRI/tmp')\n",
    "extras_dir = pjoin(git_dir, 'jb-Ca-fMRI/_extras')\n",
    "\n",
    "# GitHub\n",
    "sys.path.insert(0, pjoin(git_dir, 'Ca-fMRI'))\n",
    "from analysis.network import *\n",
    "from utils.plotting import *\n",
    "from utils.render import *\n",
    "from model.mouse import Mice\n",
    "\n",
    "# Allen\n",
    "allen_ws = pjoin(os.environ['HOME'], 'Documents/workspaces/allen')\n",
    "allen_path = pjoin(allen_ws, 'MouseConnectivity')\n",
    "os.makedirs(allen_path, exist_ok=True)\n",
    "from allensdk.core.mouse_connectivity_cache import MouseConnectivityCache\n",
    "from allensdk.api.queries.ontologies_api import OntologiesApi\n",
    "\n",
    "# warnings\n",
    "import warnings\n",
    "warnings.filterwarnings('ignore', category=DeprecationWarning)"
   ]
  },
  {
   "cell_type": "code",
   "execution_count": 2,
   "id": "563bd4ae",
   "metadata": {
    "tags": [
     "hide-input"
    ]
   },
   "outputs": [],
   "source": [
    "# HIDE CODE\n",
    "\n",
    "\n",
    "def trim_axs(axes, n):\n",
    "    axs = axes.flat\n",
    "    for ax in axs[n:]:\n",
    "        ax.remove()\n",
    "    return axs[:n]\n",
    "\n",
    "\n",
    "def reset_ants_img(img: Union[np.ndarray, ants.ANTsImage], dtype=float, origin=0.0, spacing=1.0):\n",
    "    ndims = len(img.shape)\n",
    "    if isinstance(img, ants.ANTsImage):\n",
    "        img = img.numpy()\n",
    "    return ants.from_numpy(img.astype(dtype), origin=[origin]*ndims, spacing=[spacing]*ndims)\n",
    "\n",
    "\n",
    "def add_children(graph: nx.DiGraph(), src_id: int, level: int, structure_tree):\n",
    "    src = structure_tree.get_structures_by_id([src_id])[0]\n",
    "    children = structure_tree.children([src_id])[0]\n",
    "    for child in children:\n",
    "        src_name = '\\n'.join(src['name'].split(' '))\n",
    "        tgt_name = '\\n'.join(child['name'].split(' '))\n",
    "        graph.add_node(tgt_name, lvl=level)\n",
    "        graph.add_edge(src_name, tgt_name)\n",
    "    return graph, children\n",
    "\n",
    "\n",
    "def make_tree_graph(root: str, mcc: MouseConnectivityCache, n_levels: int = 3):\n",
    "    structure_tree = mcc.get_structure_tree()\n",
    "    structure = structure_tree.get_structures_by_name([root])[0]\n",
    "    \n",
    "    g = nx.DiGraph()\n",
    "    g.add_node('\\n'.join(structure['name'].split(' ')), lvl=0)\n",
    "\n",
    "    dend = {}\n",
    "    for lvl in range(n_levels):\n",
    "        if lvl == 0:\n",
    "            src_ids = [structure['id']]\n",
    "        else:\n",
    "            new_leaves = []\n",
    "            for i in src_ids:\n",
    "                g, children = add_children(\n",
    "                    graph=g,\n",
    "                    src_id=i,\n",
    "                    level=lvl,\n",
    "                    structure_tree=structure_tree,\n",
    "                )\n",
    "                for child in children:\n",
    "                    new_leaves.append(child['id'])\n",
    "            src_ids = new_leaves\n",
    "        dend[lvl] = src_ids\n",
    " \n",
    "    return g, dend\n",
    "\n",
    "\n",
    "def reorient_arr(x: np.ndarray, tr_axes: Tuple = (2, 1, 0)):\n",
    "    if len(x.shape) == 4:\n",
    "        tr_axes += (3,)\n",
    "    return np.transpose(x, tr_axes)[::-1]\n",
    "\n",
    "\n",
    "def mask_left_right(mask: np.ndarray, left_right_axis: int = 2):\n",
    "    npix = mask.shape[left_right_axis]\n",
    "    coverage = int(np.ceil(npix/2))\n",
    "    slices_l = tuple(\n",
    "        slice(0, coverage) if i == left_right_axis else slice(mask.shape[i])\n",
    "        for i in range(len(mask.shape))\n",
    "    )\n",
    "    slices_r = tuple(\n",
    "        slice(npix-coverage, npix) if i == left_right_axis else slice(mask.shape[i])\n",
    "        for i in range(len(mask.shape))\n",
    "    )\n",
    "    mask_l = mask.copy().astype(bool)\n",
    "    mask_r = mask.copy().astype(bool)\n",
    "    mask_l[slices_r] = 0\n",
    "    mask_r[slices_l] = 0\n",
    "    \n",
    "    return mask_l.astype(bool), mask_r.astype(bool)\n",
    "\n",
    "\n",
    "from time import time\n",
    "from sklearn.cluster import KMeans\n",
    "import sklearnex\n",
    "\n",
    "\n",
    "def kmeans_parcellation(\n",
    "    mask: np.ndarray,\n",
    "    num_regions: int = 256,\n",
    "    symmetrize: bool = False,\n",
    "    left_right_axis: int = 2,\n",
    "    random_state: int = 42, ):\n",
    "    \n",
    "    sklearnex.patch_sklearn()\n",
    "    mask_l, mask_r = mask_left_right(mask, left_right_axis)\n",
    "    \n",
    "    if symmetrize:\n",
    "        mask_r_full = mask_r.copy()\n",
    "        mask_l_full = mask_l.copy()\n",
    "        mask_r_full[slices_l] = np.flip(mask_r[slices_r], axis=left_right_axis)\n",
    "        mask_l_full[slices_r] = np.flip(mask_l[slices_l], axis=left_right_axis)\n",
    "        mask_sym = np.logical_and(mask_r_full, mask_l_full)\n",
    "        \n",
    "        mask_l = mask_sym.copy().astype(bool)\n",
    "        mask_r = mask_sym.copy().astype(bool)\n",
    "        mask_l[slices_r] = 0\n",
    "        mask_r[slices_l] = 0\n",
    "        \n",
    "        # do left\n",
    "        atlas_kmeans, cluster_centers = _do_kmeans(mask_l, num_regions, random_state)\n",
    "        \n",
    "        # mirror symmetry clusters to right hemisphere\n",
    "        for region_id in np.unique(atlas_kmeans[atlas_kmeans > 0]):\n",
    "            \n",
    "            region_id_r = region_id + num_regions\n",
    "            flipped = np.flip(atlas_kmeans[slices_l], axis=left_right_axis)\n",
    "            atlas_kmeans[slices_r][flipped == region_id] = region_id_r\n",
    "            \n",
    "            # get center for right cluster\n",
    "            _ctr = cluster_centers[region_id].copy()\n",
    "            delta = npix/2 - _ctr[left_right_axis]\n",
    "            _ctr[left_right_axis] += 2*delta - 1\n",
    "            cluster_centers[region_id_r] = _ctr\n",
    "\n",
    "    else:\n",
    "        atlas_kmeans_l, cluster_centers_l = _do_kmeans(mask_l, num_regions, random_state)\n",
    "        atlas_kmeans_r, cluster_centers_r = _do_kmeans(mask_r, num_regions, random_state)\n",
    "        \n",
    "        atlas_kmeans_r += num_regions \n",
    "        cluster_centers_r = {i+num_regions: ctr for i, ctr in cluster_centers_r.items()}\n",
    "        \n",
    "        atlas_kmeans = atlas_kmeans_l.copy()\n",
    "        atlas_kmeans[mask_r] = atlas_kmeans_r[mask_r]\n",
    "        cluster_centers = {**cluster_centers_l, **cluster_centers_r}\n",
    "\n",
    "    sklearnex.unpatch_sklearn()\n",
    "    output = {\n",
    "        'atlas_kmeans': atlas_kmeans.astype(int),\n",
    "        'cluster_centers': cluster_centers,\n",
    "        'mask_l': mask_l.astype(bool),\n",
    "        'mask_r': mask_r.astype(bool),\n",
    "    }\n",
    "    return output\n",
    "\n",
    "\n",
    "def _do_kmeans(x, num_regions, random_state):\n",
    "    nonzero_voxels = list(zip(*np.where(x.astype(bool))))\n",
    "    nonzero_voxels = np.reshape(nonzero_voxels, (-1, len(x.shape)))\n",
    "    nonzero_voxels = nonzero_voxels.astype(int)\n",
    "\n",
    "    kmeans = KMeans(\n",
    "        n_clusters=num_regions,\n",
    "        random_state=random_state,\n",
    "    ).fit(nonzero_voxels.astype(float))\n",
    "    roi = kmeans.predict(nonzero_voxels.astype(float))\n",
    "\n",
    "    roi_unique = []\n",
    "    for lbl in roi:\n",
    "        if lbl not in roi_unique:\n",
    "            roi_unique.append(lbl)\n",
    "    mapping = {lbl: i+1 for i, lbl in enumerate(roi_unique)}\n",
    "\n",
    "    roi_relabeld = np.zeros_like(roi)\n",
    "    for lbl in roi_unique:\n",
    "        roi_relabeld[roi == lbl] = mapping[lbl]\n",
    "\n",
    "    atlas_kmeans_dict = defaultdict(list)\n",
    "    for voxel, lbl in zip(nonzero_voxels, roi_relabeld):\n",
    "        atlas_kmeans_dict[lbl].append(tuple(voxel))\n",
    "    atlas_kmeans_dict = dict(atlas_kmeans_dict)\n",
    "\n",
    "    atlas_kmeans = np.zeros(x.shape, dtype=int)\n",
    "    for region_id, voxel_list in atlas_kmeans_dict.items():\n",
    "        atlas_kmeans[tuple(zip(*voxel_list))] = region_id\n",
    "\n",
    "    cluster_centers = {mapping[lbl]: kmeans.cluster_centers_[lbl] for lbl in roi_unique}\n",
    "    \n",
    "    return atlas_kmeans, cluster_centers\n",
    "\n",
    "\n",
    "def translate_labels(labels: List[str], mcc: MouseConnectivityCache, forward: bool = True):\n",
    "    labels = list(labels) if not isinstance(labels, (list, tuple, dict)) else labels\n",
    "    structure_tree = mcc.get_structure_tree()\n",
    "\n",
    "    left_right = []\n",
    "    aux_ids = []\n",
    "    \n",
    "    if forward:\n",
    "        structure_ids = []\n",
    "        for label in labels:\n",
    "            try:\n",
    "                lr, structure_id, aux_id = tuple(map(lambda x: int(x), label.split('-')))\n",
    "            except ValueError:\n",
    "                lr, structure_id = tuple(map(lambda x: int(x), label.split('-')))\n",
    "                aux_id = None\n",
    "            left_right.append('L' if lr == 0 else 'R')\n",
    "            structure_ids.append(structure_id)\n",
    "            aux_ids.append(aux_id)\n",
    "\n",
    "        structures = structure_tree.get_structures_by_id(structure_ids)\n",
    "        translated = [\n",
    "            '{:s}-{:s}'.format(lr, struct['name']) if aux_id is None else\n",
    "            '{:s}-{:s}-{:d}'.format(lr, struct['name'], aux_id)\n",
    "            for lr, struct, aux_id in zip(left_right, structures, aux_ids)\n",
    "        ]  \n",
    "    else:\n",
    "        structure_names = []\n",
    "        for label in labels:\n",
    "            try:\n",
    "                lr, structure_name, aux_id = label.split('-')\n",
    "                aux_id = int(aux_id)\n",
    "            except ValueError:\n",
    "                lr, structure_name = label.split('-')\n",
    "                aux_id = None\n",
    "            left_right.append(0 if lr == 'L' else 1)\n",
    "            structure_names.append(structure_name)\n",
    "            aux_ids.append(aux_id)\n",
    "                \n",
    "        structures = structure_tree.get_structures_by_name(structure_names)\n",
    "        translated = [\n",
    "            '{:d}-{:d}'.format(lr, struct['id']) if aux_id is None else\n",
    "            '{:d}-{:d}-{:d}'.format(lr, struct['id'], aux_id)\n",
    "            for lr, struct, aux_id in zip(left_right, structures, aux_ids)\n",
    "        ]\n",
    "    return translated\n",
    "\n",
    "\n",
    "def load_allen(ws_dir: str, mode: str = 'MouseConnectivity', resolution: int = 100):\n",
    "    manifest_file = pjoin(ws_dir, mode, 'manifest.json')\n",
    "    mcc = MouseConnectivityCache(resolution=resolution, manifest_file=manifest_file)\n",
    "    structure_tree = mcc.get_structure_tree()\n",
    "    \n",
    "    root = structure_tree.get_structures_by_name(['root'])[0]\n",
    "    cerebrum = structure_tree.get_structures_by_name(['Cerebrum'])[0]\n",
    "    isocortex = structure_tree.get_structures_by_name(['Isocortex'])[0]\n",
    "\n",
    "    template, template_info = mcc.get_template_volume()\n",
    "    annot, annot_info = mcc.get_annotation_volume()\n",
    "\n",
    "    root_mask, root_mask_info = mcc.get_structure_mask(root['id'])\n",
    "    cerebrum_mask, cerebrum_mask_info = mcc.get_structure_mask(cerebrum['id'])\n",
    "    isocortex_mask, isocortex_mask_info = mcc.get_structure_mask(isocortex['id'])\n",
    "    \n",
    "    output = {\n",
    "        'manifest_file': manifest_file,\n",
    "        'mcc': mcc,\n",
    "        'structure_tree': structure_tree,\n",
    "        \n",
    "        'root': root,\n",
    "        'cerebrum': cerebrum,\n",
    "        'isocortex': isocortex,\n",
    "        \n",
    "        'template': template,\n",
    "        'template_info': template_info,\n",
    "        \n",
    "        'annot': annot,\n",
    "        'annot_info': annot_info,\n",
    "        \n",
    "        'root_mask': root_mask,\n",
    "        'root_mask_info': root_mask_info,\n",
    "        \n",
    "        'cerebrum_mask': cerebrum_mask,\n",
    "        'cerebrum_mask_info': cerebrum_mask_info,\n",
    "        \n",
    "        'isocortex_mask': isocortex_mask,\n",
    "        'isocortex_mask_info': isocortex_mask_info,\n",
    "    }\n",
    "    return output\n",
    "\n",
    "\n",
    "def plot_parcellation(\n",
    "    parcellation: np.ndarray,\n",
    "    mask_l: np.ndarray,\n",
    "    mask_r: np.ndarray,\n",
    "    root_mask: np.ndarray,\n",
    "    figsize=(6, 4),\n",
    "    cmap='turbo', ):\n",
    "\n",
    "    sns.set_style('whitegrid')\n",
    "    fig, axes = plt.subplots(2, 3, figsize=figsize)\n",
    "    for i in range(2):\n",
    "        for j in range(3):\n",
    "            x = parcellation.copy()\n",
    "\n",
    "            if i == 0:\n",
    "                x[mask_r] = 0\n",
    "                label = 'left\\n'\n",
    "            else:\n",
    "                x[mask_l] = 0\n",
    "                # x[x != 0] -= int(np.max(parcellation) // 2)\n",
    "                label = 'right\\n'\n",
    "\n",
    "            if j == 0:\n",
    "                title = 'coronal'\n",
    "            elif j == 1:\n",
    "                title = 'axial'\n",
    "            else:\n",
    "                title = 'saggital'\n",
    "\n",
    "            data2plt = np.ma.masked_where(~root_mask.astype(bool), x)\n",
    "            axes[i, j].imshow(data2plt.mean(j), cmap=cmap)\n",
    "\n",
    "            list(map(lambda x: x.set_visible(False), axes[i, j].spines.values()))\n",
    "            axes[i, j].set_xticks([])\n",
    "            axes[i, j].set_yticks([])\n",
    "\n",
    "            if i == 0:\n",
    "                axes[i, j].set_title(title, fontsize=17, y=1.2)\n",
    "            else:\n",
    "                axes[i, j].set_title('')\n",
    "            if j == 0:\n",
    "                axes[i, j].set_ylabel(label, fontsize=17)\n",
    "\n",
    "    fig.tight_layout()\n",
    "    plt.show()\n",
    "    \n",
    "    return fig, axes\n",
    "\n",
    "\n",
    "def plot_registration(\n",
    "    fixed: np.ndarray,\n",
    "    moving: np.ndarray,\n",
    "    warped: np.ndarray,\n",
    "    figsize=(6, 8), ):\n",
    "    \n",
    "    sns.set_style('white')\n",
    "    fig, axes = plt.subplots(3, 3, figsize=figsize)\n",
    "\n",
    "    for i in range(3):\n",
    "        for j in range(3):       \n",
    "            if i == 0:\n",
    "                x = fixed.numpy()\n",
    "                label = 'fixed'\n",
    "            elif i == 1:\n",
    "                x = moving.numpy()\n",
    "                label = 'moving'\n",
    "            else:\n",
    "                x = warped.numpy()\n",
    "                label = 'warped'\n",
    "\n",
    "            if i == 0:\n",
    "                if j == 0:\n",
    "                    top_title = 'axis = {:d}\\n(coronal)'.format(j)\n",
    "                elif j == 1:\n",
    "                    top_title = 'axis = {:d}\\n(axial)'.format(j)\n",
    "                else:\n",
    "                    top_title = 'axis = {:d}\\n(saggital)'.format(j)\n",
    "                axes[i, j].set_title(top_title, y=1.1, fontsize=13)\n",
    "\n",
    "            if j == 0:\n",
    "                axes[i, j].set_ylabel(label + '\\n', fontsize=13)\n",
    "\n",
    "            data2plt = x.mean(j)\n",
    "            axes[i, j].imshow(data2plt)\n",
    "\n",
    "            _ = list(map(lambda x: x.set_visible(False), axes[i, j].spines.values()))\n",
    "            axes[i, j].set_xticks([])\n",
    "            axes[i, j].set_yticks([])\n",
    "\n",
    "    msg = 'Plotting averaged data across different dimensions\\n\\n'\n",
    "    msg += '1st row (fixed):  Average template,    shape = {}\\n'.format(fixed.shape)\n",
    "    msg += '2nd row (moving):  Anatomical data,    shape = {}\\n'.format(moving.shape)\n",
    "    msg += '3rd row (warped):  Anatomical data,    shape = {}'.format(warped.shape)\n",
    "    plt.suptitle(msg, fontsize=14, y=1.02)\n",
    "    plt.tight_layout()\n",
    "    plt.show()\n",
    "    \n",
    "    return fig, axes"
   ]
  },
  {
   "cell_type": "markdown",
   "id": "dda33034",
   "metadata": {},
   "source": [
    "## Allen & Atlas"
   ]
  },
  {
   "cell_type": "code",
   "execution_count": 3,
   "id": "17bc8cb9",
   "metadata": {},
   "outputs": [
    {
     "name": "stdout",
     "output_type": "stream",
     "text": [
      "allen mouse atlas (res. 100um)\n",
      "From: http://www.brain-map.org (Wang et al 2020, https://doi.org/10.1016/j.cell.2020.04.007 )\n"
     ]
    },
    {
     "data": {
      "text/html": [
       "<pre style=\"white-space:pre;overflow-x:auto;line-height:normal;font-family:Menlo,'DejaVu Sans Mono',consolas,'Courier New',monospace\"><span style=\"font-weight: bold\">&lt;</span><span style=\"color: #ff00ff; text-decoration-color: #ff00ff; font-weight: bold\">BGSpace</span><span style=\"color: #000000; text-decoration-color: #000000\"> AnatomicalSpace object</span><span style=\"font-weight: bold\">&gt;</span>\n",
       "origin: <span style=\"font-weight: bold\">(</span><span style=\"color: #008000; text-decoration-color: #008000\">'Anterior'</span>, <span style=\"color: #008000; text-decoration-color: #008000\">'Superior'</span>, <span style=\"color: #008000; text-decoration-color: #008000\">'Left'</span><span style=\"font-weight: bold\">)</span>\n",
       "sections: <span style=\"font-weight: bold\">(</span><span style=\"color: #008000; text-decoration-color: #008000\">'Frontal plane'</span>, <span style=\"color: #008000; text-decoration-color: #008000\">'Horizontal plane'</span>, <span style=\"color: #008000; text-decoration-color: #008000\">'Sagittal plane'</span><span style=\"font-weight: bold\">)</span>\n",
       "shape: <span style=\"font-weight: bold\">(</span><span style=\"color: #008080; text-decoration-color: #008080; font-weight: bold\">132</span>, <span style=\"color: #008080; text-decoration-color: #008080; font-weight: bold\">80</span>, <span style=\"color: #008080; text-decoration-color: #008080; font-weight: bold\">114</span><span style=\"font-weight: bold\">)</span>\n",
       "\n",
       "</pre>\n"
      ],
      "text/plain": [
       "\u001b[1m<\u001b[0m\u001b[1;95mBGSpace\u001b[0m\u001b[39m AnatomicalSpace object\u001b[0m\u001b[1m>\u001b[0m\n",
       "origin: \u001b[1m(\u001b[0m\u001b[32m'Anterior'\u001b[0m, \u001b[32m'Superior'\u001b[0m, \u001b[32m'Left'\u001b[0m\u001b[1m)\u001b[0m\n",
       "sections: \u001b[1m(\u001b[0m\u001b[32m'Frontal plane'\u001b[0m, \u001b[32m'Horizontal plane'\u001b[0m, \u001b[32m'Sagittal plane'\u001b[0m\u001b[1m)\u001b[0m\n",
       "shape: \u001b[1m(\u001b[0m\u001b[1;36m132\u001b[0m, \u001b[1;36m80\u001b[0m, \u001b[1;36m114\u001b[0m\u001b[1m)\u001b[0m\n",
       "\n"
      ]
     },
     "metadata": {},
     "output_type": "display_data"
    }
   ],
   "source": [
    "mice = Mice()\n",
    "allen = load_allen(allen_ws)\n",
    "atlas = get_correct_atlas()\n",
    "atlas.space"
   ]
  },
  {
   "cell_type": "markdown",
   "id": "c7a5dd6d",
   "metadata": {},
   "source": [
    "## Compute ROIs"
   ]
  },
  {
   "cell_type": "code",
   "execution_count": 4,
   "id": "b0418aed",
   "metadata": {},
   "outputs": [
    {
     "name": "stderr",
     "output_type": "stream",
     "text": [
      "Intel(R) oneAPI Data Analytics Library solvers for sklearn enabled: https://intelpython.github.io/daal4py/sklearn.html\n"
     ]
    }
   ],
   "source": [
    "num_regions = 64\n",
    "\n",
    "parcellation = kmeans_parcellation(\n",
    "    mask=allen['isocortex_mask'],\n",
    "    num_regions=num_regions,\n",
    "    symmetrize=False,\n",
    "    left_right_axis=2,\n",
    ")"
   ]
  },
  {
   "cell_type": "code",
   "execution_count": 5,
   "id": "4e9a9c0f",
   "metadata": {},
   "outputs": [
    {
     "data": {
      "image/png": "[encoded data removed]"
     },
     "metadata": {},
     "output_type": "display_data"
    }
   ],
   "source": [
    "atlas_kmeans_eroded = np.zeros_like(parcellation['atlas_kmeans'])\n",
    "\n",
    "radius = 5\n",
    "for region_id, ctr in parcellation['cluster_centers'].items():\n",
    "    for voxel in list(zip(*np.where(parcellation['atlas_kmeans'] == region_id))):\n",
    "        dist = np.linalg.norm(ctr - voxel)\n",
    "        if dist < radius:\n",
    "            atlas_kmeans_eroded[voxel] = region_id\n",
    "\n",
    "# report\n",
    "x = atlas_kmeans_eroded.copy().astype(float)\n",
    "num_region_voxels = {}\n",
    "for region_id in np.unique(x[x > 0]):\n",
    "    num_region_voxels[region_id] = (x == region_id).sum()\n",
    "\n",
    "sns.set_style('whitegrid')\n",
    "sns.histplot(num_region_voxels.values(), kde=True)\n",
    "plt.show()"
   ]
  },
  {
   "cell_type": "code",
   "execution_count": null,
   "id": "2b496743",
   "metadata": {},
   "outputs": [],
   "source": []
  },
  {
   "cell_type": "code",
   "execution_count": 6,
   "id": "88f07480",
   "metadata": {},
   "outputs": [
    {
     "data": {
      "text/html": [
       "<pre style=\"white-space:pre;overflow-x:auto;line-height:normal;font-family:Menlo,'DejaVu Sans Mono',consolas,'Courier New',monospace\">id: <span style=\"color: #008080; text-decoration-color: #008080; font-weight: bold\">477</span>,        name: Striatum\n",
       "</pre>\n"
      ],
      "text/plain": [
       "id: \u001b[1;36m477\u001b[0m,        name: Striatum\n"
      ]
     },
     "metadata": {},
     "output_type": "display_data"
    },
    {
     "data": {
      "text/html": [
       "<pre style=\"white-space:pre;overflow-x:auto;line-height:normal;font-family:Menlo,'DejaVu Sans Mono',consolas,'Courier New',monospace\">id: <span style=\"color: #008080; text-decoration-color: #008080; font-weight: bold\">803</span>,        name: Pallidum\n",
       "</pre>\n"
      ],
      "text/plain": [
       "id: \u001b[1;36m803\u001b[0m,        name: Pallidum\n"
      ]
     },
     "metadata": {},
     "output_type": "display_data"
    },
    {
     "data": {
      "text/html": [
       "<pre style=\"white-space:pre;overflow-x:auto;line-height:normal;font-family:Menlo,'DejaVu Sans Mono',consolas,'Courier New',monospace\">id: <span style=\"color: #008080; text-decoration-color: #008080; font-weight: bold\">698</span>,        name: Olfactory areas\n",
       "</pre>\n"
      ],
      "text/plain": [
       "id: \u001b[1;36m698\u001b[0m,        name: Olfactory areas\n"
      ]
     },
     "metadata": {},
     "output_type": "display_data"
    },
    {
     "data": {
      "text/html": [
       "<pre style=\"white-space:pre;overflow-x:auto;line-height:normal;font-family:Menlo,'DejaVu Sans Mono',consolas,'Courier New',monospace\">id: <span style=\"color: #008080; text-decoration-color: #008080; font-weight: bold\">703</span>,        name: Cortical subplate\n",
       "</pre>\n"
      ],
      "text/plain": [
       "id: \u001b[1;36m703\u001b[0m,        name: Cortical subplate\n"
      ]
     },
     "metadata": {},
     "output_type": "display_data"
    },
    {
     "data": {
      "text/html": [
       "<pre style=\"white-space:pre;overflow-x:auto;line-height:normal;font-family:Menlo,'DejaVu Sans Mono',consolas,'Courier New',monospace\">id: <span style=\"color: #008080; text-decoration-color: #008080; font-weight: bold\">1089</span>,       name: Hippocampal formation\n",
       "</pre>\n"
      ],
      "text/plain": [
       "id: \u001b[1;36m1089\u001b[0m,       name: Hippocampal formation\n"
      ]
     },
     "metadata": {},
     "output_type": "display_data"
    },
    {
     "data": {
      "text/html": [
       "<pre style=\"white-space:pre;overflow-x:auto;line-height:normal;font-family:Menlo,'DejaVu Sans Mono',consolas,'Courier New',monospace\">id: <span style=\"color: #008080; text-decoration-color: #008080; font-weight: bold\">315</span>,        name: Isocortex\n",
       "</pre>\n"
      ],
      "text/plain": [
       "id: \u001b[1;36m315\u001b[0m,        name: Isocortex\n"
      ]
     },
     "metadata": {},
     "output_type": "display_data"
    }
   ],
   "source": [
    "selected_names = [\n",
    "    'Striatum',\n",
    "    'Pallidum',\n",
    "    'Olfactory areas',\n",
    "    'Cortical subplate',\n",
    "    'Hippocampal formation',\n",
    "    'Isocortex',\n",
    "]\n",
    "\n",
    "root_mask_l, root_mask_r = mask_left_right(allen['root_mask'])\n",
    "selected_structures = allen['structure_tree'].get_structures_by_name(selected_names)\n",
    "\n",
    "roi_masks = {}\n",
    "for structure_dict in selected_structures:\n",
    "    print('id: {:d},\\tname: {:s}'.format(structure_dict['id'], structure_dict['name']))\n",
    "    if structure_dict['name'] == 'Isocortex':\n",
    "        for region_id_l in range(1, num_regions+1):\n",
    "            region_id_r = region_id_l + num_regions\n",
    "            _mask_l = atlas_kmeans_eroded == region_id_l\n",
    "            _mask_r = atlas_kmeans_eroded == region_id_r\n",
    "            roi_masks['0-{:d}-{:d}'.format(structure_dict['id'], region_id_l)] = _mask_l.astype(bool)\n",
    "            roi_masks['1-{:d}-{:d}'.format(structure_dict['id'], region_id_r)] = _mask_r.astype(bool)\n",
    "    else:\n",
    "        _mask = allen['mcc'].get_structure_mask(structure_dict['id'])[0]\n",
    "        _mask_l = np.logical_and(_mask, root_mask_l)\n",
    "        _mask_r = np.logical_and(_mask, root_mask_r)\n",
    "        roi_masks['0-{:d}'.format(structure_dict['id'])] = _mask_l.astype(bool)\n",
    "        roi_masks['1-{:d}'.format(structure_dict['id'])] = _mask_r.astype(bool)"
   ]
  },
  {
   "cell_type": "code",
   "execution_count": null,
   "id": "b5f62ac3",
   "metadata": {},
   "outputs": [],
   "source": []
  },
  {
   "cell_type": "code",
   "execution_count": 7,
   "id": "1ffb1f47",
   "metadata": {},
   "outputs": [
    {
     "data": {
      "image/png": "[encoded data removed]"
     },
     "metadata": {},
     "output_type": "display_data"
    }
   ],
   "source": [
    "fig, axes = create_figure(1, 3, figsize=(13, 3.9))\n",
    "\n",
    "slice_idxs = [58, 30, 44]\n",
    "for i, (ax, plane, labels) in enumerate(zip(axes, atlas.space.sections, atlas.space.axis_labels)):\n",
    "    data2plt = atlas_kmeans_eroded.take(slice_idxs[i], axis=i)\n",
    "    data2plt = np.ma.masked_where(data2plt == 0, data2plt)\n",
    "    ax.imshow(atlas.reference.take(slice_idxs[i], axis=i), cmap='Greys')\n",
    "    im = ax.imshow(data2plt, cmap='turbo')\n",
    "    plt.colorbar(im, ax=ax, shrink=0.6)\n",
    "    \n",
    "    ax.set_title(f\"{plane.capitalize()} view\\n\", fontsize=17)\n",
    "    ax.set_ylabel(labels[0], fontsize=13)\n",
    "    ax.set_xlabel(labels[1], fontsize=13)\n",
    "\n",
    "    _ = list(map(lambda x: x.set_visible(False), ax.spines.values()))\n",
    "    ax.set_xticks([])\n",
    "    ax.set_yticks([])\n",
    "    \n",
    "fig.tight_layout()\n",
    "plt.show()"
   ]
  },
  {
   "cell_type": "code",
   "execution_count": null,
   "id": "0405685d",
   "metadata": {},
   "outputs": [],
   "source": []
  },
  {
   "cell_type": "code",
   "execution_count": null,
   "id": "2de0d3aa",
   "metadata": {},
   "outputs": [],
   "source": []
  },
  {
   "cell_type": "code",
   "execution_count": null,
   "id": "8455b853",
   "metadata": {},
   "outputs": [],
   "source": []
  },
  {
   "cell_type": "markdown",
   "id": "5d5b2701",
   "metadata": {},
   "source": [
    "## Custom colors!"
   ]
  },
  {
   "cell_type": "code",
   "execution_count": 8,
   "id": "ac30a4e0",
   "metadata": {
    "scrolled": true
   },
   "outputs": [
    {
     "data": {
      "image/png": "[encoded data removed]"
     },
     "metadata": {},
     "output_type": "display_data"
    }
   ],
   "source": [
    "_ = make_cmap(['#1486ff', '#ff119b'])"
   ]
  },
  {
   "cell_type": "code",
   "execution_count": 9,
   "id": "05e8cfd6",
   "metadata": {},
   "outputs": [
    {
     "data": {
      "image/png": "[encoded data removed]"
     },
     "metadata": {},
     "output_type": "display_data"
    }
   ],
   "source": [
    "n_colors = num_regions * 2\n",
    "ramp_colors = [\n",
    "    '#0023ff', '#0ea4f1', '#00ffcf', '#00ffc1',\n",
    "    '#00ff0d', '#00c72e', '#caff58',\n",
    "    '#cfff00', '#ffc22c', '#ff7200',\n",
    "    '#f42c0b', '#d82789', '#ad00ff',\n",
    "]\n",
    "\n",
    "custom_cmap = make_cmap(\n",
    "    ramp_colors=ramp_colors,\n",
    "    name='parcellation_cmap',\n",
    "    n_colors=n_colors,\n",
    ")"
   ]
  },
  {
   "cell_type": "code",
   "execution_count": 10,
   "id": "b0c9e729",
   "metadata": {},
   "outputs": [
    {
     "data": {
      "image/png": "[encoded data removed]"
     },
     "metadata": {},
     "output_type": "display_data"
    }
   ],
   "source": [
    "custom_cmap.set_gamma(1.1)\n",
    "display_cmap(custom_cmap, len(ramp_colors))"
   ]
  },
  {
   "cell_type": "code",
   "execution_count": null,
   "id": "77ffa9fa",
   "metadata": {},
   "outputs": [],
   "source": []
  },
  {
   "cell_type": "markdown",
   "id": "8201e7ef",
   "metadata": {},
   "source": [
    "## Render cortical ROIs"
   ]
  },
  {
   "cell_type": "code",
   "execution_count": 11,
   "id": "7f9764d6",
   "metadata": {},
   "outputs": [
    {
     "data": {
      "text/html": [
       "<pre style=\"white-space:pre;overflow-x:auto;line-height:normal;font-family:Menlo,'DejaVu Sans Mono',consolas,'Courier New',monospace\">Scene saved at <span style=\"color: #800080; text-decoration-color: #800080\">/home/hadi/Dropbox/git/jb-Ca-fMRI/_extras/</span><span style=\"color: #ff00ff; text-decoration-color: #ff00ff\">parcel128_parcellation_cmap.html</span>\n",
       "</pre>\n"
      ],
      "text/plain": [
       "Scene saved at \u001b[35m/home/hadi/Dropbox/git/jb-Ca-fMRI/_extras/\u001b[0m\u001b[95mparcel128_parcellation_cmap.html\u001b[0m\n"
      ]
     },
     "metadata": {},
     "output_type": "display_data"
    }
   ],
   "source": [
    "_ = parcel2html(\n",
    "    parcel=atlas_kmeans_eroded,\n",
    "    save_dir=extras_dir,\n",
    "    cmap=custom_cmap,\n",
    ")"
   ]
  },
  {
   "cell_type": "code",
   "execution_count": 12,
   "id": "283c7bf8",
   "metadata": {},
   "outputs": [
    {
     "data": {
      "text/html": [
       "<pre style=\"white-space:pre;overflow-x:auto;line-height:normal;font-family:Menlo,'DejaVu Sans Mono',consolas,'Courier New',monospace\">Scene saved at <span style=\"color: #800080; text-decoration-color: #800080\">/home/hadi/Dropbox/git/jb-Ca-fMRI/_extras/</span><span style=\"color: #ff00ff; text-decoration-color: #ff00ff\">parcel128_nipy_spectral.html</span>\n",
       "</pre>\n"
      ],
      "text/plain": [
       "Scene saved at \u001b[35m/home/hadi/Dropbox/git/jb-Ca-fMRI/_extras/\u001b[0m\u001b[95mparcel128_nipy_spectral.html\u001b[0m\n"
      ]
     },
     "metadata": {},
     "output_type": "display_data"
    }
   ],
   "source": [
    "_ = parcel2html(\n",
    "    parcel=atlas_kmeans_eroded,\n",
    "    save_dir=extras_dir,\n",
    "    cmap='nipy_spectral',\n",
    ")"
   ]
  },
  {
   "cell_type": "code",
   "execution_count": null,
   "id": "4c3b31c2",
   "metadata": {},
   "outputs": [],
   "source": []
  },
  {
   "cell_type": "code",
   "execution_count": null,
   "id": "e1d00f53",
   "metadata": {},
   "outputs": [],
   "source": []
  },
  {
   "cell_type": "code",
   "execution_count": null,
   "id": "8c41ac13",
   "metadata": {},
   "outputs": [],
   "source": []
  },
  {
   "cell_type": "markdown",
   "id": "e83d54cb",
   "metadata": {},
   "source": [
    "### Embed result"
   ]
  },
  {
   "cell_type": "code",
   "execution_count": 6,
   "id": "7474422b",
   "metadata": {},
   "outputs": [
    {
     "data": {
      "text/html": [
       "\n",
       "        <iframe\n",
       "            width=\"1000\"\n",
       "            height=\"700\"\n",
       "            src=\"../../_extras/parcel-128_cmap-custom.html\"\n",
       "            frameborder=\"0\"\n",
       "            allowfullscreen\n",
       "        ></iframe>\n",
       "        "
      ],
      "text/plain": [
       "<IPython.lib.display.IFrame at 0x7f895db9cbe0>"
      ]
     },
     "metadata": {},
     "output_type": "display_data"
    }
   ],
   "source": [
    "path = f\"../../_extras/parcel-128_cmap-custom.html\"\n",
    "display(IFrame(path, width=1000, height=700))"
   ]
  },
  {
   "cell_type": "code",
   "execution_count": null,
   "id": "21fcf735",
   "metadata": {},
   "outputs": [],
   "source": []
  },
  {
   "cell_type": "code",
   "execution_count": 7,
   "id": "818df845",
   "metadata": {},
   "outputs": [
    {
     "data": {
      "text/html": [
       "\n",
       "        <iframe\n",
       "            width=\"1000\"\n",
       "            height=\"700\"\n",
       "            src=\"../../_extras/cluster3d-canberra_parcel-128_n-4.html\"\n",
       "            frameborder=\"0\"\n",
       "            allowfullscreen\n",
       "        ></iframe>\n",
       "        "
      ],
      "text/plain": [
       "<IPython.lib.display.IFrame at 0x7f895db9c940>"
      ]
     },
     "metadata": {},
     "output_type": "display_data"
    }
   ],
   "source": [
    "n_clusters = 4\n",
    "path = f\"../../_extras/cluster3d-canberra_parcel-128_n-{n_clusters}.html\"\n",
    "display(IFrame(path, width=1000, height=700))"
   ]
  },
  {
   "cell_type": "code",
   "execution_count": null,
   "id": "b0ac45f2",
   "metadata": {},
   "outputs": [],
   "source": []
  },
  {
   "cell_type": "code",
   "execution_count": 8,
   "id": "584936dd",
   "metadata": {},
   "outputs": [
    {
     "data": {
      "text/html": [
       "\n",
       "        <iframe\n",
       "            width=\"1000\"\n",
       "            height=\"700\"\n",
       "            src=\"../../_extras/cluster3d-canberra_parcel-128_n-14.html\"\n",
       "            frameborder=\"0\"\n",
       "            allowfullscreen\n",
       "        ></iframe>\n",
       "        "
      ],
      "text/plain": [
       "<IPython.lib.display.IFrame at 0x7f895dbd07c0>"
      ]
     },
     "metadata": {},
     "output_type": "display_data"
    }
   ],
   "source": [
    "n_clusters = 14\n",
    "path = f\"../../_extras/cluster3d-canberra_parcel-128_n-{n_clusters}.html\"\n",
    "display(IFrame(path, width=1000, height=700))"
   ]
  },
  {
   "cell_type": "code",
   "execution_count": null,
   "id": "24816248",
   "metadata": {},
   "outputs": [],
   "source": []
  },
  {
   "cell_type": "code",
   "execution_count": null,
   "id": "a3cc9b76",
   "metadata": {},
   "outputs": [],
   "source": []
  },
  {
   "cell_type": "markdown",
   "id": "b688bcec",
   "metadata": {},
   "source": [
    "## Add streamlines"
   ]
  },
  {
   "cell_type": "code",
   "execution_count": 16,
   "id": "1e604bdf",
   "metadata": {},
   "outputs": [
    {
     "data": {
      "application/vnd.jupyter.widget-view+json": {
       "model_id": "e348b123751d40a0ae9406cfbf8dd503",
       "version_major": 2,
       "version_minor": 0
      },
      "text/plain": [
       "Output()"
      ]
     },
     "metadata": {},
     "output_type": "display_data"
    },
    {
     "data": {
      "text/html": [
       "<pre style=\"white-space:pre;overflow-x:auto;line-height:normal;font-family:Menlo,'DejaVu Sans Mono',consolas,'Courier New',monospace\">Scene saved at <span style=\"color: #800080; text-decoration-color: #800080\">/home/hadi/Dropbox/git/jb-Ca-fMRI/_extras/</span><span style=\"color: #ff00ff; text-decoration-color: #ff00ff\">streams_RSP.html</span>\n",
       "</pre>\n"
      ],
      "text/plain": [
       "Scene saved at \u001b[35m/home/hadi/Dropbox/git/jb-Ca-fMRI/_extras/\u001b[0m\u001b[95mstreams_RSP.html\u001b[0m\n"
      ]
     },
     "metadata": {},
     "output_type": "display_data"
    },
    {
     "data": {
      "application/vnd.jupyter.widget-view+json": {
       "model_id": "1bb20ff474094d33ae669b0adc7a82a7",
       "version_major": 2,
       "version_minor": 0
      },
      "text/plain": [
       "Output()"
      ]
     },
     "metadata": {},
     "output_type": "display_data"
    },
    {
     "data": {
      "text/html": [
       "<pre style=\"white-space:pre;overflow-x:auto;line-height:normal;font-family:Menlo,'DejaVu Sans Mono',consolas,'Courier New',monospace\">Scene saved at <span style=\"color: #800080; text-decoration-color: #800080\">/home/hadi/Dropbox/git/jb-Ca-fMRI/_extras/</span><span style=\"color: #ff00ff; text-decoration-color: #ff00ff\">streams_ORB.html</span>\n",
       "</pre>\n"
      ],
      "text/plain": [
       "Scene saved at \u001b[35m/home/hadi/Dropbox/git/jb-Ca-fMRI/_extras/\u001b[0m\u001b[95mstreams_ORB.html\u001b[0m\n"
      ]
     },
     "metadata": {},
     "output_type": "display_data"
    },
    {
     "data": {
      "application/vnd.jupyter.widget-view+json": {
       "model_id": "a5994a44c97c4fd4a7625a6eb61c39a1",
       "version_major": 2,
       "version_minor": 0
      },
      "text/plain": [
       "Output()"
      ]
     },
     "metadata": {},
     "output_type": "display_data"
    },
    {
     "data": {
      "text/html": [
       "<pre style=\"white-space:pre;overflow-x:auto;line-height:normal;font-family:Menlo,'DejaVu Sans Mono',consolas,'Courier New',monospace\">Scene saved at <span style=\"color: #800080; text-decoration-color: #800080\">/home/hadi/Dropbox/git/jb-Ca-fMRI/_extras/</span><span style=\"color: #ff00ff; text-decoration-color: #ff00ff\">streams_SS.html</span>\n",
       "</pre>\n"
      ],
      "text/plain": [
       "Scene saved at \u001b[35m/home/hadi/Dropbox/git/jb-Ca-fMRI/_extras/\u001b[0m\u001b[95mstreams_SS.html\u001b[0m\n"
      ]
     },
     "metadata": {},
     "output_type": "display_data"
    }
   ],
   "source": [
    "_ = tracts2html('RSP', other_regions=['SS', 'MOp', 'MOs'], save_dir=extras_dir)\n",
    "_ = tracts2html('ORB', other_regions=['SS', 'MO'], save_dir=extras_dir)\n",
    "_ = tracts2html('SS', other_regions=['ORB', 'MO'], save_dir=extras_dir)"
   ]
  },
  {
   "cell_type": "code",
   "execution_count": null,
   "id": "ab07cfd3",
   "metadata": {},
   "outputs": [],
   "source": []
  },
  {
   "cell_type": "code",
   "execution_count": null,
   "id": "9b0845b4",
   "metadata": {},
   "outputs": [],
   "source": []
  },
  {
   "cell_type": "markdown",
   "id": "85de255a",
   "metadata": {},
   "source": [
    "### Embed"
   ]
  },
  {
   "cell_type": "code",
   "execution_count": 9,
   "id": "0fd62bf2",
   "metadata": {},
   "outputs": [
    {
     "data": {
      "text/html": [
       "\n",
       "        <iframe\n",
       "            width=\"1000\"\n",
       "            height=\"700\"\n",
       "            src=\"../../_extras/streams-RSP.html\"\n",
       "            frameborder=\"0\"\n",
       "            allowfullscreen\n",
       "        ></iframe>\n",
       "        "
      ],
      "text/plain": [
       "<IPython.lib.display.IFrame at 0x7f895db9ca60>"
      ]
     },
     "metadata": {},
     "output_type": "display_data"
    }
   ],
   "source": [
    "path = f\"../../_extras/streams-RSP.html\"\n",
    "display(IFrame(path, width=1000, height=700))"
   ]
  },
  {
   "cell_type": "code",
   "execution_count": null,
   "id": "83deef68",
   "metadata": {},
   "outputs": [],
   "source": []
  },
  {
   "cell_type": "code",
   "execution_count": 10,
   "id": "7196a663",
   "metadata": {},
   "outputs": [
    {
     "data": {
      "text/html": [
       "\n",
       "        <iframe\n",
       "            width=\"1000\"\n",
       "            height=\"700\"\n",
       "            src=\"../../_extras/streams-ORB.html\"\n",
       "            frameborder=\"0\"\n",
       "            allowfullscreen\n",
       "        ></iframe>\n",
       "        "
      ],
      "text/plain": [
       "<IPython.lib.display.IFrame at 0x7f895db9ca60>"
      ]
     },
     "metadata": {},
     "output_type": "display_data"
    }
   ],
   "source": [
    "path = f\"../../_extras/streams-ORB.html\"\n",
    "display(IFrame(path, width=1000, height=700))"
   ]
  },
  {
   "cell_type": "code",
   "execution_count": null,
   "id": "b7b72599",
   "metadata": {},
   "outputs": [],
   "source": []
  },
  {
   "cell_type": "code",
   "execution_count": 11,
   "id": "5e3afa1c",
   "metadata": {},
   "outputs": [
    {
     "data": {
      "text/html": [
       "\n",
       "        <iframe\n",
       "            width=\"1000\"\n",
       "            height=\"700\"\n",
       "            src=\"../../_extras/streams-SS.html\"\n",
       "            frameborder=\"0\"\n",
       "            allowfullscreen\n",
       "        ></iframe>\n",
       "        "
      ],
      "text/plain": [
       "<IPython.lib.display.IFrame at 0x7f895db9ccd0>"
      ]
     },
     "metadata": {},
     "output_type": "display_data"
    }
   ],
   "source": [
    "path = f\"../../_extras/streams-SS.html\"\n",
    "display(IFrame(path, width=1000, height=700))"
   ]
  },
  {
   "cell_type": "code",
   "execution_count": null,
   "id": "66028071",
   "metadata": {},
   "outputs": [],
   "source": []
  },
  {
   "cell_type": "code",
   "execution_count": null,
   "id": "5d8e7397",
   "metadata": {},
   "outputs": [],
   "source": []
  },
  {
   "cell_type": "code",
   "execution_count": null,
   "id": "3e5f217b",
   "metadata": {},
   "outputs": [],
   "source": []
  },
  {
   "cell_type": "markdown",
   "id": "8974a087",
   "metadata": {},
   "source": [
    "## Report properties of a parcellation (TODO)\n",
    "use:\n",
    "\n",
    "import pyinspect as pi"
   ]
  },
  {
   "cell_type": "code",
   "execution_count": null,
   "id": "f2cbce2b",
   "metadata": {},
   "outputs": [],
   "source": [
    "    def content(self):\n",
    "        \"\"\"\n",
    "        Prints an overview of the Actors in the scene.\n",
    "        \"\"\"\n",
    "\n",
    "        actors = pi.Report(\n",
    "            \"Scene actors\", accent=salmon, dim=orange, color=orange\n",
    "        )\n",
    "\n",
    "        for act in self.actors:\n",
    "            actors.add(\n",
    "                f\"[bold][{amber}]- {act.name}[/bold][{orange_darker}] \"\n",
    "                f\"(type: [{orange}]{act.br_class}[/{orange}]) \"\n",
    "                f\"(color: [{orange}]{rgb2hex(act.mesh.c())}[/{orange}]) \"\n",
    "                f\"(alpha: [{orange}]{act.mesh.alpha()}[/{orange}]) \"\n",
    "            )\n",
    "\n",
    "        if \"win32\" != sys.platform:\n",
    "            actors.print()\n",
    "        else:\n",
    "            print(pi.utils.stringify(actors, maxlen=-1))"
   ]
  },
  {
   "cell_type": "code",
   "execution_count": null,
   "id": "7e92aa31",
   "metadata": {},
   "outputs": [],
   "source": []
  },
  {
   "cell_type": "code",
   "execution_count": null,
   "id": "bbdec37f",
   "metadata": {},
   "outputs": [],
   "source": []
  }
 ],
 "metadata": {
  "kernelspec": {
   "display_name": "Python 3",
   "language": "python",
   "name": "python3"
  },
  "language_info": {
   "codemirror_mode": {
    "name": "ipython",
    "version": 3
   },
   "file_extension": ".py",
   "mimetype": "text/x-python",
   "name": "python",
   "nbconvert_exporter": "python",
   "pygments_lexer": "ipython3",
   "version": "3.8.3"
  }
 },
 "nbformat": 4,
 "nbformat_minor": 5
}
