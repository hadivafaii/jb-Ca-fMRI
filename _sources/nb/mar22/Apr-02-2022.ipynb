{
 "cells": [
  {
   "cell_type": "markdown",
   "id": "792db3af",
   "metadata": {},
   "source": [
    "# Apr ??, 2022 ()\n",
    "\n",
    "**Motivation**:  <br>"
   ]
  },
  {
   "cell_type": "code",
   "execution_count": null,
   "id": "d80d7f14",
   "metadata": {
    "tags": [
     "hide-input"
    ]
   },
   "outputs": [],
   "source": [
    "# HIDE CODE\n",
    "\n",
    "\n",
    "import os\n",
    "import sys\n",
    "import nibabel as nib\n",
    "import networkx as nx\n",
    "from time import time\n",
    "from pprint import pprint\n",
    "from copy import deepcopy as dc\n",
    "from os.path import join as pjoin\n",
    "from numpy.ma import masked_where as mwh\n",
    "from scipy.ndimage import gaussian_filter\n",
    "from IPython.display import display, IFrame, HTML\n",
    "from matplotlib.colors import rgb2hex, to_rgb\n",
    "import matplotlib.pyplot as plt\n",
    "import seaborn as sns\n",
    "\n",
    "# set style & no interpolalation\n",
    "import matplotlib\n",
    "matplotlib.rcParams['image.interpolation'] = 'none'\n",
    "sns.set_style('whitegrid')\n",
    "%matplotlib inline\n",
    "\n",
    "# tmp & extras dir\n",
    "git_dir = pjoin(os.environ['HOME'], 'Dropbox/git')\n",
    "tmp_dir = pjoin(git_dir, 'jb-Ca-fMRI/tmp')\n",
    "extras_dir = pjoin(git_dir, 'jb-Ca-fMRI/_extras')\n",
    "lfr_dir = pjoin(os.environ['HOME'], 'Documents/workspaces/lfr/binary_overlapping')\n",
    "\n",
    "\n",
    "# GitHub\n",
    "sys.path.insert(0, pjoin(git_dir, '_Ca-fMRI'))\n",
    "from register.atlas import make_tree_graph\n",
    "from register.parcellation import Parcellation\n",
    "from analysis.hierarchical import Hierarchical\n",
    "from analysis.fourier import *\n",
    "from analysis.bootstrap import *\n",
    "from analysis.svinet import *\n",
    "from analysis.group import *\n",
    "from analysis.lfr import *\n",
    "from utils.render import *\n",
    "from utils.plotting import *\n",
    "from model.mouse import Mice\n",
    "from model.configuration import Config\n",
    "\n",
    "# warnings\n",
    "import warnings\n",
    "warnings.filterwarnings('ignore', category=DeprecationWarning)"
   ]
  },
  {
   "cell_type": "markdown",
   "id": "50aa4511",
   "metadata": {},
   "source": [
    "## Check Ca new"
   ]
  },
  {
   "cell_type": "code",
   "execution_count": null,
   "id": "665e59b2",
   "metadata": {},
   "outputs": [],
   "source": [
    "rest_normal, led_normal = [], []\n",
    "for i in range(1, 10 + 1):\n",
    "    for j in range(1, 3 +1):\n",
    "        for k in [2, 4, 6]:\n",
    "            led_normal.append((i, j, k))\n",
    "        for k in [1, 3, 5, 7]:\n",
    "            rest_normal.append((i, j, k))\n",
    "len(rest_normal), len(led_normal), len(rest_normal) + len(led_normal)"
   ]
  },
  {
   "cell_type": "code",
   "execution_count": null,
   "id": "3e9d54d8",
   "metadata": {},
   "outputs": [],
   "source": [
    "pth = '/mnt/storage/hadi/Ca-fMRI/PreprocessedDataBIDS'\n",
    "\n",
    "rest, led = [], []\n",
    "for p in pathlib.Path(pth).rglob('*.nii.gz'):\n",
    "    x = p.name.split('_')\n",
    "    try:\n",
    "        task = next(e for e in x if 'task' in e)\n",
    "        task = task.split('-')[-1]\n",
    "        \n",
    "        sub = next(e for e in x if 'sub' in e)\n",
    "        ses = next(e for e in x if 'ses' in e)\n",
    "        run = next(e for e in x if 'run' in e)\n",
    "        sub, ses, run = map(\n",
    "            lambda s: int(re.findall(r\"\\d+\", s).pop()),\n",
    "            [sub, ses, run],\n",
    "        )\n",
    "        \n",
    "        if task == 'led':\n",
    "            led.append((sub, ses, run))\n",
    "        elif task == 'rest':\n",
    "            rest.append((sub, ses, run))\n",
    "        else:\n",
    "            print('???')\n",
    "    except StopIteration:\n",
    "        continue\n",
    "        \n",
    "led, rest = sorted(led), sorted(rest)\n",
    "len(rest), len(led), len(rest) + len(led)"
   ]
  },
  {
   "cell_type": "code",
   "execution_count": null,
   "id": "89037777",
   "metadata": {},
   "outputs": [],
   "source": [
    "led_delta = sorted(set(led_normal).symmetric_difference(led))\n",
    "rest_delta = sorted(set(rest_normal).symmetric_difference(rest))\n",
    "\n",
    "rest_delta, led_delta"
   ]
  },
  {
   "cell_type": "code",
   "execution_count": null,
   "id": "5e9aceaa",
   "metadata": {},
   "outputs": [],
   "source": []
  },
  {
   "cell_type": "code",
   "execution_count": null,
   "id": "2826f14e",
   "metadata": {},
   "outputs": [],
   "source": [
    "missing = [e for e in rest_delta if e[0] != 3]\n",
    "missing += [(3, 1, 1), (3, 2, 1), (3, 2, 6), (6, 3, 2)]\n",
    "missing.pop(missing.index((2, 2, 7)))\n",
    "missing = sorted(missing)\n",
    "missing"
   ]
  },
  {
   "cell_type": "code",
   "execution_count": null,
   "id": "3032f550",
   "metadata": {},
   "outputs": [],
   "source": []
  },
  {
   "cell_type": "markdown",
   "id": "7e50ea4f",
   "metadata": {},
   "source": [
    "### Plot GS"
   ]
  },
  {
   "cell_type": "code",
   "execution_count": null,
   "id": "e265d3b0",
   "metadata": {},
   "outputs": [],
   "source": [
    "set_style()"
   ]
  },
  {
   "cell_type": "code",
   "execution_count": null,
   "id": "57b63fb8",
   "metadata": {},
   "outputs": [],
   "source": [
    "pth = '/mnt/storage/hadi/Ca-fMRI/PreprocessedDataBIDS'\n",
    "paths = []\n",
    "for p in pathlib.Path(pth).rglob('*.nii.gz'):\n",
    "    if 'run' in p.name:\n",
    "        paths.append(str(p))\n",
    "paths = sorted(paths)"
   ]
  },
  {
   "cell_type": "code",
   "execution_count": null,
   "id": "655fd479",
   "metadata": {},
   "outputs": [],
   "source": [
    "q = 0.05\n",
    "tstart = 1000\n",
    "\n",
    "for p in paths:\n",
    "    x = ants.image_read(p)\n",
    "    x = x.numpy().squeeze()\n",
    "    m = np.abs(x).mean(-1) > 0\n",
    "\n",
    "    mu = x[..., tstart:].mean(-1)\n",
    "    sd = x[..., tstart:].std(-1)\n",
    "    tsnr = np.abs(mu) / sd\n",
    "    thres = np.quantile(tsnr[m], q)\n",
    "    \n",
    "    gs_full = x[m].mean(0)\n",
    "    gs_good = x[tsnr > thres].mean(0)\n",
    "    gs_bad = x[tsnr <= thres].mean(0)\n",
    "    \n",
    "    # Plot\n",
    "    mu, sd, tsnr, m = filter_boundaries([mu, sd, tsnr, m], m)\n",
    "\n",
    "    fig = plt.figure(figsize=(13, 4.5), tight_layout=True)\n",
    "    gspec = gridspec.GridSpec(2, 7, height_ratios=[1.2, 1])\n",
    "\n",
    "    ax = fig.add_subplot(gspec[0, :])\n",
    "    ax.plot(gs_full, color='yellow', alpha=0.7, lw=0.8)\n",
    "    ax.plot(gs_good, color='k', alpha=0.8, lw=0.8, label='GS good')\n",
    "    ax.plot(gs_bad, color='r',  alpha=0.5, lw=0.8, label='GS bad')\n",
    "    ax.legend()\n",
    "    ax.set_title(p.split('/')[-1])\n",
    "    ax.grid()\n",
    "\n",
    "    data2plt = {\n",
    "        'mu': mu,\n",
    "        'mu_hist': mu[m],\n",
    "        'sd': sd,\n",
    "        'sd_hist': sd[m],\n",
    "        'tSNR': tsnr,\n",
    "        'tSNR_hist': tsnr[m],\n",
    "        'good_pix': tsnr > thres,\n",
    "    }\n",
    "    for i, (lbl, x2p) in enumerate(data2plt.items()):\n",
    "        ax = fig.add_subplot(gspec[1, i])\n",
    "        if 'hist' in lbl:\n",
    "            sns.histplot(x2p, label=lbl.split('_')[0], ax=ax)\n",
    "            ax.set_ylabel('')\n",
    "            ax.set_yticks([])\n",
    "            if 'tSNR' in lbl:\n",
    "                ax.axvline(thres, color='r', lw='1.2', ls='--', label=f\"{thres:0.2f}\")\n",
    "            ax.legend()\n",
    "        else:\n",
    "            ax.imshow(x2p, cmap='Spectral' if i == 4 else 'rocket')\n",
    "            remove_ticks(ax)\n",
    "    plt.show()\n",
    "    \n",
    "\n",
    "    sos = sp_sig.butter(2, 0.001, 'hp', fs=10, output='sos')\n",
    "    y = sp_sig.sosfilt(sos, x)\n",
    "\n",
    "    mu = y[..., tstart:].mean(-1)\n",
    "    sd = y[..., tstart:].std(-1)\n",
    "    tsnr = np.abs(mu) / sd\n",
    "\n",
    "    m = np.abs(y).mean(-1) > 0\n",
    "    thres = np.quantile(tsnr[m], q)\n",
    "\n",
    "    gs_full = y[m].mean(0)\n",
    "    gs_good = y[tsnr > thres].mean(0)\n",
    "    gs_bad = y[tsnr <= thres].mean(0)\n",
    "\n",
    "    # Plot\n",
    "    mu, sd, tsnr, m = filter_boundaries([mu, sd, tsnr, m], m)\n",
    "\n",
    "    fig = plt.figure(figsize=(13, 4.5), tight_layout=True)\n",
    "    gspec = gridspec.GridSpec(2, 7, height_ratios=[1.2, 1])\n",
    "\n",
    "    ax = fig.add_subplot(gspec[0, :])\n",
    "    ax.plot(gs_full, color='yellow', alpha=0.7, lw=0.8)\n",
    "    ax.plot(gs_good, color='k', alpha=0.8, lw=0.8, label='GS good')\n",
    "    ax.plot(gs_bad, color='r',  alpha=0.5, lw=0.8, label='GS bad')\n",
    "    ax.legend()\n",
    "    ax.set_title(f\"{p.split('/')[-1]}  . . .  Highpass filtered (0.001 Hz)\")\n",
    "    ax.grid()\n",
    "\n",
    "    data2plt = {\n",
    "        'mu': mu,\n",
    "        'mu_hist': mu[m],\n",
    "        'sd': sd,\n",
    "        'sd_hist': sd[m],\n",
    "        'tSNR': tsnr,\n",
    "        'tSNR_hist': tsnr[m],\n",
    "        'good_pix': tsnr > thres,\n",
    "    }\n",
    "    for i, (lbl, x2p) in enumerate(data2plt.items()):\n",
    "        ax = fig.add_subplot(gspec[1, i])\n",
    "        if 'hist' in lbl:\n",
    "            sns.histplot(x2p, label=lbl.split('_')[0], ax=ax)\n",
    "            ax.set_ylabel('')\n",
    "            ax.set_yticks([])\n",
    "            if 'tSNR' in lbl:\n",
    "                ax.axvline(thres, color='r', lw='1.2', ls='--', label=f\"{thres:0.2f}\")\n",
    "            ax.legend()\n",
    "        else:\n",
    "            ax.imshow(x2p, cmap='Spectral' if i == 4 else 'rocket')\n",
    "            remove_ticks(ax)\n",
    "    plt.show()\n",
    "    \n",
    "    print('\\n\\n')\n",
    "    print('-' * 70)\n",
    "    print('-' * 70)"
   ]
  },
  {
   "cell_type": "code",
   "execution_count": null,
   "id": "1e1cd325",
   "metadata": {},
   "outputs": [],
   "source": []
  },
  {
   "cell_type": "code",
   "execution_count": null,
   "id": "a452444f",
   "metadata": {},
   "outputs": [],
   "source": [
    "plt.imshow(mu)"
   ]
  },
  {
   "cell_type": "code",
   "execution_count": null,
   "id": "f52a6b91",
   "metadata": {},
   "outputs": [],
   "source": []
  },
  {
   "cell_type": "code",
   "execution_count": null,
   "id": "f63361b8",
   "metadata": {},
   "outputs": [],
   "source": [
    "np.quantile(mu[m], 0.90)"
   ]
  },
  {
   "cell_type": "code",
   "execution_count": null,
   "id": "c2e8eedd",
   "metadata": {},
   "outputs": [],
   "source": [
    "plt.imshow(m * (mu < np.quantile(mu[m], 0.95)))"
   ]
  },
  {
   "cell_type": "code",
   "execution_count": null,
   "id": "400854fa",
   "metadata": {},
   "outputs": [],
   "source": [
    "sns.histplot(mu[m])\n",
    "plt.axvline(np.quantile(mu[m], 0.95), color='r')"
   ]
  },
  {
   "cell_type": "code",
   "execution_count": null,
   "id": "ef0f0820",
   "metadata": {},
   "outputs": [],
   "source": []
  },
  {
   "cell_type": "code",
   "execution_count": null,
   "id": "bbc5d293",
   "metadata": {},
   "outputs": [],
   "source": []
  },
  {
   "cell_type": "code",
   "execution_count": null,
   "id": "91d84034",
   "metadata": {},
   "outputs": [],
   "source": []
  },
  {
   "cell_type": "markdown",
   "id": "b7401503",
   "metadata": {},
   "source": [
    "## BOLD (Gabe)"
   ]
  },
  {
   "cell_type": "code",
   "execution_count": null,
   "id": "e662bc53",
   "metadata": {},
   "outputs": [],
   "source": [
    "rest_normal, led_normal = [], []\n",
    "for i in range(1, 10 + 1):\n",
    "    for j in range(1, 3 +1):\n",
    "        for k in [2, 4, 6]:\n",
    "            led_normal.append((i, j, k))\n",
    "        for k in [1, 3, 5, 7]:\n",
    "            rest_normal.append((i, j, k))\n",
    "len(rest_normal), len(led_normal), len(rest_normal) + len(led_normal)"
   ]
  },
  {
   "cell_type": "markdown",
   "id": "3390ebe2",
   "metadata": {},
   "source": [
    "### Clean"
   ]
  },
  {
   "cell_type": "code",
   "execution_count": null,
   "id": "a1d2c048",
   "metadata": {},
   "outputs": [],
   "source": [
    "pth = '/mnt/storage/hadi/Ca-fMRI/gabe_data/reoriented_data/cleaned_timeseries'\n",
    "\n",
    "rest, led = [], []\n",
    "for p in pathlib.Path(pth).rglob('*.nii.gz'):\n",
    "    x = p.name.split('_')\n",
    "    try:\n",
    "        task = next(e for e in x if 'task' in e)\n",
    "        task = task.split('-')[-1]\n",
    "        \n",
    "        sub = next(e for e in x if 'sub' in e)\n",
    "        ses = next(e for e in x if 'ses' in e)\n",
    "        run = next(e for e in x if 'run' in e)\n",
    "        sub, ses, run = map(\n",
    "            lambda s: int(re.findall(r\"\\d+\", s).pop()),\n",
    "            [sub, ses, run],\n",
    "        )\n",
    "        \n",
    "        if task == 'led':\n",
    "            led.append((sub, ses, run))\n",
    "        elif task == 'rest':\n",
    "            rest.append((sub, ses, run))\n",
    "        else:\n",
    "            print('???')\n",
    "    except StopIteration:\n",
    "        continue\n",
    "        \n",
    "led, rest = sorted(led), sorted(rest)\n",
    "len(rest), len(led), len(rest) + len(led)"
   ]
  },
  {
   "cell_type": "code",
   "execution_count": null,
   "id": "7acf88a5",
   "metadata": {},
   "outputs": [],
   "source": []
  },
  {
   "cell_type": "code",
   "execution_count": null,
   "id": "060daf7c",
   "metadata": {},
   "outputs": [],
   "source": [
    "len(rest_normal), len(led_normal), len(rest_normal) + len(led_normal)"
   ]
  },
  {
   "cell_type": "code",
   "execution_count": null,
   "id": "f936baa1",
   "metadata": {},
   "outputs": [],
   "source": []
  },
  {
   "cell_type": "code",
   "execution_count": null,
   "id": "16134088",
   "metadata": {},
   "outputs": [],
   "source": [
    "led_delta = sorted(set(led_normal).symmetric_difference(led))\n",
    "rest_delta = sorted(set(rest_normal).symmetric_difference(rest))\n",
    "\n",
    "rest_delta, led_delta"
   ]
  },
  {
   "cell_type": "code",
   "execution_count": null,
   "id": "9e64f49e",
   "metadata": {},
   "outputs": [],
   "source": []
  },
  {
   "cell_type": "code",
   "execution_count": null,
   "id": "e22cf2cf",
   "metadata": {},
   "outputs": [],
   "source": [
    "missing = [e for e in rest_delta if e[0] != 3]\n",
    "missing += [(1, 1, 4), (3, 1, 1)] #, (3, 2, 1), (3, 2, 6), (6, 3, 2)]\n",
    "missing.pop(missing.index((2, 2, 7)))\n",
    "missing = sorted(missing)\n",
    "missing"
   ]
  },
  {
   "cell_type": "code",
   "execution_count": null,
   "id": "f52d0cf9",
   "metadata": {},
   "outputs": [],
   "source": []
  },
  {
   "cell_type": "markdown",
   "id": "77026670",
   "metadata": {},
   "source": [
    "### Raw"
   ]
  },
  {
   "cell_type": "code",
   "execution_count": null,
   "id": "39609291",
   "metadata": {},
   "outputs": [],
   "source": [
    "pth = '/mnt/storage/hadi/Ca-fMRI/gabe_data/reoriented_data/native_preprocessed_data'\n",
    "\n",
    "rest, led = [], []\n",
    "for p in pathlib.Path(pth).rglob('*.nii.gz'):\n",
    "    x = p.name.split('_')\n",
    "    try:\n",
    "        task = next(e for e in x if 'task' in e)\n",
    "        task = task.split('-')[-1]\n",
    "        \n",
    "        sub = next(e for e in x if 'sub' in e)\n",
    "        ses = next(e for e in x if 'ses' in e)\n",
    "        run = next(e for e in x if 'run' in e)\n",
    "        sub, ses, run = map(\n",
    "            lambda s: int(re.findall(r\"\\d+\", s).pop()),\n",
    "            [sub, ses, run],\n",
    "        )\n",
    "        \n",
    "        if task == 'led':\n",
    "            led.append((sub, ses, run))\n",
    "        elif task == 'rest':\n",
    "            rest.append((sub, ses, run))\n",
    "        else:\n",
    "            print('???')\n",
    "    except StopIteration:\n",
    "        continue\n",
    "        \n",
    "led, rest = sorted(led), sorted(rest)\n",
    "len(rest), len(led), len(rest) + len(led)"
   ]
  },
  {
   "cell_type": "code",
   "execution_count": null,
   "id": "1d6e6524",
   "metadata": {},
   "outputs": [],
   "source": []
  },
  {
   "cell_type": "code",
   "execution_count": null,
   "id": "41a5bc41",
   "metadata": {},
   "outputs": [],
   "source": [
    "led_delta = sorted(set(led_normal).symmetric_difference(led))\n",
    "rest_delta = sorted(set(rest_normal).symmetric_difference(rest))\n",
    "\n",
    "rest_delta, led_delta"
   ]
  },
  {
   "cell_type": "code",
   "execution_count": null,
   "id": "321315fa",
   "metadata": {},
   "outputs": [],
   "source": []
  },
  {
   "cell_type": "code",
   "execution_count": null,
   "id": "a3770dfb",
   "metadata": {},
   "outputs": [],
   "source": [
    "missing = [e for e in rest_delta if e[0] != 3]\n",
    "# missing += [(1, 1, 4), (3, 1, 1)] #, (3, 2, 1), (3, 2, 6), (6, 3, 2)]\n",
    "missing.pop(missing.index((2, 2, 7)))\n",
    "missing = sorted(missing)\n",
    "missing"
   ]
  },
  {
   "cell_type": "code",
   "execution_count": null,
   "id": "8d5c1106",
   "metadata": {},
   "outputs": [],
   "source": []
  },
  {
   "cell_type": "code",
   "execution_count": null,
   "id": "fd7b1c0c",
   "metadata": {},
   "outputs": [],
   "source": []
  },
  {
   "cell_type": "markdown",
   "id": "f3c5f797",
   "metadata": {},
   "source": [
    "### tSNR"
   ]
  },
  {
   "cell_type": "code",
   "execution_count": null,
   "id": "32974140",
   "metadata": {},
   "outputs": [],
   "source": [
    "set_style()"
   ]
  },
  {
   "cell_type": "code",
   "execution_count": null,
   "id": "75d624cd",
   "metadata": {},
   "outputs": [],
   "source": [
    "pth = '/mnt/storage/hadi/Ca-fMRI/gabe_data/reoriented_data/native_preprocessed_data'\n",
    "pth_masks = '/mnt/storage/hadi/Ca-fMRI/gabe_data/reoriented_data/brain_mask'\n",
    "\n",
    "paths = []\n",
    "for p in pathlib.Path(pth).rglob('*.nii.gz'):\n",
    "    if 'run' in p.name:\n",
    "        paths.append(str(p))\n",
    "paths = sorted(paths)"
   ]
  },
  {
   "cell_type": "code",
   "execution_count": null,
   "id": "8b2a7dc6",
   "metadata": {},
   "outputs": [],
   "source": [
    "slices = [20, 13, 38]\n",
    "slices_delta = [15, 10, -12]\n",
    "q = 0.1\n",
    "\n",
    "for p in paths:\n",
    "    x = ants.image_read(p)\n",
    "    x = x.numpy().squeeze()\n",
    "    \n",
    "    m = '_'.join(p.split('/')[-1].split('_')[:4])\n",
    "    m = next(filter(lambda f: m in f, os.listdir(pth_masks)))\n",
    "    m = pjoin(pth_masks, m)\n",
    "    m = ants.image_read(m)\n",
    "    m = m.numpy().astype(bool)\n",
    "    \n",
    "    mu = x.mean(-1) * m\n",
    "    sd = x.std(-1) * m\n",
    "    tsnr = np.abs(mu) / sd\n",
    "    thres = np.quantile(tsnr[m], q)\n",
    "    \n",
    "    gs_full = x[m].mean(0)\n",
    "    gs_good = x[tsnr > thres].mean(0)\n",
    "    gs_bad = x[tsnr <= thres].mean(0)\n",
    "    \n",
    "    # PLOT\n",
    "    mu, sd, tsnr, m = filter_boundaries([mu, sd, tsnr, m], m)\n",
    "    \n",
    "    fig = plt.figure(figsize=(13, 8), tight_layout=True)\n",
    "    gspec = GridSpec(4, 7, height_ratios=[1.3] + [1] * 3, width_ratios=[1] * 6 + [1.0])\n",
    "\n",
    "    ax = fig.add_subplot(gspec[0, :])\n",
    "    ax.plot(gs_full, color='magenta', alpha=1, lw=3, label='GS full')\n",
    "    ax.plot(gs_good, color='k', alpha=1, lw=3, label='GS good')\n",
    "    ax.plot(gs_bad, color='r',  alpha=1, lw=3, label='GS bad')\n",
    "    ax.legend()\n",
    "    ax.set_title(p.split('/')[-1])\n",
    "    ax.grid()\n",
    "\n",
    "    good_pix = tsnr > thres\n",
    "\n",
    "    data2plt = {\n",
    "        'mu': mu,\n",
    "        'sd': sd,\n",
    "        'tSNR': tsnr,\n",
    "    }\n",
    "    for ii, (lbl, xx) in enumerate(data2plt.items()):\n",
    "        ax = fig.add_subplot(gspec[ii + 1, -1])\n",
    "        sns.histplot(xx[m].ravel(), label=lbl, ax=ax)\n",
    "        ax.set_ylabel('')\n",
    "        ax.set_yticks([])\n",
    "\n",
    "        if 'tSNR' in lbl:\n",
    "            ax.axvline(thres, color='r', lw='1.2', ls='--', label=f\"{thres:0.2f}\")\n",
    "\n",
    "        ax.legend()\n",
    "\n",
    "        for jj, sl in enumerate(slices):\n",
    "            ax = fig.add_subplot(gspec[ii + 1, 2 * jj])\n",
    "            x2p = xx.take(sl, axis=jj)\n",
    "            m2p = m.take(sl, axis=jj)\n",
    "            x2p, m2p = filter_boundaries([x2p, m2p], m2p)\n",
    "            if jj == 2:\n",
    "                x2p = x2p.T\n",
    "            ax.imshow(x2p, cmap='Spectral' if lbl == 'tSNR' else 'rocket')\n",
    "            remove_ticks(ax)\n",
    "\n",
    "            ax = fig.add_subplot(gspec[ii + 1, 2 * jj + 1])\n",
    "            x2p = xx.take(sl + slices_delta[jj], axis=jj)\n",
    "            m2p = m.take(sl + slices_delta[jj], axis=jj)\n",
    "            x2p, m2p = filter_boundaries([x2p, m2p], m2p)\n",
    "            if jj == 2:\n",
    "                x2p = x2p.T\n",
    "            ax.imshow(x2p, cmap='Spectral' if lbl == 'tSNR' else 'rocket')\n",
    "            remove_ticks(ax)\n",
    "    plt.show()\n",
    "    \n",
    "    print('\\n\\n')\n",
    "    print('-' * 70)\n",
    "    print('-' * 70)"
   ]
  },
  {
   "cell_type": "code",
   "execution_count": null,
   "id": "205425ca",
   "metadata": {},
   "outputs": [],
   "source": []
  },
  {
   "cell_type": "code",
   "execution_count": null,
   "id": "adfa95a2",
   "metadata": {},
   "outputs": [],
   "source": []
  },
  {
   "cell_type": "code",
   "execution_count": null,
   "id": "d929a202",
   "metadata": {},
   "outputs": [],
   "source": []
  },
  {
   "cell_type": "markdown",
   "id": "653e21b7",
   "metadata": {},
   "source": [
    "### Power spectrum"
   ]
  },
  {
   "cell_type": "code",
   "execution_count": null,
   "id": "6d59b58f",
   "metadata": {},
   "outputs": [],
   "source": [
    "x = ants.image_read(p)\n",
    "x = x.numpy().squeeze()\n",
    "\n",
    "m = '_'.join(p.split('/')[-1].split('_')[:4])\n",
    "m = next(filter(lambda f: m in f, os.listdir(pth_masks)))\n",
    "m = pjoin(pth_masks, m)\n",
    "m = ants.image_read(m)\n",
    "m = m.numpy().astype(bool)\n",
    "\n",
    "mu = x.mean(-1) * m\n",
    "sd = x.std(-1) * m\n",
    "tsnr = np.abs(mu) / sd\n",
    "thres = np.quantile(tsnr[m], q)"
   ]
  },
  {
   "cell_type": "code",
   "execution_count": null,
   "id": "ea52cc7a",
   "metadata": {},
   "outputs": [],
   "source": [
    "f, Pxx_den = sp_sig.periodogram(x, 1)"
   ]
  },
  {
   "cell_type": "code",
   "execution_count": null,
   "id": "1a354f9e",
   "metadata": {},
   "outputs": [],
   "source": [
    "plt.semilogy(f[1:], Pxx_den[tsnr > thres].mean(0)[1:])\n",
    "# plt.ylim([1e-7, 1e2])\n",
    "plt.xlabel('frequency [Hz]')\n",
    "plt.ylabel('PSD [V**2/Hz]')\n",
    "plt.show()"
   ]
  },
  {
   "cell_type": "code",
   "execution_count": null,
   "id": "abef1e6c",
   "metadata": {},
   "outputs": [],
   "source": [
    "fig, axes = create_figure(1, 2, (8, 4), sharey='row')\n",
    "axes[0].semilogy(f[1:], Pxx_den[tsnr > thres].mean(0)[1:])\n",
    "axes[0].set_title('good vox')\n",
    "axes[1].semilogy(f[1:], Pxx_den[tsnr <= thres].mean(0)[1:])\n",
    "axes[1].set_title('bad vox')\n",
    "plt.xlabel('frequency [Hz]')\n",
    "plt.ylabel('PSD [V**2/Hz]')\n",
    "plt.show()"
   ]
  },
  {
   "cell_type": "code",
   "execution_count": null,
   "id": "202e1d65",
   "metadata": {},
   "outputs": [],
   "source": []
  },
  {
   "cell_type": "code",
   "execution_count": null,
   "id": "8616de37",
   "metadata": {},
   "outputs": [],
   "source": []
  },
  {
   "cell_type": "markdown",
   "id": "f5a5960d",
   "metadata": {},
   "source": [
    "### Missing?"
   ]
  },
  {
   "cell_type": "code",
   "execution_count": null,
   "id": "fd3d054c",
   "metadata": {},
   "outputs": [],
   "source": [
    "pth = '/mnt/storage/hadi/Ca-fMRI/gabe_data/reoriented_data/cleaned_timeseries'\n",
    "paths = []\n",
    "for p in pathlib.Path(pth).rglob('*.nii.gz'):\n",
    "    if 'run' in p.name:\n",
    "        paths.append(str(p))\n",
    "paths = sorted(paths)"
   ]
  },
  {
   "cell_type": "code",
   "execution_count": null,
   "id": "9527c333",
   "metadata": {},
   "outputs": [],
   "source": []
  },
  {
   "cell_type": "code",
   "execution_count": null,
   "id": "0e0e63d6",
   "metadata": {},
   "outputs": [],
   "source": []
  },
  {
   "cell_type": "code",
   "execution_count": null,
   "id": "150e86de",
   "metadata": {},
   "outputs": [],
   "source": [
    "p = paths[103]\n",
    "p"
   ]
  },
  {
   "cell_type": "code",
   "execution_count": null,
   "id": "0df2f451",
   "metadata": {},
   "outputs": [],
   "source": [
    "x = ants.image_read(p)\n",
    "x = x.numpy().squeeze()\n",
    "\n",
    "m = '_'.join(p.split('/')[-1].split('_')[:4])\n",
    "m = next(filter(lambda f: m in f, os.listdir(pth_masks)))\n",
    "m = pjoin(pth_masks, m)\n",
    "m = ants.image_read(m)\n",
    "m = m.numpy().astype(bool)\n",
    "\n",
    "mu = x.mean(-1) * m\n",
    "sd = x.std(-1) * m\n",
    "tsnr = np.abs(mu) / sd\n",
    "thres = np.quantile(tsnr[m], q)\n",
    "\n",
    "gs_full = x[m].mean(0)\n",
    "gs_good = x[tsnr > thres].mean(0)\n",
    "gs_bad = x[tsnr <= thres].mean(0)"
   ]
  },
  {
   "cell_type": "code",
   "execution_count": null,
   "id": "eb040f56",
   "metadata": {},
   "outputs": [],
   "source": [
    "# PLOT\n",
    "mu, sd, tsnr, m = filter_boundaries([mu, sd, tsnr, m], m)\n",
    "\n",
    "fig = plt.figure(figsize=(13, 8), tight_layout=True)\n",
    "gspec = GridSpec(4, 7, height_ratios=[1.3] + [1] * 3, width_ratios=[1] * 6 + [1.0])\n",
    "\n",
    "ax = fig.add_subplot(gspec[0, :])\n",
    "ax.plot(gs_full, color='magenta', alpha=1, lw=3, label='GS full')\n",
    "ax.plot(gs_good, color='k', alpha=1, lw=3, label='GS good')\n",
    "ax.plot(gs_bad, color='r',  alpha=1, lw=3, label='GS bad')\n",
    "ax.legend()\n",
    "ax.set_title(p.split('/')[-1])\n",
    "ax.grid()\n",
    "\n",
    "good_pix = tsnr > thres\n",
    "\n",
    "data2plt = {\n",
    "    'mu': mu,\n",
    "    'sd': sd,\n",
    "    'tSNR': tsnr,\n",
    "}\n",
    "for ii, (lbl, xx) in enumerate(data2plt.items()):\n",
    "    ax = fig.add_subplot(gspec[ii + 1, -1])\n",
    "    sns.histplot(xx[m].ravel(), label=lbl, ax=ax)\n",
    "    ax.set_ylabel('')\n",
    "    ax.set_yticks([])\n",
    "\n",
    "    if 'tSNR' in lbl:\n",
    "        ax.axvline(thres, color='r', lw='1.2', ls='--', label=f\"{thres:0.2f}\")\n",
    "\n",
    "    ax.legend()\n",
    "\n",
    "    for jj, sl in enumerate(slices):\n",
    "        ax = fig.add_subplot(gspec[ii + 1, 2 * jj])\n",
    "        x2p = xx.take(sl, axis=jj)\n",
    "        m2p = m.take(sl, axis=jj)\n",
    "        x2p, m2p = filter_boundaries([x2p, m2p], m2p)\n",
    "        if jj == 2:\n",
    "            x2p = x2p.T\n",
    "        ax.imshow(x2p, cmap='Spectral' if lbl == 'tSNR' else 'rocket')\n",
    "        remove_ticks(ax)\n",
    "\n",
    "        ax = fig.add_subplot(gspec[ii + 1, 2 * jj + 1])\n",
    "        x2p = xx.take(sl + slices_delta[jj], axis=jj)\n",
    "        m2p = m.take(sl + slices_delta[jj], axis=jj)\n",
    "        x2p, m2p = filter_boundaries([x2p, m2p], m2p)\n",
    "        if jj == 2:\n",
    "            x2p = x2p.T\n",
    "        ax.imshow(x2p, cmap='Spectral' if lbl == 'tSNR' else 'rocket')\n",
    "        remove_ticks(ax)\n",
    "plt.show()"
   ]
  },
  {
   "cell_type": "code",
   "execution_count": null,
   "id": "9d0bd843",
   "metadata": {},
   "outputs": [],
   "source": []
  },
  {
   "cell_type": "code",
   "execution_count": null,
   "id": "3804323d",
   "metadata": {},
   "outputs": [],
   "source": []
  },
  {
   "cell_type": "code",
   "execution_count": null,
   "id": "72a1f427",
   "metadata": {},
   "outputs": [],
   "source": [
    "x = ants.image_read(p)\n",
    "x = x.numpy().squeeze()\n",
    "\n",
    "m = '_'.join(p.split('/')[-1].split('_')[:4])\n",
    "m = next(filter(lambda f: m in f, os.listdir(pth_masks)))\n",
    "m = pjoin(pth_masks, m)\n",
    "m = ants.image_read(m)\n",
    "m = m.numpy().astype(bool)\n",
    "\n",
    "mu = x.mean(-1) * m\n",
    "sd = x.std(-1) * m"
   ]
  },
  {
   "cell_type": "code",
   "execution_count": null,
   "id": "cbbe5cc3",
   "metadata": {},
   "outputs": [],
   "source": []
  },
  {
   "cell_type": "code",
   "execution_count": null,
   "id": "90f91d9e",
   "metadata": {},
   "outputs": [],
   "source": [
    "thres = np.quantile(sd[m], 1 - q)\n",
    "thres"
   ]
  },
  {
   "cell_type": "code",
   "execution_count": null,
   "id": "7f155ec8",
   "metadata": {},
   "outputs": [],
   "source": []
  },
  {
   "cell_type": "code",
   "execution_count": null,
   "id": "8aaf015a",
   "metadata": {},
   "outputs": [],
   "source": [
    "f, Pxx_den = sp_sig.periodogram(x, 1)"
   ]
  },
  {
   "cell_type": "code",
   "execution_count": null,
   "id": "6b23d402",
   "metadata": {},
   "outputs": [],
   "source": [
    "fig, axes = create_figure(1, 2, (8, 4), sharey='row')\n",
    "axes[0].semilogy(f[1:], Pxx_den[sd < thres].mean(0)[1:])\n",
    "axes[0].set_title('good vox')\n",
    "axes[1].semilogy(f[1:], Pxx_den[sd >= thres].mean(0)[1:])\n",
    "axes[1].set_title('bad vox')\n",
    "plt.xlabel('frequency [Hz]')\n",
    "plt.ylabel('PSD [V**2/Hz]')\n",
    "plt.show()"
   ]
  },
  {
   "cell_type": "code",
   "execution_count": null,
   "id": "337e62af",
   "metadata": {},
   "outputs": [],
   "source": []
  },
  {
   "cell_type": "code",
   "execution_count": null,
   "id": "86fe532d",
   "metadata": {},
   "outputs": [],
   "source": [
    "x2p = mwh(sd > thres, sd)"
   ]
  },
  {
   "cell_type": "code",
   "execution_count": null,
   "id": "d3646ac2",
   "metadata": {},
   "outputs": [],
   "source": [
    "plt.imshow(x2p[..., 20].T)"
   ]
  },
  {
   "cell_type": "code",
   "execution_count": null,
   "id": "3d02b31f",
   "metadata": {},
   "outputs": [],
   "source": []
  },
  {
   "cell_type": "code",
   "execution_count": null,
   "id": "8ca71e8c",
   "metadata": {},
   "outputs": [],
   "source": []
  },
  {
   "cell_type": "code",
   "execution_count": null,
   "id": "3821f466",
   "metadata": {},
   "outputs": [],
   "source": []
  },
  {
   "cell_type": "code",
   "execution_count": null,
   "id": "6b4d6c46",
   "metadata": {},
   "outputs": [],
   "source": []
  }
 ],
 "metadata": {
  "kernelspec": {
   "display_name": "Python 3",
   "language": "python",
   "name": "python3"
  },
  "language_info": {
   "codemirror_mode": {
    "name": "ipython",
    "version": 3
   },
   "file_extension": ".py",
   "mimetype": "text/x-python",
   "name": "python",
   "nbconvert_exporter": "python",
   "pygments_lexer": "ipython3",
   "version": "3.8.3"
  }
 },
 "nbformat": 4,
 "nbformat_minor": 5
}
