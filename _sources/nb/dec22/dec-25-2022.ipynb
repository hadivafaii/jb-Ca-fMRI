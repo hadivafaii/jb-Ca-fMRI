{
 "cells": [
  {
   "cell_type": "markdown",
   "id": "792db3af",
   "metadata": {},
   "source": [
    "# Dec 25th, 2022 (AD: full brain, save a+g)\n",
    "\n",
    "**Motivation**: save adjacencies and graphs at the level of run, session, animal, and group. <br>"
   ]
  },
  {
   "cell_type": "code",
   "execution_count": 1,
   "id": "d80d7f14",
   "metadata": {
    "tags": [
     "hide-input"
    ]
   },
   "outputs": [],
   "source": [
    "# HIDE CODE\n",
    "\n",
    "\n",
    "import os\n",
    "import sys\n",
    "from pprint import pprint\n",
    "from copy import deepcopy as dc\n",
    "from os.path import join as pjoin\n",
    "from scipy.ndimage import gaussian_filter\n",
    "from IPython.display import display, IFrame, HTML\n",
    "\n",
    "# tmp & extras dir\n",
    "git_dir = pjoin(os.environ['HOME'], 'Dropbox/git')\n",
    "extras_dir = pjoin(git_dir, 'jb-Ca-fMRI/_extras')\n",
    "fig_base_dir = pjoin(git_dir, 'jb-Ca-fMRI/figs')\n",
    "tmp_dir = pjoin(git_dir, 'jb-Ca-fMRI/tmp')\n",
    "\n",
    "# GitHub\n",
    "sys.path.insert(0, pjoin(git_dir, '_Ca-fMRI'))\n",
    "from figures.fighelper import *\n",
    "from analysis.final import *\n",
    "from utils.render import *\n",
    "\n",
    "# warnings, tqdm, & style\n",
    "warnings.filterwarnings('ignore', category=DeprecationWarning)\n",
    "from tqdm.notebook import tqdm\n",
    "%matplotlib inline\n",
    "set_style()"
   ]
  },
  {
   "cell_type": "code",
   "execution_count": 2,
   "id": "e67cb0ed",
   "metadata": {},
   "outputs": [
    {
     "data": {
      "text/html": [
       "<pre style=\"white-space:pre;overflow-x:auto;line-height:normal;font-family:Menlo,'DejaVu Sans Mono',consolas,'Courier New',monospace\">ROI lookup not found, time to run <span style=\"color: #800080; text-decoration-color: #800080; font-weight: bold\">organize_func</span><span style=\"font-weight: bold\">()</span> . . .\n",
       "</pre>\n"
      ],
      "text/plain": [
       "ROI lookup not found, time to run \u001b[1;35morganize_func\u001b[0m\u001b[1m(\u001b[0m\u001b[1m)\u001b[0m . . .\n"
      ]
     },
     "metadata": {},
     "output_type": "display_data"
    },
    {
     "data": {
      "text/html": [
       "<pre style=\"white-space:pre;overflow-x:auto;line-height:normal;font-family:Menlo,'DejaVu Sans Mono',consolas,'Courier New',monospace\">combine metadata not found, time to run <span style=\"color: #800080; text-decoration-color: #800080; font-weight: bold\">cat_data</span><span style=\"font-weight: bold\">()</span> . . .\n",
       "</pre>\n"
      ],
      "text/plain": [
       "combine metadata not found, time to run \u001b[1;35mcat_data\u001b[0m\u001b[1m(\u001b[0m\u001b[1m)\u001b[0m . . .\n"
      ]
     },
     "metadata": {},
     "output_type": "display_data"
    }
   ],
   "source": [
    "from register.register import Register, reset_ants_img\n",
    "from sklearn.cluster import KMeans\n",
    "\n",
    "mice = Mice(128, load_parcel=True)\n",
    "mice.set_band(band_bo=(0.008,0.28))\n",
    "reg = Register(mice)"
   ]
  },
  {
   "cell_type": "markdown",
   "id": "5c8d6f97",
   "metadata": {},
   "source": [
    "## Load brain object in N162"
   ]
  },
  {
   "cell_type": "code",
   "execution_count": 3,
   "id": "7611d364",
   "metadata": {},
   "outputs": [
    {
     "data": {
      "text/html": [
       "<pre style=\"white-space:pre;overflow-x:auto;line-height:normal;font-family:Menlo,'DejaVu Sans Mono',consolas,'Courier New',monospace\"><span style=\"font-weight: bold\">(</span><span style=\"color: #008080; text-decoration-color: #008080; font-weight: bold\">60</span>, <span style=\"color: #008080; text-decoration-color: #008080; font-weight: bold\">46</span>, <span style=\"color: #008080; text-decoration-color: #008080; font-weight: bold\">81</span><span style=\"font-weight: bold\">)</span>\n",
       "</pre>\n"
      ],
      "text/plain": [
       "\u001b[1m(\u001b[0m\u001b[1;36m60\u001b[0m, \u001b[1;36m46\u001b[0m, \u001b[1;36m81\u001b[0m\u001b[1m)\u001b[0m\n"
      ]
     },
     "metadata": {},
     "output_type": "display_data"
    }
   ],
   "source": [
    "brain = 'Symmetric_N162_space-indiv3d_brain.nii.gz'\n",
    "brain = ants.image_read(\n",
    "    filename=pjoin(mice.cfg.masks_dir, brain),\n",
    "    pixeltype='unsigned int',\n",
    ")\n",
    "brain = brain.numpy()[::-1][:, ::-1]\n",
    "brain.shape"
   ]
  },
  {
   "cell_type": "markdown",
   "id": "a1daf1e8",
   "metadata": {},
   "source": [
    "## Get files, xtract"
   ]
  },
  {
   "cell_type": "code",
   "execution_count": 4,
   "id": "6f9202d2",
   "metadata": {},
   "outputs": [
    {
     "data": {
      "text/html": [
       "<pre style=\"white-space:pre;overflow-x:auto;line-height:normal;font-family:Menlo,'DejaVu Sans Mono',consolas,'Courier New',monospace\"><span style=\"color: #008080; text-decoration-color: #008080; font-weight: bold\">348</span>\n",
       "</pre>\n"
      ],
      "text/plain": [
       "\u001b[1;36m348\u001b[0m\n"
      ]
     },
     "metadata": {},
     "output_type": "display_data"
    }
   ],
   "source": [
    "files = sorted(filter(\n",
    "    lambda f: 'sub-DKI' in f or 'sub-WT'in f,\n",
    "    os.listdir(mice.cfg.raw_dir),\n",
    "))\n",
    "len(files)"
   ]
  },
  {
   "cell_type": "markdown",
   "id": "09d358aa",
   "metadata": {},
   "source": [
    "### Masks all"
   ]
  },
  {
   "cell_type": "code",
   "execution_count": 5,
   "id": "dea16659",
   "metadata": {},
   "outputs": [],
   "source": [
    "mask_and = np.load(pjoin(tmp_dir, 'AD_mask_and.npy'), mmap_mode='r')\n",
    "mask_or = np.load(pjoin(tmp_dir, 'AD_mask_or.npy'), mmap_mode='r')"
   ]
  },
  {
   "cell_type": "code",
   "execution_count": 6,
   "id": "01a5b087",
   "metadata": {},
   "outputs": [],
   "source": [
    "brain[~mask_or] = 0"
   ]
  },
  {
   "cell_type": "code",
   "execution_count": 7,
   "id": "f6c20543",
   "metadata": {},
   "outputs": [
    {
     "data": {
      "image/png": "[encoded data removed]"
     },
     "metadata": {},
     "output_type": "display_data"
    }
   ],
   "source": [
    "x2p = brain[..., 40].T.copy()\n",
    "x2p = filter_boundaries(x2p)\n",
    "for i, r in enumerate(np.unique(x2p[x2p.nonzero()]), start=1):\n",
    "    x2p[x2p == r] = i\n",
    "x2p = mwh(x2p == 0, x2p)\n",
    "fig, axes = create_figure(1, 2, (8, 3), constrained_layout=True)\n",
    "axes[0].imshow(mwh(x2p == 0, x2p), cmap=sns.color_palette('husl', as_cmap=True))\n",
    "axes[1].imshow(mwh(x2p == 0, x2p), cmap=get_rand_cmap(len(np.unique(x2p[x2p.nonzero()]))))\n",
    "remove_ticks(axes)\n",
    "plt.show()"
   ]
  },
  {
   "cell_type": "code",
   "execution_count": 8,
   "id": "4faa6c86",
   "metadata": {},
   "outputs": [
    {
     "data": {
      "text/html": [
       "<pre style=\"white-space:pre;overflow-x:auto;line-height:normal;font-family:Menlo,'DejaVu Sans Mono',consolas,'Courier New',monospace\"><span style=\"font-weight: bold\">[</span>PROGRESS<span style=\"font-weight: bold\">]</span> <span style=\"color: #008000; text-decoration-color: #008000\">'AD_node2region.npy'</span> saved at\n",
       "<span style=\"color: #800080; text-decoration-color: #800080\">/home/hadi/Dropbox/git/jb-Ca-fMRI/</span><span style=\"color: #ff00ff; text-decoration-color: #ff00ff\">tmp</span>\n",
       "</pre>\n"
      ],
      "text/plain": [
       "\u001b[1m[\u001b[0mPROGRESS\u001b[1m]\u001b[0m \u001b[32m'AD_node2region.npy'\u001b[0m saved at\n",
       "\u001b[35m/home/hadi/Dropbox/git/jb-Ca-fMRI/\u001b[0m\u001b[95mtmp\u001b[0m\n"
      ]
     },
     "metadata": {},
     "output_type": "display_data"
    },
    {
     "data": {
      "text/html": [
       "<pre style=\"white-space:pre;overflow-x:auto;line-height:normal;font-family:Menlo,'DejaVu Sans Mono',consolas,'Courier New',monospace\"><span style=\"color: #008080; text-decoration-color: #008080; font-weight: bold\">2368</span>\n",
       "</pre>\n"
      ],
      "text/plain": [
       "\u001b[1;36m2368\u001b[0m\n"
      ]
     },
     "metadata": {},
     "output_type": "display_data"
    }
   ],
   "source": [
    "regions = np.unique(brain[brain.nonzero()])\n",
    "node2region = {\n",
    "    n: r for n, r in\n",
    "    enumerate(regions)\n",
    "}\n",
    "_ = save_obj(\n",
    "    obj=node2region,\n",
    "    file_name='AD_n2i',\n",
    "    save_dir=tmp_dir,\n",
    "    mode='npy',\n",
    ")\n",
    "len(node2region)"
   ]
  },
  {
   "cell_type": "code",
   "execution_count": 9,
   "id": "2cbdd542",
   "metadata": {},
   "outputs": [],
   "source": [
    "n2l = {}\n",
    "for n, r in node2region.items():\n",
    "    info = mice.parcel.get(r)\n",
    "    if info['acro'] == 'Isocortex':\n",
    "        n2l[n] = f\"{info['hemis']}-{info['region']}-{info['layer']}\"\n",
    "    else:\n",
    "        n2l[n] = f\"{info['hemis']}-{info['region']}\"\n",
    "mice.node_lookup['bold'] = n2l\n",
    "mice.node_lookup['ca2'] = {\n",
    "    n: lbl for n, lbl in n2l.items()\n",
    "    if len(lbl.split('-')) == 3\n",
    "}\n",
    "bs = Base(mice, mode='ca2')"
   ]
  },
  {
   "cell_type": "markdown",
   "id": "7cbc2d4b",
   "metadata": {},
   "source": [
    "### Data all"
   ]
  },
  {
   "cell_type": "code",
   "execution_count": 10,
   "id": "61567b06",
   "metadata": {},
   "outputs": [
    {
     "data": {
      "text/html": [
       "<pre style=\"white-space:pre;overflow-x:auto;line-height:normal;font-family:Menlo,'DejaVu Sans Mono',consolas,'Courier New',monospace\"><span style=\"color: #008080; text-decoration-color: #008080; font-weight: bold\">348</span>\n",
       "</pre>\n"
      ],
      "text/plain": [
       "\u001b[1;36m348\u001b[0m\n"
      ]
     },
     "metadata": {},
     "output_type": "display_data"
    }
   ],
   "source": [
    "data_all = np.load(pjoin(tmp_dir, 'AD_data.npy'), allow_pickle=True).item()\n",
    "len(data_all)"
   ]
  },
  {
   "cell_type": "markdown",
   "id": "9f075868",
   "metadata": {},
   "source": [
    "## Save graphs"
   ]
  },
  {
   "cell_type": "code",
   "execution_count": 11,
   "id": "1bd5a1df",
   "metadata": {},
   "outputs": [],
   "source": [
    "def _adj2graph(adj):\n",
    "    a = adj.copy()\n",
    "    a[np.isnan(a)] = 0\n",
    "    return nx.from_numpy_array(a)"
   ]
  },
  {
   "cell_type": "markdown",
   "id": "b78fd15f",
   "metadata": {},
   "source": [
    "## Each run separately"
   ]
  },
  {
   "cell_type": "code",
   "execution_count": 12,
   "id": "0205756c",
   "metadata": {},
   "outputs": [
    {
     "data": {
      "application/vnd.jupyter.widget-view+json": {
       "model_id": "d9e03cc1bbbd4d21825b94d0a42f6190",
       "version_major": 2,
       "version_minor": 0
      },
      "text/plain": [
       "  0%|          | 0/348 [00:00<?, ?it/s]"
      ]
     },
     "metadata": {},
     "output_type": "display_data"
    },
    {
     "data": {
      "text/html": [
       "<pre style=\"white-space:pre;overflow-x:auto;line-height:normal;font-family:Menlo,'DejaVu Sans Mono',consolas,'Courier New',monospace\"><span style=\"font-weight: bold\">[</span>PROGRESS<span style=\"font-weight: bold\">]</span> <span style=\"color: #008000; text-decoration-color: #008000\">'AD_adj.npy'</span> saved at\n",
       "<span style=\"color: #800080; text-decoration-color: #800080\">/home/hadi/Dropbox/git/jb-Ca-fMRI/</span><span style=\"color: #ff00ff; text-decoration-color: #ff00ff\">tmp</span>\n",
       "</pre>\n"
      ],
      "text/plain": [
       "\u001b[1m[\u001b[0mPROGRESS\u001b[1m]\u001b[0m \u001b[32m'AD_adj.npy'\u001b[0m saved at\n",
       "\u001b[35m/home/hadi/Dropbox/git/jb-Ca-fMRI/\u001b[0m\u001b[95mtmp\u001b[0m\n"
      ]
     },
     "metadata": {},
     "output_type": "display_data"
    }
   ],
   "source": [
    "percentiles = [5, 10, 15, 20, 25]\n",
    "n_samples = 10\n",
    "adj_all, threshold_all = {}, {}\n",
    "for key, data in tqdm(data_all.items()):\n",
    "    a, _ = get_adj_mat(data, 'pearson', p_val=1)\n",
    "    thresholds = calculate_threshold(\n",
    "        a, [p / 100 for p in percentiles])\n",
    "    for perc, th in zip(percentiles, thresholds):\n",
    "        ab = dc(a)\n",
    "        ab[a <= th] = 0\n",
    "\n",
    "        adj_all[key] = a\n",
    "        threshold_all[key] = th\n",
    "\n",
    "        path = '_'.join([\n",
    "            f\"n-{mice.cfg.nn}*{mice.cfg.ll}\",\n",
    "            'bp(0.008,0.28)_bold_rest_pearson',\n",
    "            key,\n",
    "        ])\n",
    "        path = pjoin(mice.cfg.svinet_dir, path, 'real')\n",
    "        save_graph(_adj2graph(ab), perc, path, n_samples)\n",
    "\n",
    "_ = save_obj(\n",
    "    obj=adj_all,\n",
    "    file_name='AD_adj',\n",
    "    save_dir=tmp_dir,\n",
    "    mode='npy',\n",
    ")"
   ]
  },
  {
   "cell_type": "code",
   "execution_count": 25,
   "id": "0d394eb1",
   "metadata": {},
   "outputs": [
    {
     "data": {
      "image/png": "[encoded data removed]"
     },
     "metadata": {},
     "output_type": "display_data"
    }
   ],
   "source": [
    "_x = [v for k, v in threshold_all.items() if 'WT' in k]\n",
    "sns.histplot(_x, color='dimgrey', label='WT', bins=np.linspace(0.02, 0.1, 33), stat='percent')\n",
    "_x = [v for k, v in threshold_all.items() if 'DKI' in k]\n",
    "sns.histplot(_x, color='tomato', label='DKI', bins=np.linspace(0.02, 0.1, 33), stat='percent')\n",
    "plt.legend(fontsize=15)\n",
    "plt.show()"
   ]
  },
  {
   "cell_type": "markdown",
   "id": "f1bd78d2",
   "metadata": {},
   "source": [
    "## Session level"
   ]
  },
  {
   "cell_type": "code",
   "execution_count": 44,
   "id": "cc4eb9f6",
   "metadata": {},
   "outputs": [
    {
     "data": {
      "text/html": [
       "<pre style=\"white-space:pre;overflow-x:auto;line-height:normal;font-family:Menlo,'DejaVu Sans Mono',consolas,'Courier New',monospace\"><span style=\"color: #008080; text-decoration-color: #008080; font-weight: bold\">118</span>\n",
       "</pre>\n"
      ],
      "text/plain": [
       "\u001b[1;36m118\u001b[0m\n"
      ]
     },
     "metadata": {},
     "output_type": "display_data"
    }
   ],
   "source": [
    "sessions = []\n",
    "for k in data_all:\n",
    "    sessions.append('_'.join(k.split('_')[:2]))\n",
    "sessions = sorted(set(sessions))\n",
    "len(sessions)"
   ]
  },
  {
   "cell_type": "code",
   "execution_count": 62,
   "id": "673a0913",
   "metadata": {},
   "outputs": [
    {
     "data": {
      "application/vnd.jupyter.widget-view+json": {
       "model_id": "6f42b2e3e57f4bbcb8f1568d991ba4f6",
       "version_major": 2,
       "version_minor": 0
      },
      "text/plain": [
       "  0%|          | 0/118 [00:00<?, ?it/s]"
      ]
     },
     "metadata": {},
     "output_type": "display_data"
    },
    {
     "data": {
      "text/html": [
       "<pre style=\"white-space:pre;overflow-x:auto;line-height:normal;font-family:Menlo,'DejaVu Sans Mono',consolas,'Courier New',monospace\"><span style=\"font-weight: bold\">[</span>PROGRESS<span style=\"font-weight: bold\">]</span> <span style=\"color: #008000; text-decoration-color: #008000\">'AD_adj.npy'</span> saved at\n",
       "<span style=\"color: #800080; text-decoration-color: #800080\">/home/hadi/Dropbox/git/jb-Ca-fMRI/</span><span style=\"color: #ff00ff; text-decoration-color: #ff00ff\">tmp</span>\n",
       "</pre>\n"
      ],
      "text/plain": [
       "\u001b[1m[\u001b[0mPROGRESS\u001b[1m]\u001b[0m \u001b[32m'AD_adj.npy'\u001b[0m saved at\n",
       "\u001b[35m/home/hadi/Dropbox/git/jb-Ca-fMRI/\u001b[0m\u001b[95mtmp\u001b[0m\n"
      ]
     },
     "metadata": {},
     "output_type": "display_data"
    }
   ],
   "source": [
    "for key in tqdm(sessions):\n",
    "    data = np.concatenate(list(map(\n",
    "        operator.itemgetter(1),\n",
    "        filter(lambda t: key in t[0], data_all.items())\n",
    "    )), axis=-1)\n",
    "    a, _ = get_adj_mat(data, 'pearson', p_val=1)\n",
    "    thresholds = calculate_threshold(\n",
    "        a, [p / 100 for p in percentiles])\n",
    "    for perc, th in zip(percentiles, thresholds):\n",
    "        ab = dc(a)\n",
    "        ab[a <= th] = 0\n",
    "\n",
    "        adj_all[key] = a\n",
    "        threshold_all[key] = th\n",
    "\n",
    "        path = '_'.join([\n",
    "            f\"n-{mice.cfg.nn}*{mice.cfg.ll}\",\n",
    "            'bp(0.008,0.28)_bold_rest_pearson',\n",
    "            key,\n",
    "        ])\n",
    "        path = pjoin(mice.cfg.svinet_dir, path, 'real')\n",
    "        save_graph(_adj2graph(ab), perc, path, n_samples)\n",
    "\n",
    "_ = save_obj(\n",
    "    obj=adj_all,\n",
    "    file_name='AD_adj',\n",
    "    save_dir=tmp_dir,\n",
    "    mode='npy',\n",
    ")"
   ]
  },
  {
   "cell_type": "code",
   "execution_count": 64,
   "id": "0885818c",
   "metadata": {},
   "outputs": [
    {
     "data": {
      "text/html": [
       "<pre style=\"white-space:pre;overflow-x:auto;line-height:normal;font-family:Menlo,'DejaVu Sans Mono',consolas,'Courier New',monospace\"><span style=\"color: #008080; text-decoration-color: #008080; font-weight: bold\">466</span>\n",
       "</pre>\n"
      ],
      "text/plain": [
       "\u001b[1;36m466\u001b[0m\n"
      ]
     },
     "metadata": {},
     "output_type": "display_data"
    }
   ],
   "source": [
    "len(adj_all)"
   ]
  },
  {
   "cell_type": "code",
   "execution_count": 63,
   "id": "d1240501",
   "metadata": {},
   "outputs": [
    {
     "data": {
      "image/png": "[encoded data removed]"
     },
     "metadata": {},
     "output_type": "display_data"
    }
   ],
   "source": [
    "_x = [v for k, v in threshold_all.items() if 'WT' in k]\n",
    "sns.histplot(_x, color='dimgrey', label='WT', bins=np.linspace(0.02, 0.1, 33), stat='percent')\n",
    "_x = [v for k, v in threshold_all.items() if 'DKI' in k]\n",
    "sns.histplot(_x, color='tomato', label='DKI', bins=np.linspace(0.02, 0.1, 33), stat='percent')\n",
    "plt.legend(fontsize=15)\n",
    "plt.show()"
   ]
  },
  {
   "cell_type": "markdown",
   "id": "d847e2ec",
   "metadata": {},
   "source": [
    "## Animal level"
   ]
  },
  {
   "cell_type": "code",
   "execution_count": 65,
   "id": "6f411da3",
   "metadata": {},
   "outputs": [
    {
     "data": {
      "text/html": [
       "<pre style=\"white-space:pre;overflow-x:auto;line-height:normal;font-family:Menlo,'DejaVu Sans Mono',consolas,'Courier New',monospace\"><span style=\"color: #008080; text-decoration-color: #008080; font-weight: bold\">69</span>\n",
       "</pre>\n"
      ],
      "text/plain": [
       "\u001b[1;36m69\u001b[0m\n"
      ]
     },
     "metadata": {},
     "output_type": "display_data"
    }
   ],
   "source": [
    "animals = []\n",
    "for k in data_all:\n",
    "    animals.append(k.split('_')[0])\n",
    "animals = sorted(set(animals))\n",
    "len(animals)"
   ]
  },
  {
   "cell_type": "code",
   "execution_count": 75,
   "id": "e11b69c0",
   "metadata": {},
   "outputs": [
    {
     "data": {
      "application/vnd.jupyter.widget-view+json": {
       "model_id": "29b82d8475a14977a599da417010a753",
       "version_major": 2,
       "version_minor": 0
      },
      "text/plain": [
       "  0%|          | 0/69 [00:00<?, ?it/s]"
      ]
     },
     "metadata": {},
     "output_type": "display_data"
    },
    {
     "data": {
      "text/html": [
       "<pre style=\"white-space:pre;overflow-x:auto;line-height:normal;font-family:Menlo,'DejaVu Sans Mono',consolas,'Courier New',monospace\"><span style=\"font-weight: bold\">[</span>PROGRESS<span style=\"font-weight: bold\">]</span> <span style=\"color: #008000; text-decoration-color: #008000\">'AD_adj.npy'</span> saved at\n",
       "<span style=\"color: #800080; text-decoration-color: #800080\">/home/hadi/Dropbox/git/jb-Ca-fMRI/</span><span style=\"color: #ff00ff; text-decoration-color: #ff00ff\">tmp</span>\n",
       "</pre>\n"
      ],
      "text/plain": [
       "\u001b[1m[\u001b[0mPROGRESS\u001b[1m]\u001b[0m \u001b[32m'AD_adj.npy'\u001b[0m saved at\n",
       "\u001b[35m/home/hadi/Dropbox/git/jb-Ca-fMRI/\u001b[0m\u001b[95mtmp\u001b[0m\n"
      ]
     },
     "metadata": {},
     "output_type": "display_data"
    }
   ],
   "source": [
    "for key in tqdm(animals):\n",
    "    data = np.concatenate(list(map(\n",
    "        operator.itemgetter(1),\n",
    "        filter(lambda t: key in t[0], data_all.items())\n",
    "    )), axis=-1)\n",
    "    a, _ = get_adj_mat(data, 'pearson', p_val=1)\n",
    "    thresholds = calculate_threshold(\n",
    "        a, [p / 100 for p in percentiles])\n",
    "    for perc, th in zip(percentiles, thresholds):\n",
    "        ab = dc(a)\n",
    "        ab[a <= th] = 0\n",
    "\n",
    "        adj_all[key] = a\n",
    "        threshold_all[key] = th\n",
    "\n",
    "        path = '_'.join([\n",
    "            f\"n-{mice.cfg.nn}*{mice.cfg.ll}\",\n",
    "            'bp(0.008,0.28)_bold_rest_pearson',\n",
    "            key,\n",
    "        ])\n",
    "        path = pjoin(mice.cfg.svinet_dir, path, 'real')\n",
    "        save_graph(_adj2graph(ab), perc, path, n_samples)\n",
    "\n",
    "_ = save_obj(\n",
    "    obj=adj_all,\n",
    "    file_name='AD_adj',\n",
    "    save_dir=tmp_dir,\n",
    "    mode='npy',\n",
    ")"
   ]
  },
  {
   "cell_type": "code",
   "execution_count": 76,
   "id": "b511a9d2",
   "metadata": {},
   "outputs": [
    {
     "data": {
      "text/html": [
       "<pre style=\"white-space:pre;overflow-x:auto;line-height:normal;font-family:Menlo,'DejaVu Sans Mono',consolas,'Courier New',monospace\"><span style=\"color: #008080; text-decoration-color: #008080; font-weight: bold\">535</span>\n",
       "</pre>\n"
      ],
      "text/plain": [
       "\u001b[1;36m535\u001b[0m\n"
      ]
     },
     "metadata": {},
     "output_type": "display_data"
    }
   ],
   "source": [
    "len(adj_all)"
   ]
  },
  {
   "cell_type": "code",
   "execution_count": 77,
   "id": "7428f161",
   "metadata": {},
   "outputs": [
    {
     "data": {
      "image/png": "[encoded data removed]"
     },
     "metadata": {},
     "output_type": "display_data"
    }
   ],
   "source": [
    "_x = [v for k, v in threshold_all.items() if 'WT' in k]\n",
    "sns.histplot(_x, color='dimgrey', label='WT', bins=np.linspace(0.02, 0.1, 33), stat='percent')\n",
    "_x = [v for k, v in threshold_all.items() if 'DKI' in k]\n",
    "sns.histplot(_x, color='tomato', label='DKI', bins=np.linspace(0.02, 0.1, 33), stat='percent')\n",
    "plt.legend(fontsize=15)\n",
    "plt.show()"
   ]
  },
  {
   "cell_type": "markdown",
   "id": "177807a0",
   "metadata": {},
   "source": [
    "## Group level"
   ]
  },
  {
   "cell_type": "code",
   "execution_count": 78,
   "id": "848a5c18",
   "metadata": {},
   "outputs": [
    {
     "data": {
      "text/html": [
       "<pre style=\"white-space:pre;overflow-x:auto;line-height:normal;font-family:Menlo,'DejaVu Sans Mono',consolas,'Courier New',monospace\"><span style=\"color: #008080; text-decoration-color: #008080; font-weight: bold\">2</span>\n",
       "</pre>\n"
      ],
      "text/plain": [
       "\u001b[1;36m2\u001b[0m\n"
      ]
     },
     "metadata": {},
     "output_type": "display_data"
    }
   ],
   "source": [
    "groups = []\n",
    "for k in data_all:\n",
    "    g = k.split('_')[0].split('-')[1]\n",
    "    g = re.findall(\"[a-zA-Z]+\", g).pop()\n",
    "    groups.append(g)\n",
    "groups = sorted(set(groups))\n",
    "len(groups)"
   ]
  },
  {
   "cell_type": "code",
   "execution_count": 79,
   "id": "5dadb5bf",
   "metadata": {},
   "outputs": [
    {
     "data": {
      "text/html": [
       "<pre style=\"white-space:pre;overflow-x:auto;line-height:normal;font-family:Menlo,'DejaVu Sans Mono',consolas,'Courier New',monospace\">DKI\n",
       "<span style=\"font-weight: bold\">(</span><span style=\"color: #008080; text-decoration-color: #008080; font-weight: bold\">2368</span>, <span style=\"color: #008080; text-decoration-color: #008080; font-weight: bold\">66239</span><span style=\"font-weight: bold\">)</span>\n",
       "</pre>\n"
      ],
      "text/plain": [
       "DKI\n",
       "\u001b[1m(\u001b[0m\u001b[1;36m2368\u001b[0m, \u001b[1;36m66239\u001b[0m\u001b[1m)\u001b[0m\n"
      ]
     },
     "metadata": {},
     "output_type": "display_data"
    },
    {
     "data": {
      "text/html": [
       "<pre style=\"white-space:pre;overflow-x:auto;line-height:normal;font-family:Menlo,'DejaVu Sans Mono',consolas,'Courier New',monospace\">WT\n",
       "<span style=\"font-weight: bold\">(</span><span style=\"color: #008080; text-decoration-color: #008080; font-weight: bold\">2368</span>, <span style=\"color: #008080; text-decoration-color: #008080; font-weight: bold\">37141</span><span style=\"font-weight: bold\">)</span>\n",
       "</pre>\n"
      ],
      "text/plain": [
       "WT\n",
       "\u001b[1m(\u001b[0m\u001b[1;36m2368\u001b[0m, \u001b[1;36m37141\u001b[0m\u001b[1m)\u001b[0m\n"
      ]
     },
     "metadata": {},
     "output_type": "display_data"
    },
    {
     "data": {
      "text/html": [
       "<pre style=\"white-space:pre;overflow-x:auto;line-height:normal;font-family:Menlo,'DejaVu Sans Mono',consolas,'Courier New',monospace\"><span style=\"font-weight: bold\">[</span>PROGRESS<span style=\"font-weight: bold\">]</span> <span style=\"color: #008000; text-decoration-color: #008000\">'AD_adj.npy'</span> saved at\n",
       "<span style=\"color: #800080; text-decoration-color: #800080\">/home/hadi/Dropbox/git/jb-Ca-fMRI/</span><span style=\"color: #ff00ff; text-decoration-color: #ff00ff\">tmp</span>\n",
       "</pre>\n"
      ],
      "text/plain": [
       "\u001b[1m[\u001b[0mPROGRESS\u001b[1m]\u001b[0m \u001b[32m'AD_adj.npy'\u001b[0m saved at\n",
       "\u001b[35m/home/hadi/Dropbox/git/jb-Ca-fMRI/\u001b[0m\u001b[95mtmp\u001b[0m\n"
      ]
     },
     "metadata": {},
     "output_type": "display_data"
    },
    {
     "name": "stdout",
     "output_type": "stream",
     "text": [
      "CPU times: user 3min 26s, sys: 1min 30s, total: 4min 56s\n",
      "Wall time: 23min 46s\n"
     ]
    }
   ],
   "source": [
    "%%time\n",
    "\n",
    "for key in groups:\n",
    "    data = np.concatenate(list(map(\n",
    "        operator.itemgetter(1),\n",
    "        filter(lambda t: key in t[0], data_all.items())\n",
    "    )), axis=-1)\n",
    "    print(key, data.shape)\n",
    "    a, _ = get_adj_mat(data, 'pearson', p_val=1)\n",
    "    thresholds = calculate_threshold(\n",
    "        a, [p / 100 for p in percentiles])\n",
    "    for perc, th in zip(percentiles, thresholds):\n",
    "        ab = dc(a)\n",
    "        ab[a <= th] = 0\n",
    "\n",
    "        adj_all[key] = a\n",
    "        threshold_all[key] = th\n",
    "\n",
    "        path = '_'.join([\n",
    "            f\"n-{mice.cfg.nn}*{mice.cfg.ll}\",\n",
    "            'bp(0.008,0.28)_bold_rest_pearson',\n",
    "            key,\n",
    "        ])\n",
    "        path = pjoin(mice.cfg.svinet_dir, path, 'real')\n",
    "        save_graph(_adj2graph(ab), perc, path, n_samples)\n",
    "\n",
    "_ = save_obj(\n",
    "    obj=adj_all,\n",
    "    file_name='AD_adj',\n",
    "    save_dir=tmp_dir,\n",
    "    mode='npy',\n",
    ")"
   ]
  },
  {
   "cell_type": "code",
   "execution_count": 80,
   "id": "835bcf74",
   "metadata": {},
   "outputs": [
    {
     "data": {
      "text/html": [
       "<pre style=\"white-space:pre;overflow-x:auto;line-height:normal;font-family:Menlo,'DejaVu Sans Mono',consolas,'Courier New',monospace\"><span style=\"color: #008080; text-decoration-color: #008080; font-weight: bold\">537</span>\n",
       "</pre>\n"
      ],
      "text/plain": [
       "\u001b[1;36m537\u001b[0m\n"
      ]
     },
     "metadata": {},
     "output_type": "display_data"
    }
   ],
   "source": [
    "len(adj_all)"
   ]
  },
  {
   "cell_type": "code",
   "execution_count": 81,
   "id": "38643334",
   "metadata": {},
   "outputs": [
    {
     "data": {
      "image/png": "[encoded data removed]"
     },
     "metadata": {},
     "output_type": "display_data"
    }
   ],
   "source": [
    "_x = [v for k, v in threshold_all.items() if 'WT' in k]\n",
    "sns.histplot(_x, color='dimgrey', label='WT', bins=np.linspace(0.0, 0.1, 41), stat='percent')\n",
    "_x = [v for k, v in threshold_all.items() if 'DKI' in k]\n",
    "sns.histplot(_x, color='tomato', label='DKI', bins=np.linspace(0.0, 0.1, 41), stat='percent')\n",
    "plt.legend(fontsize=15)\n",
    "plt.show()"
   ]
  },
  {
   "cell_type": "code",
   "execution_count": 134,
   "id": "595ebcee",
   "metadata": {},
   "outputs": [
    {
     "data": {
      "image/png": "[encoded data removed]"
     },
     "metadata": {},
     "output_type": "display_data"
    }
   ],
   "source": [
    "# Was cortex only"
   ]
  },
  {
   "cell_type": "markdown",
   "id": "a64e078d",
   "metadata": {},
   "source": [
    "## Now running this:\n",
    "\n",
    "time ./loop_svinet.sh 128 3 10 p25-sample 500 bold rest \"0.008,0.28\" pearson \"sub[-_0-9a-zA-Z]*\""
   ]
  },
  {
   "cell_type": "code",
   "execution_count": null,
   "id": "9d5002ef",
   "metadata": {},
   "outputs": [],
   "source": []
  },
  {
   "cell_type": "code",
   "execution_count": null,
   "id": "b2cb06e9",
   "metadata": {},
   "outputs": [],
   "source": []
  },
  {
   "cell_type": "code",
   "execution_count": null,
   "id": "97a248fc",
   "metadata": {},
   "outputs": [],
   "source": []
  }
 ],
 "metadata": {
  "kernelspec": {
   "display_name": "Python 3",
   "language": "python",
   "name": "python3"
  },
  "language_info": {
   "codemirror_mode": {
    "name": "ipython",
    "version": 3
   },
   "file_extension": ".py",
   "mimetype": "text/x-python",
   "name": "python",
   "nbconvert_exporter": "python",
   "pygments_lexer": "ipython3",
   "version": "3.8.3"
  }
 },
 "nbformat": 4,
 "nbformat_minor": 5
}
