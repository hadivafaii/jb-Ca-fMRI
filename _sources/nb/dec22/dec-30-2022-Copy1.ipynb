{
 "cells": [
  {
   "cell_type": "markdown",
   "id": "792db3af",
   "metadata": {},
   "source": [
    "# Dec 30th, 2022 (AD: full brain)\n",
    "\n",
    "**Motivation**: SVINET results on full brain AD data. Which one is better: run or session level? <br>"
   ]
  },
  {
   "cell_type": "code",
   "execution_count": 1,
   "id": "d80d7f14",
   "metadata": {
    "tags": [
     "hide-input"
    ]
   },
   "outputs": [],
   "source": [
    "# HIDE CODE\n",
    "\n",
    "\n",
    "import os\n",
    "import sys\n",
    "from pprint import pprint\n",
    "from copy import deepcopy as dc\n",
    "from os.path import join as pjoin\n",
    "from scipy.ndimage import gaussian_filter\n",
    "from IPython.display import display, IFrame, HTML\n",
    "\n",
    "# tmp & extras dir\n",
    "git_dir = pjoin(os.environ['HOME'], 'Dropbox/git')\n",
    "extras_dir = pjoin(git_dir, 'jb-Ca-fMRI/_extras')\n",
    "fig_base_dir = pjoin(git_dir, 'jb-Ca-fMRI/figs')\n",
    "tmp_dir = pjoin(git_dir, 'jb-Ca-fMRI/tmp')\n",
    "\n",
    "# GitHub\n",
    "sys.path.insert(0, pjoin(git_dir, '_Ca-fMRI'))\n",
    "from figures.fighelper import *\n",
    "from analysis.final import *\n",
    "from utils.render import *\n",
    "\n",
    "# warnings, tqdm, & style\n",
    "warnings.filterwarnings('ignore', category=DeprecationWarning)\n",
    "from tqdm.notebook import tqdm\n",
    "%matplotlib inline\n",
    "set_style()"
   ]
  },
  {
   "cell_type": "code",
   "execution_count": 2,
   "id": "244538d3",
   "metadata": {},
   "outputs": [],
   "source": [
    "def decode_key(k):\n",
    "    ssr = k.split('_')\n",
    "    if len(ssr) == 3:\n",
    "        sub, ses, run = ssr\n",
    "    elif len(ssr) == 2:\n",
    "        sub, ses = ssr\n",
    "        run = None\n",
    "    elif len(ssr) == 1:\n",
    "        sub = ssr[-1]\n",
    "        ses = None\n",
    "        run = None\n",
    "    if ses is not None:\n",
    "        ses = int(ses.split('-')[-1])\n",
    "    if run is not None:\n",
    "        run = int(run.split('-')[-1])\n",
    "    sub = sub.split('-')[-1]\n",
    "    g = re.findall(f\"[a-zA-Z]+\", sub).pop()\n",
    "    try:\n",
    "        s = int(re.findall(f\"[^a-zA-Z]+\", sub).pop())\n",
    "    except IndexError:\n",
    "        s = None\n",
    "    return g, s, ses, run\n",
    "\n",
    "\n",
    "\n",
    "def do_group_tmp(data_dict, sessions: List[int], match_metric: str = 'correlation'):\n",
    "    if not isinstance(sessions, Iterable):\n",
    "        sessions = [sessions]\n",
    "    data_list = list(itertools.chain.from_iterable([\n",
    "        data_dict[ses] for ses in sessions]))\n",
    "    data = np.concatenate([\n",
    "        flatten_arr(x) for x in data_list])\n",
    "    nonan = np.where(np.isnan(data).sum(0) == 0)[0]\n",
    "    \n",
    "    centroids = np.zeros((num_k, data.shape[-1]))\n",
    "    _centroids, _ = fit_kmeans(\n",
    "        data=data[:, nonan],\n",
    "        n_clusters=num_k,\n",
    "        match_metric='euclidean',\n",
    "        random_state=42,\n",
    "        kw_kmeans={\n",
    "            'n_init': 10,\n",
    "            'max_iter': 300,\n",
    "            'tol': 0.0001},\n",
    "    )\n",
    "    centroids = np.zeros((num_k, data.shape[-1]))\n",
    "    centroids[:, nonan] = _centroids\n",
    "    \n",
    "    global_mapping = bs.align_centroid_to_structs(\n",
    "        pi_mv=centroids,\n",
    "        metric='cosine',\n",
    "        global_order=False,\n",
    "    )\n",
    "    centroids = centroids[global_mapping]\n",
    "    \n",
    "    pi = []\n",
    "    for item in data_list:\n",
    "        good = np.where(np.isnan(avg(item)).sum(0) == 0)[0]\n",
    "        good = set(good).intersection(nonan)\n",
    "        good = np.array(sorted(good))\n",
    "        _x = item[..., good]\n",
    "        _x = np.where(~np.isnan(_x), _x, 0.0)\n",
    "\n",
    "        aligned = []\n",
    "        for i, u in enumerate(_x):\n",
    "            dist = sp_dist.cdist(\n",
    "                XA=centroids[:, good],\n",
    "                XB=u,\n",
    "                metric=match_metric,\n",
    "            )\n",
    "            _, col_ind = sp_optim.linear_sum_assignment(dist)\n",
    "            aligned.append(np.expand_dims(item[i][col_ind], 0))\n",
    "        pi.append(np.concatenate(aligned))\n",
    "    pi = np.concatenate(pi)\n",
    "    pi /= np.nansum(pi, -2, keepdims=True)\n",
    "    return pi"
   ]
  },
  {
   "cell_type": "markdown",
   "id": "20c1a283",
   "metadata": {},
   "source": [
    "## Prepare"
   ]
  },
  {
   "cell_type": "code",
   "execution_count": 3,
   "id": "e67cb0ed",
   "metadata": {},
   "outputs": [
    {
     "data": {
      "text/html": [
       "<pre style=\"white-space:pre;overflow-x:auto;line-height:normal;font-family:Menlo,'DejaVu Sans Mono',consolas,'Courier New',monospace\">ROI lookup not found, time to run <span style=\"color: #800080; text-decoration-color: #800080; font-weight: bold\">organize_func</span><span style=\"font-weight: bold\">()</span> . . .\n",
       "</pre>\n"
      ],
      "text/plain": [
       "ROI lookup not found, time to run \u001b[1;35morganize_func\u001b[0m\u001b[1m(\u001b[0m\u001b[1m)\u001b[0m . . .\n"
      ]
     },
     "metadata": {},
     "output_type": "display_data"
    },
    {
     "data": {
      "text/html": [
       "<pre style=\"white-space:pre;overflow-x:auto;line-height:normal;font-family:Menlo,'DejaVu Sans Mono',consolas,'Courier New',monospace\">combine metadata not found, time to run <span style=\"color: #800080; text-decoration-color: #800080; font-weight: bold\">cat_data</span><span style=\"font-weight: bold\">()</span> . . .\n",
       "</pre>\n"
      ],
      "text/plain": [
       "combine metadata not found, time to run \u001b[1;35mcat_data\u001b[0m\u001b[1m(\u001b[0m\u001b[1m)\u001b[0m . . .\n"
      ]
     },
     "metadata": {},
     "output_type": "display_data"
    }
   ],
   "source": [
    "mice = Mice(Config(128, resolution=25), load_parcel=True)\n",
    "mice.set_band(band_bo=(0.008,0.28))\n",
    "\n",
    "template, _ = mice.al.mcc.get_template_volume()\n",
    "template = template.astype('uint32')\n",
    "root = mice.al.get_masks('root')\n",
    "brn = mice.parcel['brain'][:]\n",
    "region_idxs = unique_idxs(brn)"
   ]
  },
  {
   "cell_type": "markdown",
   "id": "133d42ac",
   "metadata": {},
   "source": [
    "### Load node2id"
   ]
  },
  {
   "cell_type": "code",
   "execution_count": 4,
   "id": "1dc28819",
   "metadata": {},
   "outputs": [],
   "source": [
    "n2i = np.load(pjoin(tmp_dir, 'AD_n2i.npy'), allow_pickle=True).item()\n",
    "i2n = {i: n for n, i in n2i.items()}\n",
    "\n",
    "n2l = {}\n",
    "for n, i in n2i.items():\n",
    "    info = mice.parcel.get(i)\n",
    "    if info['acro'] == 'Isocortex':\n",
    "        n2l[n] = f\"{info['hemis']}-{info['region']}-{info['layer']}\"\n",
    "    else:\n",
    "        n2l[n] = f\"{info['hemis']}-{info['region']}\"\n",
    "mice.node_lookup['bold'] = n2l\n",
    "mice.node_lookup['ca2'] = {\n",
    "    n: lbl for n, lbl in n2l.items()\n",
    "    if len(lbl.split('-')) == 3\n",
    "}\n",
    "bs = Base(mice, mode='ca2')"
   ]
  },
  {
   "cell_type": "markdown",
   "id": "1d12e2f6",
   "metadata": {},
   "source": [
    "### Extract all keys"
   ]
  },
  {
   "cell_type": "code",
   "execution_count": 5,
   "id": "969042b1",
   "metadata": {},
   "outputs": [
    {
     "data": {
      "text/html": [
       "<pre style=\"white-space:pre;overflow-x:auto;line-height:normal;font-family:Menlo,'DejaVu Sans Mono',consolas,'Courier New',monospace\"><span style=\"color: #008080; text-decoration-color: #008080; font-weight: bold\">547</span>\n",
       "</pre>\n"
      ],
      "text/plain": [
       "\u001b[1;36m547\u001b[0m\n"
      ]
     },
     "metadata": {},
     "output_type": "display_data"
    }
   ],
   "source": [
    "keys = []\n",
    "for f in os.listdir(mice.cfg.svinet_dir):\n",
    "    if f\"n-{mice.cfg.nn}*{mice.cfg.ll}\" not in f:\n",
    "        continue\n",
    "    key = f.split('_')\n",
    "    try:\n",
    "        i = next(\n",
    "            i for i, e in\n",
    "            enumerate(key)\n",
    "            if 'sub' in e\n",
    "        )\n",
    "    except StopIteration:\n",
    "        continue\n",
    "    keys.append('_'.join(key[i:]))\n",
    "keys = sorted(keys)\n",
    "len(keys)"
   ]
  },
  {
   "cell_type": "code",
   "execution_count": null,
   "id": "b454509c",
   "metadata": {},
   "outputs": [],
   "source": []
  },
  {
   "cell_type": "code",
   "execution_count": null,
   "id": "19a3ec9c",
   "metadata": {},
   "outputs": [],
   "source": []
  },
  {
   "cell_type": "code",
   "execution_count": null,
   "id": "a7d6031d",
   "metadata": {},
   "outputs": [],
   "source": []
  },
  {
   "cell_type": "code",
   "execution_count": null,
   "id": "f2a4d7d1",
   "metadata": {},
   "outputs": [],
   "source": []
  },
  {
   "cell_type": "code",
   "execution_count": null,
   "id": "2d5ac4df",
   "metadata": {},
   "outputs": [],
   "source": []
  }
 ],
 "metadata": {
  "kernelspec": {
   "display_name": "Python 3 (ipykernel)",
   "language": "python",
   "name": "python3"
  },
  "language_info": {
   "codemirror_mode": {
    "name": "ipython",
    "version": 3
   },
   "file_extension": ".py",
   "mimetype": "text/x-python",
   "name": "python",
   "nbconvert_exporter": "python",
   "pygments_lexer": "ipython3",
   "version": "3.8.5"
  }
 },
 "nbformat": 4,
 "nbformat_minor": 5
}
