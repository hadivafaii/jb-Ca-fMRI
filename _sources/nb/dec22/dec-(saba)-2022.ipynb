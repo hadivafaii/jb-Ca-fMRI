{
 "cells": [
  {
   "cell_type": "markdown",
   "id": "792db3af",
   "metadata": {},
   "source": [
    "# Dec ??th, 2022 (SLC: Saba plot)\n",
    "\n",
    "**Motivation**: make a self contained notebook for Saba to plot stuff <br>"
   ]
  },
  {
   "cell_type": "code",
   "execution_count": 1,
   "id": "d80d7f14",
   "metadata": {
    "tags": [
     "hide-input"
    ]
   },
   "outputs": [],
   "source": [
    "# HIDE CODE\n",
    "\n",
    "\n",
    "import os\n",
    "import sys\n",
    "from pprint import pprint\n",
    "from copy import deepcopy as dc\n",
    "from os.path import join as pjoin\n",
    "from scipy.ndimage import gaussian_filter\n",
    "from IPython.display import display, IFrame, HTML\n",
    "\n",
    "# tmp & extras dir\n",
    "git_dir = pjoin(os.environ['HOME'], 'Dropbox/git')\n",
    "extras_dir = pjoin(git_dir, 'jb-Ca-fMRI/_extras')\n",
    "fig_base_dir = pjoin(git_dir, 'jb-Ca-fMRI/figs')\n",
    "tmp_dir = pjoin(git_dir, 'jb-Ca-fMRI/tmp')\n",
    "\n",
    "# GitHub\n",
    "sys.path.insert(0, pjoin(git_dir, '_Ca-fMRI'))\n",
    "from figures.fighelper import *\n",
    "from analysis.final import *\n",
    "from utils.render import *\n",
    "\n",
    "# warnings, tqdm, & style\n",
    "warnings.filterwarnings('ignore', category=DeprecationWarning)\n",
    "from tqdm.notebook import tqdm\n",
    "%matplotlib inline\n",
    "set_style()"
   ]
  },
  {
   "cell_type": "code",
   "execution_count": 2,
   "id": "2a7eb3a4",
   "metadata": {},
   "outputs": [],
   "source": [
    "mice = Mice(512)"
   ]
  },
  {
   "cell_type": "code",
   "execution_count": 31,
   "id": "d99119a8",
   "metadata": {},
   "outputs": [
    {
     "data": {
      "text/html": [
       "<pre style=\"white-space:pre;overflow-x:auto;line-height:normal;font-family:Menlo,'DejaVu Sans Mono',consolas,'Courier New',monospace\"><span style=\"color: #008080; text-decoration-color: #008080; font-weight: bold\">3068</span>\n",
       "</pre>\n"
      ],
      "text/plain": [
       "\u001b[1;36m3068\u001b[0m\n"
      ]
     },
     "metadata": {},
     "output_type": "display_data"
    }
   ],
   "source": [
    "len(mice.node_lookup['bold'])"
   ]
  },
  {
   "cell_type": "code",
   "execution_count": 32,
   "id": "57f476ab",
   "metadata": {},
   "outputs": [
    {
     "data": {
      "text/html": [
       "<pre style=\"white-space:pre;overflow-x:auto;line-height:normal;font-family:Menlo,'DejaVu Sans Mono',consolas,'Courier New',monospace\"><span style=\"color: #008080; text-decoration-color: #008080; font-weight: bold\">3066</span>\n",
       "</pre>\n"
      ],
      "text/plain": [
       "\u001b[1;36m3066\u001b[0m\n"
      ]
     },
     "metadata": {},
     "output_type": "display_data"
    }
   ],
   "source": [
    "cortex = mice.parcel['cortex'][mice.parcel['cortex'].nonzero()]\n",
    "cortex = np.unique(cortex)\n",
    "len(cortex)"
   ]
  },
  {
   "cell_type": "code",
   "execution_count": 33,
   "id": "d9c7dbe9",
   "metadata": {},
   "outputs": [
    {
     "data": {
      "text/html": [
       "<pre style=\"white-space:pre;overflow-x:auto;line-height:normal;font-family:Menlo,'DejaVu Sans Mono',consolas,'Courier New',monospace\"><span style=\"color: #800080; text-decoration-color: #800080; font-weight: bold\">array</span><span style=\"font-weight: bold\">([</span>   <span style=\"color: #008080; text-decoration-color: #008080; font-weight: bold\">1</span>,    <span style=\"color: #008080; text-decoration-color: #008080; font-weight: bold\">2</span>,    <span style=\"color: #008080; text-decoration-color: #008080; font-weight: bold\">3</span>, <span style=\"color: #808000; text-decoration-color: #808000\">...</span>, <span style=\"color: #008080; text-decoration-color: #008080; font-weight: bold\">3070</span>, <span style=\"color: #008080; text-decoration-color: #008080; font-weight: bold\">3071</span>, <span style=\"color: #008080; text-decoration-color: #008080; font-weight: bold\">3072</span><span style=\"font-weight: bold\">]</span>, <span style=\"color: #808000; text-decoration-color: #808000\">dtype</span>=<span style=\"color: #800080; text-decoration-color: #800080\">uint32</span><span style=\"font-weight: bold\">)</span>\n",
       "</pre>\n"
      ],
      "text/plain": [
       "\u001b[1;35marray\u001b[0m\u001b[1m(\u001b[0m\u001b[1m[\u001b[0m   \u001b[1;36m1\u001b[0m,    \u001b[1;36m2\u001b[0m,    \u001b[1;36m3\u001b[0m, \u001b[33m...\u001b[0m, \u001b[1;36m3070\u001b[0m, \u001b[1;36m3071\u001b[0m, \u001b[1;36m3072\u001b[0m\u001b[1m]\u001b[0m, \u001b[33mdtype\u001b[0m=\u001b[35muint32\u001b[0m\u001b[1m)\u001b[0m\n"
      ]
     },
     "metadata": {},
     "output_type": "display_data"
    }
   ],
   "source": [
    "cortex"
   ]
  },
  {
   "cell_type": "code",
   "execution_count": 34,
   "id": "a25f7018",
   "metadata": {},
   "outputs": [
    {
     "data": {
      "text/html": [
       "<pre style=\"white-space:pre;overflow-x:auto;line-height:normal;font-family:Menlo,'DejaVu Sans Mono',consolas,'Courier New',monospace\"><span style=\"color: #008080; text-decoration-color: #008080; font-weight: bold\">155</span>\n",
       "</pre>\n"
      ],
      "text/plain": [
       "\u001b[1;36m155\u001b[0m\n"
      ]
     },
     "metadata": {},
     "output_type": "display_data"
    }
   ],
   "source": [
    "subcortex = mice.parcel['subcortex'][mice.parcel['subcortex'].nonzero()]\n",
    "subcortex = np.unique(subcortex)\n",
    "len(subcortex)"
   ]
  },
  {
   "cell_type": "code",
   "execution_count": 35,
   "id": "00b6573c",
   "metadata": {},
   "outputs": [
    {
     "data": {
      "text/html": [
       "<pre style=\"white-space:pre;overflow-x:auto;line-height:normal;font-family:Menlo,'DejaVu Sans Mono',consolas,'Courier New',monospace\"><span style=\"color: #800080; text-decoration-color: #800080; font-weight: bold\">array</span><span style=\"font-weight: bold\">([</span>    <span style=\"color: #008080; text-decoration-color: #008080; font-weight: bold\">7</span>,    <span style=\"color: #008080; text-decoration-color: #008080; font-weight: bold\">15</span>,    <span style=\"color: #008080; text-decoration-color: #008080; font-weight: bold\">27</span>,    <span style=\"color: #008080; text-decoration-color: #008080; font-weight: bold\">56</span>,    <span style=\"color: #008080; text-decoration-color: #008080; font-weight: bold\">59</span>,    <span style=\"color: #008080; text-decoration-color: #008080; font-weight: bold\">63</span>,    <span style=\"color: #008080; text-decoration-color: #008080; font-weight: bold\">64</span>,    <span style=\"color: #008080; text-decoration-color: #008080; font-weight: bold\">88</span>,    <span style=\"color: #008080; text-decoration-color: #008080; font-weight: bold\">91</span>,\n",
       "          <span style=\"color: #008080; text-decoration-color: #008080; font-weight: bold\">96</span>,   <span style=\"color: #008080; text-decoration-color: #008080; font-weight: bold\">101</span>,   <span style=\"color: #008080; text-decoration-color: #008080; font-weight: bold\">105</span>,   <span style=\"color: #008080; text-decoration-color: #008080; font-weight: bold\">114</span>,   <span style=\"color: #008080; text-decoration-color: #008080; font-weight: bold\">122</span>,   <span style=\"color: #008080; text-decoration-color: #008080; font-weight: bold\">127</span>,   <span style=\"color: #008080; text-decoration-color: #008080; font-weight: bold\">131</span>,   <span style=\"color: #008080; text-decoration-color: #008080; font-weight: bold\">141</span>,   <span style=\"color: #008080; text-decoration-color: #008080; font-weight: bold\">149</span>,\n",
       "         <span style=\"color: #008080; text-decoration-color: #008080; font-weight: bold\">155</span>,   <span style=\"color: #008080; text-decoration-color: #008080; font-weight: bold\">157</span>,   <span style=\"color: #008080; text-decoration-color: #008080; font-weight: bold\">159</span>,   <span style=\"color: #008080; text-decoration-color: #008080; font-weight: bold\">170</span>,   <span style=\"color: #008080; text-decoration-color: #008080; font-weight: bold\">178</span>,   <span style=\"color: #008080; text-decoration-color: #008080; font-weight: bold\">181</span>,   <span style=\"color: #008080; text-decoration-color: #008080; font-weight: bold\">186</span>,   <span style=\"color: #008080; text-decoration-color: #008080; font-weight: bold\">188</span>,   <span style=\"color: #008080; text-decoration-color: #008080; font-weight: bold\">196</span>,\n",
       "         <span style=\"color: #008080; text-decoration-color: #008080; font-weight: bold\">204</span>,   <span style=\"color: #008080; text-decoration-color: #008080; font-weight: bold\">210</span>,   <span style=\"color: #008080; text-decoration-color: #008080; font-weight: bold\">218</span>,   <span style=\"color: #008080; text-decoration-color: #008080; font-weight: bold\">250</span>,   <span style=\"color: #008080; text-decoration-color: #008080; font-weight: bold\">255</span>,   <span style=\"color: #008080; text-decoration-color: #008080; font-weight: bold\">258</span>,   <span style=\"color: #008080; text-decoration-color: #008080; font-weight: bold\">260</span>,   <span style=\"color: #008080; text-decoration-color: #008080; font-weight: bold\">262</span>,   <span style=\"color: #008080; text-decoration-color: #008080; font-weight: bold\">266</span>,\n",
       "         <span style=\"color: #008080; text-decoration-color: #008080; font-weight: bold\">278</span>,   <span style=\"color: #008080; text-decoration-color: #008080; font-weight: bold\">290</span>,   <span style=\"color: #008080; text-decoration-color: #008080; font-weight: bold\">298</span>,   <span style=\"color: #008080; text-decoration-color: #008080; font-weight: bold\">303</span>,   <span style=\"color: #008080; text-decoration-color: #008080; font-weight: bold\">310</span>,   <span style=\"color: #008080; text-decoration-color: #008080; font-weight: bold\">311</span>,   <span style=\"color: #008080; text-decoration-color: #008080; font-weight: bold\">319</span>,   <span style=\"color: #008080; text-decoration-color: #008080; font-weight: bold\">323</span>,   <span style=\"color: #008080; text-decoration-color: #008080; font-weight: bold\">325</span>,\n",
       "         <span style=\"color: #008080; text-decoration-color: #008080; font-weight: bold\">333</span>,   <span style=\"color: #008080; text-decoration-color: #008080; font-weight: bold\">339</span>,   <span style=\"color: #008080; text-decoration-color: #008080; font-weight: bold\">340</span>,   <span style=\"color: #008080; text-decoration-color: #008080; font-weight: bold\">342</span>,   <span style=\"color: #008080; text-decoration-color: #008080; font-weight: bold\">348</span>,   <span style=\"color: #008080; text-decoration-color: #008080; font-weight: bold\">349</span>,   <span style=\"color: #008080; text-decoration-color: #008080; font-weight: bold\">362</span>,   <span style=\"color: #008080; text-decoration-color: #008080; font-weight: bold\">365</span>,   <span style=\"color: #008080; text-decoration-color: #008080; font-weight: bold\">366</span>,\n",
       "         <span style=\"color: #008080; text-decoration-color: #008080; font-weight: bold\">370</span>,   <span style=\"color: #008080; text-decoration-color: #008080; font-weight: bold\">382</span>,   <span style=\"color: #008080; text-decoration-color: #008080; font-weight: bold\">414</span>,   <span style=\"color: #008080; text-decoration-color: #008080; font-weight: bold\">422</span>,   <span style=\"color: #008080; text-decoration-color: #008080; font-weight: bold\">423</span>,   <span style=\"color: #008080; text-decoration-color: #008080; font-weight: bold\">429</span>,   <span style=\"color: #008080; text-decoration-color: #008080; font-weight: bold\">437</span>,   <span style=\"color: #008080; text-decoration-color: #008080; font-weight: bold\">445</span>,   <span style=\"color: #008080; text-decoration-color: #008080; font-weight: bold\">451</span>,\n",
       "         <span style=\"color: #008080; text-decoration-color: #008080; font-weight: bold\">463</span>,   <span style=\"color: #008080; text-decoration-color: #008080; font-weight: bold\">475</span>,   <span style=\"color: #008080; text-decoration-color: #008080; font-weight: bold\">483</span>,   <span style=\"color: #008080; text-decoration-color: #008080; font-weight: bold\">491</span>,   <span style=\"color: #008080; text-decoration-color: #008080; font-weight: bold\">502</span>,   <span style=\"color: #008080; text-decoration-color: #008080; font-weight: bold\">507</span>,   <span style=\"color: #008080; text-decoration-color: #008080; font-weight: bold\">513</span>,   <span style=\"color: #008080; text-decoration-color: #008080; font-weight: bold\">515</span>,   <span style=\"color: #008080; text-decoration-color: #008080; font-weight: bold\">525</span>,\n",
       "         <span style=\"color: #008080; text-decoration-color: #008080; font-weight: bold\">538</span>,   <span style=\"color: #008080; text-decoration-color: #008080; font-weight: bold\">539</span>,   <span style=\"color: #008080; text-decoration-color: #008080; font-weight: bold\">557</span>,   <span style=\"color: #008080; text-decoration-color: #008080; font-weight: bold\">564</span>,   <span style=\"color: #008080; text-decoration-color: #008080; font-weight: bold\">566</span>,   <span style=\"color: #008080; text-decoration-color: #008080; font-weight: bold\">572</span>,   <span style=\"color: #008080; text-decoration-color: #008080; font-weight: bold\">575</span>,   <span style=\"color: #008080; text-decoration-color: #008080; font-weight: bold\">579</span>,   <span style=\"color: #008080; text-decoration-color: #008080; font-weight: bold\">581</span>,\n",
       "         <span style=\"color: #008080; text-decoration-color: #008080; font-weight: bold\">583</span>,   <span style=\"color: #008080; text-decoration-color: #008080; font-weight: bold\">587</span>,   <span style=\"color: #008080; text-decoration-color: #008080; font-weight: bold\">589</span>,   <span style=\"color: #008080; text-decoration-color: #008080; font-weight: bold\">595</span>,   <span style=\"color: #008080; text-decoration-color: #008080; font-weight: bold\">596</span>,   <span style=\"color: #008080; text-decoration-color: #008080; font-weight: bold\">599</span>,   <span style=\"color: #008080; text-decoration-color: #008080; font-weight: bold\">609</span>,   <span style=\"color: #008080; text-decoration-color: #008080; font-weight: bold\">612</span>,   <span style=\"color: #008080; text-decoration-color: #008080; font-weight: bold\">629</span>,\n",
       "         <span style=\"color: #008080; text-decoration-color: #008080; font-weight: bold\">632</span>,   <span style=\"color: #008080; text-decoration-color: #008080; font-weight: bold\">639</span>,   <span style=\"color: #008080; text-decoration-color: #008080; font-weight: bold\">642</span>,   <span style=\"color: #008080; text-decoration-color: #008080; font-weight: bold\">647</span>,   <span style=\"color: #008080; text-decoration-color: #008080; font-weight: bold\">651</span>,   <span style=\"color: #008080; text-decoration-color: #008080; font-weight: bold\">672</span>,   <span style=\"color: #008080; text-decoration-color: #008080; font-weight: bold\">685</span>,   <span style=\"color: #008080; text-decoration-color: #008080; font-weight: bold\">693</span>,   <span style=\"color: #008080; text-decoration-color: #008080; font-weight: bold\">711</span>,\n",
       "         <span style=\"color: #008080; text-decoration-color: #008080; font-weight: bold\">718</span>,   <span style=\"color: #008080; text-decoration-color: #008080; font-weight: bold\">725</span>,   <span style=\"color: #008080; text-decoration-color: #008080; font-weight: bold\">733</span>,   <span style=\"color: #008080; text-decoration-color: #008080; font-weight: bold\">741</span>,   <span style=\"color: #008080; text-decoration-color: #008080; font-weight: bold\">754</span>,   <span style=\"color: #008080; text-decoration-color: #008080; font-weight: bold\">780</span>,   <span style=\"color: #008080; text-decoration-color: #008080; font-weight: bold\">788</span>,   <span style=\"color: #008080; text-decoration-color: #008080; font-weight: bold\">809</span>,   <span style=\"color: #008080; text-decoration-color: #008080; font-weight: bold\">814</span>,\n",
       "         <span style=\"color: #008080; text-decoration-color: #008080; font-weight: bold\">843</span>,   <span style=\"color: #008080; text-decoration-color: #008080; font-weight: bold\">846</span>,   <span style=\"color: #008080; text-decoration-color: #008080; font-weight: bold\">867</span>,   <span style=\"color: #008080; text-decoration-color: #008080; font-weight: bold\">903</span>,   <span style=\"color: #008080; text-decoration-color: #008080; font-weight: bold\">907</span>,   <span style=\"color: #008080; text-decoration-color: #008080; font-weight: bold\">918</span>,   <span style=\"color: #008080; text-decoration-color: #008080; font-weight: bold\">920</span>,   <span style=\"color: #008080; text-decoration-color: #008080; font-weight: bold\">926</span>,   <span style=\"color: #008080; text-decoration-color: #008080; font-weight: bold\">928</span>,\n",
       "         <span style=\"color: #008080; text-decoration-color: #008080; font-weight: bold\">930</span>,   <span style=\"color: #008080; text-decoration-color: #008080; font-weight: bold\">936</span>,   <span style=\"color: #008080; text-decoration-color: #008080; font-weight: bold\">942</span>,   <span style=\"color: #008080; text-decoration-color: #008080; font-weight: bold\">944</span>,   <span style=\"color: #008080; text-decoration-color: #008080; font-weight: bold\">946</span>,   <span style=\"color: #008080; text-decoration-color: #008080; font-weight: bold\">951</span>,   <span style=\"color: #008080; text-decoration-color: #008080; font-weight: bold\">957</span>,   <span style=\"color: #008080; text-decoration-color: #008080; font-weight: bold\">961</span>,   <span style=\"color: #008080; text-decoration-color: #008080; font-weight: bold\">968</span>,\n",
       "         <span style=\"color: #008080; text-decoration-color: #008080; font-weight: bold\">980</span>,   <span style=\"color: #008080; text-decoration-color: #008080; font-weight: bold\">987</span>,   <span style=\"color: #008080; text-decoration-color: #008080; font-weight: bold\">989</span>,   <span style=\"color: #008080; text-decoration-color: #008080; font-weight: bold\">998</span>,  <span style=\"color: #008080; text-decoration-color: #008080; font-weight: bold\">1004</span>,  <span style=\"color: #008080; text-decoration-color: #008080; font-weight: bold\">1007</span>,  <span style=\"color: #008080; text-decoration-color: #008080; font-weight: bold\">1017</span>,  <span style=\"color: #008080; text-decoration-color: #008080; font-weight: bold\">1020</span>,  <span style=\"color: #008080; text-decoration-color: #008080; font-weight: bold\">1022</span>,\n",
       "        <span style=\"color: #008080; text-decoration-color: #008080; font-weight: bold\">1025</span>,  <span style=\"color: #008080; text-decoration-color: #008080; font-weight: bold\">1029</span>,  <span style=\"color: #008080; text-decoration-color: #008080; font-weight: bold\">1031</span>,  <span style=\"color: #008080; text-decoration-color: #008080; font-weight: bold\">1033</span>,  <span style=\"color: #008080; text-decoration-color: #008080; font-weight: bold\">1037</span>,  <span style=\"color: #008080; text-decoration-color: #008080; font-weight: bold\">1041</span>,  <span style=\"color: #008080; text-decoration-color: #008080; font-weight: bold\">1049</span>,  <span style=\"color: #008080; text-decoration-color: #008080; font-weight: bold\">1077</span>,  <span style=\"color: #008080; text-decoration-color: #008080; font-weight: bold\">1084</span>,\n",
       "        <span style=\"color: #008080; text-decoration-color: #008080; font-weight: bold\">1113</span>,  <span style=\"color: #008080; text-decoration-color: #008080; font-weight: bold\">1117</span>,  <span style=\"color: #008080; text-decoration-color: #008080; font-weight: bold\">1181</span>,  <span style=\"color: #008080; text-decoration-color: #008080; font-weight: bold\">1190</span>,  <span style=\"color: #008080; text-decoration-color: #008080; font-weight: bold\">1340</span>,  <span style=\"color: #008080; text-decoration-color: #008080; font-weight: bold\">1348</span>,  <span style=\"color: #008080; text-decoration-color: #008080; font-weight: bold\">1384</span>,  <span style=\"color: #008080; text-decoration-color: #008080; font-weight: bold\">1468</span>,  <span style=\"color: #008080; text-decoration-color: #008080; font-weight: bold\">1477</span>,\n",
       "       <span style=\"color: #008080; text-decoration-color: #008080; font-weight: bold\">10703</span>, <span style=\"color: #008080; text-decoration-color: #008080; font-weight: bold\">10704</span><span style=\"font-weight: bold\">]</span>, <span style=\"color: #808000; text-decoration-color: #808000\">dtype</span>=<span style=\"color: #800080; text-decoration-color: #800080\">uint32</span><span style=\"font-weight: bold\">)</span>\n",
       "</pre>\n"
      ],
      "text/plain": [
       "\u001b[1;35marray\u001b[0m\u001b[1m(\u001b[0m\u001b[1m[\u001b[0m    \u001b[1;36m7\u001b[0m,    \u001b[1;36m15\u001b[0m,    \u001b[1;36m27\u001b[0m,    \u001b[1;36m56\u001b[0m,    \u001b[1;36m59\u001b[0m,    \u001b[1;36m63\u001b[0m,    \u001b[1;36m64\u001b[0m,    \u001b[1;36m88\u001b[0m,    \u001b[1;36m91\u001b[0m,\n",
       "          \u001b[1;36m96\u001b[0m,   \u001b[1;36m101\u001b[0m,   \u001b[1;36m105\u001b[0m,   \u001b[1;36m114\u001b[0m,   \u001b[1;36m122\u001b[0m,   \u001b[1;36m127\u001b[0m,   \u001b[1;36m131\u001b[0m,   \u001b[1;36m141\u001b[0m,   \u001b[1;36m149\u001b[0m,\n",
       "         \u001b[1;36m155\u001b[0m,   \u001b[1;36m157\u001b[0m,   \u001b[1;36m159\u001b[0m,   \u001b[1;36m170\u001b[0m,   \u001b[1;36m178\u001b[0m,   \u001b[1;36m181\u001b[0m,   \u001b[1;36m186\u001b[0m,   \u001b[1;36m188\u001b[0m,   \u001b[1;36m196\u001b[0m,\n",
       "         \u001b[1;36m204\u001b[0m,   \u001b[1;36m210\u001b[0m,   \u001b[1;36m218\u001b[0m,   \u001b[1;36m250\u001b[0m,   \u001b[1;36m255\u001b[0m,   \u001b[1;36m258\u001b[0m,   \u001b[1;36m260\u001b[0m,   \u001b[1;36m262\u001b[0m,   \u001b[1;36m266\u001b[0m,\n",
       "         \u001b[1;36m278\u001b[0m,   \u001b[1;36m290\u001b[0m,   \u001b[1;36m298\u001b[0m,   \u001b[1;36m303\u001b[0m,   \u001b[1;36m310\u001b[0m,   \u001b[1;36m311\u001b[0m,   \u001b[1;36m319\u001b[0m,   \u001b[1;36m323\u001b[0m,   \u001b[1;36m325\u001b[0m,\n",
       "         \u001b[1;36m333\u001b[0m,   \u001b[1;36m339\u001b[0m,   \u001b[1;36m340\u001b[0m,   \u001b[1;36m342\u001b[0m,   \u001b[1;36m348\u001b[0m,   \u001b[1;36m349\u001b[0m,   \u001b[1;36m362\u001b[0m,   \u001b[1;36m365\u001b[0m,   \u001b[1;36m366\u001b[0m,\n",
       "         \u001b[1;36m370\u001b[0m,   \u001b[1;36m382\u001b[0m,   \u001b[1;36m414\u001b[0m,   \u001b[1;36m422\u001b[0m,   \u001b[1;36m423\u001b[0m,   \u001b[1;36m429\u001b[0m,   \u001b[1;36m437\u001b[0m,   \u001b[1;36m445\u001b[0m,   \u001b[1;36m451\u001b[0m,\n",
       "         \u001b[1;36m463\u001b[0m,   \u001b[1;36m475\u001b[0m,   \u001b[1;36m483\u001b[0m,   \u001b[1;36m491\u001b[0m,   \u001b[1;36m502\u001b[0m,   \u001b[1;36m507\u001b[0m,   \u001b[1;36m513\u001b[0m,   \u001b[1;36m515\u001b[0m,   \u001b[1;36m525\u001b[0m,\n",
       "         \u001b[1;36m538\u001b[0m,   \u001b[1;36m539\u001b[0m,   \u001b[1;36m557\u001b[0m,   \u001b[1;36m564\u001b[0m,   \u001b[1;36m566\u001b[0m,   \u001b[1;36m572\u001b[0m,   \u001b[1;36m575\u001b[0m,   \u001b[1;36m579\u001b[0m,   \u001b[1;36m581\u001b[0m,\n",
       "         \u001b[1;36m583\u001b[0m,   \u001b[1;36m587\u001b[0m,   \u001b[1;36m589\u001b[0m,   \u001b[1;36m595\u001b[0m,   \u001b[1;36m596\u001b[0m,   \u001b[1;36m599\u001b[0m,   \u001b[1;36m609\u001b[0m,   \u001b[1;36m612\u001b[0m,   \u001b[1;36m629\u001b[0m,\n",
       "         \u001b[1;36m632\u001b[0m,   \u001b[1;36m639\u001b[0m,   \u001b[1;36m642\u001b[0m,   \u001b[1;36m647\u001b[0m,   \u001b[1;36m651\u001b[0m,   \u001b[1;36m672\u001b[0m,   \u001b[1;36m685\u001b[0m,   \u001b[1;36m693\u001b[0m,   \u001b[1;36m711\u001b[0m,\n",
       "         \u001b[1;36m718\u001b[0m,   \u001b[1;36m725\u001b[0m,   \u001b[1;36m733\u001b[0m,   \u001b[1;36m741\u001b[0m,   \u001b[1;36m754\u001b[0m,   \u001b[1;36m780\u001b[0m,   \u001b[1;36m788\u001b[0m,   \u001b[1;36m809\u001b[0m,   \u001b[1;36m814\u001b[0m,\n",
       "         \u001b[1;36m843\u001b[0m,   \u001b[1;36m846\u001b[0m,   \u001b[1;36m867\u001b[0m,   \u001b[1;36m903\u001b[0m,   \u001b[1;36m907\u001b[0m,   \u001b[1;36m918\u001b[0m,   \u001b[1;36m920\u001b[0m,   \u001b[1;36m926\u001b[0m,   \u001b[1;36m928\u001b[0m,\n",
       "         \u001b[1;36m930\u001b[0m,   \u001b[1;36m936\u001b[0m,   \u001b[1;36m942\u001b[0m,   \u001b[1;36m944\u001b[0m,   \u001b[1;36m946\u001b[0m,   \u001b[1;36m951\u001b[0m,   \u001b[1;36m957\u001b[0m,   \u001b[1;36m961\u001b[0m,   \u001b[1;36m968\u001b[0m,\n",
       "         \u001b[1;36m980\u001b[0m,   \u001b[1;36m987\u001b[0m,   \u001b[1;36m989\u001b[0m,   \u001b[1;36m998\u001b[0m,  \u001b[1;36m1004\u001b[0m,  \u001b[1;36m1007\u001b[0m,  \u001b[1;36m1017\u001b[0m,  \u001b[1;36m1020\u001b[0m,  \u001b[1;36m1022\u001b[0m,\n",
       "        \u001b[1;36m1025\u001b[0m,  \u001b[1;36m1029\u001b[0m,  \u001b[1;36m1031\u001b[0m,  \u001b[1;36m1033\u001b[0m,  \u001b[1;36m1037\u001b[0m,  \u001b[1;36m1041\u001b[0m,  \u001b[1;36m1049\u001b[0m,  \u001b[1;36m1077\u001b[0m,  \u001b[1;36m1084\u001b[0m,\n",
       "        \u001b[1;36m1113\u001b[0m,  \u001b[1;36m1117\u001b[0m,  \u001b[1;36m1181\u001b[0m,  \u001b[1;36m1190\u001b[0m,  \u001b[1;36m1340\u001b[0m,  \u001b[1;36m1348\u001b[0m,  \u001b[1;36m1384\u001b[0m,  \u001b[1;36m1468\u001b[0m,  \u001b[1;36m1477\u001b[0m,\n",
       "       \u001b[1;36m10703\u001b[0m, \u001b[1;36m10704\u001b[0m\u001b[1m]\u001b[0m, \u001b[33mdtype\u001b[0m=\u001b[35muint32\u001b[0m\u001b[1m)\u001b[0m\n"
      ]
     },
     "metadata": {},
     "output_type": "display_data"
    }
   ],
   "source": [
    "subcortex"
   ]
  },
  {
   "cell_type": "code",
   "execution_count": null,
   "id": "16459e71",
   "metadata": {},
   "outputs": [],
   "source": []
  },
  {
   "cell_type": "code",
   "execution_count": 36,
   "id": "a1c8a211",
   "metadata": {},
   "outputs": [
    {
     "data": {
      "text/html": [
       "<pre style=\"white-space:pre;overflow-x:auto;line-height:normal;font-family:Menlo,'DejaVu Sans Mono',consolas,'Courier New',monospace\"><span style=\"color: #008080; text-decoration-color: #008080; font-weight: bold\">2604</span>\n",
       "</pre>\n"
      ],
      "text/plain": [
       "\u001b[1;36m2604\u001b[0m\n"
      ]
     },
     "metadata": {},
     "output_type": "display_data"
    }
   ],
   "source": [
    "xx = 'Symmetric_N162_space-indiv3d_cortex.nii.gz'\n",
    "xx = ants.image_read(xx, pixeltype='unsigned int').numpy()\n",
    "x = np.unique(xx[xx.nonzero()])\n",
    "len(x)"
   ]
  },
  {
   "cell_type": "code",
   "execution_count": 37,
   "id": "f16e20b0",
   "metadata": {},
   "outputs": [
    {
     "data": {
      "text/html": [
       "<pre style=\"white-space:pre;overflow-x:auto;line-height:normal;font-family:Menlo,'DejaVu Sans Mono',consolas,'Courier New',monospace\"><span style=\"color: #800080; text-decoration-color: #800080; font-weight: bold\">array</span><span style=\"font-weight: bold\">([</span>   <span style=\"color: #008080; text-decoration-color: #008080; font-weight: bold\">1</span>,    <span style=\"color: #008080; text-decoration-color: #008080; font-weight: bold\">2</span>,    <span style=\"color: #008080; text-decoration-color: #008080; font-weight: bold\">3</span>, <span style=\"color: #808000; text-decoration-color: #808000\">...</span>, <span style=\"color: #008080; text-decoration-color: #008080; font-weight: bold\">3062</span>, <span style=\"color: #008080; text-decoration-color: #008080; font-weight: bold\">3064</span>, <span style=\"color: #008080; text-decoration-color: #008080; font-weight: bold\">3067</span><span style=\"font-weight: bold\">]</span>, <span style=\"color: #808000; text-decoration-color: #808000\">dtype</span>=<span style=\"color: #800080; text-decoration-color: #800080\">uint32</span><span style=\"font-weight: bold\">)</span>\n",
       "</pre>\n"
      ],
      "text/plain": [
       "\u001b[1;35marray\u001b[0m\u001b[1m(\u001b[0m\u001b[1m[\u001b[0m   \u001b[1;36m1\u001b[0m,    \u001b[1;36m2\u001b[0m,    \u001b[1;36m3\u001b[0m, \u001b[33m...\u001b[0m, \u001b[1;36m3062\u001b[0m, \u001b[1;36m3064\u001b[0m, \u001b[1;36m3067\u001b[0m\u001b[1m]\u001b[0m, \u001b[33mdtype\u001b[0m=\u001b[35muint32\u001b[0m\u001b[1m)\u001b[0m\n"
      ]
     },
     "metadata": {},
     "output_type": "display_data"
    }
   ],
   "source": [
    "x"
   ]
  },
  {
   "cell_type": "code",
   "execution_count": 38,
   "id": "5ad27cba",
   "metadata": {},
   "outputs": [],
   "source": [
    "pd.DataFrame({'id': x}).to_csv('cortex.csv')"
   ]
  },
  {
   "cell_type": "code",
   "execution_count": 40,
   "id": "77c6dfbe",
   "metadata": {},
   "outputs": [
    {
     "data": {
      "text/html": [
       "<pre style=\"white-space:pre;overflow-x:auto;line-height:normal;font-family:Menlo,'DejaVu Sans Mono',consolas,'Courier New',monospace\"><span style=\"font-weight: bold\">&lt;</span><span style=\"color: #ff00ff; text-decoration-color: #ff00ff; font-weight: bold\">matplotlib.image.AxesImage</span><span style=\"color: #000000; text-decoration-color: #000000\"> object at </span><span style=\"color: #008080; text-decoration-color: #008080; font-weight: bold\">0x7f8997ac2a90</span><span style=\"font-weight: bold\">&gt;</span>\n",
       "</pre>\n"
      ],
      "text/plain": [
       "\u001b[1m<\u001b[0m\u001b[1;95mmatplotlib.image.AxesImage\u001b[0m\u001b[39m object at \u001b[0m\u001b[1;36m0x7f8997ac2a90\u001b[0m\u001b[1m>\u001b[0m\n"
      ]
     },
     "metadata": {},
     "output_type": "display_data"
    },
    {
     "data": {
      "image/png": "[encoded data removed]"
     },
     "metadata": {},
     "output_type": "display_data"
    }
   ],
   "source": [
    "plt.imshow(xx[:, :, 50].T, cmap='Spectral')"
   ]
  },
  {
   "cell_type": "code",
   "execution_count": null,
   "id": "4fd17ad2",
   "metadata": {},
   "outputs": [],
   "source": []
  },
  {
   "cell_type": "code",
   "execution_count": 41,
   "id": "74dc776c",
   "metadata": {},
   "outputs": [
    {
     "data": {
      "text/html": [
       "<pre style=\"white-space:pre;overflow-x:auto;line-height:normal;font-family:Menlo,'DejaVu Sans Mono',consolas,'Courier New',monospace\"><span style=\"color: #008080; text-decoration-color: #008080; font-weight: bold\">153</span>\n",
       "</pre>\n"
      ],
      "text/plain": [
       "\u001b[1;36m153\u001b[0m\n"
      ]
     },
     "metadata": {},
     "output_type": "display_data"
    }
   ],
   "source": [
    "xx = 'Symmetric_N162_space-indiv3d_subcortex-l.nii.gz'\n",
    "xx = ants.image_read(xx, pixeltype='unsigned int').numpy()\n",
    "x = np.unique(xx[xx.nonzero()])\n",
    "len(x)"
   ]
  },
  {
   "cell_type": "code",
   "execution_count": 42,
   "id": "c30d8cd2",
   "metadata": {},
   "outputs": [
    {
     "data": {
      "text/html": [
       "<pre style=\"white-space:pre;overflow-x:auto;line-height:normal;font-family:Menlo,'DejaVu Sans Mono',consolas,'Courier New',monospace\"><span style=\"color: #800080; text-decoration-color: #800080; font-weight: bold\">array</span><span style=\"font-weight: bold\">([</span>    <span style=\"color: #008080; text-decoration-color: #008080; font-weight: bold\">7</span>,    <span style=\"color: #008080; text-decoration-color: #008080; font-weight: bold\">15</span>,    <span style=\"color: #008080; text-decoration-color: #008080; font-weight: bold\">27</span>,    <span style=\"color: #008080; text-decoration-color: #008080; font-weight: bold\">56</span>,    <span style=\"color: #008080; text-decoration-color: #008080; font-weight: bold\">59</span>,    <span style=\"color: #008080; text-decoration-color: #008080; font-weight: bold\">63</span>,    <span style=\"color: #008080; text-decoration-color: #008080; font-weight: bold\">64</span>,    <span style=\"color: #008080; text-decoration-color: #008080; font-weight: bold\">88</span>,    <span style=\"color: #008080; text-decoration-color: #008080; font-weight: bold\">91</span>,\n",
       "          <span style=\"color: #008080; text-decoration-color: #008080; font-weight: bold\">96</span>,   <span style=\"color: #008080; text-decoration-color: #008080; font-weight: bold\">101</span>,   <span style=\"color: #008080; text-decoration-color: #008080; font-weight: bold\">105</span>,   <span style=\"color: #008080; text-decoration-color: #008080; font-weight: bold\">114</span>,   <span style=\"color: #008080; text-decoration-color: #008080; font-weight: bold\">122</span>,   <span style=\"color: #008080; text-decoration-color: #008080; font-weight: bold\">127</span>,   <span style=\"color: #008080; text-decoration-color: #008080; font-weight: bold\">131</span>,   <span style=\"color: #008080; text-decoration-color: #008080; font-weight: bold\">141</span>,   <span style=\"color: #008080; text-decoration-color: #008080; font-weight: bold\">149</span>,\n",
       "         <span style=\"color: #008080; text-decoration-color: #008080; font-weight: bold\">155</span>,   <span style=\"color: #008080; text-decoration-color: #008080; font-weight: bold\">157</span>,   <span style=\"color: #008080; text-decoration-color: #008080; font-weight: bold\">159</span>,   <span style=\"color: #008080; text-decoration-color: #008080; font-weight: bold\">170</span>,   <span style=\"color: #008080; text-decoration-color: #008080; font-weight: bold\">178</span>,   <span style=\"color: #008080; text-decoration-color: #008080; font-weight: bold\">181</span>,   <span style=\"color: #008080; text-decoration-color: #008080; font-weight: bold\">186</span>,   <span style=\"color: #008080; text-decoration-color: #008080; font-weight: bold\">188</span>,   <span style=\"color: #008080; text-decoration-color: #008080; font-weight: bold\">196</span>,\n",
       "         <span style=\"color: #008080; text-decoration-color: #008080; font-weight: bold\">204</span>,   <span style=\"color: #008080; text-decoration-color: #008080; font-weight: bold\">210</span>,   <span style=\"color: #008080; text-decoration-color: #008080; font-weight: bold\">218</span>,   <span style=\"color: #008080; text-decoration-color: #008080; font-weight: bold\">250</span>,   <span style=\"color: #008080; text-decoration-color: #008080; font-weight: bold\">255</span>,   <span style=\"color: #008080; text-decoration-color: #008080; font-weight: bold\">258</span>,   <span style=\"color: #008080; text-decoration-color: #008080; font-weight: bold\">260</span>,   <span style=\"color: #008080; text-decoration-color: #008080; font-weight: bold\">262</span>,   <span style=\"color: #008080; text-decoration-color: #008080; font-weight: bold\">266</span>,\n",
       "         <span style=\"color: #008080; text-decoration-color: #008080; font-weight: bold\">278</span>,   <span style=\"color: #008080; text-decoration-color: #008080; font-weight: bold\">290</span>,   <span style=\"color: #008080; text-decoration-color: #008080; font-weight: bold\">298</span>,   <span style=\"color: #008080; text-decoration-color: #008080; font-weight: bold\">303</span>,   <span style=\"color: #008080; text-decoration-color: #008080; font-weight: bold\">310</span>,   <span style=\"color: #008080; text-decoration-color: #008080; font-weight: bold\">311</span>,   <span style=\"color: #008080; text-decoration-color: #008080; font-weight: bold\">319</span>,   <span style=\"color: #008080; text-decoration-color: #008080; font-weight: bold\">323</span>,   <span style=\"color: #008080; text-decoration-color: #008080; font-weight: bold\">325</span>,\n",
       "         <span style=\"color: #008080; text-decoration-color: #008080; font-weight: bold\">333</span>,   <span style=\"color: #008080; text-decoration-color: #008080; font-weight: bold\">339</span>,   <span style=\"color: #008080; text-decoration-color: #008080; font-weight: bold\">340</span>,   <span style=\"color: #008080; text-decoration-color: #008080; font-weight: bold\">342</span>,   <span style=\"color: #008080; text-decoration-color: #008080; font-weight: bold\">348</span>,   <span style=\"color: #008080; text-decoration-color: #008080; font-weight: bold\">349</span>,   <span style=\"color: #008080; text-decoration-color: #008080; font-weight: bold\">362</span>,   <span style=\"color: #008080; text-decoration-color: #008080; font-weight: bold\">366</span>,   <span style=\"color: #008080; text-decoration-color: #008080; font-weight: bold\">370</span>,\n",
       "         <span style=\"color: #008080; text-decoration-color: #008080; font-weight: bold\">382</span>,   <span style=\"color: #008080; text-decoration-color: #008080; font-weight: bold\">414</span>,   <span style=\"color: #008080; text-decoration-color: #008080; font-weight: bold\">422</span>,   <span style=\"color: #008080; text-decoration-color: #008080; font-weight: bold\">429</span>,   <span style=\"color: #008080; text-decoration-color: #008080; font-weight: bold\">437</span>,   <span style=\"color: #008080; text-decoration-color: #008080; font-weight: bold\">445</span>,   <span style=\"color: #008080; text-decoration-color: #008080; font-weight: bold\">451</span>,   <span style=\"color: #008080; text-decoration-color: #008080; font-weight: bold\">463</span>,   <span style=\"color: #008080; text-decoration-color: #008080; font-weight: bold\">475</span>,\n",
       "         <span style=\"color: #008080; text-decoration-color: #008080; font-weight: bold\">483</span>,   <span style=\"color: #008080; text-decoration-color: #008080; font-weight: bold\">491</span>,   <span style=\"color: #008080; text-decoration-color: #008080; font-weight: bold\">502</span>,   <span style=\"color: #008080; text-decoration-color: #008080; font-weight: bold\">507</span>,   <span style=\"color: #008080; text-decoration-color: #008080; font-weight: bold\">513</span>,   <span style=\"color: #008080; text-decoration-color: #008080; font-weight: bold\">515</span>,   <span style=\"color: #008080; text-decoration-color: #008080; font-weight: bold\">525</span>,   <span style=\"color: #008080; text-decoration-color: #008080; font-weight: bold\">538</span>,   <span style=\"color: #008080; text-decoration-color: #008080; font-weight: bold\">539</span>,\n",
       "         <span style=\"color: #008080; text-decoration-color: #008080; font-weight: bold\">557</span>,   <span style=\"color: #008080; text-decoration-color: #008080; font-weight: bold\">564</span>,   <span style=\"color: #008080; text-decoration-color: #008080; font-weight: bold\">566</span>,   <span style=\"color: #008080; text-decoration-color: #008080; font-weight: bold\">572</span>,   <span style=\"color: #008080; text-decoration-color: #008080; font-weight: bold\">575</span>,   <span style=\"color: #008080; text-decoration-color: #008080; font-weight: bold\">579</span>,   <span style=\"color: #008080; text-decoration-color: #008080; font-weight: bold\">581</span>,   <span style=\"color: #008080; text-decoration-color: #008080; font-weight: bold\">583</span>,   <span style=\"color: #008080; text-decoration-color: #008080; font-weight: bold\">587</span>,\n",
       "         <span style=\"color: #008080; text-decoration-color: #008080; font-weight: bold\">589</span>,   <span style=\"color: #008080; text-decoration-color: #008080; font-weight: bold\">595</span>,   <span style=\"color: #008080; text-decoration-color: #008080; font-weight: bold\">596</span>,   <span style=\"color: #008080; text-decoration-color: #008080; font-weight: bold\">599</span>,   <span style=\"color: #008080; text-decoration-color: #008080; font-weight: bold\">609</span>,   <span style=\"color: #008080; text-decoration-color: #008080; font-weight: bold\">612</span>,   <span style=\"color: #008080; text-decoration-color: #008080; font-weight: bold\">629</span>,   <span style=\"color: #008080; text-decoration-color: #008080; font-weight: bold\">632</span>,   <span style=\"color: #008080; text-decoration-color: #008080; font-weight: bold\">639</span>,\n",
       "         <span style=\"color: #008080; text-decoration-color: #008080; font-weight: bold\">642</span>,   <span style=\"color: #008080; text-decoration-color: #008080; font-weight: bold\">647</span>,   <span style=\"color: #008080; text-decoration-color: #008080; font-weight: bold\">651</span>,   <span style=\"color: #008080; text-decoration-color: #008080; font-weight: bold\">672</span>,   <span style=\"color: #008080; text-decoration-color: #008080; font-weight: bold\">685</span>,   <span style=\"color: #008080; text-decoration-color: #008080; font-weight: bold\">693</span>,   <span style=\"color: #008080; text-decoration-color: #008080; font-weight: bold\">711</span>,   <span style=\"color: #008080; text-decoration-color: #008080; font-weight: bold\">718</span>,   <span style=\"color: #008080; text-decoration-color: #008080; font-weight: bold\">725</span>,\n",
       "         <span style=\"color: #008080; text-decoration-color: #008080; font-weight: bold\">733</span>,   <span style=\"color: #008080; text-decoration-color: #008080; font-weight: bold\">741</span>,   <span style=\"color: #008080; text-decoration-color: #008080; font-weight: bold\">754</span>,   <span style=\"color: #008080; text-decoration-color: #008080; font-weight: bold\">780</span>,   <span style=\"color: #008080; text-decoration-color: #008080; font-weight: bold\">788</span>,   <span style=\"color: #008080; text-decoration-color: #008080; font-weight: bold\">809</span>,   <span style=\"color: #008080; text-decoration-color: #008080; font-weight: bold\">814</span>,   <span style=\"color: #008080; text-decoration-color: #008080; font-weight: bold\">843</span>,   <span style=\"color: #008080; text-decoration-color: #008080; font-weight: bold\">846</span>,\n",
       "         <span style=\"color: #008080; text-decoration-color: #008080; font-weight: bold\">867</span>,   <span style=\"color: #008080; text-decoration-color: #008080; font-weight: bold\">903</span>,   <span style=\"color: #008080; text-decoration-color: #008080; font-weight: bold\">907</span>,   <span style=\"color: #008080; text-decoration-color: #008080; font-weight: bold\">918</span>,   <span style=\"color: #008080; text-decoration-color: #008080; font-weight: bold\">920</span>,   <span style=\"color: #008080; text-decoration-color: #008080; font-weight: bold\">926</span>,   <span style=\"color: #008080; text-decoration-color: #008080; font-weight: bold\">928</span>,   <span style=\"color: #008080; text-decoration-color: #008080; font-weight: bold\">930</span>,   <span style=\"color: #008080; text-decoration-color: #008080; font-weight: bold\">936</span>,\n",
       "         <span style=\"color: #008080; text-decoration-color: #008080; font-weight: bold\">942</span>,   <span style=\"color: #008080; text-decoration-color: #008080; font-weight: bold\">944</span>,   <span style=\"color: #008080; text-decoration-color: #008080; font-weight: bold\">946</span>,   <span style=\"color: #008080; text-decoration-color: #008080; font-weight: bold\">951</span>,   <span style=\"color: #008080; text-decoration-color: #008080; font-weight: bold\">957</span>,   <span style=\"color: #008080; text-decoration-color: #008080; font-weight: bold\">961</span>,   <span style=\"color: #008080; text-decoration-color: #008080; font-weight: bold\">968</span>,   <span style=\"color: #008080; text-decoration-color: #008080; font-weight: bold\">980</span>,   <span style=\"color: #008080; text-decoration-color: #008080; font-weight: bold\">987</span>,\n",
       "         <span style=\"color: #008080; text-decoration-color: #008080; font-weight: bold\">989</span>,   <span style=\"color: #008080; text-decoration-color: #008080; font-weight: bold\">998</span>,  <span style=\"color: #008080; text-decoration-color: #008080; font-weight: bold\">1004</span>,  <span style=\"color: #008080; text-decoration-color: #008080; font-weight: bold\">1007</span>,  <span style=\"color: #008080; text-decoration-color: #008080; font-weight: bold\">1017</span>,  <span style=\"color: #008080; text-decoration-color: #008080; font-weight: bold\">1020</span>,  <span style=\"color: #008080; text-decoration-color: #008080; font-weight: bold\">1022</span>,  <span style=\"color: #008080; text-decoration-color: #008080; font-weight: bold\">1025</span>,  <span style=\"color: #008080; text-decoration-color: #008080; font-weight: bold\">1029</span>,\n",
       "        <span style=\"color: #008080; text-decoration-color: #008080; font-weight: bold\">1031</span>,  <span style=\"color: #008080; text-decoration-color: #008080; font-weight: bold\">1033</span>,  <span style=\"color: #008080; text-decoration-color: #008080; font-weight: bold\">1037</span>,  <span style=\"color: #008080; text-decoration-color: #008080; font-weight: bold\">1041</span>,  <span style=\"color: #008080; text-decoration-color: #008080; font-weight: bold\">1049</span>,  <span style=\"color: #008080; text-decoration-color: #008080; font-weight: bold\">1077</span>,  <span style=\"color: #008080; text-decoration-color: #008080; font-weight: bold\">1084</span>,  <span style=\"color: #008080; text-decoration-color: #008080; font-weight: bold\">1113</span>,  <span style=\"color: #008080; text-decoration-color: #008080; font-weight: bold\">1117</span>,\n",
       "        <span style=\"color: #008080; text-decoration-color: #008080; font-weight: bold\">1181</span>,  <span style=\"color: #008080; text-decoration-color: #008080; font-weight: bold\">1190</span>,  <span style=\"color: #008080; text-decoration-color: #008080; font-weight: bold\">1340</span>,  <span style=\"color: #008080; text-decoration-color: #008080; font-weight: bold\">1348</span>,  <span style=\"color: #008080; text-decoration-color: #008080; font-weight: bold\">1384</span>,  <span style=\"color: #008080; text-decoration-color: #008080; font-weight: bold\">1468</span>,  <span style=\"color: #008080; text-decoration-color: #008080; font-weight: bold\">1477</span>, <span style=\"color: #008080; text-decoration-color: #008080; font-weight: bold\">10703</span>, <span style=\"color: #008080; text-decoration-color: #008080; font-weight: bold\">10704</span><span style=\"font-weight: bold\">]</span>,\n",
       "      <span style=\"color: #808000; text-decoration-color: #808000\">dtype</span>=<span style=\"color: #800080; text-decoration-color: #800080\">uint32</span><span style=\"font-weight: bold\">)</span>\n",
       "</pre>\n"
      ],
      "text/plain": [
       "\u001b[1;35marray\u001b[0m\u001b[1m(\u001b[0m\u001b[1m[\u001b[0m    \u001b[1;36m7\u001b[0m,    \u001b[1;36m15\u001b[0m,    \u001b[1;36m27\u001b[0m,    \u001b[1;36m56\u001b[0m,    \u001b[1;36m59\u001b[0m,    \u001b[1;36m63\u001b[0m,    \u001b[1;36m64\u001b[0m,    \u001b[1;36m88\u001b[0m,    \u001b[1;36m91\u001b[0m,\n",
       "          \u001b[1;36m96\u001b[0m,   \u001b[1;36m101\u001b[0m,   \u001b[1;36m105\u001b[0m,   \u001b[1;36m114\u001b[0m,   \u001b[1;36m122\u001b[0m,   \u001b[1;36m127\u001b[0m,   \u001b[1;36m131\u001b[0m,   \u001b[1;36m141\u001b[0m,   \u001b[1;36m149\u001b[0m,\n",
       "         \u001b[1;36m155\u001b[0m,   \u001b[1;36m157\u001b[0m,   \u001b[1;36m159\u001b[0m,   \u001b[1;36m170\u001b[0m,   \u001b[1;36m178\u001b[0m,   \u001b[1;36m181\u001b[0m,   \u001b[1;36m186\u001b[0m,   \u001b[1;36m188\u001b[0m,   \u001b[1;36m196\u001b[0m,\n",
       "         \u001b[1;36m204\u001b[0m,   \u001b[1;36m210\u001b[0m,   \u001b[1;36m218\u001b[0m,   \u001b[1;36m250\u001b[0m,   \u001b[1;36m255\u001b[0m,   \u001b[1;36m258\u001b[0m,   \u001b[1;36m260\u001b[0m,   \u001b[1;36m262\u001b[0m,   \u001b[1;36m266\u001b[0m,\n",
       "         \u001b[1;36m278\u001b[0m,   \u001b[1;36m290\u001b[0m,   \u001b[1;36m298\u001b[0m,   \u001b[1;36m303\u001b[0m,   \u001b[1;36m310\u001b[0m,   \u001b[1;36m311\u001b[0m,   \u001b[1;36m319\u001b[0m,   \u001b[1;36m323\u001b[0m,   \u001b[1;36m325\u001b[0m,\n",
       "         \u001b[1;36m333\u001b[0m,   \u001b[1;36m339\u001b[0m,   \u001b[1;36m340\u001b[0m,   \u001b[1;36m342\u001b[0m,   \u001b[1;36m348\u001b[0m,   \u001b[1;36m349\u001b[0m,   \u001b[1;36m362\u001b[0m,   \u001b[1;36m366\u001b[0m,   \u001b[1;36m370\u001b[0m,\n",
       "         \u001b[1;36m382\u001b[0m,   \u001b[1;36m414\u001b[0m,   \u001b[1;36m422\u001b[0m,   \u001b[1;36m429\u001b[0m,   \u001b[1;36m437\u001b[0m,   \u001b[1;36m445\u001b[0m,   \u001b[1;36m451\u001b[0m,   \u001b[1;36m463\u001b[0m,   \u001b[1;36m475\u001b[0m,\n",
       "         \u001b[1;36m483\u001b[0m,   \u001b[1;36m491\u001b[0m,   \u001b[1;36m502\u001b[0m,   \u001b[1;36m507\u001b[0m,   \u001b[1;36m513\u001b[0m,   \u001b[1;36m515\u001b[0m,   \u001b[1;36m525\u001b[0m,   \u001b[1;36m538\u001b[0m,   \u001b[1;36m539\u001b[0m,\n",
       "         \u001b[1;36m557\u001b[0m,   \u001b[1;36m564\u001b[0m,   \u001b[1;36m566\u001b[0m,   \u001b[1;36m572\u001b[0m,   \u001b[1;36m575\u001b[0m,   \u001b[1;36m579\u001b[0m,   \u001b[1;36m581\u001b[0m,   \u001b[1;36m583\u001b[0m,   \u001b[1;36m587\u001b[0m,\n",
       "         \u001b[1;36m589\u001b[0m,   \u001b[1;36m595\u001b[0m,   \u001b[1;36m596\u001b[0m,   \u001b[1;36m599\u001b[0m,   \u001b[1;36m609\u001b[0m,   \u001b[1;36m612\u001b[0m,   \u001b[1;36m629\u001b[0m,   \u001b[1;36m632\u001b[0m,   \u001b[1;36m639\u001b[0m,\n",
       "         \u001b[1;36m642\u001b[0m,   \u001b[1;36m647\u001b[0m,   \u001b[1;36m651\u001b[0m,   \u001b[1;36m672\u001b[0m,   \u001b[1;36m685\u001b[0m,   \u001b[1;36m693\u001b[0m,   \u001b[1;36m711\u001b[0m,   \u001b[1;36m718\u001b[0m,   \u001b[1;36m725\u001b[0m,\n",
       "         \u001b[1;36m733\u001b[0m,   \u001b[1;36m741\u001b[0m,   \u001b[1;36m754\u001b[0m,   \u001b[1;36m780\u001b[0m,   \u001b[1;36m788\u001b[0m,   \u001b[1;36m809\u001b[0m,   \u001b[1;36m814\u001b[0m,   \u001b[1;36m843\u001b[0m,   \u001b[1;36m846\u001b[0m,\n",
       "         \u001b[1;36m867\u001b[0m,   \u001b[1;36m903\u001b[0m,   \u001b[1;36m907\u001b[0m,   \u001b[1;36m918\u001b[0m,   \u001b[1;36m920\u001b[0m,   \u001b[1;36m926\u001b[0m,   \u001b[1;36m928\u001b[0m,   \u001b[1;36m930\u001b[0m,   \u001b[1;36m936\u001b[0m,\n",
       "         \u001b[1;36m942\u001b[0m,   \u001b[1;36m944\u001b[0m,   \u001b[1;36m946\u001b[0m,   \u001b[1;36m951\u001b[0m,   \u001b[1;36m957\u001b[0m,   \u001b[1;36m961\u001b[0m,   \u001b[1;36m968\u001b[0m,   \u001b[1;36m980\u001b[0m,   \u001b[1;36m987\u001b[0m,\n",
       "         \u001b[1;36m989\u001b[0m,   \u001b[1;36m998\u001b[0m,  \u001b[1;36m1004\u001b[0m,  \u001b[1;36m1007\u001b[0m,  \u001b[1;36m1017\u001b[0m,  \u001b[1;36m1020\u001b[0m,  \u001b[1;36m1022\u001b[0m,  \u001b[1;36m1025\u001b[0m,  \u001b[1;36m1029\u001b[0m,\n",
       "        \u001b[1;36m1031\u001b[0m,  \u001b[1;36m1033\u001b[0m,  \u001b[1;36m1037\u001b[0m,  \u001b[1;36m1041\u001b[0m,  \u001b[1;36m1049\u001b[0m,  \u001b[1;36m1077\u001b[0m,  \u001b[1;36m1084\u001b[0m,  \u001b[1;36m1113\u001b[0m,  \u001b[1;36m1117\u001b[0m,\n",
       "        \u001b[1;36m1181\u001b[0m,  \u001b[1;36m1190\u001b[0m,  \u001b[1;36m1340\u001b[0m,  \u001b[1;36m1348\u001b[0m,  \u001b[1;36m1384\u001b[0m,  \u001b[1;36m1468\u001b[0m,  \u001b[1;36m1477\u001b[0m, \u001b[1;36m10703\u001b[0m, \u001b[1;36m10704\u001b[0m\u001b[1m]\u001b[0m,\n",
       "      \u001b[33mdtype\u001b[0m=\u001b[35muint32\u001b[0m\u001b[1m)\u001b[0m\n"
      ]
     },
     "metadata": {},
     "output_type": "display_data"
    }
   ],
   "source": [
    "x"
   ]
  },
  {
   "cell_type": "code",
   "execution_count": 43,
   "id": "f40655ba",
   "metadata": {},
   "outputs": [],
   "source": [
    "pd.DataFrame({'id': x}).to_csv('subcortex.csv')"
   ]
  },
  {
   "cell_type": "code",
   "execution_count": 44,
   "id": "9401091b",
   "metadata": {},
   "outputs": [
    {
     "data": {
      "text/html": [
       "<pre style=\"white-space:pre;overflow-x:auto;line-height:normal;font-family:Menlo,'DejaVu Sans Mono',consolas,'Courier New',monospace\"><span style=\"font-weight: bold\">&lt;</span><span style=\"color: #ff00ff; text-decoration-color: #ff00ff; font-weight: bold\">matplotlib.image.AxesImage</span><span style=\"color: #000000; text-decoration-color: #000000\"> object at </span><span style=\"color: #008080; text-decoration-color: #008080; font-weight: bold\">0x7f89978dbee0</span><span style=\"font-weight: bold\">&gt;</span>\n",
       "</pre>\n"
      ],
      "text/plain": [
       "\u001b[1m<\u001b[0m\u001b[1;95mmatplotlib.image.AxesImage\u001b[0m\u001b[39m object at \u001b[0m\u001b[1;36m0x7f89978dbee0\u001b[0m\u001b[1m>\u001b[0m\n"
      ]
     },
     "metadata": {},
     "output_type": "display_data"
    },
    {
     "data": {
      "image/png": "[encoded data removed]"
     },
     "metadata": {},
     "output_type": "display_data"
    }
   ],
   "source": [
    "plt.imshow(xx[:, :, 50].T, cmap='Spectral')"
   ]
  },
  {
   "cell_type": "code",
   "execution_count": null,
   "id": "d66d57fe",
   "metadata": {},
   "outputs": [],
   "source": []
  },
  {
   "cell_type": "code",
   "execution_count": null,
   "id": "ccf5c7f4",
   "metadata": {},
   "outputs": [],
   "source": []
  },
  {
   "cell_type": "code",
   "execution_count": 11,
   "id": "cc4b7c52",
   "metadata": {},
   "outputs": [],
   "source": [
    "pd.DataFrame({'id': cortex}).to_csv('cortex.csv')\n",
    "pd.DataFrame({'id': subcortex}).to_csv('subcortex.csv')"
   ]
  },
  {
   "cell_type": "code",
   "execution_count": null,
   "id": "db566c81",
   "metadata": {},
   "outputs": [],
   "source": []
  },
  {
   "cell_type": "code",
   "execution_count": 8,
   "id": "be9787e7",
   "metadata": {},
   "outputs": [
    {
     "data": {
      "text/html": [
       "<pre style=\"white-space:pre;overflow-x:auto;line-height:normal;font-family:Menlo,'DejaVu Sans Mono',consolas,'Courier New',monospace\"><span style=\"color: #800080; text-decoration-color: #800080; font-weight: bold\">array</span><span style=\"font-weight: bold\">([</span>    <span style=\"color: #008080; text-decoration-color: #008080; font-weight: bold\">7</span>,    <span style=\"color: #008080; text-decoration-color: #008080; font-weight: bold\">15</span>,    <span style=\"color: #008080; text-decoration-color: #008080; font-weight: bold\">27</span>,    <span style=\"color: #008080; text-decoration-color: #008080; font-weight: bold\">56</span>,    <span style=\"color: #008080; text-decoration-color: #008080; font-weight: bold\">59</span>,    <span style=\"color: #008080; text-decoration-color: #008080; font-weight: bold\">63</span>,    <span style=\"color: #008080; text-decoration-color: #008080; font-weight: bold\">64</span>,    <span style=\"color: #008080; text-decoration-color: #008080; font-weight: bold\">88</span>,    <span style=\"color: #008080; text-decoration-color: #008080; font-weight: bold\">91</span>,\n",
       "          <span style=\"color: #008080; text-decoration-color: #008080; font-weight: bold\">96</span>,   <span style=\"color: #008080; text-decoration-color: #008080; font-weight: bold\">101</span>,   <span style=\"color: #008080; text-decoration-color: #008080; font-weight: bold\">105</span>,   <span style=\"color: #008080; text-decoration-color: #008080; font-weight: bold\">114</span>,   <span style=\"color: #008080; text-decoration-color: #008080; font-weight: bold\">122</span>,   <span style=\"color: #008080; text-decoration-color: #008080; font-weight: bold\">127</span>,   <span style=\"color: #008080; text-decoration-color: #008080; font-weight: bold\">131</span>,   <span style=\"color: #008080; text-decoration-color: #008080; font-weight: bold\">141</span>,   <span style=\"color: #008080; text-decoration-color: #008080; font-weight: bold\">149</span>,\n",
       "         <span style=\"color: #008080; text-decoration-color: #008080; font-weight: bold\">155</span>,   <span style=\"color: #008080; text-decoration-color: #008080; font-weight: bold\">157</span>,   <span style=\"color: #008080; text-decoration-color: #008080; font-weight: bold\">159</span>,   <span style=\"color: #008080; text-decoration-color: #008080; font-weight: bold\">170</span>,   <span style=\"color: #008080; text-decoration-color: #008080; font-weight: bold\">178</span>,   <span style=\"color: #008080; text-decoration-color: #008080; font-weight: bold\">181</span>,   <span style=\"color: #008080; text-decoration-color: #008080; font-weight: bold\">186</span>,   <span style=\"color: #008080; text-decoration-color: #008080; font-weight: bold\">188</span>,   <span style=\"color: #008080; text-decoration-color: #008080; font-weight: bold\">196</span>,\n",
       "         <span style=\"color: #008080; text-decoration-color: #008080; font-weight: bold\">204</span>,   <span style=\"color: #008080; text-decoration-color: #008080; font-weight: bold\">210</span>,   <span style=\"color: #008080; text-decoration-color: #008080; font-weight: bold\">218</span>,   <span style=\"color: #008080; text-decoration-color: #008080; font-weight: bold\">250</span>,   <span style=\"color: #008080; text-decoration-color: #008080; font-weight: bold\">255</span>,   <span style=\"color: #008080; text-decoration-color: #008080; font-weight: bold\">258</span>,   <span style=\"color: #008080; text-decoration-color: #008080; font-weight: bold\">260</span>,   <span style=\"color: #008080; text-decoration-color: #008080; font-weight: bold\">262</span>,   <span style=\"color: #008080; text-decoration-color: #008080; font-weight: bold\">266</span>,\n",
       "         <span style=\"color: #008080; text-decoration-color: #008080; font-weight: bold\">278</span>,   <span style=\"color: #008080; text-decoration-color: #008080; font-weight: bold\">290</span>,   <span style=\"color: #008080; text-decoration-color: #008080; font-weight: bold\">298</span>,   <span style=\"color: #008080; text-decoration-color: #008080; font-weight: bold\">303</span>,   <span style=\"color: #008080; text-decoration-color: #008080; font-weight: bold\">310</span>,   <span style=\"color: #008080; text-decoration-color: #008080; font-weight: bold\">311</span>,   <span style=\"color: #008080; text-decoration-color: #008080; font-weight: bold\">319</span>,   <span style=\"color: #008080; text-decoration-color: #008080; font-weight: bold\">323</span>,   <span style=\"color: #008080; text-decoration-color: #008080; font-weight: bold\">325</span>,\n",
       "         <span style=\"color: #008080; text-decoration-color: #008080; font-weight: bold\">333</span>,   <span style=\"color: #008080; text-decoration-color: #008080; font-weight: bold\">339</span>,   <span style=\"color: #008080; text-decoration-color: #008080; font-weight: bold\">340</span>,   <span style=\"color: #008080; text-decoration-color: #008080; font-weight: bold\">342</span>,   <span style=\"color: #008080; text-decoration-color: #008080; font-weight: bold\">348</span>,   <span style=\"color: #008080; text-decoration-color: #008080; font-weight: bold\">349</span>,   <span style=\"color: #008080; text-decoration-color: #008080; font-weight: bold\">362</span>,   <span style=\"color: #008080; text-decoration-color: #008080; font-weight: bold\">365</span>,   <span style=\"color: #008080; text-decoration-color: #008080; font-weight: bold\">366</span>,\n",
       "         <span style=\"color: #008080; text-decoration-color: #008080; font-weight: bold\">370</span>,   <span style=\"color: #008080; text-decoration-color: #008080; font-weight: bold\">382</span>,   <span style=\"color: #008080; text-decoration-color: #008080; font-weight: bold\">414</span>,   <span style=\"color: #008080; text-decoration-color: #008080; font-weight: bold\">422</span>,   <span style=\"color: #008080; text-decoration-color: #008080; font-weight: bold\">423</span>,   <span style=\"color: #008080; text-decoration-color: #008080; font-weight: bold\">429</span>,   <span style=\"color: #008080; text-decoration-color: #008080; font-weight: bold\">437</span>,   <span style=\"color: #008080; text-decoration-color: #008080; font-weight: bold\">445</span>,   <span style=\"color: #008080; text-decoration-color: #008080; font-weight: bold\">451</span>,\n",
       "         <span style=\"color: #008080; text-decoration-color: #008080; font-weight: bold\">463</span>,   <span style=\"color: #008080; text-decoration-color: #008080; font-weight: bold\">475</span>,   <span style=\"color: #008080; text-decoration-color: #008080; font-weight: bold\">483</span>,   <span style=\"color: #008080; text-decoration-color: #008080; font-weight: bold\">491</span>,   <span style=\"color: #008080; text-decoration-color: #008080; font-weight: bold\">502</span>,   <span style=\"color: #008080; text-decoration-color: #008080; font-weight: bold\">507</span>,   <span style=\"color: #008080; text-decoration-color: #008080; font-weight: bold\">513</span>,   <span style=\"color: #008080; text-decoration-color: #008080; font-weight: bold\">515</span>,   <span style=\"color: #008080; text-decoration-color: #008080; font-weight: bold\">525</span>,\n",
       "         <span style=\"color: #008080; text-decoration-color: #008080; font-weight: bold\">538</span>,   <span style=\"color: #008080; text-decoration-color: #008080; font-weight: bold\">539</span>,   <span style=\"color: #008080; text-decoration-color: #008080; font-weight: bold\">557</span>,   <span style=\"color: #008080; text-decoration-color: #008080; font-weight: bold\">564</span>,   <span style=\"color: #008080; text-decoration-color: #008080; font-weight: bold\">566</span>,   <span style=\"color: #008080; text-decoration-color: #008080; font-weight: bold\">572</span>,   <span style=\"color: #008080; text-decoration-color: #008080; font-weight: bold\">575</span>,   <span style=\"color: #008080; text-decoration-color: #008080; font-weight: bold\">579</span>,   <span style=\"color: #008080; text-decoration-color: #008080; font-weight: bold\">581</span>,\n",
       "         <span style=\"color: #008080; text-decoration-color: #008080; font-weight: bold\">583</span>,   <span style=\"color: #008080; text-decoration-color: #008080; font-weight: bold\">587</span>,   <span style=\"color: #008080; text-decoration-color: #008080; font-weight: bold\">589</span>,   <span style=\"color: #008080; text-decoration-color: #008080; font-weight: bold\">595</span>,   <span style=\"color: #008080; text-decoration-color: #008080; font-weight: bold\">596</span>,   <span style=\"color: #008080; text-decoration-color: #008080; font-weight: bold\">599</span>,   <span style=\"color: #008080; text-decoration-color: #008080; font-weight: bold\">609</span>,   <span style=\"color: #008080; text-decoration-color: #008080; font-weight: bold\">612</span>,   <span style=\"color: #008080; text-decoration-color: #008080; font-weight: bold\">629</span>,\n",
       "         <span style=\"color: #008080; text-decoration-color: #008080; font-weight: bold\">632</span>,   <span style=\"color: #008080; text-decoration-color: #008080; font-weight: bold\">639</span>,   <span style=\"color: #008080; text-decoration-color: #008080; font-weight: bold\">642</span>,   <span style=\"color: #008080; text-decoration-color: #008080; font-weight: bold\">647</span>,   <span style=\"color: #008080; text-decoration-color: #008080; font-weight: bold\">651</span>,   <span style=\"color: #008080; text-decoration-color: #008080; font-weight: bold\">672</span>,   <span style=\"color: #008080; text-decoration-color: #008080; font-weight: bold\">685</span>,   <span style=\"color: #008080; text-decoration-color: #008080; font-weight: bold\">693</span>,   <span style=\"color: #008080; text-decoration-color: #008080; font-weight: bold\">711</span>,\n",
       "         <span style=\"color: #008080; text-decoration-color: #008080; font-weight: bold\">718</span>,   <span style=\"color: #008080; text-decoration-color: #008080; font-weight: bold\">725</span>,   <span style=\"color: #008080; text-decoration-color: #008080; font-weight: bold\">733</span>,   <span style=\"color: #008080; text-decoration-color: #008080; font-weight: bold\">741</span>,   <span style=\"color: #008080; text-decoration-color: #008080; font-weight: bold\">754</span>,   <span style=\"color: #008080; text-decoration-color: #008080; font-weight: bold\">780</span>,   <span style=\"color: #008080; text-decoration-color: #008080; font-weight: bold\">788</span>,   <span style=\"color: #008080; text-decoration-color: #008080; font-weight: bold\">809</span>,   <span style=\"color: #008080; text-decoration-color: #008080; font-weight: bold\">814</span>,\n",
       "         <span style=\"color: #008080; text-decoration-color: #008080; font-weight: bold\">843</span>,   <span style=\"color: #008080; text-decoration-color: #008080; font-weight: bold\">846</span>,   <span style=\"color: #008080; text-decoration-color: #008080; font-weight: bold\">867</span>,   <span style=\"color: #008080; text-decoration-color: #008080; font-weight: bold\">903</span>,   <span style=\"color: #008080; text-decoration-color: #008080; font-weight: bold\">907</span>,   <span style=\"color: #008080; text-decoration-color: #008080; font-weight: bold\">918</span>,   <span style=\"color: #008080; text-decoration-color: #008080; font-weight: bold\">920</span>,   <span style=\"color: #008080; text-decoration-color: #008080; font-weight: bold\">926</span>,   <span style=\"color: #008080; text-decoration-color: #008080; font-weight: bold\">928</span>,\n",
       "         <span style=\"color: #008080; text-decoration-color: #008080; font-weight: bold\">930</span>,   <span style=\"color: #008080; text-decoration-color: #008080; font-weight: bold\">936</span>,   <span style=\"color: #008080; text-decoration-color: #008080; font-weight: bold\">942</span>,   <span style=\"color: #008080; text-decoration-color: #008080; font-weight: bold\">944</span>,   <span style=\"color: #008080; text-decoration-color: #008080; font-weight: bold\">946</span>,   <span style=\"color: #008080; text-decoration-color: #008080; font-weight: bold\">951</span>,   <span style=\"color: #008080; text-decoration-color: #008080; font-weight: bold\">957</span>,   <span style=\"color: #008080; text-decoration-color: #008080; font-weight: bold\">961</span>,   <span style=\"color: #008080; text-decoration-color: #008080; font-weight: bold\">968</span>,\n",
       "         <span style=\"color: #008080; text-decoration-color: #008080; font-weight: bold\">980</span>,   <span style=\"color: #008080; text-decoration-color: #008080; font-weight: bold\">987</span>,   <span style=\"color: #008080; text-decoration-color: #008080; font-weight: bold\">989</span>,   <span style=\"color: #008080; text-decoration-color: #008080; font-weight: bold\">998</span>,  <span style=\"color: #008080; text-decoration-color: #008080; font-weight: bold\">1004</span>,  <span style=\"color: #008080; text-decoration-color: #008080; font-weight: bold\">1007</span>,  <span style=\"color: #008080; text-decoration-color: #008080; font-weight: bold\">1017</span>,  <span style=\"color: #008080; text-decoration-color: #008080; font-weight: bold\">1020</span>,  <span style=\"color: #008080; text-decoration-color: #008080; font-weight: bold\">1022</span>,\n",
       "        <span style=\"color: #008080; text-decoration-color: #008080; font-weight: bold\">1025</span>,  <span style=\"color: #008080; text-decoration-color: #008080; font-weight: bold\">1029</span>,  <span style=\"color: #008080; text-decoration-color: #008080; font-weight: bold\">1031</span>,  <span style=\"color: #008080; text-decoration-color: #008080; font-weight: bold\">1033</span>,  <span style=\"color: #008080; text-decoration-color: #008080; font-weight: bold\">1037</span>,  <span style=\"color: #008080; text-decoration-color: #008080; font-weight: bold\">1041</span>,  <span style=\"color: #008080; text-decoration-color: #008080; font-weight: bold\">1049</span>,  <span style=\"color: #008080; text-decoration-color: #008080; font-weight: bold\">1077</span>,  <span style=\"color: #008080; text-decoration-color: #008080; font-weight: bold\">1084</span>,\n",
       "        <span style=\"color: #008080; text-decoration-color: #008080; font-weight: bold\">1113</span>,  <span style=\"color: #008080; text-decoration-color: #008080; font-weight: bold\">1117</span>,  <span style=\"color: #008080; text-decoration-color: #008080; font-weight: bold\">1181</span>,  <span style=\"color: #008080; text-decoration-color: #008080; font-weight: bold\">1190</span>,  <span style=\"color: #008080; text-decoration-color: #008080; font-weight: bold\">1340</span>,  <span style=\"color: #008080; text-decoration-color: #008080; font-weight: bold\">1348</span>,  <span style=\"color: #008080; text-decoration-color: #008080; font-weight: bold\">1384</span>,  <span style=\"color: #008080; text-decoration-color: #008080; font-weight: bold\">1468</span>,  <span style=\"color: #008080; text-decoration-color: #008080; font-weight: bold\">1477</span>,\n",
       "       <span style=\"color: #008080; text-decoration-color: #008080; font-weight: bold\">10703</span>, <span style=\"color: #008080; text-decoration-color: #008080; font-weight: bold\">10704</span><span style=\"font-weight: bold\">]</span>, <span style=\"color: #808000; text-decoration-color: #808000\">dtype</span>=<span style=\"color: #800080; text-decoration-color: #800080\">uint32</span><span style=\"font-weight: bold\">)</span>\n",
       "</pre>\n"
      ],
      "text/plain": [
       "\u001b[1;35marray\u001b[0m\u001b[1m(\u001b[0m\u001b[1m[\u001b[0m    \u001b[1;36m7\u001b[0m,    \u001b[1;36m15\u001b[0m,    \u001b[1;36m27\u001b[0m,    \u001b[1;36m56\u001b[0m,    \u001b[1;36m59\u001b[0m,    \u001b[1;36m63\u001b[0m,    \u001b[1;36m64\u001b[0m,    \u001b[1;36m88\u001b[0m,    \u001b[1;36m91\u001b[0m,\n",
       "          \u001b[1;36m96\u001b[0m,   \u001b[1;36m101\u001b[0m,   \u001b[1;36m105\u001b[0m,   \u001b[1;36m114\u001b[0m,   \u001b[1;36m122\u001b[0m,   \u001b[1;36m127\u001b[0m,   \u001b[1;36m131\u001b[0m,   \u001b[1;36m141\u001b[0m,   \u001b[1;36m149\u001b[0m,\n",
       "         \u001b[1;36m155\u001b[0m,   \u001b[1;36m157\u001b[0m,   \u001b[1;36m159\u001b[0m,   \u001b[1;36m170\u001b[0m,   \u001b[1;36m178\u001b[0m,   \u001b[1;36m181\u001b[0m,   \u001b[1;36m186\u001b[0m,   \u001b[1;36m188\u001b[0m,   \u001b[1;36m196\u001b[0m,\n",
       "         \u001b[1;36m204\u001b[0m,   \u001b[1;36m210\u001b[0m,   \u001b[1;36m218\u001b[0m,   \u001b[1;36m250\u001b[0m,   \u001b[1;36m255\u001b[0m,   \u001b[1;36m258\u001b[0m,   \u001b[1;36m260\u001b[0m,   \u001b[1;36m262\u001b[0m,   \u001b[1;36m266\u001b[0m,\n",
       "         \u001b[1;36m278\u001b[0m,   \u001b[1;36m290\u001b[0m,   \u001b[1;36m298\u001b[0m,   \u001b[1;36m303\u001b[0m,   \u001b[1;36m310\u001b[0m,   \u001b[1;36m311\u001b[0m,   \u001b[1;36m319\u001b[0m,   \u001b[1;36m323\u001b[0m,   \u001b[1;36m325\u001b[0m,\n",
       "         \u001b[1;36m333\u001b[0m,   \u001b[1;36m339\u001b[0m,   \u001b[1;36m340\u001b[0m,   \u001b[1;36m342\u001b[0m,   \u001b[1;36m348\u001b[0m,   \u001b[1;36m349\u001b[0m,   \u001b[1;36m362\u001b[0m,   \u001b[1;36m365\u001b[0m,   \u001b[1;36m366\u001b[0m,\n",
       "         \u001b[1;36m370\u001b[0m,   \u001b[1;36m382\u001b[0m,   \u001b[1;36m414\u001b[0m,   \u001b[1;36m422\u001b[0m,   \u001b[1;36m423\u001b[0m,   \u001b[1;36m429\u001b[0m,   \u001b[1;36m437\u001b[0m,   \u001b[1;36m445\u001b[0m,   \u001b[1;36m451\u001b[0m,\n",
       "         \u001b[1;36m463\u001b[0m,   \u001b[1;36m475\u001b[0m,   \u001b[1;36m483\u001b[0m,   \u001b[1;36m491\u001b[0m,   \u001b[1;36m502\u001b[0m,   \u001b[1;36m507\u001b[0m,   \u001b[1;36m513\u001b[0m,   \u001b[1;36m515\u001b[0m,   \u001b[1;36m525\u001b[0m,\n",
       "         \u001b[1;36m538\u001b[0m,   \u001b[1;36m539\u001b[0m,   \u001b[1;36m557\u001b[0m,   \u001b[1;36m564\u001b[0m,   \u001b[1;36m566\u001b[0m,   \u001b[1;36m572\u001b[0m,   \u001b[1;36m575\u001b[0m,   \u001b[1;36m579\u001b[0m,   \u001b[1;36m581\u001b[0m,\n",
       "         \u001b[1;36m583\u001b[0m,   \u001b[1;36m587\u001b[0m,   \u001b[1;36m589\u001b[0m,   \u001b[1;36m595\u001b[0m,   \u001b[1;36m596\u001b[0m,   \u001b[1;36m599\u001b[0m,   \u001b[1;36m609\u001b[0m,   \u001b[1;36m612\u001b[0m,   \u001b[1;36m629\u001b[0m,\n",
       "         \u001b[1;36m632\u001b[0m,   \u001b[1;36m639\u001b[0m,   \u001b[1;36m642\u001b[0m,   \u001b[1;36m647\u001b[0m,   \u001b[1;36m651\u001b[0m,   \u001b[1;36m672\u001b[0m,   \u001b[1;36m685\u001b[0m,   \u001b[1;36m693\u001b[0m,   \u001b[1;36m711\u001b[0m,\n",
       "         \u001b[1;36m718\u001b[0m,   \u001b[1;36m725\u001b[0m,   \u001b[1;36m733\u001b[0m,   \u001b[1;36m741\u001b[0m,   \u001b[1;36m754\u001b[0m,   \u001b[1;36m780\u001b[0m,   \u001b[1;36m788\u001b[0m,   \u001b[1;36m809\u001b[0m,   \u001b[1;36m814\u001b[0m,\n",
       "         \u001b[1;36m843\u001b[0m,   \u001b[1;36m846\u001b[0m,   \u001b[1;36m867\u001b[0m,   \u001b[1;36m903\u001b[0m,   \u001b[1;36m907\u001b[0m,   \u001b[1;36m918\u001b[0m,   \u001b[1;36m920\u001b[0m,   \u001b[1;36m926\u001b[0m,   \u001b[1;36m928\u001b[0m,\n",
       "         \u001b[1;36m930\u001b[0m,   \u001b[1;36m936\u001b[0m,   \u001b[1;36m942\u001b[0m,   \u001b[1;36m944\u001b[0m,   \u001b[1;36m946\u001b[0m,   \u001b[1;36m951\u001b[0m,   \u001b[1;36m957\u001b[0m,   \u001b[1;36m961\u001b[0m,   \u001b[1;36m968\u001b[0m,\n",
       "         \u001b[1;36m980\u001b[0m,   \u001b[1;36m987\u001b[0m,   \u001b[1;36m989\u001b[0m,   \u001b[1;36m998\u001b[0m,  \u001b[1;36m1004\u001b[0m,  \u001b[1;36m1007\u001b[0m,  \u001b[1;36m1017\u001b[0m,  \u001b[1;36m1020\u001b[0m,  \u001b[1;36m1022\u001b[0m,\n",
       "        \u001b[1;36m1025\u001b[0m,  \u001b[1;36m1029\u001b[0m,  \u001b[1;36m1031\u001b[0m,  \u001b[1;36m1033\u001b[0m,  \u001b[1;36m1037\u001b[0m,  \u001b[1;36m1041\u001b[0m,  \u001b[1;36m1049\u001b[0m,  \u001b[1;36m1077\u001b[0m,  \u001b[1;36m1084\u001b[0m,\n",
       "        \u001b[1;36m1113\u001b[0m,  \u001b[1;36m1117\u001b[0m,  \u001b[1;36m1181\u001b[0m,  \u001b[1;36m1190\u001b[0m,  \u001b[1;36m1340\u001b[0m,  \u001b[1;36m1348\u001b[0m,  \u001b[1;36m1384\u001b[0m,  \u001b[1;36m1468\u001b[0m,  \u001b[1;36m1477\u001b[0m,\n",
       "       \u001b[1;36m10703\u001b[0m, \u001b[1;36m10704\u001b[0m\u001b[1m]\u001b[0m, \u001b[33mdtype\u001b[0m=\u001b[35muint32\u001b[0m\u001b[1m)\u001b[0m\n"
      ]
     },
     "metadata": {},
     "output_type": "display_data"
    }
   ],
   "source": [
    "subcortex"
   ]
  },
  {
   "cell_type": "code",
   "execution_count": 16,
   "id": "3614dce7",
   "metadata": {},
   "outputs": [
    {
     "data": {
      "text/html": [
       "<pre style=\"white-space:pre;overflow-x:auto;line-height:normal;font-family:Menlo,'DejaVu Sans Mono',consolas,'Courier New',monospace\"><span style=\"font-weight: bold\">{</span>\n",
       "    <span style=\"color: #008000; text-decoration-color: #008000\">'acronym'</span>: <span style=\"color: #008000; text-decoration-color: #008000\">'ACA1'</span>,\n",
       "    <span style=\"color: #008000; text-decoration-color: #008000\">'graph_id'</span>: <span style=\"color: #008080; text-decoration-color: #008080; font-weight: bold\">1</span>,\n",
       "    <span style=\"color: #008000; text-decoration-color: #008000\">'graph_order'</span>: <span style=\"color: #008080; text-decoration-color: #008080; font-weight: bold\">221</span>,\n",
       "    <span style=\"color: #008000; text-decoration-color: #008000\">'id'</span>: <span style=\"color: #008080; text-decoration-color: #008080; font-weight: bold\">572</span>,\n",
       "    <span style=\"color: #008000; text-decoration-color: #008000\">'name'</span>: <span style=\"color: #008000; text-decoration-color: #008000\">'Anterior cingulate area, layer 1'</span>,\n",
       "    <span style=\"color: #008000; text-decoration-color: #008000\">'structure_id_path'</span>: <span style=\"font-weight: bold\">[</span><span style=\"color: #008080; text-decoration-color: #008080; font-weight: bold\">997</span>, <span style=\"color: #008080; text-decoration-color: #008080; font-weight: bold\">8</span>, <span style=\"color: #008080; text-decoration-color: #008080; font-weight: bold\">567</span>, <span style=\"color: #008080; text-decoration-color: #008080; font-weight: bold\">688</span>, <span style=\"color: #008080; text-decoration-color: #008080; font-weight: bold\">695</span>, <span style=\"color: #008080; text-decoration-color: #008080; font-weight: bold\">315</span>, <span style=\"color: #008080; text-decoration-color: #008080; font-weight: bold\">31</span>, <span style=\"color: #008080; text-decoration-color: #008080; font-weight: bold\">572</span><span style=\"font-weight: bold\">]</span>,\n",
       "    <span style=\"color: #008000; text-decoration-color: #008000\">'structure_set_ids'</span>: <span style=\"font-weight: bold\">[]</span>,\n",
       "    <span style=\"color: #008000; text-decoration-color: #008000\">'rgb_triplet'</span>: <span style=\"font-weight: bold\">[</span><span style=\"color: #008080; text-decoration-color: #008080; font-weight: bold\">64</span>, <span style=\"color: #008080; text-decoration-color: #008080; font-weight: bold\">166</span>, <span style=\"color: #008080; text-decoration-color: #008080; font-weight: bold\">102</span><span style=\"font-weight: bold\">]</span>\n",
       "<span style=\"font-weight: bold\">}</span>\n",
       "</pre>\n"
      ],
      "text/plain": [
       "\u001b[1m{\u001b[0m\n",
       "    \u001b[32m'acronym'\u001b[0m: \u001b[32m'ACA1'\u001b[0m,\n",
       "    \u001b[32m'graph_id'\u001b[0m: \u001b[1;36m1\u001b[0m,\n",
       "    \u001b[32m'graph_order'\u001b[0m: \u001b[1;36m221\u001b[0m,\n",
       "    \u001b[32m'id'\u001b[0m: \u001b[1;36m572\u001b[0m,\n",
       "    \u001b[32m'name'\u001b[0m: \u001b[32m'Anterior cingulate area, layer 1'\u001b[0m,\n",
       "    \u001b[32m'structure_id_path'\u001b[0m: \u001b[1m[\u001b[0m\u001b[1;36m997\u001b[0m, \u001b[1;36m8\u001b[0m, \u001b[1;36m567\u001b[0m, \u001b[1;36m688\u001b[0m, \u001b[1;36m695\u001b[0m, \u001b[1;36m315\u001b[0m, \u001b[1;36m31\u001b[0m, \u001b[1;36m572\u001b[0m\u001b[1m]\u001b[0m,\n",
       "    \u001b[32m'structure_set_ids'\u001b[0m: \u001b[1m[\u001b[0m\u001b[1m]\u001b[0m,\n",
       "    \u001b[32m'rgb_triplet'\u001b[0m: \u001b[1m[\u001b[0m\u001b[1;36m64\u001b[0m, \u001b[1;36m166\u001b[0m, \u001b[1;36m102\u001b[0m\u001b[1m]\u001b[0m\n",
       "\u001b[1m}\u001b[0m\n"
      ]
     },
     "metadata": {},
     "output_type": "display_data"
    }
   ],
   "source": [
    "mice.al.get(572)"
   ]
  },
  {
   "cell_type": "code",
   "execution_count": 9,
   "id": "d8d88ea9",
   "metadata": {},
   "outputs": [],
   "source": [
    "m = mice.parcel['subcortex'] == 572"
   ]
  },
  {
   "cell_type": "code",
   "execution_count": 14,
   "id": "5a7875bb",
   "metadata": {},
   "outputs": [
    {
     "data": {
      "text/html": [
       "<pre style=\"white-space:pre;overflow-x:auto;line-height:normal;font-family:Menlo,'DejaVu Sans Mono',consolas,'Courier New',monospace\"><span style=\"font-weight: bold\">&lt;</span><span style=\"color: #ff00ff; text-decoration-color: #ff00ff; font-weight: bold\">matplotlib.image.AxesImage</span><span style=\"color: #000000; text-decoration-color: #000000\"> object at </span><span style=\"color: #008080; text-decoration-color: #008080; font-weight: bold\">0x7f47a401d370</span><span style=\"font-weight: bold\">&gt;</span>\n",
       "</pre>\n"
      ],
      "text/plain": [
       "\u001b[1m<\u001b[0m\u001b[1;95mmatplotlib.image.AxesImage\u001b[0m\u001b[39m object at \u001b[0m\u001b[1;36m0x7f47a401d370\u001b[0m\u001b[1m>\u001b[0m\n"
      ]
     },
     "metadata": {},
     "output_type": "display_data"
    },
    {
     "data": {
      "image/png": "[encoded data removed]"
     },
     "metadata": {},
     "output_type": "display_data"
    }
   ],
   "source": [
    "plt.imshow((mice.parcel['subcortex'] != 0).mean(0))"
   ]
  },
  {
   "cell_type": "code",
   "execution_count": 13,
   "id": "8be59333",
   "metadata": {},
   "outputs": [
    {
     "data": {
      "text/html": [
       "<pre style=\"white-space:pre;overflow-x:auto;line-height:normal;font-family:Menlo,'DejaVu Sans Mono',consolas,'Courier New',monospace\"><span style=\"font-weight: bold\">&lt;</span><span style=\"color: #ff00ff; text-decoration-color: #ff00ff; font-weight: bold\">matplotlib.image.AxesImage</span><span style=\"color: #000000; text-decoration-color: #000000\"> object at </span><span style=\"color: #008080; text-decoration-color: #008080; font-weight: bold\">0x7f47a464da60</span><span style=\"font-weight: bold\">&gt;</span>\n",
       "</pre>\n"
      ],
      "text/plain": [
       "\u001b[1m<\u001b[0m\u001b[1;95mmatplotlib.image.AxesImage\u001b[0m\u001b[39m object at \u001b[0m\u001b[1;36m0x7f47a464da60\u001b[0m\u001b[1m>\u001b[0m\n"
      ]
     },
     "metadata": {},
     "output_type": "display_data"
    },
    {
     "data": {
      "image/png": "[encoded data removed]"
     },
     "metadata": {},
     "output_type": "display_data"
    }
   ],
   "source": [
    "plt.imshow(m.mean(0))"
   ]
  },
  {
   "cell_type": "code",
   "execution_count": null,
   "id": "4e7d58cd",
   "metadata": {},
   "outputs": [],
   "source": []
  },
  {
   "cell_type": "code",
   "execution_count": null,
   "id": "a6b15989",
   "metadata": {},
   "outputs": [],
   "source": []
  },
  {
   "cell_type": "code",
   "execution_count": null,
   "id": "0a293f9f",
   "metadata": {},
   "outputs": [],
   "source": []
  },
  {
   "cell_type": "code",
   "execution_count": null,
   "id": "be204ffd",
   "metadata": {},
   "outputs": [],
   "source": []
  },
  {
   "cell_type": "code",
   "execution_count": 6,
   "id": "e72ac41f",
   "metadata": {},
   "outputs": [],
   "source": [
    "path = '/home/hadi/Downloads/ca_average'\n",
    "x = np.load(pjoin(path, 'sub_SLC06ca_rest.npy'))"
   ]
  },
  {
   "cell_type": "code",
   "execution_count": 8,
   "id": "cbe338da",
   "metadata": {},
   "outputs": [
    {
     "data": {
      "text/html": [
       "<pre style=\"white-space:pre;overflow-x:auto;line-height:normal;font-family:Menlo,'DejaVu Sans Mono',consolas,'Courier New',monospace\"><span style=\"font-weight: bold\">(</span><span style=\"color: #008080; text-decoration-color: #008080; font-weight: bold\">540</span>, <span style=\"color: #008080; text-decoration-color: #008080; font-weight: bold\">110</span><span style=\"font-weight: bold\">)</span>\n",
       "</pre>\n"
      ],
      "text/plain": [
       "\u001b[1m(\u001b[0m\u001b[1;36m540\u001b[0m, \u001b[1;36m110\u001b[0m\u001b[1m)\u001b[0m\n"
      ]
     },
     "metadata": {},
     "output_type": "display_data"
    }
   ],
   "source": [
    "x.shape"
   ]
  },
  {
   "cell_type": "code",
   "execution_count": 9,
   "id": "eee3df61",
   "metadata": {},
   "outputs": [
    {
     "data": {
      "text/html": [
       "<pre style=\"white-space:pre;overflow-x:auto;line-height:normal;font-family:Menlo,'DejaVu Sans Mono',consolas,'Courier New',monospace\"><span style=\"color: #008080; text-decoration-color: #008080; font-weight: bold\">540</span>\n",
       "</pre>\n"
      ],
      "text/plain": [
       "\u001b[1;36m540\u001b[0m\n"
      ]
     },
     "metadata": {},
     "output_type": "display_data"
    }
   ],
   "source": [
    "len(lookup['ca2'])"
   ]
  },
  {
   "cell_type": "code",
   "execution_count": 5,
   "id": "98ea6706",
   "metadata": {},
   "outputs": [],
   "source": [
    "mice = Mice(512)"
   ]
  },
  {
   "cell_type": "code",
   "execution_count": 12,
   "id": "42ac5b15",
   "metadata": {},
   "outputs": [],
   "source": [
    "bs = Base(mice, mode='ca2')"
   ]
  },
  {
   "cell_type": "code",
   "execution_count": null,
   "id": "962f9cee",
   "metadata": {},
   "outputs": [],
   "source": []
  },
  {
   "cell_type": "code",
   "execution_count": null,
   "id": "ee2645bc",
   "metadata": {},
   "outputs": [],
   "source": []
  },
  {
   "cell_type": "code",
   "execution_count": 38,
   "id": "0ba30834",
   "metadata": {},
   "outputs": [
    {
     "data": {
      "image/png": "[encoded data removed]"
     },
     "metadata": {},
     "output_type": "display_data"
    }
   ],
   "source": [
    "_ = bs.show(x[:, 20], vmin=-100, vmax=0)"
   ]
  },
  {
   "cell_type": "code",
   "execution_count": 33,
   "id": "fc66e431",
   "metadata": {},
   "outputs": [
    {
     "data": {
      "text/html": [
       "<pre style=\"white-space:pre;overflow-x:auto;line-height:normal;font-family:Menlo,'DejaVu Sans Mono',consolas,'Courier New',monospace\"><span style=\"font-weight: bold\">&lt;</span><span style=\"color: #ff00ff; text-decoration-color: #ff00ff; font-weight: bold\">AxesSubplot:</span><span style=\"color: #808000; text-decoration-color: #808000; font-weight: bold\">ylabel</span><span style=\"color: #000000; text-decoration-color: #000000\">=</span><span style=\"color: #008000; text-decoration-color: #008000\">'Count'</span><span style=\"font-weight: bold\">&gt;</span>\n",
       "</pre>\n"
      ],
      "text/plain": [
       "\u001b[1m<\u001b[0m\u001b[1;95mAxesSubplot:\u001b[0m\u001b[1;33mylabel\u001b[0m\u001b[39m=\u001b[0m\u001b[32m'Count'\u001b[0m\u001b[1m>\u001b[0m\n"
      ]
     },
     "metadata": {},
     "output_type": "display_data"
    },
    {
     "data": {
      "image/png": "[encoded data removed]"
     },
     "metadata": {},
     "output_type": "display_data"
    }
   ],
   "source": [
    "sns.histplot(x.ravel())"
   ]
  },
  {
   "cell_type": "code",
   "execution_count": null,
   "id": "fab56900",
   "metadata": {},
   "outputs": [],
   "source": []
  },
  {
   "cell_type": "code",
   "execution_count": null,
   "id": "c8e8033e",
   "metadata": {},
   "outputs": [],
   "source": []
  },
  {
   "cell_type": "markdown",
   "id": "378dca3b",
   "metadata": {},
   "source": [
    "## Project"
   ]
  },
  {
   "cell_type": "code",
   "execution_count": 77,
   "id": "b1237f1a",
   "metadata": {},
   "outputs": [
    {
     "data": {
      "text/html": [
       "<pre style=\"white-space:pre;overflow-x:auto;line-height:normal;font-family:Menlo,'DejaVu Sans Mono',consolas,'Courier New',monospace\"><span style=\"font-weight: bold\">([</span><span style=\"color: #008000; text-decoration-color: #008000\">'top'</span>, <span style=\"color: #008000; text-decoration-color: #008000\">'flat'</span><span style=\"font-weight: bold\">]</span>, <span style=\"font-weight: bold\">(</span><span style=\"color: #008080; text-decoration-color: #008080; font-weight: bold\">110</span>, <span style=\"color: #008080; text-decoration-color: #008080; font-weight: bold\">1320</span>, <span style=\"color: #008080; text-decoration-color: #008080; font-weight: bold\">1140</span><span style=\"font-weight: bold\">))</span>\n",
       "</pre>\n"
      ],
      "text/plain": [
       "\u001b[1m(\u001b[0m\u001b[1m[\u001b[0m\u001b[32m'top'\u001b[0m, \u001b[32m'flat'\u001b[0m\u001b[1m]\u001b[0m, \u001b[1m(\u001b[0m\u001b[1;36m110\u001b[0m, \u001b[1;36m1320\u001b[0m, \u001b[1;36m1140\u001b[0m\u001b[1m)\u001b[0m\u001b[1m)\u001b[0m\n"
      ]
     },
     "metadata": {},
     "output_type": "display_data"
    }
   ],
   "source": [
    "proj = bs.project_vec(x.T, layer=0, add_disjoint=False)\n",
    "list(proj), proj['top'].shape"
   ]
  },
  {
   "cell_type": "code",
   "execution_count": 81,
   "id": "2009292e",
   "metadata": {},
   "outputs": [
    {
     "data": {
      "text/html": [
       "<pre style=\"white-space:pre;overflow-x:auto;line-height:normal;font-family:Menlo,'DejaVu Sans Mono',consolas,'Courier New',monospace\"><span style=\"font-weight: bold\">&lt;</span><span style=\"color: #ff00ff; text-decoration-color: #ff00ff; font-weight: bold\">matplotlib.image.AxesImage</span><span style=\"color: #000000; text-decoration-color: #000000\"> object at </span><span style=\"color: #008080; text-decoration-color: #008080; font-weight: bold\">0x7fbe633bc100</span><span style=\"font-weight: bold\">&gt;</span>\n",
       "</pre>\n"
      ],
      "text/plain": [
       "\u001b[1m<\u001b[0m\u001b[1;95mmatplotlib.image.AxesImage\u001b[0m\u001b[39m object at \u001b[0m\u001b[1;36m0x7fbe633bc100\u001b[0m\u001b[1m>\u001b[0m\n"
      ]
     },
     "metadata": {},
     "output_type": "display_data"
    },
    {
     "data": {
      "image/png": "[encoded data removed]"
     },
     "metadata": {},
     "output_type": "display_data"
    }
   ],
   "source": [
    "plt.imshow(top, cmap='Greys_r')\n",
    "plt.imshow(mwh(mask_topview == 0, proj['top'][40]))"
   ]
  },
  {
   "cell_type": "code",
   "execution_count": null,
   "id": "747d93fc",
   "metadata": {},
   "outputs": [],
   "source": []
  },
  {
   "cell_type": "code",
   "execution_count": null,
   "id": "d199eb9c",
   "metadata": {},
   "outputs": [],
   "source": []
  },
  {
   "cell_type": "code",
   "execution_count": null,
   "id": "bba07e66",
   "metadata": {},
   "outputs": [],
   "source": []
  },
  {
   "cell_type": "code",
   "execution_count": 75,
   "id": "abab070a",
   "metadata": {},
   "outputs": [],
   "source": [
    "parcel_top, parcel_flat = mice.parcel.load_top_flat()\n",
    "regions = [mice.parcel.encode(r) for r in lookup['ca2'].values()]\n",
    "mask_topview = np.isin(parcel_top, regions)\n",
    "np.save('topview_mask.npy', mask_topview)"
   ]
  },
  {
   "cell_type": "code",
   "execution_count": null,
   "id": "d3e1328b",
   "metadata": {},
   "outputs": [],
   "source": []
  },
  {
   "cell_type": "code",
   "execution_count": 76,
   "id": "bf80efe4",
   "metadata": {},
   "outputs": [],
   "source": [
    "top, flat = bs.load_top_flat()\n",
    "np.save('topview.npy', top)"
   ]
  },
  {
   "cell_type": "code",
   "execution_count": null,
   "id": "fdad51a0",
   "metadata": {},
   "outputs": [],
   "source": []
  },
  {
   "cell_type": "markdown",
   "id": "cde2fe02",
   "metadata": {},
   "source": [
    "## Do one BOLD example"
   ]
  },
  {
   "cell_type": "code",
   "execution_count": 84,
   "id": "e0411601",
   "metadata": {},
   "outputs": [
    {
     "data": {
      "text/html": [
       "<pre style=\"white-space:pre;overflow-x:auto;line-height:normal;font-family:Menlo,'DejaVu Sans Mono',consolas,'Courier New',monospace\"><span style=\"font-weight: bold\">(</span><span style=\"color: #008080; text-decoration-color: #008080; font-weight: bold\">3068</span>, <span style=\"color: #008080; text-decoration-color: #008080; font-weight: bold\">11</span><span style=\"font-weight: bold\">)</span>\n",
       "</pre>\n"
      ],
      "text/plain": [
       "\u001b[1m(\u001b[0m\u001b[1;36m3068\u001b[0m, \u001b[1;36m11\u001b[0m\u001b[1m)\u001b[0m\n"
      ]
     },
     "metadata": {},
     "output_type": "display_data"
    }
   ],
   "source": [
    "path = '/home/hadi/Downloads/bold average'\n",
    "x = np.load(pjoin(path, 'sub_SLC08_bold_rest.npy'))\n",
    "x.shape"
   ]
  },
  {
   "cell_type": "code",
   "execution_count": 87,
   "id": "e3aae002",
   "metadata": {},
   "outputs": [
    {
     "data": {
      "text/html": [
       "<pre style=\"white-space:pre;overflow-x:auto;line-height:normal;font-family:Menlo,'DejaVu Sans Mono',consolas,'Courier New',monospace\"><span style=\"color: #008080; text-decoration-color: #008080; font-weight: bold\">540</span>\n",
       "</pre>\n"
      ],
      "text/plain": [
       "\u001b[1;36m540\u001b[0m\n"
      ]
     },
     "metadata": {},
     "output_type": "display_data"
    }
   ],
   "source": [
    "subset_idxs = mice.get_subset_idxs('surface')\n",
    "len(subset_idxs)"
   ]
  },
  {
   "cell_type": "code",
   "execution_count": 88,
   "id": "9ad1e46f",
   "metadata": {},
   "outputs": [
    {
     "data": {
      "text/html": [
       "<pre style=\"white-space:pre;overflow-x:auto;line-height:normal;font-family:Menlo,'DejaVu Sans Mono',consolas,'Courier New',monospace\"><span style=\"font-weight: bold\">(</span><span style=\"color: #008080; text-decoration-color: #008080; font-weight: bold\">540</span>, <span style=\"color: #008080; text-decoration-color: #008080; font-weight: bold\">11</span><span style=\"font-weight: bold\">)</span>\n",
       "</pre>\n"
      ],
      "text/plain": [
       "\u001b[1m(\u001b[0m\u001b[1;36m540\u001b[0m, \u001b[1;36m11\u001b[0m\u001b[1m)\u001b[0m\n"
      ]
     },
     "metadata": {},
     "output_type": "display_data"
    }
   ],
   "source": [
    "x = x[subset_idxs]\n",
    "x.shape"
   ]
  },
  {
   "cell_type": "code",
   "execution_count": null,
   "id": "87901c21",
   "metadata": {},
   "outputs": [],
   "source": []
  },
  {
   "cell_type": "code",
   "execution_count": 89,
   "id": "47d0c2dd",
   "metadata": {},
   "outputs": [
    {
     "data": {
      "text/html": [
       "<pre style=\"white-space:pre;overflow-x:auto;line-height:normal;font-family:Menlo,'DejaVu Sans Mono',consolas,'Courier New',monospace\"><span style=\"font-weight: bold\">([</span><span style=\"color: #008000; text-decoration-color: #008000\">'top'</span>, <span style=\"color: #008000; text-decoration-color: #008000\">'flat'</span><span style=\"font-weight: bold\">]</span>, <span style=\"font-weight: bold\">(</span><span style=\"color: #008080; text-decoration-color: #008080; font-weight: bold\">11</span>, <span style=\"color: #008080; text-decoration-color: #008080; font-weight: bold\">1320</span>, <span style=\"color: #008080; text-decoration-color: #008080; font-weight: bold\">1140</span><span style=\"font-weight: bold\">))</span>\n",
       "</pre>\n"
      ],
      "text/plain": [
       "\u001b[1m(\u001b[0m\u001b[1m[\u001b[0m\u001b[32m'top'\u001b[0m, \u001b[32m'flat'\u001b[0m\u001b[1m]\u001b[0m, \u001b[1m(\u001b[0m\u001b[1;36m11\u001b[0m, \u001b[1;36m1320\u001b[0m, \u001b[1;36m1140\u001b[0m\u001b[1m)\u001b[0m\u001b[1m)\u001b[0m\n"
      ]
     },
     "metadata": {},
     "output_type": "display_data"
    }
   ],
   "source": [
    "proj = bs.project_vec(x.T, layer=0, add_disjoint=False)\n",
    "list(proj), proj['top'].shape"
   ]
  },
  {
   "cell_type": "code",
   "execution_count": null,
   "id": "64068b14",
   "metadata": {},
   "outputs": [],
   "source": []
  },
  {
   "cell_type": "code",
   "execution_count": 98,
   "id": "455e9b3d",
   "metadata": {},
   "outputs": [
    {
     "data": {
      "text/html": [
       "<pre style=\"white-space:pre;overflow-x:auto;line-height:normal;font-family:Menlo,'DejaVu Sans Mono',consolas,'Courier New',monospace\"><span style=\"font-weight: bold\">&lt;</span><span style=\"color: #ff00ff; text-decoration-color: #ff00ff; font-weight: bold\">matplotlib.image.AxesImage</span><span style=\"color: #000000; text-decoration-color: #000000\"> object at </span><span style=\"color: #008080; text-decoration-color: #008080; font-weight: bold\">0x7fbd36571760</span><span style=\"font-weight: bold\">&gt;</span>\n",
       "</pre>\n"
      ],
      "text/plain": [
       "\u001b[1m<\u001b[0m\u001b[1;95mmatplotlib.image.AxesImage\u001b[0m\u001b[39m object at \u001b[0m\u001b[1;36m0x7fbd36571760\u001b[0m\u001b[1m>\u001b[0m\n"
      ]
     },
     "metadata": {},
     "output_type": "display_data"
    },
    {
     "data": {
      "image/png": "[encoded data removed]"
     },
     "metadata": {},
     "output_type": "display_data"
    }
   ],
   "source": [
    "plt.imshow(top, cmap='Greys_r')\n",
    "plt.imshow(mwh(mask_topview == 0, proj['top'][6]))"
   ]
  },
  {
   "cell_type": "code",
   "execution_count": null,
   "id": "91f75b95",
   "metadata": {},
   "outputs": [],
   "source": []
  },
  {
   "cell_type": "code",
   "execution_count": null,
   "id": "ebf9e4da",
   "metadata": {},
   "outputs": [],
   "source": []
  },
  {
   "cell_type": "code",
   "execution_count": null,
   "id": "8106a9f1",
   "metadata": {},
   "outputs": [],
   "source": []
  },
  {
   "cell_type": "code",
   "execution_count": null,
   "id": "612f9f7e",
   "metadata": {},
   "outputs": [],
   "source": []
  },
  {
   "cell_type": "code",
   "execution_count": null,
   "id": "3a4d23d9",
   "metadata": {},
   "outputs": [],
   "source": []
  },
  {
   "cell_type": "code",
   "execution_count": null,
   "id": "c6c61d70",
   "metadata": {},
   "outputs": [],
   "source": []
  },
  {
   "cell_type": "code",
   "execution_count": null,
   "id": "c8a4cb7d",
   "metadata": {},
   "outputs": [],
   "source": []
  },
  {
   "cell_type": "code",
   "execution_count": null,
   "id": "69169a27",
   "metadata": {},
   "outputs": [],
   "source": []
  }
 ],
 "metadata": {
  "kernelspec": {
   "display_name": "Python 3",
   "language": "python",
   "name": "python3"
  },
  "language_info": {
   "codemirror_mode": {
    "name": "ipython",
    "version": 3
   },
   "file_extension": ".py",
   "mimetype": "text/x-python",
   "name": "python",
   "nbconvert_exporter": "python",
   "pygments_lexer": "ipython3",
   "version": "3.8.3"
  }
 },
 "nbformat": 4,
 "nbformat_minor": 5
}
