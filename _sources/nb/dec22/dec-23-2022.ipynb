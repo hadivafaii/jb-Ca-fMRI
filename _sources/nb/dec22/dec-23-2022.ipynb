{
 "cells": [
  {
   "cell_type": "markdown",
   "id": "a9736f88",
   "metadata": {},
   "source": [
    "# Dec 23rd, 2022 (Parc: subctx, render)\n",
    "\n",
    "**Motivation**: Take the newly defined whole-brain parcellation and render results.  Do they look reasonable? <br>"
   ]
  },
  {
   "cell_type": "code",
   "execution_count": 1,
   "id": "d6551eb0",
   "metadata": {
    "tags": [
     "hide-input"
    ]
   },
   "outputs": [],
   "source": [
    "# HIDE CODE\n",
    "\n",
    "\n",
    "import os\n",
    "import sys\n",
    "from pprint import pprint\n",
    "from copy import deepcopy as dc\n",
    "from os.path import join as pjoin\n",
    "from scipy.ndimage import gaussian_filter\n",
    "from IPython.display import display, IFrame, HTML\n",
    "\n",
    "# tmp & extras dir\n",
    "git_dir = pjoin(os.environ['HOME'], 'Dropbox/git')\n",
    "extras_dir = pjoin(git_dir, 'jb-Ca-fMRI/_extras')\n",
    "fig_base_dir = pjoin(git_dir, 'jb-Ca-fMRI/figs')\n",
    "tmp_dir = pjoin(git_dir, 'jb-Ca-fMRI/tmp')\n",
    "\n",
    "# GitHub\n",
    "sys.path.insert(0, pjoin(git_dir, '_Ca-fMRI'))\n",
    "from figures.fighelper import *\n",
    "from analysis.final import *\n",
    "from utils.render import *\n",
    "\n",
    "# warnings, tqdm, & style\n",
    "warnings.filterwarnings('ignore', category=DeprecationWarning)\n",
    "from tqdm.notebook import tqdm\n",
    "%matplotlib inline\n",
    "set_style()"
   ]
  },
  {
   "cell_type": "markdown",
   "id": "acfcf1fd",
   "metadata": {},
   "source": [
    "## Fig dir"
   ]
  },
  {
   "cell_type": "code",
   "execution_count": 2,
   "id": "3d46337a",
   "metadata": {},
   "outputs": [
    {
     "data": {
      "text/html": [
       "<pre style=\"white-space:pre;overflow-x:auto;line-height:normal;font-family:Menlo,'DejaVu Sans Mono',consolas,'Courier New',monospace\"><span style=\"color: #800080; text-decoration-color: #800080\">/home/hadi/Dropbox/git/jb-Ca-fMRI/figs/parcellation/</span><span style=\"color: #ff00ff; text-decoration-color: #ff00ff\">render</span>\n",
       "</pre>\n"
      ],
      "text/plain": [
       "\u001b[35m/home/hadi/Dropbox/git/jb-Ca-fMRI/figs/parcellation/\u001b[0m\u001b[95mrender\u001b[0m\n"
      ]
     },
     "metadata": {},
     "output_type": "display_data"
    }
   ],
   "source": [
    "fig_dir = pjoin(fig_base_dir, 'parcellation', 'render')\n",
    "os.makedirs(fig_dir, exist_ok=True)\n",
    "print(fig_dir)"
   ]
  },
  {
   "cell_type": "markdown",
   "id": "bbeefcce",
   "metadata": {},
   "source": [
    "## Prepare"
   ]
  },
  {
   "cell_type": "code",
   "execution_count": 3,
   "id": "7a277758",
   "metadata": {},
   "outputs": [
    {
     "data": {
      "text/html": [
       "<pre style=\"white-space:pre;overflow-x:auto;line-height:normal;font-family:Menlo,'DejaVu Sans Mono',consolas,'Courier New',monospace\">ROI lookup not found, time to run <span style=\"color: #800080; text-decoration-color: #800080; font-weight: bold\">organize_func</span><span style=\"font-weight: bold\">()</span> . . .\n",
       "</pre>\n"
      ],
      "text/plain": [
       "ROI lookup not found, time to run \u001b[1;35morganize_func\u001b[0m\u001b[1m(\u001b[0m\u001b[1m)\u001b[0m . . .\n"
      ]
     },
     "metadata": {},
     "output_type": "display_data"
    },
    {
     "data": {
      "text/html": [
       "<pre style=\"white-space:pre;overflow-x:auto;line-height:normal;font-family:Menlo,'DejaVu Sans Mono',consolas,'Courier New',monospace\">combine metadata not found, time to run <span style=\"color: #800080; text-decoration-color: #800080; font-weight: bold\">cat_data</span><span style=\"font-weight: bold\">()</span> . . .\n",
       "</pre>\n"
      ],
      "text/plain": [
       "combine metadata not found, time to run \u001b[1;35mcat_data\u001b[0m\u001b[1m(\u001b[0m\u001b[1m)\u001b[0m . . .\n"
      ]
     },
     "metadata": {},
     "output_type": "display_data"
    }
   ],
   "source": [
    "mice = Mice(128, load_allen=True, load_parcel=True)"
   ]
  },
  {
   "cell_type": "code",
   "execution_count": 4,
   "id": "148a1e94",
   "metadata": {},
   "outputs": [],
   "source": [
    "masks = {\n",
    "    acro: mice.al.get_masks(acro) for\n",
    "    acro in mice.al.get_major_12()\n",
    "}"
   ]
  },
  {
   "cell_type": "markdown",
   "id": "2978cb85",
   "metadata": {},
   "source": [
    "## Redner"
   ]
  },
  {
   "cell_type": "code",
   "execution_count": 5,
   "id": "e9bd6183",
   "metadata": {},
   "outputs": [
    {
     "data": {
      "image/png": "[encoded data removed]"
     },
     "metadata": {},
     "output_type": "display_data"
    }
   ],
   "source": [
    "sys.path.insert(0, pjoin(git_dir, 'vedo'))\n",
    "sys.path.insert(0, pjoin(git_dir, 'brainrender'))\n",
    "\n",
    "from bg_space import AnatomicalSpace\n",
    "\n",
    "from brainrender import Scene\n",
    "from brainrender import settings as br_settings\n",
    "from brainrender.actors.streamlines import make_streamlines\n",
    "from brainrender.atlas_specific import get_streamlines_for_region\n",
    "\n",
    "from vedo import Volume as vd_Volume\n",
    "from register.atlas import load_bg_atlas\n",
    "\n",
    "cmap = sns.color_palette('husl', as_cmap=True)\n",
    "display_cmap(cmap)"
   ]
  },
  {
   "cell_type": "markdown",
   "id": "51ba00ae",
   "metadata": {},
   "source": [
    "### Save cortical + subcortical"
   ]
  },
  {
   "cell_type": "code",
   "execution_count": 6,
   "id": "3948883a",
   "metadata": {},
   "outputs": [
    {
     "data": {
      "text/html": [
       "<pre style=\"white-space:pre;overflow-x:auto;line-height:normal;font-family:Menlo,'DejaVu Sans Mono',consolas,'Courier New',monospace\">\n",
       "<span style=\"font-weight: bold\">[</span>PROGRESS<span style=\"font-weight: bold\">]</span> now doing Isocortex, total # regions <span style=\"font-weight: bold\">(</span>left hemisphere only<span style=\"font-weight: bold\">)</span>: <span style=\"color: #008080; text-decoration-color: #008080; font-weight: bold\">384</span>\n",
       "</pre>\n"
      ],
      "text/plain": [
       "\n",
       "\u001b[1m[\u001b[0mPROGRESS\u001b[1m]\u001b[0m now doing Isocortex, total # regions \u001b[1m(\u001b[0mleft hemisphere only\u001b[1m)\u001b[0m: \u001b[1;36m384\u001b[0m\n"
      ]
     },
     "metadata": {},
     "output_type": "display_data"
    },
    {
     "data": {
      "text/html": [
       "<pre style=\"white-space:pre;overflow-x:auto;line-height:normal;font-family:Menlo,'DejaVu Sans Mono',consolas,'Courier New',monospace\">Scene saved at <span style=\"color: #800080; text-decoration-color: #800080\">/home/hadi/Dropbox/git/jb-Ca-fMRI/figs/parcellation/render/</span><span style=\"color: #ff00ff; text-decoration-color: #ff00ff\">Isocortex.html</span>\n",
       "</pre>\n"
      ],
      "text/plain": [
       "Scene saved at \u001b[35m/home/hadi/Dropbox/git/jb-Ca-fMRI/figs/parcellation/render/\u001b[0m\u001b[95mIsocortex.html\u001b[0m\n"
      ]
     },
     "metadata": {},
     "output_type": "display_data"
    },
    {
     "data": {
      "text/html": [
       "<pre style=\"white-space:pre;overflow-x:auto;line-height:normal;font-family:Menlo,'DejaVu Sans Mono',consolas,'Courier New',monospace\">\n",
       "<span style=\"font-weight: bold\">[</span>PROGRESS<span style=\"font-weight: bold\">]</span> now doing OLF,       total # regions <span style=\"font-weight: bold\">(</span>left hemisphere only<span style=\"font-weight: bold\">)</span>: <span style=\"color: #008080; text-decoration-color: #008080; font-weight: bold\">144</span>\n",
       "</pre>\n"
      ],
      "text/plain": [
       "\n",
       "\u001b[1m[\u001b[0mPROGRESS\u001b[1m]\u001b[0m now doing OLF,       total # regions \u001b[1m(\u001b[0mleft hemisphere only\u001b[1m)\u001b[0m: \u001b[1;36m144\u001b[0m\n"
      ]
     },
     "metadata": {},
     "output_type": "display_data"
    },
    {
     "data": {
      "text/html": [
       "<pre style=\"white-space:pre;overflow-x:auto;line-height:normal;font-family:Menlo,'DejaVu Sans Mono',consolas,'Courier New',monospace\">Scene saved at <span style=\"color: #800080; text-decoration-color: #800080\">/home/hadi/Dropbox/git/jb-Ca-fMRI/figs/parcellation/render/</span><span style=\"color: #ff00ff; text-decoration-color: #ff00ff\">OLF.html</span>\n",
       "</pre>\n"
      ],
      "text/plain": [
       "Scene saved at \u001b[35m/home/hadi/Dropbox/git/jb-Ca-fMRI/figs/parcellation/render/\u001b[0m\u001b[95mOLF.html\u001b[0m\n"
      ]
     },
     "metadata": {},
     "output_type": "display_data"
    },
    {
     "data": {
      "text/html": [
       "<pre style=\"white-space:pre;overflow-x:auto;line-height:normal;font-family:Menlo,'DejaVu Sans Mono',consolas,'Courier New',monospace\">\n",
       "<span style=\"font-weight: bold\">[</span>PROGRESS<span style=\"font-weight: bold\">]</span> now doing HIP,       total # regions <span style=\"font-weight: bold\">(</span>left hemisphere only<span style=\"font-weight: bold\">)</span>: <span style=\"color: #008080; text-decoration-color: #008080; font-weight: bold\">72</span>\n",
       "</pre>\n"
      ],
      "text/plain": [
       "\n",
       "\u001b[1m[\u001b[0mPROGRESS\u001b[1m]\u001b[0m now doing HIP,       total # regions \u001b[1m(\u001b[0mleft hemisphere only\u001b[1m)\u001b[0m: \u001b[1;36m72\u001b[0m\n"
      ]
     },
     "metadata": {},
     "output_type": "display_data"
    },
    {
     "data": {
      "text/html": [
       "<pre style=\"white-space:pre;overflow-x:auto;line-height:normal;font-family:Menlo,'DejaVu Sans Mono',consolas,'Courier New',monospace\">Scene saved at <span style=\"color: #800080; text-decoration-color: #800080\">/home/hadi/Dropbox/git/jb-Ca-fMRI/figs/parcellation/render/</span><span style=\"color: #ff00ff; text-decoration-color: #ff00ff\">HIP.html</span>\n",
       "</pre>\n"
      ],
      "text/plain": [
       "Scene saved at \u001b[35m/home/hadi/Dropbox/git/jb-Ca-fMRI/figs/parcellation/render/\u001b[0m\u001b[95mHIP.html\u001b[0m\n"
      ]
     },
     "metadata": {},
     "output_type": "display_data"
    },
    {
     "data": {
      "text/html": [
       "<pre style=\"white-space:pre;overflow-x:auto;line-height:normal;font-family:Menlo,'DejaVu Sans Mono',consolas,'Courier New',monospace\">\n",
       "<span style=\"font-weight: bold\">[</span>PROGRESS<span style=\"font-weight: bold\">]</span> now doing RHP,       total # regions <span style=\"font-weight: bold\">(</span>left hemisphere only<span style=\"font-weight: bold\">)</span>: <span style=\"color: #008080; text-decoration-color: #008080; font-weight: bold\">57</span>\n",
       "</pre>\n"
      ],
      "text/plain": [
       "\n",
       "\u001b[1m[\u001b[0mPROGRESS\u001b[1m]\u001b[0m now doing RHP,       total # regions \u001b[1m(\u001b[0mleft hemisphere only\u001b[1m)\u001b[0m: \u001b[1;36m57\u001b[0m\n"
      ]
     },
     "metadata": {},
     "output_type": "display_data"
    },
    {
     "data": {
      "text/html": [
       "<pre style=\"white-space:pre;overflow-x:auto;line-height:normal;font-family:Menlo,'DejaVu Sans Mono',consolas,'Courier New',monospace\">Scene saved at <span style=\"color: #800080; text-decoration-color: #800080\">/home/hadi/Dropbox/git/jb-Ca-fMRI/figs/parcellation/render/</span><span style=\"color: #ff00ff; text-decoration-color: #ff00ff\">RHP.html</span>\n",
       "</pre>\n"
      ],
      "text/plain": [
       "Scene saved at \u001b[35m/home/hadi/Dropbox/git/jb-Ca-fMRI/figs/parcellation/render/\u001b[0m\u001b[95mRHP.html\u001b[0m\n"
      ]
     },
     "metadata": {},
     "output_type": "display_data"
    },
    {
     "data": {
      "text/html": [
       "<pre style=\"white-space:pre;overflow-x:auto;line-height:normal;font-family:Menlo,'DejaVu Sans Mono',consolas,'Courier New',monospace\">\n",
       "<span style=\"font-weight: bold\">[</span>PROGRESS<span style=\"font-weight: bold\">]</span> now doing CTXsp,     total # regions <span style=\"font-weight: bold\">(</span>left hemisphere only<span style=\"font-weight: bold\">)</span>: <span style=\"color: #008080; text-decoration-color: #008080; font-weight: bold\">28</span>\n",
       "</pre>\n"
      ],
      "text/plain": [
       "\n",
       "\u001b[1m[\u001b[0mPROGRESS\u001b[1m]\u001b[0m now doing CTXsp,     total # regions \u001b[1m(\u001b[0mleft hemisphere only\u001b[1m)\u001b[0m: \u001b[1;36m28\u001b[0m\n"
      ]
     },
     "metadata": {},
     "output_type": "display_data"
    },
    {
     "data": {
      "text/html": [
       "<pre style=\"white-space:pre;overflow-x:auto;line-height:normal;font-family:Menlo,'DejaVu Sans Mono',consolas,'Courier New',monospace\">Scene saved at <span style=\"color: #800080; text-decoration-color: #800080\">/home/hadi/Dropbox/git/jb-Ca-fMRI/figs/parcellation/render/</span><span style=\"color: #ff00ff; text-decoration-color: #ff00ff\">CTXsp.html</span>\n",
       "</pre>\n"
      ],
      "text/plain": [
       "Scene saved at \u001b[35m/home/hadi/Dropbox/git/jb-Ca-fMRI/figs/parcellation/render/\u001b[0m\u001b[95mCTXsp.html\u001b[0m\n"
      ]
     },
     "metadata": {},
     "output_type": "display_data"
    },
    {
     "data": {
      "text/html": [
       "<pre style=\"white-space:pre;overflow-x:auto;line-height:normal;font-family:Menlo,'DejaVu Sans Mono',consolas,'Courier New',monospace\">\n",
       "<span style=\"font-weight: bold\">[</span>PROGRESS<span style=\"font-weight: bold\">]</span> now doing STR,       total # regions <span style=\"font-weight: bold\">(</span>left hemisphere only<span style=\"font-weight: bold\">)</span>: <span style=\"color: #008080; text-decoration-color: #008080; font-weight: bold\">140</span>\n",
       "</pre>\n"
      ],
      "text/plain": [
       "\n",
       "\u001b[1m[\u001b[0mPROGRESS\u001b[1m]\u001b[0m now doing STR,       total # regions \u001b[1m(\u001b[0mleft hemisphere only\u001b[1m)\u001b[0m: \u001b[1;36m140\u001b[0m\n"
      ]
     },
     "metadata": {},
     "output_type": "display_data"
    },
    {
     "data": {
      "text/html": [
       "<pre style=\"white-space:pre;overflow-x:auto;line-height:normal;font-family:Menlo,'DejaVu Sans Mono',consolas,'Courier New',monospace\">Scene saved at <span style=\"color: #800080; text-decoration-color: #800080\">/home/hadi/Dropbox/git/jb-Ca-fMRI/figs/parcellation/render/</span><span style=\"color: #ff00ff; text-decoration-color: #ff00ff\">STR.html</span>\n",
       "</pre>\n"
      ],
      "text/plain": [
       "Scene saved at \u001b[35m/home/hadi/Dropbox/git/jb-Ca-fMRI/figs/parcellation/render/\u001b[0m\u001b[95mSTR.html\u001b[0m\n"
      ]
     },
     "metadata": {},
     "output_type": "display_data"
    },
    {
     "data": {
      "text/html": [
       "<pre style=\"white-space:pre;overflow-x:auto;line-height:normal;font-family:Menlo,'DejaVu Sans Mono',consolas,'Courier New',monospace\">\n",
       "<span style=\"font-weight: bold\">[</span>PROGRESS<span style=\"font-weight: bold\">]</span> now doing PAL,       total # regions <span style=\"font-weight: bold\">(</span>left hemisphere only<span style=\"font-weight: bold\">)</span>: <span style=\"color: #008080; text-decoration-color: #008080; font-weight: bold\">29</span>\n",
       "</pre>\n"
      ],
      "text/plain": [
       "\n",
       "\u001b[1m[\u001b[0mPROGRESS\u001b[1m]\u001b[0m now doing PAL,       total # regions \u001b[1m(\u001b[0mleft hemisphere only\u001b[1m)\u001b[0m: \u001b[1;36m29\u001b[0m\n"
      ]
     },
     "metadata": {},
     "output_type": "display_data"
    },
    {
     "data": {
      "text/html": [
       "<pre style=\"white-space:pre;overflow-x:auto;line-height:normal;font-family:Menlo,'DejaVu Sans Mono',consolas,'Courier New',monospace\">Scene saved at <span style=\"color: #800080; text-decoration-color: #800080\">/home/hadi/Dropbox/git/jb-Ca-fMRI/figs/parcellation/render/</span><span style=\"color: #ff00ff; text-decoration-color: #ff00ff\">PAL.html</span>\n",
       "</pre>\n"
      ],
      "text/plain": [
       "Scene saved at \u001b[35m/home/hadi/Dropbox/git/jb-Ca-fMRI/figs/parcellation/render/\u001b[0m\u001b[95mPAL.html\u001b[0m\n"
      ]
     },
     "metadata": {},
     "output_type": "display_data"
    },
    {
     "data": {
      "text/html": [
       "<pre style=\"white-space:pre;overflow-x:auto;line-height:normal;font-family:Menlo,'DejaVu Sans Mono',consolas,'Courier New',monospace\">\n",
       "<span style=\"font-weight: bold\">[</span>PROGRESS<span style=\"font-weight: bold\">]</span> now doing TH,        total # regions <span style=\"font-weight: bold\">(</span>left hemisphere only<span style=\"font-weight: bold\">)</span>: <span style=\"color: #008080; text-decoration-color: #008080; font-weight: bold\">63</span>\n",
       "</pre>\n"
      ],
      "text/plain": [
       "\n",
       "\u001b[1m[\u001b[0mPROGRESS\u001b[1m]\u001b[0m now doing TH,        total # regions \u001b[1m(\u001b[0mleft hemisphere only\u001b[1m)\u001b[0m: \u001b[1;36m63\u001b[0m\n"
      ]
     },
     "metadata": {},
     "output_type": "display_data"
    },
    {
     "data": {
      "text/html": [
       "<pre style=\"white-space:pre;overflow-x:auto;line-height:normal;font-family:Menlo,'DejaVu Sans Mono',consolas,'Courier New',monospace\">Scene saved at <span style=\"color: #800080; text-decoration-color: #800080\">/home/hadi/Dropbox/git/jb-Ca-fMRI/figs/parcellation/render/</span><span style=\"color: #ff00ff; text-decoration-color: #ff00ff\">TH.html</span>\n",
       "</pre>\n"
      ],
      "text/plain": [
       "Scene saved at \u001b[35m/home/hadi/Dropbox/git/jb-Ca-fMRI/figs/parcellation/render/\u001b[0m\u001b[95mTH.html\u001b[0m\n"
      ]
     },
     "metadata": {},
     "output_type": "display_data"
    },
    {
     "data": {
      "text/html": [
       "<pre style=\"white-space:pre;overflow-x:auto;line-height:normal;font-family:Menlo,'DejaVu Sans Mono',consolas,'Courier New',monospace\">\n",
       "<span style=\"font-weight: bold\">[</span>PROGRESS<span style=\"font-weight: bold\">]</span> now doing HY,        total # regions <span style=\"font-weight: bold\">(</span>left hemisphere only<span style=\"font-weight: bold\">)</span>: <span style=\"color: #008080; text-decoration-color: #008080; font-weight: bold\">46</span>\n",
       "</pre>\n"
      ],
      "text/plain": [
       "\n",
       "\u001b[1m[\u001b[0mPROGRESS\u001b[1m]\u001b[0m now doing HY,        total # regions \u001b[1m(\u001b[0mleft hemisphere only\u001b[1m)\u001b[0m: \u001b[1;36m46\u001b[0m\n"
      ]
     },
     "metadata": {},
     "output_type": "display_data"
    },
    {
     "data": {
      "text/html": [
       "<pre style=\"white-space:pre;overflow-x:auto;line-height:normal;font-family:Menlo,'DejaVu Sans Mono',consolas,'Courier New',monospace\">Scene saved at <span style=\"color: #800080; text-decoration-color: #800080\">/home/hadi/Dropbox/git/jb-Ca-fMRI/figs/parcellation/render/</span><span style=\"color: #ff00ff; text-decoration-color: #ff00ff\">HY.html</span>\n",
       "</pre>\n"
      ],
      "text/plain": [
       "Scene saved at \u001b[35m/home/hadi/Dropbox/git/jb-Ca-fMRI/figs/parcellation/render/\u001b[0m\u001b[95mHY.html\u001b[0m\n"
      ]
     },
     "metadata": {},
     "output_type": "display_data"
    },
    {
     "data": {
      "text/html": [
       "<pre style=\"white-space:pre;overflow-x:auto;line-height:normal;font-family:Menlo,'DejaVu Sans Mono',consolas,'Courier New',monospace\">\n",
       "<span style=\"font-weight: bold\">[</span>PROGRESS<span style=\"font-weight: bold\">]</span> now doing MB,        total # regions <span style=\"font-weight: bold\">(</span>left hemisphere only<span style=\"font-weight: bold\">)</span>: <span style=\"color: #008080; text-decoration-color: #008080; font-weight: bold\">113</span>\n",
       "</pre>\n"
      ],
      "text/plain": [
       "\n",
       "\u001b[1m[\u001b[0mPROGRESS\u001b[1m]\u001b[0m now doing MB,        total # regions \u001b[1m(\u001b[0mleft hemisphere only\u001b[1m)\u001b[0m: \u001b[1;36m113\u001b[0m\n"
      ]
     },
     "metadata": {},
     "output_type": "display_data"
    },
    {
     "data": {
      "text/html": [
       "<pre style=\"white-space:pre;overflow-x:auto;line-height:normal;font-family:Menlo,'DejaVu Sans Mono',consolas,'Courier New',monospace\">Scene saved at <span style=\"color: #800080; text-decoration-color: #800080\">/home/hadi/Dropbox/git/jb-Ca-fMRI/figs/parcellation/render/</span><span style=\"color: #ff00ff; text-decoration-color: #ff00ff\">MB.html</span>\n",
       "</pre>\n"
      ],
      "text/plain": [
       "Scene saved at \u001b[35m/home/hadi/Dropbox/git/jb-Ca-fMRI/figs/parcellation/render/\u001b[0m\u001b[95mMB.html\u001b[0m\n"
      ]
     },
     "metadata": {},
     "output_type": "display_data"
    },
    {
     "data": {
      "text/html": [
       "<pre style=\"white-space:pre;overflow-x:auto;line-height:normal;font-family:Menlo,'DejaVu Sans Mono',consolas,'Courier New',monospace\">\n",
       "<span style=\"font-weight: bold\">[</span>PROGRESS<span style=\"font-weight: bold\">]</span> now doing P, total # regions <span style=\"font-weight: bold\">(</span>left hemisphere only<span style=\"font-weight: bold\">)</span>: <span style=\"color: #008080; text-decoration-color: #008080; font-weight: bold\">51</span>\n",
       "</pre>\n"
      ],
      "text/plain": [
       "\n",
       "\u001b[1m[\u001b[0mPROGRESS\u001b[1m]\u001b[0m now doing P, total # regions \u001b[1m(\u001b[0mleft hemisphere only\u001b[1m)\u001b[0m: \u001b[1;36m51\u001b[0m\n"
      ]
     },
     "metadata": {},
     "output_type": "display_data"
    },
    {
     "data": {
      "text/html": [
       "<pre style=\"white-space:pre;overflow-x:auto;line-height:normal;font-family:Menlo,'DejaVu Sans Mono',consolas,'Courier New',monospace\">Scene saved at <span style=\"color: #800080; text-decoration-color: #800080\">/home/hadi/Dropbox/git/jb-Ca-fMRI/figs/parcellation/render/</span><span style=\"color: #ff00ff; text-decoration-color: #ff00ff\">P.html</span>\n",
       "</pre>\n"
      ],
      "text/plain": [
       "Scene saved at \u001b[35m/home/hadi/Dropbox/git/jb-Ca-fMRI/figs/parcellation/render/\u001b[0m\u001b[95mP.html\u001b[0m\n"
      ]
     },
     "metadata": {},
     "output_type": "display_data"
    },
    {
     "data": {
      "text/html": [
       "<pre style=\"white-space:pre;overflow-x:auto;line-height:normal;font-family:Menlo,'DejaVu Sans Mono',consolas,'Courier New',monospace\">\n",
       "<span style=\"font-weight: bold\">[</span>PROGRESS<span style=\"font-weight: bold\">]</span> now doing MY,        total # regions <span style=\"font-weight: bold\">(</span>left hemisphere only<span style=\"font-weight: bold\">)</span>: <span style=\"color: #008080; text-decoration-color: #008080; font-weight: bold\">96</span>\n",
       "</pre>\n"
      ],
      "text/plain": [
       "\n",
       "\u001b[1m[\u001b[0mPROGRESS\u001b[1m]\u001b[0m now doing MY,        total # regions \u001b[1m(\u001b[0mleft hemisphere only\u001b[1m)\u001b[0m: \u001b[1;36m96\u001b[0m\n"
      ]
     },
     "metadata": {},
     "output_type": "display_data"
    },
    {
     "data": {
      "text/html": [
       "<pre style=\"white-space:pre;overflow-x:auto;line-height:normal;font-family:Menlo,'DejaVu Sans Mono',consolas,'Courier New',monospace\">Scene saved at <span style=\"color: #800080; text-decoration-color: #800080\">/home/hadi/Dropbox/git/jb-Ca-fMRI/figs/parcellation/render/</span><span style=\"color: #ff00ff; text-decoration-color: #ff00ff\">MY.html</span>\n",
       "</pre>\n"
      ],
      "text/plain": [
       "Scene saved at \u001b[35m/home/hadi/Dropbox/git/jb-Ca-fMRI/figs/parcellation/render/\u001b[0m\u001b[95mMY.html\u001b[0m\n"
      ]
     },
     "metadata": {},
     "output_type": "display_data"
    },
    {
     "data": {
      "text/html": [
       "<pre style=\"white-space:pre;overflow-x:auto;line-height:normal;font-family:Menlo,'DejaVu Sans Mono',consolas,'Courier New',monospace\">\n",
       "<span style=\"font-weight: bold\">[</span>PROGRESS<span style=\"font-weight: bold\">]</span> now doing CB,        total # regions <span style=\"font-weight: bold\">(</span>left hemisphere only<span style=\"font-weight: bold\">)</span>: <span style=\"color: #008080; text-decoration-color: #008080; font-weight: bold\">168</span>\n",
       "</pre>\n"
      ],
      "text/plain": [
       "\n",
       "\u001b[1m[\u001b[0mPROGRESS\u001b[1m]\u001b[0m now doing CB,        total # regions \u001b[1m(\u001b[0mleft hemisphere only\u001b[1m)\u001b[0m: \u001b[1;36m168\u001b[0m\n"
      ]
     },
     "metadata": {},
     "output_type": "display_data"
    },
    {
     "data": {
      "text/html": [
       "<pre style=\"white-space:pre;overflow-x:auto;line-height:normal;font-family:Menlo,'DejaVu Sans Mono',consolas,'Courier New',monospace\">Scene saved at <span style=\"color: #800080; text-decoration-color: #800080\">/home/hadi/Dropbox/git/jb-Ca-fMRI/figs/parcellation/render/</span><span style=\"color: #ff00ff; text-decoration-color: #ff00ff\">CB.html</span>\n",
       "</pre>\n"
      ],
      "text/plain": [
       "Scene saved at \u001b[35m/home/hadi/Dropbox/git/jb-Ca-fMRI/figs/parcellation/render/\u001b[0m\u001b[95mCB.html\u001b[0m\n"
      ]
     },
     "metadata": {},
     "output_type": "display_data"
    },
    {
     "name": "stdout",
     "output_type": "stream",
     "text": [
      "CPU times: user 7min 49s, sys: 15.9 s, total: 8min 5s\n",
      "Wall time: 3min 3s\n"
     ]
    }
   ],
   "source": [
    "%%time\n",
    "\n",
    "for acro, m in masks.items():\n",
    "    # get masks\n",
    "    ml = np.logical_and(m, mice.al.mask_l)\n",
    "    mr = np.logical_and(m, mice.al.mask_r)\n",
    "    color = [\n",
    "        c / 255 for c in\n",
    "        mice.al.get(acro)['rgb_triplet']\n",
    "    ]\n",
    "    regions = mice.parcel.df.loc[\n",
    "        (mice.parcel.df['hemis'] == 1) &\n",
    "        (mice.parcel.df['acro'] == acro),\n",
    "        'id',\n",
    "    ].values\n",
    "    print(f\"\\n[PROGRESS] now doing {acro},\\ttotal # regions (left hemisphere only): {len(regions)}\")\n",
    "    \n",
    "    \n",
    "    # prepare\n",
    "    alpha_root = 0.2\n",
    "\n",
    "    _root_alpha = br_settings.ROOT_ALPHA\n",
    "    br_settings.ROOT_ALPHA = alpha_root\n",
    "    br_settings.RENDER = False\n",
    "\n",
    "    scene = Scene(atlas_name=\"allen_mouse_100um\", root=True, inset=True)\n",
    "    scene.atlas = load_bg_atlas(scene.atlas)\n",
    "    src_space = AnatomicalSpace(\n",
    "        origin='lsa',\n",
    "        shape=scene.atlas.space.shape,\n",
    "        resolution=scene.atlas.space.resolution,\n",
    "        offset=scene.atlas.space.offset,\n",
    "    )\n",
    "    \n",
    "    # create surfaces etc\n",
    "    surfaces, names, colors = [], [], []\n",
    "\n",
    "    for alpha, m, lr in [(1.0, mr, 'right')]:\n",
    "        x = src_space.map_stack_to(scene.atlas.space, m)\n",
    "        colors.append(color)\n",
    "        vol = vd_Volume(x.astype('uint32'), spacing=scene.atlas.resolution).medianSmooth()\n",
    "        surf = vol.isosurface().alpha(alpha).lw(0).c(rgb2hex(color))\n",
    "        surf.smoothWSinc().computeNormals().lighting('metallic').phong().decimate().clean()\n",
    "        surfaces.append(surf)\n",
    "        names.append(f\"{acro}_{lr}\")\n",
    "\n",
    "    for i, r in enumerate(regions):\n",
    "        x = mice.parcel['brain'] == r\n",
    "        x = src_space.map_stack_to(scene.atlas.space, x)\n",
    "        c = cmap(i / len(regions))[:3]\n",
    "        colors.append(c)\n",
    "\n",
    "        vol = vd_Volume(x.astype('uint32'), spacing=scene.atlas.resolution).medianSmooth()\n",
    "        surf = vol.isosurface().alpha(1.0).lw(0).c(rgb2hex(c))\n",
    "        surf.smoothWSinc().computeNormals().lighting('metallic').phong().decimate().clean()\n",
    "        surfaces.append(surf)\n",
    "        names.append(f\"{acro}_{r}\")\n",
    "    \n",
    "    # save\n",
    "    scene.add_silhouette(*scene.actors, lw=0.7, color='k')\n",
    "    scene.add(*surfaces, names=names, colors=colors)\n",
    "\n",
    "    br_settings.RENDER = True\n",
    "    path = scene.export(pjoin(fig_dir, f\"{acro}.html\"))\n",
    "    br_settings.RENDER = False\n",
    "    br_settings.ROOT_ALPHA = _root_alpha\n",
    "    scene.plotter.close()"
   ]
  },
  {
   "cell_type": "markdown",
   "id": "ffec330c",
   "metadata": {},
   "source": [
    "### Save cortical (col)"
   ]
  },
  {
   "cell_type": "code",
   "execution_count": 7,
   "id": "b0e34aeb",
   "metadata": {},
   "outputs": [
    {
     "data": {
      "text/html": [
       "<pre style=\"white-space:pre;overflow-x:auto;line-height:normal;font-family:Menlo,'DejaVu Sans Mono',consolas,'Courier New',monospace\">Scene saved at <span style=\"color: #800080; text-decoration-color: #800080\">/home/hadi/Dropbox/git/jb-Ca-fMRI/figs/parcellation/render/</span><span style=\"color: #ff00ff; text-decoration-color: #ff00ff\">Isocortex-Cols.html</span>\n",
       "</pre>\n"
      ],
      "text/plain": [
       "Scene saved at \u001b[35m/home/hadi/Dropbox/git/jb-Ca-fMRI/figs/parcellation/render/\u001b[0m\u001b[95mIsocortex-Cols.html\u001b[0m\n"
      ]
     },
     "metadata": {},
     "output_type": "display_data"
    }
   ],
   "source": [
    "acro = 'Isocortex'\n",
    "m = masks[acro]\n",
    "ml = np.logical_and(m, mice.al.mask_l)\n",
    "mr = np.logical_and(m, mice.al.mask_r)\n",
    "color = [\n",
    "    c / 255 for c in\n",
    "    mice.al.get(acro)['rgb_triplet']\n",
    "]\n",
    "regions = mice.parcel.df.loc[\n",
    "    (mice.parcel.df['layer'] == 0) &\n",
    "    (mice.parcel.df['hemis'] == 1) &\n",
    "    (mice.parcel.df['acro'] == acro),\n",
    "    'region'\n",
    "].values\n",
    "\n",
    "\n",
    "# prepare\n",
    "alpha_root = 0.2\n",
    "\n",
    "_root_alpha = br_settings.ROOT_ALPHA\n",
    "br_settings.ROOT_ALPHA = alpha_root\n",
    "br_settings.RENDER = False\n",
    "\n",
    "scene = Scene(atlas_name=\"allen_mouse_100um\", root=True, inset=True)\n",
    "scene.atlas = load_bg_atlas(scene.atlas)\n",
    "src_space = AnatomicalSpace(\n",
    "    origin='lsa',\n",
    "    shape=scene.atlas.space.shape,\n",
    "    resolution=scene.atlas.space.resolution,\n",
    "    offset=scene.atlas.space.offset,\n",
    ")\n",
    "\n",
    "# create surfaces etc\n",
    "surfaces, names, colors = [], [], []\n",
    "\n",
    "for alpha, m, lr in [(1.0, mr, 'right')]:\n",
    "    x = src_space.map_stack_to(scene.atlas.space, m)\n",
    "    colors.append(color)\n",
    "    vol = vd_Volume(x.astype('uint32'), spacing=scene.atlas.resolution).medianSmooth()\n",
    "    surf = vol.isosurface().alpha(alpha).lw(0).c(rgb2hex(color))\n",
    "    surf.smoothWSinc().computeNormals().lighting('metallic').phong().decimate().clean()\n",
    "    surfaces.append(surf)\n",
    "    names.append(f\"{acro}_{lr}\")\n",
    "\n",
    "for i, r in enumerate(regions):\n",
    "    x = mice.parcel['cols'] == r\n",
    "    x = src_space.map_stack_to(scene.atlas.space, x)\n",
    "    c = cmap(i / len(regions))[:3]\n",
    "    colors.append(c)\n",
    "\n",
    "    vol = vd_Volume(x.astype('uint32'), spacing=scene.atlas.resolution).medianSmooth()\n",
    "    surf = vol.isosurface().alpha(1.0).lw(0).c(rgb2hex(c))\n",
    "    surf.smoothWSinc().computeNormals().lighting('metallic').phong().decimate().clean()\n",
    "    surfaces.append(surf)\n",
    "    names.append(f\"{acro}_{r}\")\n",
    "\n",
    "# save\n",
    "scene.add_silhouette(*scene.actors, lw=0.7, color='k')\n",
    "scene.add(*surfaces, names=names, colors=colors)\n",
    "\n",
    "br_settings.RENDER = True\n",
    "path = scene.export(pjoin(fig_dir, f\"{acro}-Cols.html\"))\n",
    "br_settings.RENDER = False\n",
    "br_settings.ROOT_ALPHA = _root_alpha\n",
    "scene.plotter.close()"
   ]
  },
  {
   "cell_type": "markdown",
   "id": "ea466186",
   "metadata": {},
   "source": [
    "### All together"
   ]
  },
  {
   "cell_type": "code",
   "execution_count": 13,
   "id": "f238b5bc",
   "metadata": {},
   "outputs": [
    {
     "data": {
      "text/html": [
       "<pre style=\"white-space:pre;overflow-x:auto;line-height:normal;font-family:Menlo,'DejaVu Sans Mono',consolas,'Courier New',monospace\">Scene saved at <span style=\"color: #800080; text-decoration-color: #800080\">/home/hadi/Dropbox/git/jb-Ca-fMRI/figs/parcellation/render/</span><span style=\"color: #ff00ff; text-decoration-color: #ff00ff\">ALL.html</span>\n",
       "</pre>\n"
      ],
      "text/plain": [
       "Scene saved at \u001b[35m/home/hadi/Dropbox/git/jb-Ca-fMRI/figs/parcellation/render/\u001b[0m\u001b[95mALL.html\u001b[0m\n"
      ]
     },
     "metadata": {},
     "output_type": "display_data"
    },
    {
     "name": "stdout",
     "output_type": "stream",
     "text": [
      "CPU times: user 1min 34s, sys: 2.21 s, total: 1min 36s\n",
      "Wall time: 29.6 s\n"
     ]
    }
   ],
   "source": [
    "%%time\n",
    "\n",
    "# prepare\n",
    "alpha_root = 0.2\n",
    "\n",
    "_root_alpha = br_settings.ROOT_ALPHA\n",
    "br_settings.ROOT_ALPHA = alpha_root\n",
    "br_settings.RENDER = False\n",
    "\n",
    "scene = Scene(atlas_name=\"allen_mouse_100um\", root=False, inset=True)\n",
    "scene.atlas = load_bg_atlas(scene.atlas)\n",
    "src_space = AnatomicalSpace(\n",
    "    origin='lsa',\n",
    "    shape=scene.atlas.space.shape,\n",
    "    resolution=scene.atlas.space.resolution,\n",
    "    offset=scene.atlas.space.offset,\n",
    ")\n",
    "\n",
    "# create surfaces etc\n",
    "surfaces, names, colors = [], [], []\n",
    "\n",
    "for acro, m in masks.items():\n",
    "    color = [\n",
    "        c / 255 for c in\n",
    "        mice.al.get(acro)['rgb_triplet']\n",
    "    ]\n",
    "    x = np.logical_and(m, mice.al.mask_r)\n",
    "    x = src_space.map_stack_to(scene.atlas.space, x)\n",
    "    colors.append(color)\n",
    "    vol = vd_Volume(x.astype('uint32'), spacing=scene.atlas.resolution).medianSmooth()\n",
    "    surf = vol.isosurface().alpha(0.9).lw(0).c(rgb2hex(color))\n",
    "    surf.smoothWSinc().computeNormals().lighting('metallic').phong().decimate().clean()\n",
    "    surfaces.append(surf)\n",
    "    names.append(f\"{acro}_right\")\n",
    "\n",
    "regions = mice.parcel.df.loc[\n",
    "    mice.parcel.df['hemis'] == 1,\n",
    "    'id',\n",
    "].values\n",
    "for i, r in enumerate(regions):\n",
    "    if i % 5 != 0:\n",
    "        continue\n",
    "    x = mice.parcel['brain'] == r\n",
    "    x = src_space.map_stack_to(scene.atlas.space, x)\n",
    "    c = cmap(i / len(regions))[:3]\n",
    "    colors.append(c)\n",
    "\n",
    "    vol = vd_Volume(x.astype('uint32'), spacing=scene.atlas.resolution).medianSmooth()\n",
    "    surf = vol.isosurface().alpha(0.1).lw(0).c(rgb2hex(c))\n",
    "    surf.smoothWSinc().computeNormals().lighting('metallic').phong().decimate().clean()\n",
    "    surfaces.append(surf)\n",
    "    names.append(f\"{acro}_{r}\")\n",
    "\n",
    "# save\n",
    "scene.add_silhouette(*scene.actors, lw=0.7, color='k')\n",
    "scene.add(*surfaces, names=names, colors=colors)\n",
    "\n",
    "br_settings.RENDER = True\n",
    "path = scene.export(pjoin(fig_dir, f\"ALL.html\"))\n",
    "br_settings.RENDER = False\n",
    "br_settings.ROOT_ALPHA = _root_alpha\n",
    "scene.plotter.close()"
   ]
  },
  {
   "cell_type": "code",
   "execution_count": null,
   "id": "20b164b6",
   "metadata": {},
   "outputs": [],
   "source": []
  },
  {
   "cell_type": "code",
   "execution_count": null,
   "id": "49b310b7",
   "metadata": {},
   "outputs": [],
   "source": []
  },
  {
   "cell_type": "code",
   "execution_count": null,
   "id": "3dd6653c",
   "metadata": {},
   "outputs": [],
   "source": []
  }
 ],
 "metadata": {
  "kernelspec": {
   "display_name": "Python 3",
   "language": "python",
   "name": "python3"
  },
  "language_info": {
   "codemirror_mode": {
    "name": "ipython",
    "version": 3
   },
   "file_extension": ".py",
   "mimetype": "text/x-python",
   "name": "python",
   "nbconvert_exporter": "python",
   "pygments_lexer": "ipython3",
   "version": "3.8.3"
  }
 },
 "nbformat": 4,
 "nbformat_minor": 5
}
