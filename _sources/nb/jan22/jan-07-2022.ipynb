{
 "cells": [
  {
   "cell_type": "markdown",
   "id": "3702b035",
   "metadata": {},
   "source": [
    "# Jan 7th, 2022 (rabies: 2nd stage)\n",
    "\n",
    "**Motivation**: Organize files shared by Gabe.  Includes clean time series, brain masks per run, and temporal masks. ***NEW***: Reorient? <br>"
   ]
  },
  {
   "cell_type": "code",
   "execution_count": 1,
   "id": "c8650d07",
   "metadata": {
    "tags": [
     "hide-input"
    ]
   },
   "outputs": [],
   "source": [
    "# HIDE CODE\n",
    "\n",
    "\n",
    "import os\n",
    "import sys\n",
    "import nibabel as nib\n",
    "import networkx as nx\n",
    "from time import time\n",
    "from pprint import pprint\n",
    "from copy import deepcopy as dc\n",
    "from os.path import join as pjoin\n",
    "from myterial import orange, blue_grey\n",
    "from IPython.display import display, IFrame, HTML\n",
    "from matplotlib.colors import rgb2hex, to_rgb\n",
    "import matplotlib.pyplot as plt\n",
    "import seaborn as sns\n",
    "\n",
    "# set style & no interpolalation\n",
    "import matplotlib\n",
    "matplotlib.rcParams['image.interpolation'] = 'none'\n",
    "sns.set_style('whitegrid')\n",
    "%matplotlib inline\n",
    "\n",
    "# tmp & extras dir\n",
    "git_dir = pjoin(os.environ['HOME'], 'Dropbox/git')\n",
    "tmp_dir = pjoin(git_dir, 'jb-Ca-fMRI/tmp')\n",
    "extras_dir = pjoin(git_dir, 'jb-Ca-fMRI/_extras')\n",
    "lfr_dir = pjoin(os.environ['HOME'], 'Documents/workspaces/lfr/binary_overlapping')\n",
    "\n",
    "\n",
    "# GitHub\n",
    "sys.path.insert(0, pjoin(git_dir, '_Ca-fMRI'))\n",
    "from register.atlas import make_tree_graph\n",
    "from register.parcellation import Parcellation\n",
    "from analysis.hierarchical import Hierarchical\n",
    "from analysis.bootstrap import *\n",
    "from analysis.svinet import *\n",
    "from analysis.group import *\n",
    "from analysis.lfr import *\n",
    "from utils.render import *\n",
    "from utils.plotting import *\n",
    "from model.mouse import Mice\n",
    "from model.configuration import Config\n",
    "\n",
    "# warnings\n",
    "import warnings\n",
    "warnings.filterwarnings('ignore', category=DeprecationWarning)"
   ]
  },
  {
   "cell_type": "code",
   "execution_count": 2,
   "id": "92720ae1",
   "metadata": {},
   "outputs": [
    {
     "data": {
      "text/html": [
       "<pre style=\"white-space:pre;overflow-x:auto;line-height:normal;font-family:Menlo,'DejaVu Sans Mono',consolas,'Courier New',monospace\">ROI lookup not found, time to run <span style=\"color: #800080; text-decoration-color: #800080; font-weight: bold\">organize_func</span><span style=\"font-weight: bold\">()</span> . . .\n",
       "</pre>\n"
      ],
      "text/plain": [
       "ROI lookup not found, time to run \u001b[1;35morganize_func\u001b[0m\u001b[1m(\u001b[0m\u001b[1m)\u001b[0m . . .\n"
      ]
     },
     "metadata": {},
     "output_type": "display_data"
    },
    {
     "data": {
      "text/html": [
       "<pre style=\"white-space:pre;overflow-x:auto;line-height:normal;font-family:Menlo,'DejaVu Sans Mono',consolas,'Courier New',monospace\">combine metadata not found, time to run <span style=\"color: #800080; text-decoration-color: #800080; font-weight: bold\">cat_data</span><span style=\"font-weight: bold\">()</span> . . .\n",
       "</pre>\n"
      ],
      "text/plain": [
       "combine metadata not found, time to run \u001b[1;35mcat_data\u001b[0m\u001b[1m(\u001b[0m\u001b[1m)\u001b[0m . . .\n"
      ]
     },
     "metadata": {},
     "output_type": "display_data"
    },
    {
     "data": {
      "text/html": [
       "<pre style=\"white-space:pre;overflow-x:auto;line-height:normal;font-family:Menlo,'DejaVu Sans Mono',consolas,'Courier New',monospace\"><span style=\"font-weight: bold\">[</span><span style=\"color: #008000; text-decoration-color: #008000\">'native_brain_mask'</span>, <span style=\"color: #008000; text-decoration-color: #008000\">'confound_correction_wf_datasink'</span><span style=\"font-weight: bold\">]</span>\n",
       "</pre>\n"
      ],
      "text/plain": [
       "\u001b[1m[\u001b[0m\u001b[32m'native_brain_mask'\u001b[0m, \u001b[32m'confound_correction_wf_datasink'\u001b[0m\u001b[1m]\u001b[0m\n"
      ]
     },
     "metadata": {},
     "output_type": "display_data"
    }
   ],
   "source": [
    "mice = Mice((64, 0))\n",
    "mice.setup_anat_data()\n",
    "\n",
    "meta_dir = pjoin(mice.cfg.base_dir, 'meta_info')\n",
    "cwd = pjoin(mice.cfg.download_dir, 'native_mot6_FD_DVARS_WM_CSF')\n",
    "os.listdir(cwd)"
   ]
  },
  {
   "cell_type": "code",
   "execution_count": null,
   "id": "0ccf5eb8",
   "metadata": {},
   "outputs": [],
   "source": []
  },
  {
   "cell_type": "code",
   "execution_count": 5,
   "id": "310e3285",
   "metadata": {},
   "outputs": [
    {
     "data": {
      "text/html": [
       "<div>\n",
       "<style scoped>\n",
       "    .dataframe tbody tr th:only-of-type {\n",
       "        vertical-align: middle;\n",
       "    }\n",
       "\n",
       "    .dataframe tbody tr th {\n",
       "        vertical-align: top;\n",
       "    }\n",
       "\n",
       "    .dataframe thead th {\n",
       "        text-align: right;\n",
       "    }\n",
       "</style>\n",
       "<table border=\"1\" class=\"dataframe\">\n",
       "  <thead>\n",
       "    <tr style=\"text-align: right;\">\n",
       "      <th></th>\n",
       "      <th>sub</th>\n",
       "      <th>ses</th>\n",
       "      <th>run</th>\n",
       "      <th>key</th>\n",
       "      <th>temporal_mask</th>\n",
       "    </tr>\n",
       "  </thead>\n",
       "  <tbody>\n",
       "    <tr>\n",
       "      <th>0</th>\n",
       "      <td>1</td>\n",
       "      <td>1</td>\n",
       "      <td>1</td>\n",
       "      <td>sub-SLC01_ses-1_run-1</td>\n",
       "      <td>0</td>\n",
       "    </tr>\n",
       "    <tr>\n",
       "      <th>1</th>\n",
       "      <td>1</td>\n",
       "      <td>1</td>\n",
       "      <td>1</td>\n",
       "      <td>sub-SLC01_ses-1_run-1</td>\n",
       "      <td>1</td>\n",
       "    </tr>\n",
       "    <tr>\n",
       "      <th>2</th>\n",
       "      <td>1</td>\n",
       "      <td>1</td>\n",
       "      <td>1</td>\n",
       "      <td>sub-SLC01_ses-1_run-1</td>\n",
       "      <td>1</td>\n",
       "    </tr>\n",
       "    <tr>\n",
       "      <th>3</th>\n",
       "      <td>1</td>\n",
       "      <td>1</td>\n",
       "      <td>1</td>\n",
       "      <td>sub-SLC01_ses-1_run-1</td>\n",
       "      <td>1</td>\n",
       "    </tr>\n",
       "    <tr>\n",
       "      <th>4</th>\n",
       "      <td>1</td>\n",
       "      <td>1</td>\n",
       "      <td>1</td>\n",
       "      <td>sub-SLC01_ses-1_run-1</td>\n",
       "      <td>1</td>\n",
       "    </tr>\n",
       "    <tr>\n",
       "      <th>...</th>\n",
       "      <td>...</td>\n",
       "      <td>...</td>\n",
       "      <td>...</td>\n",
       "      <td>...</td>\n",
       "      <td>...</td>\n",
       "    </tr>\n",
       "    <tr>\n",
       "      <th>121795</th>\n",
       "      <td>10</td>\n",
       "      <td>3</td>\n",
       "      <td>7</td>\n",
       "      <td>sub-SLC10_ses-3_run-7</td>\n",
       "      <td>1</td>\n",
       "    </tr>\n",
       "    <tr>\n",
       "      <th>121796</th>\n",
       "      <td>10</td>\n",
       "      <td>3</td>\n",
       "      <td>7</td>\n",
       "      <td>sub-SLC10_ses-3_run-7</td>\n",
       "      <td>1</td>\n",
       "    </tr>\n",
       "    <tr>\n",
       "      <th>121797</th>\n",
       "      <td>10</td>\n",
       "      <td>3</td>\n",
       "      <td>7</td>\n",
       "      <td>sub-SLC10_ses-3_run-7</td>\n",
       "      <td>1</td>\n",
       "    </tr>\n",
       "    <tr>\n",
       "      <th>121798</th>\n",
       "      <td>10</td>\n",
       "      <td>3</td>\n",
       "      <td>7</td>\n",
       "      <td>sub-SLC10_ses-3_run-7</td>\n",
       "      <td>1</td>\n",
       "    </tr>\n",
       "    <tr>\n",
       "      <th>121799</th>\n",
       "      <td>10</td>\n",
       "      <td>3</td>\n",
       "      <td>7</td>\n",
       "      <td>sub-SLC10_ses-3_run-7</td>\n",
       "      <td>1</td>\n",
       "    </tr>\n",
       "  </tbody>\n",
       "</table>\n",
       "<p>121800 rows × 5 columns</p>\n",
       "</div>"
      ]
     },
     "execution_count": 5,
     "metadata": {},
     "output_type": "execute_result"
    }
   ],
   "source": [
    "tm_df = pd.read_pickle(pjoin(meta_dir, 'temporal_mask.df'))\n",
    "tm_df"
   ]
  },
  {
   "cell_type": "code",
   "execution_count": 7,
   "id": "461cba1b",
   "metadata": {},
   "outputs": [
    {
     "data": {
      "image/png": "[encoded data removed]"
     },
     "metadata": {
      "needs_background": "light"
     },
     "output_type": "display_data"
    }
   ],
   "source": [
    "sns.barplot(data=tm_df, x='sub', y='temporal_mask')\n",
    "plt.show()"
   ]
  },
  {
   "cell_type": "code",
   "execution_count": null,
   "id": "62d4c5c4",
   "metadata": {},
   "outputs": [],
   "source": []
  },
  {
   "cell_type": "code",
   "execution_count": 8,
   "id": "1ec3ea4c",
   "metadata": {},
   "outputs": [
    {
     "data": {
      "text/html": [
       "<div>\n",
       "<style scoped>\n",
       "    .dataframe tbody tr th:only-of-type {\n",
       "        vertical-align: middle;\n",
       "    }\n",
       "\n",
       "    .dataframe tbody tr th {\n",
       "        vertical-align: top;\n",
       "    }\n",
       "\n",
       "    .dataframe thead th {\n",
       "        text-align: right;\n",
       "    }\n",
       "</style>\n",
       "<table border=\"1\" class=\"dataframe\">\n",
       "  <thead>\n",
       "    <tr style=\"text-align: right;\">\n",
       "      <th></th>\n",
       "      <th>sub</th>\n",
       "      <th>ses</th>\n",
       "      <th>run</th>\n",
       "      <th>temporal_mask</th>\n",
       "    </tr>\n",
       "    <tr>\n",
       "      <th>key</th>\n",
       "      <th></th>\n",
       "      <th></th>\n",
       "      <th></th>\n",
       "      <th></th>\n",
       "    </tr>\n",
       "  </thead>\n",
       "  <tbody>\n",
       "    <tr>\n",
       "      <th>sub-SLC01_ses-1_run-1</th>\n",
       "      <td>1.0</td>\n",
       "      <td>1.0</td>\n",
       "      <td>1.0</td>\n",
       "      <td>0.936667</td>\n",
       "    </tr>\n",
       "    <tr>\n",
       "      <th>sub-SLC01_ses-1_run-2</th>\n",
       "      <td>1.0</td>\n",
       "      <td>1.0</td>\n",
       "      <td>2.0</td>\n",
       "      <td>0.643333</td>\n",
       "    </tr>\n",
       "    <tr>\n",
       "      <th>sub-SLC01_ses-1_run-3</th>\n",
       "      <td>1.0</td>\n",
       "      <td>1.0</td>\n",
       "      <td>3.0</td>\n",
       "      <td>0.858333</td>\n",
       "    </tr>\n",
       "    <tr>\n",
       "      <th>sub-SLC01_ses-1_run-4</th>\n",
       "      <td>1.0</td>\n",
       "      <td>1.0</td>\n",
       "      <td>4.0</td>\n",
       "      <td>0.503333</td>\n",
       "    </tr>\n",
       "    <tr>\n",
       "      <th>sub-SLC01_ses-1_run-5</th>\n",
       "      <td>1.0</td>\n",
       "      <td>1.0</td>\n",
       "      <td>5.0</td>\n",
       "      <td>0.790000</td>\n",
       "    </tr>\n",
       "    <tr>\n",
       "      <th>...</th>\n",
       "      <td>...</td>\n",
       "      <td>...</td>\n",
       "      <td>...</td>\n",
       "      <td>...</td>\n",
       "    </tr>\n",
       "    <tr>\n",
       "      <th>sub-SLC10_ses-3_run-3</th>\n",
       "      <td>10.0</td>\n",
       "      <td>3.0</td>\n",
       "      <td>3.0</td>\n",
       "      <td>0.941667</td>\n",
       "    </tr>\n",
       "    <tr>\n",
       "      <th>sub-SLC10_ses-3_run-4</th>\n",
       "      <td>10.0</td>\n",
       "      <td>3.0</td>\n",
       "      <td>4.0</td>\n",
       "      <td>0.861667</td>\n",
       "    </tr>\n",
       "    <tr>\n",
       "      <th>sub-SLC10_ses-3_run-5</th>\n",
       "      <td>10.0</td>\n",
       "      <td>3.0</td>\n",
       "      <td>5.0</td>\n",
       "      <td>0.876667</td>\n",
       "    </tr>\n",
       "    <tr>\n",
       "      <th>sub-SLC10_ses-3_run-6</th>\n",
       "      <td>10.0</td>\n",
       "      <td>3.0</td>\n",
       "      <td>6.0</td>\n",
       "      <td>0.846667</td>\n",
       "    </tr>\n",
       "    <tr>\n",
       "      <th>sub-SLC10_ses-3_run-7</th>\n",
       "      <td>10.0</td>\n",
       "      <td>3.0</td>\n",
       "      <td>7.0</td>\n",
       "      <td>0.838333</td>\n",
       "    </tr>\n",
       "  </tbody>\n",
       "</table>\n",
       "<p>203 rows × 4 columns</p>\n",
       "</div>"
      ]
     },
     "execution_count": 8,
     "metadata": {},
     "output_type": "execute_result"
    }
   ],
   "source": [
    "df = tm_df.groupby(['key']).mean()\n",
    "df"
   ]
  },
  {
   "cell_type": "code",
   "execution_count": 9,
   "id": "7f208584",
   "metadata": {},
   "outputs": [
    {
     "data": {
      "image/png": "[encoded data removed]"
     },
     "metadata": {},
     "output_type": "display_data"
    }
   ],
   "source": [
    "fig, ax = create_figure(1, 1, (6, 5))\n",
    "\n",
    "sns.histplot(df, x='temporal_mask', kde=True, ax=ax)\n",
    "q = df['temporal_mask'].quantile(q=0.05)\n",
    "ax.axvline(q, color='r', ls='--', label=f'5-th %-tile = {q:0.2f}')\n",
    "q = df['temporal_mask'].mean()\n",
    "ax.axvline(q, color='k', ls='-.', label=f'mean = {q:0.2f}')\n",
    "ax.set_xlabel('proportion of time points kept', fontsize=15)\n",
    "ax.set_ylabel('number of runs', fontsize=15)\n",
    "ax.grid()\n",
    "ax.legend()\n",
    "\n",
    "plt.show()"
   ]
  },
  {
   "cell_type": "code",
   "execution_count": null,
   "id": "83fbc07c",
   "metadata": {},
   "outputs": [],
   "source": []
  },
  {
   "cell_type": "code",
   "execution_count": 10,
   "id": "12b344f4",
   "metadata": {},
   "outputs": [
    {
     "data": {
      "text/html": [
       "<pre style=\"white-space:pre;overflow-x:auto;line-height:normal;font-family:Menlo,'DejaVu Sans Mono',consolas,'Courier New',monospace\"><span style=\"color: #008080; text-decoration-color: #008080; font-weight: bold\">0.6768333333333333</span>\n",
       "</pre>\n"
      ],
      "text/plain": [
       "\u001b[1;36m0.6768333333333333\u001b[0m\n"
      ]
     },
     "metadata": {},
     "output_type": "display_data"
    }
   ],
   "source": [
    "q = df['temporal_mask'].quantile(q=0.05)\n",
    "q"
   ]
  },
  {
   "cell_type": "code",
   "execution_count": 11,
   "id": "b93d84fd",
   "metadata": {},
   "outputs": [
    {
     "data": {
      "text/html": [
       "<div>\n",
       "<style scoped>\n",
       "    .dataframe tbody tr th:only-of-type {\n",
       "        vertical-align: middle;\n",
       "    }\n",
       "\n",
       "    .dataframe tbody tr th {\n",
       "        vertical-align: top;\n",
       "    }\n",
       "\n",
       "    .dataframe thead th {\n",
       "        text-align: right;\n",
       "    }\n",
       "</style>\n",
       "<table border=\"1\" class=\"dataframe\">\n",
       "  <thead>\n",
       "    <tr style=\"text-align: right;\">\n",
       "      <th></th>\n",
       "      <th>sub</th>\n",
       "      <th>ses</th>\n",
       "      <th>run</th>\n",
       "      <th>temporal_mask</th>\n",
       "    </tr>\n",
       "    <tr>\n",
       "      <th>key</th>\n",
       "      <th></th>\n",
       "      <th></th>\n",
       "      <th></th>\n",
       "      <th></th>\n",
       "    </tr>\n",
       "  </thead>\n",
       "  <tbody>\n",
       "    <tr>\n",
       "      <th>sub-SLC01_ses-1_run-2</th>\n",
       "      <td>1.0</td>\n",
       "      <td>1.0</td>\n",
       "      <td>2.0</td>\n",
       "      <td>0.643333</td>\n",
       "    </tr>\n",
       "    <tr>\n",
       "      <th>sub-SLC01_ses-1_run-4</th>\n",
       "      <td>1.0</td>\n",
       "      <td>1.0</td>\n",
       "      <td>4.0</td>\n",
       "      <td>0.503333</td>\n",
       "    </tr>\n",
       "    <tr>\n",
       "      <th>sub-SLC02_ses-2_run-5</th>\n",
       "      <td>2.0</td>\n",
       "      <td>2.0</td>\n",
       "      <td>5.0</td>\n",
       "      <td>0.608333</td>\n",
       "    </tr>\n",
       "    <tr>\n",
       "      <th>sub-SLC02_ses-3_run-5</th>\n",
       "      <td>2.0</td>\n",
       "      <td>3.0</td>\n",
       "      <td>5.0</td>\n",
       "      <td>0.590000</td>\n",
       "    </tr>\n",
       "    <tr>\n",
       "      <th>sub-SLC03_ses-1_run-3</th>\n",
       "      <td>3.0</td>\n",
       "      <td>1.0</td>\n",
       "      <td>3.0</td>\n",
       "      <td>0.603333</td>\n",
       "    </tr>\n",
       "    <tr>\n",
       "      <th>sub-SLC04_ses-1_run-4</th>\n",
       "      <td>4.0</td>\n",
       "      <td>1.0</td>\n",
       "      <td>4.0</td>\n",
       "      <td>0.661667</td>\n",
       "    </tr>\n",
       "    <tr>\n",
       "      <th>sub-SLC05_ses-2_run-2</th>\n",
       "      <td>5.0</td>\n",
       "      <td>2.0</td>\n",
       "      <td>2.0</td>\n",
       "      <td>0.643333</td>\n",
       "    </tr>\n",
       "    <tr>\n",
       "      <th>sub-SLC07_ses-1_run-5</th>\n",
       "      <td>7.0</td>\n",
       "      <td>1.0</td>\n",
       "      <td>5.0</td>\n",
       "      <td>0.676667</td>\n",
       "    </tr>\n",
       "    <tr>\n",
       "      <th>sub-SLC07_ses-1_run-7</th>\n",
       "      <td>7.0</td>\n",
       "      <td>1.0</td>\n",
       "      <td>7.0</td>\n",
       "      <td>0.590000</td>\n",
       "    </tr>\n",
       "    <tr>\n",
       "      <th>sub-SLC07_ses-2_run-1</th>\n",
       "      <td>7.0</td>\n",
       "      <td>2.0</td>\n",
       "      <td>1.0</td>\n",
       "      <td>0.518333</td>\n",
       "    </tr>\n",
       "    <tr>\n",
       "      <th>sub-SLC10_ses-1_run-5</th>\n",
       "      <td>10.0</td>\n",
       "      <td>1.0</td>\n",
       "      <td>5.0</td>\n",
       "      <td>0.608333</td>\n",
       "    </tr>\n",
       "  </tbody>\n",
       "</table>\n",
       "</div>"
      ]
     },
     "execution_count": 11,
     "metadata": {},
     "output_type": "execute_result"
    }
   ],
   "source": [
    "df.loc[df['temporal_mask'] <= q]"
   ]
  },
  {
   "cell_type": "code",
   "execution_count": 12,
   "id": "042c7dfe",
   "metadata": {},
   "outputs": [
    {
     "data": {
      "text/html": [
       "<div>\n",
       "<style scoped>\n",
       "    .dataframe tbody tr th:only-of-type {\n",
       "        vertical-align: middle;\n",
       "    }\n",
       "\n",
       "    .dataframe tbody tr th {\n",
       "        vertical-align: top;\n",
       "    }\n",
       "\n",
       "    .dataframe thead th {\n",
       "        text-align: right;\n",
       "    }\n",
       "</style>\n",
       "<table border=\"1\" class=\"dataframe\">\n",
       "  <thead>\n",
       "    <tr style=\"text-align: right;\">\n",
       "      <th></th>\n",
       "      <th>sub</th>\n",
       "      <th>ses</th>\n",
       "      <th>run</th>\n",
       "      <th>temporal_mask</th>\n",
       "    </tr>\n",
       "    <tr>\n",
       "      <th>key</th>\n",
       "      <th></th>\n",
       "      <th></th>\n",
       "      <th></th>\n",
       "      <th></th>\n",
       "    </tr>\n",
       "  </thead>\n",
       "  <tbody>\n",
       "    <tr>\n",
       "      <th>sub-SLC01_ses-2_run-7</th>\n",
       "      <td>1.0</td>\n",
       "      <td>2.0</td>\n",
       "      <td>7.0</td>\n",
       "      <td>0.958333</td>\n",
       "    </tr>\n",
       "    <tr>\n",
       "      <th>sub-SLC03_ses-3_run-1</th>\n",
       "      <td>3.0</td>\n",
       "      <td>3.0</td>\n",
       "      <td>1.0</td>\n",
       "      <td>0.970000</td>\n",
       "    </tr>\n",
       "    <tr>\n",
       "      <th>sub-SLC06_ses-2_run-7</th>\n",
       "      <td>6.0</td>\n",
       "      <td>2.0</td>\n",
       "      <td>7.0</td>\n",
       "      <td>0.958333</td>\n",
       "    </tr>\n",
       "    <tr>\n",
       "      <th>sub-SLC07_ses-3_run-5</th>\n",
       "      <td>7.0</td>\n",
       "      <td>3.0</td>\n",
       "      <td>5.0</td>\n",
       "      <td>0.966667</td>\n",
       "    </tr>\n",
       "    <tr>\n",
       "      <th>sub-SLC08_ses-1_run-3</th>\n",
       "      <td>8.0</td>\n",
       "      <td>1.0</td>\n",
       "      <td>3.0</td>\n",
       "      <td>0.960000</td>\n",
       "    </tr>\n",
       "    <tr>\n",
       "      <th>sub-SLC09_ses-1_run-7</th>\n",
       "      <td>9.0</td>\n",
       "      <td>1.0</td>\n",
       "      <td>7.0</td>\n",
       "      <td>0.963333</td>\n",
       "    </tr>\n",
       "    <tr>\n",
       "      <th>sub-SLC10_ses-2_run-1</th>\n",
       "      <td>10.0</td>\n",
       "      <td>2.0</td>\n",
       "      <td>1.0</td>\n",
       "      <td>0.960000</td>\n",
       "    </tr>\n",
       "  </tbody>\n",
       "</table>\n",
       "</div>"
      ]
     },
     "execution_count": 12,
     "metadata": {},
     "output_type": "execute_result"
    }
   ],
   "source": [
    "df.loc[df['temporal_mask'] > 0.95]"
   ]
  },
  {
   "cell_type": "code",
   "execution_count": null,
   "id": "b1718a0b",
   "metadata": {},
   "outputs": [],
   "source": []
  },
  {
   "cell_type": "code",
   "execution_count": null,
   "id": "b4490b8c",
   "metadata": {},
   "outputs": [],
   "source": []
  },
  {
   "cell_type": "markdown",
   "id": "73c2d68e",
   "metadata": {},
   "source": [
    "## Brain mask"
   ]
  },
  {
   "cell_type": "code",
   "execution_count": 13,
   "id": "1ed149b4",
   "metadata": {},
   "outputs": [],
   "source": [
    "mask_files = []\n",
    "for p in pathlib.Path(cwd).rglob('*_brain_mask.nii.gz'):\n",
    "    mask_files.append(str(p))\n",
    "mask_files = sorted(mask_files)"
   ]
  },
  {
   "cell_type": "code",
   "execution_count": 14,
   "id": "e6824569",
   "metadata": {},
   "outputs": [
    {
     "data": {
      "text/html": [
       "<pre style=\"white-space:pre;overflow-x:auto;line-height:normal;font-family:Menlo,'DejaVu Sans Mono',consolas,'Courier New',monospace\">Warning, missing:       sub-SLC03_ses-1_run-<span style=\"color: #008080; text-decoration-color: #008080; font-weight: bold\">1</span>\n",
       "</pre>\n"
      ],
      "text/plain": [
       "Warning, missing:       sub-SLC03_ses-1_run-\u001b[1;36m1\u001b[0m\n"
      ]
     },
     "metadata": {},
     "output_type": "display_data"
    },
    {
     "data": {
      "text/html": [
       "<pre style=\"white-space:pre;overflow-x:auto;line-height:normal;font-family:Menlo,'DejaVu Sans Mono',consolas,'Courier New',monospace\">Warning, missing:       sub-SLC05_ses-1_run-<span style=\"color: #008080; text-decoration-color: #008080; font-weight: bold\">5</span>\n",
       "</pre>\n"
      ],
      "text/plain": [
       "Warning, missing:       sub-SLC05_ses-1_run-\u001b[1;36m5\u001b[0m\n"
      ]
     },
     "metadata": {},
     "output_type": "display_data"
    },
    {
     "data": {
      "text/html": [
       "<pre style=\"white-space:pre;overflow-x:auto;line-height:normal;font-family:Menlo,'DejaVu Sans Mono',consolas,'Courier New',monospace\">Warning, missing:       sub-SLC06_ses-3_run-<span style=\"color: #008080; text-decoration-color: #008080; font-weight: bold\">2</span>\n",
       "</pre>\n"
      ],
      "text/plain": [
       "Warning, missing:       sub-SLC06_ses-3_run-\u001b[1;36m2\u001b[0m\n"
      ]
     },
     "metadata": {},
     "output_type": "display_data"
    },
    {
     "data": {
      "text/html": [
       "<pre style=\"white-space:pre;overflow-x:auto;line-height:normal;font-family:Menlo,'DejaVu Sans Mono',consolas,'Courier New',monospace\">Warning, missing:       sub-SLC08_ses-1_run-<span style=\"color: #008080; text-decoration-color: #008080; font-weight: bold\">7</span>\n",
       "</pre>\n"
      ],
      "text/plain": [
       "Warning, missing:       sub-SLC08_ses-1_run-\u001b[1;36m7\u001b[0m\n"
      ]
     },
     "metadata": {},
     "output_type": "display_data"
    }
   ],
   "source": [
    "masks = {}\n",
    "for sub in mice.cfg.sub_ids:\n",
    "    for ses in mice.cfg.ses_ids:\n",
    "        for run in mice.cfg.run_ids:\n",
    "            patterns = [\n",
    "                f\"sub-SLC{sub:02d}\",\n",
    "                f\"ses-{ses:d}\",\n",
    "                f\"run-{run:d}\",\n",
    "            ]\n",
    "            key = '_'.join(patterns)\n",
    "            try:\n",
    "                f = next(\n",
    "                    e for e in mask_files if\n",
    "                    all(k in e for k in patterns)\n",
    "                )\n",
    "                masks[key] = ants.image_read(f)\n",
    "            except StopIteration:\n",
    "                print(f\"Warning, missing:\\t{key}\")"
   ]
  },
  {
   "cell_type": "code",
   "execution_count": 15,
   "id": "c0277833",
   "metadata": {},
   "outputs": [
    {
     "data": {
      "text/html": [
       "<pre style=\"white-space:pre;overflow-x:auto;line-height:normal;font-family:Menlo,'DejaVu Sans Mono',consolas,'Courier New',monospace\"><span style=\"color: #008080; text-decoration-color: #008080; font-weight: bold\">606</span>\n",
       "</pre>\n"
      ],
      "text/plain": [
       "\u001b[1;36m606\u001b[0m\n"
      ]
     },
     "metadata": {},
     "output_type": "display_data"
    }
   ],
   "source": [
    "good_ctr = 0\n",
    "for sub in mice.cfg.sub_ids:\n",
    "    for ses in mice.cfg.ses_ids:\n",
    "        key = f\"sub-SLC{sub:02d}_ses-{ses:d}\"\n",
    "        available = {k: v for k, v in masks.items() if key in k}\n",
    "        for i, j in itertools.combinations(range(len(available)), 2):\n",
    "            m1 = list(available.values())[i].numpy()\n",
    "            m2 = list(available.values())[j].numpy()\n",
    "            if overlap_score(m1, m2) != 1.0 or dice_score(m1, m2) != 1.0:\n",
    "                print(i, j, overlap_score(m1, m2), dice_score(m1, m2))\n",
    "            else:\n",
    "                good_ctr += 1\n",
    "good_ctr"
   ]
  },
  {
   "cell_type": "code",
   "execution_count": null,
   "id": "577b06a5",
   "metadata": {},
   "outputs": [],
   "source": []
  },
  {
   "cell_type": "code",
   "execution_count": 16,
   "id": "f77bcbf1",
   "metadata": {},
   "outputs": [
    {
     "data": {
      "image/png": "[encoded data removed]"
     },
     "metadata": {},
     "output_type": "display_data"
    }
   ],
   "source": [
    "i = 1\n",
    "j = 3\n",
    "m1 = masks[f'sub-SLC04_ses-2_run-{i}'].numpy()\n",
    "m2 = masks[f'sub-SLC04_ses-2_run-{j}'].numpy()\n",
    "fig, axes = create_figure(1, 2)\n",
    "axes[0].imshow(m1[..., 15])\n",
    "axes[1].imshow(m2[..., 15])\n",
    "plt.show()"
   ]
  },
  {
   "cell_type": "code",
   "execution_count": null,
   "id": "520183e9",
   "metadata": {},
   "outputs": [],
   "source": []
  },
  {
   "cell_type": "code",
   "execution_count": 17,
   "id": "24fb6c54",
   "metadata": {},
   "outputs": [],
   "source": [
    "masks_ses = {}\n",
    "for sub in mice.cfg.sub_ids:\n",
    "    for ses in mice.cfg.ses_ids:\n",
    "        _masks = []\n",
    "        for run in mice.cfg.run_ids:\n",
    "            key = mice.get_key(sub, ses, run)\n",
    "            m = masks.get(key)\n",
    "            if m is not None:\n",
    "                _masks.append(m.numpy())\n",
    "                \n",
    "        key = mice.get_key(sub, ses)\n",
    "        if len(_masks):\n",
    "            m = functools.reduce(np.logical_and, _masks)\n",
    "            masks_ses[key] = m.astype(bool)\n",
    "        else:\n",
    "            print(f\"Warning, missing:\\t{key}\")"
   ]
  },
  {
   "cell_type": "code",
   "execution_count": 18,
   "id": "08d6956c",
   "metadata": {},
   "outputs": [
    {
     "data": {
      "text/html": [
       "<pre style=\"white-space:pre;overflow-x:auto;line-height:normal;font-family:Menlo,'DejaVu Sans Mono',consolas,'Courier New',monospace\"><span style=\"font-weight: bold\">(</span><span style=\"color: #008080; text-decoration-color: #008080; font-weight: bold\">32</span>, <span style=\"color: #008080; text-decoration-color: #008080; font-weight: bold\">43</span>, <span style=\"color: #008080; text-decoration-color: #008080; font-weight: bold\">26</span><span style=\"font-weight: bold\">)</span>\n",
       "</pre>\n"
      ],
      "text/plain": [
       "\u001b[1m(\u001b[0m\u001b[1;36m32\u001b[0m, \u001b[1;36m43\u001b[0m, \u001b[1;36m26\u001b[0m\u001b[1m)\u001b[0m\n"
      ]
     },
     "metadata": {},
     "output_type": "display_data"
    }
   ],
   "source": [
    "masks_ses['sub-SLC02_ses-1'].shape"
   ]
  },
  {
   "cell_type": "code",
   "execution_count": 19,
   "id": "63b0ea61",
   "metadata": {},
   "outputs": [
    {
     "data": {
      "text/html": [
       "<pre style=\"white-space:pre;overflow-x:auto;line-height:normal;font-family:Menlo,'DejaVu Sans Mono',consolas,'Courier New',monospace\"><span style=\"font-weight: bold\">(</span><span style=\"color: #008080; text-decoration-color: #008080; font-weight: bold\">10</span>, <span style=\"color: #008080; text-decoration-color: #008080; font-weight: bold\">3</span><span style=\"font-weight: bold\">)</span>\n",
       "</pre>\n"
      ],
      "text/plain": [
       "\u001b[1m(\u001b[0m\u001b[1;36m10\u001b[0m, \u001b[1;36m3\u001b[0m\u001b[1m)\u001b[0m\n"
      ]
     },
     "metadata": {},
     "output_type": "display_data"
    }
   ],
   "source": [
    "sub, ses"
   ]
  },
  {
   "cell_type": "code",
   "execution_count": null,
   "id": "77c448fd",
   "metadata": {},
   "outputs": [],
   "source": []
  },
  {
   "cell_type": "code",
   "execution_count": 20,
   "id": "cae6dfc9",
   "metadata": {},
   "outputs": [
    {
     "data": {
      "text/html": [
       "<pre style=\"white-space:pre;overflow-x:auto;line-height:normal;font-family:Menlo,'DejaVu Sans Mono',consolas,'Courier New',monospace\"><span style=\"font-weight: bold\">&lt;</span><span style=\"color: #ff00ff; text-decoration-color: #ff00ff; font-weight: bold\">matplotlib.image.AxesImage</span><span style=\"color: #000000; text-decoration-color: #000000\"> object at </span><span style=\"color: #008080; text-decoration-color: #008080; font-weight: bold\">0x7f4d62bc98e0</span><span style=\"font-weight: bold\">&gt;</span>\n",
       "</pre>\n"
      ],
      "text/plain": [
       "\u001b[1m<\u001b[0m\u001b[1;95mmatplotlib.image.AxesImage\u001b[0m\u001b[39m object at \u001b[0m\u001b[1;36m0x7f4d62bc98e0\u001b[0m\u001b[1m>\u001b[0m\n"
      ]
     },
     "metadata": {},
     "output_type": "display_data"
    },
    {
     "data": {
      "image/png": "[encoded data removed]"
     },
     "metadata": {},
     "output_type": "display_data"
    }
   ],
   "source": [
    "plt.imshow(masks_ses['sub-SLC04_ses-2'][..., 15])"
   ]
  },
  {
   "cell_type": "code",
   "execution_count": null,
   "id": "28919c99",
   "metadata": {},
   "outputs": [],
   "source": []
  },
  {
   "cell_type": "code",
   "execution_count": 21,
   "id": "c29fb7ab",
   "metadata": {},
   "outputs": [
    {
     "data": {
      "text/html": [
       "<pre style=\"white-space:pre;overflow-x:auto;line-height:normal;font-family:Menlo,'DejaVu Sans Mono',consolas,'Courier New',monospace\">ANTsImage <span style=\"font-weight: bold\">(</span>RAI<span style=\"font-weight: bold\">)</span>\n",
       "         Pixel Type : float <span style=\"font-weight: bold\">(</span>float32<span style=\"font-weight: bold\">)</span>\n",
       "         Components : <span style=\"color: #008080; text-decoration-color: #008080; font-weight: bold\">1</span>\n",
       "         Dimensions : <span style=\"font-weight: bold\">(</span><span style=\"color: #008080; text-decoration-color: #008080; font-weight: bold\">64</span>, <span style=\"color: #008080; text-decoration-color: #008080; font-weight: bold\">64</span>, <span style=\"color: #008080; text-decoration-color: #008080; font-weight: bold\">78</span><span style=\"font-weight: bold\">)</span>\n",
       "         Spacing    : <span style=\"font-weight: bold\">(</span><span style=\"color: #008080; text-decoration-color: #008080; font-weight: bold\">0.2</span>, <span style=\"color: #008080; text-decoration-color: #008080; font-weight: bold\">0.2</span>, <span style=\"color: #008080; text-decoration-color: #008080; font-weight: bold\">0.2</span><span style=\"font-weight: bold\">)</span>\n",
       "         Origin     : <span style=\"font-weight: bold\">(</span><span style=\"color: #008080; text-decoration-color: #008080; font-weight: bold\">6.4</span>, <span style=\"color: #008080; text-decoration-color: #008080; font-weight: bold\">-6.2</span>, <span style=\"color: #008080; text-decoration-color: #008080; font-weight: bold\">-7.8</span><span style=\"font-weight: bold\">)</span>\n",
       "         Direction  : <span style=\"font-weight: bold\">[</span><span style=\"color: #008080; text-decoration-color: #008080; font-weight: bold\">1</span>. <span style=\"color: #008080; text-decoration-color: #008080; font-weight: bold\">0</span>. <span style=\"color: #008080; text-decoration-color: #008080; font-weight: bold\">0</span>. <span style=\"color: #008080; text-decoration-color: #008080; font-weight: bold\">0</span>. <span style=\"color: #008080; text-decoration-color: #008080; font-weight: bold\">1</span>. <span style=\"color: #008080; text-decoration-color: #008080; font-weight: bold\">0</span>. <span style=\"color: #008080; text-decoration-color: #008080; font-weight: bold\">0</span>. <span style=\"color: #008080; text-decoration-color: #008080; font-weight: bold\">0</span>. <span style=\"color: #008080; text-decoration-color: #008080; font-weight: bold\">1</span>.<span style=\"font-weight: bold\">]</span>\n",
       "\n",
       "</pre>\n"
      ],
      "text/plain": [
       "ANTsImage \u001b[1m(\u001b[0mRAI\u001b[1m)\u001b[0m\n",
       "         Pixel Type : float \u001b[1m(\u001b[0mfloat32\u001b[1m)\u001b[0m\n",
       "         Components : \u001b[1;36m1\u001b[0m\n",
       "         Dimensions : \u001b[1m(\u001b[0m\u001b[1;36m64\u001b[0m, \u001b[1;36m64\u001b[0m, \u001b[1;36m78\u001b[0m\u001b[1m)\u001b[0m\n",
       "         Spacing    : \u001b[1m(\u001b[0m\u001b[1;36m0.2\u001b[0m, \u001b[1;36m0.2\u001b[0m, \u001b[1;36m0.2\u001b[0m\u001b[1m)\u001b[0m\n",
       "         Origin     : \u001b[1m(\u001b[0m\u001b[1;36m6.4\u001b[0m, \u001b[1;36m-6.2\u001b[0m, \u001b[1;36m-7.8\u001b[0m\u001b[1m)\u001b[0m\n",
       "         Direction  : \u001b[1m[\u001b[0m\u001b[1;36m1\u001b[0m. \u001b[1;36m0\u001b[0m. \u001b[1;36m0\u001b[0m. \u001b[1;36m0\u001b[0m. \u001b[1;36m1\u001b[0m. \u001b[1;36m0\u001b[0m. \u001b[1;36m0\u001b[0m. \u001b[1;36m0\u001b[0m. \u001b[1;36m1\u001b[0m.\u001b[1m]\u001b[0m\n",
       "\n"
      ]
     },
     "metadata": {},
     "output_type": "display_data"
    }
   ],
   "source": [
    "m200 = mice.mask3d['sub-SLC04_ses-2'].load_ants()\n",
    "m200"
   ]
  },
  {
   "cell_type": "code",
   "execution_count": 22,
   "id": "551df7ea",
   "metadata": {},
   "outputs": [
    {
     "data": {
      "text/html": [
       "<pre style=\"white-space:pre;overflow-x:auto;line-height:normal;font-family:Menlo,'DejaVu Sans Mono',consolas,'Courier New',monospace\">ANTsImage <span style=\"font-weight: bold\">(</span>LPI<span style=\"font-weight: bold\">)</span>\n",
       "         Pixel Type : float <span style=\"font-weight: bold\">(</span>float32<span style=\"font-weight: bold\">)</span>\n",
       "         Components : <span style=\"color: #008080; text-decoration-color: #008080; font-weight: bold\">1</span>\n",
       "         Dimensions : <span style=\"font-weight: bold\">(</span><span style=\"color: #008080; text-decoration-color: #008080; font-weight: bold\">32</span>, <span style=\"color: #008080; text-decoration-color: #008080; font-weight: bold\">45</span>, <span style=\"color: #008080; text-decoration-color: #008080; font-weight: bold\">26</span><span style=\"font-weight: bold\">)</span>\n",
       "         Spacing    : <span style=\"font-weight: bold\">(</span><span style=\"color: #008080; text-decoration-color: #008080; font-weight: bold\">0.4</span>, <span style=\"color: #008080; text-decoration-color: #008080; font-weight: bold\">0.4</span>, <span style=\"color: #008080; text-decoration-color: #008080; font-weight: bold\">0.4</span><span style=\"font-weight: bold\">)</span>\n",
       "         Origin     : <span style=\"font-weight: bold\">(</span><span style=\"color: #008080; text-decoration-color: #008080; font-weight: bold\">19.0</span>, <span style=\"color: #008080; text-decoration-color: #008080; font-weight: bold\">7.9</span>, <span style=\"color: #008080; text-decoration-color: #008080; font-weight: bold\">-4.65</span><span style=\"font-weight: bold\">)</span>\n",
       "         Direction  : <span style=\"font-weight: bold\">[</span><span style=\"color: #008080; text-decoration-color: #008080; font-weight: bold\">-1</span>.  <span style=\"color: #008080; text-decoration-color: #008080; font-weight: bold\">0</span>.  <span style=\"color: #008080; text-decoration-color: #008080; font-weight: bold\">0</span>.  <span style=\"color: #008080; text-decoration-color: #008080; font-weight: bold\">0</span>. <span style=\"color: #008080; text-decoration-color: #008080; font-weight: bold\">-1</span>.  <span style=\"color: #008080; text-decoration-color: #008080; font-weight: bold\">0</span>.  <span style=\"color: #008080; text-decoration-color: #008080; font-weight: bold\">0</span>.  <span style=\"color: #008080; text-decoration-color: #008080; font-weight: bold\">0</span>.  <span style=\"color: #008080; text-decoration-color: #008080; font-weight: bold\">1</span>.<span style=\"font-weight: bold\">]</span>\n",
       "\n",
       "</pre>\n"
      ],
      "text/plain": [
       "ANTsImage \u001b[1m(\u001b[0mLPI\u001b[1m)\u001b[0m\n",
       "         Pixel Type : float \u001b[1m(\u001b[0mfloat32\u001b[1m)\u001b[0m\n",
       "         Components : \u001b[1;36m1\u001b[0m\n",
       "         Dimensions : \u001b[1m(\u001b[0m\u001b[1;36m32\u001b[0m, \u001b[1;36m45\u001b[0m, \u001b[1;36m26\u001b[0m\u001b[1m)\u001b[0m\n",
       "         Spacing    : \u001b[1m(\u001b[0m\u001b[1;36m0.4\u001b[0m, \u001b[1;36m0.4\u001b[0m, \u001b[1;36m0.4\u001b[0m\u001b[1m)\u001b[0m\n",
       "         Origin     : \u001b[1m(\u001b[0m\u001b[1;36m19.0\u001b[0m, \u001b[1;36m7.9\u001b[0m, \u001b[1;36m-4.65\u001b[0m\u001b[1m)\u001b[0m\n",
       "         Direction  : \u001b[1m[\u001b[0m\u001b[1;36m-1\u001b[0m.  \u001b[1;36m0\u001b[0m.  \u001b[1;36m0\u001b[0m.  \u001b[1;36m0\u001b[0m. \u001b[1;36m-1\u001b[0m.  \u001b[1;36m0\u001b[0m.  \u001b[1;36m0\u001b[0m.  \u001b[1;36m0\u001b[0m.  \u001b[1;36m1\u001b[0m.\u001b[1m]\u001b[0m\n",
       "\n"
      ]
     },
     "metadata": {},
     "output_type": "display_data"
    }
   ],
   "source": [
    "m400 = masks['sub-SLC04_ses-2_run-1']\n",
    "m400"
   ]
  },
  {
   "cell_type": "code",
   "execution_count": null,
   "id": "c686a161",
   "metadata": {},
   "outputs": [],
   "source": []
  },
  {
   "cell_type": "code",
   "execution_count": 46,
   "id": "a14a61af",
   "metadata": {},
   "outputs": [
    {
     "data": {
      "text/html": [
       "<pre style=\"white-space:pre;overflow-x:auto;line-height:normal;font-family:Menlo,'DejaVu Sans Mono',consolas,'Courier New',monospace\"><span style=\"color: #008080; text-decoration-color: #008080; font-weight: bold\">0</span>\n",
       "</pre>\n"
      ],
      "text/plain": [
       "\u001b[1;36m0\u001b[0m\n"
      ]
     },
     "metadata": {},
     "output_type": "display_data"
    }
   ],
   "source": [
    "dim"
   ]
  },
  {
   "cell_type": "code",
   "execution_count": null,
   "id": "2e79b2bb",
   "metadata": {},
   "outputs": [],
   "source": []
  },
  {
   "cell_type": "code",
   "execution_count": 250,
   "id": "7d05cc3e",
   "metadata": {},
   "outputs": [
    {
     "data": {
      "image/png": "[encoded data removed]"
     },
     "metadata": {},
     "output_type": "display_data"
    }
   ],
   "source": [
    "slices = [(22, 12), (10, 23), (40, 18)]\n",
    "\n",
    "fig, axes = create_figure(2, 3, (13, 7.5))\n",
    "for dim, (slice_yale, slice_gabe) in enumerate(slices):\n",
    "    axes[0, dim].imshow(np.take(m200.numpy(), slice_yale, dim))\n",
    "    axes[1, dim].imshow(np.take(m400.numpy(), slice_gabe, dim))\n",
    "\n",
    "    axes[0, dim].set_title(f'dim = {dim}, slice = {slice_yale} (Yale)')\n",
    "    axes[1, dim].set_title(f'dim = {dim}, slice = {slice_gabe} (RABIES)')\n",
    "plt.show()"
   ]
  },
  {
   "cell_type": "code",
   "execution_count": null,
   "id": "2f05a801",
   "metadata": {},
   "outputs": [],
   "source": []
  },
  {
   "cell_type": "code",
   "execution_count": 251,
   "id": "7af17e52",
   "metadata": {},
   "outputs": [],
   "source": [
    "m400_reor = np.transpose(m400.numpy(), (0, 2, 1))\n",
    "m400_reor = m400_reor[::-1][:, ::-1, :]"
   ]
  },
  {
   "cell_type": "code",
   "execution_count": 252,
   "id": "5521bb72",
   "metadata": {},
   "outputs": [
    {
     "data": {
      "text/html": [
       "<pre style=\"white-space:pre;overflow-x:auto;line-height:normal;font-family:Menlo,'DejaVu Sans Mono',consolas,'Courier New',monospace\"><span style=\"font-weight: bold\">((</span><span style=\"color: #008080; text-decoration-color: #008080; font-weight: bold\">64</span>, <span style=\"color: #008080; text-decoration-color: #008080; font-weight: bold\">64</span>, <span style=\"color: #008080; text-decoration-color: #008080; font-weight: bold\">78</span><span style=\"font-weight: bold\">)</span>, <span style=\"font-weight: bold\">(</span><span style=\"color: #008080; text-decoration-color: #008080; font-weight: bold\">32</span>, <span style=\"color: #008080; text-decoration-color: #008080; font-weight: bold\">26</span>, <span style=\"color: #008080; text-decoration-color: #008080; font-weight: bold\">45</span><span style=\"font-weight: bold\">))</span>\n",
       "</pre>\n"
      ],
      "text/plain": [
       "\u001b[1m(\u001b[0m\u001b[1m(\u001b[0m\u001b[1;36m64\u001b[0m, \u001b[1;36m64\u001b[0m, \u001b[1;36m78\u001b[0m\u001b[1m)\u001b[0m, \u001b[1m(\u001b[0m\u001b[1;36m32\u001b[0m, \u001b[1;36m26\u001b[0m, \u001b[1;36m45\u001b[0m\u001b[1m)\u001b[0m\u001b[1m)\u001b[0m\n"
      ]
     },
     "metadata": {},
     "output_type": "display_data"
    }
   ],
   "source": [
    "m200.shape, m400_reor.shape"
   ]
  },
  {
   "cell_type": "code",
   "execution_count": null,
   "id": "e13a5d28",
   "metadata": {},
   "outputs": [],
   "source": []
  },
  {
   "cell_type": "code",
   "execution_count": 253,
   "id": "914cbc04",
   "metadata": {},
   "outputs": [
    {
     "data": {
      "image/png": "[encoded data removed]"
     },
     "metadata": {},
     "output_type": "display_data"
    }
   ],
   "source": [
    "slices = [(22, 10), (10, 7), (40, 23)]\n",
    "\n",
    "fig, axes = create_figure(2, 3, (13, 7.5))\n",
    "for dim, (slice_yale, slice_gabe) in enumerate(slices):\n",
    "    axes[0, dim].imshow(np.take(m200.numpy(), slice_yale, dim))\n",
    "    axes[1, dim].imshow(np.take(m400_reor, slice_gabe, dim))\n",
    "\n",
    "    axes[0, dim].set_title(f'dim = {dim}, slice = {slice_yale} (Yale)')\n",
    "    axes[1, dim].set_title(f'dim = {dim}, slice = {slice_gabe} (RABIES)')\n",
    "plt.show()"
   ]
  },
  {
   "cell_type": "code",
   "execution_count": null,
   "id": "ea22f0a5",
   "metadata": {},
   "outputs": [],
   "source": []
  },
  {
   "cell_type": "code",
   "execution_count": 260,
   "id": "9d96dfc0",
   "metadata": {},
   "outputs": [],
   "source": [
    "m200_resample = ants.resample_image(m200, (0.4,)*3)"
   ]
  },
  {
   "cell_type": "code",
   "execution_count": 262,
   "id": "0dabfce9",
   "metadata": {},
   "outputs": [
    {
     "data": {
      "image/png": "[encoded data removed]"
     },
     "metadata": {},
     "output_type": "display_data"
    }
   ],
   "source": [
    "slices = [(22, 10), (10, 7), (40, 23)]\n",
    "\n",
    "fig, axes = create_figure(3, 3, (13, 12.5))\n",
    "for dim, (slice_yale, slice_gabe) in enumerate(slices):\n",
    "    axes[0, dim].imshow(np.take(m200.numpy(), slice_yale, dim))\n",
    "    axes[1, dim].imshow(np.take(m400_reor, slice_gabe, dim))\n",
    "    axes[2, dim].imshow(np.take(m200_resample.numpy(), slice_gabe, dim))\n",
    "\n",
    "    axes[0, dim].set_title(f'dim = {dim}, slice = {slice_yale} (Yale)')\n",
    "    axes[1, dim].set_title(f'dim = {dim}, slice = {slice_gabe} (RABIES)')\n",
    "    axes[2, dim].set_title(f'dim = {dim}, slice = {slice_gabe} (Yale, downsample)')\n",
    "    \n",
    "plt.show()"
   ]
  },
  {
   "cell_type": "code",
   "execution_count": null,
   "id": "e3380df6",
   "metadata": {},
   "outputs": [],
   "source": []
  },
  {
   "cell_type": "code",
   "execution_count": null,
   "id": "74adc9e9",
   "metadata": {},
   "outputs": [],
   "source": []
  },
  {
   "cell_type": "code",
   "execution_count": 220,
   "id": "7522d193",
   "metadata": {},
   "outputs": [
    {
     "data": {
      "text/html": [
       "<pre style=\"white-space:pre;overflow-x:auto;line-height:normal;font-family:Menlo,'DejaVu Sans Mono',consolas,'Courier New',monospace\">ANTsImage <span style=\"font-weight: bold\">(</span>RAI<span style=\"font-weight: bold\">)</span>\n",
       "         Pixel Type : float <span style=\"font-weight: bold\">(</span>float32<span style=\"font-weight: bold\">)</span>\n",
       "         Components : <span style=\"color: #008080; text-decoration-color: #008080; font-weight: bold\">1</span>\n",
       "         Dimensions : <span style=\"font-weight: bold\">(</span><span style=\"color: #008080; text-decoration-color: #008080; font-weight: bold\">64</span>, <span style=\"color: #008080; text-decoration-color: #008080; font-weight: bold\">64</span>, <span style=\"color: #008080; text-decoration-color: #008080; font-weight: bold\">78</span><span style=\"font-weight: bold\">)</span>\n",
       "         Spacing    : <span style=\"font-weight: bold\">(</span><span style=\"color: #008080; text-decoration-color: #008080; font-weight: bold\">0.2</span>, <span style=\"color: #008080; text-decoration-color: #008080; font-weight: bold\">0.2</span>, <span style=\"color: #008080; text-decoration-color: #008080; font-weight: bold\">0.2</span><span style=\"font-weight: bold\">)</span>\n",
       "         Origin     : <span style=\"font-weight: bold\">(</span><span style=\"color: #008080; text-decoration-color: #008080; font-weight: bold\">6.4</span>, <span style=\"color: #008080; text-decoration-color: #008080; font-weight: bold\">-6.2</span>, <span style=\"color: #008080; text-decoration-color: #008080; font-weight: bold\">-7.8</span><span style=\"font-weight: bold\">)</span>\n",
       "         Direction  : <span style=\"font-weight: bold\">[</span><span style=\"color: #008080; text-decoration-color: #008080; font-weight: bold\">1</span>. <span style=\"color: #008080; text-decoration-color: #008080; font-weight: bold\">0</span>. <span style=\"color: #008080; text-decoration-color: #008080; font-weight: bold\">0</span>. <span style=\"color: #008080; text-decoration-color: #008080; font-weight: bold\">0</span>. <span style=\"color: #008080; text-decoration-color: #008080; font-weight: bold\">1</span>. <span style=\"color: #008080; text-decoration-color: #008080; font-weight: bold\">0</span>. <span style=\"color: #008080; text-decoration-color: #008080; font-weight: bold\">0</span>. <span style=\"color: #008080; text-decoration-color: #008080; font-weight: bold\">0</span>. <span style=\"color: #008080; text-decoration-color: #008080; font-weight: bold\">1</span>.<span style=\"font-weight: bold\">]</span>\n",
       "\n",
       "</pre>\n"
      ],
      "text/plain": [
       "ANTsImage \u001b[1m(\u001b[0mRAI\u001b[1m)\u001b[0m\n",
       "         Pixel Type : float \u001b[1m(\u001b[0mfloat32\u001b[1m)\u001b[0m\n",
       "         Components : \u001b[1;36m1\u001b[0m\n",
       "         Dimensions : \u001b[1m(\u001b[0m\u001b[1;36m64\u001b[0m, \u001b[1;36m64\u001b[0m, \u001b[1;36m78\u001b[0m\u001b[1m)\u001b[0m\n",
       "         Spacing    : \u001b[1m(\u001b[0m\u001b[1;36m0.2\u001b[0m, \u001b[1;36m0.2\u001b[0m, \u001b[1;36m0.2\u001b[0m\u001b[1m)\u001b[0m\n",
       "         Origin     : \u001b[1m(\u001b[0m\u001b[1;36m6.4\u001b[0m, \u001b[1;36m-6.2\u001b[0m, \u001b[1;36m-7.8\u001b[0m\u001b[1m)\u001b[0m\n",
       "         Direction  : \u001b[1m[\u001b[0m\u001b[1;36m1\u001b[0m. \u001b[1;36m0\u001b[0m. \u001b[1;36m0\u001b[0m. \u001b[1;36m0\u001b[0m. \u001b[1;36m1\u001b[0m. \u001b[1;36m0\u001b[0m. \u001b[1;36m0\u001b[0m. \u001b[1;36m0\u001b[0m. \u001b[1;36m1\u001b[0m.\u001b[1m]\u001b[0m\n",
       "\n"
      ]
     },
     "metadata": {},
     "output_type": "display_data"
    }
   ],
   "source": [
    "hres = ants.image_read(pjoin(tmp_dir, 'sub-SLC04_ses-2_acq-highresinplane_T1w.nii.gz'))\n",
    "iso = mice.T1w['sub-SLC04_ses-2'].load_ants()\n",
    "iso"
   ]
  },
  {
   "cell_type": "code",
   "execution_count": 221,
   "id": "758e27ff",
   "metadata": {},
   "outputs": [
    {
     "data": {
      "text/html": [
       "<pre style=\"white-space:pre;overflow-x:auto;line-height:normal;font-family:Menlo,'DejaVu Sans Mono',consolas,'Courier New',monospace\">ANTsImage <span style=\"font-weight: bold\">(</span>RAI<span style=\"font-weight: bold\">)</span>\n",
       "         Pixel Type : float <span style=\"font-weight: bold\">(</span>float32<span style=\"font-weight: bold\">)</span>\n",
       "         Components : <span style=\"color: #008080; text-decoration-color: #008080; font-weight: bold\">1</span>\n",
       "         Dimensions : <span style=\"font-weight: bold\">(</span><span style=\"color: #008080; text-decoration-color: #008080; font-weight: bold\">256</span>, <span style=\"color: #008080; text-decoration-color: #008080; font-weight: bold\">128</span>, <span style=\"color: #008080; text-decoration-color: #008080; font-weight: bold\">28</span><span style=\"font-weight: bold\">)</span>\n",
       "         Spacing    : <span style=\"font-weight: bold\">(</span><span style=\"color: #008080; text-decoration-color: #008080; font-weight: bold\">0.1</span>, <span style=\"color: #008080; text-decoration-color: #008080; font-weight: bold\">0.1</span>, <span style=\"color: #008080; text-decoration-color: #008080; font-weight: bold\">0.4</span><span style=\"font-weight: bold\">)</span>\n",
       "         Origin     : <span style=\"font-weight: bold\">(</span><span style=\"color: #008080; text-decoration-color: #008080; font-weight: bold\">12.8</span>, <span style=\"color: #008080; text-decoration-color: #008080; font-weight: bold\">-6.3</span>, <span style=\"color: #008080; text-decoration-color: #008080; font-weight: bold\">-5.6</span><span style=\"font-weight: bold\">)</span>\n",
       "         Direction  : <span style=\"font-weight: bold\">[</span><span style=\"color: #008080; text-decoration-color: #008080; font-weight: bold\">1</span>. <span style=\"color: #008080; text-decoration-color: #008080; font-weight: bold\">0</span>. <span style=\"color: #008080; text-decoration-color: #008080; font-weight: bold\">0</span>. <span style=\"color: #008080; text-decoration-color: #008080; font-weight: bold\">0</span>. <span style=\"color: #008080; text-decoration-color: #008080; font-weight: bold\">1</span>. <span style=\"color: #008080; text-decoration-color: #008080; font-weight: bold\">0</span>. <span style=\"color: #008080; text-decoration-color: #008080; font-weight: bold\">0</span>. <span style=\"color: #008080; text-decoration-color: #008080; font-weight: bold\">0</span>. <span style=\"color: #008080; text-decoration-color: #008080; font-weight: bold\">1</span>.<span style=\"font-weight: bold\">]</span>\n",
       "\n",
       "</pre>\n"
      ],
      "text/plain": [
       "ANTsImage \u001b[1m(\u001b[0mRAI\u001b[1m)\u001b[0m\n",
       "         Pixel Type : float \u001b[1m(\u001b[0mfloat32\u001b[1m)\u001b[0m\n",
       "         Components : \u001b[1;36m1\u001b[0m\n",
       "         Dimensions : \u001b[1m(\u001b[0m\u001b[1;36m256\u001b[0m, \u001b[1;36m128\u001b[0m, \u001b[1;36m28\u001b[0m\u001b[1m)\u001b[0m\n",
       "         Spacing    : \u001b[1m(\u001b[0m\u001b[1;36m0.1\u001b[0m, \u001b[1;36m0.1\u001b[0m, \u001b[1;36m0.4\u001b[0m\u001b[1m)\u001b[0m\n",
       "         Origin     : \u001b[1m(\u001b[0m\u001b[1;36m12.8\u001b[0m, \u001b[1;36m-6.3\u001b[0m, \u001b[1;36m-5.6\u001b[0m\u001b[1m)\u001b[0m\n",
       "         Direction  : \u001b[1m[\u001b[0m\u001b[1;36m1\u001b[0m. \u001b[1;36m0\u001b[0m. \u001b[1;36m0\u001b[0m. \u001b[1;36m0\u001b[0m. \u001b[1;36m1\u001b[0m. \u001b[1;36m0\u001b[0m. \u001b[1;36m0\u001b[0m. \u001b[1;36m0\u001b[0m. \u001b[1;36m1\u001b[0m.\u001b[1m]\u001b[0m\n",
       "\n"
      ]
     },
     "metadata": {},
     "output_type": "display_data"
    }
   ],
   "source": [
    "hres"
   ]
  },
  {
   "cell_type": "code",
   "execution_count": 147,
   "id": "2bcb8ca3",
   "metadata": {},
   "outputs": [
    {
     "data": {
      "text/html": [
       "<pre style=\"white-space:pre;overflow-x:auto;line-height:normal;font-family:Menlo,'DejaVu Sans Mono',consolas,'Courier New',monospace\"><span style=\"font-weight: bold\">((</span><span style=\"color: #008080; text-decoration-color: #008080; font-weight: bold\">256</span>, <span style=\"color: #008080; text-decoration-color: #008080; font-weight: bold\">128</span>, <span style=\"color: #008080; text-decoration-color: #008080; font-weight: bold\">28</span><span style=\"font-weight: bold\">)</span>, <span style=\"font-weight: bold\">(</span><span style=\"color: #008080; text-decoration-color: #008080; font-weight: bold\">64</span>, <span style=\"color: #008080; text-decoration-color: #008080; font-weight: bold\">64</span>, <span style=\"color: #008080; text-decoration-color: #008080; font-weight: bold\">78</span><span style=\"font-weight: bold\">))</span>\n",
       "</pre>\n"
      ],
      "text/plain": [
       "\u001b[1m(\u001b[0m\u001b[1m(\u001b[0m\u001b[1;36m256\u001b[0m, \u001b[1;36m128\u001b[0m, \u001b[1;36m28\u001b[0m\u001b[1m)\u001b[0m, \u001b[1m(\u001b[0m\u001b[1;36m64\u001b[0m, \u001b[1;36m64\u001b[0m, \u001b[1;36m78\u001b[0m\u001b[1m)\u001b[0m\u001b[1m)\u001b[0m\n"
      ]
     },
     "metadata": {},
     "output_type": "display_data"
    }
   ],
   "source": [
    "hres.shape, iso.shape"
   ]
  },
  {
   "cell_type": "code",
   "execution_count": 163,
   "id": "398c523c",
   "metadata": {},
   "outputs": [
    {
     "data": {
      "text/html": [
       "<pre style=\"white-space:pre;overflow-x:auto;line-height:normal;font-family:Menlo,'DejaVu Sans Mono',consolas,'Courier New',monospace\"><span style=\"font-weight: bold\">&lt;</span><span style=\"color: #ff00ff; text-decoration-color: #ff00ff; font-weight: bold\">matplotlib.image.AxesImage</span><span style=\"color: #000000; text-decoration-color: #000000\"> object at </span><span style=\"color: #008080; text-decoration-color: #008080; font-weight: bold\">0x7f4d633e7040</span><span style=\"font-weight: bold\">&gt;</span>\n",
       "</pre>\n"
      ],
      "text/plain": [
       "\u001b[1m<\u001b[0m\u001b[1;95mmatplotlib.image.AxesImage\u001b[0m\u001b[39m object at \u001b[0m\u001b[1;36m0x7f4d633e7040\u001b[0m\u001b[1m>\u001b[0m\n"
      ]
     },
     "metadata": {},
     "output_type": "display_data"
    },
    {
     "data": {
      "image/png": "[encoded data removed]"
     },
     "metadata": {},
     "output_type": "display_data"
    }
   ],
   "source": [
    "plt.imshow(hres[:, 37, :], aspect=0.15)"
   ]
  },
  {
   "cell_type": "code",
   "execution_count": 194,
   "id": "fefc963b",
   "metadata": {},
   "outputs": [
    {
     "data": {
      "text/html": [
       "<pre style=\"white-space:pre;overflow-x:auto;line-height:normal;font-family:Menlo,'DejaVu Sans Mono',consolas,'Courier New',monospace\"><span style=\"font-weight: bold\">&lt;</span><span style=\"color: #ff00ff; text-decoration-color: #ff00ff; font-weight: bold\">matplotlib.image.AxesImage</span><span style=\"color: #000000; text-decoration-color: #000000\"> object at </span><span style=\"color: #008080; text-decoration-color: #008080; font-weight: bold\">0x7f4d4e122970</span><span style=\"font-weight: bold\">&gt;</span>\n",
       "</pre>\n"
      ],
      "text/plain": [
       "\u001b[1m<\u001b[0m\u001b[1;95mmatplotlib.image.AxesImage\u001b[0m\u001b[39m object at \u001b[0m\u001b[1;36m0x7f4d4e122970\u001b[0m\u001b[1m>\u001b[0m\n"
      ]
     },
     "metadata": {},
     "output_type": "display_data"
    },
    {
     "data": {
      "image/png": "[encoded data removed]"
     },
     "metadata": {},
     "output_type": "display_data"
    }
   ],
   "source": [
    "plt.imshow(hres[..., 16], aspect=1)"
   ]
  },
  {
   "cell_type": "code",
   "execution_count": 196,
   "id": "cd453d07",
   "metadata": {},
   "outputs": [
    {
     "data": {
      "text/html": [
       "<pre style=\"white-space:pre;overflow-x:auto;line-height:normal;font-family:Menlo,'DejaVu Sans Mono',consolas,'Courier New',monospace\">ANTsImage\n",
       "         Pixel Type : float <span style=\"font-weight: bold\">(</span>float32<span style=\"font-weight: bold\">)</span>\n",
       "         Components : <span style=\"color: #008080; text-decoration-color: #008080; font-weight: bold\">1</span>\n",
       "         Dimensions : <span style=\"font-weight: bold\">(</span><span style=\"color: #008080; text-decoration-color: #008080; font-weight: bold\">64</span>, <span style=\"color: #008080; text-decoration-color: #008080; font-weight: bold\">32</span>, <span style=\"color: #008080; text-decoration-color: #008080; font-weight: bold\">28</span>, <span style=\"color: #008080; text-decoration-color: #008080; font-weight: bold\">600</span><span style=\"font-weight: bold\">)</span>\n",
       "         Spacing    : <span style=\"font-weight: bold\">(</span><span style=\"color: #008080; text-decoration-color: #008080; font-weight: bold\">0.4</span>, <span style=\"color: #008080; text-decoration-color: #008080; font-weight: bold\">0.4</span>, <span style=\"color: #008080; text-decoration-color: #008080; font-weight: bold\">0.4</span>, <span style=\"color: #008080; text-decoration-color: #008080; font-weight: bold\">1.0</span><span style=\"font-weight: bold\">)</span>\n",
       "         Origin     : <span style=\"font-weight: bold\">(</span><span style=\"color: #008080; text-decoration-color: #008080; font-weight: bold\">12.8</span>, <span style=\"color: #008080; text-decoration-color: #008080; font-weight: bold\">-6.0</span>, <span style=\"color: #008080; text-decoration-color: #008080; font-weight: bold\">-5.6</span>, <span style=\"color: #008080; text-decoration-color: #008080; font-weight: bold\">0.0</span><span style=\"font-weight: bold\">)</span>\n",
       "         Direction  : <span style=\"font-weight: bold\">[</span><span style=\"color: #008080; text-decoration-color: #008080; font-weight: bold\">1</span>. <span style=\"color: #008080; text-decoration-color: #008080; font-weight: bold\">0</span>. <span style=\"color: #008080; text-decoration-color: #008080; font-weight: bold\">0</span>. <span style=\"color: #008080; text-decoration-color: #008080; font-weight: bold\">0</span>. <span style=\"color: #008080; text-decoration-color: #008080; font-weight: bold\">0</span>. <span style=\"color: #008080; text-decoration-color: #008080; font-weight: bold\">1</span>. <span style=\"color: #008080; text-decoration-color: #008080; font-weight: bold\">0</span>. <span style=\"color: #008080; text-decoration-color: #008080; font-weight: bold\">0</span>. <span style=\"color: #008080; text-decoration-color: #008080; font-weight: bold\">0</span>. <span style=\"color: #008080; text-decoration-color: #008080; font-weight: bold\">0</span>. <span style=\"color: #008080; text-decoration-color: #008080; font-weight: bold\">1</span>. <span style=\"color: #008080; text-decoration-color: #008080; font-weight: bold\">0</span>. <span style=\"color: #008080; text-decoration-color: #008080; font-weight: bold\">0</span>. <span style=\"color: #008080; text-decoration-color: #008080; font-weight: bold\">0</span>. <span style=\"color: #008080; text-decoration-color: #008080; font-weight: bold\">0</span>. <span style=\"color: #008080; text-decoration-color: #008080; font-weight: bold\">1</span>.<span style=\"font-weight: bold\">]</span>\n",
       "\n",
       "</pre>\n"
      ],
      "text/plain": [
       "ANTsImage\n",
       "         Pixel Type : float \u001b[1m(\u001b[0mfloat32\u001b[1m)\u001b[0m\n",
       "         Components : \u001b[1;36m1\u001b[0m\n",
       "         Dimensions : \u001b[1m(\u001b[0m\u001b[1;36m64\u001b[0m, \u001b[1;36m32\u001b[0m, \u001b[1;36m28\u001b[0m, \u001b[1;36m600\u001b[0m\u001b[1m)\u001b[0m\n",
       "         Spacing    : \u001b[1m(\u001b[0m\u001b[1;36m0.4\u001b[0m, \u001b[1;36m0.4\u001b[0m, \u001b[1;36m0.4\u001b[0m, \u001b[1;36m1.0\u001b[0m\u001b[1m)\u001b[0m\n",
       "         Origin     : \u001b[1m(\u001b[0m\u001b[1;36m12.8\u001b[0m, \u001b[1;36m-6.0\u001b[0m, \u001b[1;36m-5.6\u001b[0m, \u001b[1;36m0.0\u001b[0m\u001b[1m)\u001b[0m\n",
       "         Direction  : \u001b[1m[\u001b[0m\u001b[1;36m1\u001b[0m. \u001b[1;36m0\u001b[0m. \u001b[1;36m0\u001b[0m. \u001b[1;36m0\u001b[0m. \u001b[1;36m0\u001b[0m. \u001b[1;36m1\u001b[0m. \u001b[1;36m0\u001b[0m. \u001b[1;36m0\u001b[0m. \u001b[1;36m0\u001b[0m. \u001b[1;36m0\u001b[0m. \u001b[1;36m1\u001b[0m. \u001b[1;36m0\u001b[0m. \u001b[1;36m0\u001b[0m. \u001b[1;36m0\u001b[0m. \u001b[1;36m0\u001b[0m. \u001b[1;36m1\u001b[0m.\u001b[1m]\u001b[0m\n",
       "\n"
      ]
     },
     "metadata": {},
     "output_type": "display_data"
    }
   ],
   "source": [
    "x = ants.image_read(pjoin(tmp_dir, 'sub-SLC04_ses-2_task-rest_run-1_bold.nii.gz'))\n",
    "x"
   ]
  },
  {
   "cell_type": "code",
   "execution_count": 210,
   "id": "e8fb26d2",
   "metadata": {},
   "outputs": [
    {
     "data": {
      "text/html": [
       "<pre style=\"white-space:pre;overflow-x:auto;line-height:normal;font-family:Menlo,'DejaVu Sans Mono',consolas,'Courier New',monospace\"><span style=\"font-weight: bold\">&lt;</span><span style=\"color: #ff00ff; text-decoration-color: #ff00ff; font-weight: bold\">matplotlib.colorbar.Colorbar</span><span style=\"color: #000000; text-decoration-color: #000000\"> object at </span><span style=\"color: #008080; text-decoration-color: #008080; font-weight: bold\">0x7f4d4d0447c0</span><span style=\"font-weight: bold\">&gt;</span>\n",
       "</pre>\n"
      ],
      "text/plain": [
       "\u001b[1m<\u001b[0m\u001b[1;95mmatplotlib.colorbar.Colorbar\u001b[0m\u001b[39m object at \u001b[0m\u001b[1;36m0x7f4d4d0447c0\u001b[0m\u001b[1m>\u001b[0m\n"
      ]
     },
     "metadata": {},
     "output_type": "display_data"
    },
    {
     "data": {
      "image/png": "[encoded data removed]"
     },
     "metadata": {},
     "output_type": "display_data"
    }
   ],
   "source": [
    "plt.imshow(x[30, ..., 150])\n",
    "plt.colorbar()"
   ]
  },
  {
   "cell_type": "code",
   "execution_count": 219,
   "id": "918fd7e2",
   "metadata": {
    "scrolled": false
   },
   "outputs": [
    {
     "data": {
      "text/html": [
       "<pre style=\"white-space:pre;overflow-x:auto;line-height:normal;font-family:Menlo,'DejaVu Sans Mono',consolas,'Courier New',monospace\"><span style=\"font-weight: bold\">&lt;</span><span style=\"color: #ff00ff; text-decoration-color: #ff00ff; font-weight: bold\">matplotlib.colorbar.Colorbar</span><span style=\"color: #000000; text-decoration-color: #000000\"> object at </span><span style=\"color: #008080; text-decoration-color: #008080; font-weight: bold\">0x7f4d4cc5c9a0</span><span style=\"font-weight: bold\">&gt;</span>\n",
       "</pre>\n"
      ],
      "text/plain": [
       "\u001b[1m<\u001b[0m\u001b[1;95mmatplotlib.colorbar.Colorbar\u001b[0m\u001b[39m object at \u001b[0m\u001b[1;36m0x7f4d4cc5c9a0\u001b[0m\u001b[1m>\u001b[0m\n"
      ]
     },
     "metadata": {},
     "output_type": "display_data"
    },
    {
     "data": {
      "image/png": "[encoded data removed]"
     },
     "metadata": {},
     "output_type": "display_data"
    }
   ],
   "source": [
    "plt.imshow(x[:, :, 16, 120])\n",
    "plt.colorbar()"
   ]
  },
  {
   "cell_type": "code",
   "execution_count": null,
   "id": "c1fafe8a",
   "metadata": {},
   "outputs": [],
   "source": []
  },
  {
   "cell_type": "code",
   "execution_count": null,
   "id": "f1b73f14",
   "metadata": {},
   "outputs": [],
   "source": []
  },
  {
   "cell_type": "code",
   "execution_count": 224,
   "id": "5106e5a6",
   "metadata": {},
   "outputs": [],
   "source": [
    "bold_files = []\n",
    "for p in pathlib.Path(cwd).rglob('*_bold_combined_cleaned.nii.gz'):\n",
    "    bold_files.append(str(p))\n",
    "bold_files = sorted(bold_files)"
   ]
  },
  {
   "cell_type": "code",
   "execution_count": 225,
   "id": "a7556fb8",
   "metadata": {},
   "outputs": [
    {
     "data": {
      "text/html": [
       "<pre style=\"white-space:pre;overflow-x:auto;line-height:normal;font-family:Menlo,'DejaVu Sans Mono',consolas,'Courier New',monospace\">Warning, missing:       sub-SLC03_ses-1_run-<span style=\"color: #008080; text-decoration-color: #008080; font-weight: bold\">1</span>\n",
       "</pre>\n"
      ],
      "text/plain": [
       "Warning, missing:       sub-SLC03_ses-1_run-\u001b[1;36m1\u001b[0m\n"
      ]
     },
     "metadata": {},
     "output_type": "display_data"
    },
    {
     "data": {
      "text/html": [
       "<pre style=\"white-space:pre;overflow-x:auto;line-height:normal;font-family:Menlo,'DejaVu Sans Mono',consolas,'Courier New',monospace\">Warning, missing:       sub-SLC03_ses-3_run-<span style=\"color: #008080; text-decoration-color: #008080; font-weight: bold\">2</span>\n",
       "</pre>\n"
      ],
      "text/plain": [
       "Warning, missing:       sub-SLC03_ses-3_run-\u001b[1;36m2\u001b[0m\n"
      ]
     },
     "metadata": {},
     "output_type": "display_data"
    },
    {
     "data": {
      "text/html": [
       "<pre style=\"white-space:pre;overflow-x:auto;line-height:normal;font-family:Menlo,'DejaVu Sans Mono',consolas,'Courier New',monospace\">Warning, missing:       sub-SLC04_ses-3_run-<span style=\"color: #008080; text-decoration-color: #008080; font-weight: bold\">2</span>\n",
       "</pre>\n"
      ],
      "text/plain": [
       "Warning, missing:       sub-SLC04_ses-3_run-\u001b[1;36m2\u001b[0m\n"
      ]
     },
     "metadata": {},
     "output_type": "display_data"
    },
    {
     "data": {
      "text/html": [
       "<pre style=\"white-space:pre;overflow-x:auto;line-height:normal;font-family:Menlo,'DejaVu Sans Mono',consolas,'Courier New',monospace\">Warning, missing:       sub-SLC05_ses-1_run-<span style=\"color: #008080; text-decoration-color: #008080; font-weight: bold\">5</span>\n",
       "</pre>\n"
      ],
      "text/plain": [
       "Warning, missing:       sub-SLC05_ses-1_run-\u001b[1;36m5\u001b[0m\n"
      ]
     },
     "metadata": {},
     "output_type": "display_data"
    },
    {
     "data": {
      "text/html": [
       "<pre style=\"white-space:pre;overflow-x:auto;line-height:normal;font-family:Menlo,'DejaVu Sans Mono',consolas,'Courier New',monospace\">Warning, missing:       sub-SLC06_ses-3_run-<span style=\"color: #008080; text-decoration-color: #008080; font-weight: bold\">2</span>\n",
       "</pre>\n"
      ],
      "text/plain": [
       "Warning, missing:       sub-SLC06_ses-3_run-\u001b[1;36m2\u001b[0m\n"
      ]
     },
     "metadata": {},
     "output_type": "display_data"
    },
    {
     "data": {
      "text/html": [
       "<pre style=\"white-space:pre;overflow-x:auto;line-height:normal;font-family:Menlo,'DejaVu Sans Mono',consolas,'Courier New',monospace\">Warning, missing:       sub-SLC07_ses-1_run-<span style=\"color: #008080; text-decoration-color: #008080; font-weight: bold\">6</span>\n",
       "</pre>\n"
      ],
      "text/plain": [
       "Warning, missing:       sub-SLC07_ses-1_run-\u001b[1;36m6\u001b[0m\n"
      ]
     },
     "metadata": {},
     "output_type": "display_data"
    },
    {
     "data": {
      "text/html": [
       "<pre style=\"white-space:pre;overflow-x:auto;line-height:normal;font-family:Menlo,'DejaVu Sans Mono',consolas,'Courier New',monospace\">Warning, missing:       sub-SLC08_ses-1_run-<span style=\"color: #008080; text-decoration-color: #008080; font-weight: bold\">7</span>\n",
       "</pre>\n"
      ],
      "text/plain": [
       "Warning, missing:       sub-SLC08_ses-1_run-\u001b[1;36m7\u001b[0m\n"
      ]
     },
     "metadata": {},
     "output_type": "display_data"
    }
   ],
   "source": [
    "for sub in mice.cfg.sub_ids:\n",
    "    for ses in mice.cfg.ses_ids:\n",
    "        for run in mice.cfg.run_ids:\n",
    "            patterns = [\n",
    "                f\"sub-SLC{sub:02d}\",\n",
    "                f\"ses-{ses:d}\",\n",
    "                f\"run-{run:d}\",\n",
    "            ]\n",
    "            key = '_'.join(patterns)\n",
    "            try:\n",
    "                f = next(\n",
    "                    e for e in bold_files if\n",
    "                    all(k in e for k in patterns)\n",
    "                )\n",
    "            except StopIteration:\n",
    "                print(f\"Warning, missing:\\t{key}\")"
   ]
  },
  {
   "cell_type": "code",
   "execution_count": 228,
   "id": "ef9165aa",
   "metadata": {},
   "outputs": [
    {
     "data": {
      "text/html": [
       "<pre style=\"white-space:pre;overflow-x:auto;line-height:normal;font-family:Menlo,'DejaVu Sans Mono',consolas,'Courier New',monospace\">ANTsImage\n",
       "         Pixel Type : float <span style=\"font-weight: bold\">(</span>float32<span style=\"font-weight: bold\">)</span>\n",
       "         Components : <span style=\"color: #008080; text-decoration-color: #008080; font-weight: bold\">1</span>\n",
       "         Dimensions : <span style=\"font-weight: bold\">(</span><span style=\"color: #008080; text-decoration-color: #008080; font-weight: bold\">32</span>, <span style=\"color: #008080; text-decoration-color: #008080; font-weight: bold\">45</span>, <span style=\"color: #008080; text-decoration-color: #008080; font-weight: bold\">26</span>, <span style=\"color: #008080; text-decoration-color: #008080; font-weight: bold\">503</span><span style=\"font-weight: bold\">)</span>\n",
       "         Spacing    : <span style=\"font-weight: bold\">(</span><span style=\"color: #008080; text-decoration-color: #008080; font-weight: bold\">0.4</span>, <span style=\"color: #008080; text-decoration-color: #008080; font-weight: bold\">0.4</span>, <span style=\"color: #008080; text-decoration-color: #008080; font-weight: bold\">0.4</span>, <span style=\"color: #008080; text-decoration-color: #008080; font-weight: bold\">1.0</span><span style=\"font-weight: bold\">)</span>\n",
       "         Origin     : <span style=\"font-weight: bold\">(</span><span style=\"color: #008080; text-decoration-color: #008080; font-weight: bold\">19.3</span>, <span style=\"color: #008080; text-decoration-color: #008080; font-weight: bold\">7.75</span>, <span style=\"color: #008080; text-decoration-color: #008080; font-weight: bold\">-4.95</span>, <span style=\"color: #008080; text-decoration-color: #008080; font-weight: bold\">0.0</span><span style=\"font-weight: bold\">)</span>\n",
       "         Direction  : <span style=\"font-weight: bold\">[</span><span style=\"color: #008080; text-decoration-color: #008080; font-weight: bold\">-1</span>.  <span style=\"color: #008080; text-decoration-color: #008080; font-weight: bold\">0</span>.  <span style=\"color: #008080; text-decoration-color: #008080; font-weight: bold\">0</span>.  <span style=\"color: #008080; text-decoration-color: #008080; font-weight: bold\">0</span>.  <span style=\"color: #008080; text-decoration-color: #008080; font-weight: bold\">0</span>. <span style=\"color: #008080; text-decoration-color: #008080; font-weight: bold\">-1</span>.  <span style=\"color: #008080; text-decoration-color: #008080; font-weight: bold\">0</span>.  <span style=\"color: #008080; text-decoration-color: #008080; font-weight: bold\">0</span>.  <span style=\"color: #008080; text-decoration-color: #008080; font-weight: bold\">0</span>.  <span style=\"color: #008080; text-decoration-color: #008080; font-weight: bold\">0</span>.  <span style=\"color: #008080; text-decoration-color: #008080; font-weight: bold\">1</span>.  <span style=\"color: #008080; text-decoration-color: #008080; font-weight: bold\">0</span>.  <span style=\"color: #008080; text-decoration-color: #008080; font-weight: bold\">0</span>.  <span style=\"color: #008080; text-decoration-color: #008080; font-weight: bold\">0</span>.  <span style=\"color: #008080; text-decoration-color: #008080; font-weight: bold\">0</span>.  <span style=\"color: #008080; text-decoration-color: #008080; font-weight: bold\">1</span>.<span style=\"font-weight: bold\">]</span>\n",
       "\n",
       "</pre>\n"
      ],
      "text/plain": [
       "ANTsImage\n",
       "         Pixel Type : float \u001b[1m(\u001b[0mfloat32\u001b[1m)\u001b[0m\n",
       "         Components : \u001b[1;36m1\u001b[0m\n",
       "         Dimensions : \u001b[1m(\u001b[0m\u001b[1;36m32\u001b[0m, \u001b[1;36m45\u001b[0m, \u001b[1;36m26\u001b[0m, \u001b[1;36m503\u001b[0m\u001b[1m)\u001b[0m\n",
       "         Spacing    : \u001b[1m(\u001b[0m\u001b[1;36m0.4\u001b[0m, \u001b[1;36m0.4\u001b[0m, \u001b[1;36m0.4\u001b[0m, \u001b[1;36m1.0\u001b[0m\u001b[1m)\u001b[0m\n",
       "         Origin     : \u001b[1m(\u001b[0m\u001b[1;36m19.3\u001b[0m, \u001b[1;36m7.75\u001b[0m, \u001b[1;36m-4.95\u001b[0m, \u001b[1;36m0.0\u001b[0m\u001b[1m)\u001b[0m\n",
       "         Direction  : \u001b[1m[\u001b[0m\u001b[1;36m-1\u001b[0m.  \u001b[1;36m0\u001b[0m.  \u001b[1;36m0\u001b[0m.  \u001b[1;36m0\u001b[0m.  \u001b[1;36m0\u001b[0m. \u001b[1;36m-1\u001b[0m.  \u001b[1;36m0\u001b[0m.  \u001b[1;36m0\u001b[0m.  \u001b[1;36m0\u001b[0m.  \u001b[1;36m0\u001b[0m.  \u001b[1;36m1\u001b[0m.  \u001b[1;36m0\u001b[0m.  \u001b[1;36m0\u001b[0m.  \u001b[1;36m0\u001b[0m.  \u001b[1;36m0\u001b[0m.  \u001b[1;36m1\u001b[0m.\u001b[1m]\u001b[0m\n",
       "\n"
      ]
     },
     "metadata": {},
     "output_type": "display_data"
    }
   ],
   "source": [
    "img = ants.image_read(f)\n",
    "img"
   ]
  },
  {
   "cell_type": "code",
   "execution_count": 243,
   "id": "86f97569",
   "metadata": {},
   "outputs": [
    {
     "data": {
      "text/html": [
       "<pre style=\"white-space:pre;overflow-x:auto;line-height:normal;font-family:Menlo,'DejaVu Sans Mono',consolas,'Courier New',monospace\"><span style=\"font-weight: bold\">&lt;</span><span style=\"color: #ff00ff; text-decoration-color: #ff00ff; font-weight: bold\">matplotlib.image.AxesImage</span><span style=\"color: #000000; text-decoration-color: #000000\"> object at </span><span style=\"color: #008080; text-decoration-color: #008080; font-weight: bold\">0x7f4d47daf370</span><span style=\"font-weight: bold\">&gt;</span>\n",
       "</pre>\n"
      ],
      "text/plain": [
       "\u001b[1m<\u001b[0m\u001b[1;95mmatplotlib.image.AxesImage\u001b[0m\u001b[39m object at \u001b[0m\u001b[1;36m0x7f4d47daf370\u001b[0m\u001b[1m>\u001b[0m\n"
      ]
     },
     "metadata": {},
     "output_type": "display_data"
    },
    {
     "data": {
      "image/png": "[encoded data removed]"
     },
     "metadata": {},
     "output_type": "display_data"
    }
   ],
   "source": [
    "plt.imshow(img.numpy()[:, 26, :, 160])"
   ]
  },
  {
   "cell_type": "code",
   "execution_count": null,
   "id": "7a46b71c",
   "metadata": {},
   "outputs": [],
   "source": []
  },
  {
   "cell_type": "code",
   "execution_count": 230,
   "id": "25fac976",
   "metadata": {},
   "outputs": [
    {
     "data": {
      "text/html": [
       "<pre style=\"white-space:pre;overflow-x:auto;line-height:normal;font-family:Menlo,'DejaVu Sans Mono',consolas,'Courier New',monospace\"><span style=\"font-weight: bold\">((</span><span style=\"color: #008080; text-decoration-color: #008080; font-weight: bold\">32</span>, <span style=\"color: #008080; text-decoration-color: #008080; font-weight: bold\">45</span>, <span style=\"color: #008080; text-decoration-color: #008080; font-weight: bold\">26</span><span style=\"font-weight: bold\">)</span>, <span style=\"font-weight: bold\">(</span><span style=\"color: #008080; text-decoration-color: #008080; font-weight: bold\">32</span>, <span style=\"color: #008080; text-decoration-color: #008080; font-weight: bold\">26</span>, <span style=\"color: #008080; text-decoration-color: #008080; font-weight: bold\">45</span><span style=\"font-weight: bold\">))</span>\n",
       "</pre>\n"
      ],
      "text/plain": [
       "\u001b[1m(\u001b[0m\u001b[1m(\u001b[0m\u001b[1;36m32\u001b[0m, \u001b[1;36m45\u001b[0m, \u001b[1;36m26\u001b[0m\u001b[1m)\u001b[0m, \u001b[1m(\u001b[0m\u001b[1;36m32\u001b[0m, \u001b[1;36m26\u001b[0m, \u001b[1;36m45\u001b[0m\u001b[1m)\u001b[0m\u001b[1m)\u001b[0m\n"
      ]
     },
     "metadata": {},
     "output_type": "display_data"
    }
   ],
   "source": [
    "m400.shape, m400_reor.shape"
   ]
  },
  {
   "cell_type": "code",
   "execution_count": null,
   "id": "9e5ab1c6",
   "metadata": {},
   "outputs": [],
   "source": []
  },
  {
   "cell_type": "code",
   "execution_count": null,
   "id": "9846cc1f",
   "metadata": {},
   "outputs": [],
   "source": []
  },
  {
   "cell_type": "markdown",
   "id": "6494949b",
   "metadata": {},
   "source": [
    "## Downsample ROIs"
   ]
  },
  {
   "cell_type": "code",
   "execution_count": 244,
   "id": "8e36ad05",
   "metadata": {},
   "outputs": [],
   "source": [
    "obj_files = sorted([\n",
    "    str(e) for e in\n",
    "    pathlib.Path(mice.cfg.masks_dir).rglob('*_cortex.nii.gz*')\n",
    "])\n",
    "\n",
    "t1ws = {}\n",
    "objs = {}\n",
    "for key, anat in mice.T1w.items():\n",
    "    file = next(\n",
    "        f for f in obj_files\n",
    "        if key in f\n",
    "    )\n",
    "    objs[key] = ants.image_read(\n",
    "        pjoin(mice.cfg.masks_dir, file),\n",
    "        pixeltype='unsigned int',\n",
    "    )\n",
    "    t1ws[key] = anat.load_ants().numpy()"
   ]
  },
  {
   "cell_type": "code",
   "execution_count": 246,
   "id": "b9e1a0cc",
   "metadata": {},
   "outputs": [
    {
     "data": {
      "text/html": [
       "<pre style=\"white-space:pre;overflow-x:auto;line-height:normal;font-family:Menlo,'DejaVu Sans Mono',consolas,'Courier New',monospace\"><span style=\"color: #008000; text-decoration-color: #008000\">'sub-SLC04_ses-2'</span>\n",
       "</pre>\n"
      ],
      "text/plain": [
       "\u001b[32m'sub-SLC04_ses-2'\u001b[0m\n"
      ]
     },
     "metadata": {},
     "output_type": "display_data"
    }
   ],
   "source": [
    "key = mice.get_key(4, 2)\n",
    "key"
   ]
  },
  {
   "cell_type": "code",
   "execution_count": null,
   "id": "27b81d07",
   "metadata": {},
   "outputs": [],
   "source": []
  },
  {
   "cell_type": "code",
   "execution_count": 248,
   "id": "5ae37fe4",
   "metadata": {},
   "outputs": [
    {
     "data": {
      "text/html": [
       "<pre style=\"white-space:pre;overflow-x:auto;line-height:normal;font-family:Menlo,'DejaVu Sans Mono',consolas,'Courier New',monospace\"><span style=\"font-weight: bold\">&lt;</span><span style=\"color: #ff00ff; text-decoration-color: #ff00ff; font-weight: bold\">matplotlib.image.AxesImage</span><span style=\"color: #000000; text-decoration-color: #000000\"> object at </span><span style=\"color: #008080; text-decoration-color: #008080; font-weight: bold\">0x7f4d47cd9af0</span><span style=\"font-weight: bold\">&gt;</span>\n",
       "</pre>\n"
      ],
      "text/plain": [
       "\u001b[1m<\u001b[0m\u001b[1;95mmatplotlib.image.AxesImage\u001b[0m\u001b[39m object at \u001b[0m\u001b[1;36m0x7f4d47cd9af0\u001b[0m\u001b[1m>\u001b[0m\n"
      ]
     },
     "metadata": {},
     "output_type": "display_data"
    },
    {
     "data": {
      "image/png": "[encoded data removed]"
     },
     "metadata": {},
     "output_type": "display_data"
    }
   ],
   "source": [
    "plt.imshow(objs[key][..., 40].T)"
   ]
  },
  {
   "cell_type": "code",
   "execution_count": null,
   "id": "e2d2c6f0",
   "metadata": {},
   "outputs": [],
   "source": []
  },
  {
   "cell_type": "code",
   "execution_count": null,
   "id": "5ae1361e",
   "metadata": {},
   "outputs": [],
   "source": []
  },
  {
   "cell_type": "code",
   "execution_count": null,
   "id": "47e11b76",
   "metadata": {},
   "outputs": [],
   "source": []
  },
  {
   "cell_type": "code",
   "execution_count": null,
   "id": "dbbee71d",
   "metadata": {},
   "outputs": [],
   "source": []
  },
  {
   "cell_type": "code",
   "execution_count": null,
   "id": "40f70e6e",
   "metadata": {},
   "outputs": [],
   "source": []
  },
  {
   "cell_type": "code",
   "execution_count": null,
   "id": "3a8ff865",
   "metadata": {},
   "outputs": [],
   "source": []
  },
  {
   "cell_type": "code",
   "execution_count": null,
   "id": "231bfe54",
   "metadata": {},
   "outputs": [],
   "source": []
  },
  {
   "cell_type": "code",
   "execution_count": null,
   "id": "139d8840",
   "metadata": {},
   "outputs": [],
   "source": []
  }
 ],
 "metadata": {
  "kernelspec": {
   "display_name": "Python 3",
   "language": "python",
   "name": "python3"
  },
  "language_info": {
   "codemirror_mode": {
    "name": "ipython",
    "version": 3
   },
   "file_extension": ".py",
   "mimetype": "text/x-python",
   "name": "python",
   "nbconvert_exporter": "python",
   "pygments_lexer": "ipython3",
   "version": "3.8.3"
  }
 },
 "nbformat": 4,
 "nbformat_minor": 5
}
