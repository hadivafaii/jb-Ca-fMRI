{
 "cells": [
  {
   "cell_type": "markdown",
   "id": "3c2c2b87",
   "metadata": {},
   "source": [
    "# November ??th, 2021 (register N162)\n",
    "\n",
    "**Motivation**: ?? <br>"
   ]
  },
  {
   "cell_type": "code",
   "execution_count": 1,
   "id": "4431e3e5",
   "metadata": {
    "tags": [
     "hide-input"
    ]
   },
   "outputs": [],
   "source": [
    "# HIDE CODE\n",
    "\n",
    "\n",
    "import os\n",
    "import sys\n",
    "import nibabel as nib\n",
    "import networkx as nx\n",
    "from time import time\n",
    "from pprint import pprint\n",
    "from copy import deepcopy as dc\n",
    "from os.path import join as pjoin\n",
    "from myterial import orange, blue_grey\n",
    "from IPython.display import display, IFrame, HTML\n",
    "from matplotlib.colors import rgb2hex, to_rgb\n",
    "import matplotlib.pyplot as plt\n",
    "import seaborn as sns\n",
    "\n",
    "# set style & no interpolalation\n",
    "import matplotlib\n",
    "matplotlib.rcParams['image.interpolation'] = 'none'\n",
    "sns.set_style('whitegrid')\n",
    "%matplotlib inline\n",
    "\n",
    "# tmp & extras dir\n",
    "git_dir = pjoin(os.environ['HOME'], 'Dropbox/git')\n",
    "tmp_dir = pjoin(git_dir, 'jb-Ca-fMRI/tmp')\n",
    "extras_dir = pjoin(git_dir, 'jb-Ca-fMRI/_extras')\n",
    "lfr_dir = pjoin(os.environ['HOME'], 'Documents/workspaces/lfr/binary_overlapping')\n",
    "\n",
    "\n",
    "# GitHub\n",
    "sys.path.insert(0, pjoin(git_dir, '_Ca-fMRI'))\n",
    "from register.atlas import make_tree_graph\n",
    "from register.parcellation import Parcellation\n",
    "from analysis.hierarchical import Hierarchical\n",
    "from analysis.fourier import *\n",
    "from analysis.bootstrap import *\n",
    "from analysis.svinet import *\n",
    "from analysis.group import *\n",
    "from analysis.lfr import *\n",
    "from utils.render import *\n",
    "from utils.plotting import *\n",
    "from model.mouse import Mice\n",
    "from model.configuration import Config\n",
    "\n",
    "# warnings\n",
    "import warnings\n",
    "warnings.filterwarnings('ignore', category=DeprecationWarning)"
   ]
  },
  {
   "cell_type": "code",
   "execution_count": 2,
   "id": "899fabb1",
   "metadata": {},
   "outputs": [
    {
     "data": {
      "text/html": [
       "<pre style=\"white-space:pre;overflow-x:auto;line-height:normal;font-family:Menlo,'DejaVu Sans Mono',consolas,'Courier New',monospace\">ROI lookup not found, time to run <span style=\"color: #800080; text-decoration-color: #800080; font-weight: bold\">organize_func</span><span style=\"font-weight: bold\">()</span> . . .\n",
       "</pre>\n"
      ],
      "text/plain": [
       "ROI lookup not found, time to run \u001b[1;35morganize_func\u001b[0m\u001b[1m(\u001b[0m\u001b[1m)\u001b[0m . . .\n"
      ]
     },
     "metadata": {},
     "output_type": "display_data"
    },
    {
     "data": {
      "text/html": [
       "<pre style=\"white-space:pre;overflow-x:auto;line-height:normal;font-family:Menlo,'DejaVu Sans Mono',consolas,'Courier New',monospace\">combine metadata not found, time to run <span style=\"color: #800080; text-decoration-color: #800080; font-weight: bold\">cat_data</span><span style=\"font-weight: bold\">()</span> . . .\n",
       "</pre>\n"
      ],
      "text/plain": [
       "combine metadata not found, time to run \u001b[1;35mcat_data\u001b[0m\u001b[1m(\u001b[0m\u001b[1m)\u001b[0m . . .\n"
      ]
     },
     "metadata": {},
     "output_type": "display_data"
    }
   ],
   "source": [
    "mice = Mice(Config(256, 0, 100), full_load=True, load_parcel=True, load_allen=True)"
   ]
  },
  {
   "cell_type": "code",
   "execution_count": 3,
   "id": "4769df25",
   "metadata": {
    "scrolled": true
   },
   "outputs": [
    {
     "data": {
      "text/html": [
       "<pre style=\"white-space:pre;overflow-x:auto;line-height:normal;font-family:Menlo,'DejaVu Sans Mono',consolas,'Courier New',monospace\"><span style=\"font-weight: bold\">[</span>PROGRESS<span style=\"font-weight: bold\">]</span> fit columnar: initiated\n",
       "</pre>\n"
      ],
      "text/plain": [
       "\u001b[1m[\u001b[0mPROGRESS\u001b[1m]\u001b[0m fit columnar: initiated\n"
      ]
     },
     "metadata": {},
     "output_type": "display_data"
    },
    {
     "name": "stderr",
     "output_type": "stream",
     "text": [
      "Intel(R) Extension for Scikit-learn* enabled (https://github.com/intel/scikit-learn-intelex)\n"
     ]
    },
    {
     "data": {
      "text/html": [
       "<pre style=\"white-space:pre;overflow-x:auto;line-height:normal;font-family:Menlo,'DejaVu Sans Mono',consolas,'Courier New',monospace\"><span style=\"font-weight: bold\">[</span>PROGRESS<span style=\"font-weight: bold\">]</span> kmeans fit: done\n",
       "</pre>\n"
      ],
      "text/plain": [
       "\u001b[1m[\u001b[0mPROGRESS\u001b[1m]\u001b[0m kmeans fit: done\n"
      ]
     },
     "metadata": {},
     "output_type": "display_data"
    },
    {
     "data": {
      "text/html": [
       "<pre style=\"white-space:pre;overflow-x:auto;line-height:normal;font-family:Menlo,'DejaVu Sans Mono',consolas,'Courier New',monospace\"><span style=\"font-weight: bold\">[</span>PROGRESS<span style=\"font-weight: bold\">]</span> save 2D 10um: done\n",
       "</pre>\n"
      ],
      "text/plain": [
       "\u001b[1m[\u001b[0mPROGRESS\u001b[1m]\u001b[0m save 2D 10um: done\n"
      ]
     },
     "metadata": {},
     "output_type": "display_data"
    },
    {
     "data": {
      "text/html": [
       "<pre style=\"white-space:pre;overflow-x:auto;line-height:normal;font-family:Menlo,'DejaVu Sans Mono',consolas,'Courier New',monospace\"><span style=\"font-weight: bold\">[</span>PROGRESS<span style=\"font-weight: bold\">]</span> 2d --&gt; 3d: done\n",
       "</pre>\n"
      ],
      "text/plain": [
       "\u001b[1m[\u001b[0mPROGRESS\u001b[1m]\u001b[0m 2d --> 3d: done\n"
      ]
     },
     "metadata": {},
     "output_type": "display_data"
    },
    {
     "data": {
      "text/html": [
       "<pre style=\"white-space:pre;overflow-x:auto;line-height:normal;font-family:Menlo,'DejaVu Sans Mono',consolas,'Courier New',monospace\"><span style=\"font-weight: bold\">[</span>PROGRESS<span style=\"font-weight: bold\">]</span> fill gaps: done\n",
       "</pre>\n"
      ],
      "text/plain": [
       "\u001b[1m[\u001b[0mPROGRESS\u001b[1m]\u001b[0m fill gaps: done\n"
      ]
     },
     "metadata": {},
     "output_type": "display_data"
    },
    {
     "data": {
      "text/html": [
       "<pre style=\"white-space:pre;overflow-x:auto;line-height:normal;font-family:Menlo,'DejaVu Sans Mono',consolas,'Courier New',monospace\"><span style=\"font-weight: bold\">[</span>PROGRESS<span style=\"font-weight: bold\">]</span> save 3D 10um: done\n",
       "</pre>\n"
      ],
      "text/plain": [
       "\u001b[1m[\u001b[0mPROGRESS\u001b[1m]\u001b[0m save 3D 10um: done\n"
      ]
     },
     "metadata": {},
     "output_type": "display_data"
    },
    {
     "data": {
      "text/html": [
       "<pre style=\"white-space:pre;overflow-x:auto;line-height:normal;font-family:Menlo,'DejaVu Sans Mono',consolas,'Courier New',monospace\"><span style=\"font-weight: bold\">[</span>PROGRESS<span style=\"font-weight: bold\">]</span> downsample: done\n",
       "</pre>\n"
      ],
      "text/plain": [
       "\u001b[1m[\u001b[0mPROGRESS\u001b[1m]\u001b[0m downsample: done\n"
      ]
     },
     "metadata": {},
     "output_type": "display_data"
    },
    {
     "data": {
      "text/html": [
       "<pre style=\"white-space:pre;overflow-x:auto;line-height:normal;font-family:Menlo,'DejaVu Sans Mono',consolas,'Courier New',monospace\">num regions,    left: <span style=\"color: #008080; text-decoration-color: #008080; font-weight: bold\">768</span>,  right: <span style=\"color: #008080; text-decoration-color: #008080; font-weight: bold\">768</span>\n",
       "region id diff,         r - l:  <span style=\"color: #800080; text-decoration-color: #800080; font-weight: bold\">Counter</span><span style=\"font-weight: bold\">({</span><span style=\"color: #008080; text-decoration-color: #008080; font-weight: bold\">768</span>: <span style=\"color: #008080; text-decoration-color: #008080; font-weight: bold\">768</span><span style=\"font-weight: bold\">})</span>\n",
       "\n",
       "</pre>\n"
      ],
      "text/plain": [
       "num regions,    left: \u001b[1;36m768\u001b[0m,  right: \u001b[1;36m768\u001b[0m\n",
       "region id diff,         r - l:  \u001b[1;35mCounter\u001b[0m\u001b[1m(\u001b[0m\u001b[1m{\u001b[0m\u001b[1;36m768\u001b[0m: \u001b[1;36m768\u001b[0m\u001b[1m}\u001b[0m\u001b[1m)\u001b[0m\n",
       "\n"
      ]
     },
     "metadata": {},
     "output_type": "display_data"
    },
    {
     "data": {
      "text/html": [
       "<pre style=\"white-space:pre;overflow-x:auto;line-height:normal;font-family:Menlo,'DejaVu Sans Mono',consolas,'Courier New',monospace\"><span style=\"font-weight: bold\">[</span>PROGRESS<span style=\"font-weight: bold\">]</span> fit columnar: done\n",
       "</pre>\n"
      ],
      "text/plain": [
       "\u001b[1m[\u001b[0mPROGRESS\u001b[1m]\u001b[0m fit columnar: done\n"
      ]
     },
     "metadata": {},
     "output_type": "display_data"
    },
    {
     "data": {
      "text/html": [
       "<pre style=\"white-space:pre;overflow-x:auto;line-height:normal;font-family:Menlo,'DejaVu Sans Mono',consolas,'Courier New',monospace\"><span style=\"font-weight: bold\">[</span>PROGRESS<span style=\"font-weight: bold\">]</span> <span style=\"color: #008000; text-decoration-color: #008000\">'cortex_100um.npy'</span> saved at\n",
       "<span style=\"color: #800080; text-decoration-color: #800080\">/home/hadi/Documents/Ca-fMRI/processed/</span><span style=\"color: #ff00ff; text-decoration-color: #ff00ff\">norm-global_parcel-columnar_n-256</span>*<span style=\"color: #008080; text-decoration-color: #008080; font-weight: bold\">0</span>/parcellation\n",
       "</pre>\n"
      ],
      "text/plain": [
       "\u001b[1m[\u001b[0mPROGRESS\u001b[1m]\u001b[0m \u001b[32m'cortex_100um.npy'\u001b[0m saved at\n",
       "\u001b[35m/home/hadi/Documents/Ca-fMRI/processed/\u001b[0m\u001b[95mnorm-global_parcel-columnar_n-256\u001b[0m*\u001b[1;36m0\u001b[0m/parcellation\n"
      ]
     },
     "metadata": {},
     "output_type": "display_data"
    },
    {
     "data": {
      "text/html": [
       "<pre style=\"white-space:pre;overflow-x:auto;line-height:normal;font-family:Menlo,'DejaVu Sans Mono',consolas,'Courier New',monospace\"><span style=\"font-weight: bold\">[</span>PROGRESS<span style=\"font-weight: bold\">]</span> <span style=\"color: #008000; text-decoration-color: #008000\">'cortex-top_100um.npy'</span> saved at\n",
       "<span style=\"color: #800080; text-decoration-color: #800080\">/home/hadi/Documents/Ca-fMRI/processed/</span><span style=\"color: #ff00ff; text-decoration-color: #ff00ff\">norm-global_parcel-columnar_n-256</span>*<span style=\"color: #008080; text-decoration-color: #008080; font-weight: bold\">0</span>/parcellation\n",
       "</pre>\n"
      ],
      "text/plain": [
       "\u001b[1m[\u001b[0mPROGRESS\u001b[1m]\u001b[0m \u001b[32m'cortex-top_100um.npy'\u001b[0m saved at\n",
       "\u001b[35m/home/hadi/Documents/Ca-fMRI/processed/\u001b[0m\u001b[95mnorm-global_parcel-columnar_n-256\u001b[0m*\u001b[1;36m0\u001b[0m/parcellation\n"
      ]
     },
     "metadata": {},
     "output_type": "display_data"
    },
    {
     "data": {
      "text/html": [
       "<pre style=\"white-space:pre;overflow-x:auto;line-height:normal;font-family:Menlo,'DejaVu Sans Mono',consolas,'Courier New',monospace\"><span style=\"font-weight: bold\">[</span>PROGRESS<span style=\"font-weight: bold\">]</span> <span style=\"color: #008000; text-decoration-color: #008000\">'subcortex_100um.npy'</span> saved at\n",
       "<span style=\"color: #800080; text-decoration-color: #800080\">/home/hadi/Documents/Ca-fMRI/processed/</span><span style=\"color: #ff00ff; text-decoration-color: #ff00ff\">norm-global_parcel-columnar_n-256</span>*<span style=\"color: #008080; text-decoration-color: #008080; font-weight: bold\">0</span>/parcellation\n",
       "</pre>\n"
      ],
      "text/plain": [
       "\u001b[1m[\u001b[0mPROGRESS\u001b[1m]\u001b[0m \u001b[32m'subcortex_100um.npy'\u001b[0m saved at\n",
       "\u001b[35m/home/hadi/Documents/Ca-fMRI/processed/\u001b[0m\u001b[95mnorm-global_parcel-columnar_n-256\u001b[0m*\u001b[1;36m0\u001b[0m/parcellation\n"
      ]
     },
     "metadata": {},
     "output_type": "display_data"
    },
    {
     "data": {
      "text/html": [
       "<pre style=\"white-space:pre;overflow-x:auto;line-height:normal;font-family:Menlo,'DejaVu Sans Mono',consolas,'Courier New',monospace\"><span style=\"font-weight: bold\">[</span>PROGRESS<span style=\"font-weight: bold\">]</span> <span style=\"color: #008000; text-decoration-color: #008000\">'subcortex-l_100um.npy'</span> saved at\n",
       "<span style=\"color: #800080; text-decoration-color: #800080\">/home/hadi/Documents/Ca-fMRI/processed/</span><span style=\"color: #ff00ff; text-decoration-color: #ff00ff\">norm-global_parcel-columnar_n-256</span>*<span style=\"color: #008080; text-decoration-color: #008080; font-weight: bold\">0</span>/parcellation\n",
       "</pre>\n"
      ],
      "text/plain": [
       "\u001b[1m[\u001b[0mPROGRESS\u001b[1m]\u001b[0m \u001b[32m'subcortex-l_100um.npy'\u001b[0m saved at\n",
       "\u001b[35m/home/hadi/Documents/Ca-fMRI/processed/\u001b[0m\u001b[95mnorm-global_parcel-columnar_n-256\u001b[0m*\u001b[1;36m0\u001b[0m/parcellation\n"
      ]
     },
     "metadata": {},
     "output_type": "display_data"
    },
    {
     "data": {
      "text/html": [
       "<pre style=\"white-space:pre;overflow-x:auto;line-height:normal;font-family:Menlo,'DejaVu Sans Mono',consolas,'Courier New',monospace\"><span style=\"font-weight: bold\">[</span>PROGRESS<span style=\"font-weight: bold\">]</span> <span style=\"color: #008000; text-decoration-color: #008000\">'subcortex-r_100um.npy'</span> saved at\n",
       "<span style=\"color: #800080; text-decoration-color: #800080\">/home/hadi/Documents/Ca-fMRI/processed/</span><span style=\"color: #ff00ff; text-decoration-color: #ff00ff\">norm-global_parcel-columnar_n-256</span>*<span style=\"color: #008080; text-decoration-color: #008080; font-weight: bold\">0</span>/parcellation\n",
       "</pre>\n"
      ],
      "text/plain": [
       "\u001b[1m[\u001b[0mPROGRESS\u001b[1m]\u001b[0m \u001b[32m'subcortex-r_100um.npy'\u001b[0m saved at\n",
       "\u001b[35m/home/hadi/Documents/Ca-fMRI/processed/\u001b[0m\u001b[95mnorm-global_parcel-columnar_n-256\u001b[0m*\u001b[1;36m0\u001b[0m/parcellation\n"
      ]
     },
     "metadata": {},
     "output_type": "display_data"
    },
    {
     "data": {
      "text/html": [
       "<pre style=\"white-space:pre;overflow-x:auto;line-height:normal;font-family:Menlo,'DejaVu Sans Mono',consolas,'Courier New',monospace\"><span style=\"font-weight: bold\">[</span>PROGRESS<span style=\"font-weight: bold\">]</span> <span style=\"color: #008000; text-decoration-color: #008000\">'regions-top_100um.npy'</span> saved at\n",
       "<span style=\"color: #800080; text-decoration-color: #800080\">/home/hadi/Documents/Ca-fMRI/processed/</span><span style=\"color: #ff00ff; text-decoration-color: #ff00ff\">norm-global_parcel-columnar_n-256</span>*<span style=\"color: #008080; text-decoration-color: #008080; font-weight: bold\">0</span>/parcellation\n",
       "</pre>\n"
      ],
      "text/plain": [
       "\u001b[1m[\u001b[0mPROGRESS\u001b[1m]\u001b[0m \u001b[32m'regions-top_100um.npy'\u001b[0m saved at\n",
       "\u001b[35m/home/hadi/Documents/Ca-fMRI/processed/\u001b[0m\u001b[95mnorm-global_parcel-columnar_n-256\u001b[0m*\u001b[1;36m0\u001b[0m/parcellation\n"
      ]
     },
     "metadata": {},
     "output_type": "display_data"
    },
    {
     "data": {
      "text/html": [
       "<pre style=\"white-space:pre;overflow-x:auto;line-height:normal;font-family:Menlo,'DejaVu Sans Mono',consolas,'Courier New',monospace\"><span style=\"font-weight: bold\">[</span>PROGRESS<span style=\"font-weight: bold\">]</span> <span style=\"color: #008000; text-decoration-color: #008000\">'regions-cortex_100um.npy'</span> saved at\n",
       "<span style=\"color: #800080; text-decoration-color: #800080\">/home/hadi/Documents/Ca-fMRI/processed/</span><span style=\"color: #ff00ff; text-decoration-color: #ff00ff\">norm-global_parcel-columnar_n-256</span>*<span style=\"color: #008080; text-decoration-color: #008080; font-weight: bold\">0</span>/parcellation\n",
       "</pre>\n"
      ],
      "text/plain": [
       "\u001b[1m[\u001b[0mPROGRESS\u001b[1m]\u001b[0m \u001b[32m'regions-cortex_100um.npy'\u001b[0m saved at\n",
       "\u001b[35m/home/hadi/Documents/Ca-fMRI/processed/\u001b[0m\u001b[95mnorm-global_parcel-columnar_n-256\u001b[0m*\u001b[1;36m0\u001b[0m/parcellation\n"
      ]
     },
     "metadata": {},
     "output_type": "display_data"
    },
    {
     "data": {
      "text/html": [
       "<pre style=\"white-space:pre;overflow-x:auto;line-height:normal;font-family:Menlo,'DejaVu Sans Mono',consolas,'Courier New',monospace\"><span style=\"font-weight: bold\">[</span>PROGRESS<span style=\"font-weight: bold\">]</span> <span style=\"color: #008000; text-decoration-color: #008000\">'nonzero-idxs_parcel2d-flat_100um.npy'</span> saved at\n",
       "<span style=\"color: #800080; text-decoration-color: #800080\">/home/hadi/Documents/Ca-fMRI/processed/</span><span style=\"color: #ff00ff; text-decoration-color: #ff00ff\">norm-global_parcel-columnar_n-256</span>*<span style=\"color: #008080; text-decoration-color: #008080; font-weight: bold\">0</span>/parcellation\n",
       "</pre>\n"
      ],
      "text/plain": [
       "\u001b[1m[\u001b[0mPROGRESS\u001b[1m]\u001b[0m \u001b[32m'nonzero-idxs_parcel2d-flat_100um.npy'\u001b[0m saved at\n",
       "\u001b[35m/home/hadi/Documents/Ca-fMRI/processed/\u001b[0m\u001b[95mnorm-global_parcel-columnar_n-256\u001b[0m*\u001b[1;36m0\u001b[0m/parcellation\n"
      ]
     },
     "metadata": {},
     "output_type": "display_data"
    },
    {
     "data": {
      "text/html": [
       "<pre style=\"white-space:pre;overflow-x:auto;line-height:normal;font-family:Menlo,'DejaVu Sans Mono',consolas,'Courier New',monospace\"><span style=\"font-weight: bold\">[</span>PROGRESS<span style=\"font-weight: bold\">]</span> <span style=\"color: #008000; text-decoration-color: #008000\">'nonzero-idxs_parcel2d-top_100um.npy'</span> saved at\n",
       "<span style=\"color: #800080; text-decoration-color: #800080\">/home/hadi/Documents/Ca-fMRI/processed/</span><span style=\"color: #ff00ff; text-decoration-color: #ff00ff\">norm-global_parcel-columnar_n-256</span>*<span style=\"color: #008080; text-decoration-color: #008080; font-weight: bold\">0</span>/parcellation\n",
       "</pre>\n"
      ],
      "text/plain": [
       "\u001b[1m[\u001b[0mPROGRESS\u001b[1m]\u001b[0m \u001b[32m'nonzero-idxs_parcel2d-top_100um.npy'\u001b[0m saved at\n",
       "\u001b[35m/home/hadi/Documents/Ca-fMRI/processed/\u001b[0m\u001b[95mnorm-global_parcel-columnar_n-256\u001b[0m*\u001b[1;36m0\u001b[0m/parcellation\n"
      ]
     },
     "metadata": {},
     "output_type": "display_data"
    },
    {
     "data": {
      "text/html": [
       "<pre style=\"white-space:pre;overflow-x:auto;line-height:normal;font-family:Menlo,'DejaVu Sans Mono',consolas,'Courier New',monospace\"><span style=\"font-weight: bold\">[</span>PROGRESS<span style=\"font-weight: bold\">]</span> <span style=\"color: #008000; text-decoration-color: #008000\">'nonzero-idxs_parcel3d_100um.npy'</span> saved at\n",
       "<span style=\"color: #800080; text-decoration-color: #800080\">/home/hadi/Documents/Ca-fMRI/processed/</span><span style=\"color: #ff00ff; text-decoration-color: #ff00ff\">norm-global_parcel-columnar_n-256</span>*<span style=\"color: #008080; text-decoration-color: #008080; font-weight: bold\">0</span>/parcellation\n",
       "</pre>\n"
      ],
      "text/plain": [
       "\u001b[1m[\u001b[0mPROGRESS\u001b[1m]\u001b[0m \u001b[32m'nonzero-idxs_parcel3d_100um.npy'\u001b[0m saved at\n",
       "\u001b[35m/home/hadi/Documents/Ca-fMRI/processed/\u001b[0m\u001b[95mnorm-global_parcel-columnar_n-256\u001b[0m*\u001b[1;36m0\u001b[0m/parcellation\n"
      ]
     },
     "metadata": {},
     "output_type": "display_data"
    },
    {
     "data": {
      "text/html": [
       "<pre style=\"white-space:pre;overflow-x:auto;line-height:normal;font-family:Menlo,'DejaVu Sans Mono',consolas,'Courier New',monospace\"><span style=\"font-weight: bold\">[</span>PROGRESS<span style=\"font-weight: bold\">]</span> <span style=\"color: #008000; text-decoration-color: #008000\">'region-idxs_parcel2d-flat_100um.npy'</span> saved at\n",
       "<span style=\"color: #800080; text-decoration-color: #800080\">/home/hadi/Documents/Ca-fMRI/processed/</span><span style=\"color: #ff00ff; text-decoration-color: #ff00ff\">norm-global_parcel-columnar_n-256</span>*<span style=\"color: #008080; text-decoration-color: #008080; font-weight: bold\">0</span>/parcellation\n",
       "</pre>\n"
      ],
      "text/plain": [
       "\u001b[1m[\u001b[0mPROGRESS\u001b[1m]\u001b[0m \u001b[32m'region-idxs_parcel2d-flat_100um.npy'\u001b[0m saved at\n",
       "\u001b[35m/home/hadi/Documents/Ca-fMRI/processed/\u001b[0m\u001b[95mnorm-global_parcel-columnar_n-256\u001b[0m*\u001b[1;36m0\u001b[0m/parcellation\n"
      ]
     },
     "metadata": {},
     "output_type": "display_data"
    },
    {
     "data": {
      "text/html": [
       "<pre style=\"white-space:pre;overflow-x:auto;line-height:normal;font-family:Menlo,'DejaVu Sans Mono',consolas,'Courier New',monospace\"><span style=\"font-weight: bold\">[</span>PROGRESS<span style=\"font-weight: bold\">]</span> <span style=\"color: #008000; text-decoration-color: #008000\">'region-idxs_parcel2d-top_100um.npy'</span> saved at\n",
       "<span style=\"color: #800080; text-decoration-color: #800080\">/home/hadi/Documents/Ca-fMRI/processed/</span><span style=\"color: #ff00ff; text-decoration-color: #ff00ff\">norm-global_parcel-columnar_n-256</span>*<span style=\"color: #008080; text-decoration-color: #008080; font-weight: bold\">0</span>/parcellation\n",
       "</pre>\n"
      ],
      "text/plain": [
       "\u001b[1m[\u001b[0mPROGRESS\u001b[1m]\u001b[0m \u001b[32m'region-idxs_parcel2d-top_100um.npy'\u001b[0m saved at\n",
       "\u001b[35m/home/hadi/Documents/Ca-fMRI/processed/\u001b[0m\u001b[95mnorm-global_parcel-columnar_n-256\u001b[0m*\u001b[1;36m0\u001b[0m/parcellation\n"
      ]
     },
     "metadata": {},
     "output_type": "display_data"
    },
    {
     "data": {
      "text/html": [
       "<pre style=\"white-space:pre;overflow-x:auto;line-height:normal;font-family:Menlo,'DejaVu Sans Mono',consolas,'Courier New',monospace\"><span style=\"font-weight: bold\">[</span>PROGRESS<span style=\"font-weight: bold\">]</span> <span style=\"color: #008000; text-decoration-color: #008000\">'region-idxs_parcel3d_100um.npy'</span> saved at\n",
       "<span style=\"color: #800080; text-decoration-color: #800080\">/home/hadi/Documents/Ca-fMRI/processed/</span><span style=\"color: #ff00ff; text-decoration-color: #ff00ff\">norm-global_parcel-columnar_n-256</span>*<span style=\"color: #008080; text-decoration-color: #008080; font-weight: bold\">0</span>/parcellation\n",
       "</pre>\n"
      ],
      "text/plain": [
       "\u001b[1m[\u001b[0mPROGRESS\u001b[1m]\u001b[0m \u001b[32m'region-idxs_parcel3d_100um.npy'\u001b[0m saved at\n",
       "\u001b[35m/home/hadi/Documents/Ca-fMRI/processed/\u001b[0m\u001b[95mnorm-global_parcel-columnar_n-256\u001b[0m*\u001b[1;36m0\u001b[0m/parcellation\n"
      ]
     },
     "metadata": {},
     "output_type": "display_data"
    },
    {
     "data": {
      "text/html": [
       "<pre style=\"white-space:pre;overflow-x:auto;line-height:normal;font-family:Menlo,'DejaVu Sans Mono',consolas,'Courier New',monospace\"><span style=\"font-weight: bold\">[</span>PROGRESS<span style=\"font-weight: bold\">]</span> <span style=\"color: #008000; text-decoration-color: #008000\">'shape_parcel2d-flat_100um.npy'</span> saved at\n",
       "<span style=\"color: #800080; text-decoration-color: #800080\">/home/hadi/Documents/Ca-fMRI/processed/</span><span style=\"color: #ff00ff; text-decoration-color: #ff00ff\">norm-global_parcel-columnar_n-256</span>*<span style=\"color: #008080; text-decoration-color: #008080; font-weight: bold\">0</span>/parcellation\n",
       "</pre>\n"
      ],
      "text/plain": [
       "\u001b[1m[\u001b[0mPROGRESS\u001b[1m]\u001b[0m \u001b[32m'shape_parcel2d-flat_100um.npy'\u001b[0m saved at\n",
       "\u001b[35m/home/hadi/Documents/Ca-fMRI/processed/\u001b[0m\u001b[95mnorm-global_parcel-columnar_n-256\u001b[0m*\u001b[1;36m0\u001b[0m/parcellation\n"
      ]
     },
     "metadata": {},
     "output_type": "display_data"
    },
    {
     "data": {
      "text/html": [
       "<pre style=\"white-space:pre;overflow-x:auto;line-height:normal;font-family:Menlo,'DejaVu Sans Mono',consolas,'Courier New',monospace\"><span style=\"font-weight: bold\">[</span>PROGRESS<span style=\"font-weight: bold\">]</span> <span style=\"color: #008000; text-decoration-color: #008000\">'shape_parcel2d-top_100um.npy'</span> saved at\n",
       "<span style=\"color: #800080; text-decoration-color: #800080\">/home/hadi/Documents/Ca-fMRI/processed/</span><span style=\"color: #ff00ff; text-decoration-color: #ff00ff\">norm-global_parcel-columnar_n-256</span>*<span style=\"color: #008080; text-decoration-color: #008080; font-weight: bold\">0</span>/parcellation\n",
       "</pre>\n"
      ],
      "text/plain": [
       "\u001b[1m[\u001b[0mPROGRESS\u001b[1m]\u001b[0m \u001b[32m'shape_parcel2d-top_100um.npy'\u001b[0m saved at\n",
       "\u001b[35m/home/hadi/Documents/Ca-fMRI/processed/\u001b[0m\u001b[95mnorm-global_parcel-columnar_n-256\u001b[0m*\u001b[1;36m0\u001b[0m/parcellation\n"
      ]
     },
     "metadata": {},
     "output_type": "display_data"
    },
    {
     "data": {
      "text/html": [
       "<pre style=\"white-space:pre;overflow-x:auto;line-height:normal;font-family:Menlo,'DejaVu Sans Mono',consolas,'Courier New',monospace\"><span style=\"font-weight: bold\">[</span>PROGRESS<span style=\"font-weight: bold\">]</span> <span style=\"color: #008000; text-decoration-color: #008000\">'shape_parcel3d_100um.npy'</span> saved at\n",
       "<span style=\"color: #800080; text-decoration-color: #800080\">/home/hadi/Documents/Ca-fMRI/processed/</span><span style=\"color: #ff00ff; text-decoration-color: #ff00ff\">norm-global_parcel-columnar_n-256</span>*<span style=\"color: #008080; text-decoration-color: #008080; font-weight: bold\">0</span>/parcellation\n",
       "</pre>\n"
      ],
      "text/plain": [
       "\u001b[1m[\u001b[0mPROGRESS\u001b[1m]\u001b[0m \u001b[32m'shape_parcel3d_100um.npy'\u001b[0m saved at\n",
       "\u001b[35m/home/hadi/Documents/Ca-fMRI/processed/\u001b[0m\u001b[95mnorm-global_parcel-columnar_n-256\u001b[0m*\u001b[1;36m0\u001b[0m/parcellation\n"
      ]
     },
     "metadata": {},
     "output_type": "display_data"
    },
    {
     "data": {
      "text/html": [
       "<pre style=\"white-space:pre;overflow-x:auto;line-height:normal;font-family:Menlo,'DejaVu Sans Mono',consolas,'Courier New',monospace\"><span style=\"font-weight: bold\">[</span>PROGRESS<span style=\"font-weight: bold\">]</span> save results: done.\n",
       "</pre>\n"
      ],
      "text/plain": [
       "\u001b[1m[\u001b[0mPROGRESS\u001b[1m]\u001b[0m save results: done.\n"
      ]
     },
     "metadata": {},
     "output_type": "display_data"
    }
   ],
   "source": [
    "# mice.parcel.fit_parcel(True)"
   ]
  },
  {
   "cell_type": "code",
   "execution_count": null,
   "id": "d38768a5",
   "metadata": {},
   "outputs": [],
   "source": []
  },
  {
   "cell_type": "code",
   "execution_count": 3,
   "id": "65b5926c",
   "metadata": {},
   "outputs": [],
   "source": [
    "from register.register import *\n",
    "reg = Register(mice)"
   ]
  },
  {
   "cell_type": "code",
   "execution_count": null,
   "id": "8d71ab62",
   "metadata": {},
   "outputs": [],
   "source": []
  },
  {
   "cell_type": "code",
   "execution_count": 32,
   "id": "8480970b",
   "metadata": {},
   "outputs": [
    {
     "data": {
      "text/html": [
       "<pre style=\"white-space:pre;overflow-x:auto;line-height:normal;font-family:Menlo,'DejaVu Sans Mono',consolas,'Courier New',monospace\">\n",
       "<span style=\"font-weight: bold\">{</span>\n",
       "    <span style=\"color: #008000; text-decoration-color: #008000\">'types'</span>: <span style=\"font-weight: bold\">[</span><span style=\"color: #008000; text-decoration-color: #008000\">'SyN'</span>, <span style=\"color: #008000; text-decoration-color: #008000\">'ElasticSyN'</span><span style=\"font-weight: bold\">]</span>,\n",
       "    <span style=\"color: #008000; text-decoration-color: #008000\">'grads'</span>: <span style=\"font-weight: bold\">[</span>\n",
       "        <span style=\"color: #008080; text-decoration-color: #008080; font-weight: bold\">0.15</span>,\n",
       "        <span style=\"color: #008080; text-decoration-color: #008080; font-weight: bold\">0.2</span>,\n",
       "        <span style=\"color: #008080; text-decoration-color: #008080; font-weight: bold\">0.25</span>,\n",
       "        <span style=\"color: #008080; text-decoration-color: #008080; font-weight: bold\">0.28</span>,\n",
       "        <span style=\"color: #008080; text-decoration-color: #008080; font-weight: bold\">0.3</span>,\n",
       "        <span style=\"color: #008080; text-decoration-color: #008080; font-weight: bold\">0.31</span>,\n",
       "        <span style=\"color: #008080; text-decoration-color: #008080; font-weight: bold\">0.32</span>,\n",
       "        <span style=\"color: #008080; text-decoration-color: #008080; font-weight: bold\">0.34</span>,\n",
       "        <span style=\"color: #008080; text-decoration-color: #008080; font-weight: bold\">0.35</span>,\n",
       "        <span style=\"color: #008080; text-decoration-color: #008080; font-weight: bold\">0.37</span>,\n",
       "        <span style=\"color: #008080; text-decoration-color: #008080; font-weight: bold\">0.38</span>,\n",
       "        <span style=\"color: #008080; text-decoration-color: #008080; font-weight: bold\">0.39</span>,\n",
       "        <span style=\"color: #008080; text-decoration-color: #008080; font-weight: bold\">0.4</span>,\n",
       "        <span style=\"color: #008080; text-decoration-color: #008080; font-weight: bold\">0.5</span>,\n",
       "        <span style=\"color: #008080; text-decoration-color: #008080; font-weight: bold\">0.9</span>\n",
       "    <span style=\"font-weight: bold\">]</span>,\n",
       "    <span style=\"color: #008000; text-decoration-color: #008000\">'syn_bins'</span>: <span style=\"font-weight: bold\">[</span><span style=\"color: #008080; text-decoration-color: #008080; font-weight: bold\">64</span>, <span style=\"color: #008080; text-decoration-color: #008080; font-weight: bold\">32</span>, <span style=\"color: #008080; text-decoration-color: #008080; font-weight: bold\">16</span><span style=\"font-weight: bold\">]</span>,\n",
       "    <span style=\"color: #008000; text-decoration-color: #008000\">'aff_bins'</span>: <span style=\"font-weight: bold\">[</span><span style=\"color: #008080; text-decoration-color: #008080; font-weight: bold\">13</span>, <span style=\"color: #008080; text-decoration-color: #008080; font-weight: bold\">20</span>, <span style=\"color: #008080; text-decoration-color: #008080; font-weight: bold\">32</span><span style=\"font-weight: bold\">]</span>,\n",
       "    <span style=\"color: #008000; text-decoration-color: #008000\">'aff_rates'</span>: <span style=\"font-weight: bold\">[</span><span style=\"color: #008080; text-decoration-color: #008080; font-weight: bold\">0.2</span>, <span style=\"color: #008080; text-decoration-color: #008080; font-weight: bold\">0.6</span>, <span style=\"color: #008080; text-decoration-color: #008080; font-weight: bold\">0.8</span><span style=\"font-weight: bold\">]</span>,\n",
       "    <span style=\"color: #008000; text-decoration-color: #008000\">'aff_metric'</span>: <span style=\"color: #008000; text-decoration-color: #008000\">'mattes'</span>,\n",
       "    <span style=\"color: #008000; text-decoration-color: #008000\">'syn_metric'</span>: <span style=\"color: #008000; text-decoration-color: #008000\">'mattes'</span>,\n",
       "    <span style=\"color: #008000; text-decoration-color: #008000\">'mi_q'</span>: <span style=\"color: #008080; text-decoration-color: #008080; font-weight: bold\">0.5</span>,\n",
       "    <span style=\"color: #008000; text-decoration-color: #008000\">'n_seeds'</span>: <span style=\"color: #008080; text-decoration-color: #008080; font-weight: bold\">10</span>\n",
       "<span style=\"font-weight: bold\">}</span>\n",
       "</pre>\n"
      ],
      "text/plain": [
       "\n",
       "\u001b[1m{\u001b[0m\n",
       "    \u001b[32m'types'\u001b[0m: \u001b[1m[\u001b[0m\u001b[32m'SyN'\u001b[0m, \u001b[32m'ElasticSyN'\u001b[0m\u001b[1m]\u001b[0m,\n",
       "    \u001b[32m'grads'\u001b[0m: \u001b[1m[\u001b[0m\n",
       "        \u001b[1;36m0.15\u001b[0m,\n",
       "        \u001b[1;36m0.2\u001b[0m,\n",
       "        \u001b[1;36m0.25\u001b[0m,\n",
       "        \u001b[1;36m0.28\u001b[0m,\n",
       "        \u001b[1;36m0.3\u001b[0m,\n",
       "        \u001b[1;36m0.31\u001b[0m,\n",
       "        \u001b[1;36m0.32\u001b[0m,\n",
       "        \u001b[1;36m0.34\u001b[0m,\n",
       "        \u001b[1;36m0.35\u001b[0m,\n",
       "        \u001b[1;36m0.37\u001b[0m,\n",
       "        \u001b[1;36m0.38\u001b[0m,\n",
       "        \u001b[1;36m0.39\u001b[0m,\n",
       "        \u001b[1;36m0.4\u001b[0m,\n",
       "        \u001b[1;36m0.5\u001b[0m,\n",
       "        \u001b[1;36m0.9\u001b[0m\n",
       "    \u001b[1m]\u001b[0m,\n",
       "    \u001b[32m'syn_bins'\u001b[0m: \u001b[1m[\u001b[0m\u001b[1;36m64\u001b[0m, \u001b[1;36m32\u001b[0m, \u001b[1;36m16\u001b[0m\u001b[1m]\u001b[0m,\n",
       "    \u001b[32m'aff_bins'\u001b[0m: \u001b[1m[\u001b[0m\u001b[1;36m13\u001b[0m, \u001b[1;36m20\u001b[0m, \u001b[1;36m32\u001b[0m\u001b[1m]\u001b[0m,\n",
       "    \u001b[32m'aff_rates'\u001b[0m: \u001b[1m[\u001b[0m\u001b[1;36m0.2\u001b[0m, \u001b[1;36m0.6\u001b[0m, \u001b[1;36m0.8\u001b[0m\u001b[1m]\u001b[0m,\n",
       "    \u001b[32m'aff_metric'\u001b[0m: \u001b[32m'mattes'\u001b[0m,\n",
       "    \u001b[32m'syn_metric'\u001b[0m: \u001b[32m'mattes'\u001b[0m,\n",
       "    \u001b[32m'mi_q'\u001b[0m: \u001b[1;36m0.5\u001b[0m,\n",
       "    \u001b[32m'n_seeds'\u001b[0m: \u001b[1;36m10\u001b[0m\n",
       "\u001b[1m}\u001b[0m\n"
      ]
     },
     "metadata": {},
     "output_type": "display_data"
    }
   ],
   "source": [
    "kwargs = {\n",
    "    'types': ['SyN', 'ElasticSyN'],\n",
    "    'grads': [0.15, 0.20, 0.25, 0.28, 0.3, 0.31, 0.32, 0.34, 0.35, 0.37, 0.38, 0.39, 0.40, 0.5, 0.9],\n",
    "    'syn_bins': [64, 32, 16],\n",
    "    'aff_bins': [13, 20, 32],\n",
    "    'aff_rates': [0.2, 0.6, 0.8],\n",
    "    'aff_metric': 'mattes',\n",
    "    'syn_metric': 'mattes',\n",
    "    'mi_q': 0.5,\n",
    "    'n_seeds': 10,\n",
    "}\n",
    "kwargs"
   ]
  },
  {
   "cell_type": "code",
   "execution_count": null,
   "id": "41024f1d",
   "metadata": {},
   "outputs": [],
   "source": []
  },
  {
   "cell_type": "code",
   "execution_count": 69,
   "id": "b60982f1",
   "metadata": {},
   "outputs": [],
   "source": [
    "reg.set_mode('bold')\n",
    "reg.mi_base = None"
   ]
  },
  {
   "cell_type": "code",
   "execution_count": 70,
   "id": "5bfc7c82",
   "metadata": {},
   "outputs": [],
   "source": [
    "key = 'sub-SLC09_ses-2'\n",
    "indiv = mice.T1w[key].load_ants()\n",
    "indiv *= mice.mask3d[key].load_ants()\n",
    "indiv = reg._prepare(indiv)"
   ]
  },
  {
   "cell_type": "code",
   "execution_count": null,
   "id": "64b5fc85",
   "metadata": {},
   "outputs": [
    {
     "data": {
      "image/png": "[encoded data removed]"
     },
     "metadata": {},
     "output_type": "display_data"
    }
   ],
   "source": [
    "results = reg.fit_register(\n",
    "    name=key,\n",
    "    moving=indiv,\n",
    "    fixed=reg.nissl,\n",
    "    save_results=True,\n",
    "    **kwargs\n",
    ")"
   ]
  },
  {
   "cell_type": "code",
   "execution_count": null,
   "id": "0df7107a",
   "metadata": {},
   "outputs": [],
   "source": []
  },
  {
   "cell_type": "code",
   "execution_count": null,
   "id": "48b0531d",
   "metadata": {},
   "outputs": [],
   "source": [
    "save_obj(results['df'], f\"fit_{key}_{now()}\", tmp_dir, 'df')"
   ]
  },
  {
   "cell_type": "markdown",
   "id": "01296922",
   "metadata": {},
   "source": [
    "### --- continue from here"
   ]
  },
  {
   "cell_type": "code",
   "execution_count": null,
   "id": "e555e770",
   "metadata": {},
   "outputs": [],
   "source": []
  },
  {
   "cell_type": "code",
   "execution_count": 61,
   "id": "9fca1070",
   "metadata": {},
   "outputs": [
    {
     "data": {
      "text/html": [
       "<div>\n",
       "<style scoped>\n",
       "    .dataframe tbody tr th:only-of-type {\n",
       "        vertical-align: middle;\n",
       "    }\n",
       "\n",
       "    .dataframe tbody tr th {\n",
       "        vertical-align: top;\n",
       "    }\n",
       "\n",
       "    .dataframe thead th {\n",
       "        text-align: right;\n",
       "    }\n",
       "</style>\n",
       "<table border=\"1\" class=\"dataframe\">\n",
       "  <thead>\n",
       "    <tr style=\"text-align: right;\">\n",
       "      <th></th>\n",
       "      <th>seed</th>\n",
       "      <th>type</th>\n",
       "      <th>grad</th>\n",
       "      <th>syn_bin</th>\n",
       "      <th>aff_bin</th>\n",
       "      <th>aff_rate</th>\n",
       "      <th>metric</th>\n",
       "      <th>score</th>\n",
       "    </tr>\n",
       "  </thead>\n",
       "  <tbody>\n",
       "    <tr>\n",
       "      <th>209979</th>\n",
       "      <td>9</td>\n",
       "      <td>ElasticSyN</td>\n",
       "      <td>0.28</td>\n",
       "      <td>64</td>\n",
       "      <td>13</td>\n",
       "      <td>0.6</td>\n",
       "      <td>mi</td>\n",
       "      <td>0.515712</td>\n",
       "    </tr>\n",
       "    <tr>\n",
       "      <th>209980</th>\n",
       "      <td>9</td>\n",
       "      <td>ElasticSyN</td>\n",
       "      <td>0.28</td>\n",
       "      <td>64</td>\n",
       "      <td>13</td>\n",
       "      <td>0.6</td>\n",
       "      <td>ovp_MOp</td>\n",
       "      <td>0.990663</td>\n",
       "    </tr>\n",
       "    <tr>\n",
       "      <th>209981</th>\n",
       "      <td>9</td>\n",
       "      <td>ElasticSyN</td>\n",
       "      <td>0.28</td>\n",
       "      <td>64</td>\n",
       "      <td>13</td>\n",
       "      <td>0.6</td>\n",
       "      <td>sym_MOp</td>\n",
       "      <td>0.972376</td>\n",
       "    </tr>\n",
       "    <tr>\n",
       "      <th>209982</th>\n",
       "      <td>9</td>\n",
       "      <td>ElasticSyN</td>\n",
       "      <td>0.28</td>\n",
       "      <td>64</td>\n",
       "      <td>13</td>\n",
       "      <td>0.6</td>\n",
       "      <td>ovp_MOs</td>\n",
       "      <td>0.985205</td>\n",
       "    </tr>\n",
       "    <tr>\n",
       "      <th>209983</th>\n",
       "      <td>9</td>\n",
       "      <td>ElasticSyN</td>\n",
       "      <td>0.28</td>\n",
       "      <td>64</td>\n",
       "      <td>13</td>\n",
       "      <td>0.6</td>\n",
       "      <td>sym_MOs</td>\n",
       "      <td>0.991334</td>\n",
       "    </tr>\n",
       "    <tr>\n",
       "      <th>209984</th>\n",
       "      <td>9</td>\n",
       "      <td>ElasticSyN</td>\n",
       "      <td>0.28</td>\n",
       "      <td>64</td>\n",
       "      <td>13</td>\n",
       "      <td>0.6</td>\n",
       "      <td>ovp_SS</td>\n",
       "      <td>0.997000</td>\n",
       "    </tr>\n",
       "    <tr>\n",
       "      <th>209985</th>\n",
       "      <td>9</td>\n",
       "      <td>ElasticSyN</td>\n",
       "      <td>0.28</td>\n",
       "      <td>64</td>\n",
       "      <td>13</td>\n",
       "      <td>0.6</td>\n",
       "      <td>sym_SS</td>\n",
       "      <td>0.988663</td>\n",
       "    </tr>\n",
       "    <tr>\n",
       "      <th>209986</th>\n",
       "      <td>9</td>\n",
       "      <td>ElasticSyN</td>\n",
       "      <td>0.28</td>\n",
       "      <td>64</td>\n",
       "      <td>13</td>\n",
       "      <td>0.6</td>\n",
       "      <td>ovp_VISC</td>\n",
       "      <td>0.995708</td>\n",
       "    </tr>\n",
       "    <tr>\n",
       "      <th>209987</th>\n",
       "      <td>9</td>\n",
       "      <td>ElasticSyN</td>\n",
       "      <td>0.28</td>\n",
       "      <td>64</td>\n",
       "      <td>13</td>\n",
       "      <td>0.6</td>\n",
       "      <td>sym_VISC</td>\n",
       "      <td>0.925620</td>\n",
       "    </tr>\n",
       "    <tr>\n",
       "      <th>209988</th>\n",
       "      <td>9</td>\n",
       "      <td>ElasticSyN</td>\n",
       "      <td>0.28</td>\n",
       "      <td>64</td>\n",
       "      <td>13</td>\n",
       "      <td>0.6</td>\n",
       "      <td>ovp_VIS</td>\n",
       "      <td>0.999121</td>\n",
       "    </tr>\n",
       "    <tr>\n",
       "      <th>209989</th>\n",
       "      <td>9</td>\n",
       "      <td>ElasticSyN</td>\n",
       "      <td>0.28</td>\n",
       "      <td>64</td>\n",
       "      <td>13</td>\n",
       "      <td>0.6</td>\n",
       "      <td>sym_VIS</td>\n",
       "      <td>0.986038</td>\n",
       "    </tr>\n",
       "    <tr>\n",
       "      <th>209990</th>\n",
       "      <td>9</td>\n",
       "      <td>ElasticSyN</td>\n",
       "      <td>0.28</td>\n",
       "      <td>64</td>\n",
       "      <td>13</td>\n",
       "      <td>0.6</td>\n",
       "      <td>ovp_AI</td>\n",
       "      <td>0.931034</td>\n",
       "    </tr>\n",
       "    <tr>\n",
       "      <th>209991</th>\n",
       "      <td>9</td>\n",
       "      <td>ElasticSyN</td>\n",
       "      <td>0.28</td>\n",
       "      <td>64</td>\n",
       "      <td>13</td>\n",
       "      <td>0.6</td>\n",
       "      <td>sym_AI</td>\n",
       "      <td>0.986301</td>\n",
       "    </tr>\n",
       "    <tr>\n",
       "      <th>209992</th>\n",
       "      <td>9</td>\n",
       "      <td>ElasticSyN</td>\n",
       "      <td>0.28</td>\n",
       "      <td>64</td>\n",
       "      <td>13</td>\n",
       "      <td>0.6</td>\n",
       "      <td>ovp_PTLp</td>\n",
       "      <td>1.000000</td>\n",
       "    </tr>\n",
       "    <tr>\n",
       "      <th>209993</th>\n",
       "      <td>9</td>\n",
       "      <td>ElasticSyN</td>\n",
       "      <td>0.28</td>\n",
       "      <td>64</td>\n",
       "      <td>13</td>\n",
       "      <td>0.6</td>\n",
       "      <td>sym_PTLp</td>\n",
       "      <td>0.972727</td>\n",
       "    </tr>\n",
       "    <tr>\n",
       "      <th>209994</th>\n",
       "      <td>9</td>\n",
       "      <td>ElasticSyN</td>\n",
       "      <td>0.28</td>\n",
       "      <td>64</td>\n",
       "      <td>13</td>\n",
       "      <td>0.6</td>\n",
       "      <td>ovp_TEa</td>\n",
       "      <td>1.000000</td>\n",
       "    </tr>\n",
       "    <tr>\n",
       "      <th>209995</th>\n",
       "      <td>9</td>\n",
       "      <td>ElasticSyN</td>\n",
       "      <td>0.28</td>\n",
       "      <td>64</td>\n",
       "      <td>13</td>\n",
       "      <td>0.6</td>\n",
       "      <td>sym_TEa</td>\n",
       "      <td>0.915493</td>\n",
       "    </tr>\n",
       "    <tr>\n",
       "      <th>209996</th>\n",
       "      <td>9</td>\n",
       "      <td>ElasticSyN</td>\n",
       "      <td>0.28</td>\n",
       "      <td>64</td>\n",
       "      <td>13</td>\n",
       "      <td>0.6</td>\n",
       "      <td>ovp_CA1</td>\n",
       "      <td>1.000000</td>\n",
       "    </tr>\n",
       "    <tr>\n",
       "      <th>209997</th>\n",
       "      <td>9</td>\n",
       "      <td>ElasticSyN</td>\n",
       "      <td>0.28</td>\n",
       "      <td>64</td>\n",
       "      <td>13</td>\n",
       "      <td>0.6</td>\n",
       "      <td>sym_CA1</td>\n",
       "      <td>0.893665</td>\n",
       "    </tr>\n",
       "    <tr>\n",
       "      <th>209998</th>\n",
       "      <td>9</td>\n",
       "      <td>ElasticSyN</td>\n",
       "      <td>0.28</td>\n",
       "      <td>64</td>\n",
       "      <td>13</td>\n",
       "      <td>0.6</td>\n",
       "      <td>ovp_CLA</td>\n",
       "      <td>1.000000</td>\n",
       "    </tr>\n",
       "    <tr>\n",
       "      <th>209999</th>\n",
       "      <td>9</td>\n",
       "      <td>ElasticSyN</td>\n",
       "      <td>0.28</td>\n",
       "      <td>64</td>\n",
       "      <td>13</td>\n",
       "      <td>0.6</td>\n",
       "      <td>sym_CLA</td>\n",
       "      <td>0.964286</td>\n",
       "    </tr>\n",
       "    <tr>\n",
       "      <th>210000</th>\n",
       "      <td>9</td>\n",
       "      <td>ElasticSyN</td>\n",
       "      <td>0.28</td>\n",
       "      <td>64</td>\n",
       "      <td>13</td>\n",
       "      <td>0.6</td>\n",
       "      <td>ovp_STRd</td>\n",
       "      <td>1.000000</td>\n",
       "    </tr>\n",
       "    <tr>\n",
       "      <th>210001</th>\n",
       "      <td>9</td>\n",
       "      <td>ElasticSyN</td>\n",
       "      <td>0.28</td>\n",
       "      <td>64</td>\n",
       "      <td>13</td>\n",
       "      <td>0.6</td>\n",
       "      <td>sym_STRd</td>\n",
       "      <td>0.997856</td>\n",
       "    </tr>\n",
       "    <tr>\n",
       "      <th>210002</th>\n",
       "      <td>9</td>\n",
       "      <td>ElasticSyN</td>\n",
       "      <td>0.28</td>\n",
       "      <td>64</td>\n",
       "      <td>13</td>\n",
       "      <td>0.6</td>\n",
       "      <td>ovp_iso</td>\n",
       "      <td>0.989255</td>\n",
       "    </tr>\n",
       "    <tr>\n",
       "      <th>210003</th>\n",
       "      <td>9</td>\n",
       "      <td>ElasticSyN</td>\n",
       "      <td>0.28</td>\n",
       "      <td>64</td>\n",
       "      <td>13</td>\n",
       "      <td>0.6</td>\n",
       "      <td>sym_iso</td>\n",
       "      <td>0.981494</td>\n",
       "    </tr>\n",
       "    <tr>\n",
       "      <th>210004</th>\n",
       "      <td>9</td>\n",
       "      <td>ElasticSyN</td>\n",
       "      <td>0.28</td>\n",
       "      <td>64</td>\n",
       "      <td>13</td>\n",
       "      <td>0.6</td>\n",
       "      <td>sym</td>\n",
       "      <td>0.977608</td>\n",
       "    </tr>\n",
       "    <tr>\n",
       "      <th>210005</th>\n",
       "      <td>9</td>\n",
       "      <td>ElasticSyN</td>\n",
       "      <td>0.28</td>\n",
       "      <td>64</td>\n",
       "      <td>13</td>\n",
       "      <td>0.6</td>\n",
       "      <td>ovp</td>\n",
       "      <td>0.992205</td>\n",
       "    </tr>\n",
       "  </tbody>\n",
       "</table>\n",
       "</div>"
      ]
     },
     "execution_count": 61,
     "metadata": {},
     "output_type": "execute_result"
    }
   ],
   "source": [
    "df = results['df'].copy()\n",
    "\n",
    "params = {\n",
    "    'seed': 9,\n",
    "    'type': 'ElasticSyN', # 'SyN', #\n",
    "    'grad': 0.28,\n",
    "    'syn_bin': 64,\n",
    "    'aff_bin': 13,\n",
    "    'aff_rate': 0.6,\n",
    "}\n",
    "cond = functools.reduce(\n",
    "    lambda x, y: x & y,\n",
    "    [df[k] == v for k, v in params.items()],\n",
    ")\n",
    "\n",
    "df_sub_main = df.loc[cond]\n",
    "df_sub_main"
   ]
  },
  {
   "cell_type": "code",
   "execution_count": 62,
   "id": "758d17d0",
   "metadata": {},
   "outputs": [
    {
     "data": {
      "text/html": [
       "<pre style=\"white-space:pre;overflow-x:auto;line-height:normal;font-family:Menlo,'DejaVu Sans Mono',consolas,'Courier New',monospace\"><span style=\"color: #008080; text-decoration-color: #008080; font-weight: bold\">0.9776080373610695</span>\n",
       "</pre>\n"
      ],
      "text/plain": [
       "\u001b[1;36m0.9776080373610695\u001b[0m\n"
      ]
     },
     "metadata": {},
     "output_type": "display_data"
    }
   ],
   "source": [
    "results['perf']"
   ]
  },
  {
   "cell_type": "code",
   "execution_count": null,
   "id": "b0a9e95d",
   "metadata": {},
   "outputs": [],
   "source": []
  },
  {
   "cell_type": "code",
   "execution_count": 63,
   "id": "353d95d8",
   "metadata": {},
   "outputs": [
    {
     "data": {
      "text/html": [
       "<div>\n",
       "<style scoped>\n",
       "    .dataframe tbody tr th:only-of-type {\n",
       "        vertical-align: middle;\n",
       "    }\n",
       "\n",
       "    .dataframe tbody tr th {\n",
       "        vertical-align: top;\n",
       "    }\n",
       "\n",
       "    .dataframe thead th {\n",
       "        text-align: right;\n",
       "    }\n",
       "</style>\n",
       "<table border=\"1\" class=\"dataframe\">\n",
       "  <thead>\n",
       "    <tr style=\"text-align: right;\">\n",
       "      <th></th>\n",
       "      <th>seed</th>\n",
       "      <th>type</th>\n",
       "      <th>grad</th>\n",
       "      <th>syn_bin</th>\n",
       "      <th>aff_bin</th>\n",
       "      <th>aff_rate</th>\n",
       "      <th>metric</th>\n",
       "      <th>score</th>\n",
       "    </tr>\n",
       "  </thead>\n",
       "  <tbody>\n",
       "    <tr>\n",
       "      <th>164104</th>\n",
       "      <td>7</td>\n",
       "      <td>ElasticSyN</td>\n",
       "      <td>0.15</td>\n",
       "      <td>64</td>\n",
       "      <td>13</td>\n",
       "      <td>0.8</td>\n",
       "      <td>sym</td>\n",
       "      <td>0.980453</td>\n",
       "    </tr>\n",
       "  </tbody>\n",
       "</table>\n",
       "</div>"
      ]
     },
     "execution_count": 63,
     "metadata": {},
     "output_type": "execute_result"
    }
   ],
   "source": [
    "_df = df.loc[df['metric'] == 'sym']\n",
    "_df.iloc[[_df['score'].argmax()]]"
   ]
  },
  {
   "cell_type": "code",
   "execution_count": null,
   "id": "e1527183",
   "metadata": {},
   "outputs": [],
   "source": []
  },
  {
   "cell_type": "code",
   "execution_count": 64,
   "id": "b998c88b",
   "metadata": {},
   "outputs": [
    {
     "data": {
      "text/html": [
       "<div>\n",
       "<style scoped>\n",
       "    .dataframe tbody tr th:only-of-type {\n",
       "        vertical-align: middle;\n",
       "    }\n",
       "\n",
       "    .dataframe tbody tr th {\n",
       "        vertical-align: top;\n",
       "    }\n",
       "\n",
       "    .dataframe thead th {\n",
       "        text-align: right;\n",
       "    }\n",
       "</style>\n",
       "<table border=\"1\" class=\"dataframe\">\n",
       "  <thead>\n",
       "    <tr style=\"text-align: right;\">\n",
       "      <th></th>\n",
       "      <th>seed</th>\n",
       "      <th>type</th>\n",
       "      <th>grad</th>\n",
       "      <th>syn_bin</th>\n",
       "      <th>aff_bin</th>\n",
       "      <th>aff_rate</th>\n",
       "      <th>metric</th>\n",
       "      <th>score</th>\n",
       "    </tr>\n",
       "  </thead>\n",
       "  <tbody>\n",
       "    <tr>\n",
       "      <th>164079</th>\n",
       "      <td>7</td>\n",
       "      <td>ElasticSyN</td>\n",
       "      <td>0.15</td>\n",
       "      <td>64</td>\n",
       "      <td>13</td>\n",
       "      <td>0.8</td>\n",
       "      <td>mi</td>\n",
       "      <td>0.507998</td>\n",
       "    </tr>\n",
       "    <tr>\n",
       "      <th>164080</th>\n",
       "      <td>7</td>\n",
       "      <td>ElasticSyN</td>\n",
       "      <td>0.15</td>\n",
       "      <td>64</td>\n",
       "      <td>13</td>\n",
       "      <td>0.8</td>\n",
       "      <td>ovp_MOp</td>\n",
       "      <td>0.987109</td>\n",
       "    </tr>\n",
       "    <tr>\n",
       "      <th>164081</th>\n",
       "      <td>7</td>\n",
       "      <td>ElasticSyN</td>\n",
       "      <td>0.15</td>\n",
       "      <td>64</td>\n",
       "      <td>13</td>\n",
       "      <td>0.8</td>\n",
       "      <td>sym_MOp</td>\n",
       "      <td>0.956757</td>\n",
       "    </tr>\n",
       "    <tr>\n",
       "      <th>164082</th>\n",
       "      <td>7</td>\n",
       "      <td>ElasticSyN</td>\n",
       "      <td>0.15</td>\n",
       "      <td>64</td>\n",
       "      <td>13</td>\n",
       "      <td>0.8</td>\n",
       "      <td>ovp_MOs</td>\n",
       "      <td>0.986383</td>\n",
       "    </tr>\n",
       "    <tr>\n",
       "      <th>164083</th>\n",
       "      <td>7</td>\n",
       "      <td>ElasticSyN</td>\n",
       "      <td>0.15</td>\n",
       "      <td>64</td>\n",
       "      <td>13</td>\n",
       "      <td>0.8</td>\n",
       "      <td>sym_MOs</td>\n",
       "      <td>0.988156</td>\n",
       "    </tr>\n",
       "    <tr>\n",
       "      <th>164084</th>\n",
       "      <td>7</td>\n",
       "      <td>ElasticSyN</td>\n",
       "      <td>0.15</td>\n",
       "      <td>64</td>\n",
       "      <td>13</td>\n",
       "      <td>0.8</td>\n",
       "      <td>ovp_SS</td>\n",
       "      <td>0.996171</td>\n",
       "    </tr>\n",
       "    <tr>\n",
       "      <th>164085</th>\n",
       "      <td>7</td>\n",
       "      <td>ElasticSyN</td>\n",
       "      <td>0.15</td>\n",
       "      <td>64</td>\n",
       "      <td>13</td>\n",
       "      <td>0.8</td>\n",
       "      <td>sym_SS</td>\n",
       "      <td>0.998234</td>\n",
       "    </tr>\n",
       "    <tr>\n",
       "      <th>164086</th>\n",
       "      <td>7</td>\n",
       "      <td>ElasticSyN</td>\n",
       "      <td>0.15</td>\n",
       "      <td>64</td>\n",
       "      <td>13</td>\n",
       "      <td>0.8</td>\n",
       "      <td>ovp_VISC</td>\n",
       "      <td>0.995798</td>\n",
       "    </tr>\n",
       "    <tr>\n",
       "      <th>164087</th>\n",
       "      <td>7</td>\n",
       "      <td>ElasticSyN</td>\n",
       "      <td>0.15</td>\n",
       "      <td>64</td>\n",
       "      <td>13</td>\n",
       "      <td>0.8</td>\n",
       "      <td>sym_VISC</td>\n",
       "      <td>0.904000</td>\n",
       "    </tr>\n",
       "    <tr>\n",
       "      <th>164088</th>\n",
       "      <td>7</td>\n",
       "      <td>ElasticSyN</td>\n",
       "      <td>0.15</td>\n",
       "      <td>64</td>\n",
       "      <td>13</td>\n",
       "      <td>0.8</td>\n",
       "      <td>ovp_VIS</td>\n",
       "      <td>0.996613</td>\n",
       "    </tr>\n",
       "    <tr>\n",
       "      <th>164089</th>\n",
       "      <td>7</td>\n",
       "      <td>ElasticSyN</td>\n",
       "      <td>0.15</td>\n",
       "      <td>64</td>\n",
       "      <td>13</td>\n",
       "      <td>0.8</td>\n",
       "      <td>sym_VIS</td>\n",
       "      <td>0.991568</td>\n",
       "    </tr>\n",
       "    <tr>\n",
       "      <th>164090</th>\n",
       "      <td>7</td>\n",
       "      <td>ElasticSyN</td>\n",
       "      <td>0.15</td>\n",
       "      <td>64</td>\n",
       "      <td>13</td>\n",
       "      <td>0.8</td>\n",
       "      <td>ovp_AI</td>\n",
       "      <td>0.930137</td>\n",
       "    </tr>\n",
       "    <tr>\n",
       "      <th>164091</th>\n",
       "      <td>7</td>\n",
       "      <td>ElasticSyN</td>\n",
       "      <td>0.15</td>\n",
       "      <td>64</td>\n",
       "      <td>13</td>\n",
       "      <td>0.8</td>\n",
       "      <td>sym_AI</td>\n",
       "      <td>1.000000</td>\n",
       "    </tr>\n",
       "    <tr>\n",
       "      <th>164092</th>\n",
       "      <td>7</td>\n",
       "      <td>ElasticSyN</td>\n",
       "      <td>0.15</td>\n",
       "      <td>64</td>\n",
       "      <td>13</td>\n",
       "      <td>0.8</td>\n",
       "      <td>ovp_PTLp</td>\n",
       "      <td>1.000000</td>\n",
       "    </tr>\n",
       "    <tr>\n",
       "      <th>164093</th>\n",
       "      <td>7</td>\n",
       "      <td>ElasticSyN</td>\n",
       "      <td>0.15</td>\n",
       "      <td>64</td>\n",
       "      <td>13</td>\n",
       "      <td>0.8</td>\n",
       "      <td>sym_PTLp</td>\n",
       "      <td>0.973684</td>\n",
       "    </tr>\n",
       "    <tr>\n",
       "      <th>164094</th>\n",
       "      <td>7</td>\n",
       "      <td>ElasticSyN</td>\n",
       "      <td>0.15</td>\n",
       "      <td>64</td>\n",
       "      <td>13</td>\n",
       "      <td>0.8</td>\n",
       "      <td>ovp_TEa</td>\n",
       "      <td>1.000000</td>\n",
       "    </tr>\n",
       "    <tr>\n",
       "      <th>164095</th>\n",
       "      <td>7</td>\n",
       "      <td>ElasticSyN</td>\n",
       "      <td>0.15</td>\n",
       "      <td>64</td>\n",
       "      <td>13</td>\n",
       "      <td>0.8</td>\n",
       "      <td>sym_TEa</td>\n",
       "      <td>0.855263</td>\n",
       "    </tr>\n",
       "    <tr>\n",
       "      <th>164096</th>\n",
       "      <td>7</td>\n",
       "      <td>ElasticSyN</td>\n",
       "      <td>0.15</td>\n",
       "      <td>64</td>\n",
       "      <td>13</td>\n",
       "      <td>0.8</td>\n",
       "      <td>ovp_CA1</td>\n",
       "      <td>1.000000</td>\n",
       "    </tr>\n",
       "    <tr>\n",
       "      <th>164097</th>\n",
       "      <td>7</td>\n",
       "      <td>ElasticSyN</td>\n",
       "      <td>0.15</td>\n",
       "      <td>64</td>\n",
       "      <td>13</td>\n",
       "      <td>0.8</td>\n",
       "      <td>sym_CA1</td>\n",
       "      <td>0.936681</td>\n",
       "    </tr>\n",
       "    <tr>\n",
       "      <th>164098</th>\n",
       "      <td>7</td>\n",
       "      <td>ElasticSyN</td>\n",
       "      <td>0.15</td>\n",
       "      <td>64</td>\n",
       "      <td>13</td>\n",
       "      <td>0.8</td>\n",
       "      <td>ovp_CLA</td>\n",
       "      <td>1.000000</td>\n",
       "    </tr>\n",
       "    <tr>\n",
       "      <th>164099</th>\n",
       "      <td>7</td>\n",
       "      <td>ElasticSyN</td>\n",
       "      <td>0.15</td>\n",
       "      <td>64</td>\n",
       "      <td>13</td>\n",
       "      <td>0.8</td>\n",
       "      <td>sym_CLA</td>\n",
       "      <td>0.916667</td>\n",
       "    </tr>\n",
       "    <tr>\n",
       "      <th>164100</th>\n",
       "      <td>7</td>\n",
       "      <td>ElasticSyN</td>\n",
       "      <td>0.15</td>\n",
       "      <td>64</td>\n",
       "      <td>13</td>\n",
       "      <td>0.8</td>\n",
       "      <td>ovp_STRd</td>\n",
       "      <td>1.000000</td>\n",
       "    </tr>\n",
       "    <tr>\n",
       "      <th>164101</th>\n",
       "      <td>7</td>\n",
       "      <td>ElasticSyN</td>\n",
       "      <td>0.15</td>\n",
       "      <td>64</td>\n",
       "      <td>13</td>\n",
       "      <td>0.8</td>\n",
       "      <td>sym_STRd</td>\n",
       "      <td>0.993640</td>\n",
       "    </tr>\n",
       "    <tr>\n",
       "      <th>164102</th>\n",
       "      <td>7</td>\n",
       "      <td>ElasticSyN</td>\n",
       "      <td>0.15</td>\n",
       "      <td>64</td>\n",
       "      <td>13</td>\n",
       "      <td>0.8</td>\n",
       "      <td>ovp_iso</td>\n",
       "      <td>0.988971</td>\n",
       "    </tr>\n",
       "    <tr>\n",
       "      <th>164103</th>\n",
       "      <td>7</td>\n",
       "      <td>ElasticSyN</td>\n",
       "      <td>0.15</td>\n",
       "      <td>64</td>\n",
       "      <td>13</td>\n",
       "      <td>0.8</td>\n",
       "      <td>sym_iso</td>\n",
       "      <td>0.987175</td>\n",
       "    </tr>\n",
       "    <tr>\n",
       "      <th>164104</th>\n",
       "      <td>7</td>\n",
       "      <td>ElasticSyN</td>\n",
       "      <td>0.15</td>\n",
       "      <td>64</td>\n",
       "      <td>13</td>\n",
       "      <td>0.8</td>\n",
       "      <td>sym</td>\n",
       "      <td>0.980453</td>\n",
       "    </tr>\n",
       "    <tr>\n",
       "      <th>164105</th>\n",
       "      <td>7</td>\n",
       "      <td>ElasticSyN</td>\n",
       "      <td>0.15</td>\n",
       "      <td>64</td>\n",
       "      <td>13</td>\n",
       "      <td>0.8</td>\n",
       "      <td>ovp</td>\n",
       "      <td>0.991453</td>\n",
       "    </tr>\n",
       "  </tbody>\n",
       "</table>\n",
       "</div>"
      ]
     },
     "execution_count": 64,
     "metadata": {},
     "output_type": "execute_result"
    }
   ],
   "source": [
    "params = dict(_df.iloc[_df['score'].argmax()])\n",
    "params.pop('metric')\n",
    "params.pop('score')\n",
    "\n",
    "cond = functools.reduce(\n",
    "    lambda x, y: x & y,\n",
    "    [df[k] == v for k, v in params.items()],\n",
    ")\n",
    "df_sub = df.loc[cond]\n",
    "df_sub"
   ]
  },
  {
   "cell_type": "code",
   "execution_count": null,
   "id": "be817b4d",
   "metadata": {},
   "outputs": [],
   "source": []
  },
  {
   "cell_type": "code",
   "execution_count": 65,
   "id": "995cea8e",
   "metadata": {},
   "outputs": [
    {
     "data": {
      "text/html": [
       "<pre style=\"white-space:pre;overflow-x:auto;line-height:normal;font-family:Menlo,'DejaVu Sans Mono',consolas,'Courier New',monospace\"><span style=\"font-weight: bold\">[&lt;</span><span style=\"color: #ff00ff; text-decoration-color: #ff00ff; font-weight: bold\">matplotlib.lines.Line2D</span><span style=\"color: #000000; text-decoration-color: #000000\"> object at </span><span style=\"color: #008080; text-decoration-color: #008080; font-weight: bold\">0x7f702074d850</span><span style=\"font-weight: bold\">&gt;]</span>\n",
       "</pre>\n"
      ],
      "text/plain": [
       "\u001b[1m[\u001b[0m\u001b[1m<\u001b[0m\u001b[1;95mmatplotlib.lines.Line2D\u001b[0m\u001b[39m object at \u001b[0m\u001b[1;36m0x7f702074d850\u001b[0m\u001b[1m>\u001b[0m\u001b[1m]\u001b[0m\n"
      ]
     },
     "metadata": {},
     "output_type": "display_data"
    },
    {
     "data": {
      "image/png": "[encoded data removed]"
     },
     "metadata": {},
     "output_type": "display_data"
    }
   ],
   "source": [
    "plt.plot(df_sub_main['score'].values)\n",
    "plt.plot(df_sub['score'].values)"
   ]
  },
  {
   "cell_type": "code",
   "execution_count": null,
   "id": "c959d584",
   "metadata": {},
   "outputs": [],
   "source": []
  },
  {
   "cell_type": "code",
   "execution_count": 66,
   "id": "9c7984e1",
   "metadata": {},
   "outputs": [
    {
     "data": {
      "text/html": [
       "<pre style=\"white-space:pre;overflow-x:auto;line-height:normal;font-family:Menlo,'DejaVu Sans Mono',consolas,'Courier New',monospace\"><span style=\"font-weight: bold\">&lt;</span><span style=\"color: #ff00ff; text-decoration-color: #ff00ff; font-weight: bold\">AxesSubplot:</span><span style=\"color: #808000; text-decoration-color: #808000; font-weight: bold\">xlabel</span><span style=\"color: #000000; text-decoration-color: #000000\">=</span><span style=\"color: #008000; text-decoration-color: #008000\">'score'</span><span style=\"color: #000000; text-decoration-color: #000000\">, </span><span style=\"color: #808000; text-decoration-color: #808000\">ylabel</span><span style=\"color: #000000; text-decoration-color: #000000\">=</span><span style=\"color: #008000; text-decoration-color: #008000\">'Count'</span><span style=\"font-weight: bold\">&gt;</span>\n",
       "</pre>\n"
      ],
      "text/plain": [
       "\u001b[1m<\u001b[0m\u001b[1;95mAxesSubplot:\u001b[0m\u001b[1;33mxlabel\u001b[0m\u001b[39m=\u001b[0m\u001b[32m'score'\u001b[0m\u001b[39m, \u001b[0m\u001b[33mylabel\u001b[0m\u001b[39m=\u001b[0m\u001b[32m'Count'\u001b[0m\u001b[1m>\u001b[0m\n"
      ]
     },
     "metadata": {},
     "output_type": "display_data"
    },
    {
     "data": {
      "image/png": "[encoded data removed]"
     },
     "metadata": {},
     "output_type": "display_data"
    }
   ],
   "source": [
    "sns.histplot(df.loc[df['metric'] == 'mi', 'score'])"
   ]
  },
  {
   "cell_type": "code",
   "execution_count": 67,
   "id": "4c8ae3a1",
   "metadata": {},
   "outputs": [
    {
     "data": {
      "text/html": [
       "<pre style=\"white-space:pre;overflow-x:auto;line-height:normal;font-family:Menlo,'DejaVu Sans Mono',consolas,'Courier New',monospace\"><span style=\"font-weight: bold\">&lt;</span><span style=\"color: #ff00ff; text-decoration-color: #ff00ff; font-weight: bold\">AxesSubplot:</span><span style=\"color: #808000; text-decoration-color: #808000; font-weight: bold\">xlabel</span><span style=\"color: #000000; text-decoration-color: #000000\">=</span><span style=\"color: #008000; text-decoration-color: #008000\">'score'</span><span style=\"color: #000000; text-decoration-color: #000000\">, </span><span style=\"color: #808000; text-decoration-color: #808000\">ylabel</span><span style=\"color: #000000; text-decoration-color: #000000\">=</span><span style=\"color: #008000; text-decoration-color: #008000\">'Count'</span><span style=\"font-weight: bold\">&gt;</span>\n",
       "</pre>\n"
      ],
      "text/plain": [
       "\u001b[1m<\u001b[0m\u001b[1;95mAxesSubplot:\u001b[0m\u001b[1;33mxlabel\u001b[0m\u001b[39m=\u001b[0m\u001b[32m'score'\u001b[0m\u001b[39m, \u001b[0m\u001b[33mylabel\u001b[0m\u001b[39m=\u001b[0m\u001b[32m'Count'\u001b[0m\u001b[1m>\u001b[0m\n"
      ]
     },
     "metadata": {},
     "output_type": "display_data"
    },
    {
     "data": {
      "image/png": "[encoded data removed]"
     },
     "metadata": {},
     "output_type": "display_data"
    }
   ],
   "source": [
    "sns.histplot(df.loc[df['metric'] == 'sym', 'score'])"
   ]
  },
  {
   "cell_type": "code",
   "execution_count": null,
   "id": "ff26110d",
   "metadata": {},
   "outputs": [],
   "source": []
  },
  {
   "cell_type": "code",
   "execution_count": 68,
   "id": "3dd13bf7",
   "metadata": {},
   "outputs": [
    {
     "data": {
      "text/html": [
       "<pre style=\"white-space:pre;overflow-x:auto;line-height:normal;font-family:Menlo,'DejaVu Sans Mono',consolas,'Courier New',monospace\"><span style=\"font-weight: bold\">&lt;</span><span style=\"color: #ff00ff; text-decoration-color: #ff00ff; font-weight: bold\">AxesSubplot:</span><span style=\"font-weight: bold\">&gt;</span>\n",
       "</pre>\n"
      ],
      "text/plain": [
       "\u001b[1m<\u001b[0m\u001b[1;95mAxesSubplot:\u001b[0m\u001b[1m>\u001b[0m\n"
      ]
     },
     "metadata": {},
     "output_type": "display_data"
    },
    {
     "data": {
      "image/png": "[encoded data removed]"
     },
     "metadata": {},
     "output_type": "display_data"
    }
   ],
   "source": [
    "sns.scatterplot(\n",
    "    x=df.loc[df['metric'] == 'mi', 'score'].values,\n",
    "    y=df.loc[df['metric'] == 'sym', 'score'].values,\n",
    ")"
   ]
  },
  {
   "cell_type": "code",
   "execution_count": null,
   "id": "72cad1a0",
   "metadata": {},
   "outputs": [],
   "source": []
  },
  {
   "cell_type": "code",
   "execution_count": null,
   "id": "e02bacf1",
   "metadata": {},
   "outputs": [],
   "source": []
  },
  {
   "cell_type": "markdown",
   "id": "6ed76bdb",
   "metadata": {},
   "source": [
    "## Kaba continues"
   ]
  },
  {
   "cell_type": "code",
   "execution_count": 5,
   "id": "9751d05a",
   "metadata": {},
   "outputs": [],
   "source": [
    "self = reg"
   ]
  },
  {
   "cell_type": "code",
   "execution_count": 6,
   "id": "c034a0a2",
   "metadata": {},
   "outputs": [],
   "source": [
    "tx, tx_aff = self.load_tx(self.in_house_name)"
   ]
  },
  {
   "cell_type": "code",
   "execution_count": 7,
   "id": "c9b87bca",
   "metadata": {},
   "outputs": [
    {
     "data": {
      "text/html": [
       "<pre style=\"white-space:pre;overflow-x:auto;line-height:normal;font-family:Menlo,'DejaVu Sans Mono',consolas,'Courier New',monospace\"><span style=\"font-weight: bold\">[</span>\n",
       "    <span style=\"color: #008000; text-decoration-color: #008000\">'/home/hadi/Documents/Ca-fMRI/processed/transforms/Symmetric_N162_space-CCF3d_ants-inv.mat'</span>,\n",
       "    <span style=\"color: #008000; text-decoration-color: #008000\">'/home/hadi/Documents/Ca-fMRI/processed/transforms/Symmetric_N162_space-CCF3d_ants-inv.nii.gz'</span>\n",
       "<span style=\"font-weight: bold\">]</span>\n",
       "</pre>\n"
      ],
      "text/plain": [
       "\u001b[1m[\u001b[0m\n",
       "    \u001b[32m'/home/hadi/Documents/Ca-fMRI/processed/transforms/Symmetric_N162_space-CCF3d_ants-inv.mat'\u001b[0m,\n",
       "    \u001b[32m'/home/hadi/Documents/Ca-fMRI/processed/transforms/Symmetric_N162_space-CCF3d_ants-inv.nii.gz'\u001b[0m\n",
       "\u001b[1m]\u001b[0m\n"
      ]
     },
     "metadata": {},
     "output_type": "display_data"
    }
   ],
   "source": [
    "tx"
   ]
  },
  {
   "cell_type": "code",
   "execution_count": 8,
   "id": "c266dbb5",
   "metadata": {},
   "outputs": [
    {
     "data": {
      "text/html": [
       "<pre style=\"white-space:pre;overflow-x:auto;line-height:normal;font-family:Menlo,'DejaVu Sans Mono',consolas,'Courier New',monospace\">ANTsTransform\n",
       "         Type       : AffineTransform\n",
       "         Dimension  : <span style=\"color: #008080; text-decoration-color: #008080; font-weight: bold\">3</span>\n",
       "         Precision  : float\n",
       "\n",
       "</pre>\n"
      ],
      "text/plain": [
       "ANTsTransform\n",
       "         Type       : AffineTransform\n",
       "         Dimension  : \u001b[1;36m3\u001b[0m\n",
       "         Precision  : float\n",
       "\n"
      ]
     },
     "metadata": {},
     "output_type": "display_data"
    }
   ],
   "source": [
    "tx_aff"
   ]
  },
  {
   "cell_type": "code",
   "execution_count": 9,
   "id": "f7e74e2c",
   "metadata": {},
   "outputs": [],
   "source": [
    "affined = tx_aff.apply_to_image(\n",
    "    image=self.in_house,\n",
    "    reference=self.nissl,\n",
    "    interpolation='linear',\n",
    ")\n",
    "_ = self._apply_tx_obj2lps(\n",
    "    name=self.in_house_name,\n",
    "    moving=affined,\n",
    "    moving_orig=self.in_house,\n",
    "    tx_aff=tx_aff,\n",
    "    tx=tx,\n",
    "    use_mm=True,\n",
    "    save_results=True,\n",
    ")"
   ]
  },
  {
   "cell_type": "code",
   "execution_count": null,
   "id": "f4cd92b0",
   "metadata": {},
   "outputs": [],
   "source": []
  },
  {
   "cell_type": "code",
   "execution_count": null,
   "id": "aa4bf215",
   "metadata": {},
   "outputs": [],
   "source": []
  },
  {
   "cell_type": "code",
   "execution_count": null,
   "id": "c63a2e84",
   "metadata": {},
   "outputs": [],
   "source": []
  },
  {
   "cell_type": "code",
   "execution_count": null,
   "id": "0d0c9192",
   "metadata": {},
   "outputs": [],
   "source": []
  }
 ],
 "metadata": {
  "kernelspec": {
   "display_name": "Python 3 (ipykernel)",
   "language": "python",
   "name": "python3"
  },
  "language_info": {
   "codemirror_mode": {
    "name": "ipython",
    "version": 3
   },
   "file_extension": ".py",
   "mimetype": "text/x-python",
   "name": "python",
   "nbconvert_exporter": "python",
   "pygments_lexer": "ipython3",
   "version": "3.8.5"
  }
 },
 "nbformat": 4,
 "nbformat_minor": 5
}
