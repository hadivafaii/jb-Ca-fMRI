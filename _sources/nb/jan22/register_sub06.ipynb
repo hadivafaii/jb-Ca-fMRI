{
 "cells": [
  {
   "cell_type": "markdown",
   "id": "3c2c2b87",
   "metadata": {},
   "source": [
    "# November ??th, 2021 (register N162)\n",
    "\n",
    "**Motivation**: ?? <br>"
   ]
  },
  {
   "cell_type": "code",
   "execution_count": 1,
   "id": "4431e3e5",
   "metadata": {
    "tags": [
     "hide-input"
    ]
   },
   "outputs": [],
   "source": [
    "# HIDE CODE\n",
    "\n",
    "\n",
    "import os\n",
    "import sys\n",
    "import nibabel as nib\n",
    "import networkx as nx\n",
    "from time import time\n",
    "from pprint import pprint\n",
    "from copy import deepcopy as dc\n",
    "from os.path import join as pjoin\n",
    "from myterial import orange, blue_grey\n",
    "from IPython.display import display, IFrame, HTML\n",
    "from matplotlib.colors import rgb2hex, to_rgb\n",
    "import matplotlib.pyplot as plt\n",
    "import seaborn as sns\n",
    "\n",
    "# set style & no interpolalation\n",
    "import matplotlib\n",
    "matplotlib.rcParams['image.interpolation'] = 'none'\n",
    "sns.set_style('whitegrid')\n",
    "%matplotlib inline\n",
    "\n",
    "# tmp & extras dir\n",
    "git_dir = pjoin(os.environ['HOME'], 'Dropbox/git')\n",
    "tmp_dir = pjoin(git_dir, 'jb-Ca-fMRI/tmp')\n",
    "extras_dir = pjoin(git_dir, 'jb-Ca-fMRI/_extras')\n",
    "lfr_dir = pjoin(os.environ['HOME'], 'Documents/workspaces/lfr/binary_overlapping')\n",
    "\n",
    "\n",
    "# GitHub\n",
    "sys.path.insert(0, pjoin(git_dir, '_Ca-fMRI'))\n",
    "from register.atlas import make_tree_graph\n",
    "from register.parcellation import Parcellation\n",
    "from analysis.hierarchical import Hierarchical\n",
    "from analysis.fourier import *\n",
    "from analysis.bootstrap import *\n",
    "from analysis.svinet import *\n",
    "from analysis.group import *\n",
    "from analysis.lfr import *\n",
    "from utils.render import *\n",
    "from utils.plotting import *\n",
    "from model.mouse import Mice\n",
    "from model.configuration import Config\n",
    "\n",
    "# warnings\n",
    "import warnings\n",
    "warnings.filterwarnings('ignore', category=DeprecationWarning)"
   ]
  },
  {
   "cell_type": "code",
   "execution_count": 2,
   "id": "899fabb1",
   "metadata": {},
   "outputs": [
    {
     "data": {
      "text/html": [
       "<pre style=\"white-space:pre;overflow-x:auto;line-height:normal;font-family:Menlo,'DejaVu Sans Mono',consolas,'Courier New',monospace\">ROI lookup not found, time to run <span style=\"color: #800080; text-decoration-color: #800080; font-weight: bold\">organize_func</span><span style=\"font-weight: bold\">()</span> . . .\n",
       "</pre>\n"
      ],
      "text/plain": [
       "ROI lookup not found, time to run \u001b[1;35morganize_func\u001b[0m\u001b[1m(\u001b[0m\u001b[1m)\u001b[0m . . .\n"
      ]
     },
     "metadata": {},
     "output_type": "display_data"
    },
    {
     "data": {
      "text/html": [
       "<pre style=\"white-space:pre;overflow-x:auto;line-height:normal;font-family:Menlo,'DejaVu Sans Mono',consolas,'Courier New',monospace\">combine metadata not found, time to run <span style=\"color: #800080; text-decoration-color: #800080; font-weight: bold\">cat_data</span><span style=\"font-weight: bold\">()</span> . . .\n",
       "</pre>\n"
      ],
      "text/plain": [
       "combine metadata not found, time to run \u001b[1;35mcat_data\u001b[0m\u001b[1m(\u001b[0m\u001b[1m)\u001b[0m . . .\n"
      ]
     },
     "metadata": {},
     "output_type": "display_data"
    }
   ],
   "source": [
    "mice = Mice(Config(256, 0, 100), full_load=True, load_parcel=True, load_allen=True)"
   ]
  },
  {
   "cell_type": "code",
   "execution_count": 3,
   "id": "4769df25",
   "metadata": {
    "scrolled": true
   },
   "outputs": [
    {
     "data": {
      "text/html": [
       "<pre style=\"white-space:pre;overflow-x:auto;line-height:normal;font-family:Menlo,'DejaVu Sans Mono',consolas,'Courier New',monospace\"><span style=\"font-weight: bold\">[</span>PROGRESS<span style=\"font-weight: bold\">]</span> fit columnar: initiated\n",
       "</pre>\n"
      ],
      "text/plain": [
       "\u001b[1m[\u001b[0mPROGRESS\u001b[1m]\u001b[0m fit columnar: initiated\n"
      ]
     },
     "metadata": {},
     "output_type": "display_data"
    },
    {
     "name": "stderr",
     "output_type": "stream",
     "text": [
      "Intel(R) Extension for Scikit-learn* enabled (https://github.com/intel/scikit-learn-intelex)\n"
     ]
    },
    {
     "data": {
      "text/html": [
       "<pre style=\"white-space:pre;overflow-x:auto;line-height:normal;font-family:Menlo,'DejaVu Sans Mono',consolas,'Courier New',monospace\"><span style=\"font-weight: bold\">[</span>PROGRESS<span style=\"font-weight: bold\">]</span> kmeans fit: done\n",
       "</pre>\n"
      ],
      "text/plain": [
       "\u001b[1m[\u001b[0mPROGRESS\u001b[1m]\u001b[0m kmeans fit: done\n"
      ]
     },
     "metadata": {},
     "output_type": "display_data"
    },
    {
     "data": {
      "text/html": [
       "<pre style=\"white-space:pre;overflow-x:auto;line-height:normal;font-family:Menlo,'DejaVu Sans Mono',consolas,'Courier New',monospace\"><span style=\"font-weight: bold\">[</span>PROGRESS<span style=\"font-weight: bold\">]</span> save 2D 10um: done\n",
       "</pre>\n"
      ],
      "text/plain": [
       "\u001b[1m[\u001b[0mPROGRESS\u001b[1m]\u001b[0m save 2D 10um: done\n"
      ]
     },
     "metadata": {},
     "output_type": "display_data"
    },
    {
     "data": {
      "text/html": [
       "<pre style=\"white-space:pre;overflow-x:auto;line-height:normal;font-family:Menlo,'DejaVu Sans Mono',consolas,'Courier New',monospace\"><span style=\"font-weight: bold\">[</span>PROGRESS<span style=\"font-weight: bold\">]</span> 2d --&gt; 3d: done\n",
       "</pre>\n"
      ],
      "text/plain": [
       "\u001b[1m[\u001b[0mPROGRESS\u001b[1m]\u001b[0m 2d --> 3d: done\n"
      ]
     },
     "metadata": {},
     "output_type": "display_data"
    },
    {
     "data": {
      "text/html": [
       "<pre style=\"white-space:pre;overflow-x:auto;line-height:normal;font-family:Menlo,'DejaVu Sans Mono',consolas,'Courier New',monospace\"><span style=\"font-weight: bold\">[</span>PROGRESS<span style=\"font-weight: bold\">]</span> fill gaps: done\n",
       "</pre>\n"
      ],
      "text/plain": [
       "\u001b[1m[\u001b[0mPROGRESS\u001b[1m]\u001b[0m fill gaps: done\n"
      ]
     },
     "metadata": {},
     "output_type": "display_data"
    },
    {
     "data": {
      "text/html": [
       "<pre style=\"white-space:pre;overflow-x:auto;line-height:normal;font-family:Menlo,'DejaVu Sans Mono',consolas,'Courier New',monospace\"><span style=\"font-weight: bold\">[</span>PROGRESS<span style=\"font-weight: bold\">]</span> save 3D 10um: done\n",
       "</pre>\n"
      ],
      "text/plain": [
       "\u001b[1m[\u001b[0mPROGRESS\u001b[1m]\u001b[0m save 3D 10um: done\n"
      ]
     },
     "metadata": {},
     "output_type": "display_data"
    },
    {
     "data": {
      "text/html": [
       "<pre style=\"white-space:pre;overflow-x:auto;line-height:normal;font-family:Menlo,'DejaVu Sans Mono',consolas,'Courier New',monospace\"><span style=\"font-weight: bold\">[</span>PROGRESS<span style=\"font-weight: bold\">]</span> downsample: done\n",
       "</pre>\n"
      ],
      "text/plain": [
       "\u001b[1m[\u001b[0mPROGRESS\u001b[1m]\u001b[0m downsample: done\n"
      ]
     },
     "metadata": {},
     "output_type": "display_data"
    },
    {
     "data": {
      "text/html": [
       "<pre style=\"white-space:pre;overflow-x:auto;line-height:normal;font-family:Menlo,'DejaVu Sans Mono',consolas,'Courier New',monospace\">num regions,    left: <span style=\"color: #008080; text-decoration-color: #008080; font-weight: bold\">768</span>,  right: <span style=\"color: #008080; text-decoration-color: #008080; font-weight: bold\">768</span>\n",
       "region id diff,         r - l:  <span style=\"color: #800080; text-decoration-color: #800080; font-weight: bold\">Counter</span><span style=\"font-weight: bold\">({</span><span style=\"color: #008080; text-decoration-color: #008080; font-weight: bold\">768</span>: <span style=\"color: #008080; text-decoration-color: #008080; font-weight: bold\">768</span><span style=\"font-weight: bold\">})</span>\n",
       "\n",
       "</pre>\n"
      ],
      "text/plain": [
       "num regions,    left: \u001b[1;36m768\u001b[0m,  right: \u001b[1;36m768\u001b[0m\n",
       "region id diff,         r - l:  \u001b[1;35mCounter\u001b[0m\u001b[1m(\u001b[0m\u001b[1m{\u001b[0m\u001b[1;36m768\u001b[0m: \u001b[1;36m768\u001b[0m\u001b[1m}\u001b[0m\u001b[1m)\u001b[0m\n",
       "\n"
      ]
     },
     "metadata": {},
     "output_type": "display_data"
    },
    {
     "data": {
      "text/html": [
       "<pre style=\"white-space:pre;overflow-x:auto;line-height:normal;font-family:Menlo,'DejaVu Sans Mono',consolas,'Courier New',monospace\"><span style=\"font-weight: bold\">[</span>PROGRESS<span style=\"font-weight: bold\">]</span> fit columnar: done\n",
       "</pre>\n"
      ],
      "text/plain": [
       "\u001b[1m[\u001b[0mPROGRESS\u001b[1m]\u001b[0m fit columnar: done\n"
      ]
     },
     "metadata": {},
     "output_type": "display_data"
    },
    {
     "data": {
      "text/html": [
       "<pre style=\"white-space:pre;overflow-x:auto;line-height:normal;font-family:Menlo,'DejaVu Sans Mono',consolas,'Courier New',monospace\"><span style=\"font-weight: bold\">[</span>PROGRESS<span style=\"font-weight: bold\">]</span> <span style=\"color: #008000; text-decoration-color: #008000\">'cortex_100um.npy'</span> saved at\n",
       "<span style=\"color: #800080; text-decoration-color: #800080\">/home/hadi/Documents/Ca-fMRI/processed/</span><span style=\"color: #ff00ff; text-decoration-color: #ff00ff\">norm-global_parcel-columnar_n-256</span>*<span style=\"color: #008080; text-decoration-color: #008080; font-weight: bold\">0</span>/parcellation\n",
       "</pre>\n"
      ],
      "text/plain": [
       "\u001b[1m[\u001b[0mPROGRESS\u001b[1m]\u001b[0m \u001b[32m'cortex_100um.npy'\u001b[0m saved at\n",
       "\u001b[35m/home/hadi/Documents/Ca-fMRI/processed/\u001b[0m\u001b[95mnorm-global_parcel-columnar_n-256\u001b[0m*\u001b[1;36m0\u001b[0m/parcellation\n"
      ]
     },
     "metadata": {},
     "output_type": "display_data"
    },
    {
     "data": {
      "text/html": [
       "<pre style=\"white-space:pre;overflow-x:auto;line-height:normal;font-family:Menlo,'DejaVu Sans Mono',consolas,'Courier New',monospace\"><span style=\"font-weight: bold\">[</span>PROGRESS<span style=\"font-weight: bold\">]</span> <span style=\"color: #008000; text-decoration-color: #008000\">'cortex-top_100um.npy'</span> saved at\n",
       "<span style=\"color: #800080; text-decoration-color: #800080\">/home/hadi/Documents/Ca-fMRI/processed/</span><span style=\"color: #ff00ff; text-decoration-color: #ff00ff\">norm-global_parcel-columnar_n-256</span>*<span style=\"color: #008080; text-decoration-color: #008080; font-weight: bold\">0</span>/parcellation\n",
       "</pre>\n"
      ],
      "text/plain": [
       "\u001b[1m[\u001b[0mPROGRESS\u001b[1m]\u001b[0m \u001b[32m'cortex-top_100um.npy'\u001b[0m saved at\n",
       "\u001b[35m/home/hadi/Documents/Ca-fMRI/processed/\u001b[0m\u001b[95mnorm-global_parcel-columnar_n-256\u001b[0m*\u001b[1;36m0\u001b[0m/parcellation\n"
      ]
     },
     "metadata": {},
     "output_type": "display_data"
    },
    {
     "data": {
      "text/html": [
       "<pre style=\"white-space:pre;overflow-x:auto;line-height:normal;font-family:Menlo,'DejaVu Sans Mono',consolas,'Courier New',monospace\"><span style=\"font-weight: bold\">[</span>PROGRESS<span style=\"font-weight: bold\">]</span> <span style=\"color: #008000; text-decoration-color: #008000\">'subcortex_100um.npy'</span> saved at\n",
       "<span style=\"color: #800080; text-decoration-color: #800080\">/home/hadi/Documents/Ca-fMRI/processed/</span><span style=\"color: #ff00ff; text-decoration-color: #ff00ff\">norm-global_parcel-columnar_n-256</span>*<span style=\"color: #008080; text-decoration-color: #008080; font-weight: bold\">0</span>/parcellation\n",
       "</pre>\n"
      ],
      "text/plain": [
       "\u001b[1m[\u001b[0mPROGRESS\u001b[1m]\u001b[0m \u001b[32m'subcortex_100um.npy'\u001b[0m saved at\n",
       "\u001b[35m/home/hadi/Documents/Ca-fMRI/processed/\u001b[0m\u001b[95mnorm-global_parcel-columnar_n-256\u001b[0m*\u001b[1;36m0\u001b[0m/parcellation\n"
      ]
     },
     "metadata": {},
     "output_type": "display_data"
    },
    {
     "data": {
      "text/html": [
       "<pre style=\"white-space:pre;overflow-x:auto;line-height:normal;font-family:Menlo,'DejaVu Sans Mono',consolas,'Courier New',monospace\"><span style=\"font-weight: bold\">[</span>PROGRESS<span style=\"font-weight: bold\">]</span> <span style=\"color: #008000; text-decoration-color: #008000\">'subcortex-l_100um.npy'</span> saved at\n",
       "<span style=\"color: #800080; text-decoration-color: #800080\">/home/hadi/Documents/Ca-fMRI/processed/</span><span style=\"color: #ff00ff; text-decoration-color: #ff00ff\">norm-global_parcel-columnar_n-256</span>*<span style=\"color: #008080; text-decoration-color: #008080; font-weight: bold\">0</span>/parcellation\n",
       "</pre>\n"
      ],
      "text/plain": [
       "\u001b[1m[\u001b[0mPROGRESS\u001b[1m]\u001b[0m \u001b[32m'subcortex-l_100um.npy'\u001b[0m saved at\n",
       "\u001b[35m/home/hadi/Documents/Ca-fMRI/processed/\u001b[0m\u001b[95mnorm-global_parcel-columnar_n-256\u001b[0m*\u001b[1;36m0\u001b[0m/parcellation\n"
      ]
     },
     "metadata": {},
     "output_type": "display_data"
    },
    {
     "data": {
      "text/html": [
       "<pre style=\"white-space:pre;overflow-x:auto;line-height:normal;font-family:Menlo,'DejaVu Sans Mono',consolas,'Courier New',monospace\"><span style=\"font-weight: bold\">[</span>PROGRESS<span style=\"font-weight: bold\">]</span> <span style=\"color: #008000; text-decoration-color: #008000\">'subcortex-r_100um.npy'</span> saved at\n",
       "<span style=\"color: #800080; text-decoration-color: #800080\">/home/hadi/Documents/Ca-fMRI/processed/</span><span style=\"color: #ff00ff; text-decoration-color: #ff00ff\">norm-global_parcel-columnar_n-256</span>*<span style=\"color: #008080; text-decoration-color: #008080; font-weight: bold\">0</span>/parcellation\n",
       "</pre>\n"
      ],
      "text/plain": [
       "\u001b[1m[\u001b[0mPROGRESS\u001b[1m]\u001b[0m \u001b[32m'subcortex-r_100um.npy'\u001b[0m saved at\n",
       "\u001b[35m/home/hadi/Documents/Ca-fMRI/processed/\u001b[0m\u001b[95mnorm-global_parcel-columnar_n-256\u001b[0m*\u001b[1;36m0\u001b[0m/parcellation\n"
      ]
     },
     "metadata": {},
     "output_type": "display_data"
    },
    {
     "data": {
      "text/html": [
       "<pre style=\"white-space:pre;overflow-x:auto;line-height:normal;font-family:Menlo,'DejaVu Sans Mono',consolas,'Courier New',monospace\"><span style=\"font-weight: bold\">[</span>PROGRESS<span style=\"font-weight: bold\">]</span> <span style=\"color: #008000; text-decoration-color: #008000\">'regions-top_100um.npy'</span> saved at\n",
       "<span style=\"color: #800080; text-decoration-color: #800080\">/home/hadi/Documents/Ca-fMRI/processed/</span><span style=\"color: #ff00ff; text-decoration-color: #ff00ff\">norm-global_parcel-columnar_n-256</span>*<span style=\"color: #008080; text-decoration-color: #008080; font-weight: bold\">0</span>/parcellation\n",
       "</pre>\n"
      ],
      "text/plain": [
       "\u001b[1m[\u001b[0mPROGRESS\u001b[1m]\u001b[0m \u001b[32m'regions-top_100um.npy'\u001b[0m saved at\n",
       "\u001b[35m/home/hadi/Documents/Ca-fMRI/processed/\u001b[0m\u001b[95mnorm-global_parcel-columnar_n-256\u001b[0m*\u001b[1;36m0\u001b[0m/parcellation\n"
      ]
     },
     "metadata": {},
     "output_type": "display_data"
    },
    {
     "data": {
      "text/html": [
       "<pre style=\"white-space:pre;overflow-x:auto;line-height:normal;font-family:Menlo,'DejaVu Sans Mono',consolas,'Courier New',monospace\"><span style=\"font-weight: bold\">[</span>PROGRESS<span style=\"font-weight: bold\">]</span> <span style=\"color: #008000; text-decoration-color: #008000\">'regions-cortex_100um.npy'</span> saved at\n",
       "<span style=\"color: #800080; text-decoration-color: #800080\">/home/hadi/Documents/Ca-fMRI/processed/</span><span style=\"color: #ff00ff; text-decoration-color: #ff00ff\">norm-global_parcel-columnar_n-256</span>*<span style=\"color: #008080; text-decoration-color: #008080; font-weight: bold\">0</span>/parcellation\n",
       "</pre>\n"
      ],
      "text/plain": [
       "\u001b[1m[\u001b[0mPROGRESS\u001b[1m]\u001b[0m \u001b[32m'regions-cortex_100um.npy'\u001b[0m saved at\n",
       "\u001b[35m/home/hadi/Documents/Ca-fMRI/processed/\u001b[0m\u001b[95mnorm-global_parcel-columnar_n-256\u001b[0m*\u001b[1;36m0\u001b[0m/parcellation\n"
      ]
     },
     "metadata": {},
     "output_type": "display_data"
    },
    {
     "data": {
      "text/html": [
       "<pre style=\"white-space:pre;overflow-x:auto;line-height:normal;font-family:Menlo,'DejaVu Sans Mono',consolas,'Courier New',monospace\"><span style=\"font-weight: bold\">[</span>PROGRESS<span style=\"font-weight: bold\">]</span> <span style=\"color: #008000; text-decoration-color: #008000\">'nonzero-idxs_parcel2d-flat_100um.npy'</span> saved at\n",
       "<span style=\"color: #800080; text-decoration-color: #800080\">/home/hadi/Documents/Ca-fMRI/processed/</span><span style=\"color: #ff00ff; text-decoration-color: #ff00ff\">norm-global_parcel-columnar_n-256</span>*<span style=\"color: #008080; text-decoration-color: #008080; font-weight: bold\">0</span>/parcellation\n",
       "</pre>\n"
      ],
      "text/plain": [
       "\u001b[1m[\u001b[0mPROGRESS\u001b[1m]\u001b[0m \u001b[32m'nonzero-idxs_parcel2d-flat_100um.npy'\u001b[0m saved at\n",
       "\u001b[35m/home/hadi/Documents/Ca-fMRI/processed/\u001b[0m\u001b[95mnorm-global_parcel-columnar_n-256\u001b[0m*\u001b[1;36m0\u001b[0m/parcellation\n"
      ]
     },
     "metadata": {},
     "output_type": "display_data"
    },
    {
     "data": {
      "text/html": [
       "<pre style=\"white-space:pre;overflow-x:auto;line-height:normal;font-family:Menlo,'DejaVu Sans Mono',consolas,'Courier New',monospace\"><span style=\"font-weight: bold\">[</span>PROGRESS<span style=\"font-weight: bold\">]</span> <span style=\"color: #008000; text-decoration-color: #008000\">'nonzero-idxs_parcel2d-top_100um.npy'</span> saved at\n",
       "<span style=\"color: #800080; text-decoration-color: #800080\">/home/hadi/Documents/Ca-fMRI/processed/</span><span style=\"color: #ff00ff; text-decoration-color: #ff00ff\">norm-global_parcel-columnar_n-256</span>*<span style=\"color: #008080; text-decoration-color: #008080; font-weight: bold\">0</span>/parcellation\n",
       "</pre>\n"
      ],
      "text/plain": [
       "\u001b[1m[\u001b[0mPROGRESS\u001b[1m]\u001b[0m \u001b[32m'nonzero-idxs_parcel2d-top_100um.npy'\u001b[0m saved at\n",
       "\u001b[35m/home/hadi/Documents/Ca-fMRI/processed/\u001b[0m\u001b[95mnorm-global_parcel-columnar_n-256\u001b[0m*\u001b[1;36m0\u001b[0m/parcellation\n"
      ]
     },
     "metadata": {},
     "output_type": "display_data"
    },
    {
     "data": {
      "text/html": [
       "<pre style=\"white-space:pre;overflow-x:auto;line-height:normal;font-family:Menlo,'DejaVu Sans Mono',consolas,'Courier New',monospace\"><span style=\"font-weight: bold\">[</span>PROGRESS<span style=\"font-weight: bold\">]</span> <span style=\"color: #008000; text-decoration-color: #008000\">'nonzero-idxs_parcel3d_100um.npy'</span> saved at\n",
       "<span style=\"color: #800080; text-decoration-color: #800080\">/home/hadi/Documents/Ca-fMRI/processed/</span><span style=\"color: #ff00ff; text-decoration-color: #ff00ff\">norm-global_parcel-columnar_n-256</span>*<span style=\"color: #008080; text-decoration-color: #008080; font-weight: bold\">0</span>/parcellation\n",
       "</pre>\n"
      ],
      "text/plain": [
       "\u001b[1m[\u001b[0mPROGRESS\u001b[1m]\u001b[0m \u001b[32m'nonzero-idxs_parcel3d_100um.npy'\u001b[0m saved at\n",
       "\u001b[35m/home/hadi/Documents/Ca-fMRI/processed/\u001b[0m\u001b[95mnorm-global_parcel-columnar_n-256\u001b[0m*\u001b[1;36m0\u001b[0m/parcellation\n"
      ]
     },
     "metadata": {},
     "output_type": "display_data"
    },
    {
     "data": {
      "text/html": [
       "<pre style=\"white-space:pre;overflow-x:auto;line-height:normal;font-family:Menlo,'DejaVu Sans Mono',consolas,'Courier New',monospace\"><span style=\"font-weight: bold\">[</span>PROGRESS<span style=\"font-weight: bold\">]</span> <span style=\"color: #008000; text-decoration-color: #008000\">'region-idxs_parcel2d-flat_100um.npy'</span> saved at\n",
       "<span style=\"color: #800080; text-decoration-color: #800080\">/home/hadi/Documents/Ca-fMRI/processed/</span><span style=\"color: #ff00ff; text-decoration-color: #ff00ff\">norm-global_parcel-columnar_n-256</span>*<span style=\"color: #008080; text-decoration-color: #008080; font-weight: bold\">0</span>/parcellation\n",
       "</pre>\n"
      ],
      "text/plain": [
       "\u001b[1m[\u001b[0mPROGRESS\u001b[1m]\u001b[0m \u001b[32m'region-idxs_parcel2d-flat_100um.npy'\u001b[0m saved at\n",
       "\u001b[35m/home/hadi/Documents/Ca-fMRI/processed/\u001b[0m\u001b[95mnorm-global_parcel-columnar_n-256\u001b[0m*\u001b[1;36m0\u001b[0m/parcellation\n"
      ]
     },
     "metadata": {},
     "output_type": "display_data"
    },
    {
     "data": {
      "text/html": [
       "<pre style=\"white-space:pre;overflow-x:auto;line-height:normal;font-family:Menlo,'DejaVu Sans Mono',consolas,'Courier New',monospace\"><span style=\"font-weight: bold\">[</span>PROGRESS<span style=\"font-weight: bold\">]</span> <span style=\"color: #008000; text-decoration-color: #008000\">'region-idxs_parcel2d-top_100um.npy'</span> saved at\n",
       "<span style=\"color: #800080; text-decoration-color: #800080\">/home/hadi/Documents/Ca-fMRI/processed/</span><span style=\"color: #ff00ff; text-decoration-color: #ff00ff\">norm-global_parcel-columnar_n-256</span>*<span style=\"color: #008080; text-decoration-color: #008080; font-weight: bold\">0</span>/parcellation\n",
       "</pre>\n"
      ],
      "text/plain": [
       "\u001b[1m[\u001b[0mPROGRESS\u001b[1m]\u001b[0m \u001b[32m'region-idxs_parcel2d-top_100um.npy'\u001b[0m saved at\n",
       "\u001b[35m/home/hadi/Documents/Ca-fMRI/processed/\u001b[0m\u001b[95mnorm-global_parcel-columnar_n-256\u001b[0m*\u001b[1;36m0\u001b[0m/parcellation\n"
      ]
     },
     "metadata": {},
     "output_type": "display_data"
    },
    {
     "data": {
      "text/html": [
       "<pre style=\"white-space:pre;overflow-x:auto;line-height:normal;font-family:Menlo,'DejaVu Sans Mono',consolas,'Courier New',monospace\"><span style=\"font-weight: bold\">[</span>PROGRESS<span style=\"font-weight: bold\">]</span> <span style=\"color: #008000; text-decoration-color: #008000\">'region-idxs_parcel3d_100um.npy'</span> saved at\n",
       "<span style=\"color: #800080; text-decoration-color: #800080\">/home/hadi/Documents/Ca-fMRI/processed/</span><span style=\"color: #ff00ff; text-decoration-color: #ff00ff\">norm-global_parcel-columnar_n-256</span>*<span style=\"color: #008080; text-decoration-color: #008080; font-weight: bold\">0</span>/parcellation\n",
       "</pre>\n"
      ],
      "text/plain": [
       "\u001b[1m[\u001b[0mPROGRESS\u001b[1m]\u001b[0m \u001b[32m'region-idxs_parcel3d_100um.npy'\u001b[0m saved at\n",
       "\u001b[35m/home/hadi/Documents/Ca-fMRI/processed/\u001b[0m\u001b[95mnorm-global_parcel-columnar_n-256\u001b[0m*\u001b[1;36m0\u001b[0m/parcellation\n"
      ]
     },
     "metadata": {},
     "output_type": "display_data"
    },
    {
     "data": {
      "text/html": [
       "<pre style=\"white-space:pre;overflow-x:auto;line-height:normal;font-family:Menlo,'DejaVu Sans Mono',consolas,'Courier New',monospace\"><span style=\"font-weight: bold\">[</span>PROGRESS<span style=\"font-weight: bold\">]</span> <span style=\"color: #008000; text-decoration-color: #008000\">'shape_parcel2d-flat_100um.npy'</span> saved at\n",
       "<span style=\"color: #800080; text-decoration-color: #800080\">/home/hadi/Documents/Ca-fMRI/processed/</span><span style=\"color: #ff00ff; text-decoration-color: #ff00ff\">norm-global_parcel-columnar_n-256</span>*<span style=\"color: #008080; text-decoration-color: #008080; font-weight: bold\">0</span>/parcellation\n",
       "</pre>\n"
      ],
      "text/plain": [
       "\u001b[1m[\u001b[0mPROGRESS\u001b[1m]\u001b[0m \u001b[32m'shape_parcel2d-flat_100um.npy'\u001b[0m saved at\n",
       "\u001b[35m/home/hadi/Documents/Ca-fMRI/processed/\u001b[0m\u001b[95mnorm-global_parcel-columnar_n-256\u001b[0m*\u001b[1;36m0\u001b[0m/parcellation\n"
      ]
     },
     "metadata": {},
     "output_type": "display_data"
    },
    {
     "data": {
      "text/html": [
       "<pre style=\"white-space:pre;overflow-x:auto;line-height:normal;font-family:Menlo,'DejaVu Sans Mono',consolas,'Courier New',monospace\"><span style=\"font-weight: bold\">[</span>PROGRESS<span style=\"font-weight: bold\">]</span> <span style=\"color: #008000; text-decoration-color: #008000\">'shape_parcel2d-top_100um.npy'</span> saved at\n",
       "<span style=\"color: #800080; text-decoration-color: #800080\">/home/hadi/Documents/Ca-fMRI/processed/</span><span style=\"color: #ff00ff; text-decoration-color: #ff00ff\">norm-global_parcel-columnar_n-256</span>*<span style=\"color: #008080; text-decoration-color: #008080; font-weight: bold\">0</span>/parcellation\n",
       "</pre>\n"
      ],
      "text/plain": [
       "\u001b[1m[\u001b[0mPROGRESS\u001b[1m]\u001b[0m \u001b[32m'shape_parcel2d-top_100um.npy'\u001b[0m saved at\n",
       "\u001b[35m/home/hadi/Documents/Ca-fMRI/processed/\u001b[0m\u001b[95mnorm-global_parcel-columnar_n-256\u001b[0m*\u001b[1;36m0\u001b[0m/parcellation\n"
      ]
     },
     "metadata": {},
     "output_type": "display_data"
    },
    {
     "data": {
      "text/html": [
       "<pre style=\"white-space:pre;overflow-x:auto;line-height:normal;font-family:Menlo,'DejaVu Sans Mono',consolas,'Courier New',monospace\"><span style=\"font-weight: bold\">[</span>PROGRESS<span style=\"font-weight: bold\">]</span> <span style=\"color: #008000; text-decoration-color: #008000\">'shape_parcel3d_100um.npy'</span> saved at\n",
       "<span style=\"color: #800080; text-decoration-color: #800080\">/home/hadi/Documents/Ca-fMRI/processed/</span><span style=\"color: #ff00ff; text-decoration-color: #ff00ff\">norm-global_parcel-columnar_n-256</span>*<span style=\"color: #008080; text-decoration-color: #008080; font-weight: bold\">0</span>/parcellation\n",
       "</pre>\n"
      ],
      "text/plain": [
       "\u001b[1m[\u001b[0mPROGRESS\u001b[1m]\u001b[0m \u001b[32m'shape_parcel3d_100um.npy'\u001b[0m saved at\n",
       "\u001b[35m/home/hadi/Documents/Ca-fMRI/processed/\u001b[0m\u001b[95mnorm-global_parcel-columnar_n-256\u001b[0m*\u001b[1;36m0\u001b[0m/parcellation\n"
      ]
     },
     "metadata": {},
     "output_type": "display_data"
    },
    {
     "data": {
      "text/html": [
       "<pre style=\"white-space:pre;overflow-x:auto;line-height:normal;font-family:Menlo,'DejaVu Sans Mono',consolas,'Courier New',monospace\"><span style=\"font-weight: bold\">[</span>PROGRESS<span style=\"font-weight: bold\">]</span> save results: done.\n",
       "</pre>\n"
      ],
      "text/plain": [
       "\u001b[1m[\u001b[0mPROGRESS\u001b[1m]\u001b[0m save results: done.\n"
      ]
     },
     "metadata": {},
     "output_type": "display_data"
    }
   ],
   "source": [
    "# mice.parcel.fit_parcel(True)"
   ]
  },
  {
   "cell_type": "code",
   "execution_count": null,
   "id": "d38768a5",
   "metadata": {},
   "outputs": [],
   "source": []
  },
  {
   "cell_type": "code",
   "execution_count": 3,
   "id": "65b5926c",
   "metadata": {},
   "outputs": [],
   "source": [
    "from register.register import *\n",
    "reg = Register(mice)"
   ]
  },
  {
   "cell_type": "code",
   "execution_count": null,
   "id": "8d71ab62",
   "metadata": {},
   "outputs": [],
   "source": []
  },
  {
   "cell_type": "code",
   "execution_count": 4,
   "id": "8480970b",
   "metadata": {},
   "outputs": [
    {
     "data": {
      "text/html": [
       "<pre style=\"white-space:pre;overflow-x:auto;line-height:normal;font-family:Menlo,'DejaVu Sans Mono',consolas,'Courier New',monospace\">\n",
       "<span style=\"font-weight: bold\">{</span>\n",
       "    <span style=\"color: #008000; text-decoration-color: #008000\">'types'</span>: <span style=\"font-weight: bold\">[</span><span style=\"color: #008000; text-decoration-color: #008000\">'SyN'</span>, <span style=\"color: #008000; text-decoration-color: #008000\">'ElasticSyN'</span><span style=\"font-weight: bold\">]</span>,\n",
       "    <span style=\"color: #008000; text-decoration-color: #008000\">'grads'</span>: <span style=\"font-weight: bold\">[</span>\n",
       "        <span style=\"color: #008080; text-decoration-color: #008080; font-weight: bold\">0.15</span>,\n",
       "        <span style=\"color: #008080; text-decoration-color: #008080; font-weight: bold\">0.2</span>,\n",
       "        <span style=\"color: #008080; text-decoration-color: #008080; font-weight: bold\">0.25</span>,\n",
       "        <span style=\"color: #008080; text-decoration-color: #008080; font-weight: bold\">0.3</span>,\n",
       "        <span style=\"color: #008080; text-decoration-color: #008080; font-weight: bold\">0.32</span>,\n",
       "        <span style=\"color: #008080; text-decoration-color: #008080; font-weight: bold\">0.34</span>,\n",
       "        <span style=\"color: #008080; text-decoration-color: #008080; font-weight: bold\">0.35</span>,\n",
       "        <span style=\"color: #008080; text-decoration-color: #008080; font-weight: bold\">0.37</span>,\n",
       "        <span style=\"color: #008080; text-decoration-color: #008080; font-weight: bold\">0.38</span>,\n",
       "        <span style=\"color: #008080; text-decoration-color: #008080; font-weight: bold\">0.39</span>,\n",
       "        <span style=\"color: #008080; text-decoration-color: #008080; font-weight: bold\">0.4</span>,\n",
       "        <span style=\"color: #008080; text-decoration-color: #008080; font-weight: bold\">0.5</span>,\n",
       "        <span style=\"color: #008080; text-decoration-color: #008080; font-weight: bold\">0.9</span>\n",
       "    <span style=\"font-weight: bold\">]</span>,\n",
       "    <span style=\"color: #008000; text-decoration-color: #008000\">'syn_bins'</span>: <span style=\"font-weight: bold\">[</span><span style=\"color: #008080; text-decoration-color: #008080; font-weight: bold\">64</span>, <span style=\"color: #008080; text-decoration-color: #008080; font-weight: bold\">32</span>, <span style=\"color: #008080; text-decoration-color: #008080; font-weight: bold\">16</span><span style=\"font-weight: bold\">]</span>,\n",
       "    <span style=\"color: #008000; text-decoration-color: #008000\">'aff_bins'</span>: <span style=\"font-weight: bold\">[</span><span style=\"color: #008080; text-decoration-color: #008080; font-weight: bold\">13</span>, <span style=\"color: #008080; text-decoration-color: #008080; font-weight: bold\">20</span>, <span style=\"color: #008080; text-decoration-color: #008080; font-weight: bold\">32</span><span style=\"font-weight: bold\">]</span>,\n",
       "    <span style=\"color: #008000; text-decoration-color: #008000\">'aff_rates'</span>: <span style=\"font-weight: bold\">[</span><span style=\"color: #008080; text-decoration-color: #008080; font-weight: bold\">0.2</span>, <span style=\"color: #008080; text-decoration-color: #008080; font-weight: bold\">0.6</span>, <span style=\"color: #008080; text-decoration-color: #008080; font-weight: bold\">0.8</span><span style=\"font-weight: bold\">]</span>,\n",
       "    <span style=\"color: #008000; text-decoration-color: #008000\">'aff_metric'</span>: <span style=\"color: #008000; text-decoration-color: #008000\">'mattes'</span>,\n",
       "    <span style=\"color: #008000; text-decoration-color: #008000\">'syn_metric'</span>: <span style=\"color: #008000; text-decoration-color: #008000\">'mattes'</span>,\n",
       "    <span style=\"color: #008000; text-decoration-color: #008000\">'mi_q'</span>: <span style=\"color: #008080; text-decoration-color: #008080; font-weight: bold\">0.75</span>,\n",
       "    <span style=\"color: #008000; text-decoration-color: #008000\">'n_seeds'</span>: <span style=\"color: #008080; text-decoration-color: #008080; font-weight: bold\">10</span>\n",
       "<span style=\"font-weight: bold\">}</span>\n",
       "</pre>\n"
      ],
      "text/plain": [
       "\n",
       "\u001b[1m{\u001b[0m\n",
       "    \u001b[32m'types'\u001b[0m: \u001b[1m[\u001b[0m\u001b[32m'SyN'\u001b[0m, \u001b[32m'ElasticSyN'\u001b[0m\u001b[1m]\u001b[0m,\n",
       "    \u001b[32m'grads'\u001b[0m: \u001b[1m[\u001b[0m\n",
       "        \u001b[1;36m0.15\u001b[0m,\n",
       "        \u001b[1;36m0.2\u001b[0m,\n",
       "        \u001b[1;36m0.25\u001b[0m,\n",
       "        \u001b[1;36m0.3\u001b[0m,\n",
       "        \u001b[1;36m0.32\u001b[0m,\n",
       "        \u001b[1;36m0.34\u001b[0m,\n",
       "        \u001b[1;36m0.35\u001b[0m,\n",
       "        \u001b[1;36m0.37\u001b[0m,\n",
       "        \u001b[1;36m0.38\u001b[0m,\n",
       "        \u001b[1;36m0.39\u001b[0m,\n",
       "        \u001b[1;36m0.4\u001b[0m,\n",
       "        \u001b[1;36m0.5\u001b[0m,\n",
       "        \u001b[1;36m0.9\u001b[0m\n",
       "    \u001b[1m]\u001b[0m,\n",
       "    \u001b[32m'syn_bins'\u001b[0m: \u001b[1m[\u001b[0m\u001b[1;36m64\u001b[0m, \u001b[1;36m32\u001b[0m, \u001b[1;36m16\u001b[0m\u001b[1m]\u001b[0m,\n",
       "    \u001b[32m'aff_bins'\u001b[0m: \u001b[1m[\u001b[0m\u001b[1;36m13\u001b[0m, \u001b[1;36m20\u001b[0m, \u001b[1;36m32\u001b[0m\u001b[1m]\u001b[0m,\n",
       "    \u001b[32m'aff_rates'\u001b[0m: \u001b[1m[\u001b[0m\u001b[1;36m0.2\u001b[0m, \u001b[1;36m0.6\u001b[0m, \u001b[1;36m0.8\u001b[0m\u001b[1m]\u001b[0m,\n",
       "    \u001b[32m'aff_metric'\u001b[0m: \u001b[32m'mattes'\u001b[0m,\n",
       "    \u001b[32m'syn_metric'\u001b[0m: \u001b[32m'mattes'\u001b[0m,\n",
       "    \u001b[32m'mi_q'\u001b[0m: \u001b[1;36m0.75\u001b[0m,\n",
       "    \u001b[32m'n_seeds'\u001b[0m: \u001b[1;36m10\u001b[0m\n",
       "\u001b[1m}\u001b[0m\n"
      ]
     },
     "metadata": {},
     "output_type": "display_data"
    }
   ],
   "source": [
    "kwargs = {\n",
    "    'types': ['SyN', 'ElasticSyN'],\n",
    "    'grads': [0.15, 0.20, 0.25, 0.3, 0.32, 0.34, 0.35, 0.37, 0.38, 0.39, 0.40, 0.5, 0.9],\n",
    "    'syn_bins': [64, 32, 16],\n",
    "    'aff_bins': [13, 20, 32],\n",
    "    'aff_rates': [0.2, 0.6, 0.8],\n",
    "    'aff_metric': 'mattes',\n",
    "    'syn_metric': 'mattes',\n",
    "    'mi_q': 0.75,\n",
    "    'n_seeds': 10,\n",
    "}\n",
    "kwargs"
   ]
  },
  {
   "cell_type": "code",
   "execution_count": null,
   "id": "41024f1d",
   "metadata": {},
   "outputs": [],
   "source": []
  },
  {
   "cell_type": "code",
   "execution_count": 5,
   "id": "b60982f1",
   "metadata": {},
   "outputs": [],
   "source": [
    "reg.set_mode('bold')\n",
    "reg.mi_base = None"
   ]
  },
  {
   "cell_type": "code",
   "execution_count": 6,
   "id": "5bfc7c82",
   "metadata": {},
   "outputs": [],
   "source": [
    "key = 'sub-SLC08_ses-2'\n",
    "indiv = mice.T1w[key].load_ants()\n",
    "indiv *= mice.mask3d[key].load_ants()\n",
    "indiv = reg._prepare(indiv)"
   ]
  },
  {
   "cell_type": "code",
   "execution_count": 7,
   "id": "64b5fc85",
   "metadata": {},
   "outputs": [
    {
     "data": {
      "image/png": "[encoded data removed]"
     },
     "metadata": {},
     "output_type": "display_data"
    },
    {
     "data": {
      "text/html": [
       "<pre style=\"white-space:pre;overflow-x:auto;line-height:normal;font-family:Menlo,'DejaVu Sans Mono',consolas,'Courier New',monospace\">sub-SLC08_ses-<span style=\"color: #008080; text-decoration-color: #008080; font-weight: bold\">2</span>, perf:\n",
       "seed               <span style=\"color: #008080; text-decoration-color: #008080; font-weight: bold\">0</span>\n",
       "type             SyN\n",
       "grad            <span style=\"color: #008080; text-decoration-color: #008080; font-weight: bold\">0.34</span>\n",
       "syn_bin           <span style=\"color: #008080; text-decoration-color: #008080; font-weight: bold\">32</span>\n",
       "aff_bin           <span style=\"color: #008080; text-decoration-color: #008080; font-weight: bold\">13</span>\n",
       "aff_rate         <span style=\"color: #008080; text-decoration-color: #008080; font-weight: bold\">0.2</span>\n",
       "metric           sym\n",
       "score       <span style=\"color: #008080; text-decoration-color: #008080; font-weight: bold\">0.933288</span>\n",
       "\n",
       "</pre>\n"
      ],
      "text/plain": [
       "sub-SLC08_ses-\u001b[1;36m2\u001b[0m, perf:\n",
       "seed               \u001b[1;36m0\u001b[0m\n",
       "type             SyN\n",
       "grad            \u001b[1;36m0.34\u001b[0m\n",
       "syn_bin           \u001b[1;36m32\u001b[0m\n",
       "aff_bin           \u001b[1;36m13\u001b[0m\n",
       "aff_rate         \u001b[1;36m0.2\u001b[0m\n",
       "metric           sym\n",
       "score       \u001b[1;36m0.933288\u001b[0m\n",
       "\n"
      ]
     },
     "metadata": {},
     "output_type": "display_data"
    }
   ],
   "source": [
    "results = reg.fit_register(\n",
    "    name=key,\n",
    "    moving=indiv,\n",
    "    fixed=reg.nissl,\n",
    "    save_results=True,\n",
    "    **kwargs\n",
    ")"
   ]
  },
  {
   "cell_type": "code",
   "execution_count": 8,
   "id": "e781dcf2",
   "metadata": {},
   "outputs": [
    {
     "data": {
      "text/html": [
       "<pre style=\"white-space:pre;overflow-x:auto;line-height:normal;font-family:Menlo,'DejaVu Sans Mono',consolas,'Courier New',monospace\"><span style=\"color: #008080; text-decoration-color: #008080; font-weight: bold\">0.9332882920401651</span>\n",
       "</pre>\n"
      ],
      "text/plain": [
       "\u001b[1;36m0.9332882920401651\u001b[0m\n"
      ]
     },
     "metadata": {},
     "output_type": "display_data"
    }
   ],
   "source": [
    "results['perf']"
   ]
  },
  {
   "cell_type": "code",
   "execution_count": null,
   "id": "83811a2e",
   "metadata": {},
   "outputs": [],
   "source": []
  },
  {
   "cell_type": "code",
   "execution_count": 9,
   "id": "48b0531d",
   "metadata": {},
   "outputs": [
    {
     "data": {
      "text/html": [
       "<pre style=\"white-space:pre;overflow-x:auto;line-height:normal;font-family:Menlo,'DejaVu Sans Mono',consolas,'Courier New',monospace\"><span style=\"font-weight: bold\">[</span>PROGRESS<span style=\"font-weight: bold\">]</span> <span style=\"color: #008000; text-decoration-color: #008000\">'fit_sub-SLC08_ses-2_(2022_01_15).df'</span> saved at\n",
       "<span style=\"color: #800080; text-decoration-color: #800080\">/home/hadi/Dropbox/git/jb-Ca-fMRI/</span><span style=\"color: #ff00ff; text-decoration-color: #ff00ff\">tmp</span>\n",
       "</pre>\n"
      ],
      "text/plain": [
       "\u001b[1m[\u001b[0mPROGRESS\u001b[1m]\u001b[0m \u001b[32m'fit_sub-SLC08_ses-2_\u001b[0m\u001b[32m(\u001b[0m\u001b[32m2022_01_15\u001b[0m\u001b[32m)\u001b[0m\u001b[32m.df'\u001b[0m saved at\n",
       "\u001b[35m/home/hadi/Dropbox/git/jb-Ca-fMRI/\u001b[0m\u001b[95mtmp\u001b[0m\n"
      ]
     },
     "metadata": {},
     "output_type": "display_data"
    },
    {
     "data": {
      "text/html": [
       "<pre style=\"white-space:pre;overflow-x:auto;line-height:normal;font-family:Menlo,'DejaVu Sans Mono',consolas,'Courier New',monospace\"><span style=\"color: #008000; text-decoration-color: #008000\">'/home/hadi/Dropbox/git/jb-Ca-fMRI/tmp/fit_sub-SLC08_ses-2_(2022_01_15).df'</span>\n",
       "</pre>\n"
      ],
      "text/plain": [
       "\u001b[32m'/home/hadi/Dropbox/git/jb-Ca-fMRI/tmp/fit_sub-SLC08_ses-2_\u001b[0m\u001b[32m(\u001b[0m\u001b[32m2022_01_15\u001b[0m\u001b[32m)\u001b[0m\u001b[32m.df'\u001b[0m\n"
      ]
     },
     "metadata": {},
     "output_type": "display_data"
    }
   ],
   "source": [
    "save_obj(results['df'], f\"fit_{key}_{now()}\", tmp_dir, 'df')"
   ]
  },
  {
   "cell_type": "code",
   "execution_count": null,
   "id": "535a82ac",
   "metadata": {},
   "outputs": [],
   "source": []
  },
  {
   "cell_type": "markdown",
   "id": "6ed76bdb",
   "metadata": {},
   "source": [
    "## Kaba continues"
   ]
  },
  {
   "cell_type": "code",
   "execution_count": 5,
   "id": "9751d05a",
   "metadata": {},
   "outputs": [],
   "source": [
    "self = reg"
   ]
  },
  {
   "cell_type": "code",
   "execution_count": 6,
   "id": "c034a0a2",
   "metadata": {},
   "outputs": [],
   "source": [
    "tx, tx_aff = self.load_tx(self.in_house_name)"
   ]
  },
  {
   "cell_type": "code",
   "execution_count": 7,
   "id": "c9b87bca",
   "metadata": {},
   "outputs": [
    {
     "data": {
      "text/html": [
       "<pre style=\"white-space:pre;overflow-x:auto;line-height:normal;font-family:Menlo,'DejaVu Sans Mono',consolas,'Courier New',monospace\"><span style=\"font-weight: bold\">[</span>\n",
       "    <span style=\"color: #008000; text-decoration-color: #008000\">'/home/hadi/Documents/Ca-fMRI/processed/transforms/Symmetric_N162_space-CCF3d_ants-inv.mat'</span>,\n",
       "    <span style=\"color: #008000; text-decoration-color: #008000\">'/home/hadi/Documents/Ca-fMRI/processed/transforms/Symmetric_N162_space-CCF3d_ants-inv.nii.gz'</span>\n",
       "<span style=\"font-weight: bold\">]</span>\n",
       "</pre>\n"
      ],
      "text/plain": [
       "\u001b[1m[\u001b[0m\n",
       "    \u001b[32m'/home/hadi/Documents/Ca-fMRI/processed/transforms/Symmetric_N162_space-CCF3d_ants-inv.mat'\u001b[0m,\n",
       "    \u001b[32m'/home/hadi/Documents/Ca-fMRI/processed/transforms/Symmetric_N162_space-CCF3d_ants-inv.nii.gz'\u001b[0m\n",
       "\u001b[1m]\u001b[0m\n"
      ]
     },
     "metadata": {},
     "output_type": "display_data"
    }
   ],
   "source": [
    "tx"
   ]
  },
  {
   "cell_type": "code",
   "execution_count": 8,
   "id": "c266dbb5",
   "metadata": {},
   "outputs": [
    {
     "data": {
      "text/html": [
       "<pre style=\"white-space:pre;overflow-x:auto;line-height:normal;font-family:Menlo,'DejaVu Sans Mono',consolas,'Courier New',monospace\">ANTsTransform\n",
       "         Type       : AffineTransform\n",
       "         Dimension  : <span style=\"color: #008080; text-decoration-color: #008080; font-weight: bold\">3</span>\n",
       "         Precision  : float\n",
       "\n",
       "</pre>\n"
      ],
      "text/plain": [
       "ANTsTransform\n",
       "         Type       : AffineTransform\n",
       "         Dimension  : \u001b[1;36m3\u001b[0m\n",
       "         Precision  : float\n",
       "\n"
      ]
     },
     "metadata": {},
     "output_type": "display_data"
    }
   ],
   "source": [
    "tx_aff"
   ]
  },
  {
   "cell_type": "code",
   "execution_count": 9,
   "id": "f7e74e2c",
   "metadata": {},
   "outputs": [],
   "source": [
    "affined = tx_aff.apply_to_image(\n",
    "    image=self.in_house,\n",
    "    reference=self.nissl,\n",
    "    interpolation='linear',\n",
    ")\n",
    "_ = self._apply_tx_obj2lps(\n",
    "    name=self.in_house_name,\n",
    "    moving=affined,\n",
    "    moving_orig=self.in_house,\n",
    "    tx_aff=tx_aff,\n",
    "    tx=tx,\n",
    "    use_mm=True,\n",
    "    save_results=True,\n",
    ")"
   ]
  },
  {
   "cell_type": "code",
   "execution_count": null,
   "id": "f4cd92b0",
   "metadata": {},
   "outputs": [],
   "source": []
  },
  {
   "cell_type": "code",
   "execution_count": null,
   "id": "aa4bf215",
   "metadata": {},
   "outputs": [],
   "source": []
  },
  {
   "cell_type": "code",
   "execution_count": null,
   "id": "c63a2e84",
   "metadata": {},
   "outputs": [],
   "source": []
  },
  {
   "cell_type": "code",
   "execution_count": null,
   "id": "0d0c9192",
   "metadata": {},
   "outputs": [],
   "source": []
  }
 ],
 "metadata": {
  "kernelspec": {
   "display_name": "Python 3 (ipykernel)",
   "language": "python",
   "name": "python3"
  },
  "language_info": {
   "codemirror_mode": {
    "name": "ipython",
    "version": 3
   },
   "file_extension": ".py",
   "mimetype": "text/x-python",
   "name": "python",
   "nbconvert_exporter": "python",
   "pygments_lexer": "ipython3",
   "version": "3.8.5"
  }
 },
 "nbformat": 4,
 "nbformat_minor": 5
}
