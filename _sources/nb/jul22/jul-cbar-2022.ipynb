{
 "cells": [
  {
   "cell_type": "markdown",
   "id": "a9736f88",
   "metadata": {},
   "source": [
    "# Jul 10th, 2022 (cbar for figs)\n",
    "\n",
    "**Motivation**: <br>"
   ]
  },
  {
   "cell_type": "code",
   "execution_count": 1,
   "id": "d6551eb0",
   "metadata": {
    "tags": [
     "hide-input"
    ]
   },
   "outputs": [],
   "source": [
    "# HIDE CODE\n",
    "\n",
    "\n",
    "import os\n",
    "import sys\n",
    "from pprint import pprint\n",
    "from copy import deepcopy as dc\n",
    "from os.path import join as pjoin\n",
    "from scipy.ndimage import gaussian_filter\n",
    "from IPython.display import display, IFrame, HTML\n",
    "\n",
    "# tmp & extras dir\n",
    "git_dir = pjoin(os.environ['HOME'], 'Dropbox/git')\n",
    "extras_dir = pjoin(git_dir, 'jb-Ca-fMRI/_extras')\n",
    "fig_base_dir = pjoin(git_dir, 'jb-Ca-fMRI/figs')\n",
    "tmp_dir = pjoin(git_dir, 'jb-Ca-fMRI/tmp')\n",
    "\n",
    "# GitHub\n",
    "sys.path.insert(0, pjoin(git_dir, '_Ca-fMRI'))\n",
    "from figures.fighelper import *\n",
    "from analysis.final import *\n",
    "from utils.render import *\n",
    "\n",
    "# warnings, tqdm, & style\n",
    "warnings.filterwarnings('ignore', category=DeprecationWarning)\n",
    "from tqdm.notebook import tqdm\n",
    "%matplotlib inline\n",
    "set_style()"
   ]
  },
  {
   "cell_type": "markdown",
   "id": "8a5660a5",
   "metadata": {},
   "source": [
    "## Fig dir"
   ]
  },
  {
   "cell_type": "code",
   "execution_count": 2,
   "id": "f477fef2",
   "metadata": {},
   "outputs": [
    {
     "data": {
      "text/html": [
       "<pre style=\"white-space:pre;overflow-x:auto;line-height:normal;font-family:Menlo,'DejaVu Sans Mono',consolas,'Courier New',monospace\"><span style=\"color: #800080; text-decoration-color: #800080\">/home/hadi/Dropbox/git/jb-Ca-fMRI/figs/paper2.0/n512/</span><span style=\"color: #ff00ff; text-decoration-color: #ff00ff\">Figs_Cbar</span>\n",
       "</pre>\n"
      ],
      "text/plain": [
       "\u001b[35m/home/hadi/Dropbox/git/jb-Ca-fMRI/figs/paper2.0/n512/\u001b[0m\u001b[95mFigs_Cbar\u001b[0m\n"
      ]
     },
     "metadata": {},
     "output_type": "display_data"
    }
   ],
   "source": [
    "nn = 512\n",
    "fig_dir = 'Figs_Cbar'\n",
    "fig_dir = pjoin(fig_base_dir, 'paper2.0', f'n{nn}', fig_dir)\n",
    "os.makedirs(fig_dir, exist_ok=True)\n",
    "print(fig_dir)\n",
    "\n",
    "kws_fig = {\n",
    "    'transparent': True,\n",
    "    'bbox_inches': 'tight',\n",
    "    'dpi': 300,\n",
    "}"
   ]
  },
  {
   "cell_type": "markdown",
   "id": "dd6347f0",
   "metadata": {},
   "source": [
    "## Prepare (512)"
   ]
  },
  {
   "cell_type": "code",
   "execution_count": 3,
   "id": "a0223b86",
   "metadata": {},
   "outputs": [],
   "source": [
    "mice = Mice(nn)\n",
    "kws_fig['dpi'] = 600"
   ]
  },
  {
   "cell_type": "markdown",
   "id": "d3792a8d",
   "metadata": {},
   "source": [
    "### Fig6_Mem"
   ]
  },
  {
   "cell_type": "code",
   "execution_count": 60,
   "id": "35e82fcd",
   "metadata": {},
   "outputs": [],
   "source": [
    "from figures.fig_mem import mk_member_cmap\n",
    "spectral, accent = mk_member_cmap()"
   ]
  },
  {
   "cell_type": "markdown",
   "id": "59bcbc91",
   "metadata": {},
   "source": [
    "#### Spectral"
   ]
  },
  {
   "cell_type": "code",
   "execution_count": 61,
   "id": "ed954a28",
   "metadata": {},
   "outputs": [],
   "source": [
    "mu_vals = [0.05, 0.1, 0.25, 0.50]"
   ]
  },
  {
   "cell_type": "code",
   "execution_count": 64,
   "id": "9a533e66",
   "metadata": {},
   "outputs": [
    {
     "data": {
      "image/png": "[encoded data removed]"
     },
     "execution_count": 64,
     "metadata": {},
     "output_type": "execute_result"
    }
   ],
   "source": [
    "fig, cax, cbar = cbar_only(spectral, edgecolor='k', tick_position='left')\n",
    "cax.set_title('Thresh.', fontsize=20, y=1.04, x=-0.3, rotation=0)\n",
    "cax.tick_params(labelsize=18)\n",
    "cax.yaxis.set(\n",
    "    ticks=[(i + 0.5) / len(mu_vals) for i in range(len(mu_vals))],\n",
    "    ticklabels=[f\"{mu:0.02f}\" for mu in mu_vals],\n",
    ")\n",
    "fig.savefig(pjoin(fig_dir, f'spect.png'), **kws_fig)\n",
    "fig.savefig(pjoin(fig_dir, f'spect.pdf'), **kws_fig)\n",
    "fig"
   ]
  },
  {
   "cell_type": "markdown",
   "id": "60a526eb",
   "metadata": {},
   "source": [
    "#### Accent"
   ]
  },
  {
   "cell_type": "code",
   "execution_count": 63,
   "id": "acb5a9f0",
   "metadata": {},
   "outputs": [
    {
     "data": {
      "image/png": "[encoded data removed]"
     },
     "execution_count": 63,
     "metadata": {},
     "output_type": "execute_result"
    }
   ],
   "source": [
    "fig, cax, cbar = cbar_only(accent, vertical=False)\n",
    "cax.set_title('Numer of communities ($C_i$)', y=1.2, fontsize=16)\n",
    "cax.tick_params(labelsize=18)\n",
    "cax.xaxis.set(\n",
    "    ticks=[(i + 0.5) / 4 for i in range(4)],\n",
    "    ticklabels=range(1, 4 + 1),\n",
    ")\n",
    "fig.savefig(pjoin(fig_dir, f'accent.png'), **kws_fig)\n",
    "fig.savefig(pjoin(fig_dir, f'accent.pdf'), **kws_fig)\n",
    "fig"
   ]
  },
  {
   "cell_type": "markdown",
   "id": "ecfdade0",
   "metadata": {},
   "source": [
    "## Fig3/4_OCs"
   ]
  },
  {
   "cell_type": "code",
   "execution_count": 122,
   "id": "68db3e6e",
   "metadata": {},
   "outputs": [
    {
     "data": {
      "image/png": "[encoded data removed]"
     },
     "execution_count": 122,
     "metadata": {},
     "output_type": "execute_result"
    }
   ],
   "source": [
    "fig, cax, cbar = cbar_only('magma', vmin=0.2, vmax=1.0, figsize=(0.9, 4), tick_position='left')\n",
    "cax.set_title('Membership\\nstrength', fontsize=17, y=1.06, x=0.25, rotation=0)\n",
    "cax.tick_params(labelsize=18)\n",
    "\n",
    "fig.savefig(pjoin(fig_dir, f'magma.png'), **kws_fig)\n",
    "fig.savefig(pjoin(fig_dir, f'magma.pdf'), **kws_fig)\n",
    "fig"
   ]
  },
  {
   "cell_type": "code",
   "execution_count": 88,
   "id": "05883ccc",
   "metadata": {},
   "outputs": [
    {
     "data": {
      "image/png": "[encoded data removed]"
     },
     "execution_count": 88,
     "metadata": {},
     "output_type": "execute_result"
    }
   ],
   "source": [
    "fig, cax, cbar = cbar_only('magma', vmin=0.0, vmax=0.7, figsize=(0.9, 4), tick_position='right')\n",
    "# cax.set_title('Membership\\nstrength', fontsize=17, y=1.06, rotation=0)\n",
    "cax.tick_params(labelsize=15.5)\n",
    "\n",
    "fig.savefig(pjoin(fig_dir, f'magma20.png'), **kws_fig)\n",
    "fig.savefig(pjoin(fig_dir, f'magma20.pdf'), **kws_fig)\n",
    "fig"
   ]
  },
  {
   "cell_type": "code",
   "execution_count": 123,
   "id": "a0de420b",
   "metadata": {},
   "outputs": [
    {
     "data": {
      "image/png": "[encoded data removed]"
     },
     "execution_count": 123,
     "metadata": {},
     "output_type": "execute_result"
    }
   ],
   "source": [
    "fig, cax, cbar = cbar_only('gist_heat', vmin=0.5, vmax=1.0, figsize=(0.9, 4), tick_position='left')\n",
    "cax.set_title('Cosine\\nsim.', fontsize=21, y=1.06, rotation=0)\n",
    "cax.tick_params(labelsize=18)\n",
    "\n",
    "fig.savefig(pjoin(fig_dir, f'gist_heat.png'), **kws_fig)\n",
    "fig.savefig(pjoin(fig_dir, f'gist_heat.pdf'), **kws_fig)\n",
    "fig"
   ]
  },
  {
   "cell_type": "markdown",
   "id": "b531b3ad",
   "metadata": {},
   "source": [
    "## Perm test"
   ]
  },
  {
   "cell_type": "code",
   "execution_count": 46,
   "id": "ea6bb7b9",
   "metadata": {},
   "outputs": [
    {
     "data": {
      "image/png": "[encoded data removed]"
     },
     "execution_count": 46,
     "metadata": {},
     "output_type": "execute_result"
    }
   ],
   "source": [
    "bwr = sns.color_palette('bwr', as_cmap=True)\n",
    "\n",
    "fig, cax, cbar = cbar_only(bwr, vmin=-0.5, vmax=0.5, figsize=(0.9, 4), tick_position='left')\n",
    "cax.set_title('Entropy\\ndifference', fontsize=17, y=1.06, rotation=0)\n",
    "cax.tick_params(labelsize=18)\n",
    "\n",
    "fig.savefig(pjoin(fig_dir, f'bwr.png'), **kws_fig)\n",
    "fig.savefig(pjoin(fig_dir, f'bwr.pdf'), **kws_fig)\n",
    "fig"
   ]
  },
  {
   "cell_type": "code",
   "execution_count": 54,
   "id": "fd0e30d5",
   "metadata": {},
   "outputs": [
    {
     "data": {
      "image/png": "[encoded data removed]"
     },
     "execution_count": 54,
     "metadata": {},
     "output_type": "execute_result"
    }
   ],
   "source": [
    "from figures.fig_deg import cbar_perm_test\n",
    "fig, cax, cbar = cbar_perm_test([bwr(0.15), bwr(0.5), bwr(0.85)])\n",
    "cax.set_title(r'$p < 0.05$', fontsize=18, y=1.06, rotation=0)\n",
    "\n",
    "fig.savefig(pjoin(fig_dir, f'perm.png'), **kws_fig)\n",
    "fig.savefig(pjoin(fig_dir, f'perm.pdf'), **kws_fig)\n",
    "fig"
   ]
  },
  {
   "cell_type": "markdown",
   "id": "db026cab",
   "metadata": {},
   "source": [
    "## Percentile"
   ]
  },
  {
   "cell_type": "code",
   "execution_count": 11,
   "id": "e84a52b6",
   "metadata": {},
   "outputs": [
    {
     "data": {
      "image/png": "[encoded data removed]"
     },
     "execution_count": 11,
     "metadata": {},
     "output_type": "execute_result"
    }
   ],
   "source": [
    "fig, cax, cbar = cbar_only('YlOrRd', vmin=90, vmax=100, figsize=(0.9, 4), tick_position='left')\n",
    "cax.set_title('Degree\\npercentile', fontsize=17, y=1.1, rotation=0)\n",
    "cax.yaxis.set_ticks([90, 100])\n",
    "cax.tick_params(labelsize=18)\n",
    "\n",
    "fig.savefig(pjoin(fig_dir, f'percentile_deg.png'), **kws_fig)\n",
    "fig.savefig(pjoin(fig_dir, f'percentile_deg.pdf'), **kws_fig)\n",
    "fig"
   ]
  },
  {
   "cell_type": "code",
   "execution_count": 12,
   "id": "070e761a",
   "metadata": {},
   "outputs": [
    {
     "data": {
      "image/png": "[encoded data removed]"
     },
     "execution_count": 12,
     "metadata": {},
     "output_type": "execute_result"
    }
   ],
   "source": [
    "fig, cax, cbar = cbar_only('YlOrRd', vmin=90, vmax=100, figsize=(0.9, 4), tick_position='left')\n",
    "cax.set_title('Entropy\\npercentile', fontsize=17, y=1.1, rotation=0)\n",
    "cax.yaxis.set_ticks([90, 100])\n",
    "cax.tick_params(labelsize=18)\n",
    "\n",
    "fig.savefig(pjoin(fig_dir, f'percentile_ent.png'), **kws_fig)\n",
    "fig.savefig(pjoin(fig_dir, f'percentile_ent.pdf'), **kws_fig)\n",
    "fig"
   ]
  },
  {
   "cell_type": "code",
   "execution_count": null,
   "id": "c7a58979",
   "metadata": {},
   "outputs": [],
   "source": []
  },
  {
   "cell_type": "code",
   "execution_count": null,
   "id": "19875213",
   "metadata": {},
   "outputs": [],
   "source": []
  },
  {
   "cell_type": "code",
   "execution_count": null,
   "id": "9e7cccf0",
   "metadata": {},
   "outputs": [],
   "source": []
  },
  {
   "cell_type": "code",
   "execution_count": null,
   "id": "34630135",
   "metadata": {},
   "outputs": [],
   "source": []
  }
 ],
 "metadata": {
  "kernelspec": {
   "display_name": "Python 3 (ipykernel)",
   "language": "python",
   "name": "python3"
  },
  "language_info": {
   "codemirror_mode": {
    "name": "ipython",
    "version": 3
   },
   "file_extension": ".py",
   "mimetype": "text/x-python",
   "name": "python",
   "nbconvert_exporter": "python",
   "pygments_lexer": "ipython3",
   "version": "3.8.5"
  }
 },
 "nbformat": 4,
 "nbformat_minor": 5
}
