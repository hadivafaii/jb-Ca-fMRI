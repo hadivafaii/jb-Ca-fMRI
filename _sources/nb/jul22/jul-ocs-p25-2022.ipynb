{
 "cells": [
  {
   "cell_type": "markdown",
   "id": "a9736f88",
   "metadata": {},
   "source": [
    "# Jul 21st, 2022 (Fig-2 OCs; combined; p=25)\n",
    "\n",
    "**Motivation**:  <br>"
   ]
  },
  {
   "cell_type": "code",
   "execution_count": null,
   "id": "5360bb70",
   "metadata": {
    "tags": [
     "hide-input"
    ]
   },
   "outputs": [],
   "source": [
    "# HIDE CODE\n",
    "\n",
    "\n",
    "import os\n",
    "import sys\n",
    "from pprint import pprint\n",
    "from copy import deepcopy as dc\n",
    "from os.path import join as pjoin\n",
    "from scipy.ndimage import gaussian_filter\n",
    "from IPython.display import display, IFrame, HTML\n",
    "\n",
    "# tmp & extras dir\n",
    "git_dir = pjoin(os.environ['HOME'], 'Dropbox/git')\n",
    "extras_dir = pjoin(git_dir, 'jb-Ca-fMRI/_extras')\n",
    "fig_base_dir = pjoin(git_dir, 'jb-Ca-fMRI/figs')\n",
    "tmp_dir = pjoin(git_dir, 'jb-Ca-fMRI/tmp')\n",
    "\n",
    "# GitHub\n",
    "sys.path.insert(0, pjoin(git_dir, '_Ca-fMRI'))\n",
    "from figures.fighelper import *\n",
    "from analysis.final import *\n",
    "from utils.render import *\n",
    "\n",
    "# warnings, tqdm, & style\n",
    "warnings.filterwarnings('ignore', category=DeprecationWarning)\n",
    "from tqdm.notebook import tqdm\n",
    "%matplotlib inline\n",
    "set_style()"
   ]
  },
  {
   "cell_type": "markdown",
   "id": "8a5660a5",
   "metadata": {},
   "source": [
    "## Fig dir"
   ]
  },
  {
   "cell_type": "code",
   "execution_count": null,
   "id": "658a1a5c",
   "metadata": {},
   "outputs": [],
   "source": [
    "nn = 512\n",
    "perc = 25\n",
    "fig_dir = 'Fig2_OCs'\n",
    "fig_dir = pjoin(fig_base_dir, 'paper2.0', f'n{nn}-p{perc}', fig_dir)\n",
    "os.makedirs(fig_dir, exist_ok=True)\n",
    "print(fig_dir)\n",
    "\n",
    "kws_fig = {\n",
    "    'transparent': True,\n",
    "    'bbox_inches': 'tight',\n",
    "    'dpi': 300,\n",
    "}"
   ]
  },
  {
   "cell_type": "markdown",
   "id": "644b50bb",
   "metadata": {},
   "source": [
    "## Prepare (512)"
   ]
  },
  {
   "cell_type": "code",
   "execution_count": null,
   "id": "df0c72fa",
   "metadata": {},
   "outputs": [],
   "source": [
    "mice = Mice(nn)\n",
    "num_k = None"
   ]
  },
  {
   "cell_type": "markdown",
   "id": "12f2e01b",
   "metadata": {},
   "source": [
    "## Get results"
   ]
  },
  {
   "cell_type": "code",
   "execution_count": null,
   "id": "9d0c6e49",
   "metadata": {},
   "outputs": [],
   "source": [
    "final_perm={4: 5, 5: 4}\n",
    "final_perm = {\n",
    "    i: final_perm.get(i, i)\n",
    "    for i in range(7)\n",
    "}"
   ]
  },
  {
   "cell_type": "code",
   "execution_count": null,
   "id": "ed28c372",
   "metadata": {},
   "outputs": [],
   "source": [
    "%%time\n",
    "\n",
    "results = {}\n",
    "for num_k in [3, 7, 20]:\n",
    "    res = similiarity_results(\n",
    "        mice=mice,\n",
    "        perc=perc,\n",
    "        num_k=num_k,\n",
    "        n_resamples=int(1e2),\n",
    "        merge_thres=0.444 if\n",
    "        num_k == 7 else None,\n",
    "        final_perm=final_perm if\n",
    "        num_k == 7 else None,\n",
    "    )\n",
    "    results[num_k] = res\n",
    "\n",
    "    bt = BootStrap(**res['props_ca'])\n",
    "    _ = bt.show(res['pi_sorted'], **show_kws(num_k))"
   ]
  },
  {
   "cell_type": "markdown",
   "id": "7506eda6",
   "metadata": {},
   "source": [
    "## Overall sim"
   ]
  },
  {
   "cell_type": "markdown",
   "id": "27ed56f0",
   "metadata": {},
   "source": [
    "### Box plot"
   ]
  },
  {
   "cell_type": "code",
   "execution_count": null,
   "id": "4623a76b",
   "metadata": {},
   "outputs": [],
   "source": [
    "from figures.fig_ocs import similarity_box as go\n",
    "fig, _ = go(results, width=0.27)\n",
    "\n",
    "fig.savefig(pjoin(fig_dir, 'sim_bx.pdf'), **kws_fig)\n",
    "fig.savefig(pjoin(fig_dir, 'sim_bx.png'), **kws_fig)"
   ]
  },
  {
   "cell_type": "markdown",
   "id": "bc5c0e2f",
   "metadata": {},
   "source": [
    "### Bar plot"
   ]
  },
  {
   "cell_type": "code",
   "execution_count": null,
   "id": "82ebd165",
   "metadata": {},
   "outputs": [],
   "source": [
    "from figures.fig_ocs import similarity_bar as go\n",
    "fig, _ = go(results, legend_fontsize=12)\n",
    "\n",
    "fig.savefig(pjoin(fig_dir, 'sim_br.pdf'), **kws_fig)\n",
    "fig.savefig(pjoin(fig_dir, 'sim_br.png'), **kws_fig)"
   ]
  },
  {
   "cell_type": "markdown",
   "id": "9042cecf",
   "metadata": {},
   "source": [
    "## FDR correction"
   ]
  },
  {
   "cell_type": "code",
   "execution_count": null,
   "id": "d4a12211",
   "metadata": {},
   "outputs": [],
   "source": [
    "fig, axes = create_figure(3, 3, (12, 7), 'col')\n",
    "\n",
    "for i, (num_k, res) in enumerate(results.items()):\n",
    "    for j, (k, test) in enumerate(res['tests'].items()):\n",
    "        ax = axes[i, j]\n",
    "        sns.kdeplot(\n",
    "            x=test.null_distribution,\n",
    "            shade=True,\n",
    "            ax=ax,\n",
    "        )\n",
    "        ax.axvline(test.statistic, color='r', ls='-', lw=1.2)\n",
    "        ax.annotate(\n",
    "            text=f\"p = {test.pvalue:1.1e}\",\n",
    "            xycoords='axes fraction',\n",
    "            xy=(0.08, 0.85),\n",
    "        )\n",
    "        if i == 0:\n",
    "            ax.set_title(f\"{k[0][0]} vs. {k[0][1]}\\nVS.\\n{k[1][0]} vs. {k[1][1]}\", y=1.05)\n",
    "        if j == 0:\n",
    "            ax.set_ylabel(f'K = {num_k}')\n",
    "        else:\n",
    "            ax.set_ylabel('')\n",
    "plt.show()"
   ]
  },
  {
   "cell_type": "markdown",
   "id": "e24b2818",
   "metadata": {},
   "source": [
    "### Significance levels"
   ]
  },
  {
   "cell_type": "code",
   "execution_count": null,
   "id": "abe97328",
   "metadata": {},
   "outputs": [],
   "source": [
    "pvals = {}\n",
    "for num_k, res in results.items():\n",
    "    for k, test in res['tests'].items():\n",
    "        pvals[(num_k, ) + k] = test.pvalue"
   ]
  },
  {
   "cell_type": "code",
   "execution_count": null,
   "id": "cc301d02",
   "metadata": {},
   "outputs": [],
   "source": [
    "for alpha in [0.001, 0.01, 0.05]:\n",
    "    reject, *_ = multipletests(\n",
    "        pvals=list(pvals.values()),\n",
    "        method='fdr_bh',\n",
    "        alpha=alpha,\n",
    "    )\n",
    "    print(f\"alpha = {alpha};  reject:\\n{reject}\")"
   ]
  },
  {
   "cell_type": "markdown",
   "id": "f66e6ab6",
   "metadata": {},
   "source": [
    "## Bonferroni correction"
   ]
  },
  {
   "cell_type": "markdown",
   "id": "282e252f",
   "metadata": {},
   "source": [
    "### Significance levels"
   ]
  },
  {
   "cell_type": "code",
   "execution_count": null,
   "id": "a228b195",
   "metadata": {},
   "outputs": [],
   "source": [
    "pvals = {}\n",
    "for num_k, res in results.items():\n",
    "    for k, test in res['tests'].items():\n",
    "        pvals[(num_k, ) + k] = test.pvalue"
   ]
  },
  {
   "cell_type": "code",
   "execution_count": null,
   "id": "42a03efb",
   "metadata": {},
   "outputs": [],
   "source": [
    "for alpha in [0.001, 0.01, 0.05]:\n",
    "    reject, *_ = multipletests(\n",
    "        pvals=list(pvals.values()),\n",
    "        method='bonferroni',\n",
    "        alpha=alpha,\n",
    "    )\n",
    "    print(f\"alpha = {alpha};  reject:\\n{reject}\")"
   ]
  },
  {
   "cell_type": "code",
   "execution_count": null,
   "id": "e11e1dc5",
   "metadata": {},
   "outputs": [],
   "source": []
  },
  {
   "cell_type": "code",
   "execution_count": null,
   "id": "f7b967bf",
   "metadata": {},
   "outputs": [],
   "source": [
    "reject, pvals_corrected, alphacSidak, alphacBonf = multipletests(\n",
    "    pvals=list(pvals.values()),\n",
    "    method='bonferroni',\n",
    "    alpha=0.05,\n",
    ")\n",
    "print(f\"alpha = {alpha};  reject:\\n{reject}\")"
   ]
  },
  {
   "cell_type": "code",
   "execution_count": null,
   "id": "c404e3fd",
   "metadata": {},
   "outputs": [],
   "source": [
    "np.round(pvals_corrected, 3)"
   ]
  },
  {
   "cell_type": "code",
   "execution_count": null,
   "id": "33e41b5e",
   "metadata": {},
   "outputs": [],
   "source": [
    "alphacBonf, 0.05 / 9"
   ]
  },
  {
   "cell_type": "code",
   "execution_count": null,
   "id": "d47f6742",
   "metadata": {},
   "outputs": [],
   "source": []
  },
  {
   "cell_type": "code",
   "execution_count": null,
   "id": "a1414c63",
   "metadata": {},
   "outputs": [],
   "source": []
  },
  {
   "cell_type": "code",
   "execution_count": null,
   "id": "a435d83a",
   "metadata": {},
   "outputs": [],
   "source": []
  }
 ],
 "metadata": {
  "kernelspec": {
   "display_name": "Python 3 (ipykernel)",
   "language": "python",
   "name": "python3"
  },
  "language_info": {
   "codemirror_mode": {
    "name": "ipython",
    "version": 3
   },
   "file_extension": ".py",
   "mimetype": "text/x-python",
   "name": "python",
   "nbconvert_exporter": "python",
   "pygments_lexer": "ipython3",
   "version": "3.8.5"
  }
 },
 "nbformat": 4,
 "nbformat_minor": 5
}
