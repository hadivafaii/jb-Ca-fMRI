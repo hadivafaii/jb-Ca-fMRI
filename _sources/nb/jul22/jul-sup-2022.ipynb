{
 "cells": [
  {
   "cell_type": "markdown",
   "id": "a9736f88",
   "metadata": {},
   "source": [
    "# Jul 11th, 2022 (Fig-sup: Deg/Ent Percentile)\n",
    "\n",
    "**Motivation**:  <br>"
   ]
  },
  {
   "cell_type": "code",
   "execution_count": 1,
   "id": "5360bb70",
   "metadata": {
    "tags": [
     "hide-input"
    ]
   },
   "outputs": [],
   "source": [
    "# HIDE CODE\n",
    "\n",
    "\n",
    "import os\n",
    "import sys\n",
    "from pprint import pprint\n",
    "from copy import deepcopy as dc\n",
    "from os.path import join as pjoin\n",
    "from scipy.ndimage import gaussian_filter\n",
    "from IPython.display import display, IFrame, HTML\n",
    "\n",
    "# tmp & extras dir\n",
    "git_dir = pjoin(os.environ['HOME'], 'Dropbox/git')\n",
    "extras_dir = pjoin(git_dir, 'jb-Ca-fMRI/_extras')\n",
    "fig_base_dir = pjoin(git_dir, 'jb-Ca-fMRI/figs')\n",
    "tmp_dir = pjoin(git_dir, 'jb-Ca-fMRI/tmp')\n",
    "\n",
    "# GitHub\n",
    "sys.path.insert(0, pjoin(git_dir, '_Ca-fMRI'))\n",
    "from figures.fighelper import *\n",
    "from analysis.final import *\n",
    "from utils.render import *\n",
    "\n",
    "# warnings, tqdm, & style\n",
    "warnings.filterwarnings('ignore', category=DeprecationWarning)\n",
    "from tqdm.notebook import tqdm\n",
    "%matplotlib inline\n",
    "set_style()"
   ]
  },
  {
   "cell_type": "markdown",
   "id": "176a09ef",
   "metadata": {},
   "source": [
    "## Fig dir"
   ]
  },
  {
   "cell_type": "code",
   "execution_count": 27,
   "id": "fe5f4002",
   "metadata": {},
   "outputs": [
    {
     "data": {
      "text/html": [
       "<pre style=\"white-space:pre;overflow-x:auto;line-height:normal;font-family:Menlo,'DejaVu Sans Mono',consolas,'Courier New',monospace\"><span style=\"color: #800080; text-decoration-color: #800080\">/home/hadi/Dropbox/git/jb-Ca-fMRI/figs/paper2.0/n512/</span><span style=\"color: #ff00ff; text-decoration-color: #ff00ff\">Figs_Supp</span>\n",
       "</pre>\n"
      ],
      "text/plain": [
       "\u001b[35m/home/hadi/Dropbox/git/jb-Ca-fMRI/figs/paper2.0/n512/\u001b[0m\u001b[95mFigs_Supp\u001b[0m\n"
      ]
     },
     "metadata": {},
     "output_type": "display_data"
    }
   ],
   "source": [
    "nn = 512\n",
    "fig_dir = 'Figs_Supp'\n",
    "fig_dir = pjoin(fig_base_dir, 'paper2.0', f'n{nn}', fig_dir)\n",
    "os.makedirs(fig_dir, exist_ok=True)\n",
    "print(fig_dir)\n",
    "\n",
    "kws_fig = {\n",
    "    'transparent': True,\n",
    "    'bbox_inches': 'tight',\n",
    "    'dpi': 300,\n",
    "}"
   ]
  },
  {
   "cell_type": "markdown",
   "id": "644b50bb",
   "metadata": {},
   "source": [
    "## Prepare (512)"
   ]
  },
  {
   "cell_type": "code",
   "execution_count": 3,
   "id": "e8866510",
   "metadata": {},
   "outputs": [],
   "source": [
    "num_k = 7\n",
    "perc = 20\n",
    "mice = Mice(nn)\n",
    "bt_dict, props_bo, props_ca = default_props(mice, num_k, perc)\n",
    "bt = BootStrap(**props_ca)\n",
    "pal = prepare_palette()"
   ]
  },
  {
   "cell_type": "markdown",
   "id": "5e686733",
   "metadata": {},
   "source": [
    "## Ent/Deg Percentile"
   ]
  },
  {
   "cell_type": "code",
   "execution_count": 9,
   "id": "96bf5fbe",
   "metadata": {},
   "outputs": [],
   "source": [
    "d = perc / 100"
   ]
  },
  {
   "cell_type": "code",
   "execution_count": 10,
   "id": "72baba4e",
   "metadata": {},
   "outputs": [],
   "source": [
    "rv = sp_stats.poisson(d * len(bt.n2l))\n",
    "\n",
    "x = np.linspace(0, len(bt.n2l), len(bt.n2l) + 1)\n",
    "y = rv.pmf(x)"
   ]
  },
  {
   "cell_type": "code",
   "execution_count": 11,
   "id": "e1b9f9e9",
   "metadata": {},
   "outputs": [
    {
     "data": {
      "image/png": "[encoded data removed]"
     },
     "metadata": {},
     "output_type": "display_data"
    }
   ],
   "source": [
    "plt.plot(x, y)\n",
    "plt.axvline(rv.median(), color='r', ls='--');"
   ]
  },
  {
   "cell_type": "code",
   "execution_count": 12,
   "id": "cad996a4",
   "metadata": {},
   "outputs": [
    {
     "data": {
      "text/html": [
       "<pre style=\"white-space:pre;overflow-x:auto;line-height:normal;font-family:Menlo,'DejaVu Sans Mono',consolas,'Courier New',monospace\"><span style=\"font-weight: bold\">(</span><span style=\"color: #008080; text-decoration-color: #008080; font-weight: bold\">108.4</span>, <span style=\"color: #008080; text-decoration-color: #008080; font-weight: bold\">108.0</span><span style=\"font-weight: bold\">)</span>\n",
       "</pre>\n"
      ],
      "text/plain": [
       "\u001b[1m(\u001b[0m\u001b[1;36m108.4\u001b[0m, \u001b[1;36m108.0\u001b[0m\u001b[1m)\u001b[0m\n"
      ]
     },
     "metadata": {},
     "output_type": "display_data"
    }
   ],
   "source": [
    "rv.mean(), rv.median()"
   ]
  },
  {
   "cell_type": "code",
   "execution_count": null,
   "id": "a4776f98",
   "metadata": {},
   "outputs": [],
   "source": []
  },
  {
   "cell_type": "code",
   "execution_count": 13,
   "id": "b78b9b9a",
   "metadata": {},
   "outputs": [
    {
     "data": {
      "text/html": [
       "<pre style=\"white-space:pre;overflow-x:auto;line-height:normal;font-family:Menlo,'DejaVu Sans Mono',consolas,'Courier New',monospace\"><span style=\"color: #008080; text-decoration-color: #008080; font-weight: bold\">108.4</span>\n",
       "</pre>\n"
      ],
      "text/plain": [
       "\u001b[1;36m108.4\u001b[0m\n"
      ]
     },
     "metadata": {},
     "output_type": "display_data"
    }
   ],
   "source": [
    "n = len(bt.n2l)\n",
    "m = d * (n * (n - 1) / 2)\n",
    "k_expect = n * d\n",
    "k_expect"
   ]
  },
  {
   "cell_type": "code",
   "execution_count": 14,
   "id": "a6fdefdc",
   "metadata": {},
   "outputs": [
    {
     "data": {
      "text/html": [
       "<pre style=\"white-space:pre;overflow-x:auto;line-height:normal;font-family:Menlo,'DejaVu Sans Mono',consolas,'Courier New',monospace\"><span style=\"color: #008080; text-decoration-color: #008080; font-weight: bold\">0.2</span>\n",
       "</pre>\n"
      ],
      "text/plain": [
       "\u001b[1;36m0.2\u001b[0m\n"
      ]
     },
     "metadata": {},
     "output_type": "display_data"
    }
   ],
   "source": [
    "k_expect / n"
   ]
  },
  {
   "cell_type": "code",
   "execution_count": 15,
   "id": "d11e416c",
   "metadata": {},
   "outputs": [
    {
     "data": {
      "text/html": [
       "<pre style=\"white-space:pre;overflow-x:auto;line-height:normal;font-family:Menlo,'DejaVu Sans Mono',consolas,'Courier New',monospace\"><span style=\"color: #008080; text-decoration-color: #008080; font-weight: bold\">54.2</span>\n",
       "</pre>\n"
      ],
      "text/plain": [
       "\u001b[1;36m54.2\u001b[0m\n"
      ]
     },
     "metadata": {},
     "output_type": "display_data"
    }
   ],
   "source": [
    "m / (n - 1)"
   ]
  },
  {
   "cell_type": "code",
   "execution_count": 16,
   "id": "a9f97a88",
   "metadata": {},
   "outputs": [],
   "source": [
    "g = nx.erdos_renyi_graph(n, d)"
   ]
  },
  {
   "cell_type": "code",
   "execution_count": 17,
   "id": "5345a9b0",
   "metadata": {},
   "outputs": [
    {
     "data": {
      "text/html": [
       "<pre style=\"white-space:pre;overflow-x:auto;line-height:normal;font-family:Menlo,'DejaVu Sans Mono',consolas,'Courier New',monospace\"><span style=\"font-weight: bold\">(</span><span style=\"color: #008080; text-decoration-color: #008080; font-weight: bold\">0.19975308810389397</span>, <span style=\"color: #008080; text-decoration-color: #008080; font-weight: bold\">0.2</span><span style=\"font-weight: bold\">)</span>\n",
       "</pre>\n"
      ],
      "text/plain": [
       "\u001b[1m(\u001b[0m\u001b[1;36m0.19975308810389397\u001b[0m, \u001b[1;36m0.2\u001b[0m\u001b[1m)\u001b[0m\n"
      ]
     },
     "metadata": {},
     "output_type": "display_data"
    }
   ],
   "source": [
    "nx.density(g), d"
   ]
  },
  {
   "cell_type": "code",
   "execution_count": 18,
   "id": "09bb7dc1",
   "metadata": {},
   "outputs": [
    {
     "data": {
      "text/html": [
       "<pre style=\"white-space:pre;overflow-x:auto;line-height:normal;font-family:Menlo,'DejaVu Sans Mono',consolas,'Courier New',monospace\"><span style=\"font-weight: bold\">(</span><span style=\"color: #008080; text-decoration-color: #008080; font-weight: bold\">29286</span>, <span style=\"color: #008080; text-decoration-color: #008080; font-weight: bold\">29322.2</span><span style=\"font-weight: bold\">)</span>\n",
       "</pre>\n"
      ],
      "text/plain": [
       "\u001b[1m(\u001b[0m\u001b[1;36m29286\u001b[0m, \u001b[1;36m29322.2\u001b[0m\u001b[1m)\u001b[0m\n"
      ]
     },
     "metadata": {},
     "output_type": "display_data"
    }
   ],
   "source": [
    "g.number_of_edges(), m"
   ]
  },
  {
   "cell_type": "code",
   "execution_count": null,
   "id": "b8a9d6e7",
   "metadata": {},
   "outputs": [],
   "source": []
  },
  {
   "cell_type": "code",
   "execution_count": 20,
   "id": "be1801e4",
   "metadata": {},
   "outputs": [
    {
     "data": {
      "text/html": [
       "<pre style=\"white-space:pre;overflow-x:auto;line-height:normal;font-family:Menlo,'DejaVu Sans Mono',consolas,'Courier New',monospace\"><span style=\"font-weight: bold\">(</span><span style=\"color: #008080; text-decoration-color: #008080; font-weight: bold\">108.4</span>, <span style=\"color: #008080; text-decoration-color: #008080; font-weight: bold\">108.2</span><span style=\"font-weight: bold\">)</span>\n",
       "</pre>\n"
      ],
      "text/plain": [
       "\u001b[1m(\u001b[0m\u001b[1;36m108.4\u001b[0m, \u001b[1;36m108.2\u001b[0m\u001b[1m)\u001b[0m\n"
      ]
     },
     "metadata": {},
     "output_type": "display_data"
    }
   ],
   "source": [
    "n * d, (n - 1) * d"
   ]
  },
  {
   "cell_type": "code",
   "execution_count": null,
   "id": "c0f9f40b",
   "metadata": {},
   "outputs": [],
   "source": []
  },
  {
   "cell_type": "code",
   "execution_count": 21,
   "id": "759d8de1",
   "metadata": {},
   "outputs": [
    {
     "data": {
      "image/png": "[encoded data removed]"
     },
     "metadata": {},
     "output_type": "display_data"
    }
   ],
   "source": [
    "contour = bt.get_contour(0.2, False)\n",
    "plt.imshow(contour);"
   ]
  },
  {
   "cell_type": "code",
   "execution_count": null,
   "id": "3735018a",
   "metadata": {},
   "outputs": [],
   "source": []
  },
  {
   "cell_type": "markdown",
   "id": "e2ec327c",
   "metadata": {},
   "source": [
    "### Make the fig"
   ]
  },
  {
   "cell_type": "code",
   "execution_count": 22,
   "id": "a2ea93a7",
   "metadata": {},
   "outputs": [
    {
     "name": "stdout",
     "output_type": "stream",
     "text": [
      "CPU times: user 3min 41s, sys: 56.5 s, total: 4min 37s\n",
      "Wall time: 4min 37s\n"
     ]
    }
   ],
   "source": [
    "%%time\n",
    "\n",
    "for mode, o in bt_dict.items():\n",
    "    o.compute_entropy(\n",
    "        use_prune=True,\n",
    "        select_seeds=True if\n",
    "        mode == BOLD else False,\n",
    "    )"
   ]
  },
  {
   "cell_type": "code",
   "execution_count": null,
   "id": "ca15e4af",
   "metadata": {},
   "outputs": [],
   "source": []
  },
  {
   "cell_type": "code",
   "execution_count": 30,
   "id": "d54f1d43",
   "metadata": {
    "scrolled": true
   },
   "outputs": [
    {
     "data": {
      "text/html": [
       "<pre style=\"white-space:pre;overflow-x:auto;line-height:normal;font-family:Menlo,'DejaVu Sans Mono',consolas,'Courier New',monospace\"><span style=\"font-weight: bold\">(</span><span style=\"color: #008080; text-decoration-color: #008080; font-weight: bold\">0.2</span>, <span style=\"color: #008080; text-decoration-color: #008080; font-weight: bold\">108.4</span><span style=\"font-weight: bold\">)</span>\n",
       "</pre>\n"
      ],
      "text/plain": [
       "\u001b[1m(\u001b[0m\u001b[1;36m0.2\u001b[0m, \u001b[1;36m108.4\u001b[0m\u001b[1m)\u001b[0m\n"
      ]
     },
     "metadata": {},
     "output_type": "display_data"
    }
   ],
   "source": [
    "d, len(o.n2l) * d"
   ]
  },
  {
   "cell_type": "code",
   "execution_count": null,
   "id": "8fba968c",
   "metadata": {},
   "outputs": [],
   "source": [
    "%%time\n",
    "\n",
    "fig, axes = create_figure(2, 3, (10, 6), constrained_layout=True, tight_layout=False)\n",
    "\n",
    "for j, (mode, o) in enumerate(bt_dict.items()):\n",
    "    axes[0, j].set_title(mode, y=1.05, fontsize=20)\n",
    "    output = o.ent_deg_percentile(\n",
    "        n_resamples=int(1e5),\n",
    "        mu=(0, len(o.n2l) * d),\n",
    "    )\n",
    "    for i, item in enumerate(['p_deg', 'p_ent']):\n",
    "        x = output[item].copy()\n",
    "        x[x < 75] = np.nan\n",
    "        ax = axes[i, j]\n",
    "\n",
    "        ax = ctx2ax(\n",
    "            x=x,\n",
    "            ax=ax,\n",
    "            base=bt,\n",
    "            vmin=90,\n",
    "            vmax=100,\n",
    "            cbar=False,\n",
    "            contour=contour,\n",
    "            contour_alpha=0.8,\n",
    "            contour_cmap='Greys_r',\n",
    "            cmap='YlOrRd_r',\n",
    "        )\n",
    "remove_ticks(axes)\n",
    "fig.savefig(pjoin(fig_dir, 'ent_deg_percentile.png'), **kws_fig)\n",
    "plt.show()"
   ]
  },
  {
   "cell_type": "code",
   "execution_count": null,
   "id": "8d0862aa",
   "metadata": {},
   "outputs": [],
   "source": []
  },
  {
   "cell_type": "code",
   "execution_count": null,
   "id": "ccdd0a8c",
   "metadata": {},
   "outputs": [],
   "source": []
  },
  {
   "cell_type": "code",
   "execution_count": null,
   "id": "248cb07d",
   "metadata": {},
   "outputs": [],
   "source": []
  },
  {
   "cell_type": "code",
   "execution_count": null,
   "id": "6d49c5e5",
   "metadata": {},
   "outputs": [],
   "source": []
  }
 ],
 "metadata": {
  "kernelspec": {
   "display_name": "Python 3 (ipykernel)",
   "language": "python",
   "name": "python3"
  },
  "language_info": {
   "codemirror_mode": {
    "name": "ipython",
    "version": 3
   },
   "file_extension": ".py",
   "mimetype": "text/x-python",
   "name": "python",
   "nbconvert_exporter": "python",
   "pygments_lexer": "ipython3",
   "version": "3.8.5"
  }
 },
 "nbformat": 4,
 "nbformat_minor": 5
}
