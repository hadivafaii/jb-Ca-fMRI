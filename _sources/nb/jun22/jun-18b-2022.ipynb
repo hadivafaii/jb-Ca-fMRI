{
 "cells": [
  {
   "cell_type": "markdown",
   "id": "a9736f88",
   "metadata": {},
   "source": [
    "# Jun 18th, 2022 (boot parallel: 512)\n",
    "\n",
    "**Motivation**: Full of grabage, but still could be useful <br>"
   ]
  },
  {
   "cell_type": "code",
   "execution_count": 1,
   "id": "5360bb70",
   "metadata": {
    "tags": [
     "hide-input"
    ]
   },
   "outputs": [],
   "source": [
    "# HIDE CODE\n",
    "\n",
    "\n",
    "import os\n",
    "import sys\n",
    "from pprint import pprint\n",
    "from copy import deepcopy as dc\n",
    "from os.path import join as pjoin\n",
    "from scipy.ndimage import gaussian_filter\n",
    "from IPython.display import display, IFrame, HTML\n",
    "\n",
    "# tmp & extras dir\n",
    "git_dir = pjoin(os.environ['HOME'], 'Dropbox/git')\n",
    "extras_dir = pjoin(git_dir, 'jb-Ca-fMRI/_extras')\n",
    "fig_base_dir = pjoin(git_dir, 'jb-Ca-fMRI/figs')\n",
    "tmp_dir = pjoin(git_dir, 'jb-Ca-fMRI/tmp')\n",
    "\n",
    "# GitHub\n",
    "sys.path.insert(0, pjoin(git_dir, '_Ca-fMRI'))\n",
    "from model.configuration import Config\n",
    "from model.mouse import Mice\n",
    "from analysis.network import *\n",
    "from analysis.group import *\n",
    "from utils.render import *\n",
    "\n",
    "# warnings, tqdm, & style\n",
    "warnings.filterwarnings('ignore', category=DeprecationWarning)\n",
    "from tqdm.notebook import tqdm\n",
    "%matplotlib inline\n",
    "set_style()"
   ]
  },
  {
   "cell_type": "markdown",
   "id": "644b50bb",
   "metadata": {},
   "source": [
    "## Prepare"
   ]
  },
  {
   "cell_type": "code",
   "execution_count": 2,
   "id": "e8866510",
   "metadata": {},
   "outputs": [],
   "source": [
    "mice = Mice(512)\n",
    "\n",
    "mako = sns.color_palette('mako', as_cmap=True)\n",
    "rocket = sns.color_palette('rocket', as_cmap=True)\n",
    "pal = {'ca2': mako(0.6), 'bold-lite': rocket(0.6)}"
   ]
  },
  {
   "cell_type": "code",
   "execution_count": 3,
   "id": "df0c72fa",
   "metadata": {},
   "outputs": [],
   "source": [
    "task = 'rest'\n",
    "b = (0.01, 0.5)\n",
    "mice.setup_func_data(task, band_ca=b)\n",
    "\n",
    "num_k, p = 7, 20\n",
    "perc = f'p{p}-sample'\n",
    "props_base = {\n",
    "    'kw_kmeans': {'n_init': 100},\n",
    "    'perc': perc,\n",
    "    'num_k': num_k,\n",
    "    'mice': mice,\n",
    "    'task': task,\n",
    "    'metric': 'pearson',\n",
    "    'match_using': 'gam',\n",
    "    'match_metric': 'euclidean',\n",
    "    'graph_type': 'real',\n",
    "    'verbose': False,\n",
    "}\n",
    "props_ca = {'mode': 'ca2', **props_base}\n",
    "props_bo = {'mode': 'bold-lite', **props_base}\n",
    "\n",
    "# gr_ca = Group(**props_ca).fit_group()\n",
    "# gr_bo = Group(**props_bo).fit_group()"
   ]
  },
  {
   "cell_type": "code",
   "execution_count": null,
   "id": "2794b927",
   "metadata": {},
   "outputs": [],
   "source": []
  },
  {
   "cell_type": "code",
   "execution_count": 4,
   "id": "b853ce67",
   "metadata": {},
   "outputs": [],
   "source": [
    "from analysis.bootstrap import BootStrap"
   ]
  },
  {
   "cell_type": "code",
   "execution_count": 5,
   "id": "7b6ed057",
   "metadata": {},
   "outputs": [],
   "source": [
    "boot = BootStrap(**props_ca)"
   ]
  },
  {
   "cell_type": "code",
   "execution_count": 6,
   "id": "60168c59",
   "metadata": {},
   "outputs": [],
   "source": [
    "self = boot"
   ]
  },
  {
   "cell_type": "code",
   "execution_count": 7,
   "id": "ae20d1d4",
   "metadata": {},
   "outputs": [],
   "source": [
    "n_runs = self.get_anim_num_runs()\n",
    "data_all, good_nodes = [], []\n",
    "for i in range(self.mice.cfg.n_subjects):\n",
    "    x = self.run_pi[i]\n",
    "    x = x.reshape((-1, *x.shape[-3:]))\n",
    "\n",
    "    nans = np.isnan(x).sum(-1).sum(-1)\n",
    "    nans = nans == np.prod(x.shape[-2:])\n",
    "    good_runs = np.where(nans.sum(-1) < nans.shape[-1])[0]\n",
    "    assert len(good_runs) == n_runs[self.mice.get_key(i + 1)]\n",
    "\n",
    "    x = x[good_runs]\n",
    "    nans = nans[good_runs]\n",
    "    good_seeds = np.where(nans.sum(0) < len(good_runs))[0]\n",
    "    if len(good_seeds) < x.shape[-3]:\n",
    "        x = x[:, good_seeds]\n",
    "\n",
    "    nans = np.isnan(x).sum(0).sum(0).sum(0)\n",
    "    good = np.where(nans < np.prod(x.shape[:3]))[0]\n",
    "    data_all.append(x[..., good])\n",
    "    good_nodes.append(good)"
   ]
  },
  {
   "cell_type": "code",
   "execution_count": 9,
   "id": "83b77416",
   "metadata": {},
   "outputs": [
    {
     "data": {
      "text/html": [
       "<pre style=\"white-space:pre;overflow-x:auto;line-height:normal;font-family:Menlo,'DejaVu Sans Mono',consolas,'Courier New',monospace\">\n",
       "<span style=\"font-weight: bold\">(</span>\n",
       "    <span style=\"font-weight: bold\">[</span>\n",
       "        <span style=\"font-weight: bold\">(</span><span style=\"color: #008080; text-decoration-color: #008080; font-weight: bold\">12</span>, <span style=\"color: #008080; text-decoration-color: #008080; font-weight: bold\">250</span>, <span style=\"color: #008080; text-decoration-color: #008080; font-weight: bold\">7</span>, <span style=\"color: #008080; text-decoration-color: #008080; font-weight: bold\">526</span><span style=\"font-weight: bold\">)</span>,\n",
       "        <span style=\"font-weight: bold\">(</span><span style=\"color: #008080; text-decoration-color: #008080; font-weight: bold\">10</span>, <span style=\"color: #008080; text-decoration-color: #008080; font-weight: bold\">249</span>, <span style=\"color: #008080; text-decoration-color: #008080; font-weight: bold\">7</span>, <span style=\"color: #008080; text-decoration-color: #008080; font-weight: bold\">525</span><span style=\"font-weight: bold\">)</span>,\n",
       "        <span style=\"font-weight: bold\">(</span><span style=\"color: #008080; text-decoration-color: #008080; font-weight: bold\">10</span>, <span style=\"color: #008080; text-decoration-color: #008080; font-weight: bold\">250</span>, <span style=\"color: #008080; text-decoration-color: #008080; font-weight: bold\">7</span>, <span style=\"color: #008080; text-decoration-color: #008080; font-weight: bold\">524</span><span style=\"font-weight: bold\">)</span>,\n",
       "        <span style=\"font-weight: bold\">(</span><span style=\"color: #008080; text-decoration-color: #008080; font-weight: bold\">10</span>, <span style=\"color: #008080; text-decoration-color: #008080; font-weight: bold\">250</span>, <span style=\"color: #008080; text-decoration-color: #008080; font-weight: bold\">7</span>, <span style=\"color: #008080; text-decoration-color: #008080; font-weight: bold\">526</span><span style=\"font-weight: bold\">)</span>,\n",
       "        <span style=\"font-weight: bold\">(</span><span style=\"color: #008080; text-decoration-color: #008080; font-weight: bold\">10</span>, <span style=\"color: #008080; text-decoration-color: #008080; font-weight: bold\">250</span>, <span style=\"color: #008080; text-decoration-color: #008080; font-weight: bold\">7</span>, <span style=\"color: #008080; text-decoration-color: #008080; font-weight: bold\">530</span><span style=\"font-weight: bold\">)</span>,\n",
       "        <span style=\"font-weight: bold\">(</span><span style=\"color: #008080; text-decoration-color: #008080; font-weight: bold\">12</span>, <span style=\"color: #008080; text-decoration-color: #008080; font-weight: bold\">250</span>, <span style=\"color: #008080; text-decoration-color: #008080; font-weight: bold\">7</span>, <span style=\"color: #008080; text-decoration-color: #008080; font-weight: bold\">529</span><span style=\"font-weight: bold\">)</span>,\n",
       "        <span style=\"font-weight: bold\">(</span><span style=\"color: #008080; text-decoration-color: #008080; font-weight: bold\">11</span>, <span style=\"color: #008080; text-decoration-color: #008080; font-weight: bold\">250</span>, <span style=\"color: #008080; text-decoration-color: #008080; font-weight: bold\">7</span>, <span style=\"color: #008080; text-decoration-color: #008080; font-weight: bold\">529</span><span style=\"font-weight: bold\">)</span>,\n",
       "        <span style=\"font-weight: bold\">(</span><span style=\"color: #008080; text-decoration-color: #008080; font-weight: bold\">11</span>, <span style=\"color: #008080; text-decoration-color: #008080; font-weight: bold\">250</span>, <span style=\"color: #008080; text-decoration-color: #008080; font-weight: bold\">7</span>, <span style=\"color: #008080; text-decoration-color: #008080; font-weight: bold\">530</span><span style=\"font-weight: bold\">)</span>,\n",
       "        <span style=\"font-weight: bold\">(</span><span style=\"color: #008080; text-decoration-color: #008080; font-weight: bold\">12</span>, <span style=\"color: #008080; text-decoration-color: #008080; font-weight: bold\">250</span>, <span style=\"color: #008080; text-decoration-color: #008080; font-weight: bold\">7</span>, <span style=\"color: #008080; text-decoration-color: #008080; font-weight: bold\">508</span><span style=\"font-weight: bold\">)</span>,\n",
       "        <span style=\"font-weight: bold\">(</span><span style=\"color: #008080; text-decoration-color: #008080; font-weight: bold\">12</span>, <span style=\"color: #008080; text-decoration-color: #008080; font-weight: bold\">250</span>, <span style=\"color: #008080; text-decoration-color: #008080; font-weight: bold\">7</span>, <span style=\"color: #008080; text-decoration-color: #008080; font-weight: bold\">532</span><span style=\"font-weight: bold\">)</span>\n",
       "    <span style=\"font-weight: bold\">]</span>,\n",
       "    <span style=\"font-weight: bold\">[</span><span style=\"color: #008080; text-decoration-color: #008080; font-weight: bold\">526</span>, <span style=\"color: #008080; text-decoration-color: #008080; font-weight: bold\">525</span>, <span style=\"color: #008080; text-decoration-color: #008080; font-weight: bold\">524</span>, <span style=\"color: #008080; text-decoration-color: #008080; font-weight: bold\">526</span>, <span style=\"color: #008080; text-decoration-color: #008080; font-weight: bold\">530</span>, <span style=\"color: #008080; text-decoration-color: #008080; font-weight: bold\">529</span>, <span style=\"color: #008080; text-decoration-color: #008080; font-weight: bold\">529</span>, <span style=\"color: #008080; text-decoration-color: #008080; font-weight: bold\">530</span>, <span style=\"color: #008080; text-decoration-color: #008080; font-weight: bold\">508</span>, <span style=\"color: #008080; text-decoration-color: #008080; font-weight: bold\">532</span><span style=\"font-weight: bold\">]</span>\n",
       "<span style=\"font-weight: bold\">)</span>\n",
       "</pre>\n"
      ],
      "text/plain": [
       "\n",
       "\u001b[1m(\u001b[0m\n",
       "    \u001b[1m[\u001b[0m\n",
       "        \u001b[1m(\u001b[0m\u001b[1;36m12\u001b[0m, \u001b[1;36m250\u001b[0m, \u001b[1;36m7\u001b[0m, \u001b[1;36m526\u001b[0m\u001b[1m)\u001b[0m,\n",
       "        \u001b[1m(\u001b[0m\u001b[1;36m10\u001b[0m, \u001b[1;36m249\u001b[0m, \u001b[1;36m7\u001b[0m, \u001b[1;36m525\u001b[0m\u001b[1m)\u001b[0m,\n",
       "        \u001b[1m(\u001b[0m\u001b[1;36m10\u001b[0m, \u001b[1;36m250\u001b[0m, \u001b[1;36m7\u001b[0m, \u001b[1;36m524\u001b[0m\u001b[1m)\u001b[0m,\n",
       "        \u001b[1m(\u001b[0m\u001b[1;36m10\u001b[0m, \u001b[1;36m250\u001b[0m, \u001b[1;36m7\u001b[0m, \u001b[1;36m526\u001b[0m\u001b[1m)\u001b[0m,\n",
       "        \u001b[1m(\u001b[0m\u001b[1;36m10\u001b[0m, \u001b[1;36m250\u001b[0m, \u001b[1;36m7\u001b[0m, \u001b[1;36m530\u001b[0m\u001b[1m)\u001b[0m,\n",
       "        \u001b[1m(\u001b[0m\u001b[1;36m12\u001b[0m, \u001b[1;36m250\u001b[0m, \u001b[1;36m7\u001b[0m, \u001b[1;36m529\u001b[0m\u001b[1m)\u001b[0m,\n",
       "        \u001b[1m(\u001b[0m\u001b[1;36m11\u001b[0m, \u001b[1;36m250\u001b[0m, \u001b[1;36m7\u001b[0m, \u001b[1;36m529\u001b[0m\u001b[1m)\u001b[0m,\n",
       "        \u001b[1m(\u001b[0m\u001b[1;36m11\u001b[0m, \u001b[1;36m250\u001b[0m, \u001b[1;36m7\u001b[0m, \u001b[1;36m530\u001b[0m\u001b[1m)\u001b[0m,\n",
       "        \u001b[1m(\u001b[0m\u001b[1;36m12\u001b[0m, \u001b[1;36m250\u001b[0m, \u001b[1;36m7\u001b[0m, \u001b[1;36m508\u001b[0m\u001b[1m)\u001b[0m,\n",
       "        \u001b[1m(\u001b[0m\u001b[1;36m12\u001b[0m, \u001b[1;36m250\u001b[0m, \u001b[1;36m7\u001b[0m, \u001b[1;36m532\u001b[0m\u001b[1m)\u001b[0m\n",
       "    \u001b[1m]\u001b[0m,\n",
       "    \u001b[1m[\u001b[0m\u001b[1;36m526\u001b[0m, \u001b[1;36m525\u001b[0m, \u001b[1;36m524\u001b[0m, \u001b[1;36m526\u001b[0m, \u001b[1;36m530\u001b[0m, \u001b[1;36m529\u001b[0m, \u001b[1;36m529\u001b[0m, \u001b[1;36m530\u001b[0m, \u001b[1;36m508\u001b[0m, \u001b[1;36m532\u001b[0m\u001b[1m]\u001b[0m\n",
       "\u001b[1m)\u001b[0m\n"
      ]
     },
     "metadata": {},
     "output_type": "display_data"
    }
   ],
   "source": [
    "[e.shape for e in data_all], [len(e) for e in good_nodes]"
   ]
  },
  {
   "cell_type": "code",
   "execution_count": null,
   "id": "d6984017",
   "metadata": {},
   "outputs": [],
   "source": []
  },
  {
   "cell_type": "code",
   "execution_count": 10,
   "id": "c0f20597",
   "metadata": {},
   "outputs": [],
   "source": [
    "fn = self._get_fn(100)"
   ]
  },
  {
   "cell_type": "code",
   "execution_count": 11,
   "id": "4e61945f",
   "metadata": {},
   "outputs": [
    {
     "name": "stdout",
     "output_type": "stream",
     "text": [
      "CPU times: user 8.99 s, sys: 1.15 s, total: 10.1 s\n",
      "Wall time: 10.6 s\n"
     ]
    }
   ],
   "source": [
    "%%time\n",
    "\n",
    "se = fn(data_all[6])"
   ]
  },
  {
   "cell_type": "code",
   "execution_count": 12,
   "id": "702cf4ab",
   "metadata": {},
   "outputs": [
    {
     "data": {
      "text/html": [
       "<pre style=\"white-space:pre;overflow-x:auto;line-height:normal;font-family:Menlo,'DejaVu Sans Mono',consolas,'Courier New',monospace\"><span style=\"font-weight: bold\">((</span><span style=\"color: #008080; text-decoration-color: #008080; font-weight: bold\">11</span>, <span style=\"color: #008080; text-decoration-color: #008080; font-weight: bold\">250</span>, <span style=\"color: #008080; text-decoration-color: #008080; font-weight: bold\">7</span>, <span style=\"color: #008080; text-decoration-color: #008080; font-weight: bold\">529</span><span style=\"font-weight: bold\">)</span>, <span style=\"font-weight: bold\">(</span><span style=\"color: #008080; text-decoration-color: #008080; font-weight: bold\">7</span>, <span style=\"color: #008080; text-decoration-color: #008080; font-weight: bold\">529</span><span style=\"font-weight: bold\">))</span>\n",
       "</pre>\n"
      ],
      "text/plain": [
       "\u001b[1m(\u001b[0m\u001b[1m(\u001b[0m\u001b[1;36m11\u001b[0m, \u001b[1;36m250\u001b[0m, \u001b[1;36m7\u001b[0m, \u001b[1;36m529\u001b[0m\u001b[1m)\u001b[0m, \u001b[1m(\u001b[0m\u001b[1;36m7\u001b[0m, \u001b[1;36m529\u001b[0m\u001b[1m)\u001b[0m\u001b[1m)\u001b[0m\n"
      ]
     },
     "metadata": {},
     "output_type": "display_data"
    }
   ],
   "source": [
    "data_all[6].shape, se.shape"
   ]
  },
  {
   "cell_type": "code",
   "execution_count": null,
   "id": "76dbdaef",
   "metadata": {},
   "outputs": [],
   "source": []
  },
  {
   "cell_type": "code",
   "execution_count": 17,
   "id": "8fe56958",
   "metadata": {},
   "outputs": [
    {
     "data": {
      "text/html": [
       "<pre style=\"white-space:pre;overflow-x:auto;line-height:normal;font-family:Menlo,'DejaVu Sans Mono',consolas,'Courier New',monospace\">\n",
       "<span style=\"color: #800080; text-decoration-color: #800080; font-weight: bold\">array</span><span style=\"font-weight: bold\">([</span><span style=\"color: #008080; text-decoration-color: #008080; font-weight: bold\">7</span>, <span style=\"color: #008080; text-decoration-color: #008080; font-weight: bold\">0</span>, <span style=\"color: #008080; text-decoration-color: #008080; font-weight: bold\">7</span>, <span style=\"color: #008080; text-decoration-color: #008080; font-weight: bold\">0</span>, <span style=\"color: #008080; text-decoration-color: #008080; font-weight: bold\">7</span>, <span style=\"color: #008080; text-decoration-color: #008080; font-weight: bold\">7</span>, <span style=\"color: #008080; text-decoration-color: #008080; font-weight: bold\">0</span>, <span style=\"color: #008080; text-decoration-color: #008080; font-weight: bold\">0</span>, <span style=\"color: #008080; text-decoration-color: #008080; font-weight: bold\">0</span>, <span style=\"color: #008080; text-decoration-color: #008080; font-weight: bold\">0</span>, <span style=\"color: #008080; text-decoration-color: #008080; font-weight: bold\">7</span>, <span style=\"color: #008080; text-decoration-color: #008080; font-weight: bold\">7</span>, <span style=\"color: #008080; text-decoration-color: #008080; font-weight: bold\">0</span>, <span style=\"color: #008080; text-decoration-color: #008080; font-weight: bold\">0</span>, <span style=\"color: #008080; text-decoration-color: #008080; font-weight: bold\">0</span>, <span style=\"color: #008080; text-decoration-color: #008080; font-weight: bold\">0</span>, <span style=\"color: #008080; text-decoration-color: #008080; font-weight: bold\">0</span>, <span style=\"color: #008080; text-decoration-color: #008080; font-weight: bold\">0</span>, <span style=\"color: #008080; text-decoration-color: #008080; font-weight: bold\">0</span>, <span style=\"color: #008080; text-decoration-color: #008080; font-weight: bold\">7</span>, <span style=\"color: #008080; text-decoration-color: #008080; font-weight: bold\">0</span>, <span style=\"color: #008080; text-decoration-color: #008080; font-weight: bold\">0</span>,\n",
       "       <span style=\"color: #008080; text-decoration-color: #008080; font-weight: bold\">0</span>, <span style=\"color: #008080; text-decoration-color: #008080; font-weight: bold\">0</span>, <span style=\"color: #008080; text-decoration-color: #008080; font-weight: bold\">0</span>, <span style=\"color: #008080; text-decoration-color: #008080; font-weight: bold\">0</span>, <span style=\"color: #008080; text-decoration-color: #008080; font-weight: bold\">7</span>, <span style=\"color: #008080; text-decoration-color: #008080; font-weight: bold\">0</span>, <span style=\"color: #008080; text-decoration-color: #008080; font-weight: bold\">0</span>, <span style=\"color: #008080; text-decoration-color: #008080; font-weight: bold\">0</span>, <span style=\"color: #008080; text-decoration-color: #008080; font-weight: bold\">0</span>, <span style=\"color: #008080; text-decoration-color: #008080; font-weight: bold\">0</span>, <span style=\"color: #008080; text-decoration-color: #008080; font-weight: bold\">0</span>, <span style=\"color: #008080; text-decoration-color: #008080; font-weight: bold\">0</span>, <span style=\"color: #008080; text-decoration-color: #008080; font-weight: bold\">0</span>, <span style=\"color: #008080; text-decoration-color: #008080; font-weight: bold\">0</span>, <span style=\"color: #008080; text-decoration-color: #008080; font-weight: bold\">0</span>, <span style=\"color: #008080; text-decoration-color: #008080; font-weight: bold\">0</span>, <span style=\"color: #008080; text-decoration-color: #008080; font-weight: bold\">0</span>, <span style=\"color: #008080; text-decoration-color: #008080; font-weight: bold\">0</span>, <span style=\"color: #008080; text-decoration-color: #008080; font-weight: bold\">7</span>, <span style=\"color: #008080; text-decoration-color: #008080; font-weight: bold\">0</span>, <span style=\"color: #008080; text-decoration-color: #008080; font-weight: bold\">0</span>, <span style=\"color: #008080; text-decoration-color: #008080; font-weight: bold\">0</span>,\n",
       "       <span style=\"color: #008080; text-decoration-color: #008080; font-weight: bold\">0</span>, <span style=\"color: #008080; text-decoration-color: #008080; font-weight: bold\">0</span>, <span style=\"color: #008080; text-decoration-color: #008080; font-weight: bold\">0</span>, <span style=\"color: #008080; text-decoration-color: #008080; font-weight: bold\">0</span>, <span style=\"color: #008080; text-decoration-color: #008080; font-weight: bold\">0</span>, <span style=\"color: #008080; text-decoration-color: #008080; font-weight: bold\">0</span>, <span style=\"color: #008080; text-decoration-color: #008080; font-weight: bold\">0</span>, <span style=\"color: #008080; text-decoration-color: #008080; font-weight: bold\">0</span>, <span style=\"color: #008080; text-decoration-color: #008080; font-weight: bold\">0</span>, <span style=\"color: #008080; text-decoration-color: #008080; font-weight: bold\">7</span>, <span style=\"color: #008080; text-decoration-color: #008080; font-weight: bold\">0</span>, <span style=\"color: #008080; text-decoration-color: #008080; font-weight: bold\">0</span>, <span style=\"color: #008080; text-decoration-color: #008080; font-weight: bold\">0</span>, <span style=\"color: #008080; text-decoration-color: #008080; font-weight: bold\">7</span>, <span style=\"color: #008080; text-decoration-color: #008080; font-weight: bold\">0</span>, <span style=\"color: #008080; text-decoration-color: #008080; font-weight: bold\">0</span>, <span style=\"color: #008080; text-decoration-color: #008080; font-weight: bold\">0</span>, <span style=\"color: #008080; text-decoration-color: #008080; font-weight: bold\">0</span>, <span style=\"color: #008080; text-decoration-color: #008080; font-weight: bold\">0</span>, <span style=\"color: #008080; text-decoration-color: #008080; font-weight: bold\">0</span>, <span style=\"color: #008080; text-decoration-color: #008080; font-weight: bold\">0</span>, <span style=\"color: #008080; text-decoration-color: #008080; font-weight: bold\">0</span>,\n",
       "       <span style=\"color: #008080; text-decoration-color: #008080; font-weight: bold\">0</span>, <span style=\"color: #008080; text-decoration-color: #008080; font-weight: bold\">0</span>, <span style=\"color: #008080; text-decoration-color: #008080; font-weight: bold\">0</span>, <span style=\"color: #008080; text-decoration-color: #008080; font-weight: bold\">0</span>, <span style=\"color: #008080; text-decoration-color: #008080; font-weight: bold\">7</span>, <span style=\"color: #008080; text-decoration-color: #008080; font-weight: bold\">7</span>, <span style=\"color: #008080; text-decoration-color: #008080; font-weight: bold\">0</span>, <span style=\"color: #008080; text-decoration-color: #008080; font-weight: bold\">0</span>, <span style=\"color: #008080; text-decoration-color: #008080; font-weight: bold\">0</span>, <span style=\"color: #008080; text-decoration-color: #008080; font-weight: bold\">0</span>, <span style=\"color: #008080; text-decoration-color: #008080; font-weight: bold\">0</span>, <span style=\"color: #008080; text-decoration-color: #008080; font-weight: bold\">0</span>, <span style=\"color: #008080; text-decoration-color: #008080; font-weight: bold\">0</span>, <span style=\"color: #008080; text-decoration-color: #008080; font-weight: bold\">0</span>, <span style=\"color: #008080; text-decoration-color: #008080; font-weight: bold\">0</span>, <span style=\"color: #008080; text-decoration-color: #008080; font-weight: bold\">0</span>, <span style=\"color: #008080; text-decoration-color: #008080; font-weight: bold\">0</span>, <span style=\"color: #008080; text-decoration-color: #008080; font-weight: bold\">0</span>, <span style=\"color: #008080; text-decoration-color: #008080; font-weight: bold\">0</span>, <span style=\"color: #008080; text-decoration-color: #008080; font-weight: bold\">0</span>, <span style=\"color: #008080; text-decoration-color: #008080; font-weight: bold\">0</span>, <span style=\"color: #008080; text-decoration-color: #008080; font-weight: bold\">0</span>,\n",
       "       <span style=\"color: #008080; text-decoration-color: #008080; font-weight: bold\">0</span>, <span style=\"color: #008080; text-decoration-color: #008080; font-weight: bold\">0</span>, <span style=\"color: #008080; text-decoration-color: #008080; font-weight: bold\">0</span>, <span style=\"color: #008080; text-decoration-color: #008080; font-weight: bold\">0</span>, <span style=\"color: #008080; text-decoration-color: #008080; font-weight: bold\">0</span>, <span style=\"color: #008080; text-decoration-color: #008080; font-weight: bold\">0</span>, <span style=\"color: #008080; text-decoration-color: #008080; font-weight: bold\">0</span>, <span style=\"color: #008080; text-decoration-color: #008080; font-weight: bold\">0</span>, <span style=\"color: #008080; text-decoration-color: #008080; font-weight: bold\">0</span>, <span style=\"color: #008080; text-decoration-color: #008080; font-weight: bold\">0</span>, <span style=\"color: #008080; text-decoration-color: #008080; font-weight: bold\">0</span>, <span style=\"color: #008080; text-decoration-color: #008080; font-weight: bold\">0</span>, <span style=\"color: #008080; text-decoration-color: #008080; font-weight: bold\">0</span>, <span style=\"color: #008080; text-decoration-color: #008080; font-weight: bold\">0</span>, <span style=\"color: #008080; text-decoration-color: #008080; font-weight: bold\">7</span>, <span style=\"color: #008080; text-decoration-color: #008080; font-weight: bold\">0</span>, <span style=\"color: #008080; text-decoration-color: #008080; font-weight: bold\">0</span>, <span style=\"color: #008080; text-decoration-color: #008080; font-weight: bold\">0</span>, <span style=\"color: #008080; text-decoration-color: #008080; font-weight: bold\">0</span>, <span style=\"color: #008080; text-decoration-color: #008080; font-weight: bold\">0</span>, <span style=\"color: #008080; text-decoration-color: #008080; font-weight: bold\">0</span>, <span style=\"color: #008080; text-decoration-color: #008080; font-weight: bold\">0</span>,\n",
       "       <span style=\"color: #008080; text-decoration-color: #008080; font-weight: bold\">0</span>, <span style=\"color: #008080; text-decoration-color: #008080; font-weight: bold\">0</span>, <span style=\"color: #008080; text-decoration-color: #008080; font-weight: bold\">0</span>, <span style=\"color: #008080; text-decoration-color: #008080; font-weight: bold\">0</span>, <span style=\"color: #008080; text-decoration-color: #008080; font-weight: bold\">7</span>, <span style=\"color: #008080; text-decoration-color: #008080; font-weight: bold\">0</span>, <span style=\"color: #008080; text-decoration-color: #008080; font-weight: bold\">0</span>, <span style=\"color: #008080; text-decoration-color: #008080; font-weight: bold\">7</span>, <span style=\"color: #008080; text-decoration-color: #008080; font-weight: bold\">0</span>, <span style=\"color: #008080; text-decoration-color: #008080; font-weight: bold\">0</span>, <span style=\"color: #008080; text-decoration-color: #008080; font-weight: bold\">0</span>, <span style=\"color: #008080; text-decoration-color: #008080; font-weight: bold\">0</span>, <span style=\"color: #008080; text-decoration-color: #008080; font-weight: bold\">0</span>, <span style=\"color: #008080; text-decoration-color: #008080; font-weight: bold\">0</span>, <span style=\"color: #008080; text-decoration-color: #008080; font-weight: bold\">0</span>, <span style=\"color: #008080; text-decoration-color: #008080; font-weight: bold\">0</span>, <span style=\"color: #008080; text-decoration-color: #008080; font-weight: bold\">0</span>, <span style=\"color: #008080; text-decoration-color: #008080; font-weight: bold\">0</span>, <span style=\"color: #008080; text-decoration-color: #008080; font-weight: bold\">7</span>, <span style=\"color: #008080; text-decoration-color: #008080; font-weight: bold\">0</span>, <span style=\"color: #008080; text-decoration-color: #008080; font-weight: bold\">0</span>, <span style=\"color: #008080; text-decoration-color: #008080; font-weight: bold\">7</span>,\n",
       "       <span style=\"color: #008080; text-decoration-color: #008080; font-weight: bold\">0</span>, <span style=\"color: #008080; text-decoration-color: #008080; font-weight: bold\">0</span>, <span style=\"color: #008080; text-decoration-color: #008080; font-weight: bold\">0</span>, <span style=\"color: #008080; text-decoration-color: #008080; font-weight: bold\">0</span>, <span style=\"color: #008080; text-decoration-color: #008080; font-weight: bold\">0</span>, <span style=\"color: #008080; text-decoration-color: #008080; font-weight: bold\">0</span>, <span style=\"color: #008080; text-decoration-color: #008080; font-weight: bold\">0</span>, <span style=\"color: #008080; text-decoration-color: #008080; font-weight: bold\">0</span>, <span style=\"color: #008080; text-decoration-color: #008080; font-weight: bold\">0</span>, <span style=\"color: #008080; text-decoration-color: #008080; font-weight: bold\">0</span>, <span style=\"color: #008080; text-decoration-color: #008080; font-weight: bold\">0</span>, <span style=\"color: #008080; text-decoration-color: #008080; font-weight: bold\">0</span>, <span style=\"color: #008080; text-decoration-color: #008080; font-weight: bold\">0</span>, <span style=\"color: #008080; text-decoration-color: #008080; font-weight: bold\">7</span>, <span style=\"color: #008080; text-decoration-color: #008080; font-weight: bold\">7</span>, <span style=\"color: #008080; text-decoration-color: #008080; font-weight: bold\">0</span>, <span style=\"color: #008080; text-decoration-color: #008080; font-weight: bold\">0</span>, <span style=\"color: #008080; text-decoration-color: #008080; font-weight: bold\">0</span>, <span style=\"color: #008080; text-decoration-color: #008080; font-weight: bold\">0</span>, <span style=\"color: #008080; text-decoration-color: #008080; font-weight: bold\">0</span>, <span style=\"color: #008080; text-decoration-color: #008080; font-weight: bold\">0</span>, <span style=\"color: #008080; text-decoration-color: #008080; font-weight: bold\">0</span>,\n",
       "       <span style=\"color: #008080; text-decoration-color: #008080; font-weight: bold\">0</span>, <span style=\"color: #008080; text-decoration-color: #008080; font-weight: bold\">0</span>, <span style=\"color: #008080; text-decoration-color: #008080; font-weight: bold\">0</span>, <span style=\"color: #008080; text-decoration-color: #008080; font-weight: bold\">0</span>, <span style=\"color: #008080; text-decoration-color: #008080; font-weight: bold\">0</span>, <span style=\"color: #008080; text-decoration-color: #008080; font-weight: bold\">0</span>, <span style=\"color: #008080; text-decoration-color: #008080; font-weight: bold\">0</span>, <span style=\"color: #008080; text-decoration-color: #008080; font-weight: bold\">0</span>, <span style=\"color: #008080; text-decoration-color: #008080; font-weight: bold\">0</span>, <span style=\"color: #008080; text-decoration-color: #008080; font-weight: bold\">7</span>, <span style=\"color: #008080; text-decoration-color: #008080; font-weight: bold\">0</span>, <span style=\"color: #008080; text-decoration-color: #008080; font-weight: bold\">0</span>, <span style=\"color: #008080; text-decoration-color: #008080; font-weight: bold\">0</span>, <span style=\"color: #008080; text-decoration-color: #008080; font-weight: bold\">0</span>, <span style=\"color: #008080; text-decoration-color: #008080; font-weight: bold\">0</span>, <span style=\"color: #008080; text-decoration-color: #008080; font-weight: bold\">0</span>, <span style=\"color: #008080; text-decoration-color: #008080; font-weight: bold\">0</span>, <span style=\"color: #008080; text-decoration-color: #008080; font-weight: bold\">0</span>, <span style=\"color: #008080; text-decoration-color: #008080; font-weight: bold\">0</span>, <span style=\"color: #008080; text-decoration-color: #008080; font-weight: bold\">0</span>, <span style=\"color: #008080; text-decoration-color: #008080; font-weight: bold\">0</span>, <span style=\"color: #008080; text-decoration-color: #008080; font-weight: bold\">7</span>,\n",
       "       <span style=\"color: #008080; text-decoration-color: #008080; font-weight: bold\">0</span>, <span style=\"color: #008080; text-decoration-color: #008080; font-weight: bold\">0</span>, <span style=\"color: #008080; text-decoration-color: #008080; font-weight: bold\">0</span>, <span style=\"color: #008080; text-decoration-color: #008080; font-weight: bold\">0</span>, <span style=\"color: #008080; text-decoration-color: #008080; font-weight: bold\">0</span>, <span style=\"color: #008080; text-decoration-color: #008080; font-weight: bold\">0</span>, <span style=\"color: #008080; text-decoration-color: #008080; font-weight: bold\">0</span>, <span style=\"color: #008080; text-decoration-color: #008080; font-weight: bold\">0</span>, <span style=\"color: #008080; text-decoration-color: #008080; font-weight: bold\">0</span>, <span style=\"color: #008080; text-decoration-color: #008080; font-weight: bold\">0</span>, <span style=\"color: #008080; text-decoration-color: #008080; font-weight: bold\">7</span>, <span style=\"color: #008080; text-decoration-color: #008080; font-weight: bold\">0</span>, <span style=\"color: #008080; text-decoration-color: #008080; font-weight: bold\">0</span>, <span style=\"color: #008080; text-decoration-color: #008080; font-weight: bold\">0</span>, <span style=\"color: #008080; text-decoration-color: #008080; font-weight: bold\">0</span>, <span style=\"color: #008080; text-decoration-color: #008080; font-weight: bold\">0</span>, <span style=\"color: #008080; text-decoration-color: #008080; font-weight: bold\">0</span>, <span style=\"color: #008080; text-decoration-color: #008080; font-weight: bold\">7</span>, <span style=\"color: #008080; text-decoration-color: #008080; font-weight: bold\">0</span>, <span style=\"color: #008080; text-decoration-color: #008080; font-weight: bold\">0</span>, <span style=\"color: #008080; text-decoration-color: #008080; font-weight: bold\">0</span>, <span style=\"color: #008080; text-decoration-color: #008080; font-weight: bold\">0</span>,\n",
       "       <span style=\"color: #008080; text-decoration-color: #008080; font-weight: bold\">0</span>, <span style=\"color: #008080; text-decoration-color: #008080; font-weight: bold\">0</span>, <span style=\"color: #008080; text-decoration-color: #008080; font-weight: bold\">0</span>, <span style=\"color: #008080; text-decoration-color: #008080; font-weight: bold\">0</span>, <span style=\"color: #008080; text-decoration-color: #008080; font-weight: bold\">7</span>, <span style=\"color: #008080; text-decoration-color: #008080; font-weight: bold\">0</span>, <span style=\"color: #008080; text-decoration-color: #008080; font-weight: bold\">0</span>, <span style=\"color: #008080; text-decoration-color: #008080; font-weight: bold\">0</span>, <span style=\"color: #008080; text-decoration-color: #008080; font-weight: bold\">0</span>, <span style=\"color: #008080; text-decoration-color: #008080; font-weight: bold\">0</span>, <span style=\"color: #008080; text-decoration-color: #008080; font-weight: bold\">0</span>, <span style=\"color: #008080; text-decoration-color: #008080; font-weight: bold\">0</span>, <span style=\"color: #008080; text-decoration-color: #008080; font-weight: bold\">0</span>, <span style=\"color: #008080; text-decoration-color: #008080; font-weight: bold\">7</span>, <span style=\"color: #008080; text-decoration-color: #008080; font-weight: bold\">0</span>, <span style=\"color: #008080; text-decoration-color: #008080; font-weight: bold\">0</span>, <span style=\"color: #008080; text-decoration-color: #008080; font-weight: bold\">0</span>, <span style=\"color: #008080; text-decoration-color: #008080; font-weight: bold\">0</span>, <span style=\"color: #008080; text-decoration-color: #008080; font-weight: bold\">0</span>, <span style=\"color: #008080; text-decoration-color: #008080; font-weight: bold\">0</span>, <span style=\"color: #008080; text-decoration-color: #008080; font-weight: bold\">0</span>, <span style=\"color: #008080; text-decoration-color: #008080; font-weight: bold\">0</span>,\n",
       "       <span style=\"color: #008080; text-decoration-color: #008080; font-weight: bold\">0</span>, <span style=\"color: #008080; text-decoration-color: #008080; font-weight: bold\">0</span>, <span style=\"color: #008080; text-decoration-color: #008080; font-weight: bold\">0</span>, <span style=\"color: #008080; text-decoration-color: #008080; font-weight: bold\">0</span>, <span style=\"color: #008080; text-decoration-color: #008080; font-weight: bold\">0</span>, <span style=\"color: #008080; text-decoration-color: #008080; font-weight: bold\">0</span>, <span style=\"color: #008080; text-decoration-color: #008080; font-weight: bold\">0</span>, <span style=\"color: #008080; text-decoration-color: #008080; font-weight: bold\">0</span>, <span style=\"color: #008080; text-decoration-color: #008080; font-weight: bold\">0</span>, <span style=\"color: #008080; text-decoration-color: #008080; font-weight: bold\">0</span>, <span style=\"color: #008080; text-decoration-color: #008080; font-weight: bold\">0</span>, <span style=\"color: #008080; text-decoration-color: #008080; font-weight: bold\">0</span>, <span style=\"color: #008080; text-decoration-color: #008080; font-weight: bold\">0</span>, <span style=\"color: #008080; text-decoration-color: #008080; font-weight: bold\">0</span>, <span style=\"color: #008080; text-decoration-color: #008080; font-weight: bold\">0</span>, <span style=\"color: #008080; text-decoration-color: #008080; font-weight: bold\">0</span>, <span style=\"color: #008080; text-decoration-color: #008080; font-weight: bold\">0</span>, <span style=\"color: #008080; text-decoration-color: #008080; font-weight: bold\">0</span>, <span style=\"color: #008080; text-decoration-color: #008080; font-weight: bold\">0</span>, <span style=\"color: #008080; text-decoration-color: #008080; font-weight: bold\">0</span>, <span style=\"color: #008080; text-decoration-color: #008080; font-weight: bold\">0</span>, <span style=\"color: #008080; text-decoration-color: #008080; font-weight: bold\">0</span>,\n",
       "       <span style=\"color: #008080; text-decoration-color: #008080; font-weight: bold\">0</span>, <span style=\"color: #008080; text-decoration-color: #008080; font-weight: bold\">0</span>, <span style=\"color: #008080; text-decoration-color: #008080; font-weight: bold\">7</span>, <span style=\"color: #008080; text-decoration-color: #008080; font-weight: bold\">0</span>, <span style=\"color: #008080; text-decoration-color: #008080; font-weight: bold\">0</span>, <span style=\"color: #008080; text-decoration-color: #008080; font-weight: bold\">0</span>, <span style=\"color: #008080; text-decoration-color: #008080; font-weight: bold\">0</span>, <span style=\"color: #008080; text-decoration-color: #008080; font-weight: bold\">0</span>, <span style=\"color: #008080; text-decoration-color: #008080; font-weight: bold\">0</span>, <span style=\"color: #008080; text-decoration-color: #008080; font-weight: bold\">0</span>, <span style=\"color: #008080; text-decoration-color: #008080; font-weight: bold\">0</span>, <span style=\"color: #008080; text-decoration-color: #008080; font-weight: bold\">0</span>, <span style=\"color: #008080; text-decoration-color: #008080; font-weight: bold\">0</span>, <span style=\"color: #008080; text-decoration-color: #008080; font-weight: bold\">0</span>, <span style=\"color: #008080; text-decoration-color: #008080; font-weight: bold\">0</span>, <span style=\"color: #008080; text-decoration-color: #008080; font-weight: bold\">0</span>, <span style=\"color: #008080; text-decoration-color: #008080; font-weight: bold\">0</span>, <span style=\"color: #008080; text-decoration-color: #008080; font-weight: bold\">0</span>, <span style=\"color: #008080; text-decoration-color: #008080; font-weight: bold\">0</span>, <span style=\"color: #008080; text-decoration-color: #008080; font-weight: bold\">0</span>, <span style=\"color: #008080; text-decoration-color: #008080; font-weight: bold\">7</span>, <span style=\"color: #008080; text-decoration-color: #008080; font-weight: bold\">0</span>,\n",
       "       <span style=\"color: #008080; text-decoration-color: #008080; font-weight: bold\">0</span>, <span style=\"color: #008080; text-decoration-color: #008080; font-weight: bold\">7</span>, <span style=\"color: #008080; text-decoration-color: #008080; font-weight: bold\">0</span>, <span style=\"color: #008080; text-decoration-color: #008080; font-weight: bold\">0</span>, <span style=\"color: #008080; text-decoration-color: #008080; font-weight: bold\">0</span>, <span style=\"color: #008080; text-decoration-color: #008080; font-weight: bold\">0</span>, <span style=\"color: #008080; text-decoration-color: #008080; font-weight: bold\">0</span>, <span style=\"color: #008080; text-decoration-color: #008080; font-weight: bold\">0</span>, <span style=\"color: #008080; text-decoration-color: #008080; font-weight: bold\">0</span>, <span style=\"color: #008080; text-decoration-color: #008080; font-weight: bold\">0</span>, <span style=\"color: #008080; text-decoration-color: #008080; font-weight: bold\">0</span>, <span style=\"color: #008080; text-decoration-color: #008080; font-weight: bold\">0</span>, <span style=\"color: #008080; text-decoration-color: #008080; font-weight: bold\">0</span>, <span style=\"color: #008080; text-decoration-color: #008080; font-weight: bold\">0</span>, <span style=\"color: #008080; text-decoration-color: #008080; font-weight: bold\">0</span>, <span style=\"color: #008080; text-decoration-color: #008080; font-weight: bold\">0</span>, <span style=\"color: #008080; text-decoration-color: #008080; font-weight: bold\">0</span>, <span style=\"color: #008080; text-decoration-color: #008080; font-weight: bold\">0</span>, <span style=\"color: #008080; text-decoration-color: #008080; font-weight: bold\">0</span>, <span style=\"color: #008080; text-decoration-color: #008080; font-weight: bold\">0</span>, <span style=\"color: #008080; text-decoration-color: #008080; font-weight: bold\">0</span>, <span style=\"color: #008080; text-decoration-color: #008080; font-weight: bold\">0</span>,\n",
       "       <span style=\"color: #008080; text-decoration-color: #008080; font-weight: bold\">0</span>, <span style=\"color: #008080; text-decoration-color: #008080; font-weight: bold\">0</span>, <span style=\"color: #008080; text-decoration-color: #008080; font-weight: bold\">0</span>, <span style=\"color: #008080; text-decoration-color: #008080; font-weight: bold\">7</span>, <span style=\"color: #008080; text-decoration-color: #008080; font-weight: bold\">0</span>, <span style=\"color: #008080; text-decoration-color: #008080; font-weight: bold\">0</span>, <span style=\"color: #008080; text-decoration-color: #008080; font-weight: bold\">0</span>, <span style=\"color: #008080; text-decoration-color: #008080; font-weight: bold\">0</span>, <span style=\"color: #008080; text-decoration-color: #008080; font-weight: bold\">0</span>, <span style=\"color: #008080; text-decoration-color: #008080; font-weight: bold\">0</span>, <span style=\"color: #008080; text-decoration-color: #008080; font-weight: bold\">0</span>, <span style=\"color: #008080; text-decoration-color: #008080; font-weight: bold\">0</span>, <span style=\"color: #008080; text-decoration-color: #008080; font-weight: bold\">0</span>, <span style=\"color: #008080; text-decoration-color: #008080; font-weight: bold\">0</span>, <span style=\"color: #008080; text-decoration-color: #008080; font-weight: bold\">0</span>, <span style=\"color: #008080; text-decoration-color: #008080; font-weight: bold\">0</span>, <span style=\"color: #008080; text-decoration-color: #008080; font-weight: bold\">0</span>, <span style=\"color: #008080; text-decoration-color: #008080; font-weight: bold\">0</span>, <span style=\"color: #008080; text-decoration-color: #008080; font-weight: bold\">0</span>, <span style=\"color: #008080; text-decoration-color: #008080; font-weight: bold\">0</span>, <span style=\"color: #008080; text-decoration-color: #008080; font-weight: bold\">0</span>, <span style=\"color: #008080; text-decoration-color: #008080; font-weight: bold\">0</span>,\n",
       "       <span style=\"color: #008080; text-decoration-color: #008080; font-weight: bold\">0</span>, <span style=\"color: #008080; text-decoration-color: #008080; font-weight: bold\">0</span>, <span style=\"color: #008080; text-decoration-color: #008080; font-weight: bold\">0</span>, <span style=\"color: #008080; text-decoration-color: #008080; font-weight: bold\">0</span>, <span style=\"color: #008080; text-decoration-color: #008080; font-weight: bold\">0</span>, <span style=\"color: #008080; text-decoration-color: #008080; font-weight: bold\">0</span>, <span style=\"color: #008080; text-decoration-color: #008080; font-weight: bold\">0</span>, <span style=\"color: #008080; text-decoration-color: #008080; font-weight: bold\">0</span>, <span style=\"color: #008080; text-decoration-color: #008080; font-weight: bold\">0</span>, <span style=\"color: #008080; text-decoration-color: #008080; font-weight: bold\">0</span>, <span style=\"color: #008080; text-decoration-color: #008080; font-weight: bold\">0</span>, <span style=\"color: #008080; text-decoration-color: #008080; font-weight: bold\">0</span>, <span style=\"color: #008080; text-decoration-color: #008080; font-weight: bold\">0</span>, <span style=\"color: #008080; text-decoration-color: #008080; font-weight: bold\">0</span>, <span style=\"color: #008080; text-decoration-color: #008080; font-weight: bold\">0</span>, <span style=\"color: #008080; text-decoration-color: #008080; font-weight: bold\">0</span>, <span style=\"color: #008080; text-decoration-color: #008080; font-weight: bold\">0</span>, <span style=\"color: #008080; text-decoration-color: #008080; font-weight: bold\">0</span>, <span style=\"color: #008080; text-decoration-color: #008080; font-weight: bold\">0</span>, <span style=\"color: #008080; text-decoration-color: #008080; font-weight: bold\">0</span>, <span style=\"color: #008080; text-decoration-color: #008080; font-weight: bold\">0</span>, <span style=\"color: #008080; text-decoration-color: #008080; font-weight: bold\">0</span>,\n",
       "       <span style=\"color: #008080; text-decoration-color: #008080; font-weight: bold\">0</span>, <span style=\"color: #008080; text-decoration-color: #008080; font-weight: bold\">0</span>, <span style=\"color: #008080; text-decoration-color: #008080; font-weight: bold\">0</span>, <span style=\"color: #008080; text-decoration-color: #008080; font-weight: bold\">0</span>, <span style=\"color: #008080; text-decoration-color: #008080; font-weight: bold\">0</span>, <span style=\"color: #008080; text-decoration-color: #008080; font-weight: bold\">0</span>, <span style=\"color: #008080; text-decoration-color: #008080; font-weight: bold\">0</span>, <span style=\"color: #008080; text-decoration-color: #008080; font-weight: bold\">0</span>, <span style=\"color: #008080; text-decoration-color: #008080; font-weight: bold\">0</span>, <span style=\"color: #008080; text-decoration-color: #008080; font-weight: bold\">0</span>, <span style=\"color: #008080; text-decoration-color: #008080; font-weight: bold\">0</span>, <span style=\"color: #008080; text-decoration-color: #008080; font-weight: bold\">0</span>, <span style=\"color: #008080; text-decoration-color: #008080; font-weight: bold\">0</span>, <span style=\"color: #008080; text-decoration-color: #008080; font-weight: bold\">0</span>, <span style=\"color: #008080; text-decoration-color: #008080; font-weight: bold\">0</span>, <span style=\"color: #008080; text-decoration-color: #008080; font-weight: bold\">0</span>, <span style=\"color: #008080; text-decoration-color: #008080; font-weight: bold\">0</span>, <span style=\"color: #008080; text-decoration-color: #008080; font-weight: bold\">0</span>, <span style=\"color: #008080; text-decoration-color: #008080; font-weight: bold\">0</span>, <span style=\"color: #008080; text-decoration-color: #008080; font-weight: bold\">0</span>, <span style=\"color: #008080; text-decoration-color: #008080; font-weight: bold\">0</span>, <span style=\"color: #008080; text-decoration-color: #008080; font-weight: bold\">0</span>,\n",
       "       <span style=\"color: #008080; text-decoration-color: #008080; font-weight: bold\">0</span>, <span style=\"color: #008080; text-decoration-color: #008080; font-weight: bold\">0</span>, <span style=\"color: #008080; text-decoration-color: #008080; font-weight: bold\">0</span>, <span style=\"color: #008080; text-decoration-color: #008080; font-weight: bold\">0</span>, <span style=\"color: #008080; text-decoration-color: #008080; font-weight: bold\">0</span>, <span style=\"color: #008080; text-decoration-color: #008080; font-weight: bold\">0</span>, <span style=\"color: #008080; text-decoration-color: #008080; font-weight: bold\">0</span>, <span style=\"color: #008080; text-decoration-color: #008080; font-weight: bold\">0</span>, <span style=\"color: #008080; text-decoration-color: #008080; font-weight: bold\">0</span>, <span style=\"color: #008080; text-decoration-color: #008080; font-weight: bold\">0</span>, <span style=\"color: #008080; text-decoration-color: #008080; font-weight: bold\">0</span>, <span style=\"color: #008080; text-decoration-color: #008080; font-weight: bold\">0</span>, <span style=\"color: #008080; text-decoration-color: #008080; font-weight: bold\">0</span>, <span style=\"color: #008080; text-decoration-color: #008080; font-weight: bold\">0</span>, <span style=\"color: #008080; text-decoration-color: #008080; font-weight: bold\">0</span>, <span style=\"color: #008080; text-decoration-color: #008080; font-weight: bold\">0</span>, <span style=\"color: #008080; text-decoration-color: #008080; font-weight: bold\">0</span>, <span style=\"color: #008080; text-decoration-color: #008080; font-weight: bold\">0</span>, <span style=\"color: #008080; text-decoration-color: #008080; font-weight: bold\">0</span>, <span style=\"color: #008080; text-decoration-color: #008080; font-weight: bold\">0</span>, <span style=\"color: #008080; text-decoration-color: #008080; font-weight: bold\">0</span>, <span style=\"color: #008080; text-decoration-color: #008080; font-weight: bold\">0</span>,\n",
       "       <span style=\"color: #008080; text-decoration-color: #008080; font-weight: bold\">0</span>, <span style=\"color: #008080; text-decoration-color: #008080; font-weight: bold\">0</span>, <span style=\"color: #008080; text-decoration-color: #008080; font-weight: bold\">0</span>, <span style=\"color: #008080; text-decoration-color: #008080; font-weight: bold\">0</span>, <span style=\"color: #008080; text-decoration-color: #008080; font-weight: bold\">0</span>, <span style=\"color: #008080; text-decoration-color: #008080; font-weight: bold\">0</span>, <span style=\"color: #008080; text-decoration-color: #008080; font-weight: bold\">0</span>, <span style=\"color: #008080; text-decoration-color: #008080; font-weight: bold\">0</span>, <span style=\"color: #008080; text-decoration-color: #008080; font-weight: bold\">0</span>, <span style=\"color: #008080; text-decoration-color: #008080; font-weight: bold\">0</span>, <span style=\"color: #008080; text-decoration-color: #008080; font-weight: bold\">0</span>, <span style=\"color: #008080; text-decoration-color: #008080; font-weight: bold\">0</span>, <span style=\"color: #008080; text-decoration-color: #008080; font-weight: bold\">0</span>, <span style=\"color: #008080; text-decoration-color: #008080; font-weight: bold\">0</span>, <span style=\"color: #008080; text-decoration-color: #008080; font-weight: bold\">0</span>, <span style=\"color: #008080; text-decoration-color: #008080; font-weight: bold\">0</span>, <span style=\"color: #008080; text-decoration-color: #008080; font-weight: bold\">0</span>, <span style=\"color: #008080; text-decoration-color: #008080; font-weight: bold\">0</span>, <span style=\"color: #008080; text-decoration-color: #008080; font-weight: bold\">0</span>, <span style=\"color: #008080; text-decoration-color: #008080; font-weight: bold\">0</span>, <span style=\"color: #008080; text-decoration-color: #008080; font-weight: bold\">0</span>, <span style=\"color: #008080; text-decoration-color: #008080; font-weight: bold\">0</span>,\n",
       "       <span style=\"color: #008080; text-decoration-color: #008080; font-weight: bold\">0</span>, <span style=\"color: #008080; text-decoration-color: #008080; font-weight: bold\">0</span>, <span style=\"color: #008080; text-decoration-color: #008080; font-weight: bold\">0</span>, <span style=\"color: #008080; text-decoration-color: #008080; font-weight: bold\">0</span>, <span style=\"color: #008080; text-decoration-color: #008080; font-weight: bold\">0</span>, <span style=\"color: #008080; text-decoration-color: #008080; font-weight: bold\">0</span>, <span style=\"color: #008080; text-decoration-color: #008080; font-weight: bold\">0</span>, <span style=\"color: #008080; text-decoration-color: #008080; font-weight: bold\">0</span>, <span style=\"color: #008080; text-decoration-color: #008080; font-weight: bold\">0</span>, <span style=\"color: #008080; text-decoration-color: #008080; font-weight: bold\">0</span>, <span style=\"color: #008080; text-decoration-color: #008080; font-weight: bold\">0</span>, <span style=\"color: #008080; text-decoration-color: #008080; font-weight: bold\">0</span>, <span style=\"color: #008080; text-decoration-color: #008080; font-weight: bold\">0</span>, <span style=\"color: #008080; text-decoration-color: #008080; font-weight: bold\">0</span>, <span style=\"color: #008080; text-decoration-color: #008080; font-weight: bold\">0</span>, <span style=\"color: #008080; text-decoration-color: #008080; font-weight: bold\">0</span>, <span style=\"color: #008080; text-decoration-color: #008080; font-weight: bold\">0</span>, <span style=\"color: #008080; text-decoration-color: #008080; font-weight: bold\">0</span>, <span style=\"color: #008080; text-decoration-color: #008080; font-weight: bold\">0</span>, <span style=\"color: #008080; text-decoration-color: #008080; font-weight: bold\">0</span>, <span style=\"color: #008080; text-decoration-color: #008080; font-weight: bold\">0</span>, <span style=\"color: #008080; text-decoration-color: #008080; font-weight: bold\">0</span>,\n",
       "       <span style=\"color: #008080; text-decoration-color: #008080; font-weight: bold\">0</span>, <span style=\"color: #008080; text-decoration-color: #008080; font-weight: bold\">0</span>, <span style=\"color: #008080; text-decoration-color: #008080; font-weight: bold\">0</span>, <span style=\"color: #008080; text-decoration-color: #008080; font-weight: bold\">0</span>, <span style=\"color: #008080; text-decoration-color: #008080; font-weight: bold\">0</span>, <span style=\"color: #008080; text-decoration-color: #008080; font-weight: bold\">0</span>, <span style=\"color: #008080; text-decoration-color: #008080; font-weight: bold\">0</span>, <span style=\"color: #008080; text-decoration-color: #008080; font-weight: bold\">0</span>, <span style=\"color: #008080; text-decoration-color: #008080; font-weight: bold\">0</span>, <span style=\"color: #008080; text-decoration-color: #008080; font-weight: bold\">0</span>, <span style=\"color: #008080; text-decoration-color: #008080; font-weight: bold\">0</span>, <span style=\"color: #008080; text-decoration-color: #008080; font-weight: bold\">0</span>, <span style=\"color: #008080; text-decoration-color: #008080; font-weight: bold\">0</span>, <span style=\"color: #008080; text-decoration-color: #008080; font-weight: bold\">0</span>, <span style=\"color: #008080; text-decoration-color: #008080; font-weight: bold\">0</span>, <span style=\"color: #008080; text-decoration-color: #008080; font-weight: bold\">0</span>, <span style=\"color: #008080; text-decoration-color: #008080; font-weight: bold\">0</span>, <span style=\"color: #008080; text-decoration-color: #008080; font-weight: bold\">0</span>, <span style=\"color: #008080; text-decoration-color: #008080; font-weight: bold\">0</span>, <span style=\"color: #008080; text-decoration-color: #008080; font-weight: bold\">0</span>, <span style=\"color: #008080; text-decoration-color: #008080; font-weight: bold\">0</span>, <span style=\"color: #008080; text-decoration-color: #008080; font-weight: bold\">0</span>,\n",
       "       <span style=\"color: #008080; text-decoration-color: #008080; font-weight: bold\">0</span>, <span style=\"color: #008080; text-decoration-color: #008080; font-weight: bold\">0</span>, <span style=\"color: #008080; text-decoration-color: #008080; font-weight: bold\">0</span>, <span style=\"color: #008080; text-decoration-color: #008080; font-weight: bold\">0</span>, <span style=\"color: #008080; text-decoration-color: #008080; font-weight: bold\">0</span>, <span style=\"color: #008080; text-decoration-color: #008080; font-weight: bold\">0</span>, <span style=\"color: #008080; text-decoration-color: #008080; font-weight: bold\">0</span>, <span style=\"color: #008080; text-decoration-color: #008080; font-weight: bold\">0</span>, <span style=\"color: #008080; text-decoration-color: #008080; font-weight: bold\">0</span>, <span style=\"color: #008080; text-decoration-color: #008080; font-weight: bold\">0</span>, <span style=\"color: #008080; text-decoration-color: #008080; font-weight: bold\">0</span>, <span style=\"color: #008080; text-decoration-color: #008080; font-weight: bold\">0</span>, <span style=\"color: #008080; text-decoration-color: #008080; font-weight: bold\">0</span>, <span style=\"color: #008080; text-decoration-color: #008080; font-weight: bold\">0</span>, <span style=\"color: #008080; text-decoration-color: #008080; font-weight: bold\">0</span>, <span style=\"color: #008080; text-decoration-color: #008080; font-weight: bold\">0</span>, <span style=\"color: #008080; text-decoration-color: #008080; font-weight: bold\">0</span>, <span style=\"color: #008080; text-decoration-color: #008080; font-weight: bold\">0</span>, <span style=\"color: #008080; text-decoration-color: #008080; font-weight: bold\">0</span>, <span style=\"color: #008080; text-decoration-color: #008080; font-weight: bold\">0</span>, <span style=\"color: #008080; text-decoration-color: #008080; font-weight: bold\">0</span>, <span style=\"color: #008080; text-decoration-color: #008080; font-weight: bold\">0</span>,\n",
       "       <span style=\"color: #008080; text-decoration-color: #008080; font-weight: bold\">0</span>, <span style=\"color: #008080; text-decoration-color: #008080; font-weight: bold\">0</span>, <span style=\"color: #008080; text-decoration-color: #008080; font-weight: bold\">0</span>, <span style=\"color: #008080; text-decoration-color: #008080; font-weight: bold\">0</span>, <span style=\"color: #008080; text-decoration-color: #008080; font-weight: bold\">0</span>, <span style=\"color: #008080; text-decoration-color: #008080; font-weight: bold\">0</span>, <span style=\"color: #008080; text-decoration-color: #008080; font-weight: bold\">0</span>, <span style=\"color: #008080; text-decoration-color: #008080; font-weight: bold\">0</span>, <span style=\"color: #008080; text-decoration-color: #008080; font-weight: bold\">0</span>, <span style=\"color: #008080; text-decoration-color: #008080; font-weight: bold\">0</span>, <span style=\"color: #008080; text-decoration-color: #008080; font-weight: bold\">0</span>, <span style=\"color: #008080; text-decoration-color: #008080; font-weight: bold\">0</span>, <span style=\"color: #008080; text-decoration-color: #008080; font-weight: bold\">0</span>, <span style=\"color: #008080; text-decoration-color: #008080; font-weight: bold\">0</span>, <span style=\"color: #008080; text-decoration-color: #008080; font-weight: bold\">0</span>, <span style=\"color: #008080; text-decoration-color: #008080; font-weight: bold\">0</span>, <span style=\"color: #008080; text-decoration-color: #008080; font-weight: bold\">0</span>, <span style=\"color: #008080; text-decoration-color: #008080; font-weight: bold\">0</span>, <span style=\"color: #008080; text-decoration-color: #008080; font-weight: bold\">0</span>, <span style=\"color: #008080; text-decoration-color: #008080; font-weight: bold\">0</span>, <span style=\"color: #008080; text-decoration-color: #008080; font-weight: bold\">0</span>, <span style=\"color: #008080; text-decoration-color: #008080; font-weight: bold\">0</span>,\n",
       "       <span style=\"color: #008080; text-decoration-color: #008080; font-weight: bold\">0</span>, <span style=\"color: #008080; text-decoration-color: #008080; font-weight: bold\">0</span>, <span style=\"color: #008080; text-decoration-color: #008080; font-weight: bold\">0</span>, <span style=\"color: #008080; text-decoration-color: #008080; font-weight: bold\">0</span>, <span style=\"color: #008080; text-decoration-color: #008080; font-weight: bold\">0</span>, <span style=\"color: #008080; text-decoration-color: #008080; font-weight: bold\">0</span>, <span style=\"color: #008080; text-decoration-color: #008080; font-weight: bold\">0</span>, <span style=\"color: #008080; text-decoration-color: #008080; font-weight: bold\">0</span>, <span style=\"color: #008080; text-decoration-color: #008080; font-weight: bold\">0</span>, <span style=\"color: #008080; text-decoration-color: #008080; font-weight: bold\">0</span>, <span style=\"color: #008080; text-decoration-color: #008080; font-weight: bold\">0</span>, <span style=\"color: #008080; text-decoration-color: #008080; font-weight: bold\">0</span>, <span style=\"color: #008080; text-decoration-color: #008080; font-weight: bold\">0</span>, <span style=\"color: #008080; text-decoration-color: #008080; font-weight: bold\">0</span>, <span style=\"color: #008080; text-decoration-color: #008080; font-weight: bold\">0</span>, <span style=\"color: #008080; text-decoration-color: #008080; font-weight: bold\">0</span>, <span style=\"color: #008080; text-decoration-color: #008080; font-weight: bold\">0</span>, <span style=\"color: #008080; text-decoration-color: #008080; font-weight: bold\">0</span>, <span style=\"color: #008080; text-decoration-color: #008080; font-weight: bold\">0</span>, <span style=\"color: #008080; text-decoration-color: #008080; font-weight: bold\">0</span>, <span style=\"color: #008080; text-decoration-color: #008080; font-weight: bold\">0</span>, <span style=\"color: #008080; text-decoration-color: #008080; font-weight: bold\">0</span>,\n",
       "       <span style=\"color: #008080; text-decoration-color: #008080; font-weight: bold\">0</span>, <span style=\"color: #008080; text-decoration-color: #008080; font-weight: bold\">0</span>, <span style=\"color: #008080; text-decoration-color: #008080; font-weight: bold\">0</span>, <span style=\"color: #008080; text-decoration-color: #008080; font-weight: bold\">0</span>, <span style=\"color: #008080; text-decoration-color: #008080; font-weight: bold\">0</span>, <span style=\"color: #008080; text-decoration-color: #008080; font-weight: bold\">0</span>, <span style=\"color: #008080; text-decoration-color: #008080; font-weight: bold\">0</span>, <span style=\"color: #008080; text-decoration-color: #008080; font-weight: bold\">0</span>, <span style=\"color: #008080; text-decoration-color: #008080; font-weight: bold\">0</span>, <span style=\"color: #008080; text-decoration-color: #008080; font-weight: bold\">7</span>, <span style=\"color: #008080; text-decoration-color: #008080; font-weight: bold\">0</span>, <span style=\"color: #008080; text-decoration-color: #008080; font-weight: bold\">0</span>, <span style=\"color: #008080; text-decoration-color: #008080; font-weight: bold\">0</span>, <span style=\"color: #008080; text-decoration-color: #008080; font-weight: bold\">0</span>, <span style=\"color: #008080; text-decoration-color: #008080; font-weight: bold\">0</span>, <span style=\"color: #008080; text-decoration-color: #008080; font-weight: bold\">0</span>, <span style=\"color: #008080; text-decoration-color: #008080; font-weight: bold\">0</span>, <span style=\"color: #008080; text-decoration-color: #008080; font-weight: bold\">7</span>, <span style=\"color: #008080; text-decoration-color: #008080; font-weight: bold\">0</span>, <span style=\"color: #008080; text-decoration-color: #008080; font-weight: bold\">0</span>, <span style=\"color: #008080; text-decoration-color: #008080; font-weight: bold\">7</span>, <span style=\"color: #008080; text-decoration-color: #008080; font-weight: bold\">0</span>,\n",
       "       <span style=\"color: #008080; text-decoration-color: #008080; font-weight: bold\">7</span><span style=\"font-weight: bold\">])</span>\n",
       "</pre>\n"
      ],
      "text/plain": [
       "\n",
       "\u001b[1;35marray\u001b[0m\u001b[1m(\u001b[0m\u001b[1m[\u001b[0m\u001b[1;36m7\u001b[0m, \u001b[1;36m0\u001b[0m, \u001b[1;36m7\u001b[0m, \u001b[1;36m0\u001b[0m, \u001b[1;36m7\u001b[0m, \u001b[1;36m7\u001b[0m, \u001b[1;36m0\u001b[0m, \u001b[1;36m0\u001b[0m, \u001b[1;36m0\u001b[0m, \u001b[1;36m0\u001b[0m, \u001b[1;36m7\u001b[0m, \u001b[1;36m7\u001b[0m, \u001b[1;36m0\u001b[0m, \u001b[1;36m0\u001b[0m, \u001b[1;36m0\u001b[0m, \u001b[1;36m0\u001b[0m, \u001b[1;36m0\u001b[0m, \u001b[1;36m0\u001b[0m, \u001b[1;36m0\u001b[0m, \u001b[1;36m7\u001b[0m, \u001b[1;36m0\u001b[0m, \u001b[1;36m0\u001b[0m,\n",
       "       \u001b[1;36m0\u001b[0m, \u001b[1;36m0\u001b[0m, \u001b[1;36m0\u001b[0m, \u001b[1;36m0\u001b[0m, \u001b[1;36m7\u001b[0m, \u001b[1;36m0\u001b[0m, \u001b[1;36m0\u001b[0m, \u001b[1;36m0\u001b[0m, \u001b[1;36m0\u001b[0m, \u001b[1;36m0\u001b[0m, \u001b[1;36m0\u001b[0m, \u001b[1;36m0\u001b[0m, \u001b[1;36m0\u001b[0m, \u001b[1;36m0\u001b[0m, \u001b[1;36m0\u001b[0m, \u001b[1;36m0\u001b[0m, \u001b[1;36m0\u001b[0m, \u001b[1;36m0\u001b[0m, \u001b[1;36m7\u001b[0m, \u001b[1;36m0\u001b[0m, \u001b[1;36m0\u001b[0m, \u001b[1;36m0\u001b[0m,\n",
       "       \u001b[1;36m0\u001b[0m, \u001b[1;36m0\u001b[0m, \u001b[1;36m0\u001b[0m, \u001b[1;36m0\u001b[0m, \u001b[1;36m0\u001b[0m, \u001b[1;36m0\u001b[0m, \u001b[1;36m0\u001b[0m, \u001b[1;36m0\u001b[0m, \u001b[1;36m0\u001b[0m, \u001b[1;36m7\u001b[0m, \u001b[1;36m0\u001b[0m, \u001b[1;36m0\u001b[0m, \u001b[1;36m0\u001b[0m, \u001b[1;36m7\u001b[0m, \u001b[1;36m0\u001b[0m, \u001b[1;36m0\u001b[0m, \u001b[1;36m0\u001b[0m, \u001b[1;36m0\u001b[0m, \u001b[1;36m0\u001b[0m, \u001b[1;36m0\u001b[0m, \u001b[1;36m0\u001b[0m, \u001b[1;36m0\u001b[0m,\n",
       "       \u001b[1;36m0\u001b[0m, \u001b[1;36m0\u001b[0m, \u001b[1;36m0\u001b[0m, \u001b[1;36m0\u001b[0m, \u001b[1;36m7\u001b[0m, \u001b[1;36m7\u001b[0m, \u001b[1;36m0\u001b[0m, \u001b[1;36m0\u001b[0m, \u001b[1;36m0\u001b[0m, \u001b[1;36m0\u001b[0m, \u001b[1;36m0\u001b[0m, \u001b[1;36m0\u001b[0m, \u001b[1;36m0\u001b[0m, \u001b[1;36m0\u001b[0m, \u001b[1;36m0\u001b[0m, \u001b[1;36m0\u001b[0m, \u001b[1;36m0\u001b[0m, \u001b[1;36m0\u001b[0m, \u001b[1;36m0\u001b[0m, \u001b[1;36m0\u001b[0m, \u001b[1;36m0\u001b[0m, \u001b[1;36m0\u001b[0m,\n",
       "       \u001b[1;36m0\u001b[0m, \u001b[1;36m0\u001b[0m, \u001b[1;36m0\u001b[0m, \u001b[1;36m0\u001b[0m, \u001b[1;36m0\u001b[0m, \u001b[1;36m0\u001b[0m, \u001b[1;36m0\u001b[0m, \u001b[1;36m0\u001b[0m, \u001b[1;36m0\u001b[0m, \u001b[1;36m0\u001b[0m, \u001b[1;36m0\u001b[0m, \u001b[1;36m0\u001b[0m, \u001b[1;36m0\u001b[0m, \u001b[1;36m0\u001b[0m, \u001b[1;36m7\u001b[0m, \u001b[1;36m0\u001b[0m, \u001b[1;36m0\u001b[0m, \u001b[1;36m0\u001b[0m, \u001b[1;36m0\u001b[0m, \u001b[1;36m0\u001b[0m, \u001b[1;36m0\u001b[0m, \u001b[1;36m0\u001b[0m,\n",
       "       \u001b[1;36m0\u001b[0m, \u001b[1;36m0\u001b[0m, \u001b[1;36m0\u001b[0m, \u001b[1;36m0\u001b[0m, \u001b[1;36m7\u001b[0m, \u001b[1;36m0\u001b[0m, \u001b[1;36m0\u001b[0m, \u001b[1;36m7\u001b[0m, \u001b[1;36m0\u001b[0m, \u001b[1;36m0\u001b[0m, \u001b[1;36m0\u001b[0m, \u001b[1;36m0\u001b[0m, \u001b[1;36m0\u001b[0m, \u001b[1;36m0\u001b[0m, \u001b[1;36m0\u001b[0m, \u001b[1;36m0\u001b[0m, \u001b[1;36m0\u001b[0m, \u001b[1;36m0\u001b[0m, \u001b[1;36m7\u001b[0m, \u001b[1;36m0\u001b[0m, \u001b[1;36m0\u001b[0m, \u001b[1;36m7\u001b[0m,\n",
       "       \u001b[1;36m0\u001b[0m, \u001b[1;36m0\u001b[0m, \u001b[1;36m0\u001b[0m, \u001b[1;36m0\u001b[0m, \u001b[1;36m0\u001b[0m, \u001b[1;36m0\u001b[0m, \u001b[1;36m0\u001b[0m, \u001b[1;36m0\u001b[0m, \u001b[1;36m0\u001b[0m, \u001b[1;36m0\u001b[0m, \u001b[1;36m0\u001b[0m, \u001b[1;36m0\u001b[0m, \u001b[1;36m0\u001b[0m, \u001b[1;36m7\u001b[0m, \u001b[1;36m7\u001b[0m, \u001b[1;36m0\u001b[0m, \u001b[1;36m0\u001b[0m, \u001b[1;36m0\u001b[0m, \u001b[1;36m0\u001b[0m, \u001b[1;36m0\u001b[0m, \u001b[1;36m0\u001b[0m, \u001b[1;36m0\u001b[0m,\n",
       "       \u001b[1;36m0\u001b[0m, \u001b[1;36m0\u001b[0m, \u001b[1;36m0\u001b[0m, \u001b[1;36m0\u001b[0m, \u001b[1;36m0\u001b[0m, \u001b[1;36m0\u001b[0m, \u001b[1;36m0\u001b[0m, \u001b[1;36m0\u001b[0m, \u001b[1;36m0\u001b[0m, \u001b[1;36m7\u001b[0m, \u001b[1;36m0\u001b[0m, \u001b[1;36m0\u001b[0m, \u001b[1;36m0\u001b[0m, \u001b[1;36m0\u001b[0m, \u001b[1;36m0\u001b[0m, \u001b[1;36m0\u001b[0m, \u001b[1;36m0\u001b[0m, \u001b[1;36m0\u001b[0m, \u001b[1;36m0\u001b[0m, \u001b[1;36m0\u001b[0m, \u001b[1;36m0\u001b[0m, \u001b[1;36m7\u001b[0m,\n",
       "       \u001b[1;36m0\u001b[0m, \u001b[1;36m0\u001b[0m, \u001b[1;36m0\u001b[0m, \u001b[1;36m0\u001b[0m, \u001b[1;36m0\u001b[0m, \u001b[1;36m0\u001b[0m, \u001b[1;36m0\u001b[0m, \u001b[1;36m0\u001b[0m, \u001b[1;36m0\u001b[0m, \u001b[1;36m0\u001b[0m, \u001b[1;36m7\u001b[0m, \u001b[1;36m0\u001b[0m, \u001b[1;36m0\u001b[0m, \u001b[1;36m0\u001b[0m, \u001b[1;36m0\u001b[0m, \u001b[1;36m0\u001b[0m, \u001b[1;36m0\u001b[0m, \u001b[1;36m7\u001b[0m, \u001b[1;36m0\u001b[0m, \u001b[1;36m0\u001b[0m, \u001b[1;36m0\u001b[0m, \u001b[1;36m0\u001b[0m,\n",
       "       \u001b[1;36m0\u001b[0m, \u001b[1;36m0\u001b[0m, \u001b[1;36m0\u001b[0m, \u001b[1;36m0\u001b[0m, \u001b[1;36m7\u001b[0m, \u001b[1;36m0\u001b[0m, \u001b[1;36m0\u001b[0m, \u001b[1;36m0\u001b[0m, \u001b[1;36m0\u001b[0m, \u001b[1;36m0\u001b[0m, \u001b[1;36m0\u001b[0m, \u001b[1;36m0\u001b[0m, \u001b[1;36m0\u001b[0m, \u001b[1;36m7\u001b[0m, \u001b[1;36m0\u001b[0m, \u001b[1;36m0\u001b[0m, \u001b[1;36m0\u001b[0m, \u001b[1;36m0\u001b[0m, \u001b[1;36m0\u001b[0m, \u001b[1;36m0\u001b[0m, \u001b[1;36m0\u001b[0m, \u001b[1;36m0\u001b[0m,\n",
       "       \u001b[1;36m0\u001b[0m, \u001b[1;36m0\u001b[0m, \u001b[1;36m0\u001b[0m, \u001b[1;36m0\u001b[0m, \u001b[1;36m0\u001b[0m, \u001b[1;36m0\u001b[0m, \u001b[1;36m0\u001b[0m, \u001b[1;36m0\u001b[0m, \u001b[1;36m0\u001b[0m, \u001b[1;36m0\u001b[0m, \u001b[1;36m0\u001b[0m, \u001b[1;36m0\u001b[0m, \u001b[1;36m0\u001b[0m, \u001b[1;36m0\u001b[0m, \u001b[1;36m0\u001b[0m, \u001b[1;36m0\u001b[0m, \u001b[1;36m0\u001b[0m, \u001b[1;36m0\u001b[0m, \u001b[1;36m0\u001b[0m, \u001b[1;36m0\u001b[0m, \u001b[1;36m0\u001b[0m, \u001b[1;36m0\u001b[0m,\n",
       "       \u001b[1;36m0\u001b[0m, \u001b[1;36m0\u001b[0m, \u001b[1;36m7\u001b[0m, \u001b[1;36m0\u001b[0m, \u001b[1;36m0\u001b[0m, \u001b[1;36m0\u001b[0m, \u001b[1;36m0\u001b[0m, \u001b[1;36m0\u001b[0m, \u001b[1;36m0\u001b[0m, \u001b[1;36m0\u001b[0m, \u001b[1;36m0\u001b[0m, \u001b[1;36m0\u001b[0m, \u001b[1;36m0\u001b[0m, \u001b[1;36m0\u001b[0m, \u001b[1;36m0\u001b[0m, \u001b[1;36m0\u001b[0m, \u001b[1;36m0\u001b[0m, \u001b[1;36m0\u001b[0m, \u001b[1;36m0\u001b[0m, \u001b[1;36m0\u001b[0m, \u001b[1;36m7\u001b[0m, \u001b[1;36m0\u001b[0m,\n",
       "       \u001b[1;36m0\u001b[0m, \u001b[1;36m7\u001b[0m, \u001b[1;36m0\u001b[0m, \u001b[1;36m0\u001b[0m, \u001b[1;36m0\u001b[0m, \u001b[1;36m0\u001b[0m, \u001b[1;36m0\u001b[0m, \u001b[1;36m0\u001b[0m, \u001b[1;36m0\u001b[0m, \u001b[1;36m0\u001b[0m, \u001b[1;36m0\u001b[0m, \u001b[1;36m0\u001b[0m, \u001b[1;36m0\u001b[0m, \u001b[1;36m0\u001b[0m, \u001b[1;36m0\u001b[0m, \u001b[1;36m0\u001b[0m, \u001b[1;36m0\u001b[0m, \u001b[1;36m0\u001b[0m, \u001b[1;36m0\u001b[0m, \u001b[1;36m0\u001b[0m, \u001b[1;36m0\u001b[0m, \u001b[1;36m0\u001b[0m,\n",
       "       \u001b[1;36m0\u001b[0m, \u001b[1;36m0\u001b[0m, \u001b[1;36m0\u001b[0m, \u001b[1;36m7\u001b[0m, \u001b[1;36m0\u001b[0m, \u001b[1;36m0\u001b[0m, \u001b[1;36m0\u001b[0m, \u001b[1;36m0\u001b[0m, \u001b[1;36m0\u001b[0m, \u001b[1;36m0\u001b[0m, \u001b[1;36m0\u001b[0m, \u001b[1;36m0\u001b[0m, \u001b[1;36m0\u001b[0m, \u001b[1;36m0\u001b[0m, \u001b[1;36m0\u001b[0m, \u001b[1;36m0\u001b[0m, \u001b[1;36m0\u001b[0m, \u001b[1;36m0\u001b[0m, \u001b[1;36m0\u001b[0m, \u001b[1;36m0\u001b[0m, \u001b[1;36m0\u001b[0m, \u001b[1;36m0\u001b[0m,\n",
       "       \u001b[1;36m0\u001b[0m, \u001b[1;36m0\u001b[0m, \u001b[1;36m0\u001b[0m, \u001b[1;36m0\u001b[0m, \u001b[1;36m0\u001b[0m, \u001b[1;36m0\u001b[0m, \u001b[1;36m0\u001b[0m, \u001b[1;36m0\u001b[0m, \u001b[1;36m0\u001b[0m, \u001b[1;36m0\u001b[0m, \u001b[1;36m0\u001b[0m, \u001b[1;36m0\u001b[0m, \u001b[1;36m0\u001b[0m, \u001b[1;36m0\u001b[0m, \u001b[1;36m0\u001b[0m, \u001b[1;36m0\u001b[0m, \u001b[1;36m0\u001b[0m, \u001b[1;36m0\u001b[0m, \u001b[1;36m0\u001b[0m, \u001b[1;36m0\u001b[0m, \u001b[1;36m0\u001b[0m, \u001b[1;36m0\u001b[0m,\n",
       "       \u001b[1;36m0\u001b[0m, \u001b[1;36m0\u001b[0m, \u001b[1;36m0\u001b[0m, \u001b[1;36m0\u001b[0m, \u001b[1;36m0\u001b[0m, \u001b[1;36m0\u001b[0m, \u001b[1;36m0\u001b[0m, \u001b[1;36m0\u001b[0m, \u001b[1;36m0\u001b[0m, \u001b[1;36m0\u001b[0m, \u001b[1;36m0\u001b[0m, \u001b[1;36m0\u001b[0m, \u001b[1;36m0\u001b[0m, \u001b[1;36m0\u001b[0m, \u001b[1;36m0\u001b[0m, \u001b[1;36m0\u001b[0m, \u001b[1;36m0\u001b[0m, \u001b[1;36m0\u001b[0m, \u001b[1;36m0\u001b[0m, \u001b[1;36m0\u001b[0m, \u001b[1;36m0\u001b[0m, \u001b[1;36m0\u001b[0m,\n",
       "       \u001b[1;36m0\u001b[0m, \u001b[1;36m0\u001b[0m, \u001b[1;36m0\u001b[0m, \u001b[1;36m0\u001b[0m, \u001b[1;36m0\u001b[0m, \u001b[1;36m0\u001b[0m, \u001b[1;36m0\u001b[0m, \u001b[1;36m0\u001b[0m, \u001b[1;36m0\u001b[0m, \u001b[1;36m0\u001b[0m, \u001b[1;36m0\u001b[0m, \u001b[1;36m0\u001b[0m, \u001b[1;36m0\u001b[0m, \u001b[1;36m0\u001b[0m, \u001b[1;36m0\u001b[0m, \u001b[1;36m0\u001b[0m, \u001b[1;36m0\u001b[0m, \u001b[1;36m0\u001b[0m, \u001b[1;36m0\u001b[0m, \u001b[1;36m0\u001b[0m, \u001b[1;36m0\u001b[0m, \u001b[1;36m0\u001b[0m,\n",
       "       \u001b[1;36m0\u001b[0m, \u001b[1;36m0\u001b[0m, \u001b[1;36m0\u001b[0m, \u001b[1;36m0\u001b[0m, \u001b[1;36m0\u001b[0m, \u001b[1;36m0\u001b[0m, \u001b[1;36m0\u001b[0m, \u001b[1;36m0\u001b[0m, \u001b[1;36m0\u001b[0m, \u001b[1;36m0\u001b[0m, \u001b[1;36m0\u001b[0m, \u001b[1;36m0\u001b[0m, \u001b[1;36m0\u001b[0m, \u001b[1;36m0\u001b[0m, \u001b[1;36m0\u001b[0m, \u001b[1;36m0\u001b[0m, \u001b[1;36m0\u001b[0m, \u001b[1;36m0\u001b[0m, \u001b[1;36m0\u001b[0m, \u001b[1;36m0\u001b[0m, \u001b[1;36m0\u001b[0m, \u001b[1;36m0\u001b[0m,\n",
       "       \u001b[1;36m0\u001b[0m, \u001b[1;36m0\u001b[0m, \u001b[1;36m0\u001b[0m, \u001b[1;36m0\u001b[0m, \u001b[1;36m0\u001b[0m, \u001b[1;36m0\u001b[0m, \u001b[1;36m0\u001b[0m, \u001b[1;36m0\u001b[0m, \u001b[1;36m0\u001b[0m, \u001b[1;36m0\u001b[0m, \u001b[1;36m0\u001b[0m, \u001b[1;36m0\u001b[0m, \u001b[1;36m0\u001b[0m, \u001b[1;36m0\u001b[0m, \u001b[1;36m0\u001b[0m, \u001b[1;36m0\u001b[0m, \u001b[1;36m0\u001b[0m, \u001b[1;36m0\u001b[0m, \u001b[1;36m0\u001b[0m, \u001b[1;36m0\u001b[0m, \u001b[1;36m0\u001b[0m, \u001b[1;36m0\u001b[0m,\n",
       "       \u001b[1;36m0\u001b[0m, \u001b[1;36m0\u001b[0m, \u001b[1;36m0\u001b[0m, \u001b[1;36m0\u001b[0m, \u001b[1;36m0\u001b[0m, \u001b[1;36m0\u001b[0m, \u001b[1;36m0\u001b[0m, \u001b[1;36m0\u001b[0m, \u001b[1;36m0\u001b[0m, \u001b[1;36m0\u001b[0m, \u001b[1;36m0\u001b[0m, \u001b[1;36m0\u001b[0m, \u001b[1;36m0\u001b[0m, \u001b[1;36m0\u001b[0m, \u001b[1;36m0\u001b[0m, \u001b[1;36m0\u001b[0m, \u001b[1;36m0\u001b[0m, \u001b[1;36m0\u001b[0m, \u001b[1;36m0\u001b[0m, \u001b[1;36m0\u001b[0m, \u001b[1;36m0\u001b[0m, \u001b[1;36m0\u001b[0m,\n",
       "       \u001b[1;36m0\u001b[0m, \u001b[1;36m0\u001b[0m, \u001b[1;36m0\u001b[0m, \u001b[1;36m0\u001b[0m, \u001b[1;36m0\u001b[0m, \u001b[1;36m0\u001b[0m, \u001b[1;36m0\u001b[0m, \u001b[1;36m0\u001b[0m, \u001b[1;36m0\u001b[0m, \u001b[1;36m0\u001b[0m, \u001b[1;36m0\u001b[0m, \u001b[1;36m0\u001b[0m, \u001b[1;36m0\u001b[0m, \u001b[1;36m0\u001b[0m, \u001b[1;36m0\u001b[0m, \u001b[1;36m0\u001b[0m, \u001b[1;36m0\u001b[0m, \u001b[1;36m0\u001b[0m, \u001b[1;36m0\u001b[0m, \u001b[1;36m0\u001b[0m, \u001b[1;36m0\u001b[0m, \u001b[1;36m0\u001b[0m,\n",
       "       \u001b[1;36m0\u001b[0m, \u001b[1;36m0\u001b[0m, \u001b[1;36m0\u001b[0m, \u001b[1;36m0\u001b[0m, \u001b[1;36m0\u001b[0m, \u001b[1;36m0\u001b[0m, \u001b[1;36m0\u001b[0m, \u001b[1;36m0\u001b[0m, \u001b[1;36m0\u001b[0m, \u001b[1;36m0\u001b[0m, \u001b[1;36m0\u001b[0m, \u001b[1;36m0\u001b[0m, \u001b[1;36m0\u001b[0m, \u001b[1;36m0\u001b[0m, \u001b[1;36m0\u001b[0m, \u001b[1;36m0\u001b[0m, \u001b[1;36m0\u001b[0m, \u001b[1;36m0\u001b[0m, \u001b[1;36m0\u001b[0m, \u001b[1;36m0\u001b[0m, \u001b[1;36m0\u001b[0m, \u001b[1;36m0\u001b[0m,\n",
       "       \u001b[1;36m0\u001b[0m, \u001b[1;36m0\u001b[0m, \u001b[1;36m0\u001b[0m, \u001b[1;36m0\u001b[0m, \u001b[1;36m0\u001b[0m, \u001b[1;36m0\u001b[0m, \u001b[1;36m0\u001b[0m, \u001b[1;36m0\u001b[0m, \u001b[1;36m0\u001b[0m, \u001b[1;36m0\u001b[0m, \u001b[1;36m0\u001b[0m, \u001b[1;36m0\u001b[0m, \u001b[1;36m0\u001b[0m, \u001b[1;36m0\u001b[0m, \u001b[1;36m0\u001b[0m, \u001b[1;36m0\u001b[0m, \u001b[1;36m0\u001b[0m, \u001b[1;36m0\u001b[0m, \u001b[1;36m0\u001b[0m, \u001b[1;36m0\u001b[0m, \u001b[1;36m0\u001b[0m, \u001b[1;36m0\u001b[0m,\n",
       "       \u001b[1;36m0\u001b[0m, \u001b[1;36m0\u001b[0m, \u001b[1;36m0\u001b[0m, \u001b[1;36m0\u001b[0m, \u001b[1;36m0\u001b[0m, \u001b[1;36m0\u001b[0m, \u001b[1;36m0\u001b[0m, \u001b[1;36m0\u001b[0m, \u001b[1;36m0\u001b[0m, \u001b[1;36m7\u001b[0m, \u001b[1;36m0\u001b[0m, \u001b[1;36m0\u001b[0m, \u001b[1;36m0\u001b[0m, \u001b[1;36m0\u001b[0m, \u001b[1;36m0\u001b[0m, \u001b[1;36m0\u001b[0m, \u001b[1;36m0\u001b[0m, \u001b[1;36m7\u001b[0m, \u001b[1;36m0\u001b[0m, \u001b[1;36m0\u001b[0m, \u001b[1;36m7\u001b[0m, \u001b[1;36m0\u001b[0m,\n",
       "       \u001b[1;36m7\u001b[0m\u001b[1m]\u001b[0m\u001b[1m)\u001b[0m\n"
      ]
     },
     "metadata": {},
     "output_type": "display_data"
    }
   ],
   "source": [
    "np.isnan(se).sum(0)"
   ]
  },
  {
   "cell_type": "code",
   "execution_count": 18,
   "id": "29ed0bf2",
   "metadata": {},
   "outputs": [
    {
     "data": {
      "text/html": [
       "<pre style=\"white-space:pre;overflow-x:auto;line-height:normal;font-family:Menlo,'DejaVu Sans Mono',consolas,'Courier New',monospace\"><span style=\"color: #800080; text-decoration-color: #800080; font-weight: bold\">array</span><span style=\"font-weight: bold\">([</span>nan, nan, nan, nan, nan, nan, nan<span style=\"font-weight: bold\">])</span>\n",
       "</pre>\n"
      ],
      "text/plain": [
       "\u001b[1;35marray\u001b[0m\u001b[1m(\u001b[0m\u001b[1m[\u001b[0mnan, nan, nan, nan, nan, nan, nan\u001b[1m]\u001b[0m\u001b[1m)\u001b[0m\n"
      ]
     },
     "metadata": {},
     "output_type": "display_data"
    }
   ],
   "source": [
    "se[:, 0]"
   ]
  },
  {
   "cell_type": "code",
   "execution_count": 20,
   "id": "fac61c9d",
   "metadata": {},
   "outputs": [
    {
     "data": {
      "text/html": [
       "<pre style=\"white-space:pre;overflow-x:auto;line-height:normal;font-family:Menlo,'DejaVu Sans Mono',consolas,'Courier New',monospace\"><span style=\"font-weight: bold\">(</span><span style=\"color: #008080; text-decoration-color: #008080; font-weight: bold\">7</span>, <span style=\"color: #008080; text-decoration-color: #008080; font-weight: bold\">529</span><span style=\"font-weight: bold\">)</span>\n",
       "</pre>\n"
      ],
      "text/plain": [
       "\u001b[1m(\u001b[0m\u001b[1;36m7\u001b[0m, \u001b[1;36m529\u001b[0m\u001b[1m)\u001b[0m\n"
      ]
     },
     "metadata": {},
     "output_type": "display_data"
    }
   ],
   "source": [
    "a = avg(data_all[6])\n",
    "a.shape"
   ]
  },
  {
   "cell_type": "code",
   "execution_count": 24,
   "id": "ae434ebb",
   "metadata": {},
   "outputs": [
    {
     "data": {
      "text/html": [
       "<pre style=\"white-space:pre;overflow-x:auto;line-height:normal;font-family:Menlo,'DejaVu Sans Mono',consolas,'Courier New',monospace\"><span style=\"color: #800080; text-decoration-color: #800080; font-weight: bold\">array</span><span style=\"font-weight: bold\">([</span><span style=\"color: #008080; text-decoration-color: #008080; font-weight: bold\">0</span>.  , <span style=\"color: #008080; text-decoration-color: #008080; font-weight: bold\">0</span>.  , <span style=\"color: #008080; text-decoration-color: #008080; font-weight: bold\">0.99</span>, <span style=\"color: #008080; text-decoration-color: #008080; font-weight: bold\">0</span>.  , <span style=\"color: #008080; text-decoration-color: #008080; font-weight: bold\">0</span>.  , <span style=\"color: #008080; text-decoration-color: #008080; font-weight: bold\">0</span>.  , <span style=\"color: #008080; text-decoration-color: #008080; font-weight: bold\">0</span>.  <span style=\"font-weight: bold\">])</span>\n",
       "</pre>\n"
      ],
      "text/plain": [
       "\u001b[1;35marray\u001b[0m\u001b[1m(\u001b[0m\u001b[1m[\u001b[0m\u001b[1;36m0\u001b[0m.  , \u001b[1;36m0\u001b[0m.  , \u001b[1;36m0.99\u001b[0m, \u001b[1;36m0\u001b[0m.  , \u001b[1;36m0\u001b[0m.  , \u001b[1;36m0\u001b[0m.  , \u001b[1;36m0\u001b[0m.  \u001b[1m]\u001b[0m\u001b[1m)\u001b[0m\n"
      ]
     },
     "metadata": {},
     "output_type": "display_data"
    }
   ],
   "source": [
    "np.round(a[:, 0], 2)"
   ]
  },
  {
   "cell_type": "code",
   "execution_count": null,
   "id": "e9b68d2d",
   "metadata": {},
   "outputs": [],
   "source": []
  },
  {
   "cell_type": "code",
   "execution_count": 29,
   "id": "d4ba7922",
   "metadata": {},
   "outputs": [
    {
     "data": {
      "text/html": [
       "<pre style=\"white-space:pre;overflow-x:auto;line-height:normal;font-family:Menlo,'DejaVu Sans Mono',consolas,'Courier New',monospace\"><span style=\"font-weight: bold\">&lt;</span><span style=\"color: #ff00ff; text-decoration-color: #ff00ff; font-weight: bold\">AxesSubplot:</span><span style=\"color: #808000; text-decoration-color: #808000; font-weight: bold\">ylabel</span><span style=\"color: #000000; text-decoration-color: #000000\">=</span><span style=\"color: #008000; text-decoration-color: #008000\">'Count'</span><span style=\"font-weight: bold\">&gt;</span>\n",
       "</pre>\n"
      ],
      "text/plain": [
       "\u001b[1m<\u001b[0m\u001b[1;95mAxesSubplot:\u001b[0m\u001b[1;33mylabel\u001b[0m\u001b[39m=\u001b[0m\u001b[32m'Count'\u001b[0m\u001b[1m>\u001b[0m\n"
      ]
     },
     "metadata": {},
     "output_type": "display_data"
    },
    {
     "data": {
      "image/png": "[encoded data removed]"
     },
     "metadata": {},
     "output_type": "display_data"
    }
   ],
   "source": [
    "sns.histplot(data_all[6][..., 0].ravel(), bins=100)"
   ]
  },
  {
   "cell_type": "code",
   "execution_count": null,
   "id": "e0be0b84",
   "metadata": {},
   "outputs": [],
   "source": []
  },
  {
   "cell_type": "code",
   "execution_count": 146,
   "id": "7e41dcff",
   "metadata": {},
   "outputs": [
    {
     "data": {
      "text/html": [
       "<pre style=\"white-space:pre;overflow-x:auto;line-height:normal;font-family:Menlo,'DejaVu Sans Mono',consolas,'Courier New',monospace\"><span style=\"font-weight: bold\">(</span><span style=\"color: #008080; text-decoration-color: #008080; font-weight: bold\">10</span>, <span style=\"color: #008080; text-decoration-color: #008080; font-weight: bold\">3</span>, <span style=\"color: #008080; text-decoration-color: #008080; font-weight: bold\">4</span>, <span style=\"color: #008080; text-decoration-color: #008080; font-weight: bold\">250</span>, <span style=\"color: #008080; text-decoration-color: #008080; font-weight: bold\">7</span>, <span style=\"color: #008080; text-decoration-color: #008080; font-weight: bold\">542</span><span style=\"font-weight: bold\">)</span>\n",
       "</pre>\n"
      ],
      "text/plain": [
       "\u001b[1m(\u001b[0m\u001b[1;36m10\u001b[0m, \u001b[1;36m3\u001b[0m, \u001b[1;36m4\u001b[0m, \u001b[1;36m250\u001b[0m, \u001b[1;36m7\u001b[0m, \u001b[1;36m542\u001b[0m\u001b[1m)\u001b[0m\n"
      ]
     },
     "metadata": {},
     "output_type": "display_data"
    }
   ],
   "source": [
    "boot.run_pi.shape"
   ]
  },
  {
   "cell_type": "code",
   "execution_count": 34,
   "id": "fcd19cc1",
   "metadata": {},
   "outputs": [],
   "source": [
    "from analysis.bootstrap import bootstrap\n",
    "\n",
    "bbb = bootstrap(\n",
    "    x=data_all[6],\n",
    "    n_resamples=100,\n",
    "    dims=2,\n",
    "    statistic=lambda a: avg(a, 2, 1),\n",
    ")"
   ]
  },
  {
   "cell_type": "code",
   "execution_count": 35,
   "id": "0012cf9a",
   "metadata": {},
   "outputs": [
    {
     "data": {
      "text/html": [
       "<pre style=\"white-space:pre;overflow-x:auto;line-height:normal;font-family:Menlo,'DejaVu Sans Mono',consolas,'Courier New',monospace\"><span style=\"font-weight: bold\">(</span><span style=\"color: #008080; text-decoration-color: #008080; font-weight: bold\">100</span>, <span style=\"color: #008080; text-decoration-color: #008080; font-weight: bold\">7</span>, <span style=\"color: #008080; text-decoration-color: #008080; font-weight: bold\">529</span><span style=\"font-weight: bold\">)</span>\n",
       "</pre>\n"
      ],
      "text/plain": [
       "\u001b[1m(\u001b[0m\u001b[1;36m100\u001b[0m, \u001b[1;36m7\u001b[0m, \u001b[1;36m529\u001b[0m\u001b[1m)\u001b[0m\n"
      ]
     },
     "metadata": {},
     "output_type": "display_data"
    }
   ],
   "source": [
    "bbb.shape"
   ]
  },
  {
   "cell_type": "code",
   "execution_count": 36,
   "id": "88c6261a",
   "metadata": {},
   "outputs": [
    {
     "data": {
      "text/html": [
       "<pre style=\"white-space:pre;overflow-x:auto;line-height:normal;font-family:Menlo,'DejaVu Sans Mono',consolas,'Courier New',monospace\"><span style=\"font-weight: bold\">(</span><span style=\"color: #008080; text-decoration-color: #008080; font-weight: bold\">7</span>, <span style=\"color: #008080; text-decoration-color: #008080; font-weight: bold\">529</span><span style=\"font-weight: bold\">)</span>\n",
       "</pre>\n"
      ],
      "text/plain": [
       "\u001b[1m(\u001b[0m\u001b[1;36m7\u001b[0m, \u001b[1;36m529\u001b[0m\u001b[1m)\u001b[0m\n"
      ]
     },
     "metadata": {},
     "output_type": "display_data"
    }
   ],
   "source": [
    "se2 = np.nanstd(bbb, 0, ddof=1)\n",
    "se2.shape"
   ]
  },
  {
   "cell_type": "code",
   "execution_count": 37,
   "id": "f03e27fa",
   "metadata": {},
   "outputs": [
    {
     "data": {
      "text/html": [
       "<pre style=\"white-space:pre;overflow-x:auto;line-height:normal;font-family:Menlo,'DejaVu Sans Mono',consolas,'Courier New',monospace\">\n",
       "<span style=\"color: #800080; text-decoration-color: #800080; font-weight: bold\">array</span><span style=\"font-weight: bold\">([</span><span style=\"color: #008080; text-decoration-color: #008080; font-weight: bold\">2.40561162e-03</span>, <span style=\"color: #008080; text-decoration-color: #008080; font-weight: bold\">1.59056111e-06</span>, <span style=\"color: #008080; text-decoration-color: #008080; font-weight: bold\">5.08450267e-03</span>, <span style=\"color: #008080; text-decoration-color: #008080; font-weight: bold\">1.59056111e-06</span>,\n",
       "       <span style=\"color: #008080; text-decoration-color: #008080; font-weight: bold\">1.39596272e-03</span>, <span style=\"color: #008080; text-decoration-color: #008080; font-weight: bold\">1.59056111e-06</span>, <span style=\"color: #008080; text-decoration-color: #008080; font-weight: bold\">4.03597152e-03</span><span style=\"font-weight: bold\">])</span>\n",
       "</pre>\n"
      ],
      "text/plain": [
       "\n",
       "\u001b[1;35marray\u001b[0m\u001b[1m(\u001b[0m\u001b[1m[\u001b[0m\u001b[1;36m2.40561162e-03\u001b[0m, \u001b[1;36m1.59056111e-06\u001b[0m, \u001b[1;36m5.08450267e-03\u001b[0m, \u001b[1;36m1.59056111e-06\u001b[0m,\n",
       "       \u001b[1;36m1.39596272e-03\u001b[0m, \u001b[1;36m1.59056111e-06\u001b[0m, \u001b[1;36m4.03597152e-03\u001b[0m\u001b[1m]\u001b[0m\u001b[1m)\u001b[0m\n"
      ]
     },
     "metadata": {},
     "output_type": "display_data"
    }
   ],
   "source": [
    "se2[:, 0]"
   ]
  },
  {
   "cell_type": "code",
   "execution_count": 38,
   "id": "99ebb5a1",
   "metadata": {},
   "outputs": [
    {
     "data": {
      "text/html": [
       "<pre style=\"white-space:pre;overflow-x:auto;line-height:normal;font-family:Menlo,'DejaVu Sans Mono',consolas,'Courier New',monospace\"><span style=\"color: #800080; text-decoration-color: #800080; font-weight: bold\">array</span><span style=\"font-weight: bold\">([</span>nan, nan, nan, nan, nan, nan, nan<span style=\"font-weight: bold\">])</span>\n",
       "</pre>\n"
      ],
      "text/plain": [
       "\u001b[1;35marray\u001b[0m\u001b[1m(\u001b[0m\u001b[1m[\u001b[0mnan, nan, nan, nan, nan, nan, nan\u001b[1m]\u001b[0m\u001b[1m)\u001b[0m\n"
      ]
     },
     "metadata": {},
     "output_type": "display_data"
    }
   ],
   "source": [
    "se[:, 0]"
   ]
  },
  {
   "cell_type": "code",
   "execution_count": null,
   "id": "b9932a65",
   "metadata": {},
   "outputs": [],
   "source": []
  },
  {
   "cell_type": "code",
   "execution_count": 46,
   "id": "7273118f",
   "metadata": {},
   "outputs": [
    {
     "data": {
      "text/html": [
       "<pre style=\"white-space:pre;overflow-x:auto;line-height:normal;font-family:Menlo,'DejaVu Sans Mono',consolas,'Courier New',monospace\"><span style=\"font-weight: bold\">(</span><span style=\"color: #008080; text-decoration-color: #008080; font-weight: bold\">0.0</span>, <span style=\"color: #008080; text-decoration-color: #008080; font-weight: bold\">1.0</span><span style=\"font-weight: bold\">)</span>\n",
       "</pre>\n"
      ],
      "text/plain": [
       "\u001b[1m(\u001b[0m\u001b[1;36m0.0\u001b[0m, \u001b[1;36m1.0\u001b[0m\u001b[1m)\u001b[0m\n"
      ]
     },
     "metadata": {},
     "output_type": "display_data"
    },
    {
     "data": {
      "image/png": "[encoded data removed]"
     },
     "metadata": {},
     "output_type": "display_data"
    }
   ],
   "source": [
    "sns.histplot(bbb[..., 0], bins=80)\n",
    "plt.xlim(0, 1)"
   ]
  },
  {
   "cell_type": "code",
   "execution_count": null,
   "id": "f4d1ffba",
   "metadata": {},
   "outputs": [],
   "source": []
  },
  {
   "cell_type": "code",
   "execution_count": 65,
   "id": "815c4a80",
   "metadata": {},
   "outputs": [
    {
     "data": {
      "text/html": [
       "<pre style=\"white-space:pre;overflow-x:auto;line-height:normal;font-family:Menlo,'DejaVu Sans Mono',consolas,'Courier New',monospace\"><span style=\"font-weight: bold\">&lt;</span><span style=\"color: #ff00ff; text-decoration-color: #ff00ff; font-weight: bold\">AxesSubplot:</span><span style=\"color: #808000; text-decoration-color: #808000; font-weight: bold\">ylabel</span><span style=\"color: #000000; text-decoration-color: #000000\">=</span><span style=\"color: #008000; text-decoration-color: #008000\">'Count'</span><span style=\"font-weight: bold\">&gt;</span>\n",
       "</pre>\n"
      ],
      "text/plain": [
       "\u001b[1m<\u001b[0m\u001b[1;95mAxesSubplot:\u001b[0m\u001b[1;33mylabel\u001b[0m\u001b[39m=\u001b[0m\u001b[32m'Count'\u001b[0m\u001b[1m>\u001b[0m\n"
      ]
     },
     "metadata": {},
     "output_type": "display_data"
    },
    {
     "data": {
      "image/png": "[encoded data removed]"
     },
     "metadata": {},
     "output_type": "display_data"
    }
   ],
   "source": [
    "sns.histplot(se2.ravel(), color='C1')\n",
    "sns.histplot(se.ravel())"
   ]
  },
  {
   "cell_type": "code",
   "execution_count": null,
   "id": "b4f2cafb",
   "metadata": {},
   "outputs": [],
   "source": []
  },
  {
   "cell_type": "code",
   "execution_count": 61,
   "id": "6ce4adfb",
   "metadata": {},
   "outputs": [
    {
     "data": {
      "text/html": [
       "<pre style=\"white-space:pre;overflow-x:auto;line-height:normal;font-family:Menlo,'DejaVu Sans Mono',consolas,'Courier New',monospace\"><span style=\"font-weight: bold\">[&lt;</span><span style=\"color: #ff00ff; text-decoration-color: #ff00ff; font-weight: bold\">matplotlib.lines.Line2D</span><span style=\"color: #000000; text-decoration-color: #000000\"> object at </span><span style=\"color: #008080; text-decoration-color: #008080; font-weight: bold\">0x7f087fe33ee0</span><span style=\"font-weight: bold\">&gt;]</span>\n",
       "</pre>\n"
      ],
      "text/plain": [
       "\u001b[1m[\u001b[0m\u001b[1m<\u001b[0m\u001b[1;95mmatplotlib.lines.Line2D\u001b[0m\u001b[39m object at \u001b[0m\u001b[1;36m0x7f087fe33ee0\u001b[0m\u001b[1m>\u001b[0m\u001b[1m]\u001b[0m\n"
      ]
     },
     "metadata": {},
     "output_type": "display_data"
    },
    {
     "data": {
      "image/png": "[encoded data removed]"
     },
     "metadata": {},
     "output_type": "display_data"
    }
   ],
   "source": [
    "i = 10\n",
    "plt.plot(se[:, i])\n",
    "plt.plot(se2[:, i])"
   ]
  },
  {
   "cell_type": "code",
   "execution_count": null,
   "id": "52ba4b71",
   "metadata": {},
   "outputs": [],
   "source": []
  },
  {
   "cell_type": "code",
   "execution_count": 69,
   "id": "5588246f",
   "metadata": {},
   "outputs": [
    {
     "data": {
      "text/html": [
       "<pre style=\"white-space:pre;overflow-x:auto;line-height:normal;font-family:Menlo,'DejaVu Sans Mono',consolas,'Courier New',monospace\"><span style=\"color: #008080; text-decoration-color: #008080; font-weight: bold\">1.1102230246251565e-16</span>\n",
       "</pre>\n"
      ],
      "text/plain": [
       "\u001b[1;36m1.1102230246251565e-16\u001b[0m\n"
      ]
     },
     "metadata": {},
     "output_type": "display_data"
    }
   ],
   "source": [
    "1 - sp_stats.t.cdf(111, 10)"
   ]
  },
  {
   "cell_type": "code",
   "execution_count": null,
   "id": "1ecda520",
   "metadata": {},
   "outputs": [],
   "source": [
    "i = 0, n resamples = 100, num nans = 14.0\n",
    "i = 1, n resamples = 100, num nans = 32.0\n",
    "i = 2, n resamples = 100, num nans = 27.0\n",
    "i = 3, n resamples = 100, num nans = 10.0\n",
    "i = 4, n resamples = 100, num nans = 16.0\n",
    "i = 5, n resamples = 100, num nans = 20.0\n",
    "i = 6, n resamples = 100, num nans = 34.0\n",
    "i = 7, n resamples = 100, num nans = 10.0\n",
    "i = 8, n resamples = 100, num nans = 15.0\n",
    "i = 9, n resamples = 100, num nans = 3.0\n",
    "[PROGRESS] 'se_bca_100.npy' saved at\n",
    "/home/hadi/Dropbox/git/jb-Ca-fMRI/tmp"
   ]
  },
  {
   "cell_type": "code",
   "execution_count": null,
   "id": "49d96fe3",
   "metadata": {},
   "outputs": [],
   "source": [
    "i = 0, n resamples = 1000, num nans = 21.0\n",
    "i = 1, n resamples = 1000, num nans = 58.0\n",
    "i = 2, n resamples = 1000, num nans = 60.0\n",
    "i = 3, n resamples = 1000, num nans = 24.0\n",
    "i = 4, n resamples = 1000, num nans = 60.0\n",
    "i = 5, n resamples = 1000, num nans = 36.0\n",
    "i = 6, n resamples = 1000, num nans = 37.0\n",
    "i = 7, n resamples = 1000, num nans = 20.0\n",
    "i = 8, n resamples = 1000, num nans = 37.0\n",
    "i = 9, n resamples = 1000, num nans = 16.0\n",
    "[PROGRESS] 'se_bca_1000.npy' saved at\n",
    "/home/hadi/Dropbox/git/jb-Ca-fMRI/tmp\n"
   ]
  },
  {
   "cell_type": "code",
   "execution_count": null,
   "id": "110c79ea",
   "metadata": {},
   "outputs": [],
   "source": []
  },
  {
   "cell_type": "code",
   "execution_count": null,
   "id": "16904dae",
   "metadata": {},
   "outputs": [],
   "source": []
  },
  {
   "cell_type": "code",
   "execution_count": 369,
   "id": "6fd85413",
   "metadata": {},
   "outputs": [],
   "source": [
    "se1000 = np.load(pjoin(tmp_dir, 'se_bca_1000.npy'))\n",
    "se10000 = np.load(pjoin(tmp_dir, 'se_bca_10000.npy'))\n",
    "se2 = np.load(pjoin(boot.path, 'se_indiv-pi_1.0e+03.npy'))"
   ]
  },
  {
   "cell_type": "code",
   "execution_count": 366,
   "id": "2c608468",
   "metadata": {},
   "outputs": [
    {
     "data": {
      "text/html": [
       "<pre style=\"white-space:pre;overflow-x:auto;line-height:normal;font-family:Menlo,'DejaVu Sans Mono',consolas,'Courier New',monospace\">\n",
       "<span style=\"color: #800080; text-decoration-color: #800080; font-weight: bold\">array</span><span style=\"font-weight: bold\">([</span><span style=\"color: #008080; text-decoration-color: #008080; font-weight: bold\">1.97254709e-03</span>, <span style=\"color: #008080; text-decoration-color: #008080; font-weight: bold\">1.33498959e-06</span>, <span style=\"color: #008080; text-decoration-color: #008080; font-weight: bold\">4.68496267e-03</span>, <span style=\"color: #008080; text-decoration-color: #008080; font-weight: bold\">1.33498959e-06</span>,\n",
       "       <span style=\"color: #008080; text-decoration-color: #008080; font-weight: bold\">1.53209843e-03</span>, <span style=\"color: #008080; text-decoration-color: #008080; font-weight: bold\">1.33498959e-06</span>, <span style=\"color: #008080; text-decoration-color: #008080; font-weight: bold\">3.56191931e-03</span><span style=\"font-weight: bold\">])</span>\n",
       "</pre>\n"
      ],
      "text/plain": [
       "\n",
       "\u001b[1;35marray\u001b[0m\u001b[1m(\u001b[0m\u001b[1m[\u001b[0m\u001b[1;36m1.97254709e-03\u001b[0m, \u001b[1;36m1.33498959e-06\u001b[0m, \u001b[1;36m4.68496267e-03\u001b[0m, \u001b[1;36m1.33498959e-06\u001b[0m,\n",
       "       \u001b[1;36m1.53209843e-03\u001b[0m, \u001b[1;36m1.33498959e-06\u001b[0m, \u001b[1;36m3.56191931e-03\u001b[0m\u001b[1m]\u001b[0m\u001b[1m)\u001b[0m\n"
      ]
     },
     "metadata": {},
     "output_type": "display_data"
    }
   ],
   "source": [
    "se1000[6][:, 0]"
   ]
  },
  {
   "cell_type": "code",
   "execution_count": 367,
   "id": "d94c4763",
   "metadata": {},
   "outputs": [
    {
     "data": {
      "text/html": [
       "<pre style=\"white-space:pre;overflow-x:auto;line-height:normal;font-family:Menlo,'DejaVu Sans Mono',consolas,'Courier New',monospace\"><span style=\"color: #008080; text-decoration-color: #008080; font-weight: bold\">13</span>\n",
       "</pre>\n"
      ],
      "text/plain": [
       "\u001b[1;36m13\u001b[0m\n"
      ]
     },
     "metadata": {},
     "output_type": "display_data"
    }
   ],
   "source": [
    "item = se1000[i]\n",
    "nans = np.isnan(item).sum(0) == len(item)\n",
    "nans.sum()"
   ]
  },
  {
   "cell_type": "code",
   "execution_count": 359,
   "id": "1ec600d8",
   "metadata": {},
   "outputs": [],
   "source": [
    "x = self.run_pi[i]\n",
    "x = x.reshape((-1, *x.shape[-3:]))\n",
    "\n",
    "nans = np.isnan(x).sum(-1).sum(-1)\n",
    "nans = nans == np.prod(x.shape[-2:])\n",
    "good_runs = np.where(nans.sum(-1) < nans.shape[-1])[0]\n",
    "assert len(good_runs) == n_runs[self.mice.get_key(i + 1)]\n",
    "\n",
    "x = x[good_runs]\n",
    "nans = nans[good_runs]\n",
    "good_seeds = np.where(nans.sum(0) < len(good_runs))[0]\n",
    "if len(good_seeds) < x.shape[-3]:\n",
    "    x = x[:, good_seeds]\n",
    "\n",
    "nans = np.isnan(x).sum(0).sum(0).sum(0)\n",
    "good = np.where(nans < np.prod(x.shape[:3]))[0]\n",
    "x = x[..., good]"
   ]
  },
  {
   "cell_type": "code",
   "execution_count": null,
   "id": "80b6f82c",
   "metadata": {},
   "outputs": [],
   "source": []
  },
  {
   "cell_type": "code",
   "execution_count": 309,
   "id": "df4aadf4",
   "metadata": {},
   "outputs": [
    {
     "data": {
      "text/html": [
       "<pre style=\"white-space:pre;overflow-x:auto;line-height:normal;font-family:Menlo,'DejaVu Sans Mono',consolas,'Courier New',monospace\"><span style=\"color: #008080; text-decoration-color: #008080; font-weight: bold\">13</span>\n",
       "</pre>\n"
      ],
      "text/plain": [
       "\u001b[1;36m13\u001b[0m\n"
      ]
     },
     "metadata": {},
     "output_type": "display_data"
    }
   ],
   "source": [
    "len(boot.n2l) - good.sum()"
   ]
  },
  {
   "cell_type": "code",
   "execution_count": 312,
   "id": "ab052832",
   "metadata": {},
   "outputs": [
    {
     "data": {
      "text/html": [
       "<pre style=\"white-space:pre;overflow-x:auto;line-height:normal;font-family:Menlo,'DejaVu Sans Mono',consolas,'Courier New',monospace\"><span style=\"color: #008080; text-decoration-color: #008080; font-weight: bold\">542</span>\n",
       "</pre>\n"
      ],
      "text/plain": [
       "\u001b[1;36m542\u001b[0m\n"
      ]
     },
     "metadata": {},
     "output_type": "display_data"
    }
   ],
   "source": [
    "len(boot.n2l)"
   ]
  },
  {
   "cell_type": "code",
   "execution_count": 314,
   "id": "0137ac83",
   "metadata": {},
   "outputs": [
    {
     "data": {
      "text/html": [
       "<pre style=\"white-space:pre;overflow-x:auto;line-height:normal;font-family:Menlo,'DejaVu Sans Mono',consolas,'Courier New',monospace\"><span style=\"font-weight: bold\">(</span><span style=\"color: #008080; text-decoration-color: #008080; font-weight: bold\">11</span>, <span style=\"color: #008080; text-decoration-color: #008080; font-weight: bold\">250</span>, <span style=\"color: #008080; text-decoration-color: #008080; font-weight: bold\">7</span>, <span style=\"color: #008080; text-decoration-color: #008080; font-weight: bold\">529</span><span style=\"font-weight: bold\">)</span>\n",
       "</pre>\n"
      ],
      "text/plain": [
       "\u001b[1m(\u001b[0m\u001b[1;36m11\u001b[0m, \u001b[1;36m250\u001b[0m, \u001b[1;36m7\u001b[0m, \u001b[1;36m529\u001b[0m\u001b[1m)\u001b[0m\n"
      ]
     },
     "metadata": {},
     "output_type": "display_data"
    }
   ],
   "source": [
    "x.shape"
   ]
  },
  {
   "cell_type": "code",
   "execution_count": null,
   "id": "0c365986",
   "metadata": {},
   "outputs": [],
   "source": []
  },
  {
   "cell_type": "code",
   "execution_count": 317,
   "id": "e2e965de",
   "metadata": {},
   "outputs": [
    {
     "data": {
      "text/html": [
       "<pre style=\"white-space:pre;overflow-x:auto;line-height:normal;font-family:Menlo,'DejaVu Sans Mono',consolas,'Courier New',monospace\"><span style=\"color: #008080; text-decoration-color: #008080; font-weight: bold\">37</span>\n",
       "</pre>\n"
      ],
      "text/plain": [
       "\u001b[1;36m37\u001b[0m\n"
      ]
     },
     "metadata": {},
     "output_type": "display_data"
    }
   ],
   "source": [
    "se = se1000[i, ...][..., good]\n",
    "nans = np.isnan(se).sum(0) == len(se)\n",
    "nans.sum()"
   ]
  },
  {
   "cell_type": "code",
   "execution_count": 318,
   "id": "42c41501",
   "metadata": {},
   "outputs": [
    {
     "data": {
      "text/html": [
       "<pre style=\"white-space:pre;overflow-x:auto;line-height:normal;font-family:Menlo,'DejaVu Sans Mono',consolas,'Courier New',monospace\"><span style=\"font-weight: bold\">(</span><span style=\"color: #008080; text-decoration-color: #008080; font-weight: bold\">11</span>, <span style=\"color: #008080; text-decoration-color: #008080; font-weight: bold\">250</span>, <span style=\"color: #008080; text-decoration-color: #008080; font-weight: bold\">7</span>, <span style=\"color: #008080; text-decoration-color: #008080; font-weight: bold\">37</span><span style=\"font-weight: bold\">)</span>\n",
       "</pre>\n"
      ],
      "text/plain": [
       "\u001b[1m(\u001b[0m\u001b[1;36m11\u001b[0m, \u001b[1;36m250\u001b[0m, \u001b[1;36m7\u001b[0m, \u001b[1;36m37\u001b[0m\u001b[1m)\u001b[0m\n"
      ]
     },
     "metadata": {},
     "output_type": "display_data"
    }
   ],
   "source": [
    "x = x[..., nans]\n",
    "x.shape"
   ]
  },
  {
   "cell_type": "code",
   "execution_count": 350,
   "id": "130f7621",
   "metadata": {},
   "outputs": [
    {
     "data": {
      "text/html": [
       "<pre style=\"white-space:pre;overflow-x:auto;line-height:normal;font-family:Menlo,'DejaVu Sans Mono',consolas,'Courier New',monospace\"><span style=\"font-weight: bold\">(</span><span style=\"color: #008080; text-decoration-color: #008080; font-weight: bold\">11</span>, <span style=\"color: #008080; text-decoration-color: #008080; font-weight: bold\">250</span>, <span style=\"color: #008080; text-decoration-color: #008080; font-weight: bold\">37</span><span style=\"font-weight: bold\">)</span>\n",
       "</pre>\n"
      ],
      "text/plain": [
       "\u001b[1m(\u001b[0m\u001b[1;36m11\u001b[0m, \u001b[1;36m250\u001b[0m, \u001b[1;36m37\u001b[0m\u001b[1m)\u001b[0m\n"
      ]
     },
     "metadata": {},
     "output_type": "display_data"
    }
   ],
   "source": [
    "aa = np.isnan(x).sum(-2) == 7\n",
    "aa.shape"
   ]
  },
  {
   "cell_type": "code",
   "execution_count": 353,
   "id": "8df9c04d",
   "metadata": {},
   "outputs": [
    {
     "data": {
      "text/html": [
       "<pre style=\"white-space:pre;overflow-x:auto;line-height:normal;font-family:Menlo,'DejaVu Sans Mono',consolas,'Courier New',monospace\"><span style=\"font-weight: bold\">&lt;</span><span style=\"color: #ff00ff; text-decoration-color: #ff00ff; font-weight: bold\">matplotlib.image.AxesImage</span><span style=\"color: #000000; text-decoration-color: #000000\"> object at </span><span style=\"color: #008080; text-decoration-color: #008080; font-weight: bold\">0x7f089c059a30</span><span style=\"font-weight: bold\">&gt;</span>\n",
       "</pre>\n"
      ],
      "text/plain": [
       "\u001b[1m<\u001b[0m\u001b[1;95mmatplotlib.image.AxesImage\u001b[0m\u001b[39m object at \u001b[0m\u001b[1;36m0x7f089c059a30\u001b[0m\u001b[1m>\u001b[0m\n"
      ]
     },
     "metadata": {},
     "output_type": "display_data"
    },
    {
     "data": {
      "image/png": "[encoded data removed]"
     },
     "metadata": {},
     "output_type": "display_data"
    }
   ],
   "source": [
    "plt.imshow(aa[:, 0])"
   ]
  },
  {
   "cell_type": "code",
   "execution_count": 329,
   "id": "0cc6be0a",
   "metadata": {},
   "outputs": [
    {
     "data": {
      "text/html": [
       "<pre style=\"white-space:pre;overflow-x:auto;line-height:normal;font-family:Menlo,'DejaVu Sans Mono',consolas,'Courier New',monospace\"><span style=\"color: #008080; text-decoration-color: #008080; font-weight: bold\">2750</span>\n",
       "</pre>\n"
      ],
      "text/plain": [
       "\u001b[1;36m2750\u001b[0m\n"
      ]
     },
     "metadata": {},
     "output_type": "display_data"
    }
   ],
   "source": [
    "11 * 250"
   ]
  },
  {
   "cell_type": "code",
   "execution_count": 362,
   "id": "4b7c1b9d",
   "metadata": {},
   "outputs": [
    {
     "data": {
      "text/html": [
       "<pre style=\"white-space:pre;overflow-x:auto;line-height:normal;font-family:Menlo,'DejaVu Sans Mono',consolas,'Courier New',monospace\"><span style=\"font-weight: bold\">(</span><span style=\"color: #008080; text-decoration-color: #008080; font-weight: bold\">3</span>, <span style=\"color: #008080; text-decoration-color: #008080; font-weight: bold\">4</span>, <span style=\"color: #008080; text-decoration-color: #008080; font-weight: bold\">250</span>, <span style=\"color: #008080; text-decoration-color: #008080; font-weight: bold\">7</span>, <span style=\"color: #008080; text-decoration-color: #008080; font-weight: bold\">529</span><span style=\"font-weight: bold\">)</span>\n",
       "</pre>\n"
      ],
      "text/plain": [
       "\u001b[1m(\u001b[0m\u001b[1;36m3\u001b[0m, \u001b[1;36m4\u001b[0m, \u001b[1;36m250\u001b[0m, \u001b[1;36m7\u001b[0m, \u001b[1;36m529\u001b[0m\u001b[1m)\u001b[0m\n"
      ]
     },
     "metadata": {},
     "output_type": "display_data"
    }
   ],
   "source": [
    "self.run_pi[i][..., good].shape"
   ]
  },
  {
   "cell_type": "code",
   "execution_count": null,
   "id": "7396e9ad",
   "metadata": {},
   "outputs": [],
   "source": []
  },
  {
   "cell_type": "code",
   "execution_count": 363,
   "id": "1e080c0c",
   "metadata": {},
   "outputs": [
    {
     "data": {
      "text/html": [
       "<pre style=\"white-space:pre;overflow-x:auto;line-height:normal;font-family:Menlo,'DejaVu Sans Mono',consolas,'Courier New',monospace\"><span style=\"font-weight: bold\">(</span><span style=\"color: #008080; text-decoration-color: #008080; font-weight: bold\">3</span>, <span style=\"color: #008080; text-decoration-color: #008080; font-weight: bold\">4</span>, <span style=\"color: #008080; text-decoration-color: #008080; font-weight: bold\">250</span>, <span style=\"color: #008080; text-decoration-color: #008080; font-weight: bold\">7</span>, <span style=\"color: #008080; text-decoration-color: #008080; font-weight: bold\">37</span><span style=\"font-weight: bold\">)</span>\n",
       "</pre>\n"
      ],
      "text/plain": [
       "\u001b[1m(\u001b[0m\u001b[1;36m3\u001b[0m, \u001b[1;36m4\u001b[0m, \u001b[1;36m250\u001b[0m, \u001b[1;36m7\u001b[0m, \u001b[1;36m37\u001b[0m\u001b[1m)\u001b[0m\n"
      ]
     },
     "metadata": {},
     "output_type": "display_data"
    }
   ],
   "source": [
    "nans = np.isnan(se).sum(0) == len(se)\n",
    "self.run_pi[i][..., good][..., nans].shape"
   ]
  },
  {
   "cell_type": "code",
   "execution_count": 361,
   "id": "2d4c8209",
   "metadata": {},
   "outputs": [
    {
     "data": {
      "text/html": [
       "<pre style=\"white-space:pre;overflow-x:auto;line-height:normal;font-family:Menlo,'DejaVu Sans Mono',consolas,'Courier New',monospace\"><span style=\"font-weight: bold\">(</span><span style=\"color: #008080; text-decoration-color: #008080; font-weight: bold\">11</span>, <span style=\"color: #008080; text-decoration-color: #008080; font-weight: bold\">250</span>, <span style=\"color: #008080; text-decoration-color: #008080; font-weight: bold\">7</span>, <span style=\"color: #008080; text-decoration-color: #008080; font-weight: bold\">529</span><span style=\"font-weight: bold\">)</span>\n",
       "</pre>\n"
      ],
      "text/plain": [
       "\u001b[1m(\u001b[0m\u001b[1;36m11\u001b[0m, \u001b[1;36m250\u001b[0m, \u001b[1;36m7\u001b[0m, \u001b[1;36m529\u001b[0m\u001b[1m)\u001b[0m\n"
      ]
     },
     "metadata": {},
     "output_type": "display_data"
    }
   ],
   "source": [
    "x.shape"
   ]
  },
  {
   "cell_type": "code",
   "execution_count": 364,
   "id": "e6acb0c1",
   "metadata": {},
   "outputs": [
    {
     "data": {
      "text/html": [
       "<pre style=\"white-space:pre;overflow-x:auto;line-height:normal;font-family:Menlo,'DejaVu Sans Mono',consolas,'Courier New',monospace\"><span style=\"font-weight: bold\">(</span><span style=\"color: #008080; text-decoration-color: #008080; font-weight: bold\">7</span>, <span style=\"color: #008080; text-decoration-color: #008080; font-weight: bold\">529</span><span style=\"font-weight: bold\">)</span>\n",
       "</pre>\n"
      ],
      "text/plain": [
       "\u001b[1m(\u001b[0m\u001b[1;36m7\u001b[0m, \u001b[1;36m529\u001b[0m\u001b[1m)\u001b[0m\n"
      ]
     },
     "metadata": {},
     "output_type": "display_data"
    }
   ],
   "source": [
    "se.shape"
   ]
  },
  {
   "cell_type": "code",
   "execution_count": 368,
   "id": "e8ca526e",
   "metadata": {},
   "outputs": [
    {
     "data": {
      "text/html": [
       "<pre style=\"white-space:pre;overflow-x:auto;line-height:normal;font-family:Menlo,'DejaVu Sans Mono',consolas,'Courier New',monospace\"><span style=\"font-weight: bold\">(</span><span style=\"color: #008080; text-decoration-color: #008080; font-weight: bold\">3</span>, <span style=\"color: #008080; text-decoration-color: #008080; font-weight: bold\">4</span>, <span style=\"color: #008080; text-decoration-color: #008080; font-weight: bold\">250</span>, <span style=\"color: #008080; text-decoration-color: #008080; font-weight: bold\">7</span>, <span style=\"color: #008080; text-decoration-color: #008080; font-weight: bold\">542</span><span style=\"font-weight: bold\">)</span>\n",
       "</pre>\n"
      ],
      "text/plain": [
       "\u001b[1m(\u001b[0m\u001b[1;36m3\u001b[0m, \u001b[1;36m4\u001b[0m, \u001b[1;36m250\u001b[0m, \u001b[1;36m7\u001b[0m, \u001b[1;36m542\u001b[0m\u001b[1m)\u001b[0m\n"
      ]
     },
     "metadata": {},
     "output_type": "display_data"
    },
    {
     "data": {
      "text/html": [
       "<pre style=\"white-space:pre;overflow-x:auto;line-height:normal;font-family:Menlo,'DejaVu Sans Mono',consolas,'Courier New',monospace\"><span style=\"font-weight: bold\">(</span><span style=\"color: #008080; text-decoration-color: #008080; font-weight: bold\">3</span>, <span style=\"color: #008080; text-decoration-color: #008080; font-weight: bold\">4</span>, <span style=\"color: #008080; text-decoration-color: #008080; font-weight: bold\">250</span>, <span style=\"color: #008080; text-decoration-color: #008080; font-weight: bold\">7</span>, <span style=\"color: #008080; text-decoration-color: #008080; font-weight: bold\">542</span><span style=\"font-weight: bold\">)</span>\n",
       "</pre>\n"
      ],
      "text/plain": [
       "\u001b[1m(\u001b[0m\u001b[1;36m3\u001b[0m, \u001b[1;36m4\u001b[0m, \u001b[1;36m250\u001b[0m, \u001b[1;36m7\u001b[0m, \u001b[1;36m542\u001b[0m\u001b[1m)\u001b[0m\n"
      ]
     },
     "metadata": {},
     "output_type": "display_data"
    },
    {
     "data": {
      "text/html": [
       "<pre style=\"white-space:pre;overflow-x:auto;line-height:normal;font-family:Menlo,'DejaVu Sans Mono',consolas,'Courier New',monospace\"><span style=\"font-weight: bold\">(</span><span style=\"color: #008080; text-decoration-color: #008080; font-weight: bold\">3</span>, <span style=\"color: #008080; text-decoration-color: #008080; font-weight: bold\">4</span>, <span style=\"color: #008080; text-decoration-color: #008080; font-weight: bold\">250</span>, <span style=\"color: #008080; text-decoration-color: #008080; font-weight: bold\">7</span>, <span style=\"color: #008080; text-decoration-color: #008080; font-weight: bold\">542</span><span style=\"font-weight: bold\">)</span>\n",
       "</pre>\n"
      ],
      "text/plain": [
       "\u001b[1m(\u001b[0m\u001b[1;36m3\u001b[0m, \u001b[1;36m4\u001b[0m, \u001b[1;36m250\u001b[0m, \u001b[1;36m7\u001b[0m, \u001b[1;36m542\u001b[0m\u001b[1m)\u001b[0m\n"
      ]
     },
     "metadata": {},
     "output_type": "display_data"
    },
    {
     "data": {
      "text/html": [
       "<pre style=\"white-space:pre;overflow-x:auto;line-height:normal;font-family:Menlo,'DejaVu Sans Mono',consolas,'Courier New',monospace\"><span style=\"font-weight: bold\">(</span><span style=\"color: #008080; text-decoration-color: #008080; font-weight: bold\">3</span>, <span style=\"color: #008080; text-decoration-color: #008080; font-weight: bold\">4</span>, <span style=\"color: #008080; text-decoration-color: #008080; font-weight: bold\">250</span>, <span style=\"color: #008080; text-decoration-color: #008080; font-weight: bold\">7</span>, <span style=\"color: #008080; text-decoration-color: #008080; font-weight: bold\">542</span><span style=\"font-weight: bold\">)</span>\n",
       "</pre>\n"
      ],
      "text/plain": [
       "\u001b[1m(\u001b[0m\u001b[1;36m3\u001b[0m, \u001b[1;36m4\u001b[0m, \u001b[1;36m250\u001b[0m, \u001b[1;36m7\u001b[0m, \u001b[1;36m542\u001b[0m\u001b[1m)\u001b[0m\n"
      ]
     },
     "metadata": {},
     "output_type": "display_data"
    },
    {
     "data": {
      "text/html": [
       "<pre style=\"white-space:pre;overflow-x:auto;line-height:normal;font-family:Menlo,'DejaVu Sans Mono',consolas,'Courier New',monospace\"><span style=\"font-weight: bold\">(</span><span style=\"color: #008080; text-decoration-color: #008080; font-weight: bold\">3</span>, <span style=\"color: #008080; text-decoration-color: #008080; font-weight: bold\">4</span>, <span style=\"color: #008080; text-decoration-color: #008080; font-weight: bold\">250</span>, <span style=\"color: #008080; text-decoration-color: #008080; font-weight: bold\">7</span>, <span style=\"color: #008080; text-decoration-color: #008080; font-weight: bold\">542</span><span style=\"font-weight: bold\">)</span>\n",
       "</pre>\n"
      ],
      "text/plain": [
       "\u001b[1m(\u001b[0m\u001b[1;36m3\u001b[0m, \u001b[1;36m4\u001b[0m, \u001b[1;36m250\u001b[0m, \u001b[1;36m7\u001b[0m, \u001b[1;36m542\u001b[0m\u001b[1m)\u001b[0m\n"
      ]
     },
     "metadata": {},
     "output_type": "display_data"
    },
    {
     "data": {
      "text/html": [
       "<pre style=\"white-space:pre;overflow-x:auto;line-height:normal;font-family:Menlo,'DejaVu Sans Mono',consolas,'Courier New',monospace\"><span style=\"font-weight: bold\">(</span><span style=\"color: #008080; text-decoration-color: #008080; font-weight: bold\">3</span>, <span style=\"color: #008080; text-decoration-color: #008080; font-weight: bold\">4</span>, <span style=\"color: #008080; text-decoration-color: #008080; font-weight: bold\">250</span>, <span style=\"color: #008080; text-decoration-color: #008080; font-weight: bold\">7</span>, <span style=\"color: #008080; text-decoration-color: #008080; font-weight: bold\">542</span><span style=\"font-weight: bold\">)</span>\n",
       "</pre>\n"
      ],
      "text/plain": [
       "\u001b[1m(\u001b[0m\u001b[1;36m3\u001b[0m, \u001b[1;36m4\u001b[0m, \u001b[1;36m250\u001b[0m, \u001b[1;36m7\u001b[0m, \u001b[1;36m542\u001b[0m\u001b[1m)\u001b[0m\n"
      ]
     },
     "metadata": {},
     "output_type": "display_data"
    },
    {
     "data": {
      "text/html": [
       "<pre style=\"white-space:pre;overflow-x:auto;line-height:normal;font-family:Menlo,'DejaVu Sans Mono',consolas,'Courier New',monospace\"><span style=\"font-weight: bold\">(</span><span style=\"color: #008080; text-decoration-color: #008080; font-weight: bold\">3</span>, <span style=\"color: #008080; text-decoration-color: #008080; font-weight: bold\">4</span>, <span style=\"color: #008080; text-decoration-color: #008080; font-weight: bold\">250</span>, <span style=\"color: #008080; text-decoration-color: #008080; font-weight: bold\">7</span>, <span style=\"color: #008080; text-decoration-color: #008080; font-weight: bold\">542</span><span style=\"font-weight: bold\">)</span>\n",
       "</pre>\n"
      ],
      "text/plain": [
       "\u001b[1m(\u001b[0m\u001b[1;36m3\u001b[0m, \u001b[1;36m4\u001b[0m, \u001b[1;36m250\u001b[0m, \u001b[1;36m7\u001b[0m, \u001b[1;36m542\u001b[0m\u001b[1m)\u001b[0m\n"
      ]
     },
     "metadata": {},
     "output_type": "display_data"
    },
    {
     "data": {
      "text/html": [
       "<pre style=\"white-space:pre;overflow-x:auto;line-height:normal;font-family:Menlo,'DejaVu Sans Mono',consolas,'Courier New',monospace\"><span style=\"font-weight: bold\">(</span><span style=\"color: #008080; text-decoration-color: #008080; font-weight: bold\">3</span>, <span style=\"color: #008080; text-decoration-color: #008080; font-weight: bold\">4</span>, <span style=\"color: #008080; text-decoration-color: #008080; font-weight: bold\">250</span>, <span style=\"color: #008080; text-decoration-color: #008080; font-weight: bold\">7</span>, <span style=\"color: #008080; text-decoration-color: #008080; font-weight: bold\">542</span><span style=\"font-weight: bold\">)</span>\n",
       "</pre>\n"
      ],
      "text/plain": [
       "\u001b[1m(\u001b[0m\u001b[1;36m3\u001b[0m, \u001b[1;36m4\u001b[0m, \u001b[1;36m250\u001b[0m, \u001b[1;36m7\u001b[0m, \u001b[1;36m542\u001b[0m\u001b[1m)\u001b[0m\n"
      ]
     },
     "metadata": {},
     "output_type": "display_data"
    },
    {
     "data": {
      "text/html": [
       "<pre style=\"white-space:pre;overflow-x:auto;line-height:normal;font-family:Menlo,'DejaVu Sans Mono',consolas,'Courier New',monospace\"><span style=\"font-weight: bold\">(</span><span style=\"color: #008080; text-decoration-color: #008080; font-weight: bold\">3</span>, <span style=\"color: #008080; text-decoration-color: #008080; font-weight: bold\">4</span>, <span style=\"color: #008080; text-decoration-color: #008080; font-weight: bold\">250</span>, <span style=\"color: #008080; text-decoration-color: #008080; font-weight: bold\">7</span>, <span style=\"color: #008080; text-decoration-color: #008080; font-weight: bold\">542</span><span style=\"font-weight: bold\">)</span>\n",
       "</pre>\n"
      ],
      "text/plain": [
       "\u001b[1m(\u001b[0m\u001b[1;36m3\u001b[0m, \u001b[1;36m4\u001b[0m, \u001b[1;36m250\u001b[0m, \u001b[1;36m7\u001b[0m, \u001b[1;36m542\u001b[0m\u001b[1m)\u001b[0m\n"
      ]
     },
     "metadata": {},
     "output_type": "display_data"
    },
    {
     "data": {
      "text/html": [
       "<pre style=\"white-space:pre;overflow-x:auto;line-height:normal;font-family:Menlo,'DejaVu Sans Mono',consolas,'Courier New',monospace\"><span style=\"font-weight: bold\">(</span><span style=\"color: #008080; text-decoration-color: #008080; font-weight: bold\">3</span>, <span style=\"color: #008080; text-decoration-color: #008080; font-weight: bold\">4</span>, <span style=\"color: #008080; text-decoration-color: #008080; font-weight: bold\">250</span>, <span style=\"color: #008080; text-decoration-color: #008080; font-weight: bold\">7</span>, <span style=\"color: #008080; text-decoration-color: #008080; font-weight: bold\">542</span><span style=\"font-weight: bold\">)</span>\n",
       "</pre>\n"
      ],
      "text/plain": [
       "\u001b[1m(\u001b[0m\u001b[1;36m3\u001b[0m, \u001b[1;36m4\u001b[0m, \u001b[1;36m250\u001b[0m, \u001b[1;36m7\u001b[0m, \u001b[1;36m542\u001b[0m\u001b[1m)\u001b[0m\n"
      ]
     },
     "metadata": {},
     "output_type": "display_data"
    }
   ],
   "source": [
    "for x in boot.run_pi:\n",
    "    print(x.shape)"
   ]
  },
  {
   "cell_type": "code",
   "execution_count": null,
   "id": "cdf02a83",
   "metadata": {},
   "outputs": [],
   "source": []
  },
  {
   "cell_type": "code",
   "execution_count": null,
   "id": "aed37837",
   "metadata": {},
   "outputs": [],
   "source": []
  },
  {
   "cell_type": "code",
   "execution_count": 291,
   "id": "7931d3eb",
   "metadata": {},
   "outputs": [
    {
     "data": {
      "text/html": [
       "<pre style=\"white-space:pre;overflow-x:auto;line-height:normal;font-family:Menlo,'DejaVu Sans Mono',consolas,'Courier New',monospace\"><span style=\"color: #008080; text-decoration-color: #008080; font-weight: bold\">50</span>\n",
       "</pre>\n"
      ],
      "text/plain": [
       "\u001b[1;36m50\u001b[0m\n"
      ]
     },
     "metadata": {},
     "output_type": "display_data"
    }
   ],
   "source": [
    "i = 6\n",
    "\n",
    "weird = np.where(np.isnan(se1000[i]).sum(0) == 7)[0]\n",
    "len(weird)"
   ]
  },
  {
   "cell_type": "code",
   "execution_count": 279,
   "id": "cafb246a",
   "metadata": {},
   "outputs": [
    {
     "data": {
      "text/html": [
       "<pre style=\"white-space:pre;overflow-x:auto;line-height:normal;font-family:Menlo,'DejaVu Sans Mono',consolas,'Courier New',monospace\"><span style=\"color: #800080; text-decoration-color: #800080; font-weight: bold\">array</span><span style=\"font-weight: bold\">([</span>  <span style=\"color: #008080; text-decoration-color: #008080; font-weight: bold\">6</span>,  <span style=\"color: #008080; text-decoration-color: #008080; font-weight: bold\">21</span>,  <span style=\"color: #008080; text-decoration-color: #008080; font-weight: bold\">27</span>,  <span style=\"color: #008080; text-decoration-color: #008080; font-weight: bold\">39</span>,  <span style=\"color: #008080; text-decoration-color: #008080; font-weight: bold\">40</span>,  <span style=\"color: #008080; text-decoration-color: #008080; font-weight: bold\">46</span>,  <span style=\"color: #008080; text-decoration-color: #008080; font-weight: bold\">52</span>,  <span style=\"color: #008080; text-decoration-color: #008080; font-weight: bold\">64</span>,  <span style=\"color: #008080; text-decoration-color: #008080; font-weight: bold\">89</span>, <span style=\"color: #008080; text-decoration-color: #008080; font-weight: bold\">249</span>, <span style=\"color: #008080; text-decoration-color: #008080; font-weight: bold\">291</span>, <span style=\"color: #008080; text-decoration-color: #008080; font-weight: bold\">520</span>, <span style=\"color: #008080; text-decoration-color: #008080; font-weight: bold\">532</span><span style=\"font-weight: bold\">])</span>\n",
       "</pre>\n"
      ],
      "text/plain": [
       "\u001b[1;35marray\u001b[0m\u001b[1m(\u001b[0m\u001b[1m[\u001b[0m  \u001b[1;36m6\u001b[0m,  \u001b[1;36m21\u001b[0m,  \u001b[1;36m27\u001b[0m,  \u001b[1;36m39\u001b[0m,  \u001b[1;36m40\u001b[0m,  \u001b[1;36m46\u001b[0m,  \u001b[1;36m52\u001b[0m,  \u001b[1;36m64\u001b[0m,  \u001b[1;36m89\u001b[0m, \u001b[1;36m249\u001b[0m, \u001b[1;36m291\u001b[0m, \u001b[1;36m520\u001b[0m, \u001b[1;36m532\u001b[0m\u001b[1m]\u001b[0m\u001b[1m)\u001b[0m\n"
      ]
     },
     "metadata": {},
     "output_type": "display_data"
    }
   ],
   "source": [
    "weird"
   ]
  },
  {
   "cell_type": "code",
   "execution_count": 280,
   "id": "5994f9a0",
   "metadata": {},
   "outputs": [
    {
     "data": {
      "text/html": [
       "<pre style=\"white-space:pre;overflow-x:auto;line-height:normal;font-family:Menlo,'DejaVu Sans Mono',consolas,'Courier New',monospace\"><span style=\"color: #800080; text-decoration-color: #800080; font-weight: bold\">array</span><span style=\"font-weight: bold\">([</span>nan, nan, nan, nan, nan, nan, nan<span style=\"font-weight: bold\">])</span>\n",
       "</pre>\n"
      ],
      "text/plain": [
       "\u001b[1;35marray\u001b[0m\u001b[1m(\u001b[0m\u001b[1m[\u001b[0mnan, nan, nan, nan, nan, nan, nan\u001b[1m]\u001b[0m\u001b[1m)\u001b[0m\n"
      ]
     },
     "metadata": {},
     "output_type": "display_data"
    }
   ],
   "source": [
    "se1000[i, :, 27]"
   ]
  },
  {
   "cell_type": "code",
   "execution_count": null,
   "id": "b491e0a2",
   "metadata": {},
   "outputs": [],
   "source": []
  },
  {
   "cell_type": "code",
   "execution_count": null,
   "id": "e243832d",
   "metadata": {},
   "outputs": [],
   "source": []
  },
  {
   "cell_type": "code",
   "execution_count": null,
   "id": "165cdee0",
   "metadata": {},
   "outputs": [],
   "source": []
  },
  {
   "cell_type": "code",
   "execution_count": 85,
   "id": "a040d19e",
   "metadata": {},
   "outputs": [
    {
     "data": {
      "text/html": [
       "<pre style=\"white-space:pre;overflow-x:auto;line-height:normal;font-family:Menlo,'DejaVu Sans Mono',consolas,'Courier New',monospace\">\n",
       "<span style=\"color: #800080; text-decoration-color: #800080; font-weight: bold\">array</span><span style=\"font-weight: bold\">([</span><span style=\"color: #008080; text-decoration-color: #008080; font-weight: bold\">2.00705907e-03</span>, <span style=\"color: #008080; text-decoration-color: #008080; font-weight: bold\">1.20874027e-06</span>, <span style=\"color: #008080; text-decoration-color: #008080; font-weight: bold\">4.87164581e-03</span>, <span style=\"color: #008080; text-decoration-color: #008080; font-weight: bold\">1.20874027e-06</span>,\n",
       "       <span style=\"color: #008080; text-decoration-color: #008080; font-weight: bold\">1.60160075e-03</span>, <span style=\"color: #008080; text-decoration-color: #008080; font-weight: bold\">1.20874027e-06</span>, <span style=\"color: #008080; text-decoration-color: #008080; font-weight: bold\">3.69430720e-03</span><span style=\"font-weight: bold\">])</span>\n",
       "</pre>\n"
      ],
      "text/plain": [
       "\n",
       "\u001b[1;35marray\u001b[0m\u001b[1m(\u001b[0m\u001b[1m[\u001b[0m\u001b[1;36m2.00705907e-03\u001b[0m, \u001b[1;36m1.20874027e-06\u001b[0m, \u001b[1;36m4.87164581e-03\u001b[0m, \u001b[1;36m1.20874027e-06\u001b[0m,\n",
       "       \u001b[1;36m1.60160075e-03\u001b[0m, \u001b[1;36m1.20874027e-06\u001b[0m, \u001b[1;36m3.69430720e-03\u001b[0m\u001b[1m]\u001b[0m\u001b[1m)\u001b[0m\n"
      ]
     },
     "metadata": {},
     "output_type": "display_data"
    }
   ],
   "source": [
    "se2[6][:, 0]"
   ]
  },
  {
   "cell_type": "code",
   "execution_count": 100,
   "id": "30a42919",
   "metadata": {},
   "outputs": [
    {
     "data": {
      "text/html": [
       "<pre style=\"white-space:pre;overflow-x:auto;line-height:normal;font-family:Menlo,'DejaVu Sans Mono',consolas,'Courier New',monospace\"><span style=\"font-weight: bold\">&lt;</span><span style=\"color: #ff00ff; text-decoration-color: #ff00ff; font-weight: bold\">matplotlib.lines.Line2D</span><span style=\"color: #000000; text-decoration-color: #000000\"> object at </span><span style=\"color: #008080; text-decoration-color: #008080; font-weight: bold\">0x7f088ca90ee0</span><span style=\"font-weight: bold\">&gt;</span>\n",
       "</pre>\n"
      ],
      "text/plain": [
       "\u001b[1m<\u001b[0m\u001b[1;95mmatplotlib.lines.Line2D\u001b[0m\u001b[39m object at \u001b[0m\u001b[1;36m0x7f088ca90ee0\u001b[0m\u001b[1m>\u001b[0m\n"
      ]
     },
     "metadata": {},
     "output_type": "display_data"
    },
    {
     "data": {
      "image/png": "[encoded data removed]"
     },
     "metadata": {},
     "output_type": "display_data"
    }
   ],
   "source": [
    "sns.histplot(se1000.ravel(), stat='percent',  bins=100)\n",
    "plt.axvline(bn.nanmean(se1000), color='g')"
   ]
  },
  {
   "cell_type": "code",
   "execution_count": 101,
   "id": "0ad41ff6",
   "metadata": {},
   "outputs": [
    {
     "data": {
      "text/html": [
       "<pre style=\"white-space:pre;overflow-x:auto;line-height:normal;font-family:Menlo,'DejaVu Sans Mono',consolas,'Courier New',monospace\"><span style=\"font-weight: bold\">&lt;</span><span style=\"color: #ff00ff; text-decoration-color: #ff00ff; font-weight: bold\">matplotlib.lines.Line2D</span><span style=\"color: #000000; text-decoration-color: #000000\"> object at </span><span style=\"color: #008080; text-decoration-color: #008080; font-weight: bold\">0x7f088ce7dc10</span><span style=\"font-weight: bold\">&gt;</span>\n",
       "</pre>\n"
      ],
      "text/plain": [
       "\u001b[1m<\u001b[0m\u001b[1;95mmatplotlib.lines.Line2D\u001b[0m\u001b[39m object at \u001b[0m\u001b[1;36m0x7f088ce7dc10\u001b[0m\u001b[1m>\u001b[0m\n"
      ]
     },
     "metadata": {},
     "output_type": "display_data"
    },
    {
     "data": {
      "image/png": "[encoded data removed]"
     },
     "metadata": {},
     "output_type": "display_data"
    }
   ],
   "source": [
    "sns.histplot(se2.ravel(), stat='percent', bins=100)\n",
    "plt.axvline(bn.nanmean(se2), color='r')"
   ]
  },
  {
   "cell_type": "code",
   "execution_count": null,
   "id": "08196570",
   "metadata": {},
   "outputs": [],
   "source": []
  },
  {
   "cell_type": "code",
   "execution_count": 88,
   "id": "875e53db",
   "metadata": {},
   "outputs": [],
   "source": []
  },
  {
   "cell_type": "code",
   "execution_count": 370,
   "id": "a0146da9",
   "metadata": {},
   "outputs": [
    {
     "data": {
      "text/html": [
       "<pre style=\"white-space:pre;overflow-x:auto;line-height:normal;font-family:Menlo,'DejaVu Sans Mono',consolas,'Courier New',monospace\"><span style=\"color: #008080; text-decoration-color: #008080; font-weight: bold\">0.6175013178703216</span>\n",
       "</pre>\n"
      ],
      "text/plain": [
       "\u001b[1;36m0.6175013178703216\u001b[0m\n"
      ]
     },
     "metadata": {},
     "output_type": "display_data"
    }
   ],
   "source": [
    "reject, pvals2 = boot.ttest(se2)\n",
    "(reject == 0).sum() / ((reject == 0).sum() + (reject == 1).sum())"
   ]
  },
  {
   "cell_type": "code",
   "execution_count": 371,
   "id": "02988bed",
   "metadata": {},
   "outputs": [
    {
     "data": {
      "text/html": [
       "<pre style=\"white-space:pre;overflow-x:auto;line-height:normal;font-family:Menlo,'DejaVu Sans Mono',consolas,'Courier New',monospace\"><span style=\"color: #008080; text-decoration-color: #008080; font-weight: bold\">0.46447021613073275</span>\n",
       "</pre>\n"
      ],
      "text/plain": [
       "\u001b[1;36m0.46447021613073275\u001b[0m\n"
      ]
     },
     "metadata": {},
     "output_type": "display_data"
    }
   ],
   "source": [
    "reject, pvals1 = boot.ttest(se1000, multi='fdr_bh')\n",
    "(reject == 0).sum() / ((reject == 0).sum() + (reject == 1).sum())"
   ]
  },
  {
   "cell_type": "code",
   "execution_count": 372,
   "id": "f79c5388",
   "metadata": {},
   "outputs": [
    {
     "data": {
      "text/html": [
       "<pre style=\"white-space:pre;overflow-x:auto;line-height:normal;font-family:Menlo,'DejaVu Sans Mono',consolas,'Courier New',monospace\"><span style=\"color: #008080; text-decoration-color: #008080; font-weight: bold\">0.46784396415392726</span>\n",
       "</pre>\n"
      ],
      "text/plain": [
       "\u001b[1;36m0.46784396415392726\u001b[0m\n"
      ]
     },
     "metadata": {},
     "output_type": "display_data"
    }
   ],
   "source": [
    "reject, pvals1 = boot.ttest(se10000, multi='fdr_bh')\n",
    "(reject == 0).sum() / ((reject == 0).sum() + (reject == 1).sum())"
   ]
  },
  {
   "cell_type": "code",
   "execution_count": null,
   "id": "f8ba3b60",
   "metadata": {},
   "outputs": [],
   "source": []
  },
  {
   "cell_type": "code",
   "execution_count": 373,
   "id": "9d39850f",
   "metadata": {},
   "outputs": [],
   "source": [
    "pi = boot.run_pi"
   ]
  },
  {
   "cell_type": "code",
   "execution_count": 374,
   "id": "045ce6d8",
   "metadata": {},
   "outputs": [
    {
     "data": {
      "text/html": [
       "<pre style=\"white-space:pre;overflow-x:auto;line-height:normal;font-family:Menlo,'DejaVu Sans Mono',consolas,'Courier New',monospace\"><span style=\"color: #008080; text-decoration-color: #008080; font-weight: bold\">0.46784396415392726</span>\n",
       "</pre>\n"
      ],
      "text/plain": [
       "\u001b[1;36m0.46784396415392726\u001b[0m\n"
      ]
     },
     "metadata": {},
     "output_type": "display_data"
    }
   ],
   "source": [
    "reject, pvals1 = boot.ttest(se10000, multi='fdr_bh')\n",
    "print((reject == 0).sum() / ((reject == 0).sum() + (reject == 1).sum()))\n",
    "\n",
    "reject = np.expand_dims(np.expand_dims(np.expand_dims(\n",
    "    reject, 1), 1), 1)\n",
    "for i in range(1, 4):\n",
    "    reject = np.repeat(reject, pi.shape[i], axis=i)\n",
    "pi_prune = pi.copy()\n",
    "pi_prune[reject == 0] = 0.0\n",
    "pi_prune /= np.nansum(pi_prune, -2, keepdims=True)\n",
    "pi_prune, _ = self.align_post_prune(pi_prune)"
   ]
  },
  {
   "cell_type": "code",
   "execution_count": null,
   "id": "7efcb75f",
   "metadata": {},
   "outputs": [],
   "source": []
  },
  {
   "cell_type": "code",
   "execution_count": 375,
   "id": "aa520eb9",
   "metadata": {},
   "outputs": [
    {
     "data": {
      "text/html": [
       "<pre style=\"white-space:pre;overflow-x:auto;line-height:normal;font-family:Menlo,'DejaVu Sans Mono',consolas,'Courier New',monospace\"><span style=\"color: #008080; text-decoration-color: #008080; font-weight: bold\">0.6175013178703216</span>\n",
       "</pre>\n"
      ],
      "text/plain": [
       "\u001b[1;36m0.6175013178703216\u001b[0m\n"
      ]
     },
     "metadata": {},
     "output_type": "display_data"
    }
   ],
   "source": [
    "reject, _ = boot.ttest(se2, multi='fdr_bh')\n",
    "print((reject == 0).sum() / ((reject == 0).sum() + (reject == 1).sum()))\n",
    "\n",
    "reject = np.expand_dims(np.expand_dims(np.expand_dims(\n",
    "    reject, 1), 1), 1)\n",
    "for i in range(1, 4):\n",
    "    reject = np.repeat(reject, pi.shape[i], axis=i)\n",
    "pi_prune_old = pi.copy()\n",
    "pi_prune_old[reject == 0] = 0.0\n",
    "pi_prune_old /= np.nansum(pi_prune_old, -2, keepdims=True)\n",
    "pi_prune_old, _ = self.align_post_prune(pi_prune_old)"
   ]
  },
  {
   "cell_type": "code",
   "execution_count": null,
   "id": "77df82d7",
   "metadata": {},
   "outputs": [],
   "source": []
  },
  {
   "cell_type": "code",
   "execution_count": 376,
   "id": "30c21a27",
   "metadata": {},
   "outputs": [
    {
     "data": {
      "text/html": [
       "<pre style=\"white-space:pre;overflow-x:auto;line-height:normal;font-family:Menlo,'DejaVu Sans Mono',consolas,'Courier New',monospace\">\n",
       "<span style=\"font-weight: bold\">(</span>\n",
       "    <span style=\"font-weight: bold\">{</span>\n",
       "        <span style=\"color: #008080; text-decoration-color: #008080; font-weight: bold\">1</span>: <span style=\"color: #008080; text-decoration-color: #008080; font-weight: bold\">0.93</span>,\n",
       "        <span style=\"color: #008080; text-decoration-color: #008080; font-weight: bold\">2</span>: <span style=\"color: #008080; text-decoration-color: #008080; font-weight: bold\">0.99</span>,\n",
       "        <span style=\"color: #008080; text-decoration-color: #008080; font-weight: bold\">3</span>: <span style=\"color: #008080; text-decoration-color: #008080; font-weight: bold\">0.992</span>,\n",
       "        <span style=\"color: #008080; text-decoration-color: #008080; font-weight: bold\">4</span>: <span style=\"color: #008080; text-decoration-color: #008080; font-weight: bold\">0.991</span>,\n",
       "        <span style=\"color: #008080; text-decoration-color: #008080; font-weight: bold\">5</span>: <span style=\"color: #008080; text-decoration-color: #008080; font-weight: bold\">0.993</span>,\n",
       "        <span style=\"color: #008080; text-decoration-color: #008080; font-weight: bold\">6</span>: <span style=\"color: #008080; text-decoration-color: #008080; font-weight: bold\">0.98</span>,\n",
       "        <span style=\"color: #008080; text-decoration-color: #008080; font-weight: bold\">7</span>: <span style=\"color: #008080; text-decoration-color: #008080; font-weight: bold\">0.969</span>,\n",
       "        <span style=\"color: #008080; text-decoration-color: #008080; font-weight: bold\">-1</span>: <span style=\"color: #008080; text-decoration-color: #008080; font-weight: bold\">0.978</span>\n",
       "    <span style=\"font-weight: bold\">}</span>,\n",
       "    <span style=\"font-weight: bold\">{</span>\n",
       "        <span style=\"color: #008080; text-decoration-color: #008080; font-weight: bold\">1</span>: <span style=\"color: #008080; text-decoration-color: #008080; font-weight: bold\">0.982</span>,\n",
       "        <span style=\"color: #008080; text-decoration-color: #008080; font-weight: bold\">2</span>: <span style=\"color: #008080; text-decoration-color: #008080; font-weight: bold\">0.989</span>,\n",
       "        <span style=\"color: #008080; text-decoration-color: #008080; font-weight: bold\">3</span>: <span style=\"color: #008080; text-decoration-color: #008080; font-weight: bold\">0.982</span>,\n",
       "        <span style=\"color: #008080; text-decoration-color: #008080; font-weight: bold\">4</span>: <span style=\"color: #008080; text-decoration-color: #008080; font-weight: bold\">0.967</span>,\n",
       "        <span style=\"color: #008080; text-decoration-color: #008080; font-weight: bold\">5</span>: <span style=\"color: #008080; text-decoration-color: #008080; font-weight: bold\">0.982</span>,\n",
       "        <span style=\"color: #008080; text-decoration-color: #008080; font-weight: bold\">6</span>: <span style=\"color: #008080; text-decoration-color: #008080; font-weight: bold\">0.978</span>,\n",
       "        <span style=\"color: #008080; text-decoration-color: #008080; font-weight: bold\">7</span>: <span style=\"color: #008080; text-decoration-color: #008080; font-weight: bold\">0.974</span>,\n",
       "        <span style=\"color: #008080; text-decoration-color: #008080; font-weight: bold\">-1</span>: <span style=\"color: #008080; text-decoration-color: #008080; font-weight: bold\">0.979</span>\n",
       "    <span style=\"font-weight: bold\">}</span>\n",
       "<span style=\"font-weight: bold\">)</span>\n",
       "</pre>\n"
      ],
      "text/plain": [
       "\n",
       "\u001b[1m(\u001b[0m\n",
       "    \u001b[1m{\u001b[0m\n",
       "        \u001b[1;36m1\u001b[0m: \u001b[1;36m0.93\u001b[0m,\n",
       "        \u001b[1;36m2\u001b[0m: \u001b[1;36m0.99\u001b[0m,\n",
       "        \u001b[1;36m3\u001b[0m: \u001b[1;36m0.992\u001b[0m,\n",
       "        \u001b[1;36m4\u001b[0m: \u001b[1;36m0.991\u001b[0m,\n",
       "        \u001b[1;36m5\u001b[0m: \u001b[1;36m0.993\u001b[0m,\n",
       "        \u001b[1;36m6\u001b[0m: \u001b[1;36m0.98\u001b[0m,\n",
       "        \u001b[1;36m7\u001b[0m: \u001b[1;36m0.969\u001b[0m,\n",
       "        \u001b[1;36m-1\u001b[0m: \u001b[1;36m0.978\u001b[0m\n",
       "    \u001b[1m}\u001b[0m,\n",
       "    \u001b[1m{\u001b[0m\n",
       "        \u001b[1;36m1\u001b[0m: \u001b[1;36m0.982\u001b[0m,\n",
       "        \u001b[1;36m2\u001b[0m: \u001b[1;36m0.989\u001b[0m,\n",
       "        \u001b[1;36m3\u001b[0m: \u001b[1;36m0.982\u001b[0m,\n",
       "        \u001b[1;36m4\u001b[0m: \u001b[1;36m0.967\u001b[0m,\n",
       "        \u001b[1;36m5\u001b[0m: \u001b[1;36m0.982\u001b[0m,\n",
       "        \u001b[1;36m6\u001b[0m: \u001b[1;36m0.978\u001b[0m,\n",
       "        \u001b[1;36m7\u001b[0m: \u001b[1;36m0.974\u001b[0m,\n",
       "        \u001b[1;36m-1\u001b[0m: \u001b[1;36m0.979\u001b[0m\n",
       "    \u001b[1m}\u001b[0m\n",
       "\u001b[1m)\u001b[0m\n"
      ]
     },
     "metadata": {},
     "output_type": "display_data"
    }
   ],
   "source": [
    "boot.pi_symmetry_score(avg(pi_prune))"
   ]
  },
  {
   "cell_type": "code",
   "execution_count": 377,
   "id": "3bfb8708",
   "metadata": {},
   "outputs": [
    {
     "data": {
      "text/html": [
       "<pre style=\"white-space:pre;overflow-x:auto;line-height:normal;font-family:Menlo,'DejaVu Sans Mono',consolas,'Courier New',monospace\">\n",
       "<span style=\"font-weight: bold\">(</span>\n",
       "    <span style=\"font-weight: bold\">{</span>\n",
       "        <span style=\"color: #008080; text-decoration-color: #008080; font-weight: bold\">1</span>: <span style=\"color: #008080; text-decoration-color: #008080; font-weight: bold\">0.921</span>,\n",
       "        <span style=\"color: #008080; text-decoration-color: #008080; font-weight: bold\">2</span>: <span style=\"color: #008080; text-decoration-color: #008080; font-weight: bold\">0.987</span>,\n",
       "        <span style=\"color: #008080; text-decoration-color: #008080; font-weight: bold\">3</span>: <span style=\"color: #008080; text-decoration-color: #008080; font-weight: bold\">0.991</span>,\n",
       "        <span style=\"color: #008080; text-decoration-color: #008080; font-weight: bold\">4</span>: <span style=\"color: #008080; text-decoration-color: #008080; font-weight: bold\">0.984</span>,\n",
       "        <span style=\"color: #008080; text-decoration-color: #008080; font-weight: bold\">5</span>: <span style=\"color: #008080; text-decoration-color: #008080; font-weight: bold\">0.973</span>,\n",
       "        <span style=\"color: #008080; text-decoration-color: #008080; font-weight: bold\">6</span>: <span style=\"color: #008080; text-decoration-color: #008080; font-weight: bold\">0.991</span>,\n",
       "        <span style=\"color: #008080; text-decoration-color: #008080; font-weight: bold\">7</span>: <span style=\"color: #008080; text-decoration-color: #008080; font-weight: bold\">0.97</span>,\n",
       "        <span style=\"color: #008080; text-decoration-color: #008080; font-weight: bold\">-1</span>: <span style=\"color: #008080; text-decoration-color: #008080; font-weight: bold\">0.974</span>\n",
       "    <span style=\"font-weight: bold\">}</span>,\n",
       "    <span style=\"font-weight: bold\">{</span>\n",
       "        <span style=\"color: #008080; text-decoration-color: #008080; font-weight: bold\">1</span>: <span style=\"color: #008080; text-decoration-color: #008080; font-weight: bold\">0.982</span>,\n",
       "        <span style=\"color: #008080; text-decoration-color: #008080; font-weight: bold\">2</span>: <span style=\"color: #008080; text-decoration-color: #008080; font-weight: bold\">0.989</span>,\n",
       "        <span style=\"color: #008080; text-decoration-color: #008080; font-weight: bold\">3</span>: <span style=\"color: #008080; text-decoration-color: #008080; font-weight: bold\">0.989</span>,\n",
       "        <span style=\"color: #008080; text-decoration-color: #008080; font-weight: bold\">4</span>: <span style=\"color: #008080; text-decoration-color: #008080; font-weight: bold\">0.97</span>,\n",
       "        <span style=\"color: #008080; text-decoration-color: #008080; font-weight: bold\">5</span>: <span style=\"color: #008080; text-decoration-color: #008080; font-weight: bold\">0.982</span>,\n",
       "        <span style=\"color: #008080; text-decoration-color: #008080; font-weight: bold\">6</span>: <span style=\"color: #008080; text-decoration-color: #008080; font-weight: bold\">0.982</span>,\n",
       "        <span style=\"color: #008080; text-decoration-color: #008080; font-weight: bold\">7</span>: <span style=\"color: #008080; text-decoration-color: #008080; font-weight: bold\">0.989</span>,\n",
       "        <span style=\"color: #008080; text-decoration-color: #008080; font-weight: bold\">-1</span>: <span style=\"color: #008080; text-decoration-color: #008080; font-weight: bold\">0.983</span>\n",
       "    <span style=\"font-weight: bold\">}</span>\n",
       "<span style=\"font-weight: bold\">)</span>\n",
       "</pre>\n"
      ],
      "text/plain": [
       "\n",
       "\u001b[1m(\u001b[0m\n",
       "    \u001b[1m{\u001b[0m\n",
       "        \u001b[1;36m1\u001b[0m: \u001b[1;36m0.921\u001b[0m,\n",
       "        \u001b[1;36m2\u001b[0m: \u001b[1;36m0.987\u001b[0m,\n",
       "        \u001b[1;36m3\u001b[0m: \u001b[1;36m0.991\u001b[0m,\n",
       "        \u001b[1;36m4\u001b[0m: \u001b[1;36m0.984\u001b[0m,\n",
       "        \u001b[1;36m5\u001b[0m: \u001b[1;36m0.973\u001b[0m,\n",
       "        \u001b[1;36m6\u001b[0m: \u001b[1;36m0.991\u001b[0m,\n",
       "        \u001b[1;36m7\u001b[0m: \u001b[1;36m0.97\u001b[0m,\n",
       "        \u001b[1;36m-1\u001b[0m: \u001b[1;36m0.974\u001b[0m\n",
       "    \u001b[1m}\u001b[0m,\n",
       "    \u001b[1m{\u001b[0m\n",
       "        \u001b[1;36m1\u001b[0m: \u001b[1;36m0.982\u001b[0m,\n",
       "        \u001b[1;36m2\u001b[0m: \u001b[1;36m0.989\u001b[0m,\n",
       "        \u001b[1;36m3\u001b[0m: \u001b[1;36m0.989\u001b[0m,\n",
       "        \u001b[1;36m4\u001b[0m: \u001b[1;36m0.97\u001b[0m,\n",
       "        \u001b[1;36m5\u001b[0m: \u001b[1;36m0.982\u001b[0m,\n",
       "        \u001b[1;36m6\u001b[0m: \u001b[1;36m0.982\u001b[0m,\n",
       "        \u001b[1;36m7\u001b[0m: \u001b[1;36m0.989\u001b[0m,\n",
       "        \u001b[1;36m-1\u001b[0m: \u001b[1;36m0.983\u001b[0m\n",
       "    \u001b[1m}\u001b[0m\n",
       "\u001b[1m)\u001b[0m\n"
      ]
     },
     "metadata": {},
     "output_type": "display_data"
    }
   ],
   "source": [
    "boot.pi_symmetry_score(avg(pi_prune_old))"
   ]
  },
  {
   "cell_type": "code",
   "execution_count": 378,
   "id": "fd031414",
   "metadata": {},
   "outputs": [
    {
     "data": {
      "image/png": "[encoded data removed]"
     },
     "metadata": {},
     "output_type": "display_data"
    }
   ],
   "source": [
    "_ = boot.show(\n",
    "    data={'new': avg(pi_prune), 'old': avg(pi_prune_old)},\n",
    "    figsize=(30, 6),\n",
    "    \n",
    ")"
   ]
  },
  {
   "cell_type": "code",
   "execution_count": null,
   "id": "34d8789c",
   "metadata": {},
   "outputs": [],
   "source": []
  },
  {
   "cell_type": "code",
   "execution_count": 379,
   "id": "f0b496dd",
   "metadata": {},
   "outputs": [
    {
     "data": {
      "text/html": [
       "<pre style=\"white-space:pre;overflow-x:auto;line-height:normal;font-family:Menlo,'DejaVu Sans Mono',consolas,'Courier New',monospace\"><span style=\"font-weight: bold\">(</span><span style=\"color: #008080; text-decoration-color: #008080; font-weight: bold\">7</span>, <span style=\"color: #008080; text-decoration-color: #008080; font-weight: bold\">4</span><span style=\"font-weight: bold\">)</span>\n",
       "</pre>\n"
      ],
      "text/plain": [
       "\u001b[1m(\u001b[0m\u001b[1;36m7\u001b[0m, \u001b[1;36m4\u001b[0m\u001b[1m)\u001b[0m\n"
      ]
     },
     "metadata": {},
     "output_type": "display_data"
    }
   ],
   "source": [
    "cut = cut_data(\n",
    "    pi_prune.reshape(-1, 7, 542),\n",
    "    bins=np.linspace(0.2, 1, 5),\n",
    "    oc_only=True,\n",
    ")[0].reshape(*pi_prune.shape[:4], 7, -1)\n",
    "cut_avg = avg(cut)\n",
    "cut_avg.shape"
   ]
  },
  {
   "cell_type": "code",
   "execution_count": 380,
   "id": "ea9d6d37",
   "metadata": {},
   "outputs": [
    {
     "data": {
      "text/html": [
       "<pre style=\"white-space:pre;overflow-x:auto;line-height:normal;font-family:Menlo,'DejaVu Sans Mono',consolas,'Courier New',monospace\">\n",
       "<span style=\"color: #800080; text-decoration-color: #800080; font-weight: bold\">array</span><span style=\"font-weight: bold\">([</span><span style=\"color: #008080; text-decoration-color: #008080; font-weight: bold\">33.95440461</span>, <span style=\"color: #008080; text-decoration-color: #008080; font-weight: bold\">53.64356658</span>, <span style=\"color: #008080; text-decoration-color: #008080; font-weight: bold\">62.22834349</span>, <span style=\"color: #008080; text-decoration-color: #008080; font-weight: bold\">27.77656789</span>, <span style=\"color: #008080; text-decoration-color: #008080; font-weight: bold\">45.07991833</span>,\n",
       "       <span style=\"color: #008080; text-decoration-color: #008080; font-weight: bold\">38.32349483</span>, <span style=\"color: #008080; text-decoration-color: #008080; font-weight: bold\">31.25459156</span><span style=\"font-weight: bold\">])</span>\n",
       "</pre>\n"
      ],
      "text/plain": [
       "\n",
       "\u001b[1;35marray\u001b[0m\u001b[1m(\u001b[0m\u001b[1m[\u001b[0m\u001b[1;36m33.95440461\u001b[0m, \u001b[1;36m53.64356658\u001b[0m, \u001b[1;36m62.22834349\u001b[0m, \u001b[1;36m27.77656789\u001b[0m, \u001b[1;36m45.07991833\u001b[0m,\n",
       "       \u001b[1;36m38.32349483\u001b[0m, \u001b[1;36m31.25459156\u001b[0m\u001b[1m]\u001b[0m\u001b[1m)\u001b[0m\n"
      ]
     },
     "metadata": {},
     "output_type": "display_data"
    }
   ],
   "source": [
    "cut_avg[:, -1]"
   ]
  },
  {
   "cell_type": "code",
   "execution_count": 381,
   "id": "a4fd023c",
   "metadata": {},
   "outputs": [
    {
     "data": {
      "text/html": [
       "<pre style=\"white-space:pre;overflow-x:auto;line-height:normal;font-family:Menlo,'DejaVu Sans Mono',consolas,'Courier New',monospace\">\n",
       "<span style=\"color: #800080; text-decoration-color: #800080; font-weight: bold\">array</span><span style=\"font-weight: bold\">([</span><span style=\"color: #008080; text-decoration-color: #008080; font-weight: bold\">66.04559539</span>, <span style=\"color: #008080; text-decoration-color: #008080; font-weight: bold\">46.35643342</span>, <span style=\"color: #008080; text-decoration-color: #008080; font-weight: bold\">37.77165651</span>, <span style=\"color: #008080; text-decoration-color: #008080; font-weight: bold\">72.22343211</span>, <span style=\"color: #008080; text-decoration-color: #008080; font-weight: bold\">54.92008167</span>,\n",
       "       <span style=\"color: #008080; text-decoration-color: #008080; font-weight: bold\">61.67650517</span>, <span style=\"color: #008080; text-decoration-color: #008080; font-weight: bold\">68.74540844</span><span style=\"font-weight: bold\">])</span>\n",
       "</pre>\n"
      ],
      "text/plain": [
       "\n",
       "\u001b[1;35marray\u001b[0m\u001b[1m(\u001b[0m\u001b[1m[\u001b[0m\u001b[1;36m66.04559539\u001b[0m, \u001b[1;36m46.35643342\u001b[0m, \u001b[1;36m37.77165651\u001b[0m, \u001b[1;36m72.22343211\u001b[0m, \u001b[1;36m54.92008167\u001b[0m,\n",
       "       \u001b[1;36m61.67650517\u001b[0m, \u001b[1;36m68.74540844\u001b[0m\u001b[1m]\u001b[0m\u001b[1m)\u001b[0m\n"
      ]
     },
     "metadata": {},
     "output_type": "display_data"
    }
   ],
   "source": [
    "100 - cut_avg[:, -1]"
   ]
  },
  {
   "cell_type": "code",
   "execution_count": 382,
   "id": "63c3c909",
   "metadata": {},
   "outputs": [
    {
     "data": {
      "image/png": "[encoded data removed]"
     },
     "metadata": {},
     "output_type": "display_data"
    }
   ],
   "source": [
    "plt.plot(cut_avg.T);"
   ]
  },
  {
   "cell_type": "code",
   "execution_count": 139,
   "id": "c316e8cc",
   "metadata": {},
   "outputs": [
    {
     "data": {
      "image/png": "[encoded data removed]"
     },
     "metadata": {},
     "output_type": "display_data"
    }
   ],
   "source": []
  },
  {
   "cell_type": "code",
   "execution_count": null,
   "id": "5ca92691",
   "metadata": {},
   "outputs": [],
   "source": []
  },
  {
   "cell_type": "code",
   "execution_count": 383,
   "id": "e3136e07",
   "metadata": {},
   "outputs": [
    {
     "data": {
      "text/html": [
       "<pre style=\"white-space:pre;overflow-x:auto;line-height:normal;font-family:Menlo,'DejaVu Sans Mono',consolas,'Courier New',monospace\"><span style=\"font-weight: bold\">(</span><span style=\"color: #008080; text-decoration-color: #008080; font-weight: bold\">7</span>, <span style=\"color: #008080; text-decoration-color: #008080; font-weight: bold\">4</span><span style=\"font-weight: bold\">)</span>\n",
       "</pre>\n"
      ],
      "text/plain": [
       "\u001b[1m(\u001b[0m\u001b[1;36m7\u001b[0m, \u001b[1;36m4\u001b[0m\u001b[1m)\u001b[0m\n"
      ]
     },
     "metadata": {},
     "output_type": "display_data"
    }
   ],
   "source": [
    "cut = cut_data(\n",
    "    pi_prune_old.reshape(-1, 7, 542),\n",
    "    bins=np.linspace(0.2, 1, 5),\n",
    "    oc_only=True,\n",
    ")[0].reshape(*pi_prune_old.shape[:4], 7, -1)\n",
    "cut_avg = avg(cut)\n",
    "cut_avg.shape"
   ]
  },
  {
   "cell_type": "code",
   "execution_count": 384,
   "id": "b1f4eb04",
   "metadata": {},
   "outputs": [
    {
     "data": {
      "text/html": [
       "<pre style=\"white-space:pre;overflow-x:auto;line-height:normal;font-family:Menlo,'DejaVu Sans Mono',consolas,'Courier New',monospace\">\n",
       "<span style=\"color: #800080; text-decoration-color: #800080; font-weight: bold\">array</span><span style=\"font-weight: bold\">([</span><span style=\"color: #008080; text-decoration-color: #008080; font-weight: bold\">35.23183303</span>, <span style=\"color: #008080; text-decoration-color: #008080; font-weight: bold\">62.15031065</span>, <span style=\"color: #008080; text-decoration-color: #008080; font-weight: bold\">70.37053462</span>, <span style=\"color: #008080; text-decoration-color: #008080; font-weight: bold\">35.24609345</span>, <span style=\"color: #008080; text-decoration-color: #008080; font-weight: bold\">38.44331183</span>,\n",
       "       <span style=\"color: #008080; text-decoration-color: #008080; font-weight: bold\">51.65965402</span>, <span style=\"color: #008080; text-decoration-color: #008080; font-weight: bold\">45.26871378</span><span style=\"font-weight: bold\">])</span>\n",
       "</pre>\n"
      ],
      "text/plain": [
       "\n",
       "\u001b[1;35marray\u001b[0m\u001b[1m(\u001b[0m\u001b[1m[\u001b[0m\u001b[1;36m35.23183303\u001b[0m, \u001b[1;36m62.15031065\u001b[0m, \u001b[1;36m70.37053462\u001b[0m, \u001b[1;36m35.24609345\u001b[0m, \u001b[1;36m38.44331183\u001b[0m,\n",
       "       \u001b[1;36m51.65965402\u001b[0m, \u001b[1;36m45.26871378\u001b[0m\u001b[1m]\u001b[0m\u001b[1m)\u001b[0m\n"
      ]
     },
     "metadata": {},
     "output_type": "display_data"
    }
   ],
   "source": [
    "cut_avg[:, -1]"
   ]
  },
  {
   "cell_type": "code",
   "execution_count": 385,
   "id": "840bcfb9",
   "metadata": {},
   "outputs": [
    {
     "data": {
      "text/html": [
       "<pre style=\"white-space:pre;overflow-x:auto;line-height:normal;font-family:Menlo,'DejaVu Sans Mono',consolas,'Courier New',monospace\">\n",
       "<span style=\"color: #800080; text-decoration-color: #800080; font-weight: bold\">array</span><span style=\"font-weight: bold\">([</span><span style=\"color: #008080; text-decoration-color: #008080; font-weight: bold\">64.76816697</span>, <span style=\"color: #008080; text-decoration-color: #008080; font-weight: bold\">37.84968935</span>, <span style=\"color: #008080; text-decoration-color: #008080; font-weight: bold\">29.62946538</span>, <span style=\"color: #008080; text-decoration-color: #008080; font-weight: bold\">64.75390655</span>, <span style=\"color: #008080; text-decoration-color: #008080; font-weight: bold\">61.55668817</span>,\n",
       "       <span style=\"color: #008080; text-decoration-color: #008080; font-weight: bold\">48.34034598</span>, <span style=\"color: #008080; text-decoration-color: #008080; font-weight: bold\">54.73128622</span><span style=\"font-weight: bold\">])</span>\n",
       "</pre>\n"
      ],
      "text/plain": [
       "\n",
       "\u001b[1;35marray\u001b[0m\u001b[1m(\u001b[0m\u001b[1m[\u001b[0m\u001b[1;36m64.76816697\u001b[0m, \u001b[1;36m37.84968935\u001b[0m, \u001b[1;36m29.62946538\u001b[0m, \u001b[1;36m64.75390655\u001b[0m, \u001b[1;36m61.55668817\u001b[0m,\n",
       "       \u001b[1;36m48.34034598\u001b[0m, \u001b[1;36m54.73128622\u001b[0m\u001b[1m]\u001b[0m\u001b[1m)\u001b[0m\n"
      ]
     },
     "metadata": {},
     "output_type": "display_data"
    }
   ],
   "source": [
    "100 - cut_avg[:, -1]"
   ]
  },
  {
   "cell_type": "code",
   "execution_count": 386,
   "id": "563867e4",
   "metadata": {},
   "outputs": [
    {
     "data": {
      "image/png": "[encoded data removed]"
     },
     "metadata": {},
     "output_type": "display_data"
    }
   ],
   "source": [
    "plt.plot(cut_avg.T);"
   ]
  },
  {
   "cell_type": "code",
   "execution_count": 143,
   "id": "4dc556bf",
   "metadata": {},
   "outputs": [
    {
     "data": {
      "image/png": "[encoded data removed]"
     },
     "metadata": {},
     "output_type": "display_data"
    }
   ],
   "source": []
  },
  {
   "cell_type": "code",
   "execution_count": null,
   "id": "06afaafd",
   "metadata": {},
   "outputs": [],
   "source": []
  },
  {
   "cell_type": "code",
   "execution_count": null,
   "id": "72cb4376",
   "metadata": {},
   "outputs": [],
   "source": []
  },
  {
   "cell_type": "code",
   "execution_count": 105,
   "id": "d2ca1207",
   "metadata": {},
   "outputs": [
    {
     "data": {
      "image/png": "[encoded data removed]"
     },
     "metadata": {},
     "output_type": "display_data"
    }
   ],
   "source": [
    "fig, ax = create_figure(1, 1, figsize=(13, 4))\n",
    "sns.histplot(pvals1.ravel(), bins=np.linspace(0, 1, 201), color='C0', label='FDR corrected 1')\n",
    "sns.histplot(pvals2.ravel(), bins=np.linspace(0, 1, 201), color='C1', label='FDR corrected 2')\n",
    "plt.legend()\n",
    "plt.show()"
   ]
  },
  {
   "cell_type": "code",
   "execution_count": null,
   "id": "d9c106e7",
   "metadata": {},
   "outputs": [],
   "source": []
  },
  {
   "cell_type": "code",
   "execution_count": null,
   "id": "dc8fa871",
   "metadata": {},
   "outputs": [],
   "source": []
  },
  {
   "cell_type": "code",
   "execution_count": 95,
   "id": "141ea858",
   "metadata": {},
   "outputs": [
    {
     "name": "stdout",
     "output_type": "stream",
     "text": [
      "CPU times: user 10min 4s, sys: 2min 2s, total: 12min 7s\n",
      "Wall time: 12min 31s\n"
     ]
    },
    {
     "data": {
      "text/html": [
       "<pre style=\"white-space:pre;overflow-x:auto;line-height:normal;font-family:Menlo,'DejaVu Sans Mono',consolas,'Courier New',monospace\"><span style=\"font-weight: bold\">((</span><span style=\"color: #008080; text-decoration-color: #008080; font-weight: bold\">1000</span>, <span style=\"color: #008080; text-decoration-color: #008080; font-weight: bold\">10</span>, <span style=\"color: #008080; text-decoration-color: #008080; font-weight: bold\">7</span>, <span style=\"color: #008080; text-decoration-color: #008080; font-weight: bold\">542</span><span style=\"font-weight: bold\">)</span>, <span style=\"font-weight: bold\">(</span><span style=\"color: #008080; text-decoration-color: #008080; font-weight: bold\">10</span>, <span style=\"color: #008080; text-decoration-color: #008080; font-weight: bold\">7</span>, <span style=\"color: #008080; text-decoration-color: #008080; font-weight: bold\">542</span><span style=\"font-weight: bold\">))</span>\n",
       "</pre>\n"
      ],
      "text/plain": [
       "\u001b[1m(\u001b[0m\u001b[1m(\u001b[0m\u001b[1;36m1000\u001b[0m, \u001b[1;36m10\u001b[0m, \u001b[1;36m7\u001b[0m, \u001b[1;36m542\u001b[0m\u001b[1m)\u001b[0m, \u001b[1m(\u001b[0m\u001b[1;36m10\u001b[0m, \u001b[1;36m7\u001b[0m, \u001b[1;36m542\u001b[0m\u001b[1m)\u001b[0m\u001b[1m)\u001b[0m\n"
      ]
     },
     "metadata": {},
     "output_type": "display_data"
    }
   ],
   "source": [
    "%%time\n",
    "\n",
    "bbb = bootstrap(\n",
    "    x=boot.run_pi,\n",
    "    n_resamples=int(1e3),\n",
    "    statistic=lambda a: avg(a, 2, 2),\n",
    "    skip=['d0'],\n",
    "    dims=4,\n",
    ")\n",
    "se2 = bn.nanstd(bbb, 0, ddof=1)\n",
    "bbb.shape, se2.shape"
   ]
  },
  {
   "cell_type": "code",
   "execution_count": null,
   "id": "77c538b0",
   "metadata": {},
   "outputs": [],
   "source": []
  },
  {
   "cell_type": "code",
   "execution_count": null,
   "id": "e27b7cb0",
   "metadata": {},
   "outputs": [],
   "source": []
  },
  {
   "cell_type": "code",
   "execution_count": null,
   "id": "ad4023e9",
   "metadata": {},
   "outputs": [],
   "source": []
  },
  {
   "cell_type": "code",
   "execution_count": null,
   "id": "72c4c988",
   "metadata": {},
   "outputs": [],
   "source": []
  },
  {
   "cell_type": "code",
   "execution_count": null,
   "id": "c0580ee4",
   "metadata": {},
   "outputs": [],
   "source": [
    "n_runs = boot.get_anim_num_runs()"
   ]
  },
  {
   "cell_type": "code",
   "execution_count": null,
   "id": "eaad3182",
   "metadata": {},
   "outputs": [],
   "source": [
    "# for i in range(mice.cfg.n_subjects)\n",
    "\n",
    "i = 2\n",
    "x = boot.run_pi[i]\n",
    "x = x.reshape((-1, *x.shape[-3:]))\n",
    "x.shape"
   ]
  },
  {
   "cell_type": "code",
   "execution_count": null,
   "id": "7a274be5",
   "metadata": {},
   "outputs": [],
   "source": [
    "nans = np.isnan(x).sum(-1).sum(-1)\n",
    "nans = nans == np.prod(x.shape[-2:])\n",
    "good_runs = np.where(nans.sum(-1) < nans.shape[-1])[0]\n",
    "assert len(good_runs) == n_runs[mice.get_key(i + 1)]\n",
    "\n",
    "x = x[good_runs]\n",
    "nans = nans[good_runs]\n",
    "good_seeds = np.where(nans.sum(0) < len(good_runs))[0]\n",
    "if len(good_seeds) < x.shape[-3]:\n",
    "    x = x[:, good_seeds]\n",
    "x.shape"
   ]
  },
  {
   "cell_type": "code",
   "execution_count": null,
   "id": "fae59ce9",
   "metadata": {},
   "outputs": [],
   "source": [
    "len(good_runs), len(good_seeds)"
   ]
  },
  {
   "cell_type": "code",
   "execution_count": null,
   "id": "cec93b6b",
   "metadata": {},
   "outputs": [],
   "source": [
    "self = boot"
   ]
  },
  {
   "cell_type": "code",
   "execution_count": null,
   "id": "a6599591",
   "metadata": {},
   "outputs": [],
   "source": [
    "n_runs = self.get_anim_num_runs()\n",
    "data_all = []\n",
    "for i in range(self.mice.cfg.n_subjects):\n",
    "    x = self.run_pi[i]\n",
    "    x = x.reshape((-1, *x.shape[-3:]))\n",
    "\n",
    "    nans = np.isnan(x).sum(-1).sum(-1)\n",
    "    nans = nans == np.prod(x.shape[-2:])\n",
    "    good_runs = np.where(nans.sum(-1) < nans.shape[-1])[0]\n",
    "    assert len(good_runs) == n_runs[self.mice.get_key(i + 1)]\n",
    "\n",
    "    x = x[good_runs]\n",
    "    nans = nans[good_runs]\n",
    "    good_seeds = np.where(nans.sum(0) < len(good_runs))[0]\n",
    "    if len(good_seeds) < x.shape[-3]:\n",
    "        x = x[:, good_seeds]\n",
    "    data_all.append(x)"
   ]
  },
  {
   "cell_type": "code",
   "execution_count": null,
   "id": "113a7f66",
   "metadata": {},
   "outputs": [],
   "source": []
  },
  {
   "cell_type": "code",
   "execution_count": null,
   "id": "8564e149",
   "metadata": {},
   "outputs": [],
   "source": [
    "len(data_all)"
   ]
  },
  {
   "cell_type": "code",
   "execution_count": 272,
   "id": "9738c0c0",
   "metadata": {},
   "outputs": [
    {
     "data": {
      "text/html": [
       "<pre style=\"white-space:pre;overflow-x:auto;line-height:normal;font-family:Menlo,'DejaVu Sans Mono',consolas,'Courier New',monospace\"><span style=\"color: #008080; text-decoration-color: #008080; font-weight: bold\">50</span>\n",
       "</pre>\n"
      ],
      "text/plain": [
       "\u001b[1;36m50\u001b[0m\n"
      ]
     },
     "metadata": {},
     "output_type": "display_data"
    }
   ],
   "source": [
    "len(weird)"
   ]
  },
  {
   "cell_type": "code",
   "execution_count": null,
   "id": "2fb20226",
   "metadata": {},
   "outputs": [],
   "source": []
  },
  {
   "cell_type": "code",
   "execution_count": 151,
   "id": "cb52c204",
   "metadata": {},
   "outputs": [],
   "source": [
    "x = np.random.rand(10, 3, 4, 250, 7, 154)"
   ]
  },
  {
   "cell_type": "code",
   "execution_count": 152,
   "id": "4fe24cc3",
   "metadata": {},
   "outputs": [],
   "source": [
    "def mk_statistic(dims: int = 3, est: Callable = bn.nanmean):\n",
    "    def statistic(x, axis):\n",
    "        y = avg(x, x.ndim - dims, 0)\n",
    "        y = est(y, axis=axis)\n",
    "        print(axis, x.shape, y.shape)\n",
    "        return y\n",
    "    return statistic"
   ]
  },
  {
   "cell_type": "code",
   "execution_count": 153,
   "id": "b8fdd5e6",
   "metadata": {},
   "outputs": [
    {
     "data": {
      "text/html": [
       "<pre style=\"white-space:pre;overflow-x:auto;line-height:normal;font-family:Menlo,'DejaVu Sans Mono',consolas,'Courier New',monospace\"><span style=\"color: #008080; text-decoration-color: #008080; font-weight: bold\">-1</span>\n",
       "<span style=\"font-weight: bold\">(</span><span style=\"color: #008080; text-decoration-color: #008080; font-weight: bold\">3</span>, <span style=\"color: #008080; text-decoration-color: #008080; font-weight: bold\">4</span>, <span style=\"color: #008080; text-decoration-color: #008080; font-weight: bold\">250</span>, <span style=\"color: #008080; text-decoration-color: #008080; font-weight: bold\">7</span>, <span style=\"color: #008080; text-decoration-color: #008080; font-weight: bold\">154</span>, <span style=\"color: #008080; text-decoration-color: #008080; font-weight: bold\">20</span>, <span style=\"color: #008080; text-decoration-color: #008080; font-weight: bold\">10</span><span style=\"font-weight: bold\">)</span>\n",
       "<span style=\"font-weight: bold\">(</span><span style=\"color: #008080; text-decoration-color: #008080; font-weight: bold\">7</span>, <span style=\"color: #008080; text-decoration-color: #008080; font-weight: bold\">154</span>, <span style=\"color: #008080; text-decoration-color: #008080; font-weight: bold\">20</span><span style=\"font-weight: bold\">)</span>\n",
       "</pre>\n"
      ],
      "text/plain": [
       "\u001b[1;36m-1\u001b[0m\n",
       "\u001b[1m(\u001b[0m\u001b[1;36m3\u001b[0m, \u001b[1;36m4\u001b[0m, \u001b[1;36m250\u001b[0m, \u001b[1;36m7\u001b[0m, \u001b[1;36m154\u001b[0m, \u001b[1;36m20\u001b[0m, \u001b[1;36m10\u001b[0m\u001b[1m)\u001b[0m\n",
       "\u001b[1m(\u001b[0m\u001b[1;36m7\u001b[0m, \u001b[1;36m154\u001b[0m, \u001b[1;36m20\u001b[0m\u001b[1m)\u001b[0m\n"
      ]
     },
     "metadata": {},
     "output_type": "display_data"
    },
    {
     "data": {
      "text/html": [
       "<pre style=\"white-space:pre;overflow-x:auto;line-height:normal;font-family:Menlo,'DejaVu Sans Mono',consolas,'Courier New',monospace\"><span style=\"color: #008080; text-decoration-color: #008080; font-weight: bold\">-1</span>\n",
       "<span style=\"font-weight: bold\">(</span><span style=\"color: #008080; text-decoration-color: #008080; font-weight: bold\">3</span>, <span style=\"color: #008080; text-decoration-color: #008080; font-weight: bold\">4</span>, <span style=\"color: #008080; text-decoration-color: #008080; font-weight: bold\">250</span>, <span style=\"color: #008080; text-decoration-color: #008080; font-weight: bold\">7</span>, <span style=\"color: #008080; text-decoration-color: #008080; font-weight: bold\">154</span>, <span style=\"color: #008080; text-decoration-color: #008080; font-weight: bold\">20</span>, <span style=\"color: #008080; text-decoration-color: #008080; font-weight: bold\">10</span><span style=\"font-weight: bold\">)</span>\n",
       "<span style=\"font-weight: bold\">(</span><span style=\"color: #008080; text-decoration-color: #008080; font-weight: bold\">7</span>, <span style=\"color: #008080; text-decoration-color: #008080; font-weight: bold\">154</span>, <span style=\"color: #008080; text-decoration-color: #008080; font-weight: bold\">20</span><span style=\"font-weight: bold\">)</span>\n",
       "</pre>\n"
      ],
      "text/plain": [
       "\u001b[1;36m-1\u001b[0m\n",
       "\u001b[1m(\u001b[0m\u001b[1;36m3\u001b[0m, \u001b[1;36m4\u001b[0m, \u001b[1;36m250\u001b[0m, \u001b[1;36m7\u001b[0m, \u001b[1;36m154\u001b[0m, \u001b[1;36m20\u001b[0m, \u001b[1;36m10\u001b[0m\u001b[1m)\u001b[0m\n",
       "\u001b[1m(\u001b[0m\u001b[1;36m7\u001b[0m, \u001b[1;36m154\u001b[0m, \u001b[1;36m20\u001b[0m\u001b[1m)\u001b[0m\n"
      ]
     },
     "metadata": {},
     "output_type": "display_data"
    },
    {
     "data": {
      "text/html": [
       "<pre style=\"white-space:pre;overflow-x:auto;line-height:normal;font-family:Menlo,'DejaVu Sans Mono',consolas,'Courier New',monospace\"><span style=\"color: #008080; text-decoration-color: #008080; font-weight: bold\">-1</span>\n",
       "<span style=\"font-weight: bold\">(</span><span style=\"color: #008080; text-decoration-color: #008080; font-weight: bold\">3</span>, <span style=\"color: #008080; text-decoration-color: #008080; font-weight: bold\">4</span>, <span style=\"color: #008080; text-decoration-color: #008080; font-weight: bold\">250</span>, <span style=\"color: #008080; text-decoration-color: #008080; font-weight: bold\">7</span>, <span style=\"color: #008080; text-decoration-color: #008080; font-weight: bold\">154</span>, <span style=\"color: #008080; text-decoration-color: #008080; font-weight: bold\">13</span>, <span style=\"color: #008080; text-decoration-color: #008080; font-weight: bold\">10</span><span style=\"font-weight: bold\">)</span>\n",
       "<span style=\"font-weight: bold\">(</span><span style=\"color: #008080; text-decoration-color: #008080; font-weight: bold\">7</span>, <span style=\"color: #008080; text-decoration-color: #008080; font-weight: bold\">154</span>, <span style=\"color: #008080; text-decoration-color: #008080; font-weight: bold\">13</span><span style=\"font-weight: bold\">)</span>\n",
       "</pre>\n"
      ],
      "text/plain": [
       "\u001b[1;36m-1\u001b[0m\n",
       "\u001b[1m(\u001b[0m\u001b[1;36m3\u001b[0m, \u001b[1;36m4\u001b[0m, \u001b[1;36m250\u001b[0m, \u001b[1;36m7\u001b[0m, \u001b[1;36m154\u001b[0m, \u001b[1;36m13\u001b[0m, \u001b[1;36m10\u001b[0m\u001b[1m)\u001b[0m\n",
       "\u001b[1m(\u001b[0m\u001b[1;36m7\u001b[0m, \u001b[1;36m154\u001b[0m, \u001b[1;36m13\u001b[0m\u001b[1m)\u001b[0m\n"
      ]
     },
     "metadata": {},
     "output_type": "display_data"
    },
    {
     "data": {
      "text/html": [
       "<pre style=\"white-space:pre;overflow-x:auto;line-height:normal;font-family:Menlo,'DejaVu Sans Mono',consolas,'Courier New',monospace\"><span style=\"color: #008080; text-decoration-color: #008080; font-weight: bold\">-1</span>\n",
       "<span style=\"font-weight: bold\">(</span><span style=\"color: #008080; text-decoration-color: #008080; font-weight: bold\">3</span>, <span style=\"color: #008080; text-decoration-color: #008080; font-weight: bold\">4</span>, <span style=\"color: #008080; text-decoration-color: #008080; font-weight: bold\">250</span>, <span style=\"color: #008080; text-decoration-color: #008080; font-weight: bold\">7</span>, <span style=\"color: #008080; text-decoration-color: #008080; font-weight: bold\">154</span>, <span style=\"color: #008080; text-decoration-color: #008080; font-weight: bold\">10</span><span style=\"font-weight: bold\">)</span>\n",
       "<span style=\"font-weight: bold\">(</span><span style=\"color: #008080; text-decoration-color: #008080; font-weight: bold\">7</span>, <span style=\"color: #008080; text-decoration-color: #008080; font-weight: bold\">154</span><span style=\"font-weight: bold\">)</span>\n",
       "</pre>\n"
      ],
      "text/plain": [
       "\u001b[1;36m-1\u001b[0m\n",
       "\u001b[1m(\u001b[0m\u001b[1;36m3\u001b[0m, \u001b[1;36m4\u001b[0m, \u001b[1;36m250\u001b[0m, \u001b[1;36m7\u001b[0m, \u001b[1;36m154\u001b[0m, \u001b[1;36m10\u001b[0m\u001b[1m)\u001b[0m\n",
       "\u001b[1m(\u001b[0m\u001b[1;36m7\u001b[0m, \u001b[1;36m154\u001b[0m\u001b[1m)\u001b[0m\n"
      ]
     },
     "metadata": {},
     "output_type": "display_data"
    },
    {
     "data": {
      "text/html": [
       "<pre style=\"white-space:pre;overflow-x:auto;line-height:normal;font-family:Menlo,'DejaVu Sans Mono',consolas,'Courier New',monospace\"><span style=\"color: #008080; text-decoration-color: #008080; font-weight: bold\">-1</span>\n",
       "<span style=\"font-weight: bold\">(</span><span style=\"color: #008080; text-decoration-color: #008080; font-weight: bold\">3</span>, <span style=\"color: #008080; text-decoration-color: #008080; font-weight: bold\">4</span>, <span style=\"color: #008080; text-decoration-color: #008080; font-weight: bold\">250</span>, <span style=\"color: #008080; text-decoration-color: #008080; font-weight: bold\">7</span>, <span style=\"color: #008080; text-decoration-color: #008080; font-weight: bold\">154</span>, <span style=\"color: #008080; text-decoration-color: #008080; font-weight: bold\">10</span>, <span style=\"color: #008080; text-decoration-color: #008080; font-weight: bold\">9</span><span style=\"font-weight: bold\">)</span>\n",
       "<span style=\"font-weight: bold\">(</span><span style=\"color: #008080; text-decoration-color: #008080; font-weight: bold\">7</span>, <span style=\"color: #008080; text-decoration-color: #008080; font-weight: bold\">154</span>, <span style=\"color: #008080; text-decoration-color: #008080; font-weight: bold\">10</span><span style=\"font-weight: bold\">)</span>\n",
       "</pre>\n"
      ],
      "text/plain": [
       "\u001b[1;36m-1\u001b[0m\n",
       "\u001b[1m(\u001b[0m\u001b[1;36m3\u001b[0m, \u001b[1;36m4\u001b[0m, \u001b[1;36m250\u001b[0m, \u001b[1;36m7\u001b[0m, \u001b[1;36m154\u001b[0m, \u001b[1;36m10\u001b[0m, \u001b[1;36m9\u001b[0m\u001b[1m)\u001b[0m\n",
       "\u001b[1m(\u001b[0m\u001b[1;36m7\u001b[0m, \u001b[1;36m154\u001b[0m, \u001b[1;36m10\u001b[0m\u001b[1m)\u001b[0m\n"
      ]
     },
     "metadata": {},
     "output_type": "display_data"
    }
   ],
   "source": [
    "data = x # bn.nanmean(x, -3)\n",
    "\n",
    "b = sp_stats.bootstrap(\n",
    "    data=(data,),\n",
    "    statistic=mk_statistic(data.ndim - 3),\n",
    "    n_resamples=53,\n",
    "    batch=20,\n",
    "    method='BCa',\n",
    "    confidence_level=0.95,\n",
    "    random_state=42,\n",
    "    vectorized=True,\n",
    "    axis=0,\n",
    ")"
   ]
  },
  {
   "cell_type": "code",
   "execution_count": 154,
   "id": "43d9182e",
   "metadata": {},
   "outputs": [
    {
     "data": {
      "text/html": [
       "<pre style=\"white-space:pre;overflow-x:auto;line-height:normal;font-family:Menlo,'DejaVu Sans Mono',consolas,'Courier New',monospace\"><span style=\"font-weight: bold\">((</span><span style=\"color: #008080; text-decoration-color: #008080; font-weight: bold\">10</span>, <span style=\"color: #008080; text-decoration-color: #008080; font-weight: bold\">3</span>, <span style=\"color: #008080; text-decoration-color: #008080; font-weight: bold\">4</span>, <span style=\"color: #008080; text-decoration-color: #008080; font-weight: bold\">250</span>, <span style=\"color: #008080; text-decoration-color: #008080; font-weight: bold\">7</span>, <span style=\"color: #008080; text-decoration-color: #008080; font-weight: bold\">154</span><span style=\"font-weight: bold\">)</span>, <span style=\"font-weight: bold\">(</span><span style=\"color: #008080; text-decoration-color: #008080; font-weight: bold\">7</span>, <span style=\"color: #008080; text-decoration-color: #008080; font-weight: bold\">154</span><span style=\"font-weight: bold\">))</span>\n",
       "</pre>\n"
      ],
      "text/plain": [
       "\u001b[1m(\u001b[0m\u001b[1m(\u001b[0m\u001b[1;36m10\u001b[0m, \u001b[1;36m3\u001b[0m, \u001b[1;36m4\u001b[0m, \u001b[1;36m250\u001b[0m, \u001b[1;36m7\u001b[0m, \u001b[1;36m154\u001b[0m\u001b[1m)\u001b[0m, \u001b[1m(\u001b[0m\u001b[1;36m7\u001b[0m, \u001b[1;36m154\u001b[0m\u001b[1m)\u001b[0m\u001b[1m)\u001b[0m\n"
      ]
     },
     "metadata": {},
     "output_type": "display_data"
    }
   ],
   "source": [
    "data.shape, b.standard_error.shape"
   ]
  },
  {
   "cell_type": "code",
   "execution_count": null,
   "id": "4d352ee1",
   "metadata": {},
   "outputs": [],
   "source": []
  },
  {
   "cell_type": "code",
   "execution_count": null,
   "id": "b712b07a",
   "metadata": {},
   "outputs": [],
   "source": [
    "data = x\n",
    "\n",
    "b = sp_stats.bootstrap(\n",
    "    data=(data,),\n",
    "    statistic=mk_statistic(data.ndim - 3),\n",
    "    n_resamples=53,\n",
    "    batch=20,\n",
    "    method='BCa',\n",
    "    confidence_level=0.95,\n",
    "    random_state=42,\n",
    "    vectorized=True,\n",
    "    axis=0,\n",
    ")"
   ]
  },
  {
   "cell_type": "code",
   "execution_count": null,
   "id": "26c640ec",
   "metadata": {},
   "outputs": [],
   "source": [
    "data.shape, b.standard_error.shape"
   ]
  },
  {
   "cell_type": "code",
   "execution_count": null,
   "id": "4e857531",
   "metadata": {},
   "outputs": [],
   "source": []
  },
  {
   "cell_type": "code",
   "execution_count": null,
   "id": "4e938144",
   "metadata": {},
   "outputs": [],
   "source": [
    "anim = 5\n",
    "x_indiv = x[anim].reshape((-1, *x.shape[-3:]))\n",
    "x_indiv.shape"
   ]
  },
  {
   "cell_type": "code",
   "execution_count": null,
   "id": "d369969f",
   "metadata": {},
   "outputs": [],
   "source": [
    "b = sp_stats.bootstrap(\n",
    "    data=(x_indiv,),\n",
    "    statistic=mk_statistic(x_indiv.ndim - 3),\n",
    "    n_resamples=53,\n",
    "    batch=20,\n",
    "    method='BCa',\n",
    "    confidence_level=0.95,\n",
    "    random_state=42,\n",
    "    vectorized=True,\n",
    "    axis=0,\n",
    ")"
   ]
  },
  {
   "cell_type": "code",
   "execution_count": null,
   "id": "68315778",
   "metadata": {},
   "outputs": [],
   "source": [
    "x_indiv.shape, b.standard_error.shape"
   ]
  },
  {
   "cell_type": "code",
   "execution_count": null,
   "id": "49cf5e6a",
   "metadata": {},
   "outputs": [],
   "source": []
  },
  {
   "cell_type": "code",
   "execution_count": null,
   "id": "cc0a97b8",
   "metadata": {},
   "outputs": [],
   "source": []
  },
  {
   "cell_type": "code",
   "execution_count": 274,
   "id": "f5b8226d",
   "metadata": {},
   "outputs": [],
   "source": [
    "i = 6\n",
    "\n",
    "weird = np.where(np.isnan(se1000[i]).sum(0) == 7)[0]"
   ]
  },
  {
   "cell_type": "code",
   "execution_count": 275,
   "id": "1bc2984c",
   "metadata": {},
   "outputs": [
    {
     "data": {
      "text/html": [
       "<pre style=\"white-space:pre;overflow-x:auto;line-height:normal;font-family:Menlo,'DejaVu Sans Mono',consolas,'Courier New',monospace\"><span style=\"color: #008080; text-decoration-color: #008080; font-weight: bold\">13</span>\n",
       "</pre>\n"
      ],
      "text/plain": [
       "\u001b[1;36m13\u001b[0m\n"
      ]
     },
     "metadata": {},
     "output_type": "display_data"
    }
   ],
   "source": [
    "len(weird)"
   ]
  },
  {
   "cell_type": "code",
   "execution_count": 158,
   "id": "9c4287d9",
   "metadata": {},
   "outputs": [
    {
     "data": {
      "text/html": [
       "<pre style=\"white-space:pre;overflow-x:auto;line-height:normal;font-family:Menlo,'DejaVu Sans Mono',consolas,'Courier New',monospace\">\n",
       "<span style=\"color: #800080; text-decoration-color: #800080; font-weight: bold\">array</span><span style=\"font-weight: bold\">([</span>  <span style=\"color: #008080; text-decoration-color: #008080; font-weight: bold\">0</span>,   <span style=\"color: #008080; text-decoration-color: #008080; font-weight: bold\">2</span>,   <span style=\"color: #008080; text-decoration-color: #008080; font-weight: bold\">4</span>,   <span style=\"color: #008080; text-decoration-color: #008080; font-weight: bold\">5</span>,   <span style=\"color: #008080; text-decoration-color: #008080; font-weight: bold\">6</span>,  <span style=\"color: #008080; text-decoration-color: #008080; font-weight: bold\">11</span>,  <span style=\"color: #008080; text-decoration-color: #008080; font-weight: bold\">12</span>,  <span style=\"color: #008080; text-decoration-color: #008080; font-weight: bold\">20</span>,  <span style=\"color: #008080; text-decoration-color: #008080; font-weight: bold\">21</span>,  <span style=\"color: #008080; text-decoration-color: #008080; font-weight: bold\">27</span>,  <span style=\"color: #008080; text-decoration-color: #008080; font-weight: bold\">29</span>,  <span style=\"color: #008080; text-decoration-color: #008080; font-weight: bold\">39</span>,  <span style=\"color: #008080; text-decoration-color: #008080; font-weight: bold\">40</span>,\n",
       "        <span style=\"color: #008080; text-decoration-color: #008080; font-weight: bold\">45</span>,  <span style=\"color: #008080; text-decoration-color: #008080; font-weight: bold\">46</span>,  <span style=\"color: #008080; text-decoration-color: #008080; font-weight: bold\">52</span>,  <span style=\"color: #008080; text-decoration-color: #008080; font-weight: bold\">55</span>,  <span style=\"color: #008080; text-decoration-color: #008080; font-weight: bold\">60</span>,  <span style=\"color: #008080; text-decoration-color: #008080; font-weight: bold\">64</span>,  <span style=\"color: #008080; text-decoration-color: #008080; font-weight: bold\">65</span>,  <span style=\"color: #008080; text-decoration-color: #008080; font-weight: bold\">78</span>,  <span style=\"color: #008080; text-decoration-color: #008080; font-weight: bold\">79</span>,  <span style=\"color: #008080; text-decoration-color: #008080; font-weight: bold\">89</span>, <span style=\"color: #008080; text-decoration-color: #008080; font-weight: bold\">111</span>, <span style=\"color: #008080; text-decoration-color: #008080; font-weight: bold\">123</span>, <span style=\"color: #008080; text-decoration-color: #008080; font-weight: bold\">126</span>,\n",
       "       <span style=\"color: #008080; text-decoration-color: #008080; font-weight: bold\">136</span>, <span style=\"color: #008080; text-decoration-color: #008080; font-weight: bold\">137</span>, <span style=\"color: #008080; text-decoration-color: #008080; font-weight: bold\">140</span>, <span style=\"color: #008080; text-decoration-color: #008080; font-weight: bold\">154</span>, <span style=\"color: #008080; text-decoration-color: #008080; font-weight: bold\">155</span>, <span style=\"color: #008080; text-decoration-color: #008080; font-weight: bold\">172</span>, <span style=\"color: #008080; text-decoration-color: #008080; font-weight: bold\">184</span>, <span style=\"color: #008080; text-decoration-color: #008080; font-weight: bold\">195</span>, <span style=\"color: #008080; text-decoration-color: #008080; font-weight: bold\">202</span>, <span style=\"color: #008080; text-decoration-color: #008080; font-weight: bold\">211</span>, <span style=\"color: #008080; text-decoration-color: #008080; font-weight: bold\">220</span>, <span style=\"color: #008080; text-decoration-color: #008080; font-weight: bold\">233</span>, <span style=\"color: #008080; text-decoration-color: #008080; font-weight: bold\">249</span>,\n",
       "       <span style=\"color: #008080; text-decoration-color: #008080; font-weight: bold\">254</span>, <span style=\"color: #008080; text-decoration-color: #008080; font-weight: bold\">272</span>, <span style=\"color: #008080; text-decoration-color: #008080; font-weight: bold\">275</span>, <span style=\"color: #008080; text-decoration-color: #008080; font-weight: bold\">291</span>, <span style=\"color: #008080; text-decoration-color: #008080; font-weight: bold\">300</span>, <span style=\"color: #008080; text-decoration-color: #008080; font-weight: bold\">520</span>, <span style=\"color: #008080; text-decoration-color: #008080; font-weight: bold\">527</span>, <span style=\"color: #008080; text-decoration-color: #008080; font-weight: bold\">532</span>, <span style=\"color: #008080; text-decoration-color: #008080; font-weight: bold\">536</span>, <span style=\"color: #008080; text-decoration-color: #008080; font-weight: bold\">539</span>, <span style=\"color: #008080; text-decoration-color: #008080; font-weight: bold\">541</span><span style=\"font-weight: bold\">])</span>\n",
       "</pre>\n"
      ],
      "text/plain": [
       "\n",
       "\u001b[1;35marray\u001b[0m\u001b[1m(\u001b[0m\u001b[1m[\u001b[0m  \u001b[1;36m0\u001b[0m,   \u001b[1;36m2\u001b[0m,   \u001b[1;36m4\u001b[0m,   \u001b[1;36m5\u001b[0m,   \u001b[1;36m6\u001b[0m,  \u001b[1;36m11\u001b[0m,  \u001b[1;36m12\u001b[0m,  \u001b[1;36m20\u001b[0m,  \u001b[1;36m21\u001b[0m,  \u001b[1;36m27\u001b[0m,  \u001b[1;36m29\u001b[0m,  \u001b[1;36m39\u001b[0m,  \u001b[1;36m40\u001b[0m,\n",
       "        \u001b[1;36m45\u001b[0m,  \u001b[1;36m46\u001b[0m,  \u001b[1;36m52\u001b[0m,  \u001b[1;36m55\u001b[0m,  \u001b[1;36m60\u001b[0m,  \u001b[1;36m64\u001b[0m,  \u001b[1;36m65\u001b[0m,  \u001b[1;36m78\u001b[0m,  \u001b[1;36m79\u001b[0m,  \u001b[1;36m89\u001b[0m, \u001b[1;36m111\u001b[0m, \u001b[1;36m123\u001b[0m, \u001b[1;36m126\u001b[0m,\n",
       "       \u001b[1;36m136\u001b[0m, \u001b[1;36m137\u001b[0m, \u001b[1;36m140\u001b[0m, \u001b[1;36m154\u001b[0m, \u001b[1;36m155\u001b[0m, \u001b[1;36m172\u001b[0m, \u001b[1;36m184\u001b[0m, \u001b[1;36m195\u001b[0m, \u001b[1;36m202\u001b[0m, \u001b[1;36m211\u001b[0m, \u001b[1;36m220\u001b[0m, \u001b[1;36m233\u001b[0m, \u001b[1;36m249\u001b[0m,\n",
       "       \u001b[1;36m254\u001b[0m, \u001b[1;36m272\u001b[0m, \u001b[1;36m275\u001b[0m, \u001b[1;36m291\u001b[0m, \u001b[1;36m300\u001b[0m, \u001b[1;36m520\u001b[0m, \u001b[1;36m527\u001b[0m, \u001b[1;36m532\u001b[0m, \u001b[1;36m536\u001b[0m, \u001b[1;36m539\u001b[0m, \u001b[1;36m541\u001b[0m\u001b[1m]\u001b[0m\u001b[1m)\u001b[0m\n"
      ]
     },
     "metadata": {},
     "output_type": "display_data"
    }
   ],
   "source": []
  },
  {
   "cell_type": "code",
   "execution_count": 161,
   "id": "3ed8ce9a",
   "metadata": {},
   "outputs": [
    {
     "data": {
      "text/html": [
       "<pre style=\"white-space:pre;overflow-x:auto;line-height:normal;font-family:Menlo,'DejaVu Sans Mono',consolas,'Courier New',monospace\"><span style=\"font-weight: bold\">&lt;</span><span style=\"color: #ff00ff; text-decoration-color: #ff00ff; font-weight: bold\">AxesSubplot:</span><span style=\"color: #808000; text-decoration-color: #808000; font-weight: bold\">ylabel</span><span style=\"color: #000000; text-decoration-color: #000000\">=</span><span style=\"color: #008000; text-decoration-color: #008000\">'Count'</span><span style=\"font-weight: bold\">&gt;</span>\n",
       "</pre>\n"
      ],
      "text/plain": [
       "\u001b[1m<\u001b[0m\u001b[1;95mAxesSubplot:\u001b[0m\u001b[1;33mylabel\u001b[0m\u001b[39m=\u001b[0m\u001b[32m'Count'\u001b[0m\u001b[1m>\u001b[0m\n"
      ]
     },
     "metadata": {},
     "output_type": "display_data"
    },
    {
     "data": {
      "image/png": "[encoded data removed]"
     },
     "metadata": {},
     "output_type": "display_data"
    }
   ],
   "source": [
    "sns.histplot(se2[i][:, weird].ravel())"
   ]
  },
  {
   "cell_type": "code",
   "execution_count": 165,
   "id": "0d815ca1",
   "metadata": {},
   "outputs": [
    {
     "data": {
      "text/html": [
       "<pre style=\"white-space:pre;overflow-x:auto;line-height:normal;font-family:Menlo,'DejaVu Sans Mono',consolas,'Courier New',monospace\"><span style=\"font-weight: bold\">(</span><span style=\"color: #008080; text-decoration-color: #008080; font-weight: bold\">6</span>, <span style=\"color: #008080; text-decoration-color: #008080; font-weight: bold\">43</span><span style=\"font-weight: bold\">)</span>\n",
       "</pre>\n"
      ],
      "text/plain": [
       "\u001b[1m(\u001b[0m\u001b[1;36m6\u001b[0m, \u001b[1;36m43\u001b[0m\u001b[1m)\u001b[0m\n"
      ]
     },
     "metadata": {},
     "output_type": "display_data"
    }
   ],
   "source": [
    "np.unravel_index(np.nanargmax(se2[i][:, weird]), (7, len(weird)))"
   ]
  },
  {
   "cell_type": "code",
   "execution_count": 166,
   "id": "de33c788",
   "metadata": {},
   "outputs": [
    {
     "data": {
      "text/html": [
       "<pre style=\"white-space:pre;overflow-x:auto;line-height:normal;font-family:Menlo,'DejaVu Sans Mono',consolas,'Courier New',monospace\"><span style=\"color: #008080; text-decoration-color: #008080; font-weight: bold\">300</span>\n",
       "</pre>\n"
      ],
      "text/plain": [
       "\u001b[1;36m300\u001b[0m\n"
      ]
     },
     "metadata": {},
     "output_type": "display_data"
    }
   ],
   "source": [
    "weird[43]"
   ]
  },
  {
   "cell_type": "code",
   "execution_count": 181,
   "id": "0cc9d435",
   "metadata": {},
   "outputs": [
    {
     "data": {
      "text/html": [
       "<pre style=\"white-space:pre;overflow-x:auto;line-height:normal;font-family:Menlo,'DejaVu Sans Mono',consolas,'Courier New',monospace\"><span style=\"font-weight: bold\">&lt;</span><span style=\"color: #ff00ff; text-decoration-color: #ff00ff; font-weight: bold\">AxesSubplot:</span><span style=\"color: #808000; text-decoration-color: #808000; font-weight: bold\">ylabel</span><span style=\"color: #000000; text-decoration-color: #000000\">=</span><span style=\"color: #008000; text-decoration-color: #008000\">'Count'</span><span style=\"font-weight: bold\">&gt;</span>\n",
       "</pre>\n"
      ],
      "text/plain": [
       "\u001b[1m<\u001b[0m\u001b[1;95mAxesSubplot:\u001b[0m\u001b[1;33mylabel\u001b[0m\u001b[39m=\u001b[0m\u001b[32m'Count'\u001b[0m\u001b[1m>\u001b[0m\n"
      ]
     },
     "metadata": {},
     "output_type": "display_data"
    },
    {
     "data": {
      "image/png": "[encoded data removed]"
     },
     "metadata": {},
     "output_type": "display_data"
    }
   ],
   "source": [
    "sns.histplot(boot.run_pi[6, ..., 300][..., 0].ravel(), bins=np.linspace(0, 1, 101), color='C6')\n",
    "sns.histplot(boot.run_pi[6, ..., 300][..., 6].ravel(), bins=np.linspace(0, 1, 101))"
   ]
  },
  {
   "cell_type": "code",
   "execution_count": null,
   "id": "903a5da0",
   "metadata": {},
   "outputs": [],
   "source": []
  },
  {
   "cell_type": "code",
   "execution_count": 182,
   "id": "c5a05003",
   "metadata": {},
   "outputs": [
    {
     "data": {
      "text/html": [
       "<pre style=\"white-space:pre;overflow-x:auto;line-height:normal;font-family:Menlo,'DejaVu Sans Mono',consolas,'Courier New',monospace\"><span style=\"color: #800080; text-decoration-color: #800080; font-weight: bold\">array</span><span style=\"font-weight: bold\">([</span>nan, nan, nan, nan, nan, nan, nan<span style=\"font-weight: bold\">])</span>\n",
       "</pre>\n"
      ],
      "text/plain": [
       "\u001b[1;35marray\u001b[0m\u001b[1m(\u001b[0m\u001b[1m[\u001b[0mnan, nan, nan, nan, nan, nan, nan\u001b[1m]\u001b[0m\u001b[1m)\u001b[0m\n"
      ]
     },
     "metadata": {},
     "output_type": "display_data"
    }
   ],
   "source": [
    "se1000[i, :, 300]"
   ]
  },
  {
   "cell_type": "code",
   "execution_count": 183,
   "id": "bd998d9e",
   "metadata": {},
   "outputs": [
    {
     "data": {
      "text/html": [
       "<pre style=\"white-space:pre;overflow-x:auto;line-height:normal;font-family:Menlo,'DejaVu Sans Mono',consolas,'Courier New',monospace\">\n",
       "<span style=\"color: #800080; text-decoration-color: #800080; font-weight: bold\">array</span><span style=\"font-weight: bold\">([</span><span style=\"color: #008080; text-decoration-color: #008080; font-weight: bold\">0.19551545</span>, <span style=\"color: #008080; text-decoration-color: #008080; font-weight: bold\">0.00151039</span>, <span style=\"color: #008080; text-decoration-color: #008080; font-weight: bold\">0.00968913</span>, <span style=\"color: #008080; text-decoration-color: #008080; font-weight: bold\">0.02433845</span>, <span style=\"color: #008080; text-decoration-color: #008080; font-weight: bold\">0.02460421</span>,\n",
       "       <span style=\"color: #008080; text-decoration-color: #008080; font-weight: bold\">0.00666748</span>, <span style=\"color: #008080; text-decoration-color: #008080; font-weight: bold\">0.20526483</span><span style=\"font-weight: bold\">])</span>\n",
       "</pre>\n"
      ],
      "text/plain": [
       "\n",
       "\u001b[1;35marray\u001b[0m\u001b[1m(\u001b[0m\u001b[1m[\u001b[0m\u001b[1;36m0.19551545\u001b[0m, \u001b[1;36m0.00151039\u001b[0m, \u001b[1;36m0.00968913\u001b[0m, \u001b[1;36m0.02433845\u001b[0m, \u001b[1;36m0.02460421\u001b[0m,\n",
       "       \u001b[1;36m0.00666748\u001b[0m, \u001b[1;36m0.20526483\u001b[0m\u001b[1m]\u001b[0m\u001b[1m)\u001b[0m\n"
      ]
     },
     "metadata": {},
     "output_type": "display_data"
    }
   ],
   "source": [
    "se2[i, :, 300]"
   ]
  },
  {
   "cell_type": "code",
   "execution_count": null,
   "id": "0644eb73",
   "metadata": {},
   "outputs": [],
   "source": []
  },
  {
   "cell_type": "code",
   "execution_count": 192,
   "id": "fc545177",
   "metadata": {},
   "outputs": [
    {
     "data": {
      "text/html": [
       "<pre style=\"white-space:pre;overflow-x:auto;line-height:normal;font-family:Menlo,'DejaVu Sans Mono',consolas,'Courier New',monospace\"><span style=\"font-weight: bold\">(</span><span style=\"color: #008080; text-decoration-color: #008080; font-weight: bold\">12</span>, <span style=\"color: #008080; text-decoration-color: #008080; font-weight: bold\">250</span>, <span style=\"color: #008080; text-decoration-color: #008080; font-weight: bold\">7</span>, <span style=\"color: #008080; text-decoration-color: #008080; font-weight: bold\">1</span><span style=\"font-weight: bold\">)</span>\n",
       "</pre>\n"
      ],
      "text/plain": [
       "\u001b[1m(\u001b[0m\u001b[1;36m12\u001b[0m, \u001b[1;36m250\u001b[0m, \u001b[1;36m7\u001b[0m, \u001b[1;36m1\u001b[0m\u001b[1m)\u001b[0m\n"
      ]
     },
     "metadata": {},
     "output_type": "display_data"
    }
   ],
   "source": [
    "aaa = boot.run_pi[6, ..., 300]\n",
    "aaa = aaa.reshape(-1, 250, 7, 1)\n",
    "aaa.shape"
   ]
  },
  {
   "cell_type": "code",
   "execution_count": 283,
   "id": "60c8f9e5",
   "metadata": {},
   "outputs": [],
   "source": [
    "def mk_statistic(\n",
    "        dims: int = 3,\n",
    "        est: Callable = bn.nanmean, ) -> Callable:\n",
    "    def statistic(x, axis):\n",
    "        x = avg(x, x.ndim - dims, 0)\n",
    "        x = est(x, axis=axis)\n",
    "        x[np.isnan(x)] = est(x)\n",
    "        print(x.shape)\n",
    "        return x\n",
    "    return statistic"
   ]
  },
  {
   "cell_type": "code",
   "execution_count": 284,
   "id": "db93d79d",
   "metadata": {},
   "outputs": [
    {
     "data": {
      "text/html": [
       "<pre style=\"white-space:pre;overflow-x:auto;line-height:normal;font-family:Menlo,'DejaVu Sans Mono',consolas,'Courier New',monospace\"><span style=\"font-weight: bold\">(</span><span style=\"color: #008080; text-decoration-color: #008080; font-weight: bold\">7</span>, <span style=\"color: #008080; text-decoration-color: #008080; font-weight: bold\">1</span>, <span style=\"color: #008080; text-decoration-color: #008080; font-weight: bold\">50</span><span style=\"font-weight: bold\">)</span>\n",
       "</pre>\n"
      ],
      "text/plain": [
       "\u001b[1m(\u001b[0m\u001b[1;36m7\u001b[0m, \u001b[1;36m1\u001b[0m, \u001b[1;36m50\u001b[0m\u001b[1m)\u001b[0m\n"
      ]
     },
     "metadata": {},
     "output_type": "display_data"
    },
    {
     "data": {
      "text/html": [
       "<pre style=\"white-space:pre;overflow-x:auto;line-height:normal;font-family:Menlo,'DejaVu Sans Mono',consolas,'Courier New',monospace\"><span style=\"font-weight: bold\">(</span><span style=\"color: #008080; text-decoration-color: #008080; font-weight: bold\">7</span>, <span style=\"color: #008080; text-decoration-color: #008080; font-weight: bold\">1</span>, <span style=\"color: #008080; text-decoration-color: #008080; font-weight: bold\">50</span><span style=\"font-weight: bold\">)</span>\n",
       "</pre>\n"
      ],
      "text/plain": [
       "\u001b[1m(\u001b[0m\u001b[1;36m7\u001b[0m, \u001b[1;36m1\u001b[0m, \u001b[1;36m50\u001b[0m\u001b[1m)\u001b[0m\n"
      ]
     },
     "metadata": {},
     "output_type": "display_data"
    },
    {
     "data": {
      "text/html": [
       "<pre style=\"white-space:pre;overflow-x:auto;line-height:normal;font-family:Menlo,'DejaVu Sans Mono',consolas,'Courier New',monospace\"><span style=\"font-weight: bold\">(</span><span style=\"color: #008080; text-decoration-color: #008080; font-weight: bold\">7</span>, <span style=\"color: #008080; text-decoration-color: #008080; font-weight: bold\">1</span>, <span style=\"color: #008080; text-decoration-color: #008080; font-weight: bold\">50</span><span style=\"font-weight: bold\">)</span>\n",
       "</pre>\n"
      ],
      "text/plain": [
       "\u001b[1m(\u001b[0m\u001b[1;36m7\u001b[0m, \u001b[1;36m1\u001b[0m, \u001b[1;36m50\u001b[0m\u001b[1m)\u001b[0m\n"
      ]
     },
     "metadata": {},
     "output_type": "display_data"
    },
    {
     "data": {
      "text/html": [
       "<pre style=\"white-space:pre;overflow-x:auto;line-height:normal;font-family:Menlo,'DejaVu Sans Mono',consolas,'Courier New',monospace\"><span style=\"font-weight: bold\">(</span><span style=\"color: #008080; text-decoration-color: #008080; font-weight: bold\">7</span>, <span style=\"color: #008080; text-decoration-color: #008080; font-weight: bold\">1</span>, <span style=\"color: #008080; text-decoration-color: #008080; font-weight: bold\">50</span><span style=\"font-weight: bold\">)</span>\n",
       "</pre>\n"
      ],
      "text/plain": [
       "\u001b[1m(\u001b[0m\u001b[1;36m7\u001b[0m, \u001b[1;36m1\u001b[0m, \u001b[1;36m50\u001b[0m\u001b[1m)\u001b[0m\n"
      ]
     },
     "metadata": {},
     "output_type": "display_data"
    },
    {
     "data": {
      "text/html": [
       "<pre style=\"white-space:pre;overflow-x:auto;line-height:normal;font-family:Menlo,'DejaVu Sans Mono',consolas,'Courier New',monospace\"><span style=\"font-weight: bold\">(</span><span style=\"color: #008080; text-decoration-color: #008080; font-weight: bold\">7</span>, <span style=\"color: #008080; text-decoration-color: #008080; font-weight: bold\">1</span>, <span style=\"color: #008080; text-decoration-color: #008080; font-weight: bold\">50</span><span style=\"font-weight: bold\">)</span>\n",
       "</pre>\n"
      ],
      "text/plain": [
       "\u001b[1m(\u001b[0m\u001b[1;36m7\u001b[0m, \u001b[1;36m1\u001b[0m, \u001b[1;36m50\u001b[0m\u001b[1m)\u001b[0m\n"
      ]
     },
     "metadata": {},
     "output_type": "display_data"
    },
    {
     "data": {
      "text/html": [
       "<pre style=\"white-space:pre;overflow-x:auto;line-height:normal;font-family:Menlo,'DejaVu Sans Mono',consolas,'Courier New',monospace\"><span style=\"font-weight: bold\">(</span><span style=\"color: #008080; text-decoration-color: #008080; font-weight: bold\">7</span>, <span style=\"color: #008080; text-decoration-color: #008080; font-weight: bold\">1</span>, <span style=\"color: #008080; text-decoration-color: #008080; font-weight: bold\">50</span><span style=\"font-weight: bold\">)</span>\n",
       "</pre>\n"
      ],
      "text/plain": [
       "\u001b[1m(\u001b[0m\u001b[1;36m7\u001b[0m, \u001b[1;36m1\u001b[0m, \u001b[1;36m50\u001b[0m\u001b[1m)\u001b[0m\n"
      ]
     },
     "metadata": {},
     "output_type": "display_data"
    },
    {
     "data": {
      "text/html": [
       "<pre style=\"white-space:pre;overflow-x:auto;line-height:normal;font-family:Menlo,'DejaVu Sans Mono',consolas,'Courier New',monospace\"><span style=\"font-weight: bold\">(</span><span style=\"color: #008080; text-decoration-color: #008080; font-weight: bold\">7</span>, <span style=\"color: #008080; text-decoration-color: #008080; font-weight: bold\">1</span>, <span style=\"color: #008080; text-decoration-color: #008080; font-weight: bold\">50</span><span style=\"font-weight: bold\">)</span>\n",
       "</pre>\n"
      ],
      "text/plain": [
       "\u001b[1m(\u001b[0m\u001b[1;36m7\u001b[0m, \u001b[1;36m1\u001b[0m, \u001b[1;36m50\u001b[0m\u001b[1m)\u001b[0m\n"
      ]
     },
     "metadata": {},
     "output_type": "display_data"
    },
    {
     "data": {
      "text/html": [
       "<pre style=\"white-space:pre;overflow-x:auto;line-height:normal;font-family:Menlo,'DejaVu Sans Mono',consolas,'Courier New',monospace\"><span style=\"font-weight: bold\">(</span><span style=\"color: #008080; text-decoration-color: #008080; font-weight: bold\">7</span>, <span style=\"color: #008080; text-decoration-color: #008080; font-weight: bold\">1</span>, <span style=\"color: #008080; text-decoration-color: #008080; font-weight: bold\">50</span><span style=\"font-weight: bold\">)</span>\n",
       "</pre>\n"
      ],
      "text/plain": [
       "\u001b[1m(\u001b[0m\u001b[1;36m7\u001b[0m, \u001b[1;36m1\u001b[0m, \u001b[1;36m50\u001b[0m\u001b[1m)\u001b[0m\n"
      ]
     },
     "metadata": {},
     "output_type": "display_data"
    },
    {
     "data": {
      "text/html": [
       "<pre style=\"white-space:pre;overflow-x:auto;line-height:normal;font-family:Menlo,'DejaVu Sans Mono',consolas,'Courier New',monospace\"><span style=\"font-weight: bold\">(</span><span style=\"color: #008080; text-decoration-color: #008080; font-weight: bold\">7</span>, <span style=\"color: #008080; text-decoration-color: #008080; font-weight: bold\">1</span>, <span style=\"color: #008080; text-decoration-color: #008080; font-weight: bold\">50</span><span style=\"font-weight: bold\">)</span>\n",
       "</pre>\n"
      ],
      "text/plain": [
       "\u001b[1m(\u001b[0m\u001b[1;36m7\u001b[0m, \u001b[1;36m1\u001b[0m, \u001b[1;36m50\u001b[0m\u001b[1m)\u001b[0m\n"
      ]
     },
     "metadata": {},
     "output_type": "display_data"
    },
    {
     "data": {
      "text/html": [
       "<pre style=\"white-space:pre;overflow-x:auto;line-height:normal;font-family:Menlo,'DejaVu Sans Mono',consolas,'Courier New',monospace\"><span style=\"font-weight: bold\">(</span><span style=\"color: #008080; text-decoration-color: #008080; font-weight: bold\">7</span>, <span style=\"color: #008080; text-decoration-color: #008080; font-weight: bold\">1</span>, <span style=\"color: #008080; text-decoration-color: #008080; font-weight: bold\">50</span><span style=\"font-weight: bold\">)</span>\n",
       "</pre>\n"
      ],
      "text/plain": [
       "\u001b[1m(\u001b[0m\u001b[1;36m7\u001b[0m, \u001b[1;36m1\u001b[0m, \u001b[1;36m50\u001b[0m\u001b[1m)\u001b[0m\n"
      ]
     },
     "metadata": {},
     "output_type": "display_data"
    },
    {
     "data": {
      "text/html": [
       "<pre style=\"white-space:pre;overflow-x:auto;line-height:normal;font-family:Menlo,'DejaVu Sans Mono',consolas,'Courier New',monospace\"><span style=\"font-weight: bold\">(</span><span style=\"color: #008080; text-decoration-color: #008080; font-weight: bold\">7</span>, <span style=\"color: #008080; text-decoration-color: #008080; font-weight: bold\">1</span>, <span style=\"color: #008080; text-decoration-color: #008080; font-weight: bold\">50</span><span style=\"font-weight: bold\">)</span>\n",
       "</pre>\n"
      ],
      "text/plain": [
       "\u001b[1m(\u001b[0m\u001b[1;36m7\u001b[0m, \u001b[1;36m1\u001b[0m, \u001b[1;36m50\u001b[0m\u001b[1m)\u001b[0m\n"
      ]
     },
     "metadata": {},
     "output_type": "display_data"
    },
    {
     "data": {
      "text/html": [
       "<pre style=\"white-space:pre;overflow-x:auto;line-height:normal;font-family:Menlo,'DejaVu Sans Mono',consolas,'Courier New',monospace\"><span style=\"font-weight: bold\">(</span><span style=\"color: #008080; text-decoration-color: #008080; font-weight: bold\">7</span>, <span style=\"color: #008080; text-decoration-color: #008080; font-weight: bold\">1</span>, <span style=\"color: #008080; text-decoration-color: #008080; font-weight: bold\">50</span><span style=\"font-weight: bold\">)</span>\n",
       "</pre>\n"
      ],
      "text/plain": [
       "\u001b[1m(\u001b[0m\u001b[1;36m7\u001b[0m, \u001b[1;36m1\u001b[0m, \u001b[1;36m50\u001b[0m\u001b[1m)\u001b[0m\n"
      ]
     },
     "metadata": {},
     "output_type": "display_data"
    },
    {
     "data": {
      "text/html": [
       "<pre style=\"white-space:pre;overflow-x:auto;line-height:normal;font-family:Menlo,'DejaVu Sans Mono',consolas,'Courier New',monospace\"><span style=\"font-weight: bold\">(</span><span style=\"color: #008080; text-decoration-color: #008080; font-weight: bold\">7</span>, <span style=\"color: #008080; text-decoration-color: #008080; font-weight: bold\">1</span>, <span style=\"color: #008080; text-decoration-color: #008080; font-weight: bold\">50</span><span style=\"font-weight: bold\">)</span>\n",
       "</pre>\n"
      ],
      "text/plain": [
       "\u001b[1m(\u001b[0m\u001b[1;36m7\u001b[0m, \u001b[1;36m1\u001b[0m, \u001b[1;36m50\u001b[0m\u001b[1m)\u001b[0m\n"
      ]
     },
     "metadata": {},
     "output_type": "display_data"
    },
    {
     "data": {
      "text/html": [
       "<pre style=\"white-space:pre;overflow-x:auto;line-height:normal;font-family:Menlo,'DejaVu Sans Mono',consolas,'Courier New',monospace\"><span style=\"font-weight: bold\">(</span><span style=\"color: #008080; text-decoration-color: #008080; font-weight: bold\">7</span>, <span style=\"color: #008080; text-decoration-color: #008080; font-weight: bold\">1</span>, <span style=\"color: #008080; text-decoration-color: #008080; font-weight: bold\">50</span><span style=\"font-weight: bold\">)</span>\n",
       "</pre>\n"
      ],
      "text/plain": [
       "\u001b[1m(\u001b[0m\u001b[1;36m7\u001b[0m, \u001b[1;36m1\u001b[0m, \u001b[1;36m50\u001b[0m\u001b[1m)\u001b[0m\n"
      ]
     },
     "metadata": {},
     "output_type": "display_data"
    },
    {
     "data": {
      "text/html": [
       "<pre style=\"white-space:pre;overflow-x:auto;line-height:normal;font-family:Menlo,'DejaVu Sans Mono',consolas,'Courier New',monospace\"><span style=\"font-weight: bold\">(</span><span style=\"color: #008080; text-decoration-color: #008080; font-weight: bold\">7</span>, <span style=\"color: #008080; text-decoration-color: #008080; font-weight: bold\">1</span>, <span style=\"color: #008080; text-decoration-color: #008080; font-weight: bold\">50</span><span style=\"font-weight: bold\">)</span>\n",
       "</pre>\n"
      ],
      "text/plain": [
       "\u001b[1m(\u001b[0m\u001b[1;36m7\u001b[0m, \u001b[1;36m1\u001b[0m, \u001b[1;36m50\u001b[0m\u001b[1m)\u001b[0m\n"
      ]
     },
     "metadata": {},
     "output_type": "display_data"
    },
    {
     "data": {
      "text/html": [
       "<pre style=\"white-space:pre;overflow-x:auto;line-height:normal;font-family:Menlo,'DejaVu Sans Mono',consolas,'Courier New',monospace\"><span style=\"font-weight: bold\">(</span><span style=\"color: #008080; text-decoration-color: #008080; font-weight: bold\">7</span>, <span style=\"color: #008080; text-decoration-color: #008080; font-weight: bold\">1</span>, <span style=\"color: #008080; text-decoration-color: #008080; font-weight: bold\">50</span><span style=\"font-weight: bold\">)</span>\n",
       "</pre>\n"
      ],
      "text/plain": [
       "\u001b[1m(\u001b[0m\u001b[1;36m7\u001b[0m, \u001b[1;36m1\u001b[0m, \u001b[1;36m50\u001b[0m\u001b[1m)\u001b[0m\n"
      ]
     },
     "metadata": {},
     "output_type": "display_data"
    },
    {
     "data": {
      "text/html": [
       "<pre style=\"white-space:pre;overflow-x:auto;line-height:normal;font-family:Menlo,'DejaVu Sans Mono',consolas,'Courier New',monospace\"><span style=\"font-weight: bold\">(</span><span style=\"color: #008080; text-decoration-color: #008080; font-weight: bold\">7</span>, <span style=\"color: #008080; text-decoration-color: #008080; font-weight: bold\">1</span>, <span style=\"color: #008080; text-decoration-color: #008080; font-weight: bold\">50</span><span style=\"font-weight: bold\">)</span>\n",
       "</pre>\n"
      ],
      "text/plain": [
       "\u001b[1m(\u001b[0m\u001b[1;36m7\u001b[0m, \u001b[1;36m1\u001b[0m, \u001b[1;36m50\u001b[0m\u001b[1m)\u001b[0m\n"
      ]
     },
     "metadata": {},
     "output_type": "display_data"
    },
    {
     "data": {
      "text/html": [
       "<pre style=\"white-space:pre;overflow-x:auto;line-height:normal;font-family:Menlo,'DejaVu Sans Mono',consolas,'Courier New',monospace\"><span style=\"font-weight: bold\">(</span><span style=\"color: #008080; text-decoration-color: #008080; font-weight: bold\">7</span>, <span style=\"color: #008080; text-decoration-color: #008080; font-weight: bold\">1</span>, <span style=\"color: #008080; text-decoration-color: #008080; font-weight: bold\">50</span><span style=\"font-weight: bold\">)</span>\n",
       "</pre>\n"
      ],
      "text/plain": [
       "\u001b[1m(\u001b[0m\u001b[1;36m7\u001b[0m, \u001b[1;36m1\u001b[0m, \u001b[1;36m50\u001b[0m\u001b[1m)\u001b[0m\n"
      ]
     },
     "metadata": {},
     "output_type": "display_data"
    },
    {
     "data": {
      "text/html": [
       "<pre style=\"white-space:pre;overflow-x:auto;line-height:normal;font-family:Menlo,'DejaVu Sans Mono',consolas,'Courier New',monospace\"><span style=\"font-weight: bold\">(</span><span style=\"color: #008080; text-decoration-color: #008080; font-weight: bold\">7</span>, <span style=\"color: #008080; text-decoration-color: #008080; font-weight: bold\">1</span>, <span style=\"color: #008080; text-decoration-color: #008080; font-weight: bold\">50</span><span style=\"font-weight: bold\">)</span>\n",
       "</pre>\n"
      ],
      "text/plain": [
       "\u001b[1m(\u001b[0m\u001b[1;36m7\u001b[0m, \u001b[1;36m1\u001b[0m, \u001b[1;36m50\u001b[0m\u001b[1m)\u001b[0m\n"
      ]
     },
     "metadata": {},
     "output_type": "display_data"
    },
    {
     "data": {
      "text/html": [
       "<pre style=\"white-space:pre;overflow-x:auto;line-height:normal;font-family:Menlo,'DejaVu Sans Mono',consolas,'Courier New',monospace\"><span style=\"font-weight: bold\">(</span><span style=\"color: #008080; text-decoration-color: #008080; font-weight: bold\">7</span>, <span style=\"color: #008080; text-decoration-color: #008080; font-weight: bold\">1</span>, <span style=\"color: #008080; text-decoration-color: #008080; font-weight: bold\">50</span><span style=\"font-weight: bold\">)</span>\n",
       "</pre>\n"
      ],
      "text/plain": [
       "\u001b[1m(\u001b[0m\u001b[1;36m7\u001b[0m, \u001b[1;36m1\u001b[0m, \u001b[1;36m50\u001b[0m\u001b[1m)\u001b[0m\n"
      ]
     },
     "metadata": {},
     "output_type": "display_data"
    },
    {
     "data": {
      "text/html": [
       "<pre style=\"white-space:pre;overflow-x:auto;line-height:normal;font-family:Menlo,'DejaVu Sans Mono',consolas,'Courier New',monospace\"><span style=\"font-weight: bold\">(</span><span style=\"color: #008080; text-decoration-color: #008080; font-weight: bold\">7</span>, <span style=\"color: #008080; text-decoration-color: #008080; font-weight: bold\">1</span><span style=\"font-weight: bold\">)</span>\n",
       "</pre>\n"
      ],
      "text/plain": [
       "\u001b[1m(\u001b[0m\u001b[1;36m7\u001b[0m, \u001b[1;36m1\u001b[0m\u001b[1m)\u001b[0m\n"
      ]
     },
     "metadata": {},
     "output_type": "display_data"
    },
    {
     "data": {
      "text/html": [
       "<pre style=\"white-space:pre;overflow-x:auto;line-height:normal;font-family:Menlo,'DejaVu Sans Mono',consolas,'Courier New',monospace\"><span style=\"font-weight: bold\">(</span><span style=\"color: #008080; text-decoration-color: #008080; font-weight: bold\">7</span>, <span style=\"color: #008080; text-decoration-color: #008080; font-weight: bold\">1</span>, <span style=\"color: #008080; text-decoration-color: #008080; font-weight: bold\">12</span><span style=\"font-weight: bold\">)</span>\n",
       "</pre>\n"
      ],
      "text/plain": [
       "\u001b[1m(\u001b[0m\u001b[1;36m7\u001b[0m, \u001b[1;36m1\u001b[0m, \u001b[1;36m12\u001b[0m\u001b[1m)\u001b[0m\n"
      ]
     },
     "metadata": {},
     "output_type": "display_data"
    }
   ],
   "source": [
    "b = sp_stats.bootstrap(\n",
    "    data=(aaa,),\n",
    "    statistic=mk_statistic(aaa.ndim - 3),\n",
    "    random_state=42,\n",
    "    n_resamples=1000,\n",
    "    batch=50,\n",
    "    vectorized=True,\n",
    "    method='BCa',\n",
    "    axis=0,\n",
    ")"
   ]
  },
  {
   "cell_type": "code",
   "execution_count": 285,
   "id": "52b51aa7",
   "metadata": {},
   "outputs": [
    {
     "data": {
      "text/html": [
       "<pre style=\"white-space:pre;overflow-x:auto;line-height:normal;font-family:Menlo,'DejaVu Sans Mono',consolas,'Courier New',monospace\"><span style=\"font-weight: bold\">(</span><span style=\"color: #008080; text-decoration-color: #008080; font-weight: bold\">7</span>, <span style=\"color: #008080; text-decoration-color: #008080; font-weight: bold\">1</span><span style=\"font-weight: bold\">)</span>\n",
       "</pre>\n"
      ],
      "text/plain": [
       "\u001b[1m(\u001b[0m\u001b[1;36m7\u001b[0m, \u001b[1;36m1\u001b[0m\u001b[1m)\u001b[0m\n"
      ]
     },
     "metadata": {},
     "output_type": "display_data"
    }
   ],
   "source": [
    "b.standard_error.shape"
   ]
  },
  {
   "cell_type": "code",
   "execution_count": 286,
   "id": "57e5d32e",
   "metadata": {},
   "outputs": [
    {
     "data": {
      "text/html": [
       "<pre style=\"white-space:pre;overflow-x:auto;line-height:normal;font-family:Menlo,'DejaVu Sans Mono',consolas,'Courier New',monospace\">\n",
       "<span style=\"color: #800080; text-decoration-color: #800080; font-weight: bold\">array</span><span style=\"font-weight: bold\">([[</span><span style=\"color: #008080; text-decoration-color: #008080; font-weight: bold\">0.16156361</span><span style=\"font-weight: bold\">]</span>,\n",
       "       <span style=\"font-weight: bold\">[</span><span style=\"color: #008080; text-decoration-color: #008080; font-weight: bold\">0.01337514</span><span style=\"font-weight: bold\">]</span>,\n",
       "       <span style=\"font-weight: bold\">[</span><span style=\"color: #008080; text-decoration-color: #008080; font-weight: bold\">0.01443772</span><span style=\"font-weight: bold\">]</span>,\n",
       "       <span style=\"font-weight: bold\">[</span><span style=\"color: #008080; text-decoration-color: #008080; font-weight: bold\">0.01887557</span><span style=\"font-weight: bold\">]</span>,\n",
       "       <span style=\"font-weight: bold\">[</span><span style=\"color: #008080; text-decoration-color: #008080; font-weight: bold\">0.02185881</span><span style=\"font-weight: bold\">]</span>,\n",
       "       <span style=\"font-weight: bold\">[</span><span style=\"color: #008080; text-decoration-color: #008080; font-weight: bold\">0.01337757</span><span style=\"font-weight: bold\">]</span>,\n",
       "       <span style=\"font-weight: bold\">[</span><span style=\"color: #008080; text-decoration-color: #008080; font-weight: bold\">0.16416953</span><span style=\"font-weight: bold\">]])</span>\n",
       "</pre>\n"
      ],
      "text/plain": [
       "\n",
       "\u001b[1;35marray\u001b[0m\u001b[1m(\u001b[0m\u001b[1m[\u001b[0m\u001b[1m[\u001b[0m\u001b[1;36m0.16156361\u001b[0m\u001b[1m]\u001b[0m,\n",
       "       \u001b[1m[\u001b[0m\u001b[1;36m0.01337514\u001b[0m\u001b[1m]\u001b[0m,\n",
       "       \u001b[1m[\u001b[0m\u001b[1;36m0.01443772\u001b[0m\u001b[1m]\u001b[0m,\n",
       "       \u001b[1m[\u001b[0m\u001b[1;36m0.01887557\u001b[0m\u001b[1m]\u001b[0m,\n",
       "       \u001b[1m[\u001b[0m\u001b[1;36m0.02185881\u001b[0m\u001b[1m]\u001b[0m,\n",
       "       \u001b[1m[\u001b[0m\u001b[1;36m0.01337757\u001b[0m\u001b[1m]\u001b[0m,\n",
       "       \u001b[1m[\u001b[0m\u001b[1;36m0.16416953\u001b[0m\u001b[1m]\u001b[0m\u001b[1m]\u001b[0m\u001b[1m)\u001b[0m\n"
      ]
     },
     "metadata": {},
     "output_type": "display_data"
    }
   ],
   "source": [
    "b.standard_error"
   ]
  },
  {
   "cell_type": "code",
   "execution_count": 288,
   "id": "43306fe7",
   "metadata": {},
   "outputs": [
    {
     "data": {
      "text/html": [
       "<pre style=\"white-space:pre;overflow-x:auto;line-height:normal;font-family:Menlo,'DejaVu Sans Mono',consolas,'Courier New',monospace\">\n",
       "<span style=\"color: #800080; text-decoration-color: #800080; font-weight: bold\">array</span><span style=\"font-weight: bold\">([</span><span style=\"color: #008080; text-decoration-color: #008080; font-weight: bold\">0.19551545</span>, <span style=\"color: #008080; text-decoration-color: #008080; font-weight: bold\">0.00151039</span>, <span style=\"color: #008080; text-decoration-color: #008080; font-weight: bold\">0.00968913</span>, <span style=\"color: #008080; text-decoration-color: #008080; font-weight: bold\">0.02433845</span>, <span style=\"color: #008080; text-decoration-color: #008080; font-weight: bold\">0.02460421</span>,\n",
       "       <span style=\"color: #008080; text-decoration-color: #008080; font-weight: bold\">0.00666748</span>, <span style=\"color: #008080; text-decoration-color: #008080; font-weight: bold\">0.20526483</span><span style=\"font-weight: bold\">])</span>\n",
       "</pre>\n"
      ],
      "text/plain": [
       "\n",
       "\u001b[1;35marray\u001b[0m\u001b[1m(\u001b[0m\u001b[1m[\u001b[0m\u001b[1;36m0.19551545\u001b[0m, \u001b[1;36m0.00151039\u001b[0m, \u001b[1;36m0.00968913\u001b[0m, \u001b[1;36m0.02433845\u001b[0m, \u001b[1;36m0.02460421\u001b[0m,\n",
       "       \u001b[1;36m0.00666748\u001b[0m, \u001b[1;36m0.20526483\u001b[0m\u001b[1m]\u001b[0m\u001b[1m)\u001b[0m\n"
      ]
     },
     "metadata": {},
     "output_type": "display_data"
    }
   ],
   "source": [
    "se2[i, :, 300]"
   ]
  },
  {
   "cell_type": "code",
   "execution_count": null,
   "id": "2e6669de",
   "metadata": {},
   "outputs": [],
   "source": []
  },
  {
   "cell_type": "code",
   "execution_count": 223,
   "id": "a2e7f59e",
   "metadata": {},
   "outputs": [
    {
     "data": {
      "text/html": [
       "<pre style=\"white-space:pre;overflow-x:auto;line-height:normal;font-family:Menlo,'DejaVu Sans Mono',consolas,'Courier New',monospace\">nan\n",
       "</pre>\n"
      ],
      "text/plain": [
       "nan\n"
      ]
     },
     "metadata": {},
     "output_type": "display_data"
    }
   ],
   "source": [
    "bn.nanmean(b.standard_error)"
   ]
  },
  {
   "cell_type": "code",
   "execution_count": null,
   "id": "7d998eb4",
   "metadata": {},
   "outputs": [],
   "source": []
  },
  {
   "cell_type": "code",
   "execution_count": 228,
   "id": "ac947887",
   "metadata": {},
   "outputs": [
    {
     "data": {
      "text/html": [
       "<pre style=\"white-space:pre;overflow-x:auto;line-height:normal;font-family:Menlo,'DejaVu Sans Mono',consolas,'Courier New',monospace\"><span style=\"font-weight: bold\">(</span><span style=\"color: #008080; text-decoration-color: #008080; font-weight: bold\">12</span>, <span style=\"color: #008080; text-decoration-color: #008080; font-weight: bold\">250</span><span style=\"font-weight: bold\">)</span>\n",
       "</pre>\n"
      ],
      "text/plain": [
       "\u001b[1m(\u001b[0m\u001b[1;36m12\u001b[0m, \u001b[1;36m250\u001b[0m\u001b[1m)\u001b[0m\n"
      ]
     },
     "metadata": {},
     "output_type": "display_data"
    }
   ],
   "source": [
    "nans = np.isnan(aaa).sum(-1).sum(-1)\n",
    "nans.shape"
   ]
  },
  {
   "cell_type": "code",
   "execution_count": null,
   "id": "2729df58",
   "metadata": {},
   "outputs": [],
   "source": []
  },
  {
   "cell_type": "code",
   "execution_count": 249,
   "id": "941bdaab",
   "metadata": {},
   "outputs": [
    {
     "data": {
      "text/html": [
       "<pre style=\"white-space:pre;overflow-x:auto;line-height:normal;font-family:Menlo,'DejaVu Sans Mono',consolas,'Courier New',monospace\">\n",
       "<span style=\"color: #800080; text-decoration-color: #800080; font-weight: bold\">array</span><span style=\"font-weight: bold\">([</span>   <span style=\"color: #008080; text-decoration-color: #008080; font-weight: bold\">0</span>, <span style=\"color: #008080; text-decoration-color: #008080; font-weight: bold\">1750</span>, <span style=\"color: #008080; text-decoration-color: #008080; font-weight: bold\">1750</span>, <span style=\"color: #008080; text-decoration-color: #008080; font-weight: bold\">1750</span>,    <span style=\"color: #008080; text-decoration-color: #008080; font-weight: bold\">0</span>,    <span style=\"color: #008080; text-decoration-color: #008080; font-weight: bold\">0</span>,    <span style=\"color: #008080; text-decoration-color: #008080; font-weight: bold\">7</span>, <span style=\"color: #008080; text-decoration-color: #008080; font-weight: bold\">1750</span>, <span style=\"color: #008080; text-decoration-color: #008080; font-weight: bold\">1750</span>, <span style=\"color: #008080; text-decoration-color: #008080; font-weight: bold\">1750</span>, <span style=\"color: #008080; text-decoration-color: #008080; font-weight: bold\">1750</span>,\n",
       "       <span style=\"color: #008080; text-decoration-color: #008080; font-weight: bold\">1750</span><span style=\"font-weight: bold\">])</span>\n",
       "</pre>\n"
      ],
      "text/plain": [
       "\n",
       "\u001b[1;35marray\u001b[0m\u001b[1m(\u001b[0m\u001b[1m[\u001b[0m   \u001b[1;36m0\u001b[0m, \u001b[1;36m1750\u001b[0m, \u001b[1;36m1750\u001b[0m, \u001b[1;36m1750\u001b[0m,    \u001b[1;36m0\u001b[0m,    \u001b[1;36m0\u001b[0m,    \u001b[1;36m7\u001b[0m, \u001b[1;36m1750\u001b[0m, \u001b[1;36m1750\u001b[0m, \u001b[1;36m1750\u001b[0m, \u001b[1;36m1750\u001b[0m,\n",
       "       \u001b[1;36m1750\u001b[0m\u001b[1m]\u001b[0m\u001b[1m)\u001b[0m\n"
      ]
     },
     "metadata": {},
     "output_type": "display_data"
    }
   ],
   "source": [
    "nans.sum(1)"
   ]
  },
  {
   "cell_type": "code",
   "execution_count": 253,
   "id": "27b18b93",
   "metadata": {},
   "outputs": [
    {
     "data": {
      "text/html": [
       "<pre style=\"white-space:pre;overflow-x:auto;line-height:normal;font-family:Menlo,'DejaVu Sans Mono',consolas,'Courier New',monospace\"><span style=\"font-weight: bold\">&lt;</span><span style=\"color: #ff00ff; text-decoration-color: #ff00ff; font-weight: bold\">matplotlib.image.AxesImage</span><span style=\"color: #000000; text-decoration-color: #000000\"> object at </span><span style=\"color: #008080; text-decoration-color: #008080; font-weight: bold\">0x7f08ac532130</span><span style=\"font-weight: bold\">&gt;</span>\n",
       "</pre>\n"
      ],
      "text/plain": [
       "\u001b[1m<\u001b[0m\u001b[1;95mmatplotlib.image.AxesImage\u001b[0m\u001b[39m object at \u001b[0m\u001b[1;36m0x7f08ac532130\u001b[0m\u001b[1m>\u001b[0m\n"
      ]
     },
     "metadata": {},
     "output_type": "display_data"
    },
    {
     "data": {
      "image/png": "[encoded data removed]"
     },
     "metadata": {},
     "output_type": "display_data"
    }
   ],
   "source": [
    "plt.imshow(nans, aspect=10)"
   ]
  },
  {
   "cell_type": "code",
   "execution_count": null,
   "id": "6c94c3fd",
   "metadata": {},
   "outputs": [],
   "source": []
  },
  {
   "cell_type": "code",
   "execution_count": null,
   "id": "60d624cc",
   "metadata": {},
   "outputs": [],
   "source": []
  },
  {
   "cell_type": "code",
   "execution_count": 256,
   "id": "5f3c14e6",
   "metadata": {},
   "outputs": [],
   "source": [
    "x = self.run_pi[i]\n",
    "x = x.reshape((-1, *x.shape[-3:]))"
   ]
  },
  {
   "cell_type": "code",
   "execution_count": 257,
   "id": "e06b71cb",
   "metadata": {},
   "outputs": [],
   "source": [
    "nans = np.isnan(x).sum(-1).sum(-1)\n",
    "nans = nans == np.prod(x.shape[-2:])\n",
    "good_runs = np.where(nans.sum(-1) < nans.shape[-1])[0]\n",
    "assert len(good_runs) == n_runs[self.mice.get_key(i + 1)]"
   ]
  },
  {
   "cell_type": "code",
   "execution_count": 258,
   "id": "bdfd6937",
   "metadata": {},
   "outputs": [
    {
     "data": {
      "text/html": [
       "<pre style=\"white-space:pre;overflow-x:auto;line-height:normal;font-family:Menlo,'DejaVu Sans Mono',consolas,'Courier New',monospace\"><span style=\"font-weight: bold\">((</span><span style=\"color: #008080; text-decoration-color: #008080; font-weight: bold\">12</span>, <span style=\"color: #008080; text-decoration-color: #008080; font-weight: bold\">250</span>, <span style=\"color: #008080; text-decoration-color: #008080; font-weight: bold\">7</span>, <span style=\"color: #008080; text-decoration-color: #008080; font-weight: bold\">542</span><span style=\"font-weight: bold\">)</span>, <span style=\"font-weight: bold\">(</span><span style=\"color: #008080; text-decoration-color: #008080; font-weight: bold\">12</span>, <span style=\"color: #008080; text-decoration-color: #008080; font-weight: bold\">250</span><span style=\"font-weight: bold\">))</span>\n",
       "</pre>\n"
      ],
      "text/plain": [
       "\u001b[1m(\u001b[0m\u001b[1m(\u001b[0m\u001b[1;36m12\u001b[0m, \u001b[1;36m250\u001b[0m, \u001b[1;36m7\u001b[0m, \u001b[1;36m542\u001b[0m\u001b[1m)\u001b[0m, \u001b[1m(\u001b[0m\u001b[1;36m12\u001b[0m, \u001b[1;36m250\u001b[0m\u001b[1m)\u001b[0m\u001b[1m)\u001b[0m\n"
      ]
     },
     "metadata": {},
     "output_type": "display_data"
    }
   ],
   "source": [
    "x = x[good_runs]\n",
    "nans = nans[good_runs]\n",
    "\n",
    "x.shape, nans.shape"
   ]
  },
  {
   "cell_type": "code",
   "execution_count": null,
   "id": "315596b7",
   "metadata": {},
   "outputs": [],
   "source": []
  },
  {
   "cell_type": "code",
   "execution_count": 261,
   "id": "daf7449a",
   "metadata": {},
   "outputs": [
    {
     "data": {
      "text/html": [
       "<pre style=\"white-space:pre;overflow-x:auto;line-height:normal;font-family:Menlo,'DejaVu Sans Mono',consolas,'Courier New',monospace\"><span style=\"color: #008080; text-decoration-color: #008080; font-weight: bold\">250</span>\n",
       "</pre>\n"
      ],
      "text/plain": [
       "\u001b[1;36m250\u001b[0m\n"
      ]
     },
     "metadata": {},
     "output_type": "display_data"
    }
   ],
   "source": [
    "good_seeds = np.where(nans.sum(0) < len(good_runs))[0]\n",
    "if len(good_seeds) < x.shape[-3]:\n",
    "    x = x[:, good_seeds]\n",
    "    \n",
    "len(good_seeds)"
   ]
  },
  {
   "cell_type": "code",
   "execution_count": null,
   "id": "474490ef",
   "metadata": {},
   "outputs": [],
   "source": []
  },
  {
   "cell_type": "code",
   "execution_count": 262,
   "id": "d5e20089",
   "metadata": {},
   "outputs": [
    {
     "data": {
      "text/html": [
       "<pre style=\"white-space:pre;overflow-x:auto;line-height:normal;font-family:Menlo,'DejaVu Sans Mono',consolas,'Courier New',monospace\">\n",
       "<span style=\"color: #800080; text-decoration-color: #800080; font-weight: bold\">array</span><span style=\"font-weight: bold\">([</span> <span style=\"color: #008080; text-decoration-color: #008080; font-weight: bold\">0</span>,  <span style=\"color: #008080; text-decoration-color: #008080; font-weight: bold\">0</span>,  <span style=\"color: #008080; text-decoration-color: #008080; font-weight: bold\">0</span>,  <span style=\"color: #008080; text-decoration-color: #008080; font-weight: bold\">0</span>,  <span style=\"color: #008080; text-decoration-color: #008080; font-weight: bold\">0</span>,  <span style=\"color: #008080; text-decoration-color: #008080; font-weight: bold\">0</span>,  <span style=\"color: #008080; text-decoration-color: #008080; font-weight: bold\">0</span>,  <span style=\"color: #008080; text-decoration-color: #008080; font-weight: bold\">0</span>,  <span style=\"color: #008080; text-decoration-color: #008080; font-weight: bold\">0</span>,  <span style=\"color: #008080; text-decoration-color: #008080; font-weight: bold\">0</span>,  <span style=\"color: #008080; text-decoration-color: #008080; font-weight: bold\">0</span>,  <span style=\"color: #008080; text-decoration-color: #008080; font-weight: bold\">0</span>,  <span style=\"color: #008080; text-decoration-color: #008080; font-weight: bold\">0</span>,  <span style=\"color: #008080; text-decoration-color: #008080; font-weight: bold\">0</span>,  <span style=\"color: #008080; text-decoration-color: #008080; font-weight: bold\">0</span>,  <span style=\"color: #008080; text-decoration-color: #008080; font-weight: bold\">0</span>,  <span style=\"color: #008080; text-decoration-color: #008080; font-weight: bold\">0</span>,\n",
       "        <span style=\"color: #008080; text-decoration-color: #008080; font-weight: bold\">0</span>,  <span style=\"color: #008080; text-decoration-color: #008080; font-weight: bold\">0</span>,  <span style=\"color: #008080; text-decoration-color: #008080; font-weight: bold\">0</span>,  <span style=\"color: #008080; text-decoration-color: #008080; font-weight: bold\">0</span>,  <span style=\"color: #008080; text-decoration-color: #008080; font-weight: bold\">0</span>,  <span style=\"color: #008080; text-decoration-color: #008080; font-weight: bold\">0</span>,  <span style=\"color: #008080; text-decoration-color: #008080; font-weight: bold\">0</span>,  <span style=\"color: #008080; text-decoration-color: #008080; font-weight: bold\">0</span>,  <span style=\"color: #008080; text-decoration-color: #008080; font-weight: bold\">0</span>,  <span style=\"color: #008080; text-decoration-color: #008080; font-weight: bold\">0</span>,  <span style=\"color: #008080; text-decoration-color: #008080; font-weight: bold\">0</span>,  <span style=\"color: #008080; text-decoration-color: #008080; font-weight: bold\">0</span>,  <span style=\"color: #008080; text-decoration-color: #008080; font-weight: bold\">0</span>,  <span style=\"color: #008080; text-decoration-color: #008080; font-weight: bold\">0</span>,  <span style=\"color: #008080; text-decoration-color: #008080; font-weight: bold\">0</span>,  <span style=\"color: #008080; text-decoration-color: #008080; font-weight: bold\">0</span>,  <span style=\"color: #008080; text-decoration-color: #008080; font-weight: bold\">0</span>,\n",
       "        <span style=\"color: #008080; text-decoration-color: #008080; font-weight: bold\">0</span>,  <span style=\"color: #008080; text-decoration-color: #008080; font-weight: bold\">0</span>,  <span style=\"color: #008080; text-decoration-color: #008080; font-weight: bold\">0</span>,  <span style=\"color: #008080; text-decoration-color: #008080; font-weight: bold\">0</span>,  <span style=\"color: #008080; text-decoration-color: #008080; font-weight: bold\">0</span>,  <span style=\"color: #008080; text-decoration-color: #008080; font-weight: bold\">0</span>,  <span style=\"color: #008080; text-decoration-color: #008080; font-weight: bold\">0</span>,  <span style=\"color: #008080; text-decoration-color: #008080; font-weight: bold\">0</span>,  <span style=\"color: #008080; text-decoration-color: #008080; font-weight: bold\">0</span>,  <span style=\"color: #008080; text-decoration-color: #008080; font-weight: bold\">0</span>,  <span style=\"color: #008080; text-decoration-color: #008080; font-weight: bold\">0</span>,  <span style=\"color: #008080; text-decoration-color: #008080; font-weight: bold\">0</span>,  <span style=\"color: #008080; text-decoration-color: #008080; font-weight: bold\">0</span>,  <span style=\"color: #008080; text-decoration-color: #008080; font-weight: bold\">0</span>,  <span style=\"color: #008080; text-decoration-color: #008080; font-weight: bold\">0</span>,  <span style=\"color: #008080; text-decoration-color: #008080; font-weight: bold\">0</span>,  <span style=\"color: #008080; text-decoration-color: #008080; font-weight: bold\">0</span>,\n",
       "        <span style=\"color: #008080; text-decoration-color: #008080; font-weight: bold\">0</span>,  <span style=\"color: #008080; text-decoration-color: #008080; font-weight: bold\">0</span>,  <span style=\"color: #008080; text-decoration-color: #008080; font-weight: bold\">0</span>,  <span style=\"color: #008080; text-decoration-color: #008080; font-weight: bold\">0</span>,  <span style=\"color: #008080; text-decoration-color: #008080; font-weight: bold\">0</span>,  <span style=\"color: #008080; text-decoration-color: #008080; font-weight: bold\">0</span>,  <span style=\"color: #008080; text-decoration-color: #008080; font-weight: bold\">0</span>,  <span style=\"color: #008080; text-decoration-color: #008080; font-weight: bold\">0</span>,  <span style=\"color: #008080; text-decoration-color: #008080; font-weight: bold\">0</span>,  <span style=\"color: #008080; text-decoration-color: #008080; font-weight: bold\">0</span>,  <span style=\"color: #008080; text-decoration-color: #008080; font-weight: bold\">0</span>,  <span style=\"color: #008080; text-decoration-color: #008080; font-weight: bold\">0</span>,  <span style=\"color: #008080; text-decoration-color: #008080; font-weight: bold\">0</span>,  <span style=\"color: #008080; text-decoration-color: #008080; font-weight: bold\">0</span>,  <span style=\"color: #008080; text-decoration-color: #008080; font-weight: bold\">0</span>,  <span style=\"color: #008080; text-decoration-color: #008080; font-weight: bold\">0</span>,  <span style=\"color: #008080; text-decoration-color: #008080; font-weight: bold\">0</span>,\n",
       "        <span style=\"color: #008080; text-decoration-color: #008080; font-weight: bold\">0</span>,  <span style=\"color: #008080; text-decoration-color: #008080; font-weight: bold\">0</span>,  <span style=\"color: #008080; text-decoration-color: #008080; font-weight: bold\">0</span>,  <span style=\"color: #008080; text-decoration-color: #008080; font-weight: bold\">0</span>,  <span style=\"color: #008080; text-decoration-color: #008080; font-weight: bold\">0</span>,  <span style=\"color: #008080; text-decoration-color: #008080; font-weight: bold\">0</span>,  <span style=\"color: #008080; text-decoration-color: #008080; font-weight: bold\">0</span>,  <span style=\"color: #008080; text-decoration-color: #008080; font-weight: bold\">0</span>,  <span style=\"color: #008080; text-decoration-color: #008080; font-weight: bold\">0</span>,  <span style=\"color: #008080; text-decoration-color: #008080; font-weight: bold\">0</span>,  <span style=\"color: #008080; text-decoration-color: #008080; font-weight: bold\">0</span>,  <span style=\"color: #008080; text-decoration-color: #008080; font-weight: bold\">0</span>,  <span style=\"color: #008080; text-decoration-color: #008080; font-weight: bold\">0</span>,  <span style=\"color: #008080; text-decoration-color: #008080; font-weight: bold\">0</span>,  <span style=\"color: #008080; text-decoration-color: #008080; font-weight: bold\">0</span>,  <span style=\"color: #008080; text-decoration-color: #008080; font-weight: bold\">0</span>,  <span style=\"color: #008080; text-decoration-color: #008080; font-weight: bold\">0</span>,\n",
       "        <span style=\"color: #008080; text-decoration-color: #008080; font-weight: bold\">0</span>,  <span style=\"color: #008080; text-decoration-color: #008080; font-weight: bold\">0</span>,  <span style=\"color: #008080; text-decoration-color: #008080; font-weight: bold\">0</span>,  <span style=\"color: #008080; text-decoration-color: #008080; font-weight: bold\">0</span>,  <span style=\"color: #008080; text-decoration-color: #008080; font-weight: bold\">0</span>,  <span style=\"color: #008080; text-decoration-color: #008080; font-weight: bold\">0</span>,  <span style=\"color: #008080; text-decoration-color: #008080; font-weight: bold\">0</span>,  <span style=\"color: #008080; text-decoration-color: #008080; font-weight: bold\">0</span>,  <span style=\"color: #008080; text-decoration-color: #008080; font-weight: bold\">0</span>,  <span style=\"color: #008080; text-decoration-color: #008080; font-weight: bold\">0</span>,  <span style=\"color: #008080; text-decoration-color: #008080; font-weight: bold\">0</span>,  <span style=\"color: #008080; text-decoration-color: #008080; font-weight: bold\">0</span>,  <span style=\"color: #008080; text-decoration-color: #008080; font-weight: bold\">0</span>,  <span style=\"color: #008080; text-decoration-color: #008080; font-weight: bold\">0</span>,  <span style=\"color: #008080; text-decoration-color: #008080; font-weight: bold\">0</span>,  <span style=\"color: #008080; text-decoration-color: #008080; font-weight: bold\">0</span>,  <span style=\"color: #008080; text-decoration-color: #008080; font-weight: bold\">0</span>,\n",
       "        <span style=\"color: #008080; text-decoration-color: #008080; font-weight: bold\">0</span>,  <span style=\"color: #008080; text-decoration-color: #008080; font-weight: bold\">0</span>,  <span style=\"color: #008080; text-decoration-color: #008080; font-weight: bold\">0</span>,  <span style=\"color: #008080; text-decoration-color: #008080; font-weight: bold\">0</span>,  <span style=\"color: #008080; text-decoration-color: #008080; font-weight: bold\">0</span>,  <span style=\"color: #008080; text-decoration-color: #008080; font-weight: bold\">0</span>,  <span style=\"color: #008080; text-decoration-color: #008080; font-weight: bold\">0</span>,  <span style=\"color: #008080; text-decoration-color: #008080; font-weight: bold\">0</span>,  <span style=\"color: #008080; text-decoration-color: #008080; font-weight: bold\">0</span>,  <span style=\"color: #008080; text-decoration-color: #008080; font-weight: bold\">0</span>,  <span style=\"color: #008080; text-decoration-color: #008080; font-weight: bold\">0</span>,  <span style=\"color: #008080; text-decoration-color: #008080; font-weight: bold\">0</span>,  <span style=\"color: #008080; text-decoration-color: #008080; font-weight: bold\">0</span>,  <span style=\"color: #008080; text-decoration-color: #008080; font-weight: bold\">0</span>,  <span style=\"color: #008080; text-decoration-color: #008080; font-weight: bold\">0</span>,  <span style=\"color: #008080; text-decoration-color: #008080; font-weight: bold\">0</span>,  <span style=\"color: #008080; text-decoration-color: #008080; font-weight: bold\">0</span>,\n",
       "        <span style=\"color: #008080; text-decoration-color: #008080; font-weight: bold\">0</span>,  <span style=\"color: #008080; text-decoration-color: #008080; font-weight: bold\">0</span>,  <span style=\"color: #008080; text-decoration-color: #008080; font-weight: bold\">0</span>,  <span style=\"color: #008080; text-decoration-color: #008080; font-weight: bold\">0</span>,  <span style=\"color: #008080; text-decoration-color: #008080; font-weight: bold\">0</span>,  <span style=\"color: #008080; text-decoration-color: #008080; font-weight: bold\">0</span>,  <span style=\"color: #008080; text-decoration-color: #008080; font-weight: bold\">0</span>,  <span style=\"color: #008080; text-decoration-color: #008080; font-weight: bold\">0</span>,  <span style=\"color: #008080; text-decoration-color: #008080; font-weight: bold\">0</span>,  <span style=\"color: #008080; text-decoration-color: #008080; font-weight: bold\">0</span>,  <span style=\"color: #008080; text-decoration-color: #008080; font-weight: bold\">0</span>,  <span style=\"color: #008080; text-decoration-color: #008080; font-weight: bold\">0</span>,  <span style=\"color: #008080; text-decoration-color: #008080; font-weight: bold\">0</span>,  <span style=\"color: #008080; text-decoration-color: #008080; font-weight: bold\">0</span>,  <span style=\"color: #008080; text-decoration-color: #008080; font-weight: bold\">0</span>,  <span style=\"color: #008080; text-decoration-color: #008080; font-weight: bold\">0</span>,  <span style=\"color: #008080; text-decoration-color: #008080; font-weight: bold\">0</span>,\n",
       "        <span style=\"color: #008080; text-decoration-color: #008080; font-weight: bold\">0</span>,  <span style=\"color: #008080; text-decoration-color: #008080; font-weight: bold\">0</span>,  <span style=\"color: #008080; text-decoration-color: #008080; font-weight: bold\">0</span>,  <span style=\"color: #008080; text-decoration-color: #008080; font-weight: bold\">0</span>,  <span style=\"color: #008080; text-decoration-color: #008080; font-weight: bold\">0</span>,  <span style=\"color: #008080; text-decoration-color: #008080; font-weight: bold\">0</span>,  <span style=\"color: #008080; text-decoration-color: #008080; font-weight: bold\">0</span>,  <span style=\"color: #008080; text-decoration-color: #008080; font-weight: bold\">0</span>,  <span style=\"color: #008080; text-decoration-color: #008080; font-weight: bold\">0</span>,  <span style=\"color: #008080; text-decoration-color: #008080; font-weight: bold\">0</span>,  <span style=\"color: #008080; text-decoration-color: #008080; font-weight: bold\">0</span>,  <span style=\"color: #008080; text-decoration-color: #008080; font-weight: bold\">0</span>,  <span style=\"color: #008080; text-decoration-color: #008080; font-weight: bold\">0</span>,  <span style=\"color: #008080; text-decoration-color: #008080; font-weight: bold\">0</span>,  <span style=\"color: #008080; text-decoration-color: #008080; font-weight: bold\">0</span>,  <span style=\"color: #008080; text-decoration-color: #008080; font-weight: bold\">0</span>,  <span style=\"color: #008080; text-decoration-color: #008080; font-weight: bold\">0</span>,\n",
       "        <span style=\"color: #008080; text-decoration-color: #008080; font-weight: bold\">0</span>,  <span style=\"color: #008080; text-decoration-color: #008080; font-weight: bold\">0</span>,  <span style=\"color: #008080; text-decoration-color: #008080; font-weight: bold\">0</span>,  <span style=\"color: #008080; text-decoration-color: #008080; font-weight: bold\">0</span>,  <span style=\"color: #008080; text-decoration-color: #008080; font-weight: bold\">0</span>,  <span style=\"color: #008080; text-decoration-color: #008080; font-weight: bold\">0</span>,  <span style=\"color: #008080; text-decoration-color: #008080; font-weight: bold\">0</span>,  <span style=\"color: #008080; text-decoration-color: #008080; font-weight: bold\">0</span>,  <span style=\"color: #008080; text-decoration-color: #008080; font-weight: bold\">0</span>,  <span style=\"color: #008080; text-decoration-color: #008080; font-weight: bold\">0</span>,  <span style=\"color: #008080; text-decoration-color: #008080; font-weight: bold\">0</span>,  <span style=\"color: #008080; text-decoration-color: #008080; font-weight: bold\">0</span>,  <span style=\"color: #008080; text-decoration-color: #008080; font-weight: bold\">0</span>,  <span style=\"color: #008080; text-decoration-color: #008080; font-weight: bold\">0</span>,  <span style=\"color: #008080; text-decoration-color: #008080; font-weight: bold\">0</span>,  <span style=\"color: #008080; text-decoration-color: #008080; font-weight: bold\">0</span>,  <span style=\"color: #008080; text-decoration-color: #008080; font-weight: bold\">0</span>,\n",
       "        <span style=\"color: #008080; text-decoration-color: #008080; font-weight: bold\">0</span>,  <span style=\"color: #008080; text-decoration-color: #008080; font-weight: bold\">0</span>,  <span style=\"color: #008080; text-decoration-color: #008080; font-weight: bold\">0</span>,  <span style=\"color: #008080; text-decoration-color: #008080; font-weight: bold\">0</span>,  <span style=\"color: #008080; text-decoration-color: #008080; font-weight: bold\">0</span>,  <span style=\"color: #008080; text-decoration-color: #008080; font-weight: bold\">0</span>,  <span style=\"color: #008080; text-decoration-color: #008080; font-weight: bold\">0</span>,  <span style=\"color: #008080; text-decoration-color: #008080; font-weight: bold\">0</span>,  <span style=\"color: #008080; text-decoration-color: #008080; font-weight: bold\">0</span>,  <span style=\"color: #008080; text-decoration-color: #008080; font-weight: bold\">0</span>,  <span style=\"color: #008080; text-decoration-color: #008080; font-weight: bold\">0</span>,  <span style=\"color: #008080; text-decoration-color: #008080; font-weight: bold\">0</span>,  <span style=\"color: #008080; text-decoration-color: #008080; font-weight: bold\">0</span>,  <span style=\"color: #008080; text-decoration-color: #008080; font-weight: bold\">0</span>,  <span style=\"color: #008080; text-decoration-color: #008080; font-weight: bold\">0</span>,  <span style=\"color: #008080; text-decoration-color: #008080; font-weight: bold\">0</span>,  <span style=\"color: #008080; text-decoration-color: #008080; font-weight: bold\">0</span>,\n",
       "        <span style=\"color: #008080; text-decoration-color: #008080; font-weight: bold\">0</span>,  <span style=\"color: #008080; text-decoration-color: #008080; font-weight: bold\">0</span>,  <span style=\"color: #008080; text-decoration-color: #008080; font-weight: bold\">0</span>,  <span style=\"color: #008080; text-decoration-color: #008080; font-weight: bold\">0</span>,  <span style=\"color: #008080; text-decoration-color: #008080; font-weight: bold\">0</span>,  <span style=\"color: #008080; text-decoration-color: #008080; font-weight: bold\">0</span>,  <span style=\"color: #008080; text-decoration-color: #008080; font-weight: bold\">0</span>,  <span style=\"color: #008080; text-decoration-color: #008080; font-weight: bold\">0</span>,  <span style=\"color: #008080; text-decoration-color: #008080; font-weight: bold\">0</span>,  <span style=\"color: #008080; text-decoration-color: #008080; font-weight: bold\">0</span>,  <span style=\"color: #008080; text-decoration-color: #008080; font-weight: bold\">0</span>,  <span style=\"color: #008080; text-decoration-color: #008080; font-weight: bold\">0</span>,  <span style=\"color: #008080; text-decoration-color: #008080; font-weight: bold\">0</span>,  <span style=\"color: #008080; text-decoration-color: #008080; font-weight: bold\">0</span>,  <span style=\"color: #008080; text-decoration-color: #008080; font-weight: bold\">0</span>,  <span style=\"color: #008080; text-decoration-color: #008080; font-weight: bold\">0</span>,  <span style=\"color: #008080; text-decoration-color: #008080; font-weight: bold\">0</span>,\n",
       "        <span style=\"color: #008080; text-decoration-color: #008080; font-weight: bold\">0</span>,  <span style=\"color: #008080; text-decoration-color: #008080; font-weight: bold\">0</span>,  <span style=\"color: #008080; text-decoration-color: #008080; font-weight: bold\">0</span>,  <span style=\"color: #008080; text-decoration-color: #008080; font-weight: bold\">0</span>,  <span style=\"color: #008080; text-decoration-color: #008080; font-weight: bold\">0</span>,  <span style=\"color: #008080; text-decoration-color: #008080; font-weight: bold\">0</span>,  <span style=\"color: #008080; text-decoration-color: #008080; font-weight: bold\">0</span>,  <span style=\"color: #008080; text-decoration-color: #008080; font-weight: bold\">0</span>,  <span style=\"color: #008080; text-decoration-color: #008080; font-weight: bold\">0</span>,  <span style=\"color: #008080; text-decoration-color: #008080; font-weight: bold\">0</span>,  <span style=\"color: #008080; text-decoration-color: #008080; font-weight: bold\">0</span>,  <span style=\"color: #008080; text-decoration-color: #008080; font-weight: bold\">0</span>,  <span style=\"color: #008080; text-decoration-color: #008080; font-weight: bold\">0</span>,  <span style=\"color: #008080; text-decoration-color: #008080; font-weight: bold\">0</span>,  <span style=\"color: #008080; text-decoration-color: #008080; font-weight: bold\">0</span>,  <span style=\"color: #008080; text-decoration-color: #008080; font-weight: bold\">0</span>,  <span style=\"color: #008080; text-decoration-color: #008080; font-weight: bold\">0</span>,\n",
       "        <span style=\"color: #008080; text-decoration-color: #008080; font-weight: bold\">0</span>,  <span style=\"color: #008080; text-decoration-color: #008080; font-weight: bold\">0</span>,  <span style=\"color: #008080; text-decoration-color: #008080; font-weight: bold\">0</span>,  <span style=\"color: #008080; text-decoration-color: #008080; font-weight: bold\">0</span>,  <span style=\"color: #008080; text-decoration-color: #008080; font-weight: bold\">0</span>,  <span style=\"color: #008080; text-decoration-color: #008080; font-weight: bold\">0</span>,  <span style=\"color: #008080; text-decoration-color: #008080; font-weight: bold\">0</span>,  <span style=\"color: #008080; text-decoration-color: #008080; font-weight: bold\">0</span>,  <span style=\"color: #008080; text-decoration-color: #008080; font-weight: bold\">0</span>,  <span style=\"color: #008080; text-decoration-color: #008080; font-weight: bold\">0</span>,  <span style=\"color: #008080; text-decoration-color: #008080; font-weight: bold\">0</span>,  <span style=\"color: #008080; text-decoration-color: #008080; font-weight: bold\">0</span>,  <span style=\"color: #008080; text-decoration-color: #008080; font-weight: bold\">0</span>,  <span style=\"color: #008080; text-decoration-color: #008080; font-weight: bold\">0</span>,  <span style=\"color: #008080; text-decoration-color: #008080; font-weight: bold\">0</span>,  <span style=\"color: #008080; text-decoration-color: #008080; font-weight: bold\">0</span>,  <span style=\"color: #008080; text-decoration-color: #008080; font-weight: bold\">0</span>,\n",
       "        <span style=\"color: #008080; text-decoration-color: #008080; font-weight: bold\">0</span>,  <span style=\"color: #008080; text-decoration-color: #008080; font-weight: bold\">0</span>,  <span style=\"color: #008080; text-decoration-color: #008080; font-weight: bold\">0</span>,  <span style=\"color: #008080; text-decoration-color: #008080; font-weight: bold\">0</span>,  <span style=\"color: #008080; text-decoration-color: #008080; font-weight: bold\">0</span>,  <span style=\"color: #008080; text-decoration-color: #008080; font-weight: bold\">0</span>,  <span style=\"color: #008080; text-decoration-color: #008080; font-weight: bold\">1</span>,  <span style=\"color: #008080; text-decoration-color: #008080; font-weight: bold\">1</span>,  <span style=\"color: #008080; text-decoration-color: #008080; font-weight: bold\">3</span>,  <span style=\"color: #008080; text-decoration-color: #008080; font-weight: bold\">5</span>,  <span style=\"color: #008080; text-decoration-color: #008080; font-weight: bold\">6</span>, <span style=\"color: #008080; text-decoration-color: #008080; font-weight: bold\">10</span><span style=\"font-weight: bold\">])</span>\n",
       "</pre>\n"
      ],
      "text/plain": [
       "\n",
       "\u001b[1;35marray\u001b[0m\u001b[1m(\u001b[0m\u001b[1m[\u001b[0m \u001b[1;36m0\u001b[0m,  \u001b[1;36m0\u001b[0m,  \u001b[1;36m0\u001b[0m,  \u001b[1;36m0\u001b[0m,  \u001b[1;36m0\u001b[0m,  \u001b[1;36m0\u001b[0m,  \u001b[1;36m0\u001b[0m,  \u001b[1;36m0\u001b[0m,  \u001b[1;36m0\u001b[0m,  \u001b[1;36m0\u001b[0m,  \u001b[1;36m0\u001b[0m,  \u001b[1;36m0\u001b[0m,  \u001b[1;36m0\u001b[0m,  \u001b[1;36m0\u001b[0m,  \u001b[1;36m0\u001b[0m,  \u001b[1;36m0\u001b[0m,  \u001b[1;36m0\u001b[0m,\n",
       "        \u001b[1;36m0\u001b[0m,  \u001b[1;36m0\u001b[0m,  \u001b[1;36m0\u001b[0m,  \u001b[1;36m0\u001b[0m,  \u001b[1;36m0\u001b[0m,  \u001b[1;36m0\u001b[0m,  \u001b[1;36m0\u001b[0m,  \u001b[1;36m0\u001b[0m,  \u001b[1;36m0\u001b[0m,  \u001b[1;36m0\u001b[0m,  \u001b[1;36m0\u001b[0m,  \u001b[1;36m0\u001b[0m,  \u001b[1;36m0\u001b[0m,  \u001b[1;36m0\u001b[0m,  \u001b[1;36m0\u001b[0m,  \u001b[1;36m0\u001b[0m,  \u001b[1;36m0\u001b[0m,\n",
       "        \u001b[1;36m0\u001b[0m,  \u001b[1;36m0\u001b[0m,  \u001b[1;36m0\u001b[0m,  \u001b[1;36m0\u001b[0m,  \u001b[1;36m0\u001b[0m,  \u001b[1;36m0\u001b[0m,  \u001b[1;36m0\u001b[0m,  \u001b[1;36m0\u001b[0m,  \u001b[1;36m0\u001b[0m,  \u001b[1;36m0\u001b[0m,  \u001b[1;36m0\u001b[0m,  \u001b[1;36m0\u001b[0m,  \u001b[1;36m0\u001b[0m,  \u001b[1;36m0\u001b[0m,  \u001b[1;36m0\u001b[0m,  \u001b[1;36m0\u001b[0m,  \u001b[1;36m0\u001b[0m,\n",
       "        \u001b[1;36m0\u001b[0m,  \u001b[1;36m0\u001b[0m,  \u001b[1;36m0\u001b[0m,  \u001b[1;36m0\u001b[0m,  \u001b[1;36m0\u001b[0m,  \u001b[1;36m0\u001b[0m,  \u001b[1;36m0\u001b[0m,  \u001b[1;36m0\u001b[0m,  \u001b[1;36m0\u001b[0m,  \u001b[1;36m0\u001b[0m,  \u001b[1;36m0\u001b[0m,  \u001b[1;36m0\u001b[0m,  \u001b[1;36m0\u001b[0m,  \u001b[1;36m0\u001b[0m,  \u001b[1;36m0\u001b[0m,  \u001b[1;36m0\u001b[0m,  \u001b[1;36m0\u001b[0m,\n",
       "        \u001b[1;36m0\u001b[0m,  \u001b[1;36m0\u001b[0m,  \u001b[1;36m0\u001b[0m,  \u001b[1;36m0\u001b[0m,  \u001b[1;36m0\u001b[0m,  \u001b[1;36m0\u001b[0m,  \u001b[1;36m0\u001b[0m,  \u001b[1;36m0\u001b[0m,  \u001b[1;36m0\u001b[0m,  \u001b[1;36m0\u001b[0m,  \u001b[1;36m0\u001b[0m,  \u001b[1;36m0\u001b[0m,  \u001b[1;36m0\u001b[0m,  \u001b[1;36m0\u001b[0m,  \u001b[1;36m0\u001b[0m,  \u001b[1;36m0\u001b[0m,  \u001b[1;36m0\u001b[0m,\n",
       "        \u001b[1;36m0\u001b[0m,  \u001b[1;36m0\u001b[0m,  \u001b[1;36m0\u001b[0m,  \u001b[1;36m0\u001b[0m,  \u001b[1;36m0\u001b[0m,  \u001b[1;36m0\u001b[0m,  \u001b[1;36m0\u001b[0m,  \u001b[1;36m0\u001b[0m,  \u001b[1;36m0\u001b[0m,  \u001b[1;36m0\u001b[0m,  \u001b[1;36m0\u001b[0m,  \u001b[1;36m0\u001b[0m,  \u001b[1;36m0\u001b[0m,  \u001b[1;36m0\u001b[0m,  \u001b[1;36m0\u001b[0m,  \u001b[1;36m0\u001b[0m,  \u001b[1;36m0\u001b[0m,\n",
       "        \u001b[1;36m0\u001b[0m,  \u001b[1;36m0\u001b[0m,  \u001b[1;36m0\u001b[0m,  \u001b[1;36m0\u001b[0m,  \u001b[1;36m0\u001b[0m,  \u001b[1;36m0\u001b[0m,  \u001b[1;36m0\u001b[0m,  \u001b[1;36m0\u001b[0m,  \u001b[1;36m0\u001b[0m,  \u001b[1;36m0\u001b[0m,  \u001b[1;36m0\u001b[0m,  \u001b[1;36m0\u001b[0m,  \u001b[1;36m0\u001b[0m,  \u001b[1;36m0\u001b[0m,  \u001b[1;36m0\u001b[0m,  \u001b[1;36m0\u001b[0m,  \u001b[1;36m0\u001b[0m,\n",
       "        \u001b[1;36m0\u001b[0m,  \u001b[1;36m0\u001b[0m,  \u001b[1;36m0\u001b[0m,  \u001b[1;36m0\u001b[0m,  \u001b[1;36m0\u001b[0m,  \u001b[1;36m0\u001b[0m,  \u001b[1;36m0\u001b[0m,  \u001b[1;36m0\u001b[0m,  \u001b[1;36m0\u001b[0m,  \u001b[1;36m0\u001b[0m,  \u001b[1;36m0\u001b[0m,  \u001b[1;36m0\u001b[0m,  \u001b[1;36m0\u001b[0m,  \u001b[1;36m0\u001b[0m,  \u001b[1;36m0\u001b[0m,  \u001b[1;36m0\u001b[0m,  \u001b[1;36m0\u001b[0m,\n",
       "        \u001b[1;36m0\u001b[0m,  \u001b[1;36m0\u001b[0m,  \u001b[1;36m0\u001b[0m,  \u001b[1;36m0\u001b[0m,  \u001b[1;36m0\u001b[0m,  \u001b[1;36m0\u001b[0m,  \u001b[1;36m0\u001b[0m,  \u001b[1;36m0\u001b[0m,  \u001b[1;36m0\u001b[0m,  \u001b[1;36m0\u001b[0m,  \u001b[1;36m0\u001b[0m,  \u001b[1;36m0\u001b[0m,  \u001b[1;36m0\u001b[0m,  \u001b[1;36m0\u001b[0m,  \u001b[1;36m0\u001b[0m,  \u001b[1;36m0\u001b[0m,  \u001b[1;36m0\u001b[0m,\n",
       "        \u001b[1;36m0\u001b[0m,  \u001b[1;36m0\u001b[0m,  \u001b[1;36m0\u001b[0m,  \u001b[1;36m0\u001b[0m,  \u001b[1;36m0\u001b[0m,  \u001b[1;36m0\u001b[0m,  \u001b[1;36m0\u001b[0m,  \u001b[1;36m0\u001b[0m,  \u001b[1;36m0\u001b[0m,  \u001b[1;36m0\u001b[0m,  \u001b[1;36m0\u001b[0m,  \u001b[1;36m0\u001b[0m,  \u001b[1;36m0\u001b[0m,  \u001b[1;36m0\u001b[0m,  \u001b[1;36m0\u001b[0m,  \u001b[1;36m0\u001b[0m,  \u001b[1;36m0\u001b[0m,\n",
       "        \u001b[1;36m0\u001b[0m,  \u001b[1;36m0\u001b[0m,  \u001b[1;36m0\u001b[0m,  \u001b[1;36m0\u001b[0m,  \u001b[1;36m0\u001b[0m,  \u001b[1;36m0\u001b[0m,  \u001b[1;36m0\u001b[0m,  \u001b[1;36m0\u001b[0m,  \u001b[1;36m0\u001b[0m,  \u001b[1;36m0\u001b[0m,  \u001b[1;36m0\u001b[0m,  \u001b[1;36m0\u001b[0m,  \u001b[1;36m0\u001b[0m,  \u001b[1;36m0\u001b[0m,  \u001b[1;36m0\u001b[0m,  \u001b[1;36m0\u001b[0m,  \u001b[1;36m0\u001b[0m,\n",
       "        \u001b[1;36m0\u001b[0m,  \u001b[1;36m0\u001b[0m,  \u001b[1;36m0\u001b[0m,  \u001b[1;36m0\u001b[0m,  \u001b[1;36m0\u001b[0m,  \u001b[1;36m0\u001b[0m,  \u001b[1;36m0\u001b[0m,  \u001b[1;36m0\u001b[0m,  \u001b[1;36m0\u001b[0m,  \u001b[1;36m0\u001b[0m,  \u001b[1;36m0\u001b[0m,  \u001b[1;36m0\u001b[0m,  \u001b[1;36m0\u001b[0m,  \u001b[1;36m0\u001b[0m,  \u001b[1;36m0\u001b[0m,  \u001b[1;36m0\u001b[0m,  \u001b[1;36m0\u001b[0m,\n",
       "        \u001b[1;36m0\u001b[0m,  \u001b[1;36m0\u001b[0m,  \u001b[1;36m0\u001b[0m,  \u001b[1;36m0\u001b[0m,  \u001b[1;36m0\u001b[0m,  \u001b[1;36m0\u001b[0m,  \u001b[1;36m0\u001b[0m,  \u001b[1;36m0\u001b[0m,  \u001b[1;36m0\u001b[0m,  \u001b[1;36m0\u001b[0m,  \u001b[1;36m0\u001b[0m,  \u001b[1;36m0\u001b[0m,  \u001b[1;36m0\u001b[0m,  \u001b[1;36m0\u001b[0m,  \u001b[1;36m0\u001b[0m,  \u001b[1;36m0\u001b[0m,  \u001b[1;36m0\u001b[0m,\n",
       "        \u001b[1;36m0\u001b[0m,  \u001b[1;36m0\u001b[0m,  \u001b[1;36m0\u001b[0m,  \u001b[1;36m0\u001b[0m,  \u001b[1;36m0\u001b[0m,  \u001b[1;36m0\u001b[0m,  \u001b[1;36m0\u001b[0m,  \u001b[1;36m0\u001b[0m,  \u001b[1;36m0\u001b[0m,  \u001b[1;36m0\u001b[0m,  \u001b[1;36m0\u001b[0m,  \u001b[1;36m0\u001b[0m,  \u001b[1;36m0\u001b[0m,  \u001b[1;36m0\u001b[0m,  \u001b[1;36m0\u001b[0m,  \u001b[1;36m0\u001b[0m,  \u001b[1;36m0\u001b[0m,\n",
       "        \u001b[1;36m0\u001b[0m,  \u001b[1;36m0\u001b[0m,  \u001b[1;36m0\u001b[0m,  \u001b[1;36m0\u001b[0m,  \u001b[1;36m0\u001b[0m,  \u001b[1;36m0\u001b[0m,  \u001b[1;36m1\u001b[0m,  \u001b[1;36m1\u001b[0m,  \u001b[1;36m3\u001b[0m,  \u001b[1;36m5\u001b[0m,  \u001b[1;36m6\u001b[0m, \u001b[1;36m10\u001b[0m\u001b[1m]\u001b[0m\u001b[1m)\u001b[0m\n"
      ]
     },
     "metadata": {},
     "output_type": "display_data"
    }
   ],
   "source": [
    "nans.sum(0)"
   ]
  },
  {
   "cell_type": "code",
   "execution_count": null,
   "id": "50d40701",
   "metadata": {},
   "outputs": [],
   "source": []
  },
  {
   "cell_type": "code",
   "execution_count": 260,
   "id": "17c09b6b",
   "metadata": {},
   "outputs": [
    {
     "data": {
      "text/html": [
       "<pre style=\"white-space:pre;overflow-x:auto;line-height:normal;font-family:Menlo,'DejaVu Sans Mono',consolas,'Courier New',monospace\"><span style=\"font-weight: bold\">&lt;</span><span style=\"color: #ff00ff; text-decoration-color: #ff00ff; font-weight: bold\">matplotlib.image.AxesImage</span><span style=\"color: #000000; text-decoration-color: #000000\"> object at </span><span style=\"color: #008080; text-decoration-color: #008080; font-weight: bold\">0x7f08ac0919a0</span><span style=\"font-weight: bold\">&gt;</span>\n",
       "</pre>\n"
      ],
      "text/plain": [
       "\u001b[1m<\u001b[0m\u001b[1;95mmatplotlib.image.AxesImage\u001b[0m\u001b[39m object at \u001b[0m\u001b[1;36m0x7f08ac0919a0\u001b[0m\u001b[1m>\u001b[0m\n"
      ]
     },
     "metadata": {},
     "output_type": "display_data"
    },
    {
     "data": {
      "image/png": "[encoded data removed]"
     },
     "metadata": {},
     "output_type": "display_data"
    }
   ],
   "source": [
    "plt.imshow(nans, aspect=10)"
   ]
  },
  {
   "cell_type": "code",
   "execution_count": null,
   "id": "eb90d624",
   "metadata": {},
   "outputs": [],
   "source": []
  },
  {
   "cell_type": "code",
   "execution_count": null,
   "id": "963ab430",
   "metadata": {},
   "outputs": [],
   "source": []
  },
  {
   "cell_type": "code",
   "execution_count": null,
   "id": "dc578569",
   "metadata": {},
   "outputs": [],
   "source": [
    "\n",
    "\n",
    "\n",
    "\n",
    "    x = x[good_runs]\n",
    "    nans = nans[good_runs]\n",
    "    good_seeds = np.where(nans.sum(0) < len(good_runs))[0]\n",
    "    if len(good_seeds) < x.shape[-3]:\n",
    "        x = x[:, good_seeds]\n",
    "\n",
    "    nans = np.isnan(x).sum(0).sum(0).sum(0)\n",
    "    good = np.where(nans < np.prod(x.shape[:3]))[0]\n",
    "    data_all.append(x[..., good])\n",
    "    good_nodes.append(good)"
   ]
  },
  {
   "cell_type": "code",
   "execution_count": 255,
   "id": "8f5a68ee",
   "metadata": {},
   "outputs": [
    {
     "data": {
      "text/html": [
       "<pre style=\"white-space:pre;overflow-x:auto;line-height:normal;font-family:Menlo,'DejaVu Sans Mono',consolas,'Courier New',monospace\">\n",
       "<span style=\"color: #800080; text-decoration-color: #800080; font-weight: bold\">array</span><span style=\"font-weight: bold\">([</span>  <span style=\"color: #008080; text-decoration-color: #008080; font-weight: bold\">0</span>,   <span style=\"color: #008080; text-decoration-color: #008080; font-weight: bold\">1</span>,   <span style=\"color: #008080; text-decoration-color: #008080; font-weight: bold\">2</span>,   <span style=\"color: #008080; text-decoration-color: #008080; font-weight: bold\">3</span>,   <span style=\"color: #008080; text-decoration-color: #008080; font-weight: bold\">4</span>,   <span style=\"color: #008080; text-decoration-color: #008080; font-weight: bold\">5</span>,   <span style=\"color: #008080; text-decoration-color: #008080; font-weight: bold\">7</span>,   <span style=\"color: #008080; text-decoration-color: #008080; font-weight: bold\">8</span>,   <span style=\"color: #008080; text-decoration-color: #008080; font-weight: bold\">9</span>,  <span style=\"color: #008080; text-decoration-color: #008080; font-weight: bold\">10</span>,  <span style=\"color: #008080; text-decoration-color: #008080; font-weight: bold\">11</span>,  <span style=\"color: #008080; text-decoration-color: #008080; font-weight: bold\">12</span>,  <span style=\"color: #008080; text-decoration-color: #008080; font-weight: bold\">13</span>,\n",
       "        <span style=\"color: #008080; text-decoration-color: #008080; font-weight: bold\">14</span>,  <span style=\"color: #008080; text-decoration-color: #008080; font-weight: bold\">15</span>,  <span style=\"color: #008080; text-decoration-color: #008080; font-weight: bold\">16</span>,  <span style=\"color: #008080; text-decoration-color: #008080; font-weight: bold\">17</span>,  <span style=\"color: #008080; text-decoration-color: #008080; font-weight: bold\">18</span>,  <span style=\"color: #008080; text-decoration-color: #008080; font-weight: bold\">19</span>,  <span style=\"color: #008080; text-decoration-color: #008080; font-weight: bold\">20</span>,  <span style=\"color: #008080; text-decoration-color: #008080; font-weight: bold\">22</span>,  <span style=\"color: #008080; text-decoration-color: #008080; font-weight: bold\">23</span>,  <span style=\"color: #008080; text-decoration-color: #008080; font-weight: bold\">24</span>,  <span style=\"color: #008080; text-decoration-color: #008080; font-weight: bold\">25</span>,  <span style=\"color: #008080; text-decoration-color: #008080; font-weight: bold\">26</span>,  <span style=\"color: #008080; text-decoration-color: #008080; font-weight: bold\">28</span>,\n",
       "        <span style=\"color: #008080; text-decoration-color: #008080; font-weight: bold\">29</span>,  <span style=\"color: #008080; text-decoration-color: #008080; font-weight: bold\">30</span>,  <span style=\"color: #008080; text-decoration-color: #008080; font-weight: bold\">31</span>,  <span style=\"color: #008080; text-decoration-color: #008080; font-weight: bold\">32</span>,  <span style=\"color: #008080; text-decoration-color: #008080; font-weight: bold\">33</span>,  <span style=\"color: #008080; text-decoration-color: #008080; font-weight: bold\">34</span>,  <span style=\"color: #008080; text-decoration-color: #008080; font-weight: bold\">35</span>,  <span style=\"color: #008080; text-decoration-color: #008080; font-weight: bold\">36</span>,  <span style=\"color: #008080; text-decoration-color: #008080; font-weight: bold\">37</span>,  <span style=\"color: #008080; text-decoration-color: #008080; font-weight: bold\">38</span>,  <span style=\"color: #008080; text-decoration-color: #008080; font-weight: bold\">41</span>,  <span style=\"color: #008080; text-decoration-color: #008080; font-weight: bold\">42</span>,  <span style=\"color: #008080; text-decoration-color: #008080; font-weight: bold\">43</span>,\n",
       "        <span style=\"color: #008080; text-decoration-color: #008080; font-weight: bold\">44</span>,  <span style=\"color: #008080; text-decoration-color: #008080; font-weight: bold\">45</span>,  <span style=\"color: #008080; text-decoration-color: #008080; font-weight: bold\">47</span>,  <span style=\"color: #008080; text-decoration-color: #008080; font-weight: bold\">48</span>,  <span style=\"color: #008080; text-decoration-color: #008080; font-weight: bold\">49</span>,  <span style=\"color: #008080; text-decoration-color: #008080; font-weight: bold\">50</span>,  <span style=\"color: #008080; text-decoration-color: #008080; font-weight: bold\">51</span>,  <span style=\"color: #008080; text-decoration-color: #008080; font-weight: bold\">53</span>,  <span style=\"color: #008080; text-decoration-color: #008080; font-weight: bold\">54</span>,  <span style=\"color: #008080; text-decoration-color: #008080; font-weight: bold\">55</span>,  <span style=\"color: #008080; text-decoration-color: #008080; font-weight: bold\">56</span>,  <span style=\"color: #008080; text-decoration-color: #008080; font-weight: bold\">57</span>,  <span style=\"color: #008080; text-decoration-color: #008080; font-weight: bold\">58</span>,\n",
       "        <span style=\"color: #008080; text-decoration-color: #008080; font-weight: bold\">59</span>,  <span style=\"color: #008080; text-decoration-color: #008080; font-weight: bold\">60</span>,  <span style=\"color: #008080; text-decoration-color: #008080; font-weight: bold\">61</span>,  <span style=\"color: #008080; text-decoration-color: #008080; font-weight: bold\">62</span>,  <span style=\"color: #008080; text-decoration-color: #008080; font-weight: bold\">63</span>,  <span style=\"color: #008080; text-decoration-color: #008080; font-weight: bold\">65</span>,  <span style=\"color: #008080; text-decoration-color: #008080; font-weight: bold\">66</span>,  <span style=\"color: #008080; text-decoration-color: #008080; font-weight: bold\">67</span>,  <span style=\"color: #008080; text-decoration-color: #008080; font-weight: bold\">68</span>,  <span style=\"color: #008080; text-decoration-color: #008080; font-weight: bold\">69</span>,  <span style=\"color: #008080; text-decoration-color: #008080; font-weight: bold\">70</span>,  <span style=\"color: #008080; text-decoration-color: #008080; font-weight: bold\">71</span>,  <span style=\"color: #008080; text-decoration-color: #008080; font-weight: bold\">72</span>,\n",
       "        <span style=\"color: #008080; text-decoration-color: #008080; font-weight: bold\">73</span>,  <span style=\"color: #008080; text-decoration-color: #008080; font-weight: bold\">74</span>,  <span style=\"color: #008080; text-decoration-color: #008080; font-weight: bold\">75</span>,  <span style=\"color: #008080; text-decoration-color: #008080; font-weight: bold\">76</span>,  <span style=\"color: #008080; text-decoration-color: #008080; font-weight: bold\">77</span>,  <span style=\"color: #008080; text-decoration-color: #008080; font-weight: bold\">78</span>,  <span style=\"color: #008080; text-decoration-color: #008080; font-weight: bold\">79</span>,  <span style=\"color: #008080; text-decoration-color: #008080; font-weight: bold\">80</span>,  <span style=\"color: #008080; text-decoration-color: #008080; font-weight: bold\">81</span>,  <span style=\"color: #008080; text-decoration-color: #008080; font-weight: bold\">82</span>,  <span style=\"color: #008080; text-decoration-color: #008080; font-weight: bold\">83</span>,  <span style=\"color: #008080; text-decoration-color: #008080; font-weight: bold\">84</span>,  <span style=\"color: #008080; text-decoration-color: #008080; font-weight: bold\">85</span>,\n",
       "        <span style=\"color: #008080; text-decoration-color: #008080; font-weight: bold\">86</span>,  <span style=\"color: #008080; text-decoration-color: #008080; font-weight: bold\">87</span>,  <span style=\"color: #008080; text-decoration-color: #008080; font-weight: bold\">88</span>,  <span style=\"color: #008080; text-decoration-color: #008080; font-weight: bold\">90</span>,  <span style=\"color: #008080; text-decoration-color: #008080; font-weight: bold\">91</span>,  <span style=\"color: #008080; text-decoration-color: #008080; font-weight: bold\">92</span>,  <span style=\"color: #008080; text-decoration-color: #008080; font-weight: bold\">93</span>,  <span style=\"color: #008080; text-decoration-color: #008080; font-weight: bold\">94</span>,  <span style=\"color: #008080; text-decoration-color: #008080; font-weight: bold\">95</span>,  <span style=\"color: #008080; text-decoration-color: #008080; font-weight: bold\">96</span>,  <span style=\"color: #008080; text-decoration-color: #008080; font-weight: bold\">97</span>,  <span style=\"color: #008080; text-decoration-color: #008080; font-weight: bold\">98</span>,  <span style=\"color: #008080; text-decoration-color: #008080; font-weight: bold\">99</span>,\n",
       "       <span style=\"color: #008080; text-decoration-color: #008080; font-weight: bold\">100</span>, <span style=\"color: #008080; text-decoration-color: #008080; font-weight: bold\">101</span>, <span style=\"color: #008080; text-decoration-color: #008080; font-weight: bold\">102</span>, <span style=\"color: #008080; text-decoration-color: #008080; font-weight: bold\">103</span>, <span style=\"color: #008080; text-decoration-color: #008080; font-weight: bold\">104</span>, <span style=\"color: #008080; text-decoration-color: #008080; font-weight: bold\">105</span>, <span style=\"color: #008080; text-decoration-color: #008080; font-weight: bold\">106</span>, <span style=\"color: #008080; text-decoration-color: #008080; font-weight: bold\">107</span>, <span style=\"color: #008080; text-decoration-color: #008080; font-weight: bold\">108</span>, <span style=\"color: #008080; text-decoration-color: #008080; font-weight: bold\">109</span>, <span style=\"color: #008080; text-decoration-color: #008080; font-weight: bold\">110</span>, <span style=\"color: #008080; text-decoration-color: #008080; font-weight: bold\">111</span>, <span style=\"color: #008080; text-decoration-color: #008080; font-weight: bold\">112</span>,\n",
       "       <span style=\"color: #008080; text-decoration-color: #008080; font-weight: bold\">113</span>, <span style=\"color: #008080; text-decoration-color: #008080; font-weight: bold\">114</span>, <span style=\"color: #008080; text-decoration-color: #008080; font-weight: bold\">115</span>, <span style=\"color: #008080; text-decoration-color: #008080; font-weight: bold\">116</span>, <span style=\"color: #008080; text-decoration-color: #008080; font-weight: bold\">117</span>, <span style=\"color: #008080; text-decoration-color: #008080; font-weight: bold\">118</span>, <span style=\"color: #008080; text-decoration-color: #008080; font-weight: bold\">119</span>, <span style=\"color: #008080; text-decoration-color: #008080; font-weight: bold\">120</span>, <span style=\"color: #008080; text-decoration-color: #008080; font-weight: bold\">121</span>, <span style=\"color: #008080; text-decoration-color: #008080; font-weight: bold\">122</span>, <span style=\"color: #008080; text-decoration-color: #008080; font-weight: bold\">123</span>, <span style=\"color: #008080; text-decoration-color: #008080; font-weight: bold\">124</span>, <span style=\"color: #008080; text-decoration-color: #008080; font-weight: bold\">125</span>,\n",
       "       <span style=\"color: #008080; text-decoration-color: #008080; font-weight: bold\">126</span>, <span style=\"color: #008080; text-decoration-color: #008080; font-weight: bold\">127</span>, <span style=\"color: #008080; text-decoration-color: #008080; font-weight: bold\">128</span>, <span style=\"color: #008080; text-decoration-color: #008080; font-weight: bold\">129</span>, <span style=\"color: #008080; text-decoration-color: #008080; font-weight: bold\">130</span>, <span style=\"color: #008080; text-decoration-color: #008080; font-weight: bold\">131</span>, <span style=\"color: #008080; text-decoration-color: #008080; font-weight: bold\">132</span>, <span style=\"color: #008080; text-decoration-color: #008080; font-weight: bold\">133</span>, <span style=\"color: #008080; text-decoration-color: #008080; font-weight: bold\">134</span>, <span style=\"color: #008080; text-decoration-color: #008080; font-weight: bold\">135</span>, <span style=\"color: #008080; text-decoration-color: #008080; font-weight: bold\">136</span>, <span style=\"color: #008080; text-decoration-color: #008080; font-weight: bold\">137</span>, <span style=\"color: #008080; text-decoration-color: #008080; font-weight: bold\">138</span>,\n",
       "       <span style=\"color: #008080; text-decoration-color: #008080; font-weight: bold\">139</span>, <span style=\"color: #008080; text-decoration-color: #008080; font-weight: bold\">140</span>, <span style=\"color: #008080; text-decoration-color: #008080; font-weight: bold\">141</span>, <span style=\"color: #008080; text-decoration-color: #008080; font-weight: bold\">142</span>, <span style=\"color: #008080; text-decoration-color: #008080; font-weight: bold\">143</span>, <span style=\"color: #008080; text-decoration-color: #008080; font-weight: bold\">144</span>, <span style=\"color: #008080; text-decoration-color: #008080; font-weight: bold\">145</span>, <span style=\"color: #008080; text-decoration-color: #008080; font-weight: bold\">146</span>, <span style=\"color: #008080; text-decoration-color: #008080; font-weight: bold\">147</span>, <span style=\"color: #008080; text-decoration-color: #008080; font-weight: bold\">148</span>, <span style=\"color: #008080; text-decoration-color: #008080; font-weight: bold\">149</span>, <span style=\"color: #008080; text-decoration-color: #008080; font-weight: bold\">150</span>, <span style=\"color: #008080; text-decoration-color: #008080; font-weight: bold\">151</span>,\n",
       "       <span style=\"color: #008080; text-decoration-color: #008080; font-weight: bold\">152</span>, <span style=\"color: #008080; text-decoration-color: #008080; font-weight: bold\">153</span>, <span style=\"color: #008080; text-decoration-color: #008080; font-weight: bold\">154</span>, <span style=\"color: #008080; text-decoration-color: #008080; font-weight: bold\">155</span>, <span style=\"color: #008080; text-decoration-color: #008080; font-weight: bold\">156</span>, <span style=\"color: #008080; text-decoration-color: #008080; font-weight: bold\">157</span>, <span style=\"color: #008080; text-decoration-color: #008080; font-weight: bold\">158</span>, <span style=\"color: #008080; text-decoration-color: #008080; font-weight: bold\">159</span>, <span style=\"color: #008080; text-decoration-color: #008080; font-weight: bold\">160</span>, <span style=\"color: #008080; text-decoration-color: #008080; font-weight: bold\">161</span>, <span style=\"color: #008080; text-decoration-color: #008080; font-weight: bold\">162</span>, <span style=\"color: #008080; text-decoration-color: #008080; font-weight: bold\">163</span>, <span style=\"color: #008080; text-decoration-color: #008080; font-weight: bold\">164</span>,\n",
       "       <span style=\"color: #008080; text-decoration-color: #008080; font-weight: bold\">165</span>, <span style=\"color: #008080; text-decoration-color: #008080; font-weight: bold\">166</span>, <span style=\"color: #008080; text-decoration-color: #008080; font-weight: bold\">167</span>, <span style=\"color: #008080; text-decoration-color: #008080; font-weight: bold\">168</span>, <span style=\"color: #008080; text-decoration-color: #008080; font-weight: bold\">169</span>, <span style=\"color: #008080; text-decoration-color: #008080; font-weight: bold\">170</span>, <span style=\"color: #008080; text-decoration-color: #008080; font-weight: bold\">171</span>, <span style=\"color: #008080; text-decoration-color: #008080; font-weight: bold\">172</span>, <span style=\"color: #008080; text-decoration-color: #008080; font-weight: bold\">173</span>, <span style=\"color: #008080; text-decoration-color: #008080; font-weight: bold\">174</span>, <span style=\"color: #008080; text-decoration-color: #008080; font-weight: bold\">175</span>, <span style=\"color: #008080; text-decoration-color: #008080; font-weight: bold\">176</span>, <span style=\"color: #008080; text-decoration-color: #008080; font-weight: bold\">177</span>,\n",
       "       <span style=\"color: #008080; text-decoration-color: #008080; font-weight: bold\">178</span>, <span style=\"color: #008080; text-decoration-color: #008080; font-weight: bold\">179</span>, <span style=\"color: #008080; text-decoration-color: #008080; font-weight: bold\">180</span>, <span style=\"color: #008080; text-decoration-color: #008080; font-weight: bold\">181</span>, <span style=\"color: #008080; text-decoration-color: #008080; font-weight: bold\">182</span>, <span style=\"color: #008080; text-decoration-color: #008080; font-weight: bold\">183</span>, <span style=\"color: #008080; text-decoration-color: #008080; font-weight: bold\">184</span>, <span style=\"color: #008080; text-decoration-color: #008080; font-weight: bold\">185</span>, <span style=\"color: #008080; text-decoration-color: #008080; font-weight: bold\">186</span>, <span style=\"color: #008080; text-decoration-color: #008080; font-weight: bold\">187</span>, <span style=\"color: #008080; text-decoration-color: #008080; font-weight: bold\">188</span>, <span style=\"color: #008080; text-decoration-color: #008080; font-weight: bold\">189</span>, <span style=\"color: #008080; text-decoration-color: #008080; font-weight: bold\">190</span>,\n",
       "       <span style=\"color: #008080; text-decoration-color: #008080; font-weight: bold\">191</span>, <span style=\"color: #008080; text-decoration-color: #008080; font-weight: bold\">192</span>, <span style=\"color: #008080; text-decoration-color: #008080; font-weight: bold\">193</span>, <span style=\"color: #008080; text-decoration-color: #008080; font-weight: bold\">194</span>, <span style=\"color: #008080; text-decoration-color: #008080; font-weight: bold\">195</span>, <span style=\"color: #008080; text-decoration-color: #008080; font-weight: bold\">196</span>, <span style=\"color: #008080; text-decoration-color: #008080; font-weight: bold\">197</span>, <span style=\"color: #008080; text-decoration-color: #008080; font-weight: bold\">198</span>, <span style=\"color: #008080; text-decoration-color: #008080; font-weight: bold\">199</span>, <span style=\"color: #008080; text-decoration-color: #008080; font-weight: bold\">200</span>, <span style=\"color: #008080; text-decoration-color: #008080; font-weight: bold\">201</span>, <span style=\"color: #008080; text-decoration-color: #008080; font-weight: bold\">202</span>, <span style=\"color: #008080; text-decoration-color: #008080; font-weight: bold\">203</span>,\n",
       "       <span style=\"color: #008080; text-decoration-color: #008080; font-weight: bold\">204</span>, <span style=\"color: #008080; text-decoration-color: #008080; font-weight: bold\">205</span>, <span style=\"color: #008080; text-decoration-color: #008080; font-weight: bold\">206</span>, <span style=\"color: #008080; text-decoration-color: #008080; font-weight: bold\">207</span>, <span style=\"color: #008080; text-decoration-color: #008080; font-weight: bold\">208</span>, <span style=\"color: #008080; text-decoration-color: #008080; font-weight: bold\">209</span>, <span style=\"color: #008080; text-decoration-color: #008080; font-weight: bold\">210</span>, <span style=\"color: #008080; text-decoration-color: #008080; font-weight: bold\">211</span>, <span style=\"color: #008080; text-decoration-color: #008080; font-weight: bold\">212</span>, <span style=\"color: #008080; text-decoration-color: #008080; font-weight: bold\">213</span>, <span style=\"color: #008080; text-decoration-color: #008080; font-weight: bold\">214</span>, <span style=\"color: #008080; text-decoration-color: #008080; font-weight: bold\">215</span>, <span style=\"color: #008080; text-decoration-color: #008080; font-weight: bold\">216</span>,\n",
       "       <span style=\"color: #008080; text-decoration-color: #008080; font-weight: bold\">217</span>, <span style=\"color: #008080; text-decoration-color: #008080; font-weight: bold\">218</span>, <span style=\"color: #008080; text-decoration-color: #008080; font-weight: bold\">219</span>, <span style=\"color: #008080; text-decoration-color: #008080; font-weight: bold\">220</span>, <span style=\"color: #008080; text-decoration-color: #008080; font-weight: bold\">221</span>, <span style=\"color: #008080; text-decoration-color: #008080; font-weight: bold\">222</span>, <span style=\"color: #008080; text-decoration-color: #008080; font-weight: bold\">223</span>, <span style=\"color: #008080; text-decoration-color: #008080; font-weight: bold\">224</span>, <span style=\"color: #008080; text-decoration-color: #008080; font-weight: bold\">225</span>, <span style=\"color: #008080; text-decoration-color: #008080; font-weight: bold\">226</span>, <span style=\"color: #008080; text-decoration-color: #008080; font-weight: bold\">227</span>, <span style=\"color: #008080; text-decoration-color: #008080; font-weight: bold\">228</span>, <span style=\"color: #008080; text-decoration-color: #008080; font-weight: bold\">229</span>,\n",
       "       <span style=\"color: #008080; text-decoration-color: #008080; font-weight: bold\">230</span>, <span style=\"color: #008080; text-decoration-color: #008080; font-weight: bold\">231</span>, <span style=\"color: #008080; text-decoration-color: #008080; font-weight: bold\">232</span>, <span style=\"color: #008080; text-decoration-color: #008080; font-weight: bold\">233</span>, <span style=\"color: #008080; text-decoration-color: #008080; font-weight: bold\">234</span>, <span style=\"color: #008080; text-decoration-color: #008080; font-weight: bold\">235</span>, <span style=\"color: #008080; text-decoration-color: #008080; font-weight: bold\">236</span>, <span style=\"color: #008080; text-decoration-color: #008080; font-weight: bold\">237</span>, <span style=\"color: #008080; text-decoration-color: #008080; font-weight: bold\">238</span>, <span style=\"color: #008080; text-decoration-color: #008080; font-weight: bold\">239</span>, <span style=\"color: #008080; text-decoration-color: #008080; font-weight: bold\">240</span>, <span style=\"color: #008080; text-decoration-color: #008080; font-weight: bold\">241</span>, <span style=\"color: #008080; text-decoration-color: #008080; font-weight: bold\">242</span>,\n",
       "       <span style=\"color: #008080; text-decoration-color: #008080; font-weight: bold\">243</span>, <span style=\"color: #008080; text-decoration-color: #008080; font-weight: bold\">244</span>, <span style=\"color: #008080; text-decoration-color: #008080; font-weight: bold\">245</span>, <span style=\"color: #008080; text-decoration-color: #008080; font-weight: bold\">246</span>, <span style=\"color: #008080; text-decoration-color: #008080; font-weight: bold\">247</span>, <span style=\"color: #008080; text-decoration-color: #008080; font-weight: bold\">248</span>, <span style=\"color: #008080; text-decoration-color: #008080; font-weight: bold\">250</span>, <span style=\"color: #008080; text-decoration-color: #008080; font-weight: bold\">251</span>, <span style=\"color: #008080; text-decoration-color: #008080; font-weight: bold\">252</span>, <span style=\"color: #008080; text-decoration-color: #008080; font-weight: bold\">253</span>, <span style=\"color: #008080; text-decoration-color: #008080; font-weight: bold\">254</span>, <span style=\"color: #008080; text-decoration-color: #008080; font-weight: bold\">255</span>, <span style=\"color: #008080; text-decoration-color: #008080; font-weight: bold\">256</span>,\n",
       "       <span style=\"color: #008080; text-decoration-color: #008080; font-weight: bold\">257</span>, <span style=\"color: #008080; text-decoration-color: #008080; font-weight: bold\">258</span>, <span style=\"color: #008080; text-decoration-color: #008080; font-weight: bold\">259</span>, <span style=\"color: #008080; text-decoration-color: #008080; font-weight: bold\">260</span>, <span style=\"color: #008080; text-decoration-color: #008080; font-weight: bold\">261</span>, <span style=\"color: #008080; text-decoration-color: #008080; font-weight: bold\">262</span>, <span style=\"color: #008080; text-decoration-color: #008080; font-weight: bold\">263</span>, <span style=\"color: #008080; text-decoration-color: #008080; font-weight: bold\">264</span>, <span style=\"color: #008080; text-decoration-color: #008080; font-weight: bold\">265</span>, <span style=\"color: #008080; text-decoration-color: #008080; font-weight: bold\">266</span>, <span style=\"color: #008080; text-decoration-color: #008080; font-weight: bold\">267</span>, <span style=\"color: #008080; text-decoration-color: #008080; font-weight: bold\">268</span>, <span style=\"color: #008080; text-decoration-color: #008080; font-weight: bold\">269</span>,\n",
       "       <span style=\"color: #008080; text-decoration-color: #008080; font-weight: bold\">270</span>, <span style=\"color: #008080; text-decoration-color: #008080; font-weight: bold\">271</span>, <span style=\"color: #008080; text-decoration-color: #008080; font-weight: bold\">272</span>, <span style=\"color: #008080; text-decoration-color: #008080; font-weight: bold\">273</span>, <span style=\"color: #008080; text-decoration-color: #008080; font-weight: bold\">274</span>, <span style=\"color: #008080; text-decoration-color: #008080; font-weight: bold\">275</span>, <span style=\"color: #008080; text-decoration-color: #008080; font-weight: bold\">276</span>, <span style=\"color: #008080; text-decoration-color: #008080; font-weight: bold\">277</span>, <span style=\"color: #008080; text-decoration-color: #008080; font-weight: bold\">278</span>, <span style=\"color: #008080; text-decoration-color: #008080; font-weight: bold\">279</span>, <span style=\"color: #008080; text-decoration-color: #008080; font-weight: bold\">280</span>, <span style=\"color: #008080; text-decoration-color: #008080; font-weight: bold\">281</span>, <span style=\"color: #008080; text-decoration-color: #008080; font-weight: bold\">282</span>,\n",
       "       <span style=\"color: #008080; text-decoration-color: #008080; font-weight: bold\">283</span>, <span style=\"color: #008080; text-decoration-color: #008080; font-weight: bold\">284</span>, <span style=\"color: #008080; text-decoration-color: #008080; font-weight: bold\">285</span>, <span style=\"color: #008080; text-decoration-color: #008080; font-weight: bold\">286</span>, <span style=\"color: #008080; text-decoration-color: #008080; font-weight: bold\">287</span>, <span style=\"color: #008080; text-decoration-color: #008080; font-weight: bold\">288</span>, <span style=\"color: #008080; text-decoration-color: #008080; font-weight: bold\">289</span>, <span style=\"color: #008080; text-decoration-color: #008080; font-weight: bold\">290</span>, <span style=\"color: #008080; text-decoration-color: #008080; font-weight: bold\">292</span>, <span style=\"color: #008080; text-decoration-color: #008080; font-weight: bold\">293</span>, <span style=\"color: #008080; text-decoration-color: #008080; font-weight: bold\">294</span>, <span style=\"color: #008080; text-decoration-color: #008080; font-weight: bold\">295</span>, <span style=\"color: #008080; text-decoration-color: #008080; font-weight: bold\">296</span>,\n",
       "       <span style=\"color: #008080; text-decoration-color: #008080; font-weight: bold\">297</span>, <span style=\"color: #008080; text-decoration-color: #008080; font-weight: bold\">298</span>, <span style=\"color: #008080; text-decoration-color: #008080; font-weight: bold\">299</span>, <span style=\"color: #008080; text-decoration-color: #008080; font-weight: bold\">300</span>, <span style=\"color: #008080; text-decoration-color: #008080; font-weight: bold\">301</span>, <span style=\"color: #008080; text-decoration-color: #008080; font-weight: bold\">302</span>, <span style=\"color: #008080; text-decoration-color: #008080; font-weight: bold\">303</span>, <span style=\"color: #008080; text-decoration-color: #008080; font-weight: bold\">304</span>, <span style=\"color: #008080; text-decoration-color: #008080; font-weight: bold\">305</span>, <span style=\"color: #008080; text-decoration-color: #008080; font-weight: bold\">306</span>, <span style=\"color: #008080; text-decoration-color: #008080; font-weight: bold\">307</span>, <span style=\"color: #008080; text-decoration-color: #008080; font-weight: bold\">308</span>, <span style=\"color: #008080; text-decoration-color: #008080; font-weight: bold\">309</span>,\n",
       "       <span style=\"color: #008080; text-decoration-color: #008080; font-weight: bold\">310</span>, <span style=\"color: #008080; text-decoration-color: #008080; font-weight: bold\">311</span>, <span style=\"color: #008080; text-decoration-color: #008080; font-weight: bold\">312</span>, <span style=\"color: #008080; text-decoration-color: #008080; font-weight: bold\">313</span>, <span style=\"color: #008080; text-decoration-color: #008080; font-weight: bold\">314</span>, <span style=\"color: #008080; text-decoration-color: #008080; font-weight: bold\">315</span>, <span style=\"color: #008080; text-decoration-color: #008080; font-weight: bold\">316</span>, <span style=\"color: #008080; text-decoration-color: #008080; font-weight: bold\">317</span>, <span style=\"color: #008080; text-decoration-color: #008080; font-weight: bold\">318</span>, <span style=\"color: #008080; text-decoration-color: #008080; font-weight: bold\">319</span>, <span style=\"color: #008080; text-decoration-color: #008080; font-weight: bold\">320</span>, <span style=\"color: #008080; text-decoration-color: #008080; font-weight: bold\">321</span>, <span style=\"color: #008080; text-decoration-color: #008080; font-weight: bold\">322</span>,\n",
       "       <span style=\"color: #008080; text-decoration-color: #008080; font-weight: bold\">323</span>, <span style=\"color: #008080; text-decoration-color: #008080; font-weight: bold\">324</span>, <span style=\"color: #008080; text-decoration-color: #008080; font-weight: bold\">325</span>, <span style=\"color: #008080; text-decoration-color: #008080; font-weight: bold\">326</span>, <span style=\"color: #008080; text-decoration-color: #008080; font-weight: bold\">327</span>, <span style=\"color: #008080; text-decoration-color: #008080; font-weight: bold\">328</span>, <span style=\"color: #008080; text-decoration-color: #008080; font-weight: bold\">329</span>, <span style=\"color: #008080; text-decoration-color: #008080; font-weight: bold\">330</span>, <span style=\"color: #008080; text-decoration-color: #008080; font-weight: bold\">331</span>, <span style=\"color: #008080; text-decoration-color: #008080; font-weight: bold\">332</span>, <span style=\"color: #008080; text-decoration-color: #008080; font-weight: bold\">333</span>, <span style=\"color: #008080; text-decoration-color: #008080; font-weight: bold\">334</span>, <span style=\"color: #008080; text-decoration-color: #008080; font-weight: bold\">335</span>,\n",
       "       <span style=\"color: #008080; text-decoration-color: #008080; font-weight: bold\">336</span>, <span style=\"color: #008080; text-decoration-color: #008080; font-weight: bold\">337</span>, <span style=\"color: #008080; text-decoration-color: #008080; font-weight: bold\">338</span>, <span style=\"color: #008080; text-decoration-color: #008080; font-weight: bold\">339</span>, <span style=\"color: #008080; text-decoration-color: #008080; font-weight: bold\">340</span>, <span style=\"color: #008080; text-decoration-color: #008080; font-weight: bold\">341</span>, <span style=\"color: #008080; text-decoration-color: #008080; font-weight: bold\">342</span>, <span style=\"color: #008080; text-decoration-color: #008080; font-weight: bold\">343</span>, <span style=\"color: #008080; text-decoration-color: #008080; font-weight: bold\">344</span>, <span style=\"color: #008080; text-decoration-color: #008080; font-weight: bold\">345</span>, <span style=\"color: #008080; text-decoration-color: #008080; font-weight: bold\">346</span>, <span style=\"color: #008080; text-decoration-color: #008080; font-weight: bold\">347</span>, <span style=\"color: #008080; text-decoration-color: #008080; font-weight: bold\">348</span>,\n",
       "       <span style=\"color: #008080; text-decoration-color: #008080; font-weight: bold\">349</span>, <span style=\"color: #008080; text-decoration-color: #008080; font-weight: bold\">350</span>, <span style=\"color: #008080; text-decoration-color: #008080; font-weight: bold\">351</span>, <span style=\"color: #008080; text-decoration-color: #008080; font-weight: bold\">352</span>, <span style=\"color: #008080; text-decoration-color: #008080; font-weight: bold\">353</span>, <span style=\"color: #008080; text-decoration-color: #008080; font-weight: bold\">354</span>, <span style=\"color: #008080; text-decoration-color: #008080; font-weight: bold\">355</span>, <span style=\"color: #008080; text-decoration-color: #008080; font-weight: bold\">356</span>, <span style=\"color: #008080; text-decoration-color: #008080; font-weight: bold\">357</span>, <span style=\"color: #008080; text-decoration-color: #008080; font-weight: bold\">358</span>, <span style=\"color: #008080; text-decoration-color: #008080; font-weight: bold\">359</span>, <span style=\"color: #008080; text-decoration-color: #008080; font-weight: bold\">360</span>, <span style=\"color: #008080; text-decoration-color: #008080; font-weight: bold\">361</span>,\n",
       "       <span style=\"color: #008080; text-decoration-color: #008080; font-weight: bold\">362</span>, <span style=\"color: #008080; text-decoration-color: #008080; font-weight: bold\">363</span>, <span style=\"color: #008080; text-decoration-color: #008080; font-weight: bold\">364</span>, <span style=\"color: #008080; text-decoration-color: #008080; font-weight: bold\">365</span>, <span style=\"color: #008080; text-decoration-color: #008080; font-weight: bold\">366</span>, <span style=\"color: #008080; text-decoration-color: #008080; font-weight: bold\">367</span>, <span style=\"color: #008080; text-decoration-color: #008080; font-weight: bold\">368</span>, <span style=\"color: #008080; text-decoration-color: #008080; font-weight: bold\">369</span>, <span style=\"color: #008080; text-decoration-color: #008080; font-weight: bold\">370</span>, <span style=\"color: #008080; text-decoration-color: #008080; font-weight: bold\">371</span>, <span style=\"color: #008080; text-decoration-color: #008080; font-weight: bold\">372</span>, <span style=\"color: #008080; text-decoration-color: #008080; font-weight: bold\">373</span>, <span style=\"color: #008080; text-decoration-color: #008080; font-weight: bold\">374</span>,\n",
       "       <span style=\"color: #008080; text-decoration-color: #008080; font-weight: bold\">375</span>, <span style=\"color: #008080; text-decoration-color: #008080; font-weight: bold\">376</span>, <span style=\"color: #008080; text-decoration-color: #008080; font-weight: bold\">377</span>, <span style=\"color: #008080; text-decoration-color: #008080; font-weight: bold\">378</span>, <span style=\"color: #008080; text-decoration-color: #008080; font-weight: bold\">379</span>, <span style=\"color: #008080; text-decoration-color: #008080; font-weight: bold\">380</span>, <span style=\"color: #008080; text-decoration-color: #008080; font-weight: bold\">381</span>, <span style=\"color: #008080; text-decoration-color: #008080; font-weight: bold\">382</span>, <span style=\"color: #008080; text-decoration-color: #008080; font-weight: bold\">383</span>, <span style=\"color: #008080; text-decoration-color: #008080; font-weight: bold\">384</span>, <span style=\"color: #008080; text-decoration-color: #008080; font-weight: bold\">385</span>, <span style=\"color: #008080; text-decoration-color: #008080; font-weight: bold\">386</span>, <span style=\"color: #008080; text-decoration-color: #008080; font-weight: bold\">387</span>,\n",
       "       <span style=\"color: #008080; text-decoration-color: #008080; font-weight: bold\">388</span>, <span style=\"color: #008080; text-decoration-color: #008080; font-weight: bold\">389</span>, <span style=\"color: #008080; text-decoration-color: #008080; font-weight: bold\">390</span>, <span style=\"color: #008080; text-decoration-color: #008080; font-weight: bold\">391</span>, <span style=\"color: #008080; text-decoration-color: #008080; font-weight: bold\">392</span>, <span style=\"color: #008080; text-decoration-color: #008080; font-weight: bold\">393</span>, <span style=\"color: #008080; text-decoration-color: #008080; font-weight: bold\">394</span>, <span style=\"color: #008080; text-decoration-color: #008080; font-weight: bold\">395</span>, <span style=\"color: #008080; text-decoration-color: #008080; font-weight: bold\">396</span>, <span style=\"color: #008080; text-decoration-color: #008080; font-weight: bold\">397</span>, <span style=\"color: #008080; text-decoration-color: #008080; font-weight: bold\">398</span>, <span style=\"color: #008080; text-decoration-color: #008080; font-weight: bold\">399</span>, <span style=\"color: #008080; text-decoration-color: #008080; font-weight: bold\">400</span>,\n",
       "       <span style=\"color: #008080; text-decoration-color: #008080; font-weight: bold\">401</span>, <span style=\"color: #008080; text-decoration-color: #008080; font-weight: bold\">402</span>, <span style=\"color: #008080; text-decoration-color: #008080; font-weight: bold\">403</span>, <span style=\"color: #008080; text-decoration-color: #008080; font-weight: bold\">404</span>, <span style=\"color: #008080; text-decoration-color: #008080; font-weight: bold\">405</span>, <span style=\"color: #008080; text-decoration-color: #008080; font-weight: bold\">406</span>, <span style=\"color: #008080; text-decoration-color: #008080; font-weight: bold\">407</span>, <span style=\"color: #008080; text-decoration-color: #008080; font-weight: bold\">408</span>, <span style=\"color: #008080; text-decoration-color: #008080; font-weight: bold\">409</span>, <span style=\"color: #008080; text-decoration-color: #008080; font-weight: bold\">410</span>, <span style=\"color: #008080; text-decoration-color: #008080; font-weight: bold\">411</span>, <span style=\"color: #008080; text-decoration-color: #008080; font-weight: bold\">412</span>, <span style=\"color: #008080; text-decoration-color: #008080; font-weight: bold\">413</span>,\n",
       "       <span style=\"color: #008080; text-decoration-color: #008080; font-weight: bold\">414</span>, <span style=\"color: #008080; text-decoration-color: #008080; font-weight: bold\">415</span>, <span style=\"color: #008080; text-decoration-color: #008080; font-weight: bold\">416</span>, <span style=\"color: #008080; text-decoration-color: #008080; font-weight: bold\">417</span>, <span style=\"color: #008080; text-decoration-color: #008080; font-weight: bold\">418</span>, <span style=\"color: #008080; text-decoration-color: #008080; font-weight: bold\">419</span>, <span style=\"color: #008080; text-decoration-color: #008080; font-weight: bold\">420</span>, <span style=\"color: #008080; text-decoration-color: #008080; font-weight: bold\">421</span>, <span style=\"color: #008080; text-decoration-color: #008080; font-weight: bold\">422</span>, <span style=\"color: #008080; text-decoration-color: #008080; font-weight: bold\">423</span>, <span style=\"color: #008080; text-decoration-color: #008080; font-weight: bold\">424</span>, <span style=\"color: #008080; text-decoration-color: #008080; font-weight: bold\">425</span>, <span style=\"color: #008080; text-decoration-color: #008080; font-weight: bold\">426</span>,\n",
       "       <span style=\"color: #008080; text-decoration-color: #008080; font-weight: bold\">427</span>, <span style=\"color: #008080; text-decoration-color: #008080; font-weight: bold\">428</span>, <span style=\"color: #008080; text-decoration-color: #008080; font-weight: bold\">429</span>, <span style=\"color: #008080; text-decoration-color: #008080; font-weight: bold\">430</span>, <span style=\"color: #008080; text-decoration-color: #008080; font-weight: bold\">431</span>, <span style=\"color: #008080; text-decoration-color: #008080; font-weight: bold\">432</span>, <span style=\"color: #008080; text-decoration-color: #008080; font-weight: bold\">433</span>, <span style=\"color: #008080; text-decoration-color: #008080; font-weight: bold\">434</span>, <span style=\"color: #008080; text-decoration-color: #008080; font-weight: bold\">435</span>, <span style=\"color: #008080; text-decoration-color: #008080; font-weight: bold\">436</span>, <span style=\"color: #008080; text-decoration-color: #008080; font-weight: bold\">437</span>, <span style=\"color: #008080; text-decoration-color: #008080; font-weight: bold\">438</span>, <span style=\"color: #008080; text-decoration-color: #008080; font-weight: bold\">439</span>,\n",
       "       <span style=\"color: #008080; text-decoration-color: #008080; font-weight: bold\">440</span>, <span style=\"color: #008080; text-decoration-color: #008080; font-weight: bold\">441</span>, <span style=\"color: #008080; text-decoration-color: #008080; font-weight: bold\">442</span>, <span style=\"color: #008080; text-decoration-color: #008080; font-weight: bold\">443</span>, <span style=\"color: #008080; text-decoration-color: #008080; font-weight: bold\">444</span>, <span style=\"color: #008080; text-decoration-color: #008080; font-weight: bold\">445</span>, <span style=\"color: #008080; text-decoration-color: #008080; font-weight: bold\">446</span>, <span style=\"color: #008080; text-decoration-color: #008080; font-weight: bold\">447</span>, <span style=\"color: #008080; text-decoration-color: #008080; font-weight: bold\">448</span>, <span style=\"color: #008080; text-decoration-color: #008080; font-weight: bold\">449</span>, <span style=\"color: #008080; text-decoration-color: #008080; font-weight: bold\">450</span>, <span style=\"color: #008080; text-decoration-color: #008080; font-weight: bold\">451</span>, <span style=\"color: #008080; text-decoration-color: #008080; font-weight: bold\">452</span>,\n",
       "       <span style=\"color: #008080; text-decoration-color: #008080; font-weight: bold\">453</span>, <span style=\"color: #008080; text-decoration-color: #008080; font-weight: bold\">454</span>, <span style=\"color: #008080; text-decoration-color: #008080; font-weight: bold\">455</span>, <span style=\"color: #008080; text-decoration-color: #008080; font-weight: bold\">456</span>, <span style=\"color: #008080; text-decoration-color: #008080; font-weight: bold\">457</span>, <span style=\"color: #008080; text-decoration-color: #008080; font-weight: bold\">458</span>, <span style=\"color: #008080; text-decoration-color: #008080; font-weight: bold\">459</span>, <span style=\"color: #008080; text-decoration-color: #008080; font-weight: bold\">460</span>, <span style=\"color: #008080; text-decoration-color: #008080; font-weight: bold\">461</span>, <span style=\"color: #008080; text-decoration-color: #008080; font-weight: bold\">462</span>, <span style=\"color: #008080; text-decoration-color: #008080; font-weight: bold\">463</span>, <span style=\"color: #008080; text-decoration-color: #008080; font-weight: bold\">464</span>, <span style=\"color: #008080; text-decoration-color: #008080; font-weight: bold\">465</span>,\n",
       "       <span style=\"color: #008080; text-decoration-color: #008080; font-weight: bold\">466</span>, <span style=\"color: #008080; text-decoration-color: #008080; font-weight: bold\">467</span>, <span style=\"color: #008080; text-decoration-color: #008080; font-weight: bold\">468</span>, <span style=\"color: #008080; text-decoration-color: #008080; font-weight: bold\">469</span>, <span style=\"color: #008080; text-decoration-color: #008080; font-weight: bold\">470</span>, <span style=\"color: #008080; text-decoration-color: #008080; font-weight: bold\">471</span>, <span style=\"color: #008080; text-decoration-color: #008080; font-weight: bold\">472</span>, <span style=\"color: #008080; text-decoration-color: #008080; font-weight: bold\">473</span>, <span style=\"color: #008080; text-decoration-color: #008080; font-weight: bold\">474</span>, <span style=\"color: #008080; text-decoration-color: #008080; font-weight: bold\">475</span>, <span style=\"color: #008080; text-decoration-color: #008080; font-weight: bold\">476</span>, <span style=\"color: #008080; text-decoration-color: #008080; font-weight: bold\">477</span>, <span style=\"color: #008080; text-decoration-color: #008080; font-weight: bold\">478</span>,\n",
       "       <span style=\"color: #008080; text-decoration-color: #008080; font-weight: bold\">479</span>, <span style=\"color: #008080; text-decoration-color: #008080; font-weight: bold\">480</span>, <span style=\"color: #008080; text-decoration-color: #008080; font-weight: bold\">481</span>, <span style=\"color: #008080; text-decoration-color: #008080; font-weight: bold\">482</span>, <span style=\"color: #008080; text-decoration-color: #008080; font-weight: bold\">483</span>, <span style=\"color: #008080; text-decoration-color: #008080; font-weight: bold\">484</span>, <span style=\"color: #008080; text-decoration-color: #008080; font-weight: bold\">485</span>, <span style=\"color: #008080; text-decoration-color: #008080; font-weight: bold\">486</span>, <span style=\"color: #008080; text-decoration-color: #008080; font-weight: bold\">487</span>, <span style=\"color: #008080; text-decoration-color: #008080; font-weight: bold\">488</span>, <span style=\"color: #008080; text-decoration-color: #008080; font-weight: bold\">489</span>, <span style=\"color: #008080; text-decoration-color: #008080; font-weight: bold\">490</span>, <span style=\"color: #008080; text-decoration-color: #008080; font-weight: bold\">491</span>,\n",
       "       <span style=\"color: #008080; text-decoration-color: #008080; font-weight: bold\">492</span>, <span style=\"color: #008080; text-decoration-color: #008080; font-weight: bold\">493</span>, <span style=\"color: #008080; text-decoration-color: #008080; font-weight: bold\">494</span>, <span style=\"color: #008080; text-decoration-color: #008080; font-weight: bold\">495</span>, <span style=\"color: #008080; text-decoration-color: #008080; font-weight: bold\">496</span>, <span style=\"color: #008080; text-decoration-color: #008080; font-weight: bold\">497</span>, <span style=\"color: #008080; text-decoration-color: #008080; font-weight: bold\">498</span>, <span style=\"color: #008080; text-decoration-color: #008080; font-weight: bold\">499</span>, <span style=\"color: #008080; text-decoration-color: #008080; font-weight: bold\">500</span>, <span style=\"color: #008080; text-decoration-color: #008080; font-weight: bold\">501</span>, <span style=\"color: #008080; text-decoration-color: #008080; font-weight: bold\">502</span>, <span style=\"color: #008080; text-decoration-color: #008080; font-weight: bold\">503</span>, <span style=\"color: #008080; text-decoration-color: #008080; font-weight: bold\">504</span>,\n",
       "       <span style=\"color: #008080; text-decoration-color: #008080; font-weight: bold\">505</span>, <span style=\"color: #008080; text-decoration-color: #008080; font-weight: bold\">506</span>, <span style=\"color: #008080; text-decoration-color: #008080; font-weight: bold\">507</span>, <span style=\"color: #008080; text-decoration-color: #008080; font-weight: bold\">508</span>, <span style=\"color: #008080; text-decoration-color: #008080; font-weight: bold\">509</span>, <span style=\"color: #008080; text-decoration-color: #008080; font-weight: bold\">510</span>, <span style=\"color: #008080; text-decoration-color: #008080; font-weight: bold\">511</span>, <span style=\"color: #008080; text-decoration-color: #008080; font-weight: bold\">512</span>, <span style=\"color: #008080; text-decoration-color: #008080; font-weight: bold\">513</span>, <span style=\"color: #008080; text-decoration-color: #008080; font-weight: bold\">514</span>, <span style=\"color: #008080; text-decoration-color: #008080; font-weight: bold\">515</span>, <span style=\"color: #008080; text-decoration-color: #008080; font-weight: bold\">516</span>, <span style=\"color: #008080; text-decoration-color: #008080; font-weight: bold\">517</span>,\n",
       "       <span style=\"color: #008080; text-decoration-color: #008080; font-weight: bold\">518</span>, <span style=\"color: #008080; text-decoration-color: #008080; font-weight: bold\">519</span>, <span style=\"color: #008080; text-decoration-color: #008080; font-weight: bold\">521</span>, <span style=\"color: #008080; text-decoration-color: #008080; font-weight: bold\">522</span>, <span style=\"color: #008080; text-decoration-color: #008080; font-weight: bold\">523</span>, <span style=\"color: #008080; text-decoration-color: #008080; font-weight: bold\">524</span>, <span style=\"color: #008080; text-decoration-color: #008080; font-weight: bold\">525</span>, <span style=\"color: #008080; text-decoration-color: #008080; font-weight: bold\">526</span>, <span style=\"color: #008080; text-decoration-color: #008080; font-weight: bold\">527</span>, <span style=\"color: #008080; text-decoration-color: #008080; font-weight: bold\">528</span>, <span style=\"color: #008080; text-decoration-color: #008080; font-weight: bold\">529</span>, <span style=\"color: #008080; text-decoration-color: #008080; font-weight: bold\">530</span>, <span style=\"color: #008080; text-decoration-color: #008080; font-weight: bold\">531</span>,\n",
       "       <span style=\"color: #008080; text-decoration-color: #008080; font-weight: bold\">533</span>, <span style=\"color: #008080; text-decoration-color: #008080; font-weight: bold\">534</span>, <span style=\"color: #008080; text-decoration-color: #008080; font-weight: bold\">535</span>, <span style=\"color: #008080; text-decoration-color: #008080; font-weight: bold\">536</span>, <span style=\"color: #008080; text-decoration-color: #008080; font-weight: bold\">537</span>, <span style=\"color: #008080; text-decoration-color: #008080; font-weight: bold\">538</span>, <span style=\"color: #008080; text-decoration-color: #008080; font-weight: bold\">539</span>, <span style=\"color: #008080; text-decoration-color: #008080; font-weight: bold\">540</span>, <span style=\"color: #008080; text-decoration-color: #008080; font-weight: bold\">541</span><span style=\"font-weight: bold\">])</span>\n",
       "</pre>\n"
      ],
      "text/plain": [
       "\n",
       "\u001b[1;35marray\u001b[0m\u001b[1m(\u001b[0m\u001b[1m[\u001b[0m  \u001b[1;36m0\u001b[0m,   \u001b[1;36m1\u001b[0m,   \u001b[1;36m2\u001b[0m,   \u001b[1;36m3\u001b[0m,   \u001b[1;36m4\u001b[0m,   \u001b[1;36m5\u001b[0m,   \u001b[1;36m7\u001b[0m,   \u001b[1;36m8\u001b[0m,   \u001b[1;36m9\u001b[0m,  \u001b[1;36m10\u001b[0m,  \u001b[1;36m11\u001b[0m,  \u001b[1;36m12\u001b[0m,  \u001b[1;36m13\u001b[0m,\n",
       "        \u001b[1;36m14\u001b[0m,  \u001b[1;36m15\u001b[0m,  \u001b[1;36m16\u001b[0m,  \u001b[1;36m17\u001b[0m,  \u001b[1;36m18\u001b[0m,  \u001b[1;36m19\u001b[0m,  \u001b[1;36m20\u001b[0m,  \u001b[1;36m22\u001b[0m,  \u001b[1;36m23\u001b[0m,  \u001b[1;36m24\u001b[0m,  \u001b[1;36m25\u001b[0m,  \u001b[1;36m26\u001b[0m,  \u001b[1;36m28\u001b[0m,\n",
       "        \u001b[1;36m29\u001b[0m,  \u001b[1;36m30\u001b[0m,  \u001b[1;36m31\u001b[0m,  \u001b[1;36m32\u001b[0m,  \u001b[1;36m33\u001b[0m,  \u001b[1;36m34\u001b[0m,  \u001b[1;36m35\u001b[0m,  \u001b[1;36m36\u001b[0m,  \u001b[1;36m37\u001b[0m,  \u001b[1;36m38\u001b[0m,  \u001b[1;36m41\u001b[0m,  \u001b[1;36m42\u001b[0m,  \u001b[1;36m43\u001b[0m,\n",
       "        \u001b[1;36m44\u001b[0m,  \u001b[1;36m45\u001b[0m,  \u001b[1;36m47\u001b[0m,  \u001b[1;36m48\u001b[0m,  \u001b[1;36m49\u001b[0m,  \u001b[1;36m50\u001b[0m,  \u001b[1;36m51\u001b[0m,  \u001b[1;36m53\u001b[0m,  \u001b[1;36m54\u001b[0m,  \u001b[1;36m55\u001b[0m,  \u001b[1;36m56\u001b[0m,  \u001b[1;36m57\u001b[0m,  \u001b[1;36m58\u001b[0m,\n",
       "        \u001b[1;36m59\u001b[0m,  \u001b[1;36m60\u001b[0m,  \u001b[1;36m61\u001b[0m,  \u001b[1;36m62\u001b[0m,  \u001b[1;36m63\u001b[0m,  \u001b[1;36m65\u001b[0m,  \u001b[1;36m66\u001b[0m,  \u001b[1;36m67\u001b[0m,  \u001b[1;36m68\u001b[0m,  \u001b[1;36m69\u001b[0m,  \u001b[1;36m70\u001b[0m,  \u001b[1;36m71\u001b[0m,  \u001b[1;36m72\u001b[0m,\n",
       "        \u001b[1;36m73\u001b[0m,  \u001b[1;36m74\u001b[0m,  \u001b[1;36m75\u001b[0m,  \u001b[1;36m76\u001b[0m,  \u001b[1;36m77\u001b[0m,  \u001b[1;36m78\u001b[0m,  \u001b[1;36m79\u001b[0m,  \u001b[1;36m80\u001b[0m,  \u001b[1;36m81\u001b[0m,  \u001b[1;36m82\u001b[0m,  \u001b[1;36m83\u001b[0m,  \u001b[1;36m84\u001b[0m,  \u001b[1;36m85\u001b[0m,\n",
       "        \u001b[1;36m86\u001b[0m,  \u001b[1;36m87\u001b[0m,  \u001b[1;36m88\u001b[0m,  \u001b[1;36m90\u001b[0m,  \u001b[1;36m91\u001b[0m,  \u001b[1;36m92\u001b[0m,  \u001b[1;36m93\u001b[0m,  \u001b[1;36m94\u001b[0m,  \u001b[1;36m95\u001b[0m,  \u001b[1;36m96\u001b[0m,  \u001b[1;36m97\u001b[0m,  \u001b[1;36m98\u001b[0m,  \u001b[1;36m99\u001b[0m,\n",
       "       \u001b[1;36m100\u001b[0m, \u001b[1;36m101\u001b[0m, \u001b[1;36m102\u001b[0m, \u001b[1;36m103\u001b[0m, \u001b[1;36m104\u001b[0m, \u001b[1;36m105\u001b[0m, \u001b[1;36m106\u001b[0m, \u001b[1;36m107\u001b[0m, \u001b[1;36m108\u001b[0m, \u001b[1;36m109\u001b[0m, \u001b[1;36m110\u001b[0m, \u001b[1;36m111\u001b[0m, \u001b[1;36m112\u001b[0m,\n",
       "       \u001b[1;36m113\u001b[0m, \u001b[1;36m114\u001b[0m, \u001b[1;36m115\u001b[0m, \u001b[1;36m116\u001b[0m, \u001b[1;36m117\u001b[0m, \u001b[1;36m118\u001b[0m, \u001b[1;36m119\u001b[0m, \u001b[1;36m120\u001b[0m, \u001b[1;36m121\u001b[0m, \u001b[1;36m122\u001b[0m, \u001b[1;36m123\u001b[0m, \u001b[1;36m124\u001b[0m, \u001b[1;36m125\u001b[0m,\n",
       "       \u001b[1;36m126\u001b[0m, \u001b[1;36m127\u001b[0m, \u001b[1;36m128\u001b[0m, \u001b[1;36m129\u001b[0m, \u001b[1;36m130\u001b[0m, \u001b[1;36m131\u001b[0m, \u001b[1;36m132\u001b[0m, \u001b[1;36m133\u001b[0m, \u001b[1;36m134\u001b[0m, \u001b[1;36m135\u001b[0m, \u001b[1;36m136\u001b[0m, \u001b[1;36m137\u001b[0m, \u001b[1;36m138\u001b[0m,\n",
       "       \u001b[1;36m139\u001b[0m, \u001b[1;36m140\u001b[0m, \u001b[1;36m141\u001b[0m, \u001b[1;36m142\u001b[0m, \u001b[1;36m143\u001b[0m, \u001b[1;36m144\u001b[0m, \u001b[1;36m145\u001b[0m, \u001b[1;36m146\u001b[0m, \u001b[1;36m147\u001b[0m, \u001b[1;36m148\u001b[0m, \u001b[1;36m149\u001b[0m, \u001b[1;36m150\u001b[0m, \u001b[1;36m151\u001b[0m,\n",
       "       \u001b[1;36m152\u001b[0m, \u001b[1;36m153\u001b[0m, \u001b[1;36m154\u001b[0m, \u001b[1;36m155\u001b[0m, \u001b[1;36m156\u001b[0m, \u001b[1;36m157\u001b[0m, \u001b[1;36m158\u001b[0m, \u001b[1;36m159\u001b[0m, \u001b[1;36m160\u001b[0m, \u001b[1;36m161\u001b[0m, \u001b[1;36m162\u001b[0m, \u001b[1;36m163\u001b[0m, \u001b[1;36m164\u001b[0m,\n",
       "       \u001b[1;36m165\u001b[0m, \u001b[1;36m166\u001b[0m, \u001b[1;36m167\u001b[0m, \u001b[1;36m168\u001b[0m, \u001b[1;36m169\u001b[0m, \u001b[1;36m170\u001b[0m, \u001b[1;36m171\u001b[0m, \u001b[1;36m172\u001b[0m, \u001b[1;36m173\u001b[0m, \u001b[1;36m174\u001b[0m, \u001b[1;36m175\u001b[0m, \u001b[1;36m176\u001b[0m, \u001b[1;36m177\u001b[0m,\n",
       "       \u001b[1;36m178\u001b[0m, \u001b[1;36m179\u001b[0m, \u001b[1;36m180\u001b[0m, \u001b[1;36m181\u001b[0m, \u001b[1;36m182\u001b[0m, \u001b[1;36m183\u001b[0m, \u001b[1;36m184\u001b[0m, \u001b[1;36m185\u001b[0m, \u001b[1;36m186\u001b[0m, \u001b[1;36m187\u001b[0m, \u001b[1;36m188\u001b[0m, \u001b[1;36m189\u001b[0m, \u001b[1;36m190\u001b[0m,\n",
       "       \u001b[1;36m191\u001b[0m, \u001b[1;36m192\u001b[0m, \u001b[1;36m193\u001b[0m, \u001b[1;36m194\u001b[0m, \u001b[1;36m195\u001b[0m, \u001b[1;36m196\u001b[0m, \u001b[1;36m197\u001b[0m, \u001b[1;36m198\u001b[0m, \u001b[1;36m199\u001b[0m, \u001b[1;36m200\u001b[0m, \u001b[1;36m201\u001b[0m, \u001b[1;36m202\u001b[0m, \u001b[1;36m203\u001b[0m,\n",
       "       \u001b[1;36m204\u001b[0m, \u001b[1;36m205\u001b[0m, \u001b[1;36m206\u001b[0m, \u001b[1;36m207\u001b[0m, \u001b[1;36m208\u001b[0m, \u001b[1;36m209\u001b[0m, \u001b[1;36m210\u001b[0m, \u001b[1;36m211\u001b[0m, \u001b[1;36m212\u001b[0m, \u001b[1;36m213\u001b[0m, \u001b[1;36m214\u001b[0m, \u001b[1;36m215\u001b[0m, \u001b[1;36m216\u001b[0m,\n",
       "       \u001b[1;36m217\u001b[0m, \u001b[1;36m218\u001b[0m, \u001b[1;36m219\u001b[0m, \u001b[1;36m220\u001b[0m, \u001b[1;36m221\u001b[0m, \u001b[1;36m222\u001b[0m, \u001b[1;36m223\u001b[0m, \u001b[1;36m224\u001b[0m, \u001b[1;36m225\u001b[0m, \u001b[1;36m226\u001b[0m, \u001b[1;36m227\u001b[0m, \u001b[1;36m228\u001b[0m, \u001b[1;36m229\u001b[0m,\n",
       "       \u001b[1;36m230\u001b[0m, \u001b[1;36m231\u001b[0m, \u001b[1;36m232\u001b[0m, \u001b[1;36m233\u001b[0m, \u001b[1;36m234\u001b[0m, \u001b[1;36m235\u001b[0m, \u001b[1;36m236\u001b[0m, \u001b[1;36m237\u001b[0m, \u001b[1;36m238\u001b[0m, \u001b[1;36m239\u001b[0m, \u001b[1;36m240\u001b[0m, \u001b[1;36m241\u001b[0m, \u001b[1;36m242\u001b[0m,\n",
       "       \u001b[1;36m243\u001b[0m, \u001b[1;36m244\u001b[0m, \u001b[1;36m245\u001b[0m, \u001b[1;36m246\u001b[0m, \u001b[1;36m247\u001b[0m, \u001b[1;36m248\u001b[0m, \u001b[1;36m250\u001b[0m, \u001b[1;36m251\u001b[0m, \u001b[1;36m252\u001b[0m, \u001b[1;36m253\u001b[0m, \u001b[1;36m254\u001b[0m, \u001b[1;36m255\u001b[0m, \u001b[1;36m256\u001b[0m,\n",
       "       \u001b[1;36m257\u001b[0m, \u001b[1;36m258\u001b[0m, \u001b[1;36m259\u001b[0m, \u001b[1;36m260\u001b[0m, \u001b[1;36m261\u001b[0m, \u001b[1;36m262\u001b[0m, \u001b[1;36m263\u001b[0m, \u001b[1;36m264\u001b[0m, \u001b[1;36m265\u001b[0m, \u001b[1;36m266\u001b[0m, \u001b[1;36m267\u001b[0m, \u001b[1;36m268\u001b[0m, \u001b[1;36m269\u001b[0m,\n",
       "       \u001b[1;36m270\u001b[0m, \u001b[1;36m271\u001b[0m, \u001b[1;36m272\u001b[0m, \u001b[1;36m273\u001b[0m, \u001b[1;36m274\u001b[0m, \u001b[1;36m275\u001b[0m, \u001b[1;36m276\u001b[0m, \u001b[1;36m277\u001b[0m, \u001b[1;36m278\u001b[0m, \u001b[1;36m279\u001b[0m, \u001b[1;36m280\u001b[0m, \u001b[1;36m281\u001b[0m, \u001b[1;36m282\u001b[0m,\n",
       "       \u001b[1;36m283\u001b[0m, \u001b[1;36m284\u001b[0m, \u001b[1;36m285\u001b[0m, \u001b[1;36m286\u001b[0m, \u001b[1;36m287\u001b[0m, \u001b[1;36m288\u001b[0m, \u001b[1;36m289\u001b[0m, \u001b[1;36m290\u001b[0m, \u001b[1;36m292\u001b[0m, \u001b[1;36m293\u001b[0m, \u001b[1;36m294\u001b[0m, \u001b[1;36m295\u001b[0m, \u001b[1;36m296\u001b[0m,\n",
       "       \u001b[1;36m297\u001b[0m, \u001b[1;36m298\u001b[0m, \u001b[1;36m299\u001b[0m, \u001b[1;36m300\u001b[0m, \u001b[1;36m301\u001b[0m, \u001b[1;36m302\u001b[0m, \u001b[1;36m303\u001b[0m, \u001b[1;36m304\u001b[0m, \u001b[1;36m305\u001b[0m, \u001b[1;36m306\u001b[0m, \u001b[1;36m307\u001b[0m, \u001b[1;36m308\u001b[0m, \u001b[1;36m309\u001b[0m,\n",
       "       \u001b[1;36m310\u001b[0m, \u001b[1;36m311\u001b[0m, \u001b[1;36m312\u001b[0m, \u001b[1;36m313\u001b[0m, \u001b[1;36m314\u001b[0m, \u001b[1;36m315\u001b[0m, \u001b[1;36m316\u001b[0m, \u001b[1;36m317\u001b[0m, \u001b[1;36m318\u001b[0m, \u001b[1;36m319\u001b[0m, \u001b[1;36m320\u001b[0m, \u001b[1;36m321\u001b[0m, \u001b[1;36m322\u001b[0m,\n",
       "       \u001b[1;36m323\u001b[0m, \u001b[1;36m324\u001b[0m, \u001b[1;36m325\u001b[0m, \u001b[1;36m326\u001b[0m, \u001b[1;36m327\u001b[0m, \u001b[1;36m328\u001b[0m, \u001b[1;36m329\u001b[0m, \u001b[1;36m330\u001b[0m, \u001b[1;36m331\u001b[0m, \u001b[1;36m332\u001b[0m, \u001b[1;36m333\u001b[0m, \u001b[1;36m334\u001b[0m, \u001b[1;36m335\u001b[0m,\n",
       "       \u001b[1;36m336\u001b[0m, \u001b[1;36m337\u001b[0m, \u001b[1;36m338\u001b[0m, \u001b[1;36m339\u001b[0m, \u001b[1;36m340\u001b[0m, \u001b[1;36m341\u001b[0m, \u001b[1;36m342\u001b[0m, \u001b[1;36m343\u001b[0m, \u001b[1;36m344\u001b[0m, \u001b[1;36m345\u001b[0m, \u001b[1;36m346\u001b[0m, \u001b[1;36m347\u001b[0m, \u001b[1;36m348\u001b[0m,\n",
       "       \u001b[1;36m349\u001b[0m, \u001b[1;36m350\u001b[0m, \u001b[1;36m351\u001b[0m, \u001b[1;36m352\u001b[0m, \u001b[1;36m353\u001b[0m, \u001b[1;36m354\u001b[0m, \u001b[1;36m355\u001b[0m, \u001b[1;36m356\u001b[0m, \u001b[1;36m357\u001b[0m, \u001b[1;36m358\u001b[0m, \u001b[1;36m359\u001b[0m, \u001b[1;36m360\u001b[0m, \u001b[1;36m361\u001b[0m,\n",
       "       \u001b[1;36m362\u001b[0m, \u001b[1;36m363\u001b[0m, \u001b[1;36m364\u001b[0m, \u001b[1;36m365\u001b[0m, \u001b[1;36m366\u001b[0m, \u001b[1;36m367\u001b[0m, \u001b[1;36m368\u001b[0m, \u001b[1;36m369\u001b[0m, \u001b[1;36m370\u001b[0m, \u001b[1;36m371\u001b[0m, \u001b[1;36m372\u001b[0m, \u001b[1;36m373\u001b[0m, \u001b[1;36m374\u001b[0m,\n",
       "       \u001b[1;36m375\u001b[0m, \u001b[1;36m376\u001b[0m, \u001b[1;36m377\u001b[0m, \u001b[1;36m378\u001b[0m, \u001b[1;36m379\u001b[0m, \u001b[1;36m380\u001b[0m, \u001b[1;36m381\u001b[0m, \u001b[1;36m382\u001b[0m, \u001b[1;36m383\u001b[0m, \u001b[1;36m384\u001b[0m, \u001b[1;36m385\u001b[0m, \u001b[1;36m386\u001b[0m, \u001b[1;36m387\u001b[0m,\n",
       "       \u001b[1;36m388\u001b[0m, \u001b[1;36m389\u001b[0m, \u001b[1;36m390\u001b[0m, \u001b[1;36m391\u001b[0m, \u001b[1;36m392\u001b[0m, \u001b[1;36m393\u001b[0m, \u001b[1;36m394\u001b[0m, \u001b[1;36m395\u001b[0m, \u001b[1;36m396\u001b[0m, \u001b[1;36m397\u001b[0m, \u001b[1;36m398\u001b[0m, \u001b[1;36m399\u001b[0m, \u001b[1;36m400\u001b[0m,\n",
       "       \u001b[1;36m401\u001b[0m, \u001b[1;36m402\u001b[0m, \u001b[1;36m403\u001b[0m, \u001b[1;36m404\u001b[0m, \u001b[1;36m405\u001b[0m, \u001b[1;36m406\u001b[0m, \u001b[1;36m407\u001b[0m, \u001b[1;36m408\u001b[0m, \u001b[1;36m409\u001b[0m, \u001b[1;36m410\u001b[0m, \u001b[1;36m411\u001b[0m, \u001b[1;36m412\u001b[0m, \u001b[1;36m413\u001b[0m,\n",
       "       \u001b[1;36m414\u001b[0m, \u001b[1;36m415\u001b[0m, \u001b[1;36m416\u001b[0m, \u001b[1;36m417\u001b[0m, \u001b[1;36m418\u001b[0m, \u001b[1;36m419\u001b[0m, \u001b[1;36m420\u001b[0m, \u001b[1;36m421\u001b[0m, \u001b[1;36m422\u001b[0m, \u001b[1;36m423\u001b[0m, \u001b[1;36m424\u001b[0m, \u001b[1;36m425\u001b[0m, \u001b[1;36m426\u001b[0m,\n",
       "       \u001b[1;36m427\u001b[0m, \u001b[1;36m428\u001b[0m, \u001b[1;36m429\u001b[0m, \u001b[1;36m430\u001b[0m, \u001b[1;36m431\u001b[0m, \u001b[1;36m432\u001b[0m, \u001b[1;36m433\u001b[0m, \u001b[1;36m434\u001b[0m, \u001b[1;36m435\u001b[0m, \u001b[1;36m436\u001b[0m, \u001b[1;36m437\u001b[0m, \u001b[1;36m438\u001b[0m, \u001b[1;36m439\u001b[0m,\n",
       "       \u001b[1;36m440\u001b[0m, \u001b[1;36m441\u001b[0m, \u001b[1;36m442\u001b[0m, \u001b[1;36m443\u001b[0m, \u001b[1;36m444\u001b[0m, \u001b[1;36m445\u001b[0m, \u001b[1;36m446\u001b[0m, \u001b[1;36m447\u001b[0m, \u001b[1;36m448\u001b[0m, \u001b[1;36m449\u001b[0m, \u001b[1;36m450\u001b[0m, \u001b[1;36m451\u001b[0m, \u001b[1;36m452\u001b[0m,\n",
       "       \u001b[1;36m453\u001b[0m, \u001b[1;36m454\u001b[0m, \u001b[1;36m455\u001b[0m, \u001b[1;36m456\u001b[0m, \u001b[1;36m457\u001b[0m, \u001b[1;36m458\u001b[0m, \u001b[1;36m459\u001b[0m, \u001b[1;36m460\u001b[0m, \u001b[1;36m461\u001b[0m, \u001b[1;36m462\u001b[0m, \u001b[1;36m463\u001b[0m, \u001b[1;36m464\u001b[0m, \u001b[1;36m465\u001b[0m,\n",
       "       \u001b[1;36m466\u001b[0m, \u001b[1;36m467\u001b[0m, \u001b[1;36m468\u001b[0m, \u001b[1;36m469\u001b[0m, \u001b[1;36m470\u001b[0m, \u001b[1;36m471\u001b[0m, \u001b[1;36m472\u001b[0m, \u001b[1;36m473\u001b[0m, \u001b[1;36m474\u001b[0m, \u001b[1;36m475\u001b[0m, \u001b[1;36m476\u001b[0m, \u001b[1;36m477\u001b[0m, \u001b[1;36m478\u001b[0m,\n",
       "       \u001b[1;36m479\u001b[0m, \u001b[1;36m480\u001b[0m, \u001b[1;36m481\u001b[0m, \u001b[1;36m482\u001b[0m, \u001b[1;36m483\u001b[0m, \u001b[1;36m484\u001b[0m, \u001b[1;36m485\u001b[0m, \u001b[1;36m486\u001b[0m, \u001b[1;36m487\u001b[0m, \u001b[1;36m488\u001b[0m, \u001b[1;36m489\u001b[0m, \u001b[1;36m490\u001b[0m, \u001b[1;36m491\u001b[0m,\n",
       "       \u001b[1;36m492\u001b[0m, \u001b[1;36m493\u001b[0m, \u001b[1;36m494\u001b[0m, \u001b[1;36m495\u001b[0m, \u001b[1;36m496\u001b[0m, \u001b[1;36m497\u001b[0m, \u001b[1;36m498\u001b[0m, \u001b[1;36m499\u001b[0m, \u001b[1;36m500\u001b[0m, \u001b[1;36m501\u001b[0m, \u001b[1;36m502\u001b[0m, \u001b[1;36m503\u001b[0m, \u001b[1;36m504\u001b[0m,\n",
       "       \u001b[1;36m505\u001b[0m, \u001b[1;36m506\u001b[0m, \u001b[1;36m507\u001b[0m, \u001b[1;36m508\u001b[0m, \u001b[1;36m509\u001b[0m, \u001b[1;36m510\u001b[0m, \u001b[1;36m511\u001b[0m, \u001b[1;36m512\u001b[0m, \u001b[1;36m513\u001b[0m, \u001b[1;36m514\u001b[0m, \u001b[1;36m515\u001b[0m, \u001b[1;36m516\u001b[0m, \u001b[1;36m517\u001b[0m,\n",
       "       \u001b[1;36m518\u001b[0m, \u001b[1;36m519\u001b[0m, \u001b[1;36m521\u001b[0m, \u001b[1;36m522\u001b[0m, \u001b[1;36m523\u001b[0m, \u001b[1;36m524\u001b[0m, \u001b[1;36m525\u001b[0m, \u001b[1;36m526\u001b[0m, \u001b[1;36m527\u001b[0m, \u001b[1;36m528\u001b[0m, \u001b[1;36m529\u001b[0m, \u001b[1;36m530\u001b[0m, \u001b[1;36m531\u001b[0m,\n",
       "       \u001b[1;36m533\u001b[0m, \u001b[1;36m534\u001b[0m, \u001b[1;36m535\u001b[0m, \u001b[1;36m536\u001b[0m, \u001b[1;36m537\u001b[0m, \u001b[1;36m538\u001b[0m, \u001b[1;36m539\u001b[0m, \u001b[1;36m540\u001b[0m, \u001b[1;36m541\u001b[0m\u001b[1m]\u001b[0m\u001b[1m)\u001b[0m\n"
      ]
     },
     "metadata": {},
     "output_type": "display_data"
    }
   ],
   "source": [
    "good"
   ]
  },
  {
   "cell_type": "code",
   "execution_count": null,
   "id": "4b92c712",
   "metadata": {},
   "outputs": [],
   "source": []
  },
  {
   "cell_type": "code",
   "execution_count": null,
   "id": "5aacd6ce",
   "metadata": {},
   "outputs": [],
   "source": []
  },
  {
   "cell_type": "code",
   "execution_count": null,
   "id": "b523d347",
   "metadata": {},
   "outputs": [],
   "source": []
  },
  {
   "cell_type": "code",
   "execution_count": null,
   "id": "29d62747",
   "metadata": {},
   "outputs": [],
   "source": []
  },
  {
   "cell_type": "code",
   "execution_count": null,
   "id": "e757bc13",
   "metadata": {},
   "outputs": [],
   "source": []
  },
  {
   "cell_type": "code",
   "execution_count": null,
   "id": "703e8584",
   "metadata": {},
   "outputs": [],
   "source": []
  },
  {
   "cell_type": "code",
   "execution_count": null,
   "id": "75964af2",
   "metadata": {},
   "outputs": [],
   "source": []
  },
  {
   "cell_type": "code",
   "execution_count": null,
   "id": "5fc8785a",
   "metadata": {},
   "outputs": [],
   "source": []
  },
  {
   "cell_type": "code",
   "execution_count": null,
   "id": "23ae8aa7",
   "metadata": {},
   "outputs": [],
   "source": []
  },
  {
   "cell_type": "code",
   "execution_count": null,
   "id": "a177e175",
   "metadata": {},
   "outputs": [],
   "source": []
  },
  {
   "cell_type": "code",
   "execution_count": null,
   "id": "28421f00",
   "metadata": {},
   "outputs": [],
   "source": []
  },
  {
   "cell_type": "code",
   "execution_count": null,
   "id": "8d39cf25",
   "metadata": {},
   "outputs": [],
   "source": []
  },
  {
   "cell_type": "code",
   "execution_count": null,
   "id": "c0a32806",
   "metadata": {},
   "outputs": [],
   "source": []
  },
  {
   "cell_type": "code",
   "execution_count": null,
   "id": "e3e7df0c",
   "metadata": {},
   "outputs": [],
   "source": []
  },
  {
   "cell_type": "code",
   "execution_count": null,
   "id": "2362b091",
   "metadata": {},
   "outputs": [],
   "source": []
  }
 ],
 "metadata": {
  "kernelspec": {
   "display_name": "Python 3",
   "language": "python",
   "name": "python3"
  },
  "language_info": {
   "codemirror_mode": {
    "name": "ipython",
    "version": 3
   },
   "file_extension": ".py",
   "mimetype": "text/x-python",
   "name": "python",
   "nbconvert_exporter": "python",
   "pygments_lexer": "ipython3",
   "version": "3.8.3"
  }
 },
 "nbformat": 4,
 "nbformat_minor": 5
}
