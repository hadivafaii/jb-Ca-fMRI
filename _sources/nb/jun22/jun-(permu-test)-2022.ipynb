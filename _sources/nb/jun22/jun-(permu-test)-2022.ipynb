{
 "cells": [
  {
   "cell_type": "markdown",
   "id": "a9736f88",
   "metadata": {},
   "source": [
    "# Jun ??th, 2022 (permutation test)\n",
    "\n",
    "**Motivation**:   <br>"
   ]
  },
  {
   "cell_type": "code",
   "execution_count": 3,
   "id": "5360bb70",
   "metadata": {
    "tags": [
     "hide-input"
    ]
   },
   "outputs": [],
   "source": [
    "# HIDE CODE\n",
    "\n",
    "\n",
    "import os\n",
    "import sys\n",
    "from pprint import pprint\n",
    "from copy import deepcopy as dc\n",
    "from os.path import join as pjoin\n",
    "from scipy.ndimage import gaussian_filter\n",
    "from IPython.display import display, IFrame, HTML\n",
    "\n",
    "# tmp & extras dir\n",
    "git_dir = pjoin(os.environ['HOME'], 'Dropbox/git')\n",
    "extras_dir = pjoin(git_dir, 'jb-Ca-fMRI/_extras')\n",
    "fig_base_dir = pjoin(git_dir, 'jb-Ca-fMRI/figs')\n",
    "tmp_dir = pjoin(git_dir, 'jb-Ca-fMRI/tmp')\n",
    "\n",
    "# GitHub\n",
    "sys.path.insert(0, pjoin(git_dir, '_Ca-fMRI'))\n",
    "from model.configuration import Config\n",
    "from model.mouse import Mice\n",
    "from analysis.group import *\n",
    "from utils.render import *\n",
    "\n",
    "# warnings, tqdm, & style\n",
    "warnings.filterwarnings('ignore', category=DeprecationWarning)\n",
    "from tqdm.notebook import tqdm\n",
    "%matplotlib inline\n",
    "set_style()"
   ]
  },
  {
   "cell_type": "code",
   "execution_count": 2,
   "id": "4cf0ae4a",
   "metadata": {
    "tags": [
     "hide-input"
    ]
   },
   "outputs": [],
   "source": [
    "def quick_show(\n",
    "    data,\n",
    "    vmin=0.1,\n",
    "    vmax=None,\n",
    "    figsize=None,\n",
    "    cmap='magma',\n",
    "    ylabel_fontsize=11.5,\n",
    "    show: bool = True, ):\n",
    "    num = max(len(tr['proj-top']) for tr in data.values())\n",
    "    figsize = figsize if figsize else (13.5, 1.6 * len(data))\n",
    "    fig, axes = create_figure(\n",
    "        nrows=len(data),\n",
    "        ncols=num,\n",
    "        figsize=figsize,\n",
    "        tight_layout=False,\n",
    "        constrained_layout=False,\n",
    "        reshape=True,\n",
    "    )\n",
    "    for i, (lbl, tr) in enumerate(data.items()):\n",
    "        for j in range(num):\n",
    "            ax = axes[i, j]\n",
    "            if j >= len(tr['proj-top']):\n",
    "                ax.remove()\n",
    "            else:\n",
    "                ax.imshow(mwh(tr['top'] == 0, tr['top']), cmap='Greys_r')\n",
    "                if np.nanmax(tr['proj-top'][j]) > 1:\n",
    "                    _cmap = get_cluster_cmap(range(len(tr['proj-top']) - 1))\n",
    "                    _vmax = None\n",
    "                else:\n",
    "                    _cmap = cmap\n",
    "                    _vmax = vmax\n",
    "                ax.imshow(\n",
    "                    mwh(tr['proj-top'][j] < vmin, tr['proj-top'][j]),\n",
    "                    cmap=_cmap, vmin=vmin, vmax=_vmax,\n",
    "                )\n",
    "                if j == 0:\n",
    "                    ax.set_ylabel(lbl, fontsize=ylabel_fontsize)\n",
    "    remove_ticks(axes)\n",
    "    if show:\n",
    "        plt.show()\n",
    "    else:\n",
    "        plt.close()\n",
    "    return fig, axes\n"
   ]
  },
  {
   "cell_type": "code",
   "execution_count": null,
   "id": "ffbcde34",
   "metadata": {},
   "outputs": [],
   "source": []
  },
  {
   "cell_type": "code",
   "execution_count": 3,
   "id": "3ba3b954",
   "metadata": {},
   "outputs": [],
   "source": [
    "rv1 = sp_stats.norm(0.15, 1)\n",
    "rv2 = sp_stats.norm(-0.15, 1)"
   ]
  },
  {
   "cell_type": "code",
   "execution_count": 4,
   "id": "e8ab7247",
   "metadata": {},
   "outputs": [
    {
     "data": {
      "text/html": [
       "<pre style=\"white-space:pre;overflow-x:auto;line-height:normal;font-family:Menlo,'DejaVu Sans Mono',consolas,'Courier New',monospace\"><span style=\"font-weight: bold\">[&lt;</span><span style=\"color: #ff00ff; text-decoration-color: #ff00ff; font-weight: bold\">matplotlib.lines.Line2D</span><span style=\"color: #000000; text-decoration-color: #000000\"> object at </span><span style=\"color: #008080; text-decoration-color: #008080; font-weight: bold\">0x7fe4b5624970</span><span style=\"font-weight: bold\">&gt;]</span>\n",
       "</pre>\n"
      ],
      "text/plain": [
       "\u001b[1m[\u001b[0m\u001b[1m<\u001b[0m\u001b[1;95mmatplotlib.lines.Line2D\u001b[0m\u001b[39m object at \u001b[0m\u001b[1;36m0x7fe4b5624970\u001b[0m\u001b[1m>\u001b[0m\u001b[1m]\u001b[0m\n"
      ]
     },
     "metadata": {},
     "output_type": "display_data"
    },
    {
     "data": {
      "image/png": "[encoded data removed]"
     },
     "metadata": {},
     "output_type": "display_data"
    }
   ],
   "source": [
    "set_style()\n",
    "x = np.linspace(-7,7,100)\n",
    "plt.plot(x, rv1.pdf(x))\n",
    "plt.plot(x, rv2.pdf(x))"
   ]
  },
  {
   "cell_type": "code",
   "execution_count": 5,
   "id": "d52ef746",
   "metadata": {},
   "outputs": [
    {
     "data": {
      "text/html": [
       "<pre style=\"white-space:pre;overflow-x:auto;line-height:normal;font-family:Menlo,'DejaVu Sans Mono',consolas,'Courier New',monospace\"><span style=\"font-weight: bold\">&lt;</span><span style=\"color: #ff00ff; text-decoration-color: #ff00ff; font-weight: bold\">AxesSubplot:</span><span style=\"color: #808000; text-decoration-color: #808000; font-weight: bold\">ylabel</span><span style=\"color: #000000; text-decoration-color: #000000\">=</span><span style=\"color: #008000; text-decoration-color: #008000\">'Count'</span><span style=\"font-weight: bold\">&gt;</span>\n",
       "</pre>\n"
      ],
      "text/plain": [
       "\u001b[1m<\u001b[0m\u001b[1;95mAxesSubplot:\u001b[0m\u001b[1;33mylabel\u001b[0m\u001b[39m=\u001b[0m\u001b[32m'Count'\u001b[0m\u001b[1m>\u001b[0m\n"
      ]
     },
     "metadata": {},
     "output_type": "display_data"
    },
    {
     "data": {
      "image/png": "[encoded data removed]"
     },
     "metadata": {},
     "output_type": "display_data"
    }
   ],
   "source": [
    "y1 = rv1.rvs(120)\n",
    "y2 = rv2.rvs(120)\n",
    "\n",
    "sns.histplot(y1, bins=30, color='C0')\n",
    "sns.histplot(y2, bins=30, color='C1')"
   ]
  },
  {
   "cell_type": "code",
   "execution_count": null,
   "id": "4e4089fb",
   "metadata": {},
   "outputs": [],
   "source": []
  },
  {
   "cell_type": "code",
   "execution_count": 6,
   "id": "3a96ae57",
   "metadata": {},
   "outputs": [],
   "source": [
    "def statistic1(a, b):\n",
    "    return bn.nanmean(a) - bn.nanmean(b)\n",
    "\n",
    "def statistic2(a, b):\n",
    "    return bn.nanmean(a - b)"
   ]
  },
  {
   "cell_type": "code",
   "execution_count": null,
   "id": "9ef42a77",
   "metadata": {},
   "outputs": [],
   "source": []
  },
  {
   "cell_type": "code",
   "execution_count": 7,
   "id": "a905119e",
   "metadata": {},
   "outputs": [
    {
     "data": {
      "text/html": [
       "<pre style=\"white-space:pre;overflow-x:auto;line-height:normal;font-family:Menlo,'DejaVu Sans Mono',consolas,'Courier New',monospace\"><span style=\"color: #800080; text-decoration-color: #800080; font-weight: bold\">PermutationTestResult</span><span style=\"font-weight: bold\">(</span>\n",
       "    <span style=\"color: #808000; text-decoration-color: #808000\">statistic</span>=<span style=\"color: #008080; text-decoration-color: #008080; font-weight: bold\">0.27666943733718286</span>,\n",
       "    <span style=\"color: #808000; text-decoration-color: #808000\">pvalue</span>=<span style=\"color: #008080; text-decoration-color: #008080; font-weight: bold\">0.0398</span>,\n",
       "    <span style=\"color: #808000; text-decoration-color: #808000\">null_distribution</span>=<span style=\"color: #800080; text-decoration-color: #800080; font-weight: bold\">array</span><span style=\"font-weight: bold\">([</span> <span style=\"color: #008080; text-decoration-color: #008080; font-weight: bold\">0.05084784</span>, <span style=\"color: #008080; text-decoration-color: #008080; font-weight: bold\">-0.14348988</span>, <span style=\"color: #008080; text-decoration-color: #008080; font-weight: bold\">-0.05023408</span>, <span style=\"color: #808000; text-decoration-color: #808000\">...</span>,  <span style=\"color: #008080; text-decoration-color: #008080; font-weight: bold\">0.0314059</span> ,\n",
       "       <span style=\"color: #008080; text-decoration-color: #008080; font-weight: bold\">-0.01904414</span>, <span style=\"color: #008080; text-decoration-color: #008080; font-weight: bold\">-0.15284994</span><span style=\"font-weight: bold\">])</span>\n",
       "<span style=\"font-weight: bold\">)</span>\n",
       "</pre>\n"
      ],
      "text/plain": [
       "\u001b[1;35mPermutationTestResult\u001b[0m\u001b[1m(\u001b[0m\n",
       "    \u001b[33mstatistic\u001b[0m=\u001b[1;36m0\u001b[0m\u001b[1;36m.27666943733718286\u001b[0m,\n",
       "    \u001b[33mpvalue\u001b[0m=\u001b[1;36m0\u001b[0m\u001b[1;36m.0398\u001b[0m,\n",
       "    \u001b[33mnull_distribution\u001b[0m=\u001b[1;35marray\u001b[0m\u001b[1m(\u001b[0m\u001b[1m[\u001b[0m \u001b[1;36m0.05084784\u001b[0m, \u001b[1;36m-0.14348988\u001b[0m, \u001b[1;36m-0.05023408\u001b[0m, \u001b[33m...\u001b[0m,  \u001b[1;36m0.0314059\u001b[0m ,\n",
       "       \u001b[1;36m-0.01904414\u001b[0m, \u001b[1;36m-0.15284994\u001b[0m\u001b[1m]\u001b[0m\u001b[1m)\u001b[0m\n",
       "\u001b[1m)\u001b[0m\n"
      ]
     },
     "metadata": {},
     "output_type": "display_data"
    }
   ],
   "source": [
    "test1 = sp_stats.permutation_test(\n",
    "    data=(y1, y2),\n",
    "    statistic=statistic1,\n",
    "    permutation_type='samples',\n",
    "    alternative='two-sided',\n",
    ")\n",
    "test1"
   ]
  },
  {
   "cell_type": "code",
   "execution_count": 8,
   "id": "aca9e2c3",
   "metadata": {},
   "outputs": [
    {
     "data": {
      "text/html": [
       "<pre style=\"white-space:pre;overflow-x:auto;line-height:normal;font-family:Menlo,'DejaVu Sans Mono',consolas,'Courier New',monospace\"><span style=\"color: #800080; text-decoration-color: #800080; font-weight: bold\">PermutationTestResult</span><span style=\"font-weight: bold\">(</span>\n",
       "    <span style=\"color: #808000; text-decoration-color: #808000\">statistic</span>=<span style=\"color: #008080; text-decoration-color: #008080; font-weight: bold\">0.276669437337183</span>,\n",
       "    <span style=\"color: #808000; text-decoration-color: #808000\">pvalue</span>=<span style=\"color: #008080; text-decoration-color: #008080; font-weight: bold\">0.036</span>,\n",
       "    <span style=\"color: #808000; text-decoration-color: #808000\">null_distribution</span>=<span style=\"color: #800080; text-decoration-color: #800080; font-weight: bold\">array</span><span style=\"font-weight: bold\">([</span><span style=\"color: #008080; text-decoration-color: #008080; font-weight: bold\">-0.01190713</span>, <span style=\"color: #008080; text-decoration-color: #008080; font-weight: bold\">-0.15776312</span>, <span style=\"color: #008080; text-decoration-color: #008080; font-weight: bold\">-0.17147884</span>, <span style=\"color: #808000; text-decoration-color: #808000\">...</span>, <span style=\"color: #008080; text-decoration-color: #008080; font-weight: bold\">-0.00684504</span>,\n",
       "       <span style=\"color: #008080; text-decoration-color: #008080; font-weight: bold\">-0.01586471</span>,  <span style=\"color: #008080; text-decoration-color: #008080; font-weight: bold\">0.0861339</span> <span style=\"font-weight: bold\">])</span>\n",
       "<span style=\"font-weight: bold\">)</span>\n",
       "</pre>\n"
      ],
      "text/plain": [
       "\u001b[1;35mPermutationTestResult\u001b[0m\u001b[1m(\u001b[0m\n",
       "    \u001b[33mstatistic\u001b[0m=\u001b[1;36m0\u001b[0m\u001b[1;36m.276669437337183\u001b[0m,\n",
       "    \u001b[33mpvalue\u001b[0m=\u001b[1;36m0\u001b[0m\u001b[1;36m.036\u001b[0m,\n",
       "    \u001b[33mnull_distribution\u001b[0m=\u001b[1;35marray\u001b[0m\u001b[1m(\u001b[0m\u001b[1m[\u001b[0m\u001b[1;36m-0.01190713\u001b[0m, \u001b[1;36m-0.15776312\u001b[0m, \u001b[1;36m-0.17147884\u001b[0m, \u001b[33m...\u001b[0m, \u001b[1;36m-0.00684504\u001b[0m,\n",
       "       \u001b[1;36m-0.01586471\u001b[0m,  \u001b[1;36m0.0861339\u001b[0m \u001b[1m]\u001b[0m\u001b[1m)\u001b[0m\n",
       "\u001b[1m)\u001b[0m\n"
      ]
     },
     "metadata": {},
     "output_type": "display_data"
    }
   ],
   "source": [
    "test2 = sp_stats.permutation_test(\n",
    "    data=(y1, y2),\n",
    "    statistic=statistic2,\n",
    "    permutation_type='samples',\n",
    "    alternative='two-sided',\n",
    ")\n",
    "test2"
   ]
  },
  {
   "cell_type": "code",
   "execution_count": null,
   "id": "7c059757",
   "metadata": {},
   "outputs": [],
   "source": []
  },
  {
   "cell_type": "code",
   "execution_count": 9,
   "id": "cc59ba47",
   "metadata": {},
   "outputs": [
    {
     "data": {
      "text/html": [
       "<pre style=\"white-space:pre;overflow-x:auto;line-height:normal;font-family:Menlo,'DejaVu Sans Mono',consolas,'Courier New',monospace\"><span style=\"font-weight: bold\">&lt;</span><span style=\"color: #ff00ff; text-decoration-color: #ff00ff; font-weight: bold\">matplotlib.lines.Line2D</span><span style=\"color: #000000; text-decoration-color: #000000\"> object at </span><span style=\"color: #008080; text-decoration-color: #008080; font-weight: bold\">0x7fe563d89130</span><span style=\"font-weight: bold\">&gt;</span>\n",
       "</pre>\n"
      ],
      "text/plain": [
       "\u001b[1m<\u001b[0m\u001b[1;95mmatplotlib.lines.Line2D\u001b[0m\u001b[39m object at \u001b[0m\u001b[1;36m0x7fe563d89130\u001b[0m\u001b[1m>\u001b[0m\n"
      ]
     },
     "metadata": {},
     "output_type": "display_data"
    },
    {
     "data": {
      "image/png": "[encoded data removed]"
     },
     "metadata": {},
     "output_type": "display_data"
    }
   ],
   "source": [
    "sns.histplot(test2.null_distribution, kde=True)\n",
    "plt.axvline(test2.statistic, color='r', ls='-', lw=1.2)"
   ]
  },
  {
   "cell_type": "code",
   "execution_count": null,
   "id": "e5ee8ac9",
   "metadata": {},
   "outputs": [],
   "source": []
  },
  {
   "cell_type": "code",
   "execution_count": null,
   "id": "9e7ec861",
   "metadata": {},
   "outputs": [],
   "source": []
  },
  {
   "cell_type": "code",
   "execution_count": 10,
   "id": "44ed9591",
   "metadata": {},
   "outputs": [
    {
     "name": "stdout",
     "output_type": "stream",
     "text": [
      "\n",
      "INSTALLED VERSIONS\n",
      "------------------\n",
      "commit           : 4bfe3d07b4858144c219b9346329027024102ab6\n",
      "python           : 3.8.3.final.0\n",
      "python-bits      : 64\n",
      "OS               : Linux\n",
      "OS-release       : 5.13.0-44-generic\n",
      "Version          : #49~20.04.1-Ubuntu SMP Wed May 18 18:44:28 UTC 2022\n",
      "machine          : x86_64\n",
      "processor        : x86_64\n",
      "byteorder        : little\n",
      "LC_ALL           : None\n",
      "LANG             : en_US.UTF-8\n",
      "LOCALE           : en_US.UTF-8\n",
      "\n",
      "pandas           : 1.4.2\n",
      "numpy            : 1.20.3\n",
      "pytz             : 2021.3\n",
      "dateutil         : 2.8.2\n",
      "pip              : 21.2.4\n",
      "setuptools       : 61.2.0\n",
      "Cython           : 0.29.28\n",
      "pytest           : 7.1.1\n",
      "hypothesis       : None\n",
      "sphinx           : 4.4.0\n",
      "blosc            : None\n",
      "feather          : None\n",
      "xlsxwriter       : 3.0.3\n",
      "lxml.etree       : 4.8.0\n",
      "html5lib         : 1.1\n",
      "pymysql          : None\n",
      "psycopg2         : 2.8.6\n",
      "jinja2           : 3.0.3\n",
      "IPython          : 8.3.0\n",
      "pandas_datareader: None\n",
      "bs4              : 4.11.1\n",
      "bottleneck       : 1.3.2\n",
      "brotli           : \n",
      "fastparquet      : None\n",
      "fsspec           : 2022.3.0\n",
      "gcsfs            : None\n",
      "markupsafe       : 2.0.1\n",
      "matplotlib       : 3.3.4\n",
      "numba            : 0.53.1\n",
      "numexpr          : 2.8.1\n",
      "odfpy            : None\n",
      "openpyxl         : 3.0.9\n",
      "pandas_gbq       : None\n",
      "pyarrow          : None\n",
      "pyreadstat       : None\n",
      "pyxlsb           : None\n",
      "s3fs             : None\n",
      "scipy            : 1.8.1\n",
      "snappy           : None\n",
      "sqlalchemy       : 1.4.32\n",
      "tables           : 3.7.0\n",
      "tabulate         : None\n",
      "xarray           : 0.20.1\n",
      "xlrd             : 2.0.1\n",
      "xlwt             : 1.3.0\n",
      "zstandard        : 0.15.2\n"
     ]
    }
   ],
   "source": [
    "import pandas as pd\n",
    "pd.show_versions()"
   ]
  },
  {
   "cell_type": "code",
   "execution_count": null,
   "id": "727609d9",
   "metadata": {},
   "outputs": [],
   "source": []
  },
  {
   "cell_type": "code",
   "execution_count": null,
   "id": "cc0a97b8",
   "metadata": {},
   "outputs": [],
   "source": []
  },
  {
   "cell_type": "code",
   "execution_count": null,
   "id": "f5b8226d",
   "metadata": {},
   "outputs": [],
   "source": []
  }
 ],
 "metadata": {
  "kernelspec": {
   "display_name": "Python 3",
   "language": "python",
   "name": "python3"
  },
  "language_info": {
   "codemirror_mode": {
    "name": "ipython",
    "version": 3
   },
   "file_extension": ".py",
   "mimetype": "text/x-python",
   "name": "python",
   "nbconvert_exporter": "python",
   "pygments_lexer": "ipython3",
   "version": "3.8.3"
  }
 },
 "nbformat": 4,
 "nbformat_minor": 5
}
