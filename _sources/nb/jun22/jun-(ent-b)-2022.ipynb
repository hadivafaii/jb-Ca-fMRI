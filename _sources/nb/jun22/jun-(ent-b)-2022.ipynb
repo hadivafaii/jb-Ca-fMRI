{
 "cells": [
  {
   "cell_type": "markdown",
   "id": "a9736f88",
   "metadata": {},
   "source": [
    "# Jun ??th, 2022 (entropy: k=7,10,14)\n",
    "\n",
    "**Motivation**: <br>"
   ]
  },
  {
   "cell_type": "code",
   "execution_count": 1,
   "id": "5360bb70",
   "metadata": {
    "tags": [
     "hide-input"
    ]
   },
   "outputs": [],
   "source": [
    "# HIDE CODE\n",
    "\n",
    "\n",
    "import os\n",
    "import sys\n",
    "from pprint import pprint\n",
    "from copy import deepcopy as dc\n",
    "from os.path import join as pjoin\n",
    "from scipy.ndimage import gaussian_filter\n",
    "from IPython.display import display, IFrame, HTML\n",
    "\n",
    "# tmp & extras dir\n",
    "git_dir = pjoin(os.environ['HOME'], 'Dropbox/git')\n",
    "extras_dir = pjoin(git_dir, 'jb-Ca-fMRI/_extras')\n",
    "fig_base_dir = pjoin(git_dir, 'jb-Ca-fMRI/figs')\n",
    "tmp_dir = pjoin(git_dir, 'jb-Ca-fMRI/tmp')\n",
    "\n",
    "# GitHub\n",
    "sys.path.insert(0, pjoin(git_dir, '_Ca-fMRI'))\n",
    "from model.configuration import Config\n",
    "from model.mouse import Mice\n",
    "from analysis.network import *\n",
    "from analysis.group import *\n",
    "from utils.render import *\n",
    "\n",
    "# warnings, tqdm, & style\n",
    "warnings.filterwarnings('ignore', category=DeprecationWarning)\n",
    "from tqdm.notebook import tqdm\n",
    "%matplotlib inline\n",
    "set_style()"
   ]
  },
  {
   "cell_type": "markdown",
   "id": "644b50bb",
   "metadata": {},
   "source": [
    "## Prepare"
   ]
  },
  {
   "cell_type": "code",
   "execution_count": 2,
   "id": "e8866510",
   "metadata": {},
   "outputs": [],
   "source": [
    "mice = Mice(512)\n",
    "\n",
    "mako = sns.color_palette('mako', as_cmap=True)\n",
    "rocket = sns.color_palette('rocket', as_cmap=True)\n",
    "pal = {'ca2': mako(0.6), 'bold-lite': rocket(0.6)}"
   ]
  },
  {
   "cell_type": "code",
   "execution_count": 3,
   "id": "df0c72fa",
   "metadata": {},
   "outputs": [],
   "source": [
    "task = 'rest'\n",
    "b = (0.01, 0.5)\n",
    "mice.setup_func_data(task, band_ca=b)\n",
    "\n",
    "num_k, p = 7, 20\n",
    "perc = f'p{p}-sample'\n",
    "props_base = {\n",
    "    'kw_kmeans': {'n_init': 100},\n",
    "    'perc': perc,\n",
    "    'num_k': num_k,\n",
    "    'mice': mice,\n",
    "    'task': task,\n",
    "    'metric': 'pearson',\n",
    "    'match_using': 'gam',\n",
    "    'match_metric': 'euclidean',\n",
    "    'graph_type': 'real',\n",
    "    'verbose': False,\n",
    "}\n",
    "props_ca = {'mode': 'ca2', **props_base}\n",
    "props_bo = {'mode': 'bold-lite', **props_base}\n",
    "\n",
    "gr_ca = Group(**props_ca).fit_group()\n",
    "gr_bo = Group(**props_bo).fit_group()"
   ]
  },
  {
   "cell_type": "code",
   "execution_count": null,
   "id": "9408604a",
   "metadata": {},
   "outputs": [],
   "source": []
  },
  {
   "cell_type": "markdown",
   "id": "0aa3d493",
   "metadata": {},
   "source": [
    "### Ca2 (fast)"
   ]
  },
  {
   "cell_type": "code",
   "execution_count": null,
   "id": "1ef8e53f",
   "metadata": {},
   "outputs": [],
   "source": [
    "%%time\n",
    "\n",
    "b = 0.5\n",
    "mice.setup_func_data(task, band_ca=b)\n",
    "\n",
    "pi_caf_avg = {}\n",
    "\n",
    "try:\n",
    "    f = f\"pi-pr-dict_n{mice.cfg.nn}_ca2-fast.npy\"\n",
    "    pi_caf_pr = np.load(pjoin(tmp_dir, f), allow_pickle=True).item()\n",
    "    for kk in [7, 10, 14]:\n",
    "        lbl = f'ca2-k{kk}(pr95)\\nb={b}'.replace(' ', '')\n",
    "        pi_caf_avg[lbl] = avg(pi_caf_pr.get(kk))\n",
    "        \n",
    "except FileNotFoundError:\n",
    "    pi_caf_raw = {}\n",
    "    pi_caf_pr = {}\n",
    "    for kk in [7, 10, 14]:\n",
    "        props_ca['num_k'] = kk\n",
    "        gr_ca = Group(**props_ca).fit_group()\n",
    "        pi_caf_raw[kk] = gr_ca.run_pi\n",
    "\n",
    "        pi = gr_ca.prune(thres=0.003, ci=0.95)['pi_prune']\n",
    "        pi_caf_pr[kk] = pi\n",
    "\n",
    "        lbl = f'ca2-k{kk}(pr95)\\nb={b}'.replace(' ', '')\n",
    "        pi_caf_avg[lbl] = avg(pi)\n",
    "    \n",
    "    save_obj(\n",
    "        obj=pi_caf_pr,\n",
    "        file_name=f\"pi-pr-dict_n{mice.cfg.nn}_ca2-fast\",\n",
    "        save_dir=tmp_dir,\n",
    "        mode='npy',\n",
    "    )\n",
    "\n",
    "\n",
    "# sort\n",
    "d2p = pi_caf_avg.copy()\n",
    "for i in range(len(pi_caf_avg)):\n",
    "    lbl, x = list(pi_caf_avg.items())[i]\n",
    "    if i == 0:\n",
    "        continue\n",
    "    src = list(d2p.values())[i - 1]\n",
    "    gmap = find_best_mappings(\n",
    "        centroids=src,\n",
    "        data={0: x},\n",
    "        match_metric='cosine',\n",
    "        global_order='infer',\n",
    "    )[0]\n",
    "    ids = list(gmap.values())\n",
    "    ids = ids + list(np.delete(range(len(x)), ids))\n",
    "    d2p[lbl] = x[ids]"
   ]
  },
  {
   "cell_type": "code",
   "execution_count": null,
   "id": "a93768b5",
   "metadata": {
    "scrolled": true
   },
   "outputs": [],
   "source": [
    "_ = gr_ca.show(d2p, figsize=(30, 5))"
   ]
  },
  {
   "cell_type": "code",
   "execution_count": null,
   "id": "daa4aa97",
   "metadata": {},
   "outputs": [],
   "source": []
  },
  {
   "cell_type": "code",
   "execution_count": null,
   "id": "d497c522",
   "metadata": {},
   "outputs": [],
   "source": [
    "h_ca_all = []\n",
    "for kk, x in pi_caf_pr.items():\n",
    "    h = sp_stats.entropy(bn.nanmean(x, -3), axis=-2) / np.log(x.shape[-2])\n",
    "    h_ca_all.append(np.expand_dims(h, 0))\n",
    "h_ca_all = np.concatenate(h_ca_all)\n",
    "h_ca_avg = avg(h_ca_all, 1, 1)\n",
    "\n",
    "h_ca_all.shape, h_ca_avg.shape"
   ]
  },
  {
   "cell_type": "code",
   "execution_count": null,
   "id": "018b36c7",
   "metadata": {},
   "outputs": [],
   "source": [
    "np.nanmin(h_ca_avg), np.nanmax(h_ca_avg)"
   ]
  },
  {
   "cell_type": "code",
   "execution_count": null,
   "id": "bde76b92",
   "metadata": {},
   "outputs": [],
   "source": [
    "_ = gr_ca.show(\n",
    "    h_ca_avg,\n",
    "    vmin=np.nanmin(h_ca_avg),\n",
    "    vmax=np.nanmax(h_ca_avg),\n",
    "    figsize=(20, 4),\n",
    "    cmap='icefire',\n",
    ")"
   ]
  },
  {
   "cell_type": "code",
   "execution_count": null,
   "id": "858bb7f2",
   "metadata": {},
   "outputs": [],
   "source": []
  },
  {
   "cell_type": "code",
   "execution_count": null,
   "id": "8f99ad73",
   "metadata": {},
   "outputs": [],
   "source": []
  },
  {
   "cell_type": "markdown",
   "id": "dce2dbb5",
   "metadata": {},
   "source": [
    "### Ca2 (slow)"
   ]
  },
  {
   "cell_type": "code",
   "execution_count": null,
   "id": "07349826",
   "metadata": {},
   "outputs": [],
   "source": [
    "%%time\n",
    "\n",
    "b = (0.01, 0.5)\n",
    "mice.setup_func_data(task, band_ca=b)\n",
    "\n",
    "pi_ca_avg = {}\n",
    "\n",
    "try:\n",
    "    f = f\"pi-pr-dict_n{mice.cfg.nn}_ca2-slow.npy\"\n",
    "    pi_ca_pr = np.load(pjoin(tmp_dir, f), allow_pickle=True).item()\n",
    "    for kk in [7, 10, 14]:\n",
    "        lbl = f'ca2-k{kk}(pr95)\\nb={b}'.replace(' ', '')\n",
    "        pi_ca_avg[lbl] = avg(pi_ca_pr.get(kk))\n",
    "        \n",
    "except FileNotFoundError:\n",
    "    pi_ca_raw = {}\n",
    "    pi_ca_pr = {}\n",
    "    for kk in [7, 10, 14]:\n",
    "        props_ca['num_k'] = kk\n",
    "        gr_ca = Group(**props_ca).fit_group()\n",
    "        pi_ca_raw[kk] = gr_ca.run_pi\n",
    "\n",
    "        pi = gr_ca.prune(thres=0.003, ci=0.95)['pi_prune']\n",
    "        pi_ca_pr[kk] = pi\n",
    "\n",
    "        lbl = f'ca2-k{kk}(pr95)\\nb={b}'.replace(' ', '')\n",
    "        pi_ca_avg[lbl] = avg(pi)\n",
    "    \n",
    "    save_obj(\n",
    "        obj=pi_ca_pr,\n",
    "        file_name=f\"pi-pr-dict_n{mice.cfg.nn}_ca2\",\n",
    "        save_dir=tmp_dir,\n",
    "        mode='npy',\n",
    "    )\n",
    "\n",
    "\n",
    "# sort\n",
    "d2p = pi_ca_avg.copy()\n",
    "for i in range(len(pi_ca_avg)):\n",
    "    lbl, x = list(pi_ca_avg.items())[i]\n",
    "    if i == 0:\n",
    "        continue\n",
    "    src = list(d2p.values())[i - 1]\n",
    "    gmap = find_best_mappings(\n",
    "        centroids=src,\n",
    "        data={0: x},\n",
    "        match_metric='cosine',\n",
    "        global_order='infer',\n",
    "    )[0]\n",
    "    ids = list(gmap.values())\n",
    "    ids = ids + list(np.delete(range(len(x)), ids))\n",
    "    d2p[lbl] = x[ids]"
   ]
  },
  {
   "cell_type": "code",
   "execution_count": null,
   "id": "25943ba3",
   "metadata": {},
   "outputs": [],
   "source": []
  },
  {
   "cell_type": "code",
   "execution_count": null,
   "id": "ee187d15",
   "metadata": {},
   "outputs": [],
   "source": [
    "_ = gr_ca.show(d2p, figsize=(30, 5))"
   ]
  },
  {
   "cell_type": "code",
   "execution_count": null,
   "id": "5a3be121",
   "metadata": {},
   "outputs": [],
   "source": []
  },
  {
   "cell_type": "code",
   "execution_count": null,
   "id": "e7282f26",
   "metadata": {},
   "outputs": [],
   "source": [
    "h_ca_all = []\n",
    "for kk, x in pi_ca_pr.items():\n",
    "    h = sp_stats.entropy(bn.nanmean(x, -3), axis=-2) / np.log(x.shape[-2])\n",
    "    h_ca_all.append(np.expand_dims(h, 0))\n",
    "h_ca_all = np.concatenate(h_ca_all)\n",
    "h_ca_avg = avg(h_ca_all, 1, 1)\n",
    "\n",
    "h_ca_all.shape, h_ca_avg.shape"
   ]
  },
  {
   "cell_type": "code",
   "execution_count": null,
   "id": "571b0fd6",
   "metadata": {},
   "outputs": [],
   "source": [
    "np.nanmin(h_ca_avg), np.nanmax(h_ca_avg)"
   ]
  },
  {
   "cell_type": "code",
   "execution_count": null,
   "id": "59275d90",
   "metadata": {},
   "outputs": [],
   "source": [
    "_ = gr_ca.show(\n",
    "    h_ca_avg,\n",
    "    vmin=np.nanmin(h_ca_avg),\n",
    "    vmax=np.nanmax(h_ca_avg),\n",
    "    figsize=(20, 4),\n",
    "    cmap='icefire',\n",
    ")"
   ]
  },
  {
   "cell_type": "code",
   "execution_count": null,
   "id": "3e3272e2",
   "metadata": {},
   "outputs": [],
   "source": []
  },
  {
   "cell_type": "code",
   "execution_count": null,
   "id": "0013d5b8",
   "metadata": {},
   "outputs": [],
   "source": [
    "sim_h = dist2sim(sp_dist.squareform(sp_dist.pdist(\n",
    "    h_ca_avg, metric='correlation')))"
   ]
  },
  {
   "cell_type": "code",
   "execution_count": null,
   "id": "a59d3cf6",
   "metadata": {},
   "outputs": [],
   "source": [
    "sns.heatmap(\n",
    "    sim_h,\n",
    "    vmin=0.8,\n",
    "    vmax=1.0,\n",
    "    square=True,\n",
    "    annot=True,\n",
    "    fmt='.2g',\n",
    ")\n",
    "plt.show()"
   ]
  },
  {
   "cell_type": "code",
   "execution_count": null,
   "id": "1ef6d95e",
   "metadata": {},
   "outputs": [],
   "source": []
  },
  {
   "cell_type": "code",
   "execution_count": null,
   "id": "1dba4d0e",
   "metadata": {},
   "outputs": [],
   "source": []
  },
  {
   "cell_type": "markdown",
   "id": "53359f6d",
   "metadata": {},
   "source": [
    "### Bold"
   ]
  },
  {
   "cell_type": "code",
   "execution_count": null,
   "id": "15e80e84",
   "metadata": {},
   "outputs": [],
   "source": [
    "%%time\n",
    "\n",
    "pi_bo_avg = {}\n",
    "\n",
    "try:\n",
    "    f = f\"pi-pr-dict_n{mice.cfg.nn}_bold.npy\"\n",
    "    pi_bo_pr = np.load(pjoin(tmp_dir, f), allow_pickle=True).item()\n",
    "    for kk in [7, 10, 14]:\n",
    "        lbl = f'bo-k{kk}(pr95)\\nb={b}'.replace(' ', '')\n",
    "        pi_bo_avg[lbl] = avg(pi_bo_pr.get(kk))\n",
    "        \n",
    "except FileNotFoundError:\n",
    "    pi_bo_raw = {}\n",
    "    pi_bo_pr = {}\n",
    "    for kk in [7, 10, 14]:\n",
    "        props_bo['num_k'] = kk\n",
    "        gr_bo = Group(**props_bo).fit_group()\n",
    "        pi_bo_raw[kk] = gr_bo.run_pi\n",
    "\n",
    "        pi = gr_bo.prune(thres=0.003, ci=0.95)['pi_prune']\n",
    "        pi_bo_pr[kk] = pi\n",
    "\n",
    "        lbl = f'ca2-k{kk}(pr95)\\nb={b}'.replace(' ', '')\n",
    "        pi_bo_avg[lbl] = avg(pi)\n",
    "    \n",
    "    save_obj(\n",
    "        obj=pi_bo_pr,\n",
    "        file_name=f\"pi-pr-dict_n{mice.cfg.nn}_bold\",\n",
    "        save_dir=tmp_dir,\n",
    "        mode='npy',\n",
    "    )\n",
    "\n",
    "\n",
    "# sort\n",
    "d2p = pi_bo_avg.copy()\n",
    "for i in range(len(pi_bo_avg)):\n",
    "    lbl, x = list(pi_bo_avg.items())[i]\n",
    "    if i == 0:\n",
    "        continue\n",
    "    src = list(d2p.values())[i - 1]\n",
    "    gmap = find_best_mappings(\n",
    "        centroids=src,\n",
    "        data={0: x},\n",
    "        match_metric='cosine',\n",
    "        global_order='infer',\n",
    "    )[0]\n",
    "    ids = list(gmap.values())\n",
    "    ids = ids + list(np.delete(range(len(x)), ids))\n",
    "    d2p[lbl] = x[ids]"
   ]
  },
  {
   "cell_type": "code",
   "execution_count": null,
   "id": "92978556",
   "metadata": {},
   "outputs": [],
   "source": []
  },
  {
   "cell_type": "code",
   "execution_count": null,
   "id": "3b5a98ba",
   "metadata": {},
   "outputs": [],
   "source": [
    "_ = gr_bo.show(d2p, figsize=(28, 5))"
   ]
  },
  {
   "cell_type": "code",
   "execution_count": null,
   "id": "a7c17553",
   "metadata": {},
   "outputs": [],
   "source": []
  },
  {
   "cell_type": "code",
   "execution_count": null,
   "id": "db4b9eb7",
   "metadata": {},
   "outputs": [],
   "source": [
    "h_bo_all = []\n",
    "for kk, x in pi_bo_pr.items():\n",
    "    h = sp_stats.entropy(bn.nanmean(x, -3), axis=-2) / np.log(x.shape[-2])\n",
    "    h_bo_all.append(np.expand_dims(h, 0))\n",
    "h_bo_all = np.concatenate(h_bo_all)\n",
    "h_bo_avg = avg(h_bo_all, 1, 1)\n",
    "\n",
    "h_bo_all.shape, h_bo_avg.shape"
   ]
  },
  {
   "cell_type": "code",
   "execution_count": null,
   "id": "54c5f7aa",
   "metadata": {},
   "outputs": [],
   "source": [
    "np.nanmin(h_bo_avg), np.nanmax(h_bo_avg)"
   ]
  },
  {
   "cell_type": "code",
   "execution_count": null,
   "id": "d0d022af",
   "metadata": {},
   "outputs": [],
   "source": [
    "_ = gr_ca.show(\n",
    "    h_bo_avg,\n",
    "    vmin=np.nanmin(h_bo_avg),\n",
    "    vmax=np.nanmax(h_bo_avg),\n",
    "    figsize=(20, 4),\n",
    "    cmap='icefire',\n",
    ")"
   ]
  },
  {
   "cell_type": "code",
   "execution_count": null,
   "id": "f8836f9c",
   "metadata": {},
   "outputs": [],
   "source": []
  },
  {
   "cell_type": "code",
   "execution_count": null,
   "id": "9d992653",
   "metadata": {},
   "outputs": [],
   "source": [
    "sim_h = dist2sim(sp_dist.squareform(sp_dist.pdist(\n",
    "    h_bo_avg, metric='correlation')))"
   ]
  },
  {
   "cell_type": "code",
   "execution_count": null,
   "id": "f3a8f27d",
   "metadata": {},
   "outputs": [],
   "source": [
    "sns.heatmap(\n",
    "    sim_h,\n",
    "    vmin=0.8,\n",
    "    vmax=1.0,\n",
    "    square=True,\n",
    "    annot=True,\n",
    "    fmt='.2g',\n",
    ")\n",
    "plt.show()"
   ]
  },
  {
   "cell_type": "code",
   "execution_count": null,
   "id": "f870c2ee",
   "metadata": {},
   "outputs": [],
   "source": []
  },
  {
   "cell_type": "code",
   "execution_count": null,
   "id": "77473c0d",
   "metadata": {},
   "outputs": [],
   "source": []
  },
  {
   "cell_type": "markdown",
   "id": "5990df29",
   "metadata": {},
   "source": [
    "## Compare (run level)"
   ]
  },
  {
   "cell_type": "code",
   "execution_count": null,
   "id": "b14ad3cd",
   "metadata": {},
   "outputs": [],
   "source": [
    "kk = 7\n",
    "h1 = sp_stats.entropy(bn.nanmean(pi_bo_pr[kk], -3), axis=-2) / np.log(kk)\n",
    "h2 = sp_stats.entropy(bn.nanmean(pi_ca_pr[kk], -3), axis=-2) / np.log(kk)\n",
    "h3 = sp_stats.entropy(bn.nanmean(pi_caf_pr[kk], -3), axis=-2) / np.log(kk)\n",
    "\n",
    "sns.histplot(h1[np.isfinite(h1)], bins=np.linspace(0, 1, 101), color=pal['bold-lite'], label='Bold')\n",
    "sns.histplot(h2[np.isfinite(h2)], bins=np.linspace(0, 1, 101), color=pal['ca2'], label='Ca slow')\n",
    "sns.histplot(h3[np.isfinite(h3)], bins=np.linspace(0, 1, 101), color='C8', label='Ca fast')\n",
    "plt.legend()\n",
    "plt.show()"
   ]
  },
  {
   "cell_type": "code",
   "execution_count": null,
   "id": "fd116f07",
   "metadata": {},
   "outputs": [],
   "source": []
  },
  {
   "cell_type": "code",
   "execution_count": null,
   "id": "a642e0bc",
   "metadata": {},
   "outputs": [],
   "source": [
    "h1, h2, h3 = avg(h1, 1), avg(h2, 1), avg(h3, 1)\n",
    "vmin = min(np.nanmin(h1), np.nanmin(h2), np.nanmin(h3))\n",
    "vmax = min(np.nanmax(h1), np.nanmax(h2), np.nanmax(h3))\n",
    "_ = gr_ca.show([h1, h2, h3], vmin=vmin, vmax=vmax, cmap='icefire', add_disjoint=False)"
   ]
  },
  {
   "cell_type": "code",
   "execution_count": null,
   "id": "946d4453",
   "metadata": {},
   "outputs": [],
   "source": [
    "sns.histplot(h1[np.isfinite(h1)], bins=np.linspace(0, 1, 51), color=pal['bold-lite'], label='Bold')\n",
    "sns.histplot(h2[np.isfinite(h2)], bins=np.linspace(0, 1, 51), color=pal['ca2'], label='Ca slow')\n",
    "sns.histplot(h3[np.isfinite(h3)], bins=np.linspace(0, 1, 51), color='C8', label='Ca fast')\n",
    "plt.legend()\n",
    "plt.show()"
   ]
  },
  {
   "cell_type": "code",
   "execution_count": null,
   "id": "71822603",
   "metadata": {},
   "outputs": [],
   "source": [
    "hr1 = sp_stats.rankdata(h1)\n",
    "hr2 = sp_stats.rankdata(h2)\n",
    "hr3 = sp_stats.rankdata(h3)\n",
    "vmin = min(np.nanmin(hr1), np.nanmin(hr2), np.nanmin(hr3))\n",
    "vmax = min(np.nanmax(hr1), np.nanmax(hr2), np.nanmax(hr3))\n",
    "_ = gr_ca.show([hr1, hr2, hr3], vmin=vmin, vmax=vmax, cmap='icefire', add_disjoint=False)"
   ]
  },
  {
   "cell_type": "code",
   "execution_count": null,
   "id": "a2dbeb18",
   "metadata": {},
   "outputs": [],
   "source": [
    "plt.plot(h1, lw=2, color=pal['bold-lite'])\n",
    "plt.plot(h2, lw=2, color=pal['ca2'])\n",
    "plt.plot(h3, lw=2, color='C8')\n",
    "plt.show()"
   ]
  },
  {
   "cell_type": "code",
   "execution_count": null,
   "id": "da65eb76",
   "metadata": {},
   "outputs": [],
   "source": [
    "sp_stats.pearsonr(h1, h2)"
   ]
  },
  {
   "cell_type": "code",
   "execution_count": null,
   "id": "9ae935bd",
   "metadata": {},
   "outputs": [],
   "source": [
    "sp_stats.spearmanr(h1, h2)"
   ]
  },
  {
   "cell_type": "code",
   "execution_count": null,
   "id": "15d9094e",
   "metadata": {},
   "outputs": [],
   "source": [
    "sp_stats.pearsonr(hr1, hr2)"
   ]
  },
  {
   "cell_type": "code",
   "execution_count": null,
   "id": "90a0f768",
   "metadata": {},
   "outputs": [],
   "source": []
  },
  {
   "cell_type": "code",
   "execution_count": null,
   "id": "c0477ca9",
   "metadata": {},
   "outputs": [],
   "source": [
    "def corr(x, y, kind='spearman'):\n",
    "    good = np.logical_and(np.isfinite(x), np.isfinite(y))\n",
    "    if kind == 'spearman':\n",
    "        return sp_stats.spearmanr(x[good], y[good]).correlation\n",
    "    elif kind == 'pearson':\n",
    "        return sp_stats.pearsonr(x[good], y[good])[0]"
   ]
  },
  {
   "cell_type": "code",
   "execution_count": null,
   "id": "08930a56",
   "metadata": {},
   "outputs": [],
   "source": [
    "msg = '--- Spearman r ---\\n\\n'\n",
    "msg += f\"BOLD vs. Ca (slow):  {corr(h1, h2, 'spearman'):0.3f}\\n\"\n",
    "msg += f\"BOLD vs. Ca (fast):  {corr(h1, h3, 'spearman'):0.3f}\\n\"\n",
    "msg += f\"Ca (slow) vs. Ca (fast):  {corr(h2, h3, 'spearman'):0.3f}\\n\"\n",
    "print(msg)"
   ]
  },
  {
   "cell_type": "code",
   "execution_count": null,
   "id": "c6dc7732",
   "metadata": {},
   "outputs": [],
   "source": [
    "msg = '--- Pearson r ---\\n\\n'\n",
    "msg += f\"BOLD vs. Ca (slow):  {corr(h1, h2, 'pearson'):0.3f}\\n\"\n",
    "msg += f\"BOLD vs. Ca (fast):  {corr(h1, h3, 'pearson'):0.3f}\\n\"\n",
    "msg += f\"Ca (slow) vs. Ca (fast):  {corr(h2, h3, 'pearson'):0.3f}\\n\"\n",
    "print(msg)"
   ]
  },
  {
   "cell_type": "code",
   "execution_count": null,
   "id": "ba7b2975",
   "metadata": {},
   "outputs": [],
   "source": []
  },
  {
   "cell_type": "code",
   "execution_count": null,
   "id": "47f41c2f",
   "metadata": {},
   "outputs": [],
   "source": [
    "df = {\n",
    "    'Bold': h1,\n",
    "    'Ca2 (slow)': h2,\n",
    "    'Ca2 (fast)': h3,\n",
    "}\n",
    "df = pd.DataFrame(df)"
   ]
  },
  {
   "cell_type": "code",
   "execution_count": null,
   "id": "5966eacf",
   "metadata": {},
   "outputs": [],
   "source": [
    "sns.pairplot(df, kind='reg', diag_kws={'fill': False});"
   ]
  },
  {
   "cell_type": "code",
   "execution_count": null,
   "id": "f58eab0b",
   "metadata": {},
   "outputs": [],
   "source": []
  },
  {
   "cell_type": "code",
   "execution_count": null,
   "id": "ff2a3f31",
   "metadata": {},
   "outputs": [],
   "source": [
    "sns.boxplot(\n",
    "    data=df.melt(),\n",
    "    y='value',\n",
    "    x='variable',\n",
    "    hue='variable',\n",
    "    palette={\n",
    "        'Bold': pal['bold-lite'],\n",
    "        'Ca2 (slow)': pal['ca2'],\n",
    "        'Ca2 (fast)': 'C8',\n",
    "    },\n",
    ")\n",
    "plt.ylabel('Entropy')\n",
    "plt.xlabel('')\n",
    "plt.show()"
   ]
  },
  {
   "cell_type": "code",
   "execution_count": null,
   "id": "d565ab6c",
   "metadata": {},
   "outputs": [],
   "source": []
  },
  {
   "cell_type": "code",
   "execution_count": null,
   "id": "227d1d8b",
   "metadata": {},
   "outputs": [],
   "source": []
  },
  {
   "cell_type": "markdown",
   "id": "305c3115",
   "metadata": {},
   "source": [
    "## Histogram plot"
   ]
  },
  {
   "cell_type": "code",
   "execution_count": null,
   "id": "5438b466",
   "metadata": {
    "scrolled": true
   },
   "outputs": [],
   "source": [
    "bins = np.linspace(0.2, 1, 5)\n",
    "bins"
   ]
  },
  {
   "cell_type": "code",
   "execution_count": null,
   "id": "88d046ea",
   "metadata": {},
   "outputs": [],
   "source": [
    "kk = 7\n",
    "pi_bo = pi_bo_pr[kk]\n",
    "pi_ca = pi_ca_pr[kk]\n",
    "pi_caf = pi_caf_pr[kk]"
   ]
  },
  {
   "cell_type": "code",
   "execution_count": null,
   "id": "3fc90db0",
   "metadata": {},
   "outputs": [],
   "source": [
    "cut_bo = cut_data(\n",
    "    data=pi_bo.reshape(-1, *pi_bo.shape[-2:]),\n",
    "    bins=bins,\n",
    "    oc_only=True,\n",
    ")[0].reshape(*pi_bo.shape[:4], pi_bo.shape[-2], -1)\n",
    "cut_avg_bo = avg(cut_bo)\n",
    "\n",
    "cut_ca = cut_data(\n",
    "    data=pi_ca.reshape(-1, *pi_ca.shape[-2:]),\n",
    "    bins=bins,\n",
    "    oc_only=True,\n",
    ")[0].reshape(*pi_ca.shape[:4], pi_ca.shape[-2], -1)\n",
    "cut_avg_ca = avg(cut_ca)\n",
    "cut_ca.shape, cut_avg_ca.shape\n",
    "\n",
    "cut_caf = cut_data(\n",
    "    data=pi_caf.reshape(-1, *pi_caf.shape[-2:]),\n",
    "    bins=bins,\n",
    "    oc_only=True,\n",
    ")[0].reshape(*pi_caf.shape[:4], pi_caf.shape[-2], -1)\n",
    "cut_avg_caf = avg(cut_caf)\n",
    "\n",
    "\n",
    "cut_bo.shape, cut_avg_bo.shape"
   ]
  },
  {
   "cell_type": "code",
   "execution_count": null,
   "id": "ebde709c",
   "metadata": {},
   "outputs": [],
   "source": []
  },
  {
   "cell_type": "code",
   "execution_count": null,
   "id": "7dc876f9",
   "metadata": {},
   "outputs": [],
   "source": [
    "colors = get_cluster_cmap(range(kk), True)[1]"
   ]
  },
  {
   "cell_type": "code",
   "execution_count": null,
   "id": "47d1cb73",
   "metadata": {},
   "outputs": [],
   "source": [
    "fig, axes = create_figure(1, 3, (10, 3.7), 'all', 'all')\n",
    "\n",
    "for i, c in enumerate(colors):\n",
    "    axes[0].plot(cut_avg_bo[i], color=c, lw=2)\n",
    "    axes[1].plot(cut_avg_ca[i], color=c, lw=2)\n",
    "    axes[2].plot(cut_avg_caf[i], color=c, lw=2)\n",
    "    \n",
    "    axes[0].set_title('Bold')\n",
    "    axes[1].set_title('Ca2 (slow)')\n",
    "    axes[2].set_title('Ca2 (fast)')\n",
    "\n",
    "axes[-1].set_ylim(0, 70)\n",
    "add_grid(axes)\n",
    "plt.show()"
   ]
  },
  {
   "cell_type": "code",
   "execution_count": null,
   "id": "fecaf0f3",
   "metadata": {},
   "outputs": [],
   "source": []
  },
  {
   "cell_type": "code",
   "execution_count": null,
   "id": "28bfd5b3",
   "metadata": {},
   "outputs": [],
   "source": []
  },
  {
   "cell_type": "markdown",
   "id": "938e7e9b",
   "metadata": {},
   "source": [
    "## Entropy plot"
   ]
  },
  {
   "cell_type": "code",
   "execution_count": null,
   "id": "bc5abbde",
   "metadata": {
    "scrolled": false
   },
   "outputs": [],
   "source": [
    "fig, axes = create_figure(2, 2, (9, 7))\n",
    "\n",
    "h_ca = sp_stats.entropy(bn.nanmean(pi_ca, -3), axis=-2) / np.log(kk)\n",
    "h_bo = sp_stats.entropy(bn.nanmean(pi_bo, -3), axis=-2) / np.log(kk)\n",
    "h_ca_avg = avg(h_ca, 1)\n",
    "h_bo_avg = avg(h_bo, 1)\n",
    "\n",
    "sns.histplot(\n",
    "    h_ca[np.isfinite(h_ca)],\n",
    "    bins=np.linspace(0, 1, 201),\n",
    "    color=pal['ca2'],\n",
    "    stat='percent',\n",
    "    ax=axes[0, 0],\n",
    ")\n",
    "sns.histplot(\n",
    "    h_bo[np.isfinite(h_bo)],\n",
    "    bins=np.linspace(0, 1, 201),\n",
    "    color=pal['bold-lite'],\n",
    "    stat='percent',\n",
    "    ax=axes[0, 0],\n",
    ")\n",
    "sns.histplot(\n",
    "    h_ca_avg[np.isfinite(h_ca_avg)],\n",
    "    bins=np.linspace(0, 1, 51),\n",
    "    color=pal['ca2'],\n",
    "    stat='percent',\n",
    "    ax=axes[0, 1],\n",
    ")\n",
    "sns.histplot(\n",
    "    h_bo_avg[np.isfinite(h_bo_avg)],\n",
    "    bins=np.linspace(0, 1, 51),\n",
    "    color=pal['bold-lite'],\n",
    "    stat='percent',\n",
    "    ax=axes[0, 1],\n",
    ")\n",
    "axes[0, 0].set_title('Run / All')\n",
    "axes[0, 1].set_title('Run / Group')\n",
    "\n",
    "\n",
    "h_ca = sp_stats.entropy(pi_ca, axis=-2) / np.log(kk)\n",
    "h_bo = sp_stats.entropy(pi_bo, axis=-2) / np.log(kk)\n",
    "h_ca_avg = avg(h_ca, 1)\n",
    "h_bo_avg = avg(h_bo, 1)\n",
    "\n",
    "sns.histplot(\n",
    "    h_ca[np.isfinite(h_ca)],\n",
    "    bins=np.linspace(0, 1, 201),\n",
    "    color=pal['ca2'],\n",
    "    stat='percent',\n",
    "    ax=axes[1, 0],\n",
    ")\n",
    "sns.histplot(\n",
    "    h_bo[np.isfinite(h_bo)],\n",
    "    bins=np.linspace(0, 1, 201),\n",
    "    color=pal['bold-lite'],\n",
    "    stat='percent',\n",
    "    ax=axes[1, 0],\n",
    ")\n",
    "sns.histplot(\n",
    "    h_ca_avg[np.isfinite(h_ca_avg)],\n",
    "    bins=np.linspace(0, 1, 51),\n",
    "    color=pal['ca2'],\n",
    "    stat='percent',\n",
    "    ax=axes[1, 1],\n",
    ")\n",
    "sns.histplot(\n",
    "    h_bo_avg[np.isfinite(h_bo_avg)],\n",
    "    bins=np.linspace(0, 1, 51),\n",
    "    color=pal['bold-lite'],\n",
    "    stat='percent',\n",
    "    ax=axes[1, 1],\n",
    ")\n",
    "axes[1, 0].set_title('Seed / All')\n",
    "axes[1, 1].set_title('Seed / Group')\n",
    "\n",
    "#for ax in axes.flat:\n",
    "#    ax.legend()\n",
    "plt.show()"
   ]
  },
  {
   "cell_type": "code",
   "execution_count": null,
   "id": "9ea521da",
   "metadata": {},
   "outputs": [],
   "source": []
  },
  {
   "cell_type": "code",
   "execution_count": null,
   "id": "d82e6da6",
   "metadata": {},
   "outputs": [],
   "source": [
    "bins = np.linspace(0, 1, 51)\n",
    "xx = (bins[:-1] + bins[1:]) / 2"
   ]
  },
  {
   "cell_type": "code",
   "execution_count": null,
   "id": "925f703f",
   "metadata": {},
   "outputs": [],
   "source": []
  },
  {
   "cell_type": "code",
   "execution_count": null,
   "id": "c41615ad",
   "metadata": {},
   "outputs": [],
   "source": [
    "fig, axes = create_figure(1, 2, (8, 4), 'all', 'all')\n",
    "\n",
    "\n",
    "h_bo = sp_stats.entropy(bn.nanmean(pi_bo, -3), axis=-2) / np.log(kk)\n",
    "h_ca = sp_stats.entropy(bn.nanmean(pi_ca, -3), axis=-2) / np.log(kk)\n",
    "h_caf = sp_stats.entropy(bn.nanmean(pi_caf, -3), axis=-2) / np.log(kk)\n",
    "\n",
    "\n",
    "cut_bo = cut_data(\n",
    "    data=h_bo.reshape(-1, 1, h_bo.shape[-1]),\n",
    "    bins=bins,\n",
    "    oc_only=True,\n",
    ")[0].reshape(*h_bo.shape[:3], -1)\n",
    "cut_avg_bo = avg(cut_bo, 1)\n",
    "\n",
    "cut_ca = cut_data(\n",
    "    data=h_ca.reshape(-1, 1, h_ca.shape[-1]),\n",
    "    bins=bins,\n",
    "    oc_only=True,\n",
    ")[0].reshape(*h_ca.shape[:3], -1)\n",
    "cut_avg_ca = avg(cut_ca, 1)\n",
    "\n",
    "cut_caf = cut_data(\n",
    "    data=h_caf.reshape(-1, 1, h_caf.shape[-1]),\n",
    "    bins=bins,\n",
    "    oc_only=True,\n",
    ")[0].reshape(*h_caf.shape[:3], -1)\n",
    "cut_avg_caf = avg(cut_caf, 1)\n",
    "\n",
    "\n",
    "axes[0].plot(xx, cut_avg_bo, color=pal['bold-lite'], lw=2)\n",
    "axes[0].plot(xx, cut_avg_ca, color=pal['ca2'], lw=2)\n",
    "axes[0].plot(xx, cut_avg_caf, color='C8', lw=2)\n",
    "axes[0].set_title('Run')\n",
    "\n",
    "\n",
    "h_bo = sp_stats.entropy(pi_bo, axis=-2) / np.log(kk)\n",
    "h_ca = sp_stats.entropy(pi_ca, axis=-2) / np.log(kk)\n",
    "h_caf = sp_stats.entropy(pi_caf, axis=-2) / np.log(kk)\n",
    "\n",
    "cut_bo = cut_data(\n",
    "    data=h_bo.reshape(-1, 1, h_bo.shape[-1]),\n",
    "    bins=bins,\n",
    "    oc_only=True,\n",
    ")[0].reshape(*h_bo.shape[:4], -1)\n",
    "cut_avg_bo = avg(cut_bo, 1)\n",
    "\n",
    "cut_ca = cut_data(\n",
    "    data=h_ca.reshape(-1, 1, h_ca.shape[-1]),\n",
    "    bins=bins,\n",
    "    oc_only=True,\n",
    ")[0].reshape(*h_ca.shape[:4], -1)\n",
    "cut_avg_ca = avg(cut_ca, 1)\n",
    "\n",
    "cut_caf = cut_data(\n",
    "    data=h_caf.reshape(-1, 1, h_caf.shape[-1]),\n",
    "    bins=bins,\n",
    "    oc_only=True,\n",
    ")[0].reshape(*h_caf.shape[:4], -1)\n",
    "cut_avg_caf = avg(cut_caf, 1)\n",
    "\n",
    "axes[1].plot(xx, cut_avg_bo, color=pal['bold-lite'], lw=2)\n",
    "axes[1].plot(xx, cut_avg_ca, color=pal['ca2'], lw=2)\n",
    "axes[1].plot(xx, cut_avg_caf, color='C8', lw=2)\n",
    "axes[1].set_title('Seed')\n",
    "plt.show()"
   ]
  },
  {
   "cell_type": "code",
   "execution_count": null,
   "id": "cc577a78",
   "metadata": {},
   "outputs": [],
   "source": []
  },
  {
   "cell_type": "code",
   "execution_count": null,
   "id": "13d7b93d",
   "metadata": {},
   "outputs": [],
   "source": []
  },
  {
   "cell_type": "code",
   "execution_count": null,
   "id": "03c0c9ac",
   "metadata": {},
   "outputs": [],
   "source": []
  },
  {
   "cell_type": "markdown",
   "id": "ce31d15d",
   "metadata": {},
   "source": [
    "## H"
   ]
  },
  {
   "cell_type": "markdown",
   "id": "dc89d692",
   "metadata": {},
   "source": [
    "### Conclusion: for entropy do not use mg, mg is just for visualization of communities\n",
    "- For other statistics also do not use mg, just find out how to cut data from say num k = 11 and then somehow average the two communities to be mg-ed and that gives u a single number for that community"
   ]
  },
  {
   "cell_type": "markdown",
   "id": "db60170a",
   "metadata": {},
   "source": [
    "## Difference map"
   ]
  },
  {
   "cell_type": "code",
   "execution_count": null,
   "id": "c55570c9",
   "metadata": {},
   "outputs": [],
   "source": [
    "from statsmodels.stats.multitest import fdrcorrection"
   ]
  },
  {
   "cell_type": "markdown",
   "id": "92588851",
   "metadata": {},
   "source": [
    "### ca slow vs bo (kk = 7)"
   ]
  },
  {
   "cell_type": "code",
   "execution_count": null,
   "id": "831ec4c9",
   "metadata": {},
   "outputs": [],
   "source": [
    "kk = 7\n",
    "pi_bo = bn.nanmean(pi_bo_pr[kk], -3)\n",
    "pi_ca = bn.nanmean(pi_ca_pr[kk], -3)\n",
    "pi_caf = bn.nanmean(pi_caf_pr[kk], -3)\n",
    "\n",
    "h_bo = sp_stats.entropy(pi_bo, axis=-2) / np.log(kk)\n",
    "h_ca = sp_stats.entropy(pi_ca, axis=-2) / np.log(kk)\n",
    "h_caf = sp_stats.entropy(pi_caf, axis=-2) / np.log(kk)"
   ]
  },
  {
   "cell_type": "code",
   "execution_count": null,
   "id": "43847fc6",
   "metadata": {},
   "outputs": [],
   "source": []
  },
  {
   "cell_type": "code",
   "execution_count": null,
   "id": "3807f037",
   "metadata": {},
   "outputs": [],
   "source": [
    "y1 = h_bo.reshape(-1, h_bo.shape[-1])\n",
    "y2 = h_ca.reshape(-1, h_ca.shape[-1])\n",
    "y3 = h_caf.reshape(-1, h_caf.shape[-1])\n",
    "y1.shape, y2.shape, y3.shape"
   ]
  },
  {
   "cell_type": "code",
   "execution_count": null,
   "id": "704701bf",
   "metadata": {},
   "outputs": [],
   "source": [
    "def statistic(a, b, axis):\n",
    "    # print(a.shape, b.shape, axis)\n",
    "    return bn.nanmean(a - b, axis=axis)"
   ]
  },
  {
   "cell_type": "code",
   "execution_count": null,
   "id": "1d714683",
   "metadata": {},
   "outputs": [],
   "source": []
  },
  {
   "cell_type": "code",
   "execution_count": null,
   "id": "65b65ae2",
   "metadata": {},
   "outputs": [],
   "source": [
    "%%time\n",
    "\n",
    "test = sp_stats.permutation_test(\n",
    "    data=(y1, y2),\n",
    "    statistic=statistic,\n",
    "    permutation_type='samples',\n",
    "    alternative='two-sided',\n",
    "    n_resamples=int(1e4),\n",
    "    vectorized=True,\n",
    "    random_state=42,\n",
    "    batch=5,\n",
    "    axis=0,\n",
    ")"
   ]
  },
  {
   "cell_type": "code",
   "execution_count": null,
   "id": "1f5226e9",
   "metadata": {},
   "outputs": [],
   "source": []
  },
  {
   "cell_type": "code",
   "execution_count": null,
   "id": "1e7604e9",
   "metadata": {},
   "outputs": [],
   "source": [
    "ii = 38\n",
    "\n",
    "sns.histplot(test.null_distribution[:, ii])\n",
    "plt.axvline(test.statistic[ii], color='r')\n",
    "plt.title(f\"p-val = {test.pvalue[ii]:0.2g}\")\n",
    "plt.show()"
   ]
  },
  {
   "cell_type": "code",
   "execution_count": null,
   "id": "0c74a830",
   "metadata": {},
   "outputs": [],
   "source": []
  },
  {
   "cell_type": "code",
   "execution_count": null,
   "id": "e8c1f0b1",
   "metadata": {},
   "outputs": [],
   "source": [
    "rejected, pvals_corrected = fdrcorrection(test.pvalue, method='p')\n",
    "rejected.sum(), np.array_equal(pvals_corrected < 0.05, rejected)"
   ]
  },
  {
   "cell_type": "code",
   "execution_count": null,
   "id": "6f9e1ed5",
   "metadata": {},
   "outputs": [],
   "source": []
  },
  {
   "cell_type": "code",
   "execution_count": null,
   "id": "c80ed79c",
   "metadata": {},
   "outputs": [],
   "source": [
    "tr_statistic = gr_ca.project_vec(test.statistic, add_disjoint=False, thres=-np.inf)\n",
    "tr_pvalue_corrected = gr_ca.project_vec(pvals_corrected, add_disjoint=False, thres=-np.inf)\n",
    "tr_statistic = gr_ca.trim2d(tr_statistic)\n",
    "tr_pvalue_corrected = gr_ca.trim2d(tr_pvalue_corrected)\n",
    "\n",
    "\n",
    "fig, axes = create_figure(1, 3, (12, 3))\n",
    "\n",
    "alpha = 0.05\n",
    "\n",
    "vminmax = np.nanmax(np.abs(test.statistic))\n",
    "im = axes[0].imshow(\n",
    "    mwh(tr_statistic['top'] == 0, tr_statistic['proj-top'][0]),\n",
    "    cmap='bwr', vmin=-vminmax, vmax=vminmax)\n",
    "axes[0].set_title('statistic', fontsize=15, y=1.05)\n",
    "plt.colorbar(im, ax=axes[0])\n",
    "\n",
    "x = tr_statistic['proj-top'][0].copy()\n",
    "x[x > 0] = 1\n",
    "x[x < 0] = -1\n",
    "x[tr_pvalue_corrected['proj-top'][0] >= alpha] = 0\n",
    "im = axes[1].imshow(\n",
    "    mwh(tr_pvalue['top'] == 0.0, x),\n",
    "    cmap='bwr', vmin=-1.5, vmax=1.5)\n",
    "axes[1].set_title('red: bo > ca\\nblue: bo < ca', fontsize=15, y=1.05)\n",
    "plt.colorbar(im, ax=axes[1])\n",
    "\n",
    "im = axes[2].imshow(\n",
    "    mwh(tr_pvalue_corrected['top'] == 0, tr_pvalue_corrected['proj-top'][0]),\n",
    "    cmap='Spectral_r', vmin=alpha, vmax=1)\n",
    "axes[2].set_title('pval', fontsize=15, y=1.05)\n",
    "plt.colorbar(im, ax=axes[2])\n",
    "\n",
    "remove_ticks(axes)\n",
    "plt.show()"
   ]
  },
  {
   "cell_type": "code",
   "execution_count": null,
   "id": "12f07c20",
   "metadata": {},
   "outputs": [],
   "source": []
  },
  {
   "cell_type": "code",
   "execution_count": null,
   "id": "58aa8751",
   "metadata": {},
   "outputs": [],
   "source": [
    "test = sp_stats.permutation_test(\n",
    "    data=(y1, y3),\n",
    "    statistic=statistic,\n",
    "    permutation_type='samples',\n",
    "    alternative='two-sided',\n",
    "    n_resamples=int(1e4),\n",
    "    vectorized=True,\n",
    "    random_state=42,\n",
    "    batch=5,\n",
    "    axis=0,\n",
    ")"
   ]
  },
  {
   "cell_type": "code",
   "execution_count": null,
   "id": "b0309a4c",
   "metadata": {},
   "outputs": [],
   "source": [
    "rejected, pvals_corrected = fdrcorrection(test.pvalue, method='p')\n",
    "rejected.sum(), np.array_equal(pvals_corrected < 0.05, rejected)"
   ]
  },
  {
   "cell_type": "code",
   "execution_count": null,
   "id": "511f19fc",
   "metadata": {},
   "outputs": [],
   "source": []
  },
  {
   "cell_type": "code",
   "execution_count": null,
   "id": "8f9c8376",
   "metadata": {},
   "outputs": [],
   "source": [
    "ii = 38\n",
    "\n",
    "sns.histplot(test.null_distribution[:, ii])\n",
    "plt.axvline(test.statistic[ii], color='r')\n",
    "plt.title(f\"p-val = {test.pvalue[ii]:0.2g}\")\n",
    "plt.show()"
   ]
  },
  {
   "cell_type": "code",
   "execution_count": null,
   "id": "4e2969a5",
   "metadata": {},
   "outputs": [],
   "source": []
  },
  {
   "cell_type": "code",
   "execution_count": null,
   "id": "223ea0b0",
   "metadata": {},
   "outputs": [],
   "source": [
    "tr_statistic = gr_ca.project_vec(test.statistic, add_disjoint=False, thres=-np.inf)\n",
    "tr_pvalue_corrected = gr_ca.project_vec(pvals_corrected, add_disjoint=False, thres=-np.inf)\n",
    "tr_statistic = gr_ca.trim2d(tr_statistic)\n",
    "tr_pvalue_corrected = gr_ca.trim2d(tr_pvalue_corrected)\n",
    "\n",
    "\n",
    "fig, axes = create_figure(1, 3, (12, 3))\n",
    "\n",
    "alpha = 0.05\n",
    "\n",
    "vminmax = np.nanmax(np.abs(test.statistic))\n",
    "im = axes[0].imshow(\n",
    "    mwh(tr_statistic['top'] == 0, tr_statistic['proj-top'][0]),\n",
    "    cmap='bwr', vmin=-vminmax, vmax=vminmax)\n",
    "axes[0].set_title('statistic', fontsize=15, y=1.05)\n",
    "plt.colorbar(im, ax=axes[0])\n",
    "\n",
    "x = tr_statistic['proj-top'][0].copy()\n",
    "x[x > 0] = 1\n",
    "x[x < 0] = -1\n",
    "x[tr_pvalue_corrected['proj-top'][0] >= alpha] = 0\n",
    "im = axes[1].imshow(\n",
    "    mwh(tr_pvalue['top'] == 0.0, x),\n",
    "    cmap='bwr', vmin=-1.5, vmax=1.5)\n",
    "axes[1].set_title('red: bo > ca\\nblue: bo < ca', fontsize=15, y=1.05)\n",
    "plt.colorbar(im, ax=axes[1])\n",
    "\n",
    "im = axes[2].imshow(\n",
    "    mwh(tr_pvalue_corrected['top'] == 0, tr_pvalue_corrected['proj-top'][0]),\n",
    "    cmap='Spectral_r', vmin=alpha, vmax=1)\n",
    "axes[2].set_title('pval', fontsize=15, y=1.05)\n",
    "plt.colorbar(im, ax=axes[2])\n",
    "\n",
    "remove_ticks(axes)\n",
    "plt.show()"
   ]
  },
  {
   "cell_type": "code",
   "execution_count": null,
   "id": "3da791e6",
   "metadata": {},
   "outputs": [],
   "source": []
  },
  {
   "cell_type": "code",
   "execution_count": null,
   "id": "2f9bf877",
   "metadata": {},
   "outputs": [],
   "source": [
    "test = sp_stats.permutation_test(\n",
    "    data=(y2, y3),\n",
    "    statistic=statistic,\n",
    "    permutation_type='samples',\n",
    "    alternative='two-sided',\n",
    "    n_resamples=int(1e4),\n",
    "    vectorized=True,\n",
    "    random_state=42,\n",
    "    batch=5,\n",
    "    axis=0,\n",
    ")"
   ]
  },
  {
   "cell_type": "code",
   "execution_count": null,
   "id": "c343358d",
   "metadata": {},
   "outputs": [],
   "source": [
    "rejected, pvals_corrected = fdrcorrection(test.pvalue, method='p')\n",
    "rejected.sum(), np.array_equal(pvals_corrected < 0.05, rejected)"
   ]
  },
  {
   "cell_type": "code",
   "execution_count": null,
   "id": "033c16a4",
   "metadata": {},
   "outputs": [],
   "source": []
  },
  {
   "cell_type": "code",
   "execution_count": null,
   "id": "2c003a27",
   "metadata": {},
   "outputs": [],
   "source": [
    "ii = 38\n",
    "\n",
    "sns.histplot(test.null_distribution[:, ii])\n",
    "plt.axvline(test.statistic[ii], color='r')\n",
    "plt.title(f\"p-val = {test.pvalue[ii]:0.2g}\")\n",
    "plt.show()"
   ]
  },
  {
   "cell_type": "code",
   "execution_count": null,
   "id": "14c81d84",
   "metadata": {},
   "outputs": [],
   "source": []
  },
  {
   "cell_type": "code",
   "execution_count": null,
   "id": "90b97320",
   "metadata": {},
   "outputs": [],
   "source": [
    "tr_statistic = gr_ca.project_vec(test.statistic, add_disjoint=False, thres=-np.inf)\n",
    "tr_pvalue_corrected = gr_ca.project_vec(pvals_corrected, add_disjoint=False, thres=-np.inf)\n",
    "tr_statistic = gr_ca.trim2d(tr_statistic)\n",
    "tr_pvalue_corrected = gr_ca.trim2d(tr_pvalue_corrected)\n",
    "\n",
    "\n",
    "fig, axes = create_figure(1, 3, (12, 3))\n",
    "\n",
    "alpha = 0.05\n",
    "\n",
    "vminmax = np.nanmax(np.abs(test.statistic))\n",
    "im = axes[0].imshow(\n",
    "    mwh(tr_statistic['top'] == 0, tr_statistic['proj-top'][0]),\n",
    "    cmap='bwr', vmin=-vminmax, vmax=vminmax)\n",
    "axes[0].set_title('statistic', fontsize=15, y=1.05)\n",
    "plt.colorbar(im, ax=axes[0])\n",
    "\n",
    "x = tr_statistic['proj-top'][0].copy()\n",
    "x[x > 0] = 1\n",
    "x[x < 0] = -1\n",
    "x[tr_pvalue_corrected['proj-top'][0] >= alpha] = 0\n",
    "im = axes[1].imshow(\n",
    "    mwh(tr_pvalue['top'] == 0.0, x),\n",
    "    cmap='bwr', vmin=-1.5, vmax=1.5)\n",
    "axes[1].set_title('red: slow > fast\\nblue: slow < fast', fontsize=15, y=1.05)\n",
    "plt.colorbar(im, ax=axes[1])\n",
    "\n",
    "im = axes[2].imshow(\n",
    "    mwh(tr_pvalue_corrected['top'] == 0, tr_pvalue_corrected['proj-top'][0]),\n",
    "    cmap='Spectral_r', vmin=alpha, vmax=1)\n",
    "axes[2].set_title('pval', fontsize=15, y=1.05)\n",
    "plt.colorbar(im, ax=axes[2])\n",
    "\n",
    "remove_ticks(axes)\n",
    "plt.show()"
   ]
  },
  {
   "cell_type": "code",
   "execution_count": null,
   "id": "ad3adbbb",
   "metadata": {},
   "outputs": [],
   "source": []
  },
  {
   "cell_type": "code",
   "execution_count": null,
   "id": "c43773ce",
   "metadata": {},
   "outputs": [],
   "source": []
  },
  {
   "cell_type": "markdown",
   "id": "c969ea50",
   "metadata": {},
   "source": [
    "## Difference map (other stat, or rank?)"
   ]
  },
  {
   "cell_type": "code",
   "execution_count": null,
   "id": "90be35fd",
   "metadata": {},
   "outputs": [],
   "source": [
    "from statsmodels.stats.multitest import fdrcorrection"
   ]
  },
  {
   "cell_type": "markdown",
   "id": "c277971f",
   "metadata": {},
   "source": [
    "### ca slow vs bo (kk = 7)"
   ]
  },
  {
   "cell_type": "code",
   "execution_count": null,
   "id": "bfeaf18d",
   "metadata": {},
   "outputs": [],
   "source": [
    "kk = 7\n",
    "pi_bo = bn.nanmean(pi_bo_pr[kk], -3)\n",
    "pi_ca = bn.nanmean(pi_ca_pr[kk], -3)\n",
    "pi_caf = bn.nanmean(pi_caf_pr[kk], -3)\n",
    "\n",
    "h_bo = sp_stats.entropy(pi_bo, axis=-2) / np.log(kk)\n",
    "h_ca = sp_stats.entropy(pi_ca, axis=-2) / np.log(kk)\n",
    "h_caf = sp_stats.entropy(pi_caf, axis=-2) / np.log(kk)"
   ]
  },
  {
   "cell_type": "code",
   "execution_count": 135,
   "id": "c26b7132",
   "metadata": {},
   "outputs": [],
   "source": [
    "\"\"\"hr_bo = np_nans(h_bo.shape)\n",
    "hr_ca = np_nans(h_ca.shape)\n",
    "hr_caf = np_nans(h_caf.shape)\n",
    "\n",
    "for i, j, k in itertools.product(range(10), range(3), range(4)):\n",
    "    x = h_bo[i, j, k]\n",
    "    good = np.isfinite(x)\n",
    "    hr_bo[i, j, k][good] = sp_stats.rankdata(x[good])\n",
    "    \n",
    "    x = h_ca[i, j, k]\n",
    "    good = np.isfinite(x)\n",
    "    hr_ca[i, j, k][good] = sp_stats.rankdata(x[good])\n",
    "    \n",
    "    x = h_caf[i, j, k]\n",
    "    good = np.isfinite(x)\n",
    "    hr_caf[i, j, k][good] = sp_stats.rankdata(x[good])\"\"\""
   ]
  },
  {
   "cell_type": "code",
   "execution_count": null,
   "id": "f39d1f6d",
   "metadata": {},
   "outputs": [],
   "source": []
  },
  {
   "cell_type": "code",
   "execution_count": null,
   "id": "18053bd7",
   "metadata": {},
   "outputs": [],
   "source": [
    "y1 = h_bo.reshape(-1, h_bo.shape[-1])\n",
    "y2 = h_ca.reshape(-1, h_ca.shape[-1])\n",
    "y3 = h_caf.reshape(-1, h_caf.shape[-1])\n",
    "\n",
    "good_runs = ~np.logical_or(\n",
    "    np.isnan(y1).sum(1) == y1.shape[-1],\n",
    "    np.isnan(y2).sum(1) == y2.shape[-1],\n",
    "    np.isnan(y3).sum(1) == y3.shape[-1],\n",
    ")\n",
    "good_runs.sum()"
   ]
  },
  {
   "cell_type": "code",
   "execution_count": null,
   "id": "7393d792",
   "metadata": {},
   "outputs": [],
   "source": [
    "y1 = y1[good_runs]\n",
    "y2 = y2[good_runs]\n",
    "y3 = y3[good_runs]"
   ]
  },
  {
   "cell_type": "code",
   "execution_count": null,
   "id": "bf7667fe",
   "metadata": {},
   "outputs": [],
   "source": []
  },
  {
   "cell_type": "code",
   "execution_count": null,
   "id": "0573ee7e",
   "metadata": {},
   "outputs": [],
   "source": [
    "def statistic(a, b, axis):\n",
    "    ##print(a.shape, b.shape, axis)\n",
    "    return bn.nanmean(a - b, axis=axis)"
   ]
  },
  {
   "cell_type": "code",
   "execution_count": null,
   "id": "11fe7070",
   "metadata": {},
   "outputs": [],
   "source": []
  },
  {
   "cell_type": "code",
   "execution_count": null,
   "id": "1fc4b33a",
   "metadata": {},
   "outputs": [],
   "source": [
    "good_nodes = np.logical_and(\n",
    "    np.isnan(y1).sum(0) < good_runs.sum() // 2,\n",
    "    np.isnan(y2).sum(0) < good_runs.sum() // 2,\n",
    ")\n",
    "good_nodes.sum()"
   ]
  },
  {
   "cell_type": "code",
   "execution_count": null,
   "id": "d0281655",
   "metadata": {},
   "outputs": [],
   "source": [
    "%%time\n",
    "\n",
    "test = sp_stats.permutation_test(\n",
    "    data=(y1[:, good_nodes], y2[:, good_nodes]),\n",
    "    statistic=statistic,\n",
    "    permutation_type='samples',\n",
    "    alternative='two-sided',\n",
    "    n_resamples=int(1e3),\n",
    "    vectorized=True,\n",
    "    random_state=42,\n",
    "    batch=5,\n",
    "    axis=0,\n",
    ")"
   ]
  },
  {
   "cell_type": "code",
   "execution_count": null,
   "id": "509d492a",
   "metadata": {},
   "outputs": [],
   "source": []
  },
  {
   "cell_type": "code",
   "execution_count": null,
   "id": "2e05d11b",
   "metadata": {},
   "outputs": [],
   "source": [
    "ii = 38\n",
    "\n",
    "sns.histplot(test.null_distribution[:, ii])\n",
    "plt.axvline(test.statistic[ii], color='r')\n",
    "plt.title(f\"p-val = {test.pvalue[ii]:0.2g}\")\n",
    "plt.show()"
   ]
  },
  {
   "cell_type": "code",
   "execution_count": null,
   "id": "7d5790ad",
   "metadata": {},
   "outputs": [],
   "source": []
  },
  {
   "cell_type": "code",
   "execution_count": null,
   "id": "bf73280c",
   "metadata": {},
   "outputs": [],
   "source": [
    "rejected, pvals_corrected = fdrcorrection(test.pvalue, method='p')\n",
    "rejected.sum(), np.array_equal(pvals_corrected < 0.05, rejected)"
   ]
  },
  {
   "cell_type": "code",
   "execution_count": null,
   "id": "cadb8d0b",
   "metadata": {},
   "outputs": [],
   "source": []
  },
  {
   "cell_type": "code",
   "execution_count": null,
   "id": "491e8af3",
   "metadata": {},
   "outputs": [],
   "source": [
    "_statistic = np_nans(len(h1))\n",
    "_pvalues = np_nans(len(h1))\n",
    "\n",
    "_statistic[good_nodes] = test.statistic\n",
    "_pvalues[good_nodes] = pvals_corrected\n",
    "\n",
    "\n",
    "tr_statistic = gr_ca.project_vec(_statistic, add_disjoint=False, thres=-np.inf)\n",
    "tr_pvalue_corrected = gr_ca.project_vec(_pvalues, add_disjoint=False, thres=-np.inf)\n",
    "tr_statistic = gr_ca.trim2d(tr_statistic)\n",
    "tr_pvalue_corrected = gr_ca.trim2d(tr_pvalue_corrected)\n",
    "\n",
    "\n",
    "fig, axes = create_figure(1, 3, (12, 3))\n",
    "\n",
    "alpha = 0.05\n",
    "\n",
    "vminmax = np.nanmax(np.abs(test.statistic))\n",
    "im = axes[0].imshow(\n",
    "    mwh(tr_statistic['top'] == 0, tr_statistic['proj-top'][0]),\n",
    "    cmap='bwr', vmin=-vminmax, vmax=vminmax)\n",
    "axes[0].set_title('statistic', fontsize=15, y=1.05)\n",
    "plt.colorbar(im, ax=axes[0])\n",
    "\n",
    "x = tr_statistic['proj-top'][0].copy()\n",
    "x[x > 0] = 1\n",
    "x[x < 0] = -1\n",
    "x[tr_pvalue_corrected['proj-top'][0] >= alpha] = 0\n",
    "im = axes[1].imshow(\n",
    "    mwh(tr_pvalue['top'] == 0.0, x),\n",
    "    cmap='bwr', vmin=-1.5, vmax=1.5)\n",
    "axes[1].set_title('red: bo > ca\\nblue: bo < ca', fontsize=15, y=1.05)\n",
    "plt.colorbar(im, ax=axes[1])\n",
    "\n",
    "im = axes[2].imshow(\n",
    "    mwh(tr_pvalue_corrected['top'] == 0, tr_pvalue_corrected['proj-top'][0]),\n",
    "    cmap='Spectral_r', vmin=alpha, vmax=1)\n",
    "axes[2].set_title('pval', fontsize=15, y=1.05)\n",
    "plt.colorbar(im, ax=axes[2])\n",
    "\n",
    "remove_ticks(axes)\n",
    "plt.show()"
   ]
  },
  {
   "cell_type": "code",
   "execution_count": null,
   "id": "b3569aa0",
   "metadata": {},
   "outputs": [],
   "source": []
  },
  {
   "cell_type": "code",
   "execution_count": null,
   "id": "a9a7143d",
   "metadata": {},
   "outputs": [],
   "source": []
  },
  {
   "cell_type": "code",
   "execution_count": null,
   "id": "3e406aa9",
   "metadata": {},
   "outputs": [],
   "source": []
  },
  {
   "cell_type": "code",
   "execution_count": 188,
   "id": "958443ac",
   "metadata": {},
   "outputs": [],
   "source": [
    "def statistic(a, b):\n",
    "    return sp_stats.spearmanr(a, b, nan_policy='omit').correlation"
   ]
  },
  {
   "cell_type": "code",
   "execution_count": null,
   "id": "32b0f13a",
   "metadata": {},
   "outputs": [],
   "source": []
  },
  {
   "cell_type": "code",
   "execution_count": 189,
   "id": "b4b4fb91",
   "metadata": {},
   "outputs": [
    {
     "data": {
      "text/html": [
       "<pre style=\"white-space:pre;overflow-x:auto;line-height:normal;font-family:Menlo,'DejaVu Sans Mono',consolas,'Courier New',monospace\"><span style=\"color: #008080; text-decoration-color: #008080; font-weight: bold\">146</span>\n",
       "</pre>\n"
      ],
      "text/plain": [
       "\u001b[1;36m146\u001b[0m\n"
      ]
     },
     "metadata": {},
     "output_type": "display_data"
    }
   ],
   "source": [
    "good_nodes = np.logical_and(\n",
    "    np.isnan(y1).sum(0) < good_runs.sum() // 2,\n",
    "    np.isnan(y2).sum(0) < good_runs.sum() // 2,\n",
    ")\n",
    "good_nodes.sum()"
   ]
  },
  {
   "cell_type": "code",
   "execution_count": 219,
   "id": "d85ef003",
   "metadata": {},
   "outputs": [],
   "source": [
    "good_nodes = np.where(good_nodes)[0]"
   ]
  },
  {
   "cell_type": "code",
   "execution_count": 220,
   "id": "cb6991f4",
   "metadata": {},
   "outputs": [
    {
     "data": {
      "text/html": [
       "<pre style=\"white-space:pre;overflow-x:auto;line-height:normal;font-family:Menlo,'DejaVu Sans Mono',consolas,'Courier New',monospace\"><span style=\"color: #008080; text-decoration-color: #008080; font-weight: bold\">0.15874355368026255</span>\n",
       "</pre>\n"
      ],
      "text/plain": [
       "\u001b[1;36m0.15874355368026255\u001b[0m\n"
      ]
     },
     "metadata": {},
     "output_type": "display_data"
    }
   ],
   "source": [
    "statistic(y1[:, good_nodes[0]], y2[:, good_nodes[0]])"
   ]
  },
  {
   "cell_type": "code",
   "execution_count": null,
   "id": "678a9f27",
   "metadata": {},
   "outputs": [],
   "source": []
  },
  {
   "cell_type": "code",
   "execution_count": 227,
   "id": "10b9d075",
   "metadata": {},
   "outputs": [
    {
     "data": {
      "application/vnd.jupyter.widget-view+json": {
       "model_id": "2f3fc4eb52434b41a7249b94e3f6160a",
       "version_major": 2,
       "version_minor": 0
      },
      "text/plain": [
       "  0%|          | 0/146 [00:00<?, ?it/s]"
      ]
     },
     "metadata": {},
     "output_type": "display_data"
    },
    {
     "name": "stdout",
     "output_type": "stream",
     "text": [
      "CPU times: user 19.3 s, sys: 58.3 ms, total: 19.4 s\n",
      "Wall time: 19.3 s\n"
     ]
    }
   ],
   "source": [
    "%%time\n",
    "\n",
    "_statistic = np_nans(len(h1))\n",
    "_pvalues = np_nans(len(h1))\n",
    "\n",
    "for i in tqdm(good_nodes):\n",
    "    test = sp_stats.permutation_test(\n",
    "        data=(y1[:, i], y2[:, i]),\n",
    "        statistic=statistic,\n",
    "        permutation_type='samples',\n",
    "        alternative='two-sided',\n",
    "        n_resamples=int(1e2),\n",
    "        random_state=42,\n",
    "        batch=5,\n",
    "    )\n",
    "    _statistic[i] = test.statistic\n",
    "    _pvalues[i] = test.pvalue"
   ]
  },
  {
   "cell_type": "code",
   "execution_count": null,
   "id": "af445a6d",
   "metadata": {},
   "outputs": [],
   "source": []
  },
  {
   "cell_type": "code",
   "execution_count": 238,
   "id": "d7f73583",
   "metadata": {},
   "outputs": [
    {
     "data": {
      "text/html": [
       "<pre style=\"white-space:pre;overflow-x:auto;line-height:normal;font-family:Menlo,'DejaVu Sans Mono',consolas,'Courier New',monospace\"><span style=\"font-weight: bold\">(</span><span style=\"color: #008080; text-decoration-color: #008080; font-weight: bold\">106</span>, <span style=\"color: #00ff00; text-decoration-color: #00ff00; font-style: italic\">True</span><span style=\"font-weight: bold\">)</span>\n",
       "</pre>\n"
      ],
      "text/plain": [
       "\u001b[1m(\u001b[0m\u001b[1;36m106\u001b[0m, \u001b[3;92mTrue\u001b[0m\u001b[1m)\u001b[0m\n"
      ]
     },
     "metadata": {},
     "output_type": "display_data"
    }
   ],
   "source": [
    "rejected, pvals_corrected = fdrcorrection(_pvalues[np.isfinite(_pvalues)], method='p')\n",
    "rejected.sum(), np.array_equal(pvals_corrected < 0.05, rejected)"
   ]
  },
  {
   "cell_type": "code",
   "execution_count": 241,
   "id": "e2f2acdf",
   "metadata": {},
   "outputs": [],
   "source": [
    "pvals_corrected_final = np_nans(len(_pvalues))\n",
    "pvals_corrected_final[np.isfinite(_pvalues)] = pvals_corrected"
   ]
  },
  {
   "cell_type": "code",
   "execution_count": 242,
   "id": "2755d4d6",
   "metadata": {},
   "outputs": [],
   "source": [
    "rejected_final = np_nans(len(_pvalues))\n",
    "rejected_final[np.isfinite(_pvalues)] = rejected"
   ]
  },
  {
   "cell_type": "code",
   "execution_count": 240,
   "id": "9374e134",
   "metadata": {},
   "outputs": [
    {
     "data": {
      "text/html": [
       "<pre style=\"white-space:pre;overflow-x:auto;line-height:normal;font-family:Menlo,'DejaVu Sans Mono',consolas,'Courier New',monospace\"><span style=\"color: #800080; text-decoration-color: #800080; font-weight: bold\">array</span><span style=\"font-weight: bold\">([</span> <span style=\"color: #008080; text-decoration-color: #008080; font-weight: bold\">1</span>.,  <span style=\"color: #008080; text-decoration-color: #008080; font-weight: bold\">1</span>., nan,  <span style=\"color: #008080; text-decoration-color: #008080; font-weight: bold\">1</span>.,  <span style=\"color: #008080; text-decoration-color: #008080; font-weight: bold\">1</span>.,  <span style=\"color: #008080; text-decoration-color: #008080; font-weight: bold\">1</span>.,  <span style=\"color: #008080; text-decoration-color: #008080; font-weight: bold\">1</span>.,  <span style=\"color: #008080; text-decoration-color: #008080; font-weight: bold\">1</span>.,  <span style=\"color: #008080; text-decoration-color: #008080; font-weight: bold\">1</span>.,  <span style=\"color: #008080; text-decoration-color: #008080; font-weight: bold\">1</span>.,  <span style=\"color: #008080; text-decoration-color: #008080; font-weight: bold\">1</span>.,  <span style=\"color: #008080; text-decoration-color: #008080; font-weight: bold\">0</span>.,  <span style=\"color: #008080; text-decoration-color: #008080; font-weight: bold\">1</span>.,\n",
       "        <span style=\"color: #008080; text-decoration-color: #008080; font-weight: bold\">1</span>.,  <span style=\"color: #008080; text-decoration-color: #008080; font-weight: bold\">0</span>.,  <span style=\"color: #008080; text-decoration-color: #008080; font-weight: bold\">1</span>.,  <span style=\"color: #008080; text-decoration-color: #008080; font-weight: bold\">1</span>.,  <span style=\"color: #008080; text-decoration-color: #008080; font-weight: bold\">0</span>.,  <span style=\"color: #008080; text-decoration-color: #008080; font-weight: bold\">1</span>.,  <span style=\"color: #008080; text-decoration-color: #008080; font-weight: bold\">1</span>.,  <span style=\"color: #008080; text-decoration-color: #008080; font-weight: bold\">1</span>.,  <span style=\"color: #008080; text-decoration-color: #008080; font-weight: bold\">1</span>.,  <span style=\"color: #008080; text-decoration-color: #008080; font-weight: bold\">0</span>.,  <span style=\"color: #008080; text-decoration-color: #008080; font-weight: bold\">1</span>.,  <span style=\"color: #008080; text-decoration-color: #008080; font-weight: bold\">0</span>.,  <span style=\"color: #008080; text-decoration-color: #008080; font-weight: bold\">0</span>.,\n",
       "        <span style=\"color: #008080; text-decoration-color: #008080; font-weight: bold\">1</span>.,  <span style=\"color: #008080; text-decoration-color: #008080; font-weight: bold\">1</span>.,  <span style=\"color: #008080; text-decoration-color: #008080; font-weight: bold\">0</span>.,  <span style=\"color: #008080; text-decoration-color: #008080; font-weight: bold\">1</span>.,  <span style=\"color: #008080; text-decoration-color: #008080; font-weight: bold\">0</span>.,  <span style=\"color: #008080; text-decoration-color: #008080; font-weight: bold\">0</span>.,  <span style=\"color: #008080; text-decoration-color: #008080; font-weight: bold\">1</span>.,  <span style=\"color: #008080; text-decoration-color: #008080; font-weight: bold\">1</span>.,  <span style=\"color: #008080; text-decoration-color: #008080; font-weight: bold\">1</span>.,  <span style=\"color: #008080; text-decoration-color: #008080; font-weight: bold\">1</span>.,  <span style=\"color: #008080; text-decoration-color: #008080; font-weight: bold\">0</span>.,  <span style=\"color: #008080; text-decoration-color: #008080; font-weight: bold\">1</span>.,  <span style=\"color: #008080; text-decoration-color: #008080; font-weight: bold\">1</span>.,\n",
       "        <span style=\"color: #008080; text-decoration-color: #008080; font-weight: bold\">1</span>.,  <span style=\"color: #008080; text-decoration-color: #008080; font-weight: bold\">1</span>.,  <span style=\"color: #008080; text-decoration-color: #008080; font-weight: bold\">1</span>.,  <span style=\"color: #008080; text-decoration-color: #008080; font-weight: bold\">1</span>.,  <span style=\"color: #008080; text-decoration-color: #008080; font-weight: bold\">1</span>.,  <span style=\"color: #008080; text-decoration-color: #008080; font-weight: bold\">0</span>.,  <span style=\"color: #008080; text-decoration-color: #008080; font-weight: bold\">0</span>.,  <span style=\"color: #008080; text-decoration-color: #008080; font-weight: bold\">1</span>.,  <span style=\"color: #008080; text-decoration-color: #008080; font-weight: bold\">1</span>.,  <span style=\"color: #008080; text-decoration-color: #008080; font-weight: bold\">0</span>.,  <span style=\"color: #008080; text-decoration-color: #008080; font-weight: bold\">0</span>.,  <span style=\"color: #008080; text-decoration-color: #008080; font-weight: bold\">0</span>.,  <span style=\"color: #008080; text-decoration-color: #008080; font-weight: bold\">1</span>.,\n",
       "        <span style=\"color: #008080; text-decoration-color: #008080; font-weight: bold\">1</span>., nan,  <span style=\"color: #008080; text-decoration-color: #008080; font-weight: bold\">1</span>.,  <span style=\"color: #008080; text-decoration-color: #008080; font-weight: bold\">0</span>.,  <span style=\"color: #008080; text-decoration-color: #008080; font-weight: bold\">1</span>.,  <span style=\"color: #008080; text-decoration-color: #008080; font-weight: bold\">1</span>.,  <span style=\"color: #008080; text-decoration-color: #008080; font-weight: bold\">1</span>.,  <span style=\"color: #008080; text-decoration-color: #008080; font-weight: bold\">1</span>.,  <span style=\"color: #008080; text-decoration-color: #008080; font-weight: bold\">1</span>.,  <span style=\"color: #008080; text-decoration-color: #008080; font-weight: bold\">1</span>.,  <span style=\"color: #008080; text-decoration-color: #008080; font-weight: bold\">1</span>.,  <span style=\"color: #008080; text-decoration-color: #008080; font-weight: bold\">1</span>.,  <span style=\"color: #008080; text-decoration-color: #008080; font-weight: bold\">1</span>.,\n",
       "        <span style=\"color: #008080; text-decoration-color: #008080; font-weight: bold\">0</span>.,  <span style=\"color: #008080; text-decoration-color: #008080; font-weight: bold\">1</span>.,  <span style=\"color: #008080; text-decoration-color: #008080; font-weight: bold\">0</span>.,  <span style=\"color: #008080; text-decoration-color: #008080; font-weight: bold\">1</span>.,  <span style=\"color: #008080; text-decoration-color: #008080; font-weight: bold\">1</span>., nan,  <span style=\"color: #008080; text-decoration-color: #008080; font-weight: bold\">1</span>.,  <span style=\"color: #008080; text-decoration-color: #008080; font-weight: bold\">0</span>.,  <span style=\"color: #008080; text-decoration-color: #008080; font-weight: bold\">0</span>.,  <span style=\"color: #008080; text-decoration-color: #008080; font-weight: bold\">0</span>.,  <span style=\"color: #008080; text-decoration-color: #008080; font-weight: bold\">0</span>.,  <span style=\"color: #008080; text-decoration-color: #008080; font-weight: bold\">1</span>.,  <span style=\"color: #008080; text-decoration-color: #008080; font-weight: bold\">1</span>.,\n",
       "       nan,  <span style=\"color: #008080; text-decoration-color: #008080; font-weight: bold\">1</span>.,  <span style=\"color: #008080; text-decoration-color: #008080; font-weight: bold\">1</span>.,  <span style=\"color: #008080; text-decoration-color: #008080; font-weight: bold\">1</span>.,  <span style=\"color: #008080; text-decoration-color: #008080; font-weight: bold\">1</span>.,  <span style=\"color: #008080; text-decoration-color: #008080; font-weight: bold\">1</span>.,  <span style=\"color: #008080; text-decoration-color: #008080; font-weight: bold\">1</span>.,  <span style=\"color: #008080; text-decoration-color: #008080; font-weight: bold\">1</span>.,  <span style=\"color: #008080; text-decoration-color: #008080; font-weight: bold\">1</span>.,  <span style=\"color: #008080; text-decoration-color: #008080; font-weight: bold\">1</span>.,  <span style=\"color: #008080; text-decoration-color: #008080; font-weight: bold\">1</span>.,  <span style=\"color: #008080; text-decoration-color: #008080; font-weight: bold\">1</span>.,  <span style=\"color: #008080; text-decoration-color: #008080; font-weight: bold\">1</span>.,\n",
       "        <span style=\"color: #008080; text-decoration-color: #008080; font-weight: bold\">1</span>.,  <span style=\"color: #008080; text-decoration-color: #008080; font-weight: bold\">1</span>.,  <span style=\"color: #008080; text-decoration-color: #008080; font-weight: bold\">1</span>.,  <span style=\"color: #008080; text-decoration-color: #008080; font-weight: bold\">0</span>.,  <span style=\"color: #008080; text-decoration-color: #008080; font-weight: bold\">1</span>.,  <span style=\"color: #008080; text-decoration-color: #008080; font-weight: bold\">1</span>.,  <span style=\"color: #008080; text-decoration-color: #008080; font-weight: bold\">1</span>.,  <span style=\"color: #008080; text-decoration-color: #008080; font-weight: bold\">0</span>.,  <span style=\"color: #008080; text-decoration-color: #008080; font-weight: bold\">1</span>.,  <span style=\"color: #008080; text-decoration-color: #008080; font-weight: bold\">1</span>.,  <span style=\"color: #008080; text-decoration-color: #008080; font-weight: bold\">1</span>.,  <span style=\"color: #008080; text-decoration-color: #008080; font-weight: bold\">1</span>.,  <span style=\"color: #008080; text-decoration-color: #008080; font-weight: bold\">1</span>.,\n",
       "        <span style=\"color: #008080; text-decoration-color: #008080; font-weight: bold\">0</span>.,  <span style=\"color: #008080; text-decoration-color: #008080; font-weight: bold\">0</span>.,  <span style=\"color: #008080; text-decoration-color: #008080; font-weight: bold\">0</span>.,  <span style=\"color: #008080; text-decoration-color: #008080; font-weight: bold\">0</span>.,  <span style=\"color: #008080; text-decoration-color: #008080; font-weight: bold\">1</span>.,  <span style=\"color: #008080; text-decoration-color: #008080; font-weight: bold\">1</span>.,  <span style=\"color: #008080; text-decoration-color: #008080; font-weight: bold\">0</span>.,  <span style=\"color: #008080; text-decoration-color: #008080; font-weight: bold\">1</span>.,  <span style=\"color: #008080; text-decoration-color: #008080; font-weight: bold\">1</span>.,  <span style=\"color: #008080; text-decoration-color: #008080; font-weight: bold\">1</span>.,  <span style=\"color: #008080; text-decoration-color: #008080; font-weight: bold\">1</span>.,  <span style=\"color: #008080; text-decoration-color: #008080; font-weight: bold\">1</span>.,  <span style=\"color: #008080; text-decoration-color: #008080; font-weight: bold\">1</span>.,\n",
       "        <span style=\"color: #008080; text-decoration-color: #008080; font-weight: bold\">1</span>.,  <span style=\"color: #008080; text-decoration-color: #008080; font-weight: bold\">1</span>.,  <span style=\"color: #008080; text-decoration-color: #008080; font-weight: bold\">1</span>.,  <span style=\"color: #008080; text-decoration-color: #008080; font-weight: bold\">1</span>.,  <span style=\"color: #008080; text-decoration-color: #008080; font-weight: bold\">0</span>.,  <span style=\"color: #008080; text-decoration-color: #008080; font-weight: bold\">1</span>.,  <span style=\"color: #008080; text-decoration-color: #008080; font-weight: bold\">0</span>.,  <span style=\"color: #008080; text-decoration-color: #008080; font-weight: bold\">1</span>.,  <span style=\"color: #008080; text-decoration-color: #008080; font-weight: bold\">0</span>.,  <span style=\"color: #008080; text-decoration-color: #008080; font-weight: bold\">0</span>.,  <span style=\"color: #008080; text-decoration-color: #008080; font-weight: bold\">1</span>.,  <span style=\"color: #008080; text-decoration-color: #008080; font-weight: bold\">1</span>., nan,\n",
       "        <span style=\"color: #008080; text-decoration-color: #008080; font-weight: bold\">1</span>.,  <span style=\"color: #008080; text-decoration-color: #008080; font-weight: bold\">1</span>.,  <span style=\"color: #008080; text-decoration-color: #008080; font-weight: bold\">1</span>.,  <span style=\"color: #008080; text-decoration-color: #008080; font-weight: bold\">1</span>.,  <span style=\"color: #008080; text-decoration-color: #008080; font-weight: bold\">1</span>.,  <span style=\"color: #008080; text-decoration-color: #008080; font-weight: bold\">0</span>.,  <span style=\"color: #008080; text-decoration-color: #008080; font-weight: bold\">1</span>.,  <span style=\"color: #008080; text-decoration-color: #008080; font-weight: bold\">1</span>.,  <span style=\"color: #008080; text-decoration-color: #008080; font-weight: bold\">1</span>.,  <span style=\"color: #008080; text-decoration-color: #008080; font-weight: bold\">0</span>.,  <span style=\"color: #008080; text-decoration-color: #008080; font-weight: bold\">1</span>.,  <span style=\"color: #008080; text-decoration-color: #008080; font-weight: bold\">1</span>.,  <span style=\"color: #008080; text-decoration-color: #008080; font-weight: bold\">1</span>.,\n",
       "        <span style=\"color: #008080; text-decoration-color: #008080; font-weight: bold\">0</span>.,  <span style=\"color: #008080; text-decoration-color: #008080; font-weight: bold\">1</span>.,  <span style=\"color: #008080; text-decoration-color: #008080; font-weight: bold\">0</span>., nan,  <span style=\"color: #008080; text-decoration-color: #008080; font-weight: bold\">0</span>.,  <span style=\"color: #008080; text-decoration-color: #008080; font-weight: bold\">0</span>.,  <span style=\"color: #008080; text-decoration-color: #008080; font-weight: bold\">0</span>.,  <span style=\"color: #008080; text-decoration-color: #008080; font-weight: bold\">1</span>.,  <span style=\"color: #008080; text-decoration-color: #008080; font-weight: bold\">1</span>.<span style=\"font-weight: bold\">])</span>\n",
       "</pre>\n"
      ],
      "text/plain": [
       "\u001b[1;35marray\u001b[0m\u001b[1m(\u001b[0m\u001b[1m[\u001b[0m \u001b[1;36m1\u001b[0m.,  \u001b[1;36m1\u001b[0m., nan,  \u001b[1;36m1\u001b[0m.,  \u001b[1;36m1\u001b[0m.,  \u001b[1;36m1\u001b[0m.,  \u001b[1;36m1\u001b[0m.,  \u001b[1;36m1\u001b[0m.,  \u001b[1;36m1\u001b[0m.,  \u001b[1;36m1\u001b[0m.,  \u001b[1;36m1\u001b[0m.,  \u001b[1;36m0\u001b[0m.,  \u001b[1;36m1\u001b[0m.,\n",
       "        \u001b[1;36m1\u001b[0m.,  \u001b[1;36m0\u001b[0m.,  \u001b[1;36m1\u001b[0m.,  \u001b[1;36m1\u001b[0m.,  \u001b[1;36m0\u001b[0m.,  \u001b[1;36m1\u001b[0m.,  \u001b[1;36m1\u001b[0m.,  \u001b[1;36m1\u001b[0m.,  \u001b[1;36m1\u001b[0m.,  \u001b[1;36m0\u001b[0m.,  \u001b[1;36m1\u001b[0m.,  \u001b[1;36m0\u001b[0m.,  \u001b[1;36m0\u001b[0m.,\n",
       "        \u001b[1;36m1\u001b[0m.,  \u001b[1;36m1\u001b[0m.,  \u001b[1;36m0\u001b[0m.,  \u001b[1;36m1\u001b[0m.,  \u001b[1;36m0\u001b[0m.,  \u001b[1;36m0\u001b[0m.,  \u001b[1;36m1\u001b[0m.,  \u001b[1;36m1\u001b[0m.,  \u001b[1;36m1\u001b[0m.,  \u001b[1;36m1\u001b[0m.,  \u001b[1;36m0\u001b[0m.,  \u001b[1;36m1\u001b[0m.,  \u001b[1;36m1\u001b[0m.,\n",
       "        \u001b[1;36m1\u001b[0m.,  \u001b[1;36m1\u001b[0m.,  \u001b[1;36m1\u001b[0m.,  \u001b[1;36m1\u001b[0m.,  \u001b[1;36m1\u001b[0m.,  \u001b[1;36m0\u001b[0m.,  \u001b[1;36m0\u001b[0m.,  \u001b[1;36m1\u001b[0m.,  \u001b[1;36m1\u001b[0m.,  \u001b[1;36m0\u001b[0m.,  \u001b[1;36m0\u001b[0m.,  \u001b[1;36m0\u001b[0m.,  \u001b[1;36m1\u001b[0m.,\n",
       "        \u001b[1;36m1\u001b[0m., nan,  \u001b[1;36m1\u001b[0m.,  \u001b[1;36m0\u001b[0m.,  \u001b[1;36m1\u001b[0m.,  \u001b[1;36m1\u001b[0m.,  \u001b[1;36m1\u001b[0m.,  \u001b[1;36m1\u001b[0m.,  \u001b[1;36m1\u001b[0m.,  \u001b[1;36m1\u001b[0m.,  \u001b[1;36m1\u001b[0m.,  \u001b[1;36m1\u001b[0m.,  \u001b[1;36m1\u001b[0m.,\n",
       "        \u001b[1;36m0\u001b[0m.,  \u001b[1;36m1\u001b[0m.,  \u001b[1;36m0\u001b[0m.,  \u001b[1;36m1\u001b[0m.,  \u001b[1;36m1\u001b[0m., nan,  \u001b[1;36m1\u001b[0m.,  \u001b[1;36m0\u001b[0m.,  \u001b[1;36m0\u001b[0m.,  \u001b[1;36m0\u001b[0m.,  \u001b[1;36m0\u001b[0m.,  \u001b[1;36m1\u001b[0m.,  \u001b[1;36m1\u001b[0m.,\n",
       "       nan,  \u001b[1;36m1\u001b[0m.,  \u001b[1;36m1\u001b[0m.,  \u001b[1;36m1\u001b[0m.,  \u001b[1;36m1\u001b[0m.,  \u001b[1;36m1\u001b[0m.,  \u001b[1;36m1\u001b[0m.,  \u001b[1;36m1\u001b[0m.,  \u001b[1;36m1\u001b[0m.,  \u001b[1;36m1\u001b[0m.,  \u001b[1;36m1\u001b[0m.,  \u001b[1;36m1\u001b[0m.,  \u001b[1;36m1\u001b[0m.,\n",
       "        \u001b[1;36m1\u001b[0m.,  \u001b[1;36m1\u001b[0m.,  \u001b[1;36m1\u001b[0m.,  \u001b[1;36m0\u001b[0m.,  \u001b[1;36m1\u001b[0m.,  \u001b[1;36m1\u001b[0m.,  \u001b[1;36m1\u001b[0m.,  \u001b[1;36m0\u001b[0m.,  \u001b[1;36m1\u001b[0m.,  \u001b[1;36m1\u001b[0m.,  \u001b[1;36m1\u001b[0m.,  \u001b[1;36m1\u001b[0m.,  \u001b[1;36m1\u001b[0m.,\n",
       "        \u001b[1;36m0\u001b[0m.,  \u001b[1;36m0\u001b[0m.,  \u001b[1;36m0\u001b[0m.,  \u001b[1;36m0\u001b[0m.,  \u001b[1;36m1\u001b[0m.,  \u001b[1;36m1\u001b[0m.,  \u001b[1;36m0\u001b[0m.,  \u001b[1;36m1\u001b[0m.,  \u001b[1;36m1\u001b[0m.,  \u001b[1;36m1\u001b[0m.,  \u001b[1;36m1\u001b[0m.,  \u001b[1;36m1\u001b[0m.,  \u001b[1;36m1\u001b[0m.,\n",
       "        \u001b[1;36m1\u001b[0m.,  \u001b[1;36m1\u001b[0m.,  \u001b[1;36m1\u001b[0m.,  \u001b[1;36m1\u001b[0m.,  \u001b[1;36m0\u001b[0m.,  \u001b[1;36m1\u001b[0m.,  \u001b[1;36m0\u001b[0m.,  \u001b[1;36m1\u001b[0m.,  \u001b[1;36m0\u001b[0m.,  \u001b[1;36m0\u001b[0m.,  \u001b[1;36m1\u001b[0m.,  \u001b[1;36m1\u001b[0m., nan,\n",
       "        \u001b[1;36m1\u001b[0m.,  \u001b[1;36m1\u001b[0m.,  \u001b[1;36m1\u001b[0m.,  \u001b[1;36m1\u001b[0m.,  \u001b[1;36m1\u001b[0m.,  \u001b[1;36m0\u001b[0m.,  \u001b[1;36m1\u001b[0m.,  \u001b[1;36m1\u001b[0m.,  \u001b[1;36m1\u001b[0m.,  \u001b[1;36m0\u001b[0m.,  \u001b[1;36m1\u001b[0m.,  \u001b[1;36m1\u001b[0m.,  \u001b[1;36m1\u001b[0m.,\n",
       "        \u001b[1;36m0\u001b[0m.,  \u001b[1;36m1\u001b[0m.,  \u001b[1;36m0\u001b[0m., nan,  \u001b[1;36m0\u001b[0m.,  \u001b[1;36m0\u001b[0m.,  \u001b[1;36m0\u001b[0m.,  \u001b[1;36m1\u001b[0m.,  \u001b[1;36m1\u001b[0m.\u001b[1m]\u001b[0m\u001b[1m)\u001b[0m\n"
      ]
     },
     "metadata": {},
     "output_type": "display_data"
    }
   ],
   "source": [
    "rejected_final"
   ]
  },
  {
   "cell_type": "code",
   "execution_count": null,
   "id": "e517ed97",
   "metadata": {},
   "outputs": [],
   "source": []
  },
  {
   "cell_type": "code",
   "execution_count": 244,
   "id": "42939397",
   "metadata": {},
   "outputs": [
    {
     "data": {
      "image/png": "[encoded data removed]"
     },
     "metadata": {},
     "output_type": "display_data"
    }
   ],
   "source": [
    "tr_statistic = gr_ca.project_vec(_statistic, add_disjoint=False, thres=-np.inf)\n",
    "tr_pvalue_corrected = gr_ca.project_vec(pvals_corrected_final, add_disjoint=False, thres=-np.inf)\n",
    "tr_statistic = gr_ca.trim2d(tr_statistic)\n",
    "tr_pvalue_corrected = gr_ca.trim2d(tr_pvalue_corrected)\n",
    "\n",
    "\n",
    "fig, axes = create_figure(1, 3, (12, 3))\n",
    "\n",
    "alpha = 0.05\n",
    "\n",
    "vminmax = np.nanmax(np.abs(test.statistic))\n",
    "im = axes[0].imshow(\n",
    "    mwh(tr_statistic['top'] == 0, tr_statistic['proj-top'][0]),\n",
    "    cmap='bwr', vmin=-vminmax, vmax=vminmax)\n",
    "axes[0].set_title('statistic', fontsize=15, y=1.05)\n",
    "plt.colorbar(im, ax=axes[0])\n",
    "\n",
    "x = tr_statistic['proj-top'][0].copy()\n",
    "x[x > 0] = 1\n",
    "x[x < 0] = -1\n",
    "x[tr_pvalue_corrected['proj-top'][0] >= alpha] = 0\n",
    "im = axes[1].imshow(\n",
    "    mwh(tr_pvalue['top'] == 0.0, x),\n",
    "    cmap='bwr', vmin=-1.5, vmax=1.5)\n",
    "axes[1].set_title('red: bo > ca\\nblue: bo < ca', fontsize=15, y=1.05)\n",
    "plt.colorbar(im, ax=axes[1])\n",
    "\n",
    "im = axes[2].imshow(\n",
    "    mwh(tr_pvalue_corrected['top'] == 0, tr_pvalue_corrected['proj-top'][0]),\n",
    "    cmap='Spectral_r', vmin=alpha, vmax=1)\n",
    "axes[2].set_title('pval', fontsize=15, y=1.05)\n",
    "plt.colorbar(im, ax=axes[2])\n",
    "\n",
    "remove_ticks(axes)\n",
    "plt.show()"
   ]
  },
  {
   "cell_type": "code",
   "execution_count": null,
   "id": "a7408ab1",
   "metadata": {},
   "outputs": [],
   "source": []
  },
  {
   "cell_type": "code",
   "execution_count": null,
   "id": "093b06eb",
   "metadata": {},
   "outputs": [],
   "source": []
  },
  {
   "cell_type": "code",
   "execution_count": null,
   "id": "27a2138e",
   "metadata": {},
   "outputs": [],
   "source": []
  },
  {
   "cell_type": "code",
   "execution_count": null,
   "id": "fc44eaab",
   "metadata": {},
   "outputs": [],
   "source": []
  },
  {
   "cell_type": "code",
   "execution_count": null,
   "id": "b1b404dd",
   "metadata": {},
   "outputs": [],
   "source": []
  },
  {
   "cell_type": "code",
   "execution_count": null,
   "id": "5ded3252",
   "metadata": {},
   "outputs": [],
   "source": []
  },
  {
   "cell_type": "code",
   "execution_count": 130,
   "id": "bc33136b",
   "metadata": {},
   "outputs": [
    {
     "data": {
      "text/html": [
       "<pre style=\"white-space:pre;overflow-x:auto;line-height:normal;font-family:Menlo,'DejaVu Sans Mono',consolas,'Courier New',monospace\"><span style=\"color: #008080; text-decoration-color: #008080; font-weight: bold\">122</span>\n",
       "</pre>\n"
      ],
      "text/plain": [
       "\u001b[1;36m122\u001b[0m\n"
      ]
     },
     "metadata": {},
     "output_type": "display_data"
    }
   ],
   "source": [
    "good_nodes = np.logical_and(\n",
    "    np.isnan(y1).sum(0) < good_runs.sum() // 2,\n",
    "    np.isnan(y3).sum(0) < good_runs.sum() // 2,\n",
    ")\n",
    "good_nodes.sum()"
   ]
  },
  {
   "cell_type": "code",
   "execution_count": 131,
   "id": "bf0c81d0",
   "metadata": {},
   "outputs": [],
   "source": [
    "test = sp_stats.permutation_test(\n",
    "    data=(y1[:, good_nodes], y3[:, good_nodes]),\n",
    "    statistic=statistic,\n",
    "    permutation_type='samples',\n",
    "    alternative='two-sided',\n",
    "    n_resamples=int(1e4),\n",
    "    vectorized=True,\n",
    "    random_state=42,\n",
    "    batch=5,\n",
    "    axis=0,\n",
    ")"
   ]
  },
  {
   "cell_type": "code",
   "execution_count": 132,
   "id": "1fc1e8f1",
   "metadata": {},
   "outputs": [
    {
     "data": {
      "text/html": [
       "<pre style=\"white-space:pre;overflow-x:auto;line-height:normal;font-family:Menlo,'DejaVu Sans Mono',consolas,'Courier New',monospace\"><span style=\"font-weight: bold\">(</span><span style=\"color: #008080; text-decoration-color: #008080; font-weight: bold\">98</span>, <span style=\"color: #00ff00; text-decoration-color: #00ff00; font-style: italic\">True</span><span style=\"font-weight: bold\">)</span>\n",
       "</pre>\n"
      ],
      "text/plain": [
       "\u001b[1m(\u001b[0m\u001b[1;36m98\u001b[0m, \u001b[3;92mTrue\u001b[0m\u001b[1m)\u001b[0m\n"
      ]
     },
     "metadata": {},
     "output_type": "display_data"
    }
   ],
   "source": [
    "rejected, pvals_corrected = fdrcorrection(test.pvalue, method='p')\n",
    "rejected.sum(), np.array_equal(pvals_corrected < 0.05, rejected)"
   ]
  },
  {
   "cell_type": "code",
   "execution_count": null,
   "id": "5e73a803",
   "metadata": {},
   "outputs": [],
   "source": []
  },
  {
   "cell_type": "code",
   "execution_count": 82,
   "id": "8fab6d25",
   "metadata": {},
   "outputs": [
    {
     "data": {
      "image/png": "[encoded data removed]"
     },
     "metadata": {},
     "output_type": "display_data"
    }
   ],
   "source": [
    "ii = 38\n",
    "\n",
    "sns.histplot(test.null_distribution[:, ii])\n",
    "plt.axvline(test.statistic[ii], color='r')\n",
    "plt.title(f\"p-val = {test.pvalue[ii]:0.2g}\")\n",
    "plt.show()"
   ]
  },
  {
   "cell_type": "code",
   "execution_count": null,
   "id": "c6033b31",
   "metadata": {},
   "outputs": [],
   "source": []
  },
  {
   "cell_type": "code",
   "execution_count": 83,
   "id": "071aca5f",
   "metadata": {},
   "outputs": [
    {
     "data": {
      "image/png": "[encoded data removed]"
     },
     "metadata": {},
     "output_type": "display_data"
    }
   ],
   "source": [
    "_statistic = np_nans(len(h1))\n",
    "_pvalues = np_nans(len(h1))\n",
    "\n",
    "_statistic[good_nodes] = test.statistic\n",
    "_pvalues[good_nodes] = pvals_corrected\n",
    "\n",
    "\n",
    "tr_statistic = gr_ca.project_vec(_statistic, add_disjoint=False, thres=-np.inf)\n",
    "tr_pvalue_corrected = gr_ca.project_vec(_pvalues, add_disjoint=False, thres=-np.inf)\n",
    "tr_statistic = gr_ca.trim2d(tr_statistic)\n",
    "tr_pvalue_corrected = gr_ca.trim2d(tr_pvalue_corrected)\n",
    "\n",
    "\n",
    "fig, axes = create_figure(1, 3, (12, 3))\n",
    "\n",
    "alpha = 0.05\n",
    "\n",
    "vminmax = np.nanmax(np.abs(test.statistic))\n",
    "im = axes[0].imshow(\n",
    "    mwh(tr_statistic['top'] == 0, tr_statistic['proj-top'][0]),\n",
    "    cmap='bwr', vmin=-vminmax, vmax=vminmax)\n",
    "axes[0].set_title('statistic', fontsize=15, y=1.05)\n",
    "plt.colorbar(im, ax=axes[0])\n",
    "\n",
    "x = tr_statistic['proj-top'][0].copy()\n",
    "x[x > 0] = 1\n",
    "x[x < 0] = -1\n",
    "x[tr_pvalue_corrected['proj-top'][0] >= alpha] = 0\n",
    "im = axes[1].imshow(\n",
    "    mwh(tr_pvalue['top'] == 0.0, x),\n",
    "    cmap='bwr', vmin=-1.5, vmax=1.5)\n",
    "axes[1].set_title('red: bo > ca\\nblue: bo < ca', fontsize=15, y=1.05)\n",
    "plt.colorbar(im, ax=axes[1])\n",
    "\n",
    "im = axes[2].imshow(\n",
    "    mwh(tr_pvalue_corrected['top'] == 0, tr_pvalue_corrected['proj-top'][0]),\n",
    "    cmap='Spectral_r', vmin=alpha, vmax=1)\n",
    "axes[2].set_title('pval', fontsize=15, y=1.05)\n",
    "plt.colorbar(im, ax=axes[2])\n",
    "\n",
    "remove_ticks(axes)\n",
    "plt.show()"
   ]
  },
  {
   "cell_type": "code",
   "execution_count": null,
   "id": "27dfbfab",
   "metadata": {},
   "outputs": [],
   "source": []
  },
  {
   "cell_type": "code",
   "execution_count": 84,
   "id": "9e26813e",
   "metadata": {},
   "outputs": [
    {
     "data": {
      "text/html": [
       "<pre style=\"white-space:pre;overflow-x:auto;line-height:normal;font-family:Menlo,'DejaVu Sans Mono',consolas,'Courier New',monospace\"><span style=\"color: #008080; text-decoration-color: #008080; font-weight: bold\">122</span>\n",
       "</pre>\n"
      ],
      "text/plain": [
       "\u001b[1;36m122\u001b[0m\n"
      ]
     },
     "metadata": {},
     "output_type": "display_data"
    }
   ],
   "source": [
    "good_nodes = np.logical_and(\n",
    "    np.isnan(y2).sum(0) < good_runs.sum() // 2,\n",
    "    np.isnan(y3).sum(0) < good_runs.sum() // 2,\n",
    ")\n",
    "good_nodes.sum()"
   ]
  },
  {
   "cell_type": "code",
   "execution_count": 85,
   "id": "211cfd13",
   "metadata": {},
   "outputs": [],
   "source": [
    "test = sp_stats.permutation_test(\n",
    "    data=(y2[:, good_nodes], y3[:, good_nodes]),\n",
    "    statistic=statistic,\n",
    "    permutation_type='samples',\n",
    "    alternative='two-sided',\n",
    "    n_resamples=int(1e4),\n",
    "    vectorized=True,\n",
    "    random_state=42,\n",
    "    batch=5,\n",
    "    axis=0,\n",
    ")"
   ]
  },
  {
   "cell_type": "code",
   "execution_count": 86,
   "id": "94adc14f",
   "metadata": {},
   "outputs": [
    {
     "data": {
      "text/html": [
       "<pre style=\"white-space:pre;overflow-x:auto;line-height:normal;font-family:Menlo,'DejaVu Sans Mono',consolas,'Courier New',monospace\"><span style=\"font-weight: bold\">(</span><span style=\"color: #008080; text-decoration-color: #008080; font-weight: bold\">104</span>, <span style=\"color: #00ff00; text-decoration-color: #00ff00; font-style: italic\">True</span><span style=\"font-weight: bold\">)</span>\n",
       "</pre>\n"
      ],
      "text/plain": [
       "\u001b[1m(\u001b[0m\u001b[1;36m104\u001b[0m, \u001b[3;92mTrue\u001b[0m\u001b[1m)\u001b[0m\n"
      ]
     },
     "metadata": {},
     "output_type": "display_data"
    }
   ],
   "source": [
    "rejected, pvals_corrected = fdrcorrection(test.pvalue, method='p')\n",
    "rejected.sum(), np.array_equal(pvals_corrected < 0.05, rejected)"
   ]
  },
  {
   "cell_type": "code",
   "execution_count": null,
   "id": "c12cf4c4",
   "metadata": {},
   "outputs": [],
   "source": []
  },
  {
   "cell_type": "code",
   "execution_count": 87,
   "id": "e08957de",
   "metadata": {},
   "outputs": [
    {
     "data": {
      "image/png": "[encoded data removed]"
     },
     "metadata": {},
     "output_type": "display_data"
    }
   ],
   "source": [
    "ii = 38\n",
    "\n",
    "sns.histplot(test.null_distribution[:, ii])\n",
    "plt.axvline(test.statistic[ii], color='r')\n",
    "plt.title(f\"p-val = {test.pvalue[ii]:0.2g}\")\n",
    "plt.show()"
   ]
  },
  {
   "cell_type": "code",
   "execution_count": null,
   "id": "a622a34d",
   "metadata": {},
   "outputs": [],
   "source": []
  },
  {
   "cell_type": "code",
   "execution_count": 88,
   "id": "00f8a45d",
   "metadata": {},
   "outputs": [
    {
     "data": {
      "image/png": "[encoded data removed]"
     },
     "metadata": {},
     "output_type": "display_data"
    }
   ],
   "source": [
    "_statistic = np_nans(len(h1))\n",
    "_pvalues = np_nans(len(h1))\n",
    "\n",
    "_statistic[good_nodes] = test.statistic\n",
    "_pvalues[good_nodes] = pvals_corrected\n",
    "\n",
    "\n",
    "tr_statistic = gr_ca.project_vec(_statistic, add_disjoint=False, thres=-np.inf)\n",
    "tr_pvalue_corrected = gr_ca.project_vec(_pvalues, add_disjoint=False, thres=-np.inf)\n",
    "tr_statistic = gr_ca.trim2d(tr_statistic)\n",
    "tr_pvalue_corrected = gr_ca.trim2d(tr_pvalue_corrected)\n",
    "\n",
    "\n",
    "fig, axes = create_figure(1, 3, (12, 3))\n",
    "\n",
    "alpha = 0.05\n",
    "\n",
    "vminmax = np.nanmax(np.abs(test.statistic))\n",
    "im = axes[0].imshow(\n",
    "    mwh(tr_statistic['top'] == 0, tr_statistic['proj-top'][0]),\n",
    "    cmap='bwr', vmin=-vminmax, vmax=vminmax)\n",
    "axes[0].set_title('statistic', fontsize=15, y=1.05)\n",
    "plt.colorbar(im, ax=axes[0])\n",
    "\n",
    "x = tr_statistic['proj-top'][0].copy()\n",
    "x[x > 0] = 1\n",
    "x[x < 0] = -1\n",
    "x[tr_pvalue_corrected['proj-top'][0] >= alpha] = 0\n",
    "im = axes[1].imshow(\n",
    "    mwh(tr_pvalue['top'] == 0.0, x),\n",
    "    cmap='bwr', vmin=-1.5, vmax=1.5)\n",
    "axes[1].set_title('red: slow > fast\\nblue: slow < fast', fontsize=15, y=1.05)\n",
    "plt.colorbar(im, ax=axes[1])\n",
    "\n",
    "im = axes[2].imshow(\n",
    "    mwh(tr_pvalue_corrected['top'] == 0, tr_pvalue_corrected['proj-top'][0]),\n",
    "    cmap='Spectral_r', vmin=alpha, vmax=1)\n",
    "axes[2].set_title('pval', fontsize=15, y=1.05)\n",
    "plt.colorbar(im, ax=axes[2])\n",
    "\n",
    "remove_ticks(axes)\n",
    "plt.show()"
   ]
  },
  {
   "cell_type": "code",
   "execution_count": null,
   "id": "a42d5cdd",
   "metadata": {},
   "outputs": [],
   "source": []
  },
  {
   "cell_type": "code",
   "execution_count": null,
   "id": "8b90eebb",
   "metadata": {},
   "outputs": [],
   "source": []
  },
  {
   "cell_type": "code",
   "execution_count": null,
   "id": "b88ae31f",
   "metadata": {},
   "outputs": [],
   "source": []
  },
  {
   "cell_type": "code",
   "execution_count": null,
   "id": "12cbbd23",
   "metadata": {},
   "outputs": [],
   "source": []
  },
  {
   "cell_type": "code",
   "execution_count": null,
   "id": "49cf5e6a",
   "metadata": {},
   "outputs": [],
   "source": []
  },
  {
   "cell_type": "code",
   "execution_count": null,
   "id": "cc0a97b8",
   "metadata": {},
   "outputs": [],
   "source": []
  },
  {
   "cell_type": "code",
   "execution_count": null,
   "id": "f5b8226d",
   "metadata": {},
   "outputs": [],
   "source": []
  }
 ],
 "metadata": {
  "kernelspec": {
   "display_name": "Python 3 (ipykernel)",
   "language": "python",
   "name": "python3"
  },
  "language_info": {
   "codemirror_mode": {
    "name": "ipython",
    "version": 3
   },
   "file_extension": ".py",
   "mimetype": "text/x-python",
   "name": "python",
   "nbconvert_exporter": "python",
   "pygments_lexer": "ipython3",
   "version": "3.8.5"
  }
 },
 "nbformat": 4,
 "nbformat_minor": 5
}
