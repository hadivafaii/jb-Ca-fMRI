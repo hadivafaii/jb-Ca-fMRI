{
 "cells": [
  {
   "cell_type": "markdown",
   "id": "a9736f88",
   "metadata": {},
   "source": [
    "# Jun 14th, 2022 (ttest + ovp score new)\n",
    "\n",
    "**Motivation**: This allows to prune + calculate ovp scores in a much more principled way <br>"
   ]
  },
  {
   "cell_type": "code",
   "execution_count": 1,
   "id": "5360bb70",
   "metadata": {
    "tags": [
     "hide-input"
    ]
   },
   "outputs": [],
   "source": [
    "# HIDE CODE\n",
    "\n",
    "\n",
    "import os\n",
    "import sys\n",
    "from pprint import pprint\n",
    "from copy import deepcopy as dc\n",
    "from os.path import join as pjoin\n",
    "from scipy.ndimage import gaussian_filter\n",
    "from IPython.display import display, IFrame, HTML\n",
    "\n",
    "# tmp & extras dir\n",
    "git_dir = pjoin(os.environ['HOME'], 'Dropbox/git')\n",
    "extras_dir = pjoin(git_dir, 'jb-Ca-fMRI/_extras')\n",
    "fig_base_dir = pjoin(git_dir, 'jb-Ca-fMRI/figs')\n",
    "tmp_dir = pjoin(git_dir, 'jb-Ca-fMRI/tmp')\n",
    "\n",
    "# GitHub\n",
    "sys.path.insert(0, pjoin(git_dir, '_Ca-fMRI'))\n",
    "from model.configuration import Config\n",
    "from model.mouse import Mice\n",
    "from analysis.network import *\n",
    "from analysis.group import *\n",
    "from utils.render import *\n",
    "\n",
    "# warnings, tqdm, & style\n",
    "warnings.filterwarnings('ignore', category=DeprecationWarning)\n",
    "from tqdm.notebook import tqdm\n",
    "%matplotlib inline\n",
    "set_style()"
   ]
  },
  {
   "cell_type": "markdown",
   "id": "644b50bb",
   "metadata": {},
   "source": [
    "## Prepare"
   ]
  },
  {
   "cell_type": "code",
   "execution_count": 2,
   "id": "e8866510",
   "metadata": {},
   "outputs": [],
   "source": [
    "mice = Mice(128)\n",
    "\n",
    "_BOLD = 'BOLD'\n",
    "_CAS = r'Ca$^{2\\!\\!+}$' + ' (slow)'\n",
    "_CAF = r'Ca$^{2\\!\\!+}$' + ' (fast)'\n",
    "mako = sns.color_palette('mako', as_cmap=True)\n",
    "rocket = sns.color_palette('rocket', as_cmap=True)\n",
    "pal = {_BOLD: rocket(0.6), _CAS: mako(0.6), _CAF: to_rgb('C8')} # mako(0.3)}"
   ]
  },
  {
   "cell_type": "code",
   "execution_count": 3,
   "id": "df0c72fa",
   "metadata": {},
   "outputs": [],
   "source": [
    "task = 'rest'\n",
    "b = (0.01, 0.5)\n",
    "mice.setup_func_data(task, band_ca=b)\n",
    "\n",
    "num_k, p = 7, 20\n",
    "perc = f'p{p}-sample'\n",
    "props_base = {\n",
    "    'kw_kmeans': {'n_init': 100},\n",
    "    'perc': perc,\n",
    "    'num_k': num_k,\n",
    "    'mice': mice,\n",
    "    'task': task,\n",
    "    'metric': 'pearson',\n",
    "    'match_using': 'gam',\n",
    "    'match_metric': 'euclidean',\n",
    "    'graph_type': 'real',\n",
    "    'verbose': False,\n",
    "}\n",
    "props_ca = {'mode': 'ca2', **props_base}\n",
    "props_bo = {'mode': 'bold-lite', **props_base}\n",
    "\n",
    "gr_ca = Group(**props_ca).fit_group()\n",
    "gr_bo = Group(**props_bo).fit_group()"
   ]
  },
  {
   "cell_type": "code",
   "execution_count": 4,
   "id": "2f34999b",
   "metadata": {},
   "outputs": [],
   "source": [
    "gr_ca.avg()"
   ]
  },
  {
   "cell_type": "code",
   "execution_count": 5,
   "id": "29870832",
   "metadata": {},
   "outputs": [
    {
     "data": {
      "text/html": [
       "<pre style=\"white-space:pre;overflow-x:auto;line-height:normal;font-family:Menlo,'DejaVu Sans Mono',consolas,'Courier New',monospace\"><span style=\"font-weight: bold\">(</span>\n",
       "    <span style=\"font-weight: bold\">{</span>\n",
       "        <span style=\"color: #008080; text-decoration-color: #008080; font-weight: bold\">1</span>: <span style=\"color: #008080; text-decoration-color: #008080; font-weight: bold\">0.989</span>,\n",
       "        <span style=\"color: #008080; text-decoration-color: #008080; font-weight: bold\">2</span>: <span style=\"color: #008080; text-decoration-color: #008080; font-weight: bold\">0.99</span>,\n",
       "        <span style=\"color: #008080; text-decoration-color: #008080; font-weight: bold\">3</span>: <span style=\"color: #008080; text-decoration-color: #008080; font-weight: bold\">0.995</span>,\n",
       "        <span style=\"color: #008080; text-decoration-color: #008080; font-weight: bold\">4</span>: <span style=\"color: #008080; text-decoration-color: #008080; font-weight: bold\">0.994</span>,\n",
       "        <span style=\"color: #008080; text-decoration-color: #008080; font-weight: bold\">5</span>: <span style=\"color: #008080; text-decoration-color: #008080; font-weight: bold\">0.988</span>,\n",
       "        <span style=\"color: #008080; text-decoration-color: #008080; font-weight: bold\">6</span>: <span style=\"color: #008080; text-decoration-color: #008080; font-weight: bold\">0.991</span>,\n",
       "        <span style=\"color: #008080; text-decoration-color: #008080; font-weight: bold\">7</span>: <span style=\"color: #008080; text-decoration-color: #008080; font-weight: bold\">0.998</span>,\n",
       "        <span style=\"color: #008080; text-decoration-color: #008080; font-weight: bold\">-1</span>: <span style=\"color: #008080; text-decoration-color: #008080; font-weight: bold\">0.992</span>\n",
       "    <span style=\"font-weight: bold\">}</span>,\n",
       "    <span style=\"font-weight: bold\">{</span>\n",
       "        <span style=\"color: #008080; text-decoration-color: #008080; font-weight: bold\">1</span>: <span style=\"color: #008080; text-decoration-color: #008080; font-weight: bold\">0.987</span>,\n",
       "        <span style=\"color: #008080; text-decoration-color: #008080; font-weight: bold\">2</span>: <span style=\"color: #008080; text-decoration-color: #008080; font-weight: bold\">1.0</span>,\n",
       "        <span style=\"color: #008080; text-decoration-color: #008080; font-weight: bold\">3</span>: <span style=\"color: #008080; text-decoration-color: #008080; font-weight: bold\">0.974</span>,\n",
       "        <span style=\"color: #008080; text-decoration-color: #008080; font-weight: bold\">4</span>: <span style=\"color: #008080; text-decoration-color: #008080; font-weight: bold\">0.987</span>,\n",
       "        <span style=\"color: #008080; text-decoration-color: #008080; font-weight: bold\">5</span>: <span style=\"color: #008080; text-decoration-color: #008080; font-weight: bold\">0.987</span>,\n",
       "        <span style=\"color: #008080; text-decoration-color: #008080; font-weight: bold\">6</span>: <span style=\"color: #008080; text-decoration-color: #008080; font-weight: bold\">0.987</span>,\n",
       "        <span style=\"color: #008080; text-decoration-color: #008080; font-weight: bold\">7</span>: <span style=\"color: #008080; text-decoration-color: #008080; font-weight: bold\">1.0</span>,\n",
       "        <span style=\"color: #008080; text-decoration-color: #008080; font-weight: bold\">-1</span>: <span style=\"color: #008080; text-decoration-color: #008080; font-weight: bold\">0.989</span>\n",
       "    <span style=\"font-weight: bold\">}</span>\n",
       "<span style=\"font-weight: bold\">)</span>\n",
       "</pre>\n"
      ],
      "text/plain": [
       "\u001b[1m(\u001b[0m\n",
       "    \u001b[1m{\u001b[0m\n",
       "        \u001b[1;36m1\u001b[0m: \u001b[1;36m0.989\u001b[0m,\n",
       "        \u001b[1;36m2\u001b[0m: \u001b[1;36m0.99\u001b[0m,\n",
       "        \u001b[1;36m3\u001b[0m: \u001b[1;36m0.995\u001b[0m,\n",
       "        \u001b[1;36m4\u001b[0m: \u001b[1;36m0.994\u001b[0m,\n",
       "        \u001b[1;36m5\u001b[0m: \u001b[1;36m0.988\u001b[0m,\n",
       "        \u001b[1;36m6\u001b[0m: \u001b[1;36m0.991\u001b[0m,\n",
       "        \u001b[1;36m7\u001b[0m: \u001b[1;36m0.998\u001b[0m,\n",
       "        \u001b[1;36m-1\u001b[0m: \u001b[1;36m0.992\u001b[0m\n",
       "    \u001b[1m}\u001b[0m,\n",
       "    \u001b[1m{\u001b[0m\n",
       "        \u001b[1;36m1\u001b[0m: \u001b[1;36m0.987\u001b[0m,\n",
       "        \u001b[1;36m2\u001b[0m: \u001b[1;36m1.0\u001b[0m,\n",
       "        \u001b[1;36m3\u001b[0m: \u001b[1;36m0.974\u001b[0m,\n",
       "        \u001b[1;36m4\u001b[0m: \u001b[1;36m0.987\u001b[0m,\n",
       "        \u001b[1;36m5\u001b[0m: \u001b[1;36m0.987\u001b[0m,\n",
       "        \u001b[1;36m6\u001b[0m: \u001b[1;36m0.987\u001b[0m,\n",
       "        \u001b[1;36m7\u001b[0m: \u001b[1;36m1.0\u001b[0m,\n",
       "        \u001b[1;36m-1\u001b[0m: \u001b[1;36m0.989\u001b[0m\n",
       "    \u001b[1m}\u001b[0m\n",
       "\u001b[1m)\u001b[0m\n"
      ]
     },
     "metadata": {},
     "output_type": "display_data"
    }
   ],
   "source": [
    "gr_ca.pi_symmetry_score()"
   ]
  },
  {
   "cell_type": "code",
   "execution_count": 6,
   "id": "7a080ca0",
   "metadata": {},
   "outputs": [],
   "source": [
    "pi_prune = gr_ca.prune()\n",
    "pi = avg(pi_prune)"
   ]
  },
  {
   "cell_type": "code",
   "execution_count": 7,
   "id": "11876f42",
   "metadata": {},
   "outputs": [
    {
     "data": {
      "text/html": [
       "<pre style=\"white-space:pre;overflow-x:auto;line-height:normal;font-family:Menlo,'DejaVu Sans Mono',consolas,'Courier New',monospace\"><span style=\"font-weight: bold\">(</span>\n",
       "    <span style=\"font-weight: bold\">{</span>\n",
       "        <span style=\"color: #008080; text-decoration-color: #008080; font-weight: bold\">1</span>: <span style=\"color: #008080; text-decoration-color: #008080; font-weight: bold\">0.984</span>,\n",
       "        <span style=\"color: #008080; text-decoration-color: #008080; font-weight: bold\">2</span>: <span style=\"color: #008080; text-decoration-color: #008080; font-weight: bold\">0.982</span>,\n",
       "        <span style=\"color: #008080; text-decoration-color: #008080; font-weight: bold\">3</span>: <span style=\"color: #008080; text-decoration-color: #008080; font-weight: bold\">0.991</span>,\n",
       "        <span style=\"color: #008080; text-decoration-color: #008080; font-weight: bold\">4</span>: <span style=\"color: #008080; text-decoration-color: #008080; font-weight: bold\">0.988</span>,\n",
       "        <span style=\"color: #008080; text-decoration-color: #008080; font-weight: bold\">5</span>: <span style=\"color: #008080; text-decoration-color: #008080; font-weight: bold\">0.996</span>,\n",
       "        <span style=\"color: #008080; text-decoration-color: #008080; font-weight: bold\">6</span>: <span style=\"color: #008080; text-decoration-color: #008080; font-weight: bold\">0.975</span>,\n",
       "        <span style=\"color: #008080; text-decoration-color: #008080; font-weight: bold\">7</span>: <span style=\"color: #008080; text-decoration-color: #008080; font-weight: bold\">0.98</span>,\n",
       "        <span style=\"color: #008080; text-decoration-color: #008080; font-weight: bold\">-1</span>: <span style=\"color: #008080; text-decoration-color: #008080; font-weight: bold\">0.985</span>\n",
       "    <span style=\"font-weight: bold\">}</span>,\n",
       "    <span style=\"font-weight: bold\">{</span>\n",
       "        <span style=\"color: #008080; text-decoration-color: #008080; font-weight: bold\">1</span>: <span style=\"color: #008080; text-decoration-color: #008080; font-weight: bold\">0.987</span>,\n",
       "        <span style=\"color: #008080; text-decoration-color: #008080; font-weight: bold\">2</span>: <span style=\"color: #008080; text-decoration-color: #008080; font-weight: bold\">1.0</span>,\n",
       "        <span style=\"color: #008080; text-decoration-color: #008080; font-weight: bold\">3</span>: <span style=\"color: #008080; text-decoration-color: #008080; font-weight: bold\">0.974</span>,\n",
       "        <span style=\"color: #008080; text-decoration-color: #008080; font-weight: bold\">4</span>: <span style=\"color: #008080; text-decoration-color: #008080; font-weight: bold\">0.987</span>,\n",
       "        <span style=\"color: #008080; text-decoration-color: #008080; font-weight: bold\">5</span>: <span style=\"color: #008080; text-decoration-color: #008080; font-weight: bold\">1.0</span>,\n",
       "        <span style=\"color: #008080; text-decoration-color: #008080; font-weight: bold\">6</span>: <span style=\"color: #008080; text-decoration-color: #008080; font-weight: bold\">0.987</span>,\n",
       "        <span style=\"color: #008080; text-decoration-color: #008080; font-weight: bold\">7</span>: <span style=\"color: #008080; text-decoration-color: #008080; font-weight: bold\">0.987</span>,\n",
       "        <span style=\"color: #008080; text-decoration-color: #008080; font-weight: bold\">-1</span>: <span style=\"color: #008080; text-decoration-color: #008080; font-weight: bold\">0.989</span>\n",
       "    <span style=\"font-weight: bold\">}</span>\n",
       "<span style=\"font-weight: bold\">)</span>\n",
       "</pre>\n"
      ],
      "text/plain": [
       "\u001b[1m(\u001b[0m\n",
       "    \u001b[1m{\u001b[0m\n",
       "        \u001b[1;36m1\u001b[0m: \u001b[1;36m0.984\u001b[0m,\n",
       "        \u001b[1;36m2\u001b[0m: \u001b[1;36m0.982\u001b[0m,\n",
       "        \u001b[1;36m3\u001b[0m: \u001b[1;36m0.991\u001b[0m,\n",
       "        \u001b[1;36m4\u001b[0m: \u001b[1;36m0.988\u001b[0m,\n",
       "        \u001b[1;36m5\u001b[0m: \u001b[1;36m0.996\u001b[0m,\n",
       "        \u001b[1;36m6\u001b[0m: \u001b[1;36m0.975\u001b[0m,\n",
       "        \u001b[1;36m7\u001b[0m: \u001b[1;36m0.98\u001b[0m,\n",
       "        \u001b[1;36m-1\u001b[0m: \u001b[1;36m0.985\u001b[0m\n",
       "    \u001b[1m}\u001b[0m,\n",
       "    \u001b[1m{\u001b[0m\n",
       "        \u001b[1;36m1\u001b[0m: \u001b[1;36m0.987\u001b[0m,\n",
       "        \u001b[1;36m2\u001b[0m: \u001b[1;36m1.0\u001b[0m,\n",
       "        \u001b[1;36m3\u001b[0m: \u001b[1;36m0.974\u001b[0m,\n",
       "        \u001b[1;36m4\u001b[0m: \u001b[1;36m0.987\u001b[0m,\n",
       "        \u001b[1;36m5\u001b[0m: \u001b[1;36m1.0\u001b[0m,\n",
       "        \u001b[1;36m6\u001b[0m: \u001b[1;36m0.987\u001b[0m,\n",
       "        \u001b[1;36m7\u001b[0m: \u001b[1;36m0.987\u001b[0m,\n",
       "        \u001b[1;36m-1\u001b[0m: \u001b[1;36m0.989\u001b[0m\n",
       "    \u001b[1m}\u001b[0m\n",
       "\u001b[1m)\u001b[0m\n"
      ]
     },
     "metadata": {},
     "output_type": "display_data"
    }
   ],
   "source": [
    "gr_ca.pi_symmetry_score(pi)"
   ]
  },
  {
   "cell_type": "code",
   "execution_count": 8,
   "id": "bed3d6a7",
   "metadata": {},
   "outputs": [
    {
     "data": {
      "image/png": "[encoded data removed]"
     },
     "metadata": {},
     "output_type": "display_data"
    }
   ],
   "source": [
    "_ = gr_ca.show({'raw': gr_ca.pi, 'pr': pi}, vmin=0.1, vmax=1.0, figsize=(25, 5))"
   ]
  },
  {
   "cell_type": "code",
   "execution_count": null,
   "id": "f981bb27",
   "metadata": {},
   "outputs": [],
   "source": []
  },
  {
   "cell_type": "code",
   "execution_count": 9,
   "id": "2754b90a",
   "metadata": {},
   "outputs": [
    {
     "data": {
      "text/html": [
       "<pre style=\"white-space:pre;overflow-x:auto;line-height:normal;font-family:Menlo,'DejaVu Sans Mono',consolas,'Courier New',monospace\"><span style=\"font-weight: bold\">(</span><span style=\"color: #008080; text-decoration-color: #008080; font-weight: bold\">10</span>, <span style=\"color: #008080; text-decoration-color: #008080; font-weight: bold\">3</span>, <span style=\"color: #008080; text-decoration-color: #008080; font-weight: bold\">4</span>, <span style=\"color: #008080; text-decoration-color: #008080; font-weight: bold\">300</span>, <span style=\"color: #008080; text-decoration-color: #008080; font-weight: bold\">7</span>, <span style=\"color: #008080; text-decoration-color: #008080; font-weight: bold\">152</span><span style=\"font-weight: bold\">)</span>\n",
       "</pre>\n"
      ],
      "text/plain": [
       "\u001b[1m(\u001b[0m\u001b[1;36m10\u001b[0m, \u001b[1;36m3\u001b[0m, \u001b[1;36m4\u001b[0m, \u001b[1;36m300\u001b[0m, \u001b[1;36m7\u001b[0m, \u001b[1;36m152\u001b[0m\u001b[1m)\u001b[0m\n"
      ]
     },
     "metadata": {},
     "output_type": "display_data"
    }
   ],
   "source": [
    "pi_prune.shape"
   ]
  },
  {
   "cell_type": "code",
   "execution_count": 10,
   "id": "bf4fbdc0",
   "metadata": {},
   "outputs": [
    {
     "name": "stdout",
     "output_type": "stream",
     "text": [
      "CPU times: user 2min 15s, sys: 1min 24s, total: 3min 40s\n",
      "Wall time: 3min 40s\n"
     ]
    },
    {
     "data": {
      "text/html": [
       "<pre style=\"white-space:pre;overflow-x:auto;line-height:normal;font-family:Menlo,'DejaVu Sans Mono',consolas,'Courier New',monospace\"><span style=\"font-weight: bold\">((</span><span style=\"color: #008080; text-decoration-color: #008080; font-weight: bold\">1000</span>, <span style=\"color: #008080; text-decoration-color: #008080; font-weight: bold\">7</span>, <span style=\"color: #008080; text-decoration-color: #008080; font-weight: bold\">152</span><span style=\"font-weight: bold\">)</span>, <span style=\"font-weight: bold\">(</span><span style=\"color: #008080; text-decoration-color: #008080; font-weight: bold\">7</span>, <span style=\"color: #008080; text-decoration-color: #008080; font-weight: bold\">152</span><span style=\"font-weight: bold\">))</span>\n",
       "</pre>\n"
      ],
      "text/plain": [
       "\u001b[1m(\u001b[0m\u001b[1m(\u001b[0m\u001b[1;36m1000\u001b[0m, \u001b[1;36m7\u001b[0m, \u001b[1;36m152\u001b[0m\u001b[1m)\u001b[0m, \u001b[1m(\u001b[0m\u001b[1;36m7\u001b[0m, \u001b[1;36m152\u001b[0m\u001b[1m)\u001b[0m\u001b[1m)\u001b[0m\n"
      ]
     },
     "metadata": {},
     "output_type": "display_data"
    }
   ],
   "source": [
    "%%time\n",
    "\n",
    "boot = bootstrap(\n",
    "    x=pi_prune,\n",
    "    n_resamples=int(1e3),\n",
    "    statistic=lambda a: avg(a, 2, 1),\n",
    "    skip=['d0'],\n",
    "    dims=4,\n",
    ")\n",
    "se = bn.nanstd(boot, 0, ddof=1)\n",
    "boot.shape, se.shape"
   ]
  },
  {
   "cell_type": "code",
   "execution_count": null,
   "id": "ade0b850",
   "metadata": {},
   "outputs": [],
   "source": []
  },
  {
   "cell_type": "code",
   "execution_count": 92,
   "id": "88bcaa94",
   "metadata": {},
   "outputs": [
    {
     "data": {
      "text/html": [
       "<pre style=\"white-space:pre;overflow-x:auto;line-height:normal;font-family:Menlo,'DejaVu Sans Mono',consolas,'Courier New',monospace\"><span style=\"font-weight: bold\">(</span><span style=\"color: #800080; text-decoration-color: #800080; font-weight: bold\">Counter</span><span style=\"font-weight: bold\">({</span><span style=\"color: #008080; text-decoration-color: #008080; font-weight: bold\">2.0</span>: <span style=\"color: #008080; text-decoration-color: #008080; font-weight: bold\">45</span>, <span style=\"color: #008080; text-decoration-color: #008080; font-weight: bold\">1.0</span>: <span style=\"color: #008080; text-decoration-color: #008080; font-weight: bold\">30</span>, <span style=\"color: #008080; text-decoration-color: #008080; font-weight: bold\">3.0</span>: <span style=\"color: #008080; text-decoration-color: #008080; font-weight: bold\">55</span>, <span style=\"color: #008080; text-decoration-color: #008080; font-weight: bold\">4.0</span>: <span style=\"color: #008080; text-decoration-color: #008080; font-weight: bold\">15</span>, <span style=\"color: #008080; text-decoration-color: #008080; font-weight: bold\">5.0</span>: <span style=\"color: #008080; text-decoration-color: #008080; font-weight: bold\">7</span><span style=\"font-weight: bold\">})</span>, <span style=\"color: #008080; text-decoration-color: #008080; font-weight: bold\">0.8026315789473684</span><span style=\"font-weight: bold\">)</span>\n",
       "</pre>\n"
      ],
      "text/plain": [
       "\u001b[1m(\u001b[0m\u001b[1;35mCounter\u001b[0m\u001b[1m(\u001b[0m\u001b[1m{\u001b[0m\u001b[1;36m2.0\u001b[0m: \u001b[1;36m45\u001b[0m, \u001b[1;36m1.0\u001b[0m: \u001b[1;36m30\u001b[0m, \u001b[1;36m3.0\u001b[0m: \u001b[1;36m55\u001b[0m, \u001b[1;36m4.0\u001b[0m: \u001b[1;36m15\u001b[0m, \u001b[1;36m5.0\u001b[0m: \u001b[1;36m7\u001b[0m\u001b[1m}\u001b[0m\u001b[1m)\u001b[0m, \u001b[1;36m0.8026315789473684\u001b[0m\u001b[1m)\u001b[0m\n"
      ]
     },
     "metadata": {},
     "output_type": "display_data"
    }
   ],
   "source": [
    "reject, pvals = gr_ca.ttest(se, pi, mu=0.05)\n",
    "counts = collections.Counter(reject.sum(0))\n",
    "counts, 1 - counts.get(1) / sum(counts.values())"
   ]
  },
  {
   "cell_type": "code",
   "execution_count": 93,
   "id": "be834757",
   "metadata": {},
   "outputs": [
    {
     "data": {
      "text/html": [
       "<pre style=\"white-space:pre;overflow-x:auto;line-height:normal;font-family:Menlo,'DejaVu Sans Mono',consolas,'Courier New',monospace\"><span style=\"font-weight: bold\">(</span><span style=\"color: #800080; text-decoration-color: #800080; font-weight: bold\">Counter</span><span style=\"font-weight: bold\">({</span><span style=\"color: #008080; text-decoration-color: #008080; font-weight: bold\">2.0</span>: <span style=\"color: #008080; text-decoration-color: #008080; font-weight: bold\">63</span>, <span style=\"color: #008080; text-decoration-color: #008080; font-weight: bold\">1.0</span>: <span style=\"color: #008080; text-decoration-color: #008080; font-weight: bold\">51</span>, <span style=\"color: #008080; text-decoration-color: #008080; font-weight: bold\">3.0</span>: <span style=\"color: #008080; text-decoration-color: #008080; font-weight: bold\">34</span>, <span style=\"color: #008080; text-decoration-color: #008080; font-weight: bold\">4.0</span>: <span style=\"color: #008080; text-decoration-color: #008080; font-weight: bold\">3</span>, <span style=\"color: #008080; text-decoration-color: #008080; font-weight: bold\">5.0</span>: <span style=\"color: #008080; text-decoration-color: #008080; font-weight: bold\">1</span><span style=\"font-weight: bold\">})</span>, <span style=\"color: #008080; text-decoration-color: #008080; font-weight: bold\">0.6644736842105263</span><span style=\"font-weight: bold\">)</span>\n",
       "</pre>\n"
      ],
      "text/plain": [
       "\u001b[1m(\u001b[0m\u001b[1;35mCounter\u001b[0m\u001b[1m(\u001b[0m\u001b[1m{\u001b[0m\u001b[1;36m2.0\u001b[0m: \u001b[1;36m63\u001b[0m, \u001b[1;36m1.0\u001b[0m: \u001b[1;36m51\u001b[0m, \u001b[1;36m3.0\u001b[0m: \u001b[1;36m34\u001b[0m, \u001b[1;36m4.0\u001b[0m: \u001b[1;36m3\u001b[0m, \u001b[1;36m5.0\u001b[0m: \u001b[1;36m1\u001b[0m\u001b[1m}\u001b[0m\u001b[1m)\u001b[0m, \u001b[1;36m0.6644736842105263\u001b[0m\u001b[1m)\u001b[0m\n"
      ]
     },
     "metadata": {},
     "output_type": "display_data"
    }
   ],
   "source": [
    "reject, pvals = gr_ca.ttest(se, pi, mu=0.1)\n",
    "counts = collections.Counter(reject.sum(0))\n",
    "counts, 1 - counts.get(1) / sum(counts.values())"
   ]
  },
  {
   "cell_type": "code",
   "execution_count": 94,
   "id": "f2d4570d",
   "metadata": {},
   "outputs": [
    {
     "data": {
      "text/html": [
       "<pre style=\"white-space:pre;overflow-x:auto;line-height:normal;font-family:Menlo,'DejaVu Sans Mono',consolas,'Courier New',monospace\"><span style=\"font-weight: bold\">(</span><span style=\"color: #800080; text-decoration-color: #800080; font-weight: bold\">Counter</span><span style=\"font-weight: bold\">({</span><span style=\"color: #008080; text-decoration-color: #008080; font-weight: bold\">2.0</span>: <span style=\"color: #008080; text-decoration-color: #008080; font-weight: bold\">59</span>, <span style=\"color: #008080; text-decoration-color: #008080; font-weight: bold\">1.0</span>: <span style=\"color: #008080; text-decoration-color: #008080; font-weight: bold\">74</span>, <span style=\"color: #008080; text-decoration-color: #008080; font-weight: bold\">3.0</span>: <span style=\"color: #008080; text-decoration-color: #008080; font-weight: bold\">18</span>, <span style=\"color: #008080; text-decoration-color: #008080; font-weight: bold\">4.0</span>: <span style=\"color: #008080; text-decoration-color: #008080; font-weight: bold\">1</span><span style=\"font-weight: bold\">})</span>, <span style=\"color: #008080; text-decoration-color: #008080; font-weight: bold\">0.513157894736842</span><span style=\"font-weight: bold\">)</span>\n",
       "</pre>\n"
      ],
      "text/plain": [
       "\u001b[1m(\u001b[0m\u001b[1;35mCounter\u001b[0m\u001b[1m(\u001b[0m\u001b[1m{\u001b[0m\u001b[1;36m2.0\u001b[0m: \u001b[1;36m59\u001b[0m, \u001b[1;36m1.0\u001b[0m: \u001b[1;36m74\u001b[0m, \u001b[1;36m3.0\u001b[0m: \u001b[1;36m18\u001b[0m, \u001b[1;36m4.0\u001b[0m: \u001b[1;36m1\u001b[0m\u001b[1m}\u001b[0m\u001b[1m)\u001b[0m, \u001b[1;36m0.513157894736842\u001b[0m\u001b[1m)\u001b[0m\n"
      ]
     },
     "metadata": {},
     "output_type": "display_data"
    }
   ],
   "source": [
    "reject, pvals = gr_ca.ttest(se, pi, mu=0.15)\n",
    "counts = collections.Counter(reject.sum(0))\n",
    "counts, 1 - counts.get(1) / sum(counts.values())"
   ]
  },
  {
   "cell_type": "code",
   "execution_count": 95,
   "id": "1257d565",
   "metadata": {},
   "outputs": [
    {
     "data": {
      "text/html": [
       "<pre style=\"white-space:pre;overflow-x:auto;line-height:normal;font-family:Menlo,'DejaVu Sans Mono',consolas,'Courier New',monospace\"><span style=\"font-weight: bold\">(</span><span style=\"color: #800080; text-decoration-color: #800080; font-weight: bold\">Counter</span><span style=\"font-weight: bold\">({</span><span style=\"color: #008080; text-decoration-color: #008080; font-weight: bold\">2.0</span>: <span style=\"color: #008080; text-decoration-color: #008080; font-weight: bold\">51</span>, <span style=\"color: #008080; text-decoration-color: #008080; font-weight: bold\">1.0</span>: <span style=\"color: #008080; text-decoration-color: #008080; font-weight: bold\">97</span>, <span style=\"color: #008080; text-decoration-color: #008080; font-weight: bold\">3.0</span>: <span style=\"color: #008080; text-decoration-color: #008080; font-weight: bold\">4</span><span style=\"font-weight: bold\">})</span>, <span style=\"color: #008080; text-decoration-color: #008080; font-weight: bold\">0.36184210526315785</span><span style=\"font-weight: bold\">)</span>\n",
       "</pre>\n"
      ],
      "text/plain": [
       "\u001b[1m(\u001b[0m\u001b[1;35mCounter\u001b[0m\u001b[1m(\u001b[0m\u001b[1m{\u001b[0m\u001b[1;36m2.0\u001b[0m: \u001b[1;36m51\u001b[0m, \u001b[1;36m1.0\u001b[0m: \u001b[1;36m97\u001b[0m, \u001b[1;36m3.0\u001b[0m: \u001b[1;36m4\u001b[0m\u001b[1m}\u001b[0m\u001b[1m)\u001b[0m, \u001b[1;36m0.36184210526315785\u001b[0m\u001b[1m)\u001b[0m\n"
      ]
     },
     "metadata": {},
     "output_type": "display_data"
    }
   ],
   "source": [
    "reject, pvals = gr_ca.ttest(se, pi, mu=0.2)\n",
    "counts = collections.Counter(reject.sum(0))\n",
    "counts, 1 - counts.get(1) / sum(counts.values())"
   ]
  },
  {
   "cell_type": "code",
   "execution_count": null,
   "id": "a8ab5140",
   "metadata": {},
   "outputs": [],
   "source": []
  },
  {
   "cell_type": "code",
   "execution_count": 108,
   "id": "bbb7340c",
   "metadata": {},
   "outputs": [
    {
     "data": {
      "text/html": [
       "<pre style=\"white-space:pre;overflow-x:auto;line-height:normal;font-family:Menlo,'DejaVu Sans Mono',consolas,'Courier New',monospace\"><span style=\"font-weight: bold\">(</span><span style=\"color: #800080; text-decoration-color: #800080; font-weight: bold\">Counter</span><span style=\"font-weight: bold\">({</span><span style=\"color: #008080; text-decoration-color: #008080; font-weight: bold\">2.0</span>: <span style=\"color: #008080; text-decoration-color: #008080; font-weight: bold\">59</span>, <span style=\"color: #008080; text-decoration-color: #008080; font-weight: bold\">1.0</span>: <span style=\"color: #008080; text-decoration-color: #008080; font-weight: bold\">74</span>, <span style=\"color: #008080; text-decoration-color: #008080; font-weight: bold\">3.0</span>: <span style=\"color: #008080; text-decoration-color: #008080; font-weight: bold\">18</span>, <span style=\"color: #008080; text-decoration-color: #008080; font-weight: bold\">4.0</span>: <span style=\"color: #008080; text-decoration-color: #008080; font-weight: bold\">1</span><span style=\"font-weight: bold\">})</span>, <span style=\"color: #008080; text-decoration-color: #008080; font-weight: bold\">0.513157894736842</span><span style=\"font-weight: bold\">)</span>\n",
       "</pre>\n"
      ],
      "text/plain": [
       "\u001b[1m(\u001b[0m\u001b[1;35mCounter\u001b[0m\u001b[1m(\u001b[0m\u001b[1m{\u001b[0m\u001b[1;36m2.0\u001b[0m: \u001b[1;36m59\u001b[0m, \u001b[1;36m1.0\u001b[0m: \u001b[1;36m74\u001b[0m, \u001b[1;36m3.0\u001b[0m: \u001b[1;36m18\u001b[0m, \u001b[1;36m4.0\u001b[0m: \u001b[1;36m1\u001b[0m\u001b[1m}\u001b[0m\u001b[1m)\u001b[0m, \u001b[1;36m0.513157894736842\u001b[0m\u001b[1m)\u001b[0m\n"
      ]
     },
     "metadata": {},
     "output_type": "display_data"
    }
   ],
   "source": [
    "reject, pvals = gr_ca.ttest(se, pi, mu=0.15)\n",
    "counts = collections.Counter(reject.sum(0))\n",
    "counts, 1 - counts.get(1) / sum(counts.values())"
   ]
  },
  {
   "cell_type": "code",
   "execution_count": 109,
   "id": "13eecf5e",
   "metadata": {},
   "outputs": [],
   "source": [
    "disjoint = reject.sum(0) == 1\n",
    "mixed = reject.sum(0) > 1"
   ]
  },
  {
   "cell_type": "code",
   "execution_count": 110,
   "id": "b993a975",
   "metadata": {},
   "outputs": [
    {
     "data": {
      "text/html": [
       "<pre style=\"white-space:pre;overflow-x:auto;line-height:normal;font-family:Menlo,'DejaVu Sans Mono',consolas,'Courier New',monospace\"><span style=\"color: #008080; text-decoration-color: #008080; font-weight: bold\">0.5131578947368421</span>\n",
       "</pre>\n"
      ],
      "text/plain": [
       "\u001b[1;36m0.5131578947368421\u001b[0m\n"
      ]
     },
     "metadata": {},
     "output_type": "display_data"
    }
   ],
   "source": [
    "mixed.sum() / (mixed.sum() + disjoint.sum())"
   ]
  },
  {
   "cell_type": "code",
   "execution_count": null,
   "id": "e28e722d",
   "metadata": {},
   "outputs": [],
   "source": []
  },
  {
   "cell_type": "code",
   "execution_count": 111,
   "id": "44e2d732",
   "metadata": {},
   "outputs": [
    {
     "data": {
      "text/html": [
       "<pre style=\"white-space:pre;overflow-x:auto;line-height:normal;font-family:Menlo,'DejaVu Sans Mono',consolas,'Courier New',monospace\"><span style=\"color: #800080; text-decoration-color: #800080; font-weight: bold\">array</span><span style=\"font-weight: bold\">([</span><span style=\"color: #008080; text-decoration-color: #008080; font-weight: bold\">28</span>., <span style=\"color: #008080; text-decoration-color: #008080; font-weight: bold\">41</span>., <span style=\"color: #008080; text-decoration-color: #008080; font-weight: bold\">41</span>., <span style=\"color: #008080; text-decoration-color: #008080; font-weight: bold\">43</span>., <span style=\"color: #008080; text-decoration-color: #008080; font-weight: bold\">34</span>., <span style=\"color: #008080; text-decoration-color: #008080; font-weight: bold\">31</span>., <span style=\"color: #008080; text-decoration-color: #008080; font-weight: bold\">32</span>.<span style=\"font-weight: bold\">])</span>\n",
       "</pre>\n"
      ],
      "text/plain": [
       "\u001b[1;35marray\u001b[0m\u001b[1m(\u001b[0m\u001b[1m[\u001b[0m\u001b[1;36m28\u001b[0m., \u001b[1;36m41\u001b[0m., \u001b[1;36m41\u001b[0m., \u001b[1;36m43\u001b[0m., \u001b[1;36m34\u001b[0m., \u001b[1;36m31\u001b[0m., \u001b[1;36m32\u001b[0m.\u001b[1m]\u001b[0m\u001b[1m)\u001b[0m\n"
      ]
     },
     "metadata": {},
     "output_type": "display_data"
    }
   ],
   "source": [
    "community_sizes = reject.sum(1)\n",
    "community_sizes"
   ]
  },
  {
   "cell_type": "code",
   "execution_count": 117,
   "id": "e007b2d7",
   "metadata": {},
   "outputs": [
    {
     "data": {
      "text/html": [
       "<pre style=\"white-space:pre;overflow-x:auto;line-height:normal;font-family:Menlo,'DejaVu Sans Mono',consolas,'Courier New',monospace\"><span style=\"color: #800080; text-decoration-color: #800080; font-weight: bold\">array</span><span style=\"font-weight: bold\">([</span> <span style=\"color: #008080; text-decoration-color: #008080; font-weight: bold\">89</span>.,  <span style=\"color: #008080; text-decoration-color: #008080; font-weight: bold\">37</span>.,  <span style=\"color: #008080; text-decoration-color: #008080; font-weight: bold\">44</span>.,  <span style=\"color: #008080; text-decoration-color: #008080; font-weight: bold\">93</span>.,  <span style=\"color: #008080; text-decoration-color: #008080; font-weight: bold\">59</span>.,  <span style=\"color: #008080; text-decoration-color: #008080; font-weight: bold\">84</span>., <span style=\"color: #008080; text-decoration-color: #008080; font-weight: bold\">100</span>.<span style=\"font-weight: bold\">])</span>\n",
       "</pre>\n"
      ],
      "text/plain": [
       "\u001b[1;35marray\u001b[0m\u001b[1m(\u001b[0m\u001b[1m[\u001b[0m \u001b[1;36m89\u001b[0m.,  \u001b[1;36m37\u001b[0m.,  \u001b[1;36m44\u001b[0m.,  \u001b[1;36m93\u001b[0m.,  \u001b[1;36m59\u001b[0m.,  \u001b[1;36m84\u001b[0m., \u001b[1;36m100\u001b[0m.\u001b[1m]\u001b[0m\u001b[1m)\u001b[0m\n"
      ]
     },
     "metadata": {},
     "output_type": "display_data"
    }
   ],
   "source": [
    "members = reject == 1\n",
    "np.round((members * mixed).sum(1) / members.sum(1) * 100)"
   ]
  },
  {
   "cell_type": "code",
   "execution_count": 114,
   "id": "7756403f",
   "metadata": {},
   "outputs": [
    {
     "data": {
      "image/png": "[encoded data removed]"
     },
     "metadata": {},
     "output_type": "display_data"
    }
   ],
   "source": [
    "_ = gr_ca.show({'pr': pi, 'mem': members.astype(float)}, vmin=0.1, vmax=1.0, figsize=(25, 5))"
   ]
  },
  {
   "cell_type": "code",
   "execution_count": null,
   "id": "2e4f0b57",
   "metadata": {},
   "outputs": [],
   "source": []
  },
  {
   "cell_type": "code",
   "execution_count": null,
   "id": "a7d85360",
   "metadata": {},
   "outputs": [],
   "source": []
  },
  {
   "cell_type": "code",
   "execution_count": 145,
   "id": "26470a16",
   "metadata": {},
   "outputs": [],
   "source": [
    "members = np.zeros(pi.shape)\n",
    "\n",
    "for i, mu in enumerate([0.5, 0.3, 0.2, 0.1], start=1):\n",
    "    reject, pvals = gr_ca.ttest(se, pi, mu=mu)\n",
    "    members[reject == 1] += i"
   ]
  },
  {
   "cell_type": "code",
   "execution_count": 146,
   "id": "124c0e31",
   "metadata": {},
   "outputs": [
    {
     "data": {
      "image/png": "[encoded data removed]"
     },
     "metadata": {},
     "output_type": "display_data"
    }
   ],
   "source": [
    "_ = gr_ca.show({'pr': pi, 'mem': members.astype(float)}, vmin=0.1, vmax=1.0, figsize=(25, 5))"
   ]
  },
  {
   "cell_type": "code",
   "execution_count": null,
   "id": "4a9c8a5f",
   "metadata": {},
   "outputs": [],
   "source": []
  },
  {
   "cell_type": "code",
   "execution_count": 147,
   "id": "7537f8ac",
   "metadata": {},
   "outputs": [],
   "source": [
    "members /= np.nanmax(members)"
   ]
  },
  {
   "cell_type": "code",
   "execution_count": 148,
   "id": "4b27c562",
   "metadata": {},
   "outputs": [
    {
     "data": {
      "image/png": "[encoded data removed]"
     },
     "metadata": {},
     "output_type": "display_data"
    }
   ],
   "source": [
    "_ = gr_ca.show({'pr': pi, 'mem': members.astype(float)}, vmin=0.1, vmax=1.0, figsize=(25, 5))"
   ]
  },
  {
   "cell_type": "code",
   "execution_count": null,
   "id": "d7cdac6a",
   "metadata": {},
   "outputs": [],
   "source": []
  },
  {
   "cell_type": "code",
   "execution_count": null,
   "id": "b3b8191a",
   "metadata": {},
   "outputs": [],
   "source": []
  },
  {
   "cell_type": "code",
   "execution_count": null,
   "id": "2106531e",
   "metadata": {},
   "outputs": [],
   "source": []
  },
  {
   "cell_type": "code",
   "execution_count": 4,
   "id": "40789dc3",
   "metadata": {},
   "outputs": [
    {
     "name": "stdout",
     "output_type": "stream",
     "text": [
      "CPU times: user 2min 26s, sys: 1min 24s, total: 3min 50s\n",
      "Wall time: 3min 50s\n"
     ]
    },
    {
     "data": {
      "text/html": [
       "<pre style=\"white-space:pre;overflow-x:auto;line-height:normal;font-family:Menlo,'DejaVu Sans Mono',consolas,'Courier New',monospace\"><span style=\"font-weight: bold\">((</span><span style=\"color: #008080; text-decoration-color: #008080; font-weight: bold\">1000</span>, <span style=\"color: #008080; text-decoration-color: #008080; font-weight: bold\">10</span>, <span style=\"color: #008080; text-decoration-color: #008080; font-weight: bold\">7</span>, <span style=\"color: #008080; text-decoration-color: #008080; font-weight: bold\">152</span><span style=\"font-weight: bold\">)</span>, <span style=\"font-weight: bold\">(</span><span style=\"color: #008080; text-decoration-color: #008080; font-weight: bold\">10</span>, <span style=\"color: #008080; text-decoration-color: #008080; font-weight: bold\">7</span>, <span style=\"color: #008080; text-decoration-color: #008080; font-weight: bold\">152</span><span style=\"font-weight: bold\">))</span>\n",
       "</pre>\n"
      ],
      "text/plain": [
       "\u001b[1m(\u001b[0m\u001b[1m(\u001b[0m\u001b[1;36m1000\u001b[0m, \u001b[1;36m10\u001b[0m, \u001b[1;36m7\u001b[0m, \u001b[1;36m152\u001b[0m\u001b[1m)\u001b[0m, \u001b[1m(\u001b[0m\u001b[1;36m10\u001b[0m, \u001b[1;36m7\u001b[0m, \u001b[1;36m152\u001b[0m\u001b[1m)\u001b[0m\u001b[1m)\u001b[0m\n"
      ]
     },
     "metadata": {},
     "output_type": "display_data"
    }
   ],
   "source": [
    "%%time\n",
    "\n",
    "boot = bootstrap(\n",
    "    x=gr_ca.run_pi,\n",
    "    n_resamples=int(1e3),\n",
    "    statistic=lambda a: avg(a, 2, 2),\n",
    "    skip=['d0'],\n",
    "    dims=4,\n",
    ")\n",
    "se = bn.nanstd(boot, 0, ddof=1)\n",
    "boot.shape, se.shape"
   ]
  },
  {
   "cell_type": "code",
   "execution_count": 5,
   "id": "a8774e19",
   "metadata": {},
   "outputs": [
    {
     "data": {
      "text/html": [
       "<pre style=\"white-space:pre;overflow-x:auto;line-height:normal;font-family:Menlo,'DejaVu Sans Mono',consolas,'Courier New',monospace\"><span style=\"font-weight: bold\">&lt;</span><span style=\"color: #ff00ff; text-decoration-color: #ff00ff; font-weight: bold\">matplotlib.lines.Line2D</span><span style=\"color: #000000; text-decoration-color: #000000\"> object at </span><span style=\"color: #008080; text-decoration-color: #008080; font-weight: bold\">0x7f46c5c01a30</span><span style=\"font-weight: bold\">&gt;</span>\n",
       "</pre>\n"
      ],
      "text/plain": [
       "\u001b[1m<\u001b[0m\u001b[1;95mmatplotlib.lines.Line2D\u001b[0m\u001b[39m object at \u001b[0m\u001b[1;36m0x7f46c5c01a30\u001b[0m\u001b[1m>\u001b[0m\n"
      ]
     },
     "metadata": {},
     "output_type": "display_data"
    },
    {
     "data": {
      "image/png": "[encoded data removed]"
     },
     "metadata": {},
     "output_type": "display_data"
    }
   ],
   "source": [
    "sns.histplot(se.ravel())\n",
    "plt.axvline(np.nanmean(se), color='r')"
   ]
  },
  {
   "cell_type": "code",
   "execution_count": null,
   "id": "b377074f",
   "metadata": {},
   "outputs": [],
   "source": []
  },
  {
   "cell_type": "code",
   "execution_count": 6,
   "id": "933dc0d4",
   "metadata": {},
   "outputs": [
    {
     "data": {
      "text/html": [
       "<pre style=\"white-space:pre;overflow-x:auto;line-height:normal;font-family:Menlo,'DejaVu Sans Mono',consolas,'Courier New',monospace\"><span style=\"font-weight: bold\">(</span><span style=\"color: #008080; text-decoration-color: #008080; font-weight: bold\">10</span>, <span style=\"color: #008080; text-decoration-color: #008080; font-weight: bold\">7</span>, <span style=\"color: #008080; text-decoration-color: #008080; font-weight: bold\">152</span><span style=\"font-weight: bold\">)</span>\n",
       "</pre>\n"
      ],
      "text/plain": [
       "\u001b[1m(\u001b[0m\u001b[1;36m10\u001b[0m, \u001b[1;36m7\u001b[0m, \u001b[1;36m152\u001b[0m\u001b[1m)\u001b[0m\n"
      ]
     },
     "metadata": {},
     "output_type": "display_data"
    }
   ],
   "source": [
    "pi = avg(gr_ca.run_pi, 2, 1)\n",
    "pi.shape"
   ]
  },
  {
   "cell_type": "code",
   "execution_count": 7,
   "id": "9c8e468a",
   "metadata": {},
   "outputs": [
    {
     "data": {
      "text/html": [
       "<pre style=\"white-space:pre;overflow-x:auto;line-height:normal;font-family:Menlo,'DejaVu Sans Mono',consolas,'Courier New',monospace\"><span style=\"font-weight: bold\">&lt;</span><span style=\"color: #ff00ff; text-decoration-color: #ff00ff; font-weight: bold\">AxesSubplot:</span><span style=\"color: #808000; text-decoration-color: #808000; font-weight: bold\">ylabel</span><span style=\"color: #000000; text-decoration-color: #000000\">=</span><span style=\"color: #008000; text-decoration-color: #008000\">'Count'</span><span style=\"font-weight: bold\">&gt;</span>\n",
       "</pre>\n"
      ],
      "text/plain": [
       "\u001b[1m<\u001b[0m\u001b[1;95mAxesSubplot:\u001b[0m\u001b[1;33mylabel\u001b[0m\u001b[39m=\u001b[0m\u001b[32m'Count'\u001b[0m\u001b[1m>\u001b[0m\n"
      ]
     },
     "metadata": {},
     "output_type": "display_data"
    },
    {
     "data": {
      "image/png": "[encoded data removed]"
     },
     "metadata": {},
     "output_type": "display_data"
    }
   ],
   "source": [
    "sns.histplot(pi.ravel(), bins=np.linspace(0, 1, 51))"
   ]
  },
  {
   "cell_type": "code",
   "execution_count": null,
   "id": "f520e83b",
   "metadata": {},
   "outputs": [],
   "source": []
  },
  {
   "cell_type": "code",
   "execution_count": 11,
   "id": "075379e3",
   "metadata": {},
   "outputs": [],
   "source": [
    "alpha = 0.05\n",
    "mu = 0.003\n",
    "\n",
    "reject, pvals = gr_ca.ttest(\n",
    "    se=se,\n",
    "    mu=mu,\n",
    "    alpha=alpha,\n",
    "    multi='fdr_bh', # 'fdr_tsbh'\n",
    ")"
   ]
  },
  {
   "cell_type": "code",
   "execution_count": 12,
   "id": "582663df",
   "metadata": {},
   "outputs": [
    {
     "data": {
      "image/png": "[encoded data removed]"
     },
     "metadata": {},
     "output_type": "display_data"
    }
   ],
   "source": [
    "fig, ax = create_figure(1, 1, figsize=(13, 4))\n",
    "sns.histplot(pvals.ravel(), bins=np.linspace(0, 1, 201), color='C0', label='FDR corrected')\n",
    "plt.legend()\n",
    "plt.show()"
   ]
  },
  {
   "cell_type": "code",
   "execution_count": 13,
   "id": "9023626a",
   "metadata": {},
   "outputs": [
    {
     "data": {
      "text/html": [
       "<pre style=\"white-space:pre;overflow-x:auto;line-height:normal;font-family:Menlo,'DejaVu Sans Mono',consolas,'Courier New',monospace\"><span style=\"color: #008080; text-decoration-color: #008080; font-weight: bold\">0.5131578947368421</span>\n",
       "</pre>\n"
      ],
      "text/plain": [
       "\u001b[1;36m0.5131578947368421\u001b[0m\n"
      ]
     },
     "metadata": {},
     "output_type": "display_data"
    }
   ],
   "source": [
    "(reject == 0).sum() / ((reject == 0).sum() + (reject == 1).sum())"
   ]
  },
  {
   "cell_type": "code",
   "execution_count": null,
   "id": "998b77e1",
   "metadata": {},
   "outputs": [],
   "source": []
  },
  {
   "cell_type": "code",
   "execution_count": 16,
   "id": "fb41a8e9",
   "metadata": {},
   "outputs": [],
   "source": [
    "def prune(\n",
    "        self,\n",
    "        pi: np.ndarray = None,\n",
    "        n_resamples: int = int(1e3),\n",
    "        thres: float = 0.003,\n",
    "        alpha: float = 0.05, ):\n",
    "    pi = pi if pi is not None else self.run_pi\n",
    "    f = [\n",
    "        'se',\n",
    "        'indiv-pi',\n",
    "        f\"{n_resamples:1.1e}\",\n",
    "    ]\n",
    "    fname = '_'.join(f)\n",
    "    file = pjoin(self.path, f\"{fname}.npy\")\n",
    "    if os.path.isfile(file):\n",
    "        se_anim = np.load(file, mmap_mode='r')\n",
    "        print(np.nanmean(se))\n",
    "    else:\n",
    "        b_anim = bootstrap(\n",
    "            x=pi,\n",
    "            n_resamples=n_resamples,\n",
    "            statistic=lambda a: avg(a, 2, 2),\n",
    "            skip=['d0'],\n",
    "            dims=4,\n",
    "        )\n",
    "        se_anim = np.nanstd(b_anim, axis=0, ddof=1)\n",
    "        save_obj(\n",
    "            obj=se_anim,\n",
    "            file_name=fname,\n",
    "            save_dir=self.path,\n",
    "            verbose=self.verbose,\n",
    "            mode='npy',\n",
    "        )\n",
    "    reject, _ = self.ttest(\n",
    "        se=se_anim,\n",
    "        mu=thres,\n",
    "        alpha=alpha,\n",
    "    )\n",
    "    print((reject == 0).sum() / ((reject == 0).sum() + (reject == 1).sum()))\n",
    "    reject = np.expand_dims(np.expand_dims(np.expand_dims(\n",
    "        reject, 1), 1), 1)\n",
    "    for i in range(1, 4):\n",
    "        reject = np.repeat(reject, pi.shape[i], axis=i)\n",
    "    pi_prune = pi.copy()\n",
    "    pi_prune[reject == 0] = 0.0\n",
    "    pi_prune /= np.nansum(pi_prune, -2, keepdims=True)\n",
    "    # pi_prune, _ = self.align_post_prune(pi_prune)\n",
    "    return pi_prune"
   ]
  },
  {
   "cell_type": "code",
   "execution_count": 17,
   "id": "c2dd9d7a",
   "metadata": {},
   "outputs": [
    {
     "data": {
      "text/html": [
       "<pre style=\"white-space:pre;overflow-x:auto;line-height:normal;font-family:Menlo,'DejaVu Sans Mono',consolas,'Courier New',monospace\"><span style=\"color: #008080; text-decoration-color: #008080; font-weight: bold\">0.029712833560776877</span>\n",
       "</pre>\n"
      ],
      "text/plain": [
       "\u001b[1;36m0.029712833560776877\u001b[0m\n"
      ]
     },
     "metadata": {},
     "output_type": "display_data"
    },
    {
     "data": {
      "text/html": [
       "<pre style=\"white-space:pre;overflow-x:auto;line-height:normal;font-family:Menlo,'DejaVu Sans Mono',consolas,'Courier New',monospace\"><span style=\"color: #008080; text-decoration-color: #008080; font-weight: bold\">0.5131578947368421</span>\n",
       "</pre>\n"
      ],
      "text/plain": [
       "\u001b[1;36m0.5131578947368421\u001b[0m\n"
      ]
     },
     "metadata": {},
     "output_type": "display_data"
    }
   ],
   "source": [
    "pi_prune = prune(gr_ca)"
   ]
  },
  {
   "cell_type": "code",
   "execution_count": null,
   "id": "9338d6ce",
   "metadata": {},
   "outputs": [],
   "source": []
  },
  {
   "cell_type": "code",
   "execution_count": null,
   "id": "7d0b04d2",
   "metadata": {},
   "outputs": [],
   "source": []
  },
  {
   "cell_type": "code",
   "execution_count": null,
   "id": "2a5ae5b1",
   "metadata": {},
   "outputs": [],
   "source": []
  },
  {
   "cell_type": "code",
   "execution_count": 9,
   "id": "6fe6210e",
   "metadata": {},
   "outputs": [
    {
     "data": {
      "image/png": "[encoded data removed]"
     },
     "metadata": {},
     "output_type": "display_data"
    }
   ],
   "source": [
    "fig, ax = create_figure(1, 1, figsize=(13, 4))\n",
    "\n",
    "sns.histplot(pvals.ravel(), bins=np.linspace(0, 1, 201), color='tomato', label='raw')\n",
    "sns.histplot(pvals_fdr.ravel(), bins=np.linspace(0, 1, 201), color='C0', label='FDR corrected')\n",
    "plt.legend()\n",
    "plt.show()"
   ]
  },
  {
   "cell_type": "code",
   "execution_count": 10,
   "id": "37604e05",
   "metadata": {},
   "outputs": [
    {
     "data": {
      "text/html": [
       "<pre style=\"white-space:pre;overflow-x:auto;line-height:normal;font-family:Menlo,'DejaVu Sans Mono',consolas,'Courier New',monospace\"><span style=\"color: #008080; text-decoration-color: #008080; font-weight: bold\">0.40019175455417066</span>\n",
       "</pre>\n"
      ],
      "text/plain": [
       "\u001b[1;36m0.40019175455417066\u001b[0m\n"
      ]
     },
     "metadata": {},
     "output_type": "display_data"
    }
   ],
   "source": [
    "(pvals >= 0.05).sum() / ((pvals < 0.05).sum() + (pvals >= 0.05).sum())"
   ]
  },
  {
   "cell_type": "code",
   "execution_count": 11,
   "id": "a3294ed8",
   "metadata": {},
   "outputs": [
    {
     "data": {
      "text/html": [
       "<pre style=\"white-space:pre;overflow-x:auto;line-height:normal;font-family:Menlo,'DejaVu Sans Mono',consolas,'Courier New',monospace\"><span style=\"color: #008080; text-decoration-color: #008080; font-weight: bold\">0.4987535953978907</span>\n",
       "</pre>\n"
      ],
      "text/plain": [
       "\u001b[1;36m0.4987535953978907\u001b[0m\n"
      ]
     },
     "metadata": {},
     "output_type": "display_data"
    }
   ],
   "source": [
    "(rej == 0).sum() / ((rej == 0).sum() + (rej == 1).sum())"
   ]
  },
  {
   "cell_type": "markdown",
   "id": "c7e57d70",
   "metadata": {},
   "source": [
    "for rej == 0, we fail to reject the null hypothesis (H_0: X_n <= 0.003), therefore we have to zero-out those values.  Therefore, roughly speaking pi[rej == 0] = 0 .  Also, FDR increased the number of nodes that I have to zero out now (before it was 40% of membership values but with FDR it is now roughly 50% of membership values)\n",
    "\n",
    "H_0 is something I really want and hope to reject.  For instance, in the prune task, I say that $H_0 = \\bar{X}_n \\leq 0.003$, because I want to reject this with confidence and keep the membership value (leave it alone).  When I fail to reject this, I have to zero out that value.  That's why pi[rej == 0] = 0."
   ]
  },
  {
   "cell_type": "code",
   "execution_count": null,
   "id": "76c1be34",
   "metadata": {},
   "outputs": [],
   "source": []
  },
  {
   "cell_type": "markdown",
   "id": "69cd7697",
   "metadata": {},
   "source": [
    "### TODO: find out if you should do FDR for individual animals separately"
   ]
  },
  {
   "cell_type": "code",
   "execution_count": 20,
   "id": "6bd1459b",
   "metadata": {},
   "outputs": [],
   "source": [
    "self = gr_ca\n",
    "pi = avg(pi, 2, se.ndim - 2)\n",
    "\n",
    "tvals = (pi - mu) / se\n",
    "pvals = np.zeros(pi.shape)\n",
    "rejected = np.zeros(pi.shape)\n",
    "\n",
    "anim_n_runs = self.get_anim_num_runs()\n",
    "for i in range(len(pi)):\n",
    "    anim_key = self.mice.get_key(i + 1)\n",
    "    dof = anim_n_runs[anim_key] - 1\n",
    "    p = sp_stats.t.cdf(tvals[i], dof)\n",
    "    p = 1 - p\n",
    "    nonan = np.isfinite(p)\n",
    "    rejected[i][nonan], pvals[i][nonan], *_ = multipletests(\n",
    "        pvals=p[nonan],\n",
    "        alpha=alpha,\n",
    "        method='fdr_bh',\n",
    "        is_sorted=False,\n",
    "        returnsorted=False,\n",
    "    )"
   ]
  },
  {
   "cell_type": "code",
   "execution_count": 22,
   "id": "cd7f2eb1",
   "metadata": {},
   "outputs": [
    {
     "data": {
      "text/html": [
       "<pre style=\"white-space:pre;overflow-x:auto;line-height:normal;font-family:Menlo,'DejaVu Sans Mono',consolas,'Courier New',monospace\"><span style=\"color: #008080; text-decoration-color: #008080; font-weight: bold\">0.5131578947368421</span>\n",
       "</pre>\n"
      ],
      "text/plain": [
       "\u001b[1;36m0.5131578947368421\u001b[0m\n"
      ]
     },
     "metadata": {},
     "output_type": "display_data"
    }
   ],
   "source": [
    "(rejected == 0).sum() / ((rejected == 0).sum() + (rejected == 1).sum())"
   ]
  },
  {
   "cell_type": "code",
   "execution_count": null,
   "id": "0e4819da",
   "metadata": {},
   "outputs": [],
   "source": []
  },
  {
   "cell_type": "code",
   "execution_count": null,
   "id": "ad7dc557",
   "metadata": {},
   "outputs": [],
   "source": []
  },
  {
   "cell_type": "code",
   "execution_count": null,
   "id": "bda6f31e",
   "metadata": {},
   "outputs": [],
   "source": []
  },
  {
   "cell_type": "code",
   "execution_count": null,
   "id": "3ced254a",
   "metadata": {},
   "outputs": [],
   "source": []
  },
  {
   "cell_type": "code",
   "execution_count": null,
   "id": "baefd87c",
   "metadata": {},
   "outputs": [],
   "source": []
  },
  {
   "cell_type": "code",
   "execution_count": null,
   "id": "28dfb4e3",
   "metadata": {},
   "outputs": [],
   "source": []
  },
  {
   "cell_type": "code",
   "execution_count": 14,
   "id": "f712d69e",
   "metadata": {},
   "outputs": [
    {
     "data": {
      "text/html": [
       "<pre style=\"white-space:pre;overflow-x:auto;line-height:normal;font-family:Menlo,'DejaVu Sans Mono',consolas,'Courier New',monospace\"><span style=\"font-weight: bold\">((</span><span style=\"color: #008080; text-decoration-color: #008080; font-weight: bold\">10</span>, <span style=\"color: #008080; text-decoration-color: #008080; font-weight: bold\">7</span>, <span style=\"color: #008080; text-decoration-color: #008080; font-weight: bold\">152</span><span style=\"font-weight: bold\">)</span>, <span style=\"font-weight: bold\">(</span><span style=\"color: #008080; text-decoration-color: #008080; font-weight: bold\">10</span>, <span style=\"color: #008080; text-decoration-color: #008080; font-weight: bold\">7</span>, <span style=\"color: #008080; text-decoration-color: #008080; font-weight: bold\">152</span><span style=\"font-weight: bold\">))</span>\n",
       "</pre>\n"
      ],
      "text/plain": [
       "\u001b[1m(\u001b[0m\u001b[1m(\u001b[0m\u001b[1;36m10\u001b[0m, \u001b[1;36m7\u001b[0m, \u001b[1;36m152\u001b[0m\u001b[1m)\u001b[0m, \u001b[1m(\u001b[0m\u001b[1;36m10\u001b[0m, \u001b[1;36m7\u001b[0m, \u001b[1;36m152\u001b[0m\u001b[1m)\u001b[0m\u001b[1m)\u001b[0m\n"
      ]
     },
     "metadata": {},
     "output_type": "display_data"
    }
   ],
   "source": [
    "pi.shape, rej.shape"
   ]
  },
  {
   "cell_type": "code",
   "execution_count": 20,
   "id": "7df6ebe3",
   "metadata": {},
   "outputs": [],
   "source": [
    "pi_prune = gr_ca.run_pi.copy()"
   ]
  },
  {
   "cell_type": "code",
   "execution_count": 30,
   "id": "30c8990c",
   "metadata": {},
   "outputs": [
    {
     "data": {
      "text/html": [
       "<pre style=\"white-space:pre;overflow-x:auto;line-height:normal;font-family:Menlo,'DejaVu Sans Mono',consolas,'Courier New',monospace\"><span style=\"font-weight: bold\">(</span><span style=\"color: #008080; text-decoration-color: #008080; font-weight: bold\">10</span>, <span style=\"color: #008080; text-decoration-color: #008080; font-weight: bold\">3</span>, <span style=\"color: #008080; text-decoration-color: #008080; font-weight: bold\">4</span>, <span style=\"color: #008080; text-decoration-color: #008080; font-weight: bold\">300</span>, <span style=\"color: #008080; text-decoration-color: #008080; font-weight: bold\">7</span>, <span style=\"color: #008080; text-decoration-color: #008080; font-weight: bold\">152</span><span style=\"font-weight: bold\">)</span>\n",
       "</pre>\n"
      ],
      "text/plain": [
       "\u001b[1m(\u001b[0m\u001b[1;36m10\u001b[0m, \u001b[1;36m3\u001b[0m, \u001b[1;36m4\u001b[0m, \u001b[1;36m300\u001b[0m, \u001b[1;36m7\u001b[0m, \u001b[1;36m152\u001b[0m\u001b[1m)\u001b[0m\n"
      ]
     },
     "metadata": {},
     "output_type": "display_data"
    }
   ],
   "source": [
    "vote = np.expand_dims(np.expand_dims(np.expand_dims(\n",
    "    rej, 1), 1), 1)\n",
    "vote = np.repeat(vote, 3, axis=1)\n",
    "vote = np.repeat(vote, 4, axis=2)\n",
    "vote = np.repeat(vote, 300, axis=3)\n",
    "vote.shape"
   ]
  },
  {
   "cell_type": "code",
   "execution_count": 50,
   "id": "ddbaa690",
   "metadata": {},
   "outputs": [],
   "source": [
    "pi_prune[vote == 0] = 0.0\n",
    "pi_prune /= np.nansum(pi_prune, -2, keepdims=True)"
   ]
  },
  {
   "cell_type": "code",
   "execution_count": 51,
   "id": "e3c0cae6",
   "metadata": {},
   "outputs": [
    {
     "data": {
      "text/html": [
       "<pre style=\"white-space:pre;overflow-x:auto;line-height:normal;font-family:Menlo,'DejaVu Sans Mono',consolas,'Courier New',monospace\"><span style=\"font-weight: bold\">(</span><span style=\"color: #008080; text-decoration-color: #008080; font-weight: bold\">10</span>, <span style=\"color: #008080; text-decoration-color: #008080; font-weight: bold\">3</span>, <span style=\"color: #008080; text-decoration-color: #008080; font-weight: bold\">4</span>, <span style=\"color: #008080; text-decoration-color: #008080; font-weight: bold\">300</span>, <span style=\"color: #008080; text-decoration-color: #008080; font-weight: bold\">7</span>, <span style=\"color: #008080; text-decoration-color: #008080; font-weight: bold\">152</span><span style=\"font-weight: bold\">)</span>\n",
       "</pre>\n"
      ],
      "text/plain": [
       "\u001b[1m(\u001b[0m\u001b[1;36m10\u001b[0m, \u001b[1;36m3\u001b[0m, \u001b[1;36m4\u001b[0m, \u001b[1;36m300\u001b[0m, \u001b[1;36m7\u001b[0m, \u001b[1;36m152\u001b[0m\u001b[1m)\u001b[0m\n"
      ]
     },
     "metadata": {},
     "output_type": "display_data"
    }
   ],
   "source": [
    "pi_prune.shape"
   ]
  },
  {
   "cell_type": "code",
   "execution_count": 52,
   "id": "d353c7f0",
   "metadata": {},
   "outputs": [
    {
     "data": {
      "text/html": [
       "<pre style=\"white-space:pre;overflow-x:auto;line-height:normal;font-family:Menlo,'DejaVu Sans Mono',consolas,'Courier New',monospace\"><span style=\"color: #008080; text-decoration-color: #008080; font-weight: bold\">0.0</span>\n",
       "</pre>\n"
      ],
      "text/plain": [
       "\u001b[1;36m0.0\u001b[0m\n"
      ]
     },
     "metadata": {},
     "output_type": "display_data"
    }
   ],
   "source": [
    "rej[4, 2, 14]"
   ]
  },
  {
   "cell_type": "code",
   "execution_count": 53,
   "id": "3c487bb9",
   "metadata": {},
   "outputs": [
    {
     "data": {
      "text/html": [
       "<pre style=\"white-space:pre;overflow-x:auto;line-height:normal;font-family:Menlo,'DejaVu Sans Mono',consolas,'Courier New',monospace\"><span style=\"color: #800080; text-decoration-color: #800080; font-weight: bold\">array</span><span style=\"font-weight: bold\">([</span><span style=\"color: #008080; text-decoration-color: #008080; font-weight: bold\">1</span>., <span style=\"color: #008080; text-decoration-color: #008080; font-weight: bold\">0</span>., <span style=\"color: #008080; text-decoration-color: #008080; font-weight: bold\">0</span>., <span style=\"color: #008080; text-decoration-color: #008080; font-weight: bold\">0</span>., <span style=\"color: #008080; text-decoration-color: #008080; font-weight: bold\">0</span>., <span style=\"color: #008080; text-decoration-color: #008080; font-weight: bold\">0</span>., <span style=\"color: #008080; text-decoration-color: #008080; font-weight: bold\">0</span>.<span style=\"font-weight: bold\">])</span>\n",
       "</pre>\n"
      ],
      "text/plain": [
       "\u001b[1;35marray\u001b[0m\u001b[1m(\u001b[0m\u001b[1m[\u001b[0m\u001b[1;36m1\u001b[0m., \u001b[1;36m0\u001b[0m., \u001b[1;36m0\u001b[0m., \u001b[1;36m0\u001b[0m., \u001b[1;36m0\u001b[0m., \u001b[1;36m0\u001b[0m., \u001b[1;36m0\u001b[0m.\u001b[1m]\u001b[0m\u001b[1m)\u001b[0m\n"
      ]
     },
     "metadata": {},
     "output_type": "display_data"
    }
   ],
   "source": [
    "avg(pi_prune, 2, 1)[4,:,14]"
   ]
  },
  {
   "cell_type": "code",
   "execution_count": 54,
   "id": "0e0ee83e",
   "metadata": {},
   "outputs": [
    {
     "data": {
      "text/html": [
       "<pre style=\"white-space:pre;overflow-x:auto;line-height:normal;font-family:Menlo,'DejaVu Sans Mono',consolas,'Courier New',monospace\"><span style=\"color: #800080; text-decoration-color: #800080; font-weight: bold\">array</span><span style=\"font-weight: bold\">([</span><span style=\"color: #008080; text-decoration-color: #008080; font-weight: bold\">0.55323151</span>, <span style=\"color: #008080; text-decoration-color: #008080; font-weight: bold\">0.00475567</span>, <span style=\"color: #008080; text-decoration-color: #008080; font-weight: bold\">0.08645293</span>, <span style=\"color: #008080; text-decoration-color: #008080; font-weight: bold\">0.00559171</span>, <span style=\"color: #008080; text-decoration-color: #008080; font-weight: bold\">0.3179678</span> ,\n",
       "       <span style=\"color: #008080; text-decoration-color: #008080; font-weight: bold\">0.01180767</span>, <span style=\"color: #008080; text-decoration-color: #008080; font-weight: bold\">0.0201927</span> <span style=\"font-weight: bold\">])</span>\n",
       "</pre>\n"
      ],
      "text/plain": [
       "\u001b[1;35marray\u001b[0m\u001b[1m(\u001b[0m\u001b[1m[\u001b[0m\u001b[1;36m0.55323151\u001b[0m, \u001b[1;36m0.00475567\u001b[0m, \u001b[1;36m0.08645293\u001b[0m, \u001b[1;36m0.00559171\u001b[0m, \u001b[1;36m0.3179678\u001b[0m ,\n",
       "       \u001b[1;36m0.01180767\u001b[0m, \u001b[1;36m0.0201927\u001b[0m \u001b[1m]\u001b[0m\u001b[1m)\u001b[0m\n"
      ]
     },
     "metadata": {},
     "output_type": "display_data"
    }
   ],
   "source": [
    "avg(gr_ca.run_pi, 2, 1)[4,:,14]"
   ]
  },
  {
   "cell_type": "code",
   "execution_count": 57,
   "id": "2848ce2d",
   "metadata": {},
   "outputs": [
    {
     "data": {
      "text/html": [
       "<pre style=\"white-space:pre;overflow-x:auto;line-height:normal;font-family:Menlo,'DejaVu Sans Mono',consolas,'Courier New',monospace\"><span style=\"color: #800080; text-decoration-color: #800080; font-weight: bold\">array</span><span style=\"font-weight: bold\">([</span><span style=\"color: #008080; text-decoration-color: #008080; font-weight: bold\">0.01731641</span>, <span style=\"color: #008080; text-decoration-color: #008080; font-weight: bold\">0.30718351</span>, <span style=\"color: #008080; text-decoration-color: #008080; font-weight: bold\">0.07612811</span>, <span style=\"color: #008080; text-decoration-color: #008080; font-weight: bold\">0.16342734</span>, <span style=\"color: #008080; text-decoration-color: #008080; font-weight: bold\">0.06771205</span>,\n",
       "       <span style=\"color: #008080; text-decoration-color: #008080; font-weight: bold\">0.160749</span>  , <span style=\"color: #008080; text-decoration-color: #008080; font-weight: bold\">0.08332742</span><span style=\"font-weight: bold\">])</span>\n",
       "</pre>\n"
      ],
      "text/plain": [
       "\u001b[1;35marray\u001b[0m\u001b[1m(\u001b[0m\u001b[1m[\u001b[0m\u001b[1;36m0.01731641\u001b[0m, \u001b[1;36m0.30718351\u001b[0m, \u001b[1;36m0.07612811\u001b[0m, \u001b[1;36m0.16342734\u001b[0m, \u001b[1;36m0.06771205\u001b[0m,\n",
       "       \u001b[1;36m0.160749\u001b[0m  , \u001b[1;36m0.08332742\u001b[0m\u001b[1m]\u001b[0m\u001b[1m)\u001b[0m\n"
      ]
     },
     "metadata": {},
     "output_type": "display_data"
    }
   ],
   "source": [
    "pvals_fdr[4, :, 14]"
   ]
  },
  {
   "cell_type": "code",
   "execution_count": null,
   "id": "7f342e9e",
   "metadata": {},
   "outputs": [],
   "source": [
    "pvals[4, :, 14]"
   ]
  },
  {
   "cell_type": "code",
   "execution_count": null,
   "id": "f9f9290c",
   "metadata": {},
   "outputs": [],
   "source": []
  },
  {
   "cell_type": "code",
   "execution_count": null,
   "id": "52c7d415",
   "metadata": {},
   "outputs": [],
   "source": []
  },
  {
   "cell_type": "code",
   "execution_count": 18,
   "id": "ba8cc834",
   "metadata": {},
   "outputs": [
    {
     "data": {
      "text/html": [
       "<pre style=\"white-space:pre;overflow-x:auto;line-height:normal;font-family:Menlo,'DejaVu Sans Mono',consolas,'Courier New',monospace\"><span style=\"font-weight: bold\">(</span><span style=\"color: #008080; text-decoration-color: #008080; font-weight: bold\">0</span>, <span style=\"color: #008080; text-decoration-color: #008080; font-weight: bold\">2</span>, <span style=\"color: #008080; text-decoration-color: #008080; font-weight: bold\">6</span><span style=\"font-weight: bold\">)</span>\n",
       "</pre>\n"
      ],
      "text/plain": [
       "\u001b[1m(\u001b[0m\u001b[1;36m0\u001b[0m, \u001b[1;36m2\u001b[0m, \u001b[1;36m6\u001b[0m\u001b[1m)\u001b[0m\n"
      ]
     },
     "metadata": {},
     "output_type": "display_data"
    }
   ],
   "source": [
    "ids = np.unravel_index(np.nanargmin(pvals), pvals.shape)\n",
    "ids"
   ]
  },
  {
   "cell_type": "code",
   "execution_count": 21,
   "id": "405f9a77",
   "metadata": {},
   "outputs": [
    {
     "data": {
      "text/html": [
       "<pre style=\"white-space:pre;overflow-x:auto;line-height:normal;font-family:Menlo,'DejaVu Sans Mono',consolas,'Courier New',monospace\"><span style=\"font-weight: bold\">(</span><span style=\"color: #008080; text-decoration-color: #008080; font-weight: bold\">0.0</span>, <span style=\"color: #008080; text-decoration-color: #008080; font-weight: bold\">0.0</span>, <span style=\"color: #008080; text-decoration-color: #008080; font-weight: bold\">0.9609009720359751</span>, <span style=\"color: #008080; text-decoration-color: #008080; font-weight: bold\">1.0</span><span style=\"font-weight: bold\">)</span>\n",
       "</pre>\n"
      ],
      "text/plain": [
       "\u001b[1m(\u001b[0m\u001b[1;36m0.0\u001b[0m, \u001b[1;36m0.0\u001b[0m, \u001b[1;36m0.9609009720359751\u001b[0m, \u001b[1;36m1.0\u001b[0m\u001b[1m)\u001b[0m\n"
      ]
     },
     "metadata": {},
     "output_type": "display_data"
    }
   ],
   "source": [
    "pvals[ids], pvals_fdr[ids], pi[ids], rej[ids]"
   ]
  },
  {
   "cell_type": "code",
   "execution_count": null,
   "id": "81775d27",
   "metadata": {},
   "outputs": [],
   "source": []
  },
  {
   "cell_type": "code",
   "execution_count": 22,
   "id": "7a5f319d",
   "metadata": {},
   "outputs": [
    {
     "data": {
      "text/html": [
       "<pre style=\"white-space:pre;overflow-x:auto;line-height:normal;font-family:Menlo,'DejaVu Sans Mono',consolas,'Courier New',monospace\"><span style=\"font-weight: bold\">(</span><span style=\"color: #008080; text-decoration-color: #008080; font-weight: bold\">0</span>, <span style=\"color: #008080; text-decoration-color: #008080; font-weight: bold\">1</span>, <span style=\"color: #008080; text-decoration-color: #008080; font-weight: bold\">0</span><span style=\"font-weight: bold\">)</span>\n",
       "</pre>\n"
      ],
      "text/plain": [
       "\u001b[1m(\u001b[0m\u001b[1;36m0\u001b[0m, \u001b[1;36m1\u001b[0m, \u001b[1;36m0\u001b[0m\u001b[1m)\u001b[0m\n"
      ]
     },
     "metadata": {},
     "output_type": "display_data"
    }
   ],
   "source": [
    "ids = np.unravel_index(np.nanargmax(pvals), pvals.shape)\n",
    "ids"
   ]
  },
  {
   "cell_type": "code",
   "execution_count": 23,
   "id": "a5211811",
   "metadata": {},
   "outputs": [
    {
     "data": {
      "text/html": [
       "<pre style=\"white-space:pre;overflow-x:auto;line-height:normal;font-family:Menlo,'DejaVu Sans Mono',consolas,'Courier New',monospace\"><span style=\"font-weight: bold\">(</span><span style=\"color: #008080; text-decoration-color: #008080; font-weight: bold\">1.0</span>, <span style=\"color: #008080; text-decoration-color: #008080; font-weight: bold\">1.0</span>, <span style=\"color: #008080; text-decoration-color: #008080; font-weight: bold\">0.002006992877052643</span>, <span style=\"color: #008080; text-decoration-color: #008080; font-weight: bold\">0.0</span><span style=\"font-weight: bold\">)</span>\n",
       "</pre>\n"
      ],
      "text/plain": [
       "\u001b[1m(\u001b[0m\u001b[1;36m1.0\u001b[0m, \u001b[1;36m1.0\u001b[0m, \u001b[1;36m0.002006992877052643\u001b[0m, \u001b[1;36m0.0\u001b[0m\u001b[1m)\u001b[0m\n"
      ]
     },
     "metadata": {},
     "output_type": "display_data"
    }
   ],
   "source": [
    "pvals[ids], pvals_fdr[ids], pi[ids], rej[ids]"
   ]
  },
  {
   "cell_type": "code",
   "execution_count": null,
   "id": "3b9a0394",
   "metadata": {},
   "outputs": [],
   "source": []
  },
  {
   "cell_type": "code",
   "execution_count": 28,
   "id": "0b5220f8",
   "metadata": {},
   "outputs": [
    {
     "data": {
      "text/html": [
       "<pre style=\"white-space:pre;overflow-x:auto;line-height:normal;font-family:Menlo,'DejaVu Sans Mono',consolas,'Courier New',monospace\"><span style=\"color: #008080; text-decoration-color: #008080; font-weight: bold\">1028</span>\n",
       "</pre>\n"
      ],
      "text/plain": [
       "\u001b[1;36m1028\u001b[0m\n"
      ]
     },
     "metadata": {},
     "output_type": "display_data"
    }
   ],
   "source": [
    "diff = np.logical_and(pvals < 0.05, rej == 0)\n",
    "diff = list(zip(*np.where(diff)))\n",
    "len(diff)"
   ]
  },
  {
   "cell_type": "code",
   "execution_count": 32,
   "id": "66f39bb9",
   "metadata": {},
   "outputs": [
    {
     "data": {
      "text/html": [
       "<pre style=\"white-space:pre;overflow-x:auto;line-height:normal;font-family:Menlo,'DejaVu Sans Mono',consolas,'Courier New',monospace\"><span style=\"font-weight: bold\">(</span><span style=\"color: #008080; text-decoration-color: #008080; font-weight: bold\">0.01865116476359707</span>, <span style=\"color: #008080; text-decoration-color: #008080; font-weight: bold\">0.025669917246298524</span>, <span style=\"color: #008080; text-decoration-color: #008080; font-weight: bold\">0.05089094029250971</span>, <span style=\"color: #008080; text-decoration-color: #008080; font-weight: bold\">0.0</span><span style=\"font-weight: bold\">)</span>\n",
       "</pre>\n"
      ],
      "text/plain": [
       "\u001b[1m(\u001b[0m\u001b[1;36m0.01865116476359707\u001b[0m, \u001b[1;36m0.025669917246298524\u001b[0m, \u001b[1;36m0.05089094029250971\u001b[0m, \u001b[1;36m0.0\u001b[0m\u001b[1m)\u001b[0m\n"
      ]
     },
     "metadata": {},
     "output_type": "display_data"
    }
   ],
   "source": [
    "pi[diff[125]], pvals[diff[125]], pvals_fdr[diff[125]], rej[diff[125]]"
   ]
  },
  {
   "cell_type": "code",
   "execution_count": 33,
   "id": "ae070644",
   "metadata": {},
   "outputs": [
    {
     "data": {
      "text/html": [
       "<pre style=\"white-space:pre;overflow-x:auto;line-height:normal;font-family:Menlo,'DejaVu Sans Mono',consolas,'Courier New',monospace\"><span style=\"font-weight: bold\">(</span><span style=\"color: #008080; text-decoration-color: #008080; font-weight: bold\">0.04571148435422088</span>, <span style=\"color: #008080; text-decoration-color: #008080; font-weight: bold\">0.02746268652238959</span>, <span style=\"color: #008080; text-decoration-color: #008080; font-weight: bold\">0.05349083221353604</span>, <span style=\"color: #008080; text-decoration-color: #008080; font-weight: bold\">0.0</span><span style=\"font-weight: bold\">)</span>\n",
       "</pre>\n"
      ],
      "text/plain": [
       "\u001b[1m(\u001b[0m\u001b[1;36m0.04571148435422088\u001b[0m, \u001b[1;36m0.02746268652238959\u001b[0m, \u001b[1;36m0.05349083221353604\u001b[0m, \u001b[1;36m0.0\u001b[0m\u001b[1m)\u001b[0m\n"
      ]
     },
     "metadata": {},
     "output_type": "display_data"
    }
   ],
   "source": [
    "pi[diff[561]], pvals[diff[561]], pvals_fdr[diff[561]], rej[diff[561]]"
   ]
  },
  {
   "cell_type": "code",
   "execution_count": null,
   "id": "3823d2a0",
   "metadata": {},
   "outputs": [],
   "source": []
  },
  {
   "cell_type": "code",
   "execution_count": null,
   "id": "e68ecb50",
   "metadata": {},
   "outputs": [],
   "source": []
  },
  {
   "cell_type": "code",
   "execution_count": 52,
   "id": "7490f538",
   "metadata": {},
   "outputs": [],
   "source": [
    "def ttest(\n",
    "        self,\n",
    "        se: np.ndarray,\n",
    "        pi: np.ndarray = None,\n",
    "        mu: float = 0.003,\n",
    "        alpha: float = 0.05,\n",
    "        fdr: bool = True, ):\n",
    "\n",
    "    pi = pi if pi is not None else self.run_pi\n",
    "    pi = avg(pi, 2, se.ndim - 2)\n",
    "    assert pi.shape == se.shape\n",
    "\n",
    "    tvals = (pi - mu) / se\n",
    "    pvals = np.zeros(se.shape)\n",
    "    if se.ndim == 3:\n",
    "        anim_n_runs = self.get_anim_num_runs()\n",
    "        for i in range(len(se)):\n",
    "            anim_key = self.mice.get_key(i + 1)\n",
    "            dof = anim_n_runs[anim_key] - 1\n",
    "            p = sp_stats.t.cdf(tvals[i], dof)\n",
    "            pvals[i] = 1 - p\n",
    "    else:\n",
    "        raise NotImplementedError\n",
    "\n",
    "    if fdr:\n",
    "        nonan = np.isfinite(pvals)\n",
    "        rej = np_nans(pvals.shape)\n",
    "        pvals_fdr = np_nans(pvals.shape)\n",
    "        rej[nonan], pvals_fdr[nonan], *_ = multipletests(\n",
    "            pvals=pvals[nonan],\n",
    "            alpha=alpha,\n",
    "            method='fdr_bh',\n",
    "            is_sorted=False,\n",
    "            returnsorted=False,\n",
    "        )\n",
    "        return rej, pvals_fdr, pvals, tvals\n",
    "    else:\n",
    "        return pvals < alpha"
   ]
  },
  {
   "cell_type": "code",
   "execution_count": 53,
   "id": "49d888d8",
   "metadata": {},
   "outputs": [],
   "source": [
    "alpha = 0.05\n",
    "mu = 0.003\n",
    "\n",
    "rej, pvals_fdr, pvals, tvals = ttest(\n",
    "    gr_ca,\n",
    "    se=se,\n",
    "    mu=mu,\n",
    "    alpha=alpha,\n",
    "    fdr=True,\n",
    ")"
   ]
  },
  {
   "cell_type": "code",
   "execution_count": null,
   "id": "f15782a1",
   "metadata": {},
   "outputs": [],
   "source": []
  },
  {
   "cell_type": "code",
   "execution_count": 56,
   "id": "3ddaa448",
   "metadata": {},
   "outputs": [
    {
     "data": {
      "text/html": [
       "<pre style=\"white-space:pre;overflow-x:auto;line-height:normal;font-family:Menlo,'DejaVu Sans Mono',consolas,'Courier New',monospace\"><span style=\"font-weight: bold\">&lt;</span><span style=\"color: #ff00ff; text-decoration-color: #ff00ff; font-weight: bold\">AxesSubplot:</span><span style=\"color: #808000; text-decoration-color: #808000; font-weight: bold\">ylabel</span><span style=\"color: #000000; text-decoration-color: #000000\">=</span><span style=\"color: #008000; text-decoration-color: #008000\">'Count'</span><span style=\"font-weight: bold\">&gt;</span>\n",
       "</pre>\n"
      ],
      "text/plain": [
       "\u001b[1m<\u001b[0m\u001b[1;95mAxesSubplot:\u001b[0m\u001b[1;33mylabel\u001b[0m\u001b[39m=\u001b[0m\u001b[32m'Count'\u001b[0m\u001b[1m>\u001b[0m\n"
      ]
     },
     "metadata": {},
     "output_type": "display_data"
    },
    {
     "data": {
      "image/png": "[encoded data removed]"
     },
     "metadata": {},
     "output_type": "display_data"
    }
   ],
   "source": [
    "sns.histplot(tvals[np.isfinite(tvals)], bins=np.linspace(-50, 50, 201))"
   ]
  },
  {
   "cell_type": "code",
   "execution_count": 57,
   "id": "64b6470f",
   "metadata": {},
   "outputs": [],
   "source": [
    "xxx = sp_stats.t.cdf(tvals, 11)"
   ]
  },
  {
   "cell_type": "code",
   "execution_count": 59,
   "id": "ae8d1fe6",
   "metadata": {},
   "outputs": [
    {
     "data": {
      "image/png": "[encoded data removed]"
     },
     "metadata": {},
     "output_type": "display_data"
    }
   ],
   "source": [
    "fig, ax = create_figure(1, 1, figsize=(13, 4))\n",
    "\n",
    "sns.histplot(pvals.ravel(), bins=np.linspace(0, 1, 201), color='tomato', label='raw')\n",
    "sns.histplot(pvals_fdr.ravel(), bins=np.linspace(0, 1, 201), color='C0', label='FDR corrected')\n",
    "sns.histplot(xxx.ravel(), bins=np.linspace(0, 1, 201), color='k', label='XXX')\n",
    "plt.legend()\n",
    "plt.show()"
   ]
  },
  {
   "cell_type": "code",
   "execution_count": null,
   "id": "69a055d0",
   "metadata": {},
   "outputs": [],
   "source": []
  },
  {
   "cell_type": "code",
   "execution_count": 62,
   "id": "690f3555",
   "metadata": {},
   "outputs": [
    {
     "data": {
      "text/html": [
       "<pre style=\"white-space:pre;overflow-x:auto;line-height:normal;font-family:Menlo,'DejaVu Sans Mono',consolas,'Courier New',monospace\"><span style=\"font-weight: bold\">(</span><span style=\"color: #008080; text-decoration-color: #008080; font-weight: bold\">0</span>, <span style=\"color: #008080; text-decoration-color: #008080; font-weight: bold\">2</span>, <span style=\"color: #008080; text-decoration-color: #008080; font-weight: bold\">6</span><span style=\"font-weight: bold\">)</span>\n",
       "</pre>\n"
      ],
      "text/plain": [
       "\u001b[1m(\u001b[0m\u001b[1;36m0\u001b[0m, \u001b[1;36m2\u001b[0m, \u001b[1;36m6\u001b[0m\u001b[1m)\u001b[0m\n"
      ]
     },
     "metadata": {},
     "output_type": "display_data"
    }
   ],
   "source": [
    "ids = np.unravel_index(np.nanargmax(xxx), xxx.shape)\n",
    "ids"
   ]
  },
  {
   "cell_type": "code",
   "execution_count": 63,
   "id": "627eaea5",
   "metadata": {},
   "outputs": [
    {
     "data": {
      "text/html": [
       "<pre style=\"white-space:pre;overflow-x:auto;line-height:normal;font-family:Menlo,'DejaVu Sans Mono',consolas,'Courier New',monospace\"><span style=\"color: #008080; text-decoration-color: #008080; font-weight: bold\">0.9609009720359751</span>\n",
       "</pre>\n"
      ],
      "text/plain": [
       "\u001b[1;36m0.9609009720359751\u001b[0m\n"
      ]
     },
     "metadata": {},
     "output_type": "display_data"
    }
   ],
   "source": [
    "pi[ids]"
   ]
  },
  {
   "cell_type": "code",
   "execution_count": null,
   "id": "d23b27fe",
   "metadata": {},
   "outputs": [],
   "source": []
  },
  {
   "cell_type": "code",
   "execution_count": 64,
   "id": "95ad05e5",
   "metadata": {},
   "outputs": [
    {
     "data": {
      "text/html": [
       "<pre style=\"white-space:pre;overflow-x:auto;line-height:normal;font-family:Menlo,'DejaVu Sans Mono',consolas,'Courier New',monospace\"><span style=\"font-weight: bold\">(</span><span style=\"color: #008080; text-decoration-color: #008080; font-weight: bold\">8</span>, <span style=\"color: #008080; text-decoration-color: #008080; font-weight: bold\">1</span>, <span style=\"color: #008080; text-decoration-color: #008080; font-weight: bold\">79</span><span style=\"font-weight: bold\">)</span>\n",
       "</pre>\n"
      ],
      "text/plain": [
       "\u001b[1m(\u001b[0m\u001b[1;36m8\u001b[0m, \u001b[1;36m1\u001b[0m, \u001b[1;36m79\u001b[0m\u001b[1m)\u001b[0m\n"
      ]
     },
     "metadata": {},
     "output_type": "display_data"
    }
   ],
   "source": [
    "ids = np.unravel_index(np.nanargmin(xxx), xxx.shape)\n",
    "ids"
   ]
  },
  {
   "cell_type": "code",
   "execution_count": 65,
   "id": "f94c22f8",
   "metadata": {},
   "outputs": [
    {
     "data": {
      "text/html": [
       "<pre style=\"white-space:pre;overflow-x:auto;line-height:normal;font-family:Menlo,'DejaVu Sans Mono',consolas,'Courier New',monospace\"><span style=\"color: #008080; text-decoration-color: #008080; font-weight: bold\">0.0020555389866820117</span>\n",
       "</pre>\n"
      ],
      "text/plain": [
       "\u001b[1;36m0.0020555389866820117\u001b[0m\n"
      ]
     },
     "metadata": {},
     "output_type": "display_data"
    }
   ],
   "source": [
    "pi[ids]"
   ]
  },
  {
   "cell_type": "code",
   "execution_count": 68,
   "id": "d9270401",
   "metadata": {},
   "outputs": [
    {
     "data": {
      "text/html": [
       "<pre style=\"white-space:pre;overflow-x:auto;line-height:normal;font-family:Menlo,'DejaVu Sans Mono',consolas,'Courier New',monospace\"><span style=\"font-weight: bold\">(</span><span style=\"color: #008080; text-decoration-color: #008080; font-weight: bold\">3</span>, <span style=\"color: #008080; text-decoration-color: #008080; font-weight: bold\">0</span>, <span style=\"color: #008080; text-decoration-color: #008080; font-weight: bold\">0</span>, <span style=\"color: #008080; text-decoration-color: #008080; font-weight: bold\">73</span>, <span style=\"color: #008080; text-decoration-color: #008080; font-weight: bold\">0</span>, <span style=\"color: #008080; text-decoration-color: #008080; font-weight: bold\">53</span><span style=\"font-weight: bold\">)</span>\n",
       "</pre>\n"
      ],
      "text/plain": [
       "\u001b[1m(\u001b[0m\u001b[1;36m3\u001b[0m, \u001b[1;36m0\u001b[0m, \u001b[1;36m0\u001b[0m, \u001b[1;36m73\u001b[0m, \u001b[1;36m0\u001b[0m, \u001b[1;36m53\u001b[0m\u001b[1m)\u001b[0m\n"
      ]
     },
     "metadata": {},
     "output_type": "display_data"
    }
   ],
   "source": [
    "np.unravel_index(np.nanargmin(gr_ca.run_pi), gr_ca.run_pi.shape)"
   ]
  },
  {
   "cell_type": "code",
   "execution_count": 69,
   "id": "c51595fe",
   "metadata": {},
   "outputs": [
    {
     "data": {
      "text/html": [
       "<pre style=\"white-space:pre;overflow-x:auto;line-height:normal;font-family:Menlo,'DejaVu Sans Mono',consolas,'Courier New',monospace\"><span style=\"color: #800080; text-decoration-color: #800080; font-weight: bold\">memmap</span><span style=\"font-weight: bold\">([</span><span style=\"color: #008080; text-decoration-color: #008080; font-weight: bold\">0.00191758</span>, <span style=\"color: #008080; text-decoration-color: #008080; font-weight: bold\">0.9884945</span> , <span style=\"color: #008080; text-decoration-color: #008080; font-weight: bold\">0.00191758</span>, <span style=\"color: #008080; text-decoration-color: #008080; font-weight: bold\">0.00191758</span>, <span style=\"color: #008080; text-decoration-color: #008080; font-weight: bold\">0.00191758</span>,\n",
       "        <span style=\"color: #008080; text-decoration-color: #008080; font-weight: bold\">0.00191758</span>, <span style=\"color: #008080; text-decoration-color: #008080; font-weight: bold\">0.00191758</span><span style=\"font-weight: bold\">])</span>\n",
       "</pre>\n"
      ],
      "text/plain": [
       "\u001b[1;35mmemmap\u001b[0m\u001b[1m(\u001b[0m\u001b[1m[\u001b[0m\u001b[1;36m0.00191758\u001b[0m, \u001b[1;36m0.9884945\u001b[0m , \u001b[1;36m0.00191758\u001b[0m, \u001b[1;36m0.00191758\u001b[0m, \u001b[1;36m0.00191758\u001b[0m,\n",
       "        \u001b[1;36m0.00191758\u001b[0m, \u001b[1;36m0.00191758\u001b[0m\u001b[1m]\u001b[0m\u001b[1m)\u001b[0m\n"
      ]
     },
     "metadata": {},
     "output_type": "display_data"
    }
   ],
   "source": [
    "gr_ca.run_pi[3, 0, 0, 73, :, 53]"
   ]
  },
  {
   "cell_type": "code",
   "execution_count": null,
   "id": "3e7966fd",
   "metadata": {},
   "outputs": [],
   "source": []
  },
  {
   "cell_type": "code",
   "execution_count": null,
   "id": "b34e9cf6",
   "metadata": {},
   "outputs": [],
   "source": []
  },
  {
   "cell_type": "code",
   "execution_count": 41,
   "id": "57e912be",
   "metadata": {
    "scrolled": true
   },
   "outputs": [
    {
     "data": {
      "text/html": [
       "<pre style=\"white-space:pre;overflow-x:auto;line-height:normal;font-family:Menlo,'DejaVu Sans Mono',consolas,'Courier New',monospace\"><span style=\"font-weight: bold\">(</span><span style=\"color: #008080; text-decoration-color: #008080; font-weight: bold\">-2.262157162740992</span>, <span style=\"color: #008080; text-decoration-color: #008080; font-weight: bold\">2.2621571627409915</span><span style=\"font-weight: bold\">)</span>\n",
       "</pre>\n"
      ],
      "text/plain": [
       "\u001b[1m(\u001b[0m\u001b[1;36m-2.262157162740992\u001b[0m, \u001b[1;36m2.2621571627409915\u001b[0m\u001b[1m)\u001b[0m\n"
      ]
     },
     "metadata": {},
     "output_type": "display_data"
    }
   ],
   "source": [
    "sp_stats.t.ppf(0.025, 9), sp_stats.t.ppf(0.975, 9)"
   ]
  },
  {
   "cell_type": "code",
   "execution_count": 42,
   "id": "b2d29f02",
   "metadata": {},
   "outputs": [
    {
     "data": {
      "text/html": [
       "<pre style=\"white-space:pre;overflow-x:auto;line-height:normal;font-family:Menlo,'DejaVu Sans Mono',consolas,'Courier New',monospace\"><span style=\"color: #008080; text-decoration-color: #008080; font-weight: bold\">2.2621571627</span>\n",
       "</pre>\n"
      ],
      "text/plain": [
       "\u001b[1;36m2.2621571627\u001b[0m\n"
      ]
     },
     "metadata": {},
     "output_type": "display_data"
    }
   ],
   "source": [
    "t = sp_stats.t.ppf(0.975, 9)\n",
    "np.round(t, 10)"
   ]
  },
  {
   "cell_type": "code",
   "execution_count": 43,
   "id": "9dde018b",
   "metadata": {},
   "outputs": [
    {
     "data": {
      "text/html": [
       "<pre style=\"white-space:pre;overflow-x:auto;line-height:normal;font-family:Menlo,'DejaVu Sans Mono',consolas,'Courier New',monospace\"><span style=\"color: #008080; text-decoration-color: #008080; font-weight: bold\">0.975</span>\n",
       "</pre>\n"
      ],
      "text/plain": [
       "\u001b[1;36m0.975\u001b[0m\n"
      ]
     },
     "metadata": {},
     "output_type": "display_data"
    }
   ],
   "source": [
    "c = sp_stats.t.cdf(t, 9)\n",
    "np.round(c, 10)"
   ]
  },
  {
   "cell_type": "code",
   "execution_count": null,
   "id": "f0ea46b5",
   "metadata": {},
   "outputs": [],
   "source": []
  },
  {
   "cell_type": "code",
   "execution_count": null,
   "id": "19387c8c",
   "metadata": {},
   "outputs": [],
   "source": []
  },
  {
   "cell_type": "code",
   "execution_count": null,
   "id": "9e0cee6e",
   "metadata": {},
   "outputs": [],
   "source": []
  },
  {
   "cell_type": "code",
   "execution_count": null,
   "id": "026a9407",
   "metadata": {},
   "outputs": [],
   "source": []
  },
  {
   "cell_type": "code",
   "execution_count": null,
   "id": "7d8c68cf",
   "metadata": {},
   "outputs": [],
   "source": []
  },
  {
   "cell_type": "code",
   "execution_count": null,
   "id": "7f151597",
   "metadata": {},
   "outputs": [],
   "source": []
  },
  {
   "cell_type": "code",
   "execution_count": 291,
   "id": "5c1e464f",
   "metadata": {},
   "outputs": [
    {
     "data": {
      "text/html": [
       "<pre style=\"white-space:pre;overflow-x:auto;line-height:normal;font-family:Menlo,'DejaVu Sans Mono',consolas,'Courier New',monospace\"><span style=\"font-weight: bold\">(</span><span style=\"color: #008080; text-decoration-color: #008080; font-weight: bold\">0</span>, <span style=\"color: #008080; text-decoration-color: #008080; font-weight: bold\">0</span>, <span style=\"color: #008080; text-decoration-color: #008080; font-weight: bold\">1</span><span style=\"font-weight: bold\">)</span>\n",
       "</pre>\n"
      ],
      "text/plain": [
       "\u001b[1m(\u001b[0m\u001b[1;36m0\u001b[0m, \u001b[1;36m0\u001b[0m, \u001b[1;36m1\u001b[0m\u001b[1m)\u001b[0m\n"
      ]
     },
     "metadata": {},
     "output_type": "display_data"
    }
   ],
   "source": [
    "list(zip(*np.where(rej == 0)))[1]"
   ]
  },
  {
   "cell_type": "code",
   "execution_count": 292,
   "id": "99c9d641",
   "metadata": {},
   "outputs": [
    {
     "data": {
      "text/html": [
       "<pre style=\"white-space:pre;overflow-x:auto;line-height:normal;font-family:Menlo,'DejaVu Sans Mono',consolas,'Courier New',monospace\"><span style=\"color: #008080; text-decoration-color: #008080; font-weight: bold\">0.04372370580411694</span>\n",
       "</pre>\n"
      ],
      "text/plain": [
       "\u001b[1;36m0.04372370580411694\u001b[0m\n"
      ]
     },
     "metadata": {},
     "output_type": "display_data"
    }
   ],
   "source": [
    "pi[0,0,1]"
   ]
  },
  {
   "cell_type": "code",
   "execution_count": null,
   "id": "18037f13",
   "metadata": {},
   "outputs": [],
   "source": []
  },
  {
   "cell_type": "code",
   "execution_count": null,
   "id": "e121a322",
   "metadata": {},
   "outputs": [],
   "source": []
  },
  {
   "cell_type": "code",
   "execution_count": 265,
   "id": "e2a7921d",
   "metadata": {},
   "outputs": [
    {
     "data": {
      "text/html": [
       "<pre style=\"white-space:pre;overflow-x:auto;line-height:normal;font-family:Menlo,'DejaVu Sans Mono',consolas,'Courier New',monospace\"><span style=\"font-weight: bold\">(</span><span style=\"color: #008080; text-decoration-color: #008080; font-weight: bold\">0.58796992481203</span>, <span style=\"color: #008080; text-decoration-color: #008080; font-weight: bold\">0.4120300751879699</span><span style=\"font-weight: bold\">)</span>\n",
       "</pre>\n"
      ],
      "text/plain": [
       "\u001b[1m(\u001b[0m\u001b[1;36m0.58796992481203\u001b[0m, \u001b[1;36m0.4120300751879699\u001b[0m\u001b[1m)\u001b[0m\n"
      ]
     },
     "metadata": {},
     "output_type": "display_data"
    }
   ],
   "source": [
    "reject_h0.sum() / np.prod(reject_h0.shape), (~reject_h0).sum() / np.prod(reject_h0.shape)"
   ]
  },
  {
   "cell_type": "code",
   "execution_count": 278,
   "id": "33ac2104",
   "metadata": {},
   "outputs": [],
   "source": [
    "from statsmodels.stats.multitest import fdrcorrection\n",
    "from statsmodels.stats.multitest import multipletests"
   ]
  },
  {
   "cell_type": "code",
   "execution_count": 281,
   "id": "d3c925f3",
   "metadata": {},
   "outputs": [],
   "source": [
    "rejected_corrected = np_nans(pvals.shape)\n",
    "pvals_corrected = np_nans(pvals.shape)\n",
    "rejected_corrected[np.isfinite(pvals)], pvals_corrected[np.isfinite(pvals)], *_ = multipletests(\n",
    "    pvals[np.isfinite(pvals)], alpha=alpha, method='fdr_bh')"
   ]
  },
  {
   "cell_type": "code",
   "execution_count": 282,
   "id": "c1bcf092",
   "metadata": {},
   "outputs": [
    {
     "data": {
      "text/html": [
       "<pre style=\"white-space:pre;overflow-x:auto;line-height:normal;font-family:Menlo,'DejaVu Sans Mono',consolas,'Courier New',monospace\"><span style=\"font-weight: bold\">((</span><span style=\"color: #008080; text-decoration-color: #008080; font-weight: bold\">10</span>, <span style=\"color: #008080; text-decoration-color: #008080; font-weight: bold\">7</span>, <span style=\"color: #008080; text-decoration-color: #008080; font-weight: bold\">152</span><span style=\"font-weight: bold\">)</span>, <span style=\"font-weight: bold\">(</span><span style=\"color: #008080; text-decoration-color: #008080; font-weight: bold\">10</span>, <span style=\"color: #008080; text-decoration-color: #008080; font-weight: bold\">7</span>, <span style=\"color: #008080; text-decoration-color: #008080; font-weight: bold\">152</span><span style=\"font-weight: bold\">))</span>\n",
       "</pre>\n"
      ],
      "text/plain": [
       "\u001b[1m(\u001b[0m\u001b[1m(\u001b[0m\u001b[1;36m10\u001b[0m, \u001b[1;36m7\u001b[0m, \u001b[1;36m152\u001b[0m\u001b[1m)\u001b[0m, \u001b[1m(\u001b[0m\u001b[1;36m10\u001b[0m, \u001b[1;36m7\u001b[0m, \u001b[1;36m152\u001b[0m\u001b[1m)\u001b[0m\u001b[1m)\u001b[0m\n"
      ]
     },
     "metadata": {},
     "output_type": "display_data"
    }
   ],
   "source": [
    "rejected_corrected.shape, pvals_corrected.shape"
   ]
  },
  {
   "cell_type": "code",
   "execution_count": 264,
   "id": "82e32734",
   "metadata": {},
   "outputs": [
    {
     "data": {
      "text/html": [
       "<pre style=\"white-space:pre;overflow-x:auto;line-height:normal;font-family:Menlo,'DejaVu Sans Mono',consolas,'Courier New',monospace\"><span style=\"font-weight: bold\">&lt;</span><span style=\"color: #ff00ff; text-decoration-color: #ff00ff; font-weight: bold\">AxesSubplot:</span><span style=\"color: #808000; text-decoration-color: #808000; font-weight: bold\">ylabel</span><span style=\"color: #000000; text-decoration-color: #000000\">=</span><span style=\"color: #008000; text-decoration-color: #008000\">'Count'</span><span style=\"font-weight: bold\">&gt;</span>\n",
       "</pre>\n"
      ],
      "text/plain": [
       "\u001b[1m<\u001b[0m\u001b[1;95mAxesSubplot:\u001b[0m\u001b[1;33mylabel\u001b[0m\u001b[39m=\u001b[0m\u001b[32m'Count'\u001b[0m\u001b[1m>\u001b[0m\n"
      ]
     },
     "metadata": {},
     "output_type": "display_data"
    },
    {
     "data": {
      "image/png": "[encoded data removed]"
     },
     "metadata": {},
     "output_type": "display_data"
    }
   ],
   "source": [
    "sns.histplot(pvals[np.isfinite(pvals)])\n",
    "sns.histplot(pvals_corrected[np.isfinite(pvals)], color='r')"
   ]
  },
  {
   "cell_type": "code",
   "execution_count": 254,
   "id": "ee30bafb",
   "metadata": {},
   "outputs": [],
   "source": [
    "nans = list(zip(*np.where(np.isnan(pvals))))"
   ]
  },
  {
   "cell_type": "code",
   "execution_count": 255,
   "id": "dab151a7",
   "metadata": {},
   "outputs": [
    {
     "data": {
      "text/html": [
       "<pre style=\"white-space:pre;overflow-x:auto;line-height:normal;font-family:Menlo,'DejaVu Sans Mono',consolas,'Courier New',monospace\"><span style=\"font-weight: bold\">(</span><span style=\"color: #008080; text-decoration-color: #008080; font-weight: bold\">3</span>, <span style=\"color: #008080; text-decoration-color: #008080; font-weight: bold\">3</span>, <span style=\"color: #008080; text-decoration-color: #008080; font-weight: bold\">129</span><span style=\"font-weight: bold\">)</span>\n",
       "</pre>\n"
      ],
      "text/plain": [
       "\u001b[1m(\u001b[0m\u001b[1;36m3\u001b[0m, \u001b[1;36m3\u001b[0m, \u001b[1;36m129\u001b[0m\u001b[1m)\u001b[0m\n"
      ]
     },
     "metadata": {},
     "output_type": "display_data"
    }
   ],
   "source": [
    "nans[52]"
   ]
  },
  {
   "cell_type": "code",
   "execution_count": 256,
   "id": "7be1d28a",
   "metadata": {},
   "outputs": [
    {
     "data": {
      "text/html": [
       "<pre style=\"white-space:pre;overflow-x:auto;line-height:normal;font-family:Menlo,'DejaVu Sans Mono',consolas,'Courier New',monospace\">nan\n",
       "</pre>\n"
      ],
      "text/plain": [
       "nan\n"
      ]
     },
     "metadata": {},
     "output_type": "display_data"
    }
   ],
   "source": [
    "pvals[3, 3, 129]"
   ]
  },
  {
   "cell_type": "code",
   "execution_count": 257,
   "id": "2b9971c6",
   "metadata": {},
   "outputs": [
    {
     "data": {
      "text/html": [
       "<pre style=\"white-space:pre;overflow-x:auto;line-height:normal;font-family:Menlo,'DejaVu Sans Mono',consolas,'Courier New',monospace\">nan\n",
       "</pre>\n"
      ],
      "text/plain": [
       "nan\n"
      ]
     },
     "metadata": {},
     "output_type": "display_data"
    }
   ],
   "source": [
    "pvals_corrected[3, 3, 129]"
   ]
  },
  {
   "cell_type": "code",
   "execution_count": 260,
   "id": "cec7f2b0",
   "metadata": {},
   "outputs": [
    {
     "data": {
      "text/html": [
       "<pre style=\"white-space:pre;overflow-x:auto;line-height:normal;font-family:Menlo,'DejaVu Sans Mono',consolas,'Courier New',monospace\"><span style=\"color: #008080; text-decoration-color: #008080; font-weight: bold\">5228</span>\n",
       "</pre>\n"
      ],
      "text/plain": [
       "\u001b[1;36m5228\u001b[0m\n"
      ]
     },
     "metadata": {},
     "output_type": "display_data"
    }
   ],
   "source": [
    "(rejected == 1).sum()"
   ]
  },
  {
   "cell_type": "code",
   "execution_count": null,
   "id": "6e97c62f",
   "metadata": {},
   "outputs": [],
   "source": []
  },
  {
   "cell_type": "code",
   "execution_count": 271,
   "id": "d606b7dd",
   "metadata": {},
   "outputs": [
    {
     "data": {
      "text/html": [
       "<pre style=\"white-space:pre;overflow-x:auto;line-height:normal;font-family:Menlo,'DejaVu Sans Mono',consolas,'Courier New',monospace\"><span style=\"color: #008080; text-decoration-color: #008080; font-weight: bold\">1028</span>\n",
       "</pre>\n"
      ],
      "text/plain": [
       "\u001b[1;36m1028\u001b[0m\n"
      ]
     },
     "metadata": {},
     "output_type": "display_data"
    }
   ],
   "source": [
    "diff = np.logical_and(rejected_corrected == 0, reject_h0 == 1)\n",
    "diff.sum()"
   ]
  },
  {
   "cell_type": "code",
   "execution_count": 272,
   "id": "1237eca1",
   "metadata": {},
   "outputs": [],
   "source": [
    "false_positives = list(zip(*np.where(diff)))"
   ]
  },
  {
   "cell_type": "code",
   "execution_count": 273,
   "id": "14cfceb7",
   "metadata": {},
   "outputs": [
    {
     "data": {
      "text/html": [
       "<pre style=\"white-space:pre;overflow-x:auto;line-height:normal;font-family:Menlo,'DejaVu Sans Mono',consolas,'Courier New',monospace\"><span style=\"font-weight: bold\">(</span><span style=\"color: #008080; text-decoration-color: #008080; font-weight: bold\">0</span>, <span style=\"color: #008080; text-decoration-color: #008080; font-weight: bold\">0</span>, <span style=\"color: #008080; text-decoration-color: #008080; font-weight: bold\">0</span><span style=\"font-weight: bold\">)</span>\n",
       "</pre>\n"
      ],
      "text/plain": [
       "\u001b[1m(\u001b[0m\u001b[1;36m0\u001b[0m, \u001b[1;36m0\u001b[0m, \u001b[1;36m0\u001b[0m\u001b[1m)\u001b[0m\n"
      ]
     },
     "metadata": {},
     "output_type": "display_data"
    }
   ],
   "source": [
    "false_positives[0]"
   ]
  },
  {
   "cell_type": "code",
   "execution_count": 276,
   "id": "df6bb5d6",
   "metadata": {},
   "outputs": [
    {
     "data": {
      "text/html": [
       "<pre style=\"white-space:pre;overflow-x:auto;line-height:normal;font-family:Menlo,'DejaVu Sans Mono',consolas,'Courier New',monospace\"><span style=\"font-weight: bold\">(</span><span style=\"color: #008080; text-decoration-color: #008080; font-weight: bold\">0.1146436855008565</span>, <span style=\"color: #008080; text-decoration-color: #008080; font-weight: bold\">0.048609696918250234</span><span style=\"font-weight: bold\">)</span>\n",
       "</pre>\n"
      ],
      "text/plain": [
       "\u001b[1m(\u001b[0m\u001b[1;36m0.1146436855008565\u001b[0m, \u001b[1;36m0.048609696918250234\u001b[0m\u001b[1m)\u001b[0m\n"
      ]
     },
     "metadata": {},
     "output_type": "display_data"
    }
   ],
   "source": [
    "pi[false_positives[0]], pvals[false_positives[0]]"
   ]
  },
  {
   "cell_type": "code",
   "execution_count": 277,
   "id": "d2386389",
   "metadata": {},
   "outputs": [
    {
     "data": {
      "text/html": [
       "<pre style=\"white-space:pre;overflow-x:auto;line-height:normal;font-family:Menlo,'DejaVu Sans Mono',consolas,'Courier New',monospace\"><span style=\"font-weight: bold\">(</span><span style=\"color: #008080; text-decoration-color: #008080; font-weight: bold\">0.1146436855008565</span>, <span style=\"color: #008080; text-decoration-color: #008080; font-weight: bold\">0.0815635680272442</span><span style=\"font-weight: bold\">)</span>\n",
       "</pre>\n"
      ],
      "text/plain": [
       "\u001b[1m(\u001b[0m\u001b[1;36m0.1146436855008565\u001b[0m, \u001b[1;36m0.0815635680272442\u001b[0m\u001b[1m)\u001b[0m\n"
      ]
     },
     "metadata": {},
     "output_type": "display_data"
    }
   ],
   "source": [
    "pi[false_positives[0]], pvals_corrected[false_positives[0]]"
   ]
  },
  {
   "cell_type": "code",
   "execution_count": null,
   "id": "a72a271b",
   "metadata": {},
   "outputs": [],
   "source": []
  },
  {
   "cell_type": "code",
   "execution_count": null,
   "id": "7fc4c2d7",
   "metadata": {},
   "outputs": [],
   "source": []
  },
  {
   "cell_type": "code",
   "execution_count": null,
   "id": "a6c018e2",
   "metadata": {},
   "outputs": [],
   "source": []
  },
  {
   "cell_type": "code",
   "execution_count": null,
   "id": "b6a01926",
   "metadata": {},
   "outputs": [],
   "source": []
  },
  {
   "cell_type": "code",
   "execution_count": 203,
   "id": "6f1e264e",
   "metadata": {},
   "outputs": [],
   "source": [
    "tvals = (pi - mu) / se\n",
    "pvals = 1 - sp_stats.t.cdf(tvals, 11)\n",
    "reject_h0 = pvals < alpha"
   ]
  },
  {
   "cell_type": "code",
   "execution_count": 204,
   "id": "353822c0",
   "metadata": {},
   "outputs": [
    {
     "data": {
      "text/html": [
       "<pre style=\"white-space:pre;overflow-x:auto;line-height:normal;font-family:Menlo,'DejaVu Sans Mono',consolas,'Courier New',monospace\"><span style=\"font-weight: bold\">&lt;</span><span style=\"color: #ff00ff; text-decoration-color: #ff00ff; font-weight: bold\">AxesSubplot:</span><span style=\"color: #808000; text-decoration-color: #808000; font-weight: bold\">ylabel</span><span style=\"color: #000000; text-decoration-color: #000000\">=</span><span style=\"color: #008000; text-decoration-color: #008000\">'Count'</span><span style=\"font-weight: bold\">&gt;</span>\n",
       "</pre>\n"
      ],
      "text/plain": [
       "\u001b[1m<\u001b[0m\u001b[1;95mAxesSubplot:\u001b[0m\u001b[1;33mylabel\u001b[0m\u001b[39m=\u001b[0m\u001b[32m'Count'\u001b[0m\u001b[1m>\u001b[0m\n"
      ]
     },
     "metadata": {},
     "output_type": "display_data"
    },
    {
     "data": {
      "image/png": "[encoded data removed]"
     },
     "metadata": {},
     "output_type": "display_data"
    }
   ],
   "source": [
    "sns.histplot(tvals.ravel(), bins=np.linspace(-50, 50, 200))"
   ]
  },
  {
   "cell_type": "code",
   "execution_count": 209,
   "id": "9f4855e7",
   "metadata": {},
   "outputs": [
    {
     "data": {
      "text/html": [
       "<pre style=\"white-space:pre;overflow-x:auto;line-height:normal;font-family:Menlo,'DejaVu Sans Mono',consolas,'Courier New',monospace\"><span style=\"font-weight: bold\">&lt;</span><span style=\"color: #ff00ff; text-decoration-color: #ff00ff; font-weight: bold\">AxesSubplot:</span><span style=\"color: #808000; text-decoration-color: #808000; font-weight: bold\">ylabel</span><span style=\"color: #000000; text-decoration-color: #000000\">=</span><span style=\"color: #008000; text-decoration-color: #008000\">'Count'</span><span style=\"font-weight: bold\">&gt;</span>\n",
       "</pre>\n"
      ],
      "text/plain": [
       "\u001b[1m<\u001b[0m\u001b[1;95mAxesSubplot:\u001b[0m\u001b[1;33mylabel\u001b[0m\u001b[39m=\u001b[0m\u001b[32m'Count'\u001b[0m\u001b[1m>\u001b[0m\n"
      ]
     },
     "metadata": {},
     "output_type": "display_data"
    },
    {
     "data": {
      "image/png": "[encoded data removed]"
     },
     "metadata": {},
     "output_type": "display_data"
    }
   ],
   "source": [
    "sns.histplot(pvals.ravel())"
   ]
  },
  {
   "cell_type": "code",
   "execution_count": null,
   "id": "cacc0d1d",
   "metadata": {},
   "outputs": [],
   "source": []
  },
  {
   "cell_type": "code",
   "execution_count": 205,
   "id": "70ef01b1",
   "metadata": {},
   "outputs": [],
   "source": [
    "output = gr_ca.cast_votes(se)"
   ]
  },
  {
   "cell_type": "code",
   "execution_count": 206,
   "id": "02485d69",
   "metadata": {},
   "outputs": [
    {
     "data": {
      "text/html": [
       "<pre style=\"white-space:pre;overflow-x:auto;line-height:normal;font-family:Menlo,'DejaVu Sans Mono',consolas,'Courier New',monospace\"><span style=\"color: #008080; text-decoration-color: #008080; font-weight: bold\">6509</span>\n",
       "</pre>\n"
      ],
      "text/plain": [
       "\u001b[1;36m6509\u001b[0m\n"
      ]
     },
     "metadata": {},
     "output_type": "display_data"
    }
   ],
   "source": [
    "output['votes'].sum()"
   ]
  },
  {
   "cell_type": "code",
   "execution_count": 208,
   "id": "78107c97",
   "metadata": {},
   "outputs": [
    {
     "data": {
      "text/html": [
       "<pre style=\"white-space:pre;overflow-x:auto;line-height:normal;font-family:Menlo,'DejaVu Sans Mono',consolas,'Courier New',monospace\"><span style=\"color: #008080; text-decoration-color: #008080; font-weight: bold\">6298</span>\n",
       "</pre>\n"
      ],
      "text/plain": [
       "\u001b[1;36m6298\u001b[0m\n"
      ]
     },
     "metadata": {},
     "output_type": "display_data"
    }
   ],
   "source": [
    "reject_h0.sum()"
   ]
  },
  {
   "cell_type": "code",
   "execution_count": null,
   "id": "c4127dc0",
   "metadata": {},
   "outputs": [],
   "source": []
  },
  {
   "cell_type": "code",
   "execution_count": null,
   "id": "733e0080",
   "metadata": {},
   "outputs": [],
   "source": []
  },
  {
   "cell_type": "code",
   "execution_count": null,
   "id": "6625d453",
   "metadata": {},
   "outputs": [],
   "source": []
  },
  {
   "cell_type": "code",
   "execution_count": 192,
   "id": "caba1b41",
   "metadata": {},
   "outputs": [
    {
     "data": {
      "text/html": [
       "<pre style=\"white-space:pre;overflow-x:auto;line-height:normal;font-family:Menlo,'DejaVu Sans Mono',consolas,'Courier New',monospace\"><span style=\"font-weight: bold\">(</span><span style=\"color: #008080; text-decoration-color: #008080; font-weight: bold\">9</span>, <span style=\"color: #008080; text-decoration-color: #008080; font-weight: bold\">2</span>, <span style=\"color: #008080; text-decoration-color: #008080; font-weight: bold\">79</span><span style=\"font-weight: bold\">)</span>\n",
       "</pre>\n"
      ],
      "text/plain": [
       "\u001b[1m(\u001b[0m\u001b[1;36m9\u001b[0m, \u001b[1;36m2\u001b[0m, \u001b[1;36m79\u001b[0m\u001b[1m)\u001b[0m\n"
      ]
     },
     "metadata": {},
     "output_type": "display_data"
    }
   ],
   "source": [
    "np.unravel_index(np.nanargmax(tvals), tvals.shape)"
   ]
  },
  {
   "cell_type": "code",
   "execution_count": 199,
   "id": "a9daa49f",
   "metadata": {},
   "outputs": [
    {
     "data": {
      "text/html": [
       "<pre style=\"white-space:pre;overflow-x:auto;line-height:normal;font-family:Menlo,'DejaVu Sans Mono',consolas,'Courier New',monospace\"><span style=\"font-weight: bold\">(</span><span style=\"color: #008080; text-decoration-color: #008080; font-weight: bold\">0.9762420555990354</span>, <span style=\"color: #008080; text-decoration-color: #008080; font-weight: bold\">341.56247575206766</span>, <span style=\"color: #008080; text-decoration-color: #008080; font-weight: bold\">0.0</span><span style=\"font-weight: bold\">)</span>\n",
       "</pre>\n"
      ],
      "text/plain": [
       "\u001b[1m(\u001b[0m\u001b[1;36m0.9762420555990354\u001b[0m, \u001b[1;36m341.56247575206766\u001b[0m, \u001b[1;36m0.0\u001b[0m\u001b[1m)\u001b[0m\n"
      ]
     },
     "metadata": {},
     "output_type": "display_data"
    }
   ],
   "source": [
    "pi[9, 2, 79], tvals[9, 2, 79], pvals[9, 2, 79]"
   ]
  },
  {
   "cell_type": "code",
   "execution_count": 200,
   "id": "4558d7e0",
   "metadata": {},
   "outputs": [
    {
     "data": {
      "text/html": [
       "<pre style=\"white-space:pre;overflow-x:auto;line-height:normal;font-family:Menlo,'DejaVu Sans Mono',consolas,'Courier New',monospace\"><span style=\"font-weight: bold\">(</span><span style=\"color: #008080; text-decoration-color: #008080; font-weight: bold\">8</span>, <span style=\"color: #008080; text-decoration-color: #008080; font-weight: bold\">1</span>, <span style=\"color: #008080; text-decoration-color: #008080; font-weight: bold\">79</span><span style=\"font-weight: bold\">)</span>\n",
       "</pre>\n"
      ],
      "text/plain": [
       "\u001b[1m(\u001b[0m\u001b[1;36m8\u001b[0m, \u001b[1;36m1\u001b[0m, \u001b[1;36m79\u001b[0m\u001b[1m)\u001b[0m\n"
      ]
     },
     "metadata": {},
     "output_type": "display_data"
    }
   ],
   "source": [
    "np.unravel_index(np.nanargmin(tvals), tvals.shape)"
   ]
  },
  {
   "cell_type": "code",
   "execution_count": 201,
   "id": "780b5fc4",
   "metadata": {},
   "outputs": [
    {
     "data": {
      "text/html": [
       "<pre style=\"white-space:pre;overflow-x:auto;line-height:normal;font-family:Menlo,'DejaVu Sans Mono',consolas,'Courier New',monospace\"><span style=\"font-weight: bold\">(</span><span style=\"color: #008080; text-decoration-color: #008080; font-weight: bold\">0.0020555389866820117</span>, <span style=\"color: #008080; text-decoration-color: #008080; font-weight: bold\">-372798185.58709013</span>, <span style=\"color: #008080; text-decoration-color: #008080; font-weight: bold\">1.0</span><span style=\"font-weight: bold\">)</span>\n",
       "</pre>\n"
      ],
      "text/plain": [
       "\u001b[1m(\u001b[0m\u001b[1;36m0.0020555389866820117\u001b[0m, \u001b[1;36m-372798185.58709013\u001b[0m, \u001b[1;36m1.0\u001b[0m\u001b[1m)\u001b[0m\n"
      ]
     },
     "metadata": {},
     "output_type": "display_data"
    }
   ],
   "source": [
    "pi[8, 1, 79], tvals[8, 1, 79], pvals[8, 1, 79]"
   ]
  },
  {
   "cell_type": "code",
   "execution_count": null,
   "id": "0d2eb94a",
   "metadata": {},
   "outputs": [],
   "source": []
  },
  {
   "cell_type": "code",
   "execution_count": null,
   "id": "f9222c9e",
   "metadata": {},
   "outputs": [],
   "source": []
  },
  {
   "cell_type": "code",
   "execution_count": null,
   "id": "8ac827df",
   "metadata": {},
   "outputs": [],
   "source": []
  },
  {
   "cell_type": "code",
   "execution_count": 39,
   "id": "3da8036f",
   "metadata": {},
   "outputs": [
    {
     "data": {
      "text/html": [
       "<pre style=\"white-space:pre;overflow-x:auto;line-height:normal;font-family:Menlo,'DejaVu Sans Mono',consolas,'Courier New',monospace\"><span style=\"color: #008080; text-decoration-color: #008080; font-weight: bold\">0.03540197753401726</span>\n",
       "</pre>\n"
      ],
      "text/plain": [
       "\u001b[1;36m0.03540197753401726\u001b[0m\n"
      ]
     },
     "metadata": {},
     "output_type": "display_data"
    }
   ],
   "source": [
    "sp_stats.t.cdf(-2, 11)"
   ]
  },
  {
   "cell_type": "code",
   "execution_count": null,
   "id": "b6173ae1",
   "metadata": {},
   "outputs": [],
   "source": []
  },
  {
   "cell_type": "code",
   "execution_count": 22,
   "id": "7030d1c1",
   "metadata": {},
   "outputs": [
    {
     "data": {
      "text/html": [
       "<pre style=\"white-space:pre;overflow-x:auto;line-height:normal;font-family:Menlo,'DejaVu Sans Mono',consolas,'Courier New',monospace\"><span style=\"color: #008080; text-decoration-color: #008080; font-weight: bold\">0.07171052631578947</span>\n",
       "</pre>\n"
      ],
      "text/plain": [
       "\u001b[1;36m0.07171052631578947\u001b[0m\n"
      ]
     },
     "metadata": {},
     "output_type": "display_data"
    }
   ],
   "source": [
    "reject_h0.sum() / np.prod(reject_h0.shape)"
   ]
  },
  {
   "cell_type": "code",
   "execution_count": null,
   "id": "d6455b9b",
   "metadata": {},
   "outputs": [],
   "source": []
  },
  {
   "cell_type": "code",
   "execution_count": 23,
   "id": "502ad46a",
   "metadata": {},
   "outputs": [
    {
     "data": {
      "text/html": [
       "<pre style=\"white-space:pre;overflow-x:auto;line-height:normal;font-family:Menlo,'DejaVu Sans Mono',consolas,'Courier New',monospace\"><span style=\"color: #008080; text-decoration-color: #008080; font-weight: bold\">763</span>\n",
       "</pre>\n"
      ],
      "text/plain": [
       "\u001b[1;36m763\u001b[0m\n"
      ]
     },
     "metadata": {},
     "output_type": "display_data"
    }
   ],
   "source": [
    "reject_h0.sum()"
   ]
  },
  {
   "cell_type": "code",
   "execution_count": 157,
   "id": "ecccc583",
   "metadata": {
    "scrolled": true
   },
   "outputs": [
    {
     "data": {
      "image/png": "[encoded data removed]"
     },
     "metadata": {},
     "output_type": "display_data"
    }
   ],
   "source": [
    "ids = (8, 2, 79)\n",
    "x = boot.copy()\n",
    "for i in range(3):\n",
    "    x = np.take(x, ids[i], axis=1)\n",
    "\n",
    "sns.histplot(x)\n",
    "plt.axvline(pi[ids], color='orange')\n",
    "plt.xlim(0, 1)\n",
    "plt.show()"
   ]
  },
  {
   "cell_type": "code",
   "execution_count": null,
   "id": "a8318eac",
   "metadata": {},
   "outputs": [],
   "source": []
  },
  {
   "cell_type": "code",
   "execution_count": 93,
   "id": "28e1ae8a",
   "metadata": {},
   "outputs": [
    {
     "data": {
      "text/html": [
       "<pre style=\"white-space:pre;overflow-x:auto;line-height:normal;font-family:Menlo,'DejaVu Sans Mono',consolas,'Courier New',monospace\"><span style=\"color: #008080; text-decoration-color: #008080; font-weight: bold\">0.003</span>\n",
       "</pre>\n"
      ],
      "text/plain": [
       "\u001b[1;36m0.003\u001b[0m\n"
      ]
     },
     "metadata": {},
     "output_type": "display_data"
    }
   ],
   "source": [
    "mu"
   ]
  },
  {
   "cell_type": "code",
   "execution_count": 94,
   "id": "81ec4f0a",
   "metadata": {},
   "outputs": [],
   "source": [
    "se = bn.nanstd(boot - mu, 0, ddof=1)"
   ]
  },
  {
   "cell_type": "code",
   "execution_count": 95,
   "id": "de4afad8",
   "metadata": {},
   "outputs": [
    {
     "data": {
      "text/html": [
       "<pre style=\"white-space:pre;overflow-x:auto;line-height:normal;font-family:Menlo,'DejaVu Sans Mono',consolas,'Courier New',monospace\"><span style=\"font-weight: bold\">(</span><span style=\"color: #008080; text-decoration-color: #008080; font-weight: bold\">0.031121389383879303</span>, <span style=\"color: #008080; text-decoration-color: #008080; font-weight: bold\">0.02009893535758423</span><span style=\"font-weight: bold\">)</span>\n",
       "</pre>\n"
      ],
      "text/plain": [
       "\u001b[1m(\u001b[0m\u001b[1;36m0.031121389383879303\u001b[0m, \u001b[1;36m0.02009893535758423\u001b[0m\u001b[1m)\u001b[0m\n"
      ]
     },
     "metadata": {},
     "output_type": "display_data"
    }
   ],
   "source": [
    "pi[ids], se[ids]"
   ]
  },
  {
   "cell_type": "code",
   "execution_count": 96,
   "id": "c27e3309",
   "metadata": {},
   "outputs": [
    {
     "data": {
      "text/html": [
       "<pre style=\"white-space:pre;overflow-x:auto;line-height:normal;font-family:Menlo,'DejaVu Sans Mono',consolas,'Courier New',monospace\"><span style=\"color: #008080; text-decoration-color: #008080; font-weight: bold\">1.3991482077814554</span>\n",
       "</pre>\n"
      ],
      "text/plain": [
       "\u001b[1;36m1.3991482077814554\u001b[0m\n"
      ]
     },
     "metadata": {},
     "output_type": "display_data"
    }
   ],
   "source": [
    "(pi[ids] - 0.003) / se[ids]"
   ]
  },
  {
   "cell_type": "code",
   "execution_count": 97,
   "id": "f2ca0d17",
   "metadata": {},
   "outputs": [
    {
     "data": {
      "text/html": [
       "<pre style=\"white-space:pre;overflow-x:auto;line-height:normal;font-family:Menlo,'DejaVu Sans Mono',consolas,'Courier New',monospace\"><span style=\"color: #008080; text-decoration-color: #008080; font-weight: bold\">0.9053354663033654</span>\n",
       "</pre>\n"
      ],
      "text/plain": [
       "\u001b[1;36m0.9053354663033654\u001b[0m\n"
      ]
     },
     "metadata": {},
     "output_type": "display_data"
    }
   ],
   "source": [
    "sp_stats.t.cdf((pi[ids] - 0.003) / se[ids], 11)"
   ]
  },
  {
   "cell_type": "code",
   "execution_count": null,
   "id": "c7c9b75f",
   "metadata": {},
   "outputs": [],
   "source": []
  },
  {
   "cell_type": "code",
   "execution_count": 170,
   "id": "3da988cf",
   "metadata": {},
   "outputs": [
    {
     "data": {
      "text/html": [
       "<pre style=\"white-space:pre;overflow-x:auto;line-height:normal;font-family:Menlo,'DejaVu Sans Mono',consolas,'Courier New',monospace\"><span style=\"color: #008080; text-decoration-color: #008080; font-weight: bold\">1.7958848187036691</span>\n",
       "</pre>\n"
      ],
      "text/plain": [
       "\u001b[1;36m1.7958848187036691\u001b[0m\n"
      ]
     },
     "metadata": {},
     "output_type": "display_data"
    }
   ],
   "source": [
    "ci = 0.95\n",
    "t95 = sp_stats.t.ppf(ci, 11)\n",
    "t95"
   ]
  },
  {
   "cell_type": "code",
   "execution_count": 104,
   "id": "e1ef3b79",
   "metadata": {},
   "outputs": [],
   "source": []
  },
  {
   "cell_type": "code",
   "execution_count": 172,
   "id": "364d4441",
   "metadata": {},
   "outputs": [
    {
     "data": {
      "text/html": [
       "<pre style=\"white-space:pre;overflow-x:auto;line-height:normal;font-family:Menlo,'DejaVu Sans Mono',consolas,'Courier New',monospace\"><span style=\"font-weight: bold\">(</span><span style=\"color: #008080; text-decoration-color: #008080; font-weight: bold\">0.031121389383879303</span>, <span style=\"color: #008080; text-decoration-color: #008080; font-weight: bold\">-0.0049739834969126165</span>, <span style=\"color: #008080; text-decoration-color: #008080; font-weight: bold\">0.06721676226467121</span><span style=\"font-weight: bold\">)</span>\n",
       "</pre>\n"
      ],
      "text/plain": [
       "\u001b[1m(\u001b[0m\u001b[1;36m0.031121389383879303\u001b[0m, \u001b[1;36m-0.0049739834969126165\u001b[0m, \u001b[1;36m0.06721676226467121\u001b[0m\u001b[1m)\u001b[0m\n"
      ]
     },
     "metadata": {},
     "output_type": "display_data"
    }
   ],
   "source": [
    "ids2zero = (8, 2, 22)\n",
    "pi[ids2zero], pi[ids2zero] - t95 * se[ids2zero] , pi[ids2zero] + t95 * se[ids2zero]"
   ]
  },
  {
   "cell_type": "code",
   "execution_count": 173,
   "id": "4f0ef48f",
   "metadata": {},
   "outputs": [
    {
     "data": {
      "text/html": [
       "<pre style=\"white-space:pre;overflow-x:auto;line-height:normal;font-family:Menlo,'DejaVu Sans Mono',consolas,'Courier New',monospace\"><span style=\"font-weight: bold\">(</span><span style=\"color: #008080; text-decoration-color: #008080; font-weight: bold\">0.8038046724089252</span>, <span style=\"color: #008080; text-decoration-color: #008080; font-weight: bold\">0.77092495233124</span>, <span style=\"color: #008080; text-decoration-color: #008080; font-weight: bold\">0.8366843924866103</span><span style=\"font-weight: bold\">)</span>\n",
       "</pre>\n"
      ],
      "text/plain": [
       "\u001b[1m(\u001b[0m\u001b[1;36m0.8038046724089252\u001b[0m, \u001b[1;36m0.77092495233124\u001b[0m, \u001b[1;36m0.8366843924866103\u001b[0m\u001b[1m)\u001b[0m\n"
      ]
     },
     "metadata": {},
     "output_type": "display_data"
    }
   ],
   "source": [
    "ids2leave = (8, 2, 79)\n",
    "pi[ids2leave], pi[ids2leave] - t95 * se[ids2leave] , pi[ids2leave] + t95 * se[ids2leave]"
   ]
  },
  {
   "cell_type": "code",
   "execution_count": null,
   "id": "043d8015",
   "metadata": {},
   "outputs": [],
   "source": []
  },
  {
   "cell_type": "code",
   "execution_count": 174,
   "id": "ac91d279",
   "metadata": {},
   "outputs": [
    {
     "data": {
      "text/html": [
       "<pre style=\"white-space:pre;overflow-x:auto;line-height:normal;font-family:Menlo,'DejaVu Sans Mono',consolas,'Courier New',monospace\"><span style=\"color: #008080; text-decoration-color: #008080; font-weight: bold\">0.003</span>\n",
       "</pre>\n"
      ],
      "text/plain": [
       "\u001b[1;36m0.003\u001b[0m\n"
      ]
     },
     "metadata": {},
     "output_type": "display_data"
    }
   ],
   "source": [
    "mu"
   ]
  },
  {
   "cell_type": "code",
   "execution_count": 175,
   "id": "98720110",
   "metadata": {
    "scrolled": true
   },
   "outputs": [
    {
     "data": {
      "text/html": [
       "<pre style=\"white-space:pre;overflow-x:auto;line-height:normal;font-family:Menlo,'DejaVu Sans Mono',consolas,'Courier New',monospace\"><span style=\"color: #008080; text-decoration-color: #008080; font-weight: bold\">1.3991482077814554</span>\n",
       "</pre>\n"
      ],
      "text/plain": [
       "\u001b[1;36m1.3991482077814554\u001b[0m\n"
      ]
     },
     "metadata": {},
     "output_type": "display_data"
    }
   ],
   "source": [
    "t = (pi[ids2zero] - mu) / se[ids2zero]\n",
    "t"
   ]
  },
  {
   "cell_type": "code",
   "execution_count": 179,
   "id": "679fb695",
   "metadata": {},
   "outputs": [
    {
     "data": {
      "image/png": "[encoded data removed]"
     },
     "metadata": {},
     "output_type": "display_data"
    }
   ],
   "source": [
    "x = np.linspace(-4, 4, 100)\n",
    "y = sp_stats.t.pdf(x, 11)\n",
    "\n",
    "plt.plot(x, y)\n",
    "plt.axvline(t, color='r')\n",
    "plt.axvline(t95, color='g', label='t95')\n",
    "plt.legend()\n",
    "plt.show()"
   ]
  },
  {
   "cell_type": "code",
   "execution_count": 180,
   "id": "cf4a89c0",
   "metadata": {},
   "outputs": [
    {
     "data": {
      "text/html": [
       "<pre style=\"white-space:pre;overflow-x:auto;line-height:normal;font-family:Menlo,'DejaVu Sans Mono',consolas,'Courier New',monospace\"><span style=\"color: #008080; text-decoration-color: #008080; font-weight: bold\">0.9053354663033654</span>\n",
       "</pre>\n"
      ],
      "text/plain": [
       "\u001b[1;36m0.9053354663033654\u001b[0m\n"
      ]
     },
     "metadata": {},
     "output_type": "display_data"
    }
   ],
   "source": [
    "sp_stats.t.cdf(t, 11)"
   ]
  },
  {
   "cell_type": "code",
   "execution_count": null,
   "id": "c0bba48a",
   "metadata": {},
   "outputs": [],
   "source": []
  },
  {
   "cell_type": "code",
   "execution_count": null,
   "id": "513516b1",
   "metadata": {},
   "outputs": [],
   "source": []
  },
  {
   "cell_type": "code",
   "execution_count": 24,
   "id": "36890fb6",
   "metadata": {},
   "outputs": [
    {
     "data": {
      "text/html": [
       "<pre style=\"white-space:pre;overflow-x:auto;line-height:normal;font-family:Menlo,'DejaVu Sans Mono',consolas,'Courier New',monospace\"><span style=\"font-weight: bold\">&lt;</span><span style=\"color: #ff00ff; text-decoration-color: #ff00ff; font-weight: bold\">AxesSubplot:</span><span style=\"color: #808000; text-decoration-color: #808000; font-weight: bold\">ylabel</span><span style=\"color: #000000; text-decoration-color: #000000\">=</span><span style=\"color: #008000; text-decoration-color: #008000\">'Count'</span><span style=\"font-weight: bold\">&gt;</span>\n",
       "</pre>\n"
      ],
      "text/plain": [
       "\u001b[1m<\u001b[0m\u001b[1;95mAxesSubplot:\u001b[0m\u001b[1;33mylabel\u001b[0m\u001b[39m=\u001b[0m\u001b[32m'Count'\u001b[0m\u001b[1m>\u001b[0m\n"
      ]
     },
     "metadata": {},
     "output_type": "display_data"
    },
    {
     "data": {
      "image/png": "[encoded data removed]"
     },
     "metadata": {},
     "output_type": "display_data"
    }
   ],
   "source": [
    "sns.histplot(pvals.ravel(), bins=np.linspace(0, 1, 51))"
   ]
  },
  {
   "cell_type": "code",
   "execution_count": null,
   "id": "69e07b0b",
   "metadata": {},
   "outputs": [],
   "source": []
  },
  {
   "cell_type": "code",
   "execution_count": null,
   "id": "742ad918",
   "metadata": {},
   "outputs": [],
   "source": []
  },
  {
   "cell_type": "code",
   "execution_count": null,
   "id": "70da0c11",
   "metadata": {},
   "outputs": [],
   "source": []
  },
  {
   "cell_type": "code",
   "execution_count": null,
   "id": "26a436ff",
   "metadata": {},
   "outputs": [],
   "source": []
  },
  {
   "cell_type": "code",
   "execution_count": null,
   "id": "e59146f4",
   "metadata": {},
   "outputs": [],
   "source": []
  },
  {
   "cell_type": "code",
   "execution_count": null,
   "id": "0d060cf1",
   "metadata": {},
   "outputs": [],
   "source": []
  },
  {
   "cell_type": "code",
   "execution_count": null,
   "id": "d6e88f73",
   "metadata": {},
   "outputs": [],
   "source": []
  },
  {
   "cell_type": "code",
   "execution_count": null,
   "id": "29efa054",
   "metadata": {},
   "outputs": [],
   "source": []
  },
  {
   "cell_type": "code",
   "execution_count": 5,
   "id": "8e44c9dd",
   "metadata": {},
   "outputs": [
    {
     "data": {
      "text/html": [
       "<pre style=\"white-space:pre;overflow-x:auto;line-height:normal;font-family:Menlo,'DejaVu Sans Mono',consolas,'Courier New',monospace\"><span style=\"font-weight: bold\">[</span><span style=\"color: #008000; text-decoration-color: #008000\">'se_oc'</span>, <span style=\"color: #008000; text-decoration-color: #008000\">'se_node'</span>, <span style=\"color: #008000; text-decoration-color: #008000\">'score_oc'</span>, <span style=\"color: #008000; text-decoration-color: #008000\">'score_node'</span>, <span style=\"color: #008000; text-decoration-color: #008000\">'num_comm'</span><span style=\"font-weight: bold\">]</span>\n",
       "</pre>\n"
      ],
      "text/plain": [
       "\u001b[1m[\u001b[0m\u001b[32m'se_oc'\u001b[0m, \u001b[32m'se_node'\u001b[0m, \u001b[32m'score_oc'\u001b[0m, \u001b[32m'score_node'\u001b[0m, \u001b[32m'num_comm'\u001b[0m\u001b[1m]\u001b[0m\n"
      ]
     },
     "metadata": {},
     "output_type": "display_data"
    }
   ],
   "source": [
    "ovp_scores = gr_ca.ovp_score()\n",
    "list(ovp_scores)"
   ]
  },
  {
   "cell_type": "code",
   "execution_count": 6,
   "id": "585af578",
   "metadata": {},
   "outputs": [
    {
     "data": {
      "image/png": "[encoded data removed]"
     },
     "metadata": {},
     "output_type": "display_data"
    }
   ],
   "source": [
    "xxx = avg(ovp_scores['num_comm'], 1)\n",
    "_ = gr_ca.show(xxx, vmin=np.nanmin(xxx), vmax=np.nanmax(xxx), cmap='icefire', add_disjoint=False)"
   ]
  },
  {
   "cell_type": "code",
   "execution_count": 7,
   "id": "fa3243a4",
   "metadata": {},
   "outputs": [
    {
     "data": {
      "text/html": [
       "<pre style=\"white-space:pre;overflow-x:auto;line-height:normal;font-family:Menlo,'DejaVu Sans Mono',consolas,'Courier New',monospace\"><span style=\"color: #008080; text-decoration-color: #008080; font-weight: bold\">52</span>\n",
       "</pre>\n"
      ],
      "text/plain": [
       "\u001b[1;36m52\u001b[0m\n"
      ]
     },
     "metadata": {},
     "output_type": "display_data"
    }
   ],
   "source": [
    "np.argmax(xxx)"
   ]
  },
  {
   "cell_type": "code",
   "execution_count": 8,
   "id": "5b8970f2",
   "metadata": {},
   "outputs": [
    {
     "data": {
      "text/html": [
       "<pre style=\"white-space:pre;overflow-x:auto;line-height:normal;font-family:Menlo,'DejaVu Sans Mono',consolas,'Courier New',monospace\"><span style=\"color: #008080; text-decoration-color: #008080; font-weight: bold\">2.06968212266134</span>\n",
       "</pre>\n"
      ],
      "text/plain": [
       "\u001b[1;36m2.06968212266134\u001b[0m\n"
      ]
     },
     "metadata": {},
     "output_type": "display_data"
    }
   ],
   "source": [
    "aaa = ovp_scores['num_comm'][..., 52]\n",
    "avg(aaa, 0, 0)"
   ]
  },
  {
   "cell_type": "code",
   "execution_count": 9,
   "id": "5b2c6c61",
   "metadata": {},
   "outputs": [
    {
     "data": {
      "text/html": [
       "<pre style=\"white-space:pre;overflow-x:auto;line-height:normal;font-family:Menlo,'DejaVu Sans Mono',consolas,'Courier New',monospace\"><span style=\"font-weight: bold\">&lt;</span><span style=\"color: #ff00ff; text-decoration-color: #ff00ff; font-weight: bold\">AxesSubplot:</span><span style=\"color: #808000; text-decoration-color: #808000; font-weight: bold\">ylabel</span><span style=\"color: #000000; text-decoration-color: #000000\">=</span><span style=\"color: #008000; text-decoration-color: #008000\">'Count'</span><span style=\"font-weight: bold\">&gt;</span>\n",
       "</pre>\n"
      ],
      "text/plain": [
       "\u001b[1m<\u001b[0m\u001b[1;95mAxesSubplot:\u001b[0m\u001b[1;33mylabel\u001b[0m\u001b[39m=\u001b[0m\u001b[32m'Count'\u001b[0m\u001b[1m>\u001b[0m\n"
      ]
     },
     "metadata": {},
     "output_type": "display_data"
    },
    {
     "data": {
      "image/png": "[encoded data removed]"
     },
     "metadata": {},
     "output_type": "display_data"
    }
   ],
   "source": [
    "sns.histplot(aaa[np.isfinite(aaa)])"
   ]
  },
  {
   "cell_type": "code",
   "execution_count": 10,
   "id": "a0af3760",
   "metadata": {},
   "outputs": [],
   "source": [
    "three_freq = np_nans(len(gr_ca.n2l))\n",
    "ovp_freq = np_nans(len(gr_ca.n2l))\n",
    "for nn in gr_ca.n2l:\n",
    "    x = ovp_scores['num_comm'][..., nn]\n",
    "    counts = collections.Counter(x[np.isfinite(x)])\n",
    "    counts = {i: counts.get(i, 0) for i in range(1, gr_ca.num_k + 1)}\n",
    "    counts = {i: x / sum(counts.values()) for i, x in counts.items()}\n",
    "\n",
    "    three_freq[nn] = counts.get(3)\n",
    "    ovp_freq[nn] = 1 - counts.get(1)"
   ]
  },
  {
   "cell_type": "code",
   "execution_count": 11,
   "id": "43753e9c",
   "metadata": {},
   "outputs": [
    {
     "data": {
      "text/html": [
       "<pre style=\"white-space:pre;overflow-x:auto;line-height:normal;font-family:Menlo,'DejaVu Sans Mono',consolas,'Courier New',monospace\"><span style=\"font-weight: bold\">[&lt;</span><span style=\"color: #ff00ff; text-decoration-color: #ff00ff; font-weight: bold\">matplotlib.lines.Line2D</span><span style=\"color: #000000; text-decoration-color: #000000\"> object at </span><span style=\"color: #008080; text-decoration-color: #008080; font-weight: bold\">0x7f88eada34f0</span><span style=\"font-weight: bold\">&gt;]</span>\n",
       "</pre>\n"
      ],
      "text/plain": [
       "\u001b[1m[\u001b[0m\u001b[1m<\u001b[0m\u001b[1;95mmatplotlib.lines.Line2D\u001b[0m\u001b[39m object at \u001b[0m\u001b[1;36m0x7f88eada34f0\u001b[0m\u001b[1m>\u001b[0m\u001b[1m]\u001b[0m\n"
      ]
     },
     "metadata": {},
     "output_type": "display_data"
    },
    {
     "data": {
      "image/png": "[encoded data removed]"
     },
     "metadata": {},
     "output_type": "display_data"
    }
   ],
   "source": [
    "plt.plot(ovp_freq)"
   ]
  },
  {
   "cell_type": "code",
   "execution_count": 12,
   "id": "2f92b83e",
   "metadata": {},
   "outputs": [
    {
     "data": {
      "image/png": "[encoded data removed]"
     },
     "metadata": {},
     "output_type": "display_data"
    }
   ],
   "source": [
    "_ = gr_ca.show(ovp_freq, vmin=np.nanmin(ovp_freq), vmax=np.nanmax(ovp_freq), cmap='icefire', add_disjoint=False)"
   ]
  },
  {
   "cell_type": "code",
   "execution_count": 13,
   "id": "188ad3c8",
   "metadata": {},
   "outputs": [
    {
     "data": {
      "image/png": "[encoded data removed]"
     },
     "metadata": {},
     "output_type": "display_data"
    }
   ],
   "source": [
    "xxx = ovp_freq.copy()\n",
    "xxx[xxx > 0.5] = 1\n",
    "xxx[xxx <= 0.5] = 0\n",
    "_ = gr_ca.show(xxx, vmin=np.nanmin(ovp_freq), vmax=np.nanmax(ovp_freq), cmap='icefire', add_disjoint=False)"
   ]
  },
  {
   "cell_type": "code",
   "execution_count": null,
   "id": "b4c0aa09",
   "metadata": {},
   "outputs": [],
   "source": []
  },
  {
   "cell_type": "code",
   "execution_count": 14,
   "id": "cb28289a",
   "metadata": {},
   "outputs": [
    {
     "data": {
      "text/html": [
       "<pre style=\"white-space:pre;overflow-x:auto;line-height:normal;font-family:Menlo,'DejaVu Sans Mono',consolas,'Courier New',monospace\"><span style=\"font-weight: bold\">[&lt;</span><span style=\"color: #ff00ff; text-decoration-color: #ff00ff; font-weight: bold\">matplotlib.lines.Line2D</span><span style=\"color: #000000; text-decoration-color: #000000\"> object at </span><span style=\"color: #008080; text-decoration-color: #008080; font-weight: bold\">0x7f88ef645be0</span><span style=\"font-weight: bold\">&gt;]</span>\n",
       "</pre>\n"
      ],
      "text/plain": [
       "\u001b[1m[\u001b[0m\u001b[1m<\u001b[0m\u001b[1;95mmatplotlib.lines.Line2D\u001b[0m\u001b[39m object at \u001b[0m\u001b[1;36m0x7f88ef645be0\u001b[0m\u001b[1m>\u001b[0m\u001b[1m]\u001b[0m\n"
      ]
     },
     "metadata": {},
     "output_type": "display_data"
    },
    {
     "data": {
      "image/png": "[encoded data removed]"
     },
     "metadata": {},
     "output_type": "display_data"
    }
   ],
   "source": [
    "plt.plot(three_freq)"
   ]
  },
  {
   "cell_type": "code",
   "execution_count": 15,
   "id": "08446c67",
   "metadata": {},
   "outputs": [
    {
     "data": {
      "image/png": "[encoded data removed]"
     },
     "metadata": {},
     "output_type": "display_data"
    }
   ],
   "source": [
    "_ = gr_ca.show(three_freq, vmin=np.nanmin(three_freq), vmax=np.nanmax(three_freq), cmap='icefire', add_disjoint=False)"
   ]
  },
  {
   "cell_type": "code",
   "execution_count": null,
   "id": "72ee0ff6",
   "metadata": {},
   "outputs": [],
   "source": []
  },
  {
   "cell_type": "code",
   "execution_count": 16,
   "id": "1f43df3d",
   "metadata": {},
   "outputs": [
    {
     "data": {
      "text/html": [
       "<pre style=\"white-space:pre;overflow-x:auto;line-height:normal;font-family:Menlo,'DejaVu Sans Mono',consolas,'Courier New',monospace\"><span style=\"font-weight: bold\">(</span><span style=\"color: #008080; text-decoration-color: #008080; font-weight: bold\">500</span>, <span style=\"color: #008080; text-decoration-color: #008080; font-weight: bold\">10</span>, <span style=\"color: #008080; text-decoration-color: #008080; font-weight: bold\">3</span>, <span style=\"color: #008080; text-decoration-color: #008080; font-weight: bold\">4</span>, <span style=\"color: #008080; text-decoration-color: #008080; font-weight: bold\">300</span>, <span style=\"color: #008080; text-decoration-color: #008080; font-weight: bold\">152</span><span style=\"font-weight: bold\">)</span>\n",
       "</pre>\n"
      ],
      "text/plain": [
       "\u001b[1m(\u001b[0m\u001b[1;36m500\u001b[0m, \u001b[1;36m10\u001b[0m, \u001b[1;36m3\u001b[0m, \u001b[1;36m4\u001b[0m, \u001b[1;36m300\u001b[0m, \u001b[1;36m152\u001b[0m\u001b[1m)\u001b[0m\n"
      ]
     },
     "metadata": {},
     "output_type": "display_data"
    }
   ],
   "source": [
    "boot = bootstrap(\n",
    "    x=ovp_scores['num_comm'],\n",
    "    n_resamples=int(5e2),\n",
    ")\n",
    "boot.shape"
   ]
  },
  {
   "cell_type": "code",
   "execution_count": 17,
   "id": "d863f34e",
   "metadata": {},
   "outputs": [
    {
     "data": {
      "application/vnd.jupyter.widget-view+json": {
       "model_id": "24b10f44a6ef4af99460740db30ba2c9",
       "version_major": 2,
       "version_minor": 0
      },
      "text/plain": [
       "  0%|          | 0/500 [00:00<?, ?it/s]"
      ]
     },
     "metadata": {},
     "output_type": "display_data"
    }
   ],
   "source": [
    "three_freq_b = np_nans((len(boot), len(gr_ca.n2l)))\n",
    "ovp_freq_b = np_nans((len(boot), len(gr_ca.n2l)))\n",
    "for ii in tqdm(range(len(boot))):\n",
    "    for nn in gr_ca.n2l:\n",
    "        if nn not in [52]:\n",
    "            continue\n",
    "        x = boot[ii, ..., nn]\n",
    "        counts = collections.Counter(x[np.isfinite(x)])\n",
    "        counts = {i: counts.get(i, 0) for i in range(1, gr_ca.num_k + 1)}\n",
    "        counts = {i: x / sum(counts.values()) for i, x in counts.items()}\n",
    "\n",
    "        three_freq_b[ii, nn] = counts.get(3)\n",
    "        ovp_freq_b[ii, nn] = 1 - counts.get(1)"
   ]
  },
  {
   "cell_type": "code",
   "execution_count": 18,
   "id": "23e33529",
   "metadata": {},
   "outputs": [
    {
     "data": {
      "text/html": [
       "<pre style=\"white-space:pre;overflow-x:auto;line-height:normal;font-family:Menlo,'DejaVu Sans Mono',consolas,'Courier New',monospace\"><span style=\"font-weight: bold\">&lt;</span><span style=\"color: #ff00ff; text-decoration-color: #ff00ff; font-weight: bold\">matplotlib.lines.Line2D</span><span style=\"color: #000000; text-decoration-color: #000000\"> object at </span><span style=\"color: #008080; text-decoration-color: #008080; font-weight: bold\">0x7f88ead247c0</span><span style=\"font-weight: bold\">&gt;</span>\n",
       "</pre>\n"
      ],
      "text/plain": [
       "\u001b[1m<\u001b[0m\u001b[1;95mmatplotlib.lines.Line2D\u001b[0m\u001b[39m object at \u001b[0m\u001b[1;36m0x7f88ead247c0\u001b[0m\u001b[1m>\u001b[0m\n"
      ]
     },
     "metadata": {},
     "output_type": "display_data"
    },
    {
     "data": {
      "image/png": "[encoded data removed]"
     },
     "metadata": {},
     "output_type": "display_data"
    }
   ],
   "source": [
    "sns.histplot(ovp_freq_b[:, 52])\n",
    "plt.axvline(ovp_freq[52], color='r')"
   ]
  },
  {
   "cell_type": "code",
   "execution_count": null,
   "id": "0c8c83cd",
   "metadata": {},
   "outputs": [],
   "source": []
  },
  {
   "cell_type": "code",
   "execution_count": null,
   "id": "c4b9d159",
   "metadata": {},
   "outputs": [],
   "source": []
  },
  {
   "cell_type": "code",
   "execution_count": null,
   "id": "06e3ae24",
   "metadata": {},
   "outputs": [],
   "source": []
  },
  {
   "cell_type": "code",
   "execution_count": 6,
   "id": "46027037",
   "metadata": {},
   "outputs": [
    {
     "data": {
      "text/html": [
       "<pre style=\"white-space:pre;overflow-x:auto;line-height:normal;font-family:Menlo,'DejaVu Sans Mono',consolas,'Courier New',monospace\"><span style=\"color: #800080; text-decoration-color: #800080; font-weight: bold\">array</span><span style=\"font-weight: bold\">([</span><span style=\"color: #008080; text-decoration-color: #008080; font-weight: bold\">68.68599529</span>, <span style=\"color: #008080; text-decoration-color: #008080; font-weight: bold\">52.34769214</span>, <span style=\"color: #008080; text-decoration-color: #008080; font-weight: bold\">44.91072923</span>, <span style=\"color: #008080; text-decoration-color: #008080; font-weight: bold\">76.54723213</span>, <span style=\"color: #008080; text-decoration-color: #008080; font-weight: bold\">71.39646973</span>,\n",
       "       <span style=\"color: #008080; text-decoration-color: #008080; font-weight: bold\">65.06401916</span>, <span style=\"color: #008080; text-decoration-color: #008080; font-weight: bold\">59.53672136</span><span style=\"font-weight: bold\">])</span>\n",
       "</pre>\n"
      ],
      "text/plain": [
       "\u001b[1;35marray\u001b[0m\u001b[1m(\u001b[0m\u001b[1m[\u001b[0m\u001b[1;36m68.68599529\u001b[0m, \u001b[1;36m52.34769214\u001b[0m, \u001b[1;36m44.91072923\u001b[0m, \u001b[1;36m76.54723213\u001b[0m, \u001b[1;36m71.39646973\u001b[0m,\n",
       "       \u001b[1;36m65.06401916\u001b[0m, \u001b[1;36m59.53672136\u001b[0m\u001b[1m]\u001b[0m\u001b[1m)\u001b[0m\n"
      ]
     },
     "metadata": {},
     "output_type": "display_data"
    }
   ],
   "source": [
    "ovp_scores['score_oc']"
   ]
  },
  {
   "cell_type": "code",
   "execution_count": 9,
   "id": "9661be78",
   "metadata": {},
   "outputs": [
    {
     "data": {
      "text/html": [
       "<pre style=\"white-space:pre;overflow-x:auto;line-height:normal;font-family:Menlo,'DejaVu Sans Mono',consolas,'Courier New',monospace\"><span style=\"color: #800080; text-decoration-color: #800080; font-weight: bold\">array</span><span style=\"font-weight: bold\">([</span><span style=\"color: #008080; text-decoration-color: #008080; font-weight: bold\">55.66474015</span>, <span style=\"color: #008080; text-decoration-color: #008080; font-weight: bold\">39.1031925</span> ,  <span style=\"color: #008080; text-decoration-color: #008080; font-weight: bold\">5.13313711</span>,  <span style=\"color: #008080; text-decoration-color: #008080; font-weight: bold\">0.09893024</span>,  <span style=\"color: #008080; text-decoration-color: #008080; font-weight: bold\">0</span>.        ,\n",
       "        <span style=\"color: #008080; text-decoration-color: #008080; font-weight: bold\">0</span>.        ,  <span style=\"color: #008080; text-decoration-color: #008080; font-weight: bold\">0</span>.        <span style=\"font-weight: bold\">])</span>\n",
       "</pre>\n"
      ],
      "text/plain": [
       "\u001b[1;35marray\u001b[0m\u001b[1m(\u001b[0m\u001b[1m[\u001b[0m\u001b[1;36m55.66474015\u001b[0m, \u001b[1;36m39.1031925\u001b[0m ,  \u001b[1;36m5.13313711\u001b[0m,  \u001b[1;36m0.09893024\u001b[0m,  \u001b[1;36m0\u001b[0m.        ,\n",
       "        \u001b[1;36m0\u001b[0m.        ,  \u001b[1;36m0\u001b[0m.        \u001b[1m]\u001b[0m\u001b[1m)\u001b[0m\n"
      ]
     },
     "metadata": {},
     "output_type": "display_data"
    }
   ],
   "source": [
    "ovp_scores['score_node']"
   ]
  },
  {
   "cell_type": "code",
   "execution_count": 10,
   "id": "2e6cb1ff",
   "metadata": {},
   "outputs": [
    {
     "data": {
      "text/html": [
       "<pre style=\"white-space:pre;overflow-x:auto;line-height:normal;font-family:Menlo,'DejaVu Sans Mono',consolas,'Courier New',monospace\"><span style=\"color: #800080; text-decoration-color: #800080; font-weight: bold\">array</span><span style=\"font-weight: bold\">([</span><span style=\"color: #008080; text-decoration-color: #008080; font-weight: bold\">0.62572314</span>, <span style=\"color: #008080; text-decoration-color: #008080; font-weight: bold\">0.56395754</span>, <span style=\"color: #008080; text-decoration-color: #008080; font-weight: bold\">0.19149329</span>, <span style=\"color: #008080; text-decoration-color: #008080; font-weight: bold\">0.01385539</span>, <span style=\"color: #008080; text-decoration-color: #008080; font-weight: bold\">0</span>.        ,\n",
       "       <span style=\"color: #008080; text-decoration-color: #008080; font-weight: bold\">0</span>.        , <span style=\"color: #008080; text-decoration-color: #008080; font-weight: bold\">0</span>.        <span style=\"font-weight: bold\">])</span>\n",
       "</pre>\n"
      ],
      "text/plain": [
       "\u001b[1;35marray\u001b[0m\u001b[1m(\u001b[0m\u001b[1m[\u001b[0m\u001b[1;36m0.62572314\u001b[0m, \u001b[1;36m0.56395754\u001b[0m, \u001b[1;36m0.19149329\u001b[0m, \u001b[1;36m0.01385539\u001b[0m, \u001b[1;36m0\u001b[0m.        ,\n",
       "       \u001b[1;36m0\u001b[0m.        , \u001b[1;36m0\u001b[0m.        \u001b[1m]\u001b[0m\u001b[1m)\u001b[0m\n"
      ]
     },
     "metadata": {},
     "output_type": "display_data"
    }
   ],
   "source": [
    "ovp_scores['se_node']"
   ]
  },
  {
   "cell_type": "code",
   "execution_count": null,
   "id": "1092f2f1",
   "metadata": {},
   "outputs": [],
   "source": []
  },
  {
   "cell_type": "code",
   "execution_count": 14,
   "id": "412467f4",
   "metadata": {},
   "outputs": [],
   "source": [
    "tval = sp_stats.t.ppf(0.95, 9)"
   ]
  },
  {
   "cell_type": "code",
   "execution_count": 15,
   "id": "5bb217d8",
   "metadata": {},
   "outputs": [],
   "source": [
    "lower = ovp_scores['score_node'] - ovp_scores['se_node'] * tval\n",
    "higher = ovp_scores['score_node'] + ovp_scores['se_node'] * tval"
   ]
  },
  {
   "cell_type": "code",
   "execution_count": 16,
   "id": "3510a7e4",
   "metadata": {},
   "outputs": [
    {
     "data": {
      "text/html": [
       "<pre style=\"white-space:pre;overflow-x:auto;line-height:normal;font-family:Menlo,'DejaVu Sans Mono',consolas,'Courier New',monospace\"><span style=\"color: #800080; text-decoration-color: #800080; font-weight: bold\">array</span><span style=\"font-weight: bold\">([</span><span style=\"color: #008080; text-decoration-color: #008080; font-weight: bold\">54.51771897</span>, <span style=\"color: #008080; text-decoration-color: #008080; font-weight: bold\">38.06939464</span>,  <span style=\"color: #008080; text-decoration-color: #008080; font-weight: bold\">4.78210828</span>,  <span style=\"color: #008080; text-decoration-color: #008080; font-weight: bold\">0.07353175</span>,  <span style=\"color: #008080; text-decoration-color: #008080; font-weight: bold\">0</span>.        ,\n",
       "        <span style=\"color: #008080; text-decoration-color: #008080; font-weight: bold\">0</span>.        ,  <span style=\"color: #008080; text-decoration-color: #008080; font-weight: bold\">0</span>.        <span style=\"font-weight: bold\">])</span>\n",
       "</pre>\n"
      ],
      "text/plain": [
       "\u001b[1;35marray\u001b[0m\u001b[1m(\u001b[0m\u001b[1m[\u001b[0m\u001b[1;36m54.51771897\u001b[0m, \u001b[1;36m38.06939464\u001b[0m,  \u001b[1;36m4.78210828\u001b[0m,  \u001b[1;36m0.07353175\u001b[0m,  \u001b[1;36m0\u001b[0m.        ,\n",
       "        \u001b[1;36m0\u001b[0m.        ,  \u001b[1;36m0\u001b[0m.        \u001b[1m]\u001b[0m\u001b[1m)\u001b[0m\n"
      ]
     },
     "metadata": {},
     "output_type": "display_data"
    }
   ],
   "source": [
    "lower"
   ]
  },
  {
   "cell_type": "code",
   "execution_count": 17,
   "id": "7e77c4c2",
   "metadata": {},
   "outputs": [
    {
     "data": {
      "text/html": [
       "<pre style=\"white-space:pre;overflow-x:auto;line-height:normal;font-family:Menlo,'DejaVu Sans Mono',consolas,'Courier New',monospace\"><span style=\"color: #800080; text-decoration-color: #800080; font-weight: bold\">array</span><span style=\"font-weight: bold\">([</span><span style=\"color: #008080; text-decoration-color: #008080; font-weight: bold\">56.81176133</span>, <span style=\"color: #008080; text-decoration-color: #008080; font-weight: bold\">40.13699036</span>,  <span style=\"color: #008080; text-decoration-color: #008080; font-weight: bold\">5.48416594</span>,  <span style=\"color: #008080; text-decoration-color: #008080; font-weight: bold\">0.12432873</span>,  <span style=\"color: #008080; text-decoration-color: #008080; font-weight: bold\">0</span>.        ,\n",
       "        <span style=\"color: #008080; text-decoration-color: #008080; font-weight: bold\">0</span>.        ,  <span style=\"color: #008080; text-decoration-color: #008080; font-weight: bold\">0</span>.        <span style=\"font-weight: bold\">])</span>\n",
       "</pre>\n"
      ],
      "text/plain": [
       "\u001b[1;35marray\u001b[0m\u001b[1m(\u001b[0m\u001b[1m[\u001b[0m\u001b[1;36m56.81176133\u001b[0m, \u001b[1;36m40.13699036\u001b[0m,  \u001b[1;36m5.48416594\u001b[0m,  \u001b[1;36m0.12432873\u001b[0m,  \u001b[1;36m0\u001b[0m.        ,\n",
       "        \u001b[1;36m0\u001b[0m.        ,  \u001b[1;36m0\u001b[0m.        \u001b[1m]\u001b[0m\u001b[1m)\u001b[0m\n"
      ]
     },
     "metadata": {},
     "output_type": "display_data"
    }
   ],
   "source": [
    "higher"
   ]
  },
  {
   "cell_type": "code",
   "execution_count": 18,
   "id": "02520020",
   "metadata": {},
   "outputs": [],
   "source": [
    "lower = ovp_scores['score_oc'] - ovp_scores['se_oc'] * tval\n",
    "higher = ovp_scores['score_oc'] + ovp_scores['se_oc'] * tval"
   ]
  },
  {
   "cell_type": "code",
   "execution_count": 19,
   "id": "4b3c55f9",
   "metadata": {},
   "outputs": [
    {
     "data": {
      "text/html": [
       "<pre style=\"white-space:pre;overflow-x:auto;line-height:normal;font-family:Menlo,'DejaVu Sans Mono',consolas,'Courier New',monospace\"><span style=\"color: #800080; text-decoration-color: #800080; font-weight: bold\">array</span><span style=\"font-weight: bold\">([</span><span style=\"color: #008080; text-decoration-color: #008080; font-weight: bold\">65.66506551</span>, <span style=\"color: #008080; text-decoration-color: #008080; font-weight: bold\">48.25236158</span>, <span style=\"color: #008080; text-decoration-color: #008080; font-weight: bold\">40.85795484</span>, <span style=\"color: #008080; text-decoration-color: #008080; font-weight: bold\">73.64984987</span>, <span style=\"color: #008080; text-decoration-color: #008080; font-weight: bold\">67.83082765</span>,\n",
       "       <span style=\"color: #008080; text-decoration-color: #008080; font-weight: bold\">61.87271689</span>, <span style=\"color: #008080; text-decoration-color: #008080; font-weight: bold\">55.10502109</span><span style=\"font-weight: bold\">])</span>\n",
       "</pre>\n"
      ],
      "text/plain": [
       "\u001b[1;35marray\u001b[0m\u001b[1m(\u001b[0m\u001b[1m[\u001b[0m\u001b[1;36m65.66506551\u001b[0m, \u001b[1;36m48.25236158\u001b[0m, \u001b[1;36m40.85795484\u001b[0m, \u001b[1;36m73.64984987\u001b[0m, \u001b[1;36m67.83082765\u001b[0m,\n",
       "       \u001b[1;36m61.87271689\u001b[0m, \u001b[1;36m55.10502109\u001b[0m\u001b[1m]\u001b[0m\u001b[1m)\u001b[0m\n"
      ]
     },
     "metadata": {},
     "output_type": "display_data"
    }
   ],
   "source": [
    "lower"
   ]
  },
  {
   "cell_type": "code",
   "execution_count": 20,
   "id": "6ccc6a1c",
   "metadata": {},
   "outputs": [
    {
     "data": {
      "text/html": [
       "<pre style=\"white-space:pre;overflow-x:auto;line-height:normal;font-family:Menlo,'DejaVu Sans Mono',consolas,'Courier New',monospace\"><span style=\"color: #800080; text-decoration-color: #800080; font-weight: bold\">array</span><span style=\"font-weight: bold\">([</span><span style=\"color: #008080; text-decoration-color: #008080; font-weight: bold\">71.70692507</span>, <span style=\"color: #008080; text-decoration-color: #008080; font-weight: bold\">56.4430227</span> , <span style=\"color: #008080; text-decoration-color: #008080; font-weight: bold\">48.96350362</span>, <span style=\"color: #008080; text-decoration-color: #008080; font-weight: bold\">79.4446144</span> , <span style=\"color: #008080; text-decoration-color: #008080; font-weight: bold\">74.96211181</span>,\n",
       "       <span style=\"color: #008080; text-decoration-color: #008080; font-weight: bold\">68.25532144</span>, <span style=\"color: #008080; text-decoration-color: #008080; font-weight: bold\">63.96842164</span><span style=\"font-weight: bold\">])</span>\n",
       "</pre>\n"
      ],
      "text/plain": [
       "\u001b[1;35marray\u001b[0m\u001b[1m(\u001b[0m\u001b[1m[\u001b[0m\u001b[1;36m71.70692507\u001b[0m, \u001b[1;36m56.4430227\u001b[0m , \u001b[1;36m48.96350362\u001b[0m, \u001b[1;36m79.4446144\u001b[0m , \u001b[1;36m74.96211181\u001b[0m,\n",
       "       \u001b[1;36m68.25532144\u001b[0m, \u001b[1;36m63.96842164\u001b[0m\u001b[1m]\u001b[0m\u001b[1m)\u001b[0m\n"
      ]
     },
     "metadata": {},
     "output_type": "display_data"
    }
   ],
   "source": [
    "higher"
   ]
  },
  {
   "cell_type": "code",
   "execution_count": 21,
   "id": "299b130c",
   "metadata": {},
   "outputs": [
    {
     "data": {
      "text/html": [
       "<pre style=\"white-space:pre;overflow-x:auto;line-height:normal;font-family:Menlo,'DejaVu Sans Mono',consolas,'Courier New',monospace\"><span style=\"color: #008080; text-decoration-color: #008080; font-weight: bold\">62.641265578223205</span>\n",
       "</pre>\n"
      ],
      "text/plain": [
       "\u001b[1;36m62.641265578223205\u001b[0m\n"
      ]
     },
     "metadata": {},
     "output_type": "display_data"
    }
   ],
   "source": [
    "ovp_scores['score_oc'].mean()"
   ]
  },
  {
   "cell_type": "code",
   "execution_count": null,
   "id": "ea3ffef9",
   "metadata": {},
   "outputs": [],
   "source": []
  },
  {
   "cell_type": "code",
   "execution_count": 24,
   "id": "67400592",
   "metadata": {},
   "outputs": [
    {
     "data": {
      "text/html": [
       "<pre style=\"white-space:pre;overflow-x:auto;line-height:normal;font-family:Menlo,'DejaVu Sans Mono',consolas,'Courier New',monospace\"><span style=\"color: #008080; text-decoration-color: #008080; font-weight: bold\">75.20510234076313</span>\n",
       "</pre>\n"
      ],
      "text/plain": [
       "\u001b[1;36m75.20510234076313\u001b[0m\n"
      ]
     },
     "metadata": {},
     "output_type": "display_data"
    }
   ],
   "source": [
    "ovp_scores['score_oc'].mean()"
   ]
  },
  {
   "cell_type": "code",
   "execution_count": null,
   "id": "c7ae47ad",
   "metadata": {},
   "outputs": [],
   "source": []
  },
  {
   "cell_type": "code",
   "execution_count": 32,
   "id": "a4d8e961",
   "metadata": {},
   "outputs": [
    {
     "data": {
      "text/html": [
       "<pre style=\"white-space:pre;overflow-x:auto;line-height:normal;font-family:Menlo,'DejaVu Sans Mono',consolas,'Courier New',monospace\"><span style=\"color: #008080; text-decoration-color: #008080; font-weight: bold\">47.031728395977865</span>\n",
       "</pre>\n"
      ],
      "text/plain": [
       "\u001b[1;36m47.031728395977865\u001b[0m\n"
      ]
     },
     "metadata": {},
     "output_type": "display_data"
    }
   ],
   "source": [
    "ovp_scores['score_oc'].mean()"
   ]
  },
  {
   "cell_type": "code",
   "execution_count": null,
   "id": "eff7aeec",
   "metadata": {},
   "outputs": [],
   "source": []
  },
  {
   "cell_type": "code",
   "execution_count": 25,
   "id": "f173a256",
   "metadata": {},
   "outputs": [
    {
     "data": {
      "text/html": [
       "<pre style=\"white-space:pre;overflow-x:auto;line-height:normal;font-family:Menlo,'DejaVu Sans Mono',consolas,'Courier New',monospace\"><span style=\"color: #800080; text-decoration-color: #800080; font-weight: bold\">array</span><span style=\"font-weight: bold\">([</span><span style=\"color: #008080; text-decoration-color: #008080; font-weight: bold\">70.43525264</span>, <span style=\"color: #008080; text-decoration-color: #008080; font-weight: bold\">65.93159901</span>, <span style=\"color: #008080; text-decoration-color: #008080; font-weight: bold\">61.4748051</span> , <span style=\"color: #008080; text-decoration-color: #008080; font-weight: bold\">80.79816291</span>, <span style=\"color: #008080; text-decoration-color: #008080; font-weight: bold\">71.11847923</span>,\n",
       "       <span style=\"color: #008080; text-decoration-color: #008080; font-weight: bold\">81.25766392</span>, <span style=\"color: #008080; text-decoration-color: #008080; font-weight: bold\">76.63490482</span>, <span style=\"color: #008080; text-decoration-color: #008080; font-weight: bold\">70.51315847</span>, <span style=\"color: #008080; text-decoration-color: #008080; font-weight: bold\">70.4863544</span> , <span style=\"color: #008080; text-decoration-color: #008080; font-weight: bold\">86.22560708</span>,\n",
       "       <span style=\"color: #008080; text-decoration-color: #008080; font-weight: bold\">77.34828857</span>, <span style=\"color: #008080; text-decoration-color: #008080; font-weight: bold\">79.50369849</span>, <span style=\"color: #008080; text-decoration-color: #008080; font-weight: bold\">84.88537088</span>, <span style=\"color: #008080; text-decoration-color: #008080; font-weight: bold\">76.25808726</span><span style=\"font-weight: bold\">])</span>\n",
       "</pre>\n"
      ],
      "text/plain": [
       "\u001b[1;35marray\u001b[0m\u001b[1m(\u001b[0m\u001b[1m[\u001b[0m\u001b[1;36m70.43525264\u001b[0m, \u001b[1;36m65.93159901\u001b[0m, \u001b[1;36m61.4748051\u001b[0m , \u001b[1;36m80.79816291\u001b[0m, \u001b[1;36m71.11847923\u001b[0m,\n",
       "       \u001b[1;36m81.25766392\u001b[0m, \u001b[1;36m76.63490482\u001b[0m, \u001b[1;36m70.51315847\u001b[0m, \u001b[1;36m70.4863544\u001b[0m , \u001b[1;36m86.22560708\u001b[0m,\n",
       "       \u001b[1;36m77.34828857\u001b[0m, \u001b[1;36m79.50369849\u001b[0m, \u001b[1;36m84.88537088\u001b[0m, \u001b[1;36m76.25808726\u001b[0m\u001b[1m]\u001b[0m\u001b[1m)\u001b[0m\n"
      ]
     },
     "metadata": {},
     "output_type": "display_data"
    }
   ],
   "source": [
    "ovp_scores['score_oc']"
   ]
  },
  {
   "cell_type": "code",
   "execution_count": null,
   "id": "ca59e3b3",
   "metadata": {},
   "outputs": [],
   "source": []
  },
  {
   "cell_type": "code",
   "execution_count": 26,
   "id": "6ced081d",
   "metadata": {},
   "outputs": [
    {
     "data": {
      "text/html": [
       "<pre style=\"white-space:pre;overflow-x:auto;line-height:normal;font-family:Menlo,'DejaVu Sans Mono',consolas,'Courier New',monospace\"><span style=\"color: #800080; text-decoration-color: #800080; font-weight: bold\">array</span><span style=\"font-weight: bold\">([</span><span style=\"color: #008080; text-decoration-color: #008080; font-weight: bold\">42.66901424</span>, <span style=\"color: #008080; text-decoration-color: #008080; font-weight: bold\">46.81690827</span>, <span style=\"color: #008080; text-decoration-color: #008080; font-weight: bold\">10.1802425</span> ,  <span style=\"color: #008080; text-decoration-color: #008080; font-weight: bold\">0.33383499</span>,  <span style=\"color: #008080; text-decoration-color: #008080; font-weight: bold\">0</span>.        ,\n",
       "        <span style=\"color: #008080; text-decoration-color: #008080; font-weight: bold\">0</span>.        ,  <span style=\"color: #008080; text-decoration-color: #008080; font-weight: bold\">0</span>.        ,  <span style=\"color: #008080; text-decoration-color: #008080; font-weight: bold\">0</span>.        ,  <span style=\"color: #008080; text-decoration-color: #008080; font-weight: bold\">0</span>.        ,  <span style=\"color: #008080; text-decoration-color: #008080; font-weight: bold\">0</span>.        ,\n",
       "        <span style=\"color: #008080; text-decoration-color: #008080; font-weight: bold\">0</span>.        ,  <span style=\"color: #008080; text-decoration-color: #008080; font-weight: bold\">0</span>.        ,  <span style=\"color: #008080; text-decoration-color: #008080; font-weight: bold\">0</span>.        ,  <span style=\"color: #008080; text-decoration-color: #008080; font-weight: bold\">0</span>.        <span style=\"font-weight: bold\">])</span>\n",
       "</pre>\n"
      ],
      "text/plain": [
       "\u001b[1;35marray\u001b[0m\u001b[1m(\u001b[0m\u001b[1m[\u001b[0m\u001b[1;36m42.66901424\u001b[0m, \u001b[1;36m46.81690827\u001b[0m, \u001b[1;36m10.1802425\u001b[0m ,  \u001b[1;36m0.33383499\u001b[0m,  \u001b[1;36m0\u001b[0m.        ,\n",
       "        \u001b[1;36m0\u001b[0m.        ,  \u001b[1;36m0\u001b[0m.        ,  \u001b[1;36m0\u001b[0m.        ,  \u001b[1;36m0\u001b[0m.        ,  \u001b[1;36m0\u001b[0m.        ,\n",
       "        \u001b[1;36m0\u001b[0m.        ,  \u001b[1;36m0\u001b[0m.        ,  \u001b[1;36m0\u001b[0m.        ,  \u001b[1;36m0\u001b[0m.        \u001b[1m]\u001b[0m\u001b[1m)\u001b[0m\n"
      ]
     },
     "metadata": {},
     "output_type": "display_data"
    }
   ],
   "source": [
    "ovp_scores['score_node']"
   ]
  },
  {
   "cell_type": "code",
   "execution_count": 33,
   "id": "81a3002d",
   "metadata": {},
   "outputs": [
    {
     "data": {
      "text/html": [
       "<pre style=\"white-space:pre;overflow-x:auto;line-height:normal;font-family:Menlo,'DejaVu Sans Mono',consolas,'Courier New',monospace\"><span style=\"color: #800080; text-decoration-color: #800080; font-weight: bold\">array</span><span style=\"font-weight: bold\">([</span><span style=\"color: #008080; text-decoration-color: #008080; font-weight: bold\">6.92871281e+01</span>, <span style=\"color: #008080; text-decoration-color: #008080; font-weight: bold\">2.91490176e+01</span>, <span style=\"color: #008080; text-decoration-color: #008080; font-weight: bold\">1.55626321e+00</span>, <span style=\"color: #008080; text-decoration-color: #008080; font-weight: bold\">7.59116145e-03</span><span style=\"font-weight: bold\">])</span>\n",
       "</pre>\n"
      ],
      "text/plain": [
       "\u001b[1;35marray\u001b[0m\u001b[1m(\u001b[0m\u001b[1m[\u001b[0m\u001b[1;36m6.92871281e+01\u001b[0m, \u001b[1;36m2.91490176e+01\u001b[0m, \u001b[1;36m1.55626321e+00\u001b[0m, \u001b[1;36m7.59116145e-03\u001b[0m\u001b[1m]\u001b[0m\u001b[1m)\u001b[0m\n"
      ]
     },
     "metadata": {},
     "output_type": "display_data"
    }
   ],
   "source": [
    "ovp_scores['score_node']"
   ]
  },
  {
   "cell_type": "code",
   "execution_count": null,
   "id": "248d8c15",
   "metadata": {},
   "outputs": [],
   "source": []
  },
  {
   "cell_type": "code",
   "execution_count": 5,
   "id": "0f8543ce",
   "metadata": {},
   "outputs": [],
   "source": [
    "pi = gr_ca.run_pi.copy()"
   ]
  },
  {
   "cell_type": "code",
   "execution_count": 6,
   "id": "fe1f2e1f",
   "metadata": {},
   "outputs": [],
   "source": [
    "x = pi > 0.2\n",
    "num_comm = x.sum(-2, keepdims=True)"
   ]
  },
  {
   "cell_type": "code",
   "execution_count": 7,
   "id": "ca44c548",
   "metadata": {},
   "outputs": [
    {
     "data": {
      "text/html": [
       "<pre style=\"white-space:pre;overflow-x:auto;line-height:normal;font-family:Menlo,'DejaVu Sans Mono',consolas,'Courier New',monospace\"><span style=\"font-weight: bold\">(</span><span style=\"color: #008080; text-decoration-color: #008080; font-weight: bold\">10</span>, <span style=\"color: #008080; text-decoration-color: #008080; font-weight: bold\">3</span>, <span style=\"color: #008080; text-decoration-color: #008080; font-weight: bold\">4</span>, <span style=\"color: #008080; text-decoration-color: #008080; font-weight: bold\">300</span>, <span style=\"color: #008080; text-decoration-color: #008080; font-weight: bold\">152</span><span style=\"font-weight: bold\">)</span>\n",
       "</pre>\n"
      ],
      "text/plain": [
       "\u001b[1m(\u001b[0m\u001b[1;36m10\u001b[0m, \u001b[1;36m3\u001b[0m, \u001b[1;36m4\u001b[0m, \u001b[1;36m300\u001b[0m, \u001b[1;36m152\u001b[0m\u001b[1m)\u001b[0m\n"
      ]
     },
     "metadata": {},
     "output_type": "display_data"
    }
   ],
   "source": [
    "num_comm = num_comm.squeeze().astype(float)\n",
    "num_comm[num_comm == 0] = np.nan\n",
    "num_comm.shape"
   ]
  },
  {
   "cell_type": "code",
   "execution_count": 8,
   "id": "a521ca70",
   "metadata": {},
   "outputs": [],
   "source": [
    "xxx = avg(num_comm, 1)"
   ]
  },
  {
   "cell_type": "code",
   "execution_count": 9,
   "id": "202de11d",
   "metadata": {},
   "outputs": [
    {
     "data": {
      "text/html": [
       "<pre style=\"white-space:pre;overflow-x:auto;line-height:normal;font-family:Menlo,'DejaVu Sans Mono',consolas,'Courier New',monospace\"><span style=\"font-weight: bold\">[&lt;</span><span style=\"color: #ff00ff; text-decoration-color: #ff00ff; font-weight: bold\">matplotlib.lines.Line2D</span><span style=\"color: #000000; text-decoration-color: #000000\"> object at </span><span style=\"color: #008080; text-decoration-color: #008080; font-weight: bold\">0x7f254b80ac10</span><span style=\"font-weight: bold\">&gt;]</span>\n",
       "</pre>\n"
      ],
      "text/plain": [
       "\u001b[1m[\u001b[0m\u001b[1m<\u001b[0m\u001b[1;95mmatplotlib.lines.Line2D\u001b[0m\u001b[39m object at \u001b[0m\u001b[1;36m0x7f254b80ac10\u001b[0m\u001b[1m>\u001b[0m\u001b[1m]\u001b[0m\n"
      ]
     },
     "metadata": {},
     "output_type": "display_data"
    },
    {
     "data": {
      "image/png": "[encoded data removed]"
     },
     "metadata": {},
     "output_type": "display_data"
    }
   ],
   "source": [
    "plt.plot(xxx)"
   ]
  },
  {
   "cell_type": "code",
   "execution_count": 10,
   "id": "6e2479e8",
   "metadata": {},
   "outputs": [
    {
     "data": {
      "image/png": "[encoded data removed]"
     },
     "metadata": {},
     "output_type": "display_data"
    }
   ],
   "source": [
    "_ = gr_ca.show(xxx, vmin=np.nanmin(xxx), vmax=np.nanmax(xxx), cmap='nipy_spectral', add_disjoint=False)"
   ]
  },
  {
   "cell_type": "code",
   "execution_count": 11,
   "id": "cfaf4a0d",
   "metadata": {},
   "outputs": [
    {
     "data": {
      "image/png": "[encoded data removed]"
     },
     "metadata": {},
     "output_type": "display_data"
    }
   ],
   "source": [
    "_ = gr_ca.show(xxx, vmin=np.nanmin(xxx), vmax=np.nanmax(xxx), cmap='icefire', add_disjoint=False)"
   ]
  },
  {
   "cell_type": "code",
   "execution_count": null,
   "id": "91b6a9a7",
   "metadata": {},
   "outputs": [],
   "source": []
  },
  {
   "cell_type": "code",
   "execution_count": null,
   "id": "19ed7e91",
   "metadata": {},
   "outputs": [],
   "source": []
  },
  {
   "cell_type": "code",
   "execution_count": null,
   "id": "ad87a7b8",
   "metadata": {},
   "outputs": [],
   "source": []
  },
  {
   "cell_type": "code",
   "execution_count": null,
   "id": "f4d7c8eb",
   "metadata": {},
   "outputs": [],
   "source": []
  },
  {
   "cell_type": "code",
   "execution_count": null,
   "id": "9229e185",
   "metadata": {},
   "outputs": [],
   "source": []
  },
  {
   "cell_type": "code",
   "execution_count": null,
   "id": "e7466325",
   "metadata": {},
   "outputs": [],
   "source": []
  },
  {
   "cell_type": "code",
   "execution_count": null,
   "id": "ae163afb",
   "metadata": {},
   "outputs": [],
   "source": []
  },
  {
   "cell_type": "code",
   "execution_count": 20,
   "id": "ee06e91e",
   "metadata": {},
   "outputs": [
    {
     "data": {
      "text/html": [
       "<pre style=\"white-space:pre;overflow-x:auto;line-height:normal;font-family:Menlo,'DejaVu Sans Mono',consolas,'Courier New',monospace\"><span style=\"font-weight: bold\">(</span><span style=\"color: #008080; text-decoration-color: #008080; font-weight: bold\">10</span>, <span style=\"color: #008080; text-decoration-color: #008080; font-weight: bold\">3</span>, <span style=\"color: #008080; text-decoration-color: #008080; font-weight: bold\">4</span>, <span style=\"color: #008080; text-decoration-color: #008080; font-weight: bold\">300</span>, <span style=\"color: #008080; text-decoration-color: #008080; font-weight: bold\">7</span>, <span style=\"color: #008080; text-decoration-color: #008080; font-weight: bold\">152</span><span style=\"font-weight: bold\">)</span>\n",
       "</pre>\n"
      ],
      "text/plain": [
       "\u001b[1m(\u001b[0m\u001b[1;36m10\u001b[0m, \u001b[1;36m3\u001b[0m, \u001b[1;36m4\u001b[0m, \u001b[1;36m300\u001b[0m, \u001b[1;36m7\u001b[0m, \u001b[1;36m152\u001b[0m\u001b[1m)\u001b[0m\n"
      ]
     },
     "metadata": {},
     "output_type": "display_data"
    }
   ],
   "source": [
    "pi = gr_ca.run_pi.copy()\n",
    "pi.shape"
   ]
  },
  {
   "cell_type": "code",
   "execution_count": 21,
   "id": "28715c75",
   "metadata": {},
   "outputs": [],
   "source": [
    "thres = 0.2"
   ]
  },
  {
   "cell_type": "code",
   "execution_count": 22,
   "id": "94a660e8",
   "metadata": {},
   "outputs": [],
   "source": [
    "x = pi > thres\n",
    "num_comm = x.sum(-2, keepdims=True)"
   ]
  },
  {
   "cell_type": "code",
   "execution_count": 23,
   "id": "9ec1bf21",
   "metadata": {},
   "outputs": [],
   "source": [
    "score_oc = ((num_comm > 1) * x).sum(-1) / x.sum(-1) * 100"
   ]
  },
  {
   "cell_type": "code",
   "execution_count": 24,
   "id": "88998ee9",
   "metadata": {},
   "outputs": [
    {
     "data": {
      "text/html": [
       "<pre style=\"white-space:pre;overflow-x:auto;line-height:normal;font-family:Menlo,'DejaVu Sans Mono',consolas,'Courier New',monospace\"><span style=\"font-weight: bold\">((</span><span style=\"color: #008080; text-decoration-color: #008080; font-weight: bold\">10</span>, <span style=\"color: #008080; text-decoration-color: #008080; font-weight: bold\">3</span>, <span style=\"color: #008080; text-decoration-color: #008080; font-weight: bold\">4</span>, <span style=\"color: #008080; text-decoration-color: #008080; font-weight: bold\">300</span>, <span style=\"color: #008080; text-decoration-color: #008080; font-weight: bold\">1</span>, <span style=\"color: #008080; text-decoration-color: #008080; font-weight: bold\">152</span><span style=\"font-weight: bold\">)</span>, <span style=\"font-weight: bold\">(</span><span style=\"color: #008080; text-decoration-color: #008080; font-weight: bold\">10</span>, <span style=\"color: #008080; text-decoration-color: #008080; font-weight: bold\">3</span>, <span style=\"color: #008080; text-decoration-color: #008080; font-weight: bold\">4</span>, <span style=\"color: #008080; text-decoration-color: #008080; font-weight: bold\">300</span>, <span style=\"color: #008080; text-decoration-color: #008080; font-weight: bold\">7</span><span style=\"font-weight: bold\">))</span>\n",
       "</pre>\n"
      ],
      "text/plain": [
       "\u001b[1m(\u001b[0m\u001b[1m(\u001b[0m\u001b[1;36m10\u001b[0m, \u001b[1;36m3\u001b[0m, \u001b[1;36m4\u001b[0m, \u001b[1;36m300\u001b[0m, \u001b[1;36m1\u001b[0m, \u001b[1;36m152\u001b[0m\u001b[1m)\u001b[0m, \u001b[1m(\u001b[0m\u001b[1;36m10\u001b[0m, \u001b[1;36m3\u001b[0m, \u001b[1;36m4\u001b[0m, \u001b[1;36m300\u001b[0m, \u001b[1;36m7\u001b[0m\u001b[1m)\u001b[0m\u001b[1m)\u001b[0m\n"
      ]
     },
     "metadata": {},
     "output_type": "display_data"
    }
   ],
   "source": [
    "num_comm.shape, score_oc.shape"
   ]
  },
  {
   "cell_type": "code",
   "execution_count": null,
   "id": "f79152bc",
   "metadata": {},
   "outputs": [],
   "source": []
  },
  {
   "cell_type": "code",
   "execution_count": 25,
   "id": "de61f705",
   "metadata": {},
   "outputs": [
    {
     "data": {
      "text/html": [
       "<pre style=\"white-space:pre;overflow-x:auto;line-height:normal;font-family:Menlo,'DejaVu Sans Mono',consolas,'Courier New',monospace\"><span style=\"font-weight: bold\">(</span><span style=\"color: #008080; text-decoration-color: #008080; font-weight: bold\">1000</span>, <span style=\"color: #008080; text-decoration-color: #008080; font-weight: bold\">10</span>, <span style=\"color: #008080; text-decoration-color: #008080; font-weight: bold\">3</span>, <span style=\"color: #008080; text-decoration-color: #008080; font-weight: bold\">4</span>, <span style=\"color: #008080; text-decoration-color: #008080; font-weight: bold\">300</span>, <span style=\"color: #008080; text-decoration-color: #008080; font-weight: bold\">7</span><span style=\"font-weight: bold\">)</span>\n",
       "</pre>\n"
      ],
      "text/plain": [
       "\u001b[1m(\u001b[0m\u001b[1;36m1000\u001b[0m, \u001b[1;36m10\u001b[0m, \u001b[1;36m3\u001b[0m, \u001b[1;36m4\u001b[0m, \u001b[1;36m300\u001b[0m, \u001b[1;36m7\u001b[0m\u001b[1m)\u001b[0m\n"
      ]
     },
     "metadata": {},
     "output_type": "display_data"
    }
   ],
   "source": [
    "boot = bootstrap(\n",
    "    x=score_oc,\n",
    "    n_resamples=int(1e3),\n",
    "    dims=4,\n",
    ")\n",
    "boot.shape"
   ]
  },
  {
   "cell_type": "code",
   "execution_count": 26,
   "id": "fdd092cc",
   "metadata": {},
   "outputs": [
    {
     "data": {
      "text/html": [
       "<pre style=\"white-space:pre;overflow-x:auto;line-height:normal;font-family:Menlo,'DejaVu Sans Mono',consolas,'Courier New',monospace\"><span style=\"font-weight: bold\">(</span><span style=\"color: #008080; text-decoration-color: #008080; font-weight: bold\">1000</span>, <span style=\"color: #008080; text-decoration-color: #008080; font-weight: bold\">7</span><span style=\"font-weight: bold\">)</span>\n",
       "</pre>\n"
      ],
      "text/plain": [
       "\u001b[1m(\u001b[0m\u001b[1;36m1000\u001b[0m, \u001b[1;36m7\u001b[0m\u001b[1m)\u001b[0m\n"
      ]
     },
     "metadata": {},
     "output_type": "display_data"
    }
   ],
   "source": [
    "boot = avg(boot, 1, 1)\n",
    "boot.shape"
   ]
  },
  {
   "cell_type": "code",
   "execution_count": 27,
   "id": "82d70d71",
   "metadata": {},
   "outputs": [
    {
     "data": {
      "text/html": [
       "<pre style=\"white-space:pre;overflow-x:auto;line-height:normal;font-family:Menlo,'DejaVu Sans Mono',consolas,'Courier New',monospace\"><span style=\"color: #800080; text-decoration-color: #800080; font-weight: bold\">array</span><span style=\"font-weight: bold\">([</span><span style=\"color: #008080; text-decoration-color: #008080; font-weight: bold\">1.647978</span>  , <span style=\"color: #008080; text-decoration-color: #008080; font-weight: bold\">2.23408525</span>, <span style=\"color: #008080; text-decoration-color: #008080; font-weight: bold\">2.21087</span>   , <span style=\"color: #008080; text-decoration-color: #008080; font-weight: bold\">1.58058034</span>, <span style=\"color: #008080; text-decoration-color: #008080; font-weight: bold\">1.94512952</span>,\n",
       "       <span style=\"color: #008080; text-decoration-color: #008080; font-weight: bold\">1.74091962</span>, <span style=\"color: #008080; text-decoration-color: #008080; font-weight: bold\">2.41758169</span><span style=\"font-weight: bold\">])</span>\n",
       "</pre>\n"
      ],
      "text/plain": [
       "\u001b[1;35marray\u001b[0m\u001b[1m(\u001b[0m\u001b[1m[\u001b[0m\u001b[1;36m1.647978\u001b[0m  , \u001b[1;36m2.23408525\u001b[0m, \u001b[1;36m2.21087\u001b[0m   , \u001b[1;36m1.58058034\u001b[0m, \u001b[1;36m1.94512952\u001b[0m,\n",
       "       \u001b[1;36m1.74091962\u001b[0m, \u001b[1;36m2.41758169\u001b[0m\u001b[1m]\u001b[0m\u001b[1m)\u001b[0m\n"
      ]
     },
     "metadata": {},
     "output_type": "display_data"
    }
   ],
   "source": [
    "se_oc = bn.nanstd(boot, 0, ddof=1)\n",
    "se_oc"
   ]
  },
  {
   "cell_type": "code",
   "execution_count": 28,
   "id": "9b3c701b",
   "metadata": {},
   "outputs": [],
   "source": [
    "score_oc = avg(score_oc, 1)"
   ]
  },
  {
   "cell_type": "code",
   "execution_count": 29,
   "id": "a8be2729",
   "metadata": {},
   "outputs": [
    {
     "data": {
      "text/html": [
       "<pre style=\"white-space:pre;overflow-x:auto;line-height:normal;font-family:Menlo,'DejaVu Sans Mono',consolas,'Courier New',monospace\"><span style=\"color: #800080; text-decoration-color: #800080; font-weight: bold\">array</span><span style=\"font-weight: bold\">([</span><span style=\"color: #008080; text-decoration-color: #008080; font-weight: bold\">68.68599529</span>, <span style=\"color: #008080; text-decoration-color: #008080; font-weight: bold\">52.34769214</span>, <span style=\"color: #008080; text-decoration-color: #008080; font-weight: bold\">44.91072923</span>, <span style=\"color: #008080; text-decoration-color: #008080; font-weight: bold\">76.54723213</span>, <span style=\"color: #008080; text-decoration-color: #008080; font-weight: bold\">71.39646973</span>,\n",
       "       <span style=\"color: #008080; text-decoration-color: #008080; font-weight: bold\">65.06401916</span>, <span style=\"color: #008080; text-decoration-color: #008080; font-weight: bold\">59.53672136</span><span style=\"font-weight: bold\">])</span>\n",
       "</pre>\n"
      ],
      "text/plain": [
       "\u001b[1;35marray\u001b[0m\u001b[1m(\u001b[0m\u001b[1m[\u001b[0m\u001b[1;36m68.68599529\u001b[0m, \u001b[1;36m52.34769214\u001b[0m, \u001b[1;36m44.91072923\u001b[0m, \u001b[1;36m76.54723213\u001b[0m, \u001b[1;36m71.39646973\u001b[0m,\n",
       "       \u001b[1;36m65.06401916\u001b[0m, \u001b[1;36m59.53672136\u001b[0m\u001b[1m]\u001b[0m\u001b[1m)\u001b[0m\n"
      ]
     },
     "metadata": {},
     "output_type": "display_data"
    }
   ],
   "source": [
    "score_oc"
   ]
  },
  {
   "cell_type": "code",
   "execution_count": 33,
   "id": "c88b4f09",
   "metadata": {},
   "outputs": [
    {
     "data": {
      "text/html": [
       "<pre style=\"white-space:pre;overflow-x:auto;line-height:normal;font-family:Menlo,'DejaVu Sans Mono',consolas,'Courier New',monospace\"><span style=\"font-weight: bold\">(</span><span style=\"color: #008080; text-decoration-color: #008080; font-weight: bold\">10</span>, <span style=\"color: #008080; text-decoration-color: #008080; font-weight: bold\">3</span>, <span style=\"color: #008080; text-decoration-color: #008080; font-weight: bold\">4</span>, <span style=\"color: #008080; text-decoration-color: #008080; font-weight: bold\">300</span>, <span style=\"color: #008080; text-decoration-color: #008080; font-weight: bold\">152</span><span style=\"font-weight: bold\">)</span>\n",
       "</pre>\n"
      ],
      "text/plain": [
       "\u001b[1m(\u001b[0m\u001b[1;36m10\u001b[0m, \u001b[1;36m3\u001b[0m, \u001b[1;36m4\u001b[0m, \u001b[1;36m300\u001b[0m, \u001b[1;36m152\u001b[0m\u001b[1m)\u001b[0m\n"
      ]
     },
     "metadata": {},
     "output_type": "display_data"
    }
   ],
   "source": [
    "num_comm = num_comm.squeeze()\n",
    "num_comm.shape"
   ]
  },
  {
   "cell_type": "code",
   "execution_count": 34,
   "id": "bb2594cf",
   "metadata": {},
   "outputs": [
    {
     "data": {
      "text/html": [
       "<pre style=\"white-space:pre;overflow-x:auto;line-height:normal;font-family:Menlo,'DejaVu Sans Mono',consolas,'Courier New',monospace\"><span style=\"color: #800080; text-decoration-color: #800080; font-weight: bold\">array</span><span style=\"font-weight: bold\">([</span><span style=\"color: #008080; text-decoration-color: #008080; font-weight: bold\">0</span>, <span style=\"color: #008080; text-decoration-color: #008080; font-weight: bold\">1</span>, <span style=\"color: #008080; text-decoration-color: #008080; font-weight: bold\">2</span>, <span style=\"color: #008080; text-decoration-color: #008080; font-weight: bold\">3</span>, <span style=\"color: #008080; text-decoration-color: #008080; font-weight: bold\">4</span>, <span style=\"color: #008080; text-decoration-color: #008080; font-weight: bold\">5</span>, <span style=\"color: #008080; text-decoration-color: #008080; font-weight: bold\">6</span>, <span style=\"color: #008080; text-decoration-color: #008080; font-weight: bold\">7</span><span style=\"font-weight: bold\">])</span>\n",
       "</pre>\n"
      ],
      "text/plain": [
       "\u001b[1;35marray\u001b[0m\u001b[1m(\u001b[0m\u001b[1m[\u001b[0m\u001b[1;36m0\u001b[0m, \u001b[1;36m1\u001b[0m, \u001b[1;36m2\u001b[0m, \u001b[1;36m3\u001b[0m, \u001b[1;36m4\u001b[0m, \u001b[1;36m5\u001b[0m, \u001b[1;36m6\u001b[0m, \u001b[1;36m7\u001b[0m\u001b[1m]\u001b[0m\u001b[1m)\u001b[0m\n"
      ]
     },
     "metadata": {},
     "output_type": "display_data"
    }
   ],
   "source": [
    "bins = np.arange(0, pi.shape[-2] + 1)\n",
    "bins"
   ]
  },
  {
   "cell_type": "code",
   "execution_count": 35,
   "id": "d2163171",
   "metadata": {},
   "outputs": [
    {
     "data": {
      "text/html": [
       "<pre style=\"white-space:pre;overflow-x:auto;line-height:normal;font-family:Menlo,'DejaVu Sans Mono',consolas,'Courier New',monospace\"><span style=\"font-weight: bold\">(</span><span style=\"color: #008080; text-decoration-color: #008080; font-weight: bold\">10</span>, <span style=\"color: #008080; text-decoration-color: #008080; font-weight: bold\">3</span>, <span style=\"color: #008080; text-decoration-color: #008080; font-weight: bold\">4</span>, <span style=\"color: #008080; text-decoration-color: #008080; font-weight: bold\">300</span><span style=\"font-weight: bold\">)</span>\n",
       "</pre>\n"
      ],
      "text/plain": [
       "\u001b[1m(\u001b[0m\u001b[1;36m10\u001b[0m, \u001b[1;36m3\u001b[0m, \u001b[1;36m4\u001b[0m, \u001b[1;36m300\u001b[0m\u001b[1m)\u001b[0m\n"
      ]
     },
     "metadata": {},
     "output_type": "display_data"
    }
   ],
   "source": [
    "pi.shape[:4]"
   ]
  },
  {
   "cell_type": "code",
   "execution_count": 36,
   "id": "3db9d25b",
   "metadata": {},
   "outputs": [
    {
     "data": {
      "text/html": [
       "<pre style=\"white-space:pre;overflow-x:auto;line-height:normal;font-family:Menlo,'DejaVu Sans Mono',consolas,'Courier New',monospace\"><span style=\"color: #008080; text-decoration-color: #008080; font-weight: bold\">4</span>\n",
       "</pre>\n"
      ],
      "text/plain": [
       "\u001b[1;36m4\u001b[0m\n"
      ]
     },
     "metadata": {},
     "output_type": "display_data"
    }
   ],
   "source": [
    "dims = pi.ndim - 2\n",
    "dims"
   ]
  },
  {
   "cell_type": "code",
   "execution_count": 37,
   "id": "6b766da4",
   "metadata": {},
   "outputs": [
    {
     "data": {
      "text/html": [
       "<pre style=\"white-space:pre;overflow-x:auto;line-height:normal;font-family:Menlo,'DejaVu Sans Mono',consolas,'Courier New',monospace\"><span style=\"font-weight: bold\">(</span><span style=\"color: #008080; text-decoration-color: #008080; font-weight: bold\">10</span>, <span style=\"color: #008080; text-decoration-color: #008080; font-weight: bold\">3</span>, <span style=\"color: #008080; text-decoration-color: #008080; font-weight: bold\">4</span>, <span style=\"color: #008080; text-decoration-color: #008080; font-weight: bold\">300</span><span style=\"font-weight: bold\">)</span>\n",
       "</pre>\n"
      ],
      "text/plain": [
       "\u001b[1m(\u001b[0m\u001b[1;36m10\u001b[0m, \u001b[1;36m3\u001b[0m, \u001b[1;36m4\u001b[0m, \u001b[1;36m300\u001b[0m\u001b[1m)\u001b[0m\n"
      ]
     },
     "metadata": {},
     "output_type": "display_data"
    }
   ],
   "source": []
  },
  {
   "cell_type": "code",
   "execution_count": 46,
   "id": "148212f9",
   "metadata": {},
   "outputs": [],
   "source": [
    "for ids in itertools.product(*(range(i) for i in pi.shape[:dims])):\n",
    "    ids"
   ]
  },
  {
   "cell_type": "code",
   "execution_count": 47,
   "id": "1f010d41",
   "metadata": {},
   "outputs": [
    {
     "data": {
      "text/html": [
       "<pre style=\"white-space:pre;overflow-x:auto;line-height:normal;font-family:Menlo,'DejaVu Sans Mono',consolas,'Courier New',monospace\"><span style=\"font-weight: bold\">(</span><span style=\"color: #008080; text-decoration-color: #008080; font-weight: bold\">9</span>, <span style=\"color: #008080; text-decoration-color: #008080; font-weight: bold\">2</span>, <span style=\"color: #008080; text-decoration-color: #008080; font-weight: bold\">3</span>, <span style=\"color: #008080; text-decoration-color: #008080; font-weight: bold\">299</span><span style=\"font-weight: bold\">)</span>\n",
       "</pre>\n"
      ],
      "text/plain": [
       "\u001b[1m(\u001b[0m\u001b[1;36m9\u001b[0m, \u001b[1;36m2\u001b[0m, \u001b[1;36m3\u001b[0m, \u001b[1;36m299\u001b[0m\u001b[1m)\u001b[0m\n"
      ]
     },
     "metadata": {},
     "output_type": "display_data"
    }
   ],
   "source": [
    "ids"
   ]
  },
  {
   "cell_type": "code",
   "execution_count": null,
   "id": "647cd1ec",
   "metadata": {},
   "outputs": [],
   "source": []
  },
  {
   "cell_type": "code",
   "execution_count": null,
   "id": "cc0a97b8",
   "metadata": {},
   "outputs": [],
   "source": []
  },
  {
   "cell_type": "code",
   "execution_count": null,
   "id": "f5b8226d",
   "metadata": {},
   "outputs": [],
   "source": []
  }
 ],
 "metadata": {
  "kernelspec": {
   "display_name": "Python 3",
   "language": "python",
   "name": "python3"
  },
  "language_info": {
   "codemirror_mode": {
    "name": "ipython",
    "version": 3
   },
   "file_extension": ".py",
   "mimetype": "text/x-python",
   "name": "python",
   "nbconvert_exporter": "python",
   "pygments_lexer": "ipython3",
   "version": "3.8.3"
  }
 },
 "nbformat": 4,
 "nbformat_minor": 5
}
