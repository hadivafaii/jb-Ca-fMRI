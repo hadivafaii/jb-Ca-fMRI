{
 "cells": [
  {
   "cell_type": "markdown",
   "id": "792db3af",
   "metadata": {},
   "source": [
    "# (02) AD: save data\n",
    "\n",
    "**Motivation**: Saving extracted data and adjacency matrices allows fast loading and working with it later. <br>"
   ]
  },
  {
   "cell_type": "code",
   "execution_count": 1,
   "id": "d80d7f14",
   "metadata": {
    "tags": [
     "hide-input"
    ]
   },
   "outputs": [],
   "source": [
    "# HIDE CODE\n",
    "\n",
    "\n",
    "import os\n",
    "import sys\n",
    "from pprint import pprint\n",
    "from copy import deepcopy as dc\n",
    "from os.path import join as pjoin\n",
    "from scipy.ndimage import gaussian_filter\n",
    "from IPython.display import display, IFrame, HTML\n",
    "\n",
    "# tmp & extras dir\n",
    "git_dir = pjoin(os.environ['HOME'], 'Dropbox/git')\n",
    "extras_dir = pjoin(git_dir, 'jb-Ca-fMRI/_extras')\n",
    "fig_base_dir = pjoin(git_dir, 'jb-Ca-fMRI/figs')\n",
    "tmp_dir = pjoin(git_dir, 'jb-Ca-fMRI/tmp')\n",
    "\n",
    "# GitHub\n",
    "sys.path.insert(0, pjoin(git_dir, '_Ca-fMRI'))\n",
    "from figures.fighelper import *\n",
    "from analysis.final import *\n",
    "from utils.render import *\n",
    "\n",
    "# warnings, tqdm, & style\n",
    "warnings.filterwarnings('ignore', category=DeprecationWarning)\n",
    "from tqdm.notebook import tqdm\n",
    "%matplotlib inline\n",
    "set_style()"
   ]
  },
  {
   "cell_type": "code",
   "execution_count": 2,
   "id": "560d8dc7",
   "metadata": {
    "tags": [
     "hide-input"
    ]
   },
   "outputs": [],
   "source": [
    "# HIDE CODE\n",
    "\n",
    "\n",
    "def _apply():\n",
    "    obj = ants.apply_transforms(\n",
    "        fixed=affined,\n",
    "        moving=reg.img_in_ccf(mask),\n",
    "        transformlist=tx['invtransforms'],\n",
    "        interpolator='genericLabel',\n",
    "    )\n",
    "    obj = tx_aff_inv.apply_to_image(\n",
    "        image=obj,\n",
    "        reference=reg.in_house,\n",
    "        interpolation='multilabel',\n",
    "    )\n",
    "    obj = obj.numpy()\n",
    "    for i_new, i in enumerate(np.unique(obj[obj.nonzero()])):\n",
    "        obj[obj == i] = i_new + 1\n",
    "    return obj"
   ]
  },
  {
   "cell_type": "markdown",
   "id": "2185bff3",
   "metadata": {},
   "source": [
    "## Prepare"
   ]
  },
  {
   "cell_type": "code",
   "execution_count": 3,
   "id": "e67cb0ed",
   "metadata": {},
   "outputs": [
    {
     "data": {
      "text/html": [
       "<pre style=\"white-space:pre;overflow-x:auto;line-height:normal;font-family:Menlo,'DejaVu Sans Mono',consolas,'Courier New',monospace\">ROI lookup not found, time to run <span style=\"color: #800080; text-decoration-color: #800080; font-weight: bold\">organize_func</span><span style=\"font-weight: bold\">()</span> . . .\n",
       "</pre>\n"
      ],
      "text/plain": [
       "ROI lookup not found, time to run \u001b[1;35morganize_func\u001b[0m\u001b[1m(\u001b[0m\u001b[1m)\u001b[0m . . .\n"
      ]
     },
     "metadata": {},
     "output_type": "display_data"
    },
    {
     "data": {
      "text/html": [
       "<pre style=\"white-space:pre;overflow-x:auto;line-height:normal;font-family:Menlo,'DejaVu Sans Mono',consolas,'Courier New',monospace\">combine metadata not found, time to run <span style=\"color: #800080; text-decoration-color: #800080; font-weight: bold\">cat_data</span><span style=\"font-weight: bold\">()</span> . . .\n",
       "</pre>\n"
      ],
      "text/plain": [
       "combine metadata not found, time to run \u001b[1;35mcat_data\u001b[0m\u001b[1m(\u001b[0m\u001b[1m)\u001b[0m . . .\n"
      ]
     },
     "metadata": {},
     "output_type": "display_data"
    }
   ],
   "source": [
    "from register.register import Register\n",
    "\n",
    "mice = Mice(Config(128, resolution=25), load_parcel=True)\n",
    "mice.set_band(band_bo=(0.008,0.28))\n",
    "reg = Register(mice)"
   ]
  },
  {
   "cell_type": "markdown",
   "id": "9dc29fe8",
   "metadata": {},
   "source": [
    "## Registration subtasks"
   ]
  },
  {
   "cell_type": "markdown",
   "id": "1ff09c99",
   "metadata": {},
   "source": [
    "### Test if transform is correct"
   ]
  },
  {
   "cell_type": "code",
   "execution_count": 4,
   "id": "9e44462e",
   "metadata": {},
   "outputs": [],
   "source": [
    "tx_fwd, tx_aff = reg.load_tx(reg.in_house_name, is_inv=False)\n",
    "tx_inv, _ = reg.load_tx(reg.in_house_name, is_inv=True)\n",
    "tx = {'fwdtransforms': tx_fwd, 'invtransforms': tx_inv}\n",
    "tx_aff_inv = tx_aff.invert()\n",
    "\n",
    "affined = tx_aff.apply_to_image(\n",
    "    image=reg.in_house,\n",
    "    reference=reg.template,\n",
    "    interpolation='linear',\n",
    ")\n",
    "mask = mice.al.get_masks(['fiber tracts', 'VS', 'Isocortex'], as_objectmap=True)"
   ]
  },
  {
   "cell_type": "code",
   "execution_count": 5,
   "id": "23091c41",
   "metadata": {},
   "outputs": [
    {
     "data": {
      "text/html": [
       "<pre style=\"white-space:pre;overflow-x:auto;line-height:normal;font-family:Menlo,'DejaVu Sans Mono',consolas,'Courier New',monospace\">\n",
       "<span style=\"font-weight: bold\">{</span>\n",
       "    <span style=\"color: #008000; text-decoration-color: #008000\">'mi'</span>: <span style=\"color: #008080; text-decoration-color: #008080; font-weight: bold\">0.551089256337447</span>,\n",
       "    <span style=\"color: #008000; text-decoration-color: #008000\">'ovp_MOp'</span>: <span style=\"color: #008080; text-decoration-color: #008080; font-weight: bold\">1.0</span>,\n",
       "    <span style=\"color: #008000; text-decoration-color: #008000\">'sym_MOp'</span>: <span style=\"color: #008080; text-decoration-color: #008080; font-weight: bold\">1.0</span>,\n",
       "    <span style=\"color: #008000; text-decoration-color: #008000\">'ovp_MOs'</span>: <span style=\"color: #008080; text-decoration-color: #008080; font-weight: bold\">1.0</span>,\n",
       "    <span style=\"color: #008000; text-decoration-color: #008000\">'sym_MOs'</span>: <span style=\"color: #008080; text-decoration-color: #008080; font-weight: bold\">0.9939117199391172</span>,\n",
       "    <span style=\"color: #008000; text-decoration-color: #008000\">'ovp_SS'</span>: <span style=\"color: #008080; text-decoration-color: #008080; font-weight: bold\">1.0</span>,\n",
       "    <span style=\"color: #008000; text-decoration-color: #008000\">'sym_SS'</span>: <span style=\"color: #008080; text-decoration-color: #008080; font-weight: bold\">0.9986366734832992</span>,\n",
       "    <span style=\"color: #008000; text-decoration-color: #008000\">'ovp_VISC'</span>: <span style=\"color: #008080; text-decoration-color: #008080; font-weight: bold\">1.0</span>,\n",
       "    <span style=\"color: #008000; text-decoration-color: #008000\">'sym_VISC'</span>: <span style=\"color: #008080; text-decoration-color: #008080; font-weight: bold\">1.0</span>,\n",
       "    <span style=\"color: #008000; text-decoration-color: #008000\">'ovp_VIS'</span>: <span style=\"color: #008080; text-decoration-color: #008080; font-weight: bold\">1.0</span>,\n",
       "    <span style=\"color: #008000; text-decoration-color: #008000\">'sym_VIS'</span>: <span style=\"color: #008080; text-decoration-color: #008080; font-weight: bold\">0.9967897271268058</span>,\n",
       "    <span style=\"color: #008000; text-decoration-color: #008000\">'ovp_AI'</span>: <span style=\"color: #008080; text-decoration-color: #008080; font-weight: bold\">1.0</span>,\n",
       "    <span style=\"color: #008000; text-decoration-color: #008000\">'sym_AI'</span>: <span style=\"color: #008080; text-decoration-color: #008080; font-weight: bold\">0.9974747474747475</span>,\n",
       "    <span style=\"color: #008000; text-decoration-color: #008000\">'ovp_PTLp'</span>: <span style=\"color: #008080; text-decoration-color: #008080; font-weight: bold\">1.0</span>,\n",
       "    <span style=\"color: #008000; text-decoration-color: #008000\">'sym_PTLp'</span>: <span style=\"color: #008080; text-decoration-color: #008080; font-weight: bold\">0.9509803921568627</span>,\n",
       "    <span style=\"color: #008000; text-decoration-color: #008000\">'ovp_TEa'</span>: <span style=\"color: #008080; text-decoration-color: #008080; font-weight: bold\">1.0</span>,\n",
       "    <span style=\"color: #008000; text-decoration-color: #008000\">'sym_TEa'</span>: <span style=\"color: #008080; text-decoration-color: #008080; font-weight: bold\">0.9699248120300752</span>,\n",
       "    <span style=\"color: #008000; text-decoration-color: #008000\">'ovp_CA1'</span>: <span style=\"color: #008080; text-decoration-color: #008080; font-weight: bold\">1.0</span>,\n",
       "    <span style=\"color: #008000; text-decoration-color: #008000\">'sym_CA1'</span>: <span style=\"color: #008080; text-decoration-color: #008080; font-weight: bold\">0.9979633401221996</span>,\n",
       "    <span style=\"color: #008000; text-decoration-color: #008000\">'ovp_CLA'</span>: <span style=\"color: #008080; text-decoration-color: #008080; font-weight: bold\">1.0</span>,\n",
       "    <span style=\"color: #008000; text-decoration-color: #008000\">'sym_CLA'</span>: <span style=\"color: #008080; text-decoration-color: #008080; font-weight: bold\">1.0</span>,\n",
       "    <span style=\"color: #008000; text-decoration-color: #008000\">'ovp_STRd'</span>: <span style=\"color: #008080; text-decoration-color: #008080; font-weight: bold\">1.0</span>,\n",
       "    <span style=\"color: #008000; text-decoration-color: #008000\">'sym_STRd'</span>: <span style=\"color: #008080; text-decoration-color: #008080; font-weight: bold\">0.9975083056478405</span>,\n",
       "    <span style=\"color: #008000; text-decoration-color: #008000\">'ovp_iso'</span>: <span style=\"color: #008080; text-decoration-color: #008080; font-weight: bold\">1.0</span>,\n",
       "    <span style=\"color: #008000; text-decoration-color: #008000\">'sym_iso'</span>: <span style=\"color: #008080; text-decoration-color: #008080; font-weight: bold\">0.9962010015541357</span>,\n",
       "    <span style=\"color: #008000; text-decoration-color: #008000\">'sym'</span>: <span style=\"color: #008080; text-decoration-color: #008080; font-weight: bold\">0.9960617110315744</span>,\n",
       "    <span style=\"color: #008000; text-decoration-color: #008000\">'ovp'</span>: <span style=\"color: #008080; text-decoration-color: #008080; font-weight: bold\">1.0</span>\n",
       "<span style=\"font-weight: bold\">}</span>\n",
       "</pre>\n"
      ],
      "text/plain": [
       "\n",
       "\u001b[1m{\u001b[0m\n",
       "    \u001b[32m'mi'\u001b[0m: \u001b[1;36m0.551089256337447\u001b[0m,\n",
       "    \u001b[32m'ovp_MOp'\u001b[0m: \u001b[1;36m1.0\u001b[0m,\n",
       "    \u001b[32m'sym_MOp'\u001b[0m: \u001b[1;36m1.0\u001b[0m,\n",
       "    \u001b[32m'ovp_MOs'\u001b[0m: \u001b[1;36m1.0\u001b[0m,\n",
       "    \u001b[32m'sym_MOs'\u001b[0m: \u001b[1;36m0.9939117199391172\u001b[0m,\n",
       "    \u001b[32m'ovp_SS'\u001b[0m: \u001b[1;36m1.0\u001b[0m,\n",
       "    \u001b[32m'sym_SS'\u001b[0m: \u001b[1;36m0.9986366734832992\u001b[0m,\n",
       "    \u001b[32m'ovp_VISC'\u001b[0m: \u001b[1;36m1.0\u001b[0m,\n",
       "    \u001b[32m'sym_VISC'\u001b[0m: \u001b[1;36m1.0\u001b[0m,\n",
       "    \u001b[32m'ovp_VIS'\u001b[0m: \u001b[1;36m1.0\u001b[0m,\n",
       "    \u001b[32m'sym_VIS'\u001b[0m: \u001b[1;36m0.9967897271268058\u001b[0m,\n",
       "    \u001b[32m'ovp_AI'\u001b[0m: \u001b[1;36m1.0\u001b[0m,\n",
       "    \u001b[32m'sym_AI'\u001b[0m: \u001b[1;36m0.9974747474747475\u001b[0m,\n",
       "    \u001b[32m'ovp_PTLp'\u001b[0m: \u001b[1;36m1.0\u001b[0m,\n",
       "    \u001b[32m'sym_PTLp'\u001b[0m: \u001b[1;36m0.9509803921568627\u001b[0m,\n",
       "    \u001b[32m'ovp_TEa'\u001b[0m: \u001b[1;36m1.0\u001b[0m,\n",
       "    \u001b[32m'sym_TEa'\u001b[0m: \u001b[1;36m0.9699248120300752\u001b[0m,\n",
       "    \u001b[32m'ovp_CA1'\u001b[0m: \u001b[1;36m1.0\u001b[0m,\n",
       "    \u001b[32m'sym_CA1'\u001b[0m: \u001b[1;36m0.9979633401221996\u001b[0m,\n",
       "    \u001b[32m'ovp_CLA'\u001b[0m: \u001b[1;36m1.0\u001b[0m,\n",
       "    \u001b[32m'sym_CLA'\u001b[0m: \u001b[1;36m1.0\u001b[0m,\n",
       "    \u001b[32m'ovp_STRd'\u001b[0m: \u001b[1;36m1.0\u001b[0m,\n",
       "    \u001b[32m'sym_STRd'\u001b[0m: \u001b[1;36m0.9975083056478405\u001b[0m,\n",
       "    \u001b[32m'ovp_iso'\u001b[0m: \u001b[1;36m1.0\u001b[0m,\n",
       "    \u001b[32m'sym_iso'\u001b[0m: \u001b[1;36m0.9962010015541357\u001b[0m,\n",
       "    \u001b[32m'sym'\u001b[0m: \u001b[1;36m0.9960617110315744\u001b[0m,\n",
       "    \u001b[32m'ovp'\u001b[0m: \u001b[1;36m1.0\u001b[0m\n",
       "\u001b[1m}\u001b[0m\n"
      ]
     },
     "metadata": {},
     "output_type": "display_data"
    }
   ],
   "source": [
    "reg.mi_base = ants.image_mutual_information(\n",
    "    image1=reg.template, image2=reg.template)\n",
    "scores, misc, warped = reg.tx_peformance(\n",
    "    fixed=reg.template,\n",
    "    moving=affined,\n",
    "    moving_orig=reg.in_house,\n",
    "    tx_aff=tx_aff,\n",
    "    tx=tx,\n",
    ")\n",
    "obj = _apply()\n",
    "scores"
   ]
  },
  {
   "cell_type": "code",
   "execution_count": 6,
   "id": "b02c1949",
   "metadata": {},
   "outputs": [
    {
     "data": {
      "image/png": "[encoded data removed]"
     },
     "metadata": {},
     "output_type": "display_data"
    }
   ],
   "source": [
    "fig, axes = create_figure(2, 3, (13.5, 7), 'all', 'all', constrained_layout=True)\n",
    "s_ = 29\n",
    "for ax in axes[0].flat:\n",
    "    ax.imshow(reg.in_house[s_], cmap='Greys_r')\n",
    "axes[0, 1].imshow(mwh(obj[s_] == 0, obj[s_]), alpha=1, vmin=1.5, vmax=3.5, cmap='Spectral_r')\n",
    "axes[0, 2].imshow(mwh(obj[s_] != 2, obj[s_]), alpha=0.5, vmin=0, vmax=10, cmap='Reds')\n",
    "\n",
    "s_ = 41\n",
    "for ax in axes[1].flat:\n",
    "    ax.imshow(reg.in_house[s_], cmap='Greys_r')\n",
    "axes[1, 1].imshow(mwh(obj[s_] == 0, obj[s_]), alpha=1, vmin=1.5, vmax=3.5, cmap='Spectral_r')\n",
    "axes[1, 2].imshow(mwh(obj[s_] != 2, obj[s_]), alpha=0.5, vmin=0, vmax=10, cmap='Reds')\n",
    "plt.show()"
   ]
  },
  {
   "cell_type": "code",
   "execution_count": 7,
   "id": "109bb641",
   "metadata": {},
   "outputs": [
    {
     "data": {
      "image/png": "[encoded data removed]"
     },
     "metadata": {},
     "output_type": "display_data"
    }
   ],
   "source": [
    "fig, axes = create_figure(1, 3, (13, 6), 'all', 'all', constrained_layout=True)\n",
    "for i in range(3):\n",
    "    axes[i].imshow(reg.template[240], cmap='Greys_r')\n",
    "axes[0].imshow(mwh(affined[240] < 4000, affined[240]), alpha=0.5, cmap='Spectral')\n",
    "axes[1].imshow(mwh(warped[240] < 4000, warped[240]), alpha=0.5, cmap='Spectral')\n",
    "plt.show()"
   ]
  },
  {
   "cell_type": "code",
   "execution_count": null,
   "id": "92c15426",
   "metadata": {},
   "outputs": [],
   "source": []
  },
  {
   "cell_type": "markdown",
   "id": "6002393e",
   "metadata": {},
   "source": [
    "### Run equivalent of register_anat to save masks"
   ]
  },
  {
   "cell_type": "code",
   "execution_count": null,
   "id": "7f819d61",
   "metadata": {},
   "outputs": [],
   "source": [
    "%%time\n",
    "\n",
    "tx, tx_aff = reg.load_tx(reg.in_house_name)\n",
    "affined = tx_aff.apply_to_image(\n",
    "    image=reg.in_house,\n",
    "    reference=reg.template,\n",
    "    interpolation='linear',\n",
    ")\n",
    "_ = reg._apply_tx_obj2lps(\n",
    "    tx=tx,\n",
    "    tx_aff=tx_aff,\n",
    "    moving=affined,\n",
    "    name=reg.in_house_name,\n",
    "    moving_orig=reg.in_house,\n",
    "    save_results=True,\n",
    "    extras=False,\n",
    "    use_mm=True,\n",
    ")"
   ]
  },
  {
   "cell_type": "markdown",
   "id": "f3a41a9e",
   "metadata": {},
   "source": [
    "Takes about 20 mins"
   ]
  },
  {
   "cell_type": "markdown",
   "id": "6651961f",
   "metadata": {},
   "source": [
    "## Load full brain, erode"
   ]
  },
  {
   "cell_type": "code",
   "execution_count": 8,
   "id": "c76f3957",
   "metadata": {},
   "outputs": [],
   "source": [
    "from register.parcellation import erode_parcellation"
   ]
  },
  {
   "cell_type": "code",
   "execution_count": 9,
   "id": "2497abe0",
   "metadata": {},
   "outputs": [
    {
     "data": {
      "text/html": [
       "<pre style=\"white-space:pre;overflow-x:auto;line-height:normal;font-family:Menlo,'DejaVu Sans Mono',consolas,'Courier New',monospace\"><span style=\"font-weight: bold\">(</span><span style=\"color: #008080; text-decoration-color: #008080; font-weight: bold\">60</span>, <span style=\"color: #008080; text-decoration-color: #008080; font-weight: bold\">46</span>, <span style=\"color: #008080; text-decoration-color: #008080; font-weight: bold\">81</span><span style=\"font-weight: bold\">)</span>\n",
       "</pre>\n"
      ],
      "text/plain": [
       "\u001b[1m(\u001b[0m\u001b[1;36m60\u001b[0m, \u001b[1;36m46\u001b[0m, \u001b[1;36m81\u001b[0m\u001b[1m)\u001b[0m\n"
      ]
     },
     "metadata": {},
     "output_type": "display_data"
    }
   ],
   "source": [
    "brain = 'Symmetric_N162_space-indiv3d_brain.nii.gz'\n",
    "brain = ants.image_read(\n",
    "    filename=pjoin(mice.cfg.masks_dir, brain),\n",
    "    pixeltype='unsigned int',\n",
    ").numpy()\n",
    "brain.shape"
   ]
  },
  {
   "cell_type": "code",
   "execution_count": 10,
   "id": "e3ec78fc",
   "metadata": {},
   "outputs": [
    {
     "data": {
      "text/html": [
       "<pre style=\"white-space:pre;overflow-x:auto;line-height:normal;font-family:Menlo,'DejaVu Sans Mono',consolas,'Courier New',monospace\"><span style=\"font-weight: bold\">((</span><span style=\"color: #008080; text-decoration-color: #008080; font-weight: bold\">60</span>, <span style=\"color: #008080; text-decoration-color: #008080; font-weight: bold\">46</span>, <span style=\"color: #008080; text-decoration-color: #008080; font-weight: bold\">81</span><span style=\"font-weight: bold\">)</span>, <span style=\"color: #008000; text-decoration-color: #008000\">'boundary'</span><span style=\"font-weight: bold\">)</span>\n",
       "</pre>\n"
      ],
      "text/plain": [
       "\u001b[1m(\u001b[0m\u001b[1m(\u001b[0m\u001b[1;36m60\u001b[0m, \u001b[1;36m46\u001b[0m, \u001b[1;36m81\u001b[0m\u001b[1m)\u001b[0m, \u001b[32m'boundary'\u001b[0m\u001b[1m)\u001b[0m\n"
      ]
     },
     "metadata": {},
     "output_type": "display_data"
    }
   ],
   "source": [
    "eroded, r = erode_parcellation(brain, 'boundary')\n",
    "eroded.shape, r"
   ]
  },
  {
   "cell_type": "code",
   "execution_count": 11,
   "id": "6a766a5b",
   "metadata": {},
   "outputs": [
    {
     "data": {
      "text/html": [
       "<pre style=\"white-space:pre;overflow-x:auto;line-height:normal;font-family:Menlo,'DejaVu Sans Mono',consolas,'Courier New',monospace\"><span style=\"color: #008080; text-decoration-color: #008080; font-weight: bold\">78</span>\n",
       "</pre>\n"
      ],
      "text/plain": [
       "\u001b[1;36m78\u001b[0m\n"
      ]
     },
     "metadata": {},
     "output_type": "display_data"
    }
   ],
   "source": [
    "missing = sorted(set(unique_idxs(brain)) - set(unique_idxs(eroded)))\n",
    "len(missing)"
   ]
  },
  {
   "cell_type": "code",
   "execution_count": 12,
   "id": "762b0771",
   "metadata": {},
   "outputs": [],
   "source": [
    "m = np.isin(brain, missing)\n",
    "eroded[m] = brain[m]"
   ]
  },
  {
   "cell_type": "code",
   "execution_count": 13,
   "id": "70569970",
   "metadata": {},
   "outputs": [
    {
     "data": {
      "text/html": [
       "<div>\n",
       "<style scoped>\n",
       "    .dataframe tbody tr th:only-of-type {\n",
       "        vertical-align: middle;\n",
       "    }\n",
       "\n",
       "    .dataframe tbody tr th {\n",
       "        vertical-align: top;\n",
       "    }\n",
       "\n",
       "    .dataframe thead th {\n",
       "        text-align: right;\n",
       "    }\n",
       "</style>\n",
       "<table border=\"1\" class=\"dataframe\">\n",
       "  <thead>\n",
       "    <tr style=\"text-align: right;\">\n",
       "      <th></th>\n",
       "      <th>id</th>\n",
       "      <th>acro</th>\n",
       "      <th>hemis</th>\n",
       "      <th>region</th>\n",
       "      <th>layer</th>\n",
       "    </tr>\n",
       "  </thead>\n",
       "  <tbody>\n",
       "    <tr>\n",
       "      <th>257</th>\n",
       "      <td>258</td>\n",
       "      <td>Isocortex</td>\n",
       "      <td>1</td>\n",
       "      <td>2</td>\n",
       "      <td>2</td>\n",
       "    </tr>\n",
       "    <tr>\n",
       "      <th>361</th>\n",
       "      <td>362</td>\n",
       "      <td>Isocortex</td>\n",
       "      <td>1</td>\n",
       "      <td>106</td>\n",
       "      <td>2</td>\n",
       "    </tr>\n",
       "    <tr>\n",
       "      <th>641</th>\n",
       "      <td>642</td>\n",
       "      <td>Isocortex</td>\n",
       "      <td>2</td>\n",
       "      <td>2</td>\n",
       "      <td>2</td>\n",
       "    </tr>\n",
       "    <tr>\n",
       "      <th>745</th>\n",
       "      <td>746</td>\n",
       "      <td>Isocortex</td>\n",
       "      <td>2</td>\n",
       "      <td>106</td>\n",
       "      <td>2</td>\n",
       "    </tr>\n",
       "  </tbody>\n",
       "</table>\n",
       "</div>"
      ]
     },
     "execution_count": 13,
     "metadata": {},
     "output_type": "execute_result"
    }
   ],
   "source": [
    "missing = sorted(set(mice.parcel.df['id']) - set(unique_idxs(eroded)))\n",
    "mice.parcel.df.loc[mice.parcel.df['id'].isin(missing)]"
   ]
  },
  {
   "cell_type": "code",
   "execution_count": null,
   "id": "52089c93",
   "metadata": {},
   "outputs": [],
   "source": []
  },
  {
   "cell_type": "markdown",
   "id": "f6984842",
   "metadata": {},
   "source": [
    "### Plot results"
   ]
  },
  {
   "cell_type": "code",
   "execution_count": 14,
   "id": "971223ae",
   "metadata": {},
   "outputs": [],
   "source": [
    "in_house = reg.load_in_house().numpy()"
   ]
  },
  {
   "cell_type": "code",
   "execution_count": 15,
   "id": "897fa225",
   "metadata": {},
   "outputs": [
    {
     "data": {
      "image/png": "[encoded data removed]"
     },
     "metadata": {},
     "output_type": "display_data"
    }
   ],
   "source": [
    "fig, axes = create_figure(2, 3, (13, 6), width_ratios=[1, 0.95, 1.2], constrained_layout=True)\n",
    "for i, (axis, s_) in enumerate([(2, 40), (1, 10), (0, 24)]):\n",
    "    data2p = filter_boundaries(\n",
    "        x_list=[\n",
    "            np.take(brain, s_, axis),\n",
    "            np.take(eroded, s_, axis),\n",
    "            np.take(in_house, s_, axis)],\n",
    "        mask=np.take(in_house, s_, axis) > 2000,\n",
    "    )\n",
    "    if axis == 2:\n",
    "        data2p = [e.T for e in data2p]\n",
    "    for ax in axes[:, i].flat:\n",
    "        ax.imshow(mwh(data2p[-1] < 2000, data2p[-1]), cmap='Greys_r')\n",
    "    for j, x2p in enumerate(data2p[:-1]):\n",
    "        axes[j, i].imshow(mwh(x2p == 0, x2p), alpha=1, cmap='Spectral_r')\n",
    "\n",
    "remove_ticks(axes)\n",
    "plt.show()"
   ]
  },
  {
   "cell_type": "code",
   "execution_count": null,
   "id": "cdfc3b10",
   "metadata": {},
   "outputs": [],
   "source": []
  },
  {
   "cell_type": "code",
   "execution_count": 16,
   "id": "e62a724d",
   "metadata": {},
   "outputs": [
    {
     "data": {
      "text/html": [
       "<pre style=\"white-space:pre;overflow-x:auto;line-height:normal;font-family:Menlo,'DejaVu Sans Mono',consolas,'Courier New',monospace\"><span style=\"font-weight: bold\">(</span><span style=\"color: #008080; text-decoration-color: #008080; font-weight: bold\">2778</span>, <span style=\"color: #008080; text-decoration-color: #008080; font-weight: bold\">2778</span><span style=\"font-weight: bold\">)</span>\n",
       "</pre>\n"
      ],
      "text/plain": [
       "\u001b[1m(\u001b[0m\u001b[1;36m2778\u001b[0m, \u001b[1;36m2778\u001b[0m\u001b[1m)\u001b[0m\n"
      ]
     },
     "metadata": {},
     "output_type": "display_data"
    }
   ],
   "source": [
    "sizes_brain = unique_idxs(brain)\n",
    "sizes_eroded = unique_idxs(eroded)\n",
    "sizes_brain = {i: len(v) for i, v in sizes_brain.items()}\n",
    "sizes_eroded = {i: len(v) for i, v in sizes_eroded.items()}\n",
    "\n",
    "len(sizes_brain), len(sizes_eroded)"
   ]
  },
  {
   "cell_type": "code",
   "execution_count": 17,
   "id": "4b452241",
   "metadata": {},
   "outputs": [
    {
     "data": {
      "image/png": "[encoded data removed]"
     },
     "metadata": {},
     "output_type": "display_data"
    }
   ],
   "source": [
    "sns.histplot(list(sizes_brain.values()), color='C0', label='brain', stat='percent', bins=np.linspace(0, 50, 51))\n",
    "sns.histplot(list(sizes_eroded.values()), color='C1', label='eroded', stat='percent', bins=np.linspace(0, 50, 51))\n",
    "plt.legend(fontsize=14)\n",
    "plt.show()"
   ]
  },
  {
   "cell_type": "code",
   "execution_count": null,
   "id": "72a5dede",
   "metadata": {},
   "outputs": [],
   "source": []
  },
  {
   "cell_type": "markdown",
   "id": "b6a0ce2a",
   "metadata": {},
   "source": [
    "### Invert to match shapes"
   ]
  },
  {
   "cell_type": "code",
   "execution_count": 18,
   "id": "4a28eb6a",
   "metadata": {},
   "outputs": [],
   "source": [
    "in_house = in_house[::-1][:, ::-1]\n",
    "eroded = eroded[::-1][:, ::-1]"
   ]
  },
  {
   "cell_type": "code",
   "execution_count": 19,
   "id": "c37140a0",
   "metadata": {},
   "outputs": [
    {
     "data": {
      "image/png": "[encoded data removed]"
     },
     "metadata": {},
     "output_type": "display_data"
    }
   ],
   "source": [
    "plt.imshow(in_house[..., 40].T, cmap='Greys_r')\n",
    "plt.imshow(mwh(eroded[..., 40].T == 0, eroded[..., 40].T), cmap='Spectral_r');"
   ]
  },
  {
   "cell_type": "code",
   "execution_count": null,
   "id": "8716aa04",
   "metadata": {},
   "outputs": [],
   "source": []
  },
  {
   "cell_type": "markdown",
   "id": "a1daf1e8",
   "metadata": {},
   "source": [
    "## Get files, xtract, save"
   ]
  },
  {
   "cell_type": "code",
   "execution_count": 20,
   "id": "6f9202d2",
   "metadata": {},
   "outputs": [
    {
     "data": {
      "text/html": [
       "<pre style=\"white-space:pre;overflow-x:auto;line-height:normal;font-family:Menlo,'DejaVu Sans Mono',consolas,'Courier New',monospace\"><span style=\"color: #008080; text-decoration-color: #008080; font-weight: bold\">348</span>\n",
       "</pre>\n"
      ],
      "text/plain": [
       "\u001b[1;36m348\u001b[0m\n"
      ]
     },
     "metadata": {},
     "output_type": "display_data"
    }
   ],
   "source": [
    "files = sorted(filter(\n",
    "    lambda f: 'sub-DKI' in f or 'sub-WT'in f,\n",
    "    os.listdir(mice.cfg.raw_dir),\n",
    "))\n",
    "len(files)"
   ]
  },
  {
   "cell_type": "markdown",
   "id": "09d358aa",
   "metadata": {},
   "source": [
    "### Masks all"
   ]
  },
  {
   "cell_type": "code",
   "execution_count": 21,
   "id": "b6193183",
   "metadata": {},
   "outputs": [
    {
     "data": {
      "text/html": [
       "<pre style=\"white-space:pre;overflow-x:auto;line-height:normal;font-family:Menlo,'DejaVu Sans Mono',consolas,'Courier New',monospace\"><span style=\"font-weight: bold\">[</span>PROGRESS<span style=\"font-weight: bold\">]</span> <span style=\"color: #008000; text-decoration-color: #008000\">'AD_mask_and.npy'</span> saved at\n",
       "<span style=\"color: #800080; text-decoration-color: #800080\">/home/hadi/Dropbox/git/jb-Ca-fMRI/</span><span style=\"color: #ff00ff; text-decoration-color: #ff00ff\">tmp</span>\n",
       "</pre>\n"
      ],
      "text/plain": [
       "\u001b[1m[\u001b[0mPROGRESS\u001b[1m]\u001b[0m \u001b[32m'AD_mask_and.npy'\u001b[0m saved at\n",
       "\u001b[35m/home/hadi/Dropbox/git/jb-Ca-fMRI/\u001b[0m\u001b[95mtmp\u001b[0m\n"
      ]
     },
     "metadata": {},
     "output_type": "display_data"
    },
    {
     "data": {
      "text/html": [
       "<pre style=\"white-space:pre;overflow-x:auto;line-height:normal;font-family:Menlo,'DejaVu Sans Mono',consolas,'Courier New',monospace\"><span style=\"font-weight: bold\">[</span>PROGRESS<span style=\"font-weight: bold\">]</span> <span style=\"color: #008000; text-decoration-color: #008000\">'AD_mask_or.npy'</span> saved at\n",
       "<span style=\"color: #800080; text-decoration-color: #800080\">/home/hadi/Dropbox/git/jb-Ca-fMRI/</span><span style=\"color: #ff00ff; text-decoration-color: #ff00ff\">tmp</span>\n",
       "</pre>\n"
      ],
      "text/plain": [
       "\u001b[1m[\u001b[0mPROGRESS\u001b[1m]\u001b[0m \u001b[32m'AD_mask_or.npy'\u001b[0m saved at\n",
       "\u001b[35m/home/hadi/Dropbox/git/jb-Ca-fMRI/\u001b[0m\u001b[95mtmp\u001b[0m\n"
      ]
     },
     "metadata": {},
     "output_type": "display_data"
    },
    {
     "name": "stdout",
     "output_type": "stream",
     "text": [
      "CPU times: user 9min 27s, sys: 2min 34s, total: 12min 1s\n",
      "Wall time: 12min 38s\n"
     ]
    }
   ],
   "source": [
    "%%time\n",
    "\n",
    "masks = []\n",
    "for f in files:\n",
    "    x = ants.image_read(pjoin(mice.cfg.raw_dir, f))\n",
    "    masks.append(np.abs(x.numpy()).sum(-1) > 0)\n",
    "mask_and = functools.reduce(np.logical_and, masks)\n",
    "mask_or = functools.reduce(np.logical_or, masks)\n",
    "\n",
    "_ = save_obj(\n",
    "    obj=mask_and,\n",
    "    file_name='AD_mask_and',\n",
    "    save_dir=tmp_dir,\n",
    "    mode='npy',\n",
    ")\n",
    "_ = save_obj(\n",
    "    obj=mask_or,\n",
    "    file_name='AD_mask_or',\n",
    "    save_dir=tmp_dir,\n",
    "    mode='npy',\n",
    ")"
   ]
  },
  {
   "cell_type": "code",
   "execution_count": 22,
   "id": "e60d41fe",
   "metadata": {},
   "outputs": [
    {
     "data": {
      "text/html": [
       "<pre style=\"white-space:pre;overflow-x:auto;line-height:normal;font-family:Menlo,'DejaVu Sans Mono',consolas,'Courier New',monospace\"><span style=\"color: #008080; text-decoration-color: #008080; font-weight: bold\">918</span>\n",
       "</pre>\n"
      ],
      "text/plain": [
       "\u001b[1;36m918\u001b[0m\n"
      ]
     },
     "metadata": {},
     "output_type": "display_data"
    }
   ],
   "source": [
    "len(unique_idxs(eroded[~mask_or]))"
   ]
  },
  {
   "cell_type": "code",
   "execution_count": 23,
   "id": "01a5b087",
   "metadata": {},
   "outputs": [],
   "source": [
    "eroded[~mask_or] = 0"
   ]
  },
  {
   "cell_type": "code",
   "execution_count": 24,
   "id": "0e3889fb",
   "metadata": {},
   "outputs": [
    {
     "data": {
      "image/png": "[encoded data removed]"
     },
     "metadata": {},
     "output_type": "display_data"
    }
   ],
   "source": [
    "x2p = eroded[..., 40].T.copy()\n",
    "x2p = filter_boundaries(x2p)\n",
    "for i, r in enumerate(np.unique(x2p[x2p.nonzero()]), start=1):\n",
    "    x2p[x2p == r] = i\n",
    "x2p = mwh(x2p == 0, x2p)\n",
    "fig, axes = create_figure(1, 2, (8, 3), constrained_layout=True)\n",
    "axes[0].imshow(mwh(x2p == 0, x2p), cmap=sns.color_palette('husl', as_cmap=True))\n",
    "axes[1].imshow(mwh(x2p == 0, x2p), cmap=get_rand_cmap(len(np.unique(x2p[x2p.nonzero()]))))\n",
    "remove_ticks(axes)\n",
    "plt.show()"
   ]
  },
  {
   "cell_type": "code",
   "execution_count": 8,
   "id": "2cdd9a09",
   "metadata": {},
   "outputs": [
    {
     "data": {
      "image/png": "[encoded data removed]"
     },
     "metadata": {},
     "output_type": "display_data"
    }
   ],
   "source": [
    "# Used to be brain"
   ]
  },
  {
   "cell_type": "code",
   "execution_count": null,
   "id": "db6fdcd8",
   "metadata": {},
   "outputs": [],
   "source": []
  },
  {
   "cell_type": "code",
   "execution_count": 25,
   "id": "97166304",
   "metadata": {},
   "outputs": [
    {
     "data": {
      "text/html": [
       "<pre style=\"white-space:pre;overflow-x:auto;line-height:normal;font-family:Menlo,'DejaVu Sans Mono',consolas,'Courier New',monospace\"><span style=\"font-weight: bold\">[</span>PROGRESS<span style=\"font-weight: bold\">]</span> <span style=\"color: #008000; text-decoration-color: #008000\">'AD_n2i.npy'</span> saved at\n",
       "<span style=\"color: #800080; text-decoration-color: #800080\">/home/hadi/Dropbox/git/jb-Ca-fMRI/</span><span style=\"color: #ff00ff; text-decoration-color: #ff00ff\">tmp</span>\n",
       "</pre>\n"
      ],
      "text/plain": [
       "\u001b[1m[\u001b[0mPROGRESS\u001b[1m]\u001b[0m \u001b[32m'AD_n2i.npy'\u001b[0m saved at\n",
       "\u001b[35m/home/hadi/Dropbox/git/jb-Ca-fMRI/\u001b[0m\u001b[95mtmp\u001b[0m\n"
      ]
     },
     "metadata": {},
     "output_type": "display_data"
    },
    {
     "data": {
      "text/html": [
       "<pre style=\"white-space:pre;overflow-x:auto;line-height:normal;font-family:Menlo,'DejaVu Sans Mono',consolas,'Courier New',monospace\"><span style=\"color: #008080; text-decoration-color: #008080; font-weight: bold\">2365</span>\n",
       "</pre>\n"
      ],
      "text/plain": [
       "\u001b[1;36m2365\u001b[0m\n"
      ]
     },
     "metadata": {},
     "output_type": "display_data"
    }
   ],
   "source": [
    "ids = np.unique(eroded[eroded.nonzero()])\n",
    "n2i = {\n",
    "    n: r for n, r\n",
    "    in enumerate(ids)\n",
    "}\n",
    "_ = save_obj(\n",
    "    obj=n2i,\n",
    "    file_name='AD_n2i',\n",
    "    save_dir=tmp_dir,\n",
    "    mode='npy',\n",
    ")\n",
    "len(n2i)"
   ]
  },
  {
   "cell_type": "markdown",
   "id": "7cbc2d4b",
   "metadata": {},
   "source": [
    "### Data all"
   ]
  },
  {
   "cell_type": "code",
   "execution_count": 26,
   "id": "61567b06",
   "metadata": {
    "scrolled": true
   },
   "outputs": [
    {
     "data": {
      "text/html": [
       "<pre style=\"white-space:pre;overflow-x:auto;line-height:normal;font-family:Menlo,'DejaVu Sans Mono',consolas,'Courier New',monospace\">sub-DKI01_ses-1_run-<span style=\"color: #008080; text-decoration-color: #008080; font-weight: bold\">1</span>:          a total of <span style=\"color: #008080; text-decoration-color: #008080; font-weight: bold\">147</span> <span style=\"color: #800080; text-decoration-color: #800080\">/</span> <span style=\"color: #008080; text-decoration-color: #008080; font-weight: bold\">2365</span> <span style=\"font-weight: bold\">(</span><span style=\"color: #008080; text-decoration-color: #008080; font-weight: bold\">6.2</span> %<span style=\"font-weight: bold\">)</span> ROIs had zero STD\n",
       "</pre>\n"
      ],
      "text/plain": [
       "sub-DKI01_ses-1_run-\u001b[1;36m1\u001b[0m:          a total of \u001b[1;36m147\u001b[0m \u001b[35m/\u001b[0m \u001b[1;36m2365\u001b[0m \u001b[1m(\u001b[0m\u001b[1;36m6.2\u001b[0m %\u001b[1m)\u001b[0m ROIs had zero STD\n"
      ]
     },
     "metadata": {},
     "output_type": "display_data"
    },
    {
     "data": {
      "text/html": [
       "<pre style=\"white-space:pre;overflow-x:auto;line-height:normal;font-family:Menlo,'DejaVu Sans Mono',consolas,'Courier New',monospace\">sub-DKI01_ses-1_run-<span style=\"color: #008080; text-decoration-color: #008080; font-weight: bold\">2</span>:          a total of <span style=\"color: #008080; text-decoration-color: #008080; font-weight: bold\">112</span> <span style=\"color: #800080; text-decoration-color: #800080\">/</span> <span style=\"color: #008080; text-decoration-color: #008080; font-weight: bold\">2365</span> <span style=\"font-weight: bold\">(</span><span style=\"color: #008080; text-decoration-color: #008080; font-weight: bold\">4.7</span> %<span style=\"font-weight: bold\">)</span> ROIs had zero STD\n",
       "</pre>\n"
      ],
      "text/plain": [
       "sub-DKI01_ses-1_run-\u001b[1;36m2\u001b[0m:          a total of \u001b[1;36m112\u001b[0m \u001b[35m/\u001b[0m \u001b[1;36m2365\u001b[0m \u001b[1m(\u001b[0m\u001b[1;36m4.7\u001b[0m %\u001b[1m)\u001b[0m ROIs had zero STD\n"
      ]
     },
     "metadata": {},
     "output_type": "display_data"
    },
    {
     "data": {
      "text/html": [
       "<pre style=\"white-space:pre;overflow-x:auto;line-height:normal;font-family:Menlo,'DejaVu Sans Mono',consolas,'Courier New',monospace\">sub-DKI01_ses-1_run-<span style=\"color: #008080; text-decoration-color: #008080; font-weight: bold\">3</span>:          a total of <span style=\"color: #008080; text-decoration-color: #008080; font-weight: bold\">127</span> <span style=\"color: #800080; text-decoration-color: #800080\">/</span> <span style=\"color: #008080; text-decoration-color: #008080; font-weight: bold\">2365</span> <span style=\"font-weight: bold\">(</span><span style=\"color: #008080; text-decoration-color: #008080; font-weight: bold\">5.4</span> %<span style=\"font-weight: bold\">)</span> ROIs had zero STD\n",
       "</pre>\n"
      ],
      "text/plain": [
       "sub-DKI01_ses-1_run-\u001b[1;36m3\u001b[0m:          a total of \u001b[1;36m127\u001b[0m \u001b[35m/\u001b[0m \u001b[1;36m2365\u001b[0m \u001b[1m(\u001b[0m\u001b[1;36m5.4\u001b[0m %\u001b[1m)\u001b[0m ROIs had zero STD\n"
      ]
     },
     "metadata": {},
     "output_type": "display_data"
    },
    {
     "data": {
      "text/html": [
       "<pre style=\"white-space:pre;overflow-x:auto;line-height:normal;font-family:Menlo,'DejaVu Sans Mono',consolas,'Courier New',monospace\">sub-DKI02_ses-1_run-<span style=\"color: #008080; text-decoration-color: #008080; font-weight: bold\">1</span>:          a total of <span style=\"color: #008080; text-decoration-color: #008080; font-weight: bold\">149</span> <span style=\"color: #800080; text-decoration-color: #800080\">/</span> <span style=\"color: #008080; text-decoration-color: #008080; font-weight: bold\">2365</span> <span style=\"font-weight: bold\">(</span><span style=\"color: #008080; text-decoration-color: #008080; font-weight: bold\">6.3</span> %<span style=\"font-weight: bold\">)</span> ROIs had zero STD\n",
       "</pre>\n"
      ],
      "text/plain": [
       "sub-DKI02_ses-1_run-\u001b[1;36m1\u001b[0m:          a total of \u001b[1;36m149\u001b[0m \u001b[35m/\u001b[0m \u001b[1;36m2365\u001b[0m \u001b[1m(\u001b[0m\u001b[1;36m6.3\u001b[0m %\u001b[1m)\u001b[0m ROIs had zero STD\n"
      ]
     },
     "metadata": {},
     "output_type": "display_data"
    },
    {
     "data": {
      "text/html": [
       "<pre style=\"white-space:pre;overflow-x:auto;line-height:normal;font-family:Menlo,'DejaVu Sans Mono',consolas,'Courier New',monospace\">sub-DKI02_ses-1_run-<span style=\"color: #008080; text-decoration-color: #008080; font-weight: bold\">2</span>:          a total of <span style=\"color: #008080; text-decoration-color: #008080; font-weight: bold\">170</span> <span style=\"color: #800080; text-decoration-color: #800080\">/</span> <span style=\"color: #008080; text-decoration-color: #008080; font-weight: bold\">2365</span> <span style=\"font-weight: bold\">(</span><span style=\"color: #008080; text-decoration-color: #008080; font-weight: bold\">7.2</span> %<span style=\"font-weight: bold\">)</span> ROIs had zero STD\n",
       "</pre>\n"
      ],
      "text/plain": [
       "sub-DKI02_ses-1_run-\u001b[1;36m2\u001b[0m:          a total of \u001b[1;36m170\u001b[0m \u001b[35m/\u001b[0m \u001b[1;36m2365\u001b[0m \u001b[1m(\u001b[0m\u001b[1;36m7.2\u001b[0m %\u001b[1m)\u001b[0m ROIs had zero STD\n"
      ]
     },
     "metadata": {},
     "output_type": "display_data"
    },
    {
     "data": {
      "text/html": [
       "<pre style=\"white-space:pre;overflow-x:auto;line-height:normal;font-family:Menlo,'DejaVu Sans Mono',consolas,'Courier New',monospace\">sub-DKI02_ses-1_run-<span style=\"color: #008080; text-decoration-color: #008080; font-weight: bold\">3</span>:          a total of <span style=\"color: #008080; text-decoration-color: #008080; font-weight: bold\">148</span> <span style=\"color: #800080; text-decoration-color: #800080\">/</span> <span style=\"color: #008080; text-decoration-color: #008080; font-weight: bold\">2365</span> <span style=\"font-weight: bold\">(</span><span style=\"color: #008080; text-decoration-color: #008080; font-weight: bold\">6.3</span> %<span style=\"font-weight: bold\">)</span> ROIs had zero STD\n",
       "</pre>\n"
      ],
      "text/plain": [
       "sub-DKI02_ses-1_run-\u001b[1;36m3\u001b[0m:          a total of \u001b[1;36m148\u001b[0m \u001b[35m/\u001b[0m \u001b[1;36m2365\u001b[0m \u001b[1m(\u001b[0m\u001b[1;36m6.3\u001b[0m %\u001b[1m)\u001b[0m ROIs had zero STD\n"
      ]
     },
     "metadata": {},
     "output_type": "display_data"
    },
    {
     "data": {
      "text/html": [
       "<pre style=\"white-space:pre;overflow-x:auto;line-height:normal;font-family:Menlo,'DejaVu Sans Mono',consolas,'Courier New',monospace\">sub-DKI02_ses-2_run-<span style=\"color: #008080; text-decoration-color: #008080; font-weight: bold\">1</span>:          a total of <span style=\"color: #008080; text-decoration-color: #008080; font-weight: bold\">79</span> <span style=\"color: #800080; text-decoration-color: #800080\">/</span> <span style=\"color: #008080; text-decoration-color: #008080; font-weight: bold\">2365</span> <span style=\"font-weight: bold\">(</span><span style=\"color: #008080; text-decoration-color: #008080; font-weight: bold\">3.3</span> %<span style=\"font-weight: bold\">)</span> ROIs had zero STD\n",
       "</pre>\n"
      ],
      "text/plain": [
       "sub-DKI02_ses-2_run-\u001b[1;36m1\u001b[0m:          a total of \u001b[1;36m79\u001b[0m \u001b[35m/\u001b[0m \u001b[1;36m2365\u001b[0m \u001b[1m(\u001b[0m\u001b[1;36m3.3\u001b[0m %\u001b[1m)\u001b[0m ROIs had zero STD\n"
      ]
     },
     "metadata": {},
     "output_type": "display_data"
    },
    {
     "data": {
      "text/html": [
       "<pre style=\"white-space:pre;overflow-x:auto;line-height:normal;font-family:Menlo,'DejaVu Sans Mono',consolas,'Courier New',monospace\">sub-DKI02_ses-2_run-<span style=\"color: #008080; text-decoration-color: #008080; font-weight: bold\">2</span>:          a total of <span style=\"color: #008080; text-decoration-color: #008080; font-weight: bold\">213</span> <span style=\"color: #800080; text-decoration-color: #800080\">/</span> <span style=\"color: #008080; text-decoration-color: #008080; font-weight: bold\">2365</span> <span style=\"font-weight: bold\">(</span><span style=\"color: #008080; text-decoration-color: #008080; font-weight: bold\">9.0</span> %<span style=\"font-weight: bold\">)</span> ROIs had zero STD\n",
       "</pre>\n"
      ],
      "text/plain": [
       "sub-DKI02_ses-2_run-\u001b[1;36m2\u001b[0m:          a total of \u001b[1;36m213\u001b[0m \u001b[35m/\u001b[0m \u001b[1;36m2365\u001b[0m \u001b[1m(\u001b[0m\u001b[1;36m9.0\u001b[0m %\u001b[1m)\u001b[0m ROIs had zero STD\n"
      ]
     },
     "metadata": {},
     "output_type": "display_data"
    },
    {
     "data": {
      "text/html": [
       "<pre style=\"white-space:pre;overflow-x:auto;line-height:normal;font-family:Menlo,'DejaVu Sans Mono',consolas,'Courier New',monospace\">sub-DKI02_ses-2_run-<span style=\"color: #008080; text-decoration-color: #008080; font-weight: bold\">3</span>:          a total of <span style=\"color: #008080; text-decoration-color: #008080; font-weight: bold\">144</span> <span style=\"color: #800080; text-decoration-color: #800080\">/</span> <span style=\"color: #008080; text-decoration-color: #008080; font-weight: bold\">2365</span> <span style=\"font-weight: bold\">(</span><span style=\"color: #008080; text-decoration-color: #008080; font-weight: bold\">6.1</span> %<span style=\"font-weight: bold\">)</span> ROIs had zero STD\n",
       "</pre>\n"
      ],
      "text/plain": [
       "sub-DKI02_ses-2_run-\u001b[1;36m3\u001b[0m:          a total of \u001b[1;36m144\u001b[0m \u001b[35m/\u001b[0m \u001b[1;36m2365\u001b[0m \u001b[1m(\u001b[0m\u001b[1;36m6.1\u001b[0m %\u001b[1m)\u001b[0m ROIs had zero STD\n"
      ]
     },
     "metadata": {},
     "output_type": "display_data"
    },
    {
     "data": {
      "text/html": [
       "<pre style=\"white-space:pre;overflow-x:auto;line-height:normal;font-family:Menlo,'DejaVu Sans Mono',consolas,'Courier New',monospace\">sub-DKI03_ses-1_run-<span style=\"color: #008080; text-decoration-color: #008080; font-weight: bold\">1</span>:          a total of <span style=\"color: #008080; text-decoration-color: #008080; font-weight: bold\">208</span> <span style=\"color: #800080; text-decoration-color: #800080\">/</span> <span style=\"color: #008080; text-decoration-color: #008080; font-weight: bold\">2365</span> <span style=\"font-weight: bold\">(</span><span style=\"color: #008080; text-decoration-color: #008080; font-weight: bold\">8.8</span> %<span style=\"font-weight: bold\">)</span> ROIs had zero STD\n",
       "</pre>\n"
      ],
      "text/plain": [
       "sub-DKI03_ses-1_run-\u001b[1;36m1\u001b[0m:          a total of \u001b[1;36m208\u001b[0m \u001b[35m/\u001b[0m \u001b[1;36m2365\u001b[0m \u001b[1m(\u001b[0m\u001b[1;36m8.8\u001b[0m %\u001b[1m)\u001b[0m ROIs had zero STD\n"
      ]
     },
     "metadata": {},
     "output_type": "display_data"
    },
    {
     "data": {
      "text/html": [
       "<pre style=\"white-space:pre;overflow-x:auto;line-height:normal;font-family:Menlo,'DejaVu Sans Mono',consolas,'Courier New',monospace\">sub-DKI03_ses-1_run-<span style=\"color: #008080; text-decoration-color: #008080; font-weight: bold\">2</span>:          a total of <span style=\"color: #008080; text-decoration-color: #008080; font-weight: bold\">143</span> <span style=\"color: #800080; text-decoration-color: #800080\">/</span> <span style=\"color: #008080; text-decoration-color: #008080; font-weight: bold\">2365</span> <span style=\"font-weight: bold\">(</span><span style=\"color: #008080; text-decoration-color: #008080; font-weight: bold\">6.0</span> %<span style=\"font-weight: bold\">)</span> ROIs had zero STD\n",
       "</pre>\n"
      ],
      "text/plain": [
       "sub-DKI03_ses-1_run-\u001b[1;36m2\u001b[0m:          a total of \u001b[1;36m143\u001b[0m \u001b[35m/\u001b[0m \u001b[1;36m2365\u001b[0m \u001b[1m(\u001b[0m\u001b[1;36m6.0\u001b[0m %\u001b[1m)\u001b[0m ROIs had zero STD\n"
      ]
     },
     "metadata": {},
     "output_type": "display_data"
    },
    {
     "data": {
      "text/html": [
       "<pre style=\"white-space:pre;overflow-x:auto;line-height:normal;font-family:Menlo,'DejaVu Sans Mono',consolas,'Courier New',monospace\">sub-DKI03_ses-1_run-<span style=\"color: #008080; text-decoration-color: #008080; font-weight: bold\">3</span>:          a total of <span style=\"color: #008080; text-decoration-color: #008080; font-weight: bold\">206</span> <span style=\"color: #800080; text-decoration-color: #800080\">/</span> <span style=\"color: #008080; text-decoration-color: #008080; font-weight: bold\">2365</span> <span style=\"font-weight: bold\">(</span><span style=\"color: #008080; text-decoration-color: #008080; font-weight: bold\">8.7</span> %<span style=\"font-weight: bold\">)</span> ROIs had zero STD\n",
       "</pre>\n"
      ],
      "text/plain": [
       "sub-DKI03_ses-1_run-\u001b[1;36m3\u001b[0m:          a total of \u001b[1;36m206\u001b[0m \u001b[35m/\u001b[0m \u001b[1;36m2365\u001b[0m \u001b[1m(\u001b[0m\u001b[1;36m8.7\u001b[0m %\u001b[1m)\u001b[0m ROIs had zero STD\n"
      ]
     },
     "metadata": {},
     "output_type": "display_data"
    },
    {
     "data": {
      "text/html": [
       "<pre style=\"white-space:pre;overflow-x:auto;line-height:normal;font-family:Menlo,'DejaVu Sans Mono',consolas,'Courier New',monospace\">sub-DKI04_ses-1_run-<span style=\"color: #008080; text-decoration-color: #008080; font-weight: bold\">1</span>:          a total of <span style=\"color: #008080; text-decoration-color: #008080; font-weight: bold\">279</span> <span style=\"color: #800080; text-decoration-color: #800080\">/</span> <span style=\"color: #008080; text-decoration-color: #008080; font-weight: bold\">2365</span> <span style=\"font-weight: bold\">(</span><span style=\"color: #008080; text-decoration-color: #008080; font-weight: bold\">11.8</span> %<span style=\"font-weight: bold\">)</span> ROIs had zero STD\n",
       "</pre>\n"
      ],
      "text/plain": [
       "sub-DKI04_ses-1_run-\u001b[1;36m1\u001b[0m:          a total of \u001b[1;36m279\u001b[0m \u001b[35m/\u001b[0m \u001b[1;36m2365\u001b[0m \u001b[1m(\u001b[0m\u001b[1;36m11.8\u001b[0m %\u001b[1m)\u001b[0m ROIs had zero STD\n"
      ]
     },
     "metadata": {},
     "output_type": "display_data"
    },
    {
     "data": {
      "text/html": [
       "<pre style=\"white-space:pre;overflow-x:auto;line-height:normal;font-family:Menlo,'DejaVu Sans Mono',consolas,'Courier New',monospace\">sub-DKI04_ses-1_run-<span style=\"color: #008080; text-decoration-color: #008080; font-weight: bold\">2</span>:          a total of <span style=\"color: #008080; text-decoration-color: #008080; font-weight: bold\">275</span> <span style=\"color: #800080; text-decoration-color: #800080\">/</span> <span style=\"color: #008080; text-decoration-color: #008080; font-weight: bold\">2365</span> <span style=\"font-weight: bold\">(</span><span style=\"color: #008080; text-decoration-color: #008080; font-weight: bold\">11.6</span> %<span style=\"font-weight: bold\">)</span> ROIs had zero STD\n",
       "</pre>\n"
      ],
      "text/plain": [
       "sub-DKI04_ses-1_run-\u001b[1;36m2\u001b[0m:          a total of \u001b[1;36m275\u001b[0m \u001b[35m/\u001b[0m \u001b[1;36m2365\u001b[0m \u001b[1m(\u001b[0m\u001b[1;36m11.6\u001b[0m %\u001b[1m)\u001b[0m ROIs had zero STD\n"
      ]
     },
     "metadata": {},
     "output_type": "display_data"
    },
    {
     "data": {
      "text/html": [
       "<pre style=\"white-space:pre;overflow-x:auto;line-height:normal;font-family:Menlo,'DejaVu Sans Mono',consolas,'Courier New',monospace\">sub-DKI04_ses-1_run-<span style=\"color: #008080; text-decoration-color: #008080; font-weight: bold\">3</span>:          a total of <span style=\"color: #008080; text-decoration-color: #008080; font-weight: bold\">322</span> <span style=\"color: #800080; text-decoration-color: #800080\">/</span> <span style=\"color: #008080; text-decoration-color: #008080; font-weight: bold\">2365</span> <span style=\"font-weight: bold\">(</span><span style=\"color: #008080; text-decoration-color: #008080; font-weight: bold\">13.6</span> %<span style=\"font-weight: bold\">)</span> ROIs had zero STD\n",
       "</pre>\n"
      ],
      "text/plain": [
       "sub-DKI04_ses-1_run-\u001b[1;36m3\u001b[0m:          a total of \u001b[1;36m322\u001b[0m \u001b[35m/\u001b[0m \u001b[1;36m2365\u001b[0m \u001b[1m(\u001b[0m\u001b[1;36m13.6\u001b[0m %\u001b[1m)\u001b[0m ROIs had zero STD\n"
      ]
     },
     "metadata": {},
     "output_type": "display_data"
    },
    {
     "data": {
      "text/html": [
       "<pre style=\"white-space:pre;overflow-x:auto;line-height:normal;font-family:Menlo,'DejaVu Sans Mono',consolas,'Courier New',monospace\">sub-DKI04_ses-2_run-<span style=\"color: #008080; text-decoration-color: #008080; font-weight: bold\">1</span>:          a total of <span style=\"color: #008080; text-decoration-color: #008080; font-weight: bold\">212</span> <span style=\"color: #800080; text-decoration-color: #800080\">/</span> <span style=\"color: #008080; text-decoration-color: #008080; font-weight: bold\">2365</span> <span style=\"font-weight: bold\">(</span><span style=\"color: #008080; text-decoration-color: #008080; font-weight: bold\">9.0</span> %<span style=\"font-weight: bold\">)</span> ROIs had zero STD\n",
       "</pre>\n"
      ],
      "text/plain": [
       "sub-DKI04_ses-2_run-\u001b[1;36m1\u001b[0m:          a total of \u001b[1;36m212\u001b[0m \u001b[35m/\u001b[0m \u001b[1;36m2365\u001b[0m \u001b[1m(\u001b[0m\u001b[1;36m9.0\u001b[0m %\u001b[1m)\u001b[0m ROIs had zero STD\n"
      ]
     },
     "metadata": {},
     "output_type": "display_data"
    },
    {
     "data": {
      "text/html": [
       "<pre style=\"white-space:pre;overflow-x:auto;line-height:normal;font-family:Menlo,'DejaVu Sans Mono',consolas,'Courier New',monospace\">sub-DKI04_ses-2_run-<span style=\"color: #008080; text-decoration-color: #008080; font-weight: bold\">2</span>:          a total of <span style=\"color: #008080; text-decoration-color: #008080; font-weight: bold\">164</span> <span style=\"color: #800080; text-decoration-color: #800080\">/</span> <span style=\"color: #008080; text-decoration-color: #008080; font-weight: bold\">2365</span> <span style=\"font-weight: bold\">(</span><span style=\"color: #008080; text-decoration-color: #008080; font-weight: bold\">6.9</span> %<span style=\"font-weight: bold\">)</span> ROIs had zero STD\n",
       "</pre>\n"
      ],
      "text/plain": [
       "sub-DKI04_ses-2_run-\u001b[1;36m2\u001b[0m:          a total of \u001b[1;36m164\u001b[0m \u001b[35m/\u001b[0m \u001b[1;36m2365\u001b[0m \u001b[1m(\u001b[0m\u001b[1;36m6.9\u001b[0m %\u001b[1m)\u001b[0m ROIs had zero STD\n"
      ]
     },
     "metadata": {},
     "output_type": "display_data"
    },
    {
     "data": {
      "text/html": [
       "<pre style=\"white-space:pre;overflow-x:auto;line-height:normal;font-family:Menlo,'DejaVu Sans Mono',consolas,'Courier New',monospace\">sub-DKI04_ses-2_run-<span style=\"color: #008080; text-decoration-color: #008080; font-weight: bold\">3</span>:          a total of <span style=\"color: #008080; text-decoration-color: #008080; font-weight: bold\">214</span> <span style=\"color: #800080; text-decoration-color: #800080\">/</span> <span style=\"color: #008080; text-decoration-color: #008080; font-weight: bold\">2365</span> <span style=\"font-weight: bold\">(</span><span style=\"color: #008080; text-decoration-color: #008080; font-weight: bold\">9.0</span> %<span style=\"font-weight: bold\">)</span> ROIs had zero STD\n",
       "</pre>\n"
      ],
      "text/plain": [
       "sub-DKI04_ses-2_run-\u001b[1;36m3\u001b[0m:          a total of \u001b[1;36m214\u001b[0m \u001b[35m/\u001b[0m \u001b[1;36m2365\u001b[0m \u001b[1m(\u001b[0m\u001b[1;36m9.0\u001b[0m %\u001b[1m)\u001b[0m ROIs had zero STD\n"
      ]
     },
     "metadata": {},
     "output_type": "display_data"
    },
    {
     "data": {
      "text/html": [
       "<pre style=\"white-space:pre;overflow-x:auto;line-height:normal;font-family:Menlo,'DejaVu Sans Mono',consolas,'Courier New',monospace\">sub-DKI05_ses-1_run-<span style=\"color: #008080; text-decoration-color: #008080; font-weight: bold\">1</span>:          a total of <span style=\"color: #008080; text-decoration-color: #008080; font-weight: bold\">247</span> <span style=\"color: #800080; text-decoration-color: #800080\">/</span> <span style=\"color: #008080; text-decoration-color: #008080; font-weight: bold\">2365</span> <span style=\"font-weight: bold\">(</span><span style=\"color: #008080; text-decoration-color: #008080; font-weight: bold\">10.4</span> %<span style=\"font-weight: bold\">)</span> ROIs had zero STD\n",
       "</pre>\n"
      ],
      "text/plain": [
       "sub-DKI05_ses-1_run-\u001b[1;36m1\u001b[0m:          a total of \u001b[1;36m247\u001b[0m \u001b[35m/\u001b[0m \u001b[1;36m2365\u001b[0m \u001b[1m(\u001b[0m\u001b[1;36m10.4\u001b[0m %\u001b[1m)\u001b[0m ROIs had zero STD\n"
      ]
     },
     "metadata": {},
     "output_type": "display_data"
    },
    {
     "data": {
      "text/html": [
       "<pre style=\"white-space:pre;overflow-x:auto;line-height:normal;font-family:Menlo,'DejaVu Sans Mono',consolas,'Courier New',monospace\">sub-DKI05_ses-1_run-<span style=\"color: #008080; text-decoration-color: #008080; font-weight: bold\">2</span>:          a total of <span style=\"color: #008080; text-decoration-color: #008080; font-weight: bold\">207</span> <span style=\"color: #800080; text-decoration-color: #800080\">/</span> <span style=\"color: #008080; text-decoration-color: #008080; font-weight: bold\">2365</span> <span style=\"font-weight: bold\">(</span><span style=\"color: #008080; text-decoration-color: #008080; font-weight: bold\">8.8</span> %<span style=\"font-weight: bold\">)</span> ROIs had zero STD\n",
       "</pre>\n"
      ],
      "text/plain": [
       "sub-DKI05_ses-1_run-\u001b[1;36m2\u001b[0m:          a total of \u001b[1;36m207\u001b[0m \u001b[35m/\u001b[0m \u001b[1;36m2365\u001b[0m \u001b[1m(\u001b[0m\u001b[1;36m8.8\u001b[0m %\u001b[1m)\u001b[0m ROIs had zero STD\n"
      ]
     },
     "metadata": {},
     "output_type": "display_data"
    },
    {
     "data": {
      "text/html": [
       "<pre style=\"white-space:pre;overflow-x:auto;line-height:normal;font-family:Menlo,'DejaVu Sans Mono',consolas,'Courier New',monospace\">sub-DKI05_ses-1_run-<span style=\"color: #008080; text-decoration-color: #008080; font-weight: bold\">3</span>:          a total of <span style=\"color: #008080; text-decoration-color: #008080; font-weight: bold\">137</span> <span style=\"color: #800080; text-decoration-color: #800080\">/</span> <span style=\"color: #008080; text-decoration-color: #008080; font-weight: bold\">2365</span> <span style=\"font-weight: bold\">(</span><span style=\"color: #008080; text-decoration-color: #008080; font-weight: bold\">5.8</span> %<span style=\"font-weight: bold\">)</span> ROIs had zero STD\n",
       "</pre>\n"
      ],
      "text/plain": [
       "sub-DKI05_ses-1_run-\u001b[1;36m3\u001b[0m:          a total of \u001b[1;36m137\u001b[0m \u001b[35m/\u001b[0m \u001b[1;36m2365\u001b[0m \u001b[1m(\u001b[0m\u001b[1;36m5.8\u001b[0m %\u001b[1m)\u001b[0m ROIs had zero STD\n"
      ]
     },
     "metadata": {},
     "output_type": "display_data"
    },
    {
     "data": {
      "text/html": [
       "<pre style=\"white-space:pre;overflow-x:auto;line-height:normal;font-family:Menlo,'DejaVu Sans Mono',consolas,'Courier New',monospace\">sub-DKI06_ses-1_run-<span style=\"color: #008080; text-decoration-color: #008080; font-weight: bold\">1</span>:          a total of <span style=\"color: #008080; text-decoration-color: #008080; font-weight: bold\">198</span> <span style=\"color: #800080; text-decoration-color: #800080\">/</span> <span style=\"color: #008080; text-decoration-color: #008080; font-weight: bold\">2365</span> <span style=\"font-weight: bold\">(</span><span style=\"color: #008080; text-decoration-color: #008080; font-weight: bold\">8.4</span> %<span style=\"font-weight: bold\">)</span> ROIs had zero STD\n",
       "</pre>\n"
      ],
      "text/plain": [
       "sub-DKI06_ses-1_run-\u001b[1;36m1\u001b[0m:          a total of \u001b[1;36m198\u001b[0m \u001b[35m/\u001b[0m \u001b[1;36m2365\u001b[0m \u001b[1m(\u001b[0m\u001b[1;36m8.4\u001b[0m %\u001b[1m)\u001b[0m ROIs had zero STD\n"
      ]
     },
     "metadata": {},
     "output_type": "display_data"
    },
    {
     "data": {
      "text/html": [
       "<pre style=\"white-space:pre;overflow-x:auto;line-height:normal;font-family:Menlo,'DejaVu Sans Mono',consolas,'Courier New',monospace\">sub-DKI06_ses-1_run-<span style=\"color: #008080; text-decoration-color: #008080; font-weight: bold\">2</span>:          a total of <span style=\"color: #008080; text-decoration-color: #008080; font-weight: bold\">203</span> <span style=\"color: #800080; text-decoration-color: #800080\">/</span> <span style=\"color: #008080; text-decoration-color: #008080; font-weight: bold\">2365</span> <span style=\"font-weight: bold\">(</span><span style=\"color: #008080; text-decoration-color: #008080; font-weight: bold\">8.6</span> %<span style=\"font-weight: bold\">)</span> ROIs had zero STD\n",
       "</pre>\n"
      ],
      "text/plain": [
       "sub-DKI06_ses-1_run-\u001b[1;36m2\u001b[0m:          a total of \u001b[1;36m203\u001b[0m \u001b[35m/\u001b[0m \u001b[1;36m2365\u001b[0m \u001b[1m(\u001b[0m\u001b[1;36m8.6\u001b[0m %\u001b[1m)\u001b[0m ROIs had zero STD\n"
      ]
     },
     "metadata": {},
     "output_type": "display_data"
    },
    {
     "data": {
      "text/html": [
       "<pre style=\"white-space:pre;overflow-x:auto;line-height:normal;font-family:Menlo,'DejaVu Sans Mono',consolas,'Courier New',monospace\">sub-DKI06_ses-1_run-<span style=\"color: #008080; text-decoration-color: #008080; font-weight: bold\">3</span>:          a total of <span style=\"color: #008080; text-decoration-color: #008080; font-weight: bold\">178</span> <span style=\"color: #800080; text-decoration-color: #800080\">/</span> <span style=\"color: #008080; text-decoration-color: #008080; font-weight: bold\">2365</span> <span style=\"font-weight: bold\">(</span><span style=\"color: #008080; text-decoration-color: #008080; font-weight: bold\">7.5</span> %<span style=\"font-weight: bold\">)</span> ROIs had zero STD\n",
       "</pre>\n"
      ],
      "text/plain": [
       "sub-DKI06_ses-1_run-\u001b[1;36m3\u001b[0m:          a total of \u001b[1;36m178\u001b[0m \u001b[35m/\u001b[0m \u001b[1;36m2365\u001b[0m \u001b[1m(\u001b[0m\u001b[1;36m7.5\u001b[0m %\u001b[1m)\u001b[0m ROIs had zero STD\n"
      ]
     },
     "metadata": {},
     "output_type": "display_data"
    },
    {
     "data": {
      "text/html": [
       "<pre style=\"white-space:pre;overflow-x:auto;line-height:normal;font-family:Menlo,'DejaVu Sans Mono',consolas,'Courier New',monospace\">sub-DKI06_ses-2_run-<span style=\"color: #008080; text-decoration-color: #008080; font-weight: bold\">1</span>:          a total of <span style=\"color: #008080; text-decoration-color: #008080; font-weight: bold\">203</span> <span style=\"color: #800080; text-decoration-color: #800080\">/</span> <span style=\"color: #008080; text-decoration-color: #008080; font-weight: bold\">2365</span> <span style=\"font-weight: bold\">(</span><span style=\"color: #008080; text-decoration-color: #008080; font-weight: bold\">8.6</span> %<span style=\"font-weight: bold\">)</span> ROIs had zero STD\n",
       "</pre>\n"
      ],
      "text/plain": [
       "sub-DKI06_ses-2_run-\u001b[1;36m1\u001b[0m:          a total of \u001b[1;36m203\u001b[0m \u001b[35m/\u001b[0m \u001b[1;36m2365\u001b[0m \u001b[1m(\u001b[0m\u001b[1;36m8.6\u001b[0m %\u001b[1m)\u001b[0m ROIs had zero STD\n"
      ]
     },
     "metadata": {},
     "output_type": "display_data"
    },
    {
     "data": {
      "text/html": [
       "<pre style=\"white-space:pre;overflow-x:auto;line-height:normal;font-family:Menlo,'DejaVu Sans Mono',consolas,'Courier New',monospace\">sub-DKI06_ses-2_run-<span style=\"color: #008080; text-decoration-color: #008080; font-weight: bold\">2</span>:          a total of <span style=\"color: #008080; text-decoration-color: #008080; font-weight: bold\">201</span> <span style=\"color: #800080; text-decoration-color: #800080\">/</span> <span style=\"color: #008080; text-decoration-color: #008080; font-weight: bold\">2365</span> <span style=\"font-weight: bold\">(</span><span style=\"color: #008080; text-decoration-color: #008080; font-weight: bold\">8.5</span> %<span style=\"font-weight: bold\">)</span> ROIs had zero STD\n",
       "</pre>\n"
      ],
      "text/plain": [
       "sub-DKI06_ses-2_run-\u001b[1;36m2\u001b[0m:          a total of \u001b[1;36m201\u001b[0m \u001b[35m/\u001b[0m \u001b[1;36m2365\u001b[0m \u001b[1m(\u001b[0m\u001b[1;36m8.5\u001b[0m %\u001b[1m)\u001b[0m ROIs had zero STD\n"
      ]
     },
     "metadata": {},
     "output_type": "display_data"
    },
    {
     "data": {
      "text/html": [
       "<pre style=\"white-space:pre;overflow-x:auto;line-height:normal;font-family:Menlo,'DejaVu Sans Mono',consolas,'Courier New',monospace\">sub-DKI06_ses-2_run-<span style=\"color: #008080; text-decoration-color: #008080; font-weight: bold\">3</span>:          a total of <span style=\"color: #008080; text-decoration-color: #008080; font-weight: bold\">202</span> <span style=\"color: #800080; text-decoration-color: #800080\">/</span> <span style=\"color: #008080; text-decoration-color: #008080; font-weight: bold\">2365</span> <span style=\"font-weight: bold\">(</span><span style=\"color: #008080; text-decoration-color: #008080; font-weight: bold\">8.5</span> %<span style=\"font-weight: bold\">)</span> ROIs had zero STD\n",
       "</pre>\n"
      ],
      "text/plain": [
       "sub-DKI06_ses-2_run-\u001b[1;36m3\u001b[0m:          a total of \u001b[1;36m202\u001b[0m \u001b[35m/\u001b[0m \u001b[1;36m2365\u001b[0m \u001b[1m(\u001b[0m\u001b[1;36m8.5\u001b[0m %\u001b[1m)\u001b[0m ROIs had zero STD\n"
      ]
     },
     "metadata": {},
     "output_type": "display_data"
    },
    {
     "data": {
      "text/html": [
       "<pre style=\"white-space:pre;overflow-x:auto;line-height:normal;font-family:Menlo,'DejaVu Sans Mono',consolas,'Courier New',monospace\">sub-DKI07_ses-1_run-<span style=\"color: #008080; text-decoration-color: #008080; font-weight: bold\">1</span>:          a total of <span style=\"color: #008080; text-decoration-color: #008080; font-weight: bold\">210</span> <span style=\"color: #800080; text-decoration-color: #800080\">/</span> <span style=\"color: #008080; text-decoration-color: #008080; font-weight: bold\">2365</span> <span style=\"font-weight: bold\">(</span><span style=\"color: #008080; text-decoration-color: #008080; font-weight: bold\">8.9</span> %<span style=\"font-weight: bold\">)</span> ROIs had zero STD\n",
       "</pre>\n"
      ],
      "text/plain": [
       "sub-DKI07_ses-1_run-\u001b[1;36m1\u001b[0m:          a total of \u001b[1;36m210\u001b[0m \u001b[35m/\u001b[0m \u001b[1;36m2365\u001b[0m \u001b[1m(\u001b[0m\u001b[1;36m8.9\u001b[0m %\u001b[1m)\u001b[0m ROIs had zero STD\n"
      ]
     },
     "metadata": {},
     "output_type": "display_data"
    },
    {
     "data": {
      "text/html": [
       "<pre style=\"white-space:pre;overflow-x:auto;line-height:normal;font-family:Menlo,'DejaVu Sans Mono',consolas,'Courier New',monospace\">sub-DKI07_ses-1_run-<span style=\"color: #008080; text-decoration-color: #008080; font-weight: bold\">2</span>:          a total of <span style=\"color: #008080; text-decoration-color: #008080; font-weight: bold\">195</span> <span style=\"color: #800080; text-decoration-color: #800080\">/</span> <span style=\"color: #008080; text-decoration-color: #008080; font-weight: bold\">2365</span> <span style=\"font-weight: bold\">(</span><span style=\"color: #008080; text-decoration-color: #008080; font-weight: bold\">8.2</span> %<span style=\"font-weight: bold\">)</span> ROIs had zero STD\n",
       "</pre>\n"
      ],
      "text/plain": [
       "sub-DKI07_ses-1_run-\u001b[1;36m2\u001b[0m:          a total of \u001b[1;36m195\u001b[0m \u001b[35m/\u001b[0m \u001b[1;36m2365\u001b[0m \u001b[1m(\u001b[0m\u001b[1;36m8.2\u001b[0m %\u001b[1m)\u001b[0m ROIs had zero STD\n"
      ]
     },
     "metadata": {},
     "output_type": "display_data"
    },
    {
     "data": {
      "text/html": [
       "<pre style=\"white-space:pre;overflow-x:auto;line-height:normal;font-family:Menlo,'DejaVu Sans Mono',consolas,'Courier New',monospace\">sub-DKI07_ses-1_run-<span style=\"color: #008080; text-decoration-color: #008080; font-weight: bold\">3</span>:          a total of <span style=\"color: #008080; text-decoration-color: #008080; font-weight: bold\">197</span> <span style=\"color: #800080; text-decoration-color: #800080\">/</span> <span style=\"color: #008080; text-decoration-color: #008080; font-weight: bold\">2365</span> <span style=\"font-weight: bold\">(</span><span style=\"color: #008080; text-decoration-color: #008080; font-weight: bold\">8.3</span> %<span style=\"font-weight: bold\">)</span> ROIs had zero STD\n",
       "</pre>\n"
      ],
      "text/plain": [
       "sub-DKI07_ses-1_run-\u001b[1;36m3\u001b[0m:          a total of \u001b[1;36m197\u001b[0m \u001b[35m/\u001b[0m \u001b[1;36m2365\u001b[0m \u001b[1m(\u001b[0m\u001b[1;36m8.3\u001b[0m %\u001b[1m)\u001b[0m ROIs had zero STD\n"
      ]
     },
     "metadata": {},
     "output_type": "display_data"
    },
    {
     "data": {
      "text/html": [
       "<pre style=\"white-space:pre;overflow-x:auto;line-height:normal;font-family:Menlo,'DejaVu Sans Mono',consolas,'Courier New',monospace\">sub-DKI07_ses-2_run-<span style=\"color: #008080; text-decoration-color: #008080; font-weight: bold\">1</span>:          a total of <span style=\"color: #008080; text-decoration-color: #008080; font-weight: bold\">175</span> <span style=\"color: #800080; text-decoration-color: #800080\">/</span> <span style=\"color: #008080; text-decoration-color: #008080; font-weight: bold\">2365</span> <span style=\"font-weight: bold\">(</span><span style=\"color: #008080; text-decoration-color: #008080; font-weight: bold\">7.4</span> %<span style=\"font-weight: bold\">)</span> ROIs had zero STD\n",
       "</pre>\n"
      ],
      "text/plain": [
       "sub-DKI07_ses-2_run-\u001b[1;36m1\u001b[0m:          a total of \u001b[1;36m175\u001b[0m \u001b[35m/\u001b[0m \u001b[1;36m2365\u001b[0m \u001b[1m(\u001b[0m\u001b[1;36m7.4\u001b[0m %\u001b[1m)\u001b[0m ROIs had zero STD\n"
      ]
     },
     "metadata": {},
     "output_type": "display_data"
    },
    {
     "data": {
      "text/html": [
       "<pre style=\"white-space:pre;overflow-x:auto;line-height:normal;font-family:Menlo,'DejaVu Sans Mono',consolas,'Courier New',monospace\">sub-DKI07_ses-2_run-<span style=\"color: #008080; text-decoration-color: #008080; font-weight: bold\">2</span>:          a total of <span style=\"color: #008080; text-decoration-color: #008080; font-weight: bold\">222</span> <span style=\"color: #800080; text-decoration-color: #800080\">/</span> <span style=\"color: #008080; text-decoration-color: #008080; font-weight: bold\">2365</span> <span style=\"font-weight: bold\">(</span><span style=\"color: #008080; text-decoration-color: #008080; font-weight: bold\">9.4</span> %<span style=\"font-weight: bold\">)</span> ROIs had zero STD\n",
       "</pre>\n"
      ],
      "text/plain": [
       "sub-DKI07_ses-2_run-\u001b[1;36m2\u001b[0m:          a total of \u001b[1;36m222\u001b[0m \u001b[35m/\u001b[0m \u001b[1;36m2365\u001b[0m \u001b[1m(\u001b[0m\u001b[1;36m9.4\u001b[0m %\u001b[1m)\u001b[0m ROIs had zero STD\n"
      ]
     },
     "metadata": {},
     "output_type": "display_data"
    },
    {
     "data": {
      "text/html": [
       "<pre style=\"white-space:pre;overflow-x:auto;line-height:normal;font-family:Menlo,'DejaVu Sans Mono',consolas,'Courier New',monospace\">sub-DKI07_ses-2_run-<span style=\"color: #008080; text-decoration-color: #008080; font-weight: bold\">3</span>:          a total of <span style=\"color: #008080; text-decoration-color: #008080; font-weight: bold\">185</span> <span style=\"color: #800080; text-decoration-color: #800080\">/</span> <span style=\"color: #008080; text-decoration-color: #008080; font-weight: bold\">2365</span> <span style=\"font-weight: bold\">(</span><span style=\"color: #008080; text-decoration-color: #008080; font-weight: bold\">7.8</span> %<span style=\"font-weight: bold\">)</span> ROIs had zero STD\n",
       "</pre>\n"
      ],
      "text/plain": [
       "sub-DKI07_ses-2_run-\u001b[1;36m3\u001b[0m:          a total of \u001b[1;36m185\u001b[0m \u001b[35m/\u001b[0m \u001b[1;36m2365\u001b[0m \u001b[1m(\u001b[0m\u001b[1;36m7.8\u001b[0m %\u001b[1m)\u001b[0m ROIs had zero STD\n"
      ]
     },
     "metadata": {},
     "output_type": "display_data"
    },
    {
     "data": {
      "text/html": [
       "<pre style=\"white-space:pre;overflow-x:auto;line-height:normal;font-family:Menlo,'DejaVu Sans Mono',consolas,'Courier New',monospace\">sub-DKI08_ses-1_run-<span style=\"color: #008080; text-decoration-color: #008080; font-weight: bold\">1</span>:          a total of <span style=\"color: #008080; text-decoration-color: #008080; font-weight: bold\">157</span> <span style=\"color: #800080; text-decoration-color: #800080\">/</span> <span style=\"color: #008080; text-decoration-color: #008080; font-weight: bold\">2365</span> <span style=\"font-weight: bold\">(</span><span style=\"color: #008080; text-decoration-color: #008080; font-weight: bold\">6.6</span> %<span style=\"font-weight: bold\">)</span> ROIs had zero STD\n",
       "</pre>\n"
      ],
      "text/plain": [
       "sub-DKI08_ses-1_run-\u001b[1;36m1\u001b[0m:          a total of \u001b[1;36m157\u001b[0m \u001b[35m/\u001b[0m \u001b[1;36m2365\u001b[0m \u001b[1m(\u001b[0m\u001b[1;36m6.6\u001b[0m %\u001b[1m)\u001b[0m ROIs had zero STD\n"
      ]
     },
     "metadata": {},
     "output_type": "display_data"
    },
    {
     "data": {
      "text/html": [
       "<pre style=\"white-space:pre;overflow-x:auto;line-height:normal;font-family:Menlo,'DejaVu Sans Mono',consolas,'Courier New',monospace\">sub-DKI08_ses-1_run-<span style=\"color: #008080; text-decoration-color: #008080; font-weight: bold\">2</span>:          a total of <span style=\"color: #008080; text-decoration-color: #008080; font-weight: bold\">193</span> <span style=\"color: #800080; text-decoration-color: #800080\">/</span> <span style=\"color: #008080; text-decoration-color: #008080; font-weight: bold\">2365</span> <span style=\"font-weight: bold\">(</span><span style=\"color: #008080; text-decoration-color: #008080; font-weight: bold\">8.2</span> %<span style=\"font-weight: bold\">)</span> ROIs had zero STD\n",
       "</pre>\n"
      ],
      "text/plain": [
       "sub-DKI08_ses-1_run-\u001b[1;36m2\u001b[0m:          a total of \u001b[1;36m193\u001b[0m \u001b[35m/\u001b[0m \u001b[1;36m2365\u001b[0m \u001b[1m(\u001b[0m\u001b[1;36m8.2\u001b[0m %\u001b[1m)\u001b[0m ROIs had zero STD\n"
      ]
     },
     "metadata": {},
     "output_type": "display_data"
    },
    {
     "data": {
      "text/html": [
       "<pre style=\"white-space:pre;overflow-x:auto;line-height:normal;font-family:Menlo,'DejaVu Sans Mono',consolas,'Courier New',monospace\">sub-DKI08_ses-1_run-<span style=\"color: #008080; text-decoration-color: #008080; font-weight: bold\">3</span>:          a total of <span style=\"color: #008080; text-decoration-color: #008080; font-weight: bold\">195</span> <span style=\"color: #800080; text-decoration-color: #800080\">/</span> <span style=\"color: #008080; text-decoration-color: #008080; font-weight: bold\">2365</span> <span style=\"font-weight: bold\">(</span><span style=\"color: #008080; text-decoration-color: #008080; font-weight: bold\">8.2</span> %<span style=\"font-weight: bold\">)</span> ROIs had zero STD\n",
       "</pre>\n"
      ],
      "text/plain": [
       "sub-DKI08_ses-1_run-\u001b[1;36m3\u001b[0m:          a total of \u001b[1;36m195\u001b[0m \u001b[35m/\u001b[0m \u001b[1;36m2365\u001b[0m \u001b[1m(\u001b[0m\u001b[1;36m8.2\u001b[0m %\u001b[1m)\u001b[0m ROIs had zero STD\n"
      ]
     },
     "metadata": {},
     "output_type": "display_data"
    },
    {
     "data": {
      "text/html": [
       "<pre style=\"white-space:pre;overflow-x:auto;line-height:normal;font-family:Menlo,'DejaVu Sans Mono',consolas,'Courier New',monospace\">sub-DKI09_ses-1_run-<span style=\"color: #008080; text-decoration-color: #008080; font-weight: bold\">1</span>:          a total of <span style=\"color: #008080; text-decoration-color: #008080; font-weight: bold\">152</span> <span style=\"color: #800080; text-decoration-color: #800080\">/</span> <span style=\"color: #008080; text-decoration-color: #008080; font-weight: bold\">2365</span> <span style=\"font-weight: bold\">(</span><span style=\"color: #008080; text-decoration-color: #008080; font-weight: bold\">6.4</span> %<span style=\"font-weight: bold\">)</span> ROIs had zero STD\n",
       "</pre>\n"
      ],
      "text/plain": [
       "sub-DKI09_ses-1_run-\u001b[1;36m1\u001b[0m:          a total of \u001b[1;36m152\u001b[0m \u001b[35m/\u001b[0m \u001b[1;36m2365\u001b[0m \u001b[1m(\u001b[0m\u001b[1;36m6.4\u001b[0m %\u001b[1m)\u001b[0m ROIs had zero STD\n"
      ]
     },
     "metadata": {},
     "output_type": "display_data"
    },
    {
     "data": {
      "text/html": [
       "<pre style=\"white-space:pre;overflow-x:auto;line-height:normal;font-family:Menlo,'DejaVu Sans Mono',consolas,'Courier New',monospace\">sub-DKI09_ses-1_run-<span style=\"color: #008080; text-decoration-color: #008080; font-weight: bold\">2</span>:          a total of <span style=\"color: #008080; text-decoration-color: #008080; font-weight: bold\">136</span> <span style=\"color: #800080; text-decoration-color: #800080\">/</span> <span style=\"color: #008080; text-decoration-color: #008080; font-weight: bold\">2365</span> <span style=\"font-weight: bold\">(</span><span style=\"color: #008080; text-decoration-color: #008080; font-weight: bold\">5.8</span> %<span style=\"font-weight: bold\">)</span> ROIs had zero STD\n",
       "</pre>\n"
      ],
      "text/plain": [
       "sub-DKI09_ses-1_run-\u001b[1;36m2\u001b[0m:          a total of \u001b[1;36m136\u001b[0m \u001b[35m/\u001b[0m \u001b[1;36m2365\u001b[0m \u001b[1m(\u001b[0m\u001b[1;36m5.8\u001b[0m %\u001b[1m)\u001b[0m ROIs had zero STD\n"
      ]
     },
     "metadata": {},
     "output_type": "display_data"
    },
    {
     "data": {
      "text/html": [
       "<pre style=\"white-space:pre;overflow-x:auto;line-height:normal;font-family:Menlo,'DejaVu Sans Mono',consolas,'Courier New',monospace\">sub-DKI09_ses-1_run-<span style=\"color: #008080; text-decoration-color: #008080; font-weight: bold\">3</span>:          a total of <span style=\"color: #008080; text-decoration-color: #008080; font-weight: bold\">157</span> <span style=\"color: #800080; text-decoration-color: #800080\">/</span> <span style=\"color: #008080; text-decoration-color: #008080; font-weight: bold\">2365</span> <span style=\"font-weight: bold\">(</span><span style=\"color: #008080; text-decoration-color: #008080; font-weight: bold\">6.6</span> %<span style=\"font-weight: bold\">)</span> ROIs had zero STD\n",
       "</pre>\n"
      ],
      "text/plain": [
       "sub-DKI09_ses-1_run-\u001b[1;36m3\u001b[0m:          a total of \u001b[1;36m157\u001b[0m \u001b[35m/\u001b[0m \u001b[1;36m2365\u001b[0m \u001b[1m(\u001b[0m\u001b[1;36m6.6\u001b[0m %\u001b[1m)\u001b[0m ROIs had zero STD\n"
      ]
     },
     "metadata": {},
     "output_type": "display_data"
    },
    {
     "data": {
      "text/html": [
       "<pre style=\"white-space:pre;overflow-x:auto;line-height:normal;font-family:Menlo,'DejaVu Sans Mono',consolas,'Courier New',monospace\">sub-DKI09_ses-2_run-<span style=\"color: #008080; text-decoration-color: #008080; font-weight: bold\">1</span>:          a total of <span style=\"color: #008080; text-decoration-color: #008080; font-weight: bold\">116</span> <span style=\"color: #800080; text-decoration-color: #800080\">/</span> <span style=\"color: #008080; text-decoration-color: #008080; font-weight: bold\">2365</span> <span style=\"font-weight: bold\">(</span><span style=\"color: #008080; text-decoration-color: #008080; font-weight: bold\">4.9</span> %<span style=\"font-weight: bold\">)</span> ROIs had zero STD\n",
       "</pre>\n"
      ],
      "text/plain": [
       "sub-DKI09_ses-2_run-\u001b[1;36m1\u001b[0m:          a total of \u001b[1;36m116\u001b[0m \u001b[35m/\u001b[0m \u001b[1;36m2365\u001b[0m \u001b[1m(\u001b[0m\u001b[1;36m4.9\u001b[0m %\u001b[1m)\u001b[0m ROIs had zero STD\n"
      ]
     },
     "metadata": {},
     "output_type": "display_data"
    },
    {
     "data": {
      "text/html": [
       "<pre style=\"white-space:pre;overflow-x:auto;line-height:normal;font-family:Menlo,'DejaVu Sans Mono',consolas,'Courier New',monospace\">sub-DKI09_ses-2_run-<span style=\"color: #008080; text-decoration-color: #008080; font-weight: bold\">2</span>:          a total of <span style=\"color: #008080; text-decoration-color: #008080; font-weight: bold\">124</span> <span style=\"color: #800080; text-decoration-color: #800080\">/</span> <span style=\"color: #008080; text-decoration-color: #008080; font-weight: bold\">2365</span> <span style=\"font-weight: bold\">(</span><span style=\"color: #008080; text-decoration-color: #008080; font-weight: bold\">5.2</span> %<span style=\"font-weight: bold\">)</span> ROIs had zero STD\n",
       "</pre>\n"
      ],
      "text/plain": [
       "sub-DKI09_ses-2_run-\u001b[1;36m2\u001b[0m:          a total of \u001b[1;36m124\u001b[0m \u001b[35m/\u001b[0m \u001b[1;36m2365\u001b[0m \u001b[1m(\u001b[0m\u001b[1;36m5.2\u001b[0m %\u001b[1m)\u001b[0m ROIs had zero STD\n"
      ]
     },
     "metadata": {},
     "output_type": "display_data"
    },
    {
     "data": {
      "text/html": [
       "<pre style=\"white-space:pre;overflow-x:auto;line-height:normal;font-family:Menlo,'DejaVu Sans Mono',consolas,'Courier New',monospace\">sub-DKI09_ses-2_run-<span style=\"color: #008080; text-decoration-color: #008080; font-weight: bold\">3</span>:          a total of <span style=\"color: #008080; text-decoration-color: #008080; font-weight: bold\">176</span> <span style=\"color: #800080; text-decoration-color: #800080\">/</span> <span style=\"color: #008080; text-decoration-color: #008080; font-weight: bold\">2365</span> <span style=\"font-weight: bold\">(</span><span style=\"color: #008080; text-decoration-color: #008080; font-weight: bold\">7.4</span> %<span style=\"font-weight: bold\">)</span> ROIs had zero STD\n",
       "</pre>\n"
      ],
      "text/plain": [
       "sub-DKI09_ses-2_run-\u001b[1;36m3\u001b[0m:          a total of \u001b[1;36m176\u001b[0m \u001b[35m/\u001b[0m \u001b[1;36m2365\u001b[0m \u001b[1m(\u001b[0m\u001b[1;36m7.4\u001b[0m %\u001b[1m)\u001b[0m ROIs had zero STD\n"
      ]
     },
     "metadata": {},
     "output_type": "display_data"
    },
    {
     "data": {
      "text/html": [
       "<pre style=\"white-space:pre;overflow-x:auto;line-height:normal;font-family:Menlo,'DejaVu Sans Mono',consolas,'Courier New',monospace\">sub-DKI09_ses-3_run-<span style=\"color: #008080; text-decoration-color: #008080; font-weight: bold\">1</span>:          a total of <span style=\"color: #008080; text-decoration-color: #008080; font-weight: bold\">256</span> <span style=\"color: #800080; text-decoration-color: #800080\">/</span> <span style=\"color: #008080; text-decoration-color: #008080; font-weight: bold\">2365</span> <span style=\"font-weight: bold\">(</span><span style=\"color: #008080; text-decoration-color: #008080; font-weight: bold\">10.8</span> %<span style=\"font-weight: bold\">)</span> ROIs had zero STD\n",
       "</pre>\n"
      ],
      "text/plain": [
       "sub-DKI09_ses-3_run-\u001b[1;36m1\u001b[0m:          a total of \u001b[1;36m256\u001b[0m \u001b[35m/\u001b[0m \u001b[1;36m2365\u001b[0m \u001b[1m(\u001b[0m\u001b[1;36m10.8\u001b[0m %\u001b[1m)\u001b[0m ROIs had zero STD\n"
      ]
     },
     "metadata": {},
     "output_type": "display_data"
    },
    {
     "data": {
      "text/html": [
       "<pre style=\"white-space:pre;overflow-x:auto;line-height:normal;font-family:Menlo,'DejaVu Sans Mono',consolas,'Courier New',monospace\">sub-DKI09_ses-3_run-<span style=\"color: #008080; text-decoration-color: #008080; font-weight: bold\">2</span>:          a total of <span style=\"color: #008080; text-decoration-color: #008080; font-weight: bold\">219</span> <span style=\"color: #800080; text-decoration-color: #800080\">/</span> <span style=\"color: #008080; text-decoration-color: #008080; font-weight: bold\">2365</span> <span style=\"font-weight: bold\">(</span><span style=\"color: #008080; text-decoration-color: #008080; font-weight: bold\">9.3</span> %<span style=\"font-weight: bold\">)</span> ROIs had zero STD\n",
       "</pre>\n"
      ],
      "text/plain": [
       "sub-DKI09_ses-3_run-\u001b[1;36m2\u001b[0m:          a total of \u001b[1;36m219\u001b[0m \u001b[35m/\u001b[0m \u001b[1;36m2365\u001b[0m \u001b[1m(\u001b[0m\u001b[1;36m9.3\u001b[0m %\u001b[1m)\u001b[0m ROIs had zero STD\n"
      ]
     },
     "metadata": {},
     "output_type": "display_data"
    },
    {
     "data": {
      "text/html": [
       "<pre style=\"white-space:pre;overflow-x:auto;line-height:normal;font-family:Menlo,'DejaVu Sans Mono',consolas,'Courier New',monospace\">sub-DKI09_ses-3_run-<span style=\"color: #008080; text-decoration-color: #008080; font-weight: bold\">3</span>:          a total of <span style=\"color: #008080; text-decoration-color: #008080; font-weight: bold\">190</span> <span style=\"color: #800080; text-decoration-color: #800080\">/</span> <span style=\"color: #008080; text-decoration-color: #008080; font-weight: bold\">2365</span> <span style=\"font-weight: bold\">(</span><span style=\"color: #008080; text-decoration-color: #008080; font-weight: bold\">8.0</span> %<span style=\"font-weight: bold\">)</span> ROIs had zero STD\n",
       "</pre>\n"
      ],
      "text/plain": [
       "sub-DKI09_ses-3_run-\u001b[1;36m3\u001b[0m:          a total of \u001b[1;36m190\u001b[0m \u001b[35m/\u001b[0m \u001b[1;36m2365\u001b[0m \u001b[1m(\u001b[0m\u001b[1;36m8.0\u001b[0m %\u001b[1m)\u001b[0m ROIs had zero STD\n"
      ]
     },
     "metadata": {},
     "output_type": "display_data"
    },
    {
     "data": {
      "text/html": [
       "<pre style=\"white-space:pre;overflow-x:auto;line-height:normal;font-family:Menlo,'DejaVu Sans Mono',consolas,'Courier New',monospace\">sub-DKI10_ses-1_run-<span style=\"color: #008080; text-decoration-color: #008080; font-weight: bold\">1</span>:          a total of <span style=\"color: #008080; text-decoration-color: #008080; font-weight: bold\">194</span> <span style=\"color: #800080; text-decoration-color: #800080\">/</span> <span style=\"color: #008080; text-decoration-color: #008080; font-weight: bold\">2365</span> <span style=\"font-weight: bold\">(</span><span style=\"color: #008080; text-decoration-color: #008080; font-weight: bold\">8.2</span> %<span style=\"font-weight: bold\">)</span> ROIs had zero STD\n",
       "</pre>\n"
      ],
      "text/plain": [
       "sub-DKI10_ses-1_run-\u001b[1;36m1\u001b[0m:          a total of \u001b[1;36m194\u001b[0m \u001b[35m/\u001b[0m \u001b[1;36m2365\u001b[0m \u001b[1m(\u001b[0m\u001b[1;36m8.2\u001b[0m %\u001b[1m)\u001b[0m ROIs had zero STD\n"
      ]
     },
     "metadata": {},
     "output_type": "display_data"
    },
    {
     "data": {
      "text/html": [
       "<pre style=\"white-space:pre;overflow-x:auto;line-height:normal;font-family:Menlo,'DejaVu Sans Mono',consolas,'Courier New',monospace\">sub-DKI10_ses-1_run-<span style=\"color: #008080; text-decoration-color: #008080; font-weight: bold\">2</span>:          a total of <span style=\"color: #008080; text-decoration-color: #008080; font-weight: bold\">164</span> <span style=\"color: #800080; text-decoration-color: #800080\">/</span> <span style=\"color: #008080; text-decoration-color: #008080; font-weight: bold\">2365</span> <span style=\"font-weight: bold\">(</span><span style=\"color: #008080; text-decoration-color: #008080; font-weight: bold\">6.9</span> %<span style=\"font-weight: bold\">)</span> ROIs had zero STD\n",
       "</pre>\n"
      ],
      "text/plain": [
       "sub-DKI10_ses-1_run-\u001b[1;36m2\u001b[0m:          a total of \u001b[1;36m164\u001b[0m \u001b[35m/\u001b[0m \u001b[1;36m2365\u001b[0m \u001b[1m(\u001b[0m\u001b[1;36m6.9\u001b[0m %\u001b[1m)\u001b[0m ROIs had zero STD\n"
      ]
     },
     "metadata": {},
     "output_type": "display_data"
    },
    {
     "data": {
      "text/html": [
       "<pre style=\"white-space:pre;overflow-x:auto;line-height:normal;font-family:Menlo,'DejaVu Sans Mono',consolas,'Courier New',monospace\">sub-DKI10_ses-1_run-<span style=\"color: #008080; text-decoration-color: #008080; font-weight: bold\">3</span>:          a total of <span style=\"color: #008080; text-decoration-color: #008080; font-weight: bold\">162</span> <span style=\"color: #800080; text-decoration-color: #800080\">/</span> <span style=\"color: #008080; text-decoration-color: #008080; font-weight: bold\">2365</span> <span style=\"font-weight: bold\">(</span><span style=\"color: #008080; text-decoration-color: #008080; font-weight: bold\">6.8</span> %<span style=\"font-weight: bold\">)</span> ROIs had zero STD\n",
       "</pre>\n"
      ],
      "text/plain": [
       "sub-DKI10_ses-1_run-\u001b[1;36m3\u001b[0m:          a total of \u001b[1;36m162\u001b[0m \u001b[35m/\u001b[0m \u001b[1;36m2365\u001b[0m \u001b[1m(\u001b[0m\u001b[1;36m6.8\u001b[0m %\u001b[1m)\u001b[0m ROIs had zero STD\n"
      ]
     },
     "metadata": {},
     "output_type": "display_data"
    },
    {
     "data": {
      "text/html": [
       "<pre style=\"white-space:pre;overflow-x:auto;line-height:normal;font-family:Menlo,'DejaVu Sans Mono',consolas,'Courier New',monospace\">sub-DKI10_ses-2_run-<span style=\"color: #008080; text-decoration-color: #008080; font-weight: bold\">1</span>:          a total of <span style=\"color: #008080; text-decoration-color: #008080; font-weight: bold\">161</span> <span style=\"color: #800080; text-decoration-color: #800080\">/</span> <span style=\"color: #008080; text-decoration-color: #008080; font-weight: bold\">2365</span> <span style=\"font-weight: bold\">(</span><span style=\"color: #008080; text-decoration-color: #008080; font-weight: bold\">6.8</span> %<span style=\"font-weight: bold\">)</span> ROIs had zero STD\n",
       "</pre>\n"
      ],
      "text/plain": [
       "sub-DKI10_ses-2_run-\u001b[1;36m1\u001b[0m:          a total of \u001b[1;36m161\u001b[0m \u001b[35m/\u001b[0m \u001b[1;36m2365\u001b[0m \u001b[1m(\u001b[0m\u001b[1;36m6.8\u001b[0m %\u001b[1m)\u001b[0m ROIs had zero STD\n"
      ]
     },
     "metadata": {},
     "output_type": "display_data"
    },
    {
     "data": {
      "text/html": [
       "<pre style=\"white-space:pre;overflow-x:auto;line-height:normal;font-family:Menlo,'DejaVu Sans Mono',consolas,'Courier New',monospace\">sub-DKI10_ses-2_run-<span style=\"color: #008080; text-decoration-color: #008080; font-weight: bold\">2</span>:          a total of <span style=\"color: #008080; text-decoration-color: #008080; font-weight: bold\">208</span> <span style=\"color: #800080; text-decoration-color: #800080\">/</span> <span style=\"color: #008080; text-decoration-color: #008080; font-weight: bold\">2365</span> <span style=\"font-weight: bold\">(</span><span style=\"color: #008080; text-decoration-color: #008080; font-weight: bold\">8.8</span> %<span style=\"font-weight: bold\">)</span> ROIs had zero STD\n",
       "</pre>\n"
      ],
      "text/plain": [
       "sub-DKI10_ses-2_run-\u001b[1;36m2\u001b[0m:          a total of \u001b[1;36m208\u001b[0m \u001b[35m/\u001b[0m \u001b[1;36m2365\u001b[0m \u001b[1m(\u001b[0m\u001b[1;36m8.8\u001b[0m %\u001b[1m)\u001b[0m ROIs had zero STD\n"
      ]
     },
     "metadata": {},
     "output_type": "display_data"
    },
    {
     "data": {
      "text/html": [
       "<pre style=\"white-space:pre;overflow-x:auto;line-height:normal;font-family:Menlo,'DejaVu Sans Mono',consolas,'Courier New',monospace\">sub-DKI10_ses-2_run-<span style=\"color: #008080; text-decoration-color: #008080; font-weight: bold\">3</span>:          a total of <span style=\"color: #008080; text-decoration-color: #008080; font-weight: bold\">143</span> <span style=\"color: #800080; text-decoration-color: #800080\">/</span> <span style=\"color: #008080; text-decoration-color: #008080; font-weight: bold\">2365</span> <span style=\"font-weight: bold\">(</span><span style=\"color: #008080; text-decoration-color: #008080; font-weight: bold\">6.0</span> %<span style=\"font-weight: bold\">)</span> ROIs had zero STD\n",
       "</pre>\n"
      ],
      "text/plain": [
       "sub-DKI10_ses-2_run-\u001b[1;36m3\u001b[0m:          a total of \u001b[1;36m143\u001b[0m \u001b[35m/\u001b[0m \u001b[1;36m2365\u001b[0m \u001b[1m(\u001b[0m\u001b[1;36m6.0\u001b[0m %\u001b[1m)\u001b[0m ROIs had zero STD\n"
      ]
     },
     "metadata": {},
     "output_type": "display_data"
    },
    {
     "data": {
      "text/html": [
       "<pre style=\"white-space:pre;overflow-x:auto;line-height:normal;font-family:Menlo,'DejaVu Sans Mono',consolas,'Courier New',monospace\">sub-DKI10_ses-3_run-<span style=\"color: #008080; text-decoration-color: #008080; font-weight: bold\">1</span>:          a total of <span style=\"color: #008080; text-decoration-color: #008080; font-weight: bold\">157</span> <span style=\"color: #800080; text-decoration-color: #800080\">/</span> <span style=\"color: #008080; text-decoration-color: #008080; font-weight: bold\">2365</span> <span style=\"font-weight: bold\">(</span><span style=\"color: #008080; text-decoration-color: #008080; font-weight: bold\">6.6</span> %<span style=\"font-weight: bold\">)</span> ROIs had zero STD\n",
       "</pre>\n"
      ],
      "text/plain": [
       "sub-DKI10_ses-3_run-\u001b[1;36m1\u001b[0m:          a total of \u001b[1;36m157\u001b[0m \u001b[35m/\u001b[0m \u001b[1;36m2365\u001b[0m \u001b[1m(\u001b[0m\u001b[1;36m6.6\u001b[0m %\u001b[1m)\u001b[0m ROIs had zero STD\n"
      ]
     },
     "metadata": {},
     "output_type": "display_data"
    },
    {
     "data": {
      "text/html": [
       "<pre style=\"white-space:pre;overflow-x:auto;line-height:normal;font-family:Menlo,'DejaVu Sans Mono',consolas,'Courier New',monospace\">sub-DKI10_ses-3_run-<span style=\"color: #008080; text-decoration-color: #008080; font-weight: bold\">2</span>:          a total of <span style=\"color: #008080; text-decoration-color: #008080; font-weight: bold\">263</span> <span style=\"color: #800080; text-decoration-color: #800080\">/</span> <span style=\"color: #008080; text-decoration-color: #008080; font-weight: bold\">2365</span> <span style=\"font-weight: bold\">(</span><span style=\"color: #008080; text-decoration-color: #008080; font-weight: bold\">11.1</span> %<span style=\"font-weight: bold\">)</span> ROIs had zero STD\n",
       "</pre>\n"
      ],
      "text/plain": [
       "sub-DKI10_ses-3_run-\u001b[1;36m2\u001b[0m:          a total of \u001b[1;36m263\u001b[0m \u001b[35m/\u001b[0m \u001b[1;36m2365\u001b[0m \u001b[1m(\u001b[0m\u001b[1;36m11.1\u001b[0m %\u001b[1m)\u001b[0m ROIs had zero STD\n"
      ]
     },
     "metadata": {},
     "output_type": "display_data"
    },
    {
     "data": {
      "text/html": [
       "<pre style=\"white-space:pre;overflow-x:auto;line-height:normal;font-family:Menlo,'DejaVu Sans Mono',consolas,'Courier New',monospace\">sub-DKI10_ses-3_run-<span style=\"color: #008080; text-decoration-color: #008080; font-weight: bold\">3</span>:          a total of <span style=\"color: #008080; text-decoration-color: #008080; font-weight: bold\">183</span> <span style=\"color: #800080; text-decoration-color: #800080\">/</span> <span style=\"color: #008080; text-decoration-color: #008080; font-weight: bold\">2365</span> <span style=\"font-weight: bold\">(</span><span style=\"color: #008080; text-decoration-color: #008080; font-weight: bold\">7.7</span> %<span style=\"font-weight: bold\">)</span> ROIs had zero STD\n",
       "</pre>\n"
      ],
      "text/plain": [
       "sub-DKI10_ses-3_run-\u001b[1;36m3\u001b[0m:          a total of \u001b[1;36m183\u001b[0m \u001b[35m/\u001b[0m \u001b[1;36m2365\u001b[0m \u001b[1m(\u001b[0m\u001b[1;36m7.7\u001b[0m %\u001b[1m)\u001b[0m ROIs had zero STD\n"
      ]
     },
     "metadata": {},
     "output_type": "display_data"
    },
    {
     "data": {
      "text/html": [
       "<pre style=\"white-space:pre;overflow-x:auto;line-height:normal;font-family:Menlo,'DejaVu Sans Mono',consolas,'Courier New',monospace\">sub-DKI11_ses-1_run-<span style=\"color: #008080; text-decoration-color: #008080; font-weight: bold\">1</span>:          a total of <span style=\"color: #008080; text-decoration-color: #008080; font-weight: bold\">248</span> <span style=\"color: #800080; text-decoration-color: #800080\">/</span> <span style=\"color: #008080; text-decoration-color: #008080; font-weight: bold\">2365</span> <span style=\"font-weight: bold\">(</span><span style=\"color: #008080; text-decoration-color: #008080; font-weight: bold\">10.5</span> %<span style=\"font-weight: bold\">)</span> ROIs had zero STD\n",
       "</pre>\n"
      ],
      "text/plain": [
       "sub-DKI11_ses-1_run-\u001b[1;36m1\u001b[0m:          a total of \u001b[1;36m248\u001b[0m \u001b[35m/\u001b[0m \u001b[1;36m2365\u001b[0m \u001b[1m(\u001b[0m\u001b[1;36m10.5\u001b[0m %\u001b[1m)\u001b[0m ROIs had zero STD\n"
      ]
     },
     "metadata": {},
     "output_type": "display_data"
    },
    {
     "data": {
      "text/html": [
       "<pre style=\"white-space:pre;overflow-x:auto;line-height:normal;font-family:Menlo,'DejaVu Sans Mono',consolas,'Courier New',monospace\">sub-DKI11_ses-1_run-<span style=\"color: #008080; text-decoration-color: #008080; font-weight: bold\">2</span>:          a total of <span style=\"color: #008080; text-decoration-color: #008080; font-weight: bold\">279</span> <span style=\"color: #800080; text-decoration-color: #800080\">/</span> <span style=\"color: #008080; text-decoration-color: #008080; font-weight: bold\">2365</span> <span style=\"font-weight: bold\">(</span><span style=\"color: #008080; text-decoration-color: #008080; font-weight: bold\">11.8</span> %<span style=\"font-weight: bold\">)</span> ROIs had zero STD\n",
       "</pre>\n"
      ],
      "text/plain": [
       "sub-DKI11_ses-1_run-\u001b[1;36m2\u001b[0m:          a total of \u001b[1;36m279\u001b[0m \u001b[35m/\u001b[0m \u001b[1;36m2365\u001b[0m \u001b[1m(\u001b[0m\u001b[1;36m11.8\u001b[0m %\u001b[1m)\u001b[0m ROIs had zero STD\n"
      ]
     },
     "metadata": {},
     "output_type": "display_data"
    },
    {
     "data": {
      "text/html": [
       "<pre style=\"white-space:pre;overflow-x:auto;line-height:normal;font-family:Menlo,'DejaVu Sans Mono',consolas,'Courier New',monospace\">sub-DKI11_ses-1_run-<span style=\"color: #008080; text-decoration-color: #008080; font-weight: bold\">3</span>:          a total of <span style=\"color: #008080; text-decoration-color: #008080; font-weight: bold\">276</span> <span style=\"color: #800080; text-decoration-color: #800080\">/</span> <span style=\"color: #008080; text-decoration-color: #008080; font-weight: bold\">2365</span> <span style=\"font-weight: bold\">(</span><span style=\"color: #008080; text-decoration-color: #008080; font-weight: bold\">11.7</span> %<span style=\"font-weight: bold\">)</span> ROIs had zero STD\n",
       "</pre>\n"
      ],
      "text/plain": [
       "sub-DKI11_ses-1_run-\u001b[1;36m3\u001b[0m:          a total of \u001b[1;36m276\u001b[0m \u001b[35m/\u001b[0m \u001b[1;36m2365\u001b[0m \u001b[1m(\u001b[0m\u001b[1;36m11.7\u001b[0m %\u001b[1m)\u001b[0m ROIs had zero STD\n"
      ]
     },
     "metadata": {},
     "output_type": "display_data"
    },
    {
     "data": {
      "text/html": [
       "<pre style=\"white-space:pre;overflow-x:auto;line-height:normal;font-family:Menlo,'DejaVu Sans Mono',consolas,'Courier New',monospace\">sub-DKI11_ses-2_run-<span style=\"color: #008080; text-decoration-color: #008080; font-weight: bold\">1</span>:          a total of <span style=\"color: #008080; text-decoration-color: #008080; font-weight: bold\">179</span> <span style=\"color: #800080; text-decoration-color: #800080\">/</span> <span style=\"color: #008080; text-decoration-color: #008080; font-weight: bold\">2365</span> <span style=\"font-weight: bold\">(</span><span style=\"color: #008080; text-decoration-color: #008080; font-weight: bold\">7.6</span> %<span style=\"font-weight: bold\">)</span> ROIs had zero STD\n",
       "</pre>\n"
      ],
      "text/plain": [
       "sub-DKI11_ses-2_run-\u001b[1;36m1\u001b[0m:          a total of \u001b[1;36m179\u001b[0m \u001b[35m/\u001b[0m \u001b[1;36m2365\u001b[0m \u001b[1m(\u001b[0m\u001b[1;36m7.6\u001b[0m %\u001b[1m)\u001b[0m ROIs had zero STD\n"
      ]
     },
     "metadata": {},
     "output_type": "display_data"
    },
    {
     "data": {
      "text/html": [
       "<pre style=\"white-space:pre;overflow-x:auto;line-height:normal;font-family:Menlo,'DejaVu Sans Mono',consolas,'Courier New',monospace\">sub-DKI11_ses-2_run-<span style=\"color: #008080; text-decoration-color: #008080; font-weight: bold\">2</span>:          a total of <span style=\"color: #008080; text-decoration-color: #008080; font-weight: bold\">158</span> <span style=\"color: #800080; text-decoration-color: #800080\">/</span> <span style=\"color: #008080; text-decoration-color: #008080; font-weight: bold\">2365</span> <span style=\"font-weight: bold\">(</span><span style=\"color: #008080; text-decoration-color: #008080; font-weight: bold\">6.7</span> %<span style=\"font-weight: bold\">)</span> ROIs had zero STD\n",
       "</pre>\n"
      ],
      "text/plain": [
       "sub-DKI11_ses-2_run-\u001b[1;36m2\u001b[0m:          a total of \u001b[1;36m158\u001b[0m \u001b[35m/\u001b[0m \u001b[1;36m2365\u001b[0m \u001b[1m(\u001b[0m\u001b[1;36m6.7\u001b[0m %\u001b[1m)\u001b[0m ROIs had zero STD\n"
      ]
     },
     "metadata": {},
     "output_type": "display_data"
    },
    {
     "data": {
      "text/html": [
       "<pre style=\"white-space:pre;overflow-x:auto;line-height:normal;font-family:Menlo,'DejaVu Sans Mono',consolas,'Courier New',monospace\">sub-DKI11_ses-2_run-<span style=\"color: #008080; text-decoration-color: #008080; font-weight: bold\">3</span>:          a total of <span style=\"color: #008080; text-decoration-color: #008080; font-weight: bold\">178</span> <span style=\"color: #800080; text-decoration-color: #800080\">/</span> <span style=\"color: #008080; text-decoration-color: #008080; font-weight: bold\">2365</span> <span style=\"font-weight: bold\">(</span><span style=\"color: #008080; text-decoration-color: #008080; font-weight: bold\">7.5</span> %<span style=\"font-weight: bold\">)</span> ROIs had zero STD\n",
       "</pre>\n"
      ],
      "text/plain": [
       "sub-DKI11_ses-2_run-\u001b[1;36m3\u001b[0m:          a total of \u001b[1;36m178\u001b[0m \u001b[35m/\u001b[0m \u001b[1;36m2365\u001b[0m \u001b[1m(\u001b[0m\u001b[1;36m7.5\u001b[0m %\u001b[1m)\u001b[0m ROIs had zero STD\n"
      ]
     },
     "metadata": {},
     "output_type": "display_data"
    },
    {
     "data": {
      "text/html": [
       "<pre style=\"white-space:pre;overflow-x:auto;line-height:normal;font-family:Menlo,'DejaVu Sans Mono',consolas,'Courier New',monospace\">sub-DKI11_ses-3_run-<span style=\"color: #008080; text-decoration-color: #008080; font-weight: bold\">1</span>:          a total of <span style=\"color: #008080; text-decoration-color: #008080; font-weight: bold\">241</span> <span style=\"color: #800080; text-decoration-color: #800080\">/</span> <span style=\"color: #008080; text-decoration-color: #008080; font-weight: bold\">2365</span> <span style=\"font-weight: bold\">(</span><span style=\"color: #008080; text-decoration-color: #008080; font-weight: bold\">10.2</span> %<span style=\"font-weight: bold\">)</span> ROIs had zero STD\n",
       "</pre>\n"
      ],
      "text/plain": [
       "sub-DKI11_ses-3_run-\u001b[1;36m1\u001b[0m:          a total of \u001b[1;36m241\u001b[0m \u001b[35m/\u001b[0m \u001b[1;36m2365\u001b[0m \u001b[1m(\u001b[0m\u001b[1;36m10.2\u001b[0m %\u001b[1m)\u001b[0m ROIs had zero STD\n"
      ]
     },
     "metadata": {},
     "output_type": "display_data"
    },
    {
     "data": {
      "text/html": [
       "<pre style=\"white-space:pre;overflow-x:auto;line-height:normal;font-family:Menlo,'DejaVu Sans Mono',consolas,'Courier New',monospace\">sub-DKI11_ses-3_run-<span style=\"color: #008080; text-decoration-color: #008080; font-weight: bold\">2</span>:          a total of <span style=\"color: #008080; text-decoration-color: #008080; font-weight: bold\">252</span> <span style=\"color: #800080; text-decoration-color: #800080\">/</span> <span style=\"color: #008080; text-decoration-color: #008080; font-weight: bold\">2365</span> <span style=\"font-weight: bold\">(</span><span style=\"color: #008080; text-decoration-color: #008080; font-weight: bold\">10.7</span> %<span style=\"font-weight: bold\">)</span> ROIs had zero STD\n",
       "</pre>\n"
      ],
      "text/plain": [
       "sub-DKI11_ses-3_run-\u001b[1;36m2\u001b[0m:          a total of \u001b[1;36m252\u001b[0m \u001b[35m/\u001b[0m \u001b[1;36m2365\u001b[0m \u001b[1m(\u001b[0m\u001b[1;36m10.7\u001b[0m %\u001b[1m)\u001b[0m ROIs had zero STD\n"
      ]
     },
     "metadata": {},
     "output_type": "display_data"
    },
    {
     "data": {
      "text/html": [
       "<pre style=\"white-space:pre;overflow-x:auto;line-height:normal;font-family:Menlo,'DejaVu Sans Mono',consolas,'Courier New',monospace\">sub-DKI11_ses-3_run-<span style=\"color: #008080; text-decoration-color: #008080; font-weight: bold\">3</span>:          a total of <span style=\"color: #008080; text-decoration-color: #008080; font-weight: bold\">210</span> <span style=\"color: #800080; text-decoration-color: #800080\">/</span> <span style=\"color: #008080; text-decoration-color: #008080; font-weight: bold\">2365</span> <span style=\"font-weight: bold\">(</span><span style=\"color: #008080; text-decoration-color: #008080; font-weight: bold\">8.9</span> %<span style=\"font-weight: bold\">)</span> ROIs had zero STD\n",
       "</pre>\n"
      ],
      "text/plain": [
       "sub-DKI11_ses-3_run-\u001b[1;36m3\u001b[0m:          a total of \u001b[1;36m210\u001b[0m \u001b[35m/\u001b[0m \u001b[1;36m2365\u001b[0m \u001b[1m(\u001b[0m\u001b[1;36m8.9\u001b[0m %\u001b[1m)\u001b[0m ROIs had zero STD\n"
      ]
     },
     "metadata": {},
     "output_type": "display_data"
    },
    {
     "data": {
      "text/html": [
       "<pre style=\"white-space:pre;overflow-x:auto;line-height:normal;font-family:Menlo,'DejaVu Sans Mono',consolas,'Courier New',monospace\">sub-DKI12_ses-1_run-<span style=\"color: #008080; text-decoration-color: #008080; font-weight: bold\">1</span>:          a total of <span style=\"color: #008080; text-decoration-color: #008080; font-weight: bold\">180</span> <span style=\"color: #800080; text-decoration-color: #800080\">/</span> <span style=\"color: #008080; text-decoration-color: #008080; font-weight: bold\">2365</span> <span style=\"font-weight: bold\">(</span><span style=\"color: #008080; text-decoration-color: #008080; font-weight: bold\">7.6</span> %<span style=\"font-weight: bold\">)</span> ROIs had zero STD\n",
       "</pre>\n"
      ],
      "text/plain": [
       "sub-DKI12_ses-1_run-\u001b[1;36m1\u001b[0m:          a total of \u001b[1;36m180\u001b[0m \u001b[35m/\u001b[0m \u001b[1;36m2365\u001b[0m \u001b[1m(\u001b[0m\u001b[1;36m7.6\u001b[0m %\u001b[1m)\u001b[0m ROIs had zero STD\n"
      ]
     },
     "metadata": {},
     "output_type": "display_data"
    },
    {
     "data": {
      "text/html": [
       "<pre style=\"white-space:pre;overflow-x:auto;line-height:normal;font-family:Menlo,'DejaVu Sans Mono',consolas,'Courier New',monospace\">sub-DKI12_ses-1_run-<span style=\"color: #008080; text-decoration-color: #008080; font-weight: bold\">2</span>:          a total of <span style=\"color: #008080; text-decoration-color: #008080; font-weight: bold\">236</span> <span style=\"color: #800080; text-decoration-color: #800080\">/</span> <span style=\"color: #008080; text-decoration-color: #008080; font-weight: bold\">2365</span> <span style=\"font-weight: bold\">(</span><span style=\"color: #008080; text-decoration-color: #008080; font-weight: bold\">10.0</span> %<span style=\"font-weight: bold\">)</span> ROIs had zero STD\n",
       "</pre>\n"
      ],
      "text/plain": [
       "sub-DKI12_ses-1_run-\u001b[1;36m2\u001b[0m:          a total of \u001b[1;36m236\u001b[0m \u001b[35m/\u001b[0m \u001b[1;36m2365\u001b[0m \u001b[1m(\u001b[0m\u001b[1;36m10.0\u001b[0m %\u001b[1m)\u001b[0m ROIs had zero STD\n"
      ]
     },
     "metadata": {},
     "output_type": "display_data"
    },
    {
     "data": {
      "text/html": [
       "<pre style=\"white-space:pre;overflow-x:auto;line-height:normal;font-family:Menlo,'DejaVu Sans Mono',consolas,'Courier New',monospace\">sub-DKI12_ses-1_run-<span style=\"color: #008080; text-decoration-color: #008080; font-weight: bold\">3</span>:          a total of <span style=\"color: #008080; text-decoration-color: #008080; font-weight: bold\">243</span> <span style=\"color: #800080; text-decoration-color: #800080\">/</span> <span style=\"color: #008080; text-decoration-color: #008080; font-weight: bold\">2365</span> <span style=\"font-weight: bold\">(</span><span style=\"color: #008080; text-decoration-color: #008080; font-weight: bold\">10.3</span> %<span style=\"font-weight: bold\">)</span> ROIs had zero STD\n",
       "</pre>\n"
      ],
      "text/plain": [
       "sub-DKI12_ses-1_run-\u001b[1;36m3\u001b[0m:          a total of \u001b[1;36m243\u001b[0m \u001b[35m/\u001b[0m \u001b[1;36m2365\u001b[0m \u001b[1m(\u001b[0m\u001b[1;36m10.3\u001b[0m %\u001b[1m)\u001b[0m ROIs had zero STD\n"
      ]
     },
     "metadata": {},
     "output_type": "display_data"
    },
    {
     "data": {
      "text/html": [
       "<pre style=\"white-space:pre;overflow-x:auto;line-height:normal;font-family:Menlo,'DejaVu Sans Mono',consolas,'Courier New',monospace\">sub-DKI12_ses-2_run-<span style=\"color: #008080; text-decoration-color: #008080; font-weight: bold\">1</span>:          a total of <span style=\"color: #008080; text-decoration-color: #008080; font-weight: bold\">104</span> <span style=\"color: #800080; text-decoration-color: #800080\">/</span> <span style=\"color: #008080; text-decoration-color: #008080; font-weight: bold\">2365</span> <span style=\"font-weight: bold\">(</span><span style=\"color: #008080; text-decoration-color: #008080; font-weight: bold\">4.4</span> %<span style=\"font-weight: bold\">)</span> ROIs had zero STD\n",
       "</pre>\n"
      ],
      "text/plain": [
       "sub-DKI12_ses-2_run-\u001b[1;36m1\u001b[0m:          a total of \u001b[1;36m104\u001b[0m \u001b[35m/\u001b[0m \u001b[1;36m2365\u001b[0m \u001b[1m(\u001b[0m\u001b[1;36m4.4\u001b[0m %\u001b[1m)\u001b[0m ROIs had zero STD\n"
      ]
     },
     "metadata": {},
     "output_type": "display_data"
    },
    {
     "data": {
      "text/html": [
       "<pre style=\"white-space:pre;overflow-x:auto;line-height:normal;font-family:Menlo,'DejaVu Sans Mono',consolas,'Courier New',monospace\">sub-DKI12_ses-2_run-<span style=\"color: #008080; text-decoration-color: #008080; font-weight: bold\">2</span>:          a total of <span style=\"color: #008080; text-decoration-color: #008080; font-weight: bold\">104</span> <span style=\"color: #800080; text-decoration-color: #800080\">/</span> <span style=\"color: #008080; text-decoration-color: #008080; font-weight: bold\">2365</span> <span style=\"font-weight: bold\">(</span><span style=\"color: #008080; text-decoration-color: #008080; font-weight: bold\">4.4</span> %<span style=\"font-weight: bold\">)</span> ROIs had zero STD\n",
       "</pre>\n"
      ],
      "text/plain": [
       "sub-DKI12_ses-2_run-\u001b[1;36m2\u001b[0m:          a total of \u001b[1;36m104\u001b[0m \u001b[35m/\u001b[0m \u001b[1;36m2365\u001b[0m \u001b[1m(\u001b[0m\u001b[1;36m4.4\u001b[0m %\u001b[1m)\u001b[0m ROIs had zero STD\n"
      ]
     },
     "metadata": {},
     "output_type": "display_data"
    },
    {
     "data": {
      "text/html": [
       "<pre style=\"white-space:pre;overflow-x:auto;line-height:normal;font-family:Menlo,'DejaVu Sans Mono',consolas,'Courier New',monospace\">sub-DKI12_ses-2_run-<span style=\"color: #008080; text-decoration-color: #008080; font-weight: bold\">3</span>:          a total of <span style=\"color: #008080; text-decoration-color: #008080; font-weight: bold\">203</span> <span style=\"color: #800080; text-decoration-color: #800080\">/</span> <span style=\"color: #008080; text-decoration-color: #008080; font-weight: bold\">2365</span> <span style=\"font-weight: bold\">(</span><span style=\"color: #008080; text-decoration-color: #008080; font-weight: bold\">8.6</span> %<span style=\"font-weight: bold\">)</span> ROIs had zero STD\n",
       "</pre>\n"
      ],
      "text/plain": [
       "sub-DKI12_ses-2_run-\u001b[1;36m3\u001b[0m:          a total of \u001b[1;36m203\u001b[0m \u001b[35m/\u001b[0m \u001b[1;36m2365\u001b[0m \u001b[1m(\u001b[0m\u001b[1;36m8.6\u001b[0m %\u001b[1m)\u001b[0m ROIs had zero STD\n"
      ]
     },
     "metadata": {},
     "output_type": "display_data"
    },
    {
     "data": {
      "text/html": [
       "<pre style=\"white-space:pre;overflow-x:auto;line-height:normal;font-family:Menlo,'DejaVu Sans Mono',consolas,'Courier New',monospace\">sub-DKI12_ses-3_run-<span style=\"color: #008080; text-decoration-color: #008080; font-weight: bold\">1</span>:          a total of <span style=\"color: #008080; text-decoration-color: #008080; font-weight: bold\">212</span> <span style=\"color: #800080; text-decoration-color: #800080\">/</span> <span style=\"color: #008080; text-decoration-color: #008080; font-weight: bold\">2365</span> <span style=\"font-weight: bold\">(</span><span style=\"color: #008080; text-decoration-color: #008080; font-weight: bold\">9.0</span> %<span style=\"font-weight: bold\">)</span> ROIs had zero STD\n",
       "</pre>\n"
      ],
      "text/plain": [
       "sub-DKI12_ses-3_run-\u001b[1;36m1\u001b[0m:          a total of \u001b[1;36m212\u001b[0m \u001b[35m/\u001b[0m \u001b[1;36m2365\u001b[0m \u001b[1m(\u001b[0m\u001b[1;36m9.0\u001b[0m %\u001b[1m)\u001b[0m ROIs had zero STD\n"
      ]
     },
     "metadata": {},
     "output_type": "display_data"
    },
    {
     "data": {
      "text/html": [
       "<pre style=\"white-space:pre;overflow-x:auto;line-height:normal;font-family:Menlo,'DejaVu Sans Mono',consolas,'Courier New',monospace\">sub-DKI12_ses-3_run-<span style=\"color: #008080; text-decoration-color: #008080; font-weight: bold\">2</span>:          a total of <span style=\"color: #008080; text-decoration-color: #008080; font-weight: bold\">189</span> <span style=\"color: #800080; text-decoration-color: #800080\">/</span> <span style=\"color: #008080; text-decoration-color: #008080; font-weight: bold\">2365</span> <span style=\"font-weight: bold\">(</span><span style=\"color: #008080; text-decoration-color: #008080; font-weight: bold\">8.0</span> %<span style=\"font-weight: bold\">)</span> ROIs had zero STD\n",
       "</pre>\n"
      ],
      "text/plain": [
       "sub-DKI12_ses-3_run-\u001b[1;36m2\u001b[0m:          a total of \u001b[1;36m189\u001b[0m \u001b[35m/\u001b[0m \u001b[1;36m2365\u001b[0m \u001b[1m(\u001b[0m\u001b[1;36m8.0\u001b[0m %\u001b[1m)\u001b[0m ROIs had zero STD\n"
      ]
     },
     "metadata": {},
     "output_type": "display_data"
    },
    {
     "data": {
      "text/html": [
       "<pre style=\"white-space:pre;overflow-x:auto;line-height:normal;font-family:Menlo,'DejaVu Sans Mono',consolas,'Courier New',monospace\">sub-DKI12_ses-3_run-<span style=\"color: #008080; text-decoration-color: #008080; font-weight: bold\">3</span>:          a total of <span style=\"color: #008080; text-decoration-color: #008080; font-weight: bold\">195</span> <span style=\"color: #800080; text-decoration-color: #800080\">/</span> <span style=\"color: #008080; text-decoration-color: #008080; font-weight: bold\">2365</span> <span style=\"font-weight: bold\">(</span><span style=\"color: #008080; text-decoration-color: #008080; font-weight: bold\">8.2</span> %<span style=\"font-weight: bold\">)</span> ROIs had zero STD\n",
       "</pre>\n"
      ],
      "text/plain": [
       "sub-DKI12_ses-3_run-\u001b[1;36m3\u001b[0m:          a total of \u001b[1;36m195\u001b[0m \u001b[35m/\u001b[0m \u001b[1;36m2365\u001b[0m \u001b[1m(\u001b[0m\u001b[1;36m8.2\u001b[0m %\u001b[1m)\u001b[0m ROIs had zero STD\n"
      ]
     },
     "metadata": {},
     "output_type": "display_data"
    },
    {
     "data": {
      "text/html": [
       "<pre style=\"white-space:pre;overflow-x:auto;line-height:normal;font-family:Menlo,'DejaVu Sans Mono',consolas,'Courier New',monospace\">sub-DKI13_ses-1_run-<span style=\"color: #008080; text-decoration-color: #008080; font-weight: bold\">1</span>:          a total of <span style=\"color: #008080; text-decoration-color: #008080; font-weight: bold\">221</span> <span style=\"color: #800080; text-decoration-color: #800080\">/</span> <span style=\"color: #008080; text-decoration-color: #008080; font-weight: bold\">2365</span> <span style=\"font-weight: bold\">(</span><span style=\"color: #008080; text-decoration-color: #008080; font-weight: bold\">9.3</span> %<span style=\"font-weight: bold\">)</span> ROIs had zero STD\n",
       "</pre>\n"
      ],
      "text/plain": [
       "sub-DKI13_ses-1_run-\u001b[1;36m1\u001b[0m:          a total of \u001b[1;36m221\u001b[0m \u001b[35m/\u001b[0m \u001b[1;36m2365\u001b[0m \u001b[1m(\u001b[0m\u001b[1;36m9.3\u001b[0m %\u001b[1m)\u001b[0m ROIs had zero STD\n"
      ]
     },
     "metadata": {},
     "output_type": "display_data"
    },
    {
     "data": {
      "text/html": [
       "<pre style=\"white-space:pre;overflow-x:auto;line-height:normal;font-family:Menlo,'DejaVu Sans Mono',consolas,'Courier New',monospace\">sub-DKI13_ses-1_run-<span style=\"color: #008080; text-decoration-color: #008080; font-weight: bold\">2</span>:          a total of <span style=\"color: #008080; text-decoration-color: #008080; font-weight: bold\">252</span> <span style=\"color: #800080; text-decoration-color: #800080\">/</span> <span style=\"color: #008080; text-decoration-color: #008080; font-weight: bold\">2365</span> <span style=\"font-weight: bold\">(</span><span style=\"color: #008080; text-decoration-color: #008080; font-weight: bold\">10.7</span> %<span style=\"font-weight: bold\">)</span> ROIs had zero STD\n",
       "</pre>\n"
      ],
      "text/plain": [
       "sub-DKI13_ses-1_run-\u001b[1;36m2\u001b[0m:          a total of \u001b[1;36m252\u001b[0m \u001b[35m/\u001b[0m \u001b[1;36m2365\u001b[0m \u001b[1m(\u001b[0m\u001b[1;36m10.7\u001b[0m %\u001b[1m)\u001b[0m ROIs had zero STD\n"
      ]
     },
     "metadata": {},
     "output_type": "display_data"
    },
    {
     "data": {
      "text/html": [
       "<pre style=\"white-space:pre;overflow-x:auto;line-height:normal;font-family:Menlo,'DejaVu Sans Mono',consolas,'Courier New',monospace\">sub-DKI13_ses-1_run-<span style=\"color: #008080; text-decoration-color: #008080; font-weight: bold\">3</span>:          a total of <span style=\"color: #008080; text-decoration-color: #008080; font-weight: bold\">200</span> <span style=\"color: #800080; text-decoration-color: #800080\">/</span> <span style=\"color: #008080; text-decoration-color: #008080; font-weight: bold\">2365</span> <span style=\"font-weight: bold\">(</span><span style=\"color: #008080; text-decoration-color: #008080; font-weight: bold\">8.5</span> %<span style=\"font-weight: bold\">)</span> ROIs had zero STD\n",
       "</pre>\n"
      ],
      "text/plain": [
       "sub-DKI13_ses-1_run-\u001b[1;36m3\u001b[0m:          a total of \u001b[1;36m200\u001b[0m \u001b[35m/\u001b[0m \u001b[1;36m2365\u001b[0m \u001b[1m(\u001b[0m\u001b[1;36m8.5\u001b[0m %\u001b[1m)\u001b[0m ROIs had zero STD\n"
      ]
     },
     "metadata": {},
     "output_type": "display_data"
    },
    {
     "data": {
      "text/html": [
       "<pre style=\"white-space:pre;overflow-x:auto;line-height:normal;font-family:Menlo,'DejaVu Sans Mono',consolas,'Courier New',monospace\">sub-DKI14_ses-1_run-<span style=\"color: #008080; text-decoration-color: #008080; font-weight: bold\">1</span>:          a total of <span style=\"color: #008080; text-decoration-color: #008080; font-weight: bold\">174</span> <span style=\"color: #800080; text-decoration-color: #800080\">/</span> <span style=\"color: #008080; text-decoration-color: #008080; font-weight: bold\">2365</span> <span style=\"font-weight: bold\">(</span><span style=\"color: #008080; text-decoration-color: #008080; font-weight: bold\">7.4</span> %<span style=\"font-weight: bold\">)</span> ROIs had zero STD\n",
       "</pre>\n"
      ],
      "text/plain": [
       "sub-DKI14_ses-1_run-\u001b[1;36m1\u001b[0m:          a total of \u001b[1;36m174\u001b[0m \u001b[35m/\u001b[0m \u001b[1;36m2365\u001b[0m \u001b[1m(\u001b[0m\u001b[1;36m7.4\u001b[0m %\u001b[1m)\u001b[0m ROIs had zero STD\n"
      ]
     },
     "metadata": {},
     "output_type": "display_data"
    },
    {
     "data": {
      "text/html": [
       "<pre style=\"white-space:pre;overflow-x:auto;line-height:normal;font-family:Menlo,'DejaVu Sans Mono',consolas,'Courier New',monospace\">sub-DKI14_ses-1_run-<span style=\"color: #008080; text-decoration-color: #008080; font-weight: bold\">2</span>:          a total of <span style=\"color: #008080; text-decoration-color: #008080; font-weight: bold\">197</span> <span style=\"color: #800080; text-decoration-color: #800080\">/</span> <span style=\"color: #008080; text-decoration-color: #008080; font-weight: bold\">2365</span> <span style=\"font-weight: bold\">(</span><span style=\"color: #008080; text-decoration-color: #008080; font-weight: bold\">8.3</span> %<span style=\"font-weight: bold\">)</span> ROIs had zero STD\n",
       "</pre>\n"
      ],
      "text/plain": [
       "sub-DKI14_ses-1_run-\u001b[1;36m2\u001b[0m:          a total of \u001b[1;36m197\u001b[0m \u001b[35m/\u001b[0m \u001b[1;36m2365\u001b[0m \u001b[1m(\u001b[0m\u001b[1;36m8.3\u001b[0m %\u001b[1m)\u001b[0m ROIs had zero STD\n"
      ]
     },
     "metadata": {},
     "output_type": "display_data"
    },
    {
     "data": {
      "text/html": [
       "<pre style=\"white-space:pre;overflow-x:auto;line-height:normal;font-family:Menlo,'DejaVu Sans Mono',consolas,'Courier New',monospace\">sub-DKI14_ses-1_run-<span style=\"color: #008080; text-decoration-color: #008080; font-weight: bold\">3</span>:          a total of <span style=\"color: #008080; text-decoration-color: #008080; font-weight: bold\">194</span> <span style=\"color: #800080; text-decoration-color: #800080\">/</span> <span style=\"color: #008080; text-decoration-color: #008080; font-weight: bold\">2365</span> <span style=\"font-weight: bold\">(</span><span style=\"color: #008080; text-decoration-color: #008080; font-weight: bold\">8.2</span> %<span style=\"font-weight: bold\">)</span> ROIs had zero STD\n",
       "</pre>\n"
      ],
      "text/plain": [
       "sub-DKI14_ses-1_run-\u001b[1;36m3\u001b[0m:          a total of \u001b[1;36m194\u001b[0m \u001b[35m/\u001b[0m \u001b[1;36m2365\u001b[0m \u001b[1m(\u001b[0m\u001b[1;36m8.2\u001b[0m %\u001b[1m)\u001b[0m ROIs had zero STD\n"
      ]
     },
     "metadata": {},
     "output_type": "display_data"
    },
    {
     "data": {
      "text/html": [
       "<pre style=\"white-space:pre;overflow-x:auto;line-height:normal;font-family:Menlo,'DejaVu Sans Mono',consolas,'Courier New',monospace\">sub-DKI14_ses-3_run-<span style=\"color: #008080; text-decoration-color: #008080; font-weight: bold\">1</span>:          a total of <span style=\"color: #008080; text-decoration-color: #008080; font-weight: bold\">163</span> <span style=\"color: #800080; text-decoration-color: #800080\">/</span> <span style=\"color: #008080; text-decoration-color: #008080; font-weight: bold\">2365</span> <span style=\"font-weight: bold\">(</span><span style=\"color: #008080; text-decoration-color: #008080; font-weight: bold\">6.9</span> %<span style=\"font-weight: bold\">)</span> ROIs had zero STD\n",
       "</pre>\n"
      ],
      "text/plain": [
       "sub-DKI14_ses-3_run-\u001b[1;36m1\u001b[0m:          a total of \u001b[1;36m163\u001b[0m \u001b[35m/\u001b[0m \u001b[1;36m2365\u001b[0m \u001b[1m(\u001b[0m\u001b[1;36m6.9\u001b[0m %\u001b[1m)\u001b[0m ROIs had zero STD\n"
      ]
     },
     "metadata": {},
     "output_type": "display_data"
    },
    {
     "data": {
      "text/html": [
       "<pre style=\"white-space:pre;overflow-x:auto;line-height:normal;font-family:Menlo,'DejaVu Sans Mono',consolas,'Courier New',monospace\">sub-DKI14_ses-3_run-<span style=\"color: #008080; text-decoration-color: #008080; font-weight: bold\">2</span>:          a total of <span style=\"color: #008080; text-decoration-color: #008080; font-weight: bold\">146</span> <span style=\"color: #800080; text-decoration-color: #800080\">/</span> <span style=\"color: #008080; text-decoration-color: #008080; font-weight: bold\">2365</span> <span style=\"font-weight: bold\">(</span><span style=\"color: #008080; text-decoration-color: #008080; font-weight: bold\">6.2</span> %<span style=\"font-weight: bold\">)</span> ROIs had zero STD\n",
       "</pre>\n"
      ],
      "text/plain": [
       "sub-DKI14_ses-3_run-\u001b[1;36m2\u001b[0m:          a total of \u001b[1;36m146\u001b[0m \u001b[35m/\u001b[0m \u001b[1;36m2365\u001b[0m \u001b[1m(\u001b[0m\u001b[1;36m6.2\u001b[0m %\u001b[1m)\u001b[0m ROIs had zero STD\n"
      ]
     },
     "metadata": {},
     "output_type": "display_data"
    },
    {
     "data": {
      "text/html": [
       "<pre style=\"white-space:pre;overflow-x:auto;line-height:normal;font-family:Menlo,'DejaVu Sans Mono',consolas,'Courier New',monospace\">sub-DKI14_ses-3_run-<span style=\"color: #008080; text-decoration-color: #008080; font-weight: bold\">3</span>:          a total of <span style=\"color: #008080; text-decoration-color: #008080; font-weight: bold\">137</span> <span style=\"color: #800080; text-decoration-color: #800080\">/</span> <span style=\"color: #008080; text-decoration-color: #008080; font-weight: bold\">2365</span> <span style=\"font-weight: bold\">(</span><span style=\"color: #008080; text-decoration-color: #008080; font-weight: bold\">5.8</span> %<span style=\"font-weight: bold\">)</span> ROIs had zero STD\n",
       "</pre>\n"
      ],
      "text/plain": [
       "sub-DKI14_ses-3_run-\u001b[1;36m3\u001b[0m:          a total of \u001b[1;36m137\u001b[0m \u001b[35m/\u001b[0m \u001b[1;36m2365\u001b[0m \u001b[1m(\u001b[0m\u001b[1;36m5.8\u001b[0m %\u001b[1m)\u001b[0m ROIs had zero STD\n"
      ]
     },
     "metadata": {},
     "output_type": "display_data"
    },
    {
     "data": {
      "text/html": [
       "<pre style=\"white-space:pre;overflow-x:auto;line-height:normal;font-family:Menlo,'DejaVu Sans Mono',consolas,'Courier New',monospace\">sub-DKI15_ses-1_run-<span style=\"color: #008080; text-decoration-color: #008080; font-weight: bold\">1</span>:          a total of <span style=\"color: #008080; text-decoration-color: #008080; font-weight: bold\">147</span> <span style=\"color: #800080; text-decoration-color: #800080\">/</span> <span style=\"color: #008080; text-decoration-color: #008080; font-weight: bold\">2365</span> <span style=\"font-weight: bold\">(</span><span style=\"color: #008080; text-decoration-color: #008080; font-weight: bold\">6.2</span> %<span style=\"font-weight: bold\">)</span> ROIs had zero STD\n",
       "</pre>\n"
      ],
      "text/plain": [
       "sub-DKI15_ses-1_run-\u001b[1;36m1\u001b[0m:          a total of \u001b[1;36m147\u001b[0m \u001b[35m/\u001b[0m \u001b[1;36m2365\u001b[0m \u001b[1m(\u001b[0m\u001b[1;36m6.2\u001b[0m %\u001b[1m)\u001b[0m ROIs had zero STD\n"
      ]
     },
     "metadata": {},
     "output_type": "display_data"
    },
    {
     "data": {
      "text/html": [
       "<pre style=\"white-space:pre;overflow-x:auto;line-height:normal;font-family:Menlo,'DejaVu Sans Mono',consolas,'Courier New',monospace\">sub-DKI15_ses-1_run-<span style=\"color: #008080; text-decoration-color: #008080; font-weight: bold\">2</span>:          a total of <span style=\"color: #008080; text-decoration-color: #008080; font-weight: bold\">144</span> <span style=\"color: #800080; text-decoration-color: #800080\">/</span> <span style=\"color: #008080; text-decoration-color: #008080; font-weight: bold\">2365</span> <span style=\"font-weight: bold\">(</span><span style=\"color: #008080; text-decoration-color: #008080; font-weight: bold\">6.1</span> %<span style=\"font-weight: bold\">)</span> ROIs had zero STD\n",
       "</pre>\n"
      ],
      "text/plain": [
       "sub-DKI15_ses-1_run-\u001b[1;36m2\u001b[0m:          a total of \u001b[1;36m144\u001b[0m \u001b[35m/\u001b[0m \u001b[1;36m2365\u001b[0m \u001b[1m(\u001b[0m\u001b[1;36m6.1\u001b[0m %\u001b[1m)\u001b[0m ROIs had zero STD\n"
      ]
     },
     "metadata": {},
     "output_type": "display_data"
    },
    {
     "data": {
      "text/html": [
       "<pre style=\"white-space:pre;overflow-x:auto;line-height:normal;font-family:Menlo,'DejaVu Sans Mono',consolas,'Courier New',monospace\">sub-DKI15_ses-1_run-<span style=\"color: #008080; text-decoration-color: #008080; font-weight: bold\">3</span>:          a total of <span style=\"color: #008080; text-decoration-color: #008080; font-weight: bold\">158</span> <span style=\"color: #800080; text-decoration-color: #800080\">/</span> <span style=\"color: #008080; text-decoration-color: #008080; font-weight: bold\">2365</span> <span style=\"font-weight: bold\">(</span><span style=\"color: #008080; text-decoration-color: #008080; font-weight: bold\">6.7</span> %<span style=\"font-weight: bold\">)</span> ROIs had zero STD\n",
       "</pre>\n"
      ],
      "text/plain": [
       "sub-DKI15_ses-1_run-\u001b[1;36m3\u001b[0m:          a total of \u001b[1;36m158\u001b[0m \u001b[35m/\u001b[0m \u001b[1;36m2365\u001b[0m \u001b[1m(\u001b[0m\u001b[1;36m6.7\u001b[0m %\u001b[1m)\u001b[0m ROIs had zero STD\n"
      ]
     },
     "metadata": {},
     "output_type": "display_data"
    },
    {
     "data": {
      "text/html": [
       "<pre style=\"white-space:pre;overflow-x:auto;line-height:normal;font-family:Menlo,'DejaVu Sans Mono',consolas,'Courier New',monospace\">sub-DKI15_ses-3_run-<span style=\"color: #008080; text-decoration-color: #008080; font-weight: bold\">1</span>:          a total of <span style=\"color: #008080; text-decoration-color: #008080; font-weight: bold\">205</span> <span style=\"color: #800080; text-decoration-color: #800080\">/</span> <span style=\"color: #008080; text-decoration-color: #008080; font-weight: bold\">2365</span> <span style=\"font-weight: bold\">(</span><span style=\"color: #008080; text-decoration-color: #008080; font-weight: bold\">8.7</span> %<span style=\"font-weight: bold\">)</span> ROIs had zero STD\n",
       "</pre>\n"
      ],
      "text/plain": [
       "sub-DKI15_ses-3_run-\u001b[1;36m1\u001b[0m:          a total of \u001b[1;36m205\u001b[0m \u001b[35m/\u001b[0m \u001b[1;36m2365\u001b[0m \u001b[1m(\u001b[0m\u001b[1;36m8.7\u001b[0m %\u001b[1m)\u001b[0m ROIs had zero STD\n"
      ]
     },
     "metadata": {},
     "output_type": "display_data"
    },
    {
     "data": {
      "text/html": [
       "<pre style=\"white-space:pre;overflow-x:auto;line-height:normal;font-family:Menlo,'DejaVu Sans Mono',consolas,'Courier New',monospace\">sub-DKI15_ses-3_run-<span style=\"color: #008080; text-decoration-color: #008080; font-weight: bold\">2</span>:          a total of <span style=\"color: #008080; text-decoration-color: #008080; font-weight: bold\">248</span> <span style=\"color: #800080; text-decoration-color: #800080\">/</span> <span style=\"color: #008080; text-decoration-color: #008080; font-weight: bold\">2365</span> <span style=\"font-weight: bold\">(</span><span style=\"color: #008080; text-decoration-color: #008080; font-weight: bold\">10.5</span> %<span style=\"font-weight: bold\">)</span> ROIs had zero STD\n",
       "</pre>\n"
      ],
      "text/plain": [
       "sub-DKI15_ses-3_run-\u001b[1;36m2\u001b[0m:          a total of \u001b[1;36m248\u001b[0m \u001b[35m/\u001b[0m \u001b[1;36m2365\u001b[0m \u001b[1m(\u001b[0m\u001b[1;36m10.5\u001b[0m %\u001b[1m)\u001b[0m ROIs had zero STD\n"
      ]
     },
     "metadata": {},
     "output_type": "display_data"
    },
    {
     "data": {
      "text/html": [
       "<pre style=\"white-space:pre;overflow-x:auto;line-height:normal;font-family:Menlo,'DejaVu Sans Mono',consolas,'Courier New',monospace\">sub-DKI15_ses-3_run-<span style=\"color: #008080; text-decoration-color: #008080; font-weight: bold\">3</span>:          a total of <span style=\"color: #008080; text-decoration-color: #008080; font-weight: bold\">165</span> <span style=\"color: #800080; text-decoration-color: #800080\">/</span> <span style=\"color: #008080; text-decoration-color: #008080; font-weight: bold\">2365</span> <span style=\"font-weight: bold\">(</span><span style=\"color: #008080; text-decoration-color: #008080; font-weight: bold\">7.0</span> %<span style=\"font-weight: bold\">)</span> ROIs had zero STD\n",
       "</pre>\n"
      ],
      "text/plain": [
       "sub-DKI15_ses-3_run-\u001b[1;36m3\u001b[0m:          a total of \u001b[1;36m165\u001b[0m \u001b[35m/\u001b[0m \u001b[1;36m2365\u001b[0m \u001b[1m(\u001b[0m\u001b[1;36m7.0\u001b[0m %\u001b[1m)\u001b[0m ROIs had zero STD\n"
      ]
     },
     "metadata": {},
     "output_type": "display_data"
    },
    {
     "data": {
      "text/html": [
       "<pre style=\"white-space:pre;overflow-x:auto;line-height:normal;font-family:Menlo,'DejaVu Sans Mono',consolas,'Courier New',monospace\">sub-DKI16_ses-3_run-<span style=\"color: #008080; text-decoration-color: #008080; font-weight: bold\">1</span>:          a total of <span style=\"color: #008080; text-decoration-color: #008080; font-weight: bold\">269</span> <span style=\"color: #800080; text-decoration-color: #800080\">/</span> <span style=\"color: #008080; text-decoration-color: #008080; font-weight: bold\">2365</span> <span style=\"font-weight: bold\">(</span><span style=\"color: #008080; text-decoration-color: #008080; font-weight: bold\">11.4</span> %<span style=\"font-weight: bold\">)</span> ROIs had zero STD\n",
       "</pre>\n"
      ],
      "text/plain": [
       "sub-DKI16_ses-3_run-\u001b[1;36m1\u001b[0m:          a total of \u001b[1;36m269\u001b[0m \u001b[35m/\u001b[0m \u001b[1;36m2365\u001b[0m \u001b[1m(\u001b[0m\u001b[1;36m11.4\u001b[0m %\u001b[1m)\u001b[0m ROIs had zero STD\n"
      ]
     },
     "metadata": {},
     "output_type": "display_data"
    },
    {
     "data": {
      "text/html": [
       "<pre style=\"white-space:pre;overflow-x:auto;line-height:normal;font-family:Menlo,'DejaVu Sans Mono',consolas,'Courier New',monospace\">sub-DKI16_ses-3_run-<span style=\"color: #008080; text-decoration-color: #008080; font-weight: bold\">2</span>:          a total of <span style=\"color: #008080; text-decoration-color: #008080; font-weight: bold\">298</span> <span style=\"color: #800080; text-decoration-color: #800080\">/</span> <span style=\"color: #008080; text-decoration-color: #008080; font-weight: bold\">2365</span> <span style=\"font-weight: bold\">(</span><span style=\"color: #008080; text-decoration-color: #008080; font-weight: bold\">12.6</span> %<span style=\"font-weight: bold\">)</span> ROIs had zero STD\n",
       "</pre>\n"
      ],
      "text/plain": [
       "sub-DKI16_ses-3_run-\u001b[1;36m2\u001b[0m:          a total of \u001b[1;36m298\u001b[0m \u001b[35m/\u001b[0m \u001b[1;36m2365\u001b[0m \u001b[1m(\u001b[0m\u001b[1;36m12.6\u001b[0m %\u001b[1m)\u001b[0m ROIs had zero STD\n"
      ]
     },
     "metadata": {},
     "output_type": "display_data"
    },
    {
     "data": {
      "text/html": [
       "<pre style=\"white-space:pre;overflow-x:auto;line-height:normal;font-family:Menlo,'DejaVu Sans Mono',consolas,'Courier New',monospace\">sub-DKI17_ses-3_run-<span style=\"color: #008080; text-decoration-color: #008080; font-weight: bold\">1</span>:          a total of <span style=\"color: #008080; text-decoration-color: #008080; font-weight: bold\">267</span> <span style=\"color: #800080; text-decoration-color: #800080\">/</span> <span style=\"color: #008080; text-decoration-color: #008080; font-weight: bold\">2365</span> <span style=\"font-weight: bold\">(</span><span style=\"color: #008080; text-decoration-color: #008080; font-weight: bold\">11.3</span> %<span style=\"font-weight: bold\">)</span> ROIs had zero STD\n",
       "</pre>\n"
      ],
      "text/plain": [
       "sub-DKI17_ses-3_run-\u001b[1;36m1\u001b[0m:          a total of \u001b[1;36m267\u001b[0m \u001b[35m/\u001b[0m \u001b[1;36m2365\u001b[0m \u001b[1m(\u001b[0m\u001b[1;36m11.3\u001b[0m %\u001b[1m)\u001b[0m ROIs had zero STD\n"
      ]
     },
     "metadata": {},
     "output_type": "display_data"
    },
    {
     "data": {
      "text/html": [
       "<pre style=\"white-space:pre;overflow-x:auto;line-height:normal;font-family:Menlo,'DejaVu Sans Mono',consolas,'Courier New',monospace\">sub-DKI17_ses-3_run-<span style=\"color: #008080; text-decoration-color: #008080; font-weight: bold\">2</span>:          a total of <span style=\"color: #008080; text-decoration-color: #008080; font-weight: bold\">324</span> <span style=\"color: #800080; text-decoration-color: #800080\">/</span> <span style=\"color: #008080; text-decoration-color: #008080; font-weight: bold\">2365</span> <span style=\"font-weight: bold\">(</span><span style=\"color: #008080; text-decoration-color: #008080; font-weight: bold\">13.7</span> %<span style=\"font-weight: bold\">)</span> ROIs had zero STD\n",
       "</pre>\n"
      ],
      "text/plain": [
       "sub-DKI17_ses-3_run-\u001b[1;36m2\u001b[0m:          a total of \u001b[1;36m324\u001b[0m \u001b[35m/\u001b[0m \u001b[1;36m2365\u001b[0m \u001b[1m(\u001b[0m\u001b[1;36m13.7\u001b[0m %\u001b[1m)\u001b[0m ROIs had zero STD\n"
      ]
     },
     "metadata": {},
     "output_type": "display_data"
    },
    {
     "data": {
      "text/html": [
       "<pre style=\"white-space:pre;overflow-x:auto;line-height:normal;font-family:Menlo,'DejaVu Sans Mono',consolas,'Courier New',monospace\">sub-DKI17_ses-3_run-<span style=\"color: #008080; text-decoration-color: #008080; font-weight: bold\">3</span>:          a total of <span style=\"color: #008080; text-decoration-color: #008080; font-weight: bold\">217</span> <span style=\"color: #800080; text-decoration-color: #800080\">/</span> <span style=\"color: #008080; text-decoration-color: #008080; font-weight: bold\">2365</span> <span style=\"font-weight: bold\">(</span><span style=\"color: #008080; text-decoration-color: #008080; font-weight: bold\">9.2</span> %<span style=\"font-weight: bold\">)</span> ROIs had zero STD\n",
       "</pre>\n"
      ],
      "text/plain": [
       "sub-DKI17_ses-3_run-\u001b[1;36m3\u001b[0m:          a total of \u001b[1;36m217\u001b[0m \u001b[35m/\u001b[0m \u001b[1;36m2365\u001b[0m \u001b[1m(\u001b[0m\u001b[1;36m9.2\u001b[0m %\u001b[1m)\u001b[0m ROIs had zero STD\n"
      ]
     },
     "metadata": {},
     "output_type": "display_data"
    },
    {
     "data": {
      "text/html": [
       "<pre style=\"white-space:pre;overflow-x:auto;line-height:normal;font-family:Menlo,'DejaVu Sans Mono',consolas,'Courier New',monospace\">sub-DKI18_ses-3_run-<span style=\"color: #008080; text-decoration-color: #008080; font-weight: bold\">1</span>:          a total of <span style=\"color: #008080; text-decoration-color: #008080; font-weight: bold\">188</span> <span style=\"color: #800080; text-decoration-color: #800080\">/</span> <span style=\"color: #008080; text-decoration-color: #008080; font-weight: bold\">2365</span> <span style=\"font-weight: bold\">(</span><span style=\"color: #008080; text-decoration-color: #008080; font-weight: bold\">7.9</span> %<span style=\"font-weight: bold\">)</span> ROIs had zero STD\n",
       "</pre>\n"
      ],
      "text/plain": [
       "sub-DKI18_ses-3_run-\u001b[1;36m1\u001b[0m:          a total of \u001b[1;36m188\u001b[0m \u001b[35m/\u001b[0m \u001b[1;36m2365\u001b[0m \u001b[1m(\u001b[0m\u001b[1;36m7.9\u001b[0m %\u001b[1m)\u001b[0m ROIs had zero STD\n"
      ]
     },
     "metadata": {},
     "output_type": "display_data"
    },
    {
     "data": {
      "text/html": [
       "<pre style=\"white-space:pre;overflow-x:auto;line-height:normal;font-family:Menlo,'DejaVu Sans Mono',consolas,'Courier New',monospace\">sub-DKI18_ses-3_run-<span style=\"color: #008080; text-decoration-color: #008080; font-weight: bold\">2</span>:          a total of <span style=\"color: #008080; text-decoration-color: #008080; font-weight: bold\">223</span> <span style=\"color: #800080; text-decoration-color: #800080\">/</span> <span style=\"color: #008080; text-decoration-color: #008080; font-weight: bold\">2365</span> <span style=\"font-weight: bold\">(</span><span style=\"color: #008080; text-decoration-color: #008080; font-weight: bold\">9.4</span> %<span style=\"font-weight: bold\">)</span> ROIs had zero STD\n",
       "</pre>\n"
      ],
      "text/plain": [
       "sub-DKI18_ses-3_run-\u001b[1;36m2\u001b[0m:          a total of \u001b[1;36m223\u001b[0m \u001b[35m/\u001b[0m \u001b[1;36m2365\u001b[0m \u001b[1m(\u001b[0m\u001b[1;36m9.4\u001b[0m %\u001b[1m)\u001b[0m ROIs had zero STD\n"
      ]
     },
     "metadata": {},
     "output_type": "display_data"
    },
    {
     "data": {
      "text/html": [
       "<pre style=\"white-space:pre;overflow-x:auto;line-height:normal;font-family:Menlo,'DejaVu Sans Mono',consolas,'Courier New',monospace\">sub-DKI18_ses-3_run-<span style=\"color: #008080; text-decoration-color: #008080; font-weight: bold\">3</span>:          a total of <span style=\"color: #008080; text-decoration-color: #008080; font-weight: bold\">282</span> <span style=\"color: #800080; text-decoration-color: #800080\">/</span> <span style=\"color: #008080; text-decoration-color: #008080; font-weight: bold\">2365</span> <span style=\"font-weight: bold\">(</span><span style=\"color: #008080; text-decoration-color: #008080; font-weight: bold\">11.9</span> %<span style=\"font-weight: bold\">)</span> ROIs had zero STD\n",
       "</pre>\n"
      ],
      "text/plain": [
       "sub-DKI18_ses-3_run-\u001b[1;36m3\u001b[0m:          a total of \u001b[1;36m282\u001b[0m \u001b[35m/\u001b[0m \u001b[1;36m2365\u001b[0m \u001b[1m(\u001b[0m\u001b[1;36m11.9\u001b[0m %\u001b[1m)\u001b[0m ROIs had zero STD\n"
      ]
     },
     "metadata": {},
     "output_type": "display_data"
    },
    {
     "data": {
      "text/html": [
       "<pre style=\"white-space:pre;overflow-x:auto;line-height:normal;font-family:Menlo,'DejaVu Sans Mono',consolas,'Courier New',monospace\">sub-DKI19_ses-3_run-<span style=\"color: #008080; text-decoration-color: #008080; font-weight: bold\">1</span>:          a total of <span style=\"color: #008080; text-decoration-color: #008080; font-weight: bold\">321</span> <span style=\"color: #800080; text-decoration-color: #800080\">/</span> <span style=\"color: #008080; text-decoration-color: #008080; font-weight: bold\">2365</span> <span style=\"font-weight: bold\">(</span><span style=\"color: #008080; text-decoration-color: #008080; font-weight: bold\">13.6</span> %<span style=\"font-weight: bold\">)</span> ROIs had zero STD\n",
       "</pre>\n"
      ],
      "text/plain": [
       "sub-DKI19_ses-3_run-\u001b[1;36m1\u001b[0m:          a total of \u001b[1;36m321\u001b[0m \u001b[35m/\u001b[0m \u001b[1;36m2365\u001b[0m \u001b[1m(\u001b[0m\u001b[1;36m13.6\u001b[0m %\u001b[1m)\u001b[0m ROIs had zero STD\n"
      ]
     },
     "metadata": {},
     "output_type": "display_data"
    },
    {
     "data": {
      "text/html": [
       "<pre style=\"white-space:pre;overflow-x:auto;line-height:normal;font-family:Menlo,'DejaVu Sans Mono',consolas,'Courier New',monospace\">sub-DKI19_ses-3_run-<span style=\"color: #008080; text-decoration-color: #008080; font-weight: bold\">2</span>:          a total of <span style=\"color: #008080; text-decoration-color: #008080; font-weight: bold\">282</span> <span style=\"color: #800080; text-decoration-color: #800080\">/</span> <span style=\"color: #008080; text-decoration-color: #008080; font-weight: bold\">2365</span> <span style=\"font-weight: bold\">(</span><span style=\"color: #008080; text-decoration-color: #008080; font-weight: bold\">11.9</span> %<span style=\"font-weight: bold\">)</span> ROIs had zero STD\n",
       "</pre>\n"
      ],
      "text/plain": [
       "sub-DKI19_ses-3_run-\u001b[1;36m2\u001b[0m:          a total of \u001b[1;36m282\u001b[0m \u001b[35m/\u001b[0m \u001b[1;36m2365\u001b[0m \u001b[1m(\u001b[0m\u001b[1;36m11.9\u001b[0m %\u001b[1m)\u001b[0m ROIs had zero STD\n"
      ]
     },
     "metadata": {},
     "output_type": "display_data"
    },
    {
     "data": {
      "text/html": [
       "<pre style=\"white-space:pre;overflow-x:auto;line-height:normal;font-family:Menlo,'DejaVu Sans Mono',consolas,'Courier New',monospace\">sub-DKI19_ses-3_run-<span style=\"color: #008080; text-decoration-color: #008080; font-weight: bold\">3</span>:          a total of <span style=\"color: #008080; text-decoration-color: #008080; font-weight: bold\">310</span> <span style=\"color: #800080; text-decoration-color: #800080\">/</span> <span style=\"color: #008080; text-decoration-color: #008080; font-weight: bold\">2365</span> <span style=\"font-weight: bold\">(</span><span style=\"color: #008080; text-decoration-color: #008080; font-weight: bold\">13.1</span> %<span style=\"font-weight: bold\">)</span> ROIs had zero STD\n",
       "</pre>\n"
      ],
      "text/plain": [
       "sub-DKI19_ses-3_run-\u001b[1;36m3\u001b[0m:          a total of \u001b[1;36m310\u001b[0m \u001b[35m/\u001b[0m \u001b[1;36m2365\u001b[0m \u001b[1m(\u001b[0m\u001b[1;36m13.1\u001b[0m %\u001b[1m)\u001b[0m ROIs had zero STD\n"
      ]
     },
     "metadata": {},
     "output_type": "display_data"
    },
    {
     "data": {
      "text/html": [
       "<pre style=\"white-space:pre;overflow-x:auto;line-height:normal;font-family:Menlo,'DejaVu Sans Mono',consolas,'Courier New',monospace\">sub-DKI20_ses-3_run-<span style=\"color: #008080; text-decoration-color: #008080; font-weight: bold\">1</span>:          a total of <span style=\"color: #008080; text-decoration-color: #008080; font-weight: bold\">179</span> <span style=\"color: #800080; text-decoration-color: #800080\">/</span> <span style=\"color: #008080; text-decoration-color: #008080; font-weight: bold\">2365</span> <span style=\"font-weight: bold\">(</span><span style=\"color: #008080; text-decoration-color: #008080; font-weight: bold\">7.6</span> %<span style=\"font-weight: bold\">)</span> ROIs had zero STD\n",
       "</pre>\n"
      ],
      "text/plain": [
       "sub-DKI20_ses-3_run-\u001b[1;36m1\u001b[0m:          a total of \u001b[1;36m179\u001b[0m \u001b[35m/\u001b[0m \u001b[1;36m2365\u001b[0m \u001b[1m(\u001b[0m\u001b[1;36m7.6\u001b[0m %\u001b[1m)\u001b[0m ROIs had zero STD\n"
      ]
     },
     "metadata": {},
     "output_type": "display_data"
    },
    {
     "data": {
      "text/html": [
       "<pre style=\"white-space:pre;overflow-x:auto;line-height:normal;font-family:Menlo,'DejaVu Sans Mono',consolas,'Courier New',monospace\">sub-DKI20_ses-3_run-<span style=\"color: #008080; text-decoration-color: #008080; font-weight: bold\">2</span>:          a total of <span style=\"color: #008080; text-decoration-color: #008080; font-weight: bold\">289</span> <span style=\"color: #800080; text-decoration-color: #800080\">/</span> <span style=\"color: #008080; text-decoration-color: #008080; font-weight: bold\">2365</span> <span style=\"font-weight: bold\">(</span><span style=\"color: #008080; text-decoration-color: #008080; font-weight: bold\">12.2</span> %<span style=\"font-weight: bold\">)</span> ROIs had zero STD\n",
       "</pre>\n"
      ],
      "text/plain": [
       "sub-DKI20_ses-3_run-\u001b[1;36m2\u001b[0m:          a total of \u001b[1;36m289\u001b[0m \u001b[35m/\u001b[0m \u001b[1;36m2365\u001b[0m \u001b[1m(\u001b[0m\u001b[1;36m12.2\u001b[0m %\u001b[1m)\u001b[0m ROIs had zero STD\n"
      ]
     },
     "metadata": {},
     "output_type": "display_data"
    },
    {
     "data": {
      "text/html": [
       "<pre style=\"white-space:pre;overflow-x:auto;line-height:normal;font-family:Menlo,'DejaVu Sans Mono',consolas,'Courier New',monospace\">sub-DKI20_ses-3_run-<span style=\"color: #008080; text-decoration-color: #008080; font-weight: bold\">3</span>:          a total of <span style=\"color: #008080; text-decoration-color: #008080; font-weight: bold\">227</span> <span style=\"color: #800080; text-decoration-color: #800080\">/</span> <span style=\"color: #008080; text-decoration-color: #008080; font-weight: bold\">2365</span> <span style=\"font-weight: bold\">(</span><span style=\"color: #008080; text-decoration-color: #008080; font-weight: bold\">9.6</span> %<span style=\"font-weight: bold\">)</span> ROIs had zero STD\n",
       "</pre>\n"
      ],
      "text/plain": [
       "sub-DKI20_ses-3_run-\u001b[1;36m3\u001b[0m:          a total of \u001b[1;36m227\u001b[0m \u001b[35m/\u001b[0m \u001b[1;36m2365\u001b[0m \u001b[1m(\u001b[0m\u001b[1;36m9.6\u001b[0m %\u001b[1m)\u001b[0m ROIs had zero STD\n"
      ]
     },
     "metadata": {},
     "output_type": "display_data"
    },
    {
     "data": {
      "text/html": [
       "<pre style=\"white-space:pre;overflow-x:auto;line-height:normal;font-family:Menlo,'DejaVu Sans Mono',consolas,'Courier New',monospace\">sub-DKI21_ses-2_run-<span style=\"color: #008080; text-decoration-color: #008080; font-weight: bold\">1</span>:          a total of <span style=\"color: #008080; text-decoration-color: #008080; font-weight: bold\">247</span> <span style=\"color: #800080; text-decoration-color: #800080\">/</span> <span style=\"color: #008080; text-decoration-color: #008080; font-weight: bold\">2365</span> <span style=\"font-weight: bold\">(</span><span style=\"color: #008080; text-decoration-color: #008080; font-weight: bold\">10.4</span> %<span style=\"font-weight: bold\">)</span> ROIs had zero STD\n",
       "</pre>\n"
      ],
      "text/plain": [
       "sub-DKI21_ses-2_run-\u001b[1;36m1\u001b[0m:          a total of \u001b[1;36m247\u001b[0m \u001b[35m/\u001b[0m \u001b[1;36m2365\u001b[0m \u001b[1m(\u001b[0m\u001b[1;36m10.4\u001b[0m %\u001b[1m)\u001b[0m ROIs had zero STD\n"
      ]
     },
     "metadata": {},
     "output_type": "display_data"
    },
    {
     "data": {
      "text/html": [
       "<pre style=\"white-space:pre;overflow-x:auto;line-height:normal;font-family:Menlo,'DejaVu Sans Mono',consolas,'Courier New',monospace\">sub-DKI21_ses-2_run-<span style=\"color: #008080; text-decoration-color: #008080; font-weight: bold\">2</span>:          a total of <span style=\"color: #008080; text-decoration-color: #008080; font-weight: bold\">257</span> <span style=\"color: #800080; text-decoration-color: #800080\">/</span> <span style=\"color: #008080; text-decoration-color: #008080; font-weight: bold\">2365</span> <span style=\"font-weight: bold\">(</span><span style=\"color: #008080; text-decoration-color: #008080; font-weight: bold\">10.9</span> %<span style=\"font-weight: bold\">)</span> ROIs had zero STD\n",
       "</pre>\n"
      ],
      "text/plain": [
       "sub-DKI21_ses-2_run-\u001b[1;36m2\u001b[0m:          a total of \u001b[1;36m257\u001b[0m \u001b[35m/\u001b[0m \u001b[1;36m2365\u001b[0m \u001b[1m(\u001b[0m\u001b[1;36m10.9\u001b[0m %\u001b[1m)\u001b[0m ROIs had zero STD\n"
      ]
     },
     "metadata": {},
     "output_type": "display_data"
    },
    {
     "data": {
      "text/html": [
       "<pre style=\"white-space:pre;overflow-x:auto;line-height:normal;font-family:Menlo,'DejaVu Sans Mono',consolas,'Courier New',monospace\">sub-DKI21_ses-2_run-<span style=\"color: #008080; text-decoration-color: #008080; font-weight: bold\">3</span>:          a total of <span style=\"color: #008080; text-decoration-color: #008080; font-weight: bold\">287</span> <span style=\"color: #800080; text-decoration-color: #800080\">/</span> <span style=\"color: #008080; text-decoration-color: #008080; font-weight: bold\">2365</span> <span style=\"font-weight: bold\">(</span><span style=\"color: #008080; text-decoration-color: #008080; font-weight: bold\">12.1</span> %<span style=\"font-weight: bold\">)</span> ROIs had zero STD\n",
       "</pre>\n"
      ],
      "text/plain": [
       "sub-DKI21_ses-2_run-\u001b[1;36m3\u001b[0m:          a total of \u001b[1;36m287\u001b[0m \u001b[35m/\u001b[0m \u001b[1;36m2365\u001b[0m \u001b[1m(\u001b[0m\u001b[1;36m12.1\u001b[0m %\u001b[1m)\u001b[0m ROIs had zero STD\n"
      ]
     },
     "metadata": {},
     "output_type": "display_data"
    },
    {
     "data": {
      "text/html": [
       "<pre style=\"white-space:pre;overflow-x:auto;line-height:normal;font-family:Menlo,'DejaVu Sans Mono',consolas,'Courier New',monospace\">sub-DKI22_ses-5_run-<span style=\"color: #008080; text-decoration-color: #008080; font-weight: bold\">1</span>:          a total of <span style=\"color: #008080; text-decoration-color: #008080; font-weight: bold\">196</span> <span style=\"color: #800080; text-decoration-color: #800080\">/</span> <span style=\"color: #008080; text-decoration-color: #008080; font-weight: bold\">2365</span> <span style=\"font-weight: bold\">(</span><span style=\"color: #008080; text-decoration-color: #008080; font-weight: bold\">8.3</span> %<span style=\"font-weight: bold\">)</span> ROIs had zero STD\n",
       "</pre>\n"
      ],
      "text/plain": [
       "sub-DKI22_ses-5_run-\u001b[1;36m1\u001b[0m:          a total of \u001b[1;36m196\u001b[0m \u001b[35m/\u001b[0m \u001b[1;36m2365\u001b[0m \u001b[1m(\u001b[0m\u001b[1;36m8.3\u001b[0m %\u001b[1m)\u001b[0m ROIs had zero STD\n"
      ]
     },
     "metadata": {},
     "output_type": "display_data"
    },
    {
     "data": {
      "text/html": [
       "<pre style=\"white-space:pre;overflow-x:auto;line-height:normal;font-family:Menlo,'DejaVu Sans Mono',consolas,'Courier New',monospace\">sub-DKI22_ses-5_run-<span style=\"color: #008080; text-decoration-color: #008080; font-weight: bold\">2</span>:          a total of <span style=\"color: #008080; text-decoration-color: #008080; font-weight: bold\">186</span> <span style=\"color: #800080; text-decoration-color: #800080\">/</span> <span style=\"color: #008080; text-decoration-color: #008080; font-weight: bold\">2365</span> <span style=\"font-weight: bold\">(</span><span style=\"color: #008080; text-decoration-color: #008080; font-weight: bold\">7.9</span> %<span style=\"font-weight: bold\">)</span> ROIs had zero STD\n",
       "</pre>\n"
      ],
      "text/plain": [
       "sub-DKI22_ses-5_run-\u001b[1;36m2\u001b[0m:          a total of \u001b[1;36m186\u001b[0m \u001b[35m/\u001b[0m \u001b[1;36m2365\u001b[0m \u001b[1m(\u001b[0m\u001b[1;36m7.9\u001b[0m %\u001b[1m)\u001b[0m ROIs had zero STD\n"
      ]
     },
     "metadata": {},
     "output_type": "display_data"
    },
    {
     "data": {
      "text/html": [
       "<pre style=\"white-space:pre;overflow-x:auto;line-height:normal;font-family:Menlo,'DejaVu Sans Mono',consolas,'Courier New',monospace\">sub-DKI22_ses-5_run-<span style=\"color: #008080; text-decoration-color: #008080; font-weight: bold\">3</span>:          a total of <span style=\"color: #008080; text-decoration-color: #008080; font-weight: bold\">184</span> <span style=\"color: #800080; text-decoration-color: #800080\">/</span> <span style=\"color: #008080; text-decoration-color: #008080; font-weight: bold\">2365</span> <span style=\"font-weight: bold\">(</span><span style=\"color: #008080; text-decoration-color: #008080; font-weight: bold\">7.8</span> %<span style=\"font-weight: bold\">)</span> ROIs had zero STD\n",
       "</pre>\n"
      ],
      "text/plain": [
       "sub-DKI22_ses-5_run-\u001b[1;36m3\u001b[0m:          a total of \u001b[1;36m184\u001b[0m \u001b[35m/\u001b[0m \u001b[1;36m2365\u001b[0m \u001b[1m(\u001b[0m\u001b[1;36m7.8\u001b[0m %\u001b[1m)\u001b[0m ROIs had zero STD\n"
      ]
     },
     "metadata": {},
     "output_type": "display_data"
    },
    {
     "data": {
      "text/html": [
       "<pre style=\"white-space:pre;overflow-x:auto;line-height:normal;font-family:Menlo,'DejaVu Sans Mono',consolas,'Courier New',monospace\">sub-DKI22_ses-6_run-<span style=\"color: #008080; text-decoration-color: #008080; font-weight: bold\">1</span>:          a total of <span style=\"color: #008080; text-decoration-color: #008080; font-weight: bold\">199</span> <span style=\"color: #800080; text-decoration-color: #800080\">/</span> <span style=\"color: #008080; text-decoration-color: #008080; font-weight: bold\">2365</span> <span style=\"font-weight: bold\">(</span><span style=\"color: #008080; text-decoration-color: #008080; font-weight: bold\">8.4</span> %<span style=\"font-weight: bold\">)</span> ROIs had zero STD\n",
       "</pre>\n"
      ],
      "text/plain": [
       "sub-DKI22_ses-6_run-\u001b[1;36m1\u001b[0m:          a total of \u001b[1;36m199\u001b[0m \u001b[35m/\u001b[0m \u001b[1;36m2365\u001b[0m \u001b[1m(\u001b[0m\u001b[1;36m8.4\u001b[0m %\u001b[1m)\u001b[0m ROIs had zero STD\n"
      ]
     },
     "metadata": {},
     "output_type": "display_data"
    },
    {
     "data": {
      "text/html": [
       "<pre style=\"white-space:pre;overflow-x:auto;line-height:normal;font-family:Menlo,'DejaVu Sans Mono',consolas,'Courier New',monospace\">sub-DKI22_ses-6_run-<span style=\"color: #008080; text-decoration-color: #008080; font-weight: bold\">2</span>:          a total of <span style=\"color: #008080; text-decoration-color: #008080; font-weight: bold\">135</span> <span style=\"color: #800080; text-decoration-color: #800080\">/</span> <span style=\"color: #008080; text-decoration-color: #008080; font-weight: bold\">2365</span> <span style=\"font-weight: bold\">(</span><span style=\"color: #008080; text-decoration-color: #008080; font-weight: bold\">5.7</span> %<span style=\"font-weight: bold\">)</span> ROIs had zero STD\n",
       "</pre>\n"
      ],
      "text/plain": [
       "sub-DKI22_ses-6_run-\u001b[1;36m2\u001b[0m:          a total of \u001b[1;36m135\u001b[0m \u001b[35m/\u001b[0m \u001b[1;36m2365\u001b[0m \u001b[1m(\u001b[0m\u001b[1;36m5.7\u001b[0m %\u001b[1m)\u001b[0m ROIs had zero STD\n"
      ]
     },
     "metadata": {},
     "output_type": "display_data"
    },
    {
     "data": {
      "text/html": [
       "<pre style=\"white-space:pre;overflow-x:auto;line-height:normal;font-family:Menlo,'DejaVu Sans Mono',consolas,'Courier New',monospace\">sub-DKI22_ses-6_run-<span style=\"color: #008080; text-decoration-color: #008080; font-weight: bold\">3</span>:          a total of <span style=\"color: #008080; text-decoration-color: #008080; font-weight: bold\">166</span> <span style=\"color: #800080; text-decoration-color: #800080\">/</span> <span style=\"color: #008080; text-decoration-color: #008080; font-weight: bold\">2365</span> <span style=\"font-weight: bold\">(</span><span style=\"color: #008080; text-decoration-color: #008080; font-weight: bold\">7.0</span> %<span style=\"font-weight: bold\">)</span> ROIs had zero STD\n",
       "</pre>\n"
      ],
      "text/plain": [
       "sub-DKI22_ses-6_run-\u001b[1;36m3\u001b[0m:          a total of \u001b[1;36m166\u001b[0m \u001b[35m/\u001b[0m \u001b[1;36m2365\u001b[0m \u001b[1m(\u001b[0m\u001b[1;36m7.0\u001b[0m %\u001b[1m)\u001b[0m ROIs had zero STD\n"
      ]
     },
     "metadata": {},
     "output_type": "display_data"
    },
    {
     "data": {
      "text/html": [
       "<pre style=\"white-space:pre;overflow-x:auto;line-height:normal;font-family:Menlo,'DejaVu Sans Mono',consolas,'Courier New',monospace\">sub-DKI23_ses-5_run-<span style=\"color: #008080; text-decoration-color: #008080; font-weight: bold\">1</span>:          a total of <span style=\"color: #008080; text-decoration-color: #008080; font-weight: bold\">229</span> <span style=\"color: #800080; text-decoration-color: #800080\">/</span> <span style=\"color: #008080; text-decoration-color: #008080; font-weight: bold\">2365</span> <span style=\"font-weight: bold\">(</span><span style=\"color: #008080; text-decoration-color: #008080; font-weight: bold\">9.7</span> %<span style=\"font-weight: bold\">)</span> ROIs had zero STD\n",
       "</pre>\n"
      ],
      "text/plain": [
       "sub-DKI23_ses-5_run-\u001b[1;36m1\u001b[0m:          a total of \u001b[1;36m229\u001b[0m \u001b[35m/\u001b[0m \u001b[1;36m2365\u001b[0m \u001b[1m(\u001b[0m\u001b[1;36m9.7\u001b[0m %\u001b[1m)\u001b[0m ROIs had zero STD\n"
      ]
     },
     "metadata": {},
     "output_type": "display_data"
    },
    {
     "data": {
      "text/html": [
       "<pre style=\"white-space:pre;overflow-x:auto;line-height:normal;font-family:Menlo,'DejaVu Sans Mono',consolas,'Courier New',monospace\">sub-DKI23_ses-5_run-<span style=\"color: #008080; text-decoration-color: #008080; font-weight: bold\">2</span>:          a total of <span style=\"color: #008080; text-decoration-color: #008080; font-weight: bold\">213</span> <span style=\"color: #800080; text-decoration-color: #800080\">/</span> <span style=\"color: #008080; text-decoration-color: #008080; font-weight: bold\">2365</span> <span style=\"font-weight: bold\">(</span><span style=\"color: #008080; text-decoration-color: #008080; font-weight: bold\">9.0</span> %<span style=\"font-weight: bold\">)</span> ROIs had zero STD\n",
       "</pre>\n"
      ],
      "text/plain": [
       "sub-DKI23_ses-5_run-\u001b[1;36m2\u001b[0m:          a total of \u001b[1;36m213\u001b[0m \u001b[35m/\u001b[0m \u001b[1;36m2365\u001b[0m \u001b[1m(\u001b[0m\u001b[1;36m9.0\u001b[0m %\u001b[1m)\u001b[0m ROIs had zero STD\n"
      ]
     },
     "metadata": {},
     "output_type": "display_data"
    },
    {
     "data": {
      "text/html": [
       "<pre style=\"white-space:pre;overflow-x:auto;line-height:normal;font-family:Menlo,'DejaVu Sans Mono',consolas,'Courier New',monospace\">sub-DKI23_ses-5_run-<span style=\"color: #008080; text-decoration-color: #008080; font-weight: bold\">3</span>:          a total of <span style=\"color: #008080; text-decoration-color: #008080; font-weight: bold\">246</span> <span style=\"color: #800080; text-decoration-color: #800080\">/</span> <span style=\"color: #008080; text-decoration-color: #008080; font-weight: bold\">2365</span> <span style=\"font-weight: bold\">(</span><span style=\"color: #008080; text-decoration-color: #008080; font-weight: bold\">10.4</span> %<span style=\"font-weight: bold\">)</span> ROIs had zero STD\n",
       "</pre>\n"
      ],
      "text/plain": [
       "sub-DKI23_ses-5_run-\u001b[1;36m3\u001b[0m:          a total of \u001b[1;36m246\u001b[0m \u001b[35m/\u001b[0m \u001b[1;36m2365\u001b[0m \u001b[1m(\u001b[0m\u001b[1;36m10.4\u001b[0m %\u001b[1m)\u001b[0m ROIs had zero STD\n"
      ]
     },
     "metadata": {},
     "output_type": "display_data"
    },
    {
     "data": {
      "text/html": [
       "<pre style=\"white-space:pre;overflow-x:auto;line-height:normal;font-family:Menlo,'DejaVu Sans Mono',consolas,'Courier New',monospace\">sub-DKI23_ses-6_run-<span style=\"color: #008080; text-decoration-color: #008080; font-weight: bold\">1</span>:          a total of <span style=\"color: #008080; text-decoration-color: #008080; font-weight: bold\">210</span> <span style=\"color: #800080; text-decoration-color: #800080\">/</span> <span style=\"color: #008080; text-decoration-color: #008080; font-weight: bold\">2365</span> <span style=\"font-weight: bold\">(</span><span style=\"color: #008080; text-decoration-color: #008080; font-weight: bold\">8.9</span> %<span style=\"font-weight: bold\">)</span> ROIs had zero STD\n",
       "</pre>\n"
      ],
      "text/plain": [
       "sub-DKI23_ses-6_run-\u001b[1;36m1\u001b[0m:          a total of \u001b[1;36m210\u001b[0m \u001b[35m/\u001b[0m \u001b[1;36m2365\u001b[0m \u001b[1m(\u001b[0m\u001b[1;36m8.9\u001b[0m %\u001b[1m)\u001b[0m ROIs had zero STD\n"
      ]
     },
     "metadata": {},
     "output_type": "display_data"
    },
    {
     "data": {
      "text/html": [
       "<pre style=\"white-space:pre;overflow-x:auto;line-height:normal;font-family:Menlo,'DejaVu Sans Mono',consolas,'Courier New',monospace\">sub-DKI23_ses-6_run-<span style=\"color: #008080; text-decoration-color: #008080; font-weight: bold\">2</span>:          a total of <span style=\"color: #008080; text-decoration-color: #008080; font-weight: bold\">208</span> <span style=\"color: #800080; text-decoration-color: #800080\">/</span> <span style=\"color: #008080; text-decoration-color: #008080; font-weight: bold\">2365</span> <span style=\"font-weight: bold\">(</span><span style=\"color: #008080; text-decoration-color: #008080; font-weight: bold\">8.8</span> %<span style=\"font-weight: bold\">)</span> ROIs had zero STD\n",
       "</pre>\n"
      ],
      "text/plain": [
       "sub-DKI23_ses-6_run-\u001b[1;36m2\u001b[0m:          a total of \u001b[1;36m208\u001b[0m \u001b[35m/\u001b[0m \u001b[1;36m2365\u001b[0m \u001b[1m(\u001b[0m\u001b[1;36m8.8\u001b[0m %\u001b[1m)\u001b[0m ROIs had zero STD\n"
      ]
     },
     "metadata": {},
     "output_type": "display_data"
    },
    {
     "data": {
      "text/html": [
       "<pre style=\"white-space:pre;overflow-x:auto;line-height:normal;font-family:Menlo,'DejaVu Sans Mono',consolas,'Courier New',monospace\">sub-DKI23_ses-6_run-<span style=\"color: #008080; text-decoration-color: #008080; font-weight: bold\">3</span>:          a total of <span style=\"color: #008080; text-decoration-color: #008080; font-weight: bold\">212</span> <span style=\"color: #800080; text-decoration-color: #800080\">/</span> <span style=\"color: #008080; text-decoration-color: #008080; font-weight: bold\">2365</span> <span style=\"font-weight: bold\">(</span><span style=\"color: #008080; text-decoration-color: #008080; font-weight: bold\">9.0</span> %<span style=\"font-weight: bold\">)</span> ROIs had zero STD\n",
       "</pre>\n"
      ],
      "text/plain": [
       "sub-DKI23_ses-6_run-\u001b[1;36m3\u001b[0m:          a total of \u001b[1;36m212\u001b[0m \u001b[35m/\u001b[0m \u001b[1;36m2365\u001b[0m \u001b[1m(\u001b[0m\u001b[1;36m9.0\u001b[0m %\u001b[1m)\u001b[0m ROIs had zero STD\n"
      ]
     },
     "metadata": {},
     "output_type": "display_data"
    },
    {
     "data": {
      "text/html": [
       "<pre style=\"white-space:pre;overflow-x:auto;line-height:normal;font-family:Menlo,'DejaVu Sans Mono',consolas,'Courier New',monospace\">sub-DKI24_ses-5_run-<span style=\"color: #008080; text-decoration-color: #008080; font-weight: bold\">1</span>:          a total of <span style=\"color: #008080; text-decoration-color: #008080; font-weight: bold\">195</span> <span style=\"color: #800080; text-decoration-color: #800080\">/</span> <span style=\"color: #008080; text-decoration-color: #008080; font-weight: bold\">2365</span> <span style=\"font-weight: bold\">(</span><span style=\"color: #008080; text-decoration-color: #008080; font-weight: bold\">8.2</span> %<span style=\"font-weight: bold\">)</span> ROIs had zero STD\n",
       "</pre>\n"
      ],
      "text/plain": [
       "sub-DKI24_ses-5_run-\u001b[1;36m1\u001b[0m:          a total of \u001b[1;36m195\u001b[0m \u001b[35m/\u001b[0m \u001b[1;36m2365\u001b[0m \u001b[1m(\u001b[0m\u001b[1;36m8.2\u001b[0m %\u001b[1m)\u001b[0m ROIs had zero STD\n"
      ]
     },
     "metadata": {},
     "output_type": "display_data"
    },
    {
     "data": {
      "text/html": [
       "<pre style=\"white-space:pre;overflow-x:auto;line-height:normal;font-family:Menlo,'DejaVu Sans Mono',consolas,'Courier New',monospace\">sub-DKI24_ses-5_run-<span style=\"color: #008080; text-decoration-color: #008080; font-weight: bold\">2</span>:          a total of <span style=\"color: #008080; text-decoration-color: #008080; font-weight: bold\">219</span> <span style=\"color: #800080; text-decoration-color: #800080\">/</span> <span style=\"color: #008080; text-decoration-color: #008080; font-weight: bold\">2365</span> <span style=\"font-weight: bold\">(</span><span style=\"color: #008080; text-decoration-color: #008080; font-weight: bold\">9.3</span> %<span style=\"font-weight: bold\">)</span> ROIs had zero STD\n",
       "</pre>\n"
      ],
      "text/plain": [
       "sub-DKI24_ses-5_run-\u001b[1;36m2\u001b[0m:          a total of \u001b[1;36m219\u001b[0m \u001b[35m/\u001b[0m \u001b[1;36m2365\u001b[0m \u001b[1m(\u001b[0m\u001b[1;36m9.3\u001b[0m %\u001b[1m)\u001b[0m ROIs had zero STD\n"
      ]
     },
     "metadata": {},
     "output_type": "display_data"
    },
    {
     "data": {
      "text/html": [
       "<pre style=\"white-space:pre;overflow-x:auto;line-height:normal;font-family:Menlo,'DejaVu Sans Mono',consolas,'Courier New',monospace\">sub-DKI24_ses-5_run-<span style=\"color: #008080; text-decoration-color: #008080; font-weight: bold\">3</span>:          a total of <span style=\"color: #008080; text-decoration-color: #008080; font-weight: bold\">218</span> <span style=\"color: #800080; text-decoration-color: #800080\">/</span> <span style=\"color: #008080; text-decoration-color: #008080; font-weight: bold\">2365</span> <span style=\"font-weight: bold\">(</span><span style=\"color: #008080; text-decoration-color: #008080; font-weight: bold\">9.2</span> %<span style=\"font-weight: bold\">)</span> ROIs had zero STD\n",
       "</pre>\n"
      ],
      "text/plain": [
       "sub-DKI24_ses-5_run-\u001b[1;36m3\u001b[0m:          a total of \u001b[1;36m218\u001b[0m \u001b[35m/\u001b[0m \u001b[1;36m2365\u001b[0m \u001b[1m(\u001b[0m\u001b[1;36m9.2\u001b[0m %\u001b[1m)\u001b[0m ROIs had zero STD\n"
      ]
     },
     "metadata": {},
     "output_type": "display_data"
    },
    {
     "data": {
      "text/html": [
       "<pre style=\"white-space:pre;overflow-x:auto;line-height:normal;font-family:Menlo,'DejaVu Sans Mono',consolas,'Courier New',monospace\">sub-DKI24_ses-6_run-<span style=\"color: #008080; text-decoration-color: #008080; font-weight: bold\">1</span>:          a total of <span style=\"color: #008080; text-decoration-color: #008080; font-weight: bold\">229</span> <span style=\"color: #800080; text-decoration-color: #800080\">/</span> <span style=\"color: #008080; text-decoration-color: #008080; font-weight: bold\">2365</span> <span style=\"font-weight: bold\">(</span><span style=\"color: #008080; text-decoration-color: #008080; font-weight: bold\">9.7</span> %<span style=\"font-weight: bold\">)</span> ROIs had zero STD\n",
       "</pre>\n"
      ],
      "text/plain": [
       "sub-DKI24_ses-6_run-\u001b[1;36m1\u001b[0m:          a total of \u001b[1;36m229\u001b[0m \u001b[35m/\u001b[0m \u001b[1;36m2365\u001b[0m \u001b[1m(\u001b[0m\u001b[1;36m9.7\u001b[0m %\u001b[1m)\u001b[0m ROIs had zero STD\n"
      ]
     },
     "metadata": {},
     "output_type": "display_data"
    },
    {
     "data": {
      "text/html": [
       "<pre style=\"white-space:pre;overflow-x:auto;line-height:normal;font-family:Menlo,'DejaVu Sans Mono',consolas,'Courier New',monospace\">sub-DKI24_ses-6_run-<span style=\"color: #008080; text-decoration-color: #008080; font-weight: bold\">2</span>:          a total of <span style=\"color: #008080; text-decoration-color: #008080; font-weight: bold\">193</span> <span style=\"color: #800080; text-decoration-color: #800080\">/</span> <span style=\"color: #008080; text-decoration-color: #008080; font-weight: bold\">2365</span> <span style=\"font-weight: bold\">(</span><span style=\"color: #008080; text-decoration-color: #008080; font-weight: bold\">8.2</span> %<span style=\"font-weight: bold\">)</span> ROIs had zero STD\n",
       "</pre>\n"
      ],
      "text/plain": [
       "sub-DKI24_ses-6_run-\u001b[1;36m2\u001b[0m:          a total of \u001b[1;36m193\u001b[0m \u001b[35m/\u001b[0m \u001b[1;36m2365\u001b[0m \u001b[1m(\u001b[0m\u001b[1;36m8.2\u001b[0m %\u001b[1m)\u001b[0m ROIs had zero STD\n"
      ]
     },
     "metadata": {},
     "output_type": "display_data"
    },
    {
     "data": {
      "text/html": [
       "<pre style=\"white-space:pre;overflow-x:auto;line-height:normal;font-family:Menlo,'DejaVu Sans Mono',consolas,'Courier New',monospace\">sub-DKI24_ses-6_run-<span style=\"color: #008080; text-decoration-color: #008080; font-weight: bold\">3</span>:          a total of <span style=\"color: #008080; text-decoration-color: #008080; font-weight: bold\">188</span> <span style=\"color: #800080; text-decoration-color: #800080\">/</span> <span style=\"color: #008080; text-decoration-color: #008080; font-weight: bold\">2365</span> <span style=\"font-weight: bold\">(</span><span style=\"color: #008080; text-decoration-color: #008080; font-weight: bold\">7.9</span> %<span style=\"font-weight: bold\">)</span> ROIs had zero STD\n",
       "</pre>\n"
      ],
      "text/plain": [
       "sub-DKI24_ses-6_run-\u001b[1;36m3\u001b[0m:          a total of \u001b[1;36m188\u001b[0m \u001b[35m/\u001b[0m \u001b[1;36m2365\u001b[0m \u001b[1m(\u001b[0m\u001b[1;36m7.9\u001b[0m %\u001b[1m)\u001b[0m ROIs had zero STD\n"
      ]
     },
     "metadata": {},
     "output_type": "display_data"
    },
    {
     "data": {
      "text/html": [
       "<pre style=\"white-space:pre;overflow-x:auto;line-height:normal;font-family:Menlo,'DejaVu Sans Mono',consolas,'Courier New',monospace\">sub-DKI25_ses-5_run-<span style=\"color: #008080; text-decoration-color: #008080; font-weight: bold\">1</span>:          a total of <span style=\"color: #008080; text-decoration-color: #008080; font-weight: bold\">191</span> <span style=\"color: #800080; text-decoration-color: #800080\">/</span> <span style=\"color: #008080; text-decoration-color: #008080; font-weight: bold\">2365</span> <span style=\"font-weight: bold\">(</span><span style=\"color: #008080; text-decoration-color: #008080; font-weight: bold\">8.1</span> %<span style=\"font-weight: bold\">)</span> ROIs had zero STD\n",
       "</pre>\n"
      ],
      "text/plain": [
       "sub-DKI25_ses-5_run-\u001b[1;36m1\u001b[0m:          a total of \u001b[1;36m191\u001b[0m \u001b[35m/\u001b[0m \u001b[1;36m2365\u001b[0m \u001b[1m(\u001b[0m\u001b[1;36m8.1\u001b[0m %\u001b[1m)\u001b[0m ROIs had zero STD\n"
      ]
     },
     "metadata": {},
     "output_type": "display_data"
    },
    {
     "data": {
      "text/html": [
       "<pre style=\"white-space:pre;overflow-x:auto;line-height:normal;font-family:Menlo,'DejaVu Sans Mono',consolas,'Courier New',monospace\">sub-DKI25_ses-5_run-<span style=\"color: #008080; text-decoration-color: #008080; font-weight: bold\">2</span>:          a total of <span style=\"color: #008080; text-decoration-color: #008080; font-weight: bold\">204</span> <span style=\"color: #800080; text-decoration-color: #800080\">/</span> <span style=\"color: #008080; text-decoration-color: #008080; font-weight: bold\">2365</span> <span style=\"font-weight: bold\">(</span><span style=\"color: #008080; text-decoration-color: #008080; font-weight: bold\">8.6</span> %<span style=\"font-weight: bold\">)</span> ROIs had zero STD\n",
       "</pre>\n"
      ],
      "text/plain": [
       "sub-DKI25_ses-5_run-\u001b[1;36m2\u001b[0m:          a total of \u001b[1;36m204\u001b[0m \u001b[35m/\u001b[0m \u001b[1;36m2365\u001b[0m \u001b[1m(\u001b[0m\u001b[1;36m8.6\u001b[0m %\u001b[1m)\u001b[0m ROIs had zero STD\n"
      ]
     },
     "metadata": {},
     "output_type": "display_data"
    },
    {
     "data": {
      "text/html": [
       "<pre style=\"white-space:pre;overflow-x:auto;line-height:normal;font-family:Menlo,'DejaVu Sans Mono',consolas,'Courier New',monospace\">sub-DKI25_ses-5_run-<span style=\"color: #008080; text-decoration-color: #008080; font-weight: bold\">3</span>:          a total of <span style=\"color: #008080; text-decoration-color: #008080; font-weight: bold\">242</span> <span style=\"color: #800080; text-decoration-color: #800080\">/</span> <span style=\"color: #008080; text-decoration-color: #008080; font-weight: bold\">2365</span> <span style=\"font-weight: bold\">(</span><span style=\"color: #008080; text-decoration-color: #008080; font-weight: bold\">10.2</span> %<span style=\"font-weight: bold\">)</span> ROIs had zero STD\n",
       "</pre>\n"
      ],
      "text/plain": [
       "sub-DKI25_ses-5_run-\u001b[1;36m3\u001b[0m:          a total of \u001b[1;36m242\u001b[0m \u001b[35m/\u001b[0m \u001b[1;36m2365\u001b[0m \u001b[1m(\u001b[0m\u001b[1;36m10.2\u001b[0m %\u001b[1m)\u001b[0m ROIs had zero STD\n"
      ]
     },
     "metadata": {},
     "output_type": "display_data"
    },
    {
     "data": {
      "text/html": [
       "<pre style=\"white-space:pre;overflow-x:auto;line-height:normal;font-family:Menlo,'DejaVu Sans Mono',consolas,'Courier New',monospace\">sub-DKI25_ses-6_run-<span style=\"color: #008080; text-decoration-color: #008080; font-weight: bold\">1</span>:          a total of <span style=\"color: #008080; text-decoration-color: #008080; font-weight: bold\">249</span> <span style=\"color: #800080; text-decoration-color: #800080\">/</span> <span style=\"color: #008080; text-decoration-color: #008080; font-weight: bold\">2365</span> <span style=\"font-weight: bold\">(</span><span style=\"color: #008080; text-decoration-color: #008080; font-weight: bold\">10.5</span> %<span style=\"font-weight: bold\">)</span> ROIs had zero STD\n",
       "</pre>\n"
      ],
      "text/plain": [
       "sub-DKI25_ses-6_run-\u001b[1;36m1\u001b[0m:          a total of \u001b[1;36m249\u001b[0m \u001b[35m/\u001b[0m \u001b[1;36m2365\u001b[0m \u001b[1m(\u001b[0m\u001b[1;36m10.5\u001b[0m %\u001b[1m)\u001b[0m ROIs had zero STD\n"
      ]
     },
     "metadata": {},
     "output_type": "display_data"
    },
    {
     "data": {
      "text/html": [
       "<pre style=\"white-space:pre;overflow-x:auto;line-height:normal;font-family:Menlo,'DejaVu Sans Mono',consolas,'Courier New',monospace\">sub-DKI25_ses-6_run-<span style=\"color: #008080; text-decoration-color: #008080; font-weight: bold\">2</span>:          a total of <span style=\"color: #008080; text-decoration-color: #008080; font-weight: bold\">246</span> <span style=\"color: #800080; text-decoration-color: #800080\">/</span> <span style=\"color: #008080; text-decoration-color: #008080; font-weight: bold\">2365</span> <span style=\"font-weight: bold\">(</span><span style=\"color: #008080; text-decoration-color: #008080; font-weight: bold\">10.4</span> %<span style=\"font-weight: bold\">)</span> ROIs had zero STD\n",
       "</pre>\n"
      ],
      "text/plain": [
       "sub-DKI25_ses-6_run-\u001b[1;36m2\u001b[0m:          a total of \u001b[1;36m246\u001b[0m \u001b[35m/\u001b[0m \u001b[1;36m2365\u001b[0m \u001b[1m(\u001b[0m\u001b[1;36m10.4\u001b[0m %\u001b[1m)\u001b[0m ROIs had zero STD\n"
      ]
     },
     "metadata": {},
     "output_type": "display_data"
    },
    {
     "data": {
      "text/html": [
       "<pre style=\"white-space:pre;overflow-x:auto;line-height:normal;font-family:Menlo,'DejaVu Sans Mono',consolas,'Courier New',monospace\">sub-DKI25_ses-6_run-<span style=\"color: #008080; text-decoration-color: #008080; font-weight: bold\">3</span>:          a total of <span style=\"color: #008080; text-decoration-color: #008080; font-weight: bold\">283</span> <span style=\"color: #800080; text-decoration-color: #800080\">/</span> <span style=\"color: #008080; text-decoration-color: #008080; font-weight: bold\">2365</span> <span style=\"font-weight: bold\">(</span><span style=\"color: #008080; text-decoration-color: #008080; font-weight: bold\">12.0</span> %<span style=\"font-weight: bold\">)</span> ROIs had zero STD\n",
       "</pre>\n"
      ],
      "text/plain": [
       "sub-DKI25_ses-6_run-\u001b[1;36m3\u001b[0m:          a total of \u001b[1;36m283\u001b[0m \u001b[35m/\u001b[0m \u001b[1;36m2365\u001b[0m \u001b[1m(\u001b[0m\u001b[1;36m12.0\u001b[0m %\u001b[1m)\u001b[0m ROIs had zero STD\n"
      ]
     },
     "metadata": {},
     "output_type": "display_data"
    },
    {
     "data": {
      "text/html": [
       "<pre style=\"white-space:pre;overflow-x:auto;line-height:normal;font-family:Menlo,'DejaVu Sans Mono',consolas,'Courier New',monospace\">sub-DKI26_ses-5_run-<span style=\"color: #008080; text-decoration-color: #008080; font-weight: bold\">1</span>:          a total of <span style=\"color: #008080; text-decoration-color: #008080; font-weight: bold\">195</span> <span style=\"color: #800080; text-decoration-color: #800080\">/</span> <span style=\"color: #008080; text-decoration-color: #008080; font-weight: bold\">2365</span> <span style=\"font-weight: bold\">(</span><span style=\"color: #008080; text-decoration-color: #008080; font-weight: bold\">8.2</span> %<span style=\"font-weight: bold\">)</span> ROIs had zero STD\n",
       "</pre>\n"
      ],
      "text/plain": [
       "sub-DKI26_ses-5_run-\u001b[1;36m1\u001b[0m:          a total of \u001b[1;36m195\u001b[0m \u001b[35m/\u001b[0m \u001b[1;36m2365\u001b[0m \u001b[1m(\u001b[0m\u001b[1;36m8.2\u001b[0m %\u001b[1m)\u001b[0m ROIs had zero STD\n"
      ]
     },
     "metadata": {},
     "output_type": "display_data"
    },
    {
     "data": {
      "text/html": [
       "<pre style=\"white-space:pre;overflow-x:auto;line-height:normal;font-family:Menlo,'DejaVu Sans Mono',consolas,'Courier New',monospace\">sub-DKI26_ses-5_run-<span style=\"color: #008080; text-decoration-color: #008080; font-weight: bold\">2</span>:          a total of <span style=\"color: #008080; text-decoration-color: #008080; font-weight: bold\">242</span> <span style=\"color: #800080; text-decoration-color: #800080\">/</span> <span style=\"color: #008080; text-decoration-color: #008080; font-weight: bold\">2365</span> <span style=\"font-weight: bold\">(</span><span style=\"color: #008080; text-decoration-color: #008080; font-weight: bold\">10.2</span> %<span style=\"font-weight: bold\">)</span> ROIs had zero STD\n",
       "</pre>\n"
      ],
      "text/plain": [
       "sub-DKI26_ses-5_run-\u001b[1;36m2\u001b[0m:          a total of \u001b[1;36m242\u001b[0m \u001b[35m/\u001b[0m \u001b[1;36m2365\u001b[0m \u001b[1m(\u001b[0m\u001b[1;36m10.2\u001b[0m %\u001b[1m)\u001b[0m ROIs had zero STD\n"
      ]
     },
     "metadata": {},
     "output_type": "display_data"
    },
    {
     "data": {
      "text/html": [
       "<pre style=\"white-space:pre;overflow-x:auto;line-height:normal;font-family:Menlo,'DejaVu Sans Mono',consolas,'Courier New',monospace\">sub-DKI26_ses-6_run-<span style=\"color: #008080; text-decoration-color: #008080; font-weight: bold\">1</span>:          a total of <span style=\"color: #008080; text-decoration-color: #008080; font-weight: bold\">217</span> <span style=\"color: #800080; text-decoration-color: #800080\">/</span> <span style=\"color: #008080; text-decoration-color: #008080; font-weight: bold\">2365</span> <span style=\"font-weight: bold\">(</span><span style=\"color: #008080; text-decoration-color: #008080; font-weight: bold\">9.2</span> %<span style=\"font-weight: bold\">)</span> ROIs had zero STD\n",
       "</pre>\n"
      ],
      "text/plain": [
       "sub-DKI26_ses-6_run-\u001b[1;36m1\u001b[0m:          a total of \u001b[1;36m217\u001b[0m \u001b[35m/\u001b[0m \u001b[1;36m2365\u001b[0m \u001b[1m(\u001b[0m\u001b[1;36m9.2\u001b[0m %\u001b[1m)\u001b[0m ROIs had zero STD\n"
      ]
     },
     "metadata": {},
     "output_type": "display_data"
    },
    {
     "data": {
      "text/html": [
       "<pre style=\"white-space:pre;overflow-x:auto;line-height:normal;font-family:Menlo,'DejaVu Sans Mono',consolas,'Courier New',monospace\">sub-DKI26_ses-6_run-<span style=\"color: #008080; text-decoration-color: #008080; font-weight: bold\">2</span>:          a total of <span style=\"color: #008080; text-decoration-color: #008080; font-weight: bold\">177</span> <span style=\"color: #800080; text-decoration-color: #800080\">/</span> <span style=\"color: #008080; text-decoration-color: #008080; font-weight: bold\">2365</span> <span style=\"font-weight: bold\">(</span><span style=\"color: #008080; text-decoration-color: #008080; font-weight: bold\">7.5</span> %<span style=\"font-weight: bold\">)</span> ROIs had zero STD\n",
       "</pre>\n"
      ],
      "text/plain": [
       "sub-DKI26_ses-6_run-\u001b[1;36m2\u001b[0m:          a total of \u001b[1;36m177\u001b[0m \u001b[35m/\u001b[0m \u001b[1;36m2365\u001b[0m \u001b[1m(\u001b[0m\u001b[1;36m7.5\u001b[0m %\u001b[1m)\u001b[0m ROIs had zero STD\n"
      ]
     },
     "metadata": {},
     "output_type": "display_data"
    },
    {
     "data": {
      "text/html": [
       "<pre style=\"white-space:pre;overflow-x:auto;line-height:normal;font-family:Menlo,'DejaVu Sans Mono',consolas,'Courier New',monospace\">sub-DKI26_ses-6_run-<span style=\"color: #008080; text-decoration-color: #008080; font-weight: bold\">3</span>:          a total of <span style=\"color: #008080; text-decoration-color: #008080; font-weight: bold\">183</span> <span style=\"color: #800080; text-decoration-color: #800080\">/</span> <span style=\"color: #008080; text-decoration-color: #008080; font-weight: bold\">2365</span> <span style=\"font-weight: bold\">(</span><span style=\"color: #008080; text-decoration-color: #008080; font-weight: bold\">7.7</span> %<span style=\"font-weight: bold\">)</span> ROIs had zero STD\n",
       "</pre>\n"
      ],
      "text/plain": [
       "sub-DKI26_ses-6_run-\u001b[1;36m3\u001b[0m:          a total of \u001b[1;36m183\u001b[0m \u001b[35m/\u001b[0m \u001b[1;36m2365\u001b[0m \u001b[1m(\u001b[0m\u001b[1;36m7.7\u001b[0m %\u001b[1m)\u001b[0m ROIs had zero STD\n"
      ]
     },
     "metadata": {},
     "output_type": "display_data"
    },
    {
     "data": {
      "text/html": [
       "<pre style=\"white-space:pre;overflow-x:auto;line-height:normal;font-family:Menlo,'DejaVu Sans Mono',consolas,'Courier New',monospace\">sub-DKI27_ses-5_run-<span style=\"color: #008080; text-decoration-color: #008080; font-weight: bold\">1</span>:          a total of <span style=\"color: #008080; text-decoration-color: #008080; font-weight: bold\">250</span> <span style=\"color: #800080; text-decoration-color: #800080\">/</span> <span style=\"color: #008080; text-decoration-color: #008080; font-weight: bold\">2365</span> <span style=\"font-weight: bold\">(</span><span style=\"color: #008080; text-decoration-color: #008080; font-weight: bold\">10.6</span> %<span style=\"font-weight: bold\">)</span> ROIs had zero STD\n",
       "</pre>\n"
      ],
      "text/plain": [
       "sub-DKI27_ses-5_run-\u001b[1;36m1\u001b[0m:          a total of \u001b[1;36m250\u001b[0m \u001b[35m/\u001b[0m \u001b[1;36m2365\u001b[0m \u001b[1m(\u001b[0m\u001b[1;36m10.6\u001b[0m %\u001b[1m)\u001b[0m ROIs had zero STD\n"
      ]
     },
     "metadata": {},
     "output_type": "display_data"
    },
    {
     "data": {
      "text/html": [
       "<pre style=\"white-space:pre;overflow-x:auto;line-height:normal;font-family:Menlo,'DejaVu Sans Mono',consolas,'Courier New',monospace\">sub-DKI27_ses-5_run-<span style=\"color: #008080; text-decoration-color: #008080; font-weight: bold\">2</span>:          a total of <span style=\"color: #008080; text-decoration-color: #008080; font-weight: bold\">181</span> <span style=\"color: #800080; text-decoration-color: #800080\">/</span> <span style=\"color: #008080; text-decoration-color: #008080; font-weight: bold\">2365</span> <span style=\"font-weight: bold\">(</span><span style=\"color: #008080; text-decoration-color: #008080; font-weight: bold\">7.7</span> %<span style=\"font-weight: bold\">)</span> ROIs had zero STD\n",
       "</pre>\n"
      ],
      "text/plain": [
       "sub-DKI27_ses-5_run-\u001b[1;36m2\u001b[0m:          a total of \u001b[1;36m181\u001b[0m \u001b[35m/\u001b[0m \u001b[1;36m2365\u001b[0m \u001b[1m(\u001b[0m\u001b[1;36m7.7\u001b[0m %\u001b[1m)\u001b[0m ROIs had zero STD\n"
      ]
     },
     "metadata": {},
     "output_type": "display_data"
    },
    {
     "data": {
      "text/html": [
       "<pre style=\"white-space:pre;overflow-x:auto;line-height:normal;font-family:Menlo,'DejaVu Sans Mono',consolas,'Courier New',monospace\">sub-DKI27_ses-5_run-<span style=\"color: #008080; text-decoration-color: #008080; font-weight: bold\">3</span>:          a total of <span style=\"color: #008080; text-decoration-color: #008080; font-weight: bold\">184</span> <span style=\"color: #800080; text-decoration-color: #800080\">/</span> <span style=\"color: #008080; text-decoration-color: #008080; font-weight: bold\">2365</span> <span style=\"font-weight: bold\">(</span><span style=\"color: #008080; text-decoration-color: #008080; font-weight: bold\">7.8</span> %<span style=\"font-weight: bold\">)</span> ROIs had zero STD\n",
       "</pre>\n"
      ],
      "text/plain": [
       "sub-DKI27_ses-5_run-\u001b[1;36m3\u001b[0m:          a total of \u001b[1;36m184\u001b[0m \u001b[35m/\u001b[0m \u001b[1;36m2365\u001b[0m \u001b[1m(\u001b[0m\u001b[1;36m7.8\u001b[0m %\u001b[1m)\u001b[0m ROIs had zero STD\n"
      ]
     },
     "metadata": {},
     "output_type": "display_data"
    },
    {
     "data": {
      "text/html": [
       "<pre style=\"white-space:pre;overflow-x:auto;line-height:normal;font-family:Menlo,'DejaVu Sans Mono',consolas,'Courier New',monospace\">sub-DKI27_ses-6_run-<span style=\"color: #008080; text-decoration-color: #008080; font-weight: bold\">1</span>:          a total of <span style=\"color: #008080; text-decoration-color: #008080; font-weight: bold\">174</span> <span style=\"color: #800080; text-decoration-color: #800080\">/</span> <span style=\"color: #008080; text-decoration-color: #008080; font-weight: bold\">2365</span> <span style=\"font-weight: bold\">(</span><span style=\"color: #008080; text-decoration-color: #008080; font-weight: bold\">7.4</span> %<span style=\"font-weight: bold\">)</span> ROIs had zero STD\n",
       "</pre>\n"
      ],
      "text/plain": [
       "sub-DKI27_ses-6_run-\u001b[1;36m1\u001b[0m:          a total of \u001b[1;36m174\u001b[0m \u001b[35m/\u001b[0m \u001b[1;36m2365\u001b[0m \u001b[1m(\u001b[0m\u001b[1;36m7.4\u001b[0m %\u001b[1m)\u001b[0m ROIs had zero STD\n"
      ]
     },
     "metadata": {},
     "output_type": "display_data"
    },
    {
     "data": {
      "text/html": [
       "<pre style=\"white-space:pre;overflow-x:auto;line-height:normal;font-family:Menlo,'DejaVu Sans Mono',consolas,'Courier New',monospace\">sub-DKI27_ses-6_run-<span style=\"color: #008080; text-decoration-color: #008080; font-weight: bold\">2</span>:          a total of <span style=\"color: #008080; text-decoration-color: #008080; font-weight: bold\">152</span> <span style=\"color: #800080; text-decoration-color: #800080\">/</span> <span style=\"color: #008080; text-decoration-color: #008080; font-weight: bold\">2365</span> <span style=\"font-weight: bold\">(</span><span style=\"color: #008080; text-decoration-color: #008080; font-weight: bold\">6.4</span> %<span style=\"font-weight: bold\">)</span> ROIs had zero STD\n",
       "</pre>\n"
      ],
      "text/plain": [
       "sub-DKI27_ses-6_run-\u001b[1;36m2\u001b[0m:          a total of \u001b[1;36m152\u001b[0m \u001b[35m/\u001b[0m \u001b[1;36m2365\u001b[0m \u001b[1m(\u001b[0m\u001b[1;36m6.4\u001b[0m %\u001b[1m)\u001b[0m ROIs had zero STD\n"
      ]
     },
     "metadata": {},
     "output_type": "display_data"
    },
    {
     "data": {
      "text/html": [
       "<pre style=\"white-space:pre;overflow-x:auto;line-height:normal;font-family:Menlo,'DejaVu Sans Mono',consolas,'Courier New',monospace\">sub-DKI27_ses-6_run-<span style=\"color: #008080; text-decoration-color: #008080; font-weight: bold\">3</span>:          a total of <span style=\"color: #008080; text-decoration-color: #008080; font-weight: bold\">143</span> <span style=\"color: #800080; text-decoration-color: #800080\">/</span> <span style=\"color: #008080; text-decoration-color: #008080; font-weight: bold\">2365</span> <span style=\"font-weight: bold\">(</span><span style=\"color: #008080; text-decoration-color: #008080; font-weight: bold\">6.0</span> %<span style=\"font-weight: bold\">)</span> ROIs had zero STD\n",
       "</pre>\n"
      ],
      "text/plain": [
       "sub-DKI27_ses-6_run-\u001b[1;36m3\u001b[0m:          a total of \u001b[1;36m143\u001b[0m \u001b[35m/\u001b[0m \u001b[1;36m2365\u001b[0m \u001b[1m(\u001b[0m\u001b[1;36m6.0\u001b[0m %\u001b[1m)\u001b[0m ROIs had zero STD\n"
      ]
     },
     "metadata": {},
     "output_type": "display_data"
    },
    {
     "data": {
      "text/html": [
       "<pre style=\"white-space:pre;overflow-x:auto;line-height:normal;font-family:Menlo,'DejaVu Sans Mono',consolas,'Courier New',monospace\">sub-DKI28_ses-5_run-<span style=\"color: #008080; text-decoration-color: #008080; font-weight: bold\">1</span>:          a total of <span style=\"color: #008080; text-decoration-color: #008080; font-weight: bold\">201</span> <span style=\"color: #800080; text-decoration-color: #800080\">/</span> <span style=\"color: #008080; text-decoration-color: #008080; font-weight: bold\">2365</span> <span style=\"font-weight: bold\">(</span><span style=\"color: #008080; text-decoration-color: #008080; font-weight: bold\">8.5</span> %<span style=\"font-weight: bold\">)</span> ROIs had zero STD\n",
       "</pre>\n"
      ],
      "text/plain": [
       "sub-DKI28_ses-5_run-\u001b[1;36m1\u001b[0m:          a total of \u001b[1;36m201\u001b[0m \u001b[35m/\u001b[0m \u001b[1;36m2365\u001b[0m \u001b[1m(\u001b[0m\u001b[1;36m8.5\u001b[0m %\u001b[1m)\u001b[0m ROIs had zero STD\n"
      ]
     },
     "metadata": {},
     "output_type": "display_data"
    },
    {
     "data": {
      "text/html": [
       "<pre style=\"white-space:pre;overflow-x:auto;line-height:normal;font-family:Menlo,'DejaVu Sans Mono',consolas,'Courier New',monospace\">sub-DKI28_ses-5_run-<span style=\"color: #008080; text-decoration-color: #008080; font-weight: bold\">2</span>:          a total of <span style=\"color: #008080; text-decoration-color: #008080; font-weight: bold\">203</span> <span style=\"color: #800080; text-decoration-color: #800080\">/</span> <span style=\"color: #008080; text-decoration-color: #008080; font-weight: bold\">2365</span> <span style=\"font-weight: bold\">(</span><span style=\"color: #008080; text-decoration-color: #008080; font-weight: bold\">8.6</span> %<span style=\"font-weight: bold\">)</span> ROIs had zero STD\n",
       "</pre>\n"
      ],
      "text/plain": [
       "sub-DKI28_ses-5_run-\u001b[1;36m2\u001b[0m:          a total of \u001b[1;36m203\u001b[0m \u001b[35m/\u001b[0m \u001b[1;36m2365\u001b[0m \u001b[1m(\u001b[0m\u001b[1;36m8.6\u001b[0m %\u001b[1m)\u001b[0m ROIs had zero STD\n"
      ]
     },
     "metadata": {},
     "output_type": "display_data"
    },
    {
     "data": {
      "text/html": [
       "<pre style=\"white-space:pre;overflow-x:auto;line-height:normal;font-family:Menlo,'DejaVu Sans Mono',consolas,'Courier New',monospace\">sub-DKI28_ses-5_run-<span style=\"color: #008080; text-decoration-color: #008080; font-weight: bold\">3</span>:          a total of <span style=\"color: #008080; text-decoration-color: #008080; font-weight: bold\">196</span> <span style=\"color: #800080; text-decoration-color: #800080\">/</span> <span style=\"color: #008080; text-decoration-color: #008080; font-weight: bold\">2365</span> <span style=\"font-weight: bold\">(</span><span style=\"color: #008080; text-decoration-color: #008080; font-weight: bold\">8.3</span> %<span style=\"font-weight: bold\">)</span> ROIs had zero STD\n",
       "</pre>\n"
      ],
      "text/plain": [
       "sub-DKI28_ses-5_run-\u001b[1;36m3\u001b[0m:          a total of \u001b[1;36m196\u001b[0m \u001b[35m/\u001b[0m \u001b[1;36m2365\u001b[0m \u001b[1m(\u001b[0m\u001b[1;36m8.3\u001b[0m %\u001b[1m)\u001b[0m ROIs had zero STD\n"
      ]
     },
     "metadata": {},
     "output_type": "display_data"
    },
    {
     "data": {
      "text/html": [
       "<pre style=\"white-space:pre;overflow-x:auto;line-height:normal;font-family:Menlo,'DejaVu Sans Mono',consolas,'Courier New',monospace\">sub-DKI28_ses-6_run-<span style=\"color: #008080; text-decoration-color: #008080; font-weight: bold\">1</span>:          a total of <span style=\"color: #008080; text-decoration-color: #008080; font-weight: bold\">229</span> <span style=\"color: #800080; text-decoration-color: #800080\">/</span> <span style=\"color: #008080; text-decoration-color: #008080; font-weight: bold\">2365</span> <span style=\"font-weight: bold\">(</span><span style=\"color: #008080; text-decoration-color: #008080; font-weight: bold\">9.7</span> %<span style=\"font-weight: bold\">)</span> ROIs had zero STD\n",
       "</pre>\n"
      ],
      "text/plain": [
       "sub-DKI28_ses-6_run-\u001b[1;36m1\u001b[0m:          a total of \u001b[1;36m229\u001b[0m \u001b[35m/\u001b[0m \u001b[1;36m2365\u001b[0m \u001b[1m(\u001b[0m\u001b[1;36m9.7\u001b[0m %\u001b[1m)\u001b[0m ROIs had zero STD\n"
      ]
     },
     "metadata": {},
     "output_type": "display_data"
    },
    {
     "data": {
      "text/html": [
       "<pre style=\"white-space:pre;overflow-x:auto;line-height:normal;font-family:Menlo,'DejaVu Sans Mono',consolas,'Courier New',monospace\">sub-DKI28_ses-6_run-<span style=\"color: #008080; text-decoration-color: #008080; font-weight: bold\">2</span>:          a total of <span style=\"color: #008080; text-decoration-color: #008080; font-weight: bold\">275</span> <span style=\"color: #800080; text-decoration-color: #800080\">/</span> <span style=\"color: #008080; text-decoration-color: #008080; font-weight: bold\">2365</span> <span style=\"font-weight: bold\">(</span><span style=\"color: #008080; text-decoration-color: #008080; font-weight: bold\">11.6</span> %<span style=\"font-weight: bold\">)</span> ROIs had zero STD\n",
       "</pre>\n"
      ],
      "text/plain": [
       "sub-DKI28_ses-6_run-\u001b[1;36m2\u001b[0m:          a total of \u001b[1;36m275\u001b[0m \u001b[35m/\u001b[0m \u001b[1;36m2365\u001b[0m \u001b[1m(\u001b[0m\u001b[1;36m11.6\u001b[0m %\u001b[1m)\u001b[0m ROIs had zero STD\n"
      ]
     },
     "metadata": {},
     "output_type": "display_data"
    },
    {
     "data": {
      "text/html": [
       "<pre style=\"white-space:pre;overflow-x:auto;line-height:normal;font-family:Menlo,'DejaVu Sans Mono',consolas,'Courier New',monospace\">sub-DKI28_ses-6_run-<span style=\"color: #008080; text-decoration-color: #008080; font-weight: bold\">3</span>:          a total of <span style=\"color: #008080; text-decoration-color: #008080; font-weight: bold\">250</span> <span style=\"color: #800080; text-decoration-color: #800080\">/</span> <span style=\"color: #008080; text-decoration-color: #008080; font-weight: bold\">2365</span> <span style=\"font-weight: bold\">(</span><span style=\"color: #008080; text-decoration-color: #008080; font-weight: bold\">10.6</span> %<span style=\"font-weight: bold\">)</span> ROIs had zero STD\n",
       "</pre>\n"
      ],
      "text/plain": [
       "sub-DKI28_ses-6_run-\u001b[1;36m3\u001b[0m:          a total of \u001b[1;36m250\u001b[0m \u001b[35m/\u001b[0m \u001b[1;36m2365\u001b[0m \u001b[1m(\u001b[0m\u001b[1;36m10.6\u001b[0m %\u001b[1m)\u001b[0m ROIs had zero STD\n"
      ]
     },
     "metadata": {},
     "output_type": "display_data"
    },
    {
     "data": {
      "text/html": [
       "<pre style=\"white-space:pre;overflow-x:auto;line-height:normal;font-family:Menlo,'DejaVu Sans Mono',consolas,'Courier New',monospace\">sub-DKI29_ses-5_run-<span style=\"color: #008080; text-decoration-color: #008080; font-weight: bold\">1</span>:          a total of <span style=\"color: #008080; text-decoration-color: #008080; font-weight: bold\">201</span> <span style=\"color: #800080; text-decoration-color: #800080\">/</span> <span style=\"color: #008080; text-decoration-color: #008080; font-weight: bold\">2365</span> <span style=\"font-weight: bold\">(</span><span style=\"color: #008080; text-decoration-color: #008080; font-weight: bold\">8.5</span> %<span style=\"font-weight: bold\">)</span> ROIs had zero STD\n",
       "</pre>\n"
      ],
      "text/plain": [
       "sub-DKI29_ses-5_run-\u001b[1;36m1\u001b[0m:          a total of \u001b[1;36m201\u001b[0m \u001b[35m/\u001b[0m \u001b[1;36m2365\u001b[0m \u001b[1m(\u001b[0m\u001b[1;36m8.5\u001b[0m %\u001b[1m)\u001b[0m ROIs had zero STD\n"
      ]
     },
     "metadata": {},
     "output_type": "display_data"
    },
    {
     "data": {
      "text/html": [
       "<pre style=\"white-space:pre;overflow-x:auto;line-height:normal;font-family:Menlo,'DejaVu Sans Mono',consolas,'Courier New',monospace\">sub-DKI29_ses-5_run-<span style=\"color: #008080; text-decoration-color: #008080; font-weight: bold\">2</span>:          a total of <span style=\"color: #008080; text-decoration-color: #008080; font-weight: bold\">179</span> <span style=\"color: #800080; text-decoration-color: #800080\">/</span> <span style=\"color: #008080; text-decoration-color: #008080; font-weight: bold\">2365</span> <span style=\"font-weight: bold\">(</span><span style=\"color: #008080; text-decoration-color: #008080; font-weight: bold\">7.6</span> %<span style=\"font-weight: bold\">)</span> ROIs had zero STD\n",
       "</pre>\n"
      ],
      "text/plain": [
       "sub-DKI29_ses-5_run-\u001b[1;36m2\u001b[0m:          a total of \u001b[1;36m179\u001b[0m \u001b[35m/\u001b[0m \u001b[1;36m2365\u001b[0m \u001b[1m(\u001b[0m\u001b[1;36m7.6\u001b[0m %\u001b[1m)\u001b[0m ROIs had zero STD\n"
      ]
     },
     "metadata": {},
     "output_type": "display_data"
    },
    {
     "data": {
      "text/html": [
       "<pre style=\"white-space:pre;overflow-x:auto;line-height:normal;font-family:Menlo,'DejaVu Sans Mono',consolas,'Courier New',monospace\">sub-DKI29_ses-5_run-<span style=\"color: #008080; text-decoration-color: #008080; font-weight: bold\">3</span>:          a total of <span style=\"color: #008080; text-decoration-color: #008080; font-weight: bold\">184</span> <span style=\"color: #800080; text-decoration-color: #800080\">/</span> <span style=\"color: #008080; text-decoration-color: #008080; font-weight: bold\">2365</span> <span style=\"font-weight: bold\">(</span><span style=\"color: #008080; text-decoration-color: #008080; font-weight: bold\">7.8</span> %<span style=\"font-weight: bold\">)</span> ROIs had zero STD\n",
       "</pre>\n"
      ],
      "text/plain": [
       "sub-DKI29_ses-5_run-\u001b[1;36m3\u001b[0m:          a total of \u001b[1;36m184\u001b[0m \u001b[35m/\u001b[0m \u001b[1;36m2365\u001b[0m \u001b[1m(\u001b[0m\u001b[1;36m7.8\u001b[0m %\u001b[1m)\u001b[0m ROIs had zero STD\n"
      ]
     },
     "metadata": {},
     "output_type": "display_data"
    },
    {
     "data": {
      "text/html": [
       "<pre style=\"white-space:pre;overflow-x:auto;line-height:normal;font-family:Menlo,'DejaVu Sans Mono',consolas,'Courier New',monospace\">sub-DKI29_ses-6_run-<span style=\"color: #008080; text-decoration-color: #008080; font-weight: bold\">1</span>:          a total of <span style=\"color: #008080; text-decoration-color: #008080; font-weight: bold\">203</span> <span style=\"color: #800080; text-decoration-color: #800080\">/</span> <span style=\"color: #008080; text-decoration-color: #008080; font-weight: bold\">2365</span> <span style=\"font-weight: bold\">(</span><span style=\"color: #008080; text-decoration-color: #008080; font-weight: bold\">8.6</span> %<span style=\"font-weight: bold\">)</span> ROIs had zero STD\n",
       "</pre>\n"
      ],
      "text/plain": [
       "sub-DKI29_ses-6_run-\u001b[1;36m1\u001b[0m:          a total of \u001b[1;36m203\u001b[0m \u001b[35m/\u001b[0m \u001b[1;36m2365\u001b[0m \u001b[1m(\u001b[0m\u001b[1;36m8.6\u001b[0m %\u001b[1m)\u001b[0m ROIs had zero STD\n"
      ]
     },
     "metadata": {},
     "output_type": "display_data"
    },
    {
     "data": {
      "text/html": [
       "<pre style=\"white-space:pre;overflow-x:auto;line-height:normal;font-family:Menlo,'DejaVu Sans Mono',consolas,'Courier New',monospace\">sub-DKI29_ses-6_run-<span style=\"color: #008080; text-decoration-color: #008080; font-weight: bold\">2</span>:          a total of <span style=\"color: #008080; text-decoration-color: #008080; font-weight: bold\">182</span> <span style=\"color: #800080; text-decoration-color: #800080\">/</span> <span style=\"color: #008080; text-decoration-color: #008080; font-weight: bold\">2365</span> <span style=\"font-weight: bold\">(</span><span style=\"color: #008080; text-decoration-color: #008080; font-weight: bold\">7.7</span> %<span style=\"font-weight: bold\">)</span> ROIs had zero STD\n",
       "</pre>\n"
      ],
      "text/plain": [
       "sub-DKI29_ses-6_run-\u001b[1;36m2\u001b[0m:          a total of \u001b[1;36m182\u001b[0m \u001b[35m/\u001b[0m \u001b[1;36m2365\u001b[0m \u001b[1m(\u001b[0m\u001b[1;36m7.7\u001b[0m %\u001b[1m)\u001b[0m ROIs had zero STD\n"
      ]
     },
     "metadata": {},
     "output_type": "display_data"
    },
    {
     "data": {
      "text/html": [
       "<pre style=\"white-space:pre;overflow-x:auto;line-height:normal;font-family:Menlo,'DejaVu Sans Mono',consolas,'Courier New',monospace\">sub-DKI30_ses-5_run-<span style=\"color: #008080; text-decoration-color: #008080; font-weight: bold\">1</span>:          a total of <span style=\"color: #008080; text-decoration-color: #008080; font-weight: bold\">201</span> <span style=\"color: #800080; text-decoration-color: #800080\">/</span> <span style=\"color: #008080; text-decoration-color: #008080; font-weight: bold\">2365</span> <span style=\"font-weight: bold\">(</span><span style=\"color: #008080; text-decoration-color: #008080; font-weight: bold\">8.5</span> %<span style=\"font-weight: bold\">)</span> ROIs had zero STD\n",
       "</pre>\n"
      ],
      "text/plain": [
       "sub-DKI30_ses-5_run-\u001b[1;36m1\u001b[0m:          a total of \u001b[1;36m201\u001b[0m \u001b[35m/\u001b[0m \u001b[1;36m2365\u001b[0m \u001b[1m(\u001b[0m\u001b[1;36m8.5\u001b[0m %\u001b[1m)\u001b[0m ROIs had zero STD\n"
      ]
     },
     "metadata": {},
     "output_type": "display_data"
    },
    {
     "data": {
      "text/html": [
       "<pre style=\"white-space:pre;overflow-x:auto;line-height:normal;font-family:Menlo,'DejaVu Sans Mono',consolas,'Courier New',monospace\">sub-DKI30_ses-5_run-<span style=\"color: #008080; text-decoration-color: #008080; font-weight: bold\">2</span>:          a total of <span style=\"color: #008080; text-decoration-color: #008080; font-weight: bold\">230</span> <span style=\"color: #800080; text-decoration-color: #800080\">/</span> <span style=\"color: #008080; text-decoration-color: #008080; font-weight: bold\">2365</span> <span style=\"font-weight: bold\">(</span><span style=\"color: #008080; text-decoration-color: #008080; font-weight: bold\">9.7</span> %<span style=\"font-weight: bold\">)</span> ROIs had zero STD\n",
       "</pre>\n"
      ],
      "text/plain": [
       "sub-DKI30_ses-5_run-\u001b[1;36m2\u001b[0m:          a total of \u001b[1;36m230\u001b[0m \u001b[35m/\u001b[0m \u001b[1;36m2365\u001b[0m \u001b[1m(\u001b[0m\u001b[1;36m9.7\u001b[0m %\u001b[1m)\u001b[0m ROIs had zero STD\n"
      ]
     },
     "metadata": {},
     "output_type": "display_data"
    },
    {
     "data": {
      "text/html": [
       "<pre style=\"white-space:pre;overflow-x:auto;line-height:normal;font-family:Menlo,'DejaVu Sans Mono',consolas,'Courier New',monospace\">sub-DKI30_ses-5_run-<span style=\"color: #008080; text-decoration-color: #008080; font-weight: bold\">3</span>:          a total of <span style=\"color: #008080; text-decoration-color: #008080; font-weight: bold\">164</span> <span style=\"color: #800080; text-decoration-color: #800080\">/</span> <span style=\"color: #008080; text-decoration-color: #008080; font-weight: bold\">2365</span> <span style=\"font-weight: bold\">(</span><span style=\"color: #008080; text-decoration-color: #008080; font-weight: bold\">6.9</span> %<span style=\"font-weight: bold\">)</span> ROIs had zero STD\n",
       "</pre>\n"
      ],
      "text/plain": [
       "sub-DKI30_ses-5_run-\u001b[1;36m3\u001b[0m:          a total of \u001b[1;36m164\u001b[0m \u001b[35m/\u001b[0m \u001b[1;36m2365\u001b[0m \u001b[1m(\u001b[0m\u001b[1;36m6.9\u001b[0m %\u001b[1m)\u001b[0m ROIs had zero STD\n"
      ]
     },
     "metadata": {},
     "output_type": "display_data"
    },
    {
     "data": {
      "text/html": [
       "<pre style=\"white-space:pre;overflow-x:auto;line-height:normal;font-family:Menlo,'DejaVu Sans Mono',consolas,'Courier New',monospace\">sub-DKI30_ses-6_run-<span style=\"color: #008080; text-decoration-color: #008080; font-weight: bold\">1</span>:          a total of <span style=\"color: #008080; text-decoration-color: #008080; font-weight: bold\">225</span> <span style=\"color: #800080; text-decoration-color: #800080\">/</span> <span style=\"color: #008080; text-decoration-color: #008080; font-weight: bold\">2365</span> <span style=\"font-weight: bold\">(</span><span style=\"color: #008080; text-decoration-color: #008080; font-weight: bold\">9.5</span> %<span style=\"font-weight: bold\">)</span> ROIs had zero STD\n",
       "</pre>\n"
      ],
      "text/plain": [
       "sub-DKI30_ses-6_run-\u001b[1;36m1\u001b[0m:          a total of \u001b[1;36m225\u001b[0m \u001b[35m/\u001b[0m \u001b[1;36m2365\u001b[0m \u001b[1m(\u001b[0m\u001b[1;36m9.5\u001b[0m %\u001b[1m)\u001b[0m ROIs had zero STD\n"
      ]
     },
     "metadata": {},
     "output_type": "display_data"
    },
    {
     "data": {
      "text/html": [
       "<pre style=\"white-space:pre;overflow-x:auto;line-height:normal;font-family:Menlo,'DejaVu Sans Mono',consolas,'Courier New',monospace\">sub-DKI30_ses-6_run-<span style=\"color: #008080; text-decoration-color: #008080; font-weight: bold\">2</span>:          a total of <span style=\"color: #008080; text-decoration-color: #008080; font-weight: bold\">220</span> <span style=\"color: #800080; text-decoration-color: #800080\">/</span> <span style=\"color: #008080; text-decoration-color: #008080; font-weight: bold\">2365</span> <span style=\"font-weight: bold\">(</span><span style=\"color: #008080; text-decoration-color: #008080; font-weight: bold\">9.3</span> %<span style=\"font-weight: bold\">)</span> ROIs had zero STD\n",
       "</pre>\n"
      ],
      "text/plain": [
       "sub-DKI30_ses-6_run-\u001b[1;36m2\u001b[0m:          a total of \u001b[1;36m220\u001b[0m \u001b[35m/\u001b[0m \u001b[1;36m2365\u001b[0m \u001b[1m(\u001b[0m\u001b[1;36m9.3\u001b[0m %\u001b[1m)\u001b[0m ROIs had zero STD\n"
      ]
     },
     "metadata": {},
     "output_type": "display_data"
    },
    {
     "data": {
      "text/html": [
       "<pre style=\"white-space:pre;overflow-x:auto;line-height:normal;font-family:Menlo,'DejaVu Sans Mono',consolas,'Courier New',monospace\">sub-DKI30_ses-6_run-<span style=\"color: #008080; text-decoration-color: #008080; font-weight: bold\">3</span>:          a total of <span style=\"color: #008080; text-decoration-color: #008080; font-weight: bold\">245</span> <span style=\"color: #800080; text-decoration-color: #800080\">/</span> <span style=\"color: #008080; text-decoration-color: #008080; font-weight: bold\">2365</span> <span style=\"font-weight: bold\">(</span><span style=\"color: #008080; text-decoration-color: #008080; font-weight: bold\">10.4</span> %<span style=\"font-weight: bold\">)</span> ROIs had zero STD\n",
       "</pre>\n"
      ],
      "text/plain": [
       "sub-DKI30_ses-6_run-\u001b[1;36m3\u001b[0m:          a total of \u001b[1;36m245\u001b[0m \u001b[35m/\u001b[0m \u001b[1;36m2365\u001b[0m \u001b[1m(\u001b[0m\u001b[1;36m10.4\u001b[0m %\u001b[1m)\u001b[0m ROIs had zero STD\n"
      ]
     },
     "metadata": {},
     "output_type": "display_data"
    },
    {
     "data": {
      "text/html": [
       "<pre style=\"white-space:pre;overflow-x:auto;line-height:normal;font-family:Menlo,'DejaVu Sans Mono',consolas,'Courier New',monospace\">sub-DKI31_ses-5_run-<span style=\"color: #008080; text-decoration-color: #008080; font-weight: bold\">1</span>:          a total of <span style=\"color: #008080; text-decoration-color: #008080; font-weight: bold\">241</span> <span style=\"color: #800080; text-decoration-color: #800080\">/</span> <span style=\"color: #008080; text-decoration-color: #008080; font-weight: bold\">2365</span> <span style=\"font-weight: bold\">(</span><span style=\"color: #008080; text-decoration-color: #008080; font-weight: bold\">10.2</span> %<span style=\"font-weight: bold\">)</span> ROIs had zero STD\n",
       "</pre>\n"
      ],
      "text/plain": [
       "sub-DKI31_ses-5_run-\u001b[1;36m1\u001b[0m:          a total of \u001b[1;36m241\u001b[0m \u001b[35m/\u001b[0m \u001b[1;36m2365\u001b[0m \u001b[1m(\u001b[0m\u001b[1;36m10.2\u001b[0m %\u001b[1m)\u001b[0m ROIs had zero STD\n"
      ]
     },
     "metadata": {},
     "output_type": "display_data"
    },
    {
     "data": {
      "text/html": [
       "<pre style=\"white-space:pre;overflow-x:auto;line-height:normal;font-family:Menlo,'DejaVu Sans Mono',consolas,'Courier New',monospace\">sub-DKI31_ses-5_run-<span style=\"color: #008080; text-decoration-color: #008080; font-weight: bold\">2</span>:          a total of <span style=\"color: #008080; text-decoration-color: #008080; font-weight: bold\">244</span> <span style=\"color: #800080; text-decoration-color: #800080\">/</span> <span style=\"color: #008080; text-decoration-color: #008080; font-weight: bold\">2365</span> <span style=\"font-weight: bold\">(</span><span style=\"color: #008080; text-decoration-color: #008080; font-weight: bold\">10.3</span> %<span style=\"font-weight: bold\">)</span> ROIs had zero STD\n",
       "</pre>\n"
      ],
      "text/plain": [
       "sub-DKI31_ses-5_run-\u001b[1;36m2\u001b[0m:          a total of \u001b[1;36m244\u001b[0m \u001b[35m/\u001b[0m \u001b[1;36m2365\u001b[0m \u001b[1m(\u001b[0m\u001b[1;36m10.3\u001b[0m %\u001b[1m)\u001b[0m ROIs had zero STD\n"
      ]
     },
     "metadata": {},
     "output_type": "display_data"
    },
    {
     "data": {
      "text/html": [
       "<pre style=\"white-space:pre;overflow-x:auto;line-height:normal;font-family:Menlo,'DejaVu Sans Mono',consolas,'Courier New',monospace\">sub-DKI31_ses-5_run-<span style=\"color: #008080; text-decoration-color: #008080; font-weight: bold\">3</span>:          a total of <span style=\"color: #008080; text-decoration-color: #008080; font-weight: bold\">253</span> <span style=\"color: #800080; text-decoration-color: #800080\">/</span> <span style=\"color: #008080; text-decoration-color: #008080; font-weight: bold\">2365</span> <span style=\"font-weight: bold\">(</span><span style=\"color: #008080; text-decoration-color: #008080; font-weight: bold\">10.7</span> %<span style=\"font-weight: bold\">)</span> ROIs had zero STD\n",
       "</pre>\n"
      ],
      "text/plain": [
       "sub-DKI31_ses-5_run-\u001b[1;36m3\u001b[0m:          a total of \u001b[1;36m253\u001b[0m \u001b[35m/\u001b[0m \u001b[1;36m2365\u001b[0m \u001b[1m(\u001b[0m\u001b[1;36m10.7\u001b[0m %\u001b[1m)\u001b[0m ROIs had zero STD\n"
      ]
     },
     "metadata": {},
     "output_type": "display_data"
    },
    {
     "data": {
      "text/html": [
       "<pre style=\"white-space:pre;overflow-x:auto;line-height:normal;font-family:Menlo,'DejaVu Sans Mono',consolas,'Courier New',monospace\">sub-DKI31_ses-6_run-<span style=\"color: #008080; text-decoration-color: #008080; font-weight: bold\">1</span>:          a total of <span style=\"color: #008080; text-decoration-color: #008080; font-weight: bold\">151</span> <span style=\"color: #800080; text-decoration-color: #800080\">/</span> <span style=\"color: #008080; text-decoration-color: #008080; font-weight: bold\">2365</span> <span style=\"font-weight: bold\">(</span><span style=\"color: #008080; text-decoration-color: #008080; font-weight: bold\">6.4</span> %<span style=\"font-weight: bold\">)</span> ROIs had zero STD\n",
       "</pre>\n"
      ],
      "text/plain": [
       "sub-DKI31_ses-6_run-\u001b[1;36m1\u001b[0m:          a total of \u001b[1;36m151\u001b[0m \u001b[35m/\u001b[0m \u001b[1;36m2365\u001b[0m \u001b[1m(\u001b[0m\u001b[1;36m6.4\u001b[0m %\u001b[1m)\u001b[0m ROIs had zero STD\n"
      ]
     },
     "metadata": {},
     "output_type": "display_data"
    },
    {
     "data": {
      "text/html": [
       "<pre style=\"white-space:pre;overflow-x:auto;line-height:normal;font-family:Menlo,'DejaVu Sans Mono',consolas,'Courier New',monospace\">sub-DKI31_ses-6_run-<span style=\"color: #008080; text-decoration-color: #008080; font-weight: bold\">2</span>:          a total of <span style=\"color: #008080; text-decoration-color: #008080; font-weight: bold\">232</span> <span style=\"color: #800080; text-decoration-color: #800080\">/</span> <span style=\"color: #008080; text-decoration-color: #008080; font-weight: bold\">2365</span> <span style=\"font-weight: bold\">(</span><span style=\"color: #008080; text-decoration-color: #008080; font-weight: bold\">9.8</span> %<span style=\"font-weight: bold\">)</span> ROIs had zero STD\n",
       "</pre>\n"
      ],
      "text/plain": [
       "sub-DKI31_ses-6_run-\u001b[1;36m2\u001b[0m:          a total of \u001b[1;36m232\u001b[0m \u001b[35m/\u001b[0m \u001b[1;36m2365\u001b[0m \u001b[1m(\u001b[0m\u001b[1;36m9.8\u001b[0m %\u001b[1m)\u001b[0m ROIs had zero STD\n"
      ]
     },
     "metadata": {},
     "output_type": "display_data"
    },
    {
     "data": {
      "text/html": [
       "<pre style=\"white-space:pre;overflow-x:auto;line-height:normal;font-family:Menlo,'DejaVu Sans Mono',consolas,'Courier New',monospace\">sub-DKI31_ses-6_run-<span style=\"color: #008080; text-decoration-color: #008080; font-weight: bold\">3</span>:          a total of <span style=\"color: #008080; text-decoration-color: #008080; font-weight: bold\">207</span> <span style=\"color: #800080; text-decoration-color: #800080\">/</span> <span style=\"color: #008080; text-decoration-color: #008080; font-weight: bold\">2365</span> <span style=\"font-weight: bold\">(</span><span style=\"color: #008080; text-decoration-color: #008080; font-weight: bold\">8.8</span> %<span style=\"font-weight: bold\">)</span> ROIs had zero STD\n",
       "</pre>\n"
      ],
      "text/plain": [
       "sub-DKI31_ses-6_run-\u001b[1;36m3\u001b[0m:          a total of \u001b[1;36m207\u001b[0m \u001b[35m/\u001b[0m \u001b[1;36m2365\u001b[0m \u001b[1m(\u001b[0m\u001b[1;36m8.8\u001b[0m %\u001b[1m)\u001b[0m ROIs had zero STD\n"
      ]
     },
     "metadata": {},
     "output_type": "display_data"
    },
    {
     "data": {
      "text/html": [
       "<pre style=\"white-space:pre;overflow-x:auto;line-height:normal;font-family:Menlo,'DejaVu Sans Mono',consolas,'Courier New',monospace\">sub-DKI32_ses-5_run-<span style=\"color: #008080; text-decoration-color: #008080; font-weight: bold\">1</span>:          a total of <span style=\"color: #008080; text-decoration-color: #008080; font-weight: bold\">274</span> <span style=\"color: #800080; text-decoration-color: #800080\">/</span> <span style=\"color: #008080; text-decoration-color: #008080; font-weight: bold\">2365</span> <span style=\"font-weight: bold\">(</span><span style=\"color: #008080; text-decoration-color: #008080; font-weight: bold\">11.6</span> %<span style=\"font-weight: bold\">)</span> ROIs had zero STD\n",
       "</pre>\n"
      ],
      "text/plain": [
       "sub-DKI32_ses-5_run-\u001b[1;36m1\u001b[0m:          a total of \u001b[1;36m274\u001b[0m \u001b[35m/\u001b[0m \u001b[1;36m2365\u001b[0m \u001b[1m(\u001b[0m\u001b[1;36m11.6\u001b[0m %\u001b[1m)\u001b[0m ROIs had zero STD\n"
      ]
     },
     "metadata": {},
     "output_type": "display_data"
    },
    {
     "data": {
      "text/html": [
       "<pre style=\"white-space:pre;overflow-x:auto;line-height:normal;font-family:Menlo,'DejaVu Sans Mono',consolas,'Courier New',monospace\">sub-DKI32_ses-5_run-<span style=\"color: #008080; text-decoration-color: #008080; font-weight: bold\">2</span>:          a total of <span style=\"color: #008080; text-decoration-color: #008080; font-weight: bold\">278</span> <span style=\"color: #800080; text-decoration-color: #800080\">/</span> <span style=\"color: #008080; text-decoration-color: #008080; font-weight: bold\">2365</span> <span style=\"font-weight: bold\">(</span><span style=\"color: #008080; text-decoration-color: #008080; font-weight: bold\">11.8</span> %<span style=\"font-weight: bold\">)</span> ROIs had zero STD\n",
       "</pre>\n"
      ],
      "text/plain": [
       "sub-DKI32_ses-5_run-\u001b[1;36m2\u001b[0m:          a total of \u001b[1;36m278\u001b[0m \u001b[35m/\u001b[0m \u001b[1;36m2365\u001b[0m \u001b[1m(\u001b[0m\u001b[1;36m11.8\u001b[0m %\u001b[1m)\u001b[0m ROIs had zero STD\n"
      ]
     },
     "metadata": {},
     "output_type": "display_data"
    },
    {
     "data": {
      "text/html": [
       "<pre style=\"white-space:pre;overflow-x:auto;line-height:normal;font-family:Menlo,'DejaVu Sans Mono',consolas,'Courier New',monospace\">sub-DKI32_ses-5_run-<span style=\"color: #008080; text-decoration-color: #008080; font-weight: bold\">3</span>:          a total of <span style=\"color: #008080; text-decoration-color: #008080; font-weight: bold\">251</span> <span style=\"color: #800080; text-decoration-color: #800080\">/</span> <span style=\"color: #008080; text-decoration-color: #008080; font-weight: bold\">2365</span> <span style=\"font-weight: bold\">(</span><span style=\"color: #008080; text-decoration-color: #008080; font-weight: bold\">10.6</span> %<span style=\"font-weight: bold\">)</span> ROIs had zero STD\n",
       "</pre>\n"
      ],
      "text/plain": [
       "sub-DKI32_ses-5_run-\u001b[1;36m3\u001b[0m:          a total of \u001b[1;36m251\u001b[0m \u001b[35m/\u001b[0m \u001b[1;36m2365\u001b[0m \u001b[1m(\u001b[0m\u001b[1;36m10.6\u001b[0m %\u001b[1m)\u001b[0m ROIs had zero STD\n"
      ]
     },
     "metadata": {},
     "output_type": "display_data"
    },
    {
     "data": {
      "text/html": [
       "<pre style=\"white-space:pre;overflow-x:auto;line-height:normal;font-family:Menlo,'DejaVu Sans Mono',consolas,'Courier New',monospace\">sub-DKI32_ses-6_run-<span style=\"color: #008080; text-decoration-color: #008080; font-weight: bold\">1</span>:          a total of <span style=\"color: #008080; text-decoration-color: #008080; font-weight: bold\">239</span> <span style=\"color: #800080; text-decoration-color: #800080\">/</span> <span style=\"color: #008080; text-decoration-color: #008080; font-weight: bold\">2365</span> <span style=\"font-weight: bold\">(</span><span style=\"color: #008080; text-decoration-color: #008080; font-weight: bold\">10.1</span> %<span style=\"font-weight: bold\">)</span> ROIs had zero STD\n",
       "</pre>\n"
      ],
      "text/plain": [
       "sub-DKI32_ses-6_run-\u001b[1;36m1\u001b[0m:          a total of \u001b[1;36m239\u001b[0m \u001b[35m/\u001b[0m \u001b[1;36m2365\u001b[0m \u001b[1m(\u001b[0m\u001b[1;36m10.1\u001b[0m %\u001b[1m)\u001b[0m ROIs had zero STD\n"
      ]
     },
     "metadata": {},
     "output_type": "display_data"
    },
    {
     "data": {
      "text/html": [
       "<pre style=\"white-space:pre;overflow-x:auto;line-height:normal;font-family:Menlo,'DejaVu Sans Mono',consolas,'Courier New',monospace\">sub-DKI32_ses-6_run-<span style=\"color: #008080; text-decoration-color: #008080; font-weight: bold\">2</span>:          a total of <span style=\"color: #008080; text-decoration-color: #008080; font-weight: bold\">218</span> <span style=\"color: #800080; text-decoration-color: #800080\">/</span> <span style=\"color: #008080; text-decoration-color: #008080; font-weight: bold\">2365</span> <span style=\"font-weight: bold\">(</span><span style=\"color: #008080; text-decoration-color: #008080; font-weight: bold\">9.2</span> %<span style=\"font-weight: bold\">)</span> ROIs had zero STD\n",
       "</pre>\n"
      ],
      "text/plain": [
       "sub-DKI32_ses-6_run-\u001b[1;36m2\u001b[0m:          a total of \u001b[1;36m218\u001b[0m \u001b[35m/\u001b[0m \u001b[1;36m2365\u001b[0m \u001b[1m(\u001b[0m\u001b[1;36m9.2\u001b[0m %\u001b[1m)\u001b[0m ROIs had zero STD\n"
      ]
     },
     "metadata": {},
     "output_type": "display_data"
    },
    {
     "data": {
      "text/html": [
       "<pre style=\"white-space:pre;overflow-x:auto;line-height:normal;font-family:Menlo,'DejaVu Sans Mono',consolas,'Courier New',monospace\">sub-DKI32_ses-6_run-<span style=\"color: #008080; text-decoration-color: #008080; font-weight: bold\">3</span>:          a total of <span style=\"color: #008080; text-decoration-color: #008080; font-weight: bold\">232</span> <span style=\"color: #800080; text-decoration-color: #800080\">/</span> <span style=\"color: #008080; text-decoration-color: #008080; font-weight: bold\">2365</span> <span style=\"font-weight: bold\">(</span><span style=\"color: #008080; text-decoration-color: #008080; font-weight: bold\">9.8</span> %<span style=\"font-weight: bold\">)</span> ROIs had zero STD\n",
       "</pre>\n"
      ],
      "text/plain": [
       "sub-DKI32_ses-6_run-\u001b[1;36m3\u001b[0m:          a total of \u001b[1;36m232\u001b[0m \u001b[35m/\u001b[0m \u001b[1;36m2365\u001b[0m \u001b[1m(\u001b[0m\u001b[1;36m9.8\u001b[0m %\u001b[1m)\u001b[0m ROIs had zero STD\n"
      ]
     },
     "metadata": {},
     "output_type": "display_data"
    },
    {
     "data": {
      "text/html": [
       "<pre style=\"white-space:pre;overflow-x:auto;line-height:normal;font-family:Menlo,'DejaVu Sans Mono',consolas,'Courier New',monospace\">sub-DKI33_ses-5_run-<span style=\"color: #008080; text-decoration-color: #008080; font-weight: bold\">1</span>:          a total of <span style=\"color: #008080; text-decoration-color: #008080; font-weight: bold\">284</span> <span style=\"color: #800080; text-decoration-color: #800080\">/</span> <span style=\"color: #008080; text-decoration-color: #008080; font-weight: bold\">2365</span> <span style=\"font-weight: bold\">(</span><span style=\"color: #008080; text-decoration-color: #008080; font-weight: bold\">12.0</span> %<span style=\"font-weight: bold\">)</span> ROIs had zero STD\n",
       "</pre>\n"
      ],
      "text/plain": [
       "sub-DKI33_ses-5_run-\u001b[1;36m1\u001b[0m:          a total of \u001b[1;36m284\u001b[0m \u001b[35m/\u001b[0m \u001b[1;36m2365\u001b[0m \u001b[1m(\u001b[0m\u001b[1;36m12.0\u001b[0m %\u001b[1m)\u001b[0m ROIs had zero STD\n"
      ]
     },
     "metadata": {},
     "output_type": "display_data"
    },
    {
     "data": {
      "text/html": [
       "<pre style=\"white-space:pre;overflow-x:auto;line-height:normal;font-family:Menlo,'DejaVu Sans Mono',consolas,'Courier New',monospace\">sub-DKI33_ses-5_run-<span style=\"color: #008080; text-decoration-color: #008080; font-weight: bold\">2</span>:          a total of <span style=\"color: #008080; text-decoration-color: #008080; font-weight: bold\">323</span> <span style=\"color: #800080; text-decoration-color: #800080\">/</span> <span style=\"color: #008080; text-decoration-color: #008080; font-weight: bold\">2365</span> <span style=\"font-weight: bold\">(</span><span style=\"color: #008080; text-decoration-color: #008080; font-weight: bold\">13.7</span> %<span style=\"font-weight: bold\">)</span> ROIs had zero STD\n",
       "</pre>\n"
      ],
      "text/plain": [
       "sub-DKI33_ses-5_run-\u001b[1;36m2\u001b[0m:          a total of \u001b[1;36m323\u001b[0m \u001b[35m/\u001b[0m \u001b[1;36m2365\u001b[0m \u001b[1m(\u001b[0m\u001b[1;36m13.7\u001b[0m %\u001b[1m)\u001b[0m ROIs had zero STD\n"
      ]
     },
     "metadata": {},
     "output_type": "display_data"
    },
    {
     "data": {
      "text/html": [
       "<pre style=\"white-space:pre;overflow-x:auto;line-height:normal;font-family:Menlo,'DejaVu Sans Mono',consolas,'Courier New',monospace\">sub-DKI33_ses-5_run-<span style=\"color: #008080; text-decoration-color: #008080; font-weight: bold\">3</span>:          a total of <span style=\"color: #008080; text-decoration-color: #008080; font-weight: bold\">293</span> <span style=\"color: #800080; text-decoration-color: #800080\">/</span> <span style=\"color: #008080; text-decoration-color: #008080; font-weight: bold\">2365</span> <span style=\"font-weight: bold\">(</span><span style=\"color: #008080; text-decoration-color: #008080; font-weight: bold\">12.4</span> %<span style=\"font-weight: bold\">)</span> ROIs had zero STD\n",
       "</pre>\n"
      ],
      "text/plain": [
       "sub-DKI33_ses-5_run-\u001b[1;36m3\u001b[0m:          a total of \u001b[1;36m293\u001b[0m \u001b[35m/\u001b[0m \u001b[1;36m2365\u001b[0m \u001b[1m(\u001b[0m\u001b[1;36m12.4\u001b[0m %\u001b[1m)\u001b[0m ROIs had zero STD\n"
      ]
     },
     "metadata": {},
     "output_type": "display_data"
    },
    {
     "data": {
      "text/html": [
       "<pre style=\"white-space:pre;overflow-x:auto;line-height:normal;font-family:Menlo,'DejaVu Sans Mono',consolas,'Courier New',monospace\">sub-DKI33_ses-6_run-<span style=\"color: #008080; text-decoration-color: #008080; font-weight: bold\">1</span>:          a total of <span style=\"color: #008080; text-decoration-color: #008080; font-weight: bold\">288</span> <span style=\"color: #800080; text-decoration-color: #800080\">/</span> <span style=\"color: #008080; text-decoration-color: #008080; font-weight: bold\">2365</span> <span style=\"font-weight: bold\">(</span><span style=\"color: #008080; text-decoration-color: #008080; font-weight: bold\">12.2</span> %<span style=\"font-weight: bold\">)</span> ROIs had zero STD\n",
       "</pre>\n"
      ],
      "text/plain": [
       "sub-DKI33_ses-6_run-\u001b[1;36m1\u001b[0m:          a total of \u001b[1;36m288\u001b[0m \u001b[35m/\u001b[0m \u001b[1;36m2365\u001b[0m \u001b[1m(\u001b[0m\u001b[1;36m12.2\u001b[0m %\u001b[1m)\u001b[0m ROIs had zero STD\n"
      ]
     },
     "metadata": {},
     "output_type": "display_data"
    },
    {
     "data": {
      "text/html": [
       "<pre style=\"white-space:pre;overflow-x:auto;line-height:normal;font-family:Menlo,'DejaVu Sans Mono',consolas,'Courier New',monospace\">sub-DKI33_ses-6_run-<span style=\"color: #008080; text-decoration-color: #008080; font-weight: bold\">2</span>:          a total of <span style=\"color: #008080; text-decoration-color: #008080; font-weight: bold\">285</span> <span style=\"color: #800080; text-decoration-color: #800080\">/</span> <span style=\"color: #008080; text-decoration-color: #008080; font-weight: bold\">2365</span> <span style=\"font-weight: bold\">(</span><span style=\"color: #008080; text-decoration-color: #008080; font-weight: bold\">12.1</span> %<span style=\"font-weight: bold\">)</span> ROIs had zero STD\n",
       "</pre>\n"
      ],
      "text/plain": [
       "sub-DKI33_ses-6_run-\u001b[1;36m2\u001b[0m:          a total of \u001b[1;36m285\u001b[0m \u001b[35m/\u001b[0m \u001b[1;36m2365\u001b[0m \u001b[1m(\u001b[0m\u001b[1;36m12.1\u001b[0m %\u001b[1m)\u001b[0m ROIs had zero STD\n"
      ]
     },
     "metadata": {},
     "output_type": "display_data"
    },
    {
     "data": {
      "text/html": [
       "<pre style=\"white-space:pre;overflow-x:auto;line-height:normal;font-family:Menlo,'DejaVu Sans Mono',consolas,'Courier New',monospace\">sub-DKI33_ses-6_run-<span style=\"color: #008080; text-decoration-color: #008080; font-weight: bold\">3</span>:          a total of <span style=\"color: #008080; text-decoration-color: #008080; font-weight: bold\">189</span> <span style=\"color: #800080; text-decoration-color: #800080\">/</span> <span style=\"color: #008080; text-decoration-color: #008080; font-weight: bold\">2365</span> <span style=\"font-weight: bold\">(</span><span style=\"color: #008080; text-decoration-color: #008080; font-weight: bold\">8.0</span> %<span style=\"font-weight: bold\">)</span> ROIs had zero STD\n",
       "</pre>\n"
      ],
      "text/plain": [
       "sub-DKI33_ses-6_run-\u001b[1;36m3\u001b[0m:          a total of \u001b[1;36m189\u001b[0m \u001b[35m/\u001b[0m \u001b[1;36m2365\u001b[0m \u001b[1m(\u001b[0m\u001b[1;36m8.0\u001b[0m %\u001b[1m)\u001b[0m ROIs had zero STD\n"
      ]
     },
     "metadata": {},
     "output_type": "display_data"
    },
    {
     "data": {
      "text/html": [
       "<pre style=\"white-space:pre;overflow-x:auto;line-height:normal;font-family:Menlo,'DejaVu Sans Mono',consolas,'Courier New',monospace\">sub-DKI34_ses-5_run-<span style=\"color: #008080; text-decoration-color: #008080; font-weight: bold\">1</span>:          a total of <span style=\"color: #008080; text-decoration-color: #008080; font-weight: bold\">259</span> <span style=\"color: #800080; text-decoration-color: #800080\">/</span> <span style=\"color: #008080; text-decoration-color: #008080; font-weight: bold\">2365</span> <span style=\"font-weight: bold\">(</span><span style=\"color: #008080; text-decoration-color: #008080; font-weight: bold\">11.0</span> %<span style=\"font-weight: bold\">)</span> ROIs had zero STD\n",
       "</pre>\n"
      ],
      "text/plain": [
       "sub-DKI34_ses-5_run-\u001b[1;36m1\u001b[0m:          a total of \u001b[1;36m259\u001b[0m \u001b[35m/\u001b[0m \u001b[1;36m2365\u001b[0m \u001b[1m(\u001b[0m\u001b[1;36m11.0\u001b[0m %\u001b[1m)\u001b[0m ROIs had zero STD\n"
      ]
     },
     "metadata": {},
     "output_type": "display_data"
    },
    {
     "data": {
      "text/html": [
       "<pre style=\"white-space:pre;overflow-x:auto;line-height:normal;font-family:Menlo,'DejaVu Sans Mono',consolas,'Courier New',monospace\">sub-DKI34_ses-5_run-<span style=\"color: #008080; text-decoration-color: #008080; font-weight: bold\">2</span>:          a total of <span style=\"color: #008080; text-decoration-color: #008080; font-weight: bold\">286</span> <span style=\"color: #800080; text-decoration-color: #800080\">/</span> <span style=\"color: #008080; text-decoration-color: #008080; font-weight: bold\">2365</span> <span style=\"font-weight: bold\">(</span><span style=\"color: #008080; text-decoration-color: #008080; font-weight: bold\">12.1</span> %<span style=\"font-weight: bold\">)</span> ROIs had zero STD\n",
       "</pre>\n"
      ],
      "text/plain": [
       "sub-DKI34_ses-5_run-\u001b[1;36m2\u001b[0m:          a total of \u001b[1;36m286\u001b[0m \u001b[35m/\u001b[0m \u001b[1;36m2365\u001b[0m \u001b[1m(\u001b[0m\u001b[1;36m12.1\u001b[0m %\u001b[1m)\u001b[0m ROIs had zero STD\n"
      ]
     },
     "metadata": {},
     "output_type": "display_data"
    },
    {
     "data": {
      "text/html": [
       "<pre style=\"white-space:pre;overflow-x:auto;line-height:normal;font-family:Menlo,'DejaVu Sans Mono',consolas,'Courier New',monospace\">sub-DKI34_ses-5_run-<span style=\"color: #008080; text-decoration-color: #008080; font-weight: bold\">3</span>:          a total of <span style=\"color: #008080; text-decoration-color: #008080; font-weight: bold\">235</span> <span style=\"color: #800080; text-decoration-color: #800080\">/</span> <span style=\"color: #008080; text-decoration-color: #008080; font-weight: bold\">2365</span> <span style=\"font-weight: bold\">(</span><span style=\"color: #008080; text-decoration-color: #008080; font-weight: bold\">9.9</span> %<span style=\"font-weight: bold\">)</span> ROIs had zero STD\n",
       "</pre>\n"
      ],
      "text/plain": [
       "sub-DKI34_ses-5_run-\u001b[1;36m3\u001b[0m:          a total of \u001b[1;36m235\u001b[0m \u001b[35m/\u001b[0m \u001b[1;36m2365\u001b[0m \u001b[1m(\u001b[0m\u001b[1;36m9.9\u001b[0m %\u001b[1m)\u001b[0m ROIs had zero STD\n"
      ]
     },
     "metadata": {},
     "output_type": "display_data"
    },
    {
     "data": {
      "text/html": [
       "<pre style=\"white-space:pre;overflow-x:auto;line-height:normal;font-family:Menlo,'DejaVu Sans Mono',consolas,'Courier New',monospace\">sub-DKI34_ses-6_run-<span style=\"color: #008080; text-decoration-color: #008080; font-weight: bold\">1</span>:          a total of <span style=\"color: #008080; text-decoration-color: #008080; font-weight: bold\">176</span> <span style=\"color: #800080; text-decoration-color: #800080\">/</span> <span style=\"color: #008080; text-decoration-color: #008080; font-weight: bold\">2365</span> <span style=\"font-weight: bold\">(</span><span style=\"color: #008080; text-decoration-color: #008080; font-weight: bold\">7.4</span> %<span style=\"font-weight: bold\">)</span> ROIs had zero STD\n",
       "</pre>\n"
      ],
      "text/plain": [
       "sub-DKI34_ses-6_run-\u001b[1;36m1\u001b[0m:          a total of \u001b[1;36m176\u001b[0m \u001b[35m/\u001b[0m \u001b[1;36m2365\u001b[0m \u001b[1m(\u001b[0m\u001b[1;36m7.4\u001b[0m %\u001b[1m)\u001b[0m ROIs had zero STD\n"
      ]
     },
     "metadata": {},
     "output_type": "display_data"
    },
    {
     "data": {
      "text/html": [
       "<pre style=\"white-space:pre;overflow-x:auto;line-height:normal;font-family:Menlo,'DejaVu Sans Mono',consolas,'Courier New',monospace\">sub-DKI34_ses-6_run-<span style=\"color: #008080; text-decoration-color: #008080; font-weight: bold\">2</span>:          a total of <span style=\"color: #008080; text-decoration-color: #008080; font-weight: bold\">161</span> <span style=\"color: #800080; text-decoration-color: #800080\">/</span> <span style=\"color: #008080; text-decoration-color: #008080; font-weight: bold\">2365</span> <span style=\"font-weight: bold\">(</span><span style=\"color: #008080; text-decoration-color: #008080; font-weight: bold\">6.8</span> %<span style=\"font-weight: bold\">)</span> ROIs had zero STD\n",
       "</pre>\n"
      ],
      "text/plain": [
       "sub-DKI34_ses-6_run-\u001b[1;36m2\u001b[0m:          a total of \u001b[1;36m161\u001b[0m \u001b[35m/\u001b[0m \u001b[1;36m2365\u001b[0m \u001b[1m(\u001b[0m\u001b[1;36m6.8\u001b[0m %\u001b[1m)\u001b[0m ROIs had zero STD\n"
      ]
     },
     "metadata": {},
     "output_type": "display_data"
    },
    {
     "data": {
      "text/html": [
       "<pre style=\"white-space:pre;overflow-x:auto;line-height:normal;font-family:Menlo,'DejaVu Sans Mono',consolas,'Courier New',monospace\">sub-DKI34_ses-6_run-<span style=\"color: #008080; text-decoration-color: #008080; font-weight: bold\">3</span>:          a total of <span style=\"color: #008080; text-decoration-color: #008080; font-weight: bold\">126</span> <span style=\"color: #800080; text-decoration-color: #800080\">/</span> <span style=\"color: #008080; text-decoration-color: #008080; font-weight: bold\">2365</span> <span style=\"font-weight: bold\">(</span><span style=\"color: #008080; text-decoration-color: #008080; font-weight: bold\">5.3</span> %<span style=\"font-weight: bold\">)</span> ROIs had zero STD\n",
       "</pre>\n"
      ],
      "text/plain": [
       "sub-DKI34_ses-6_run-\u001b[1;36m3\u001b[0m:          a total of \u001b[1;36m126\u001b[0m \u001b[35m/\u001b[0m \u001b[1;36m2365\u001b[0m \u001b[1m(\u001b[0m\u001b[1;36m5.3\u001b[0m %\u001b[1m)\u001b[0m ROIs had zero STD\n"
      ]
     },
     "metadata": {},
     "output_type": "display_data"
    },
    {
     "data": {
      "text/html": [
       "<pre style=\"white-space:pre;overflow-x:auto;line-height:normal;font-family:Menlo,'DejaVu Sans Mono',consolas,'Courier New',monospace\">sub-DKI35_ses-5_run-<span style=\"color: #008080; text-decoration-color: #008080; font-weight: bold\">1</span>:          a total of <span style=\"color: #008080; text-decoration-color: #008080; font-weight: bold\">163</span> <span style=\"color: #800080; text-decoration-color: #800080\">/</span> <span style=\"color: #008080; text-decoration-color: #008080; font-weight: bold\">2365</span> <span style=\"font-weight: bold\">(</span><span style=\"color: #008080; text-decoration-color: #008080; font-weight: bold\">6.9</span> %<span style=\"font-weight: bold\">)</span> ROIs had zero STD\n",
       "</pre>\n"
      ],
      "text/plain": [
       "sub-DKI35_ses-5_run-\u001b[1;36m1\u001b[0m:          a total of \u001b[1;36m163\u001b[0m \u001b[35m/\u001b[0m \u001b[1;36m2365\u001b[0m \u001b[1m(\u001b[0m\u001b[1;36m6.9\u001b[0m %\u001b[1m)\u001b[0m ROIs had zero STD\n"
      ]
     },
     "metadata": {},
     "output_type": "display_data"
    },
    {
     "data": {
      "text/html": [
       "<pre style=\"white-space:pre;overflow-x:auto;line-height:normal;font-family:Menlo,'DejaVu Sans Mono',consolas,'Courier New',monospace\">sub-DKI35_ses-5_run-<span style=\"color: #008080; text-decoration-color: #008080; font-weight: bold\">2</span>:          a total of <span style=\"color: #008080; text-decoration-color: #008080; font-weight: bold\">177</span> <span style=\"color: #800080; text-decoration-color: #800080\">/</span> <span style=\"color: #008080; text-decoration-color: #008080; font-weight: bold\">2365</span> <span style=\"font-weight: bold\">(</span><span style=\"color: #008080; text-decoration-color: #008080; font-weight: bold\">7.5</span> %<span style=\"font-weight: bold\">)</span> ROIs had zero STD\n",
       "</pre>\n"
      ],
      "text/plain": [
       "sub-DKI35_ses-5_run-\u001b[1;36m2\u001b[0m:          a total of \u001b[1;36m177\u001b[0m \u001b[35m/\u001b[0m \u001b[1;36m2365\u001b[0m \u001b[1m(\u001b[0m\u001b[1;36m7.5\u001b[0m %\u001b[1m)\u001b[0m ROIs had zero STD\n"
      ]
     },
     "metadata": {},
     "output_type": "display_data"
    },
    {
     "data": {
      "text/html": [
       "<pre style=\"white-space:pre;overflow-x:auto;line-height:normal;font-family:Menlo,'DejaVu Sans Mono',consolas,'Courier New',monospace\">sub-DKI35_ses-5_run-<span style=\"color: #008080; text-decoration-color: #008080; font-weight: bold\">3</span>:          a total of <span style=\"color: #008080; text-decoration-color: #008080; font-weight: bold\">156</span> <span style=\"color: #800080; text-decoration-color: #800080\">/</span> <span style=\"color: #008080; text-decoration-color: #008080; font-weight: bold\">2365</span> <span style=\"font-weight: bold\">(</span><span style=\"color: #008080; text-decoration-color: #008080; font-weight: bold\">6.6</span> %<span style=\"font-weight: bold\">)</span> ROIs had zero STD\n",
       "</pre>\n"
      ],
      "text/plain": [
       "sub-DKI35_ses-5_run-\u001b[1;36m3\u001b[0m:          a total of \u001b[1;36m156\u001b[0m \u001b[35m/\u001b[0m \u001b[1;36m2365\u001b[0m \u001b[1m(\u001b[0m\u001b[1;36m6.6\u001b[0m %\u001b[1m)\u001b[0m ROIs had zero STD\n"
      ]
     },
     "metadata": {},
     "output_type": "display_data"
    },
    {
     "data": {
      "text/html": [
       "<pre style=\"white-space:pre;overflow-x:auto;line-height:normal;font-family:Menlo,'DejaVu Sans Mono',consolas,'Courier New',monospace\">sub-DKI36_ses-5_run-<span style=\"color: #008080; text-decoration-color: #008080; font-weight: bold\">1</span>:          a total of <span style=\"color: #008080; text-decoration-color: #008080; font-weight: bold\">271</span> <span style=\"color: #800080; text-decoration-color: #800080\">/</span> <span style=\"color: #008080; text-decoration-color: #008080; font-weight: bold\">2365</span> <span style=\"font-weight: bold\">(</span><span style=\"color: #008080; text-decoration-color: #008080; font-weight: bold\">11.5</span> %<span style=\"font-weight: bold\">)</span> ROIs had zero STD\n",
       "</pre>\n"
      ],
      "text/plain": [
       "sub-DKI36_ses-5_run-\u001b[1;36m1\u001b[0m:          a total of \u001b[1;36m271\u001b[0m \u001b[35m/\u001b[0m \u001b[1;36m2365\u001b[0m \u001b[1m(\u001b[0m\u001b[1;36m11.5\u001b[0m %\u001b[1m)\u001b[0m ROIs had zero STD\n"
      ]
     },
     "metadata": {},
     "output_type": "display_data"
    },
    {
     "data": {
      "text/html": [
       "<pre style=\"white-space:pre;overflow-x:auto;line-height:normal;font-family:Menlo,'DejaVu Sans Mono',consolas,'Courier New',monospace\">sub-DKI36_ses-5_run-<span style=\"color: #008080; text-decoration-color: #008080; font-weight: bold\">2</span>:          a total of <span style=\"color: #008080; text-decoration-color: #008080; font-weight: bold\">292</span> <span style=\"color: #800080; text-decoration-color: #800080\">/</span> <span style=\"color: #008080; text-decoration-color: #008080; font-weight: bold\">2365</span> <span style=\"font-weight: bold\">(</span><span style=\"color: #008080; text-decoration-color: #008080; font-weight: bold\">12.3</span> %<span style=\"font-weight: bold\">)</span> ROIs had zero STD\n",
       "</pre>\n"
      ],
      "text/plain": [
       "sub-DKI36_ses-5_run-\u001b[1;36m2\u001b[0m:          a total of \u001b[1;36m292\u001b[0m \u001b[35m/\u001b[0m \u001b[1;36m2365\u001b[0m \u001b[1m(\u001b[0m\u001b[1;36m12.3\u001b[0m %\u001b[1m)\u001b[0m ROIs had zero STD\n"
      ]
     },
     "metadata": {},
     "output_type": "display_data"
    },
    {
     "data": {
      "text/html": [
       "<pre style=\"white-space:pre;overflow-x:auto;line-height:normal;font-family:Menlo,'DejaVu Sans Mono',consolas,'Courier New',monospace\">sub-DKI36_ses-5_run-<span style=\"color: #008080; text-decoration-color: #008080; font-weight: bold\">3</span>:          a total of <span style=\"color: #008080; text-decoration-color: #008080; font-weight: bold\">272</span> <span style=\"color: #800080; text-decoration-color: #800080\">/</span> <span style=\"color: #008080; text-decoration-color: #008080; font-weight: bold\">2365</span> <span style=\"font-weight: bold\">(</span><span style=\"color: #008080; text-decoration-color: #008080; font-weight: bold\">11.5</span> %<span style=\"font-weight: bold\">)</span> ROIs had zero STD\n",
       "</pre>\n"
      ],
      "text/plain": [
       "sub-DKI36_ses-5_run-\u001b[1;36m3\u001b[0m:          a total of \u001b[1;36m272\u001b[0m \u001b[35m/\u001b[0m \u001b[1;36m2365\u001b[0m \u001b[1m(\u001b[0m\u001b[1;36m11.5\u001b[0m %\u001b[1m)\u001b[0m ROIs had zero STD\n"
      ]
     },
     "metadata": {},
     "output_type": "display_data"
    },
    {
     "data": {
      "text/html": [
       "<pre style=\"white-space:pre;overflow-x:auto;line-height:normal;font-family:Menlo,'DejaVu Sans Mono',consolas,'Courier New',monospace\">sub-DKI36_ses-6_run-<span style=\"color: #008080; text-decoration-color: #008080; font-weight: bold\">1</span>:          a total of <span style=\"color: #008080; text-decoration-color: #008080; font-weight: bold\">189</span> <span style=\"color: #800080; text-decoration-color: #800080\">/</span> <span style=\"color: #008080; text-decoration-color: #008080; font-weight: bold\">2365</span> <span style=\"font-weight: bold\">(</span><span style=\"color: #008080; text-decoration-color: #008080; font-weight: bold\">8.0</span> %<span style=\"font-weight: bold\">)</span> ROIs had zero STD\n",
       "</pre>\n"
      ],
      "text/plain": [
       "sub-DKI36_ses-6_run-\u001b[1;36m1\u001b[0m:          a total of \u001b[1;36m189\u001b[0m \u001b[35m/\u001b[0m \u001b[1;36m2365\u001b[0m \u001b[1m(\u001b[0m\u001b[1;36m8.0\u001b[0m %\u001b[1m)\u001b[0m ROIs had zero STD\n"
      ]
     },
     "metadata": {},
     "output_type": "display_data"
    },
    {
     "data": {
      "text/html": [
       "<pre style=\"white-space:pre;overflow-x:auto;line-height:normal;font-family:Menlo,'DejaVu Sans Mono',consolas,'Courier New',monospace\">sub-DKI36_ses-6_run-<span style=\"color: #008080; text-decoration-color: #008080; font-weight: bold\">2</span>:          a total of <span style=\"color: #008080; text-decoration-color: #008080; font-weight: bold\">193</span> <span style=\"color: #800080; text-decoration-color: #800080\">/</span> <span style=\"color: #008080; text-decoration-color: #008080; font-weight: bold\">2365</span> <span style=\"font-weight: bold\">(</span><span style=\"color: #008080; text-decoration-color: #008080; font-weight: bold\">8.2</span> %<span style=\"font-weight: bold\">)</span> ROIs had zero STD\n",
       "</pre>\n"
      ],
      "text/plain": [
       "sub-DKI36_ses-6_run-\u001b[1;36m2\u001b[0m:          a total of \u001b[1;36m193\u001b[0m \u001b[35m/\u001b[0m \u001b[1;36m2365\u001b[0m \u001b[1m(\u001b[0m\u001b[1;36m8.2\u001b[0m %\u001b[1m)\u001b[0m ROIs had zero STD\n"
      ]
     },
     "metadata": {},
     "output_type": "display_data"
    },
    {
     "data": {
      "text/html": [
       "<pre style=\"white-space:pre;overflow-x:auto;line-height:normal;font-family:Menlo,'DejaVu Sans Mono',consolas,'Courier New',monospace\">sub-DKI36_ses-6_run-<span style=\"color: #008080; text-decoration-color: #008080; font-weight: bold\">3</span>:          a total of <span style=\"color: #008080; text-decoration-color: #008080; font-weight: bold\">203</span> <span style=\"color: #800080; text-decoration-color: #800080\">/</span> <span style=\"color: #008080; text-decoration-color: #008080; font-weight: bold\">2365</span> <span style=\"font-weight: bold\">(</span><span style=\"color: #008080; text-decoration-color: #008080; font-weight: bold\">8.6</span> %<span style=\"font-weight: bold\">)</span> ROIs had zero STD\n",
       "</pre>\n"
      ],
      "text/plain": [
       "sub-DKI36_ses-6_run-\u001b[1;36m3\u001b[0m:          a total of \u001b[1;36m203\u001b[0m \u001b[35m/\u001b[0m \u001b[1;36m2365\u001b[0m \u001b[1m(\u001b[0m\u001b[1;36m8.6\u001b[0m %\u001b[1m)\u001b[0m ROIs had zero STD\n"
      ]
     },
     "metadata": {},
     "output_type": "display_data"
    },
    {
     "data": {
      "text/html": [
       "<pre style=\"white-space:pre;overflow-x:auto;line-height:normal;font-family:Menlo,'DejaVu Sans Mono',consolas,'Courier New',monospace\">sub-DKI37_ses-5_run-<span style=\"color: #008080; text-decoration-color: #008080; font-weight: bold\">1</span>:          a total of <span style=\"color: #008080; text-decoration-color: #008080; font-weight: bold\">281</span> <span style=\"color: #800080; text-decoration-color: #800080\">/</span> <span style=\"color: #008080; text-decoration-color: #008080; font-weight: bold\">2365</span> <span style=\"font-weight: bold\">(</span><span style=\"color: #008080; text-decoration-color: #008080; font-weight: bold\">11.9</span> %<span style=\"font-weight: bold\">)</span> ROIs had zero STD\n",
       "</pre>\n"
      ],
      "text/plain": [
       "sub-DKI37_ses-5_run-\u001b[1;36m1\u001b[0m:          a total of \u001b[1;36m281\u001b[0m \u001b[35m/\u001b[0m \u001b[1;36m2365\u001b[0m \u001b[1m(\u001b[0m\u001b[1;36m11.9\u001b[0m %\u001b[1m)\u001b[0m ROIs had zero STD\n"
      ]
     },
     "metadata": {},
     "output_type": "display_data"
    },
    {
     "data": {
      "text/html": [
       "<pre style=\"white-space:pre;overflow-x:auto;line-height:normal;font-family:Menlo,'DejaVu Sans Mono',consolas,'Courier New',monospace\">sub-DKI37_ses-5_run-<span style=\"color: #008080; text-decoration-color: #008080; font-weight: bold\">2</span>:          a total of <span style=\"color: #008080; text-decoration-color: #008080; font-weight: bold\">293</span> <span style=\"color: #800080; text-decoration-color: #800080\">/</span> <span style=\"color: #008080; text-decoration-color: #008080; font-weight: bold\">2365</span> <span style=\"font-weight: bold\">(</span><span style=\"color: #008080; text-decoration-color: #008080; font-weight: bold\">12.4</span> %<span style=\"font-weight: bold\">)</span> ROIs had zero STD\n",
       "</pre>\n"
      ],
      "text/plain": [
       "sub-DKI37_ses-5_run-\u001b[1;36m2\u001b[0m:          a total of \u001b[1;36m293\u001b[0m \u001b[35m/\u001b[0m \u001b[1;36m2365\u001b[0m \u001b[1m(\u001b[0m\u001b[1;36m12.4\u001b[0m %\u001b[1m)\u001b[0m ROIs had zero STD\n"
      ]
     },
     "metadata": {},
     "output_type": "display_data"
    },
    {
     "data": {
      "text/html": [
       "<pre style=\"white-space:pre;overflow-x:auto;line-height:normal;font-family:Menlo,'DejaVu Sans Mono',consolas,'Courier New',monospace\">sub-DKI37_ses-6_run-<span style=\"color: #008080; text-decoration-color: #008080; font-weight: bold\">1</span>:          a total of <span style=\"color: #008080; text-decoration-color: #008080; font-weight: bold\">175</span> <span style=\"color: #800080; text-decoration-color: #800080\">/</span> <span style=\"color: #008080; text-decoration-color: #008080; font-weight: bold\">2365</span> <span style=\"font-weight: bold\">(</span><span style=\"color: #008080; text-decoration-color: #008080; font-weight: bold\">7.4</span> %<span style=\"font-weight: bold\">)</span> ROIs had zero STD\n",
       "</pre>\n"
      ],
      "text/plain": [
       "sub-DKI37_ses-6_run-\u001b[1;36m1\u001b[0m:          a total of \u001b[1;36m175\u001b[0m \u001b[35m/\u001b[0m \u001b[1;36m2365\u001b[0m \u001b[1m(\u001b[0m\u001b[1;36m7.4\u001b[0m %\u001b[1m)\u001b[0m ROIs had zero STD\n"
      ]
     },
     "metadata": {},
     "output_type": "display_data"
    },
    {
     "data": {
      "text/html": [
       "<pre style=\"white-space:pre;overflow-x:auto;line-height:normal;font-family:Menlo,'DejaVu Sans Mono',consolas,'Courier New',monospace\">sub-DKI37_ses-6_run-<span style=\"color: #008080; text-decoration-color: #008080; font-weight: bold\">2</span>:          a total of <span style=\"color: #008080; text-decoration-color: #008080; font-weight: bold\">202</span> <span style=\"color: #800080; text-decoration-color: #800080\">/</span> <span style=\"color: #008080; text-decoration-color: #008080; font-weight: bold\">2365</span> <span style=\"font-weight: bold\">(</span><span style=\"color: #008080; text-decoration-color: #008080; font-weight: bold\">8.5</span> %<span style=\"font-weight: bold\">)</span> ROIs had zero STD\n",
       "</pre>\n"
      ],
      "text/plain": [
       "sub-DKI37_ses-6_run-\u001b[1;36m2\u001b[0m:          a total of \u001b[1;36m202\u001b[0m \u001b[35m/\u001b[0m \u001b[1;36m2365\u001b[0m \u001b[1m(\u001b[0m\u001b[1;36m8.5\u001b[0m %\u001b[1m)\u001b[0m ROIs had zero STD\n"
      ]
     },
     "metadata": {},
     "output_type": "display_data"
    },
    {
     "data": {
      "text/html": [
       "<pre style=\"white-space:pre;overflow-x:auto;line-height:normal;font-family:Menlo,'DejaVu Sans Mono',consolas,'Courier New',monospace\">sub-DKI38_ses-5_run-<span style=\"color: #008080; text-decoration-color: #008080; font-weight: bold\">1</span>:          a total of <span style=\"color: #008080; text-decoration-color: #008080; font-weight: bold\">271</span> <span style=\"color: #800080; text-decoration-color: #800080\">/</span> <span style=\"color: #008080; text-decoration-color: #008080; font-weight: bold\">2365</span> <span style=\"font-weight: bold\">(</span><span style=\"color: #008080; text-decoration-color: #008080; font-weight: bold\">11.5</span> %<span style=\"font-weight: bold\">)</span> ROIs had zero STD\n",
       "</pre>\n"
      ],
      "text/plain": [
       "sub-DKI38_ses-5_run-\u001b[1;36m1\u001b[0m:          a total of \u001b[1;36m271\u001b[0m \u001b[35m/\u001b[0m \u001b[1;36m2365\u001b[0m \u001b[1m(\u001b[0m\u001b[1;36m11.5\u001b[0m %\u001b[1m)\u001b[0m ROIs had zero STD\n"
      ]
     },
     "metadata": {},
     "output_type": "display_data"
    },
    {
     "data": {
      "text/html": [
       "<pre style=\"white-space:pre;overflow-x:auto;line-height:normal;font-family:Menlo,'DejaVu Sans Mono',consolas,'Courier New',monospace\">sub-DKI38_ses-5_run-<span style=\"color: #008080; text-decoration-color: #008080; font-weight: bold\">2</span>:          a total of <span style=\"color: #008080; text-decoration-color: #008080; font-weight: bold\">295</span> <span style=\"color: #800080; text-decoration-color: #800080\">/</span> <span style=\"color: #008080; text-decoration-color: #008080; font-weight: bold\">2365</span> <span style=\"font-weight: bold\">(</span><span style=\"color: #008080; text-decoration-color: #008080; font-weight: bold\">12.5</span> %<span style=\"font-weight: bold\">)</span> ROIs had zero STD\n",
       "</pre>\n"
      ],
      "text/plain": [
       "sub-DKI38_ses-5_run-\u001b[1;36m2\u001b[0m:          a total of \u001b[1;36m295\u001b[0m \u001b[35m/\u001b[0m \u001b[1;36m2365\u001b[0m \u001b[1m(\u001b[0m\u001b[1;36m12.5\u001b[0m %\u001b[1m)\u001b[0m ROIs had zero STD\n"
      ]
     },
     "metadata": {},
     "output_type": "display_data"
    },
    {
     "data": {
      "text/html": [
       "<pre style=\"white-space:pre;overflow-x:auto;line-height:normal;font-family:Menlo,'DejaVu Sans Mono',consolas,'Courier New',monospace\">sub-DKI38_ses-5_run-<span style=\"color: #008080; text-decoration-color: #008080; font-weight: bold\">3</span>:          a total of <span style=\"color: #008080; text-decoration-color: #008080; font-weight: bold\">269</span> <span style=\"color: #800080; text-decoration-color: #800080\">/</span> <span style=\"color: #008080; text-decoration-color: #008080; font-weight: bold\">2365</span> <span style=\"font-weight: bold\">(</span><span style=\"color: #008080; text-decoration-color: #008080; font-weight: bold\">11.4</span> %<span style=\"font-weight: bold\">)</span> ROIs had zero STD\n",
       "</pre>\n"
      ],
      "text/plain": [
       "sub-DKI38_ses-5_run-\u001b[1;36m3\u001b[0m:          a total of \u001b[1;36m269\u001b[0m \u001b[35m/\u001b[0m \u001b[1;36m2365\u001b[0m \u001b[1m(\u001b[0m\u001b[1;36m11.4\u001b[0m %\u001b[1m)\u001b[0m ROIs had zero STD\n"
      ]
     },
     "metadata": {},
     "output_type": "display_data"
    },
    {
     "data": {
      "text/html": [
       "<pre style=\"white-space:pre;overflow-x:auto;line-height:normal;font-family:Menlo,'DejaVu Sans Mono',consolas,'Courier New',monospace\">sub-DKI39_ses-5_run-<span style=\"color: #008080; text-decoration-color: #008080; font-weight: bold\">1</span>:          a total of <span style=\"color: #008080; text-decoration-color: #008080; font-weight: bold\">344</span> <span style=\"color: #800080; text-decoration-color: #800080\">/</span> <span style=\"color: #008080; text-decoration-color: #008080; font-weight: bold\">2365</span> <span style=\"font-weight: bold\">(</span><span style=\"color: #008080; text-decoration-color: #008080; font-weight: bold\">14.5</span> %<span style=\"font-weight: bold\">)</span> ROIs had zero STD\n",
       "</pre>\n"
      ],
      "text/plain": [
       "sub-DKI39_ses-5_run-\u001b[1;36m1\u001b[0m:          a total of \u001b[1;36m344\u001b[0m \u001b[35m/\u001b[0m \u001b[1;36m2365\u001b[0m \u001b[1m(\u001b[0m\u001b[1;36m14.5\u001b[0m %\u001b[1m)\u001b[0m ROIs had zero STD\n"
      ]
     },
     "metadata": {},
     "output_type": "display_data"
    },
    {
     "data": {
      "text/html": [
       "<pre style=\"white-space:pre;overflow-x:auto;line-height:normal;font-family:Menlo,'DejaVu Sans Mono',consolas,'Courier New',monospace\">sub-DKI39_ses-5_run-<span style=\"color: #008080; text-decoration-color: #008080; font-weight: bold\">2</span>:          a total of <span style=\"color: #008080; text-decoration-color: #008080; font-weight: bold\">296</span> <span style=\"color: #800080; text-decoration-color: #800080\">/</span> <span style=\"color: #008080; text-decoration-color: #008080; font-weight: bold\">2365</span> <span style=\"font-weight: bold\">(</span><span style=\"color: #008080; text-decoration-color: #008080; font-weight: bold\">12.5</span> %<span style=\"font-weight: bold\">)</span> ROIs had zero STD\n",
       "</pre>\n"
      ],
      "text/plain": [
       "sub-DKI39_ses-5_run-\u001b[1;36m2\u001b[0m:          a total of \u001b[1;36m296\u001b[0m \u001b[35m/\u001b[0m \u001b[1;36m2365\u001b[0m \u001b[1m(\u001b[0m\u001b[1;36m12.5\u001b[0m %\u001b[1m)\u001b[0m ROIs had zero STD\n"
      ]
     },
     "metadata": {},
     "output_type": "display_data"
    },
    {
     "data": {
      "text/html": [
       "<pre style=\"white-space:pre;overflow-x:auto;line-height:normal;font-family:Menlo,'DejaVu Sans Mono',consolas,'Courier New',monospace\">sub-DKI39_ses-5_run-<span style=\"color: #008080; text-decoration-color: #008080; font-weight: bold\">3</span>:          a total of <span style=\"color: #008080; text-decoration-color: #008080; font-weight: bold\">385</span> <span style=\"color: #800080; text-decoration-color: #800080\">/</span> <span style=\"color: #008080; text-decoration-color: #008080; font-weight: bold\">2365</span> <span style=\"font-weight: bold\">(</span><span style=\"color: #008080; text-decoration-color: #008080; font-weight: bold\">16.3</span> %<span style=\"font-weight: bold\">)</span> ROIs had zero STD\n",
       "</pre>\n"
      ],
      "text/plain": [
       "sub-DKI39_ses-5_run-\u001b[1;36m3\u001b[0m:          a total of \u001b[1;36m385\u001b[0m \u001b[35m/\u001b[0m \u001b[1;36m2365\u001b[0m \u001b[1m(\u001b[0m\u001b[1;36m16.3\u001b[0m %\u001b[1m)\u001b[0m ROIs had zero STD\n"
      ]
     },
     "metadata": {},
     "output_type": "display_data"
    },
    {
     "data": {
      "text/html": [
       "<pre style=\"white-space:pre;overflow-x:auto;line-height:normal;font-family:Menlo,'DejaVu Sans Mono',consolas,'Courier New',monospace\">sub-DKI39_ses-6_run-<span style=\"color: #008080; text-decoration-color: #008080; font-weight: bold\">1</span>:          a total of <span style=\"color: #008080; text-decoration-color: #008080; font-weight: bold\">190</span> <span style=\"color: #800080; text-decoration-color: #800080\">/</span> <span style=\"color: #008080; text-decoration-color: #008080; font-weight: bold\">2365</span> <span style=\"font-weight: bold\">(</span><span style=\"color: #008080; text-decoration-color: #008080; font-weight: bold\">8.0</span> %<span style=\"font-weight: bold\">)</span> ROIs had zero STD\n",
       "</pre>\n"
      ],
      "text/plain": [
       "sub-DKI39_ses-6_run-\u001b[1;36m1\u001b[0m:          a total of \u001b[1;36m190\u001b[0m \u001b[35m/\u001b[0m \u001b[1;36m2365\u001b[0m \u001b[1m(\u001b[0m\u001b[1;36m8.0\u001b[0m %\u001b[1m)\u001b[0m ROIs had zero STD\n"
      ]
     },
     "metadata": {},
     "output_type": "display_data"
    },
    {
     "data": {
      "text/html": [
       "<pre style=\"white-space:pre;overflow-x:auto;line-height:normal;font-family:Menlo,'DejaVu Sans Mono',consolas,'Courier New',monospace\">sub-DKI39_ses-6_run-<span style=\"color: #008080; text-decoration-color: #008080; font-weight: bold\">2</span>:          a total of <span style=\"color: #008080; text-decoration-color: #008080; font-weight: bold\">183</span> <span style=\"color: #800080; text-decoration-color: #800080\">/</span> <span style=\"color: #008080; text-decoration-color: #008080; font-weight: bold\">2365</span> <span style=\"font-weight: bold\">(</span><span style=\"color: #008080; text-decoration-color: #008080; font-weight: bold\">7.7</span> %<span style=\"font-weight: bold\">)</span> ROIs had zero STD\n",
       "</pre>\n"
      ],
      "text/plain": [
       "sub-DKI39_ses-6_run-\u001b[1;36m2\u001b[0m:          a total of \u001b[1;36m183\u001b[0m \u001b[35m/\u001b[0m \u001b[1;36m2365\u001b[0m \u001b[1m(\u001b[0m\u001b[1;36m7.7\u001b[0m %\u001b[1m)\u001b[0m ROIs had zero STD\n"
      ]
     },
     "metadata": {},
     "output_type": "display_data"
    },
    {
     "data": {
      "text/html": [
       "<pre style=\"white-space:pre;overflow-x:auto;line-height:normal;font-family:Menlo,'DejaVu Sans Mono',consolas,'Courier New',monospace\">sub-DKI39_ses-6_run-<span style=\"color: #008080; text-decoration-color: #008080; font-weight: bold\">3</span>:          a total of <span style=\"color: #008080; text-decoration-color: #008080; font-weight: bold\">275</span> <span style=\"color: #800080; text-decoration-color: #800080\">/</span> <span style=\"color: #008080; text-decoration-color: #008080; font-weight: bold\">2365</span> <span style=\"font-weight: bold\">(</span><span style=\"color: #008080; text-decoration-color: #008080; font-weight: bold\">11.6</span> %<span style=\"font-weight: bold\">)</span> ROIs had zero STD\n",
       "</pre>\n"
      ],
      "text/plain": [
       "sub-DKI39_ses-6_run-\u001b[1;36m3\u001b[0m:          a total of \u001b[1;36m275\u001b[0m \u001b[35m/\u001b[0m \u001b[1;36m2365\u001b[0m \u001b[1m(\u001b[0m\u001b[1;36m11.6\u001b[0m %\u001b[1m)\u001b[0m ROIs had zero STD\n"
      ]
     },
     "metadata": {},
     "output_type": "display_data"
    },
    {
     "data": {
      "text/html": [
       "<pre style=\"white-space:pre;overflow-x:auto;line-height:normal;font-family:Menlo,'DejaVu Sans Mono',consolas,'Courier New',monospace\">sub-DKI40_ses-5_run-<span style=\"color: #008080; text-decoration-color: #008080; font-weight: bold\">1</span>:          a total of <span style=\"color: #008080; text-decoration-color: #008080; font-weight: bold\">277</span> <span style=\"color: #800080; text-decoration-color: #800080\">/</span> <span style=\"color: #008080; text-decoration-color: #008080; font-weight: bold\">2365</span> <span style=\"font-weight: bold\">(</span><span style=\"color: #008080; text-decoration-color: #008080; font-weight: bold\">11.7</span> %<span style=\"font-weight: bold\">)</span> ROIs had zero STD\n",
       "</pre>\n"
      ],
      "text/plain": [
       "sub-DKI40_ses-5_run-\u001b[1;36m1\u001b[0m:          a total of \u001b[1;36m277\u001b[0m \u001b[35m/\u001b[0m \u001b[1;36m2365\u001b[0m \u001b[1m(\u001b[0m\u001b[1;36m11.7\u001b[0m %\u001b[1m)\u001b[0m ROIs had zero STD\n"
      ]
     },
     "metadata": {},
     "output_type": "display_data"
    },
    {
     "data": {
      "text/html": [
       "<pre style=\"white-space:pre;overflow-x:auto;line-height:normal;font-family:Menlo,'DejaVu Sans Mono',consolas,'Courier New',monospace\">sub-DKI40_ses-5_run-<span style=\"color: #008080; text-decoration-color: #008080; font-weight: bold\">2</span>:          a total of <span style=\"color: #008080; text-decoration-color: #008080; font-weight: bold\">294</span> <span style=\"color: #800080; text-decoration-color: #800080\">/</span> <span style=\"color: #008080; text-decoration-color: #008080; font-weight: bold\">2365</span> <span style=\"font-weight: bold\">(</span><span style=\"color: #008080; text-decoration-color: #008080; font-weight: bold\">12.4</span> %<span style=\"font-weight: bold\">)</span> ROIs had zero STD\n",
       "</pre>\n"
      ],
      "text/plain": [
       "sub-DKI40_ses-5_run-\u001b[1;36m2\u001b[0m:          a total of \u001b[1;36m294\u001b[0m \u001b[35m/\u001b[0m \u001b[1;36m2365\u001b[0m \u001b[1m(\u001b[0m\u001b[1;36m12.4\u001b[0m %\u001b[1m)\u001b[0m ROIs had zero STD\n"
      ]
     },
     "metadata": {},
     "output_type": "display_data"
    },
    {
     "data": {
      "text/html": [
       "<pre style=\"white-space:pre;overflow-x:auto;line-height:normal;font-family:Menlo,'DejaVu Sans Mono',consolas,'Courier New',monospace\">sub-DKI40_ses-5_run-<span style=\"color: #008080; text-decoration-color: #008080; font-weight: bold\">3</span>:          a total of <span style=\"color: #008080; text-decoration-color: #008080; font-weight: bold\">285</span> <span style=\"color: #800080; text-decoration-color: #800080\">/</span> <span style=\"color: #008080; text-decoration-color: #008080; font-weight: bold\">2365</span> <span style=\"font-weight: bold\">(</span><span style=\"color: #008080; text-decoration-color: #008080; font-weight: bold\">12.1</span> %<span style=\"font-weight: bold\">)</span> ROIs had zero STD\n",
       "</pre>\n"
      ],
      "text/plain": [
       "sub-DKI40_ses-5_run-\u001b[1;36m3\u001b[0m:          a total of \u001b[1;36m285\u001b[0m \u001b[35m/\u001b[0m \u001b[1;36m2365\u001b[0m \u001b[1m(\u001b[0m\u001b[1;36m12.1\u001b[0m %\u001b[1m)\u001b[0m ROIs had zero STD\n"
      ]
     },
     "metadata": {},
     "output_type": "display_data"
    },
    {
     "data": {
      "text/html": [
       "<pre style=\"white-space:pre;overflow-x:auto;line-height:normal;font-family:Menlo,'DejaVu Sans Mono',consolas,'Courier New',monospace\">sub-DKI40_ses-6_run-<span style=\"color: #008080; text-decoration-color: #008080; font-weight: bold\">1</span>:          a total of <span style=\"color: #008080; text-decoration-color: #008080; font-weight: bold\">350</span> <span style=\"color: #800080; text-decoration-color: #800080\">/</span> <span style=\"color: #008080; text-decoration-color: #008080; font-weight: bold\">2365</span> <span style=\"font-weight: bold\">(</span><span style=\"color: #008080; text-decoration-color: #008080; font-weight: bold\">14.8</span> %<span style=\"font-weight: bold\">)</span> ROIs had zero STD\n",
       "</pre>\n"
      ],
      "text/plain": [
       "sub-DKI40_ses-6_run-\u001b[1;36m1\u001b[0m:          a total of \u001b[1;36m350\u001b[0m \u001b[35m/\u001b[0m \u001b[1;36m2365\u001b[0m \u001b[1m(\u001b[0m\u001b[1;36m14.8\u001b[0m %\u001b[1m)\u001b[0m ROIs had zero STD\n"
      ]
     },
     "metadata": {},
     "output_type": "display_data"
    },
    {
     "data": {
      "text/html": [
       "<pre style=\"white-space:pre;overflow-x:auto;line-height:normal;font-family:Menlo,'DejaVu Sans Mono',consolas,'Courier New',monospace\">sub-DKI40_ses-6_run-<span style=\"color: #008080; text-decoration-color: #008080; font-weight: bold\">2</span>:          a total of <span style=\"color: #008080; text-decoration-color: #008080; font-weight: bold\">299</span> <span style=\"color: #800080; text-decoration-color: #800080\">/</span> <span style=\"color: #008080; text-decoration-color: #008080; font-weight: bold\">2365</span> <span style=\"font-weight: bold\">(</span><span style=\"color: #008080; text-decoration-color: #008080; font-weight: bold\">12.6</span> %<span style=\"font-weight: bold\">)</span> ROIs had zero STD\n",
       "</pre>\n"
      ],
      "text/plain": [
       "sub-DKI40_ses-6_run-\u001b[1;36m2\u001b[0m:          a total of \u001b[1;36m299\u001b[0m \u001b[35m/\u001b[0m \u001b[1;36m2365\u001b[0m \u001b[1m(\u001b[0m\u001b[1;36m12.6\u001b[0m %\u001b[1m)\u001b[0m ROIs had zero STD\n"
      ]
     },
     "metadata": {},
     "output_type": "display_data"
    },
    {
     "data": {
      "text/html": [
       "<pre style=\"white-space:pre;overflow-x:auto;line-height:normal;font-family:Menlo,'DejaVu Sans Mono',consolas,'Courier New',monospace\">sub-DKI40_ses-6_run-<span style=\"color: #008080; text-decoration-color: #008080; font-weight: bold\">3</span>:          a total of <span style=\"color: #008080; text-decoration-color: #008080; font-weight: bold\">288</span> <span style=\"color: #800080; text-decoration-color: #800080\">/</span> <span style=\"color: #008080; text-decoration-color: #008080; font-weight: bold\">2365</span> <span style=\"font-weight: bold\">(</span><span style=\"color: #008080; text-decoration-color: #008080; font-weight: bold\">12.2</span> %<span style=\"font-weight: bold\">)</span> ROIs had zero STD\n",
       "</pre>\n"
      ],
      "text/plain": [
       "sub-DKI40_ses-6_run-\u001b[1;36m3\u001b[0m:          a total of \u001b[1;36m288\u001b[0m \u001b[35m/\u001b[0m \u001b[1;36m2365\u001b[0m \u001b[1m(\u001b[0m\u001b[1;36m12.2\u001b[0m %\u001b[1m)\u001b[0m ROIs had zero STD\n"
      ]
     },
     "metadata": {},
     "output_type": "display_data"
    },
    {
     "data": {
      "text/html": [
       "<pre style=\"white-space:pre;overflow-x:auto;line-height:normal;font-family:Menlo,'DejaVu Sans Mono',consolas,'Courier New',monospace\">sub-DKI41_ses-5_run-<span style=\"color: #008080; text-decoration-color: #008080; font-weight: bold\">1</span>:          a total of <span style=\"color: #008080; text-decoration-color: #008080; font-weight: bold\">273</span> <span style=\"color: #800080; text-decoration-color: #800080\">/</span> <span style=\"color: #008080; text-decoration-color: #008080; font-weight: bold\">2365</span> <span style=\"font-weight: bold\">(</span><span style=\"color: #008080; text-decoration-color: #008080; font-weight: bold\">11.5</span> %<span style=\"font-weight: bold\">)</span> ROIs had zero STD\n",
       "</pre>\n"
      ],
      "text/plain": [
       "sub-DKI41_ses-5_run-\u001b[1;36m1\u001b[0m:          a total of \u001b[1;36m273\u001b[0m \u001b[35m/\u001b[0m \u001b[1;36m2365\u001b[0m \u001b[1m(\u001b[0m\u001b[1;36m11.5\u001b[0m %\u001b[1m)\u001b[0m ROIs had zero STD\n"
      ]
     },
     "metadata": {},
     "output_type": "display_data"
    },
    {
     "data": {
      "text/html": [
       "<pre style=\"white-space:pre;overflow-x:auto;line-height:normal;font-family:Menlo,'DejaVu Sans Mono',consolas,'Courier New',monospace\">sub-DKI41_ses-5_run-<span style=\"color: #008080; text-decoration-color: #008080; font-weight: bold\">2</span>:          a total of <span style=\"color: #008080; text-decoration-color: #008080; font-weight: bold\">182</span> <span style=\"color: #800080; text-decoration-color: #800080\">/</span> <span style=\"color: #008080; text-decoration-color: #008080; font-weight: bold\">2365</span> <span style=\"font-weight: bold\">(</span><span style=\"color: #008080; text-decoration-color: #008080; font-weight: bold\">7.7</span> %<span style=\"font-weight: bold\">)</span> ROIs had zero STD\n",
       "</pre>\n"
      ],
      "text/plain": [
       "sub-DKI41_ses-5_run-\u001b[1;36m2\u001b[0m:          a total of \u001b[1;36m182\u001b[0m \u001b[35m/\u001b[0m \u001b[1;36m2365\u001b[0m \u001b[1m(\u001b[0m\u001b[1;36m7.7\u001b[0m %\u001b[1m)\u001b[0m ROIs had zero STD\n"
      ]
     },
     "metadata": {},
     "output_type": "display_data"
    },
    {
     "data": {
      "text/html": [
       "<pre style=\"white-space:pre;overflow-x:auto;line-height:normal;font-family:Menlo,'DejaVu Sans Mono',consolas,'Courier New',monospace\">sub-DKI41_ses-5_run-<span style=\"color: #008080; text-decoration-color: #008080; font-weight: bold\">3</span>:          a total of <span style=\"color: #008080; text-decoration-color: #008080; font-weight: bold\">204</span> <span style=\"color: #800080; text-decoration-color: #800080\">/</span> <span style=\"color: #008080; text-decoration-color: #008080; font-weight: bold\">2365</span> <span style=\"font-weight: bold\">(</span><span style=\"color: #008080; text-decoration-color: #008080; font-weight: bold\">8.6</span> %<span style=\"font-weight: bold\">)</span> ROIs had zero STD\n",
       "</pre>\n"
      ],
      "text/plain": [
       "sub-DKI41_ses-5_run-\u001b[1;36m3\u001b[0m:          a total of \u001b[1;36m204\u001b[0m \u001b[35m/\u001b[0m \u001b[1;36m2365\u001b[0m \u001b[1m(\u001b[0m\u001b[1;36m8.6\u001b[0m %\u001b[1m)\u001b[0m ROIs had zero STD\n"
      ]
     },
     "metadata": {},
     "output_type": "display_data"
    },
    {
     "data": {
      "text/html": [
       "<pre style=\"white-space:pre;overflow-x:auto;line-height:normal;font-family:Menlo,'DejaVu Sans Mono',consolas,'Courier New',monospace\">sub-DKI41_ses-6_run-<span style=\"color: #008080; text-decoration-color: #008080; font-weight: bold\">1</span>:          a total of <span style=\"color: #008080; text-decoration-color: #008080; font-weight: bold\">201</span> <span style=\"color: #800080; text-decoration-color: #800080\">/</span> <span style=\"color: #008080; text-decoration-color: #008080; font-weight: bold\">2365</span> <span style=\"font-weight: bold\">(</span><span style=\"color: #008080; text-decoration-color: #008080; font-weight: bold\">8.5</span> %<span style=\"font-weight: bold\">)</span> ROIs had zero STD\n",
       "</pre>\n"
      ],
      "text/plain": [
       "sub-DKI41_ses-6_run-\u001b[1;36m1\u001b[0m:          a total of \u001b[1;36m201\u001b[0m \u001b[35m/\u001b[0m \u001b[1;36m2365\u001b[0m \u001b[1m(\u001b[0m\u001b[1;36m8.5\u001b[0m %\u001b[1m)\u001b[0m ROIs had zero STD\n"
      ]
     },
     "metadata": {},
     "output_type": "display_data"
    },
    {
     "data": {
      "text/html": [
       "<pre style=\"white-space:pre;overflow-x:auto;line-height:normal;font-family:Menlo,'DejaVu Sans Mono',consolas,'Courier New',monospace\">sub-DKI41_ses-6_run-<span style=\"color: #008080; text-decoration-color: #008080; font-weight: bold\">2</span>:          a total of <span style=\"color: #008080; text-decoration-color: #008080; font-weight: bold\">157</span> <span style=\"color: #800080; text-decoration-color: #800080\">/</span> <span style=\"color: #008080; text-decoration-color: #008080; font-weight: bold\">2365</span> <span style=\"font-weight: bold\">(</span><span style=\"color: #008080; text-decoration-color: #008080; font-weight: bold\">6.6</span> %<span style=\"font-weight: bold\">)</span> ROIs had zero STD\n",
       "</pre>\n"
      ],
      "text/plain": [
       "sub-DKI41_ses-6_run-\u001b[1;36m2\u001b[0m:          a total of \u001b[1;36m157\u001b[0m \u001b[35m/\u001b[0m \u001b[1;36m2365\u001b[0m \u001b[1m(\u001b[0m\u001b[1;36m6.6\u001b[0m %\u001b[1m)\u001b[0m ROIs had zero STD\n"
      ]
     },
     "metadata": {},
     "output_type": "display_data"
    },
    {
     "data": {
      "text/html": [
       "<pre style=\"white-space:pre;overflow-x:auto;line-height:normal;font-family:Menlo,'DejaVu Sans Mono',consolas,'Courier New',monospace\">sub-DKI41_ses-6_run-<span style=\"color: #008080; text-decoration-color: #008080; font-weight: bold\">3</span>:          a total of <span style=\"color: #008080; text-decoration-color: #008080; font-weight: bold\">159</span> <span style=\"color: #800080; text-decoration-color: #800080\">/</span> <span style=\"color: #008080; text-decoration-color: #008080; font-weight: bold\">2365</span> <span style=\"font-weight: bold\">(</span><span style=\"color: #008080; text-decoration-color: #008080; font-weight: bold\">6.7</span> %<span style=\"font-weight: bold\">)</span> ROIs had zero STD\n",
       "</pre>\n"
      ],
      "text/plain": [
       "sub-DKI41_ses-6_run-\u001b[1;36m3\u001b[0m:          a total of \u001b[1;36m159\u001b[0m \u001b[35m/\u001b[0m \u001b[1;36m2365\u001b[0m \u001b[1m(\u001b[0m\u001b[1;36m6.7\u001b[0m %\u001b[1m)\u001b[0m ROIs had zero STD\n"
      ]
     },
     "metadata": {},
     "output_type": "display_data"
    },
    {
     "data": {
      "text/html": [
       "<pre style=\"white-space:pre;overflow-x:auto;line-height:normal;font-family:Menlo,'DejaVu Sans Mono',consolas,'Courier New',monospace\">sub-DKI42_ses-2_run-<span style=\"color: #008080; text-decoration-color: #008080; font-weight: bold\">1</span>:          a total of <span style=\"color: #008080; text-decoration-color: #008080; font-weight: bold\">275</span> <span style=\"color: #800080; text-decoration-color: #800080\">/</span> <span style=\"color: #008080; text-decoration-color: #008080; font-weight: bold\">2365</span> <span style=\"font-weight: bold\">(</span><span style=\"color: #008080; text-decoration-color: #008080; font-weight: bold\">11.6</span> %<span style=\"font-weight: bold\">)</span> ROIs had zero STD\n",
       "</pre>\n"
      ],
      "text/plain": [
       "sub-DKI42_ses-2_run-\u001b[1;36m1\u001b[0m:          a total of \u001b[1;36m275\u001b[0m \u001b[35m/\u001b[0m \u001b[1;36m2365\u001b[0m \u001b[1m(\u001b[0m\u001b[1;36m11.6\u001b[0m %\u001b[1m)\u001b[0m ROIs had zero STD\n"
      ]
     },
     "metadata": {},
     "output_type": "display_data"
    },
    {
     "data": {
      "text/html": [
       "<pre style=\"white-space:pre;overflow-x:auto;line-height:normal;font-family:Menlo,'DejaVu Sans Mono',consolas,'Courier New',monospace\">sub-DKI42_ses-2_run-<span style=\"color: #008080; text-decoration-color: #008080; font-weight: bold\">2</span>:          a total of <span style=\"color: #008080; text-decoration-color: #008080; font-weight: bold\">250</span> <span style=\"color: #800080; text-decoration-color: #800080\">/</span> <span style=\"color: #008080; text-decoration-color: #008080; font-weight: bold\">2365</span> <span style=\"font-weight: bold\">(</span><span style=\"color: #008080; text-decoration-color: #008080; font-weight: bold\">10.6</span> %<span style=\"font-weight: bold\">)</span> ROIs had zero STD\n",
       "</pre>\n"
      ],
      "text/plain": [
       "sub-DKI42_ses-2_run-\u001b[1;36m2\u001b[0m:          a total of \u001b[1;36m250\u001b[0m \u001b[35m/\u001b[0m \u001b[1;36m2365\u001b[0m \u001b[1m(\u001b[0m\u001b[1;36m10.6\u001b[0m %\u001b[1m)\u001b[0m ROIs had zero STD\n"
      ]
     },
     "metadata": {},
     "output_type": "display_data"
    },
    {
     "data": {
      "text/html": [
       "<pre style=\"white-space:pre;overflow-x:auto;line-height:normal;font-family:Menlo,'DejaVu Sans Mono',consolas,'Courier New',monospace\">sub-DKI42_ses-2_run-<span style=\"color: #008080; text-decoration-color: #008080; font-weight: bold\">3</span>:          a total of <span style=\"color: #008080; text-decoration-color: #008080; font-weight: bold\">288</span> <span style=\"color: #800080; text-decoration-color: #800080\">/</span> <span style=\"color: #008080; text-decoration-color: #008080; font-weight: bold\">2365</span> <span style=\"font-weight: bold\">(</span><span style=\"color: #008080; text-decoration-color: #008080; font-weight: bold\">12.2</span> %<span style=\"font-weight: bold\">)</span> ROIs had zero STD\n",
       "</pre>\n"
      ],
      "text/plain": [
       "sub-DKI42_ses-2_run-\u001b[1;36m3\u001b[0m:          a total of \u001b[1;36m288\u001b[0m \u001b[35m/\u001b[0m \u001b[1;36m2365\u001b[0m \u001b[1m(\u001b[0m\u001b[1;36m12.2\u001b[0m %\u001b[1m)\u001b[0m ROIs had zero STD\n"
      ]
     },
     "metadata": {},
     "output_type": "display_data"
    },
    {
     "data": {
      "text/html": [
       "<pre style=\"white-space:pre;overflow-x:auto;line-height:normal;font-family:Menlo,'DejaVu Sans Mono',consolas,'Courier New',monospace\">sub-DKI43_ses-2_run-<span style=\"color: #008080; text-decoration-color: #008080; font-weight: bold\">1</span>:          a total of <span style=\"color: #008080; text-decoration-color: #008080; font-weight: bold\">278</span> <span style=\"color: #800080; text-decoration-color: #800080\">/</span> <span style=\"color: #008080; text-decoration-color: #008080; font-weight: bold\">2365</span> <span style=\"font-weight: bold\">(</span><span style=\"color: #008080; text-decoration-color: #008080; font-weight: bold\">11.8</span> %<span style=\"font-weight: bold\">)</span> ROIs had zero STD\n",
       "</pre>\n"
      ],
      "text/plain": [
       "sub-DKI43_ses-2_run-\u001b[1;36m1\u001b[0m:          a total of \u001b[1;36m278\u001b[0m \u001b[35m/\u001b[0m \u001b[1;36m2365\u001b[0m \u001b[1m(\u001b[0m\u001b[1;36m11.8\u001b[0m %\u001b[1m)\u001b[0m ROIs had zero STD\n"
      ]
     },
     "metadata": {},
     "output_type": "display_data"
    },
    {
     "data": {
      "text/html": [
       "<pre style=\"white-space:pre;overflow-x:auto;line-height:normal;font-family:Menlo,'DejaVu Sans Mono',consolas,'Courier New',monospace\">sub-DKI43_ses-2_run-<span style=\"color: #008080; text-decoration-color: #008080; font-weight: bold\">2</span>:          a total of <span style=\"color: #008080; text-decoration-color: #008080; font-weight: bold\">229</span> <span style=\"color: #800080; text-decoration-color: #800080\">/</span> <span style=\"color: #008080; text-decoration-color: #008080; font-weight: bold\">2365</span> <span style=\"font-weight: bold\">(</span><span style=\"color: #008080; text-decoration-color: #008080; font-weight: bold\">9.7</span> %<span style=\"font-weight: bold\">)</span> ROIs had zero STD\n",
       "</pre>\n"
      ],
      "text/plain": [
       "sub-DKI43_ses-2_run-\u001b[1;36m2\u001b[0m:          a total of \u001b[1;36m229\u001b[0m \u001b[35m/\u001b[0m \u001b[1;36m2365\u001b[0m \u001b[1m(\u001b[0m\u001b[1;36m9.7\u001b[0m %\u001b[1m)\u001b[0m ROIs had zero STD\n"
      ]
     },
     "metadata": {},
     "output_type": "display_data"
    },
    {
     "data": {
      "text/html": [
       "<pre style=\"white-space:pre;overflow-x:auto;line-height:normal;font-family:Menlo,'DejaVu Sans Mono',consolas,'Courier New',monospace\">sub-DKI43_ses-2_run-<span style=\"color: #008080; text-decoration-color: #008080; font-weight: bold\">3</span>:          a total of <span style=\"color: #008080; text-decoration-color: #008080; font-weight: bold\">226</span> <span style=\"color: #800080; text-decoration-color: #800080\">/</span> <span style=\"color: #008080; text-decoration-color: #008080; font-weight: bold\">2365</span> <span style=\"font-weight: bold\">(</span><span style=\"color: #008080; text-decoration-color: #008080; font-weight: bold\">9.6</span> %<span style=\"font-weight: bold\">)</span> ROIs had zero STD\n",
       "</pre>\n"
      ],
      "text/plain": [
       "sub-DKI43_ses-2_run-\u001b[1;36m3\u001b[0m:          a total of \u001b[1;36m226\u001b[0m \u001b[35m/\u001b[0m \u001b[1;36m2365\u001b[0m \u001b[1m(\u001b[0m\u001b[1;36m9.6\u001b[0m %\u001b[1m)\u001b[0m ROIs had zero STD\n"
      ]
     },
     "metadata": {},
     "output_type": "display_data"
    },
    {
     "data": {
      "text/html": [
       "<pre style=\"white-space:pre;overflow-x:auto;line-height:normal;font-family:Menlo,'DejaVu Sans Mono',consolas,'Courier New',monospace\">sub-DKI44_ses-2_run-<span style=\"color: #008080; text-decoration-color: #008080; font-weight: bold\">1</span>:          a total of <span style=\"color: #008080; text-decoration-color: #008080; font-weight: bold\">307</span> <span style=\"color: #800080; text-decoration-color: #800080\">/</span> <span style=\"color: #008080; text-decoration-color: #008080; font-weight: bold\">2365</span> <span style=\"font-weight: bold\">(</span><span style=\"color: #008080; text-decoration-color: #008080; font-weight: bold\">13.0</span> %<span style=\"font-weight: bold\">)</span> ROIs had zero STD\n",
       "</pre>\n"
      ],
      "text/plain": [
       "sub-DKI44_ses-2_run-\u001b[1;36m1\u001b[0m:          a total of \u001b[1;36m307\u001b[0m \u001b[35m/\u001b[0m \u001b[1;36m2365\u001b[0m \u001b[1m(\u001b[0m\u001b[1;36m13.0\u001b[0m %\u001b[1m)\u001b[0m ROIs had zero STD\n"
      ]
     },
     "metadata": {},
     "output_type": "display_data"
    },
    {
     "data": {
      "text/html": [
       "<pre style=\"white-space:pre;overflow-x:auto;line-height:normal;font-family:Menlo,'DejaVu Sans Mono',consolas,'Courier New',monospace\">sub-DKI44_ses-2_run-<span style=\"color: #008080; text-decoration-color: #008080; font-weight: bold\">2</span>:          a total of <span style=\"color: #008080; text-decoration-color: #008080; font-weight: bold\">296</span> <span style=\"color: #800080; text-decoration-color: #800080\">/</span> <span style=\"color: #008080; text-decoration-color: #008080; font-weight: bold\">2365</span> <span style=\"font-weight: bold\">(</span><span style=\"color: #008080; text-decoration-color: #008080; font-weight: bold\">12.5</span> %<span style=\"font-weight: bold\">)</span> ROIs had zero STD\n",
       "</pre>\n"
      ],
      "text/plain": [
       "sub-DKI44_ses-2_run-\u001b[1;36m2\u001b[0m:          a total of \u001b[1;36m296\u001b[0m \u001b[35m/\u001b[0m \u001b[1;36m2365\u001b[0m \u001b[1m(\u001b[0m\u001b[1;36m12.5\u001b[0m %\u001b[1m)\u001b[0m ROIs had zero STD\n"
      ]
     },
     "metadata": {},
     "output_type": "display_data"
    },
    {
     "data": {
      "text/html": [
       "<pre style=\"white-space:pre;overflow-x:auto;line-height:normal;font-family:Menlo,'DejaVu Sans Mono',consolas,'Courier New',monospace\">sub-DKI44_ses-2_run-<span style=\"color: #008080; text-decoration-color: #008080; font-weight: bold\">3</span>:          a total of <span style=\"color: #008080; text-decoration-color: #008080; font-weight: bold\">289</span> <span style=\"color: #800080; text-decoration-color: #800080\">/</span> <span style=\"color: #008080; text-decoration-color: #008080; font-weight: bold\">2365</span> <span style=\"font-weight: bold\">(</span><span style=\"color: #008080; text-decoration-color: #008080; font-weight: bold\">12.2</span> %<span style=\"font-weight: bold\">)</span> ROIs had zero STD\n",
       "</pre>\n"
      ],
      "text/plain": [
       "sub-DKI44_ses-2_run-\u001b[1;36m3\u001b[0m:          a total of \u001b[1;36m289\u001b[0m \u001b[35m/\u001b[0m \u001b[1;36m2365\u001b[0m \u001b[1m(\u001b[0m\u001b[1;36m12.2\u001b[0m %\u001b[1m)\u001b[0m ROIs had zero STD\n"
      ]
     },
     "metadata": {},
     "output_type": "display_data"
    },
    {
     "data": {
      "text/html": [
       "<pre style=\"white-space:pre;overflow-x:auto;line-height:normal;font-family:Menlo,'DejaVu Sans Mono',consolas,'Courier New',monospace\">sub-WT01_ses-1_run-<span style=\"color: #008080; text-decoration-color: #008080; font-weight: bold\">1</span>:           a total of <span style=\"color: #008080; text-decoration-color: #008080; font-weight: bold\">160</span> <span style=\"color: #800080; text-decoration-color: #800080\">/</span> <span style=\"color: #008080; text-decoration-color: #008080; font-weight: bold\">2365</span> <span style=\"font-weight: bold\">(</span><span style=\"color: #008080; text-decoration-color: #008080; font-weight: bold\">6.8</span> %<span style=\"font-weight: bold\">)</span> ROIs had zero STD\n",
       "</pre>\n"
      ],
      "text/plain": [
       "sub-WT01_ses-1_run-\u001b[1;36m1\u001b[0m:           a total of \u001b[1;36m160\u001b[0m \u001b[35m/\u001b[0m \u001b[1;36m2365\u001b[0m \u001b[1m(\u001b[0m\u001b[1;36m6.8\u001b[0m %\u001b[1m)\u001b[0m ROIs had zero STD\n"
      ]
     },
     "metadata": {},
     "output_type": "display_data"
    },
    {
     "data": {
      "text/html": [
       "<pre style=\"white-space:pre;overflow-x:auto;line-height:normal;font-family:Menlo,'DejaVu Sans Mono',consolas,'Courier New',monospace\">sub-WT01_ses-1_run-<span style=\"color: #008080; text-decoration-color: #008080; font-weight: bold\">2</span>:           a total of <span style=\"color: #008080; text-decoration-color: #008080; font-weight: bold\">187</span> <span style=\"color: #800080; text-decoration-color: #800080\">/</span> <span style=\"color: #008080; text-decoration-color: #008080; font-weight: bold\">2365</span> <span style=\"font-weight: bold\">(</span><span style=\"color: #008080; text-decoration-color: #008080; font-weight: bold\">7.9</span> %<span style=\"font-weight: bold\">)</span> ROIs had zero STD\n",
       "</pre>\n"
      ],
      "text/plain": [
       "sub-WT01_ses-1_run-\u001b[1;36m2\u001b[0m:           a total of \u001b[1;36m187\u001b[0m \u001b[35m/\u001b[0m \u001b[1;36m2365\u001b[0m \u001b[1m(\u001b[0m\u001b[1;36m7.9\u001b[0m %\u001b[1m)\u001b[0m ROIs had zero STD\n"
      ]
     },
     "metadata": {},
     "output_type": "display_data"
    },
    {
     "data": {
      "text/html": [
       "<pre style=\"white-space:pre;overflow-x:auto;line-height:normal;font-family:Menlo,'DejaVu Sans Mono',consolas,'Courier New',monospace\">sub-WT01_ses-1_run-<span style=\"color: #008080; text-decoration-color: #008080; font-weight: bold\">3</span>:           a total of <span style=\"color: #008080; text-decoration-color: #008080; font-weight: bold\">170</span> <span style=\"color: #800080; text-decoration-color: #800080\">/</span> <span style=\"color: #008080; text-decoration-color: #008080; font-weight: bold\">2365</span> <span style=\"font-weight: bold\">(</span><span style=\"color: #008080; text-decoration-color: #008080; font-weight: bold\">7.2</span> %<span style=\"font-weight: bold\">)</span> ROIs had zero STD\n",
       "</pre>\n"
      ],
      "text/plain": [
       "sub-WT01_ses-1_run-\u001b[1;36m3\u001b[0m:           a total of \u001b[1;36m170\u001b[0m \u001b[35m/\u001b[0m \u001b[1;36m2365\u001b[0m \u001b[1m(\u001b[0m\u001b[1;36m7.2\u001b[0m %\u001b[1m)\u001b[0m ROIs had zero STD\n"
      ]
     },
     "metadata": {},
     "output_type": "display_data"
    },
    {
     "data": {
      "text/html": [
       "<pre style=\"white-space:pre;overflow-x:auto;line-height:normal;font-family:Menlo,'DejaVu Sans Mono',consolas,'Courier New',monospace\">sub-WT01_ses-2_run-<span style=\"color: #008080; text-decoration-color: #008080; font-weight: bold\">1</span>:           a total of <span style=\"color: #008080; text-decoration-color: #008080; font-weight: bold\">297</span> <span style=\"color: #800080; text-decoration-color: #800080\">/</span> <span style=\"color: #008080; text-decoration-color: #008080; font-weight: bold\">2365</span> <span style=\"font-weight: bold\">(</span><span style=\"color: #008080; text-decoration-color: #008080; font-weight: bold\">12.6</span> %<span style=\"font-weight: bold\">)</span> ROIs had zero STD\n",
       "</pre>\n"
      ],
      "text/plain": [
       "sub-WT01_ses-2_run-\u001b[1;36m1\u001b[0m:           a total of \u001b[1;36m297\u001b[0m \u001b[35m/\u001b[0m \u001b[1;36m2365\u001b[0m \u001b[1m(\u001b[0m\u001b[1;36m12.6\u001b[0m %\u001b[1m)\u001b[0m ROIs had zero STD\n"
      ]
     },
     "metadata": {},
     "output_type": "display_data"
    },
    {
     "data": {
      "text/html": [
       "<pre style=\"white-space:pre;overflow-x:auto;line-height:normal;font-family:Menlo,'DejaVu Sans Mono',consolas,'Courier New',monospace\">sub-WT01_ses-2_run-<span style=\"color: #008080; text-decoration-color: #008080; font-weight: bold\">2</span>:           a total of <span style=\"color: #008080; text-decoration-color: #008080; font-weight: bold\">337</span> <span style=\"color: #800080; text-decoration-color: #800080\">/</span> <span style=\"color: #008080; text-decoration-color: #008080; font-weight: bold\">2365</span> <span style=\"font-weight: bold\">(</span><span style=\"color: #008080; text-decoration-color: #008080; font-weight: bold\">14.2</span> %<span style=\"font-weight: bold\">)</span> ROIs had zero STD\n",
       "</pre>\n"
      ],
      "text/plain": [
       "sub-WT01_ses-2_run-\u001b[1;36m2\u001b[0m:           a total of \u001b[1;36m337\u001b[0m \u001b[35m/\u001b[0m \u001b[1;36m2365\u001b[0m \u001b[1m(\u001b[0m\u001b[1;36m14.2\u001b[0m %\u001b[1m)\u001b[0m ROIs had zero STD\n"
      ]
     },
     "metadata": {},
     "output_type": "display_data"
    },
    {
     "data": {
      "text/html": [
       "<pre style=\"white-space:pre;overflow-x:auto;line-height:normal;font-family:Menlo,'DejaVu Sans Mono',consolas,'Courier New',monospace\">sub-WT01_ses-2_run-<span style=\"color: #008080; text-decoration-color: #008080; font-weight: bold\">3</span>:           a total of <span style=\"color: #008080; text-decoration-color: #008080; font-weight: bold\">324</span> <span style=\"color: #800080; text-decoration-color: #800080\">/</span> <span style=\"color: #008080; text-decoration-color: #008080; font-weight: bold\">2365</span> <span style=\"font-weight: bold\">(</span><span style=\"color: #008080; text-decoration-color: #008080; font-weight: bold\">13.7</span> %<span style=\"font-weight: bold\">)</span> ROIs had zero STD\n",
       "</pre>\n"
      ],
      "text/plain": [
       "sub-WT01_ses-2_run-\u001b[1;36m3\u001b[0m:           a total of \u001b[1;36m324\u001b[0m \u001b[35m/\u001b[0m \u001b[1;36m2365\u001b[0m \u001b[1m(\u001b[0m\u001b[1;36m13.7\u001b[0m %\u001b[1m)\u001b[0m ROIs had zero STD\n"
      ]
     },
     "metadata": {},
     "output_type": "display_data"
    },
    {
     "data": {
      "text/html": [
       "<pre style=\"white-space:pre;overflow-x:auto;line-height:normal;font-family:Menlo,'DejaVu Sans Mono',consolas,'Courier New',monospace\">sub-WT01_ses-3_run-<span style=\"color: #008080; text-decoration-color: #008080; font-weight: bold\">1</span>:           a total of <span style=\"color: #008080; text-decoration-color: #008080; font-weight: bold\">115</span> <span style=\"color: #800080; text-decoration-color: #800080\">/</span> <span style=\"color: #008080; text-decoration-color: #008080; font-weight: bold\">2365</span> <span style=\"font-weight: bold\">(</span><span style=\"color: #008080; text-decoration-color: #008080; font-weight: bold\">4.9</span> %<span style=\"font-weight: bold\">)</span> ROIs had zero STD\n",
       "</pre>\n"
      ],
      "text/plain": [
       "sub-WT01_ses-3_run-\u001b[1;36m1\u001b[0m:           a total of \u001b[1;36m115\u001b[0m \u001b[35m/\u001b[0m \u001b[1;36m2365\u001b[0m \u001b[1m(\u001b[0m\u001b[1;36m4.9\u001b[0m %\u001b[1m)\u001b[0m ROIs had zero STD\n"
      ]
     },
     "metadata": {},
     "output_type": "display_data"
    },
    {
     "data": {
      "text/html": [
       "<pre style=\"white-space:pre;overflow-x:auto;line-height:normal;font-family:Menlo,'DejaVu Sans Mono',consolas,'Courier New',monospace\">sub-WT01_ses-3_run-<span style=\"color: #008080; text-decoration-color: #008080; font-weight: bold\">2</span>:           a total of <span style=\"color: #008080; text-decoration-color: #008080; font-weight: bold\">118</span> <span style=\"color: #800080; text-decoration-color: #800080\">/</span> <span style=\"color: #008080; text-decoration-color: #008080; font-weight: bold\">2365</span> <span style=\"font-weight: bold\">(</span><span style=\"color: #008080; text-decoration-color: #008080; font-weight: bold\">5.0</span> %<span style=\"font-weight: bold\">)</span> ROIs had zero STD\n",
       "</pre>\n"
      ],
      "text/plain": [
       "sub-WT01_ses-3_run-\u001b[1;36m2\u001b[0m:           a total of \u001b[1;36m118\u001b[0m \u001b[35m/\u001b[0m \u001b[1;36m2365\u001b[0m \u001b[1m(\u001b[0m\u001b[1;36m5.0\u001b[0m %\u001b[1m)\u001b[0m ROIs had zero STD\n"
      ]
     },
     "metadata": {},
     "output_type": "display_data"
    },
    {
     "data": {
      "text/html": [
       "<pre style=\"white-space:pre;overflow-x:auto;line-height:normal;font-family:Menlo,'DejaVu Sans Mono',consolas,'Courier New',monospace\">sub-WT01_ses-3_run-<span style=\"color: #008080; text-decoration-color: #008080; font-weight: bold\">3</span>:           a total of <span style=\"color: #008080; text-decoration-color: #008080; font-weight: bold\">138</span> <span style=\"color: #800080; text-decoration-color: #800080\">/</span> <span style=\"color: #008080; text-decoration-color: #008080; font-weight: bold\">2365</span> <span style=\"font-weight: bold\">(</span><span style=\"color: #008080; text-decoration-color: #008080; font-weight: bold\">5.8</span> %<span style=\"font-weight: bold\">)</span> ROIs had zero STD\n",
       "</pre>\n"
      ],
      "text/plain": [
       "sub-WT01_ses-3_run-\u001b[1;36m3\u001b[0m:           a total of \u001b[1;36m138\u001b[0m \u001b[35m/\u001b[0m \u001b[1;36m2365\u001b[0m \u001b[1m(\u001b[0m\u001b[1;36m5.8\u001b[0m %\u001b[1m)\u001b[0m ROIs had zero STD\n"
      ]
     },
     "metadata": {},
     "output_type": "display_data"
    },
    {
     "data": {
      "text/html": [
       "<pre style=\"white-space:pre;overflow-x:auto;line-height:normal;font-family:Menlo,'DejaVu Sans Mono',consolas,'Courier New',monospace\">sub-WT02_ses-1_run-<span style=\"color: #008080; text-decoration-color: #008080; font-weight: bold\">1</span>:           a total of <span style=\"color: #008080; text-decoration-color: #008080; font-weight: bold\">206</span> <span style=\"color: #800080; text-decoration-color: #800080\">/</span> <span style=\"color: #008080; text-decoration-color: #008080; font-weight: bold\">2365</span> <span style=\"font-weight: bold\">(</span><span style=\"color: #008080; text-decoration-color: #008080; font-weight: bold\">8.7</span> %<span style=\"font-weight: bold\">)</span> ROIs had zero STD\n",
       "</pre>\n"
      ],
      "text/plain": [
       "sub-WT02_ses-1_run-\u001b[1;36m1\u001b[0m:           a total of \u001b[1;36m206\u001b[0m \u001b[35m/\u001b[0m \u001b[1;36m2365\u001b[0m \u001b[1m(\u001b[0m\u001b[1;36m8.7\u001b[0m %\u001b[1m)\u001b[0m ROIs had zero STD\n"
      ]
     },
     "metadata": {},
     "output_type": "display_data"
    },
    {
     "data": {
      "text/html": [
       "<pre style=\"white-space:pre;overflow-x:auto;line-height:normal;font-family:Menlo,'DejaVu Sans Mono',consolas,'Courier New',monospace\">sub-WT02_ses-1_run-<span style=\"color: #008080; text-decoration-color: #008080; font-weight: bold\">2</span>:           a total of <span style=\"color: #008080; text-decoration-color: #008080; font-weight: bold\">159</span> <span style=\"color: #800080; text-decoration-color: #800080\">/</span> <span style=\"color: #008080; text-decoration-color: #008080; font-weight: bold\">2365</span> <span style=\"font-weight: bold\">(</span><span style=\"color: #008080; text-decoration-color: #008080; font-weight: bold\">6.7</span> %<span style=\"font-weight: bold\">)</span> ROIs had zero STD\n",
       "</pre>\n"
      ],
      "text/plain": [
       "sub-WT02_ses-1_run-\u001b[1;36m2\u001b[0m:           a total of \u001b[1;36m159\u001b[0m \u001b[35m/\u001b[0m \u001b[1;36m2365\u001b[0m \u001b[1m(\u001b[0m\u001b[1;36m6.7\u001b[0m %\u001b[1m)\u001b[0m ROIs had zero STD\n"
      ]
     },
     "metadata": {},
     "output_type": "display_data"
    },
    {
     "data": {
      "text/html": [
       "<pre style=\"white-space:pre;overflow-x:auto;line-height:normal;font-family:Menlo,'DejaVu Sans Mono',consolas,'Courier New',monospace\">sub-WT02_ses-1_run-<span style=\"color: #008080; text-decoration-color: #008080; font-weight: bold\">3</span>:           a total of <span style=\"color: #008080; text-decoration-color: #008080; font-weight: bold\">121</span> <span style=\"color: #800080; text-decoration-color: #800080\">/</span> <span style=\"color: #008080; text-decoration-color: #008080; font-weight: bold\">2365</span> <span style=\"font-weight: bold\">(</span><span style=\"color: #008080; text-decoration-color: #008080; font-weight: bold\">5.1</span> %<span style=\"font-weight: bold\">)</span> ROIs had zero STD\n",
       "</pre>\n"
      ],
      "text/plain": [
       "sub-WT02_ses-1_run-\u001b[1;36m3\u001b[0m:           a total of \u001b[1;36m121\u001b[0m \u001b[35m/\u001b[0m \u001b[1;36m2365\u001b[0m \u001b[1m(\u001b[0m\u001b[1;36m5.1\u001b[0m %\u001b[1m)\u001b[0m ROIs had zero STD\n"
      ]
     },
     "metadata": {},
     "output_type": "display_data"
    },
    {
     "data": {
      "text/html": [
       "<pre style=\"white-space:pre;overflow-x:auto;line-height:normal;font-family:Menlo,'DejaVu Sans Mono',consolas,'Courier New',monospace\">sub-WT02_ses-2_run-<span style=\"color: #008080; text-decoration-color: #008080; font-weight: bold\">1</span>:           a total of <span style=\"color: #008080; text-decoration-color: #008080; font-weight: bold\">218</span> <span style=\"color: #800080; text-decoration-color: #800080\">/</span> <span style=\"color: #008080; text-decoration-color: #008080; font-weight: bold\">2365</span> <span style=\"font-weight: bold\">(</span><span style=\"color: #008080; text-decoration-color: #008080; font-weight: bold\">9.2</span> %<span style=\"font-weight: bold\">)</span> ROIs had zero STD\n",
       "</pre>\n"
      ],
      "text/plain": [
       "sub-WT02_ses-2_run-\u001b[1;36m1\u001b[0m:           a total of \u001b[1;36m218\u001b[0m \u001b[35m/\u001b[0m \u001b[1;36m2365\u001b[0m \u001b[1m(\u001b[0m\u001b[1;36m9.2\u001b[0m %\u001b[1m)\u001b[0m ROIs had zero STD\n"
      ]
     },
     "metadata": {},
     "output_type": "display_data"
    },
    {
     "data": {
      "text/html": [
       "<pre style=\"white-space:pre;overflow-x:auto;line-height:normal;font-family:Menlo,'DejaVu Sans Mono',consolas,'Courier New',monospace\">sub-WT02_ses-2_run-<span style=\"color: #008080; text-decoration-color: #008080; font-weight: bold\">2</span>:           a total of <span style=\"color: #008080; text-decoration-color: #008080; font-weight: bold\">244</span> <span style=\"color: #800080; text-decoration-color: #800080\">/</span> <span style=\"color: #008080; text-decoration-color: #008080; font-weight: bold\">2365</span> <span style=\"font-weight: bold\">(</span><span style=\"color: #008080; text-decoration-color: #008080; font-weight: bold\">10.3</span> %<span style=\"font-weight: bold\">)</span> ROIs had zero STD\n",
       "</pre>\n"
      ],
      "text/plain": [
       "sub-WT02_ses-2_run-\u001b[1;36m2\u001b[0m:           a total of \u001b[1;36m244\u001b[0m \u001b[35m/\u001b[0m \u001b[1;36m2365\u001b[0m \u001b[1m(\u001b[0m\u001b[1;36m10.3\u001b[0m %\u001b[1m)\u001b[0m ROIs had zero STD\n"
      ]
     },
     "metadata": {},
     "output_type": "display_data"
    },
    {
     "data": {
      "text/html": [
       "<pre style=\"white-space:pre;overflow-x:auto;line-height:normal;font-family:Menlo,'DejaVu Sans Mono',consolas,'Courier New',monospace\">sub-WT02_ses-2_run-<span style=\"color: #008080; text-decoration-color: #008080; font-weight: bold\">3</span>:           a total of <span style=\"color: #008080; text-decoration-color: #008080; font-weight: bold\">236</span> <span style=\"color: #800080; text-decoration-color: #800080\">/</span> <span style=\"color: #008080; text-decoration-color: #008080; font-weight: bold\">2365</span> <span style=\"font-weight: bold\">(</span><span style=\"color: #008080; text-decoration-color: #008080; font-weight: bold\">10.0</span> %<span style=\"font-weight: bold\">)</span> ROIs had zero STD\n",
       "</pre>\n"
      ],
      "text/plain": [
       "sub-WT02_ses-2_run-\u001b[1;36m3\u001b[0m:           a total of \u001b[1;36m236\u001b[0m \u001b[35m/\u001b[0m \u001b[1;36m2365\u001b[0m \u001b[1m(\u001b[0m\u001b[1;36m10.0\u001b[0m %\u001b[1m)\u001b[0m ROIs had zero STD\n"
      ]
     },
     "metadata": {},
     "output_type": "display_data"
    },
    {
     "data": {
      "text/html": [
       "<pre style=\"white-space:pre;overflow-x:auto;line-height:normal;font-family:Menlo,'DejaVu Sans Mono',consolas,'Courier New',monospace\">sub-WT02_ses-3_run-<span style=\"color: #008080; text-decoration-color: #008080; font-weight: bold\">1</span>:           a total of <span style=\"color: #008080; text-decoration-color: #008080; font-weight: bold\">217</span> <span style=\"color: #800080; text-decoration-color: #800080\">/</span> <span style=\"color: #008080; text-decoration-color: #008080; font-weight: bold\">2365</span> <span style=\"font-weight: bold\">(</span><span style=\"color: #008080; text-decoration-color: #008080; font-weight: bold\">9.2</span> %<span style=\"font-weight: bold\">)</span> ROIs had zero STD\n",
       "</pre>\n"
      ],
      "text/plain": [
       "sub-WT02_ses-3_run-\u001b[1;36m1\u001b[0m:           a total of \u001b[1;36m217\u001b[0m \u001b[35m/\u001b[0m \u001b[1;36m2365\u001b[0m \u001b[1m(\u001b[0m\u001b[1;36m9.2\u001b[0m %\u001b[1m)\u001b[0m ROIs had zero STD\n"
      ]
     },
     "metadata": {},
     "output_type": "display_data"
    },
    {
     "data": {
      "text/html": [
       "<pre style=\"white-space:pre;overflow-x:auto;line-height:normal;font-family:Menlo,'DejaVu Sans Mono',consolas,'Courier New',monospace\">sub-WT02_ses-3_run-<span style=\"color: #008080; text-decoration-color: #008080; font-weight: bold\">2</span>:           a total of <span style=\"color: #008080; text-decoration-color: #008080; font-weight: bold\">208</span> <span style=\"color: #800080; text-decoration-color: #800080\">/</span> <span style=\"color: #008080; text-decoration-color: #008080; font-weight: bold\">2365</span> <span style=\"font-weight: bold\">(</span><span style=\"color: #008080; text-decoration-color: #008080; font-weight: bold\">8.8</span> %<span style=\"font-weight: bold\">)</span> ROIs had zero STD\n",
       "</pre>\n"
      ],
      "text/plain": [
       "sub-WT02_ses-3_run-\u001b[1;36m2\u001b[0m:           a total of \u001b[1;36m208\u001b[0m \u001b[35m/\u001b[0m \u001b[1;36m2365\u001b[0m \u001b[1m(\u001b[0m\u001b[1;36m8.8\u001b[0m %\u001b[1m)\u001b[0m ROIs had zero STD\n"
      ]
     },
     "metadata": {},
     "output_type": "display_data"
    },
    {
     "data": {
      "text/html": [
       "<pre style=\"white-space:pre;overflow-x:auto;line-height:normal;font-family:Menlo,'DejaVu Sans Mono',consolas,'Courier New',monospace\">sub-WT02_ses-3_run-<span style=\"color: #008080; text-decoration-color: #008080; font-weight: bold\">3</span>:           a total of <span style=\"color: #008080; text-decoration-color: #008080; font-weight: bold\">193</span> <span style=\"color: #800080; text-decoration-color: #800080\">/</span> <span style=\"color: #008080; text-decoration-color: #008080; font-weight: bold\">2365</span> <span style=\"font-weight: bold\">(</span><span style=\"color: #008080; text-decoration-color: #008080; font-weight: bold\">8.2</span> %<span style=\"font-weight: bold\">)</span> ROIs had zero STD\n",
       "</pre>\n"
      ],
      "text/plain": [
       "sub-WT02_ses-3_run-\u001b[1;36m3\u001b[0m:           a total of \u001b[1;36m193\u001b[0m \u001b[35m/\u001b[0m \u001b[1;36m2365\u001b[0m \u001b[1m(\u001b[0m\u001b[1;36m8.2\u001b[0m %\u001b[1m)\u001b[0m ROIs had zero STD\n"
      ]
     },
     "metadata": {},
     "output_type": "display_data"
    },
    {
     "data": {
      "text/html": [
       "<pre style=\"white-space:pre;overflow-x:auto;line-height:normal;font-family:Menlo,'DejaVu Sans Mono',consolas,'Courier New',monospace\">sub-WT03_ses-1_run-<span style=\"color: #008080; text-decoration-color: #008080; font-weight: bold\">1</span>:           a total of <span style=\"color: #008080; text-decoration-color: #008080; font-weight: bold\">258</span> <span style=\"color: #800080; text-decoration-color: #800080\">/</span> <span style=\"color: #008080; text-decoration-color: #008080; font-weight: bold\">2365</span> <span style=\"font-weight: bold\">(</span><span style=\"color: #008080; text-decoration-color: #008080; font-weight: bold\">10.9</span> %<span style=\"font-weight: bold\">)</span> ROIs had zero STD\n",
       "</pre>\n"
      ],
      "text/plain": [
       "sub-WT03_ses-1_run-\u001b[1;36m1\u001b[0m:           a total of \u001b[1;36m258\u001b[0m \u001b[35m/\u001b[0m \u001b[1;36m2365\u001b[0m \u001b[1m(\u001b[0m\u001b[1;36m10.9\u001b[0m %\u001b[1m)\u001b[0m ROIs had zero STD\n"
      ]
     },
     "metadata": {},
     "output_type": "display_data"
    },
    {
     "data": {
      "text/html": [
       "<pre style=\"white-space:pre;overflow-x:auto;line-height:normal;font-family:Menlo,'DejaVu Sans Mono',consolas,'Courier New',monospace\">sub-WT03_ses-1_run-<span style=\"color: #008080; text-decoration-color: #008080; font-weight: bold\">2</span>:           a total of <span style=\"color: #008080; text-decoration-color: #008080; font-weight: bold\">238</span> <span style=\"color: #800080; text-decoration-color: #800080\">/</span> <span style=\"color: #008080; text-decoration-color: #008080; font-weight: bold\">2365</span> <span style=\"font-weight: bold\">(</span><span style=\"color: #008080; text-decoration-color: #008080; font-weight: bold\">10.1</span> %<span style=\"font-weight: bold\">)</span> ROIs had zero STD\n",
       "</pre>\n"
      ],
      "text/plain": [
       "sub-WT03_ses-1_run-\u001b[1;36m2\u001b[0m:           a total of \u001b[1;36m238\u001b[0m \u001b[35m/\u001b[0m \u001b[1;36m2365\u001b[0m \u001b[1m(\u001b[0m\u001b[1;36m10.1\u001b[0m %\u001b[1m)\u001b[0m ROIs had zero STD\n"
      ]
     },
     "metadata": {},
     "output_type": "display_data"
    },
    {
     "data": {
      "text/html": [
       "<pre style=\"white-space:pre;overflow-x:auto;line-height:normal;font-family:Menlo,'DejaVu Sans Mono',consolas,'Courier New',monospace\">sub-WT03_ses-1_run-<span style=\"color: #008080; text-decoration-color: #008080; font-weight: bold\">3</span>:           a total of <span style=\"color: #008080; text-decoration-color: #008080; font-weight: bold\">258</span> <span style=\"color: #800080; text-decoration-color: #800080\">/</span> <span style=\"color: #008080; text-decoration-color: #008080; font-weight: bold\">2365</span> <span style=\"font-weight: bold\">(</span><span style=\"color: #008080; text-decoration-color: #008080; font-weight: bold\">10.9</span> %<span style=\"font-weight: bold\">)</span> ROIs had zero STD\n",
       "</pre>\n"
      ],
      "text/plain": [
       "sub-WT03_ses-1_run-\u001b[1;36m3\u001b[0m:           a total of \u001b[1;36m258\u001b[0m \u001b[35m/\u001b[0m \u001b[1;36m2365\u001b[0m \u001b[1m(\u001b[0m\u001b[1;36m10.9\u001b[0m %\u001b[1m)\u001b[0m ROIs had zero STD\n"
      ]
     },
     "metadata": {},
     "output_type": "display_data"
    },
    {
     "data": {
      "text/html": [
       "<pre style=\"white-space:pre;overflow-x:auto;line-height:normal;font-family:Menlo,'DejaVu Sans Mono',consolas,'Courier New',monospace\">sub-WT03_ses-2_run-<span style=\"color: #008080; text-decoration-color: #008080; font-weight: bold\">1</span>:           a total of <span style=\"color: #008080; text-decoration-color: #008080; font-weight: bold\">243</span> <span style=\"color: #800080; text-decoration-color: #800080\">/</span> <span style=\"color: #008080; text-decoration-color: #008080; font-weight: bold\">2365</span> <span style=\"font-weight: bold\">(</span><span style=\"color: #008080; text-decoration-color: #008080; font-weight: bold\">10.3</span> %<span style=\"font-weight: bold\">)</span> ROIs had zero STD\n",
       "</pre>\n"
      ],
      "text/plain": [
       "sub-WT03_ses-2_run-\u001b[1;36m1\u001b[0m:           a total of \u001b[1;36m243\u001b[0m \u001b[35m/\u001b[0m \u001b[1;36m2365\u001b[0m \u001b[1m(\u001b[0m\u001b[1;36m10.3\u001b[0m %\u001b[1m)\u001b[0m ROIs had zero STD\n"
      ]
     },
     "metadata": {},
     "output_type": "display_data"
    },
    {
     "data": {
      "text/html": [
       "<pre style=\"white-space:pre;overflow-x:auto;line-height:normal;font-family:Menlo,'DejaVu Sans Mono',consolas,'Courier New',monospace\">sub-WT03_ses-2_run-<span style=\"color: #008080; text-decoration-color: #008080; font-weight: bold\">2</span>:           a total of <span style=\"color: #008080; text-decoration-color: #008080; font-weight: bold\">224</span> <span style=\"color: #800080; text-decoration-color: #800080\">/</span> <span style=\"color: #008080; text-decoration-color: #008080; font-weight: bold\">2365</span> <span style=\"font-weight: bold\">(</span><span style=\"color: #008080; text-decoration-color: #008080; font-weight: bold\">9.5</span> %<span style=\"font-weight: bold\">)</span> ROIs had zero STD\n",
       "</pre>\n"
      ],
      "text/plain": [
       "sub-WT03_ses-2_run-\u001b[1;36m2\u001b[0m:           a total of \u001b[1;36m224\u001b[0m \u001b[35m/\u001b[0m \u001b[1;36m2365\u001b[0m \u001b[1m(\u001b[0m\u001b[1;36m9.5\u001b[0m %\u001b[1m)\u001b[0m ROIs had zero STD\n"
      ]
     },
     "metadata": {},
     "output_type": "display_data"
    },
    {
     "data": {
      "text/html": [
       "<pre style=\"white-space:pre;overflow-x:auto;line-height:normal;font-family:Menlo,'DejaVu Sans Mono',consolas,'Courier New',monospace\">sub-WT03_ses-2_run-<span style=\"color: #008080; text-decoration-color: #008080; font-weight: bold\">3</span>:           a total of <span style=\"color: #008080; text-decoration-color: #008080; font-weight: bold\">217</span> <span style=\"color: #800080; text-decoration-color: #800080\">/</span> <span style=\"color: #008080; text-decoration-color: #008080; font-weight: bold\">2365</span> <span style=\"font-weight: bold\">(</span><span style=\"color: #008080; text-decoration-color: #008080; font-weight: bold\">9.2</span> %<span style=\"font-weight: bold\">)</span> ROIs had zero STD\n",
       "</pre>\n"
      ],
      "text/plain": [
       "sub-WT03_ses-2_run-\u001b[1;36m3\u001b[0m:           a total of \u001b[1;36m217\u001b[0m \u001b[35m/\u001b[0m \u001b[1;36m2365\u001b[0m \u001b[1m(\u001b[0m\u001b[1;36m9.2\u001b[0m %\u001b[1m)\u001b[0m ROIs had zero STD\n"
      ]
     },
     "metadata": {},
     "output_type": "display_data"
    },
    {
     "data": {
      "text/html": [
       "<pre style=\"white-space:pre;overflow-x:auto;line-height:normal;font-family:Menlo,'DejaVu Sans Mono',consolas,'Courier New',monospace\">sub-WT04_ses-1_run-<span style=\"color: #008080; text-decoration-color: #008080; font-weight: bold\">1</span>:           a total of <span style=\"color: #008080; text-decoration-color: #008080; font-weight: bold\">163</span> <span style=\"color: #800080; text-decoration-color: #800080\">/</span> <span style=\"color: #008080; text-decoration-color: #008080; font-weight: bold\">2365</span> <span style=\"font-weight: bold\">(</span><span style=\"color: #008080; text-decoration-color: #008080; font-weight: bold\">6.9</span> %<span style=\"font-weight: bold\">)</span> ROIs had zero STD\n",
       "</pre>\n"
      ],
      "text/plain": [
       "sub-WT04_ses-1_run-\u001b[1;36m1\u001b[0m:           a total of \u001b[1;36m163\u001b[0m \u001b[35m/\u001b[0m \u001b[1;36m2365\u001b[0m \u001b[1m(\u001b[0m\u001b[1;36m6.9\u001b[0m %\u001b[1m)\u001b[0m ROIs had zero STD\n"
      ]
     },
     "metadata": {},
     "output_type": "display_data"
    },
    {
     "data": {
      "text/html": [
       "<pre style=\"white-space:pre;overflow-x:auto;line-height:normal;font-family:Menlo,'DejaVu Sans Mono',consolas,'Courier New',monospace\">sub-WT04_ses-1_run-<span style=\"color: #008080; text-decoration-color: #008080; font-weight: bold\">2</span>:           a total of <span style=\"color: #008080; text-decoration-color: #008080; font-weight: bold\">165</span> <span style=\"color: #800080; text-decoration-color: #800080\">/</span> <span style=\"color: #008080; text-decoration-color: #008080; font-weight: bold\">2365</span> <span style=\"font-weight: bold\">(</span><span style=\"color: #008080; text-decoration-color: #008080; font-weight: bold\">7.0</span> %<span style=\"font-weight: bold\">)</span> ROIs had zero STD\n",
       "</pre>\n"
      ],
      "text/plain": [
       "sub-WT04_ses-1_run-\u001b[1;36m2\u001b[0m:           a total of \u001b[1;36m165\u001b[0m \u001b[35m/\u001b[0m \u001b[1;36m2365\u001b[0m \u001b[1m(\u001b[0m\u001b[1;36m7.0\u001b[0m %\u001b[1m)\u001b[0m ROIs had zero STD\n"
      ]
     },
     "metadata": {},
     "output_type": "display_data"
    },
    {
     "data": {
      "text/html": [
       "<pre style=\"white-space:pre;overflow-x:auto;line-height:normal;font-family:Menlo,'DejaVu Sans Mono',consolas,'Courier New',monospace\">sub-WT04_ses-1_run-<span style=\"color: #008080; text-decoration-color: #008080; font-weight: bold\">3</span>:           a total of <span style=\"color: #008080; text-decoration-color: #008080; font-weight: bold\">162</span> <span style=\"color: #800080; text-decoration-color: #800080\">/</span> <span style=\"color: #008080; text-decoration-color: #008080; font-weight: bold\">2365</span> <span style=\"font-weight: bold\">(</span><span style=\"color: #008080; text-decoration-color: #008080; font-weight: bold\">6.8</span> %<span style=\"font-weight: bold\">)</span> ROIs had zero STD\n",
       "</pre>\n"
      ],
      "text/plain": [
       "sub-WT04_ses-1_run-\u001b[1;36m3\u001b[0m:           a total of \u001b[1;36m162\u001b[0m \u001b[35m/\u001b[0m \u001b[1;36m2365\u001b[0m \u001b[1m(\u001b[0m\u001b[1;36m6.8\u001b[0m %\u001b[1m)\u001b[0m ROIs had zero STD\n"
      ]
     },
     "metadata": {},
     "output_type": "display_data"
    },
    {
     "data": {
      "text/html": [
       "<pre style=\"white-space:pre;overflow-x:auto;line-height:normal;font-family:Menlo,'DejaVu Sans Mono',consolas,'Courier New',monospace\">sub-WT04_ses-2_run-<span style=\"color: #008080; text-decoration-color: #008080; font-weight: bold\">1</span>:           a total of <span style=\"color: #008080; text-decoration-color: #008080; font-weight: bold\">213</span> <span style=\"color: #800080; text-decoration-color: #800080\">/</span> <span style=\"color: #008080; text-decoration-color: #008080; font-weight: bold\">2365</span> <span style=\"font-weight: bold\">(</span><span style=\"color: #008080; text-decoration-color: #008080; font-weight: bold\">9.0</span> %<span style=\"font-weight: bold\">)</span> ROIs had zero STD\n",
       "</pre>\n"
      ],
      "text/plain": [
       "sub-WT04_ses-2_run-\u001b[1;36m1\u001b[0m:           a total of \u001b[1;36m213\u001b[0m \u001b[35m/\u001b[0m \u001b[1;36m2365\u001b[0m \u001b[1m(\u001b[0m\u001b[1;36m9.0\u001b[0m %\u001b[1m)\u001b[0m ROIs had zero STD\n"
      ]
     },
     "metadata": {},
     "output_type": "display_data"
    },
    {
     "data": {
      "text/html": [
       "<pre style=\"white-space:pre;overflow-x:auto;line-height:normal;font-family:Menlo,'DejaVu Sans Mono',consolas,'Courier New',monospace\">sub-WT04_ses-2_run-<span style=\"color: #008080; text-decoration-color: #008080; font-weight: bold\">2</span>:           a total of <span style=\"color: #008080; text-decoration-color: #008080; font-weight: bold\">213</span> <span style=\"color: #800080; text-decoration-color: #800080\">/</span> <span style=\"color: #008080; text-decoration-color: #008080; font-weight: bold\">2365</span> <span style=\"font-weight: bold\">(</span><span style=\"color: #008080; text-decoration-color: #008080; font-weight: bold\">9.0</span> %<span style=\"font-weight: bold\">)</span> ROIs had zero STD\n",
       "</pre>\n"
      ],
      "text/plain": [
       "sub-WT04_ses-2_run-\u001b[1;36m2\u001b[0m:           a total of \u001b[1;36m213\u001b[0m \u001b[35m/\u001b[0m \u001b[1;36m2365\u001b[0m \u001b[1m(\u001b[0m\u001b[1;36m9.0\u001b[0m %\u001b[1m)\u001b[0m ROIs had zero STD\n"
      ]
     },
     "metadata": {},
     "output_type": "display_data"
    },
    {
     "data": {
      "text/html": [
       "<pre style=\"white-space:pre;overflow-x:auto;line-height:normal;font-family:Menlo,'DejaVu Sans Mono',consolas,'Courier New',monospace\">sub-WT04_ses-2_run-<span style=\"color: #008080; text-decoration-color: #008080; font-weight: bold\">3</span>:           a total of <span style=\"color: #008080; text-decoration-color: #008080; font-weight: bold\">187</span> <span style=\"color: #800080; text-decoration-color: #800080\">/</span> <span style=\"color: #008080; text-decoration-color: #008080; font-weight: bold\">2365</span> <span style=\"font-weight: bold\">(</span><span style=\"color: #008080; text-decoration-color: #008080; font-weight: bold\">7.9</span> %<span style=\"font-weight: bold\">)</span> ROIs had zero STD\n",
       "</pre>\n"
      ],
      "text/plain": [
       "sub-WT04_ses-2_run-\u001b[1;36m3\u001b[0m:           a total of \u001b[1;36m187\u001b[0m \u001b[35m/\u001b[0m \u001b[1;36m2365\u001b[0m \u001b[1m(\u001b[0m\u001b[1;36m7.9\u001b[0m %\u001b[1m)\u001b[0m ROIs had zero STD\n"
      ]
     },
     "metadata": {},
     "output_type": "display_data"
    },
    {
     "data": {
      "text/html": [
       "<pre style=\"white-space:pre;overflow-x:auto;line-height:normal;font-family:Menlo,'DejaVu Sans Mono',consolas,'Courier New',monospace\">sub-WT05_ses-1_run-<span style=\"color: #008080; text-decoration-color: #008080; font-weight: bold\">1</span>:           a total of <span style=\"color: #008080; text-decoration-color: #008080; font-weight: bold\">191</span> <span style=\"color: #800080; text-decoration-color: #800080\">/</span> <span style=\"color: #008080; text-decoration-color: #008080; font-weight: bold\">2365</span> <span style=\"font-weight: bold\">(</span><span style=\"color: #008080; text-decoration-color: #008080; font-weight: bold\">8.1</span> %<span style=\"font-weight: bold\">)</span> ROIs had zero STD\n",
       "</pre>\n"
      ],
      "text/plain": [
       "sub-WT05_ses-1_run-\u001b[1;36m1\u001b[0m:           a total of \u001b[1;36m191\u001b[0m \u001b[35m/\u001b[0m \u001b[1;36m2365\u001b[0m \u001b[1m(\u001b[0m\u001b[1;36m8.1\u001b[0m %\u001b[1m)\u001b[0m ROIs had zero STD\n"
      ]
     },
     "metadata": {},
     "output_type": "display_data"
    },
    {
     "data": {
      "text/html": [
       "<pre style=\"white-space:pre;overflow-x:auto;line-height:normal;font-family:Menlo,'DejaVu Sans Mono',consolas,'Courier New',monospace\">sub-WT05_ses-1_run-<span style=\"color: #008080; text-decoration-color: #008080; font-weight: bold\">2</span>:           a total of <span style=\"color: #008080; text-decoration-color: #008080; font-weight: bold\">169</span> <span style=\"color: #800080; text-decoration-color: #800080\">/</span> <span style=\"color: #008080; text-decoration-color: #008080; font-weight: bold\">2365</span> <span style=\"font-weight: bold\">(</span><span style=\"color: #008080; text-decoration-color: #008080; font-weight: bold\">7.1</span> %<span style=\"font-weight: bold\">)</span> ROIs had zero STD\n",
       "</pre>\n"
      ],
      "text/plain": [
       "sub-WT05_ses-1_run-\u001b[1;36m2\u001b[0m:           a total of \u001b[1;36m169\u001b[0m \u001b[35m/\u001b[0m \u001b[1;36m2365\u001b[0m \u001b[1m(\u001b[0m\u001b[1;36m7.1\u001b[0m %\u001b[1m)\u001b[0m ROIs had zero STD\n"
      ]
     },
     "metadata": {},
     "output_type": "display_data"
    },
    {
     "data": {
      "text/html": [
       "<pre style=\"white-space:pre;overflow-x:auto;line-height:normal;font-family:Menlo,'DejaVu Sans Mono',consolas,'Courier New',monospace\">sub-WT05_ses-1_run-<span style=\"color: #008080; text-decoration-color: #008080; font-weight: bold\">3</span>:           a total of <span style=\"color: #008080; text-decoration-color: #008080; font-weight: bold\">206</span> <span style=\"color: #800080; text-decoration-color: #800080\">/</span> <span style=\"color: #008080; text-decoration-color: #008080; font-weight: bold\">2365</span> <span style=\"font-weight: bold\">(</span><span style=\"color: #008080; text-decoration-color: #008080; font-weight: bold\">8.7</span> %<span style=\"font-weight: bold\">)</span> ROIs had zero STD\n",
       "</pre>\n"
      ],
      "text/plain": [
       "sub-WT05_ses-1_run-\u001b[1;36m3\u001b[0m:           a total of \u001b[1;36m206\u001b[0m \u001b[35m/\u001b[0m \u001b[1;36m2365\u001b[0m \u001b[1m(\u001b[0m\u001b[1;36m8.7\u001b[0m %\u001b[1m)\u001b[0m ROIs had zero STD\n"
      ]
     },
     "metadata": {},
     "output_type": "display_data"
    },
    {
     "data": {
      "text/html": [
       "<pre style=\"white-space:pre;overflow-x:auto;line-height:normal;font-family:Menlo,'DejaVu Sans Mono',consolas,'Courier New',monospace\">sub-WT05_ses-2_run-<span style=\"color: #008080; text-decoration-color: #008080; font-weight: bold\">1</span>:           a total of <span style=\"color: #008080; text-decoration-color: #008080; font-weight: bold\">249</span> <span style=\"color: #800080; text-decoration-color: #800080\">/</span> <span style=\"color: #008080; text-decoration-color: #008080; font-weight: bold\">2365</span> <span style=\"font-weight: bold\">(</span><span style=\"color: #008080; text-decoration-color: #008080; font-weight: bold\">10.5</span> %<span style=\"font-weight: bold\">)</span> ROIs had zero STD\n",
       "</pre>\n"
      ],
      "text/plain": [
       "sub-WT05_ses-2_run-\u001b[1;36m1\u001b[0m:           a total of \u001b[1;36m249\u001b[0m \u001b[35m/\u001b[0m \u001b[1;36m2365\u001b[0m \u001b[1m(\u001b[0m\u001b[1;36m10.5\u001b[0m %\u001b[1m)\u001b[0m ROIs had zero STD\n"
      ]
     },
     "metadata": {},
     "output_type": "display_data"
    },
    {
     "data": {
      "text/html": [
       "<pre style=\"white-space:pre;overflow-x:auto;line-height:normal;font-family:Menlo,'DejaVu Sans Mono',consolas,'Courier New',monospace\">sub-WT05_ses-2_run-<span style=\"color: #008080; text-decoration-color: #008080; font-weight: bold\">2</span>:           a total of <span style=\"color: #008080; text-decoration-color: #008080; font-weight: bold\">156</span> <span style=\"color: #800080; text-decoration-color: #800080\">/</span> <span style=\"color: #008080; text-decoration-color: #008080; font-weight: bold\">2365</span> <span style=\"font-weight: bold\">(</span><span style=\"color: #008080; text-decoration-color: #008080; font-weight: bold\">6.6</span> %<span style=\"font-weight: bold\">)</span> ROIs had zero STD\n",
       "</pre>\n"
      ],
      "text/plain": [
       "sub-WT05_ses-2_run-\u001b[1;36m2\u001b[0m:           a total of \u001b[1;36m156\u001b[0m \u001b[35m/\u001b[0m \u001b[1;36m2365\u001b[0m \u001b[1m(\u001b[0m\u001b[1;36m6.6\u001b[0m %\u001b[1m)\u001b[0m ROIs had zero STD\n"
      ]
     },
     "metadata": {},
     "output_type": "display_data"
    },
    {
     "data": {
      "text/html": [
       "<pre style=\"white-space:pre;overflow-x:auto;line-height:normal;font-family:Menlo,'DejaVu Sans Mono',consolas,'Courier New',monospace\">sub-WT05_ses-2_run-<span style=\"color: #008080; text-decoration-color: #008080; font-weight: bold\">3</span>:           a total of <span style=\"color: #008080; text-decoration-color: #008080; font-weight: bold\">211</span> <span style=\"color: #800080; text-decoration-color: #800080\">/</span> <span style=\"color: #008080; text-decoration-color: #008080; font-weight: bold\">2365</span> <span style=\"font-weight: bold\">(</span><span style=\"color: #008080; text-decoration-color: #008080; font-weight: bold\">8.9</span> %<span style=\"font-weight: bold\">)</span> ROIs had zero STD\n",
       "</pre>\n"
      ],
      "text/plain": [
       "sub-WT05_ses-2_run-\u001b[1;36m3\u001b[0m:           a total of \u001b[1;36m211\u001b[0m \u001b[35m/\u001b[0m \u001b[1;36m2365\u001b[0m \u001b[1m(\u001b[0m\u001b[1;36m8.9\u001b[0m %\u001b[1m)\u001b[0m ROIs had zero STD\n"
      ]
     },
     "metadata": {},
     "output_type": "display_data"
    },
    {
     "data": {
      "text/html": [
       "<pre style=\"white-space:pre;overflow-x:auto;line-height:normal;font-family:Menlo,'DejaVu Sans Mono',consolas,'Courier New',monospace\">sub-WT06_ses-1_run-<span style=\"color: #008080; text-decoration-color: #008080; font-weight: bold\">1</span>:           a total of <span style=\"color: #008080; text-decoration-color: #008080; font-weight: bold\">261</span> <span style=\"color: #800080; text-decoration-color: #800080\">/</span> <span style=\"color: #008080; text-decoration-color: #008080; font-weight: bold\">2365</span> <span style=\"font-weight: bold\">(</span><span style=\"color: #008080; text-decoration-color: #008080; font-weight: bold\">11.0</span> %<span style=\"font-weight: bold\">)</span> ROIs had zero STD\n",
       "</pre>\n"
      ],
      "text/plain": [
       "sub-WT06_ses-1_run-\u001b[1;36m1\u001b[0m:           a total of \u001b[1;36m261\u001b[0m \u001b[35m/\u001b[0m \u001b[1;36m2365\u001b[0m \u001b[1m(\u001b[0m\u001b[1;36m11.0\u001b[0m %\u001b[1m)\u001b[0m ROIs had zero STD\n"
      ]
     },
     "metadata": {},
     "output_type": "display_data"
    },
    {
     "data": {
      "text/html": [
       "<pre style=\"white-space:pre;overflow-x:auto;line-height:normal;font-family:Menlo,'DejaVu Sans Mono',consolas,'Courier New',monospace\">sub-WT06_ses-1_run-<span style=\"color: #008080; text-decoration-color: #008080; font-weight: bold\">2</span>:           a total of <span style=\"color: #008080; text-decoration-color: #008080; font-weight: bold\">230</span> <span style=\"color: #800080; text-decoration-color: #800080\">/</span> <span style=\"color: #008080; text-decoration-color: #008080; font-weight: bold\">2365</span> <span style=\"font-weight: bold\">(</span><span style=\"color: #008080; text-decoration-color: #008080; font-weight: bold\">9.7</span> %<span style=\"font-weight: bold\">)</span> ROIs had zero STD\n",
       "</pre>\n"
      ],
      "text/plain": [
       "sub-WT06_ses-1_run-\u001b[1;36m2\u001b[0m:           a total of \u001b[1;36m230\u001b[0m \u001b[35m/\u001b[0m \u001b[1;36m2365\u001b[0m \u001b[1m(\u001b[0m\u001b[1;36m9.7\u001b[0m %\u001b[1m)\u001b[0m ROIs had zero STD\n"
      ]
     },
     "metadata": {},
     "output_type": "display_data"
    },
    {
     "data": {
      "text/html": [
       "<pre style=\"white-space:pre;overflow-x:auto;line-height:normal;font-family:Menlo,'DejaVu Sans Mono',consolas,'Courier New',monospace\">sub-WT06_ses-1_run-<span style=\"color: #008080; text-decoration-color: #008080; font-weight: bold\">3</span>:           a total of <span style=\"color: #008080; text-decoration-color: #008080; font-weight: bold\">247</span> <span style=\"color: #800080; text-decoration-color: #800080\">/</span> <span style=\"color: #008080; text-decoration-color: #008080; font-weight: bold\">2365</span> <span style=\"font-weight: bold\">(</span><span style=\"color: #008080; text-decoration-color: #008080; font-weight: bold\">10.4</span> %<span style=\"font-weight: bold\">)</span> ROIs had zero STD\n",
       "</pre>\n"
      ],
      "text/plain": [
       "sub-WT06_ses-1_run-\u001b[1;36m3\u001b[0m:           a total of \u001b[1;36m247\u001b[0m \u001b[35m/\u001b[0m \u001b[1;36m2365\u001b[0m \u001b[1m(\u001b[0m\u001b[1;36m10.4\u001b[0m %\u001b[1m)\u001b[0m ROIs had zero STD\n"
      ]
     },
     "metadata": {},
     "output_type": "display_data"
    },
    {
     "data": {
      "text/html": [
       "<pre style=\"white-space:pre;overflow-x:auto;line-height:normal;font-family:Menlo,'DejaVu Sans Mono',consolas,'Courier New',monospace\">sub-WT06_ses-2_run-<span style=\"color: #008080; text-decoration-color: #008080; font-weight: bold\">1</span>:           a total of <span style=\"color: #008080; text-decoration-color: #008080; font-weight: bold\">166</span> <span style=\"color: #800080; text-decoration-color: #800080\">/</span> <span style=\"color: #008080; text-decoration-color: #008080; font-weight: bold\">2365</span> <span style=\"font-weight: bold\">(</span><span style=\"color: #008080; text-decoration-color: #008080; font-weight: bold\">7.0</span> %<span style=\"font-weight: bold\">)</span> ROIs had zero STD\n",
       "</pre>\n"
      ],
      "text/plain": [
       "sub-WT06_ses-2_run-\u001b[1;36m1\u001b[0m:           a total of \u001b[1;36m166\u001b[0m \u001b[35m/\u001b[0m \u001b[1;36m2365\u001b[0m \u001b[1m(\u001b[0m\u001b[1;36m7.0\u001b[0m %\u001b[1m)\u001b[0m ROIs had zero STD\n"
      ]
     },
     "metadata": {},
     "output_type": "display_data"
    },
    {
     "data": {
      "text/html": [
       "<pre style=\"white-space:pre;overflow-x:auto;line-height:normal;font-family:Menlo,'DejaVu Sans Mono',consolas,'Courier New',monospace\">sub-WT06_ses-2_run-<span style=\"color: #008080; text-decoration-color: #008080; font-weight: bold\">2</span>:           a total of <span style=\"color: #008080; text-decoration-color: #008080; font-weight: bold\">151</span> <span style=\"color: #800080; text-decoration-color: #800080\">/</span> <span style=\"color: #008080; text-decoration-color: #008080; font-weight: bold\">2365</span> <span style=\"font-weight: bold\">(</span><span style=\"color: #008080; text-decoration-color: #008080; font-weight: bold\">6.4</span> %<span style=\"font-weight: bold\">)</span> ROIs had zero STD\n",
       "</pre>\n"
      ],
      "text/plain": [
       "sub-WT06_ses-2_run-\u001b[1;36m2\u001b[0m:           a total of \u001b[1;36m151\u001b[0m \u001b[35m/\u001b[0m \u001b[1;36m2365\u001b[0m \u001b[1m(\u001b[0m\u001b[1;36m6.4\u001b[0m %\u001b[1m)\u001b[0m ROIs had zero STD\n"
      ]
     },
     "metadata": {},
     "output_type": "display_data"
    },
    {
     "data": {
      "text/html": [
       "<pre style=\"white-space:pre;overflow-x:auto;line-height:normal;font-family:Menlo,'DejaVu Sans Mono',consolas,'Courier New',monospace\">sub-WT06_ses-2_run-<span style=\"color: #008080; text-decoration-color: #008080; font-weight: bold\">3</span>:           a total of <span style=\"color: #008080; text-decoration-color: #008080; font-weight: bold\">125</span> <span style=\"color: #800080; text-decoration-color: #800080\">/</span> <span style=\"color: #008080; text-decoration-color: #008080; font-weight: bold\">2365</span> <span style=\"font-weight: bold\">(</span><span style=\"color: #008080; text-decoration-color: #008080; font-weight: bold\">5.3</span> %<span style=\"font-weight: bold\">)</span> ROIs had zero STD\n",
       "</pre>\n"
      ],
      "text/plain": [
       "sub-WT06_ses-2_run-\u001b[1;36m3\u001b[0m:           a total of \u001b[1;36m125\u001b[0m \u001b[35m/\u001b[0m \u001b[1;36m2365\u001b[0m \u001b[1m(\u001b[0m\u001b[1;36m5.3\u001b[0m %\u001b[1m)\u001b[0m ROIs had zero STD\n"
      ]
     },
     "metadata": {},
     "output_type": "display_data"
    },
    {
     "data": {
      "text/html": [
       "<pre style=\"white-space:pre;overflow-x:auto;line-height:normal;font-family:Menlo,'DejaVu Sans Mono',consolas,'Courier New',monospace\">sub-WT07_ses-1_run-<span style=\"color: #008080; text-decoration-color: #008080; font-weight: bold\">1</span>:           a total of <span style=\"color: #008080; text-decoration-color: #008080; font-weight: bold\">191</span> <span style=\"color: #800080; text-decoration-color: #800080\">/</span> <span style=\"color: #008080; text-decoration-color: #008080; font-weight: bold\">2365</span> <span style=\"font-weight: bold\">(</span><span style=\"color: #008080; text-decoration-color: #008080; font-weight: bold\">8.1</span> %<span style=\"font-weight: bold\">)</span> ROIs had zero STD\n",
       "</pre>\n"
      ],
      "text/plain": [
       "sub-WT07_ses-1_run-\u001b[1;36m1\u001b[0m:           a total of \u001b[1;36m191\u001b[0m \u001b[35m/\u001b[0m \u001b[1;36m2365\u001b[0m \u001b[1m(\u001b[0m\u001b[1;36m8.1\u001b[0m %\u001b[1m)\u001b[0m ROIs had zero STD\n"
      ]
     },
     "metadata": {},
     "output_type": "display_data"
    },
    {
     "data": {
      "text/html": [
       "<pre style=\"white-space:pre;overflow-x:auto;line-height:normal;font-family:Menlo,'DejaVu Sans Mono',consolas,'Courier New',monospace\">sub-WT07_ses-1_run-<span style=\"color: #008080; text-decoration-color: #008080; font-weight: bold\">2</span>:           a total of <span style=\"color: #008080; text-decoration-color: #008080; font-weight: bold\">273</span> <span style=\"color: #800080; text-decoration-color: #800080\">/</span> <span style=\"color: #008080; text-decoration-color: #008080; font-weight: bold\">2365</span> <span style=\"font-weight: bold\">(</span><span style=\"color: #008080; text-decoration-color: #008080; font-weight: bold\">11.5</span> %<span style=\"font-weight: bold\">)</span> ROIs had zero STD\n",
       "</pre>\n"
      ],
      "text/plain": [
       "sub-WT07_ses-1_run-\u001b[1;36m2\u001b[0m:           a total of \u001b[1;36m273\u001b[0m \u001b[35m/\u001b[0m \u001b[1;36m2365\u001b[0m \u001b[1m(\u001b[0m\u001b[1;36m11.5\u001b[0m %\u001b[1m)\u001b[0m ROIs had zero STD\n"
      ]
     },
     "metadata": {},
     "output_type": "display_data"
    },
    {
     "data": {
      "text/html": [
       "<pre style=\"white-space:pre;overflow-x:auto;line-height:normal;font-family:Menlo,'DejaVu Sans Mono',consolas,'Courier New',monospace\">sub-WT07_ses-1_run-<span style=\"color: #008080; text-decoration-color: #008080; font-weight: bold\">3</span>:           a total of <span style=\"color: #008080; text-decoration-color: #008080; font-weight: bold\">181</span> <span style=\"color: #800080; text-decoration-color: #800080\">/</span> <span style=\"color: #008080; text-decoration-color: #008080; font-weight: bold\">2365</span> <span style=\"font-weight: bold\">(</span><span style=\"color: #008080; text-decoration-color: #008080; font-weight: bold\">7.7</span> %<span style=\"font-weight: bold\">)</span> ROIs had zero STD\n",
       "</pre>\n"
      ],
      "text/plain": [
       "sub-WT07_ses-1_run-\u001b[1;36m3\u001b[0m:           a total of \u001b[1;36m181\u001b[0m \u001b[35m/\u001b[0m \u001b[1;36m2365\u001b[0m \u001b[1m(\u001b[0m\u001b[1;36m7.7\u001b[0m %\u001b[1m)\u001b[0m ROIs had zero STD\n"
      ]
     },
     "metadata": {},
     "output_type": "display_data"
    },
    {
     "data": {
      "text/html": [
       "<pre style=\"white-space:pre;overflow-x:auto;line-height:normal;font-family:Menlo,'DejaVu Sans Mono',consolas,'Courier New',monospace\">sub-WT07_ses-1_run-<span style=\"color: #008080; text-decoration-color: #008080; font-weight: bold\">4</span>:           a total of <span style=\"color: #008080; text-decoration-color: #008080; font-weight: bold\">279</span> <span style=\"color: #800080; text-decoration-color: #800080\">/</span> <span style=\"color: #008080; text-decoration-color: #008080; font-weight: bold\">2365</span> <span style=\"font-weight: bold\">(</span><span style=\"color: #008080; text-decoration-color: #008080; font-weight: bold\">11.8</span> %<span style=\"font-weight: bold\">)</span> ROIs had zero STD\n",
       "</pre>\n"
      ],
      "text/plain": [
       "sub-WT07_ses-1_run-\u001b[1;36m4\u001b[0m:           a total of \u001b[1;36m279\u001b[0m \u001b[35m/\u001b[0m \u001b[1;36m2365\u001b[0m \u001b[1m(\u001b[0m\u001b[1;36m11.8\u001b[0m %\u001b[1m)\u001b[0m ROIs had zero STD\n"
      ]
     },
     "metadata": {},
     "output_type": "display_data"
    },
    {
     "data": {
      "text/html": [
       "<pre style=\"white-space:pre;overflow-x:auto;line-height:normal;font-family:Menlo,'DejaVu Sans Mono',consolas,'Courier New',monospace\">sub-WT07_ses-2_run-<span style=\"color: #008080; text-decoration-color: #008080; font-weight: bold\">1</span>:           a total of <span style=\"color: #008080; text-decoration-color: #008080; font-weight: bold\">125</span> <span style=\"color: #800080; text-decoration-color: #800080\">/</span> <span style=\"color: #008080; text-decoration-color: #008080; font-weight: bold\">2365</span> <span style=\"font-weight: bold\">(</span><span style=\"color: #008080; text-decoration-color: #008080; font-weight: bold\">5.3</span> %<span style=\"font-weight: bold\">)</span> ROIs had zero STD\n",
       "</pre>\n"
      ],
      "text/plain": [
       "sub-WT07_ses-2_run-\u001b[1;36m1\u001b[0m:           a total of \u001b[1;36m125\u001b[0m \u001b[35m/\u001b[0m \u001b[1;36m2365\u001b[0m \u001b[1m(\u001b[0m\u001b[1;36m5.3\u001b[0m %\u001b[1m)\u001b[0m ROIs had zero STD\n"
      ]
     },
     "metadata": {},
     "output_type": "display_data"
    },
    {
     "data": {
      "text/html": [
       "<pre style=\"white-space:pre;overflow-x:auto;line-height:normal;font-family:Menlo,'DejaVu Sans Mono',consolas,'Courier New',monospace\">sub-WT07_ses-2_run-<span style=\"color: #008080; text-decoration-color: #008080; font-weight: bold\">2</span>:           a total of <span style=\"color: #008080; text-decoration-color: #008080; font-weight: bold\">118</span> <span style=\"color: #800080; text-decoration-color: #800080\">/</span> <span style=\"color: #008080; text-decoration-color: #008080; font-weight: bold\">2365</span> <span style=\"font-weight: bold\">(</span><span style=\"color: #008080; text-decoration-color: #008080; font-weight: bold\">5.0</span> %<span style=\"font-weight: bold\">)</span> ROIs had zero STD\n",
       "</pre>\n"
      ],
      "text/plain": [
       "sub-WT07_ses-2_run-\u001b[1;36m2\u001b[0m:           a total of \u001b[1;36m118\u001b[0m \u001b[35m/\u001b[0m \u001b[1;36m2365\u001b[0m \u001b[1m(\u001b[0m\u001b[1;36m5.0\u001b[0m %\u001b[1m)\u001b[0m ROIs had zero STD\n"
      ]
     },
     "metadata": {},
     "output_type": "display_data"
    },
    {
     "data": {
      "text/html": [
       "<pre style=\"white-space:pre;overflow-x:auto;line-height:normal;font-family:Menlo,'DejaVu Sans Mono',consolas,'Courier New',monospace\">sub-WT07_ses-2_run-<span style=\"color: #008080; text-decoration-color: #008080; font-weight: bold\">3</span>:           a total of <span style=\"color: #008080; text-decoration-color: #008080; font-weight: bold\">91</span> <span style=\"color: #800080; text-decoration-color: #800080\">/</span> <span style=\"color: #008080; text-decoration-color: #008080; font-weight: bold\">2365</span> <span style=\"font-weight: bold\">(</span><span style=\"color: #008080; text-decoration-color: #008080; font-weight: bold\">3.8</span> %<span style=\"font-weight: bold\">)</span> ROIs had zero STD\n",
       "</pre>\n"
      ],
      "text/plain": [
       "sub-WT07_ses-2_run-\u001b[1;36m3\u001b[0m:           a total of \u001b[1;36m91\u001b[0m \u001b[35m/\u001b[0m \u001b[1;36m2365\u001b[0m \u001b[1m(\u001b[0m\u001b[1;36m3.8\u001b[0m %\u001b[1m)\u001b[0m ROIs had zero STD\n"
      ]
     },
     "metadata": {},
     "output_type": "display_data"
    },
    {
     "data": {
      "text/html": [
       "<pre style=\"white-space:pre;overflow-x:auto;line-height:normal;font-family:Menlo,'DejaVu Sans Mono',consolas,'Courier New',monospace\">sub-WT08_ses-1_run-<span style=\"color: #008080; text-decoration-color: #008080; font-weight: bold\">1</span>:           a total of <span style=\"color: #008080; text-decoration-color: #008080; font-weight: bold\">211</span> <span style=\"color: #800080; text-decoration-color: #800080\">/</span> <span style=\"color: #008080; text-decoration-color: #008080; font-weight: bold\">2365</span> <span style=\"font-weight: bold\">(</span><span style=\"color: #008080; text-decoration-color: #008080; font-weight: bold\">8.9</span> %<span style=\"font-weight: bold\">)</span> ROIs had zero STD\n",
       "</pre>\n"
      ],
      "text/plain": [
       "sub-WT08_ses-1_run-\u001b[1;36m1\u001b[0m:           a total of \u001b[1;36m211\u001b[0m \u001b[35m/\u001b[0m \u001b[1;36m2365\u001b[0m \u001b[1m(\u001b[0m\u001b[1;36m8.9\u001b[0m %\u001b[1m)\u001b[0m ROIs had zero STD\n"
      ]
     },
     "metadata": {},
     "output_type": "display_data"
    },
    {
     "data": {
      "text/html": [
       "<pre style=\"white-space:pre;overflow-x:auto;line-height:normal;font-family:Menlo,'DejaVu Sans Mono',consolas,'Courier New',monospace\">sub-WT08_ses-1_run-<span style=\"color: #008080; text-decoration-color: #008080; font-weight: bold\">2</span>:           a total of <span style=\"color: #008080; text-decoration-color: #008080; font-weight: bold\">218</span> <span style=\"color: #800080; text-decoration-color: #800080\">/</span> <span style=\"color: #008080; text-decoration-color: #008080; font-weight: bold\">2365</span> <span style=\"font-weight: bold\">(</span><span style=\"color: #008080; text-decoration-color: #008080; font-weight: bold\">9.2</span> %<span style=\"font-weight: bold\">)</span> ROIs had zero STD\n",
       "</pre>\n"
      ],
      "text/plain": [
       "sub-WT08_ses-1_run-\u001b[1;36m2\u001b[0m:           a total of \u001b[1;36m218\u001b[0m \u001b[35m/\u001b[0m \u001b[1;36m2365\u001b[0m \u001b[1m(\u001b[0m\u001b[1;36m9.2\u001b[0m %\u001b[1m)\u001b[0m ROIs had zero STD\n"
      ]
     },
     "metadata": {},
     "output_type": "display_data"
    },
    {
     "data": {
      "text/html": [
       "<pre style=\"white-space:pre;overflow-x:auto;line-height:normal;font-family:Menlo,'DejaVu Sans Mono',consolas,'Courier New',monospace\">sub-WT08_ses-2_run-<span style=\"color: #008080; text-decoration-color: #008080; font-weight: bold\">1</span>:           a total of <span style=\"color: #008080; text-decoration-color: #008080; font-weight: bold\">165</span> <span style=\"color: #800080; text-decoration-color: #800080\">/</span> <span style=\"color: #008080; text-decoration-color: #008080; font-weight: bold\">2365</span> <span style=\"font-weight: bold\">(</span><span style=\"color: #008080; text-decoration-color: #008080; font-weight: bold\">7.0</span> %<span style=\"font-weight: bold\">)</span> ROIs had zero STD\n",
       "</pre>\n"
      ],
      "text/plain": [
       "sub-WT08_ses-2_run-\u001b[1;36m1\u001b[0m:           a total of \u001b[1;36m165\u001b[0m \u001b[35m/\u001b[0m \u001b[1;36m2365\u001b[0m \u001b[1m(\u001b[0m\u001b[1;36m7.0\u001b[0m %\u001b[1m)\u001b[0m ROIs had zero STD\n"
      ]
     },
     "metadata": {},
     "output_type": "display_data"
    },
    {
     "data": {
      "text/html": [
       "<pre style=\"white-space:pre;overflow-x:auto;line-height:normal;font-family:Menlo,'DejaVu Sans Mono',consolas,'Courier New',monospace\">sub-WT08_ses-2_run-<span style=\"color: #008080; text-decoration-color: #008080; font-weight: bold\">2</span>:           a total of <span style=\"color: #008080; text-decoration-color: #008080; font-weight: bold\">176</span> <span style=\"color: #800080; text-decoration-color: #800080\">/</span> <span style=\"color: #008080; text-decoration-color: #008080; font-weight: bold\">2365</span> <span style=\"font-weight: bold\">(</span><span style=\"color: #008080; text-decoration-color: #008080; font-weight: bold\">7.4</span> %<span style=\"font-weight: bold\">)</span> ROIs had zero STD\n",
       "</pre>\n"
      ],
      "text/plain": [
       "sub-WT08_ses-2_run-\u001b[1;36m2\u001b[0m:           a total of \u001b[1;36m176\u001b[0m \u001b[35m/\u001b[0m \u001b[1;36m2365\u001b[0m \u001b[1m(\u001b[0m\u001b[1;36m7.4\u001b[0m %\u001b[1m)\u001b[0m ROIs had zero STD\n"
      ]
     },
     "metadata": {},
     "output_type": "display_data"
    },
    {
     "data": {
      "text/html": [
       "<pre style=\"white-space:pre;overflow-x:auto;line-height:normal;font-family:Menlo,'DejaVu Sans Mono',consolas,'Courier New',monospace\">sub-WT08_ses-2_run-<span style=\"color: #008080; text-decoration-color: #008080; font-weight: bold\">3</span>:           a total of <span style=\"color: #008080; text-decoration-color: #008080; font-weight: bold\">161</span> <span style=\"color: #800080; text-decoration-color: #800080\">/</span> <span style=\"color: #008080; text-decoration-color: #008080; font-weight: bold\">2365</span> <span style=\"font-weight: bold\">(</span><span style=\"color: #008080; text-decoration-color: #008080; font-weight: bold\">6.8</span> %<span style=\"font-weight: bold\">)</span> ROIs had zero STD\n",
       "</pre>\n"
      ],
      "text/plain": [
       "sub-WT08_ses-2_run-\u001b[1;36m3\u001b[0m:           a total of \u001b[1;36m161\u001b[0m \u001b[35m/\u001b[0m \u001b[1;36m2365\u001b[0m \u001b[1m(\u001b[0m\u001b[1;36m6.8\u001b[0m %\u001b[1m)\u001b[0m ROIs had zero STD\n"
      ]
     },
     "metadata": {},
     "output_type": "display_data"
    },
    {
     "data": {
      "text/html": [
       "<pre style=\"white-space:pre;overflow-x:auto;line-height:normal;font-family:Menlo,'DejaVu Sans Mono',consolas,'Courier New',monospace\">sub-WT09_ses-1_run-<span style=\"color: #008080; text-decoration-color: #008080; font-weight: bold\">1</span>:           a total of <span style=\"color: #008080; text-decoration-color: #008080; font-weight: bold\">246</span> <span style=\"color: #800080; text-decoration-color: #800080\">/</span> <span style=\"color: #008080; text-decoration-color: #008080; font-weight: bold\">2365</span> <span style=\"font-weight: bold\">(</span><span style=\"color: #008080; text-decoration-color: #008080; font-weight: bold\">10.4</span> %<span style=\"font-weight: bold\">)</span> ROIs had zero STD\n",
       "</pre>\n"
      ],
      "text/plain": [
       "sub-WT09_ses-1_run-\u001b[1;36m1\u001b[0m:           a total of \u001b[1;36m246\u001b[0m \u001b[35m/\u001b[0m \u001b[1;36m2365\u001b[0m \u001b[1m(\u001b[0m\u001b[1;36m10.4\u001b[0m %\u001b[1m)\u001b[0m ROIs had zero STD\n"
      ]
     },
     "metadata": {},
     "output_type": "display_data"
    },
    {
     "data": {
      "text/html": [
       "<pre style=\"white-space:pre;overflow-x:auto;line-height:normal;font-family:Menlo,'DejaVu Sans Mono',consolas,'Courier New',monospace\">sub-WT09_ses-1_run-<span style=\"color: #008080; text-decoration-color: #008080; font-weight: bold\">2</span>:           a total of <span style=\"color: #008080; text-decoration-color: #008080; font-weight: bold\">186</span> <span style=\"color: #800080; text-decoration-color: #800080\">/</span> <span style=\"color: #008080; text-decoration-color: #008080; font-weight: bold\">2365</span> <span style=\"font-weight: bold\">(</span><span style=\"color: #008080; text-decoration-color: #008080; font-weight: bold\">7.9</span> %<span style=\"font-weight: bold\">)</span> ROIs had zero STD\n",
       "</pre>\n"
      ],
      "text/plain": [
       "sub-WT09_ses-1_run-\u001b[1;36m2\u001b[0m:           a total of \u001b[1;36m186\u001b[0m \u001b[35m/\u001b[0m \u001b[1;36m2365\u001b[0m \u001b[1m(\u001b[0m\u001b[1;36m7.9\u001b[0m %\u001b[1m)\u001b[0m ROIs had zero STD\n"
      ]
     },
     "metadata": {},
     "output_type": "display_data"
    },
    {
     "data": {
      "text/html": [
       "<pre style=\"white-space:pre;overflow-x:auto;line-height:normal;font-family:Menlo,'DejaVu Sans Mono',consolas,'Courier New',monospace\">sub-WT09_ses-1_run-<span style=\"color: #008080; text-decoration-color: #008080; font-weight: bold\">3</span>:           a total of <span style=\"color: #008080; text-decoration-color: #008080; font-weight: bold\">189</span> <span style=\"color: #800080; text-decoration-color: #800080\">/</span> <span style=\"color: #008080; text-decoration-color: #008080; font-weight: bold\">2365</span> <span style=\"font-weight: bold\">(</span><span style=\"color: #008080; text-decoration-color: #008080; font-weight: bold\">8.0</span> %<span style=\"font-weight: bold\">)</span> ROIs had zero STD\n",
       "</pre>\n"
      ],
      "text/plain": [
       "sub-WT09_ses-1_run-\u001b[1;36m3\u001b[0m:           a total of \u001b[1;36m189\u001b[0m \u001b[35m/\u001b[0m \u001b[1;36m2365\u001b[0m \u001b[1m(\u001b[0m\u001b[1;36m8.0\u001b[0m %\u001b[1m)\u001b[0m ROIs had zero STD\n"
      ]
     },
     "metadata": {},
     "output_type": "display_data"
    },
    {
     "data": {
      "text/html": [
       "<pre style=\"white-space:pre;overflow-x:auto;line-height:normal;font-family:Menlo,'DejaVu Sans Mono',consolas,'Courier New',monospace\">sub-WT09_ses-2_run-<span style=\"color: #008080; text-decoration-color: #008080; font-weight: bold\">1</span>:           a total of <span style=\"color: #008080; text-decoration-color: #008080; font-weight: bold\">128</span> <span style=\"color: #800080; text-decoration-color: #800080\">/</span> <span style=\"color: #008080; text-decoration-color: #008080; font-weight: bold\">2365</span> <span style=\"font-weight: bold\">(</span><span style=\"color: #008080; text-decoration-color: #008080; font-weight: bold\">5.4</span> %<span style=\"font-weight: bold\">)</span> ROIs had zero STD\n",
       "</pre>\n"
      ],
      "text/plain": [
       "sub-WT09_ses-2_run-\u001b[1;36m1\u001b[0m:           a total of \u001b[1;36m128\u001b[0m \u001b[35m/\u001b[0m \u001b[1;36m2365\u001b[0m \u001b[1m(\u001b[0m\u001b[1;36m5.4\u001b[0m %\u001b[1m)\u001b[0m ROIs had zero STD\n"
      ]
     },
     "metadata": {},
     "output_type": "display_data"
    },
    {
     "data": {
      "text/html": [
       "<pre style=\"white-space:pre;overflow-x:auto;line-height:normal;font-family:Menlo,'DejaVu Sans Mono',consolas,'Courier New',monospace\">sub-WT09_ses-2_run-<span style=\"color: #008080; text-decoration-color: #008080; font-weight: bold\">2</span>:           a total of <span style=\"color: #008080; text-decoration-color: #008080; font-weight: bold\">179</span> <span style=\"color: #800080; text-decoration-color: #800080\">/</span> <span style=\"color: #008080; text-decoration-color: #008080; font-weight: bold\">2365</span> <span style=\"font-weight: bold\">(</span><span style=\"color: #008080; text-decoration-color: #008080; font-weight: bold\">7.6</span> %<span style=\"font-weight: bold\">)</span> ROIs had zero STD\n",
       "</pre>\n"
      ],
      "text/plain": [
       "sub-WT09_ses-2_run-\u001b[1;36m2\u001b[0m:           a total of \u001b[1;36m179\u001b[0m \u001b[35m/\u001b[0m \u001b[1;36m2365\u001b[0m \u001b[1m(\u001b[0m\u001b[1;36m7.6\u001b[0m %\u001b[1m)\u001b[0m ROIs had zero STD\n"
      ]
     },
     "metadata": {},
     "output_type": "display_data"
    },
    {
     "data": {
      "text/html": [
       "<pre style=\"white-space:pre;overflow-x:auto;line-height:normal;font-family:Menlo,'DejaVu Sans Mono',consolas,'Courier New',monospace\">sub-WT09_ses-2_run-<span style=\"color: #008080; text-decoration-color: #008080; font-weight: bold\">3</span>:           a total of <span style=\"color: #008080; text-decoration-color: #008080; font-weight: bold\">127</span> <span style=\"color: #800080; text-decoration-color: #800080\">/</span> <span style=\"color: #008080; text-decoration-color: #008080; font-weight: bold\">2365</span> <span style=\"font-weight: bold\">(</span><span style=\"color: #008080; text-decoration-color: #008080; font-weight: bold\">5.4</span> %<span style=\"font-weight: bold\">)</span> ROIs had zero STD\n",
       "</pre>\n"
      ],
      "text/plain": [
       "sub-WT09_ses-2_run-\u001b[1;36m3\u001b[0m:           a total of \u001b[1;36m127\u001b[0m \u001b[35m/\u001b[0m \u001b[1;36m2365\u001b[0m \u001b[1m(\u001b[0m\u001b[1;36m5.4\u001b[0m %\u001b[1m)\u001b[0m ROIs had zero STD\n"
      ]
     },
     "metadata": {},
     "output_type": "display_data"
    },
    {
     "data": {
      "text/html": [
       "<pre style=\"white-space:pre;overflow-x:auto;line-height:normal;font-family:Menlo,'DejaVu Sans Mono',consolas,'Courier New',monospace\">sub-WT10_ses-1_run-<span style=\"color: #008080; text-decoration-color: #008080; font-weight: bold\">1</span>:           a total of <span style=\"color: #008080; text-decoration-color: #008080; font-weight: bold\">171</span> <span style=\"color: #800080; text-decoration-color: #800080\">/</span> <span style=\"color: #008080; text-decoration-color: #008080; font-weight: bold\">2365</span> <span style=\"font-weight: bold\">(</span><span style=\"color: #008080; text-decoration-color: #008080; font-weight: bold\">7.2</span> %<span style=\"font-weight: bold\">)</span> ROIs had zero STD\n",
       "</pre>\n"
      ],
      "text/plain": [
       "sub-WT10_ses-1_run-\u001b[1;36m1\u001b[0m:           a total of \u001b[1;36m171\u001b[0m \u001b[35m/\u001b[0m \u001b[1;36m2365\u001b[0m \u001b[1m(\u001b[0m\u001b[1;36m7.2\u001b[0m %\u001b[1m)\u001b[0m ROIs had zero STD\n"
      ]
     },
     "metadata": {},
     "output_type": "display_data"
    },
    {
     "data": {
      "text/html": [
       "<pre style=\"white-space:pre;overflow-x:auto;line-height:normal;font-family:Menlo,'DejaVu Sans Mono',consolas,'Courier New',monospace\">sub-WT10_ses-1_run-<span style=\"color: #008080; text-decoration-color: #008080; font-weight: bold\">2</span>:           a total of <span style=\"color: #008080; text-decoration-color: #008080; font-weight: bold\">182</span> <span style=\"color: #800080; text-decoration-color: #800080\">/</span> <span style=\"color: #008080; text-decoration-color: #008080; font-weight: bold\">2365</span> <span style=\"font-weight: bold\">(</span><span style=\"color: #008080; text-decoration-color: #008080; font-weight: bold\">7.7</span> %<span style=\"font-weight: bold\">)</span> ROIs had zero STD\n",
       "</pre>\n"
      ],
      "text/plain": [
       "sub-WT10_ses-1_run-\u001b[1;36m2\u001b[0m:           a total of \u001b[1;36m182\u001b[0m \u001b[35m/\u001b[0m \u001b[1;36m2365\u001b[0m \u001b[1m(\u001b[0m\u001b[1;36m7.7\u001b[0m %\u001b[1m)\u001b[0m ROIs had zero STD\n"
      ]
     },
     "metadata": {},
     "output_type": "display_data"
    },
    {
     "data": {
      "text/html": [
       "<pre style=\"white-space:pre;overflow-x:auto;line-height:normal;font-family:Menlo,'DejaVu Sans Mono',consolas,'Courier New',monospace\">sub-WT10_ses-1_run-<span style=\"color: #008080; text-decoration-color: #008080; font-weight: bold\">3</span>:           a total of <span style=\"color: #008080; text-decoration-color: #008080; font-weight: bold\">174</span> <span style=\"color: #800080; text-decoration-color: #800080\">/</span> <span style=\"color: #008080; text-decoration-color: #008080; font-weight: bold\">2365</span> <span style=\"font-weight: bold\">(</span><span style=\"color: #008080; text-decoration-color: #008080; font-weight: bold\">7.4</span> %<span style=\"font-weight: bold\">)</span> ROIs had zero STD\n",
       "</pre>\n"
      ],
      "text/plain": [
       "sub-WT10_ses-1_run-\u001b[1;36m3\u001b[0m:           a total of \u001b[1;36m174\u001b[0m \u001b[35m/\u001b[0m \u001b[1;36m2365\u001b[0m \u001b[1m(\u001b[0m\u001b[1;36m7.4\u001b[0m %\u001b[1m)\u001b[0m ROIs had zero STD\n"
      ]
     },
     "metadata": {},
     "output_type": "display_data"
    },
    {
     "data": {
      "text/html": [
       "<pre style=\"white-space:pre;overflow-x:auto;line-height:normal;font-family:Menlo,'DejaVu Sans Mono',consolas,'Courier New',monospace\">sub-WT10_ses-2_run-<span style=\"color: #008080; text-decoration-color: #008080; font-weight: bold\">1</span>:           a total of <span style=\"color: #008080; text-decoration-color: #008080; font-weight: bold\">132</span> <span style=\"color: #800080; text-decoration-color: #800080\">/</span> <span style=\"color: #008080; text-decoration-color: #008080; font-weight: bold\">2365</span> <span style=\"font-weight: bold\">(</span><span style=\"color: #008080; text-decoration-color: #008080; font-weight: bold\">5.6</span> %<span style=\"font-weight: bold\">)</span> ROIs had zero STD\n",
       "</pre>\n"
      ],
      "text/plain": [
       "sub-WT10_ses-2_run-\u001b[1;36m1\u001b[0m:           a total of \u001b[1;36m132\u001b[0m \u001b[35m/\u001b[0m \u001b[1;36m2365\u001b[0m \u001b[1m(\u001b[0m\u001b[1;36m5.6\u001b[0m %\u001b[1m)\u001b[0m ROIs had zero STD\n"
      ]
     },
     "metadata": {},
     "output_type": "display_data"
    },
    {
     "data": {
      "text/html": [
       "<pre style=\"white-space:pre;overflow-x:auto;line-height:normal;font-family:Menlo,'DejaVu Sans Mono',consolas,'Courier New',monospace\">sub-WT10_ses-2_run-<span style=\"color: #008080; text-decoration-color: #008080; font-weight: bold\">2</span>:           a total of <span style=\"color: #008080; text-decoration-color: #008080; font-weight: bold\">131</span> <span style=\"color: #800080; text-decoration-color: #800080\">/</span> <span style=\"color: #008080; text-decoration-color: #008080; font-weight: bold\">2365</span> <span style=\"font-weight: bold\">(</span><span style=\"color: #008080; text-decoration-color: #008080; font-weight: bold\">5.5</span> %<span style=\"font-weight: bold\">)</span> ROIs had zero STD\n",
       "</pre>\n"
      ],
      "text/plain": [
       "sub-WT10_ses-2_run-\u001b[1;36m2\u001b[0m:           a total of \u001b[1;36m131\u001b[0m \u001b[35m/\u001b[0m \u001b[1;36m2365\u001b[0m \u001b[1m(\u001b[0m\u001b[1;36m5.5\u001b[0m %\u001b[1m)\u001b[0m ROIs had zero STD\n"
      ]
     },
     "metadata": {},
     "output_type": "display_data"
    },
    {
     "data": {
      "text/html": [
       "<pre style=\"white-space:pre;overflow-x:auto;line-height:normal;font-family:Menlo,'DejaVu Sans Mono',consolas,'Courier New',monospace\">sub-WT10_ses-2_run-<span style=\"color: #008080; text-decoration-color: #008080; font-weight: bold\">3</span>:           a total of <span style=\"color: #008080; text-decoration-color: #008080; font-weight: bold\">167</span> <span style=\"color: #800080; text-decoration-color: #800080\">/</span> <span style=\"color: #008080; text-decoration-color: #008080; font-weight: bold\">2365</span> <span style=\"font-weight: bold\">(</span><span style=\"color: #008080; text-decoration-color: #008080; font-weight: bold\">7.1</span> %<span style=\"font-weight: bold\">)</span> ROIs had zero STD\n",
       "</pre>\n"
      ],
      "text/plain": [
       "sub-WT10_ses-2_run-\u001b[1;36m3\u001b[0m:           a total of \u001b[1;36m167\u001b[0m \u001b[35m/\u001b[0m \u001b[1;36m2365\u001b[0m \u001b[1m(\u001b[0m\u001b[1;36m7.1\u001b[0m %\u001b[1m)\u001b[0m ROIs had zero STD\n"
      ]
     },
     "metadata": {},
     "output_type": "display_data"
    },
    {
     "data": {
      "text/html": [
       "<pre style=\"white-space:pre;overflow-x:auto;line-height:normal;font-family:Menlo,'DejaVu Sans Mono',consolas,'Courier New',monospace\">sub-WT11_ses-3_run-<span style=\"color: #008080; text-decoration-color: #008080; font-weight: bold\">1</span>:           a total of <span style=\"color: #008080; text-decoration-color: #008080; font-weight: bold\">300</span> <span style=\"color: #800080; text-decoration-color: #800080\">/</span> <span style=\"color: #008080; text-decoration-color: #008080; font-weight: bold\">2365</span> <span style=\"font-weight: bold\">(</span><span style=\"color: #008080; text-decoration-color: #008080; font-weight: bold\">12.7</span> %<span style=\"font-weight: bold\">)</span> ROIs had zero STD\n",
       "</pre>\n"
      ],
      "text/plain": [
       "sub-WT11_ses-3_run-\u001b[1;36m1\u001b[0m:           a total of \u001b[1;36m300\u001b[0m \u001b[35m/\u001b[0m \u001b[1;36m2365\u001b[0m \u001b[1m(\u001b[0m\u001b[1;36m12.7\u001b[0m %\u001b[1m)\u001b[0m ROIs had zero STD\n"
      ]
     },
     "metadata": {},
     "output_type": "display_data"
    },
    {
     "data": {
      "text/html": [
       "<pre style=\"white-space:pre;overflow-x:auto;line-height:normal;font-family:Menlo,'DejaVu Sans Mono',consolas,'Courier New',monospace\">sub-WT11_ses-3_run-<span style=\"color: #008080; text-decoration-color: #008080; font-weight: bold\">2</span>:           a total of <span style=\"color: #008080; text-decoration-color: #008080; font-weight: bold\">324</span> <span style=\"color: #800080; text-decoration-color: #800080\">/</span> <span style=\"color: #008080; text-decoration-color: #008080; font-weight: bold\">2365</span> <span style=\"font-weight: bold\">(</span><span style=\"color: #008080; text-decoration-color: #008080; font-weight: bold\">13.7</span> %<span style=\"font-weight: bold\">)</span> ROIs had zero STD\n",
       "</pre>\n"
      ],
      "text/plain": [
       "sub-WT11_ses-3_run-\u001b[1;36m2\u001b[0m:           a total of \u001b[1;36m324\u001b[0m \u001b[35m/\u001b[0m \u001b[1;36m2365\u001b[0m \u001b[1m(\u001b[0m\u001b[1;36m13.7\u001b[0m %\u001b[1m)\u001b[0m ROIs had zero STD\n"
      ]
     },
     "metadata": {},
     "output_type": "display_data"
    },
    {
     "data": {
      "text/html": [
       "<pre style=\"white-space:pre;overflow-x:auto;line-height:normal;font-family:Menlo,'DejaVu Sans Mono',consolas,'Courier New',monospace\">sub-WT11_ses-3_run-<span style=\"color: #008080; text-decoration-color: #008080; font-weight: bold\">3</span>:           a total of <span style=\"color: #008080; text-decoration-color: #008080; font-weight: bold\">310</span> <span style=\"color: #800080; text-decoration-color: #800080\">/</span> <span style=\"color: #008080; text-decoration-color: #008080; font-weight: bold\">2365</span> <span style=\"font-weight: bold\">(</span><span style=\"color: #008080; text-decoration-color: #008080; font-weight: bold\">13.1</span> %<span style=\"font-weight: bold\">)</span> ROIs had zero STD\n",
       "</pre>\n"
      ],
      "text/plain": [
       "sub-WT11_ses-3_run-\u001b[1;36m3\u001b[0m:           a total of \u001b[1;36m310\u001b[0m \u001b[35m/\u001b[0m \u001b[1;36m2365\u001b[0m \u001b[1m(\u001b[0m\u001b[1;36m13.1\u001b[0m %\u001b[1m)\u001b[0m ROIs had zero STD\n"
      ]
     },
     "metadata": {},
     "output_type": "display_data"
    },
    {
     "data": {
      "text/html": [
       "<pre style=\"white-space:pre;overflow-x:auto;line-height:normal;font-family:Menlo,'DejaVu Sans Mono',consolas,'Courier New',monospace\">sub-WT12_ses-3_run-<span style=\"color: #008080; text-decoration-color: #008080; font-weight: bold\">1</span>:           a total of <span style=\"color: #008080; text-decoration-color: #008080; font-weight: bold\">201</span> <span style=\"color: #800080; text-decoration-color: #800080\">/</span> <span style=\"color: #008080; text-decoration-color: #008080; font-weight: bold\">2365</span> <span style=\"font-weight: bold\">(</span><span style=\"color: #008080; text-decoration-color: #008080; font-weight: bold\">8.5</span> %<span style=\"font-weight: bold\">)</span> ROIs had zero STD\n",
       "</pre>\n"
      ],
      "text/plain": [
       "sub-WT12_ses-3_run-\u001b[1;36m1\u001b[0m:           a total of \u001b[1;36m201\u001b[0m \u001b[35m/\u001b[0m \u001b[1;36m2365\u001b[0m \u001b[1m(\u001b[0m\u001b[1;36m8.5\u001b[0m %\u001b[1m)\u001b[0m ROIs had zero STD\n"
      ]
     },
     "metadata": {},
     "output_type": "display_data"
    },
    {
     "data": {
      "text/html": [
       "<pre style=\"white-space:pre;overflow-x:auto;line-height:normal;font-family:Menlo,'DejaVu Sans Mono',consolas,'Courier New',monospace\">sub-WT12_ses-3_run-<span style=\"color: #008080; text-decoration-color: #008080; font-weight: bold\">2</span>:           a total of <span style=\"color: #008080; text-decoration-color: #008080; font-weight: bold\">217</span> <span style=\"color: #800080; text-decoration-color: #800080\">/</span> <span style=\"color: #008080; text-decoration-color: #008080; font-weight: bold\">2365</span> <span style=\"font-weight: bold\">(</span><span style=\"color: #008080; text-decoration-color: #008080; font-weight: bold\">9.2</span> %<span style=\"font-weight: bold\">)</span> ROIs had zero STD\n",
       "</pre>\n"
      ],
      "text/plain": [
       "sub-WT12_ses-3_run-\u001b[1;36m2\u001b[0m:           a total of \u001b[1;36m217\u001b[0m \u001b[35m/\u001b[0m \u001b[1;36m2365\u001b[0m \u001b[1m(\u001b[0m\u001b[1;36m9.2\u001b[0m %\u001b[1m)\u001b[0m ROIs had zero STD\n"
      ]
     },
     "metadata": {},
     "output_type": "display_data"
    },
    {
     "data": {
      "text/html": [
       "<pre style=\"white-space:pre;overflow-x:auto;line-height:normal;font-family:Menlo,'DejaVu Sans Mono',consolas,'Courier New',monospace\">sub-WT12_ses-3_run-<span style=\"color: #008080; text-decoration-color: #008080; font-weight: bold\">3</span>:           a total of <span style=\"color: #008080; text-decoration-color: #008080; font-weight: bold\">151</span> <span style=\"color: #800080; text-decoration-color: #800080\">/</span> <span style=\"color: #008080; text-decoration-color: #008080; font-weight: bold\">2365</span> <span style=\"font-weight: bold\">(</span><span style=\"color: #008080; text-decoration-color: #008080; font-weight: bold\">6.4</span> %<span style=\"font-weight: bold\">)</span> ROIs had zero STD\n",
       "</pre>\n"
      ],
      "text/plain": [
       "sub-WT12_ses-3_run-\u001b[1;36m3\u001b[0m:           a total of \u001b[1;36m151\u001b[0m \u001b[35m/\u001b[0m \u001b[1;36m2365\u001b[0m \u001b[1m(\u001b[0m\u001b[1;36m6.4\u001b[0m %\u001b[1m)\u001b[0m ROIs had zero STD\n"
      ]
     },
     "metadata": {},
     "output_type": "display_data"
    },
    {
     "data": {
      "text/html": [
       "<pre style=\"white-space:pre;overflow-x:auto;line-height:normal;font-family:Menlo,'DejaVu Sans Mono',consolas,'Courier New',monospace\">sub-WT13_ses-3_run-<span style=\"color: #008080; text-decoration-color: #008080; font-weight: bold\">1</span>:           a total of <span style=\"color: #008080; text-decoration-color: #008080; font-weight: bold\">299</span> <span style=\"color: #800080; text-decoration-color: #800080\">/</span> <span style=\"color: #008080; text-decoration-color: #008080; font-weight: bold\">2365</span> <span style=\"font-weight: bold\">(</span><span style=\"color: #008080; text-decoration-color: #008080; font-weight: bold\">12.6</span> %<span style=\"font-weight: bold\">)</span> ROIs had zero STD\n",
       "</pre>\n"
      ],
      "text/plain": [
       "sub-WT13_ses-3_run-\u001b[1;36m1\u001b[0m:           a total of \u001b[1;36m299\u001b[0m \u001b[35m/\u001b[0m \u001b[1;36m2365\u001b[0m \u001b[1m(\u001b[0m\u001b[1;36m12.6\u001b[0m %\u001b[1m)\u001b[0m ROIs had zero STD\n"
      ]
     },
     "metadata": {},
     "output_type": "display_data"
    },
    {
     "data": {
      "text/html": [
       "<pre style=\"white-space:pre;overflow-x:auto;line-height:normal;font-family:Menlo,'DejaVu Sans Mono',consolas,'Courier New',monospace\">sub-WT13_ses-3_run-<span style=\"color: #008080; text-decoration-color: #008080; font-weight: bold\">2</span>:           a total of <span style=\"color: #008080; text-decoration-color: #008080; font-weight: bold\">310</span> <span style=\"color: #800080; text-decoration-color: #800080\">/</span> <span style=\"color: #008080; text-decoration-color: #008080; font-weight: bold\">2365</span> <span style=\"font-weight: bold\">(</span><span style=\"color: #008080; text-decoration-color: #008080; font-weight: bold\">13.1</span> %<span style=\"font-weight: bold\">)</span> ROIs had zero STD\n",
       "</pre>\n"
      ],
      "text/plain": [
       "sub-WT13_ses-3_run-\u001b[1;36m2\u001b[0m:           a total of \u001b[1;36m310\u001b[0m \u001b[35m/\u001b[0m \u001b[1;36m2365\u001b[0m \u001b[1m(\u001b[0m\u001b[1;36m13.1\u001b[0m %\u001b[1m)\u001b[0m ROIs had zero STD\n"
      ]
     },
     "metadata": {},
     "output_type": "display_data"
    },
    {
     "data": {
      "text/html": [
       "<pre style=\"white-space:pre;overflow-x:auto;line-height:normal;font-family:Menlo,'DejaVu Sans Mono',consolas,'Courier New',monospace\">sub-WT13_ses-3_run-<span style=\"color: #008080; text-decoration-color: #008080; font-weight: bold\">3</span>:           a total of <span style=\"color: #008080; text-decoration-color: #008080; font-weight: bold\">278</span> <span style=\"color: #800080; text-decoration-color: #800080\">/</span> <span style=\"color: #008080; text-decoration-color: #008080; font-weight: bold\">2365</span> <span style=\"font-weight: bold\">(</span><span style=\"color: #008080; text-decoration-color: #008080; font-weight: bold\">11.8</span> %<span style=\"font-weight: bold\">)</span> ROIs had zero STD\n",
       "</pre>\n"
      ],
      "text/plain": [
       "sub-WT13_ses-3_run-\u001b[1;36m3\u001b[0m:           a total of \u001b[1;36m278\u001b[0m \u001b[35m/\u001b[0m \u001b[1;36m2365\u001b[0m \u001b[1m(\u001b[0m\u001b[1;36m11.8\u001b[0m %\u001b[1m)\u001b[0m ROIs had zero STD\n"
      ]
     },
     "metadata": {},
     "output_type": "display_data"
    },
    {
     "data": {
      "text/html": [
       "<pre style=\"white-space:pre;overflow-x:auto;line-height:normal;font-family:Menlo,'DejaVu Sans Mono',consolas,'Courier New',monospace\">sub-WT14_ses-3_run-<span style=\"color: #008080; text-decoration-color: #008080; font-weight: bold\">1</span>:           a total of <span style=\"color: #008080; text-decoration-color: #008080; font-weight: bold\">180</span> <span style=\"color: #800080; text-decoration-color: #800080\">/</span> <span style=\"color: #008080; text-decoration-color: #008080; font-weight: bold\">2365</span> <span style=\"font-weight: bold\">(</span><span style=\"color: #008080; text-decoration-color: #008080; font-weight: bold\">7.6</span> %<span style=\"font-weight: bold\">)</span> ROIs had zero STD\n",
       "</pre>\n"
      ],
      "text/plain": [
       "sub-WT14_ses-3_run-\u001b[1;36m1\u001b[0m:           a total of \u001b[1;36m180\u001b[0m \u001b[35m/\u001b[0m \u001b[1;36m2365\u001b[0m \u001b[1m(\u001b[0m\u001b[1;36m7.6\u001b[0m %\u001b[1m)\u001b[0m ROIs had zero STD\n"
      ]
     },
     "metadata": {},
     "output_type": "display_data"
    },
    {
     "data": {
      "text/html": [
       "<pre style=\"white-space:pre;overflow-x:auto;line-height:normal;font-family:Menlo,'DejaVu Sans Mono',consolas,'Courier New',monospace\">sub-WT14_ses-3_run-<span style=\"color: #008080; text-decoration-color: #008080; font-weight: bold\">2</span>:           a total of <span style=\"color: #008080; text-decoration-color: #008080; font-weight: bold\">174</span> <span style=\"color: #800080; text-decoration-color: #800080\">/</span> <span style=\"color: #008080; text-decoration-color: #008080; font-weight: bold\">2365</span> <span style=\"font-weight: bold\">(</span><span style=\"color: #008080; text-decoration-color: #008080; font-weight: bold\">7.4</span> %<span style=\"font-weight: bold\">)</span> ROIs had zero STD\n",
       "</pre>\n"
      ],
      "text/plain": [
       "sub-WT14_ses-3_run-\u001b[1;36m2\u001b[0m:           a total of \u001b[1;36m174\u001b[0m \u001b[35m/\u001b[0m \u001b[1;36m2365\u001b[0m \u001b[1m(\u001b[0m\u001b[1;36m7.4\u001b[0m %\u001b[1m)\u001b[0m ROIs had zero STD\n"
      ]
     },
     "metadata": {},
     "output_type": "display_data"
    },
    {
     "data": {
      "text/html": [
       "<pre style=\"white-space:pre;overflow-x:auto;line-height:normal;font-family:Menlo,'DejaVu Sans Mono',consolas,'Courier New',monospace\">sub-WT14_ses-3_run-<span style=\"color: #008080; text-decoration-color: #008080; font-weight: bold\">3</span>:           a total of <span style=\"color: #008080; text-decoration-color: #008080; font-weight: bold\">169</span> <span style=\"color: #800080; text-decoration-color: #800080\">/</span> <span style=\"color: #008080; text-decoration-color: #008080; font-weight: bold\">2365</span> <span style=\"font-weight: bold\">(</span><span style=\"color: #008080; text-decoration-color: #008080; font-weight: bold\">7.1</span> %<span style=\"font-weight: bold\">)</span> ROIs had zero STD\n",
       "</pre>\n"
      ],
      "text/plain": [
       "sub-WT14_ses-3_run-\u001b[1;36m3\u001b[0m:           a total of \u001b[1;36m169\u001b[0m \u001b[35m/\u001b[0m \u001b[1;36m2365\u001b[0m \u001b[1m(\u001b[0m\u001b[1;36m7.1\u001b[0m %\u001b[1m)\u001b[0m ROIs had zero STD\n"
      ]
     },
     "metadata": {},
     "output_type": "display_data"
    },
    {
     "data": {
      "text/html": [
       "<pre style=\"white-space:pre;overflow-x:auto;line-height:normal;font-family:Menlo,'DejaVu Sans Mono',consolas,'Courier New',monospace\">sub-WT15_ses-3_run-<span style=\"color: #008080; text-decoration-color: #008080; font-weight: bold\">1</span>:           a total of <span style=\"color: #008080; text-decoration-color: #008080; font-weight: bold\">339</span> <span style=\"color: #800080; text-decoration-color: #800080\">/</span> <span style=\"color: #008080; text-decoration-color: #008080; font-weight: bold\">2365</span> <span style=\"font-weight: bold\">(</span><span style=\"color: #008080; text-decoration-color: #008080; font-weight: bold\">14.3</span> %<span style=\"font-weight: bold\">)</span> ROIs had zero STD\n",
       "</pre>\n"
      ],
      "text/plain": [
       "sub-WT15_ses-3_run-\u001b[1;36m1\u001b[0m:           a total of \u001b[1;36m339\u001b[0m \u001b[35m/\u001b[0m \u001b[1;36m2365\u001b[0m \u001b[1m(\u001b[0m\u001b[1;36m14.3\u001b[0m %\u001b[1m)\u001b[0m ROIs had zero STD\n"
      ]
     },
     "metadata": {},
     "output_type": "display_data"
    },
    {
     "data": {
      "text/html": [
       "<pre style=\"white-space:pre;overflow-x:auto;line-height:normal;font-family:Menlo,'DejaVu Sans Mono',consolas,'Courier New',monospace\">sub-WT15_ses-3_run-<span style=\"color: #008080; text-decoration-color: #008080; font-weight: bold\">2</span>:           a total of <span style=\"color: #008080; text-decoration-color: #008080; font-weight: bold\">415</span> <span style=\"color: #800080; text-decoration-color: #800080\">/</span> <span style=\"color: #008080; text-decoration-color: #008080; font-weight: bold\">2365</span> <span style=\"font-weight: bold\">(</span><span style=\"color: #008080; text-decoration-color: #008080; font-weight: bold\">17.5</span> %<span style=\"font-weight: bold\">)</span> ROIs had zero STD\n",
       "</pre>\n"
      ],
      "text/plain": [
       "sub-WT15_ses-3_run-\u001b[1;36m2\u001b[0m:           a total of \u001b[1;36m415\u001b[0m \u001b[35m/\u001b[0m \u001b[1;36m2365\u001b[0m \u001b[1m(\u001b[0m\u001b[1;36m17.5\u001b[0m %\u001b[1m)\u001b[0m ROIs had zero STD\n"
      ]
     },
     "metadata": {},
     "output_type": "display_data"
    },
    {
     "data": {
      "text/html": [
       "<pre style=\"white-space:pre;overflow-x:auto;line-height:normal;font-family:Menlo,'DejaVu Sans Mono',consolas,'Courier New',monospace\">sub-WT16_ses-3_run-<span style=\"color: #008080; text-decoration-color: #008080; font-weight: bold\">1</span>:           a total of <span style=\"color: #008080; text-decoration-color: #008080; font-weight: bold\">241</span> <span style=\"color: #800080; text-decoration-color: #800080\">/</span> <span style=\"color: #008080; text-decoration-color: #008080; font-weight: bold\">2365</span> <span style=\"font-weight: bold\">(</span><span style=\"color: #008080; text-decoration-color: #008080; font-weight: bold\">10.2</span> %<span style=\"font-weight: bold\">)</span> ROIs had zero STD\n",
       "</pre>\n"
      ],
      "text/plain": [
       "sub-WT16_ses-3_run-\u001b[1;36m1\u001b[0m:           a total of \u001b[1;36m241\u001b[0m \u001b[35m/\u001b[0m \u001b[1;36m2365\u001b[0m \u001b[1m(\u001b[0m\u001b[1;36m10.2\u001b[0m %\u001b[1m)\u001b[0m ROIs had zero STD\n"
      ]
     },
     "metadata": {},
     "output_type": "display_data"
    },
    {
     "data": {
      "text/html": [
       "<pre style=\"white-space:pre;overflow-x:auto;line-height:normal;font-family:Menlo,'DejaVu Sans Mono',consolas,'Courier New',monospace\">sub-WT16_ses-3_run-<span style=\"color: #008080; text-decoration-color: #008080; font-weight: bold\">2</span>:           a total of <span style=\"color: #008080; text-decoration-color: #008080; font-weight: bold\">153</span> <span style=\"color: #800080; text-decoration-color: #800080\">/</span> <span style=\"color: #008080; text-decoration-color: #008080; font-weight: bold\">2365</span> <span style=\"font-weight: bold\">(</span><span style=\"color: #008080; text-decoration-color: #008080; font-weight: bold\">6.5</span> %<span style=\"font-weight: bold\">)</span> ROIs had zero STD\n",
       "</pre>\n"
      ],
      "text/plain": [
       "sub-WT16_ses-3_run-\u001b[1;36m2\u001b[0m:           a total of \u001b[1;36m153\u001b[0m \u001b[35m/\u001b[0m \u001b[1;36m2365\u001b[0m \u001b[1m(\u001b[0m\u001b[1;36m6.5\u001b[0m %\u001b[1m)\u001b[0m ROIs had zero STD\n"
      ]
     },
     "metadata": {},
     "output_type": "display_data"
    },
    {
     "data": {
      "text/html": [
       "<pre style=\"white-space:pre;overflow-x:auto;line-height:normal;font-family:Menlo,'DejaVu Sans Mono',consolas,'Courier New',monospace\">sub-WT16_ses-3_run-<span style=\"color: #008080; text-decoration-color: #008080; font-weight: bold\">3</span>:           a total of <span style=\"color: #008080; text-decoration-color: #008080; font-weight: bold\">250</span> <span style=\"color: #800080; text-decoration-color: #800080\">/</span> <span style=\"color: #008080; text-decoration-color: #008080; font-weight: bold\">2365</span> <span style=\"font-weight: bold\">(</span><span style=\"color: #008080; text-decoration-color: #008080; font-weight: bold\">10.6</span> %<span style=\"font-weight: bold\">)</span> ROIs had zero STD\n",
       "</pre>\n"
      ],
      "text/plain": [
       "sub-WT16_ses-3_run-\u001b[1;36m3\u001b[0m:           a total of \u001b[1;36m250\u001b[0m \u001b[35m/\u001b[0m \u001b[1;36m2365\u001b[0m \u001b[1m(\u001b[0m\u001b[1;36m10.6\u001b[0m %\u001b[1m)\u001b[0m ROIs had zero STD\n"
      ]
     },
     "metadata": {},
     "output_type": "display_data"
    },
    {
     "data": {
      "text/html": [
       "<pre style=\"white-space:pre;overflow-x:auto;line-height:normal;font-family:Menlo,'DejaVu Sans Mono',consolas,'Courier New',monospace\">sub-WT17_ses-3_run-<span style=\"color: #008080; text-decoration-color: #008080; font-weight: bold\">1</span>:           a total of <span style=\"color: #008080; text-decoration-color: #008080; font-weight: bold\">262</span> <span style=\"color: #800080; text-decoration-color: #800080\">/</span> <span style=\"color: #008080; text-decoration-color: #008080; font-weight: bold\">2365</span> <span style=\"font-weight: bold\">(</span><span style=\"color: #008080; text-decoration-color: #008080; font-weight: bold\">11.1</span> %<span style=\"font-weight: bold\">)</span> ROIs had zero STD\n",
       "</pre>\n"
      ],
      "text/plain": [
       "sub-WT17_ses-3_run-\u001b[1;36m1\u001b[0m:           a total of \u001b[1;36m262\u001b[0m \u001b[35m/\u001b[0m \u001b[1;36m2365\u001b[0m \u001b[1m(\u001b[0m\u001b[1;36m11.1\u001b[0m %\u001b[1m)\u001b[0m ROIs had zero STD\n"
      ]
     },
     "metadata": {},
     "output_type": "display_data"
    },
    {
     "data": {
      "text/html": [
       "<pre style=\"white-space:pre;overflow-x:auto;line-height:normal;font-family:Menlo,'DejaVu Sans Mono',consolas,'Courier New',monospace\">sub-WT17_ses-3_run-<span style=\"color: #008080; text-decoration-color: #008080; font-weight: bold\">2</span>:           a total of <span style=\"color: #008080; text-decoration-color: #008080; font-weight: bold\">233</span> <span style=\"color: #800080; text-decoration-color: #800080\">/</span> <span style=\"color: #008080; text-decoration-color: #008080; font-weight: bold\">2365</span> <span style=\"font-weight: bold\">(</span><span style=\"color: #008080; text-decoration-color: #008080; font-weight: bold\">9.9</span> %<span style=\"font-weight: bold\">)</span> ROIs had zero STD\n",
       "</pre>\n"
      ],
      "text/plain": [
       "sub-WT17_ses-3_run-\u001b[1;36m2\u001b[0m:           a total of \u001b[1;36m233\u001b[0m \u001b[35m/\u001b[0m \u001b[1;36m2365\u001b[0m \u001b[1m(\u001b[0m\u001b[1;36m9.9\u001b[0m %\u001b[1m)\u001b[0m ROIs had zero STD\n"
      ]
     },
     "metadata": {},
     "output_type": "display_data"
    },
    {
     "data": {
      "text/html": [
       "<pre style=\"white-space:pre;overflow-x:auto;line-height:normal;font-family:Menlo,'DejaVu Sans Mono',consolas,'Courier New',monospace\">sub-WT17_ses-3_run-<span style=\"color: #008080; text-decoration-color: #008080; font-weight: bold\">3</span>:           a total of <span style=\"color: #008080; text-decoration-color: #008080; font-weight: bold\">196</span> <span style=\"color: #800080; text-decoration-color: #800080\">/</span> <span style=\"color: #008080; text-decoration-color: #008080; font-weight: bold\">2365</span> <span style=\"font-weight: bold\">(</span><span style=\"color: #008080; text-decoration-color: #008080; font-weight: bold\">8.3</span> %<span style=\"font-weight: bold\">)</span> ROIs had zero STD\n",
       "</pre>\n"
      ],
      "text/plain": [
       "sub-WT17_ses-3_run-\u001b[1;36m3\u001b[0m:           a total of \u001b[1;36m196\u001b[0m \u001b[35m/\u001b[0m \u001b[1;36m2365\u001b[0m \u001b[1m(\u001b[0m\u001b[1;36m8.3\u001b[0m %\u001b[1m)\u001b[0m ROIs had zero STD\n"
      ]
     },
     "metadata": {},
     "output_type": "display_data"
    },
    {
     "data": {
      "text/html": [
       "<pre style=\"white-space:pre;overflow-x:auto;line-height:normal;font-family:Menlo,'DejaVu Sans Mono',consolas,'Courier New',monospace\">sub-WT18_ses-5_run-<span style=\"color: #008080; text-decoration-color: #008080; font-weight: bold\">1</span>:           a total of <span style=\"color: #008080; text-decoration-color: #008080; font-weight: bold\">253</span> <span style=\"color: #800080; text-decoration-color: #800080\">/</span> <span style=\"color: #008080; text-decoration-color: #008080; font-weight: bold\">2365</span> <span style=\"font-weight: bold\">(</span><span style=\"color: #008080; text-decoration-color: #008080; font-weight: bold\">10.7</span> %<span style=\"font-weight: bold\">)</span> ROIs had zero STD\n",
       "</pre>\n"
      ],
      "text/plain": [
       "sub-WT18_ses-5_run-\u001b[1;36m1\u001b[0m:           a total of \u001b[1;36m253\u001b[0m \u001b[35m/\u001b[0m \u001b[1;36m2365\u001b[0m \u001b[1m(\u001b[0m\u001b[1;36m10.7\u001b[0m %\u001b[1m)\u001b[0m ROIs had zero STD\n"
      ]
     },
     "metadata": {},
     "output_type": "display_data"
    },
    {
     "data": {
      "text/html": [
       "<pre style=\"white-space:pre;overflow-x:auto;line-height:normal;font-family:Menlo,'DejaVu Sans Mono',consolas,'Courier New',monospace\">sub-WT18_ses-5_run-<span style=\"color: #008080; text-decoration-color: #008080; font-weight: bold\">2</span>:           a total of <span style=\"color: #008080; text-decoration-color: #008080; font-weight: bold\">266</span> <span style=\"color: #800080; text-decoration-color: #800080\">/</span> <span style=\"color: #008080; text-decoration-color: #008080; font-weight: bold\">2365</span> <span style=\"font-weight: bold\">(</span><span style=\"color: #008080; text-decoration-color: #008080; font-weight: bold\">11.2</span> %<span style=\"font-weight: bold\">)</span> ROIs had zero STD\n",
       "</pre>\n"
      ],
      "text/plain": [
       "sub-WT18_ses-5_run-\u001b[1;36m2\u001b[0m:           a total of \u001b[1;36m266\u001b[0m \u001b[35m/\u001b[0m \u001b[1;36m2365\u001b[0m \u001b[1m(\u001b[0m\u001b[1;36m11.2\u001b[0m %\u001b[1m)\u001b[0m ROIs had zero STD\n"
      ]
     },
     "metadata": {},
     "output_type": "display_data"
    },
    {
     "data": {
      "text/html": [
       "<pre style=\"white-space:pre;overflow-x:auto;line-height:normal;font-family:Menlo,'DejaVu Sans Mono',consolas,'Courier New',monospace\">sub-WT18_ses-5_run-<span style=\"color: #008080; text-decoration-color: #008080; font-weight: bold\">3</span>:           a total of <span style=\"color: #008080; text-decoration-color: #008080; font-weight: bold\">211</span> <span style=\"color: #800080; text-decoration-color: #800080\">/</span> <span style=\"color: #008080; text-decoration-color: #008080; font-weight: bold\">2365</span> <span style=\"font-weight: bold\">(</span><span style=\"color: #008080; text-decoration-color: #008080; font-weight: bold\">8.9</span> %<span style=\"font-weight: bold\">)</span> ROIs had zero STD\n",
       "</pre>\n"
      ],
      "text/plain": [
       "sub-WT18_ses-5_run-\u001b[1;36m3\u001b[0m:           a total of \u001b[1;36m211\u001b[0m \u001b[35m/\u001b[0m \u001b[1;36m2365\u001b[0m \u001b[1m(\u001b[0m\u001b[1;36m8.9\u001b[0m %\u001b[1m)\u001b[0m ROIs had zero STD\n"
      ]
     },
     "metadata": {},
     "output_type": "display_data"
    },
    {
     "data": {
      "text/html": [
       "<pre style=\"white-space:pre;overflow-x:auto;line-height:normal;font-family:Menlo,'DejaVu Sans Mono',consolas,'Courier New',monospace\">sub-WT18_ses-6_run-<span style=\"color: #008080; text-decoration-color: #008080; font-weight: bold\">1</span>:           a total of <span style=\"color: #008080; text-decoration-color: #008080; font-weight: bold\">173</span> <span style=\"color: #800080; text-decoration-color: #800080\">/</span> <span style=\"color: #008080; text-decoration-color: #008080; font-weight: bold\">2365</span> <span style=\"font-weight: bold\">(</span><span style=\"color: #008080; text-decoration-color: #008080; font-weight: bold\">7.3</span> %<span style=\"font-weight: bold\">)</span> ROIs had zero STD\n",
       "</pre>\n"
      ],
      "text/plain": [
       "sub-WT18_ses-6_run-\u001b[1;36m1\u001b[0m:           a total of \u001b[1;36m173\u001b[0m \u001b[35m/\u001b[0m \u001b[1;36m2365\u001b[0m \u001b[1m(\u001b[0m\u001b[1;36m7.3\u001b[0m %\u001b[1m)\u001b[0m ROIs had zero STD\n"
      ]
     },
     "metadata": {},
     "output_type": "display_data"
    },
    {
     "data": {
      "text/html": [
       "<pre style=\"white-space:pre;overflow-x:auto;line-height:normal;font-family:Menlo,'DejaVu Sans Mono',consolas,'Courier New',monospace\">sub-WT18_ses-6_run-<span style=\"color: #008080; text-decoration-color: #008080; font-weight: bold\">2</span>:           a total of <span style=\"color: #008080; text-decoration-color: #008080; font-weight: bold\">178</span> <span style=\"color: #800080; text-decoration-color: #800080\">/</span> <span style=\"color: #008080; text-decoration-color: #008080; font-weight: bold\">2365</span> <span style=\"font-weight: bold\">(</span><span style=\"color: #008080; text-decoration-color: #008080; font-weight: bold\">7.5</span> %<span style=\"font-weight: bold\">)</span> ROIs had zero STD\n",
       "</pre>\n"
      ],
      "text/plain": [
       "sub-WT18_ses-6_run-\u001b[1;36m2\u001b[0m:           a total of \u001b[1;36m178\u001b[0m \u001b[35m/\u001b[0m \u001b[1;36m2365\u001b[0m \u001b[1m(\u001b[0m\u001b[1;36m7.5\u001b[0m %\u001b[1m)\u001b[0m ROIs had zero STD\n"
      ]
     },
     "metadata": {},
     "output_type": "display_data"
    },
    {
     "data": {
      "text/html": [
       "<pre style=\"white-space:pre;overflow-x:auto;line-height:normal;font-family:Menlo,'DejaVu Sans Mono',consolas,'Courier New',monospace\">sub-WT18_ses-6_run-<span style=\"color: #008080; text-decoration-color: #008080; font-weight: bold\">3</span>:           a total of <span style=\"color: #008080; text-decoration-color: #008080; font-weight: bold\">181</span> <span style=\"color: #800080; text-decoration-color: #800080\">/</span> <span style=\"color: #008080; text-decoration-color: #008080; font-weight: bold\">2365</span> <span style=\"font-weight: bold\">(</span><span style=\"color: #008080; text-decoration-color: #008080; font-weight: bold\">7.7</span> %<span style=\"font-weight: bold\">)</span> ROIs had zero STD\n",
       "</pre>\n"
      ],
      "text/plain": [
       "sub-WT18_ses-6_run-\u001b[1;36m3\u001b[0m:           a total of \u001b[1;36m181\u001b[0m \u001b[35m/\u001b[0m \u001b[1;36m2365\u001b[0m \u001b[1m(\u001b[0m\u001b[1;36m7.7\u001b[0m %\u001b[1m)\u001b[0m ROIs had zero STD\n"
      ]
     },
     "metadata": {},
     "output_type": "display_data"
    },
    {
     "data": {
      "text/html": [
       "<pre style=\"white-space:pre;overflow-x:auto;line-height:normal;font-family:Menlo,'DejaVu Sans Mono',consolas,'Courier New',monospace\">sub-WT19_ses-5_run-<span style=\"color: #008080; text-decoration-color: #008080; font-weight: bold\">1</span>:           a total of <span style=\"color: #008080; text-decoration-color: #008080; font-weight: bold\">284</span> <span style=\"color: #800080; text-decoration-color: #800080\">/</span> <span style=\"color: #008080; text-decoration-color: #008080; font-weight: bold\">2365</span> <span style=\"font-weight: bold\">(</span><span style=\"color: #008080; text-decoration-color: #008080; font-weight: bold\">12.0</span> %<span style=\"font-weight: bold\">)</span> ROIs had zero STD\n",
       "</pre>\n"
      ],
      "text/plain": [
       "sub-WT19_ses-5_run-\u001b[1;36m1\u001b[0m:           a total of \u001b[1;36m284\u001b[0m \u001b[35m/\u001b[0m \u001b[1;36m2365\u001b[0m \u001b[1m(\u001b[0m\u001b[1;36m12.0\u001b[0m %\u001b[1m)\u001b[0m ROIs had zero STD\n"
      ]
     },
     "metadata": {},
     "output_type": "display_data"
    },
    {
     "data": {
      "text/html": [
       "<pre style=\"white-space:pre;overflow-x:auto;line-height:normal;font-family:Menlo,'DejaVu Sans Mono',consolas,'Courier New',monospace\">sub-WT19_ses-5_run-<span style=\"color: #008080; text-decoration-color: #008080; font-weight: bold\">2</span>:           a total of <span style=\"color: #008080; text-decoration-color: #008080; font-weight: bold\">263</span> <span style=\"color: #800080; text-decoration-color: #800080\">/</span> <span style=\"color: #008080; text-decoration-color: #008080; font-weight: bold\">2365</span> <span style=\"font-weight: bold\">(</span><span style=\"color: #008080; text-decoration-color: #008080; font-weight: bold\">11.1</span> %<span style=\"font-weight: bold\">)</span> ROIs had zero STD\n",
       "</pre>\n"
      ],
      "text/plain": [
       "sub-WT19_ses-5_run-\u001b[1;36m2\u001b[0m:           a total of \u001b[1;36m263\u001b[0m \u001b[35m/\u001b[0m \u001b[1;36m2365\u001b[0m \u001b[1m(\u001b[0m\u001b[1;36m11.1\u001b[0m %\u001b[1m)\u001b[0m ROIs had zero STD\n"
      ]
     },
     "metadata": {},
     "output_type": "display_data"
    },
    {
     "data": {
      "text/html": [
       "<pre style=\"white-space:pre;overflow-x:auto;line-height:normal;font-family:Menlo,'DejaVu Sans Mono',consolas,'Courier New',monospace\">sub-WT19_ses-5_run-<span style=\"color: #008080; text-decoration-color: #008080; font-weight: bold\">3</span>:           a total of <span style=\"color: #008080; text-decoration-color: #008080; font-weight: bold\">279</span> <span style=\"color: #800080; text-decoration-color: #800080\">/</span> <span style=\"color: #008080; text-decoration-color: #008080; font-weight: bold\">2365</span> <span style=\"font-weight: bold\">(</span><span style=\"color: #008080; text-decoration-color: #008080; font-weight: bold\">11.8</span> %<span style=\"font-weight: bold\">)</span> ROIs had zero STD\n",
       "</pre>\n"
      ],
      "text/plain": [
       "sub-WT19_ses-5_run-\u001b[1;36m3\u001b[0m:           a total of \u001b[1;36m279\u001b[0m \u001b[35m/\u001b[0m \u001b[1;36m2365\u001b[0m \u001b[1m(\u001b[0m\u001b[1;36m11.8\u001b[0m %\u001b[1m)\u001b[0m ROIs had zero STD\n"
      ]
     },
     "metadata": {},
     "output_type": "display_data"
    },
    {
     "data": {
      "text/html": [
       "<pre style=\"white-space:pre;overflow-x:auto;line-height:normal;font-family:Menlo,'DejaVu Sans Mono',consolas,'Courier New',monospace\">sub-WT19_ses-6_run-<span style=\"color: #008080; text-decoration-color: #008080; font-weight: bold\">1</span>:           a total of <span style=\"color: #008080; text-decoration-color: #008080; font-weight: bold\">326</span> <span style=\"color: #800080; text-decoration-color: #800080\">/</span> <span style=\"color: #008080; text-decoration-color: #008080; font-weight: bold\">2365</span> <span style=\"font-weight: bold\">(</span><span style=\"color: #008080; text-decoration-color: #008080; font-weight: bold\">13.8</span> %<span style=\"font-weight: bold\">)</span> ROIs had zero STD\n",
       "</pre>\n"
      ],
      "text/plain": [
       "sub-WT19_ses-6_run-\u001b[1;36m1\u001b[0m:           a total of \u001b[1;36m326\u001b[0m \u001b[35m/\u001b[0m \u001b[1;36m2365\u001b[0m \u001b[1m(\u001b[0m\u001b[1;36m13.8\u001b[0m %\u001b[1m)\u001b[0m ROIs had zero STD\n"
      ]
     },
     "metadata": {},
     "output_type": "display_data"
    },
    {
     "data": {
      "text/html": [
       "<pre style=\"white-space:pre;overflow-x:auto;line-height:normal;font-family:Menlo,'DejaVu Sans Mono',consolas,'Courier New',monospace\">sub-WT19_ses-6_run-<span style=\"color: #008080; text-decoration-color: #008080; font-weight: bold\">2</span>:           a total of <span style=\"color: #008080; text-decoration-color: #008080; font-weight: bold\">319</span> <span style=\"color: #800080; text-decoration-color: #800080\">/</span> <span style=\"color: #008080; text-decoration-color: #008080; font-weight: bold\">2365</span> <span style=\"font-weight: bold\">(</span><span style=\"color: #008080; text-decoration-color: #008080; font-weight: bold\">13.5</span> %<span style=\"font-weight: bold\">)</span> ROIs had zero STD\n",
       "</pre>\n"
      ],
      "text/plain": [
       "sub-WT19_ses-6_run-\u001b[1;36m2\u001b[0m:           a total of \u001b[1;36m319\u001b[0m \u001b[35m/\u001b[0m \u001b[1;36m2365\u001b[0m \u001b[1m(\u001b[0m\u001b[1;36m13.5\u001b[0m %\u001b[1m)\u001b[0m ROIs had zero STD\n"
      ]
     },
     "metadata": {},
     "output_type": "display_data"
    },
    {
     "data": {
      "text/html": [
       "<pre style=\"white-space:pre;overflow-x:auto;line-height:normal;font-family:Menlo,'DejaVu Sans Mono',consolas,'Courier New',monospace\">sub-WT19_ses-6_run-<span style=\"color: #008080; text-decoration-color: #008080; font-weight: bold\">3</span>:           a total of <span style=\"color: #008080; text-decoration-color: #008080; font-weight: bold\">291</span> <span style=\"color: #800080; text-decoration-color: #800080\">/</span> <span style=\"color: #008080; text-decoration-color: #008080; font-weight: bold\">2365</span> <span style=\"font-weight: bold\">(</span><span style=\"color: #008080; text-decoration-color: #008080; font-weight: bold\">12.3</span> %<span style=\"font-weight: bold\">)</span> ROIs had zero STD\n",
       "</pre>\n"
      ],
      "text/plain": [
       "sub-WT19_ses-6_run-\u001b[1;36m3\u001b[0m:           a total of \u001b[1;36m291\u001b[0m \u001b[35m/\u001b[0m \u001b[1;36m2365\u001b[0m \u001b[1m(\u001b[0m\u001b[1;36m12.3\u001b[0m %\u001b[1m)\u001b[0m ROIs had zero STD\n"
      ]
     },
     "metadata": {},
     "output_type": "display_data"
    },
    {
     "data": {
      "text/html": [
       "<pre style=\"white-space:pre;overflow-x:auto;line-height:normal;font-family:Menlo,'DejaVu Sans Mono',consolas,'Courier New',monospace\">sub-WT20_ses-5_run-<span style=\"color: #008080; text-decoration-color: #008080; font-weight: bold\">1</span>:           a total of <span style=\"color: #008080; text-decoration-color: #008080; font-weight: bold\">217</span> <span style=\"color: #800080; text-decoration-color: #800080\">/</span> <span style=\"color: #008080; text-decoration-color: #008080; font-weight: bold\">2365</span> <span style=\"font-weight: bold\">(</span><span style=\"color: #008080; text-decoration-color: #008080; font-weight: bold\">9.2</span> %<span style=\"font-weight: bold\">)</span> ROIs had zero STD\n",
       "</pre>\n"
      ],
      "text/plain": [
       "sub-WT20_ses-5_run-\u001b[1;36m1\u001b[0m:           a total of \u001b[1;36m217\u001b[0m \u001b[35m/\u001b[0m \u001b[1;36m2365\u001b[0m \u001b[1m(\u001b[0m\u001b[1;36m9.2\u001b[0m %\u001b[1m)\u001b[0m ROIs had zero STD\n"
      ]
     },
     "metadata": {},
     "output_type": "display_data"
    },
    {
     "data": {
      "text/html": [
       "<pre style=\"white-space:pre;overflow-x:auto;line-height:normal;font-family:Menlo,'DejaVu Sans Mono',consolas,'Courier New',monospace\">sub-WT20_ses-5_run-<span style=\"color: #008080; text-decoration-color: #008080; font-weight: bold\">2</span>:           a total of <span style=\"color: #008080; text-decoration-color: #008080; font-weight: bold\">311</span> <span style=\"color: #800080; text-decoration-color: #800080\">/</span> <span style=\"color: #008080; text-decoration-color: #008080; font-weight: bold\">2365</span> <span style=\"font-weight: bold\">(</span><span style=\"color: #008080; text-decoration-color: #008080; font-weight: bold\">13.2</span> %<span style=\"font-weight: bold\">)</span> ROIs had zero STD\n",
       "</pre>\n"
      ],
      "text/plain": [
       "sub-WT20_ses-5_run-\u001b[1;36m2\u001b[0m:           a total of \u001b[1;36m311\u001b[0m \u001b[35m/\u001b[0m \u001b[1;36m2365\u001b[0m \u001b[1m(\u001b[0m\u001b[1;36m13.2\u001b[0m %\u001b[1m)\u001b[0m ROIs had zero STD\n"
      ]
     },
     "metadata": {},
     "output_type": "display_data"
    },
    {
     "data": {
      "text/html": [
       "<pre style=\"white-space:pre;overflow-x:auto;line-height:normal;font-family:Menlo,'DejaVu Sans Mono',consolas,'Courier New',monospace\">sub-WT20_ses-5_run-<span style=\"color: #008080; text-decoration-color: #008080; font-weight: bold\">3</span>:           a total of <span style=\"color: #008080; text-decoration-color: #008080; font-weight: bold\">268</span> <span style=\"color: #800080; text-decoration-color: #800080\">/</span> <span style=\"color: #008080; text-decoration-color: #008080; font-weight: bold\">2365</span> <span style=\"font-weight: bold\">(</span><span style=\"color: #008080; text-decoration-color: #008080; font-weight: bold\">11.3</span> %<span style=\"font-weight: bold\">)</span> ROIs had zero STD\n",
       "</pre>\n"
      ],
      "text/plain": [
       "sub-WT20_ses-5_run-\u001b[1;36m3\u001b[0m:           a total of \u001b[1;36m268\u001b[0m \u001b[35m/\u001b[0m \u001b[1;36m2365\u001b[0m \u001b[1m(\u001b[0m\u001b[1;36m11.3\u001b[0m %\u001b[1m)\u001b[0m ROIs had zero STD\n"
      ]
     },
     "metadata": {},
     "output_type": "display_data"
    },
    {
     "data": {
      "text/html": [
       "<pre style=\"white-space:pre;overflow-x:auto;line-height:normal;font-family:Menlo,'DejaVu Sans Mono',consolas,'Courier New',monospace\">sub-WT20_ses-6_run-<span style=\"color: #008080; text-decoration-color: #008080; font-weight: bold\">1</span>:           a total of <span style=\"color: #008080; text-decoration-color: #008080; font-weight: bold\">217</span> <span style=\"color: #800080; text-decoration-color: #800080\">/</span> <span style=\"color: #008080; text-decoration-color: #008080; font-weight: bold\">2365</span> <span style=\"font-weight: bold\">(</span><span style=\"color: #008080; text-decoration-color: #008080; font-weight: bold\">9.2</span> %<span style=\"font-weight: bold\">)</span> ROIs had zero STD\n",
       "</pre>\n"
      ],
      "text/plain": [
       "sub-WT20_ses-6_run-\u001b[1;36m1\u001b[0m:           a total of \u001b[1;36m217\u001b[0m \u001b[35m/\u001b[0m \u001b[1;36m2365\u001b[0m \u001b[1m(\u001b[0m\u001b[1;36m9.2\u001b[0m %\u001b[1m)\u001b[0m ROIs had zero STD\n"
      ]
     },
     "metadata": {},
     "output_type": "display_data"
    },
    {
     "data": {
      "text/html": [
       "<pre style=\"white-space:pre;overflow-x:auto;line-height:normal;font-family:Menlo,'DejaVu Sans Mono',consolas,'Courier New',monospace\">sub-WT20_ses-6_run-<span style=\"color: #008080; text-decoration-color: #008080; font-weight: bold\">2</span>:           a total of <span style=\"color: #008080; text-decoration-color: #008080; font-weight: bold\">229</span> <span style=\"color: #800080; text-decoration-color: #800080\">/</span> <span style=\"color: #008080; text-decoration-color: #008080; font-weight: bold\">2365</span> <span style=\"font-weight: bold\">(</span><span style=\"color: #008080; text-decoration-color: #008080; font-weight: bold\">9.7</span> %<span style=\"font-weight: bold\">)</span> ROIs had zero STD\n",
       "</pre>\n"
      ],
      "text/plain": [
       "sub-WT20_ses-6_run-\u001b[1;36m2\u001b[0m:           a total of \u001b[1;36m229\u001b[0m \u001b[35m/\u001b[0m \u001b[1;36m2365\u001b[0m \u001b[1m(\u001b[0m\u001b[1;36m9.7\u001b[0m %\u001b[1m)\u001b[0m ROIs had zero STD\n"
      ]
     },
     "metadata": {},
     "output_type": "display_data"
    },
    {
     "data": {
      "text/html": [
       "<pre style=\"white-space:pre;overflow-x:auto;line-height:normal;font-family:Menlo,'DejaVu Sans Mono',consolas,'Courier New',monospace\">sub-WT20_ses-6_run-<span style=\"color: #008080; text-decoration-color: #008080; font-weight: bold\">3</span>:           a total of <span style=\"color: #008080; text-decoration-color: #008080; font-weight: bold\">176</span> <span style=\"color: #800080; text-decoration-color: #800080\">/</span> <span style=\"color: #008080; text-decoration-color: #008080; font-weight: bold\">2365</span> <span style=\"font-weight: bold\">(</span><span style=\"color: #008080; text-decoration-color: #008080; font-weight: bold\">7.4</span> %<span style=\"font-weight: bold\">)</span> ROIs had zero STD\n",
       "</pre>\n"
      ],
      "text/plain": [
       "sub-WT20_ses-6_run-\u001b[1;36m3\u001b[0m:           a total of \u001b[1;36m176\u001b[0m \u001b[35m/\u001b[0m \u001b[1;36m2365\u001b[0m \u001b[1m(\u001b[0m\u001b[1;36m7.4\u001b[0m %\u001b[1m)\u001b[0m ROIs had zero STD\n"
      ]
     },
     "metadata": {},
     "output_type": "display_data"
    },
    {
     "data": {
      "text/html": [
       "<pre style=\"white-space:pre;overflow-x:auto;line-height:normal;font-family:Menlo,'DejaVu Sans Mono',consolas,'Courier New',monospace\">sub-WT21_ses-5_run-<span style=\"color: #008080; text-decoration-color: #008080; font-weight: bold\">1</span>:           a total of <span style=\"color: #008080; text-decoration-color: #008080; font-weight: bold\">259</span> <span style=\"color: #800080; text-decoration-color: #800080\">/</span> <span style=\"color: #008080; text-decoration-color: #008080; font-weight: bold\">2365</span> <span style=\"font-weight: bold\">(</span><span style=\"color: #008080; text-decoration-color: #008080; font-weight: bold\">11.0</span> %<span style=\"font-weight: bold\">)</span> ROIs had zero STD\n",
       "</pre>\n"
      ],
      "text/plain": [
       "sub-WT21_ses-5_run-\u001b[1;36m1\u001b[0m:           a total of \u001b[1;36m259\u001b[0m \u001b[35m/\u001b[0m \u001b[1;36m2365\u001b[0m \u001b[1m(\u001b[0m\u001b[1;36m11.0\u001b[0m %\u001b[1m)\u001b[0m ROIs had zero STD\n"
      ]
     },
     "metadata": {},
     "output_type": "display_data"
    },
    {
     "data": {
      "text/html": [
       "<pre style=\"white-space:pre;overflow-x:auto;line-height:normal;font-family:Menlo,'DejaVu Sans Mono',consolas,'Courier New',monospace\">sub-WT21_ses-5_run-<span style=\"color: #008080; text-decoration-color: #008080; font-weight: bold\">2</span>:           a total of <span style=\"color: #008080; text-decoration-color: #008080; font-weight: bold\">266</span> <span style=\"color: #800080; text-decoration-color: #800080\">/</span> <span style=\"color: #008080; text-decoration-color: #008080; font-weight: bold\">2365</span> <span style=\"font-weight: bold\">(</span><span style=\"color: #008080; text-decoration-color: #008080; font-weight: bold\">11.2</span> %<span style=\"font-weight: bold\">)</span> ROIs had zero STD\n",
       "</pre>\n"
      ],
      "text/plain": [
       "sub-WT21_ses-5_run-\u001b[1;36m2\u001b[0m:           a total of \u001b[1;36m266\u001b[0m \u001b[35m/\u001b[0m \u001b[1;36m2365\u001b[0m \u001b[1m(\u001b[0m\u001b[1;36m11.2\u001b[0m %\u001b[1m)\u001b[0m ROIs had zero STD\n"
      ]
     },
     "metadata": {},
     "output_type": "display_data"
    },
    {
     "data": {
      "text/html": [
       "<pre style=\"white-space:pre;overflow-x:auto;line-height:normal;font-family:Menlo,'DejaVu Sans Mono',consolas,'Courier New',monospace\">sub-WT21_ses-5_run-<span style=\"color: #008080; text-decoration-color: #008080; font-weight: bold\">3</span>:           a total of <span style=\"color: #008080; text-decoration-color: #008080; font-weight: bold\">249</span> <span style=\"color: #800080; text-decoration-color: #800080\">/</span> <span style=\"color: #008080; text-decoration-color: #008080; font-weight: bold\">2365</span> <span style=\"font-weight: bold\">(</span><span style=\"color: #008080; text-decoration-color: #008080; font-weight: bold\">10.5</span> %<span style=\"font-weight: bold\">)</span> ROIs had zero STD\n",
       "</pre>\n"
      ],
      "text/plain": [
       "sub-WT21_ses-5_run-\u001b[1;36m3\u001b[0m:           a total of \u001b[1;36m249\u001b[0m \u001b[35m/\u001b[0m \u001b[1;36m2365\u001b[0m \u001b[1m(\u001b[0m\u001b[1;36m10.5\u001b[0m %\u001b[1m)\u001b[0m ROIs had zero STD\n"
      ]
     },
     "metadata": {},
     "output_type": "display_data"
    },
    {
     "data": {
      "text/html": [
       "<pre style=\"white-space:pre;overflow-x:auto;line-height:normal;font-family:Menlo,'DejaVu Sans Mono',consolas,'Courier New',monospace\">sub-WT21_ses-6_run-<span style=\"color: #008080; text-decoration-color: #008080; font-weight: bold\">1</span>:           a total of <span style=\"color: #008080; text-decoration-color: #008080; font-weight: bold\">199</span> <span style=\"color: #800080; text-decoration-color: #800080\">/</span> <span style=\"color: #008080; text-decoration-color: #008080; font-weight: bold\">2365</span> <span style=\"font-weight: bold\">(</span><span style=\"color: #008080; text-decoration-color: #008080; font-weight: bold\">8.4</span> %<span style=\"font-weight: bold\">)</span> ROIs had zero STD\n",
       "</pre>\n"
      ],
      "text/plain": [
       "sub-WT21_ses-6_run-\u001b[1;36m1\u001b[0m:           a total of \u001b[1;36m199\u001b[0m \u001b[35m/\u001b[0m \u001b[1;36m2365\u001b[0m \u001b[1m(\u001b[0m\u001b[1;36m8.4\u001b[0m %\u001b[1m)\u001b[0m ROIs had zero STD\n"
      ]
     },
     "metadata": {},
     "output_type": "display_data"
    },
    {
     "data": {
      "text/html": [
       "<pre style=\"white-space:pre;overflow-x:auto;line-height:normal;font-family:Menlo,'DejaVu Sans Mono',consolas,'Courier New',monospace\">sub-WT21_ses-6_run-<span style=\"color: #008080; text-decoration-color: #008080; font-weight: bold\">2</span>:           a total of <span style=\"color: #008080; text-decoration-color: #008080; font-weight: bold\">183</span> <span style=\"color: #800080; text-decoration-color: #800080\">/</span> <span style=\"color: #008080; text-decoration-color: #008080; font-weight: bold\">2365</span> <span style=\"font-weight: bold\">(</span><span style=\"color: #008080; text-decoration-color: #008080; font-weight: bold\">7.7</span> %<span style=\"font-weight: bold\">)</span> ROIs had zero STD\n",
       "</pre>\n"
      ],
      "text/plain": [
       "sub-WT21_ses-6_run-\u001b[1;36m2\u001b[0m:           a total of \u001b[1;36m183\u001b[0m \u001b[35m/\u001b[0m \u001b[1;36m2365\u001b[0m \u001b[1m(\u001b[0m\u001b[1;36m7.7\u001b[0m %\u001b[1m)\u001b[0m ROIs had zero STD\n"
      ]
     },
     "metadata": {},
     "output_type": "display_data"
    },
    {
     "data": {
      "text/html": [
       "<pre style=\"white-space:pre;overflow-x:auto;line-height:normal;font-family:Menlo,'DejaVu Sans Mono',consolas,'Courier New',monospace\">sub-WT21_ses-6_run-<span style=\"color: #008080; text-decoration-color: #008080; font-weight: bold\">3</span>:           a total of <span style=\"color: #008080; text-decoration-color: #008080; font-weight: bold\">167</span> <span style=\"color: #800080; text-decoration-color: #800080\">/</span> <span style=\"color: #008080; text-decoration-color: #008080; font-weight: bold\">2365</span> <span style=\"font-weight: bold\">(</span><span style=\"color: #008080; text-decoration-color: #008080; font-weight: bold\">7.1</span> %<span style=\"font-weight: bold\">)</span> ROIs had zero STD\n",
       "</pre>\n"
      ],
      "text/plain": [
       "sub-WT21_ses-6_run-\u001b[1;36m3\u001b[0m:           a total of \u001b[1;36m167\u001b[0m \u001b[35m/\u001b[0m \u001b[1;36m2365\u001b[0m \u001b[1m(\u001b[0m\u001b[1;36m7.1\u001b[0m %\u001b[1m)\u001b[0m ROIs had zero STD\n"
      ]
     },
     "metadata": {},
     "output_type": "display_data"
    },
    {
     "data": {
      "text/html": [
       "<pre style=\"white-space:pre;overflow-x:auto;line-height:normal;font-family:Menlo,'DejaVu Sans Mono',consolas,'Courier New',monospace\">sub-WT22_ses-5_run-<span style=\"color: #008080; text-decoration-color: #008080; font-weight: bold\">1</span>:           a total of <span style=\"color: #008080; text-decoration-color: #008080; font-weight: bold\">181</span> <span style=\"color: #800080; text-decoration-color: #800080\">/</span> <span style=\"color: #008080; text-decoration-color: #008080; font-weight: bold\">2365</span> <span style=\"font-weight: bold\">(</span><span style=\"color: #008080; text-decoration-color: #008080; font-weight: bold\">7.7</span> %<span style=\"font-weight: bold\">)</span> ROIs had zero STD\n",
       "</pre>\n"
      ],
      "text/plain": [
       "sub-WT22_ses-5_run-\u001b[1;36m1\u001b[0m:           a total of \u001b[1;36m181\u001b[0m \u001b[35m/\u001b[0m \u001b[1;36m2365\u001b[0m \u001b[1m(\u001b[0m\u001b[1;36m7.7\u001b[0m %\u001b[1m)\u001b[0m ROIs had zero STD\n"
      ]
     },
     "metadata": {},
     "output_type": "display_data"
    },
    {
     "data": {
      "text/html": [
       "<pre style=\"white-space:pre;overflow-x:auto;line-height:normal;font-family:Menlo,'DejaVu Sans Mono',consolas,'Courier New',monospace\">sub-WT22_ses-5_run-<span style=\"color: #008080; text-decoration-color: #008080; font-weight: bold\">2</span>:           a total of <span style=\"color: #008080; text-decoration-color: #008080; font-weight: bold\">200</span> <span style=\"color: #800080; text-decoration-color: #800080\">/</span> <span style=\"color: #008080; text-decoration-color: #008080; font-weight: bold\">2365</span> <span style=\"font-weight: bold\">(</span><span style=\"color: #008080; text-decoration-color: #008080; font-weight: bold\">8.5</span> %<span style=\"font-weight: bold\">)</span> ROIs had zero STD\n",
       "</pre>\n"
      ],
      "text/plain": [
       "sub-WT22_ses-5_run-\u001b[1;36m2\u001b[0m:           a total of \u001b[1;36m200\u001b[0m \u001b[35m/\u001b[0m \u001b[1;36m2365\u001b[0m \u001b[1m(\u001b[0m\u001b[1;36m8.5\u001b[0m %\u001b[1m)\u001b[0m ROIs had zero STD\n"
      ]
     },
     "metadata": {},
     "output_type": "display_data"
    },
    {
     "data": {
      "text/html": [
       "<pre style=\"white-space:pre;overflow-x:auto;line-height:normal;font-family:Menlo,'DejaVu Sans Mono',consolas,'Courier New',monospace\">sub-WT22_ses-5_run-<span style=\"color: #008080; text-decoration-color: #008080; font-weight: bold\">3</span>:           a total of <span style=\"color: #008080; text-decoration-color: #008080; font-weight: bold\">202</span> <span style=\"color: #800080; text-decoration-color: #800080\">/</span> <span style=\"color: #008080; text-decoration-color: #008080; font-weight: bold\">2365</span> <span style=\"font-weight: bold\">(</span><span style=\"color: #008080; text-decoration-color: #008080; font-weight: bold\">8.5</span> %<span style=\"font-weight: bold\">)</span> ROIs had zero STD\n",
       "</pre>\n"
      ],
      "text/plain": [
       "sub-WT22_ses-5_run-\u001b[1;36m3\u001b[0m:           a total of \u001b[1;36m202\u001b[0m \u001b[35m/\u001b[0m \u001b[1;36m2365\u001b[0m \u001b[1m(\u001b[0m\u001b[1;36m8.5\u001b[0m %\u001b[1m)\u001b[0m ROIs had zero STD\n"
      ]
     },
     "metadata": {},
     "output_type": "display_data"
    },
    {
     "data": {
      "text/html": [
       "<pre style=\"white-space:pre;overflow-x:auto;line-height:normal;font-family:Menlo,'DejaVu Sans Mono',consolas,'Courier New',monospace\">sub-WT22_ses-6_run-<span style=\"color: #008080; text-decoration-color: #008080; font-weight: bold\">1</span>:           a total of <span style=\"color: #008080; text-decoration-color: #008080; font-weight: bold\">149</span> <span style=\"color: #800080; text-decoration-color: #800080\">/</span> <span style=\"color: #008080; text-decoration-color: #008080; font-weight: bold\">2365</span> <span style=\"font-weight: bold\">(</span><span style=\"color: #008080; text-decoration-color: #008080; font-weight: bold\">6.3</span> %<span style=\"font-weight: bold\">)</span> ROIs had zero STD\n",
       "</pre>\n"
      ],
      "text/plain": [
       "sub-WT22_ses-6_run-\u001b[1;36m1\u001b[0m:           a total of \u001b[1;36m149\u001b[0m \u001b[35m/\u001b[0m \u001b[1;36m2365\u001b[0m \u001b[1m(\u001b[0m\u001b[1;36m6.3\u001b[0m %\u001b[1m)\u001b[0m ROIs had zero STD\n"
      ]
     },
     "metadata": {},
     "output_type": "display_data"
    },
    {
     "data": {
      "text/html": [
       "<pre style=\"white-space:pre;overflow-x:auto;line-height:normal;font-family:Menlo,'DejaVu Sans Mono',consolas,'Courier New',monospace\">sub-WT22_ses-6_run-<span style=\"color: #008080; text-decoration-color: #008080; font-weight: bold\">2</span>:           a total of <span style=\"color: #008080; text-decoration-color: #008080; font-weight: bold\">181</span> <span style=\"color: #800080; text-decoration-color: #800080\">/</span> <span style=\"color: #008080; text-decoration-color: #008080; font-weight: bold\">2365</span> <span style=\"font-weight: bold\">(</span><span style=\"color: #008080; text-decoration-color: #008080; font-weight: bold\">7.7</span> %<span style=\"font-weight: bold\">)</span> ROIs had zero STD\n",
       "</pre>\n"
      ],
      "text/plain": [
       "sub-WT22_ses-6_run-\u001b[1;36m2\u001b[0m:           a total of \u001b[1;36m181\u001b[0m \u001b[35m/\u001b[0m \u001b[1;36m2365\u001b[0m \u001b[1m(\u001b[0m\u001b[1;36m7.7\u001b[0m %\u001b[1m)\u001b[0m ROIs had zero STD\n"
      ]
     },
     "metadata": {},
     "output_type": "display_data"
    },
    {
     "data": {
      "text/html": [
       "<pre style=\"white-space:pre;overflow-x:auto;line-height:normal;font-family:Menlo,'DejaVu Sans Mono',consolas,'Courier New',monospace\">sub-WT22_ses-6_run-<span style=\"color: #008080; text-decoration-color: #008080; font-weight: bold\">3</span>:           a total of <span style=\"color: #008080; text-decoration-color: #008080; font-weight: bold\">160</span> <span style=\"color: #800080; text-decoration-color: #800080\">/</span> <span style=\"color: #008080; text-decoration-color: #008080; font-weight: bold\">2365</span> <span style=\"font-weight: bold\">(</span><span style=\"color: #008080; text-decoration-color: #008080; font-weight: bold\">6.8</span> %<span style=\"font-weight: bold\">)</span> ROIs had zero STD\n",
       "</pre>\n"
      ],
      "text/plain": [
       "sub-WT22_ses-6_run-\u001b[1;36m3\u001b[0m:           a total of \u001b[1;36m160\u001b[0m \u001b[35m/\u001b[0m \u001b[1;36m2365\u001b[0m \u001b[1m(\u001b[0m\u001b[1;36m6.8\u001b[0m %\u001b[1m)\u001b[0m ROIs had zero STD\n"
      ]
     },
     "metadata": {},
     "output_type": "display_data"
    },
    {
     "data": {
      "text/html": [
       "<pre style=\"white-space:pre;overflow-x:auto;line-height:normal;font-family:Menlo,'DejaVu Sans Mono',consolas,'Courier New',monospace\">sub-WT23_ses-5_run-<span style=\"color: #008080; text-decoration-color: #008080; font-weight: bold\">1</span>:           a total of <span style=\"color: #008080; text-decoration-color: #008080; font-weight: bold\">293</span> <span style=\"color: #800080; text-decoration-color: #800080\">/</span> <span style=\"color: #008080; text-decoration-color: #008080; font-weight: bold\">2365</span> <span style=\"font-weight: bold\">(</span><span style=\"color: #008080; text-decoration-color: #008080; font-weight: bold\">12.4</span> %<span style=\"font-weight: bold\">)</span> ROIs had zero STD\n",
       "</pre>\n"
      ],
      "text/plain": [
       "sub-WT23_ses-5_run-\u001b[1;36m1\u001b[0m:           a total of \u001b[1;36m293\u001b[0m \u001b[35m/\u001b[0m \u001b[1;36m2365\u001b[0m \u001b[1m(\u001b[0m\u001b[1;36m12.4\u001b[0m %\u001b[1m)\u001b[0m ROIs had zero STD\n"
      ]
     },
     "metadata": {},
     "output_type": "display_data"
    },
    {
     "data": {
      "text/html": [
       "<pre style=\"white-space:pre;overflow-x:auto;line-height:normal;font-family:Menlo,'DejaVu Sans Mono',consolas,'Courier New',monospace\">sub-WT23_ses-5_run-<span style=\"color: #008080; text-decoration-color: #008080; font-weight: bold\">2</span>:           a total of <span style=\"color: #008080; text-decoration-color: #008080; font-weight: bold\">264</span> <span style=\"color: #800080; text-decoration-color: #800080\">/</span> <span style=\"color: #008080; text-decoration-color: #008080; font-weight: bold\">2365</span> <span style=\"font-weight: bold\">(</span><span style=\"color: #008080; text-decoration-color: #008080; font-weight: bold\">11.2</span> %<span style=\"font-weight: bold\">)</span> ROIs had zero STD\n",
       "</pre>\n"
      ],
      "text/plain": [
       "sub-WT23_ses-5_run-\u001b[1;36m2\u001b[0m:           a total of \u001b[1;36m264\u001b[0m \u001b[35m/\u001b[0m \u001b[1;36m2365\u001b[0m \u001b[1m(\u001b[0m\u001b[1;36m11.2\u001b[0m %\u001b[1m)\u001b[0m ROIs had zero STD\n"
      ]
     },
     "metadata": {},
     "output_type": "display_data"
    },
    {
     "data": {
      "text/html": [
       "<pre style=\"white-space:pre;overflow-x:auto;line-height:normal;font-family:Menlo,'DejaVu Sans Mono',consolas,'Courier New',monospace\">sub-WT23_ses-5_run-<span style=\"color: #008080; text-decoration-color: #008080; font-weight: bold\">3</span>:           a total of <span style=\"color: #008080; text-decoration-color: #008080; font-weight: bold\">196</span> <span style=\"color: #800080; text-decoration-color: #800080\">/</span> <span style=\"color: #008080; text-decoration-color: #008080; font-weight: bold\">2365</span> <span style=\"font-weight: bold\">(</span><span style=\"color: #008080; text-decoration-color: #008080; font-weight: bold\">8.3</span> %<span style=\"font-weight: bold\">)</span> ROIs had zero STD\n",
       "</pre>\n"
      ],
      "text/plain": [
       "sub-WT23_ses-5_run-\u001b[1;36m3\u001b[0m:           a total of \u001b[1;36m196\u001b[0m \u001b[35m/\u001b[0m \u001b[1;36m2365\u001b[0m \u001b[1m(\u001b[0m\u001b[1;36m8.3\u001b[0m %\u001b[1m)\u001b[0m ROIs had zero STD\n"
      ]
     },
     "metadata": {},
     "output_type": "display_data"
    },
    {
     "data": {
      "text/html": [
       "<pre style=\"white-space:pre;overflow-x:auto;line-height:normal;font-family:Menlo,'DejaVu Sans Mono',consolas,'Courier New',monospace\">sub-WT24_ses-5_run-<span style=\"color: #008080; text-decoration-color: #008080; font-weight: bold\">1</span>:           a total of <span style=\"color: #008080; text-decoration-color: #008080; font-weight: bold\">179</span> <span style=\"color: #800080; text-decoration-color: #800080\">/</span> <span style=\"color: #008080; text-decoration-color: #008080; font-weight: bold\">2365</span> <span style=\"font-weight: bold\">(</span><span style=\"color: #008080; text-decoration-color: #008080; font-weight: bold\">7.6</span> %<span style=\"font-weight: bold\">)</span> ROIs had zero STD\n",
       "</pre>\n"
      ],
      "text/plain": [
       "sub-WT24_ses-5_run-\u001b[1;36m1\u001b[0m:           a total of \u001b[1;36m179\u001b[0m \u001b[35m/\u001b[0m \u001b[1;36m2365\u001b[0m \u001b[1m(\u001b[0m\u001b[1;36m7.6\u001b[0m %\u001b[1m)\u001b[0m ROIs had zero STD\n"
      ]
     },
     "metadata": {},
     "output_type": "display_data"
    },
    {
     "data": {
      "text/html": [
       "<pre style=\"white-space:pre;overflow-x:auto;line-height:normal;font-family:Menlo,'DejaVu Sans Mono',consolas,'Courier New',monospace\">sub-WT24_ses-5_run-<span style=\"color: #008080; text-decoration-color: #008080; font-weight: bold\">2</span>:           a total of <span style=\"color: #008080; text-decoration-color: #008080; font-weight: bold\">182</span> <span style=\"color: #800080; text-decoration-color: #800080\">/</span> <span style=\"color: #008080; text-decoration-color: #008080; font-weight: bold\">2365</span> <span style=\"font-weight: bold\">(</span><span style=\"color: #008080; text-decoration-color: #008080; font-weight: bold\">7.7</span> %<span style=\"font-weight: bold\">)</span> ROIs had zero STD\n",
       "</pre>\n"
      ],
      "text/plain": [
       "sub-WT24_ses-5_run-\u001b[1;36m2\u001b[0m:           a total of \u001b[1;36m182\u001b[0m \u001b[35m/\u001b[0m \u001b[1;36m2365\u001b[0m \u001b[1m(\u001b[0m\u001b[1;36m7.7\u001b[0m %\u001b[1m)\u001b[0m ROIs had zero STD\n"
      ]
     },
     "metadata": {},
     "output_type": "display_data"
    },
    {
     "data": {
      "text/html": [
       "<pre style=\"white-space:pre;overflow-x:auto;line-height:normal;font-family:Menlo,'DejaVu Sans Mono',consolas,'Courier New',monospace\">sub-WT24_ses-5_run-<span style=\"color: #008080; text-decoration-color: #008080; font-weight: bold\">3</span>:           a total of <span style=\"color: #008080; text-decoration-color: #008080; font-weight: bold\">203</span> <span style=\"color: #800080; text-decoration-color: #800080\">/</span> <span style=\"color: #008080; text-decoration-color: #008080; font-weight: bold\">2365</span> <span style=\"font-weight: bold\">(</span><span style=\"color: #008080; text-decoration-color: #008080; font-weight: bold\">8.6</span> %<span style=\"font-weight: bold\">)</span> ROIs had zero STD\n",
       "</pre>\n"
      ],
      "text/plain": [
       "sub-WT24_ses-5_run-\u001b[1;36m3\u001b[0m:           a total of \u001b[1;36m203\u001b[0m \u001b[35m/\u001b[0m \u001b[1;36m2365\u001b[0m \u001b[1m(\u001b[0m\u001b[1;36m8.6\u001b[0m %\u001b[1m)\u001b[0m ROIs had zero STD\n"
      ]
     },
     "metadata": {},
     "output_type": "display_data"
    },
    {
     "data": {
      "text/html": [
       "<pre style=\"white-space:pre;overflow-x:auto;line-height:normal;font-family:Menlo,'DejaVu Sans Mono',consolas,'Courier New',monospace\">sub-WT25_ses-5_run-<span style=\"color: #008080; text-decoration-color: #008080; font-weight: bold\">1</span>:           a total of <span style=\"color: #008080; text-decoration-color: #008080; font-weight: bold\">228</span> <span style=\"color: #800080; text-decoration-color: #800080\">/</span> <span style=\"color: #008080; text-decoration-color: #008080; font-weight: bold\">2365</span> <span style=\"font-weight: bold\">(</span><span style=\"color: #008080; text-decoration-color: #008080; font-weight: bold\">9.6</span> %<span style=\"font-weight: bold\">)</span> ROIs had zero STD\n",
       "</pre>\n"
      ],
      "text/plain": [
       "sub-WT25_ses-5_run-\u001b[1;36m1\u001b[0m:           a total of \u001b[1;36m228\u001b[0m \u001b[35m/\u001b[0m \u001b[1;36m2365\u001b[0m \u001b[1m(\u001b[0m\u001b[1;36m9.6\u001b[0m %\u001b[1m)\u001b[0m ROIs had zero STD\n"
      ]
     },
     "metadata": {},
     "output_type": "display_data"
    },
    {
     "data": {
      "text/html": [
       "<pre style=\"white-space:pre;overflow-x:auto;line-height:normal;font-family:Menlo,'DejaVu Sans Mono',consolas,'Courier New',monospace\">sub-WT25_ses-5_run-<span style=\"color: #008080; text-decoration-color: #008080; font-weight: bold\">2</span>:           a total of <span style=\"color: #008080; text-decoration-color: #008080; font-weight: bold\">221</span> <span style=\"color: #800080; text-decoration-color: #800080\">/</span> <span style=\"color: #008080; text-decoration-color: #008080; font-weight: bold\">2365</span> <span style=\"font-weight: bold\">(</span><span style=\"color: #008080; text-decoration-color: #008080; font-weight: bold\">9.3</span> %<span style=\"font-weight: bold\">)</span> ROIs had zero STD\n",
       "</pre>\n"
      ],
      "text/plain": [
       "sub-WT25_ses-5_run-\u001b[1;36m2\u001b[0m:           a total of \u001b[1;36m221\u001b[0m \u001b[35m/\u001b[0m \u001b[1;36m2365\u001b[0m \u001b[1m(\u001b[0m\u001b[1;36m9.3\u001b[0m %\u001b[1m)\u001b[0m ROIs had zero STD\n"
      ]
     },
     "metadata": {},
     "output_type": "display_data"
    },
    {
     "data": {
      "text/html": [
       "<pre style=\"white-space:pre;overflow-x:auto;line-height:normal;font-family:Menlo,'DejaVu Sans Mono',consolas,'Courier New',monospace\">sub-WT25_ses-5_run-<span style=\"color: #008080; text-decoration-color: #008080; font-weight: bold\">3</span>:           a total of <span style=\"color: #008080; text-decoration-color: #008080; font-weight: bold\">257</span> <span style=\"color: #800080; text-decoration-color: #800080\">/</span> <span style=\"color: #008080; text-decoration-color: #008080; font-weight: bold\">2365</span> <span style=\"font-weight: bold\">(</span><span style=\"color: #008080; text-decoration-color: #008080; font-weight: bold\">10.9</span> %<span style=\"font-weight: bold\">)</span> ROIs had zero STD\n",
       "</pre>\n"
      ],
      "text/plain": [
       "sub-WT25_ses-5_run-\u001b[1;36m3\u001b[0m:           a total of \u001b[1;36m257\u001b[0m \u001b[35m/\u001b[0m \u001b[1;36m2365\u001b[0m \u001b[1m(\u001b[0m\u001b[1;36m10.9\u001b[0m %\u001b[1m)\u001b[0m ROIs had zero STD\n"
      ]
     },
     "metadata": {},
     "output_type": "display_data"
    },
    {
     "data": {
      "text/html": [
       "<pre style=\"white-space:pre;overflow-x:auto;line-height:normal;font-family:Menlo,'DejaVu Sans Mono',consolas,'Courier New',monospace\"><span style=\"font-weight: bold\">[</span>PROGRESS<span style=\"font-weight: bold\">]</span> <span style=\"color: #008000; text-decoration-color: #008000\">'AD_data.npy'</span> saved at\n",
       "<span style=\"color: #800080; text-decoration-color: #800080\">/home/hadi/Dropbox/git/jb-Ca-fMRI/</span><span style=\"color: #ff00ff; text-decoration-color: #ff00ff\">tmp</span>\n",
       "</pre>\n"
      ],
      "text/plain": [
       "\u001b[1m[\u001b[0mPROGRESS\u001b[1m]\u001b[0m \u001b[32m'AD_data.npy'\u001b[0m saved at\n",
       "\u001b[35m/home/hadi/Dropbox/git/jb-Ca-fMRI/\u001b[0m\u001b[95mtmp\u001b[0m\n"
      ]
     },
     "metadata": {},
     "output_type": "display_data"
    },
    {
     "name": "stdout",
     "output_type": "stream",
     "text": [
      "CPU times: user 20min 28s, sys: 2min 18s, total: 22min 46s\n",
      "Wall time: 22min 42s\n"
     ]
    },
    {
     "data": {
      "text/html": [
       "<pre style=\"white-space:pre;overflow-x:auto;line-height:normal;font-family:Menlo,'DejaVu Sans Mono',consolas,'Courier New',monospace\"><span style=\"color: #008080; text-decoration-color: #008080; font-weight: bold\">348</span>\n",
       "</pre>\n"
      ],
      "text/plain": [
       "\u001b[1;36m348\u001b[0m\n"
      ]
     },
     "metadata": {},
     "output_type": "display_data"
    }
   ],
   "source": [
    "%%time\n",
    "\n",
    "percent = {}\n",
    "data_all = {}\n",
    "for f in files:\n",
    "    key = '_'.join(f.split('_')[:3])\n",
    "    x = pjoin(mice.cfg.raw_dir, f)\n",
    "    x = ants.image_read(x).numpy()\n",
    "    data = np_nans((len(n2i), x.shape[-1]))\n",
    "    for n, i in n2i.items():\n",
    "        m = eroded == i\n",
    "        if m.sum() == 0:\n",
    "            print(mice.parcel(i))\n",
    "            continue\n",
    "        y = x[m].mean(0)\n",
    "        if y.std() == 0:\n",
    "            continue\n",
    "        data[n] = y\n",
    "    data_all[key] = data\n",
    "    bad = np.isnan(data).sum(-1) == data.shape[-1]\n",
    "    p = bad.sum() / len(data) * 100\n",
    "    percent[key] = p\n",
    "\n",
    "    msg = f\"{key}:\\t\\ta total of {bad.sum()} / {len(data)} \"\n",
    "    msg += f\"({p:0.1f} %) ROIs had zero STD\"\n",
    "    print(msg)\n",
    "\n",
    "_ = save_obj(\n",
    "    obj=data_all,\n",
    "    file_name='AD_data',\n",
    "    save_dir=tmp_dir,\n",
    "    mode='npy',\n",
    ")\n",
    "len(data_all)"
   ]
  },
  {
   "cell_type": "code",
   "execution_count": null,
   "id": "6029763d",
   "metadata": {},
   "outputs": [],
   "source": []
  },
  {
   "cell_type": "code",
   "execution_count": 27,
   "id": "2fddbd9d",
   "metadata": {},
   "outputs": [
    {
     "data": {
      "image/png": "[encoded data removed]"
     },
     "metadata": {},
     "output_type": "display_data"
    }
   ],
   "source": [
    "sns.histplot(\n",
    "    [v for k, v in percent.items() if 'WT' in k],\n",
    "    color='dimgrey', label='WT', bins=np.linspace(0, 20, 41)\n",
    ")\n",
    "sns.histplot(\n",
    "    [v for k, v in percent.items() if 'DKI' in k],\n",
    "    color='tomato', label='DKI', bins=np.linspace(0, 20, 41)\n",
    ")\n",
    "plt.legend()\n",
    "plt.show()"
   ]
  },
  {
   "cell_type": "code",
   "execution_count": null,
   "id": "31d3043e",
   "metadata": {},
   "outputs": [],
   "source": []
  },
  {
   "cell_type": "code",
   "execution_count": 28,
   "id": "8161d6cd",
   "metadata": {},
   "outputs": [
    {
     "data": {
      "image/png": "[encoded data removed]"
     },
     "metadata": {},
     "output_type": "display_data"
    }
   ],
   "source": [
    "sns.histplot(np.nanstd(data, 0));"
   ]
  },
  {
   "cell_type": "code",
   "execution_count": 29,
   "id": "ed82a857",
   "metadata": {},
   "outputs": [
    {
     "data": {
      "image/png": "[encoded data removed]"
     },
     "metadata": {},
     "output_type": "display_data"
    }
   ],
   "source": [
    "sns.histplot(np.nanmean(data, 0));"
   ]
  },
  {
   "cell_type": "code",
   "execution_count": 30,
   "id": "5eccc516",
   "metadata": {},
   "outputs": [
    {
     "data": {
      "image/png": "[encoded data removed]"
     },
     "metadata": {},
     "output_type": "display_data"
    }
   ],
   "source": [
    "fig, ax = create_figure(1, 1, (15, 3))\n",
    "ax.plot(bn.nanmean(data, 0))\n",
    "ax.plot(data[1000])\n",
    "ax.plot(data[2000], color='k');"
   ]
  },
  {
   "cell_type": "code",
   "execution_count": null,
   "id": "ceb92101",
   "metadata": {},
   "outputs": [],
   "source": []
  },
  {
   "cell_type": "markdown",
   "id": "9f075868",
   "metadata": {},
   "source": [
    "## Save graphs"
   ]
  },
  {
   "cell_type": "code",
   "execution_count": 31,
   "id": "1bd5a1df",
   "metadata": {},
   "outputs": [],
   "source": [
    "def _a2g(adj):\n",
    "    a = adj.copy()\n",
    "    a[np.isnan(a)] = 0\n",
    "    return nx.from_numpy_array(a)"
   ]
  },
  {
   "cell_type": "markdown",
   "id": "b78fd15f",
   "metadata": {},
   "source": [
    "## Each run separately"
   ]
  },
  {
   "cell_type": "code",
   "execution_count": 32,
   "id": "0205756c",
   "metadata": {},
   "outputs": [
    {
     "data": {
      "application/vnd.jupyter.widget-view+json": {
       "model_id": "9b4898c8ce004351a561094627cc4838",
       "version_major": 2,
       "version_minor": 0
      },
      "text/plain": [
       "  0%|          | 0/348 [00:00<?, ?it/s]"
      ]
     },
     "metadata": {},
     "output_type": "display_data"
    },
    {
     "data": {
      "text/html": [
       "<pre style=\"white-space:pre;overflow-x:auto;line-height:normal;font-family:Menlo,'DejaVu Sans Mono',consolas,'Courier New',monospace\"><span style=\"font-weight: bold\">[</span>PROGRESS<span style=\"font-weight: bold\">]</span> <span style=\"color: #008000; text-decoration-color: #008000\">'AD_adj.npy'</span> saved at\n",
       "<span style=\"color: #800080; text-decoration-color: #800080\">/home/hadi/Dropbox/git/jb-Ca-fMRI/</span><span style=\"color: #ff00ff; text-decoration-color: #ff00ff\">tmp</span>\n",
       "</pre>\n"
      ],
      "text/plain": [
       "\u001b[1m[\u001b[0mPROGRESS\u001b[1m]\u001b[0m \u001b[32m'AD_adj.npy'\u001b[0m saved at\n",
       "\u001b[35m/home/hadi/Dropbox/git/jb-Ca-fMRI/\u001b[0m\u001b[95mtmp\u001b[0m\n"
      ]
     },
     "metadata": {},
     "output_type": "display_data"
    },
    {
     "name": "stdout",
     "output_type": "stream",
     "text": [
      "CPU times: user 3h 26min 37s, sys: 49min 9s, total: 4h 15min 46s\n",
      "Wall time: 4h 21min 17s\n"
     ]
    }
   ],
   "source": [
    "%%time\n",
    "\n",
    "n_samples = 10\n",
    "percentiles = [5, 10, 15, 20, 25]\n",
    "\n",
    "adj_all = {}\n",
    "thres_all = collections.defaultdict(dict)\n",
    "for key, data in tqdm(data_all.items()):\n",
    "    a, _ = get_adj_mat(data, 'pearson', p_val=1)\n",
    "    adj_all[key] = a\n",
    "\n",
    "    path = '_'.join([\n",
    "        f\"n-{mice.cfg.nn}*{mice.cfg.ll}\",\n",
    "        'bp(0.008,0.28)_bold_rest_pearson',\n",
    "        key,\n",
    "    ])\n",
    "    path = pjoin(mice.cfg.svinet_dir, path, 'real')\n",
    "    thresholds = calculate_threshold(\n",
    "        a, [p / 100 for p in percentiles])\n",
    "    for perc, th in zip(percentiles, thresholds):\n",
    "        ab = dc(a)\n",
    "        ab[a <= th] = 0\n",
    "        thres_all[perc][key] = th\n",
    "        save_graph(_a2g(ab), perc, path, n_samples)\n",
    "\n",
    "_ = save_obj(\n",
    "    obj=adj_all,\n",
    "    file_name='AD_adj',\n",
    "    save_dir=tmp_dir,\n",
    "    mode='npy',\n",
    ")"
   ]
  },
  {
   "cell_type": "markdown",
   "id": "f1bd78d2",
   "metadata": {},
   "source": [
    "## Session level"
   ]
  },
  {
   "cell_type": "code",
   "execution_count": 33,
   "id": "cc4eb9f6",
   "metadata": {},
   "outputs": [
    {
     "data": {
      "text/html": [
       "<pre style=\"white-space:pre;overflow-x:auto;line-height:normal;font-family:Menlo,'DejaVu Sans Mono',consolas,'Courier New',monospace\"><span style=\"color: #008080; text-decoration-color: #008080; font-weight: bold\">118</span>\n",
       "</pre>\n"
      ],
      "text/plain": [
       "\u001b[1;36m118\u001b[0m\n"
      ]
     },
     "metadata": {},
     "output_type": "display_data"
    }
   ],
   "source": [
    "sessions = []\n",
    "for k in data_all:\n",
    "    sessions.append('_'.join(k.split('_')[:2]))\n",
    "sessions = sorted(set(sessions))\n",
    "len(sessions)"
   ]
  },
  {
   "cell_type": "code",
   "execution_count": 34,
   "id": "5fbc597e",
   "metadata": {},
   "outputs": [
    {
     "data": {
      "text/html": [
       "<pre style=\"white-space:pre;overflow-x:auto;line-height:normal;font-family:Menlo,'DejaVu Sans Mono',consolas,'Courier New',monospace\"><span style=\"font-weight: bold\">[</span>PROGRESS<span style=\"font-weight: bold\">]</span> <span style=\"color: #008000; text-decoration-color: #008000\">'AD_adj.npy'</span> saved at\n",
       "<span style=\"color: #800080; text-decoration-color: #800080\">/home/hadi/Dropbox/git/jb-Ca-fMRI/</span><span style=\"color: #ff00ff; text-decoration-color: #ff00ff\">tmp</span>\n",
       "</pre>\n"
      ],
      "text/plain": [
       "\u001b[1m[\u001b[0mPROGRESS\u001b[1m]\u001b[0m \u001b[32m'AD_adj.npy'\u001b[0m saved at\n",
       "\u001b[35m/home/hadi/Dropbox/git/jb-Ca-fMRI/\u001b[0m\u001b[95mtmp\u001b[0m\n"
      ]
     },
     "metadata": {},
     "output_type": "display_data"
    },
    {
     "name": "stdout",
     "output_type": "stream",
     "text": [
      "CPU times: user 1h 10min 50s, sys: 19min 7s, total: 1h 29min 57s\n",
      "Wall time: 1h 32min 36s\n"
     ]
    },
    {
     "data": {
      "text/html": [
       "<pre style=\"white-space:pre;overflow-x:auto;line-height:normal;font-family:Menlo,'DejaVu Sans Mono',consolas,'Courier New',monospace\"><span style=\"color: #008080; text-decoration-color: #008080; font-weight: bold\">466</span>\n",
       "</pre>\n"
      ],
      "text/plain": [
       "\u001b[1;36m466\u001b[0m\n"
      ]
     },
     "metadata": {},
     "output_type": "display_data"
    }
   ],
   "source": [
    "%%time\n",
    "\n",
    "for key in sessions:\n",
    "    data = np.concatenate(list(map(\n",
    "        operator.itemgetter(1),\n",
    "        filter(lambda t: key in t[0], data_all.items())\n",
    "    )), axis=-1)\n",
    "    a, _ = get_adj_mat(data, 'pearson', p_val=1)\n",
    "    adj_all[key] = a\n",
    "    \n",
    "    path = '_'.join([\n",
    "        f\"n-{mice.cfg.nn}*{mice.cfg.ll}\",\n",
    "        'bp(0.008,0.28)_bold_rest_pearson',\n",
    "        key,\n",
    "    ])\n",
    "    path = pjoin(mice.cfg.svinet_dir, path, 'real')\n",
    "    thresholds = calculate_threshold(\n",
    "        a, [p / 100 for p in percentiles])\n",
    "    for perc, th in zip(percentiles, thresholds):\n",
    "        ab = dc(a)\n",
    "        ab[a <= th] = 0\n",
    "        thres_all[perc][key] = th\n",
    "        save_graph(_a2g(ab), perc, path, n_samples)\n",
    "\n",
    "_ = save_obj(\n",
    "    obj=adj_all,\n",
    "    file_name='AD_adj',\n",
    "    save_dir=tmp_dir,\n",
    "    mode='npy',\n",
    ")\n",
    "len(adj_all)"
   ]
  },
  {
   "cell_type": "markdown",
   "id": "d847e2ec",
   "metadata": {},
   "source": [
    "## Animal level"
   ]
  },
  {
   "cell_type": "code",
   "execution_count": 35,
   "id": "6f411da3",
   "metadata": {},
   "outputs": [
    {
     "data": {
      "text/html": [
       "<pre style=\"white-space:pre;overflow-x:auto;line-height:normal;font-family:Menlo,'DejaVu Sans Mono',consolas,'Courier New',monospace\"><span style=\"color: #008080; text-decoration-color: #008080; font-weight: bold\">69</span>\n",
       "</pre>\n"
      ],
      "text/plain": [
       "\u001b[1;36m69\u001b[0m\n"
      ]
     },
     "metadata": {},
     "output_type": "display_data"
    }
   ],
   "source": [
    "animals = []\n",
    "for k in data_all:\n",
    "    animals.append(k.split('_')[0])\n",
    "animals = sorted(set(animals))\n",
    "len(animals)"
   ]
  },
  {
   "cell_type": "code",
   "execution_count": 36,
   "id": "f07285f6",
   "metadata": {},
   "outputs": [
    {
     "data": {
      "text/html": [
       "<pre style=\"white-space:pre;overflow-x:auto;line-height:normal;font-family:Menlo,'DejaVu Sans Mono',consolas,'Courier New',monospace\"><span style=\"font-weight: bold\">[</span>PROGRESS<span style=\"font-weight: bold\">]</span> <span style=\"color: #008000; text-decoration-color: #008000\">'AD_adj.npy'</span> saved at\n",
       "<span style=\"color: #800080; text-decoration-color: #800080\">/home/hadi/Dropbox/git/jb-Ca-fMRI/</span><span style=\"color: #ff00ff; text-decoration-color: #ff00ff\">tmp</span>\n",
       "</pre>\n"
      ],
      "text/plain": [
       "\u001b[1m[\u001b[0mPROGRESS\u001b[1m]\u001b[0m \u001b[32m'AD_adj.npy'\u001b[0m saved at\n",
       "\u001b[35m/home/hadi/Dropbox/git/jb-Ca-fMRI/\u001b[0m\u001b[95mtmp\u001b[0m\n"
      ]
     },
     "metadata": {},
     "output_type": "display_data"
    },
    {
     "name": "stdout",
     "output_type": "stream",
     "text": [
      "CPU times: user 42min 16s, sys: 12min 16s, total: 54min 32s\n",
      "Wall time: 56min 33s\n"
     ]
    },
    {
     "data": {
      "text/html": [
       "<pre style=\"white-space:pre;overflow-x:auto;line-height:normal;font-family:Menlo,'DejaVu Sans Mono',consolas,'Courier New',monospace\"><span style=\"color: #008080; text-decoration-color: #008080; font-weight: bold\">535</span>\n",
       "</pre>\n"
      ],
      "text/plain": [
       "\u001b[1;36m535\u001b[0m\n"
      ]
     },
     "metadata": {},
     "output_type": "display_data"
    }
   ],
   "source": [
    "%%time\n",
    "\n",
    "for key in animals:\n",
    "    data = np.concatenate(list(map(\n",
    "        operator.itemgetter(1),\n",
    "        filter(lambda t: key in t[0], data_all.items())\n",
    "    )), axis=-1)\n",
    "    a, _ = get_adj_mat(data, 'pearson', p_val=1)\n",
    "    adj_all[key] = a\n",
    "    \n",
    "    path = '_'.join([\n",
    "        f\"n-{mice.cfg.nn}*{mice.cfg.ll}\",\n",
    "        'bp(0.008,0.28)_bold_rest_pearson',\n",
    "        key,\n",
    "    ])\n",
    "    path = pjoin(mice.cfg.svinet_dir, path, 'real')\n",
    "    thresholds = calculate_threshold(\n",
    "        a, [p / 100 for p in percentiles])\n",
    "    for perc, th in zip(percentiles, thresholds):\n",
    "        ab = dc(a)\n",
    "        ab[a <= th] = 0\n",
    "        thres_all[perc][key] = th\n",
    "        save_graph(_a2g(ab), perc, path, n_samples)\n",
    "\n",
    "_ = save_obj(\n",
    "    obj=adj_all,\n",
    "    file_name='AD_adj',\n",
    "    save_dir=tmp_dir,\n",
    "    mode='npy',\n",
    ")\n",
    "len(adj_all)"
   ]
  },
  {
   "cell_type": "markdown",
   "id": "177807a0",
   "metadata": {},
   "source": [
    "## Group level"
   ]
  },
  {
   "cell_type": "code",
   "execution_count": 37,
   "id": "848a5c18",
   "metadata": {},
   "outputs": [
    {
     "data": {
      "text/html": [
       "<pre style=\"white-space:pre;overflow-x:auto;line-height:normal;font-family:Menlo,'DejaVu Sans Mono',consolas,'Courier New',monospace\"><span style=\"color: #008080; text-decoration-color: #008080; font-weight: bold\">2</span>\n",
       "</pre>\n"
      ],
      "text/plain": [
       "\u001b[1;36m2\u001b[0m\n"
      ]
     },
     "metadata": {},
     "output_type": "display_data"
    }
   ],
   "source": [
    "groups = []\n",
    "for k in data_all:\n",
    "    g = k.split('_')[0].split('-')[1]\n",
    "    g = re.findall(\"[a-zA-Z]+\", g).pop()\n",
    "    groups.append(f\"sub-{g}\")\n",
    "groups = sorted(set(groups))\n",
    "len(groups)"
   ]
  },
  {
   "cell_type": "code",
   "execution_count": 38,
   "id": "aa5a5065",
   "metadata": {},
   "outputs": [
    {
     "data": {
      "text/html": [
       "<pre style=\"white-space:pre;overflow-x:auto;line-height:normal;font-family:Menlo,'DejaVu Sans Mono',consolas,'Courier New',monospace\"><span style=\"font-weight: bold\">[</span><span style=\"color: #008000; text-decoration-color: #008000\">'sub-DKI'</span>, <span style=\"color: #008000; text-decoration-color: #008000\">'sub-WT'</span><span style=\"font-weight: bold\">]</span>\n",
       "</pre>\n"
      ],
      "text/plain": [
       "\u001b[1m[\u001b[0m\u001b[32m'sub-DKI'\u001b[0m, \u001b[32m'sub-WT'\u001b[0m\u001b[1m]\u001b[0m\n"
      ]
     },
     "metadata": {},
     "output_type": "display_data"
    }
   ],
   "source": [
    "groups"
   ]
  },
  {
   "cell_type": "code",
   "execution_count": 39,
   "id": "7f8ffc63",
   "metadata": {},
   "outputs": [
    {
     "data": {
      "text/html": [
       "<pre style=\"white-space:pre;overflow-x:auto;line-height:normal;font-family:Menlo,'DejaVu Sans Mono',consolas,'Courier New',monospace\">sub-DKI\n",
       "<span style=\"font-weight: bold\">(</span><span style=\"color: #008080; text-decoration-color: #008080; font-weight: bold\">2365</span>, <span style=\"color: #008080; text-decoration-color: #008080; font-weight: bold\">66239</span><span style=\"font-weight: bold\">)</span>\n",
       "</pre>\n"
      ],
      "text/plain": [
       "sub-DKI\n",
       "\u001b[1m(\u001b[0m\u001b[1;36m2365\u001b[0m, \u001b[1;36m66239\u001b[0m\u001b[1m)\u001b[0m\n"
      ]
     },
     "metadata": {},
     "output_type": "display_data"
    },
    {
     "data": {
      "text/html": [
       "<pre style=\"white-space:pre;overflow-x:auto;line-height:normal;font-family:Menlo,'DejaVu Sans Mono',consolas,'Courier New',monospace\">sub-WT\n",
       "<span style=\"font-weight: bold\">(</span><span style=\"color: #008080; text-decoration-color: #008080; font-weight: bold\">2365</span>, <span style=\"color: #008080; text-decoration-color: #008080; font-weight: bold\">37141</span><span style=\"font-weight: bold\">)</span>\n",
       "</pre>\n"
      ],
      "text/plain": [
       "sub-WT\n",
       "\u001b[1m(\u001b[0m\u001b[1;36m2365\u001b[0m, \u001b[1;36m37141\u001b[0m\u001b[1m)\u001b[0m\n"
      ]
     },
     "metadata": {},
     "output_type": "display_data"
    },
    {
     "data": {
      "text/html": [
       "<pre style=\"white-space:pre;overflow-x:auto;line-height:normal;font-family:Menlo,'DejaVu Sans Mono',consolas,'Courier New',monospace\"><span style=\"font-weight: bold\">[</span>PROGRESS<span style=\"font-weight: bold\">]</span> <span style=\"color: #008000; text-decoration-color: #008000\">'AD_adj.npy'</span> saved at\n",
       "<span style=\"color: #800080; text-decoration-color: #800080\">/home/hadi/Dropbox/git/jb-Ca-fMRI/</span><span style=\"color: #ff00ff; text-decoration-color: #ff00ff\">tmp</span>\n",
       "</pre>\n"
      ],
      "text/plain": [
       "\u001b[1m[\u001b[0mPROGRESS\u001b[1m]\u001b[0m \u001b[32m'AD_adj.npy'\u001b[0m saved at\n",
       "\u001b[35m/home/hadi/Dropbox/git/jb-Ca-fMRI/\u001b[0m\u001b[95mtmp\u001b[0m\n"
      ]
     },
     "metadata": {},
     "output_type": "display_data"
    },
    {
     "name": "stdout",
     "output_type": "stream",
     "text": [
      "CPU times: user 2min 53s, sys: 1min 16s, total: 4min 9s\n",
      "Wall time: 17min 12s\n"
     ]
    },
    {
     "data": {
      "text/html": [
       "<pre style=\"white-space:pre;overflow-x:auto;line-height:normal;font-family:Menlo,'DejaVu Sans Mono',consolas,'Courier New',monospace\"><span style=\"color: #008080; text-decoration-color: #008080; font-weight: bold\">537</span>\n",
       "</pre>\n"
      ],
      "text/plain": [
       "\u001b[1;36m537\u001b[0m\n"
      ]
     },
     "metadata": {},
     "output_type": "display_data"
    }
   ],
   "source": [
    "%%time\n",
    "\n",
    "for key in groups:\n",
    "    data = np.concatenate(list(map(\n",
    "        operator.itemgetter(1),\n",
    "        filter(lambda t: key in t[0], data_all.items())\n",
    "    )), axis=-1)\n",
    "    print(key, data.shape)\n",
    "    a, _ = get_adj_mat(data, 'pearson', p_val=1)\n",
    "    adj_all[key] = a\n",
    "    \n",
    "    path = '_'.join([\n",
    "        f\"n-{mice.cfg.nn}*{mice.cfg.ll}\",\n",
    "        'bp(0.008,0.28)_bold_rest_pearson',\n",
    "        key,\n",
    "    ])\n",
    "    path = pjoin(mice.cfg.svinet_dir, path, 'real')\n",
    "    thresholds = calculate_threshold(\n",
    "        a, [p / 100 for p in percentiles])\n",
    "    for perc, th in zip(percentiles, thresholds):\n",
    "        ab = dc(a)\n",
    "        ab[a <= th] = 0\n",
    "        thres_all[perc][key] = th\n",
    "        save_graph(_a2g(ab), perc, path, n_samples)\n",
    "\n",
    "_ = save_obj(\n",
    "    obj=adj_all,\n",
    "    file_name='AD_adj',\n",
    "    save_dir=tmp_dir,\n",
    "    mode='npy',\n",
    ")\n",
    "len(adj_all)"
   ]
  },
  {
   "cell_type": "code",
   "execution_count": null,
   "id": "0d8361c7",
   "metadata": {},
   "outputs": [],
   "source": []
  },
  {
   "cell_type": "markdown",
   "id": "bce5320c",
   "metadata": {},
   "source": [
    "## Finalkly,  group/session"
   ]
  },
  {
   "cell_type": "code",
   "execution_count": 40,
   "id": "c3fce1b2",
   "metadata": {},
   "outputs": [
    {
     "data": {
      "text/html": [
       "<pre style=\"white-space:pre;overflow-x:auto;line-height:normal;font-family:Menlo,'DejaVu Sans Mono',consolas,'Courier New',monospace\"><span style=\"color: #008080; text-decoration-color: #008080; font-weight: bold\">10</span>\n",
       "</pre>\n"
      ],
      "text/plain": [
       "\u001b[1;36m10\u001b[0m\n"
      ]
     },
     "metadata": {},
     "output_type": "display_data"
    }
   ],
   "source": [
    "group_ses = []\n",
    "for k in data_all:\n",
    "    sub, ses, run = k.split('_')\n",
    "    g = re.findall(r\"[A-Z]+\", sub.split('-')[1]).pop()\n",
    "    group_ses.append(f\"sub-{g}_{ses}\")\n",
    "group_ses = sorted(set(group_ses))\n",
    "len(group_ses)"
   ]
  },
  {
   "cell_type": "code",
   "execution_count": 41,
   "id": "a6878cf4",
   "metadata": {},
   "outputs": [
    {
     "data": {
      "text/html": [
       "<pre style=\"white-space:pre;overflow-x:auto;line-height:normal;font-family:Menlo,'DejaVu Sans Mono',consolas,'Courier New',monospace\">\n",
       "<span style=\"font-weight: bold\">[</span>\n",
       "    <span style=\"color: #008000; text-decoration-color: #008000\">'sub-DKI_ses-1'</span>,\n",
       "    <span style=\"color: #008000; text-decoration-color: #008000\">'sub-DKI_ses-2'</span>,\n",
       "    <span style=\"color: #008000; text-decoration-color: #008000\">'sub-DKI_ses-3'</span>,\n",
       "    <span style=\"color: #008000; text-decoration-color: #008000\">'sub-DKI_ses-5'</span>,\n",
       "    <span style=\"color: #008000; text-decoration-color: #008000\">'sub-DKI_ses-6'</span>,\n",
       "    <span style=\"color: #008000; text-decoration-color: #008000\">'sub-WT_ses-1'</span>,\n",
       "    <span style=\"color: #008000; text-decoration-color: #008000\">'sub-WT_ses-2'</span>,\n",
       "    <span style=\"color: #008000; text-decoration-color: #008000\">'sub-WT_ses-3'</span>,\n",
       "    <span style=\"color: #008000; text-decoration-color: #008000\">'sub-WT_ses-5'</span>,\n",
       "    <span style=\"color: #008000; text-decoration-color: #008000\">'sub-WT_ses-6'</span>\n",
       "<span style=\"font-weight: bold\">]</span>\n",
       "</pre>\n"
      ],
      "text/plain": [
       "\n",
       "\u001b[1m[\u001b[0m\n",
       "    \u001b[32m'sub-DKI_ses-1'\u001b[0m,\n",
       "    \u001b[32m'sub-DKI_ses-2'\u001b[0m,\n",
       "    \u001b[32m'sub-DKI_ses-3'\u001b[0m,\n",
       "    \u001b[32m'sub-DKI_ses-5'\u001b[0m,\n",
       "    \u001b[32m'sub-DKI_ses-6'\u001b[0m,\n",
       "    \u001b[32m'sub-WT_ses-1'\u001b[0m,\n",
       "    \u001b[32m'sub-WT_ses-2'\u001b[0m,\n",
       "    \u001b[32m'sub-WT_ses-3'\u001b[0m,\n",
       "    \u001b[32m'sub-WT_ses-5'\u001b[0m,\n",
       "    \u001b[32m'sub-WT_ses-6'\u001b[0m\n",
       "\u001b[1m]\u001b[0m\n"
      ]
     },
     "metadata": {},
     "output_type": "display_data"
    }
   ],
   "source": [
    "group_ses = {k: [] for k in group_ses}\n",
    "for k in data_all:\n",
    "    sub, ses, run = k.split('_')\n",
    "    g = re.findall(r\"[A-Z]+\", sub.split('-')[1]).pop()\n",
    "    group_ses[f\"sub-{g}_{ses}\"].append(k)\n",
    "list(group_ses)"
   ]
  },
  {
   "cell_type": "code",
   "execution_count": 42,
   "id": "06a9e2a6",
   "metadata": {},
   "outputs": [
    {
     "data": {
      "text/html": [
       "<pre style=\"white-space:pre;overflow-x:auto;line-height:normal;font-family:Menlo,'DejaVu Sans Mono',consolas,'Courier New',monospace\">sub-DKI_ses-<span style=\"color: #008080; text-decoration-color: #008080; font-weight: bold\">1</span>\n",
       "<span style=\"font-weight: bold\">(</span><span style=\"color: #008080; text-decoration-color: #008080; font-weight: bold\">2365</span>, <span style=\"color: #008080; text-decoration-color: #008080; font-weight: bold\">13520</span><span style=\"font-weight: bold\">)</span>\n",
       "</pre>\n"
      ],
      "text/plain": [
       "sub-DKI_ses-\u001b[1;36m1\u001b[0m\n",
       "\u001b[1m(\u001b[0m\u001b[1;36m2365\u001b[0m, \u001b[1;36m13520\u001b[0m\u001b[1m)\u001b[0m\n"
      ]
     },
     "metadata": {},
     "output_type": "display_data"
    },
    {
     "data": {
      "text/html": [
       "<pre style=\"white-space:pre;overflow-x:auto;line-height:normal;font-family:Menlo,'DejaVu Sans Mono',consolas,'Courier New',monospace\">sub-DKI_ses-<span style=\"color: #008080; text-decoration-color: #008080; font-weight: bold\">2</span>\n",
       "<span style=\"font-weight: bold\">(</span><span style=\"color: #008080; text-decoration-color: #008080; font-weight: bold\">2365</span>, <span style=\"color: #008080; text-decoration-color: #008080; font-weight: bold\">10775</span><span style=\"font-weight: bold\">)</span>\n",
       "</pre>\n"
      ],
      "text/plain": [
       "sub-DKI_ses-\u001b[1;36m2\u001b[0m\n",
       "\u001b[1m(\u001b[0m\u001b[1;36m2365\u001b[0m, \u001b[1;36m10775\u001b[0m\u001b[1m)\u001b[0m\n"
      ]
     },
     "metadata": {},
     "output_type": "display_data"
    },
    {
     "data": {
      "text/html": [
       "<pre style=\"white-space:pre;overflow-x:auto;line-height:normal;font-family:Menlo,'DejaVu Sans Mono',consolas,'Courier New',monospace\">sub-DKI_ses-<span style=\"color: #008080; text-decoration-color: #008080; font-weight: bold\">3</span>\n",
       "<span style=\"font-weight: bold\">(</span><span style=\"color: #008080; text-decoration-color: #008080; font-weight: bold\">2365</span>, <span style=\"color: #008080; text-decoration-color: #008080; font-weight: bold\">9554</span><span style=\"font-weight: bold\">)</span>\n",
       "</pre>\n"
      ],
      "text/plain": [
       "sub-DKI_ses-\u001b[1;36m3\u001b[0m\n",
       "\u001b[1m(\u001b[0m\u001b[1;36m2365\u001b[0m, \u001b[1;36m9554\u001b[0m\u001b[1m)\u001b[0m\n"
      ]
     },
     "metadata": {},
     "output_type": "display_data"
    },
    {
     "data": {
      "text/html": [
       "<pre style=\"white-space:pre;overflow-x:auto;line-height:normal;font-family:Menlo,'DejaVu Sans Mono',consolas,'Courier New',monospace\">sub-DKI_ses-<span style=\"color: #008080; text-decoration-color: #008080; font-weight: bold\">5</span>\n",
       "<span style=\"font-weight: bold\">(</span><span style=\"color: #008080; text-decoration-color: #008080; font-weight: bold\">2365</span>, <span style=\"color: #008080; text-decoration-color: #008080; font-weight: bold\">17084</span><span style=\"font-weight: bold\">)</span>\n",
       "</pre>\n"
      ],
      "text/plain": [
       "sub-DKI_ses-\u001b[1;36m5\u001b[0m\n",
       "\u001b[1m(\u001b[0m\u001b[1;36m2365\u001b[0m, \u001b[1;36m17084\u001b[0m\u001b[1m)\u001b[0m\n"
      ]
     },
     "metadata": {},
     "output_type": "display_data"
    },
    {
     "data": {
      "text/html": [
       "<pre style=\"white-space:pre;overflow-x:auto;line-height:normal;font-family:Menlo,'DejaVu Sans Mono',consolas,'Courier New',monospace\">sub-DKI_ses-<span style=\"color: #008080; text-decoration-color: #008080; font-weight: bold\">6</span>\n",
       "<span style=\"font-weight: bold\">(</span><span style=\"color: #008080; text-decoration-color: #008080; font-weight: bold\">2365</span>, <span style=\"color: #008080; text-decoration-color: #008080; font-weight: bold\">15306</span><span style=\"font-weight: bold\">)</span>\n",
       "</pre>\n"
      ],
      "text/plain": [
       "sub-DKI_ses-\u001b[1;36m6\u001b[0m\n",
       "\u001b[1m(\u001b[0m\u001b[1;36m2365\u001b[0m, \u001b[1;36m15306\u001b[0m\u001b[1m)\u001b[0m\n"
      ]
     },
     "metadata": {},
     "output_type": "display_data"
    },
    {
     "data": {
      "text/html": [
       "<pre style=\"white-space:pre;overflow-x:auto;line-height:normal;font-family:Menlo,'DejaVu Sans Mono',consolas,'Courier New',monospace\">sub-WT_ses-<span style=\"color: #008080; text-decoration-color: #008080; font-weight: bold\">1</span>\n",
       "<span style=\"font-weight: bold\">(</span><span style=\"color: #008080; text-decoration-color: #008080; font-weight: bold\">2365</span>, <span style=\"color: #008080; text-decoration-color: #008080; font-weight: bold\">8974</span><span style=\"font-weight: bold\">)</span>\n",
       "</pre>\n"
      ],
      "text/plain": [
       "sub-WT_ses-\u001b[1;36m1\u001b[0m\n",
       "\u001b[1m(\u001b[0m\u001b[1;36m2365\u001b[0m, \u001b[1;36m8974\u001b[0m\u001b[1m)\u001b[0m\n"
      ]
     },
     "metadata": {},
     "output_type": "display_data"
    },
    {
     "data": {
      "text/html": [
       "<pre style=\"white-space:pre;overflow-x:auto;line-height:normal;font-family:Menlo,'DejaVu Sans Mono',consolas,'Courier New',monospace\">sub-WT_ses-<span style=\"color: #008080; text-decoration-color: #008080; font-weight: bold\">2</span>\n",
       "<span style=\"font-weight: bold\">(</span><span style=\"color: #008080; text-decoration-color: #008080; font-weight: bold\">2365</span>, <span style=\"color: #008080; text-decoration-color: #008080; font-weight: bold\">9024</span><span style=\"font-weight: bold\">)</span>\n",
       "</pre>\n"
      ],
      "text/plain": [
       "sub-WT_ses-\u001b[1;36m2\u001b[0m\n",
       "\u001b[1m(\u001b[0m\u001b[1;36m2365\u001b[0m, \u001b[1;36m9024\u001b[0m\u001b[1m)\u001b[0m\n"
      ]
     },
     "metadata": {},
     "output_type": "display_data"
    },
    {
     "data": {
      "text/html": [
       "<pre style=\"white-space:pre;overflow-x:auto;line-height:normal;font-family:Menlo,'DejaVu Sans Mono',consolas,'Courier New',monospace\">sub-WT_ses-<span style=\"color: #008080; text-decoration-color: #008080; font-weight: bold\">3</span>\n",
       "<span style=\"font-weight: bold\">(</span><span style=\"color: #008080; text-decoration-color: #008080; font-weight: bold\">2365</span>, <span style=\"color: #008080; text-decoration-color: #008080; font-weight: bold\">7747</span><span style=\"font-weight: bold\">)</span>\n",
       "</pre>\n"
      ],
      "text/plain": [
       "sub-WT_ses-\u001b[1;36m3\u001b[0m\n",
       "\u001b[1m(\u001b[0m\u001b[1;36m2365\u001b[0m, \u001b[1;36m7747\u001b[0m\u001b[1m)\u001b[0m\n"
      ]
     },
     "metadata": {},
     "output_type": "display_data"
    },
    {
     "data": {
      "text/html": [
       "<pre style=\"white-space:pre;overflow-x:auto;line-height:normal;font-family:Menlo,'DejaVu Sans Mono',consolas,'Courier New',monospace\">sub-WT_ses-<span style=\"color: #008080; text-decoration-color: #008080; font-weight: bold\">5</span>\n",
       "<span style=\"font-weight: bold\">(</span><span style=\"color: #008080; text-decoration-color: #008080; font-weight: bold\">2365</span>, <span style=\"color: #008080; text-decoration-color: #008080; font-weight: bold\">6993</span><span style=\"font-weight: bold\">)</span>\n",
       "</pre>\n"
      ],
      "text/plain": [
       "sub-WT_ses-\u001b[1;36m5\u001b[0m\n",
       "\u001b[1m(\u001b[0m\u001b[1;36m2365\u001b[0m, \u001b[1;36m6993\u001b[0m\u001b[1m)\u001b[0m\n"
      ]
     },
     "metadata": {},
     "output_type": "display_data"
    },
    {
     "data": {
      "text/html": [
       "<pre style=\"white-space:pre;overflow-x:auto;line-height:normal;font-family:Menlo,'DejaVu Sans Mono',consolas,'Courier New',monospace\">sub-WT_ses-<span style=\"color: #008080; text-decoration-color: #008080; font-weight: bold\">6</span>\n",
       "<span style=\"font-weight: bold\">(</span><span style=\"color: #008080; text-decoration-color: #008080; font-weight: bold\">2365</span>, <span style=\"color: #008080; text-decoration-color: #008080; font-weight: bold\">4403</span><span style=\"font-weight: bold\">)</span>\n",
       "</pre>\n"
      ],
      "text/plain": [
       "sub-WT_ses-\u001b[1;36m6\u001b[0m\n",
       "\u001b[1m(\u001b[0m\u001b[1;36m2365\u001b[0m, \u001b[1;36m4403\u001b[0m\u001b[1m)\u001b[0m\n"
      ]
     },
     "metadata": {},
     "output_type": "display_data"
    },
    {
     "data": {
      "text/html": [
       "<pre style=\"white-space:pre;overflow-x:auto;line-height:normal;font-family:Menlo,'DejaVu Sans Mono',consolas,'Courier New',monospace\"><span style=\"font-weight: bold\">[</span>PROGRESS<span style=\"font-weight: bold\">]</span> <span style=\"color: #008000; text-decoration-color: #008000\">'AD_adj.npy'</span> saved at\n",
       "<span style=\"color: #800080; text-decoration-color: #800080\">/home/hadi/Dropbox/git/jb-Ca-fMRI/</span><span style=\"color: #ff00ff; text-decoration-color: #ff00ff\">tmp</span>\n",
       "</pre>\n"
      ],
      "text/plain": [
       "\u001b[1m[\u001b[0mPROGRESS\u001b[1m]\u001b[0m \u001b[32m'AD_adj.npy'\u001b[0m saved at\n",
       "\u001b[35m/home/hadi/Dropbox/git/jb-Ca-fMRI/\u001b[0m\u001b[95mtmp\u001b[0m\n"
      ]
     },
     "metadata": {},
     "output_type": "display_data"
    },
    {
     "name": "stdout",
     "output_type": "stream",
     "text": [
      "CPU times: user 7min 13s, sys: 2min 23s, total: 9min 36s\n",
      "Wall time: 11min 6s\n"
     ]
    },
    {
     "data": {
      "text/html": [
       "<pre style=\"white-space:pre;overflow-x:auto;line-height:normal;font-family:Menlo,'DejaVu Sans Mono',consolas,'Courier New',monospace\"><span style=\"color: #008080; text-decoration-color: #008080; font-weight: bold\">547</span>\n",
       "</pre>\n"
      ],
      "text/plain": [
       "\u001b[1;36m547\u001b[0m\n"
      ]
     },
     "metadata": {},
     "output_type": "display_data"
    }
   ],
   "source": [
    "%%time\n",
    "\n",
    "for key, run_list in group_ses.items():\n",
    "    data = np.concatenate(list(map(\n",
    "        operator.itemgetter(1),\n",
    "        filter(\n",
    "            lambda t: t[0] in run_list,\n",
    "            data_all.items()\n",
    "        )\n",
    "    )), axis=-1)\n",
    "    print(key, data.shape)\n",
    "    a, _ = get_adj_mat(data, 'pearson', p_val=1)\n",
    "    adj_all[key] = a\n",
    "\n",
    "    path = '_'.join([\n",
    "        f\"n-{mice.cfg.nn}*{mice.cfg.ll}\",\n",
    "        'bp(0.008,0.28)_bold_rest_pearson',\n",
    "        key,\n",
    "    ])\n",
    "    path = pjoin(mice.cfg.svinet_dir, path, 'real')\n",
    "    thresholds = calculate_threshold(\n",
    "        a, [p / 100 for p in percentiles])\n",
    "    for perc, th in zip(percentiles, thresholds):\n",
    "        ab = dc(a)\n",
    "        ab[a <= th] = 0\n",
    "        thres_all[perc][key] = th\n",
    "        save_graph(_a2g(ab), perc, path, n_samples)\n",
    "\n",
    "_ = save_obj(\n",
    "    obj=adj_all,\n",
    "    file_name='AD_adj',\n",
    "    save_dir=tmp_dir,\n",
    "    mode='npy',\n",
    ")\n",
    "len(adj_all)"
   ]
  },
  {
   "cell_type": "code",
   "execution_count": null,
   "id": "12665d0e",
   "metadata": {},
   "outputs": [],
   "source": []
  },
  {
   "cell_type": "markdown",
   "id": "f316c1df",
   "metadata": {},
   "source": [
    "## Plot threshold values"
   ]
  },
  {
   "cell_type": "code",
   "execution_count": 43,
   "id": "c67edc4c",
   "metadata": {},
   "outputs": [
    {
     "data": {
      "text/html": [
       "<pre style=\"white-space:pre;overflow-x:auto;line-height:normal;font-family:Menlo,'DejaVu Sans Mono',consolas,'Courier New',monospace\"><span style=\"font-weight: bold\">[</span><span style=\"color: #008080; text-decoration-color: #008080; font-weight: bold\">5</span>, <span style=\"color: #008080; text-decoration-color: #008080; font-weight: bold\">10</span>, <span style=\"color: #008080; text-decoration-color: #008080; font-weight: bold\">15</span>, <span style=\"color: #008080; text-decoration-color: #008080; font-weight: bold\">20</span>, <span style=\"color: #008080; text-decoration-color: #008080; font-weight: bold\">25</span><span style=\"font-weight: bold\">]</span>\n",
       "</pre>\n"
      ],
      "text/plain": [
       "\u001b[1m[\u001b[0m\u001b[1;36m5\u001b[0m, \u001b[1;36m10\u001b[0m, \u001b[1;36m15\u001b[0m, \u001b[1;36m20\u001b[0m, \u001b[1;36m25\u001b[0m\u001b[1m]\u001b[0m\n"
      ]
     },
     "metadata": {},
     "output_type": "display_data"
    }
   ],
   "source": [
    "list(thres_all)"
   ]
  },
  {
   "cell_type": "code",
   "execution_count": 44,
   "id": "2ae63a0f",
   "metadata": {},
   "outputs": [
    {
     "data": {
      "text/html": [
       "<svg  width=\"825\" height=\"55\"><rect x=\"0\" y=\"0\" width=\"55\" height=\"55\" style=\"fill:#131313;stroke-width:2;stroke:rgb(255,255,255)\"/><rect x=\"55\" y=\"0\" width=\"55\" height=\"55\" style=\"fill:#252525;stroke-width:2;stroke:rgb(255,255,255)\"/><rect x=\"110\" y=\"0\" width=\"55\" height=\"55\" style=\"fill:#3c3c3c;stroke-width:2;stroke:rgb(255,255,255)\"/><rect x=\"165\" y=\"0\" width=\"55\" height=\"55\" style=\"fill:#525252;stroke-width:2;stroke:rgb(255,255,255)\"/><rect x=\"220\" y=\"0\" width=\"55\" height=\"55\" style=\"fill:#636363;stroke-width:2;stroke:rgb(255,255,255)\"/><rect x=\"275\" y=\"0\" width=\"55\" height=\"55\" style=\"fill:#737373;stroke-width:2;stroke:rgb(255,255,255)\"/><rect x=\"330\" y=\"0\" width=\"55\" height=\"55\" style=\"fill:#858585;stroke-width:2;stroke:rgb(255,255,255)\"/><rect x=\"385\" y=\"0\" width=\"55\" height=\"55\" style=\"fill:#979797;stroke-width:2;stroke:rgb(255,255,255)\"/><rect x=\"440\" y=\"0\" width=\"55\" height=\"55\" style=\"fill:#aaaaaa;stroke-width:2;stroke:rgb(255,255,255)\"/><rect x=\"495\" y=\"0\" width=\"55\" height=\"55\" style=\"fill:#bebebe;stroke-width:2;stroke:rgb(255,255,255)\"/><rect x=\"550\" y=\"0\" width=\"55\" height=\"55\" style=\"fill:#cccccc;stroke-width:2;stroke:rgb(255,255,255)\"/><rect x=\"605\" y=\"0\" width=\"55\" height=\"55\" style=\"fill:#dadada;stroke-width:2;stroke:rgb(255,255,255)\"/><rect x=\"660\" y=\"0\" width=\"55\" height=\"55\" style=\"fill:#e5e5e5;stroke-width:2;stroke:rgb(255,255,255)\"/><rect x=\"715\" y=\"0\" width=\"55\" height=\"55\" style=\"fill:#f0f0f0;stroke-width:2;stroke:rgb(255,255,255)\"/><rect x=\"770\" y=\"0\" width=\"55\" height=\"55\" style=\"fill:#f8f8f8;stroke-width:2;stroke:rgb(255,255,255)\"/></svg>"
      ]
     },
     "execution_count": 44,
     "metadata": {},
     "output_type": "execute_result"
    }
   ],
   "source": [
    "greys = sns.color_palette('Greys_r', n_colors=15)\n",
    "greys"
   ]
  },
  {
   "cell_type": "code",
   "execution_count": 45,
   "id": "4287d32f",
   "metadata": {},
   "outputs": [
    {
     "data": {
      "text/html": [
       "<svg  width=\"1100\" height=\"55\"><rect x=\"0\" y=\"0\" width=\"55\" height=\"55\" style=\"fill:#8e2d04;stroke-width:2;stroke:rgb(255,255,255)\"/><rect x=\"55\" y=\"0\" width=\"55\" height=\"55\" style=\"fill:#9c3203;stroke-width:2;stroke:rgb(255,255,255)\"/><rect x=\"110\" y=\"0\" width=\"55\" height=\"55\" style=\"fill:#ad3803;stroke-width:2;stroke:rgb(255,255,255)\"/><rect x=\"165\" y=\"0\" width=\"55\" height=\"55\" style=\"fill:#c03f02;stroke-width:2;stroke:rgb(255,255,255)\"/><rect x=\"220\" y=\"0\" width=\"55\" height=\"55\" style=\"fill:#d34601;stroke-width:2;stroke:rgb(255,255,255)\"/><rect x=\"275\" y=\"0\" width=\"55\" height=\"55\" style=\"fill:#e05206;stroke-width:2;stroke:rgb(255,255,255)\"/><rect x=\"330\" y=\"0\" width=\"55\" height=\"55\" style=\"fill:#e95e0d;stroke-width:2;stroke:rgb(255,255,255)\"/><rect x=\"385\" y=\"0\" width=\"55\" height=\"55\" style=\"fill:#f26b15;stroke-width:2;stroke:rgb(255,255,255)\"/><rect x=\"440\" y=\"0\" width=\"55\" height=\"55\" style=\"fill:#f67824;stroke-width:2;stroke:rgb(255,255,255)\"/><rect x=\"495\" y=\"0\" width=\"55\" height=\"55\" style=\"fill:#fb8634;stroke-width:2;stroke:rgb(255,255,255)\"/><rect x=\"550\" y=\"0\" width=\"55\" height=\"55\" style=\"fill:#fd9446;stroke-width:2;stroke:rgb(255,255,255)\"/><rect x=\"605\" y=\"0\" width=\"55\" height=\"55\" style=\"fill:#fda057;stroke-width:2;stroke:rgb(255,255,255)\"/><rect x=\"660\" y=\"0\" width=\"55\" height=\"55\" style=\"fill:#fdad69;stroke-width:2;stroke:rgb(255,255,255)\"/><rect x=\"715\" y=\"0\" width=\"55\" height=\"55\" style=\"fill:#fdb97d;stroke-width:2;stroke:rgb(255,255,255)\"/><rect x=\"770\" y=\"0\" width=\"55\" height=\"55\" style=\"fill:#fdc692;stroke-width:2;stroke:rgb(255,255,255)\"/><rect x=\"825\" y=\"0\" width=\"55\" height=\"55\" style=\"fill:#fdd3a7;stroke-width:2;stroke:rgb(255,255,255)\"/><rect x=\"880\" y=\"0\" width=\"55\" height=\"55\" style=\"fill:#fddbb8;stroke-width:2;stroke:rgb(255,255,255)\"/><rect x=\"935\" y=\"0\" width=\"55\" height=\"55\" style=\"fill:#fee3c8;stroke-width:2;stroke:rgb(255,255,255)\"/><rect x=\"990\" y=\"0\" width=\"55\" height=\"55\" style=\"fill:#feead5;stroke-width:2;stroke:rgb(255,255,255)\"/><rect x=\"1045\" y=\"0\" width=\"55\" height=\"55\" style=\"fill:#ffefe0;stroke-width:2;stroke:rgb(255,255,255)\"/></svg>"
      ]
     },
     "execution_count": 45,
     "metadata": {},
     "output_type": "execute_result"
    }
   ],
   "source": [
    "oranges = sns.color_palette('Oranges_r', n_colors=20)\n",
    "oranges"
   ]
  },
  {
   "cell_type": "code",
   "execution_count": null,
   "id": "b37cf11c",
   "metadata": {},
   "outputs": [],
   "source": []
  },
  {
   "cell_type": "code",
   "execution_count": 46,
   "id": "69dd51f5",
   "metadata": {},
   "outputs": [
    {
     "data": {
      "text/html": [
       "<pre style=\"white-space:pre;overflow-x:auto;line-height:normal;font-family:Menlo,'DejaVu Sans Mono',consolas,'Courier New',monospace\">run level       # WT: <span style=\"color: #008080; text-decoration-color: #008080; font-weight: bold\">125</span>,      # DKI: <span style=\"color: #008080; text-decoration-color: #008080; font-weight: bold\">223</span>\n",
       "</pre>\n"
      ],
      "text/plain": [
       "run level       # WT: \u001b[1;36m125\u001b[0m,      # DKI: \u001b[1;36m223\u001b[0m\n"
      ]
     },
     "metadata": {},
     "output_type": "display_data"
    },
    {
     "data": {
      "text/html": [
       "<pre style=\"white-space:pre;overflow-x:auto;line-height:normal;font-family:Menlo,'DejaVu Sans Mono',consolas,'Courier New',monospace\">ses level       # WT: <span style=\"color: #008080; text-decoration-color: #008080; font-weight: bold\">42</span>,       # DKI: <span style=\"color: #008080; text-decoration-color: #008080; font-weight: bold\">76</span>\n",
       "</pre>\n"
      ],
      "text/plain": [
       "ses level       # WT: \u001b[1;36m42\u001b[0m,       # DKI: \u001b[1;36m76\u001b[0m\n"
      ]
     },
     "metadata": {},
     "output_type": "display_data"
    },
    {
     "data": {
      "text/html": [
       "<pre style=\"white-space:pre;overflow-x:auto;line-height:normal;font-family:Menlo,'DejaVu Sans Mono',consolas,'Courier New',monospace\">g_ses level     # WT: <span style=\"color: #008080; text-decoration-color: #008080; font-weight: bold\">5</span>,        # DKI: <span style=\"color: #008080; text-decoration-color: #008080; font-weight: bold\">5</span>\n",
       "</pre>\n"
      ],
      "text/plain": [
       "g_ses level     # WT: \u001b[1;36m5\u001b[0m,        # DKI: \u001b[1;36m5\u001b[0m\n"
      ]
     },
     "metadata": {},
     "output_type": "display_data"
    }
   ],
   "source": [
    "runlevel_wt = [v for k, v in thres_all[10].items() if k in data_all and 'WT' in k]\n",
    "seslevel_wt = [v for k, v in thres_all[10].items() if k in sessions and 'WT' in k]\n",
    "gseslevel_wt = [v for k, v in thres_all[10].items() if k in group_ses and 'WT' in k]\n",
    "runlevel_dki = [v for k, v in thres_all[10].items() if k in data_all and 'DKI' in k]\n",
    "seslevel_dki = [v for k, v in thres_all[10].items() if k in sessions and 'DKI' in k]\n",
    "gseslevel_dki = [v for k, v in thres_all[10].items() if k in group_ses and 'DKI' in k]\n",
    "\n",
    "data2p_wt = {\n",
    "    'run': runlevel_wt,\n",
    "    'ses': seslevel_wt,\n",
    "    'g_ses': gseslevel_wt,\n",
    "}\n",
    "data2p_dki = {\n",
    "    'run': runlevel_dki,\n",
    "    'ses': seslevel_dki,\n",
    "    'g_ses': gseslevel_dki,\n",
    "}\n",
    "for k, v in data2p_wt.items():\n",
    "    print(f\"{k} level\\t# WT: {len(v)},\\t# DKI: {len(data2p_dki[k])}\")"
   ]
  },
  {
   "cell_type": "code",
   "execution_count": null,
   "id": "50571f13",
   "metadata": {},
   "outputs": [],
   "source": []
  },
  {
   "cell_type": "code",
   "execution_count": 47,
   "id": "180cff1c",
   "metadata": {},
   "outputs": [],
   "source": [
    "def _show_thres():\n",
    "    kws = {\n",
    "        'stat': 'percent',\n",
    "        'bins': np.linspace(0, 0.16, 33),\n",
    "    }\n",
    "    greys = sns.color_palette('Greys_r', n_colors=15)\n",
    "    oranges = sns.color_palette('Oranges_r', n_colors=20)\n",
    "    \n",
    "    fig, axes = create_figure(1, len(thres_all), (13, 2.9), 'all', 'all', constrained_layout=True)\n",
    "    for i, (perc, thres_dict) in enumerate(thres_all.items()):\n",
    "        runlevel_wt = [v for k, v in thres_dict.items() if k in data_all and 'WT' in k]\n",
    "        seslevel_wt = [v for k, v in thres_dict.items() if k in sessions and 'WT' in k]\n",
    "        gseslevel_wt = [v for k, v in thres_dict.items() if k in group_ses and 'WT' in k]\n",
    "        runlevel_dki = [v for k, v in thres_dict.items() if k in data_all and 'DKI' in k]\n",
    "        seslevel_dki = [v for k, v in thres_dict.items() if k in sessions and 'DKI' in k]\n",
    "        gseslevel_dki = [v for k, v in thres_dict.items() if k in group_ses and 'DKI' in k]\n",
    "\n",
    "        data2p_wt = {\n",
    "            'run': runlevel_wt,\n",
    "            'ses': seslevel_wt,\n",
    "            'g_ses': gseslevel_wt,\n",
    "        }\n",
    "        data2p_dki = {\n",
    "            'run': runlevel_dki,\n",
    "            'ses': seslevel_dki,\n",
    "            'g_ses': gseslevel_dki,\n",
    "        }\n",
    "\n",
    "        ax = axes[i]\n",
    "        for j, (k, v) in enumerate(data2p_wt.items()):\n",
    "            sns.histplot(v, label=f'WT ({k})', color=greys[4*j + 1], ax=ax, **kws)\n",
    "            sns.histplot(data2p_dki[k], label=f'DKI ({k})', color=oranges[4*j + 5], ax=ax, **kws)\n",
    "        ax.set_title(f\"d = {perc / 100:0.2f} %\")\n",
    "        if i == len(thres_all) - 1:\n",
    "            ax.legend()\n",
    "    plt.show()"
   ]
  },
  {
   "cell_type": "code",
   "execution_count": 48,
   "id": "2896784f",
   "metadata": {},
   "outputs": [
    {
     "data": {
      "image/png": "[encoded data removed]"
     },
     "metadata": {},
     "output_type": "display_data"
    }
   ],
   "source": [
    "_show_thres()"
   ]
  },
  {
   "cell_type": "markdown",
   "id": "ba4194bd",
   "metadata": {},
   "source": [
    "---\n",
    "---\n",
    "## Edit Jan 3rd, 2023\n",
    "\n",
    "Running below code in ```KABA``` to save graphs in svinet worspace.  Then, will run ```./loop_svinet.sh```."
   ]
  },
  {
   "cell_type": "code",
   "execution_count": 2,
   "id": "8ec863e5",
   "metadata": {},
   "outputs": [
    {
     "data": {
      "text/html": [
       "<pre style=\"white-space:pre;overflow-x:auto;line-height:normal;font-family:Menlo,'DejaVu Sans Mono',consolas,'Courier New',monospace\">ROI lookup not found, time to run <span style=\"color: #800080; text-decoration-color: #800080; font-weight: bold\">organize_func</span><span style=\"font-weight: bold\">()</span> . . .\n",
       "</pre>\n"
      ],
      "text/plain": [
       "ROI lookup not found, time to run \u001b[1;35morganize_func\u001b[0m\u001b[1m(\u001b[0m\u001b[1m)\u001b[0m . . .\n"
      ]
     },
     "metadata": {},
     "output_type": "display_data"
    },
    {
     "data": {
      "text/html": [
       "<pre style=\"white-space:pre;overflow-x:auto;line-height:normal;font-family:Menlo,'DejaVu Sans Mono',consolas,'Courier New',monospace\">combine metadata not found, time to run <span style=\"color: #800080; text-decoration-color: #800080; font-weight: bold\">cat_data</span><span style=\"font-weight: bold\">()</span> . . .\n",
       "</pre>\n"
      ],
      "text/plain": [
       "combine metadata not found, time to run \u001b[1;35mcat_data\u001b[0m\u001b[1m(\u001b[0m\u001b[1m)\u001b[0m . . .\n"
      ]
     },
     "metadata": {},
     "output_type": "display_data"
    }
   ],
   "source": [
    "mice = Mice(Config(128, resolution=25))\n",
    "mice.set_band(band_bo=(0.008,0.28))"
   ]
  },
  {
   "cell_type": "code",
   "execution_count": 3,
   "id": "842dc2ac",
   "metadata": {},
   "outputs": [
    {
     "data": {
      "text/html": [
       "<pre style=\"white-space:pre;overflow-x:auto;line-height:normal;font-family:Menlo,'DejaVu Sans Mono',consolas,'Courier New',monospace\"><span style=\"color: #008080; text-decoration-color: #008080; font-weight: bold\">547</span>\n",
       "</pre>\n"
      ],
      "text/plain": [
       "\u001b[1;36m547\u001b[0m\n"
      ]
     },
     "metadata": {},
     "output_type": "display_data"
    }
   ],
   "source": [
    "adj = np.load(pjoin(tmp_dir, 'AD_adj.npy'), allow_pickle=True).item()\n",
    "len(adj)"
   ]
  },
  {
   "cell_type": "markdown",
   "id": "f3ade074",
   "metadata": {},
   "source": [
    "### Save graphs from loaded adj"
   ]
  },
  {
   "cell_type": "code",
   "execution_count": 4,
   "id": "8e2c0195",
   "metadata": {},
   "outputs": [],
   "source": [
    "def _a2g(adj):\n",
    "    a = adj.copy()\n",
    "    a[np.isnan(a)] = 0\n",
    "    return nx.from_numpy_array(a)\n",
    "\n",
    "\n",
    "def _save_graphs(a, key, percentiles):\n",
    "    path = '_'.join([\n",
    "        f\"n-{mice.cfg.nn}*{mice.cfg.ll}\",\n",
    "        'bp(0.008,0.28)_bold_rest_pearson',\n",
    "        key,\n",
    "    ])\n",
    "    path = pjoin(mice.cfg.svinet_dir, path, 'real')\n",
    "    thresholds = calculate_threshold(\n",
    "        a, [p / 100 for p in percentiles])\n",
    "    for perc, th in zip(percentiles, thresholds):\n",
    "        ab = dc(a)\n",
    "        ab[a <= th] = 0\n",
    "        save_graph(_a2g(ab), perc, path, n_samples)"
   ]
  },
  {
   "cell_type": "code",
   "execution_count": 5,
   "id": "df93bcb8",
   "metadata": {},
   "outputs": [
    {
     "name": "stdout",
     "output_type": "stream",
     "text": [
      "CPU times: user 17.7 s, sys: 45.5 s, total: 1min 3s\n",
      "Wall time: 30min 32s\n"
     ]
    }
   ],
   "source": [
    "%%time\n",
    "\n",
    "n_samples = 10\n",
    "percentiles = [5, 10, 15, 20, 25]\n",
    "\n",
    "with joblib.parallel_backend('multiprocessing'):\n",
    "    joblib.Parallel(n_jobs=-1)(\n",
    "        joblib.delayed(_save_graphs)\n",
    "        (a, key, percentiles) for\n",
    "        key, a in adj.items()\n",
    "    )"
   ]
  },
  {
   "cell_type": "markdown",
   "id": "a64e078d",
   "metadata": {},
   "source": [
    "## Now running this (on ```KABA```):\n",
    "\n",
    "```bash\n",
    "time ./loop_svinet.sh 128 3 10 p10-sample 500 bold rest \"0.008,0.28\" pearson \"sub[-_0-9a-zA-Z]*\"\n",
    "```"
   ]
  },
  {
   "cell_type": "code",
   "execution_count": null,
   "id": "37624252",
   "metadata": {},
   "outputs": [],
   "source": []
  },
  {
   "cell_type": "code",
   "execution_count": null,
   "id": "b2cb06e9",
   "metadata": {},
   "outputs": [],
   "source": []
  },
  {
   "cell_type": "code",
   "execution_count": null,
   "id": "97a248fc",
   "metadata": {},
   "outputs": [],
   "source": []
  }
 ],
 "metadata": {
  "kernelspec": {
   "display_name": "Python 3 (ipykernel)",
   "language": "python",
   "name": "python3"
  },
  "language_info": {
   "codemirror_mode": {
    "name": "ipython",
    "version": 3
   },
   "file_extension": ".py",
   "mimetype": "text/x-python",
   "name": "python",
   "nbconvert_exporter": "python",
   "pygments_lexer": "ipython3",
   "version": "3.8.5"
  }
 },
 "nbformat": 4,
 "nbformat_minor": 5
}
