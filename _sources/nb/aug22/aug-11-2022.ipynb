{
 "cells": [
  {
   "cell_type": "markdown",
   "id": "6b59b292",
   "metadata": {},
   "source": [
    "# Aug 11th, 2022 (render + ROI presence)\n",
    "\n",
    "**Motivation**:  <br>"
   ]
  },
  {
   "cell_type": "code",
   "execution_count": 1,
   "id": "9226a550",
   "metadata": {
    "tags": [
     "hide-input"
    ]
   },
   "outputs": [],
   "source": [
    "# HIDE CODE\n",
    "\n",
    "\n",
    "import os\n",
    "import sys\n",
    "from pprint import pprint\n",
    "from copy import deepcopy as dc\n",
    "from os.path import join as pjoin\n",
    "from scipy.ndimage import gaussian_filter\n",
    "from IPython.display import display, IFrame, HTML\n",
    "\n",
    "# tmp & extras dir\n",
    "git_dir = pjoin(os.environ['HOME'], 'Dropbox/git')\n",
    "extras_dir = pjoin(git_dir, 'jb-Ca-fMRI/_extras')\n",
    "fig_base_dir = pjoin(git_dir, 'jb-Ca-fMRI/figs')\n",
    "tmp_dir = pjoin(git_dir, 'jb-Ca-fMRI/tmp')\n",
    "\n",
    "# GitHub\n",
    "sys.path.insert(0, pjoin(git_dir, '_Ca-fMRI'))\n",
    "from figures.fighelper import *\n",
    "from analysis.final import *\n",
    "from utils.render import *\n",
    "\n",
    "# warnings, tqdm, & style\n",
    "warnings.filterwarnings('ignore', category=DeprecationWarning)\n",
    "from tqdm.notebook import tqdm\n",
    "%matplotlib inline\n",
    "set_style()"
   ]
  },
  {
   "cell_type": "markdown",
   "id": "56a33601",
   "metadata": {},
   "source": [
    "## Fig dir"
   ]
  },
  {
   "cell_type": "code",
   "execution_count": 2,
   "id": "78fc7335",
   "metadata": {},
   "outputs": [
    {
     "data": {
      "text/html": [
       "<pre style=\"white-space:pre;overflow-x:auto;line-height:normal;font-family:Menlo,'DejaVu Sans Mono',consolas,'Courier New',monospace\"><span style=\"color: #800080; text-decoration-color: #800080\">/home/hadi/Dropbox/git/jb-Ca-fMRI/figs/paper2.0/</span><span style=\"color: #ff00ff; text-decoration-color: #ff00ff\">Render</span>\n",
       "</pre>\n"
      ],
      "text/plain": [
       "\u001b[35m/home/hadi/Dropbox/git/jb-Ca-fMRI/figs/paper2.0/\u001b[0m\u001b[95mRender\u001b[0m\n"
      ]
     },
     "metadata": {},
     "output_type": "display_data"
    }
   ],
   "source": [
    "fig_dir = pjoin(fig_base_dir, 'paper2.0', 'Render')\n",
    "os.makedirs(fig_dir, exist_ok=True)\n",
    "print(fig_dir)\n",
    "\n",
    "merge_thres = {\n",
    "    128: 0.376,\n",
    "    512: 0.444,\n",
    "}\n",
    "kws_fig = {\n",
    "    'transparent': True,\n",
    "    'bbox_inches': 'tight',\n",
    "    'dpi': 300,\n",
    "}"
   ]
  },
  {
   "cell_type": "markdown",
   "id": "71700ceb",
   "metadata": {},
   "source": [
    "## Prepare (512)"
   ]
  },
  {
   "cell_type": "code",
   "execution_count": 3,
   "id": "80e6ab6e",
   "metadata": {},
   "outputs": [
    {
     "data": {
      "text/html": [
       "<pre style=\"white-space:pre;overflow-x:auto;line-height:normal;font-family:Menlo,'DejaVu Sans Mono',consolas,'Courier New',monospace\">ROI lookup not found, time to run <span style=\"color: #800080; text-decoration-color: #800080; font-weight: bold\">organize_func</span><span style=\"font-weight: bold\">()</span> . . .\n",
       "</pre>\n"
      ],
      "text/plain": [
       "ROI lookup not found, time to run \u001b[1;35morganize_func\u001b[0m\u001b[1m(\u001b[0m\u001b[1m)\u001b[0m . . .\n"
      ]
     },
     "metadata": {},
     "output_type": "display_data"
    },
    {
     "data": {
      "text/html": [
       "<pre style=\"white-space:pre;overflow-x:auto;line-height:normal;font-family:Menlo,'DejaVu Sans Mono',consolas,'Courier New',monospace\">combine metadata not found, time to run <span style=\"color: #800080; text-decoration-color: #800080; font-weight: bold\">cat_data</span><span style=\"font-weight: bold\">()</span> . . .\n",
       "</pre>\n"
      ],
      "text/plain": [
       "combine metadata not found, time to run \u001b[1;35mcat_data\u001b[0m\u001b[1m(\u001b[0m\u001b[1m)\u001b[0m . . .\n"
      ]
     },
     "metadata": {},
     "output_type": "display_data"
    }
   ],
   "source": [
    "nn = 512\n",
    "mice = Mice(nn)\n",
    "# *_, props_ca = default_props(mice)\n",
    "# bt = BootStrap(**props_ca)"
   ]
  },
  {
   "cell_type": "markdown",
   "id": "990f0a85",
   "metadata": {},
   "source": [
    "## ROI presence freq"
   ]
  },
  {
   "cell_type": "code",
   "execution_count": 4,
   "id": "e79ba775",
   "metadata": {},
   "outputs": [],
   "source": [
    "from register.register import Register\n",
    "\n",
    "reg = Register(mice)\n",
    "reg.set_mode('ca2')"
   ]
  },
  {
   "cell_type": "code",
   "execution_count": 5,
   "id": "da6cc742",
   "metadata": {},
   "outputs": [
    {
     "data": {
      "text/html": [
       "<pre style=\"white-space:pre;overflow-x:auto;line-height:normal;font-family:Menlo,'DejaVu Sans Mono',consolas,'Courier New',monospace\">Name: cortex . . . a total of: <span style=\"color: #008080; text-decoration-color: #008080; font-weight: bold\">542</span> regions accepted, <span style=\"color: #008080; text-decoration-color: #008080; font-weight: bold\">172</span> regions rejected.\n",
       "accept ratio: <span style=\"color: #008080; text-decoration-color: #008080; font-weight: bold\">75.91</span> %, reject ratio: <span style=\"color: #008080; text-decoration-color: #008080; font-weight: bold\">24.09</span> %, using a presence threshold of <span style=\"color: #008080; text-decoration-color: #008080; font-weight: bold\">20.0</span> %\n",
       "\n",
       "\n",
       "</pre>\n"
      ],
      "text/plain": [
       "Name: cortex . . . a total of: \u001b[1;36m542\u001b[0m regions accepted, \u001b[1;36m172\u001b[0m regions rejected.\n",
       "accept ratio: \u001b[1;36m75.91\u001b[0m %, reject ratio: \u001b[1;36m24.09\u001b[0m %, using a presence threshold of \u001b[1;36m20.0\u001b[0m %\n",
       "\n",
       "\n"
      ]
     },
     "metadata": {},
     "output_type": "display_data"
    }
   ],
   "source": [
    "output = reg.get_accepted_regions()\n",
    "freq = output['cortex']['freq']"
   ]
  },
  {
   "cell_type": "code",
   "execution_count": null,
   "id": "294be62a",
   "metadata": {},
   "outputs": [],
   "source": []
  },
  {
   "cell_type": "code",
   "execution_count": 6,
   "id": "9a8c4eaa",
   "metadata": {},
   "outputs": [],
   "source": [
    "top, flat = bt.load_top_flat()\n",
    "parcel_top, parcel_flat = mice.parcel.load_top_flat()"
   ]
  },
  {
   "cell_type": "code",
   "execution_count": 7,
   "id": "b29ecbef",
   "metadata": {},
   "outputs": [],
   "source": [
    "freq_ctx = np.zeros(top.shape, dtype=float)\n",
    "for r, f in freq.items():\n",
    "    m = parcel_top == r\n",
    "    if not m.sum():\n",
    "        continue\n",
    "    freq_ctx[m] = f\n",
    "    \n",
    "freq_ctx *= 100"
   ]
  },
  {
   "cell_type": "code",
   "execution_count": 8,
   "id": "eed4d632",
   "metadata": {},
   "outputs": [],
   "source": [
    "f_tr, t_tr = filter_boundaries([freq_ctx, top], top.astype(bool))"
   ]
  },
  {
   "cell_type": "code",
   "execution_count": null,
   "id": "c07fd22d",
   "metadata": {},
   "outputs": [],
   "source": []
  },
  {
   "cell_type": "code",
   "execution_count": 11,
   "id": "9c47a4ac",
   "metadata": {},
   "outputs": [
    {
     "data": {
      "image/png": "[encoded data removed]"
     },
     "metadata": {},
     "output_type": "display_data"
    }
   ],
   "source": [
    "fig, ax = create_figure(figsize=(3, 2))\n",
    "cmap = 'nipy_spectral'\n",
    "\n",
    "x2p = np.ma.masked_where(t_tr == 0, t_tr)\n",
    "plt.imshow(x2p)\n",
    "\n",
    "x2p = np.ma.masked_where(t_tr == 0, f_tr)\n",
    "plt.imshow(x2p, cmap=cmap)\n",
    "plt.colorbar()\n",
    "\n",
    "remove_ticks(ax)\n",
    "\n",
    "name = f'coverage-top'\n",
    "figname = f\"{name}.pdf\"\n",
    "fig.savefig(pjoin(fig_dir, figname), bbox_inches='tight')\n",
    "for dpi in [100, 300, 600]:\n",
    "    figname = f\"{name}_dpi{dpi}.png\"\n",
    "    fig.savefig(pjoin(fig_dir, figname), dpi=dpi, bbox_inches='tight', transparent=True)\n",
    "\n",
    "plt.show()"
   ]
  },
  {
   "cell_type": "code",
   "execution_count": null,
   "id": "a864cde4",
   "metadata": {},
   "outputs": [],
   "source": []
  },
  {
   "cell_type": "code",
   "execution_count": null,
   "id": "86595d12",
   "metadata": {},
   "outputs": [],
   "source": []
  },
  {
   "cell_type": "code",
   "execution_count": null,
   "id": "9b9a6bdc",
   "metadata": {},
   "outputs": [],
   "source": []
  },
  {
   "cell_type": "markdown",
   "id": "ca183e7b",
   "metadata": {},
   "source": [
    "## Render"
   ]
  },
  {
   "cell_type": "code",
   "execution_count": 19,
   "id": "bc00825d",
   "metadata": {},
   "outputs": [
    {
     "data": {
      "image/png": "[encoded data removed]"
     },
     "metadata": {},
     "output_type": "display_data"
    }
   ],
   "source": [
    "sys.path.insert(0, pjoin(git_dir, 'vedo'))\n",
    "sys.path.insert(0, pjoin(git_dir, 'brainrender'))\n",
    "\n",
    "from bg_space import AnatomicalSpace\n",
    "\n",
    "from brainrender import Scene\n",
    "from brainrender import settings as br_settings\n",
    "from brainrender.actors.streamlines import make_streamlines\n",
    "from brainrender.atlas_specific import get_streamlines_for_region\n",
    "\n",
    "from vedo import Volume as vd_Volume\n",
    "from register.atlas import load_bg_atlas\n",
    "\n",
    "cmap = sns.color_palette('Spectral_r', as_cmap=True)\n",
    "display_cmap(cmap)"
   ]
  },
  {
   "cell_type": "code",
   "execution_count": null,
   "id": "fc19462f",
   "metadata": {},
   "outputs": [],
   "source": []
  },
  {
   "cell_type": "code",
   "execution_count": 21,
   "id": "b10c5628",
   "metadata": {},
   "outputs": [
    {
     "data": {
      "text/html": [
       "<pre style=\"white-space:pre;overflow-x:auto;line-height:normal;font-family:Menlo,'DejaVu Sans Mono',consolas,'Courier New',monospace\"><span style=\"color: #008000; text-decoration-color: #008000\">'/home/hadi/Dropbox/git/brainrender/brainrender/settings.py'</span>\n",
       "</pre>\n"
      ],
      "text/plain": [
       "\u001b[32m'/home/hadi/Dropbox/git/brainrender/brainrender/settings.py'\u001b[0m\n"
      ]
     },
     "metadata": {},
     "output_type": "display_data"
    }
   ],
   "source": [
    "inspect.getsourcefile(br_settings)"
   ]
  },
  {
   "cell_type": "code",
   "execution_count": null,
   "id": "4402cfab",
   "metadata": {},
   "outputs": [],
   "source": []
  },
  {
   "cell_type": "code",
   "execution_count": 22,
   "id": "be033a2b",
   "metadata": {},
   "outputs": [
    {
     "data": {
      "text/html": [
       "<pre style=\"white-space:pre;overflow-x:auto;line-height:normal;font-family:Menlo,'DejaVu Sans Mono',consolas,'Courier New',monospace\"><span style=\"font-weight: bold\">(</span><span style=\"color: #008080; text-decoration-color: #008080; font-weight: bold\">3066</span>, <span style=\"color: #008080; text-decoration-color: #008080; font-weight: bold\">1024</span><span style=\"font-weight: bold\">)</span>\n",
       "</pre>\n"
      ],
      "text/plain": [
       "\u001b[1m(\u001b[0m\u001b[1;36m3066\u001b[0m, \u001b[1;36m1024\u001b[0m\u001b[1m)\u001b[0m\n"
      ]
     },
     "metadata": {},
     "output_type": "display_data"
    }
   ],
   "source": [
    "cortex = mice.parcel['cortex']\n",
    "regions = cortex[cortex.nonzero()]\n",
    "regions = np.unique(regions)\n",
    "hcl = mice.parcel.decode(regions)\n",
    "regions_depth1 = regions[hcl[:, 2] == 0]\n",
    "\n",
    "len(regions), len(regions_depth1)"
   ]
  },
  {
   "cell_type": "code",
   "execution_count": null,
   "id": "a07244cc",
   "metadata": {},
   "outputs": [],
   "source": [
    "\"\"\"base = Base(mice, mode='ca2', prep_data=False)\n",
    "\n",
    "regions_included = [\n",
    "    int(lbl.split('-')[1])\n",
    "    for lbl in base.l2n\n",
    "]\n",
    "regions_included = [\n",
    "    mice.parcel.encode(f\"1-{c}-0\") for\n",
    "    c in sorted(set(regions_included))\n",
    "]\n",
    "regions_included = mice.parcel.complement(regions_included)\n",
    "np.save(pjoin(fig_dir, 'regions_included.npy'), regions_included)\"\"\""
   ]
  },
  {
   "cell_type": "code",
   "execution_count": 23,
   "id": "c97bb5a8",
   "metadata": {},
   "outputs": [
    {
     "data": {
      "text/html": [
       "<pre style=\"white-space:pre;overflow-x:auto;line-height:normal;font-family:Menlo,'DejaVu Sans Mono',consolas,'Courier New',monospace\"><span style=\"color: #008080; text-decoration-color: #008080; font-weight: bold\">542</span>\n",
       "</pre>\n"
      ],
      "text/plain": [
       "\u001b[1;36m542\u001b[0m\n"
      ]
     },
     "metadata": {},
     "output_type": "display_data"
    }
   ],
   "source": [
    "regions_included = np.load(pjoin(fig_dir, 'regions_included.npy'))\n",
    "len(regions_included)"
   ]
  },
  {
   "cell_type": "markdown",
   "id": "29de4726",
   "metadata": {},
   "source": [
    "### Full depth-1 ROIs"
   ]
  },
  {
   "cell_type": "code",
   "execution_count": 24,
   "id": "0da32cdb",
   "metadata": {},
   "outputs": [],
   "source": [
    "root_alpha = 0.15\n",
    "root_color = '#6e5050'\n",
    "\n",
    "_root_alpha = br_settings.ROOT_ALPHA\n",
    "br_settings.ROOT_ALPHA = root_alpha\n",
    "br_settings.ROOT_COLOR = root_color\n",
    "br_settings.RENDER = False\n",
    "\n",
    "scene = Scene(atlas_name=\"allen_mouse_100um\", root=True, inset=True)\n",
    "scene.atlas = load_bg_atlas(scene.atlas)\n",
    "src_space = AnatomicalSpace(\n",
    "    origin='lsa',\n",
    "    shape=scene.atlas.space.shape,\n",
    "    resolution=scene.atlas.space.resolution,\n",
    "    offset=scene.atlas.space.offset,\n",
    ")"
   ]
  },
  {
   "cell_type": "code",
   "execution_count": 25,
   "id": "af4809da",
   "metadata": {},
   "outputs": [
    {
     "data": {
      "application/vnd.jupyter.widget-view+json": {
       "model_id": "8141c8dd35ac43258b850109c00f697a",
       "version_major": 2,
       "version_minor": 0
      },
      "text/plain": [
       "  0%|          | 0/1024 [00:00<?, ?it/s]"
      ]
     },
     "metadata": {},
     "output_type": "display_data"
    },
    {
     "data": {
      "text/html": [
       "<pre style=\"white-space:pre;overflow-x:auto;line-height:normal;font-family:Menlo,'DejaVu Sans Mono',consolas,'Courier New',monospace\">Scene saved at <span style=\"color: #800080; text-decoration-color: #800080\">/home/hadi/Dropbox/git/jb-Ca-fMRI/figs/paper2.0/Render/</span><span style=\"color: #ff00ff; text-decoration-color: #ff00ff\">ROIs-depth-1-full.html</span>\n",
       "</pre>\n"
      ],
      "text/plain": [
       "Scene saved at \u001b[35m/home/hadi/Dropbox/git/jb-Ca-fMRI/figs/paper2.0/Render/\u001b[0m\u001b[95mROIs-depth-1-full.html\u001b[0m\n"
      ]
     },
     "metadata": {},
     "output_type": "display_data"
    }
   ],
   "source": [
    "alpha = 1.0\n",
    "\n",
    "surfaces, names, colors = [], [], []\n",
    "for i, region_id in tqdm(enumerate(regions_depth1), total=len(regions_depth1)):\n",
    "    x = cortex == region_id\n",
    "    x = src_space.map_stack_to(scene.atlas.space, x)\n",
    "    c = cmap(i / len(regions_depth1))[:3]\n",
    "    colors.append(c)\n",
    "\n",
    "    vol = vd_Volume(x.astype('uint32'), spacing=scene.atlas.resolution).medianSmooth()\n",
    "    surf = vol.isosurface().alpha(alpha).lw(0).c(rgb2hex(c))\n",
    "    surf.smoothWSinc().computeNormals().lighting('metallic').phong().decimate().clean()\n",
    "    surfaces.append(surf)\n",
    "    names.append(f\"region_{region_id}\")\n",
    "    \n",
    "scene.add_silhouette(*scene.actors, lw=0.7, color='k')\n",
    "scene.add(*surfaces, names=names, colors=colors)\n",
    "\n",
    "save_name = 'ROIs-depth-1-full'\n",
    "html_file = pjoin(fig_dir, f\"{save_name}.html\")\n",
    "\n",
    "br_settings.RENDER = True\n",
    "path = scene.export(html_file)\n",
    "br_settings.RENDER = False\n",
    "br_settings.ROOT_ALPHA = _root_alpha\n",
    "scene.plotter.close()"
   ]
  },
  {
   "cell_type": "markdown",
   "id": "0c032a7e",
   "metadata": {},
   "source": [
    "### Full depth-1 ROIs + removed mask"
   ]
  },
  {
   "cell_type": "code",
   "execution_count": 26,
   "id": "0aef8d04",
   "metadata": {},
   "outputs": [],
   "source": [
    "mask_depth1 = np.isin(cortex, regions_depth1)\n",
    "mask_included = np.isin(cortex, regions_included)\n",
    "mask_removed = np.logical_and(mask_depth1, ~mask_included)"
   ]
  },
  {
   "cell_type": "code",
   "execution_count": 27,
   "id": "641fe745",
   "metadata": {},
   "outputs": [],
   "source": [
    "root_alpha = 0.15\n",
    "root_color = '#6e5050'\n",
    "\n",
    "_root_alpha = br_settings.ROOT_ALPHA\n",
    "br_settings.ROOT_ALPHA = root_alpha\n",
    "br_settings.ROOT_COLOR = root_color\n",
    "br_settings.RENDER = False\n",
    "\n",
    "scene = Scene(atlas_name=\"allen_mouse_100um\", root=True, inset=True)\n",
    "scene.atlas = load_bg_atlas(scene.atlas)\n",
    "src_space = AnatomicalSpace(\n",
    "    origin='lsa',\n",
    "    shape=scene.atlas.space.shape,\n",
    "    resolution=scene.atlas.space.resolution,\n",
    "    offset=scene.atlas.space.offset,\n",
    ")"
   ]
  },
  {
   "cell_type": "code",
   "execution_count": 28,
   "id": "0af1557f",
   "metadata": {
    "scrolled": true
   },
   "outputs": [
    {
     "data": {
      "application/vnd.jupyter.widget-view+json": {
       "model_id": "c4119723b6e94ea19e1fc9685ec25c65",
       "version_major": 2,
       "version_minor": 0
      },
      "text/plain": [
       "  0%|          | 0/1024 [00:00<?, ?it/s]"
      ]
     },
     "metadata": {},
     "output_type": "display_data"
    },
    {
     "data": {
      "text/html": [
       "<pre style=\"white-space:pre;overflow-x:auto;line-height:normal;font-family:Menlo,'DejaVu Sans Mono',consolas,'Courier New',monospace\">Scene saved at \n",
       "<span style=\"color: #800080; text-decoration-color: #800080\">/home/hadi/Dropbox/git/jb-Ca-fMRI/figs/paper2.0/Render/</span><span style=\"color: #ff00ff; text-decoration-color: #ff00ff\">ROIs-depth-1-full_with_removed.html</span>\n",
       "</pre>\n"
      ],
      "text/plain": [
       "Scene saved at \n",
       "\u001b[35m/home/hadi/Dropbox/git/jb-Ca-fMRI/figs/paper2.0/Render/\u001b[0m\u001b[95mROIs-depth-1-full_with_removed.html\u001b[0m\n"
      ]
     },
     "metadata": {},
     "output_type": "display_data"
    }
   ],
   "source": [
    "save_name = 'ROIs-depth-1-full_with_removed'\n",
    "\n",
    "alpha = 1.0\n",
    "\n",
    "surfaces, names, colors = [], [], []\n",
    "for i, region_id in tqdm(enumerate(regions_depth1), total=len(regions_depth1)):\n",
    "    if region_id not in regions_included:\n",
    "        continue\n",
    "    x = cortex == region_id\n",
    "    x = src_space.map_stack_to(scene.atlas.space, x)\n",
    "    c = cmap(i / len(regions_depth1))[:3]\n",
    "    colors.append(c)\n",
    "\n",
    "    vol = vd_Volume(x.astype('uint32'), spacing=scene.atlas.resolution).medianSmooth()\n",
    "    surf = vol.isosurface().alpha(alpha).lw(0).c(rgb2hex(c))\n",
    "    surf.smoothWSinc().computeNormals().lighting('metallic').phong().decimate().clean()\n",
    "    surfaces.append(surf)\n",
    "    names.append(f\"region_{region_id}\")\n",
    "\n",
    "x = src_space.map_stack_to(scene.atlas.space, mask_removed)\n",
    "c = 'k'\n",
    "colors.append(c)\n",
    "\n",
    "vol = vd_Volume(x.astype('uint32'), spacing=scene.atlas.resolution).medianSmooth()\n",
    "surf = vol.isosurface().alpha(alpha).lw(0).c(rgb2hex(c))\n",
    "surf.smoothWSinc().computeNormals().lighting('metallic').phong().decimate().clean()\n",
    "surfaces.append(surf)\n",
    "names.append(f\"removed\")\n",
    "    \n",
    "scene.add_silhouette(*scene.actors, lw=0.7, color='k')\n",
    "scene.add(*surfaces, names=names, colors=colors)\n",
    "\n",
    "html_file = pjoin(fig_dir, f\"{save_name}.html\")\n",
    "\n",
    "br_settings.RENDER = True\n",
    "path = scene.export(html_file)\n",
    "br_settings.RENDER = False\n",
    "br_settings.ROOT_ALPHA = _root_alpha\n",
    "scene.plotter.close()"
   ]
  },
  {
   "cell_type": "code",
   "execution_count": null,
   "id": "48f94f4e",
   "metadata": {},
   "outputs": [],
   "source": []
  },
  {
   "cell_type": "code",
   "execution_count": null,
   "id": "1fc0c60e",
   "metadata": {},
   "outputs": [],
   "source": []
  },
  {
   "cell_type": "code",
   "execution_count": null,
   "id": "8ef846d1",
   "metadata": {},
   "outputs": [],
   "source": []
  }
 ],
 "metadata": {
  "kernelspec": {
   "display_name": "Python 3",
   "language": "python",
   "name": "python3"
  },
  "language_info": {
   "codemirror_mode": {
    "name": "ipython",
    "version": 3
   },
   "file_extension": ".py",
   "mimetype": "text/x-python",
   "name": "python",
   "nbconvert_exporter": "python",
   "pygments_lexer": "ipython3",
   "version": "3.8.3"
  }
 },
 "nbformat": 4,
 "nbformat_minor": 5
}
