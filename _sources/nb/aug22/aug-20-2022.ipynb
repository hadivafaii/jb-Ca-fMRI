{
 "cells": [
  {
   "cell_type": "markdown",
   "id": "6b59b292",
   "metadata": {},
   "source": [
    "# Aug 20th, 2022 (Degree: re-calculate save group)\n",
    "\n",
    "**Motivation**:  <br>"
   ]
  },
  {
   "cell_type": "code",
   "execution_count": 1,
   "id": "9226a550",
   "metadata": {
    "tags": [
     "hide-input"
    ]
   },
   "outputs": [],
   "source": [
    "# HIDE CODE\n",
    "\n",
    "\n",
    "import os\n",
    "import sys\n",
    "from pprint import pprint\n",
    "from copy import deepcopy as dc\n",
    "from os.path import join as pjoin\n",
    "from scipy.ndimage import gaussian_filter\n",
    "from IPython.display import display, IFrame, HTML\n",
    "\n",
    "# tmp & extras dir\n",
    "git_dir = pjoin(os.environ['HOME'], 'Dropbox/git')\n",
    "extras_dir = pjoin(git_dir, 'jb-Ca-fMRI/_extras')\n",
    "fig_base_dir = pjoin(git_dir, 'jb-Ca-fMRI/figs')\n",
    "tmp_dir = pjoin(git_dir, 'jb-Ca-fMRI/tmp')\n",
    "\n",
    "# GitHub\n",
    "sys.path.insert(0, pjoin(git_dir, '_Ca-fMRI'))\n",
    "from figures.fighelper import *\n",
    "from analysis.final import *\n",
    "from utils.render import *\n",
    "\n",
    "# warnings, tqdm, & style\n",
    "warnings.filterwarnings('ignore', category=DeprecationWarning)\n",
    "from tqdm.notebook import tqdm\n",
    "%matplotlib inline\n",
    "set_style()"
   ]
  },
  {
   "cell_type": "code",
   "execution_count": 2,
   "id": "23b36639",
   "metadata": {},
   "outputs": [
    {
     "data": {
      "text/html": [
       "<pre style=\"white-space:pre;overflow-x:auto;line-height:normal;font-family:Menlo,'DejaVu Sans Mono',consolas,'Courier New',monospace\"><span style=\"color: #800080; text-decoration-color: #800080\">/home/hadi/Dropbox/git/jb-Ca-fMRI/tmp/</span><span style=\"color: #ff00ff; text-decoration-color: #ff00ff\">Adjacencies</span>\n",
       "</pre>\n"
      ],
      "text/plain": [
       "\u001b[35m/home/hadi/Dropbox/git/jb-Ca-fMRI/tmp/\u001b[0m\u001b[95mAdjacencies\u001b[0m\n"
      ]
     },
     "metadata": {},
     "output_type": "display_data"
    }
   ],
   "source": [
    "load_dir = pjoin(tmp_dir, 'Adjacencies')\n",
    "print(load_dir)"
   ]
  },
  {
   "cell_type": "markdown",
   "id": "e7d9e932",
   "metadata": {},
   "source": [
    "## 512"
   ]
  },
  {
   "cell_type": "code",
   "execution_count": 3,
   "id": "80e6ab6e",
   "metadata": {},
   "outputs": [
    {
     "data": {
      "text/html": [
       "<pre style=\"white-space:pre;overflow-x:auto;line-height:normal;font-family:Menlo,'DejaVu Sans Mono',consolas,'Courier New',monospace\"><span style=\"color: #008080; text-decoration-color: #008080; font-weight: bold\">542</span>\n",
       "</pre>\n"
      ],
      "text/plain": [
       "\u001b[1;36m542\u001b[0m\n"
      ]
     },
     "metadata": {},
     "output_type": "display_data"
    }
   ],
   "source": [
    "nn = 512\n",
    "num_k = 7\n",
    "perc = 15\n",
    "mice = Mice(nn)\n",
    "\n",
    "bt_dict, props_bo, props_ca = default_props(mice, num_k, perc)\n",
    "bt = BootStrap(**props_ca)\n",
    "pal = prepare_palette()\n",
    "\n",
    "n_nodes = len(mice.node_lookup['ca2'])\n",
    "n_nodes"
   ]
  },
  {
   "cell_type": "markdown",
   "id": "7e87d5ce",
   "metadata": {},
   "source": [
    "### FIX BOLD"
   ]
  },
  {
   "cell_type": "code",
   "execution_count": 4,
   "id": "14270730",
   "metadata": {},
   "outputs": [
    {
     "data": {
      "text/html": [
       "<pre style=\"white-space:pre;overflow-x:auto;line-height:normal;font-family:Menlo,'DejaVu Sans Mono',consolas,'Courier New',monospace\"><span style=\"font-weight: bold\">(</span><span style=\"color: #008080; text-decoration-color: #008080; font-weight: bold\">114</span>, <span style=\"color: #008080; text-decoration-color: #008080; font-weight: bold\">542</span>, <span style=\"color: #008080; text-decoration-color: #008080; font-weight: bold\">542</span><span style=\"font-weight: bold\">)</span>\n",
       "</pre>\n"
      ],
      "text/plain": [
       "\u001b[1m(\u001b[0m\u001b[1;36m114\u001b[0m, \u001b[1;36m542\u001b[0m, \u001b[1;36m542\u001b[0m\u001b[1m)\u001b[0m\n"
      ]
     },
     "metadata": {},
     "output_type": "display_data"
    }
   ],
   "source": [
    "desc = 'bp(0.01,0.5)'\n",
    "a_all = np.load(pjoin(load_dir, f\"fine-bo_{desc}.npy\"))\n",
    "a_all.shape"
   ]
  },
  {
   "cell_type": "code",
   "execution_count": 5,
   "id": "224cceac",
   "metadata": {},
   "outputs": [
    {
     "data": {
      "text/html": [
       "<pre style=\"white-space:pre;overflow-x:auto;line-height:normal;font-family:Menlo,'DejaVu Sans Mono',consolas,'Courier New',monospace\"><span style=\"font-weight: bold\">((</span><span style=\"color: #008080; text-decoration-color: #008080; font-weight: bold\">114</span>, <span style=\"color: #008080; text-decoration-color: #008080; font-weight: bold\">542</span><span style=\"font-weight: bold\">)</span>, <span style=\"font-weight: bold\">(</span><span style=\"color: #008080; text-decoration-color: #008080; font-weight: bold\">542</span>,<span style=\"font-weight: bold\">))</span>\n",
       "</pre>\n"
      ],
      "text/plain": [
       "\u001b[1m(\u001b[0m\u001b[1m(\u001b[0m\u001b[1;36m114\u001b[0m, \u001b[1;36m542\u001b[0m\u001b[1m)\u001b[0m, \u001b[1m(\u001b[0m\u001b[1;36m542\u001b[0m,\u001b[1m)\u001b[0m\u001b[1m)\u001b[0m\n"
      ]
     },
     "metadata": {},
     "output_type": "display_data"
    }
   ],
   "source": [
    "deg = np_nans(a_all.shape[:2])\n",
    "a_bin = np_nans(a_all.shape)\n",
    "for i, a in enumerate(a_all):\n",
    "    th = calculate_threshold(a, perc / 100)\n",
    "    th = th.pop()\n",
    "    # Binarize\n",
    "    _a = a.copy()\n",
    "    _a[a <= th] = 0\n",
    "    _a[a > th] = 1\n",
    "    a_bin[i] = _a\n",
    "    # Degree\n",
    "    nan = np.isnan(a).sum(0) == len(a)\n",
    "    zero = np.nanmean(np.abs(a), 0) == 0\n",
    "    good = np.logical_and(~nan, ~zero)\n",
    "    a_eff = _a[good][:, good]\n",
    "    deg[i] = _a.sum(0)\n",
    "deg_avg = bn.nanmean(deg, 0)\n",
    "deg.shape, deg_avg.shape"
   ]
  },
  {
   "cell_type": "code",
   "execution_count": null,
   "id": "f3cc6f45",
   "metadata": {},
   "outputs": [],
   "source": []
  },
  {
   "cell_type": "code",
   "execution_count": 6,
   "id": "0184abe6",
   "metadata": {},
   "outputs": [
    {
     "data": {
      "image/png": "[encoded data removed]"
     },
     "metadata": {},
     "output_type": "display_data"
    }
   ],
   "source": [
    "sns.histplot(deg.ravel(), bins=np.linspace(5, 250, 50))\n",
    "plt.ylim(0, 3300);"
   ]
  },
  {
   "cell_type": "code",
   "execution_count": null,
   "id": "0858c4f7",
   "metadata": {},
   "outputs": [],
   "source": []
  },
  {
   "cell_type": "code",
   "execution_count": 7,
   "id": "f9fcb8f3",
   "metadata": {},
   "outputs": [
    {
     "data": {
      "text/html": [
       "<pre style=\"white-space:pre;overflow-x:auto;line-height:normal;font-family:Menlo,'DejaVu Sans Mono',consolas,'Courier New',monospace\"><span style=\"color: #800080; text-decoration-color: #800080\">/home/hadi/Documents/Ca-fMRI/processed/</span><span style=\"color: #ff00ff; text-decoration-color: #ff00ff\">norm-global_parcel-columnar_n-512</span>*<span style=\"color: #008080; text-decoration-color: #008080; font-weight: bold\">3</span>/results/SVINET/Gro\n",
       "up/real_pearson_bold-<span style=\"color: #800080; text-decoration-color: #800080; font-weight: bold\">lite_rest_bp</span><span style=\"font-weight: bold\">(</span><span style=\"color: #008080; text-decoration-color: #008080; font-weight: bold\">0.01</span>,<span style=\"color: #008080; text-decoration-color: #008080; font-weight: bold\">0.5</span><span style=\"font-weight: bold\">)</span>_k7_p15-sample\n",
       "</pre>\n"
      ],
      "text/plain": [
       "\u001b[35m/home/hadi/Documents/Ca-fMRI/processed/\u001b[0m\u001b[95mnorm-global_parcel-columnar_n-512\u001b[0m*\u001b[1;36m3\u001b[0m/results/SVINET/Gro\n",
       "up/real_pearson_bold-\u001b[1;35mlite_rest_bp\u001b[0m\u001b[1m(\u001b[0m\u001b[1;36m0.01\u001b[0m,\u001b[1;36m0.5\u001b[0m\u001b[1m)\u001b[0m_k7_p15-sample\n"
      ]
     },
     "metadata": {},
     "output_type": "display_data"
    },
    {
     "data": {
      "text/html": [
       "<pre style=\"white-space:pre;overflow-x:auto;line-height:normal;font-family:Menlo,'DejaVu Sans Mono',consolas,'Courier New',monospace\">\n",
       "<span style=\"font-weight: bold\">[</span>\n",
       "    <span style=\"color: #008000; text-decoration-color: #008000\">'run_deg.npy'</span>,\n",
       "    <span style=\"color: #008000; text-decoration-color: #008000\">'run_pi.npy'</span>,\n",
       "    <span style=\"color: #008000; text-decoration-color: #008000\">'se-BCa_indiv-pi_1.0e+04.npy'</span>,\n",
       "    <span style=\"color: #008000; text-decoration-color: #008000\">'pi_prune.npy'</span>,\n",
       "    <span style=\"color: #008000; text-decoration-color: #008000\">'address.npy'</span>,\n",
       "    <span style=\"color: #008000; text-decoration-color: #008000\">'n_runs.npy'</span>,\n",
       "    <span style=\"color: #008000; text-decoration-color: #008000\">'n_seeds.npy'</span>,\n",
       "    <span style=\"color: #008000; text-decoration-color: #008000\">'se-BCa_group-pi_1.0e+05.npy'</span>,\n",
       "    <span style=\"color: #008000; text-decoration-color: #008000\">'perms_prune.npy'</span>,\n",
       "    <span style=\"color: #008000; text-decoration-color: #008000\">'run_seed_rank.npy'</span>,\n",
       "    <span style=\"color: #008000; text-decoration-color: #008000\">'run_lam.npy'</span>,\n",
       "    <span style=\"color: #008000; text-decoration-color: #008000\">'fit_meta.npy'</span>\n",
       "<span style=\"font-weight: bold\">]</span>\n",
       "</pre>\n"
      ],
      "text/plain": [
       "\n",
       "\u001b[1m[\u001b[0m\n",
       "    \u001b[32m'run_deg.npy'\u001b[0m,\n",
       "    \u001b[32m'run_pi.npy'\u001b[0m,\n",
       "    \u001b[32m'se-BCa_indiv-pi_1.0e+04.npy'\u001b[0m,\n",
       "    \u001b[32m'pi_prune.npy'\u001b[0m,\n",
       "    \u001b[32m'address.npy'\u001b[0m,\n",
       "    \u001b[32m'n_runs.npy'\u001b[0m,\n",
       "    \u001b[32m'n_seeds.npy'\u001b[0m,\n",
       "    \u001b[32m'se-BCa_group-pi_1.0e+05.npy'\u001b[0m,\n",
       "    \u001b[32m'perms_prune.npy'\u001b[0m,\n",
       "    \u001b[32m'run_seed_rank.npy'\u001b[0m,\n",
       "    \u001b[32m'run_lam.npy'\u001b[0m,\n",
       "    \u001b[32m'fit_meta.npy'\u001b[0m\n",
       "\u001b[1m]\u001b[0m\n"
      ]
     },
     "metadata": {},
     "output_type": "display_data"
    }
   ],
   "source": [
    "self = Group(**props_bo)\n",
    "print(self.path)\n",
    "os.listdir(self.path)"
   ]
  },
  {
   "cell_type": "code",
   "execution_count": null,
   "id": "85a21585",
   "metadata": {},
   "outputs": [],
   "source": []
  },
  {
   "cell_type": "code",
   "execution_count": 8,
   "id": "bad4ac4d",
   "metadata": {},
   "outputs": [],
   "source": [
    "assert len(self.address) == len(a_all)"
   ]
  },
  {
   "cell_type": "code",
   "execution_count": null,
   "id": "647f940b",
   "metadata": {},
   "outputs": [],
   "source": []
  },
  {
   "cell_type": "code",
   "execution_count": 9,
   "id": "e712c8c1",
   "metadata": {},
   "outputs": [
    {
     "data": {
      "text/html": [
       "<pre style=\"white-space:pre;overflow-x:auto;line-height:normal;font-family:Menlo,'DejaVu Sans Mono',consolas,'Courier New',monospace\"><span style=\"font-weight: bold\">[</span>PROGRESS<span style=\"font-weight: bold\">]</span> <span style=\"color: #008000; text-decoration-color: #008000\">'run_deg.npy'</span> saved at\n",
       "<span style=\"color: #800080; text-decoration-color: #800080\">/home/hadi/Documents/Ca-fMRI/processed/</span><span style=\"color: #ff00ff; text-decoration-color: #ff00ff\">norm-global_parcel-columnar_n-512</span>*<span style=\"color: #008080; text-decoration-color: #008080; font-weight: bold\">3</span>/results/SVINET/Gro\n",
       "up/real_pearson_bold-<span style=\"color: #800080; text-decoration-color: #800080; font-weight: bold\">lite_rest_bp</span><span style=\"font-weight: bold\">(</span><span style=\"color: #008080; text-decoration-color: #008080; font-weight: bold\">0.01</span>,<span style=\"color: #008080; text-decoration-color: #008080; font-weight: bold\">0.5</span><span style=\"font-weight: bold\">)</span>_k7_p15-sample\n",
       "</pre>\n"
      ],
      "text/plain": [
       "\u001b[1m[\u001b[0mPROGRESS\u001b[1m]\u001b[0m \u001b[32m'run_deg.npy'\u001b[0m saved at\n",
       "\u001b[35m/home/hadi/Documents/Ca-fMRI/processed/\u001b[0m\u001b[95mnorm-global_parcel-columnar_n-512\u001b[0m*\u001b[1;36m3\u001b[0m/results/SVINET/Gro\n",
       "up/real_pearson_bold-\u001b[1;35mlite_rest_bp\u001b[0m\u001b[1m(\u001b[0m\u001b[1;36m0.01\u001b[0m,\u001b[1;36m0.5\u001b[0m\u001b[1m)\u001b[0m_k7_p15-sample\n"
      ]
     },
     "metadata": {},
     "output_type": "display_data"
    },
    {
     "data": {
      "text/html": [
       "<pre style=\"white-space:pre;overflow-x:auto;line-height:normal;font-family:Menlo,'DejaVu Sans Mono',consolas,'Courier New',monospace\"><span style=\"font-weight: bold\">(</span><span style=\"color: #008080; text-decoration-color: #008080; font-weight: bold\">10</span>, <span style=\"color: #008080; text-decoration-color: #008080; font-weight: bold\">3</span>, <span style=\"color: #008080; text-decoration-color: #008080; font-weight: bold\">4</span>, <span style=\"color: #008080; text-decoration-color: #008080; font-weight: bold\">542</span><span style=\"font-weight: bold\">)</span>\n",
       "</pre>\n"
      ],
      "text/plain": [
       "\u001b[1m(\u001b[0m\u001b[1;36m10\u001b[0m, \u001b[1;36m3\u001b[0m, \u001b[1;36m4\u001b[0m, \u001b[1;36m542\u001b[0m\u001b[1m)\u001b[0m\n"
      ]
     },
     "metadata": {},
     "output_type": "display_data"
    }
   ],
   "source": [
    "deg_runs = np_nans((\n",
    "    self.mice.cfg.n_subjects,\n",
    "    self.mice.cfg.n_sessions,\n",
    "    max(self.n_runs.values()),\n",
    "    len(self.n2l),\n",
    "))\n",
    "for ii, (i, j, k) in enumerate(self.address.values()):\n",
    "    deg_runs[i, j, k] = deg[ii]\n",
    "\n",
    "_ = save_obj(\n",
    "    obj=deg_runs,\n",
    "    file_name='run_deg',\n",
    "    save_dir=self.path,\n",
    "    verbose=True,\n",
    "    mode='npy',\n",
    ")\n",
    "deg_runs.shape"
   ]
  },
  {
   "cell_type": "code",
   "execution_count": null,
   "id": "266c380a",
   "metadata": {},
   "outputs": [],
   "source": []
  },
  {
   "cell_type": "code",
   "execution_count": 10,
   "id": "4c37c9a8",
   "metadata": {},
   "outputs": [],
   "source": [
    "for kk in range(3, 25):\n",
    "    props_bo['num_k'] = kk\n",
    "    self = Group(**props_bo)\n",
    "    if not self.fit_meta:\n",
    "        continue\n",
    "    _ = save_obj(\n",
    "        obj=deg_runs,\n",
    "        file_name='run_deg',\n",
    "        save_dir=self.path,\n",
    "        verbose=False,\n",
    "        mode='npy',\n",
    "    )"
   ]
  },
  {
   "cell_type": "code",
   "execution_count": null,
   "id": "d48a34aa",
   "metadata": {},
   "outputs": [],
   "source": []
  },
  {
   "cell_type": "markdown",
   "id": "858ed5c3",
   "metadata": {},
   "source": [
    "### FIX CAS"
   ]
  },
  {
   "cell_type": "code",
   "execution_count": 11,
   "id": "eb10801f",
   "metadata": {},
   "outputs": [
    {
     "data": {
      "text/html": [
       "<pre style=\"white-space:pre;overflow-x:auto;line-height:normal;font-family:Menlo,'DejaVu Sans Mono',consolas,'Courier New',monospace\"><span style=\"font-weight: bold\">(</span><span style=\"color: #008080; text-decoration-color: #008080; font-weight: bold\">112</span>, <span style=\"color: #008080; text-decoration-color: #008080; font-weight: bold\">542</span>, <span style=\"color: #008080; text-decoration-color: #008080; font-weight: bold\">542</span><span style=\"font-weight: bold\">)</span>\n",
       "</pre>\n"
      ],
      "text/plain": [
       "\u001b[1m(\u001b[0m\u001b[1;36m112\u001b[0m, \u001b[1;36m542\u001b[0m, \u001b[1;36m542\u001b[0m\u001b[1m)\u001b[0m\n"
      ]
     },
     "metadata": {},
     "output_type": "display_data"
    }
   ],
   "source": [
    "desc = 'bp(0.01,0.5)'\n",
    "mice.band['ca2'] = (0.01, 0.5)\n",
    "a_all = np.load(pjoin(load_dir, f\"fine-ca_{desc}.npy\"))\n",
    "a_all.shape"
   ]
  },
  {
   "cell_type": "code",
   "execution_count": 12,
   "id": "fa72fbde",
   "metadata": {},
   "outputs": [
    {
     "data": {
      "text/html": [
       "<pre style=\"white-space:pre;overflow-x:auto;line-height:normal;font-family:Menlo,'DejaVu Sans Mono',consolas,'Courier New',monospace\"><span style=\"font-weight: bold\">((</span><span style=\"color: #008080; text-decoration-color: #008080; font-weight: bold\">112</span>, <span style=\"color: #008080; text-decoration-color: #008080; font-weight: bold\">542</span><span style=\"font-weight: bold\">)</span>, <span style=\"font-weight: bold\">(</span><span style=\"color: #008080; text-decoration-color: #008080; font-weight: bold\">542</span>,<span style=\"font-weight: bold\">))</span>\n",
       "</pre>\n"
      ],
      "text/plain": [
       "\u001b[1m(\u001b[0m\u001b[1m(\u001b[0m\u001b[1;36m112\u001b[0m, \u001b[1;36m542\u001b[0m\u001b[1m)\u001b[0m, \u001b[1m(\u001b[0m\u001b[1;36m542\u001b[0m,\u001b[1m)\u001b[0m\u001b[1m)\u001b[0m\n"
      ]
     },
     "metadata": {},
     "output_type": "display_data"
    }
   ],
   "source": [
    "deg = np_nans(a_all.shape[:2])\n",
    "a_bin = np_nans(a_all.shape)\n",
    "for i, a in enumerate(a_all):\n",
    "    th = calculate_threshold(a, perc / 100)\n",
    "    th = th.pop()\n",
    "    # Binarize\n",
    "    _a = a.copy()\n",
    "    _a[a <= th] = 0\n",
    "    _a[a > th] = 1\n",
    "    a_bin[i] = _a\n",
    "    # Degree\n",
    "    nan = np.isnan(a).sum(0) == len(a)\n",
    "    zero = np.nanmean(np.abs(a), 0) == 0\n",
    "    good = np.logical_and(~nan, ~zero)\n",
    "    a_eff = _a[good][:, good]\n",
    "    deg[i] = _a.sum(0)\n",
    "deg_avg = bn.nanmean(deg, 0)\n",
    "deg.shape, deg_avg.shape"
   ]
  },
  {
   "cell_type": "code",
   "execution_count": null,
   "id": "df5178a0",
   "metadata": {},
   "outputs": [],
   "source": []
  },
  {
   "cell_type": "code",
   "execution_count": 13,
   "id": "19db119a",
   "metadata": {},
   "outputs": [
    {
     "data": {
      "image/png": "[encoded data removed]"
     },
     "metadata": {},
     "output_type": "display_data"
    }
   ],
   "source": [
    "sns.histplot(deg.ravel(), bins=np.linspace(5, 250, 50))\n",
    "plt.ylim(0, 3300);"
   ]
  },
  {
   "cell_type": "code",
   "execution_count": null,
   "id": "f22e3e83",
   "metadata": {},
   "outputs": [],
   "source": []
  },
  {
   "cell_type": "code",
   "execution_count": 15,
   "id": "d3f8f59b",
   "metadata": {},
   "outputs": [
    {
     "data": {
      "text/html": [
       "<pre style=\"white-space:pre;overflow-x:auto;line-height:normal;font-family:Menlo,'DejaVu Sans Mono',consolas,'Courier New',monospace\"><span style=\"color: #800080; text-decoration-color: #800080\">/home/hadi/Documents/Ca-fMRI/processed/</span><span style=\"color: #ff00ff; text-decoration-color: #ff00ff\">norm-global_parcel-columnar_n-512</span>*<span style=\"color: #008080; text-decoration-color: #008080; font-weight: bold\">3</span>/results/SVINET/Gro\n",
       "up/<span style=\"color: #800080; text-decoration-color: #800080; font-weight: bold\">real_pearson_ca2_rest_bp</span><span style=\"font-weight: bold\">(</span><span style=\"color: #008080; text-decoration-color: #008080; font-weight: bold\">0.01</span>,<span style=\"color: #008080; text-decoration-color: #008080; font-weight: bold\">0.5</span><span style=\"font-weight: bold\">)</span>_k7_p15-sample\n",
       "</pre>\n"
      ],
      "text/plain": [
       "\u001b[35m/home/hadi/Documents/Ca-fMRI/processed/\u001b[0m\u001b[95mnorm-global_parcel-columnar_n-512\u001b[0m*\u001b[1;36m3\u001b[0m/results/SVINET/Gro\n",
       "up/\u001b[1;35mreal_pearson_ca2_rest_bp\u001b[0m\u001b[1m(\u001b[0m\u001b[1;36m0.01\u001b[0m,\u001b[1;36m0.5\u001b[0m\u001b[1m)\u001b[0m_k7_p15-sample\n"
      ]
     },
     "metadata": {},
     "output_type": "display_data"
    },
    {
     "data": {
      "text/html": [
       "<pre style=\"white-space:pre;overflow-x:auto;line-height:normal;font-family:Menlo,'DejaVu Sans Mono',consolas,'Courier New',monospace\">\n",
       "<span style=\"font-weight: bold\">[</span>\n",
       "    <span style=\"color: #008000; text-decoration-color: #008000\">'run_deg.npy'</span>,\n",
       "    <span style=\"color: #008000; text-decoration-color: #008000\">'run_pi.npy'</span>,\n",
       "    <span style=\"color: #008000; text-decoration-color: #008000\">'se-BCa_indiv-pi_1.0e+04.npy'</span>,\n",
       "    <span style=\"color: #008000; text-decoration-color: #008000\">'pi_prune.npy'</span>,\n",
       "    <span style=\"color: #008000; text-decoration-color: #008000\">'address.npy'</span>,\n",
       "    <span style=\"color: #008000; text-decoration-color: #008000\">'n_runs.npy'</span>,\n",
       "    <span style=\"color: #008000; text-decoration-color: #008000\">'n_seeds.npy'</span>,\n",
       "    <span style=\"color: #008000; text-decoration-color: #008000\">'se-BCa_group-pi_1.0e+05.npy'</span>,\n",
       "    <span style=\"color: #008000; text-decoration-color: #008000\">'perms_prune.npy'</span>,\n",
       "    <span style=\"color: #008000; text-decoration-color: #008000\">'run_seed_rank.npy'</span>,\n",
       "    <span style=\"color: #008000; text-decoration-color: #008000\">'run_lam.npy'</span>,\n",
       "    <span style=\"color: #008000; text-decoration-color: #008000\">'fit_meta.npy'</span>\n",
       "<span style=\"font-weight: bold\">]</span>\n",
       "</pre>\n"
      ],
      "text/plain": [
       "\n",
       "\u001b[1m[\u001b[0m\n",
       "    \u001b[32m'run_deg.npy'\u001b[0m,\n",
       "    \u001b[32m'run_pi.npy'\u001b[0m,\n",
       "    \u001b[32m'se-BCa_indiv-pi_1.0e+04.npy'\u001b[0m,\n",
       "    \u001b[32m'pi_prune.npy'\u001b[0m,\n",
       "    \u001b[32m'address.npy'\u001b[0m,\n",
       "    \u001b[32m'n_runs.npy'\u001b[0m,\n",
       "    \u001b[32m'n_seeds.npy'\u001b[0m,\n",
       "    \u001b[32m'se-BCa_group-pi_1.0e+05.npy'\u001b[0m,\n",
       "    \u001b[32m'perms_prune.npy'\u001b[0m,\n",
       "    \u001b[32m'run_seed_rank.npy'\u001b[0m,\n",
       "    \u001b[32m'run_lam.npy'\u001b[0m,\n",
       "    \u001b[32m'fit_meta.npy'\u001b[0m\n",
       "\u001b[1m]\u001b[0m\n"
      ]
     },
     "metadata": {},
     "output_type": "display_data"
    }
   ],
   "source": [
    "self = Group(**props_ca)\n",
    "print(self.path)\n",
    "os.listdir(self.path)"
   ]
  },
  {
   "cell_type": "code",
   "execution_count": null,
   "id": "db471de6",
   "metadata": {},
   "outputs": [],
   "source": []
  },
  {
   "cell_type": "code",
   "execution_count": 16,
   "id": "9b4a8ad7",
   "metadata": {},
   "outputs": [
    {
     "data": {
      "text/html": [
       "<pre style=\"white-space:pre;overflow-x:auto;line-height:normal;font-family:Menlo,'DejaVu Sans Mono',consolas,'Courier New',monospace\"><span style=\"color: #ff0000; text-decoration-color: #ff0000; font-style: italic\">False</span>\n",
       "</pre>\n"
      ],
      "text/plain": [
       "\u001b[3;91mFalse\u001b[0m\n"
      ]
     },
     "metadata": {},
     "output_type": "display_data"
    }
   ],
   "source": [
    "len(self.address) == len(a_all)"
   ]
  },
  {
   "cell_type": "code",
   "execution_count": 17,
   "id": "85a5603d",
   "metadata": {},
   "outputs": [
    {
     "data": {
      "text/html": [
       "<pre style=\"white-space:pre;overflow-x:auto;line-height:normal;font-family:Menlo,'DejaVu Sans Mono',consolas,'Courier New',monospace\"><span style=\"font-weight: bold\">(</span><span style=\"color: #008080; text-decoration-color: #008080; font-weight: bold\">110</span>, <span style=\"color: #008080; text-decoration-color: #008080; font-weight: bold\">112</span>, <span style=\"color: #008080; text-decoration-color: #008080; font-weight: bold\">112</span><span style=\"font-weight: bold\">)</span>\n",
       "</pre>\n"
      ],
      "text/plain": [
       "\u001b[1m(\u001b[0m\u001b[1;36m110\u001b[0m, \u001b[1;36m112\u001b[0m, \u001b[1;36m112\u001b[0m\u001b[1m)\u001b[0m\n"
      ]
     },
     "metadata": {},
     "output_type": "display_data"
    }
   ],
   "source": [
    "len(self.address), len(a_all), len(mice.ca)"
   ]
  },
  {
   "cell_type": "code",
   "execution_count": 18,
   "id": "bf449493",
   "metadata": {},
   "outputs": [
    {
     "data": {
      "text/html": [
       "<pre style=\"white-space:pre;overflow-x:auto;line-height:normal;font-family:Menlo,'DejaVu Sans Mono',consolas,'Courier New',monospace\"><span style=\"font-weight: bold\">[</span><span style=\"color: #008000; text-decoration-color: #008000\">'sub-SLC02_ses-1_run-3'</span>, <span style=\"color: #008000; text-decoration-color: #008000\">'sub-SLC07_ses-2_run-7'</span><span style=\"font-weight: bold\">]</span>\n",
       "</pre>\n"
      ],
      "text/plain": [
       "\u001b[1m[\u001b[0m\u001b[32m'sub-SLC02_ses-1_run-3'\u001b[0m, \u001b[32m'sub-SLC07_ses-2_run-7'\u001b[0m\u001b[1m]\u001b[0m\n"
      ]
     },
     "metadata": {},
     "output_type": "display_data"
    }
   ],
   "source": [
    "[k for k in mice.ca if k not in self.address]"
   ]
  },
  {
   "cell_type": "code",
   "execution_count": null,
   "id": "2e9c37b3",
   "metadata": {},
   "outputs": [],
   "source": []
  },
  {
   "cell_type": "code",
   "execution_count": 19,
   "id": "7bc5f781",
   "metadata": {},
   "outputs": [],
   "source": [
    "address_aug = self.address.copy()\n",
    "address_aug['sub-SLC02_ses-1_run-3'] = None\n",
    "address_aug['sub-SLC07_ses-2_run-7'] = None\n",
    "address_aug = dict(sorted(address_aug.items()))"
   ]
  },
  {
   "cell_type": "code",
   "execution_count": null,
   "id": "cc5aec70",
   "metadata": {},
   "outputs": [],
   "source": []
  },
  {
   "cell_type": "code",
   "execution_count": 20,
   "id": "b012a1bc",
   "metadata": {},
   "outputs": [
    {
     "data": {
      "text/html": [
       "<pre style=\"white-space:pre;overflow-x:auto;line-height:normal;font-family:Menlo,'DejaVu Sans Mono',consolas,'Courier New',monospace\"><span style=\"font-weight: bold\">[</span>PROGRESS<span style=\"font-weight: bold\">]</span> <span style=\"color: #008000; text-decoration-color: #008000\">'run_deg.npy'</span> saved at\n",
       "<span style=\"color: #800080; text-decoration-color: #800080\">/home/hadi/Documents/Ca-fMRI/processed/</span><span style=\"color: #ff00ff; text-decoration-color: #ff00ff\">norm-global_parcel-columnar_n-512</span>*<span style=\"color: #008080; text-decoration-color: #008080; font-weight: bold\">3</span>/results/SVINET/Gro\n",
       "up/<span style=\"color: #800080; text-decoration-color: #800080; font-weight: bold\">real_pearson_ca2_rest_bp</span><span style=\"font-weight: bold\">(</span><span style=\"color: #008080; text-decoration-color: #008080; font-weight: bold\">0.01</span>,<span style=\"color: #008080; text-decoration-color: #008080; font-weight: bold\">0.5</span><span style=\"font-weight: bold\">)</span>_k7_p15-sample\n",
       "</pre>\n"
      ],
      "text/plain": [
       "\u001b[1m[\u001b[0mPROGRESS\u001b[1m]\u001b[0m \u001b[32m'run_deg.npy'\u001b[0m saved at\n",
       "\u001b[35m/home/hadi/Documents/Ca-fMRI/processed/\u001b[0m\u001b[95mnorm-global_parcel-columnar_n-512\u001b[0m*\u001b[1;36m3\u001b[0m/results/SVINET/Gro\n",
       "up/\u001b[1;35mreal_pearson_ca2_rest_bp\u001b[0m\u001b[1m(\u001b[0m\u001b[1;36m0.01\u001b[0m,\u001b[1;36m0.5\u001b[0m\u001b[1m)\u001b[0m_k7_p15-sample\n"
      ]
     },
     "metadata": {},
     "output_type": "display_data"
    },
    {
     "data": {
      "text/html": [
       "<pre style=\"white-space:pre;overflow-x:auto;line-height:normal;font-family:Menlo,'DejaVu Sans Mono',consolas,'Courier New',monospace\"><span style=\"font-weight: bold\">(</span><span style=\"color: #008080; text-decoration-color: #008080; font-weight: bold\">10</span>, <span style=\"color: #008080; text-decoration-color: #008080; font-weight: bold\">3</span>, <span style=\"color: #008080; text-decoration-color: #008080; font-weight: bold\">4</span>, <span style=\"color: #008080; text-decoration-color: #008080; font-weight: bold\">542</span><span style=\"font-weight: bold\">)</span>\n",
       "</pre>\n"
      ],
      "text/plain": [
       "\u001b[1m(\u001b[0m\u001b[1;36m10\u001b[0m, \u001b[1;36m3\u001b[0m, \u001b[1;36m4\u001b[0m, \u001b[1;36m542\u001b[0m\u001b[1m)\u001b[0m\n"
      ]
     },
     "metadata": {},
     "output_type": "display_data"
    }
   ],
   "source": [
    "deg_runs = np_nans((\n",
    "    self.mice.cfg.n_subjects,\n",
    "    self.mice.cfg.n_sessions,\n",
    "    max(self.n_runs.values()),\n",
    "    len(self.n2l),\n",
    "))\n",
    "for ii, ijk in enumerate(address_aug.values()):\n",
    "    if ijk is None:\n",
    "        continue\n",
    "    i, j, k = ijk\n",
    "    deg_runs[i, j, k] = deg[ii]\n",
    "\n",
    "_ = save_obj(\n",
    "    obj=deg_runs,\n",
    "    file_name='run_deg',\n",
    "    save_dir=self.path,\n",
    "    verbose=True,\n",
    "    mode='npy',\n",
    ")\n",
    "deg_runs.shape"
   ]
  },
  {
   "cell_type": "code",
   "execution_count": null,
   "id": "60072c4a",
   "metadata": {},
   "outputs": [],
   "source": []
  },
  {
   "cell_type": "code",
   "execution_count": 21,
   "id": "4fdfe2c5",
   "metadata": {},
   "outputs": [],
   "source": [
    "for kk in range(3, 25):\n",
    "    props_ca['num_k'] = kk\n",
    "    self = Group(**props_ca)\n",
    "    if not self.fit_meta:\n",
    "        continue\n",
    "    _ = save_obj(\n",
    "        obj=deg_runs,\n",
    "        file_name='run_deg',\n",
    "        save_dir=self.path,\n",
    "        verbose=False,\n",
    "        mode='npy',\n",
    "    )"
   ]
  },
  {
   "cell_type": "code",
   "execution_count": null,
   "id": "c97752c8",
   "metadata": {},
   "outputs": [],
   "source": []
  },
  {
   "cell_type": "code",
   "execution_count": null,
   "id": "4c09787e",
   "metadata": {},
   "outputs": [],
   "source": []
  },
  {
   "cell_type": "markdown",
   "id": "713848c7",
   "metadata": {},
   "source": [
    "### FIX CAF"
   ]
  },
  {
   "cell_type": "code",
   "execution_count": 22,
   "id": "685737ef",
   "metadata": {},
   "outputs": [
    {
     "data": {
      "text/html": [
       "<pre style=\"white-space:pre;overflow-x:auto;line-height:normal;font-family:Menlo,'DejaVu Sans Mono',consolas,'Courier New',monospace\"><span style=\"font-weight: bold\">(</span><span style=\"color: #008080; text-decoration-color: #008080; font-weight: bold\">112</span>, <span style=\"color: #008080; text-decoration-color: #008080; font-weight: bold\">542</span>, <span style=\"color: #008080; text-decoration-color: #008080; font-weight: bold\">542</span><span style=\"font-weight: bold\">)</span>\n",
       "</pre>\n"
      ],
      "text/plain": [
       "\u001b[1m(\u001b[0m\u001b[1;36m112\u001b[0m, \u001b[1;36m542\u001b[0m, \u001b[1;36m542\u001b[0m\u001b[1m)\u001b[0m\n"
      ]
     },
     "metadata": {},
     "output_type": "display_data"
    }
   ],
   "source": [
    "desc = 'bp(0.5,5.0)'\n",
    "mice.band['ca2'] = (0.5, 5.0)\n",
    "a_all = np.load(pjoin(load_dir, f\"fine-ca_{desc}.npy\"))\n",
    "a_all.shape"
   ]
  },
  {
   "cell_type": "code",
   "execution_count": 23,
   "id": "7f970bc8",
   "metadata": {},
   "outputs": [
    {
     "data": {
      "text/html": [
       "<pre style=\"white-space:pre;overflow-x:auto;line-height:normal;font-family:Menlo,'DejaVu Sans Mono',consolas,'Courier New',monospace\"><span style=\"font-weight: bold\">((</span><span style=\"color: #008080; text-decoration-color: #008080; font-weight: bold\">112</span>, <span style=\"color: #008080; text-decoration-color: #008080; font-weight: bold\">542</span><span style=\"font-weight: bold\">)</span>, <span style=\"font-weight: bold\">(</span><span style=\"color: #008080; text-decoration-color: #008080; font-weight: bold\">542</span>,<span style=\"font-weight: bold\">))</span>\n",
       "</pre>\n"
      ],
      "text/plain": [
       "\u001b[1m(\u001b[0m\u001b[1m(\u001b[0m\u001b[1;36m112\u001b[0m, \u001b[1;36m542\u001b[0m\u001b[1m)\u001b[0m, \u001b[1m(\u001b[0m\u001b[1;36m542\u001b[0m,\u001b[1m)\u001b[0m\u001b[1m)\u001b[0m\n"
      ]
     },
     "metadata": {},
     "output_type": "display_data"
    }
   ],
   "source": [
    "deg = np_nans(a_all.shape[:2])\n",
    "a_bin = np_nans(a_all.shape)\n",
    "for i, a in enumerate(a_all):\n",
    "    th = calculate_threshold(a, perc / 100)\n",
    "    th = th.pop()\n",
    "    # Binarize\n",
    "    _a = a.copy()\n",
    "    _a[a <= th] = 0\n",
    "    _a[a > th] = 1\n",
    "    a_bin[i] = _a\n",
    "    # Degree\n",
    "    nan = np.isnan(a).sum(0) == len(a)\n",
    "    zero = np.nanmean(np.abs(a), 0) == 0\n",
    "    good = np.logical_and(~nan, ~zero)\n",
    "    a_eff = _a[good][:, good]\n",
    "    deg[i] = _a.sum(0)\n",
    "deg_avg = bn.nanmean(deg, 0)\n",
    "deg.shape, deg_avg.shape"
   ]
  },
  {
   "cell_type": "code",
   "execution_count": null,
   "id": "f63eb70b",
   "metadata": {},
   "outputs": [],
   "source": []
  },
  {
   "cell_type": "code",
   "execution_count": 24,
   "id": "d709e051",
   "metadata": {},
   "outputs": [
    {
     "data": {
      "image/png": "[encoded data removed]"
     },
     "metadata": {},
     "output_type": "display_data"
    }
   ],
   "source": [
    "sns.histplot(deg.ravel(), bins=np.linspace(5, 250, 50))\n",
    "plt.ylim(0, 3300);"
   ]
  },
  {
   "cell_type": "code",
   "execution_count": null,
   "id": "61ba6127",
   "metadata": {},
   "outputs": [],
   "source": []
  },
  {
   "cell_type": "code",
   "execution_count": 25,
   "id": "a179d673",
   "metadata": {},
   "outputs": [
    {
     "data": {
      "text/html": [
       "<pre style=\"white-space:pre;overflow-x:auto;line-height:normal;font-family:Menlo,'DejaVu Sans Mono',consolas,'Courier New',monospace\"><span style=\"color: #800080; text-decoration-color: #800080\">/home/hadi/Documents/Ca-fMRI/processed/</span><span style=\"color: #ff00ff; text-decoration-color: #ff00ff\">norm-global_parcel-columnar_n-512</span>*<span style=\"color: #008080; text-decoration-color: #008080; font-weight: bold\">3</span>/results/SVINET/Gro\n",
       "up/<span style=\"color: #800080; text-decoration-color: #800080; font-weight: bold\">real_pearson_ca2_rest_bp</span><span style=\"font-weight: bold\">(</span><span style=\"color: #008080; text-decoration-color: #008080; font-weight: bold\">0.5</span>,<span style=\"color: #008080; text-decoration-color: #008080; font-weight: bold\">5.0</span><span style=\"font-weight: bold\">)</span>_k7_p15-sample\n",
       "</pre>\n"
      ],
      "text/plain": [
       "\u001b[35m/home/hadi/Documents/Ca-fMRI/processed/\u001b[0m\u001b[95mnorm-global_parcel-columnar_n-512\u001b[0m*\u001b[1;36m3\u001b[0m/results/SVINET/Gro\n",
       "up/\u001b[1;35mreal_pearson_ca2_rest_bp\u001b[0m\u001b[1m(\u001b[0m\u001b[1;36m0.5\u001b[0m,\u001b[1;36m5.0\u001b[0m\u001b[1m)\u001b[0m_k7_p15-sample\n"
      ]
     },
     "metadata": {},
     "output_type": "display_data"
    },
    {
     "data": {
      "text/html": [
       "<pre style=\"white-space:pre;overflow-x:auto;line-height:normal;font-family:Menlo,'DejaVu Sans Mono',consolas,'Courier New',monospace\">\n",
       "<span style=\"font-weight: bold\">[</span>\n",
       "    <span style=\"color: #008000; text-decoration-color: #008000\">'run_deg.npy'</span>,\n",
       "    <span style=\"color: #008000; text-decoration-color: #008000\">'run_pi.npy'</span>,\n",
       "    <span style=\"color: #008000; text-decoration-color: #008000\">'se-BCa_indiv-pi_1.0e+04.npy'</span>,\n",
       "    <span style=\"color: #008000; text-decoration-color: #008000\">'pi_prune.npy'</span>,\n",
       "    <span style=\"color: #008000; text-decoration-color: #008000\">'address.npy'</span>,\n",
       "    <span style=\"color: #008000; text-decoration-color: #008000\">'n_runs.npy'</span>,\n",
       "    <span style=\"color: #008000; text-decoration-color: #008000\">'n_seeds.npy'</span>,\n",
       "    <span style=\"color: #008000; text-decoration-color: #008000\">'se-BCa_group-pi_1.0e+05.npy'</span>,\n",
       "    <span style=\"color: #008000; text-decoration-color: #008000\">'perms_prune.npy'</span>,\n",
       "    <span style=\"color: #008000; text-decoration-color: #008000\">'run_seed_rank.npy'</span>,\n",
       "    <span style=\"color: #008000; text-decoration-color: #008000\">'run_lam.npy'</span>,\n",
       "    <span style=\"color: #008000; text-decoration-color: #008000\">'fit_meta.npy'</span>\n",
       "<span style=\"font-weight: bold\">]</span>\n",
       "</pre>\n"
      ],
      "text/plain": [
       "\n",
       "\u001b[1m[\u001b[0m\n",
       "    \u001b[32m'run_deg.npy'\u001b[0m,\n",
       "    \u001b[32m'run_pi.npy'\u001b[0m,\n",
       "    \u001b[32m'se-BCa_indiv-pi_1.0e+04.npy'\u001b[0m,\n",
       "    \u001b[32m'pi_prune.npy'\u001b[0m,\n",
       "    \u001b[32m'address.npy'\u001b[0m,\n",
       "    \u001b[32m'n_runs.npy'\u001b[0m,\n",
       "    \u001b[32m'n_seeds.npy'\u001b[0m,\n",
       "    \u001b[32m'se-BCa_group-pi_1.0e+05.npy'\u001b[0m,\n",
       "    \u001b[32m'perms_prune.npy'\u001b[0m,\n",
       "    \u001b[32m'run_seed_rank.npy'\u001b[0m,\n",
       "    \u001b[32m'run_lam.npy'\u001b[0m,\n",
       "    \u001b[32m'fit_meta.npy'\u001b[0m\n",
       "\u001b[1m]\u001b[0m\n"
      ]
     },
     "metadata": {},
     "output_type": "display_data"
    }
   ],
   "source": [
    "props_ca['num_k'] = 7\n",
    "self = Group(**props_ca)\n",
    "print(self.path)\n",
    "os.listdir(self.path)"
   ]
  },
  {
   "cell_type": "code",
   "execution_count": null,
   "id": "8f78ac6f",
   "metadata": {},
   "outputs": [],
   "source": []
  },
  {
   "cell_type": "code",
   "execution_count": 26,
   "id": "91ff20b6",
   "metadata": {},
   "outputs": [
    {
     "data": {
      "text/html": [
       "<pre style=\"white-space:pre;overflow-x:auto;line-height:normal;font-family:Menlo,'DejaVu Sans Mono',consolas,'Courier New',monospace\"><span style=\"color: #ff0000; text-decoration-color: #ff0000; font-style: italic\">False</span>\n",
       "</pre>\n"
      ],
      "text/plain": [
       "\u001b[3;91mFalse\u001b[0m\n"
      ]
     },
     "metadata": {},
     "output_type": "display_data"
    }
   ],
   "source": [
    "len(self.address) == len(a_all)"
   ]
  },
  {
   "cell_type": "code",
   "execution_count": 27,
   "id": "a5b222d1",
   "metadata": {},
   "outputs": [
    {
     "data": {
      "text/html": [
       "<pre style=\"white-space:pre;overflow-x:auto;line-height:normal;font-family:Menlo,'DejaVu Sans Mono',consolas,'Courier New',monospace\"><span style=\"font-weight: bold\">(</span><span style=\"color: #008080; text-decoration-color: #008080; font-weight: bold\">110</span>, <span style=\"color: #008080; text-decoration-color: #008080; font-weight: bold\">112</span>, <span style=\"color: #008080; text-decoration-color: #008080; font-weight: bold\">112</span><span style=\"font-weight: bold\">)</span>\n",
       "</pre>\n"
      ],
      "text/plain": [
       "\u001b[1m(\u001b[0m\u001b[1;36m110\u001b[0m, \u001b[1;36m112\u001b[0m, \u001b[1;36m112\u001b[0m\u001b[1m)\u001b[0m\n"
      ]
     },
     "metadata": {},
     "output_type": "display_data"
    }
   ],
   "source": [
    "len(self.address), len(a_all), len(mice.ca)"
   ]
  },
  {
   "cell_type": "code",
   "execution_count": 28,
   "id": "9fb23930",
   "metadata": {},
   "outputs": [
    {
     "data": {
      "text/html": [
       "<pre style=\"white-space:pre;overflow-x:auto;line-height:normal;font-family:Menlo,'DejaVu Sans Mono',consolas,'Courier New',monospace\"><span style=\"font-weight: bold\">[</span><span style=\"color: #008000; text-decoration-color: #008000\">'sub-SLC02_ses-1_run-3'</span>, <span style=\"color: #008000; text-decoration-color: #008000\">'sub-SLC07_ses-2_run-7'</span><span style=\"font-weight: bold\">]</span>\n",
       "</pre>\n"
      ],
      "text/plain": [
       "\u001b[1m[\u001b[0m\u001b[32m'sub-SLC02_ses-1_run-3'\u001b[0m, \u001b[32m'sub-SLC07_ses-2_run-7'\u001b[0m\u001b[1m]\u001b[0m\n"
      ]
     },
     "metadata": {},
     "output_type": "display_data"
    }
   ],
   "source": [
    "[k for k in mice.ca if k not in self.address]"
   ]
  },
  {
   "cell_type": "code",
   "execution_count": null,
   "id": "2c4b3d58",
   "metadata": {},
   "outputs": [],
   "source": []
  },
  {
   "cell_type": "code",
   "execution_count": 29,
   "id": "6c3a8b93",
   "metadata": {},
   "outputs": [],
   "source": [
    "address_aug = self.address.copy()\n",
    "address_aug['sub-SLC02_ses-1_run-3'] = None\n",
    "address_aug['sub-SLC07_ses-2_run-7'] = None\n",
    "address_aug = dict(sorted(address_aug.items()))"
   ]
  },
  {
   "cell_type": "code",
   "execution_count": null,
   "id": "b748196f",
   "metadata": {},
   "outputs": [],
   "source": []
  },
  {
   "cell_type": "code",
   "execution_count": 30,
   "id": "beeb4553",
   "metadata": {},
   "outputs": [
    {
     "data": {
      "text/html": [
       "<pre style=\"white-space:pre;overflow-x:auto;line-height:normal;font-family:Menlo,'DejaVu Sans Mono',consolas,'Courier New',monospace\"><span style=\"font-weight: bold\">[</span>PROGRESS<span style=\"font-weight: bold\">]</span> <span style=\"color: #008000; text-decoration-color: #008000\">'run_deg.npy'</span> saved at\n",
       "<span style=\"color: #800080; text-decoration-color: #800080\">/home/hadi/Documents/Ca-fMRI/processed/</span><span style=\"color: #ff00ff; text-decoration-color: #ff00ff\">norm-global_parcel-columnar_n-512</span>*<span style=\"color: #008080; text-decoration-color: #008080; font-weight: bold\">3</span>/results/SVINET/Gro\n",
       "up/<span style=\"color: #800080; text-decoration-color: #800080; font-weight: bold\">real_pearson_ca2_rest_bp</span><span style=\"font-weight: bold\">(</span><span style=\"color: #008080; text-decoration-color: #008080; font-weight: bold\">0.5</span>,<span style=\"color: #008080; text-decoration-color: #008080; font-weight: bold\">5.0</span><span style=\"font-weight: bold\">)</span>_k7_p15-sample\n",
       "</pre>\n"
      ],
      "text/plain": [
       "\u001b[1m[\u001b[0mPROGRESS\u001b[1m]\u001b[0m \u001b[32m'run_deg.npy'\u001b[0m saved at\n",
       "\u001b[35m/home/hadi/Documents/Ca-fMRI/processed/\u001b[0m\u001b[95mnorm-global_parcel-columnar_n-512\u001b[0m*\u001b[1;36m3\u001b[0m/results/SVINET/Gro\n",
       "up/\u001b[1;35mreal_pearson_ca2_rest_bp\u001b[0m\u001b[1m(\u001b[0m\u001b[1;36m0.5\u001b[0m,\u001b[1;36m5.0\u001b[0m\u001b[1m)\u001b[0m_k7_p15-sample\n"
      ]
     },
     "metadata": {},
     "output_type": "display_data"
    },
    {
     "data": {
      "text/html": [
       "<pre style=\"white-space:pre;overflow-x:auto;line-height:normal;font-family:Menlo,'DejaVu Sans Mono',consolas,'Courier New',monospace\"><span style=\"font-weight: bold\">(</span><span style=\"color: #008080; text-decoration-color: #008080; font-weight: bold\">10</span>, <span style=\"color: #008080; text-decoration-color: #008080; font-weight: bold\">3</span>, <span style=\"color: #008080; text-decoration-color: #008080; font-weight: bold\">4</span>, <span style=\"color: #008080; text-decoration-color: #008080; font-weight: bold\">542</span><span style=\"font-weight: bold\">)</span>\n",
       "</pre>\n"
      ],
      "text/plain": [
       "\u001b[1m(\u001b[0m\u001b[1;36m10\u001b[0m, \u001b[1;36m3\u001b[0m, \u001b[1;36m4\u001b[0m, \u001b[1;36m542\u001b[0m\u001b[1m)\u001b[0m\n"
      ]
     },
     "metadata": {},
     "output_type": "display_data"
    }
   ],
   "source": [
    "deg_runs = np_nans((\n",
    "    self.mice.cfg.n_subjects,\n",
    "    self.mice.cfg.n_sessions,\n",
    "    max(self.n_runs.values()),\n",
    "    len(self.n2l),\n",
    "))\n",
    "for ii, ijk in enumerate(address_aug.values()):\n",
    "    if ijk is None:\n",
    "        continue\n",
    "    i, j, k = ijk\n",
    "    deg_runs[i, j, k] = deg[ii]\n",
    "\n",
    "_ = save_obj(\n",
    "    obj=deg_runs,\n",
    "    file_name='run_deg',\n",
    "    save_dir=self.path,\n",
    "    verbose=True,\n",
    "    mode='npy',\n",
    ")\n",
    "deg_runs.shape"
   ]
  },
  {
   "cell_type": "code",
   "execution_count": null,
   "id": "da947f7a",
   "metadata": {},
   "outputs": [],
   "source": []
  },
  {
   "cell_type": "code",
   "execution_count": 31,
   "id": "51899849",
   "metadata": {},
   "outputs": [],
   "source": [
    "for kk in range(3, 25):\n",
    "    props_ca['num_k'] = kk\n",
    "    self = Group(**props_ca)\n",
    "    if not self.fit_meta:\n",
    "        continue\n",
    "    _ = save_obj(\n",
    "        obj=deg_runs,\n",
    "        file_name='run_deg',\n",
    "        save_dir=self.path,\n",
    "        verbose=False,\n",
    "        mode='npy',\n",
    "    )"
   ]
  },
  {
   "cell_type": "code",
   "execution_count": null,
   "id": "f636f43e",
   "metadata": {},
   "outputs": [],
   "source": []
  },
  {
   "cell_type": "code",
   "execution_count": null,
   "id": "811a7282",
   "metadata": {},
   "outputs": [],
   "source": []
  },
  {
   "cell_type": "markdown",
   "id": "b6f0dfb5",
   "metadata": {},
   "source": [
    "## Test if it's correct"
   ]
  },
  {
   "cell_type": "code",
   "execution_count": 32,
   "id": "b105c3e7",
   "metadata": {},
   "outputs": [
    {
     "data": {
      "text/html": [
       "<pre style=\"white-space:pre;overflow-x:auto;line-height:normal;font-family:Menlo,'DejaVu Sans Mono',consolas,'Courier New',monospace\"><span style=\"color: #008080; text-decoration-color: #008080; font-weight: bold\">542</span>\n",
       "</pre>\n"
      ],
      "text/plain": [
       "\u001b[1;36m542\u001b[0m\n"
      ]
     },
     "metadata": {},
     "output_type": "display_data"
    }
   ],
   "source": [
    "nn = 512\n",
    "num_k = 7\n",
    "perc = 15\n",
    "mice = Mice(nn)\n",
    "bt_dict, props_bo, props_ca = default_props(mice, num_k, perc)\n",
    "bt = BootStrap(**props_ca)\n",
    "pal = prepare_palette()\n",
    "\n",
    "n_nodes = len(mice.node_lookup['ca2'])\n",
    "n_nodes"
   ]
  },
  {
   "cell_type": "code",
   "execution_count": null,
   "id": "a463a1dc",
   "metadata": {},
   "outputs": [],
   "source": []
  },
  {
   "cell_type": "code",
   "execution_count": 36,
   "id": "68990d1a",
   "metadata": {},
   "outputs": [
    {
     "data": {
      "image/png": "[encoded data removed]"
     },
     "metadata": {},
     "output_type": "display_data"
    }
   ],
   "source": [
    "for mode, o in bt_dict.items():\n",
    "    sns.histplot(\n",
    "        data=o.run_deg[o.run_deg.nonzero()],\n",
    "        bins=np.linspace(5, 250, 50),\n",
    "        color=pal[mode],\n",
    "        label=mode,\n",
    "    )\n",
    "plt.legend()\n",
    "plt.show()"
   ]
  },
  {
   "cell_type": "code",
   "execution_count": null,
   "id": "703fdfaa",
   "metadata": {},
   "outputs": [],
   "source": []
  },
  {
   "cell_type": "code",
   "execution_count": 37,
   "id": "13901fc0",
   "metadata": {},
   "outputs": [
    {
     "data": {
      "image/png": "[encoded data removed]"
     },
     "metadata": {},
     "output_type": "display_data"
    }
   ],
   "source": [
    "for mode, o in bt_dict.items():\n",
    "    sns.kdeplot(\n",
    "        o.run_deg[o.run_deg.nonzero()],\n",
    "        color=pal[mode],\n",
    "        label=mode,\n",
    "    )\n",
    "plt.legend()\n",
    "plt.show()"
   ]
  },
  {
   "cell_type": "code",
   "execution_count": null,
   "id": "52f6849d",
   "metadata": {},
   "outputs": [],
   "source": []
  },
  {
   "cell_type": "code",
   "execution_count": null,
   "id": "7045b579",
   "metadata": {},
   "outputs": [],
   "source": []
  },
  {
   "cell_type": "code",
   "execution_count": null,
   "id": "66ae5aa5",
   "metadata": {},
   "outputs": [],
   "source": []
  },
  {
   "cell_type": "code",
   "execution_count": null,
   "id": "6cbb6f25",
   "metadata": {},
   "outputs": [],
   "source": []
  },
  {
   "cell_type": "code",
   "execution_count": null,
   "id": "56763f42",
   "metadata": {},
   "outputs": [],
   "source": []
  },
  {
   "cell_type": "code",
   "execution_count": null,
   "id": "c3fed224",
   "metadata": {},
   "outputs": [],
   "source": []
  },
  {
   "cell_type": "code",
   "execution_count": null,
   "id": "d9254f4e",
   "metadata": {},
   "outputs": [],
   "source": []
  },
  {
   "cell_type": "code",
   "execution_count": null,
   "id": "8a864147",
   "metadata": {},
   "outputs": [],
   "source": []
  }
 ],
 "metadata": {
  "kernelspec": {
   "display_name": "Python 3 (ipykernel)",
   "language": "python",
   "name": "python3"
  },
  "language_info": {
   "codemirror_mode": {
    "name": "ipython",
    "version": 3
   },
   "file_extension": ".py",
   "mimetype": "text/x-python",
   "name": "python",
   "nbconvert_exporter": "python",
   "pygments_lexer": "ipython3",
   "version": "3.8.5"
  }
 },
 "nbformat": 4,
 "nbformat_minor": 5
}
