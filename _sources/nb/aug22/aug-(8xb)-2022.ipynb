{
 "cells": [
  {
   "cell_type": "markdown",
   "id": "6b59b292",
   "metadata": {},
   "source": [
    "# Aug ??, 2022 (cos sim 8 x conds: 512)\n",
    "\n",
    "**Motivation**:  <br>"
   ]
  },
  {
   "cell_type": "code",
   "execution_count": null,
   "id": "9226a550",
   "metadata": {
    "tags": [
     "hide-input"
    ]
   },
   "outputs": [],
   "source": [
    "# HIDE CODE\n",
    "\n",
    "\n",
    "import os\n",
    "import sys\n",
    "from pprint import pprint\n",
    "from copy import deepcopy as dc\n",
    "from os.path import join as pjoin\n",
    "from scipy.ndimage import gaussian_filter\n",
    "from IPython.display import display, IFrame, HTML\n",
    "\n",
    "# tmp & extras dir\n",
    "git_dir = pjoin(os.environ['HOME'], 'Dropbox/git')\n",
    "extras_dir = pjoin(git_dir, 'jb-Ca-fMRI/_extras')\n",
    "fig_base_dir = pjoin(git_dir, 'jb-Ca-fMRI/figs')\n",
    "tmp_dir = pjoin(git_dir, 'jb-Ca-fMRI/tmp')\n",
    "\n",
    "# GitHub\n",
    "sys.path.insert(0, pjoin(git_dir, '_Ca-fMRI'))\n",
    "from figures.fighelper import *\n",
    "from analysis.final import *\n",
    "from utils.render import *\n",
    "\n",
    "# warnings, tqdm, & style\n",
    "warnings.filterwarnings('ignore', category=DeprecationWarning)\n",
    "from tqdm.notebook import tqdm\n",
    "%matplotlib inline\n",
    "set_style()"
   ]
  },
  {
   "cell_type": "markdown",
   "id": "2b5f2e20",
   "metadata": {},
   "source": [
    "## Fig dir"
   ]
  },
  {
   "cell_type": "code",
   "execution_count": null,
   "id": "0b32fdf3",
   "metadata": {},
   "outputs": [],
   "source": [
    "fig_dir = pjoin(fig_base_dir, 'paper2.0', '8x')\n",
    "os.makedirs(fig_dir, exist_ok=True)\n",
    "print(fig_dir)\n",
    "\n",
    "merge_thres = {\n",
    "    128: 0.376,\n",
    "    512: 0.444,\n",
    "}\n",
    "kws_fig = {\n",
    "    'transparent': True,\n",
    "    'bbox_inches': 'tight',\n",
    "    'dpi': 300,\n",
    "}"
   ]
  },
  {
   "cell_type": "markdown",
   "id": "77fb55b9",
   "metadata": {},
   "source": [
    "## Prepare (512)"
   ]
  },
  {
   "cell_type": "code",
   "execution_count": null,
   "id": "80e6ab6e",
   "metadata": {},
   "outputs": [],
   "source": [
    "nn = 512\n",
    "mice = Mice(nn)\n",
    "*_, props_ca = default_props(mice)\n",
    "bt = BootStrap(**props_ca)"
   ]
  },
  {
   "cell_type": "markdown",
   "id": "682ec52c",
   "metadata": {},
   "source": [
    "## Sim results (just show)"
   ]
  },
  {
   "cell_type": "code",
   "execution_count": null,
   "id": "6ac498bb",
   "metadata": {
    "scrolled": true
   },
   "outputs": [],
   "source": [
    "%%time\n",
    "looper = itertools.product([3, 7, 20], [10, 15, 20, 25])\n",
    "\n",
    "for num_k, perc in looper:\n",
    "    try:\n",
    "        results = similiarity_results(\n",
    "            mice=mice,\n",
    "            perc=perc,\n",
    "            num_k=num_k,\n",
    "            n_resamples=None,\n",
    "            merge_thres=merge_thres[nn]\n",
    "            if num_k == 7 else None,\n",
    "        )\n",
    "        print('-' * 25 + f\"    K = {num_k},  d = {perc}%    \" + '-' * 25)\n",
    "        _ = bt.show(results['pi_sorted'], **show_kws(num_k))\n",
    "        print('-' * 73)\n",
    "        print('\\n\\n')\n",
    "    except AttributeError:\n",
    "        continue"
   ]
  },
  {
   "cell_type": "code",
   "execution_count": null,
   "id": "5dcc934d",
   "metadata": {},
   "outputs": [],
   "source": [
    "num_k, perc"
   ]
  },
  {
   "cell_type": "code",
   "execution_count": null,
   "id": "bdafaa9e",
   "metadata": {},
   "outputs": [],
   "source": []
  },
  {
   "cell_type": "code",
   "execution_count": null,
   "id": "20d55d57",
   "metadata": {},
   "outputs": [],
   "source": []
  },
  {
   "cell_type": "markdown",
   "id": "4321a6dd",
   "metadata": {},
   "source": [
    "## Sim results (full)"
   ]
  },
  {
   "cell_type": "code",
   "execution_count": null,
   "id": "d9655adc",
   "metadata": {},
   "outputs": [],
   "source": [
    "from figures.fig_ocs import _scores_arr"
   ]
  },
  {
   "cell_type": "code",
   "execution_count": null,
   "id": "f9d95695",
   "metadata": {},
   "outputs": [],
   "source": [
    "%%time\n",
    "\n",
    "scores, std_err = {}, {}\n",
    "pvalue = np.zeros((3, 4))\n",
    "statistic = np.zeros((3, 4))\n",
    "for i, num_k in enumerate([3, 7, 20]):\n",
    "    res = {}\n",
    "    for j, perc in enumerate([10, 15, 20, 25]):\n",
    "        results = similiarity_results(\n",
    "            mice=mice,\n",
    "            perc=perc,\n",
    "            num_k=num_k,\n",
    "            n_resamples=int(1e2),\n",
    "            merge_thres=merge_thres[nn]\n",
    "            if num_k == 7 else None,\n",
    "        )\n",
    "        res[perc] = results\n",
    "        test = list(results['tests_overall'].values())[0]\n",
    "        pvalue[i, j] = test.pvalue\n",
    "        statistic[i, j] = test.statistic\n",
    "    s, e = _scores_arr(res, True)\n",
    "    scores[num_k] = s\n",
    "    std_err[num_k] = e"
   ]
  },
  {
   "cell_type": "code",
   "execution_count": null,
   "id": "796a09ee",
   "metadata": {},
   "outputs": [],
   "source": [
    "{k: v.shape for k, v in scores.items()}"
   ]
  },
  {
   "cell_type": "markdown",
   "id": "73fe4f11",
   "metadata": {},
   "source": [
    "shape: anim x perc x cond"
   ]
  },
  {
   "cell_type": "code",
   "execution_count": null,
   "id": "8e9f86ee",
   "metadata": {},
   "outputs": [],
   "source": [
    "{k: v.shape for k, v in std_err.items()}"
   ]
  },
  {
   "cell_type": "markdown",
   "id": "bacdf7ec",
   "metadata": {},
   "source": [
    "shape: perc x cond"
   ]
  },
  {
   "cell_type": "code",
   "execution_count": null,
   "id": "f507dba9",
   "metadata": {},
   "outputs": [],
   "source": []
  },
  {
   "cell_type": "code",
   "execution_count": null,
   "id": "6901ba68",
   "metadata": {},
   "outputs": [],
   "source": [
    "statistic.mean(0)"
   ]
  },
  {
   "cell_type": "code",
   "execution_count": null,
   "id": "5635d822",
   "metadata": {},
   "outputs": [],
   "source": [
    "pvalue"
   ]
  },
  {
   "cell_type": "code",
   "execution_count": null,
   "id": "2014f13a",
   "metadata": {},
   "outputs": [],
   "source": [
    "multipletests(pvalue.ravel(), method='bonferroni')"
   ]
  },
  {
   "cell_type": "code",
   "execution_count": null,
   "id": "e8385f04",
   "metadata": {},
   "outputs": [],
   "source": []
  },
  {
   "cell_type": "markdown",
   "id": "d557ab95",
   "metadata": {},
   "source": [
    "## Save"
   ]
  },
  {
   "cell_type": "code",
   "execution_count": null,
   "id": "5d1bd6ea",
   "metadata": {},
   "outputs": [],
   "source": [
    "final = {\n",
    "    'pvalue': pvalue,\n",
    "    'statistic': statistic,\n",
    "    'scores_dict': scores,\n",
    "    'std_err_dict': std_err,\n",
    "}\n",
    "np.save(pjoin(fig_dir, f'4x_n{nn}.npy'), final)"
   ]
  },
  {
   "cell_type": "code",
   "execution_count": null,
   "id": "8826570a",
   "metadata": {},
   "outputs": [],
   "source": []
  },
  {
   "cell_type": "code",
   "execution_count": null,
   "id": "066b54ba",
   "metadata": {},
   "outputs": [],
   "source": []
  },
  {
   "cell_type": "code",
   "execution_count": null,
   "id": "8a864147",
   "metadata": {},
   "outputs": [],
   "source": []
  }
 ],
 "metadata": {
  "kernelspec": {
   "display_name": "Python 3 (ipykernel)",
   "language": "python",
   "name": "python3"
  },
  "language_info": {
   "codemirror_mode": {
    "name": "ipython",
    "version": 3
   },
   "file_extension": ".py",
   "mimetype": "text/x-python",
   "name": "python",
   "nbconvert_exporter": "python",
   "pygments_lexer": "ipython3",
   "version": "3.8.5"
  }
 },
 "nbformat": 4,
 "nbformat_minor": 5
}
