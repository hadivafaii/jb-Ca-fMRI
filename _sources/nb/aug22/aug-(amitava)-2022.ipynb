{
 "cells": [
  {
   "cell_type": "markdown",
   "id": "6b59b292",
   "metadata": {},
   "source": [
    "# Aug ??, 2022 ()\n",
    "\n",
    "**Motivation**:  <br>"
   ]
  },
  {
   "cell_type": "code",
   "execution_count": 1,
   "id": "9226a550",
   "metadata": {
    "tags": [
     "hide-input"
    ]
   },
   "outputs": [],
   "source": [
    "# HIDE CODE\n",
    "\n",
    "\n",
    "import os\n",
    "import sys\n",
    "from pprint import pprint\n",
    "from copy import deepcopy as dc\n",
    "from os.path import join as pjoin\n",
    "from scipy.ndimage import gaussian_filter\n",
    "from IPython.display import display, IFrame, HTML\n",
    "\n",
    "# tmp & extras dir\n",
    "git_dir = pjoin(os.environ['HOME'], 'Dropbox/git')\n",
    "extras_dir = pjoin(git_dir, 'jb-Ca-fMRI/_extras')\n",
    "fig_base_dir = pjoin(git_dir, 'jb-Ca-fMRI/figs')\n",
    "tmp_dir = pjoin(git_dir, 'jb-Ca-fMRI/tmp')\n",
    "\n",
    "# GitHub\n",
    "sys.path.insert(0, pjoin(git_dir, '_Ca-fMRI'))\n",
    "from figures.fighelper import *\n",
    "from analysis.final import *\n",
    "from utils.render import *\n",
    "\n",
    "# warnings, tqdm, & style\n",
    "warnings.filterwarnings('ignore', category=DeprecationWarning)\n",
    "from tqdm.notebook import tqdm\n",
    "%matplotlib inline\n",
    "set_style()"
   ]
  },
  {
   "cell_type": "code",
   "execution_count": 2,
   "id": "80e6ab6e",
   "metadata": {},
   "outputs": [],
   "source": [
    "nn = 512\n",
    "mice = Mice(nn)"
   ]
  },
  {
   "cell_type": "code",
   "execution_count": null,
   "id": "ca6f7593",
   "metadata": {},
   "outputs": [],
   "source": []
  },
  {
   "cell_type": "code",
   "execution_count": 4,
   "id": "434a778d",
   "metadata": {
    "collapsed": true
   },
   "outputs": [
    {
     "data": {
      "text/html": [
       "<pre style=\"white-space:pre;overflow-x:auto;line-height:normal;font-family:Menlo,'DejaVu Sans Mono',consolas,'Courier New',monospace\">Parcellation not found, initiating fit\n",
       "</pre>\n"
      ],
      "text/plain": [
       "Parcellation not found, initiating fit\n"
      ]
     },
     "metadata": {},
     "output_type": "display_data"
    },
    {
     "data": {
      "text/html": [
       "<pre style=\"white-space:pre;overflow-x:auto;line-height:normal;font-family:Menlo,'DejaVu Sans Mono',consolas,'Courier New',monospace\"><span style=\"font-weight: bold\">[</span>PROGRESS<span style=\"font-weight: bold\">]</span> fit columnar: initiated\n",
       "</pre>\n"
      ],
      "text/plain": [
       "\u001b[1m[\u001b[0mPROGRESS\u001b[1m]\u001b[0m fit columnar: initiated\n"
      ]
     },
     "metadata": {},
     "output_type": "display_data"
    },
    {
     "name": "stderr",
     "output_type": "stream",
     "text": [
      "Intel(R) Extension for Scikit-learn* enabled (https://github.com/intel/scikit-learn-intelex)\n"
     ]
    },
    {
     "data": {
      "text/html": [
       "<pre style=\"white-space:pre;overflow-x:auto;line-height:normal;font-family:Menlo,'DejaVu Sans Mono',consolas,'Courier New',monospace\"><span style=\"font-weight: bold\">[</span>PROGRESS<span style=\"font-weight: bold\">]</span> kmeans fit: done\n",
       "</pre>\n"
      ],
      "text/plain": [
       "\u001b[1m[\u001b[0mPROGRESS\u001b[1m]\u001b[0m kmeans fit: done\n"
      ]
     },
     "metadata": {},
     "output_type": "display_data"
    },
    {
     "data": {
      "text/html": [
       "<pre style=\"white-space:pre;overflow-x:auto;line-height:normal;font-family:Menlo,'DejaVu Sans Mono',consolas,'Courier New',monospace\"><span style=\"font-weight: bold\">[</span>PROGRESS<span style=\"font-weight: bold\">]</span> save 2D 10um: done\n",
       "</pre>\n"
      ],
      "text/plain": [
       "\u001b[1m[\u001b[0mPROGRESS\u001b[1m]\u001b[0m save 2D 10um: done\n"
      ]
     },
     "metadata": {},
     "output_type": "display_data"
    },
    {
     "data": {
      "text/html": [
       "<pre style=\"white-space:pre;overflow-x:auto;line-height:normal;font-family:Menlo,'DejaVu Sans Mono',consolas,'Courier New',monospace\"><span style=\"font-weight: bold\">[</span>PROGRESS<span style=\"font-weight: bold\">]</span> 2d --&gt; 3d: done\n",
       "</pre>\n"
      ],
      "text/plain": [
       "\u001b[1m[\u001b[0mPROGRESS\u001b[1m]\u001b[0m 2d --> 3d: done\n"
      ]
     },
     "metadata": {},
     "output_type": "display_data"
    },
    {
     "data": {
      "text/html": [
       "<pre style=\"white-space:pre;overflow-x:auto;line-height:normal;font-family:Menlo,'DejaVu Sans Mono',consolas,'Courier New',monospace\"><span style=\"font-weight: bold\">[</span>PROGRESS<span style=\"font-weight: bold\">]</span> save 3D 10um: done\n",
       "</pre>\n"
      ],
      "text/plain": [
       "\u001b[1m[\u001b[0mPROGRESS\u001b[1m]\u001b[0m save 3D 10um: done\n"
      ]
     },
     "metadata": {},
     "output_type": "display_data"
    },
    {
     "data": {
      "text/html": [
       "<pre style=\"white-space:pre;overflow-x:auto;line-height:normal;font-family:Menlo,'DejaVu Sans Mono',consolas,'Courier New',monospace\"><span style=\"font-weight: bold\">[</span>PROGRESS<span style=\"font-weight: bold\">]</span> downsample: done\n",
       "</pre>\n"
      ],
      "text/plain": [
       "\u001b[1m[\u001b[0mPROGRESS\u001b[1m]\u001b[0m downsample: done\n"
      ]
     },
     "metadata": {},
     "output_type": "display_data"
    },
    {
     "data": {
      "text/html": [
       "<pre style=\"white-space:pre;overflow-x:auto;line-height:normal;font-family:Menlo,'DejaVu Sans Mono',consolas,'Courier New',monospace\">Warning! missing regions:\n",
       "<span style=\"color: #008000; text-decoration-color: #008000\">'[1431, 2931, 2951, 2967]'</span>\n",
       "</pre>\n"
      ],
      "text/plain": [
       "Warning! missing regions:\n",
       "\u001b[32m'\u001b[0m\u001b[32m[\u001b[0m\u001b[32m1431, 2931, 2951, 2967\u001b[0m\u001b[32m]\u001b[0m\u001b[32m'\u001b[0m\n"
      ]
     },
     "metadata": {},
     "output_type": "display_data"
    },
    {
     "data": {
      "text/html": [
       "<pre style=\"white-space:pre;overflow-x:auto;line-height:normal;font-family:Menlo,'DejaVu Sans Mono',consolas,'Courier New',monospace\">num regions,    left: <span style=\"color: #008080; text-decoration-color: #008080; font-weight: bold\">1533</span>,  right: <span style=\"color: #008080; text-decoration-color: #008080; font-weight: bold\">1533</span>\n",
       "region id diff,         r - l:  <span style=\"color: #800080; text-decoration-color: #800080; font-weight: bold\">Counter</span><span style=\"font-weight: bold\">({</span><span style=\"color: #008080; text-decoration-color: #008080; font-weight: bold\">1536</span>: <span style=\"color: #008080; text-decoration-color: #008080; font-weight: bold\">1533</span><span style=\"font-weight: bold\">})</span>\n",
       "\n",
       "</pre>\n"
      ],
      "text/plain": [
       "num regions,    left: \u001b[1;36m1533\u001b[0m,  right: \u001b[1;36m1533\u001b[0m\n",
       "region id diff,         r - l:  \u001b[1;35mCounter\u001b[0m\u001b[1m(\u001b[0m\u001b[1m{\u001b[0m\u001b[1;36m1536\u001b[0m: \u001b[1;36m1533\u001b[0m\u001b[1m}\u001b[0m\u001b[1m)\u001b[0m\n",
       "\n"
      ]
     },
     "metadata": {},
     "output_type": "display_data"
    },
    {
     "data": {
      "text/html": [
       "<pre style=\"white-space:pre;overflow-x:auto;line-height:normal;font-family:Menlo,'DejaVu Sans Mono',consolas,'Courier New',monospace\"><span style=\"font-weight: bold\">[</span>PROGRESS<span style=\"font-weight: bold\">]</span> fit columnar: done\n",
       "</pre>\n"
      ],
      "text/plain": [
       "\u001b[1m[\u001b[0mPROGRESS\u001b[1m]\u001b[0m fit columnar: done\n"
      ]
     },
     "metadata": {},
     "output_type": "display_data"
    },
    {
     "data": {
      "text/html": [
       "<pre style=\"white-space:pre;overflow-x:auto;line-height:normal;font-family:Menlo,'DejaVu Sans Mono',consolas,'Courier New',monospace\"><span style=\"font-weight: bold\">[</span>PROGRESS<span style=\"font-weight: bold\">]</span> <span style=\"color: #008000; text-decoration-color: #008000\">'cols_100um.npy'</span> saved at\n",
       "<span style=\"color: #800080; text-decoration-color: #800080\">/home/hadi/Documents/Ca-fMRI/processed/</span><span style=\"color: #ff00ff; text-decoration-color: #ff00ff\">norm-global_parcel-columnar_n-512</span>*<span style=\"color: #008080; text-decoration-color: #008080; font-weight: bold\">3</span>/parcellation\n",
       "</pre>\n"
      ],
      "text/plain": [
       "\u001b[1m[\u001b[0mPROGRESS\u001b[1m]\u001b[0m \u001b[32m'cols_100um.npy'\u001b[0m saved at\n",
       "\u001b[35m/home/hadi/Documents/Ca-fMRI/processed/\u001b[0m\u001b[95mnorm-global_parcel-columnar_n-512\u001b[0m*\u001b[1;36m3\u001b[0m/parcellation\n"
      ]
     },
     "metadata": {},
     "output_type": "display_data"
    },
    {
     "data": {
      "text/html": [
       "<pre style=\"white-space:pre;overflow-x:auto;line-height:normal;font-family:Menlo,'DejaVu Sans Mono',consolas,'Courier New',monospace\"><span style=\"font-weight: bold\">[</span>PROGRESS<span style=\"font-weight: bold\">]</span> <span style=\"color: #008000; text-decoration-color: #008000\">'cortex_100um.npy'</span> saved at\n",
       "<span style=\"color: #800080; text-decoration-color: #800080\">/home/hadi/Documents/Ca-fMRI/processed/</span><span style=\"color: #ff00ff; text-decoration-color: #ff00ff\">norm-global_parcel-columnar_n-512</span>*<span style=\"color: #008080; text-decoration-color: #008080; font-weight: bold\">3</span>/parcellation\n",
       "</pre>\n"
      ],
      "text/plain": [
       "\u001b[1m[\u001b[0mPROGRESS\u001b[1m]\u001b[0m \u001b[32m'cortex_100um.npy'\u001b[0m saved at\n",
       "\u001b[35m/home/hadi/Documents/Ca-fMRI/processed/\u001b[0m\u001b[95mnorm-global_parcel-columnar_n-512\u001b[0m*\u001b[1;36m3\u001b[0m/parcellation\n"
      ]
     },
     "metadata": {},
     "output_type": "display_data"
    },
    {
     "data": {
      "text/html": [
       "<pre style=\"white-space:pre;overflow-x:auto;line-height:normal;font-family:Menlo,'DejaVu Sans Mono',consolas,'Courier New',monospace\"><span style=\"font-weight: bold\">[</span>PROGRESS<span style=\"font-weight: bold\">]</span> <span style=\"color: #008000; text-decoration-color: #008000\">'cortex-top_100um.npy'</span> saved at\n",
       "<span style=\"color: #800080; text-decoration-color: #800080\">/home/hadi/Documents/Ca-fMRI/processed/</span><span style=\"color: #ff00ff; text-decoration-color: #ff00ff\">norm-global_parcel-columnar_n-512</span>*<span style=\"color: #008080; text-decoration-color: #008080; font-weight: bold\">3</span>/parcellation\n",
       "</pre>\n"
      ],
      "text/plain": [
       "\u001b[1m[\u001b[0mPROGRESS\u001b[1m]\u001b[0m \u001b[32m'cortex-top_100um.npy'\u001b[0m saved at\n",
       "\u001b[35m/home/hadi/Documents/Ca-fMRI/processed/\u001b[0m\u001b[95mnorm-global_parcel-columnar_n-512\u001b[0m*\u001b[1;36m3\u001b[0m/parcellation\n"
      ]
     },
     "metadata": {},
     "output_type": "display_data"
    },
    {
     "data": {
      "text/html": [
       "<pre style=\"white-space:pre;overflow-x:auto;line-height:normal;font-family:Menlo,'DejaVu Sans Mono',consolas,'Courier New',monospace\"><span style=\"font-weight: bold\">[</span>PROGRESS<span style=\"font-weight: bold\">]</span> <span style=\"color: #008000; text-decoration-color: #008000\">'subcortex_100um.npy'</span> saved at\n",
       "<span style=\"color: #800080; text-decoration-color: #800080\">/home/hadi/Documents/Ca-fMRI/processed/</span><span style=\"color: #ff00ff; text-decoration-color: #ff00ff\">norm-global_parcel-columnar_n-512</span>*<span style=\"color: #008080; text-decoration-color: #008080; font-weight: bold\">3</span>/parcellation\n",
       "</pre>\n"
      ],
      "text/plain": [
       "\u001b[1m[\u001b[0mPROGRESS\u001b[1m]\u001b[0m \u001b[32m'subcortex_100um.npy'\u001b[0m saved at\n",
       "\u001b[35m/home/hadi/Documents/Ca-fMRI/processed/\u001b[0m\u001b[95mnorm-global_parcel-columnar_n-512\u001b[0m*\u001b[1;36m3\u001b[0m/parcellation\n"
      ]
     },
     "metadata": {},
     "output_type": "display_data"
    },
    {
     "data": {
      "text/html": [
       "<pre style=\"white-space:pre;overflow-x:auto;line-height:normal;font-family:Menlo,'DejaVu Sans Mono',consolas,'Courier New',monospace\"><span style=\"font-weight: bold\">[</span>PROGRESS<span style=\"font-weight: bold\">]</span> <span style=\"color: #008000; text-decoration-color: #008000\">'subcortex-l_100um.npy'</span> saved at\n",
       "<span style=\"color: #800080; text-decoration-color: #800080\">/home/hadi/Documents/Ca-fMRI/processed/</span><span style=\"color: #ff00ff; text-decoration-color: #ff00ff\">norm-global_parcel-columnar_n-512</span>*<span style=\"color: #008080; text-decoration-color: #008080; font-weight: bold\">3</span>/parcellation\n",
       "</pre>\n"
      ],
      "text/plain": [
       "\u001b[1m[\u001b[0mPROGRESS\u001b[1m]\u001b[0m \u001b[32m'subcortex-l_100um.npy'\u001b[0m saved at\n",
       "\u001b[35m/home/hadi/Documents/Ca-fMRI/processed/\u001b[0m\u001b[95mnorm-global_parcel-columnar_n-512\u001b[0m*\u001b[1;36m3\u001b[0m/parcellation\n"
      ]
     },
     "metadata": {},
     "output_type": "display_data"
    },
    {
     "data": {
      "text/html": [
       "<pre style=\"white-space:pre;overflow-x:auto;line-height:normal;font-family:Menlo,'DejaVu Sans Mono',consolas,'Courier New',monospace\"><span style=\"font-weight: bold\">[</span>PROGRESS<span style=\"font-weight: bold\">]</span> <span style=\"color: #008000; text-decoration-color: #008000\">'subcortex-r_100um.npy'</span> saved at\n",
       "<span style=\"color: #800080; text-decoration-color: #800080\">/home/hadi/Documents/Ca-fMRI/processed/</span><span style=\"color: #ff00ff; text-decoration-color: #ff00ff\">norm-global_parcel-columnar_n-512</span>*<span style=\"color: #008080; text-decoration-color: #008080; font-weight: bold\">3</span>/parcellation\n",
       "</pre>\n"
      ],
      "text/plain": [
       "\u001b[1m[\u001b[0mPROGRESS\u001b[1m]\u001b[0m \u001b[32m'subcortex-r_100um.npy'\u001b[0m saved at\n",
       "\u001b[35m/home/hadi/Documents/Ca-fMRI/processed/\u001b[0m\u001b[95mnorm-global_parcel-columnar_n-512\u001b[0m*\u001b[1;36m3\u001b[0m/parcellation\n"
      ]
     },
     "metadata": {},
     "output_type": "display_data"
    },
    {
     "data": {
      "text/html": [
       "<pre style=\"white-space:pre;overflow-x:auto;line-height:normal;font-family:Menlo,'DejaVu Sans Mono',consolas,'Courier New',monospace\"><span style=\"font-weight: bold\">[</span>PROGRESS<span style=\"font-weight: bold\">]</span> <span style=\"color: #008000; text-decoration-color: #008000\">'regions-top_100um.npy'</span> saved at\n",
       "<span style=\"color: #800080; text-decoration-color: #800080\">/home/hadi/Documents/Ca-fMRI/processed/</span><span style=\"color: #ff00ff; text-decoration-color: #ff00ff\">norm-global_parcel-columnar_n-512</span>*<span style=\"color: #008080; text-decoration-color: #008080; font-weight: bold\">3</span>/parcellation\n",
       "</pre>\n"
      ],
      "text/plain": [
       "\u001b[1m[\u001b[0mPROGRESS\u001b[1m]\u001b[0m \u001b[32m'regions-top_100um.npy'\u001b[0m saved at\n",
       "\u001b[35m/home/hadi/Documents/Ca-fMRI/processed/\u001b[0m\u001b[95mnorm-global_parcel-columnar_n-512\u001b[0m*\u001b[1;36m3\u001b[0m/parcellation\n"
      ]
     },
     "metadata": {},
     "output_type": "display_data"
    },
    {
     "data": {
      "text/html": [
       "<pre style=\"white-space:pre;overflow-x:auto;line-height:normal;font-family:Menlo,'DejaVu Sans Mono',consolas,'Courier New',monospace\"><span style=\"font-weight: bold\">[</span>PROGRESS<span style=\"font-weight: bold\">]</span> <span style=\"color: #008000; text-decoration-color: #008000\">'regions-cortex_100um.npy'</span> saved at\n",
       "<span style=\"color: #800080; text-decoration-color: #800080\">/home/hadi/Documents/Ca-fMRI/processed/</span><span style=\"color: #ff00ff; text-decoration-color: #ff00ff\">norm-global_parcel-columnar_n-512</span>*<span style=\"color: #008080; text-decoration-color: #008080; font-weight: bold\">3</span>/parcellation\n",
       "</pre>\n"
      ],
      "text/plain": [
       "\u001b[1m[\u001b[0mPROGRESS\u001b[1m]\u001b[0m \u001b[32m'regions-cortex_100um.npy'\u001b[0m saved at\n",
       "\u001b[35m/home/hadi/Documents/Ca-fMRI/processed/\u001b[0m\u001b[95mnorm-global_parcel-columnar_n-512\u001b[0m*\u001b[1;36m3\u001b[0m/parcellation\n"
      ]
     },
     "metadata": {},
     "output_type": "display_data"
    },
    {
     "data": {
      "text/html": [
       "<pre style=\"white-space:pre;overflow-x:auto;line-height:normal;font-family:Menlo,'DejaVu Sans Mono',consolas,'Courier New',monospace\"><span style=\"font-weight: bold\">[</span>PROGRESS<span style=\"font-weight: bold\">]</span> <span style=\"color: #008000; text-decoration-color: #008000\">'nonzero-idxs_parcel2d-flat_100um.npy'</span> saved at\n",
       "<span style=\"color: #800080; text-decoration-color: #800080\">/home/hadi/Documents/Ca-fMRI/processed/</span><span style=\"color: #ff00ff; text-decoration-color: #ff00ff\">norm-global_parcel-columnar_n-512</span>*<span style=\"color: #008080; text-decoration-color: #008080; font-weight: bold\">3</span>/parcellation\n",
       "</pre>\n"
      ],
      "text/plain": [
       "\u001b[1m[\u001b[0mPROGRESS\u001b[1m]\u001b[0m \u001b[32m'nonzero-idxs_parcel2d-flat_100um.npy'\u001b[0m saved at\n",
       "\u001b[35m/home/hadi/Documents/Ca-fMRI/processed/\u001b[0m\u001b[95mnorm-global_parcel-columnar_n-512\u001b[0m*\u001b[1;36m3\u001b[0m/parcellation\n"
      ]
     },
     "metadata": {},
     "output_type": "display_data"
    },
    {
     "data": {
      "text/html": [
       "<pre style=\"white-space:pre;overflow-x:auto;line-height:normal;font-family:Menlo,'DejaVu Sans Mono',consolas,'Courier New',monospace\"><span style=\"font-weight: bold\">[</span>PROGRESS<span style=\"font-weight: bold\">]</span> <span style=\"color: #008000; text-decoration-color: #008000\">'nonzero-idxs_parcel2d-top_100um.npy'</span> saved at\n",
       "<span style=\"color: #800080; text-decoration-color: #800080\">/home/hadi/Documents/Ca-fMRI/processed/</span><span style=\"color: #ff00ff; text-decoration-color: #ff00ff\">norm-global_parcel-columnar_n-512</span>*<span style=\"color: #008080; text-decoration-color: #008080; font-weight: bold\">3</span>/parcellation\n",
       "</pre>\n"
      ],
      "text/plain": [
       "\u001b[1m[\u001b[0mPROGRESS\u001b[1m]\u001b[0m \u001b[32m'nonzero-idxs_parcel2d-top_100um.npy'\u001b[0m saved at\n",
       "\u001b[35m/home/hadi/Documents/Ca-fMRI/processed/\u001b[0m\u001b[95mnorm-global_parcel-columnar_n-512\u001b[0m*\u001b[1;36m3\u001b[0m/parcellation\n"
      ]
     },
     "metadata": {},
     "output_type": "display_data"
    },
    {
     "data": {
      "text/html": [
       "<pre style=\"white-space:pre;overflow-x:auto;line-height:normal;font-family:Menlo,'DejaVu Sans Mono',consolas,'Courier New',monospace\"><span style=\"font-weight: bold\">[</span>PROGRESS<span style=\"font-weight: bold\">]</span> <span style=\"color: #008000; text-decoration-color: #008000\">'nonzero-idxs_parcel3d_100um.npy'</span> saved at\n",
       "<span style=\"color: #800080; text-decoration-color: #800080\">/home/hadi/Documents/Ca-fMRI/processed/</span><span style=\"color: #ff00ff; text-decoration-color: #ff00ff\">norm-global_parcel-columnar_n-512</span>*<span style=\"color: #008080; text-decoration-color: #008080; font-weight: bold\">3</span>/parcellation\n",
       "</pre>\n"
      ],
      "text/plain": [
       "\u001b[1m[\u001b[0mPROGRESS\u001b[1m]\u001b[0m \u001b[32m'nonzero-idxs_parcel3d_100um.npy'\u001b[0m saved at\n",
       "\u001b[35m/home/hadi/Documents/Ca-fMRI/processed/\u001b[0m\u001b[95mnorm-global_parcel-columnar_n-512\u001b[0m*\u001b[1;36m3\u001b[0m/parcellation\n"
      ]
     },
     "metadata": {},
     "output_type": "display_data"
    },
    {
     "data": {
      "text/html": [
       "<pre style=\"white-space:pre;overflow-x:auto;line-height:normal;font-family:Menlo,'DejaVu Sans Mono',consolas,'Courier New',monospace\"><span style=\"font-weight: bold\">[</span>PROGRESS<span style=\"font-weight: bold\">]</span> <span style=\"color: #008000; text-decoration-color: #008000\">'region-idxs_parcel2d-flat_100um.npy'</span> saved at\n",
       "<span style=\"color: #800080; text-decoration-color: #800080\">/home/hadi/Documents/Ca-fMRI/processed/</span><span style=\"color: #ff00ff; text-decoration-color: #ff00ff\">norm-global_parcel-columnar_n-512</span>*<span style=\"color: #008080; text-decoration-color: #008080; font-weight: bold\">3</span>/parcellation\n",
       "</pre>\n"
      ],
      "text/plain": [
       "\u001b[1m[\u001b[0mPROGRESS\u001b[1m]\u001b[0m \u001b[32m'region-idxs_parcel2d-flat_100um.npy'\u001b[0m saved at\n",
       "\u001b[35m/home/hadi/Documents/Ca-fMRI/processed/\u001b[0m\u001b[95mnorm-global_parcel-columnar_n-512\u001b[0m*\u001b[1;36m3\u001b[0m/parcellation\n"
      ]
     },
     "metadata": {},
     "output_type": "display_data"
    },
    {
     "data": {
      "text/html": [
       "<pre style=\"white-space:pre;overflow-x:auto;line-height:normal;font-family:Menlo,'DejaVu Sans Mono',consolas,'Courier New',monospace\"><span style=\"font-weight: bold\">[</span>PROGRESS<span style=\"font-weight: bold\">]</span> <span style=\"color: #008000; text-decoration-color: #008000\">'region-idxs_parcel2d-top_100um.npy'</span> saved at\n",
       "<span style=\"color: #800080; text-decoration-color: #800080\">/home/hadi/Documents/Ca-fMRI/processed/</span><span style=\"color: #ff00ff; text-decoration-color: #ff00ff\">norm-global_parcel-columnar_n-512</span>*<span style=\"color: #008080; text-decoration-color: #008080; font-weight: bold\">3</span>/parcellation\n",
       "</pre>\n"
      ],
      "text/plain": [
       "\u001b[1m[\u001b[0mPROGRESS\u001b[1m]\u001b[0m \u001b[32m'region-idxs_parcel2d-top_100um.npy'\u001b[0m saved at\n",
       "\u001b[35m/home/hadi/Documents/Ca-fMRI/processed/\u001b[0m\u001b[95mnorm-global_parcel-columnar_n-512\u001b[0m*\u001b[1;36m3\u001b[0m/parcellation\n"
      ]
     },
     "metadata": {},
     "output_type": "display_data"
    },
    {
     "data": {
      "text/html": [
       "<pre style=\"white-space:pre;overflow-x:auto;line-height:normal;font-family:Menlo,'DejaVu Sans Mono',consolas,'Courier New',monospace\"><span style=\"font-weight: bold\">[</span>PROGRESS<span style=\"font-weight: bold\">]</span> <span style=\"color: #008000; text-decoration-color: #008000\">'region-idxs_parcel3d_100um.npy'</span> saved at\n",
       "<span style=\"color: #800080; text-decoration-color: #800080\">/home/hadi/Documents/Ca-fMRI/processed/</span><span style=\"color: #ff00ff; text-decoration-color: #ff00ff\">norm-global_parcel-columnar_n-512</span>*<span style=\"color: #008080; text-decoration-color: #008080; font-weight: bold\">3</span>/parcellation\n",
       "</pre>\n"
      ],
      "text/plain": [
       "\u001b[1m[\u001b[0mPROGRESS\u001b[1m]\u001b[0m \u001b[32m'region-idxs_parcel3d_100um.npy'\u001b[0m saved at\n",
       "\u001b[35m/home/hadi/Documents/Ca-fMRI/processed/\u001b[0m\u001b[95mnorm-global_parcel-columnar_n-512\u001b[0m*\u001b[1;36m3\u001b[0m/parcellation\n"
      ]
     },
     "metadata": {},
     "output_type": "display_data"
    },
    {
     "data": {
      "text/html": [
       "<pre style=\"white-space:pre;overflow-x:auto;line-height:normal;font-family:Menlo,'DejaVu Sans Mono',consolas,'Courier New',monospace\"><span style=\"font-weight: bold\">[</span>PROGRESS<span style=\"font-weight: bold\">]</span> <span style=\"color: #008000; text-decoration-color: #008000\">'shape_parcel2d-flat_100um.npy'</span> saved at\n",
       "<span style=\"color: #800080; text-decoration-color: #800080\">/home/hadi/Documents/Ca-fMRI/processed/</span><span style=\"color: #ff00ff; text-decoration-color: #ff00ff\">norm-global_parcel-columnar_n-512</span>*<span style=\"color: #008080; text-decoration-color: #008080; font-weight: bold\">3</span>/parcellation\n",
       "</pre>\n"
      ],
      "text/plain": [
       "\u001b[1m[\u001b[0mPROGRESS\u001b[1m]\u001b[0m \u001b[32m'shape_parcel2d-flat_100um.npy'\u001b[0m saved at\n",
       "\u001b[35m/home/hadi/Documents/Ca-fMRI/processed/\u001b[0m\u001b[95mnorm-global_parcel-columnar_n-512\u001b[0m*\u001b[1;36m3\u001b[0m/parcellation\n"
      ]
     },
     "metadata": {},
     "output_type": "display_data"
    },
    {
     "data": {
      "text/html": [
       "<pre style=\"white-space:pre;overflow-x:auto;line-height:normal;font-family:Menlo,'DejaVu Sans Mono',consolas,'Courier New',monospace\"><span style=\"font-weight: bold\">[</span>PROGRESS<span style=\"font-weight: bold\">]</span> <span style=\"color: #008000; text-decoration-color: #008000\">'shape_parcel2d-top_100um.npy'</span> saved at\n",
       "<span style=\"color: #800080; text-decoration-color: #800080\">/home/hadi/Documents/Ca-fMRI/processed/</span><span style=\"color: #ff00ff; text-decoration-color: #ff00ff\">norm-global_parcel-columnar_n-512</span>*<span style=\"color: #008080; text-decoration-color: #008080; font-weight: bold\">3</span>/parcellation\n",
       "</pre>\n"
      ],
      "text/plain": [
       "\u001b[1m[\u001b[0mPROGRESS\u001b[1m]\u001b[0m \u001b[32m'shape_parcel2d-top_100um.npy'\u001b[0m saved at\n",
       "\u001b[35m/home/hadi/Documents/Ca-fMRI/processed/\u001b[0m\u001b[95mnorm-global_parcel-columnar_n-512\u001b[0m*\u001b[1;36m3\u001b[0m/parcellation\n"
      ]
     },
     "metadata": {},
     "output_type": "display_data"
    },
    {
     "data": {
      "text/html": [
       "<pre style=\"white-space:pre;overflow-x:auto;line-height:normal;font-family:Menlo,'DejaVu Sans Mono',consolas,'Courier New',monospace\"><span style=\"font-weight: bold\">[</span>PROGRESS<span style=\"font-weight: bold\">]</span> <span style=\"color: #008000; text-decoration-color: #008000\">'shape_parcel3d_100um.npy'</span> saved at\n",
       "<span style=\"color: #800080; text-decoration-color: #800080\">/home/hadi/Documents/Ca-fMRI/processed/</span><span style=\"color: #ff00ff; text-decoration-color: #ff00ff\">norm-global_parcel-columnar_n-512</span>*<span style=\"color: #008080; text-decoration-color: #008080; font-weight: bold\">3</span>/parcellation\n",
       "</pre>\n"
      ],
      "text/plain": [
       "\u001b[1m[\u001b[0mPROGRESS\u001b[1m]\u001b[0m \u001b[32m'shape_parcel3d_100um.npy'\u001b[0m saved at\n",
       "\u001b[35m/home/hadi/Documents/Ca-fMRI/processed/\u001b[0m\u001b[95mnorm-global_parcel-columnar_n-512\u001b[0m*\u001b[1;36m3\u001b[0m/parcellation\n"
      ]
     },
     "metadata": {},
     "output_type": "display_data"
    },
    {
     "data": {
      "text/html": [
       "<pre style=\"white-space:pre;overflow-x:auto;line-height:normal;font-family:Menlo,'DejaVu Sans Mono',consolas,'Courier New',monospace\"><span style=\"font-weight: bold\">[</span>PROGRESS<span style=\"font-weight: bold\">]</span> save results: done.\n",
       "</pre>\n"
      ],
      "text/plain": [
       "\u001b[1m[\u001b[0mPROGRESS\u001b[1m]\u001b[0m save results: done.\n"
      ]
     },
     "metadata": {},
     "output_type": "display_data"
    },
    {
     "name": "stdout",
     "output_type": "stream",
     "text": [
      "CPU times: user 4h 21min 41s, sys: 41min 15s, total: 5h 2min 57s\n",
      "Wall time: 28min 18s\n"
     ]
    }
   ],
   "source": [
    "%%time\n",
    "\n",
    "# mice.parcel.fit_parcel()"
   ]
  },
  {
   "cell_type": "code",
   "execution_count": null,
   "id": "7751d529",
   "metadata": {},
   "outputs": [],
   "source": []
  },
  {
   "cell_type": "code",
   "execution_count": 4,
   "id": "d20e9d26",
   "metadata": {},
   "outputs": [
    {
     "name": "stdout",
     "output_type": "stream",
     "text": [
      "\n",
      "INSTALLED VERSIONS\n",
      "------------------\n",
      "commit           : 4bfe3d07b4858144c219b9346329027024102ab6\n",
      "python           : 3.8.5.final.0\n",
      "python-bits      : 64\n",
      "OS               : Linux\n",
      "OS-release       : 5.13.0-39-generic\n",
      "Version          : #44~20.04.1-Ubuntu SMP Thu Mar 24 16:43:35 UTC 2022\n",
      "machine          : x86_64\n",
      "processor        : x86_64\n",
      "byteorder        : little\n",
      "LC_ALL           : None\n",
      "LANG             : en_US.UTF-8\n",
      "LOCALE           : en_US.UTF-8\n",
      "\n",
      "pandas           : 1.4.2\n",
      "numpy            : 1.20.3\n",
      "pytz             : 2021.3\n",
      "dateutil         : 2.8.2\n",
      "pip              : 21.2.4\n",
      "setuptools       : 61.2.0\n",
      "Cython           : None\n",
      "pytest           : None\n",
      "hypothesis       : None\n",
      "sphinx           : None\n",
      "blosc            : None\n",
      "feather          : None\n",
      "xlsxwriter       : None\n",
      "lxml.etree       : None\n",
      "html5lib         : None\n",
      "pymysql          : None\n",
      "psycopg2         : 2.9.1\n",
      "jinja2           : 2.11.3\n",
      "IPython          : 8.3.0\n",
      "pandas_datareader: None\n",
      "bs4              : 4.11.1\n",
      "bottleneck       : 1.3.4\n",
      "brotli           : \n",
      "fastparquet      : None\n",
      "fsspec           : 2022.3.0\n",
      "gcsfs            : None\n",
      "markupsafe       : 2.0.1\n",
      "matplotlib       : 3.4.3\n",
      "numba            : None\n",
      "numexpr          : 2.8.1\n",
      "odfpy            : None\n",
      "openpyxl         : None\n",
      "pandas_gbq       : None\n",
      "pyarrow          : None\n",
      "pyreadstat       : None\n",
      "pyxlsb           : None\n",
      "s3fs             : None\n",
      "scipy            : 1.8.1\n",
      "snappy           : None\n",
      "sqlalchemy       : None\n",
      "tables           : 3.7.0\n",
      "tabulate         : None\n",
      "xarray           : 0.15.1\n",
      "xlrd             : None\n",
      "xlwt             : None\n",
      "zstandard        : None\n"
     ]
    }
   ],
   "source": [
    "pd.show_versions()"
   ]
  },
  {
   "cell_type": "code",
   "execution_count": null,
   "id": "486c1f20",
   "metadata": {},
   "outputs": [],
   "source": []
  },
  {
   "cell_type": "code",
   "execution_count": null,
   "id": "3e635ac6",
   "metadata": {},
   "outputs": [],
   "source": []
  },
  {
   "cell_type": "code",
   "execution_count": 8,
   "id": "3cccc2e4",
   "metadata": {},
   "outputs": [
    {
     "data": {
      "text/html": [
       "<pre style=\"white-space:pre;overflow-x:auto;line-height:normal;font-family:Menlo,'DejaVu Sans Mono',consolas,'Courier New',monospace\"><span style=\"font-weight: bold\">[</span><span style=\"color: #008000; text-decoration-color: #008000\">'ca2'</span>, <span style=\"color: #008000; text-decoration-color: #008000\">'bold'</span><span style=\"font-weight: bold\">]</span>\n",
       "</pre>\n"
      ],
      "text/plain": [
       "\u001b[1m[\u001b[0m\u001b[32m'ca2'\u001b[0m, \u001b[32m'bold'\u001b[0m\u001b[1m]\u001b[0m\n"
      ]
     },
     "metadata": {},
     "output_type": "display_data"
    }
   ],
   "source": [
    "list(mice.node_lookup)"
   ]
  },
  {
   "cell_type": "code",
   "execution_count": null,
   "id": "70ef831b",
   "metadata": {},
   "outputs": [],
   "source": []
  },
  {
   "cell_type": "code",
   "execution_count": 21,
   "id": "0022d593",
   "metadata": {},
   "outputs": [],
   "source": [
    "node_lookup = np.load(pjoin(tmp_dir, 'node_lookup_n512.npy'), allow_pickle=True).item()"
   ]
  },
  {
   "cell_type": "code",
   "execution_count": 22,
   "id": "e2eb16c7",
   "metadata": {},
   "outputs": [
    {
     "data": {
      "text/html": [
       "<pre style=\"white-space:pre;overflow-x:auto;line-height:normal;font-family:Menlo,'DejaVu Sans Mono',consolas,'Courier New',monospace\"><span style=\"color: #008080; text-decoration-color: #008080; font-weight: bold\">1</span>-<span style=\"color: #008080; text-decoration-color: #008080; font-weight: bold\">100</span>-<span style=\"color: #008080; text-decoration-color: #008080; font-weight: bold\">0</span>\n",
       "</pre>\n"
      ],
      "text/plain": [
       "\u001b[1;36m1\u001b[0m-\u001b[1;36m100\u001b[0m-\u001b[1;36m0\u001b[0m\n"
      ]
     },
     "metadata": {},
     "output_type": "display_data"
    }
   ],
   "source": [
    "i = 25\n",
    "print(node_lookup['ca2'][i])"
   ]
  },
  {
   "cell_type": "code",
   "execution_count": 23,
   "id": "31e9cdf1",
   "metadata": {},
   "outputs": [
    {
     "data": {
      "text/html": [
       "<pre style=\"white-space:pre;overflow-x:auto;line-height:normal;font-family:Menlo,'DejaVu Sans Mono',consolas,'Courier New',monospace\"><span style=\"color: #008080; text-decoration-color: #008080; font-weight: bold\">1</span>-<span style=\"color: #008080; text-decoration-color: #008080; font-weight: bold\">100</span>-<span style=\"color: #008080; text-decoration-color: #008080; font-weight: bold\">0</span>\n",
       "</pre>\n"
      ],
      "text/plain": [
       "\u001b[1;36m1\u001b[0m-\u001b[1;36m100\u001b[0m-\u001b[1;36m0\u001b[0m\n"
      ]
     },
     "metadata": {},
     "output_type": "display_data"
    }
   ],
   "source": [
    "j = 259\n",
    "print(node_lookup['bold'][j])"
   ]
  },
  {
   "cell_type": "code",
   "execution_count": null,
   "id": "e87596f5",
   "metadata": {},
   "outputs": [],
   "source": []
  },
  {
   "cell_type": "code",
   "execution_count": null,
   "id": "213aa81f",
   "metadata": {},
   "outputs": [],
   "source": []
  },
  {
   "cell_type": "code",
   "execution_count": null,
   "id": "8a864147",
   "metadata": {},
   "outputs": [],
   "source": []
  }
 ],
 "metadata": {
  "kernelspec": {
   "display_name": "Python 3 (ipykernel)",
   "language": "python",
   "name": "python3"
  },
  "language_info": {
   "codemirror_mode": {
    "name": "ipython",
    "version": 3
   },
   "file_extension": ".py",
   "mimetype": "text/x-python",
   "name": "python",
   "nbconvert_exporter": "python",
   "pygments_lexer": "ipython3",
   "version": "3.8.5"
  }
 },
 "nbformat": 4,
 "nbformat_minor": 5
}
