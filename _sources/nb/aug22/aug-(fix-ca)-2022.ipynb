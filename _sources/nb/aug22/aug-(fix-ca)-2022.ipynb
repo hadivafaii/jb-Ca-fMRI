{
 "cells": [
  {
   "cell_type": "markdown",
   "id": "6b59b292",
   "metadata": {},
   "source": [
    "# Aug ??, 2022 ()\n",
    "\n",
    "**Motivation**:  <br>"
   ]
  },
  {
   "cell_type": "code",
   "execution_count": 1,
   "id": "9226a550",
   "metadata": {
    "tags": [
     "hide-input"
    ]
   },
   "outputs": [],
   "source": [
    "# HIDE CODE\n",
    "\n",
    "\n",
    "import os\n",
    "import sys\n",
    "from pprint import pprint\n",
    "from copy import deepcopy as dc\n",
    "from os.path import join as pjoin\n",
    "from scipy.ndimage import gaussian_filter\n",
    "from IPython.display import display, IFrame, HTML\n",
    "\n",
    "# tmp & extras dir\n",
    "git_dir = pjoin(os.environ['HOME'], 'Dropbox/git')\n",
    "extras_dir = pjoin(git_dir, 'jb-Ca-fMRI/_extras')\n",
    "fig_base_dir = pjoin(git_dir, 'jb-Ca-fMRI/figs')\n",
    "tmp_dir = pjoin(git_dir, 'jb-Ca-fMRI/tmp')\n",
    "\n",
    "# GitHub\n",
    "sys.path.insert(0, pjoin(git_dir, '_Ca-fMRI'))\n",
    "from figures.fighelper import *\n",
    "from analysis.final import *\n",
    "from utils.render import *\n",
    "\n",
    "# warnings, tqdm, & style\n",
    "warnings.filterwarnings('ignore', category=DeprecationWarning)\n",
    "from tqdm.notebook import tqdm\n",
    "%matplotlib inline\n",
    "set_style()"
   ]
  },
  {
   "cell_type": "code",
   "execution_count": 2,
   "id": "80e6ab6e",
   "metadata": {},
   "outputs": [
    {
     "data": {
      "text/html": [
       "<pre style=\"white-space:pre;overflow-x:auto;line-height:normal;font-family:Menlo,'DejaVu Sans Mono',consolas,'Courier New',monospace\">ROI lookup not found, time to run <span style=\"color: #800080; text-decoration-color: #800080; font-weight: bold\">organize_func</span><span style=\"font-weight: bold\">()</span> . . .\n",
       "</pre>\n"
      ],
      "text/plain": [
       "ROI lookup not found, time to run \u001b[1;35morganize_func\u001b[0m\u001b[1m(\u001b[0m\u001b[1m)\u001b[0m . . .\n"
      ]
     },
     "metadata": {},
     "output_type": "display_data"
    },
    {
     "data": {
      "text/html": [
       "<pre style=\"white-space:pre;overflow-x:auto;line-height:normal;font-family:Menlo,'DejaVu Sans Mono',consolas,'Courier New',monospace\">combine metadata not found, time to run <span style=\"color: #800080; text-decoration-color: #800080; font-weight: bold\">cat_data</span><span style=\"font-weight: bold\">()</span> . . .\n",
       "</pre>\n"
      ],
      "text/plain": [
       "combine metadata not found, time to run \u001b[1;35mcat_data\u001b[0m\u001b[1m(\u001b[0m\u001b[1m)\u001b[0m . . .\n"
      ]
     },
     "metadata": {},
     "output_type": "display_data"
    }
   ],
   "source": [
    "nn = 512\n",
    "mice = Mice(nn, full_load=True, load_parcel=True, load_allen=True)"
   ]
  },
  {
   "cell_type": "code",
   "execution_count": 3,
   "id": "c0c33f46",
   "metadata": {},
   "outputs": [
    {
     "data": {
      "text/html": [
       "<pre style=\"white-space:pre;overflow-x:auto;line-height:normal;font-family:Menlo,'DejaVu Sans Mono',consolas,'Courier New',monospace\">Name: cortex . . . a total of: <span style=\"color: #008080; text-decoration-color: #008080; font-weight: bold\">540</span> regions accepted, <span style=\"color: #008080; text-decoration-color: #008080; font-weight: bold\">174</span> regions rejected.\n",
       "accept ratio: <span style=\"color: #008080; text-decoration-color: #008080; font-weight: bold\">75.63</span> %, reject ratio: <span style=\"color: #008080; text-decoration-color: #008080; font-weight: bold\">24.37</span> %, using a presence threshold of <span style=\"color: #008080; text-decoration-color: #008080; font-weight: bold\">20.0</span> %\n",
       "\n",
       "\n",
       "</pre>\n"
      ],
      "text/plain": [
       "Name: cortex . . . a total of: \u001b[1;36m540\u001b[0m regions accepted, \u001b[1;36m174\u001b[0m regions rejected.\n",
       "accept ratio: \u001b[1;36m75.63\u001b[0m %, reject ratio: \u001b[1;36m24.37\u001b[0m %, using a presence threshold of \u001b[1;36m20.0\u001b[0m %\n",
       "\n",
       "\n"
      ]
     },
     "metadata": {},
     "output_type": "display_data"
    }
   ],
   "source": [
    "from register.register import Register\n",
    "\n",
    "reg = Register(mice)\n",
    "tsnr_masks = reg.get_tsnr_masks(q_bold=0.05)"
   ]
  },
  {
   "cell_type": "code",
   "execution_count": 4,
   "id": "672c4b69",
   "metadata": {},
   "outputs": [
    {
     "data": {
      "text/html": [
       "<pre style=\"white-space:pre;overflow-x:auto;line-height:normal;font-family:Menlo,'DejaVu Sans Mono',consolas,'Courier New',monospace\"><span style=\"color: #008000; text-decoration-color: #008000\">'ca2'</span>\n",
       "</pre>\n"
      ],
      "text/plain": [
       "\u001b[32m'ca2'\u001b[0m\n"
      ]
     },
     "metadata": {},
     "output_type": "display_data"
    }
   ],
   "source": [
    "reg.mode"
   ]
  },
  {
   "cell_type": "code",
   "execution_count": null,
   "id": "7351c934",
   "metadata": {},
   "outputs": [],
   "source": []
  },
  {
   "cell_type": "code",
   "execution_count": 12,
   "id": "7751d529",
   "metadata": {},
   "outputs": [],
   "source": [
    "tsnr_masks = tsnr_masks['ca2']"
   ]
  },
  {
   "cell_type": "code",
   "execution_count": null,
   "id": "36d76191",
   "metadata": {},
   "outputs": [],
   "source": []
  },
  {
   "cell_type": "code",
   "execution_count": 4,
   "id": "affd9333",
   "metadata": {},
   "outputs": [
    {
     "data": {
      "text/html": [
       "<pre style=\"white-space:pre;overflow-x:auto;line-height:normal;font-family:Menlo,'DejaVu Sans Mono',consolas,'Courier New',monospace\"><span style=\"font-weight: bold\">(</span><span style=\"color: #008080; text-decoration-color: #008080; font-weight: bold\">256</span>, <span style=\"color: #008080; text-decoration-color: #008080; font-weight: bold\">250</span>, <span style=\"color: #008080; text-decoration-color: #008080; font-weight: bold\">1</span>, <span style=\"color: #008080; text-decoration-color: #008080; font-weight: bold\">5999</span><span style=\"font-weight: bold\">)</span>\n",
       "</pre>\n"
      ],
      "text/plain": [
       "\u001b[1m(\u001b[0m\u001b[1;36m256\u001b[0m, \u001b[1;36m250\u001b[0m, \u001b[1;36m1\u001b[0m, \u001b[1;36m5999\u001b[0m\u001b[1m)\u001b[0m\n"
      ]
     },
     "metadata": {},
     "output_type": "display_data"
    }
   ],
   "source": [
    "key = 'sub-SLC09_ses-2_run-1'\n",
    "func = mice.ca_preproc[key]\n",
    "x = func.load_ants().numpy()\n",
    "x.shape"
   ]
  },
  {
   "cell_type": "code",
   "execution_count": 13,
   "id": "3f61a486",
   "metadata": {},
   "outputs": [],
   "source": [
    "sub, ses, run = mice.looper[key]\n",
    "_k = mice.get_key(sub, ses)\n",
    "m_indiv = mice.mask2d[_k].load_ants()\n",
    "m_indiv = m_indiv.numpy().astype(bool)\n",
    "m_tsnr = tsnr_masks.get(key)\n",
    "if m_tsnr is not None:\n",
    "    m_indiv = np.logical_and(m_indiv, m_tsnr)"
   ]
  },
  {
   "cell_type": "code",
   "execution_count": 16,
   "id": "e99b8d52",
   "metadata": {},
   "outputs": [
    {
     "data": {
      "image/png": "[encoded data removed]"
     },
     "metadata": {},
     "output_type": "display_data"
    }
   ],
   "source": [
    "plt.imshow(m_indiv);"
   ]
  },
  {
   "cell_type": "code",
   "execution_count": null,
   "id": "c29246c1",
   "metadata": {},
   "outputs": [],
   "source": []
  },
  {
   "cell_type": "code",
   "execution_count": 18,
   "id": "bbc4a8a7",
   "metadata": {},
   "outputs": [],
   "source": [
    "from register.preprocess import process_ca"
   ]
  },
  {
   "cell_type": "code",
   "execution_count": 19,
   "id": "22205747",
   "metadata": {},
   "outputs": [],
   "source": [
    "_, xf, tmask, ab = process_ca(\n",
    "    mice=mice,\n",
    "    key=key,\n",
    "    x=x,\n",
    "    m=m_indiv,\n",
    "    filt_std=5,\n",
    "    filt_ab=True,\n",
    "    fill_nuisance=False,\n",
    "    band=[0.01, 0.5, (0.01, 0.5)],\n",
    ")"
   ]
  },
  {
   "cell_type": "code",
   "execution_count": null,
   "id": "ce795174",
   "metadata": {},
   "outputs": [],
   "source": []
  },
  {
   "cell_type": "code",
   "execution_count": 23,
   "id": "16b1f897",
   "metadata": {},
   "outputs": [],
   "source": [
    "m=m_indiv\n",
    "filt_std=5\n",
    "filt_ab=True\n",
    "fill_nuisance=False"
   ]
  },
  {
   "cell_type": "code",
   "execution_count": null,
   "id": "12488150",
   "metadata": {},
   "outputs": [],
   "source": []
  },
  {
   "cell_type": "code",
   "execution_count": 24,
   "id": "b9942231",
   "metadata": {},
   "outputs": [
    {
     "data": {
      "text/html": [
       "<pre style=\"white-space:pre;overflow-x:auto;line-height:normal;font-family:Menlo,'DejaVu Sans Mono',consolas,'Courier New',monospace\"><span style=\"font-weight: bold\">(</span><span style=\"color: #008080; text-decoration-color: #008080; font-weight: bold\">22230</span>, <span style=\"color: #008080; text-decoration-color: #008080; font-weight: bold\">5999</span><span style=\"font-weight: bold\">)</span>\n",
       "</pre>\n"
      ],
      "text/plain": [
       "\u001b[1m(\u001b[0m\u001b[1;36m22230\u001b[0m, \u001b[1;36m5999\u001b[0m\u001b[1m)\u001b[0m\n"
      ]
     },
     "metadata": {},
     "output_type": "display_data"
    }
   ],
   "source": [
    "x = x[m].squeeze()\n",
    "x.shape"
   ]
  },
  {
   "cell_type": "code",
   "execution_count": 25,
   "id": "a851245f",
   "metadata": {},
   "outputs": [
    {
     "data": {
      "text/html": [
       "<pre style=\"white-space:pre;overflow-x:auto;line-height:normal;font-family:Menlo,'DejaVu Sans Mono',consolas,'Courier New',monospace\"><span style=\"color: #008080; text-decoration-color: #008080; font-weight: bold\">10</span>\n",
       "</pre>\n"
      ],
      "text/plain": [
       "\u001b[1;36m10\u001b[0m\n"
      ]
     },
     "metadata": {},
     "output_type": "display_data"
    }
   ],
   "source": [
    "fs = mice.cfg.ca_fs\n",
    "fs"
   ]
  },
  {
   "cell_type": "code",
   "execution_count": null,
   "id": "d180dc1b",
   "metadata": {},
   "outputs": [],
   "source": []
  },
  {
   "cell_type": "code",
   "execution_count": null,
   "id": "1b829483",
   "metadata": {},
   "outputs": [],
   "source": []
  },
  {
   "cell_type": "code",
   "execution_count": null,
   "id": "088f9c72",
   "metadata": {},
   "outputs": [],
   "source": []
  },
  {
   "cell_type": "code",
   "execution_count": null,
   "id": "0b92024d",
   "metadata": {},
   "outputs": [],
   "source": []
  },
  {
   "cell_type": "code",
   "execution_count": 21,
   "id": "193ac620",
   "metadata": {},
   "outputs": [
    {
     "data": {
      "text/html": [
       "<pre style=\"white-space:pre;overflow-x:auto;line-height:normal;font-family:Menlo,'DejaVu Sans Mono',consolas,'Courier New',monospace\"><span style=\"font-weight: bold\">(</span><span style=\"color: #008080; text-decoration-color: #008080; font-weight: bold\">22230</span>, <span style=\"color: #008080; text-decoration-color: #008080; font-weight: bold\">5500</span><span style=\"font-weight: bold\">)</span>\n",
       "</pre>\n"
      ],
      "text/plain": [
       "\u001b[1m(\u001b[0m\u001b[1;36m22230\u001b[0m, \u001b[1;36m5500\u001b[0m\u001b[1m)\u001b[0m\n"
      ]
     },
     "metadata": {},
     "output_type": "display_data"
    }
   ],
   "source": [
    "xf[0.01].shape"
   ]
  },
  {
   "cell_type": "code",
   "execution_count": null,
   "id": "7d3da1c3",
   "metadata": {},
   "outputs": [],
   "source": []
  },
  {
   "cell_type": "code",
   "execution_count": 22,
   "id": "a2a85e0b",
   "metadata": {},
   "outputs": [
    {
     "data": {
      "text/html": [
       "<pre style=\"white-space:pre;overflow-x:auto;line-height:normal;font-family:Menlo,'DejaVu Sans Mono',consolas,'Courier New',monospace\"><span style=\"font-weight: bold\">[&lt;</span><span style=\"color: #ff00ff; text-decoration-color: #ff00ff; font-weight: bold\">matplotlib.lines.Line2D</span><span style=\"color: #000000; text-decoration-color: #000000\"> object at </span><span style=\"color: #008080; text-decoration-color: #008080; font-weight: bold\">0x7feb63a16400</span><span style=\"font-weight: bold\">&gt;]</span>\n",
       "</pre>\n"
      ],
      "text/plain": [
       "\u001b[1m[\u001b[0m\u001b[1m<\u001b[0m\u001b[1;95mmatplotlib.lines.Line2D\u001b[0m\u001b[39m object at \u001b[0m\u001b[1;36m0x7feb63a16400\u001b[0m\u001b[1m>\u001b[0m\u001b[1m]\u001b[0m\n"
      ]
     },
     "metadata": {},
     "output_type": "display_data"
    },
    {
     "data": {
      "image/png": "[encoded data removed]"
     },
     "metadata": {},
     "output_type": "display_data"
    }
   ],
   "source": [
    "plt.plot(xf[0.01].mean(0))"
   ]
  },
  {
   "cell_type": "code",
   "execution_count": null,
   "id": "d992a8ab",
   "metadata": {},
   "outputs": [],
   "source": []
  },
  {
   "cell_type": "code",
   "execution_count": null,
   "id": "b8ffda79",
   "metadata": {},
   "outputs": [],
   "source": []
  },
  {
   "cell_type": "code",
   "execution_count": 27,
   "id": "c9b00d0b",
   "metadata": {},
   "outputs": [],
   "source": [
    "gs = x.mean(0)\n",
    "thres = gs.std() * filt_std\n",
    "bad_t = np.abs(gs - gs.mean()) > thres"
   ]
  },
  {
   "cell_type": "code",
   "execution_count": 29,
   "id": "eda55339",
   "metadata": {},
   "outputs": [
    {
     "data": {
      "text/html": [
       "<pre style=\"white-space:pre;overflow-x:auto;line-height:normal;font-family:Menlo,'DejaVu Sans Mono',consolas,'Courier New',monospace\"><span style=\"color: #008080; text-decoration-color: #008080; font-weight: bold\">11</span>\n",
       "</pre>\n"
      ],
      "text/plain": [
       "\u001b[1;36m11\u001b[0m\n"
      ]
     },
     "metadata": {},
     "output_type": "display_data"
    }
   ],
   "source": [
    "bad_t.sum()"
   ]
  },
  {
   "cell_type": "code",
   "execution_count": null,
   "id": "b5671e9e",
   "metadata": {},
   "outputs": [],
   "source": []
  },
  {
   "cell_type": "code",
   "execution_count": 31,
   "id": "47b1db16",
   "metadata": {},
   "outputs": [
    {
     "data": {
      "text/html": [
       "<pre style=\"white-space:pre;overflow-x:auto;line-height:normal;font-family:Menlo,'DejaVu Sans Mono',consolas,'Courier New',monospace\"><span style=\"font-weight: bold\">[&lt;</span><span style=\"color: #ff00ff; text-decoration-color: #ff00ff; font-weight: bold\">matplotlib.lines.Line2D</span><span style=\"color: #000000; text-decoration-color: #000000\"> object at </span><span style=\"color: #008080; text-decoration-color: #008080; font-weight: bold\">0x7feb63981280</span><span style=\"font-weight: bold\">&gt;]</span>\n",
       "</pre>\n"
      ],
      "text/plain": [
       "\u001b[1m[\u001b[0m\u001b[1m<\u001b[0m\u001b[1;95mmatplotlib.lines.Line2D\u001b[0m\u001b[39m object at \u001b[0m\u001b[1;36m0x7feb63981280\u001b[0m\u001b[1m>\u001b[0m\u001b[1m]\u001b[0m\n"
      ]
     },
     "metadata": {},
     "output_type": "display_data"
    },
    {
     "data": {
      "image/png": "[encoded data removed]"
     },
     "metadata": {},
     "output_type": "display_data"
    }
   ],
   "source": [
    "plt.plot(gs)"
   ]
  },
  {
   "cell_type": "code",
   "execution_count": null,
   "id": "e31cf6d9",
   "metadata": {},
   "outputs": [],
   "source": []
  },
  {
   "cell_type": "code",
   "execution_count": 32,
   "id": "1b5091ec",
   "metadata": {},
   "outputs": [
    {
     "data": {
      "text/html": [
       "<pre style=\"white-space:pre;overflow-x:auto;line-height:normal;font-family:Menlo,'DejaVu Sans Mono',consolas,'Courier New',monospace\"><span style=\"color: #800080; text-decoration-color: #800080; font-weight: bold\">array</span><span style=\"font-weight: bold\">([</span><span style=\"color: #008080; text-decoration-color: #008080; font-weight: bold\">-1902.2482</span>, <span style=\"color: #008080; text-decoration-color: #008080; font-weight: bold\">-1945.8721</span>, <span style=\"color: #008080; text-decoration-color: #008080; font-weight: bold\">-1856.7208</span>, <span style=\"color: #008080; text-decoration-color: #008080; font-weight: bold\">-1806.2798</span>, <span style=\"color: #008080; text-decoration-color: #008080; font-weight: bold\">-1844.0104</span>,\n",
       "       <span style=\"color: #008080; text-decoration-color: #008080; font-weight: bold\">-1821.3132</span>, <span style=\"color: #008080; text-decoration-color: #008080; font-weight: bold\">-1859.4622</span>, <span style=\"color: #008080; text-decoration-color: #008080; font-weight: bold\">-1842.5814</span>, <span style=\"color: #008080; text-decoration-color: #008080; font-weight: bold\">-1839.6288</span>,  <span style=\"color: #008080; text-decoration-color: #008080; font-weight: bold\">5268.1714</span>,\n",
       "       <span style=\"color: #008080; text-decoration-color: #008080; font-weight: bold\">-8773.177</span> <span style=\"font-weight: bold\">]</span>, <span style=\"color: #808000; text-decoration-color: #808000\">dtype</span>=<span style=\"color: #800080; text-decoration-color: #800080\">float32</span><span style=\"font-weight: bold\">)</span>\n",
       "</pre>\n"
      ],
      "text/plain": [
       "\u001b[1;35marray\u001b[0m\u001b[1m(\u001b[0m\u001b[1m[\u001b[0m\u001b[1;36m-1902.2482\u001b[0m, \u001b[1;36m-1945.8721\u001b[0m, \u001b[1;36m-1856.7208\u001b[0m, \u001b[1;36m-1806.2798\u001b[0m, \u001b[1;36m-1844.0104\u001b[0m,\n",
       "       \u001b[1;36m-1821.3132\u001b[0m, \u001b[1;36m-1859.4622\u001b[0m, \u001b[1;36m-1842.5814\u001b[0m, \u001b[1;36m-1839.6288\u001b[0m,  \u001b[1;36m5268.1714\u001b[0m,\n",
       "       \u001b[1;36m-8773.177\u001b[0m \u001b[1m]\u001b[0m, \u001b[33mdtype\u001b[0m=\u001b[35mfloat32\u001b[0m\u001b[1m)\u001b[0m\n"
      ]
     },
     "metadata": {},
     "output_type": "display_data"
    }
   ],
   "source": [
    "gs[bad_t]"
   ]
  },
  {
   "cell_type": "code",
   "execution_count": 34,
   "id": "8dec56f2",
   "metadata": {},
   "outputs": [
    {
     "data": {
      "text/html": [
       "<pre style=\"white-space:pre;overflow-x:auto;line-height:normal;font-family:Menlo,'DejaVu Sans Mono',consolas,'Courier New',monospace\"><span style=\"color: #800080; text-decoration-color: #800080; font-weight: bold\">array</span><span style=\"font-weight: bold\">([</span>   <span style=\"color: #008080; text-decoration-color: #008080; font-weight: bold\">0</span>,    <span style=\"color: #008080; text-decoration-color: #008080; font-weight: bold\">1</span>,    <span style=\"color: #008080; text-decoration-color: #008080; font-weight: bold\">2</span>,    <span style=\"color: #008080; text-decoration-color: #008080; font-weight: bold\">3</span>,    <span style=\"color: #008080; text-decoration-color: #008080; font-weight: bold\">4</span>,    <span style=\"color: #008080; text-decoration-color: #008080; font-weight: bold\">5</span>,    <span style=\"color: #008080; text-decoration-color: #008080; font-weight: bold\">6</span>,    <span style=\"color: #008080; text-decoration-color: #008080; font-weight: bold\">7</span>,    <span style=\"color: #008080; text-decoration-color: #008080; font-weight: bold\">8</span>,  <span style=\"color: #008080; text-decoration-color: #008080; font-weight: bold\">259</span>, <span style=\"color: #008080; text-decoration-color: #008080; font-weight: bold\">5998</span><span style=\"font-weight: bold\">])</span>\n",
       "</pre>\n"
      ],
      "text/plain": [
       "\u001b[1;35marray\u001b[0m\u001b[1m(\u001b[0m\u001b[1m[\u001b[0m   \u001b[1;36m0\u001b[0m,    \u001b[1;36m1\u001b[0m,    \u001b[1;36m2\u001b[0m,    \u001b[1;36m3\u001b[0m,    \u001b[1;36m4\u001b[0m,    \u001b[1;36m5\u001b[0m,    \u001b[1;36m6\u001b[0m,    \u001b[1;36m7\u001b[0m,    \u001b[1;36m8\u001b[0m,  \u001b[1;36m259\u001b[0m, \u001b[1;36m5998\u001b[0m\u001b[1m]\u001b[0m\u001b[1m)\u001b[0m\n"
      ]
     },
     "metadata": {},
     "output_type": "display_data"
    }
   ],
   "source": [
    "np.where(bad_t)[0]"
   ]
  },
  {
   "cell_type": "code",
   "execution_count": null,
   "id": "8fb108d0",
   "metadata": {},
   "outputs": [],
   "source": []
  },
  {
   "cell_type": "markdown",
   "id": "fd10cc61",
   "metadata": {},
   "source": [
    "## no_WM_CSF"
   ]
  },
  {
   "cell_type": "code",
   "execution_count": 38,
   "id": "87c66f37",
   "metadata": {},
   "outputs": [],
   "source": [
    "pth = '/mnt/storage/hadi/Ca-fMRI/gabe_data/reoriented_data_no_WM_CSF/cleaned_timeseries'\n",
    "for sub in range(1, 10 + 1):\n",
    "    for ses in range(1, 3 + 1):\n",
    "        key = f\"sub-SLC{sub:02d}_ses-{ses}\"\n",
    "        files = sorted(filter(\n",
    "            lambda x: key in x,\n",
    "            os.listdir(pth),\n",
    "        ))\n",
    "        for f in files:\n",
    "            name = '_'.join(f.split('_')[:4])\n",
    "            name = f\"{name}_space-individual_desc-rabies-nowmcsf_bold.nii.gz\"\n",
    "            filename = pjoin(mice.cfg.raw_dir, name)\n",
    "            if not os.path.isfile(filename):\n",
    "                shutil.copyfile(\n",
    "                    src=pjoin(pth, f),\n",
    "                    dst=filename,\n",
    "                )\n",
    "            else:\n",
    "                print(f\"File found, skipping:\\n'{name}'\\n\")"
   ]
  },
  {
   "cell_type": "code",
   "execution_count": 39,
   "id": "213aa81f",
   "metadata": {},
   "outputs": [
    {
     "data": {
      "text/html": [
       "<pre style=\"white-space:pre;overflow-x:auto;line-height:normal;font-family:Menlo,'DejaVu Sans Mono',consolas,'Courier New',monospace\">Warning, missing:       sub-SLC01_ses-1_run-<span style=\"color: #008080; text-decoration-color: #008080; font-weight: bold\">4</span>\n",
       "</pre>\n"
      ],
      "text/plain": [
       "Warning, missing:       sub-SLC01_ses-1_run-\u001b[1;36m4\u001b[0m\n"
      ]
     },
     "metadata": {},
     "output_type": "display_data"
    },
    {
     "data": {
      "text/html": [
       "<pre style=\"white-space:pre;overflow-x:auto;line-height:normal;font-family:Menlo,'DejaVu Sans Mono',consolas,'Courier New',monospace\">Warning, missing:       sub-SLC03_ses-1_run-<span style=\"color: #008080; text-decoration-color: #008080; font-weight: bold\">1</span>\n",
       "</pre>\n"
      ],
      "text/plain": [
       "Warning, missing:       sub-SLC03_ses-1_run-\u001b[1;36m1\u001b[0m\n"
      ]
     },
     "metadata": {},
     "output_type": "display_data"
    },
    {
     "data": {
      "text/html": [
       "<pre style=\"white-space:pre;overflow-x:auto;line-height:normal;font-family:Menlo,'DejaVu Sans Mono',consolas,'Courier New',monospace\">Warning, missing:       sub-SLC03_ses-3_run-<span style=\"color: #008080; text-decoration-color: #008080; font-weight: bold\">2</span>\n",
       "</pre>\n"
      ],
      "text/plain": [
       "Warning, missing:       sub-SLC03_ses-3_run-\u001b[1;36m2\u001b[0m\n"
      ]
     },
     "metadata": {},
     "output_type": "display_data"
    },
    {
     "data": {
      "text/html": [
       "<pre style=\"white-space:pre;overflow-x:auto;line-height:normal;font-family:Menlo,'DejaVu Sans Mono',consolas,'Courier New',monospace\">Warning, missing:       sub-SLC04_ses-3_run-<span style=\"color: #008080; text-decoration-color: #008080; font-weight: bold\">2</span>\n",
       "</pre>\n"
      ],
      "text/plain": [
       "Warning, missing:       sub-SLC04_ses-3_run-\u001b[1;36m2\u001b[0m\n"
      ]
     },
     "metadata": {},
     "output_type": "display_data"
    },
    {
     "data": {
      "text/html": [
       "<pre style=\"white-space:pre;overflow-x:auto;line-height:normal;font-family:Menlo,'DejaVu Sans Mono',consolas,'Courier New',monospace\">Warning, missing:       sub-SLC05_ses-1_run-<span style=\"color: #008080; text-decoration-color: #008080; font-weight: bold\">5</span>\n",
       "</pre>\n"
      ],
      "text/plain": [
       "Warning, missing:       sub-SLC05_ses-1_run-\u001b[1;36m5\u001b[0m\n"
      ]
     },
     "metadata": {},
     "output_type": "display_data"
    },
    {
     "data": {
      "text/html": [
       "<pre style=\"white-space:pre;overflow-x:auto;line-height:normal;font-family:Menlo,'DejaVu Sans Mono',consolas,'Courier New',monospace\">Warning, missing:       sub-SLC06_ses-3_run-<span style=\"color: #008080; text-decoration-color: #008080; font-weight: bold\">2</span>\n",
       "</pre>\n"
      ],
      "text/plain": [
       "Warning, missing:       sub-SLC06_ses-3_run-\u001b[1;36m2\u001b[0m\n"
      ]
     },
     "metadata": {},
     "output_type": "display_data"
    },
    {
     "data": {
      "text/html": [
       "<pre style=\"white-space:pre;overflow-x:auto;line-height:normal;font-family:Menlo,'DejaVu Sans Mono',consolas,'Courier New',monospace\">Warning, missing:       sub-SLC07_ses-1_run-<span style=\"color: #008080; text-decoration-color: #008080; font-weight: bold\">6</span>\n",
       "</pre>\n"
      ],
      "text/plain": [
       "Warning, missing:       sub-SLC07_ses-1_run-\u001b[1;36m6\u001b[0m\n"
      ]
     },
     "metadata": {},
     "output_type": "display_data"
    },
    {
     "data": {
      "text/html": [
       "<pre style=\"white-space:pre;overflow-x:auto;line-height:normal;font-family:Menlo,'DejaVu Sans Mono',consolas,'Courier New',monospace\">Warning, missing:       sub-SLC07_ses-2_run-<span style=\"color: #008080; text-decoration-color: #008080; font-weight: bold\">1</span>\n",
       "</pre>\n"
      ],
      "text/plain": [
       "Warning, missing:       sub-SLC07_ses-2_run-\u001b[1;36m1\u001b[0m\n"
      ]
     },
     "metadata": {},
     "output_type": "display_data"
    },
    {
     "data": {
      "text/html": [
       "<pre style=\"white-space:pre;overflow-x:auto;line-height:normal;font-family:Menlo,'DejaVu Sans Mono',consolas,'Courier New',monospace\">Warning, missing:       sub-SLC08_ses-1_run-<span style=\"color: #008080; text-decoration-color: #008080; font-weight: bold\">7</span>\n",
       "</pre>\n"
      ],
      "text/plain": [
       "Warning, missing:       sub-SLC08_ses-1_run-\u001b[1;36m7\u001b[0m\n"
      ]
     },
     "metadata": {},
     "output_type": "display_data"
    },
    {
     "data": {
      "text/html": [
       "<pre style=\"white-space:pre;overflow-x:auto;line-height:normal;font-family:Menlo,'DejaVu Sans Mono',consolas,'Courier New',monospace\">Warning, missing:       sub-SLC10_ses-1_run-<span style=\"color: #008080; text-decoration-color: #008080; font-weight: bold\">5</span>\n",
       "</pre>\n"
      ],
      "text/plain": [
       "Warning, missing:       sub-SLC10_ses-1_run-\u001b[1;36m5\u001b[0m\n"
      ]
     },
     "metadata": {},
     "output_type": "display_data"
    },
    {
     "data": {
      "text/html": [
       "<pre style=\"white-space:pre;overflow-x:auto;line-height:normal;font-family:Menlo,'DejaVu Sans Mono',consolas,'Courier New',monospace\"><span style=\"font-weight: bold\">[</span>PROGRESS<span style=\"font-weight: bold\">]</span> <span style=\"color: #008000; text-decoration-color: #008000\">'tmask_nowmcsf.df'</span> saved at\n",
       "<span style=\"color: #800080; text-decoration-color: #800080\">/home/hadi/Documents/Ca-fMRI/</span><span style=\"color: #ff00ff; text-decoration-color: #ff00ff\">meta_info</span>\n",
       "</pre>\n"
      ],
      "text/plain": [
       "\u001b[1m[\u001b[0mPROGRESS\u001b[1m]\u001b[0m \u001b[32m'tmask_nowmcsf.df'\u001b[0m saved at\n",
       "\u001b[35m/home/hadi/Documents/Ca-fMRI/\u001b[0m\u001b[95mmeta_info\u001b[0m\n"
      ]
     },
     "metadata": {},
     "output_type": "display_data"
    }
   ],
   "source": [
    "pth = '/mnt/storage/hadi/Ca-fMRI/gabe_data/reoriented_data_no_WM_CSF'\n",
    "csv_files = []\n",
    "for p in pathlib.Path(pth).rglob('*.csv'):\n",
    "    csv_files.append(str(p))\n",
    "    \n",
    "meta_dir = pjoin(mice.cfg.base_dir, 'meta_info')\n",
    "\n",
    "dlist = []\n",
    "for sub in range(1, 10 + 1):\n",
    "    for ses in range(1, 3 + 1):\n",
    "        for run in range(1, 7 + 1):\n",
    "            patterns = [\n",
    "                f\"sub-SLC{sub:02d}\",\n",
    "                f\"ses-{ses:d}\",\n",
    "                f\"run-{run:d}\",\n",
    "            ]\n",
    "            key = '_'.join(patterns)\n",
    "            try:\n",
    "                f = next(\n",
    "                    e for e in csv_files if\n",
    "                    all(k in e for k in patterns)\n",
    "                )\n",
    "                vals = pd.read_csv(f).values.ravel()\n",
    "                dlist.append({\n",
    "                    'sub': [sub] * len(vals),\n",
    "                    'ses': [ses] * len(vals),\n",
    "                    'run': [run] * len(vals),\n",
    "                    'key': [key] * len(vals),\n",
    "                    'temporal_mask': vals.astype(int),\n",
    "                })\n",
    "            except StopIteration:\n",
    "                print(f\"Warning, missing:\\t{key}\")\n",
    "\n",
    "df = pd.DataFrame(merge_dicts(dlist))\n",
    "_ = save_obj(\n",
    "    obj=df,\n",
    "    file_name='tmask_nowmcsf',\n",
    "    save_dir=meta_dir,\n",
    "    mode='df',\n",
    ")"
   ]
  },
  {
   "cell_type": "code",
   "execution_count": null,
   "id": "536842df",
   "metadata": {},
   "outputs": [],
   "source": []
  },
  {
   "cell_type": "markdown",
   "id": "5a2f870d",
   "metadata": {},
   "source": [
    "## no_CR"
   ]
  },
  {
   "cell_type": "code",
   "execution_count": 40,
   "id": "c63a2617",
   "metadata": {},
   "outputs": [],
   "source": [
    "pth = '/mnt/storage/hadi/Ca-fMRI/gabe_data/reoriented_data_no_CR/cleaned_timeseries'\n",
    "for sub in range(1, 10 + 1):\n",
    "    for ses in range(1, 3 + 1):\n",
    "        key = f\"sub-SLC{sub:02d}_ses-{ses}\"\n",
    "        files = sorted(filter(\n",
    "            lambda x: key in x,\n",
    "            os.listdir(pth),\n",
    "        ))\n",
    "        for f in files:\n",
    "            name = '_'.join(f.split('_')[:4])\n",
    "            name = f\"{name}_space-individual_desc-rabies-nocr_bold.nii.gz\"\n",
    "            filename = pjoin(mice.cfg.raw_dir, name)\n",
    "            if not os.path.isfile(filename):\n",
    "                shutil.copyfile(\n",
    "                    src=pjoin(pth, f),\n",
    "                    dst=filename,\n",
    "                )\n",
    "            else:\n",
    "                print(f\"File found, skipping:\\n'{name}'\\n\")"
   ]
  },
  {
   "cell_type": "code",
   "execution_count": 41,
   "id": "b07397d2",
   "metadata": {},
   "outputs": [
    {
     "data": {
      "text/html": [
       "<pre style=\"white-space:pre;overflow-x:auto;line-height:normal;font-family:Menlo,'DejaVu Sans Mono',consolas,'Courier New',monospace\">Warning, missing:       sub-SLC01_ses-1_run-<span style=\"color: #008080; text-decoration-color: #008080; font-weight: bold\">4</span>\n",
       "</pre>\n"
      ],
      "text/plain": [
       "Warning, missing:       sub-SLC01_ses-1_run-\u001b[1;36m4\u001b[0m\n"
      ]
     },
     "metadata": {},
     "output_type": "display_data"
    },
    {
     "data": {
      "text/html": [
       "<pre style=\"white-space:pre;overflow-x:auto;line-height:normal;font-family:Menlo,'DejaVu Sans Mono',consolas,'Courier New',monospace\">Warning, missing:       sub-SLC03_ses-1_run-<span style=\"color: #008080; text-decoration-color: #008080; font-weight: bold\">1</span>\n",
       "</pre>\n"
      ],
      "text/plain": [
       "Warning, missing:       sub-SLC03_ses-1_run-\u001b[1;36m1\u001b[0m\n"
      ]
     },
     "metadata": {},
     "output_type": "display_data"
    },
    {
     "data": {
      "text/html": [
       "<pre style=\"white-space:pre;overflow-x:auto;line-height:normal;font-family:Menlo,'DejaVu Sans Mono',consolas,'Courier New',monospace\">Warning, missing:       sub-SLC03_ses-3_run-<span style=\"color: #008080; text-decoration-color: #008080; font-weight: bold\">2</span>\n",
       "</pre>\n"
      ],
      "text/plain": [
       "Warning, missing:       sub-SLC03_ses-3_run-\u001b[1;36m2\u001b[0m\n"
      ]
     },
     "metadata": {},
     "output_type": "display_data"
    },
    {
     "data": {
      "text/html": [
       "<pre style=\"white-space:pre;overflow-x:auto;line-height:normal;font-family:Menlo,'DejaVu Sans Mono',consolas,'Courier New',monospace\">Warning, missing:       sub-SLC04_ses-3_run-<span style=\"color: #008080; text-decoration-color: #008080; font-weight: bold\">2</span>\n",
       "</pre>\n"
      ],
      "text/plain": [
       "Warning, missing:       sub-SLC04_ses-3_run-\u001b[1;36m2\u001b[0m\n"
      ]
     },
     "metadata": {},
     "output_type": "display_data"
    },
    {
     "data": {
      "text/html": [
       "<pre style=\"white-space:pre;overflow-x:auto;line-height:normal;font-family:Menlo,'DejaVu Sans Mono',consolas,'Courier New',monospace\">Warning, missing:       sub-SLC05_ses-1_run-<span style=\"color: #008080; text-decoration-color: #008080; font-weight: bold\">5</span>\n",
       "</pre>\n"
      ],
      "text/plain": [
       "Warning, missing:       sub-SLC05_ses-1_run-\u001b[1;36m5\u001b[0m\n"
      ]
     },
     "metadata": {},
     "output_type": "display_data"
    },
    {
     "data": {
      "text/html": [
       "<pre style=\"white-space:pre;overflow-x:auto;line-height:normal;font-family:Menlo,'DejaVu Sans Mono',consolas,'Courier New',monospace\">Warning, missing:       sub-SLC06_ses-3_run-<span style=\"color: #008080; text-decoration-color: #008080; font-weight: bold\">2</span>\n",
       "</pre>\n"
      ],
      "text/plain": [
       "Warning, missing:       sub-SLC06_ses-3_run-\u001b[1;36m2\u001b[0m\n"
      ]
     },
     "metadata": {},
     "output_type": "display_data"
    },
    {
     "data": {
      "text/html": [
       "<pre style=\"white-space:pre;overflow-x:auto;line-height:normal;font-family:Menlo,'DejaVu Sans Mono',consolas,'Courier New',monospace\">Warning, missing:       sub-SLC07_ses-1_run-<span style=\"color: #008080; text-decoration-color: #008080; font-weight: bold\">6</span>\n",
       "</pre>\n"
      ],
      "text/plain": [
       "Warning, missing:       sub-SLC07_ses-1_run-\u001b[1;36m6\u001b[0m\n"
      ]
     },
     "metadata": {},
     "output_type": "display_data"
    },
    {
     "data": {
      "text/html": [
       "<pre style=\"white-space:pre;overflow-x:auto;line-height:normal;font-family:Menlo,'DejaVu Sans Mono',consolas,'Courier New',monospace\">Warning, missing:       sub-SLC07_ses-2_run-<span style=\"color: #008080; text-decoration-color: #008080; font-weight: bold\">1</span>\n",
       "</pre>\n"
      ],
      "text/plain": [
       "Warning, missing:       sub-SLC07_ses-2_run-\u001b[1;36m1\u001b[0m\n"
      ]
     },
     "metadata": {},
     "output_type": "display_data"
    },
    {
     "data": {
      "text/html": [
       "<pre style=\"white-space:pre;overflow-x:auto;line-height:normal;font-family:Menlo,'DejaVu Sans Mono',consolas,'Courier New',monospace\">Warning, missing:       sub-SLC08_ses-1_run-<span style=\"color: #008080; text-decoration-color: #008080; font-weight: bold\">7</span>\n",
       "</pre>\n"
      ],
      "text/plain": [
       "Warning, missing:       sub-SLC08_ses-1_run-\u001b[1;36m7\u001b[0m\n"
      ]
     },
     "metadata": {},
     "output_type": "display_data"
    },
    {
     "data": {
      "text/html": [
       "<pre style=\"white-space:pre;overflow-x:auto;line-height:normal;font-family:Menlo,'DejaVu Sans Mono',consolas,'Courier New',monospace\">Warning, missing:       sub-SLC10_ses-1_run-<span style=\"color: #008080; text-decoration-color: #008080; font-weight: bold\">5</span>\n",
       "</pre>\n"
      ],
      "text/plain": [
       "Warning, missing:       sub-SLC10_ses-1_run-\u001b[1;36m5\u001b[0m\n"
      ]
     },
     "metadata": {},
     "output_type": "display_data"
    },
    {
     "data": {
      "text/html": [
       "<pre style=\"white-space:pre;overflow-x:auto;line-height:normal;font-family:Menlo,'DejaVu Sans Mono',consolas,'Courier New',monospace\"><span style=\"font-weight: bold\">[</span>PROGRESS<span style=\"font-weight: bold\">]</span> <span style=\"color: #008000; text-decoration-color: #008000\">'tmask_nocr.df'</span> saved at\n",
       "<span style=\"color: #800080; text-decoration-color: #800080\">/home/hadi/Documents/Ca-fMRI/</span><span style=\"color: #ff00ff; text-decoration-color: #ff00ff\">meta_info</span>\n",
       "</pre>\n"
      ],
      "text/plain": [
       "\u001b[1m[\u001b[0mPROGRESS\u001b[1m]\u001b[0m \u001b[32m'tmask_nocr.df'\u001b[0m saved at\n",
       "\u001b[35m/home/hadi/Documents/Ca-fMRI/\u001b[0m\u001b[95mmeta_info\u001b[0m\n"
      ]
     },
     "metadata": {},
     "output_type": "display_data"
    }
   ],
   "source": [
    "pth = '/mnt/storage/hadi/Ca-fMRI/gabe_data/reoriented_data_no_CR'\n",
    "csv_files = []\n",
    "for p in pathlib.Path(pth).rglob('*.csv'):\n",
    "    csv_files.append(str(p))\n",
    "    \n",
    "meta_dir = pjoin(mice.cfg.base_dir, 'meta_info')\n",
    "\n",
    "dlist = []\n",
    "for sub in range(1, 10 + 1):\n",
    "    for ses in range(1, 3 + 1):\n",
    "        for run in range(1, 7 + 1):\n",
    "            patterns = [\n",
    "                f\"sub-SLC{sub:02d}\",\n",
    "                f\"ses-{ses:d}\",\n",
    "                f\"run-{run:d}\",\n",
    "            ]\n",
    "            key = '_'.join(patterns)\n",
    "            try:\n",
    "                f = next(\n",
    "                    e for e in csv_files if\n",
    "                    all(k in e for k in patterns)\n",
    "                )\n",
    "                vals = pd.read_csv(f).values.ravel()\n",
    "                dlist.append({\n",
    "                    'sub': [sub] * len(vals),\n",
    "                    'ses': [ses] * len(vals),\n",
    "                    'run': [run] * len(vals),\n",
    "                    'key': [key] * len(vals),\n",
    "                    'temporal_mask': vals.astype(int),\n",
    "                })\n",
    "            except StopIteration:\n",
    "                print(f\"Warning, missing:\\t{key}\")\n",
    "\n",
    "df = pd.DataFrame(merge_dicts(dlist))\n",
    "_ = save_obj(\n",
    "    obj=df,\n",
    "    file_name='tmask_nocr',\n",
    "    save_dir=meta_dir,\n",
    "    mode='df',\n",
    ")"
   ]
  },
  {
   "cell_type": "code",
   "execution_count": null,
   "id": "53c9c013",
   "metadata": {},
   "outputs": [],
   "source": []
  },
  {
   "cell_type": "markdown",
   "id": "e80c2788",
   "metadata": {},
   "source": [
    "## Ca data copy again"
   ]
  },
  {
   "cell_type": "code",
   "execution_count": 45,
   "id": "e1096e49",
   "metadata": {},
   "outputs": [],
   "source": [
    "pth = '/mnt/storage/hadi/Ca-fMRI/PreprocessedDataBIDS/inScanner'\n",
    "for p in pathlib.Path(pth).rglob('*.nii.gz'):\n",
    "    dst = pjoin(mice.cfg.raw_dir, p.name)\n",
    "    if 'space-common' in dst:\n",
    "        continue\n",
    "    if not os.path.isfile(dst):\n",
    "        shutil.copyfile(\n",
    "            src=str(p),\n",
    "            dst=dst,\n",
    "        )"
   ]
  },
  {
   "cell_type": "code",
   "execution_count": null,
   "id": "2ba15e7d",
   "metadata": {},
   "outputs": [],
   "source": []
  },
  {
   "cell_type": "code",
   "execution_count": null,
   "id": "6e69273d",
   "metadata": {},
   "outputs": [],
   "source": []
  },
  {
   "cell_type": "code",
   "execution_count": null,
   "id": "8a864147",
   "metadata": {},
   "outputs": [],
   "source": []
  }
 ],
 "metadata": {
  "kernelspec": {
   "display_name": "Python 3",
   "language": "python",
   "name": "python3"
  },
  "language_info": {
   "codemirror_mode": {
    "name": "ipython",
    "version": 3
   },
   "file_extension": ".py",
   "mimetype": "text/x-python",
   "name": "python",
   "nbconvert_exporter": "python",
   "pygments_lexer": "ipython3",
   "version": "3.8.3"
  }
 },
 "nbformat": 4,
 "nbformat_minor": 5
}
