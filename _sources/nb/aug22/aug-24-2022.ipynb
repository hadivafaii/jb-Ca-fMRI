{
 "cells": [
  {
   "cell_type": "markdown",
   "id": "6b59b292",
   "metadata": {},
   "source": [
    "# Aug 24th, 2022 (LFR reboot 2)\n",
    "\n",
    "**Motivation**:  <br>"
   ]
  },
  {
   "cell_type": "code",
   "execution_count": 1,
   "id": "9226a550",
   "metadata": {
    "tags": [
     "hide-input"
    ]
   },
   "outputs": [],
   "source": [
    "# HIDE CODE\n",
    "\n",
    "\n",
    "import os\n",
    "import sys\n",
    "from pprint import pprint\n",
    "from copy import deepcopy as dc\n",
    "from os.path import join as pjoin\n",
    "from scipy.ndimage import gaussian_filter\n",
    "from IPython.display import display, IFrame, HTML\n",
    "\n",
    "# tmp & extras dir\n",
    "git_dir = pjoin(os.environ['HOME'], 'Dropbox/git')\n",
    "extras_dir = pjoin(git_dir, 'jb-Ca-fMRI/_extras')\n",
    "fig_base_dir = pjoin(git_dir, 'jb-Ca-fMRI/figs')\n",
    "tmp_dir = pjoin(git_dir, 'jb-Ca-fMRI/tmp')\n",
    "\n",
    "# GitHub\n",
    "sys.path.insert(0, pjoin(git_dir, '_Ca-fMRI'))\n",
    "from figures.fighelper import *\n",
    "from analysis.final import *\n",
    "from utils.render import *\n",
    "\n",
    "# warnings, tqdm, & style\n",
    "warnings.filterwarnings('ignore', category=DeprecationWarning)\n",
    "from tqdm.notebook import tqdm\n",
    "%matplotlib inline\n",
    "set_style()"
   ]
  },
  {
   "cell_type": "markdown",
   "id": "f2d23ed4",
   "metadata": {},
   "source": [
    "## Fig dir"
   ]
  },
  {
   "cell_type": "code",
   "execution_count": 178,
   "id": "16f59de9",
   "metadata": {},
   "outputs": [
    {
     "data": {
      "text/html": [
       "<pre style=\"white-space:pre;overflow-x:auto;line-height:normal;font-family:Menlo,'DejaVu Sans Mono',consolas,'Courier New',monospace\"><span style=\"color: #800080; text-decoration-color: #800080\">/home/hadi/Dropbox/git/jb-Ca-fMRI/figs/paper2.0/</span><span style=\"color: #ff00ff; text-decoration-color: #ff00ff\">LFR_lastbin</span>\n",
       "</pre>\n"
      ],
      "text/plain": [
       "\u001b[35m/home/hadi/Dropbox/git/jb-Ca-fMRI/figs/paper2.0/\u001b[0m\u001b[95mLFR_lastbin\u001b[0m\n"
      ]
     },
     "metadata": {},
     "output_type": "display_data"
    }
   ],
   "source": [
    "fig_dir = pjoin(fig_base_dir, 'paper2.0', 'LFR_lastbin')\n",
    "os.makedirs(fig_dir, exist_ok=True)\n",
    "print(fig_dir)\n",
    "\n",
    "kws_fig = {\n",
    "    'transparent': True,\n",
    "    'bbox_inches': 'tight',\n",
    "    'dpi': 300,\n",
    "}"
   ]
  },
  {
   "cell_type": "markdown",
   "id": "5a497843",
   "metadata": {},
   "source": [
    "## Prep"
   ]
  },
  {
   "cell_type": "code",
   "execution_count": 2,
   "id": "1e9294e6",
   "metadata": {},
   "outputs": [],
   "source": [
    "nn = 512\n",
    "mice = Mice(nn)\n",
    "bt_dict, props_bo, props_ca = default_props(mice, 3)\n",
    "bt = BootStrap(**props_ca)\n",
    "pal = prepare_palette()\n",
    "\n",
    "# Degree fix\n",
    "for mode, o in bt_dict.items():\n",
    "    o.run_deg = np.array(o.run_deg)\n",
    "    o.run_deg[o.run_deg == 0] = np.nan"
   ]
  },
  {
   "cell_type": "code",
   "execution_count": 3,
   "id": "d4b6d93c",
   "metadata": {},
   "outputs": [
    {
     "data": {
      "image/png": "[encoded data removed]"
     },
     "metadata": {},
     "output_type": "display_data"
    }
   ],
   "source": [
    "fig, axes = create_figure(1, 2, (11, 3.5))\n",
    "\n",
    "for mode, o in bt_dict.items():\n",
    "    sns.histplot(\n",
    "        data=o.run_deg[o.run_deg.nonzero()],\n",
    "        bins=np.linspace(5, 270, 54),\n",
    "        color=pal[mode],\n",
    "        label=mode,\n",
    "        ax=axes[0],\n",
    "    )\n",
    "    sns.histplot(\n",
    "        data=o.run_deg[o.run_deg.nonzero()],\n",
    "        bins=np.linspace(0, 270, 55),\n",
    "        color=pal[mode],\n",
    "        label=mode,\n",
    "        ax=axes[1],\n",
    "    )\n",
    "for ax in axes.flat:\n",
    "    ax.legend()\n",
    "plt.show()"
   ]
  },
  {
   "cell_type": "markdown",
   "id": "baa77498",
   "metadata": {},
   "source": [
    "## Mk LFR"
   ]
  },
  {
   "cell_type": "code",
   "execution_count": 4,
   "id": "e71ab952",
   "metadata": {},
   "outputs": [],
   "source": [
    "from analysis.lfr import mk_lfr, load_lfr, extract_true_k, compile_lfr_results\n",
    "\n",
    "lfr_dir = pjoin(os.environ['HOME'], 'Documents/workspaces/lfr/binary_overlapping')\n",
    "mode2lbl = {BOLD: 'BO', CAS: 'CAS', CAF: 'CAF'}"
   ]
  },
  {
   "cell_type": "code",
   "execution_count": 5,
   "id": "25f0e95b",
   "metadata": {},
   "outputs": [],
   "source": [
    "mu = 0.1\n",
    "ofs = np.linspace(0.10, 0.90, 9)\n",
    "oms = [2, 3]\n",
    "looper = [(0, 0)] + list(zip(\n",
    "    np.repeat(ofs, len(oms)),\n",
    "    np.tile(oms, len(ofs)),\n",
    "))"
   ]
  },
  {
   "cell_type": "markdown",
   "id": "a7ca3f7a",
   "metadata": {},
   "source": [
    "### 1) save lfr flags"
   ]
  },
  {
   "cell_type": "code",
   "execution_count": 5,
   "id": "4bd0a968",
   "metadata": {},
   "outputs": [],
   "source": [
    "for mode, o in bt_dict.items():\n",
    "    degs = {}\n",
    "    for key, (i, j, k) in o.address.items():\n",
    "        degs[f\"{mode2lbl[mode]}_{key}\"] = o.run_deg[i, j, k]\n",
    "\n",
    "    for of, om in looper:\n",
    "        name = [\n",
    "            f\"of{of}\",\n",
    "            f\"om{om}\",\n",
    "            f\"mu{mu}\",\n",
    "        ]\n",
    "        name = '-'.join(name)\n",
    "        mk_lfr(\n",
    "            name=name,\n",
    "            lfr_dir=lfr_dir,\n",
    "            degs=degs,\n",
    "            of=of,\n",
    "            om=om,\n",
    "        )"
   ]
  },
  {
   "cell_type": "markdown",
   "id": "b8ff9f42",
   "metadata": {},
   "source": [
    "### 2) ./run_lfr.sh\n",
    "Run this in terminal"
   ]
  },
  {
   "cell_type": "markdown",
   "id": "8a74c425",
   "metadata": {},
   "source": [
    "### 3) extract_true_k"
   ]
  },
  {
   "cell_type": "code",
   "execution_count": 6,
   "id": "653d5ef6",
   "metadata": {
    "scrolled": true
   },
   "outputs": [
    {
     "data": {
      "text/html": [
       "<pre style=\"white-space:pre;overflow-x:auto;line-height:normal;font-family:Menlo,'DejaVu Sans Mono',consolas,'Courier New',monospace\">Warning, not found:  of0-om0-mu0.1_BO_sub-SLC08_ses-2_run-<span style=\"color: #008080; text-decoration-color: #008080; font-weight: bold\">1</span>\n",
       "</pre>\n"
      ],
      "text/plain": [
       "Warning, not found:  of0-om0-mu0.1_BO_sub-SLC08_ses-2_run-\u001b[1;36m1\u001b[0m\n"
      ]
     },
     "metadata": {},
     "output_type": "display_data"
    },
    {
     "data": {
      "text/html": [
       "<pre style=\"white-space:pre;overflow-x:auto;line-height:normal;font-family:Menlo,'DejaVu Sans Mono',consolas,'Courier New',monospace\">Warning, not found:  of0-om0-mu0.1_CAF_sub-SLC02_ses-3_run-<span style=\"color: #008080; text-decoration-color: #008080; font-weight: bold\">7</span>\n",
       "</pre>\n"
      ],
      "text/plain": [
       "Warning, not found:  of0-om0-mu0.1_CAF_sub-SLC02_ses-3_run-\u001b[1;36m7\u001b[0m\n"
      ]
     },
     "metadata": {},
     "output_type": "display_data"
    },
    {
     "data": {
      "text/html": [
       "<pre style=\"white-space:pre;overflow-x:auto;line-height:normal;font-family:Menlo,'DejaVu Sans Mono',consolas,'Courier New',monospace\">Warning, not found:  of0-om0-mu0.1_CAF_sub-SLC03_ses-1_run-<span style=\"color: #008080; text-decoration-color: #008080; font-weight: bold\">2</span>\n",
       "</pre>\n"
      ],
      "text/plain": [
       "Warning, not found:  of0-om0-mu0.1_CAF_sub-SLC03_ses-1_run-\u001b[1;36m2\u001b[0m\n"
      ]
     },
     "metadata": {},
     "output_type": "display_data"
    },
    {
     "data": {
      "text/html": [
       "<pre style=\"white-space:pre;overflow-x:auto;line-height:normal;font-family:Menlo,'DejaVu Sans Mono',consolas,'Courier New',monospace\">Warning, not found:  of0-om0-mu0.1_CAF_sub-SLC03_ses-1_run-<span style=\"color: #008080; text-decoration-color: #008080; font-weight: bold\">4</span>\n",
       "</pre>\n"
      ],
      "text/plain": [
       "Warning, not found:  of0-om0-mu0.1_CAF_sub-SLC03_ses-1_run-\u001b[1;36m4\u001b[0m\n"
      ]
     },
     "metadata": {},
     "output_type": "display_data"
    },
    {
     "data": {
      "text/html": [
       "<pre style=\"white-space:pre;overflow-x:auto;line-height:normal;font-family:Menlo,'DejaVu Sans Mono',consolas,'Courier New',monospace\">Warning, not found:  of0-om0-mu0.1_CAF_sub-SLC03_ses-1_run-<span style=\"color: #008080; text-decoration-color: #008080; font-weight: bold\">6</span>\n",
       "</pre>\n"
      ],
      "text/plain": [
       "Warning, not found:  of0-om0-mu0.1_CAF_sub-SLC03_ses-1_run-\u001b[1;36m6\u001b[0m\n"
      ]
     },
     "metadata": {},
     "output_type": "display_data"
    },
    {
     "data": {
      "text/html": [
       "<pre style=\"white-space:pre;overflow-x:auto;line-height:normal;font-family:Menlo,'DejaVu Sans Mono',consolas,'Courier New',monospace\">Warning, not found:  of0-om0-mu0.1_CAF_sub-SLC03_ses-2_run-<span style=\"color: #008080; text-decoration-color: #008080; font-weight: bold\">3</span>\n",
       "</pre>\n"
      ],
      "text/plain": [
       "Warning, not found:  of0-om0-mu0.1_CAF_sub-SLC03_ses-2_run-\u001b[1;36m3\u001b[0m\n"
      ]
     },
     "metadata": {},
     "output_type": "display_data"
    },
    {
     "data": {
      "text/html": [
       "<pre style=\"white-space:pre;overflow-x:auto;line-height:normal;font-family:Menlo,'DejaVu Sans Mono',consolas,'Courier New',monospace\">Warning, not found:  of0-om0-mu0.1_CAF_sub-SLC03_ses-2_run-<span style=\"color: #008080; text-decoration-color: #008080; font-weight: bold\">5</span>\n",
       "</pre>\n"
      ],
      "text/plain": [
       "Warning, not found:  of0-om0-mu0.1_CAF_sub-SLC03_ses-2_run-\u001b[1;36m5\u001b[0m\n"
      ]
     },
     "metadata": {},
     "output_type": "display_data"
    },
    {
     "data": {
      "text/html": [
       "<pre style=\"white-space:pre;overflow-x:auto;line-height:normal;font-family:Menlo,'DejaVu Sans Mono',consolas,'Courier New',monospace\">Warning, not found:  of0-om0-mu0.1_CAF_sub-SLC03_ses-2_run-<span style=\"color: #008080; text-decoration-color: #008080; font-weight: bold\">7</span>\n",
       "</pre>\n"
      ],
      "text/plain": [
       "Warning, not found:  of0-om0-mu0.1_CAF_sub-SLC03_ses-2_run-\u001b[1;36m7\u001b[0m\n"
      ]
     },
     "metadata": {},
     "output_type": "display_data"
    },
    {
     "data": {
      "text/html": [
       "<pre style=\"white-space:pre;overflow-x:auto;line-height:normal;font-family:Menlo,'DejaVu Sans Mono',consolas,'Courier New',monospace\">Warning, not found:  of0-om0-mu0.1_CAF_sub-SLC03_ses-3_run-<span style=\"color: #008080; text-decoration-color: #008080; font-weight: bold\">3</span>\n",
       "</pre>\n"
      ],
      "text/plain": [
       "Warning, not found:  of0-om0-mu0.1_CAF_sub-SLC03_ses-3_run-\u001b[1;36m3\u001b[0m\n"
      ]
     },
     "metadata": {},
     "output_type": "display_data"
    },
    {
     "data": {
      "text/html": [
       "<pre style=\"white-space:pre;overflow-x:auto;line-height:normal;font-family:Menlo,'DejaVu Sans Mono',consolas,'Courier New',monospace\">Warning, not found:  of0-om0-mu0.1_CAF_sub-SLC03_ses-3_run-<span style=\"color: #008080; text-decoration-color: #008080; font-weight: bold\">5</span>\n",
       "</pre>\n"
      ],
      "text/plain": [
       "Warning, not found:  of0-om0-mu0.1_CAF_sub-SLC03_ses-3_run-\u001b[1;36m5\u001b[0m\n"
      ]
     },
     "metadata": {},
     "output_type": "display_data"
    },
    {
     "data": {
      "text/html": [
       "<pre style=\"white-space:pre;overflow-x:auto;line-height:normal;font-family:Menlo,'DejaVu Sans Mono',consolas,'Courier New',monospace\">Warning, not found:  of0-om0-mu0.1_CAF_sub-SLC03_ses-3_run-<span style=\"color: #008080; text-decoration-color: #008080; font-weight: bold\">7</span>\n",
       "</pre>\n"
      ],
      "text/plain": [
       "Warning, not found:  of0-om0-mu0.1_CAF_sub-SLC03_ses-3_run-\u001b[1;36m7\u001b[0m\n"
      ]
     },
     "metadata": {},
     "output_type": "display_data"
    },
    {
     "data": {
      "text/html": [
       "<pre style=\"white-space:pre;overflow-x:auto;line-height:normal;font-family:Menlo,'DejaVu Sans Mono',consolas,'Courier New',monospace\">Warning, not found:  of0-om0-mu0.1_CAF_sub-SLC04_ses-1_run-<span style=\"color: #008080; text-decoration-color: #008080; font-weight: bold\">1</span>\n",
       "</pre>\n"
      ],
      "text/plain": [
       "Warning, not found:  of0-om0-mu0.1_CAF_sub-SLC04_ses-1_run-\u001b[1;36m1\u001b[0m\n"
      ]
     },
     "metadata": {},
     "output_type": "display_data"
    },
    {
     "data": {
      "text/html": [
       "<pre style=\"white-space:pre;overflow-x:auto;line-height:normal;font-family:Menlo,'DejaVu Sans Mono',consolas,'Courier New',monospace\">Warning, not found:  of0-om0-mu0.1_CAF_sub-SLC04_ses-1_run-<span style=\"color: #008080; text-decoration-color: #008080; font-weight: bold\">3</span>\n",
       "</pre>\n"
      ],
      "text/plain": [
       "Warning, not found:  of0-om0-mu0.1_CAF_sub-SLC04_ses-1_run-\u001b[1;36m3\u001b[0m\n"
      ]
     },
     "metadata": {},
     "output_type": "display_data"
    },
    {
     "data": {
      "text/html": [
       "<pre style=\"white-space:pre;overflow-x:auto;line-height:normal;font-family:Menlo,'DejaVu Sans Mono',consolas,'Courier New',monospace\">Warning, not found:  of0-om0-mu0.1_CAF_sub-SLC04_ses-1_run-<span style=\"color: #008080; text-decoration-color: #008080; font-weight: bold\">5</span>\n",
       "</pre>\n"
      ],
      "text/plain": [
       "Warning, not found:  of0-om0-mu0.1_CAF_sub-SLC04_ses-1_run-\u001b[1;36m5\u001b[0m\n"
      ]
     },
     "metadata": {},
     "output_type": "display_data"
    },
    {
     "data": {
      "text/html": [
       "<pre style=\"white-space:pre;overflow-x:auto;line-height:normal;font-family:Menlo,'DejaVu Sans Mono',consolas,'Courier New',monospace\">Warning, not found:  of0-om0-mu0.1_CAF_sub-SLC04_ses-1_run-<span style=\"color: #008080; text-decoration-color: #008080; font-weight: bold\">7</span>\n",
       "</pre>\n"
      ],
      "text/plain": [
       "Warning, not found:  of0-om0-mu0.1_CAF_sub-SLC04_ses-1_run-\u001b[1;36m7\u001b[0m\n"
      ]
     },
     "metadata": {},
     "output_type": "display_data"
    },
    {
     "data": {
      "text/html": [
       "<pre style=\"white-space:pre;overflow-x:auto;line-height:normal;font-family:Menlo,'DejaVu Sans Mono',consolas,'Courier New',monospace\">Warning, not found:  of0-om0-mu0.1_CAF_sub-SLC04_ses-2_run-<span style=\"color: #008080; text-decoration-color: #008080; font-weight: bold\">3</span>\n",
       "</pre>\n"
      ],
      "text/plain": [
       "Warning, not found:  of0-om0-mu0.1_CAF_sub-SLC04_ses-2_run-\u001b[1;36m3\u001b[0m\n"
      ]
     },
     "metadata": {},
     "output_type": "display_data"
    },
    {
     "data": {
      "text/html": [
       "<pre style=\"white-space:pre;overflow-x:auto;line-height:normal;font-family:Menlo,'DejaVu Sans Mono',consolas,'Courier New',monospace\">Warning, not found:  of0-om0-mu0.1_CAF_sub-SLC04_ses-2_run-<span style=\"color: #008080; text-decoration-color: #008080; font-weight: bold\">5</span>\n",
       "</pre>\n"
      ],
      "text/plain": [
       "Warning, not found:  of0-om0-mu0.1_CAF_sub-SLC04_ses-2_run-\u001b[1;36m5\u001b[0m\n"
      ]
     },
     "metadata": {},
     "output_type": "display_data"
    },
    {
     "data": {
      "text/html": [
       "<pre style=\"white-space:pre;overflow-x:auto;line-height:normal;font-family:Menlo,'DejaVu Sans Mono',consolas,'Courier New',monospace\">Warning, not found:  of0-om0-mu0.1_CAF_sub-SLC04_ses-2_run-<span style=\"color: #008080; text-decoration-color: #008080; font-weight: bold\">7</span>\n",
       "</pre>\n"
      ],
      "text/plain": [
       "Warning, not found:  of0-om0-mu0.1_CAF_sub-SLC04_ses-2_run-\u001b[1;36m7\u001b[0m\n"
      ]
     },
     "metadata": {},
     "output_type": "display_data"
    },
    {
     "data": {
      "text/html": [
       "<pre style=\"white-space:pre;overflow-x:auto;line-height:normal;font-family:Menlo,'DejaVu Sans Mono',consolas,'Courier New',monospace\">Warning, not found:  of0-om0-mu0.1_CAF_sub-SLC04_ses-3_run-<span style=\"color: #008080; text-decoration-color: #008080; font-weight: bold\">5</span>\n",
       "</pre>\n"
      ],
      "text/plain": [
       "Warning, not found:  of0-om0-mu0.1_CAF_sub-SLC04_ses-3_run-\u001b[1;36m5\u001b[0m\n"
      ]
     },
     "metadata": {},
     "output_type": "display_data"
    },
    {
     "data": {
      "text/html": [
       "<pre style=\"white-space:pre;overflow-x:auto;line-height:normal;font-family:Menlo,'DejaVu Sans Mono',consolas,'Courier New',monospace\">Warning, not found:  of0-om0-mu0.1_CAF_sub-SLC05_ses-1_run-<span style=\"color: #008080; text-decoration-color: #008080; font-weight: bold\">3</span>\n",
       "</pre>\n"
      ],
      "text/plain": [
       "Warning, not found:  of0-om0-mu0.1_CAF_sub-SLC05_ses-1_run-\u001b[1;36m3\u001b[0m\n"
      ]
     },
     "metadata": {},
     "output_type": "display_data"
    },
    {
     "data": {
      "text/html": [
       "<pre style=\"white-space:pre;overflow-x:auto;line-height:normal;font-family:Menlo,'DejaVu Sans Mono',consolas,'Courier New',monospace\">Warning, not found:  of0-om0-mu0.1_CAF_sub-SLC05_ses-1_run-<span style=\"color: #008080; text-decoration-color: #008080; font-weight: bold\">5</span>\n",
       "</pre>\n"
      ],
      "text/plain": [
       "Warning, not found:  of0-om0-mu0.1_CAF_sub-SLC05_ses-1_run-\u001b[1;36m5\u001b[0m\n"
      ]
     },
     "metadata": {},
     "output_type": "display_data"
    },
    {
     "data": {
      "text/html": [
       "<pre style=\"white-space:pre;overflow-x:auto;line-height:normal;font-family:Menlo,'DejaVu Sans Mono',consolas,'Courier New',monospace\">Warning, not found:  of0-om0-mu0.1_CAF_sub-SLC05_ses-1_run-<span style=\"color: #008080; text-decoration-color: #008080; font-weight: bold\">7</span>\n",
       "</pre>\n"
      ],
      "text/plain": [
       "Warning, not found:  of0-om0-mu0.1_CAF_sub-SLC05_ses-1_run-\u001b[1;36m7\u001b[0m\n"
      ]
     },
     "metadata": {},
     "output_type": "display_data"
    },
    {
     "data": {
      "text/html": [
       "<pre style=\"white-space:pre;overflow-x:auto;line-height:normal;font-family:Menlo,'DejaVu Sans Mono',consolas,'Courier New',monospace\">Warning, not found:  of0-om0-mu0.1_CAF_sub-SLC05_ses-2_run-<span style=\"color: #008080; text-decoration-color: #008080; font-weight: bold\">5</span>\n",
       "</pre>\n"
      ],
      "text/plain": [
       "Warning, not found:  of0-om0-mu0.1_CAF_sub-SLC05_ses-2_run-\u001b[1;36m5\u001b[0m\n"
      ]
     },
     "metadata": {},
     "output_type": "display_data"
    },
    {
     "data": {
      "text/html": [
       "<pre style=\"white-space:pre;overflow-x:auto;line-height:normal;font-family:Menlo,'DejaVu Sans Mono',consolas,'Courier New',monospace\">Warning, not found:  of0-om0-mu0.1_CAF_sub-SLC05_ses-2_run-<span style=\"color: #008080; text-decoration-color: #008080; font-weight: bold\">7</span>\n",
       "</pre>\n"
      ],
      "text/plain": [
       "Warning, not found:  of0-om0-mu0.1_CAF_sub-SLC05_ses-2_run-\u001b[1;36m7\u001b[0m\n"
      ]
     },
     "metadata": {},
     "output_type": "display_data"
    },
    {
     "data": {
      "text/html": [
       "<pre style=\"white-space:pre;overflow-x:auto;line-height:normal;font-family:Menlo,'DejaVu Sans Mono',consolas,'Courier New',monospace\">Warning, not found:  of0-om0-mu0.1_CAF_sub-SLC05_ses-3_run-<span style=\"color: #008080; text-decoration-color: #008080; font-weight: bold\">3</span>\n",
       "</pre>\n"
      ],
      "text/plain": [
       "Warning, not found:  of0-om0-mu0.1_CAF_sub-SLC05_ses-3_run-\u001b[1;36m3\u001b[0m\n"
      ]
     },
     "metadata": {},
     "output_type": "display_data"
    },
    {
     "data": {
      "text/html": [
       "<pre style=\"white-space:pre;overflow-x:auto;line-height:normal;font-family:Menlo,'DejaVu Sans Mono',consolas,'Courier New',monospace\">Warning, not found:  of0-om0-mu0.1_CAF_sub-SLC05_ses-3_run-<span style=\"color: #008080; text-decoration-color: #008080; font-weight: bold\">7</span>\n",
       "</pre>\n"
      ],
      "text/plain": [
       "Warning, not found:  of0-om0-mu0.1_CAF_sub-SLC05_ses-3_run-\u001b[1;36m7\u001b[0m\n"
      ]
     },
     "metadata": {},
     "output_type": "display_data"
    },
    {
     "data": {
      "text/html": [
       "<pre style=\"white-space:pre;overflow-x:auto;line-height:normal;font-family:Menlo,'DejaVu Sans Mono',consolas,'Courier New',monospace\">Warning, not found:  of0-om0-mu0.1_CAF_sub-SLC09_ses-1_run-<span style=\"color: #008080; text-decoration-color: #008080; font-weight: bold\">1</span>\n",
       "</pre>\n"
      ],
      "text/plain": [
       "Warning, not found:  of0-om0-mu0.1_CAF_sub-SLC09_ses-1_run-\u001b[1;36m1\u001b[0m\n"
      ]
     },
     "metadata": {},
     "output_type": "display_data"
    },
    {
     "data": {
      "text/html": [
       "<pre style=\"white-space:pre;overflow-x:auto;line-height:normal;font-family:Menlo,'DejaVu Sans Mono',consolas,'Courier New',monospace\">Warning, not found:  of0-om0-mu0.1_CAF_sub-SLC09_ses-1_run-<span style=\"color: #008080; text-decoration-color: #008080; font-weight: bold\">5</span>\n",
       "</pre>\n"
      ],
      "text/plain": [
       "Warning, not found:  of0-om0-mu0.1_CAF_sub-SLC09_ses-1_run-\u001b[1;36m5\u001b[0m\n"
      ]
     },
     "metadata": {},
     "output_type": "display_data"
    },
    {
     "data": {
      "text/html": [
       "<pre style=\"white-space:pre;overflow-x:auto;line-height:normal;font-family:Menlo,'DejaVu Sans Mono',consolas,'Courier New',monospace\">Warning, not found:  of0-om0-mu0.1_CAF_sub-SLC09_ses-1_run-<span style=\"color: #008080; text-decoration-color: #008080; font-weight: bold\">7</span>\n",
       "</pre>\n"
      ],
      "text/plain": [
       "Warning, not found:  of0-om0-mu0.1_CAF_sub-SLC09_ses-1_run-\u001b[1;36m7\u001b[0m\n"
      ]
     },
     "metadata": {},
     "output_type": "display_data"
    },
    {
     "data": {
      "text/html": [
       "<pre style=\"white-space:pre;overflow-x:auto;line-height:normal;font-family:Menlo,'DejaVu Sans Mono',consolas,'Courier New',monospace\">Warning, not found:  of0.<span style=\"color: #008080; text-decoration-color: #008080; font-weight: bold\">1</span>-om2-mu0.1_CAF_sub-SLC03_ses-2_run-<span style=\"color: #008080; text-decoration-color: #008080; font-weight: bold\">7</span>\n",
       "</pre>\n"
      ],
      "text/plain": [
       "Warning, not found:  of0.\u001b[1;36m1\u001b[0m-om2-mu0.1_CAF_sub-SLC03_ses-2_run-\u001b[1;36m7\u001b[0m\n"
      ]
     },
     "metadata": {},
     "output_type": "display_data"
    },
    {
     "data": {
      "text/html": [
       "<pre style=\"white-space:pre;overflow-x:auto;line-height:normal;font-family:Menlo,'DejaVu Sans Mono',consolas,'Courier New',monospace\">Warning, not found:  of0.<span style=\"color: #008080; text-decoration-color: #008080; font-weight: bold\">1</span>-om2-mu0.1_CAF_sub-SLC03_ses-3_run-<span style=\"color: #008080; text-decoration-color: #008080; font-weight: bold\">5</span>\n",
       "</pre>\n"
      ],
      "text/plain": [
       "Warning, not found:  of0.\u001b[1;36m1\u001b[0m-om2-mu0.1_CAF_sub-SLC03_ses-3_run-\u001b[1;36m5\u001b[0m\n"
      ]
     },
     "metadata": {},
     "output_type": "display_data"
    },
    {
     "data": {
      "text/html": [
       "<pre style=\"white-space:pre;overflow-x:auto;line-height:normal;font-family:Menlo,'DejaVu Sans Mono',consolas,'Courier New',monospace\">Warning, not found:  of0.<span style=\"color: #008080; text-decoration-color: #008080; font-weight: bold\">1</span>-om2-mu0.1_CAF_sub-SLC04_ses-3_run-<span style=\"color: #008080; text-decoration-color: #008080; font-weight: bold\">5</span>\n",
       "</pre>\n"
      ],
      "text/plain": [
       "Warning, not found:  of0.\u001b[1;36m1\u001b[0m-om2-mu0.1_CAF_sub-SLC04_ses-3_run-\u001b[1;36m5\u001b[0m\n"
      ]
     },
     "metadata": {},
     "output_type": "display_data"
    },
    {
     "data": {
      "text/html": [
       "<pre style=\"white-space:pre;overflow-x:auto;line-height:normal;font-family:Menlo,'DejaVu Sans Mono',consolas,'Courier New',monospace\">Warning, not found:  of0.<span style=\"color: #008080; text-decoration-color: #008080; font-weight: bold\">1</span>-om2-mu0.1_CAF_sub-SLC05_ses-1_run-<span style=\"color: #008080; text-decoration-color: #008080; font-weight: bold\">3</span>\n",
       "</pre>\n"
      ],
      "text/plain": [
       "Warning, not found:  of0.\u001b[1;36m1\u001b[0m-om2-mu0.1_CAF_sub-SLC05_ses-1_run-\u001b[1;36m3\u001b[0m\n"
      ]
     },
     "metadata": {},
     "output_type": "display_data"
    },
    {
     "data": {
      "text/html": [
       "<pre style=\"white-space:pre;overflow-x:auto;line-height:normal;font-family:Menlo,'DejaVu Sans Mono',consolas,'Courier New',monospace\">Warning, not found:  of0.<span style=\"color: #008080; text-decoration-color: #008080; font-weight: bold\">1</span>-om3-mu0.1_CAF_sub-SLC03_ses-1_run-<span style=\"color: #008080; text-decoration-color: #008080; font-weight: bold\">4</span>\n",
       "</pre>\n"
      ],
      "text/plain": [
       "Warning, not found:  of0.\u001b[1;36m1\u001b[0m-om3-mu0.1_CAF_sub-SLC03_ses-1_run-\u001b[1;36m4\u001b[0m\n"
      ]
     },
     "metadata": {},
     "output_type": "display_data"
    },
    {
     "data": {
      "text/html": [
       "<pre style=\"white-space:pre;overflow-x:auto;line-height:normal;font-family:Menlo,'DejaVu Sans Mono',consolas,'Courier New',monospace\">Warning, not found:  of0.<span style=\"color: #008080; text-decoration-color: #008080; font-weight: bold\">1</span>-om3-mu0.1_CAF_sub-SLC03_ses-1_run-<span style=\"color: #008080; text-decoration-color: #008080; font-weight: bold\">6</span>\n",
       "</pre>\n"
      ],
      "text/plain": [
       "Warning, not found:  of0.\u001b[1;36m1\u001b[0m-om3-mu0.1_CAF_sub-SLC03_ses-1_run-\u001b[1;36m6\u001b[0m\n"
      ]
     },
     "metadata": {},
     "output_type": "display_data"
    },
    {
     "data": {
      "text/html": [
       "<pre style=\"white-space:pre;overflow-x:auto;line-height:normal;font-family:Menlo,'DejaVu Sans Mono',consolas,'Courier New',monospace\">Warning, not found:  of0.<span style=\"color: #008080; text-decoration-color: #008080; font-weight: bold\">1</span>-om3-mu0.1_CAF_sub-SLC03_ses-2_run-<span style=\"color: #008080; text-decoration-color: #008080; font-weight: bold\">5</span>\n",
       "</pre>\n"
      ],
      "text/plain": [
       "Warning, not found:  of0.\u001b[1;36m1\u001b[0m-om3-mu0.1_CAF_sub-SLC03_ses-2_run-\u001b[1;36m5\u001b[0m\n"
      ]
     },
     "metadata": {},
     "output_type": "display_data"
    },
    {
     "data": {
      "text/html": [
       "<pre style=\"white-space:pre;overflow-x:auto;line-height:normal;font-family:Menlo,'DejaVu Sans Mono',consolas,'Courier New',monospace\">Warning, not found:  of0.<span style=\"color: #008080; text-decoration-color: #008080; font-weight: bold\">1</span>-om3-mu0.1_CAF_sub-SLC03_ses-2_run-<span style=\"color: #008080; text-decoration-color: #008080; font-weight: bold\">7</span>\n",
       "</pre>\n"
      ],
      "text/plain": [
       "Warning, not found:  of0.\u001b[1;36m1\u001b[0m-om3-mu0.1_CAF_sub-SLC03_ses-2_run-\u001b[1;36m7\u001b[0m\n"
      ]
     },
     "metadata": {},
     "output_type": "display_data"
    },
    {
     "data": {
      "text/html": [
       "<pre style=\"white-space:pre;overflow-x:auto;line-height:normal;font-family:Menlo,'DejaVu Sans Mono',consolas,'Courier New',monospace\">Warning, not found:  of0.<span style=\"color: #008080; text-decoration-color: #008080; font-weight: bold\">1</span>-om3-mu0.1_CAF_sub-SLC03_ses-3_run-<span style=\"color: #008080; text-decoration-color: #008080; font-weight: bold\">3</span>\n",
       "</pre>\n"
      ],
      "text/plain": [
       "Warning, not found:  of0.\u001b[1;36m1\u001b[0m-om3-mu0.1_CAF_sub-SLC03_ses-3_run-\u001b[1;36m3\u001b[0m\n"
      ]
     },
     "metadata": {},
     "output_type": "display_data"
    },
    {
     "data": {
      "text/html": [
       "<pre style=\"white-space:pre;overflow-x:auto;line-height:normal;font-family:Menlo,'DejaVu Sans Mono',consolas,'Courier New',monospace\">Warning, not found:  of0.<span style=\"color: #008080; text-decoration-color: #008080; font-weight: bold\">1</span>-om3-mu0.1_CAF_sub-SLC03_ses-3_run-<span style=\"color: #008080; text-decoration-color: #008080; font-weight: bold\">5</span>\n",
       "</pre>\n"
      ],
      "text/plain": [
       "Warning, not found:  of0.\u001b[1;36m1\u001b[0m-om3-mu0.1_CAF_sub-SLC03_ses-3_run-\u001b[1;36m5\u001b[0m\n"
      ]
     },
     "metadata": {},
     "output_type": "display_data"
    },
    {
     "data": {
      "text/html": [
       "<pre style=\"white-space:pre;overflow-x:auto;line-height:normal;font-family:Menlo,'DejaVu Sans Mono',consolas,'Courier New',monospace\">Warning, not found:  of0.<span style=\"color: #008080; text-decoration-color: #008080; font-weight: bold\">1</span>-om3-mu0.1_CAF_sub-SLC03_ses-3_run-<span style=\"color: #008080; text-decoration-color: #008080; font-weight: bold\">7</span>\n",
       "</pre>\n"
      ],
      "text/plain": [
       "Warning, not found:  of0.\u001b[1;36m1\u001b[0m-om3-mu0.1_CAF_sub-SLC03_ses-3_run-\u001b[1;36m7\u001b[0m\n"
      ]
     },
     "metadata": {},
     "output_type": "display_data"
    },
    {
     "data": {
      "text/html": [
       "<pre style=\"white-space:pre;overflow-x:auto;line-height:normal;font-family:Menlo,'DejaVu Sans Mono',consolas,'Courier New',monospace\">Warning, not found:  of0.<span style=\"color: #008080; text-decoration-color: #008080; font-weight: bold\">1</span>-om3-mu0.1_CAF_sub-SLC04_ses-1_run-<span style=\"color: #008080; text-decoration-color: #008080; font-weight: bold\">3</span>\n",
       "</pre>\n"
      ],
      "text/plain": [
       "Warning, not found:  of0.\u001b[1;36m1\u001b[0m-om3-mu0.1_CAF_sub-SLC04_ses-1_run-\u001b[1;36m3\u001b[0m\n"
      ]
     },
     "metadata": {},
     "output_type": "display_data"
    },
    {
     "data": {
      "text/html": [
       "<pre style=\"white-space:pre;overflow-x:auto;line-height:normal;font-family:Menlo,'DejaVu Sans Mono',consolas,'Courier New',monospace\">Warning, not found:  of0.<span style=\"color: #008080; text-decoration-color: #008080; font-weight: bold\">1</span>-om3-mu0.1_CAF_sub-SLC04_ses-1_run-<span style=\"color: #008080; text-decoration-color: #008080; font-weight: bold\">5</span>\n",
       "</pre>\n"
      ],
      "text/plain": [
       "Warning, not found:  of0.\u001b[1;36m1\u001b[0m-om3-mu0.1_CAF_sub-SLC04_ses-1_run-\u001b[1;36m5\u001b[0m\n"
      ]
     },
     "metadata": {},
     "output_type": "display_data"
    },
    {
     "data": {
      "text/html": [
       "<pre style=\"white-space:pre;overflow-x:auto;line-height:normal;font-family:Menlo,'DejaVu Sans Mono',consolas,'Courier New',monospace\">Warning, not found:  of0.<span style=\"color: #008080; text-decoration-color: #008080; font-weight: bold\">1</span>-om3-mu0.1_CAF_sub-SLC04_ses-1_run-<span style=\"color: #008080; text-decoration-color: #008080; font-weight: bold\">7</span>\n",
       "</pre>\n"
      ],
      "text/plain": [
       "Warning, not found:  of0.\u001b[1;36m1\u001b[0m-om3-mu0.1_CAF_sub-SLC04_ses-1_run-\u001b[1;36m7\u001b[0m\n"
      ]
     },
     "metadata": {},
     "output_type": "display_data"
    },
    {
     "data": {
      "text/html": [
       "<pre style=\"white-space:pre;overflow-x:auto;line-height:normal;font-family:Menlo,'DejaVu Sans Mono',consolas,'Courier New',monospace\">Warning, not found:  of0.<span style=\"color: #008080; text-decoration-color: #008080; font-weight: bold\">1</span>-om3-mu0.1_CAF_sub-SLC04_ses-2_run-<span style=\"color: #008080; text-decoration-color: #008080; font-weight: bold\">3</span>\n",
       "</pre>\n"
      ],
      "text/plain": [
       "Warning, not found:  of0.\u001b[1;36m1\u001b[0m-om3-mu0.1_CAF_sub-SLC04_ses-2_run-\u001b[1;36m3\u001b[0m\n"
      ]
     },
     "metadata": {},
     "output_type": "display_data"
    },
    {
     "data": {
      "text/html": [
       "<pre style=\"white-space:pre;overflow-x:auto;line-height:normal;font-family:Menlo,'DejaVu Sans Mono',consolas,'Courier New',monospace\">Warning, not found:  of0.<span style=\"color: #008080; text-decoration-color: #008080; font-weight: bold\">1</span>-om3-mu0.1_CAF_sub-SLC04_ses-2_run-<span style=\"color: #008080; text-decoration-color: #008080; font-weight: bold\">5</span>\n",
       "</pre>\n"
      ],
      "text/plain": [
       "Warning, not found:  of0.\u001b[1;36m1\u001b[0m-om3-mu0.1_CAF_sub-SLC04_ses-2_run-\u001b[1;36m5\u001b[0m\n"
      ]
     },
     "metadata": {},
     "output_type": "display_data"
    },
    {
     "data": {
      "text/html": [
       "<pre style=\"white-space:pre;overflow-x:auto;line-height:normal;font-family:Menlo,'DejaVu Sans Mono',consolas,'Courier New',monospace\">Warning, not found:  of0.<span style=\"color: #008080; text-decoration-color: #008080; font-weight: bold\">1</span>-om3-mu0.1_CAF_sub-SLC04_ses-2_run-<span style=\"color: #008080; text-decoration-color: #008080; font-weight: bold\">7</span>\n",
       "</pre>\n"
      ],
      "text/plain": [
       "Warning, not found:  of0.\u001b[1;36m1\u001b[0m-om3-mu0.1_CAF_sub-SLC04_ses-2_run-\u001b[1;36m7\u001b[0m\n"
      ]
     },
     "metadata": {},
     "output_type": "display_data"
    },
    {
     "data": {
      "text/html": [
       "<pre style=\"white-space:pre;overflow-x:auto;line-height:normal;font-family:Menlo,'DejaVu Sans Mono',consolas,'Courier New',monospace\">Warning, not found:  of0.<span style=\"color: #008080; text-decoration-color: #008080; font-weight: bold\">1</span>-om3-mu0.1_CAF_sub-SLC04_ses-3_run-<span style=\"color: #008080; text-decoration-color: #008080; font-weight: bold\">5</span>\n",
       "</pre>\n"
      ],
      "text/plain": [
       "Warning, not found:  of0.\u001b[1;36m1\u001b[0m-om3-mu0.1_CAF_sub-SLC04_ses-3_run-\u001b[1;36m5\u001b[0m\n"
      ]
     },
     "metadata": {},
     "output_type": "display_data"
    },
    {
     "data": {
      "text/html": [
       "<pre style=\"white-space:pre;overflow-x:auto;line-height:normal;font-family:Menlo,'DejaVu Sans Mono',consolas,'Courier New',monospace\">Warning, not found:  of0.<span style=\"color: #008080; text-decoration-color: #008080; font-weight: bold\">1</span>-om3-mu0.1_CAF_sub-SLC05_ses-1_run-<span style=\"color: #008080; text-decoration-color: #008080; font-weight: bold\">3</span>\n",
       "</pre>\n"
      ],
      "text/plain": [
       "Warning, not found:  of0.\u001b[1;36m1\u001b[0m-om3-mu0.1_CAF_sub-SLC05_ses-1_run-\u001b[1;36m3\u001b[0m\n"
      ]
     },
     "metadata": {},
     "output_type": "display_data"
    },
    {
     "data": {
      "text/html": [
       "<pre style=\"white-space:pre;overflow-x:auto;line-height:normal;font-family:Menlo,'DejaVu Sans Mono',consolas,'Courier New',monospace\">Warning, not found:  of0.<span style=\"color: #008080; text-decoration-color: #008080; font-weight: bold\">1</span>-om3-mu0.1_CAF_sub-SLC05_ses-1_run-<span style=\"color: #008080; text-decoration-color: #008080; font-weight: bold\">5</span>\n",
       "</pre>\n"
      ],
      "text/plain": [
       "Warning, not found:  of0.\u001b[1;36m1\u001b[0m-om3-mu0.1_CAF_sub-SLC05_ses-1_run-\u001b[1;36m5\u001b[0m\n"
      ]
     },
     "metadata": {},
     "output_type": "display_data"
    },
    {
     "data": {
      "text/html": [
       "<pre style=\"white-space:pre;overflow-x:auto;line-height:normal;font-family:Menlo,'DejaVu Sans Mono',consolas,'Courier New',monospace\">Warning, not found:  of0.<span style=\"color: #008080; text-decoration-color: #008080; font-weight: bold\">1</span>-om3-mu0.1_CAF_sub-SLC05_ses-1_run-<span style=\"color: #008080; text-decoration-color: #008080; font-weight: bold\">7</span>\n",
       "</pre>\n"
      ],
      "text/plain": [
       "Warning, not found:  of0.\u001b[1;36m1\u001b[0m-om3-mu0.1_CAF_sub-SLC05_ses-1_run-\u001b[1;36m7\u001b[0m\n"
      ]
     },
     "metadata": {},
     "output_type": "display_data"
    },
    {
     "data": {
      "text/html": [
       "<pre style=\"white-space:pre;overflow-x:auto;line-height:normal;font-family:Menlo,'DejaVu Sans Mono',consolas,'Courier New',monospace\">Warning, not found:  of0.<span style=\"color: #008080; text-decoration-color: #008080; font-weight: bold\">1</span>-om3-mu0.1_CAF_sub-SLC05_ses-2_run-<span style=\"color: #008080; text-decoration-color: #008080; font-weight: bold\">5</span>\n",
       "</pre>\n"
      ],
      "text/plain": [
       "Warning, not found:  of0.\u001b[1;36m1\u001b[0m-om3-mu0.1_CAF_sub-SLC05_ses-2_run-\u001b[1;36m5\u001b[0m\n"
      ]
     },
     "metadata": {},
     "output_type": "display_data"
    },
    {
     "data": {
      "text/html": [
       "<pre style=\"white-space:pre;overflow-x:auto;line-height:normal;font-family:Menlo,'DejaVu Sans Mono',consolas,'Courier New',monospace\">Warning, not found:  of0.<span style=\"color: #008080; text-decoration-color: #008080; font-weight: bold\">1</span>-om3-mu0.1_CAF_sub-SLC05_ses-2_run-<span style=\"color: #008080; text-decoration-color: #008080; font-weight: bold\">7</span>\n",
       "</pre>\n"
      ],
      "text/plain": [
       "Warning, not found:  of0.\u001b[1;36m1\u001b[0m-om3-mu0.1_CAF_sub-SLC05_ses-2_run-\u001b[1;36m7\u001b[0m\n"
      ]
     },
     "metadata": {},
     "output_type": "display_data"
    },
    {
     "data": {
      "text/html": [
       "<pre style=\"white-space:pre;overflow-x:auto;line-height:normal;font-family:Menlo,'DejaVu Sans Mono',consolas,'Courier New',monospace\">Warning, not found:  of0.<span style=\"color: #008080; text-decoration-color: #008080; font-weight: bold\">1</span>-om3-mu0.1_CAF_sub-SLC05_ses-3_run-<span style=\"color: #008080; text-decoration-color: #008080; font-weight: bold\">3</span>\n",
       "</pre>\n"
      ],
      "text/plain": [
       "Warning, not found:  of0.\u001b[1;36m1\u001b[0m-om3-mu0.1_CAF_sub-SLC05_ses-3_run-\u001b[1;36m3\u001b[0m\n"
      ]
     },
     "metadata": {},
     "output_type": "display_data"
    },
    {
     "data": {
      "text/html": [
       "<pre style=\"white-space:pre;overflow-x:auto;line-height:normal;font-family:Menlo,'DejaVu Sans Mono',consolas,'Courier New',monospace\">Warning, not found:  of0.<span style=\"color: #008080; text-decoration-color: #008080; font-weight: bold\">1</span>-om3-mu0.1_CAF_sub-SLC05_ses-3_run-<span style=\"color: #008080; text-decoration-color: #008080; font-weight: bold\">7</span>\n",
       "</pre>\n"
      ],
      "text/plain": [
       "Warning, not found:  of0.\u001b[1;36m1\u001b[0m-om3-mu0.1_CAF_sub-SLC05_ses-3_run-\u001b[1;36m7\u001b[0m\n"
      ]
     },
     "metadata": {},
     "output_type": "display_data"
    },
    {
     "name": "stdout",
     "output_type": "stream",
     "text": [
      "CPU times: user 22min 46s, sys: 17.3 s, total: 23min 3s\n",
      "Wall time: 23min 3s\n"
     ]
    }
   ],
   "source": [
    "%%time\n",
    "\n",
    "extract_true_k(lfr_dir)"
   ]
  },
  {
   "cell_type": "markdown",
   "id": "aeb3c535",
   "metadata": {},
   "source": [
    "### 4) ./loop_svinet_lfr.sh\n",
    "\n",
    "Run this too in terminal"
   ]
  },
  {
   "cell_type": "markdown",
   "id": "42722d4a",
   "metadata": {},
   "source": [
    "### 5) Done."
   ]
  },
  {
   "cell_type": "markdown",
   "id": "352ff111",
   "metadata": {},
   "source": [
    "## Analyze (basic stats)"
   ]
  },
  {
   "cell_type": "code",
   "execution_count": 5,
   "id": "5e94cc9a",
   "metadata": {},
   "outputs": [
    {
     "data": {
      "text/html": [
       "<pre style=\"white-space:pre;overflow-x:auto;line-height:normal;font-family:Menlo,'DejaVu Sans Mono',consolas,'Courier New',monospace\">Num true communities:   <span style=\"color: #008080; text-decoration-color: #008080; font-weight: bold\">6</span>\n",
       "Num overlapping nodes:  <span style=\"color: #008080; text-decoration-color: #008080; font-weight: bold\">100</span>\n",
       "\n",
       "</pre>\n"
      ],
      "text/plain": [
       "Num true communities:   \u001b[1;36m6\u001b[0m\n",
       "Num overlapping nodes:  \u001b[1;36m100\u001b[0m\n",
       "\n"
      ]
     },
     "metadata": {},
     "output_type": "display_data"
    },
    {
     "data": {
      "text/html": [
       "<pre style=\"white-space:pre;overflow-x:auto;line-height:normal;font-family:Menlo,'DejaVu Sans Mono',consolas,'Courier New',monospace\"><span style=\"font-weight: bold\">[</span><span style=\"color: #008000; text-decoration-color: #008000\">'g'</span>, <span style=\"color: #008000; text-decoration-color: #008000\">'a'</span>, <span style=\"color: #008000; text-decoration-color: #008000\">'community'</span>, <span style=\"color: #008000; text-decoration-color: #008000\">'membership'</span>, <span style=\"color: #008000; text-decoration-color: #008000\">'partition'</span><span style=\"font-weight: bold\">]</span>\n",
       "</pre>\n"
      ],
      "text/plain": [
       "\u001b[1m[\u001b[0m\u001b[32m'g'\u001b[0m, \u001b[32m'a'\u001b[0m, \u001b[32m'community'\u001b[0m, \u001b[32m'membership'\u001b[0m, \u001b[32m'partition'\u001b[0m\u001b[1m]\u001b[0m\n"
      ]
     },
     "metadata": {},
     "output_type": "display_data"
    }
   ],
   "source": [
    "mu = 0.1\n",
    "of, om = 0.2, 2\n",
    "name = [\n",
    "    f\"of{of}\",\n",
    "    f\"om{om}\",\n",
    "    f\"mu{mu}\",\n",
    "]\n",
    "name = '-'.join(name)\n",
    "key = mice.get_key(8, 1, 1)\n",
    "\n",
    "lfr = load_lfr(\n",
    "    load_dir=pjoin(lfr_dir, 'results', f\"{name}_BO_{key}\"),\n",
    "    random_state=mice.cfg.random_state,\n",
    ")\n",
    "list(lfr)"
   ]
  },
  {
   "cell_type": "code",
   "execution_count": 6,
   "id": "45c7f038",
   "metadata": {},
   "outputs": [
    {
     "data": {
      "text/html": [
       "<pre style=\"white-space:pre;overflow-x:auto;line-height:normal;font-family:Menlo,'DejaVu Sans Mono',consolas,'Courier New',monospace\"><span style=\"color: #008080; text-decoration-color: #008080; font-weight: bold\">6</span>\n",
       "</pre>\n"
      ],
      "text/plain": [
       "\u001b[1;36m6\u001b[0m\n"
      ]
     },
     "metadata": {},
     "output_type": "display_data"
    }
   ],
   "source": [
    "sorted_comm = collections.defaultdict(list)\n",
    "for n, idx in lfr['partition'].items():\n",
    "    sorted_comm[idx].append(n)\n",
    "sorted_comm = dict(sorted_comm)\n",
    "len(sorted_comm)"
   ]
  },
  {
   "cell_type": "code",
   "execution_count": 7,
   "id": "922eab8f",
   "metadata": {},
   "outputs": [
    {
     "data": {
      "text/html": [
       "<pre style=\"white-space:pre;overflow-x:auto;line-height:normal;font-family:Menlo,'DejaVu Sans Mono',consolas,'Courier New',monospace\"><span style=\"color: #008080; text-decoration-color: #008080; font-weight: bold\">501</span>\n",
       "</pre>\n"
      ],
      "text/plain": [
       "\u001b[1;36m501\u001b[0m\n"
      ]
     },
     "metadata": {},
     "output_type": "display_data"
    }
   ],
   "source": [
    "sorted_nodes = functools.reduce(lambda a, b: a + b, sorted_comm.values())\n",
    "len(sorted_nodes)"
   ]
  },
  {
   "cell_type": "code",
   "execution_count": 8,
   "id": "c82125b3",
   "metadata": {},
   "outputs": [
    {
     "data": {
      "image/png": "[encoded data removed]"
     },
     "metadata": {},
     "output_type": "display_data"
    }
   ],
   "source": [
    "fig, axes = create_figure(1, 2, (9, 4.5), 'all', 'all', constrained_layout=True)\n",
    "axes[0].imshow(lfr['a'])\n",
    "axes[1].imshow(lfr['a'][sorted_nodes][:, sorted_nodes])\n",
    "plt.show()"
   ]
  },
  {
   "cell_type": "code",
   "execution_count": 9,
   "id": "ba6cb0dd",
   "metadata": {},
   "outputs": [
    {
     "data": {
      "text/html": [
       "<pre style=\"white-space:pre;overflow-x:auto;line-height:normal;font-family:Menlo,'DejaVu Sans Mono',consolas,'Courier New',monospace\"><span style=\"font-weight: bold\">&lt;</span><span style=\"color: #ff00ff; text-decoration-color: #ff00ff; font-weight: bold\">matplotlib.lines.Line2D</span><span style=\"color: #000000; text-decoration-color: #000000\"> object at </span><span style=\"color: #008080; text-decoration-color: #008080; font-weight: bold\">0x7faf3baaec40</span><span style=\"font-weight: bold\">&gt;</span>\n",
       "</pre>\n"
      ],
      "text/plain": [
       "\u001b[1m<\u001b[0m\u001b[1;95mmatplotlib.lines.Line2D\u001b[0m\u001b[39m object at \u001b[0m\u001b[1;36m0x7faf3baaec40\u001b[0m\u001b[1m>\u001b[0m\n"
      ]
     },
     "metadata": {},
     "output_type": "display_data"
    },
    {
     "data": {
      "image/png": "[encoded data removed]"
     },
     "metadata": {},
     "output_type": "display_data"
    }
   ],
   "source": [
    "sns.histplot(lfr['a'].sum(0))\n",
    "plt.axvline(lfr['a'].sum(0).mean(), color='r')"
   ]
  },
  {
   "cell_type": "code",
   "execution_count": null,
   "id": "00bc0863",
   "metadata": {},
   "outputs": [],
   "source": []
  },
  {
   "cell_type": "code",
   "execution_count": 12,
   "id": "61f7db5b",
   "metadata": {},
   "outputs": [
    {
     "data": {
      "text/html": [
       "<pre style=\"white-space:pre;overflow-x:auto;line-height:normal;font-family:Menlo,'DejaVu Sans Mono',consolas,'Courier New',monospace\"><span style=\"color: #008080; text-decoration-color: #008080; font-weight: bold\">19</span>\n",
       "</pre>\n"
      ],
      "text/plain": [
       "\u001b[1;36m19\u001b[0m\n"
      ]
     },
     "metadata": {},
     "output_type": "display_data"
    }
   ],
   "source": [
    "len(looper)"
   ]
  },
  {
   "cell_type": "code",
   "execution_count": 13,
   "id": "a2396e40",
   "metadata": {
    "scrolled": true
   },
   "outputs": [
    {
     "data": {
      "application/vnd.jupyter.widget-view+json": {
       "model_id": "",
       "version_major": 2,
       "version_minor": 0
      },
      "text/plain": [
       "  0%|          | 0/114 [00:00<?, ?it/s]"
      ]
     },
     "metadata": {},
     "output_type": "display_data"
    },
    {
     "data": {
      "application/vnd.jupyter.widget-view+json": {
       "model_id": "",
       "version_major": 2,
       "version_minor": 0
      },
      "text/plain": [
       "  0%|          | 0/110 [00:00<?, ?it/s]"
      ]
     },
     "metadata": {},
     "output_type": "display_data"
    },
    {
     "data": {
      "application/vnd.jupyter.widget-view+json": {
       "model_id": "",
       "version_major": 2,
       "version_minor": 0
      },
      "text/plain": [
       "  0%|          | 0/110 [00:00<?, ?it/s]"
      ]
     },
     "metadata": {},
     "output_type": "display_data"
    },
    {
     "data": {
      "application/vnd.jupyter.widget-view+json": {
       "model_id": "",
       "version_major": 2,
       "version_minor": 0
      },
      "text/plain": [
       "  0%|          | 0/114 [00:00<?, ?it/s]"
      ]
     },
     "metadata": {},
     "output_type": "display_data"
    },
    {
     "data": {
      "application/vnd.jupyter.widget-view+json": {
       "model_id": "",
       "version_major": 2,
       "version_minor": 0
      },
      "text/plain": [
       "  0%|          | 0/110 [00:00<?, ?it/s]"
      ]
     },
     "metadata": {},
     "output_type": "display_data"
    },
    {
     "data": {
      "application/vnd.jupyter.widget-view+json": {
       "model_id": "",
       "version_major": 2,
       "version_minor": 0
      },
      "text/plain": [
       "  0%|          | 0/110 [00:00<?, ?it/s]"
      ]
     },
     "metadata": {},
     "output_type": "display_data"
    },
    {
     "data": {
      "application/vnd.jupyter.widget-view+json": {
       "model_id": "",
       "version_major": 2,
       "version_minor": 0
      },
      "text/plain": [
       "  0%|          | 0/114 [00:00<?, ?it/s]"
      ]
     },
     "metadata": {},
     "output_type": "display_data"
    },
    {
     "data": {
      "application/vnd.jupyter.widget-view+json": {
       "model_id": "",
       "version_major": 2,
       "version_minor": 0
      },
      "text/plain": [
       "  0%|          | 0/110 [00:00<?, ?it/s]"
      ]
     },
     "metadata": {},
     "output_type": "display_data"
    },
    {
     "data": {
      "application/vnd.jupyter.widget-view+json": {
       "model_id": "",
       "version_major": 2,
       "version_minor": 0
      },
      "text/plain": [
       "  0%|          | 0/110 [00:00<?, ?it/s]"
      ]
     },
     "metadata": {},
     "output_type": "display_data"
    },
    {
     "data": {
      "application/vnd.jupyter.widget-view+json": {
       "model_id": "",
       "version_major": 2,
       "version_minor": 0
      },
      "text/plain": [
       "  0%|          | 0/114 [00:00<?, ?it/s]"
      ]
     },
     "metadata": {},
     "output_type": "display_data"
    },
    {
     "data": {
      "application/vnd.jupyter.widget-view+json": {
       "model_id": "",
       "version_major": 2,
       "version_minor": 0
      },
      "text/plain": [
       "  0%|          | 0/110 [00:00<?, ?it/s]"
      ]
     },
     "metadata": {},
     "output_type": "display_data"
    },
    {
     "data": {
      "application/vnd.jupyter.widget-view+json": {
       "model_id": "",
       "version_major": 2,
       "version_minor": 0
      },
      "text/plain": [
       "  0%|          | 0/110 [00:00<?, ?it/s]"
      ]
     },
     "metadata": {},
     "output_type": "display_data"
    },
    {
     "data": {
      "application/vnd.jupyter.widget-view+json": {
       "model_id": "",
       "version_major": 2,
       "version_minor": 0
      },
      "text/plain": [
       "  0%|          | 0/114 [00:00<?, ?it/s]"
      ]
     },
     "metadata": {},
     "output_type": "display_data"
    },
    {
     "data": {
      "application/vnd.jupyter.widget-view+json": {
       "model_id": "",
       "version_major": 2,
       "version_minor": 0
      },
      "text/plain": [
       "  0%|          | 0/110 [00:00<?, ?it/s]"
      ]
     },
     "metadata": {},
     "output_type": "display_data"
    },
    {
     "data": {
      "application/vnd.jupyter.widget-view+json": {
       "model_id": "",
       "version_major": 2,
       "version_minor": 0
      },
      "text/plain": [
       "  0%|          | 0/110 [00:00<?, ?it/s]"
      ]
     },
     "metadata": {},
     "output_type": "display_data"
    },
    {
     "data": {
      "application/vnd.jupyter.widget-view+json": {
       "model_id": "",
       "version_major": 2,
       "version_minor": 0
      },
      "text/plain": [
       "  0%|          | 0/114 [00:00<?, ?it/s]"
      ]
     },
     "metadata": {},
     "output_type": "display_data"
    },
    {
     "data": {
      "application/vnd.jupyter.widget-view+json": {
       "model_id": "",
       "version_major": 2,
       "version_minor": 0
      },
      "text/plain": [
       "  0%|          | 0/110 [00:00<?, ?it/s]"
      ]
     },
     "metadata": {},
     "output_type": "display_data"
    },
    {
     "data": {
      "application/vnd.jupyter.widget-view+json": {
       "model_id": "",
       "version_major": 2,
       "version_minor": 0
      },
      "text/plain": [
       "  0%|          | 0/110 [00:00<?, ?it/s]"
      ]
     },
     "metadata": {},
     "output_type": "display_data"
    },
    {
     "data": {
      "application/vnd.jupyter.widget-view+json": {
       "model_id": "",
       "version_major": 2,
       "version_minor": 0
      },
      "text/plain": [
       "  0%|          | 0/114 [00:00<?, ?it/s]"
      ]
     },
     "metadata": {},
     "output_type": "display_data"
    },
    {
     "data": {
      "application/vnd.jupyter.widget-view+json": {
       "model_id": "",
       "version_major": 2,
       "version_minor": 0
      },
      "text/plain": [
       "  0%|          | 0/110 [00:00<?, ?it/s]"
      ]
     },
     "metadata": {},
     "output_type": "display_data"
    },
    {
     "data": {
      "application/vnd.jupyter.widget-view+json": {
       "model_id": "",
       "version_major": 2,
       "version_minor": 0
      },
      "text/plain": [
       "  0%|          | 0/110 [00:00<?, ?it/s]"
      ]
     },
     "metadata": {},
     "output_type": "display_data"
    },
    {
     "data": {
      "application/vnd.jupyter.widget-view+json": {
       "model_id": "",
       "version_major": 2,
       "version_minor": 0
      },
      "text/plain": [
       "  0%|          | 0/114 [00:00<?, ?it/s]"
      ]
     },
     "metadata": {},
     "output_type": "display_data"
    },
    {
     "data": {
      "application/vnd.jupyter.widget-view+json": {
       "model_id": "",
       "version_major": 2,
       "version_minor": 0
      },
      "text/plain": [
       "  0%|          | 0/110 [00:00<?, ?it/s]"
      ]
     },
     "metadata": {},
     "output_type": "display_data"
    },
    {
     "data": {
      "application/vnd.jupyter.widget-view+json": {
       "model_id": "",
       "version_major": 2,
       "version_minor": 0
      },
      "text/plain": [
       "  0%|          | 0/110 [00:00<?, ?it/s]"
      ]
     },
     "metadata": {},
     "output_type": "display_data"
    },
    {
     "data": {
      "application/vnd.jupyter.widget-view+json": {
       "model_id": "",
       "version_major": 2,
       "version_minor": 0
      },
      "text/plain": [
       "  0%|          | 0/114 [00:00<?, ?it/s]"
      ]
     },
     "metadata": {},
     "output_type": "display_data"
    },
    {
     "data": {
      "application/vnd.jupyter.widget-view+json": {
       "model_id": "",
       "version_major": 2,
       "version_minor": 0
      },
      "text/plain": [
       "  0%|          | 0/110 [00:00<?, ?it/s]"
      ]
     },
     "metadata": {},
     "output_type": "display_data"
    },
    {
     "data": {
      "application/vnd.jupyter.widget-view+json": {
       "model_id": "",
       "version_major": 2,
       "version_minor": 0
      },
      "text/plain": [
       "  0%|          | 0/110 [00:00<?, ?it/s]"
      ]
     },
     "metadata": {},
     "output_type": "display_data"
    },
    {
     "data": {
      "application/vnd.jupyter.widget-view+json": {
       "model_id": "",
       "version_major": 2,
       "version_minor": 0
      },
      "text/plain": [
       "  0%|          | 0/114 [00:00<?, ?it/s]"
      ]
     },
     "metadata": {},
     "output_type": "display_data"
    },
    {
     "data": {
      "application/vnd.jupyter.widget-view+json": {
       "model_id": "",
       "version_major": 2,
       "version_minor": 0
      },
      "text/plain": [
       "  0%|          | 0/110 [00:00<?, ?it/s]"
      ]
     },
     "metadata": {},
     "output_type": "display_data"
    },
    {
     "data": {
      "application/vnd.jupyter.widget-view+json": {
       "model_id": "",
       "version_major": 2,
       "version_minor": 0
      },
      "text/plain": [
       "  0%|          | 0/110 [00:00<?, ?it/s]"
      ]
     },
     "metadata": {},
     "output_type": "display_data"
    },
    {
     "data": {
      "application/vnd.jupyter.widget-view+json": {
       "model_id": "",
       "version_major": 2,
       "version_minor": 0
      },
      "text/plain": [
       "  0%|          | 0/114 [00:00<?, ?it/s]"
      ]
     },
     "metadata": {},
     "output_type": "display_data"
    },
    {
     "data": {
      "application/vnd.jupyter.widget-view+json": {
       "model_id": "",
       "version_major": 2,
       "version_minor": 0
      },
      "text/plain": [
       "  0%|          | 0/110 [00:00<?, ?it/s]"
      ]
     },
     "metadata": {},
     "output_type": "display_data"
    },
    {
     "data": {
      "application/vnd.jupyter.widget-view+json": {
       "model_id": "",
       "version_major": 2,
       "version_minor": 0
      },
      "text/plain": [
       "  0%|          | 0/110 [00:00<?, ?it/s]"
      ]
     },
     "metadata": {},
     "output_type": "display_data"
    },
    {
     "data": {
      "application/vnd.jupyter.widget-view+json": {
       "model_id": "",
       "version_major": 2,
       "version_minor": 0
      },
      "text/plain": [
       "  0%|          | 0/114 [00:00<?, ?it/s]"
      ]
     },
     "metadata": {},
     "output_type": "display_data"
    },
    {
     "data": {
      "application/vnd.jupyter.widget-view+json": {
       "model_id": "",
       "version_major": 2,
       "version_minor": 0
      },
      "text/plain": [
       "  0%|          | 0/110 [00:00<?, ?it/s]"
      ]
     },
     "metadata": {},
     "output_type": "display_data"
    },
    {
     "data": {
      "application/vnd.jupyter.widget-view+json": {
       "model_id": "",
       "version_major": 2,
       "version_minor": 0
      },
      "text/plain": [
       "  0%|          | 0/110 [00:00<?, ?it/s]"
      ]
     },
     "metadata": {},
     "output_type": "display_data"
    },
    {
     "data": {
      "application/vnd.jupyter.widget-view+json": {
       "model_id": "",
       "version_major": 2,
       "version_minor": 0
      },
      "text/plain": [
       "  0%|          | 0/114 [00:00<?, ?it/s]"
      ]
     },
     "metadata": {},
     "output_type": "display_data"
    },
    {
     "data": {
      "application/vnd.jupyter.widget-view+json": {
       "model_id": "",
       "version_major": 2,
       "version_minor": 0
      },
      "text/plain": [
       "  0%|          | 0/110 [00:00<?, ?it/s]"
      ]
     },
     "metadata": {},
     "output_type": "display_data"
    },
    {
     "data": {
      "application/vnd.jupyter.widget-view+json": {
       "model_id": "",
       "version_major": 2,
       "version_minor": 0
      },
      "text/plain": [
       "  0%|          | 0/110 [00:00<?, ?it/s]"
      ]
     },
     "metadata": {},
     "output_type": "display_data"
    },
    {
     "data": {
      "application/vnd.jupyter.widget-view+json": {
       "model_id": "",
       "version_major": 2,
       "version_minor": 0
      },
      "text/plain": [
       "  0%|          | 0/114 [00:00<?, ?it/s]"
      ]
     },
     "metadata": {},
     "output_type": "display_data"
    },
    {
     "data": {
      "application/vnd.jupyter.widget-view+json": {
       "model_id": "",
       "version_major": 2,
       "version_minor": 0
      },
      "text/plain": [
       "  0%|          | 0/110 [00:00<?, ?it/s]"
      ]
     },
     "metadata": {},
     "output_type": "display_data"
    },
    {
     "data": {
      "application/vnd.jupyter.widget-view+json": {
       "model_id": "",
       "version_major": 2,
       "version_minor": 0
      },
      "text/plain": [
       "  0%|          | 0/110 [00:00<?, ?it/s]"
      ]
     },
     "metadata": {},
     "output_type": "display_data"
    },
    {
     "data": {
      "application/vnd.jupyter.widget-view+json": {
       "model_id": "",
       "version_major": 2,
       "version_minor": 0
      },
      "text/plain": [
       "  0%|          | 0/114 [00:00<?, ?it/s]"
      ]
     },
     "metadata": {},
     "output_type": "display_data"
    },
    {
     "data": {
      "application/vnd.jupyter.widget-view+json": {
       "model_id": "",
       "version_major": 2,
       "version_minor": 0
      },
      "text/plain": [
       "  0%|          | 0/110 [00:00<?, ?it/s]"
      ]
     },
     "metadata": {},
     "output_type": "display_data"
    },
    {
     "data": {
      "application/vnd.jupyter.widget-view+json": {
       "model_id": "",
       "version_major": 2,
       "version_minor": 0
      },
      "text/plain": [
       "  0%|          | 0/110 [00:00<?, ?it/s]"
      ]
     },
     "metadata": {},
     "output_type": "display_data"
    },
    {
     "data": {
      "application/vnd.jupyter.widget-view+json": {
       "model_id": "",
       "version_major": 2,
       "version_minor": 0
      },
      "text/plain": [
       "  0%|          | 0/114 [00:00<?, ?it/s]"
      ]
     },
     "metadata": {},
     "output_type": "display_data"
    },
    {
     "data": {
      "application/vnd.jupyter.widget-view+json": {
       "model_id": "",
       "version_major": 2,
       "version_minor": 0
      },
      "text/plain": [
       "  0%|          | 0/110 [00:00<?, ?it/s]"
      ]
     },
     "metadata": {},
     "output_type": "display_data"
    },
    {
     "data": {
      "application/vnd.jupyter.widget-view+json": {
       "model_id": "",
       "version_major": 2,
       "version_minor": 0
      },
      "text/plain": [
       "  0%|          | 0/110 [00:00<?, ?it/s]"
      ]
     },
     "metadata": {},
     "output_type": "display_data"
    },
    {
     "data": {
      "application/vnd.jupyter.widget-view+json": {
       "model_id": "",
       "version_major": 2,
       "version_minor": 0
      },
      "text/plain": [
       "  0%|          | 0/114 [00:00<?, ?it/s]"
      ]
     },
     "metadata": {},
     "output_type": "display_data"
    },
    {
     "data": {
      "application/vnd.jupyter.widget-view+json": {
       "model_id": "",
       "version_major": 2,
       "version_minor": 0
      },
      "text/plain": [
       "  0%|          | 0/110 [00:00<?, ?it/s]"
      ]
     },
     "metadata": {},
     "output_type": "display_data"
    },
    {
     "data": {
      "application/vnd.jupyter.widget-view+json": {
       "model_id": "",
       "version_major": 2,
       "version_minor": 0
      },
      "text/plain": [
       "  0%|          | 0/110 [00:00<?, ?it/s]"
      ]
     },
     "metadata": {},
     "output_type": "display_data"
    },
    {
     "data": {
      "application/vnd.jupyter.widget-view+json": {
       "model_id": "",
       "version_major": 2,
       "version_minor": 0
      },
      "text/plain": [
       "  0%|          | 0/114 [00:00<?, ?it/s]"
      ]
     },
     "metadata": {},
     "output_type": "display_data"
    },
    {
     "data": {
      "application/vnd.jupyter.widget-view+json": {
       "model_id": "",
       "version_major": 2,
       "version_minor": 0
      },
      "text/plain": [
       "  0%|          | 0/110 [00:00<?, ?it/s]"
      ]
     },
     "metadata": {},
     "output_type": "display_data"
    },
    {
     "data": {
      "application/vnd.jupyter.widget-view+json": {
       "model_id": "",
       "version_major": 2,
       "version_minor": 0
      },
      "text/plain": [
       "  0%|          | 0/110 [00:00<?, ?it/s]"
      ]
     },
     "metadata": {},
     "output_type": "display_data"
    },
    {
     "data": {
      "application/vnd.jupyter.widget-view+json": {
       "model_id": "",
       "version_major": 2,
       "version_minor": 0
      },
      "text/plain": [
       "  0%|          | 0/114 [00:00<?, ?it/s]"
      ]
     },
     "metadata": {},
     "output_type": "display_data"
    },
    {
     "data": {
      "application/vnd.jupyter.widget-view+json": {
       "model_id": "",
       "version_major": 2,
       "version_minor": 0
      },
      "text/plain": [
       "  0%|          | 0/110 [00:00<?, ?it/s]"
      ]
     },
     "metadata": {},
     "output_type": "display_data"
    },
    {
     "data": {
      "application/vnd.jupyter.widget-view+json": {
       "model_id": "",
       "version_major": 2,
       "version_minor": 0
      },
      "text/plain": [
       "  0%|          | 0/110 [00:00<?, ?it/s]"
      ]
     },
     "metadata": {},
     "output_type": "display_data"
    },
    {
     "name": "stdout",
     "output_type": "stream",
     "text": [
      "CPU times: user 27min 46s, sys: 46 s, total: 28min 32s\n",
      "Wall time: 27min 58s\n"
     ]
    },
    {
     "data": {
      "text/html": [
       "<pre style=\"white-space:pre;overflow-x:auto;line-height:normal;font-family:Menlo,'DejaVu Sans Mono',consolas,'Courier New',monospace\"><span style=\"color: #008080; text-decoration-color: #008080; font-weight: bold\">6346</span>\n",
       "</pre>\n"
      ],
      "text/plain": [
       "\u001b[1;36m6346\u001b[0m\n"
      ]
     },
     "metadata": {},
     "output_type": "display_data"
    }
   ],
   "source": [
    "%%time\n",
    "\n",
    "mu = 0.1\n",
    "lfr = {}\n",
    "for of, om in looper:\n",
    "    s = [\n",
    "        f\"of{of}\",\n",
    "        f\"om{om}\",\n",
    "        f\"mu{mu}\",\n",
    "    ]\n",
    "    s = '-'.join(s)\n",
    "    for mode, o in bt_dict.items():\n",
    "        for key in tqdm(o.address, leave=False):\n",
    "            name = f\"{s}_{mode2lbl[mode]}_{key}\"\n",
    "            lfr[(of, om, mode2lbl[mode], key)] = load_lfr(\n",
    "                load_dir=pjoin(lfr_dir, 'results', name),\n",
    "                random_state=mice.cfg.random_state,\n",
    "                verbose=False,\n",
    "            )\n",
    "len(lfr)"
   ]
  },
  {
   "cell_type": "markdown",
   "id": "02cc9c63",
   "metadata": {},
   "source": [
    "### Distribution of $<k>$"
   ]
  },
  {
   "cell_type": "code",
   "execution_count": 18,
   "id": "3ca6d8f8",
   "metadata": {},
   "outputs": [
    {
     "data": {
      "text/html": [
       "<pre style=\"white-space:pre;overflow-x:auto;line-height:normal;font-family:Menlo,'DejaVu Sans Mono',consolas,'Courier New',monospace\"><span style=\"font-weight: bold\">(</span><span style=\"color: #008080; text-decoration-color: #008080; font-weight: bold\">6626</span>, <span style=\"color: #008080; text-decoration-color: #008080; font-weight: bold\">6</span><span style=\"font-weight: bold\">)</span>\n",
       "</pre>\n"
      ],
      "text/plain": [
       "\u001b[1m(\u001b[0m\u001b[1;36m6626\u001b[0m, \u001b[1;36m6\u001b[0m\u001b[1m)\u001b[0m\n"
      ]
     },
     "metadata": {},
     "output_type": "display_data"
    }
   ],
   "source": [
    "df = []\n",
    "for mode, o in bt_dict.items():\n",
    "    for key, (i, j, k) in o.address.items():\n",
    "        k_avg = bn.nanmean(o.run_deg[i, j, k], 0)\n",
    "        k_avg /= np.isfinite(o.run_deg[i, j, k]).sum()\n",
    "        df.append({\n",
    "            'Label': ['Real'],\n",
    "            'of': [np.nan],\n",
    "            'om': [np.nan],\n",
    "            'lbl': [mode2lbl[mode]],\n",
    "            'key': [key],\n",
    "            'k_avg': [k_avg],\n",
    "        })\n",
    "for (of, om, lbl, key), x in lfr.items():\n",
    "    if not x:\n",
    "        continue\n",
    "    df.append({\n",
    "        'Label': ['LFR'],\n",
    "        'of': [np.round(of, 2)],\n",
    "        'om': [om],\n",
    "        'lbl': [lbl],\n",
    "        'key': [key],\n",
    "        'k_avg': [x['a'].sum(0).mean() / len(x['a'])],\n",
    "    })\n",
    "df = pd.DataFrame(merge_dicts(df))\n",
    "df.shape"
   ]
  },
  {
   "cell_type": "code",
   "execution_count": 19,
   "id": "cec6e4ea",
   "metadata": {},
   "outputs": [
    {
     "data": {
      "image/png": "[encoded data removed]"
     },
     "metadata": {},
     "output_type": "display_data"
    }
   ],
   "source": [
    "fig, ax = create_figure(1, 1, (3, 3))\n",
    "\n",
    "sns.violinplot(\n",
    "    data=df,\n",
    "    x='lbl',\n",
    "    y='k_avg',\n",
    "    hue='Label',\n",
    "    split=True,\n",
    "    palette='muted',\n",
    "    ax=ax,\n",
    "    # dodge=True,\n",
    ")\n",
    "ax.set_ylim(0, 0.55)\n",
    "ax.set_xticklabels([BOLD, CAS, CAF])\n",
    "ax.tick_params('both', direction='in')\n",
    "ax.tick_params('x', labelsize=14)\n",
    "ax.tick_params('y', labelsize=11)\n",
    "ax.set_ylabel(r'$<k>$', fontsize=15)\n",
    "ax.set_xlabel('')\n",
    "plt.show()"
   ]
  },
  {
   "cell_type": "markdown",
   "id": "349f5ae6",
   "metadata": {},
   "source": [
    "### Distribution of # comm as a function of overlap fraction"
   ]
  },
  {
   "cell_type": "code",
   "execution_count": 20,
   "id": "58f0d13d",
   "metadata": {},
   "outputs": [
    {
     "data": {
      "text/html": [
       "<pre style=\"white-space:pre;overflow-x:auto;line-height:normal;font-family:Menlo,'DejaVu Sans Mono',consolas,'Courier New',monospace\"><span style=\"font-weight: bold\">(</span><span style=\"color: #008080; text-decoration-color: #008080; font-weight: bold\">6292</span>, <span style=\"color: #008080; text-decoration-color: #008080; font-weight: bold\">6</span><span style=\"font-weight: bold\">)</span>\n",
       "</pre>\n"
      ],
      "text/plain": [
       "\u001b[1m(\u001b[0m\u001b[1;36m6292\u001b[0m, \u001b[1;36m6\u001b[0m\u001b[1m)\u001b[0m\n"
      ]
     },
     "metadata": {},
     "output_type": "display_data"
    }
   ],
   "source": [
    "df = []\n",
    "for (of, om, lbl, key), x in lfr.items():\n",
    "    if not x:\n",
    "        continue\n",
    "    df.append({\n",
    "        'of': [of],\n",
    "        'om': [om],\n",
    "        'lbl': [lbl],\n",
    "        'key': [key],\n",
    "        'num_nodes': [len(x['a'])],\n",
    "        'num_comm': [len(x['community'])],\n",
    "    })\n",
    "df = pd.DataFrame(merge_dicts(df))\n",
    "df.shape"
   ]
  },
  {
   "cell_type": "code",
   "execution_count": 30,
   "id": "e7e79cb1",
   "metadata": {},
   "outputs": [
    {
     "data": {
      "image/png": "[encoded data removed]"
     },
     "metadata": {},
     "output_type": "display_data"
    }
   ],
   "source": [
    "fig, ax = create_figure()\n",
    "\n",
    "sns.pointplot(\n",
    "    data=df,\n",
    "    x='of',\n",
    "    y='num_comm',\n",
    "    hue='lbl',\n",
    "    palette={mode2lbl[k]: v for k, v in pal.items()},\n",
    "    ax=ax,\n",
    ")\n",
    "ax.set_xticklabels(([\n",
    "    np.round(float(t.get_text()), 1)\n",
    "    for t in ax.get_xticklabels()\n",
    "]))\n",
    "plt.show()"
   ]
  },
  {
   "cell_type": "markdown",
   "id": "a75ac674",
   "metadata": {},
   "source": [
    "## Analyze (memships)"
   ]
  },
  {
   "cell_type": "code",
   "execution_count": 6,
   "id": "1a0df790",
   "metadata": {
    "scrolled": true
   },
   "outputs": [
    {
     "data": {
      "text/html": [
       "<pre style=\"white-space:pre;overflow-x:auto;line-height:normal;font-family:Menlo,'DejaVu Sans Mono',consolas,'Courier New',monospace\"><span style=\"color: #008080; text-decoration-color: #008080; font-weight: bold\">6346</span>\n",
       "</pre>\n"
      ],
      "text/plain": [
       "\u001b[1;36m6346\u001b[0m\n"
      ]
     },
     "metadata": {},
     "output_type": "display_data"
    }
   ],
   "source": [
    "len(os.listdir(pjoin(lfr_dir, 'results')))"
   ]
  },
  {
   "cell_type": "code",
   "execution_count": 7,
   "id": "21c62733",
   "metadata": {},
   "outputs": [
    {
     "data": {
      "text/html": [
       "<pre style=\"white-space:pre;overflow-x:auto;line-height:normal;font-family:Menlo,'DejaVu Sans Mono',consolas,'Courier New',monospace\"><span style=\"font-weight: bold\">[(</span><span style=\"color: #008080; text-decoration-color: #008080; font-weight: bold\">15</span>, <span style=\"color: #008080; text-decoration-color: #008080; font-weight: bold\">6292</span><span style=\"font-weight: bold\">)</span>, <span style=\"font-weight: bold\">(</span><span style=\"color: #008080; text-decoration-color: #008080; font-weight: bold\">1</span>, <span style=\"color: #008080; text-decoration-color: #008080; font-weight: bold\">54</span><span style=\"font-weight: bold\">)]</span>\n",
       "</pre>\n"
      ],
      "text/plain": [
       "\u001b[1m[\u001b[0m\u001b[1m(\u001b[0m\u001b[1;36m15\u001b[0m, \u001b[1;36m6292\u001b[0m\u001b[1m)\u001b[0m, \u001b[1m(\u001b[0m\u001b[1;36m1\u001b[0m, \u001b[1;36m54\u001b[0m\u001b[1m)\u001b[0m\u001b[1m]\u001b[0m\n"
      ]
     },
     "metadata": {},
     "output_type": "display_data"
    }
   ],
   "source": [
    "counts = []\n",
    "for item in sorted(os.listdir(pjoin(lfr_dir, 'results'))):\n",
    "    _dir = pjoin(lfr_dir, 'results', item)\n",
    "    counts.append(len(os.listdir(_dir)))\n",
    "collections.Counter(counts).most_common()"
   ]
  },
  {
   "cell_type": "code",
   "execution_count": 8,
   "id": "d072e4ea",
   "metadata": {},
   "outputs": [
    {
     "name": "stderr",
     "output_type": "stream",
     "text": [
      "of0.9-om3-mu0.1_CAS_sub-SLC10_ses-3_run-7: 100%|█| 6346/6346 [38:43<00:00,  2.73\n"
     ]
    },
    {
     "data": {
      "text/html": [
       "<pre style=\"white-space:pre;overflow-x:auto;line-height:normal;font-family:Menlo,'DejaVu Sans Mono',consolas,'Courier New',monospace\"><span style=\"color: #008080; text-decoration-color: #008080; font-weight: bold\">19</span>\n",
       "</pre>\n"
      ],
      "text/plain": [
       "\u001b[1;36m19\u001b[0m\n"
      ]
     },
     "metadata": {},
     "output_type": "display_data"
    }
   ],
   "source": [
    "lfr_sv = compile_lfr_results(lfr_dir)\n",
    "len(lfr_sv)"
   ]
  },
  {
   "cell_type": "code",
   "execution_count": 84,
   "id": "26f81381",
   "metadata": {},
   "outputs": [
    {
     "name": "stdout",
     "output_type": "stream",
     "text": [
      "CPU times: user 34.1 s, sys: 7.59 ms, total: 34.1 s\n",
      "Wall time: 34.1 s\n"
     ]
    }
   ],
   "source": [
    "%%time\n",
    "\n",
    "df = []\n",
    "bins = np.linspace(0.2, 1.0, 5)\n",
    "for k, v in lfr_sv.items():\n",
    "    of, om, mu = map(\n",
    "        lambda s: float(re.sub('[a-zA-Z]', '', s)),\n",
    "        k.split('-'),\n",
    "    )\n",
    "    of = np.round(of, 1)\n",
    "    tag = 'Disjoint' if of == 0 else 'Overlapping'\n",
    "    for name, x in v.items():\n",
    "        lbl = name.split('_')[0]\n",
    "        key = '_'.join(name.split('_')[1:])\n",
    "        pi = x / np.sum(x, axis=1, keepdims=True)\n",
    "        cut = cut_data(\n",
    "            data=pi,\n",
    "            bins=bins,\n",
    "            axis_oc=1,\n",
    "            axis_node=2,\n",
    "            axis_batch=0,\n",
    "            oc_only=True,\n",
    "        )[0]\n",
    "        cut = {\n",
    "            i + 1: x for i, x in\n",
    "            enumerate(avg(cut, 1))\n",
    "        }\n",
    "        df.append({\n",
    "            'mu': [mu] * len(cut),\n",
    "            'of': [of] * len(cut),\n",
    "            'om': [om] * len(cut),\n",
    "            'Label': [tag] * len(cut),\n",
    "            'lbl': [lbl] * len(cut),\n",
    "            'key': [key] * len(cut),\n",
    "            'bin_idx': cut.keys(),\n",
    "            'portion': cut.values(),\n",
    "        })\n",
    "df = pd.DataFrame(merge_dicts(df))"
   ]
  },
  {
   "cell_type": "code",
   "execution_count": 85,
   "id": "0f300823",
   "metadata": {},
   "outputs": [
    {
     "data": {
      "image/png": "[encoded data removed]"
     },
     "metadata": {},
     "output_type": "display_data"
    }
   ],
   "source": [
    "fig, ax = create_figure()\n",
    "\n",
    "sns.pointplot(\n",
    "    data=df,\n",
    "    x='of',\n",
    "    y='portion',\n",
    "    hue='bin_idx',\n",
    "    ax=ax\n",
    ")\n",
    "ax.locator_params(axis='y', nbins=11)\n",
    "ax.set_xticklabels(([\n",
    "    np.round(float(t.get_text()), 1)\n",
    "    for t in ax.get_xticklabels()\n",
    "]))\n",
    "ax.grid()\n",
    "plt.show()"
   ]
  },
  {
   "cell_type": "code",
   "execution_count": 179,
   "id": "60131a0c",
   "metadata": {},
   "outputs": [
    {
     "data": {
      "image/png": "[encoded data removed]"
     },
     "metadata": {},
     "output_type": "display_data"
    }
   ],
   "source": [
    "fig, ax = create_figure(1, 1, (10, 4))\n",
    "\n",
    "_df = df.loc[df['bin_idx'] == 4]\n",
    "sns.pointplot(\n",
    "    data=_df,\n",
    "    ci='sd',\n",
    "    x='of',\n",
    "    y='portion',\n",
    "    hue='Label',\n",
    "    join=False,\n",
    "    palette={'Disjoint': 'tomato', 'Overlapping': 'dimgrey'},\n",
    "    ax=ax\n",
    ")\n",
    "ax.set(ylim=(0, 105), xlabel='', ylabel='')\n",
    "ax.locator_params(axis='y', nbins=11)\n",
    "ax.set_xticklabels(([\n",
    "    np.round(float(t.get_text()), 1)\n",
    "    for t in ax.get_xticklabels()\n",
    "]))\n",
    "ax.tick_params(axis='both', labelsize=13)\n",
    "ax.grid()\n",
    "fig.savefig(pjoin(fig_dir, 'lastbin.pdf'), **kws_fig)\n",
    "plt.show()"
   ]
  },
  {
   "cell_type": "code",
   "execution_count": 280,
   "id": "bf654456",
   "metadata": {},
   "outputs": [
    {
     "data": {
      "image/png": "[encoded data removed]"
     },
     "metadata": {},
     "output_type": "display_data"
    }
   ],
   "source": [
    "fg = sns.catplot(\n",
    "    data=_df,\n",
    "    kind='point',\n",
    "    ci='sd',\n",
    "    x='of',\n",
    "    y='portion',\n",
    "    hue='Label',\n",
    "    join=False,\n",
    "    palette={'Disjoint': 'tomato', 'Overlapping': 'dimgrey'},\n",
    "    legend_out=False,\n",
    "    errwidth=1.2,\n",
    "    capsize=0.11,\n",
    "    aspect=2,\n",
    "    height=4,\n",
    ")\n",
    "fg.ax.tick_params(direction='in')\n",
    "fg.ax.locator_params(nbins=12)\n",
    "fg.ax.set(xlabel='', ylabel='')\n",
    "fg.ax.grid()\n",
    "\n",
    "fg.fig.savefig(pjoin(fig_dir, 'lastbin.pdf'), **kws_fig)"
   ]
  },
  {
   "cell_type": "code",
   "execution_count": null,
   "id": "4e35347b",
   "metadata": {},
   "outputs": [],
   "source": []
  },
  {
   "cell_type": "code",
   "execution_count": 229,
   "id": "17ad1113",
   "metadata": {},
   "outputs": [
    {
     "data": {
      "text/html": [
       "<pre style=\"white-space:pre;overflow-x:auto;line-height:normal;font-family:Menlo,'DejaVu Sans Mono',consolas,'Courier New',monospace\">\n",
       "<span style=\"font-weight: bold\">{</span>\n",
       "    <span style=\"color: #008080; text-decoration-color: #008080; font-weight: bold\">0.0</span>: <span style=\"color: #008080; text-decoration-color: #008080; font-weight: bold\">98.31145264146146</span>,\n",
       "    <span style=\"color: #008080; text-decoration-color: #008080; font-weight: bold\">0.1</span>: <span style=\"color: #008080; text-decoration-color: #008080; font-weight: bold\">72.85727873977436</span>,\n",
       "    <span style=\"color: #008080; text-decoration-color: #008080; font-weight: bold\">0.2</span>: <span style=\"color: #008080; text-decoration-color: #008080; font-weight: bold\">56.88407246448696</span>,\n",
       "    <span style=\"color: #008080; text-decoration-color: #008080; font-weight: bold\">0.3</span>: <span style=\"color: #008080; text-decoration-color: #008080; font-weight: bold\">44.925311217316526</span>,\n",
       "    <span style=\"color: #008080; text-decoration-color: #008080; font-weight: bold\">0.4</span>: <span style=\"color: #008080; text-decoration-color: #008080; font-weight: bold\">35.49290642885452</span>,\n",
       "    <span style=\"color: #008080; text-decoration-color: #008080; font-weight: bold\">0.5</span>: <span style=\"color: #008080; text-decoration-color: #008080; font-weight: bold\">27.773097642499433</span>,\n",
       "    <span style=\"color: #008080; text-decoration-color: #008080; font-weight: bold\">0.6</span>: <span style=\"color: #008080; text-decoration-color: #008080; font-weight: bold\">20.94567735249534</span>,\n",
       "    <span style=\"color: #008080; text-decoration-color: #008080; font-weight: bold\">0.7</span>: <span style=\"color: #008080; text-decoration-color: #008080; font-weight: bold\">14.970997204129858</span>,\n",
       "    <span style=\"color: #008080; text-decoration-color: #008080; font-weight: bold\">0.8</span>: <span style=\"color: #008080; text-decoration-color: #008080; font-weight: bold\">9.743650408682464</span>,\n",
       "    <span style=\"color: #008080; text-decoration-color: #008080; font-weight: bold\">0.9</span>: <span style=\"color: #008080; text-decoration-color: #008080; font-weight: bold\">5.013096261826585</span>\n",
       "<span style=\"font-weight: bold\">}</span>\n",
       "</pre>\n"
      ],
      "text/plain": [
       "\n",
       "\u001b[1m{\u001b[0m\n",
       "    \u001b[1;36m0.0\u001b[0m: \u001b[1;36m98.31145264146146\u001b[0m,\n",
       "    \u001b[1;36m0.1\u001b[0m: \u001b[1;36m72.85727873977436\u001b[0m,\n",
       "    \u001b[1;36m0.2\u001b[0m: \u001b[1;36m56.88407246448696\u001b[0m,\n",
       "    \u001b[1;36m0.3\u001b[0m: \u001b[1;36m44.925311217316526\u001b[0m,\n",
       "    \u001b[1;36m0.4\u001b[0m: \u001b[1;36m35.49290642885452\u001b[0m,\n",
       "    \u001b[1;36m0.5\u001b[0m: \u001b[1;36m27.773097642499433\u001b[0m,\n",
       "    \u001b[1;36m0.6\u001b[0m: \u001b[1;36m20.94567735249534\u001b[0m,\n",
       "    \u001b[1;36m0.7\u001b[0m: \u001b[1;36m14.970997204129858\u001b[0m,\n",
       "    \u001b[1;36m0.8\u001b[0m: \u001b[1;36m9.743650408682464\u001b[0m,\n",
       "    \u001b[1;36m0.9\u001b[0m: \u001b[1;36m5.013096261826585\u001b[0m\n",
       "\u001b[1m}\u001b[0m\n"
      ]
     },
     "metadata": {},
     "output_type": "display_data"
    }
   ],
   "source": [
    "means = dict(_df.groupby(['of']).mean()['portion'])\n",
    "means"
   ]
  },
  {
   "cell_type": "code",
   "execution_count": null,
   "id": "6e4010ce",
   "metadata": {},
   "outputs": [],
   "source": []
  },
  {
   "cell_type": "code",
   "execution_count": 230,
   "id": "70f3d2ae",
   "metadata": {},
   "outputs": [
    {
     "data": {
      "text/html": [
       "<pre style=\"white-space:pre;overflow-x:auto;line-height:normal;font-family:Menlo,'DejaVu Sans Mono',consolas,'Courier New',monospace\">\n",
       "<span style=\"font-weight: bold\">{</span>\n",
       "    <span style=\"color: #008080; text-decoration-color: #008080; font-weight: bold\">0.1</span>: <span style=\"color: #008080; text-decoration-color: #008080; font-weight: bold\">96</span>,\n",
       "    <span style=\"color: #008080; text-decoration-color: #008080; font-weight: bold\">0.2</span>: <span style=\"color: #008080; text-decoration-color: #008080; font-weight: bold\">159</span>,\n",
       "    <span style=\"color: #008080; text-decoration-color: #008080; font-weight: bold\">0.3</span>: <span style=\"color: #008080; text-decoration-color: #008080; font-weight: bold\">135</span>,\n",
       "    <span style=\"color: #008080; text-decoration-color: #008080; font-weight: bold\">0.4</span>: <span style=\"color: #008080; text-decoration-color: #008080; font-weight: bold\">99</span>,\n",
       "    <span style=\"color: #008080; text-decoration-color: #008080; font-weight: bold\">0.5</span>: <span style=\"color: #008080; text-decoration-color: #008080; font-weight: bold\">81</span>,\n",
       "    <span style=\"color: #008080; text-decoration-color: #008080; font-weight: bold\">0.6</span>: <span style=\"color: #008080; text-decoration-color: #008080; font-weight: bold\">65</span>,\n",
       "    <span style=\"color: #008080; text-decoration-color: #008080; font-weight: bold\">0.7</span>: <span style=\"color: #008080; text-decoration-color: #008080; font-weight: bold\">27</span>,\n",
       "    <span style=\"color: #008080; text-decoration-color: #008080; font-weight: bold\">0.8</span>: <span style=\"color: #008080; text-decoration-color: #008080; font-weight: bold\">16</span>,\n",
       "    <span style=\"color: #008080; text-decoration-color: #008080; font-weight: bold\">0.9</span>: <span style=\"color: #008080; text-decoration-color: #008080; font-weight: bold\">13</span>\n",
       "<span style=\"font-weight: bold\">}</span>\n",
       "</pre>\n"
      ],
      "text/plain": [
       "\n",
       "\u001b[1m{\u001b[0m\n",
       "    \u001b[1;36m0.1\u001b[0m: \u001b[1;36m96\u001b[0m,\n",
       "    \u001b[1;36m0.2\u001b[0m: \u001b[1;36m159\u001b[0m,\n",
       "    \u001b[1;36m0.3\u001b[0m: \u001b[1;36m135\u001b[0m,\n",
       "    \u001b[1;36m0.4\u001b[0m: \u001b[1;36m99\u001b[0m,\n",
       "    \u001b[1;36m0.5\u001b[0m: \u001b[1;36m81\u001b[0m,\n",
       "    \u001b[1;36m0.6\u001b[0m: \u001b[1;36m65\u001b[0m,\n",
       "    \u001b[1;36m0.7\u001b[0m: \u001b[1;36m27\u001b[0m,\n",
       "    \u001b[1;36m0.8\u001b[0m: \u001b[1;36m16\u001b[0m,\n",
       "    \u001b[1;36m0.9\u001b[0m: \u001b[1;36m13\u001b[0m\n",
       "\u001b[1m}\u001b[0m\n"
      ]
     },
     "metadata": {},
     "output_type": "display_data"
    }
   ],
   "source": [
    "select = collections.defaultdict(list)\n",
    "for k, v in lfr_sv.items():\n",
    "    of, om, mu = map(\n",
    "        lambda s: float(re.sub('[a-zA-Z]', '', s)),\n",
    "        k.split('-'),\n",
    "    )\n",
    "    of = np.round(of, 1)\n",
    "    tag = 'Disjoint' if of == 0 else 'Overlapping'\n",
    "    for name, x in v.items():\n",
    "        if x.shape[1] == 7:\n",
    "            select[of].append(x)\n",
    "select = dict(sorted(select.items()))\n",
    "{k: len(v) for k, v in select.items()}"
   ]
  },
  {
   "cell_type": "code",
   "execution_count": 231,
   "id": "2270587a",
   "metadata": {
    "scrolled": true
   },
   "outputs": [],
   "source": [
    "select_idxs = {}\n",
    "for of, xlist in select.items():\n",
    "    cost = []\n",
    "    for x in xlist:\n",
    "        pi = x / np.sum(x, axis=1, keepdims=True)\n",
    "        cut = cut_data(\n",
    "            data=pi,\n",
    "            bins=np.linspace(0.2, 1, 5),\n",
    "            axis_oc=1,\n",
    "            axis_node=2,\n",
    "            axis_batch=0,\n",
    "            oc_only=True,\n",
    "        )[0]\n",
    "        cut = bn.nanmean(cut, 0)\n",
    "        cost.append(abs(bn.nanmean(cut, 0)[-1] - means[of]))\n",
    "    select_idxs[of] = np.argmin(cost)"
   ]
  },
  {
   "cell_type": "code",
   "execution_count": 241,
   "id": "ba6d178c",
   "metadata": {},
   "outputs": [],
   "source": [
    "cut_disj = np.zeros((7, 4))\n",
    "cut_disj[:, -1] = 100    \n",
    "select_cut = {0.0: cut_disj}\n",
    "\n",
    "for of, xlist in select.items():\n",
    "    x = xlist[select_idxs[of]]\n",
    "    pi = x / np.sum(x, axis=1, keepdims=True)\n",
    "    cut = cut_data(\n",
    "        data=pi,\n",
    "        bins=np.linspace(0.2, 1, 5),\n",
    "        axis_oc=1,\n",
    "        axis_node=2,\n",
    "        axis_batch=0,\n",
    "        oc_only=True,\n",
    "    )[0]\n",
    "    select_cut[of] = bn.nanmean(cut, 0)"
   ]
  },
  {
   "cell_type": "markdown",
   "id": "3c34b17b",
   "metadata": {},
   "source": [
    "### Do cut plots"
   ]
  },
  {
   "cell_type": "code",
   "execution_count": 246,
   "id": "f5db20b7",
   "metadata": {},
   "outputs": [],
   "source": [
    "xs = (bins[1:] + bins[:-1]) / 2\n",
    "\n",
    "\n",
    "def _do_cut_plot(cut, figsize=(3.5, 3.5)):\n",
    "    fig, ax = create_figure(1, 1, figsize, dpi=100)\n",
    "    colors = get_cluster_cmap(range(len(cut)), return_colors=True)[1]\n",
    "    for i, y in enumerate(cut):\n",
    "        ax.plot(\n",
    "            xs,\n",
    "            y,\n",
    "            color=colors[i],\n",
    "            marker='o',\n",
    "            markersize=5,\n",
    "            label=f'{i+1}',\n",
    "        )\n",
    "    ax.axvspan(0.8, 1.0, color='#2d3938', alpha=0.05)\n",
    "    ax.set(ylim=(0, 100), xlim=(0.8, 1.0))\n",
    "    ax.set_xticks(bins)\n",
    "    ax.legend(fontsize=5)\n",
    "    ax.grid()\n",
    "    plt.close()\n",
    "    \n",
    "    return fig, ax"
   ]
  },
  {
   "cell_type": "code",
   "execution_count": null,
   "id": "d18c094b",
   "metadata": {},
   "outputs": [],
   "source": []
  },
  {
   "cell_type": "code",
   "execution_count": 297,
   "id": "82c78c87",
   "metadata": {},
   "outputs": [
    {
     "data": {
      "image/png": "[encoded data removed]"
     },
     "metadata": {},
     "output_type": "display_data"
    }
   ],
   "source": [
    "fig, axes = create_figure(2, 5, (8, 4), 'all', 'all', constrained_layout=True)\n",
    "for i, (of, cut) in enumerate(select_cut.items()):\n",
    "    ax = axes.flat[i]\n",
    "    colors = get_cluster_cmap(range(len(cut)), return_colors=True)[1]\n",
    "    for i, y in enumerate(cut):\n",
    "        ax.plot(\n",
    "            xs,\n",
    "            y,\n",
    "            color=colors[i],\n",
    "            marker='o',\n",
    "            markersize=4,\n",
    "            label=f'{i+1}',\n",
    "        )\n",
    "    title = 'Disjoint' if of == 0 else f\"Overlap size = {of}\"\n",
    "    title_color = 'tomato' if of == 0 else 'dimgrey'\n",
    "    ax.set_title(title, fontsize=9.7, color=title_color, )\n",
    "    ax.axvspan(0.8, 1.0, color='#2d3938', alpha=0.05)\n",
    "    ax.tick_params(labelsize=7)\n",
    "    ax.set(ylim=(0, 100), xlim=(0.8, 1.0))\n",
    "    ax.set_xticks(bins)\n",
    "    ax.legend(fontsize=4.5)\n",
    "    ax.grid()\n",
    "fig.savefig(pjoin(fig_dir, f'example_all.pdf'), **kws_fig)\n",
    "plt.show()"
   ]
  },
  {
   "cell_type": "code",
   "execution_count": null,
   "id": "8cbf6090",
   "metadata": {},
   "outputs": [],
   "source": []
  },
  {
   "cell_type": "code",
   "execution_count": 244,
   "id": "752b3b17",
   "metadata": {},
   "outputs": [],
   "source": [
    "for of, cut in select_cut.items():\n",
    "    fig, _ = _do_cut_plot(cut)\n",
    "    fig.savefig(pjoin(fig_dir, f'of={of:0.2f}.pdf'), **kws_fig)"
   ]
  },
  {
   "cell_type": "code",
   "execution_count": 251,
   "id": "286d5988",
   "metadata": {},
   "outputs": [
    {
     "data": {
      "image/png": "[encoded data removed]"
     },
     "execution_count": 251,
     "metadata": {},
     "output_type": "execute_result"
    }
   ],
   "source": [
    "cut = select_cut[0.3]\n",
    "fig, ax = _do_cut_plot(cut, (1.6, 1.6))\n",
    "fig"
   ]
  },
  {
   "cell_type": "code",
   "execution_count": 252,
   "id": "460a2490",
   "metadata": {},
   "outputs": [
    {
     "data": {
      "text/html": [
       "<pre style=\"white-space:pre;overflow-x:auto;line-height:normal;font-family:Menlo,'DejaVu Sans Mono',consolas,'Courier New',monospace\"><span style=\"color: #008080; text-decoration-color: #008080; font-weight: bold\">8.0</span>\n",
       "</pre>\n"
      ],
      "text/plain": [
       "\u001b[1;36m8.0\u001b[0m\n"
      ]
     },
     "metadata": {},
     "output_type": "display_data"
    }
   ],
   "source": [
    "1.6 * 5"
   ]
  },
  {
   "cell_type": "code",
   "execution_count": null,
   "id": "3e3e4c9f",
   "metadata": {},
   "outputs": [],
   "source": []
  },
  {
   "cell_type": "code",
   "execution_count": null,
   "id": "0b74a419",
   "metadata": {},
   "outputs": [],
   "source": []
  },
  {
   "cell_type": "code",
   "execution_count": 38,
   "id": "3ee0b3e5",
   "metadata": {},
   "outputs": [
    {
     "data": {
      "image/png": "[encoded data removed]"
     },
     "metadata": {},
     "output_type": "display_data"
    }
   ],
   "source": [
    "fig, axes = create_figure(1, 2, (9, 4.5), 'all', 'all', constrained_layout=True)\n",
    "axes[0].imshow(lfr['a'])\n",
    "axes[1].imshow(lfr['a'][sorted_nodes][:, sorted_nodes])\n",
    "plt.show()"
   ]
  },
  {
   "cell_type": "code",
   "execution_count": null,
   "id": "6502e98c",
   "metadata": {},
   "outputs": [],
   "source": []
  },
  {
   "cell_type": "code",
   "execution_count": null,
   "id": "61b8918b",
   "metadata": {},
   "outputs": [],
   "source": []
  },
  {
   "cell_type": "code",
   "execution_count": null,
   "id": "721d94da",
   "metadata": {},
   "outputs": [],
   "source": []
  },
  {
   "cell_type": "code",
   "execution_count": null,
   "id": "e72e6c3e",
   "metadata": {},
   "outputs": [],
   "source": []
  },
  {
   "cell_type": "code",
   "execution_count": null,
   "id": "f72b89c0",
   "metadata": {},
   "outputs": [],
   "source": []
  },
  {
   "cell_type": "code",
   "execution_count": null,
   "id": "c8e3bb0d",
   "metadata": {},
   "outputs": [],
   "source": []
  },
  {
   "cell_type": "code",
   "execution_count": null,
   "id": "8191c8e9",
   "metadata": {},
   "outputs": [],
   "source": []
  }
 ],
 "metadata": {
  "kernelspec": {
   "display_name": "Python 3 (ipykernel)",
   "language": "python",
   "name": "python3"
  },
  "language_info": {
   "codemirror_mode": {
    "name": "ipython",
    "version": 3
   },
   "file_extension": ".py",
   "mimetype": "text/x-python",
   "name": "python",
   "nbconvert_exporter": "python",
   "pygments_lexer": "ipython3",
   "version": "3.8.5"
  }
 },
 "nbformat": 4,
 "nbformat_minor": 5
}
