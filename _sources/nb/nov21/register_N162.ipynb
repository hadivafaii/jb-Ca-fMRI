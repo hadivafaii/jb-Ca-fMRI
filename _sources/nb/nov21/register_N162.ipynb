{
 "cells": [
  {
   "cell_type": "markdown",
   "id": "3c2c2b87",
   "metadata": {},
   "source": [
    "# November ??th, 2021 (register N162)\n",
    "\n",
    "**Motivation**: ?? <br>"
   ]
  },
  {
   "cell_type": "code",
   "execution_count": 1,
   "id": "4431e3e5",
   "metadata": {
    "tags": [
     "hide-input"
    ]
   },
   "outputs": [],
   "source": [
    "# HIDE CODE\n",
    "\n",
    "\n",
    "import os\n",
    "import sys\n",
    "import nibabel as nib\n",
    "import networkx as nx\n",
    "from time import time\n",
    "from pprint import pprint\n",
    "from copy import deepcopy as dc\n",
    "from os.path import join as pjoin\n",
    "from myterial import orange, blue_grey\n",
    "from IPython.display import display, IFrame, HTML\n",
    "from matplotlib.colors import rgb2hex, to_rgb\n",
    "import matplotlib.pyplot as plt\n",
    "import seaborn as sns\n",
    "\n",
    "# set style & no interpolalation\n",
    "import matplotlib\n",
    "matplotlib.rcParams['image.interpolation'] = 'none'\n",
    "sns.set_style('whitegrid')\n",
    "%matplotlib inline\n",
    "\n",
    "# tmp & extras dir\n",
    "git_dir = pjoin(os.environ['HOME'], 'Dropbox/git')\n",
    "tmp_dir = pjoin(git_dir, 'jb-Ca-fMRI/tmp')\n",
    "extras_dir = pjoin(git_dir, 'jb-Ca-fMRI/_extras')\n",
    "lfr_dir = pjoin(os.environ['HOME'], 'Documents/workspaces/lfr/binary_overlapping')\n",
    "\n",
    "\n",
    "# GitHub\n",
    "sys.path.insert(0, pjoin(git_dir, '_Ca-fMRI'))\n",
    "from register.atlas import make_tree_graph\n",
    "from register.parcellation import Parcellation\n",
    "from analysis.hierarchical import Hierarchical\n",
    "from analysis.fourier import *\n",
    "from analysis.bootstrap import *\n",
    "from analysis.svinet import *\n",
    "from analysis.group import *\n",
    "from analysis.lfr import *\n",
    "from utils.render import *\n",
    "from utils.plotting import *\n",
    "from model.mouse import Mice\n",
    "from model.configuration import Config\n",
    "\n",
    "# warnings\n",
    "import warnings\n",
    "warnings.filterwarnings('ignore', category=DeprecationWarning)"
   ]
  },
  {
   "cell_type": "code",
   "execution_count": 2,
   "id": "899fabb1",
   "metadata": {},
   "outputs": [],
   "source": [
    "mice = Mice(Config(192, 4, 100), full_load=True, load_parcel=True, load_allen=True)"
   ]
  },
  {
   "cell_type": "code",
   "execution_count": 3,
   "id": "65b5926c",
   "metadata": {},
   "outputs": [],
   "source": [
    "from register.register import *\n",
    "reg = Register(mice, in_house_res=200)"
   ]
  },
  {
   "cell_type": "code",
   "execution_count": null,
   "id": "b8a18adf",
   "metadata": {},
   "outputs": [],
   "source": []
  },
  {
   "cell_type": "code",
   "execution_count": 4,
   "id": "230839b0",
   "metadata": {},
   "outputs": [
    {
     "data": {
      "text/html": [
       "<pre style=\"white-space:pre;overflow-x:auto;line-height:normal;font-family:Menlo,'DejaVu Sans Mono',consolas,'Courier New',monospace\">\n",
       "ANTsImage <span style=\"font-weight: bold\">(</span>RAI<span style=\"font-weight: bold\">)</span>\n",
       "         Pixel Type : float <span style=\"font-weight: bold\">(</span>float32<span style=\"font-weight: bold\">)</span>\n",
       "         Components : <span style=\"color: #008080; text-decoration-color: #008080; font-weight: bold\">1</span>\n",
       "         Dimensions : <span style=\"font-weight: bold\">(</span><span style=\"color: #008080; text-decoration-color: #008080; font-weight: bold\">81</span>, <span style=\"color: #008080; text-decoration-color: #008080; font-weight: bold\">46</span>, <span style=\"color: #008080; text-decoration-color: #008080; font-weight: bold\">60</span><span style=\"font-weight: bold\">)</span>\n",
       "         Spacing    : <span style=\"font-weight: bold\">(</span><span style=\"color: #008080; text-decoration-color: #008080; font-weight: bold\">200.0</span>, <span style=\"color: #008080; text-decoration-color: #008080; font-weight: bold\">200.0</span>, <span style=\"color: #008080; text-decoration-color: #008080; font-weight: bold\">200.0</span><span style=\"font-weight: bold\">)</span>\n",
       "         Origin     : <span style=\"font-weight: bold\">(</span><span style=\"color: #008080; text-decoration-color: #008080; font-weight: bold\">-7.8</span>, <span style=\"color: #008080; text-decoration-color: #008080; font-weight: bold\">-6.2</span>, <span style=\"color: #008080; text-decoration-color: #008080; font-weight: bold\">6.4</span><span style=\"font-weight: bold\">)</span>\n",
       "         Direction  : <span style=\"font-weight: bold\">[</span><span style=\"color: #008080; text-decoration-color: #008080; font-weight: bold\">1</span>. <span style=\"color: #008080; text-decoration-color: #008080; font-weight: bold\">0</span>. <span style=\"color: #008080; text-decoration-color: #008080; font-weight: bold\">0</span>. <span style=\"color: #008080; text-decoration-color: #008080; font-weight: bold\">0</span>. <span style=\"color: #008080; text-decoration-color: #008080; font-weight: bold\">1</span>. <span style=\"color: #008080; text-decoration-color: #008080; font-weight: bold\">0</span>. <span style=\"color: #008080; text-decoration-color: #008080; font-weight: bold\">0</span>. <span style=\"color: #008080; text-decoration-color: #008080; font-weight: bold\">0</span>. <span style=\"color: #008080; text-decoration-color: #008080; font-weight: bold\">1</span>.<span style=\"font-weight: bold\">]</span>\n",
       "\n",
       "</pre>\n"
      ],
      "text/plain": [
       "\n",
       "ANTsImage \u001b[1m(\u001b[0mRAI\u001b[1m)\u001b[0m\n",
       "         Pixel Type : float \u001b[1m(\u001b[0mfloat32\u001b[1m)\u001b[0m\n",
       "         Components : \u001b[1;36m1\u001b[0m\n",
       "         Dimensions : \u001b[1m(\u001b[0m\u001b[1;36m81\u001b[0m, \u001b[1;36m46\u001b[0m, \u001b[1;36m60\u001b[0m\u001b[1m)\u001b[0m\n",
       "         Spacing    : \u001b[1m(\u001b[0m\u001b[1;36m200.0\u001b[0m, \u001b[1;36m200.0\u001b[0m, \u001b[1;36m200.0\u001b[0m\u001b[1m)\u001b[0m\n",
       "         Origin     : \u001b[1m(\u001b[0m\u001b[1;36m-7.8\u001b[0m, \u001b[1;36m-6.2\u001b[0m, \u001b[1;36m6.4\u001b[0m\u001b[1m)\u001b[0m\n",
       "         Direction  : \u001b[1m[\u001b[0m\u001b[1;36m1\u001b[0m. \u001b[1;36m0\u001b[0m. \u001b[1;36m0\u001b[0m. \u001b[1;36m0\u001b[0m. \u001b[1;36m1\u001b[0m. \u001b[1;36m0\u001b[0m. \u001b[1;36m0\u001b[0m. \u001b[1;36m0\u001b[0m. \u001b[1;36m1\u001b[0m.\u001b[1m]\u001b[0m\n",
       "\n"
      ]
     },
     "metadata": {},
     "output_type": "display_data"
    }
   ],
   "source": [
    "reg.in_house"
   ]
  },
  {
   "cell_type": "code",
   "execution_count": 5,
   "id": "27b9859d",
   "metadata": {},
   "outputs": [
    {
     "data": {
      "text/html": [
       "<pre style=\"white-space:pre;overflow-x:auto;line-height:normal;font-family:Menlo,'DejaVu Sans Mono',consolas,'Courier New',monospace\">\n",
       "ANTsImage <span style=\"font-weight: bold\">(</span>RAI<span style=\"font-weight: bold\">)</span>\n",
       "         Pixel Type : float <span style=\"font-weight: bold\">(</span>float32<span style=\"font-weight: bold\">)</span>\n",
       "         Components : <span style=\"color: #008080; text-decoration-color: #008080; font-weight: bold\">1</span>\n",
       "         Dimensions : <span style=\"font-weight: bold\">(</span><span style=\"color: #008080; text-decoration-color: #008080; font-weight: bold\">132</span>, <span style=\"color: #008080; text-decoration-color: #008080; font-weight: bold\">80</span>, <span style=\"color: #008080; text-decoration-color: #008080; font-weight: bold\">114</span><span style=\"font-weight: bold\">)</span>\n",
       "         Spacing    : <span style=\"font-weight: bold\">(</span><span style=\"color: #008080; text-decoration-color: #008080; font-weight: bold\">100.0</span>, <span style=\"color: #008080; text-decoration-color: #008080; font-weight: bold\">100.0</span>, <span style=\"color: #008080; text-decoration-color: #008080; font-weight: bold\">100.0</span><span style=\"font-weight: bold\">)</span>\n",
       "         Origin     : <span style=\"font-weight: bold\">(</span><span style=\"color: #008080; text-decoration-color: #008080; font-weight: bold\">0.0</span>, <span style=\"color: #008080; text-decoration-color: #008080; font-weight: bold\">0.0</span>, <span style=\"color: #008080; text-decoration-color: #008080; font-weight: bold\">0.0</span><span style=\"font-weight: bold\">)</span>\n",
       "         Direction  : <span style=\"font-weight: bold\">[</span><span style=\"color: #008080; text-decoration-color: #008080; font-weight: bold\">1</span>. <span style=\"color: #008080; text-decoration-color: #008080; font-weight: bold\">0</span>. <span style=\"color: #008080; text-decoration-color: #008080; font-weight: bold\">0</span>. <span style=\"color: #008080; text-decoration-color: #008080; font-weight: bold\">0</span>. <span style=\"color: #008080; text-decoration-color: #008080; font-weight: bold\">1</span>. <span style=\"color: #008080; text-decoration-color: #008080; font-weight: bold\">0</span>. <span style=\"color: #008080; text-decoration-color: #008080; font-weight: bold\">0</span>. <span style=\"color: #008080; text-decoration-color: #008080; font-weight: bold\">0</span>. <span style=\"color: #008080; text-decoration-color: #008080; font-weight: bold\">1</span>.<span style=\"font-weight: bold\">]</span>\n",
       "\n",
       "</pre>\n"
      ],
      "text/plain": [
       "\n",
       "ANTsImage \u001b[1m(\u001b[0mRAI\u001b[1m)\u001b[0m\n",
       "         Pixel Type : float \u001b[1m(\u001b[0mfloat32\u001b[1m)\u001b[0m\n",
       "         Components : \u001b[1;36m1\u001b[0m\n",
       "         Dimensions : \u001b[1m(\u001b[0m\u001b[1;36m132\u001b[0m, \u001b[1;36m80\u001b[0m, \u001b[1;36m114\u001b[0m\u001b[1m)\u001b[0m\n",
       "         Spacing    : \u001b[1m(\u001b[0m\u001b[1;36m100.0\u001b[0m, \u001b[1;36m100.0\u001b[0m, \u001b[1;36m100.0\u001b[0m\u001b[1m)\u001b[0m\n",
       "         Origin     : \u001b[1m(\u001b[0m\u001b[1;36m0.0\u001b[0m, \u001b[1;36m0.0\u001b[0m, \u001b[1;36m0.0\u001b[0m\u001b[1m)\u001b[0m\n",
       "         Direction  : \u001b[1m[\u001b[0m\u001b[1;36m1\u001b[0m. \u001b[1;36m0\u001b[0m. \u001b[1;36m0\u001b[0m. \u001b[1;36m0\u001b[0m. \u001b[1;36m1\u001b[0m. \u001b[1;36m0\u001b[0m. \u001b[1;36m0\u001b[0m. \u001b[1;36m0\u001b[0m. \u001b[1;36m1\u001b[0m.\u001b[1m]\u001b[0m\n",
       "\n"
      ]
     },
     "metadata": {},
     "output_type": "display_data"
    }
   ],
   "source": [
    "reg.nissl"
   ]
  },
  {
   "cell_type": "code",
   "execution_count": null,
   "id": "6aabd07e",
   "metadata": {},
   "outputs": [],
   "source": []
  },
  {
   "cell_type": "code",
   "execution_count": null,
   "id": "0f4f307c",
   "metadata": {},
   "outputs": [],
   "source": []
  },
  {
   "cell_type": "code",
   "execution_count": null,
   "id": "8d71ab62",
   "metadata": {},
   "outputs": [],
   "source": []
  },
  {
   "cell_type": "code",
   "execution_count": 6,
   "id": "8480970b",
   "metadata": {},
   "outputs": [
    {
     "data": {
      "text/html": [
       "<pre style=\"white-space:pre;overflow-x:auto;line-height:normal;font-family:Menlo,'DejaVu Sans Mono',consolas,'Courier New',monospace\">\n",
       "<span style=\"font-weight: bold\">{</span>\n",
       "    <span style=\"color: #008000; text-decoration-color: #008000\">'types'</span>: <span style=\"font-weight: bold\">[</span><span style=\"color: #008000; text-decoration-color: #008000\">'SyN'</span>, <span style=\"color: #008000; text-decoration-color: #008000\">'ElasticSyN'</span><span style=\"font-weight: bold\">]</span>,\n",
       "    <span style=\"color: #008000; text-decoration-color: #008000\">'grads'</span>: <span style=\"font-weight: bold\">[</span><span style=\"color: #008080; text-decoration-color: #008080; font-weight: bold\">0.2</span>, <span style=\"color: #008080; text-decoration-color: #008080; font-weight: bold\">0.25</span>, <span style=\"color: #008080; text-decoration-color: #008080; font-weight: bold\">0.3</span>, <span style=\"color: #008080; text-decoration-color: #008080; font-weight: bold\">0.35</span>, <span style=\"color: #008080; text-decoration-color: #008080; font-weight: bold\">0.4</span>, <span style=\"color: #008080; text-decoration-color: #008080; font-weight: bold\">0.5</span>, <span style=\"color: #008080; text-decoration-color: #008080; font-weight: bold\">0.9</span>, <span style=\"color: #008080; text-decoration-color: #008080; font-weight: bold\">1.2</span>, <span style=\"color: #008080; text-decoration-color: #008080; font-weight: bold\">1.5</span><span style=\"font-weight: bold\">]</span>,\n",
       "    <span style=\"color: #008000; text-decoration-color: #008000\">'syn_bins'</span>: <span style=\"font-weight: bold\">[</span><span style=\"color: #008080; text-decoration-color: #008080; font-weight: bold\">64</span>, <span style=\"color: #008080; text-decoration-color: #008080; font-weight: bold\">32</span>, <span style=\"color: #008080; text-decoration-color: #008080; font-weight: bold\">16</span>, <span style=\"color: #008080; text-decoration-color: #008080; font-weight: bold\">8</span><span style=\"font-weight: bold\">]</span>,\n",
       "    <span style=\"color: #008000; text-decoration-color: #008000\">'aff_bins'</span>: <span style=\"font-weight: bold\">[</span><span style=\"color: #008080; text-decoration-color: #008080; font-weight: bold\">13</span>, <span style=\"color: #008080; text-decoration-color: #008080; font-weight: bold\">20</span>, <span style=\"color: #008080; text-decoration-color: #008080; font-weight: bold\">32</span>, <span style=\"color: #008080; text-decoration-color: #008080; font-weight: bold\">64</span><span style=\"font-weight: bold\">]</span>,\n",
       "    <span style=\"color: #008000; text-decoration-color: #008000\">'aff_rates'</span>: <span style=\"font-weight: bold\">[</span><span style=\"color: #008080; text-decoration-color: #008080; font-weight: bold\">0.2</span>, <span style=\"color: #008080; text-decoration-color: #008080; font-weight: bold\">0.6</span>, <span style=\"color: #008080; text-decoration-color: #008080; font-weight: bold\">0.8</span><span style=\"font-weight: bold\">]</span>,\n",
       "    <span style=\"color: #008000; text-decoration-color: #008000\">'aff_metric'</span>: <span style=\"color: #008000; text-decoration-color: #008000\">'mattes'</span>,\n",
       "    <span style=\"color: #008000; text-decoration-color: #008000\">'syn_metric'</span>: <span style=\"color: #008000; text-decoration-color: #008000\">'mattes'</span>,\n",
       "    <span style=\"color: #008000; text-decoration-color: #008000\">'mi_q'</span>: <span style=\"color: #008080; text-decoration-color: #008080; font-weight: bold\">0.5</span>,\n",
       "    <span style=\"color: #008000; text-decoration-color: #008000\">'n_seeds'</span>: <span style=\"color: #008080; text-decoration-color: #008080; font-weight: bold\">10</span>\n",
       "<span style=\"font-weight: bold\">}</span>\n",
       "</pre>\n"
      ],
      "text/plain": [
       "\n",
       "\u001b[1m{\u001b[0m\n",
       "    \u001b[32m'types'\u001b[0m: \u001b[1m[\u001b[0m\u001b[32m'SyN'\u001b[0m, \u001b[32m'ElasticSyN'\u001b[0m\u001b[1m]\u001b[0m,\n",
       "    \u001b[32m'grads'\u001b[0m: \u001b[1m[\u001b[0m\u001b[1;36m0.2\u001b[0m, \u001b[1;36m0.25\u001b[0m, \u001b[1;36m0.3\u001b[0m, \u001b[1;36m0.35\u001b[0m, \u001b[1;36m0.4\u001b[0m, \u001b[1;36m0.5\u001b[0m, \u001b[1;36m0.9\u001b[0m, \u001b[1;36m1.2\u001b[0m, \u001b[1;36m1.5\u001b[0m\u001b[1m]\u001b[0m,\n",
       "    \u001b[32m'syn_bins'\u001b[0m: \u001b[1m[\u001b[0m\u001b[1;36m64\u001b[0m, \u001b[1;36m32\u001b[0m, \u001b[1;36m16\u001b[0m, \u001b[1;36m8\u001b[0m\u001b[1m]\u001b[0m,\n",
       "    \u001b[32m'aff_bins'\u001b[0m: \u001b[1m[\u001b[0m\u001b[1;36m13\u001b[0m, \u001b[1;36m20\u001b[0m, \u001b[1;36m32\u001b[0m, \u001b[1;36m64\u001b[0m\u001b[1m]\u001b[0m,\n",
       "    \u001b[32m'aff_rates'\u001b[0m: \u001b[1m[\u001b[0m\u001b[1;36m0.2\u001b[0m, \u001b[1;36m0.6\u001b[0m, \u001b[1;36m0.8\u001b[0m\u001b[1m]\u001b[0m,\n",
       "    \u001b[32m'aff_metric'\u001b[0m: \u001b[32m'mattes'\u001b[0m,\n",
       "    \u001b[32m'syn_metric'\u001b[0m: \u001b[32m'mattes'\u001b[0m,\n",
       "    \u001b[32m'mi_q'\u001b[0m: \u001b[1;36m0.5\u001b[0m,\n",
       "    \u001b[32m'n_seeds'\u001b[0m: \u001b[1;36m10\u001b[0m\n",
       "\u001b[1m}\u001b[0m\n"
      ]
     },
     "metadata": {},
     "output_type": "display_data"
    }
   ],
   "source": [
    "kwargs = {\n",
    "    'types': ['SyN', 'ElasticSyN'],\n",
    "    'grads': [0.20, 0.25, 0.3, 0.35, 0.40, 0.5, 0.9, 1.2, 1.5],\n",
    "    'syn_bins': [64, 32, 16, 8],\n",
    "    'aff_bins': [13, 20, 32, 64],\n",
    "    'aff_rates': [0.2, 0.6, 0.8],\n",
    "    'aff_metric': 'mattes',\n",
    "    'syn_metric': 'mattes',\n",
    "    'mi_q': 0.5,\n",
    "    'n_seeds': 10,\n",
    "}\n",
    "kwargs"
   ]
  },
  {
   "cell_type": "code",
   "execution_count": null,
   "id": "41024f1d",
   "metadata": {},
   "outputs": [],
   "source": []
  },
  {
   "cell_type": "code",
   "execution_count": 7,
   "id": "b60982f1",
   "metadata": {},
   "outputs": [],
   "source": [
    "reg.set_mode('bold')\n",
    "reg.mi_base = None"
   ]
  },
  {
   "cell_type": "code",
   "execution_count": 8,
   "id": "64b5fc85",
   "metadata": {},
   "outputs": [
    {
     "data": {
      "image/png": "[encoded data removed]"
     },
     "metadata": {},
     "output_type": "display_data"
    },
    {
     "data": {
      "text/html": [
       "<pre style=\"white-space:pre;overflow-x:auto;line-height:normal;font-family:Menlo,'DejaVu Sans Mono',consolas,'Courier New',monospace\">Symmetric_N162, perf:\n",
       "seed                 <span style=\"color: #008080; text-decoration-color: #008080; font-weight: bold\">7</span>\n",
       "type        ElasticSyN\n",
       "grad               <span style=\"color: #008080; text-decoration-color: #008080; font-weight: bold\">0.9</span>\n",
       "syn_bin             <span style=\"color: #008080; text-decoration-color: #008080; font-weight: bold\">32</span>\n",
       "aff_bin             <span style=\"color: #008080; text-decoration-color: #008080; font-weight: bold\">13</span>\n",
       "aff_rate           <span style=\"color: #008080; text-decoration-color: #008080; font-weight: bold\">0.6</span>\n",
       "metric             sym\n",
       "score         <span style=\"color: #008080; text-decoration-color: #008080; font-weight: bold\">0.990933</span>\n",
       "\n",
       "</pre>\n"
      ],
      "text/plain": [
       "Symmetric_N162, perf:\n",
       "seed                 \u001b[1;36m7\u001b[0m\n",
       "type        ElasticSyN\n",
       "grad               \u001b[1;36m0.9\u001b[0m\n",
       "syn_bin             \u001b[1;36m32\u001b[0m\n",
       "aff_bin             \u001b[1;36m13\u001b[0m\n",
       "aff_rate           \u001b[1;36m0.6\u001b[0m\n",
       "metric             sym\n",
       "score         \u001b[1;36m0.990933\u001b[0m\n",
       "\n"
      ]
     },
     "metadata": {},
     "output_type": "display_data"
    },
    {
     "ename": "TypeError",
     "evalue": "'NoneType' object is not subscriptable",
     "output_type": "error",
     "traceback": [
      "\u001b[0;31m---------------------------------------------------------------------------\u001b[0m",
      "\u001b[0;31mTypeError\u001b[0m                                 Traceback (most recent call last)",
      "\u001b[0;32m/tmp/ipykernel_3255689/1420153608.py\u001b[0m in \u001b[0;36m<module>\u001b[0;34m\u001b[0m\n\u001b[0;32m----> 1\u001b[0;31m results = reg.fit_register(\n\u001b[0m\u001b[1;32m      2\u001b[0m     \u001b[0mname\u001b[0m\u001b[0;34m=\u001b[0m\u001b[0mreg\u001b[0m\u001b[0;34m.\u001b[0m\u001b[0min_house_name\u001b[0m\u001b[0;34m,\u001b[0m\u001b[0;34m\u001b[0m\u001b[0;34m\u001b[0m\u001b[0m\n\u001b[1;32m      3\u001b[0m     \u001b[0mmoving\u001b[0m\u001b[0;34m=\u001b[0m\u001b[0mreg\u001b[0m\u001b[0;34m.\u001b[0m\u001b[0min_house\u001b[0m\u001b[0;34m,\u001b[0m\u001b[0;34m\u001b[0m\u001b[0;34m\u001b[0m\u001b[0m\n\u001b[1;32m      4\u001b[0m     \u001b[0mfixed\u001b[0m\u001b[0;34m=\u001b[0m\u001b[0mreg\u001b[0m\u001b[0;34m.\u001b[0m\u001b[0mnissl\u001b[0m\u001b[0;34m,\u001b[0m\u001b[0;34m\u001b[0m\u001b[0;34m\u001b[0m\u001b[0m\n\u001b[1;32m      5\u001b[0m     \u001b[0msave_results\u001b[0m\u001b[0;34m=\u001b[0m\u001b[0;32mTrue\u001b[0m\u001b[0;34m,\u001b[0m\u001b[0;34m\u001b[0m\u001b[0;34m\u001b[0m\u001b[0m\n",
      "\u001b[0;32m~/Dropbox/git/_Ca-fMRI/register/register.py\u001b[0m in \u001b[0;36mfit_register\u001b[0;34m(self, name, fixed, moving, logger, syn_metric, aff_metric, affine_init, save_results, types, grads, syn_bins, aff_bins, aff_rates, mi_q, n_seeds)\u001b[0m\n\u001b[1;32m    507\u001b[0m                 \u001b[0;32mif\u001b[0m \u001b[0msave_results\u001b[0m\u001b[0;34m:\u001b[0m\u001b[0;34m\u001b[0m\u001b[0;34m\u001b[0m\u001b[0m\n\u001b[1;32m    508\u001b[0m                         \u001b[0mself\u001b[0m\u001b[0;34m.\u001b[0m\u001b[0m_sv_tx\u001b[0m\u001b[0;34m(\u001b[0m\u001b[0mname\u001b[0m\u001b[0;34m,\u001b[0m \u001b[0mbest_tx\u001b[0m\u001b[0;34m,\u001b[0m \u001b[0;32mTrue\u001b[0m\u001b[0;34m)\u001b[0m\u001b[0;34m\u001b[0m\u001b[0;34m\u001b[0m\u001b[0m\n\u001b[0;32m--> 509\u001b[0;31m \t\t\tself._apply_tx_obj2lps(\n\u001b[0m\u001b[1;32m    510\u001b[0m                                 \u001b[0mname\u001b[0m\u001b[0;34m=\u001b[0m\u001b[0mname\u001b[0m\u001b[0;34m,\u001b[0m\u001b[0;34m\u001b[0m\u001b[0;34m\u001b[0m\u001b[0m\n\u001b[1;32m    511\u001b[0m                                 \u001b[0mmoving\u001b[0m\u001b[0;34m=\u001b[0m\u001b[0mmoving_aff\u001b[0m \u001b[0;32mif\u001b[0m\u001b[0;34m\u001b[0m\u001b[0;34m\u001b[0m\u001b[0m\n",
      "\u001b[0;32m~/Dropbox/git/_Ca-fMRI/register/register.py\u001b[0m in \u001b[0;36m_apply_tx_obj2lps\u001b[0;34m(self, name, moving, moving_orig, tx, tx_aff, save_results, use_mm, obj)\u001b[0m\n\u001b[1;32m    723\u001b[0m \t\t\t]\n\u001b[1;32m    724\u001b[0m                         \u001b[0;32mif\u001b[0m \u001b[0mself\u001b[0m\u001b[0;34m.\u001b[0m\u001b[0mmode\u001b[0m \u001b[0;34m==\u001b[0m \u001b[0;34m'bold'\u001b[0m\u001b[0;34m:\u001b[0m\u001b[0;34m\u001b[0m\u001b[0;34m\u001b[0m\u001b[0m\n\u001b[0;32m--> 725\u001b[0;31m \t\t\t\tobj = {\n\u001b[0m\u001b[1;32m    726\u001b[0m                                         \u001b[0mitem\u001b[0m\u001b[0;34m:\u001b[0m \u001b[0mself\u001b[0m\u001b[0;34m.\u001b[0m\u001b[0mmice\u001b[0m\u001b[0;34m.\u001b[0m\u001b[0mparcel\u001b[0m\u001b[0;34m[\u001b[0m\u001b[0mitem\u001b[0m\u001b[0;34m]\u001b[0m\u001b[0;34m[\u001b[0m\u001b[0;34m:\u001b[0m\u001b[0;34m]\u001b[0m\u001b[0;34m\u001b[0m\u001b[0;34m\u001b[0m\u001b[0m\n\u001b[1;32m    727\u001b[0m                                         \u001b[0;32mfor\u001b[0m \u001b[0mitem\u001b[0m \u001b[0;32min\u001b[0m \u001b[0mobj\u001b[0m\u001b[0;34m\u001b[0m\u001b[0;34m\u001b[0m\u001b[0m\n",
      "\u001b[0;32m~/Dropbox/git/_Ca-fMRI/register/register.py\u001b[0m in \u001b[0;36m<dictcomp>\u001b[0;34m(.0)\u001b[0m\n\u001b[1;32m    724\u001b[0m                         \u001b[0;32mif\u001b[0m \u001b[0mself\u001b[0m\u001b[0;34m.\u001b[0m\u001b[0mmode\u001b[0m \u001b[0;34m==\u001b[0m \u001b[0;34m'bold'\u001b[0m\u001b[0;34m:\u001b[0m\u001b[0;34m\u001b[0m\u001b[0;34m\u001b[0m\u001b[0m\n\u001b[1;32m    725\u001b[0m \t\t\t\tobj = {\n\u001b[0;32m--> 726\u001b[0;31m                                         \u001b[0mitem\u001b[0m\u001b[0;34m:\u001b[0m \u001b[0mself\u001b[0m\u001b[0;34m.\u001b[0m\u001b[0mmice\u001b[0m\u001b[0;34m.\u001b[0m\u001b[0mparcel\u001b[0m\u001b[0;34m[\u001b[0m\u001b[0mitem\u001b[0m\u001b[0;34m]\u001b[0m\u001b[0;34m[\u001b[0m\u001b[0;34m:\u001b[0m\u001b[0;34m]\u001b[0m\u001b[0;34m\u001b[0m\u001b[0;34m\u001b[0m\u001b[0m\n\u001b[0m\u001b[1;32m    727\u001b[0m                                         \u001b[0;32mfor\u001b[0m \u001b[0mitem\u001b[0m \u001b[0;32min\u001b[0m \u001b[0mobj\u001b[0m\u001b[0;34m\u001b[0m\u001b[0;34m\u001b[0m\u001b[0m\n\u001b[1;32m    728\u001b[0m \t\t\t\t}\n",
      "\u001b[0;31mTypeError\u001b[0m: 'NoneType' object is not subscriptable"
     ]
    }
   ],
   "source": [
    "results = reg.fit_register(\n",
    "    name=reg.in_house_name,\n",
    "    moving=reg.in_house,\n",
    "    fixed=reg.nissl,\n",
    "    save_results=True,\n",
    "    **kwargs\n",
    ")"
   ]
  },
  {
   "cell_type": "code",
   "execution_count": 9,
   "id": "48b0531d",
   "metadata": {},
   "outputs": [
    {
     "ename": "NameError",
     "evalue": "name 'results' is not defined",
     "output_type": "error",
     "traceback": [
      "\u001b[0;31m---------------------------------------------------------------------------\u001b[0m",
      "\u001b[0;31mNameError\u001b[0m                                 Traceback (most recent call last)",
      "\u001b[0;32m/tmp/ipykernel_3255689/3177313780.py\u001b[0m in \u001b[0;36m<module>\u001b[0;34m\u001b[0m\n\u001b[0;32m----> 1\u001b[0;31m \u001b[0msave_obj\u001b[0m\u001b[0;34m(\u001b[0m\u001b[0mresults\u001b[0m\u001b[0;34m,\u001b[0m \u001b[0;34mf\"fit_N162_{now()}\"\u001b[0m\u001b[0;34m,\u001b[0m \u001b[0mtmp_dir\u001b[0m\u001b[0;34m,\u001b[0m \u001b[0;34m'npy'\u001b[0m\u001b[0;34m)\u001b[0m\u001b[0;34m\u001b[0m\u001b[0;34m\u001b[0m\u001b[0m\n\u001b[0m",
      "\u001b[0;31mNameError\u001b[0m: name 'results' is not defined"
     ]
    }
   ],
   "source": [
    "save_obj(results, f\"fit_N162_{now()}\", tmp_dir, 'npy')"
   ]
  },
  {
   "cell_type": "markdown",
   "id": "5148fea1",
   "metadata": {},
   "source": [
    "2021-11-25 10:21:35,508 : INFO : register.register : Registering Symmetric_N162 . . .\n",
    "\n",
    "iso: 0.982 VIS: 0.989 CLA: 0.875 mi: 0.520 sym: 0.991 ovp: 0.997 . . . seed-7_type-ElasticSyN_grad-0.90_synbin-32_affbin-13_affrate-0.6"
   ]
  },
  {
   "cell_type": "code",
   "execution_count": null,
   "id": "14eab08c",
   "metadata": {},
   "outputs": [],
   "source": []
  },
  {
   "cell_type": "markdown",
   "id": "6ed76bdb",
   "metadata": {},
   "source": [
    "## Kaba continues"
   ]
  },
  {
   "cell_type": "code",
   "execution_count": 5,
   "id": "9751d05a",
   "metadata": {},
   "outputs": [],
   "source": [
    "self = reg"
   ]
  },
  {
   "cell_type": "code",
   "execution_count": 6,
   "id": "c034a0a2",
   "metadata": {},
   "outputs": [],
   "source": [
    "tx, tx_aff = self.load_tx(self.in_house_name)"
   ]
  },
  {
   "cell_type": "code",
   "execution_count": 7,
   "id": "c9b87bca",
   "metadata": {},
   "outputs": [
    {
     "data": {
      "text/html": [
       "<pre style=\"white-space:pre;overflow-x:auto;line-height:normal;font-family:Menlo,'DejaVu Sans Mono',consolas,'Courier New',monospace\"><span style=\"font-weight: bold\">[</span>\n",
       "    <span style=\"color: #008000; text-decoration-color: #008000\">'/home/hadi/Documents/Ca-fMRI/processed/transforms/Symmetric_N162_space-CCF3d_ants-inv.mat'</span>,\n",
       "    <span style=\"color: #008000; text-decoration-color: #008000\">'/home/hadi/Documents/Ca-fMRI/processed/transforms/Symmetric_N162_space-CCF3d_ants-inv.nii.gz'</span>\n",
       "<span style=\"font-weight: bold\">]</span>\n",
       "</pre>\n"
      ],
      "text/plain": [
       "\u001b[1m[\u001b[0m\n",
       "    \u001b[32m'/home/hadi/Documents/Ca-fMRI/processed/transforms/Symmetric_N162_space-CCF3d_ants-inv.mat'\u001b[0m,\n",
       "    \u001b[32m'/home/hadi/Documents/Ca-fMRI/processed/transforms/Symmetric_N162_space-CCF3d_ants-inv.nii.gz'\u001b[0m\n",
       "\u001b[1m]\u001b[0m\n"
      ]
     },
     "metadata": {},
     "output_type": "display_data"
    }
   ],
   "source": [
    "tx"
   ]
  },
  {
   "cell_type": "code",
   "execution_count": 8,
   "id": "c266dbb5",
   "metadata": {},
   "outputs": [
    {
     "data": {
      "text/html": [
       "<pre style=\"white-space:pre;overflow-x:auto;line-height:normal;font-family:Menlo,'DejaVu Sans Mono',consolas,'Courier New',monospace\">ANTsTransform\n",
       "         Type       : AffineTransform\n",
       "         Dimension  : <span style=\"color: #008080; text-decoration-color: #008080; font-weight: bold\">3</span>\n",
       "         Precision  : float\n",
       "\n",
       "</pre>\n"
      ],
      "text/plain": [
       "ANTsTransform\n",
       "         Type       : AffineTransform\n",
       "         Dimension  : \u001b[1;36m3\u001b[0m\n",
       "         Precision  : float\n",
       "\n"
      ]
     },
     "metadata": {},
     "output_type": "display_data"
    }
   ],
   "source": [
    "tx_aff"
   ]
  },
  {
   "cell_type": "code",
   "execution_count": 9,
   "id": "f7e74e2c",
   "metadata": {},
   "outputs": [],
   "source": [
    "affined = tx_aff.apply_to_image(\n",
    "    image=self.in_house,\n",
    "    reference=self.nissl,\n",
    "    interpolation='linear',\n",
    ")\n",
    "_ = self._apply_tx_obj2lps(\n",
    "    name=self.in_house_name,\n",
    "    moving=affined,\n",
    "    moving_orig=self.in_house,\n",
    "    tx_aff=tx_aff,\n",
    "    tx=tx,\n",
    "    use_mm=True,\n",
    "    save_results=True,\n",
    ")"
   ]
  },
  {
   "cell_type": "code",
   "execution_count": null,
   "id": "f4cd92b0",
   "metadata": {},
   "outputs": [],
   "source": []
  },
  {
   "cell_type": "code",
   "execution_count": null,
   "id": "aa4bf215",
   "metadata": {},
   "outputs": [],
   "source": []
  },
  {
   "cell_type": "code",
   "execution_count": null,
   "id": "c63a2e84",
   "metadata": {},
   "outputs": [],
   "source": []
  },
  {
   "cell_type": "code",
   "execution_count": null,
   "id": "0d0c9192",
   "metadata": {},
   "outputs": [],
   "source": []
  }
 ],
 "metadata": {
  "kernelspec": {
   "display_name": "Python 3",
   "language": "python",
   "name": "python3"
  },
  "language_info": {
   "codemirror_mode": {
    "name": "ipython",
    "version": 3
   },
   "file_extension": ".py",
   "mimetype": "text/x-python",
   "name": "python",
   "nbconvert_exporter": "python",
   "pygments_lexer": "ipython3",
   "version": "3.8.3"
  }
 },
 "nbformat": 4,
 "nbformat_minor": 5
}
