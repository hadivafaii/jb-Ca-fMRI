{
 "cells": [
  {
   "cell_type": "markdown",
   "id": "792db3af",
   "metadata": {},
   "source": [
    "# Load data for Fig 2E, Fig 3\n",
    "\n",
    "This data was exported as pandas DataFrame  <br>"
   ]
  },
  {
   "cell_type": "code",
   "execution_count": 1,
   "id": "82daa343",
   "metadata": {},
   "outputs": [],
   "source": [
    "import os\n",
    "import sys\n",
    "from os.path import join as pjoin\n",
    "\n",
    "import numpy as np\n",
    "import pandas as pd\n",
    "import seaborn as sns\n",
    "from matplotlib import pyplot as plt\n",
    "%matplotlib inline"
   ]
  },
  {
   "cell_type": "markdown",
   "id": "023e2899",
   "metadata": {},
   "source": [
    "## Fig dir"
   ]
  },
  {
   "cell_type": "code",
   "execution_count": 2,
   "id": "5bdb6f7c",
   "metadata": {},
   "outputs": [
    {
     "name": "stdout",
     "output_type": "stream",
     "text": [
      "/home/hadi/Dropbox/git/jb-Ca-fMRI/figs/paper2.0/n512-p15/DataExport\n"
     ]
    }
   ],
   "source": [
    "nn = 512\n",
    "perc = 15\n",
    "\n",
    "load_dir = pjoin(\n",
    "    os.environ['HOME'],\n",
    "    'Dropbox/git',\n",
    "    'jb-Ca-fMRI/figs',\n",
    "    'paper2.0',\n",
    "    f'n{nn}-p{perc}',\n",
    "    'DataExport',\n",
    ")\n",
    "print(load_dir)"
   ]
  },
  {
   "cell_type": "code",
   "execution_count": 3,
   "id": "bb705715",
   "metadata": {},
   "outputs": [
    {
     "data": {
      "text/plain": [
       "['sim.df', 'props.df']"
      ]
     },
     "execution_count": 3,
     "metadata": {},
     "output_type": "execute_result"
    }
   ],
   "source": [
    "os.listdir(load_dir)"
   ]
  },
  {
   "cell_type": "markdown",
   "id": "04be300c",
   "metadata": {},
   "source": [
    "## Load cosine similarity data (Fig 2E)"
   ]
  },
  {
   "cell_type": "code",
   "execution_count": 4,
   "id": "046b9609",
   "metadata": {},
   "outputs": [
    {
     "data": {
      "text/html": [
       "<div>\n",
       "<style scoped>\n",
       "    .dataframe tbody tr th:only-of-type {\n",
       "        vertical-align: middle;\n",
       "    }\n",
       "\n",
       "    .dataframe tbody tr th {\n",
       "        vertical-align: top;\n",
       "    }\n",
       "\n",
       "    .dataframe thead th {\n",
       "        text-align: right;\n",
       "    }\n",
       "</style>\n",
       "<table border=\"1\" class=\"dataframe\">\n",
       "  <thead>\n",
       "    <tr style=\"text-align: right;\">\n",
       "      <th></th>\n",
       "      <th>label</th>\n",
       "      <th>oc_idx</th>\n",
       "      <th>subject</th>\n",
       "      <th>score</th>\n",
       "      <th>se</th>\n",
       "    </tr>\n",
       "  </thead>\n",
       "  <tbody>\n",
       "    <tr>\n",
       "      <th>0</th>\n",
       "      <td>BOLD vs. Ca$^{2\\!\\!+}_{slow}$</td>\n",
       "      <td>1</td>\n",
       "      <td>sub-SLC01</td>\n",
       "      <td>0.889198</td>\n",
       "      <td>NaN</td>\n",
       "    </tr>\n",
       "    <tr>\n",
       "      <th>1</th>\n",
       "      <td>BOLD vs. Ca$^{2\\!\\!+}_{slow}$</td>\n",
       "      <td>1</td>\n",
       "      <td>sub-SLC02</td>\n",
       "      <td>0.796290</td>\n",
       "      <td>NaN</td>\n",
       "    </tr>\n",
       "    <tr>\n",
       "      <th>2</th>\n",
       "      <td>BOLD vs. Ca$^{2\\!\\!+}_{slow}$</td>\n",
       "      <td>1</td>\n",
       "      <td>sub-SLC03</td>\n",
       "      <td>0.836650</td>\n",
       "      <td>NaN</td>\n",
       "    </tr>\n",
       "    <tr>\n",
       "      <th>3</th>\n",
       "      <td>BOLD vs. Ca$^{2\\!\\!+}_{slow}$</td>\n",
       "      <td>1</td>\n",
       "      <td>sub-SLC04</td>\n",
       "      <td>0.807870</td>\n",
       "      <td>NaN</td>\n",
       "    </tr>\n",
       "    <tr>\n",
       "      <th>4</th>\n",
       "      <td>BOLD vs. Ca$^{2\\!\\!+}_{slow}$</td>\n",
       "      <td>1</td>\n",
       "      <td>sub-SLC05</td>\n",
       "      <td>0.888088</td>\n",
       "      <td>NaN</td>\n",
       "    </tr>\n",
       "    <tr>\n",
       "      <th>...</th>\n",
       "      <td>...</td>\n",
       "      <td>...</td>\n",
       "      <td>...</td>\n",
       "      <td>...</td>\n",
       "      <td>...</td>\n",
       "    </tr>\n",
       "    <tr>\n",
       "      <th>226</th>\n",
       "      <td>Ca$^{2\\!\\!+}_{slow}$ vs. Ca$^{2\\!\\!+}_{fast}$</td>\n",
       "      <td>7</td>\n",
       "      <td>sub-SLC07</td>\n",
       "      <td>0.980570</td>\n",
       "      <td>NaN</td>\n",
       "    </tr>\n",
       "    <tr>\n",
       "      <th>227</th>\n",
       "      <td>Ca$^{2\\!\\!+}_{slow}$ vs. Ca$^{2\\!\\!+}_{fast}$</td>\n",
       "      <td>7</td>\n",
       "      <td>sub-SLC08</td>\n",
       "      <td>0.983453</td>\n",
       "      <td>NaN</td>\n",
       "    </tr>\n",
       "    <tr>\n",
       "      <th>228</th>\n",
       "      <td>Ca$^{2\\!\\!+}_{slow}$ vs. Ca$^{2\\!\\!+}_{fast}$</td>\n",
       "      <td>7</td>\n",
       "      <td>sub-SLC09</td>\n",
       "      <td>0.941366</td>\n",
       "      <td>NaN</td>\n",
       "    </tr>\n",
       "    <tr>\n",
       "      <th>229</th>\n",
       "      <td>Ca$^{2\\!\\!+}_{slow}$ vs. Ca$^{2\\!\\!+}_{fast}$</td>\n",
       "      <td>7</td>\n",
       "      <td>sub-SLC10</td>\n",
       "      <td>0.932687</td>\n",
       "      <td>NaN</td>\n",
       "    </tr>\n",
       "    <tr>\n",
       "      <th>230</th>\n",
       "      <td>Ca$^{2\\!\\!+}_{slow}$ vs. Ca$^{2\\!\\!+}_{fast}$</td>\n",
       "      <td>7</td>\n",
       "      <td>group</td>\n",
       "      <td>0.940940</td>\n",
       "      <td>0.019324</td>\n",
       "    </tr>\n",
       "  </tbody>\n",
       "</table>\n",
       "<p>231 rows × 5 columns</p>\n",
       "</div>"
      ],
      "text/plain": [
       "                                             label  oc_idx    subject  \\\n",
       "0                    BOLD vs. Ca$^{2\\!\\!+}_{slow}$       1  sub-SLC01   \n",
       "1                    BOLD vs. Ca$^{2\\!\\!+}_{slow}$       1  sub-SLC02   \n",
       "2                    BOLD vs. Ca$^{2\\!\\!+}_{slow}$       1  sub-SLC03   \n",
       "3                    BOLD vs. Ca$^{2\\!\\!+}_{slow}$       1  sub-SLC04   \n",
       "4                    BOLD vs. Ca$^{2\\!\\!+}_{slow}$       1  sub-SLC05   \n",
       "..                                             ...     ...        ...   \n",
       "226  Ca$^{2\\!\\!+}_{slow}$ vs. Ca$^{2\\!\\!+}_{fast}$       7  sub-SLC07   \n",
       "227  Ca$^{2\\!\\!+}_{slow}$ vs. Ca$^{2\\!\\!+}_{fast}$       7  sub-SLC08   \n",
       "228  Ca$^{2\\!\\!+}_{slow}$ vs. Ca$^{2\\!\\!+}_{fast}$       7  sub-SLC09   \n",
       "229  Ca$^{2\\!\\!+}_{slow}$ vs. Ca$^{2\\!\\!+}_{fast}$       7  sub-SLC10   \n",
       "230  Ca$^{2\\!\\!+}_{slow}$ vs. Ca$^{2\\!\\!+}_{fast}$       7      group   \n",
       "\n",
       "        score        se  \n",
       "0    0.889198       NaN  \n",
       "1    0.796290       NaN  \n",
       "2    0.836650       NaN  \n",
       "3    0.807870       NaN  \n",
       "4    0.888088       NaN  \n",
       "..        ...       ...  \n",
       "226  0.980570       NaN  \n",
       "227  0.983453       NaN  \n",
       "228  0.941366       NaN  \n",
       "229  0.932687       NaN  \n",
       "230  0.940940  0.019324  \n",
       "\n",
       "[231 rows x 5 columns]"
      ]
     },
     "execution_count": 4,
     "metadata": {},
     "output_type": "execute_result"
    }
   ],
   "source": [
    "sim = pd.read_pickle(pjoin(load_dir, 'sim.df'))\n",
    "sim"
   ]
  },
  {
   "cell_type": "code",
   "execution_count": null,
   "id": "c8603a18",
   "metadata": {},
   "outputs": [],
   "source": []
  },
  {
   "cell_type": "code",
   "execution_count": 5,
   "id": "540efe33",
   "metadata": {},
   "outputs": [
    {
     "data": {
      "text/plain": [
       "Index(['label', 'oc_idx', 'subject', 'score', 'se'], dtype='object')"
      ]
     },
     "execution_count": 5,
     "metadata": {},
     "output_type": "execute_result"
    }
   ],
   "source": [
    "sim.columns"
   ]
  },
  {
   "cell_type": "markdown",
   "id": "f08e332a",
   "metadata": {},
   "source": [
    "### Explanation of dataframe columns\n",
    "\n",
    "- **'label'**: has information about conditions compared.\n",
    "- **'oc_idx'**: community index, there are a total of 7 communities.\n",
    "- **'subejct'**: There are 10 animals, and one 'group' condition which is just the average over all 10 subejcts.\n",
    "- **'score'**: cosine similarity score.\n",
    "- **'se'**: standard error of the mean, computed using bootstrap. Naturally, this number is only defined for 'group'."
   ]
  },
  {
   "cell_type": "code",
   "execution_count": 6,
   "id": "b8bf5a0f",
   "metadata": {},
   "outputs": [
    {
     "data": {
      "text/plain": [
       "array(['sub-SLC01', 'sub-SLC02', 'sub-SLC03', 'sub-SLC04', 'sub-SLC05',\n",
       "       'sub-SLC06', 'sub-SLC07', 'sub-SLC08', 'sub-SLC09', 'sub-SLC10',\n",
       "       'group'], dtype=object)"
      ]
     },
     "execution_count": 6,
     "metadata": {},
     "output_type": "execute_result"
    }
   ],
   "source": [
    "sim['subject'].unique()"
   ]
  },
  {
   "cell_type": "code",
   "execution_count": null,
   "id": "f2fdf1cb",
   "metadata": {},
   "outputs": [],
   "source": []
  },
  {
   "cell_type": "markdown",
   "id": "9cf4ebb5",
   "metadata": {},
   "source": [
    "### Quick plot showing data"
   ]
  },
  {
   "cell_type": "code",
   "execution_count": 7,
   "id": "69f63949",
   "metadata": {},
   "outputs": [
    {
     "data": {
      "image/png": "[encoded data removed]",
      "text/plain": [
       "<Figure size 432x288 with 1 Axes>"
      ]
     },
     "metadata": {
      "needs_background": "light"
     },
     "output_type": "display_data"
    }
   ],
   "source": [
    "ax = sns.pointplot(\n",
    "    data=sim.loc[sim['subject'] == 'group'],\n",
    "    x='oc_idx',\n",
    "    y='score',\n",
    "    hue='label',\n",
    ")\n",
    "ax.set_ylim(0.2, 1.0)\n",
    "ax.grid(ls=':')\n",
    "plt.show()"
   ]
  },
  {
   "cell_type": "code",
   "execution_count": null,
   "id": "0686ad38",
   "metadata": {},
   "outputs": [],
   "source": []
  },
  {
   "cell_type": "code",
   "execution_count": null,
   "id": "19836346",
   "metadata": {},
   "outputs": [],
   "source": []
  },
  {
   "cell_type": "code",
   "execution_count": null,
   "id": "509c4795",
   "metadata": {},
   "outputs": [],
   "source": []
  },
  {
   "cell_type": "markdown",
   "id": "f7bb5521",
   "metadata": {},
   "source": [
    "## Load proportions data (Fig 3)"
   ]
  },
  {
   "cell_type": "code",
   "execution_count": 8,
   "id": "27e0476b",
   "metadata": {},
   "outputs": [
    {
     "data": {
      "text/html": [
       "<div>\n",
       "<style scoped>\n",
       "    .dataframe tbody tr th:only-of-type {\n",
       "        vertical-align: middle;\n",
       "    }\n",
       "\n",
       "    .dataframe tbody tr th {\n",
       "        vertical-align: top;\n",
       "    }\n",
       "\n",
       "    .dataframe thead th {\n",
       "        text-align: right;\n",
       "    }\n",
       "</style>\n",
       "<table border=\"1\" class=\"dataframe\">\n",
       "  <thead>\n",
       "    <tr style=\"text-align: right;\">\n",
       "      <th></th>\n",
       "      <th>mode</th>\n",
       "      <th>oc_idx</th>\n",
       "      <th>subject</th>\n",
       "      <th>interval</th>\n",
       "      <th>x</th>\n",
       "      <th>y</th>\n",
       "      <th>se</th>\n",
       "    </tr>\n",
       "  </thead>\n",
       "  <tbody>\n",
       "    <tr>\n",
       "      <th>0</th>\n",
       "      <td>BOLD</td>\n",
       "      <td>1</td>\n",
       "      <td>sub-SLC01</td>\n",
       "      <td>(0.2, 0.4]</td>\n",
       "      <td>0.3</td>\n",
       "      <td>41.492715</td>\n",
       "      <td>NaN</td>\n",
       "    </tr>\n",
       "    <tr>\n",
       "      <th>1</th>\n",
       "      <td>BOLD</td>\n",
       "      <td>2</td>\n",
       "      <td>sub-SLC01</td>\n",
       "      <td>(0.2, 0.4]</td>\n",
       "      <td>0.3</td>\n",
       "      <td>27.663289</td>\n",
       "      <td>NaN</td>\n",
       "    </tr>\n",
       "    <tr>\n",
       "      <th>2</th>\n",
       "      <td>BOLD</td>\n",
       "      <td>3</td>\n",
       "      <td>sub-SLC01</td>\n",
       "      <td>(0.2, 0.4]</td>\n",
       "      <td>0.3</td>\n",
       "      <td>20.770533</td>\n",
       "      <td>NaN</td>\n",
       "    </tr>\n",
       "    <tr>\n",
       "      <th>3</th>\n",
       "      <td>BOLD</td>\n",
       "      <td>4</td>\n",
       "      <td>sub-SLC01</td>\n",
       "      <td>(0.2, 0.4]</td>\n",
       "      <td>0.3</td>\n",
       "      <td>37.657186</td>\n",
       "      <td>NaN</td>\n",
       "    </tr>\n",
       "    <tr>\n",
       "      <th>4</th>\n",
       "      <td>BOLD</td>\n",
       "      <td>5</td>\n",
       "      <td>sub-SLC01</td>\n",
       "      <td>(0.2, 0.4]</td>\n",
       "      <td>0.3</td>\n",
       "      <td>28.191059</td>\n",
       "      <td>NaN</td>\n",
       "    </tr>\n",
       "    <tr>\n",
       "      <th>...</th>\n",
       "      <td>...</td>\n",
       "      <td>...</td>\n",
       "      <td>...</td>\n",
       "      <td>...</td>\n",
       "      <td>...</td>\n",
       "      <td>...</td>\n",
       "      <td>...</td>\n",
       "    </tr>\n",
       "    <tr>\n",
       "      <th>919</th>\n",
       "      <td>Ca$^{2\\!\\!+}_{fast}$</td>\n",
       "      <td>3</td>\n",
       "      <td>group</td>\n",
       "      <td>(0.8, 1.0]</td>\n",
       "      <td>0.9</td>\n",
       "      <td>68.020585</td>\n",
       "      <td>2.249482</td>\n",
       "    </tr>\n",
       "    <tr>\n",
       "      <th>920</th>\n",
       "      <td>Ca$^{2\\!\\!+}_{fast}$</td>\n",
       "      <td>4</td>\n",
       "      <td>group</td>\n",
       "      <td>(0.8, 1.0]</td>\n",
       "      <td>0.9</td>\n",
       "      <td>29.269927</td>\n",
       "      <td>2.785759</td>\n",
       "    </tr>\n",
       "    <tr>\n",
       "      <th>921</th>\n",
       "      <td>Ca$^{2\\!\\!+}_{fast}$</td>\n",
       "      <td>5</td>\n",
       "      <td>group</td>\n",
       "      <td>(0.8, 1.0]</td>\n",
       "      <td>0.9</td>\n",
       "      <td>40.959380</td>\n",
       "      <td>2.727941</td>\n",
       "    </tr>\n",
       "    <tr>\n",
       "      <th>922</th>\n",
       "      <td>Ca$^{2\\!\\!+}_{fast}$</td>\n",
       "      <td>6</td>\n",
       "      <td>group</td>\n",
       "      <td>(0.8, 1.0]</td>\n",
       "      <td>0.9</td>\n",
       "      <td>30.779125</td>\n",
       "      <td>2.452376</td>\n",
       "    </tr>\n",
       "    <tr>\n",
       "      <th>923</th>\n",
       "      <td>Ca$^{2\\!\\!+}_{fast}$</td>\n",
       "      <td>7</td>\n",
       "      <td>group</td>\n",
       "      <td>(0.8, 1.0]</td>\n",
       "      <td>0.9</td>\n",
       "      <td>52.741050</td>\n",
       "      <td>2.268211</td>\n",
       "    </tr>\n",
       "  </tbody>\n",
       "</table>\n",
       "<p>924 rows × 7 columns</p>\n",
       "</div>"
      ],
      "text/plain": [
       "                     mode  oc_idx    subject    interval    x          y  \\\n",
       "0                    BOLD       1  sub-SLC01  (0.2, 0.4]  0.3  41.492715   \n",
       "1                    BOLD       2  sub-SLC01  (0.2, 0.4]  0.3  27.663289   \n",
       "2                    BOLD       3  sub-SLC01  (0.2, 0.4]  0.3  20.770533   \n",
       "3                    BOLD       4  sub-SLC01  (0.2, 0.4]  0.3  37.657186   \n",
       "4                    BOLD       5  sub-SLC01  (0.2, 0.4]  0.3  28.191059   \n",
       "..                    ...     ...        ...         ...  ...        ...   \n",
       "919  Ca$^{2\\!\\!+}_{fast}$       3      group  (0.8, 1.0]  0.9  68.020585   \n",
       "920  Ca$^{2\\!\\!+}_{fast}$       4      group  (0.8, 1.0]  0.9  29.269927   \n",
       "921  Ca$^{2\\!\\!+}_{fast}$       5      group  (0.8, 1.0]  0.9  40.959380   \n",
       "922  Ca$^{2\\!\\!+}_{fast}$       6      group  (0.8, 1.0]  0.9  30.779125   \n",
       "923  Ca$^{2\\!\\!+}_{fast}$       7      group  (0.8, 1.0]  0.9  52.741050   \n",
       "\n",
       "           se  \n",
       "0         NaN  \n",
       "1         NaN  \n",
       "2         NaN  \n",
       "3         NaN  \n",
       "4         NaN  \n",
       "..        ...  \n",
       "919  2.249482  \n",
       "920  2.785759  \n",
       "921  2.727941  \n",
       "922  2.452376  \n",
       "923  2.268211  \n",
       "\n",
       "[924 rows x 7 columns]"
      ]
     },
     "execution_count": 8,
     "metadata": {},
     "output_type": "execute_result"
    }
   ],
   "source": [
    "props = pd.read_pickle(pjoin(load_dir, 'props.df'))\n",
    "props"
   ]
  },
  {
   "cell_type": "code",
   "execution_count": null,
   "id": "d51f3213",
   "metadata": {},
   "outputs": [],
   "source": []
  },
  {
   "cell_type": "code",
   "execution_count": 9,
   "id": "07c4907a",
   "metadata": {},
   "outputs": [
    {
     "data": {
      "text/plain": [
       "Index(['mode', 'oc_idx', 'subject', 'interval', 'x', 'y', 'se'], dtype='object')"
      ]
     },
     "execution_count": 9,
     "metadata": {},
     "output_type": "execute_result"
    }
   ],
   "source": [
    "props.columns"
   ]
  },
  {
   "cell_type": "markdown",
   "id": "012ad7b9",
   "metadata": {},
   "source": [
    "### Explanation of columns\n",
    "\n",
    "- **'mode'**: Data modality, a total of 3 options.\n",
    "- **'oc_idx'**: community index, there are a total of 7 communities.\n",
    "- **'subejct'**: There are 10 animals, and one 'group' condition which is just the average over all 10 subejcts.\n",
    "- **'interval'**: Specifies membership bin edges.\n",
    "- **'x'**: Specifies mid point of each bin.\n",
    "- **'y'**: Propotion of nodes in a bin.\n",
    "- **'se'**: standard error of the mean, computed using bootstrap. Naturally, this number is only defined for 'group'."
   ]
  },
  {
   "cell_type": "code",
   "execution_count": 10,
   "id": "5b14ef62",
   "metadata": {},
   "outputs": [
    {
     "data": {
      "text/plain": [
       "array(['sub-SLC01', 'sub-SLC02', 'sub-SLC03', 'sub-SLC04', 'sub-SLC05',\n",
       "       'sub-SLC06', 'sub-SLC07', 'sub-SLC08', 'sub-SLC09', 'sub-SLC10',\n",
       "       'group'], dtype=object)"
      ]
     },
     "execution_count": 10,
     "metadata": {},
     "output_type": "execute_result"
    }
   ],
   "source": [
    "props['subject'].unique()"
   ]
  },
  {
   "cell_type": "code",
   "execution_count": null,
   "id": "e9eedd67",
   "metadata": {},
   "outputs": [],
   "source": []
  },
  {
   "cell_type": "code",
   "execution_count": null,
   "id": "a4d3af6f",
   "metadata": {},
   "outputs": [],
   "source": []
  },
  {
   "cell_type": "code",
   "execution_count": null,
   "id": "9fd4c54a",
   "metadata": {},
   "outputs": [],
   "source": []
  }
 ],
 "metadata": {
  "kernelspec": {
   "display_name": "Python 3 (ipykernel)",
   "language": "python",
   "name": "python3"
  },
  "language_info": {
   "codemirror_mode": {
    "name": "ipython",
    "version": 3
   },
   "file_extension": ".py",
   "mimetype": "text/x-python",
   "name": "python",
   "nbconvert_exporter": "python",
   "pygments_lexer": "ipython3",
   "version": "3.8.5"
  }
 },
 "nbformat": 4,
 "nbformat_minor": 5
}
